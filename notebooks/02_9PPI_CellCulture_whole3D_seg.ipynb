{
 "cells": [
  {
   "cell_type": "code",
   "execution_count": 1,
   "id": "9264e2c8-ed2c-452c-a646-d138ee37f493",
   "metadata": {
    "tags": []
   },
   "outputs": [],
   "source": [
    "import itertools\n",
    "import os\n",
    "import sys\n",
    "from pathlib import Path\n",
    "\n",
    "import cv2\n",
    "import matplotlib.pyplot as plt\n",
    "import numpy as np\n",
    "import pandas as pd\n",
    "import skimage.io\n",
    "\n",
    "from collections import defaultdict\n",
    "from tqdm.auto import tqdm\n",
    "from joblib import Parallel, delayed\n",
    "import re\n",
    "import h5py\n",
    "import napari\n",
    "import glob\n",
    "import natsort\n",
    "import tifffile as tiff\n"
   ]
  },
  {
   "cell_type": "code",
   "execution_count": 2,
   "id": "693fb5d2-5a0e-4636-8f28-cbaaaf8d3361",
   "metadata": {},
   "outputs": [],
   "source": [
    "%load_ext autoreload\n",
    "%autoreload 2"
   ]
  },
  {
   "cell_type": "code",
   "execution_count": 3,
   "id": "0ec5bc59-eccb-4086-a97f-663ae7284967",
   "metadata": {},
   "outputs": [],
   "source": [
    "p_dir = (Path().cwd().parents[0]).absolute()\n",
    "\n",
    "module_path = str(p_dir / \"src\")\n",
    " \n",
    "if module_path not in sys.path:\n",
    "    sys.path.append(module_path)"
   ]
  },
  {
   "cell_type": "code",
   "execution_count": 4,
   "id": "29cc01a4-f6bf-416c-8373-cb298a295923",
   "metadata": {},
   "outputs": [],
   "source": [
    "data_dir = (Path().cwd().parents[0] / 'data').absolute()\n",
    "data_raw = r'Y:\\coskun-lab\\Shuangyi\\ERK, YAP project_2022\\PLA\\HCC827 cell culture'\n"
   ]
  },
  {
   "cell_type": "markdown",
   "id": "f0f10740-e213-4324-917c-0808d2de9b57",
   "metadata": {
    "jp-MarkdownHeadingCollapsed": true,
    "tags": []
   },
   "source": [
    "# 3D segmentation"
   ]
  },
  {
   "cell_type": "code",
   "execution_count": 4,
   "id": "862afc69-1205-4c2a-a4ec-75c3755cd232",
   "metadata": {},
   "outputs": [],
   "source": [
    "from natsort import natsorted\n",
    "import tifffile as tiff\n",
    "\n",
    "def make_imgs_same_dim(imgs):\n",
    "    # Get max dimensions\n",
    "    shapes = np.array([img.shape[1:] for img in imgs])\n",
    "    min_x, min_y = shapes.min(axis=0)\n",
    "        \n",
    "    return [img[:, :min_x, :min_y] for img in imgs]"
   ]
  },
  {
   "cell_type": "code",
   "execution_count": 5,
   "id": "51d07cd3-888f-4d32-aa7c-aa30d61dc1ba",
   "metadata": {},
   "outputs": [],
   "source": [
    "df_imgs_path = data_dir / '9PPI Cell Culture' / '3D_Whole' /  'metadata' / 'imgs_reg_norm.csv'\n",
    "df_imgs = pd.read_csv(df_imgs_path)\n",
    "\n",
    "whole_seg_path = data_dir / '9PPI Cell Culture' / '3D_Whole' / 'imgs' / 'segmentation'\n",
    "mask_path = data_dir / '9PPI Cell Culture' / '3D_Whole' / 'imgs' / 'masks_3D'\n",
    "mask_path .mkdir(parents=True, exist_ok=True)"
   ]
  },
  {
   "cell_type": "code",
   "execution_count": 6,
   "id": "848ff650-44f6-4758-9b3f-aadae719c842",
   "metadata": {},
   "outputs": [
    {
     "name": "stdout",
     "output_type": "stream",
     "text": [
      ">>> GPU activated? YES\n"
     ]
    }
   ],
   "source": [
    "from cellpose import core, utils, io, models, metrics\n",
    "use_GPU = core.use_gpu()\n",
    "yn = ['NO', 'YES']\n",
    "print(f'>>> GPU activated? {yn[use_GPU]}')\n"
   ]
  },
  {
   "cell_type": "code",
   "execution_count": 7,
   "id": "f3f57c8b-150e-4b87-b27a-c6ab9ab8557c",
   "metadata": {},
   "outputs": [],
   "source": [
    "group = df_imgs.groupby(['Timepoint', 'FOV'])\n",
    "n_limit = 4\n",
    "\n",
    "for name, df_group in group:\n",
    "    exp = '_'.join(name)\n",
    "    f_names = glob.glob(str(whole_seg_path)+f'\\\\{exp}*')\n",
    "    f_names = natsorted(f_names)\n",
    "    \n",
    "    # Read imgs\n",
    "    imgs = [skimage.io.imread(f).transpose(2, 0, 1) for f in f_names]\n",
    "    imgs = np.stack(make_imgs_same_dim(imgs))\n",
    "    imgs_middle = imgs[n_limit:-n_limit]\n",
    "    \n",
    "    # declare model\n",
    "    model = models.CellposeModel(gpu=True, model_type='CP')\n",
    "\n",
    "    # run model on test images\n",
    "    masks, flows, styles = model.eval(imgs_middle, \n",
    "                                  channels=[2,3],\n",
    "                                  diameter=180,\n",
    "                                  flow_threshold=0.6,\n",
    "                                  cellprob_threshold=-3,\n",
    "                                  do_3D=True,\n",
    "                                  anisotropy= 2.1, \n",
    "                                  )\n",
    "    \n",
    "    file_path = mask_path / f'{exp}.tif'\n",
    "    tiff.imwrite(file_path, masks)\n",
    "    \n",
    "    # declare model\n",
    "    model = models.CellposeModel(gpu=True, model_type='nuclei')\n",
    "    # run model on test images\n",
    "    masks, flows, styles = model.eval(imgs_middle, \n",
    "                                  channels=[3,0],\n",
    "                                  diameter=100,\n",
    "                                  flow_threshold=0.6,\n",
    "                                  do_3D=True,\n",
    "                                  anisotropy= 2.1, \n",
    "                                  )\n",
    "    \n",
    "    file_path = mask_path / f'Nuclei_{exp}.tif'\n",
    "    tiff.imwrite(file_path, masks)"
   ]
  },
  {
   "cell_type": "markdown",
   "id": "da77f33a-660f-470e-9c50-238395b9ebbb",
   "metadata": {
    "tags": []
   },
   "source": [
    "# Extract cell info"
   ]
  },
  {
   "cell_type": "code",
   "execution_count": 5,
   "id": "ae8791d3-fc09-4628-b23a-d21a03e8d1ca",
   "metadata": {},
   "outputs": [],
   "source": [
    "from skimage import morphology, measure\n",
    "from skimage.segmentation import clear_border\n",
    "    \n",
    "def count_pixel_label_mask(regionmask, intensity_image):\n",
    "    v,c = np.unique(intensity_image[regionmask], return_counts=True)\n",
    "    return dict(zip(v,c))\n",
    "    \n",
    "# Quality control of mask\n",
    "def qc_nuclei(mask_cyto, mask_nuclei, small_size=100000):\n",
    "    '''\n",
    "    Function to check if cell masks contain nuclei\n",
    "    '''\n",
    "    # Dictionnary storing nuclei and cyto label to cell id \n",
    "    nuclei2cell = {}\n",
    "    cyto2cell = {}\n",
    "    \n",
    "    # Filter out small objects\n",
    "    mask_cyto = morphology.remove_small_objects(mask_cyto,  min_size=small_size)    \n",
    "    \n",
    "    # Filter out mask touching border\n",
    "    segmented_padded = np.pad(\n",
    "        mask_cyto,\n",
    "        ((1, 1), (0, 0), (0, 0)),\n",
    "        mode='constant',\n",
    "        constant_values=0,\n",
    "    )\n",
    "    mask_cyto = clear_border(segmented_padded)[1:-1]\n",
    "    \n",
    "    # Filtered only cell mask region\n",
    "    cell_mask = np.where(mask_cyto > 0, 1, 0)\n",
    "    mask_nuclei_filtered = mask_nuclei * cell_mask\n",
    "    mask_nuclei_filtered =  morphology.remove_small_objects(mask_nuclei_filtered,  min_size=small_size//4)\n",
    "    \n",
    "    nuclei_mask = np.where(mask_nuclei>0, 1, 0)\n",
    "    cyto = (mask_cyto - mask_cyto*nuclei_mask).astype(np.uint16)\n",
    "    \n",
    "    # Count pixel cell label in each nuclei region to assign each nuclei to cell\n",
    "    props = measure.regionprops(mask_nuclei_filtered, intensity_image=mask_cyto, \n",
    "                    extra_properties=(count_pixel_label_mask,))\n",
    "    nuclei_labels = []\n",
    "    cell_labels = []\n",
    "    for prop in props:\n",
    "        df = pd.DataFrame.from_dict(prop['count_pixel_label_mask'], orient='index').reset_index()\n",
    "        df.columns = ['Label', 'Count']\n",
    "        corresponding_label = df.iloc[df['Count'].argmax(axis=0)]['Label']\n",
    "        nuclei_labels.append(prop['Label'])\n",
    "        cell_labels.append(corresponding_label)\n",
    "    \n",
    "    df = pd.DataFrame({'Nuclei': nuclei_labels, 'Cyto': cell_labels})\n",
    "    return mask_cyto, mask_nuclei_filtered, cyto, df"
   ]
  },
  {
   "cell_type": "code",
   "execution_count": 7,
   "id": "8503d785-bdf9-4b2d-b822-ac743c335924",
   "metadata": {},
   "outputs": [],
   "source": [
    "from collections import defaultdict\n",
    "\n",
    "data_dir = (Path().cwd().parents[0] / 'data').absolute()\n",
    "\n",
    "# Get image dataframe \n",
    "df_imgs_path = data_dir / '9PPI Cell Culture' / '3D_Whole' / 'metadata' / 'imgs_reg_norm.csv'\n",
    "df_imgs = pd.read_csv(df_imgs_path)\n"
   ]
  },
  {
   "cell_type": "code",
   "execution_count": 8,
   "id": "963604ab-c39e-4cff-85f6-9e8d67d9a213",
   "metadata": {},
   "outputs": [],
   "source": [
    "# Read masks paths \n",
    "mask_dir = data_dir / '9PPI Cell Culture' / '3D_Whole' / 'imgs' / 'masks_3D'\n",
    "mask_filt_dir = data_dir / '9PPI Cell Culture' / '3D_Whole' / 'imgs' / 'masks_3D_filtered'\n",
    "mask_filt_dir .mkdir(parents=True, exist_ok=True)\n",
    "\n",
    "masks_path = defaultdict(dict) \n",
    "for path in os.listdir(mask_dir):\n",
    "    name = path.split('.')[0]\n",
    "    if 'Nuclei' in name:\n",
    "        masks_path[name[7:]]['nuclei'] = mask_dir / path\n",
    "    else:\n",
    "        masks_path[name]['cyto'] = mask_dir / path"
   ]
  },
  {
   "cell_type": "code",
   "execution_count": 9,
   "id": "bf71a837-d54e-4703-9269-5e7ba524c4d3",
   "metadata": {},
   "outputs": [],
   "source": [
    "group = df_imgs.groupby(['Timepoint', 'FOV'])\n",
    "\n",
    "for name, df_group in group:\n",
    "    name = '_'.join(name)\n",
    "    \n",
    "    # Read masks\n",
    "    mask_cyto_path = masks_path[name]['cyto']\n",
    "    mask_nuclei_path = masks_path[name]['nuclei']\n",
    "    \n",
    "    mask_cyto = skimage.io.imread(mask_cyto_path)\n",
    "    mask_nuclei = skimage.io.imread(mask_nuclei_path)\n",
    "    \n",
    "    cell, nuclei, cyto, df = qc_nuclei(mask_cyto, mask_nuclei)\n",
    "    \n",
    "    file_path =  mask_filt_dir / f'Nuclei_{name}.tif'\n",
    "    tiff.imwrite(file_path, nuclei)\n",
    "    file_path =  mask_filt_dir / f'Cell_{name}.tif'\n",
    "    tiff.imwrite(file_path, cell)\n",
    "    file_path =  mask_filt_dir / f'Cyto_{name}.tif'\n",
    "    tiff.imwrite(file_path, cyto)\n",
    "    file_path =  mask_filt_dir / f'df_{name}.csv'\n",
    "    df.to_csv(file_path, index=False)\n"
   ]
  },
  {
   "cell_type": "code",
   "execution_count": 10,
   "id": "5f324335-1e09-4d74-b78a-35cd18978dc1",
   "metadata": {},
   "outputs": [
    {
     "data": {
      "text/plain": [
       "<Labels layer 'nuclei' at 0x11a9669aac0>"
      ]
     },
     "execution_count": 10,
     "metadata": {},
     "output_type": "execute_result"
    }
   ],
   "source": [
    "# import napari \n",
    "\n",
    "# viewer = napari.view_labels(cell)\n",
    "# viewer.add_labels(nuclei)"
   ]
  },
  {
   "cell_type": "markdown",
   "id": "47b7d605-95fd-4fa7-ad1e-05dd7836367b",
   "metadata": {
    "tags": []
   },
   "source": [
    "# Extract cell contours"
   ]
  },
  {
   "cell_type": "code",
   "execution_count": 11,
   "id": "2ccb47ed-2303-498a-90f0-8cdebdb35c77",
   "metadata": {},
   "outputs": [],
   "source": [
    "from skimage import measure\n",
    "import cv2 \n",
    "\n",
    "def get_contours_mask(mask):\n",
    "    contours = []\n",
    "    labels = []\n",
    "    for l in tqdm(np.unique(mask)):\n",
    "        if l == 0:\n",
    "            continue\n",
    "        contours.append(measure.find_contours((mask==l).astype(np.uint8), 0.8))\n",
    "        labels.append(l)\n",
    "    return contours, labels\n",
    "\n",
    "def replace_with_dict2(ar, dic):\n",
    "    # Extract out keys and values\n",
    "    k = np.array(list(dic.keys()))\n",
    "    v = np.array(list(dic.values()))\n",
    "\n",
    "    # Get argsort indices\n",
    "    sidx = k.argsort()\n",
    "    \n",
    "    ks = k[sidx]\n",
    "    vs = v[sidx]\n",
    "    return vs[np.searchsorted(ks,ar)]"
   ]
  },
  {
   "cell_type": "code",
   "execution_count": 12,
   "id": "8732b3e3-ddd5-446d-bd14-fa23c7aeff40",
   "metadata": {},
   "outputs": [],
   "source": [
    "mask_filt_dir = data_dir / '9PPI Cell Culture' / '3D_Whole' / 'imgs' / 'masks_3D_filtered'\n",
    "\n",
    "masks_path = defaultdict(dict) \n",
    "for path in os.listdir(mask_filt_dir):\n",
    "    name = path.split('.')[0]\n",
    "    if 'Nuclei' in name:\n",
    "        masks_path[name[7:]]['nuclei'] = mask_filt_dir / path\n",
    "    elif 'Cyto' in name:\n",
    "        masks_path[name[5:]]['cyto'] =mask_filt_dir / path\n",
    "    elif 'Cell' in name:\n",
    "        masks_path[name[5:]]['cell'] =mask_filt_dir / path    \n",
    "    elif 'df' in name:\n",
    "        masks_path[name[3:]]['df'] =mask_filt_dir / path\n",
    "    else:\n",
    "        pass"
   ]
  },
  {
   "cell_type": "code",
   "execution_count": 14,
   "id": "2dec8515-3d03-4d60-9f31-6f17d2729ea4",
   "metadata": {},
   "outputs": [],
   "source": [
    "from collections import defaultdict\n",
    "\n",
    "data_dir = (Path().cwd().parents[0] / 'data').absolute()\n",
    "\n",
    "# Get image dataframe \n",
    "df_imgs_path = data_dir / '9PPI Cell Culture'/ '3D_Whole' / 'metadata' / 'imgs_reg_norm.csv'\n",
    "df_imgs = pd.read_csv(df_imgs_path)\n"
   ]
  },
  {
   "cell_type": "code",
   "execution_count": null,
   "id": "892e03dc-b21c-45b4-a4d5-2b19669b0eed",
   "metadata": {
    "collapsed": true,
    "jupyter": {
     "outputs_hidden": true
    },
    "tags": []
   },
   "outputs": [
    {
     "data": {
      "application/vnd.jupyter.widget-view+json": {
       "model_id": "0900922a9dfd42b9a9ee179a15e82aae",
       "version_major": 2,
       "version_minor": 0
      },
      "text/plain": [
       "  0%|          | 0/336 [00:00<?, ?it/s]"
      ]
     },
     "metadata": {},
     "output_type": "display_data"
    },
    {
     "data": {
      "application/vnd.jupyter.widget-view+json": {
       "model_id": "07cfcfc199fc40278bfeeab549cc5566",
       "version_major": 2,
       "version_minor": 0
      },
      "text/plain": [
       "  0%|          | 0/316 [00:00<?, ?it/s]"
      ]
     },
     "metadata": {},
     "output_type": "display_data"
    },
    {
     "data": {
      "application/vnd.jupyter.widget-view+json": {
       "model_id": "9b23878a705345fb973b8852c170a03a",
       "version_major": 2,
       "version_minor": 0
      },
      "text/plain": [
       "  0%|          | 0/334 [00:00<?, ?it/s]"
      ]
     },
     "metadata": {},
     "output_type": "display_data"
    },
    {
     "data": {
      "application/vnd.jupyter.widget-view+json": {
       "model_id": "0f3dbd4d529c430cb0dacf6a4388b2c3",
       "version_major": 2,
       "version_minor": 0
      },
      "text/plain": [
       "  0%|          | 0/316 [00:00<?, ?it/s]"
      ]
     },
     "metadata": {},
     "output_type": "display_data"
    },
    {
     "data": {
      "application/vnd.jupyter.widget-view+json": {
       "model_id": "bdbf2a6b87c74bf38a33423080f6a255",
       "version_major": 2,
       "version_minor": 0
      },
      "text/plain": [
       "  0%|          | 0/335 [00:00<?, ?it/s]"
      ]
     },
     "metadata": {},
     "output_type": "display_data"
    },
    {
     "data": {
      "application/vnd.jupyter.widget-view+json": {
       "model_id": "270a792435e34f109705326d0b32cd56",
       "version_major": 2,
       "version_minor": 0
      },
      "text/plain": [
       "  0%|          | 0/316 [00:00<?, ?it/s]"
      ]
     },
     "metadata": {},
     "output_type": "display_data"
    },
    {
     "data": {
      "application/vnd.jupyter.widget-view+json": {
       "model_id": "958b285fdf8440978d2347be5dd548f9",
       "version_major": 2,
       "version_minor": 0
      },
      "text/plain": [
       "  0%|          | 0/334 [00:00<?, ?it/s]"
      ]
     },
     "metadata": {},
     "output_type": "display_data"
    },
    {
     "data": {
      "application/vnd.jupyter.widget-view+json": {
       "model_id": "928cc1b3f9494db19fd6d4c780361664",
       "version_major": 2,
       "version_minor": 0
      },
      "text/plain": [
       "  0%|          | 0/316 [00:00<?, ?it/s]"
      ]
     },
     "metadata": {},
     "output_type": "display_data"
    },
    {
     "data": {
      "application/vnd.jupyter.widget-view+json": {
       "model_id": "8f8020085223422da85285d1fb7dc441",
       "version_major": 2,
       "version_minor": 0
      },
      "text/plain": [
       "  0%|          | 0/338 [00:00<?, ?it/s]"
      ]
     },
     "metadata": {},
     "output_type": "display_data"
    },
    {
     "data": {
      "application/vnd.jupyter.widget-view+json": {
       "model_id": "160e25751f5649fcac0e01d60b44336a",
       "version_major": 2,
       "version_minor": 0
      },
      "text/plain": [
       "  0%|          | 0/316 [00:00<?, ?it/s]"
      ]
     },
     "metadata": {},
     "output_type": "display_data"
    },
    {
     "data": {
      "application/vnd.jupyter.widget-view+json": {
       "model_id": "ba527cec697b47d985c64c582c5c395b",
       "version_major": 2,
       "version_minor": 0
      },
      "text/plain": [
       "  0%|          | 0/339 [00:00<?, ?it/s]"
      ]
     },
     "metadata": {},
     "output_type": "display_data"
    },
    {
     "data": {
      "application/vnd.jupyter.widget-view+json": {
       "model_id": "d70cdd9c40eb43f48341cf15d4548361",
       "version_major": 2,
       "version_minor": 0
      },
      "text/plain": [
       "  0%|          | 0/316 [00:00<?, ?it/s]"
      ]
     },
     "metadata": {},
     "output_type": "display_data"
    },
    {
     "data": {
      "application/vnd.jupyter.widget-view+json": {
       "model_id": "755ac4f47a444f78867b489f89f90701",
       "version_major": 2,
       "version_minor": 0
      },
      "text/plain": [
       "  0%|          | 0/334 [00:00<?, ?it/s]"
      ]
     },
     "metadata": {},
     "output_type": "display_data"
    },
    {
     "data": {
      "application/vnd.jupyter.widget-view+json": {
       "model_id": "86fbe96c3d504025b47cb5afea64d1ad",
       "version_major": 2,
       "version_minor": 0
      },
      "text/plain": [
       "  0%|          | 0/316 [00:00<?, ?it/s]"
      ]
     },
     "metadata": {},
     "output_type": "display_data"
    },
    {
     "data": {
      "application/vnd.jupyter.widget-view+json": {
       "model_id": "452a7ed0e9644df3a7414106ffaf36e2",
       "version_major": 2,
       "version_minor": 0
      },
      "text/plain": [
       "  0%|          | 0/335 [00:00<?, ?it/s]"
      ]
     },
     "metadata": {},
     "output_type": "display_data"
    },
    {
     "data": {
      "application/vnd.jupyter.widget-view+json": {
       "model_id": "ea2ea68bc65847b39b541984c3df0c97",
       "version_major": 2,
       "version_minor": 0
      },
      "text/plain": [
       "  0%|          | 0/316 [00:00<?, ?it/s]"
      ]
     },
     "metadata": {},
     "output_type": "display_data"
    },
    {
     "data": {
      "application/vnd.jupyter.widget-view+json": {
       "model_id": "c17002e649b84ccd980a55b1a733e212",
       "version_major": 2,
       "version_minor": 0
      },
      "text/plain": [
       "  0%|          | 0/337 [00:00<?, ?it/s]"
      ]
     },
     "metadata": {},
     "output_type": "display_data"
    }
   ],
   "source": [
    "contour_save_path =  data_dir / '9PPI Cell Culture' / '3D_Whole' / 'contours'\n",
    "contour_save_path.mkdir(parents=True, exist_ok=True)\n",
    "\n",
    "group = df_imgs.groupby(['Timepoint', 'FOV'])\n",
    "\n",
    "for name, df_group in group:\n",
    "    name = '_'.join(name)\n",
    "    # Read masks\n",
    "    mask_cyto_path = masks_path[name]['cell']\n",
    "    mask_nuclei_path = masks_path[name]['nuclei']\n",
    "    df_path =  masks_path[name]['df']\n",
    "    \n",
    "    mask_cyto = skimage.io.imread(mask_cyto_path)\n",
    "    mask_nuclei = skimage.io.imread(mask_nuclei_path)\n",
    "    df_cell_info = pd.read_csv(df_path)\n",
    "    nuclei2cell = dict(zip(df_cell_info.iloc[:,0], df_cell_info.iloc[:,1])) \n",
    "    nuclei2cell[0] = 0\n",
    "    replaced = replace_with_dict2(mask_nuclei, nuclei2cell)\n",
    "    \n",
    "    contours_dict = {}\n",
    "    for z in range(len(mask_cyto)):\n",
    "        # Extract contours\n",
    "        contours_cyto, labels_cyto = get_contours_mask(mask_cyto[z])\n",
    "        contours_nuclei, labels_nuclei = get_contours_mask(replaced[z])\n",
    "        contours_dict[z] = [contours_cyto, labels_cyto, contours_nuclei, labels_nuclei]\n",
    "    \n",
    "    # Save data\n",
    "    save_path = contour_save_path / (name+'.pkl')\n",
    "    with open(save_path, 'wb') as f:\n",
    "        pickle.dump([contours_cyto, labels_cyto, contours_nuclei, labels_nuclei], \n",
    "                    f, protocol=pickle.HIGHEST_PROTOCOL)    \n"
   ]
  },
  {
   "cell_type": "markdown",
   "id": "ff0fdfe9-dd1b-4fcc-b5a3-b9d3e5371ae0",
   "metadata": {
    "jp-MarkdownHeadingCollapsed": true,
    "tags": []
   },
   "source": [
    "# 3D PPI"
   ]
  },
  {
   "cell_type": "code",
   "execution_count": 31,
   "id": "0530b463-7474-4606-acb1-8b83a81cffa3",
   "metadata": {},
   "outputs": [],
   "source": [
    "data_dir = (Path().cwd().parents[0] / 'data').absolute()\n",
    "\n",
    "df_meta_path = data_dir / '9PPI Cell Culture' / '3D_Whole' / 'metadata' / 'imgs_reg_norm.csv'\n",
    "df_imgs = pd.read_csv(df_meta_path)"
   ]
  },
  {
   "cell_type": "code",
   "execution_count": 32,
   "id": "9a7634ba-024d-4b97-8795-a873e2d2598c",
   "metadata": {},
   "outputs": [],
   "source": [
    "import PLA\n",
    "\n",
    "PPI_save_path =  data_dir / '9PPI Cell Culture' / '3D_Whole'  / 'PPI'\n",
    "PPI_save_path.mkdir(parents=True, exist_ok=True)\n",
    "\n",
    "PPI_img_path = data_dir /'9PPI Cell Culture' / '3D_Whole'  / 'imgs' / 'imgs_PPI'"
   ]
  },
  {
   "cell_type": "code",
   "execution_count": null,
   "id": "984cda63-7ad0-4671-bb81-3ad66e0e2a69",
   "metadata": {
    "tags": []
   },
   "outputs": [
    {
     "data": {
      "application/vnd.jupyter.widget-view+json": {
       "model_id": "",
       "version_major": 2,
       "version_minor": 0
      },
      "text/plain": [
       "Reading images:   0%|          | 0/14 [00:00<?, ?it/s]"
      ]
     },
     "metadata": {},
     "output_type": "display_data"
    },
    {
     "data": {
      "application/vnd.jupyter.widget-view+json": {
       "model_id": "",
       "version_major": 2,
       "version_minor": 0
      },
      "text/plain": [
       "Detecting PPI spots:   0%|          | 0/14 [00:00<?, ?it/s]"
      ]
     },
     "metadata": {},
     "output_type": "display_data"
    },
    {
     "name": "stdout",
     "output_type": "stream",
     "text": [
      "(array([0, 1], dtype=uint8), array([29452901,   222329], dtype=int64))\n"
     ]
    },
    {
     "data": {
      "application/vnd.jupyter.widget-view+json": {
       "model_id": "",
       "version_major": 2,
       "version_minor": 0
      },
      "text/plain": [
       "Reading images:   0%|          | 0/14 [00:00<?, ?it/s]"
      ]
     },
     "metadata": {},
     "output_type": "display_data"
    },
    {
     "data": {
      "application/vnd.jupyter.widget-view+json": {
       "model_id": "",
       "version_major": 2,
       "version_minor": 0
      },
      "text/plain": [
       "Detecting PPI spots:   0%|          | 0/14 [00:00<?, ?it/s]"
      ]
     },
     "metadata": {},
     "output_type": "display_data"
    },
    {
     "name": "stdout",
     "output_type": "stream",
     "text": [
      "(array([0, 1], dtype=uint8), array([29617015,    58215], dtype=int64))\n"
     ]
    },
    {
     "data": {
      "application/vnd.jupyter.widget-view+json": {
       "model_id": "",
       "version_major": 2,
       "version_minor": 0
      },
      "text/plain": [
       "Reading images:   0%|          | 0/14 [00:00<?, ?it/s]"
      ]
     },
     "metadata": {},
     "output_type": "display_data"
    },
    {
     "data": {
      "application/vnd.jupyter.widget-view+json": {
       "model_id": "",
       "version_major": 2,
       "version_minor": 0
      },
      "text/plain": [
       "Detecting PPI spots:   0%|          | 0/14 [00:00<?, ?it/s]"
      ]
     },
     "metadata": {},
     "output_type": "display_data"
    },
    {
     "name": "stdout",
     "output_type": "stream",
     "text": [
      "(array([0, 1], dtype=uint8), array([29631277,    43953], dtype=int64))\n"
     ]
    },
    {
     "data": {
      "application/vnd.jupyter.widget-view+json": {
       "model_id": "",
       "version_major": 2,
       "version_minor": 0
      },
      "text/plain": [
       "Reading images:   0%|          | 0/14 [00:00<?, ?it/s]"
      ]
     },
     "metadata": {},
     "output_type": "display_data"
    },
    {
     "data": {
      "application/vnd.jupyter.widget-view+json": {
       "model_id": "",
       "version_major": 2,
       "version_minor": 0
      },
      "text/plain": [
       "Detecting PPI spots:   0%|          | 0/14 [00:00<?, ?it/s]"
      ]
     },
     "metadata": {},
     "output_type": "display_data"
    },
    {
     "name": "stdout",
     "output_type": "stream",
     "text": [
      "(array([0, 1], dtype=uint8), array([29642086,    33144], dtype=int64))\n"
     ]
    },
    {
     "data": {
      "application/vnd.jupyter.widget-view+json": {
       "model_id": "",
       "version_major": 2,
       "version_minor": 0
      },
      "text/plain": [
       "Reading images:   0%|          | 0/14 [00:00<?, ?it/s]"
      ]
     },
     "metadata": {},
     "output_type": "display_data"
    },
    {
     "data": {
      "application/vnd.jupyter.widget-view+json": {
       "model_id": "487c9cc845024a7bb9a7a28efd18498b",
       "version_major": 2,
       "version_minor": 0
      },
      "text/plain": [
       "Detecting PPI spots:   0%|          | 0/14 [00:00<?, ?it/s]"
      ]
     },
     "metadata": {},
     "output_type": "display_data"
    }
   ],
   "source": [
    "PPI_names = ['Cyclin D1 & CDK2', 'NF-Kb & p-P90rsk', 'Sox2 & Oct4', 'Bim & Tom20', 'Mcl-1 & BAK', \n",
    "             'p-ERK & c-MYC', 'TEAD1 & YAP',  'Cyclin E & CDK4', 'P-AKT & mTOR']\n",
    "\n",
    "group = df_imgs.groupby(['Timepoint', 'FOV'])\n",
    "n_limit = 5\n",
    "\n",
    "for name, df_group in group:\n",
    "    df_group = df_group.sort_values(['Z'])\n",
    "    df_group = df_group.iloc[n_limit:-n_limit]\n",
    "    paths = df_group.Path.tolist()\n",
    "    \n",
    "    pla_detect = PLA.PLA_detection_3D(paths)\n",
    "    for PPI_pair in PPI_names: \n",
    "        img_spot, img_wth, spots_filtered, imgs = pla_detect.detect_spot(PPI_pair, thres=0.04)\n",
    "        # fname = '_'.join(name)+f'{PPI_pair}.tiff'\n",
    "        # tiff.imwrite(PPI_img_path / fname, img_wth)\n",
    "        \n",
    "    # Save PPI dict\n",
    "    fname = '_'.join(name)+'.pkl'\n",
    "    pla_detect.save_pickle(PPI_save_path / fname)"
   ]
  },
  {
   "cell_type": "markdown",
   "id": "a7e60f1f-55e3-49ec-9220-0b304a283569",
   "metadata": {
    "tags": []
   },
   "source": [
    "# Extract count "
   ]
  },
  {
   "cell_type": "code",
   "execution_count": 5,
   "id": "de251554-dfd8-4fa7-96dd-146f9715415f",
   "metadata": {},
   "outputs": [],
   "source": [
    "import pickle \n",
    "from sklearn.neighbors import NearestNeighbors\n",
    "import networkx as nx\n",
    "import scipy \n",
    "\n",
    "def read_PPI(path):\n",
    "    with open(path, 'rb') as file:\n",
    "        PPI_dict = pickle.load(file)\n",
    "\n",
    "    return PPI_dict\n",
    "\n",
    "def get_NN_radius(data, r):\n",
    "    fit = NearestNeighbors(radius=r).fit(data)\n",
    "    m = fit.radius_neighbors(data, return_distance=True, sort_results=True)\n",
    "\n",
    "    # Put in dataframe format\n",
    "    neighbours = pd.DataFrame(m[1].tolist(), index = data.index)\n",
    "    \n",
    "    A = fit.radius_neighbors_graph(data)\n",
    "    return neighbours, A\n",
    "\n",
    "def plot_spot_on_image(spots, spacing, radius):\n",
    "    spot_img = np.zeros(spots.max(0))\n",
    "    coords = (spots[:, :3] / spacing).astype(int)\n",
    "    r = radius  # shorthand\n",
    "    for coord in coords:\n",
    "        slc = tuple(slice(x-r, x+r) if i != 0 else slice(x, x+1) for i, x in enumerate(coord) )\n",
    "        spot_img[slc] = 1\n",
    "    return spot_img\n",
    "\n",
    "def plot_label_on_image(spots, spacing, radius, labels):\n",
    "    spot_img = np.zeros(spots.max(0))\n",
    "    coords = (spots[:, :3] / spacing).astype(int)\n",
    "    r = radius  # shorthand\n",
    "    for i, coord in enumerate(coords):\n",
    "        slc = tuple(slice(x-r, x+r) if i != 0 else slice(x, x+1) for i, x in enumerate(coord) )\n",
    "        spot_img[slc] = labels[i]\n",
    "    return spot_img\n",
    "\n",
    "def create_PPI_df(df_loc_filtered, mask_cyto, mask_nuclei, name):\n",
    "    _, y_max, x_max = mask_cyto.shape\n",
    "    z, y, x = df_loc_filtered['z'].to_numpy(), df_loc_filtered['y'].to_numpy(), df_loc_filtered['x'].to_numpy()\n",
    "    y = np.clip(y, a_min=0, a_max=y_max-1)\n",
    "    x = np.clip(x, a_min=0, a_max=x_max-1)\n",
    "\n",
    "    labels = mask_cyto[z, y, x]\n",
    "    labels_nuclei = mask_nuclei[z, y, x].astype(np.uint8)\n",
    "    \n",
    "    df_per_cell = pd.DataFrame({'Cell': labels, 'Nuclei': labels_nuclei, 'z': z, 'y':y, 'x':x})\n",
    "    df_per_cell['PPI'] = name\n",
    "    return df_per_cell"
   ]
  },
  {
   "cell_type": "code",
   "execution_count": 6,
   "id": "cb250482-2c3e-48e9-bcbb-f7b155015fe1",
   "metadata": {},
   "outputs": [],
   "source": [
    "data_dir = (Path().cwd().parents[0] / 'data').absolute()\n",
    "\n",
    "df_meta_path = data_dir / '9PPI Cell Culture' / '3D_Whole' / 'metadata' / 'imgs_reg_norm.csv'\n",
    "df_imgs = pd.read_csv(df_meta_path)\n",
    "\n",
    "PPI_save_path =  data_dir / '9PPI Cell Culture' / '3D_Whole'  / 'PPI'"
   ]
  },
  {
   "cell_type": "code",
   "execution_count": 7,
   "id": "dd4b92eb-c900-4911-bd4f-29d97f4c963a",
   "metadata": {},
   "outputs": [],
   "source": [
    "mask_filt_dir = data_dir /'9PPI Cell Culture'/ '3D_Whole' / 'imgs' / 'masks_3D_filtered'\n",
    "\n",
    "masks_path = defaultdict(dict) \n",
    "for path in os.listdir(mask_filt_dir):\n",
    "    name = path.split('.')[0]\n",
    "    if 'Nuclei' in name:\n",
    "        masks_path[name[7:]]['nuclei'] = mask_filt_dir / path\n",
    "    elif 'Cyto' in name:\n",
    "        masks_path[name[5:]]['cyto'] =mask_filt_dir / path\n",
    "    elif 'Cell' in name:\n",
    "        masks_path[name[5:]]['cell'] =mask_filt_dir / path    \n",
    "    elif 'df' in name:\n",
    "        masks_path[name[3:]]['df'] =mask_filt_dir / path\n",
    "    else:\n",
    "        pass"
   ]
  },
  {
   "cell_type": "code",
   "execution_count": 8,
   "id": "7263985c-524c-4c85-a239-f3313f4b5c86",
   "metadata": {},
   "outputs": [],
   "source": [
    "PPI_save_path =  data_dir / '9PPI Cell Culture' / '3D_Whole' / 'PPI'\n",
    "group = df_imgs.groupby(['Timepoint', 'FOV'])\n",
    "\n",
    "for names, df_group in group:\n",
    "    name = '_'.join(names)\n",
    "    # Read PPi\n",
    "    PPI_dict = read_PPI(PPI_save_path / f'{name}.pkl')\n",
    "    \n",
    "    # Read mask\n",
    "    mask_cyto_path = masks_path[name]['cell']\n",
    "    mask_nuclei_path = masks_path[name]['nuclei']\n",
    "    df_path =  masks_path[name]['df']\n",
    "    \n",
    "    mask_cyto = skimage.io.imread(mask_cyto_path)\n",
    "    mask_nuclei = skimage.io.imread(mask_nuclei_path)\n",
    "    _, y_max, x_max = mask_cyto.shape\n",
    "\n",
    "    df_PPIs = []\n",
    "    for k in ['Cyclin D1 & CDK2', 'NF-Kb & p-P90rsk', 'Sox2 & Oct4', 'Bim & Tom20', 'Mcl-1 & BAK', \n",
    "             'p-ERK & c-MYC', 'TEAD1 & YAP',  'Cyclin E & CDK4', 'P-AKT & mTOR']:\n",
    "        PPI_loc = PPI_dict[k][:, :3].astype(np.uint32)\n",
    "        \n",
    "        # Get PPI loc in panda dataframe format\n",
    "        df_loc = pd.DataFrame(PPI_loc, columns=['z', 'y', 'x'])\n",
    "\n",
    "        # Get dot neighboring graph with user defined radius\n",
    "        nei, A = get_NN_radius(df_loc[['y', 'x']], r=2.5)\n",
    "\n",
    "        # Assign new labels based on connected components label\n",
    "        labels = scipy.sparse.csgraph.connected_components(A, directed=False)[1]\n",
    "        df_loc['CC_label'] = labels\n",
    "\n",
    "        # Group by CC and extract mean position\n",
    "        df_loc_filtered = df_loc.groupby(['CC_label']).mean().astype(np.uint32)\n",
    "        \n",
    "        # Extract Cell info per PPI\n",
    "        df_PPI = create_PPI_df(df_loc_filtered, mask_cyto, mask_nuclei, k)\n",
    "        df_PPIs.append(df_PPI)\n",
    "    df_PPI = pd.concat(df_PPIs)\n",
    "    df_PPI['Condition'] = names[0]\n",
    "    df_PPI['FOV'] = names[1]\n",
    "    \n",
    "    # Save dataframe\n",
    "    path = PPI_save_path / f'{name}.csv'\n",
    "    df_PPI.to_csv(path, index=False)"
   ]
  },
  {
   "cell_type": "code",
   "execution_count": null,
   "id": "318309cb-5532-42e8-9440-b52e77dd31e3",
   "metadata": {},
   "outputs": [],
   "source": [
    "# img_spot = plot_label_on_image(df_loc_filtered.values, 1, 1, labels)\n",
    "# img_spot = img_spot.astype(np.uint16)"
   ]
  },
  {
   "cell_type": "code",
   "execution_count": null,
   "id": "ba1fbba2-27e3-409b-8f5f-360cd75185a9",
   "metadata": {},
   "outputs": [],
   "source": [
    "# import napari\n",
    "\n",
    "# viewer = napari.view_labels(img_spot)\n",
    "# viewer.add_labels(mask_cyto)"
   ]
  },
  {
   "cell_type": "markdown",
   "id": "a2d315a7-1927-4e5d-b7bf-46baa126bd7f",
   "metadata": {},
   "source": [
    "# Generate PPI network"
   ]
  },
  {
   "cell_type": "code",
   "execution_count": 9,
   "id": "e0b48fb8-935e-44ab-a31a-01aab4c2817c",
   "metadata": {},
   "outputs": [],
   "source": [
    "from sklearn.preprocessing import OneHotEncoder\n",
    "import networkx as nx\n",
    "from sklearn import preprocessing\n",
    "import scipy \n",
    "from scipy.spatial import Delaunay\n",
    "import itertools\n",
    "import pickle\n",
    "\n",
    "def plot_tri_simple(ax, points, tri):\n",
    "    for tr in tri.simplices:\n",
    "        pts = points[tr, :]\n",
    "        ax.plot3D(pts[[0,1],0], pts[[0,1],1], pts[[0,1],2], color='g', lw='0.1')\n",
    "        ax.plot3D(pts[[0,2],0], pts[[0,2],1], pts[[0,2],2], color='g', lw='0.1')\n",
    "        ax.plot3D(pts[[0,3],0], pts[[0,3],1], pts[[0,3],2], color='g', lw='0.1')\n",
    "        ax.plot3D(pts[[1,2],0], pts[[1,2],1], pts[[1,2],2], color='g', lw='0.1')\n",
    "        ax.plot3D(pts[[1,3],0], pts[[1,3],1], pts[[1,3],2], color='g', lw='0.1')\n",
    "        ax.plot3D(pts[[2,3],0], pts[[2,3],1], pts[[2,3],2], color='g', lw='0.1')\n",
    "\n",
    "    ax.scatter(points[:,0], points[:,1], points[:,2], color='b')\n",
    "    \n",
    "def create_network(df, t=50, scale=0.2):   \n",
    "    z,y,x = df['z'].to_numpy()*scale, df['y'].to_numpy(), df['x'].to_numpy()\n",
    "\n",
    "    # Get coordinates\n",
    "    coordinates = np.vstack([x, y, z]).T\n",
    "    points = coordinates - np.mean(coordinates, axis=0)\n",
    "    \n",
    "    # Delaunay\n",
    "    tri = Delaunay(points)\n",
    "    G = nx.Graph()\n",
    "    for path in tri.simplices:\n",
    "        G.add_nodes_from(path)\n",
    "        edges = list(itertools.combinations(path, 2))\n",
    "        G.add_edges_from(edges)\n",
    "    \n",
    "    # Euclidian distance\n",
    "    distance = scipy.spatial.distance_matrix(points, points)\n",
    "    l = t**2/np.log(t)\n",
    "    distance_norm = np.exp(-distance**2/t)\n",
    "\n",
    "    # distance_norm = np.where(distance>t, 0, np.exp(-distance*2/l))\n",
    "    \n",
    "    g_dist = nx.from_numpy_array(distance_norm)\n",
    "    g = g_dist.edge_subgraph(G.edges()).copy() # Only keep delaunay edges\n",
    "    nx.set_node_attributes(g, dict(zip(g.nodes(), df.Labels)), \"labels\")\n",
    "    nuclei = (df.Nuclei > 0).astype(int).tolist()\n",
    "    nx.set_node_attributes(g, dict(zip(g.nodes(), nuclei)), \"nuclei\")\n",
    "    nx.set_node_attributes(g, dict(zip(g.nodes(), coordinates)), \"pos\")\n",
    "    return g"
   ]
  },
  {
   "cell_type": "code",
   "execution_count": 10,
   "id": "18afe12d-ffbe-4ede-b27b-e98f6e79b4eb",
   "metadata": {},
   "outputs": [],
   "source": [
    "PPI_save_path =  data_dir / '9PPI Cell Culture' / '3D_Whole' / 'PPI'\n",
    "\n",
    "# Read PPi info \n",
    "dfs = []\n",
    "for path in os.listdir(PPI_save_path):\n",
    "    if 'csv' in path:\n",
    "        df = pd.read_csv(PPI_save_path / path)\n",
    "        dfs.append(df)\n",
    "df = pd.concat(dfs)\n",
    "\n",
    "# Create label \n",
    "enc = OneHotEncoder(handle_unknown='ignore')\n",
    "labels = enc.fit_transform(df['PPI'].to_numpy().reshape(-1, 1)).toarray().astype(np.uint8)\n",
    "df['Labels'] = labels.tolist()"
   ]
  },
  {
   "cell_type": "code",
   "execution_count": 11,
   "id": "162b0188-39f9-4efe-9681-2cb39d8ff696",
   "metadata": {},
   "outputs": [
    {
     "data": {
      "text/html": [
       "<div>\n",
       "<style scoped>\n",
       "    .dataframe tbody tr th:only-of-type {\n",
       "        vertical-align: middle;\n",
       "    }\n",
       "\n",
       "    .dataframe tbody tr th {\n",
       "        vertical-align: top;\n",
       "    }\n",
       "\n",
       "    .dataframe thead th {\n",
       "        text-align: right;\n",
       "    }\n",
       "</style>\n",
       "<table border=\"1\" class=\"dataframe\">\n",
       "  <thead>\n",
       "    <tr style=\"text-align: right;\">\n",
       "      <th></th>\n",
       "      <th>Cell</th>\n",
       "      <th>Nuclei</th>\n",
       "      <th>z</th>\n",
       "      <th>y</th>\n",
       "      <th>x</th>\n",
       "      <th>PPI</th>\n",
       "      <th>Condition</th>\n",
       "      <th>FOV</th>\n",
       "      <th>Labels</th>\n",
       "    </tr>\n",
       "  </thead>\n",
       "  <tbody>\n",
       "    <tr>\n",
       "      <th>0</th>\n",
       "      <td>1015</td>\n",
       "      <td>0</td>\n",
       "      <td>2</td>\n",
       "      <td>1547</td>\n",
       "      <td>2471</td>\n",
       "      <td>Cyclin D1 &amp; CDK2</td>\n",
       "      <td>HCC827Ctrl</td>\n",
       "      <td>FW1</td>\n",
       "      <td>[0, 1, 0, 0, 0, 0, 0, 0, 0]</td>\n",
       "    </tr>\n",
       "    <tr>\n",
       "      <th>1</th>\n",
       "      <td>1178</td>\n",
       "      <td>0</td>\n",
       "      <td>4</td>\n",
       "      <td>1796</td>\n",
       "      <td>6060</td>\n",
       "      <td>Cyclin D1 &amp; CDK2</td>\n",
       "      <td>HCC827Ctrl</td>\n",
       "      <td>FW1</td>\n",
       "      <td>[0, 1, 0, 0, 0, 0, 0, 0, 0]</td>\n",
       "    </tr>\n",
       "    <tr>\n",
       "      <th>2</th>\n",
       "      <td>138</td>\n",
       "      <td>0</td>\n",
       "      <td>1</td>\n",
       "      <td>468</td>\n",
       "      <td>6123</td>\n",
       "      <td>Cyclin D1 &amp; CDK2</td>\n",
       "      <td>HCC827Ctrl</td>\n",
       "      <td>FW1</td>\n",
       "      <td>[0, 1, 0, 0, 0, 0, 0, 0, 0]</td>\n",
       "    </tr>\n",
       "    <tr>\n",
       "      <th>3</th>\n",
       "      <td>138</td>\n",
       "      <td>0</td>\n",
       "      <td>6</td>\n",
       "      <td>343</td>\n",
       "      <td>6106</td>\n",
       "      <td>Cyclin D1 &amp; CDK2</td>\n",
       "      <td>HCC827Ctrl</td>\n",
       "      <td>FW1</td>\n",
       "      <td>[0, 1, 0, 0, 0, 0, 0, 0, 0]</td>\n",
       "    </tr>\n",
       "    <tr>\n",
       "      <th>4</th>\n",
       "      <td>1639</td>\n",
       "      <td>0</td>\n",
       "      <td>3</td>\n",
       "      <td>2794</td>\n",
       "      <td>3508</td>\n",
       "      <td>Cyclin D1 &amp; CDK2</td>\n",
       "      <td>HCC827Ctrl</td>\n",
       "      <td>FW1</td>\n",
       "      <td>[0, 1, 0, 0, 0, 0, 0, 0, 0]</td>\n",
       "    </tr>\n",
       "    <tr>\n",
       "      <th>...</th>\n",
       "      <td>...</td>\n",
       "      <td>...</td>\n",
       "      <td>...</td>\n",
       "      <td>...</td>\n",
       "      <td>...</td>\n",
       "      <td>...</td>\n",
       "      <td>...</td>\n",
       "      <td>...</td>\n",
       "      <td>...</td>\n",
       "    </tr>\n",
       "    <tr>\n",
       "      <th>84422</th>\n",
       "      <td>0</td>\n",
       "      <td>0</td>\n",
       "      <td>13</td>\n",
       "      <td>2344</td>\n",
       "      <td>7460</td>\n",
       "      <td>P-AKT &amp; mTOR</td>\n",
       "      <td>HCC827Osim</td>\n",
       "      <td>FW2</td>\n",
       "      <td>[0, 0, 0, 0, 0, 1, 0, 0, 0]</td>\n",
       "    </tr>\n",
       "    <tr>\n",
       "      <th>84423</th>\n",
       "      <td>390</td>\n",
       "      <td>176</td>\n",
       "      <td>13</td>\n",
       "      <td>2730</td>\n",
       "      <td>5373</td>\n",
       "      <td>P-AKT &amp; mTOR</td>\n",
       "      <td>HCC827Osim</td>\n",
       "      <td>FW2</td>\n",
       "      <td>[0, 0, 0, 0, 0, 1, 0, 0, 0]</td>\n",
       "    </tr>\n",
       "    <tr>\n",
       "      <th>84424</th>\n",
       "      <td>0</td>\n",
       "      <td>0</td>\n",
       "      <td>13</td>\n",
       "      <td>3137</td>\n",
       "      <td>5453</td>\n",
       "      <td>P-AKT &amp; mTOR</td>\n",
       "      <td>HCC827Osim</td>\n",
       "      <td>FW2</td>\n",
       "      <td>[0, 0, 0, 0, 0, 1, 0, 0, 0]</td>\n",
       "    </tr>\n",
       "    <tr>\n",
       "      <th>84425</th>\n",
       "      <td>501</td>\n",
       "      <td>4</td>\n",
       "      <td>13</td>\n",
       "      <td>3044</td>\n",
       "      <td>1995</td>\n",
       "      <td>P-AKT &amp; mTOR</td>\n",
       "      <td>HCC827Osim</td>\n",
       "      <td>FW2</td>\n",
       "      <td>[0, 0, 0, 0, 0, 1, 0, 0, 0]</td>\n",
       "    </tr>\n",
       "    <tr>\n",
       "      <th>84426</th>\n",
       "      <td>351</td>\n",
       "      <td>0</td>\n",
       "      <td>13</td>\n",
       "      <td>2438</td>\n",
       "      <td>8094</td>\n",
       "      <td>P-AKT &amp; mTOR</td>\n",
       "      <td>HCC827Osim</td>\n",
       "      <td>FW2</td>\n",
       "      <td>[0, 0, 0, 0, 0, 1, 0, 0, 0]</td>\n",
       "    </tr>\n",
       "  </tbody>\n",
       "</table>\n",
       "<p>385300 rows × 9 columns</p>\n",
       "</div>"
      ],
      "text/plain": [
       "       Cell  Nuclei   z     y     x               PPI   Condition  FOV  \\\n",
       "0      1015       0   2  1547  2471  Cyclin D1 & CDK2  HCC827Ctrl  FW1   \n",
       "1      1178       0   4  1796  6060  Cyclin D1 & CDK2  HCC827Ctrl  FW1   \n",
       "2       138       0   1   468  6123  Cyclin D1 & CDK2  HCC827Ctrl  FW1   \n",
       "3       138       0   6   343  6106  Cyclin D1 & CDK2  HCC827Ctrl  FW1   \n",
       "4      1639       0   3  2794  3508  Cyclin D1 & CDK2  HCC827Ctrl  FW1   \n",
       "...     ...     ...  ..   ...   ...               ...         ...  ...   \n",
       "84422     0       0  13  2344  7460      P-AKT & mTOR  HCC827Osim  FW2   \n",
       "84423   390     176  13  2730  5373      P-AKT & mTOR  HCC827Osim  FW2   \n",
       "84424     0       0  13  3137  5453      P-AKT & mTOR  HCC827Osim  FW2   \n",
       "84425   501       4  13  3044  1995      P-AKT & mTOR  HCC827Osim  FW2   \n",
       "84426   351       0  13  2438  8094      P-AKT & mTOR  HCC827Osim  FW2   \n",
       "\n",
       "                            Labels  \n",
       "0      [0, 1, 0, 0, 0, 0, 0, 0, 0]  \n",
       "1      [0, 1, 0, 0, 0, 0, 0, 0, 0]  \n",
       "2      [0, 1, 0, 0, 0, 0, 0, 0, 0]  \n",
       "3      [0, 1, 0, 0, 0, 0, 0, 0, 0]  \n",
       "4      [0, 1, 0, 0, 0, 0, 0, 0, 0]  \n",
       "...                            ...  \n",
       "84422  [0, 0, 0, 0, 0, 1, 0, 0, 0]  \n",
       "84423  [0, 0, 0, 0, 0, 1, 0, 0, 0]  \n",
       "84424  [0, 0, 0, 0, 0, 1, 0, 0, 0]  \n",
       "84425  [0, 0, 0, 0, 0, 1, 0, 0, 0]  \n",
       "84426  [0, 0, 0, 0, 0, 1, 0, 0, 0]  \n",
       "\n",
       "[385300 rows x 9 columns]"
      ]
     },
     "execution_count": 11,
     "metadata": {},
     "output_type": "execute_result"
    }
   ],
   "source": [
    "df"
   ]
  },
  {
   "cell_type": "code",
   "execution_count": 12,
   "id": "ca2def47-afbd-4b93-94d5-f5b308d1bca8",
   "metadata": {},
   "outputs": [],
   "source": [
    "graph_save_path =  data_dir / '9PPI Cell Culture' / '3D_Whole' / 'graphs' / 'raw'\n",
    "graph_save_path .mkdir(parents=True, exist_ok=True)\n",
    "\n",
    "scale = 0.4/0.18872\n",
    "\n",
    "group = df.groupby(['Condition', 'FOV', 'Cell'])\n",
    "for name, df_group in group:\n",
    "    if name[2] == 0:\n",
    "        continue\n",
    "    if len(df_group) < 5:\n",
    "        continue\n",
    "    \n",
    "    g = create_network(df_group, t=70, scale=scale)\n",
    "    if nx.number_of_isolates(g)>0:\n",
    "        print('Isolated nodes')\n",
    "    \n",
    "    # Save pgrahs\n",
    "    save_path = graph_save_path / ('_'.join([str(n) for n in name])+'.pkl')\n",
    "    with open(save_path, 'wb') as f:\n",
    "        pickle.dump(g, f, protocol=pickle.HIGHEST_PROTOCOL)\n"
   ]
  },
  {
   "cell_type": "code",
   "execution_count": 12,
   "id": "549ed537-c7d0-4b57-9665-4606f4bac24b",
   "metadata": {},
   "outputs": [],
   "source": [
    "# scale = 0.4/0.18872\n",
    "# z,y,x = df_group['z'].to_numpy()*scale, df_group['y'].to_numpy(), df_group['x'].to_numpy()\n",
    "\n",
    "# points = np.vstack([x, y, z]).T\n",
    "# tri = Delaunay(points)\n",
    "\n",
    "# G = nx.Graph()\n",
    "# for path in tri.simplices:\n",
    "#     G.add_nodes_from(path)\n",
    "#     edges = list(itertools.combinations(path, 2))\n",
    "#     G.add_edges_from(edges)\n",
    "    \n",
    "# pos = points\n",
    "# node_xyz = np.array([pos[v] for v in sorted(G)])\n",
    "# edge_xyz = np.array([(pos[u], pos[v]) for u, v in G.edges()])\n",
    "\n",
    "# # Create the 3D figure\n",
    "# fig = plt.figure()\n",
    "# ax = fig.add_subplot(111, projection=\"3d\")\n",
    "\n",
    "# # Plot the nodes - alpha is scaled by \"depth\" automatically\n",
    "# ax.scatter(*node_xyz.T, color='b')\n",
    "# for vizedge in edge_xyz:\n",
    "#     ax.plot(*vizedge.T, color='g', lw=0.5)"
   ]
  },
  {
   "cell_type": "code",
   "execution_count": 13,
   "id": "dafbe17d-4773-4bc9-9fe9-819e25e55bb4",
   "metadata": {},
   "outputs": [],
   "source": [
    "# fig = plt.figure()\n",
    "# ax = plt.axes(projection='3d')\n",
    "# plot_tri_simple(ax, points, tri)"
   ]
  }
 ],
 "metadata": {
  "kernelspec": {
   "display_name": "Python [conda env:PLA]",
   "language": "python",
   "name": "conda-env-PLA-py"
  },
  "language_info": {
   "codemirror_mode": {
    "name": "ipython",
    "version": 3
   },
   "file_extension": ".py",
   "mimetype": "text/x-python",
   "name": "python",
   "nbconvert_exporter": "python",
   "pygments_lexer": "ipython3",
   "version": "3.9.16"
  }
 },
 "nbformat": 4,
 "nbformat_minor": 5
}
