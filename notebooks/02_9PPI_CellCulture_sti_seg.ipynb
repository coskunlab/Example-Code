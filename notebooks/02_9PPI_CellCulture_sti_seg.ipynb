{
 "cells": [
  {
   "cell_type": "code",
   "execution_count": 36,
   "id": "1c868d44-21d1-437f-9914-8ee53321f8e3",
   "metadata": {},
   "outputs": [],
   "source": [
    "# import itertools\n",
    "import os\n",
    "import sys\n",
    "from pathlib import Path\n",
    "\n",
    "import cv2\n",
    "import matplotlib.pyplot as plt\n",
    "import numpy as np\n",
    "import pandas as pd\n",
    "import skimage.io\n",
    "\n",
    "from collections import defaultdict\n",
    "from tqdm.auto import tqdm\n",
    "from joblib import Parallel, delayed\n",
    "import re\n",
    "import h5py\n",
    "import napari\n",
    "import tifffile as tiff\n",
    "import seaborn as sns\n",
    "import pickle"
   ]
  },
  {
   "cell_type": "code",
   "execution_count": 37,
   "id": "1cad4758-7e5b-4a82-a548-4c261ce558bd",
   "metadata": {},
   "outputs": [
    {
     "name": "stdout",
     "output_type": "stream",
     "text": [
      "The autoreload extension is already loaded. To reload it, use:\n",
      "  %reload_ext autoreload\n"
     ]
    }
   ],
   "source": [
    "%load_ext autoreload\n",
    "%autoreload 2"
   ]
  },
  {
   "cell_type": "code",
   "execution_count": 38,
   "id": "37e9d112-f67c-4ff5-8e97-8f90c1dbf85e",
   "metadata": {},
   "outputs": [],
   "source": [
    "p_dir = (Path().cwd().parents[0]).absolute()\n",
    "\n",
    "module_path = str(p_dir / \"src\")\n",
    " \n",
    "if module_path not in sys.path:\n",
    "    sys.path.append(module_path)"
   ]
  },
  {
   "cell_type": "code",
   "execution_count": 39,
   "id": "03a06abc-243f-4bc2-8d5f-b120320a6ba8",
   "metadata": {},
   "outputs": [],
   "source": [
    "data_dir = (Path().cwd().parents[0] / 'data').absolute()\n",
    "\n",
    "df_meta_path = data_dir / '9PPI Cell Culture' / 'Whole' / 'metadata' / 'imgs_reg_norm.csv'\n",
    "df_imgs = pd.read_csv(df_meta_path)"
   ]
  },
  {
   "cell_type": "markdown",
   "id": "cbdaa89f-87da-4255-8d25-05af077da0b3",
   "metadata": {
    "jp-MarkdownHeadingCollapsed": true,
    "tags": []
   },
   "source": [
    "# Segmentation "
   ]
  },
  {
   "cell_type": "code",
   "execution_count": 6,
   "id": "35005b41-7bb4-423c-865f-f76d412356fa",
   "metadata": {},
   "outputs": [],
   "source": [
    "from skimage import exposure, util\n",
    "\n",
    "def contrast_str(img, n_min=0.01, n_max=99.95):\n",
    "    p2, p98 = np.percentile(img, (n_min, n_max))\n",
    "    img_rescale = exposure.rescale_intensity(img, in_range=(p2, p98))\n",
    "    img_rescale = util.img_as_ubyte(img_rescale)\n",
    "    return img_rescale"
   ]
  },
  {
   "cell_type": "code",
   "execution_count": 7,
   "id": "e7bfb74e-af79-41a2-aee8-24d5fdd2de27",
   "metadata": {},
   "outputs": [],
   "source": [
    "whole_seg_path = data_dir / '9PPI Cell Culture' / 'Whole' / 'imgs' / 'segmentation'\n",
    "mask_path = data_dir / '9PPI Cell Culture' / 'Whole' / 'imgs' / 'masks'\n",
    "\n",
    "mask_path.mkdir(parents=True, exist_ok=True)"
   ]
  },
  {
   "cell_type": "code",
   "execution_count": 8,
   "id": "9ef8a968-f1b6-45e7-bf41-ca79a71f22e1",
   "metadata": {},
   "outputs": [
    {
     "name": "stdout",
     "output_type": "stream",
     "text": [
      ">>> GPU activated? YES\n"
     ]
    }
   ],
   "source": [
    "from cellpose import core, utils, io, models, metrics\n",
    "use_GPU = core.use_gpu()\n",
    "yn = ['NO', 'YES']\n",
    "print(f'>>> GPU activated? {yn[use_GPU]}')\n"
   ]
  },
  {
   "cell_type": "code",
   "execution_count": 10,
   "id": "67063492-16d1-4333-b285-a2677a758f68",
   "metadata": {
    "tags": []
   },
   "outputs": [],
   "source": [
    "# Cyto segmentaion\n",
    "masks = []\n",
    "for p in os.listdir(whole_seg_path):\n",
    "    img = skimage.io.imread(whole_seg_path / p).transpose((2,0,1))\n",
    "    \n",
    "    # Cyto segmentation\n",
    "    model = models.CellposeModel(gpu=True, model_type='cyto2')\n",
    "    mask_cyto, flows, styles = model.eval(img, \n",
    "                                  channels=[2,3],\n",
    "                                  diameter=180,\n",
    "                                  flow_threshold=0.6,\n",
    "                                  cellprob_threshold=-3\n",
    "                                  )\n",
    "    \n",
    "    file_path = mask_path / p\n",
    "    tiff.imwrite(file_path, mask_cyto)\n",
    "    \n",
    "    # Nuclei segemtnation\n",
    "    model = models.CellposeModel(gpu=True, model_type='nuclei')\n",
    "    mask_nuclei, flows, styles = model.eval(img, \n",
    "                                  channels=[3,0],\n",
    "                                  diameter=100,\n",
    "                                  flow_threshold=0.6,\n",
    "                                  )\n",
    "    \n",
    "        \n",
    "    file_path = mask_path / f'Nuclei_{p}'\n",
    "    tiff.imwrite(file_path, mask_nuclei)"
   ]
  },
  {
   "cell_type": "code",
   "execution_count": null,
   "id": "3db1ef6c-23ec-42ba-a2c2-b5228b6abf8e",
   "metadata": {},
   "outputs": [],
   "source": [
    "# fig, ax = plt.subplots()\n",
    "# ax.imshow(mask_cyto, cmap=plt.cm.gray)\n",
    "# for n, contour in enumerate(contours_cyto):\n",
    "#     contour = max(contour, key = len)\n",
    "#     ax.plot(contour[:, 1], contour[:, 0], linewidth=1)\n",
    "# for n, contour in enumerate(contours_nuclei):\n",
    "#     contour = max(contour, key = len)\n",
    "#     ax.plot(contour[:, 1], contour[:, 0], linewidth=1)\n"
   ]
  },
  {
   "cell_type": "markdown",
   "id": "cba24c71-f358-43c3-8e65-e8c24a25af7c",
   "metadata": {
    "tags": []
   },
   "source": [
    "# Spot Detection"
   ]
  },
  {
   "cell_type": "code",
   "execution_count": 5,
   "id": "bdbd4de9-c032-440a-948f-411a0cccb5e3",
   "metadata": {},
   "outputs": [],
   "source": [
    "# ['Hoeschst' 'Cyclin D1 & CDK2' 'NF-Kb & p-P90rsk' 'Hoeschst' 'Sox2 & Oct4'\n",
    "#  'Bim & Tom20' 'Hoeschst' 'Mcl-1 & BAK' 'Hoeschst' 'p-ERK & c-MYC'\n",
    "#  'Hoeschst' 'TEAD1 & YAP' 'Hoeschst' 'Cyclin E & CDK4' 'Hoeschst'\n",
    "#  'P-AKT & mTOR' 'Hoeschst' 'p-EGFR' 'Phalloidin' 'Ki67' 'Hoeschst'\n",
    "#  'Cyclin D1 & CDK2 - re' 'NF-Kb & p-P90rsk - re' 'Hoeschst' 'NBD-C6'\n",
    "#  'Golph4' 'COX IV' 'Hoeschst' 'Pan-cytokeratin' 'Hoeschst'\n",
    "#  'Concanavalin A' 'WGA']"
   ]
  },
  {
   "cell_type": "code",
   "execution_count": 6,
   "id": "ffc27fb8-a199-48f5-bded-297acfbf5a3d",
   "metadata": {},
   "outputs": [],
   "source": [
    "import PLA\n",
    "\n",
    "PPI_save_path =  data_dir / '9PPI Cell Culture' / 'Whole' / 'PPI'\n",
    "PPI_save_path.mkdir(parents=True, exist_ok=True)"
   ]
  },
  {
   "cell_type": "code",
   "execution_count": 15,
   "id": "48b21896-3b07-40d9-b459-8c600077fa76",
   "metadata": {
    "collapsed": true,
    "jupyter": {
     "outputs_hidden": true
    },
    "tags": []
   },
   "outputs": [
    {
     "data": {
      "application/vnd.jupyter.widget-view+json": {
       "model_id": "983f0f7554e547b7b9299764b5e8ba6c",
       "version_major": 2,
       "version_minor": 0
      },
      "text/plain": [
       "  0%|          | 0/11 [00:00<?, ?it/s]"
      ]
     },
     "metadata": {},
     "output_type": "display_data"
    },
    {
     "name": "stdout",
     "output_type": "stream",
     "text": [
      "Reading image Cyclin D1 & CDK2\n",
      "Processing image Cyclin D1 & CDK2\n",
      "(array([0, 1], dtype=uint8), array([28674924,   936602], dtype=int64))\n",
      "Reading image NF-Kb & p-P90rsk\n",
      "Processing image NF-Kb & p-P90rsk\n",
      "(array([0, 1], dtype=uint8), array([29392709,   218817], dtype=int64))\n",
      "Reading image Sox2 & Oct4\n",
      "Processing image Sox2 & Oct4\n",
      "(array([0, 1], dtype=uint8), array([29360904,   250622], dtype=int64))\n",
      "Reading image Bim & Tom20\n",
      "Processing image Bim & Tom20\n",
      "(array([0, 1], dtype=uint8), array([29472262,   139264], dtype=int64))\n",
      "Reading image Mcl-1 & BAK\n",
      "Processing image Mcl-1 & BAK\n",
      "(array([0, 1], dtype=uint8), array([29598983,    12543], dtype=int64))\n",
      "Reading image p-ERK & c-MYC\n",
      "Processing image p-ERK & c-MYC\n",
      "(array([0, 1], dtype=uint8), array([29516427,    95099], dtype=int64))\n",
      "Reading image TEAD1 & YAP\n",
      "Processing image TEAD1 & YAP\n",
      "(array([0, 1], dtype=uint8), array([29599225,    12301], dtype=int64))\n",
      "Reading image Cyclin E & CDK4\n",
      "Processing image Cyclin E & CDK4\n",
      "(array([0, 1], dtype=uint8), array([29594250,    17276], dtype=int64))\n",
      "Reading image P-AKT & mTOR\n",
      "Processing image P-AKT & mTOR\n",
      "(array([0, 1], dtype=uint8), array([29595506,    16020], dtype=int64))\n",
      "Reading image Cyclin D1 & CDK2 - re\n",
      "Processing image Cyclin D1 & CDK2 - re\n",
      "(array([0, 1], dtype=uint8), array([29551361,    60165], dtype=int64))\n",
      "Reading image NF-Kb & p-P90rsk - re\n",
      "Processing image NF-Kb & p-P90rsk - re\n",
      "(array([0, 1], dtype=uint8), array([29609196,     2330], dtype=int64))\n"
     ]
    },
    {
     "data": {
      "application/vnd.jupyter.widget-view+json": {
       "model_id": "f9b87760ae3549aaae2d2fbede080567",
       "version_major": 2,
       "version_minor": 0
      },
      "text/plain": [
       "  0%|          | 0/11 [00:00<?, ?it/s]"
      ]
     },
     "metadata": {},
     "output_type": "display_data"
    },
    {
     "name": "stdout",
     "output_type": "stream",
     "text": [
      "Reading image Cyclin D1 & CDK2\n",
      "Processing image Cyclin D1 & CDK2\n",
      "(array([0, 1], dtype=uint8), array([28257387,  1343813], dtype=int64))\n",
      "Reading image NF-Kb & p-P90rsk\n",
      "Processing image NF-Kb & p-P90rsk\n",
      "(array([0, 1], dtype=uint8), array([29285340,   315860], dtype=int64))\n",
      "Reading image Sox2 & Oct4\n",
      "Processing image Sox2 & Oct4\n",
      "(array([0, 1], dtype=uint8), array([29241808,   359392], dtype=int64))\n",
      "Reading image Bim & Tom20\n",
      "Processing image Bim & Tom20\n",
      "(array([0, 1], dtype=uint8), array([29414122,   187078], dtype=int64))\n",
      "Reading image Mcl-1 & BAK\n",
      "Processing image Mcl-1 & BAK\n",
      "(array([0, 1], dtype=uint8), array([29577720,    23480], dtype=int64))\n",
      "Reading image p-ERK & c-MYC\n",
      "Processing image p-ERK & c-MYC\n",
      "(array([0, 1], dtype=uint8), array([29466617,   134583], dtype=int64))\n",
      "Reading image TEAD1 & YAP\n",
      "Processing image TEAD1 & YAP\n",
      "(array([0, 1], dtype=uint8), array([29579165,    22035], dtype=int64))\n",
      "Reading image Cyclin E & CDK4\n",
      "Processing image Cyclin E & CDK4\n",
      "(array([0, 1], dtype=uint8), array([29582531,    18669], dtype=int64))\n",
      "Reading image P-AKT & mTOR\n",
      "Processing image P-AKT & mTOR\n",
      "(array([0, 1], dtype=uint8), array([29574883,    26317], dtype=int64))\n",
      "Reading image Cyclin D1 & CDK2 - re\n",
      "Processing image Cyclin D1 & CDK2 - re\n",
      "(array([0, 1], dtype=uint8), array([29511409,    89791], dtype=int64))\n",
      "Reading image NF-Kb & p-P90rsk - re\n",
      "Processing image NF-Kb & p-P90rsk - re\n",
      "(array([0, 1], dtype=uint8), array([29598166,     3034], dtype=int64))\n"
     ]
    },
    {
     "data": {
      "application/vnd.jupyter.widget-view+json": {
       "model_id": "52e55b30aa1b4110b7dd537cddfc00cb",
       "version_major": 2,
       "version_minor": 0
      },
      "text/plain": [
       "  0%|          | 0/11 [00:00<?, ?it/s]"
      ]
     },
     "metadata": {},
     "output_type": "display_data"
    },
    {
     "name": "stdout",
     "output_type": "stream",
     "text": [
      "Reading image Cyclin D1 & CDK2\n",
      "Processing image Cyclin D1 & CDK2\n",
      "(array([0, 1], dtype=uint8), array([28999810,   663362], dtype=int64))\n",
      "Reading image NF-Kb & p-P90rsk\n",
      "Processing image NF-Kb & p-P90rsk\n",
      "(array([0, 1], dtype=uint8), array([29480748,   182424], dtype=int64))\n",
      "Reading image Sox2 & Oct4\n",
      "Processing image Sox2 & Oct4\n",
      "(array([0, 1], dtype=uint8), array([29488507,   174665], dtype=int64))\n",
      "Reading image Bim & Tom20\n",
      "Processing image Bim & Tom20\n",
      "(array([0, 1], dtype=uint8), array([29548315,   114857], dtype=int64))\n",
      "Reading image Mcl-1 & BAK\n",
      "Processing image Mcl-1 & BAK\n",
      "(array([0, 1], dtype=uint8), array([29652428,    10744], dtype=int64))\n",
      "Reading image p-ERK & c-MYC\n",
      "Processing image p-ERK & c-MYC\n",
      "(array([0, 1], dtype=uint8), array([29596462,    66710], dtype=int64))\n",
      "Reading image TEAD1 & YAP\n",
      "Processing image TEAD1 & YAP\n",
      "(array([0, 1], dtype=uint8), array([29648783,    14389], dtype=int64))\n",
      "Reading image Cyclin E & CDK4\n",
      "Processing image Cyclin E & CDK4\n",
      "(array([0, 1], dtype=uint8), array([29637199,    25973], dtype=int64))\n",
      "Reading image P-AKT & mTOR\n",
      "Processing image P-AKT & mTOR\n",
      "(array([0, 1], dtype=uint8), array([29632248,    30924], dtype=int64))\n",
      "Reading image Cyclin D1 & CDK2 - re\n",
      "Processing image Cyclin D1 & CDK2 - re\n",
      "(array([0, 1], dtype=uint8), array([29572002,    91170], dtype=int64))\n",
      "Reading image NF-Kb & p-P90rsk - re\n",
      "Processing image NF-Kb & p-P90rsk - re\n",
      "(array([0, 1], dtype=uint8), array([29660155,     3017], dtype=int64))\n"
     ]
    },
    {
     "data": {
      "application/vnd.jupyter.widget-view+json": {
       "model_id": "303ccd6f33c846009ce77a1ace28b9dd",
       "version_major": 2,
       "version_minor": 0
      },
      "text/plain": [
       "  0%|          | 0/11 [00:00<?, ?it/s]"
      ]
     },
     "metadata": {},
     "output_type": "display_data"
    },
    {
     "name": "stdout",
     "output_type": "stream",
     "text": [
      "Reading image Cyclin D1 & CDK2\n",
      "Processing image Cyclin D1 & CDK2\n",
      "(array([0, 1], dtype=uint8), array([28999257,   617411], dtype=int64))\n",
      "Reading image NF-Kb & p-P90rsk\n",
      "Processing image NF-Kb & p-P90rsk\n",
      "(array([0, 1], dtype=uint8), array([29443308,   173360], dtype=int64))\n",
      "Reading image Sox2 & Oct4\n",
      "Processing image Sox2 & Oct4\n",
      "(array([0, 1], dtype=uint8), array([29451866,   164802], dtype=int64))\n",
      "Reading image Bim & Tom20\n",
      "Processing image Bim & Tom20\n",
      "(array([0, 1], dtype=uint8), array([29479577,   137091], dtype=int64))\n",
      "Reading image Mcl-1 & BAK\n",
      "Processing image Mcl-1 & BAK\n",
      "(array([0, 1], dtype=uint8), array([29604769,    11899], dtype=int64))\n",
      "Reading image p-ERK & c-MYC\n",
      "Processing image p-ERK & c-MYC\n",
      "(array([0, 1], dtype=uint8), array([29538736,    77932], dtype=int64))\n",
      "Reading image TEAD1 & YAP\n",
      "Processing image TEAD1 & YAP\n",
      "(array([0, 1], dtype=uint8), array([29599298,    17370], dtype=int64))\n",
      "Reading image Cyclin E & CDK4\n",
      "Processing image Cyclin E & CDK4\n",
      "(array([0, 1], dtype=uint8), array([29595591,    21077], dtype=int64))\n",
      "Reading image P-AKT & mTOR\n",
      "Processing image P-AKT & mTOR\n",
      "(array([0, 1], dtype=uint8), array([29584564,    32104], dtype=int64))\n",
      "Reading image Cyclin D1 & CDK2 - re\n",
      "Processing image Cyclin D1 & CDK2 - re\n",
      "(array([0, 1], dtype=uint8), array([29512038,   104630], dtype=int64))\n",
      "Reading image NF-Kb & p-P90rsk - re\n",
      "Processing image NF-Kb & p-P90rsk - re\n",
      "(array([0, 1], dtype=uint8), array([29612829,     3839], dtype=int64))\n"
     ]
    }
   ],
   "source": [
    "PPI_names = ['Cyclin D1 & CDK2', 'NF-Kb & p-P90rsk', 'Sox2 & Oct4', 'Bim & Tom20', 'Mcl-1 & BAK', \n",
    "             'p-ERK & c-MYC', 'TEAD1 & YAP',  'Cyclin E & CDK4', 'P-AKT & mTOR', 'Cyclin D1 & CDK2 - re', 'NF-Kb & p-P90rsk - re']\n",
    "\n",
    "for row in df_imgs.itertuples():\n",
    "    # Read image\n",
    "    path = row.Path\n",
    "    pla_detect = PLA.PLA_detection(path)\n",
    "    \n",
    "    imgs_spots = []\n",
    "    imgs_wths = []\n",
    "    for PPI_pair in tqdm(PPI_names): \n",
    "        # if PPI_pair in ['Cyclin D1 & CDK2', 'NF-Kb & p-P90rsk']:\n",
    "        #     thres = 0.1\n",
    "        # else:\n",
    "        #     thres = 0.05\n",
    "        img_spot, img_wth,_,_ = pla_detect.detect_spot(PPI_pair, thres=0.04)\n",
    "        imgs_spots.append(img_spot)\n",
    "        imgs_wths.append(img_wth)\n",
    "\n",
    "    # # Save PPI dict\n",
    "    name = '_'.join(row[1:3])+'.pkl'\n",
    "    pla_detect.save_pickle(PPI_save_path / name)\n",
    "    "
   ]
  },
  {
   "cell_type": "code",
   "execution_count": 16,
   "id": "82b903d6-4f4a-4551-ba44-4aa589509996",
   "metadata": {
    "tags": []
   },
   "outputs": [],
   "source": [
    "# viewer = napari.view_image(np.stack(imgs_wths))\n",
    "# viewer.add_image(img_marker)\n",
    "# viewer.add_image(np.stack(imgs_spots), contrast_limits=[0,1])"
   ]
  },
  {
   "cell_type": "code",
   "execution_count": 17,
   "id": "b661c54d-0e43-4049-909a-ed4bf9553924",
   "metadata": {},
   "outputs": [],
   "source": [
    "# with h5py.File(path, \"r\") as f:\n",
    "#     imgs = f['imgs'][:]\n",
    "#     markers = f['imgs'].attrs['Marker']"
   ]
  },
  {
   "cell_type": "code",
   "execution_count": 18,
   "id": "363c517a-8d54-4275-95b2-c272a2904d41",
   "metadata": {},
   "outputs": [],
   "source": [
    "# napari.view_image(imgs, channel_axis=0, name=markers, visible=False, contrast_limits=[0,1])"
   ]
  },
  {
   "cell_type": "markdown",
   "id": "a3931175-2a7b-4148-bc7c-319590ccf70c",
   "metadata": {
    "tags": []
   },
   "source": [
    "# Extract cell info"
   ]
  },
  {
   "cell_type": "code",
   "execution_count": 5,
   "id": "22ecf0f6-ca23-4677-8d6c-6de5635244b0",
   "metadata": {},
   "outputs": [],
   "source": [
    "from skimage import morphology, measure\n",
    "from skimage.segmentation import clear_border\n",
    "    \n",
    "def count_pixel_label_mask(regionmask, intensity_image):\n",
    "    v,c = np.unique(intensity_image[regionmask], return_counts=True)\n",
    "    return dict(zip(v,c))\n",
    "    \n",
    "# Quality control of mask\n",
    "def qc_nuclei(mask_cyto, mask_nuclei, small_size=2000):\n",
    "    '''\n",
    "    Function to check if cell masks contain nuclei\n",
    "    '''\n",
    "    # Dictionnary storing nuclei and cyto label to cell id \n",
    "    nuclei2cell = {}\n",
    "    cyto2cell = {}\n",
    "    \n",
    "    # Filter out small objects\n",
    "    mask_cyto = morphology.remove_small_objects(mask_cyto,  min_size=small_size)\n",
    "    \n",
    "    # Filter out mask touching border\n",
    "    mask_cyto = clear_border(mask_cyto)\n",
    "    \n",
    "    # Filtered only cell mask region\n",
    "    cell_mask = np.where(mask_cyto > 0, 1, 0)\n",
    "    mask_nuclei_filtered = mask_nuclei * cell_mask\n",
    "    mask_nuclei_filtered =  morphology.remove_small_objects(mask_nuclei_filtered,  min_size=small_size)\n",
    "    \n",
    "    nuclei_mask = np.where(mask_nuclei>0, 1, 0)\n",
    "    cyto = (mask_cyto - mask_cyto*nuclei_mask).astype(np.uint16)\n",
    "    \n",
    "    # Count pixel cell label in each nuclei region to assign each nuclei to cell\n",
    "    props = measure.regionprops(mask_nuclei_filtered, intensity_image=mask_cyto, \n",
    "                    extra_properties=(count_pixel_label_mask,))\n",
    "    nuclei_labels = []\n",
    "    cell_labels = []\n",
    "    for prop in props:\n",
    "        df = pd.DataFrame.from_dict(prop['count_pixel_label_mask'], orient='index').reset_index()\n",
    "        df.columns = ['Label', 'Count']\n",
    "        corresponding_label = df.iloc[df['Count'].argmax(axis=0)]['Label']\n",
    "        nuclei_labels.append(prop['Label'])\n",
    "        cell_labels.append(corresponding_label)\n",
    "    \n",
    "    df = pd.DataFrame({'Nuclei': nuclei_labels, 'Cyto': cell_labels})\n",
    "    return mask_cyto, mask_nuclei_filtered, cyto, df"
   ]
  },
  {
   "cell_type": "code",
   "execution_count": 7,
   "id": "72d37e33-70dc-4a3b-a246-d8e967011978",
   "metadata": {},
   "outputs": [],
   "source": [
    "from collections import defaultdict\n",
    "\n",
    "data_dir = (Path().cwd().parents[0] / 'data').absolute()\n",
    "\n",
    "# Get image dataframe \n",
    "df_imgs_path = data_dir / '9PPI Cell Culture' / 'Whole' / 'metadata' / 'imgs_reg_norm.csv'\n",
    "df_imgs = pd.read_csv(df_imgs_path)\n"
   ]
  },
  {
   "cell_type": "code",
   "execution_count": 8,
   "id": "31beaef5-7d6e-486e-8142-7d86a8944e9d",
   "metadata": {},
   "outputs": [],
   "source": [
    "# Read masks paths \n",
    "mask_dir = data_dir / '9PPI Cell Culture' / 'Whole' / 'imgs' / 'masks'\n",
    "mask_filt_dir = data_dir / '9PPI Cell Culture' / 'Whole' / 'imgs' / 'masks_filtered'\n",
    "mask_filt_dir.mkdir(parents=True, exist_ok=True)\n",
    "\n",
    "masks_path = defaultdict(dict) \n",
    "for path in os.listdir(mask_dir):\n",
    "    name = path.split('.')[0]\n",
    "    if 'Nuclei' in name:\n",
    "        masks_path[name[7:]]['nuclei'] = mask_dir / path\n",
    "    else:\n",
    "        masks_path[name]['cyto'] = mask_dir / path"
   ]
  },
  {
   "cell_type": "code",
   "execution_count": 9,
   "id": "7a878d16-5980-4e6c-aa47-67b1610c2050",
   "metadata": {},
   "outputs": [],
   "source": [
    "for row in df_imgs.itertuples():\n",
    "    # Read image\n",
    "    path = row.Path\n",
    "    name = '_'.join(row[1:3])\n",
    "    \n",
    "    # Read masks\n",
    "    mask_cyto_path = masks_path[name]['cyto']\n",
    "    mask_nuclei_path = masks_path[name]['nuclei']\n",
    "    \n",
    "    mask_cyto = skimage.io.imread(mask_cyto_path)\n",
    "    mask_nuclei = skimage.io.imread(mask_nuclei_path)\n",
    "    \n",
    "    cell, nuclei, cyto, df = qc_nuclei(mask_cyto, mask_nuclei)\n",
    "    \n",
    "    file_path =  mask_filt_dir / f'Nuclei_{name}.tif'\n",
    "    tiff.imwrite(file_path, nuclei)\n",
    "    file_path =  mask_filt_dir / f'Cell_{name}.tif'\n",
    "    tiff.imwrite(file_path, cell)\n",
    "    file_path =  mask_filt_dir / f'Cyto_{name}.tif'\n",
    "    tiff.imwrite(file_path, cyto)\n",
    "    file_path =  mask_filt_dir / f'df_{name}.csv'\n",
    "    df.to_csv(file_path, index=False)"
   ]
  },
  {
   "cell_type": "code",
   "execution_count": 10,
   "id": "91b026c1-6233-42aa-af63-e8958c08548d",
   "metadata": {},
   "outputs": [],
   "source": [
    "# import napari\n",
    "\n",
    "# viewer = napari.view_labels(cell)\n",
    "# viewer.add_labels(nuclei)"
   ]
  },
  {
   "cell_type": "markdown",
   "id": "be300655-3a7e-4384-a03f-3bd9cc7dc239",
   "metadata": {
    "tags": []
   },
   "source": [
    "# Extract cell contours"
   ]
  },
  {
   "cell_type": "code",
   "execution_count": 11,
   "id": "aeb64bb5-d8ea-4fa0-b0a0-c0cfcfc0c853",
   "metadata": {},
   "outputs": [],
   "source": [
    "from skimage import measure\n",
    "import cv2 \n",
    "\n",
    "def get_contours_mask(mask):\n",
    "    contours = []\n",
    "    labels = []\n",
    "    for l in tqdm(np.unique(mask)):\n",
    "        if l == 0:\n",
    "            continue\n",
    "        contours.append(measure.find_contours((mask==l).astype(np.uint8), 0.8))\n",
    "        labels.append(l)\n",
    "    return contours, labelsa\n",
    "\n",
    "def replace_with_dict2(ar, dic):\n",
    "    # Extract out keys and values\n",
    "    k = np.array(list(dic.keys()))\n",
    "    v = np.array(list(dic.values()))\n",
    "\n",
    "    # Get argsort indices\n",
    "    sidx = k.argsort()\n",
    "    \n",
    "    ks = k[sidx]\n",
    "    vs = v[sidx]\n",
    "    return vs[np.searchsorted(ks,ar)]"
   ]
  },
  {
   "cell_type": "code",
   "execution_count": 12,
   "id": "91ecf053-3d47-4ee6-91b7-2142fc0a0716",
   "metadata": {},
   "outputs": [],
   "source": [
    "mask_filt_dir = data_dir / '9PPI Cell Culture' / 'Whole' / 'imgs' / 'masks_filtered'\n",
    "\n",
    "masks_path = defaultdict(dict) \n",
    "for path in os.listdir(mask_filt_dir):\n",
    "    name = path.split('.')[0]\n",
    "    if 'Nuclei' in name:\n",
    "        masks_path[name[7:]]['nuclei'] = mask_filt_dir / path\n",
    "    elif 'Cyto' in name:\n",
    "        masks_path[name[5:]]['cyto'] =mask_filt_dir / path\n",
    "    elif 'Cell' in name:\n",
    "        masks_path[name[5:]]['cell'] =mask_filt_dir / path    \n",
    "    elif 'df' in name:\n",
    "        masks_path[name[3:]]['df'] =mask_filt_dir / path\n",
    "    else:\n",
    "        pass"
   ]
  },
  {
   "cell_type": "code",
   "execution_count": 13,
   "id": "85f04367-6de1-4dcc-a016-bf7c0db2a345",
   "metadata": {
    "collapsed": true,
    "jupyter": {
     "outputs_hidden": true
    },
    "tags": []
   },
   "outputs": [
    {
     "data": {
      "application/vnd.jupyter.widget-view+json": {
       "model_id": "5b7025aa540a4f55921a5cb699a9ad8a",
       "version_major": 2,
       "version_minor": 0
      },
      "text/plain": [
       "  0%|          | 0/349 [00:00<?, ?it/s]"
      ]
     },
     "metadata": {},
     "output_type": "display_data"
    },
    {
     "data": {
      "application/vnd.jupyter.widget-view+json": {
       "model_id": "75582a1234f546d69087a2b7e24f2282",
       "version_major": 2,
       "version_minor": 0
      },
      "text/plain": [
       "  0%|          | 0/334 [00:00<?, ?it/s]"
      ]
     },
     "metadata": {},
     "output_type": "display_data"
    },
    {
     "data": {
      "application/vnd.jupyter.widget-view+json": {
       "model_id": "37bf1e0850bf429a9d31d0f106547da0",
       "version_major": 2,
       "version_minor": 0
      },
      "text/plain": [
       "  0%|          | 0/494 [00:00<?, ?it/s]"
      ]
     },
     "metadata": {},
     "output_type": "display_data"
    },
    {
     "data": {
      "application/vnd.jupyter.widget-view+json": {
       "model_id": "7ce836a128f046dbb3490d6bdc3072c3",
       "version_major": 2,
       "version_minor": 0
      },
      "text/plain": [
       "  0%|          | 0/477 [00:00<?, ?it/s]"
      ]
     },
     "metadata": {},
     "output_type": "display_data"
    },
    {
     "data": {
      "application/vnd.jupyter.widget-view+json": {
       "model_id": "9c716481c656447db0d03db44a383a54",
       "version_major": 2,
       "version_minor": 0
      },
      "text/plain": [
       "  0%|          | 0/336 [00:00<?, ?it/s]"
      ]
     },
     "metadata": {},
     "output_type": "display_data"
    },
    {
     "data": {
      "application/vnd.jupyter.widget-view+json": {
       "model_id": "6a4dd71ad2b14f398e8739c668153ab3",
       "version_major": 2,
       "version_minor": 0
      },
      "text/plain": [
       "  0%|          | 0/326 [00:00<?, ?it/s]"
      ]
     },
     "metadata": {},
     "output_type": "display_data"
    },
    {
     "data": {
      "application/vnd.jupyter.widget-view+json": {
       "model_id": "94b357e248f44553824bcf0e09d97b7d",
       "version_major": 2,
       "version_minor": 0
      },
      "text/plain": [
       "  0%|          | 0/324 [00:00<?, ?it/s]"
      ]
     },
     "metadata": {},
     "output_type": "display_data"
    },
    {
     "data": {
      "application/vnd.jupyter.widget-view+json": {
       "model_id": "9e94fbf0dd6249da975321055950e98e",
       "version_major": 2,
       "version_minor": 0
      },
      "text/plain": [
       "  0%|          | 0/308 [00:00<?, ?it/s]"
      ]
     },
     "metadata": {},
     "output_type": "display_data"
    }
   ],
   "source": [
    "contour_save_path =  data_dir / '9PPI Cell Culture' / 'Whole' / 'contours'\n",
    "contour_save_path.mkdir(parents=True, exist_ok=True)\n",
    "\n",
    "for row in df_imgs.itertuples():\n",
    "    name = '_'.join(row[1:3])\n",
    "    \n",
    "    # Read masks\n",
    "    mask_cyto_path = masks_path[name]['cell']\n",
    "    mask_nuclei_path = masks_path[name]['nuclei']\n",
    "    df_path =  masks_path[name]['df']\n",
    "    \n",
    "    mask_cyto = skimage.io.imread(mask_cyto_path)\n",
    "    mask_nuclei = skimage.io.imread(mask_nuclei_path)\n",
    "    df_cell_info = pd.read_csv(df_path)\n",
    "    nuclei2cell = dict(zip(df_cell_info.iloc[:,0], df_cell_info.iloc[:,1]))   \n",
    "    replaced = replace_with_dict2(mask_nuclei, nuclei2cell)\n",
    "    \n",
    "    # Extract contours\n",
    "    contours_cyto, labels_cyto = get_contours_mask(mask_cyto)\n",
    "    contours_nuclei, labels_nuclei = get_contours_mask(replaced)\n",
    "    \n",
    "    # Save data\n",
    "    save_path = contour_save_path / (name+'.pkl')\n",
    "    with open(save_path, 'wb') as f:\n",
    "        pickle.dump([contours_cyto, labels_cyto, contours_nuclei, labels_nuclei], \n",
    "                    f, protocol=pickle.HIGHEST_PROTOCOL)"
   ]
  },
  {
   "cell_type": "markdown",
   "id": "dd6a97dc-af3a-41eb-9462-95df2e82af9a",
   "metadata": {
    "tags": []
   },
   "source": [
    "# Extract per cell PPI count"
   ]
  },
  {
   "cell_type": "code",
   "execution_count": 14,
   "id": "900cd4ab-3e47-4d51-9a88-1ea26f80ef9b",
   "metadata": {},
   "outputs": [],
   "source": [
    "import pickle \n",
    "\n",
    "def read_PPI(path):\n",
    "    with open(path, 'rb') as file:\n",
    "        PPI_dict = pickle.load(file)\n",
    "\n",
    "    return PPI_dict\n",
    "\n",
    "def create_PPI_df(PPI_labels, PPI_loc, name, cyto=True):\n",
    "    if cyto:\n",
    "        columns_name = ['Cyto', 'x', 'y']\n",
    "    else:\n",
    "        columns_name = ['Nuclei', 'x', 'y']\n",
    "    df = pd.DataFrame(np.hstack([PPI_labels[:,np.newaxis], PPI_loc]), \n",
    "                      columns=columns_name)\n",
    "    df['PPI'] = name\n",
    "    return df"
   ]
  },
  {
   "cell_type": "code",
   "execution_count": 15,
   "id": "ce0f19fa-d696-472a-9d70-be4b966d47a3",
   "metadata": {},
   "outputs": [],
   "source": [
    "mask_filt_dir = data_dir / '9PPI Cell Culture' / 'Whole' / 'imgs' / 'masks_filtered'\n",
    "PPI_save_path =  data_dir / '9PPI Cell Culture' / 'Whole' / 'PPI'\n",
    "\n",
    "masks_path = defaultdict(dict) \n",
    "for path in os.listdir(mask_filt_dir):\n",
    "    name = path.split('.')[0]\n",
    "    if 'Nuclei' in name:\n",
    "        masks_path[name[7:]]['nuclei'] = mask_filt_dir / path\n",
    "    elif 'Cyto' in name:\n",
    "        masks_path[name[5:]]['cyto'] =mask_filt_dir / path\n",
    "    elif 'Cell' in name:\n",
    "        masks_path[name[5:]]['cell'] =mask_filt_dir / path    \n",
    "    elif 'df' in name:\n",
    "        masks_path[name[3:]]['df'] =mask_filt_dir / path\n",
    "    else:\n",
    "        pass"
   ]
  },
  {
   "cell_type": "code",
   "execution_count": 16,
   "id": "1597c6ac-c1c9-425f-9f3b-427bbd862a1e",
   "metadata": {},
   "outputs": [],
   "source": [
    "for row in df_imgs.itertuples():\n",
    "    name = '_'.join(row[1:3])\n",
    "    \n",
    "    # Read masks\n",
    "    mask_cyto_path = masks_path[name]['cell']\n",
    "    mask_nuclei_path = masks_path[name]['nuclei']\n",
    "    df_path =  masks_path[name]['df']\n",
    "    \n",
    "    mask_cyto = skimage.io.imread(mask_cyto_path)\n",
    "    mask_nuclei = skimage.io.imread(mask_nuclei_path)\n",
    "    df_cell_info = pd.read_csv(df_path)\n",
    "    nuclei2cell = dict(zip(df_cell_info.iloc[:,0], df_cell_info.iloc[:,1]))   \n",
    "    \n",
    "    # Read PPi\n",
    "    PPI_dict = read_PPI(PPI_save_path / f'{name}.pkl')\n",
    "    dfs_PPI_cyto = []\n",
    "    dfs_PPI_nuclei = []\n",
    "    for k in PPI_dict.keys():\n",
    "        PPI_loc = PPI_dict[k][:, 1:3].astype(np.uint32)\n",
    "        \n",
    "        # Cyto\n",
    "        PPI_labels = mask_cyto[PPI_loc[:,0], PPI_loc[:,1]]\n",
    "        df_PPI = create_PPI_df(PPI_labels, PPI_loc, k)\n",
    "        dfs_PPI_cyto.append(df_PPI)\n",
    "        \n",
    "        # Nuclei\n",
    "        PPI_labels = mask_nuclei[PPI_loc[:,0], PPI_loc[:,1]]\n",
    "        df_PPI = create_PPI_df(PPI_labels, PPI_loc, k, cyto=False)\n",
    "        dfs_PPI_nuclei.append(df_PPI)\n",
    "    \n",
    "    # Combined DFs\n",
    "    df_PPI_cyto = pd.concat(dfs_PPI_cyto)\n",
    "    df_PPI_nuclei = pd.concat(dfs_PPI_nuclei)\n",
    "    df_PPI_nuclei['Nuclei'] = df_PPI_nuclei['Nuclei'].apply(lambda x: nuclei2cell.get(x,x))   \n",
    "    df_merged = df_PPI_cyto.merge(df_PPI_nuclei)\n",
    "    df_merged['Condition'] = row[1]\n",
    "    df_merged['FOV'] = row[2]\n",
    "    \n",
    "    # Save dataframe\n",
    "    path = PPI_save_path / f'{name}.csv'\n",
    "    df_merged.to_csv(path, index=False)"
   ]
  },
  {
   "cell_type": "markdown",
   "id": "39cab88d-832a-4659-8219-ae5cb953facb",
   "metadata": {
    "tags": []
   },
   "source": [
    "# Generate PPI network"
   ]
  },
  {
   "cell_type": "code",
   "execution_count": 40,
   "id": "5ee26c8c-5429-4a5c-a83c-e038d79faded",
   "metadata": {},
   "outputs": [],
   "source": [
    "from sklearn.preprocessing import OneHotEncoder\n",
    "import networkx as nx\n",
    "from sklearn import preprocessing\n",
    "from libpysal import weights\n",
    "from itertools import count\n",
    "from libpysal.cg import voronoi_frames\n",
    "import scipy \n",
    "from scipy.spatial import Delaunay\n",
    "import itertools\n",
    "import pickle\n",
    "\n",
    "def create_network(df, t=50, scale=0.2):   \n",
    "    y,x = df['y'].to_numpy(), df['x'].to_numpy()\n",
    "\n",
    "    # Get coordinates\n",
    "    coordinates = np.vstack([x, y]).T\n",
    "    points = coordinates - np.mean(coordinates, axis=0)\n",
    "    \n",
    "    # Delaunay\n",
    "    tri = Delaunay(points)\n",
    "    G = nx.Graph()\n",
    "    for path in tri.simplices:\n",
    "        G.add_nodes_from(path)\n",
    "        edges = list(itertools.combinations(path, 2))\n",
    "        G.add_edges_from(edges)\n",
    "    \n",
    "    # Euclidian distance\n",
    "    distance = scipy.spatial.distance_matrix(points, points)\n",
    "    l = t**2/np.log(t)\n",
    "    distance_norm = np.exp(-distance**2/t)\n",
    "\n",
    "    # distance_norm = np.where(distance>t, 0, np.exp(-distance*2/l))\n",
    "    \n",
    "    g_dist = nx.from_numpy_array(distance_norm)\n",
    "    g = g_dist.edge_subgraph(G.edges()).copy() # Only keep delaunay edges\n",
    "    nx.set_node_attributes(g, dict(zip(g.nodes(), df.Labels)), \"labels\")\n",
    "    nuclei = (df.Nuclei > 0).astype(int).tolist()\n",
    "    nx.set_node_attributes(g, dict(zip(g.nodes(), nuclei)), \"nuclei\")\n",
    "    nx.set_node_attributes(g, dict(zip(g.nodes(), coordinates)), \"pos\")\n",
    "    return g\n",
    "\n",
    "def create_network3(df, t=50):    \n",
    "    # Get coordinates\n",
    "    coordinates = np.column_stack((df.x, df.y))\n",
    "    points = coordinates - np.mean(coordinates, axis=0)\n",
    "    \n",
    "    # Delaunay\n",
    "    vcells, generators = voronoi_frames(points, clip=\"chull\")\n",
    "    delaunay = weights.Rook.from_dataframe(vcells)\n",
    "    g_de = delaunay.to_networkx()  \n",
    "    \n",
    "    # Euclidian distance\n",
    "    distance = scipy.spatial.distance_matrix(points, points)\n",
    "    l = t**2/np.log(t)\n",
    "    distance_norm = np.exp(-distance**2/t)\n",
    "\n",
    "    # distance_norm = np.where(distance>t, 0, np.exp(-distance*2/l))\n",
    "    \n",
    "    g_dist = nx.from_numpy_array(distance_norm)\n",
    "    g = g_dist.edge_subgraph(g_de.edges()).copy() # Only keep delaunay edges\n",
    "    nx.set_node_attributes(g, dict(zip(g.nodes(), df.Labels)), \"labels\")\n",
    "    nuclei = (df.Nuclei > 0).astype(int).tolist()\n",
    "    nx.set_node_attributes(g, dict(zip(g.nodes(), nuclei)), \"nuclei\")\n",
    "    nx.set_node_attributes(g, dict(zip(g.nodes(), coordinates)), \"pos\")\n",
    "    return g"
   ]
  },
  {
   "cell_type": "code",
   "execution_count": 41,
   "id": "3baddc33-2b90-4504-b946-797302b354f6",
   "metadata": {},
   "outputs": [],
   "source": [
    "PPI_save_path =  data_dir / '9PPI Cell Culture' / 'Whole' / 'PPI'\n",
    "\n",
    "# Read PPi info \n",
    "dfs = []\n",
    "for path in os.listdir(PPI_save_path):\n",
    "    if 'csv' in path:\n",
    "        df = pd.read_csv(PPI_save_path / path)\n",
    "        dfs.append(df)\n",
    "df = pd.concat(dfs)\n",
    "df = df[df.PPI.isin(['Cyclin D1 & CDK2', 'NF-Kb & p-P90rsk', 'Sox2 & Oct4',\n",
    "       'Bim & Tom20', 'Mcl-1 & BAK', 'p-ERK & c-MYC', 'TEAD1 & YAP',\n",
    "       'Cyclin E & CDK4', 'P-AKT & mTOR'])]\n",
    "\n",
    "# Create label \n",
    "enc = OneHotEncoder(handle_unknown='ignore')\n",
    "labels = enc.fit_transform(df['PPI'].to_numpy().reshape(-1, 1)).toarray().astype(np.uint8)\n",
    "df['Labels'] = labels.tolist()"
   ]
  },
  {
   "cell_type": "code",
   "execution_count": 53,
   "id": "c4ffa068-c2a7-4b67-b4a0-28da92b5f248",
   "metadata": {
    "tags": []
   },
   "outputs": [
    {
     "data": {
      "application/vnd.jupyter.widget-view+json": {
       "model_id": "e3bfb6b960e146d9989e760178f0c1d4",
       "version_major": 2,
       "version_minor": 0
      },
      "text/plain": [
       "  0%|          | 0/1495 [00:00<?, ?it/s]"
      ]
     },
     "metadata": {},
     "output_type": "display_data"
    }
   ],
   "source": [
    "graph_save_path =  data_dir / '9PPI Cell Culture' / 'Whole' / 'graphs' / 'raw'\n",
    "graph_save_path.mkdir(parents=True, exist_ok=True)\n",
    "\n",
    "group = df.groupby(['Condition', 'FOV', 'Cyto'])\n",
    "for name, df_group in tqdm(group, total=len(group)):\n",
    "    if name[2] == 0:\n",
    "        continue\n",
    "    if len(df_group) < 5:\n",
    "        continue\n",
    "    \n",
    "    # Remove duplicated \n",
    "    df_group.drop_duplicates(subset=['x', 'y', 'PPI'],\n",
    "                             keep='first', inplace=True)\n",
    "    \n",
    "    # Add small variatio to close PPI \n",
    "    while df_group.duplicated(subset=['x', 'y']).any():\n",
    "        df_group.loc[df_group.duplicated(subset=['x', 'y']), ['x', 'y']] += [1,1] \n",
    "    \n",
    "    # Generate graph and info\n",
    "    g = create_network(df_group)\n",
    "    if nx.number_of_isolates(g)>0:\n",
    "        print('Isolated nodes')\n",
    "        \n",
    "    # Save pgrahs\n",
    "    save_path = graph_save_path / ('_'.join([str(n) for n in name])+'.pkl')\n",
    "    with open(save_path, 'wb') as f:\n",
    "        pickle.dump(g, f, protocol=pickle.HIGHEST_PROTOCOL)\n",
    "    "
   ]
  },
  {
   "cell_type": "code",
   "execution_count": null,
   "id": "fc938cbd-21c9-4861-a5e5-e413226e10fd",
   "metadata": {},
   "outputs": [
    {
     "data": {
      "application/vnd.jupyter.widget-view+json": {
       "model_id": "",
       "version_major": 2,
       "version_minor": 0
      },
      "text/plain": [
       "  0%|          | 0/1495 [00:00<?, ?it/s]"
      ]
     },
     "metadata": {},
     "output_type": "display_data"
    }
   ],
   "source": [
    "# group = df.groupby(['Condition', 'FOV', 'Cyto'])\n",
    "# for name, df_group in tqdm(group, total=len(group)):\n",
    "#     if name[2] == 0:\n",
    "#         continue\n",
    "#     if len(df_group) < 5:\n",
    "#         continue\n",
    "    \n",
    "#     # Remove duplicated \n",
    "#     df_group.drop_duplicates(subset=['x', 'y', 'PPI'],\n",
    "#                              keep='first', inplace=True)\n",
    "    \n",
    "#     # Add small variatio to close PPI \n",
    "#     while df_group.duplicated(subset=['x', 'y']).any():\n",
    "#         df_group.loc[df_group.duplicated(subset=['x', 'y']), ['x', 'y']] += [1,1] \n",
    "    \n",
    "#     if df_group.duplicated(subset=['x', 'y']).any():\n",
    "#         break"
   ]
  },
  {
   "cell_type": "code",
   "execution_count": null,
   "id": "4d81c33b-a27b-4c72-8c84-c6a675cb11a7",
   "metadata": {},
   "outputs": [],
   "source": []
  },
  {
   "cell_type": "code",
   "execution_count": null,
   "id": "48956acd-1301-483f-a733-af8dc0cd36cd",
   "metadata": {},
   "outputs": [],
   "source": []
  },
  {
   "cell_type": "code",
   "execution_count": null,
   "id": "d04ab91d-0e78-4c61-b476-31e1808102f1",
   "metadata": {},
   "outputs": [],
   "source": [
    "len(group)"
   ]
  },
  {
   "cell_type": "code",
   "execution_count": 35,
   "id": "1ad90d1e-f0e6-4d70-83d2-aee875ceac0c",
   "metadata": {},
   "outputs": [
    {
     "data": {
      "image/png": "[encoded data removed]",
      "text/plain": [
       "<Figure size 640x480 with 1 Axes>"
      ]
     },
     "metadata": {},
     "output_type": "display_data"
    }
   ],
   "source": [
    "y,x = df_group['y'].to_numpy(), df_group['x'].to_numpy()\n",
    "\n",
    "points = np.vstack([x, y]).T\n",
    "tri = Delaunay(points)\n",
    "\n",
    "G = nx.Graph()\n",
    "for path in tri.simplices:\n",
    "    G.add_nodes_from(path)\n",
    "    edges = list(itertools.combinations(path, 2))\n",
    "    G.add_edges_from(edges)\n",
    "    \n",
    "pos = points\n",
    "node_xyz = np.array([pos[v] for v in sorted(G)])\n",
    "edge_xyz = np.array([(pos[u], pos[v]) for u, v in G.edges()])\n",
    "\n",
    "# Create the 3D figure\n",
    "fig = plt.figure()\n",
    "ax = fig.add_subplot()\n",
    "\n",
    "# Plot the nodes - alpha is scaled by \"depth\" automatically\n",
    "ax.scatter(*node_xyz.T, color='b')\n",
    "for vizedge in edge_xyz:\n",
    "    ax.plot(*vizedge.T, color='g', lw=0.5)"
   ]
  },
  {
   "cell_type": "code",
   "execution_count": null,
   "id": "b3d81681-6103-446f-8e76-490040c4011d",
   "metadata": {},
   "outputs": [],
   "source": []
  }
 ],
 "metadata": {
  "kernelspec": {
   "display_name": "Python [conda env:PLA]",
   "language": "python",
   "name": "conda-env-PLA-py"
  },
  "language_info": {
   "codemirror_mode": {
    "name": "ipython",
    "version": 3
   },
   "file_extension": ".py",
   "mimetype": "text/x-python",
   "name": "python",
   "nbconvert_exporter": "python",
   "pygments_lexer": "ipython3",
   "version": "3.9.16"
  }
 },
 "nbformat": 4,
 "nbformat_minor": 5
}
