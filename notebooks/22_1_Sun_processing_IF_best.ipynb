{
 "cells": [
  {
   "cell_type": "code",
   "execution_count": 13,
   "metadata": {},
   "outputs": [],
   "source": [
    "import itertools\n",
    "import os\n",
    "import sys\n",
    "from pathlib import Path\n",
    "\n",
    "import cv2\n",
    "import matplotlib.pyplot as plt\n",
    "import numpy as np\n",
    "import pandas as pd\n",
    "import skimage.io\n",
    "\n",
    "from collections import defaultdict\n",
    "from tqdm.notebook import trange, tqdm, tqdm_notebook\n",
    "from joblib import Parallel, delayed\n",
    "import re\n",
    "import h5py\n",
    "import tifffile as tiff\n"
   ]
  },
  {
   "cell_type": "code",
   "execution_count": 14,
   "metadata": {},
   "outputs": [
    {
     "name": "stdout",
     "output_type": "stream",
     "text": [
      "The autoreload extension is already loaded. To reload it, use:\n",
      "  %reload_ext autoreload\n"
     ]
    }
   ],
   "source": [
    "%load_ext autoreload\n",
    "%autoreload 2"
   ]
  },
  {
   "cell_type": "code",
   "execution_count": 15,
   "metadata": {},
   "outputs": [],
   "source": [
    "data_dir = (Path().cwd().parents[0] / 'data').absolute()\n",
    "data_processed = data_dir / 'processed'\n",
    "data_raw = r'Y:\\coskun-lab\\Shuangyi\\ERK, YAP project_2022\\Sun Oh experiments\\IF intensity on fixed permeabilized cells 27Mar24'\n"
   ]
  },
  {
   "cell_type": "code",
   "execution_count": 16,
   "metadata": {},
   "outputs": [],
   "source": [
    "import os\n",
    " \n",
    "os.environ['JDK_HOME'] = \"C:\\Program Files\\Java\\jdk-17\"\n",
    "os.environ['JAVA_HOME'] = \"C:\\Program Files\\Java\\jdk-17\"\n",
    "\n",
    "os.environ['PATH'] += ';C:\\\\Program Files\\\\Java\\\\jdk-17\\\\jre\\\\bin\\\\server\\\\;C:\\\\Program Files\\\\Java\\\\jdk-17\\\\bin\\\\;C:\\\\Program Files\\\\Java\\\\jdk-17\\\\bin\\\\jar.exe'"
   ]
  },
  {
   "cell_type": "markdown",
   "metadata": {},
   "source": [
    "# Get info"
   ]
  },
  {
   "cell_type": "code",
   "execution_count": 20,
   "metadata": {},
   "outputs": [],
   "source": [
    "markers_map = {\n",
    "    'cycle1': {\n",
    "        1: 'Hoechst', \n",
    "        2: 'DR5',\n",
    "        3: 'TRAIL',\n",
    "    },\n",
    "    'cycle2': {\n",
    "        1: 'Hoechst', \n",
    "        3: 'Phalloidin',\n",
    "    },\n",
    "}\n",
    "\n",
    "def get_info(data_raw, marker_dict):\n",
    "    cells = []\n",
    "    conditions = []\n",
    "    types = []\n",
    "\n",
    "    cycles = []\n",
    "    channels = []\n",
    "    markers = []\n",
    "    rois = []\n",
    "    z_stacks = []\n",
    "    paths = [] \n",
    "    \n",
    "    # Loop through image folder\n",
    "    for (dirpath, dirnames, filenames) in os.walk(data_raw):\n",
    "        if 'after nuclease' in dirpath or 'Test' in dirpath or 'wrong' in dirpath:\n",
    "            continue\n",
    "        \n",
    "        for name in sorted(filenames):\n",
    "            if \"tif\" in name and \"sti\" not in name \\\n",
    "            and 'overlay' not in name.lower() \\\n",
    "            and 'Composite' not in name:\n",
    "                # Get information from image name\n",
    "                d_split = dirpath.split('\\\\')\n",
    "\n",
    "                cell = d_split[-2]\n",
    "                condition = d_split[-1].split(' ')[1]\n",
    "                t = 'Fixed'\n",
    "\n",
    "                n_split = name.split('_')\n",
    "                ch = int(n_split[-1][-5])\n",
    "                roi = int(n_split[1])\n",
    "                z = int(n_split[2][1:])\n",
    "                if 'Phall' in dirpath:\n",
    "                    cycle = 'cycle2'\n",
    "                else:\n",
    "                    cycle = 'cycle1'\n",
    "                try: marker = marker_dict[cycle][ch] \n",
    "                except: continue\n",
    "\n",
    "                cells.append(cell)\n",
    "                conditions.append(condition)\n",
    "                types.append(t)\n",
    "\n",
    "                cycles.append(cycle)\n",
    "                channels.append(ch)\n",
    "                markers.append(marker)\n",
    "                rois.append(roi)\n",
    "                z_stacks.append(z)\n",
    "                paths.append(os.path.join(dirpath, name))\n",
    "                \n",
    "    info = {\n",
    "            \"Cell\": cells,\n",
    "            \"Condition\": conditions,\n",
    "            'FOV': types, \n",
    "            \"Cycle\": cycles,\n",
    "            \"Channels\": channels,\n",
    "            \"Markers\": markers,\n",
    "            \"ROI\": rois,\n",
    "            \"Z\": z_stacks,\n",
    "            \"Path\": paths\n",
    "        }\n",
    "\n",
    "    df = pd.DataFrame(info)\n",
    "    return df"
   ]
  },
  {
   "cell_type": "code",
   "execution_count": 21,
   "metadata": {},
   "outputs": [
    {
     "name": "stdout",
     "output_type": "stream",
     "text": [
      "Created df\n"
     ]
    }
   ],
   "source": [
    "df_meta_path = data_dir / 'sun_IF_3D' / 'metadata' / 'info.csv'\n",
    "df_meta_path.parent.mkdir(parents=True, exist_ok=True)\n",
    "\n",
    "df_exist = df_meta_path.is_file()\n",
    "\n",
    "if not df_exist:\n",
    "    print('Created df')\n",
    "    df = get_info(data_raw, markers_map)\n",
    "    # df.to_csv(df_meta_path, index=False)\n",
    "else:\n",
    "    print('Loaded df')\n",
    "    df = pd.read_csv(df_meta_path)"
   ]
  },
  {
   "cell_type": "code",
   "execution_count": 22,
   "metadata": {},
   "outputs": [
    {
     "data": {
      "text/html": [
       "<div>\n",
       "<style scoped>\n",
       "    .dataframe tbody tr th:only-of-type {\n",
       "        vertical-align: middle;\n",
       "    }\n",
       "\n",
       "    .dataframe tbody tr th {\n",
       "        vertical-align: top;\n",
       "    }\n",
       "\n",
       "    .dataframe thead th {\n",
       "        text-align: right;\n",
       "    }\n",
       "</style>\n",
       "<table border=\"1\" class=\"dataframe\">\n",
       "  <thead>\n",
       "    <tr style=\"text-align: right;\">\n",
       "      <th></th>\n",
       "      <th>Cell</th>\n",
       "      <th>Condition</th>\n",
       "      <th>FOV</th>\n",
       "      <th>Cycle</th>\n",
       "      <th>Channels</th>\n",
       "      <th>Markers</th>\n",
       "      <th>ROI</th>\n",
       "      <th>Z</th>\n",
       "      <th>Path</th>\n",
       "    </tr>\n",
       "  </thead>\n",
       "  <tbody>\n",
       "    <tr>\n",
       "      <th>0</th>\n",
       "      <td>HCC827</td>\n",
       "      <td>ctrl</td>\n",
       "      <td>Fixed</td>\n",
       "      <td>cycle1</td>\n",
       "      <td>1</td>\n",
       "      <td>Hoechst</td>\n",
       "      <td>1</td>\n",
       "      <td>1</td>\n",
       "      <td>Y:\\coskun-lab\\Shuangyi\\ERK, YAP project_2022\\S...</td>\n",
       "    </tr>\n",
       "    <tr>\n",
       "      <th>1</th>\n",
       "      <td>HCC827</td>\n",
       "      <td>ctrl</td>\n",
       "      <td>Fixed</td>\n",
       "      <td>cycle1</td>\n",
       "      <td>2</td>\n",
       "      <td>DR5</td>\n",
       "      <td>1</td>\n",
       "      <td>1</td>\n",
       "      <td>Y:\\coskun-lab\\Shuangyi\\ERK, YAP project_2022\\S...</td>\n",
       "    </tr>\n",
       "    <tr>\n",
       "      <th>2</th>\n",
       "      <td>HCC827</td>\n",
       "      <td>ctrl</td>\n",
       "      <td>Fixed</td>\n",
       "      <td>cycle1</td>\n",
       "      <td>3</td>\n",
       "      <td>TRAIL</td>\n",
       "      <td>1</td>\n",
       "      <td>1</td>\n",
       "      <td>Y:\\coskun-lab\\Shuangyi\\ERK, YAP project_2022\\S...</td>\n",
       "    </tr>\n",
       "    <tr>\n",
       "      <th>3</th>\n",
       "      <td>HCC827</td>\n",
       "      <td>ctrl</td>\n",
       "      <td>Fixed</td>\n",
       "      <td>cycle1</td>\n",
       "      <td>1</td>\n",
       "      <td>Hoechst</td>\n",
       "      <td>1</td>\n",
       "      <td>2</td>\n",
       "      <td>Y:\\coskun-lab\\Shuangyi\\ERK, YAP project_2022\\S...</td>\n",
       "    </tr>\n",
       "    <tr>\n",
       "      <th>4</th>\n",
       "      <td>HCC827</td>\n",
       "      <td>ctrl</td>\n",
       "      <td>Fixed</td>\n",
       "      <td>cycle1</td>\n",
       "      <td>2</td>\n",
       "      <td>DR5</td>\n",
       "      <td>1</td>\n",
       "      <td>2</td>\n",
       "      <td>Y:\\coskun-lab\\Shuangyi\\ERK, YAP project_2022\\S...</td>\n",
       "    </tr>\n",
       "  </tbody>\n",
       "</table>\n",
       "</div>"
      ],
      "text/plain": [
       "     Cell Condition    FOV   Cycle  Channels  Markers  ROI  Z  \\\n",
       "0  HCC827      ctrl  Fixed  cycle1         1  Hoechst    1  1   \n",
       "1  HCC827      ctrl  Fixed  cycle1         2      DR5    1  1   \n",
       "2  HCC827      ctrl  Fixed  cycle1         3    TRAIL    1  1   \n",
       "3  HCC827      ctrl  Fixed  cycle1         1  Hoechst    1  2   \n",
       "4  HCC827      ctrl  Fixed  cycle1         2      DR5    1  2   \n",
       "\n",
       "                                                Path  \n",
       "0  Y:\\coskun-lab\\Shuangyi\\ERK, YAP project_2022\\S...  \n",
       "1  Y:\\coskun-lab\\Shuangyi\\ERK, YAP project_2022\\S...  \n",
       "2  Y:\\coskun-lab\\Shuangyi\\ERK, YAP project_2022\\S...  \n",
       "3  Y:\\coskun-lab\\Shuangyi\\ERK, YAP project_2022\\S...  \n",
       "4  Y:\\coskun-lab\\Shuangyi\\ERK, YAP project_2022\\S...  "
      ]
     },
     "execution_count": 22,
     "metadata": {},
     "output_type": "execute_result"
    }
   ],
   "source": [
    "df.head()"
   ]
  },
  {
   "cell_type": "code",
   "execution_count": 24,
   "metadata": {},
   "outputs": [
    {
     "data": {
      "text/plain": [
       "Cell    Condition  FOV    ROI\n",
       "HCC827  O          Fixed  1      134\n",
       "                          2      134\n",
       "                          3      134\n",
       "                          4      134\n",
       "                          5      134\n",
       "                          6      134\n",
       "                          7      134\n",
       "                          8      134\n",
       "                          9      134\n",
       "        ctrl       Fixed  1      123\n",
       "                          2      123\n",
       "                          3      123\n",
       "                          4      123\n",
       "                          5      123\n",
       "                          6      123\n",
       "                          7      123\n",
       "                          8      123\n",
       "                          9      123\n",
       "PC9     O          Fixed  1      129\n",
       "                          2      129\n",
       "                          3      129\n",
       "                          4      129\n",
       "                          5      129\n",
       "                          6      129\n",
       "                          7      129\n",
       "                          8      129\n",
       "                          9      129\n",
       "        ctrl       Fixed  1      122\n",
       "                          2      122\n",
       "                          3      122\n",
       "                          4      122\n",
       "                          5      122\n",
       "                          6      122\n",
       "                          7      122\n",
       "                          8      122\n",
       "                          9      122\n",
       "dtype: int64"
      ]
     },
     "execution_count": 24,
     "metadata": {},
     "output_type": "execute_result"
    }
   ],
   "source": [
    "df.groupby(['Cell', 'Condition', 'FOV', 'ROI']).size()"
   ]
  },
  {
   "cell_type": "markdown",
   "metadata": {},
   "source": [
    "# Save HDF5"
   ]
  },
  {
   "cell_type": "code",
   "execution_count": 30,
   "metadata": {},
   "outputs": [],
   "source": [
    "import h5py\n",
    "from natsort import natsort_keygen, natsorted\n",
    "\n",
    "def save_hdf5(\n",
    "    path: str, name: str, data: np.ndarray, attr_dict=None, mode: str = \"a\"\n",
    ") -> None:\n",
    "    # Read h5 file\n",
    "    hf = h5py.File(path, mode)\n",
    "    # Create z_stack_dataset\n",
    "    if hf.get(name) is None:\n",
    "        data_shape = data.shape\n",
    "        data_type = data.dtype\n",
    "        max_shape = (data_shape[0],) + data_shape[1:]\n",
    "        dset = hf.create_dataset(\n",
    "            name,\n",
    "            shape=data_shape,\n",
    "            maxshape=max_shape,\n",
    "            chunks=True,\n",
    "            dtype=data_type,\n",
    "            compression=\"gzip\",\n",
    "        )\n",
    "        dset[:] = data\n",
    "        if attr_dict is not None:\n",
    "            for attr_key, attr_val in attr_dict.items():\n",
    "                dset.attrs[attr_key] = attr_val\n",
    "    else:\n",
    "        print(f\"Dataset {name} exists\")\n",
    "\n",
    "    hf.close()\n",
    "\n",
    "def test_data_exist(file_path, name):\n",
    "    with h5py.File(file_path, \"r\") as h5fout:\n",
    "        if name in h5fout:\n",
    "            return True\n",
    "        else:\n",
    "            return False\n",
    "        \n",
    "def read_img(path):\n",
    "    return skimage.io.imread(path, as_gray=True)\n",
    "\n",
    "def joblib_loop(task, pics):\n",
    "    return Parallel(n_jobs=20)(delayed(task)(i) for i in pics)"
   ]
  },
  {
   "cell_type": "code",
   "execution_count": 31,
   "metadata": {},
   "outputs": [
    {
     "data": {
      "text/html": [
       "<div>\n",
       "<style scoped>\n",
       "    .dataframe tbody tr th:only-of-type {\n",
       "        vertical-align: middle;\n",
       "    }\n",
       "\n",
       "    .dataframe tbody tr th {\n",
       "        vertical-align: top;\n",
       "    }\n",
       "\n",
       "    .dataframe thead th {\n",
       "        text-align: right;\n",
       "    }\n",
       "</style>\n",
       "<table border=\"1\" class=\"dataframe\">\n",
       "  <thead>\n",
       "    <tr style=\"text-align: right;\">\n",
       "      <th></th>\n",
       "      <th>Cell</th>\n",
       "      <th>Condition</th>\n",
       "      <th>FOV</th>\n",
       "      <th>Cycle</th>\n",
       "      <th>Channels</th>\n",
       "      <th>Markers</th>\n",
       "      <th>ROI</th>\n",
       "      <th>Z</th>\n",
       "      <th>Path</th>\n",
       "    </tr>\n",
       "  </thead>\n",
       "  <tbody>\n",
       "    <tr>\n",
       "      <th>0</th>\n",
       "      <td>HCC827</td>\n",
       "      <td>ctrl</td>\n",
       "      <td>Fixed</td>\n",
       "      <td>cycle1</td>\n",
       "      <td>1</td>\n",
       "      <td>Hoechst</td>\n",
       "      <td>1</td>\n",
       "      <td>1</td>\n",
       "      <td>Y:\\coskun-lab\\Shuangyi\\ERK, YAP project_2022\\S...</td>\n",
       "    </tr>\n",
       "    <tr>\n",
       "      <th>1</th>\n",
       "      <td>HCC827</td>\n",
       "      <td>ctrl</td>\n",
       "      <td>Fixed</td>\n",
       "      <td>cycle1</td>\n",
       "      <td>2</td>\n",
       "      <td>DR5</td>\n",
       "      <td>1</td>\n",
       "      <td>1</td>\n",
       "      <td>Y:\\coskun-lab\\Shuangyi\\ERK, YAP project_2022\\S...</td>\n",
       "    </tr>\n",
       "    <tr>\n",
       "      <th>2</th>\n",
       "      <td>HCC827</td>\n",
       "      <td>ctrl</td>\n",
       "      <td>Fixed</td>\n",
       "      <td>cycle1</td>\n",
       "      <td>3</td>\n",
       "      <td>TRAIL</td>\n",
       "      <td>1</td>\n",
       "      <td>1</td>\n",
       "      <td>Y:\\coskun-lab\\Shuangyi\\ERK, YAP project_2022\\S...</td>\n",
       "    </tr>\n",
       "    <tr>\n",
       "      <th>3</th>\n",
       "      <td>HCC827</td>\n",
       "      <td>ctrl</td>\n",
       "      <td>Fixed</td>\n",
       "      <td>cycle1</td>\n",
       "      <td>1</td>\n",
       "      <td>Hoechst</td>\n",
       "      <td>1</td>\n",
       "      <td>2</td>\n",
       "      <td>Y:\\coskun-lab\\Shuangyi\\ERK, YAP project_2022\\S...</td>\n",
       "    </tr>\n",
       "    <tr>\n",
       "      <th>4</th>\n",
       "      <td>HCC827</td>\n",
       "      <td>ctrl</td>\n",
       "      <td>Fixed</td>\n",
       "      <td>cycle1</td>\n",
       "      <td>2</td>\n",
       "      <td>DR5</td>\n",
       "      <td>1</td>\n",
       "      <td>2</td>\n",
       "      <td>Y:\\coskun-lab\\Shuangyi\\ERK, YAP project_2022\\S...</td>\n",
       "    </tr>\n",
       "    <tr>\n",
       "      <th>...</th>\n",
       "      <td>...</td>\n",
       "      <td>...</td>\n",
       "      <td>...</td>\n",
       "      <td>...</td>\n",
       "      <td>...</td>\n",
       "      <td>...</td>\n",
       "      <td>...</td>\n",
       "      <td>...</td>\n",
       "      <td>...</td>\n",
       "    </tr>\n",
       "    <tr>\n",
       "      <th>4567</th>\n",
       "      <td>PC9</td>\n",
       "      <td>O</td>\n",
       "      <td>Fixed</td>\n",
       "      <td>cycle2</td>\n",
       "      <td>3</td>\n",
       "      <td>Phalloidin</td>\n",
       "      <td>9</td>\n",
       "      <td>22</td>\n",
       "      <td>Y:\\coskun-lab\\Shuangyi\\ERK, YAP project_2022\\S...</td>\n",
       "    </tr>\n",
       "    <tr>\n",
       "      <th>4568</th>\n",
       "      <td>PC9</td>\n",
       "      <td>O</td>\n",
       "      <td>Fixed</td>\n",
       "      <td>cycle2</td>\n",
       "      <td>1</td>\n",
       "      <td>Hoechst</td>\n",
       "      <td>9</td>\n",
       "      <td>23</td>\n",
       "      <td>Y:\\coskun-lab\\Shuangyi\\ERK, YAP project_2022\\S...</td>\n",
       "    </tr>\n",
       "    <tr>\n",
       "      <th>4569</th>\n",
       "      <td>PC9</td>\n",
       "      <td>O</td>\n",
       "      <td>Fixed</td>\n",
       "      <td>cycle2</td>\n",
       "      <td>3</td>\n",
       "      <td>Phalloidin</td>\n",
       "      <td>9</td>\n",
       "      <td>23</td>\n",
       "      <td>Y:\\coskun-lab\\Shuangyi\\ERK, YAP project_2022\\S...</td>\n",
       "    </tr>\n",
       "    <tr>\n",
       "      <th>4570</th>\n",
       "      <td>PC9</td>\n",
       "      <td>O</td>\n",
       "      <td>Fixed</td>\n",
       "      <td>cycle2</td>\n",
       "      <td>1</td>\n",
       "      <td>Hoechst</td>\n",
       "      <td>9</td>\n",
       "      <td>24</td>\n",
       "      <td>Y:\\coskun-lab\\Shuangyi\\ERK, YAP project_2022\\S...</td>\n",
       "    </tr>\n",
       "    <tr>\n",
       "      <th>4571</th>\n",
       "      <td>PC9</td>\n",
       "      <td>O</td>\n",
       "      <td>Fixed</td>\n",
       "      <td>cycle2</td>\n",
       "      <td>3</td>\n",
       "      <td>Phalloidin</td>\n",
       "      <td>9</td>\n",
       "      <td>24</td>\n",
       "      <td>Y:\\coskun-lab\\Shuangyi\\ERK, YAP project_2022\\S...</td>\n",
       "    </tr>\n",
       "  </tbody>\n",
       "</table>\n",
       "<p>4572 rows × 9 columns</p>\n",
       "</div>"
      ],
      "text/plain": [
       "        Cell Condition    FOV   Cycle  Channels     Markers  ROI   Z  \\\n",
       "0     HCC827      ctrl  Fixed  cycle1         1     Hoechst    1   1   \n",
       "1     HCC827      ctrl  Fixed  cycle1         2         DR5    1   1   \n",
       "2     HCC827      ctrl  Fixed  cycle1         3       TRAIL    1   1   \n",
       "3     HCC827      ctrl  Fixed  cycle1         1     Hoechst    1   2   \n",
       "4     HCC827      ctrl  Fixed  cycle1         2         DR5    1   2   \n",
       "...      ...       ...    ...     ...       ...         ...  ...  ..   \n",
       "4567     PC9         O  Fixed  cycle2         3  Phalloidin    9  22   \n",
       "4568     PC9         O  Fixed  cycle2         1     Hoechst    9  23   \n",
       "4569     PC9         O  Fixed  cycle2         3  Phalloidin    9  23   \n",
       "4570     PC9         O  Fixed  cycle2         1     Hoechst    9  24   \n",
       "4571     PC9         O  Fixed  cycle2         3  Phalloidin    9  24   \n",
       "\n",
       "                                                   Path  \n",
       "0     Y:\\coskun-lab\\Shuangyi\\ERK, YAP project_2022\\S...  \n",
       "1     Y:\\coskun-lab\\Shuangyi\\ERK, YAP project_2022\\S...  \n",
       "2     Y:\\coskun-lab\\Shuangyi\\ERK, YAP project_2022\\S...  \n",
       "3     Y:\\coskun-lab\\Shuangyi\\ERK, YAP project_2022\\S...  \n",
       "4     Y:\\coskun-lab\\Shuangyi\\ERK, YAP project_2022\\S...  \n",
       "...                                                 ...  \n",
       "4567  Y:\\coskun-lab\\Shuangyi\\ERK, YAP project_2022\\S...  \n",
       "4568  Y:\\coskun-lab\\Shuangyi\\ERK, YAP project_2022\\S...  \n",
       "4569  Y:\\coskun-lab\\Shuangyi\\ERK, YAP project_2022\\S...  \n",
       "4570  Y:\\coskun-lab\\Shuangyi\\ERK, YAP project_2022\\S...  \n",
       "4571  Y:\\coskun-lab\\Shuangyi\\ERK, YAP project_2022\\S...  \n",
       "\n",
       "[4572 rows x 9 columns]"
      ]
     },
     "execution_count": 31,
     "metadata": {},
     "output_type": "execute_result"
    }
   ],
   "source": [
    "df"
   ]
  },
  {
   "cell_type": "code",
   "execution_count": 32,
   "metadata": {},
   "outputs": [
    {
     "name": "stdout",
     "output_type": "stream",
     "text": [
      "Created df\n"
     ]
    },
    {
     "data": {
      "application/vnd.jupyter.widget-view+json": {
       "model_id": "f020e374b6934bb98a5b1a75100144a3",
       "version_major": 2,
       "version_minor": 0
      },
      "text/plain": [
       "  0%|          | 0/36 [00:00<?, ?it/s]"
      ]
     },
     "metadata": {},
     "output_type": "display_data"
    }
   ],
   "source": [
    "df_imgs_path = data_dir / 'sun_IF_3D' / 'metadata' / 'imgs.csv'\n",
    "df_imgs_path.parent.mkdir(parents=True, exist_ok=True)\n",
    "\n",
    "temp_path = data_dir  /'sun_IF_3D' /  'hdf5' / 'raw'\n",
    "temp_path.mkdir(parents=True, exist_ok=True)\n",
    "\n",
    "df_exist = df_imgs_path.is_file()\n",
    "\n",
    "if not df_exist:\n",
    "    print('Created df')\n",
    "    \n",
    "    group = df.groupby(['Cell', 'Condition', 'FOV', 'ROI'])\n",
    "    rows = []\n",
    "\n",
    "    for name, df_group in tqdm(group, total=len(group)):\n",
    "        df_group = df_group.sort_values( # Sort by cycle and channels\n",
    "            by=[\"Cycle\", \"Channels\", 'Z'],\n",
    "            key=natsort_keygen()\n",
    "        )\n",
    "        file_name = '_'.join(np.array(name).astype(str)) + '.hdf5'\n",
    "        file_path = temp_path / file_name\n",
    "        rows.append(list(name)+[file_path])\n",
    "        \n",
    "        group_channel = df_group.groupby(['Cycle', 'Channels'])\n",
    "        for n, df_channel in group_channel:\n",
    "            try:\n",
    "                if test_data_exist(file_path, '_'.join(np.array(n).astype(str))):\n",
    "                    continue\n",
    "            except:pass\n",
    "            \n",
    "            marker = df_channel.iloc[0].Markers\n",
    "            paths = df_channel.Path.to_numpy()\n",
    "\n",
    "            imgs = joblib_loop(read_img, paths)\n",
    "            imgs = np.array(imgs)\n",
    "            info = {\"Cycle\": n[0], \"Channel\": n[1], \"Marker\": marker, \"Z\": df_channel.Z.to_numpy()}\n",
    "            \n",
    "            # hdf5 as Channel -> Z mapping\n",
    "            save_hdf5(file_path, '_'.join(np.array(n).astype(str)), imgs, info)\n",
    "    df_imgs = pd.DataFrame(rows, columns=['Cell', 'Condition','FOV', 'ROI', 'Path'])        \n",
    "    df_imgs.to_csv(df_imgs_path, index=False)\n",
    "else:\n",
    "    print('Loaded df')\n",
    "    df_imgs = pd.read_csv(df_imgs_path)"
   ]
  },
  {
   "cell_type": "code",
   "execution_count": 33,
   "metadata": {},
   "outputs": [
    {
     "data": {
      "text/html": [
       "<div>\n",
       "<style scoped>\n",
       "    .dataframe tbody tr th:only-of-type {\n",
       "        vertical-align: middle;\n",
       "    }\n",
       "\n",
       "    .dataframe tbody tr th {\n",
       "        vertical-align: top;\n",
       "    }\n",
       "\n",
       "    .dataframe thead th {\n",
       "        text-align: right;\n",
       "    }\n",
       "</style>\n",
       "<table border=\"1\" class=\"dataframe\">\n",
       "  <thead>\n",
       "    <tr style=\"text-align: right;\">\n",
       "      <th></th>\n",
       "      <th>Cell</th>\n",
       "      <th>Condition</th>\n",
       "      <th>FOV</th>\n",
       "      <th>ROI</th>\n",
       "      <th>Path</th>\n",
       "    </tr>\n",
       "  </thead>\n",
       "  <tbody>\n",
       "    <tr>\n",
       "      <th>0</th>\n",
       "      <td>HCC827</td>\n",
       "      <td>O</td>\n",
       "      <td>Fixed</td>\n",
       "      <td>1</td>\n",
       "      <td>y:\\coskun-lab\\Thomas\\23_PLA_revision\\data\\sun_...</td>\n",
       "    </tr>\n",
       "    <tr>\n",
       "      <th>1</th>\n",
       "      <td>HCC827</td>\n",
       "      <td>O</td>\n",
       "      <td>Fixed</td>\n",
       "      <td>2</td>\n",
       "      <td>y:\\coskun-lab\\Thomas\\23_PLA_revision\\data\\sun_...</td>\n",
       "    </tr>\n",
       "    <tr>\n",
       "      <th>2</th>\n",
       "      <td>HCC827</td>\n",
       "      <td>O</td>\n",
       "      <td>Fixed</td>\n",
       "      <td>3</td>\n",
       "      <td>y:\\coskun-lab\\Thomas\\23_PLA_revision\\data\\sun_...</td>\n",
       "    </tr>\n",
       "    <tr>\n",
       "      <th>3</th>\n",
       "      <td>HCC827</td>\n",
       "      <td>O</td>\n",
       "      <td>Fixed</td>\n",
       "      <td>4</td>\n",
       "      <td>y:\\coskun-lab\\Thomas\\23_PLA_revision\\data\\sun_...</td>\n",
       "    </tr>\n",
       "    <tr>\n",
       "      <th>4</th>\n",
       "      <td>HCC827</td>\n",
       "      <td>O</td>\n",
       "      <td>Fixed</td>\n",
       "      <td>5</td>\n",
       "      <td>y:\\coskun-lab\\Thomas\\23_PLA_revision\\data\\sun_...</td>\n",
       "    </tr>\n",
       "    <tr>\n",
       "      <th>5</th>\n",
       "      <td>HCC827</td>\n",
       "      <td>O</td>\n",
       "      <td>Fixed</td>\n",
       "      <td>6</td>\n",
       "      <td>y:\\coskun-lab\\Thomas\\23_PLA_revision\\data\\sun_...</td>\n",
       "    </tr>\n",
       "    <tr>\n",
       "      <th>6</th>\n",
       "      <td>HCC827</td>\n",
       "      <td>O</td>\n",
       "      <td>Fixed</td>\n",
       "      <td>7</td>\n",
       "      <td>y:\\coskun-lab\\Thomas\\23_PLA_revision\\data\\sun_...</td>\n",
       "    </tr>\n",
       "    <tr>\n",
       "      <th>7</th>\n",
       "      <td>HCC827</td>\n",
       "      <td>O</td>\n",
       "      <td>Fixed</td>\n",
       "      <td>8</td>\n",
       "      <td>y:\\coskun-lab\\Thomas\\23_PLA_revision\\data\\sun_...</td>\n",
       "    </tr>\n",
       "    <tr>\n",
       "      <th>8</th>\n",
       "      <td>HCC827</td>\n",
       "      <td>O</td>\n",
       "      <td>Fixed</td>\n",
       "      <td>9</td>\n",
       "      <td>y:\\coskun-lab\\Thomas\\23_PLA_revision\\data\\sun_...</td>\n",
       "    </tr>\n",
       "    <tr>\n",
       "      <th>9</th>\n",
       "      <td>HCC827</td>\n",
       "      <td>ctrl</td>\n",
       "      <td>Fixed</td>\n",
       "      <td>1</td>\n",
       "      <td>y:\\coskun-lab\\Thomas\\23_PLA_revision\\data\\sun_...</td>\n",
       "    </tr>\n",
       "    <tr>\n",
       "      <th>10</th>\n",
       "      <td>HCC827</td>\n",
       "      <td>ctrl</td>\n",
       "      <td>Fixed</td>\n",
       "      <td>2</td>\n",
       "      <td>y:\\coskun-lab\\Thomas\\23_PLA_revision\\data\\sun_...</td>\n",
       "    </tr>\n",
       "    <tr>\n",
       "      <th>11</th>\n",
       "      <td>HCC827</td>\n",
       "      <td>ctrl</td>\n",
       "      <td>Fixed</td>\n",
       "      <td>3</td>\n",
       "      <td>y:\\coskun-lab\\Thomas\\23_PLA_revision\\data\\sun_...</td>\n",
       "    </tr>\n",
       "    <tr>\n",
       "      <th>12</th>\n",
       "      <td>HCC827</td>\n",
       "      <td>ctrl</td>\n",
       "      <td>Fixed</td>\n",
       "      <td>4</td>\n",
       "      <td>y:\\coskun-lab\\Thomas\\23_PLA_revision\\data\\sun_...</td>\n",
       "    </tr>\n",
       "    <tr>\n",
       "      <th>13</th>\n",
       "      <td>HCC827</td>\n",
       "      <td>ctrl</td>\n",
       "      <td>Fixed</td>\n",
       "      <td>5</td>\n",
       "      <td>y:\\coskun-lab\\Thomas\\23_PLA_revision\\data\\sun_...</td>\n",
       "    </tr>\n",
       "    <tr>\n",
       "      <th>14</th>\n",
       "      <td>HCC827</td>\n",
       "      <td>ctrl</td>\n",
       "      <td>Fixed</td>\n",
       "      <td>6</td>\n",
       "      <td>y:\\coskun-lab\\Thomas\\23_PLA_revision\\data\\sun_...</td>\n",
       "    </tr>\n",
       "    <tr>\n",
       "      <th>15</th>\n",
       "      <td>HCC827</td>\n",
       "      <td>ctrl</td>\n",
       "      <td>Fixed</td>\n",
       "      <td>7</td>\n",
       "      <td>y:\\coskun-lab\\Thomas\\23_PLA_revision\\data\\sun_...</td>\n",
       "    </tr>\n",
       "    <tr>\n",
       "      <th>16</th>\n",
       "      <td>HCC827</td>\n",
       "      <td>ctrl</td>\n",
       "      <td>Fixed</td>\n",
       "      <td>8</td>\n",
       "      <td>y:\\coskun-lab\\Thomas\\23_PLA_revision\\data\\sun_...</td>\n",
       "    </tr>\n",
       "    <tr>\n",
       "      <th>17</th>\n",
       "      <td>HCC827</td>\n",
       "      <td>ctrl</td>\n",
       "      <td>Fixed</td>\n",
       "      <td>9</td>\n",
       "      <td>y:\\coskun-lab\\Thomas\\23_PLA_revision\\data\\sun_...</td>\n",
       "    </tr>\n",
       "    <tr>\n",
       "      <th>18</th>\n",
       "      <td>PC9</td>\n",
       "      <td>O</td>\n",
       "      <td>Fixed</td>\n",
       "      <td>1</td>\n",
       "      <td>y:\\coskun-lab\\Thomas\\23_PLA_revision\\data\\sun_...</td>\n",
       "    </tr>\n",
       "    <tr>\n",
       "      <th>19</th>\n",
       "      <td>PC9</td>\n",
       "      <td>O</td>\n",
       "      <td>Fixed</td>\n",
       "      <td>2</td>\n",
       "      <td>y:\\coskun-lab\\Thomas\\23_PLA_revision\\data\\sun_...</td>\n",
       "    </tr>\n",
       "    <tr>\n",
       "      <th>20</th>\n",
       "      <td>PC9</td>\n",
       "      <td>O</td>\n",
       "      <td>Fixed</td>\n",
       "      <td>3</td>\n",
       "      <td>y:\\coskun-lab\\Thomas\\23_PLA_revision\\data\\sun_...</td>\n",
       "    </tr>\n",
       "    <tr>\n",
       "      <th>21</th>\n",
       "      <td>PC9</td>\n",
       "      <td>O</td>\n",
       "      <td>Fixed</td>\n",
       "      <td>4</td>\n",
       "      <td>y:\\coskun-lab\\Thomas\\23_PLA_revision\\data\\sun_...</td>\n",
       "    </tr>\n",
       "    <tr>\n",
       "      <th>22</th>\n",
       "      <td>PC9</td>\n",
       "      <td>O</td>\n",
       "      <td>Fixed</td>\n",
       "      <td>5</td>\n",
       "      <td>y:\\coskun-lab\\Thomas\\23_PLA_revision\\data\\sun_...</td>\n",
       "    </tr>\n",
       "    <tr>\n",
       "      <th>23</th>\n",
       "      <td>PC9</td>\n",
       "      <td>O</td>\n",
       "      <td>Fixed</td>\n",
       "      <td>6</td>\n",
       "      <td>y:\\coskun-lab\\Thomas\\23_PLA_revision\\data\\sun_...</td>\n",
       "    </tr>\n",
       "    <tr>\n",
       "      <th>24</th>\n",
       "      <td>PC9</td>\n",
       "      <td>O</td>\n",
       "      <td>Fixed</td>\n",
       "      <td>7</td>\n",
       "      <td>y:\\coskun-lab\\Thomas\\23_PLA_revision\\data\\sun_...</td>\n",
       "    </tr>\n",
       "    <tr>\n",
       "      <th>25</th>\n",
       "      <td>PC9</td>\n",
       "      <td>O</td>\n",
       "      <td>Fixed</td>\n",
       "      <td>8</td>\n",
       "      <td>y:\\coskun-lab\\Thomas\\23_PLA_revision\\data\\sun_...</td>\n",
       "    </tr>\n",
       "    <tr>\n",
       "      <th>26</th>\n",
       "      <td>PC9</td>\n",
       "      <td>O</td>\n",
       "      <td>Fixed</td>\n",
       "      <td>9</td>\n",
       "      <td>y:\\coskun-lab\\Thomas\\23_PLA_revision\\data\\sun_...</td>\n",
       "    </tr>\n",
       "    <tr>\n",
       "      <th>27</th>\n",
       "      <td>PC9</td>\n",
       "      <td>ctrl</td>\n",
       "      <td>Fixed</td>\n",
       "      <td>1</td>\n",
       "      <td>y:\\coskun-lab\\Thomas\\23_PLA_revision\\data\\sun_...</td>\n",
       "    </tr>\n",
       "    <tr>\n",
       "      <th>28</th>\n",
       "      <td>PC9</td>\n",
       "      <td>ctrl</td>\n",
       "      <td>Fixed</td>\n",
       "      <td>2</td>\n",
       "      <td>y:\\coskun-lab\\Thomas\\23_PLA_revision\\data\\sun_...</td>\n",
       "    </tr>\n",
       "    <tr>\n",
       "      <th>29</th>\n",
       "      <td>PC9</td>\n",
       "      <td>ctrl</td>\n",
       "      <td>Fixed</td>\n",
       "      <td>3</td>\n",
       "      <td>y:\\coskun-lab\\Thomas\\23_PLA_revision\\data\\sun_...</td>\n",
       "    </tr>\n",
       "    <tr>\n",
       "      <th>30</th>\n",
       "      <td>PC9</td>\n",
       "      <td>ctrl</td>\n",
       "      <td>Fixed</td>\n",
       "      <td>4</td>\n",
       "      <td>y:\\coskun-lab\\Thomas\\23_PLA_revision\\data\\sun_...</td>\n",
       "    </tr>\n",
       "    <tr>\n",
       "      <th>31</th>\n",
       "      <td>PC9</td>\n",
       "      <td>ctrl</td>\n",
       "      <td>Fixed</td>\n",
       "      <td>5</td>\n",
       "      <td>y:\\coskun-lab\\Thomas\\23_PLA_revision\\data\\sun_...</td>\n",
       "    </tr>\n",
       "    <tr>\n",
       "      <th>32</th>\n",
       "      <td>PC9</td>\n",
       "      <td>ctrl</td>\n",
       "      <td>Fixed</td>\n",
       "      <td>6</td>\n",
       "      <td>y:\\coskun-lab\\Thomas\\23_PLA_revision\\data\\sun_...</td>\n",
       "    </tr>\n",
       "    <tr>\n",
       "      <th>33</th>\n",
       "      <td>PC9</td>\n",
       "      <td>ctrl</td>\n",
       "      <td>Fixed</td>\n",
       "      <td>7</td>\n",
       "      <td>y:\\coskun-lab\\Thomas\\23_PLA_revision\\data\\sun_...</td>\n",
       "    </tr>\n",
       "    <tr>\n",
       "      <th>34</th>\n",
       "      <td>PC9</td>\n",
       "      <td>ctrl</td>\n",
       "      <td>Fixed</td>\n",
       "      <td>8</td>\n",
       "      <td>y:\\coskun-lab\\Thomas\\23_PLA_revision\\data\\sun_...</td>\n",
       "    </tr>\n",
       "    <tr>\n",
       "      <th>35</th>\n",
       "      <td>PC9</td>\n",
       "      <td>ctrl</td>\n",
       "      <td>Fixed</td>\n",
       "      <td>9</td>\n",
       "      <td>y:\\coskun-lab\\Thomas\\23_PLA_revision\\data\\sun_...</td>\n",
       "    </tr>\n",
       "  </tbody>\n",
       "</table>\n",
       "</div>"
      ],
      "text/plain": [
       "      Cell Condition    FOV  ROI  \\\n",
       "0   HCC827         O  Fixed    1   \n",
       "1   HCC827         O  Fixed    2   \n",
       "2   HCC827         O  Fixed    3   \n",
       "3   HCC827         O  Fixed    4   \n",
       "4   HCC827         O  Fixed    5   \n",
       "5   HCC827         O  Fixed    6   \n",
       "6   HCC827         O  Fixed    7   \n",
       "7   HCC827         O  Fixed    8   \n",
       "8   HCC827         O  Fixed    9   \n",
       "9   HCC827      ctrl  Fixed    1   \n",
       "10  HCC827      ctrl  Fixed    2   \n",
       "11  HCC827      ctrl  Fixed    3   \n",
       "12  HCC827      ctrl  Fixed    4   \n",
       "13  HCC827      ctrl  Fixed    5   \n",
       "14  HCC827      ctrl  Fixed    6   \n",
       "15  HCC827      ctrl  Fixed    7   \n",
       "16  HCC827      ctrl  Fixed    8   \n",
       "17  HCC827      ctrl  Fixed    9   \n",
       "18     PC9         O  Fixed    1   \n",
       "19     PC9         O  Fixed    2   \n",
       "20     PC9         O  Fixed    3   \n",
       "21     PC9         O  Fixed    4   \n",
       "22     PC9         O  Fixed    5   \n",
       "23     PC9         O  Fixed    6   \n",
       "24     PC9         O  Fixed    7   \n",
       "25     PC9         O  Fixed    8   \n",
       "26     PC9         O  Fixed    9   \n",
       "27     PC9      ctrl  Fixed    1   \n",
       "28     PC9      ctrl  Fixed    2   \n",
       "29     PC9      ctrl  Fixed    3   \n",
       "30     PC9      ctrl  Fixed    4   \n",
       "31     PC9      ctrl  Fixed    5   \n",
       "32     PC9      ctrl  Fixed    6   \n",
       "33     PC9      ctrl  Fixed    7   \n",
       "34     PC9      ctrl  Fixed    8   \n",
       "35     PC9      ctrl  Fixed    9   \n",
       "\n",
       "                                                 Path  \n",
       "0   y:\\coskun-lab\\Thomas\\23_PLA_revision\\data\\sun_...  \n",
       "1   y:\\coskun-lab\\Thomas\\23_PLA_revision\\data\\sun_...  \n",
       "2   y:\\coskun-lab\\Thomas\\23_PLA_revision\\data\\sun_...  \n",
       "3   y:\\coskun-lab\\Thomas\\23_PLA_revision\\data\\sun_...  \n",
       "4   y:\\coskun-lab\\Thomas\\23_PLA_revision\\data\\sun_...  \n",
       "5   y:\\coskun-lab\\Thomas\\23_PLA_revision\\data\\sun_...  \n",
       "6   y:\\coskun-lab\\Thomas\\23_PLA_revision\\data\\sun_...  \n",
       "7   y:\\coskun-lab\\Thomas\\23_PLA_revision\\data\\sun_...  \n",
       "8   y:\\coskun-lab\\Thomas\\23_PLA_revision\\data\\sun_...  \n",
       "9   y:\\coskun-lab\\Thomas\\23_PLA_revision\\data\\sun_...  \n",
       "10  y:\\coskun-lab\\Thomas\\23_PLA_revision\\data\\sun_...  \n",
       "11  y:\\coskun-lab\\Thomas\\23_PLA_revision\\data\\sun_...  \n",
       "12  y:\\coskun-lab\\Thomas\\23_PLA_revision\\data\\sun_...  \n",
       "13  y:\\coskun-lab\\Thomas\\23_PLA_revision\\data\\sun_...  \n",
       "14  y:\\coskun-lab\\Thomas\\23_PLA_revision\\data\\sun_...  \n",
       "15  y:\\coskun-lab\\Thomas\\23_PLA_revision\\data\\sun_...  \n",
       "16  y:\\coskun-lab\\Thomas\\23_PLA_revision\\data\\sun_...  \n",
       "17  y:\\coskun-lab\\Thomas\\23_PLA_revision\\data\\sun_...  \n",
       "18  y:\\coskun-lab\\Thomas\\23_PLA_revision\\data\\sun_...  \n",
       "19  y:\\coskun-lab\\Thomas\\23_PLA_revision\\data\\sun_...  \n",
       "20  y:\\coskun-lab\\Thomas\\23_PLA_revision\\data\\sun_...  \n",
       "21  y:\\coskun-lab\\Thomas\\23_PLA_revision\\data\\sun_...  \n",
       "22  y:\\coskun-lab\\Thomas\\23_PLA_revision\\data\\sun_...  \n",
       "23  y:\\coskun-lab\\Thomas\\23_PLA_revision\\data\\sun_...  \n",
       "24  y:\\coskun-lab\\Thomas\\23_PLA_revision\\data\\sun_...  \n",
       "25  y:\\coskun-lab\\Thomas\\23_PLA_revision\\data\\sun_...  \n",
       "26  y:\\coskun-lab\\Thomas\\23_PLA_revision\\data\\sun_...  \n",
       "27  y:\\coskun-lab\\Thomas\\23_PLA_revision\\data\\sun_...  \n",
       "28  y:\\coskun-lab\\Thomas\\23_PLA_revision\\data\\sun_...  \n",
       "29  y:\\coskun-lab\\Thomas\\23_PLA_revision\\data\\sun_...  \n",
       "30  y:\\coskun-lab\\Thomas\\23_PLA_revision\\data\\sun_...  \n",
       "31  y:\\coskun-lab\\Thomas\\23_PLA_revision\\data\\sun_...  \n",
       "32  y:\\coskun-lab\\Thomas\\23_PLA_revision\\data\\sun_...  \n",
       "33  y:\\coskun-lab\\Thomas\\23_PLA_revision\\data\\sun_...  \n",
       "34  y:\\coskun-lab\\Thomas\\23_PLA_revision\\data\\sun_...  \n",
       "35  y:\\coskun-lab\\Thomas\\23_PLA_revision\\data\\sun_...  "
      ]
     },
     "execution_count": 33,
     "metadata": {},
     "output_type": "execute_result"
    }
   ],
   "source": [
    "df_imgs"
   ]
  },
  {
   "cell_type": "markdown",
   "metadata": {},
   "source": [
    "# Calculate best focus\n",
    "\n",
    "The best focus for each ROI in one FOV is varying because of the lens heating up. Therefore, we need to extract the individual z stack best focus"
   ]
  },
  {
   "cell_type": "code",
   "execution_count": 36,
   "metadata": {},
   "outputs": [],
   "source": [
    "from joblib import Parallel, delayed\n",
    "import cv2 \n",
    "import scipy \n",
    "from collections import defaultdict \n",
    "\n",
    "# compute laplacian for each z plane in parallel\n",
    "def computeLapVar(plane):\n",
    "    \n",
    "    var = cv2.Laplacian(plane, cv2.CV_64F, ksize = 31)\n",
    "    var = np.var(var)\n",
    "    \n",
    "    return var\n",
    "\n",
    "# find focus plane via Laplacian variance\n",
    "def findFocusLapVar(subStack):\n",
    "    \n",
    "    lapVar = Parallel(n_jobs = -1, prefer = 'threads', verbose = 0)(delayed(computeLapVar)(subStack[ii, :, :]) for ii in range(subStack.shape[0]))\n",
    "    idxFocus = np.argmax(lapVar)\n",
    "\n",
    "    xRange = np.arange(0, len(lapVar))\n",
    "    \n",
    "    # compute steepest gradient in variance to find focus plane\n",
    "    grad = np.gradient(lapVar)\n",
    "    grad = np.square(grad)\n",
    "    \n",
    "    # extract peaks of gradient\n",
    "    thresh = np.percentile(grad, 50)\n",
    "    # peaks with min horizontal distance\n",
    "    peaks, props = scipy.signal.find_peaks(x = grad, height = thresh, distance = 1)\n",
    "    heights = props['peak_heights']\n",
    "    \n",
    "    # idxFocus = np.argmax(grad) + 2\n",
    "    if len(peaks) == 0:\n",
    "        idxFocus = len(lapVar) // 2 # middle\n",
    "        \n",
    "    else:\n",
    "        idxFocus = peaks[0] # tallest peak\n",
    "        \n",
    "    if idxFocus > len(lapVar) - 2: # exceeds length, out of bounds\n",
    "        idxFocus = len(lapVar) - 2\n",
    "        \n",
    "    return idxFocus, peaks, lapVar\n",
    "\n",
    "# register cycles across Z by matching focus planes\n",
    "def registerAlongZ(fixed, moving): # each ZYX\n",
    "     \n",
    "    # match moving to fixed\n",
    "    focusFixed, peaksFixed, lapVarFixed= findFocusLapVar(fixed) # focus plane of fixed\n",
    "    focusMoving, peaksMoving, lapVarMoving = findFocusLapVar(moving) # focus plane of moving\n",
    "    \n",
    "    # if multiple peaks found, choose closest to middle \n",
    "    focusFixed = np.argmax(lapVarFixed)\n",
    "        \n",
    "    focusMoving = np.argmax(lapVarMoving)\n",
    "    \n",
    "    # print('Fixed focus plane is', focusFixed + 1, '/', fixed.shape[0])\n",
    "    # print('Moving focus plane is', focusMoving + 1, '/', moving.shape[0])\n",
    "    shift = focusFixed - focusMoving # z shift applied to moving to match fixed\n",
    "    \n",
    "    return shift"
   ]
  },
  {
   "cell_type": "code",
   "execution_count": 37,
   "metadata": {},
   "outputs": [
    {
     "data": {
      "text/html": [
       "<div>\n",
       "<style scoped>\n",
       "    .dataframe tbody tr th:only-of-type {\n",
       "        vertical-align: middle;\n",
       "    }\n",
       "\n",
       "    .dataframe tbody tr th {\n",
       "        vertical-align: top;\n",
       "    }\n",
       "\n",
       "    .dataframe thead th {\n",
       "        text-align: right;\n",
       "    }\n",
       "</style>\n",
       "<table border=\"1\" class=\"dataframe\">\n",
       "  <thead>\n",
       "    <tr style=\"text-align: right;\">\n",
       "      <th></th>\n",
       "      <th>Cell</th>\n",
       "      <th>Condition</th>\n",
       "      <th>FOV</th>\n",
       "      <th>ROI</th>\n",
       "      <th>Path</th>\n",
       "    </tr>\n",
       "  </thead>\n",
       "  <tbody>\n",
       "    <tr>\n",
       "      <th>0</th>\n",
       "      <td>HCC827</td>\n",
       "      <td>O</td>\n",
       "      <td>Fixed</td>\n",
       "      <td>1</td>\n",
       "      <td>y:\\coskun-lab\\Thomas\\23_PLA_revision\\data\\sun_...</td>\n",
       "    </tr>\n",
       "    <tr>\n",
       "      <th>1</th>\n",
       "      <td>HCC827</td>\n",
       "      <td>O</td>\n",
       "      <td>Fixed</td>\n",
       "      <td>2</td>\n",
       "      <td>y:\\coskun-lab\\Thomas\\23_PLA_revision\\data\\sun_...</td>\n",
       "    </tr>\n",
       "    <tr>\n",
       "      <th>2</th>\n",
       "      <td>HCC827</td>\n",
       "      <td>O</td>\n",
       "      <td>Fixed</td>\n",
       "      <td>3</td>\n",
       "      <td>y:\\coskun-lab\\Thomas\\23_PLA_revision\\data\\sun_...</td>\n",
       "    </tr>\n",
       "    <tr>\n",
       "      <th>3</th>\n",
       "      <td>HCC827</td>\n",
       "      <td>O</td>\n",
       "      <td>Fixed</td>\n",
       "      <td>4</td>\n",
       "      <td>y:\\coskun-lab\\Thomas\\23_PLA_revision\\data\\sun_...</td>\n",
       "    </tr>\n",
       "    <tr>\n",
       "      <th>4</th>\n",
       "      <td>HCC827</td>\n",
       "      <td>O</td>\n",
       "      <td>Fixed</td>\n",
       "      <td>5</td>\n",
       "      <td>y:\\coskun-lab\\Thomas\\23_PLA_revision\\data\\sun_...</td>\n",
       "    </tr>\n",
       "  </tbody>\n",
       "</table>\n",
       "</div>"
      ],
      "text/plain": [
       "     Cell Condition    FOV  ROI  \\\n",
       "0  HCC827         O  Fixed    1   \n",
       "1  HCC827         O  Fixed    2   \n",
       "2  HCC827         O  Fixed    3   \n",
       "3  HCC827         O  Fixed    4   \n",
       "4  HCC827         O  Fixed    5   \n",
       "\n",
       "                                                Path  \n",
       "0  y:\\coskun-lab\\Thomas\\23_PLA_revision\\data\\sun_...  \n",
       "1  y:\\coskun-lab\\Thomas\\23_PLA_revision\\data\\sun_...  \n",
       "2  y:\\coskun-lab\\Thomas\\23_PLA_revision\\data\\sun_...  \n",
       "3  y:\\coskun-lab\\Thomas\\23_PLA_revision\\data\\sun_...  \n",
       "4  y:\\coskun-lab\\Thomas\\23_PLA_revision\\data\\sun_...  "
      ]
     },
     "execution_count": 37,
     "metadata": {},
     "output_type": "execute_result"
    }
   ],
   "source": [
    "df_imgs_path = data_dir / 'sun_IF_3D' / 'metadata' / 'imgs.csv'\n",
    "df_imgs = pd.read_csv(df_imgs_path)\n",
    "df_imgs.head()"
   ]
  },
  {
   "cell_type": "code",
   "execution_count": 38,
   "metadata": {},
   "outputs": [
    {
     "data": {
      "application/vnd.jupyter.widget-view+json": {
       "model_id": "06fb0c0c818a4c11833d0dce5b42f44a",
       "version_major": 2,
       "version_minor": 0
      },
      "text/plain": [
       "  0%|          | 0/5 [00:00<?, ?it/s]"
      ]
     },
     "metadata": {},
     "output_type": "display_data"
    },
    {
     "data": {
      "application/vnd.jupyter.widget-view+json": {
       "model_id": "c0ecb3adafd643e5aebfa357cc6f01c4",
       "version_major": 2,
       "version_minor": 0
      },
      "text/plain": [
       "  0%|          | 0/5 [00:00<?, ?it/s]"
      ]
     },
     "metadata": {},
     "output_type": "display_data"
    },
    {
     "data": {
      "application/vnd.jupyter.widget-view+json": {
       "model_id": "671d3c1ae33648c2b5f376e659d8f08b",
       "version_major": 2,
       "version_minor": 0
      },
      "text/plain": [
       "  0%|          | 0/5 [00:00<?, ?it/s]"
      ]
     },
     "metadata": {},
     "output_type": "display_data"
    },
    {
     "data": {
      "application/vnd.jupyter.widget-view+json": {
       "model_id": "f572d4e327a14943bebbaa3f2f0ab44a",
       "version_major": 2,
       "version_minor": 0
      },
      "text/plain": [
       "  0%|          | 0/5 [00:00<?, ?it/s]"
      ]
     },
     "metadata": {},
     "output_type": "display_data"
    },
    {
     "data": {
      "application/vnd.jupyter.widget-view+json": {
       "model_id": "b8442b323e4b47de9b3c44d6bf13bf07",
       "version_major": 2,
       "version_minor": 0
      },
      "text/plain": [
       "  0%|          | 0/5 [00:00<?, ?it/s]"
      ]
     },
     "metadata": {},
     "output_type": "display_data"
    },
    {
     "data": {
      "application/vnd.jupyter.widget-view+json": {
       "model_id": "2b088588639c4a928f89bc9ed7072725",
       "version_major": 2,
       "version_minor": 0
      },
      "text/plain": [
       "  0%|          | 0/5 [00:00<?, ?it/s]"
      ]
     },
     "metadata": {},
     "output_type": "display_data"
    },
    {
     "data": {
      "application/vnd.jupyter.widget-view+json": {
       "model_id": "7f2501cf0b30400c8dda7b3230fb3269",
       "version_major": 2,
       "version_minor": 0
      },
      "text/plain": [
       "  0%|          | 0/5 [00:00<?, ?it/s]"
      ]
     },
     "metadata": {},
     "output_type": "display_data"
    },
    {
     "data": {
      "application/vnd.jupyter.widget-view+json": {
       "model_id": "ec6c75755d1b45c8b12e67b146b1bdeb",
       "version_major": 2,
       "version_minor": 0
      },
      "text/plain": [
       "  0%|          | 0/5 [00:00<?, ?it/s]"
      ]
     },
     "metadata": {},
     "output_type": "display_data"
    },
    {
     "data": {
      "application/vnd.jupyter.widget-view+json": {
       "model_id": "397c651888b446ed9b2d8f3bbbc5972c",
       "version_major": 2,
       "version_minor": 0
      },
      "text/plain": [
       "  0%|          | 0/5 [00:00<?, ?it/s]"
      ]
     },
     "metadata": {},
     "output_type": "display_data"
    },
    {
     "data": {
      "application/vnd.jupyter.widget-view+json": {
       "model_id": "ba99ae6e1b1f4958b53cbc0fd932d553",
       "version_major": 2,
       "version_minor": 0
      },
      "text/plain": [
       "  0%|          | 0/5 [00:00<?, ?it/s]"
      ]
     },
     "metadata": {},
     "output_type": "display_data"
    },
    {
     "data": {
      "application/vnd.jupyter.widget-view+json": {
       "model_id": "de176f151aff49c5bfc68ece078b78ca",
       "version_major": 2,
       "version_minor": 0
      },
      "text/plain": [
       "  0%|          | 0/5 [00:00<?, ?it/s]"
      ]
     },
     "metadata": {},
     "output_type": "display_data"
    },
    {
     "data": {
      "application/vnd.jupyter.widget-view+json": {
       "model_id": "e82fb955885244ff894e3ae57faa0c9c",
       "version_major": 2,
       "version_minor": 0
      },
      "text/plain": [
       "  0%|          | 0/5 [00:00<?, ?it/s]"
      ]
     },
     "metadata": {},
     "output_type": "display_data"
    },
    {
     "data": {
      "application/vnd.jupyter.widget-view+json": {
       "model_id": "1c2d5eed009141669e6e7a331f5be37e",
       "version_major": 2,
       "version_minor": 0
      },
      "text/plain": [
       "  0%|          | 0/5 [00:00<?, ?it/s]"
      ]
     },
     "metadata": {},
     "output_type": "display_data"
    },
    {
     "data": {
      "application/vnd.jupyter.widget-view+json": {
       "model_id": "86250ec127a447e7b8f50db8c6d9ae40",
       "version_major": 2,
       "version_minor": 0
      },
      "text/plain": [
       "  0%|          | 0/5 [00:00<?, ?it/s]"
      ]
     },
     "metadata": {},
     "output_type": "display_data"
    },
    {
     "data": {
      "application/vnd.jupyter.widget-view+json": {
       "model_id": "fa772d9eebe04bf5b22d614237e1adb6",
       "version_major": 2,
       "version_minor": 0
      },
      "text/plain": [
       "  0%|          | 0/5 [00:00<?, ?it/s]"
      ]
     },
     "metadata": {},
     "output_type": "display_data"
    },
    {
     "data": {
      "application/vnd.jupyter.widget-view+json": {
       "model_id": "eb329c9958b142feacae1325f73482d8",
       "version_major": 2,
       "version_minor": 0
      },
      "text/plain": [
       "  0%|          | 0/5 [00:00<?, ?it/s]"
      ]
     },
     "metadata": {},
     "output_type": "display_data"
    },
    {
     "data": {
      "application/vnd.jupyter.widget-view+json": {
       "model_id": "629cf544536b417cab306aece1ff0021",
       "version_major": 2,
       "version_minor": 0
      },
      "text/plain": [
       "  0%|          | 0/5 [00:00<?, ?it/s]"
      ]
     },
     "metadata": {},
     "output_type": "display_data"
    },
    {
     "data": {
      "application/vnd.jupyter.widget-view+json": {
       "model_id": "ee33c9a1bccc40bfba7306a7b215c21d",
       "version_major": 2,
       "version_minor": 0
      },
      "text/plain": [
       "  0%|          | 0/5 [00:00<?, ?it/s]"
      ]
     },
     "metadata": {},
     "output_type": "display_data"
    },
    {
     "data": {
      "application/vnd.jupyter.widget-view+json": {
       "model_id": "7a8157ef88da45c1b21712347cd65197",
       "version_major": 2,
       "version_minor": 0
      },
      "text/plain": [
       "  0%|          | 0/5 [00:00<?, ?it/s]"
      ]
     },
     "metadata": {},
     "output_type": "display_data"
    },
    {
     "data": {
      "application/vnd.jupyter.widget-view+json": {
       "model_id": "d465410e6f184da68202614e2ebf6c64",
       "version_major": 2,
       "version_minor": 0
      },
      "text/plain": [
       "  0%|          | 0/5 [00:00<?, ?it/s]"
      ]
     },
     "metadata": {},
     "output_type": "display_data"
    },
    {
     "data": {
      "application/vnd.jupyter.widget-view+json": {
       "model_id": "ea18736f2e1f42699337f649652d3a45",
       "version_major": 2,
       "version_minor": 0
      },
      "text/plain": [
       "  0%|          | 0/5 [00:00<?, ?it/s]"
      ]
     },
     "metadata": {},
     "output_type": "display_data"
    },
    {
     "data": {
      "application/vnd.jupyter.widget-view+json": {
       "model_id": "66c06a770c5946fb8327a3a2df5a9f33",
       "version_major": 2,
       "version_minor": 0
      },
      "text/plain": [
       "  0%|          | 0/5 [00:00<?, ?it/s]"
      ]
     },
     "metadata": {},
     "output_type": "display_data"
    },
    {
     "data": {
      "application/vnd.jupyter.widget-view+json": {
       "model_id": "d32ba9f7476e46f9838ba632a6d7f871",
       "version_major": 2,
       "version_minor": 0
      },
      "text/plain": [
       "  0%|          | 0/5 [00:00<?, ?it/s]"
      ]
     },
     "metadata": {},
     "output_type": "display_data"
    },
    {
     "data": {
      "application/vnd.jupyter.widget-view+json": {
       "model_id": "f15f5a1fd2a145da8bbf010994eb58d9",
       "version_major": 2,
       "version_minor": 0
      },
      "text/plain": [
       "  0%|          | 0/5 [00:00<?, ?it/s]"
      ]
     },
     "metadata": {},
     "output_type": "display_data"
    },
    {
     "data": {
      "application/vnd.jupyter.widget-view+json": {
       "model_id": "03901776139449c996f855ea61f75335",
       "version_major": 2,
       "version_minor": 0
      },
      "text/plain": [
       "  0%|          | 0/5 [00:00<?, ?it/s]"
      ]
     },
     "metadata": {},
     "output_type": "display_data"
    },
    {
     "data": {
      "application/vnd.jupyter.widget-view+json": {
       "model_id": "0699c4e584ba44f6824ea423a7ee717d",
       "version_major": 2,
       "version_minor": 0
      },
      "text/plain": [
       "  0%|          | 0/5 [00:00<?, ?it/s]"
      ]
     },
     "metadata": {},
     "output_type": "display_data"
    },
    {
     "data": {
      "application/vnd.jupyter.widget-view+json": {
       "model_id": "6e87a915a42c4228b94d6a5fb557ecd1",
       "version_major": 2,
       "version_minor": 0
      },
      "text/plain": [
       "  0%|          | 0/5 [00:00<?, ?it/s]"
      ]
     },
     "metadata": {},
     "output_type": "display_data"
    },
    {
     "data": {
      "application/vnd.jupyter.widget-view+json": {
       "model_id": "559255b133e142d197290376bf4d019e",
       "version_major": 2,
       "version_minor": 0
      },
      "text/plain": [
       "  0%|          | 0/5 [00:00<?, ?it/s]"
      ]
     },
     "metadata": {},
     "output_type": "display_data"
    },
    {
     "data": {
      "application/vnd.jupyter.widget-view+json": {
       "model_id": "7272adbbb13747c893a0c06200a1038f",
       "version_major": 2,
       "version_minor": 0
      },
      "text/plain": [
       "  0%|          | 0/5 [00:00<?, ?it/s]"
      ]
     },
     "metadata": {},
     "output_type": "display_data"
    },
    {
     "data": {
      "application/vnd.jupyter.widget-view+json": {
       "model_id": "9d8dbe37becc4666b7931c4b1c3479c8",
       "version_major": 2,
       "version_minor": 0
      },
      "text/plain": [
       "  0%|          | 0/5 [00:00<?, ?it/s]"
      ]
     },
     "metadata": {},
     "output_type": "display_data"
    },
    {
     "data": {
      "application/vnd.jupyter.widget-view+json": {
       "model_id": "bc9d7efc08ef424985d405cb69f09c9a",
       "version_major": 2,
       "version_minor": 0
      },
      "text/plain": [
       "  0%|          | 0/5 [00:00<?, ?it/s]"
      ]
     },
     "metadata": {},
     "output_type": "display_data"
    },
    {
     "data": {
      "application/vnd.jupyter.widget-view+json": {
       "model_id": "d121a02d756d4123839fdd06783aeb15",
       "version_major": 2,
       "version_minor": 0
      },
      "text/plain": [
       "  0%|          | 0/5 [00:00<?, ?it/s]"
      ]
     },
     "metadata": {},
     "output_type": "display_data"
    },
    {
     "data": {
      "application/vnd.jupyter.widget-view+json": {
       "model_id": "98b843187ce94b6ca6b6ffeb80154b23",
       "version_major": 2,
       "version_minor": 0
      },
      "text/plain": [
       "  0%|          | 0/5 [00:00<?, ?it/s]"
      ]
     },
     "metadata": {},
     "output_type": "display_data"
    },
    {
     "data": {
      "application/vnd.jupyter.widget-view+json": {
       "model_id": "ea5f3a6122164630b420b447ff608f12",
       "version_major": 2,
       "version_minor": 0
      },
      "text/plain": [
       "  0%|          | 0/5 [00:00<?, ?it/s]"
      ]
     },
     "metadata": {},
     "output_type": "display_data"
    },
    {
     "data": {
      "application/vnd.jupyter.widget-view+json": {
       "model_id": "4c3b46a96b86467cb44354ec1d0b4dce",
       "version_major": 2,
       "version_minor": 0
      },
      "text/plain": [
       "  0%|          | 0/5 [00:00<?, ?it/s]"
      ]
     },
     "metadata": {},
     "output_type": "display_data"
    },
    {
     "data": {
      "application/vnd.jupyter.widget-view+json": {
       "model_id": "e2ac8131ca6e4fb98030de3e89c3378e",
       "version_major": 2,
       "version_minor": 0
      },
      "text/plain": [
       "  0%|          | 0/5 [00:00<?, ?it/s]"
      ]
     },
     "metadata": {},
     "output_type": "display_data"
    }
   ],
   "source": [
    "from collections import defaultdict\n",
    "# Define fov to compute the z shifts one\n",
    "z_shifts_all = defaultdict(dict)\n",
    "group = df_imgs.groupby(['Cell', 'Condition', 'FOV'])\n",
    "\n",
    "for name, df_group in group:\n",
    "    # Read imgae and plot one z\n",
    "    for row in df_group.itertuples():\n",
    "        path = row.Path\n",
    "        with h5py.File(path, \"r\") as f:\n",
    "            for k in f.keys():\n",
    "                imgs = f[k][:]\n",
    "                break\n",
    "\n",
    "        # Perform z shifts analysis\n",
    "        z_shifts = defaultdict(list)\n",
    "        with h5py.File(path, \"r\") as f:\n",
    "            for k in tqdm(natsorted(f.keys()), total=len(f.keys()), leave=False):\n",
    "                cycle = k.split('_')[0]\n",
    "                channel = f[k].attrs['Channel']\n",
    "\n",
    "                if channel == 1:\n",
    "                    imgs = f[k][:]\n",
    "\n",
    "                    if cycle == 'cycle1':\n",
    "                        fixed = imgs\n",
    "                        z_shifts['cycle1'] = 0\n",
    "                        continue\n",
    "                    else:\n",
    "                        moving = imgs\n",
    "                    shift = registerAlongZ(fixed, moving)\n",
    "                    \n",
    "                    z_shifts[cycle] = shift\n",
    "        z_shifts_all['_'.join(name)][row.ROI] = z_shifts"
   ]
  },
  {
   "cell_type": "code",
   "execution_count": 39,
   "metadata": {},
   "outputs": [
    {
     "data": {
      "text/plain": [
       "defaultdict(dict,\n",
       "            {'HCC827_O_Fixed': {1: defaultdict(list,\n",
       "                          {'cycle1': 0, 'cycle2': 3}),\n",
       "              2: defaultdict(list, {'cycle1': 0, 'cycle2': 5}),\n",
       "              3: defaultdict(list, {'cycle1': 0, 'cycle2': 5}),\n",
       "              4: defaultdict(list, {'cycle1': 0, 'cycle2': 5}),\n",
       "              5: defaultdict(list, {'cycle1': 0, 'cycle2': 7}),\n",
       "              6: defaultdict(list, {'cycle1': 0, 'cycle2': 7}),\n",
       "              7: defaultdict(list, {'cycle1': 0, 'cycle2': 7}),\n",
       "              8: defaultdict(list, {'cycle1': 0, 'cycle2': 8}),\n",
       "              9: defaultdict(list, {'cycle1': 0, 'cycle2': 9})},\n",
       "             'HCC827_ctrl_Fixed': {1: defaultdict(list,\n",
       "                          {'cycle1': 0, 'cycle2': 4}),\n",
       "              2: defaultdict(list, {'cycle1': 0, 'cycle2': 6}),\n",
       "              3: defaultdict(list, {'cycle1': 0, 'cycle2': 8}),\n",
       "              4: defaultdict(list, {'cycle1': 0, 'cycle2': 10}),\n",
       "              5: defaultdict(list, {'cycle1': 0, 'cycle2': 12}),\n",
       "              6: defaultdict(list, {'cycle1': 0, 'cycle2': 13}),\n",
       "              7: defaultdict(list, {'cycle1': 0, 'cycle2': 14}),\n",
       "              8: defaultdict(list, {'cycle1': 0, 'cycle2': 16}),\n",
       "              9: defaultdict(list, {'cycle1': 0, 'cycle2': 17})},\n",
       "             'PC9_O_Fixed': {1: defaultdict(list, {'cycle1': 0, 'cycle2': 0}),\n",
       "              2: defaultdict(list, {'cycle1': 0, 'cycle2': 0}),\n",
       "              3: defaultdict(list, {'cycle1': 0, 'cycle2': 0}),\n",
       "              4: defaultdict(list, {'cycle1': 0, 'cycle2': 1}),\n",
       "              5: defaultdict(list, {'cycle1': 0, 'cycle2': 1}),\n",
       "              6: defaultdict(list, {'cycle1': 0, 'cycle2': 1}),\n",
       "              7: defaultdict(list, {'cycle1': 0, 'cycle2': 2}),\n",
       "              8: defaultdict(list, {'cycle1': 0, 'cycle2': 3}),\n",
       "              9: defaultdict(list, {'cycle1': 0, 'cycle2': 2})},\n",
       "             'PC9_ctrl_Fixed': {1: defaultdict(list,\n",
       "                          {'cycle1': 0, 'cycle2': 0}),\n",
       "              2: defaultdict(list, {'cycle1': 0, 'cycle2': 1}),\n",
       "              3: defaultdict(list, {'cycle1': 0, 'cycle2': 2}),\n",
       "              4: defaultdict(list, {'cycle1': 0, 'cycle2': 2}),\n",
       "              5: defaultdict(list, {'cycle1': 0, 'cycle2': 2}),\n",
       "              6: defaultdict(list, {'cycle1': 0, 'cycle2': 3}),\n",
       "              7: defaultdict(list, {'cycle1': 0, 'cycle2': 4}),\n",
       "              8: defaultdict(list, {'cycle1': 0, 'cycle2': 5}),\n",
       "              9: defaultdict(list, {'cycle1': 0, 'cycle2': 5})}})"
      ]
     },
     "execution_count": 39,
     "metadata": {},
     "output_type": "execute_result"
    }
   ],
   "source": [
    "z_shifts_all"
   ]
  },
  {
   "cell_type": "code",
   "execution_count": 41,
   "metadata": {},
   "outputs": [],
   "source": [
    "import pickle \n",
    "\n",
    "z_shift_path = data_dir / 'sun_IF_3D' / 'metadata' / 'zshift.pickle'\n",
    "\n",
    "with open(z_shift_path, 'wb') as f:\n",
    "    pickle.dump(z_shifts_all, f)"
   ]
  },
  {
   "cell_type": "markdown",
   "metadata": {},
   "source": [
    "# Save Tiffile"
   ]
  },
  {
   "cell_type": "code",
   "execution_count": 43,
   "metadata": {},
   "outputs": [],
   "source": [
    "from skimage import exposure, util\n",
    "\n",
    "def contrast_str(img, n_min=0.1, n_max=100):\n",
    "    p2, p98 = np.percentile(img, (n_min, n_max))\n",
    "    img_rescale = exposure.rescale_intensity(img, in_range=(p2, p98))\n",
    "    return img_rescale\n",
    "\n",
    "def make_imgs_same_dim(imgs):\n",
    "    # Get max dimensions\n",
    "    shapes = np.array([img.shape[1:] for img in imgs])\n",
    "    min_x, min_y = shapes.min(axis=0)\n",
    "    imgs_cropped = [img[:, :min_x, :min_y] for img in imgs]\n",
    "    # imgs_cropped[0] = contrast_str(imgs_cropped[0])\n",
    "    return imgs_cropped\n"
   ]
  },
  {
   "cell_type": "code",
   "execution_count": 44,
   "metadata": {},
   "outputs": [
    {
     "data": {
      "text/plain": [
       "defaultdict(dict,\n",
       "            {'HCC827_O_Fixed': {1: defaultdict(list,\n",
       "                          {'cycle1': 0, 'cycle2': 3}),\n",
       "              2: defaultdict(list, {'cycle1': 0, 'cycle2': 5}),\n",
       "              3: defaultdict(list, {'cycle1': 0, 'cycle2': 5}),\n",
       "              4: defaultdict(list, {'cycle1': 0, 'cycle2': 5}),\n",
       "              5: defaultdict(list, {'cycle1': 0, 'cycle2': 7}),\n",
       "              6: defaultdict(list, {'cycle1': 0, 'cycle2': 7}),\n",
       "              7: defaultdict(list, {'cycle1': 0, 'cycle2': 7}),\n",
       "              8: defaultdict(list, {'cycle1': 0, 'cycle2': 8}),\n",
       "              9: defaultdict(list, {'cycle1': 0, 'cycle2': 9})},\n",
       "             'HCC827_ctrl_Fixed': {1: defaultdict(list,\n",
       "                          {'cycle1': 0, 'cycle2': 4}),\n",
       "              2: defaultdict(list, {'cycle1': 0, 'cycle2': 6}),\n",
       "              3: defaultdict(list, {'cycle1': 0, 'cycle2': 8}),\n",
       "              4: defaultdict(list, {'cycle1': 0, 'cycle2': 10}),\n",
       "              5: defaultdict(list, {'cycle1': 0, 'cycle2': 12}),\n",
       "              6: defaultdict(list, {'cycle1': 0, 'cycle2': 13}),\n",
       "              7: defaultdict(list, {'cycle1': 0, 'cycle2': 14}),\n",
       "              8: defaultdict(list, {'cycle1': 0, 'cycle2': 16}),\n",
       "              9: defaultdict(list, {'cycle1': 0, 'cycle2': 17})},\n",
       "             'PC9_O_Fixed': {1: defaultdict(list, {'cycle1': 0, 'cycle2': 0}),\n",
       "              2: defaultdict(list, {'cycle1': 0, 'cycle2': 0}),\n",
       "              3: defaultdict(list, {'cycle1': 0, 'cycle2': 0}),\n",
       "              4: defaultdict(list, {'cycle1': 0, 'cycle2': 1}),\n",
       "              5: defaultdict(list, {'cycle1': 0, 'cycle2': 1}),\n",
       "              6: defaultdict(list, {'cycle1': 0, 'cycle2': 1}),\n",
       "              7: defaultdict(list, {'cycle1': 0, 'cycle2': 2}),\n",
       "              8: defaultdict(list, {'cycle1': 0, 'cycle2': 3}),\n",
       "              9: defaultdict(list, {'cycle1': 0, 'cycle2': 2})},\n",
       "             'PC9_ctrl_Fixed': {1: defaultdict(list,\n",
       "                          {'cycle1': 0, 'cycle2': 0}),\n",
       "              2: defaultdict(list, {'cycle1': 0, 'cycle2': 1}),\n",
       "              3: defaultdict(list, {'cycle1': 0, 'cycle2': 2}),\n",
       "              4: defaultdict(list, {'cycle1': 0, 'cycle2': 2}),\n",
       "              5: defaultdict(list, {'cycle1': 0, 'cycle2': 2}),\n",
       "              6: defaultdict(list, {'cycle1': 0, 'cycle2': 3}),\n",
       "              7: defaultdict(list, {'cycle1': 0, 'cycle2': 4}),\n",
       "              8: defaultdict(list, {'cycle1': 0, 'cycle2': 5}),\n",
       "              9: defaultdict(list, {'cycle1': 0, 'cycle2': 5})}})"
      ]
     },
     "execution_count": 44,
     "metadata": {},
     "output_type": "execute_result"
    }
   ],
   "source": [
    "z_shifts_all"
   ]
  },
  {
   "cell_type": "code",
   "execution_count": 47,
   "metadata": {},
   "outputs": [
    {
     "data": {
      "application/vnd.jupyter.widget-view+json": {
       "model_id": "71b7d22a9e3a4b4b89ad67fb2b5bc194",
       "version_major": 2,
       "version_minor": 0
      },
      "text/plain": [
       "  0%|          | 0/9 [00:00<?, ?it/s]"
      ]
     },
     "metadata": {},
     "output_type": "display_data"
    },
    {
     "data": {
      "application/vnd.jupyter.widget-view+json": {
       "model_id": "58a6f45b4bee48e48199d66220f2d199",
       "version_major": 2,
       "version_minor": 0
      },
      "text/plain": [
       "  0%|          | 0/5 [00:00<?, ?it/s]"
      ]
     },
     "metadata": {},
     "output_type": "display_data"
    },
    {
     "data": {
      "application/vnd.jupyter.widget-view+json": {
       "model_id": "a06a5168f86e472cae2651d11f5813b2",
       "version_major": 2,
       "version_minor": 0
      },
      "text/plain": [
       "  0%|          | 0/5 [00:00<?, ?it/s]"
      ]
     },
     "metadata": {},
     "output_type": "display_data"
    },
    {
     "data": {
      "application/vnd.jupyter.widget-view+json": {
       "model_id": "b30212c5bb054e21898547ef14b873bb",
       "version_major": 2,
       "version_minor": 0
      },
      "text/plain": [
       "  0%|          | 0/5 [00:00<?, ?it/s]"
      ]
     },
     "metadata": {},
     "output_type": "display_data"
    },
    {
     "data": {
      "application/vnd.jupyter.widget-view+json": {
       "model_id": "f886aa97fc9e4ef1a1d8dc16dc51cf0f",
       "version_major": 2,
       "version_minor": 0
      },
      "text/plain": [
       "  0%|          | 0/5 [00:00<?, ?it/s]"
      ]
     },
     "metadata": {},
     "output_type": "display_data"
    },
    {
     "data": {
      "application/vnd.jupyter.widget-view+json": {
       "model_id": "515c876505da48e89215774fb4d0f77d",
       "version_major": 2,
       "version_minor": 0
      },
      "text/plain": [
       "  0%|          | 0/5 [00:00<?, ?it/s]"
      ]
     },
     "metadata": {},
     "output_type": "display_data"
    },
    {
     "data": {
      "application/vnd.jupyter.widget-view+json": {
       "model_id": "82a2ee800d1a47068776516342396448",
       "version_major": 2,
       "version_minor": 0
      },
      "text/plain": [
       "  0%|          | 0/5 [00:00<?, ?it/s]"
      ]
     },
     "metadata": {},
     "output_type": "display_data"
    },
    {
     "data": {
      "application/vnd.jupyter.widget-view+json": {
       "model_id": "b62b57ad9154431984f4c88d494e058b",
       "version_major": 2,
       "version_minor": 0
      },
      "text/plain": [
       "  0%|          | 0/5 [00:00<?, ?it/s]"
      ]
     },
     "metadata": {},
     "output_type": "display_data"
    },
    {
     "data": {
      "application/vnd.jupyter.widget-view+json": {
       "model_id": "ce9a01f90b20454b87fb0860d12158f1",
       "version_major": 2,
       "version_minor": 0
      },
      "text/plain": [
       "  0%|          | 0/5 [00:00<?, ?it/s]"
      ]
     },
     "metadata": {},
     "output_type": "display_data"
    },
    {
     "data": {
      "application/vnd.jupyter.widget-view+json": {
       "model_id": "e3b5744f3eb04972a142c952c3996cf1",
       "version_major": 2,
       "version_minor": 0
      },
      "text/plain": [
       "  0%|          | 0/5 [00:00<?, ?it/s]"
      ]
     },
     "metadata": {},
     "output_type": "display_data"
    },
    {
     "data": {
      "application/vnd.jupyter.widget-view+json": {
       "model_id": "2ed687054d564ab89c956bf8592dbd40",
       "version_major": 2,
       "version_minor": 0
      },
      "text/plain": [
       "  0%|          | 0/9 [00:00<?, ?it/s]"
      ]
     },
     "metadata": {},
     "output_type": "display_data"
    },
    {
     "data": {
      "application/vnd.jupyter.widget-view+json": {
       "model_id": "401c1f6149c042dd834d3ae8b560d1f2",
       "version_major": 2,
       "version_minor": 0
      },
      "text/plain": [
       "  0%|          | 0/5 [00:00<?, ?it/s]"
      ]
     },
     "metadata": {},
     "output_type": "display_data"
    },
    {
     "data": {
      "application/vnd.jupyter.widget-view+json": {
       "model_id": "58b556ee4753457b800700021e881007",
       "version_major": 2,
       "version_minor": 0
      },
      "text/plain": [
       "  0%|          | 0/5 [00:00<?, ?it/s]"
      ]
     },
     "metadata": {},
     "output_type": "display_data"
    },
    {
     "data": {
      "application/vnd.jupyter.widget-view+json": {
       "model_id": "f3cfb4c4d3e44cad8e32e209eb8f1537",
       "version_major": 2,
       "version_minor": 0
      },
      "text/plain": [
       "  0%|          | 0/5 [00:00<?, ?it/s]"
      ]
     },
     "metadata": {},
     "output_type": "display_data"
    },
    {
     "data": {
      "application/vnd.jupyter.widget-view+json": {
       "model_id": "35c7b3ee3ce84862960412e6a6cbfa85",
       "version_major": 2,
       "version_minor": 0
      },
      "text/plain": [
       "  0%|          | 0/5 [00:00<?, ?it/s]"
      ]
     },
     "metadata": {},
     "output_type": "display_data"
    },
    {
     "data": {
      "application/vnd.jupyter.widget-view+json": {
       "model_id": "1a3c55f9e8314432885ab59c4bc4cd04",
       "version_major": 2,
       "version_minor": 0
      },
      "text/plain": [
       "  0%|          | 0/5 [00:00<?, ?it/s]"
      ]
     },
     "metadata": {},
     "output_type": "display_data"
    },
    {
     "data": {
      "application/vnd.jupyter.widget-view+json": {
       "model_id": "689b28e5d3b54d34af8135c0381378a4",
       "version_major": 2,
       "version_minor": 0
      },
      "text/plain": [
       "  0%|          | 0/5 [00:00<?, ?it/s]"
      ]
     },
     "metadata": {},
     "output_type": "display_data"
    },
    {
     "data": {
      "application/vnd.jupyter.widget-view+json": {
       "model_id": "b87483655f3647a9b265b18142c3d740",
       "version_major": 2,
       "version_minor": 0
      },
      "text/plain": [
       "  0%|          | 0/5 [00:00<?, ?it/s]"
      ]
     },
     "metadata": {},
     "output_type": "display_data"
    },
    {
     "data": {
      "application/vnd.jupyter.widget-view+json": {
       "model_id": "78e5a177c7214bb8be902940dde34e9b",
       "version_major": 2,
       "version_minor": 0
      },
      "text/plain": [
       "  0%|          | 0/5 [00:00<?, ?it/s]"
      ]
     },
     "metadata": {},
     "output_type": "display_data"
    },
    {
     "data": {
      "application/vnd.jupyter.widget-view+json": {
       "model_id": "fd47d8ac4f524e9b9dc824f425790230",
       "version_major": 2,
       "version_minor": 0
      },
      "text/plain": [
       "  0%|          | 0/5 [00:00<?, ?it/s]"
      ]
     },
     "metadata": {},
     "output_type": "display_data"
    },
    {
     "data": {
      "application/vnd.jupyter.widget-view+json": {
       "model_id": "a5be785c25b34e7ea6db5f6224d51b53",
       "version_major": 2,
       "version_minor": 0
      },
      "text/plain": [
       "  0%|          | 0/9 [00:00<?, ?it/s]"
      ]
     },
     "metadata": {},
     "output_type": "display_data"
    },
    {
     "data": {
      "application/vnd.jupyter.widget-view+json": {
       "model_id": "be71b3beda0e4adea56725031e22ebd8",
       "version_major": 2,
       "version_minor": 0
      },
      "text/plain": [
       "  0%|          | 0/5 [00:00<?, ?it/s]"
      ]
     },
     "metadata": {},
     "output_type": "display_data"
    },
    {
     "data": {
      "application/vnd.jupyter.widget-view+json": {
       "model_id": "4bd4f1e8a92d432e8070870127b8dd74",
       "version_major": 2,
       "version_minor": 0
      },
      "text/plain": [
       "  0%|          | 0/5 [00:00<?, ?it/s]"
      ]
     },
     "metadata": {},
     "output_type": "display_data"
    },
    {
     "data": {
      "application/vnd.jupyter.widget-view+json": {
       "model_id": "05e21491788a4164aced3d54ce845046",
       "version_major": 2,
       "version_minor": 0
      },
      "text/plain": [
       "  0%|          | 0/5 [00:00<?, ?it/s]"
      ]
     },
     "metadata": {},
     "output_type": "display_data"
    },
    {
     "data": {
      "application/vnd.jupyter.widget-view+json": {
       "model_id": "dd52dc86646c449281810a322e707663",
       "version_major": 2,
       "version_minor": 0
      },
      "text/plain": [
       "  0%|          | 0/5 [00:00<?, ?it/s]"
      ]
     },
     "metadata": {},
     "output_type": "display_data"
    },
    {
     "data": {
      "application/vnd.jupyter.widget-view+json": {
       "model_id": "0544b41a681646f39d2b8e6c9d9f29ce",
       "version_major": 2,
       "version_minor": 0
      },
      "text/plain": [
       "  0%|          | 0/5 [00:00<?, ?it/s]"
      ]
     },
     "metadata": {},
     "output_type": "display_data"
    }
   ],
   "source": [
    "save_path = data_dir / 'sun_IF_3D' /'imgs' / 'raw'\n",
    "save_path.mkdir(parents=True, exist_ok=True)\n",
    "\n",
    "group = df_imgs.groupby(['Cell', 'Condition', 'FOV'])\n",
    "for name, df_group in group:\n",
    "    \n",
    "    z_shifts_cond = z_shifts_all['_'.join(name)]\n",
    "        \n",
    "    for i, row in tqdm(enumerate(df_group.itertuples()), total=len(df_group)):\n",
    "        path = row.Path\n",
    "\n",
    "        # Read images\n",
    "        cycles = []\n",
    "        imgs_all = []\n",
    "        channels = []\n",
    "        with h5py.File(path, \"r\") as f:\n",
    "            for k in tqdm(natsorted(f.keys()), total=len(f.keys()), leave=False):\n",
    "                cycle = k.split('_')[0]\n",
    "                channel = f[k].attrs['Channel']\n",
    "\n",
    "                imgs = f[k][:]\n",
    "                if channel == 1:\n",
    "                    imgs = contrast_str(imgs)\n",
    "                cycles.append(cycle)\n",
    "                channels.append(channel)\n",
    "                imgs_all.append(imgs)\n",
    "                       \n",
    "        cycles = np.array(cycles)\n",
    "        channels = np.array(channels)\n",
    "\n",
    "        # Z Focus matching\n",
    "        imgs_matched_z = []\n",
    "        shift_min = np.min(list(z_shifts.values()))\n",
    "        shift_max = np.max(list(z_shifts.values()))\n",
    "\n",
    "        for i, img in enumerate(imgs_all):\n",
    "            z = z_shifts[cycles[i]]\n",
    "            imgs_matched_z.append(img[shift_max-z:])\n",
    "\n",
    "        # Get imgs_stacked\n",
    "        z_min = np.min([i.shape[0] for i in imgs_matched_z])\n",
    "        imgs_stacked = np.stack([i[:z_min] for i in imgs_matched_z])\n",
    "\n",
    "        for cycle in np.unique(cycles):\n",
    "            indices = np.where(cycles == cycle)[0]\n",
    "            imgs = imgs_stacked[indices,...]\n",
    "            \n",
    "            for z in range(imgs.shape[1]):\n",
    "                 # Create temp path\n",
    "                name = [row[1], row[2], cycle]\n",
    "                temp_path =  save_path / '_'.join(np.array(name).astype(str))\n",
    "                temp_path.mkdir(parents=True, exist_ok=True)\n",
    "\n",
    "                file_name = '_'.join(np.array([\"{:03d}\".format(row[4]), 'Z'+str(z)]).astype(str)) + '.tif' # Save the z with cycle because of ashlar\n",
    "                file_path = temp_path / file_name\n",
    "\n",
    "                # if os.path.exists(file_path):\n",
    "                #     continue\n",
    "                \n",
    "                # Write image\n",
    "                tiff.imwrite(file_path, imgs[:,z,...])\n"
   ]
  },
  {
   "cell_type": "code",
   "execution_count": 46,
   "metadata": {},
   "outputs": [
    {
     "data": {
      "text/plain": [
       "Pandas(Index=0, Cell='HCC827', Condition='O', FOV='Fixed', ROI=1, Path='y:\\\\coskun-lab\\\\Thomas\\\\23_PLA_revision\\\\data\\\\sun_IF_3D\\\\hdf5\\\\raw\\\\HCC827_O_Fixed_1.hdf5')"
      ]
     },
     "execution_count": 46,
     "metadata": {},
     "output_type": "execute_result"
    }
   ],
   "source": [
    "row"
   ]
  },
  {
   "cell_type": "markdown",
   "metadata": {},
   "source": [
    "## Copy file into new folder by matching the maximum and minium z stacks"
   ]
  },
  {
   "cell_type": "code",
   "execution_count": null,
   "metadata": {},
   "outputs": [
    {
     "name": "stdout",
     "output_type": "stream",
     "text": [
      "100nM_FW1_cycle1\n",
      "100nM_FW1_cycle10\n",
      "100nM_FW1_cycle11\n",
      "100nM_FW1_cycle12\n",
      "100nM_FW1_cycle13\n",
      "100nM_FW1_cycle2\n",
      "100nM_FW1_cycle3\n",
      "100nM_FW1_cycle4\n",
      "100nM_FW1_cycle5\n",
      "100nM_FW1_cycle6\n",
      "100nM_FW1_cycle7\n",
      "100nM_FW1_cycle8\n",
      "100nM_FW1_cycle9\n",
      "100nM_FW2_cycle1\n",
      "100nM_FW2_cycle10\n",
      "100nM_FW2_cycle11\n",
      "100nM_FW2_cycle12\n",
      "100nM_FW2_cycle13\n",
      "100nM_FW2_cycle2\n",
      "100nM_FW2_cycle3\n",
      "100nM_FW2_cycle4\n",
      "100nM_FW2_cycle5\n",
      "100nM_FW2_cycle6\n",
      "100nM_FW2_cycle7\n",
      "100nM_FW2_cycle8\n",
      "100nM_FW2_cycle9\n",
      "control_FW1_cycle1\n",
      "control_FW1_cycle10\n",
      "control_FW1_cycle11\n",
      "control_FW1_cycle12\n",
      "control_FW1_cycle13\n",
      "control_FW1_cycle2\n",
      "control_FW1_cycle3\n",
      "control_FW1_cycle4\n",
      "control_FW1_cycle5\n",
      "control_FW1_cycle6\n",
      "control_FW1_cycle7\n",
      "control_FW1_cycle8\n",
      "control_FW1_cycle9\n",
      "control_FW2_cycle1\n",
      "control_FW2_cycle10\n",
      "control_FW2_cycle11\n",
      "control_FW2_cycle12\n",
      "control_FW2_cycle13\n",
      "control_FW2_cycle2\n",
      "control_FW2_cycle3\n",
      "control_FW2_cycle4\n",
      "control_FW2_cycle5\n",
      "control_FW2_cycle6\n",
      "control_FW2_cycle7\n",
      "control_FW2_cycle8\n",
      "control_FW2_cycle9\n"
     ]
    }
   ],
   "source": [
    "import shutil\n",
    "img_dir = data_dir / 'sun_IF_3D' / 'imgs' / 'raw_per_cycle'\n",
    "save_dir = data_dir /  'sun_IF_3D' / 'imgs' / 'raw_matched_z'\n",
    "save_dir.mkdir(parents=True, exist_ok=True)\n",
    "\n",
    "for condition in os.listdir(img_dir):\n",
    "    print(condition)\n",
    "\n",
    "    # Get files\n",
    "    files = os.listdir(img_dir / condition)\n",
    "    files = [f for f in files if 'tif' in f ]\n",
    "    # Define savepath\n",
    "    save_path = save_dir / condition \n",
    "    save_path.mkdir(parents=True, exist_ok=True)\n",
    "\n",
    "    # Create temp dataframe\n",
    "    df_temp = pd.DataFrame({'ROI': [f.split('_')[0] for f in files],\n",
    "                        'Z': [f.split('_')[1].split('.')[0][1:] for f in files],\n",
    "                        'Path': files})\n",
    "    df_temp = df_temp.sort_values(by=['ROI', 'Z'], key=natsort_keygen())\n",
    "    df_temp.Z = df_temp.Z.astype(np.uint8)\n",
    "    min_z = df_temp.groupby(['ROI'])['Z'].max().min()\n",
    "    \n",
    "    # Iterate over ROI\n",
    "    group = df_temp.groupby(['ROI'])\n",
    "    for name, df_group in group:\n",
    "        z_diff = df_group.Z.max() - min_z\n",
    "        div = z_diff // 2\n",
    "        rest = z_diff % 2\n",
    "        df_group = df_group.iloc[div+rest:-1-div]\n",
    "        df_group = df_group.reset_index(drop=True)\n",
    "        for row in df_group.itertuples():\n",
    "            source = img_dir / condition / row[-1]\n",
    "            destination = save_path / ('_'.join([row[1], 'cycle'+str(row[0])]) + '.tif')\n",
    "            # if os.path.exists(destination):\n",
    "            #     continue\n",
    "            shutil.copy(source, destination)\n"
   ]
  },
  {
   "cell_type": "markdown",
   "metadata": {},
   "source": [
    "# Registration "
   ]
  },
  {
   "cell_type": "code",
   "execution_count": 21,
   "metadata": {},
   "outputs": [],
   "source": [
    "from ashlar import fileseries, thumbnail,reg\n",
    "import matplotlib.pyplot as plt\n",
    "from ashlar.scripts.ashlar import process_axis_flip"
   ]
  },
  {
   "cell_type": "code",
   "execution_count": 22,
   "metadata": {},
   "outputs": [
    {
     "data": {
      "application/vnd.jupyter.widget-view+json": {
       "model_id": "e088379ec58640e6839e2df4139497de",
       "version_major": 2,
       "version_minor": 0
      },
      "text/plain": [
       "  0%|          | 0/4 [00:00<?, ?it/s]"
      ]
     },
     "metadata": {},
     "output_type": "display_data"
    },
    {
     "name": "stdout",
     "output_type": "stream",
     "text": [
      "    assembling thumbnail 1/1\n",
      "    assembling thumbnail 1/1\n",
      "    estimated cycle offset [y x] = [1. 6.]\n",
      "    assembling thumbnail 1/1\n",
      "    assembling thumbnail 1/1\n",
      "    estimated cycle offset [y x] = [-1. -3.]\n",
      "    assembling thumbnail 1/1\n",
      "    assembling thumbnail 1/1\n",
      "    estimated cycle offset [y x] = [ 4. 11.]\n",
      "    assembling thumbnail 1/1\n",
      "    assembling thumbnail 1/1\n",
      "    estimated cycle offset [y x] = [ 6. -3.]\n"
     ]
    }
   ],
   "source": [
    "# Loop all images\n",
    "imgs_dir = data_dir / 'sun_IF_v2' /'imgs' / 'raw'\n",
    "save_dir = data_dir / 'sun_IF_v2' /'imgs' / 'registered'\n",
    "save_dir.mkdir(parents=True, exist_ok=True)\n",
    "\n",
    "imgs_dir_list = os.listdir(imgs_dir)\n",
    "\n",
    "for dir_path in tqdm(imgs_dir_list):\n",
    "    \n",
    "    # Create reader for each cycle\n",
    "    readers = []\n",
    "    for i in range(1, 3):\n",
    "        reader = fileseries.FileSeriesReader(\n",
    "            str(imgs_dir / dir_path),\n",
    "            pattern='{series}_'+f'cycle{i}.tif',\n",
    "            overlap=0.29,\n",
    "            width=1,\n",
    "            height=1,\n",
    "            layout='snake',\n",
    "            direction='horizontal',\n",
    "            pixel_size=0.18872, \n",
    "        )\n",
    "        readers.append(reader)\n",
    "    reader_1 = readers[0]\n",
    "    \n",
    "    # Run stitching\n",
    "    aligner0 = reg.EdgeAligner(reader_1, channel=0, filter_sigma=2, verbose=False,)\n",
    "    aligner0.run()\n",
    "    \n",
    "    # Generate merge image for 1 cycle\n",
    "    # Parramter\n",
    "    mosaic_args = {}\n",
    "    mosaic_args['verbose'] = False\n",
    "\n",
    "    mosaic = reg.Mosaic(\n",
    "            aligner0,aligner0.mosaic_shape,**mosaic_args\n",
    "        )\n",
    "    writer_class = reg.TiffListWriter\n",
    "    writer = writer_class(\n",
    "            [mosaic], str(save_dir / (dir_path + '_cycle1_ch{channel}.ome.tif'))\n",
    "    )\n",
    "    writer.run()\n",
    "    \n",
    "    # Loop through rest of cycles\n",
    "    aligners = list()\n",
    "    aligners.append(aligner0)\n",
    "\n",
    "    for j in range(1, len(readers)):\n",
    "        aligners.append(\n",
    "            reg.LayerAligner(readers[j], aligners[0], channel=0, filter_sigma=2, verbose=False)\n",
    "        )\n",
    "        aligners[j].run()\n",
    "        mosaic = reg.Mosaic(\n",
    "            aligners[j], aligners[0].mosaic_shape,**mosaic_args\n",
    "        )\n",
    "        writer = writer_class(\n",
    "                [mosaic], str(save_dir / (dir_path +'_cycle'+str(j+1)+'_ch{channel}.ome.tif'))\n",
    "        )\n",
    "        writer.run()\n",
    "    "
   ]
  },
  {
   "cell_type": "markdown",
   "metadata": {},
   "source": [
    "# Save data"
   ]
  },
  {
   "cell_type": "code",
   "execution_count": 23,
   "metadata": {},
   "outputs": [],
   "source": [
    "def get_info(data_raw, marker_dict):\n",
    "    cells = []\n",
    "    conditions = []\n",
    "    fovs = []\n",
    "    cycles = []\n",
    "    channels = []\n",
    "    markers = []\n",
    "    paths = [] \n",
    "\n",
    "    # Loop through image folder\n",
    "    for (dirpath, dirnames, filenames) in os.walk(data_raw):\n",
    "        for name in sorted(filenames):\n",
    "            if \"tif\" in name:\n",
    "                # Get information from image name\n",
    "                n_split = name.split('_')\n",
    "                cell=n_split[0]                       \n",
    "                cond=n_split[1]\n",
    "                fov=n_split[2]\n",
    "                cycle=n_split[3]\n",
    "                ch = n_split[4][:3]\n",
    "                try:\n",
    "                    marker = marker_dict[cycle][ch]\n",
    "                except:\n",
    "                    continue \n",
    "                \n",
    "                cells.append(cell)\n",
    "                conditions.append(cond)\n",
    "                fovs.append(fov)\n",
    "                cycles.append(cycle)\n",
    "                channels.append(ch)\n",
    "                markers.append(marker)\n",
    "                paths.append(os.path.join(dirpath, name))\n",
    "                \n",
    "    info = {\n",
    "            'Cell': cells,\n",
    "            \"Condition\": conditions,\n",
    "            \"FOV\": fovs,\n",
    "            \"Cycle\": cycles,\n",
    "            \"Channels\": channels,\n",
    "            \"Markers\": markers,\n",
    "            \"Path\": paths\n",
    "        }\n",
    "\n",
    "    df = pd.DataFrame(info)\n",
    "    return df\n",
    "\n",
    "def joblib_loop(task, pics):\n",
    "    return Parallel(n_jobs=20)(delayed(task)(i) for i in pics)\n",
    "\n",
    "def read_img(path):\n",
    "    return skimage.io.imread(path, as_gray=True)\n",
    "\n",
    "def get_min(imgs):\n",
    "    shapes = np.array([np.array(img.shape) for img in imgs])\n",
    "    return np.min(shapes, axis=0)"
   ]
  },
  {
   "cell_type": "code",
   "execution_count": 24,
   "metadata": {},
   "outputs": [],
   "source": [
    "from collections import defaultdict\n",
    "\n",
    "markers_map_new = defaultdict(dict)\n",
    "for k,v in markers_map.items():\n",
    "    for i, (ch,marker) in enumerate(v.items()):\n",
    "        markers_map_new[k][f'ch{i}'] = marker\n",
    "        "
   ]
  },
  {
   "cell_type": "code",
   "execution_count": 25,
   "metadata": {},
   "outputs": [
    {
     "name": "stdout",
     "output_type": "stream",
     "text": [
      "Folder is already there\n",
      "Created df\n"
     ]
    }
   ],
   "source": [
    "data_raw = data_dir  / 'sun_IF_v2' /'imgs' / 'registered'\n",
    "df_meta_path = data_dir /  'sun_IF_v2' / 'metadata' / 'info_sti.csv'\n",
    "\n",
    "try:\n",
    "    df_meta_path.parent.mkdir(parents=True, exist_ok=False)\n",
    "except FileExistsError:\n",
    "    print(\"Folder is already there\")\n",
    "\n",
    "df_exist = df_meta_path.is_file()\n",
    "\n",
    "if not df_exist:\n",
    "    print('Created df')\n",
    "    df = get_info(data_raw, markers_map_new)\n",
    "    df.to_csv(df_meta_path, index=False)\n",
    "else:\n",
    "    print('Loaded df')\n",
    "    df = pd.read_csv(df_meta_path)"
   ]
  },
  {
   "cell_type": "code",
   "execution_count": 26,
   "metadata": {},
   "outputs": [
    {
     "data": {
      "text/html": [
       "<div>\n",
       "<style scoped>\n",
       "    .dataframe tbody tr th:only-of-type {\n",
       "        vertical-align: middle;\n",
       "    }\n",
       "\n",
       "    .dataframe tbody tr th {\n",
       "        vertical-align: top;\n",
       "    }\n",
       "\n",
       "    .dataframe thead th {\n",
       "        text-align: right;\n",
       "    }\n",
       "</style>\n",
       "<table border=\"1\" class=\"dataframe\">\n",
       "  <thead>\n",
       "    <tr style=\"text-align: right;\">\n",
       "      <th></th>\n",
       "      <th>Cell</th>\n",
       "      <th>Condition</th>\n",
       "      <th>FOV</th>\n",
       "      <th>Cycle</th>\n",
       "      <th>Channels</th>\n",
       "      <th>Markers</th>\n",
       "      <th>Path</th>\n",
       "    </tr>\n",
       "  </thead>\n",
       "  <tbody>\n",
       "    <tr>\n",
       "      <th>0</th>\n",
       "      <td>HCC827</td>\n",
       "      <td>O</td>\n",
       "      <td>Fixed</td>\n",
       "      <td>cycle1</td>\n",
       "      <td>ch0</td>\n",
       "      <td>Hoechst</td>\n",
       "      <td>y:\\coskun-lab\\Thomas\\23_PLA_revision\\data\\sun_...</td>\n",
       "    </tr>\n",
       "    <tr>\n",
       "      <th>1</th>\n",
       "      <td>HCC827</td>\n",
       "      <td>O</td>\n",
       "      <td>Fixed</td>\n",
       "      <td>cycle1</td>\n",
       "      <td>ch1</td>\n",
       "      <td>DR5</td>\n",
       "      <td>y:\\coskun-lab\\Thomas\\23_PLA_revision\\data\\sun_...</td>\n",
       "    </tr>\n",
       "    <tr>\n",
       "      <th>2</th>\n",
       "      <td>HCC827</td>\n",
       "      <td>O</td>\n",
       "      <td>Fixed</td>\n",
       "      <td>cycle1</td>\n",
       "      <td>ch2</td>\n",
       "      <td>TRAIL</td>\n",
       "      <td>y:\\coskun-lab\\Thomas\\23_PLA_revision\\data\\sun_...</td>\n",
       "    </tr>\n",
       "    <tr>\n",
       "      <th>3</th>\n",
       "      <td>HCC827</td>\n",
       "      <td>O</td>\n",
       "      <td>Fixed</td>\n",
       "      <td>cycle2</td>\n",
       "      <td>ch0</td>\n",
       "      <td>Hoechst</td>\n",
       "      <td>y:\\coskun-lab\\Thomas\\23_PLA_revision\\data\\sun_...</td>\n",
       "    </tr>\n",
       "    <tr>\n",
       "      <th>4</th>\n",
       "      <td>HCC827</td>\n",
       "      <td>O</td>\n",
       "      <td>Fixed</td>\n",
       "      <td>cycle2</td>\n",
       "      <td>ch1</td>\n",
       "      <td>Phalloidin</td>\n",
       "      <td>y:\\coskun-lab\\Thomas\\23_PLA_revision\\data\\sun_...</td>\n",
       "    </tr>\n",
       "    <tr>\n",
       "      <th>5</th>\n",
       "      <td>HCC827</td>\n",
       "      <td>ctrl</td>\n",
       "      <td>Fixed</td>\n",
       "      <td>cycle1</td>\n",
       "      <td>ch0</td>\n",
       "      <td>Hoechst</td>\n",
       "      <td>y:\\coskun-lab\\Thomas\\23_PLA_revision\\data\\sun_...</td>\n",
       "    </tr>\n",
       "    <tr>\n",
       "      <th>6</th>\n",
       "      <td>HCC827</td>\n",
       "      <td>ctrl</td>\n",
       "      <td>Fixed</td>\n",
       "      <td>cycle1</td>\n",
       "      <td>ch1</td>\n",
       "      <td>DR5</td>\n",
       "      <td>y:\\coskun-lab\\Thomas\\23_PLA_revision\\data\\sun_...</td>\n",
       "    </tr>\n",
       "    <tr>\n",
       "      <th>7</th>\n",
       "      <td>HCC827</td>\n",
       "      <td>ctrl</td>\n",
       "      <td>Fixed</td>\n",
       "      <td>cycle1</td>\n",
       "      <td>ch2</td>\n",
       "      <td>TRAIL</td>\n",
       "      <td>y:\\coskun-lab\\Thomas\\23_PLA_revision\\data\\sun_...</td>\n",
       "    </tr>\n",
       "    <tr>\n",
       "      <th>8</th>\n",
       "      <td>HCC827</td>\n",
       "      <td>ctrl</td>\n",
       "      <td>Fixed</td>\n",
       "      <td>cycle2</td>\n",
       "      <td>ch0</td>\n",
       "      <td>Hoechst</td>\n",
       "      <td>y:\\coskun-lab\\Thomas\\23_PLA_revision\\data\\sun_...</td>\n",
       "    </tr>\n",
       "    <tr>\n",
       "      <th>9</th>\n",
       "      <td>HCC827</td>\n",
       "      <td>ctrl</td>\n",
       "      <td>Fixed</td>\n",
       "      <td>cycle2</td>\n",
       "      <td>ch1</td>\n",
       "      <td>Phalloidin</td>\n",
       "      <td>y:\\coskun-lab\\Thomas\\23_PLA_revision\\data\\sun_...</td>\n",
       "    </tr>\n",
       "    <tr>\n",
       "      <th>10</th>\n",
       "      <td>PC9</td>\n",
       "      <td>O</td>\n",
       "      <td>Fixed</td>\n",
       "      <td>cycle1</td>\n",
       "      <td>ch0</td>\n",
       "      <td>Hoechst</td>\n",
       "      <td>y:\\coskun-lab\\Thomas\\23_PLA_revision\\data\\sun_...</td>\n",
       "    </tr>\n",
       "    <tr>\n",
       "      <th>11</th>\n",
       "      <td>PC9</td>\n",
       "      <td>O</td>\n",
       "      <td>Fixed</td>\n",
       "      <td>cycle1</td>\n",
       "      <td>ch1</td>\n",
       "      <td>DR5</td>\n",
       "      <td>y:\\coskun-lab\\Thomas\\23_PLA_revision\\data\\sun_...</td>\n",
       "    </tr>\n",
       "    <tr>\n",
       "      <th>12</th>\n",
       "      <td>PC9</td>\n",
       "      <td>O</td>\n",
       "      <td>Fixed</td>\n",
       "      <td>cycle1</td>\n",
       "      <td>ch2</td>\n",
       "      <td>TRAIL</td>\n",
       "      <td>y:\\coskun-lab\\Thomas\\23_PLA_revision\\data\\sun_...</td>\n",
       "    </tr>\n",
       "    <tr>\n",
       "      <th>13</th>\n",
       "      <td>PC9</td>\n",
       "      <td>O</td>\n",
       "      <td>Fixed</td>\n",
       "      <td>cycle2</td>\n",
       "      <td>ch0</td>\n",
       "      <td>Hoechst</td>\n",
       "      <td>y:\\coskun-lab\\Thomas\\23_PLA_revision\\data\\sun_...</td>\n",
       "    </tr>\n",
       "    <tr>\n",
       "      <th>14</th>\n",
       "      <td>PC9</td>\n",
       "      <td>O</td>\n",
       "      <td>Fixed</td>\n",
       "      <td>cycle2</td>\n",
       "      <td>ch1</td>\n",
       "      <td>Phalloidin</td>\n",
       "      <td>y:\\coskun-lab\\Thomas\\23_PLA_revision\\data\\sun_...</td>\n",
       "    </tr>\n",
       "    <tr>\n",
       "      <th>15</th>\n",
       "      <td>PC9</td>\n",
       "      <td>ctrl</td>\n",
       "      <td>Fixed</td>\n",
       "      <td>cycle1</td>\n",
       "      <td>ch0</td>\n",
       "      <td>Hoechst</td>\n",
       "      <td>y:\\coskun-lab\\Thomas\\23_PLA_revision\\data\\sun_...</td>\n",
       "    </tr>\n",
       "    <tr>\n",
       "      <th>16</th>\n",
       "      <td>PC9</td>\n",
       "      <td>ctrl</td>\n",
       "      <td>Fixed</td>\n",
       "      <td>cycle1</td>\n",
       "      <td>ch1</td>\n",
       "      <td>DR5</td>\n",
       "      <td>y:\\coskun-lab\\Thomas\\23_PLA_revision\\data\\sun_...</td>\n",
       "    </tr>\n",
       "    <tr>\n",
       "      <th>17</th>\n",
       "      <td>PC9</td>\n",
       "      <td>ctrl</td>\n",
       "      <td>Fixed</td>\n",
       "      <td>cycle1</td>\n",
       "      <td>ch2</td>\n",
       "      <td>TRAIL</td>\n",
       "      <td>y:\\coskun-lab\\Thomas\\23_PLA_revision\\data\\sun_...</td>\n",
       "    </tr>\n",
       "    <tr>\n",
       "      <th>18</th>\n",
       "      <td>PC9</td>\n",
       "      <td>ctrl</td>\n",
       "      <td>Fixed</td>\n",
       "      <td>cycle2</td>\n",
       "      <td>ch0</td>\n",
       "      <td>Hoechst</td>\n",
       "      <td>y:\\coskun-lab\\Thomas\\23_PLA_revision\\data\\sun_...</td>\n",
       "    </tr>\n",
       "    <tr>\n",
       "      <th>19</th>\n",
       "      <td>PC9</td>\n",
       "      <td>ctrl</td>\n",
       "      <td>Fixed</td>\n",
       "      <td>cycle2</td>\n",
       "      <td>ch1</td>\n",
       "      <td>Phalloidin</td>\n",
       "      <td>y:\\coskun-lab\\Thomas\\23_PLA_revision\\data\\sun_...</td>\n",
       "    </tr>\n",
       "  </tbody>\n",
       "</table>\n",
       "</div>"
      ],
      "text/plain": [
       "      Cell Condition    FOV   Cycle Channels     Markers  \\\n",
       "0   HCC827         O  Fixed  cycle1      ch0     Hoechst   \n",
       "1   HCC827         O  Fixed  cycle1      ch1         DR5   \n",
       "2   HCC827         O  Fixed  cycle1      ch2       TRAIL   \n",
       "3   HCC827         O  Fixed  cycle2      ch0     Hoechst   \n",
       "4   HCC827         O  Fixed  cycle2      ch1  Phalloidin   \n",
       "5   HCC827      ctrl  Fixed  cycle1      ch0     Hoechst   \n",
       "6   HCC827      ctrl  Fixed  cycle1      ch1         DR5   \n",
       "7   HCC827      ctrl  Fixed  cycle1      ch2       TRAIL   \n",
       "8   HCC827      ctrl  Fixed  cycle2      ch0     Hoechst   \n",
       "9   HCC827      ctrl  Fixed  cycle2      ch1  Phalloidin   \n",
       "10     PC9         O  Fixed  cycle1      ch0     Hoechst   \n",
       "11     PC9         O  Fixed  cycle1      ch1         DR5   \n",
       "12     PC9         O  Fixed  cycle1      ch2       TRAIL   \n",
       "13     PC9         O  Fixed  cycle2      ch0     Hoechst   \n",
       "14     PC9         O  Fixed  cycle2      ch1  Phalloidin   \n",
       "15     PC9      ctrl  Fixed  cycle1      ch0     Hoechst   \n",
       "16     PC9      ctrl  Fixed  cycle1      ch1         DR5   \n",
       "17     PC9      ctrl  Fixed  cycle1      ch2       TRAIL   \n",
       "18     PC9      ctrl  Fixed  cycle2      ch0     Hoechst   \n",
       "19     PC9      ctrl  Fixed  cycle2      ch1  Phalloidin   \n",
       "\n",
       "                                                 Path  \n",
       "0   y:\\coskun-lab\\Thomas\\23_PLA_revision\\data\\sun_...  \n",
       "1   y:\\coskun-lab\\Thomas\\23_PLA_revision\\data\\sun_...  \n",
       "2   y:\\coskun-lab\\Thomas\\23_PLA_revision\\data\\sun_...  \n",
       "3   y:\\coskun-lab\\Thomas\\23_PLA_revision\\data\\sun_...  \n",
       "4   y:\\coskun-lab\\Thomas\\23_PLA_revision\\data\\sun_...  \n",
       "5   y:\\coskun-lab\\Thomas\\23_PLA_revision\\data\\sun_...  \n",
       "6   y:\\coskun-lab\\Thomas\\23_PLA_revision\\data\\sun_...  \n",
       "7   y:\\coskun-lab\\Thomas\\23_PLA_revision\\data\\sun_...  \n",
       "8   y:\\coskun-lab\\Thomas\\23_PLA_revision\\data\\sun_...  \n",
       "9   y:\\coskun-lab\\Thomas\\23_PLA_revision\\data\\sun_...  \n",
       "10  y:\\coskun-lab\\Thomas\\23_PLA_revision\\data\\sun_...  \n",
       "11  y:\\coskun-lab\\Thomas\\23_PLA_revision\\data\\sun_...  \n",
       "12  y:\\coskun-lab\\Thomas\\23_PLA_revision\\data\\sun_...  \n",
       "13  y:\\coskun-lab\\Thomas\\23_PLA_revision\\data\\sun_...  \n",
       "14  y:\\coskun-lab\\Thomas\\23_PLA_revision\\data\\sun_...  \n",
       "15  y:\\coskun-lab\\Thomas\\23_PLA_revision\\data\\sun_...  \n",
       "16  y:\\coskun-lab\\Thomas\\23_PLA_revision\\data\\sun_...  \n",
       "17  y:\\coskun-lab\\Thomas\\23_PLA_revision\\data\\sun_...  \n",
       "18  y:\\coskun-lab\\Thomas\\23_PLA_revision\\data\\sun_...  \n",
       "19  y:\\coskun-lab\\Thomas\\23_PLA_revision\\data\\sun_...  "
      ]
     },
     "execution_count": 26,
     "metadata": {},
     "output_type": "execute_result"
    }
   ],
   "source": [
    "df"
   ]
  },
  {
   "cell_type": "code",
   "execution_count": 27,
   "metadata": {},
   "outputs": [
    {
     "name": "stdout",
     "output_type": "stream",
     "text": [
      "Created df\n"
     ]
    },
    {
     "data": {
      "application/vnd.jupyter.widget-view+json": {
       "model_id": "ab58ce7ae3b14bad879015b474a035ed",
       "version_major": 2,
       "version_minor": 0
      },
      "text/plain": [
       "  0%|          | 0/4 [00:00<?, ?it/s]"
      ]
     },
     "metadata": {},
     "output_type": "display_data"
    }
   ],
   "source": [
    "df_imgs_path = data_dir / 'sun_IF_v2'  /'metadata' / 'imgs_reg.csv'\n",
    "\n",
    "temp_path =data_dir /  'sun_IF_v2'  /'hdf5' / 'registered'\n",
    "try:\n",
    "    temp_path.mkdir(parents=True, exist_ok=False)\n",
    "except FileExistsError:\n",
    "    print(\"Folder is already there\")\n",
    "\n",
    "df_exist = df_imgs_path.is_file()\n",
    "\n",
    "if not df_exist:\n",
    "    print('Created df')\n",
    "    group = df.groupby(['Cell', 'Condition','FOV'])\n",
    "    rows = []\n",
    "\n",
    "    for name, df_group in tqdm(group, total=len(group)):\n",
    "        file_name = '_'.join(np.array(name).astype(str)) + '.hdf5'\n",
    "        file_path = temp_path / file_name\n",
    "        rows.append(list(name)+[file_path])\n",
    "        \n",
    "        # if file_path.exists():\n",
    "        #     continue\n",
    "        \n",
    "        channels = df_group.Channels.to_list()\n",
    "        cycles = df_group.Cycle.to_list()\n",
    "        markers = df_group.Markers.to_list()\n",
    "        paths = df_group.Path.to_numpy()\n",
    "            \n",
    "        imgs = joblib_loop(read_img, paths)\n",
    "        min_shape = get_min(imgs)\n",
    "        imgs_cropped = np.array([img[:min_shape[0], :min_shape[1]] for img in imgs])\n",
    "        info = {\"Cycle\": cycles, \"Channel\": channels, \"Marker\": markers}\n",
    "            \n",
    "            # hdf5 as Channel -> Z mapping\n",
    "        save_hdf5(file_path, 'imgs', imgs_cropped, info)\n",
    "    df_imgs = pd.DataFrame(rows, columns=['Cell', 'Condition', 'FOV', 'Path'])        \n",
    "    df_imgs.to_csv(df_imgs_path, index=False)\n",
    "else:\n",
    "    print('Loaded df')\n",
    "    df_imgs = pd.read_csv(df_imgs_path)"
   ]
  },
  {
   "cell_type": "code",
   "execution_count": 28,
   "metadata": {},
   "outputs": [
    {
     "data": {
      "text/html": [
       "<div>\n",
       "<style scoped>\n",
       "    .dataframe tbody tr th:only-of-type {\n",
       "        vertical-align: middle;\n",
       "    }\n",
       "\n",
       "    .dataframe tbody tr th {\n",
       "        vertical-align: top;\n",
       "    }\n",
       "\n",
       "    .dataframe thead th {\n",
       "        text-align: right;\n",
       "    }\n",
       "</style>\n",
       "<table border=\"1\" class=\"dataframe\">\n",
       "  <thead>\n",
       "    <tr style=\"text-align: right;\">\n",
       "      <th></th>\n",
       "      <th>Cell</th>\n",
       "      <th>Condition</th>\n",
       "      <th>FOV</th>\n",
       "      <th>Path</th>\n",
       "    </tr>\n",
       "  </thead>\n",
       "  <tbody>\n",
       "    <tr>\n",
       "      <th>0</th>\n",
       "      <td>HCC827</td>\n",
       "      <td>O</td>\n",
       "      <td>Fixed</td>\n",
       "      <td>y:\\coskun-lab\\Thomas\\23_PLA_revision\\data\\sun_...</td>\n",
       "    </tr>\n",
       "    <tr>\n",
       "      <th>1</th>\n",
       "      <td>HCC827</td>\n",
       "      <td>ctrl</td>\n",
       "      <td>Fixed</td>\n",
       "      <td>y:\\coskun-lab\\Thomas\\23_PLA_revision\\data\\sun_...</td>\n",
       "    </tr>\n",
       "    <tr>\n",
       "      <th>2</th>\n",
       "      <td>PC9</td>\n",
       "      <td>O</td>\n",
       "      <td>Fixed</td>\n",
       "      <td>y:\\coskun-lab\\Thomas\\23_PLA_revision\\data\\sun_...</td>\n",
       "    </tr>\n",
       "    <tr>\n",
       "      <th>3</th>\n",
       "      <td>PC9</td>\n",
       "      <td>ctrl</td>\n",
       "      <td>Fixed</td>\n",
       "      <td>y:\\coskun-lab\\Thomas\\23_PLA_revision\\data\\sun_...</td>\n",
       "    </tr>\n",
       "  </tbody>\n",
       "</table>\n",
       "</div>"
      ],
      "text/plain": [
       "     Cell Condition    FOV                                               Path\n",
       "0  HCC827         O  Fixed  y:\\coskun-lab\\Thomas\\23_PLA_revision\\data\\sun_...\n",
       "1  HCC827      ctrl  Fixed  y:\\coskun-lab\\Thomas\\23_PLA_revision\\data\\sun_...\n",
       "2     PC9         O  Fixed  y:\\coskun-lab\\Thomas\\23_PLA_revision\\data\\sun_...\n",
       "3     PC9      ctrl  Fixed  y:\\coskun-lab\\Thomas\\23_PLA_revision\\data\\sun_..."
      ]
     },
     "execution_count": 28,
     "metadata": {},
     "output_type": "execute_result"
    }
   ],
   "source": [
    "df_imgs"
   ]
  },
  {
   "cell_type": "markdown",
   "metadata": {},
   "source": [
    "# Segmentation "
   ]
  },
  {
   "cell_type": "code",
   "execution_count": 30,
   "metadata": {},
   "outputs": [],
   "source": [
    "from skimage.exposure import match_histograms, rescale_intensity\n",
    "import cv2\n",
    "from skimage import img_as_ubyte\n",
    "from skimage import exposure, util, filters, restoration\n",
    "\n",
    "def random_crop(image, NEW_IMG_HEIGHT, NEW_IMG_WIDTH):\n",
    "    cropped_image = tf.image.random_crop(\n",
    "      image, size=[3, NEW_IMG_HEIGHT, NEW_IMG_WIDTH])\n",
    "\n",
    "    return cropped_image\n",
    "\n",
    "def make_color_overlay(input_data):\n",
    "    \"\"\"Create a color overlay from 2 channel image data\n",
    "    \n",
    "    Args:\n",
    "        input_data: stack of input images\n",
    "    \n",
    "    Returns:\n",
    "        numpy.array: color-adjusted stack of overlays in RGB mode\n",
    "    \"\"\"\n",
    "    RGB_data = np.zeros(input_data.shape[:3] + (3, ), dtype='float32')\n",
    "    \n",
    "    # rescale channels to aid plotting\n",
    "    for img in range(input_data.shape[0]):\n",
    "        for channel in range(input_data.shape[-1]):\n",
    "            # get histogram for non-zero pixels\n",
    "            percentiles = np.percentile(input_data[img, :, :, channel][input_data[img, :, :, channel] > 0],\n",
    "                                            [0, 100])\n",
    "            rescaled_intensity = rescale_intensity(input_data[img, :, :, channel],\n",
    "                                                       in_range=(percentiles[0], percentiles[1]),\n",
    "                                                       out_range='float32')\n",
    "            RGB_data[img, :, :, channel + 1] = rescaled_intensity\n",
    "        \n",
    "    # create a blank array for red channel\n",
    "    return RGB_data\n",
    "\n",
    "def contrast_str(img, n_min=10, n_max=100):\n",
    "    p2, p98 = np.percentile(img, (n_min, n_max))\n",
    "    img_rescale = rescale_intensity(img, in_range=(p2, p98))\n",
    "    img_rescale = util.img_as_ubyte(img_rescale)\n",
    "    return img_rescale"
   ]
  },
  {
   "cell_type": "code",
   "execution_count": 31,
   "metadata": {},
   "outputs": [],
   "source": [
    "df_imgs_path = data_dir /  'sun_IF_v2'  /'metadata' / 'imgs_reg.csv'\n",
    "df_imgs = pd.read_csv(df_imgs_path)"
   ]
  },
  {
   "cell_type": "code",
   "execution_count": 32,
   "metadata": {},
   "outputs": [
    {
     "data": {
      "text/html": [
       "<div>\n",
       "<style scoped>\n",
       "    .dataframe tbody tr th:only-of-type {\n",
       "        vertical-align: middle;\n",
       "    }\n",
       "\n",
       "    .dataframe tbody tr th {\n",
       "        vertical-align: top;\n",
       "    }\n",
       "\n",
       "    .dataframe thead th {\n",
       "        text-align: right;\n",
       "    }\n",
       "</style>\n",
       "<table border=\"1\" class=\"dataframe\">\n",
       "  <thead>\n",
       "    <tr style=\"text-align: right;\">\n",
       "      <th></th>\n",
       "      <th>Cell</th>\n",
       "      <th>Condition</th>\n",
       "      <th>FOV</th>\n",
       "      <th>Path</th>\n",
       "    </tr>\n",
       "  </thead>\n",
       "  <tbody>\n",
       "    <tr>\n",
       "      <th>0</th>\n",
       "      <td>HCC827</td>\n",
       "      <td>O</td>\n",
       "      <td>Fixed</td>\n",
       "      <td>y:\\coskun-lab\\Thomas\\23_PLA_revision\\data\\sun_...</td>\n",
       "    </tr>\n",
       "    <tr>\n",
       "      <th>1</th>\n",
       "      <td>HCC827</td>\n",
       "      <td>ctrl</td>\n",
       "      <td>Fixed</td>\n",
       "      <td>y:\\coskun-lab\\Thomas\\23_PLA_revision\\data\\sun_...</td>\n",
       "    </tr>\n",
       "    <tr>\n",
       "      <th>2</th>\n",
       "      <td>PC9</td>\n",
       "      <td>O</td>\n",
       "      <td>Fixed</td>\n",
       "      <td>y:\\coskun-lab\\Thomas\\23_PLA_revision\\data\\sun_...</td>\n",
       "    </tr>\n",
       "    <tr>\n",
       "      <th>3</th>\n",
       "      <td>PC9</td>\n",
       "      <td>ctrl</td>\n",
       "      <td>Fixed</td>\n",
       "      <td>y:\\coskun-lab\\Thomas\\23_PLA_revision\\data\\sun_...</td>\n",
       "    </tr>\n",
       "  </tbody>\n",
       "</table>\n",
       "</div>"
      ],
      "text/plain": [
       "     Cell Condition    FOV                                               Path\n",
       "0  HCC827         O  Fixed  y:\\coskun-lab\\Thomas\\23_PLA_revision\\data\\sun_...\n",
       "1  HCC827      ctrl  Fixed  y:\\coskun-lab\\Thomas\\23_PLA_revision\\data\\sun_...\n",
       "2     PC9         O  Fixed  y:\\coskun-lab\\Thomas\\23_PLA_revision\\data\\sun_...\n",
       "3     PC9      ctrl  Fixed  y:\\coskun-lab\\Thomas\\23_PLA_revision\\data\\sun_..."
      ]
     },
     "execution_count": 32,
     "metadata": {},
     "output_type": "execute_result"
    }
   ],
   "source": [
    "df_imgs"
   ]
  },
  {
   "cell_type": "code",
   "execution_count": null,
   "metadata": {},
   "outputs": [
    {
     "data": {
      "application/vnd.jupyter.widget-view+json": {
       "model_id": "ec3eccc95b1f4f829150d935ad3f131d",
       "version_major": 2,
       "version_minor": 0
      },
      "text/plain": [
       "  0%|          | 0/8 [00:00<?, ?it/s]"
      ]
     },
     "metadata": {},
     "output_type": "display_data"
    }
   ],
   "source": [
    "for row in tqdm(df_imgs.iloc[5:6].itertuples(), total=len(df_imgs)):\n",
    "    path = row.Path\n",
    "    \n",
    "    # Read images\n",
    "    with h5py.File(path, \"r\") as f:\n",
    "        \n",
    "        markers = f['imgs'].attrs['Marker']\n",
    "        imgs = f['imgs'][:]\n"
   ]
  },
  {
   "cell_type": "code",
   "execution_count": 19,
   "metadata": {},
   "outputs": [
    {
     "data": {
      "text/plain": [
       "Viewer(axes=Axes(visible=False, labels=True, colored=True, dashed=False, arrows=True), camera=Camera(center=(0.0, 1722.5, 2300.5), zoom=0.16735284875790893, angles=(0.0, 0.0, 90.0), perspective=0.0, interactive=True), cursor=Cursor(position=(1.0, 1.0), scaled=True, size=1, style=<CursorStyle.STANDARD: 'standard'>), dims=Dims(ndim=2, ndisplay=2, last_used=0, range=((0.0, 3446.0, 1.0), (0.0, 4602.0, 1.0)), current_step=(1723, 2301), order=(0, 1), axis_labels=('0', '1')), grid=GridCanvas(stride=1, shape=(-1, -1), enabled=False), layers=[<Image layer 'Hoechst' at 0x23b3a598ac0>, <Image layer 'DR5' at 0x23b3927e4d0>, <Image layer 'TRAIL' at 0x23b3a655360>, <Image layer 'Hoechst [1]' at 0x23b3b5eb070>, <Image layer 'Phalloidin' at 0x23b3b68c820>], scale_bar=ScaleBar(visible=False, colored=False, color=array([1., 0., 1., 1.], dtype=float32), ticks=True, position=<Position.BOTTOM_RIGHT: 'bottom_right'>, font_size=10.0, box=False, box_color=array([0. , 0. , 0. , 0.6], dtype=float32), unit=None), text_overlay=TextOverlay(visible=False, color=array([0.5, 0.5, 0.5, 1. ], dtype=float32), font_size=10.0, position=<TextOverlayPosition.TOP_LEFT: 'top_left'>, text=''), overlays=Overlays(interaction_box=InteractionBox(points=None, show=False, show_handle=False, show_vertices=False, selection_box_drag=None, selection_box_final=None, transform_start=<napari.utils.transforms.transforms.Affine object at 0x0000023B39E570A0>, transform_drag=<napari.utils.transforms.transforms.Affine object at 0x0000023B39E57880>, transform_final=<napari.utils.transforms.transforms.Affine object at 0x0000023B39E57460>, transform=<napari.utils.transforms.transforms.Affine object at 0x0000023B39E565F0>, allow_new_selection=True, selected_vertex=None)), help='', status='Ready', tooltip=Tooltip(visible=False, text=''), theme='dark', title='napari', mouse_over_canvas=False, mouse_move_callbacks=[<function InteractionBoxMouseBindings.initialize_mouse_events.<locals>.mouse_move at 0x0000023B39777490>], mouse_drag_callbacks=[<function InteractionBoxMouseBindings.initialize_mouse_events.<locals>.mouse_drag at 0x0000023B39777E20>], mouse_double_click_callbacks=[], mouse_wheel_callbacks=[<function dims_scroll at 0x0000023B2DAEDAB0>], _persisted_mouse_event={}, _mouse_drag_gen={}, _mouse_wheel_gen={}, keymap={'Shift': <function InteractionBoxMouseBindings.initialize_key_events.<locals>.hold_to_lock_aspect_ratio at 0x0000023B397769E0>, 'Control-Shift-R': <function InteractionBoxMouseBindings._reset_active_layer_affine at 0x0000023B39777520>, 'Control-Shift-A': <function InteractionBoxMouseBindings._transform_active_layer at 0x0000023B39777370>})"
      ]
     },
     "execution_count": 19,
     "metadata": {},
     "output_type": "execute_result"
    }
   ],
   "source": [
    "import napari \n",
    "\n",
    "napari.view_image(np.stack(imgs), name=markers, channel_axis=0, contrast_limits=[0,1])"
   ]
  },
  {
   "cell_type": "code",
   "execution_count": 33,
   "metadata": {},
   "outputs": [],
   "source": [
    "# Define markers to use for cytosolic segmentation\n",
    "cyto_markers = ['Phalloidin']\n",
    "\n",
    "# Define folder and create if don't exsit\n",
    "whole_seg_path = data_dir /  'sun_IF_v2'  / 'imgs' / 'segmentation'\n",
    "whole_seg_path.mkdir(parents=True, exist_ok=True)\n",
    "\n",
    "# Save combined images\n",
    "for row in df_imgs.itertuples():\n",
    "    # Read image\n",
    "    path = row.Path\n",
    "    with h5py.File(path, \"r\") as f:\n",
    "        imgs = f['imgs'][:]\n",
    "        markers = f['imgs'].attrs['Marker']\n",
    "\n",
    "    # Get dapi and cyto imgaes\n",
    "    indices = np.isin(markers, cyto_markers)\n",
    "    img_dapi =  imgs[0]\n",
    "    imgs_cyto = imgs[indices,:]\n",
    "    \n",
    "    # Contrast streching and combine to rgb image\n",
    "    img_dapi = contrast_str(img_dapi, n_max=99.9)\n",
    "        \n",
    "    imgs_cyto_scaled = []\n",
    "    for img in imgs_cyto:\n",
    "        imgs_cyto_scaled = [contrast_str(img, n_max=99.9)]\n",
    "    img_cyto = np.max(np.array(imgs_cyto_scaled), axis=0)\n",
    "    img_rgb = np.stack([np.zeros(img_dapi.shape),img_cyto, img_dapi], axis=0).astype(np.uint8)\n",
    "    \n",
    "    # Crop and save\n",
    "    file_name = f'{\"_\".join(row[1:4])}.tif'\n",
    "    file_path = whole_seg_path / file_name\n",
    "    tiff.imwrite(file_path, img_rgb)\n",
    "\n"
   ]
  },
  {
   "cell_type": "code",
   "execution_count": null,
   "metadata": {},
   "outputs": [],
   "source": []
  }
 ],
 "metadata": {
  "kernelspec": {
   "display_name": "PLA",
   "language": "python",
   "name": "python3"
  },
  "language_info": {
   "codemirror_mode": {
    "name": "ipython",
    "version": 3
   },
   "file_extension": ".py",
   "mimetype": "text/x-python",
   "name": "python",
   "nbconvert_exporter": "python",
   "pygments_lexer": "ipython3",
   "version": "3.9.16"
  }
 },
 "nbformat": 4,
 "nbformat_minor": 2
}
