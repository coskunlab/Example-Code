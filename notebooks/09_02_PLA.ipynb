{
 "cells": [
  {
   "cell_type": "code",
   "execution_count": 2,
   "metadata": {},
   "outputs": [
    {
     "name": "stderr",
     "output_type": "stream",
     "text": [
      "c:\\Users\\thu71\\AppData\\Local\\anaconda3\\envs\\scanpy\\Lib\\site-packages\\h5py\\__init__.py:36: UserWarning: h5py is running against HDF5 1.14.3 when it was built against 1.14.2, this may cause problems\n",
      "  _warn((\"h5py is running against HDF5 {0} when it was built against {1}, \"\n"
     ]
    }
   ],
   "source": [
    "import itertools\n",
    "import os\n",
    "import sys\n",
    "from pathlib import Path\n",
    "\n",
    "import cv2\n",
    "import matplotlib.pyplot as plt\n",
    "import numpy as np\n",
    "import pandas as pd\n",
    "import skimage.io\n",
    "\n",
    "from collections import defaultdict\n",
    "from tqdm.notebook import trange, tqdm, tqdm_notebook\n",
    "from joblib import Parallel, delayed\n",
    "import re\n",
    "import h5py\n",
    "import tifffile as tiff\n",
    "from natsort import natsort_keygen, natsorted"
   ]
  },
  {
   "cell_type": "code",
   "execution_count": 3,
   "metadata": {},
   "outputs": [],
   "source": [
    "%load_ext autoreload\n",
    "%autoreload 2"
   ]
  },
  {
   "cell_type": "code",
   "execution_count": 4,
   "metadata": {},
   "outputs": [],
   "source": [
    "p_dir = (Path().cwd().parents[0]).absolute()\n",
    "\n",
    "module_path = str(p_dir / \"src\")\n",
    " \n",
    "if module_path not in sys.path:\n",
    "    sys.path.append(module_path)"
   ]
  },
  {
   "cell_type": "code",
   "execution_count": 5,
   "metadata": {},
   "outputs": [],
   "source": [
    "data_dir = (Path().cwd().parents[0] / 'data').absolute()\n",
    "data_processed = data_dir / 'processed'\n"
   ]
  },
  {
   "cell_type": "code",
   "execution_count": 6,
   "metadata": {},
   "outputs": [],
   "source": [
    "data_dir = (Path().cwd().parents[0] / 'data').absolute()\n",
    "\n",
    "df_meta_path = data_dir /'13cyc_3D'  / 'metadata' / 'imgs_reg.csv'\n",
    "df_imgs = pd.read_csv(df_meta_path)"
   ]
  },
  {
   "cell_type": "code",
   "execution_count": 7,
   "metadata": {},
   "outputs": [
    {
     "data": {
      "text/html": [
       "<div>\n",
       "<style scoped>\n",
       "    .dataframe tbody tr th:only-of-type {\n",
       "        vertical-align: middle;\n",
       "    }\n",
       "\n",
       "    .dataframe tbody tr th {\n",
       "        vertical-align: top;\n",
       "    }\n",
       "\n",
       "    .dataframe thead th {\n",
       "        text-align: right;\n",
       "    }\n",
       "</style>\n",
       "<table border=\"1\" class=\"dataframe\">\n",
       "  <thead>\n",
       "    <tr style=\"text-align: right;\">\n",
       "      <th></th>\n",
       "      <th>Condition</th>\n",
       "      <th>FOV</th>\n",
       "      <th>Z</th>\n",
       "      <th>Path</th>\n",
       "    </tr>\n",
       "  </thead>\n",
       "  <tbody>\n",
       "    <tr>\n",
       "      <th>0</th>\n",
       "      <td>100nM</td>\n",
       "      <td>FW1</td>\n",
       "      <td>z1</td>\n",
       "      <td>y:\\coskun-lab\\Thomas\\23_PLA_revision\\data\\13cy...</td>\n",
       "    </tr>\n",
       "    <tr>\n",
       "      <th>1</th>\n",
       "      <td>100nM</td>\n",
       "      <td>FW1</td>\n",
       "      <td>z2</td>\n",
       "      <td>y:\\coskun-lab\\Thomas\\23_PLA_revision\\data\\13cy...</td>\n",
       "    </tr>\n",
       "    <tr>\n",
       "      <th>2</th>\n",
       "      <td>100nM</td>\n",
       "      <td>FW1</td>\n",
       "      <td>z3</td>\n",
       "      <td>y:\\coskun-lab\\Thomas\\23_PLA_revision\\data\\13cy...</td>\n",
       "    </tr>\n",
       "    <tr>\n",
       "      <th>3</th>\n",
       "      <td>100nM</td>\n",
       "      <td>FW1</td>\n",
       "      <td>z4</td>\n",
       "      <td>y:\\coskun-lab\\Thomas\\23_PLA_revision\\data\\13cy...</td>\n",
       "    </tr>\n",
       "    <tr>\n",
       "      <th>4</th>\n",
       "      <td>100nM</td>\n",
       "      <td>FW1</td>\n",
       "      <td>z5</td>\n",
       "      <td>y:\\coskun-lab\\Thomas\\23_PLA_revision\\data\\13cy...</td>\n",
       "    </tr>\n",
       "  </tbody>\n",
       "</table>\n",
       "</div>"
      ],
      "text/plain": [
       "  Condition  FOV   Z                                               Path\n",
       "0     100nM  FW1  z1  y:\\coskun-lab\\Thomas\\23_PLA_revision\\data\\13cy...\n",
       "1     100nM  FW1  z2  y:\\coskun-lab\\Thomas\\23_PLA_revision\\data\\13cy...\n",
       "2     100nM  FW1  z3  y:\\coskun-lab\\Thomas\\23_PLA_revision\\data\\13cy...\n",
       "3     100nM  FW1  z4  y:\\coskun-lab\\Thomas\\23_PLA_revision\\data\\13cy...\n",
       "4     100nM  FW1  z5  y:\\coskun-lab\\Thomas\\23_PLA_revision\\data\\13cy..."
      ]
     },
     "execution_count": 7,
     "metadata": {},
     "output_type": "execute_result"
    }
   ],
   "source": [
    "df_imgs.head()"
   ]
  },
  {
   "cell_type": "markdown",
   "metadata": {},
   "source": [
    "# Test code "
   ]
  },
  {
   "cell_type": "code",
   "execution_count": 6,
   "metadata": {},
   "outputs": [],
   "source": [
    "# Read masks paths \n",
    "mask_dir = data_dir / '13cyc_3D'  / 'imgs' / 'masks_3D'\n",
    "mask_filt_dir = data_dir / '13cyc_3D'   / 'imgs' / 'masks_filtered'\n",
    "mask_filt_dir.mkdir(parents=True, exist_ok=True)\n",
    "\n",
    "masks_path = defaultdict(dict) \n",
    "for path in os.listdir(mask_dir):\n",
    "    name = path.split('.')[0]\n",
    "    if 'Nuclei' in name:\n",
    "        masks_path[name[7:]]['nuclei'] = mask_dir / path\n",
    "    else:\n",
    "        masks_path[name]['cyto'] = mask_dir / path\n"
   ]
  },
  {
   "cell_type": "code",
   "execution_count": 7,
   "metadata": {},
   "outputs": [
    {
     "data": {
      "text/plain": [
       "defaultdict(dict,\n",
       "            {'100nM_FW1': {'cyto': WindowsPath('y:/coskun-lab/Thomas/23_PLA_revision/data/13cyc_3D/imgs/masks_3D/100nM_FW1.tif'),\n",
       "              'nuclei': WindowsPath('y:/coskun-lab/Thomas/23_PLA_revision/data/13cyc_3D/imgs/masks_3D/Nuclei_100nM_FW1.tif')},\n",
       "             '100nM_FW2': {'cyto': WindowsPath('y:/coskun-lab/Thomas/23_PLA_revision/data/13cyc_3D/imgs/masks_3D/100nM_FW2.tif'),\n",
       "              'nuclei': WindowsPath('y:/coskun-lab/Thomas/23_PLA_revision/data/13cyc_3D/imgs/masks_3D/Nuclei_100nM_FW2.tif')},\n",
       "             'control_FW1': {'cyto': WindowsPath('y:/coskun-lab/Thomas/23_PLA_revision/data/13cyc_3D/imgs/masks_3D/control_FW1.tif'),\n",
       "              'nuclei': WindowsPath('y:/coskun-lab/Thomas/23_PLA_revision/data/13cyc_3D/imgs/masks_3D/Nuclei_control_FW1.tif')},\n",
       "             'control_FW2': {'cyto': WindowsPath('y:/coskun-lab/Thomas/23_PLA_revision/data/13cyc_3D/imgs/masks_3D/control_FW2.tif'),\n",
       "              'nuclei': WindowsPath('y:/coskun-lab/Thomas/23_PLA_revision/data/13cyc_3D/imgs/masks_3D/Nuclei_control_FW2.tif')},\n",
       "             'Thumbs': {'cyto': WindowsPath('y:/coskun-lab/Thomas/23_PLA_revision/data/13cyc_3D/imgs/masks_3D/Thumbs.db')}})"
      ]
     },
     "execution_count": 7,
     "metadata": {},
     "output_type": "execute_result"
    }
   ],
   "source": [
    "masks_path"
   ]
  },
  {
   "cell_type": "code",
   "execution_count": 8,
   "metadata": {},
   "outputs": [],
   "source": [
    "for row in df_imgs.itertuples():\n",
    "    # Read image\n",
    "    path = row.Path\n",
    "    name = '_'.join([row.Condition, row.FOV])\n",
    "    \n",
    "    # Read masks\n",
    "    mask_cyto_path = masks_path[name]['cyto']\n",
    "    mask_nuclei_path = masks_path[name]['nuclei']\n",
    "    break"
   ]
  },
  {
   "cell_type": "code",
   "execution_count": 9,
   "metadata": {},
   "outputs": [],
   "source": [
    "# img = skimage.io.imread(mask_cyto_path)"
   ]
  },
  {
   "cell_type": "code",
   "execution_count": 11,
   "metadata": {},
   "outputs": [],
   "source": [
    "# img.shape"
   ]
  },
  {
   "cell_type": "markdown",
   "metadata": {},
   "source": [
    "# QC Segmentation"
   ]
  },
  {
   "cell_type": "code",
   "execution_count": 63,
   "metadata": {},
   "outputs": [],
   "source": [
    "from skimage import morphology, measure\n",
    "from skimage.segmentation import clear_border\n",
    "from collections import defaultdict\n",
    "   \n",
    "def count_pixel_label_mask(regionmask, intensity_image):\n",
    "    v,c = np.unique(intensity_image[regionmask], return_counts=True)\n",
    "    return dict(zip(v,c))\n",
    "    \n",
    "# Quality control of mask\n",
    "def qc_nuclei(mask_cyto, mask_nuclei, small_size=25000):\n",
    "    '''\n",
    "    Function to check if cell masks contain nuclei\n",
    "    '''\n",
    "    # Filter out small objects\n",
    "    mask_cyto = morphology.remove_small_objects(mask_cyto,  min_size=small_size)\n",
    "    \n",
    "    # # Filter out mask touching border\n",
    "    # mask_cyto = clear_border(mask_cyto)\n",
    "    \n",
    "    # Filtered only cell mask region\n",
    "    cell_mask = np.where(mask_cyto > 0, 1, 0)\n",
    "    # mask_nuclei_filtered = mask_nuclei * cell_mask\n",
    "    mask_nuclei_filtered = mask_nuclei \n",
    "    mask_nuclei_filtered =  morphology.remove_small_objects(mask_nuclei_filtered,  min_size=4000)\n",
    "    \n",
    "    nuclei_mask = np.where(mask_nuclei>0, 1, 0)\n",
    "    cyto = (mask_cyto - mask_cyto*nuclei_mask).astype(np.uint16)\n",
    "    \n",
    "    # Count pixel cell label in each nuclei region to assign each nuclei to cell\n",
    "    props = measure.regionprops(mask_nuclei_filtered, intensity_image=mask_cyto, \n",
    "                    extra_properties=(count_pixel_label_mask,))\n",
    "    nuclei_labels = []\n",
    "    cell_labels = []\n",
    "    for prop in props:\n",
    "        df = pd.DataFrame.from_dict(prop['count_pixel_label_mask'], orient='index').reset_index()\n",
    "        df.columns = ['Label', 'Count']\n",
    "        corresponding_label = df.iloc[df['Count'].argmax(axis=0)]['Label']\n",
    "        nuclei_labels.append(prop['Label'])\n",
    "        cell_labels.append(corresponding_label)\n",
    "    \n",
    "    df = pd.DataFrame({'Nuclei': nuclei_labels, 'Cyto': cell_labels})\n",
    "    return mask_cyto, mask_nuclei_filtered, cyto, df"
   ]
  },
  {
   "cell_type": "code",
   "execution_count": 64,
   "metadata": {},
   "outputs": [],
   "source": [
    "# Read masks paths \n",
    "mask_dir = data_dir / '13cyc_3D'  / 'imgs' / 'masks_3D'\n",
    "mask_filt_dir = data_dir / '13cyc_3D'   / 'imgs' / 'masks_filtered'\n",
    "mask_filt_dir.mkdir(parents=True, exist_ok=True)\n",
    "\n",
    "masks_path = defaultdict(dict) \n",
    "for path in os.listdir(mask_dir):\n",
    "    name = path.split('.')[0]\n",
    "    if 'Nuclei' in name:\n",
    "        masks_path[name[7:]]['nuclei'] = mask_dir / path\n",
    "    else:\n",
    "        masks_path[name]['cyto'] = mask_dir / path\n"
   ]
  },
  {
   "cell_type": "code",
   "execution_count": 67,
   "metadata": {},
   "outputs": [],
   "source": [
    "for row in df_imgs.itertuples():\n",
    "    # Read image\n",
    "    path = row.Path\n",
    "    name = '_'.join([row.Condition, row.FOV])\n",
    "    \n",
    "    # Read masks\n",
    "    mask_cyto_path = masks_path[name]['cyto']\n",
    "    mask_nuclei_path = masks_path[name]['nuclei']\n",
    "    \n",
    "    mask_cyto = skimage.io.imread(mask_cyto_path)\n",
    "    mask_nuclei = skimage.io.imread(mask_nuclei_path)\n",
    "    mask_nuclei = mask_nuclei[:mask_cyto.shape[0], :mask_cyto.shape[1]]\n",
    "    cell, nuclei, cyto, df = qc_nuclei(mask_cyto, mask_nuclei)\n",
    "    \n",
    "    file_path =  mask_filt_dir / f'Nuclei_{name}.tif'\n",
    "    tiff.imwrite(file_path, nuclei)\n",
    "    file_path =  mask_filt_dir / f'Cell_{name}.tif'\n",
    "    tiff.imwrite(file_path, cell)\n",
    "    file_path =  mask_filt_dir / f'Cyto_{name}.tif'\n",
    "    tiff.imwrite(file_path, cyto)\n",
    "    file_path =  mask_filt_dir / f'df_{name}.csv'\n",
    "    df.to_csv(file_path, index=False)"
   ]
  },
  {
   "cell_type": "code",
   "execution_count": 66,
   "metadata": {},
   "outputs": [
    {
     "data": {
      "text/plain": [
       "<Labels layer 'cell' at 0x1af77098590>"
      ]
     },
     "execution_count": 66,
     "metadata": {},
     "output_type": "execute_result"
    }
   ],
   "source": [
    "import napari\n",
    "\n",
    "viewer = napari.view_labels(mask_cyto)\n",
    "viewer.add_labels(cell)"
   ]
  },
  {
   "cell_type": "code",
   "execution_count": 62,
   "metadata": {},
   "outputs": [
    {
     "data": {
      "text/plain": [
       "<Labels layer 'nuclei' at 0x1af786c4dd0>"
      ]
     },
     "execution_count": 62,
     "metadata": {},
     "output_type": "execute_result"
    }
   ],
   "source": [
    "import napari\n",
    "\n",
    "viewer = napari.view_labels(mask_nuclei)\n",
    "viewer.add_labels(nuclei)"
   ]
  },
  {
   "cell_type": "markdown",
   "metadata": {},
   "source": [
    "# 3D PLA extraction"
   ]
  },
  {
   "cell_type": "code",
   "execution_count": 8,
   "metadata": {},
   "outputs": [],
   "source": [
    "df_meta_path = data_dir /'13cyc_3D'  / 'metadata' / 'imgs_reg.csv'\n",
    "df_imgs = pd.read_csv(df_meta_path)"
   ]
  },
  {
   "cell_type": "code",
   "execution_count": 9,
   "metadata": {},
   "outputs": [],
   "source": [
    "import PLA\n",
    "\n",
    "PPI_save_path =  data_dir / '13cyc_3D'  / 'PPI'\n",
    "PPI_save_path.mkdir(parents=True, exist_ok=True)\n",
    "\n",
    "PPI_imgs_path =  data_dir / '13cyc_3D'  / 'PPI_imgs'\n",
    "PPI_imgs_path.mkdir(parents=True, exist_ok=True)"
   ]
  },
  {
   "cell_type": "code",
   "execution_count": 10,
   "metadata": {},
   "outputs": [
    {
     "name": "stdout",
     "output_type": "stream",
     "text": [
      "['Hoechst' 'Sox2/Oct4' 'NF-Kb/p-P90rsk' 'Hoechst' 'SIRT1/P53' 'TRAIL/DR5'\n",
      " 'Hoechst' 'Cyclin D1/CDK4' 'Bim/Tom20' 'Hoechst' 'EGFR/GRB2' 'FoxO1/AKT'\n",
      " 'Hoechst' 'p-ERK/c-MYC' 'Hoechst' 'Mcl-1/BAK' 'Hoechst' 'Cyclin E/CDK2'\n",
      " 'Hoechst' 'AKT/Mtor' 'Hoechst' 'TEAD1/YAP' 'Hoechst' 'p-EGFR'\n",
      " 'Phalloidin' 'Ki67' 'Hoechst' 'NBD-C6' 'COX IV' 'Hoechst'\n",
      " 'Pan-cytokeratin' 'Hoechst' 'Concanavalin A' 'WGA']\n"
     ]
    }
   ],
   "source": [
    "for row in df_imgs.itertuples():\n",
    "    path = row.Path\n",
    "    with h5py.File(path, 'r') as f:\n",
    "        markers = f['imgs'].attrs['Marker']\n",
    "    print(markers)\n",
    "    break\n"
   ]
  },
  {
   "cell_type": "code",
   "execution_count": 11,
   "metadata": {},
   "outputs": [],
   "source": [
    "PPI_markers = ['Sox2/Oct4', 'NF-Kb/p-P90rsk', 'SIRT1/P53', 'TRAIL/DR5',\n",
    " 'Cyclin D1/CDK4', 'Bim/Tom20', 'EGFR/GRB2', 'FoxO1/AKT',\n",
    " 'p-ERK/c-MYC', 'Mcl-1/BAK', 'Cyclin E/CDK2',\n",
    " 'AKT/Mtor', 'TEAD1/YAP']"
   ]
  },
  {
   "cell_type": "code",
   "execution_count": 13,
   "metadata": {},
   "outputs": [
    {
     "data": {
      "application/vnd.jupyter.widget-view+json": {
       "model_id": "d4ec261cb57f49a08f688cf577b9cd8f",
       "version_major": 2,
       "version_minor": 0
      },
      "text/plain": [
       "Reading images:   0%|          | 0/7 [00:00<?, ?it/s]"
      ]
     },
     "metadata": {},
     "output_type": "display_data"
    },
    {
     "data": {
      "application/vnd.jupyter.widget-view+json": {
       "model_id": "f9f4b5af9e94440d810b0ccd9bb403c5",
       "version_major": 2,
       "version_minor": 0
      },
      "text/plain": [
       "Detecting PPI spots:   0%|          | 0/7 [00:00<?, ?it/s]"
      ]
     },
     "metadata": {},
     "output_type": "display_data"
    },
    {
     "name": "stdout",
     "output_type": "stream",
     "text": [
      "(array([0, 1], dtype=uint8), array([29485568,    52003], dtype=int64))\n"
     ]
    },
    {
     "data": {
      "application/vnd.jupyter.widget-view+json": {
       "model_id": "63733bc839af4624934d59f9ed49085b",
       "version_major": 2,
       "version_minor": 0
      },
      "text/plain": [
       "Reading images:   0%|          | 0/7 [00:00<?, ?it/s]"
      ]
     },
     "metadata": {},
     "output_type": "display_data"
    },
    {
     "data": {
      "application/vnd.jupyter.widget-view+json": {
       "model_id": "6114d57f2f4e4499991557e64ef236a6",
       "version_major": 2,
       "version_minor": 0
      },
      "text/plain": [
       "Detecting PPI spots:   0%|          | 0/7 [00:00<?, ?it/s]"
      ]
     },
     "metadata": {},
     "output_type": "display_data"
    },
    {
     "name": "stdout",
     "output_type": "stream",
     "text": [
      "(array([0, 1], dtype=uint8), array([29511285,    26286], dtype=int64))\n"
     ]
    },
    {
     "data": {
      "application/vnd.jupyter.widget-view+json": {
       "model_id": "78f6b74f19894ab19978074b37339c43",
       "version_major": 2,
       "version_minor": 0
      },
      "text/plain": [
       "Reading images:   0%|          | 0/7 [00:00<?, ?it/s]"
      ]
     },
     "metadata": {},
     "output_type": "display_data"
    },
    {
     "data": {
      "application/vnd.jupyter.widget-view+json": {
       "model_id": "d85ab2773b174896b3e568e2684ecf86",
       "version_major": 2,
       "version_minor": 0
      },
      "text/plain": [
       "Detecting PPI spots:   0%|          | 0/7 [00:00<?, ?it/s]"
      ]
     },
     "metadata": {},
     "output_type": "display_data"
    },
    {
     "name": "stdout",
     "output_type": "stream",
     "text": [
      "(array([0, 1], dtype=uint8), array([29530225,     7346], dtype=int64))\n"
     ]
    },
    {
     "data": {
      "application/vnd.jupyter.widget-view+json": {
       "model_id": "cccf1cc5162c43b09419aacbb4721398",
       "version_major": 2,
       "version_minor": 0
      },
      "text/plain": [
       "Reading images:   0%|          | 0/7 [00:00<?, ?it/s]"
      ]
     },
     "metadata": {},
     "output_type": "display_data"
    },
    {
     "data": {
      "application/vnd.jupyter.widget-view+json": {
       "model_id": "b83f76b676ff4620a75d9a2bc5cbc26e",
       "version_major": 2,
       "version_minor": 0
      },
      "text/plain": [
       "Detecting PPI spots:   0%|          | 0/7 [00:00<?, ?it/s]"
      ]
     },
     "metadata": {},
     "output_type": "display_data"
    },
    {
     "name": "stdout",
     "output_type": "stream",
     "text": [
      "(array([0, 1], dtype=uint8), array([29331382,   206189], dtype=int64))\n"
     ]
    },
    {
     "data": {
      "application/vnd.jupyter.widget-view+json": {
       "model_id": "f3747df12269410b8bd991f7be37b561",
       "version_major": 2,
       "version_minor": 0
      },
      "text/plain": [
       "Reading images:   0%|          | 0/7 [00:00<?, ?it/s]"
      ]
     },
     "metadata": {},
     "output_type": "display_data"
    },
    {
     "data": {
      "application/vnd.jupyter.widget-view+json": {
       "model_id": "543651a1277c48dc80d1131051ab1ec3",
       "version_major": 2,
       "version_minor": 0
      },
      "text/plain": [
       "Detecting PPI spots:   0%|          | 0/7 [00:00<?, ?it/s]"
      ]
     },
     "metadata": {},
     "output_type": "display_data"
    },
    {
     "name": "stdout",
     "output_type": "stream",
     "text": [
      "(array([0, 1], dtype=uint8), array([29445744,    91827], dtype=int64))\n"
     ]
    },
    {
     "data": {
      "application/vnd.jupyter.widget-view+json": {
       "model_id": "3bb12ab8277b4cfcbdf0e433b384cc01",
       "version_major": 2,
       "version_minor": 0
      },
      "text/plain": [
       "Reading images:   0%|          | 0/7 [00:00<?, ?it/s]"
      ]
     },
     "metadata": {},
     "output_type": "display_data"
    },
    {
     "data": {
      "application/vnd.jupyter.widget-view+json": {
       "model_id": "ab76fa7d915e47a3ae876e1cae8beb14",
       "version_major": 2,
       "version_minor": 0
      },
      "text/plain": [
       "Detecting PPI spots:   0%|          | 0/7 [00:00<?, ?it/s]"
      ]
     },
     "metadata": {},
     "output_type": "display_data"
    },
    {
     "name": "stdout",
     "output_type": "stream",
     "text": [
      "(array([0, 1], dtype=uint8), array([29512572,    24999], dtype=int64))\n"
     ]
    },
    {
     "data": {
      "application/vnd.jupyter.widget-view+json": {
       "model_id": "767357b829e64fc9acb197975d21284a",
       "version_major": 2,
       "version_minor": 0
      },
      "text/plain": [
       "Reading images:   0%|          | 0/7 [00:00<?, ?it/s]"
      ]
     },
     "metadata": {},
     "output_type": "display_data"
    },
    {
     "data": {
      "application/vnd.jupyter.widget-view+json": {
       "model_id": "be89df5be7c64551aee6740bf6832230",
       "version_major": 2,
       "version_minor": 0
      },
      "text/plain": [
       "Detecting PPI spots:   0%|          | 0/7 [00:00<?, ?it/s]"
      ]
     },
     "metadata": {},
     "output_type": "display_data"
    },
    {
     "name": "stdout",
     "output_type": "stream",
     "text": [
      "(array([0, 1], dtype=uint8), array([29408880,   128691], dtype=int64))\n"
     ]
    },
    {
     "data": {
      "application/vnd.jupyter.widget-view+json": {
       "model_id": "8cc543bdb8cb47798c26063dc5b67fc5",
       "version_major": 2,
       "version_minor": 0
      },
      "text/plain": [
       "Reading images:   0%|          | 0/7 [00:00<?, ?it/s]"
      ]
     },
     "metadata": {},
     "output_type": "display_data"
    },
    {
     "data": {
      "application/vnd.jupyter.widget-view+json": {
       "model_id": "f376778583a2414f958f49f713fadc80",
       "version_major": 2,
       "version_minor": 0
      },
      "text/plain": [
       "Detecting PPI spots:   0%|          | 0/7 [00:00<?, ?it/s]"
      ]
     },
     "metadata": {},
     "output_type": "display_data"
    },
    {
     "name": "stdout",
     "output_type": "stream",
     "text": [
      "(array([0, 1], dtype=uint8), array([29485579,    51992], dtype=int64))\n"
     ]
    },
    {
     "data": {
      "application/vnd.jupyter.widget-view+json": {
       "model_id": "e2b27b96a7e34a9e9d135069c5d3cff7",
       "version_major": 2,
       "version_minor": 0
      },
      "text/plain": [
       "Reading images:   0%|          | 0/7 [00:00<?, ?it/s]"
      ]
     },
     "metadata": {},
     "output_type": "display_data"
    },
    {
     "data": {
      "application/vnd.jupyter.widget-view+json": {
       "model_id": "005acf98330b49f18b206ddc877ec29f",
       "version_major": 2,
       "version_minor": 0
      },
      "text/plain": [
       "Detecting PPI spots:   0%|          | 0/7 [00:00<?, ?it/s]"
      ]
     },
     "metadata": {},
     "output_type": "display_data"
    },
    {
     "name": "stdout",
     "output_type": "stream",
     "text": [
      "(array([0, 1], dtype=uint8), array([29463650,    73921], dtype=int64))\n"
     ]
    },
    {
     "data": {
      "application/vnd.jupyter.widget-view+json": {
       "model_id": "18e832f6467e447ebc62099823e1e8ed",
       "version_major": 2,
       "version_minor": 0
      },
      "text/plain": [
       "Reading images:   0%|          | 0/7 [00:00<?, ?it/s]"
      ]
     },
     "metadata": {},
     "output_type": "display_data"
    },
    {
     "data": {
      "application/vnd.jupyter.widget-view+json": {
       "model_id": "23877cbbb0b8464eb94b5c950b25d215",
       "version_major": 2,
       "version_minor": 0
      },
      "text/plain": [
       "Detecting PPI spots:   0%|          | 0/7 [00:00<?, ?it/s]"
      ]
     },
     "metadata": {},
     "output_type": "display_data"
    },
    {
     "name": "stdout",
     "output_type": "stream",
     "text": [
      "(array([0, 1], dtype=uint8), array([29511447,    26124], dtype=int64))\n"
     ]
    },
    {
     "data": {
      "application/vnd.jupyter.widget-view+json": {
       "model_id": "20c61f03846d48669fb0d6a0a94ea8e8",
       "version_major": 2,
       "version_minor": 0
      },
      "text/plain": [
       "Reading images:   0%|          | 0/7 [00:00<?, ?it/s]"
      ]
     },
     "metadata": {},
     "output_type": "display_data"
    },
    {
     "data": {
      "application/vnd.jupyter.widget-view+json": {
       "model_id": "00f9ac07ff224a5fb6ff0c0531c64b6e",
       "version_major": 2,
       "version_minor": 0
      },
      "text/plain": [
       "Detecting PPI spots:   0%|          | 0/7 [00:00<?, ?it/s]"
      ]
     },
     "metadata": {},
     "output_type": "display_data"
    },
    {
     "name": "stdout",
     "output_type": "stream",
     "text": [
      "(array([0, 1], dtype=uint8), array([29501109,    36462], dtype=int64))\n"
     ]
    },
    {
     "data": {
      "application/vnd.jupyter.widget-view+json": {
       "model_id": "773c78a7d1534867b9f5d6a5d381d744",
       "version_major": 2,
       "version_minor": 0
      },
      "text/plain": [
       "Reading images:   0%|          | 0/7 [00:00<?, ?it/s]"
      ]
     },
     "metadata": {},
     "output_type": "display_data"
    },
    {
     "data": {
      "application/vnd.jupyter.widget-view+json": {
       "model_id": "5841e2a0ce16497cb7ce7c6d364a3f4c",
       "version_major": 2,
       "version_minor": 0
      },
      "text/plain": [
       "Detecting PPI spots:   0%|          | 0/7 [00:00<?, ?it/s]"
      ]
     },
     "metadata": {},
     "output_type": "display_data"
    },
    {
     "name": "stdout",
     "output_type": "stream",
     "text": [
      "(array([0, 1], dtype=uint8), array([29518840,    18731], dtype=int64))\n"
     ]
    },
    {
     "data": {
      "application/vnd.jupyter.widget-view+json": {
       "model_id": "49599a44803b4712aeac1c3fd93c6626",
       "version_major": 2,
       "version_minor": 0
      },
      "text/plain": [
       "Reading images:   0%|          | 0/7 [00:00<?, ?it/s]"
      ]
     },
     "metadata": {},
     "output_type": "display_data"
    },
    {
     "data": {
      "application/vnd.jupyter.widget-view+json": {
       "model_id": "2e11e40da8df4ecca1efe69a6deb815c",
       "version_major": 2,
       "version_minor": 0
      },
      "text/plain": [
       "Detecting PPI spots:   0%|          | 0/7 [00:00<?, ?it/s]"
      ]
     },
     "metadata": {},
     "output_type": "display_data"
    },
    {
     "name": "stdout",
     "output_type": "stream",
     "text": [
      "(array([0, 1], dtype=uint8), array([29514506,    23065], dtype=int64))\n",
      "File exist. Deleted\n"
     ]
    },
    {
     "data": {
      "application/vnd.jupyter.widget-view+json": {
       "model_id": "b81508a94a544974ade2e9e9066d3086",
       "version_major": 2,
       "version_minor": 0
      },
      "text/plain": [
       "Reading images:   0%|          | 0/8 [00:00<?, ?it/s]"
      ]
     },
     "metadata": {},
     "output_type": "display_data"
    },
    {
     "data": {
      "application/vnd.jupyter.widget-view+json": {
       "model_id": "9d20179539804d17812fe194a4d846b4",
       "version_major": 2,
       "version_minor": 0
      },
      "text/plain": [
       "Detecting PPI spots:   0%|          | 0/8 [00:00<?, ?it/s]"
      ]
     },
     "metadata": {},
     "output_type": "display_data"
    },
    {
     "name": "stdout",
     "output_type": "stream",
     "text": [
      "(array([0, 1], dtype=uint8), array([29507741,    57178], dtype=int64))\n"
     ]
    },
    {
     "data": {
      "application/vnd.jupyter.widget-view+json": {
       "model_id": "41a0c46b23d04e4d862c7fabe0251c4f",
       "version_major": 2,
       "version_minor": 0
      },
      "text/plain": [
       "Reading images:   0%|          | 0/8 [00:00<?, ?it/s]"
      ]
     },
     "metadata": {},
     "output_type": "display_data"
    },
    {
     "data": {
      "application/vnd.jupyter.widget-view+json": {
       "model_id": "f2523ba9cf874c7f97a3c0a020be0bb2",
       "version_major": 2,
       "version_minor": 0
      },
      "text/plain": [
       "Detecting PPI spots:   0%|          | 0/8 [00:00<?, ?it/s]"
      ]
     },
     "metadata": {},
     "output_type": "display_data"
    },
    {
     "name": "stdout",
     "output_type": "stream",
     "text": [
      "(array([0, 1], dtype=uint8), array([29534088,    30831], dtype=int64))\n"
     ]
    },
    {
     "data": {
      "application/vnd.jupyter.widget-view+json": {
       "model_id": "a67cc3280ab34de29f06111057dc0c5b",
       "version_major": 2,
       "version_minor": 0
      },
      "text/plain": [
       "Reading images:   0%|          | 0/8 [00:00<?, ?it/s]"
      ]
     },
     "metadata": {},
     "output_type": "display_data"
    },
    {
     "data": {
      "application/vnd.jupyter.widget-view+json": {
       "model_id": "401c929a91ab44e8b9f9363ab7bf0c65",
       "version_major": 2,
       "version_minor": 0
      },
      "text/plain": [
       "Detecting PPI spots:   0%|          | 0/8 [00:00<?, ?it/s]"
      ]
     },
     "metadata": {},
     "output_type": "display_data"
    },
    {
     "name": "stdout",
     "output_type": "stream",
     "text": [
      "(array([0, 1], dtype=uint8), array([29555679,     9240], dtype=int64))\n"
     ]
    },
    {
     "data": {
      "application/vnd.jupyter.widget-view+json": {
       "model_id": "2af847fc1ffd4cce9a19d8cfcf7b5d97",
       "version_major": 2,
       "version_minor": 0
      },
      "text/plain": [
       "Reading images:   0%|          | 0/8 [00:00<?, ?it/s]"
      ]
     },
     "metadata": {},
     "output_type": "display_data"
    },
    {
     "data": {
      "application/vnd.jupyter.widget-view+json": {
       "model_id": "423dd03c889548ef8ec570fb659014eb",
       "version_major": 2,
       "version_minor": 0
      },
      "text/plain": [
       "Detecting PPI spots:   0%|          | 0/8 [00:00<?, ?it/s]"
      ]
     },
     "metadata": {},
     "output_type": "display_data"
    },
    {
     "name": "stdout",
     "output_type": "stream",
     "text": [
      "(array([0, 1], dtype=uint8), array([29278785,   286134], dtype=int64))\n"
     ]
    },
    {
     "data": {
      "application/vnd.jupyter.widget-view+json": {
       "model_id": "6b4ffd268c4d45ef90105c3dbb9efca8",
       "version_major": 2,
       "version_minor": 0
      },
      "text/plain": [
       "Reading images:   0%|          | 0/8 [00:00<?, ?it/s]"
      ]
     },
     "metadata": {},
     "output_type": "display_data"
    },
    {
     "data": {
      "application/vnd.jupyter.widget-view+json": {
       "model_id": "3a76613b85184154969d80db824786d4",
       "version_major": 2,
       "version_minor": 0
      },
      "text/plain": [
       "Detecting PPI spots:   0%|          | 0/8 [00:00<?, ?it/s]"
      ]
     },
     "metadata": {},
     "output_type": "display_data"
    },
    {
     "name": "stdout",
     "output_type": "stream",
     "text": [
      "(array([0, 1], dtype=uint8), array([29446716,   118203], dtype=int64))\n"
     ]
    },
    {
     "data": {
      "application/vnd.jupyter.widget-view+json": {
       "model_id": "43eba1a1298c4ca6bce2a1b904b04ed5",
       "version_major": 2,
       "version_minor": 0
      },
      "text/plain": [
       "Reading images:   0%|          | 0/8 [00:00<?, ?it/s]"
      ]
     },
     "metadata": {},
     "output_type": "display_data"
    },
    {
     "data": {
      "application/vnd.jupyter.widget-view+json": {
       "model_id": "704df40d2b784e748a74c7f512c7f688",
       "version_major": 2,
       "version_minor": 0
      },
      "text/plain": [
       "Detecting PPI spots:   0%|          | 0/8 [00:00<?, ?it/s]"
      ]
     },
     "metadata": {},
     "output_type": "display_data"
    },
    {
     "name": "stdout",
     "output_type": "stream",
     "text": [
      "(array([0, 1], dtype=uint8), array([29531750,    33169], dtype=int64))\n"
     ]
    },
    {
     "data": {
      "application/vnd.jupyter.widget-view+json": {
       "model_id": "83b590654f8242389b339fd8e7ca33d1",
       "version_major": 2,
       "version_minor": 0
      },
      "text/plain": [
       "Reading images:   0%|          | 0/8 [00:00<?, ?it/s]"
      ]
     },
     "metadata": {},
     "output_type": "display_data"
    },
    {
     "data": {
      "application/vnd.jupyter.widget-view+json": {
       "model_id": "72bd67f920704cea97613dc8990fd87e",
       "version_major": 2,
       "version_minor": 0
      },
      "text/plain": [
       "Detecting PPI spots:   0%|          | 0/8 [00:00<?, ?it/s]"
      ]
     },
     "metadata": {},
     "output_type": "display_data"
    },
    {
     "name": "stdout",
     "output_type": "stream",
     "text": [
      "(array([0, 1], dtype=uint8), array([29396786,   168133], dtype=int64))\n"
     ]
    },
    {
     "data": {
      "application/vnd.jupyter.widget-view+json": {
       "model_id": "73ccf49ceb85440480f445f190b630c3",
       "version_major": 2,
       "version_minor": 0
      },
      "text/plain": [
       "Reading images:   0%|          | 0/8 [00:00<?, ?it/s]"
      ]
     },
     "metadata": {},
     "output_type": "display_data"
    },
    {
     "data": {
      "application/vnd.jupyter.widget-view+json": {
       "model_id": "749c53534d9247bdbf60470f3a95a279",
       "version_major": 2,
       "version_minor": 0
      },
      "text/plain": [
       "Detecting PPI spots:   0%|          | 0/8 [00:00<?, ?it/s]"
      ]
     },
     "metadata": {},
     "output_type": "display_data"
    },
    {
     "name": "stdout",
     "output_type": "stream",
     "text": [
      "(array([0, 1], dtype=uint8), array([29486183,    78736], dtype=int64))\n"
     ]
    },
    {
     "data": {
      "application/vnd.jupyter.widget-view+json": {
       "model_id": "48a66a1e08dc4e7fafb4302e5c96eb2c",
       "version_major": 2,
       "version_minor": 0
      },
      "text/plain": [
       "Reading images:   0%|          | 0/8 [00:00<?, ?it/s]"
      ]
     },
     "metadata": {},
     "output_type": "display_data"
    },
    {
     "data": {
      "application/vnd.jupyter.widget-view+json": {
       "model_id": "ec8486242956491dbdebc4d910c32349",
       "version_major": 2,
       "version_minor": 0
      },
      "text/plain": [
       "Detecting PPI spots:   0%|          | 0/8 [00:00<?, ?it/s]"
      ]
     },
     "metadata": {},
     "output_type": "display_data"
    },
    {
     "name": "stdout",
     "output_type": "stream",
     "text": [
      "(array([0, 1], dtype=uint8), array([29476058,    88861], dtype=int64))\n"
     ]
    },
    {
     "data": {
      "application/vnd.jupyter.widget-view+json": {
       "model_id": "10882a6ab7d84c2caedc588bcc28c3c7",
       "version_major": 2,
       "version_minor": 0
      },
      "text/plain": [
       "Reading images:   0%|          | 0/8 [00:00<?, ?it/s]"
      ]
     },
     "metadata": {},
     "output_type": "display_data"
    },
    {
     "data": {
      "application/vnd.jupyter.widget-view+json": {
       "model_id": "c8a98014f8d241afa586e4486a48455e",
       "version_major": 2,
       "version_minor": 0
      },
      "text/plain": [
       "Detecting PPI spots:   0%|          | 0/8 [00:00<?, ?it/s]"
      ]
     },
     "metadata": {},
     "output_type": "display_data"
    },
    {
     "name": "stdout",
     "output_type": "stream",
     "text": [
      "(array([0, 1], dtype=uint8), array([29530914,    34005], dtype=int64))\n"
     ]
    },
    {
     "data": {
      "application/vnd.jupyter.widget-view+json": {
       "model_id": "791e4d5002284ef1b26a3f2dd10e30a8",
       "version_major": 2,
       "version_minor": 0
      },
      "text/plain": [
       "Reading images:   0%|          | 0/8 [00:00<?, ?it/s]"
      ]
     },
     "metadata": {},
     "output_type": "display_data"
    },
    {
     "data": {
      "application/vnd.jupyter.widget-view+json": {
       "model_id": "94c99e2b141d496ea184754843f443b6",
       "version_major": 2,
       "version_minor": 0
      },
      "text/plain": [
       "Detecting PPI spots:   0%|          | 0/8 [00:00<?, ?it/s]"
      ]
     },
     "metadata": {},
     "output_type": "display_data"
    },
    {
     "name": "stdout",
     "output_type": "stream",
     "text": [
      "(array([0, 1], dtype=uint8), array([29517236,    47683], dtype=int64))\n"
     ]
    },
    {
     "data": {
      "application/vnd.jupyter.widget-view+json": {
       "model_id": "4a9e8d06af4a46469784d1f3ac313d71",
       "version_major": 2,
       "version_minor": 0
      },
      "text/plain": [
       "Reading images:   0%|          | 0/8 [00:00<?, ?it/s]"
      ]
     },
     "metadata": {},
     "output_type": "display_data"
    },
    {
     "data": {
      "application/vnd.jupyter.widget-view+json": {
       "model_id": "11b45f8b72084ddfb69a8a8660d83375",
       "version_major": 2,
       "version_minor": 0
      },
      "text/plain": [
       "Detecting PPI spots:   0%|          | 0/8 [00:00<?, ?it/s]"
      ]
     },
     "metadata": {},
     "output_type": "display_data"
    },
    {
     "name": "stdout",
     "output_type": "stream",
     "text": [
      "(array([0, 1], dtype=uint8), array([29542531,    22388], dtype=int64))\n"
     ]
    },
    {
     "data": {
      "application/vnd.jupyter.widget-view+json": {
       "model_id": "0ad35ac143e948ea8a0ffb1a5c4899df",
       "version_major": 2,
       "version_minor": 0
      },
      "text/plain": [
       "Reading images:   0%|          | 0/8 [00:00<?, ?it/s]"
      ]
     },
     "metadata": {},
     "output_type": "display_data"
    },
    {
     "data": {
      "application/vnd.jupyter.widget-view+json": {
       "model_id": "00ada05c5d0745e08316c9c76f1d174e",
       "version_major": 2,
       "version_minor": 0
      },
      "text/plain": [
       "Detecting PPI spots:   0%|          | 0/8 [00:00<?, ?it/s]"
      ]
     },
     "metadata": {},
     "output_type": "display_data"
    },
    {
     "name": "stdout",
     "output_type": "stream",
     "text": [
      "(array([0, 1], dtype=uint8), array([29539464,    25455], dtype=int64))\n",
      "File exist. Deleted\n"
     ]
    },
    {
     "data": {
      "application/vnd.jupyter.widget-view+json": {
       "model_id": "d51b2b32a69b449a837fb076d0d6aab0",
       "version_major": 2,
       "version_minor": 0
      },
      "text/plain": [
       "Reading images:   0%|          | 0/6 [00:00<?, ?it/s]"
      ]
     },
     "metadata": {},
     "output_type": "display_data"
    },
    {
     "data": {
      "application/vnd.jupyter.widget-view+json": {
       "model_id": "6bcee7f5652945d29b36661528a56282",
       "version_major": 2,
       "version_minor": 0
      },
      "text/plain": [
       "Detecting PPI spots:   0%|          | 0/6 [00:00<?, ?it/s]"
      ]
     },
     "metadata": {},
     "output_type": "display_data"
    },
    {
     "name": "stdout",
     "output_type": "stream",
     "text": [
      "(array([0, 1], dtype=uint8), array([29484551,   133819], dtype=int64))\n"
     ]
    },
    {
     "data": {
      "application/vnd.jupyter.widget-view+json": {
       "model_id": "99e3f0fe07904f3fac327082fd70fee6",
       "version_major": 2,
       "version_minor": 0
      },
      "text/plain": [
       "Reading images:   0%|          | 0/6 [00:00<?, ?it/s]"
      ]
     },
     "metadata": {},
     "output_type": "display_data"
    },
    {
     "data": {
      "application/vnd.jupyter.widget-view+json": {
       "model_id": "8557cab7f22a4775b3d5692dbe73a6be",
       "version_major": 2,
       "version_minor": 0
      },
      "text/plain": [
       "Detecting PPI spots:   0%|          | 0/6 [00:00<?, ?it/s]"
      ]
     },
     "metadata": {},
     "output_type": "display_data"
    },
    {
     "name": "stdout",
     "output_type": "stream",
     "text": [
      "(array([0, 1], dtype=uint8), array([29533318,    85052], dtype=int64))\n"
     ]
    },
    {
     "data": {
      "application/vnd.jupyter.widget-view+json": {
       "model_id": "1c76bdf0beff4bb4811cb183c425cac4",
       "version_major": 2,
       "version_minor": 0
      },
      "text/plain": [
       "Reading images:   0%|          | 0/6 [00:00<?, ?it/s]"
      ]
     },
     "metadata": {},
     "output_type": "display_data"
    },
    {
     "data": {
      "application/vnd.jupyter.widget-view+json": {
       "model_id": "dd64fd2eb75b47c8bf45f1e87e2802fa",
       "version_major": 2,
       "version_minor": 0
      },
      "text/plain": [
       "Detecting PPI spots:   0%|          | 0/6 [00:00<?, ?it/s]"
      ]
     },
     "metadata": {},
     "output_type": "display_data"
    },
    {
     "name": "stdout",
     "output_type": "stream",
     "text": [
      "(array([0, 1], dtype=uint8), array([29598069,    20301], dtype=int64))\n"
     ]
    },
    {
     "data": {
      "application/vnd.jupyter.widget-view+json": {
       "model_id": "baf24da3c7834fa88460d4212a0f89c9",
       "version_major": 2,
       "version_minor": 0
      },
      "text/plain": [
       "Reading images:   0%|          | 0/6 [00:00<?, ?it/s]"
      ]
     },
     "metadata": {},
     "output_type": "display_data"
    },
    {
     "data": {
      "application/vnd.jupyter.widget-view+json": {
       "model_id": "a01994e730f848edafbe6a5c8960e58b",
       "version_major": 2,
       "version_minor": 0
      },
      "text/plain": [
       "Detecting PPI spots:   0%|          | 0/6 [00:00<?, ?it/s]"
      ]
     },
     "metadata": {},
     "output_type": "display_data"
    },
    {
     "name": "stdout",
     "output_type": "stream",
     "text": [
      "(array([0, 1], dtype=uint8), array([29241289,   377081], dtype=int64))\n"
     ]
    },
    {
     "data": {
      "application/vnd.jupyter.widget-view+json": {
       "model_id": "d22d3fd38be448fa9b5349b65566566e",
       "version_major": 2,
       "version_minor": 0
      },
      "text/plain": [
       "Reading images:   0%|          | 0/6 [00:00<?, ?it/s]"
      ]
     },
     "metadata": {},
     "output_type": "display_data"
    },
    {
     "data": {
      "application/vnd.jupyter.widget-view+json": {
       "model_id": "c4bb1404b6b64afbab08fa30459c7f84",
       "version_major": 2,
       "version_minor": 0
      },
      "text/plain": [
       "Detecting PPI spots:   0%|          | 0/6 [00:00<?, ?it/s]"
      ]
     },
     "metadata": {},
     "output_type": "display_data"
    },
    {
     "name": "stdout",
     "output_type": "stream",
     "text": [
      "(array([0, 1], dtype=uint8), array([29390647,   227723], dtype=int64))\n"
     ]
    },
    {
     "data": {
      "application/vnd.jupyter.widget-view+json": {
       "model_id": "02b4488b407e43139ff2036dd37c4795",
       "version_major": 2,
       "version_minor": 0
      },
      "text/plain": [
       "Reading images:   0%|          | 0/6 [00:00<?, ?it/s]"
      ]
     },
     "metadata": {},
     "output_type": "display_data"
    },
    {
     "data": {
      "application/vnd.jupyter.widget-view+json": {
       "model_id": "b3ab4fe3240c4cd39cff2591eb473852",
       "version_major": 2,
       "version_minor": 0
      },
      "text/plain": [
       "Detecting PPI spots:   0%|          | 0/6 [00:00<?, ?it/s]"
      ]
     },
     "metadata": {},
     "output_type": "display_data"
    },
    {
     "name": "stdout",
     "output_type": "stream",
     "text": [
      "(array([0, 1], dtype=uint8), array([29568582,    49788], dtype=int64))\n"
     ]
    },
    {
     "data": {
      "application/vnd.jupyter.widget-view+json": {
       "model_id": "522a197f61314a6fa35db62a389ee39e",
       "version_major": 2,
       "version_minor": 0
      },
      "text/plain": [
       "Reading images:   0%|          | 0/6 [00:00<?, ?it/s]"
      ]
     },
     "metadata": {},
     "output_type": "display_data"
    },
    {
     "data": {
      "application/vnd.jupyter.widget-view+json": {
       "model_id": "46a15510c21842daa84261b07a17006f",
       "version_major": 2,
       "version_minor": 0
      },
      "text/plain": [
       "Detecting PPI spots:   0%|          | 0/6 [00:00<?, ?it/s]"
      ]
     },
     "metadata": {},
     "output_type": "display_data"
    },
    {
     "name": "stdout",
     "output_type": "stream",
     "text": [
      "(array([0, 1], dtype=uint8), array([29274261,   344109], dtype=int64))\n"
     ]
    },
    {
     "data": {
      "application/vnd.jupyter.widget-view+json": {
       "model_id": "51f27ec765b340fe9f1956313ed0c405",
       "version_major": 2,
       "version_minor": 0
      },
      "text/plain": [
       "Reading images:   0%|          | 0/6 [00:00<?, ?it/s]"
      ]
     },
     "metadata": {},
     "output_type": "display_data"
    },
    {
     "data": {
      "application/vnd.jupyter.widget-view+json": {
       "model_id": "a5921a656f4e4c5aa4b5a2497d6f8d46",
       "version_major": 2,
       "version_minor": 0
      },
      "text/plain": [
       "Detecting PPI spots:   0%|          | 0/6 [00:00<?, ?it/s]"
      ]
     },
     "metadata": {},
     "output_type": "display_data"
    },
    {
     "name": "stdout",
     "output_type": "stream",
     "text": [
      "(array([0, 1], dtype=uint8), array([29526196,    92174], dtype=int64))\n"
     ]
    },
    {
     "data": {
      "application/vnd.jupyter.widget-view+json": {
       "model_id": "6744034ad0944fdd979a4e87a51b3117",
       "version_major": 2,
       "version_minor": 0
      },
      "text/plain": [
       "Reading images:   0%|          | 0/6 [00:00<?, ?it/s]"
      ]
     },
     "metadata": {},
     "output_type": "display_data"
    },
    {
     "data": {
      "application/vnd.jupyter.widget-view+json": {
       "model_id": "57ff9d6ee29942728d56f4840d2874de",
       "version_major": 2,
       "version_minor": 0
      },
      "text/plain": [
       "Detecting PPI spots:   0%|          | 0/6 [00:00<?, ?it/s]"
      ]
     },
     "metadata": {},
     "output_type": "display_data"
    },
    {
     "name": "stdout",
     "output_type": "stream",
     "text": [
      "(array([0, 1], dtype=uint8), array([29573315,    45055], dtype=int64))\n"
     ]
    },
    {
     "data": {
      "application/vnd.jupyter.widget-view+json": {
       "model_id": "3969f81e583d4ccd86198bcc7aac34e5",
       "version_major": 2,
       "version_minor": 0
      },
      "text/plain": [
       "Reading images:   0%|          | 0/6 [00:00<?, ?it/s]"
      ]
     },
     "metadata": {},
     "output_type": "display_data"
    },
    {
     "data": {
      "application/vnd.jupyter.widget-view+json": {
       "model_id": "89c0f3d64789471e960b6ba0d5038e3a",
       "version_major": 2,
       "version_minor": 0
      },
      "text/plain": [
       "Detecting PPI spots:   0%|          | 0/6 [00:00<?, ?it/s]"
      ]
     },
     "metadata": {},
     "output_type": "display_data"
    },
    {
     "name": "stdout",
     "output_type": "stream",
     "text": [
      "(array([0, 1], dtype=uint8), array([29550057,    68313], dtype=int64))\n"
     ]
    },
    {
     "data": {
      "application/vnd.jupyter.widget-view+json": {
       "model_id": "3e9cb4fe4c1549e29d7015c1252f7d8c",
       "version_major": 2,
       "version_minor": 0
      },
      "text/plain": [
       "Reading images:   0%|          | 0/6 [00:00<?, ?it/s]"
      ]
     },
     "metadata": {},
     "output_type": "display_data"
    },
    {
     "data": {
      "application/vnd.jupyter.widget-view+json": {
       "model_id": "a5d6ffee21cc4a148ac2275093113078",
       "version_major": 2,
       "version_minor": 0
      },
      "text/plain": [
       "Detecting PPI spots:   0%|          | 0/6 [00:00<?, ?it/s]"
      ]
     },
     "metadata": {},
     "output_type": "display_data"
    },
    {
     "name": "stdout",
     "output_type": "stream",
     "text": [
      "(array([0, 1], dtype=uint8), array([29528443,    89927], dtype=int64))\n"
     ]
    },
    {
     "data": {
      "application/vnd.jupyter.widget-view+json": {
       "model_id": "6718ec792fca4b069b6c24318ff357e4",
       "version_major": 2,
       "version_minor": 0
      },
      "text/plain": [
       "Reading images:   0%|          | 0/6 [00:00<?, ?it/s]"
      ]
     },
     "metadata": {},
     "output_type": "display_data"
    },
    {
     "data": {
      "application/vnd.jupyter.widget-view+json": {
       "model_id": "b4df572631f144dd811096d9d68122b7",
       "version_major": 2,
       "version_minor": 0
      },
      "text/plain": [
       "Detecting PPI spots:   0%|          | 0/6 [00:00<?, ?it/s]"
      ]
     },
     "metadata": {},
     "output_type": "display_data"
    },
    {
     "name": "stdout",
     "output_type": "stream",
     "text": [
      "(array([0, 1], dtype=uint8), array([29574073,    44297], dtype=int64))\n"
     ]
    },
    {
     "data": {
      "application/vnd.jupyter.widget-view+json": {
       "model_id": "952bb6dd1a864fb1a102ca4d2d70ba3a",
       "version_major": 2,
       "version_minor": 0
      },
      "text/plain": [
       "Reading images:   0%|          | 0/6 [00:00<?, ?it/s]"
      ]
     },
     "metadata": {},
     "output_type": "display_data"
    },
    {
     "data": {
      "application/vnd.jupyter.widget-view+json": {
       "model_id": "c3c5cb19a1bd469595e6dc7c40c87395",
       "version_major": 2,
       "version_minor": 0
      },
      "text/plain": [
       "Detecting PPI spots:   0%|          | 0/6 [00:00<?, ?it/s]"
      ]
     },
     "metadata": {},
     "output_type": "display_data"
    },
    {
     "name": "stdout",
     "output_type": "stream",
     "text": [
      "(array([0, 1], dtype=uint8), array([29568340,    50030], dtype=int64))\n",
      "File exist. Deleted\n"
     ]
    },
    {
     "data": {
      "application/vnd.jupyter.widget-view+json": {
       "model_id": "d68bc651292f4e1a8659e933615d2b13",
       "version_major": 2,
       "version_minor": 0
      },
      "text/plain": [
       "Reading images:   0%|          | 0/7 [00:00<?, ?it/s]"
      ]
     },
     "metadata": {},
     "output_type": "display_data"
    },
    {
     "data": {
      "application/vnd.jupyter.widget-view+json": {
       "model_id": "fbe407d0beab448aab24014885d6c0f8",
       "version_major": 2,
       "version_minor": 0
      },
      "text/plain": [
       "Detecting PPI spots:   0%|          | 0/7 [00:00<?, ?it/s]"
      ]
     },
     "metadata": {},
     "output_type": "display_data"
    },
    {
     "name": "stdout",
     "output_type": "stream",
     "text": [
      "(array([0, 1], dtype=uint8), array([29528701,    87964], dtype=int64))\n"
     ]
    },
    {
     "data": {
      "application/vnd.jupyter.widget-view+json": {
       "model_id": "c7a011da665645b9bd4aab59c023d466",
       "version_major": 2,
       "version_minor": 0
      },
      "text/plain": [
       "Reading images:   0%|          | 0/7 [00:00<?, ?it/s]"
      ]
     },
     "metadata": {},
     "output_type": "display_data"
    },
    {
     "data": {
      "application/vnd.jupyter.widget-view+json": {
       "model_id": "451b7c626bae4dc691a05b3002721880",
       "version_major": 2,
       "version_minor": 0
      },
      "text/plain": [
       "Detecting PPI spots:   0%|          | 0/7 [00:00<?, ?it/s]"
      ]
     },
     "metadata": {},
     "output_type": "display_data"
    },
    {
     "name": "stdout",
     "output_type": "stream",
     "text": [
      "(array([0, 1], dtype=uint8), array([29569857,    46808], dtype=int64))\n"
     ]
    },
    {
     "data": {
      "application/vnd.jupyter.widget-view+json": {
       "model_id": "c1df379472ec48c58ba6cf212d73abcb",
       "version_major": 2,
       "version_minor": 0
      },
      "text/plain": [
       "Reading images:   0%|          | 0/7 [00:00<?, ?it/s]"
      ]
     },
     "metadata": {},
     "output_type": "display_data"
    },
    {
     "data": {
      "application/vnd.jupyter.widget-view+json": {
       "model_id": "e68c059dadb24acab64d532521c2251c",
       "version_major": 2,
       "version_minor": 0
      },
      "text/plain": [
       "Detecting PPI spots:   0%|          | 0/7 [00:00<?, ?it/s]"
      ]
     },
     "metadata": {},
     "output_type": "display_data"
    },
    {
     "name": "stdout",
     "output_type": "stream",
     "text": [
      "(array([0, 1], dtype=uint8), array([29604622,    12043], dtype=int64))\n"
     ]
    },
    {
     "data": {
      "application/vnd.jupyter.widget-view+json": {
       "model_id": "f3010502b0014a3a888107e27287112a",
       "version_major": 2,
       "version_minor": 0
      },
      "text/plain": [
       "Reading images:   0%|          | 0/7 [00:00<?, ?it/s]"
      ]
     },
     "metadata": {},
     "output_type": "display_data"
    },
    {
     "data": {
      "application/vnd.jupyter.widget-view+json": {
       "model_id": "d4bba6418bba49698ced61f1dfeaaad2",
       "version_major": 2,
       "version_minor": 0
      },
      "text/plain": [
       "Detecting PPI spots:   0%|          | 0/7 [00:00<?, ?it/s]"
      ]
     },
     "metadata": {},
     "output_type": "display_data"
    },
    {
     "name": "stdout",
     "output_type": "stream",
     "text": [
      "(array([0, 1], dtype=uint8), array([29352632,   264033], dtype=int64))\n"
     ]
    },
    {
     "data": {
      "application/vnd.jupyter.widget-view+json": {
       "model_id": "cc64f93aa92a4bf4be07763c31556451",
       "version_major": 2,
       "version_minor": 0
      },
      "text/plain": [
       "Reading images:   0%|          | 0/7 [00:00<?, ?it/s]"
      ]
     },
     "metadata": {},
     "output_type": "display_data"
    },
    {
     "data": {
      "application/vnd.jupyter.widget-view+json": {
       "model_id": "90c2a4cd9b2b45438776450255ff2260",
       "version_major": 2,
       "version_minor": 0
      },
      "text/plain": [
       "Detecting PPI spots:   0%|          | 0/7 [00:00<?, ?it/s]"
      ]
     },
     "metadata": {},
     "output_type": "display_data"
    },
    {
     "name": "stdout",
     "output_type": "stream",
     "text": [
      "(array([0, 1], dtype=uint8), array([29488217,   128448], dtype=int64))\n"
     ]
    },
    {
     "data": {
      "application/vnd.jupyter.widget-view+json": {
       "model_id": "c3df91925e4940e1abcc804287f68545",
       "version_major": 2,
       "version_minor": 0
      },
      "text/plain": [
       "Reading images:   0%|          | 0/7 [00:00<?, ?it/s]"
      ]
     },
     "metadata": {},
     "output_type": "display_data"
    },
    {
     "data": {
      "application/vnd.jupyter.widget-view+json": {
       "model_id": "49b64252ca5642caae3bf4321397d0ab",
       "version_major": 2,
       "version_minor": 0
      },
      "text/plain": [
       "Detecting PPI spots:   0%|          | 0/7 [00:00<?, ?it/s]"
      ]
     },
     "metadata": {},
     "output_type": "display_data"
    },
    {
     "name": "stdout",
     "output_type": "stream",
     "text": [
      "(array([0, 1], dtype=uint8), array([29581735,    34930], dtype=int64))\n"
     ]
    },
    {
     "data": {
      "application/vnd.jupyter.widget-view+json": {
       "model_id": "4e9fafeb66aa49bcb9e13fb2eee6bb7f",
       "version_major": 2,
       "version_minor": 0
      },
      "text/plain": [
       "Reading images:   0%|          | 0/7 [00:00<?, ?it/s]"
      ]
     },
     "metadata": {},
     "output_type": "display_data"
    },
    {
     "data": {
      "application/vnd.jupyter.widget-view+json": {
       "model_id": "d0bcc1a5d89d4de4b043fd0418c6b1b1",
       "version_major": 2,
       "version_minor": 0
      },
      "text/plain": [
       "Detecting PPI spots:   0%|          | 0/7 [00:00<?, ?it/s]"
      ]
     },
     "metadata": {},
     "output_type": "display_data"
    },
    {
     "name": "stdout",
     "output_type": "stream",
     "text": [
      "(array([0, 1], dtype=uint8), array([29420435,   196230], dtype=int64))\n"
     ]
    },
    {
     "data": {
      "application/vnd.jupyter.widget-view+json": {
       "model_id": "11abe2162f704988be14b0d69068bb4e",
       "version_major": 2,
       "version_minor": 0
      },
      "text/plain": [
       "Reading images:   0%|          | 0/7 [00:00<?, ?it/s]"
      ]
     },
     "metadata": {},
     "output_type": "display_data"
    },
    {
     "data": {
      "application/vnd.jupyter.widget-view+json": {
       "model_id": "2e1552ce81b24db48eefa116919e78c5",
       "version_major": 2,
       "version_minor": 0
      },
      "text/plain": [
       "Detecting PPI spots:   0%|          | 0/7 [00:00<?, ?it/s]"
      ]
     },
     "metadata": {},
     "output_type": "display_data"
    },
    {
     "name": "stdout",
     "output_type": "stream",
     "text": [
      "(array([0, 1], dtype=uint8), array([29541168,    75497], dtype=int64))\n"
     ]
    },
    {
     "data": {
      "application/vnd.jupyter.widget-view+json": {
       "model_id": "1eacf41d05064fa79aa00ddd543218fc",
       "version_major": 2,
       "version_minor": 0
      },
      "text/plain": [
       "Reading images:   0%|          | 0/7 [00:00<?, ?it/s]"
      ]
     },
     "metadata": {},
     "output_type": "display_data"
    },
    {
     "data": {
      "application/vnd.jupyter.widget-view+json": {
       "model_id": "ab24bbf1623543f0b9585c78f8561fc6",
       "version_major": 2,
       "version_minor": 0
      },
      "text/plain": [
       "Detecting PPI spots:   0%|          | 0/7 [00:00<?, ?it/s]"
      ]
     },
     "metadata": {},
     "output_type": "display_data"
    },
    {
     "name": "stdout",
     "output_type": "stream",
     "text": [
      "(array([0, 1], dtype=uint8), array([29533561,    83104], dtype=int64))\n"
     ]
    },
    {
     "data": {
      "application/vnd.jupyter.widget-view+json": {
       "model_id": "e26019e563e64116bb3cf61c57b394e5",
       "version_major": 2,
       "version_minor": 0
      },
      "text/plain": [
       "Reading images:   0%|          | 0/7 [00:00<?, ?it/s]"
      ]
     },
     "metadata": {},
     "output_type": "display_data"
    },
    {
     "data": {
      "application/vnd.jupyter.widget-view+json": {
       "model_id": "66b98623398e416bb44ec4c2f8f02b7c",
       "version_major": 2,
       "version_minor": 0
      },
      "text/plain": [
       "Detecting PPI spots:   0%|          | 0/7 [00:00<?, ?it/s]"
      ]
     },
     "metadata": {},
     "output_type": "display_data"
    },
    {
     "name": "stdout",
     "output_type": "stream",
     "text": [
      "(array([0, 1], dtype=uint8), array([29569999,    46666], dtype=int64))\n"
     ]
    },
    {
     "data": {
      "application/vnd.jupyter.widget-view+json": {
       "model_id": "2e8e8ef9b46f4286a358c58a532b4610",
       "version_major": 2,
       "version_minor": 0
      },
      "text/plain": [
       "Reading images:   0%|          | 0/7 [00:00<?, ?it/s]"
      ]
     },
     "metadata": {},
     "output_type": "display_data"
    },
    {
     "data": {
      "application/vnd.jupyter.widget-view+json": {
       "model_id": "70bffc55559941bbb2ce7199781b83ad",
       "version_major": 2,
       "version_minor": 0
      },
      "text/plain": [
       "Detecting PPI spots:   0%|          | 0/7 [00:00<?, ?it/s]"
      ]
     },
     "metadata": {},
     "output_type": "display_data"
    },
    {
     "name": "stdout",
     "output_type": "stream",
     "text": [
      "(array([0, 1], dtype=uint8), array([29559560,    57105], dtype=int64))\n"
     ]
    },
    {
     "data": {
      "application/vnd.jupyter.widget-view+json": {
       "model_id": "297c127de8b84fc4936857b003b7942f",
       "version_major": 2,
       "version_minor": 0
      },
      "text/plain": [
       "Reading images:   0%|          | 0/7 [00:00<?, ?it/s]"
      ]
     },
     "metadata": {},
     "output_type": "display_data"
    },
    {
     "data": {
      "application/vnd.jupyter.widget-view+json": {
       "model_id": "7d85936b384e47fa8bbf221057b0a1cc",
       "version_major": 2,
       "version_minor": 0
      },
      "text/plain": [
       "Detecting PPI spots:   0%|          | 0/7 [00:00<?, ?it/s]"
      ]
     },
     "metadata": {},
     "output_type": "display_data"
    },
    {
     "name": "stdout",
     "output_type": "stream",
     "text": [
      "(array([0, 1], dtype=uint8), array([29584231,    32434], dtype=int64))\n"
     ]
    },
    {
     "data": {
      "application/vnd.jupyter.widget-view+json": {
       "model_id": "325c41464b674ce281a0e90e6f2c74e6",
       "version_major": 2,
       "version_minor": 0
      },
      "text/plain": [
       "Reading images:   0%|          | 0/7 [00:00<?, ?it/s]"
      ]
     },
     "metadata": {},
     "output_type": "display_data"
    },
    {
     "data": {
      "application/vnd.jupyter.widget-view+json": {
       "model_id": "65e1a86701854f6b812c80c1eb54c469",
       "version_major": 2,
       "version_minor": 0
      },
      "text/plain": [
       "Detecting PPI spots:   0%|          | 0/7 [00:00<?, ?it/s]"
      ]
     },
     "metadata": {},
     "output_type": "display_data"
    },
    {
     "name": "stdout",
     "output_type": "stream",
     "text": [
      "(array([0, 1], dtype=uint8), array([29585463,    31202], dtype=int64))\n",
      "File exist. Deleted\n"
     ]
    }
   ],
   "source": [
    "group = df_imgs.groupby(['Condition', 'FOV'])\n",
    "n_limit = 1\n",
    "\n",
    "for name, df_group in group:\n",
    "    df_group = df_group.sort_values(['Z'], key=natsort_keygen())\n",
    "    df_group = df_group.iloc[n_limit:-n_limit]\n",
    "    paths = df_group.Path.tolist()\n",
    "    \n",
    "    imgs_spots = []\n",
    "    imgs_wths = []\n",
    "    imgs_raw = []\n",
    "    pla_detect = PLA.PLA_detection_3D(paths)\n",
    "    for PPI_pair in PPI_markers: \n",
    "        img_spot, img_wth, _, img = pla_detect.detect_spot(PPI_pair , thres=0.02, min_radius=2)\n",
    "        imgs_spots.append(img_spot)\n",
    "        imgs_wths.append(img_wth)\n",
    "        imgs_raw.append(img)\n",
    "    \n",
    "    # Save imgs\n",
    "    for i in range(len(imgs_spots)):\n",
    "        file_path = PPI_imgs_path / ('_'.join(row[1:3]) + f'_{i}' + '_raw.tiff')\n",
    "        tiff.imwrite(file_path, imgs_raw[i],  bigtiff=True)\n",
    "        file_path = PPI_imgs_path / ('_'.join(row[1:3]) + f'_{i}' + '_processed.tiff')\n",
    "        tiff.imwrite(file_path, imgs_wths[i],  bigtiff=True)\n",
    "        file_path = PPI_imgs_path / ('_'.join(row[1:3]) + f'_{i}' + '_detected.tiff')\n",
    "        tiff.imwrite(file_path, imgs_spots[i],  bigtiff=True)\n",
    "\n",
    "    # Save PPI dict\n",
    "    fname = '_'.join(name)+'.pkl'\n",
    "    pla_detect.save_pickle(PPI_save_path / fname)\n"
   ]
  },
  {
   "cell_type": "markdown",
   "metadata": {},
   "source": [
    "# Assign PPI to cell "
   ]
  },
  {
   "cell_type": "code",
   "execution_count": 14,
   "metadata": {},
   "outputs": [],
   "source": [
    "import pickle \n",
    "from sklearn.neighbors import NearestNeighbors\n",
    "import networkx as nx\n",
    "import scipy \n",
    "\n",
    "def read_PPI(path):\n",
    "    with open(path, 'rb') as file:\n",
    "        PPI_dict = pickle.load(file)\n",
    "\n",
    "    return PPI_dict\n",
    "\n",
    "def get_NN_radius(data, r):\n",
    "    fit = NearestNeighbors(radius=r).fit(data)\n",
    "    m = fit.radius_neighbors(data, return_distance=True, sort_results=True)\n",
    "\n",
    "    # Put in dataframe format\n",
    "    neighbours = pd.DataFrame(m[1].tolist(), index = data.index)\n",
    "    \n",
    "    A = fit.radius_neighbors_graph(data)\n",
    "    return neighbours, A\n",
    "\n",
    "def plot_spot_on_image(spots, spacing, radius):\n",
    "    spot_img = np.zeros(spots.max(0))\n",
    "    coords = (spots[:, :3] / spacing).astype(int)\n",
    "    r = radius  # shorthand\n",
    "    for coord in coords:\n",
    "        slc = tuple(slice(x-r, x+r) if i != 0 else slice(x, x+1) for i, x in enumerate(coord) )\n",
    "        spot_img[slc] = 1\n",
    "    return spot_img\n",
    "\n",
    "def plot_label_on_image(spots, spacing, radius, labels):\n",
    "    spot_img = np.zeros(spots.max(0))\n",
    "    coords = (spots[:, :3] / spacing).astype(int)\n",
    "    r = radius  # shorthand\n",
    "    for i, coord in enumerate(coords):\n",
    "        slc = tuple(slice(x-r, x+r) if i != 0 else slice(x, x+1) for i, x in enumerate(coord) )\n",
    "        spot_img[slc] = labels[i]\n",
    "    return spot_img\n",
    "\n",
    "def create_PPI_df(df_loc_filtered, mask_cyto, mask_nuclei, name):\n",
    "    _, y_max, x_max = mask_cyto.shape\n",
    "    z, y, x = df_loc_filtered['z'].to_numpy(), df_loc_filtered['y'].to_numpy(), df_loc_filtered['x'].to_numpy()\n",
    "    y = np.clip(y, a_min=0, a_max=y_max-1)\n",
    "    x = np.clip(x, a_min=0, a_max=x_max-1)\n",
    "\n",
    "    labels = mask_cyto[z, y, x]\n",
    "    labels_nuclei = mask_nuclei[z, y, x].astype(np.uint8)\n",
    "    \n",
    "    df_per_cell = pd.DataFrame({'Cell': labels, 'Nuclei': labels_nuclei, 'z': z, 'y':y, 'x':x})\n",
    "    df_per_cell['PPI'] = name\n",
    "    return df_per_cell"
   ]
  },
  {
   "cell_type": "code",
   "execution_count": 15,
   "metadata": {},
   "outputs": [],
   "source": [
    "df_meta_path = data_dir /'13cyc_3D'  / 'metadata' / 'imgs_reg.csv'\n",
    "df_imgs = pd.read_csv(df_meta_path)\n",
    "\n",
    "PPI_save_path =  data_dir / '13cyc_3D'  / 'PPI'"
   ]
  },
  {
   "cell_type": "code",
   "execution_count": 16,
   "metadata": {},
   "outputs": [],
   "source": [
    "mask_filt_dir = data_dir /'13cyc_3D'  / 'imgs' / 'masks_filtered'\n",
    "\n",
    "masks_path = defaultdict(dict) \n",
    "for path in os.listdir(mask_filt_dir):\n",
    "    name = path.split('.')[0]\n",
    "    if 'Nuclei' in name:\n",
    "        masks_path[name[7:]]['nuclei'] = mask_filt_dir / path\n",
    "    elif 'Cyto' in name:\n",
    "        masks_path[name[5:]]['cyto'] =mask_filt_dir / path\n",
    "    elif 'Cell' in name:\n",
    "        masks_path[name[5:]]['cell'] =mask_filt_dir / path    \n",
    "    elif 'df' in name:\n",
    "        masks_path[name[3:]]['df'] =mask_filt_dir / path\n",
    "    else:\n",
    "        pass"
   ]
  },
  {
   "cell_type": "code",
   "execution_count": 17,
   "metadata": {},
   "outputs": [
    {
     "name": "stdout",
     "output_type": "stream",
     "text": [
      "745\n",
      "743\n",
      "965\n",
      "592\n"
     ]
    }
   ],
   "source": [
    "group = df_imgs.groupby(['Condition', 'FOV'])\n",
    "\n",
    "for names, df_group in group:\n",
    "    name = '_'.join(names)\n",
    "    # Read PPi\n",
    "    PPI_dict = read_PPI(PPI_save_path / f'{name}.pkl')\n",
    "    \n",
    "    # Read mask\n",
    "    mask_cyto_path = masks_path[name]['cell']\n",
    "    mask_nuclei_path = masks_path[name]['nuclei']\n",
    "    df_path =  masks_path[name]['df']\n",
    "    \n",
    "    mask_cyto = skimage.io.imread(mask_cyto_path)\n",
    "    mask_nuclei = skimage.io.imread(mask_nuclei_path)\n",
    "    _, y_max, x_max = mask_cyto.shape\n",
    "    print(len(np.unique(mask_cyto)))"
   ]
  },
  {
   "cell_type": "code",
   "execution_count": 18,
   "metadata": {},
   "outputs": [],
   "source": [
    "group = df_imgs.groupby(['Condition', 'FOV'])\n",
    "\n",
    "for names, df_group in group:\n",
    "    name = '_'.join(names)\n",
    "    # Read PPi\n",
    "    PPI_dict = read_PPI(PPI_save_path / f'{name}.pkl')\n",
    "    \n",
    "    # Read mask\n",
    "    mask_cyto_path = masks_path[name]['cell']\n",
    "    mask_nuclei_path = masks_path[name]['nuclei']\n",
    "    df_path =  masks_path[name]['df']\n",
    "    \n",
    "    mask_cyto = skimage.io.imread(mask_cyto_path)\n",
    "    mask_nuclei = skimage.io.imread(mask_nuclei_path)\n",
    "    _, y_max, x_max = mask_cyto.shape\n",
    "\n",
    "    df_PPIs = []\n",
    "    for k in ['Sox2/Oct4', 'NF-Kb/p-P90rsk', 'SIRT1/P53', 'TRAIL/DR5',\n",
    "            'Cyclin D1/CDK4', 'Bim/Tom20', 'EGFR/GRB2', 'FoxO1/AKT',\n",
    "            'p-ERK/c-MYC', 'Mcl-1/BAK', 'Cyclin E/CDK2',\n",
    "            'AKT/Mtor', 'TEAD1/YAP']:\n",
    "        \n",
    "        PPI_loc = PPI_dict[k][:, :3].astype(np.uint32)\n",
    "        \n",
    "        # Get PPI loc in panda dataframe format\n",
    "        df_loc = pd.DataFrame(PPI_loc, columns=['z', 'y', 'x'])\n",
    "\n",
    "        # Get dot neighboring graph with user defined radius\n",
    "        nei, A = get_NN_radius(df_loc[['y', 'x']], r=2.5)\n",
    "\n",
    "        # Assign new labels based on connected components label\n",
    "        labels = scipy.sparse.csgraph.connected_components(A, directed=False)[1]\n",
    "        df_loc['CC_label'] = labels\n",
    "\n",
    "        # Group by CC and extract mean position\n",
    "        df_loc_filtered = df_loc.groupby(['CC_label']).mean().astype(np.uint32)\n",
    "        \n",
    "        # Extract Cell info per PPI\n",
    "        df_PPI = create_PPI_df(df_loc_filtered, mask_cyto, mask_nuclei, k)\n",
    "        df_PPIs.append(df_PPI)\n",
    "    df_PPI = pd.concat(df_PPIs)\n",
    "    df_PPI['Condition'] = names[0]\n",
    "    df_PPI['FOV'] = names[1]\n",
    "    \n",
    "    # Save dataframe\n",
    "    path = PPI_save_path / f'{name}.csv'\n",
    "    df_PPI.to_csv(path, index=False)"
   ]
  },
  {
   "cell_type": "markdown",
   "metadata": {},
   "source": [
    "# PPI Stats"
   ]
  },
  {
   "cell_type": "code",
   "execution_count": 19,
   "metadata": {},
   "outputs": [],
   "source": [
    "# Read PPI\n",
    "PPI_save_path =   data_dir / '13cyc_3D' / 'PPI'\n",
    "\n",
    "dfs = []\n",
    "for path in os.listdir(PPI_save_path):\n",
    "    if 'csv' in path:\n",
    "        df = pd.read_csv(PPI_save_path / path)\n",
    "        dfs.append(df)\n",
    "\n",
    "df = pd.concat(dfs)\n",
    "\n",
    "# Get nuclei and cell count\n",
    "g = df.groupby(['Condition', 'FOV', 'PPI', 'Cell']).size()\n",
    "df_cell = pd.DataFrame({'Count Cell': g}).reset_index()\n",
    "df_cell = df_cell[df_cell.Cell != 0]\n",
    "df_cell.columns = ['Condition', 'FOV', 'PPI', 'Id', 'Count_cell']\n",
    "df_cell = (df_cell.pivot_table(values='Count_cell', columns='PPI', index=['Condition', 'FOV','Id'])\n",
    ".fillna(0)\n",
    ".reset_index()\n",
    ".melt(id_vars=['Condition', 'FOV','Id'], value_name='Count_cell', var_name='PPI')\n",
    ")\n",
    "\n",
    "g = df.groupby(['Condition', 'FOV', 'PPI', 'Nuclei']).size()\n",
    "df_nuclei = pd.DataFrame({'Count Nuclei': g}).reset_index()\n",
    "df_nuclei= df_nuclei[df_nuclei.Nuclei != 0]\n",
    "df_nuclei.columns = ['Condition', 'FOV', 'PPI', 'Id', 'Count_nuclei']\n",
    "df_nuclei = (df_nuclei.pivot_table(values='Count_nuclei', columns='PPI', index=['Condition', 'FOV','Id'])\n",
    ".fillna(0)\n",
    ".reset_index()\n",
    ".melt(id_vars=['Condition', 'FOV','Id'], value_name='Count_nuclei', var_name='PPI')\n",
    ")\n",
    "\n",
    "# Combine count\n",
    "df_all = df_cell.merge(df_nuclei, how='left', on=['Condition', 'FOV', 'PPI', 'Id']).fillna(0)\n",
    "df_all.loc[df_all['Count_cell'] < df_all['Count_nuclei'],'Count_cell'] = df_all.loc[df_all['Count_cell'] < df_all['Count_nuclei']]['Count_nuclei']\n",
    "df_all['Count_nuclei'] = df_all['Count_nuclei'].astype(int)\n",
    "df_all['Count_cyto'] = df_all['Count_cell'] - df_all['Count_nuclei']"
   ]
  },
  {
   "cell_type": "code",
   "execution_count": 20,
   "metadata": {},
   "outputs": [
    {
     "data": {
      "text/html": [
       "<div>\n",
       "<style scoped>\n",
       "    .dataframe tbody tr th:only-of-type {\n",
       "        vertical-align: middle;\n",
       "    }\n",
       "\n",
       "    .dataframe tbody tr th {\n",
       "        vertical-align: top;\n",
       "    }\n",
       "\n",
       "    .dataframe thead th {\n",
       "        text-align: right;\n",
       "    }\n",
       "</style>\n",
       "<table border=\"1\" class=\"dataframe\">\n",
       "  <thead>\n",
       "    <tr style=\"text-align: right;\">\n",
       "      <th></th>\n",
       "      <th></th>\n",
       "      <th>count</th>\n",
       "      <th>mean</th>\n",
       "      <th>std</th>\n",
       "      <th>min</th>\n",
       "      <th>25%</th>\n",
       "      <th>50%</th>\n",
       "      <th>75%</th>\n",
       "      <th>max</th>\n",
       "    </tr>\n",
       "    <tr>\n",
       "      <th>Condition</th>\n",
       "      <th>PPI</th>\n",
       "      <th></th>\n",
       "      <th></th>\n",
       "      <th></th>\n",
       "      <th></th>\n",
       "      <th></th>\n",
       "      <th></th>\n",
       "      <th></th>\n",
       "      <th></th>\n",
       "    </tr>\n",
       "  </thead>\n",
       "  <tbody>\n",
       "    <tr>\n",
       "      <th rowspan=\"13\" valign=\"top\">100nM</th>\n",
       "      <th>AKT/Mtor</th>\n",
       "      <td>1486.0</td>\n",
       "      <td>2.591521</td>\n",
       "      <td>2.786095</td>\n",
       "      <td>0.0</td>\n",
       "      <td>0.0</td>\n",
       "      <td>2.0</td>\n",
       "      <td>4.00</td>\n",
       "      <td>41.0</td>\n",
       "    </tr>\n",
       "    <tr>\n",
       "      <th>Bim/Tom20</th>\n",
       "      <td>1486.0</td>\n",
       "      <td>3.288022</td>\n",
       "      <td>2.930247</td>\n",
       "      <td>0.0</td>\n",
       "      <td>1.0</td>\n",
       "      <td>3.0</td>\n",
       "      <td>5.00</td>\n",
       "      <td>31.0</td>\n",
       "    </tr>\n",
       "    <tr>\n",
       "      <th>Cyclin D1/CDK4</th>\n",
       "      <td>1486.0</td>\n",
       "      <td>9.466353</td>\n",
       "      <td>6.564050</td>\n",
       "      <td>0.0</td>\n",
       "      <td>5.0</td>\n",
       "      <td>8.0</td>\n",
       "      <td>13.00</td>\n",
       "      <td>61.0</td>\n",
       "    </tr>\n",
       "    <tr>\n",
       "      <th>Cyclin E/CDK2</th>\n",
       "      <td>1486.0</td>\n",
       "      <td>5.546433</td>\n",
       "      <td>4.965897</td>\n",
       "      <td>0.0</td>\n",
       "      <td>2.0</td>\n",
       "      <td>5.0</td>\n",
       "      <td>8.00</td>\n",
       "      <td>92.0</td>\n",
       "    </tr>\n",
       "    <tr>\n",
       "      <th>EGFR/GRB2</th>\n",
       "      <td>1486.0</td>\n",
       "      <td>15.493271</td>\n",
       "      <td>10.123328</td>\n",
       "      <td>0.0</td>\n",
       "      <td>9.0</td>\n",
       "      <td>14.0</td>\n",
       "      <td>20.00</td>\n",
       "      <td>90.0</td>\n",
       "    </tr>\n",
       "    <tr>\n",
       "      <th>FoxO1/AKT</th>\n",
       "      <td>1486.0</td>\n",
       "      <td>7.970390</td>\n",
       "      <td>6.289037</td>\n",
       "      <td>0.0</td>\n",
       "      <td>3.0</td>\n",
       "      <td>7.0</td>\n",
       "      <td>11.00</td>\n",
       "      <td>69.0</td>\n",
       "    </tr>\n",
       "    <tr>\n",
       "      <th>Mcl-1/BAK</th>\n",
       "      <td>1486.0</td>\n",
       "      <td>3.917227</td>\n",
       "      <td>3.645284</td>\n",
       "      <td>0.0</td>\n",
       "      <td>1.0</td>\n",
       "      <td>3.0</td>\n",
       "      <td>6.00</td>\n",
       "      <td>52.0</td>\n",
       "    </tr>\n",
       "    <tr>\n",
       "      <th>NF-Kb/p-P90rsk</th>\n",
       "      <td>1486.0</td>\n",
       "      <td>2.934051</td>\n",
       "      <td>2.719865</td>\n",
       "      <td>0.0</td>\n",
       "      <td>1.0</td>\n",
       "      <td>2.0</td>\n",
       "      <td>4.00</td>\n",
       "      <td>18.0</td>\n",
       "    </tr>\n",
       "    <tr>\n",
       "      <th>SIRT1/P53</th>\n",
       "      <td>1486.0</td>\n",
       "      <td>0.942799</td>\n",
       "      <td>1.430344</td>\n",
       "      <td>0.0</td>\n",
       "      <td>0.0</td>\n",
       "      <td>1.0</td>\n",
       "      <td>1.00</td>\n",
       "      <td>28.0</td>\n",
       "    </tr>\n",
       "    <tr>\n",
       "      <th>Sox2/Oct4</th>\n",
       "      <td>1486.0</td>\n",
       "      <td>4.000000</td>\n",
       "      <td>3.369900</td>\n",
       "      <td>0.0</td>\n",
       "      <td>2.0</td>\n",
       "      <td>3.0</td>\n",
       "      <td>6.00</td>\n",
       "      <td>27.0</td>\n",
       "    </tr>\n",
       "    <tr>\n",
       "      <th>TEAD1/YAP</th>\n",
       "      <td>1486.0</td>\n",
       "      <td>3.310229</td>\n",
       "      <td>3.269076</td>\n",
       "      <td>0.0</td>\n",
       "      <td>1.0</td>\n",
       "      <td>2.0</td>\n",
       "      <td>5.00</td>\n",
       "      <td>28.0</td>\n",
       "    </tr>\n",
       "    <tr>\n",
       "      <th>TRAIL/DR5</th>\n",
       "      <td>1486.0</td>\n",
       "      <td>28.617766</td>\n",
       "      <td>19.359037</td>\n",
       "      <td>0.0</td>\n",
       "      <td>15.0</td>\n",
       "      <td>26.0</td>\n",
       "      <td>39.00</td>\n",
       "      <td>210.0</td>\n",
       "    </tr>\n",
       "    <tr>\n",
       "      <th>p-ERK/c-MYC</th>\n",
       "      <td>1486.0</td>\n",
       "      <td>11.927322</td>\n",
       "      <td>14.430564</td>\n",
       "      <td>0.0</td>\n",
       "      <td>2.0</td>\n",
       "      <td>7.0</td>\n",
       "      <td>16.75</td>\n",
       "      <td>134.0</td>\n",
       "    </tr>\n",
       "    <tr>\n",
       "      <th rowspan=\"13\" valign=\"top\">control</th>\n",
       "      <th>AKT/Mtor</th>\n",
       "      <td>1554.0</td>\n",
       "      <td>4.989060</td>\n",
       "      <td>4.824733</td>\n",
       "      <td>0.0</td>\n",
       "      <td>1.0</td>\n",
       "      <td>4.0</td>\n",
       "      <td>7.00</td>\n",
       "      <td>29.0</td>\n",
       "    </tr>\n",
       "    <tr>\n",
       "      <th>Bim/Tom20</th>\n",
       "      <td>1554.0</td>\n",
       "      <td>4.067568</td>\n",
       "      <td>3.609024</td>\n",
       "      <td>0.0</td>\n",
       "      <td>2.0</td>\n",
       "      <td>3.0</td>\n",
       "      <td>6.00</td>\n",
       "      <td>50.0</td>\n",
       "    </tr>\n",
       "    <tr>\n",
       "      <th>Cyclin D1/CDK4</th>\n",
       "      <td>1554.0</td>\n",
       "      <td>13.617761</td>\n",
       "      <td>8.300496</td>\n",
       "      <td>0.0</td>\n",
       "      <td>8.0</td>\n",
       "      <td>12.0</td>\n",
       "      <td>18.00</td>\n",
       "      <td>110.0</td>\n",
       "    </tr>\n",
       "    <tr>\n",
       "      <th>Cyclin E/CDK2</th>\n",
       "      <td>1554.0</td>\n",
       "      <td>7.008366</td>\n",
       "      <td>5.422336</td>\n",
       "      <td>0.0</td>\n",
       "      <td>3.0</td>\n",
       "      <td>6.0</td>\n",
       "      <td>10.00</td>\n",
       "      <td>63.0</td>\n",
       "    </tr>\n",
       "    <tr>\n",
       "      <th>EGFR/GRB2</th>\n",
       "      <td>1554.0</td>\n",
       "      <td>25.978764</td>\n",
       "      <td>14.968400</td>\n",
       "      <td>0.0</td>\n",
       "      <td>15.0</td>\n",
       "      <td>24.0</td>\n",
       "      <td>34.00</td>\n",
       "      <td>162.0</td>\n",
       "    </tr>\n",
       "    <tr>\n",
       "      <th>FoxO1/AKT</th>\n",
       "      <td>1554.0</td>\n",
       "      <td>10.201416</td>\n",
       "      <td>8.953552</td>\n",
       "      <td>0.0</td>\n",
       "      <td>4.0</td>\n",
       "      <td>8.0</td>\n",
       "      <td>14.00</td>\n",
       "      <td>132.0</td>\n",
       "    </tr>\n",
       "    <tr>\n",
       "      <th>Mcl-1/BAK</th>\n",
       "      <td>1554.0</td>\n",
       "      <td>5.665380</td>\n",
       "      <td>4.352024</td>\n",
       "      <td>0.0</td>\n",
       "      <td>2.0</td>\n",
       "      <td>5.0</td>\n",
       "      <td>8.00</td>\n",
       "      <td>24.0</td>\n",
       "    </tr>\n",
       "    <tr>\n",
       "      <th>NF-Kb/p-P90rsk</th>\n",
       "      <td>1554.0</td>\n",
       "      <td>4.825611</td>\n",
       "      <td>4.273169</td>\n",
       "      <td>0.0</td>\n",
       "      <td>2.0</td>\n",
       "      <td>4.0</td>\n",
       "      <td>7.00</td>\n",
       "      <td>51.0</td>\n",
       "    </tr>\n",
       "    <tr>\n",
       "      <th>SIRT1/P53</th>\n",
       "      <td>1554.0</td>\n",
       "      <td>1.860360</td>\n",
       "      <td>1.878934</td>\n",
       "      <td>0.0</td>\n",
       "      <td>0.0</td>\n",
       "      <td>1.0</td>\n",
       "      <td>3.00</td>\n",
       "      <td>11.0</td>\n",
       "    </tr>\n",
       "    <tr>\n",
       "      <th>Sox2/Oct4</th>\n",
       "      <td>1554.0</td>\n",
       "      <td>6.812098</td>\n",
       "      <td>5.356399</td>\n",
       "      <td>0.0</td>\n",
       "      <td>3.0</td>\n",
       "      <td>6.0</td>\n",
       "      <td>9.00</td>\n",
       "      <td>60.0</td>\n",
       "    </tr>\n",
       "    <tr>\n",
       "      <th>TEAD1/YAP</th>\n",
       "      <td>1554.0</td>\n",
       "      <td>4.212355</td>\n",
       "      <td>3.785280</td>\n",
       "      <td>0.0</td>\n",
       "      <td>2.0</td>\n",
       "      <td>3.0</td>\n",
       "      <td>6.00</td>\n",
       "      <td>45.0</td>\n",
       "    </tr>\n",
       "    <tr>\n",
       "      <th>TRAIL/DR5</th>\n",
       "      <td>1554.0</td>\n",
       "      <td>30.947233</td>\n",
       "      <td>22.945660</td>\n",
       "      <td>0.0</td>\n",
       "      <td>17.0</td>\n",
       "      <td>26.0</td>\n",
       "      <td>40.00</td>\n",
       "      <td>402.0</td>\n",
       "    </tr>\n",
       "    <tr>\n",
       "      <th>p-ERK/c-MYC</th>\n",
       "      <td>1554.0</td>\n",
       "      <td>8.651223</td>\n",
       "      <td>16.503721</td>\n",
       "      <td>0.0</td>\n",
       "      <td>0.0</td>\n",
       "      <td>2.0</td>\n",
       "      <td>10.00</td>\n",
       "      <td>268.0</td>\n",
       "    </tr>\n",
       "  </tbody>\n",
       "</table>\n",
       "</div>"
      ],
      "text/plain": [
       "                           count       mean        std  min   25%   50%  \\\n",
       "Condition PPI                                                             \n",
       "100nM     AKT/Mtor        1486.0   2.591521   2.786095  0.0   0.0   2.0   \n",
       "          Bim/Tom20       1486.0   3.288022   2.930247  0.0   1.0   3.0   \n",
       "          Cyclin D1/CDK4  1486.0   9.466353   6.564050  0.0   5.0   8.0   \n",
       "          Cyclin E/CDK2   1486.0   5.546433   4.965897  0.0   2.0   5.0   \n",
       "          EGFR/GRB2       1486.0  15.493271  10.123328  0.0   9.0  14.0   \n",
       "          FoxO1/AKT       1486.0   7.970390   6.289037  0.0   3.0   7.0   \n",
       "          Mcl-1/BAK       1486.0   3.917227   3.645284  0.0   1.0   3.0   \n",
       "          NF-Kb/p-P90rsk  1486.0   2.934051   2.719865  0.0   1.0   2.0   \n",
       "          SIRT1/P53       1486.0   0.942799   1.430344  0.0   0.0   1.0   \n",
       "          Sox2/Oct4       1486.0   4.000000   3.369900  0.0   2.0   3.0   \n",
       "          TEAD1/YAP       1486.0   3.310229   3.269076  0.0   1.0   2.0   \n",
       "          TRAIL/DR5       1486.0  28.617766  19.359037  0.0  15.0  26.0   \n",
       "          p-ERK/c-MYC     1486.0  11.927322  14.430564  0.0   2.0   7.0   \n",
       "control   AKT/Mtor        1554.0   4.989060   4.824733  0.0   1.0   4.0   \n",
       "          Bim/Tom20       1554.0   4.067568   3.609024  0.0   2.0   3.0   \n",
       "          Cyclin D1/CDK4  1554.0  13.617761   8.300496  0.0   8.0  12.0   \n",
       "          Cyclin E/CDK2   1554.0   7.008366   5.422336  0.0   3.0   6.0   \n",
       "          EGFR/GRB2       1554.0  25.978764  14.968400  0.0  15.0  24.0   \n",
       "          FoxO1/AKT       1554.0  10.201416   8.953552  0.0   4.0   8.0   \n",
       "          Mcl-1/BAK       1554.0   5.665380   4.352024  0.0   2.0   5.0   \n",
       "          NF-Kb/p-P90rsk  1554.0   4.825611   4.273169  0.0   2.0   4.0   \n",
       "          SIRT1/P53       1554.0   1.860360   1.878934  0.0   0.0   1.0   \n",
       "          Sox2/Oct4       1554.0   6.812098   5.356399  0.0   3.0   6.0   \n",
       "          TEAD1/YAP       1554.0   4.212355   3.785280  0.0   2.0   3.0   \n",
       "          TRAIL/DR5       1554.0  30.947233  22.945660  0.0  17.0  26.0   \n",
       "          p-ERK/c-MYC     1554.0   8.651223  16.503721  0.0   0.0   2.0   \n",
       "\n",
       "                            75%    max  \n",
       "Condition PPI                           \n",
       "100nM     AKT/Mtor         4.00   41.0  \n",
       "          Bim/Tom20        5.00   31.0  \n",
       "          Cyclin D1/CDK4  13.00   61.0  \n",
       "          Cyclin E/CDK2    8.00   92.0  \n",
       "          EGFR/GRB2       20.00   90.0  \n",
       "          FoxO1/AKT       11.00   69.0  \n",
       "          Mcl-1/BAK        6.00   52.0  \n",
       "          NF-Kb/p-P90rsk   4.00   18.0  \n",
       "          SIRT1/P53        1.00   28.0  \n",
       "          Sox2/Oct4        6.00   27.0  \n",
       "          TEAD1/YAP        5.00   28.0  \n",
       "          TRAIL/DR5       39.00  210.0  \n",
       "          p-ERK/c-MYC     16.75  134.0  \n",
       "control   AKT/Mtor         7.00   29.0  \n",
       "          Bim/Tom20        6.00   50.0  \n",
       "          Cyclin D1/CDK4  18.00  110.0  \n",
       "          Cyclin E/CDK2   10.00   63.0  \n",
       "          EGFR/GRB2       34.00  162.0  \n",
       "          FoxO1/AKT       14.00  132.0  \n",
       "          Mcl-1/BAK        8.00   24.0  \n",
       "          NF-Kb/p-P90rsk   7.00   51.0  \n",
       "          SIRT1/P53        3.00   11.0  \n",
       "          Sox2/Oct4        9.00   60.0  \n",
       "          TEAD1/YAP        6.00   45.0  \n",
       "          TRAIL/DR5       40.00  402.0  \n",
       "          p-ERK/c-MYC     10.00  268.0  "
      ]
     },
     "execution_count": 20,
     "metadata": {},
     "output_type": "execute_result"
    }
   ],
   "source": [
    "# Describe statistics\n",
    "df_all.groupby(['Condition', 'PPI'])['Count_cell'].describe()"
   ]
  },
  {
   "cell_type": "code",
   "execution_count": 21,
   "metadata": {},
   "outputs": [
    {
     "name": "stderr",
     "output_type": "stream",
     "text": [
      "C:\\Users\\thu71\\AppData\\Local\\Temp\\ipykernel_58296\\2618801339.py:7: FutureWarning: The default value of numeric_only in DataFrameGroupBy.sum is deprecated. In a future version, numeric_only will default to False. Either specify numeric_only or select only columns which should be valid for the function.\n",
      "  df_all.groupby(['Condition', 'FOV', 'Id']).sum().describe()\n"
     ]
    },
    {
     "data": {
      "text/html": [
       "<div>\n",
       "<style scoped>\n",
       "    .dataframe tbody tr th:only-of-type {\n",
       "        vertical-align: middle;\n",
       "    }\n",
       "\n",
       "    .dataframe tbody tr th {\n",
       "        vertical-align: top;\n",
       "    }\n",
       "\n",
       "    .dataframe thead th {\n",
       "        text-align: right;\n",
       "    }\n",
       "</style>\n",
       "<table border=\"1\" class=\"dataframe\">\n",
       "  <thead>\n",
       "    <tr style=\"text-align: right;\">\n",
       "      <th></th>\n",
       "      <th>Count_cell</th>\n",
       "      <th>Count_nuclei</th>\n",
       "      <th>Count_cyto</th>\n",
       "    </tr>\n",
       "  </thead>\n",
       "  <tbody>\n",
       "    <tr>\n",
       "      <th>count</th>\n",
       "      <td>2427.000000</td>\n",
       "      <td>2427.000000</td>\n",
       "      <td>2427.000000</td>\n",
       "    </tr>\n",
       "    <tr>\n",
       "      <th>mean</th>\n",
       "      <td>94.386073</td>\n",
       "      <td>18.188298</td>\n",
       "      <td>76.197775</td>\n",
       "    </tr>\n",
       "    <tr>\n",
       "      <th>std</th>\n",
       "      <td>45.365136</td>\n",
       "      <td>46.360069</td>\n",
       "      <td>44.292548</td>\n",
       "    </tr>\n",
       "    <tr>\n",
       "      <th>min</th>\n",
       "      <td>11.000000</td>\n",
       "      <td>0.000000</td>\n",
       "      <td>0.000000</td>\n",
       "    </tr>\n",
       "    <tr>\n",
       "      <th>25%</th>\n",
       "      <td>60.000000</td>\n",
       "      <td>0.000000</td>\n",
       "      <td>43.000000</td>\n",
       "    </tr>\n",
       "    <tr>\n",
       "      <th>50%</th>\n",
       "      <td>90.000000</td>\n",
       "      <td>0.000000</td>\n",
       "      <td>74.000000</td>\n",
       "    </tr>\n",
       "    <tr>\n",
       "      <th>75%</th>\n",
       "      <td>124.000000</td>\n",
       "      <td>0.000000</td>\n",
       "      <td>105.000000</td>\n",
       "    </tr>\n",
       "    <tr>\n",
       "      <th>max</th>\n",
       "      <td>273.000000</td>\n",
       "      <td>268.000000</td>\n",
       "      <td>273.000000</td>\n",
       "    </tr>\n",
       "  </tbody>\n",
       "</table>\n",
       "</div>"
      ],
      "text/plain": [
       "        Count_cell  Count_nuclei   Count_cyto\n",
       "count  2427.000000   2427.000000  2427.000000\n",
       "mean     94.386073     18.188298    76.197775\n",
       "std      45.365136     46.360069    44.292548\n",
       "min      11.000000      0.000000     0.000000\n",
       "25%      60.000000      0.000000    43.000000\n",
       "50%      90.000000      0.000000    74.000000\n",
       "75%     124.000000      0.000000   105.000000\n",
       "max     273.000000    268.000000   273.000000"
      ]
     },
     "execution_count": 21,
     "metadata": {},
     "output_type": "execute_result"
    }
   ],
   "source": [
    "# Filter out by maximum number of counts per cell\n",
    "min_count = 10\n",
    "max_count = 50\n",
    "\n",
    "df_all = df_all.groupby(['Condition', 'FOV', 'Id']).filter(lambda x: x['Count_cell'].sum() > min_count)\n",
    "df_all = df_all.groupby(['Condition', 'FOV', 'Id']).filter(lambda x: (x['Count_cell'] < max_count).all())\n",
    "df_all.groupby(['Condition', 'FOV', 'Id']).sum().describe()\n"
   ]
  },
  {
   "cell_type": "code",
   "execution_count": 24,
   "metadata": {},
   "outputs": [],
   "source": [
    "from statannotations.Annotator import Annotator\n",
    "import seaborn as sns \n",
    "\n",
    "def plot(plotting, figsize=(15,7), y_title='Count PPI per cell'):\n",
    "    c1, c2 = plotting['data'][plotting['hue']].unique()\n",
    "    pairs = [((e, c1), (e, c2)) for e in plotting['data'][plotting['x']].unique()]\n",
    "\n",
    "    with sns.plotting_context('talk', font_scale=1.5):\n",
    "        fig, ax = plt.subplots(figsize=figsize)\n",
    "        ax = sns.boxplot(**plotting, showfliers=False, ax=ax)\n",
    "        # ax = sns.swarmplot(**plotting, ax=ax, dodge=True)\n",
    "        annot = Annotator(ax, pairs, **plotting)\n",
    "        annot.configure(test='Mann-Whitney', text_format='star', loc='outside', verbose=0)\n",
    "        result = annot.apply_test().annotate()\n",
    "        ax.set_ylabel(y_title, fontsize=40)\n",
    "        plt.xticks(rotation=30, ha='right')\n",
    "        plt.legend(bbox_to_anchor=(1.05, 1), loc='upper left', borderaxespad=0)"
   ]
  },
  {
   "cell_type": "code",
   "execution_count": 25,
   "metadata": {},
   "outputs": [
    {
     "data": {
      "image/png": "[encoded data removed]",
      "text/plain": [
       "<Figure size 1500x700 with 1 Axes>"
      ]
     },
     "metadata": {},
     "output_type": "display_data"
    }
   ],
   "source": [
    "# Boxplot per cell\n",
    "plotting = {\n",
    "    \"data\": df_all,\n",
    "    \"x\": \"PPI\",\n",
    "    \"y\": \"Count_cell\",\n",
    "    \"hue\": \"Condition\"\n",
    "}\n",
    "\n",
    "plot(plotting)"
   ]
  },
  {
   "cell_type": "markdown",
   "metadata": {},
   "source": [
    "# Generate 3D PPI network"
   ]
  },
  {
   "cell_type": "code",
   "execution_count": 29,
   "metadata": {},
   "outputs": [],
   "source": [
    "from sklearn.preprocessing import OneHotEncoder\n",
    "import networkx as nx\n",
    "from sklearn import preprocessing\n",
    "import scipy \n",
    "from scipy.spatial import Delaunay\n",
    "import itertools\n",
    "import pickle\n",
    "\n",
    "def plot_tri_simple(ax, points, tri):\n",
    "    for tr in tri.simplices:\n",
    "        pts = points[tr, :]\n",
    "        ax.plot3D(pts[[0,1],0], pts[[0,1],1], pts[[0,1],2], color='g', lw='0.1')\n",
    "        ax.plot3D(pts[[0,2],0], pts[[0,2],1], pts[[0,2],2], color='g', lw='0.1')\n",
    "        ax.plot3D(pts[[0,3],0], pts[[0,3],1], pts[[0,3],2], color='g', lw='0.1')\n",
    "        ax.plot3D(pts[[1,2],0], pts[[1,2],1], pts[[1,2],2], color='g', lw='0.1')\n",
    "        ax.plot3D(pts[[1,3],0], pts[[1,3],1], pts[[1,3],2], color='g', lw='0.1')\n",
    "        ax.plot3D(pts[[2,3],0], pts[[2,3],1], pts[[2,3],2], color='g', lw='0.1')\n",
    "\n",
    "    ax.scatter(points[:,0], points[:,1], points[:,2], color='b')\n",
    "    \n",
    "def create_network(df, t=50, scale=0.2):   \n",
    "    z,y,x = df['z'].to_numpy()*scale, df['y'].to_numpy(), df['x'].to_numpy()\n",
    "\n",
    "    # Get coordinates\n",
    "    coordinates = np.vstack([x, y, z]).T\n",
    "    points = coordinates - np.mean(coordinates, axis=0)\n",
    "    \n",
    "    # Delaunay\n",
    "    tri = Delaunay(points)\n",
    "    G = nx.Graph()\n",
    "    for path in tri.simplices:\n",
    "        G.add_nodes_from(path)\n",
    "        edges = list(itertools.combinations(path, 2))\n",
    "        G.add_edges_from(edges)\n",
    "    \n",
    "    # Euclidian distance\n",
    "    distance = scipy.spatial.distance_matrix(points, points)\n",
    "    l = t**2/np.log(t)\n",
    "    distance_norm = np.exp(-distance**2/t)\n",
    "\n",
    "    # distance_norm = np.where(distance>t, 0, np.exp(-distance*2/l))\n",
    "    \n",
    "    g_dist = nx.from_numpy_array(distance_norm)\n",
    "    g = g_dist.edge_subgraph(G.edges()).copy() # Only keep delaunay edges\n",
    "    nx.set_node_attributes(g, dict(zip(g.nodes(), df.Labels)), \"labels\")\n",
    "    nuclei = (df.Nuclei > 0).astype(int).tolist()\n",
    "    nx.set_node_attributes(g, dict(zip(g.nodes(), nuclei)), \"nuclei\")\n",
    "    nx.set_node_attributes(g, dict(zip(g.nodes(), coordinates)), \"pos\")\n",
    "    return g"
   ]
  },
  {
   "cell_type": "code",
   "execution_count": 30,
   "metadata": {},
   "outputs": [],
   "source": [
    "PPI_save_path =  data_dir / '13cyc_3D' / 'PPI'\n",
    "\n",
    "# Read PPi info \n",
    "dfs = []\n",
    "for path in os.listdir(PPI_save_path):\n",
    "    if 'csv' in path:\n",
    "        df = pd.read_csv(PPI_save_path / path)\n",
    "        dfs.append(df)\n",
    "df = pd.concat(dfs)\n",
    "\n",
    "# Create label \n",
    "enc = OneHotEncoder(handle_unknown='ignore')\n",
    "labels = enc.fit_transform(df['PPI'].to_numpy().reshape(-1, 1)).toarray().astype(np.uint8)\n",
    "df['Labels'] = labels.tolist()"
   ]
  },
  {
   "cell_type": "code",
   "execution_count": 31,
   "metadata": {},
   "outputs": [
    {
     "data": {
      "text/html": [
       "<div>\n",
       "<style scoped>\n",
       "    .dataframe tbody tr th:only-of-type {\n",
       "        vertical-align: middle;\n",
       "    }\n",
       "\n",
       "    .dataframe tbody tr th {\n",
       "        vertical-align: top;\n",
       "    }\n",
       "\n",
       "    .dataframe thead th {\n",
       "        text-align: right;\n",
       "    }\n",
       "</style>\n",
       "<table border=\"1\" class=\"dataframe\">\n",
       "  <thead>\n",
       "    <tr style=\"text-align: right;\">\n",
       "      <th></th>\n",
       "      <th>Cell</th>\n",
       "      <th>Nuclei</th>\n",
       "      <th>z</th>\n",
       "      <th>y</th>\n",
       "      <th>x</th>\n",
       "      <th>PPI</th>\n",
       "      <th>Condition</th>\n",
       "      <th>FOV</th>\n",
       "      <th>Labels</th>\n",
       "    </tr>\n",
       "  </thead>\n",
       "  <tbody>\n",
       "    <tr>\n",
       "      <th>0</th>\n",
       "      <td>459</td>\n",
       "      <td>212</td>\n",
       "      <td>3</td>\n",
       "      <td>875</td>\n",
       "      <td>4048</td>\n",
       "      <td>Sox2/Oct4</td>\n",
       "      <td>100nM</td>\n",
       "      <td>FW1</td>\n",
       "      <td>[0, 0, 0, 0, 0, 0, 0, 0, 0, 1, 0, 0, 0]</td>\n",
       "    </tr>\n",
       "    <tr>\n",
       "      <th>1</th>\n",
       "      <td>704</td>\n",
       "      <td>177</td>\n",
       "      <td>2</td>\n",
       "      <td>1665</td>\n",
       "      <td>2260</td>\n",
       "      <td>Sox2/Oct4</td>\n",
       "      <td>100nM</td>\n",
       "      <td>FW1</td>\n",
       "      <td>[0, 0, 0, 0, 0, 0, 0, 0, 0, 1, 0, 0, 0]</td>\n",
       "    </tr>\n",
       "    <tr>\n",
       "      <th>2</th>\n",
       "      <td>827</td>\n",
       "      <td>15</td>\n",
       "      <td>3</td>\n",
       "      <td>1991</td>\n",
       "      <td>6660</td>\n",
       "      <td>Sox2/Oct4</td>\n",
       "      <td>100nM</td>\n",
       "      <td>FW1</td>\n",
       "      <td>[0, 0, 0, 0, 0, 0, 0, 0, 0, 1, 0, 0, 0]</td>\n",
       "    </tr>\n",
       "    <tr>\n",
       "      <th>3</th>\n",
       "      <td>0</td>\n",
       "      <td>225</td>\n",
       "      <td>2</td>\n",
       "      <td>2981</td>\n",
       "      <td>8196</td>\n",
       "      <td>Sox2/Oct4</td>\n",
       "      <td>100nM</td>\n",
       "      <td>FW1</td>\n",
       "      <td>[0, 0, 0, 0, 0, 0, 0, 0, 0, 1, 0, 0, 0]</td>\n",
       "    </tr>\n",
       "    <tr>\n",
       "      <th>4</th>\n",
       "      <td>1390</td>\n",
       "      <td>34</td>\n",
       "      <td>3</td>\n",
       "      <td>3192</td>\n",
       "      <td>7902</td>\n",
       "      <td>Sox2/Oct4</td>\n",
       "      <td>100nM</td>\n",
       "      <td>FW1</td>\n",
       "      <td>[0, 0, 0, 0, 0, 0, 0, 0, 0, 1, 0, 0, 0]</td>\n",
       "    </tr>\n",
       "    <tr>\n",
       "      <th>...</th>\n",
       "      <td>...</td>\n",
       "      <td>...</td>\n",
       "      <td>...</td>\n",
       "      <td>...</td>\n",
       "      <td>...</td>\n",
       "      <td>...</td>\n",
       "      <td>...</td>\n",
       "      <td>...</td>\n",
       "      <td>...</td>\n",
       "    </tr>\n",
       "    <tr>\n",
       "      <th>88765</th>\n",
       "      <td>768</td>\n",
       "      <td>90</td>\n",
       "      <td>6</td>\n",
       "      <td>3188</td>\n",
       "      <td>5062</td>\n",
       "      <td>TEAD1/YAP</td>\n",
       "      <td>control</td>\n",
       "      <td>FW2</td>\n",
       "      <td>[0, 0, 0, 0, 0, 0, 0, 0, 0, 0, 1, 0, 0]</td>\n",
       "    </tr>\n",
       "    <tr>\n",
       "      <th>88766</th>\n",
       "      <td>706</td>\n",
       "      <td>39</td>\n",
       "      <td>6</td>\n",
       "      <td>2922</td>\n",
       "      <td>3099</td>\n",
       "      <td>TEAD1/YAP</td>\n",
       "      <td>control</td>\n",
       "      <td>FW2</td>\n",
       "      <td>[0, 0, 0, 0, 0, 0, 0, 0, 0, 0, 1, 0, 0]</td>\n",
       "    </tr>\n",
       "    <tr>\n",
       "      <th>88767</th>\n",
       "      <td>843</td>\n",
       "      <td>0</td>\n",
       "      <td>6</td>\n",
       "      <td>3277</td>\n",
       "      <td>4152</td>\n",
       "      <td>TEAD1/YAP</td>\n",
       "      <td>control</td>\n",
       "      <td>FW2</td>\n",
       "      <td>[0, 0, 0, 0, 0, 0, 0, 0, 0, 0, 1, 0, 0]</td>\n",
       "    </tr>\n",
       "    <tr>\n",
       "      <th>88768</th>\n",
       "      <td>710</td>\n",
       "      <td>0</td>\n",
       "      <td>6</td>\n",
       "      <td>2991</td>\n",
       "      <td>459</td>\n",
       "      <td>TEAD1/YAP</td>\n",
       "      <td>control</td>\n",
       "      <td>FW2</td>\n",
       "      <td>[0, 0, 0, 0, 0, 0, 0, 0, 0, 0, 1, 0, 0]</td>\n",
       "    </tr>\n",
       "    <tr>\n",
       "      <th>88769</th>\n",
       "      <td>591</td>\n",
       "      <td>240</td>\n",
       "      <td>6</td>\n",
       "      <td>2455</td>\n",
       "      <td>6041</td>\n",
       "      <td>TEAD1/YAP</td>\n",
       "      <td>control</td>\n",
       "      <td>FW2</td>\n",
       "      <td>[0, 0, 0, 0, 0, 0, 0, 0, 0, 0, 1, 0, 0]</td>\n",
       "    </tr>\n",
       "  </tbody>\n",
       "</table>\n",
       "<p>331848 rows × 9 columns</p>\n",
       "</div>"
      ],
      "text/plain": [
       "       Cell  Nuclei  z     y     x        PPI Condition  FOV  \\\n",
       "0       459     212  3   875  4048  Sox2/Oct4     100nM  FW1   \n",
       "1       704     177  2  1665  2260  Sox2/Oct4     100nM  FW1   \n",
       "2       827      15  3  1991  6660  Sox2/Oct4     100nM  FW1   \n",
       "3         0     225  2  2981  8196  Sox2/Oct4     100nM  FW1   \n",
       "4      1390      34  3  3192  7902  Sox2/Oct4     100nM  FW1   \n",
       "...     ...     ... ..   ...   ...        ...       ...  ...   \n",
       "88765   768      90  6  3188  5062  TEAD1/YAP   control  FW2   \n",
       "88766   706      39  6  2922  3099  TEAD1/YAP   control  FW2   \n",
       "88767   843       0  6  3277  4152  TEAD1/YAP   control  FW2   \n",
       "88768   710       0  6  2991   459  TEAD1/YAP   control  FW2   \n",
       "88769   591     240  6  2455  6041  TEAD1/YAP   control  FW2   \n",
       "\n",
       "                                        Labels  \n",
       "0      [0, 0, 0, 0, 0, 0, 0, 0, 0, 1, 0, 0, 0]  \n",
       "1      [0, 0, 0, 0, 0, 0, 0, 0, 0, 1, 0, 0, 0]  \n",
       "2      [0, 0, 0, 0, 0, 0, 0, 0, 0, 1, 0, 0, 0]  \n",
       "3      [0, 0, 0, 0, 0, 0, 0, 0, 0, 1, 0, 0, 0]  \n",
       "4      [0, 0, 0, 0, 0, 0, 0, 0, 0, 1, 0, 0, 0]  \n",
       "...                                        ...  \n",
       "88765  [0, 0, 0, 0, 0, 0, 0, 0, 0, 0, 1, 0, 0]  \n",
       "88766  [0, 0, 0, 0, 0, 0, 0, 0, 0, 0, 1, 0, 0]  \n",
       "88767  [0, 0, 0, 0, 0, 0, 0, 0, 0, 0, 1, 0, 0]  \n",
       "88768  [0, 0, 0, 0, 0, 0, 0, 0, 0, 0, 1, 0, 0]  \n",
       "88769  [0, 0, 0, 0, 0, 0, 0, 0, 0, 0, 1, 0, 0]  \n",
       "\n",
       "[331848 rows x 9 columns]"
      ]
     },
     "execution_count": 31,
     "metadata": {},
     "output_type": "execute_result"
    }
   ],
   "source": [
    "df"
   ]
  },
  {
   "cell_type": "code",
   "execution_count": 34,
   "metadata": {},
   "outputs": [],
   "source": [
    "graph_save_path =  data_dir / '13cyc_3D' / 'graphs' / 'raw'\n",
    "graph_save_path .mkdir(parents=True, exist_ok=True)\n",
    "\n",
    "scale = 0.4/0.18872\n",
    "\n",
    "group = df.groupby(['Condition', 'FOV', 'Cell'])\n",
    "for name, df_group in group:\n",
    "    if name[2] == 0:\n",
    "        continue\n",
    "    if len(df_group) < 50:\n",
    "        continue\n",
    "    \n",
    "    g = create_network(df_group, t=70, scale=scale)\n",
    "    if nx.number_of_isolates(g)>0:\n",
    "        print('Isolated nodes')\n",
    "    \n",
    "    # Save pgrahs\n",
    "    save_path = graph_save_path / ('_'.join([str(n) for n in name])+'.pkl')\n",
    "    with open(save_path, 'wb') as f:\n",
    "        pickle.dump(g, f, protocol=pickle.HIGHEST_PROTOCOL)"
   ]
  },
  {
   "cell_type": "code",
   "execution_count": null,
   "metadata": {},
   "outputs": [],
   "source": []
  }
 ],
 "metadata": {
  "kernelspec": {
   "display_name": "Python 3",
   "language": "python",
   "name": "python3"
  },
  "language_info": {
   "codemirror_mode": {
    "name": "ipython",
    "version": 3
   },
   "file_extension": ".py",
   "mimetype": "text/x-python",
   "name": "python",
   "nbconvert_exporter": "python",
   "pygments_lexer": "ipython3",
   "version": "3.11.4"
  }
 },
 "nbformat": 4,
 "nbformat_minor": 2
}
