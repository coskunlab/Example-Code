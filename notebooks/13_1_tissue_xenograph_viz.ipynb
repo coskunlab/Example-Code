{
 "cells": [
  {
   "cell_type": "code",
   "execution_count": 1,
   "metadata": {},
   "outputs": [
    {
     "name": "stderr",
     "output_type": "stream",
     "text": [
      "c:\\Users\\thu71\\AppData\\Local\\anaconda3\\envs\\scanpy\\Lib\\site-packages\\h5py\\__init__.py:36: UserWarning: h5py is running against HDF5 1.14.3 when it was built against 1.14.2, this may cause problems\n",
      "  _warn((\"h5py is running against HDF5 {0} when it was built against {1}, \"\n"
     ]
    }
   ],
   "source": [
    "# import itertools\n",
    "import os\n",
    "import sys\n",
    "from pathlib import Path\n",
    "\n",
    "import cv2\n",
    "import matplotlib.pyplot as plt\n",
    "import numpy as np\n",
    "import pandas as pd\n",
    "import skimage.io\n",
    "\n",
    "from collections import defaultdict\n",
    "from tqdm.auto import tqdm\n",
    "from joblib import Parallel, delayed\n",
    "import re\n",
    "import h5py\n",
    "import napari\n",
    "import tifffile as tiff\n",
    "import seaborn as sns\n",
    "import pickle"
   ]
  },
  {
   "cell_type": "code",
   "execution_count": 2,
   "metadata": {},
   "outputs": [],
   "source": [
    "%load_ext autoreload\n",
    "%autoreload 2"
   ]
  },
  {
   "cell_type": "code",
   "execution_count": 3,
   "metadata": {},
   "outputs": [],
   "source": [
    "p_dir = (Path().cwd().parents[0]).absolute()\n",
    "\n",
    "module_path = str(p_dir / \"src\")\n",
    " \n",
    "if module_path not in sys.path:\n",
    "    sys.path.append(module_path)"
   ]
  },
  {
   "cell_type": "code",
   "execution_count": 4,
   "metadata": {},
   "outputs": [],
   "source": [
    "data_dir_ori = Path(r'Y:\\coskun-lab\\Thomas\\15_PLA\\data')\n",
    "data_dir = data_dir = (Path().cwd().parents[0] / 'data').absolute()\n",
    "\n",
    "\n",
    "df_meta_path = data_dir_ori /'OCT Mouse' / 'Whole' / 'metadata' / 'imgs_reg.csv'\n",
    "df_imgs = pd.read_csv(df_meta_path)\n"
   ]
  },
  {
   "cell_type": "code",
   "execution_count": 5,
   "metadata": {},
   "outputs": [
    {
     "data": {
      "text/html": [
       "<div>\n",
       "<style scoped>\n",
       "    .dataframe tbody tr th:only-of-type {\n",
       "        vertical-align: middle;\n",
       "    }\n",
       "\n",
       "    .dataframe tbody tr th {\n",
       "        vertical-align: top;\n",
       "    }\n",
       "\n",
       "    .dataframe thead th {\n",
       "        text-align: right;\n",
       "    }\n",
       "</style>\n",
       "<table border=\"1\" class=\"dataframe\">\n",
       "  <thead>\n",
       "    <tr style=\"text-align: right;\">\n",
       "      <th></th>\n",
       "      <th>Timepoint</th>\n",
       "      <th>FOV</th>\n",
       "      <th>Path</th>\n",
       "    </tr>\n",
       "  </thead>\n",
       "  <tbody>\n",
       "    <tr>\n",
       "      <th>0</th>\n",
       "      <td>1M</td>\n",
       "      <td>FW1</td>\n",
       "      <td>Y:\\coskun-lab\\Thomas\\15_PLA\\data\\OCT mouse\\Who...</td>\n",
       "    </tr>\n",
       "    <tr>\n",
       "      <th>1</th>\n",
       "      <td>1M</td>\n",
       "      <td>FW2</td>\n",
       "      <td>Y:\\coskun-lab\\Thomas\\15_PLA\\data\\OCT mouse\\Who...</td>\n",
       "    </tr>\n",
       "    <tr>\n",
       "      <th>2</th>\n",
       "      <td>1W</td>\n",
       "      <td>FW1</td>\n",
       "      <td>Y:\\coskun-lab\\Thomas\\15_PLA\\data\\OCT mouse\\Who...</td>\n",
       "    </tr>\n",
       "    <tr>\n",
       "      <th>3</th>\n",
       "      <td>1W</td>\n",
       "      <td>FW2</td>\n",
       "      <td>Y:\\coskun-lab\\Thomas\\15_PLA\\data\\OCT mouse\\Who...</td>\n",
       "    </tr>\n",
       "    <tr>\n",
       "      <th>4</th>\n",
       "      <td>1W</td>\n",
       "      <td>FW3</td>\n",
       "      <td>Y:\\coskun-lab\\Thomas\\15_PLA\\data\\OCT mouse\\Who...</td>\n",
       "    </tr>\n",
       "  </tbody>\n",
       "</table>\n",
       "</div>"
      ],
      "text/plain": [
       "  Timepoint  FOV                                               Path\n",
       "0        1M  FW1  Y:\\coskun-lab\\Thomas\\15_PLA\\data\\OCT mouse\\Who...\n",
       "1        1M  FW2  Y:\\coskun-lab\\Thomas\\15_PLA\\data\\OCT mouse\\Who...\n",
       "2        1W  FW1  Y:\\coskun-lab\\Thomas\\15_PLA\\data\\OCT mouse\\Who...\n",
       "3        1W  FW2  Y:\\coskun-lab\\Thomas\\15_PLA\\data\\OCT mouse\\Who...\n",
       "4        1W  FW3  Y:\\coskun-lab\\Thomas\\15_PLA\\data\\OCT mouse\\Who..."
      ]
     },
     "execution_count": 5,
     "metadata": {},
     "output_type": "execute_result"
    }
   ],
   "source": [
    "df_imgs"
   ]
  },
  {
   "cell_type": "markdown",
   "metadata": {},
   "source": [
    "# Read PPI data"
   ]
  },
  {
   "cell_type": "code",
   "execution_count": 6,
   "metadata": {},
   "outputs": [
    {
     "data": {
      "text/html": [
       "<div>\n",
       "<style scoped>\n",
       "    .dataframe tbody tr th:only-of-type {\n",
       "        vertical-align: middle;\n",
       "    }\n",
       "\n",
       "    .dataframe tbody tr th {\n",
       "        vertical-align: top;\n",
       "    }\n",
       "\n",
       "    .dataframe thead th {\n",
       "        text-align: right;\n",
       "    }\n",
       "</style>\n",
       "<table border=\"1\" class=\"dataframe\">\n",
       "  <thead>\n",
       "    <tr style=\"text-align: right;\">\n",
       "      <th></th>\n",
       "      <th>Cyto</th>\n",
       "      <th>row</th>\n",
       "      <th>column</th>\n",
       "      <th>PPI</th>\n",
       "      <th>Nuclei</th>\n",
       "      <th>Condition</th>\n",
       "      <th>FOV</th>\n",
       "    </tr>\n",
       "  </thead>\n",
       "  <tbody>\n",
       "    <tr>\n",
       "      <th>0</th>\n",
       "      <td>14586</td>\n",
       "      <td>5545</td>\n",
       "      <td>866</td>\n",
       "      <td>TEAD1 &amp; YAP1</td>\n",
       "      <td>14586</td>\n",
       "      <td>1M</td>\n",
       "      <td>FW1</td>\n",
       "    </tr>\n",
       "    <tr>\n",
       "      <th>1</th>\n",
       "      <td>14586</td>\n",
       "      <td>5545</td>\n",
       "      <td>866</td>\n",
       "      <td>TEAD1 &amp; YAP1</td>\n",
       "      <td>14586</td>\n",
       "      <td>1M</td>\n",
       "      <td>FW1</td>\n",
       "    </tr>\n",
       "    <tr>\n",
       "      <th>2</th>\n",
       "      <td>14586</td>\n",
       "      <td>5545</td>\n",
       "      <td>866</td>\n",
       "      <td>TEAD1 &amp; YAP1</td>\n",
       "      <td>14586</td>\n",
       "      <td>1M</td>\n",
       "      <td>FW1</td>\n",
       "    </tr>\n",
       "    <tr>\n",
       "      <th>3</th>\n",
       "      <td>14586</td>\n",
       "      <td>5545</td>\n",
       "      <td>866</td>\n",
       "      <td>TEAD1 &amp; YAP1</td>\n",
       "      <td>14586</td>\n",
       "      <td>1M</td>\n",
       "      <td>FW1</td>\n",
       "    </tr>\n",
       "    <tr>\n",
       "      <th>4</th>\n",
       "      <td>1252</td>\n",
       "      <td>521</td>\n",
       "      <td>13171</td>\n",
       "      <td>TEAD1 &amp; YAP1</td>\n",
       "      <td>0</td>\n",
       "      <td>1M</td>\n",
       "      <td>FW1</td>\n",
       "    </tr>\n",
       "  </tbody>\n",
       "</table>\n",
       "</div>"
      ],
      "text/plain": [
       "    Cyto   row  column           PPI  Nuclei Condition  FOV\n",
       "0  14586  5545     866  TEAD1 & YAP1   14586        1M  FW1\n",
       "1  14586  5545     866  TEAD1 & YAP1   14586        1M  FW1\n",
       "2  14586  5545     866  TEAD1 & YAP1   14586        1M  FW1\n",
       "3  14586  5545     866  TEAD1 & YAP1   14586        1M  FW1\n",
       "4   1252   521   13171  TEAD1 & YAP1       0        1M  FW1"
      ]
     },
     "execution_count": 6,
     "metadata": {},
     "output_type": "execute_result"
    }
   ],
   "source": [
    "# Read PPI \n",
    "PPI_save_path =  data_dir_ori / 'OCT Mouse' / 'Whole' / 'PPI'\n",
    "\n",
    "dfs = []\n",
    "for path in os.listdir(PPI_save_path):\n",
    "    if 'csv' in path:\n",
    "        df = pd.read_csv(PPI_save_path / path)\n",
    "        dfs.append(df)\n",
    "\n",
    "df = pd.concat(dfs)\n",
    "df = df.rename(columns={'x': 'row', 'y': 'column'})\n",
    "df.head()"
   ]
  },
  {
   "cell_type": "code",
   "execution_count": 7,
   "metadata": {},
   "outputs": [
    {
     "data": {
      "text/plain": [
       "array(['TEAD1 & YAP1', 'CylinE & CDK2', 'P-ERK & c-MYC', 'p-AKT & mTOR',\n",
       "       'Mcl-1 & BAK'], dtype=object)"
      ]
     },
     "execution_count": 7,
     "metadata": {},
     "output_type": "execute_result"
    }
   ],
   "source": [
    "df.PPI.unique()"
   ]
  },
  {
   "cell_type": "markdown",
   "metadata": {},
   "source": [
    "# Plot FOV scatter "
   ]
  },
  {
   "cell_type": "code",
   "execution_count": 8,
   "metadata": {},
   "outputs": [],
   "source": [
    "# Helper functions\n",
    "import napari\n",
    "import vispy.color\n",
    "import networkx as nx\n",
    "from copy import deepcopy \n",
    "\n",
    "def read_pkl(path):\n",
    "    with open(path, 'rb') as f:\n",
    "        item = pickle.load(f)\n",
    "    return item\n",
    "\n",
    "def plot_network(g, label, ax, **kwargs):\n",
    "    pos = nx.get_node_attributes(g, 'pos')\n",
    "    pos_T = {k: v[[1,0]] for k,v in pos.items()}\n",
    "    \n",
    "    nx.draw(g, pos_T, node_color=label, with_labels=False, ax=ax, **kwargs)\n",
    "    return ax\n",
    "    \n",
    "def get_loc_ppi(df, Condition, FOV, PPI_name):\n",
    "    df_ppi = df[(df.Condition == Condition) & (df.FOV == FOV)]\n",
    "    df_ppi = df_ppi[df_ppi.PPI == PPI_name]\n",
    "    points = df_ppi[['row', 'column']].to_numpy()\n",
    "    return points\n",
    "\n",
    "# remove first and last consecutive zeros along dimension\n",
    "def removeFirstAndLast(zeroArray):\n",
    "    \n",
    "    # remove first\n",
    "    for ii, val in enumerate(zeroArray):\n",
    "        if np.sum(zeroArray[:ii + 1]) != ii + 1: # all consecutive trues\n",
    "            break # exit loop\n",
    "            \n",
    "        else:\n",
    "            lowest = ii # index of last of the first consecutive zeros\n",
    "            \n",
    "    # remove last\n",
    "    for ii, val in enumerate(np.flip(zeroArray)):\n",
    "        if np.sum(zeroArray[:ii + 1]) != ii + 1: # all consecutive trues\n",
    "            break # exit loop\n",
    "            \n",
    "        else:\n",
    "            highest = len(zeroArray) - ii # index of first of the last consecutive zeros            \n",
    "    \n",
    "    return (lowest, highest)\n",
    "\n",
    "# remove black borders from napari screenshot (2D image)\n",
    "def removeBorders(RGB):\n",
    "\n",
    "    rowMin = []\n",
    "    rowMax = []\n",
    "    colMin = []\n",
    "    colMax = []\n",
    "    for jj in range(3): # each RGB\n",
    "        \n",
    "        img = RGB[:, :, jj]\n",
    "        # find first and last rows and cols of all zeros\n",
    "        # remove any rows of zeros\n",
    "        zeroRows = np.all(img == 0, axis = 1)\n",
    "        zeroCols = np.all(img == 0, axis = 0)\n",
    "\n",
    "        posRows = removeFirstAndLast(zeroRows)\n",
    "        posCols = removeFirstAndLast(zeroCols)            \n",
    "        \n",
    "        rowMin.append(posRows[0])\n",
    "        rowMax.append(posRows[1])\n",
    "        colMin.append(posCols[0])\n",
    "        colMax.append(posCols[1])\n",
    "        \n",
    "    # make sure border signal is not cut out\n",
    "    rowMin = np.min(rowMin)\n",
    "    rowMax = np.max(rowMax)\n",
    "    colMin = np.min(colMin)\n",
    "    colMax = np.max(colMax)\n",
    "        \n",
    "    cropped = RGB[rowMin: rowMax, colMin: colMax, :] \n",
    "    \n",
    "    return cropped\n",
    "\n",
    "def plot_PPI_scatter(points, colors, c_limit_dict, img, contour=None, contour_nuclei=None):\n",
    "    # Napari viewer\n",
    "    viewer = napari.view_image(img[0], colormap='blue', contrast_limits=[0, 0.7])\n",
    "    for j, point in enumerate(points):\n",
    "        points_layer = viewer.add_points(point, size=10,face_color=colors[j])\n",
    "    \n",
    "    if contour is not None:\n",
    "        shapes_layer = viewer.add_shapes(contour, shape_type='polygon', edge_width=1,\n",
    "                            edge_color='red', face_color=[0,0,0,0])\n",
    "    if contour_nuclei is not None:\n",
    "        shapes_layer = viewer.add_shapes(contour_nuclei, shape_type='polygon', edge_width=1,\n",
    "                            edge_color='blue', face_color=[0,0,0,0])\n",
    "    # Get screenshot\n",
    "    screenshot = viewer.screenshot(size=np.array((img.shape[1], img.shape[2])))\n",
    "    screenshot1 = removeBorders(screenshot)\n",
    "    viewer.close()\n",
    "    return screenshot1"
   ]
  },
  {
   "cell_type": "code",
   "execution_count": 9,
   "metadata": {},
   "outputs": [],
   "source": [
    "image_dir = (Path().cwd().parents[0] / 'figures').absolute() / 'tissue_xeno_scatter'\n",
    "image_dir.mkdir(parents=True, exist_ok=True)"
   ]
  },
  {
   "cell_type": "code",
   "execution_count": 10,
   "metadata": {},
   "outputs": [],
   "source": [
    "PPIs = ['TEAD1 & YAP1', 'CylinE & CDK2', 'P-ERK & c-MYC', 'p-AKT & mTOR',\n",
    "       'Mcl-1 & BAK']"
   ]
  },
  {
   "cell_type": "code",
   "execution_count": 11,
   "metadata": {},
   "outputs": [],
   "source": [
    "import skimage.io"
   ]
  },
  {
   "cell_type": "code",
   "execution_count": 13,
   "metadata": {},
   "outputs": [],
   "source": [
    "from matplotlib.colors import LinearSegmentedColormap\n",
    "group = df_imgs.groupby(['Timepoint', 'FOV'])\n",
    "\n",
    "# Loop through Condition FOV\n",
    "for name, df_group in group:\n",
    "    # Get imgs shape >\n",
    "    path = df_imgs[(df_imgs.Timepoint == name[0]) & (df_imgs.FOV == name[1])].Path.item()\n",
    "    with h5py.File(path, \"r\") as f:\n",
    "        imgs = f['imgs'][:]\n",
    "        markers = f['imgs'].attrs['Marker']\n",
    "\n",
    "    # Get contrast limits range\n",
    "    c_limit_dict = {}\n",
    "    for n in np.unique(markers):\n",
    "        indice = list(markers).index(n)\n",
    "        max_c = np.quantile(imgs[indice], 1.0)\n",
    "        c_limit_dict[n] = [0, max_c]\n",
    "\n",
    "    # Plot PPI\n",
    "    for PPI in PPIs:\n",
    "        points = get_loc_ppi(df, name[0], name[1], PPI)\n",
    "        screenshot = plot_PPI_scatter([points], ['magenta'], c_limit_dict, imgs)\n",
    "        skimage.io.imsave(image_dir / f'{name[0]}_{name[1]}_{PPI}.png', screenshot)\n"
   ]
  },
  {
   "cell_type": "code",
   "execution_count": null,
   "metadata": {},
   "outputs": [],
   "source": []
  }
 ],
 "metadata": {
  "kernelspec": {
   "display_name": "scanpy",
   "language": "python",
   "name": "python3"
  },
  "language_info": {
   "codemirror_mode": {
    "name": "ipython",
    "version": 3
   },
   "file_extension": ".py",
   "mimetype": "text/x-python",
   "name": "python",
   "nbconvert_exporter": "python",
   "pygments_lexer": "ipython3",
   "version": "3.11.6"
  }
 },
 "nbformat": 4,
 "nbformat_minor": 2
}
