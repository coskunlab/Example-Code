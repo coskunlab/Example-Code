{
 "cells": [
  {
   "cell_type": "code",
   "execution_count": 1,
   "metadata": {},
   "outputs": [],
   "source": [
    "import os\n",
    "import sys\n",
    "from pathlib import Path\n",
    "\n",
    "import cv2\n",
    "import matplotlib.pyplot as plt\n",
    "import numpy as np\n",
    "import pandas as pd\n",
    "import skimage.io\n",
    "\n",
    "from collections import defaultdict\n",
    "from tqdm.auto import tqdm\n",
    "from joblib import Parallel, delayed\n",
    "import re\n",
    "import pickle\n",
    "\n",
    "import networkx as nx\n",
    "from sklearn.model_selection import train_test_split"
   ]
  },
  {
   "cell_type": "code",
   "execution_count": 2,
   "metadata": {},
   "outputs": [],
   "source": [
    "import torch_geometric.utils\n",
    "import torch"
   ]
  },
  {
   "cell_type": "code",
   "execution_count": 3,
   "metadata": {},
   "outputs": [],
   "source": [
    "%load_ext autoreload\n",
    "%autoreload 2"
   ]
  },
  {
   "cell_type": "code",
   "execution_count": 4,
   "metadata": {},
   "outputs": [],
   "source": [
    "p_dir = (Path().cwd().parents[0]).absolute()\n",
    "\n",
    "module_path = str(p_dir / \"src\")\n",
    "\n",
    "if module_path not in sys.path:\n",
    "    sys.path.append(module_path)"
   ]
  },
  {
   "cell_type": "code",
   "execution_count": 5,
   "metadata": {},
   "outputs": [],
   "source": [
    "data_dir = (Path().cwd().parents[0] / 'data').absolute()"
   ]
  },
  {
   "cell_type": "code",
   "execution_count": 6,
   "metadata": {},
   "outputs": [
    {
     "name": "stderr",
     "output_type": "stream",
     "text": [
      "c:\\Users\\thu71\\AppData\\Local\\anaconda3\\envs\\scanpy\\Lib\\site-packages\\torchvision\\io\\image.py:13: UserWarning: Failed to load image Python extension: '[WinError 127] The specified procedure could not be found'If you don't plan on using image functionality from `torchvision.io`, you can ignore this warning. Otherwise, there might be something wrong with your environment. Did you have `libjpeg` or `libpng` installed before building `torchvision` from source?\n",
      "  warn(\n"
     ]
    }
   ],
   "source": [
    "import lightning.pytorch as pl\n",
    "import PPIGraph"
   ]
  },
  {
   "cell_type": "markdown",
   "metadata": {},
   "source": [
    "# Load dataset"
   ]
  },
  {
   "cell_type": "code",
   "execution_count": 7,
   "metadata": {},
   "outputs": [],
   "source": [
    "from torch_geometric.loader import DataLoader\n",
    "\n",
    "# Define condition mapping\n",
    "condition_mapping = {'HCC827Ctrl': 0, 'HCC827Osim': 1}\n",
    "\n",
    "# Load graph dataset and process if neede\n",
    "graph_path = data_dir / '9PPI_3D' / 'graphs' \n",
    "\n",
    "dataset = PPIGraph.GraphDataset(graph_path, 'raw', 'pt', condition_mapping=condition_mapping, n_c=2)\n",
    "train_set, val_set, test_set = PPIGraph.train_test_val_split(dataset)\n",
    "\n",
    "# Create Dataloader\n",
    "train_loader = DataLoader(train_set, batch_size=32, shuffle=True)\n",
    "val_loader = DataLoader(val_set, batch_size=32, shuffle=True)\n",
    "test_loader = DataLoader(test_set, batch_size=32, shuffle=False)\n"
   ]
  },
  {
   "cell_type": "code",
   "execution_count": 8,
   "metadata": {},
   "outputs": [
    {
     "name": "stdout",
     "output_type": "stream",
     "text": [
      "Dataset: GraphDataset(1451):\n",
      "======================\n",
      "Number of graphs: 1451\n",
      "Number of features: 9\n",
      "Number of classes: 2\n",
      "Train set: 697, test set: 580, val set: 174\n",
      "Step 1:\n",
      "=======\n",
      "Number of graphs in the current batch: 32\n",
      "DataBatch(edge_index=[2, 116430], pos=[8627, 3], labels=[8627, 9], nuclei=[8627], weight=[116430], condition=[32], fov=[32], id=[32], train_mask=[8627], test_mask=[8627], x=[8627, 9], y=[32], edge_weight=[116430], name=[32], batch=[8627], ptr=[33])\n",
      "\n"
     ]
    }
   ],
   "source": [
    "# Print some information on the dataset\n",
    "print(f'Dataset: {dataset}:')\n",
    "print('======================')\n",
    "print(f'Number of graphs: {len(dataset)}')\n",
    "print(f'Number of features: {dataset.num_features}')\n",
    "print(f'Number of classes: {dataset.num_classes}')\n",
    "\n",
    "print(f'Train set: {len(train_set)}, test set: {len(test_set)}, val set: {len(val_set)}')\n",
    "for step, data in enumerate(train_loader):\n",
    "\n",
    "    print(f'Step {step + 1}:')\n",
    "    print('=======')\n",
    "    print(f'Number of graphs in the current batch: {data.num_graphs}')\n",
    "    print(data)\n",
    "    print()\n",
    "    break"
   ]
  },
  {
   "cell_type": "code",
   "execution_count": 9,
   "metadata": {},
   "outputs": [
    {
     "name": "stdout",
     "output_type": "stream",
     "text": [
      "Dataset: GraphDataset(1451):\n",
      "======================\n",
      "Number of graphs: 1451\n",
      "Number of features: 9\n",
      "Number of classes: 2\n",
      "Train set: 697, test set: 580, val set: 174\n",
      "Step 1:\n",
      "=======\n",
      "Number of graphs in the current batch: 32\n",
      "DataBatch(edge_index=[2, 97724], pos=[7275, 3], labels=[7275, 9], nuclei=[7275], weight=[97724], condition=[32], fov=[32], id=[32], train_mask=[7275], test_mask=[7275], x=[7275, 9], y=[32], edge_weight=[97724], name=[32], batch=[7275], ptr=[33])\n",
      "\n"
     ]
    }
   ],
   "source": [
    "# Print some information on the dataset\n",
    "print(f'Dataset: {dataset}:')\n",
    "print('======================')\n",
    "print(f'Number of graphs: {len(dataset)}')\n",
    "print(f'Number of features: {dataset.num_features}')\n",
    "print(f'Number of classes: {dataset.num_classes}')\n",
    "\n",
    "print(f'Train set: {len(train_set)}, test set: {len(test_set)}, val set: {len(val_set)}')\n",
    "for step, data in enumerate(train_loader):\n",
    "\n",
    "    print(f'Step {step + 1}:')\n",
    "    print('=======')\n",
    "    print(f'Number of graphs in the current batch: {data.num_graphs}')\n",
    "    print(data)\n",
    "    print()\n",
    "    break"
   ]
  },
  {
   "cell_type": "markdown",
   "metadata": {},
   "source": [
    "# K-fold on filter dataset"
   ]
  },
  {
   "cell_type": "code",
   "execution_count": 10,
   "metadata": {},
   "outputs": [],
   "source": [
    "import itertools\n",
    "from lightning.pytorch.accelerators import find_usable_cuda_devices\n",
    "import wandb"
   ]
  },
  {
   "cell_type": "code",
   "execution_count": 11,
   "metadata": {},
   "outputs": [],
   "source": [
    "from sklearn.model_selection import KFold, StratifiedKFold\n",
    "from torch.utils.data import SubsetRandomSampler"
   ]
  },
  {
   "cell_type": "code",
   "execution_count": 12,
   "metadata": {},
   "outputs": [],
   "source": [
    "# Filter out by maximum number of counts per cell\n",
    "min_count = 100\n",
    "max_count = 400\n",
    "\n",
    "graph_path = data_dir / '9PPI_3D' / 'graphs' \n",
    "dataset = PPIGraph.GraphDataset(graph_path, 'raw', 'pt', condition_mapping=condition_mapping, n_c=2)\n",
    "\n",
    "# Create Dataloader\n",
    "loader = DataLoader(dataset, batch_size=1, shuffle=False)\n",
    "\n",
    "# Get Indices\n",
    "indices = []\n",
    "for step, data in enumerate(loader):\n",
    "    if len(data.x) <= min_count:\n",
    "        continue \n",
    "    \n",
    "    if (data.x.sum(axis=0) >= max_count).any():\n",
    "        continue\n",
    "    indices.append(step)\n",
    "    \n",
    "# Get subset dataset\n",
    "dataset_filtered = dataset.index_select(indices)\n"
   ]
  },
  {
   "cell_type": "code",
   "execution_count": 13,
   "metadata": {},
   "outputs": [
    {
     "data": {
      "text/plain": [
       "1298"
      ]
     },
     "execution_count": 13,
     "metadata": {},
     "output_type": "execute_result"
    }
   ],
   "source": [
    "len(dataset_filtered)"
   ]
  },
  {
   "cell_type": "code",
   "execution_count": 14,
   "metadata": {},
   "outputs": [],
   "source": [
    "dataset_name = '9PPI_3D'\n",
    "condition = 'Kfold'\n",
    "checkpoint_folder = (Path().cwd().parents[0]).absolute() / 'data' / '9PPI_3D' /\"saved_models\" / dataset_name / f\"Graph_GNNs_{condition}\" \n",
    "project_name = f'PLA_01122024_{dataset_name}_{condition}'"
   ]
  },
  {
   "cell_type": "code",
   "execution_count": 15,
   "metadata": {},
   "outputs": [
    {
     "name": "stderr",
     "output_type": "stream",
     "text": [
      "Global seed set to 42\n"
     ]
    }
   ],
   "source": [
    "AVAIL_GPUS = [0]\n",
    "\n",
    "# Setting the seed\n",
    "pl.seed_everything(42)\n",
    "epochs = 65\n",
    "\n",
    "# NUM_LAYERS = 2\n",
    "# HIDDEN_CHANNELS = 16\n",
    "# pools = ['mean', 'max', 'sum', 'attention', 'attention2']\n",
    "# num_layers = [2,3,4]\n",
    "# hiddens = [16, 32, 64]\n",
    "\n",
    "\n",
    "# # model = 'GAT'\n",
    "# model = 'GINConv'\n",
    "params = [[2,64,'attention','MLP'], \n",
    "[2,64,'mean','GraphConv'],\n",
    "[2,32,'attention2','GCN'],\n",
    "[4,32,'attention','GAT_norm'],\n",
    "[2,16,'mean','GINConv_norm']]"
   ]
  },
  {
   "cell_type": "code",
   "execution_count": 16,
   "metadata": {},
   "outputs": [
    {
     "data": {
      "text/plain": [
       "[[2, 64, 'attention', 'MLP'],\n",
       " [2, 64, 'mean', 'GraphConv'],\n",
       " [2, 32, 'attention2', 'GCN'],\n",
       " [4, 32, 'attention', 'GAT_norm'],\n",
       " [2, 16, 'mean', 'GINConv_norm']]"
      ]
     },
     "execution_count": 16,
     "metadata": {},
     "output_type": "execute_result"
    }
   ],
   "source": [
    "params"
   ]
  },
  {
   "cell_type": "code",
   "execution_count": 17,
   "metadata": {},
   "outputs": [
    {
     "name": "stderr",
     "output_type": "stream",
     "text": [
      "Failed to detect the name of this notebook, you can set it manually with the WANDB_NOTEBOOK_NAME environment variable to enable code saving.\n",
      "\u001b[34m\u001b[1mwandb\u001b[0m: Currently logged in as: \u001b[33mthoomas\u001b[0m. Use \u001b[1m`wandb login --relogin`\u001b[0m to force relogin\n"
     ]
    },
    {
     "data": {
      "text/html": [
       "wandb version 0.16.2 is available!  To upgrade, please run:\n",
       " $ pip install wandb --upgrade"
      ],
      "text/plain": [
       "<IPython.core.display.HTML object>"
      ]
     },
     "metadata": {},
     "output_type": "display_data"
    },
    {
     "data": {
      "text/html": [
       "Tracking run with wandb version 0.15.8"
      ],
      "text/plain": [
       "<IPython.core.display.HTML object>"
      ]
     },
     "metadata": {},
     "output_type": "display_data"
    },
    {
     "data": {
      "text/html": [
       "Run data is saved locally in <code>y:\\coskun-lab\\Thomas\\23_PLA_revision\\notebooks\\wandb\\run-20240113_232133-2lbmay6x</code>"
      ],
      "text/plain": [
       "<IPython.core.display.HTML object>"
      ]
     },
     "metadata": {},
     "output_type": "display_data"
    },
    {
     "data": {
      "text/html": [
       "Syncing run <strong><a href='https://wandb.ai/thoomas/PLA_01122024_9PPI_3D_Kfold/runs/2lbmay6x' target=\"_blank\">MLP_2_64_onehot_0</a></strong> to <a href='https://wandb.ai/thoomas/PLA_01122024_9PPI_3D_Kfold' target=\"_blank\">Weights & Biases</a> (<a href='https://wandb.me/run' target=\"_blank\">docs</a>)<br/>"
      ],
      "text/plain": [
       "<IPython.core.display.HTML object>"
      ]
     },
     "metadata": {},
     "output_type": "display_data"
    },
    {
     "data": {
      "text/html": [
       " View project at <a href='https://wandb.ai/thoomas/PLA_01122024_9PPI_3D_Kfold' target=\"_blank\">https://wandb.ai/thoomas/PLA_01122024_9PPI_3D_Kfold</a>"
      ],
      "text/plain": [
       "<IPython.core.display.HTML object>"
      ]
     },
     "metadata": {},
     "output_type": "display_data"
    },
    {
     "data": {
      "text/html": [
       " View run at <a href='https://wandb.ai/thoomas/PLA_01122024_9PPI_3D_Kfold/runs/2lbmay6x' target=\"_blank\">https://wandb.ai/thoomas/PLA_01122024_9PPI_3D_Kfold/runs/2lbmay6x</a>"
      ],
      "text/plain": [
       "<IPython.core.display.HTML object>"
      ]
     },
     "metadata": {},
     "output_type": "display_data"
    },
    {
     "name": "stderr",
     "output_type": "stream",
     "text": [
      "Global seed set to 42\n",
      "c:\\Users\\thu71\\AppData\\Local\\anaconda3\\envs\\scanpy\\Lib\\site-packages\\pytorch_lightning\\loggers\\wandb.py:397: UserWarning: There is a wandb run already in progress and newly created instances of `WandbLogger` will reuse this run. If this is not desired, call `wandb.finish()` before instantiating `WandbLogger`.\n",
      "  rank_zero_warn(\n",
      "GPU available: True (cuda), used: True\n",
      "TPU available: False, using: 0 TPU cores\n",
      "IPU available: False, using: 0 IPUs\n",
      "HPU available: False, using: 0 HPUs\n",
      "Global seed set to 42\n",
      "c:\\Users\\thu71\\AppData\\Local\\anaconda3\\envs\\scanpy\\Lib\\site-packages\\torch_geometric\\deprecation.py:22: UserWarning: 'nn.glob.GlobalAttention' is deprecated, use 'nn.aggr.AttentionalAggregation' instead\n",
      "  warnings.warn(out)\n"
     ]
    },
    {
     "name": "stdout",
     "output_type": "stream",
     "text": [
      "Using MLP\n"
     ]
    },
    {
     "name": "stderr",
     "output_type": "stream",
     "text": [
      "You are using a CUDA device ('NVIDIA RTX A2000 12GB') that has Tensor Cores. To properly utilize them, you should set `torch.set_float32_matmul_precision('medium' | 'high')` which will trade-off precision for performance. For more details, read https://pytorch.org/docs/stable/generated/torch.set_float32_matmul_precision.html#torch.set_float32_matmul_precision\n",
      "c:\\Users\\thu71\\AppData\\Local\\anaconda3\\envs\\scanpy\\Lib\\site-packages\\lightning\\pytorch\\callbacks\\model_checkpoint.py:617: UserWarning: Checkpoint directory \\\\bme-retromaster.ad.gatech.edu\\labs5\\coskun-lab\\Thomas\\23_PLA_revision\\data\\9PPI_3D\\saved_models\\9PPI_3D\\Graph_GNNs_Kfold\\MLP_2_64_onehot_0\\attention\\GraphLevelMLP exists and is not empty.\n",
      "  rank_zero_warn(f\"Checkpoint directory {dirpath} exists and is not empty.\")\n",
      "LOCAL_RANK: 0 - CUDA_VISIBLE_DEVICES: [0]\n",
      "\n",
      "   | Name        | Type             | Params\n",
      "--------------------------------------------------\n",
      "0  | x_embedding | Identity         | 0     \n",
      "1  | model       | MLPModel         | 4.8 K \n",
      "2  | head        | Sequential       | 2.1 K \n",
      "3  | loss_module | CrossEntropyLoss | 0     \n",
      "4  | train_acc   | BinaryAccuracy   | 0     \n",
      "5  | train_auroc | BinaryAUROC      | 0     \n",
      "6  | train_f1    | BinaryF1Score    | 0     \n",
      "7  | valid_acc   | BinaryAccuracy   | 0     \n",
      "8  | valid_auroc | BinaryAUROC      | 0     \n",
      "9  | valid_f1    | BinaryF1Score    | 0     \n",
      "10 | pool        | GlobalAttention  | 65    \n",
      "--------------------------------------------------\n",
      "7.0 K     Trainable params\n",
      "0         Non-trainable params\n",
      "7.0 K     Total params\n",
      "0.028     Total estimated model params size (MB)\n",
      "c:\\Users\\thu71\\AppData\\Local\\anaconda3\\envs\\scanpy\\Lib\\site-packages\\lightning\\pytorch\\trainer\\connectors\\data_connector.py:486: PossibleUserWarning: Your `val_dataloader`'s sampler has shuffling enabled, it is strongly recommended that you turn shuffling off for val/test dataloaders.\n",
      "  rank_zero_warn(\n",
      "c:\\Users\\thu71\\AppData\\Local\\anaconda3\\envs\\scanpy\\Lib\\site-packages\\lightning\\pytorch\\trainer\\connectors\\data_connector.py:438: PossibleUserWarning: The dataloader, val_dataloader, does not have many workers which may be a bottleneck. Consider increasing the value of the `num_workers` argument` (try 24 which is the number of cpus on this machine) in the `DataLoader` init to improve performance.\n",
      "  rank_zero_warn(\n",
      "c:\\Users\\thu71\\AppData\\Local\\anaconda3\\envs\\scanpy\\Lib\\site-packages\\lightning\\pytorch\\utilities\\data.py:76: UserWarning: Trying to infer the `batch_size` from an ambiguous collection. The batch size we found is 2. To avoid any miscalculations, use `self.log(..., batch_size=batch_size)`.\n",
      "  warning_cache.warn(\n",
      "c:\\Users\\thu71\\AppData\\Local\\anaconda3\\envs\\scanpy\\Lib\\site-packages\\lightning\\pytorch\\trainer\\connectors\\data_connector.py:438: PossibleUserWarning: The dataloader, train_dataloader, does not have many workers which may be a bottleneck. Consider increasing the value of the `num_workers` argument` (try 24 which is the number of cpus on this machine) in the `DataLoader` init to improve performance.\n",
      "  rank_zero_warn(\n",
      "c:\\Users\\thu71\\AppData\\Local\\anaconda3\\envs\\scanpy\\Lib\\site-packages\\lightning\\pytorch\\loops\\fit_loop.py:281: PossibleUserWarning: The number of training batches (9) is smaller than the logging interval Trainer(log_every_n_steps=10). Set a lower value for log_every_n_steps if you want to see logs for the training epoch.\n",
      "  rank_zero_warn(\n",
      "c:\\Users\\thu71\\AppData\\Local\\anaconda3\\envs\\scanpy\\Lib\\site-packages\\torchmetrics\\utilities\\prints.py:42: UserWarning: No positive samples in targets, true positive value should be meaningless. Returning zero tensor in true positive score\n",
      "  warnings.warn(*args, **kwargs)  # noqa: B028\n",
      "c:\\Users\\thu71\\AppData\\Local\\anaconda3\\envs\\scanpy\\Lib\\site-packages\\torchmetrics\\utilities\\prints.py:42: UserWarning: No negative samples in targets, false positive value should be meaningless. Returning zero tensor in false positive score\n",
      "  warnings.warn(*args, **kwargs)  # noqa: B028\n",
      "`Trainer.fit` stopped: `max_epochs=65` reached.\n"
     ]
    },
    {
     "data": {
      "text/html": [
       "Waiting for W&B process to finish... <strong style=\"color:green\">(success).</strong>"
      ],
      "text/plain": [
       "<IPython.core.display.HTML object>"
      ]
     },
     "metadata": {},
     "output_type": "display_data"
    },
    {
     "data": {
      "text/html": [
       "<style>\n",
       "    table.wandb td:nth-child(1) { padding: 0 10px; text-align: left ; width: auto;} td:nth-child(2) {text-align: left ; width: 100%}\n",
       "    .wandb-row { display: flex; flex-direction: row; flex-wrap: wrap; justify-content: flex-start; width: 100% }\n",
       "    .wandb-col { display: flex; flex-direction: column; flex-basis: 100%; flex: 1; padding: 10px; }\n",
       "    </style>\n",
       "<div class=\"wandb-row\"><div class=\"wandb-col\"><h3>Run history:</h3><br/><table class=\"wandb\"><tr><td>epoch</td><td>▁▁▁▂▂▂▂▂▂▃▃▃▃▃▄▄▄▄▄▄▅▅▅▅▅▅▆▆▆▆▆▇▇▇▇▇▇███</td></tr><tr><td>lr-Adam</td><td>▁▁▁▁▁▁▁▁▁▁▁▁▁▁▁▁▁▁▁▁▁▁▁▁▁▁▁▁▁▁▁▁▁▁▁▁▁▁▁▁</td></tr><tr><td>train_acc</td><td>▁▃▃▄▆▆▆▆▇▆▇▆▆▇▇▇▇▇▇▇▇▇▆▆▇▇▇▇▇▇▇▇▇▇█▇▆▇▇▇</td></tr><tr><td>train_auc</td><td>▁▂▃▄▆▇▇▇▇▇▇▇▇▇█▇█▇██▇▇▇██▇██▇▇▇█▇███▇▇▇█</td></tr><tr><td>train_f1</td><td>▂▁▃▂▆▇▇▇█▆█▆▇▇▇▇█▇█▇▇██▄▇▇▆█▇▇▇█▇▇█▇▆▇▇▇</td></tr><tr><td>train_loss_epoch</td><td>█▆▇▅▄▃▃▃▃▃▃▃▃▂▂▄▁▂▃▁▃▃▄▃▂▃▃▂▃▃▃▃▃▁▂▂▃▅▃▃</td></tr><tr><td>train_loss_step</td><td>▆█▇▆▅▇▂▅▅▅▆▄▅▅▅▅▅▆█▆▆▅▆▇▁▆▄▆▅▃▅▄▅▄▄▇▅▆▅▅</td></tr><tr><td>trainer/global_step</td><td>▁▁▁▂▂▁▁▁▁▃▃▂▂▃▃▄▂▂▄▄▅▅▂▅▅▆▃▃▃▆▆▃▃▃▇▇▃▃██</td></tr><tr><td>val_acc</td><td>▁▁▂▂▆▆▃▆▄▅▅▆▇▇▆▇▅▆▅▇▆▄▇▇▆▇▆▆▇▄▆▆▆▇██▇▆▆▆</td></tr><tr><td>val_auc</td><td>▂▂▁▂▇▇▇████▇▇▇▇█████████▇▇██████████████</td></tr><tr><td>val_f1</td><td>▁▁▂▂▅▆▃▆▄▇▅▇▆▆▇▆▅▇▅▇█▄▆▆▇▇▆▆▇▄▆▆▆▇▇▇█▅▆▆</td></tr><tr><td>val_loss_epoch</td><td>▆▇▆▆▄▄▆▅▂▂▇▇▁▆▂▁▄▆▂▅▅▅▃▂▁▄▄▆▄▃█▂▆▅▇▆▄▃▆▃</td></tr><tr><td>val_loss_step</td><td>▅▆▅▅▄▄▅▆▅▄▅▄▁▆▅▄▄▇▁▄▄▄▅▂▁▅▄▄▄▂▄▄▄▄█▇▅▄▄▄</td></tr></table><br/></div><div class=\"wandb-col\"><h3>Run summary:</h3><br/><table class=\"wandb\"><tr><td>epoch</td><td>64</td></tr><tr><td>lr-Adam</td><td>0.005</td></tr><tr><td>train_acc</td><td>0.69557</td></tr><tr><td>train_auc</td><td>0.7404</td></tr><tr><td>train_f1</td><td>0.57065</td></tr><tr><td>train_loss_epoch</td><td>0.60389</td></tr><tr><td>train_loss_step</td><td>0.59503</td></tr><tr><td>trainer/global_step</td><td>584</td></tr><tr><td>val_acc</td><td>0.70385</td></tr><tr><td>val_auc</td><td>0.74402</td></tr><tr><td>val_f1</td><td>0.44604</td></tr><tr><td>val_loss_epoch</td><td>0.55378</td></tr><tr><td>val_loss_step</td><td>0.50569</td></tr></table><br/></div></div>"
      ],
      "text/plain": [
       "<IPython.core.display.HTML object>"
      ]
     },
     "metadata": {},
     "output_type": "display_data"
    },
    {
     "data": {
      "text/html": [
       " View run <strong style=\"color:#cdcd00\">MLP_2_64_onehot_0</strong> at: <a href='https://wandb.ai/thoomas/PLA_01122024_9PPI_3D_Kfold/runs/2lbmay6x' target=\"_blank\">https://wandb.ai/thoomas/PLA_01122024_9PPI_3D_Kfold/runs/2lbmay6x</a><br/>Synced 6 W&B file(s), 0 media file(s), 0 artifact file(s) and 0 other file(s)"
      ],
      "text/plain": [
       "<IPython.core.display.HTML object>"
      ]
     },
     "metadata": {},
     "output_type": "display_data"
    },
    {
     "data": {
      "text/html": [
       "Find logs at: <code>.\\wandb\\run-20240113_232133-2lbmay6x\\logs</code>"
      ],
      "text/plain": [
       "<IPython.core.display.HTML object>"
      ]
     },
     "metadata": {},
     "output_type": "display_data"
    },
    {
     "data": {
      "text/html": [
       "wandb version 0.16.2 is available!  To upgrade, please run:\n",
       " $ pip install wandb --upgrade"
      ],
      "text/plain": [
       "<IPython.core.display.HTML object>"
      ]
     },
     "metadata": {},
     "output_type": "display_data"
    },
    {
     "data": {
      "text/html": [
       "Tracking run with wandb version 0.15.8"
      ],
      "text/plain": [
       "<IPython.core.display.HTML object>"
      ]
     },
     "metadata": {},
     "output_type": "display_data"
    },
    {
     "data": {
      "text/html": [
       "Run data is saved locally in <code>y:\\coskun-lab\\Thomas\\23_PLA_revision\\notebooks\\wandb\\run-20240113_233000-6pc8pe20</code>"
      ],
      "text/plain": [
       "<IPython.core.display.HTML object>"
      ]
     },
     "metadata": {},
     "output_type": "display_data"
    },
    {
     "data": {
      "text/html": [
       "Syncing run <strong><a href='https://wandb.ai/thoomas/PLA_01122024_9PPI_3D_Kfold/runs/6pc8pe20' target=\"_blank\">GraphConv_2_64_onehot_0</a></strong> to <a href='https://wandb.ai/thoomas/PLA_01122024_9PPI_3D_Kfold' target=\"_blank\">Weights & Biases</a> (<a href='https://wandb.me/run' target=\"_blank\">docs</a>)<br/>"
      ],
      "text/plain": [
       "<IPython.core.display.HTML object>"
      ]
     },
     "metadata": {},
     "output_type": "display_data"
    },
    {
     "data": {
      "text/html": [
       " View project at <a href='https://wandb.ai/thoomas/PLA_01122024_9PPI_3D_Kfold' target=\"_blank\">https://wandb.ai/thoomas/PLA_01122024_9PPI_3D_Kfold</a>"
      ],
      "text/plain": [
       "<IPython.core.display.HTML object>"
      ]
     },
     "metadata": {},
     "output_type": "display_data"
    },
    {
     "data": {
      "text/html": [
       " View run at <a href='https://wandb.ai/thoomas/PLA_01122024_9PPI_3D_Kfold/runs/6pc8pe20' target=\"_blank\">https://wandb.ai/thoomas/PLA_01122024_9PPI_3D_Kfold/runs/6pc8pe20</a>"
      ],
      "text/plain": [
       "<IPython.core.display.HTML object>"
      ]
     },
     "metadata": {},
     "output_type": "display_data"
    },
    {
     "name": "stderr",
     "output_type": "stream",
     "text": [
      "Global seed set to 42\n",
      "GPU available: True (cuda), used: True\n",
      "TPU available: False, using: 0 TPU cores\n",
      "IPU available: False, using: 0 IPUs\n",
      "HPU available: False, using: 0 HPUs\n",
      "Global seed set to 42\n",
      "c:\\Users\\thu71\\AppData\\Local\\anaconda3\\envs\\scanpy\\Lib\\site-packages\\lightning\\pytorch\\callbacks\\model_checkpoint.py:617: UserWarning: Checkpoint directory \\\\bme-retromaster.ad.gatech.edu\\labs5\\coskun-lab\\Thomas\\23_PLA_revision\\data\\9PPI_3D\\saved_models\\9PPI_3D\\Graph_GNNs_Kfold\\GraphConv_2_64_onehot_0\\mean\\GraphLevelGraphConv exists and is not empty.\n",
      "  rank_zero_warn(f\"Checkpoint directory {dirpath} exists and is not empty.\")\n",
      "LOCAL_RANK: 0 - CUDA_VISIBLE_DEVICES: [0]\n",
      "\n",
      "  | Name        | Type             | Params\n",
      "-------------------------------------------------\n",
      "0 | x_embedding | Identity         | 0     \n",
      "1 | model       | GNNModel         | 9.6 K \n",
      "2 | head        | Sequential       | 2.1 K \n",
      "3 | loss_module | CrossEntropyLoss | 0     \n",
      "4 | train_acc   | BinaryAccuracy   | 0     \n",
      "5 | train_auroc | BinaryAUROC      | 0     \n",
      "6 | train_f1    | BinaryF1Score    | 0     \n",
      "7 | valid_acc   | BinaryAccuracy   | 0     \n",
      "8 | valid_auroc | BinaryAUROC      | 0     \n",
      "9 | valid_f1    | BinaryF1Score    | 0     \n",
      "-------------------------------------------------\n",
      "11.7 K    Trainable params\n",
      "0         Non-trainable params\n",
      "11.7 K    Total params\n",
      "0.047     Total estimated model params size (MB)\n"
     ]
    },
    {
     "name": "stdout",
     "output_type": "stream",
     "text": [
      "Using GNN\n"
     ]
    },
    {
     "name": "stderr",
     "output_type": "stream",
     "text": [
      "`Trainer.fit` stopped: `max_epochs=65` reached.\n"
     ]
    },
    {
     "data": {
      "text/html": [
       "Waiting for W&B process to finish... <strong style=\"color:green\">(success).</strong>"
      ],
      "text/plain": [
       "<IPython.core.display.HTML object>"
      ]
     },
     "metadata": {},
     "output_type": "display_data"
    },
    {
     "data": {
      "application/vnd.jupyter.widget-view+json": {
       "model_id": "735efc892bf34a6f881da3a255fadfb5",
       "version_major": 2,
       "version_minor": 0
      },
      "text/plain": [
       "VBox(children=(Label(value='0.001 MB of 0.001 MB uploaded (0.000 MB deduped)\\r'), FloatProgress(value=1.0, max…"
      ]
     },
     "metadata": {},
     "output_type": "display_data"
    },
    {
     "data": {
      "text/html": [
       "<style>\n",
       "    table.wandb td:nth-child(1) { padding: 0 10px; text-align: left ; width: auto;} td:nth-child(2) {text-align: left ; width: 100%}\n",
       "    .wandb-row { display: flex; flex-direction: row; flex-wrap: wrap; justify-content: flex-start; width: 100% }\n",
       "    .wandb-col { display: flex; flex-direction: column; flex-basis: 100%; flex: 1; padding: 10px; }\n",
       "    </style>\n",
       "<div class=\"wandb-row\"><div class=\"wandb-col\"><h3>Run history:</h3><br/><table class=\"wandb\"><tr><td>epoch</td><td>▁▁▁▂▂▂▂▂▂▃▃▃▃▃▄▄▄▄▄▄▅▅▅▅▅▅▆▆▆▆▆▇▇▇▇▇▇███</td></tr><tr><td>lr-Adam</td><td>▁▁▁▁▁▁▁▁▁▁▁▁▁▁▁▁▁▁▁▁▁▁▁▁▁▁▁▁▁▁▁▁▁▁▁▁▁▁▁▁</td></tr><tr><td>train_acc</td><td>▁▃▅▅▆▆▆▇▇▇▆▆▇▇▇▇▇▆▇▇▇▇▇▇▇▆█▇███▇█▇▇▇▇▇██</td></tr><tr><td>train_auc</td><td>▁▃▅▅▆▆▇▇▇▇▇▇▇█▇▇█▇▇███▇██▇██████████████</td></tr><tr><td>train_f1</td><td>▁▅▆▆▇▇▇▇▇▇▆▇▇▇▇▇█▇▇▇▇▇██▇▇█▇███▇██▇▇████</td></tr><tr><td>train_loss_epoch</td><td>█▇▆▆▆▅▄▃▄▃▄▃▂▂▂▂▂▃▂▂▂▂▃▂▁▃▂▂▂▁▂▂▁▂▁▂▄▃▁▃</td></tr><tr><td>train_loss_step</td><td>█▆▇▇▇▆▇▆▄▄▄▅▃▆▄▅▄▅▃▂▄▄▅▄▁▃▄▃▄▅▄▄▃▄▅▅▅▄▅▃</td></tr><tr><td>trainer/global_step</td><td>▁▁▁▂▂▁▁▁▁▃▃▂▂▃▃▄▂▂▄▄▅▅▂▅▅▆▃▃▃▆▆▃▃▃▇▇▃▃██</td></tr><tr><td>val_acc</td><td>▁▂▃▄▄▆▆▇▅▇▆▇▆▇▇▆▇▇▇▇▇████▇▆████▇▇▆▇▆▇▆▇▇</td></tr><tr><td>val_auc</td><td>▁▁▄▅▆▆▆▆▆▇▆▇▆▇▇▇▇▇▇▇▇████████████████▆█▇</td></tr><tr><td>val_f1</td><td>▁▃▄▅▅▇▇▇▆█▇█▇██▇██▇█▇██████████████▇█▇██</td></tr><tr><td>val_loss_epoch</td><td>▆▄▅▄▃▃▃▇▄▄▆▃▃▁▄▁▃█▂▁▃▃▁▆▄▃▃▃▃▄▂▃▂▂▅▃▅▄▆█</td></tr><tr><td>val_loss_step</td><td>▄▃▃▃▃▃▃▇▃▃▃▃▃▁▃▃▃█▂▃▃▃▃▆▄▃▃▃▃▅▃▃▃▄▆▄▃▃▃▃</td></tr></table><br/></div><div class=\"wandb-col\"><h3>Run summary:</h3><br/><table class=\"wandb\"><tr><td>epoch</td><td>64</td></tr><tr><td>lr-Adam</td><td>0.005</td></tr><tr><td>train_acc</td><td>0.83815</td></tr><tr><td>train_auc</td><td>0.90327</td></tr><tr><td>train_f1</td><td>0.79612</td></tr><tr><td>train_loss_epoch</td><td>0.43279</td></tr><tr><td>train_loss_step</td><td>0.34191</td></tr><tr><td>trainer/global_step</td><td>584</td></tr><tr><td>val_acc</td><td>0.81154</td></tr><tr><td>val_auc</td><td>0.87251</td></tr><tr><td>val_f1</td><td>0.72928</td></tr><tr><td>val_loss_epoch</td><td>0.81371</td></tr><tr><td>val_loss_step</td><td>1.56622</td></tr></table><br/></div></div>"
      ],
      "text/plain": [
       "<IPython.core.display.HTML object>"
      ]
     },
     "metadata": {},
     "output_type": "display_data"
    },
    {
     "data": {
      "text/html": [
       " View run <strong style=\"color:#cdcd00\">GraphConv_2_64_onehot_0</strong> at: <a href='https://wandb.ai/thoomas/PLA_01122024_9PPI_3D_Kfold/runs/6pc8pe20' target=\"_blank\">https://wandb.ai/thoomas/PLA_01122024_9PPI_3D_Kfold/runs/6pc8pe20</a><br/>Synced 6 W&B file(s), 0 media file(s), 0 artifact file(s) and 0 other file(s)"
      ],
      "text/plain": [
       "<IPython.core.display.HTML object>"
      ]
     },
     "metadata": {},
     "output_type": "display_data"
    },
    {
     "data": {
      "text/html": [
       "Find logs at: <code>.\\wandb\\run-20240113_233000-6pc8pe20\\logs</code>"
      ],
      "text/plain": [
       "<IPython.core.display.HTML object>"
      ]
     },
     "metadata": {},
     "output_type": "display_data"
    },
    {
     "data": {
      "application/vnd.jupyter.widget-view+json": {
       "model_id": "02f150884243496197bb1745542b4a18",
       "version_major": 2,
       "version_minor": 0
      },
      "text/plain": [
       "VBox(children=(Label(value='Waiting for wandb.init()...\\r'), FloatProgress(value=0.016933333330477276, max=1.0…"
      ]
     },
     "metadata": {},
     "output_type": "display_data"
    },
    {
     "data": {
      "text/html": [
       "wandb version 0.16.2 is available!  To upgrade, please run:\n",
       " $ pip install wandb --upgrade"
      ],
      "text/plain": [
       "<IPython.core.display.HTML object>"
      ]
     },
     "metadata": {},
     "output_type": "display_data"
    },
    {
     "data": {
      "text/html": [
       "Tracking run with wandb version 0.15.8"
      ],
      "text/plain": [
       "<IPython.core.display.HTML object>"
      ]
     },
     "metadata": {},
     "output_type": "display_data"
    },
    {
     "data": {
      "text/html": [
       "Run data is saved locally in <code>y:\\coskun-lab\\Thomas\\23_PLA_revision\\notebooks\\wandb\\run-20240113_233947-ajfza65v</code>"
      ],
      "text/plain": [
       "<IPython.core.display.HTML object>"
      ]
     },
     "metadata": {},
     "output_type": "display_data"
    },
    {
     "data": {
      "text/html": [
       "Syncing run <strong><a href='https://wandb.ai/thoomas/PLA_01122024_9PPI_3D_Kfold/runs/ajfza65v' target=\"_blank\">GCN_2_32_onehot_0</a></strong> to <a href='https://wandb.ai/thoomas/PLA_01122024_9PPI_3D_Kfold' target=\"_blank\">Weights & Biases</a> (<a href='https://wandb.me/run' target=\"_blank\">docs</a>)<br/>"
      ],
      "text/plain": [
       "<IPython.core.display.HTML object>"
      ]
     },
     "metadata": {},
     "output_type": "display_data"
    },
    {
     "data": {
      "text/html": [
       " View project at <a href='https://wandb.ai/thoomas/PLA_01122024_9PPI_3D_Kfold' target=\"_blank\">https://wandb.ai/thoomas/PLA_01122024_9PPI_3D_Kfold</a>"
      ],
      "text/plain": [
       "<IPython.core.display.HTML object>"
      ]
     },
     "metadata": {},
     "output_type": "display_data"
    },
    {
     "data": {
      "text/html": [
       " View run at <a href='https://wandb.ai/thoomas/PLA_01122024_9PPI_3D_Kfold/runs/ajfza65v' target=\"_blank\">https://wandb.ai/thoomas/PLA_01122024_9PPI_3D_Kfold/runs/ajfza65v</a>"
      ],
      "text/plain": [
       "<IPython.core.display.HTML object>"
      ]
     },
     "metadata": {},
     "output_type": "display_data"
    },
    {
     "name": "stderr",
     "output_type": "stream",
     "text": [
      "Global seed set to 42\n",
      "GPU available: True (cuda), used: True\n",
      "TPU available: False, using: 0 TPU cores\n",
      "IPU available: False, using: 0 IPUs\n",
      "HPU available: False, using: 0 HPUs\n",
      "Global seed set to 42\n",
      "c:\\Users\\thu71\\AppData\\Local\\anaconda3\\envs\\scanpy\\Lib\\site-packages\\lightning\\pytorch\\callbacks\\model_checkpoint.py:617: UserWarning: Checkpoint directory \\\\bme-retromaster.ad.gatech.edu\\labs5\\coskun-lab\\Thomas\\23_PLA_revision\\data\\9PPI_3D\\saved_models\\9PPI_3D\\Graph_GNNs_Kfold\\GCN_2_32_onehot_0\\attention2\\GraphLevelGCN exists and is not empty.\n",
      "  rank_zero_warn(f\"Checkpoint directory {dirpath} exists and is not empty.\")\n",
      "LOCAL_RANK: 0 - CUDA_VISIBLE_DEVICES: [0]\n",
      "\n",
      "   | Name        | Type             | Params\n",
      "--------------------------------------------------\n",
      "0  | x_embedding | Identity         | 0     \n",
      "1  | model       | GNNModel         | 1.4 K \n",
      "2  | head        | Sequential       | 562   \n",
      "3  | loss_module | CrossEntropyLoss | 0     \n",
      "4  | train_acc   | BinaryAccuracy   | 0     \n",
      "5  | train_auroc | BinaryAUROC      | 0     \n",
      "6  | train_f1    | BinaryF1Score    | 0     \n",
      "7  | valid_acc   | BinaryAccuracy   | 0     \n",
      "8  | valid_auroc | BinaryAUROC      | 0     \n",
      "9  | valid_f1    | BinaryF1Score    | 0     \n",
      "10 | pool        | Attention_module | 1.1 K \n",
      "--------------------------------------------------\n",
      "3.1 K     Trainable params\n",
      "0         Non-trainable params\n",
      "3.1 K     Total params\n",
      "0.012     Total estimated model params size (MB)\n"
     ]
    },
    {
     "name": "stdout",
     "output_type": "stream",
     "text": [
      "Using GNN\n"
     ]
    },
    {
     "name": "stderr",
     "output_type": "stream",
     "text": [
      "`Trainer.fit` stopped: `max_epochs=65` reached.\n"
     ]
    },
    {
     "data": {
      "text/html": [
       "Waiting for W&B process to finish... <strong style=\"color:green\">(success).</strong>"
      ],
      "text/plain": [
       "<IPython.core.display.HTML object>"
      ]
     },
     "metadata": {},
     "output_type": "display_data"
    },
    {
     "data": {
      "application/vnd.jupyter.widget-view+json": {
       "model_id": "f5dc7b98ac2348fabfdad8d94a898282",
       "version_major": 2,
       "version_minor": 0
      },
      "text/plain": [
       "VBox(children=(Label(value='0.001 MB of 0.001 MB uploaded (0.000 MB deduped)\\r'), FloatProgress(value=1.0, max…"
      ]
     },
     "metadata": {},
     "output_type": "display_data"
    },
    {
     "data": {
      "text/html": [
       "<style>\n",
       "    table.wandb td:nth-child(1) { padding: 0 10px; text-align: left ; width: auto;} td:nth-child(2) {text-align: left ; width: 100%}\n",
       "    .wandb-row { display: flex; flex-direction: row; flex-wrap: wrap; justify-content: flex-start; width: 100% }\n",
       "    .wandb-col { display: flex; flex-direction: column; flex-basis: 100%; flex: 1; padding: 10px; }\n",
       "    </style>\n",
       "<div class=\"wandb-row\"><div class=\"wandb-col\"><h3>Run history:</h3><br/><table class=\"wandb\"><tr><td>epoch</td><td>▁▁▁▂▂▂▂▂▂▃▃▃▃▃▄▄▄▄▄▄▅▅▅▅▅▅▆▆▆▆▆▇▇▇▇▇▇███</td></tr><tr><td>lr-Adam</td><td>▁▁▁▁▁▁▁▁▁▁▁▁▁▁▁▁▁▁▁▁▁▁▁▁▁▁▁▁▁▁▁▁▁▁▁▁▁▁▁▁</td></tr><tr><td>train_acc</td><td>▁▆▇▆▆▇▇▇▇█▇▆▇█▇▇▇▇▇▇▇▇▇▇▇▇█▇██▇██████▇▇█</td></tr><tr><td>train_auc</td><td>▁▆▇▇▇▇▇▇▇▇▇▇▇███▇▇▇███████████▇█████████</td></tr><tr><td>train_f1</td><td>▁▄▆▅▆▆▆▆▆▇▅▅▇▇▆▇▇▅▆▇▆▆▆▇▇▆█▆▇▇▇▇█▇▇█▇▆▆▇</td></tr><tr><td>train_loss_epoch</td><td>█▅▄▅▄▃▃▃▂▂▃▃▃▂▂▂▃▂▂▃▁▃▂▂▂▂▂▂▂▃▃▂▂▂▂▄▃▂▂▁</td></tr><tr><td>train_loss_step</td><td>█▆▇▆▇▄▃▃█▅█▃▇▇▇▃▅█▃▄▆▃▃▅▅▂▆▃▄▄▂▃▅▁▃▄▅▁▄▄</td></tr><tr><td>trainer/global_step</td><td>▁▁▁▂▂▁▁▁▁▃▃▂▂▃▃▄▂▂▄▄▅▅▂▅▅▆▃▃▃▆▆▃▃▃▇▇▃▃██</td></tr><tr><td>val_acc</td><td>▁▁▁▂▃▅▆▇▇█▆▆██▇▇█▆▆█▆▇▆▇▇▇▇▆▆▇▇▇▇▇▇▇▆▇▇█</td></tr><tr><td>val_auc</td><td>▁▅▅▅▆▇▇▇▇▇▇▇▇▇▇▇█▇▇▇▇▇█▇█████▇▇█▇███████</td></tr><tr><td>val_f1</td><td>▁▁▁▃▄▆▇███▇▇█████▇▇█▇█▇██▇▇▇███▇████▆█▇█</td></tr><tr><td>val_loss_epoch</td><td>▅▄▃▄▅▂▁▃▂▃▂▂▃▄▂▂▂▄▄▂▂▃▄▂▄▂▁▁█▃▂▂▂▃▃▂▃▂▄▁</td></tr><tr><td>val_loss_step</td><td>▃▂▃▃▂▂▁▃▂▂▂▂▃▅▂▂▂▄▄▂▂▂▂▂▃▂▂▂█▂▂▂▂▂▃▁▂▂▂▂</td></tr></table><br/></div><div class=\"wandb-col\"><h3>Run summary:</h3><br/><table class=\"wandb\"><tr><td>epoch</td><td>64</td></tr><tr><td>lr-Adam</td><td>0.005</td></tr><tr><td>train_acc</td><td>0.8025</td></tr><tr><td>train_auc</td><td>0.86778</td></tr><tr><td>train_f1</td><td>0.73062</td></tr><tr><td>train_loss_epoch</td><td>0.4328</td></tr><tr><td>train_loss_step</td><td>0.45482</td></tr><tr><td>trainer/global_step</td><td>584</td></tr><tr><td>val_acc</td><td>0.80769</td></tr><tr><td>val_auc</td><td>0.85708</td></tr><tr><td>val_f1</td><td>0.72527</td></tr><tr><td>val_loss_epoch</td><td>0.36954</td></tr><tr><td>val_loss_step</td><td>0.12549</td></tr></table><br/></div></div>"
      ],
      "text/plain": [
       "<IPython.core.display.HTML object>"
      ]
     },
     "metadata": {},
     "output_type": "display_data"
    },
    {
     "data": {
      "text/html": [
       " View run <strong style=\"color:#cdcd00\">GCN_2_32_onehot_0</strong> at: <a href='https://wandb.ai/thoomas/PLA_01122024_9PPI_3D_Kfold/runs/ajfza65v' target=\"_blank\">https://wandb.ai/thoomas/PLA_01122024_9PPI_3D_Kfold/runs/ajfza65v</a><br/>Synced 6 W&B file(s), 0 media file(s), 0 artifact file(s) and 0 other file(s)"
      ],
      "text/plain": [
       "<IPython.core.display.HTML object>"
      ]
     },
     "metadata": {},
     "output_type": "display_data"
    },
    {
     "data": {
      "text/html": [
       "Find logs at: <code>.\\wandb\\run-20240113_233947-ajfza65v\\logs</code>"
      ],
      "text/plain": [
       "<IPython.core.display.HTML object>"
      ]
     },
     "metadata": {},
     "output_type": "display_data"
    },
    {
     "data": {
      "application/vnd.jupyter.widget-view+json": {
       "model_id": "2f5e56b6482540deabf365eafa63d176",
       "version_major": 2,
       "version_minor": 0
      },
      "text/plain": [
       "VBox(children=(Label(value='Waiting for wandb.init()...\\r'), FloatProgress(value=0.016666666666666666, max=1.0…"
      ]
     },
     "metadata": {},
     "output_type": "display_data"
    },
    {
     "data": {
      "text/html": [
       "wandb version 0.16.2 is available!  To upgrade, please run:\n",
       " $ pip install wandb --upgrade"
      ],
      "text/plain": [
       "<IPython.core.display.HTML object>"
      ]
     },
     "metadata": {},
     "output_type": "display_data"
    },
    {
     "data": {
      "text/html": [
       "Tracking run with wandb version 0.15.8"
      ],
      "text/plain": [
       "<IPython.core.display.HTML object>"
      ]
     },
     "metadata": {},
     "output_type": "display_data"
    },
    {
     "data": {
      "text/html": [
       "Run data is saved locally in <code>y:\\coskun-lab\\Thomas\\23_PLA_revision\\notebooks\\wandb\\run-20240113_234804-kvf53dw7</code>"
      ],
      "text/plain": [
       "<IPython.core.display.HTML object>"
      ]
     },
     "metadata": {},
     "output_type": "display_data"
    },
    {
     "data": {
      "text/html": [
       "Syncing run <strong><a href='https://wandb.ai/thoomas/PLA_01122024_9PPI_3D_Kfold/runs/kvf53dw7' target=\"_blank\">GAT_norm_4_32_onehot_0</a></strong> to <a href='https://wandb.ai/thoomas/PLA_01122024_9PPI_3D_Kfold' target=\"_blank\">Weights & Biases</a> (<a href='https://wandb.me/run' target=\"_blank\">docs</a>)<br/>"
      ],
      "text/plain": [
       "<IPython.core.display.HTML object>"
      ]
     },
     "metadata": {},
     "output_type": "display_data"
    },
    {
     "data": {
      "text/html": [
       " View project at <a href='https://wandb.ai/thoomas/PLA_01122024_9PPI_3D_Kfold' target=\"_blank\">https://wandb.ai/thoomas/PLA_01122024_9PPI_3D_Kfold</a>"
      ],
      "text/plain": [
       "<IPython.core.display.HTML object>"
      ]
     },
     "metadata": {},
     "output_type": "display_data"
    },
    {
     "data": {
      "text/html": [
       " View run at <a href='https://wandb.ai/thoomas/PLA_01122024_9PPI_3D_Kfold/runs/kvf53dw7' target=\"_blank\">https://wandb.ai/thoomas/PLA_01122024_9PPI_3D_Kfold/runs/kvf53dw7</a>"
      ],
      "text/plain": [
       "<IPython.core.display.HTML object>"
      ]
     },
     "metadata": {},
     "output_type": "display_data"
    },
    {
     "name": "stderr",
     "output_type": "stream",
     "text": [
      "Global seed set to 42\n",
      "GPU available: True (cuda), used: True\n",
      "TPU available: False, using: 0 TPU cores\n",
      "IPU available: False, using: 0 IPUs\n",
      "HPU available: False, using: 0 HPUs\n",
      "Global seed set to 42\n",
      "c:\\Users\\thu71\\AppData\\Local\\anaconda3\\envs\\scanpy\\Lib\\site-packages\\lightning\\pytorch\\callbacks\\model_checkpoint.py:617: UserWarning: Checkpoint directory \\\\bme-retromaster.ad.gatech.edu\\labs5\\coskun-lab\\Thomas\\23_PLA_revision\\data\\9PPI_3D\\saved_models\\9PPI_3D\\Graph_GNNs_Kfold\\GAT_norm_4_32_onehot_0\\attention\\GraphLevelGAT_norm exists and is not empty.\n",
      "  rank_zero_warn(f\"Checkpoint directory {dirpath} exists and is not empty.\")\n",
      "LOCAL_RANK: 0 - CUDA_VISIBLE_DEVICES: [0]\n",
      "\n",
      "   | Name        | Type             | Params\n",
      "--------------------------------------------------\n",
      "0  | x_embedding | Identity         | 0     \n",
      "1  | model       | GAT              | 23.1 K\n",
      "2  | head        | Sequential       | 562   \n",
      "3  | loss_module | CrossEntropyLoss | 0     \n",
      "4  | train_acc   | BinaryAccuracy   | 0     \n",
      "5  | train_auroc | BinaryAUROC      | 0     \n",
      "6  | train_f1    | BinaryF1Score    | 0     \n",
      "7  | valid_acc   | BinaryAccuracy   | 0     \n",
      "8  | valid_auroc | BinaryAUROC      | 0     \n",
      "9  | valid_f1    | BinaryF1Score    | 0     \n",
      "10 | pool        | GlobalAttention  | 33    \n",
      "--------------------------------------------------\n",
      "23.7 K    Trainable params\n",
      "0         Non-trainable params\n",
      "23.7 K    Total params\n",
      "0.095     Total estimated model params size (MB)\n"
     ]
    },
    {
     "name": "stdout",
     "output_type": "stream",
     "text": [
      "Using GAT\n"
     ]
    },
    {
     "name": "stderr",
     "output_type": "stream",
     "text": [
      "`Trainer.fit` stopped: `max_epochs=65` reached.\n"
     ]
    },
    {
     "data": {
      "text/html": [
       "Waiting for W&B process to finish... <strong style=\"color:green\">(success).</strong>"
      ],
      "text/plain": [
       "<IPython.core.display.HTML object>"
      ]
     },
     "metadata": {},
     "output_type": "display_data"
    },
    {
     "data": {
      "text/html": [
       "<style>\n",
       "    table.wandb td:nth-child(1) { padding: 0 10px; text-align: left ; width: auto;} td:nth-child(2) {text-align: left ; width: 100%}\n",
       "    .wandb-row { display: flex; flex-direction: row; flex-wrap: wrap; justify-content: flex-start; width: 100% }\n",
       "    .wandb-col { display: flex; flex-direction: column; flex-basis: 100%; flex: 1; padding: 10px; }\n",
       "    </style>\n",
       "<div class=\"wandb-row\"><div class=\"wandb-col\"><h3>Run history:</h3><br/><table class=\"wandb\"><tr><td>epoch</td><td>▁▁▁▂▂▂▂▂▂▃▃▃▃▃▄▄▄▄▄▄▅▅▅▅▅▅▆▆▆▆▆▇▇▇▇▇▇███</td></tr><tr><td>lr-Adam</td><td>▁▁▁▁▁▁▁▁▁▁▁▁▁▁▁▁▁▁▁▁▁▁▁▁▁▁▁▁▁▁▁▁▁▁▁▁▁▁▁▁</td></tr><tr><td>train_acc</td><td>▁▅▆▆▇▇▇▆▇▇▇▇▇▇▇▇▇█▇█▇█▇▇▇█▇█▇██▇▇███▇███</td></tr><tr><td>train_auc</td><td>▁▅▆▆▆▆▇▆▇▇▇▇▇▇▇▇▇█▇█▇▇█▇▇█▇█▇██▇▇███████</td></tr><tr><td>train_f1</td><td>▁▂▅▅▆▆▆▆▇▅▆▇▇▆▆▆▇█▇▇▇▇▇▅▆▇▅▇▇▇▇▇▇▇▇██▇█▇</td></tr><tr><td>train_loss_epoch</td><td>█▅▄▄▄▄▄▄▄▄▂▃▄▃▄▂▄▄▂▂▃▂▃▃▃▂▃▂▂▂▂▃▂▂▁▁▂▂▃▂</td></tr><tr><td>train_loss_step</td><td>▄▃▂▃▃▄▃▃▃▃▃▃█▃▂▂▂▃▃▃▃▃▃▂▄▂▃▂▄▂▂▂▂▃▃▃▂▂▁▁</td></tr><tr><td>trainer/global_step</td><td>▁▁▁▂▂▁▁▁▁▃▃▂▂▃▃▄▂▂▄▄▅▅▂▅▅▆▃▃▃▆▆▃▃▃▇▇▃▃██</td></tr><tr><td>val_acc</td><td>▁▁▃▄▅▅▅▆▄▃▄▇▆▆▄▄▃▄▄▄▃▂▄▅▃▃▃▆▄▇▅▅▆▄▆██▅▅▆</td></tr><tr><td>val_auc</td><td>▁▂▄▅▆▆▆▆▇▆▇▇▇▇▇▇▇▇▇▇▇▇▇█▇▇▇▇▇██▇▇▇▇█▇▇▇█</td></tr><tr><td>val_f1</td><td>▁▁▃▄▅▅▅▅▃▃▄▆▆▆▄▄▃▅▅▄▄▃▅▅▄▄▄▆▄▇▅▅▆▅▇▇█▅▆▆</td></tr><tr><td>val_loss_epoch</td><td>▃▂▃▂▂▄▅▁▅▄▄▂▁▃▂▅▄▇▆▅█▄▄▂▂▅▂▁▃▄▁▄▁▄▆▅▂▇▂▂</td></tr><tr><td>val_loss_step</td><td>▃▃▃▃▃▃▄▁▃▄▄▄▁▃▃▅▃█▆▄▄▄▅▃▁▄▃▃▃▅▄▃▃▅▇▆▃▃▃▄</td></tr></table><br/></div><div class=\"wandb-col\"><h3>Run summary:</h3><br/><table class=\"wandb\"><tr><td>epoch</td><td>64</td></tr><tr><td>lr-Adam</td><td>0.005</td></tr><tr><td>train_acc</td><td>0.76782</td></tr><tr><td>train_auc</td><td>0.81755</td></tr><tr><td>train_f1</td><td>0.68164</td></tr><tr><td>train_loss_epoch</td><td>0.50872</td></tr><tr><td>train_loss_step</td><td>0.43897</td></tr><tr><td>trainer/global_step</td><td>584</td></tr><tr><td>val_acc</td><td>0.68846</td></tr><tr><td>val_auc</td><td>0.81715</td></tr><tr><td>val_f1</td><td>0.352</td></tr><tr><td>val_loss_epoch</td><td>0.55693</td></tr><tr><td>val_loss_step</td><td>0.00962</td></tr></table><br/></div></div>"
      ],
      "text/plain": [
       "<IPython.core.display.HTML object>"
      ]
     },
     "metadata": {},
     "output_type": "display_data"
    },
    {
     "data": {
      "text/html": [
       " View run <strong style=\"color:#cdcd00\">GAT_norm_4_32_onehot_0</strong> at: <a href='https://wandb.ai/thoomas/PLA_01122024_9PPI_3D_Kfold/runs/kvf53dw7' target=\"_blank\">https://wandb.ai/thoomas/PLA_01122024_9PPI_3D_Kfold/runs/kvf53dw7</a><br/>Synced 6 W&B file(s), 0 media file(s), 0 artifact file(s) and 0 other file(s)"
      ],
      "text/plain": [
       "<IPython.core.display.HTML object>"
      ]
     },
     "metadata": {},
     "output_type": "display_data"
    },
    {
     "data": {
      "text/html": [
       "Find logs at: <code>.\\wandb\\run-20240113_234804-kvf53dw7\\logs</code>"
      ],
      "text/plain": [
       "<IPython.core.display.HTML object>"
      ]
     },
     "metadata": {},
     "output_type": "display_data"
    },
    {
     "data": {
      "application/vnd.jupyter.widget-view+json": {
       "model_id": "d37fa66497174d3d8b251e528b4e0308",
       "version_major": 2,
       "version_minor": 0
      },
      "text/plain": [
       "VBox(children=(Label(value='Waiting for wandb.init()...\\r'), FloatProgress(value=0.016666666666666666, max=1.0…"
      ]
     },
     "metadata": {},
     "output_type": "display_data"
    },
    {
     "data": {
      "text/html": [
       "wandb version 0.16.2 is available!  To upgrade, please run:\n",
       " $ pip install wandb --upgrade"
      ],
      "text/plain": [
       "<IPython.core.display.HTML object>"
      ]
     },
     "metadata": {},
     "output_type": "display_data"
    },
    {
     "data": {
      "text/html": [
       "Tracking run with wandb version 0.15.8"
      ],
      "text/plain": [
       "<IPython.core.display.HTML object>"
      ]
     },
     "metadata": {},
     "output_type": "display_data"
    },
    {
     "data": {
      "text/html": [
       "Run data is saved locally in <code>y:\\coskun-lab\\Thomas\\23_PLA_revision\\notebooks\\wandb\\run-20240114_000246-ax8y59fk</code>"
      ],
      "text/plain": [
       "<IPython.core.display.HTML object>"
      ]
     },
     "metadata": {},
     "output_type": "display_data"
    },
    {
     "data": {
      "text/html": [
       "Syncing run <strong><a href='https://wandb.ai/thoomas/PLA_01122024_9PPI_3D_Kfold/runs/ax8y59fk' target=\"_blank\">GINConv_norm_2_16_onehot_0</a></strong> to <a href='https://wandb.ai/thoomas/PLA_01122024_9PPI_3D_Kfold' target=\"_blank\">Weights & Biases</a> (<a href='https://wandb.me/run' target=\"_blank\">docs</a>)<br/>"
      ],
      "text/plain": [
       "<IPython.core.display.HTML object>"
      ]
     },
     "metadata": {},
     "output_type": "display_data"
    },
    {
     "data": {
      "text/html": [
       " View project at <a href='https://wandb.ai/thoomas/PLA_01122024_9PPI_3D_Kfold' target=\"_blank\">https://wandb.ai/thoomas/PLA_01122024_9PPI_3D_Kfold</a>"
      ],
      "text/plain": [
       "<IPython.core.display.HTML object>"
      ]
     },
     "metadata": {},
     "output_type": "display_data"
    },
    {
     "data": {
      "text/html": [
       " View run at <a href='https://wandb.ai/thoomas/PLA_01122024_9PPI_3D_Kfold/runs/ax8y59fk' target=\"_blank\">https://wandb.ai/thoomas/PLA_01122024_9PPI_3D_Kfold/runs/ax8y59fk</a>"
      ],
      "text/plain": [
       "<IPython.core.display.HTML object>"
      ]
     },
     "metadata": {},
     "output_type": "display_data"
    },
    {
     "name": "stderr",
     "output_type": "stream",
     "text": [
      "Global seed set to 42\n",
      "GPU available: True (cuda), used: True\n",
      "TPU available: False, using: 0 TPU cores\n",
      "IPU available: False, using: 0 IPUs\n",
      "HPU available: False, using: 0 HPUs\n",
      "Global seed set to 42\n",
      "c:\\Users\\thu71\\AppData\\Local\\anaconda3\\envs\\scanpy\\Lib\\site-packages\\lightning\\pytorch\\callbacks\\model_checkpoint.py:617: UserWarning: Checkpoint directory \\\\bme-retromaster.ad.gatech.edu\\labs5\\coskun-lab\\Thomas\\23_PLA_revision\\data\\9PPI_3D\\saved_models\\9PPI_3D\\Graph_GNNs_Kfold\\GINConv_norm_2_16_onehot_0\\mean\\GraphLevelGINConv_norm exists and is not empty.\n",
      "  rank_zero_warn(f\"Checkpoint directory {dirpath} exists and is not empty.\")\n",
      "LOCAL_RANK: 0 - CUDA_VISIBLE_DEVICES: [0]\n",
      "\n",
      "  | Name        | Type             | Params\n",
      "-------------------------------------------------\n",
      "0 | x_embedding | Identity         | 0     \n",
      "1 | model       | GIN              | 1.1 K \n",
      "2 | head        | Sequential       | 154   \n",
      "3 | loss_module | CrossEntropyLoss | 0     \n",
      "4 | train_acc   | BinaryAccuracy   | 0     \n",
      "5 | train_auroc | BinaryAUROC      | 0     \n",
      "6 | train_f1    | BinaryF1Score    | 0     \n",
      "7 | valid_acc   | BinaryAccuracy   | 0     \n",
      "8 | valid_auroc | BinaryAUROC      | 0     \n",
      "9 | valid_f1    | BinaryF1Score    | 0     \n",
      "-------------------------------------------------\n",
      "1.2 K     Trainable params\n",
      "0         Non-trainable params\n",
      "1.2 K     Total params\n",
      "0.005     Total estimated model params size (MB)\n"
     ]
    },
    {
     "name": "stdout",
     "output_type": "stream",
     "text": [
      "GINConv\n"
     ]
    },
    {
     "name": "stderr",
     "output_type": "stream",
     "text": [
      "`Trainer.fit` stopped: `max_epochs=65` reached.\n"
     ]
    },
    {
     "data": {
      "text/html": [
       "Waiting for W&B process to finish... <strong style=\"color:green\">(success).</strong>"
      ],
      "text/plain": [
       "<IPython.core.display.HTML object>"
      ]
     },
     "metadata": {},
     "output_type": "display_data"
    },
    {
     "data": {
      "application/vnd.jupyter.widget-view+json": {
       "model_id": "fc7ffff80e3a481aa86635d1b793eb19",
       "version_major": 2,
       "version_minor": 0
      },
      "text/plain": [
       "VBox(children=(Label(value='0.001 MB of 0.001 MB uploaded (0.000 MB deduped)\\r'), FloatProgress(value=1.0, max…"
      ]
     },
     "metadata": {},
     "output_type": "display_data"
    },
    {
     "data": {
      "text/html": [
       "<style>\n",
       "    table.wandb td:nth-child(1) { padding: 0 10px; text-align: left ; width: auto;} td:nth-child(2) {text-align: left ; width: 100%}\n",
       "    .wandb-row { display: flex; flex-direction: row; flex-wrap: wrap; justify-content: flex-start; width: 100% }\n",
       "    .wandb-col { display: flex; flex-direction: column; flex-basis: 100%; flex: 1; padding: 10px; }\n",
       "    </style>\n",
       "<div class=\"wandb-row\"><div class=\"wandb-col\"><h3>Run history:</h3><br/><table class=\"wandb\"><tr><td>epoch</td><td>▁▁▁▂▂▂▂▂▂▃▃▃▃▃▄▄▄▄▄▄▅▅▅▅▅▅▆▆▆▆▆▇▇▇▇▇▇███</td></tr><tr><td>lr-Adam</td><td>▁▁▁▁▁▁▁▁▁▁▁▁▁▁▁▁▁▁▁▁▁▁▁▁▁▁▁▁▁▁▁▁▁▁▁▁▁▁▁▁</td></tr><tr><td>train_acc</td><td>▁▃▆▅▆▆▆▇▇▆█▇▇▇▇▇▇▇███████▇▇▇███▇▇██▇█▇▇█</td></tr><tr><td>train_auc</td><td>▁▃▅▆▆▆▆▆▆▆▇▆▇▇▇▇▇▇▇██▇█▇█▇▇▇▇█▇▇███▇▇▇▇█</td></tr><tr><td>train_f1</td><td>▁▂▅▅▆▇▆▇▆▆█▇▇▇▇█▇▇▇██▇███▇▇▇███▇▇██▇█▇▇█</td></tr><tr><td>train_loss_epoch</td><td>█▇▅▆▅▄▄▅▄▄▃▃▂▄▄▃▃▃▂▂▃▂▁▃▁▂▁▃▂▁▄▃▂▁▁▂▂▃▃▂</td></tr><tr><td>train_loss_step</td><td>▆█▆▆▆▅▅▅▅▅▃▅▃▄▃▄▄▄▃▄▄▃▄▃▁▅▂▄▂▃▄▂▃▅▂▃▄▃▃▃</td></tr><tr><td>trainer/global_step</td><td>▁▁▁▂▂▁▁▁▁▃▃▂▂▃▃▄▂▂▄▄▅▅▂▅▅▆▃▃▃▆▆▃▃▃▇▇▃▃██</td></tr><tr><td>val_acc</td><td>▁▄▅▅▅▆▇▄▇▇▂▇▇▆▇█▇▇▇▇█▇▇▆▆▆▇█▇█▆▄▇▆▆▅▇█▇█</td></tr><tr><td>val_auc</td><td>▁▂▄▅▅▆▆▆▆▆▇▆▇▇▆▇▇▇▇▇█▇▇▇▇▇▇▇▇▇▇▆▇█▇▆▇▇▇█</td></tr><tr><td>val_f1</td><td>▁▄▆▅▅▇▇▅▇▇▇▇██▇█▇▇▇██▆▇▆▇▇▇█▇█▆▄██▆█▇█▆█</td></tr><tr><td>val_loss_epoch</td><td>▇▆▄▄▇▃▅█▅▂▆▁▂▃▆▂▅▄▇▃▄▂▄▇▄▄▁▁▁▄▁▆▄▅▇▄▃▅▅▃</td></tr><tr><td>val_loss_step</td><td>▄▅▄▃▃▃▅█▃▃▄▄▂▂▃▃▃▃█▃▄▃▄▇▄▃▃▃▁▃▄▃▄▃▆▃▄▃▄▃</td></tr></table><br/></div><div class=\"wandb-col\"><h3>Run summary:</h3><br/><table class=\"wandb\"><tr><td>epoch</td><td>64</td></tr><tr><td>lr-Adam</td><td>0.005</td></tr><tr><td>train_acc</td><td>0.79383</td></tr><tr><td>train_auc</td><td>0.84556</td></tr><tr><td>train_f1</td><td>0.72634</td></tr><tr><td>train_loss_epoch</td><td>0.46861</td></tr><tr><td>train_loss_step</td><td>0.49716</td></tr><tr><td>trainer/global_step</td><td>584</td></tr><tr><td>val_acc</td><td>0.78462</td></tr><tr><td>val_auc</td><td>0.86073</td></tr><tr><td>val_f1</td><td>0.73585</td></tr><tr><td>val_loss_epoch</td><td>0.4656</td></tr><tr><td>val_loss_step</td><td>0.41655</td></tr></table><br/></div></div>"
      ],
      "text/plain": [
       "<IPython.core.display.HTML object>"
      ]
     },
     "metadata": {},
     "output_type": "display_data"
    },
    {
     "data": {
      "text/html": [
       " View run <strong style=\"color:#cdcd00\">GINConv_norm_2_16_onehot_0</strong> at: <a href='https://wandb.ai/thoomas/PLA_01122024_9PPI_3D_Kfold/runs/ax8y59fk' target=\"_blank\">https://wandb.ai/thoomas/PLA_01122024_9PPI_3D_Kfold/runs/ax8y59fk</a><br/>Synced 6 W&B file(s), 0 media file(s), 0 artifact file(s) and 0 other file(s)"
      ],
      "text/plain": [
       "<IPython.core.display.HTML object>"
      ]
     },
     "metadata": {},
     "output_type": "display_data"
    },
    {
     "data": {
      "text/html": [
       "Find logs at: <code>.\\wandb\\run-20240114_000246-ax8y59fk\\logs</code>"
      ],
      "text/plain": [
       "<IPython.core.display.HTML object>"
      ]
     },
     "metadata": {},
     "output_type": "display_data"
    },
    {
     "data": {
      "application/vnd.jupyter.widget-view+json": {
       "model_id": "2961f7ff4f144f3e8c96c3127c0fe48e",
       "version_major": 2,
       "version_minor": 0
      },
      "text/plain": [
       "VBox(children=(Label(value='Waiting for wandb.init()...\\r'), FloatProgress(value=0.0169333333382383, max=1.0))…"
      ]
     },
     "metadata": {},
     "output_type": "display_data"
    },
    {
     "data": {
      "text/html": [
       "wandb version 0.16.2 is available!  To upgrade, please run:\n",
       " $ pip install wandb --upgrade"
      ],
      "text/plain": [
       "<IPython.core.display.HTML object>"
      ]
     },
     "metadata": {},
     "output_type": "display_data"
    },
    {
     "data": {
      "text/html": [
       "Tracking run with wandb version 0.15.8"
      ],
      "text/plain": [
       "<IPython.core.display.HTML object>"
      ]
     },
     "metadata": {},
     "output_type": "display_data"
    },
    {
     "data": {
      "text/html": [
       "Run data is saved locally in <code>y:\\coskun-lab\\Thomas\\23_PLA_revision\\notebooks\\wandb\\run-20240114_001251-jrn6or5s</code>"
      ],
      "text/plain": [
       "<IPython.core.display.HTML object>"
      ]
     },
     "metadata": {},
     "output_type": "display_data"
    },
    {
     "data": {
      "text/html": [
       "Syncing run <strong><a href='https://wandb.ai/thoomas/PLA_01122024_9PPI_3D_Kfold/runs/jrn6or5s' target=\"_blank\">MLP_2_64_onehot_1</a></strong> to <a href='https://wandb.ai/thoomas/PLA_01122024_9PPI_3D_Kfold' target=\"_blank\">Weights & Biases</a> (<a href='https://wandb.me/run' target=\"_blank\">docs</a>)<br/>"
      ],
      "text/plain": [
       "<IPython.core.display.HTML object>"
      ]
     },
     "metadata": {},
     "output_type": "display_data"
    },
    {
     "data": {
      "text/html": [
       " View project at <a href='https://wandb.ai/thoomas/PLA_01122024_9PPI_3D_Kfold' target=\"_blank\">https://wandb.ai/thoomas/PLA_01122024_9PPI_3D_Kfold</a>"
      ],
      "text/plain": [
       "<IPython.core.display.HTML object>"
      ]
     },
     "metadata": {},
     "output_type": "display_data"
    },
    {
     "data": {
      "text/html": [
       " View run at <a href='https://wandb.ai/thoomas/PLA_01122024_9PPI_3D_Kfold/runs/jrn6or5s' target=\"_blank\">https://wandb.ai/thoomas/PLA_01122024_9PPI_3D_Kfold/runs/jrn6or5s</a>"
      ],
      "text/plain": [
       "<IPython.core.display.HTML object>"
      ]
     },
     "metadata": {},
     "output_type": "display_data"
    },
    {
     "name": "stderr",
     "output_type": "stream",
     "text": [
      "Global seed set to 42\n",
      "GPU available: True (cuda), used: True\n",
      "TPU available: False, using: 0 TPU cores\n",
      "IPU available: False, using: 0 IPUs\n",
      "HPU available: False, using: 0 HPUs\n",
      "Global seed set to 42\n",
      "c:\\Users\\thu71\\AppData\\Local\\anaconda3\\envs\\scanpy\\Lib\\site-packages\\lightning\\pytorch\\callbacks\\model_checkpoint.py:617: UserWarning: Checkpoint directory \\\\bme-retromaster.ad.gatech.edu\\labs5\\coskun-lab\\Thomas\\23_PLA_revision\\data\\9PPI_3D\\saved_models\\9PPI_3D\\Graph_GNNs_Kfold\\MLP_2_64_onehot_1\\attention\\GraphLevelMLP exists and is not empty.\n",
      "  rank_zero_warn(f\"Checkpoint directory {dirpath} exists and is not empty.\")\n",
      "LOCAL_RANK: 0 - CUDA_VISIBLE_DEVICES: [0]\n",
      "\n",
      "   | Name        | Type             | Params\n",
      "--------------------------------------------------\n",
      "0  | x_embedding | Identity         | 0     \n",
      "1  | model       | MLPModel         | 4.8 K \n",
      "2  | head        | Sequential       | 2.1 K \n",
      "3  | loss_module | CrossEntropyLoss | 0     \n",
      "4  | train_acc   | BinaryAccuracy   | 0     \n",
      "5  | train_auroc | BinaryAUROC      | 0     \n",
      "6  | train_f1    | BinaryF1Score    | 0     \n",
      "7  | valid_acc   | BinaryAccuracy   | 0     \n",
      "8  | valid_auroc | BinaryAUROC      | 0     \n",
      "9  | valid_f1    | BinaryF1Score    | 0     \n",
      "10 | pool        | GlobalAttention  | 65    \n",
      "--------------------------------------------------\n",
      "7.0 K     Trainable params\n",
      "0         Non-trainable params\n",
      "7.0 K     Total params\n",
      "0.028     Total estimated model params size (MB)\n"
     ]
    },
    {
     "name": "stdout",
     "output_type": "stream",
     "text": [
      "Using MLP\n"
     ]
    },
    {
     "name": "stderr",
     "output_type": "stream",
     "text": [
      "`Trainer.fit` stopped: `max_epochs=65` reached.\n"
     ]
    },
    {
     "data": {
      "text/html": [
       "Waiting for W&B process to finish... <strong style=\"color:green\">(success).</strong>"
      ],
      "text/plain": [
       "<IPython.core.display.HTML object>"
      ]
     },
     "metadata": {},
     "output_type": "display_data"
    },
    {
     "data": {
      "text/html": [
       "<style>\n",
       "    table.wandb td:nth-child(1) { padding: 0 10px; text-align: left ; width: auto;} td:nth-child(2) {text-align: left ; width: 100%}\n",
       "    .wandb-row { display: flex; flex-direction: row; flex-wrap: wrap; justify-content: flex-start; width: 100% }\n",
       "    .wandb-col { display: flex; flex-direction: column; flex-basis: 100%; flex: 1; padding: 10px; }\n",
       "    </style>\n",
       "<div class=\"wandb-row\"><div class=\"wandb-col\"><h3>Run history:</h3><br/><table class=\"wandb\"><tr><td>epoch</td><td>▁▁▁▂▂▂▂▂▂▃▃▃▃▃▄▄▄▄▄▄▅▅▅▅▅▅▆▆▆▆▆▇▇▇▇▇▇███</td></tr><tr><td>lr-Adam</td><td>▁▁▁▁▁▁▁▁▁▁▁▁▁▁▁▁▁▁▁▁▁▁▁▁▁▁▁▁▁▁▁▁▁▁▁▁▁▁▁▁</td></tr><tr><td>train_acc</td><td>▁▂▃▄▅▆▇▆▆▆▇▆▇▇▇▇▇▆▇▇▇▇█▇▇█▇▇▆▇▇▇▆▇▇▇▆▇▇█</td></tr><tr><td>train_auc</td><td>▁▁▂▄▅▇▇▇▆▇▇▇▇▇█▇▇▇▇▇█▆▇▇█▇▇▇▇▇▇▇▇▇██▆▇██</td></tr><tr><td>train_f1</td><td>▂▁▂▃▆▆▇▆▇▅█▆▇▇▇▇▇▇▇▇▇▇█▇▇▇▆█▅█▇▇▇█▆▇▅█▇█</td></tr><tr><td>train_loss_epoch</td><td>█▇▇▅▅▄▂▃▄▃▂▃▃▂▂▃▂▄▃▁▂▃▂▂▁▃▄▃▃▃▄▄▂▃▂▃▄▄▂▄</td></tr><tr><td>train_loss_step</td><td>▇▇▇▆▆▆▂▇▆▄▆▇▆▆▅▅▅▆▄▅▅▅▄▄▁▅▅▅▇▅▆▄▇▆▅▅▅█▆▅</td></tr><tr><td>trainer/global_step</td><td>▁▁▁▂▂▁▁▁▁▃▃▂▂▃▃▄▂▂▄▄▅▅▂▅▅▆▃▃▃▆▆▃▃▃▇▇▃▃██</td></tr><tr><td>val_acc</td><td>▁▁▂▂▄█▅▆▅▇▆▇▇█▇▇▇▇▇█▇▇▇▇▇█▇▆█▇█▇▅▇▇██▇██</td></tr><tr><td>val_auc</td><td>▁▂▁▂▆▇▇█▇█████████▇▇█▇▇▇▇▇▇▇▇▇▇▇▇▇▇▇▇▇▇▇</td></tr><tr><td>val_f1</td><td>▁▁▂▂▄▇▅▅▄▇▅▇▇▇▇▇▆▇▆▆▇▆▆▇▇▇▇▅█▆▆▆▅▆▇▇█▆▇▇</td></tr><tr><td>val_loss_epoch</td><td>▄▅▄▅▆▄█▃▃▅▅▃▃▄▆▁▅▄▂▃▁▅▃▂▃▄▂▄▃▂▄▃▅▆▂▄▅▂▃▂</td></tr><tr><td>val_loss_step</td><td>▃▄▃▃▃▃█▁▃▃▄▃▃▄▃▃▃▄▁▃▃▃▃▂▂▃▃▃▃▁▃▃▃▃▂▃▃▃▃▃</td></tr></table><br/></div><div class=\"wandb-col\"><h3>Run summary:</h3><br/><table class=\"wandb\"><tr><td>epoch</td><td>64</td></tr><tr><td>lr-Adam</td><td>0.005</td></tr><tr><td>train_acc</td><td>0.71484</td></tr><tr><td>train_auc</td><td>0.75479</td></tr><tr><td>train_f1</td><td>0.59116</td></tr><tr><td>train_loss_epoch</td><td>0.61047</td></tr><tr><td>train_loss_step</td><td>0.60017</td></tr><tr><td>trainer/global_step</td><td>584</td></tr><tr><td>val_acc</td><td>0.68846</td></tr><tr><td>val_auc</td><td>0.74019</td></tr><tr><td>val_f1</td><td>0.48408</td></tr><tr><td>val_loss_epoch</td><td>0.52362</td></tr><tr><td>val_loss_step</td><td>0.35378</td></tr></table><br/></div></div>"
      ],
      "text/plain": [
       "<IPython.core.display.HTML object>"
      ]
     },
     "metadata": {},
     "output_type": "display_data"
    },
    {
     "data": {
      "text/html": [
       " View run <strong style=\"color:#cdcd00\">MLP_2_64_onehot_1</strong> at: <a href='https://wandb.ai/thoomas/PLA_01122024_9PPI_3D_Kfold/runs/jrn6or5s' target=\"_blank\">https://wandb.ai/thoomas/PLA_01122024_9PPI_3D_Kfold/runs/jrn6or5s</a><br/>Synced 6 W&B file(s), 0 media file(s), 0 artifact file(s) and 0 other file(s)"
      ],
      "text/plain": [
       "<IPython.core.display.HTML object>"
      ]
     },
     "metadata": {},
     "output_type": "display_data"
    },
    {
     "data": {
      "text/html": [
       "Find logs at: <code>.\\wandb\\run-20240114_001251-jrn6or5s\\logs</code>"
      ],
      "text/plain": [
       "<IPython.core.display.HTML object>"
      ]
     },
     "metadata": {},
     "output_type": "display_data"
    },
    {
     "data": {
      "application/vnd.jupyter.widget-view+json": {
       "model_id": "f5ea1a0f444d40009e3c7a15a63e7e98",
       "version_major": 2,
       "version_minor": 0
      },
      "text/plain": [
       "VBox(children=(Label(value='Waiting for wandb.init()...\\r'), FloatProgress(value=0.01691666666883975, max=1.0)…"
      ]
     },
     "metadata": {},
     "output_type": "display_data"
    },
    {
     "data": {
      "text/html": [
       "wandb version 0.16.2 is available!  To upgrade, please run:\n",
       " $ pip install wandb --upgrade"
      ],
      "text/plain": [
       "<IPython.core.display.HTML object>"
      ]
     },
     "metadata": {},
     "output_type": "display_data"
    },
    {
     "data": {
      "text/html": [
       "Tracking run with wandb version 0.15.8"
      ],
      "text/plain": [
       "<IPython.core.display.HTML object>"
      ]
     },
     "metadata": {},
     "output_type": "display_data"
    },
    {
     "data": {
      "text/html": [
       "Run data is saved locally in <code>y:\\coskun-lab\\Thomas\\23_PLA_revision\\notebooks\\wandb\\run-20240114_002142-8tf0hw9z</code>"
      ],
      "text/plain": [
       "<IPython.core.display.HTML object>"
      ]
     },
     "metadata": {},
     "output_type": "display_data"
    },
    {
     "data": {
      "text/html": [
       "Syncing run <strong><a href='https://wandb.ai/thoomas/PLA_01122024_9PPI_3D_Kfold/runs/8tf0hw9z' target=\"_blank\">GraphConv_2_64_onehot_1</a></strong> to <a href='https://wandb.ai/thoomas/PLA_01122024_9PPI_3D_Kfold' target=\"_blank\">Weights & Biases</a> (<a href='https://wandb.me/run' target=\"_blank\">docs</a>)<br/>"
      ],
      "text/plain": [
       "<IPython.core.display.HTML object>"
      ]
     },
     "metadata": {},
     "output_type": "display_data"
    },
    {
     "data": {
      "text/html": [
       " View project at <a href='https://wandb.ai/thoomas/PLA_01122024_9PPI_3D_Kfold' target=\"_blank\">https://wandb.ai/thoomas/PLA_01122024_9PPI_3D_Kfold</a>"
      ],
      "text/plain": [
       "<IPython.core.display.HTML object>"
      ]
     },
     "metadata": {},
     "output_type": "display_data"
    },
    {
     "data": {
      "text/html": [
       " View run at <a href='https://wandb.ai/thoomas/PLA_01122024_9PPI_3D_Kfold/runs/8tf0hw9z' target=\"_blank\">https://wandb.ai/thoomas/PLA_01122024_9PPI_3D_Kfold/runs/8tf0hw9z</a>"
      ],
      "text/plain": [
       "<IPython.core.display.HTML object>"
      ]
     },
     "metadata": {},
     "output_type": "display_data"
    },
    {
     "name": "stderr",
     "output_type": "stream",
     "text": [
      "Global seed set to 42\n",
      "GPU available: True (cuda), used: True\n",
      "TPU available: False, using: 0 TPU cores\n",
      "IPU available: False, using: 0 IPUs\n",
      "HPU available: False, using: 0 HPUs\n",
      "Global seed set to 42\n",
      "c:\\Users\\thu71\\AppData\\Local\\anaconda3\\envs\\scanpy\\Lib\\site-packages\\lightning\\pytorch\\callbacks\\model_checkpoint.py:617: UserWarning: Checkpoint directory \\\\bme-retromaster.ad.gatech.edu\\labs5\\coskun-lab\\Thomas\\23_PLA_revision\\data\\9PPI_3D\\saved_models\\9PPI_3D\\Graph_GNNs_Kfold\\GraphConv_2_64_onehot_1\\mean\\GraphLevelGraphConv exists and is not empty.\n",
      "  rank_zero_warn(f\"Checkpoint directory {dirpath} exists and is not empty.\")\n",
      "LOCAL_RANK: 0 - CUDA_VISIBLE_DEVICES: [0]\n",
      "\n",
      "  | Name        | Type             | Params\n",
      "-------------------------------------------------\n",
      "0 | x_embedding | Identity         | 0     \n",
      "1 | model       | GNNModel         | 9.6 K \n",
      "2 | head        | Sequential       | 2.1 K \n",
      "3 | loss_module | CrossEntropyLoss | 0     \n",
      "4 | train_acc   | BinaryAccuracy   | 0     \n",
      "5 | train_auroc | BinaryAUROC      | 0     \n",
      "6 | train_f1    | BinaryF1Score    | 0     \n",
      "7 | valid_acc   | BinaryAccuracy   | 0     \n",
      "8 | valid_auroc | BinaryAUROC      | 0     \n",
      "9 | valid_f1    | BinaryF1Score    | 0     \n",
      "-------------------------------------------------\n",
      "11.7 K    Trainable params\n",
      "0         Non-trainable params\n",
      "11.7 K    Total params\n",
      "0.047     Total estimated model params size (MB)\n"
     ]
    },
    {
     "name": "stdout",
     "output_type": "stream",
     "text": [
      "Using GNN\n"
     ]
    },
    {
     "name": "stderr",
     "output_type": "stream",
     "text": [
      "`Trainer.fit` stopped: `max_epochs=65` reached.\n"
     ]
    },
    {
     "data": {
      "text/html": [
       "Waiting for W&B process to finish... <strong style=\"color:green\">(success).</strong>"
      ],
      "text/plain": [
       "<IPython.core.display.HTML object>"
      ]
     },
     "metadata": {},
     "output_type": "display_data"
    },
    {
     "data": {
      "text/html": [
       "<style>\n",
       "    table.wandb td:nth-child(1) { padding: 0 10px; text-align: left ; width: auto;} td:nth-child(2) {text-align: left ; width: 100%}\n",
       "    .wandb-row { display: flex; flex-direction: row; flex-wrap: wrap; justify-content: flex-start; width: 100% }\n",
       "    .wandb-col { display: flex; flex-direction: column; flex-basis: 100%; flex: 1; padding: 10px; }\n",
       "    </style>\n",
       "<div class=\"wandb-row\"><div class=\"wandb-col\"><h3>Run history:</h3><br/><table class=\"wandb\"><tr><td>epoch</td><td>▁▁▁▂▂▂▂▂▂▃▃▃▃▃▄▄▄▄▄▄▅▅▅▅▅▅▆▆▆▆▆▇▇▇▇▇▇███</td></tr><tr><td>lr-Adam</td><td>▁▁▁▁▁▁▁▁▁▁▁▁▁▁▁▁▁▁▁▁▁▁▁▁▁▁▁▁▁▁▁▁▁▁▁▁▁▁▁▁</td></tr><tr><td>train_acc</td><td>▁▄▅▅▆▆▆▇▇▇▇▇▆▇▇▇▇▇▇▇▇▇▇█▇▇▇▇▇▇▇▇▇▇▇▇██▇█</td></tr><tr><td>train_auc</td><td>▁▄▅▅▆▆▆▇▇▇▇▇▇▇▇▇█▇▇▇█▇██▇███▇██▇████████</td></tr><tr><td>train_f1</td><td>▁▅▆▆▇▇▇▇▇▇▇▇▇▇▇▇█▇▇▇▇▇██▇▇█▇▇█▇▇▇█▇▇████</td></tr><tr><td>train_loss_epoch</td><td>█▆▅▅▄▄▄▃▃▃▃▄▃▂▂▂▂▂▂▃▂▂▂▂▁▁▂▂▂▂▂▂▂▃▁▁▂▂▁▁</td></tr><tr><td>train_loss_step</td><td>█▆▇▄▅▆▆▅▄▄▃▃▃▄▅▇▄▅▂▃▅▂▃▃▁▂▄▄▄▃▄▃▂▆▅▄▃▃▃▂</td></tr><tr><td>trainer/global_step</td><td>▁▁▁▂▂▁▁▁▁▃▃▂▂▃▃▄▂▂▄▄▅▅▂▅▅▆▃▃▃▆▆▃▃▃▇▇▃▃██</td></tr><tr><td>val_acc</td><td>▁▃▄▆▅▇▆█▇▇▆▇▇█▇▇▇▇▇▇▇█▇█▆▇▇▇▇█▇▇███▇▇█▇▇</td></tr><tr><td>val_auc</td><td>▁▂▄▅▆▆▆▇▇███▇██████▇████▇▇█▇███▇███▇███▇</td></tr><tr><td>val_f1</td><td>▁▃▅▇▆▇▆███▇█▇█▇███████▇████████████▇███▇</td></tr><tr><td>val_loss_epoch</td><td>▄▂▂▂▂▂▂▂▂▂▂▂▁▁▂▂▂▁▅▁▁▃▃▁▃▂▂▂▁▂▁▃▂▂▃▂▂▆█▃</td></tr><tr><td>val_loss_step</td><td>▃▂▃▃▃▃▃▂▂▂▃▂▁▁▂▂▃▂█▃▂▃▂▁▄▂▂▂▁▄▂▃▂▂▅▃▃▃▂▃</td></tr></table><br/></div><div class=\"wandb-col\"><h3>Run summary:</h3><br/><table class=\"wandb\"><tr><td>epoch</td><td>64</td></tr><tr><td>lr-Adam</td><td>0.005</td></tr><tr><td>train_acc</td><td>0.84586</td></tr><tr><td>train_auc</td><td>0.90606</td></tr><tr><td>train_f1</td><td>0.8044</td></tr><tr><td>train_loss_epoch</td><td>0.39649</td></tr><tr><td>train_loss_step</td><td>0.34398</td></tr><tr><td>trainer/global_step</td><td>584</td></tr><tr><td>val_acc</td><td>0.79615</td></tr><tr><td>val_auc</td><td>0.87707</td></tr><tr><td>val_f1</td><td>0.71958</td></tr><tr><td>val_loss_epoch</td><td>0.5431</td></tr><tr><td>val_loss_step</td><td>0.72041</td></tr></table><br/></div></div>"
      ],
      "text/plain": [
       "<IPython.core.display.HTML object>"
      ]
     },
     "metadata": {},
     "output_type": "display_data"
    },
    {
     "data": {
      "text/html": [
       " View run <strong style=\"color:#cdcd00\">GraphConv_2_64_onehot_1</strong> at: <a href='https://wandb.ai/thoomas/PLA_01122024_9PPI_3D_Kfold/runs/8tf0hw9z' target=\"_blank\">https://wandb.ai/thoomas/PLA_01122024_9PPI_3D_Kfold/runs/8tf0hw9z</a><br/>Synced 6 W&B file(s), 0 media file(s), 0 artifact file(s) and 0 other file(s)"
      ],
      "text/plain": [
       "<IPython.core.display.HTML object>"
      ]
     },
     "metadata": {},
     "output_type": "display_data"
    },
    {
     "data": {
      "text/html": [
       "Find logs at: <code>.\\wandb\\run-20240114_002142-8tf0hw9z\\logs</code>"
      ],
      "text/plain": [
       "<IPython.core.display.HTML object>"
      ]
     },
     "metadata": {},
     "output_type": "display_data"
    },
    {
     "data": {
      "application/vnd.jupyter.widget-view+json": {
       "model_id": "bce498a2f9a04939b3bf71ffcb82380c",
       "version_major": 2,
       "version_minor": 0
      },
      "text/plain": [
       "VBox(children=(Label(value='Waiting for wandb.init()...\\r'), FloatProgress(value=0.016933333330477276, max=1.0…"
      ]
     },
     "metadata": {},
     "output_type": "display_data"
    },
    {
     "data": {
      "text/html": [
       "wandb version 0.16.2 is available!  To upgrade, please run:\n",
       " $ pip install wandb --upgrade"
      ],
      "text/plain": [
       "<IPython.core.display.HTML object>"
      ]
     },
     "metadata": {},
     "output_type": "display_data"
    },
    {
     "data": {
      "text/html": [
       "Tracking run with wandb version 0.15.8"
      ],
      "text/plain": [
       "<IPython.core.display.HTML object>"
      ]
     },
     "metadata": {},
     "output_type": "display_data"
    },
    {
     "data": {
      "text/html": [
       "Run data is saved locally in <code>y:\\coskun-lab\\Thomas\\23_PLA_revision\\notebooks\\wandb\\run-20240114_003134-cvili0k2</code>"
      ],
      "text/plain": [
       "<IPython.core.display.HTML object>"
      ]
     },
     "metadata": {},
     "output_type": "display_data"
    },
    {
     "data": {
      "text/html": [
       "Syncing run <strong><a href='https://wandb.ai/thoomas/PLA_01122024_9PPI_3D_Kfold/runs/cvili0k2' target=\"_blank\">GCN_2_32_onehot_1</a></strong> to <a href='https://wandb.ai/thoomas/PLA_01122024_9PPI_3D_Kfold' target=\"_blank\">Weights & Biases</a> (<a href='https://wandb.me/run' target=\"_blank\">docs</a>)<br/>"
      ],
      "text/plain": [
       "<IPython.core.display.HTML object>"
      ]
     },
     "metadata": {},
     "output_type": "display_data"
    },
    {
     "data": {
      "text/html": [
       " View project at <a href='https://wandb.ai/thoomas/PLA_01122024_9PPI_3D_Kfold' target=\"_blank\">https://wandb.ai/thoomas/PLA_01122024_9PPI_3D_Kfold</a>"
      ],
      "text/plain": [
       "<IPython.core.display.HTML object>"
      ]
     },
     "metadata": {},
     "output_type": "display_data"
    },
    {
     "data": {
      "text/html": [
       " View run at <a href='https://wandb.ai/thoomas/PLA_01122024_9PPI_3D_Kfold/runs/cvili0k2' target=\"_blank\">https://wandb.ai/thoomas/PLA_01122024_9PPI_3D_Kfold/runs/cvili0k2</a>"
      ],
      "text/plain": [
       "<IPython.core.display.HTML object>"
      ]
     },
     "metadata": {},
     "output_type": "display_data"
    },
    {
     "name": "stderr",
     "output_type": "stream",
     "text": [
      "Global seed set to 42\n",
      "GPU available: True (cuda), used: True\n",
      "TPU available: False, using: 0 TPU cores\n",
      "IPU available: False, using: 0 IPUs\n",
      "HPU available: False, using: 0 HPUs\n",
      "Global seed set to 42\n",
      "c:\\Users\\thu71\\AppData\\Local\\anaconda3\\envs\\scanpy\\Lib\\site-packages\\lightning\\pytorch\\callbacks\\model_checkpoint.py:617: UserWarning: Checkpoint directory \\\\bme-retromaster.ad.gatech.edu\\labs5\\coskun-lab\\Thomas\\23_PLA_revision\\data\\9PPI_3D\\saved_models\\9PPI_3D\\Graph_GNNs_Kfold\\GCN_2_32_onehot_1\\attention2\\GraphLevelGCN exists and is not empty.\n",
      "  rank_zero_warn(f\"Checkpoint directory {dirpath} exists and is not empty.\")\n",
      "LOCAL_RANK: 0 - CUDA_VISIBLE_DEVICES: [0]\n",
      "\n",
      "   | Name        | Type             | Params\n",
      "--------------------------------------------------\n",
      "0  | x_embedding | Identity         | 0     \n",
      "1  | model       | GNNModel         | 1.4 K \n",
      "2  | head        | Sequential       | 562   \n",
      "3  | loss_module | CrossEntropyLoss | 0     \n",
      "4  | train_acc   | BinaryAccuracy   | 0     \n",
      "5  | train_auroc | BinaryAUROC      | 0     \n",
      "6  | train_f1    | BinaryF1Score    | 0     \n",
      "7  | valid_acc   | BinaryAccuracy   | 0     \n",
      "8  | valid_auroc | BinaryAUROC      | 0     \n",
      "9  | valid_f1    | BinaryF1Score    | 0     \n",
      "10 | pool        | Attention_module | 1.1 K \n",
      "--------------------------------------------------\n",
      "3.1 K     Trainable params\n",
      "0         Non-trainable params\n",
      "3.1 K     Total params\n",
      "0.012     Total estimated model params size (MB)\n"
     ]
    },
    {
     "name": "stdout",
     "output_type": "stream",
     "text": [
      "Using GNN\n"
     ]
    },
    {
     "name": "stderr",
     "output_type": "stream",
     "text": [
      "`Trainer.fit` stopped: `max_epochs=65` reached.\n"
     ]
    },
    {
     "data": {
      "text/html": [
       "Waiting for W&B process to finish... <strong style=\"color:green\">(success).</strong>"
      ],
      "text/plain": [
       "<IPython.core.display.HTML object>"
      ]
     },
     "metadata": {},
     "output_type": "display_data"
    },
    {
     "data": {
      "text/html": [
       "<style>\n",
       "    table.wandb td:nth-child(1) { padding: 0 10px; text-align: left ; width: auto;} td:nth-child(2) {text-align: left ; width: 100%}\n",
       "    .wandb-row { display: flex; flex-direction: row; flex-wrap: wrap; justify-content: flex-start; width: 100% }\n",
       "    .wandb-col { display: flex; flex-direction: column; flex-basis: 100%; flex: 1; padding: 10px; }\n",
       "    </style>\n",
       "<div class=\"wandb-row\"><div class=\"wandb-col\"><h3>Run history:</h3><br/><table class=\"wandb\"><tr><td>epoch</td><td>▁▁▁▂▂▂▂▂▂▃▃▃▃▃▄▄▄▄▄▄▅▅▅▅▅▅▆▆▆▆▆▇▇▇▇▇▇███</td></tr><tr><td>lr-Adam</td><td>▁▁▁▁▁▁▁▁▁▁▁▁▁▁▁▁▁▁▁▁▁▁▁▁▁▁▁▁▁▁▁▁▁▁▁▁▁▁▁▁</td></tr><tr><td>train_acc</td><td>▁▅▆▆▇▆▇▇▇▆▇▆▇▇▆▇█▇▇▇▇▇▇▇█▇▇▇▇▇▇█▇▇█▇▇▇▇▇</td></tr><tr><td>train_auc</td><td>▁▆▆▇▇▇▇▇▇▇▇▇▇▇▇▇▇▇▇██▇██▇█▇▇█▇█████▇████</td></tr><tr><td>train_f1</td><td>▁▃▆▅▇▅▇▇▇▅▆▅▇▇▅▇█▇▇▇▇▇▆▇▇▆▆▆▇▆▇█▇▆█▇▆▇▇▇</td></tr><tr><td>train_loss_epoch</td><td>█▅▄▃▃▂▄▃▃▃▂▄▂▃▂▂▂▃▂▂▁▂▁▂▂▁▂▂▂▁▁▂▁▃▂▂▂▂▂▂</td></tr><tr><td>train_loss_step</td><td>▅▆▄▅▃▃█▃▃▂▄▂▂▃▂▂▄▄▂▄▄▄▃▄▃▂▂▄▂▄▄▃▃▁▄▄▃▃▃▃</td></tr><tr><td>trainer/global_step</td><td>▁▁▁▂▂▁▁▁▁▃▃▂▂▃▃▄▂▂▄▄▅▅▂▅▅▆▃▃▃▆▆▃▃▃▇▇▃▃██</td></tr><tr><td>val_acc</td><td>▁▁▂▃▅▇▇▆█▇▇▇▇▆▇▇█▇▅▇▆▇▇▇▇▇█▆▇▇▇▇▇█▇▇█▇▇▇</td></tr><tr><td>val_auc</td><td>▁▄▆▅▇▇▇▇▇██▇▇▇▇██▇▆█▇██▇▇█▇▇███▇██▇████▇</td></tr><tr><td>val_f1</td><td>▁▁▃▃▆▇█▇██▇▇▇▇█▇█▇▆▇▇▇▇▇▇██▇▇▇█▇▇█▇▇█▇██</td></tr><tr><td>val_loss_epoch</td><td>█▆▄▇█▄▅▄▂▅▁▄▄▂▄▃▄▃▂▃▄▅▇▅▅▃▄▁▅▂▂▁▃▂▆▅▅▂▃▂</td></tr><tr><td>val_loss_step</td><td>▆▅▆▆▅▅▇▅▅▅▄▄▅▃▄▄▅▄▁▄▄▅▅▇▇▄▄▄▇▃▄▄▄▅██▄▄▅▄</td></tr></table><br/></div><div class=\"wandb-col\"><h3>Run summary:</h3><br/><table class=\"wandb\"><tr><td>epoch</td><td>64</td></tr><tr><td>lr-Adam</td><td>0.005</td></tr><tr><td>train_acc</td><td>0.80154</td></tr><tr><td>train_auc</td><td>0.86187</td></tr><tr><td>train_f1</td><td>0.71781</td></tr><tr><td>train_loss_epoch</td><td>0.47397</td></tr><tr><td>train_loss_step</td><td>0.48659</td></tr><tr><td>trainer/global_step</td><td>584</td></tr><tr><td>val_acc</td><td>0.76923</td></tr><tr><td>val_auc</td><td>0.84655</td></tr><tr><td>val_f1</td><td>0.70297</td></tr><tr><td>val_loss_epoch</td><td>0.41084</td></tr><tr><td>val_loss_step</td><td>0.24187</td></tr></table><br/></div></div>"
      ],
      "text/plain": [
       "<IPython.core.display.HTML object>"
      ]
     },
     "metadata": {},
     "output_type": "display_data"
    },
    {
     "data": {
      "text/html": [
       " View run <strong style=\"color:#cdcd00\">GCN_2_32_onehot_1</strong> at: <a href='https://wandb.ai/thoomas/PLA_01122024_9PPI_3D_Kfold/runs/cvili0k2' target=\"_blank\">https://wandb.ai/thoomas/PLA_01122024_9PPI_3D_Kfold/runs/cvili0k2</a><br/>Synced 6 W&B file(s), 0 media file(s), 0 artifact file(s) and 0 other file(s)"
      ],
      "text/plain": [
       "<IPython.core.display.HTML object>"
      ]
     },
     "metadata": {},
     "output_type": "display_data"
    },
    {
     "data": {
      "text/html": [
       "Find logs at: <code>.\\wandb\\run-20240114_003134-cvili0k2\\logs</code>"
      ],
      "text/plain": [
       "<IPython.core.display.HTML object>"
      ]
     },
     "metadata": {},
     "output_type": "display_data"
    },
    {
     "data": {
      "application/vnd.jupyter.widget-view+json": {
       "model_id": "15d4d262c62244f591efea56118eb8c9",
       "version_major": 2,
       "version_minor": 0
      },
      "text/plain": [
       "VBox(children=(Label(value='Waiting for wandb.init()...\\r'), FloatProgress(value=0.01691666666107873, max=1.0)…"
      ]
     },
     "metadata": {},
     "output_type": "display_data"
    },
    {
     "data": {
      "text/html": [
       "wandb version 0.16.2 is available!  To upgrade, please run:\n",
       " $ pip install wandb --upgrade"
      ],
      "text/plain": [
       "<IPython.core.display.HTML object>"
      ]
     },
     "metadata": {},
     "output_type": "display_data"
    },
    {
     "data": {
      "text/html": [
       "Tracking run with wandb version 0.15.8"
      ],
      "text/plain": [
       "<IPython.core.display.HTML object>"
      ]
     },
     "metadata": {},
     "output_type": "display_data"
    },
    {
     "data": {
      "text/html": [
       "Run data is saved locally in <code>y:\\coskun-lab\\Thomas\\23_PLA_revision\\notebooks\\wandb\\run-20240114_003953-oru5vww6</code>"
      ],
      "text/plain": [
       "<IPython.core.display.HTML object>"
      ]
     },
     "metadata": {},
     "output_type": "display_data"
    },
    {
     "data": {
      "text/html": [
       "Syncing run <strong><a href='https://wandb.ai/thoomas/PLA_01122024_9PPI_3D_Kfold/runs/oru5vww6' target=\"_blank\">GAT_norm_4_32_onehot_1</a></strong> to <a href='https://wandb.ai/thoomas/PLA_01122024_9PPI_3D_Kfold' target=\"_blank\">Weights & Biases</a> (<a href='https://wandb.me/run' target=\"_blank\">docs</a>)<br/>"
      ],
      "text/plain": [
       "<IPython.core.display.HTML object>"
      ]
     },
     "metadata": {},
     "output_type": "display_data"
    },
    {
     "data": {
      "text/html": [
       " View project at <a href='https://wandb.ai/thoomas/PLA_01122024_9PPI_3D_Kfold' target=\"_blank\">https://wandb.ai/thoomas/PLA_01122024_9PPI_3D_Kfold</a>"
      ],
      "text/plain": [
       "<IPython.core.display.HTML object>"
      ]
     },
     "metadata": {},
     "output_type": "display_data"
    },
    {
     "data": {
      "text/html": [
       " View run at <a href='https://wandb.ai/thoomas/PLA_01122024_9PPI_3D_Kfold/runs/oru5vww6' target=\"_blank\">https://wandb.ai/thoomas/PLA_01122024_9PPI_3D_Kfold/runs/oru5vww6</a>"
      ],
      "text/plain": [
       "<IPython.core.display.HTML object>"
      ]
     },
     "metadata": {},
     "output_type": "display_data"
    },
    {
     "name": "stderr",
     "output_type": "stream",
     "text": [
      "Global seed set to 42\n",
      "GPU available: True (cuda), used: True\n",
      "TPU available: False, using: 0 TPU cores\n",
      "IPU available: False, using: 0 IPUs\n",
      "HPU available: False, using: 0 HPUs\n",
      "Global seed set to 42\n",
      "c:\\Users\\thu71\\AppData\\Local\\anaconda3\\envs\\scanpy\\Lib\\site-packages\\lightning\\pytorch\\callbacks\\model_checkpoint.py:617: UserWarning: Checkpoint directory \\\\bme-retromaster.ad.gatech.edu\\labs5\\coskun-lab\\Thomas\\23_PLA_revision\\data\\9PPI_3D\\saved_models\\9PPI_3D\\Graph_GNNs_Kfold\\GAT_norm_4_32_onehot_1\\attention\\GraphLevelGAT_norm exists and is not empty.\n",
      "  rank_zero_warn(f\"Checkpoint directory {dirpath} exists and is not empty.\")\n",
      "LOCAL_RANK: 0 - CUDA_VISIBLE_DEVICES: [0]\n",
      "\n",
      "   | Name        | Type             | Params\n",
      "--------------------------------------------------\n",
      "0  | x_embedding | Identity         | 0     \n",
      "1  | model       | GAT              | 23.1 K\n",
      "2  | head        | Sequential       | 562   \n",
      "3  | loss_module | CrossEntropyLoss | 0     \n",
      "4  | train_acc   | BinaryAccuracy   | 0     \n",
      "5  | train_auroc | BinaryAUROC      | 0     \n",
      "6  | train_f1    | BinaryF1Score    | 0     \n",
      "7  | valid_acc   | BinaryAccuracy   | 0     \n",
      "8  | valid_auroc | BinaryAUROC      | 0     \n",
      "9  | valid_f1    | BinaryF1Score    | 0     \n",
      "10 | pool        | GlobalAttention  | 33    \n",
      "--------------------------------------------------\n",
      "23.7 K    Trainable params\n",
      "0         Non-trainable params\n",
      "23.7 K    Total params\n",
      "0.095     Total estimated model params size (MB)\n"
     ]
    },
    {
     "name": "stdout",
     "output_type": "stream",
     "text": [
      "Using GAT\n"
     ]
    },
    {
     "name": "stderr",
     "output_type": "stream",
     "text": [
      "`Trainer.fit` stopped: `max_epochs=65` reached.\n"
     ]
    },
    {
     "data": {
      "text/html": [
       "Waiting for W&B process to finish... <strong style=\"color:green\">(success).</strong>"
      ],
      "text/plain": [
       "<IPython.core.display.HTML object>"
      ]
     },
     "metadata": {},
     "output_type": "display_data"
    },
    {
     "data": {
      "application/vnd.jupyter.widget-view+json": {
       "model_id": "90f34556e353433cb6ee0b577e686973",
       "version_major": 2,
       "version_minor": 0
      },
      "text/plain": [
       "VBox(children=(Label(value='0.001 MB of 0.001 MB uploaded (0.000 MB deduped)\\r'), FloatProgress(value=1.0, max…"
      ]
     },
     "metadata": {},
     "output_type": "display_data"
    },
    {
     "data": {
      "text/html": [
       "<style>\n",
       "    table.wandb td:nth-child(1) { padding: 0 10px; text-align: left ; width: auto;} td:nth-child(2) {text-align: left ; width: 100%}\n",
       "    .wandb-row { display: flex; flex-direction: row; flex-wrap: wrap; justify-content: flex-start; width: 100% }\n",
       "    .wandb-col { display: flex; flex-direction: column; flex-basis: 100%; flex: 1; padding: 10px; }\n",
       "    </style>\n",
       "<div class=\"wandb-row\"><div class=\"wandb-col\"><h3>Run history:</h3><br/><table class=\"wandb\"><tr><td>epoch</td><td>▁▁▁▂▂▂▂▂▂▃▃▃▃▃▄▄▄▄▄▄▅▅▅▅▅▅▆▆▆▆▆▇▇▇▇▇▇███</td></tr><tr><td>lr-Adam</td><td>▁▁▁▁▁▁▁▁▁▁▁▁▁▁▁▁▁▁▁▁▁▁▁▁▁▁▁▁▁▁▁▁▁▁▁▁▁▁▁▁</td></tr><tr><td>train_acc</td><td>▁▄▆▆▇▆▇▇▇▇▇▇▇▇▆▇▇▆▇▇▇▇▇▇▇▇▇▇█▇▇▇▇███▇▇██</td></tr><tr><td>train_auc</td><td>▁▅▆▆▇▆▇▇▇▇▇▇▇▇▇▇▇▇▇▇▇▇▇▇█▇▇▇███▇████████</td></tr><tr><td>train_f1</td><td>▃▁▅▆▇▆▇▇▇▇▇█▇▆▆▇▇█▇▇▆▇▇▆▇█▆▇█▇▇▇▆████▇█▇</td></tr><tr><td>train_loss_epoch</td><td>█▅▅▄▄▄▄▄▅▃▃▃▄▃▄▃▅▄▄▃▃▂▃▃▂▃▂▂▃▃▂▃▂▂▁▂▃▂▂▂</td></tr><tr><td>train_loss_step</td><td>▅▄▅▄▃▃▅▂▄▅▃▃▇▃▂▄▃▃█▃▃▃▄▄▃▁▃▃▂▁▂▄▂▂▃▃▃▂▂▃</td></tr><tr><td>trainer/global_step</td><td>▁▁▁▂▂▁▁▁▁▃▃▂▂▃▃▄▂▂▄▄▅▅▂▅▅▆▃▃▃▆▆▃▃▃▇▇▃▃██</td></tr><tr><td>val_acc</td><td>▁▁▃▅▇▆▆▇▄▅▆▆▅▂▄▄▅▆▆▆▇▇▄▆▇▇▆██▇▆▄▇▆█▅▇▅▆▄</td></tr><tr><td>val_auc</td><td>▁▃▅▅▆▆▆▆▆▇▆▄▆▇▆▇▇▇▇█▇▇▇▇████▇█▆▇▆█▇█▆▇▆▇</td></tr><tr><td>val_f1</td><td>▁▁▃▅▇▆▆▇▄▅▆▆▅▂▄▄▅▆▇▆▇▇▅▆▇▇▆▇▇▇▇▄█▆█▅▇▅▆▄</td></tr><tr><td>val_loss_epoch</td><td>▂▂▃▃▂▄▄▃▅▅▅▂▄▅▅▇▆▇▂█▆▂▄▅▃▇▄▁▂▃▃▆▁▄▂▃▃▆▁▃</td></tr><tr><td>val_loss_step</td><td>▃▂▂▃▂▃▃▃▃▃▄▃▂▃▃▅▃█▁▄▃▃▃▅▂▃▃▃▁▂▃▂▃▃▂▃▃▃▃▅</td></tr></table><br/></div><div class=\"wandb-col\"><h3>Run summary:</h3><br/><table class=\"wandb\"><tr><td>epoch</td><td>64</td></tr><tr><td>lr-Adam</td><td>0.005</td></tr><tr><td>train_acc</td><td>0.77842</td></tr><tr><td>train_auc</td><td>0.81554</td></tr><tr><td>train_f1</td><td>0.66374</td></tr><tr><td>train_loss_epoch</td><td>0.50541</td></tr><tr><td>train_loss_step</td><td>0.51733</td></tr><tr><td>trainer/global_step</td><td>584</td></tr><tr><td>val_acc</td><td>0.63462</td></tr><tr><td>val_auc</td><td>0.78947</td></tr><tr><td>val_f1</td><td>0.24</td></tr><tr><td>val_loss_epoch</td><td>0.68037</td></tr><tr><td>val_loss_step</td><td>0.03766</td></tr></table><br/></div></div>"
      ],
      "text/plain": [
       "<IPython.core.display.HTML object>"
      ]
     },
     "metadata": {},
     "output_type": "display_data"
    },
    {
     "data": {
      "text/html": [
       " View run <strong style=\"color:#cdcd00\">GAT_norm_4_32_onehot_1</strong> at: <a href='https://wandb.ai/thoomas/PLA_01122024_9PPI_3D_Kfold/runs/oru5vww6' target=\"_blank\">https://wandb.ai/thoomas/PLA_01122024_9PPI_3D_Kfold/runs/oru5vww6</a><br/>Synced 6 W&B file(s), 0 media file(s), 0 artifact file(s) and 0 other file(s)"
      ],
      "text/plain": [
       "<IPython.core.display.HTML object>"
      ]
     },
     "metadata": {},
     "output_type": "display_data"
    },
    {
     "data": {
      "text/html": [
       "Find logs at: <code>.\\wandb\\run-20240114_003953-oru5vww6\\logs</code>"
      ],
      "text/plain": [
       "<IPython.core.display.HTML object>"
      ]
     },
     "metadata": {},
     "output_type": "display_data"
    },
    {
     "data": {
      "text/html": [
       "wandb version 0.16.2 is available!  To upgrade, please run:\n",
       " $ pip install wandb --upgrade"
      ],
      "text/plain": [
       "<IPython.core.display.HTML object>"
      ]
     },
     "metadata": {},
     "output_type": "display_data"
    },
    {
     "data": {
      "text/html": [
       "Tracking run with wandb version 0.15.8"
      ],
      "text/plain": [
       "<IPython.core.display.HTML object>"
      ]
     },
     "metadata": {},
     "output_type": "display_data"
    },
    {
     "data": {
      "text/html": [
       "Run data is saved locally in <code>y:\\coskun-lab\\Thomas\\23_PLA_revision\\notebooks\\wandb\\run-20240114_005337-7g4x2wnm</code>"
      ],
      "text/plain": [
       "<IPython.core.display.HTML object>"
      ]
     },
     "metadata": {},
     "output_type": "display_data"
    },
    {
     "data": {
      "text/html": [
       "Syncing run <strong><a href='https://wandb.ai/thoomas/PLA_01122024_9PPI_3D_Kfold/runs/7g4x2wnm' target=\"_blank\">GINConv_norm_2_16_onehot_1</a></strong> to <a href='https://wandb.ai/thoomas/PLA_01122024_9PPI_3D_Kfold' target=\"_blank\">Weights & Biases</a> (<a href='https://wandb.me/run' target=\"_blank\">docs</a>)<br/>"
      ],
      "text/plain": [
       "<IPython.core.display.HTML object>"
      ]
     },
     "metadata": {},
     "output_type": "display_data"
    },
    {
     "data": {
      "text/html": [
       " View project at <a href='https://wandb.ai/thoomas/PLA_01122024_9PPI_3D_Kfold' target=\"_blank\">https://wandb.ai/thoomas/PLA_01122024_9PPI_3D_Kfold</a>"
      ],
      "text/plain": [
       "<IPython.core.display.HTML object>"
      ]
     },
     "metadata": {},
     "output_type": "display_data"
    },
    {
     "data": {
      "text/html": [
       " View run at <a href='https://wandb.ai/thoomas/PLA_01122024_9PPI_3D_Kfold/runs/7g4x2wnm' target=\"_blank\">https://wandb.ai/thoomas/PLA_01122024_9PPI_3D_Kfold/runs/7g4x2wnm</a>"
      ],
      "text/plain": [
       "<IPython.core.display.HTML object>"
      ]
     },
     "metadata": {},
     "output_type": "display_data"
    },
    {
     "name": "stderr",
     "output_type": "stream",
     "text": [
      "Global seed set to 42\n",
      "GPU available: True (cuda), used: True\n",
      "TPU available: False, using: 0 TPU cores\n",
      "IPU available: False, using: 0 IPUs\n",
      "HPU available: False, using: 0 HPUs\n",
      "Global seed set to 42\n",
      "c:\\Users\\thu71\\AppData\\Local\\anaconda3\\envs\\scanpy\\Lib\\site-packages\\lightning\\pytorch\\callbacks\\model_checkpoint.py:617: UserWarning: Checkpoint directory \\\\bme-retromaster.ad.gatech.edu\\labs5\\coskun-lab\\Thomas\\23_PLA_revision\\data\\9PPI_3D\\saved_models\\9PPI_3D\\Graph_GNNs_Kfold\\GINConv_norm_2_16_onehot_1\\mean\\GraphLevelGINConv_norm exists and is not empty.\n",
      "  rank_zero_warn(f\"Checkpoint directory {dirpath} exists and is not empty.\")\n",
      "LOCAL_RANK: 0 - CUDA_VISIBLE_DEVICES: [0]\n",
      "\n",
      "  | Name        | Type             | Params\n",
      "-------------------------------------------------\n",
      "0 | x_embedding | Identity         | 0     \n",
      "1 | model       | GIN              | 1.1 K \n",
      "2 | head        | Sequential       | 154   \n",
      "3 | loss_module | CrossEntropyLoss | 0     \n",
      "4 | train_acc   | BinaryAccuracy   | 0     \n",
      "5 | train_auroc | BinaryAUROC      | 0     \n",
      "6 | train_f1    | BinaryF1Score    | 0     \n",
      "7 | valid_acc   | BinaryAccuracy   | 0     \n",
      "8 | valid_auroc | BinaryAUROC      | 0     \n",
      "9 | valid_f1    | BinaryF1Score    | 0     \n",
      "-------------------------------------------------\n",
      "1.2 K     Trainable params\n",
      "0         Non-trainable params\n",
      "1.2 K     Total params\n",
      "0.005     Total estimated model params size (MB)\n"
     ]
    },
    {
     "name": "stdout",
     "output_type": "stream",
     "text": [
      "GINConv\n"
     ]
    },
    {
     "name": "stderr",
     "output_type": "stream",
     "text": [
      "`Trainer.fit` stopped: `max_epochs=65` reached.\n"
     ]
    },
    {
     "data": {
      "text/html": [
       "Waiting for W&B process to finish... <strong style=\"color:green\">(success).</strong>"
      ],
      "text/plain": [
       "<IPython.core.display.HTML object>"
      ]
     },
     "metadata": {},
     "output_type": "display_data"
    },
    {
     "data": {
      "text/html": [
       "<style>\n",
       "    table.wandb td:nth-child(1) { padding: 0 10px; text-align: left ; width: auto;} td:nth-child(2) {text-align: left ; width: 100%}\n",
       "    .wandb-row { display: flex; flex-direction: row; flex-wrap: wrap; justify-content: flex-start; width: 100% }\n",
       "    .wandb-col { display: flex; flex-direction: column; flex-basis: 100%; flex: 1; padding: 10px; }\n",
       "    </style>\n",
       "<div class=\"wandb-row\"><div class=\"wandb-col\"><h3>Run history:</h3><br/><table class=\"wandb\"><tr><td>epoch</td><td>▁▁▁▂▂▂▂▂▂▃▃▃▃▃▄▄▄▄▄▄▅▅▅▅▅▅▆▆▆▆▆▇▇▇▇▇▇███</td></tr><tr><td>lr-Adam</td><td>▁▁▁▁▁▁▁▁▁▁▁▁▁▁▁▁▁▁▁▁▁▁▁▁▁▁▁▁▁▁▁▁▁▁▁▁▁▁▁▁</td></tr><tr><td>train_acc</td><td>▁▄▆▆▆▆▆▆▇▆▆▇█▆▆▇▆▇▇▇▇█▇▇▇▇█▇██▇██▇▇████▇</td></tr><tr><td>train_auc</td><td>▁▄▅▆▆▇▇▇▇▇▇▇▇▇▇▇▇▇█▇██▇▇██████████▇█████</td></tr><tr><td>train_f1</td><td>▁▂▅▆▅▆▆▆▇▅▇▇▇▆▅█▆▇▇▇▇█▇▇▇▇█▇▇▇▇█▇▇▆▇██▇▇</td></tr><tr><td>train_loss_epoch</td><td>█▇▄▄▄▃▃▄▅▅▃▃▃▂▄▃▃▄▂▃▂▂▂▂▂▁▂▃▂▂▂▂▁▃▂▃▁▂▂▂</td></tr><tr><td>train_loss_step</td><td>██▆▆▄█▂▇▄▅█▇▅▅▅▆▆▅▃▅▃▆▇▄▂▃▅▆▄▂▆▁▃▅▃▄▄▂▃▅</td></tr><tr><td>trainer/global_step</td><td>▁▁▁▂▂▁▁▁▁▃▃▂▂▃▃▄▂▂▄▄▅▅▂▅▅▆▃▃▃▆▆▃▃▃▇▇▃▃██</td></tr><tr><td>val_acc</td><td>▁▄▄▅▅▆▆▅▅▄▄▆▆▅▆▇▆▆▇▆▅▇▇▇██▆▇▇▆▆▆▆▆▅█▇█▆▆</td></tr><tr><td>val_auc</td><td>▁▂▃▃▃▄▄▅▅▄▅▆▆▄▇▇▆▆▇▅▇▇▇▇▇▇▇▇▇▇▆▇▆▇▆█▇█▇▆</td></tr><tr><td>val_f1</td><td>▁▅▅▆▅▆▆▅▆▅▇▇▇▅▇█▇▇▇▇▆█████▆▇█▇██▇▇▆███▇▇</td></tr><tr><td>val_loss_epoch</td><td>██▅▅▅▃▇█▄▃▇▁▂▅▃▂▃▂▃▆▄▁▅▃▂▅▁▄▄▃▂█▆▂▄▅▃▁▅▃</td></tr><tr><td>val_loss_step</td><td>▅█▅▆▅▄█▇▄▃▄▄▂▄▃▄▄▂▄▅▃▄▄▃▁▃▄▃▅▃▄▄▄▄▄▇▄▄▄▄</td></tr></table><br/></div><div class=\"wandb-col\"><h3>Run summary:</h3><br/><table class=\"wandb\"><tr><td>epoch</td><td>64</td></tr><tr><td>lr-Adam</td><td>0.005</td></tr><tr><td>train_acc</td><td>0.78227</td></tr><tr><td>train_auc</td><td>0.84441</td></tr><tr><td>train_f1</td><td>0.70263</td></tr><tr><td>train_loss_epoch</td><td>0.49348</td></tr><tr><td>train_loss_step</td><td>0.52143</td></tr><tr><td>trainer/global_step</td><td>584</td></tr><tr><td>val_acc</td><td>0.75</td></tr><tr><td>val_auc</td><td>0.82115</td></tr><tr><td>val_f1</td><td>0.67662</td></tr><tr><td>val_loss_epoch</td><td>0.47681</td></tr><tr><td>val_loss_step</td><td>0.3834</td></tr></table><br/></div></div>"
      ],
      "text/plain": [
       "<IPython.core.display.HTML object>"
      ]
     },
     "metadata": {},
     "output_type": "display_data"
    },
    {
     "data": {
      "text/html": [
       " View run <strong style=\"color:#cdcd00\">GINConv_norm_2_16_onehot_1</strong> at: <a href='https://wandb.ai/thoomas/PLA_01122024_9PPI_3D_Kfold/runs/7g4x2wnm' target=\"_blank\">https://wandb.ai/thoomas/PLA_01122024_9PPI_3D_Kfold/runs/7g4x2wnm</a><br/>Synced 6 W&B file(s), 0 media file(s), 0 artifact file(s) and 0 other file(s)"
      ],
      "text/plain": [
       "<IPython.core.display.HTML object>"
      ]
     },
     "metadata": {},
     "output_type": "display_data"
    },
    {
     "data": {
      "text/html": [
       "Find logs at: <code>.\\wandb\\run-20240114_005337-7g4x2wnm\\logs</code>"
      ],
      "text/plain": [
       "<IPython.core.display.HTML object>"
      ]
     },
     "metadata": {},
     "output_type": "display_data"
    },
    {
     "data": {
      "application/vnd.jupyter.widget-view+json": {
       "model_id": "179479f048634ae58aeb3db337f0d51f",
       "version_major": 2,
       "version_minor": 0
      },
      "text/plain": [
       "VBox(children=(Label(value='Waiting for wandb.init()...\\r'), FloatProgress(value=0.016666666666666666, max=1.0…"
      ]
     },
     "metadata": {},
     "output_type": "display_data"
    },
    {
     "data": {
      "text/html": [
       "wandb version 0.16.2 is available!  To upgrade, please run:\n",
       " $ pip install wandb --upgrade"
      ],
      "text/plain": [
       "<IPython.core.display.HTML object>"
      ]
     },
     "metadata": {},
     "output_type": "display_data"
    },
    {
     "data": {
      "text/html": [
       "Tracking run with wandb version 0.15.8"
      ],
      "text/plain": [
       "<IPython.core.display.HTML object>"
      ]
     },
     "metadata": {},
     "output_type": "display_data"
    },
    {
     "data": {
      "text/html": [
       "Run data is saved locally in <code>y:\\coskun-lab\\Thomas\\23_PLA_revision\\notebooks\\wandb\\run-20240114_010220-tr2ym1rr</code>"
      ],
      "text/plain": [
       "<IPython.core.display.HTML object>"
      ]
     },
     "metadata": {},
     "output_type": "display_data"
    },
    {
     "data": {
      "text/html": [
       "Syncing run <strong><a href='https://wandb.ai/thoomas/PLA_01122024_9PPI_3D_Kfold/runs/tr2ym1rr' target=\"_blank\">MLP_2_64_onehot_2</a></strong> to <a href='https://wandb.ai/thoomas/PLA_01122024_9PPI_3D_Kfold' target=\"_blank\">Weights & Biases</a> (<a href='https://wandb.me/run' target=\"_blank\">docs</a>)<br/>"
      ],
      "text/plain": [
       "<IPython.core.display.HTML object>"
      ]
     },
     "metadata": {},
     "output_type": "display_data"
    },
    {
     "data": {
      "text/html": [
       " View project at <a href='https://wandb.ai/thoomas/PLA_01122024_9PPI_3D_Kfold' target=\"_blank\">https://wandb.ai/thoomas/PLA_01122024_9PPI_3D_Kfold</a>"
      ],
      "text/plain": [
       "<IPython.core.display.HTML object>"
      ]
     },
     "metadata": {},
     "output_type": "display_data"
    },
    {
     "data": {
      "text/html": [
       " View run at <a href='https://wandb.ai/thoomas/PLA_01122024_9PPI_3D_Kfold/runs/tr2ym1rr' target=\"_blank\">https://wandb.ai/thoomas/PLA_01122024_9PPI_3D_Kfold/runs/tr2ym1rr</a>"
      ],
      "text/plain": [
       "<IPython.core.display.HTML object>"
      ]
     },
     "metadata": {},
     "output_type": "display_data"
    },
    {
     "name": "stderr",
     "output_type": "stream",
     "text": [
      "Global seed set to 42\n",
      "GPU available: True (cuda), used: True\n",
      "TPU available: False, using: 0 TPU cores\n",
      "IPU available: False, using: 0 IPUs\n",
      "HPU available: False, using: 0 HPUs\n",
      "Global seed set to 42\n",
      "c:\\Users\\thu71\\AppData\\Local\\anaconda3\\envs\\scanpy\\Lib\\site-packages\\lightning\\pytorch\\callbacks\\model_checkpoint.py:617: UserWarning: Checkpoint directory \\\\bme-retromaster.ad.gatech.edu\\labs5\\coskun-lab\\Thomas\\23_PLA_revision\\data\\9PPI_3D\\saved_models\\9PPI_3D\\Graph_GNNs_Kfold\\MLP_2_64_onehot_2\\attention\\GraphLevelMLP exists and is not empty.\n",
      "  rank_zero_warn(f\"Checkpoint directory {dirpath} exists and is not empty.\")\n",
      "LOCAL_RANK: 0 - CUDA_VISIBLE_DEVICES: [0]\n",
      "\n",
      "   | Name        | Type             | Params\n",
      "--------------------------------------------------\n",
      "0  | x_embedding | Identity         | 0     \n",
      "1  | model       | MLPModel         | 4.8 K \n",
      "2  | head        | Sequential       | 2.1 K \n",
      "3  | loss_module | CrossEntropyLoss | 0     \n",
      "4  | train_acc   | BinaryAccuracy   | 0     \n",
      "5  | train_auroc | BinaryAUROC      | 0     \n",
      "6  | train_f1    | BinaryF1Score    | 0     \n",
      "7  | valid_acc   | BinaryAccuracy   | 0     \n",
      "8  | valid_auroc | BinaryAUROC      | 0     \n",
      "9  | valid_f1    | BinaryF1Score    | 0     \n",
      "10 | pool        | GlobalAttention  | 65    \n",
      "--------------------------------------------------\n",
      "7.0 K     Trainable params\n",
      "0         Non-trainable params\n",
      "7.0 K     Total params\n",
      "0.028     Total estimated model params size (MB)\n"
     ]
    },
    {
     "name": "stdout",
     "output_type": "stream",
     "text": [
      "Using MLP\n"
     ]
    },
    {
     "name": "stderr",
     "output_type": "stream",
     "text": [
      "`Trainer.fit` stopped: `max_epochs=65` reached.\n"
     ]
    },
    {
     "data": {
      "text/html": [
       "Waiting for W&B process to finish... <strong style=\"color:green\">(success).</strong>"
      ],
      "text/plain": [
       "<IPython.core.display.HTML object>"
      ]
     },
     "metadata": {},
     "output_type": "display_data"
    },
    {
     "data": {
      "application/vnd.jupyter.widget-view+json": {
       "model_id": "708bfbf2b7c14a0e9ea83a5d98a430e2",
       "version_major": 2,
       "version_minor": 0
      },
      "text/plain": [
       "VBox(children=(Label(value='0.001 MB of 0.001 MB uploaded (0.000 MB deduped)\\r'), FloatProgress(value=1.0, max…"
      ]
     },
     "metadata": {},
     "output_type": "display_data"
    },
    {
     "data": {
      "text/html": [
       "<style>\n",
       "    table.wandb td:nth-child(1) { padding: 0 10px; text-align: left ; width: auto;} td:nth-child(2) {text-align: left ; width: 100%}\n",
       "    .wandb-row { display: flex; flex-direction: row; flex-wrap: wrap; justify-content: flex-start; width: 100% }\n",
       "    .wandb-col { display: flex; flex-direction: column; flex-basis: 100%; flex: 1; padding: 10px; }\n",
       "    </style>\n",
       "<div class=\"wandb-row\"><div class=\"wandb-col\"><h3>Run history:</h3><br/><table class=\"wandb\"><tr><td>epoch</td><td>▁▁▁▂▂▂▂▂▂▃▃▃▃▃▄▄▄▄▄▄▅▅▅▅▅▅▆▆▆▆▆▇▇▇▇▇▇███</td></tr><tr><td>lr-Adam</td><td>▁▁▁▁▁▁▁▁▁▁▁▁▁▁▁▁▁▁▁▁▁▁▁▁▁▁▁▁▁▁▁▁▁▁▁▁▁▁▁▁</td></tr><tr><td>train_acc</td><td>▁▂▂▄▇▇██▇▇▇▆▇▇█▇▇▆█▇██▇█████▇▆▇▇████▇███</td></tr><tr><td>train_auc</td><td>▁▂▁▄▆▇▇█▇▆▇▆▇▇█▇▇▇██▇▇▇▇█▇██▇▇▇▇██▇█▇█▇█</td></tr><tr><td>train_f1</td><td>▂▁▄▂▇▇██▆▆▇▆▇▆▇▇▇▆█▇██▇▇▇▇▇█▇▇█▆▇█▇▇▇▇▇▇</td></tr><tr><td>train_loss_epoch</td><td>█▇█▆▅▃▂▂▃▄▃▄▄▂▂▄▂▄▃▂▂▃▃▃▂▃▂▂▄▄▄▄▁▃▃▂▃▂▂▄</td></tr><tr><td>train_loss_step</td><td>▆▇▇▆▅▅▁▇▅▄▄▆▇▅█▄▄▅▅▅▅▆▆▅▄▅▅▇▅▅▅▄▄▅▄▅▃▅▄▅</td></tr><tr><td>trainer/global_step</td><td>▁▁▁▂▂▁▁▁▁▃▃▂▂▃▃▄▂▂▄▄▅▅▂▅▅▆▃▃▃▆▆▃▃▃▇▇▃▃██</td></tr><tr><td>val_acc</td><td>▁▁▂▂▄▄▃▃▃▆▅▇▅▅▇▇▅▇▇▆▆▄▄█▆▆▇▃█▅▃▇▅█▇███▆▇</td></tr><tr><td>val_auc</td><td>▁▂▂▃▅▆▆▆▆▆▆▆▆▆▆▆▇▇▇▇▇▇▇▇▇███████████████</td></tr><tr><td>val_f1</td><td>▁▁▂▂▄▅▃▃▄▇▅▇▅▆▇▇▆█▇▆▆▅▅▇▆▆▇▄█▅▄▇▆▇▇▇▇█▆▇</td></tr><tr><td>val_loss_epoch</td><td>▅▆▅▄▄▃▆▂▂▃▇▅▃▄▁▃▅▂▁▆▁▇▂▂▂▃▇▄▃▂█▂▂█▂▄▄▄▃▅</td></tr><tr><td>val_loss_step</td><td>▅▆▅▅▄▄█▁▅▅▅▅▄▅▄▄▄▂▁▄▄▅▄▂▂▅▄▅▄▁▄▄▄▃▂▆▄▅▅▄</td></tr></table><br/></div><div class=\"wandb-col\"><h3>Run summary:</h3><br/><table class=\"wandb\"><tr><td>epoch</td><td>64</td></tr><tr><td>lr-Adam</td><td>0.005</td></tr><tr><td>train_acc</td><td>0.69653</td></tr><tr><td>train_auc</td><td>0.73549</td></tr><tr><td>train_f1</td><td>0.56671</td></tr><tr><td>train_loss_epoch</td><td>0.61724</td></tr><tr><td>train_loss_step</td><td>0.62835</td></tr><tr><td>trainer/global_step</td><td>584</td></tr><tr><td>val_acc</td><td>0.72308</td></tr><tr><td>val_auc</td><td>0.7425</td></tr><tr><td>val_f1</td><td>0.5814</td></tr><tr><td>val_loss_epoch</td><td>0.63871</td></tr><tr><td>val_loss_step</td><td>0.77219</td></tr></table><br/></div></div>"
      ],
      "text/plain": [
       "<IPython.core.display.HTML object>"
      ]
     },
     "metadata": {},
     "output_type": "display_data"
    },
    {
     "data": {
      "text/html": [
       " View run <strong style=\"color:#cdcd00\">MLP_2_64_onehot_2</strong> at: <a href='https://wandb.ai/thoomas/PLA_01122024_9PPI_3D_Kfold/runs/tr2ym1rr' target=\"_blank\">https://wandb.ai/thoomas/PLA_01122024_9PPI_3D_Kfold/runs/tr2ym1rr</a><br/>Synced 6 W&B file(s), 0 media file(s), 0 artifact file(s) and 0 other file(s)"
      ],
      "text/plain": [
       "<IPython.core.display.HTML object>"
      ]
     },
     "metadata": {},
     "output_type": "display_data"
    },
    {
     "data": {
      "text/html": [
       "Find logs at: <code>.\\wandb\\run-20240114_010220-tr2ym1rr\\logs</code>"
      ],
      "text/plain": [
       "<IPython.core.display.HTML object>"
      ]
     },
     "metadata": {},
     "output_type": "display_data"
    },
    {
     "data": {
      "text/html": [
       "wandb version 0.16.2 is available!  To upgrade, please run:\n",
       " $ pip install wandb --upgrade"
      ],
      "text/plain": [
       "<IPython.core.display.HTML object>"
      ]
     },
     "metadata": {},
     "output_type": "display_data"
    },
    {
     "data": {
      "text/html": [
       "Tracking run with wandb version 0.15.8"
      ],
      "text/plain": [
       "<IPython.core.display.HTML object>"
      ]
     },
     "metadata": {},
     "output_type": "display_data"
    },
    {
     "data": {
      "text/html": [
       "Run data is saved locally in <code>y:\\coskun-lab\\Thomas\\23_PLA_revision\\notebooks\\wandb\\run-20240114_011235-ilra0giu</code>"
      ],
      "text/plain": [
       "<IPython.core.display.HTML object>"
      ]
     },
     "metadata": {},
     "output_type": "display_data"
    },
    {
     "data": {
      "text/html": [
       "Syncing run <strong><a href='https://wandb.ai/thoomas/PLA_01122024_9PPI_3D_Kfold/runs/ilra0giu' target=\"_blank\">GraphConv_2_64_onehot_2</a></strong> to <a href='https://wandb.ai/thoomas/PLA_01122024_9PPI_3D_Kfold' target=\"_blank\">Weights & Biases</a> (<a href='https://wandb.me/run' target=\"_blank\">docs</a>)<br/>"
      ],
      "text/plain": [
       "<IPython.core.display.HTML object>"
      ]
     },
     "metadata": {},
     "output_type": "display_data"
    },
    {
     "data": {
      "text/html": [
       " View project at <a href='https://wandb.ai/thoomas/PLA_01122024_9PPI_3D_Kfold' target=\"_blank\">https://wandb.ai/thoomas/PLA_01122024_9PPI_3D_Kfold</a>"
      ],
      "text/plain": [
       "<IPython.core.display.HTML object>"
      ]
     },
     "metadata": {},
     "output_type": "display_data"
    },
    {
     "data": {
      "text/html": [
       " View run at <a href='https://wandb.ai/thoomas/PLA_01122024_9PPI_3D_Kfold/runs/ilra0giu' target=\"_blank\">https://wandb.ai/thoomas/PLA_01122024_9PPI_3D_Kfold/runs/ilra0giu</a>"
      ],
      "text/plain": [
       "<IPython.core.display.HTML object>"
      ]
     },
     "metadata": {},
     "output_type": "display_data"
    },
    {
     "name": "stderr",
     "output_type": "stream",
     "text": [
      "Global seed set to 42\n",
      "GPU available: True (cuda), used: True\n",
      "TPU available: False, using: 0 TPU cores\n",
      "IPU available: False, using: 0 IPUs\n",
      "HPU available: False, using: 0 HPUs\n",
      "Global seed set to 42\n",
      "c:\\Users\\thu71\\AppData\\Local\\anaconda3\\envs\\scanpy\\Lib\\site-packages\\lightning\\pytorch\\callbacks\\model_checkpoint.py:617: UserWarning: Checkpoint directory \\\\bme-retromaster.ad.gatech.edu\\labs5\\coskun-lab\\Thomas\\23_PLA_revision\\data\\9PPI_3D\\saved_models\\9PPI_3D\\Graph_GNNs_Kfold\\GraphConv_2_64_onehot_2\\mean\\GraphLevelGraphConv exists and is not empty.\n",
      "  rank_zero_warn(f\"Checkpoint directory {dirpath} exists and is not empty.\")\n",
      "LOCAL_RANK: 0 - CUDA_VISIBLE_DEVICES: [0]\n",
      "\n",
      "  | Name        | Type             | Params\n",
      "-------------------------------------------------\n",
      "0 | x_embedding | Identity         | 0     \n",
      "1 | model       | GNNModel         | 9.6 K \n",
      "2 | head        | Sequential       | 2.1 K \n",
      "3 | loss_module | CrossEntropyLoss | 0     \n",
      "4 | train_acc   | BinaryAccuracy   | 0     \n",
      "5 | train_auroc | BinaryAUROC      | 0     \n",
      "6 | train_f1    | BinaryF1Score    | 0     \n",
      "7 | valid_acc   | BinaryAccuracy   | 0     \n",
      "8 | valid_auroc | BinaryAUROC      | 0     \n",
      "9 | valid_f1    | BinaryF1Score    | 0     \n",
      "-------------------------------------------------\n",
      "11.7 K    Trainable params\n",
      "0         Non-trainable params\n",
      "11.7 K    Total params\n",
      "0.047     Total estimated model params size (MB)\n"
     ]
    },
    {
     "name": "stdout",
     "output_type": "stream",
     "text": [
      "Using GNN\n"
     ]
    },
    {
     "name": "stderr",
     "output_type": "stream",
     "text": [
      "`Trainer.fit` stopped: `max_epochs=65` reached.\n"
     ]
    },
    {
     "data": {
      "text/html": [
       "Waiting for W&B process to finish... <strong style=\"color:green\">(success).</strong>"
      ],
      "text/plain": [
       "<IPython.core.display.HTML object>"
      ]
     },
     "metadata": {},
     "output_type": "display_data"
    },
    {
     "data": {
      "text/html": [
       "<style>\n",
       "    table.wandb td:nth-child(1) { padding: 0 10px; text-align: left ; width: auto;} td:nth-child(2) {text-align: left ; width: 100%}\n",
       "    .wandb-row { display: flex; flex-direction: row; flex-wrap: wrap; justify-content: flex-start; width: 100% }\n",
       "    .wandb-col { display: flex; flex-direction: column; flex-basis: 100%; flex: 1; padding: 10px; }\n",
       "    </style>\n",
       "<div class=\"wandb-row\"><div class=\"wandb-col\"><h3>Run history:</h3><br/><table class=\"wandb\"><tr><td>epoch</td><td>▁▁▁▂▂▂▂▂▂▃▃▃▃▃▄▄▄▄▄▄▅▅▅▅▅▅▆▆▆▆▆▇▇▇▇▇▇███</td></tr><tr><td>lr-Adam</td><td>▁▁▁▁▁▁▁▁▁▁▁▁▁▁▁▁▁▁▁▁▁▁▁▁▁▁▁▁▁▁▁▁▁▁▁▁▁▁▁▁</td></tr><tr><td>train_acc</td><td>▁▄▅▅▆▆▅▆▇▇▇▇▇▇▇▇▇▇██▇█▇▇█▇▇▇▇▇███▇▇▇████</td></tr><tr><td>train_auc</td><td>▁▄▅▆▆▇▆▇▇▇▇▇▇▇▇█▇████████████▇██████████</td></tr><tr><td>train_f1</td><td>▁▅▆▆▇▇▆▇█▇▇▇█▇▇██▇██▇████▇█▇██████▇▇████</td></tr><tr><td>train_loss_epoch</td><td>█▇▅▄▄▆▄▃▃▂▂▃▃▄▂▂▂▂▂▂▂▁▂▂▁▃▂▂▂▂▁▁▁▂▂▂▂▂▁▂</td></tr><tr><td>train_loss_step</td><td>▇▆▇▅▅▄▇▄▄▄▃▃█▂▅▅▄▃▂▂▄▄▃▃▁▂▄▅▃▃▃▂▄▅▂▄▄▃▄▄</td></tr><tr><td>trainer/global_step</td><td>▁▁▁▂▂▁▁▁▁▃▃▂▂▃▃▄▂▂▄▄▅▅▂▅▅▆▃▃▃▆▆▃▃▃▇▇▃▃██</td></tr><tr><td>val_acc</td><td>▁▂▅▅▇▇▅▇█▇▆▇▆▇█▇▆▇▆▇▇▅█▇▇▇▇███▇▇▇▇▇▆█▇▇▇</td></tr><tr><td>val_auc</td><td>▁▂▄▅▅▆▆▇▇▇▇█▇▇▇▇▇█▇██▇█▇▇█▇██████▇█▆███▇</td></tr><tr><td>val_f1</td><td>▁▃▆▆▇▇▆▇█▇▇▇▇██▇▇▇▇▇▇▆█▇▇▇████▇█▇█▇▇██▇█</td></tr><tr><td>val_loss_epoch</td><td>▅▃▅▃▂▄▂▅▂▂▄▂▃▂▂▂▄▂▃▃▁▂▆▁█▁▂▃▁▂▃▄▂▂▃▂▁▃▃▄</td></tr><tr><td>val_loss_step</td><td>▃▂▃▃▂▂▁▅▂▃▂▂▃▁▃▃▂▂▃▂▂▃▂▁█▂▂▂▁▁▂▂▂▂▃▁▂▂▃▃</td></tr></table><br/></div><div class=\"wandb-col\"><h3>Run summary:</h3><br/><table class=\"wandb\"><tr><td>epoch</td><td>64</td></tr><tr><td>lr-Adam</td><td>0.005</td></tr><tr><td>train_acc</td><td>0.83237</td></tr><tr><td>train_auc</td><td>0.89718</td></tr><tr><td>train_f1</td><td>0.78986</td></tr><tr><td>train_loss_epoch</td><td>0.40296</td></tr><tr><td>train_loss_step</td><td>0.453</td></tr><tr><td>trainer/global_step</td><td>584</td></tr><tr><td>val_acc</td><td>0.80769</td></tr><tr><td>val_auc</td><td>0.86155</td></tr><tr><td>val_f1</td><td>0.73958</td></tr><tr><td>val_loss_epoch</td><td>0.56761</td></tr><tr><td>val_loss_step</td><td>0.76855</td></tr></table><br/></div></div>"
      ],
      "text/plain": [
       "<IPython.core.display.HTML object>"
      ]
     },
     "metadata": {},
     "output_type": "display_data"
    },
    {
     "data": {
      "text/html": [
       " View run <strong style=\"color:#cdcd00\">GraphConv_2_64_onehot_2</strong> at: <a href='https://wandb.ai/thoomas/PLA_01122024_9PPI_3D_Kfold/runs/ilra0giu' target=\"_blank\">https://wandb.ai/thoomas/PLA_01122024_9PPI_3D_Kfold/runs/ilra0giu</a><br/>Synced 6 W&B file(s), 0 media file(s), 0 artifact file(s) and 0 other file(s)"
      ],
      "text/plain": [
       "<IPython.core.display.HTML object>"
      ]
     },
     "metadata": {},
     "output_type": "display_data"
    },
    {
     "data": {
      "text/html": [
       "Find logs at: <code>.\\wandb\\run-20240114_011235-ilra0giu\\logs</code>"
      ],
      "text/plain": [
       "<IPython.core.display.HTML object>"
      ]
     },
     "metadata": {},
     "output_type": "display_data"
    },
    {
     "data": {
      "application/vnd.jupyter.widget-view+json": {
       "model_id": "2764068ce10b492b9a2f8181f66b92df",
       "version_major": 2,
       "version_minor": 0
      },
      "text/plain": [
       "VBox(children=(Label(value='Waiting for wandb.init()...\\r'), FloatProgress(value=0.01691666666883975, max=1.0)…"
      ]
     },
     "metadata": {},
     "output_type": "display_data"
    },
    {
     "data": {
      "text/html": [
       "wandb version 0.16.2 is available!  To upgrade, please run:\n",
       " $ pip install wandb --upgrade"
      ],
      "text/plain": [
       "<IPython.core.display.HTML object>"
      ]
     },
     "metadata": {},
     "output_type": "display_data"
    },
    {
     "data": {
      "text/html": [
       "Tracking run with wandb version 0.15.8"
      ],
      "text/plain": [
       "<IPython.core.display.HTML object>"
      ]
     },
     "metadata": {},
     "output_type": "display_data"
    },
    {
     "data": {
      "text/html": [
       "Run data is saved locally in <code>y:\\coskun-lab\\Thomas\\23_PLA_revision\\notebooks\\wandb\\run-20240114_012057-63hmd0tw</code>"
      ],
      "text/plain": [
       "<IPython.core.display.HTML object>"
      ]
     },
     "metadata": {},
     "output_type": "display_data"
    },
    {
     "data": {
      "text/html": [
       "Syncing run <strong><a href='https://wandb.ai/thoomas/PLA_01122024_9PPI_3D_Kfold/runs/63hmd0tw' target=\"_blank\">GCN_2_32_onehot_2</a></strong> to <a href='https://wandb.ai/thoomas/PLA_01122024_9PPI_3D_Kfold' target=\"_blank\">Weights & Biases</a> (<a href='https://wandb.me/run' target=\"_blank\">docs</a>)<br/>"
      ],
      "text/plain": [
       "<IPython.core.display.HTML object>"
      ]
     },
     "metadata": {},
     "output_type": "display_data"
    },
    {
     "data": {
      "text/html": [
       " View project at <a href='https://wandb.ai/thoomas/PLA_01122024_9PPI_3D_Kfold' target=\"_blank\">https://wandb.ai/thoomas/PLA_01122024_9PPI_3D_Kfold</a>"
      ],
      "text/plain": [
       "<IPython.core.display.HTML object>"
      ]
     },
     "metadata": {},
     "output_type": "display_data"
    },
    {
     "data": {
      "text/html": [
       " View run at <a href='https://wandb.ai/thoomas/PLA_01122024_9PPI_3D_Kfold/runs/63hmd0tw' target=\"_blank\">https://wandb.ai/thoomas/PLA_01122024_9PPI_3D_Kfold/runs/63hmd0tw</a>"
      ],
      "text/plain": [
       "<IPython.core.display.HTML object>"
      ]
     },
     "metadata": {},
     "output_type": "display_data"
    },
    {
     "name": "stderr",
     "output_type": "stream",
     "text": [
      "Global seed set to 42\n",
      "GPU available: True (cuda), used: True\n",
      "TPU available: False, using: 0 TPU cores\n",
      "IPU available: False, using: 0 IPUs\n",
      "HPU available: False, using: 0 HPUs\n",
      "Global seed set to 42\n",
      "c:\\Users\\thu71\\AppData\\Local\\anaconda3\\envs\\scanpy\\Lib\\site-packages\\lightning\\pytorch\\callbacks\\model_checkpoint.py:617: UserWarning: Checkpoint directory \\\\bme-retromaster.ad.gatech.edu\\labs5\\coskun-lab\\Thomas\\23_PLA_revision\\data\\9PPI_3D\\saved_models\\9PPI_3D\\Graph_GNNs_Kfold\\GCN_2_32_onehot_2\\attention2\\GraphLevelGCN exists and is not empty.\n",
      "  rank_zero_warn(f\"Checkpoint directory {dirpath} exists and is not empty.\")\n",
      "LOCAL_RANK: 0 - CUDA_VISIBLE_DEVICES: [0]\n",
      "\n",
      "   | Name        | Type             | Params\n",
      "--------------------------------------------------\n",
      "0  | x_embedding | Identity         | 0     \n",
      "1  | model       | GNNModel         | 1.4 K \n",
      "2  | head        | Sequential       | 562   \n",
      "3  | loss_module | CrossEntropyLoss | 0     \n",
      "4  | train_acc   | BinaryAccuracy   | 0     \n",
      "5  | train_auroc | BinaryAUROC      | 0     \n",
      "6  | train_f1    | BinaryF1Score    | 0     \n",
      "7  | valid_acc   | BinaryAccuracy   | 0     \n",
      "8  | valid_auroc | BinaryAUROC      | 0     \n",
      "9  | valid_f1    | BinaryF1Score    | 0     \n",
      "10 | pool        | Attention_module | 1.1 K \n",
      "--------------------------------------------------\n",
      "3.1 K     Trainable params\n",
      "0         Non-trainable params\n",
      "3.1 K     Total params\n",
      "0.012     Total estimated model params size (MB)\n"
     ]
    },
    {
     "name": "stdout",
     "output_type": "stream",
     "text": [
      "Using GNN\n"
     ]
    },
    {
     "name": "stderr",
     "output_type": "stream",
     "text": [
      "`Trainer.fit` stopped: `max_epochs=65` reached.\n"
     ]
    },
    {
     "data": {
      "text/html": [
       "Waiting for W&B process to finish... <strong style=\"color:green\">(success).</strong>"
      ],
      "text/plain": [
       "<IPython.core.display.HTML object>"
      ]
     },
     "metadata": {},
     "output_type": "display_data"
    },
    {
     "data": {
      "text/html": [
       "<style>\n",
       "    table.wandb td:nth-child(1) { padding: 0 10px; text-align: left ; width: auto;} td:nth-child(2) {text-align: left ; width: 100%}\n",
       "    .wandb-row { display: flex; flex-direction: row; flex-wrap: wrap; justify-content: flex-start; width: 100% }\n",
       "    .wandb-col { display: flex; flex-direction: column; flex-basis: 100%; flex: 1; padding: 10px; }\n",
       "    </style>\n",
       "<div class=\"wandb-row\"><div class=\"wandb-col\"><h3>Run history:</h3><br/><table class=\"wandb\"><tr><td>epoch</td><td>▁▁▁▂▂▂▂▂▂▃▃▃▃▃▄▄▄▄▄▄▅▅▅▅▅▅▆▆▆▆▆▇▇▇▇▇▇███</td></tr><tr><td>lr-Adam</td><td>▁▁▁▁▁▁▁▁▁▁▁▁▁▁▁▁▁▁▁▁▁▁▁▁▁▁▁▁▁▁▁▁▁▁▁▁▁▁▁▁</td></tr><tr><td>train_acc</td><td>▁▅▇▆▇▇▇▇▇▆▇▇▇▇▇█▇▇▇██▇███▇█▇█████▇████▇▇</td></tr><tr><td>train_auc</td><td>▁▅▇▆▇▇▇▇▇▇▇▇▇▇▇█▇▇▇▇▇▇▇█▇▇█▇▇████▇█▇████</td></tr><tr><td>train_f1</td><td>▁▄▆▅▇▇▇▇▇▅▇▆██▆▇▇▆▇▇▇▆▇█▇▆█▇▇▇███▆███▇▇▇</td></tr><tr><td>train_loss_epoch</td><td>█▅▃▃▄▃▃▃▃▂▃▃▃▂▂▂▃▃▂▃▂▂▂▂▃▃▂▂▂▂▂▂▃▂▂▂▂▁▁▂</td></tr><tr><td>train_loss_step</td><td>▆▄▆▄▄▃▃▂▄▃▂▄▄▄▃▂▃▄▁▄▃▄▄▆█▃▃▄▄▃▄▂▄▄▂▃▃▃▂▂</td></tr><tr><td>trainer/global_step</td><td>▁▁▁▂▂▁▁▁▁▃▃▂▂▃▃▄▂▂▄▄▅▅▂▅▅▆▃▃▃▆▆▃▃▃▇▇▃▃██</td></tr><tr><td>val_acc</td><td>▁▁▁▂▅██▇███▇▇▇▆▇▇▇█▆▆▆▇██▇▇█▇▇▇██▇▇█▁█▇█</td></tr><tr><td>val_auc</td><td>▁▃▅▆▆▆▇▇▆▇▇██▇███▇▇▇███▇█▇▇██▇▇▇███▇▇██▇</td></tr><tr><td>val_f1</td><td>▁▁▁▃▅█▇▇███▇▇▇▆▇▇▇█▇▇▆▇██▇████▇██▇▇█▇▇▇█</td></tr><tr><td>val_loss_epoch</td><td>█▆▅▇█▃▃▄▁▂▂▄▄▁▆▂▂▃▃▄▃▇▂▁▄▇▂▂▅▅▄▃▁▇▅▁▆▁▅▂</td></tr><tr><td>val_loss_step</td><td>▆▅▆▆▅▅▄▆▄▅▅▅▆▁▄▄▅▄▄▅▅▆▅▁▆▅▅▅██▄▄▅▅▇▂▇▄▄▅</td></tr></table><br/></div><div class=\"wandb-col\"><h3>Run summary:</h3><br/><table class=\"wandb\"><tr><td>epoch</td><td>64</td></tr><tr><td>lr-Adam</td><td>0.005</td></tr><tr><td>train_acc</td><td>0.79094</td></tr><tr><td>train_auc</td><td>0.87454</td></tr><tr><td>train_f1</td><td>0.71105</td></tr><tr><td>train_loss_epoch</td><td>0.47561</td></tr><tr><td>train_loss_step</td><td>0.4122</td></tr><tr><td>trainer/global_step</td><td>584</td></tr><tr><td>val_acc</td><td>0.8</td></tr><tr><td>val_auc</td><td>0.84587</td></tr><tr><td>val_f1</td><td>0.73469</td></tr><tr><td>val_loss_epoch</td><td>0.42047</td></tr><tr><td>val_loss_step</td><td>0.27824</td></tr></table><br/></div></div>"
      ],
      "text/plain": [
       "<IPython.core.display.HTML object>"
      ]
     },
     "metadata": {},
     "output_type": "display_data"
    },
    {
     "data": {
      "text/html": [
       " View run <strong style=\"color:#cdcd00\">GCN_2_32_onehot_2</strong> at: <a href='https://wandb.ai/thoomas/PLA_01122024_9PPI_3D_Kfold/runs/63hmd0tw' target=\"_blank\">https://wandb.ai/thoomas/PLA_01122024_9PPI_3D_Kfold/runs/63hmd0tw</a><br/>Synced 6 W&B file(s), 0 media file(s), 0 artifact file(s) and 0 other file(s)"
      ],
      "text/plain": [
       "<IPython.core.display.HTML object>"
      ]
     },
     "metadata": {},
     "output_type": "display_data"
    },
    {
     "data": {
      "text/html": [
       "Find logs at: <code>.\\wandb\\run-20240114_012057-63hmd0tw\\logs</code>"
      ],
      "text/plain": [
       "<IPython.core.display.HTML object>"
      ]
     },
     "metadata": {},
     "output_type": "display_data"
    },
    {
     "data": {
      "application/vnd.jupyter.widget-view+json": {
       "model_id": "610d2c007d564eed8490002e89605054",
       "version_major": 2,
       "version_minor": 0
      },
      "text/plain": [
       "VBox(children=(Label(value='Waiting for wandb.init()...\\r'), FloatProgress(value=0.016666666666666666, max=1.0…"
      ]
     },
     "metadata": {},
     "output_type": "display_data"
    },
    {
     "data": {
      "text/html": [
       "wandb version 0.16.2 is available!  To upgrade, please run:\n",
       " $ pip install wandb --upgrade"
      ],
      "text/plain": [
       "<IPython.core.display.HTML object>"
      ]
     },
     "metadata": {},
     "output_type": "display_data"
    },
    {
     "data": {
      "text/html": [
       "Tracking run with wandb version 0.15.8"
      ],
      "text/plain": [
       "<IPython.core.display.HTML object>"
      ]
     },
     "metadata": {},
     "output_type": "display_data"
    },
    {
     "data": {
      "text/html": [
       "Run data is saved locally in <code>y:\\coskun-lab\\Thomas\\23_PLA_revision\\notebooks\\wandb\\run-20240114_013053-v8pslgt5</code>"
      ],
      "text/plain": [
       "<IPython.core.display.HTML object>"
      ]
     },
     "metadata": {},
     "output_type": "display_data"
    },
    {
     "data": {
      "text/html": [
       "Syncing run <strong><a href='https://wandb.ai/thoomas/PLA_01122024_9PPI_3D_Kfold/runs/v8pslgt5' target=\"_blank\">GAT_norm_4_32_onehot_2</a></strong> to <a href='https://wandb.ai/thoomas/PLA_01122024_9PPI_3D_Kfold' target=\"_blank\">Weights & Biases</a> (<a href='https://wandb.me/run' target=\"_blank\">docs</a>)<br/>"
      ],
      "text/plain": [
       "<IPython.core.display.HTML object>"
      ]
     },
     "metadata": {},
     "output_type": "display_data"
    },
    {
     "data": {
      "text/html": [
       " View project at <a href='https://wandb.ai/thoomas/PLA_01122024_9PPI_3D_Kfold' target=\"_blank\">https://wandb.ai/thoomas/PLA_01122024_9PPI_3D_Kfold</a>"
      ],
      "text/plain": [
       "<IPython.core.display.HTML object>"
      ]
     },
     "metadata": {},
     "output_type": "display_data"
    },
    {
     "data": {
      "text/html": [
       " View run at <a href='https://wandb.ai/thoomas/PLA_01122024_9PPI_3D_Kfold/runs/v8pslgt5' target=\"_blank\">https://wandb.ai/thoomas/PLA_01122024_9PPI_3D_Kfold/runs/v8pslgt5</a>"
      ],
      "text/plain": [
       "<IPython.core.display.HTML object>"
      ]
     },
     "metadata": {},
     "output_type": "display_data"
    },
    {
     "name": "stderr",
     "output_type": "stream",
     "text": [
      "Global seed set to 42\n",
      "GPU available: True (cuda), used: True\n",
      "TPU available: False, using: 0 TPU cores\n",
      "IPU available: False, using: 0 IPUs\n",
      "HPU available: False, using: 0 HPUs\n",
      "Global seed set to 42\n",
      "c:\\Users\\thu71\\AppData\\Local\\anaconda3\\envs\\scanpy\\Lib\\site-packages\\lightning\\pytorch\\callbacks\\model_checkpoint.py:617: UserWarning: Checkpoint directory \\\\bme-retromaster.ad.gatech.edu\\labs5\\coskun-lab\\Thomas\\23_PLA_revision\\data\\9PPI_3D\\saved_models\\9PPI_3D\\Graph_GNNs_Kfold\\GAT_norm_4_32_onehot_2\\attention\\GraphLevelGAT_norm exists and is not empty.\n",
      "  rank_zero_warn(f\"Checkpoint directory {dirpath} exists and is not empty.\")\n",
      "LOCAL_RANK: 0 - CUDA_VISIBLE_DEVICES: [0]\n",
      "\n",
      "   | Name        | Type             | Params\n",
      "--------------------------------------------------\n",
      "0  | x_embedding | Identity         | 0     \n",
      "1  | model       | GAT              | 23.1 K\n",
      "2  | head        | Sequential       | 562   \n",
      "3  | loss_module | CrossEntropyLoss | 0     \n",
      "4  | train_acc   | BinaryAccuracy   | 0     \n",
      "5  | train_auroc | BinaryAUROC      | 0     \n",
      "6  | train_f1    | BinaryF1Score    | 0     \n",
      "7  | valid_acc   | BinaryAccuracy   | 0     \n",
      "8  | valid_auroc | BinaryAUROC      | 0     \n",
      "9  | valid_f1    | BinaryF1Score    | 0     \n",
      "10 | pool        | GlobalAttention  | 33    \n",
      "--------------------------------------------------\n",
      "23.7 K    Trainable params\n",
      "0         Non-trainable params\n",
      "23.7 K    Total params\n",
      "0.095     Total estimated model params size (MB)\n"
     ]
    },
    {
     "name": "stdout",
     "output_type": "stream",
     "text": [
      "Using GAT\n"
     ]
    },
    {
     "name": "stderr",
     "output_type": "stream",
     "text": [
      "`Trainer.fit` stopped: `max_epochs=65` reached.\n"
     ]
    },
    {
     "data": {
      "text/html": [
       "Waiting for W&B process to finish... <strong style=\"color:green\">(success).</strong>"
      ],
      "text/plain": [
       "<IPython.core.display.HTML object>"
      ]
     },
     "metadata": {},
     "output_type": "display_data"
    },
    {
     "data": {
      "text/html": [
       "<style>\n",
       "    table.wandb td:nth-child(1) { padding: 0 10px; text-align: left ; width: auto;} td:nth-child(2) {text-align: left ; width: 100%}\n",
       "    .wandb-row { display: flex; flex-direction: row; flex-wrap: wrap; justify-content: flex-start; width: 100% }\n",
       "    .wandb-col { display: flex; flex-direction: column; flex-basis: 100%; flex: 1; padding: 10px; }\n",
       "    </style>\n",
       "<div class=\"wandb-row\"><div class=\"wandb-col\"><h3>Run history:</h3><br/><table class=\"wandb\"><tr><td>epoch</td><td>▁▁▁▂▂▂▂▂▂▃▃▃▃▃▄▄▄▄▄▄▅▅▅▅▅▅▆▆▆▆▆▇▇▇▇▇▇███</td></tr><tr><td>lr-Adam</td><td>▁▁▁▁▁▁▁▁▁▁▁▁▁▁▁▁▁▁▁▁▁▁▁▁▁▁▁▁▁▁▁▁▁▁▁▁▁▁▁▁</td></tr><tr><td>train_acc</td><td>▁▅▆▆▆▇▇▇▇▇▇▆▇▇▇▇▇▇▇▇▇█▇█▇▇▇▇████▇█▇█▇███</td></tr><tr><td>train_auc</td><td>▁▅▆▆▆▇▇▇▇▇▇▇▇▇▇▇▇██▇▇▇███▇████▇█████████</td></tr><tr><td>train_f1</td><td>▁▁▄▅▄▆▆▆▆▅▆▇▆▇▅▆▇█▇▇▆▇▇▇▇▇▆▇██▇█▆▆▇██▇▇▇</td></tr><tr><td>train_loss_epoch</td><td>█▆▄▅▅▃▄▃▃▄▃▃▃▃▃▃▅▃▂▂▂▂▂▂▃▃▂▃▁▁▃▃▂▁▃▁▂▁▂▁</td></tr><tr><td>train_loss_step</td><td>▇▄▅▅▄▆▇▂▃▄▁▃▁▃▃▅▃▅▅▄▄▂▃▂█▄▃▃▄▃▂▁▂▂▃▂▅▄▂▂</td></tr><tr><td>trainer/global_step</td><td>▁▁▁▂▂▁▁▁▁▃▃▂▂▃▃▄▂▂▄▄▅▅▂▅▅▆▃▃▃▆▆▃▃▃▇▇▃▃██</td></tr><tr><td>val_acc</td><td>▁▁▃▅▆▅▆█▄▅▆██▃▅▄▇▆▅▃▄▇▅▆▅▄▇▆▇█▅▆▃▃▄▆▇▅██</td></tr><tr><td>val_auc</td><td>▁▃▅▄▄▅▄▁▅▃▂▅▅▄▅▄▄▅▅▃▄█▆█▅█▄▅▇▃▄▄▇▇▇▂▁▅▃▃</td></tr><tr><td>val_f1</td><td>▁▁▃▅▇▅▆█▄▆▆█▇▃▅▅▇▆▅▄▄▇▅▆▅▅▇▆▆▇▅▆▃▃▄▆█▅▇▇</td></tr><tr><td>val_loss_epoch</td><td>▂▁▂▂▂▃▂▁▄▅▅▃▂▂▃▃▃▄▅▇▄▂▄▆▃▃▁▂▂▂▃▄▄▄▄▆▂█▁▂</td></tr><tr><td>val_loss_step</td><td>▃▂▂▃▂▃▂▂▃▂▃▃▂▂▃▄▃▇▆▅▃▄▄▇▂▃▄▃▁▁▃▄▄▆▃█▂▃▂▄</td></tr></table><br/></div><div class=\"wandb-col\"><h3>Run summary:</h3><br/><table class=\"wandb\"><tr><td>epoch</td><td>64</td></tr><tr><td>lr-Adam</td><td>0.005</td></tr><tr><td>train_acc</td><td>0.76686</td></tr><tr><td>train_auc</td><td>0.83019</td></tr><tr><td>train_f1</td><td>0.66667</td></tr><tr><td>train_loss_epoch</td><td>0.49795</td></tr><tr><td>train_loss_step</td><td>0.46847</td></tr><tr><td>trainer/global_step</td><td>584</td></tr><tr><td>val_acc</td><td>0.71154</td></tr><tr><td>val_auc</td><td>0.74666</td></tr><tr><td>val_f1</td><td>0.43609</td></tr><tr><td>val_loss_epoch</td><td>0.6148</td></tr><tr><td>val_loss_step</td><td>0.00786</td></tr></table><br/></div></div>"
      ],
      "text/plain": [
       "<IPython.core.display.HTML object>"
      ]
     },
     "metadata": {},
     "output_type": "display_data"
    },
    {
     "data": {
      "text/html": [
       " View run <strong style=\"color:#cdcd00\">GAT_norm_4_32_onehot_2</strong> at: <a href='https://wandb.ai/thoomas/PLA_01122024_9PPI_3D_Kfold/runs/v8pslgt5' target=\"_blank\">https://wandb.ai/thoomas/PLA_01122024_9PPI_3D_Kfold/runs/v8pslgt5</a><br/>Synced 6 W&B file(s), 0 media file(s), 0 artifact file(s) and 0 other file(s)"
      ],
      "text/plain": [
       "<IPython.core.display.HTML object>"
      ]
     },
     "metadata": {},
     "output_type": "display_data"
    },
    {
     "data": {
      "text/html": [
       "Find logs at: <code>.\\wandb\\run-20240114_013053-v8pslgt5\\logs</code>"
      ],
      "text/plain": [
       "<IPython.core.display.HTML object>"
      ]
     },
     "metadata": {},
     "output_type": "display_data"
    },
    {
     "data": {
      "application/vnd.jupyter.widget-view+json": {
       "model_id": "646ffd4f790c409087f3382ccf6ba309",
       "version_major": 2,
       "version_minor": 0
      },
      "text/plain": [
       "VBox(children=(Label(value='Waiting for wandb.init()...\\r'), FloatProgress(value=0.016666666666666666, max=1.0…"
      ]
     },
     "metadata": {},
     "output_type": "display_data"
    },
    {
     "data": {
      "text/html": [
       "wandb version 0.16.2 is available!  To upgrade, please run:\n",
       " $ pip install wandb --upgrade"
      ],
      "text/plain": [
       "<IPython.core.display.HTML object>"
      ]
     },
     "metadata": {},
     "output_type": "display_data"
    },
    {
     "data": {
      "text/html": [
       "Tracking run with wandb version 0.15.8"
      ],
      "text/plain": [
       "<IPython.core.display.HTML object>"
      ]
     },
     "metadata": {},
     "output_type": "display_data"
    },
    {
     "data": {
      "text/html": [
       "Run data is saved locally in <code>y:\\coskun-lab\\Thomas\\23_PLA_revision\\notebooks\\wandb\\run-20240114_014254-cxa85e8d</code>"
      ],
      "text/plain": [
       "<IPython.core.display.HTML object>"
      ]
     },
     "metadata": {},
     "output_type": "display_data"
    },
    {
     "data": {
      "text/html": [
       "Syncing run <strong><a href='https://wandb.ai/thoomas/PLA_01122024_9PPI_3D_Kfold/runs/cxa85e8d' target=\"_blank\">GINConv_norm_2_16_onehot_2</a></strong> to <a href='https://wandb.ai/thoomas/PLA_01122024_9PPI_3D_Kfold' target=\"_blank\">Weights & Biases</a> (<a href='https://wandb.me/run' target=\"_blank\">docs</a>)<br/>"
      ],
      "text/plain": [
       "<IPython.core.display.HTML object>"
      ]
     },
     "metadata": {},
     "output_type": "display_data"
    },
    {
     "data": {
      "text/html": [
       " View project at <a href='https://wandb.ai/thoomas/PLA_01122024_9PPI_3D_Kfold' target=\"_blank\">https://wandb.ai/thoomas/PLA_01122024_9PPI_3D_Kfold</a>"
      ],
      "text/plain": [
       "<IPython.core.display.HTML object>"
      ]
     },
     "metadata": {},
     "output_type": "display_data"
    },
    {
     "data": {
      "text/html": [
       " View run at <a href='https://wandb.ai/thoomas/PLA_01122024_9PPI_3D_Kfold/runs/cxa85e8d' target=\"_blank\">https://wandb.ai/thoomas/PLA_01122024_9PPI_3D_Kfold/runs/cxa85e8d</a>"
      ],
      "text/plain": [
       "<IPython.core.display.HTML object>"
      ]
     },
     "metadata": {},
     "output_type": "display_data"
    },
    {
     "name": "stderr",
     "output_type": "stream",
     "text": [
      "Global seed set to 42\n",
      "GPU available: True (cuda), used: True\n",
      "TPU available: False, using: 0 TPU cores\n",
      "IPU available: False, using: 0 IPUs\n",
      "HPU available: False, using: 0 HPUs\n",
      "Global seed set to 42\n",
      "c:\\Users\\thu71\\AppData\\Local\\anaconda3\\envs\\scanpy\\Lib\\site-packages\\lightning\\pytorch\\callbacks\\model_checkpoint.py:617: UserWarning: Checkpoint directory \\\\bme-retromaster.ad.gatech.edu\\labs5\\coskun-lab\\Thomas\\23_PLA_revision\\data\\9PPI_3D\\saved_models\\9PPI_3D\\Graph_GNNs_Kfold\\GINConv_norm_2_16_onehot_2\\mean\\GraphLevelGINConv_norm exists and is not empty.\n",
      "  rank_zero_warn(f\"Checkpoint directory {dirpath} exists and is not empty.\")\n",
      "LOCAL_RANK: 0 - CUDA_VISIBLE_DEVICES: [0]\n",
      "\n",
      "  | Name        | Type             | Params\n",
      "-------------------------------------------------\n",
      "0 | x_embedding | Identity         | 0     \n",
      "1 | model       | GIN              | 1.1 K \n",
      "2 | head        | Sequential       | 154   \n",
      "3 | loss_module | CrossEntropyLoss | 0     \n",
      "4 | train_acc   | BinaryAccuracy   | 0     \n",
      "5 | train_auroc | BinaryAUROC      | 0     \n",
      "6 | train_f1    | BinaryF1Score    | 0     \n",
      "7 | valid_acc   | BinaryAccuracy   | 0     \n",
      "8 | valid_auroc | BinaryAUROC      | 0     \n",
      "9 | valid_f1    | BinaryF1Score    | 0     \n",
      "-------------------------------------------------\n",
      "1.2 K     Trainable params\n",
      "0         Non-trainable params\n",
      "1.2 K     Total params\n",
      "0.005     Total estimated model params size (MB)\n"
     ]
    },
    {
     "name": "stdout",
     "output_type": "stream",
     "text": [
      "GINConv\n"
     ]
    },
    {
     "name": "stderr",
     "output_type": "stream",
     "text": [
      "`Trainer.fit` stopped: `max_epochs=65` reached.\n"
     ]
    },
    {
     "data": {
      "text/html": [
       "Waiting for W&B process to finish... <strong style=\"color:green\">(success).</strong>"
      ],
      "text/plain": [
       "<IPython.core.display.HTML object>"
      ]
     },
     "metadata": {},
     "output_type": "display_data"
    },
    {
     "data": {
      "text/html": [
       "<style>\n",
       "    table.wandb td:nth-child(1) { padding: 0 10px; text-align: left ; width: auto;} td:nth-child(2) {text-align: left ; width: 100%}\n",
       "    .wandb-row { display: flex; flex-direction: row; flex-wrap: wrap; justify-content: flex-start; width: 100% }\n",
       "    .wandb-col { display: flex; flex-direction: column; flex-basis: 100%; flex: 1; padding: 10px; }\n",
       "    </style>\n",
       "<div class=\"wandb-row\"><div class=\"wandb-col\"><h3>Run history:</h3><br/><table class=\"wandb\"><tr><td>epoch</td><td>▁▁▁▂▂▂▂▂▂▃▃▃▃▃▄▄▄▄▄▄▅▅▅▅▅▅▆▆▆▆▆▇▇▇▇▇▇███</td></tr><tr><td>lr-Adam</td><td>▁▁▁▁▁▁▁▁▁▁▁▁▁▁▁▁▁▁▁▁▁▁▁▁▁▁▁▁▁▁▁▁▁▁▁▁▁▁▁▁</td></tr><tr><td>train_acc</td><td>▁▄▅▅▆▆▆▆▇▇▇▇▇█▇▇▇▇▇▇▇███▇███▇▇████▇█████</td></tr><tr><td>train_auc</td><td>▁▂▅▆▆▆▆▇▇▇▇▇▇▇▇▇▇▇▇▇▇▇▇▇███▇▇▇██████████</td></tr><tr><td>train_f1</td><td>▁▃▅▅▅▆▆▆▇▇▇▇▇▇▆▇▇▇▇▇▇███▇▇▇▇▇▇▇██▇▇▇████</td></tr><tr><td>train_loss_epoch</td><td>█▆▅▄▄▃▃▄▃▄▃▃▃▃▃▂▂▂▂▃▂▂▄▂▃▂▂▃▁▂▁▂▂▂▁▂▂▂▂▁</td></tr><tr><td>train_loss_step</td><td>▅▅▅▃▄▄▁▃▃▃▃▃▅▃▃▄▃▄▁▄▃▂▃▃█▃▂▃▃▃▃▂▃▄▂▄▃▃▂▂</td></tr><tr><td>trainer/global_step</td><td>▁▁▁▂▂▁▁▁▁▃▃▂▂▃▃▄▂▂▄▄▅▅▂▅▅▆▃▃▃▆▆▃▃▃▇▇▃▃██</td></tr><tr><td>val_acc</td><td>▁▄▅▄▆▅▆▅▄▆▇▆▆▇▅▇▆▅▆█▇▆██▇█▇█▆▇▇▇▅▆▆▇▆▄█▇</td></tr><tr><td>val_auc</td><td>▁▂▄▃▄▄▄▄▃▅▅▆▅▆▆▆▆▆▅▆▇▆▇▆▇▇▆█▆▆▇▇▆▇▆█▇▇█▇</td></tr><tr><td>val_f1</td><td>▁▅▅▅▆▆▇▇██▇▇▇██▇████▇██▇▇████▇▇██▇▇▇███▇</td></tr><tr><td>val_loss_epoch</td><td>▅▆▅▅▆▂▅▃▅▅▃▃▃▄▃▂█▃█▅▆▄▅█▂▅▁▂▂▄▁▂▄▁▂▃▃▃▁▂</td></tr><tr><td>val_loss_step</td><td>▃▆▃▃▃▃▄▃▃▃▃▃▂▄▃▃▃▂█▃▃▃▃█▁▃▃▃▁▄▃▃▃▃▂▃▃▂▃▃</td></tr></table><br/></div><div class=\"wandb-col\"><h3>Run summary:</h3><br/><table class=\"wandb\"><tr><td>epoch</td><td>64</td></tr><tr><td>lr-Adam</td><td>0.005</td></tr><tr><td>train_acc</td><td>0.78998</td></tr><tr><td>train_auc</td><td>0.85719</td></tr><tr><td>train_f1</td><td>0.7335</td></tr><tr><td>train_loss_epoch</td><td>0.45787</td></tr><tr><td>train_loss_step</td><td>0.43011</td></tr><tr><td>trainer/global_step</td><td>584</td></tr><tr><td>val_acc</td><td>0.75385</td></tr><tr><td>val_auc</td><td>0.82004</td></tr><tr><td>val_f1</td><td>0.63218</td></tr><tr><td>val_loss_epoch</td><td>0.43791</td></tr><tr><td>val_loss_step</td><td>0.28763</td></tr></table><br/></div></div>"
      ],
      "text/plain": [
       "<IPython.core.display.HTML object>"
      ]
     },
     "metadata": {},
     "output_type": "display_data"
    },
    {
     "data": {
      "text/html": [
       " View run <strong style=\"color:#cdcd00\">GINConv_norm_2_16_onehot_2</strong> at: <a href='https://wandb.ai/thoomas/PLA_01122024_9PPI_3D_Kfold/runs/cxa85e8d' target=\"_blank\">https://wandb.ai/thoomas/PLA_01122024_9PPI_3D_Kfold/runs/cxa85e8d</a><br/>Synced 6 W&B file(s), 0 media file(s), 0 artifact file(s) and 0 other file(s)"
      ],
      "text/plain": [
       "<IPython.core.display.HTML object>"
      ]
     },
     "metadata": {},
     "output_type": "display_data"
    },
    {
     "data": {
      "text/html": [
       "Find logs at: <code>.\\wandb\\run-20240114_014254-cxa85e8d\\logs</code>"
      ],
      "text/plain": [
       "<IPython.core.display.HTML object>"
      ]
     },
     "metadata": {},
     "output_type": "display_data"
    },
    {
     "data": {
      "application/vnd.jupyter.widget-view+json": {
       "model_id": "a9b562ef95df481a87ee3a0c037dc3e0",
       "version_major": 2,
       "version_minor": 0
      },
      "text/plain": [
       "VBox(children=(Label(value='Waiting for wandb.init()...\\r'), FloatProgress(value=0.016933333330477276, max=1.0…"
      ]
     },
     "metadata": {},
     "output_type": "display_data"
    },
    {
     "data": {
      "text/html": [
       "wandb version 0.16.2 is available!  To upgrade, please run:\n",
       " $ pip install wandb --upgrade"
      ],
      "text/plain": [
       "<IPython.core.display.HTML object>"
      ]
     },
     "metadata": {},
     "output_type": "display_data"
    },
    {
     "data": {
      "text/html": [
       "Tracking run with wandb version 0.15.8"
      ],
      "text/plain": [
       "<IPython.core.display.HTML object>"
      ]
     },
     "metadata": {},
     "output_type": "display_data"
    },
    {
     "data": {
      "text/html": [
       "Run data is saved locally in <code>y:\\coskun-lab\\Thomas\\23_PLA_revision\\notebooks\\wandb\\run-20240114_015142-lm8aj3c4</code>"
      ],
      "text/plain": [
       "<IPython.core.display.HTML object>"
      ]
     },
     "metadata": {},
     "output_type": "display_data"
    },
    {
     "data": {
      "text/html": [
       "Syncing run <strong><a href='https://wandb.ai/thoomas/PLA_01122024_9PPI_3D_Kfold/runs/lm8aj3c4' target=\"_blank\">MLP_2_64_onehot_3</a></strong> to <a href='https://wandb.ai/thoomas/PLA_01122024_9PPI_3D_Kfold' target=\"_blank\">Weights & Biases</a> (<a href='https://wandb.me/run' target=\"_blank\">docs</a>)<br/>"
      ],
      "text/plain": [
       "<IPython.core.display.HTML object>"
      ]
     },
     "metadata": {},
     "output_type": "display_data"
    },
    {
     "data": {
      "text/html": [
       " View project at <a href='https://wandb.ai/thoomas/PLA_01122024_9PPI_3D_Kfold' target=\"_blank\">https://wandb.ai/thoomas/PLA_01122024_9PPI_3D_Kfold</a>"
      ],
      "text/plain": [
       "<IPython.core.display.HTML object>"
      ]
     },
     "metadata": {},
     "output_type": "display_data"
    },
    {
     "data": {
      "text/html": [
       " View run at <a href='https://wandb.ai/thoomas/PLA_01122024_9PPI_3D_Kfold/runs/lm8aj3c4' target=\"_blank\">https://wandb.ai/thoomas/PLA_01122024_9PPI_3D_Kfold/runs/lm8aj3c4</a>"
      ],
      "text/plain": [
       "<IPython.core.display.HTML object>"
      ]
     },
     "metadata": {},
     "output_type": "display_data"
    },
    {
     "name": "stderr",
     "output_type": "stream",
     "text": [
      "Global seed set to 42\n",
      "GPU available: True (cuda), used: True\n",
      "TPU available: False, using: 0 TPU cores\n",
      "IPU available: False, using: 0 IPUs\n",
      "HPU available: False, using: 0 HPUs\n",
      "Global seed set to 42\n",
      "c:\\Users\\thu71\\AppData\\Local\\anaconda3\\envs\\scanpy\\Lib\\site-packages\\lightning\\pytorch\\callbacks\\model_checkpoint.py:617: UserWarning: Checkpoint directory \\\\bme-retromaster.ad.gatech.edu\\labs5\\coskun-lab\\Thomas\\23_PLA_revision\\data\\9PPI_3D\\saved_models\\9PPI_3D\\Graph_GNNs_Kfold\\MLP_2_64_onehot_3\\attention\\GraphLevelMLP exists and is not empty.\n",
      "  rank_zero_warn(f\"Checkpoint directory {dirpath} exists and is not empty.\")\n",
      "LOCAL_RANK: 0 - CUDA_VISIBLE_DEVICES: [0]\n",
      "\n",
      "   | Name        | Type             | Params\n",
      "--------------------------------------------------\n",
      "0  | x_embedding | Identity         | 0     \n",
      "1  | model       | MLPModel         | 4.8 K \n",
      "2  | head        | Sequential       | 2.1 K \n",
      "3  | loss_module | CrossEntropyLoss | 0     \n",
      "4  | train_acc   | BinaryAccuracy   | 0     \n",
      "5  | train_auroc | BinaryAUROC      | 0     \n",
      "6  | train_f1    | BinaryF1Score    | 0     \n",
      "7  | valid_acc   | BinaryAccuracy   | 0     \n",
      "8  | valid_auroc | BinaryAUROC      | 0     \n",
      "9  | valid_f1    | BinaryF1Score    | 0     \n",
      "10 | pool        | GlobalAttention  | 65    \n",
      "--------------------------------------------------\n",
      "7.0 K     Trainable params\n",
      "0         Non-trainable params\n",
      "7.0 K     Total params\n",
      "0.028     Total estimated model params size (MB)\n"
     ]
    },
    {
     "name": "stdout",
     "output_type": "stream",
     "text": [
      "Using MLP\n"
     ]
    },
    {
     "name": "stderr",
     "output_type": "stream",
     "text": [
      "`Trainer.fit` stopped: `max_epochs=65` reached.\n"
     ]
    },
    {
     "data": {
      "text/html": [
       "Waiting for W&B process to finish... <strong style=\"color:green\">(success).</strong>"
      ],
      "text/plain": [
       "<IPython.core.display.HTML object>"
      ]
     },
     "metadata": {},
     "output_type": "display_data"
    },
    {
     "data": {
      "text/html": [
       "<style>\n",
       "    table.wandb td:nth-child(1) { padding: 0 10px; text-align: left ; width: auto;} td:nth-child(2) {text-align: left ; width: 100%}\n",
       "    .wandb-row { display: flex; flex-direction: row; flex-wrap: wrap; justify-content: flex-start; width: 100% }\n",
       "    .wandb-col { display: flex; flex-direction: column; flex-basis: 100%; flex: 1; padding: 10px; }\n",
       "    </style>\n",
       "<div class=\"wandb-row\"><div class=\"wandb-col\"><h3>Run history:</h3><br/><table class=\"wandb\"><tr><td>epoch</td><td>▁▁▁▂▂▂▂▂▂▃▃▃▃▃▄▄▄▄▄▄▅▅▅▅▅▅▆▆▆▆▆▇▇▇▇▇▇███</td></tr><tr><td>lr-Adam</td><td>▁▁▁▁▁▁▁▁▁▁▁▁▁▁▁▁▁▁▁▁▁▁▁▁▁▁▁▁▁▁▁▁▁▁▁▁▁▁▁▁</td></tr><tr><td>train_acc</td><td>▁▃▃▄▆▇▇▇▇▇▇█▇▆▆▇▇▆▇▇▇▇▇▇▇▇▆▇█▇█▇▇▇▇███▇▇</td></tr><tr><td>train_auc</td><td>▁▂▃▄▇▇▇▇▇▇▇█▇▇▇▇▇█▇█▇█▇█▇█▇█████▇▇▇████▇</td></tr><tr><td>train_f1</td><td>▂▃▃▁▅▇▆█▇▇▇█▆█▅██▆▇▇▆▇▆▆▇█▆▇▇▇▇█▇▆▇▇▇█▆▆</td></tr><tr><td>train_loss_epoch</td><td>██▆▆▄▄▃▄▂▂▃▂▃▃▄▄▃▃▃▃▅▄▃▃▃▂▄▃▂▁▃▃▄▄▅▂▂▃▃▃</td></tr><tr><td>train_loss_step</td><td>█▇▇▆▅▃▄▃▄▄▃▂▂▃▆▄▂▂▄▆▄▁▃▅▁▅▂▂▂▇▃▄▂▆▂▂▃▄▃▃</td></tr><tr><td>trainer/global_step</td><td>▁▁▁▂▂▁▁▁▁▃▃▂▂▃▃▄▂▂▄▄▅▅▂▅▅▆▃▃▃▆▆▃▃▃▇▇▃▃██</td></tr><tr><td>val_acc</td><td>▁▁▁▃▅▅▇▂▅▅▅▃█▃█▃▂▇▅▅█▆▆▅█▄▇▅▅▅▇▃▇█▄▅▆▄▆▇</td></tr><tr><td>val_auc</td><td>▁▁▄▇▇▆▆▆▇▇▆▇▆▇▇▇▇▇▇▇▇▇▇▇▇▇▇▇▇▇▇█▇▇█████▇</td></tr><tr><td>val_f1</td><td>▁▁▁▄▆▅█▃▆▅▆▄█▄█▄▃▇▆▆█▆▆▆█▅▇▆▆▆▇▄▇█▅▆▇▅▆▇</td></tr><tr><td>val_loss_epoch</td><td>▆▅▅▄▆▇▃▂▆▄▅▄▄▄▃▁▃▃▁▆▂▁▄▂▄█▂▃▅█▃▄▂▃▄▃▁▅▅▄</td></tr><tr><td>val_loss_step</td><td>▄▄▄▄▃▄▃▁▃▄▃▄▅▃▃▄▄▃▁▃▃▃▃▂▄▄▃▃▅█▄▄▃▄▃▃▃▄▃▃</td></tr></table><br/></div><div class=\"wandb-col\"><h3>Run summary:</h3><br/><table class=\"wandb\"><tr><td>epoch</td><td>64</td></tr><tr><td>lr-Adam</td><td>0.005</td></tr><tr><td>train_acc</td><td>0.68624</td></tr><tr><td>train_auc</td><td>0.71413</td></tr><tr><td>train_f1</td><td>0.48903</td></tr><tr><td>train_loss_epoch</td><td>0.60848</td></tr><tr><td>train_loss_step</td><td>0.57806</td></tr><tr><td>trainer/global_step</td><td>584</td></tr><tr><td>val_acc</td><td>0.73359</td></tr><tr><td>val_auc</td><td>0.76426</td></tr><tr><td>val_f1</td><td>0.61878</td></tr><tr><td>val_loss_epoch</td><td>0.59504</td></tr><tr><td>val_loss_step</td><td>0.62739</td></tr></table><br/></div></div>"
      ],
      "text/plain": [
       "<IPython.core.display.HTML object>"
      ]
     },
     "metadata": {},
     "output_type": "display_data"
    },
    {
     "data": {
      "text/html": [
       " View run <strong style=\"color:#cdcd00\">MLP_2_64_onehot_3</strong> at: <a href='https://wandb.ai/thoomas/PLA_01122024_9PPI_3D_Kfold/runs/lm8aj3c4' target=\"_blank\">https://wandb.ai/thoomas/PLA_01122024_9PPI_3D_Kfold/runs/lm8aj3c4</a><br/>Synced 6 W&B file(s), 0 media file(s), 0 artifact file(s) and 0 other file(s)"
      ],
      "text/plain": [
       "<IPython.core.display.HTML object>"
      ]
     },
     "metadata": {},
     "output_type": "display_data"
    },
    {
     "data": {
      "text/html": [
       "Find logs at: <code>.\\wandb\\run-20240114_015142-lm8aj3c4\\logs</code>"
      ],
      "text/plain": [
       "<IPython.core.display.HTML object>"
      ]
     },
     "metadata": {},
     "output_type": "display_data"
    },
    {
     "data": {
      "text/html": [
       "wandb version 0.16.2 is available!  To upgrade, please run:\n",
       " $ pip install wandb --upgrade"
      ],
      "text/plain": [
       "<IPython.core.display.HTML object>"
      ]
     },
     "metadata": {},
     "output_type": "display_data"
    },
    {
     "data": {
      "text/html": [
       "Tracking run with wandb version 0.15.8"
      ],
      "text/plain": [
       "<IPython.core.display.HTML object>"
      ]
     },
     "metadata": {},
     "output_type": "display_data"
    },
    {
     "data": {
      "text/html": [
       "Run data is saved locally in <code>y:\\coskun-lab\\Thomas\\23_PLA_revision\\notebooks\\wandb\\run-20240114_020153-ic3aheg6</code>"
      ],
      "text/plain": [
       "<IPython.core.display.HTML object>"
      ]
     },
     "metadata": {},
     "output_type": "display_data"
    },
    {
     "data": {
      "text/html": [
       "Syncing run <strong><a href='https://wandb.ai/thoomas/PLA_01122024_9PPI_3D_Kfold/runs/ic3aheg6' target=\"_blank\">GraphConv_2_64_onehot_3</a></strong> to <a href='https://wandb.ai/thoomas/PLA_01122024_9PPI_3D_Kfold' target=\"_blank\">Weights & Biases</a> (<a href='https://wandb.me/run' target=\"_blank\">docs</a>)<br/>"
      ],
      "text/plain": [
       "<IPython.core.display.HTML object>"
      ]
     },
     "metadata": {},
     "output_type": "display_data"
    },
    {
     "data": {
      "text/html": [
       " View project at <a href='https://wandb.ai/thoomas/PLA_01122024_9PPI_3D_Kfold' target=\"_blank\">https://wandb.ai/thoomas/PLA_01122024_9PPI_3D_Kfold</a>"
      ],
      "text/plain": [
       "<IPython.core.display.HTML object>"
      ]
     },
     "metadata": {},
     "output_type": "display_data"
    },
    {
     "data": {
      "text/html": [
       " View run at <a href='https://wandb.ai/thoomas/PLA_01122024_9PPI_3D_Kfold/runs/ic3aheg6' target=\"_blank\">https://wandb.ai/thoomas/PLA_01122024_9PPI_3D_Kfold/runs/ic3aheg6</a>"
      ],
      "text/plain": [
       "<IPython.core.display.HTML object>"
      ]
     },
     "metadata": {},
     "output_type": "display_data"
    },
    {
     "name": "stderr",
     "output_type": "stream",
     "text": [
      "Global seed set to 42\n",
      "GPU available: True (cuda), used: True\n",
      "TPU available: False, using: 0 TPU cores\n",
      "IPU available: False, using: 0 IPUs\n",
      "HPU available: False, using: 0 HPUs\n",
      "Global seed set to 42\n",
      "c:\\Users\\thu71\\AppData\\Local\\anaconda3\\envs\\scanpy\\Lib\\site-packages\\lightning\\pytorch\\callbacks\\model_checkpoint.py:617: UserWarning: Checkpoint directory \\\\bme-retromaster.ad.gatech.edu\\labs5\\coskun-lab\\Thomas\\23_PLA_revision\\data\\9PPI_3D\\saved_models\\9PPI_3D\\Graph_GNNs_Kfold\\GraphConv_2_64_onehot_3\\mean\\GraphLevelGraphConv exists and is not empty.\n",
      "  rank_zero_warn(f\"Checkpoint directory {dirpath} exists and is not empty.\")\n",
      "LOCAL_RANK: 0 - CUDA_VISIBLE_DEVICES: [0]\n",
      "\n",
      "  | Name        | Type             | Params\n",
      "-------------------------------------------------\n",
      "0 | x_embedding | Identity         | 0     \n",
      "1 | model       | GNNModel         | 9.6 K \n",
      "2 | head        | Sequential       | 2.1 K \n",
      "3 | loss_module | CrossEntropyLoss | 0     \n",
      "4 | train_acc   | BinaryAccuracy   | 0     \n",
      "5 | train_auroc | BinaryAUROC      | 0     \n",
      "6 | train_f1    | BinaryF1Score    | 0     \n",
      "7 | valid_acc   | BinaryAccuracy   | 0     \n",
      "8 | valid_auroc | BinaryAUROC      | 0     \n",
      "9 | valid_f1    | BinaryF1Score    | 0     \n",
      "-------------------------------------------------\n",
      "11.7 K    Trainable params\n",
      "0         Non-trainable params\n",
      "11.7 K    Total params\n",
      "0.047     Total estimated model params size (MB)\n"
     ]
    },
    {
     "name": "stdout",
     "output_type": "stream",
     "text": [
      "Using GNN\n"
     ]
    },
    {
     "name": "stderr",
     "output_type": "stream",
     "text": [
      "`Trainer.fit` stopped: `max_epochs=65` reached.\n"
     ]
    },
    {
     "data": {
      "text/html": [
       "Waiting for W&B process to finish... <strong style=\"color:green\">(success).</strong>"
      ],
      "text/plain": [
       "<IPython.core.display.HTML object>"
      ]
     },
     "metadata": {},
     "output_type": "display_data"
    },
    {
     "data": {
      "text/html": [
       "<style>\n",
       "    table.wandb td:nth-child(1) { padding: 0 10px; text-align: left ; width: auto;} td:nth-child(2) {text-align: left ; width: 100%}\n",
       "    .wandb-row { display: flex; flex-direction: row; flex-wrap: wrap; justify-content: flex-start; width: 100% }\n",
       "    .wandb-col { display: flex; flex-direction: column; flex-basis: 100%; flex: 1; padding: 10px; }\n",
       "    </style>\n",
       "<div class=\"wandb-row\"><div class=\"wandb-col\"><h3>Run history:</h3><br/><table class=\"wandb\"><tr><td>epoch</td><td>▁▁▁▂▂▂▂▂▂▃▃▃▃▃▄▄▄▄▄▄▅▅▅▅▅▅▆▆▆▆▆▇▇▇▇▇▇███</td></tr><tr><td>lr-Adam</td><td>▁▁▁▁▁▁▁▁▁▁▁▁▁▁▁▁▁▁▁▁▁▁▁▁▁▁▁▁▁▁▁▁▁▁▁▁▁▁▁▁</td></tr><tr><td>train_acc</td><td>▁▃▅▅▆▆▅▆▆▇▇▇▇▆▆▇▆▇▇▇▇▇▆▇▇▇▇█▇▇▇▇█▇▇▇█▇▇▇</td></tr><tr><td>train_auc</td><td>▁▃▅▅▆▆▆▇▆▇▇▇▇▇▇█▇▇▇▇▇▇▇▇▇▇███▇█▇██▇█████</td></tr><tr><td>train_f1</td><td>▁▅▆▆▇▇▆▇▇▇█▇█▆▇█▇▇█▇█▇▇▇▇▇███▇█▇██▇▇█▇▇▇</td></tr><tr><td>train_loss_epoch</td><td>█▇▅▅▅▄▃▄▄▃▂▂▂▂▂▁▃▂▂▂▂▃▂▃▂▂▁▃▂▂▁▁▁▁▃▁▁▂▂▂</td></tr><tr><td>train_loss_step</td><td>█▆▅▆▅▄▁▃▄▃▄▂▂▅▃▄▃▄▁▄▃▃▄▃▄▂▄▃▄▃▃▄▃▂▅▃▂▃▃▃</td></tr><tr><td>trainer/global_step</td><td>▁▁▁▂▂▁▁▁▁▃▃▂▂▃▃▄▂▂▄▄▅▅▂▅▅▆▃▃▃▆▆▃▃▃▇▇▃▃██</td></tr><tr><td>val_acc</td><td>▁▃▆▅▆██▇█▆▇█▇▇█▇█▇█▇██▇▇█▇█▇█▇██▇██▇█▇██</td></tr><tr><td>val_auc</td><td>▁▃▆▆▆▇▇▆▇▇▇▇▇▇▇▇▇▇▇▇▇▇▇▇▇▇▇▇▇▇██▇██▇▇▇▇▇</td></tr><tr><td>val_f1</td><td>▁▄▇▆▇██▇█▇▇████▇███▇███▇█▇██████▇██▇████</td></tr><tr><td>val_loss_epoch</td><td>▃▄▄▂▃▃▁▂▄▂▃▄▃▁▁▃▁▄▃▁█▁▂▂▁▂▁▅▂▁▂▆▂▂▂▄▃▂▂▃</td></tr><tr><td>val_loss_step</td><td>▇█▅▆▅▅▂▄▅▄▅▅▅▁▄▅▅█▆▅▄▅▅▄▁▄▆▄▂▂▅▄▅▆▃█▅█▇▇</td></tr></table><br/></div><div class=\"wandb-col\"><h3>Run summary:</h3><br/><table class=\"wandb\"><tr><td>epoch</td><td>64</td></tr><tr><td>lr-Adam</td><td>0.005</td></tr><tr><td>train_acc</td><td>0.82964</td></tr><tr><td>train_auc</td><td>0.89893</td></tr><tr><td>train_f1</td><td>0.76556</td></tr><tr><td>train_loss_epoch</td><td>0.39786</td></tr><tr><td>train_loss_step</td><td>0.37124</td></tr><tr><td>trainer/global_step</td><td>584</td></tr><tr><td>val_acc</td><td>0.79537</td></tr><tr><td>val_auc</td><td>0.86418</td></tr><tr><td>val_f1</td><td>0.75576</td></tr><tr><td>val_loss_epoch</td><td>0.53192</td></tr><tr><td>val_loss_step</td><td>0.46309</td></tr></table><br/></div></div>"
      ],
      "text/plain": [
       "<IPython.core.display.HTML object>"
      ]
     },
     "metadata": {},
     "output_type": "display_data"
    },
    {
     "data": {
      "text/html": [
       " View run <strong style=\"color:#cdcd00\">GraphConv_2_64_onehot_3</strong> at: <a href='https://wandb.ai/thoomas/PLA_01122024_9PPI_3D_Kfold/runs/ic3aheg6' target=\"_blank\">https://wandb.ai/thoomas/PLA_01122024_9PPI_3D_Kfold/runs/ic3aheg6</a><br/>Synced 6 W&B file(s), 0 media file(s), 0 artifact file(s) and 0 other file(s)"
      ],
      "text/plain": [
       "<IPython.core.display.HTML object>"
      ]
     },
     "metadata": {},
     "output_type": "display_data"
    },
    {
     "data": {
      "text/html": [
       "Find logs at: <code>.\\wandb\\run-20240114_020153-ic3aheg6\\logs</code>"
      ],
      "text/plain": [
       "<IPython.core.display.HTML object>"
      ]
     },
     "metadata": {},
     "output_type": "display_data"
    },
    {
     "data": {
      "application/vnd.jupyter.widget-view+json": {
       "model_id": "b1e5e9251e844bada3ea845e1ad999c0",
       "version_major": 2,
       "version_minor": 0
      },
      "text/plain": [
       "VBox(children=(Label(value='Waiting for wandb.init()...\\r'), FloatProgress(value=0.016666666666666666, max=1.0…"
      ]
     },
     "metadata": {},
     "output_type": "display_data"
    },
    {
     "data": {
      "text/html": [
       "wandb version 0.16.2 is available!  To upgrade, please run:\n",
       " $ pip install wandb --upgrade"
      ],
      "text/plain": [
       "<IPython.core.display.HTML object>"
      ]
     },
     "metadata": {},
     "output_type": "display_data"
    },
    {
     "data": {
      "text/html": [
       "Tracking run with wandb version 0.15.8"
      ],
      "text/plain": [
       "<IPython.core.display.HTML object>"
      ]
     },
     "metadata": {},
     "output_type": "display_data"
    },
    {
     "data": {
      "text/html": [
       "Run data is saved locally in <code>y:\\coskun-lab\\Thomas\\23_PLA_revision\\notebooks\\wandb\\run-20240114_021034-4itfyjdw</code>"
      ],
      "text/plain": [
       "<IPython.core.display.HTML object>"
      ]
     },
     "metadata": {},
     "output_type": "display_data"
    },
    {
     "data": {
      "text/html": [
       "Syncing run <strong><a href='https://wandb.ai/thoomas/PLA_01122024_9PPI_3D_Kfold/runs/4itfyjdw' target=\"_blank\">GCN_2_32_onehot_3</a></strong> to <a href='https://wandb.ai/thoomas/PLA_01122024_9PPI_3D_Kfold' target=\"_blank\">Weights & Biases</a> (<a href='https://wandb.me/run' target=\"_blank\">docs</a>)<br/>"
      ],
      "text/plain": [
       "<IPython.core.display.HTML object>"
      ]
     },
     "metadata": {},
     "output_type": "display_data"
    },
    {
     "data": {
      "text/html": [
       " View project at <a href='https://wandb.ai/thoomas/PLA_01122024_9PPI_3D_Kfold' target=\"_blank\">https://wandb.ai/thoomas/PLA_01122024_9PPI_3D_Kfold</a>"
      ],
      "text/plain": [
       "<IPython.core.display.HTML object>"
      ]
     },
     "metadata": {},
     "output_type": "display_data"
    },
    {
     "data": {
      "text/html": [
       " View run at <a href='https://wandb.ai/thoomas/PLA_01122024_9PPI_3D_Kfold/runs/4itfyjdw' target=\"_blank\">https://wandb.ai/thoomas/PLA_01122024_9PPI_3D_Kfold/runs/4itfyjdw</a>"
      ],
      "text/plain": [
       "<IPython.core.display.HTML object>"
      ]
     },
     "metadata": {},
     "output_type": "display_data"
    },
    {
     "name": "stderr",
     "output_type": "stream",
     "text": [
      "Global seed set to 42\n",
      "GPU available: True (cuda), used: True\n",
      "TPU available: False, using: 0 TPU cores\n",
      "IPU available: False, using: 0 IPUs\n",
      "HPU available: False, using: 0 HPUs\n",
      "Global seed set to 42\n",
      "c:\\Users\\thu71\\AppData\\Local\\anaconda3\\envs\\scanpy\\Lib\\site-packages\\lightning\\pytorch\\callbacks\\model_checkpoint.py:617: UserWarning: Checkpoint directory \\\\bme-retromaster.ad.gatech.edu\\labs5\\coskun-lab\\Thomas\\23_PLA_revision\\data\\9PPI_3D\\saved_models\\9PPI_3D\\Graph_GNNs_Kfold\\GCN_2_32_onehot_3\\attention2\\GraphLevelGCN exists and is not empty.\n",
      "  rank_zero_warn(f\"Checkpoint directory {dirpath} exists and is not empty.\")\n",
      "LOCAL_RANK: 0 - CUDA_VISIBLE_DEVICES: [0]\n",
      "\n",
      "   | Name        | Type             | Params\n",
      "--------------------------------------------------\n",
      "0  | x_embedding | Identity         | 0     \n",
      "1  | model       | GNNModel         | 1.4 K \n",
      "2  | head        | Sequential       | 562   \n",
      "3  | loss_module | CrossEntropyLoss | 0     \n",
      "4  | train_acc   | BinaryAccuracy   | 0     \n",
      "5  | train_auroc | BinaryAUROC      | 0     \n",
      "6  | train_f1    | BinaryF1Score    | 0     \n",
      "7  | valid_acc   | BinaryAccuracy   | 0     \n",
      "8  | valid_auroc | BinaryAUROC      | 0     \n",
      "9  | valid_f1    | BinaryF1Score    | 0     \n",
      "10 | pool        | Attention_module | 1.1 K \n",
      "--------------------------------------------------\n",
      "3.1 K     Trainable params\n",
      "0         Non-trainable params\n",
      "3.1 K     Total params\n",
      "0.012     Total estimated model params size (MB)\n"
     ]
    },
    {
     "name": "stdout",
     "output_type": "stream",
     "text": [
      "Using GNN\n"
     ]
    },
    {
     "name": "stderr",
     "output_type": "stream",
     "text": [
      "`Trainer.fit` stopped: `max_epochs=65` reached.\n"
     ]
    },
    {
     "data": {
      "text/html": [
       "Waiting for W&B process to finish... <strong style=\"color:green\">(success).</strong>"
      ],
      "text/plain": [
       "<IPython.core.display.HTML object>"
      ]
     },
     "metadata": {},
     "output_type": "display_data"
    },
    {
     "data": {
      "text/html": [
       "<style>\n",
       "    table.wandb td:nth-child(1) { padding: 0 10px; text-align: left ; width: auto;} td:nth-child(2) {text-align: left ; width: 100%}\n",
       "    .wandb-row { display: flex; flex-direction: row; flex-wrap: wrap; justify-content: flex-start; width: 100% }\n",
       "    .wandb-col { display: flex; flex-direction: column; flex-basis: 100%; flex: 1; padding: 10px; }\n",
       "    </style>\n",
       "<div class=\"wandb-row\"><div class=\"wandb-col\"><h3>Run history:</h3><br/><table class=\"wandb\"><tr><td>epoch</td><td>▁▁▁▂▂▂▂▂▂▃▃▃▃▃▄▄▄▄▄▄▅▅▅▅▅▅▆▆▆▆▆▇▇▇▇▇▇███</td></tr><tr><td>lr-Adam</td><td>▁▁▁▁▁▁▁▁▁▁▁▁▁▁▁▁▁▁▁▁▁▁▁▁▁▁▁▁▁▁▁▁▁▁▁▁▁▁▁▁</td></tr><tr><td>train_acc</td><td>▁▄▆▇▇▇▇▇▇▇▇██▇▇▇▇▇▇▇█▇▇▇▇▇█▇▇▇█▇▇▇▇▇▇▇██</td></tr><tr><td>train_auc</td><td>▁▅▇▆▇▇▇▇▇▇████▇█▇███████████████████████</td></tr><tr><td>train_f1</td><td>▁▁▅▇▇▆▇▆▇▇▇▇█▇▆▇▆▇▇▇█▇▆▇▆▇▇▇▇▇█▇▇▆▇█▇▇██</td></tr><tr><td>train_loss_epoch</td><td>█▅▄▄▄▃▃▃▃▃▂▂▂▂▃▃▂▂▂▃▂▃▂▂▁▂▃▂▂▂▂▁▃▃▂▂▃▂▁▂</td></tr><tr><td>train_loss_step</td><td>▇▆▆▆█▆█▆▆▆▄▆▆▅▅▆▅▅▃▅▆▅▅▆▁▅▄▅▅▆▅▇▅▅▅▇▆▆▅▆</td></tr><tr><td>trainer/global_step</td><td>▁▁▁▂▂▁▁▁▁▃▃▂▂▃▃▄▂▂▄▄▅▅▂▅▅▆▃▃▃▆▆▃▃▃▇▇▃▃██</td></tr><tr><td>val_acc</td><td>▁▁▂▃▆▇▇▆██▇█▆▆▇█▆██▇█▇██▇▆▇▆▇████▆▅▇███▆</td></tr><tr><td>val_auc</td><td>▁▄▆▆▇▇▇▇▇▇██▆▇█▇████████████▇█▇███▇▇▇▇██</td></tr><tr><td>val_f1</td><td>▁▁▃▄▇▇▇▆██▇███▇█▆██▇█████▆▇▇█████▆▆███▇▇</td></tr><tr><td>val_loss_epoch</td><td>▅▅▅▄▂▂▄▃▂▁▂▆▃▄▃▃▃▂▃▁▃▄▁▁█▂▂▂▃▂▃▃▃▇▂▂▃▅▂▁</td></tr><tr><td>val_loss_step</td><td>▃▃▃▃▃▃▅▃▃▃▂▂▃▄▂▃▃▂▃▃▂▃▃▂█▃▃▃▃▂▂▃▂▃▁▂▃▂▃▃</td></tr></table><br/></div><div class=\"wandb-col\"><h3>Run summary:</h3><br/><table class=\"wandb\"><tr><td>epoch</td><td>64</td></tr><tr><td>lr-Adam</td><td>0.005</td></tr><tr><td>train_acc</td><td>0.80654</td></tr><tr><td>train_auc</td><td>0.86219</td></tr><tr><td>train_f1</td><td>0.74525</td></tr><tr><td>train_loss_epoch</td><td>0.48022</td></tr><tr><td>train_loss_step</td><td>0.52246</td></tr><tr><td>trainer/global_step</td><td>584</td></tr><tr><td>val_acc</td><td>0.75676</td></tr><tr><td>val_auc</td><td>0.88139</td></tr><tr><td>val_f1</td><td>0.63158</td></tr><tr><td>val_loss_epoch</td><td>0.33371</td></tr><tr><td>val_loss_step</td><td>0.06161</td></tr></table><br/></div></div>"
      ],
      "text/plain": [
       "<IPython.core.display.HTML object>"
      ]
     },
     "metadata": {},
     "output_type": "display_data"
    },
    {
     "data": {
      "text/html": [
       " View run <strong style=\"color:#cdcd00\">GCN_2_32_onehot_3</strong> at: <a href='https://wandb.ai/thoomas/PLA_01122024_9PPI_3D_Kfold/runs/4itfyjdw' target=\"_blank\">https://wandb.ai/thoomas/PLA_01122024_9PPI_3D_Kfold/runs/4itfyjdw</a><br/>Synced 6 W&B file(s), 0 media file(s), 0 artifact file(s) and 0 other file(s)"
      ],
      "text/plain": [
       "<IPython.core.display.HTML object>"
      ]
     },
     "metadata": {},
     "output_type": "display_data"
    },
    {
     "data": {
      "text/html": [
       "Find logs at: <code>.\\wandb\\run-20240114_021034-4itfyjdw\\logs</code>"
      ],
      "text/plain": [
       "<IPython.core.display.HTML object>"
      ]
     },
     "metadata": {},
     "output_type": "display_data"
    },
    {
     "data": {
      "text/html": [
       "wandb version 0.16.2 is available!  To upgrade, please run:\n",
       " $ pip install wandb --upgrade"
      ],
      "text/plain": [
       "<IPython.core.display.HTML object>"
      ]
     },
     "metadata": {},
     "output_type": "display_data"
    },
    {
     "data": {
      "text/html": [
       "Tracking run with wandb version 0.15.8"
      ],
      "text/plain": [
       "<IPython.core.display.HTML object>"
      ]
     },
     "metadata": {},
     "output_type": "display_data"
    },
    {
     "data": {
      "text/html": [
       "Run data is saved locally in <code>y:\\coskun-lab\\Thomas\\23_PLA_revision\\notebooks\\wandb\\run-20240114_022159-897u3bv8</code>"
      ],
      "text/plain": [
       "<IPython.core.display.HTML object>"
      ]
     },
     "metadata": {},
     "output_type": "display_data"
    },
    {
     "data": {
      "text/html": [
       "Syncing run <strong><a href='https://wandb.ai/thoomas/PLA_01122024_9PPI_3D_Kfold/runs/897u3bv8' target=\"_blank\">GAT_norm_4_32_onehot_3</a></strong> to <a href='https://wandb.ai/thoomas/PLA_01122024_9PPI_3D_Kfold' target=\"_blank\">Weights & Biases</a> (<a href='https://wandb.me/run' target=\"_blank\">docs</a>)<br/>"
      ],
      "text/plain": [
       "<IPython.core.display.HTML object>"
      ]
     },
     "metadata": {},
     "output_type": "display_data"
    },
    {
     "data": {
      "text/html": [
       " View project at <a href='https://wandb.ai/thoomas/PLA_01122024_9PPI_3D_Kfold' target=\"_blank\">https://wandb.ai/thoomas/PLA_01122024_9PPI_3D_Kfold</a>"
      ],
      "text/plain": [
       "<IPython.core.display.HTML object>"
      ]
     },
     "metadata": {},
     "output_type": "display_data"
    },
    {
     "data": {
      "text/html": [
       " View run at <a href='https://wandb.ai/thoomas/PLA_01122024_9PPI_3D_Kfold/runs/897u3bv8' target=\"_blank\">https://wandb.ai/thoomas/PLA_01122024_9PPI_3D_Kfold/runs/897u3bv8</a>"
      ],
      "text/plain": [
       "<IPython.core.display.HTML object>"
      ]
     },
     "metadata": {},
     "output_type": "display_data"
    },
    {
     "name": "stderr",
     "output_type": "stream",
     "text": [
      "Global seed set to 42\n",
      "GPU available: True (cuda), used: True\n",
      "TPU available: False, using: 0 TPU cores\n",
      "IPU available: False, using: 0 IPUs\n",
      "HPU available: False, using: 0 HPUs\n",
      "Global seed set to 42\n",
      "c:\\Users\\thu71\\AppData\\Local\\anaconda3\\envs\\scanpy\\Lib\\site-packages\\lightning\\pytorch\\callbacks\\model_checkpoint.py:617: UserWarning: Checkpoint directory \\\\bme-retromaster.ad.gatech.edu\\labs5\\coskun-lab\\Thomas\\23_PLA_revision\\data\\9PPI_3D\\saved_models\\9PPI_3D\\Graph_GNNs_Kfold\\GAT_norm_4_32_onehot_3\\attention\\GraphLevelGAT_norm exists and is not empty.\n",
      "  rank_zero_warn(f\"Checkpoint directory {dirpath} exists and is not empty.\")\n",
      "LOCAL_RANK: 0 - CUDA_VISIBLE_DEVICES: [0]\n",
      "\n",
      "   | Name        | Type             | Params\n",
      "--------------------------------------------------\n",
      "0  | x_embedding | Identity         | 0     \n",
      "1  | model       | GAT              | 23.1 K\n",
      "2  | head        | Sequential       | 562   \n",
      "3  | loss_module | CrossEntropyLoss | 0     \n",
      "4  | train_acc   | BinaryAccuracy   | 0     \n",
      "5  | train_auroc | BinaryAUROC      | 0     \n",
      "6  | train_f1    | BinaryF1Score    | 0     \n",
      "7  | valid_acc   | BinaryAccuracy   | 0     \n",
      "8  | valid_auroc | BinaryAUROC      | 0     \n",
      "9  | valid_f1    | BinaryF1Score    | 0     \n",
      "10 | pool        | GlobalAttention  | 33    \n",
      "--------------------------------------------------\n",
      "23.7 K    Trainable params\n",
      "0         Non-trainable params\n",
      "23.7 K    Total params\n",
      "0.095     Total estimated model params size (MB)\n"
     ]
    },
    {
     "name": "stdout",
     "output_type": "stream",
     "text": [
      "Using GAT\n"
     ]
    },
    {
     "name": "stderr",
     "output_type": "stream",
     "text": [
      "`Trainer.fit` stopped: `max_epochs=65` reached.\n"
     ]
    },
    {
     "data": {
      "text/html": [
       "Waiting for W&B process to finish... <strong style=\"color:green\">(success).</strong>"
      ],
      "text/plain": [
       "<IPython.core.display.HTML object>"
      ]
     },
     "metadata": {},
     "output_type": "display_data"
    },
    {
     "data": {
      "text/html": [
       "<style>\n",
       "    table.wandb td:nth-child(1) { padding: 0 10px; text-align: left ; width: auto;} td:nth-child(2) {text-align: left ; width: 100%}\n",
       "    .wandb-row { display: flex; flex-direction: row; flex-wrap: wrap; justify-content: flex-start; width: 100% }\n",
       "    .wandb-col { display: flex; flex-direction: column; flex-basis: 100%; flex: 1; padding: 10px; }\n",
       "    </style>\n",
       "<div class=\"wandb-row\"><div class=\"wandb-col\"><h3>Run history:</h3><br/><table class=\"wandb\"><tr><td>epoch</td><td>▁▁▁▂▂▂▂▂▂▃▃▃▃▃▄▄▄▄▄▄▅▅▅▅▅▅▆▆▆▆▆▇▇▇▇▇▇███</td></tr><tr><td>lr-Adam</td><td>▁▁▁▁▁▁▁▁▁▁▁▁▁▁▁▁▁▁▁▁▁▁▁▁▁▁▁▁▁▁▁▁▁▁▁▁▁▁▁▁</td></tr><tr><td>train_acc</td><td>▁▄▆▆▆▇▇▇▇▇▇▇▇▇▇▇▇▇▇▇▇▇▇▇▇▇█▇▇▇▇▇█▇▇██▇▇▇</td></tr><tr><td>train_auc</td><td>▁▄▆▆▇▇▇▇▇▇▇▇▇▇▇█▇██▇████▇▇▇▇████████████</td></tr><tr><td>train_f1</td><td>▁▂▄▆▆▆▆▇▇▆▆▆▆▆▆█▇▇▇▇▆█▇▇▇▆▇▇█▇▆▆▇▆█▇███▆</td></tr><tr><td>train_loss_epoch</td><td>█▆▄▄▃▄▄▃▃▃▃▄▃▂▃▂▂▁▂▃▂▂▃▂▂▃▂▃▂▂▃▂▁▁▂▁▂▂▂▃</td></tr><tr><td>train_loss_step</td><td>█▆▆▅▄▅█▄▄▅▆▃▃▅▃▃▄▅▅▄▆▃▃▂▁▄▅▄▅▄▃▃▂▄▄▃▂▃▄▂</td></tr><tr><td>trainer/global_step</td><td>▁▁▁▂▂▁▁▁▁▃▃▂▂▃▃▄▂▂▄▄▅▅▂▅▅▆▃▃▃▆▆▃▃▃▇▇▃▃██</td></tr><tr><td>val_acc</td><td>▁▁▂▆▇▆▅▃▄▅▃▄▄▄▃█▅▅▃▆▇▆▅▄▅▅▅▄▄▆▆▆▆▅▆█▅▃█▄</td></tr><tr><td>val_auc</td><td>▁▃▅▅▆▆▆▇▇▇▇▄▆▇▇▄▇▇▇▃▆▅█▇▆███▆█▅▇▇▆▇▇▇█▇▆</td></tr><tr><td>val_f1</td><td>▁▁▂▆▇▆▅▃▄▅▃▄▅▅▄█▆▅▃▇▇▆▅▄▅▅▅▄▄▆▆▆▆▅▆▇▅▃▇▄</td></tr><tr><td>val_loss_epoch</td><td>▂▂▃▁▂▁▂▆▄▄▄▃▂▃▃▂▂▄█▂▁▂▅▃▄▂▁▅▂▂▂▂▄▆▃▂▄▃▁▄</td></tr><tr><td>val_loss_step</td><td>▂▂▂▂▂▃▂▆▃▃▄▃▁▃▂▂▃▅█▃▂▂▃▃▅▂▃▃▂▁▃▃▃▃▂▂▄▄▂▃</td></tr></table><br/></div><div class=\"wandb-col\"><h3>Run summary:</h3><br/><table class=\"wandb\"><tr><td>epoch</td><td>64</td></tr><tr><td>lr-Adam</td><td>0.005</td></tr><tr><td>train_acc</td><td>0.74591</td></tr><tr><td>train_auc</td><td>0.8082</td></tr><tr><td>train_f1</td><td>0.62178</td></tr><tr><td>train_loss_epoch</td><td>0.5533</td></tr><tr><td>train_loss_step</td><td>0.44165</td></tr><tr><td>trainer/global_step</td><td>584</td></tr><tr><td>val_acc</td><td>0.64093</td></tr><tr><td>val_auc</td><td>0.78535</td></tr><tr><td>val_f1</td><td>0.2439</td></tr><tr><td>val_loss_epoch</td><td>1.08344</td></tr><tr><td>val_loss_step</td><td>1.54165</td></tr></table><br/></div></div>"
      ],
      "text/plain": [
       "<IPython.core.display.HTML object>"
      ]
     },
     "metadata": {},
     "output_type": "display_data"
    },
    {
     "data": {
      "text/html": [
       " View run <strong style=\"color:#cdcd00\">GAT_norm_4_32_onehot_3</strong> at: <a href='https://wandb.ai/thoomas/PLA_01122024_9PPI_3D_Kfold/runs/897u3bv8' target=\"_blank\">https://wandb.ai/thoomas/PLA_01122024_9PPI_3D_Kfold/runs/897u3bv8</a><br/>Synced 6 W&B file(s), 0 media file(s), 0 artifact file(s) and 0 other file(s)"
      ],
      "text/plain": [
       "<IPython.core.display.HTML object>"
      ]
     },
     "metadata": {},
     "output_type": "display_data"
    },
    {
     "data": {
      "text/html": [
       "Find logs at: <code>.\\wandb\\run-20240114_022159-897u3bv8\\logs</code>"
      ],
      "text/plain": [
       "<IPython.core.display.HTML object>"
      ]
     },
     "metadata": {},
     "output_type": "display_data"
    },
    {
     "data": {
      "text/html": [
       "wandb version 0.16.2 is available!  To upgrade, please run:\n",
       " $ pip install wandb --upgrade"
      ],
      "text/plain": [
       "<IPython.core.display.HTML object>"
      ]
     },
     "metadata": {},
     "output_type": "display_data"
    },
    {
     "data": {
      "text/html": [
       "Tracking run with wandb version 0.15.8"
      ],
      "text/plain": [
       "<IPython.core.display.HTML object>"
      ]
     },
     "metadata": {},
     "output_type": "display_data"
    },
    {
     "data": {
      "text/html": [
       "Run data is saved locally in <code>y:\\coskun-lab\\Thomas\\23_PLA_revision\\notebooks\\wandb\\run-20240114_023507-y6pr9zzp</code>"
      ],
      "text/plain": [
       "<IPython.core.display.HTML object>"
      ]
     },
     "metadata": {},
     "output_type": "display_data"
    },
    {
     "data": {
      "text/html": [
       "Syncing run <strong><a href='https://wandb.ai/thoomas/PLA_01122024_9PPI_3D_Kfold/runs/y6pr9zzp' target=\"_blank\">GINConv_norm_2_16_onehot_3</a></strong> to <a href='https://wandb.ai/thoomas/PLA_01122024_9PPI_3D_Kfold' target=\"_blank\">Weights & Biases</a> (<a href='https://wandb.me/run' target=\"_blank\">docs</a>)<br/>"
      ],
      "text/plain": [
       "<IPython.core.display.HTML object>"
      ]
     },
     "metadata": {},
     "output_type": "display_data"
    },
    {
     "data": {
      "text/html": [
       " View project at <a href='https://wandb.ai/thoomas/PLA_01122024_9PPI_3D_Kfold' target=\"_blank\">https://wandb.ai/thoomas/PLA_01122024_9PPI_3D_Kfold</a>"
      ],
      "text/plain": [
       "<IPython.core.display.HTML object>"
      ]
     },
     "metadata": {},
     "output_type": "display_data"
    },
    {
     "data": {
      "text/html": [
       " View run at <a href='https://wandb.ai/thoomas/PLA_01122024_9PPI_3D_Kfold/runs/y6pr9zzp' target=\"_blank\">https://wandb.ai/thoomas/PLA_01122024_9PPI_3D_Kfold/runs/y6pr9zzp</a>"
      ],
      "text/plain": [
       "<IPython.core.display.HTML object>"
      ]
     },
     "metadata": {},
     "output_type": "display_data"
    },
    {
     "name": "stderr",
     "output_type": "stream",
     "text": [
      "Global seed set to 42\n",
      "GPU available: True (cuda), used: True\n",
      "TPU available: False, using: 0 TPU cores\n",
      "IPU available: False, using: 0 IPUs\n",
      "HPU available: False, using: 0 HPUs\n",
      "Global seed set to 42\n",
      "c:\\Users\\thu71\\AppData\\Local\\anaconda3\\envs\\scanpy\\Lib\\site-packages\\lightning\\pytorch\\callbacks\\model_checkpoint.py:617: UserWarning: Checkpoint directory \\\\bme-retromaster.ad.gatech.edu\\labs5\\coskun-lab\\Thomas\\23_PLA_revision\\data\\9PPI_3D\\saved_models\\9PPI_3D\\Graph_GNNs_Kfold\\GINConv_norm_2_16_onehot_3\\mean\\GraphLevelGINConv_norm exists and is not empty.\n",
      "  rank_zero_warn(f\"Checkpoint directory {dirpath} exists and is not empty.\")\n",
      "LOCAL_RANK: 0 - CUDA_VISIBLE_DEVICES: [0]\n",
      "\n",
      "  | Name        | Type             | Params\n",
      "-------------------------------------------------\n",
      "0 | x_embedding | Identity         | 0     \n",
      "1 | model       | GIN              | 1.1 K \n",
      "2 | head        | Sequential       | 154   \n",
      "3 | loss_module | CrossEntropyLoss | 0     \n",
      "4 | train_acc   | BinaryAccuracy   | 0     \n",
      "5 | train_auroc | BinaryAUROC      | 0     \n",
      "6 | train_f1    | BinaryF1Score    | 0     \n",
      "7 | valid_acc   | BinaryAccuracy   | 0     \n",
      "8 | valid_auroc | BinaryAUROC      | 0     \n",
      "9 | valid_f1    | BinaryF1Score    | 0     \n",
      "-------------------------------------------------\n",
      "1.2 K     Trainable params\n",
      "0         Non-trainable params\n",
      "1.2 K     Total params\n",
      "0.005     Total estimated model params size (MB)\n"
     ]
    },
    {
     "name": "stdout",
     "output_type": "stream",
     "text": [
      "GINConv\n"
     ]
    },
    {
     "name": "stderr",
     "output_type": "stream",
     "text": [
      "`Trainer.fit` stopped: `max_epochs=65` reached.\n"
     ]
    },
    {
     "data": {
      "text/html": [
       "Waiting for W&B process to finish... <strong style=\"color:green\">(success).</strong>"
      ],
      "text/plain": [
       "<IPython.core.display.HTML object>"
      ]
     },
     "metadata": {},
     "output_type": "display_data"
    },
    {
     "data": {
      "text/html": [
       "<style>\n",
       "    table.wandb td:nth-child(1) { padding: 0 10px; text-align: left ; width: auto;} td:nth-child(2) {text-align: left ; width: 100%}\n",
       "    .wandb-row { display: flex; flex-direction: row; flex-wrap: wrap; justify-content: flex-start; width: 100% }\n",
       "    .wandb-col { display: flex; flex-direction: column; flex-basis: 100%; flex: 1; padding: 10px; }\n",
       "    </style>\n",
       "<div class=\"wandb-row\"><div class=\"wandb-col\"><h3>Run history:</h3><br/><table class=\"wandb\"><tr><td>epoch</td><td>▁▁▁▂▂▂▂▂▂▃▃▃▃▃▄▄▄▄▄▄▅▅▅▅▅▅▆▆▆▆▆▇▇▇▇▇▇███</td></tr><tr><td>lr-Adam</td><td>▁▁▁▁▁▁▁▁▁▁▁▁▁▁▁▁▁▁▁▁▁▁▁▁▁▁▁▁▁▁▁▁▁▁▁▁▁▁▁▁</td></tr><tr><td>train_acc</td><td>▁▄▅▆▆▆▅▆▇▇▆▆▇▆▇▇▇█▇█▇▇█▇▇█▇▇▇██▇█████▇██</td></tr><tr><td>train_auc</td><td>▁▃▅▅▅▅▆▆▇▆▆▆▇▆▆▇▇▇▇▇▇▇▇▇▇▇▇▇▇▇███▇█▇▇███</td></tr><tr><td>train_f1</td><td>▁▂▅▆▆▅▅▇▇▇▇▅▇▆▇▆▇██▇▇▇█▇▇▇▇▇▇▇█▇▇█▇█▇▆▇█</td></tr><tr><td>train_loss_epoch</td><td>█▆▆▄▅▄▅▃▄▃▄▃▃▄▃▄▂▂▂▃▃▃▂▃▂▂▂▂▂▁▁▂▂▂▃▂▃▂▂▂</td></tr><tr><td>train_loss_step</td><td>█▇▆▆▅▆▆▆▅▇▄▆▆▅▆▆▅▅▂▆▄▄▆▆▁▅▄▅▄▄▅▃▅▆▅▃▃▅▆▄</td></tr><tr><td>trainer/global_step</td><td>▁▁▁▂▂▁▁▁▁▃▃▂▂▃▃▄▂▂▄▄▅▅▂▅▅▆▃▃▃▆▆▃▃▃▇▇▃▃██</td></tr><tr><td>val_acc</td><td>▁▄▄▄▆▆▆▆▇▅▃▇█▇▆█▇▇█▆▇▇█▇▇▇▆▇▇▇▆▆▇▇▇▇▇▆▇▇</td></tr><tr><td>val_auc</td><td>▁▂▃▄▄▄▄▄▄▅▄▅▆▃▇▅▆▆▄▇▇▆▆▇▇▇▇▇▇█▇█▇▇▇█▇▇▇█</td></tr><tr><td>val_f1</td><td>▁▄▅▅▆▇▇██▆▇▇██▆████▇▇██████▇█▇█▇██▇█▇▆█▇</td></tr><tr><td>val_loss_epoch</td><td>▆▅█▅▄▃▃▅▆▂▆▂▃▃▇▅▄█▃▇▂▃▆▂▂▂▅▁▂▄▅▄▅▇▂█▃▂▂▃</td></tr><tr><td>val_loss_step</td><td>▄▃▄▃▃▄▂▄▄▄▄▃▃▂▃▄▃▇▃▃▄▄▄▁▁▃▃▃▁▃▃▃▃▃▂█▃▃▃▄</td></tr></table><br/></div><div class=\"wandb-col\"><h3>Run summary:</h3><br/><table class=\"wandb\"><tr><td>epoch</td><td>64</td></tr><tr><td>lr-Adam</td><td>0.005</td></tr><tr><td>train_acc</td><td>0.79211</td></tr><tr><td>train_auc</td><td>0.84156</td></tr><tr><td>train_f1</td><td>0.73</td></tr><tr><td>train_loss_epoch</td><td>0.48555</td></tr><tr><td>train_loss_step</td><td>0.43771</td></tr><tr><td>trainer/global_step</td><td>584</td></tr><tr><td>val_acc</td><td>0.75676</td></tr><tr><td>val_auc</td><td>0.84223</td></tr><tr><td>val_f1</td><td>0.64804</td></tr><tr><td>val_loss_epoch</td><td>0.48645</td></tr><tr><td>val_loss_step</td><td>0.4021</td></tr></table><br/></div></div>"
      ],
      "text/plain": [
       "<IPython.core.display.HTML object>"
      ]
     },
     "metadata": {},
     "output_type": "display_data"
    },
    {
     "data": {
      "text/html": [
       " View run <strong style=\"color:#cdcd00\">GINConv_norm_2_16_onehot_3</strong> at: <a href='https://wandb.ai/thoomas/PLA_01122024_9PPI_3D_Kfold/runs/y6pr9zzp' target=\"_blank\">https://wandb.ai/thoomas/PLA_01122024_9PPI_3D_Kfold/runs/y6pr9zzp</a><br/>Synced 6 W&B file(s), 0 media file(s), 0 artifact file(s) and 0 other file(s)"
      ],
      "text/plain": [
       "<IPython.core.display.HTML object>"
      ]
     },
     "metadata": {},
     "output_type": "display_data"
    },
    {
     "data": {
      "text/html": [
       "Find logs at: <code>.\\wandb\\run-20240114_023507-y6pr9zzp\\logs</code>"
      ],
      "text/plain": [
       "<IPython.core.display.HTML object>"
      ]
     },
     "metadata": {},
     "output_type": "display_data"
    },
    {
     "data": {
      "application/vnd.jupyter.widget-view+json": {
       "model_id": "7d48b69ac90c468480180d47a02966f7",
       "version_major": 2,
       "version_minor": 0
      },
      "text/plain": [
       "VBox(children=(Label(value='Waiting for wandb.init()...\\r'), FloatProgress(value=0.0169333333382383, max=1.0))…"
      ]
     },
     "metadata": {},
     "output_type": "display_data"
    },
    {
     "data": {
      "text/html": [
       "wandb version 0.16.2 is available!  To upgrade, please run:\n",
       " $ pip install wandb --upgrade"
      ],
      "text/plain": [
       "<IPython.core.display.HTML object>"
      ]
     },
     "metadata": {},
     "output_type": "display_data"
    },
    {
     "data": {
      "text/html": [
       "Tracking run with wandb version 0.15.8"
      ],
      "text/plain": [
       "<IPython.core.display.HTML object>"
      ]
     },
     "metadata": {},
     "output_type": "display_data"
    },
    {
     "data": {
      "text/html": [
       "Run data is saved locally in <code>y:\\coskun-lab\\Thomas\\23_PLA_revision\\notebooks\\wandb\\run-20240114_024336-9dvu0g80</code>"
      ],
      "text/plain": [
       "<IPython.core.display.HTML object>"
      ]
     },
     "metadata": {},
     "output_type": "display_data"
    },
    {
     "data": {
      "text/html": [
       "Syncing run <strong><a href='https://wandb.ai/thoomas/PLA_01122024_9PPI_3D_Kfold/runs/9dvu0g80' target=\"_blank\">MLP_2_64_onehot_4</a></strong> to <a href='https://wandb.ai/thoomas/PLA_01122024_9PPI_3D_Kfold' target=\"_blank\">Weights & Biases</a> (<a href='https://wandb.me/run' target=\"_blank\">docs</a>)<br/>"
      ],
      "text/plain": [
       "<IPython.core.display.HTML object>"
      ]
     },
     "metadata": {},
     "output_type": "display_data"
    },
    {
     "data": {
      "text/html": [
       " View project at <a href='https://wandb.ai/thoomas/PLA_01122024_9PPI_3D_Kfold' target=\"_blank\">https://wandb.ai/thoomas/PLA_01122024_9PPI_3D_Kfold</a>"
      ],
      "text/plain": [
       "<IPython.core.display.HTML object>"
      ]
     },
     "metadata": {},
     "output_type": "display_data"
    },
    {
     "data": {
      "text/html": [
       " View run at <a href='https://wandb.ai/thoomas/PLA_01122024_9PPI_3D_Kfold/runs/9dvu0g80' target=\"_blank\">https://wandb.ai/thoomas/PLA_01122024_9PPI_3D_Kfold/runs/9dvu0g80</a>"
      ],
      "text/plain": [
       "<IPython.core.display.HTML object>"
      ]
     },
     "metadata": {},
     "output_type": "display_data"
    },
    {
     "name": "stderr",
     "output_type": "stream",
     "text": [
      "Global seed set to 42\n",
      "GPU available: True (cuda), used: True\n",
      "TPU available: False, using: 0 TPU cores\n",
      "IPU available: False, using: 0 IPUs\n",
      "HPU available: False, using: 0 HPUs\n",
      "Global seed set to 42\n",
      "c:\\Users\\thu71\\AppData\\Local\\anaconda3\\envs\\scanpy\\Lib\\site-packages\\lightning\\pytorch\\callbacks\\model_checkpoint.py:617: UserWarning: Checkpoint directory \\\\bme-retromaster.ad.gatech.edu\\labs5\\coskun-lab\\Thomas\\23_PLA_revision\\data\\9PPI_3D\\saved_models\\9PPI_3D\\Graph_GNNs_Kfold\\MLP_2_64_onehot_4\\attention\\GraphLevelMLP exists and is not empty.\n",
      "  rank_zero_warn(f\"Checkpoint directory {dirpath} exists and is not empty.\")\n",
      "LOCAL_RANK: 0 - CUDA_VISIBLE_DEVICES: [0]\n",
      "\n",
      "   | Name        | Type             | Params\n",
      "--------------------------------------------------\n",
      "0  | x_embedding | Identity         | 0     \n",
      "1  | model       | MLPModel         | 4.8 K \n",
      "2  | head        | Sequential       | 2.1 K \n",
      "3  | loss_module | CrossEntropyLoss | 0     \n",
      "4  | train_acc   | BinaryAccuracy   | 0     \n",
      "5  | train_auroc | BinaryAUROC      | 0     \n",
      "6  | train_f1    | BinaryF1Score    | 0     \n",
      "7  | valid_acc   | BinaryAccuracy   | 0     \n",
      "8  | valid_auroc | BinaryAUROC      | 0     \n",
      "9  | valid_f1    | BinaryF1Score    | 0     \n",
      "10 | pool        | GlobalAttention  | 65    \n",
      "--------------------------------------------------\n",
      "7.0 K     Trainable params\n",
      "0         Non-trainable params\n",
      "7.0 K     Total params\n",
      "0.028     Total estimated model params size (MB)\n"
     ]
    },
    {
     "name": "stdout",
     "output_type": "stream",
     "text": [
      "Using MLP\n"
     ]
    },
    {
     "name": "stderr",
     "output_type": "stream",
     "text": [
      "`Trainer.fit` stopped: `max_epochs=65` reached.\n"
     ]
    },
    {
     "data": {
      "text/html": [
       "Waiting for W&B process to finish... <strong style=\"color:green\">(success).</strong>"
      ],
      "text/plain": [
       "<IPython.core.display.HTML object>"
      ]
     },
     "metadata": {},
     "output_type": "display_data"
    },
    {
     "data": {
      "text/html": [
       "<style>\n",
       "    table.wandb td:nth-child(1) { padding: 0 10px; text-align: left ; width: auto;} td:nth-child(2) {text-align: left ; width: 100%}\n",
       "    .wandb-row { display: flex; flex-direction: row; flex-wrap: wrap; justify-content: flex-start; width: 100% }\n",
       "    .wandb-col { display: flex; flex-direction: column; flex-basis: 100%; flex: 1; padding: 10px; }\n",
       "    </style>\n",
       "<div class=\"wandb-row\"><div class=\"wandb-col\"><h3>Run history:</h3><br/><table class=\"wandb\"><tr><td>epoch</td><td>▁▁▁▂▂▂▂▂▂▃▃▃▃▃▄▄▄▄▄▄▅▅▅▅▅▅▆▆▆▆▆▇▇▇▇▇▇███</td></tr><tr><td>lr-Adam</td><td>▁▁▁▁▁▁▁▁▁▁▁▁▁▁▁▁▁▁▁▁▁▁▁▁▁▁▁▁▁▁▁▁▁▁▁▁▁▁▁▁</td></tr><tr><td>train_acc</td><td>▁▃▃▃▅▆▆▇▇▇▇▆▆▆▇▆▇▅▇▇▇▇▇▇▇█▇█▇██▇▇▇▇▇▇█▇█</td></tr><tr><td>train_auc</td><td>▁▂▃▄▆▇▆▇▇▇▇▇▆▇▇▇▇▇▇▇▇▇██▇█▇█▇█▇▇▇██▇██▇█</td></tr><tr><td>train_f1</td><td>▃▃▃▁▆▇▇▇▇▇▇█▅▆▇██▄▇▇▇█▇▇▇█▇█▇███▆▇▇▇▇█▇█</td></tr><tr><td>train_loss_epoch</td><td>█▇▆▆▄▃▄▃▂▂▃▄▅▃▃▅▃▄▂▃▃▂▁▁▃▂▂▂▂▁▂▃▂▂▃▃▂▁▂▃</td></tr><tr><td>train_loss_step</td><td>█▆▆▆▇▅▆▃▄▂▅▄▆▄▄▇▆▃▆▇▆▃▃▇▃▂▃▅▃▄▃▄▃▃▃▄▂▄▁▃</td></tr><tr><td>trainer/global_step</td><td>▁▁▁▂▂▁▁▁▁▃▃▂▂▃▃▄▂▂▄▄▅▅▂▅▅▆▃▃▃▆▆▃▃▃▇▇▃▃██</td></tr><tr><td>val_acc</td><td>▁▁▁▁▅▃▇▅▅▆▇▂▇▆▆▃▃▇▆▅▇▆▇▇▇▅█▅▇▆▇▅▇▇▇▇▇▆▇█</td></tr><tr><td>val_auc</td><td>▁▁▃▃▅▆▆▆▆▆▆▇▇▇▇▇▇▇▇▇▇▇▇▇█▇▇▇▇▇▇▇▇▇▇▇▇▇▇▇</td></tr><tr><td>val_f1</td><td>▁▁▁▁▅▄▇▆▆▆▇▂█▇▇▃▄▇▇▅▇▆▇▇█▅█▅▇▆█▅█▇▇▇▇▆█▇</td></tr><tr><td>val_loss_epoch</td><td>▆▅▅▅▃█▄▂▇▇▃▆▄▃▅▂▆▄▁▅▄▂▄▁▃▅▂▃▄▅▂█▃▃▃▃▃▄▅▁</td></tr><tr><td>val_loss_step</td><td>▆▅▆▆▅▆▆▂▅▄▅▆▅▃▄▆▅▆▁▅▄▅▅▁▅▆▅▅▅█▅▆▅▄▄▅▅▅▅▄</td></tr></table><br/></div><div class=\"wandb-col\"><h3>Run summary:</h3><br/><table class=\"wandb\"><tr><td>epoch</td><td>64</td></tr><tr><td>lr-Adam</td><td>0.005</td></tr><tr><td>train_acc</td><td>0.71415</td></tr><tr><td>train_auc</td><td>0.73176</td></tr><tr><td>train_f1</td><td>0.56894</td></tr><tr><td>train_loss_epoch</td><td>0.60415</td></tr><tr><td>train_loss_step</td><td>0.56755</td></tr><tr><td>trainer/global_step</td><td>584</td></tr><tr><td>val_acc</td><td>0.71429</td></tr><tr><td>val_auc</td><td>0.77102</td></tr><tr><td>val_f1</td><td>0.57955</td></tr><tr><td>val_loss_epoch</td><td>0.48925</td></tr><tr><td>val_loss_step</td><td>0.30622</td></tr></table><br/></div></div>"
      ],
      "text/plain": [
       "<IPython.core.display.HTML object>"
      ]
     },
     "metadata": {},
     "output_type": "display_data"
    },
    {
     "data": {
      "text/html": [
       " View run <strong style=\"color:#cdcd00\">MLP_2_64_onehot_4</strong> at: <a href='https://wandb.ai/thoomas/PLA_01122024_9PPI_3D_Kfold/runs/9dvu0g80' target=\"_blank\">https://wandb.ai/thoomas/PLA_01122024_9PPI_3D_Kfold/runs/9dvu0g80</a><br/>Synced 6 W&B file(s), 0 media file(s), 0 artifact file(s) and 0 other file(s)"
      ],
      "text/plain": [
       "<IPython.core.display.HTML object>"
      ]
     },
     "metadata": {},
     "output_type": "display_data"
    },
    {
     "data": {
      "text/html": [
       "Find logs at: <code>.\\wandb\\run-20240114_024336-9dvu0g80\\logs</code>"
      ],
      "text/plain": [
       "<IPython.core.display.HTML object>"
      ]
     },
     "metadata": {},
     "output_type": "display_data"
    },
    {
     "data": {
      "application/vnd.jupyter.widget-view+json": {
       "model_id": "7004c1e80b9249d5b6710028ead1c8b5",
       "version_major": 2,
       "version_minor": 0
      },
      "text/plain": [
       "VBox(children=(Label(value='Waiting for wandb.init()...\\r'), FloatProgress(value=0.01691666666883975, max=1.0)…"
      ]
     },
     "metadata": {},
     "output_type": "display_data"
    },
    {
     "data": {
      "text/html": [
       "wandb version 0.16.2 is available!  To upgrade, please run:\n",
       " $ pip install wandb --upgrade"
      ],
      "text/plain": [
       "<IPython.core.display.HTML object>"
      ]
     },
     "metadata": {},
     "output_type": "display_data"
    },
    {
     "data": {
      "text/html": [
       "Tracking run with wandb version 0.15.8"
      ],
      "text/plain": [
       "<IPython.core.display.HTML object>"
      ]
     },
     "metadata": {},
     "output_type": "display_data"
    },
    {
     "data": {
      "text/html": [
       "Run data is saved locally in <code>y:\\coskun-lab\\Thomas\\23_PLA_revision\\notebooks\\wandb\\run-20240114_025426-ppgf9zdt</code>"
      ],
      "text/plain": [
       "<IPython.core.display.HTML object>"
      ]
     },
     "metadata": {},
     "output_type": "display_data"
    },
    {
     "data": {
      "text/html": [
       "Syncing run <strong><a href='https://wandb.ai/thoomas/PLA_01122024_9PPI_3D_Kfold/runs/ppgf9zdt' target=\"_blank\">GraphConv_2_64_onehot_4</a></strong> to <a href='https://wandb.ai/thoomas/PLA_01122024_9PPI_3D_Kfold' target=\"_blank\">Weights & Biases</a> (<a href='https://wandb.me/run' target=\"_blank\">docs</a>)<br/>"
      ],
      "text/plain": [
       "<IPython.core.display.HTML object>"
      ]
     },
     "metadata": {},
     "output_type": "display_data"
    },
    {
     "data": {
      "text/html": [
       " View project at <a href='https://wandb.ai/thoomas/PLA_01122024_9PPI_3D_Kfold' target=\"_blank\">https://wandb.ai/thoomas/PLA_01122024_9PPI_3D_Kfold</a>"
      ],
      "text/plain": [
       "<IPython.core.display.HTML object>"
      ]
     },
     "metadata": {},
     "output_type": "display_data"
    },
    {
     "data": {
      "text/html": [
       " View run at <a href='https://wandb.ai/thoomas/PLA_01122024_9PPI_3D_Kfold/runs/ppgf9zdt' target=\"_blank\">https://wandb.ai/thoomas/PLA_01122024_9PPI_3D_Kfold/runs/ppgf9zdt</a>"
      ],
      "text/plain": [
       "<IPython.core.display.HTML object>"
      ]
     },
     "metadata": {},
     "output_type": "display_data"
    },
    {
     "name": "stderr",
     "output_type": "stream",
     "text": [
      "Global seed set to 42\n",
      "GPU available: True (cuda), used: True\n",
      "TPU available: False, using: 0 TPU cores\n",
      "IPU available: False, using: 0 IPUs\n",
      "HPU available: False, using: 0 HPUs\n",
      "Global seed set to 42\n",
      "c:\\Users\\thu71\\AppData\\Local\\anaconda3\\envs\\scanpy\\Lib\\site-packages\\lightning\\pytorch\\callbacks\\model_checkpoint.py:617: UserWarning: Checkpoint directory \\\\bme-retromaster.ad.gatech.edu\\labs5\\coskun-lab\\Thomas\\23_PLA_revision\\data\\9PPI_3D\\saved_models\\9PPI_3D\\Graph_GNNs_Kfold\\GraphConv_2_64_onehot_4\\mean\\GraphLevelGraphConv exists and is not empty.\n",
      "  rank_zero_warn(f\"Checkpoint directory {dirpath} exists and is not empty.\")\n",
      "LOCAL_RANK: 0 - CUDA_VISIBLE_DEVICES: [0]\n",
      "\n",
      "  | Name        | Type             | Params\n",
      "-------------------------------------------------\n",
      "0 | x_embedding | Identity         | 0     \n",
      "1 | model       | GNNModel         | 9.6 K \n",
      "2 | head        | Sequential       | 2.1 K \n",
      "3 | loss_module | CrossEntropyLoss | 0     \n",
      "4 | train_acc   | BinaryAccuracy   | 0     \n",
      "5 | train_auroc | BinaryAUROC      | 0     \n",
      "6 | train_f1    | BinaryF1Score    | 0     \n",
      "7 | valid_acc   | BinaryAccuracy   | 0     \n",
      "8 | valid_auroc | BinaryAUROC      | 0     \n",
      "9 | valid_f1    | BinaryF1Score    | 0     \n",
      "-------------------------------------------------\n",
      "11.7 K    Trainable params\n",
      "0         Non-trainable params\n",
      "11.7 K    Total params\n",
      "0.047     Total estimated model params size (MB)\n"
     ]
    },
    {
     "name": "stdout",
     "output_type": "stream",
     "text": [
      "Using GNN\n"
     ]
    },
    {
     "name": "stderr",
     "output_type": "stream",
     "text": [
      "`Trainer.fit` stopped: `max_epochs=65` reached.\n"
     ]
    },
    {
     "data": {
      "text/html": [
       "Waiting for W&B process to finish... <strong style=\"color:green\">(success).</strong>"
      ],
      "text/plain": [
       "<IPython.core.display.HTML object>"
      ]
     },
     "metadata": {},
     "output_type": "display_data"
    },
    {
     "data": {
      "application/vnd.jupyter.widget-view+json": {
       "model_id": "e64fb0963bd34e0cba576ca7e8435b3c",
       "version_major": 2,
       "version_minor": 0
      },
      "text/plain": [
       "VBox(children=(Label(value='0.001 MB of 0.001 MB uploaded (0.000 MB deduped)\\r'), FloatProgress(value=1.0, max…"
      ]
     },
     "metadata": {},
     "output_type": "display_data"
    },
    {
     "data": {
      "text/html": [
       "<style>\n",
       "    table.wandb td:nth-child(1) { padding: 0 10px; text-align: left ; width: auto;} td:nth-child(2) {text-align: left ; width: 100%}\n",
       "    .wandb-row { display: flex; flex-direction: row; flex-wrap: wrap; justify-content: flex-start; width: 100% }\n",
       "    .wandb-col { display: flex; flex-direction: column; flex-basis: 100%; flex: 1; padding: 10px; }\n",
       "    </style>\n",
       "<div class=\"wandb-row\"><div class=\"wandb-col\"><h3>Run history:</h3><br/><table class=\"wandb\"><tr><td>epoch</td><td>▁▁▁▂▂▂▂▂▂▃▃▃▃▃▄▄▄▄▄▄▅▅▅▅▅▅▆▆▆▆▆▇▇▇▇▇▇███</td></tr><tr><td>lr-Adam</td><td>▁▁▁▁▁▁▁▁▁▁▁▁▁▁▁▁▁▁▁▁▁▁▁▁▁▁▁▁▁▁▁▁▁▁▁▁▁▁▁▁</td></tr><tr><td>train_acc</td><td>▁▄▄▅▅▆▆▆▆▆▆▇▇▆▇▇▇▇▇▆▇▇▇▇█▇█▇█▇██▇█▇▇▇██▇</td></tr><tr><td>train_auc</td><td>▁▃▅▅▆▆▆▆▇▆▇▇▇▇▇█▇▇▇▇██▇█████████████▇███</td></tr><tr><td>train_f1</td><td>▁▅▅▅▇▇▇▇▇▇▇▇▇▆▇▇█▇▇▆▇█▇██▇█▇█▇████▇▇▇▇▇▇</td></tr><tr><td>train_loss_epoch</td><td>█▇▅▅▅▄▄▄▄▄▃▃▄▄▂▂▂▂▂▃▁▃▃▃▃▂▂▂▁▂▂▂▂▂▃▂▂▂▁▁</td></tr><tr><td>train_loss_step</td><td>▆▆▅▃▆▄▇▅▄▅▄▄▇▃▄▄▄▃▃▂▃▃▃▃█▂▃▂▂▄▄▂▂▁▃▂▄▁▂▃</td></tr><tr><td>trainer/global_step</td><td>▁▁▁▂▂▁▁▁▁▃▃▂▂▃▃▄▂▂▄▄▅▅▂▅▅▆▃▃▃▆▆▃▃▃▇▇▃▃██</td></tr><tr><td>val_acc</td><td>▁▂▅▅▅▇▇▇▇▇▇▇▇▇█▆██▇▇▇▇███▇▇█▇████▇█▇█▇▇▇</td></tr><tr><td>val_auc</td><td>▁▂▄▅▆▇▇▇█▇██▇██▇▇▇▇▇▇▇▇██▇▇▇▆▇█▇▇▇▇▇▇█▇▇</td></tr><tr><td>val_f1</td><td>▁▃▆▆▆▇▇█▇▇█▇▇▇█▇██▇▇█▇████▇█▇███████████</td></tr><tr><td>val_loss_epoch</td><td>▂▃▃▂▂▁▂▂▁▁▂▆▂▁▂▂▁▁▂▁▁▂▂▂▂▁▁▁▂▂▂▁▂▄█▂▂▂▁▂</td></tr><tr><td>val_loss_step</td><td>▂▂▂▂▂▂▂▂▂▂▂▂▂▁▂▂▂▁▂▂▂▂▂▂▂▂▂▂▂▂▂▂▂▂█▂▂▂▂▂</td></tr></table><br/></div><div class=\"wandb-col\"><h3>Run summary:</h3><br/><table class=\"wandb\"><tr><td>epoch</td><td>64</td></tr><tr><td>lr-Adam</td><td>0.005</td></tr><tr><td>train_acc</td><td>0.83157</td></tr><tr><td>train_auc</td><td>0.90216</td></tr><tr><td>train_f1</td><td>0.76573</td></tr><tr><td>train_loss_epoch</td><td>0.37229</td></tr><tr><td>train_loss_step</td><td>0.4044</td></tr><tr><td>trainer/global_step</td><td>584</td></tr><tr><td>val_acc</td><td>0.77606</td></tr><tr><td>val_auc</td><td>0.87211</td></tr><tr><td>val_f1</td><td>0.76033</td></tr><tr><td>val_loss_epoch</td><td>0.47664</td></tr><tr><td>val_loss_step</td><td>0.38075</td></tr></table><br/></div></div>"
      ],
      "text/plain": [
       "<IPython.core.display.HTML object>"
      ]
     },
     "metadata": {},
     "output_type": "display_data"
    },
    {
     "data": {
      "text/html": [
       " View run <strong style=\"color:#cdcd00\">GraphConv_2_64_onehot_4</strong> at: <a href='https://wandb.ai/thoomas/PLA_01122024_9PPI_3D_Kfold/runs/ppgf9zdt' target=\"_blank\">https://wandb.ai/thoomas/PLA_01122024_9PPI_3D_Kfold/runs/ppgf9zdt</a><br/>Synced 6 W&B file(s), 0 media file(s), 0 artifact file(s) and 0 other file(s)"
      ],
      "text/plain": [
       "<IPython.core.display.HTML object>"
      ]
     },
     "metadata": {},
     "output_type": "display_data"
    },
    {
     "data": {
      "text/html": [
       "Find logs at: <code>.\\wandb\\run-20240114_025426-ppgf9zdt\\logs</code>"
      ],
      "text/plain": [
       "<IPython.core.display.HTML object>"
      ]
     },
     "metadata": {},
     "output_type": "display_data"
    },
    {
     "data": {
      "application/vnd.jupyter.widget-view+json": {
       "model_id": "68767b3cb3924b559ce267e562dcd4bc",
       "version_major": 2,
       "version_minor": 0
      },
      "text/plain": [
       "VBox(children=(Label(value='Waiting for wandb.init()...\\r'), FloatProgress(value=0.016933333330477276, max=1.0…"
      ]
     },
     "metadata": {},
     "output_type": "display_data"
    },
    {
     "data": {
      "text/html": [
       "wandb version 0.16.2 is available!  To upgrade, please run:\n",
       " $ pip install wandb --upgrade"
      ],
      "text/plain": [
       "<IPython.core.display.HTML object>"
      ]
     },
     "metadata": {},
     "output_type": "display_data"
    },
    {
     "data": {
      "text/html": [
       "Tracking run with wandb version 0.15.8"
      ],
      "text/plain": [
       "<IPython.core.display.HTML object>"
      ]
     },
     "metadata": {},
     "output_type": "display_data"
    },
    {
     "data": {
      "text/html": [
       "Run data is saved locally in <code>y:\\coskun-lab\\Thomas\\23_PLA_revision\\notebooks\\wandb\\run-20240114_030309-zgedhb4c</code>"
      ],
      "text/plain": [
       "<IPython.core.display.HTML object>"
      ]
     },
     "metadata": {},
     "output_type": "display_data"
    },
    {
     "data": {
      "text/html": [
       "Syncing run <strong><a href='https://wandb.ai/thoomas/PLA_01122024_9PPI_3D_Kfold/runs/zgedhb4c' target=\"_blank\">GCN_2_32_onehot_4</a></strong> to <a href='https://wandb.ai/thoomas/PLA_01122024_9PPI_3D_Kfold' target=\"_blank\">Weights & Biases</a> (<a href='https://wandb.me/run' target=\"_blank\">docs</a>)<br/>"
      ],
      "text/plain": [
       "<IPython.core.display.HTML object>"
      ]
     },
     "metadata": {},
     "output_type": "display_data"
    },
    {
     "data": {
      "text/html": [
       " View project at <a href='https://wandb.ai/thoomas/PLA_01122024_9PPI_3D_Kfold' target=\"_blank\">https://wandb.ai/thoomas/PLA_01122024_9PPI_3D_Kfold</a>"
      ],
      "text/plain": [
       "<IPython.core.display.HTML object>"
      ]
     },
     "metadata": {},
     "output_type": "display_data"
    },
    {
     "data": {
      "text/html": [
       " View run at <a href='https://wandb.ai/thoomas/PLA_01122024_9PPI_3D_Kfold/runs/zgedhb4c' target=\"_blank\">https://wandb.ai/thoomas/PLA_01122024_9PPI_3D_Kfold/runs/zgedhb4c</a>"
      ],
      "text/plain": [
       "<IPython.core.display.HTML object>"
      ]
     },
     "metadata": {},
     "output_type": "display_data"
    },
    {
     "name": "stderr",
     "output_type": "stream",
     "text": [
      "Global seed set to 42\n",
      "GPU available: True (cuda), used: True\n",
      "TPU available: False, using: 0 TPU cores\n",
      "IPU available: False, using: 0 IPUs\n",
      "HPU available: False, using: 0 HPUs\n",
      "Global seed set to 42\n",
      "c:\\Users\\thu71\\AppData\\Local\\anaconda3\\envs\\scanpy\\Lib\\site-packages\\lightning\\pytorch\\callbacks\\model_checkpoint.py:617: UserWarning: Checkpoint directory \\\\bme-retromaster.ad.gatech.edu\\labs5\\coskun-lab\\Thomas\\23_PLA_revision\\data\\9PPI_3D\\saved_models\\9PPI_3D\\Graph_GNNs_Kfold\\GCN_2_32_onehot_4\\attention2\\GraphLevelGCN exists and is not empty.\n",
      "  rank_zero_warn(f\"Checkpoint directory {dirpath} exists and is not empty.\")\n",
      "LOCAL_RANK: 0 - CUDA_VISIBLE_DEVICES: [0]\n",
      "\n",
      "   | Name        | Type             | Params\n",
      "--------------------------------------------------\n",
      "0  | x_embedding | Identity         | 0     \n",
      "1  | model       | GNNModel         | 1.4 K \n",
      "2  | head        | Sequential       | 562   \n",
      "3  | loss_module | CrossEntropyLoss | 0     \n",
      "4  | train_acc   | BinaryAccuracy   | 0     \n",
      "5  | train_auroc | BinaryAUROC      | 0     \n",
      "6  | train_f1    | BinaryF1Score    | 0     \n",
      "7  | valid_acc   | BinaryAccuracy   | 0     \n",
      "8  | valid_auroc | BinaryAUROC      | 0     \n",
      "9  | valid_f1    | BinaryF1Score    | 0     \n",
      "10 | pool        | Attention_module | 1.1 K \n",
      "--------------------------------------------------\n",
      "3.1 K     Trainable params\n",
      "0         Non-trainable params\n",
      "3.1 K     Total params\n",
      "0.012     Total estimated model params size (MB)\n"
     ]
    },
    {
     "name": "stdout",
     "output_type": "stream",
     "text": [
      "Using GNN\n"
     ]
    },
    {
     "name": "stderr",
     "output_type": "stream",
     "text": [
      "`Trainer.fit` stopped: `max_epochs=65` reached.\n"
     ]
    },
    {
     "data": {
      "text/html": [
       "Waiting for W&B process to finish... <strong style=\"color:green\">(success).</strong>"
      ],
      "text/plain": [
       "<IPython.core.display.HTML object>"
      ]
     },
     "metadata": {},
     "output_type": "display_data"
    },
    {
     "data": {
      "text/html": [
       "<style>\n",
       "    table.wandb td:nth-child(1) { padding: 0 10px; text-align: left ; width: auto;} td:nth-child(2) {text-align: left ; width: 100%}\n",
       "    .wandb-row { display: flex; flex-direction: row; flex-wrap: wrap; justify-content: flex-start; width: 100% }\n",
       "    .wandb-col { display: flex; flex-direction: column; flex-basis: 100%; flex: 1; padding: 10px; }\n",
       "    </style>\n",
       "<div class=\"wandb-row\"><div class=\"wandb-col\"><h3>Run history:</h3><br/><table class=\"wandb\"><tr><td>epoch</td><td>▁▁▁▂▂▂▂▂▂▃▃▃▃▃▄▄▄▄▄▄▅▅▅▅▅▅▆▆▆▆▆▇▇▇▇▇▇███</td></tr><tr><td>lr-Adam</td><td>▁▁▁▁▁▁▁▁▁▁▁▁▁▁▁▁▁▁▁▁▁▁▁▁▁▁▁▁▁▁▁▁▁▁▁▁▁▁▁▁</td></tr><tr><td>train_acc</td><td>▁▅▇▇▇▇▇▇▇█▇██▇▇▇█▇▇▇█▇▇▇▆▇█▇███▇████▇▇▇█</td></tr><tr><td>train_auc</td><td>▁▅▇▇▇▇▇▇▇▇▇█▇█▇▇▇▇█▇██▇▇▇▇█▇██████████▇█</td></tr><tr><td>train_f1</td><td>▁▁▆▇▆▆▇▆▆▇▇▇█▇▇▆▇▆▇▆█▅▇▇▅▆▇▅███▆▇▇▇█▆▇▆▇</td></tr><tr><td>train_loss_epoch</td><td>█▅▄▃▄▃▅▄▃▂▂▂▄▂▄▃▂▂▁▃▁▂▂▂▂▂▂▂▁▁▂▂▃▃▂▂▃▂▂▂</td></tr><tr><td>train_loss_step</td><td>▅▄▄▅▄▄█▃▄▄▃▃▇▄▃▄▅▅▁▃▃▃▄▄▄▃▃▄▄▄▄▄▄▄▄▅▄▄▄▄</td></tr><tr><td>trainer/global_step</td><td>▁▁▁▂▂▁▁▁▁▃▃▂▂▃▃▄▂▂▄▄▅▅▂▅▅▆▃▃▃▆▆▃▃▃▇▇▃▃██</td></tr><tr><td>val_acc</td><td>▁▁▂▂▅▅▆▇▇█▇▆▆▇▇▇▇▇▇▇▇███▇▇█▇▇█▇█▇█▇▆█▇▇▇</td></tr><tr><td>val_auc</td><td>▁▄▆▇▇▇▇▇▇▇▇▇▇█████▇▇▇▇█████▇▇█▇███████▇▇</td></tr><tr><td>val_f1</td><td>▁▁▂▃▆▆▆▇▇▇▇▇▇▇▇▇▇█▇▇▇███▇▇████▇█▇█▇▇█▇██</td></tr><tr><td>val_loss_epoch</td><td>▆▇█▄▃▂▅▂▃▂▂▃▇▁▁▄▃█▃▂▃▂▁▅▆▃▂▄▁▂▃▃▂▆▂▆▁▃▃▆</td></tr><tr><td>val_loss_step</td><td>▄▄▄▄▄▃▅▂▃▃▃▃▇▁▃▃▃█▃▃▃▃▃▅▆▃▂▃▁▂▃▃▃▃▂▆▃▃▃▃</td></tr></table><br/></div><div class=\"wandb-col\"><h3>Run summary:</h3><br/><table class=\"wandb\"><tr><td>epoch</td><td>64</td></tr><tr><td>lr-Adam</td><td>0.005</td></tr><tr><td>train_acc</td><td>0.79307</td></tr><tr><td>train_auc</td><td>0.8583</td></tr><tr><td>train_f1</td><td>0.72258</td></tr><tr><td>train_loss_epoch</td><td>0.4742</td></tr><tr><td>train_loss_step</td><td>0.5349</td></tr><tr><td>trainer/global_step</td><td>584</td></tr><tr><td>val_acc</td><td>0.7722</td></tr><tr><td>val_auc</td><td>0.87743</td></tr><tr><td>val_f1</td><td>0.7668</td></tr><tr><td>val_loss_epoch</td><td>0.63771</td></tr><tr><td>val_loss_step</td><td>0.92812</td></tr></table><br/></div></div>"
      ],
      "text/plain": [
       "<IPython.core.display.HTML object>"
      ]
     },
     "metadata": {},
     "output_type": "display_data"
    },
    {
     "data": {
      "text/html": [
       " View run <strong style=\"color:#cdcd00\">GCN_2_32_onehot_4</strong> at: <a href='https://wandb.ai/thoomas/PLA_01122024_9PPI_3D_Kfold/runs/zgedhb4c' target=\"_blank\">https://wandb.ai/thoomas/PLA_01122024_9PPI_3D_Kfold/runs/zgedhb4c</a><br/>Synced 6 W&B file(s), 0 media file(s), 0 artifact file(s) and 0 other file(s)"
      ],
      "text/plain": [
       "<IPython.core.display.HTML object>"
      ]
     },
     "metadata": {},
     "output_type": "display_data"
    },
    {
     "data": {
      "text/html": [
       "Find logs at: <code>.\\wandb\\run-20240114_030309-zgedhb4c\\logs</code>"
      ],
      "text/plain": [
       "<IPython.core.display.HTML object>"
      ]
     },
     "metadata": {},
     "output_type": "display_data"
    },
    {
     "data": {
      "application/vnd.jupyter.widget-view+json": {
       "model_id": "b6cef7b5c743456394d75f93c6161fd6",
       "version_major": 2,
       "version_minor": 0
      },
      "text/plain": [
       "VBox(children=(Label(value='Waiting for wandb.init()...\\r'), FloatProgress(value=0.016666666666666666, max=1.0…"
      ]
     },
     "metadata": {},
     "output_type": "display_data"
    },
    {
     "data": {
      "text/html": [
       "wandb version 0.16.2 is available!  To upgrade, please run:\n",
       " $ pip install wandb --upgrade"
      ],
      "text/plain": [
       "<IPython.core.display.HTML object>"
      ]
     },
     "metadata": {},
     "output_type": "display_data"
    },
    {
     "data": {
      "text/html": [
       "Tracking run with wandb version 0.15.8"
      ],
      "text/plain": [
       "<IPython.core.display.HTML object>"
      ]
     },
     "metadata": {},
     "output_type": "display_data"
    },
    {
     "data": {
      "text/html": [
       "Run data is saved locally in <code>y:\\coskun-lab\\Thomas\\23_PLA_revision\\notebooks\\wandb\\run-20240114_031302-ntdap655</code>"
      ],
      "text/plain": [
       "<IPython.core.display.HTML object>"
      ]
     },
     "metadata": {},
     "output_type": "display_data"
    },
    {
     "data": {
      "text/html": [
       "Syncing run <strong><a href='https://wandb.ai/thoomas/PLA_01122024_9PPI_3D_Kfold/runs/ntdap655' target=\"_blank\">GAT_norm_4_32_onehot_4</a></strong> to <a href='https://wandb.ai/thoomas/PLA_01122024_9PPI_3D_Kfold' target=\"_blank\">Weights & Biases</a> (<a href='https://wandb.me/run' target=\"_blank\">docs</a>)<br/>"
      ],
      "text/plain": [
       "<IPython.core.display.HTML object>"
      ]
     },
     "metadata": {},
     "output_type": "display_data"
    },
    {
     "data": {
      "text/html": [
       " View project at <a href='https://wandb.ai/thoomas/PLA_01122024_9PPI_3D_Kfold' target=\"_blank\">https://wandb.ai/thoomas/PLA_01122024_9PPI_3D_Kfold</a>"
      ],
      "text/plain": [
       "<IPython.core.display.HTML object>"
      ]
     },
     "metadata": {},
     "output_type": "display_data"
    },
    {
     "data": {
      "text/html": [
       " View run at <a href='https://wandb.ai/thoomas/PLA_01122024_9PPI_3D_Kfold/runs/ntdap655' target=\"_blank\">https://wandb.ai/thoomas/PLA_01122024_9PPI_3D_Kfold/runs/ntdap655</a>"
      ],
      "text/plain": [
       "<IPython.core.display.HTML object>"
      ]
     },
     "metadata": {},
     "output_type": "display_data"
    },
    {
     "name": "stderr",
     "output_type": "stream",
     "text": [
      "Global seed set to 42\n",
      "GPU available: True (cuda), used: True\n",
      "TPU available: False, using: 0 TPU cores\n",
      "IPU available: False, using: 0 IPUs\n",
      "HPU available: False, using: 0 HPUs\n",
      "Global seed set to 42\n",
      "c:\\Users\\thu71\\AppData\\Local\\anaconda3\\envs\\scanpy\\Lib\\site-packages\\lightning\\pytorch\\callbacks\\model_checkpoint.py:617: UserWarning: Checkpoint directory \\\\bme-retromaster.ad.gatech.edu\\labs5\\coskun-lab\\Thomas\\23_PLA_revision\\data\\9PPI_3D\\saved_models\\9PPI_3D\\Graph_GNNs_Kfold\\GAT_norm_4_32_onehot_4\\attention\\GraphLevelGAT_norm exists and is not empty.\n",
      "  rank_zero_warn(f\"Checkpoint directory {dirpath} exists and is not empty.\")\n",
      "LOCAL_RANK: 0 - CUDA_VISIBLE_DEVICES: [0]\n",
      "\n",
      "   | Name        | Type             | Params\n",
      "--------------------------------------------------\n",
      "0  | x_embedding | Identity         | 0     \n",
      "1  | model       | GAT              | 23.1 K\n",
      "2  | head        | Sequential       | 562   \n",
      "3  | loss_module | CrossEntropyLoss | 0     \n",
      "4  | train_acc   | BinaryAccuracy   | 0     \n",
      "5  | train_auroc | BinaryAUROC      | 0     \n",
      "6  | train_f1    | BinaryF1Score    | 0     \n",
      "7  | valid_acc   | BinaryAccuracy   | 0     \n",
      "8  | valid_auroc | BinaryAUROC      | 0     \n",
      "9  | valid_f1    | BinaryF1Score    | 0     \n",
      "10 | pool        | GlobalAttention  | 33    \n",
      "--------------------------------------------------\n",
      "23.7 K    Trainable params\n",
      "0         Non-trainable params\n",
      "23.7 K    Total params\n",
      "0.095     Total estimated model params size (MB)\n"
     ]
    },
    {
     "name": "stdout",
     "output_type": "stream",
     "text": [
      "Using GAT\n"
     ]
    },
    {
     "name": "stderr",
     "output_type": "stream",
     "text": [
      "`Trainer.fit` stopped: `max_epochs=65` reached.\n"
     ]
    },
    {
     "data": {
      "text/html": [
       "Waiting for W&B process to finish... <strong style=\"color:green\">(success).</strong>"
      ],
      "text/plain": [
       "<IPython.core.display.HTML object>"
      ]
     },
     "metadata": {},
     "output_type": "display_data"
    },
    {
     "data": {
      "application/vnd.jupyter.widget-view+json": {
       "model_id": "bb19a751d0da414f85c525dfcedecfb5",
       "version_major": 2,
       "version_minor": 0
      },
      "text/plain": [
       "VBox(children=(Label(value='0.001 MB of 0.001 MB uploaded (0.000 MB deduped)\\r'), FloatProgress(value=1.0, max…"
      ]
     },
     "metadata": {},
     "output_type": "display_data"
    },
    {
     "data": {
      "text/html": [
       "<style>\n",
       "    table.wandb td:nth-child(1) { padding: 0 10px; text-align: left ; width: auto;} td:nth-child(2) {text-align: left ; width: 100%}\n",
       "    .wandb-row { display: flex; flex-direction: row; flex-wrap: wrap; justify-content: flex-start; width: 100% }\n",
       "    .wandb-col { display: flex; flex-direction: column; flex-basis: 100%; flex: 1; padding: 10px; }\n",
       "    </style>\n",
       "<div class=\"wandb-row\"><div class=\"wandb-col\"><h3>Run history:</h3><br/><table class=\"wandb\"><tr><td>epoch</td><td>▁▁▁▂▂▂▂▂▂▃▃▃▃▃▄▄▄▄▄▄▅▅▅▅▅▅▆▆▆▆▆▇▇▇▇▇▇███</td></tr><tr><td>lr-Adam</td><td>▁▁▁▁▁▁▁▁▁▁▁▁▁▁▁▁▁▁▁▁▁▁▁▁▁▁▁▁▁▁▁▁▁▁▁▁▁▁▁▁</td></tr><tr><td>train_acc</td><td>▁▅▆▆▇▇▇▇▇▇▇▇▇▇▇▇██▇▇█▇█▇▇▇▇█▇▇████▇▇█▇▇█</td></tr><tr><td>train_auc</td><td>▁▅▆▆▆▆▆▇▇▇▇▇▇▇▇▇▇▇▇█▇██▇▇▇▇██████████▇▇█</td></tr><tr><td>train_f1</td><td>▁▂▂▆▆▆▆▆▆▅▆▇▇▇▆▇▇▇▇▇▇▇█▅▇▇▆▇▇▇█▇██▇▇███▇</td></tr><tr><td>train_loss_epoch</td><td>█▅▅▄▄▄▄▃▃▄▃▄▃▂▄▃▂▂▃▂▂▃▅▂▃▂▂▁▂▂▂▂▂▁▂▂▂▃▃▂</td></tr><tr><td>train_loss_step</td><td>█▄▅▃▅▄█▆▅▆▄▅▁▄▄▂▃▅▆▂▃▁▁▅▆▆▂▃▂▂▃▃▂▃▅▂▄▂▃▃</td></tr><tr><td>trainer/global_step</td><td>▁▁▁▂▂▁▁▁▁▃▃▂▂▃▃▄▂▂▄▄▅▅▂▅▅▆▃▃▃▆▆▃▃▃▇▇▃▃██</td></tr><tr><td>val_acc</td><td>▁▁▃▇▆▆▆▆▄▅▃▄█▅▃▄▇▇▆▇█▆▅▄▄▅▆▆▅▆█▆▆▇██▅▅▆▇</td></tr><tr><td>val_auc</td><td>▁▃▄▅▆▆▇▇▇▇▇███▇▇██▇██▇▇▇▆▇▇▆▆▇██▇▇██▇▆▇▇</td></tr><tr><td>val_f1</td><td>▁▁▃▆▅▅▅▅▄▄▃▄▆▅▄▄▆▆█▆▇▆▅▄▄▄▅▆▄▆▇▅▆▇▇▇▅▅▆▇</td></tr><tr><td>val_loss_epoch</td><td>▂▂▂▂▂▂▃▂▂▃▄▂▁▃▃▃▂▃▁▂▁▂▃▁█▂▂▄▃▂▂▂▂▂▃▂▃▂▃▃</td></tr><tr><td>val_loss_step</td><td>▂▂▂▂▂▂▄▁▂▂▂▂▁▂▃▃▂▄▁▂▂▂▂▁█▂▂▂▂▁▂▂▂▂▃▂▂▂▂▂</td></tr></table><br/></div><div class=\"wandb-col\"><h3>Run summary:</h3><br/><table class=\"wandb\"><tr><td>epoch</td><td>64</td></tr><tr><td>lr-Adam</td><td>0.005</td></tr><tr><td>train_acc</td><td>0.76035</td></tr><tr><td>train_auc</td><td>0.81392</td></tr><tr><td>train_f1</td><td>0.64681</td></tr><tr><td>train_loss_epoch</td><td>0.53433</td></tr><tr><td>train_loss_step</td><td>0.53262</td></tr><tr><td>trainer/global_step</td><td>584</td></tr><tr><td>val_acc</td><td>0.69498</td></tr><tr><td>val_auc</td><td>0.81034</td></tr><tr><td>val_f1</td><td>0.56831</td></tr><tr><td>val_loss_epoch</td><td>1.0384</td></tr><tr><td>val_loss_step</td><td>1.96326</td></tr></table><br/></div></div>"
      ],
      "text/plain": [
       "<IPython.core.display.HTML object>"
      ]
     },
     "metadata": {},
     "output_type": "display_data"
    },
    {
     "data": {
      "text/html": [
       " View run <strong style=\"color:#cdcd00\">GAT_norm_4_32_onehot_4</strong> at: <a href='https://wandb.ai/thoomas/PLA_01122024_9PPI_3D_Kfold/runs/ntdap655' target=\"_blank\">https://wandb.ai/thoomas/PLA_01122024_9PPI_3D_Kfold/runs/ntdap655</a><br/>Synced 6 W&B file(s), 0 media file(s), 0 artifact file(s) and 0 other file(s)"
      ],
      "text/plain": [
       "<IPython.core.display.HTML object>"
      ]
     },
     "metadata": {},
     "output_type": "display_data"
    },
    {
     "data": {
      "text/html": [
       "Find logs at: <code>.\\wandb\\run-20240114_031302-ntdap655\\logs</code>"
      ],
      "text/plain": [
       "<IPython.core.display.HTML object>"
      ]
     },
     "metadata": {},
     "output_type": "display_data"
    },
    {
     "data": {
      "text/html": [
       "wandb version 0.16.2 is available!  To upgrade, please run:\n",
       " $ pip install wandb --upgrade"
      ],
      "text/plain": [
       "<IPython.core.display.HTML object>"
      ]
     },
     "metadata": {},
     "output_type": "display_data"
    },
    {
     "data": {
      "text/html": [
       "Tracking run with wandb version 0.15.8"
      ],
      "text/plain": [
       "<IPython.core.display.HTML object>"
      ]
     },
     "metadata": {},
     "output_type": "display_data"
    },
    {
     "data": {
      "text/html": [
       "Run data is saved locally in <code>y:\\coskun-lab\\Thomas\\23_PLA_revision\\notebooks\\wandb\\run-20240114_032411-93efp9o3</code>"
      ],
      "text/plain": [
       "<IPython.core.display.HTML object>"
      ]
     },
     "metadata": {},
     "output_type": "display_data"
    },
    {
     "data": {
      "text/html": [
       "Syncing run <strong><a href='https://wandb.ai/thoomas/PLA_01122024_9PPI_3D_Kfold/runs/93efp9o3' target=\"_blank\">GINConv_norm_2_16_onehot_4</a></strong> to <a href='https://wandb.ai/thoomas/PLA_01122024_9PPI_3D_Kfold' target=\"_blank\">Weights & Biases</a> (<a href='https://wandb.me/run' target=\"_blank\">docs</a>)<br/>"
      ],
      "text/plain": [
       "<IPython.core.display.HTML object>"
      ]
     },
     "metadata": {},
     "output_type": "display_data"
    },
    {
     "data": {
      "text/html": [
       " View project at <a href='https://wandb.ai/thoomas/PLA_01122024_9PPI_3D_Kfold' target=\"_blank\">https://wandb.ai/thoomas/PLA_01122024_9PPI_3D_Kfold</a>"
      ],
      "text/plain": [
       "<IPython.core.display.HTML object>"
      ]
     },
     "metadata": {},
     "output_type": "display_data"
    },
    {
     "data": {
      "text/html": [
       " View run at <a href='https://wandb.ai/thoomas/PLA_01122024_9PPI_3D_Kfold/runs/93efp9o3' target=\"_blank\">https://wandb.ai/thoomas/PLA_01122024_9PPI_3D_Kfold/runs/93efp9o3</a>"
      ],
      "text/plain": [
       "<IPython.core.display.HTML object>"
      ]
     },
     "metadata": {},
     "output_type": "display_data"
    },
    {
     "name": "stderr",
     "output_type": "stream",
     "text": [
      "Global seed set to 42\n",
      "GPU available: True (cuda), used: True\n",
      "TPU available: False, using: 0 TPU cores\n",
      "IPU available: False, using: 0 IPUs\n",
      "HPU available: False, using: 0 HPUs\n",
      "Global seed set to 42\n",
      "c:\\Users\\thu71\\AppData\\Local\\anaconda3\\envs\\scanpy\\Lib\\site-packages\\lightning\\pytorch\\callbacks\\model_checkpoint.py:617: UserWarning: Checkpoint directory \\\\bme-retromaster.ad.gatech.edu\\labs5\\coskun-lab\\Thomas\\23_PLA_revision\\data\\9PPI_3D\\saved_models\\9PPI_3D\\Graph_GNNs_Kfold\\GINConv_norm_2_16_onehot_4\\mean\\GraphLevelGINConv_norm exists and is not empty.\n",
      "  rank_zero_warn(f\"Checkpoint directory {dirpath} exists and is not empty.\")\n",
      "LOCAL_RANK: 0 - CUDA_VISIBLE_DEVICES: [0]\n",
      "\n",
      "  | Name        | Type             | Params\n",
      "-------------------------------------------------\n",
      "0 | x_embedding | Identity         | 0     \n",
      "1 | model       | GIN              | 1.1 K \n",
      "2 | head        | Sequential       | 154   \n",
      "3 | loss_module | CrossEntropyLoss | 0     \n",
      "4 | train_acc   | BinaryAccuracy   | 0     \n",
      "5 | train_auroc | BinaryAUROC      | 0     \n",
      "6 | train_f1    | BinaryF1Score    | 0     \n",
      "7 | valid_acc   | BinaryAccuracy   | 0     \n",
      "8 | valid_auroc | BinaryAUROC      | 0     \n",
      "9 | valid_f1    | BinaryF1Score    | 0     \n",
      "-------------------------------------------------\n",
      "1.2 K     Trainable params\n",
      "0         Non-trainable params\n",
      "1.2 K     Total params\n",
      "0.005     Total estimated model params size (MB)\n"
     ]
    },
    {
     "name": "stdout",
     "output_type": "stream",
     "text": [
      "GINConv\n"
     ]
    },
    {
     "name": "stderr",
     "output_type": "stream",
     "text": [
      "`Trainer.fit` stopped: `max_epochs=65` reached.\n"
     ]
    },
    {
     "data": {
      "text/html": [
       "Waiting for W&B process to finish... <strong style=\"color:green\">(success).</strong>"
      ],
      "text/plain": [
       "<IPython.core.display.HTML object>"
      ]
     },
     "metadata": {},
     "output_type": "display_data"
    },
    {
     "data": {
      "text/html": [
       "<style>\n",
       "    table.wandb td:nth-child(1) { padding: 0 10px; text-align: left ; width: auto;} td:nth-child(2) {text-align: left ; width: 100%}\n",
       "    .wandb-row { display: flex; flex-direction: row; flex-wrap: wrap; justify-content: flex-start; width: 100% }\n",
       "    .wandb-col { display: flex; flex-direction: column; flex-basis: 100%; flex: 1; padding: 10px; }\n",
       "    </style>\n",
       "<div class=\"wandb-row\"><div class=\"wandb-col\"><h3>Run history:</h3><br/><table class=\"wandb\"><tr><td>epoch</td><td>▁▁▁▂▂▂▂▂▂▃▃▃▃▃▄▄▄▄▄▄▅▅▅▅▅▅▆▆▆▆▆▇▇▇▇▇▇███</td></tr><tr><td>lr-Adam</td><td>▁▁▁▁▁▁▁▁▁▁▁▁▁▁▁▁▁▁▁▁▁▁▁▁▁▁▁▁▁▁▁▁▁▁▁▁▁▁▁▁</td></tr><tr><td>train_acc</td><td>▁▃▅▆▅▆▆▇▆▇▇▆▇▇█▇▇▇▇▇██▇▇██▇▇▇▇▇██▇▇█▇███</td></tr><tr><td>train_auc</td><td>▁▃▅▅▅▆▆▆▆▇▇▇▇▇▇▇▇▇▇█▇▇▇▇▇█▇▇▇▇▇█████▇███</td></tr><tr><td>train_f1</td><td>▂▁▅▆▅▆▆▇▅▇▇▆▆▇█▇▇▇▇▇▇▇▇█▇█▇▇▇▇▇▇█▇▇█▇███</td></tr><tr><td>train_loss_epoch</td><td>█▆▆▅▅▃▃▄▃▃▃▃▃▃▂▂▂▃▂▃▂▂▃▃▂▃▂▂▃▂▂▁▁▁▂▃▂▁▂▂</td></tr><tr><td>train_loss_step</td><td>██▄▅▅▅▃▃▆▆▆▆▂▂▆▃▅▃▁▂▄▄▄▅▅▃▃▄▁▄▅▃▁▃▁▁▄▃▄▃</td></tr><tr><td>trainer/global_step</td><td>▁▁▁▂▂▁▁▁▁▃▃▂▂▃▃▄▂▂▄▄▅▅▂▅▅▆▃▃▃▆▆▃▃▃▇▇▃▃██</td></tr><tr><td>val_acc</td><td>▁▃▅▄▅▅▅▆▇▆█▇▇▇▆██▆▄█▇▇▆▇▇█▆▇▅▆▇▆▆▆█▇▇▇▇▇</td></tr><tr><td>val_auc</td><td>▁▂▅▅▆▇▆▆▆▇█▆▆▇▇█▇▆▇▇▅█▇█▇▇▅▇█▇▅▇▇▆█▇▇▆▇▇</td></tr><tr><td>val_f1</td><td>▁▄▅▄▆▆▆█▇▇██▇▇▇██▇▇█▇█▇▇▇█▇██▇█▆█▆██▇█▇▇</td></tr><tr><td>val_loss_epoch</td><td>▆▇▇▇▅▂▃▃▄▄▄▄▄▂▄▄▅▃▆▃▃▂▅▃▆█▇▂▃█▅▄▄▄▁▃▁▃▃▄</td></tr><tr><td>val_loss_step</td><td>▅▆▄▄▄▄▂▂▄▄▃▃▄▂▃▃▄▃▅▃▃▃▄▃▆▃▃▄▂█▄▃▃▃▁▃▃▃▃▃</td></tr></table><br/></div><div class=\"wandb-col\"><h3>Run summary:</h3><br/><table class=\"wandb\"><tr><td>epoch</td><td>64</td></tr><tr><td>lr-Adam</td><td>0.005</td></tr><tr><td>train_acc</td><td>0.79307</td></tr><tr><td>train_auc</td><td>0.84522</td></tr><tr><td>train_f1</td><td>0.71523</td></tr><tr><td>train_loss_epoch</td><td>0.48727</td></tr><tr><td>train_loss_step</td><td>0.48424</td></tr><tr><td>trainer/global_step</td><td>584</td></tr><tr><td>val_acc</td><td>0.76062</td></tr><tr><td>val_auc</td><td>0.85094</td></tr><tr><td>val_f1</td><td>0.67021</td></tr><tr><td>val_loss_epoch</td><td>0.49992</td></tr><tr><td>val_loss_step</td><td>0.49718</td></tr></table><br/></div></div>"
      ],
      "text/plain": [
       "<IPython.core.display.HTML object>"
      ]
     },
     "metadata": {},
     "output_type": "display_data"
    },
    {
     "data": {
      "text/html": [
       " View run <strong style=\"color:#cdcd00\">GINConv_norm_2_16_onehot_4</strong> at: <a href='https://wandb.ai/thoomas/PLA_01122024_9PPI_3D_Kfold/runs/93efp9o3' target=\"_blank\">https://wandb.ai/thoomas/PLA_01122024_9PPI_3D_Kfold/runs/93efp9o3</a><br/>Synced 6 W&B file(s), 0 media file(s), 0 artifact file(s) and 0 other file(s)"
      ],
      "text/plain": [
       "<IPython.core.display.HTML object>"
      ]
     },
     "metadata": {},
     "output_type": "display_data"
    },
    {
     "data": {
      "text/html": [
       "Find logs at: <code>.\\wandb\\run-20240114_032411-93efp9o3\\logs</code>"
      ],
      "text/plain": [
       "<IPython.core.display.HTML object>"
      ]
     },
     "metadata": {},
     "output_type": "display_data"
    }
   ],
   "source": [
    "k_folds = 5\n",
    "kfold = KFold(n_splits=k_folds, shuffle=True, random_state=42)\n",
    "\n",
    "for fold, (train_ids, valid_ids) in enumerate(kfold.split(dataset_filtered)):\n",
    "    train_subset = dataset_filtered.index_select(train_ids.tolist())\n",
    "    val_subset = dataset_filtered.index_select(valid_ids.tolist())\n",
    "    for NUM_LAYERS, HIDDEN_CHANNELS, pool, model in params:\n",
    "            # Path to the folder where the pretrained models are saved\n",
    "        # CHECKPOINT_PATH = checkpoint_folder / f'GAT_{NUM_LAYERS}_{HIDDEN_CHANNELS}_onehot_{fold}' / pool\n",
    "        CHECKPOINT_PATH = checkpoint_folder / f'{model}_{NUM_LAYERS}_{HIDDEN_CHANNELS}_onehot_{fold}' / pool\n",
    "        CHECKPOINT_PATH.mkdir(parents=True, exist_ok=True)\n",
    "\n",
    "        # Skip already trained kfold and pool\n",
    "        checkpoint = CHECKPOINT_PATH / f\"GraphLevel{model}\" / f\"GraphLevel{model}.ckpt\" \n",
    "        if checkpoint.exists():\n",
    "            print(checkpoint)\n",
    "            continue\n",
    "\n",
    "        # Run training\n",
    "        run = wandb.init(project=project_name, name=f'{model}_{NUM_LAYERS}_{HIDDEN_CHANNELS}_onehot_{fold}', \n",
    "                        group=f'{model}_{pool}', \n",
    "                        # mode=\"disabled\"\n",
    "                        )\n",
    "        PPIGraph.train_graph_classifier_kfold(model, \n",
    "                                                train_subset, \n",
    "                                                val_subset, \n",
    "                                                dataset, \n",
    "                                                CHECKPOINT_PATH, \n",
    "                                                AVAIL_GPUS, \n",
    "                                                in_channels=9,\n",
    "                                                hidden_channels=HIDDEN_CHANNELS, \n",
    "                                                out_channels = HIDDEN_CHANNELS,\n",
    "                                                num_layers=NUM_LAYERS, \n",
    "                                                epochs=epochs,\n",
    "                                                embedding=False,\n",
    "                                                batch_size=128,\n",
    "                                                graph_pooling=pool)\n",
    "        run.finish()\n"
   ]
  },
  {
   "cell_type": "code",
   "execution_count": null,
   "metadata": {},
   "outputs": [],
   "source": []
  }
 ],
 "metadata": {
  "kernelspec": {
   "display_name": "snowflake",
   "language": "python",
   "name": "python3"
  },
  "language_info": {
   "codemirror_mode": {
    "name": "ipython",
    "version": 3
   },
   "file_extension": ".py",
   "mimetype": "text/x-python",
   "name": "python",
   "nbconvert_exporter": "python",
   "pygments_lexer": "ipython3",
   "version": "3.11.4"
  }
 },
 "nbformat": 4,
 "nbformat_minor": 2
}
