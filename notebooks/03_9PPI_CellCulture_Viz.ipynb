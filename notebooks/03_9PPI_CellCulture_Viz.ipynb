{
 "cells": [
  {
   "cell_type": "code",
   "execution_count": 1,
   "id": "7685f568-8cfc-4be9-8b8d-882b00aa2713",
   "metadata": {},
   "outputs": [],
   "source": [
    "# import itertools\n",
    "import os\n",
    "import sys\n",
    "from pathlib import Path\n",
    "\n",
    "import cv2\n",
    "import matplotlib.pyplot as plt\n",
    "import numpy as np\n",
    "import pandas as pd\n",
    "import skimage.io\n",
    "\n",
    "from collections import defaultdict\n",
    "from tqdm.auto import tqdm\n",
    "from joblib import Parallel, delayed\n",
    "import re\n",
    "import h5py\n",
    "import napari\n",
    "import tifffile as tiff\n",
    "import seaborn as sns\n",
    "import pickle"
   ]
  },
  {
   "cell_type": "code",
   "execution_count": 2,
   "id": "88da6030-99a9-4154-b234-796a32a3a57e",
   "metadata": {},
   "outputs": [],
   "source": [
    "%load_ext autoreload\n",
    "%autoreload 2"
   ]
  },
  {
   "cell_type": "code",
   "execution_count": 3,
   "id": "e55d7827-129a-4135-8ddc-e712b6489150",
   "metadata": {},
   "outputs": [],
   "source": [
    "p_dir = (Path().cwd().parents[0]).absolute()\n",
    "\n",
    "module_path = str(p_dir / \"src\")\n",
    "\n",
    "if module_path not in sys.path:\n",
    "    sys.path.append(module_path)"
   ]
  },
  {
   "cell_type": "code",
   "execution_count": 4,
   "id": "179e901a-2bf1-4b76-bebb-e3be6d7f9375",
   "metadata": {},
   "outputs": [],
   "source": [
    "data_dir = (Path().cwd().parents[0] / 'data').absolute()\n",
    "fig_dir = (Path().cwd().parents[0] / 'figure').absolute()\n",
    "\n",
    "df_meta_path = data_dir / '9PPI Cell Culture' / 'Whole' / 'metadata' /  'imgs_reg_norm.csv'\n",
    "df_imgs = pd.read_csv(df_meta_path)"
   ]
  },
  {
   "cell_type": "code",
   "execution_count": 5,
   "id": "edb32c91-5d07-420a-a775-162e53bfbf23",
   "metadata": {},
   "outputs": [],
   "source": [
    "import palettable\n",
    "\n",
    "ppi_colors = palettable.colorbrewer.qualitative.Set1_9.mpl_colors"
   ]
  },
  {
   "cell_type": "markdown",
   "id": "70638ac6-ab52-4a4c-a0a4-f9d42a2e8a67",
   "metadata": {
    "jp-MarkdownHeadingCollapsed": true,
    "tags": []
   },
   "source": [
    "# Viz images"
   ]
  },
  {
   "cell_type": "code",
   "execution_count": 6,
   "id": "81af10c2-55f7-4ce0-a758-07a10c7f2ad9",
   "metadata": {},
   "outputs": [],
   "source": [
    "def plot_spot_on_image(reference, spots, spacing, radius):\n",
    "    spot_img = np.zeros_like(reference)\n",
    "    coords = (spots[:, :3] / spacing).astype(int)\n",
    "    r = radius  # shorthand\n",
    "    for coord in coords:\n",
    "        slc = tuple(slice(x-r, x+r) for x in coord)\n",
    "        spot_img[slc] = 1\n",
    "    return spot_img"
   ]
  },
  {
   "cell_type": "code",
   "execution_count": 7,
   "id": "d62d453d-eb02-4333-badc-5e807bb53e11",
   "metadata": {},
   "outputs": [
    {
     "data": {
      "text/html": [
       "<div>\n",
       "<style scoped>\n",
       "    .dataframe tbody tr th:only-of-type {\n",
       "        vertical-align: middle;\n",
       "    }\n",
       "\n",
       "    .dataframe tbody tr th {\n",
       "        vertical-align: top;\n",
       "    }\n",
       "\n",
       "    .dataframe thead th {\n",
       "        text-align: right;\n",
       "    }\n",
       "</style>\n",
       "<table border=\"1\" class=\"dataframe\">\n",
       "  <thead>\n",
       "    <tr style=\"text-align: right;\">\n",
       "      <th></th>\n",
       "      <th>Timepoint</th>\n",
       "      <th>FOV</th>\n",
       "      <th>Path</th>\n",
       "    </tr>\n",
       "  </thead>\n",
       "  <tbody>\n",
       "    <tr>\n",
       "      <th>0</th>\n",
       "      <td>HCC827Ctrl</td>\n",
       "      <td>FW1</td>\n",
       "      <td>Y:\\coskun-lab\\Thomas\\15_PLA\\data\\9PPI Cell Cul...</td>\n",
       "    </tr>\n",
       "    <tr>\n",
       "      <th>1</th>\n",
       "      <td>HCC827Ctrl</td>\n",
       "      <td>FW2</td>\n",
       "      <td>Y:\\coskun-lab\\Thomas\\15_PLA\\data\\9PPI Cell Cul...</td>\n",
       "    </tr>\n",
       "    <tr>\n",
       "      <th>2</th>\n",
       "      <td>HCC827Osim</td>\n",
       "      <td>FW1</td>\n",
       "      <td>Y:\\coskun-lab\\Thomas\\15_PLA\\data\\9PPI Cell Cul...</td>\n",
       "    </tr>\n",
       "    <tr>\n",
       "      <th>3</th>\n",
       "      <td>HCC827Osim</td>\n",
       "      <td>FW2</td>\n",
       "      <td>Y:\\coskun-lab\\Thomas\\15_PLA\\data\\9PPI Cell Cul...</td>\n",
       "    </tr>\n",
       "  </tbody>\n",
       "</table>\n",
       "</div>"
      ],
      "text/plain": [
       "    Timepoint  FOV                                               Path\n",
       "0  HCC827Ctrl  FW1  Y:\\coskun-lab\\Thomas\\15_PLA\\data\\9PPI Cell Cul...\n",
       "1  HCC827Ctrl  FW2  Y:\\coskun-lab\\Thomas\\15_PLA\\data\\9PPI Cell Cul...\n",
       "2  HCC827Osim  FW1  Y:\\coskun-lab\\Thomas\\15_PLA\\data\\9PPI Cell Cul...\n",
       "3  HCC827Osim  FW2  Y:\\coskun-lab\\Thomas\\15_PLA\\data\\9PPI Cell Cul..."
      ]
     },
     "execution_count": 7,
     "metadata": {},
     "output_type": "execute_result"
    }
   ],
   "source": [
    "df_imgs"
   ]
  },
  {
   "cell_type": "code",
   "execution_count": 8,
   "id": "27aeb76b-59c0-4909-8818-d5fb29f4a95a",
   "metadata": {},
   "outputs": [],
   "source": [
    "path = df_imgs.iloc[0].Path"
   ]
  },
  {
   "cell_type": "code",
   "execution_count": 9,
   "id": "a96e715d-d138-425b-a1d0-85855529a41f",
   "metadata": {},
   "outputs": [],
   "source": [
    "with h5py.File(path, \"r\") as f:\n",
    "    imgs = f['imgs'][:]\n",
    "    markers = f['imgs'].attrs['Marker']"
   ]
  },
  {
   "cell_type": "code",
   "execution_count": 11,
   "id": "67ef4340-54ba-4227-a983-0cfd1de635f7",
   "metadata": {},
   "outputs": [
    {
     "data": {
      "text/plain": [
       "Viewer(axes=Axes(visible=False, labels=True, colored=True, dashed=False, arrows=True), camera=Camera(center=(0.0, 1720.5, 4301.0), zoom=0.0895169514510442, angles=(0.0, 0.0, 90.0), perspective=0.0, interactive=True), cursor=Cursor(position=(1, 1), scaled=True, size=1, style=<CursorStyle.STANDARD: 'standard'>), dims=Dims(ndim=2, ndisplay=2, last_used=0, range=((0.0, 3442.0, 1.0), (0.0, 8603.0, 1.0)), current_step=(1721, 4301), order=(0, 1), axis_labels=('0', '1')), grid=GridCanvas(stride=1, shape=(-1, -1), enabled=False), layers=[<Image layer 'Hoeschst' at 0x22bca780eb0>, <Image layer 'Cyclin D1 & CDK2' at 0x22bca771280>, <Image layer 'NF-Kb & p-P90rsk' at 0x22bcaa466d0>, <Image layer 'Hoeschst [1]' at 0x22bcb1b1bb0>, <Image layer 'Sox2 & Oct4' at 0x22bcb1340d0>, <Image layer 'Bim & Tom20' at 0x22bcb2305b0>, <Image layer 'Hoeschst [2]' at 0x22bcb09aa90>, <Image layer 'Mcl-1 & BAK' at 0x22bcb382070>, <Image layer 'Hoeschst [3]' at 0x22bcb42c490>, <Image layer 'p-ERK & c-MYC' at 0x22bcb4d8970>, <Image layer 'Hoeschst [4]' at 0x22bcb536e50>, <Image layer 'TEAD1 & YAP' at 0x22bcb5dd370>, <Image layer 'Hoeschst [5]' at 0x22bcb679850>, <Image layer 'Cyclin E & CDK4' at 0x22bcb718d30>, <Image layer 'Hoeschst [6]' at 0x22bcb7be250>, <Image layer 'P-AKT & mTOR' at 0x22bcb85b730>, <Image layer 'Hoeschst [7]' at 0x22bcb8fac10>, <Image layer 'p-EGFR' at 0x22bcb9a0130>, <Image layer 'Phalloidin' at 0x22bcba41610>, <Image layer 'Ki67' at 0x22bcbadfaf0>, <Image layer 'Hoeschst [8]' at 0x22bcbb7dd90>, <Image layer 'Cyclin D1 & CDK2 - re' at 0x22bcbc252b0>, <Image layer 'NF-Kb & p-P90rsk - re' at 0x22bcbcc1790>, <Image layer 'Hoeschst [9]' at 0x22bcbd60c70>, <Image layer 'NBD-C6' at 0x22bcbe04190>, <Image layer 'Golph4' at 0x22bcbea3670>, <Image layer 'COX IV' at 0x22bcbf44b50>, <Image layer 'Hoeschst [10]' at 0x22bcbfe9070>, <Image layer 'Pan-cytokeratin' at 0x22bcc08a550>, <Image layer 'Hoeschst [11]' at 0x22bcc128a30>, <Image layer 'Concanavalin A' at 0x22bcc1c4f10>, <Image layer 'WGA' at 0x22bcc26a430>], scale_bar=ScaleBar(visible=False, colored=False, ticks=True, position=<Position.BOTTOM_RIGHT: 'bottom_right'>, font_size=10, unit=None), text_overlay=TextOverlay(visible=False, color=(0.5, 0.5, 0.5, 1.0), font_size=10, position=<TextOverlayPosition.TOP_LEFT: 'top_left'>, text=''), overlays=Overlays(interaction_box=InteractionBox(points=None, show=False, show_handle=False, show_vertices=False, selection_box_drag=None, selection_box_final=None, transform_start=<napari.utils.transforms.transforms.Affine object at 0x0000022BCE514A30>, transform_drag=<napari.utils.transforms.transforms.Affine object at 0x0000022BCE514D60>, transform_final=<napari.utils.transforms.transforms.Affine object at 0x0000022BCE514B20>, transform=<napari.utils.transforms.transforms.Affine object at 0x0000022BCE514730>, allow_new_selection=True, selected_vertex=None)), help='', status='Ready', tooltip=Tooltip(visible=False, text=''), theme='dark', title='napari', mouse_move_callbacks=[<function InteractionBoxMouseBindings.initialize_mouse_events.<locals>.mouse_move at 0x0000022BCA742C10>], mouse_drag_callbacks=[<function InteractionBoxMouseBindings.initialize_mouse_events.<locals>.mouse_drag at 0x0000022BCA7428B0>], mouse_double_click_callbacks=[], mouse_wheel_callbacks=[<function dims_scroll at 0x000002299A6803A0>], _persisted_mouse_event={}, _mouse_drag_gen={}, _mouse_wheel_gen={}, keymap={'Shift': <function InteractionBoxMouseBindings.initialize_key_events.<locals>.hold_to_lock_aspect_ratio at 0x0000022BCA7424C0>, 'Control-Shift-R': <function InteractionBoxMouseBindings._reset_active_layer_affine at 0x0000022BCA742790>, 'Control-Shift-A': <function InteractionBoxMouseBindings._transform_active_layer at 0x0000022BCA742700>})"
      ]
     },
     "execution_count": 11,
     "metadata": {},
     "output_type": "execute_result"
    }
   ],
   "source": [
    "napari.view_image(imgs, channel_axis=0, name=markers, visible=False, contrast_limits=[0,1])"
   ]
  },
  {
   "cell_type": "markdown",
   "id": "f913f2a2-e725-4d29-80c7-68d7710f21be",
   "metadata": {
    "tags": []
   },
   "source": [
    "# Viz PPI network"
   ]
  },
  {
   "cell_type": "code",
   "execution_count": 7,
   "id": "1d4f2da1-8e8c-42df-9e2a-90d9b973fd21",
   "metadata": {},
   "outputs": [],
   "source": [
    "import networkx as nx\n",
    "\n",
    "def read_pkl(path):\n",
    "    with open(path, 'rb') as f:\n",
    "        item = pickle.load(f)\n",
    "    return item\n",
    "\n",
    "def get_contours(contours, key, cell):\n",
    "    contour_cell = contours[key]['Cell'][int(cell)]\n",
    "    try:\n",
    "        contour_nuclei = contours[key]['Nuclei'][int(cell)]\n",
    "    except:\n",
    "        contour_nuclei = None\n",
    "    return contour_cell, contour_nuclei\n",
    "\n",
    "def plot_network(g, label, ax, **kwargs):\n",
    "    pos = nx.get_node_attributes(g, 'pos')\n",
    "    pos_T = {k: v[[1,0]] for k,v in pos.items()}\n",
    "    \n",
    "    nx.draw(g, pos_T, node_color=label, with_labels=False, ax=ax, **kwargs)\n",
    "    return ax\n",
    "    \n",
    "def plot_contour(contour_cell, contour_nuclei, ax, linewidth=2):\n",
    "    contour = max(contour_cell, key = len)\n",
    "    ax.plot(contour[:, 1], contour[:, 0], linewidth=linewidth, color='red')\n",
    "    try:\n",
    "        contour = max(contour_nuclei, key = len)\n",
    "        ax.plot(contour[:, 1], contour[:, 0], linewidth=linewidth, color='blue')\n",
    "    except:\n",
    "        pass"
   ]
  },
  {
   "cell_type": "code",
   "execution_count": 8,
   "id": "88d74796-cc39-4449-9927-3367d3e807fd",
   "metadata": {},
   "outputs": [
    {
     "name": "stdout",
     "output_type": "stream",
     "text": [
      "[array(['Bim & Tom20', 'Cyclin D1 & CDK2', 'Cyclin E & CDK4',\n",
      "       'Mcl-1 & BAK', 'NF-Kb & p-P90rsk', 'P-AKT & mTOR', 'Sox2 & Oct4',\n",
      "       'TEAD1 & YAP', 'p-ERK & c-MYC'], dtype=object)]\n"
     ]
    }
   ],
   "source": [
    "from sklearn.preprocessing import OneHotEncoder\n",
    "import matplotlib \n",
    "import scanpy\n",
    "\n",
    "# Get encoder \n",
    "PPI_save_path =  data_dir / '9PPI Cell Culture' / 'Whole' / 'PPI'\n",
    "\n",
    "# Read PPi info \n",
    "dfs = []\n",
    "for path in os.listdir(PPI_save_path):\n",
    "    if 'csv' in path:\n",
    "        df = pd.read_csv(PPI_save_path / path)\n",
    "        dfs.append(df)\n",
    "df = pd.concat(dfs)\n",
    "df = df[df.PPI.isin(['Bim & Tom20', 'Cyclin D1 & CDK2', 'Cyclin E & CDK4', 'Mcl-1 & BAK', 'NF-Kb & p-P90rsk',\n",
    "        'P-AKT & mTOR', 'Sox2 & Oct4', 'TEAD1 & YAP', 'p-ERK & c-MYC'])]\n",
    "\n",
    "# Create label \n",
    "enc = OneHotEncoder(handle_unknown='ignore')\n",
    "labels = enc.fit_transform(df['PPI'].to_numpy().reshape(-1, 1)).toarray().astype(np.uint8)\n",
    "df['Labels'] = labels.tolist()\n",
    "print(enc.categories_)\n",
    "PPIs_name = enc.categories_[0]\n",
    "\n",
    "# Define colormap\n",
    "# colors = [ '#ff00ff', '#00FF00', '#FF0000',  '#00FFFF', '#FFFF00']\n",
    "colors = ppi_colors\n",
    "\n",
    "colors_rgb = []\n",
    "for color in colors:\n",
    "    colors_rgb.append(np.array(color))\n",
    "colors_rgb = np.array(colors_rgb) * 255\n",
    "colors_rgb = colors_rgb.astype(np.uint8)\n",
    "\n",
    "colors_rgb_dict = {k:v for k,v in zip(PPIs_name, colors_rgb)}"
   ]
  },
  {
   "cell_type": "code",
   "execution_count": 8,
   "id": "f4506167-df5f-4662-9d03-5cde923c9c6a",
   "metadata": {},
   "outputs": [
    {
     "data": {
      "text/html": [
       "<div>\n",
       "<style scoped>\n",
       "    .dataframe tbody tr th:only-of-type {\n",
       "        vertical-align: middle;\n",
       "    }\n",
       "\n",
       "    .dataframe tbody tr th {\n",
       "        vertical-align: top;\n",
       "    }\n",
       "\n",
       "    .dataframe thead th {\n",
       "        text-align: right;\n",
       "    }\n",
       "</style>\n",
       "<table border=\"1\" class=\"dataframe\">\n",
       "  <thead>\n",
       "    <tr style=\"text-align: right;\">\n",
       "      <th></th>\n",
       "      <th>Cyto</th>\n",
       "      <th>x</th>\n",
       "      <th>y</th>\n",
       "      <th>PPI</th>\n",
       "      <th>Nuclei</th>\n",
       "      <th>Condition</th>\n",
       "      <th>FOV</th>\n",
       "      <th>Labels</th>\n",
       "    </tr>\n",
       "  </thead>\n",
       "  <tbody>\n",
       "    <tr>\n",
       "      <th>0</th>\n",
       "      <td>266</td>\n",
       "      <td>1925</td>\n",
       "      <td>7804</td>\n",
       "      <td>Cyclin D1 &amp; CDK2</td>\n",
       "      <td>0</td>\n",
       "      <td>HCC827Ctrl</td>\n",
       "      <td>FW1</td>\n",
       "      <td>[0, 1, 0, 0, 0, 0, 0, 0, 0]</td>\n",
       "    </tr>\n",
       "    <tr>\n",
       "      <th>1</th>\n",
       "      <td>65</td>\n",
       "      <td>790</td>\n",
       "      <td>810</td>\n",
       "      <td>Cyclin D1 &amp; CDK2</td>\n",
       "      <td>0</td>\n",
       "      <td>HCC827Ctrl</td>\n",
       "      <td>FW1</td>\n",
       "      <td>[0, 1, 0, 0, 0, 0, 0, 0, 0]</td>\n",
       "    </tr>\n",
       "    <tr>\n",
       "      <th>2</th>\n",
       "      <td>328</td>\n",
       "      <td>2667</td>\n",
       "      <td>2269</td>\n",
       "      <td>Cyclin D1 &amp; CDK2</td>\n",
       "      <td>0</td>\n",
       "      <td>HCC827Ctrl</td>\n",
       "      <td>FW1</td>\n",
       "      <td>[0, 1, 0, 0, 0, 0, 0, 0, 0]</td>\n",
       "    </tr>\n",
       "    <tr>\n",
       "      <th>3</th>\n",
       "      <td>328</td>\n",
       "      <td>2833</td>\n",
       "      <td>2164</td>\n",
       "      <td>Cyclin D1 &amp; CDK2</td>\n",
       "      <td>0</td>\n",
       "      <td>HCC827Ctrl</td>\n",
       "      <td>FW1</td>\n",
       "      <td>[0, 1, 0, 0, 0, 0, 0, 0, 0]</td>\n",
       "    </tr>\n",
       "    <tr>\n",
       "      <th>4</th>\n",
       "      <td>89</td>\n",
       "      <td>997</td>\n",
       "      <td>918</td>\n",
       "      <td>Cyclin D1 &amp; CDK2</td>\n",
       "      <td>0</td>\n",
       "      <td>HCC827Ctrl</td>\n",
       "      <td>FW1</td>\n",
       "      <td>[0, 1, 0, 0, 0, 0, 0, 0, 0]</td>\n",
       "    </tr>\n",
       "  </tbody>\n",
       "</table>\n",
       "</div>"
      ],
      "text/plain": [
       "   Cyto     x     y               PPI  Nuclei   Condition  FOV  \\\n",
       "0   266  1925  7804  Cyclin D1 & CDK2       0  HCC827Ctrl  FW1   \n",
       "1    65   790   810  Cyclin D1 & CDK2       0  HCC827Ctrl  FW1   \n",
       "2   328  2667  2269  Cyclin D1 & CDK2       0  HCC827Ctrl  FW1   \n",
       "3   328  2833  2164  Cyclin D1 & CDK2       0  HCC827Ctrl  FW1   \n",
       "4    89   997   918  Cyclin D1 & CDK2       0  HCC827Ctrl  FW1   \n",
       "\n",
       "                        Labels  \n",
       "0  [0, 1, 0, 0, 0, 0, 0, 0, 0]  \n",
       "1  [0, 1, 0, 0, 0, 0, 0, 0, 0]  \n",
       "2  [0, 1, 0, 0, 0, 0, 0, 0, 0]  \n",
       "3  [0, 1, 0, 0, 0, 0, 0, 0, 0]  \n",
       "4  [0, 1, 0, 0, 0, 0, 0, 0, 0]  "
      ]
     },
     "execution_count": 8,
     "metadata": {},
     "output_type": "execute_result"
    }
   ],
   "source": [
    "df.head()"
   ]
  },
  {
   "cell_type": "code",
   "execution_count": 9,
   "id": "914c8e5a-4f23-4817-b174-a8c4feff6885",
   "metadata": {},
   "outputs": [
    {
     "data": {
      "image/png": "[encoded data removed]",
      "text/plain": [
       "<Figure size 100x900 with 1 Axes>"
      ]
     },
     "metadata": {},
     "output_type": "display_data"
    }
   ],
   "source": [
    "# legend\n",
    "fig, ax = plt.subplots(figsize=(1,len(PPIs_name)))\n",
    "ax.barh(y=range(len(colors_rgb_dict.values())), \n",
    "        color=np.array(list(colors_rgb_dict.values()))/255,\n",
    "        width=1, \n",
    "        height=1,\n",
    "        edgecolor='k',\n",
    "        linewidth=3,\n",
    "       )\n",
    "\n",
    "_ = plt.yticks(range(len(colors_rgb_dict.values())), colors_rgb_dict.keys(), rotation=0, size=40)\n",
    "_ = plt.xticks([])\n",
    "ax.spines['top'].set_visible(False)\n",
    "ax.spines['right'].set_visible(False)\n",
    "ax.spines['bottom'].set_visible(False)\n",
    "ax.spines['left'].set_visible(False)\n",
    "ax.tick_params(axis=u'both', which=u'both',length=0)\n",
    "# ax.yaxis.tick_right()\n",
    "ax.invert_yaxis()\n",
    "ax.grid(False)"
   ]
  },
  {
   "cell_type": "code",
   "execution_count": 79,
   "id": "d5546f36-0149-4275-ab59-85853cf6c442",
   "metadata": {},
   "outputs": [
    {
     "name": "stdout",
     "output_type": "stream",
     "text": [
      "Loading graphs\n",
      "Loading contours\n"
     ]
    }
   ],
   "source": [
    "import PLA\n",
    "\n",
    "graph_save_path =  data_dir / '9PPI Cell Culture' / 'Whole' / 'graphs' / 'raw'\n",
    "contour_save_path =  data_dir / '9PPI Cell Culture' / 'Whole' / 'contours'\n",
    "\n",
    "cell_data = PLA.cell_data(contour_save_path, graph_save_path)"
   ]
  },
  {
   "cell_type": "code",
   "execution_count": 17,
   "id": "4177ae82-2f23-46d5-a5c2-998c1c5d897c",
   "metadata": {
    "tags": []
   },
   "outputs": [
    {
     "name": "stdout",
     "output_type": "stream",
     "text": [
      "{'nuclei', 'pos', 'labels'}\n"
     ]
    }
   ],
   "source": [
    "# Check if graph connected\n",
    "df_subset = cell_data.df.sample(100)\n",
    "for i in range(len(df_subset)):\n",
    "    # Info\n",
    "    row = df_subset.iloc[i]\n",
    "    key = '_'.join(row.iloc[:2])\n",
    "    \n",
    "    cell = row.iloc[2]\n",
    "    \n",
    "    # Get graph\n",
    "    network = read_pkl(row.Path)\n",
    "    \n",
    "    if not nx.is_connected(network):\n",
    "        print(row)\n",
    "        \n",
    "# Print existing node attributes in graph\n",
    "node_attr = {k for attr_dict in network.nodes.data()._nodes.values() for k in attr_dict.keys()}\n",
    "print(node_attr)"
   ]
  },
  {
   "cell_type": "markdown",
   "id": "917b96bb-6bb3-4503-943c-305868c45caf",
   "metadata": {
    "tags": []
   },
   "source": [
    "# Plot Whole FOV PPI network"
   ]
  },
  {
   "cell_type": "code",
   "execution_count": 17,
   "id": "883554ba-0db8-4ddc-9298-a64fb873023c",
   "metadata": {},
   "outputs": [],
   "source": [
    "group = cell_data.df.groupby(['Condition', 'FOV'])"
   ]
  },
  {
   "cell_type": "code",
   "execution_count": 18,
   "id": "e235b9e5-dd98-43db-85a7-f44d38289c27",
   "metadata": {},
   "outputs": [],
   "source": [
    "fig_path = fig_dir / 'PPI' / '9PPI Cell Culture' / 'Whole' / 'FOV'\n",
    "fig_path.mkdir(parents=True, exist_ok=True)"
   ]
  },
  {
   "cell_type": "code",
   "execution_count": 20,
   "id": "6dc00541-ea27-4d77-ae33-c0f1724ef6ad",
   "metadata": {
    "tags": []
   },
   "outputs": [],
   "source": [
    "# Loop through Condition FOV\n",
    "for name, df_group in group:\n",
    "    # Get imgs shape \n",
    "    path = df_imgs[(df_imgs.Timepoint == name[0]) & (df_imgs.FOV == name[1])].Path.item()\n",
    "    with h5py.File(path, \"r\") as f:\n",
    "        img_shape = f['imgs'].shape[1:]\n",
    "    \n",
    "    img_fov = np.zeros(img_shape)\n",
    "    \n",
    "    fig, ax = plt.subplots(figsize=(20,10))\n",
    "    ax.imshow(img_fov, cmap='gray', vmin=0, vmax=255)\n",
    "    ax.axis('off')\n",
    "    ax.set_facecolor('k')\n",
    "\n",
    "    # Get Individual cell\n",
    "    for row in df_group.itertuples():\n",
    "        key = '_'.join(row[1:3])\n",
    "        cell = row[3]\n",
    "        # Get contours\n",
    "        contour_cell, contour_nuclei = get_contours(cell_data.contours, key, cell)\n",
    "        contour = max(contour_cell, key = len)\n",
    "        \n",
    "        # Plot contours\n",
    "        plot_contour(contour_cell, contour_nuclei, ax, linewidth=0.5)\n",
    "        \n",
    "        # Get graph\n",
    "        network = read_pkl(row.Path)\n",
    "        network.remove_edges_from(list(nx.selfloop_edges(network)))\n",
    "\n",
    "        nuclei = list(nx.get_node_attributes(network, 'nuclei').values())\n",
    "        labels = list(nx.get_node_attributes(network, 'labels').values())\n",
    "        labels = np.argmax(labels, axis=1)\n",
    "        node_colors = [colors_rgb_dict[PPIs_name[i]]/255 for i in labels]\n",
    "        \n",
    "        # Plot network\n",
    "        plot_network(network,  node_colors, ax, node_size=1, linewidths=0, edgecolors='w', width=0.15, edge_color='w')\n",
    "    \n",
    "    file_name = '_'.join(name)\n",
    "    fig.savefig(fig_path / f'{file_name}.png', dpi=800, transparent=True, bbox_inches='tight', pad_inches=0)\n",
    "    plt.close()\n"
   ]
  },
  {
   "cell_type": "markdown",
   "id": "147db049-e353-4b61-8efc-e58a13f07d6d",
   "metadata": {
    "tags": []
   },
   "source": [
    "# Plot with visual examples"
   ]
  },
  {
   "cell_type": "code",
   "execution_count": 9,
   "id": "cf5bb192-63e6-4f5d-80bc-355ab45b7aae",
   "metadata": {
    "tags": []
   },
   "outputs": [],
   "source": [
    "from skimage.morphology import white_tophat as skimage_white_tophat\n",
    "from copy import deepcopy\n",
    "\n",
    "# Read images\n",
    "def read_img_bbox(path, bbox, pad = 20):\n",
    "    min_y, min_x, max_y, max_x = bbox\n",
    "    min_y = np.clip(min_y - pad, a_min=0, a_max=None)\n",
    "    min_x = np.clip(min_x - pad, a_min=0, a_max=None)\n",
    "    max_y += pad\n",
    "    max_x += pad\n",
    "    \n",
    "    with h5py.File(path, \"r\") as f:\n",
    "        markers = f['imgs'].attrs['Marker']\n",
    "        imgs = f['imgs'][..., min_y:max_y, min_x:max_x]\n",
    "    \n",
    "    return imgs, markers\n",
    "\n",
    "def white_tophat(image, radius):\n",
    "        # ensure iterable radius\n",
    "        if not isinstance(radius, (tuple, list, np.ndarray)):\n",
    "            radius = (radius,)*image.ndim\n",
    "\n",
    "        # convert to footprint shape\n",
    "        shape = [2*r+1 for r in radius]\n",
    "\n",
    "        # run white tophat\n",
    "        return skimage_white_tophat(image, footprint=np.ones(shape))\n",
    "    \n",
    "    \n",
    "def plot_contour_mean(contour_cell, contour_nuclei, offset, ax, linewidth=1):\n",
    "    contour = deepcopy(max(contour_cell, key = len))\n",
    "    contour -= np.array(offset)\n",
    "    ax.plot(contour[:, 1], contour[:, 0], linewidth=linewidth, color='red')\n",
    "    try:\n",
    "        contour = deepcopy(max(contour_nuclei, key = len))\n",
    "        contour -= np.array(offset)\n",
    "        ax.plot(contour[:, 1], contour[:, 0], linewidth=linewidth, color='blue')\n",
    "    except:\n",
    "        pass\n",
    "    \n",
    "from matplotlib.colors import ListedColormap,LinearSegmentedColormap\n",
    "\n",
    "blue = LinearSegmentedColormap.from_list(\n",
    "        \"Blue\", [[0.0, 0.0, 0.0, 0.0], [0.0, 0.0, 1.0, 1.0]])\n",
    "\n",
    "def plot_PPI(imgs, markers, contour_cell, contour_nuclei, offset, ax, \n",
    "             colors_rgb_dict=colors_rgb_dict, \n",
    "             q_min=0.9,\n",
    "             q_max=0.998,\n",
    "             subset=['Hoeschst', 'TEAD1 & YAP1', 'CylinE & CDK2', 'P-ERK & c-MYC', 'p-AKT & mTOR', 'Mcl-1 & BAK'],\n",
    "             DAPI = True):\n",
    "    for i in range(len(subset)):\n",
    "        indice = list(markers).index(subset[i])\n",
    "        if i == 0 and DAPI:\n",
    "            ax.imshow(imgs[indice], vmin=0, vmax=0.8, cmap=blue)\n",
    "        else:\n",
    "            # Get custom colormap \n",
    "            c_cmap = LinearSegmentedColormap.from_list(\"Blue\", \n",
    "                                            [[0.0, 0.0, 0.0, 0.0], \n",
    "                                             np.array(list(colors_rgb_dict[subset[i]])+[255])/255])\n",
    "            ax.imshow(imgs[indice], \n",
    "                      vmin=np.quantile(imgs[indice], q_min), \n",
    "                      vmax=np.quantile(imgs[indice], q_max), \n",
    "                      cmap=c_cmap)\n",
    "    \n",
    "    ax.axis('off')\n",
    "    if contour_cell is not None:\n",
    "        plot_contour_mean(contour_cell, contour_nuclei, offset, ax)"
   ]
  },
  {
   "cell_type": "code",
   "execution_count": 10,
   "id": "be90e96d-d4ff-486b-aa97-b9c992e65dd5",
   "metadata": {},
   "outputs": [],
   "source": [
    "fig_path = fig_dir / 'PPI' / '9PPI Cell Culture' / 'Whole' / 'Cell'\n",
    "fig_path.mkdir(parents=True, exist_ok=True)    "
   ]
  },
  {
   "cell_type": "code",
   "execution_count": 11,
   "id": "63387958-12f7-4b02-a19e-b9420a1f62c8",
   "metadata": {},
   "outputs": [],
   "source": [
    "path = df_imgs.iloc[0].Path\n",
    "with h5py.File(path, \"r\") as f:\n",
    "    markers = f['imgs'].attrs['Marker']"
   ]
  },
  {
   "cell_type": "code",
   "execution_count": 22,
   "id": "4243d9a2-719e-46bc-855b-525dec1cb1a0",
   "metadata": {},
   "outputs": [],
   "source": [
    "subset1 = ['Hoeschst', 'Ki67', 'Pan-cytokeratin', 'p-EGFR', 'Concanavalin A']\n",
    "subset2 = ['Hoeschst', 'NBD-C6', 'Golph4', 'COX IV', 'WGA']\n",
    "PPI_subset = ['Cyclin D1 & CDK2', 'NF-Kb & p-P90rsk', 'Sox2 & Oct4', 'Bim & Tom20',\n",
    "              'Mcl-1 & BAK', 'p-ERK & c-MYC', 'TEAD1 & YAP', 'Cyclin E & CDK4', 'P-AKT & mTOR']\n",
    "\n",
    "colors_rgb_dict_protein1 = {k:v for k,v in zip(subset1[1:], colors_rgb_dict.values())}\n",
    "colors_rgb_dict_protein2 = {k:v for k,v in zip(subset2[1:], [list(colors_rgb_dict.values())[0], list(colors_rgb_dict.values())[2],\n",
    "                                                             list(colors_rgb_dict.values())[3], list(colors_rgb_dict.values())[4]])}\n"
   ]
  },
  {
   "cell_type": "code",
   "execution_count": null,
   "id": "86a0b690-3385-4c41-ae51-ae6032e4d2ee",
   "metadata": {
    "tags": []
   },
   "outputs": [],
   "source": [
    "df_subset = cell_data.df\n",
    "\n",
    "pad = 5\n",
    "for i in range(len(df_subset)):\n",
    "    # Info\n",
    "    row = df_subset.iloc[i]\n",
    "    key = '_'.join(row.iloc[:2])\n",
    "    cell = row.iloc[2]\n",
    "    \n",
    "    file_name = '_'.join([key, cell])\n",
    "    if (fig_path / f'{file_name}.png').exists():\n",
    "        continue\n",
    "        \n",
    "    # Get image path\n",
    "    img_path = df_imgs[(df_imgs.FOV == row.FOV) & (df_imgs.Timepoint == row.Condition)].Path.item()\n",
    "    \n",
    "    # Get contours\n",
    "    contour_cell, contour_nuclei = get_contours(cell_data.contours, key, cell)\n",
    "    contour = max(contour_cell, key = len)\n",
    "    max_y, max_x = contour.max(axis=0).astype(int)\n",
    "    min_y, min_x = contour.min(axis=0).astype(int)\n",
    "    \n",
    "    # Get mutiplex images\n",
    "    img, markers = read_img_bbox(img_path, [min_y, min_x, max_y, max_x], pad=pad)\n",
    "    img = white_tophat(img, 3)\n",
    "    \n",
    "    # Get graph\n",
    "    network = read_pkl(row.Path)\n",
    "    network.remove_edges_from(list(nx.selfloop_edges(network)))\n",
    "    \n",
    "    nuclei = list(nx.get_node_attributes(network, 'nuclei').values())\n",
    "    labels = list(nx.get_node_attributes(network, 'labels').values())\n",
    "    labels = np.argmax(labels, axis=1)\n",
    "    node_colors = [colors_rgb_dict[PPIs_name[i]]/255 for i in labels]\n",
    "    \n",
    "    with plt.style.context('dark_background'):\n",
    "        # Plot Graph\n",
    "        f, axs = plt.subplots(1, 4, figsize=(16,4), facecolor='k')\n",
    "        ax = axs[0]\n",
    "        plot_network(network,  node_colors, ax, node_size=60, edgecolors='w', width=1.5, edge_color='w')\n",
    "        plot_contour(contour_cell, contour_nuclei, ax, linewidth=1)\n",
    "        ax.set_facecolor('k')\n",
    "\n",
    "        ax=axs[1]\n",
    "        ax.set_facecolor('k')\n",
    "        plot_PPI(img, markers, contour_cell, contour_nuclei, offset=[min_y-pad, min_x-pad], \n",
    "                 subset=PPI_subset, ax=ax, DAPI=False)\n",
    "\n",
    "        ax=axs[2]\n",
    "        ax.set_facecolor('k')\n",
    "        plot_PPI(img, markers, None, None, offset=[min_y-pad, min_x-pad], colors_rgb_dict=colors_rgb_dict_protein1,\n",
    "                 subset = subset1,\n",
    "                 q_min=0.002,\n",
    "                 q_max=0.999,\n",
    "                 ax=ax)\n",
    "\n",
    "        ax=axs[3]\n",
    "        ax.set_facecolor('k')\n",
    "        plot_PPI(img, markers, None, None, offset=[min_y-pad, min_x-pad], colors_rgb_dict=colors_rgb_dict_protein2,\n",
    "                 subset = subset2,\n",
    "                 q_min=0.002,\n",
    "                 q_max=0.999,\n",
    "                 ax=ax)\n",
    "\n",
    "        axs[0].invert_yaxis()\n",
    "        axs[0].set_aspect('equal')\n",
    "        f.set_facecolor(\"#00000F\")\n",
    "        f.subplots_adjust(wspace=0.01)\n",
    "        f.suptitle(f'{key}_{cell}', fontsize=16, color='w')\n",
    "\n",
    "        file_name = '_'.join([key, cell])\n",
    "        f.savefig(fig_path / f'{file_name}.png', dpi=800, transparent=True, bbox_inches='tight', pad_inches=0)\n",
    "        plt.close()"
   ]
  },
  {
   "cell_type": "code",
   "execution_count": 40,
   "id": "27c9ceea-298f-430c-86b6-1878756efd2a",
   "metadata": {},
   "outputs": [
    {
     "data": {
      "text/plain": [
       "Viewer(axes=Axes(visible=False, labels=True, colored=True, dashed=False, arrows=True), camera=Camera(center=(0.0, 74.5, 79.5), zoom=2.054375, angles=(0.0, 0.0, 90.0), perspective=0, interactive=True), cursor=Cursor(position=(1, 1), scaled=True, size=1, style=<CursorStyle.STANDARD: 'standard'>), dims=Dims(ndim=2, ndisplay=2, last_used=0, range=((0.0, 150.0, 1.0), (0.0, 160.0, 1.0)), current_step=(75, 80), order=(0, 1), axis_labels=('0', '1')), grid=GridCanvas(stride=1, shape=(-1, -1), enabled=False), layers=[<Image layer 'Hoeschst' at 0x22385587940>, <Image layer 'Cyclin D1 & CDK2' at 0x22385534be0>, <Image layer 'NF-Kb & p-P90rsk' at 0x223855ef1f0>, <Image layer 'Hoeschst [1]' at 0x2238c17b6d0>, <Image layer 'Sox2 & Oct4' at 0x2238d2a6bb0>, <Image layer 'Bim & Tom20' at 0x223906780d0>, <Image layer 'Hoeschst [2]' at 0x223907185b0>, <Image layer 'Mcl-1 & BAK' at 0x22392078a90>, <Image layer 'Hoeschst [3]' at 0x2239211c070>, <Image layer 'p-ERK & c-MYC' at 0x223921bb490>, <Image layer 'Hoeschst [4]' at 0x22392258970>, <Image layer 'TEAD1 & YAP' at 0x223922f7e50>, <Image layer 'Hoeschst [5]' at 0x22392f2d370>, <Image layer 'Cyclin E & CDK4' at 0x22392fcb850>, <Image layer 'Hoeschst [6]' at 0x22393069d30>, <Image layer 'P-AKT & mTOR' at 0x2239310e250>, <Image layer 'Hoeschst [7]' at 0x223931af730>, <Image layer 'p-EGFR' at 0x2239324ec10>, <Image layer 'Phalloidin' at 0x223932f4160>, <Image layer 'Ki67' at 0x2231d7e58b0>, <Image layer 'Hoeschst [8]' at 0x223806fcd90>, <Image layer 'Cyclin D1 & CDK2 - re' at 0x2231d8342b0>, <Image layer 'NF-Kb & p-P90rsk - re' at 0x223809f4790>, <Image layer 'Hoeschst [9]' at 0x22380a91c70>, <Image layer 'NBD-C6' at 0x22393393190>, <Image layer 'Golph4' at 0x22393430670>, <Image layer 'COX IV' at 0x223934ceb50>, <Image layer 'Hoeschst [10]' at 0x22393572070>, <Image layer 'Pan-cytokeratin' at 0x22393613550>, <Image layer 'Hoeschst [11]' at 0x223936b3a30>, <Image layer 'Concanavalin A' at 0x22393751f10>, <Image layer 'WGA' at 0x223937f5430>], scale_bar=ScaleBar(visible=False, colored=False, ticks=True, position=<Position.BOTTOM_RIGHT: 'bottom_right'>, font_size=10, unit=None), text_overlay=TextOverlay(visible=False, color=(0.5, 0.5, 0.5, 1.0), font_size=10, position=<TextOverlayPosition.TOP_LEFT: 'top_left'>, text=''), overlays=Overlays(interaction_box=InteractionBox(points=None, show=False, show_handle=False, show_vertices=False, selection_box_drag=None, selection_box_final=None, transform_start=<napari.utils.transforms.transforms.Affine object at 0x000002238478DAC0>, transform_drag=<napari.utils.transforms.transforms.Affine object at 0x000002238478DB20>, transform_final=<napari.utils.transforms.transforms.Affine object at 0x000002238478DB80>, transform=<napari.utils.transforms.transforms.Affine object at 0x000002238478DBE0>, allow_new_selection=True, selected_vertex=None)), help='', status='Ready', tooltip=Tooltip(visible=False, text=''), theme='dark', title='napari', mouse_move_callbacks=[<function InteractionBoxMouseBindings.initialize_mouse_events.<locals>.mouse_move at 0x0000022385548D30>], mouse_drag_callbacks=[<function InteractionBoxMouseBindings.initialize_mouse_events.<locals>.mouse_drag at 0x0000022385548790>], mouse_double_click_callbacks=[], mouse_wheel_callbacks=[<function dims_scroll at 0x00000223832CA280>], _persisted_mouse_event={}, _mouse_drag_gen={}, _mouse_wheel_gen={}, keymap={'Shift': <function InteractionBoxMouseBindings.initialize_key_events.<locals>.hold_to_lock_aspect_ratio at 0x0000022385509160>, 'Control-Shift-R': <function InteractionBoxMouseBindings._reset_active_layer_affine at 0x0000022385548670>, 'Control-Shift-A': <function InteractionBoxMouseBindings._transform_active_layer at 0x00000223855485E0>})"
      ]
     },
     "execution_count": 40,
     "metadata": {},
     "output_type": "execute_result"
    }
   ],
   "source": [
    "# napari.view_image(img, channel_axis=0, name=markers, visible=False, contrast_limits=[0,1])"
   ]
  },
  {
   "cell_type": "code",
   "execution_count": 23,
   "id": "04626a65-2ec9-43d6-ab56-27d4b97d6157",
   "metadata": {
    "tags": []
   },
   "outputs": [
    {
     "data": {
      "image/png": "[encoded data removed]",
      "text/plain": [
       "<Figure size 100x900 with 1 Axes>"
      ]
     },
     "metadata": {},
     "output_type": "display_data"
    }
   ],
   "source": [
    "# legend\n",
    "fig, ax = plt.subplots(figsize=(1,len(PPIs_name)))\n",
    "ax.barh(y=range(len(colors_rgb_dict_protein2.values())), \n",
    "        color=np.array(list(colors_rgb_dict_protein2.values()))/255,\n",
    "        width=1, \n",
    "        height=1,\n",
    "        edgecolor='k',\n",
    "        linewidth=3,\n",
    "       )\n",
    "\n",
    "_ = plt.yticks(range(len(colors_rgb_dict_protein2.values())), colors_rgb_dict_protein1.keys(), rotation=0, size=40)\n",
    "_ = plt.xticks([])\n",
    "ax.spines['top'].set_visible(False)\n",
    "ax.spines['right'].set_visible(False)\n",
    "ax.spines['bottom'].set_visible(False)\n",
    "ax.spines['left'].set_visible(False)\n",
    "ax.tick_params(axis=u'both', which=u'both',length=0)\n",
    "# ax.yaxis.tick_right()\n",
    "ax.invert_yaxis()\n",
    "ax.grid(False)"
   ]
  },
  {
   "cell_type": "code",
   "execution_count": null,
   "id": "cc5d6eca-3cd9-4694-8375-965738ba6d86",
   "metadata": {
    "tags": []
   },
   "outputs": [],
   "source": [
    "# import napari\n",
    "\n",
    "# napari.view_image(img, channel_axis=0, name=markers, visible=False)"
   ]
  },
  {
   "cell_type": "markdown",
   "id": "5f0c03a5-4a83-4208-8b6b-e991971b122c",
   "metadata": {
    "jp-MarkdownHeadingCollapsed": true,
    "tags": []
   },
   "source": [
    "# Coexpression"
   ]
  },
  {
   "cell_type": "code",
   "execution_count": null,
   "id": "b846f34c-f4ae-4c1e-bef1-d153132e2bb3",
   "metadata": {},
   "outputs": [],
   "source": []
  }
 ],
 "metadata": {
  "kernelspec": {
   "display_name": "Python [conda env:PLA]",
   "language": "python",
   "name": "conda-env-PLA-py"
  },
  "language_info": {
   "codemirror_mode": {
    "name": "ipython",
    "version": 3
   },
   "file_extension": ".py",
   "mimetype": "text/x-python",
   "name": "python",
   "nbconvert_exporter": "python",
   "pygments_lexer": "ipython3",
   "version": "3.9.16"
  }
 },
 "nbformat": 4,
 "nbformat_minor": 5
}
