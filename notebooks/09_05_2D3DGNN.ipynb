{
 "cells": [
  {
   "cell_type": "code",
   "execution_count": 1,
   "metadata": {},
   "outputs": [],
   "source": [
    "import os\n",
    "import sys\n",
    "from pathlib import Path\n",
    "\n",
    "import cv2\n",
    "import matplotlib.pyplot as plt\n",
    "import numpy as np\n",
    "import pandas as pd\n",
    "import skimage.io\n",
    "\n",
    "from collections import defaultdict\n",
    "from tqdm.auto import tqdm\n",
    "from joblib import Parallel, delayed\n",
    "import re\n",
    "import pickle\n",
    "\n",
    "import networkx as nx\n",
    "from sklearn.model_selection import train_test_split"
   ]
  },
  {
   "cell_type": "code",
   "execution_count": 2,
   "metadata": {},
   "outputs": [],
   "source": [
    "import torch_geometric.utils\n",
    "import torch"
   ]
  },
  {
   "cell_type": "code",
   "execution_count": 3,
   "metadata": {},
   "outputs": [],
   "source": [
    "%load_ext autoreload\n",
    "%autoreload 2"
   ]
  },
  {
   "cell_type": "code",
   "execution_count": 4,
   "metadata": {},
   "outputs": [],
   "source": [
    "p_dir = (Path().cwd().parents[0]).absolute()\n",
    "\n",
    "module_path = str(p_dir / \"src\")\n",
    "\n",
    "if module_path not in sys.path:\n",
    "    sys.path.append(module_path)"
   ]
  },
  {
   "cell_type": "code",
   "execution_count": 5,
   "metadata": {},
   "outputs": [],
   "source": [
    "data_dir = (Path().cwd().parents[0] / 'data').absolute()"
   ]
  },
  {
   "cell_type": "code",
   "execution_count": 6,
   "metadata": {},
   "outputs": [
    {
     "name": "stderr",
     "output_type": "stream",
     "text": [
      "c:\\Users\\thu71\\AppData\\Local\\anaconda3\\envs\\scanpy\\Lib\\site-packages\\torchvision\\io\\image.py:13: UserWarning: Failed to load image Python extension: '[WinError 127] The specified procedure could not be found'If you don't plan on using image functionality from `torchvision.io`, you can ignore this warning. Otherwise, there might be something wrong with your environment. Did you have `libjpeg` or `libpng` installed before building `torchvision` from source?\n",
      "  warn(\n"
     ]
    }
   ],
   "source": [
    "import lightning.pytorch as pl\n",
    "import PPIGraph"
   ]
  },
  {
   "cell_type": "markdown",
   "metadata": {},
   "source": [
    "# Load dataset"
   ]
  },
  {
   "cell_type": "code",
   "execution_count": 7,
   "metadata": {},
   "outputs": [],
   "source": [
    "from torch_geometric.loader import DataLoader\n",
    "\n",
    "# Define condition mapping\n",
    "condition_mapping = {'control': 0, '100nM': 1}\n",
    "\n",
    "# Load graph dataset and process if neede\n",
    "graph_path = data_dir / '13cyc_3D' / 'graphs' \n",
    "\n",
    "dataset = PPIGraph.GraphDataset2D3D(graph_path, 'raw', '2D3D_pt', condition_mapping=condition_mapping, n_c=2)\n",
    "train_set, val_set, test_set = PPIGraph.train_test_val_split(dataset)\n",
    "\n",
    "# Create Dataloader\n",
    "train_loader = DataLoader(train_set, batch_size=32, shuffle=True)\n",
    "val_loader = DataLoader(val_set, batch_size=32, shuffle=True)\n",
    "test_loader = DataLoader(test_set, batch_size=32, shuffle=False)\n"
   ]
  },
  {
   "cell_type": "code",
   "execution_count": 8,
   "metadata": {},
   "outputs": [
    {
     "name": "stdout",
     "output_type": "stream",
     "text": [
      "Dataset: GraphDataset2D3D(2492):\n",
      "======================\n",
      "Number of graphs: 2492\n",
      "Number of features: 13\n",
      "Number of classes: 2\n",
      "Train set: 1197, test set: 996, val set: 299\n",
      "Step 1:\n",
      "=======\n",
      "Number of graphs in the current batch: 32\n",
      "DataBatch(edge_index=[2, 42358], pos=[3475, 2], labels=[3475, 13], nuclei=[3475], weight=[42358], condition=[32], fov=[32], id=[32], pos3D=[3475, 3], edge_attr=[42358, 1], x=[3475, 13], y=[32], edge_weight_2D=[42358], edge_weight_3D=[42358], name=[32], batch=[3475], ptr=[33])\n",
      "\n"
     ]
    }
   ],
   "source": [
    "# Print some information on the dataset\n",
    "print(f'Dataset: {dataset}:')\n",
    "print('======================')\n",
    "print(f'Number of graphs: {len(dataset)}')\n",
    "print(f'Number of features: {dataset.num_features}')\n",
    "print(f'Number of classes: {dataset.num_classes}')\n",
    "\n",
    "print(f'Train set: {len(train_set)}, test set: {len(test_set)}, val set: {len(val_set)}')\n",
    "for step, data in enumerate(train_loader):\n",
    "\n",
    "    print(f'Step {step + 1}:')\n",
    "    print('=======')\n",
    "    print(f'Number of graphs in the current batch: {data.num_graphs}')\n",
    "    print(data)\n",
    "    print()\n",
    "    break"
   ]
  },
  {
   "cell_type": "code",
   "execution_count": 9,
   "metadata": {},
   "outputs": [],
   "source": [
    "# # Print some information on the dataset\n",
    "# print(f'Dataset: {dataset}:')\n",
    "# print('======================')\n",
    "# print(f'Number of graphs: {len(dataset)}')\n",
    "# print(f'Number of features: {dataset.num_features}')\n",
    "# print(f'Number of classes: {dataset.num_classes}')\n",
    "\n",
    "# print(f'Train set: {len(train_set)}, test set: {len(test_set)}, val set: {len(val_set)}')\n",
    "# for step, data in enumerate(train_loader):\n",
    "\n",
    "#     print(f'Step {step + 1}:')\n",
    "#     print('=======')\n",
    "#     print(f'Number of graphs in the current batch: {data.num_graphs}')\n",
    "#     print(data)\n",
    "#     print()\n",
    "#     break"
   ]
  },
  {
   "cell_type": "code",
   "execution_count": 10,
   "metadata": {},
   "outputs": [
    {
     "data": {
      "text/plain": [
       "tensor([0.0636, 0.1941, 0.3601,  ..., 0.0760, 0.5264, 0.2015])"
      ]
     },
     "execution_count": 10,
     "metadata": {},
     "output_type": "execute_result"
    }
   ],
   "source": [
    "data.edge_weight_2D"
   ]
  },
  {
   "cell_type": "code",
   "execution_count": 11,
   "metadata": {},
   "outputs": [
    {
     "data": {
      "text/plain": [
       "tensor([5.4126e-01, 3.5844e-02, 1.0574e-05,  ..., 7.2026e-01, 8.6688e-01,\n",
       "        8.1299e-01])"
      ]
     },
     "execution_count": 11,
     "metadata": {},
     "output_type": "execute_result"
    }
   ],
   "source": [
    "data.edge_weight_3D"
   ]
  },
  {
   "cell_type": "markdown",
   "metadata": {},
   "source": [
    "# K-fold on filter dataset"
   ]
  },
  {
   "cell_type": "code",
   "execution_count": 12,
   "metadata": {},
   "outputs": [],
   "source": [
    "import itertools\n",
    "from lightning.pytorch.accelerators import find_usable_cuda_devices\n",
    "import wandb"
   ]
  },
  {
   "cell_type": "code",
   "execution_count": 13,
   "metadata": {},
   "outputs": [],
   "source": [
    "from sklearn.model_selection import KFold, StratifiedKFold\n",
    "from torch.utils.data import SubsetRandomSampler"
   ]
  },
  {
   "cell_type": "code",
   "execution_count": 14,
   "metadata": {},
   "outputs": [],
   "source": [
    "# Filter out by maximum number of counts per cell\n",
    "min_count = 20\n",
    "max_count = 50\n",
    "\n",
    "graph_path = data_dir / '13cyc_3D' / 'graphs' \n",
    "dataset = PPIGraph.GraphDataset2D3D(graph_path, 'raw', '2D3D_pt', condition_mapping=condition_mapping, n_c=2)\n",
    "\n",
    "# Create Dataloader\n",
    "loader = DataLoader(dataset, batch_size=1, shuffle=False)\n",
    "\n",
    "# Get Indices\n",
    "indices = []\n",
    "for step, data in enumerate(loader):\n",
    "    if len(data.x) <= min_count:\n",
    "        continue \n",
    "    \n",
    "    if (data.x.sum(axis=0) >= max_count).any():\n",
    "        continue\n",
    "    indices.append(step)\n",
    "    \n",
    "# Get subset dataset\n",
    "dataset_filtered = dataset.index_select(indices)\n"
   ]
  },
  {
   "cell_type": "code",
   "execution_count": 15,
   "metadata": {},
   "outputs": [
    {
     "data": {
      "text/plain": [
       "2153"
      ]
     },
     "execution_count": 15,
     "metadata": {},
     "output_type": "execute_result"
    }
   ],
   "source": [
    "len(dataset_filtered)"
   ]
  },
  {
   "cell_type": "code",
   "execution_count": 16,
   "metadata": {},
   "outputs": [],
   "source": [
    "dataset_name = '13PPI_2D3D_fusion'\n",
    "condition = 'Kfold'\n",
    "checkpoint_folder = (Path().cwd().parents[0]).absolute() / 'data' / '13cyc_3D' /\"saved_models_fusion\" / dataset_name / f\"Graph_GNNs_{condition}\" \n",
    "project_name = f'PLA_01122024_{dataset_name}_{condition}'"
   ]
  },
  {
   "cell_type": "code",
   "execution_count": 17,
   "metadata": {},
   "outputs": [
    {
     "name": "stderr",
     "output_type": "stream",
     "text": [
      "Global seed set to 42\n"
     ]
    }
   ],
   "source": [
    "AVAIL_GPUS = [0]\n",
    "\n",
    "# Setting the seed\n",
    "pl.seed_everything(42)\n",
    "epochs = 65\n",
    "\n",
    "# NUM_LAYERS = 2\n",
    "# HIDDEN_CHANNELS = 16\n",
    "# pools = ['mean', 'max', 'sum', 'attention', 'attention2']\n",
    "# num_layers = [2,3,4]\n",
    "# hiddens = [16, 32, 64]\n",
    "\n",
    "\n",
    "# # model = 'GAT'\n",
    "# model = 'GINConv'\n",
    "params = [[2,64,'attention','MLP'], \n",
    "[2,16,'attention','GraphConv'],\n",
    "[2,64,'attention2','GCN'],\n",
    "[3,64,'attention','GAT'],\n",
    "[3,16,'mean','GINConv']]"
   ]
  },
  {
   "cell_type": "code",
   "execution_count": 18,
   "metadata": {},
   "outputs": [
    {
     "data": {
      "text/plain": [
       "[[2, 64, 'attention', 'MLP'],\n",
       " [2, 16, 'attention', 'GraphConv'],\n",
       " [2, 64, 'attention2', 'GCN'],\n",
       " [3, 64, 'attention', 'GAT'],\n",
       " [3, 16, 'mean', 'GINConv']]"
      ]
     },
     "execution_count": 18,
     "metadata": {},
     "output_type": "execute_result"
    }
   ],
   "source": [
    "params"
   ]
  },
  {
   "cell_type": "code",
   "execution_count": 19,
   "metadata": {},
   "outputs": [],
   "source": [
    "import PPIGraph\n",
    "import torch\n",
    "torch.set_float32_matmul_precision('medium')"
   ]
  },
  {
   "cell_type": "code",
   "execution_count": 20,
   "metadata": {},
   "outputs": [],
   "source": [
    "fusion = 'concat'"
   ]
  },
  {
   "cell_type": "code",
   "execution_count": 22,
   "metadata": {},
   "outputs": [
    {
     "name": "stdout",
     "output_type": "stream",
     "text": [
      "y:\\coskun-lab\\Thomas\\23_PLA_revision\\data\\13cyc_3D\\saved_models_fusion\\13PPI_2D3D_fusion\\Graph_GNNs_Kfold\\MLP_2_64_concat_0\\attention\\GraphLevelMLP\\GraphLevelMLP.ckpt\n",
      "y:\\coskun-lab\\Thomas\\23_PLA_revision\\data\\13cyc_3D\\saved_models_fusion\\13PPI_2D3D_fusion\\Graph_GNNs_Kfold\\GraphConv_2_16_concat_0\\attention\\GraphLevelGraphConv\\GraphLevelGraphConv.ckpt\n",
      "y:\\coskun-lab\\Thomas\\23_PLA_revision\\data\\13cyc_3D\\saved_models_fusion\\13PPI_2D3D_fusion\\Graph_GNNs_Kfold\\GCN_2_64_concat_0\\attention2\\GraphLevelGCN\\GraphLevelGCN.ckpt\n"
     ]
    },
    {
     "data": {
      "text/html": [
       "Finishing last run (ID:s2p0spvf) before initializing another..."
      ],
      "text/plain": [
       "<IPython.core.display.HTML object>"
      ]
     },
     "metadata": {},
     "output_type": "display_data"
    },
    {
     "data": {
      "text/html": [
       "Waiting for W&B process to finish... <strong style=\"color:green\">(success).</strong>"
      ],
      "text/plain": [
       "<IPython.core.display.HTML object>"
      ]
     },
     "metadata": {},
     "output_type": "display_data"
    },
    {
     "data": {
      "application/vnd.jupyter.widget-view+json": {
       "model_id": "dee76ec1561c43e586b6bc9a868842b0",
       "version_major": 2,
       "version_minor": 0
      },
      "text/plain": [
       "VBox(children=(Label(value='0.001 MB of 0.001 MB uploaded (0.000 MB deduped)\\r'), FloatProgress(value=1.0, max…"
      ]
     },
     "metadata": {},
     "output_type": "display_data"
    },
    {
     "data": {
      "text/html": [
       " View run <strong style=\"color:#cdcd00\">GAT_3_64_onehot_0</strong> at: <a href='https://wandb.ai/thoomas/PLA_01122024_13PPI_2D3D_fusion_Kfold/runs/s2p0spvf' target=\"_blank\">https://wandb.ai/thoomas/PLA_01122024_13PPI_2D3D_fusion_Kfold/runs/s2p0spvf</a><br/>Synced 6 W&B file(s), 0 media file(s), 0 artifact file(s) and 0 other file(s)"
      ],
      "text/plain": [
       "<IPython.core.display.HTML object>"
      ]
     },
     "metadata": {},
     "output_type": "display_data"
    },
    {
     "data": {
      "text/html": [
       "Find logs at: <code>.\\wandb\\run-20240122_100320-s2p0spvf\\logs</code>"
      ],
      "text/plain": [
       "<IPython.core.display.HTML object>"
      ]
     },
     "metadata": {},
     "output_type": "display_data"
    },
    {
     "data": {
      "text/html": [
       "Successfully finished last run (ID:s2p0spvf). Initializing new run:<br/>"
      ],
      "text/plain": [
       "<IPython.core.display.HTML object>"
      ]
     },
     "metadata": {},
     "output_type": "display_data"
    },
    {
     "data": {
      "application/vnd.jupyter.widget-view+json": {
       "model_id": "2e7a9a45c38544ba89e52f96b263c504",
       "version_major": 2,
       "version_minor": 0
      },
      "text/plain": [
       "VBox(children=(Label(value='Waiting for wandb.init()...\\r'), FloatProgress(value=0.016666666666666666, max=1.0…"
      ]
     },
     "metadata": {},
     "output_type": "display_data"
    },
    {
     "data": {
      "text/html": [
       "wandb version 0.16.2 is available!  To upgrade, please run:\n",
       " $ pip install wandb --upgrade"
      ],
      "text/plain": [
       "<IPython.core.display.HTML object>"
      ]
     },
     "metadata": {},
     "output_type": "display_data"
    },
    {
     "data": {
      "text/html": [
       "Tracking run with wandb version 0.15.8"
      ],
      "text/plain": [
       "<IPython.core.display.HTML object>"
      ]
     },
     "metadata": {},
     "output_type": "display_data"
    },
    {
     "data": {
      "text/html": [
       "Run data is saved locally in <code>y:\\coskun-lab\\Thomas\\23_PLA_revision\\notebooks\\wandb\\run-20240122_100649-6mxlsdhl</code>"
      ],
      "text/plain": [
       "<IPython.core.display.HTML object>"
      ]
     },
     "metadata": {},
     "output_type": "display_data"
    },
    {
     "data": {
      "text/html": [
       "Syncing run <strong><a href='https://wandb.ai/thoomas/PLA_01122024_13PPI_2D3D_fusion_Kfold/runs/6mxlsdhl' target=\"_blank\">GAT_3_64_onehot_0</a></strong> to <a href='https://wandb.ai/thoomas/PLA_01122024_13PPI_2D3D_fusion_Kfold' target=\"_blank\">Weights & Biases</a> (<a href='https://wandb.me/run' target=\"_blank\">docs</a>)<br/>"
      ],
      "text/plain": [
       "<IPython.core.display.HTML object>"
      ]
     },
     "metadata": {},
     "output_type": "display_data"
    },
    {
     "data": {
      "text/html": [
       " View project at <a href='https://wandb.ai/thoomas/PLA_01122024_13PPI_2D3D_fusion_Kfold' target=\"_blank\">https://wandb.ai/thoomas/PLA_01122024_13PPI_2D3D_fusion_Kfold</a>"
      ],
      "text/plain": [
       "<IPython.core.display.HTML object>"
      ]
     },
     "metadata": {},
     "output_type": "display_data"
    },
    {
     "data": {
      "text/html": [
       " View run at <a href='https://wandb.ai/thoomas/PLA_01122024_13PPI_2D3D_fusion_Kfold/runs/6mxlsdhl' target=\"_blank\">https://wandb.ai/thoomas/PLA_01122024_13PPI_2D3D_fusion_Kfold/runs/6mxlsdhl</a>"
      ],
      "text/plain": [
       "<IPython.core.display.HTML object>"
      ]
     },
     "metadata": {},
     "output_type": "display_data"
    },
    {
     "name": "stderr",
     "output_type": "stream",
     "text": [
      "Global seed set to 42\n",
      "GPU available: True (cuda), used: True\n",
      "TPU available: False, using: 0 TPU cores\n",
      "IPU available: False, using: 0 IPUs\n",
      "HPU available: False, using: 0 HPUs\n",
      "Global seed set to 42\n",
      "LOCAL_RANK: 0 - CUDA_VISIBLE_DEVICES: [0]\n",
      "\n",
      "   | Name        | Type             | Params\n",
      "--------------------------------------------------\n",
      "0  | x_embedding | Identity         | 0     \n",
      "1  | model2D     | GAT              | 44.6 K\n",
      "2  | model3D     | GAT              | 44.6 K\n",
      "3  | head        | Sequential       | 8.4 K \n",
      "4  | loss_module | CrossEntropyLoss | 0     \n",
      "5  | train_acc   | BinaryAccuracy   | 0     \n",
      "6  | train_auroc | BinaryAUROC      | 0     \n",
      "7  | train_f1    | BinaryF1Score    | 0     \n",
      "8  | valid_acc   | BinaryAccuracy   | 0     \n",
      "9  | valid_auroc | BinaryAUROC      | 0     \n",
      "10 | valid_f1    | BinaryF1Score    | 0     \n",
      "11 | pool2D      | GlobalAttention  | 65    \n",
      "12 | pool3D      | GlobalAttention  | 65    \n",
      "--------------------------------------------------\n",
      "97.7 K    Trainable params\n",
      "0         Non-trainable params\n",
      "97.7 K    Total params\n",
      "0.391     Total estimated model params size (MB)\n"
     ]
    },
    {
     "name": "stdout",
     "output_type": "stream",
     "text": [
      "Using GAT\n"
     ]
    },
    {
     "name": "stderr",
     "output_type": "stream",
     "text": [
      "c:\\Users\\thu71\\AppData\\Local\\anaconda3\\envs\\scanpy\\Lib\\site-packages\\torchmetrics\\utilities\\prints.py:42: UserWarning: No positive samples in targets, true positive value should be meaningless. Returning zero tensor in true positive score\n",
      "  warnings.warn(*args, **kwargs)  # noqa: B028\n",
      "c:\\Users\\thu71\\AppData\\Local\\anaconda3\\envs\\scanpy\\Lib\\site-packages\\lightning\\pytorch\\utilities\\data.py:76: UserWarning: Trying to infer the `batch_size` from an ambiguous collection. The batch size we found is 2. To avoid any miscalculations, use `self.log(..., batch_size=batch_size)`.\n",
      "  warning_cache.warn(\n",
      "c:\\Users\\thu71\\AppData\\Local\\anaconda3\\envs\\scanpy\\Lib\\site-packages\\torchmetrics\\utilities\\prints.py:42: UserWarning: No negative samples in targets, false positive value should be meaningless. Returning zero tensor in false positive score\n",
      "  warnings.warn(*args, **kwargs)  # noqa: B028\n",
      "`Trainer.fit` stopped: `max_epochs=65` reached.\n"
     ]
    },
    {
     "data": {
      "text/html": [
       "Waiting for W&B process to finish... <strong style=\"color:green\">(success).</strong>"
      ],
      "text/plain": [
       "<IPython.core.display.HTML object>"
      ]
     },
     "metadata": {},
     "output_type": "display_data"
    },
    {
     "data": {
      "text/html": [
       "<style>\n",
       "    table.wandb td:nth-child(1) { padding: 0 10px; text-align: left ; width: auto;} td:nth-child(2) {text-align: left ; width: 100%}\n",
       "    .wandb-row { display: flex; flex-direction: row; flex-wrap: wrap; justify-content: flex-start; width: 100% }\n",
       "    .wandb-col { display: flex; flex-direction: column; flex-basis: 100%; flex: 1; padding: 10px; }\n",
       "    </style>\n",
       "<div class=\"wandb-row\"><div class=\"wandb-col\"><h3>Run history:</h3><br/><table class=\"wandb\"><tr><td>epoch</td><td>▁▁▁▂▂▂▂▂▂▃▃▃▃▃▄▄▄▄▄▄▅▅▅▅▅▅▆▆▆▆▆▇▇▇▇▇▇███</td></tr><tr><td>lr-Adam</td><td>▁▁▁▁▁▁▁▁▁▁▁▁▁▁▁▁▁▁▁▁▁▁▁▁▁▁▁▁▁▁▁▁▁▁▁▁▁▁▁▁</td></tr><tr><td>train_acc</td><td>▁▅▆▆▇▅▆▆▇▇▇▆▆▇▇▇▇▇▇▇▇▇█▇▇███▇▇█▇████████</td></tr><tr><td>train_auc</td><td>▁▃▅▆▆▅▆▆▆▇▇▆▆▇▇▇▇▇▇▇▇▇▇▇▇▇▇▇▇█▇▇███▇████</td></tr><tr><td>train_f1</td><td>▁▅▆▇▇▆▇▇▇▇▇▇▇▇▇▇█▇▇▇▇▇█▇▇███▇██▇██████▇█</td></tr><tr><td>train_loss_epoch</td><td>█▅▄▄▃▄▃▃▃▂▂▃▃▃▂▂▂▂▂▃▂▂▁▂▂▁▂▁▂▂▂▂▁▁▁▂▁▁▁▁</td></tr><tr><td>train_loss_step</td><td>██▆▇▃▄▄▇▄▁▅▃▅▆▅▅▅▃▅▅▄▆▂▃▅▁▄▅▃▂▄▄▂▃▃▇▂▅▆▄</td></tr><tr><td>trainer/global_step</td><td>▁▁▁▁▁▁▁▁▁▃▃▃▃▃▄▂▂▂▂▂▂▅▅▅▅▆▆▂▂▂▂▃▃▇▇▇███▃</td></tr><tr><td>val_acc</td><td>▁▂▆▇▇▇▆█▇▆█▆▇▇▇▇▇▆█▇▆▇████▇█▆▇█▇▇▇█▇▇█▆▇</td></tr><tr><td>val_auc</td><td>▁▂▃▃▄▅▄▄▅▅▆▅▅▅▆▄▅▅▅▃▅▆▆▇▇▇▆▇▄▂█▇▇▅█▆▆▇▄▅</td></tr><tr><td>val_f1</td><td>▁▂▆▆▇▇▆▇▇▆▇▆▆▇▇▇▆▆▇▇▆▇████▇█▅▆▇▇▇▇█▇▇█▅▇</td></tr><tr><td>val_loss_epoch</td><td>█▇▃▂▂▂▂▂▂▂▁▃▂▂▂▂▂▃▁▂▃▁▁▁▁▁▂▁▃▂▂▁▂▂▁▂▁▁▄▂</td></tr><tr><td>val_loss_step</td><td>▅▁▄▃▄▃▂▆▃▂▄▂▂▂▂▃▂▁▄▇▂▃▃▅▄▂▂▃▁▇█▂▁▂▅▂▂▅▁▃</td></tr></table><br/></div><div class=\"wandb-col\"><h3>Run summary:</h3><br/><table class=\"wandb\"><tr><td>epoch</td><td>64</td></tr><tr><td>lr-Adam</td><td>0.005</td></tr><tr><td>train_acc</td><td>0.82869</td></tr><tr><td>train_auc</td><td>0.89847</td></tr><tr><td>train_f1</td><td>0.81528</td></tr><tr><td>train_loss_epoch</td><td>0.47595</td></tr><tr><td>train_loss_step</td><td>0.48443</td></tr><tr><td>trainer/global_step</td><td>909</td></tr><tr><td>val_acc</td><td>0.81903</td></tr><tr><td>val_auc</td><td>0.89954</td></tr><tr><td>val_f1</td><td>0.81604</td></tr><tr><td>val_loss_epoch</td><td>0.47252</td></tr><tr><td>val_loss_step</td><td>0.38964</td></tr></table><br/></div></div>"
      ],
      "text/plain": [
       "<IPython.core.display.HTML object>"
      ]
     },
     "metadata": {},
     "output_type": "display_data"
    },
    {
     "data": {
      "text/html": [
       " View run <strong style=\"color:#cdcd00\">GAT_3_64_onehot_0</strong> at: <a href='https://wandb.ai/thoomas/PLA_01122024_13PPI_2D3D_fusion_Kfold/runs/6mxlsdhl' target=\"_blank\">https://wandb.ai/thoomas/PLA_01122024_13PPI_2D3D_fusion_Kfold/runs/6mxlsdhl</a><br/>Synced 6 W&B file(s), 0 media file(s), 0 artifact file(s) and 0 other file(s)"
      ],
      "text/plain": [
       "<IPython.core.display.HTML object>"
      ]
     },
     "metadata": {},
     "output_type": "display_data"
    },
    {
     "data": {
      "text/html": [
       "Find logs at: <code>.\\wandb\\run-20240122_100649-6mxlsdhl\\logs</code>"
      ],
      "text/plain": [
       "<IPython.core.display.HTML object>"
      ]
     },
     "metadata": {},
     "output_type": "display_data"
    },
    {
     "data": {
      "text/html": [
       "wandb version 0.16.2 is available!  To upgrade, please run:\n",
       " $ pip install wandb --upgrade"
      ],
      "text/plain": [
       "<IPython.core.display.HTML object>"
      ]
     },
     "metadata": {},
     "output_type": "display_data"
    },
    {
     "data": {
      "text/html": [
       "Tracking run with wandb version 0.15.8"
      ],
      "text/plain": [
       "<IPython.core.display.HTML object>"
      ]
     },
     "metadata": {},
     "output_type": "display_data"
    },
    {
     "data": {
      "text/html": [
       "Run data is saved locally in <code>y:\\coskun-lab\\Thomas\\23_PLA_revision\\notebooks\\wandb\\run-20240122_111119-74f3pygc</code>"
      ],
      "text/plain": [
       "<IPython.core.display.HTML object>"
      ]
     },
     "metadata": {},
     "output_type": "display_data"
    },
    {
     "data": {
      "text/html": [
       "Syncing run <strong><a href='https://wandb.ai/thoomas/PLA_01122024_13PPI_2D3D_fusion_Kfold/runs/74f3pygc' target=\"_blank\">GINConv_3_16_onehot_0</a></strong> to <a href='https://wandb.ai/thoomas/PLA_01122024_13PPI_2D3D_fusion_Kfold' target=\"_blank\">Weights & Biases</a> (<a href='https://wandb.me/run' target=\"_blank\">docs</a>)<br/>"
      ],
      "text/plain": [
       "<IPython.core.display.HTML object>"
      ]
     },
     "metadata": {},
     "output_type": "display_data"
    },
    {
     "data": {
      "text/html": [
       " View project at <a href='https://wandb.ai/thoomas/PLA_01122024_13PPI_2D3D_fusion_Kfold' target=\"_blank\">https://wandb.ai/thoomas/PLA_01122024_13PPI_2D3D_fusion_Kfold</a>"
      ],
      "text/plain": [
       "<IPython.core.display.HTML object>"
      ]
     },
     "metadata": {},
     "output_type": "display_data"
    },
    {
     "data": {
      "text/html": [
       " View run at <a href='https://wandb.ai/thoomas/PLA_01122024_13PPI_2D3D_fusion_Kfold/runs/74f3pygc' target=\"_blank\">https://wandb.ai/thoomas/PLA_01122024_13PPI_2D3D_fusion_Kfold/runs/74f3pygc</a>"
      ],
      "text/plain": [
       "<IPython.core.display.HTML object>"
      ]
     },
     "metadata": {},
     "output_type": "display_data"
    },
    {
     "name": "stderr",
     "output_type": "stream",
     "text": [
      "Global seed set to 42\n",
      "GPU available: True (cuda), used: True\n",
      "TPU available: False, using: 0 TPU cores\n",
      "IPU available: False, using: 0 IPUs\n",
      "HPU available: False, using: 0 HPUs\n",
      "Global seed set to 42\n",
      "c:\\Users\\thu71\\AppData\\Local\\anaconda3\\envs\\scanpy\\Lib\\site-packages\\lightning\\pytorch\\callbacks\\model_checkpoint.py:617: UserWarning: Checkpoint directory \\\\bme-retromaster.ad.gatech.edu\\labs5\\coskun-lab\\Thomas\\23_PLA_revision\\data\\13cyc_3D\\saved_models_fusion\\13PPI_2D3D_fusion\\Graph_GNNs_Kfold\\GINConv_3_16_concat_0\\mean\\GraphLevelGINConv exists and is not empty.\n",
      "  rank_zero_warn(f\"Checkpoint directory {dirpath} exists and is not empty.\")\n",
      "LOCAL_RANK: 0 - CUDA_VISIBLE_DEVICES: [0]\n",
      "\n",
      "   | Name        | Type             | Params\n",
      "--------------------------------------------------\n",
      "0  | x_embedding | Identity         | 0     \n",
      "1  | model2D     | GIN              | 1.7 K \n",
      "2  | model3D     | GIN              | 1.7 K \n",
      "3  | head        | Sequential       | 562   \n",
      "4  | loss_module | CrossEntropyLoss | 0     \n",
      "5  | train_acc   | BinaryAccuracy   | 0     \n",
      "6  | train_auroc | BinaryAUROC      | 0     \n",
      "7  | train_f1    | BinaryF1Score    | 0     \n",
      "8  | valid_acc   | BinaryAccuracy   | 0     \n",
      "9  | valid_auroc | BinaryAUROC      | 0     \n",
      "10 | valid_f1    | BinaryF1Score    | 0     \n",
      "--------------------------------------------------\n",
      "4.0 K     Trainable params\n",
      "0         Non-trainable params\n",
      "4.0 K     Total params\n",
      "0.016     Total estimated model params size (MB)\n"
     ]
    },
    {
     "name": "stdout",
     "output_type": "stream",
     "text": [
      "GINConv\n"
     ]
    },
    {
     "name": "stderr",
     "output_type": "stream",
     "text": [
      "`Trainer.fit` stopped: `max_epochs=65` reached.\n"
     ]
    },
    {
     "data": {
      "text/html": [
       "Waiting for W&B process to finish... <strong style=\"color:green\">(success).</strong>"
      ],
      "text/plain": [
       "<IPython.core.display.HTML object>"
      ]
     },
     "metadata": {},
     "output_type": "display_data"
    },
    {
     "data": {
      "text/html": [
       "<style>\n",
       "    table.wandb td:nth-child(1) { padding: 0 10px; text-align: left ; width: auto;} td:nth-child(2) {text-align: left ; width: 100%}\n",
       "    .wandb-row { display: flex; flex-direction: row; flex-wrap: wrap; justify-content: flex-start; width: 100% }\n",
       "    .wandb-col { display: flex; flex-direction: column; flex-basis: 100%; flex: 1; padding: 10px; }\n",
       "    </style>\n",
       "<div class=\"wandb-row\"><div class=\"wandb-col\"><h3>Run history:</h3><br/><table class=\"wandb\"><tr><td>epoch</td><td>▁▁▁▂▂▂▂▂▂▃▃▃▃▃▄▄▄▄▄▄▅▅▅▅▅▅▆▆▆▆▆▇▇▇▇▇▇███</td></tr><tr><td>lr-Adam</td><td>▁▁▁▁▁▁▁▁▁▁▁▁▁▁▁▁▁▁▁▁▁▁▁▁▁▁▁▁▁▁▁▁▁▁▁▁▁▁▁▁</td></tr><tr><td>train_acc</td><td>▁▅▆▆▆▇▆▇▇▆▇▇▇▇▇▇▇█▇█▇▇██▇▇▇▇▇████▇▇████▇</td></tr><tr><td>train_auc</td><td>▁▅▆▆▇▇▇▇▇▇▇▇▇▇▇▇▇█▇█▇███▇▇▇█▇██▇████████</td></tr><tr><td>train_f1</td><td>▁▄▅▅▆▆▆▇▇▆▇▇▇▇▇▇▇▇▇▇▇▇██▇▇▇▇▇█▇▇██▇████▇</td></tr><tr><td>train_loss_epoch</td><td>█▅▄▃▃▂▃▂▂▃▂▂▂▂▂▂▂▁▂▁▂▂▁▁▂▂▂▂▂▁▁▁▁▂▂▁▁▁▁▁</td></tr><tr><td>train_loss_step</td><td>█▅▆▄▅▅▄▄▄▅▄▅▆▆▄▆▃▄▅▄▃▃▃▄▅▄▃▄▄▁▃▃▃▅▂▃▂▄▃▃</td></tr><tr><td>trainer/global_step</td><td>▁▁▁▁▁▁▁▁▁▃▃▃▃▃▄▂▂▂▂▂▂▅▅▅▅▆▆▂▂▂▂▃▃▇▇▇███▃</td></tr><tr><td>val_acc</td><td>▃▁▂▂▅▇▆▅▅▅▇▅▅▃▄▂█▅▆▆▃▅▆▇▅▆▇▇▅▅▆▆▄▃▄▆▂▅▄▆</td></tr><tr><td>val_auc</td><td>▁▂▄▂▃▄▇▅▄▄▆▆▅▃▆▄▇▄▄▆▆▇▆▆▇▅▆▇▆▅▇▆▇▆▇▄▅▇▆█</td></tr><tr><td>val_f1</td><td>▁▃▄▂▅▇▆▃▆▅▇▄▆▂▁▄█▅▆▆▅▃▇▇▃▆▇▅▄▅▆▅▄▅▃▆▂▄▆▆</td></tr><tr><td>val_loss_epoch</td><td>█▃▃▃▂▂▁▃▂▂▁▂▂▃▃▃▁▂▂▂▂▃▁▁▃▂▁▂▂▂▂▂▂▂▂▂▃▂▂▂</td></tr><tr><td>val_loss_step</td><td>█▃▁▄▂▂▂▅▁▂▂▃▂▄▄▂▂▁▄▃▁▅▂▂▅▂▂▄▄▂▂▄▂▂▄▃▄▄▁▃</td></tr></table><br/></div><div class=\"wandb-col\"><h3>Run summary:</h3><br/><table class=\"wandb\"><tr><td>epoch</td><td>64</td></tr><tr><td>lr-Adam</td><td>0.005</td></tr><tr><td>train_acc</td><td>0.84727</td></tr><tr><td>train_auc</td><td>0.91455</td></tr><tr><td>train_f1</td><td>0.83109</td></tr><tr><td>train_loss_epoch</td><td>0.45702</td></tr><tr><td>train_loss_step</td><td>0.54072</td></tr><tr><td>trainer/global_step</td><td>909</td></tr><tr><td>val_acc</td><td>0.84919</td></tr><tr><td>val_auc</td><td>0.91338</td></tr><tr><td>val_f1</td><td>0.83791</td></tr><tr><td>val_loss_epoch</td><td>0.45743</td></tr><tr><td>val_loss_step</td><td>0.44885</td></tr></table><br/></div></div>"
      ],
      "text/plain": [
       "<IPython.core.display.HTML object>"
      ]
     },
     "metadata": {},
     "output_type": "display_data"
    },
    {
     "data": {
      "text/html": [
       " View run <strong style=\"color:#cdcd00\">GINConv_3_16_onehot_0</strong> at: <a href='https://wandb.ai/thoomas/PLA_01122024_13PPI_2D3D_fusion_Kfold/runs/74f3pygc' target=\"_blank\">https://wandb.ai/thoomas/PLA_01122024_13PPI_2D3D_fusion_Kfold/runs/74f3pygc</a><br/>Synced 6 W&B file(s), 0 media file(s), 0 artifact file(s) and 0 other file(s)"
      ],
      "text/plain": [
       "<IPython.core.display.HTML object>"
      ]
     },
     "metadata": {},
     "output_type": "display_data"
    },
    {
     "data": {
      "text/html": [
       "Find logs at: <code>.\\wandb\\run-20240122_111119-74f3pygc\\logs</code>"
      ],
      "text/plain": [
       "<IPython.core.display.HTML object>"
      ]
     },
     "metadata": {},
     "output_type": "display_data"
    },
    {
     "data": {
      "application/vnd.jupyter.widget-view+json": {
       "model_id": "153d0960fbbe44cf86da706f990ea64c",
       "version_major": 2,
       "version_minor": 0
      },
      "text/plain": [
       "VBox(children=(Label(value='Waiting for wandb.init()...\\r'), FloatProgress(value=0.016666666666666666, max=1.0…"
      ]
     },
     "metadata": {},
     "output_type": "display_data"
    },
    {
     "data": {
      "text/html": [
       "wandb version 0.16.2 is available!  To upgrade, please run:\n",
       " $ pip install wandb --upgrade"
      ],
      "text/plain": [
       "<IPython.core.display.HTML object>"
      ]
     },
     "metadata": {},
     "output_type": "display_data"
    },
    {
     "data": {
      "text/html": [
       "Tracking run with wandb version 0.15.8"
      ],
      "text/plain": [
       "<IPython.core.display.HTML object>"
      ]
     },
     "metadata": {},
     "output_type": "display_data"
    },
    {
     "data": {
      "text/html": [
       "Run data is saved locally in <code>y:\\coskun-lab\\Thomas\\23_PLA_revision\\notebooks\\wandb\\run-20240122_120410-clf8rq9a</code>"
      ],
      "text/plain": [
       "<IPython.core.display.HTML object>"
      ]
     },
     "metadata": {},
     "output_type": "display_data"
    },
    {
     "data": {
      "text/html": [
       "Syncing run <strong><a href='https://wandb.ai/thoomas/PLA_01122024_13PPI_2D3D_fusion_Kfold/runs/clf8rq9a' target=\"_blank\">MLP_2_64_onehot_1</a></strong> to <a href='https://wandb.ai/thoomas/PLA_01122024_13PPI_2D3D_fusion_Kfold' target=\"_blank\">Weights & Biases</a> (<a href='https://wandb.me/run' target=\"_blank\">docs</a>)<br/>"
      ],
      "text/plain": [
       "<IPython.core.display.HTML object>"
      ]
     },
     "metadata": {},
     "output_type": "display_data"
    },
    {
     "data": {
      "text/html": [
       " View project at <a href='https://wandb.ai/thoomas/PLA_01122024_13PPI_2D3D_fusion_Kfold' target=\"_blank\">https://wandb.ai/thoomas/PLA_01122024_13PPI_2D3D_fusion_Kfold</a>"
      ],
      "text/plain": [
       "<IPython.core.display.HTML object>"
      ]
     },
     "metadata": {},
     "output_type": "display_data"
    },
    {
     "data": {
      "text/html": [
       " View run at <a href='https://wandb.ai/thoomas/PLA_01122024_13PPI_2D3D_fusion_Kfold/runs/clf8rq9a' target=\"_blank\">https://wandb.ai/thoomas/PLA_01122024_13PPI_2D3D_fusion_Kfold/runs/clf8rq9a</a>"
      ],
      "text/plain": [
       "<IPython.core.display.HTML object>"
      ]
     },
     "metadata": {},
     "output_type": "display_data"
    },
    {
     "name": "stderr",
     "output_type": "stream",
     "text": [
      "Global seed set to 42\n",
      "GPU available: True (cuda), used: True\n",
      "TPU available: False, using: 0 TPU cores\n",
      "IPU available: False, using: 0 IPUs\n",
      "HPU available: False, using: 0 HPUs\n",
      "Global seed set to 42\n",
      "c:\\Users\\thu71\\AppData\\Local\\anaconda3\\envs\\scanpy\\Lib\\site-packages\\lightning\\pytorch\\callbacks\\model_checkpoint.py:617: UserWarning: Checkpoint directory \\\\bme-retromaster.ad.gatech.edu\\labs5\\coskun-lab\\Thomas\\23_PLA_revision\\data\\13cyc_3D\\saved_models_fusion\\13PPI_2D3D_fusion\\Graph_GNNs_Kfold\\MLP_2_64_concat_1\\attention\\GraphLevelMLP exists and is not empty.\n",
      "  rank_zero_warn(f\"Checkpoint directory {dirpath} exists and is not empty.\")\n",
      "LOCAL_RANK: 0 - CUDA_VISIBLE_DEVICES: [0]\n",
      "\n",
      "   | Name        | Type             | Params\n",
      "--------------------------------------------------\n",
      "0  | x_embedding | Identity         | 0     \n",
      "1  | model2D     | MLPModel         | 5.1 K \n",
      "2  | model3D     | MLPModel         | 5.1 K \n",
      "3  | head        | Sequential       | 8.4 K \n",
      "4  | loss_module | CrossEntropyLoss | 0     \n",
      "5  | train_acc   | BinaryAccuracy   | 0     \n",
      "6  | train_auroc | BinaryAUROC      | 0     \n",
      "7  | train_f1    | BinaryF1Score    | 0     \n",
      "8  | valid_acc   | BinaryAccuracy   | 0     \n",
      "9  | valid_auroc | BinaryAUROC      | 0     \n",
      "10 | valid_f1    | BinaryF1Score    | 0     \n",
      "11 | pool2D      | GlobalAttention  | 65    \n",
      "12 | pool3D      | GlobalAttention  | 65    \n",
      "--------------------------------------------------\n",
      "18.6 K    Trainable params\n",
      "0         Non-trainable params\n",
      "18.6 K    Total params\n",
      "0.075     Total estimated model params size (MB)\n"
     ]
    },
    {
     "name": "stdout",
     "output_type": "stream",
     "text": [
      "Using MLP\n"
     ]
    },
    {
     "name": "stderr",
     "output_type": "stream",
     "text": [
      "`Trainer.fit` stopped: `max_epochs=65` reached.\n"
     ]
    },
    {
     "data": {
      "text/html": [
       "Waiting for W&B process to finish... <strong style=\"color:green\">(success).</strong>"
      ],
      "text/plain": [
       "<IPython.core.display.HTML object>"
      ]
     },
     "metadata": {},
     "output_type": "display_data"
    },
    {
     "data": {
      "text/html": [
       "<style>\n",
       "    table.wandb td:nth-child(1) { padding: 0 10px; text-align: left ; width: auto;} td:nth-child(2) {text-align: left ; width: 100%}\n",
       "    .wandb-row { display: flex; flex-direction: row; flex-wrap: wrap; justify-content: flex-start; width: 100% }\n",
       "    .wandb-col { display: flex; flex-direction: column; flex-basis: 100%; flex: 1; padding: 10px; }\n",
       "    </style>\n",
       "<div class=\"wandb-row\"><div class=\"wandb-col\"><h3>Run history:</h3><br/><table class=\"wandb\"><tr><td>epoch</td><td>▁▁▁▂▂▂▂▂▂▃▃▃▃▃▄▄▄▄▄▄▅▅▅▅▅▅▆▆▆▆▆▇▇▇▇▇▇███</td></tr><tr><td>lr-Adam</td><td>▁▁▁▁▁▁▁▁▁▁▁▁▁▁▁▁▁▁▁▁▁▁▁▁▁▁▁▁▁▁▁▁▁▁▁▁▁▁▁▁</td></tr><tr><td>train_acc</td><td>▁▄▆▆▇▇▇█▇▇▇██▇██████▇████████████▇▇▇▇██▇</td></tr><tr><td>train_auc</td><td>▁▅▆▆▇███▇▇▇███████████████████████▇▇███▇</td></tr><tr><td>train_f1</td><td>▁▄▇▇████▇█▇███████████████████████▇█▇██▇</td></tr><tr><td>train_loss_epoch</td><td>█▇▃▄▂▂▂▁▂▂▂▁▁▂▁▁▁▁▁▁▂▁▁▁▁▁▂▁▁▁▁▁▁▂▂▂▂▁▁▂</td></tr><tr><td>train_loss_step</td><td>█▆▆▅▅▃▃▃▄▂▂▂▃▃▁▂▄▄▁▃▃▅▄▃▅▃▂▂▂▃▃▃▃▇▂▃▄▁▄▂</td></tr><tr><td>trainer/global_step</td><td>▁▁▁▁▁▁▁▁▁▃▃▃▃▃▄▂▂▂▂▂▂▅▅▅▅▆▆▂▂▂▂▃▃▇▇▇███▃</td></tr><tr><td>val_acc</td><td>▁▆▄▆▆▇██▇▇███▇▇██▇███▇█▇███▇█▇████▇▇█▇▇█</td></tr><tr><td>val_auc</td><td>▃▁▃▄▆▇▇▇▆▇▇▇▇██▇▇▇█████▇██████▇████▇▇▇▇█</td></tr><tr><td>val_f1</td><td>▁▇▅▆█████████████████████████████▇██████</td></tr><tr><td>val_loss_epoch</td><td>█▄▆▅▂▁▂▁▁▁▂▁▁▁▁▂▁▁▁▁▁▁▁▁▂▂▂▁▁▁▁▁▂▂▁▁▁▁▁▁</td></tr><tr><td>val_loss_step</td><td>█▅█▇▁▂▄▃▂▂▄▂▃▂▂▄▂▂▂▃▂▁▃▁▄▄▄▂▃▁▃▂▅▅▁▁▃▃▁▂</td></tr></table><br/></div><div class=\"wandb-col\"><h3>Run summary:</h3><br/><table class=\"wandb\"><tr><td>epoch</td><td>64</td></tr><tr><td>lr-Adam</td><td>0.005</td></tr><tr><td>train_acc</td><td>0.76481</td></tr><tr><td>train_auc</td><td>0.83187</td></tr><tr><td>train_f1</td><td>0.74544</td></tr><tr><td>train_loss_epoch</td><td>0.53613</td></tr><tr><td>train_loss_step</td><td>0.53959</td></tr><tr><td>trainer/global_step</td><td>909</td></tr><tr><td>val_acc</td><td>0.75406</td></tr><tr><td>val_auc</td><td>0.8307</td></tr><tr><td>val_f1</td><td>0.73892</td></tr><tr><td>val_loss_epoch</td><td>0.52994</td></tr><tr><td>val_loss_step</td><td>0.43937</td></tr></table><br/></div></div>"
      ],
      "text/plain": [
       "<IPython.core.display.HTML object>"
      ]
     },
     "metadata": {},
     "output_type": "display_data"
    },
    {
     "data": {
      "text/html": [
       " View run <strong style=\"color:#cdcd00\">MLP_2_64_onehot_1</strong> at: <a href='https://wandb.ai/thoomas/PLA_01122024_13PPI_2D3D_fusion_Kfold/runs/clf8rq9a' target=\"_blank\">https://wandb.ai/thoomas/PLA_01122024_13PPI_2D3D_fusion_Kfold/runs/clf8rq9a</a><br/>Synced 6 W&B file(s), 0 media file(s), 0 artifact file(s) and 0 other file(s)"
      ],
      "text/plain": [
       "<IPython.core.display.HTML object>"
      ]
     },
     "metadata": {},
     "output_type": "display_data"
    },
    {
     "data": {
      "text/html": [
       "Find logs at: <code>.\\wandb\\run-20240122_120410-clf8rq9a\\logs</code>"
      ],
      "text/plain": [
       "<IPython.core.display.HTML object>"
      ]
     },
     "metadata": {},
     "output_type": "display_data"
    },
    {
     "data": {
      "application/vnd.jupyter.widget-view+json": {
       "model_id": "fd0455602a83423b97196054a0dfbfab",
       "version_major": 2,
       "version_minor": 0
      },
      "text/plain": [
       "VBox(children=(Label(value='Waiting for wandb.init()...\\r'), FloatProgress(value=0.016666666666666666, max=1.0…"
      ]
     },
     "metadata": {},
     "output_type": "display_data"
    },
    {
     "data": {
      "text/html": [
       "wandb version 0.16.2 is available!  To upgrade, please run:\n",
       " $ pip install wandb --upgrade"
      ],
      "text/plain": [
       "<IPython.core.display.HTML object>"
      ]
     },
     "metadata": {},
     "output_type": "display_data"
    },
    {
     "data": {
      "text/html": [
       "Tracking run with wandb version 0.15.8"
      ],
      "text/plain": [
       "<IPython.core.display.HTML object>"
      ]
     },
     "metadata": {},
     "output_type": "display_data"
    },
    {
     "data": {
      "text/html": [
       "Run data is saved locally in <code>y:\\coskun-lab\\Thomas\\23_PLA_revision\\notebooks\\wandb\\run-20240122_125750-2wb3aa5q</code>"
      ],
      "text/plain": [
       "<IPython.core.display.HTML object>"
      ]
     },
     "metadata": {},
     "output_type": "display_data"
    },
    {
     "data": {
      "text/html": [
       "Syncing run <strong><a href='https://wandb.ai/thoomas/PLA_01122024_13PPI_2D3D_fusion_Kfold/runs/2wb3aa5q' target=\"_blank\">GraphConv_2_16_onehot_1</a></strong> to <a href='https://wandb.ai/thoomas/PLA_01122024_13PPI_2D3D_fusion_Kfold' target=\"_blank\">Weights & Biases</a> (<a href='https://wandb.me/run' target=\"_blank\">docs</a>)<br/>"
      ],
      "text/plain": [
       "<IPython.core.display.HTML object>"
      ]
     },
     "metadata": {},
     "output_type": "display_data"
    },
    {
     "data": {
      "text/html": [
       " View project at <a href='https://wandb.ai/thoomas/PLA_01122024_13PPI_2D3D_fusion_Kfold' target=\"_blank\">https://wandb.ai/thoomas/PLA_01122024_13PPI_2D3D_fusion_Kfold</a>"
      ],
      "text/plain": [
       "<IPython.core.display.HTML object>"
      ]
     },
     "metadata": {},
     "output_type": "display_data"
    },
    {
     "data": {
      "text/html": [
       " View run at <a href='https://wandb.ai/thoomas/PLA_01122024_13PPI_2D3D_fusion_Kfold/runs/2wb3aa5q' target=\"_blank\">https://wandb.ai/thoomas/PLA_01122024_13PPI_2D3D_fusion_Kfold/runs/2wb3aa5q</a>"
      ],
      "text/plain": [
       "<IPython.core.display.HTML object>"
      ]
     },
     "metadata": {},
     "output_type": "display_data"
    },
    {
     "name": "stderr",
     "output_type": "stream",
     "text": [
      "Global seed set to 42\n",
      "GPU available: True (cuda), used: True\n",
      "TPU available: False, using: 0 TPU cores\n",
      "IPU available: False, using: 0 IPUs\n",
      "HPU available: False, using: 0 HPUs\n",
      "Global seed set to 42\n",
      "c:\\Users\\thu71\\AppData\\Local\\anaconda3\\envs\\scanpy\\Lib\\site-packages\\lightning\\pytorch\\callbacks\\model_checkpoint.py:617: UserWarning: Checkpoint directory \\\\bme-retromaster.ad.gatech.edu\\labs5\\coskun-lab\\Thomas\\23_PLA_revision\\data\\13cyc_3D\\saved_models_fusion\\13PPI_2D3D_fusion\\Graph_GNNs_Kfold\\GraphConv_2_16_concat_1\\attention\\GraphLevelGraphConv exists and is not empty.\n",
      "  rank_zero_warn(f\"Checkpoint directory {dirpath} exists and is not empty.\")\n",
      "LOCAL_RANK: 0 - CUDA_VISIBLE_DEVICES: [0]\n",
      "\n",
      "   | Name        | Type             | Params\n",
      "--------------------------------------------------\n",
      "0  | x_embedding | Identity         | 0     \n",
      "1  | model2D     | GNNModel         | 992   \n",
      "2  | model3D     | GNNModel         | 992   \n",
      "3  | head        | Sequential       | 562   \n",
      "4  | loss_module | CrossEntropyLoss | 0     \n",
      "5  | train_acc   | BinaryAccuracy   | 0     \n",
      "6  | train_auroc | BinaryAUROC      | 0     \n",
      "7  | train_f1    | BinaryF1Score    | 0     \n",
      "8  | valid_acc   | BinaryAccuracy   | 0     \n",
      "9  | valid_auroc | BinaryAUROC      | 0     \n",
      "10 | valid_f1    | BinaryF1Score    | 0     \n",
      "11 | pool2D      | GlobalAttention  | 17    \n",
      "12 | pool3D      | GlobalAttention  | 17    \n",
      "--------------------------------------------------\n",
      "2.6 K     Trainable params\n",
      "0         Non-trainable params\n",
      "2.6 K     Total params\n",
      "0.010     Total estimated model params size (MB)\n"
     ]
    },
    {
     "name": "stdout",
     "output_type": "stream",
     "text": [
      "Using GNN\n"
     ]
    },
    {
     "name": "stderr",
     "output_type": "stream",
     "text": [
      "`Trainer.fit` stopped: `max_epochs=65` reached.\n"
     ]
    },
    {
     "data": {
      "text/html": [
       "Waiting for W&B process to finish... <strong style=\"color:green\">(success).</strong>"
      ],
      "text/plain": [
       "<IPython.core.display.HTML object>"
      ]
     },
     "metadata": {},
     "output_type": "display_data"
    },
    {
     "data": {
      "text/html": [
       "<style>\n",
       "    table.wandb td:nth-child(1) { padding: 0 10px; text-align: left ; width: auto;} td:nth-child(2) {text-align: left ; width: 100%}\n",
       "    .wandb-row { display: flex; flex-direction: row; flex-wrap: wrap; justify-content: flex-start; width: 100% }\n",
       "    .wandb-col { display: flex; flex-direction: column; flex-basis: 100%; flex: 1; padding: 10px; }\n",
       "    </style>\n",
       "<div class=\"wandb-row\"><div class=\"wandb-col\"><h3>Run history:</h3><br/><table class=\"wandb\"><tr><td>epoch</td><td>▁▁▁▂▂▂▂▂▂▃▃▃▃▃▄▄▄▄▄▄▅▅▅▅▅▅▆▆▆▆▆▇▇▇▇▇▇███</td></tr><tr><td>lr-Adam</td><td>▁▁▁▁▁▁▁▁▁▁▁▁▁▁▁▁▁▁▁▁▁▁▁▁▁▁▁▁▁▁▁▁▁▁▁▁▁▁▁▁</td></tr><tr><td>train_acc</td><td>▁▅▆▆▆▆▆▆▇▇▇▇▇▇▇▇▇▇▇▇▇▇█▇▇▇▇█▇█▇█████████</td></tr><tr><td>train_auc</td><td>▁▄▅▆▆▆▆▆▇▇▆▇▇▇▇▇▇▇▇▇█▇█▇█▇██▇███████████</td></tr><tr><td>train_f1</td><td>▁▃▄▅▅▆▆▆▆▆▆▇▇▇▇▇▇▇▇▇▇▇█▇▇▇▇██▇▇███▇█▇███</td></tr><tr><td>train_loss_epoch</td><td>█▅▄▄▃▃▃▃▃▃▃▂▂▂▂▂▂▂▂▂▂▂▁▂▂▂▂▁▂▂▂▁▁▁▂▁▁▁▁▁</td></tr><tr><td>train_loss_step</td><td>█▄▅▄▅▆▅▃▂▅▃▃▃▄▄▁▃▃▃▄▄▆▃▄▅▃▃▁▄▄▂▄▃▃▂▃▃▄▂▃</td></tr><tr><td>trainer/global_step</td><td>▁▁▁▁▁▁▁▁▁▃▃▃▃▃▄▂▂▂▂▂▂▅▅▅▅▆▆▂▂▂▂▃▃▇▇▇███▃</td></tr><tr><td>val_acc</td><td>▃▁▄▃▄▄▅▃▅▄▆▅▄▅▅▆▅▆▆▇▇▆▆▆▆▅▂▆▇▇▄▇██▅▇▄▇▆▄</td></tr><tr><td>val_auc</td><td>▂▁▃▃▃▃▄▄▄▅▆▅▅▆▆▆▅▅▆▆▆▆▆▆▆▆▇▆▇▇▇▇▇▇▇███▇█</td></tr><tr><td>val_f1</td><td>▅▄▃▅▄▃▅▅▆▁▆▆▆▆▆▆▆▅▆▇▇▆▆▅▇▅▄▆▆▇▆▆▇█▆▆▆█▆▆</td></tr><tr><td>val_loss_epoch</td><td>█▄▄▃▃▄▃▃▃▅▂▂▃▂▃▂▂▂▂▂▂▂▂▃▂▂▃▂▂▂▃▂▁▁▂▁▃▁▁▂</td></tr><tr><td>val_loss_step</td><td>▇▃▅▂▅▆▅▂▃█▃▃▂▄▃▅▃▅▅▄▄▄▃▅▃▄▂▄▄▄▂▄▄▃▃▄▁▃▃▂</td></tr></table><br/></div><div class=\"wandb-col\"><h3>Run summary:</h3><br/><table class=\"wandb\"><tr><td>epoch</td><td>64</td></tr><tr><td>lr-Adam</td><td>0.005</td></tr><tr><td>train_acc</td><td>0.8583</td></tr><tr><td>train_auc</td><td>0.90302</td></tr><tr><td>train_f1</td><td>0.84319</td></tr><tr><td>train_loss_epoch</td><td>0.45446</td></tr><tr><td>train_loss_step</td><td>0.40359</td></tr><tr><td>trainer/global_step</td><td>909</td></tr><tr><td>val_acc</td><td>0.7703</td></tr><tr><td>val_auc</td><td>0.87307</td></tr><tr><td>val_f1</td><td>0.76029</td></tr><tr><td>val_loss_epoch</td><td>0.50867</td></tr><tr><td>val_loss_step</td><td>0.39812</td></tr></table><br/></div></div>"
      ],
      "text/plain": [
       "<IPython.core.display.HTML object>"
      ]
     },
     "metadata": {},
     "output_type": "display_data"
    },
    {
     "data": {
      "text/html": [
       " View run <strong style=\"color:#cdcd00\">GraphConv_2_16_onehot_1</strong> at: <a href='https://wandb.ai/thoomas/PLA_01122024_13PPI_2D3D_fusion_Kfold/runs/2wb3aa5q' target=\"_blank\">https://wandb.ai/thoomas/PLA_01122024_13PPI_2D3D_fusion_Kfold/runs/2wb3aa5q</a><br/>Synced 6 W&B file(s), 0 media file(s), 0 artifact file(s) and 0 other file(s)"
      ],
      "text/plain": [
       "<IPython.core.display.HTML object>"
      ]
     },
     "metadata": {},
     "output_type": "display_data"
    },
    {
     "data": {
      "text/html": [
       "Find logs at: <code>.\\wandb\\run-20240122_125750-2wb3aa5q\\logs</code>"
      ],
      "text/plain": [
       "<IPython.core.display.HTML object>"
      ]
     },
     "metadata": {},
     "output_type": "display_data"
    },
    {
     "data": {
      "application/vnd.jupyter.widget-view+json": {
       "model_id": "5379d7747ff34282b21738293eaf69f2",
       "version_major": 2,
       "version_minor": 0
      },
      "text/plain": [
       "VBox(children=(Label(value='Waiting for wandb.init()...\\r'), FloatProgress(value=0.016916666666656966, max=1.0…"
      ]
     },
     "metadata": {},
     "output_type": "display_data"
    },
    {
     "data": {
      "text/html": [
       "wandb version 0.16.2 is available!  To upgrade, please run:\n",
       " $ pip install wandb --upgrade"
      ],
      "text/plain": [
       "<IPython.core.display.HTML object>"
      ]
     },
     "metadata": {},
     "output_type": "display_data"
    },
    {
     "data": {
      "text/html": [
       "Tracking run with wandb version 0.15.8"
      ],
      "text/plain": [
       "<IPython.core.display.HTML object>"
      ]
     },
     "metadata": {},
     "output_type": "display_data"
    },
    {
     "data": {
      "text/html": [
       "Run data is saved locally in <code>y:\\coskun-lab\\Thomas\\23_PLA_revision\\notebooks\\wandb\\run-20240122_134851-uexq30e3</code>"
      ],
      "text/plain": [
       "<IPython.core.display.HTML object>"
      ]
     },
     "metadata": {},
     "output_type": "display_data"
    },
    {
     "data": {
      "text/html": [
       "Syncing run <strong><a href='https://wandb.ai/thoomas/PLA_01122024_13PPI_2D3D_fusion_Kfold/runs/uexq30e3' target=\"_blank\">GCN_2_64_onehot_1</a></strong> to <a href='https://wandb.ai/thoomas/PLA_01122024_13PPI_2D3D_fusion_Kfold' target=\"_blank\">Weights & Biases</a> (<a href='https://wandb.me/run' target=\"_blank\">docs</a>)<br/>"
      ],
      "text/plain": [
       "<IPython.core.display.HTML object>"
      ]
     },
     "metadata": {},
     "output_type": "display_data"
    },
    {
     "data": {
      "text/html": [
       " View project at <a href='https://wandb.ai/thoomas/PLA_01122024_13PPI_2D3D_fusion_Kfold' target=\"_blank\">https://wandb.ai/thoomas/PLA_01122024_13PPI_2D3D_fusion_Kfold</a>"
      ],
      "text/plain": [
       "<IPython.core.display.HTML object>"
      ]
     },
     "metadata": {},
     "output_type": "display_data"
    },
    {
     "data": {
      "text/html": [
       " View run at <a href='https://wandb.ai/thoomas/PLA_01122024_13PPI_2D3D_fusion_Kfold/runs/uexq30e3' target=\"_blank\">https://wandb.ai/thoomas/PLA_01122024_13PPI_2D3D_fusion_Kfold/runs/uexq30e3</a>"
      ],
      "text/plain": [
       "<IPython.core.display.HTML object>"
      ]
     },
     "metadata": {},
     "output_type": "display_data"
    },
    {
     "name": "stderr",
     "output_type": "stream",
     "text": [
      "Global seed set to 42\n",
      "GPU available: True (cuda), used: True\n",
      "TPU available: False, using: 0 TPU cores\n",
      "IPU available: False, using: 0 IPUs\n",
      "HPU available: False, using: 0 HPUs\n",
      "Global seed set to 42\n",
      "c:\\Users\\thu71\\AppData\\Local\\anaconda3\\envs\\scanpy\\Lib\\site-packages\\lightning\\pytorch\\callbacks\\model_checkpoint.py:617: UserWarning: Checkpoint directory \\\\bme-retromaster.ad.gatech.edu\\labs5\\coskun-lab\\Thomas\\23_PLA_revision\\data\\13cyc_3D\\saved_models_fusion\\13PPI_2D3D_fusion\\Graph_GNNs_Kfold\\GCN_2_64_concat_1\\attention2\\GraphLevelGCN exists and is not empty.\n",
      "  rank_zero_warn(f\"Checkpoint directory {dirpath} exists and is not empty.\")\n",
      "LOCAL_RANK: 0 - CUDA_VISIBLE_DEVICES: [0]\n",
      "\n",
      "   | Name        | Type             | Params\n",
      "--------------------------------------------------\n",
      "0  | x_embedding | Identity         | 0     \n",
      "1  | model2D     | GNNModel         | 5.2 K \n",
      "2  | model3D     | GNNModel         | 5.2 K \n",
      "3  | head        | Sequential       | 8.4 K \n",
      "4  | loss_module | CrossEntropyLoss | 0     \n",
      "5  | train_acc   | BinaryAccuracy   | 0     \n",
      "6  | train_auroc | BinaryAUROC      | 0     \n",
      "7  | train_f1    | BinaryF1Score    | 0     \n",
      "8  | valid_acc   | BinaryAccuracy   | 0     \n",
      "9  | valid_auroc | BinaryAUROC      | 0     \n",
      "10 | valid_f1    | BinaryF1Score    | 0     \n",
      "11 | pool2D      | Attention_module | 4.2 K \n",
      "12 | pool3D      | Attention_module | 4.2 K \n",
      "--------------------------------------------------\n",
      "27.1 K    Trainable params\n",
      "0         Non-trainable params\n",
      "27.1 K    Total params\n",
      "0.109     Total estimated model params size (MB)\n"
     ]
    },
    {
     "name": "stdout",
     "output_type": "stream",
     "text": [
      "Using GNN\n"
     ]
    },
    {
     "name": "stderr",
     "output_type": "stream",
     "text": [
      "`Trainer.fit` stopped: `max_epochs=65` reached.\n"
     ]
    },
    {
     "data": {
      "text/html": [
       "Waiting for W&B process to finish... <strong style=\"color:green\">(success).</strong>"
      ],
      "text/plain": [
       "<IPython.core.display.HTML object>"
      ]
     },
     "metadata": {},
     "output_type": "display_data"
    },
    {
     "data": {
      "text/html": [
       "<style>\n",
       "    table.wandb td:nth-child(1) { padding: 0 10px; text-align: left ; width: auto;} td:nth-child(2) {text-align: left ; width: 100%}\n",
       "    .wandb-row { display: flex; flex-direction: row; flex-wrap: wrap; justify-content: flex-start; width: 100% }\n",
       "    .wandb-col { display: flex; flex-direction: column; flex-basis: 100%; flex: 1; padding: 10px; }\n",
       "    </style>\n",
       "<div class=\"wandb-row\"><div class=\"wandb-col\"><h3>Run history:</h3><br/><table class=\"wandb\"><tr><td>epoch</td><td>▁▁▁▂▂▂▂▂▂▃▃▃▃▃▄▄▄▄▄▄▅▅▅▅▅▅▆▆▆▆▆▇▇▇▇▇▇███</td></tr><tr><td>lr-Adam</td><td>▁▁▁▁▁▁▁▁▁▁▁▁▁▁▁▁▁▁▁▁▁▁▁▁▁▁▁▁▁▁▁▁▁▁▁▁▁▁▁▁</td></tr><tr><td>train_acc</td><td>▁▃▄▅▆▆▆▆▇▆▆▇▇▇▇▇▇▇▇█▇▆▇▇▇▇█▇▇▆▇█▇█▇▇▇█▇▇</td></tr><tr><td>train_auc</td><td>▁▄▄▆▆▆▆▇▇▇▇▇▇▇▇▇▇▇▇▇▇▆▇██▇█▇█▇██▇█▇▇▇█▇█</td></tr><tr><td>train_f1</td><td>▁▅▅▆▆▇▆▆▇▇▇▇▇▇▇▇▇▇▇▇▇▆▇▇▇▇█▇█▆▇█▇█▇▇▇█▇█</td></tr><tr><td>train_loss_epoch</td><td>█▅▅▄▃▃▃▃▂▂▂▂▂▂▂▂▂▂▂▂▂▃▂▁▁▁▁▂▁▂▂▁▂▁▂▁▁▁▂▁</td></tr><tr><td>train_loss_step</td><td>▅▆▅▆▇▇▃▆▆▄▅▅▇▄▃▅▅▅█▅▁▄▆▄▅▄▅▅▄▇▅▄▇▂▄▄▃▄▆▄</td></tr><tr><td>trainer/global_step</td><td>▁▁▁▁▁▁▁▁▁▃▃▃▃▃▄▂▂▂▂▂▂▅▅▅▅▆▆▂▂▂▂▃▃▇▇▇███▃</td></tr><tr><td>val_acc</td><td>▁▄▅▄▇▆▆▇▇▆▂▆▇▇▇▇▆▆█▅▇▇▆▄▇▇█▅▇▇▇▇▇▅▇▄▇▇▇▇</td></tr><tr><td>val_auc</td><td>▁▃▄▅▆▆▅▇▇▇▆▆█▆▆▇▇▆█▆▇█▇▇██▇▇▇▇██▇▅▇▇▇▇▇█</td></tr><tr><td>val_f1</td><td>▁▅▇▅▇▇▇█▇▇▆▇██▇▇▇▇█▇▇▇█▇███▇▇▇███▇█▇▇▇██</td></tr><tr><td>val_loss_epoch</td><td>█▅▃▅▂▂▃▂▂▂▄▂▁▂▃▂▂▂▂▃▂▂▂▃▁▁▂▃▂▂▁▂▂▃▂▃▂▂▁▁</td></tr><tr><td>val_loss_step</td><td>█▅▂▇▃▃▄▃▄▃▁▂▃▃▄▄▂▃▄▂▄▄▂▁▂▂▄▂▄▃▂▂▃▂▃▁▃▅▃▃</td></tr></table><br/></div><div class=\"wandb-col\"><h3>Run summary:</h3><br/><table class=\"wandb\"><tr><td>epoch</td><td>64</td></tr><tr><td>lr-Adam</td><td>0.005</td></tr><tr><td>train_acc</td><td>0.84959</td></tr><tr><td>train_auc</td><td>0.91307</td></tr><tr><td>train_f1</td><td>0.84022</td></tr><tr><td>train_loss_epoch</td><td>0.45726</td></tr><tr><td>train_loss_step</td><td>0.45197</td></tr><tr><td>trainer/global_step</td><td>909</td></tr><tr><td>val_acc</td><td>0.82831</td></tr><tr><td>val_auc</td><td>0.90664</td></tr><tr><td>val_f1</td><td>0.79096</td></tr><tr><td>val_loss_epoch</td><td>0.47388</td></tr><tr><td>val_loss_step</td><td>0.48079</td></tr></table><br/></div></div>"
      ],
      "text/plain": [
       "<IPython.core.display.HTML object>"
      ]
     },
     "metadata": {},
     "output_type": "display_data"
    },
    {
     "data": {
      "text/html": [
       " View run <strong style=\"color:#cdcd00\">GCN_2_64_onehot_1</strong> at: <a href='https://wandb.ai/thoomas/PLA_01122024_13PPI_2D3D_fusion_Kfold/runs/uexq30e3' target=\"_blank\">https://wandb.ai/thoomas/PLA_01122024_13PPI_2D3D_fusion_Kfold/runs/uexq30e3</a><br/>Synced 6 W&B file(s), 0 media file(s), 0 artifact file(s) and 0 other file(s)"
      ],
      "text/plain": [
       "<IPython.core.display.HTML object>"
      ]
     },
     "metadata": {},
     "output_type": "display_data"
    },
    {
     "data": {
      "text/html": [
       "Find logs at: <code>.\\wandb\\run-20240122_134851-uexq30e3\\logs</code>"
      ],
      "text/plain": [
       "<IPython.core.display.HTML object>"
      ]
     },
     "metadata": {},
     "output_type": "display_data"
    },
    {
     "data": {
      "application/vnd.jupyter.widget-view+json": {
       "model_id": "a56fc31408cc4c3a9d5f976313b98681",
       "version_major": 2,
       "version_minor": 0
      },
      "text/plain": [
       "VBox(children=(Label(value='Waiting for wandb.init()...\\r'), FloatProgress(value=0.016933333333327028, max=1.0…"
      ]
     },
     "metadata": {},
     "output_type": "display_data"
    },
    {
     "data": {
      "text/html": [
       "wandb version 0.16.2 is available!  To upgrade, please run:\n",
       " $ pip install wandb --upgrade"
      ],
      "text/plain": [
       "<IPython.core.display.HTML object>"
      ]
     },
     "metadata": {},
     "output_type": "display_data"
    },
    {
     "data": {
      "text/html": [
       "Tracking run with wandb version 0.15.8"
      ],
      "text/plain": [
       "<IPython.core.display.HTML object>"
      ]
     },
     "metadata": {},
     "output_type": "display_data"
    },
    {
     "data": {
      "text/html": [
       "Run data is saved locally in <code>y:\\coskun-lab\\Thomas\\23_PLA_revision\\notebooks\\wandb\\run-20240122_143944-06g0jot9</code>"
      ],
      "text/plain": [
       "<IPython.core.display.HTML object>"
      ]
     },
     "metadata": {},
     "output_type": "display_data"
    },
    {
     "data": {
      "text/html": [
       "Syncing run <strong><a href='https://wandb.ai/thoomas/PLA_01122024_13PPI_2D3D_fusion_Kfold/runs/06g0jot9' target=\"_blank\">GAT_3_64_onehot_1</a></strong> to <a href='https://wandb.ai/thoomas/PLA_01122024_13PPI_2D3D_fusion_Kfold' target=\"_blank\">Weights & Biases</a> (<a href='https://wandb.me/run' target=\"_blank\">docs</a>)<br/>"
      ],
      "text/plain": [
       "<IPython.core.display.HTML object>"
      ]
     },
     "metadata": {},
     "output_type": "display_data"
    },
    {
     "data": {
      "text/html": [
       " View project at <a href='https://wandb.ai/thoomas/PLA_01122024_13PPI_2D3D_fusion_Kfold' target=\"_blank\">https://wandb.ai/thoomas/PLA_01122024_13PPI_2D3D_fusion_Kfold</a>"
      ],
      "text/plain": [
       "<IPython.core.display.HTML object>"
      ]
     },
     "metadata": {},
     "output_type": "display_data"
    },
    {
     "data": {
      "text/html": [
       " View run at <a href='https://wandb.ai/thoomas/PLA_01122024_13PPI_2D3D_fusion_Kfold/runs/06g0jot9' target=\"_blank\">https://wandb.ai/thoomas/PLA_01122024_13PPI_2D3D_fusion_Kfold/runs/06g0jot9</a>"
      ],
      "text/plain": [
       "<IPython.core.display.HTML object>"
      ]
     },
     "metadata": {},
     "output_type": "display_data"
    },
    {
     "name": "stderr",
     "output_type": "stream",
     "text": [
      "Global seed set to 42\n",
      "GPU available: True (cuda), used: True\n",
      "TPU available: False, using: 0 TPU cores\n",
      "IPU available: False, using: 0 IPUs\n",
      "HPU available: False, using: 0 HPUs\n",
      "Global seed set to 42\n",
      "c:\\Users\\thu71\\AppData\\Local\\anaconda3\\envs\\scanpy\\Lib\\site-packages\\lightning\\pytorch\\callbacks\\model_checkpoint.py:617: UserWarning: Checkpoint directory \\\\bme-retromaster.ad.gatech.edu\\labs5\\coskun-lab\\Thomas\\23_PLA_revision\\data\\13cyc_3D\\saved_models_fusion\\13PPI_2D3D_fusion\\Graph_GNNs_Kfold\\GAT_3_64_concat_1\\attention\\GraphLevelGAT exists and is not empty.\n",
      "  rank_zero_warn(f\"Checkpoint directory {dirpath} exists and is not empty.\")\n",
      "LOCAL_RANK: 0 - CUDA_VISIBLE_DEVICES: [0]\n",
      "\n",
      "   | Name        | Type             | Params\n",
      "--------------------------------------------------\n",
      "0  | x_embedding | Identity         | 0     \n",
      "1  | model2D     | GAT              | 44.6 K\n",
      "2  | model3D     | GAT              | 44.6 K\n",
      "3  | head        | Sequential       | 8.4 K \n",
      "4  | loss_module | CrossEntropyLoss | 0     \n",
      "5  | train_acc   | BinaryAccuracy   | 0     \n",
      "6  | train_auroc | BinaryAUROC      | 0     \n",
      "7  | train_f1    | BinaryF1Score    | 0     \n",
      "8  | valid_acc   | BinaryAccuracy   | 0     \n",
      "9  | valid_auroc | BinaryAUROC      | 0     \n",
      "10 | valid_f1    | BinaryF1Score    | 0     \n",
      "11 | pool2D      | GlobalAttention  | 65    \n",
      "12 | pool3D      | GlobalAttention  | 65    \n",
      "--------------------------------------------------\n",
      "97.7 K    Trainable params\n",
      "0         Non-trainable params\n",
      "97.7 K    Total params\n",
      "0.391     Total estimated model params size (MB)\n"
     ]
    },
    {
     "name": "stdout",
     "output_type": "stream",
     "text": [
      "Using GAT\n"
     ]
    },
    {
     "name": "stderr",
     "output_type": "stream",
     "text": [
      "`Trainer.fit` stopped: `max_epochs=65` reached.\n"
     ]
    },
    {
     "data": {
      "text/html": [
       "Waiting for W&B process to finish... <strong style=\"color:green\">(success).</strong>"
      ],
      "text/plain": [
       "<IPython.core.display.HTML object>"
      ]
     },
     "metadata": {},
     "output_type": "display_data"
    },
    {
     "data": {
      "text/html": [
       "<style>\n",
       "    table.wandb td:nth-child(1) { padding: 0 10px; text-align: left ; width: auto;} td:nth-child(2) {text-align: left ; width: 100%}\n",
       "    .wandb-row { display: flex; flex-direction: row; flex-wrap: wrap; justify-content: flex-start; width: 100% }\n",
       "    .wandb-col { display: flex; flex-direction: column; flex-basis: 100%; flex: 1; padding: 10px; }\n",
       "    </style>\n",
       "<div class=\"wandb-row\"><div class=\"wandb-col\"><h3>Run history:</h3><br/><table class=\"wandb\"><tr><td>epoch</td><td>▁▁▁▂▂▂▂▂▂▃▃▃▃▃▄▄▄▄▄▄▅▅▅▅▅▅▆▆▆▆▆▇▇▇▇▇▇███</td></tr><tr><td>lr-Adam</td><td>▁▁▁▁▁▁▁▁▁▁▁▁▁▁▁▁▁▁▁▁▁▁▁▁▁▁▁▁▁▁▁▁▁▁▁▁▁▁▁▁</td></tr><tr><td>train_acc</td><td>▁▄▆▆▇▇▆▇▆▆▇▇▇▇▇▆▇▇▇██▇▇▇██▇██▇█▇████████</td></tr><tr><td>train_auc</td><td>▁▄▆▆▇▇▇▇▇▇▇█▇▇▇▇▇▇▇▇▇▇▇▇██▇█▇▇█▇███▇████</td></tr><tr><td>train_f1</td><td>▁▅▆▆▇▇▇▇▇▇▇█▇▇▇▇▇▇▇██▇▇███▇██▇█▇████████</td></tr><tr><td>train_loss_epoch</td><td>█▅▃▃▃▃▃▂▃▂▂▂▂▂▂▃▂▂▂▂▂▂▂▂▂▁▂▁▁▂▁▂▁▁▁▁▁▁▁▂</td></tr><tr><td>train_loss_step</td><td>█▆▅▆▅▃▂▃▅▃▄▅▆▃▃▆▃▄▄▄▅▄▆▃▇▄▅▃▂▃▁▆▄▃▄▅▆▃▄▃</td></tr><tr><td>trainer/global_step</td><td>▁▁▁▁▁▁▁▁▁▃▃▃▃▃▄▂▂▂▂▂▂▅▅▅▅▆▆▂▂▂▂▃▃▇▇▇███▃</td></tr><tr><td>val_acc</td><td>▁▁▆▆▇█▅▆▆▇▇▇▆▇▇▆▇▇▆█▇▆▇▆▆▇▅▆▇▇▇▇▇▇▇▇▇▇▄█</td></tr><tr><td>val_auc</td><td>▁▂▂▂▅▅▅▄▆▆▆▆▆▆▆▆▆▅▆▆▆▅▆▇▆▇▅▇▇█▇██▇██████</td></tr><tr><td>val_f1</td><td>▁▁▅▅▇▇▅▆▆▇▇▇▅▇█▆▇▇▆█▇▆▆▆▆▇▅▇██▇▇█▇▇▇▇█▄█</td></tr><tr><td>val_loss_epoch</td><td>▆█▃▃▂▁▄▃▃▂▂▂▃▂▁▃▂▂▃▁▂▃▂▃▃▂▄▂▂▁▂▂▁▂▂▂▂▁▆▁</td></tr><tr><td>val_loss_step</td><td>█▁▅▅▆▆▂▃▂▅▅▅▂▅▅▂▄▇▃▅▅▄▅▃▃▃▂▃▄▃▃▄▄▃▃▅▄▆▁█</td></tr></table><br/></div><div class=\"wandb-col\"><h3>Run summary:</h3><br/><table class=\"wandb\"><tr><td>epoch</td><td>64</td></tr><tr><td>lr-Adam</td><td>0.005</td></tr><tr><td>train_acc</td><td>0.83159</td></tr><tr><td>train_auc</td><td>0.89102</td></tr><tr><td>train_f1</td><td>0.82718</td></tr><tr><td>train_loss_epoch</td><td>0.48073</td></tr><tr><td>train_loss_step</td><td>0.51239</td></tr><tr><td>trainer/global_step</td><td>909</td></tr><tr><td>val_acc</td><td>0.81206</td></tr><tr><td>val_auc</td><td>0.88395</td></tr><tr><td>val_f1</td><td>0.78049</td></tr><tr><td>val_loss_epoch</td><td>0.48743</td></tr><tr><td>val_loss_step</td><td>0.46621</td></tr></table><br/></div></div>"
      ],
      "text/plain": [
       "<IPython.core.display.HTML object>"
      ]
     },
     "metadata": {},
     "output_type": "display_data"
    },
    {
     "data": {
      "text/html": [
       " View run <strong style=\"color:#cdcd00\">GAT_3_64_onehot_1</strong> at: <a href='https://wandb.ai/thoomas/PLA_01122024_13PPI_2D3D_fusion_Kfold/runs/06g0jot9' target=\"_blank\">https://wandb.ai/thoomas/PLA_01122024_13PPI_2D3D_fusion_Kfold/runs/06g0jot9</a><br/>Synced 6 W&B file(s), 0 media file(s), 0 artifact file(s) and 0 other file(s)"
      ],
      "text/plain": [
       "<IPython.core.display.HTML object>"
      ]
     },
     "metadata": {},
     "output_type": "display_data"
    },
    {
     "data": {
      "text/html": [
       "Find logs at: <code>.\\wandb\\run-20240122_143944-06g0jot9\\logs</code>"
      ],
      "text/plain": [
       "<IPython.core.display.HTML object>"
      ]
     },
     "metadata": {},
     "output_type": "display_data"
    },
    {
     "data": {
      "application/vnd.jupyter.widget-view+json": {
       "model_id": "e8df0c1fd475431f9f70541af1bb6d32",
       "version_major": 2,
       "version_minor": 0
      },
      "text/plain": [
       "VBox(children=(Label(value='Waiting for wandb.init()...\\r'), FloatProgress(value=0.016666666666666666, max=1.0…"
      ]
     },
     "metadata": {},
     "output_type": "display_data"
    },
    {
     "data": {
      "text/html": [
       "wandb version 0.16.2 is available!  To upgrade, please run:\n",
       " $ pip install wandb --upgrade"
      ],
      "text/plain": [
       "<IPython.core.display.HTML object>"
      ]
     },
     "metadata": {},
     "output_type": "display_data"
    },
    {
     "data": {
      "text/html": [
       "Tracking run with wandb version 0.15.8"
      ],
      "text/plain": [
       "<IPython.core.display.HTML object>"
      ]
     },
     "metadata": {},
     "output_type": "display_data"
    },
    {
     "data": {
      "text/html": [
       "Run data is saved locally in <code>y:\\coskun-lab\\Thomas\\23_PLA_revision\\notebooks\\wandb\\run-20240122_153100-y9muljah</code>"
      ],
      "text/plain": [
       "<IPython.core.display.HTML object>"
      ]
     },
     "metadata": {},
     "output_type": "display_data"
    },
    {
     "data": {
      "text/html": [
       "Syncing run <strong><a href='https://wandb.ai/thoomas/PLA_01122024_13PPI_2D3D_fusion_Kfold/runs/y9muljah' target=\"_blank\">GINConv_3_16_onehot_1</a></strong> to <a href='https://wandb.ai/thoomas/PLA_01122024_13PPI_2D3D_fusion_Kfold' target=\"_blank\">Weights & Biases</a> (<a href='https://wandb.me/run' target=\"_blank\">docs</a>)<br/>"
      ],
      "text/plain": [
       "<IPython.core.display.HTML object>"
      ]
     },
     "metadata": {},
     "output_type": "display_data"
    },
    {
     "data": {
      "text/html": [
       " View project at <a href='https://wandb.ai/thoomas/PLA_01122024_13PPI_2D3D_fusion_Kfold' target=\"_blank\">https://wandb.ai/thoomas/PLA_01122024_13PPI_2D3D_fusion_Kfold</a>"
      ],
      "text/plain": [
       "<IPython.core.display.HTML object>"
      ]
     },
     "metadata": {},
     "output_type": "display_data"
    },
    {
     "data": {
      "text/html": [
       " View run at <a href='https://wandb.ai/thoomas/PLA_01122024_13PPI_2D3D_fusion_Kfold/runs/y9muljah' target=\"_blank\">https://wandb.ai/thoomas/PLA_01122024_13PPI_2D3D_fusion_Kfold/runs/y9muljah</a>"
      ],
      "text/plain": [
       "<IPython.core.display.HTML object>"
      ]
     },
     "metadata": {},
     "output_type": "display_data"
    },
    {
     "name": "stderr",
     "output_type": "stream",
     "text": [
      "Global seed set to 42\n",
      "GPU available: True (cuda), used: True\n",
      "TPU available: False, using: 0 TPU cores\n",
      "IPU available: False, using: 0 IPUs\n",
      "HPU available: False, using: 0 HPUs\n",
      "Global seed set to 42\n",
      "c:\\Users\\thu71\\AppData\\Local\\anaconda3\\envs\\scanpy\\Lib\\site-packages\\lightning\\pytorch\\callbacks\\model_checkpoint.py:617: UserWarning: Checkpoint directory \\\\bme-retromaster.ad.gatech.edu\\labs5\\coskun-lab\\Thomas\\23_PLA_revision\\data\\13cyc_3D\\saved_models_fusion\\13PPI_2D3D_fusion\\Graph_GNNs_Kfold\\GINConv_3_16_concat_1\\mean\\GraphLevelGINConv exists and is not empty.\n",
      "  rank_zero_warn(f\"Checkpoint directory {dirpath} exists and is not empty.\")\n",
      "LOCAL_RANK: 0 - CUDA_VISIBLE_DEVICES: [0]\n",
      "\n",
      "   | Name        | Type             | Params\n",
      "--------------------------------------------------\n",
      "0  | x_embedding | Identity         | 0     \n",
      "1  | model2D     | GIN              | 1.7 K \n",
      "2  | model3D     | GIN              | 1.7 K \n",
      "3  | head        | Sequential       | 562   \n",
      "4  | loss_module | CrossEntropyLoss | 0     \n",
      "5  | train_acc   | BinaryAccuracy   | 0     \n",
      "6  | train_auroc | BinaryAUROC      | 0     \n",
      "7  | train_f1    | BinaryF1Score    | 0     \n",
      "8  | valid_acc   | BinaryAccuracy   | 0     \n",
      "9  | valid_auroc | BinaryAUROC      | 0     \n",
      "10 | valid_f1    | BinaryF1Score    | 0     \n",
      "--------------------------------------------------\n",
      "4.0 K     Trainable params\n",
      "0         Non-trainable params\n",
      "4.0 K     Total params\n",
      "0.016     Total estimated model params size (MB)\n"
     ]
    },
    {
     "name": "stdout",
     "output_type": "stream",
     "text": [
      "GINConv\n"
     ]
    },
    {
     "name": "stderr",
     "output_type": "stream",
     "text": [
      "`Trainer.fit` stopped: `max_epochs=65` reached.\n"
     ]
    },
    {
     "data": {
      "text/html": [
       "Waiting for W&B process to finish... <strong style=\"color:green\">(success).</strong>"
      ],
      "text/plain": [
       "<IPython.core.display.HTML object>"
      ]
     },
     "metadata": {},
     "output_type": "display_data"
    },
    {
     "data": {
      "text/html": [
       "<style>\n",
       "    table.wandb td:nth-child(1) { padding: 0 10px; text-align: left ; width: auto;} td:nth-child(2) {text-align: left ; width: 100%}\n",
       "    .wandb-row { display: flex; flex-direction: row; flex-wrap: wrap; justify-content: flex-start; width: 100% }\n",
       "    .wandb-col { display: flex; flex-direction: column; flex-basis: 100%; flex: 1; padding: 10px; }\n",
       "    </style>\n",
       "<div class=\"wandb-row\"><div class=\"wandb-col\"><h3>Run history:</h3><br/><table class=\"wandb\"><tr><td>epoch</td><td>▁▁▁▂▂▂▂▂▂▃▃▃▃▃▄▄▄▄▄▄▅▅▅▅▅▅▆▆▆▆▆▇▇▇▇▇▇███</td></tr><tr><td>lr-Adam</td><td>▁▁▁▁▁▁▁▁▁▁▁▁▁▁▁▁▁▁▁▁▁▁▁▁▁▁▁▁▁▁▁▁▁▁▁▁▁▁▁▁</td></tr><tr><td>train_acc</td><td>▁▅▆▆▇▇▇▇▇▇▇▇▇▇▇▇█▇▇▇██▇█▇▇█████▇██▇█████</td></tr><tr><td>train_auc</td><td>▁▆▆▆▇▇▇▇▇▇▇▇▇▇▇▇██▇█▇█████████████▇█████</td></tr><tr><td>train_f1</td><td>▁▅▆▅▇▆▆▇▆▇▇▇▇▆▇▇▇▇▇▇██▇▇▇▇██▇██▇▇█▇█████</td></tr><tr><td>train_loss_epoch</td><td>█▄▃▃▂▂▂▂▂▂▂▂▂▂▂▂▂▁▂▂▁▁▁▁▂▂▂▁▁▁▁▂▂▁▂▁▁▁▁▁</td></tr><tr><td>train_loss_step</td><td>█▅▅▇▃▄▄▃▄▄▄▂▆▄▃▅▃▄▂▃▅▄▂▃▅▄▂▁▃▁▄▄▄▂▂▂▄▂▃▃</td></tr><tr><td>trainer/global_step</td><td>▁▁▁▁▁▁▁▁▁▃▃▃▃▃▄▂▂▂▂▂▂▅▅▅▅▆▆▂▂▂▂▃▃▇▇▇███▃</td></tr><tr><td>val_acc</td><td>▁▂▃▃▃▄▄▅▄▅▃▆▅▆▃▅▆▆▆▇▇▆▄▃▅▅▇▆▅▆▅▄▆▆▆▇▆█▇▅</td></tr><tr><td>val_auc</td><td>▁▃▅▅▆▆▆▆▅▆▆▆▇▆█▇▇▇▇▆▇▇▆▆▆▅▆▆▆▇▇▆▇▇▆▇▇▇█▅</td></tr><tr><td>val_f1</td><td>▁▃▄▁▅▃▆▆▂▅▄▅▇▅▆▆▇▇▆▆█▅▅▅▆▅▇▇▆▆▆▅▇▆▆▇▇██▄</td></tr><tr><td>val_loss_epoch</td><td>█▄▃▄▃▃▂▂▄▃▃▂▂▂▃▂▂▁▂▂▂▂▃▃▂▂▂▂▂▂▂▃▂▂▂▂▂▁▁▃</td></tr><tr><td>val_loss_step</td><td>█▅▃▇▂▆▂▃▇▄▄▄▂▄▁▂▂▁▂▂▂▄▃▂▂▃▂▁▁▂▁▄▃▂▃▂▁▂▁▅</td></tr></table><br/></div><div class=\"wandb-col\"><h3>Run summary:</h3><br/><table class=\"wandb\"><tr><td>epoch</td><td>64</td></tr><tr><td>lr-Adam</td><td>0.005</td></tr><tr><td>train_acc</td><td>0.85366</td></tr><tr><td>train_auc</td><td>0.90491</td></tr><tr><td>train_f1</td><td>0.8469</td></tr><tr><td>train_loss_epoch</td><td>0.45475</td></tr><tr><td>train_loss_step</td><td>0.45266</td></tr><tr><td>trainer/global_step</td><td>909</td></tr><tr><td>val_acc</td><td>0.79814</td></tr><tr><td>val_auc</td><td>0.86541</td></tr><tr><td>val_f1</td><td>0.74636</td></tr><tr><td>val_loss_epoch</td><td>0.50819</td></tr><tr><td>val_loss_step</td><td>0.48662</td></tr></table><br/></div></div>"
      ],
      "text/plain": [
       "<IPython.core.display.HTML object>"
      ]
     },
     "metadata": {},
     "output_type": "display_data"
    },
    {
     "data": {
      "text/html": [
       " View run <strong style=\"color:#cdcd00\">GINConv_3_16_onehot_1</strong> at: <a href='https://wandb.ai/thoomas/PLA_01122024_13PPI_2D3D_fusion_Kfold/runs/y9muljah' target=\"_blank\">https://wandb.ai/thoomas/PLA_01122024_13PPI_2D3D_fusion_Kfold/runs/y9muljah</a><br/>Synced 6 W&B file(s), 0 media file(s), 0 artifact file(s) and 0 other file(s)"
      ],
      "text/plain": [
       "<IPython.core.display.HTML object>"
      ]
     },
     "metadata": {},
     "output_type": "display_data"
    },
    {
     "data": {
      "text/html": [
       "Find logs at: <code>.\\wandb\\run-20240122_153100-y9muljah\\logs</code>"
      ],
      "text/plain": [
       "<IPython.core.display.HTML object>"
      ]
     },
     "metadata": {},
     "output_type": "display_data"
    },
    {
     "data": {
      "application/vnd.jupyter.widget-view+json": {
       "model_id": "0dbda048a5cd450f92c0cb737ab276fc",
       "version_major": 2,
       "version_minor": 0
      },
      "text/plain": [
       "VBox(children=(Label(value='Waiting for wandb.init()...\\r'), FloatProgress(value=0.016666666666666666, max=1.0…"
      ]
     },
     "metadata": {},
     "output_type": "display_data"
    },
    {
     "data": {
      "text/html": [
       "wandb version 0.16.2 is available!  To upgrade, please run:\n",
       " $ pip install wandb --upgrade"
      ],
      "text/plain": [
       "<IPython.core.display.HTML object>"
      ]
     },
     "metadata": {},
     "output_type": "display_data"
    },
    {
     "data": {
      "text/html": [
       "Tracking run with wandb version 0.15.8"
      ],
      "text/plain": [
       "<IPython.core.display.HTML object>"
      ]
     },
     "metadata": {},
     "output_type": "display_data"
    },
    {
     "data": {
      "text/html": [
       "Run data is saved locally in <code>y:\\coskun-lab\\Thomas\\23_PLA_revision\\notebooks\\wandb\\run-20240122_162009-1k2hmfg9</code>"
      ],
      "text/plain": [
       "<IPython.core.display.HTML object>"
      ]
     },
     "metadata": {},
     "output_type": "display_data"
    },
    {
     "data": {
      "text/html": [
       "Syncing run <strong><a href='https://wandb.ai/thoomas/PLA_01122024_13PPI_2D3D_fusion_Kfold/runs/1k2hmfg9' target=\"_blank\">MLP_2_64_onehot_2</a></strong> to <a href='https://wandb.ai/thoomas/PLA_01122024_13PPI_2D3D_fusion_Kfold' target=\"_blank\">Weights & Biases</a> (<a href='https://wandb.me/run' target=\"_blank\">docs</a>)<br/>"
      ],
      "text/plain": [
       "<IPython.core.display.HTML object>"
      ]
     },
     "metadata": {},
     "output_type": "display_data"
    },
    {
     "data": {
      "text/html": [
       " View project at <a href='https://wandb.ai/thoomas/PLA_01122024_13PPI_2D3D_fusion_Kfold' target=\"_blank\">https://wandb.ai/thoomas/PLA_01122024_13PPI_2D3D_fusion_Kfold</a>"
      ],
      "text/plain": [
       "<IPython.core.display.HTML object>"
      ]
     },
     "metadata": {},
     "output_type": "display_data"
    },
    {
     "data": {
      "text/html": [
       " View run at <a href='https://wandb.ai/thoomas/PLA_01122024_13PPI_2D3D_fusion_Kfold/runs/1k2hmfg9' target=\"_blank\">https://wandb.ai/thoomas/PLA_01122024_13PPI_2D3D_fusion_Kfold/runs/1k2hmfg9</a>"
      ],
      "text/plain": [
       "<IPython.core.display.HTML object>"
      ]
     },
     "metadata": {},
     "output_type": "display_data"
    },
    {
     "name": "stderr",
     "output_type": "stream",
     "text": [
      "Global seed set to 42\n",
      "GPU available: True (cuda), used: True\n",
      "TPU available: False, using: 0 TPU cores\n",
      "IPU available: False, using: 0 IPUs\n",
      "HPU available: False, using: 0 HPUs\n",
      "Global seed set to 42\n",
      "c:\\Users\\thu71\\AppData\\Local\\anaconda3\\envs\\scanpy\\Lib\\site-packages\\lightning\\pytorch\\callbacks\\model_checkpoint.py:617: UserWarning: Checkpoint directory \\\\bme-retromaster.ad.gatech.edu\\labs5\\coskun-lab\\Thomas\\23_PLA_revision\\data\\13cyc_3D\\saved_models_fusion\\13PPI_2D3D_fusion\\Graph_GNNs_Kfold\\MLP_2_64_concat_2\\attention\\GraphLevelMLP exists and is not empty.\n",
      "  rank_zero_warn(f\"Checkpoint directory {dirpath} exists and is not empty.\")\n",
      "LOCAL_RANK: 0 - CUDA_VISIBLE_DEVICES: [0]\n",
      "\n",
      "   | Name        | Type             | Params\n",
      "--------------------------------------------------\n",
      "0  | x_embedding | Identity         | 0     \n",
      "1  | model2D     | MLPModel         | 5.1 K \n",
      "2  | model3D     | MLPModel         | 5.1 K \n",
      "3  | head        | Sequential       | 8.4 K \n",
      "4  | loss_module | CrossEntropyLoss | 0     \n",
      "5  | train_acc   | BinaryAccuracy   | 0     \n",
      "6  | train_auroc | BinaryAUROC      | 0     \n",
      "7  | train_f1    | BinaryF1Score    | 0     \n",
      "8  | valid_acc   | BinaryAccuracy   | 0     \n",
      "9  | valid_auroc | BinaryAUROC      | 0     \n",
      "10 | valid_f1    | BinaryF1Score    | 0     \n",
      "11 | pool2D      | GlobalAttention  | 65    \n",
      "12 | pool3D      | GlobalAttention  | 65    \n",
      "--------------------------------------------------\n",
      "18.6 K    Trainable params\n",
      "0         Non-trainable params\n",
      "18.6 K    Total params\n",
      "0.075     Total estimated model params size (MB)\n"
     ]
    },
    {
     "name": "stdout",
     "output_type": "stream",
     "text": [
      "Using MLP\n"
     ]
    },
    {
     "name": "stderr",
     "output_type": "stream",
     "text": [
      "`Trainer.fit` stopped: `max_epochs=65` reached.\n"
     ]
    },
    {
     "data": {
      "text/html": [
       "Waiting for W&B process to finish... <strong style=\"color:green\">(success).</strong>"
      ],
      "text/plain": [
       "<IPython.core.display.HTML object>"
      ]
     },
     "metadata": {},
     "output_type": "display_data"
    },
    {
     "data": {
      "text/html": [
       "<style>\n",
       "    table.wandb td:nth-child(1) { padding: 0 10px; text-align: left ; width: auto;} td:nth-child(2) {text-align: left ; width: 100%}\n",
       "    .wandb-row { display: flex; flex-direction: row; flex-wrap: wrap; justify-content: flex-start; width: 100% }\n",
       "    .wandb-col { display: flex; flex-direction: column; flex-basis: 100%; flex: 1; padding: 10px; }\n",
       "    </style>\n",
       "<div class=\"wandb-row\"><div class=\"wandb-col\"><h3>Run history:</h3><br/><table class=\"wandb\"><tr><td>epoch</td><td>▁▁▁▂▂▂▂▂▂▃▃▃▃▃▄▄▄▄▄▄▅▅▅▅▅▅▆▆▆▆▆▇▇▇▇▇▇███</td></tr><tr><td>lr-Adam</td><td>▁▁▁▁▁▁▁▁▁▁▁▁▁▁▁▁▁▁▁▁▁▁▁▁▁▁▁▁▁▁▁▁▁▁▁▁▁▁▁▁</td></tr><tr><td>train_acc</td><td>▁▄▆▇▇▇▇▇▇█▇██▇▇▇▇▇▇██▇▇█▇██▇▇▇▇████▇▇▇█▇</td></tr><tr><td>train_auc</td><td>▁▄▇▇▇███▇█████▇█▇████▇████████▇████▇▇▇██</td></tr><tr><td>train_f1</td><td>▁▃▇▇█▇████████▇██████▇███████████████▇██</td></tr><tr><td>train_loss_epoch</td><td>█▇▃▂▂▂▂▂▂▂▂▂▁▂▂▁▂▂▂▁▁▂▂▂▂▁▁▂▁▁▂▁▁▂▁▂▂▂▂▂</td></tr><tr><td>train_loss_step</td><td>█▅▆▃▅▃▃▁▄▂▃▃▄▃▁▂▂▃▂▂▅▄▅▁▅▃▃▁▃▂▂▄▂▄▃▃▁▄▃▃</td></tr><tr><td>trainer/global_step</td><td>▁▁▁▁▁▁▁▁▁▃▃▃▃▃▄▂▂▂▂▂▂▅▅▅▅▆▆▂▂▂▂▃▃▇▇▇███▃</td></tr><tr><td>val_acc</td><td>▁▅▇▇▇██▇▇█▇▇██▇▇██▇█▇▇█▇█▇██████▇▇▇█████</td></tr><tr><td>val_auc</td><td>▁▃▄▆▆▇███████████▇██████▇███████████████</td></tr><tr><td>val_f1</td><td>▁▆▇█▇███▇█████▇▇██▇█████████████▇█▇█████</td></tr><tr><td>val_loss_epoch</td><td>█▅▃▂▂▂▁▁▂▁▂▁▂▁▂▂▁▂▂▂▁▁▁▁▁▂▁▁▁▁▁▁▃▂▂▁▁▁▁▁</td></tr><tr><td>val_loss_step</td><td>█▇▅▄▄▃▂▃▅▃▄▂▄▂▄▅▂▄▅▄▁▃▂▁▃▃▃▃▂▃▃▂▅▄▄▁▂▂▃▃</td></tr></table><br/></div><div class=\"wandb-col\"><h3>Run summary:</h3><br/><table class=\"wandb\"><tr><td>epoch</td><td>64</td></tr><tr><td>lr-Adam</td><td>0.005</td></tr><tr><td>train_acc</td><td>0.77178</td></tr><tr><td>train_auc</td><td>0.84746</td></tr><tr><td>train_f1</td><td>0.75422</td></tr><tr><td>train_loss_epoch</td><td>0.52837</td></tr><tr><td>train_loss_step</td><td>0.55218</td></tr><tr><td>trainer/global_step</td><td>909</td></tr><tr><td>val_acc</td><td>0.77958</td></tr><tr><td>val_auc</td><td>0.85504</td></tr><tr><td>val_f1</td><td>0.75066</td></tr><tr><td>val_loss_epoch</td><td>0.51815</td></tr><tr><td>val_loss_step</td><td>0.52457</td></tr></table><br/></div></div>"
      ],
      "text/plain": [
       "<IPython.core.display.HTML object>"
      ]
     },
     "metadata": {},
     "output_type": "display_data"
    },
    {
     "data": {
      "text/html": [
       " View run <strong style=\"color:#cdcd00\">MLP_2_64_onehot_2</strong> at: <a href='https://wandb.ai/thoomas/PLA_01122024_13PPI_2D3D_fusion_Kfold/runs/1k2hmfg9' target=\"_blank\">https://wandb.ai/thoomas/PLA_01122024_13PPI_2D3D_fusion_Kfold/runs/1k2hmfg9</a><br/>Synced 6 W&B file(s), 0 media file(s), 0 artifact file(s) and 0 other file(s)"
      ],
      "text/plain": [
       "<IPython.core.display.HTML object>"
      ]
     },
     "metadata": {},
     "output_type": "display_data"
    },
    {
     "data": {
      "text/html": [
       "Find logs at: <code>.\\wandb\\run-20240122_162009-1k2hmfg9\\logs</code>"
      ],
      "text/plain": [
       "<IPython.core.display.HTML object>"
      ]
     },
     "metadata": {},
     "output_type": "display_data"
    },
    {
     "data": {
      "application/vnd.jupyter.widget-view+json": {
       "model_id": "08c20b263f614114b709bf73dfaade17",
       "version_major": 2,
       "version_minor": 0
      },
      "text/plain": [
       "VBox(children=(Label(value='Waiting for wandb.init()...\\r'), FloatProgress(value=0.016916666666656966, max=1.0…"
      ]
     },
     "metadata": {},
     "output_type": "display_data"
    },
    {
     "data": {
      "text/html": [
       "wandb version 0.16.2 is available!  To upgrade, please run:\n",
       " $ pip install wandb --upgrade"
      ],
      "text/plain": [
       "<IPython.core.display.HTML object>"
      ]
     },
     "metadata": {},
     "output_type": "display_data"
    },
    {
     "data": {
      "text/html": [
       "Tracking run with wandb version 0.15.8"
      ],
      "text/plain": [
       "<IPython.core.display.HTML object>"
      ]
     },
     "metadata": {},
     "output_type": "display_data"
    },
    {
     "data": {
      "text/html": [
       "Run data is saved locally in <code>y:\\coskun-lab\\Thomas\\23_PLA_revision\\notebooks\\wandb\\run-20240122_170823-vv9h8ov8</code>"
      ],
      "text/plain": [
       "<IPython.core.display.HTML object>"
      ]
     },
     "metadata": {},
     "output_type": "display_data"
    },
    {
     "data": {
      "text/html": [
       "Syncing run <strong><a href='https://wandb.ai/thoomas/PLA_01122024_13PPI_2D3D_fusion_Kfold/runs/vv9h8ov8' target=\"_blank\">GraphConv_2_16_onehot_2</a></strong> to <a href='https://wandb.ai/thoomas/PLA_01122024_13PPI_2D3D_fusion_Kfold' target=\"_blank\">Weights & Biases</a> (<a href='https://wandb.me/run' target=\"_blank\">docs</a>)<br/>"
      ],
      "text/plain": [
       "<IPython.core.display.HTML object>"
      ]
     },
     "metadata": {},
     "output_type": "display_data"
    },
    {
     "data": {
      "text/html": [
       " View project at <a href='https://wandb.ai/thoomas/PLA_01122024_13PPI_2D3D_fusion_Kfold' target=\"_blank\">https://wandb.ai/thoomas/PLA_01122024_13PPI_2D3D_fusion_Kfold</a>"
      ],
      "text/plain": [
       "<IPython.core.display.HTML object>"
      ]
     },
     "metadata": {},
     "output_type": "display_data"
    },
    {
     "data": {
      "text/html": [
       " View run at <a href='https://wandb.ai/thoomas/PLA_01122024_13PPI_2D3D_fusion_Kfold/runs/vv9h8ov8' target=\"_blank\">https://wandb.ai/thoomas/PLA_01122024_13PPI_2D3D_fusion_Kfold/runs/vv9h8ov8</a>"
      ],
      "text/plain": [
       "<IPython.core.display.HTML object>"
      ]
     },
     "metadata": {},
     "output_type": "display_data"
    },
    {
     "name": "stderr",
     "output_type": "stream",
     "text": [
      "Global seed set to 42\n",
      "GPU available: True (cuda), used: True\n",
      "TPU available: False, using: 0 TPU cores\n",
      "IPU available: False, using: 0 IPUs\n",
      "HPU available: False, using: 0 HPUs\n",
      "Global seed set to 42\n",
      "c:\\Users\\thu71\\AppData\\Local\\anaconda3\\envs\\scanpy\\Lib\\site-packages\\lightning\\pytorch\\callbacks\\model_checkpoint.py:617: UserWarning: Checkpoint directory \\\\bme-retromaster.ad.gatech.edu\\labs5\\coskun-lab\\Thomas\\23_PLA_revision\\data\\13cyc_3D\\saved_models_fusion\\13PPI_2D3D_fusion\\Graph_GNNs_Kfold\\GraphConv_2_16_concat_2\\attention\\GraphLevelGraphConv exists and is not empty.\n",
      "  rank_zero_warn(f\"Checkpoint directory {dirpath} exists and is not empty.\")\n",
      "LOCAL_RANK: 0 - CUDA_VISIBLE_DEVICES: [0]\n",
      "\n",
      "   | Name        | Type             | Params\n",
      "--------------------------------------------------\n",
      "0  | x_embedding | Identity         | 0     \n",
      "1  | model2D     | GNNModel         | 992   \n",
      "2  | model3D     | GNNModel         | 992   \n",
      "3  | head        | Sequential       | 562   \n",
      "4  | loss_module | CrossEntropyLoss | 0     \n",
      "5  | train_acc   | BinaryAccuracy   | 0     \n",
      "6  | train_auroc | BinaryAUROC      | 0     \n",
      "7  | train_f1    | BinaryF1Score    | 0     \n",
      "8  | valid_acc   | BinaryAccuracy   | 0     \n",
      "9  | valid_auroc | BinaryAUROC      | 0     \n",
      "10 | valid_f1    | BinaryF1Score    | 0     \n",
      "11 | pool2D      | GlobalAttention  | 17    \n",
      "12 | pool3D      | GlobalAttention  | 17    \n",
      "--------------------------------------------------\n",
      "2.6 K     Trainable params\n",
      "0         Non-trainable params\n",
      "2.6 K     Total params\n",
      "0.010     Total estimated model params size (MB)\n"
     ]
    },
    {
     "name": "stdout",
     "output_type": "stream",
     "text": [
      "Using GNN\n"
     ]
    },
    {
     "name": "stderr",
     "output_type": "stream",
     "text": [
      "`Trainer.fit` stopped: `max_epochs=65` reached.\n"
     ]
    },
    {
     "data": {
      "text/html": [
       "Waiting for W&B process to finish... <strong style=\"color:green\">(success).</strong>"
      ],
      "text/plain": [
       "<IPython.core.display.HTML object>"
      ]
     },
     "metadata": {},
     "output_type": "display_data"
    },
    {
     "data": {
      "text/html": [
       "<style>\n",
       "    table.wandb td:nth-child(1) { padding: 0 10px; text-align: left ; width: auto;} td:nth-child(2) {text-align: left ; width: 100%}\n",
       "    .wandb-row { display: flex; flex-direction: row; flex-wrap: wrap; justify-content: flex-start; width: 100% }\n",
       "    .wandb-col { display: flex; flex-direction: column; flex-basis: 100%; flex: 1; padding: 10px; }\n",
       "    </style>\n",
       "<div class=\"wandb-row\"><div class=\"wandb-col\"><h3>Run history:</h3><br/><table class=\"wandb\"><tr><td>epoch</td><td>▁▁▁▂▂▂▂▂▂▃▃▃▃▃▄▄▄▄▄▄▅▅▅▅▅▅▆▆▆▆▆▇▇▇▇▇▇███</td></tr><tr><td>lr-Adam</td><td>▁▁▁▁▁▁▁▁▁▁▁▁▁▁▁▁▁▁▁▁▁▁▁▁▁▁▁▁▁▁▁▁▁▁▁▁▁▁▁▁</td></tr><tr><td>train_acc</td><td>▁▅▆▆▆▇▇▇▇▇▇▇▇▇▇▇▇▇▇▇▇▇███▇▇█▇███████▇███</td></tr><tr><td>train_auc</td><td>▁▄▅▅▆▆▆▆▇▇▇▇▇▇▇▇▇▇▇▇▇▇▇▇▇▇▇▇▇██▇████▇▇██</td></tr><tr><td>train_f1</td><td>▁▂▄▅▅▆▆▆▆▆▆▇▆▆▇▆▆▇▇▇▇▆▇▇▇▇▇▇▇██▇███▇▇▇██</td></tr><tr><td>train_loss_epoch</td><td>█▅▄▄▃▃▃▃▂▂▂▂▂▂▂▂▂▂▂▂▂▂▂▁▂▂▂▂▂▁▁▁▁▁▁▁▂▂▁▁</td></tr><tr><td>train_loss_step</td><td>█▆▃▅▃▄▄▄▂▅▅▃▅▄▃▅▄▄▃▂▃▅▃▃▃▄▃▃▃▂▂▄▂▁▃▁▁▁▂▃</td></tr><tr><td>trainer/global_step</td><td>▁▁▁▁▁▁▁▁▁▃▃▃▃▃▄▂▂▂▂▂▂▅▅▅▅▆▆▂▂▂▂▃▃▇▇▇███▃</td></tr><tr><td>val_acc</td><td>▃▂▃▁▃▄▄▄▅▄▅▅▅▅▅▆▄▆▅▅▅▆▇▇▆▇▆▆▆▇▄▇▇▇█▇▆▇█▇</td></tr><tr><td>val_auc</td><td>▃▂▃▁▃▃▄▄▅▅▅▅▅▄▄▆▅▆▅▆▄▅▇▆▅▇▇▅▆█▆▇▇▇██▅▇▇▇</td></tr><tr><td>val_f1</td><td>▄▄▃▂▄▄▂▃▅▂▄▄▅▄▄▅▄▇▃▄▄▄▇▆▆▆▇▆▇█▁▇▆▆▇▅▄█▇▆</td></tr><tr><td>val_loss_epoch</td><td>█▄▄▅▄▄▄▄▃▄▃▃▃▃▃▃▂▂▃▃▃▃▂▂▂▂▁▂▂▁▄▂▂▂▂▂▃▁▁▂</td></tr><tr><td>val_loss_step</td><td>▆▂▄▄▃▄▆▅▃▆▅▅▄▅▆▅▃▂▆▅▆▆▂▅▃▃▁▃▃▁█▄▄▅▄▅▆▂▃▄</td></tr></table><br/></div><div class=\"wandb-col\"><h3>Run summary:</h3><br/><table class=\"wandb\"><tr><td>epoch</td><td>64</td></tr><tr><td>lr-Adam</td><td>0.005</td></tr><tr><td>train_acc</td><td>0.85134</td></tr><tr><td>train_auc</td><td>0.91006</td></tr><tr><td>train_f1</td><td>0.83694</td></tr><tr><td>train_loss_epoch</td><td>0.45731</td></tr><tr><td>train_loss_step</td><td>0.44539</td></tr><tr><td>trainer/global_step</td><td>909</td></tr><tr><td>val_acc</td><td>0.8051</td></tr><tr><td>val_auc</td><td>0.8652</td></tr><tr><td>val_f1</td><td>0.75723</td></tr><tr><td>val_loss_epoch</td><td>0.50389</td></tr><tr><td>val_loss_step</td><td>0.53002</td></tr></table><br/></div></div>"
      ],
      "text/plain": [
       "<IPython.core.display.HTML object>"
      ]
     },
     "metadata": {},
     "output_type": "display_data"
    },
    {
     "data": {
      "text/html": [
       " View run <strong style=\"color:#cdcd00\">GraphConv_2_16_onehot_2</strong> at: <a href='https://wandb.ai/thoomas/PLA_01122024_13PPI_2D3D_fusion_Kfold/runs/vv9h8ov8' target=\"_blank\">https://wandb.ai/thoomas/PLA_01122024_13PPI_2D3D_fusion_Kfold/runs/vv9h8ov8</a><br/>Synced 6 W&B file(s), 0 media file(s), 0 artifact file(s) and 0 other file(s)"
      ],
      "text/plain": [
       "<IPython.core.display.HTML object>"
      ]
     },
     "metadata": {},
     "output_type": "display_data"
    },
    {
     "data": {
      "text/html": [
       "Find logs at: <code>.\\wandb\\run-20240122_170823-vv9h8ov8\\logs</code>"
      ],
      "text/plain": [
       "<IPython.core.display.HTML object>"
      ]
     },
     "metadata": {},
     "output_type": "display_data"
    },
    {
     "data": {
      "application/vnd.jupyter.widget-view+json": {
       "model_id": "662092aef0364c118bd4f0526ebe2afb",
       "version_major": 2,
       "version_minor": 0
      },
      "text/plain": [
       "VBox(children=(Label(value='Waiting for wandb.init()...\\r'), FloatProgress(value=0.016933333333327028, max=1.0…"
      ]
     },
     "metadata": {},
     "output_type": "display_data"
    },
    {
     "data": {
      "text/html": [
       "wandb version 0.16.2 is available!  To upgrade, please run:\n",
       " $ pip install wandb --upgrade"
      ],
      "text/plain": [
       "<IPython.core.display.HTML object>"
      ]
     },
     "metadata": {},
     "output_type": "display_data"
    },
    {
     "data": {
      "text/html": [
       "Tracking run with wandb version 0.15.8"
      ],
      "text/plain": [
       "<IPython.core.display.HTML object>"
      ]
     },
     "metadata": {},
     "output_type": "display_data"
    },
    {
     "data": {
      "text/html": [
       "Run data is saved locally in <code>y:\\coskun-lab\\Thomas\\23_PLA_revision\\notebooks\\wandb\\run-20240122_175539-s3yr1jlq</code>"
      ],
      "text/plain": [
       "<IPython.core.display.HTML object>"
      ]
     },
     "metadata": {},
     "output_type": "display_data"
    },
    {
     "data": {
      "text/html": [
       "Syncing run <strong><a href='https://wandb.ai/thoomas/PLA_01122024_13PPI_2D3D_fusion_Kfold/runs/s3yr1jlq' target=\"_blank\">GCN_2_64_onehot_2</a></strong> to <a href='https://wandb.ai/thoomas/PLA_01122024_13PPI_2D3D_fusion_Kfold' target=\"_blank\">Weights & Biases</a> (<a href='https://wandb.me/run' target=\"_blank\">docs</a>)<br/>"
      ],
      "text/plain": [
       "<IPython.core.display.HTML object>"
      ]
     },
     "metadata": {},
     "output_type": "display_data"
    },
    {
     "data": {
      "text/html": [
       " View project at <a href='https://wandb.ai/thoomas/PLA_01122024_13PPI_2D3D_fusion_Kfold' target=\"_blank\">https://wandb.ai/thoomas/PLA_01122024_13PPI_2D3D_fusion_Kfold</a>"
      ],
      "text/plain": [
       "<IPython.core.display.HTML object>"
      ]
     },
     "metadata": {},
     "output_type": "display_data"
    },
    {
     "data": {
      "text/html": [
       " View run at <a href='https://wandb.ai/thoomas/PLA_01122024_13PPI_2D3D_fusion_Kfold/runs/s3yr1jlq' target=\"_blank\">https://wandb.ai/thoomas/PLA_01122024_13PPI_2D3D_fusion_Kfold/runs/s3yr1jlq</a>"
      ],
      "text/plain": [
       "<IPython.core.display.HTML object>"
      ]
     },
     "metadata": {},
     "output_type": "display_data"
    },
    {
     "name": "stderr",
     "output_type": "stream",
     "text": [
      "Global seed set to 42\n",
      "GPU available: True (cuda), used: True\n",
      "TPU available: False, using: 0 TPU cores\n",
      "IPU available: False, using: 0 IPUs\n",
      "HPU available: False, using: 0 HPUs\n",
      "Global seed set to 42\n",
      "c:\\Users\\thu71\\AppData\\Local\\anaconda3\\envs\\scanpy\\Lib\\site-packages\\lightning\\pytorch\\callbacks\\model_checkpoint.py:617: UserWarning: Checkpoint directory \\\\bme-retromaster.ad.gatech.edu\\labs5\\coskun-lab\\Thomas\\23_PLA_revision\\data\\13cyc_3D\\saved_models_fusion\\13PPI_2D3D_fusion\\Graph_GNNs_Kfold\\GCN_2_64_concat_2\\attention2\\GraphLevelGCN exists and is not empty.\n",
      "  rank_zero_warn(f\"Checkpoint directory {dirpath} exists and is not empty.\")\n",
      "LOCAL_RANK: 0 - CUDA_VISIBLE_DEVICES: [0]\n",
      "\n",
      "   | Name        | Type             | Params\n",
      "--------------------------------------------------\n",
      "0  | x_embedding | Identity         | 0     \n",
      "1  | model2D     | GNNModel         | 5.2 K \n",
      "2  | model3D     | GNNModel         | 5.2 K \n",
      "3  | head        | Sequential       | 8.4 K \n",
      "4  | loss_module | CrossEntropyLoss | 0     \n",
      "5  | train_acc   | BinaryAccuracy   | 0     \n",
      "6  | train_auroc | BinaryAUROC      | 0     \n",
      "7  | train_f1    | BinaryF1Score    | 0     \n",
      "8  | valid_acc   | BinaryAccuracy   | 0     \n",
      "9  | valid_auroc | BinaryAUROC      | 0     \n",
      "10 | valid_f1    | BinaryF1Score    | 0     \n",
      "11 | pool2D      | Attention_module | 4.2 K \n",
      "12 | pool3D      | Attention_module | 4.2 K \n",
      "--------------------------------------------------\n",
      "27.1 K    Trainable params\n",
      "0         Non-trainable params\n",
      "27.1 K    Total params\n",
      "0.109     Total estimated model params size (MB)\n"
     ]
    },
    {
     "name": "stdout",
     "output_type": "stream",
     "text": [
      "Using GNN\n"
     ]
    },
    {
     "name": "stderr",
     "output_type": "stream",
     "text": [
      "`Trainer.fit` stopped: `max_epochs=65` reached.\n"
     ]
    },
    {
     "data": {
      "text/html": [
       "Waiting for W&B process to finish... <strong style=\"color:green\">(success).</strong>"
      ],
      "text/plain": [
       "<IPython.core.display.HTML object>"
      ]
     },
     "metadata": {},
     "output_type": "display_data"
    },
    {
     "data": {
      "text/html": [
       "<style>\n",
       "    table.wandb td:nth-child(1) { padding: 0 10px; text-align: left ; width: auto;} td:nth-child(2) {text-align: left ; width: 100%}\n",
       "    .wandb-row { display: flex; flex-direction: row; flex-wrap: wrap; justify-content: flex-start; width: 100% }\n",
       "    .wandb-col { display: flex; flex-direction: column; flex-basis: 100%; flex: 1; padding: 10px; }\n",
       "    </style>\n",
       "<div class=\"wandb-row\"><div class=\"wandb-col\"><h3>Run history:</h3><br/><table class=\"wandb\"><tr><td>epoch</td><td>▁▁▁▂▂▂▂▂▂▃▃▃▃▃▄▄▄▄▄▄▅▅▅▅▅▅▆▆▆▆▆▇▇▇▇▇▇███</td></tr><tr><td>lr-Adam</td><td>▁▁▁▁▁▁▁▁▁▁▁▁▁▁▁▁▁▁▁▁▁▁▁▁▁▁▁▁▁▁▁▁▁▁▁▁▁▁▁▁</td></tr><tr><td>train_acc</td><td>▁▅▅▅▅▆▆▇▇▇▆▇▇▇▇▇▇▇█▇█▇█▇▇▇██▇▇▇█▇█▇█▇█▇▇</td></tr><tr><td>train_auc</td><td>▁▅▅▆▆▇▆▇▇▇▆▇▇▇▇▇▇▇███▇████████▇█▇███▇███</td></tr><tr><td>train_f1</td><td>▁▅▆▆▆▇▆▇▇▇▆▇▇▇▇▇▇▇███▇█▇▇▇██▇▇▇█▇█▇█▇██▇</td></tr><tr><td>train_loss_epoch</td><td>█▄▄▄▃▂▃▂▂▂▃▂▂▂▂▂▂▂▁▁▁▂▁▂▂▂▁▁▂▁▁▁▂▁▁▁▂▁▁▂</td></tr><tr><td>train_loss_step</td><td>███▅▅▆▅▃▄▅▄▅▃▅▄▃▃▆▇▅▃▁▃▃▅▂▄▃▅▄▂▃▃▄▃▃▄▄▃▄</td></tr><tr><td>trainer/global_step</td><td>▁▁▁▁▁▁▁▁▁▃▃▃▃▃▄▂▂▂▂▂▂▅▅▅▅▆▆▂▂▂▂▃▃▇▇▇███▃</td></tr><tr><td>val_acc</td><td>▁▃▆▅▇▇▇██▇▄▆▆▇▆▇▇▇▆▇▇▆▇▄▆▇▇▇▇▇▇▇██▅▇▇▇▆▇</td></tr><tr><td>val_auc</td><td>▁▂▄▄▆█▆▇█▇▅▃▅▇▆▇▇█▇▆▇▅█▇██▇▆▇██▆▆█▆▇▆▇▇▇</td></tr><tr><td>val_f1</td><td>▁▃▇▆▇█▇██▇▇▇▇█▆███▆▇▇▆█▇█▇▇▇▇██▇▇█▅███▆█</td></tr><tr><td>val_loss_epoch</td><td>█▇▂▄▂▁▂▂▁▃▃▃▄▂▃▁▁▁▄▂▂▄▁▃▂▃▂▂▂▁▁▃▂▂▅▁▁▁▄▁</td></tr><tr><td>val_loss_step</td><td>██▂▆▃▃▄▄▃▅▁▅▅▃▅▃▂▂▆▂▄▆▃▁▁▅▄▄▄▃▂▅▄▄▇▂▂▃▆▂</td></tr></table><br/></div><div class=\"wandb-col\"><h3>Run summary:</h3><br/><table class=\"wandb\"><tr><td>epoch</td><td>64</td></tr><tr><td>lr-Adam</td><td>0.005</td></tr><tr><td>train_acc</td><td>0.83856</td></tr><tr><td>train_auc</td><td>0.91442</td></tr><tr><td>train_f1</td><td>0.82157</td></tr><tr><td>train_loss_epoch</td><td>0.46418</td></tr><tr><td>train_loss_step</td><td>0.49047</td></tr><tr><td>trainer/global_step</td><td>909</td></tr><tr><td>val_acc</td><td>0.80742</td></tr><tr><td>val_auc</td><td>0.88726</td></tr><tr><td>val_f1</td><td>0.7888</td></tr><tr><td>val_loss_epoch</td><td>0.48564</td></tr><tr><td>val_loss_step</td><td>0.44711</td></tr></table><br/></div></div>"
      ],
      "text/plain": [
       "<IPython.core.display.HTML object>"
      ]
     },
     "metadata": {},
     "output_type": "display_data"
    },
    {
     "data": {
      "text/html": [
       " View run <strong style=\"color:#cdcd00\">GCN_2_64_onehot_2</strong> at: <a href='https://wandb.ai/thoomas/PLA_01122024_13PPI_2D3D_fusion_Kfold/runs/s3yr1jlq' target=\"_blank\">https://wandb.ai/thoomas/PLA_01122024_13PPI_2D3D_fusion_Kfold/runs/s3yr1jlq</a><br/>Synced 6 W&B file(s), 0 media file(s), 0 artifact file(s) and 0 other file(s)"
      ],
      "text/plain": [
       "<IPython.core.display.HTML object>"
      ]
     },
     "metadata": {},
     "output_type": "display_data"
    },
    {
     "data": {
      "text/html": [
       "Find logs at: <code>.\\wandb\\run-20240122_175539-s3yr1jlq\\logs</code>"
      ],
      "text/plain": [
       "<IPython.core.display.HTML object>"
      ]
     },
     "metadata": {},
     "output_type": "display_data"
    },
    {
     "data": {
      "text/html": [
       "wandb version 0.16.2 is available!  To upgrade, please run:\n",
       " $ pip install wandb --upgrade"
      ],
      "text/plain": [
       "<IPython.core.display.HTML object>"
      ]
     },
     "metadata": {},
     "output_type": "display_data"
    },
    {
     "data": {
      "text/html": [
       "Tracking run with wandb version 0.15.8"
      ],
      "text/plain": [
       "<IPython.core.display.HTML object>"
      ]
     },
     "metadata": {},
     "output_type": "display_data"
    },
    {
     "data": {
      "text/html": [
       "Run data is saved locally in <code>y:\\coskun-lab\\Thomas\\23_PLA_revision\\notebooks\\wandb\\run-20240122_184423-y4bexeh6</code>"
      ],
      "text/plain": [
       "<IPython.core.display.HTML object>"
      ]
     },
     "metadata": {},
     "output_type": "display_data"
    },
    {
     "data": {
      "text/html": [
       "Syncing run <strong><a href='https://wandb.ai/thoomas/PLA_01122024_13PPI_2D3D_fusion_Kfold/runs/y4bexeh6' target=\"_blank\">GAT_3_64_onehot_2</a></strong> to <a href='https://wandb.ai/thoomas/PLA_01122024_13PPI_2D3D_fusion_Kfold' target=\"_blank\">Weights & Biases</a> (<a href='https://wandb.me/run' target=\"_blank\">docs</a>)<br/>"
      ],
      "text/plain": [
       "<IPython.core.display.HTML object>"
      ]
     },
     "metadata": {},
     "output_type": "display_data"
    },
    {
     "data": {
      "text/html": [
       " View project at <a href='https://wandb.ai/thoomas/PLA_01122024_13PPI_2D3D_fusion_Kfold' target=\"_blank\">https://wandb.ai/thoomas/PLA_01122024_13PPI_2D3D_fusion_Kfold</a>"
      ],
      "text/plain": [
       "<IPython.core.display.HTML object>"
      ]
     },
     "metadata": {},
     "output_type": "display_data"
    },
    {
     "data": {
      "text/html": [
       " View run at <a href='https://wandb.ai/thoomas/PLA_01122024_13PPI_2D3D_fusion_Kfold/runs/y4bexeh6' target=\"_blank\">https://wandb.ai/thoomas/PLA_01122024_13PPI_2D3D_fusion_Kfold/runs/y4bexeh6</a>"
      ],
      "text/plain": [
       "<IPython.core.display.HTML object>"
      ]
     },
     "metadata": {},
     "output_type": "display_data"
    },
    {
     "name": "stderr",
     "output_type": "stream",
     "text": [
      "Global seed set to 42\n",
      "GPU available: True (cuda), used: True\n",
      "TPU available: False, using: 0 TPU cores\n",
      "IPU available: False, using: 0 IPUs\n",
      "HPU available: False, using: 0 HPUs\n",
      "Global seed set to 42\n",
      "c:\\Users\\thu71\\AppData\\Local\\anaconda3\\envs\\scanpy\\Lib\\site-packages\\lightning\\pytorch\\callbacks\\model_checkpoint.py:617: UserWarning: Checkpoint directory \\\\bme-retromaster.ad.gatech.edu\\labs5\\coskun-lab\\Thomas\\23_PLA_revision\\data\\13cyc_3D\\saved_models_fusion\\13PPI_2D3D_fusion\\Graph_GNNs_Kfold\\GAT_3_64_concat_2\\attention\\GraphLevelGAT exists and is not empty.\n",
      "  rank_zero_warn(f\"Checkpoint directory {dirpath} exists and is not empty.\")\n",
      "LOCAL_RANK: 0 - CUDA_VISIBLE_DEVICES: [0]\n",
      "\n",
      "   | Name        | Type             | Params\n",
      "--------------------------------------------------\n",
      "0  | x_embedding | Identity         | 0     \n",
      "1  | model2D     | GAT              | 44.6 K\n",
      "2  | model3D     | GAT              | 44.6 K\n",
      "3  | head        | Sequential       | 8.4 K \n",
      "4  | loss_module | CrossEntropyLoss | 0     \n",
      "5  | train_acc   | BinaryAccuracy   | 0     \n",
      "6  | train_auroc | BinaryAUROC      | 0     \n",
      "7  | train_f1    | BinaryF1Score    | 0     \n",
      "8  | valid_acc   | BinaryAccuracy   | 0     \n",
      "9  | valid_auroc | BinaryAUROC      | 0     \n",
      "10 | valid_f1    | BinaryF1Score    | 0     \n",
      "11 | pool2D      | GlobalAttention  | 65    \n",
      "12 | pool3D      | GlobalAttention  | 65    \n",
      "--------------------------------------------------\n",
      "97.7 K    Trainable params\n",
      "0         Non-trainable params\n",
      "97.7 K    Total params\n",
      "0.391     Total estimated model params size (MB)\n"
     ]
    },
    {
     "name": "stdout",
     "output_type": "stream",
     "text": [
      "Using GAT\n"
     ]
    },
    {
     "name": "stderr",
     "output_type": "stream",
     "text": [
      "`Trainer.fit` stopped: `max_epochs=65` reached.\n"
     ]
    },
    {
     "data": {
      "text/html": [
       "Waiting for W&B process to finish... <strong style=\"color:green\">(success).</strong>"
      ],
      "text/plain": [
       "<IPython.core.display.HTML object>"
      ]
     },
     "metadata": {},
     "output_type": "display_data"
    },
    {
     "data": {
      "text/html": [
       "<style>\n",
       "    table.wandb td:nth-child(1) { padding: 0 10px; text-align: left ; width: auto;} td:nth-child(2) {text-align: left ; width: 100%}\n",
       "    .wandb-row { display: flex; flex-direction: row; flex-wrap: wrap; justify-content: flex-start; width: 100% }\n",
       "    .wandb-col { display: flex; flex-direction: column; flex-basis: 100%; flex: 1; padding: 10px; }\n",
       "    </style>\n",
       "<div class=\"wandb-row\"><div class=\"wandb-col\"><h3>Run history:</h3><br/><table class=\"wandb\"><tr><td>epoch</td><td>▁▁▁▂▂▂▂▂▂▃▃▃▃▃▄▄▄▄▄▄▅▅▅▅▅▅▆▆▆▆▆▇▇▇▇▇▇███</td></tr><tr><td>lr-Adam</td><td>▁▁▁▁▁▁▁▁▁▁▁▁▁▁▁▁▁▁▁▁▁▁▁▁▁▁▁▁▁▁▁▁▁▁▁▁▁▁▁▁</td></tr><tr><td>train_acc</td><td>▁▅▅▅▆▆▆▆▆▆▇▆▆▇▇▇▇▇▇▇▇█▇▇▇▇▇▇██▆▆▇▇█▇██▇█</td></tr><tr><td>train_auc</td><td>▁▄▅▅▆▆▆▆▇▇▇▇▇▇▇▇▇▇▇▇██▇▇███▇██▇▇█▇██████</td></tr><tr><td>train_f1</td><td>▁▆▅▆▇▆▇▇▇▇▇▇▇▇▇▇█▇▇▇██▇█▇▇█▇██▇▇▇▇████▇█</td></tr><tr><td>train_loss_epoch</td><td>█▅▄▄▃▃▃▃▃▃▂▃▃▂▂▂▂▂▂▂▂▁▂▁▂▁▂▂▁▁▃▃▂▂▁▁▁▁▂▁</td></tr><tr><td>train_loss_step</td><td>█▇█▄▄▂█▅▅▃▃▅▃▄▆▅▂▃▃▃▄▂▁▅▂▃▄▆▄▅▄▃▂▄▁▂▁▅▄▅</td></tr><tr><td>trainer/global_step</td><td>▁▁▁▁▁▁▁▁▁▃▃▃▃▃▄▂▂▂▂▂▂▅▅▅▅▆▆▂▂▂▂▃▃▇▇▇███▃</td></tr><tr><td>val_acc</td><td>▁▂▆▇█▇▇▇▇███▇████▇▇█▇▇██▇██▇█▇█▇▇██████▇</td></tr><tr><td>val_auc</td><td>▁▂▃▃▅▅▆▅▄▆▆▆▄▆▆▇▇▅▅▆▇▇▇▇▇█▆▇██▆▄▆▆▆█▆▇▆▅</td></tr><tr><td>val_f1</td><td>▁▂▆▇▆▆▇▇▆▇█▇▆▇███▃▇▇▂▇█▇▇█▅▇█▇█▅▇▇▇▇▇██▄</td></tr><tr><td>val_loss_epoch</td><td>██▃▂▃▂▂▂▂▁▂▂▂▂▁▁▁▄▂▁▅▂▁▁▂▁▃▂▁▂▁▃▂▂▂▁▂▁▁▃</td></tr><tr><td>val_loss_step</td><td>▂▁▂▄▅▃▂▂▄▂▂▄▃▃▂▂▂▇▂▃█▂▂▂▂▂▅▁▁▁▁▅▂▄▃▂▂▂▂▅</td></tr></table><br/></div><div class=\"wandb-col\"><h3>Run summary:</h3><br/><table class=\"wandb\"><tr><td>epoch</td><td>64</td></tr><tr><td>lr-Adam</td><td>0.005</td></tr><tr><td>train_acc</td><td>0.83508</td></tr><tr><td>train_auc</td><td>0.89712</td></tr><tr><td>train_f1</td><td>0.82619</td></tr><tr><td>train_loss_epoch</td><td>0.4734</td></tr><tr><td>train_loss_step</td><td>0.46132</td></tr><tr><td>trainer/global_step</td><td>909</td></tr><tr><td>val_acc</td><td>0.76566</td></tr><tr><td>val_auc</td><td>0.86356</td></tr><tr><td>val_f1</td><td>0.69301</td></tr><tr><td>val_loss_epoch</td><td>0.54386</td></tr><tr><td>val_loss_step</td><td>0.5899</td></tr></table><br/></div></div>"
      ],
      "text/plain": [
       "<IPython.core.display.HTML object>"
      ]
     },
     "metadata": {},
     "output_type": "display_data"
    },
    {
     "data": {
      "text/html": [
       " View run <strong style=\"color:#cdcd00\">GAT_3_64_onehot_2</strong> at: <a href='https://wandb.ai/thoomas/PLA_01122024_13PPI_2D3D_fusion_Kfold/runs/y4bexeh6' target=\"_blank\">https://wandb.ai/thoomas/PLA_01122024_13PPI_2D3D_fusion_Kfold/runs/y4bexeh6</a><br/>Synced 6 W&B file(s), 0 media file(s), 0 artifact file(s) and 0 other file(s)"
      ],
      "text/plain": [
       "<IPython.core.display.HTML object>"
      ]
     },
     "metadata": {},
     "output_type": "display_data"
    },
    {
     "data": {
      "text/html": [
       "Find logs at: <code>.\\wandb\\run-20240122_184423-y4bexeh6\\logs</code>"
      ],
      "text/plain": [
       "<IPython.core.display.HTML object>"
      ]
     },
     "metadata": {},
     "output_type": "display_data"
    },
    {
     "data": {
      "application/vnd.jupyter.widget-view+json": {
       "model_id": "a958b3c0396b424ba90cd4bd236e2d1f",
       "version_major": 2,
       "version_minor": 0
      },
      "text/plain": [
       "VBox(children=(Label(value='Waiting for wandb.init()...\\r'), FloatProgress(value=0.016666666666666666, max=1.0…"
      ]
     },
     "metadata": {},
     "output_type": "display_data"
    },
    {
     "data": {
      "text/html": [
       "wandb version 0.16.2 is available!  To upgrade, please run:\n",
       " $ pip install wandb --upgrade"
      ],
      "text/plain": [
       "<IPython.core.display.HTML object>"
      ]
     },
     "metadata": {},
     "output_type": "display_data"
    },
    {
     "data": {
      "text/html": [
       "Tracking run with wandb version 0.15.8"
      ],
      "text/plain": [
       "<IPython.core.display.HTML object>"
      ]
     },
     "metadata": {},
     "output_type": "display_data"
    },
    {
     "data": {
      "text/html": [
       "Run data is saved locally in <code>y:\\coskun-lab\\Thomas\\23_PLA_revision\\notebooks\\wandb\\run-20240122_193410-ynu4j4vn</code>"
      ],
      "text/plain": [
       "<IPython.core.display.HTML object>"
      ]
     },
     "metadata": {},
     "output_type": "display_data"
    },
    {
     "data": {
      "text/html": [
       "Syncing run <strong><a href='https://wandb.ai/thoomas/PLA_01122024_13PPI_2D3D_fusion_Kfold/runs/ynu4j4vn' target=\"_blank\">GINConv_3_16_onehot_2</a></strong> to <a href='https://wandb.ai/thoomas/PLA_01122024_13PPI_2D3D_fusion_Kfold' target=\"_blank\">Weights & Biases</a> (<a href='https://wandb.me/run' target=\"_blank\">docs</a>)<br/>"
      ],
      "text/plain": [
       "<IPython.core.display.HTML object>"
      ]
     },
     "metadata": {},
     "output_type": "display_data"
    },
    {
     "data": {
      "text/html": [
       " View project at <a href='https://wandb.ai/thoomas/PLA_01122024_13PPI_2D3D_fusion_Kfold' target=\"_blank\">https://wandb.ai/thoomas/PLA_01122024_13PPI_2D3D_fusion_Kfold</a>"
      ],
      "text/plain": [
       "<IPython.core.display.HTML object>"
      ]
     },
     "metadata": {},
     "output_type": "display_data"
    },
    {
     "data": {
      "text/html": [
       " View run at <a href='https://wandb.ai/thoomas/PLA_01122024_13PPI_2D3D_fusion_Kfold/runs/ynu4j4vn' target=\"_blank\">https://wandb.ai/thoomas/PLA_01122024_13PPI_2D3D_fusion_Kfold/runs/ynu4j4vn</a>"
      ],
      "text/plain": [
       "<IPython.core.display.HTML object>"
      ]
     },
     "metadata": {},
     "output_type": "display_data"
    },
    {
     "name": "stderr",
     "output_type": "stream",
     "text": [
      "Global seed set to 42\n",
      "GPU available: True (cuda), used: True\n",
      "TPU available: False, using: 0 TPU cores\n",
      "IPU available: False, using: 0 IPUs\n",
      "HPU available: False, using: 0 HPUs\n",
      "Global seed set to 42\n",
      "c:\\Users\\thu71\\AppData\\Local\\anaconda3\\envs\\scanpy\\Lib\\site-packages\\lightning\\pytorch\\callbacks\\model_checkpoint.py:617: UserWarning: Checkpoint directory \\\\bme-retromaster.ad.gatech.edu\\labs5\\coskun-lab\\Thomas\\23_PLA_revision\\data\\13cyc_3D\\saved_models_fusion\\13PPI_2D3D_fusion\\Graph_GNNs_Kfold\\GINConv_3_16_concat_2\\mean\\GraphLevelGINConv exists and is not empty.\n",
      "  rank_zero_warn(f\"Checkpoint directory {dirpath} exists and is not empty.\")\n",
      "LOCAL_RANK: 0 - CUDA_VISIBLE_DEVICES: [0]\n",
      "\n",
      "   | Name        | Type             | Params\n",
      "--------------------------------------------------\n",
      "0  | x_embedding | Identity         | 0     \n",
      "1  | model2D     | GIN              | 1.7 K \n",
      "2  | model3D     | GIN              | 1.7 K \n",
      "3  | head        | Sequential       | 562   \n",
      "4  | loss_module | CrossEntropyLoss | 0     \n",
      "5  | train_acc   | BinaryAccuracy   | 0     \n",
      "6  | train_auroc | BinaryAUROC      | 0     \n",
      "7  | train_f1    | BinaryF1Score    | 0     \n",
      "8  | valid_acc   | BinaryAccuracy   | 0     \n",
      "9  | valid_auroc | BinaryAUROC      | 0     \n",
      "10 | valid_f1    | BinaryF1Score    | 0     \n",
      "--------------------------------------------------\n",
      "4.0 K     Trainable params\n",
      "0         Non-trainable params\n",
      "4.0 K     Total params\n",
      "0.016     Total estimated model params size (MB)\n"
     ]
    },
    {
     "name": "stdout",
     "output_type": "stream",
     "text": [
      "GINConv\n"
     ]
    },
    {
     "name": "stderr",
     "output_type": "stream",
     "text": [
      "`Trainer.fit` stopped: `max_epochs=65` reached.\n"
     ]
    },
    {
     "data": {
      "text/html": [
       "Waiting for W&B process to finish... <strong style=\"color:green\">(success).</strong>"
      ],
      "text/plain": [
       "<IPython.core.display.HTML object>"
      ]
     },
     "metadata": {},
     "output_type": "display_data"
    },
    {
     "data": {
      "text/html": [
       "<style>\n",
       "    table.wandb td:nth-child(1) { padding: 0 10px; text-align: left ; width: auto;} td:nth-child(2) {text-align: left ; width: 100%}\n",
       "    .wandb-row { display: flex; flex-direction: row; flex-wrap: wrap; justify-content: flex-start; width: 100% }\n",
       "    .wandb-col { display: flex; flex-direction: column; flex-basis: 100%; flex: 1; padding: 10px; }\n",
       "    </style>\n",
       "<div class=\"wandb-row\"><div class=\"wandb-col\"><h3>Run history:</h3><br/><table class=\"wandb\"><tr><td>epoch</td><td>▁▁▁▂▂▂▂▂▂▃▃▃▃▃▄▄▄▄▄▄▅▅▅▅▅▅▆▆▆▆▆▇▇▇▇▇▇███</td></tr><tr><td>lr-Adam</td><td>▁▁▁▁▁▁▁▁▁▁▁▁▁▁▁▁▁▁▁▁▁▁▁▁▁▁▁▁▁▁▁▁▁▁▁▁▁▁▁▁</td></tr><tr><td>train_acc</td><td>▁▅▆▆▆▆▆▇▇▇▇▇▇▇▇▇▇█▇▇▇▇▇▇▇▇▇▇████▇█▇▇████</td></tr><tr><td>train_auc</td><td>▁▅▆▆▇▇▇▇▇▇▇▇▇▇▇▇██▇█▇███████████████████</td></tr><tr><td>train_f1</td><td>▁▄▅▅▆▆▆▇▇▇▇▇▇▇▇▇▇█▇▇▇▇▇▇▇▇▇▇██▇█▇█▇▇████</td></tr><tr><td>train_loss_epoch</td><td>█▄▃▃▃▃▂▂▂▂▂▂▂▂▂▂▂▁▂▂▂▂▂▂▁▂▂▂▁▁▁▁▂▁▂▁▁▁▁▁</td></tr><tr><td>train_loss_step</td><td>█▄▄▆▃▅▂▄▂▂▃▃▄▄▄▂▄▄▂▄▃▅▃▄▃▄▁▆▃▃▅▃▄▆▆▂▄▂▄▃</td></tr><tr><td>trainer/global_step</td><td>▁▁▁▁▁▁▁▁▁▃▃▃▃▃▄▂▂▂▂▂▂▅▅▅▅▆▆▂▂▂▂▃▃▇▇▇███▃</td></tr><tr><td>val_acc</td><td>▂▂▁▃▅▄▄▃▆▇▄▂█▇▆▄▆▅▅▇▆▇▄▅▆▅▆▅▆▇▄▃██▆▆█▇▇▄</td></tr><tr><td>val_auc</td><td>▁▃▂▂▄▅▅▃▆▆▅▄▇▄▆▅▆▆▆▇▇▇▆▆▇▅▆▇▆▆▅▂▅▆▇▇▇▇█▇</td></tr><tr><td>val_f1</td><td>▄▅▁▃▅▆▃▆▇▇▄▁█▇▆▆▆▇▇▇██▆▆▆▅▅▆▇▇▅▃██▅▇█▇▇▃</td></tr><tr><td>val_loss_epoch</td><td>█▃▅▄▃▂▄▂▂▁▄▅▁▂▂▂▂▁▂▂▁▁▂▂▂▃▃▂▂▂▃▄▂▂▃▂▁▂▂▄</td></tr><tr><td>val_loss_step</td><td>▇▃█▆▆▂▇▁▂▂▇█▂▃▄▂▃▂▂▄▂▁▃▃▃▅▆▃▄▅▄▇▃▄▇▂▂▃▄▇</td></tr></table><br/></div><div class=\"wandb-col\"><h3>Run summary:</h3><br/><table class=\"wandb\"><tr><td>epoch</td><td>64</td></tr><tr><td>lr-Adam</td><td>0.005</td></tr><tr><td>train_acc</td><td>0.86992</td></tr><tr><td>train_auc</td><td>0.91309</td></tr><tr><td>train_f1</td><td>0.85769</td></tr><tr><td>train_loss_epoch</td><td>0.44492</td></tr><tr><td>train_loss_step</td><td>0.46847</td></tr><tr><td>trainer/global_step</td><td>909</td></tr><tr><td>val_acc</td><td>0.80278</td></tr><tr><td>val_auc</td><td>0.88475</td></tr><tr><td>val_f1</td><td>0.74164</td></tr><tr><td>val_loss_epoch</td><td>0.5222</td></tr><tr><td>val_loss_step</td><td>0.60662</td></tr></table><br/></div></div>"
      ],
      "text/plain": [
       "<IPython.core.display.HTML object>"
      ]
     },
     "metadata": {},
     "output_type": "display_data"
    },
    {
     "data": {
      "text/html": [
       " View run <strong style=\"color:#cdcd00\">GINConv_3_16_onehot_2</strong> at: <a href='https://wandb.ai/thoomas/PLA_01122024_13PPI_2D3D_fusion_Kfold/runs/ynu4j4vn' target=\"_blank\">https://wandb.ai/thoomas/PLA_01122024_13PPI_2D3D_fusion_Kfold/runs/ynu4j4vn</a><br/>Synced 6 W&B file(s), 0 media file(s), 0 artifact file(s) and 0 other file(s)"
      ],
      "text/plain": [
       "<IPython.core.display.HTML object>"
      ]
     },
     "metadata": {},
     "output_type": "display_data"
    },
    {
     "data": {
      "text/html": [
       "Find logs at: <code>.\\wandb\\run-20240122_193410-ynu4j4vn\\logs</code>"
      ],
      "text/plain": [
       "<IPython.core.display.HTML object>"
      ]
     },
     "metadata": {},
     "output_type": "display_data"
    },
    {
     "data": {
      "application/vnd.jupyter.widget-view+json": {
       "model_id": "c8c516e189ca42ed91f31b930f0db9c1",
       "version_major": 2,
       "version_minor": 0
      },
      "text/plain": [
       "VBox(children=(Label(value='Waiting for wandb.init()...\\r'), FloatProgress(value=0.016916666666656966, max=1.0…"
      ]
     },
     "metadata": {},
     "output_type": "display_data"
    },
    {
     "data": {
      "text/html": [
       "wandb version 0.16.2 is available!  To upgrade, please run:\n",
       " $ pip install wandb --upgrade"
      ],
      "text/plain": [
       "<IPython.core.display.HTML object>"
      ]
     },
     "metadata": {},
     "output_type": "display_data"
    },
    {
     "data": {
      "text/html": [
       "Tracking run with wandb version 0.15.8"
      ],
      "text/plain": [
       "<IPython.core.display.HTML object>"
      ]
     },
     "metadata": {},
     "output_type": "display_data"
    },
    {
     "data": {
      "text/html": [
       "Run data is saved locally in <code>y:\\coskun-lab\\Thomas\\23_PLA_revision\\notebooks\\wandb\\run-20240122_202227-38px8im6</code>"
      ],
      "text/plain": [
       "<IPython.core.display.HTML object>"
      ]
     },
     "metadata": {},
     "output_type": "display_data"
    },
    {
     "data": {
      "text/html": [
       "Syncing run <strong><a href='https://wandb.ai/thoomas/PLA_01122024_13PPI_2D3D_fusion_Kfold/runs/38px8im6' target=\"_blank\">MLP_2_64_onehot_3</a></strong> to <a href='https://wandb.ai/thoomas/PLA_01122024_13PPI_2D3D_fusion_Kfold' target=\"_blank\">Weights & Biases</a> (<a href='https://wandb.me/run' target=\"_blank\">docs</a>)<br/>"
      ],
      "text/plain": [
       "<IPython.core.display.HTML object>"
      ]
     },
     "metadata": {},
     "output_type": "display_data"
    },
    {
     "data": {
      "text/html": [
       " View project at <a href='https://wandb.ai/thoomas/PLA_01122024_13PPI_2D3D_fusion_Kfold' target=\"_blank\">https://wandb.ai/thoomas/PLA_01122024_13PPI_2D3D_fusion_Kfold</a>"
      ],
      "text/plain": [
       "<IPython.core.display.HTML object>"
      ]
     },
     "metadata": {},
     "output_type": "display_data"
    },
    {
     "data": {
      "text/html": [
       " View run at <a href='https://wandb.ai/thoomas/PLA_01122024_13PPI_2D3D_fusion_Kfold/runs/38px8im6' target=\"_blank\">https://wandb.ai/thoomas/PLA_01122024_13PPI_2D3D_fusion_Kfold/runs/38px8im6</a>"
      ],
      "text/plain": [
       "<IPython.core.display.HTML object>"
      ]
     },
     "metadata": {},
     "output_type": "display_data"
    },
    {
     "name": "stderr",
     "output_type": "stream",
     "text": [
      "Global seed set to 42\n",
      "GPU available: True (cuda), used: True\n",
      "TPU available: False, using: 0 TPU cores\n",
      "IPU available: False, using: 0 IPUs\n",
      "HPU available: False, using: 0 HPUs\n",
      "Global seed set to 42\n",
      "c:\\Users\\thu71\\AppData\\Local\\anaconda3\\envs\\scanpy\\Lib\\site-packages\\lightning\\pytorch\\callbacks\\model_checkpoint.py:617: UserWarning: Checkpoint directory \\\\bme-retromaster.ad.gatech.edu\\labs5\\coskun-lab\\Thomas\\23_PLA_revision\\data\\13cyc_3D\\saved_models_fusion\\13PPI_2D3D_fusion\\Graph_GNNs_Kfold\\MLP_2_64_concat_3\\attention\\GraphLevelMLP exists and is not empty.\n",
      "  rank_zero_warn(f\"Checkpoint directory {dirpath} exists and is not empty.\")\n",
      "LOCAL_RANK: 0 - CUDA_VISIBLE_DEVICES: [0]\n",
      "\n",
      "   | Name        | Type             | Params\n",
      "--------------------------------------------------\n",
      "0  | x_embedding | Identity         | 0     \n",
      "1  | model2D     | MLPModel         | 5.1 K \n",
      "2  | model3D     | MLPModel         | 5.1 K \n",
      "3  | head        | Sequential       | 8.4 K \n",
      "4  | loss_module | CrossEntropyLoss | 0     \n",
      "5  | train_acc   | BinaryAccuracy   | 0     \n",
      "6  | train_auroc | BinaryAUROC      | 0     \n",
      "7  | train_f1    | BinaryF1Score    | 0     \n",
      "8  | valid_acc   | BinaryAccuracy   | 0     \n",
      "9  | valid_auroc | BinaryAUROC      | 0     \n",
      "10 | valid_f1    | BinaryF1Score    | 0     \n",
      "11 | pool2D      | GlobalAttention  | 65    \n",
      "12 | pool3D      | GlobalAttention  | 65    \n",
      "--------------------------------------------------\n",
      "18.6 K    Trainable params\n",
      "0         Non-trainable params\n",
      "18.6 K    Total params\n",
      "0.075     Total estimated model params size (MB)\n"
     ]
    },
    {
     "name": "stdout",
     "output_type": "stream",
     "text": [
      "Using MLP\n"
     ]
    },
    {
     "name": "stderr",
     "output_type": "stream",
     "text": [
      "`Trainer.fit` stopped: `max_epochs=65` reached.\n"
     ]
    },
    {
     "data": {
      "text/html": [
       "Waiting for W&B process to finish... <strong style=\"color:green\">(success).</strong>"
      ],
      "text/plain": [
       "<IPython.core.display.HTML object>"
      ]
     },
     "metadata": {},
     "output_type": "display_data"
    },
    {
     "data": {
      "text/html": [
       "<style>\n",
       "    table.wandb td:nth-child(1) { padding: 0 10px; text-align: left ; width: auto;} td:nth-child(2) {text-align: left ; width: 100%}\n",
       "    .wandb-row { display: flex; flex-direction: row; flex-wrap: wrap; justify-content: flex-start; width: 100% }\n",
       "    .wandb-col { display: flex; flex-direction: column; flex-basis: 100%; flex: 1; padding: 10px; }\n",
       "    </style>\n",
       "<div class=\"wandb-row\"><div class=\"wandb-col\"><h3>Run history:</h3><br/><table class=\"wandb\"><tr><td>epoch</td><td>▁▁▁▂▂▂▂▂▂▃▃▃▃▃▄▄▄▄▄▄▅▅▅▅▅▅▆▆▆▆▆▇▇▇▇▇▇███</td></tr><tr><td>lr-Adam</td><td>▁▁▁▁▁▁▁▁▁▁▁▁▁▁▁▁▁▁▁▁▁▁▁▁▁▁▁▁▁▁▁▁▁▁▁▁▁▁▁▁</td></tr><tr><td>train_acc</td><td>▁▃▇▇▇▇████▇█▇████▇█████████████▇█▇▇█▇███</td></tr><tr><td>train_auc</td><td>▁▃▇▇▇▇▇███▇████████████████████▇█▇▇█████</td></tr><tr><td>train_f1</td><td>▁▃▇▇▇██████████▇█████████████████▇▇█████</td></tr><tr><td>train_loss_epoch</td><td>█▇▃▃▃▂▂▁▁▁▂▁▂▁▂▂▂▂▂▁▁▁▁▁▂▁▁▁▁▁▁▂▂▃▂▁▂▁▁▁</td></tr><tr><td>train_loss_step</td><td>█▆▅▄▃▃▂▄▃▂▅▂▃▃▄▂▃▄▆▃▃▂▃▃▄▃▁▄▂▃▄▄▃▄▄▄▄▂▄▂</td></tr><tr><td>trainer/global_step</td><td>▁▁▁▁▁▁▁▁▁▃▃▃▃▃▄▂▂▂▂▂▂▅▅▅▅▆▆▂▂▂▂▃▃▇▇▇███▃</td></tr><tr><td>val_acc</td><td>▁▇██▇████▇████▇███▇██████████████▇██████</td></tr><tr><td>val_auc</td><td>▂▁▄▄▅▆▆▇▇▇▇▇█▇█▇▆▇▇▇█▇▇▇▇█▇▇▇█▇▇▇█▇▆▇▇▇█</td></tr><tr><td>val_f1</td><td>▁███▇▇███▇▇█▇█████▇██████▇████▇██▇▇█████</td></tr><tr><td>val_loss_epoch</td><td>█▅▁▂▂▂▁▁▁▂▂▁▂▁▁▁▁▁▂▁▁▁▁▁▁▂▁▁▁▁▃▂▁▄▂▁▁▁▂▁</td></tr><tr><td>val_loss_step</td><td>█▄▃▃▄▅▂▃▃▄▅▂▄▃▁▁▂▃▄▂▃▂▂▁▃▅▃▃▂▂▅▄▃▇▄▂▃▂▄▂</td></tr></table><br/></div><div class=\"wandb-col\"><h3>Run summary:</h3><br/><table class=\"wandb\"><tr><td>epoch</td><td>64</td></tr><tr><td>lr-Adam</td><td>0.005</td></tr><tr><td>train_acc</td><td>0.77191</td></tr><tr><td>train_auc</td><td>0.83684</td></tr><tr><td>train_f1</td><td>0.75361</td></tr><tr><td>train_loss_epoch</td><td>0.52794</td></tr><tr><td>train_loss_step</td><td>0.48277</td></tr><tr><td>trainer/global_step</td><td>909</td></tr><tr><td>val_acc</td><td>0.79302</td></tr><tr><td>val_auc</td><td>0.88913</td></tr><tr><td>val_f1</td><td>0.78025</td></tr><tr><td>val_loss_epoch</td><td>0.49409</td></tr><tr><td>val_loss_step</td><td>0.43566</td></tr></table><br/></div></div>"
      ],
      "text/plain": [
       "<IPython.core.display.HTML object>"
      ]
     },
     "metadata": {},
     "output_type": "display_data"
    },
    {
     "data": {
      "text/html": [
       " View run <strong style=\"color:#cdcd00\">MLP_2_64_onehot_3</strong> at: <a href='https://wandb.ai/thoomas/PLA_01122024_13PPI_2D3D_fusion_Kfold/runs/38px8im6' target=\"_blank\">https://wandb.ai/thoomas/PLA_01122024_13PPI_2D3D_fusion_Kfold/runs/38px8im6</a><br/>Synced 6 W&B file(s), 0 media file(s), 0 artifact file(s) and 0 other file(s)"
      ],
      "text/plain": [
       "<IPython.core.display.HTML object>"
      ]
     },
     "metadata": {},
     "output_type": "display_data"
    },
    {
     "data": {
      "text/html": [
       "Find logs at: <code>.\\wandb\\run-20240122_202227-38px8im6\\logs</code>"
      ],
      "text/plain": [
       "<IPython.core.display.HTML object>"
      ]
     },
     "metadata": {},
     "output_type": "display_data"
    },
    {
     "data": {
      "application/vnd.jupyter.widget-view+json": {
       "model_id": "e19ca31153214e1b96db167c4f5cebf8",
       "version_major": 2,
       "version_minor": 0
      },
      "text/plain": [
       "VBox(children=(Label(value='Waiting for wandb.init()...\\r'), FloatProgress(value=0.01693333333338766, max=1.0)…"
      ]
     },
     "metadata": {},
     "output_type": "display_data"
    },
    {
     "data": {
      "text/html": [
       "wandb version 0.16.2 is available!  To upgrade, please run:\n",
       " $ pip install wandb --upgrade"
      ],
      "text/plain": [
       "<IPython.core.display.HTML object>"
      ]
     },
     "metadata": {},
     "output_type": "display_data"
    },
    {
     "data": {
      "text/html": [
       "Tracking run with wandb version 0.15.8"
      ],
      "text/plain": [
       "<IPython.core.display.HTML object>"
      ]
     },
     "metadata": {},
     "output_type": "display_data"
    },
    {
     "data": {
      "text/html": [
       "Run data is saved locally in <code>y:\\coskun-lab\\Thomas\\23_PLA_revision\\notebooks\\wandb\\run-20240122_211048-q322tsqg</code>"
      ],
      "text/plain": [
       "<IPython.core.display.HTML object>"
      ]
     },
     "metadata": {},
     "output_type": "display_data"
    },
    {
     "data": {
      "text/html": [
       "Syncing run <strong><a href='https://wandb.ai/thoomas/PLA_01122024_13PPI_2D3D_fusion_Kfold/runs/q322tsqg' target=\"_blank\">GraphConv_2_16_onehot_3</a></strong> to <a href='https://wandb.ai/thoomas/PLA_01122024_13PPI_2D3D_fusion_Kfold' target=\"_blank\">Weights & Biases</a> (<a href='https://wandb.me/run' target=\"_blank\">docs</a>)<br/>"
      ],
      "text/plain": [
       "<IPython.core.display.HTML object>"
      ]
     },
     "metadata": {},
     "output_type": "display_data"
    },
    {
     "data": {
      "text/html": [
       " View project at <a href='https://wandb.ai/thoomas/PLA_01122024_13PPI_2D3D_fusion_Kfold' target=\"_blank\">https://wandb.ai/thoomas/PLA_01122024_13PPI_2D3D_fusion_Kfold</a>"
      ],
      "text/plain": [
       "<IPython.core.display.HTML object>"
      ]
     },
     "metadata": {},
     "output_type": "display_data"
    },
    {
     "data": {
      "text/html": [
       " View run at <a href='https://wandb.ai/thoomas/PLA_01122024_13PPI_2D3D_fusion_Kfold/runs/q322tsqg' target=\"_blank\">https://wandb.ai/thoomas/PLA_01122024_13PPI_2D3D_fusion_Kfold/runs/q322tsqg</a>"
      ],
      "text/plain": [
       "<IPython.core.display.HTML object>"
      ]
     },
     "metadata": {},
     "output_type": "display_data"
    },
    {
     "name": "stderr",
     "output_type": "stream",
     "text": [
      "Global seed set to 42\n",
      "GPU available: True (cuda), used: True\n",
      "TPU available: False, using: 0 TPU cores\n",
      "IPU available: False, using: 0 IPUs\n",
      "HPU available: False, using: 0 HPUs\n",
      "Global seed set to 42\n",
      "c:\\Users\\thu71\\AppData\\Local\\anaconda3\\envs\\scanpy\\Lib\\site-packages\\lightning\\pytorch\\callbacks\\model_checkpoint.py:617: UserWarning: Checkpoint directory \\\\bme-retromaster.ad.gatech.edu\\labs5\\coskun-lab\\Thomas\\23_PLA_revision\\data\\13cyc_3D\\saved_models_fusion\\13PPI_2D3D_fusion\\Graph_GNNs_Kfold\\GraphConv_2_16_concat_3\\attention\\GraphLevelGraphConv exists and is not empty.\n",
      "  rank_zero_warn(f\"Checkpoint directory {dirpath} exists and is not empty.\")\n",
      "LOCAL_RANK: 0 - CUDA_VISIBLE_DEVICES: [0]\n",
      "\n",
      "   | Name        | Type             | Params\n",
      "--------------------------------------------------\n",
      "0  | x_embedding | Identity         | 0     \n",
      "1  | model2D     | GNNModel         | 992   \n",
      "2  | model3D     | GNNModel         | 992   \n",
      "3  | head        | Sequential       | 562   \n",
      "4  | loss_module | CrossEntropyLoss | 0     \n",
      "5  | train_acc   | BinaryAccuracy   | 0     \n",
      "6  | train_auroc | BinaryAUROC      | 0     \n",
      "7  | train_f1    | BinaryF1Score    | 0     \n",
      "8  | valid_acc   | BinaryAccuracy   | 0     \n",
      "9  | valid_auroc | BinaryAUROC      | 0     \n",
      "10 | valid_f1    | BinaryF1Score    | 0     \n",
      "11 | pool2D      | GlobalAttention  | 17    \n",
      "12 | pool3D      | GlobalAttention  | 17    \n",
      "--------------------------------------------------\n",
      "2.6 K     Trainable params\n",
      "0         Non-trainable params\n",
      "2.6 K     Total params\n",
      "0.010     Total estimated model params size (MB)\n"
     ]
    },
    {
     "name": "stdout",
     "output_type": "stream",
     "text": [
      "Using GNN\n"
     ]
    },
    {
     "name": "stderr",
     "output_type": "stream",
     "text": [
      "`Trainer.fit` stopped: `max_epochs=65` reached.\n"
     ]
    },
    {
     "data": {
      "text/html": [
       "Waiting for W&B process to finish... <strong style=\"color:green\">(success).</strong>"
      ],
      "text/plain": [
       "<IPython.core.display.HTML object>"
      ]
     },
     "metadata": {},
     "output_type": "display_data"
    },
    {
     "data": {
      "text/html": [
       "<style>\n",
       "    table.wandb td:nth-child(1) { padding: 0 10px; text-align: left ; width: auto;} td:nth-child(2) {text-align: left ; width: 100%}\n",
       "    .wandb-row { display: flex; flex-direction: row; flex-wrap: wrap; justify-content: flex-start; width: 100% }\n",
       "    .wandb-col { display: flex; flex-direction: column; flex-basis: 100%; flex: 1; padding: 10px; }\n",
       "    </style>\n",
       "<div class=\"wandb-row\"><div class=\"wandb-col\"><h3>Run history:</h3><br/><table class=\"wandb\"><tr><td>epoch</td><td>▁▁▁▂▂▂▂▂▂▃▃▃▃▃▄▄▄▄▄▄▅▅▅▅▅▅▆▆▆▆▆▇▇▇▇▇▇███</td></tr><tr><td>lr-Adam</td><td>▁▁▁▁▁▁▁▁▁▁▁▁▁▁▁▁▁▁▁▁▁▁▁▁▁▁▁▁▁▁▁▁▁▁▁▁▁▁▁▁</td></tr><tr><td>train_acc</td><td>▁▅▆▆▆▆▆▇▇▇▇▇▇▇▇▇▇▇▇▇▇▇██▇▇▇█▇▇▇▇█▇▇█████</td></tr><tr><td>train_auc</td><td>▁▄▅▅▆▆▆▇▇▆▆▇▇▇▇▇▇▇▇▇▇▇▇▇▇▇▇▇▇▇▇▇██▇█████</td></tr><tr><td>train_f1</td><td>▁▃▄▄▅▅▆▆▆▆▆▆▇▆▇▆▇▆▅▇▇▇▇█▇▇▇▇▇▇▇▇▇▇▇█████</td></tr><tr><td>train_loss_epoch</td><td>█▆▄▄▃▃▃▃▂▃▃▂▂▂▂▂▂▂▃▂▂▂▂▂▂▂▂▂▂▂▂▂▁▂▂▁▁▁▁▁</td></tr><tr><td>train_loss_step</td><td>█▅▇▄▄▃▄▂▃▄▄▄▂▄▄▃▄▂▃▂▄▃▃▂▄▄▂▄▂▂▂▃▃▁▂▂▁▂▂▂</td></tr><tr><td>trainer/global_step</td><td>▁▁▁▁▁▁▁▁▁▃▃▃▃▃▄▂▂▂▂▂▂▅▅▅▅▆▆▂▂▂▂▃▃▇▇▇███▃</td></tr><tr><td>val_acc</td><td>▃▁▅▆▅▅▆▆▆▆▆▆▆▇▇▇▇▇▆███▇▇▇▆▆▇▇▇▅▇██▅██▇█▇</td></tr><tr><td>val_auc</td><td>▁▁▁▂▁▂▃▂▃▃▃▄▄▄▅▅▄▄▅▅▆▆▆▄▅▄▄▆▅▇▆▇█▇▇▇▇▆█▇</td></tr><tr><td>val_f1</td><td>▄▂▅▅▄▆▄▅▄▆▄▅▄▆▆▇▇▇▆▇██▇▆▇▇▄▇▇█▆▆▇█▁██▆█▄</td></tr><tr><td>val_loss_epoch</td><td>█▄▃▃▃▃▃▃▂▃▃▂▃▂▂▂▂▂▁▂▁▁▂▃▂▂▃▂▂▁▂▂▁▁▄▁▁▂▁▂</td></tr><tr><td>val_loss_step</td><td>█▂▂▆▃▃▅▄▄▅▅▅▆▄▅▃▃▃▂▃▃▃▄▅▂▂▇▄▂▂▁▄▄▂█▂▃▄▄▆</td></tr></table><br/></div><div class=\"wandb-col\"><h3>Run summary:</h3><br/><table class=\"wandb\"><tr><td>epoch</td><td>64</td></tr><tr><td>lr-Adam</td><td>0.005</td></tr><tr><td>train_acc</td><td>0.83517</td></tr><tr><td>train_auc</td><td>0.88738</td></tr><tr><td>train_f1</td><td>0.82294</td></tr><tr><td>train_loss_epoch</td><td>0.47525</td></tr><tr><td>train_loss_step</td><td>0.49288</td></tr><tr><td>trainer/global_step</td><td>909</td></tr><tr><td>val_acc</td><td>0.82326</td></tr><tr><td>val_auc</td><td>0.9058</td></tr><tr><td>val_f1</td><td>0.78161</td></tr><tr><td>val_loss_epoch</td><td>0.48843</td></tr><tr><td>val_loss_step</td><td>0.53067</td></tr></table><br/></div></div>"
      ],
      "text/plain": [
       "<IPython.core.display.HTML object>"
      ]
     },
     "metadata": {},
     "output_type": "display_data"
    },
    {
     "data": {
      "text/html": [
       " View run <strong style=\"color:#cdcd00\">GraphConv_2_16_onehot_3</strong> at: <a href='https://wandb.ai/thoomas/PLA_01122024_13PPI_2D3D_fusion_Kfold/runs/q322tsqg' target=\"_blank\">https://wandb.ai/thoomas/PLA_01122024_13PPI_2D3D_fusion_Kfold/runs/q322tsqg</a><br/>Synced 6 W&B file(s), 0 media file(s), 0 artifact file(s) and 0 other file(s)"
      ],
      "text/plain": [
       "<IPython.core.display.HTML object>"
      ]
     },
     "metadata": {},
     "output_type": "display_data"
    },
    {
     "data": {
      "text/html": [
       "Find logs at: <code>.\\wandb\\run-20240122_211048-q322tsqg\\logs</code>"
      ],
      "text/plain": [
       "<IPython.core.display.HTML object>"
      ]
     },
     "metadata": {},
     "output_type": "display_data"
    },
    {
     "data": {
      "application/vnd.jupyter.widget-view+json": {
       "model_id": "ff413db5cd7a4ba0960d88665b916ded",
       "version_major": 2,
       "version_minor": 0
      },
      "text/plain": [
       "VBox(children=(Label(value='Waiting for wandb.init()...\\r'), FloatProgress(value=0.016666666666666666, max=1.0…"
      ]
     },
     "metadata": {},
     "output_type": "display_data"
    },
    {
     "data": {
      "text/html": [
       "wandb version 0.16.2 is available!  To upgrade, please run:\n",
       " $ pip install wandb --upgrade"
      ],
      "text/plain": [
       "<IPython.core.display.HTML object>"
      ]
     },
     "metadata": {},
     "output_type": "display_data"
    },
    {
     "data": {
      "text/html": [
       "Tracking run with wandb version 0.15.8"
      ],
      "text/plain": [
       "<IPython.core.display.HTML object>"
      ]
     },
     "metadata": {},
     "output_type": "display_data"
    },
    {
     "data": {
      "text/html": [
       "Run data is saved locally in <code>y:\\coskun-lab\\Thomas\\23_PLA_revision\\notebooks\\wandb\\run-20240122_215843-1dvgjcjg</code>"
      ],
      "text/plain": [
       "<IPython.core.display.HTML object>"
      ]
     },
     "metadata": {},
     "output_type": "display_data"
    },
    {
     "data": {
      "text/html": [
       "Syncing run <strong><a href='https://wandb.ai/thoomas/PLA_01122024_13PPI_2D3D_fusion_Kfold/runs/1dvgjcjg' target=\"_blank\">GCN_2_64_onehot_3</a></strong> to <a href='https://wandb.ai/thoomas/PLA_01122024_13PPI_2D3D_fusion_Kfold' target=\"_blank\">Weights & Biases</a> (<a href='https://wandb.me/run' target=\"_blank\">docs</a>)<br/>"
      ],
      "text/plain": [
       "<IPython.core.display.HTML object>"
      ]
     },
     "metadata": {},
     "output_type": "display_data"
    },
    {
     "data": {
      "text/html": [
       " View project at <a href='https://wandb.ai/thoomas/PLA_01122024_13PPI_2D3D_fusion_Kfold' target=\"_blank\">https://wandb.ai/thoomas/PLA_01122024_13PPI_2D3D_fusion_Kfold</a>"
      ],
      "text/plain": [
       "<IPython.core.display.HTML object>"
      ]
     },
     "metadata": {},
     "output_type": "display_data"
    },
    {
     "data": {
      "text/html": [
       " View run at <a href='https://wandb.ai/thoomas/PLA_01122024_13PPI_2D3D_fusion_Kfold/runs/1dvgjcjg' target=\"_blank\">https://wandb.ai/thoomas/PLA_01122024_13PPI_2D3D_fusion_Kfold/runs/1dvgjcjg</a>"
      ],
      "text/plain": [
       "<IPython.core.display.HTML object>"
      ]
     },
     "metadata": {},
     "output_type": "display_data"
    },
    {
     "name": "stderr",
     "output_type": "stream",
     "text": [
      "Global seed set to 42\n",
      "GPU available: True (cuda), used: True\n",
      "TPU available: False, using: 0 TPU cores\n",
      "IPU available: False, using: 0 IPUs\n",
      "HPU available: False, using: 0 HPUs\n",
      "Global seed set to 42\n",
      "c:\\Users\\thu71\\AppData\\Local\\anaconda3\\envs\\scanpy\\Lib\\site-packages\\lightning\\pytorch\\callbacks\\model_checkpoint.py:617: UserWarning: Checkpoint directory \\\\bme-retromaster.ad.gatech.edu\\labs5\\coskun-lab\\Thomas\\23_PLA_revision\\data\\13cyc_3D\\saved_models_fusion\\13PPI_2D3D_fusion\\Graph_GNNs_Kfold\\GCN_2_64_concat_3\\attention2\\GraphLevelGCN exists and is not empty.\n",
      "  rank_zero_warn(f\"Checkpoint directory {dirpath} exists and is not empty.\")\n",
      "LOCAL_RANK: 0 - CUDA_VISIBLE_DEVICES: [0]\n",
      "\n",
      "   | Name        | Type             | Params\n",
      "--------------------------------------------------\n",
      "0  | x_embedding | Identity         | 0     \n",
      "1  | model2D     | GNNModel         | 5.2 K \n",
      "2  | model3D     | GNNModel         | 5.2 K \n",
      "3  | head        | Sequential       | 8.4 K \n",
      "4  | loss_module | CrossEntropyLoss | 0     \n",
      "5  | train_acc   | BinaryAccuracy   | 0     \n",
      "6  | train_auroc | BinaryAUROC      | 0     \n",
      "7  | train_f1    | BinaryF1Score    | 0     \n",
      "8  | valid_acc   | BinaryAccuracy   | 0     \n",
      "9  | valid_auroc | BinaryAUROC      | 0     \n",
      "10 | valid_f1    | BinaryF1Score    | 0     \n",
      "11 | pool2D      | Attention_module | 4.2 K \n",
      "12 | pool3D      | Attention_module | 4.2 K \n",
      "--------------------------------------------------\n",
      "27.1 K    Trainable params\n",
      "0         Non-trainable params\n",
      "27.1 K    Total params\n",
      "0.109     Total estimated model params size (MB)\n"
     ]
    },
    {
     "name": "stdout",
     "output_type": "stream",
     "text": [
      "Using GNN\n"
     ]
    },
    {
     "name": "stderr",
     "output_type": "stream",
     "text": [
      "`Trainer.fit` stopped: `max_epochs=65` reached.\n"
     ]
    },
    {
     "data": {
      "text/html": [
       "Waiting for W&B process to finish... <strong style=\"color:green\">(success).</strong>"
      ],
      "text/plain": [
       "<IPython.core.display.HTML object>"
      ]
     },
     "metadata": {},
     "output_type": "display_data"
    },
    {
     "data": {
      "text/html": [
       "<style>\n",
       "    table.wandb td:nth-child(1) { padding: 0 10px; text-align: left ; width: auto;} td:nth-child(2) {text-align: left ; width: 100%}\n",
       "    .wandb-row { display: flex; flex-direction: row; flex-wrap: wrap; justify-content: flex-start; width: 100% }\n",
       "    .wandb-col { display: flex; flex-direction: column; flex-basis: 100%; flex: 1; padding: 10px; }\n",
       "    </style>\n",
       "<div class=\"wandb-row\"><div class=\"wandb-col\"><h3>Run history:</h3><br/><table class=\"wandb\"><tr><td>epoch</td><td>▁▁▁▂▂▂▂▂▂▃▃▃▃▃▄▄▄▄▄▄▅▅▅▅▅▅▆▆▆▆▆▇▇▇▇▇▇███</td></tr><tr><td>lr-Adam</td><td>▁▁▁▁▁▁▁▁▁▁▁▁▁▁▁▁▁▁▁▁▁▁▁▁▁▁▁▁▁▁▁▁▁▁▁▁▁▁▁▁</td></tr><tr><td>train_acc</td><td>▁▄▅▆▆▆▆▆▇▇▇▆▇▇▇▇▆▇▇█▇▇▇███▇▇▇███▇▇█▇█▇█▇</td></tr><tr><td>train_auc</td><td>▁▅▅▆▆▆▇▆▇▇▇▇▇▇▇█▇█▇▇▇▇████▇▇▇██▇▇▇████▇█</td></tr><tr><td>train_f1</td><td>▁▅▆▆▆▆▆▆▇▇▇▆▇▆▇▇▆▇▇█▇▇▇███▇▇▇███▇▇█▇█▇██</td></tr><tr><td>train_loss_epoch</td><td>█▄▄▃▃▃▃▃▂▂▂▂▂▂▂▂▂▁▂▂▂▂▂▁▁▁▂▂▂▁▁▁▂▂▁▁▁▁▁▁</td></tr><tr><td>train_loss_step</td><td>▆▅▆▅▃█▄▆▄▃▅▁▆▅▃▁▅▄█▃▃▇▃▃▁▃▄▆▃▂▃▅▆▅▃▅▃▃▄▁</td></tr><tr><td>trainer/global_step</td><td>▁▁▁▁▁▁▁▁▁▃▃▃▃▃▄▂▂▂▂▂▂▅▅▅▅▆▆▂▂▂▂▃▃▇▇▇███▃</td></tr><tr><td>val_acc</td><td>▁▄▆▇█▇▆▇▇▇█▁██▇▇▇▆▆▆███▇█▆█▆▆▇▇███▇▇█▆▇█</td></tr><tr><td>val_auc</td><td>▁▄▄▆▇▇▆▅▇▇▆▇▇▇▇▇▇▇▅▇▇▆▇▇▇▅█▇▇▆▇▇▇▇▆▇▇▆▇▆</td></tr><tr><td>val_f1</td><td>▁▄▇██▇▆▇▇▇█▆███▇▇▅▇▆███▇█▇█▆▆▇▇███▇▇▇▆▇█</td></tr><tr><td>val_loss_epoch</td><td>█▆▃▂▂▁▃▂▂▂▁▆▂▁▁▂▂▄▂▃▁▂▁▂▁▂▁▃▃▂▂▂▁▁▂▁▂▃▂▂</td></tr><tr><td>val_loss_step</td><td>█▇▃▂▃▂▄▃▄▂▂▁▃▂▂▃▄▅▂▄▃▃▃▃▃▃▃▄▄▂▄▃▂▃▃▃▄▄▃▃</td></tr></table><br/></div><div class=\"wandb-col\"><h3>Run summary:</h3><br/><table class=\"wandb\"><tr><td>epoch</td><td>64</td></tr><tr><td>lr-Adam</td><td>0.005</td></tr><tr><td>train_acc</td><td>0.83981</td></tr><tr><td>train_auc</td><td>0.90702</td></tr><tr><td>train_f1</td><td>0.82728</td></tr><tr><td>train_loss_epoch</td><td>0.46618</td></tr><tr><td>train_loss_step</td><td>0.45269</td></tr><tr><td>trainer/global_step</td><td>909</td></tr><tr><td>val_acc</td><td>0.84651</td></tr><tr><td>val_auc</td><td>0.91723</td></tr><tr><td>val_f1</td><td>0.83249</td></tr><tr><td>val_loss_epoch</td><td>0.45717</td></tr><tr><td>val_loss_step</td><td>0.42151</td></tr></table><br/></div></div>"
      ],
      "text/plain": [
       "<IPython.core.display.HTML object>"
      ]
     },
     "metadata": {},
     "output_type": "display_data"
    },
    {
     "data": {
      "text/html": [
       " View run <strong style=\"color:#cdcd00\">GCN_2_64_onehot_3</strong> at: <a href='https://wandb.ai/thoomas/PLA_01122024_13PPI_2D3D_fusion_Kfold/runs/1dvgjcjg' target=\"_blank\">https://wandb.ai/thoomas/PLA_01122024_13PPI_2D3D_fusion_Kfold/runs/1dvgjcjg</a><br/>Synced 6 W&B file(s), 0 media file(s), 0 artifact file(s) and 0 other file(s)"
      ],
      "text/plain": [
       "<IPython.core.display.HTML object>"
      ]
     },
     "metadata": {},
     "output_type": "display_data"
    },
    {
     "data": {
      "text/html": [
       "Find logs at: <code>.\\wandb\\run-20240122_215843-1dvgjcjg\\logs</code>"
      ],
      "text/plain": [
       "<IPython.core.display.HTML object>"
      ]
     },
     "metadata": {},
     "output_type": "display_data"
    },
    {
     "data": {
      "application/vnd.jupyter.widget-view+json": {
       "model_id": "dcaa1e8f65a34724b0d6ded1086274a8",
       "version_major": 2,
       "version_minor": 0
      },
      "text/plain": [
       "VBox(children=(Label(value='Waiting for wandb.init()...\\r'), FloatProgress(value=0.016666666666666666, max=1.0…"
      ]
     },
     "metadata": {},
     "output_type": "display_data"
    },
    {
     "data": {
      "text/html": [
       "wandb version 0.16.2 is available!  To upgrade, please run:\n",
       " $ pip install wandb --upgrade"
      ],
      "text/plain": [
       "<IPython.core.display.HTML object>"
      ]
     },
     "metadata": {},
     "output_type": "display_data"
    },
    {
     "data": {
      "text/html": [
       "Tracking run with wandb version 0.15.8"
      ],
      "text/plain": [
       "<IPython.core.display.HTML object>"
      ]
     },
     "metadata": {},
     "output_type": "display_data"
    },
    {
     "data": {
      "text/html": [
       "Run data is saved locally in <code>y:\\coskun-lab\\Thomas\\23_PLA_revision\\notebooks\\wandb\\run-20240122_224713-27p4ndhb</code>"
      ],
      "text/plain": [
       "<IPython.core.display.HTML object>"
      ]
     },
     "metadata": {},
     "output_type": "display_data"
    },
    {
     "data": {
      "text/html": [
       "Syncing run <strong><a href='https://wandb.ai/thoomas/PLA_01122024_13PPI_2D3D_fusion_Kfold/runs/27p4ndhb' target=\"_blank\">GAT_3_64_onehot_3</a></strong> to <a href='https://wandb.ai/thoomas/PLA_01122024_13PPI_2D3D_fusion_Kfold' target=\"_blank\">Weights & Biases</a> (<a href='https://wandb.me/run' target=\"_blank\">docs</a>)<br/>"
      ],
      "text/plain": [
       "<IPython.core.display.HTML object>"
      ]
     },
     "metadata": {},
     "output_type": "display_data"
    },
    {
     "data": {
      "text/html": [
       " View project at <a href='https://wandb.ai/thoomas/PLA_01122024_13PPI_2D3D_fusion_Kfold' target=\"_blank\">https://wandb.ai/thoomas/PLA_01122024_13PPI_2D3D_fusion_Kfold</a>"
      ],
      "text/plain": [
       "<IPython.core.display.HTML object>"
      ]
     },
     "metadata": {},
     "output_type": "display_data"
    },
    {
     "data": {
      "text/html": [
       " View run at <a href='https://wandb.ai/thoomas/PLA_01122024_13PPI_2D3D_fusion_Kfold/runs/27p4ndhb' target=\"_blank\">https://wandb.ai/thoomas/PLA_01122024_13PPI_2D3D_fusion_Kfold/runs/27p4ndhb</a>"
      ],
      "text/plain": [
       "<IPython.core.display.HTML object>"
      ]
     },
     "metadata": {},
     "output_type": "display_data"
    },
    {
     "name": "stderr",
     "output_type": "stream",
     "text": [
      "Global seed set to 42\n",
      "GPU available: True (cuda), used: True\n",
      "TPU available: False, using: 0 TPU cores\n",
      "IPU available: False, using: 0 IPUs\n",
      "HPU available: False, using: 0 HPUs\n",
      "Global seed set to 42\n",
      "c:\\Users\\thu71\\AppData\\Local\\anaconda3\\envs\\scanpy\\Lib\\site-packages\\lightning\\pytorch\\callbacks\\model_checkpoint.py:617: UserWarning: Checkpoint directory \\\\bme-retromaster.ad.gatech.edu\\labs5\\coskun-lab\\Thomas\\23_PLA_revision\\data\\13cyc_3D\\saved_models_fusion\\13PPI_2D3D_fusion\\Graph_GNNs_Kfold\\GAT_3_64_concat_3\\attention\\GraphLevelGAT exists and is not empty.\n",
      "  rank_zero_warn(f\"Checkpoint directory {dirpath} exists and is not empty.\")\n",
      "LOCAL_RANK: 0 - CUDA_VISIBLE_DEVICES: [0]\n",
      "\n",
      "   | Name        | Type             | Params\n",
      "--------------------------------------------------\n",
      "0  | x_embedding | Identity         | 0     \n",
      "1  | model2D     | GAT              | 44.6 K\n",
      "2  | model3D     | GAT              | 44.6 K\n",
      "3  | head        | Sequential       | 8.4 K \n",
      "4  | loss_module | CrossEntropyLoss | 0     \n",
      "5  | train_acc   | BinaryAccuracy   | 0     \n",
      "6  | train_auroc | BinaryAUROC      | 0     \n",
      "7  | train_f1    | BinaryF1Score    | 0     \n",
      "8  | valid_acc   | BinaryAccuracy   | 0     \n",
      "9  | valid_auroc | BinaryAUROC      | 0     \n",
      "10 | valid_f1    | BinaryF1Score    | 0     \n",
      "11 | pool2D      | GlobalAttention  | 65    \n",
      "12 | pool3D      | GlobalAttention  | 65    \n",
      "--------------------------------------------------\n",
      "97.7 K    Trainable params\n",
      "0         Non-trainable params\n",
      "97.7 K    Total params\n",
      "0.391     Total estimated model params size (MB)\n"
     ]
    },
    {
     "name": "stdout",
     "output_type": "stream",
     "text": [
      "Using GAT\n"
     ]
    },
    {
     "name": "stderr",
     "output_type": "stream",
     "text": [
      "`Trainer.fit` stopped: `max_epochs=65` reached.\n"
     ]
    },
    {
     "data": {
      "text/html": [
       "Waiting for W&B process to finish... <strong style=\"color:green\">(success).</strong>"
      ],
      "text/plain": [
       "<IPython.core.display.HTML object>"
      ]
     },
     "metadata": {},
     "output_type": "display_data"
    },
    {
     "data": {
      "application/vnd.jupyter.widget-view+json": {
       "model_id": "e7f7b2563d7e4a8f86542a6e8afe9f37",
       "version_major": 2,
       "version_minor": 0
      },
      "text/plain": [
       "VBox(children=(Label(value='0.001 MB of 0.001 MB uploaded (0.000 MB deduped)\\r'), FloatProgress(value=1.0, max…"
      ]
     },
     "metadata": {},
     "output_type": "display_data"
    },
    {
     "data": {
      "text/html": [
       "<style>\n",
       "    table.wandb td:nth-child(1) { padding: 0 10px; text-align: left ; width: auto;} td:nth-child(2) {text-align: left ; width: 100%}\n",
       "    .wandb-row { display: flex; flex-direction: row; flex-wrap: wrap; justify-content: flex-start; width: 100% }\n",
       "    .wandb-col { display: flex; flex-direction: column; flex-basis: 100%; flex: 1; padding: 10px; }\n",
       "    </style>\n",
       "<div class=\"wandb-row\"><div class=\"wandb-col\"><h3>Run history:</h3><br/><table class=\"wandb\"><tr><td>epoch</td><td>▁▁▁▂▂▂▂▂▂▃▃▃▃▃▄▄▄▄▄▄▅▅▅▅▅▅▆▆▆▆▆▇▇▇▇▇▇███</td></tr><tr><td>lr-Adam</td><td>▁▁▁▁▁▁▁▁▁▁▁▁▁▁▁▁▁▁▁▁▁▁▁▁▁▁▁▁▁▁▁▁▁▁▁▁▁▁▁▁</td></tr><tr><td>train_acc</td><td>▁▅▆▇▆▆▆▇▇▇▇▇▇█▇▇▇▇▇████▇█▇▇▇▇███▇█████▇█</td></tr><tr><td>train_auc</td><td>▁▅▅▆▆▆▆▆▇▇▇▇▆▇▇▇▇▇▇▇▇▇▇▇█▇▇▇▇████▇█▇██▇█</td></tr><tr><td>train_f1</td><td>▁▆▆▇▇▇▆▇▇▇█▇▇█▇▇▇██████▇███▇██████████▇█</td></tr><tr><td>train_loss_epoch</td><td>█▄▄▃▃▃▄▃▂▂▂▃▃▂▂▂▂▂▂▂▁▁▂▂▁▁▂▂▂▂▁▁▂▂▁▂▁▁▂▁</td></tr><tr><td>train_loss_step</td><td>█▇█▆▆▂▇▅▄█▁▄▆▄▂▂▃▃▂▅▂▃▄▄▁▅▄▃▄▃▁▃▄▃█▄▃▄▄▃</td></tr><tr><td>trainer/global_step</td><td>▁▁▁▁▁▁▁▁▁▃▃▃▃▃▄▂▂▂▂▂▂▅▅▅▅▆▆▂▂▂▂▃▃▇▇▇███▃</td></tr><tr><td>val_acc</td><td>▁▁▆▇▇▇▇▇▇▇▇▇▇▆▇▆▇▇▇▇▇▇▆█▇▇▇▇█▇▆▇█▇███▇█▇</td></tr><tr><td>val_auc</td><td>▂▃▄▆▃▅▄▄▄▄▅▅▄▄▄▄▅▅▅▆▅▁▄▅▆▆▅▅▆▅▆▅▆▇▆█▆▇▆▆</td></tr><tr><td>val_f1</td><td>▁▁▆▇▆▇▇▇▇▇▇▇▇▆▇▆▇▇▇▇▇▆▆▇▇▇▇▇█▇▆▇▇▇▇█▇▇▇▇</td></tr><tr><td>val_loss_epoch</td><td>▇█▃▂▂▂▂▂▂▂▂▂▂▃▂▃▂▂▃▂▂▃▃▂▂▂▂▂▁▂▃▂▁▂▂▁▁▂▁▂</td></tr><tr><td>val_loss_step</td><td>▇▁▁▂▂▂▂▄▂▄▁▃▃▂▄▂▂▃▁▂▃█▂▅▂▂▆▅▄▃▂▅▄▁▆▅▃▁▄▂</td></tr></table><br/></div><div class=\"wandb-col\"><h3>Run summary:</h3><br/><table class=\"wandb\"><tr><td>epoch</td><td>64</td></tr><tr><td>lr-Adam</td><td>0.005</td></tr><tr><td>train_acc</td><td>0.8253</td></tr><tr><td>train_auc</td><td>0.88575</td></tr><tr><td>train_f1</td><td>0.81223</td></tr><tr><td>train_loss_epoch</td><td>0.48245</td></tr><tr><td>train_loss_step</td><td>0.46932</td></tr><tr><td>trainer/global_step</td><td>909</td></tr><tr><td>val_acc</td><td>0.7907</td></tr><tr><td>val_auc</td><td>0.9028</td></tr><tr><td>val_f1</td><td>0.79911</td></tr><tr><td>val_loss_epoch</td><td>0.48824</td></tr><tr><td>val_loss_step</td><td>0.35504</td></tr></table><br/></div></div>"
      ],
      "text/plain": [
       "<IPython.core.display.HTML object>"
      ]
     },
     "metadata": {},
     "output_type": "display_data"
    },
    {
     "data": {
      "text/html": [
       " View run <strong style=\"color:#cdcd00\">GAT_3_64_onehot_3</strong> at: <a href='https://wandb.ai/thoomas/PLA_01122024_13PPI_2D3D_fusion_Kfold/runs/27p4ndhb' target=\"_blank\">https://wandb.ai/thoomas/PLA_01122024_13PPI_2D3D_fusion_Kfold/runs/27p4ndhb</a><br/>Synced 6 W&B file(s), 0 media file(s), 0 artifact file(s) and 0 other file(s)"
      ],
      "text/plain": [
       "<IPython.core.display.HTML object>"
      ]
     },
     "metadata": {},
     "output_type": "display_data"
    },
    {
     "data": {
      "text/html": [
       "Find logs at: <code>.\\wandb\\run-20240122_224713-27p4ndhb\\logs</code>"
      ],
      "text/plain": [
       "<IPython.core.display.HTML object>"
      ]
     },
     "metadata": {},
     "output_type": "display_data"
    },
    {
     "data": {
      "text/html": [
       "wandb version 0.16.2 is available!  To upgrade, please run:\n",
       " $ pip install wandb --upgrade"
      ],
      "text/plain": [
       "<IPython.core.display.HTML object>"
      ]
     },
     "metadata": {},
     "output_type": "display_data"
    },
    {
     "data": {
      "text/html": [
       "Tracking run with wandb version 0.15.8"
      ],
      "text/plain": [
       "<IPython.core.display.HTML object>"
      ]
     },
     "metadata": {},
     "output_type": "display_data"
    },
    {
     "data": {
      "text/html": [
       "Run data is saved locally in <code>y:\\coskun-lab\\Thomas\\23_PLA_revision\\notebooks\\wandb\\run-20240122_233924-9di4vsfl</code>"
      ],
      "text/plain": [
       "<IPython.core.display.HTML object>"
      ]
     },
     "metadata": {},
     "output_type": "display_data"
    },
    {
     "data": {
      "text/html": [
       "Syncing run <strong><a href='https://wandb.ai/thoomas/PLA_01122024_13PPI_2D3D_fusion_Kfold/runs/9di4vsfl' target=\"_blank\">GINConv_3_16_onehot_3</a></strong> to <a href='https://wandb.ai/thoomas/PLA_01122024_13PPI_2D3D_fusion_Kfold' target=\"_blank\">Weights & Biases</a> (<a href='https://wandb.me/run' target=\"_blank\">docs</a>)<br/>"
      ],
      "text/plain": [
       "<IPython.core.display.HTML object>"
      ]
     },
     "metadata": {},
     "output_type": "display_data"
    },
    {
     "data": {
      "text/html": [
       " View project at <a href='https://wandb.ai/thoomas/PLA_01122024_13PPI_2D3D_fusion_Kfold' target=\"_blank\">https://wandb.ai/thoomas/PLA_01122024_13PPI_2D3D_fusion_Kfold</a>"
      ],
      "text/plain": [
       "<IPython.core.display.HTML object>"
      ]
     },
     "metadata": {},
     "output_type": "display_data"
    },
    {
     "data": {
      "text/html": [
       " View run at <a href='https://wandb.ai/thoomas/PLA_01122024_13PPI_2D3D_fusion_Kfold/runs/9di4vsfl' target=\"_blank\">https://wandb.ai/thoomas/PLA_01122024_13PPI_2D3D_fusion_Kfold/runs/9di4vsfl</a>"
      ],
      "text/plain": [
       "<IPython.core.display.HTML object>"
      ]
     },
     "metadata": {},
     "output_type": "display_data"
    },
    {
     "name": "stderr",
     "output_type": "stream",
     "text": [
      "Global seed set to 42\n",
      "GPU available: True (cuda), used: True\n",
      "TPU available: False, using: 0 TPU cores\n",
      "IPU available: False, using: 0 IPUs\n",
      "HPU available: False, using: 0 HPUs\n",
      "Global seed set to 42\n",
      "c:\\Users\\thu71\\AppData\\Local\\anaconda3\\envs\\scanpy\\Lib\\site-packages\\lightning\\pytorch\\callbacks\\model_checkpoint.py:617: UserWarning: Checkpoint directory \\\\bme-retromaster.ad.gatech.edu\\labs5\\coskun-lab\\Thomas\\23_PLA_revision\\data\\13cyc_3D\\saved_models_fusion\\13PPI_2D3D_fusion\\Graph_GNNs_Kfold\\GINConv_3_16_concat_3\\mean\\GraphLevelGINConv exists and is not empty.\n",
      "  rank_zero_warn(f\"Checkpoint directory {dirpath} exists and is not empty.\")\n",
      "LOCAL_RANK: 0 - CUDA_VISIBLE_DEVICES: [0]\n",
      "\n",
      "   | Name        | Type             | Params\n",
      "--------------------------------------------------\n",
      "0  | x_embedding | Identity         | 0     \n",
      "1  | model2D     | GIN              | 1.7 K \n",
      "2  | model3D     | GIN              | 1.7 K \n",
      "3  | head        | Sequential       | 562   \n",
      "4  | loss_module | CrossEntropyLoss | 0     \n",
      "5  | train_acc   | BinaryAccuracy   | 0     \n",
      "6  | train_auroc | BinaryAUROC      | 0     \n",
      "7  | train_f1    | BinaryF1Score    | 0     \n",
      "8  | valid_acc   | BinaryAccuracy   | 0     \n",
      "9  | valid_auroc | BinaryAUROC      | 0     \n",
      "10 | valid_f1    | BinaryF1Score    | 0     \n",
      "--------------------------------------------------\n",
      "4.0 K     Trainable params\n",
      "0         Non-trainable params\n",
      "4.0 K     Total params\n",
      "0.016     Total estimated model params size (MB)\n"
     ]
    },
    {
     "name": "stdout",
     "output_type": "stream",
     "text": [
      "GINConv\n"
     ]
    },
    {
     "name": "stderr",
     "output_type": "stream",
     "text": [
      "`Trainer.fit` stopped: `max_epochs=65` reached.\n"
     ]
    },
    {
     "data": {
      "text/html": [
       "Waiting for W&B process to finish... <strong style=\"color:green\">(success).</strong>"
      ],
      "text/plain": [
       "<IPython.core.display.HTML object>"
      ]
     },
     "metadata": {},
     "output_type": "display_data"
    },
    {
     "data": {
      "application/vnd.jupyter.widget-view+json": {
       "model_id": "7f63a83226da4727b9d7d065cced8ce6",
       "version_major": 2,
       "version_minor": 0
      },
      "text/plain": [
       "VBox(children=(Label(value='0.001 MB of 0.013 MB uploaded (0.000 MB deduped)\\r'), FloatProgress(value=0.080161…"
      ]
     },
     "metadata": {},
     "output_type": "display_data"
    },
    {
     "data": {
      "text/html": [
       "<style>\n",
       "    table.wandb td:nth-child(1) { padding: 0 10px; text-align: left ; width: auto;} td:nth-child(2) {text-align: left ; width: 100%}\n",
       "    .wandb-row { display: flex; flex-direction: row; flex-wrap: wrap; justify-content: flex-start; width: 100% }\n",
       "    .wandb-col { display: flex; flex-direction: column; flex-basis: 100%; flex: 1; padding: 10px; }\n",
       "    </style>\n",
       "<div class=\"wandb-row\"><div class=\"wandb-col\"><h3>Run history:</h3><br/><table class=\"wandb\"><tr><td>epoch</td><td>▁▁▁▂▂▂▂▂▂▃▃▃▃▃▄▄▄▄▄▄▅▅▅▅▅▅▆▆▆▆▆▇▇▇▇▇▇███</td></tr><tr><td>lr-Adam</td><td>▁▁▁▁▁▁▁▁▁▁▁▁▁▁▁▁▁▁▁▁▁▁▁▁▁▁▁▁▁▁▁▁▁▁▁▁▁▁▁▁</td></tr><tr><td>train_acc</td><td>▁▅▆▆▇▇▇▇▇▇▇▇▇▇▇▇▇█▇█▇███████████████████</td></tr><tr><td>train_auc</td><td>▁▅▆▆▇▇▇▇▇▇▇▇▇▇▇▇▇███████████████████████</td></tr><tr><td>train_f1</td><td>▁▅▆▆▆▇▇▇▇▇▇▇▇▇▇▇▇█▇▇▇█████████▇██▇███▇██</td></tr><tr><td>train_loss_epoch</td><td>█▅▃▃▃▂▂▂▂▂▂▂▂▂▂▂▂▁▂▁▂▁▁▁▁▁▁▁▁▁▁▁▁▁▁▁▁▁▁▁</td></tr><tr><td>train_loss_step</td><td>█▄▅▃▃▃▄▂▂▅▄▂▃▂▂▂▁▂▂▃▂▂▂▂▃▂▂▁▃▃▁▁▃▄▂▃▃▂▂▂</td></tr><tr><td>trainer/global_step</td><td>▁▁▁▁▁▁▁▁▁▃▃▃▃▃▄▂▂▂▂▂▂▅▅▅▅▆▆▂▂▂▂▃▃▇▇▇███▃</td></tr><tr><td>val_acc</td><td>▃▁▁▅▆▆▃▆▇▇▇▆▄▆▆▇▆▇▆▇▅▅▇▇▆▇▆▇▅▅▇▅▆▆█▅▅█▇▆</td></tr><tr><td>val_auc</td><td>▁▄▃▅▅▆▆▃▆▆▇▅▆▄▅▃▇▅▅▇▅▆▆▇▇▇▄█▅▆▅▄▆▇▆▅▅█▇▆</td></tr><tr><td>val_f1</td><td>▁▁▂▅▄▅▃▅▇▆▇▄▅▄▇▆▃█▅▆▆▅▅▄▆▇▅▇▃▅▅▆▆▃█▆▅▇▅▄</td></tr><tr><td>val_loss_epoch</td><td>█▃▄▂▂▂▃▂▁▁▁▂▂▂▂▂▂▂▁▂▂▁▁▂▁▂▂▁▂▂▂▂▂▂▁▂▂▁▂▂</td></tr><tr><td>val_loss_step</td><td>█▂▂▂▃▃▁▂▁▂▁▄▁▃▂▂▄▂▁▃▁▂▃▄▂▂▃▂▃▂▃▂▂▄▃▁▂▃▄▄</td></tr></table><br/></div><div class=\"wandb-col\"><h3>Run summary:</h3><br/><table class=\"wandb\"><tr><td>epoch</td><td>64</td></tr><tr><td>lr-Adam</td><td>0.005</td></tr><tr><td>train_acc</td><td>0.85026</td></tr><tr><td>train_auc</td><td>0.90213</td></tr><tr><td>train_f1</td><td>0.83692</td></tr><tr><td>train_loss_epoch</td><td>0.46112</td></tr><tr><td>train_loss_step</td><td>0.43889</td></tr><tr><td>trainer/global_step</td><td>909</td></tr><tr><td>val_acc</td><td>0.82791</td></tr><tr><td>val_auc</td><td>0.90206</td></tr><tr><td>val_f1</td><td>0.80214</td></tr><tr><td>val_loss_epoch</td><td>0.47086</td></tr><tr><td>val_loss_step</td><td>0.42322</td></tr></table><br/></div></div>"
      ],
      "text/plain": [
       "<IPython.core.display.HTML object>"
      ]
     },
     "metadata": {},
     "output_type": "display_data"
    },
    {
     "data": {
      "text/html": [
       " View run <strong style=\"color:#cdcd00\">GINConv_3_16_onehot_3</strong> at: <a href='https://wandb.ai/thoomas/PLA_01122024_13PPI_2D3D_fusion_Kfold/runs/9di4vsfl' target=\"_blank\">https://wandb.ai/thoomas/PLA_01122024_13PPI_2D3D_fusion_Kfold/runs/9di4vsfl</a><br/>Synced 6 W&B file(s), 0 media file(s), 0 artifact file(s) and 0 other file(s)"
      ],
      "text/plain": [
       "<IPython.core.display.HTML object>"
      ]
     },
     "metadata": {},
     "output_type": "display_data"
    },
    {
     "data": {
      "text/html": [
       "Find logs at: <code>.\\wandb\\run-20240122_233924-9di4vsfl\\logs</code>"
      ],
      "text/plain": [
       "<IPython.core.display.HTML object>"
      ]
     },
     "metadata": {},
     "output_type": "display_data"
    },
    {
     "data": {
      "text/html": [
       "wandb version 0.16.2 is available!  To upgrade, please run:\n",
       " $ pip install wandb --upgrade"
      ],
      "text/plain": [
       "<IPython.core.display.HTML object>"
      ]
     },
     "metadata": {},
     "output_type": "display_data"
    },
    {
     "data": {
      "text/html": [
       "Tracking run with wandb version 0.15.8"
      ],
      "text/plain": [
       "<IPython.core.display.HTML object>"
      ]
     },
     "metadata": {},
     "output_type": "display_data"
    },
    {
     "data": {
      "text/html": [
       "Run data is saved locally in <code>y:\\coskun-lab\\Thomas\\23_PLA_revision\\notebooks\\wandb\\run-20240123_002931-zyqypkr1</code>"
      ],
      "text/plain": [
       "<IPython.core.display.HTML object>"
      ]
     },
     "metadata": {},
     "output_type": "display_data"
    },
    {
     "data": {
      "text/html": [
       "Syncing run <strong><a href='https://wandb.ai/thoomas/PLA_01122024_13PPI_2D3D_fusion_Kfold/runs/zyqypkr1' target=\"_blank\">MLP_2_64_onehot_4</a></strong> to <a href='https://wandb.ai/thoomas/PLA_01122024_13PPI_2D3D_fusion_Kfold' target=\"_blank\">Weights & Biases</a> (<a href='https://wandb.me/run' target=\"_blank\">docs</a>)<br/>"
      ],
      "text/plain": [
       "<IPython.core.display.HTML object>"
      ]
     },
     "metadata": {},
     "output_type": "display_data"
    },
    {
     "data": {
      "text/html": [
       " View project at <a href='https://wandb.ai/thoomas/PLA_01122024_13PPI_2D3D_fusion_Kfold' target=\"_blank\">https://wandb.ai/thoomas/PLA_01122024_13PPI_2D3D_fusion_Kfold</a>"
      ],
      "text/plain": [
       "<IPython.core.display.HTML object>"
      ]
     },
     "metadata": {},
     "output_type": "display_data"
    },
    {
     "data": {
      "text/html": [
       " View run at <a href='https://wandb.ai/thoomas/PLA_01122024_13PPI_2D3D_fusion_Kfold/runs/zyqypkr1' target=\"_blank\">https://wandb.ai/thoomas/PLA_01122024_13PPI_2D3D_fusion_Kfold/runs/zyqypkr1</a>"
      ],
      "text/plain": [
       "<IPython.core.display.HTML object>"
      ]
     },
     "metadata": {},
     "output_type": "display_data"
    },
    {
     "name": "stderr",
     "output_type": "stream",
     "text": [
      "Global seed set to 42\n",
      "GPU available: True (cuda), used: True\n",
      "TPU available: False, using: 0 TPU cores\n",
      "IPU available: False, using: 0 IPUs\n",
      "HPU available: False, using: 0 HPUs\n",
      "Global seed set to 42\n",
      "c:\\Users\\thu71\\AppData\\Local\\anaconda3\\envs\\scanpy\\Lib\\site-packages\\lightning\\pytorch\\callbacks\\model_checkpoint.py:617: UserWarning: Checkpoint directory \\\\bme-retromaster.ad.gatech.edu\\labs5\\coskun-lab\\Thomas\\23_PLA_revision\\data\\13cyc_3D\\saved_models_fusion\\13PPI_2D3D_fusion\\Graph_GNNs_Kfold\\MLP_2_64_concat_4\\attention\\GraphLevelMLP exists and is not empty.\n",
      "  rank_zero_warn(f\"Checkpoint directory {dirpath} exists and is not empty.\")\n",
      "LOCAL_RANK: 0 - CUDA_VISIBLE_DEVICES: [0]\n",
      "\n",
      "   | Name        | Type             | Params\n",
      "--------------------------------------------------\n",
      "0  | x_embedding | Identity         | 0     \n",
      "1  | model2D     | MLPModel         | 5.1 K \n",
      "2  | model3D     | MLPModel         | 5.1 K \n",
      "3  | head        | Sequential       | 8.4 K \n",
      "4  | loss_module | CrossEntropyLoss | 0     \n",
      "5  | train_acc   | BinaryAccuracy   | 0     \n",
      "6  | train_auroc | BinaryAUROC      | 0     \n",
      "7  | train_f1    | BinaryF1Score    | 0     \n",
      "8  | valid_acc   | BinaryAccuracy   | 0     \n",
      "9  | valid_auroc | BinaryAUROC      | 0     \n",
      "10 | valid_f1    | BinaryF1Score    | 0     \n",
      "11 | pool2D      | GlobalAttention  | 65    \n",
      "12 | pool3D      | GlobalAttention  | 65    \n",
      "--------------------------------------------------\n",
      "18.6 K    Trainable params\n",
      "0         Non-trainable params\n",
      "18.6 K    Total params\n",
      "0.075     Total estimated model params size (MB)\n"
     ]
    },
    {
     "name": "stdout",
     "output_type": "stream",
     "text": [
      "Using MLP\n"
     ]
    },
    {
     "name": "stderr",
     "output_type": "stream",
     "text": [
      "`Trainer.fit` stopped: `max_epochs=65` reached.\n"
     ]
    },
    {
     "data": {
      "text/html": [
       "Waiting for W&B process to finish... <strong style=\"color:green\">(success).</strong>"
      ],
      "text/plain": [
       "<IPython.core.display.HTML object>"
      ]
     },
     "metadata": {},
     "output_type": "display_data"
    },
    {
     "data": {
      "text/html": [
       "<style>\n",
       "    table.wandb td:nth-child(1) { padding: 0 10px; text-align: left ; width: auto;} td:nth-child(2) {text-align: left ; width: 100%}\n",
       "    .wandb-row { display: flex; flex-direction: row; flex-wrap: wrap; justify-content: flex-start; width: 100% }\n",
       "    .wandb-col { display: flex; flex-direction: column; flex-basis: 100%; flex: 1; padding: 10px; }\n",
       "    </style>\n",
       "<div class=\"wandb-row\"><div class=\"wandb-col\"><h3>Run history:</h3><br/><table class=\"wandb\"><tr><td>epoch</td><td>▁▁▁▂▂▂▂▂▂▃▃▃▃▃▄▄▄▄▄▄▅▅▅▅▅▅▆▆▆▆▆▇▇▇▇▇▇███</td></tr><tr><td>lr-Adam</td><td>▁▁▁▁▁▁▁▁▁▁▁▁▁▁▁▁▁▁▁▁▁▁▁▁▁▁▁▁▁▁▁▁▁▁▁▁▁▁▁▁</td></tr><tr><td>train_acc</td><td>▁▃▇▇▇▇█▇███▇██▇▇▇▇███▇█▇███▇████████████</td></tr><tr><td>train_auc</td><td>▁▄▇▇███████▇████▇███████████████████████</td></tr><tr><td>train_f1</td><td>▁▁█▇███████████████████████▇████████████</td></tr><tr><td>train_loss_epoch</td><td>█▇▂▂▂▂▂▂▂▁▁▂▁▁▂▁▂▂▁▁▂▂▁▂▁▁▁▂▁▁▂▁▁▁▁▁▁▁▁▁</td></tr><tr><td>train_loss_step</td><td>█▆▃▂▂▃▃▄▃▂▄▄▃▃▄▁▄▂▁▃▃▅▃▄▁▂▁▄▃▄▂▃▁▂▂▄▆▄▁▁</td></tr><tr><td>trainer/global_step</td><td>▁▁▁▁▁▁▁▁▁▃▃▃▃▃▄▂▂▂▂▂▂▅▅▅▅▆▆▂▂▂▂▃▃▇▇▇███▃</td></tr><tr><td>val_acc</td><td>▁█▇▇█▇█▇█▇▆▇▆▆▇▇█▇██▇██▇▇▇▇█▇▇█▇█▇▇█▇█▇█</td></tr><tr><td>val_auc</td><td>▁▃▅▆▆▇▇▇▇▇█████▇███▇▇▇▇█▇███████████████</td></tr><tr><td>val_f1</td><td>▁█▇██▇████▆█▆▇▇██▇█████▇█▇▇██▇█▇█▇██▇█▇█</td></tr><tr><td>val_loss_epoch</td><td>█▆▂▂▂▃▂▂▁▁▅▂▅▄▂▂▁▂▁▁▁▁▁▂▁▂▃▁▁▃▁▂▁▂▁▁▂▁▂▁</td></tr><tr><td>val_loss_step</td><td>█▆▄▃▃▅▃▄▃▁▇▃▇▆▄▁▃▄▃▂▃▃▂▄▂▄▅▃▃▅▃▄▃▄▁▂▄▂▄▃</td></tr></table><br/></div><div class=\"wandb-col\"><h3>Run summary:</h3><br/><table class=\"wandb\"><tr><td>epoch</td><td>64</td></tr><tr><td>lr-Adam</td><td>0.005</td></tr><tr><td>train_acc</td><td>0.77829</td></tr><tr><td>train_auc</td><td>0.8572</td></tr><tr><td>train_f1</td><td>0.75033</td></tr><tr><td>train_loss_epoch</td><td>0.51969</td></tr><tr><td>train_loss_step</td><td>0.5227</td></tr><tr><td>trainer/global_step</td><td>909</td></tr><tr><td>val_acc</td><td>0.76279</td></tr><tr><td>val_auc</td><td>0.84177</td></tr><tr><td>val_f1</td><td>0.75829</td></tr><tr><td>val_loss_epoch</td><td>0.52799</td></tr><tr><td>val_loss_step</td><td>0.48919</td></tr></table><br/></div></div>"
      ],
      "text/plain": [
       "<IPython.core.display.HTML object>"
      ]
     },
     "metadata": {},
     "output_type": "display_data"
    },
    {
     "data": {
      "text/html": [
       " View run <strong style=\"color:#cdcd00\">MLP_2_64_onehot_4</strong> at: <a href='https://wandb.ai/thoomas/PLA_01122024_13PPI_2D3D_fusion_Kfold/runs/zyqypkr1' target=\"_blank\">https://wandb.ai/thoomas/PLA_01122024_13PPI_2D3D_fusion_Kfold/runs/zyqypkr1</a><br/>Synced 6 W&B file(s), 0 media file(s), 0 artifact file(s) and 0 other file(s)"
      ],
      "text/plain": [
       "<IPython.core.display.HTML object>"
      ]
     },
     "metadata": {},
     "output_type": "display_data"
    },
    {
     "data": {
      "text/html": [
       "Find logs at: <code>.\\wandb\\run-20240123_002931-zyqypkr1\\logs</code>"
      ],
      "text/plain": [
       "<IPython.core.display.HTML object>"
      ]
     },
     "metadata": {},
     "output_type": "display_data"
    },
    {
     "data": {
      "application/vnd.jupyter.widget-view+json": {
       "model_id": "20ce45f11f634c8e953dc4a35abbad12",
       "version_major": 2,
       "version_minor": 0
      },
      "text/plain": [
       "VBox(children=(Label(value='Waiting for wandb.init()...\\r'), FloatProgress(value=0.016666666666666666, max=1.0…"
      ]
     },
     "metadata": {},
     "output_type": "display_data"
    },
    {
     "data": {
      "text/html": [
       "wandb version 0.16.2 is available!  To upgrade, please run:\n",
       " $ pip install wandb --upgrade"
      ],
      "text/plain": [
       "<IPython.core.display.HTML object>"
      ]
     },
     "metadata": {},
     "output_type": "display_data"
    },
    {
     "data": {
      "text/html": [
       "Tracking run with wandb version 0.15.8"
      ],
      "text/plain": [
       "<IPython.core.display.HTML object>"
      ]
     },
     "metadata": {},
     "output_type": "display_data"
    },
    {
     "data": {
      "text/html": [
       "Run data is saved locally in <code>y:\\coskun-lab\\Thomas\\23_PLA_revision\\notebooks\\wandb\\run-20240123_011843-enub5pmo</code>"
      ],
      "text/plain": [
       "<IPython.core.display.HTML object>"
      ]
     },
     "metadata": {},
     "output_type": "display_data"
    },
    {
     "data": {
      "text/html": [
       "Syncing run <strong><a href='https://wandb.ai/thoomas/PLA_01122024_13PPI_2D3D_fusion_Kfold/runs/enub5pmo' target=\"_blank\">GraphConv_2_16_onehot_4</a></strong> to <a href='https://wandb.ai/thoomas/PLA_01122024_13PPI_2D3D_fusion_Kfold' target=\"_blank\">Weights & Biases</a> (<a href='https://wandb.me/run' target=\"_blank\">docs</a>)<br/>"
      ],
      "text/plain": [
       "<IPython.core.display.HTML object>"
      ]
     },
     "metadata": {},
     "output_type": "display_data"
    },
    {
     "data": {
      "text/html": [
       " View project at <a href='https://wandb.ai/thoomas/PLA_01122024_13PPI_2D3D_fusion_Kfold' target=\"_blank\">https://wandb.ai/thoomas/PLA_01122024_13PPI_2D3D_fusion_Kfold</a>"
      ],
      "text/plain": [
       "<IPython.core.display.HTML object>"
      ]
     },
     "metadata": {},
     "output_type": "display_data"
    },
    {
     "data": {
      "text/html": [
       " View run at <a href='https://wandb.ai/thoomas/PLA_01122024_13PPI_2D3D_fusion_Kfold/runs/enub5pmo' target=\"_blank\">https://wandb.ai/thoomas/PLA_01122024_13PPI_2D3D_fusion_Kfold/runs/enub5pmo</a>"
      ],
      "text/plain": [
       "<IPython.core.display.HTML object>"
      ]
     },
     "metadata": {},
     "output_type": "display_data"
    },
    {
     "name": "stderr",
     "output_type": "stream",
     "text": [
      "Global seed set to 42\n",
      "GPU available: True (cuda), used: True\n",
      "TPU available: False, using: 0 TPU cores\n",
      "IPU available: False, using: 0 IPUs\n",
      "HPU available: False, using: 0 HPUs\n",
      "Global seed set to 42\n",
      "c:\\Users\\thu71\\AppData\\Local\\anaconda3\\envs\\scanpy\\Lib\\site-packages\\lightning\\pytorch\\callbacks\\model_checkpoint.py:617: UserWarning: Checkpoint directory \\\\bme-retromaster.ad.gatech.edu\\labs5\\coskun-lab\\Thomas\\23_PLA_revision\\data\\13cyc_3D\\saved_models_fusion\\13PPI_2D3D_fusion\\Graph_GNNs_Kfold\\GraphConv_2_16_concat_4\\attention\\GraphLevelGraphConv exists and is not empty.\n",
      "  rank_zero_warn(f\"Checkpoint directory {dirpath} exists and is not empty.\")\n",
      "LOCAL_RANK: 0 - CUDA_VISIBLE_DEVICES: [0]\n",
      "\n",
      "   | Name        | Type             | Params\n",
      "--------------------------------------------------\n",
      "0  | x_embedding | Identity         | 0     \n",
      "1  | model2D     | GNNModel         | 992   \n",
      "2  | model3D     | GNNModel         | 992   \n",
      "3  | head        | Sequential       | 562   \n",
      "4  | loss_module | CrossEntropyLoss | 0     \n",
      "5  | train_acc   | BinaryAccuracy   | 0     \n",
      "6  | train_auroc | BinaryAUROC      | 0     \n",
      "7  | train_f1    | BinaryF1Score    | 0     \n",
      "8  | valid_acc   | BinaryAccuracy   | 0     \n",
      "9  | valid_auroc | BinaryAUROC      | 0     \n",
      "10 | valid_f1    | BinaryF1Score    | 0     \n",
      "11 | pool2D      | GlobalAttention  | 17    \n",
      "12 | pool3D      | GlobalAttention  | 17    \n",
      "--------------------------------------------------\n",
      "2.6 K     Trainable params\n",
      "0         Non-trainable params\n",
      "2.6 K     Total params\n",
      "0.010     Total estimated model params size (MB)\n"
     ]
    },
    {
     "name": "stdout",
     "output_type": "stream",
     "text": [
      "Using GNN\n"
     ]
    },
    {
     "name": "stderr",
     "output_type": "stream",
     "text": [
      "`Trainer.fit` stopped: `max_epochs=65` reached.\n"
     ]
    },
    {
     "data": {
      "text/html": [
       "Waiting for W&B process to finish... <strong style=\"color:green\">(success).</strong>"
      ],
      "text/plain": [
       "<IPython.core.display.HTML object>"
      ]
     },
     "metadata": {},
     "output_type": "display_data"
    },
    {
     "data": {
      "text/html": [
       "<style>\n",
       "    table.wandb td:nth-child(1) { padding: 0 10px; text-align: left ; width: auto;} td:nth-child(2) {text-align: left ; width: 100%}\n",
       "    .wandb-row { display: flex; flex-direction: row; flex-wrap: wrap; justify-content: flex-start; width: 100% }\n",
       "    .wandb-col { display: flex; flex-direction: column; flex-basis: 100%; flex: 1; padding: 10px; }\n",
       "    </style>\n",
       "<div class=\"wandb-row\"><div class=\"wandb-col\"><h3>Run history:</h3><br/><table class=\"wandb\"><tr><td>epoch</td><td>▁▁▁▂▂▂▂▂▂▃▃▃▃▃▄▄▄▄▄▄▅▅▅▅▅▅▆▆▆▆▆▇▇▇▇▇▇███</td></tr><tr><td>lr-Adam</td><td>▁▁▁▁▁▁▁▁▁▁▁▁▁▁▁▁▁▁▁▁▁▁▁▁▁▁▁▁▁▁▁▁▁▁▁▁▁▁▁▁</td></tr><tr><td>train_acc</td><td>▁▅▆▆▆▆▆▆▆▇▇▇▇▇▇▇▇▇▇▇▇▇▇▇▇▇▇██▇▇█▇▇██████</td></tr><tr><td>train_auc</td><td>▁▄▅▅▆▆▆▆▆▆▆▆▇▇▇▇▇▇▇▇▇▇▇▇▇▇▇▇▇▇▇▇▇▇██████</td></tr><tr><td>train_f1</td><td>▁▂▅▅▄▅▅▅▆▆▆▆▇▆▆▇▆▇▇▇▆▇▇▆▇▇▇▇▇▇▇▇▆▇█▇████</td></tr><tr><td>train_loss_epoch</td><td>█▅▄▄▃▃▃▃▃▃▃▃▂▂▂▂▃▂▂▂▂▂▂▂▂▂▂▁▁▂▂▁▂▂▂▁▁▁▁▁</td></tr><tr><td>train_loss_step</td><td>█▄▄▃▄▄▅▃▃▄▅▂▃▄▄▃▃▁▂▅▃▃▃▁▃▂▁▃▃▃▂▂▃▂▁▂▂▂▃▂</td></tr><tr><td>trainer/global_step</td><td>▁▁▁▁▁▁▁▁▁▃▃▃▃▃▄▂▂▂▂▂▂▅▅▅▅▆▆▂▂▂▂▃▃▇▇▇███▃</td></tr><tr><td>val_acc</td><td>▁▃▅▆▅▅▄▅▆▅▆▆▆▅▆▇▅▆█▆▆█▇▇▇▆▆▇▇▇▇█▇█▇█▇▇▇▇</td></tr><tr><td>val_auc</td><td>▁▁▃▄▄▃▄▅▄▅▅▅▅▅▅▆▆▆▇▇▆▇▇▇▇▇██▇▇▇█▇█▇█▇█▇▇</td></tr><tr><td>val_f1</td><td>▁▅▅▇▇▆▄▅▆▃▃▆▄▅▆▇▂▅▇▄▇█▇▄▇▇▄▅▆█▇▇▇▇▆▇▇█▆▇</td></tr><tr><td>val_loss_epoch</td><td>█▄▃▃▃▃▃▂▃▄▄▂▃▃▃▂▄▂▁▃▂▁▂▃▂▂▃▂▂▁▂▂▂▂▂▁▂▁▂▂</td></tr><tr><td>val_loss_step</td><td>█▃▄▂▁▃▃▂▃▆▇▃▅▄▄▂█▃▃▅▂▁▂▆▂▂▇▄▃▁▂▃▂▃▄▃▂▁▃▃</td></tr></table><br/></div><div class=\"wandb-col\"><h3>Run summary:</h3><br/><table class=\"wandb\"><tr><td>epoch</td><td>64</td></tr><tr><td>lr-Adam</td><td>0.005</td></tr><tr><td>train_acc</td><td>0.85955</td></tr><tr><td>train_auc</td><td>0.91059</td></tr><tr><td>train_f1</td><td>0.83845</td></tr><tr><td>train_loss_epoch</td><td>0.45405</td></tr><tr><td>train_loss_step</td><td>0.50191</td></tr><tr><td>trainer/global_step</td><td>909</td></tr><tr><td>val_acc</td><td>0.7814</td></tr><tr><td>val_auc</td><td>0.85563</td></tr><tr><td>val_f1</td><td>0.77295</td></tr><tr><td>val_loss_epoch</td><td>0.52165</td></tr><tr><td>val_loss_step</td><td>0.49636</td></tr></table><br/></div></div>"
      ],
      "text/plain": [
       "<IPython.core.display.HTML object>"
      ]
     },
     "metadata": {},
     "output_type": "display_data"
    },
    {
     "data": {
      "text/html": [
       " View run <strong style=\"color:#cdcd00\">GraphConv_2_16_onehot_4</strong> at: <a href='https://wandb.ai/thoomas/PLA_01122024_13PPI_2D3D_fusion_Kfold/runs/enub5pmo' target=\"_blank\">https://wandb.ai/thoomas/PLA_01122024_13PPI_2D3D_fusion_Kfold/runs/enub5pmo</a><br/>Synced 6 W&B file(s), 0 media file(s), 0 artifact file(s) and 0 other file(s)"
      ],
      "text/plain": [
       "<IPython.core.display.HTML object>"
      ]
     },
     "metadata": {},
     "output_type": "display_data"
    },
    {
     "data": {
      "text/html": [
       "Find logs at: <code>.\\wandb\\run-20240123_011843-enub5pmo\\logs</code>"
      ],
      "text/plain": [
       "<IPython.core.display.HTML object>"
      ]
     },
     "metadata": {},
     "output_type": "display_data"
    },
    {
     "data": {
      "text/html": [
       "wandb version 0.16.2 is available!  To upgrade, please run:\n",
       " $ pip install wandb --upgrade"
      ],
      "text/plain": [
       "<IPython.core.display.HTML object>"
      ]
     },
     "metadata": {},
     "output_type": "display_data"
    },
    {
     "data": {
      "text/html": [
       "Tracking run with wandb version 0.15.8"
      ],
      "text/plain": [
       "<IPython.core.display.HTML object>"
      ]
     },
     "metadata": {},
     "output_type": "display_data"
    },
    {
     "data": {
      "text/html": [
       "Run data is saved locally in <code>y:\\coskun-lab\\Thomas\\23_PLA_revision\\notebooks\\wandb\\run-20240123_020746-g1kl3ykv</code>"
      ],
      "text/plain": [
       "<IPython.core.display.HTML object>"
      ]
     },
     "metadata": {},
     "output_type": "display_data"
    },
    {
     "data": {
      "text/html": [
       "Syncing run <strong><a href='https://wandb.ai/thoomas/PLA_01122024_13PPI_2D3D_fusion_Kfold/runs/g1kl3ykv' target=\"_blank\">GCN_2_64_onehot_4</a></strong> to <a href='https://wandb.ai/thoomas/PLA_01122024_13PPI_2D3D_fusion_Kfold' target=\"_blank\">Weights & Biases</a> (<a href='https://wandb.me/run' target=\"_blank\">docs</a>)<br/>"
      ],
      "text/plain": [
       "<IPython.core.display.HTML object>"
      ]
     },
     "metadata": {},
     "output_type": "display_data"
    },
    {
     "data": {
      "text/html": [
       " View project at <a href='https://wandb.ai/thoomas/PLA_01122024_13PPI_2D3D_fusion_Kfold' target=\"_blank\">https://wandb.ai/thoomas/PLA_01122024_13PPI_2D3D_fusion_Kfold</a>"
      ],
      "text/plain": [
       "<IPython.core.display.HTML object>"
      ]
     },
     "metadata": {},
     "output_type": "display_data"
    },
    {
     "data": {
      "text/html": [
       " View run at <a href='https://wandb.ai/thoomas/PLA_01122024_13PPI_2D3D_fusion_Kfold/runs/g1kl3ykv' target=\"_blank\">https://wandb.ai/thoomas/PLA_01122024_13PPI_2D3D_fusion_Kfold/runs/g1kl3ykv</a>"
      ],
      "text/plain": [
       "<IPython.core.display.HTML object>"
      ]
     },
     "metadata": {},
     "output_type": "display_data"
    },
    {
     "name": "stderr",
     "output_type": "stream",
     "text": [
      "Global seed set to 42\n",
      "GPU available: True (cuda), used: True\n",
      "TPU available: False, using: 0 TPU cores\n",
      "IPU available: False, using: 0 IPUs\n",
      "HPU available: False, using: 0 HPUs\n",
      "Global seed set to 42\n",
      "c:\\Users\\thu71\\AppData\\Local\\anaconda3\\envs\\scanpy\\Lib\\site-packages\\lightning\\pytorch\\callbacks\\model_checkpoint.py:617: UserWarning: Checkpoint directory \\\\bme-retromaster.ad.gatech.edu\\labs5\\coskun-lab\\Thomas\\23_PLA_revision\\data\\13cyc_3D\\saved_models_fusion\\13PPI_2D3D_fusion\\Graph_GNNs_Kfold\\GCN_2_64_concat_4\\attention2\\GraphLevelGCN exists and is not empty.\n",
      "  rank_zero_warn(f\"Checkpoint directory {dirpath} exists and is not empty.\")\n",
      "LOCAL_RANK: 0 - CUDA_VISIBLE_DEVICES: [0]\n",
      "\n",
      "   | Name        | Type             | Params\n",
      "--------------------------------------------------\n",
      "0  | x_embedding | Identity         | 0     \n",
      "1  | model2D     | GNNModel         | 5.2 K \n",
      "2  | model3D     | GNNModel         | 5.2 K \n",
      "3  | head        | Sequential       | 8.4 K \n",
      "4  | loss_module | CrossEntropyLoss | 0     \n",
      "5  | train_acc   | BinaryAccuracy   | 0     \n",
      "6  | train_auroc | BinaryAUROC      | 0     \n",
      "7  | train_f1    | BinaryF1Score    | 0     \n",
      "8  | valid_acc   | BinaryAccuracy   | 0     \n",
      "9  | valid_auroc | BinaryAUROC      | 0     \n",
      "10 | valid_f1    | BinaryF1Score    | 0     \n",
      "11 | pool2D      | Attention_module | 4.2 K \n",
      "12 | pool3D      | Attention_module | 4.2 K \n",
      "--------------------------------------------------\n",
      "27.1 K    Trainable params\n",
      "0         Non-trainable params\n",
      "27.1 K    Total params\n",
      "0.109     Total estimated model params size (MB)\n"
     ]
    },
    {
     "name": "stdout",
     "output_type": "stream",
     "text": [
      "Using GNN\n"
     ]
    },
    {
     "name": "stderr",
     "output_type": "stream",
     "text": [
      "`Trainer.fit` stopped: `max_epochs=65` reached.\n"
     ]
    },
    {
     "data": {
      "text/html": [
       "Waiting for W&B process to finish... <strong style=\"color:green\">(success).</strong>"
      ],
      "text/plain": [
       "<IPython.core.display.HTML object>"
      ]
     },
     "metadata": {},
     "output_type": "display_data"
    },
    {
     "data": {
      "text/html": [
       "<style>\n",
       "    table.wandb td:nth-child(1) { padding: 0 10px; text-align: left ; width: auto;} td:nth-child(2) {text-align: left ; width: 100%}\n",
       "    .wandb-row { display: flex; flex-direction: row; flex-wrap: wrap; justify-content: flex-start; width: 100% }\n",
       "    .wandb-col { display: flex; flex-direction: column; flex-basis: 100%; flex: 1; padding: 10px; }\n",
       "    </style>\n",
       "<div class=\"wandb-row\"><div class=\"wandb-col\"><h3>Run history:</h3><br/><table class=\"wandb\"><tr><td>epoch</td><td>▁▁▁▂▂▂▂▂▂▃▃▃▃▃▄▄▄▄▄▄▅▅▅▅▅▅▆▆▆▆▆▇▇▇▇▇▇███</td></tr><tr><td>lr-Adam</td><td>▁▁▁▁▁▁▁▁▁▁▁▁▁▁▁▁▁▁▁▁▁▁▁▁▁▁▁▁▁▁▁▁▁▁▁▁▁▁▁▁</td></tr><tr><td>train_acc</td><td>▁▅▅▆▆▆▇▇▇▇▇█▇▆▇█▇▇▇▇█▇██▇▇█▇█▇█▇▇██▇██▇█</td></tr><tr><td>train_auc</td><td>▁▅▆▆▇▇▇▇▇█▇█▇▇▇██▇██████▇██▇███▇███▇████</td></tr><tr><td>train_f1</td><td>▁▅▅▆▆▆▇▇▇▇▇▇▇▆▆▇▇▇▇▇█▇█▇▇▇█▇█▇▇▇▇█▇▇██▇█</td></tr><tr><td>train_loss_epoch</td><td>█▄▄▃▃▂▂▂▂▂▂▁▁▃▂▂▂▂▂▂▁▂▁▁▂▁▁▂▁▂▁▂▂▁▁▁▁▁▁▁</td></tr><tr><td>train_loss_step</td><td>█▅▃▆▄▄▅▄▅▅▃▄▃▅▃▄▄▄▄▃▂▆▃▃▂▄▃▃▄▆▄▅▄▂▄▁▁▅▄▂</td></tr><tr><td>trainer/global_step</td><td>▁▁▁▁▁▁▁▁▁▃▃▃▃▃▄▂▂▂▂▂▂▅▅▅▅▆▆▂▂▂▂▃▃▇▇▇███▃</td></tr><tr><td>val_acc</td><td>▃▁▆▆▇▅▇▅▇▇█▇▆▇█▇▆▇▆█▇▇█▇▇█▇█▇▇▇▇▇█▆▆▇▇▆▇</td></tr><tr><td>val_auc</td><td>▁▂▃▃▆▄▆▅▆▇█▇▇▇▇▇▇▇▅█▇▇▇▆▇███▇▇▇▇▇█▆▇█▇▇▇</td></tr><tr><td>val_f1</td><td>▄▁▆▇█▇▇▅▇███▆▇██▇▇▆█▇█████▇█▇█▇█▇█▇▇▆█▆█</td></tr><tr><td>val_loss_epoch</td><td>▅█▃▂▂▃▂▄▂▁▁▁▄▂▁▁▂▁▃▁▃▁▁▁▂▁▃▁▂▁▁▁▂▁▂▂▃▁▃▁</td></tr><tr><td>val_loss_step</td><td>▅█▃▂▂▂▃▅▃▂▂▁▅▄▂▁▄▂▄▂▅▁▃▁▂▃▅▃▃▁▂▂▄▂▂▁▅▂▅▂</td></tr></table><br/></div><div class=\"wandb-col\"><h3>Run summary:</h3><br/><table class=\"wandb\"><tr><td>epoch</td><td>64</td></tr><tr><td>lr-Adam</td><td>0.005</td></tr><tr><td>train_acc</td><td>0.85316</td></tr><tr><td>train_auc</td><td>0.91226</td></tr><tr><td>train_f1</td><td>0.8373</td></tr><tr><td>train_loss_epoch</td><td>0.45742</td></tr><tr><td>train_loss_step</td><td>0.45992</td></tr><tr><td>trainer/global_step</td><td>909</td></tr><tr><td>val_acc</td><td>0.81163</td></tr><tr><td>val_auc</td><td>0.89476</td></tr><tr><td>val_f1</td><td>0.81206</td></tr><tr><td>val_loss_epoch</td><td>0.49293</td></tr><tr><td>val_loss_step</td><td>0.50526</td></tr></table><br/></div></div>"
      ],
      "text/plain": [
       "<IPython.core.display.HTML object>"
      ]
     },
     "metadata": {},
     "output_type": "display_data"
    },
    {
     "data": {
      "text/html": [
       " View run <strong style=\"color:#cdcd00\">GCN_2_64_onehot_4</strong> at: <a href='https://wandb.ai/thoomas/PLA_01122024_13PPI_2D3D_fusion_Kfold/runs/g1kl3ykv' target=\"_blank\">https://wandb.ai/thoomas/PLA_01122024_13PPI_2D3D_fusion_Kfold/runs/g1kl3ykv</a><br/>Synced 6 W&B file(s), 0 media file(s), 0 artifact file(s) and 0 other file(s)"
      ],
      "text/plain": [
       "<IPython.core.display.HTML object>"
      ]
     },
     "metadata": {},
     "output_type": "display_data"
    },
    {
     "data": {
      "text/html": [
       "Find logs at: <code>.\\wandb\\run-20240123_020746-g1kl3ykv\\logs</code>"
      ],
      "text/plain": [
       "<IPython.core.display.HTML object>"
      ]
     },
     "metadata": {},
     "output_type": "display_data"
    },
    {
     "data": {
      "text/html": [
       "wandb version 0.16.2 is available!  To upgrade, please run:\n",
       " $ pip install wandb --upgrade"
      ],
      "text/plain": [
       "<IPython.core.display.HTML object>"
      ]
     },
     "metadata": {},
     "output_type": "display_data"
    },
    {
     "data": {
      "text/html": [
       "Tracking run with wandb version 0.15.8"
      ],
      "text/plain": [
       "<IPython.core.display.HTML object>"
      ]
     },
     "metadata": {},
     "output_type": "display_data"
    },
    {
     "data": {
      "text/html": [
       "Run data is saved locally in <code>y:\\coskun-lab\\Thomas\\23_PLA_revision\\notebooks\\wandb\\run-20240123_025726-vtklp364</code>"
      ],
      "text/plain": [
       "<IPython.core.display.HTML object>"
      ]
     },
     "metadata": {},
     "output_type": "display_data"
    },
    {
     "data": {
      "text/html": [
       "Syncing run <strong><a href='https://wandb.ai/thoomas/PLA_01122024_13PPI_2D3D_fusion_Kfold/runs/vtklp364' target=\"_blank\">GAT_3_64_onehot_4</a></strong> to <a href='https://wandb.ai/thoomas/PLA_01122024_13PPI_2D3D_fusion_Kfold' target=\"_blank\">Weights & Biases</a> (<a href='https://wandb.me/run' target=\"_blank\">docs</a>)<br/>"
      ],
      "text/plain": [
       "<IPython.core.display.HTML object>"
      ]
     },
     "metadata": {},
     "output_type": "display_data"
    },
    {
     "data": {
      "text/html": [
       " View project at <a href='https://wandb.ai/thoomas/PLA_01122024_13PPI_2D3D_fusion_Kfold' target=\"_blank\">https://wandb.ai/thoomas/PLA_01122024_13PPI_2D3D_fusion_Kfold</a>"
      ],
      "text/plain": [
       "<IPython.core.display.HTML object>"
      ]
     },
     "metadata": {},
     "output_type": "display_data"
    },
    {
     "data": {
      "text/html": [
       " View run at <a href='https://wandb.ai/thoomas/PLA_01122024_13PPI_2D3D_fusion_Kfold/runs/vtklp364' target=\"_blank\">https://wandb.ai/thoomas/PLA_01122024_13PPI_2D3D_fusion_Kfold/runs/vtklp364</a>"
      ],
      "text/plain": [
       "<IPython.core.display.HTML object>"
      ]
     },
     "metadata": {},
     "output_type": "display_data"
    },
    {
     "name": "stderr",
     "output_type": "stream",
     "text": [
      "Global seed set to 42\n",
      "GPU available: True (cuda), used: True\n",
      "TPU available: False, using: 0 TPU cores\n",
      "IPU available: False, using: 0 IPUs\n",
      "HPU available: False, using: 0 HPUs\n",
      "Global seed set to 42\n",
      "c:\\Users\\thu71\\AppData\\Local\\anaconda3\\envs\\scanpy\\Lib\\site-packages\\lightning\\pytorch\\callbacks\\model_checkpoint.py:617: UserWarning: Checkpoint directory \\\\bme-retromaster.ad.gatech.edu\\labs5\\coskun-lab\\Thomas\\23_PLA_revision\\data\\13cyc_3D\\saved_models_fusion\\13PPI_2D3D_fusion\\Graph_GNNs_Kfold\\GAT_3_64_concat_4\\attention\\GraphLevelGAT exists and is not empty.\n",
      "  rank_zero_warn(f\"Checkpoint directory {dirpath} exists and is not empty.\")\n",
      "LOCAL_RANK: 0 - CUDA_VISIBLE_DEVICES: [0]\n",
      "\n",
      "   | Name        | Type             | Params\n",
      "--------------------------------------------------\n",
      "0  | x_embedding | Identity         | 0     \n",
      "1  | model2D     | GAT              | 44.6 K\n",
      "2  | model3D     | GAT              | 44.6 K\n",
      "3  | head        | Sequential       | 8.4 K \n",
      "4  | loss_module | CrossEntropyLoss | 0     \n",
      "5  | train_acc   | BinaryAccuracy   | 0     \n",
      "6  | train_auroc | BinaryAUROC      | 0     \n",
      "7  | train_f1    | BinaryF1Score    | 0     \n",
      "8  | valid_acc   | BinaryAccuracy   | 0     \n",
      "9  | valid_auroc | BinaryAUROC      | 0     \n",
      "10 | valid_f1    | BinaryF1Score    | 0     \n",
      "11 | pool2D      | GlobalAttention  | 65    \n",
      "12 | pool3D      | GlobalAttention  | 65    \n",
      "--------------------------------------------------\n",
      "97.7 K    Trainable params\n",
      "0         Non-trainable params\n",
      "97.7 K    Total params\n",
      "0.391     Total estimated model params size (MB)\n"
     ]
    },
    {
     "name": "stdout",
     "output_type": "stream",
     "text": [
      "Using GAT\n"
     ]
    },
    {
     "name": "stderr",
     "output_type": "stream",
     "text": [
      "`Trainer.fit` stopped: `max_epochs=65` reached.\n"
     ]
    },
    {
     "data": {
      "text/html": [
       "Waiting for W&B process to finish... <strong style=\"color:green\">(success).</strong>"
      ],
      "text/plain": [
       "<IPython.core.display.HTML object>"
      ]
     },
     "metadata": {},
     "output_type": "display_data"
    },
    {
     "data": {
      "text/html": [
       "<style>\n",
       "    table.wandb td:nth-child(1) { padding: 0 10px; text-align: left ; width: auto;} td:nth-child(2) {text-align: left ; width: 100%}\n",
       "    .wandb-row { display: flex; flex-direction: row; flex-wrap: wrap; justify-content: flex-start; width: 100% }\n",
       "    .wandb-col { display: flex; flex-direction: column; flex-basis: 100%; flex: 1; padding: 10px; }\n",
       "    </style>\n",
       "<div class=\"wandb-row\"><div class=\"wandb-col\"><h3>Run history:</h3><br/><table class=\"wandb\"><tr><td>epoch</td><td>▁▁▁▂▂▂▂▂▂▃▃▃▃▃▄▄▄▄▄▄▅▅▅▅▅▅▆▆▆▆▆▇▇▇▇▇▇███</td></tr><tr><td>lr-Adam</td><td>▁▁▁▁▁▁▁▁▁▁▁▁▁▁▁▁▁▁▁▁▁▁▁▁▁▁▁▁▁▁▁▁▁▁▁▁▁▁▁▁</td></tr><tr><td>train_acc</td><td>▁▄▅▆▆▆▆▆▆▇▆▇▇▆▇▇▇▇▇▇▇▇▇█▇▇▇▇▇▇▇██▇█▇████</td></tr><tr><td>train_auc</td><td>▁▄▅▆▆▆▆▇▆▇▆▆▇▆▇▇▇▇▇▇▇▇▇█▇▇▇▇██▇█████████</td></tr><tr><td>train_f1</td><td>▁▅▆▇▆▇▇▇▇▇▇▇▇▇▇▇▇▇▇█▇▇▇█▇█▇▇██▇██▇██████</td></tr><tr><td>train_loss_epoch</td><td>█▅▄▃▃▃▃▂▃▂▃▂▂▃▃▂▂▂▂▂▂▂▂▂▂▂▂▂▂▂▂▁▂▁▁▂▂▁▁▁</td></tr><tr><td>train_loss_step</td><td>█▆▆▅▇▇▇▆▅▂▄▅▆▆▄▂▄▆▅▆▇▃▄▁█▅▆▁▃▂▃▆▃▁▄▄▇▃▃▃</td></tr><tr><td>trainer/global_step</td><td>▁▁▁▁▁▁▁▁▁▃▃▃▃▃▄▂▂▂▂▂▂▅▅▅▅▆▆▂▂▂▂▃▃▇▇▇███▃</td></tr><tr><td>val_acc</td><td>▁▁▆▇▇▇▇▇▇██▇▇▇▇▇▇█▇▆▇█████▇█▇▇████▇██▇▇█</td></tr><tr><td>val_auc</td><td>▁▂▃▄▅▄▄▆▆▆▅▆▆▆▅▅▆▆▅▆▆▆▆▆▇▇▆▆▇▆▇█▇▇▇██▇██</td></tr><tr><td>val_f1</td><td>▁▁▆▆▇▆▅▇▇▇▇▆▇▇▆▇▆█▇▁▇██▇▇▇▆▇▆▇██▇█▅▇▇▅▅▇</td></tr><tr><td>val_loss_epoch</td><td>▇█▃▂▂▂▃▂▁▁▁▂▂▂▁▂▂▁▁▅▁▁▁▁▁▁▂▁▂▁▁▁▂▁▃▁▂▃▃▂</td></tr><tr><td>val_loss_step</td><td>▃▁▂▂▂▃▅▂▂▂▂▃▂▂▂▃▃▃▁█▃▄▂▂▄▃▃▄▅▂▃▄▄▃▆▄▅▇▆▃</td></tr></table><br/></div><div class=\"wandb-col\"><h3>Run summary:</h3><br/><table class=\"wandb\"><tr><td>epoch</td><td>64</td></tr><tr><td>lr-Adam</td><td>0.005</td></tr><tr><td>train_acc</td><td>0.83459</td></tr><tr><td>train_auc</td><td>0.90015</td></tr><tr><td>train_f1</td><td>0.81336</td></tr><tr><td>train_loss_epoch</td><td>0.4713</td></tr><tr><td>train_loss_step</td><td>0.43108</td></tr><tr><td>trainer/global_step</td><td>909</td></tr><tr><td>val_acc</td><td>0.8</td></tr><tr><td>val_auc</td><td>0.8904</td></tr><tr><td>val_f1</td><td>0.81466</td></tr><tr><td>val_loss_epoch</td><td>0.49903</td></tr><tr><td>val_loss_step</td><td>0.44833</td></tr></table><br/></div></div>"
      ],
      "text/plain": [
       "<IPython.core.display.HTML object>"
      ]
     },
     "metadata": {},
     "output_type": "display_data"
    },
    {
     "data": {
      "text/html": [
       " View run <strong style=\"color:#cdcd00\">GAT_3_64_onehot_4</strong> at: <a href='https://wandb.ai/thoomas/PLA_01122024_13PPI_2D3D_fusion_Kfold/runs/vtklp364' target=\"_blank\">https://wandb.ai/thoomas/PLA_01122024_13PPI_2D3D_fusion_Kfold/runs/vtklp364</a><br/>Synced 6 W&B file(s), 0 media file(s), 0 artifact file(s) and 0 other file(s)"
      ],
      "text/plain": [
       "<IPython.core.display.HTML object>"
      ]
     },
     "metadata": {},
     "output_type": "display_data"
    },
    {
     "data": {
      "text/html": [
       "Find logs at: <code>.\\wandb\\run-20240123_025726-vtklp364\\logs</code>"
      ],
      "text/plain": [
       "<IPython.core.display.HTML object>"
      ]
     },
     "metadata": {},
     "output_type": "display_data"
    },
    {
     "data": {
      "text/html": [
       "wandb version 0.16.2 is available!  To upgrade, please run:\n",
       " $ pip install wandb --upgrade"
      ],
      "text/plain": [
       "<IPython.core.display.HTML object>"
      ]
     },
     "metadata": {},
     "output_type": "display_data"
    },
    {
     "data": {
      "text/html": [
       "Tracking run with wandb version 0.15.8"
      ],
      "text/plain": [
       "<IPython.core.display.HTML object>"
      ]
     },
     "metadata": {},
     "output_type": "display_data"
    },
    {
     "data": {
      "text/html": [
       "Run data is saved locally in <code>y:\\coskun-lab\\Thomas\\23_PLA_revision\\notebooks\\wandb\\run-20240123_034744-3eeqxepj</code>"
      ],
      "text/plain": [
       "<IPython.core.display.HTML object>"
      ]
     },
     "metadata": {},
     "output_type": "display_data"
    },
    {
     "data": {
      "text/html": [
       "Syncing run <strong><a href='https://wandb.ai/thoomas/PLA_01122024_13PPI_2D3D_fusion_Kfold/runs/3eeqxepj' target=\"_blank\">GINConv_3_16_onehot_4</a></strong> to <a href='https://wandb.ai/thoomas/PLA_01122024_13PPI_2D3D_fusion_Kfold' target=\"_blank\">Weights & Biases</a> (<a href='https://wandb.me/run' target=\"_blank\">docs</a>)<br/>"
      ],
      "text/plain": [
       "<IPython.core.display.HTML object>"
      ]
     },
     "metadata": {},
     "output_type": "display_data"
    },
    {
     "data": {
      "text/html": [
       " View project at <a href='https://wandb.ai/thoomas/PLA_01122024_13PPI_2D3D_fusion_Kfold' target=\"_blank\">https://wandb.ai/thoomas/PLA_01122024_13PPI_2D3D_fusion_Kfold</a>"
      ],
      "text/plain": [
       "<IPython.core.display.HTML object>"
      ]
     },
     "metadata": {},
     "output_type": "display_data"
    },
    {
     "data": {
      "text/html": [
       " View run at <a href='https://wandb.ai/thoomas/PLA_01122024_13PPI_2D3D_fusion_Kfold/runs/3eeqxepj' target=\"_blank\">https://wandb.ai/thoomas/PLA_01122024_13PPI_2D3D_fusion_Kfold/runs/3eeqxepj</a>"
      ],
      "text/plain": [
       "<IPython.core.display.HTML object>"
      ]
     },
     "metadata": {},
     "output_type": "display_data"
    },
    {
     "name": "stderr",
     "output_type": "stream",
     "text": [
      "Global seed set to 42\n",
      "GPU available: True (cuda), used: True\n",
      "TPU available: False, using: 0 TPU cores\n",
      "IPU available: False, using: 0 IPUs\n",
      "HPU available: False, using: 0 HPUs\n",
      "Global seed set to 42\n",
      "c:\\Users\\thu71\\AppData\\Local\\anaconda3\\envs\\scanpy\\Lib\\site-packages\\lightning\\pytorch\\callbacks\\model_checkpoint.py:617: UserWarning: Checkpoint directory \\\\bme-retromaster.ad.gatech.edu\\labs5\\coskun-lab\\Thomas\\23_PLA_revision\\data\\13cyc_3D\\saved_models_fusion\\13PPI_2D3D_fusion\\Graph_GNNs_Kfold\\GINConv_3_16_concat_4\\mean\\GraphLevelGINConv exists and is not empty.\n",
      "  rank_zero_warn(f\"Checkpoint directory {dirpath} exists and is not empty.\")\n",
      "LOCAL_RANK: 0 - CUDA_VISIBLE_DEVICES: [0]\n",
      "\n",
      "   | Name        | Type             | Params\n",
      "--------------------------------------------------\n",
      "0  | x_embedding | Identity         | 0     \n",
      "1  | model2D     | GIN              | 1.7 K \n",
      "2  | model3D     | GIN              | 1.7 K \n",
      "3  | head        | Sequential       | 562   \n",
      "4  | loss_module | CrossEntropyLoss | 0     \n",
      "5  | train_acc   | BinaryAccuracy   | 0     \n",
      "6  | train_auroc | BinaryAUROC      | 0     \n",
      "7  | train_f1    | BinaryF1Score    | 0     \n",
      "8  | valid_acc   | BinaryAccuracy   | 0     \n",
      "9  | valid_auroc | BinaryAUROC      | 0     \n",
      "10 | valid_f1    | BinaryF1Score    | 0     \n",
      "--------------------------------------------------\n",
      "4.0 K     Trainable params\n",
      "0         Non-trainable params\n",
      "4.0 K     Total params\n",
      "0.016     Total estimated model params size (MB)\n"
     ]
    },
    {
     "name": "stdout",
     "output_type": "stream",
     "text": [
      "GINConv\n"
     ]
    },
    {
     "name": "stderr",
     "output_type": "stream",
     "text": [
      "`Trainer.fit` stopped: `max_epochs=65` reached.\n"
     ]
    },
    {
     "data": {
      "text/html": [
       "Waiting for W&B process to finish... <strong style=\"color:green\">(success).</strong>"
      ],
      "text/plain": [
       "<IPython.core.display.HTML object>"
      ]
     },
     "metadata": {},
     "output_type": "display_data"
    },
    {
     "data": {
      "text/html": [
       "<style>\n",
       "    table.wandb td:nth-child(1) { padding: 0 10px; text-align: left ; width: auto;} td:nth-child(2) {text-align: left ; width: 100%}\n",
       "    .wandb-row { display: flex; flex-direction: row; flex-wrap: wrap; justify-content: flex-start; width: 100% }\n",
       "    .wandb-col { display: flex; flex-direction: column; flex-basis: 100%; flex: 1; padding: 10px; }\n",
       "    </style>\n",
       "<div class=\"wandb-row\"><div class=\"wandb-col\"><h3>Run history:</h3><br/><table class=\"wandb\"><tr><td>epoch</td><td>▁▁▁▂▂▂▂▂▂▃▃▃▃▃▄▄▄▄▄▄▅▅▅▅▅▅▆▆▆▆▆▇▇▇▇▇▇███</td></tr><tr><td>lr-Adam</td><td>▁▁▁▁▁▁▁▁▁▁▁▁▁▁▁▁▁▁▁▁▁▁▁▁▁▁▁▁▁▁▁▁▁▁▁▁▁▁▁▁</td></tr><tr><td>train_acc</td><td>▁▅▆▆▆▆▇▇▇▇▇▇▇▇▇▇▇▇▇▇▇▇▇▇▇█▇█▇█▇███▇█████</td></tr><tr><td>train_auc</td><td>▁▅▆▆▆▇▇▇▇▇▇▇▇▇▇▇▇▇▇▇▇▇█▇████▇█▇█████████</td></tr><tr><td>train_f1</td><td>▁▄▅▆▆▆▇▇▇▇▇▆▇▆▇▇▇▇▇▇▇▆▇▇▇█▇▇▇▇▇██▇▇██▇██</td></tr><tr><td>train_loss_epoch</td><td>█▄▄▃▃▃▃▂▂▂▂▂▂▂▂▂▂▂▂▂▂▂▂▂▂▂▂▁▂▁▂▁▁▁▁▁▁▂▁▁</td></tr><tr><td>train_loss_step</td><td>█▅▅▄▄▃▅▃▃▅▃▁▃▆▅▂▂▂▃▃▂▃▃▃▅▃▃▂▂▃▄▄▂▃▂▂▁▂▂▁</td></tr><tr><td>trainer/global_step</td><td>▁▁▁▁▁▁▁▁▁▃▃▃▃▃▄▂▂▂▂▂▂▅▅▅▅▆▆▂▂▂▂▃▃▇▇▇███▃</td></tr><tr><td>val_acc</td><td>▁▂▄▃▄▆▅▅▆▅▆▄▆▅▆▅▆▆▆▇▄▆▄▅▆▇▄▄▆▅▅▇▆▅▇█▇▆▆▄</td></tr><tr><td>val_auc</td><td>▁▃▄▄▅▇▆▆▆▅▇▆▇▇▆▇▆▇█▆▅▆▇▆▆▇▆▆▇▇▅▇▇▆▇██▇▇▆</td></tr><tr><td>val_f1</td><td>▁▄▅▂▄▆▆▅▆▅▆▄▇▃▅▅▅▆▆▆▅▅▃▅▆▆▃▆▆▅▅▇▅▄▇█▆▅▆▅</td></tr><tr><td>val_loss_epoch</td><td>█▃▃▃▂▂▂▁▂▂▂▂▂▃▂▂▂▁▂▃▂▂▃▂▂▂▄▂▂▂▃▁▂▃▁▁▂▂▂▂</td></tr><tr><td>val_loss_step</td><td>█▁▃▆▄▅▃▃▄▄▆▄▄▆▆▄▅▄▆█▂▅▇▄▄▆▇▁▅▄▆▅▅▆▄▄▆▆▄▂</td></tr></table><br/></div><div class=\"wandb-col\"><h3>Run summary:</h3><br/><table class=\"wandb\"><tr><td>epoch</td><td>64</td></tr><tr><td>lr-Adam</td><td>0.005</td></tr><tr><td>train_acc</td><td>0.87522</td></tr><tr><td>train_auc</td><td>0.91355</td></tr><tr><td>train_f1</td><td>0.86156</td></tr><tr><td>train_loss_epoch</td><td>0.43992</td></tr><tr><td>train_loss_step</td><td>0.47341</td></tr><tr><td>trainer/global_step</td><td>909</td></tr><tr><td>val_acc</td><td>0.7907</td></tr><tr><td>val_auc</td><td>0.88081</td></tr><tr><td>val_f1</td><td>0.80349</td></tr><tr><td>val_loss_epoch</td><td>0.49554</td></tr><tr><td>val_loss_step</td><td>0.39163</td></tr></table><br/></div></div>"
      ],
      "text/plain": [
       "<IPython.core.display.HTML object>"
      ]
     },
     "metadata": {},
     "output_type": "display_data"
    },
    {
     "data": {
      "text/html": [
       " View run <strong style=\"color:#cdcd00\">GINConv_3_16_onehot_4</strong> at: <a href='https://wandb.ai/thoomas/PLA_01122024_13PPI_2D3D_fusion_Kfold/runs/3eeqxepj' target=\"_blank\">https://wandb.ai/thoomas/PLA_01122024_13PPI_2D3D_fusion_Kfold/runs/3eeqxepj</a><br/>Synced 6 W&B file(s), 0 media file(s), 0 artifact file(s) and 0 other file(s)"
      ],
      "text/plain": [
       "<IPython.core.display.HTML object>"
      ]
     },
     "metadata": {},
     "output_type": "display_data"
    },
    {
     "data": {
      "text/html": [
       "Find logs at: <code>.\\wandb\\run-20240123_034744-3eeqxepj\\logs</code>"
      ],
      "text/plain": [
       "<IPython.core.display.HTML object>"
      ]
     },
     "metadata": {},
     "output_type": "display_data"
    }
   ],
   "source": [
    "k_folds = 5\n",
    "kfold = KFold(n_splits=k_folds, shuffle=True, random_state=42)\n",
    "\n",
    "for fold, (train_ids, valid_ids) in enumerate(kfold.split(dataset_filtered)):\n",
    "    train_subset = dataset_filtered.index_select(train_ids.tolist())\n",
    "    val_subset = dataset_filtered.index_select(valid_ids.tolist())\n",
    "    for NUM_LAYERS, HIDDEN_CHANNELS, pool, model in params:\n",
    "            # Path to the folder where the pretrained models are saved\n",
    "        # CHECKPOINT_PATH = checkpoint_folder / f'GAT_{NUM_LAYERS}_{HIDDEN_CHANNELS}_onehot_{fold}' / pool\n",
    "        CHECKPOINT_PATH = checkpoint_folder / f'{model}_{NUM_LAYERS}_{HIDDEN_CHANNELS}_{fusion}_{fold}' / pool\n",
    "        CHECKPOINT_PATH.mkdir(parents=True, exist_ok=True)\n",
    "\n",
    "        # Skip already trained kfold and pool\n",
    "        checkpoint = CHECKPOINT_PATH / f\"GraphLevel{model}\" / f\"GraphLevel{model}.ckpt\" \n",
    "        if checkpoint.exists():\n",
    "            print(checkpoint)\n",
    "            continue\n",
    "\n",
    "        # Run training\n",
    "        run = wandb.init(project=project_name, name=f'{model}_{NUM_LAYERS}_{HIDDEN_CHANNELS}_onehot_{fold}', \n",
    "                        group=f'{model}_{pool}', \n",
    "                        # mode=\"disabled\"\n",
    "                        )\n",
    "        PPIGraph.train_graph_classifier_kfold_fusion(model, \n",
    "                                                train_subset, \n",
    "                                                val_subset, \n",
    "                                                dataset, \n",
    "                                                CHECKPOINT_PATH, \n",
    "                                                AVAIL_GPUS, \n",
    "                                                in_channels=13,\n",
    "                                                hidden_channels=HIDDEN_CHANNELS, \n",
    "                                                out_channels = HIDDEN_CHANNELS,\n",
    "                                                num_layers=NUM_LAYERS, \n",
    "                                                epochs=epochs,\n",
    "                                                batch_size=128,\n",
    "                                                fusion=fusion,\n",
    "                                                graph_pooling=pool)\n",
    "        run.finish()\n"
   ]
  },
  {
   "cell_type": "code",
   "execution_count": null,
   "metadata": {},
   "outputs": [],
   "source": []
  }
 ],
 "metadata": {
  "kernelspec": {
   "display_name": "snowflake",
   "language": "python",
   "name": "python3"
  },
  "language_info": {
   "codemirror_mode": {
    "name": "ipython",
    "version": 3
   },
   "file_extension": ".py",
   "mimetype": "text/x-python",
   "name": "python",
   "nbconvert_exporter": "python",
   "pygments_lexer": "ipython3",
   "version": "3.11.4"
  }
 },
 "nbformat": 4,
 "nbformat_minor": 2
}
