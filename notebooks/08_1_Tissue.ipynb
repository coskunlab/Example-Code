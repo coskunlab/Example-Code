{
 "cells": [
  {
   "cell_type": "code",
   "execution_count": 1,
   "metadata": {},
   "outputs": [],
   "source": [
    "import itertools\n",
    "import os\n",
    "import sys\n",
    "from pathlib import Path\n",
    "\n",
    "import cv2\n",
    "import matplotlib.pyplot as plt\n",
    "import numpy as np\n",
    "import pandas as pd\n",
    "import skimage.io\n",
    "\n",
    "from collections import defaultdict\n",
    "from tqdm.notebook import trange, tqdm, tqdm_notebook\n",
    "from joblib import Parallel, delayed\n",
    "import re\n",
    "import h5py\n",
    "import tifffile as tiff\n",
    "from natsort import natsort_keygen\n",
    "\n",
    "from skimage import util"
   ]
  },
  {
   "cell_type": "code",
   "execution_count": 2,
   "metadata": {},
   "outputs": [],
   "source": [
    "%load_ext autoreload\n",
    "%autoreload 2"
   ]
  },
  {
   "cell_type": "code",
   "execution_count": 3,
   "metadata": {},
   "outputs": [],
   "source": [
    "data_dir = (Path().cwd().parents[0] / 'data').absolute()\n",
    "data_processed = data_dir / 'processed'\n",
    "data_raw = r'Y:\\coskun-lab\\Shuangyi\\ERK, YAP project_2022\\PLA\\FFPE patient samples-1Nov23'\n"
   ]
  },
  {
   "cell_type": "code",
   "execution_count": 4,
   "metadata": {},
   "outputs": [],
   "source": [
    "import os\n",
    " \n",
    "os.environ['JDK_HOME'] = \"C:\\Program Files\\Java\\jdk-17\"\n",
    "os.environ['JAVA_HOME'] = \"C:\\Program Files\\Java\\jdk-17\"\n",
    "\n",
    "os.environ['PATH'] += ';C:\\\\Program Files\\\\Java\\\\jdk-17\\\\jre\\\\bin\\\\server\\\\;C:\\\\Program Files\\\\Java\\\\jdk-17\\\\bin\\\\;C:\\\\Program Files\\\\Java\\\\jdk-17\\\\bin\\\\jar.exe'"
   ]
  },
  {
   "cell_type": "markdown",
   "metadata": {},
   "source": [
    "# Get info"
   ]
  },
  {
   "cell_type": "code",
   "execution_count": 5,
   "metadata": {},
   "outputs": [],
   "source": [
    "markers_map = {\n",
    "    'cycle1': {\n",
    "        1: 'Hoechst', \n",
    "        3: 'Sox2/Oct4',\n",
    "        4: 'NF-Kb/p-P90rsk',\n",
    "    },\n",
    "    'cycle2': {\n",
    "        1: 'Hoechst', \n",
    "        3: 'Cyclin D1/CDK4',\n",
    "        4: 'TRAIL/DR5'\n",
    "    },\n",
    "    'cycle3': {\n",
    "        1: 'Hoechst', \n",
    "        2: 'p-ERK/c-MYC',\n",
    "    },\n",
    "    'cycle4': {\n",
    "        1: 'Hoechst', \n",
    "        3: 'Cyclin E/CDK2',\n",
    "    },\n",
    "    'cycle5': {\n",
    "        1: 'Hoechst', \n",
    "        2: 'CD20',\n",
    "        3: 'Phalloidin',\n",
    "        4: 'CD8'\n",
    "    },\n",
    "    'cycle6': {\n",
    "        1: 'Hoechst', \n",
    "        2: 'Pan-cytokeratin',\n",
    "        4: 'CD4'\n",
    "    },\n",
    "    'cycle7': {\n",
    "        1: 'Hoechst', \n",
    "        2: 'Concanavalin A',\n",
    "        4: 'WGA'\n",
    "    },\n",
    "    'cycleHE': {\n",
    "        2: 'HE',\n",
    "    },\n",
    "}\n",
    "\n",
    "def get_info(data_raw, marker_dict):\n",
    "    conditions = []\n",
    "    fovs = []\n",
    "    cycles = []\n",
    "    channels = []\n",
    "    markers = []\n",
    "    paths = [] \n",
    "    \n",
    "    # Loop through image folder\n",
    "    for (dirpath, dirnames, filenames) in os.walk(data_raw):\n",
    "        # Don't get the nuclease after bleach channel\n",
    "        if 'after nuclease' in dirpath or 'Test' in dirpath or 'wrong' in dirpath:\n",
    "            continue\n",
    "        \n",
    "        for name in sorted(filenames):\n",
    "            if \"tif\" in name and \"sti\" in name \\\n",
    "            and 'overlay' not in name \\\n",
    "            and 'Composite' not in name:\n",
    "                # Get information from image name                \n",
    "                d_split = dirpath.split('\\\\')\n",
    "                condition = d_split[-1].split('_')[0]\n",
    "                fov = d_split[-1].split('_')[2]\n",
    "                if 'H&E' in dirpath:\n",
    "                    cycle = 'cycleHE'\n",
    "                else:\n",
    "                    cycle =  d_split[-1].split('_')[1][-1]\n",
    "                    cycle = 'cycle' + cycle\n",
    "\n",
    "                n_split = name.split('_')\n",
    "                ch = int(n_split[-1][-5])\n",
    "                try: marker = marker_dict[cycle][ch] \n",
    "                except: continue\n",
    "        \n",
    "                conditions.append(condition)\n",
    "                fovs.append(fov)\n",
    "                cycles.append(cycle)\n",
    "                channels.append(ch)\n",
    "                markers.append(marker)\n",
    "                paths.append(os.path.join(dirpath, name))\n",
    "                \n",
    "    info = {\n",
    "            \"Condition\": conditions,\n",
    "            \"FOV\": fovs,\n",
    "            \"Cycle\": cycles,\n",
    "            \"Channels\": channels,\n",
    "            \"Markers\": markers,\n",
    "            \"Path\": paths\n",
    "        }\n",
    "\n",
    "    df = pd.DataFrame(info)\n",
    "    return df"
   ]
  },
  {
   "cell_type": "code",
   "execution_count": 6,
   "metadata": {},
   "outputs": [
    {
     "name": "stdout",
     "output_type": "stream",
     "text": [
      "Loaded df\n"
     ]
    }
   ],
   "source": [
    "df_meta_path = data_dir / 'tissue' / 'metadata' / 'info.csv'\n",
    "df_meta_path.parent.mkdir(parents=True, exist_ok=True)\n",
    "\n",
    "df_exist = df_meta_path.is_file()\n",
    "\n",
    "if not df_exist:\n",
    "    print('Created df')\n",
    "    df = get_info(data_raw, markers_map)\n",
    "    df = df.sort_values(\n",
    "        by=[\"Condition\", 'FOV', \"Cycle\", \"Channels\"],\n",
    "        key=natsort_keygen()\n",
    "    )\n",
    "    df.to_csv(df_meta_path, index=False)\n",
    "else:\n",
    "    print('Loaded df')\n",
    "    df = pd.read_csv(df_meta_path)"
   ]
  },
  {
   "cell_type": "code",
   "execution_count": 7,
   "metadata": {},
   "outputs": [
    {
     "data": {
      "text/html": [
       "<div>\n",
       "<style scoped>\n",
       "    .dataframe tbody tr th:only-of-type {\n",
       "        vertical-align: middle;\n",
       "    }\n",
       "\n",
       "    .dataframe tbody tr th {\n",
       "        vertical-align: top;\n",
       "    }\n",
       "\n",
       "    .dataframe thead th {\n",
       "        text-align: right;\n",
       "    }\n",
       "</style>\n",
       "<table border=\"1\" class=\"dataframe\">\n",
       "  <thead>\n",
       "    <tr style=\"text-align: right;\">\n",
       "      <th></th>\n",
       "      <th>Condition</th>\n",
       "      <th>FOV</th>\n",
       "      <th>Cycle</th>\n",
       "      <th>Channels</th>\n",
       "      <th>Markers</th>\n",
       "      <th>Path</th>\n",
       "    </tr>\n",
       "  </thead>\n",
       "  <tbody>\n",
       "    <tr>\n",
       "      <th>0</th>\n",
       "      <td>577-1197</td>\n",
       "      <td>20X</td>\n",
       "      <td>cycle1</td>\n",
       "      <td>1</td>\n",
       "      <td>Hoechst</td>\n",
       "      <td>Y:\\coskun-lab\\Shuangyi\\ERK, YAP project_2022\\P...</td>\n",
       "    </tr>\n",
       "    <tr>\n",
       "      <th>1</th>\n",
       "      <td>577-1197</td>\n",
       "      <td>20X</td>\n",
       "      <td>cycle1</td>\n",
       "      <td>3</td>\n",
       "      <td>Sox2/Oct4</td>\n",
       "      <td>Y:\\coskun-lab\\Shuangyi\\ERK, YAP project_2022\\P...</td>\n",
       "    </tr>\n",
       "    <tr>\n",
       "      <th>2</th>\n",
       "      <td>577-1197</td>\n",
       "      <td>20X</td>\n",
       "      <td>cycle1</td>\n",
       "      <td>4</td>\n",
       "      <td>NF-Kb/p-P90rsk</td>\n",
       "      <td>Y:\\coskun-lab\\Shuangyi\\ERK, YAP project_2022\\P...</td>\n",
       "    </tr>\n",
       "    <tr>\n",
       "      <th>3</th>\n",
       "      <td>577-1197</td>\n",
       "      <td>20X</td>\n",
       "      <td>cycle2</td>\n",
       "      <td>1</td>\n",
       "      <td>Hoechst</td>\n",
       "      <td>Y:\\coskun-lab\\Shuangyi\\ERK, YAP project_2022\\P...</td>\n",
       "    </tr>\n",
       "    <tr>\n",
       "      <th>4</th>\n",
       "      <td>577-1197</td>\n",
       "      <td>20X</td>\n",
       "      <td>cycle2</td>\n",
       "      <td>3</td>\n",
       "      <td>Cyclin D1/CDK4</td>\n",
       "      <td>Y:\\coskun-lab\\Shuangyi\\ERK, YAP project_2022\\P...</td>\n",
       "    </tr>\n",
       "    <tr>\n",
       "      <th>...</th>\n",
       "      <td>...</td>\n",
       "      <td>...</td>\n",
       "      <td>...</td>\n",
       "      <td>...</td>\n",
       "      <td>...</td>\n",
       "      <td>...</td>\n",
       "    </tr>\n",
       "    <tr>\n",
       "      <th>75</th>\n",
       "      <td>577-1210</td>\n",
       "      <td>40X</td>\n",
       "      <td>cycle6</td>\n",
       "      <td>4</td>\n",
       "      <td>CD4</td>\n",
       "      <td>Y:\\coskun-lab\\Shuangyi\\ERK, YAP project_2022\\P...</td>\n",
       "    </tr>\n",
       "    <tr>\n",
       "      <th>76</th>\n",
       "      <td>577-1210</td>\n",
       "      <td>40X</td>\n",
       "      <td>cycle7</td>\n",
       "      <td>1</td>\n",
       "      <td>Hoechst</td>\n",
       "      <td>Y:\\coskun-lab\\Shuangyi\\ERK, YAP project_2022\\P...</td>\n",
       "    </tr>\n",
       "    <tr>\n",
       "      <th>77</th>\n",
       "      <td>577-1210</td>\n",
       "      <td>40X</td>\n",
       "      <td>cycle7</td>\n",
       "      <td>2</td>\n",
       "      <td>Concanavalin A</td>\n",
       "      <td>Y:\\coskun-lab\\Shuangyi\\ERK, YAP project_2022\\P...</td>\n",
       "    </tr>\n",
       "    <tr>\n",
       "      <th>78</th>\n",
       "      <td>577-1210</td>\n",
       "      <td>40X</td>\n",
       "      <td>cycle7</td>\n",
       "      <td>4</td>\n",
       "      <td>WGA</td>\n",
       "      <td>Y:\\coskun-lab\\Shuangyi\\ERK, YAP project_2022\\P...</td>\n",
       "    </tr>\n",
       "    <tr>\n",
       "      <th>79</th>\n",
       "      <td>577-1210</td>\n",
       "      <td>40X</td>\n",
       "      <td>cycleHE</td>\n",
       "      <td>2</td>\n",
       "      <td>HE</td>\n",
       "      <td>Y:\\coskun-lab\\Shuangyi\\ERK, YAP project_2022\\P...</td>\n",
       "    </tr>\n",
       "  </tbody>\n",
       "</table>\n",
       "<p>80 rows × 6 columns</p>\n",
       "</div>"
      ],
      "text/plain": [
       "   Condition  FOV    Cycle  Channels         Markers  \\\n",
       "0   577-1197  20X   cycle1         1         Hoechst   \n",
       "1   577-1197  20X   cycle1         3       Sox2/Oct4   \n",
       "2   577-1197  20X   cycle1         4  NF-Kb/p-P90rsk   \n",
       "3   577-1197  20X   cycle2         1         Hoechst   \n",
       "4   577-1197  20X   cycle2         3  Cyclin D1/CDK4   \n",
       "..       ...  ...      ...       ...             ...   \n",
       "75  577-1210  40X   cycle6         4             CD4   \n",
       "76  577-1210  40X   cycle7         1         Hoechst   \n",
       "77  577-1210  40X   cycle7         2  Concanavalin A   \n",
       "78  577-1210  40X   cycle7         4             WGA   \n",
       "79  577-1210  40X  cycleHE         2              HE   \n",
       "\n",
       "                                                 Path  \n",
       "0   Y:\\coskun-lab\\Shuangyi\\ERK, YAP project_2022\\P...  \n",
       "1   Y:\\coskun-lab\\Shuangyi\\ERK, YAP project_2022\\P...  \n",
       "2   Y:\\coskun-lab\\Shuangyi\\ERK, YAP project_2022\\P...  \n",
       "3   Y:\\coskun-lab\\Shuangyi\\ERK, YAP project_2022\\P...  \n",
       "4   Y:\\coskun-lab\\Shuangyi\\ERK, YAP project_2022\\P...  \n",
       "..                                                ...  \n",
       "75  Y:\\coskun-lab\\Shuangyi\\ERK, YAP project_2022\\P...  \n",
       "76  Y:\\coskun-lab\\Shuangyi\\ERK, YAP project_2022\\P...  \n",
       "77  Y:\\coskun-lab\\Shuangyi\\ERK, YAP project_2022\\P...  \n",
       "78  Y:\\coskun-lab\\Shuangyi\\ERK, YAP project_2022\\P...  \n",
       "79  Y:\\coskun-lab\\Shuangyi\\ERK, YAP project_2022\\P...  \n",
       "\n",
       "[80 rows x 6 columns]"
      ]
     },
     "execution_count": 7,
     "metadata": {},
     "output_type": "execute_result"
    }
   ],
   "source": [
    "df"
   ]
  },
  {
   "cell_type": "code",
   "execution_count": 8,
   "metadata": {},
   "outputs": [
    {
     "data": {
      "text/plain": [
       "Condition  FOV\n",
       "577-1197   20X    20\n",
       "           40X    20\n",
       "577-1210   20X    20\n",
       "           40X    20\n",
       "dtype: int64"
      ]
     },
     "execution_count": 8,
     "metadata": {},
     "output_type": "execute_result"
    }
   ],
   "source": [
    "df.groupby(['Condition', 'FOV']).size()"
   ]
  },
  {
   "cell_type": "markdown",
   "metadata": {},
   "source": [
    "# Save HDF5"
   ]
  },
  {
   "cell_type": "code",
   "execution_count": 9,
   "metadata": {},
   "outputs": [],
   "source": [
    "import h5py\n",
    "\n",
    "def save_hdf5(\n",
    "    path: str, name: str, data: np.ndarray, attr_dict=None, mode: str = \"a\"\n",
    ") -> None:\n",
    "    # Read h5 file\n",
    "    hf = h5py.File(path, mode)\n",
    "    # Create z_stack_dataset\n",
    "    if hf.get(name) is None:\n",
    "        data_shape = data.shape\n",
    "        data_type = data.dtype\n",
    "        max_shape = (data_shape[0],) + data_shape[1:]\n",
    "        dset = hf.create_dataset(\n",
    "            name,\n",
    "            shape=data_shape,\n",
    "            maxshape=max_shape,\n",
    "            chunks=True,\n",
    "            dtype=data_type,\n",
    "            compression=\"gzip\",\n",
    "        )\n",
    "        dset[:] = data\n",
    "        if attr_dict is not None:\n",
    "            for attr_key, attr_val in attr_dict.items():\n",
    "                dset.attrs[attr_key] = attr_val\n",
    "    else:\n",
    "        print(f\"Dataset {name} exists\")\n",
    "\n",
    "    hf.close()\n",
    "\n",
    "def read_img(path):\n",
    "    return skimage.io.imread(path, as_gray=True)\n",
    "\n",
    "def joblib_loop(task, pics):\n",
    "    return Parallel(n_jobs=20)(delayed(task)(i) for i in pics)"
   ]
  },
  {
   "cell_type": "code",
   "execution_count": 12,
   "metadata": {},
   "outputs": [
    {
     "name": "stdout",
     "output_type": "stream",
     "text": [
      "Created df\n"
     ]
    },
    {
     "data": {
      "application/vnd.jupyter.widget-view+json": {
       "model_id": "b035ddc73b2c42f3b0cef00209a17233",
       "version_major": 2,
       "version_minor": 0
      },
      "text/plain": [
       "  0%|          | 0/4 [00:00<?, ?it/s]"
      ]
     },
     "metadata": {},
     "output_type": "display_data"
    },
    {
     "name": "stdout",
     "output_type": "stream",
     "text": [
      "Dataset cycleHE exists\n",
      "Dataset cycleHE exists\n"
     ]
    }
   ],
   "source": [
    "df_imgs_path = data_dir / 'tissue' / 'metadata' / 'imgs.csv'\n",
    "df_imgs_path.parent.mkdir(parents=True, exist_ok=True)\n",
    "\n",
    "temp_path = data_dir  / 'tissue' / 'hdf5' / 'raw'\n",
    "temp_path.mkdir(parents=True, exist_ok=True)\n",
    "\n",
    "df_exist = df_imgs_path.is_file()\n",
    "\n",
    "if not df_exist:\n",
    "    print('Created df')\n",
    "    \n",
    "    group = df.groupby(['Condition', 'FOV'])\n",
    "    rows = []\n",
    "\n",
    "    for name, df_group in tqdm(group, total=len(group)):\n",
    "        file_name = '_'.join(np.array(name).astype(str)) + '.hdf5'\n",
    "        file_path = temp_path / file_name\n",
    "        rows.append(list(name)+[file_path])\n",
    "        \n",
    "        group_cycle = df_group.groupby('Cycle')\n",
    "        for cycle, df_cycle in group_cycle:\n",
    "            channels = df_cycle.Channels.to_list()\n",
    "            markers = df_cycle.Markers.to_list()\n",
    "            paths = df_cycle.Path.to_numpy()\n",
    "\n",
    "            if cycle == 'cycleHE':\n",
    "                imgs = np.array([0])\n",
    "                info = {\"Channels\": 2, \"Markers\": 'HE', 'Path': paths[0]}\n",
    "                # hdf5 as Channel -> Z mapping\n",
    "                save_hdf5(file_path, cycle, imgs, info)\n",
    "            else:\n",
    "                # imgs = joblib_loop(read_img, paths)\n",
    "                # imgs = np.array(imgs)\n",
    "                # info = {\"Channels\": channels, \"Markers\": markers}\n",
    "                continue\n",
    "\n",
    "            # # hdf5 as Channel -> Z mapping\n",
    "            # save_hdf5(file_path, cycle, imgs, info)\n",
    "    df_imgs = pd.DataFrame(rows, columns=['Condition', 'FOV', 'Path'])        \n",
    "    df_imgs.to_csv(df_imgs_path, index=False)\n",
    "else:\n",
    "    print('Loaded df')\n",
    "    df_imgs = pd.read_csv(df_imgs_path)"
   ]
  },
  {
   "cell_type": "code",
   "execution_count": 13,
   "metadata": {},
   "outputs": [
    {
     "data": {
      "text/html": [
       "<div>\n",
       "<style scoped>\n",
       "    .dataframe tbody tr th:only-of-type {\n",
       "        vertical-align: middle;\n",
       "    }\n",
       "\n",
       "    .dataframe tbody tr th {\n",
       "        vertical-align: top;\n",
       "    }\n",
       "\n",
       "    .dataframe thead th {\n",
       "        text-align: right;\n",
       "    }\n",
       "</style>\n",
       "<table border=\"1\" class=\"dataframe\">\n",
       "  <thead>\n",
       "    <tr style=\"text-align: right;\">\n",
       "      <th></th>\n",
       "      <th>Condition</th>\n",
       "      <th>FOV</th>\n",
       "      <th>Path</th>\n",
       "    </tr>\n",
       "  </thead>\n",
       "  <tbody>\n",
       "    <tr>\n",
       "      <th>0</th>\n",
       "      <td>577-1197</td>\n",
       "      <td>20X</td>\n",
       "      <td>y:\\coskun-lab\\Thomas\\23_PLA_revision\\data\\tiss...</td>\n",
       "    </tr>\n",
       "    <tr>\n",
       "      <th>1</th>\n",
       "      <td>577-1197</td>\n",
       "      <td>40X</td>\n",
       "      <td>y:\\coskun-lab\\Thomas\\23_PLA_revision\\data\\tiss...</td>\n",
       "    </tr>\n",
       "    <tr>\n",
       "      <th>2</th>\n",
       "      <td>577-1210</td>\n",
       "      <td>20X</td>\n",
       "      <td>y:\\coskun-lab\\Thomas\\23_PLA_revision\\data\\tiss...</td>\n",
       "    </tr>\n",
       "    <tr>\n",
       "      <th>3</th>\n",
       "      <td>577-1210</td>\n",
       "      <td>40X</td>\n",
       "      <td>y:\\coskun-lab\\Thomas\\23_PLA_revision\\data\\tiss...</td>\n",
       "    </tr>\n",
       "  </tbody>\n",
       "</table>\n",
       "</div>"
      ],
      "text/plain": [
       "  Condition  FOV                                               Path\n",
       "0  577-1197  20X  y:\\coskun-lab\\Thomas\\23_PLA_revision\\data\\tiss...\n",
       "1  577-1197  40X  y:\\coskun-lab\\Thomas\\23_PLA_revision\\data\\tiss...\n",
       "2  577-1210  20X  y:\\coskun-lab\\Thomas\\23_PLA_revision\\data\\tiss...\n",
       "3  577-1210  40X  y:\\coskun-lab\\Thomas\\23_PLA_revision\\data\\tiss..."
      ]
     },
     "execution_count": 13,
     "metadata": {},
     "output_type": "execute_result"
    }
   ],
   "source": [
    "df_imgs"
   ]
  },
  {
   "cell_type": "code",
   "execution_count": 14,
   "metadata": {},
   "outputs": [],
   "source": [
    "# path = r'Y:\\\\coskun-lab\\\\Shuangyi\\\\ERK, YAP project_2022\\\\PLA\\\\FFPE patient samples-1Nov23\\\\577-1197_2 H&E_20X_16Nov23\\\\stitched_2.tif'\n",
    "# img_test = tf.imread(path)\n",
    "# img_test.shape\n"
   ]
  },
  {
   "cell_type": "code",
   "execution_count": 15,
   "metadata": {},
   "outputs": [],
   "source": [
    "# tf.imwrite('test.tif', img_test[::4, ::4,: ], bigtiff = True)"
   ]
  },
  {
   "cell_type": "markdown",
   "metadata": {},
   "source": [
    "# Registration Image J"
   ]
  },
  {
   "cell_type": "markdown",
   "metadata": {},
   "source": [
    "## Registration"
   ]
  },
  {
   "cell_type": "code",
   "execution_count": 16,
   "metadata": {},
   "outputs": [],
   "source": [
    "from skimage import exposure, util\n",
    "\n",
    "def contrast_str(img, n_min=0.1, n_max=100):\n",
    "    p2, p98 = np.percentile(img, (n_min, n_max))\n",
    "    img_rescale = exposure.rescale_intensity(img, in_range=(p2, p98))\n",
    "    return img_rescale"
   ]
  },
  {
   "cell_type": "code",
   "execution_count": 17,
   "metadata": {},
   "outputs": [],
   "source": [
    "import tifffile as tf\n",
    "from PIL import Image\n",
    "import PIL.Image\n",
    "PIL.Image.MAX_IMAGE_PIXELS = 933120000\n",
    "import shutil\n",
    "from datetime import date, datetime\n",
    "import skimage.io \n",
    "from skimage import util\n",
    "from skimage.transform import resize"
   ]
  },
  {
   "cell_type": "code",
   "execution_count": 19,
   "metadata": {},
   "outputs": [
    {
     "name": "stdout",
     "output_type": "stream",
     "text": [
      "cycle1 (3, 23586, 43506)\n",
      "cycle2 (3, 23610, 43510)\n",
      "cycle3 (2, 23583, 43511)\n",
      "cycle4 (2, 23599, 43515)\n",
      "cycle5 (3, 23574, 43490)\n",
      "cycle6 (3, 23576, 43496)\n",
      "cycle7 (3, 23593, 43496)\n",
      "cycleHE (3, 23593, 43496)\n",
      "cycle1 (3, 4497, 11372)\n",
      "cycle2 (3, 4445, 11247)\n",
      "cycle3 (2, 4446, 11251)\n",
      "cycle4 (2, 4446, 11239)\n",
      "cycle5 (3, 4440, 11254)\n",
      "cycle6 (3, 4444, 11247)\n",
      "cycle7 (3, 4442, 11243)\n",
      "cycleHE (1,)\n",
      "cycle1 (3, 27600, 32793)\n",
      "cycle2 (3, 29682, 31523)\n",
      "cycle3 (2, 29666, 31521)\n",
      "cycle4 (2, 29652, 31448)\n",
      "cycle5 (3, 29763, 31474)\n",
      "cycle6 (3, 29706, 32862)\n",
      "cycle7 (3, 29649, 31519)\n",
      "cycleHE (3, 29649, 31519)\n",
      "cycle1 (3, 6521, 8689)\n",
      "cycle2 (3, 6446, 8598)\n",
      "cycle3 (2, 6447, 8610)\n",
      "cycle4 (2, 6451, 8599)\n",
      "cycle5 (3, 6439, 8686)\n",
      "cycle6 (3, 6445, 8614)\n",
      "cycle7 (3, 6464, 8635)\n",
      "cycleHE (1,)\n"
     ]
    }
   ],
   "source": [
    "group = df_imgs.groupby(['Condition', 'FOV'])\n",
    "dim = {}\n",
    "for name, df_group in group:\n",
    "    path = df_group.iloc[0].Path\n",
    "             \n",
    "    # Read images\n",
    "    cycles = []\n",
    "    imgs_all = []\n",
    "    channels = []\n",
    "\n",
    "    with h5py.File(path, \"r\") as f:\n",
    "        for k in f.keys():\n",
    "            # Read immage in info\n",
    "            cycle = k.split('_')[0][5:]\n",
    "            channel = f[k].attrs['Channels']\n",
    "            print(k, f[k].shape)\n",
    "            if cycle == '2':\n",
    "                dim[name] = [f[k].shape[1], f[k].shape[2]]"
   ]
  },
  {
   "cell_type": "code",
   "execution_count": 20,
   "metadata": {},
   "outputs": [
    {
     "data": {
      "application/vnd.jupyter.widget-view+json": {
       "model_id": "66ab2442f8464ced8c70e23ba46ab45e",
       "version_major": 2,
       "version_minor": 0
      },
      "text/plain": [
       "  0%|          | 0/8 [00:00<?, ?it/s]"
      ]
     },
     "metadata": {},
     "output_type": "display_data"
    },
    {
     "data": {
      "application/vnd.jupyter.widget-view+json": {
       "model_id": "28ecbdf80ccc44919b855d5a3fc2b74a",
       "version_major": 2,
       "version_minor": 0
      },
      "text/plain": [
       "  0%|          | 0/8 [00:00<?, ?it/s]"
      ]
     },
     "metadata": {},
     "output_type": "display_data"
    },
    {
     "data": {
      "application/vnd.jupyter.widget-view+json": {
       "model_id": "dd7c838b74da4761b4f3c5aefef5c509",
       "version_major": 2,
       "version_minor": 0
      },
      "text/plain": [
       "  0%|          | 0/8 [00:00<?, ?it/s]"
      ]
     },
     "metadata": {},
     "output_type": "display_data"
    },
    {
     "data": {
      "application/vnd.jupyter.widget-view+json": {
       "model_id": "79ee0e1210bf4ea885cbf8eb040a9eba",
       "version_major": 2,
       "version_minor": 0
      },
      "text/plain": [
       "  0%|          | 0/8 [00:00<?, ?it/s]"
      ]
     },
     "metadata": {},
     "output_type": "display_data"
    }
   ],
   "source": [
    "regSavePath = data_dir / 'tissue' /'imgs' / 'registered_imagej'\n",
    "regSavePath.mkdir(parents=True, exist_ok=True)\n",
    "\n",
    "HE_path = data_dir / 'tissue' /'HE' \n",
    "\n",
    "chs = [1, 2, 3, 4]\n",
    "group = df_imgs.groupby(['Condition', 'FOV'])\n",
    "for name, df_group in group:\n",
    "    path = df_group.iloc[0].Path\n",
    "             \n",
    "    # Read images\n",
    "    cycles = []\n",
    "    imgs_all = []\n",
    "    channels = []\n",
    "\n",
    "    with h5py.File(path, \"r\") as f:\n",
    "        for k in tqdm(f.keys(), total=len(f.keys()), leave=False):\n",
    "            if k == 'cycleHE':\n",
    "                name_join = '_'.join(name)\n",
    "                paths = [HE_path / f'{name_join}_CH{i}.tif' for i in [1,2,3]]\n",
    "                channel = np.array([1,2,3])\n",
    "                imgs = [util.invert(tiff.imread(path)) for path in paths]\n",
    "                cycle = '8'\n",
    "                # continue\n",
    "            else:\n",
    "                # Read immage in info\n",
    "                cycle = k.split('_')[0][5:]\n",
    "                channel = f[k].attrs['Channels']\n",
    "                imgs = f[k][:]\n",
    "                # continue \n",
    "\n",
    "            if cycle == '1' and name[1] == '40X':\n",
    "                dim_x = dim[name][0]\n",
    "                dim_y = dim[name][1]\n",
    "                imgs = resize(imgs, (len(imgs), dim_x, dim_y))\n",
    "                imgs = util.img_as_ubyte(imgs)\n",
    "\n",
    "            for ch in chs:\n",
    "                # Save path per Channel\n",
    "                folderPath = os.path.join(regSavePath, '_'.join(name), 'Original', 'CH' + str(ch)) # 1 index\n",
    "                if not os.path.exists(folderPath):\n",
    "                    os.makedirs(folderPath, exist_ok = True)\n",
    "                \n",
    "                fileOut = 'CH' + str(ch) + '_Cycle' + str(cycle).zfill(2) + '.tif'\n",
    "                fileOut = os.path.join(folderPath, fileOut)\n",
    "                # if os.path.exists(fileOut):\n",
    "                #     continue\n",
    "                if ch in channel:\n",
    "                    tf.imwrite(fileOut, util.img_as_uint(imgs[list(channel).index(ch)]), photometric = 'minisblack', bigtiff = True)\n",
    "                else:\n",
    "                    emptyImage = np.zeros(imgs[0].shape, np.uint8)\n",
    "                    # print('Dont exist create empty image', cycle, ch)\n",
    "                    tf.imwrite(fileOut, emptyImage, photometric = 'minisblack', bigtiff = True)"
   ]
  },
  {
   "cell_type": "code",
   "execution_count": 21,
   "metadata": {},
   "outputs": [
    {
     "name": "stdout",
     "output_type": "stream",
     "text": [
      "runMacro(\"y:/coskun-lab/Thomas/23_PLA_revision/data/tissue/imgs/registered_imagej/577-1197_20X/Original/CH1/21Nov2023_register_transforms.ijm\");\n",
      "runMacro(\"y:/coskun-lab/Thomas/23_PLA_revision/data/tissue/imgs/registered_imagej/577-1197_40X/Original/CH1/21Nov2023_register_transforms.ijm\");\n",
      "runMacro(\"y:/coskun-lab/Thomas/23_PLA_revision/data/tissue/imgs/registered_imagej/577-1210_20X/Original/CH1/21Nov2023_register_transforms.ijm\");\n",
      "runMacro(\"y:/coskun-lab/Thomas/23_PLA_revision/data/tissue/imgs/registered_imagej/577-1210_40X/Original/CH1/21Nov2023_register_transforms.ijm\");\n"
     ]
    }
   ],
   "source": [
    "group = df_imgs.groupby(['Condition', 'FOV'])\n",
    "chs = [1, 2, 3, 4]\n",
    "\n",
    "for name, channels in group:\n",
    "    name = '_'.join(name)\n",
    "    '''\n",
    "    run(\"Register Virtual Stack Slices\", \"source=[Y:/coskun-lab/Nicky/07 Temp/register large stitch] output=[Y:/coskun-lab/Nicky/07 Temp/register output] feature=Rigid registration=[Rigid                -- translate + rotate                  ] advanced shrinkage save save_dir=[Y:/coskun-lab/Nicky/07 Temp/register output] initial_gaussian_blur=1.60 steps_per_scale_octave=3 minimum_image_size=64 maximum_image_size=1024 feature_descriptor_size=8 feature_descriptor_orientation_bins=8 closest/next_closest_ratio=0.92 maximal_alignment_error=25 inlier_ratio=0.05 feature_extraction_model=Rigid registration_model=[Rigid                -- translate + rotate                  ] interpolate\");\n",
    "    run(\"Transform Virtual Stack Slices\", \"source = [Y:/coskun-lab/Nicky/07 Temp/other channels/original] output = [Y:/coskun-lab/Nicky/07 Temp/other channels/original] transforms = [Y:/coskun-lab/Nicky/07 Temp/register output] interpolate\");\n",
    "    '''\n",
    "    # folder to save registered images separated by channel to apply transforms\n",
    "    # create all folder\n",
    "    for ii, ch in enumerate(chs): # all channels\n",
    "        os.makedirs(os.path.join(regSavePath, name, 'Original', 'CH' + str(ch)), exist_ok = True)\n",
    "        os.makedirs(os.path.join(regSavePath, name, 'Registered', 'CH' + str(ch)), exist_ok = True)\n",
    "    \n",
    "    os.chdir(os.path.join(regSavePath, name, 'Original', 'CH1'))\n",
    "    now = datetime.now() # current date and time\n",
    "    date_time = now.strftime(\"%d%b%Y\")\n",
    "    macro = open(date_time + '_register_transforms.ijm', 'w')\n",
    "    \n",
    "    # register cycles on CH1\n",
    "    macro.write('run(\"Register Virtual Stack Slices\", \"source=[')\n",
    "    # original files\n",
    "    macro.write(os.path.join(regSavePath, name, 'Original', 'CH1').replace('\\\\', '/'))\n",
    "    macro.write('] output=[')\n",
    "    # registered output files\n",
    "    macro.write(os.path.join(regSavePath, name, 'Registered', 'CH1').replace('\\\\', '/'))\n",
    "    \n",
    "    # Rigid registration: translation + rotation\n",
    "    macro.write('] feature=Rigid registration=[Rigid                -- translate + rotate                  ] advanced shrinkage save save_dir=[')\n",
    "    # folder to save recorded transformations \n",
    "    macro.write('] initial_gaussian_blur=1.60 steps_per_scale_octave=3 minimum_image_size=64 maximum_image_size=1024 feature_descriptor_size=8 feature_descriptor_orientation_bins=8 closest/next_closest_ratio=0.92 maximal_alignment_error=25 inlier_ratio=0.05 feature_extraction_model=Rigid registration_model=[Rigid                -- translate + rotate                  ] interpolate\"); \\n')\n",
    "    \n",
    "    # # bigwrap registration\n",
    "    # macro.write('] feature=Similarity registration=[Elastic              -- bUnwarpJ splines                    ] advanced shrinkage save save_dir=[')\n",
    "    # # folder to save recorded transformations \n",
    "    # macro.write('] initial_gaussian_blur=1.60 steps_per_scale_octave=3 minimum_image_size=64 maximum_image_size=1024 feature_descriptor_size=8 feature_descriptor_orientation_bins=8 closest/next_closest_ratio=0.92 maximal_alignment_error=25 inlier_ratio=0.05 feature_extraction_model=Similarity registration_model=[[Elastic              -- bUnwarpJ splines                    ] interpolate registration=Mono image_subsample_factor=0 initial_deformation=[Very Coarse] final_deformation=Fine divergence_weight=0.1 curl_weight=0.1 landmark_weight=1 image_weight=0 consistency_weight=0 stop_threshold=0.01 shear=0.95 scale=0.95 isotropy=1\"); \\n')\n",
    "    \n",
    "    # # Or use similarity: translation + rotation + isotropic scale\n",
    "    # macro.write('] feature=Similarity registration=[Similarity           -- translate + rotate + isotropic scale] advanced shrinkage save save_dir=[')\n",
    "    # # folder to save recorded transformations \n",
    "    # macro.write('] initial_gaussian_blur=1.60 steps_per_scale_octave=3 minimum_image_size=64 maximum_image_size=1024 feature_descriptor_size=25 feature_descriptor_orientation_bins=8 closest/next_closest_ratio=0.92 maximal_alignment_error=50 inlier_ratio=0.05 feature_extraction_model=Similarity registration_model=[Similarity           -- translate + rotate + isotropic scale] interpolate\"); \\n')\n",
    "    \n",
    "    macro.write('run(\"Close All\"); \\n\\n')\n",
    "    \n",
    "    # now apply transform to other channels\n",
    "    for ii, ch in enumerate([1,2,3,4]): # each other channel\n",
    "        \n",
    "        macro.write('run(\"Transform Virtual Stack Slices\", \"source=[')\n",
    "        # unregsitered folder\n",
    "        macro.write(os.path.join(regSavePath, name, 'Original', 'CH' + str(ch)).replace('\\\\', '/'))\n",
    "        macro.write('] output=[')\n",
    "        # registered folder\n",
    "        macro.write(os.path.join(regSavePath, name, 'Registered', 'CH' + str(ch)).replace('\\\\', '/'))\n",
    "        macro.write('] transforms=[')\n",
    "        macro.write(os.path.join(regSavePath, name, 'Original', 'CH1').replace('\\\\', '/')) # stored in original registration folder\n",
    "        macro.write('] interpolate\"); \\n')\n",
    "        macro.write('run(\"Close All\"); \\n\\n')\n",
    "    \n",
    "    macro.close()\n",
    "    \n",
    "    # print command to run macro\n",
    "    print('runMacro(\"' + os.path.join(regSavePath, name, 'Original', 'CH1', macro.name).replace('\\\\', '/') + '\");')"
   ]
  },
  {
   "cell_type": "markdown",
   "metadata": {},
   "source": [
    "## Combine all registered images into single folder"
   ]
  },
  {
   "cell_type": "code",
   "execution_count": 49,
   "metadata": {},
   "outputs": [],
   "source": [
    "regSavePath = data_dir / 'tissue' /'imgs' / 'registered_imagej'\n",
    "\n",
    "regSaveFinalPath = data_dir / 'tissue' / 'imgs' / 'registered_imagej_final'\n",
    "regSaveFinalPath.mkdir(parents=True, exist_ok=True)\n",
    "\n",
    "regSaveCropPath = data_dir / 'tissue' / 'imgs' /  'registered_crop'\n",
    "regSaveCropPath.mkdir(parents=True, exist_ok=True)"
   ]
  },
  {
   "cell_type": "code",
   "execution_count": 25,
   "metadata": {},
   "outputs": [
    {
     "data": {
      "text/plain": [
       "WindowsPath('y:/coskun-lab/Thomas/23_PLA_revision/data/tissue/imgs/registered_imagej')"
      ]
     },
     "execution_count": 25,
     "metadata": {},
     "output_type": "execute_result"
    }
   ],
   "source": [
    "regSavePath"
   ]
  },
  {
   "cell_type": "code",
   "execution_count": 26,
   "metadata": {},
   "outputs": [
    {
     "data": {
      "application/vnd.jupyter.widget-view+json": {
       "model_id": "c83ec96a799e420fadad237c0fa4f4da",
       "version_major": 2,
       "version_minor": 0
      },
      "text/plain": [
       "  0%|          | 0/8 [00:00<?, ?it/s]"
      ]
     },
     "metadata": {},
     "output_type": "display_data"
    },
    {
     "data": {
      "application/vnd.jupyter.widget-view+json": {
       "model_id": "84d07e548ae8440abbe7392f21d44271",
       "version_major": 2,
       "version_minor": 0
      },
      "text/plain": [
       "  0%|          | 0/8 [00:00<?, ?it/s]"
      ]
     },
     "metadata": {},
     "output_type": "display_data"
    },
    {
     "data": {
      "application/vnd.jupyter.widget-view+json": {
       "model_id": "034c235af6b742bfad5fb66979b0ac0f",
       "version_major": 2,
       "version_minor": 0
      },
      "text/plain": [
       "  0%|          | 0/8 [00:00<?, ?it/s]"
      ]
     },
     "metadata": {},
     "output_type": "display_data"
    },
    {
     "data": {
      "application/vnd.jupyter.widget-view+json": {
       "model_id": "42ce552464bb402088b4a48be6f252b3",
       "version_major": 2,
       "version_minor": 0
      },
      "text/plain": [
       "  0%|          | 0/8 [00:00<?, ?it/s]"
      ]
     },
     "metadata": {},
     "output_type": "display_data"
    }
   ],
   "source": [
    "group = df.groupby(['Condition', 'FOV'])\n",
    "\n",
    "for name, channels in group:\n",
    "    name = '_'.join(name)\n",
    "    for ii, cycle in enumerate(tqdm(channels['Cycle'].unique())): # each cycle\n",
    "    \n",
    "        dfCycle = channels.loc[channels['Cycle'] == cycle]\n",
    "        dfCycle.reset_index(drop = True, inplace = True) # index is channel - 1\n",
    "        if cycle == 'cycleHE':\n",
    "            cycle = '8'\n",
    "            chs = [1,2,3]\n",
    "        else:\n",
    "            cycle = cycle[5:]\n",
    "            chs = dfCycle.Channels\n",
    "            \n",
    "        for jj, ch in enumerate(chs): # each channel\n",
    "            \n",
    "            # find registered file\n",
    "            tifPath = os.path.join(regSavePath, name, 'Registered', 'CH' + str(ch), 'CH' + str(ch)+ '_Cycle' + str(cycle).zfill(2) + '.tif')\n",
    "\n",
    "            # File out\n",
    "            fileOut = 'Cycle' + str(cycle).zfill(2) + \\\n",
    "            '_' + 'CH' + str(ch) + '.tif'\n",
    "            folder = regSaveFinalPath / name\n",
    "            folder.mkdir(parents=True, exist_ok=True)\n",
    "            fileOut = os.path.join(regSaveFinalPath, name, fileOut)\n",
    "            # print(tifPath)\n",
    "            # Copy\n",
    "            if os.path.exists(tifPath):\n",
    "                shutil.copyfile(tifPath, fileOut)\n",
    "            else:\n",
    "                continue"
   ]
  },
  {
   "cell_type": "code",
   "execution_count": 71,
   "metadata": {},
   "outputs": [],
   "source": [
    "#### Cropped image to smallest bounding box of non black region\n",
    "\n",
    "# Get channel list\n",
    "group = df.groupby(['Condition', 'FOV'])\n",
    "\n",
    "for name, df_group in group:\n",
    "    channels = df_group.Channels.tolist()\n",
    "    break\n",
    "\n",
    "# Crop\n",
    "for dir in os.listdir(regSaveFinalPath):\n",
    "\n",
    "    # Read imgs\n",
    "    imgs = []\n",
    "    paths = []\n",
    "    for file in os.listdir(regSaveFinalPath / dir):\n",
    "        if 'tif' in file:\n",
    "            path = regSaveFinalPath / dir/ file\n",
    "            imgs.append(tiff.imread(path))\n",
    "            paths.append(file)\n",
    "\n",
    "    # Get bboxs\n",
    "    bboxs = []\n",
    "    for i, img in enumerate(imgs):\n",
    "        if channels[i] != 1:\n",
    "            continue\n",
    "        bbox = skimage.measure.regionprops((img>0).astype(np.uint8))[0]['bbox']\n",
    "        bboxs.append(np.array(bbox))\n",
    "    bboxs = np.stack(bboxs)\n",
    "\n",
    "    bbox_final = [np.max(bboxs[:,0]),\n",
    "                np.max(bboxs[:,1]),\n",
    "                np.min(bboxs[:,2]),\n",
    "                np.min(bboxs[:,3])]\n",
    "\n",
    "    min_row, min_col, max_row, max_col = bbox_final\n",
    "\n",
    "    # Save cropped images\n",
    "    save_dir = regSaveCropPath / dir\n",
    "    save_dir.mkdir(parents=True, exist_ok=True)\n",
    "    for i, img in enumerate(imgs):\n",
    "        save_path = save_dir / paths[i]\n",
    "        tiff.imwrite(save_path, img[min_row:max_row, min_col:max_col], bigtiff = True)"
   ]
  },
  {
   "cell_type": "code",
   "execution_count": 75,
   "metadata": {},
   "outputs": [
    {
     "data": {
      "text/plain": [
       "Viewer(axes=Axes(visible=False, labels=True, colored=True, dashed=False, arrows=True), camera=Camera(center=(0.0, 2779.5, 4260.5), zoom=0.09037289485847182, angles=(0.0, 0.0, 90.0), perspective=0.0, interactive=True), cursor=Cursor(position=(1.0, 1.0), scaled=True, size=1, style=<CursorStyle.STANDARD: 'standard'>), dims=Dims(ndim=2, ndisplay=2, last_used=0, range=((0.0, 5560.0, 1.0), (0.0, 8522.0, 1.0)), current_step=(2780, 4261), order=(0, 1), axis_labels=('0', '1')), grid=GridCanvas(stride=1, shape=(-1, -1), enabled=False), layers=[<Image layer 'Image' at 0x23583f64310>, <Image layer 'Image [1]' at 0x23583df3460>, <Image layer 'Image [2]' at 0x235849dcfd0>, <Image layer 'Image [3]' at 0x23584bdbe50>, <Image layer 'Image [4]' at 0x2358a0e17e0>, <Image layer 'Image [5]' at 0x2358a170880>, <Image layer 'Image [6]' at 0x2358a215b40>, <Image layer 'Image [7]' at 0x2358a2bc5b0>, <Image layer 'Image [8]' at 0x2358a355ea0>, <Image layer 'Image [9]' at 0x2358a754ac0>, <Image layer 'Image [10]' at 0x2358a7ea200>, <Image layer 'Image [11]' at 0x2358a8bffd0>, <Image layer 'Image [12]' at 0x2358a91e560>, <Image layer 'Image [13]' at 0x2358a9c8730>, <Image layer 'Image [14]' at 0x2358aa528c0>, <Image layer 'Image [15]' at 0x2358aafca90>, <Image layer 'Image [16]' at 0x2358b112c20>, <Image layer 'Image [17]' at 0x2358b1c0df0>, <Image layer 'Image [18]' at 0x2358b223e50>, <Image layer 'Image [19]' at 0x2358b669270>, <Image layer 'Image [20]' at 0x2358b6c7e20>, <Image layer 'Image [21]' at 0x2358b7a95d0>], scale_bar=ScaleBar(visible=False, colored=False, color=array([1., 0., 1., 1.], dtype=float32), ticks=True, position=<Position.BOTTOM_RIGHT: 'bottom_right'>, font_size=10.0, box=False, box_color=array([0. , 0. , 0. , 0.6], dtype=float32), unit=None), text_overlay=TextOverlay(visible=False, color=array([0.5, 0.5, 0.5, 1. ], dtype=float32), font_size=10.0, position=<TextOverlayPosition.TOP_LEFT: 'top_left'>, text=''), overlays=Overlays(interaction_box=InteractionBox(points=None, show=False, show_handle=False, show_vertices=False, selection_box_drag=None, selection_box_final=None, transform_start=<napari.utils.transforms.transforms.Affine object at 0x000002358B488D90>, transform_drag=<napari.utils.transforms.transforms.Affine object at 0x000002358B488D30>, transform_final=<napari.utils.transforms.transforms.Affine object at 0x000002358B488220>, transform=<napari.utils.transforms.transforms.Affine object at 0x000002358B488BB0>, allow_new_selection=True, selected_vertex=None)), help='', status='Ready', tooltip=Tooltip(visible=False, text=''), theme='dark', title='napari', mouse_over_canvas=False, mouse_move_callbacks=[<function InteractionBoxMouseBindings.initialize_mouse_events.<locals>.mouse_move at 0x0000023583FBE320>], mouse_drag_callbacks=[<function InteractionBoxMouseBindings.initialize_mouse_events.<locals>.mouse_drag at 0x0000023583FBD5A0>], mouse_double_click_callbacks=[], mouse_wheel_callbacks=[<function dims_scroll at 0x0000023575B3C820>], _persisted_mouse_event={}, _mouse_drag_gen={}, _mouse_wheel_gen={}, keymap={'Shift': <function InteractionBoxMouseBindings.initialize_key_events.<locals>.hold_to_lock_aspect_ratio at 0x0000023583FBE200>, 'Control-Shift-R': <function InteractionBoxMouseBindings._reset_active_layer_affine at 0x0000023583FBD870>, 'Control-Shift-A': <function InteractionBoxMouseBindings._transform_active_layer at 0x0000023583FBD6C0>})"
      ]
     },
     "execution_count": 75,
     "metadata": {},
     "output_type": "execute_result"
    }
   ],
   "source": [
    "napari.view_image(np.stack(imgs)[:,min_row:max_row, min_col:max_col], channel_axis=0, contrast_limits=[0, 2**16])"
   ]
  },
  {
   "cell_type": "markdown",
   "metadata": {},
   "source": [
    "## Save data"
   ]
  },
  {
   "cell_type": "code",
   "execution_count": 86,
   "metadata": {},
   "outputs": [],
   "source": [
    "markers_map = {\n",
    "    'cycle1': {\n",
    "        1: 'Hoechst', \n",
    "        3: 'Sox2/Oct4',\n",
    "        4: 'NF-Kb/p-P90rsk',\n",
    "    },\n",
    "    'cycle2': {\n",
    "        1: 'Hoechst', \n",
    "        3: 'Cyclin D1/CDK4',\n",
    "        4: 'TRAIL/DR5'\n",
    "    },\n",
    "    'cycle3': {\n",
    "        1: 'Hoechst', \n",
    "        2: 'p-ERK/c-MYC',\n",
    "    },\n",
    "    'cycle4': {\n",
    "        1: 'Hoechst', \n",
    "        3: 'Cyclin E/CDK2',\n",
    "    },\n",
    "    'cycle5': {\n",
    "        1: 'Hoechst', \n",
    "        2: 'CD20',\n",
    "        3: 'Phalloidin',\n",
    "        4: 'CD8'\n",
    "    },\n",
    "    'cycle6': {\n",
    "        1: 'Hoechst', \n",
    "        2: 'Pan-cytokeratin',\n",
    "        4: 'CD4'\n",
    "    },\n",
    "    'cycle7': {\n",
    "        1: 'Hoechst', \n",
    "        2: 'Concanavalin A',\n",
    "        4: 'WGA'\n",
    "    },\n",
    "    'cycle8': {\n",
    "        1: 'HE1',\n",
    "        2: 'HE2',\n",
    "        3: 'HE3',\n",
    "    },\n",
    "}\n",
    "\n",
    "def get_info(data_raw, marker_dict):\n",
    "    conditions = []\n",
    "    fovs = []\n",
    "    cycles = []\n",
    "    channels = []\n",
    "    markers = []\n",
    "    paths = [] \n",
    "\n",
    "    # Loop through image folder\n",
    "    for (dirpath, dirnames, filenames) in os.walk(data_raw):\n",
    "        for name in sorted(filenames):\n",
    "            if \"tif\" in name:\n",
    "                # Get information from image name\n",
    "                n_split = name.split('_')\n",
    "                                \n",
    "                cond=dirpath.split('\\\\')[-1].split('_')[0]\n",
    "                fov=dirpath.split('\\\\')[-1].split('_')[1]\n",
    "                cycle='cycle'+str(int(n_split[0][-2:]))\n",
    "                ch = int(n_split[1][2])\n",
    "                try:\n",
    "                    marker = marker_dict[cycle][ch]\n",
    "                except:\n",
    "                    print(cycle,ch,'')\n",
    "                    continue \n",
    "                    \n",
    "                conditions.append(cond)\n",
    "                fovs.append(fov)\n",
    "                cycles.append(cycle)\n",
    "                channels.append(ch)\n",
    "                markers.append(marker)\n",
    "                paths.append(os.path.join(dirpath, name))\n",
    "                \n",
    "    info = {\n",
    "            \"Condition\": conditions,\n",
    "            \"FOV\": fovs,\n",
    "            \"Cycle\": cycles,\n",
    "            \"Channels\": channels,\n",
    "            \"Markers\": markers,\n",
    "            \"Path\": paths\n",
    "        }\n",
    "\n",
    "    df = pd.DataFrame(info)\n",
    "    return df\n",
    "\n",
    "def joblib_loop(task, pics):\n",
    "    return Parallel(n_jobs=20)(delayed(task)(i) for i in pics)\n",
    "\n",
    "def read_img(path):\n",
    "    return skimage.io.imread(path, as_gray=True)\n",
    "\n",
    "def get_min(imgs):\n",
    "    shapes = np.array([np.array(img.shape) for img in imgs])\n",
    "    return np.min(shapes, axis=0)"
   ]
  },
  {
   "cell_type": "code",
   "execution_count": 92,
   "metadata": {},
   "outputs": [
    {
     "name": "stdout",
     "output_type": "stream",
     "text": [
      "Folder is already there\n",
      "Created df\n"
     ]
    }
   ],
   "source": [
    "data_raw = data_dir /'tissue'  / 'imgs' /  'registered_crop'\n",
    "df_meta_path = data_dir /  'tissue' / 'metadata' / 'info_sti.csv'\n",
    "\n",
    "try:\n",
    "    df_meta_path.parent.mkdir(parents=True, exist_ok=False)\n",
    "except FileExistsError:\n",
    "    print(\"Folder is already there\")\n",
    "\n",
    "df_exist = df_meta_path.is_file()\n",
    "\n",
    "if not df_exist:\n",
    "    print('Created df')\n",
    "    df = get_info(data_raw, markers_map)\n",
    "    df.to_csv(df_meta_path, index=False)\n",
    "else:\n",
    "    print('Loaded df')\n",
    "    df = pd.read_csv(df_meta_path)"
   ]
  },
  {
   "cell_type": "code",
   "execution_count": 93,
   "metadata": {},
   "outputs": [
    {
     "data": {
      "text/html": [
       "<div>\n",
       "<style scoped>\n",
       "    .dataframe tbody tr th:only-of-type {\n",
       "        vertical-align: middle;\n",
       "    }\n",
       "\n",
       "    .dataframe tbody tr th {\n",
       "        vertical-align: top;\n",
       "    }\n",
       "\n",
       "    .dataframe thead th {\n",
       "        text-align: right;\n",
       "    }\n",
       "</style>\n",
       "<table border=\"1\" class=\"dataframe\">\n",
       "  <thead>\n",
       "    <tr style=\"text-align: right;\">\n",
       "      <th></th>\n",
       "      <th>Condition</th>\n",
       "      <th>FOV</th>\n",
       "      <th>Cycle</th>\n",
       "      <th>Channels</th>\n",
       "      <th>Markers</th>\n",
       "      <th>Path</th>\n",
       "    </tr>\n",
       "  </thead>\n",
       "  <tbody>\n",
       "    <tr>\n",
       "      <th>19</th>\n",
       "      <td>577-1197</td>\n",
       "      <td>20X</td>\n",
       "      <td>cycle8</td>\n",
       "      <td>1</td>\n",
       "      <td>HE1</td>\n",
       "      <td>y:\\coskun-lab\\Thomas\\23_PLA_revision\\data\\tiss...</td>\n",
       "    </tr>\n",
       "    <tr>\n",
       "      <th>20</th>\n",
       "      <td>577-1197</td>\n",
       "      <td>20X</td>\n",
       "      <td>cycle8</td>\n",
       "      <td>2</td>\n",
       "      <td>HE2</td>\n",
       "      <td>y:\\coskun-lab\\Thomas\\23_PLA_revision\\data\\tiss...</td>\n",
       "    </tr>\n",
       "    <tr>\n",
       "      <th>21</th>\n",
       "      <td>577-1197</td>\n",
       "      <td>20X</td>\n",
       "      <td>cycle8</td>\n",
       "      <td>3</td>\n",
       "      <td>HE3</td>\n",
       "      <td>y:\\coskun-lab\\Thomas\\23_PLA_revision\\data\\tiss...</td>\n",
       "    </tr>\n",
       "    <tr>\n",
       "      <th>41</th>\n",
       "      <td>577-1197</td>\n",
       "      <td>40X</td>\n",
       "      <td>cycle8</td>\n",
       "      <td>1</td>\n",
       "      <td>HE1</td>\n",
       "      <td>y:\\coskun-lab\\Thomas\\23_PLA_revision\\data\\tiss...</td>\n",
       "    </tr>\n",
       "    <tr>\n",
       "      <th>42</th>\n",
       "      <td>577-1197</td>\n",
       "      <td>40X</td>\n",
       "      <td>cycle8</td>\n",
       "      <td>2</td>\n",
       "      <td>HE2</td>\n",
       "      <td>y:\\coskun-lab\\Thomas\\23_PLA_revision\\data\\tiss...</td>\n",
       "    </tr>\n",
       "    <tr>\n",
       "      <th>43</th>\n",
       "      <td>577-1197</td>\n",
       "      <td>40X</td>\n",
       "      <td>cycle8</td>\n",
       "      <td>3</td>\n",
       "      <td>HE3</td>\n",
       "      <td>y:\\coskun-lab\\Thomas\\23_PLA_revision\\data\\tiss...</td>\n",
       "    </tr>\n",
       "    <tr>\n",
       "      <th>63</th>\n",
       "      <td>577-1210</td>\n",
       "      <td>20X</td>\n",
       "      <td>cycle8</td>\n",
       "      <td>1</td>\n",
       "      <td>HE1</td>\n",
       "      <td>y:\\coskun-lab\\Thomas\\23_PLA_revision\\data\\tiss...</td>\n",
       "    </tr>\n",
       "    <tr>\n",
       "      <th>64</th>\n",
       "      <td>577-1210</td>\n",
       "      <td>20X</td>\n",
       "      <td>cycle8</td>\n",
       "      <td>2</td>\n",
       "      <td>HE2</td>\n",
       "      <td>y:\\coskun-lab\\Thomas\\23_PLA_revision\\data\\tiss...</td>\n",
       "    </tr>\n",
       "    <tr>\n",
       "      <th>65</th>\n",
       "      <td>577-1210</td>\n",
       "      <td>20X</td>\n",
       "      <td>cycle8</td>\n",
       "      <td>3</td>\n",
       "      <td>HE3</td>\n",
       "      <td>y:\\coskun-lab\\Thomas\\23_PLA_revision\\data\\tiss...</td>\n",
       "    </tr>\n",
       "    <tr>\n",
       "      <th>85</th>\n",
       "      <td>577-1210</td>\n",
       "      <td>40X</td>\n",
       "      <td>cycle8</td>\n",
       "      <td>1</td>\n",
       "      <td>HE1</td>\n",
       "      <td>y:\\coskun-lab\\Thomas\\23_PLA_revision\\data\\tiss...</td>\n",
       "    </tr>\n",
       "    <tr>\n",
       "      <th>86</th>\n",
       "      <td>577-1210</td>\n",
       "      <td>40X</td>\n",
       "      <td>cycle8</td>\n",
       "      <td>2</td>\n",
       "      <td>HE2</td>\n",
       "      <td>y:\\coskun-lab\\Thomas\\23_PLA_revision\\data\\tiss...</td>\n",
       "    </tr>\n",
       "    <tr>\n",
       "      <th>87</th>\n",
       "      <td>577-1210</td>\n",
       "      <td>40X</td>\n",
       "      <td>cycle8</td>\n",
       "      <td>3</td>\n",
       "      <td>HE3</td>\n",
       "      <td>y:\\coskun-lab\\Thomas\\23_PLA_revision\\data\\tiss...</td>\n",
       "    </tr>\n",
       "  </tbody>\n",
       "</table>\n",
       "</div>"
      ],
      "text/plain": [
       "   Condition  FOV   Cycle  Channels Markers  \\\n",
       "19  577-1197  20X  cycle8         1     HE1   \n",
       "20  577-1197  20X  cycle8         2     HE2   \n",
       "21  577-1197  20X  cycle8         3     HE3   \n",
       "41  577-1197  40X  cycle8         1     HE1   \n",
       "42  577-1197  40X  cycle8         2     HE2   \n",
       "43  577-1197  40X  cycle8         3     HE3   \n",
       "63  577-1210  20X  cycle8         1     HE1   \n",
       "64  577-1210  20X  cycle8         2     HE2   \n",
       "65  577-1210  20X  cycle8         3     HE3   \n",
       "85  577-1210  40X  cycle8         1     HE1   \n",
       "86  577-1210  40X  cycle8         2     HE2   \n",
       "87  577-1210  40X  cycle8         3     HE3   \n",
       "\n",
       "                                                 Path  \n",
       "19  y:\\coskun-lab\\Thomas\\23_PLA_revision\\data\\tiss...  \n",
       "20  y:\\coskun-lab\\Thomas\\23_PLA_revision\\data\\tiss...  \n",
       "21  y:\\coskun-lab\\Thomas\\23_PLA_revision\\data\\tiss...  \n",
       "41  y:\\coskun-lab\\Thomas\\23_PLA_revision\\data\\tiss...  \n",
       "42  y:\\coskun-lab\\Thomas\\23_PLA_revision\\data\\tiss...  \n",
       "43  y:\\coskun-lab\\Thomas\\23_PLA_revision\\data\\tiss...  \n",
       "63  y:\\coskun-lab\\Thomas\\23_PLA_revision\\data\\tiss...  \n",
       "64  y:\\coskun-lab\\Thomas\\23_PLA_revision\\data\\tiss...  \n",
       "65  y:\\coskun-lab\\Thomas\\23_PLA_revision\\data\\tiss...  \n",
       "85  y:\\coskun-lab\\Thomas\\23_PLA_revision\\data\\tiss...  \n",
       "86  y:\\coskun-lab\\Thomas\\23_PLA_revision\\data\\tiss...  \n",
       "87  y:\\coskun-lab\\Thomas\\23_PLA_revision\\data\\tiss...  "
      ]
     },
     "execution_count": 93,
     "metadata": {},
     "output_type": "execute_result"
    }
   ],
   "source": [
    "df[df.Cycle == 'cycle8']"
   ]
  },
  {
   "cell_type": "code",
   "execution_count": 94,
   "metadata": {},
   "outputs": [
    {
     "data": {
      "text/plain": [
       "Condition  FOV\n",
       "577-1197   20X    22\n",
       "           40X    22\n",
       "577-1210   20X    22\n",
       "           40X    22\n",
       "dtype: int64"
      ]
     },
     "execution_count": 94,
     "metadata": {},
     "output_type": "execute_result"
    }
   ],
   "source": [
    "df.groupby(['Condition', 'FOV']).size()"
   ]
  },
  {
   "cell_type": "code",
   "execution_count": 95,
   "metadata": {},
   "outputs": [
    {
     "name": "stdout",
     "output_type": "stream",
     "text": [
      "Created df\n"
     ]
    },
    {
     "data": {
      "application/vnd.jupyter.widget-view+json": {
       "model_id": "0fc92e98e5cb45479d4478bcbc050753",
       "version_major": 2,
       "version_minor": 0
      },
      "text/plain": [
       "  0%|          | 0/4 [00:00<?, ?it/s]"
      ]
     },
     "metadata": {},
     "output_type": "display_data"
    }
   ],
   "source": [
    "df_imgs_path = data_dir /  'tissue'  /'metadata' / 'imgs_reg.csv'\n",
    "temp_path =data_dir /  'tissue'  /'hdf5' / 'registered'\n",
    "try:\n",
    "    temp_path.mkdir(parents=True, exist_ok=False)\n",
    "except FileExistsError:\n",
    "    print(\"Folder is already there\")\n",
    "\n",
    "df_exist = df_imgs_path.is_file()\n",
    "\n",
    "if not df_exist:\n",
    "    print('Created df')\n",
    "    group = df.groupby(['Condition','FOV'])\n",
    "    rows = []\n",
    "\n",
    "    for name, df_group in tqdm(group, total=len(group)):\n",
    "        file_name = '_'.join(np.array(name).astype(str)) + '.hdf5'\n",
    "        file_path = temp_path / file_name\n",
    "        rows.append(list(name)+[file_path])\n",
    "        \n",
    "        # if file_path.exists():\n",
    "        #     continue\n",
    "        \n",
    "        channels = df_group.Channels.to_list()\n",
    "        cycles = df_group.Cycle.to_list()\n",
    "        markers = df_group.Markers.to_list()\n",
    "        paths = df_group.Path.to_numpy()\n",
    "            \n",
    "        imgs = joblib_loop(read_img, paths)\n",
    "        min_shape = get_min(imgs)\n",
    "        imgs_cropped = np.array([img[:min_shape[0], :min_shape[1]] for img in imgs])\n",
    "        info = {\"Cycle\": cycles, \"Channel\": channels, \"Marker\": markers}\n",
    "            \n",
    "            # hdf5 as Channel -> Z mapping\n",
    "        save_hdf5(file_path, 'imgs', imgs_cropped, info)\n",
    "    df_imgs = pd.DataFrame(rows, columns=['Condition', 'FOV', 'Path'])        \n",
    "    df_imgs.to_csv(df_imgs_path, index=False)\n",
    "else:\n",
    "    print('Loaded df')\n",
    "    df_imgs = pd.read_csv(df_imgs_path)"
   ]
  },
  {
   "cell_type": "code",
   "execution_count": 96,
   "metadata": {},
   "outputs": [
    {
     "data": {
      "text/html": [
       "<div>\n",
       "<style scoped>\n",
       "    .dataframe tbody tr th:only-of-type {\n",
       "        vertical-align: middle;\n",
       "    }\n",
       "\n",
       "    .dataframe tbody tr th {\n",
       "        vertical-align: top;\n",
       "    }\n",
       "\n",
       "    .dataframe thead th {\n",
       "        text-align: right;\n",
       "    }\n",
       "</style>\n",
       "<table border=\"1\" class=\"dataframe\">\n",
       "  <thead>\n",
       "    <tr style=\"text-align: right;\">\n",
       "      <th></th>\n",
       "      <th>Condition</th>\n",
       "      <th>FOV</th>\n",
       "      <th>Path</th>\n",
       "    </tr>\n",
       "  </thead>\n",
       "  <tbody>\n",
       "    <tr>\n",
       "      <th>0</th>\n",
       "      <td>577-1197</td>\n",
       "      <td>20X</td>\n",
       "      <td>y:\\coskun-lab\\Thomas\\23_PLA_revision\\data\\tiss...</td>\n",
       "    </tr>\n",
       "    <tr>\n",
       "      <th>1</th>\n",
       "      <td>577-1197</td>\n",
       "      <td>40X</td>\n",
       "      <td>y:\\coskun-lab\\Thomas\\23_PLA_revision\\data\\tiss...</td>\n",
       "    </tr>\n",
       "    <tr>\n",
       "      <th>2</th>\n",
       "      <td>577-1210</td>\n",
       "      <td>20X</td>\n",
       "      <td>y:\\coskun-lab\\Thomas\\23_PLA_revision\\data\\tiss...</td>\n",
       "    </tr>\n",
       "    <tr>\n",
       "      <th>3</th>\n",
       "      <td>577-1210</td>\n",
       "      <td>40X</td>\n",
       "      <td>y:\\coskun-lab\\Thomas\\23_PLA_revision\\data\\tiss...</td>\n",
       "    </tr>\n",
       "  </tbody>\n",
       "</table>\n",
       "</div>"
      ],
      "text/plain": [
       "  Condition  FOV                                               Path\n",
       "0  577-1197  20X  y:\\coskun-lab\\Thomas\\23_PLA_revision\\data\\tiss...\n",
       "1  577-1197  40X  y:\\coskun-lab\\Thomas\\23_PLA_revision\\data\\tiss...\n",
       "2  577-1210  20X  y:\\coskun-lab\\Thomas\\23_PLA_revision\\data\\tiss...\n",
       "3  577-1210  40X  y:\\coskun-lab\\Thomas\\23_PLA_revision\\data\\tiss..."
      ]
     },
     "execution_count": 96,
     "metadata": {},
     "output_type": "execute_result"
    }
   ],
   "source": [
    "df_imgs"
   ]
  },
  {
   "cell_type": "markdown",
   "metadata": {},
   "source": [
    "# Segmentation"
   ]
  },
  {
   "cell_type": "markdown",
   "metadata": {},
   "source": [
    "## Multiplex"
   ]
  },
  {
   "cell_type": "code",
   "execution_count": 97,
   "metadata": {},
   "outputs": [],
   "source": [
    "import napari \n",
    "from skimage import util"
   ]
  },
  {
   "cell_type": "code",
   "execution_count": 98,
   "metadata": {},
   "outputs": [],
   "source": [
    "df_imgs_path = data_dir /  'tissue' /'metadata' / 'imgs_reg.csv'\n",
    "df_imgs = pd.read_csv(df_imgs_path)"
   ]
  },
  {
   "cell_type": "code",
   "execution_count": 104,
   "metadata": {},
   "outputs": [
    {
     "data": {
      "text/plain": [
       "array(['Hoechst', 'Sox2/Oct4', 'NF-Kb/p-P90rsk', 'Hoechst',\n",
       "       'Cyclin D1/CDK4', 'TRAIL/DR5', 'Hoechst', 'p-ERK/c-MYC', 'Hoechst',\n",
       "       'Cyclin E/CDK2', 'Hoechst', 'CD20', 'CD8', 'Hoechst',\n",
       "       'Pan-cytokeratin', 'CD4', 'Hoechst', 'Concanavalin A', 'WGA',\n",
       "       'HE1', 'HE2', 'HE3'], dtype=object)"
      ]
     },
     "execution_count": 104,
     "metadata": {},
     "output_type": "execute_result"
    }
   ],
   "source": [
    "markers"
   ]
  },
  {
   "cell_type": "code",
   "execution_count": 106,
   "metadata": {},
   "outputs": [],
   "source": [
    "cyto_markers = ['CD8', 'Pan-cytokeratin', 'CD4']"
   ]
  },
  {
   "cell_type": "code",
   "execution_count": 107,
   "metadata": {},
   "outputs": [],
   "source": [
    "whole_seg_path = data_dir /  'tissue' / 'imgs' / 'segmentation'\n",
    "whole_seg_path.mkdir(parents=True, exist_ok=True)\n",
    "\n",
    "\n",
    "# Save combined images\n",
    "for row in df_imgs.itertuples():\n",
    "    # Read image\n",
    "    path = row.Path\n",
    "    with h5py.File(path, \"r\") as f:\n",
    "        imgs = f['imgs'][:]\n",
    "        markers = f['imgs'].attrs['Marker']\n",
    "\n",
    "    # Get dapi and cyto imgaes\n",
    "    indices = np.isin(markers, cyto_markers)\n",
    "    img_dapi = imgs[3]\n",
    "    imgs_cyto = imgs[indices,:]\n",
    "    \n",
    "    # Contrast streching and combine to rgb image\n",
    "    img_dapi = contrast_str(img_dapi, n_max=99.9)\n",
    "    imgs_cyto_scaled = [contrast_str(imgs_cyto[0],  n_min=10, n_max=99.9), \n",
    "                        contrast_str(imgs_cyto[1],  n_min=10, n_max=99.9), \n",
    "                        contrast_str(imgs_cyto[2],  n_min=10, n_max=99.9)]\n",
    "    img_cyto = np.max(np.array(imgs_cyto_scaled), axis=0)\n",
    "    img_rgb = np.stack([np.zeros(img_dapi.shape),img_cyto, img_dapi], axis=0).astype(np.uint8)\n",
    "    \n",
    "    # Crop and save\n",
    "    file_name = f'{\"_\".join(row[1:3])}.tif'\n",
    "    file_path = whole_seg_path / file_name\n",
    "    tiff.imwrite(file_path, img_rgb)"
   ]
  },
  {
   "cell_type": "code",
   "execution_count": 103,
   "metadata": {},
   "outputs": [
    {
     "data": {
      "text/plain": [
       "Viewer(axes=Axes(visible=False, labels=True, colored=True, dashed=False, arrows=True), camera=Camera(center=(0.0, 2218.5, 5580.5), zoom=0.19456190646837485, angles=(0.0, 0.0, 90.0), perspective=0.0, interactive=True), cursor=Cursor(position=(1.0, 1.0), scaled=True, size=1, style=<CursorStyle.STANDARD: 'standard'>), dims=Dims(ndim=2, ndisplay=2, last_used=0, range=((0.0, 4438.0, 1.0), (0.0, 11162.0, 1.0)), current_step=(2219, 5581), order=(0, 1), axis_labels=('0', '1')), grid=GridCanvas(stride=1, shape=(-1, -1), enabled=False), layers=[<Image layer 'Hoechst' at 0x23597178760>, <Image layer 'Sox2/Oct4' at 0x23596f6b220>, <Image layer 'NF-Kb/p-P90rsk' at 0x23596eb8b80>, <Image layer 'Hoechst [1]' at 0x23596e628c0>, <Image layer 'Cyclin D1/CDK4' at 0x23596d56110>, <Image layer 'TRAIL/DR5' at 0x23596c4c7c0>, <Image layer 'Hoechst [2]' at 0x23596b3c7c0>, <Image layer 'p-ERK/c-MYC' at 0x2358e61beb0>, <Image layer 'Hoechst [3]' at 0x2358e414a00>, <Image layer 'Cyclin E/CDK2' at 0x23585bc3bb0>, <Image layer 'Hoechst [4]' at 0x23585b393c0>, <Image layer 'CD20' at 0x23585bb8eb0>, <Image layer 'CD8' at 0x23585bd7f40>, <Image layer 'Hoechst [5]' at 0x23596145240>, <Image layer 'Pan-cytokeratin' at 0x235961abdf0>, <Image layer 'CD4' at 0x23596a555a0>, <Image layer 'Hoechst [6]' at 0x23597ddbf70>, <Image layer 'Concanavalin A' at 0x23597eb1b40>, <Image layer 'WGA' at 0x23597f68310>, <Image layer 'HE1' at 0x235985edd80>, <Image layer 'HE2' at 0x2359869a740>, <Image layer 'HE3' at 0x2359872a140>], scale_bar=ScaleBar(visible=False, colored=False, color=array([1., 0., 1., 1.], dtype=float32), ticks=True, position=<Position.BOTTOM_RIGHT: 'bottom_right'>, font_size=10.0, box=False, box_color=array([0. , 0. , 0. , 0.6], dtype=float32), unit=None), text_overlay=TextOverlay(visible=False, color=array([0.5, 0.5, 0.5, 1. ], dtype=float32), font_size=10.0, position=<TextOverlayPosition.TOP_LEFT: 'top_left'>, text=''), overlays=Overlays(interaction_box=InteractionBox(points=None, show=False, show_handle=False, show_vertices=False, selection_box_drag=None, selection_box_final=None, transform_start=<napari.utils.transforms.transforms.Affine object at 0x0000023595B87F70>, transform_drag=<napari.utils.transforms.transforms.Affine object at 0x0000023595B87E20>, transform_final=<napari.utils.transforms.transforms.Affine object at 0x0000023595B87BB0>, transform=<napari.utils.transforms.transforms.Affine object at 0x0000023595B87CD0>, allow_new_selection=True, selected_vertex=None)), help='', status='Ready', tooltip=Tooltip(visible=False, text=''), theme='dark', title='napari', mouse_over_canvas=False, mouse_move_callbacks=[<function InteractionBoxMouseBindings.initialize_mouse_events.<locals>.mouse_move at 0x0000023596BD4AF0>], mouse_drag_callbacks=[<function InteractionBoxMouseBindings.initialize_mouse_events.<locals>.mouse_drag at 0x0000023596BD4430>], mouse_double_click_callbacks=[], mouse_wheel_callbacks=[<function dims_scroll at 0x0000023575B3C820>], _persisted_mouse_event={}, _mouse_drag_gen={}, _mouse_wheel_gen={}, keymap={'Shift': <function InteractionBoxMouseBindings.initialize_key_events.<locals>.hold_to_lock_aspect_ratio at 0x0000023596BD4700>, 'Control-Shift-R': <function InteractionBoxMouseBindings._reset_active_layer_affine at 0x0000023596BD49D0>, 'Control-Shift-A': <function InteractionBoxMouseBindings._transform_active_layer at 0x0000023596BD4790>})"
      ]
     },
     "execution_count": 103,
     "metadata": {},
     "output_type": "execute_result"
    }
   ],
   "source": [
    "import napari \n",
    "\n",
    "napari.view_image(img, channel_axis=0, name=markers, contrast_limits=[0, 2**16])"
   ]
  },
  {
   "cell_type": "markdown",
   "metadata": {},
   "source": [
    "## HE"
   ]
  },
  {
   "cell_type": "markdown",
   "metadata": {},
   "source": []
  }
 ],
 "metadata": {
  "kernelspec": {
   "display_name": "PLA",
   "language": "python",
   "name": "python3"
  },
  "language_info": {
   "codemirror_mode": {
    "name": "ipython",
    "version": 3
   },
   "file_extension": ".py",
   "mimetype": "text/x-python",
   "name": "python",
   "nbconvert_exporter": "python",
   "pygments_lexer": "ipython3",
   "version": "3.10.10"
  }
 },
 "nbformat": 4,
 "nbformat_minor": 2
}
