{
 "cells": [
  {
   "cell_type": "code",
   "execution_count": 1,
   "metadata": {},
   "outputs": [],
   "source": [
    "import os\n",
    "import sys\n",
    "from pathlib import Path\n",
    "\n",
    "import cv2\n",
    "import matplotlib.pyplot as plt\n",
    "import numpy as np\n",
    "import pandas as pd\n",
    "import skimage.io\n",
    "\n",
    "from collections import defaultdict\n",
    "from tqdm.auto import tqdm\n",
    "from joblib import Parallel, delayed\n",
    "import re\n",
    "import pickle\n",
    "\n",
    "import networkx as nx\n",
    "from sklearn.model_selection import train_test_split"
   ]
  },
  {
   "cell_type": "code",
   "execution_count": 2,
   "metadata": {},
   "outputs": [],
   "source": [
    "import torch_geometric.utils\n",
    "import torch"
   ]
  },
  {
   "cell_type": "code",
   "execution_count": 3,
   "metadata": {},
   "outputs": [],
   "source": [
    "%load_ext autoreload\n",
    "%autoreload 2"
   ]
  },
  {
   "cell_type": "code",
   "execution_count": 4,
   "metadata": {},
   "outputs": [],
   "source": [
    "p_dir = (Path().cwd().parents[0]).absolute()\n",
    "\n",
    "module_path = str(p_dir / \"src\")\n",
    "\n",
    "if module_path not in sys.path:\n",
    "    sys.path.append(module_path)"
   ]
  },
  {
   "cell_type": "code",
   "execution_count": 5,
   "metadata": {},
   "outputs": [],
   "source": [
    "data_dir = (Path().cwd().parents[0] / 'data').absolute()"
   ]
  },
  {
   "cell_type": "code",
   "execution_count": 6,
   "metadata": {},
   "outputs": [
    {
     "name": "stderr",
     "output_type": "stream",
     "text": [
      "c:\\Users\\thu71\\AppData\\Local\\anaconda3\\envs\\scanpy\\Lib\\site-packages\\torchvision\\io\\image.py:13: UserWarning: Failed to load image Python extension: '[WinError 127] The specified procedure could not be found'If you don't plan on using image functionality from `torchvision.io`, you can ignore this warning. Otherwise, there might be something wrong with your environment. Did you have `libjpeg` or `libpng` installed before building `torchvision` from source?\n",
      "  warn(\n"
     ]
    }
   ],
   "source": [
    "import lightning.pytorch as pl\n",
    "import PPIGraph"
   ]
  },
  {
   "cell_type": "markdown",
   "metadata": {},
   "source": [
    "# Load dataset"
   ]
  },
  {
   "cell_type": "code",
   "execution_count": 7,
   "metadata": {},
   "outputs": [
    {
     "name": "stderr",
     "output_type": "stream",
     "text": [
      "Processing...\n"
     ]
    },
    {
     "data": {
      "application/vnd.jupyter.widget-view+json": {
       "model_id": "8fa2a608129444a481cc2954583d94ed",
       "version_major": 2,
       "version_minor": 0
      },
      "text/plain": [
       "  0%|          | 0/2305 [00:00<?, ?it/s]"
      ]
     },
     "metadata": {},
     "output_type": "display_data"
    },
    {
     "name": "stderr",
     "output_type": "stream",
     "text": [
      "c:\\Users\\thu71\\AppData\\Local\\anaconda3\\envs\\scanpy\\Lib\\site-packages\\torch_geometric\\utils\\convert.py:249: UserWarning: Creating a tensor from a list of numpy.ndarrays is extremely slow. Please consider converting the list to a single numpy.ndarray with numpy.array() before converting to a tensor. (Triggered internally at ..\\torch\\csrc\\utils\\tensor_new.cpp:264.)\n",
      "  data[key] = torch.tensor(value)\n",
      "Done!\n"
     ]
    }
   ],
   "source": [
    "from torch_geometric.loader import DataLoader\n",
    "\n",
    "# Define condition mapping\n",
    "condition_mapping = {'HCC827Ctrl': 0, 'HCC827Osim': 1}\n",
    "\n",
    "# Load graph dataset and process if neede\n",
    "graph_path = data_dir / 'OCT Cell Culture' / '3D_Whole' / 'graphs' \n",
    "\n",
    "dataset = PPIGraph.GraphDataset(graph_path, 'raw', 'pt', condition_mapping=condition_mapping, n_c=2)\n",
    "train_set, val_set, test_set = PPIGraph.train_test_val_split(dataset)\n",
    "\n",
    "# Create Dataloader\n",
    "train_loader = DataLoader(train_set, batch_size=32, shuffle=True)\n",
    "val_loader = DataLoader(val_set, batch_size=32, shuffle=True)\n",
    "test_loader = DataLoader(test_set, batch_size=32, shuffle=False)\n"
   ]
  },
  {
   "cell_type": "code",
   "execution_count": 8,
   "metadata": {},
   "outputs": [
    {
     "name": "stdout",
     "output_type": "stream",
     "text": [
      "Dataset: GraphDataset(2305):\n",
      "======================\n",
      "Number of graphs: 2305\n",
      "Number of features: 5\n",
      "Number of classes: 2\n",
      "Train set: 1107, test set: 922, val set: 276\n",
      "Step 1:\n",
      "=======\n",
      "Number of graphs in the current batch: 32\n",
      "DataBatch(edge_index=[2, 42956], pos=[3376, 3], labels=[3376, 5], nuclei=[3376], weight=[42956], condition=[32], fov=[32], id=[32], train_mask=[3376], test_mask=[3376], x=[3376, 5], y=[32], edge_weight=[42956], name=[32], batch=[3376], ptr=[33])\n",
      "\n"
     ]
    }
   ],
   "source": [
    "# Print some information on the dataset\n",
    "print(f'Dataset: {dataset}:')\n",
    "print('======================')\n",
    "print(f'Number of graphs: {len(dataset)}')\n",
    "print(f'Number of features: {dataset.num_features}')\n",
    "print(f'Number of classes: {dataset.num_classes}')\n",
    "\n",
    "print(f'Train set: {len(train_set)}, test set: {len(test_set)}, val set: {len(val_set)}')\n",
    "for step, data in enumerate(train_loader):\n",
    "\n",
    "    print(f'Step {step + 1}:')\n",
    "    print('=======')\n",
    "    print(f'Number of graphs in the current batch: {data.num_graphs}')\n",
    "    print(data)\n",
    "    print()\n",
    "    break"
   ]
  },
  {
   "cell_type": "code",
   "execution_count": 9,
   "metadata": {},
   "outputs": [
    {
     "name": "stdout",
     "output_type": "stream",
     "text": [
      "Dataset: GraphDataset(2305):\n",
      "======================\n",
      "Number of graphs: 2305\n",
      "Number of features: 5\n",
      "Number of classes: 2\n",
      "Train set: 1107, test set: 922, val set: 276\n",
      "Step 1:\n",
      "=======\n",
      "Number of graphs in the current batch: 32\n",
      "DataBatch(edge_index=[2, 38672], pos=[3093, 3], labels=[3093, 5], nuclei=[3093], weight=[38672], condition=[32], fov=[32], id=[32], train_mask=[3093], test_mask=[3093], x=[3093, 5], y=[32], edge_weight=[38672], name=[32], batch=[3093], ptr=[33])\n",
      "\n"
     ]
    }
   ],
   "source": [
    "# Print some information on the dataset\n",
    "print(f'Dataset: {dataset}:')\n",
    "print('======================')\n",
    "print(f'Number of graphs: {len(dataset)}')\n",
    "print(f'Number of features: {dataset.num_features}')\n",
    "print(f'Number of classes: {dataset.num_classes}')\n",
    "\n",
    "print(f'Train set: {len(train_set)}, test set: {len(test_set)}, val set: {len(val_set)}')\n",
    "for step, data in enumerate(train_loader):\n",
    "\n",
    "    print(f'Step {step + 1}:')\n",
    "    print('=======')\n",
    "    print(f'Number of graphs in the current batch: {data.num_graphs}')\n",
    "    print(data)\n",
    "    print()\n",
    "    break"
   ]
  },
  {
   "cell_type": "markdown",
   "metadata": {},
   "source": [
    "# K-fold on filter dataset"
   ]
  },
  {
   "cell_type": "code",
   "execution_count": 10,
   "metadata": {},
   "outputs": [],
   "source": [
    "import itertools\n",
    "from lightning.pytorch.accelerators import find_usable_cuda_devices\n",
    "import wandb"
   ]
  },
  {
   "cell_type": "code",
   "execution_count": 11,
   "metadata": {},
   "outputs": [],
   "source": [
    "from sklearn.model_selection import KFold, StratifiedKFold\n",
    "from torch.utils.data import SubsetRandomSampler"
   ]
  },
  {
   "cell_type": "code",
   "execution_count": 12,
   "metadata": {},
   "outputs": [],
   "source": [
    "# Filter out by maximum number of counts per cell\n",
    "min_count = 20\n",
    "max_count = 70\n",
    "\n",
    "graph_path = data_dir / 'OCT Cell Culture' / '3D_Whole' / 'graphs' \n",
    "\n",
    "dataset = PPIGraph.GraphDataset(graph_path, 'raw', 'pt', condition_mapping=condition_mapping, n_c=2)\n",
    "\n",
    "# Create Dataloader\n",
    "loader = DataLoader(dataset, batch_size=1, shuffle=False)\n",
    "\n",
    "# Get Indices\n",
    "indices = []\n",
    "for step, data in enumerate(loader):\n",
    "    if len(data.x) <= min_count:\n",
    "        continue \n",
    "    \n",
    "    if (data.x.sum(axis=0) >= max_count).any():\n",
    "        continue\n",
    "    indices.append(step)\n",
    "    \n",
    "# Get subset dataset\n",
    "dataset_filtered = dataset.index_select(indices)\n"
   ]
  },
  {
   "cell_type": "code",
   "execution_count": 13,
   "metadata": {},
   "outputs": [
    {
     "data": {
      "text/plain": [
       "1595"
      ]
     },
     "execution_count": 13,
     "metadata": {},
     "output_type": "execute_result"
    }
   ],
   "source": [
    "len(dataset_filtered)"
   ]
  },
  {
   "cell_type": "code",
   "execution_count": 14,
   "metadata": {},
   "outputs": [],
   "source": [
    "dataset_name = '5PPI_3D'\n",
    "condition = 'Kfold'\n",
    "checkpoint_folder = (Path().cwd().parents[0]).absolute() / 'data' /'OCT Cell Culture' / '3D_Whole' /\"saved_models\" / dataset_name / f\"Graph_GNNs_{condition}\" \n",
    "project_name = f'PLA_01122024_{dataset_name}_{condition}'"
   ]
  },
  {
   "cell_type": "code",
   "execution_count": 15,
   "metadata": {},
   "outputs": [
    {
     "name": "stderr",
     "output_type": "stream",
     "text": [
      "Global seed set to 42\n"
     ]
    }
   ],
   "source": [
    "AVAIL_GPUS = [0]\n",
    "\n",
    "# Setting the seed\n",
    "pl.seed_everything(42)\n",
    "epochs = 65\n",
    "\n",
    "# NUM_LAYERS = 2\n",
    "# HIDDEN_CHANNELS = 16\n",
    "# pools = ['mean', 'max', 'sum', 'attention', 'attention2']\n",
    "# num_layers = [2,3,4]\n",
    "# hiddens = [16, 32, 64]\n",
    "\n",
    "\n",
    "# # model = 'GAT'\n",
    "# model = 'GINConv'\n",
    "params = [[3,32,'mean','MLP'], \n",
    "[3,32,'attention2','GraphConv'],\n",
    "[2,64,'attention2','GCN'],\n",
    "[3,64,'attention','GAT_norm'],\n",
    "[2,16,'attention','GINConv_norm']]"
   ]
  },
  {
   "cell_type": "code",
   "execution_count": 16,
   "metadata": {},
   "outputs": [
    {
     "data": {
      "text/plain": [
       "[[3, 32, 'mean', 'MLP'],\n",
       " [3, 32, 'attention2', 'GraphConv'],\n",
       " [2, 64, 'attention2', 'GCN'],\n",
       " [3, 64, 'attention', 'GAT_norm'],\n",
       " [2, 16, 'attention', 'GINConv_norm']]"
      ]
     },
     "execution_count": 16,
     "metadata": {},
     "output_type": "execute_result"
    }
   ],
   "source": [
    "params"
   ]
  },
  {
   "cell_type": "code",
   "execution_count": 17,
   "metadata": {},
   "outputs": [
    {
     "name": "stderr",
     "output_type": "stream",
     "text": [
      "Failed to detect the name of this notebook, you can set it manually with the WANDB_NOTEBOOK_NAME environment variable to enable code saving.\n",
      "\u001b[34m\u001b[1mwandb\u001b[0m: Currently logged in as: \u001b[33mthoomas\u001b[0m. Use \u001b[1m`wandb login --relogin`\u001b[0m to force relogin\n"
     ]
    },
    {
     "data": {
      "text/html": [
       "wandb version 0.16.2 is available!  To upgrade, please run:\n",
       " $ pip install wandb --upgrade"
      ],
      "text/plain": [
       "<IPython.core.display.HTML object>"
      ]
     },
     "metadata": {},
     "output_type": "display_data"
    },
    {
     "data": {
      "text/html": [
       "Tracking run with wandb version 0.15.8"
      ],
      "text/plain": [
       "<IPython.core.display.HTML object>"
      ]
     },
     "metadata": {},
     "output_type": "display_data"
    },
    {
     "data": {
      "text/html": [
       "Run data is saved locally in <code>y:\\coskun-lab\\Thomas\\23_PLA_revision\\notebooks\\wandb\\run-20240115_232134-d8qp247d</code>"
      ],
      "text/plain": [
       "<IPython.core.display.HTML object>"
      ]
     },
     "metadata": {},
     "output_type": "display_data"
    },
    {
     "data": {
      "text/html": [
       "Syncing run <strong><a href='https://wandb.ai/thoomas/PLA_01122024_5PPI_3D_Kfold/runs/d8qp247d' target=\"_blank\">MLP_3_32_onehot_0</a></strong> to <a href='https://wandb.ai/thoomas/PLA_01122024_5PPI_3D_Kfold' target=\"_blank\">Weights & Biases</a> (<a href='https://wandb.me/run' target=\"_blank\">docs</a>)<br/>"
      ],
      "text/plain": [
       "<IPython.core.display.HTML object>"
      ]
     },
     "metadata": {},
     "output_type": "display_data"
    },
    {
     "data": {
      "text/html": [
       " View project at <a href='https://wandb.ai/thoomas/PLA_01122024_5PPI_3D_Kfold' target=\"_blank\">https://wandb.ai/thoomas/PLA_01122024_5PPI_3D_Kfold</a>"
      ],
      "text/plain": [
       "<IPython.core.display.HTML object>"
      ]
     },
     "metadata": {},
     "output_type": "display_data"
    },
    {
     "data": {
      "text/html": [
       " View run at <a href='https://wandb.ai/thoomas/PLA_01122024_5PPI_3D_Kfold/runs/d8qp247d' target=\"_blank\">https://wandb.ai/thoomas/PLA_01122024_5PPI_3D_Kfold/runs/d8qp247d</a>"
      ],
      "text/plain": [
       "<IPython.core.display.HTML object>"
      ]
     },
     "metadata": {},
     "output_type": "display_data"
    },
    {
     "name": "stderr",
     "output_type": "stream",
     "text": [
      "Global seed set to 42\n",
      "c:\\Users\\thu71\\AppData\\Local\\anaconda3\\envs\\scanpy\\Lib\\site-packages\\pytorch_lightning\\loggers\\wandb.py:397: UserWarning: There is a wandb run already in progress and newly created instances of `WandbLogger` will reuse this run. If this is not desired, call `wandb.finish()` before instantiating `WandbLogger`.\n",
      "  rank_zero_warn(\n",
      "GPU available: True (cuda), used: True\n",
      "TPU available: False, using: 0 TPU cores\n",
      "IPU available: False, using: 0 IPUs\n",
      "HPU available: False, using: 0 HPUs\n",
      "Global seed set to 42\n"
     ]
    },
    {
     "name": "stdout",
     "output_type": "stream",
     "text": [
      "Using MLP\n"
     ]
    },
    {
     "name": "stderr",
     "output_type": "stream",
     "text": [
      "You are using a CUDA device ('NVIDIA RTX A2000 12GB') that has Tensor Cores. To properly utilize them, you should set `torch.set_float32_matmul_precision('medium' | 'high')` which will trade-off precision for performance. For more details, read https://pytorch.org/docs/stable/generated/torch.set_float32_matmul_precision.html#torch.set_float32_matmul_precision\n",
      "c:\\Users\\thu71\\AppData\\Local\\anaconda3\\envs\\scanpy\\Lib\\site-packages\\lightning\\pytorch\\callbacks\\model_checkpoint.py:617: UserWarning: Checkpoint directory \\\\bme-retromaster.ad.gatech.edu\\labs5\\coskun-lab\\Thomas\\23_PLA_revision\\data\\OCT Cell Culture\\3D_Whole\\saved_models\\5PPI_3D\\Graph_GNNs_Kfold\\MLP_3_32_onehot_0\\mean\\GraphLevelMLP exists and is not empty.\n",
      "  rank_zero_warn(f\"Checkpoint directory {dirpath} exists and is not empty.\")\n",
      "LOCAL_RANK: 0 - CUDA_VISIBLE_DEVICES: [0]\n",
      "\n",
      "  | Name        | Type             | Params\n",
      "-------------------------------------------------\n",
      "0 | x_embedding | Identity         | 0     \n",
      "1 | model       | MLPModel         | 2.3 K \n",
      "2 | head        | Sequential       | 562   \n",
      "3 | loss_module | CrossEntropyLoss | 0     \n",
      "4 | train_acc   | BinaryAccuracy   | 0     \n",
      "5 | train_auroc | BinaryAUROC      | 0     \n",
      "6 | train_f1    | BinaryF1Score    | 0     \n",
      "7 | valid_acc   | BinaryAccuracy   | 0     \n",
      "8 | valid_auroc | BinaryAUROC      | 0     \n",
      "9 | valid_f1    | BinaryF1Score    | 0     \n",
      "-------------------------------------------------\n",
      "2.9 K     Trainable params\n",
      "0         Non-trainable params\n",
      "2.9 K     Total params\n",
      "0.011     Total estimated model params size (MB)\n",
      "c:\\Users\\thu71\\AppData\\Local\\anaconda3\\envs\\scanpy\\Lib\\site-packages\\lightning\\pytorch\\trainer\\connectors\\data_connector.py:486: PossibleUserWarning: Your `val_dataloader`'s sampler has shuffling enabled, it is strongly recommended that you turn shuffling off for val/test dataloaders.\n",
      "  rank_zero_warn(\n",
      "c:\\Users\\thu71\\AppData\\Local\\anaconda3\\envs\\scanpy\\Lib\\site-packages\\lightning\\pytorch\\trainer\\connectors\\data_connector.py:438: PossibleUserWarning: The dataloader, val_dataloader, does not have many workers which may be a bottleneck. Consider increasing the value of the `num_workers` argument` (try 24 which is the number of cpus on this machine) in the `DataLoader` init to improve performance.\n",
      "  rank_zero_warn(\n",
      "c:\\Users\\thu71\\AppData\\Local\\anaconda3\\envs\\scanpy\\Lib\\site-packages\\lightning\\pytorch\\utilities\\data.py:76: UserWarning: Trying to infer the `batch_size` from an ambiguous collection. The batch size we found is 2. To avoid any miscalculations, use `self.log(..., batch_size=batch_size)`.\n",
      "  warning_cache.warn(\n",
      "c:\\Users\\thu71\\AppData\\Local\\anaconda3\\envs\\scanpy\\Lib\\site-packages\\lightning\\pytorch\\trainer\\connectors\\data_connector.py:438: PossibleUserWarning: The dataloader, train_dataloader, does not have many workers which may be a bottleneck. Consider increasing the value of the `num_workers` argument` (try 24 which is the number of cpus on this machine) in the `DataLoader` init to improve performance.\n",
      "  rank_zero_warn(\n",
      "`Trainer.fit` stopped: `max_epochs=65` reached.\n"
     ]
    },
    {
     "data": {
      "text/html": [
       "Waiting for W&B process to finish... <strong style=\"color:green\">(success).</strong>"
      ],
      "text/plain": [
       "<IPython.core.display.HTML object>"
      ]
     },
     "metadata": {},
     "output_type": "display_data"
    },
    {
     "data": {
      "application/vnd.jupyter.widget-view+json": {
       "model_id": "6f1db7582d2f4eb0a8a390d5372bde50",
       "version_major": 2,
       "version_minor": 0
      },
      "text/plain": [
       "VBox(children=(Label(value='0.001 MB of 0.001 MB uploaded (0.000 MB deduped)\\r'), FloatProgress(value=1.0, max…"
      ]
     },
     "metadata": {},
     "output_type": "display_data"
    },
    {
     "data": {
      "text/html": [
       "<style>\n",
       "    table.wandb td:nth-child(1) { padding: 0 10px; text-align: left ; width: auto;} td:nth-child(2) {text-align: left ; width: 100%}\n",
       "    .wandb-row { display: flex; flex-direction: row; flex-wrap: wrap; justify-content: flex-start; width: 100% }\n",
       "    .wandb-col { display: flex; flex-direction: column; flex-basis: 100%; flex: 1; padding: 10px; }\n",
       "    </style>\n",
       "<div class=\"wandb-row\"><div class=\"wandb-col\"><h3>Run history:</h3><br/><table class=\"wandb\"><tr><td>epoch</td><td>▁▁▁▂▂▂▂▂▂▃▃▃▃▃▄▄▄▄▄▄▅▅▅▅▅▅▆▆▆▆▆▇▇▇▇▇▇███</td></tr><tr><td>lr-Adam</td><td>▁▁▁▁▁▁▁▁▁▁▁▁▁▁▁▁▁▁▁▁▁▁▁▁▁▁▁▁▁▁▁▁▁▁▁▁▁▁▁▁</td></tr><tr><td>train_acc</td><td>▁▄▄▄▅▇▇▇▇▇▇▆▇▇▆▇▇▇▇█▇▇▇▇▇█▇▇█▇▇▇▇▇▇▇▇▇▇▇</td></tr><tr><td>train_auc</td><td>▁▁▁▂▄▇▇▇▇▇▇▇▇▇▇▇█▇▇█▇▇█▇███████▇████▇█▇█</td></tr><tr><td>train_f1</td><td>▅▁▁▁▂▇█▇█▇█▇▇▇▇▇██▇█▇▇█▇▇█▇▇█▇█▇▇█▇▇▇▇▇▇</td></tr><tr><td>train_loss_epoch</td><td>█▇▆▆▅▂▂▂▂▂▁▃▂▂▂▂▁▁▂▂▂▁▁▂▁▂▁▁▁▂▂▂▂▁▂▂▂▂▂▂</td></tr><tr><td>train_loss_step</td><td>███▆█▆▄▅▄▄▄▄▂▄▃▄▁▄▅▆▂▂▃▃▁▂▂▂▄▄▆▂▂▇▄▄▄▃▂▅</td></tr><tr><td>trainer/global_step</td><td>▁▁▁▂▂▁▂▂▂▃▂▃▃▂▂▄▄▄▂▂▅▅▂▅▂▆▆▂▆▆▃▃▃▇▇▃▃██▃</td></tr><tr><td>val_acc</td><td>▁▁▁▁▃█▇▇▇▇██▆▆▇▇▇███▇▇▇▇█▇▇▇▇▇▇█▇▇▇▇▇▇▆▇</td></tr><tr><td>val_auc</td><td>▁▇██████████████████████████████████████</td></tr><tr><td>val_f1</td><td>▁▁▁▁▃█▇▇▇▇█▆▇█▇▇▇▇█▇█▇▇▇▇▇▇▇▇▇▇▇▇▇▇▇▇█▇█</td></tr><tr><td>val_loss_epoch</td><td>▇█▇▇▄▃▃▂▁▂▁▂▂▄▂▂▁▁▂▁▃▁▁▂▂▂▂▂▁▂▂▂▂▁▂▂▂▃▂▂</td></tr><tr><td>val_loss_step</td><td>██▆▇▅▂▅▃▄▃▄▃▂▅▂▂▂▂▂▂▂▄▃▁▃▂▃▂▁▅▃▂▄▃▃▆▃▁▃▃</td></tr></table><br/></div><div class=\"wandb-col\"><h3>Run summary:</h3><br/><table class=\"wandb\"><tr><td>epoch</td><td>64</td></tr><tr><td>lr-Adam</td><td>0.005</td></tr><tr><td>train_acc</td><td>0.71787</td></tr><tr><td>train_auc</td><td>0.7836</td></tr><tr><td>train_f1</td><td>0.54887</td></tr><tr><td>train_loss_epoch</td><td>0.54081</td></tr><tr><td>train_loss_step</td><td>0.58876</td></tr><tr><td>trainer/global_step</td><td>649</td></tr><tr><td>val_acc</td><td>0.75235</td></tr><tr><td>val_auc</td><td>0.83211</td></tr><tr><td>val_f1</td><td>0.65198</td></tr><tr><td>val_loss_epoch</td><td>0.50943</td></tr><tr><td>val_loss_step</td><td>0.54364</td></tr></table><br/></div></div>"
      ],
      "text/plain": [
       "<IPython.core.display.HTML object>"
      ]
     },
     "metadata": {},
     "output_type": "display_data"
    },
    {
     "data": {
      "text/html": [
       " View run <strong style=\"color:#cdcd00\">MLP_3_32_onehot_0</strong> at: <a href='https://wandb.ai/thoomas/PLA_01122024_5PPI_3D_Kfold/runs/d8qp247d' target=\"_blank\">https://wandb.ai/thoomas/PLA_01122024_5PPI_3D_Kfold/runs/d8qp247d</a><br/>Synced 6 W&B file(s), 0 media file(s), 0 artifact file(s) and 0 other file(s)"
      ],
      "text/plain": [
       "<IPython.core.display.HTML object>"
      ]
     },
     "metadata": {},
     "output_type": "display_data"
    },
    {
     "data": {
      "text/html": [
       "Find logs at: <code>.\\wandb\\run-20240115_232134-d8qp247d\\logs</code>"
      ],
      "text/plain": [
       "<IPython.core.display.HTML object>"
      ]
     },
     "metadata": {},
     "output_type": "display_data"
    },
    {
     "data": {
      "text/html": [
       "wandb version 0.16.2 is available!  To upgrade, please run:\n",
       " $ pip install wandb --upgrade"
      ],
      "text/plain": [
       "<IPython.core.display.HTML object>"
      ]
     },
     "metadata": {},
     "output_type": "display_data"
    },
    {
     "data": {
      "text/html": [
       "Tracking run with wandb version 0.15.8"
      ],
      "text/plain": [
       "<IPython.core.display.HTML object>"
      ]
     },
     "metadata": {},
     "output_type": "display_data"
    },
    {
     "data": {
      "text/html": [
       "Run data is saved locally in <code>y:\\coskun-lab\\Thomas\\23_PLA_revision\\notebooks\\wandb\\run-20240115_233401-g9iqp9wt</code>"
      ],
      "text/plain": [
       "<IPython.core.display.HTML object>"
      ]
     },
     "metadata": {},
     "output_type": "display_data"
    },
    {
     "data": {
      "text/html": [
       "Syncing run <strong><a href='https://wandb.ai/thoomas/PLA_01122024_5PPI_3D_Kfold/runs/g9iqp9wt' target=\"_blank\">GraphConv_3_32_onehot_0</a></strong> to <a href='https://wandb.ai/thoomas/PLA_01122024_5PPI_3D_Kfold' target=\"_blank\">Weights & Biases</a> (<a href='https://wandb.me/run' target=\"_blank\">docs</a>)<br/>"
      ],
      "text/plain": [
       "<IPython.core.display.HTML object>"
      ]
     },
     "metadata": {},
     "output_type": "display_data"
    },
    {
     "data": {
      "text/html": [
       " View project at <a href='https://wandb.ai/thoomas/PLA_01122024_5PPI_3D_Kfold' target=\"_blank\">https://wandb.ai/thoomas/PLA_01122024_5PPI_3D_Kfold</a>"
      ],
      "text/plain": [
       "<IPython.core.display.HTML object>"
      ]
     },
     "metadata": {},
     "output_type": "display_data"
    },
    {
     "data": {
      "text/html": [
       " View run at <a href='https://wandb.ai/thoomas/PLA_01122024_5PPI_3D_Kfold/runs/g9iqp9wt' target=\"_blank\">https://wandb.ai/thoomas/PLA_01122024_5PPI_3D_Kfold/runs/g9iqp9wt</a>"
      ],
      "text/plain": [
       "<IPython.core.display.HTML object>"
      ]
     },
     "metadata": {},
     "output_type": "display_data"
    },
    {
     "name": "stderr",
     "output_type": "stream",
     "text": [
      "Global seed set to 42\n",
      "GPU available: True (cuda), used: True\n",
      "TPU available: False, using: 0 TPU cores\n",
      "IPU available: False, using: 0 IPUs\n",
      "HPU available: False, using: 0 HPUs\n",
      "Global seed set to 42\n",
      "c:\\Users\\thu71\\AppData\\Local\\anaconda3\\envs\\scanpy\\Lib\\site-packages\\lightning\\pytorch\\callbacks\\model_checkpoint.py:617: UserWarning: Checkpoint directory \\\\bme-retromaster.ad.gatech.edu\\labs5\\coskun-lab\\Thomas\\23_PLA_revision\\data\\OCT Cell Culture\\3D_Whole\\saved_models\\5PPI_3D\\Graph_GNNs_Kfold\\GraphConv_3_32_onehot_0\\attention2\\GraphLevelGraphConv exists and is not empty.\n",
      "  rank_zero_warn(f\"Checkpoint directory {dirpath} exists and is not empty.\")\n",
      "LOCAL_RANK: 0 - CUDA_VISIBLE_DEVICES: [0]\n",
      "\n",
      "   | Name        | Type             | Params\n",
      "--------------------------------------------------\n",
      "0  | x_embedding | Identity         | 0     \n",
      "1  | model       | GNNModel         | 4.6 K \n",
      "2  | head        | Sequential       | 562   \n",
      "3  | loss_module | CrossEntropyLoss | 0     \n",
      "4  | train_acc   | BinaryAccuracy   | 0     \n",
      "5  | train_auroc | BinaryAUROC      | 0     \n",
      "6  | train_f1    | BinaryF1Score    | 0     \n",
      "7  | valid_acc   | BinaryAccuracy   | 0     \n",
      "8  | valid_auroc | BinaryAUROC      | 0     \n",
      "9  | valid_f1    | BinaryF1Score    | 0     \n",
      "10 | pool        | Attention_module | 1.1 K \n",
      "--------------------------------------------------\n",
      "6.3 K     Trainable params\n",
      "0         Non-trainable params\n",
      "6.3 K     Total params\n",
      "0.025     Total estimated model params size (MB)\n"
     ]
    },
    {
     "name": "stdout",
     "output_type": "stream",
     "text": [
      "Using GNN\n"
     ]
    },
    {
     "name": "stderr",
     "output_type": "stream",
     "text": [
      "`Trainer.fit` stopped: `max_epochs=65` reached.\n"
     ]
    },
    {
     "data": {
      "text/html": [
       "Waiting for W&B process to finish... <strong style=\"color:green\">(success).</strong>"
      ],
      "text/plain": [
       "<IPython.core.display.HTML object>"
      ]
     },
     "metadata": {},
     "output_type": "display_data"
    },
    {
     "data": {
      "text/html": [
       "<style>\n",
       "    table.wandb td:nth-child(1) { padding: 0 10px; text-align: left ; width: auto;} td:nth-child(2) {text-align: left ; width: 100%}\n",
       "    .wandb-row { display: flex; flex-direction: row; flex-wrap: wrap; justify-content: flex-start; width: 100% }\n",
       "    .wandb-col { display: flex; flex-direction: column; flex-basis: 100%; flex: 1; padding: 10px; }\n",
       "    </style>\n",
       "<div class=\"wandb-row\"><div class=\"wandb-col\"><h3>Run history:</h3><br/><table class=\"wandb\"><tr><td>epoch</td><td>▁▁▁▂▂▂▂▂▂▃▃▃▃▃▄▄▄▄▄▄▅▅▅▅▅▅▆▆▆▆▆▇▇▇▇▇▇███</td></tr><tr><td>lr-Adam</td><td>▁▁▁▁▁▁▁▁▁▁▁▁▁▁▁▁▁▁▁▁▁▁▁▁▁▁▁▁▁▁▁▁▁▁▁▁▁▁▁▁</td></tr><tr><td>train_acc</td><td>▁▃▆▆▆▇▇▆▇▇▇▇▇▇▇▇▇▇▇▇▇▇▇▇▇██▇▇▇█▇█▇▇▇██▇█</td></tr><tr><td>train_auc</td><td>▁▅▆▆▆▇▇▇▇▇▇▇▇▇██▇▇▇▇▇██████▇▇███████████</td></tr><tr><td>train_f1</td><td>▁▃▇▆▆▇▇▆▇█▇▇▇▇▇▇▇▇▇▇▇██▇███▇▇▇█▇██▇█████</td></tr><tr><td>train_loss_epoch</td><td>█▆▄▄▄▃▃▃▃▂▃▂▃▂▂▂▂▂▂▂▂▂▂▂▂▁▁▂▂▂▁▂▁▂▂▂▂▁▂▂</td></tr><tr><td>train_loss_step</td><td>█▇▅▅▄▅▅▆▃▃▅▄▅▃▅▅█▄▄▄▄▂▃▃▄▂▂▃▄▅▁▅▃▃▃▅▄▃▄▅</td></tr><tr><td>trainer/global_step</td><td>▁▁▁▂▂▁▂▂▂▃▂▃▃▂▂▄▄▄▂▂▅▅▂▅▂▆▆▂▆▆▃▃▃▇▇▃▃██▃</td></tr><tr><td>val_acc</td><td>▂▁▅▆▆▆▇▅▇▇▇▆▆▇▇▇▇▆▅▆▆▇█▆▇▇▆▆▅▇▆▆▇▇▇█▆▇█▆</td></tr><tr><td>val_auc</td><td>▁▄▆▇▇▇▇▇█▇▇██▇██▇▇█▇██▇▇██▇█▇██████▇▇▇▇▇</td></tr><tr><td>val_f1</td><td>▁▇▇▇▇▇▇▇█▇▇███▇▇▆▇▇▇▇▇▇▇▇▇▇▇▇▇█▇███▇▇▇▇▇</td></tr><tr><td>val_loss_epoch</td><td>█▇▄▄▃▃▁▄▃▁▂▃▃▃▂▁▂▂▃▂▃▁▂▂▁▁▄▃▄▂▃▂▂▁▂▁▁▁▃▁</td></tr><tr><td>val_loss_step</td><td>█▆▅▅▅▃▂▄▄▃▄▄▂▄▂▃▄▃▂▃▇▃▄▄▃▄▃▅▄▅▆▄▁▃▅▄▄▄▂▂</td></tr></table><br/></div><div class=\"wandb-col\"><h3>Run summary:</h3><br/><table class=\"wandb\"><tr><td>epoch</td><td>64</td></tr><tr><td>lr-Adam</td><td>0.005</td></tr><tr><td>train_acc</td><td>0.81818</td></tr><tr><td>train_auc</td><td>0.8801</td></tr><tr><td>train_f1</td><td>0.74165</td></tr><tr><td>train_loss_epoch</td><td>0.41903</td></tr><tr><td>train_loss_step</td><td>0.47806</td></tr><tr><td>trainer/global_step</td><td>649</td></tr><tr><td>val_acc</td><td>0.77429</td></tr><tr><td>val_auc</td><td>0.8709</td></tr><tr><td>val_f1</td><td>0.69748</td></tr><tr><td>val_loss_epoch</td><td>0.41314</td></tr><tr><td>val_loss_step</td><td>0.30517</td></tr></table><br/></div></div>"
      ],
      "text/plain": [
       "<IPython.core.display.HTML object>"
      ]
     },
     "metadata": {},
     "output_type": "display_data"
    },
    {
     "data": {
      "text/html": [
       " View run <strong style=\"color:#cdcd00\">GraphConv_3_32_onehot_0</strong> at: <a href='https://wandb.ai/thoomas/PLA_01122024_5PPI_3D_Kfold/runs/g9iqp9wt' target=\"_blank\">https://wandb.ai/thoomas/PLA_01122024_5PPI_3D_Kfold/runs/g9iqp9wt</a><br/>Synced 6 W&B file(s), 0 media file(s), 0 artifact file(s) and 0 other file(s)"
      ],
      "text/plain": [
       "<IPython.core.display.HTML object>"
      ]
     },
     "metadata": {},
     "output_type": "display_data"
    },
    {
     "data": {
      "text/html": [
       "Find logs at: <code>.\\wandb\\run-20240115_233401-g9iqp9wt\\logs</code>"
      ],
      "text/plain": [
       "<IPython.core.display.HTML object>"
      ]
     },
     "metadata": {},
     "output_type": "display_data"
    },
    {
     "data": {
      "application/vnd.jupyter.widget-view+json": {
       "model_id": "5171546128894c98b83515cc51a8492f",
       "version_major": 2,
       "version_minor": 0
      },
      "text/plain": [
       "VBox(children=(Label(value='Waiting for wandb.init()...\\r'), FloatProgress(value=0.016666666666666666, max=1.0…"
      ]
     },
     "metadata": {},
     "output_type": "display_data"
    },
    {
     "data": {
      "text/html": [
       "wandb version 0.16.2 is available!  To upgrade, please run:\n",
       " $ pip install wandb --upgrade"
      ],
      "text/plain": [
       "<IPython.core.display.HTML object>"
      ]
     },
     "metadata": {},
     "output_type": "display_data"
    },
    {
     "data": {
      "text/html": [
       "Tracking run with wandb version 0.15.8"
      ],
      "text/plain": [
       "<IPython.core.display.HTML object>"
      ]
     },
     "metadata": {},
     "output_type": "display_data"
    },
    {
     "data": {
      "text/html": [
       "Run data is saved locally in <code>y:\\coskun-lab\\Thomas\\23_PLA_revision\\notebooks\\wandb\\run-20240115_234731-iuz9qcoi</code>"
      ],
      "text/plain": [
       "<IPython.core.display.HTML object>"
      ]
     },
     "metadata": {},
     "output_type": "display_data"
    },
    {
     "data": {
      "text/html": [
       "Syncing run <strong><a href='https://wandb.ai/thoomas/PLA_01122024_5PPI_3D_Kfold/runs/iuz9qcoi' target=\"_blank\">GCN_2_64_onehot_0</a></strong> to <a href='https://wandb.ai/thoomas/PLA_01122024_5PPI_3D_Kfold' target=\"_blank\">Weights & Biases</a> (<a href='https://wandb.me/run' target=\"_blank\">docs</a>)<br/>"
      ],
      "text/plain": [
       "<IPython.core.display.HTML object>"
      ]
     },
     "metadata": {},
     "output_type": "display_data"
    },
    {
     "data": {
      "text/html": [
       " View project at <a href='https://wandb.ai/thoomas/PLA_01122024_5PPI_3D_Kfold' target=\"_blank\">https://wandb.ai/thoomas/PLA_01122024_5PPI_3D_Kfold</a>"
      ],
      "text/plain": [
       "<IPython.core.display.HTML object>"
      ]
     },
     "metadata": {},
     "output_type": "display_data"
    },
    {
     "data": {
      "text/html": [
       " View run at <a href='https://wandb.ai/thoomas/PLA_01122024_5PPI_3D_Kfold/runs/iuz9qcoi' target=\"_blank\">https://wandb.ai/thoomas/PLA_01122024_5PPI_3D_Kfold/runs/iuz9qcoi</a>"
      ],
      "text/plain": [
       "<IPython.core.display.HTML object>"
      ]
     },
     "metadata": {},
     "output_type": "display_data"
    },
    {
     "name": "stderr",
     "output_type": "stream",
     "text": [
      "Global seed set to 42\n",
      "GPU available: True (cuda), used: True\n",
      "TPU available: False, using: 0 TPU cores\n",
      "IPU available: False, using: 0 IPUs\n",
      "HPU available: False, using: 0 HPUs\n",
      "Global seed set to 42\n",
      "c:\\Users\\thu71\\AppData\\Local\\anaconda3\\envs\\scanpy\\Lib\\site-packages\\lightning\\pytorch\\callbacks\\model_checkpoint.py:617: UserWarning: Checkpoint directory \\\\bme-retromaster.ad.gatech.edu\\labs5\\coskun-lab\\Thomas\\23_PLA_revision\\data\\OCT Cell Culture\\3D_Whole\\saved_models\\5PPI_3D\\Graph_GNNs_Kfold\\GCN_2_64_onehot_0\\attention2\\GraphLevelGCN exists and is not empty.\n",
      "  rank_zero_warn(f\"Checkpoint directory {dirpath} exists and is not empty.\")\n",
      "LOCAL_RANK: 0 - CUDA_VISIBLE_DEVICES: [0]\n",
      "\n",
      "   | Name        | Type             | Params\n",
      "--------------------------------------------------\n",
      "0  | x_embedding | Identity         | 0     \n",
      "1  | model       | GNNModel         | 4.7 K \n",
      "2  | head        | Sequential       | 2.1 K \n",
      "3  | loss_module | CrossEntropyLoss | 0     \n",
      "4  | train_acc   | BinaryAccuracy   | 0     \n",
      "5  | train_auroc | BinaryAUROC      | 0     \n",
      "6  | train_f1    | BinaryF1Score    | 0     \n",
      "7  | valid_acc   | BinaryAccuracy   | 0     \n",
      "8  | valid_auroc | BinaryAUROC      | 0     \n",
      "9  | valid_f1    | BinaryF1Score    | 0     \n",
      "10 | pool        | Attention_module | 4.2 K \n",
      "--------------------------------------------------\n",
      "11.0 K    Trainable params\n",
      "0         Non-trainable params\n",
      "11.0 K    Total params\n",
      "0.044     Total estimated model params size (MB)\n"
     ]
    },
    {
     "name": "stdout",
     "output_type": "stream",
     "text": [
      "Using GNN\n"
     ]
    },
    {
     "name": "stderr",
     "output_type": "stream",
     "text": [
      "`Trainer.fit` stopped: `max_epochs=65` reached.\n"
     ]
    },
    {
     "data": {
      "text/html": [
       "Waiting for W&B process to finish... <strong style=\"color:green\">(success).</strong>"
      ],
      "text/plain": [
       "<IPython.core.display.HTML object>"
      ]
     },
     "metadata": {},
     "output_type": "display_data"
    },
    {
     "data": {
      "text/html": [
       "<style>\n",
       "    table.wandb td:nth-child(1) { padding: 0 10px; text-align: left ; width: auto;} td:nth-child(2) {text-align: left ; width: 100%}\n",
       "    .wandb-row { display: flex; flex-direction: row; flex-wrap: wrap; justify-content: flex-start; width: 100% }\n",
       "    .wandb-col { display: flex; flex-direction: column; flex-basis: 100%; flex: 1; padding: 10px; }\n",
       "    </style>\n",
       "<div class=\"wandb-row\"><div class=\"wandb-col\"><h3>Run history:</h3><br/><table class=\"wandb\"><tr><td>epoch</td><td>▁▁▁▂▂▂▂▂▂▃▃▃▃▃▄▄▄▄▄▄▅▅▅▅▅▅▆▆▆▆▆▇▇▇▇▇▇███</td></tr><tr><td>lr-Adam</td><td>▁▁▁▁▁▁▁▁▁▁▁▁▁▁▁▁▁▁▁▁▁▁▁▁▁▁▁▁▁▁▁▁▁▁▁▁▁▁▁▁</td></tr><tr><td>train_acc</td><td>▁▅▇▇▇▇█▇▇▇▇█▇█▇▇▇▇▇▇▇▇▇▇███▇▇▇▇█████▇▇█▇</td></tr><tr><td>train_auc</td><td>▁▆▇▇▇▇▇█▇▇▇███▇██▇███▇█▇█▇█▇▇▇██████████</td></tr><tr><td>train_f1</td><td>▁▅▇▇▇▇▇▇▇▇▆█▇▇▇▇▇▇▇▇▇▇▇▇▇██▇▇▇▇██▇██▇██▇</td></tr><tr><td>train_loss_epoch</td><td>█▄▂▃▂▂▂▂▂▂▃▁▂▁▂▂▂▂▂▂▁▂▁▂▁▂▁▂▂▂▁▂▂▁▁▂▂▂▁▁</td></tr><tr><td>train_loss_step</td><td>█▄▅▄▅█▇▄▃▃▅▄▄▆▇▄▆▁▆▅▅▅▄▄▅▃▂▆▅▅▁▅▄▁▄▂▅▄▃▄</td></tr><tr><td>trainer/global_step</td><td>▁▁▁▂▂▁▂▂▂▃▂▃▃▂▂▄▄▄▂▂▅▅▂▅▂▆▆▂▆▆▃▃▃▇▇▃▃██▃</td></tr><tr><td>val_acc</td><td>▁▂▄▅▇▇▄▂▅█▅▄▆▄▆▅▅▆▆▅▄▅▄▃▄▆▅▅▄▆█▆█▇▅▅▇▅▅▅</td></tr><tr><td>val_auc</td><td>▁▄▅▆█▇▇▇▇▇▆██▇▇██▇▇███▇▆▇▇▇█▇▇█▇▇█▇▇▇▇▇▇</td></tr><tr><td>val_f1</td><td>▁▇▅▅██▇▆▆▆▇▇▇▇▇█▇▅▅█▇▇█▅▇▇▆▇▆▇█▇▇▇▆▅▇▇▅▇</td></tr><tr><td>val_loss_epoch</td><td>█▇▃▂▁▂▂▃▂▂▂▂▂▂▁▃▂▂▂▂▃▁▃▁▂▁▁▂▂▂▂▁▂▂▁▂▂▁▁▂</td></tr><tr><td>val_loss_step</td><td>█▇▅▄▄▃▃▅▂▄▃▃▃▁▃▄▄▃▄▄▁▄▄▂▄▃▃▄▄▃▄▂▄▂▂▄▄▃▃▄</td></tr></table><br/></div><div class=\"wandb-col\"><h3>Run summary:</h3><br/><table class=\"wandb\"><tr><td>epoch</td><td>64</td></tr><tr><td>lr-Adam</td><td>0.005</td></tr><tr><td>train_acc</td><td>0.79702</td></tr><tr><td>train_auc</td><td>0.86805</td></tr><tr><td>train_f1</td><td>0.704</td></tr><tr><td>train_loss_epoch</td><td>0.45001</td></tr><tr><td>train_loss_step</td><td>0.44459</td></tr><tr><td>trainer/global_step</td><td>649</td></tr><tr><td>val_acc</td><td>0.79624</td></tr><tr><td>val_auc</td><td>0.86968</td></tr><tr><td>val_f1</td><td>0.72574</td></tr><tr><td>val_loss_epoch</td><td>0.4506</td></tr><tr><td>val_loss_step</td><td>0.48228</td></tr></table><br/></div></div>"
      ],
      "text/plain": [
       "<IPython.core.display.HTML object>"
      ]
     },
     "metadata": {},
     "output_type": "display_data"
    },
    {
     "data": {
      "text/html": [
       " View run <strong style=\"color:#cdcd00\">GCN_2_64_onehot_0</strong> at: <a href='https://wandb.ai/thoomas/PLA_01122024_5PPI_3D_Kfold/runs/iuz9qcoi' target=\"_blank\">https://wandb.ai/thoomas/PLA_01122024_5PPI_3D_Kfold/runs/iuz9qcoi</a><br/>Synced 6 W&B file(s), 0 media file(s), 0 artifact file(s) and 0 other file(s)"
      ],
      "text/plain": [
       "<IPython.core.display.HTML object>"
      ]
     },
     "metadata": {},
     "output_type": "display_data"
    },
    {
     "data": {
      "text/html": [
       "Find logs at: <code>.\\wandb\\run-20240115_234731-iuz9qcoi\\logs</code>"
      ],
      "text/plain": [
       "<IPython.core.display.HTML object>"
      ]
     },
     "metadata": {},
     "output_type": "display_data"
    },
    {
     "data": {
      "application/vnd.jupyter.widget-view+json": {
       "model_id": "e7801a2b5994429fbf5625cf3f1c8c35",
       "version_major": 2,
       "version_minor": 0
      },
      "text/plain": [
       "VBox(children=(Label(value='Waiting for wandb.init()...\\r'), FloatProgress(value=0.01691666666107873, max=1.0)…"
      ]
     },
     "metadata": {},
     "output_type": "display_data"
    },
    {
     "data": {
      "text/html": [
       "wandb version 0.16.2 is available!  To upgrade, please run:\n",
       " $ pip install wandb --upgrade"
      ],
      "text/plain": [
       "<IPython.core.display.HTML object>"
      ]
     },
     "metadata": {},
     "output_type": "display_data"
    },
    {
     "data": {
      "text/html": [
       "Tracking run with wandb version 0.15.8"
      ],
      "text/plain": [
       "<IPython.core.display.HTML object>"
      ]
     },
     "metadata": {},
     "output_type": "display_data"
    },
    {
     "data": {
      "text/html": [
       "Run data is saved locally in <code>y:\\coskun-lab\\Thomas\\23_PLA_revision\\notebooks\\wandb\\run-20240115_235959-0xca2g9l</code>"
      ],
      "text/plain": [
       "<IPython.core.display.HTML object>"
      ]
     },
     "metadata": {},
     "output_type": "display_data"
    },
    {
     "data": {
      "text/html": [
       "Syncing run <strong><a href='https://wandb.ai/thoomas/PLA_01122024_5PPI_3D_Kfold/runs/0xca2g9l' target=\"_blank\">GAT_norm_3_64_onehot_0</a></strong> to <a href='https://wandb.ai/thoomas/PLA_01122024_5PPI_3D_Kfold' target=\"_blank\">Weights & Biases</a> (<a href='https://wandb.me/run' target=\"_blank\">docs</a>)<br/>"
      ],
      "text/plain": [
       "<IPython.core.display.HTML object>"
      ]
     },
     "metadata": {},
     "output_type": "display_data"
    },
    {
     "data": {
      "text/html": [
       " View project at <a href='https://wandb.ai/thoomas/PLA_01122024_5PPI_3D_Kfold' target=\"_blank\">https://wandb.ai/thoomas/PLA_01122024_5PPI_3D_Kfold</a>"
      ],
      "text/plain": [
       "<IPython.core.display.HTML object>"
      ]
     },
     "metadata": {},
     "output_type": "display_data"
    },
    {
     "data": {
      "text/html": [
       " View run at <a href='https://wandb.ai/thoomas/PLA_01122024_5PPI_3D_Kfold/runs/0xca2g9l' target=\"_blank\">https://wandb.ai/thoomas/PLA_01122024_5PPI_3D_Kfold/runs/0xca2g9l</a>"
      ],
      "text/plain": [
       "<IPython.core.display.HTML object>"
      ]
     },
     "metadata": {},
     "output_type": "display_data"
    },
    {
     "name": "stderr",
     "output_type": "stream",
     "text": [
      "Global seed set to 42\n",
      "GPU available: True (cuda), used: True\n",
      "TPU available: False, using: 0 TPU cores\n",
      "IPU available: False, using: 0 IPUs\n",
      "HPU available: False, using: 0 HPUs\n",
      "Global seed set to 42\n",
      "c:\\Users\\thu71\\AppData\\Local\\anaconda3\\envs\\scanpy\\Lib\\site-packages\\torch_geometric\\deprecation.py:22: UserWarning: 'nn.glob.GlobalAttention' is deprecated, use 'nn.aggr.AttentionalAggregation' instead\n",
      "  warnings.warn(out)\n",
      "c:\\Users\\thu71\\AppData\\Local\\anaconda3\\envs\\scanpy\\Lib\\site-packages\\lightning\\pytorch\\callbacks\\model_checkpoint.py:617: UserWarning: Checkpoint directory \\\\bme-retromaster.ad.gatech.edu\\labs5\\coskun-lab\\Thomas\\23_PLA_revision\\data\\OCT Cell Culture\\3D_Whole\\saved_models\\5PPI_3D\\Graph_GNNs_Kfold\\GAT_norm_3_64_onehot_0\\attention\\GraphLevelGAT_norm exists and is not empty.\n",
      "  rank_zero_warn(f\"Checkpoint directory {dirpath} exists and is not empty.\")\n",
      "LOCAL_RANK: 0 - CUDA_VISIBLE_DEVICES: [0]\n",
      "\n",
      "   | Name        | Type             | Params\n",
      "--------------------------------------------------\n",
      "0  | x_embedding | Identity         | 0     \n",
      "1  | model       | GAT              | 78.0 K\n",
      "2  | head        | Sequential       | 2.1 K \n",
      "3  | loss_module | CrossEntropyLoss | 0     \n",
      "4  | train_acc   | BinaryAccuracy   | 0     \n",
      "5  | train_auroc | BinaryAUROC      | 0     \n",
      "6  | train_f1    | BinaryF1Score    | 0     \n",
      "7  | valid_acc   | BinaryAccuracy   | 0     \n",
      "8  | valid_auroc | BinaryAUROC      | 0     \n",
      "9  | valid_f1    | BinaryF1Score    | 0     \n",
      "10 | pool        | GlobalAttention  | 65    \n",
      "--------------------------------------------------\n",
      "80.2 K    Trainable params\n",
      "0         Non-trainable params\n",
      "80.2 K    Total params\n",
      "0.321     Total estimated model params size (MB)\n"
     ]
    },
    {
     "name": "stdout",
     "output_type": "stream",
     "text": [
      "Using GAT\n"
     ]
    },
    {
     "name": "stderr",
     "output_type": "stream",
     "text": [
      "`Trainer.fit` stopped: `max_epochs=65` reached.\n"
     ]
    },
    {
     "data": {
      "text/html": [
       "Waiting for W&B process to finish... <strong style=\"color:green\">(success).</strong>"
      ],
      "text/plain": [
       "<IPython.core.display.HTML object>"
      ]
     },
     "metadata": {},
     "output_type": "display_data"
    },
    {
     "data": {
      "text/html": [
       "<style>\n",
       "    table.wandb td:nth-child(1) { padding: 0 10px; text-align: left ; width: auto;} td:nth-child(2) {text-align: left ; width: 100%}\n",
       "    .wandb-row { display: flex; flex-direction: row; flex-wrap: wrap; justify-content: flex-start; width: 100% }\n",
       "    .wandb-col { display: flex; flex-direction: column; flex-basis: 100%; flex: 1; padding: 10px; }\n",
       "    </style>\n",
       "<div class=\"wandb-row\"><div class=\"wandb-col\"><h3>Run history:</h3><br/><table class=\"wandb\"><tr><td>epoch</td><td>▁▁▁▂▂▂▂▂▂▃▃▃▃▃▄▄▄▄▄▄▅▅▅▅▅▅▆▆▆▆▆▇▇▇▇▇▇███</td></tr><tr><td>lr-Adam</td><td>▁▁▁▁▁▁▁▁▁▁▁▁▁▁▁▁▁▁▁▁▁▁▁▁▁▁▁▁▁▁▁▁▁▁▁▁▁▁▁▁</td></tr><tr><td>train_acc</td><td>▁▅▆▆▆▇▆▆▇▇▇▇▆▆▇▇██▇███▇▇▇██▇▇▇▇▇▇██▇█▇▇█</td></tr><tr><td>train_auc</td><td>▁▆▆▇▇▇▇▇▇▇▇█▇▇▇▇█████████████████████▇██</td></tr><tr><td>train_f1</td><td>▁▇▇▇▇█▇▇████▇▇█▇████████▇████▇▇█▇███████</td></tr><tr><td>train_loss_epoch</td><td>█▆▄▃▃▃▃▃▂▂▂▂▂▃▂▂▂▂▂▂▁▂▂▂▂▁▁▂▁▂▂▁▁▁▁▁▁▂▂▂</td></tr><tr><td>train_loss_step</td><td>▇▅▄▅▅▄▆▆▃▄▄▂▄▄▂▄▄▂▁▃▃▇▆▃▂▃▄▆▅▅▅▂▃▅▂▂▂█▅▃</td></tr><tr><td>trainer/global_step</td><td>▁▁▁▂▂▁▂▂▂▃▂▃▃▂▂▄▄▄▂▂▅▅▂▅▂▆▆▂▆▆▃▃▃▇▇▃▃██▃</td></tr><tr><td>val_acc</td><td>▄▄▇▆▇▆▃▆▅█▅▁█▇█▇▇▅█▇▆▃▆██▃▆▆█▄▆▆▇▅▆▆▆▇▇▅</td></tr><tr><td>val_auc</td><td>▁▄▅▆▆▆▄▅▆▇▇▅▇▇▇▇▇▆▇▇▇▆██▇▅▇██▅▇▆▇▇▇▇▆▆▆▅</td></tr><tr><td>val_f1</td><td>▁▂▇██▇▇█▇██▇█████▇███▇███▇███▇▇██▇█████▇</td></tr><tr><td>val_loss_epoch</td><td>▅▄▂▂▂▃▅▃▄▁▃█▁▁▁▂▂▃▁▂▂▆▂▁▂▆▅▂▂▇▃▂▂▆▃▃▃▂▁▄</td></tr><tr><td>val_loss_step</td><td>▆▆▃▄▄▃▅▆▃▇▄▇▁▂▅▄▃▄▃▃██▃▄▄▇▃▅▄█▄▄▅▅▂▄▄▅▄▆</td></tr></table><br/></div><div class=\"wandb-col\"><h3>Run summary:</h3><br/><table class=\"wandb\"><tr><td>epoch</td><td>64</td></tr><tr><td>lr-Adam</td><td>0.005</td></tr><tr><td>train_acc</td><td>0.76332</td></tr><tr><td>train_auc</td><td>0.82915</td></tr><tr><td>train_f1</td><td>0.67031</td></tr><tr><td>train_loss_epoch</td><td>0.49701</td></tr><tr><td>train_loss_step</td><td>0.4587</td></tr><tr><td>trainer/global_step</td><td>649</td></tr><tr><td>val_acc</td><td>0.68966</td></tr><tr><td>val_auc</td><td>0.80537</td></tr><tr><td>val_f1</td><td>0.65505</td></tr><tr><td>val_loss_epoch</td><td>0.62001</td></tr><tr><td>val_loss_step</td><td>0.56722</td></tr></table><br/></div></div>"
      ],
      "text/plain": [
       "<IPython.core.display.HTML object>"
      ]
     },
     "metadata": {},
     "output_type": "display_data"
    },
    {
     "data": {
      "text/html": [
       " View run <strong style=\"color:#cdcd00\">GAT_norm_3_64_onehot_0</strong> at: <a href='https://wandb.ai/thoomas/PLA_01122024_5PPI_3D_Kfold/runs/0xca2g9l' target=\"_blank\">https://wandb.ai/thoomas/PLA_01122024_5PPI_3D_Kfold/runs/0xca2g9l</a><br/>Synced 6 W&B file(s), 0 media file(s), 0 artifact file(s) and 0 other file(s)"
      ],
      "text/plain": [
       "<IPython.core.display.HTML object>"
      ]
     },
     "metadata": {},
     "output_type": "display_data"
    },
    {
     "data": {
      "text/html": [
       "Find logs at: <code>.\\wandb\\run-20240115_235959-0xca2g9l\\logs</code>"
      ],
      "text/plain": [
       "<IPython.core.display.HTML object>"
      ]
     },
     "metadata": {},
     "output_type": "display_data"
    },
    {
     "data": {
      "text/html": [
       "wandb version 0.16.2 is available!  To upgrade, please run:\n",
       " $ pip install wandb --upgrade"
      ],
      "text/plain": [
       "<IPython.core.display.HTML object>"
      ]
     },
     "metadata": {},
     "output_type": "display_data"
    },
    {
     "data": {
      "text/html": [
       "Tracking run with wandb version 0.15.8"
      ],
      "text/plain": [
       "<IPython.core.display.HTML object>"
      ]
     },
     "metadata": {},
     "output_type": "display_data"
    },
    {
     "data": {
      "text/html": [
       "Run data is saved locally in <code>y:\\coskun-lab\\Thomas\\23_PLA_revision\\notebooks\\wandb\\run-20240116_001400-dwho55ai</code>"
      ],
      "text/plain": [
       "<IPython.core.display.HTML object>"
      ]
     },
     "metadata": {},
     "output_type": "display_data"
    },
    {
     "data": {
      "text/html": [
       "Syncing run <strong><a href='https://wandb.ai/thoomas/PLA_01122024_5PPI_3D_Kfold/runs/dwho55ai' target=\"_blank\">GINConv_norm_2_16_onehot_0</a></strong> to <a href='https://wandb.ai/thoomas/PLA_01122024_5PPI_3D_Kfold' target=\"_blank\">Weights & Biases</a> (<a href='https://wandb.me/run' target=\"_blank\">docs</a>)<br/>"
      ],
      "text/plain": [
       "<IPython.core.display.HTML object>"
      ]
     },
     "metadata": {},
     "output_type": "display_data"
    },
    {
     "data": {
      "text/html": [
       " View project at <a href='https://wandb.ai/thoomas/PLA_01122024_5PPI_3D_Kfold' target=\"_blank\">https://wandb.ai/thoomas/PLA_01122024_5PPI_3D_Kfold</a>"
      ],
      "text/plain": [
       "<IPython.core.display.HTML object>"
      ]
     },
     "metadata": {},
     "output_type": "display_data"
    },
    {
     "data": {
      "text/html": [
       " View run at <a href='https://wandb.ai/thoomas/PLA_01122024_5PPI_3D_Kfold/runs/dwho55ai' target=\"_blank\">https://wandb.ai/thoomas/PLA_01122024_5PPI_3D_Kfold/runs/dwho55ai</a>"
      ],
      "text/plain": [
       "<IPython.core.display.HTML object>"
      ]
     },
     "metadata": {},
     "output_type": "display_data"
    },
    {
     "name": "stderr",
     "output_type": "stream",
     "text": [
      "Global seed set to 42\n",
      "GPU available: True (cuda), used: True\n",
      "TPU available: False, using: 0 TPU cores\n",
      "IPU available: False, using: 0 IPUs\n",
      "HPU available: False, using: 0 HPUs\n",
      "Global seed set to 42\n",
      "c:\\Users\\thu71\\AppData\\Local\\anaconda3\\envs\\scanpy\\Lib\\site-packages\\lightning\\pytorch\\callbacks\\model_checkpoint.py:617: UserWarning: Checkpoint directory \\\\bme-retromaster.ad.gatech.edu\\labs5\\coskun-lab\\Thomas\\23_PLA_revision\\data\\OCT Cell Culture\\3D_Whole\\saved_models\\5PPI_3D\\Graph_GNNs_Kfold\\GINConv_norm_2_16_onehot_0\\attention\\GraphLevelGINConv_norm exists and is not empty.\n",
      "  rank_zero_warn(f\"Checkpoint directory {dirpath} exists and is not empty.\")\n",
      "LOCAL_RANK: 0 - CUDA_VISIBLE_DEVICES: [0]\n",
      "\n",
      "   | Name        | Type             | Params\n",
      "--------------------------------------------------\n",
      "0  | x_embedding | Identity         | 0     \n",
      "1  | model       | GIN              | 1.0 K \n",
      "2  | head        | Sequential       | 154   \n",
      "3  | loss_module | CrossEntropyLoss | 0     \n",
      "4  | train_acc   | BinaryAccuracy   | 0     \n",
      "5  | train_auroc | BinaryAUROC      | 0     \n",
      "6  | train_f1    | BinaryF1Score    | 0     \n",
      "7  | valid_acc   | BinaryAccuracy   | 0     \n",
      "8  | valid_auroc | BinaryAUROC      | 0     \n",
      "9  | valid_f1    | BinaryF1Score    | 0     \n",
      "10 | pool        | GlobalAttention  | 17    \n",
      "--------------------------------------------------\n",
      "1.2 K     Trainable params\n",
      "0         Non-trainable params\n",
      "1.2 K     Total params\n",
      "0.005     Total estimated model params size (MB)\n"
     ]
    },
    {
     "name": "stdout",
     "output_type": "stream",
     "text": [
      "GINConv\n"
     ]
    },
    {
     "name": "stderr",
     "output_type": "stream",
     "text": [
      "`Trainer.fit` stopped: `max_epochs=65` reached.\n"
     ]
    },
    {
     "data": {
      "text/html": [
       "Waiting for W&B process to finish... <strong style=\"color:green\">(success).</strong>"
      ],
      "text/plain": [
       "<IPython.core.display.HTML object>"
      ]
     },
     "metadata": {},
     "output_type": "display_data"
    },
    {
     "data": {
      "text/html": [
       "<style>\n",
       "    table.wandb td:nth-child(1) { padding: 0 10px; text-align: left ; width: auto;} td:nth-child(2) {text-align: left ; width: 100%}\n",
       "    .wandb-row { display: flex; flex-direction: row; flex-wrap: wrap; justify-content: flex-start; width: 100% }\n",
       "    .wandb-col { display: flex; flex-direction: column; flex-basis: 100%; flex: 1; padding: 10px; }\n",
       "    </style>\n",
       "<div class=\"wandb-row\"><div class=\"wandb-col\"><h3>Run history:</h3><br/><table class=\"wandb\"><tr><td>epoch</td><td>▁▁▁▂▂▂▂▂▂▃▃▃▃▃▄▄▄▄▄▄▅▅▅▅▅▅▆▆▆▆▆▇▇▇▇▇▇███</td></tr><tr><td>lr-Adam</td><td>▁▁▁▁▁▁▁▁▁▁▁▁▁▁▁▁▁▁▁▁▁▁▁▁▁▁▁▁▁▁▁▁▁▁▁▁▁▁▁▁</td></tr><tr><td>train_acc</td><td>▁▃▅▆▆▆▇▇▇▇▇▇▇▆▇▇▇▇▇▇█▇▇▇▇▇▇▇▇▇▇▇▇█▇▇████</td></tr><tr><td>train_auc</td><td>▁▃▆▆▇▇▇▇▇▇▇▇▇▇▇▇▇▇▇▇█▇▇▇▇███████▇███████</td></tr><tr><td>train_f1</td><td>▁▁▅▆▆▆▇▇▇▇▇▇▇▇▇▇▇▇▇▇▇▇▇▇▇▇▇█▇▇█▇▇█▇▇████</td></tr><tr><td>train_loss_epoch</td><td>█▇▄▄▄▃▃▃▃▃▃▃▃▃▃▂▃▃▂▂▂▂▂▂▂▂▂▂▂▂▂▂▂▂▂▂▂▂▂▁</td></tr><tr><td>train_loss_step</td><td>█▇▇▅▄▃▇▄▄▄▇▄▄▄▄▃▅▄▅▄▂▄▄▅▂▃▃▅▂▂▄▂▃▃▂▄▂▃▄▁</td></tr><tr><td>trainer/global_step</td><td>▁▁▁▂▂▁▂▂▂▃▂▃▃▂▂▄▄▄▂▂▅▅▂▅▂▆▆▂▆▆▃▃▃▇▇▃▃██▃</td></tr><tr><td>val_acc</td><td>▁▄▅▆▆▆▆▇▆▇▇█▇▇▇▇▇▇██▇▇▇▇▇▇▇███▇▆▇▇▇▇█▇█▇</td></tr><tr><td>val_auc</td><td>▁▄▆▆▆▇▇▆▇▇███▇██▇▇████▇███████████▇██▇█▇</td></tr><tr><td>val_f1</td><td>▁▄▇██▇▇▇▇████████████▇▇█▇██████▇████████</td></tr><tr><td>val_loss_epoch</td><td>█▇▃▄▃▃▃▂▃▃▂▂▂▂▂▁▂▂▂▂▂▂▃▂▁▁▂▁▂▁▁▂▂▂▂▃▂▃▂▂</td></tr><tr><td>val_loss_step</td><td>▇▇▄▅▅▄▄▁▄▃▃▃▄▄▃▄▄▄▄▄▄▄▃▃▁▄▄▃▆▂▄▅▄▅▂█▆▂▃▅</td></tr></table><br/></div><div class=\"wandb-col\"><h3>Run summary:</h3><br/><table class=\"wandb\"><tr><td>epoch</td><td>64</td></tr><tr><td>lr-Adam</td><td>0.005</td></tr><tr><td>train_acc</td><td>0.81034</td></tr><tr><td>train_auc</td><td>0.87839</td></tr><tr><td>train_f1</td><td>0.72748</td></tr><tr><td>train_loss_epoch</td><td>0.42484</td></tr><tr><td>train_loss_step</td><td>0.39336</td></tr><tr><td>trainer/global_step</td><td>649</td></tr><tr><td>val_acc</td><td>0.7931</td></tr><tr><td>val_auc</td><td>0.84491</td></tr><tr><td>val_f1</td><td>0.67961</td></tr><tr><td>val_loss_epoch</td><td>0.46033</td></tr><tr><td>val_loss_step</td><td>0.46086</td></tr></table><br/></div></div>"
      ],
      "text/plain": [
       "<IPython.core.display.HTML object>"
      ]
     },
     "metadata": {},
     "output_type": "display_data"
    },
    {
     "data": {
      "text/html": [
       " View run <strong style=\"color:#cdcd00\">GINConv_norm_2_16_onehot_0</strong> at: <a href='https://wandb.ai/thoomas/PLA_01122024_5PPI_3D_Kfold/runs/dwho55ai' target=\"_blank\">https://wandb.ai/thoomas/PLA_01122024_5PPI_3D_Kfold/runs/dwho55ai</a><br/>Synced 6 W&B file(s), 0 media file(s), 0 artifact file(s) and 0 other file(s)"
      ],
      "text/plain": [
       "<IPython.core.display.HTML object>"
      ]
     },
     "metadata": {},
     "output_type": "display_data"
    },
    {
     "data": {
      "text/html": [
       "Find logs at: <code>.\\wandb\\run-20240116_001400-dwho55ai\\logs</code>"
      ],
      "text/plain": [
       "<IPython.core.display.HTML object>"
      ]
     },
     "metadata": {},
     "output_type": "display_data"
    },
    {
     "data": {
      "text/html": [
       "wandb version 0.16.2 is available!  To upgrade, please run:\n",
       " $ pip install wandb --upgrade"
      ],
      "text/plain": [
       "<IPython.core.display.HTML object>"
      ]
     },
     "metadata": {},
     "output_type": "display_data"
    },
    {
     "data": {
      "text/html": [
       "Tracking run with wandb version 0.15.8"
      ],
      "text/plain": [
       "<IPython.core.display.HTML object>"
      ]
     },
     "metadata": {},
     "output_type": "display_data"
    },
    {
     "data": {
      "text/html": [
       "Run data is saved locally in <code>y:\\coskun-lab\\Thomas\\23_PLA_revision\\notebooks\\wandb\\run-20240116_002810-nzifondr</code>"
      ],
      "text/plain": [
       "<IPython.core.display.HTML object>"
      ]
     },
     "metadata": {},
     "output_type": "display_data"
    },
    {
     "data": {
      "text/html": [
       "Syncing run <strong><a href='https://wandb.ai/thoomas/PLA_01122024_5PPI_3D_Kfold/runs/nzifondr' target=\"_blank\">MLP_3_32_onehot_1</a></strong> to <a href='https://wandb.ai/thoomas/PLA_01122024_5PPI_3D_Kfold' target=\"_blank\">Weights & Biases</a> (<a href='https://wandb.me/run' target=\"_blank\">docs</a>)<br/>"
      ],
      "text/plain": [
       "<IPython.core.display.HTML object>"
      ]
     },
     "metadata": {},
     "output_type": "display_data"
    },
    {
     "data": {
      "text/html": [
       " View project at <a href='https://wandb.ai/thoomas/PLA_01122024_5PPI_3D_Kfold' target=\"_blank\">https://wandb.ai/thoomas/PLA_01122024_5PPI_3D_Kfold</a>"
      ],
      "text/plain": [
       "<IPython.core.display.HTML object>"
      ]
     },
     "metadata": {},
     "output_type": "display_data"
    },
    {
     "data": {
      "text/html": [
       " View run at <a href='https://wandb.ai/thoomas/PLA_01122024_5PPI_3D_Kfold/runs/nzifondr' target=\"_blank\">https://wandb.ai/thoomas/PLA_01122024_5PPI_3D_Kfold/runs/nzifondr</a>"
      ],
      "text/plain": [
       "<IPython.core.display.HTML object>"
      ]
     },
     "metadata": {},
     "output_type": "display_data"
    },
    {
     "name": "stderr",
     "output_type": "stream",
     "text": [
      "Global seed set to 42\n",
      "GPU available: True (cuda), used: True\n",
      "TPU available: False, using: 0 TPU cores\n",
      "IPU available: False, using: 0 IPUs\n",
      "HPU available: False, using: 0 HPUs\n",
      "Global seed set to 42\n",
      "c:\\Users\\thu71\\AppData\\Local\\anaconda3\\envs\\scanpy\\Lib\\site-packages\\lightning\\pytorch\\callbacks\\model_checkpoint.py:617: UserWarning: Checkpoint directory \\\\bme-retromaster.ad.gatech.edu\\labs5\\coskun-lab\\Thomas\\23_PLA_revision\\data\\OCT Cell Culture\\3D_Whole\\saved_models\\5PPI_3D\\Graph_GNNs_Kfold\\MLP_3_32_onehot_1\\mean\\GraphLevelMLP exists and is not empty.\n",
      "  rank_zero_warn(f\"Checkpoint directory {dirpath} exists and is not empty.\")\n",
      "LOCAL_RANK: 0 - CUDA_VISIBLE_DEVICES: [0]\n",
      "\n",
      "  | Name        | Type             | Params\n",
      "-------------------------------------------------\n",
      "0 | x_embedding | Identity         | 0     \n",
      "1 | model       | MLPModel         | 2.3 K \n",
      "2 | head        | Sequential       | 562   \n",
      "3 | loss_module | CrossEntropyLoss | 0     \n",
      "4 | train_acc   | BinaryAccuracy   | 0     \n",
      "5 | train_auroc | BinaryAUROC      | 0     \n",
      "6 | train_f1    | BinaryF1Score    | 0     \n",
      "7 | valid_acc   | BinaryAccuracy   | 0     \n",
      "8 | valid_auroc | BinaryAUROC      | 0     \n",
      "9 | valid_f1    | BinaryF1Score    | 0     \n",
      "-------------------------------------------------\n",
      "2.9 K     Trainable params\n",
      "0         Non-trainable params\n",
      "2.9 K     Total params\n",
      "0.011     Total estimated model params size (MB)\n"
     ]
    },
    {
     "name": "stdout",
     "output_type": "stream",
     "text": [
      "Using MLP\n"
     ]
    },
    {
     "name": "stderr",
     "output_type": "stream",
     "text": [
      "`Trainer.fit` stopped: `max_epochs=65` reached.\n"
     ]
    },
    {
     "data": {
      "text/html": [
       "Waiting for W&B process to finish... <strong style=\"color:green\">(success).</strong>"
      ],
      "text/plain": [
       "<IPython.core.display.HTML object>"
      ]
     },
     "metadata": {},
     "output_type": "display_data"
    },
    {
     "data": {
      "text/html": [
       "<style>\n",
       "    table.wandb td:nth-child(1) { padding: 0 10px; text-align: left ; width: auto;} td:nth-child(2) {text-align: left ; width: 100%}\n",
       "    .wandb-row { display: flex; flex-direction: row; flex-wrap: wrap; justify-content: flex-start; width: 100% }\n",
       "    .wandb-col { display: flex; flex-direction: column; flex-basis: 100%; flex: 1; padding: 10px; }\n",
       "    </style>\n",
       "<div class=\"wandb-row\"><div class=\"wandb-col\"><h3>Run history:</h3><br/><table class=\"wandb\"><tr><td>epoch</td><td>▁▁▁▂▂▂▂▂▂▃▃▃▃▃▄▄▄▄▄▄▅▅▅▅▅▅▆▆▆▆▆▇▇▇▇▇▇███</td></tr><tr><td>lr-Adam</td><td>▁▁▁▁▁▁▁▁▁▁▁▁▁▁▁▁▁▁▁▁▁▁▁▁▁▁▁▁▁▁▁▁▁▁▁▁▁▁▁▁</td></tr><tr><td>train_acc</td><td>▁▅▅▅▅▇▇▇██▇█▇▇▇███▇▇▇█▇█▇██▇▇████████▇▇█</td></tr><tr><td>train_auc</td><td>▁▂▁▂▃▇▇▇██▇▇▇▇▇███▇▇▇▇███▇█▇▇███████████</td></tr><tr><td>train_f1</td><td>▅▂▁▁▁▇█▇██▇█▇█▇█▇█▇█▇▇▇███▇█▇████▇███▇▇▇</td></tr><tr><td>train_loss_epoch</td><td>█▆▇▆▅▂▂▂▁▁▂▂▁▁▂▁▁▁▁▂▂▁▁▁▁▂▁▂▁▁▂▁▂▁▁▁▁▁▂▂</td></tr><tr><td>train_loss_step</td><td>███▆▆▄▃▂▆▅▄▆▄▄▂▄▃▆▄▅▅▅▄▂▃▅▃▂▅▄▆▇▇▄▄▅▁▁▁▅</td></tr><tr><td>trainer/global_step</td><td>▁▁▁▂▂▁▂▂▂▃▂▃▃▂▂▄▄▄▂▂▅▅▂▅▂▆▆▂▆▆▃▃▃▇▇▃▃██▃</td></tr><tr><td>val_acc</td><td>▁▁▁▁▁▇▅▇█▇▇▄▇█▇▇▆▅█▆█▇▇▇▇▇▇▆█▆▇▆▆▇▆▇▆█▆█</td></tr><tr><td>val_auc</td><td>▁▆██▇███████████████████████████████████</td></tr><tr><td>val_f1</td><td>▁▁▁▁▁▇▆▇█▇▇▆▇█▇▇▇▆█▇█▇▇▇▇▇▇▆█▆▇▇▇▇▇▇▇█▇█</td></tr><tr><td>val_loss_epoch</td><td>██▇▇▆▂▃▂▁▂▂▃▁▂▂▁▂▂▂▂▂▂▁▂▁▁▁▂▂▃▁▂▂▁▁▂▂▂▂▁</td></tr><tr><td>val_loss_step</td><td>█▇▆▆▆▄▅▃▄▅▃▄▁▃▃▄▃▄▃▃▃▃▄▄▂▂▄▄▄▄▃▃▃▅▁▄▃▃▄▄</td></tr></table><br/></div><div class=\"wandb-col\"><h3>Run summary:</h3><br/><table class=\"wandb\"><tr><td>epoch</td><td>64</td></tr><tr><td>lr-Adam</td><td>0.005</td></tr><tr><td>train_acc</td><td>0.71865</td></tr><tr><td>train_auc</td><td>0.76664</td></tr><tr><td>train_f1</td><td>0.54384</td></tr><tr><td>train_loss_epoch</td><td>0.54633</td></tr><tr><td>train_loss_step</td><td>0.58114</td></tr><tr><td>trainer/global_step</td><td>649</td></tr><tr><td>val_acc</td><td>0.77743</td></tr><tr><td>val_auc</td><td>0.83897</td></tr><tr><td>val_f1</td><td>0.69264</td></tr><tr><td>val_loss_epoch</td><td>0.49821</td></tr><tr><td>val_loss_step</td><td>0.48138</td></tr></table><br/></div></div>"
      ],
      "text/plain": [
       "<IPython.core.display.HTML object>"
      ]
     },
     "metadata": {},
     "output_type": "display_data"
    },
    {
     "data": {
      "text/html": [
       " View run <strong style=\"color:#cdcd00\">MLP_3_32_onehot_1</strong> at: <a href='https://wandb.ai/thoomas/PLA_01122024_5PPI_3D_Kfold/runs/nzifondr' target=\"_blank\">https://wandb.ai/thoomas/PLA_01122024_5PPI_3D_Kfold/runs/nzifondr</a><br/>Synced 6 W&B file(s), 0 media file(s), 0 artifact file(s) and 0 other file(s)"
      ],
      "text/plain": [
       "<IPython.core.display.HTML object>"
      ]
     },
     "metadata": {},
     "output_type": "display_data"
    },
    {
     "data": {
      "text/html": [
       "Find logs at: <code>.\\wandb\\run-20240116_002810-nzifondr\\logs</code>"
      ],
      "text/plain": [
       "<IPython.core.display.HTML object>"
      ]
     },
     "metadata": {},
     "output_type": "display_data"
    },
    {
     "data": {
      "text/html": [
       "wandb version 0.16.2 is available!  To upgrade, please run:\n",
       " $ pip install wandb --upgrade"
      ],
      "text/plain": [
       "<IPython.core.display.HTML object>"
      ]
     },
     "metadata": {},
     "output_type": "display_data"
    },
    {
     "data": {
      "text/html": [
       "Tracking run with wandb version 0.15.8"
      ],
      "text/plain": [
       "<IPython.core.display.HTML object>"
      ]
     },
     "metadata": {},
     "output_type": "display_data"
    },
    {
     "data": {
      "text/html": [
       "Run data is saved locally in <code>y:\\coskun-lab\\Thomas\\23_PLA_revision\\notebooks\\wandb\\run-20240116_004117-8sc61gcp</code>"
      ],
      "text/plain": [
       "<IPython.core.display.HTML object>"
      ]
     },
     "metadata": {},
     "output_type": "display_data"
    },
    {
     "data": {
      "text/html": [
       "Syncing run <strong><a href='https://wandb.ai/thoomas/PLA_01122024_5PPI_3D_Kfold/runs/8sc61gcp' target=\"_blank\">GraphConv_3_32_onehot_1</a></strong> to <a href='https://wandb.ai/thoomas/PLA_01122024_5PPI_3D_Kfold' target=\"_blank\">Weights & Biases</a> (<a href='https://wandb.me/run' target=\"_blank\">docs</a>)<br/>"
      ],
      "text/plain": [
       "<IPython.core.display.HTML object>"
      ]
     },
     "metadata": {},
     "output_type": "display_data"
    },
    {
     "data": {
      "text/html": [
       " View project at <a href='https://wandb.ai/thoomas/PLA_01122024_5PPI_3D_Kfold' target=\"_blank\">https://wandb.ai/thoomas/PLA_01122024_5PPI_3D_Kfold</a>"
      ],
      "text/plain": [
       "<IPython.core.display.HTML object>"
      ]
     },
     "metadata": {},
     "output_type": "display_data"
    },
    {
     "data": {
      "text/html": [
       " View run at <a href='https://wandb.ai/thoomas/PLA_01122024_5PPI_3D_Kfold/runs/8sc61gcp' target=\"_blank\">https://wandb.ai/thoomas/PLA_01122024_5PPI_3D_Kfold/runs/8sc61gcp</a>"
      ],
      "text/plain": [
       "<IPython.core.display.HTML object>"
      ]
     },
     "metadata": {},
     "output_type": "display_data"
    },
    {
     "name": "stderr",
     "output_type": "stream",
     "text": [
      "Global seed set to 42\n",
      "GPU available: True (cuda), used: True\n",
      "TPU available: False, using: 0 TPU cores\n",
      "IPU available: False, using: 0 IPUs\n",
      "HPU available: False, using: 0 HPUs\n",
      "Global seed set to 42\n",
      "c:\\Users\\thu71\\AppData\\Local\\anaconda3\\envs\\scanpy\\Lib\\site-packages\\lightning\\pytorch\\callbacks\\model_checkpoint.py:617: UserWarning: Checkpoint directory \\\\bme-retromaster.ad.gatech.edu\\labs5\\coskun-lab\\Thomas\\23_PLA_revision\\data\\OCT Cell Culture\\3D_Whole\\saved_models\\5PPI_3D\\Graph_GNNs_Kfold\\GraphConv_3_32_onehot_1\\attention2\\GraphLevelGraphConv exists and is not empty.\n",
      "  rank_zero_warn(f\"Checkpoint directory {dirpath} exists and is not empty.\")\n",
      "LOCAL_RANK: 0 - CUDA_VISIBLE_DEVICES: [0]\n",
      "\n",
      "   | Name        | Type             | Params\n",
      "--------------------------------------------------\n",
      "0  | x_embedding | Identity         | 0     \n",
      "1  | model       | GNNModel         | 4.6 K \n",
      "2  | head        | Sequential       | 562   \n",
      "3  | loss_module | CrossEntropyLoss | 0     \n",
      "4  | train_acc   | BinaryAccuracy   | 0     \n",
      "5  | train_auroc | BinaryAUROC      | 0     \n",
      "6  | train_f1    | BinaryF1Score    | 0     \n",
      "7  | valid_acc   | BinaryAccuracy   | 0     \n",
      "8  | valid_auroc | BinaryAUROC      | 0     \n",
      "9  | valid_f1    | BinaryF1Score    | 0     \n",
      "10 | pool        | Attention_module | 1.1 K \n",
      "--------------------------------------------------\n",
      "6.3 K     Trainable params\n",
      "0         Non-trainable params\n",
      "6.3 K     Total params\n",
      "0.025     Total estimated model params size (MB)\n"
     ]
    },
    {
     "name": "stdout",
     "output_type": "stream",
     "text": [
      "Using GNN\n"
     ]
    },
    {
     "name": "stderr",
     "output_type": "stream",
     "text": [
      "`Trainer.fit` stopped: `max_epochs=65` reached.\n"
     ]
    },
    {
     "data": {
      "text/html": [
       "Waiting for W&B process to finish... <strong style=\"color:green\">(success).</strong>"
      ],
      "text/plain": [
       "<IPython.core.display.HTML object>"
      ]
     },
     "metadata": {},
     "output_type": "display_data"
    },
    {
     "data": {
      "text/html": [
       "<style>\n",
       "    table.wandb td:nth-child(1) { padding: 0 10px; text-align: left ; width: auto;} td:nth-child(2) {text-align: left ; width: 100%}\n",
       "    .wandb-row { display: flex; flex-direction: row; flex-wrap: wrap; justify-content: flex-start; width: 100% }\n",
       "    .wandb-col { display: flex; flex-direction: column; flex-basis: 100%; flex: 1; padding: 10px; }\n",
       "    </style>\n",
       "<div class=\"wandb-row\"><div class=\"wandb-col\"><h3>Run history:</h3><br/><table class=\"wandb\"><tr><td>epoch</td><td>▁▁▁▂▂▂▂▂▂▃▃▃▃▃▄▄▄▄▄▄▅▅▅▅▅▅▆▆▆▆▆▇▇▇▇▇▇███</td></tr><tr><td>lr-Adam</td><td>▁▁▁▁▁▁▁▁▁▁▁▁▁▁▁▁▁▁▁▁▁▁▁▁▁▁▁▁▁▁▁▁▁▁▁▁▁▁▁▁</td></tr><tr><td>train_acc</td><td>▁▄▅▆▆▇▇▇▇▇▇▇▇▇██▇▇█▇▇███████▇█████▇██▇██</td></tr><tr><td>train_auc</td><td>▁▅▆▇▇▇▇▇▇▇▇▇▇▇▇▇▇▇█▇▇████▇██████████████</td></tr><tr><td>train_f1</td><td>▁▄▅▇▇▇▇▇▇██▇▇▇██▇▇██▇█████████████▇█████</td></tr><tr><td>train_loss_epoch</td><td>█▆▄▄▃▃▂▃▃▂▂▂▃▂▂▂▂▂▂▂▂▁▂▁▁▂▁▂▁▁▂▁▁▂▂▂▂▂▁▁</td></tr><tr><td>train_loss_step</td><td>█▇▇▆▅▅▃▅▃▆▅▃▇▄▅▄▅▃▂▂▄▃▁▂▅▃▂▃▃▃▁▂▃▃▂▇▃▄▄▂</td></tr><tr><td>trainer/global_step</td><td>▁▁▁▂▂▁▂▂▂▃▂▃▃▂▂▄▄▄▂▂▅▅▂▅▂▆▆▂▆▆▃▃▃▇▇▃▃██▃</td></tr><tr><td>val_acc</td><td>▁▂▇▇▇▇▇█▇█▇█▇█▆█▇██▆▇▇▇▇████▇▇█▇▆▇▇▇▇▇██</td></tr><tr><td>val_auc</td><td>▁▄▅▇▇▇▇▇▇▇▇▇▇███████████████▇█▇▇███▇▇▇██</td></tr><tr><td>val_f1</td><td>▁▆█▇██████▇███▆█▇██▆▇▇▇▇███▇████▆▇█▇▇▇██</td></tr><tr><td>val_loss_epoch</td><td>██▄▃▃▃▂▂▂▂▂▂▃▁▃▂▂▂▂▂▂▁▂▂▂▂▁▂▂▂▂▃▃▂▂▂▃▃▃▁</td></tr><tr><td>val_loss_step</td><td>▇█▅▄▅▃▃▃▅▄▄▃▃▁▂▂▅▃▃▃▃▄▃▄▂▃▃▃▃▃▃▃▄▃▂▄▂▃▁▃</td></tr></table><br/></div><div class=\"wandb-col\"><h3>Run summary:</h3><br/><table class=\"wandb\"><tr><td>epoch</td><td>64</td></tr><tr><td>lr-Adam</td><td>0.005</td></tr><tr><td>train_acc</td><td>0.80408</td></tr><tr><td>train_auc</td><td>0.87687</td></tr><tr><td>train_f1</td><td>0.7216</td></tr><tr><td>train_loss_epoch</td><td>0.40762</td></tr><tr><td>train_loss_step</td><td>0.39423</td></tr><tr><td>trainer/global_step</td><td>649</td></tr><tr><td>val_acc</td><td>0.84013</td></tr><tr><td>val_auc</td><td>0.89181</td></tr><tr><td>val_f1</td><td>0.78838</td></tr><tr><td>val_loss_epoch</td><td>0.38778</td></tr><tr><td>val_loss_step</td><td>0.27809</td></tr></table><br/></div></div>"
      ],
      "text/plain": [
       "<IPython.core.display.HTML object>"
      ]
     },
     "metadata": {},
     "output_type": "display_data"
    },
    {
     "data": {
      "text/html": [
       " View run <strong style=\"color:#cdcd00\">GraphConv_3_32_onehot_1</strong> at: <a href='https://wandb.ai/thoomas/PLA_01122024_5PPI_3D_Kfold/runs/8sc61gcp' target=\"_blank\">https://wandb.ai/thoomas/PLA_01122024_5PPI_3D_Kfold/runs/8sc61gcp</a><br/>Synced 6 W&B file(s), 0 media file(s), 0 artifact file(s) and 0 other file(s)"
      ],
      "text/plain": [
       "<IPython.core.display.HTML object>"
      ]
     },
     "metadata": {},
     "output_type": "display_data"
    },
    {
     "data": {
      "text/html": [
       "Find logs at: <code>.\\wandb\\run-20240116_004117-8sc61gcp\\logs</code>"
      ],
      "text/plain": [
       "<IPython.core.display.HTML object>"
      ]
     },
     "metadata": {},
     "output_type": "display_data"
    },
    {
     "data": {
      "text/html": [
       "wandb version 0.16.2 is available!  To upgrade, please run:\n",
       " $ pip install wandb --upgrade"
      ],
      "text/plain": [
       "<IPython.core.display.HTML object>"
      ]
     },
     "metadata": {},
     "output_type": "display_data"
    },
    {
     "data": {
      "text/html": [
       "Tracking run with wandb version 0.15.8"
      ],
      "text/plain": [
       "<IPython.core.display.HTML object>"
      ]
     },
     "metadata": {},
     "output_type": "display_data"
    },
    {
     "data": {
      "text/html": [
       "Run data is saved locally in <code>y:\\coskun-lab\\Thomas\\23_PLA_revision\\notebooks\\wandb\\run-20240116_005414-2o5bvc87</code>"
      ],
      "text/plain": [
       "<IPython.core.display.HTML object>"
      ]
     },
     "metadata": {},
     "output_type": "display_data"
    },
    {
     "data": {
      "text/html": [
       "Syncing run <strong><a href='https://wandb.ai/thoomas/PLA_01122024_5PPI_3D_Kfold/runs/2o5bvc87' target=\"_blank\">GCN_2_64_onehot_1</a></strong> to <a href='https://wandb.ai/thoomas/PLA_01122024_5PPI_3D_Kfold' target=\"_blank\">Weights & Biases</a> (<a href='https://wandb.me/run' target=\"_blank\">docs</a>)<br/>"
      ],
      "text/plain": [
       "<IPython.core.display.HTML object>"
      ]
     },
     "metadata": {},
     "output_type": "display_data"
    },
    {
     "data": {
      "text/html": [
       " View project at <a href='https://wandb.ai/thoomas/PLA_01122024_5PPI_3D_Kfold' target=\"_blank\">https://wandb.ai/thoomas/PLA_01122024_5PPI_3D_Kfold</a>"
      ],
      "text/plain": [
       "<IPython.core.display.HTML object>"
      ]
     },
     "metadata": {},
     "output_type": "display_data"
    },
    {
     "data": {
      "text/html": [
       " View run at <a href='https://wandb.ai/thoomas/PLA_01122024_5PPI_3D_Kfold/runs/2o5bvc87' target=\"_blank\">https://wandb.ai/thoomas/PLA_01122024_5PPI_3D_Kfold/runs/2o5bvc87</a>"
      ],
      "text/plain": [
       "<IPython.core.display.HTML object>"
      ]
     },
     "metadata": {},
     "output_type": "display_data"
    },
    {
     "name": "stderr",
     "output_type": "stream",
     "text": [
      "Global seed set to 42\n",
      "GPU available: True (cuda), used: True\n",
      "TPU available: False, using: 0 TPU cores\n",
      "IPU available: False, using: 0 IPUs\n",
      "HPU available: False, using: 0 HPUs\n",
      "Global seed set to 42\n",
      "c:\\Users\\thu71\\AppData\\Local\\anaconda3\\envs\\scanpy\\Lib\\site-packages\\lightning\\pytorch\\callbacks\\model_checkpoint.py:617: UserWarning: Checkpoint directory \\\\bme-retromaster.ad.gatech.edu\\labs5\\coskun-lab\\Thomas\\23_PLA_revision\\data\\OCT Cell Culture\\3D_Whole\\saved_models\\5PPI_3D\\Graph_GNNs_Kfold\\GCN_2_64_onehot_1\\attention2\\GraphLevelGCN exists and is not empty.\n",
      "  rank_zero_warn(f\"Checkpoint directory {dirpath} exists and is not empty.\")\n",
      "LOCAL_RANK: 0 - CUDA_VISIBLE_DEVICES: [0]\n",
      "\n",
      "   | Name        | Type             | Params\n",
      "--------------------------------------------------\n",
      "0  | x_embedding | Identity         | 0     \n",
      "1  | model       | GNNModel         | 4.7 K \n",
      "2  | head        | Sequential       | 2.1 K \n",
      "3  | loss_module | CrossEntropyLoss | 0     \n",
      "4  | train_acc   | BinaryAccuracy   | 0     \n",
      "5  | train_auroc | BinaryAUROC      | 0     \n",
      "6  | train_f1    | BinaryF1Score    | 0     \n",
      "7  | valid_acc   | BinaryAccuracy   | 0     \n",
      "8  | valid_auroc | BinaryAUROC      | 0     \n",
      "9  | valid_f1    | BinaryF1Score    | 0     \n",
      "10 | pool        | Attention_module | 4.2 K \n",
      "--------------------------------------------------\n",
      "11.0 K    Trainable params\n",
      "0         Non-trainable params\n",
      "11.0 K    Total params\n",
      "0.044     Total estimated model params size (MB)\n"
     ]
    },
    {
     "name": "stdout",
     "output_type": "stream",
     "text": [
      "Using GNN\n"
     ]
    },
    {
     "name": "stderr",
     "output_type": "stream",
     "text": [
      "`Trainer.fit` stopped: `max_epochs=65` reached.\n"
     ]
    },
    {
     "data": {
      "text/html": [
       "Waiting for W&B process to finish... <strong style=\"color:green\">(success).</strong>"
      ],
      "text/plain": [
       "<IPython.core.display.HTML object>"
      ]
     },
     "metadata": {},
     "output_type": "display_data"
    },
    {
     "data": {
      "application/vnd.jupyter.widget-view+json": {
       "model_id": "cd674cff62334a97a022ccffb9bd73bf",
       "version_major": 2,
       "version_minor": 0
      },
      "text/plain": [
       "VBox(children=(Label(value='0.001 MB of 0.001 MB uploaded (0.000 MB deduped)\\r'), FloatProgress(value=1.0, max…"
      ]
     },
     "metadata": {},
     "output_type": "display_data"
    },
    {
     "data": {
      "text/html": [
       "<style>\n",
       "    table.wandb td:nth-child(1) { padding: 0 10px; text-align: left ; width: auto;} td:nth-child(2) {text-align: left ; width: 100%}\n",
       "    .wandb-row { display: flex; flex-direction: row; flex-wrap: wrap; justify-content: flex-start; width: 100% }\n",
       "    .wandb-col { display: flex; flex-direction: column; flex-basis: 100%; flex: 1; padding: 10px; }\n",
       "    </style>\n",
       "<div class=\"wandb-row\"><div class=\"wandb-col\"><h3>Run history:</h3><br/><table class=\"wandb\"><tr><td>epoch</td><td>▁▁▁▂▂▂▂▂▂▃▃▃▃▃▄▄▄▄▄▄▅▅▅▅▅▅▆▆▆▆▆▇▇▇▇▇▇███</td></tr><tr><td>lr-Adam</td><td>▁▁▁▁▁▁▁▁▁▁▁▁▁▁▁▁▁▁▁▁▁▁▁▁▁▁▁▁▁▁▁▁▁▁▁▁▁▁▁▁</td></tr><tr><td>train_acc</td><td>▁▅▇▇▇▇█▇█▇▇▇█▇▇▇█▇▇▇▇▇████▇▇█▇▇▇▇██▇▇█▇▇</td></tr><tr><td>train_auc</td><td>▁▆▇▇▇█████▇█████████▇█████████████████▇█</td></tr><tr><td>train_f1</td><td>▁▆▇█▇▇█▇█▇▇▇██▇▇█▇▇▇▇▇████▇▇█▇▇███████▇▇</td></tr><tr><td>train_loss_epoch</td><td>█▄▂▃▂▂▂▂▂▂▂▂▁▂▁▂▂▂▁▂▂▁▂▂▂▁▂▂▂▂▂▂▂▁▁▂▂▂▂▂</td></tr><tr><td>train_loss_step</td><td>▇▃▁▁▆▃▂▆▂▅▄▁▃▅▄▄▃▁▄▅▄▄█▃▁▃▄▁▃▅▁▃▂▂▂▂▂▅▅▃</td></tr><tr><td>trainer/global_step</td><td>▁▁▁▂▂▁▂▂▂▃▂▃▃▂▂▄▄▄▂▂▅▅▂▅▂▆▆▂▆▆▃▃▃▇▇▃▃██▃</td></tr><tr><td>val_acc</td><td>▄▆▁▂▇▇▅▂▇▁▇▇▅██▆▆▇█▄▆▃▇▆▄▆▅▇▇▂▅█▅▆▁▅▇▅▇▇</td></tr><tr><td>val_auc</td><td>▁▄▅▅▇▇▇▇▆▇▇█▇▇█▆▇▇▇▇█▇█▇▇▇▇█▇▆▇██▇▆█▇█▇▇</td></tr><tr><td>val_f1</td><td>▇▇▂▃▇▇▅▂▇▁▇█▆▇▇▆▆▇█▄▆▄█▇▄▆▆██▂▅▇▅▇▁▅▇▅▇▇</td></tr><tr><td>val_loss_epoch</td><td>█▆▃▃▂▂▂▃▂▃▂▂▃▂▁▂▁▁▁▁▂▂▁▁▂▂▁▁▃▄▂▁▂▁▄▂▁▁▂▁</td></tr><tr><td>val_loss_step</td><td>█▆▄▄▂▂▃▅▃▃▂▁▇▃▂▃▄▂▂▅▂▆▅▂▅▂▆▁▆█▃▂▃▃▅▃▃▄▂▅</td></tr></table><br/></div><div class=\"wandb-col\"><h3>Run summary:</h3><br/><table class=\"wandb\"><tr><td>epoch</td><td>64</td></tr><tr><td>lr-Adam</td><td>0.005</td></tr><tr><td>train_acc</td><td>0.80172</td></tr><tr><td>train_auc</td><td>0.86125</td></tr><tr><td>train_f1</td><td>0.70059</td></tr><tr><td>train_loss_epoch</td><td>0.44917</td></tr><tr><td>train_loss_step</td><td>0.45177</td></tr><tr><td>trainer/global_step</td><td>649</td></tr><tr><td>val_acc</td><td>0.81191</td></tr><tr><td>val_auc</td><td>0.87881</td></tr><tr><td>val_f1</td><td>0.76562</td></tr><tr><td>val_loss_epoch</td><td>0.4329</td></tr><tr><td>val_loss_step</td><td>0.40643</td></tr></table><br/></div></div>"
      ],
      "text/plain": [
       "<IPython.core.display.HTML object>"
      ]
     },
     "metadata": {},
     "output_type": "display_data"
    },
    {
     "data": {
      "text/html": [
       " View run <strong style=\"color:#cdcd00\">GCN_2_64_onehot_1</strong> at: <a href='https://wandb.ai/thoomas/PLA_01122024_5PPI_3D_Kfold/runs/2o5bvc87' target=\"_blank\">https://wandb.ai/thoomas/PLA_01122024_5PPI_3D_Kfold/runs/2o5bvc87</a><br/>Synced 6 W&B file(s), 0 media file(s), 0 artifact file(s) and 0 other file(s)"
      ],
      "text/plain": [
       "<IPython.core.display.HTML object>"
      ]
     },
     "metadata": {},
     "output_type": "display_data"
    },
    {
     "data": {
      "text/html": [
       "Find logs at: <code>.\\wandb\\run-20240116_005414-2o5bvc87\\logs</code>"
      ],
      "text/plain": [
       "<IPython.core.display.HTML object>"
      ]
     },
     "metadata": {},
     "output_type": "display_data"
    },
    {
     "data": {
      "text/html": [
       "wandb version 0.16.2 is available!  To upgrade, please run:\n",
       " $ pip install wandb --upgrade"
      ],
      "text/plain": [
       "<IPython.core.display.HTML object>"
      ]
     },
     "metadata": {},
     "output_type": "display_data"
    },
    {
     "data": {
      "text/html": [
       "Tracking run with wandb version 0.15.8"
      ],
      "text/plain": [
       "<IPython.core.display.HTML object>"
      ]
     },
     "metadata": {},
     "output_type": "display_data"
    },
    {
     "data": {
      "text/html": [
       "Run data is saved locally in <code>y:\\coskun-lab\\Thomas\\23_PLA_revision\\notebooks\\wandb\\run-20240116_010703-frjxxfh1</code>"
      ],
      "text/plain": [
       "<IPython.core.display.HTML object>"
      ]
     },
     "metadata": {},
     "output_type": "display_data"
    },
    {
     "data": {
      "text/html": [
       "Syncing run <strong><a href='https://wandb.ai/thoomas/PLA_01122024_5PPI_3D_Kfold/runs/frjxxfh1' target=\"_blank\">GAT_norm_3_64_onehot_1</a></strong> to <a href='https://wandb.ai/thoomas/PLA_01122024_5PPI_3D_Kfold' target=\"_blank\">Weights & Biases</a> (<a href='https://wandb.me/run' target=\"_blank\">docs</a>)<br/>"
      ],
      "text/plain": [
       "<IPython.core.display.HTML object>"
      ]
     },
     "metadata": {},
     "output_type": "display_data"
    },
    {
     "data": {
      "text/html": [
       " View project at <a href='https://wandb.ai/thoomas/PLA_01122024_5PPI_3D_Kfold' target=\"_blank\">https://wandb.ai/thoomas/PLA_01122024_5PPI_3D_Kfold</a>"
      ],
      "text/plain": [
       "<IPython.core.display.HTML object>"
      ]
     },
     "metadata": {},
     "output_type": "display_data"
    },
    {
     "data": {
      "text/html": [
       " View run at <a href='https://wandb.ai/thoomas/PLA_01122024_5PPI_3D_Kfold/runs/frjxxfh1' target=\"_blank\">https://wandb.ai/thoomas/PLA_01122024_5PPI_3D_Kfold/runs/frjxxfh1</a>"
      ],
      "text/plain": [
       "<IPython.core.display.HTML object>"
      ]
     },
     "metadata": {},
     "output_type": "display_data"
    },
    {
     "name": "stderr",
     "output_type": "stream",
     "text": [
      "Global seed set to 42\n",
      "GPU available: True (cuda), used: True\n",
      "TPU available: False, using: 0 TPU cores\n",
      "IPU available: False, using: 0 IPUs\n",
      "HPU available: False, using: 0 HPUs\n",
      "Global seed set to 42\n",
      "c:\\Users\\thu71\\AppData\\Local\\anaconda3\\envs\\scanpy\\Lib\\site-packages\\lightning\\pytorch\\callbacks\\model_checkpoint.py:617: UserWarning: Checkpoint directory \\\\bme-retromaster.ad.gatech.edu\\labs5\\coskun-lab\\Thomas\\23_PLA_revision\\data\\OCT Cell Culture\\3D_Whole\\saved_models\\5PPI_3D\\Graph_GNNs_Kfold\\GAT_norm_3_64_onehot_1\\attention\\GraphLevelGAT_norm exists and is not empty.\n",
      "  rank_zero_warn(f\"Checkpoint directory {dirpath} exists and is not empty.\")\n",
      "LOCAL_RANK: 0 - CUDA_VISIBLE_DEVICES: [0]\n",
      "\n",
      "   | Name        | Type             | Params\n",
      "--------------------------------------------------\n",
      "0  | x_embedding | Identity         | 0     \n",
      "1  | model       | GAT              | 78.0 K\n",
      "2  | head        | Sequential       | 2.1 K \n",
      "3  | loss_module | CrossEntropyLoss | 0     \n",
      "4  | train_acc   | BinaryAccuracy   | 0     \n",
      "5  | train_auroc | BinaryAUROC      | 0     \n",
      "6  | train_f1    | BinaryF1Score    | 0     \n",
      "7  | valid_acc   | BinaryAccuracy   | 0     \n",
      "8  | valid_auroc | BinaryAUROC      | 0     \n",
      "9  | valid_f1    | BinaryF1Score    | 0     \n",
      "10 | pool        | GlobalAttention  | 65    \n",
      "--------------------------------------------------\n",
      "80.2 K    Trainable params\n",
      "0         Non-trainable params\n",
      "80.2 K    Total params\n",
      "0.321     Total estimated model params size (MB)\n"
     ]
    },
    {
     "name": "stdout",
     "output_type": "stream",
     "text": [
      "Using GAT\n"
     ]
    },
    {
     "name": "stderr",
     "output_type": "stream",
     "text": [
      "`Trainer.fit` stopped: `max_epochs=65` reached.\n"
     ]
    },
    {
     "data": {
      "text/html": [
       "Waiting for W&B process to finish... <strong style=\"color:green\">(success).</strong>"
      ],
      "text/plain": [
       "<IPython.core.display.HTML object>"
      ]
     },
     "metadata": {},
     "output_type": "display_data"
    },
    {
     "data": {
      "application/vnd.jupyter.widget-view+json": {
       "model_id": "fa92b513ff51452e89c6f3272bf30296",
       "version_major": 2,
       "version_minor": 0
      },
      "text/plain": [
       "VBox(children=(Label(value='0.001 MB of 0.001 MB uploaded (0.000 MB deduped)\\r'), FloatProgress(value=1.0, max…"
      ]
     },
     "metadata": {},
     "output_type": "display_data"
    },
    {
     "data": {
      "text/html": [
       "<style>\n",
       "    table.wandb td:nth-child(1) { padding: 0 10px; text-align: left ; width: auto;} td:nth-child(2) {text-align: left ; width: 100%}\n",
       "    .wandb-row { display: flex; flex-direction: row; flex-wrap: wrap; justify-content: flex-start; width: 100% }\n",
       "    .wandb-col { display: flex; flex-direction: column; flex-basis: 100%; flex: 1; padding: 10px; }\n",
       "    </style>\n",
       "<div class=\"wandb-row\"><div class=\"wandb-col\"><h3>Run history:</h3><br/><table class=\"wandb\"><tr><td>epoch</td><td>▁▁▁▂▂▂▂▂▂▃▃▃▃▃▄▄▄▄▄▄▅▅▅▅▅▅▆▆▆▆▆▇▇▇▇▇▇███</td></tr><tr><td>lr-Adam</td><td>▁▁▁▁▁▁▁▁▁▁▁▁▁▁▁▁▁▁▁▁▁▁▁▁▁▁▁▁▁▁▁▁▁▁▁▁▁▁▁▁</td></tr><tr><td>train_acc</td><td>▁▄▅▆▆▅▇▆▇▇█▆▇▆▇▇▇▇▇▆▇▇█▇▇▇█▇▇▇▆█▇▇▇▇█▇█▇</td></tr><tr><td>train_auc</td><td>▁▅▆▇▇▇▇▇▇▇▇▇▇▇▇▇█▇▇▇████▇█████▇█▇████▇██</td></tr><tr><td>train_f1</td><td>▁▆▇▇▇▇▇▇███▇█▇█▇███▇█▇█████▇█▇▇█▇██▇███▇</td></tr><tr><td>train_loss_epoch</td><td>█▅▄▃▃▃▂▃▂▂▂▃▂▃▂▂▂▃▃▂▂▂▁▂▂▂▁▂▁▂▂▁▂▂▂▂▁▂▁▂</td></tr><tr><td>train_loss_step</td><td>▇▅▂▂█▃▄▄▂▂▄▃▄▃▃▃▂▃▄▁▂▄▁▃▅▃▄▃▂▅▄▃▂▃▂▂▂▄▄▁</td></tr><tr><td>trainer/global_step</td><td>▁▁▁▂▂▁▂▂▂▃▂▃▃▂▂▄▄▄▂▂▅▅▂▅▂▆▆▂▆▆▃▃▃▇▇▃▃██▃</td></tr><tr><td>val_acc</td><td>▁▂▅▅▆▆▆▇█▇▇▆███▇█▅█▇▇▇█▇▇▄▅▆▅▅▇▇▇▇▇▇▄▇▆▆</td></tr><tr><td>val_auc</td><td>▁▂▁▃▃▅▅▄▆▅▆▆▆▆▇▄▆▅▇▇▅▆▆▇▅▅▆▇▆▆█▇▅▇▅▆▆▅▄▆</td></tr><tr><td>val_f1</td><td>▁▃█████████████▇███████▇████████████████</td></tr><tr><td>val_loss_epoch</td><td>█▆▅▅▃▃▃▃▃▂▃▃▂▂▃▃▂▆▃▁▂▂▂▂▂▆▃▃▄▄▂▂▃▂▂▂▇▂▃▃</td></tr><tr><td>val_loss_step</td><td>▇▅▄▃▃▃▃▄▂▄▂▃▁▁▂▄▂█▆▃▃▃▁▃▃▆▄▃▅▅▂▃▃▄▃▃▄▄▅▃</td></tr></table><br/></div><div class=\"wandb-col\"><h3>Run summary:</h3><br/><table class=\"wandb\"><tr><td>epoch</td><td>64</td></tr><tr><td>lr-Adam</td><td>0.005</td></tr><tr><td>train_acc</td><td>0.75549</td></tr><tr><td>train_auc</td><td>0.81972</td></tr><tr><td>train_f1</td><td>0.62768</td></tr><tr><td>train_loss_epoch</td><td>0.49886</td></tr><tr><td>train_loss_step</td><td>0.4326</td></tr><tr><td>trainer/global_step</td><td>649</td></tr><tr><td>val_acc</td><td>0.72414</td></tr><tr><td>val_auc</td><td>0.83453</td></tr><tr><td>val_f1</td><td>0.69863</td></tr><tr><td>val_loss_epoch</td><td>0.51491</td></tr><tr><td>val_loss_step</td><td>0.47313</td></tr></table><br/></div></div>"
      ],
      "text/plain": [
       "<IPython.core.display.HTML object>"
      ]
     },
     "metadata": {},
     "output_type": "display_data"
    },
    {
     "data": {
      "text/html": [
       " View run <strong style=\"color:#cdcd00\">GAT_norm_3_64_onehot_1</strong> at: <a href='https://wandb.ai/thoomas/PLA_01122024_5PPI_3D_Kfold/runs/frjxxfh1' target=\"_blank\">https://wandb.ai/thoomas/PLA_01122024_5PPI_3D_Kfold/runs/frjxxfh1</a><br/>Synced 6 W&B file(s), 0 media file(s), 0 artifact file(s) and 0 other file(s)"
      ],
      "text/plain": [
       "<IPython.core.display.HTML object>"
      ]
     },
     "metadata": {},
     "output_type": "display_data"
    },
    {
     "data": {
      "text/html": [
       "Find logs at: <code>.\\wandb\\run-20240116_010703-frjxxfh1\\logs</code>"
      ],
      "text/plain": [
       "<IPython.core.display.HTML object>"
      ]
     },
     "metadata": {},
     "output_type": "display_data"
    },
    {
     "data": {
      "text/html": [
       "wandb version 0.16.2 is available!  To upgrade, please run:\n",
       " $ pip install wandb --upgrade"
      ],
      "text/plain": [
       "<IPython.core.display.HTML object>"
      ]
     },
     "metadata": {},
     "output_type": "display_data"
    },
    {
     "data": {
      "text/html": [
       "Tracking run with wandb version 0.15.8"
      ],
      "text/plain": [
       "<IPython.core.display.HTML object>"
      ]
     },
     "metadata": {},
     "output_type": "display_data"
    },
    {
     "data": {
      "text/html": [
       "Run data is saved locally in <code>y:\\coskun-lab\\Thomas\\23_PLA_revision\\notebooks\\wandb\\run-20240116_012111-xv45fss1</code>"
      ],
      "text/plain": [
       "<IPython.core.display.HTML object>"
      ]
     },
     "metadata": {},
     "output_type": "display_data"
    },
    {
     "data": {
      "text/html": [
       "Syncing run <strong><a href='https://wandb.ai/thoomas/PLA_01122024_5PPI_3D_Kfold/runs/xv45fss1' target=\"_blank\">GINConv_norm_2_16_onehot_1</a></strong> to <a href='https://wandb.ai/thoomas/PLA_01122024_5PPI_3D_Kfold' target=\"_blank\">Weights & Biases</a> (<a href='https://wandb.me/run' target=\"_blank\">docs</a>)<br/>"
      ],
      "text/plain": [
       "<IPython.core.display.HTML object>"
      ]
     },
     "metadata": {},
     "output_type": "display_data"
    },
    {
     "data": {
      "text/html": [
       " View project at <a href='https://wandb.ai/thoomas/PLA_01122024_5PPI_3D_Kfold' target=\"_blank\">https://wandb.ai/thoomas/PLA_01122024_5PPI_3D_Kfold</a>"
      ],
      "text/plain": [
       "<IPython.core.display.HTML object>"
      ]
     },
     "metadata": {},
     "output_type": "display_data"
    },
    {
     "data": {
      "text/html": [
       " View run at <a href='https://wandb.ai/thoomas/PLA_01122024_5PPI_3D_Kfold/runs/xv45fss1' target=\"_blank\">https://wandb.ai/thoomas/PLA_01122024_5PPI_3D_Kfold/runs/xv45fss1</a>"
      ],
      "text/plain": [
       "<IPython.core.display.HTML object>"
      ]
     },
     "metadata": {},
     "output_type": "display_data"
    },
    {
     "name": "stderr",
     "output_type": "stream",
     "text": [
      "Global seed set to 42\n",
      "GPU available: True (cuda), used: True\n",
      "TPU available: False, using: 0 TPU cores\n",
      "IPU available: False, using: 0 IPUs\n",
      "HPU available: False, using: 0 HPUs\n",
      "Global seed set to 42\n",
      "c:\\Users\\thu71\\AppData\\Local\\anaconda3\\envs\\scanpy\\Lib\\site-packages\\lightning\\pytorch\\callbacks\\model_checkpoint.py:617: UserWarning: Checkpoint directory \\\\bme-retromaster.ad.gatech.edu\\labs5\\coskun-lab\\Thomas\\23_PLA_revision\\data\\OCT Cell Culture\\3D_Whole\\saved_models\\5PPI_3D\\Graph_GNNs_Kfold\\GINConv_norm_2_16_onehot_1\\attention\\GraphLevelGINConv_norm exists and is not empty.\n",
      "  rank_zero_warn(f\"Checkpoint directory {dirpath} exists and is not empty.\")\n",
      "LOCAL_RANK: 0 - CUDA_VISIBLE_DEVICES: [0]\n",
      "\n",
      "   | Name        | Type             | Params\n",
      "--------------------------------------------------\n",
      "0  | x_embedding | Identity         | 0     \n",
      "1  | model       | GIN              | 1.0 K \n",
      "2  | head        | Sequential       | 154   \n",
      "3  | loss_module | CrossEntropyLoss | 0     \n",
      "4  | train_acc   | BinaryAccuracy   | 0     \n",
      "5  | train_auroc | BinaryAUROC      | 0     \n",
      "6  | train_f1    | BinaryF1Score    | 0     \n",
      "7  | valid_acc   | BinaryAccuracy   | 0     \n",
      "8  | valid_auroc | BinaryAUROC      | 0     \n",
      "9  | valid_f1    | BinaryF1Score    | 0     \n",
      "10 | pool        | GlobalAttention  | 17    \n",
      "--------------------------------------------------\n",
      "1.2 K     Trainable params\n",
      "0         Non-trainable params\n",
      "1.2 K     Total params\n",
      "0.005     Total estimated model params size (MB)\n"
     ]
    },
    {
     "name": "stdout",
     "output_type": "stream",
     "text": [
      "GINConv\n"
     ]
    },
    {
     "name": "stderr",
     "output_type": "stream",
     "text": [
      "`Trainer.fit` stopped: `max_epochs=65` reached.\n"
     ]
    },
    {
     "data": {
      "text/html": [
       "Waiting for W&B process to finish... <strong style=\"color:green\">(success).</strong>"
      ],
      "text/plain": [
       "<IPython.core.display.HTML object>"
      ]
     },
     "metadata": {},
     "output_type": "display_data"
    },
    {
     "data": {
      "text/html": [
       "<style>\n",
       "    table.wandb td:nth-child(1) { padding: 0 10px; text-align: left ; width: auto;} td:nth-child(2) {text-align: left ; width: 100%}\n",
       "    .wandb-row { display: flex; flex-direction: row; flex-wrap: wrap; justify-content: flex-start; width: 100% }\n",
       "    .wandb-col { display: flex; flex-direction: column; flex-basis: 100%; flex: 1; padding: 10px; }\n",
       "    </style>\n",
       "<div class=\"wandb-row\"><div class=\"wandb-col\"><h3>Run history:</h3><br/><table class=\"wandb\"><tr><td>epoch</td><td>▁▁▁▂▂▂▂▂▂▃▃▃▃▃▄▄▄▄▄▄▅▅▅▅▅▅▆▆▆▆▆▇▇▇▇▇▇███</td></tr><tr><td>lr-Adam</td><td>▁▁▁▁▁▁▁▁▁▁▁▁▁▁▁▁▁▁▁▁▁▁▁▁▁▁▁▁▁▁▁▁▁▁▁▁▁▁▁▁</td></tr><tr><td>train_acc</td><td>▁▃▆▆▆▆▆▆▇▇▇▇█▇█▇▇▇█▇▇█▇█▇█▇█▇██▇█▇▇█████</td></tr><tr><td>train_auc</td><td>▁▂▆▆▇▇▇▇▇▇▇▇▇▇█▇▇█████▇█████████████████</td></tr><tr><td>train_f1</td><td>▂▁▆▇▆▆▇▇▇▇▇▇█▇█▇▇▇▇▇▇█▆█▇█▇█▇████▇██▇███</td></tr><tr><td>train_loss_epoch</td><td>█▇▄▄▃▃▃▃▃▃▃▂▂▂▂▂▂▂▂▂▂▂▂▂▂▂▂▁▂▁▂▂▁▂▂▁▁▁▁▁</td></tr><tr><td>train_loss_step</td><td>█▇▄▃▄▆▄█▆▅▅▄▂▃▄▃▄▂▄▃▃▇▄▂▄▃▆▂▂▄▄▄▁▂▂▄▃▅▃▃</td></tr><tr><td>trainer/global_step</td><td>▁▁▁▂▂▁▂▂▂▃▂▃▃▂▂▄▄▄▂▂▅▅▂▅▂▆▆▂▆▆▃▃▃▇▇▃▃██▃</td></tr><tr><td>val_acc</td><td>▁▂▆▇▆▇▇▆▇▇▇▆▇▇▆▆▇▆▆▇▇▇▆█▇▆▇▇▇▆▇██▇▇▇█▇▇▇</td></tr><tr><td>val_auc</td><td>▁▅▇▇▇▇▇▇▇▇████████████████▇█████████████</td></tr><tr><td>val_f1</td><td>▁▃██▇██▇█▇▇▇▇█▇▇█▇▇▇██▇█▇▇▇████████▇█▇▇▇</td></tr><tr><td>val_loss_epoch</td><td>█▆▂▂▂▃▂▂▃▂▃▂▁▁▂▂▁▃▃▁▁▂▂▁▁▂▂▁▃▁▁▂▂▂▁▂▃▃▁▂</td></tr><tr><td>val_loss_step</td><td>█▆▄▅▄▄▃▃▅▂▄▄▃▃▅▅▃▇▆▅▂▃▅▃▁▆▆▆▇▂▄▃▃▅▃▅▃▄▅▆</td></tr></table><br/></div><div class=\"wandb-col\"><h3>Run summary:</h3><br/><table class=\"wandb\"><tr><td>epoch</td><td>64</td></tr><tr><td>lr-Adam</td><td>0.005</td></tr><tr><td>train_acc</td><td>0.7884</td></tr><tr><td>train_auc</td><td>0.86168</td></tr><tr><td>train_f1</td><td>0.68458</td></tr><tr><td>train_loss_epoch</td><td>0.4498</td></tr><tr><td>train_loss_step</td><td>0.44156</td></tr><tr><td>trainer/global_step</td><td>649</td></tr><tr><td>val_acc</td><td>0.78683</td></tr><tr><td>val_auc</td><td>0.85365</td></tr><tr><td>val_f1</td><td>0.67925</td></tr><tr><td>val_loss_epoch</td><td>0.46788</td></tr><tr><td>val_loss_step</td><td>0.38082</td></tr></table><br/></div></div>"
      ],
      "text/plain": [
       "<IPython.core.display.HTML object>"
      ]
     },
     "metadata": {},
     "output_type": "display_data"
    },
    {
     "data": {
      "text/html": [
       " View run <strong style=\"color:#cdcd00\">GINConv_norm_2_16_onehot_1</strong> at: <a href='https://wandb.ai/thoomas/PLA_01122024_5PPI_3D_Kfold/runs/xv45fss1' target=\"_blank\">https://wandb.ai/thoomas/PLA_01122024_5PPI_3D_Kfold/runs/xv45fss1</a><br/>Synced 6 W&B file(s), 0 media file(s), 0 artifact file(s) and 0 other file(s)"
      ],
      "text/plain": [
       "<IPython.core.display.HTML object>"
      ]
     },
     "metadata": {},
     "output_type": "display_data"
    },
    {
     "data": {
      "text/html": [
       "Find logs at: <code>.\\wandb\\run-20240116_012111-xv45fss1\\logs</code>"
      ],
      "text/plain": [
       "<IPython.core.display.HTML object>"
      ]
     },
     "metadata": {},
     "output_type": "display_data"
    },
    {
     "data": {
      "text/html": [
       "wandb version 0.16.2 is available!  To upgrade, please run:\n",
       " $ pip install wandb --upgrade"
      ],
      "text/plain": [
       "<IPython.core.display.HTML object>"
      ]
     },
     "metadata": {},
     "output_type": "display_data"
    },
    {
     "data": {
      "text/html": [
       "Tracking run with wandb version 0.15.8"
      ],
      "text/plain": [
       "<IPython.core.display.HTML object>"
      ]
     },
     "metadata": {},
     "output_type": "display_data"
    },
    {
     "data": {
      "text/html": [
       "Run data is saved locally in <code>y:\\coskun-lab\\Thomas\\23_PLA_revision\\notebooks\\wandb\\run-20240116_013553-zrbefuf6</code>"
      ],
      "text/plain": [
       "<IPython.core.display.HTML object>"
      ]
     },
     "metadata": {},
     "output_type": "display_data"
    },
    {
     "data": {
      "text/html": [
       "Syncing run <strong><a href='https://wandb.ai/thoomas/PLA_01122024_5PPI_3D_Kfold/runs/zrbefuf6' target=\"_blank\">MLP_3_32_onehot_2</a></strong> to <a href='https://wandb.ai/thoomas/PLA_01122024_5PPI_3D_Kfold' target=\"_blank\">Weights & Biases</a> (<a href='https://wandb.me/run' target=\"_blank\">docs</a>)<br/>"
      ],
      "text/plain": [
       "<IPython.core.display.HTML object>"
      ]
     },
     "metadata": {},
     "output_type": "display_data"
    },
    {
     "data": {
      "text/html": [
       " View project at <a href='https://wandb.ai/thoomas/PLA_01122024_5PPI_3D_Kfold' target=\"_blank\">https://wandb.ai/thoomas/PLA_01122024_5PPI_3D_Kfold</a>"
      ],
      "text/plain": [
       "<IPython.core.display.HTML object>"
      ]
     },
     "metadata": {},
     "output_type": "display_data"
    },
    {
     "data": {
      "text/html": [
       " View run at <a href='https://wandb.ai/thoomas/PLA_01122024_5PPI_3D_Kfold/runs/zrbefuf6' target=\"_blank\">https://wandb.ai/thoomas/PLA_01122024_5PPI_3D_Kfold/runs/zrbefuf6</a>"
      ],
      "text/plain": [
       "<IPython.core.display.HTML object>"
      ]
     },
     "metadata": {},
     "output_type": "display_data"
    },
    {
     "name": "stderr",
     "output_type": "stream",
     "text": [
      "Global seed set to 42\n",
      "GPU available: True (cuda), used: True\n",
      "TPU available: False, using: 0 TPU cores\n",
      "IPU available: False, using: 0 IPUs\n",
      "HPU available: False, using: 0 HPUs\n",
      "Global seed set to 42\n",
      "c:\\Users\\thu71\\AppData\\Local\\anaconda3\\envs\\scanpy\\Lib\\site-packages\\lightning\\pytorch\\callbacks\\model_checkpoint.py:617: UserWarning: Checkpoint directory \\\\bme-retromaster.ad.gatech.edu\\labs5\\coskun-lab\\Thomas\\23_PLA_revision\\data\\OCT Cell Culture\\3D_Whole\\saved_models\\5PPI_3D\\Graph_GNNs_Kfold\\MLP_3_32_onehot_2\\mean\\GraphLevelMLP exists and is not empty.\n",
      "  rank_zero_warn(f\"Checkpoint directory {dirpath} exists and is not empty.\")\n",
      "LOCAL_RANK: 0 - CUDA_VISIBLE_DEVICES: [0]\n",
      "\n",
      "  | Name        | Type             | Params\n",
      "-------------------------------------------------\n",
      "0 | x_embedding | Identity         | 0     \n",
      "1 | model       | MLPModel         | 2.3 K \n",
      "2 | head        | Sequential       | 562   \n",
      "3 | loss_module | CrossEntropyLoss | 0     \n",
      "4 | train_acc   | BinaryAccuracy   | 0     \n",
      "5 | train_auroc | BinaryAUROC      | 0     \n",
      "6 | train_f1    | BinaryF1Score    | 0     \n",
      "7 | valid_acc   | BinaryAccuracy   | 0     \n",
      "8 | valid_auroc | BinaryAUROC      | 0     \n",
      "9 | valid_f1    | BinaryF1Score    | 0     \n",
      "-------------------------------------------------\n",
      "2.9 K     Trainable params\n",
      "0         Non-trainable params\n",
      "2.9 K     Total params\n",
      "0.011     Total estimated model params size (MB)\n"
     ]
    },
    {
     "name": "stdout",
     "output_type": "stream",
     "text": [
      "Using MLP\n"
     ]
    },
    {
     "name": "stderr",
     "output_type": "stream",
     "text": [
      "`Trainer.fit` stopped: `max_epochs=65` reached.\n"
     ]
    },
    {
     "data": {
      "text/html": [
       "Waiting for W&B process to finish... <strong style=\"color:green\">(success).</strong>"
      ],
      "text/plain": [
       "<IPython.core.display.HTML object>"
      ]
     },
     "metadata": {},
     "output_type": "display_data"
    },
    {
     "data": {
      "text/html": [
       "<style>\n",
       "    table.wandb td:nth-child(1) { padding: 0 10px; text-align: left ; width: auto;} td:nth-child(2) {text-align: left ; width: 100%}\n",
       "    .wandb-row { display: flex; flex-direction: row; flex-wrap: wrap; justify-content: flex-start; width: 100% }\n",
       "    .wandb-col { display: flex; flex-direction: column; flex-basis: 100%; flex: 1; padding: 10px; }\n",
       "    </style>\n",
       "<div class=\"wandb-row\"><div class=\"wandb-col\"><h3>Run history:</h3><br/><table class=\"wandb\"><tr><td>epoch</td><td>▁▁▁▂▂▂▂▂▂▃▃▃▃▃▄▄▄▄▄▄▅▅▅▅▅▅▆▆▆▆▆▇▇▇▇▇▇███</td></tr><tr><td>lr-Adam</td><td>▁▁▁▁▁▁▁▁▁▁▁▁▁▁▁▁▁▁▁▁▁▁▁▁▁▁▁▁▁▁▁▁▁▁▁▁▁▁▁▁</td></tr><tr><td>train_acc</td><td>▁▄▄▄▄▇▇▇█▇▇▇▇▇▇▇▇▇▇▇▇█▇▇▇▇▇█▇▇▇█▇▇█▇█▇▇█</td></tr><tr><td>train_auc</td><td>▁▂▁▁▄▇▇▇█▇▇▇███▇▇▇██▇██▇██▇██████████▇██</td></tr><tr><td>train_f1</td><td>▅▂▁▁▂▇█▇██▇▇████▇▇█▇▇█▇▇▇▇▇█▇█▇█▇██▇█▇▇█</td></tr><tr><td>train_loss_epoch</td><td>█▇▇▆▅▃▂▂▂▂▁▂▂▁▂▂▂▂▂▁▂▁▂▂▂▁▂▂▁▂▂▁▂▁▁▁▁▂▁▁</td></tr><tr><td>train_loss_step</td><td>▆▅▅▅▄▅▂▂▃▂▂▃▁▃▃▆▄▂▁▁▃▃█▂▃▃▃▂▂▁▄▂▃▂▅▃▃▁▁▃</td></tr><tr><td>trainer/global_step</td><td>▁▁▁▂▂▁▂▂▂▃▂▃▃▂▂▄▄▄▂▂▅▅▂▅▂▆▆▂▆▆▃▃▃▇▇▃▃██▃</td></tr><tr><td>val_acc</td><td>▁▁▁▁▂▆▄▄▄▃▇▄▄▆█▄▃▃▄▃█▃▃▃▃▃▇▃▅▃▃▃▃▅▃▄▃█▅▆</td></tr><tr><td>val_auc</td><td>▁▇█▇▇███████████████████████████████████</td></tr><tr><td>val_f1</td><td>▁▁▁▁▃█▆▇▇▆█▇▇▇█▆▇▇▇▇█▇▇▇▇▇█▆▇▆▇▆▇▇▆▇▆█▆▇</td></tr><tr><td>val_loss_epoch</td><td>▇█▇▇▄▄▂▂▂▁▂▂▂▃▂▁▂▂▁▁▂▂▁▂▂▂▃▁▂▁▂▂▂▁▁▂▁▃▁▁</td></tr><tr><td>val_loss_step</td><td>██▆▆▅▅▄▄▃▃▄▃▃▅▃▄▃▃▁▃▄▃▅▄▅▄▃▃▂▄▃▄▄▄▃▃▂▂▃▄</td></tr></table><br/></div><div class=\"wandb-col\"><h3>Run summary:</h3><br/><table class=\"wandb\"><tr><td>epoch</td><td>64</td></tr><tr><td>lr-Adam</td><td>0.005</td></tr><tr><td>train_acc</td><td>0.74295</td></tr><tr><td>train_auc</td><td>0.79404</td></tr><tr><td>train_f1</td><td>0.63146</td></tr><tr><td>train_loss_epoch</td><td>0.53295</td></tr><tr><td>train_loss_step</td><td>0.57883</td></tr><tr><td>trainer/global_step</td><td>649</td></tr><tr><td>val_acc</td><td>0.73041</td></tr><tr><td>val_auc</td><td>0.8052</td></tr><tr><td>val_f1</td><td>0.58252</td></tr><tr><td>val_loss_epoch</td><td>0.49738</td></tr><tr><td>val_loss_step</td><td>0.44048</td></tr></table><br/></div></div>"
      ],
      "text/plain": [
       "<IPython.core.display.HTML object>"
      ]
     },
     "metadata": {},
     "output_type": "display_data"
    },
    {
     "data": {
      "text/html": [
       " View run <strong style=\"color:#cdcd00\">MLP_3_32_onehot_2</strong> at: <a href='https://wandb.ai/thoomas/PLA_01122024_5PPI_3D_Kfold/runs/zrbefuf6' target=\"_blank\">https://wandb.ai/thoomas/PLA_01122024_5PPI_3D_Kfold/runs/zrbefuf6</a><br/>Synced 6 W&B file(s), 0 media file(s), 0 artifact file(s) and 0 other file(s)"
      ],
      "text/plain": [
       "<IPython.core.display.HTML object>"
      ]
     },
     "metadata": {},
     "output_type": "display_data"
    },
    {
     "data": {
      "text/html": [
       "Find logs at: <code>.\\wandb\\run-20240116_013553-zrbefuf6\\logs</code>"
      ],
      "text/plain": [
       "<IPython.core.display.HTML object>"
      ]
     },
     "metadata": {},
     "output_type": "display_data"
    },
    {
     "data": {
      "text/html": [
       "wandb version 0.16.2 is available!  To upgrade, please run:\n",
       " $ pip install wandb --upgrade"
      ],
      "text/plain": [
       "<IPython.core.display.HTML object>"
      ]
     },
     "metadata": {},
     "output_type": "display_data"
    },
    {
     "data": {
      "text/html": [
       "Tracking run with wandb version 0.15.8"
      ],
      "text/plain": [
       "<IPython.core.display.HTML object>"
      ]
     },
     "metadata": {},
     "output_type": "display_data"
    },
    {
     "data": {
      "text/html": [
       "Run data is saved locally in <code>y:\\coskun-lab\\Thomas\\23_PLA_revision\\notebooks\\wandb\\run-20240116_014829-qp39n28d</code>"
      ],
      "text/plain": [
       "<IPython.core.display.HTML object>"
      ]
     },
     "metadata": {},
     "output_type": "display_data"
    },
    {
     "data": {
      "text/html": [
       "Syncing run <strong><a href='https://wandb.ai/thoomas/PLA_01122024_5PPI_3D_Kfold/runs/qp39n28d' target=\"_blank\">GraphConv_3_32_onehot_2</a></strong> to <a href='https://wandb.ai/thoomas/PLA_01122024_5PPI_3D_Kfold' target=\"_blank\">Weights & Biases</a> (<a href='https://wandb.me/run' target=\"_blank\">docs</a>)<br/>"
      ],
      "text/plain": [
       "<IPython.core.display.HTML object>"
      ]
     },
     "metadata": {},
     "output_type": "display_data"
    },
    {
     "data": {
      "text/html": [
       " View project at <a href='https://wandb.ai/thoomas/PLA_01122024_5PPI_3D_Kfold' target=\"_blank\">https://wandb.ai/thoomas/PLA_01122024_5PPI_3D_Kfold</a>"
      ],
      "text/plain": [
       "<IPython.core.display.HTML object>"
      ]
     },
     "metadata": {},
     "output_type": "display_data"
    },
    {
     "data": {
      "text/html": [
       " View run at <a href='https://wandb.ai/thoomas/PLA_01122024_5PPI_3D_Kfold/runs/qp39n28d' target=\"_blank\">https://wandb.ai/thoomas/PLA_01122024_5PPI_3D_Kfold/runs/qp39n28d</a>"
      ],
      "text/plain": [
       "<IPython.core.display.HTML object>"
      ]
     },
     "metadata": {},
     "output_type": "display_data"
    },
    {
     "name": "stderr",
     "output_type": "stream",
     "text": [
      "Global seed set to 42\n",
      "GPU available: True (cuda), used: True\n",
      "TPU available: False, using: 0 TPU cores\n",
      "IPU available: False, using: 0 IPUs\n",
      "HPU available: False, using: 0 HPUs\n",
      "Global seed set to 42\n",
      "c:\\Users\\thu71\\AppData\\Local\\anaconda3\\envs\\scanpy\\Lib\\site-packages\\lightning\\pytorch\\callbacks\\model_checkpoint.py:617: UserWarning: Checkpoint directory \\\\bme-retromaster.ad.gatech.edu\\labs5\\coskun-lab\\Thomas\\23_PLA_revision\\data\\OCT Cell Culture\\3D_Whole\\saved_models\\5PPI_3D\\Graph_GNNs_Kfold\\GraphConv_3_32_onehot_2\\attention2\\GraphLevelGraphConv exists and is not empty.\n",
      "  rank_zero_warn(f\"Checkpoint directory {dirpath} exists and is not empty.\")\n",
      "LOCAL_RANK: 0 - CUDA_VISIBLE_DEVICES: [0]\n",
      "\n",
      "   | Name        | Type             | Params\n",
      "--------------------------------------------------\n",
      "0  | x_embedding | Identity         | 0     \n",
      "1  | model       | GNNModel         | 4.6 K \n",
      "2  | head        | Sequential       | 562   \n",
      "3  | loss_module | CrossEntropyLoss | 0     \n",
      "4  | train_acc   | BinaryAccuracy   | 0     \n",
      "5  | train_auroc | BinaryAUROC      | 0     \n",
      "6  | train_f1    | BinaryF1Score    | 0     \n",
      "7  | valid_acc   | BinaryAccuracy   | 0     \n",
      "8  | valid_auroc | BinaryAUROC      | 0     \n",
      "9  | valid_f1    | BinaryF1Score    | 0     \n",
      "10 | pool        | Attention_module | 1.1 K \n",
      "--------------------------------------------------\n",
      "6.3 K     Trainable params\n",
      "0         Non-trainable params\n",
      "6.3 K     Total params\n",
      "0.025     Total estimated model params size (MB)\n"
     ]
    },
    {
     "name": "stdout",
     "output_type": "stream",
     "text": [
      "Using GNN\n"
     ]
    },
    {
     "name": "stderr",
     "output_type": "stream",
     "text": [
      "`Trainer.fit` stopped: `max_epochs=65` reached.\n"
     ]
    },
    {
     "data": {
      "text/html": [
       "Waiting for W&B process to finish... <strong style=\"color:green\">(success).</strong>"
      ],
      "text/plain": [
       "<IPython.core.display.HTML object>"
      ]
     },
     "metadata": {},
     "output_type": "display_data"
    },
    {
     "data": {
      "application/vnd.jupyter.widget-view+json": {
       "model_id": "e45969722867487aba640497a607c0c6",
       "version_major": 2,
       "version_minor": 0
      },
      "text/plain": [
       "VBox(children=(Label(value='0.001 MB of 0.001 MB uploaded (0.000 MB deduped)\\r'), FloatProgress(value=1.0, max…"
      ]
     },
     "metadata": {},
     "output_type": "display_data"
    },
    {
     "data": {
      "text/html": [
       "<style>\n",
       "    table.wandb td:nth-child(1) { padding: 0 10px; text-align: left ; width: auto;} td:nth-child(2) {text-align: left ; width: 100%}\n",
       "    .wandb-row { display: flex; flex-direction: row; flex-wrap: wrap; justify-content: flex-start; width: 100% }\n",
       "    .wandb-col { display: flex; flex-direction: column; flex-basis: 100%; flex: 1; padding: 10px; }\n",
       "    </style>\n",
       "<div class=\"wandb-row\"><div class=\"wandb-col\"><h3>Run history:</h3><br/><table class=\"wandb\"><tr><td>epoch</td><td>▁▁▁▂▂▂▂▂▂▃▃▃▃▃▄▄▄▄▄▄▅▅▅▅▅▅▆▆▆▆▆▇▇▇▇▇▇███</td></tr><tr><td>lr-Adam</td><td>▁▁▁▁▁▁▁▁▁▁▁▁▁▁▁▁▁▁▁▁▁▁▁▁▁▁▁▁▁▁▁▁▁▁▁▁▁▁▁▁</td></tr><tr><td>train_acc</td><td>▁▃▆▆▆▆▇▆▆▇▇▇▇▇▇▇▇▇▇██▇█▇█▇█▇█▇██▇█▇█████</td></tr><tr><td>train_auc</td><td>▁▅▆▇▆▇▇▆▇▇▇▇▇▇▇▇▇▇██▇▇█▇███▇█▇████▇▇██▇█</td></tr><tr><td>train_f1</td><td>▁▃▆▆▇▇▇▇▇▇▇▇▇▇█▇▇▇▇████▇██▇██▇████▇█████</td></tr><tr><td>train_loss_epoch</td><td>█▆▅▄▃▃▃▄▃▂▂▂▂▂▂▂▂▂▁▁▂▂▂▂▂▁▁▂▂▂▁▂▂▁▂▂▁▁▂▁</td></tr><tr><td>train_loss_step</td><td>█▇▃▆▄▄▅▄▅▃▄▄▅▃▅▅▇▄▅▄▃▂▁▃▂▃▂▄▄▂▄▅▄▅▄▃▃▄▅▄</td></tr><tr><td>trainer/global_step</td><td>▁▁▁▂▂▁▂▂▂▃▂▃▃▂▂▄▄▄▂▂▅▅▂▅▂▆▆▂▆▆▃▃▃▇▇▃▃██▃</td></tr><tr><td>val_acc</td><td>▄▁▄▆▆▆▇▁▅▇▆▄▅▇▇▇▇▇▇▇▇▇▇▇▇▇▃▇█▆▆▃▇▇▆▇▇▇▆▇</td></tr><tr><td>val_auc</td><td>▁▂▇▇█▇█▆▇▇▇▆▇█▇▇▇▇▇▇▇▇▇█▇▇▇▇▇██▇█▇▇▇▇▆▇▇</td></tr><tr><td>val_f1</td><td>▁▇▇██▇█▇███▇██████████████▇████▇████████</td></tr><tr><td>val_loss_epoch</td><td>▇█▅▃▃▃▂▇▅▃▃▆▅▂▁▁▂▃▃▂▂▁▂▂▂▂▇▂▁▃▃▇▂▃▃▂▂▂▂▂</td></tr><tr><td>val_loss_step</td><td>▆▇▆▃▃▄▄█▅▂▅▅▄▃▃▄▃▅▆▁▆▂▃▃▄▄▁▆▂▁▅▄▂▃▂▃▃▂▃▁</td></tr></table><br/></div><div class=\"wandb-col\"><h3>Run summary:</h3><br/><table class=\"wandb\"><tr><td>epoch</td><td>64</td></tr><tr><td>lr-Adam</td><td>0.005</td></tr><tr><td>train_acc</td><td>0.82524</td></tr><tr><td>train_auc</td><td>0.89315</td></tr><tr><td>train_f1</td><td>0.77314</td></tr><tr><td>train_loss_epoch</td><td>0.40605</td></tr><tr><td>train_loss_step</td><td>0.42228</td></tr><tr><td>trainer/global_step</td><td>649</td></tr><tr><td>val_acc</td><td>0.79624</td></tr><tr><td>val_auc</td><td>0.85931</td></tr><tr><td>val_f1</td><td>0.689</td></tr><tr><td>val_loss_epoch</td><td>0.45693</td></tr><tr><td>val_loss_step</td><td>0.51534</td></tr></table><br/></div></div>"
      ],
      "text/plain": [
       "<IPython.core.display.HTML object>"
      ]
     },
     "metadata": {},
     "output_type": "display_data"
    },
    {
     "data": {
      "text/html": [
       " View run <strong style=\"color:#cdcd00\">GraphConv_3_32_onehot_2</strong> at: <a href='https://wandb.ai/thoomas/PLA_01122024_5PPI_3D_Kfold/runs/qp39n28d' target=\"_blank\">https://wandb.ai/thoomas/PLA_01122024_5PPI_3D_Kfold/runs/qp39n28d</a><br/>Synced 6 W&B file(s), 0 media file(s), 0 artifact file(s) and 0 other file(s)"
      ],
      "text/plain": [
       "<IPython.core.display.HTML object>"
      ]
     },
     "metadata": {},
     "output_type": "display_data"
    },
    {
     "data": {
      "text/html": [
       "Find logs at: <code>.\\wandb\\run-20240116_014829-qp39n28d\\logs</code>"
      ],
      "text/plain": [
       "<IPython.core.display.HTML object>"
      ]
     },
     "metadata": {},
     "output_type": "display_data"
    },
    {
     "data": {
      "application/vnd.jupyter.widget-view+json": {
       "model_id": "08d160be14db4ed384804a406b78ba74",
       "version_major": 2,
       "version_minor": 0
      },
      "text/plain": [
       "VBox(children=(Label(value='Waiting for wandb.init()...\\r'), FloatProgress(value=0.016666666666666666, max=1.0…"
      ]
     },
     "metadata": {},
     "output_type": "display_data"
    },
    {
     "data": {
      "text/html": [
       "wandb version 0.16.2 is available!  To upgrade, please run:\n",
       " $ pip install wandb --upgrade"
      ],
      "text/plain": [
       "<IPython.core.display.HTML object>"
      ]
     },
     "metadata": {},
     "output_type": "display_data"
    },
    {
     "data": {
      "text/html": [
       "Tracking run with wandb version 0.15.8"
      ],
      "text/plain": [
       "<IPython.core.display.HTML object>"
      ]
     },
     "metadata": {},
     "output_type": "display_data"
    },
    {
     "data": {
      "text/html": [
       "Run data is saved locally in <code>y:\\coskun-lab\\Thomas\\23_PLA_revision\\notebooks\\wandb\\run-20240116_020142-7gh99b6e</code>"
      ],
      "text/plain": [
       "<IPython.core.display.HTML object>"
      ]
     },
     "metadata": {},
     "output_type": "display_data"
    },
    {
     "data": {
      "text/html": [
       "Syncing run <strong><a href='https://wandb.ai/thoomas/PLA_01122024_5PPI_3D_Kfold/runs/7gh99b6e' target=\"_blank\">GCN_2_64_onehot_2</a></strong> to <a href='https://wandb.ai/thoomas/PLA_01122024_5PPI_3D_Kfold' target=\"_blank\">Weights & Biases</a> (<a href='https://wandb.me/run' target=\"_blank\">docs</a>)<br/>"
      ],
      "text/plain": [
       "<IPython.core.display.HTML object>"
      ]
     },
     "metadata": {},
     "output_type": "display_data"
    },
    {
     "data": {
      "text/html": [
       " View project at <a href='https://wandb.ai/thoomas/PLA_01122024_5PPI_3D_Kfold' target=\"_blank\">https://wandb.ai/thoomas/PLA_01122024_5PPI_3D_Kfold</a>"
      ],
      "text/plain": [
       "<IPython.core.display.HTML object>"
      ]
     },
     "metadata": {},
     "output_type": "display_data"
    },
    {
     "data": {
      "text/html": [
       " View run at <a href='https://wandb.ai/thoomas/PLA_01122024_5PPI_3D_Kfold/runs/7gh99b6e' target=\"_blank\">https://wandb.ai/thoomas/PLA_01122024_5PPI_3D_Kfold/runs/7gh99b6e</a>"
      ],
      "text/plain": [
       "<IPython.core.display.HTML object>"
      ]
     },
     "metadata": {},
     "output_type": "display_data"
    },
    {
     "name": "stderr",
     "output_type": "stream",
     "text": [
      "Global seed set to 42\n",
      "GPU available: True (cuda), used: True\n",
      "TPU available: False, using: 0 TPU cores\n",
      "IPU available: False, using: 0 IPUs\n",
      "HPU available: False, using: 0 HPUs\n",
      "Global seed set to 42\n",
      "c:\\Users\\thu71\\AppData\\Local\\anaconda3\\envs\\scanpy\\Lib\\site-packages\\lightning\\pytorch\\callbacks\\model_checkpoint.py:617: UserWarning: Checkpoint directory \\\\bme-retromaster.ad.gatech.edu\\labs5\\coskun-lab\\Thomas\\23_PLA_revision\\data\\OCT Cell Culture\\3D_Whole\\saved_models\\5PPI_3D\\Graph_GNNs_Kfold\\GCN_2_64_onehot_2\\attention2\\GraphLevelGCN exists and is not empty.\n",
      "  rank_zero_warn(f\"Checkpoint directory {dirpath} exists and is not empty.\")\n",
      "LOCAL_RANK: 0 - CUDA_VISIBLE_DEVICES: [0]\n",
      "\n",
      "   | Name        | Type             | Params\n",
      "--------------------------------------------------\n",
      "0  | x_embedding | Identity         | 0     \n",
      "1  | model       | GNNModel         | 4.7 K \n",
      "2  | head        | Sequential       | 2.1 K \n",
      "3  | loss_module | CrossEntropyLoss | 0     \n",
      "4  | train_acc   | BinaryAccuracy   | 0     \n",
      "5  | train_auroc | BinaryAUROC      | 0     \n",
      "6  | train_f1    | BinaryF1Score    | 0     \n",
      "7  | valid_acc   | BinaryAccuracy   | 0     \n",
      "8  | valid_auroc | BinaryAUROC      | 0     \n",
      "9  | valid_f1    | BinaryF1Score    | 0     \n",
      "10 | pool        | Attention_module | 4.2 K \n",
      "--------------------------------------------------\n",
      "11.0 K    Trainable params\n",
      "0         Non-trainable params\n",
      "11.0 K    Total params\n",
      "0.044     Total estimated model params size (MB)\n"
     ]
    },
    {
     "name": "stdout",
     "output_type": "stream",
     "text": [
      "Using GNN\n"
     ]
    },
    {
     "name": "stderr",
     "output_type": "stream",
     "text": [
      "`Trainer.fit` stopped: `max_epochs=65` reached.\n"
     ]
    },
    {
     "data": {
      "text/html": [
       "Waiting for W&B process to finish... <strong style=\"color:green\">(success).</strong>"
      ],
      "text/plain": [
       "<IPython.core.display.HTML object>"
      ]
     },
     "metadata": {},
     "output_type": "display_data"
    },
    {
     "data": {
      "text/html": [
       "<style>\n",
       "    table.wandb td:nth-child(1) { padding: 0 10px; text-align: left ; width: auto;} td:nth-child(2) {text-align: left ; width: 100%}\n",
       "    .wandb-row { display: flex; flex-direction: row; flex-wrap: wrap; justify-content: flex-start; width: 100% }\n",
       "    .wandb-col { display: flex; flex-direction: column; flex-basis: 100%; flex: 1; padding: 10px; }\n",
       "    </style>\n",
       "<div class=\"wandb-row\"><div class=\"wandb-col\"><h3>Run history:</h3><br/><table class=\"wandb\"><tr><td>epoch</td><td>▁▁▁▂▂▂▂▂▂▃▃▃▃▃▄▄▄▄▄▄▅▅▅▅▅▅▆▆▆▆▆▇▇▇▇▇▇███</td></tr><tr><td>lr-Adam</td><td>▁▁▁▁▁▁▁▁▁▁▁▁▁▁▁▁▁▁▁▁▁▁▁▁▁▁▁▁▁▁▁▁▁▁▁▁▁▁▁▁</td></tr><tr><td>train_acc</td><td>▁▅▇▇█▇▇▇▇███████████▇██████▇███████▇███▇</td></tr><tr><td>train_auc</td><td>▁▅▇▇██▇█▇███████▇███▇█▇███▇▇███████████▇</td></tr><tr><td>train_f1</td><td>▁▅▇▇▇▇▇▇▇▇▇▇██▇▇▇███▇█▇█▇█▇▇▇██▇██▇▇███▇</td></tr><tr><td>train_loss_epoch</td><td>█▄▂▂▁▁▂▂▂▁▁▂▂▂▁▁▂▁▁▂▂▁▂▁▁▁▂▂▁▂▁▂▁▂▁▂▁▂▁▁</td></tr><tr><td>train_loss_step</td><td>█▃▄▃▄▃▇▅▄▃▇▃▃▄█▆▃▃▅▇█▄▅▃▄▃▇█▄▄▅▃▁▄▂▅▃▅▄▃</td></tr><tr><td>trainer/global_step</td><td>▁▁▁▂▂▁▂▂▂▃▂▃▃▂▂▄▄▄▂▂▅▅▂▅▂▆▆▂▆▆▃▃▃▇▇▃▃██▃</td></tr><tr><td>val_acc</td><td>▁▃▄▅▇▇▆▇▇▇▂▅▇█▅█▇▇▇▄▇▇█▇▇▆▇▆▆▇▇█▇▆█▇▆█▆▇</td></tr><tr><td>val_auc</td><td>▁▅▅▆▇█▇▇▇█▇▇██▇██▇▇█▇████▇▇▇▇█▇█▇▇█▇████</td></tr><tr><td>val_f1</td><td>▄▅▂▁▆▄▆▇▇▅▅▆▅▇▇█▇▇▇▆▆▇█▅▇▄▅▇▆▇▆▇▇▅█▇▃█▄▇</td></tr><tr><td>val_loss_epoch</td><td>█▇▃▂▂▂▂▂▂▂▅▄▂▂▃▂▂▂▂▃▂▂▂▁▂▁▂▂▂▂▁▁▂▂▁▁▁▂▁▂</td></tr><tr><td>val_loss_step</td><td>█▇▄▅▄▂▂▃▃▂▆▃▄▅▄▃▃▄▄▅▃▂▃▂▃▃▃▃▂▆▄▃▂▃▂▁▂▄▃▃</td></tr></table><br/></div><div class=\"wandb-col\"><h3>Run summary:</h3><br/><table class=\"wandb\"><tr><td>epoch</td><td>64</td></tr><tr><td>lr-Adam</td><td>0.005</td></tr><tr><td>train_acc</td><td>0.79781</td></tr><tr><td>train_auc</td><td>0.85937</td></tr><tr><td>train_f1</td><td>0.71957</td></tr><tr><td>train_loss_epoch</td><td>0.45747</td></tr><tr><td>train_loss_step</td><td>0.41038</td></tr><tr><td>trainer/global_step</td><td>649</td></tr><tr><td>val_acc</td><td>0.83072</td></tr><tr><td>val_auc</td><td>0.87672</td></tr><tr><td>val_f1</td><td>0.71875</td></tr><tr><td>val_loss_epoch</td><td>0.41197</td></tr><tr><td>val_loss_step</td><td>0.42059</td></tr></table><br/></div></div>"
      ],
      "text/plain": [
       "<IPython.core.display.HTML object>"
      ]
     },
     "metadata": {},
     "output_type": "display_data"
    },
    {
     "data": {
      "text/html": [
       " View run <strong style=\"color:#cdcd00\">GCN_2_64_onehot_2</strong> at: <a href='https://wandb.ai/thoomas/PLA_01122024_5PPI_3D_Kfold/runs/7gh99b6e' target=\"_blank\">https://wandb.ai/thoomas/PLA_01122024_5PPI_3D_Kfold/runs/7gh99b6e</a><br/>Synced 6 W&B file(s), 0 media file(s), 0 artifact file(s) and 0 other file(s)"
      ],
      "text/plain": [
       "<IPython.core.display.HTML object>"
      ]
     },
     "metadata": {},
     "output_type": "display_data"
    },
    {
     "data": {
      "text/html": [
       "Find logs at: <code>.\\wandb\\run-20240116_020142-7gh99b6e\\logs</code>"
      ],
      "text/plain": [
       "<IPython.core.display.HTML object>"
      ]
     },
     "metadata": {},
     "output_type": "display_data"
    },
    {
     "data": {
      "text/html": [
       "wandb version 0.16.2 is available!  To upgrade, please run:\n",
       " $ pip install wandb --upgrade"
      ],
      "text/plain": [
       "<IPython.core.display.HTML object>"
      ]
     },
     "metadata": {},
     "output_type": "display_data"
    },
    {
     "data": {
      "text/html": [
       "Tracking run with wandb version 0.15.8"
      ],
      "text/plain": [
       "<IPython.core.display.HTML object>"
      ]
     },
     "metadata": {},
     "output_type": "display_data"
    },
    {
     "data": {
      "text/html": [
       "Run data is saved locally in <code>y:\\coskun-lab\\Thomas\\23_PLA_revision\\notebooks\\wandb\\run-20240116_021504-ysi3jekk</code>"
      ],
      "text/plain": [
       "<IPython.core.display.HTML object>"
      ]
     },
     "metadata": {},
     "output_type": "display_data"
    },
    {
     "data": {
      "text/html": [
       "Syncing run <strong><a href='https://wandb.ai/thoomas/PLA_01122024_5PPI_3D_Kfold/runs/ysi3jekk' target=\"_blank\">GAT_norm_3_64_onehot_2</a></strong> to <a href='https://wandb.ai/thoomas/PLA_01122024_5PPI_3D_Kfold' target=\"_blank\">Weights & Biases</a> (<a href='https://wandb.me/run' target=\"_blank\">docs</a>)<br/>"
      ],
      "text/plain": [
       "<IPython.core.display.HTML object>"
      ]
     },
     "metadata": {},
     "output_type": "display_data"
    },
    {
     "data": {
      "text/html": [
       " View project at <a href='https://wandb.ai/thoomas/PLA_01122024_5PPI_3D_Kfold' target=\"_blank\">https://wandb.ai/thoomas/PLA_01122024_5PPI_3D_Kfold</a>"
      ],
      "text/plain": [
       "<IPython.core.display.HTML object>"
      ]
     },
     "metadata": {},
     "output_type": "display_data"
    },
    {
     "data": {
      "text/html": [
       " View run at <a href='https://wandb.ai/thoomas/PLA_01122024_5PPI_3D_Kfold/runs/ysi3jekk' target=\"_blank\">https://wandb.ai/thoomas/PLA_01122024_5PPI_3D_Kfold/runs/ysi3jekk</a>"
      ],
      "text/plain": [
       "<IPython.core.display.HTML object>"
      ]
     },
     "metadata": {},
     "output_type": "display_data"
    },
    {
     "name": "stderr",
     "output_type": "stream",
     "text": [
      "Global seed set to 42\n",
      "GPU available: True (cuda), used: True\n",
      "TPU available: False, using: 0 TPU cores\n",
      "IPU available: False, using: 0 IPUs\n",
      "HPU available: False, using: 0 HPUs\n",
      "Global seed set to 42\n",
      "c:\\Users\\thu71\\AppData\\Local\\anaconda3\\envs\\scanpy\\Lib\\site-packages\\lightning\\pytorch\\callbacks\\model_checkpoint.py:617: UserWarning: Checkpoint directory \\\\bme-retromaster.ad.gatech.edu\\labs5\\coskun-lab\\Thomas\\23_PLA_revision\\data\\OCT Cell Culture\\3D_Whole\\saved_models\\5PPI_3D\\Graph_GNNs_Kfold\\GAT_norm_3_64_onehot_2\\attention\\GraphLevelGAT_norm exists and is not empty.\n",
      "  rank_zero_warn(f\"Checkpoint directory {dirpath} exists and is not empty.\")\n",
      "LOCAL_RANK: 0 - CUDA_VISIBLE_DEVICES: [0]\n",
      "\n",
      "   | Name        | Type             | Params\n",
      "--------------------------------------------------\n",
      "0  | x_embedding | Identity         | 0     \n",
      "1  | model       | GAT              | 78.0 K\n",
      "2  | head        | Sequential       | 2.1 K \n",
      "3  | loss_module | CrossEntropyLoss | 0     \n",
      "4  | train_acc   | BinaryAccuracy   | 0     \n",
      "5  | train_auroc | BinaryAUROC      | 0     \n",
      "6  | train_f1    | BinaryF1Score    | 0     \n",
      "7  | valid_acc   | BinaryAccuracy   | 0     \n",
      "8  | valid_auroc | BinaryAUROC      | 0     \n",
      "9  | valid_f1    | BinaryF1Score    | 0     \n",
      "10 | pool        | GlobalAttention  | 65    \n",
      "--------------------------------------------------\n",
      "80.2 K    Trainable params\n",
      "0         Non-trainable params\n",
      "80.2 K    Total params\n",
      "0.321     Total estimated model params size (MB)\n"
     ]
    },
    {
     "name": "stdout",
     "output_type": "stream",
     "text": [
      "Using GAT\n"
     ]
    },
    {
     "name": "stderr",
     "output_type": "stream",
     "text": [
      "`Trainer.fit` stopped: `max_epochs=65` reached.\n"
     ]
    },
    {
     "data": {
      "text/html": [
       "Waiting for W&B process to finish... <strong style=\"color:green\">(success).</strong>"
      ],
      "text/plain": [
       "<IPython.core.display.HTML object>"
      ]
     },
     "metadata": {},
     "output_type": "display_data"
    },
    {
     "data": {
      "text/html": [
       "<style>\n",
       "    table.wandb td:nth-child(1) { padding: 0 10px; text-align: left ; width: auto;} td:nth-child(2) {text-align: left ; width: 100%}\n",
       "    .wandb-row { display: flex; flex-direction: row; flex-wrap: wrap; justify-content: flex-start; width: 100% }\n",
       "    .wandb-col { display: flex; flex-direction: column; flex-basis: 100%; flex: 1; padding: 10px; }\n",
       "    </style>\n",
       "<div class=\"wandb-row\"><div class=\"wandb-col\"><h3>Run history:</h3><br/><table class=\"wandb\"><tr><td>epoch</td><td>▁▁▁▂▂▂▂▂▂▃▃▃▃▃▄▄▄▄▄▄▅▅▅▅▅▅▆▆▆▆▆▇▇▇▇▇▇███</td></tr><tr><td>lr-Adam</td><td>▁▁▁▁▁▁▁▁▁▁▁▁▁▁▁▁▁▁▁▁▁▁▁▁▁▁▁▁▁▁▁▁▁▁▁▁▁▁▁▁</td></tr><tr><td>train_acc</td><td>▁▅▅▆▆▆▇▆▇▇▇▆▇▇▇▇▇▇▆▇▇▇▇▇▇▇▇▇▇▇▇▇▇▇▇▇█▇▇▇</td></tr><tr><td>train_auc</td><td>▁▅▆▇▇▇▇▇▇▇▇▇▇▇▇█▇▇▇▇██▇██▇█▇██▇█████████</td></tr><tr><td>train_f1</td><td>▁▇▇▇▇▇▇▇█▇█▇█▇█████▇█▇██████▇███▇███████</td></tr><tr><td>train_loss_epoch</td><td>█▆▄▄▃▃▂▃▂▂▂▂▂▃▂▁▂▂▂▂▂▂▂▂▂▂▂▂▁▂▂▂▁▂▁▁▁▁▂▁</td></tr><tr><td>train_loss_step</td><td>▇█▄█▆▁▃▄▁▄▃▆▃▃▃▄▆▅▃▃▃▄▄▃▆▄▂▃▁▄▄▃▃▅▄▄▅▃▄▄</td></tr><tr><td>trainer/global_step</td><td>▁▁▁▂▂▁▂▂▂▃▂▃▃▂▂▄▄▄▂▂▅▅▂▅▂▆▆▂▆▆▃▃▃▇▇▃▃██▃</td></tr><tr><td>val_acc</td><td>▃▃▆▃▄▇▄▇▄▅▆▂▂▁▅▃█▆█▃█▆▃▆▅▆█▇▄▆▇█▆▄▃▁▇▄▆▇</td></tr><tr><td>val_auc</td><td>▁▃▅▆▇▆▇▆█▇▇▇▆▇▇▇██▇▇▇▇▇█▇▇█▇█▇█▇██▇▇██▇█</td></tr><tr><td>val_f1</td><td>▁▅▇▇██████▇█▇▇█████▇██▇███████████▇▇████</td></tr><tr><td>val_loss_epoch</td><td>▇▆▃▅▅▂▄▂▄▃▁▆▅▆▃▅▁▃▂▆▁▂▄▃▂▃▁▃▆▃▃▂▅▄█▇▄▅▃▂</td></tr><tr><td>val_loss_step</td><td>▆▆▄▄▅▄▅▃▄▃▂▆▅▄▅▅▅▄▄▆▄▄▅▅▁▅▃▄█▃▂▃▄▅▇▃▃▆▃▃</td></tr></table><br/></div><div class=\"wandb-col\"><h3>Run summary:</h3><br/><table class=\"wandb\"><tr><td>epoch</td><td>64</td></tr><tr><td>lr-Adam</td><td>0.005</td></tr><tr><td>train_acc</td><td>0.76332</td></tr><tr><td>train_auc</td><td>0.83081</td></tr><tr><td>train_f1</td><td>0.68802</td></tr><tr><td>train_loss_epoch</td><td>0.48988</td></tr><tr><td>train_loss_step</td><td>0.50931</td></tr><tr><td>trainer/global_step</td><td>649</td></tr><tr><td>val_acc</td><td>0.75235</td></tr><tr><td>val_auc</td><td>0.81887</td></tr><tr><td>val_f1</td><td>0.64253</td></tr><tr><td>val_loss_epoch</td><td>0.49684</td></tr><tr><td>val_loss_step</td><td>0.47873</td></tr></table><br/></div></div>"
      ],
      "text/plain": [
       "<IPython.core.display.HTML object>"
      ]
     },
     "metadata": {},
     "output_type": "display_data"
    },
    {
     "data": {
      "text/html": [
       " View run <strong style=\"color:#cdcd00\">GAT_norm_3_64_onehot_2</strong> at: <a href='https://wandb.ai/thoomas/PLA_01122024_5PPI_3D_Kfold/runs/ysi3jekk' target=\"_blank\">https://wandb.ai/thoomas/PLA_01122024_5PPI_3D_Kfold/runs/ysi3jekk</a><br/>Synced 6 W&B file(s), 0 media file(s), 0 artifact file(s) and 0 other file(s)"
      ],
      "text/plain": [
       "<IPython.core.display.HTML object>"
      ]
     },
     "metadata": {},
     "output_type": "display_data"
    },
    {
     "data": {
      "text/html": [
       "Find logs at: <code>.\\wandb\\run-20240116_021504-ysi3jekk\\logs</code>"
      ],
      "text/plain": [
       "<IPython.core.display.HTML object>"
      ]
     },
     "metadata": {},
     "output_type": "display_data"
    },
    {
     "data": {
      "application/vnd.jupyter.widget-view+json": {
       "model_id": "cd079822d32d4a74a74e0cb750ef208b",
       "version_major": 2,
       "version_minor": 0
      },
      "text/plain": [
       "VBox(children=(Label(value='Waiting for wandb.init()...\\r'), FloatProgress(value=0.016666666666666666, max=1.0…"
      ]
     },
     "metadata": {},
     "output_type": "display_data"
    },
    {
     "data": {
      "text/html": [
       "wandb version 0.16.2 is available!  To upgrade, please run:\n",
       " $ pip install wandb --upgrade"
      ],
      "text/plain": [
       "<IPython.core.display.HTML object>"
      ]
     },
     "metadata": {},
     "output_type": "display_data"
    },
    {
     "data": {
      "text/html": [
       "Tracking run with wandb version 0.15.8"
      ],
      "text/plain": [
       "<IPython.core.display.HTML object>"
      ]
     },
     "metadata": {},
     "output_type": "display_data"
    },
    {
     "data": {
      "text/html": [
       "Run data is saved locally in <code>y:\\coskun-lab\\Thomas\\23_PLA_revision\\notebooks\\wandb\\run-20240116_022747-tgv4qpe4</code>"
      ],
      "text/plain": [
       "<IPython.core.display.HTML object>"
      ]
     },
     "metadata": {},
     "output_type": "display_data"
    },
    {
     "data": {
      "text/html": [
       "Syncing run <strong><a href='https://wandb.ai/thoomas/PLA_01122024_5PPI_3D_Kfold/runs/tgv4qpe4' target=\"_blank\">GINConv_norm_2_16_onehot_2</a></strong> to <a href='https://wandb.ai/thoomas/PLA_01122024_5PPI_3D_Kfold' target=\"_blank\">Weights & Biases</a> (<a href='https://wandb.me/run' target=\"_blank\">docs</a>)<br/>"
      ],
      "text/plain": [
       "<IPython.core.display.HTML object>"
      ]
     },
     "metadata": {},
     "output_type": "display_data"
    },
    {
     "data": {
      "text/html": [
       " View project at <a href='https://wandb.ai/thoomas/PLA_01122024_5PPI_3D_Kfold' target=\"_blank\">https://wandb.ai/thoomas/PLA_01122024_5PPI_3D_Kfold</a>"
      ],
      "text/plain": [
       "<IPython.core.display.HTML object>"
      ]
     },
     "metadata": {},
     "output_type": "display_data"
    },
    {
     "data": {
      "text/html": [
       " View run at <a href='https://wandb.ai/thoomas/PLA_01122024_5PPI_3D_Kfold/runs/tgv4qpe4' target=\"_blank\">https://wandb.ai/thoomas/PLA_01122024_5PPI_3D_Kfold/runs/tgv4qpe4</a>"
      ],
      "text/plain": [
       "<IPython.core.display.HTML object>"
      ]
     },
     "metadata": {},
     "output_type": "display_data"
    },
    {
     "name": "stderr",
     "output_type": "stream",
     "text": [
      "Global seed set to 42\n",
      "GPU available: True (cuda), used: True\n",
      "TPU available: False, using: 0 TPU cores\n",
      "IPU available: False, using: 0 IPUs\n",
      "HPU available: False, using: 0 HPUs\n",
      "Global seed set to 42\n",
      "c:\\Users\\thu71\\AppData\\Local\\anaconda3\\envs\\scanpy\\Lib\\site-packages\\lightning\\pytorch\\callbacks\\model_checkpoint.py:617: UserWarning: Checkpoint directory \\\\bme-retromaster.ad.gatech.edu\\labs5\\coskun-lab\\Thomas\\23_PLA_revision\\data\\OCT Cell Culture\\3D_Whole\\saved_models\\5PPI_3D\\Graph_GNNs_Kfold\\GINConv_norm_2_16_onehot_2\\attention\\GraphLevelGINConv_norm exists and is not empty.\n",
      "  rank_zero_warn(f\"Checkpoint directory {dirpath} exists and is not empty.\")\n",
      "LOCAL_RANK: 0 - CUDA_VISIBLE_DEVICES: [0]\n",
      "\n",
      "   | Name        | Type             | Params\n",
      "--------------------------------------------------\n",
      "0  | x_embedding | Identity         | 0     \n",
      "1  | model       | GIN              | 1.0 K \n",
      "2  | head        | Sequential       | 154   \n",
      "3  | loss_module | CrossEntropyLoss | 0     \n",
      "4  | train_acc   | BinaryAccuracy   | 0     \n",
      "5  | train_auroc | BinaryAUROC      | 0     \n",
      "6  | train_f1    | BinaryF1Score    | 0     \n",
      "7  | valid_acc   | BinaryAccuracy   | 0     \n",
      "8  | valid_auroc | BinaryAUROC      | 0     \n",
      "9  | valid_f1    | BinaryF1Score    | 0     \n",
      "10 | pool        | GlobalAttention  | 17    \n",
      "--------------------------------------------------\n",
      "1.2 K     Trainable params\n",
      "0         Non-trainable params\n",
      "1.2 K     Total params\n",
      "0.005     Total estimated model params size (MB)\n"
     ]
    },
    {
     "name": "stdout",
     "output_type": "stream",
     "text": [
      "GINConv\n"
     ]
    },
    {
     "name": "stderr",
     "output_type": "stream",
     "text": [
      "`Trainer.fit` stopped: `max_epochs=65` reached.\n"
     ]
    },
    {
     "data": {
      "text/html": [
       "Waiting for W&B process to finish... <strong style=\"color:green\">(success).</strong>"
      ],
      "text/plain": [
       "<IPython.core.display.HTML object>"
      ]
     },
     "metadata": {},
     "output_type": "display_data"
    },
    {
     "data": {
      "application/vnd.jupyter.widget-view+json": {
       "model_id": "07c2456fe71d4199a4b92eacedc9d20d",
       "version_major": 2,
       "version_minor": 0
      },
      "text/plain": [
       "VBox(children=(Label(value='0.001 MB of 0.001 MB uploaded (0.000 MB deduped)\\r'), FloatProgress(value=1.0, max…"
      ]
     },
     "metadata": {},
     "output_type": "display_data"
    },
    {
     "data": {
      "text/html": [
       "<style>\n",
       "    table.wandb td:nth-child(1) { padding: 0 10px; text-align: left ; width: auto;} td:nth-child(2) {text-align: left ; width: 100%}\n",
       "    .wandb-row { display: flex; flex-direction: row; flex-wrap: wrap; justify-content: flex-start; width: 100% }\n",
       "    .wandb-col { display: flex; flex-direction: column; flex-basis: 100%; flex: 1; padding: 10px; }\n",
       "    </style>\n",
       "<div class=\"wandb-row\"><div class=\"wandb-col\"><h3>Run history:</h3><br/><table class=\"wandb\"><tr><td>epoch</td><td>▁▁▁▂▂▂▂▂▂▃▃▃▃▃▄▄▄▄▄▄▅▅▅▅▅▅▆▆▆▆▆▇▇▇▇▇▇███</td></tr><tr><td>lr-Adam</td><td>▁▁▁▁▁▁▁▁▁▁▁▁▁▁▁▁▁▁▁▁▁▁▁▁▁▁▁▁▁▁▁▁▁▁▁▁▁▁▁▁</td></tr><tr><td>train_acc</td><td>▁▃▅▆▆▇▆▇▇▇▇▇▇▇▇██▇█▇█▇▇█▇██▇█▇████▇██▇█▇</td></tr><tr><td>train_auc</td><td>▁▂▆▆▇▇▇▇▇▇▇▇▇▇▇██▇████▇█▇███████████████</td></tr><tr><td>train_f1</td><td>▁▁▅▇▆▇▆▇█▇▇▇▇▇▇██▇█▇█▇▇█▇██▇█▇███▇▇██▇██</td></tr><tr><td>train_loss_epoch</td><td>█▇▅▄▃▃▃▃▃▃▃▂▂▂▂▂▁▂▂▂▁▁▂▂▂▁▁▁▁▁▁▁▁▁▁▂▁▁▁▁</td></tr><tr><td>train_loss_step</td><td>██▆▅▄▆▅▅▅▄▆▆▃▄▄▄▃▄▂▃▄▃▅▂▄▄▁▂▃▃▅▄▃▂▃▆▂▄▅▂</td></tr><tr><td>trainer/global_step</td><td>▁▁▁▂▂▁▂▂▂▃▂▃▃▂▂▄▄▄▂▂▅▅▂▅▂▆▆▂▆▆▃▃▃▇▇▃▃██▃</td></tr><tr><td>val_acc</td><td>▁▃▃▄▄▆▅▇▇▅▇▆▇▆▇█▂▆▇▆█▇▅▆█▇▇▆█▆▅▇▇▅▇▇▆▆▇▇</td></tr><tr><td>val_auc</td><td>▁▄▅▅▆▆▆▇▇▇▇▇█▇█▇▆▇█▇██▇███▇██████▇█████▇</td></tr><tr><td>val_f1</td><td>▁▄▇▇█▇▇▇▇█▇█▇▇▇▇▇████▇▇█████████████████</td></tr><tr><td>val_loss_epoch</td><td>█▇▅▄▅▃▃▂▃▄▂▃▂▃▂▂▅▃▃▃▂▂▃▃▂▂▂▂▂▂▄▂▂▄▂▂▂▃▁▃</td></tr><tr><td>val_loss_step</td><td>██▆▄▆▄▄▁▃▂▂▅▂▄▃▂█▆▇▃▂▂▅▅▂▄▄▅▄▃▅▃▃▄▁▂▅▂▃▃</td></tr></table><br/></div><div class=\"wandb-col\"><h3>Run summary:</h3><br/><table class=\"wandb\"><tr><td>epoch</td><td>64</td></tr><tr><td>lr-Adam</td><td>0.005</td></tr><tr><td>train_acc</td><td>0.77978</td></tr><tr><td>train_auc</td><td>0.85804</td></tr><tr><td>train_f1</td><td>0.71179</td></tr><tr><td>train_loss_epoch</td><td>0.46263</td></tr><tr><td>train_loss_step</td><td>0.41461</td></tr><tr><td>trainer/global_step</td><td>649</td></tr><tr><td>val_acc</td><td>0.78683</td></tr><tr><td>val_auc</td><td>0.83909</td></tr><tr><td>val_f1</td><td>0.65657</td></tr><tr><td>val_loss_epoch</td><td>0.4756</td></tr><tr><td>val_loss_step</td><td>0.57482</td></tr></table><br/></div></div>"
      ],
      "text/plain": [
       "<IPython.core.display.HTML object>"
      ]
     },
     "metadata": {},
     "output_type": "display_data"
    },
    {
     "data": {
      "text/html": [
       " View run <strong style=\"color:#cdcd00\">GINConv_norm_2_16_onehot_2</strong> at: <a href='https://wandb.ai/thoomas/PLA_01122024_5PPI_3D_Kfold/runs/tgv4qpe4' target=\"_blank\">https://wandb.ai/thoomas/PLA_01122024_5PPI_3D_Kfold/runs/tgv4qpe4</a><br/>Synced 6 W&B file(s), 0 media file(s), 0 artifact file(s) and 0 other file(s)"
      ],
      "text/plain": [
       "<IPython.core.display.HTML object>"
      ]
     },
     "metadata": {},
     "output_type": "display_data"
    },
    {
     "data": {
      "text/html": [
       "Find logs at: <code>.\\wandb\\run-20240116_022747-tgv4qpe4\\logs</code>"
      ],
      "text/plain": [
       "<IPython.core.display.HTML object>"
      ]
     },
     "metadata": {},
     "output_type": "display_data"
    },
    {
     "data": {
      "text/html": [
       "wandb version 0.16.2 is available!  To upgrade, please run:\n",
       " $ pip install wandb --upgrade"
      ],
      "text/plain": [
       "<IPython.core.display.HTML object>"
      ]
     },
     "metadata": {},
     "output_type": "display_data"
    },
    {
     "data": {
      "text/html": [
       "Tracking run with wandb version 0.15.8"
      ],
      "text/plain": [
       "<IPython.core.display.HTML object>"
      ]
     },
     "metadata": {},
     "output_type": "display_data"
    },
    {
     "data": {
      "text/html": [
       "Run data is saved locally in <code>y:\\coskun-lab\\Thomas\\23_PLA_revision\\notebooks\\wandb\\run-20240116_024106-id9ftb5c</code>"
      ],
      "text/plain": [
       "<IPython.core.display.HTML object>"
      ]
     },
     "metadata": {},
     "output_type": "display_data"
    },
    {
     "data": {
      "text/html": [
       "Syncing run <strong><a href='https://wandb.ai/thoomas/PLA_01122024_5PPI_3D_Kfold/runs/id9ftb5c' target=\"_blank\">MLP_3_32_onehot_3</a></strong> to <a href='https://wandb.ai/thoomas/PLA_01122024_5PPI_3D_Kfold' target=\"_blank\">Weights & Biases</a> (<a href='https://wandb.me/run' target=\"_blank\">docs</a>)<br/>"
      ],
      "text/plain": [
       "<IPython.core.display.HTML object>"
      ]
     },
     "metadata": {},
     "output_type": "display_data"
    },
    {
     "data": {
      "text/html": [
       " View project at <a href='https://wandb.ai/thoomas/PLA_01122024_5PPI_3D_Kfold' target=\"_blank\">https://wandb.ai/thoomas/PLA_01122024_5PPI_3D_Kfold</a>"
      ],
      "text/plain": [
       "<IPython.core.display.HTML object>"
      ]
     },
     "metadata": {},
     "output_type": "display_data"
    },
    {
     "data": {
      "text/html": [
       " View run at <a href='https://wandb.ai/thoomas/PLA_01122024_5PPI_3D_Kfold/runs/id9ftb5c' target=\"_blank\">https://wandb.ai/thoomas/PLA_01122024_5PPI_3D_Kfold/runs/id9ftb5c</a>"
      ],
      "text/plain": [
       "<IPython.core.display.HTML object>"
      ]
     },
     "metadata": {},
     "output_type": "display_data"
    },
    {
     "name": "stderr",
     "output_type": "stream",
     "text": [
      "Global seed set to 42\n",
      "GPU available: True (cuda), used: True\n",
      "TPU available: False, using: 0 TPU cores\n",
      "IPU available: False, using: 0 IPUs\n",
      "HPU available: False, using: 0 HPUs\n",
      "Global seed set to 42\n",
      "c:\\Users\\thu71\\AppData\\Local\\anaconda3\\envs\\scanpy\\Lib\\site-packages\\lightning\\pytorch\\callbacks\\model_checkpoint.py:617: UserWarning: Checkpoint directory \\\\bme-retromaster.ad.gatech.edu\\labs5\\coskun-lab\\Thomas\\23_PLA_revision\\data\\OCT Cell Culture\\3D_Whole\\saved_models\\5PPI_3D\\Graph_GNNs_Kfold\\MLP_3_32_onehot_3\\mean\\GraphLevelMLP exists and is not empty.\n",
      "  rank_zero_warn(f\"Checkpoint directory {dirpath} exists and is not empty.\")\n",
      "LOCAL_RANK: 0 - CUDA_VISIBLE_DEVICES: [0]\n",
      "\n",
      "  | Name        | Type             | Params\n",
      "-------------------------------------------------\n",
      "0 | x_embedding | Identity         | 0     \n",
      "1 | model       | MLPModel         | 2.3 K \n",
      "2 | head        | Sequential       | 562   \n",
      "3 | loss_module | CrossEntropyLoss | 0     \n",
      "4 | train_acc   | BinaryAccuracy   | 0     \n",
      "5 | train_auroc | BinaryAUROC      | 0     \n",
      "6 | train_f1    | BinaryF1Score    | 0     \n",
      "7 | valid_acc   | BinaryAccuracy   | 0     \n",
      "8 | valid_auroc | BinaryAUROC      | 0     \n",
      "9 | valid_f1    | BinaryF1Score    | 0     \n",
      "-------------------------------------------------\n",
      "2.9 K     Trainable params\n",
      "0         Non-trainable params\n",
      "2.9 K     Total params\n",
      "0.011     Total estimated model params size (MB)\n"
     ]
    },
    {
     "name": "stdout",
     "output_type": "stream",
     "text": [
      "Using MLP\n"
     ]
    },
    {
     "name": "stderr",
     "output_type": "stream",
     "text": [
      "`Trainer.fit` stopped: `max_epochs=65` reached.\n"
     ]
    },
    {
     "data": {
      "text/html": [
       "Waiting for W&B process to finish... <strong style=\"color:green\">(success).</strong>"
      ],
      "text/plain": [
       "<IPython.core.display.HTML object>"
      ]
     },
     "metadata": {},
     "output_type": "display_data"
    },
    {
     "data": {
      "application/vnd.jupyter.widget-view+json": {
       "model_id": "ea70e146897344b49bf11d4854ca564b",
       "version_major": 2,
       "version_minor": 0
      },
      "text/plain": [
       "VBox(children=(Label(value='0.001 MB of 0.001 MB uploaded (0.000 MB deduped)\\r'), FloatProgress(value=1.0, max…"
      ]
     },
     "metadata": {},
     "output_type": "display_data"
    },
    {
     "data": {
      "text/html": [
       "<style>\n",
       "    table.wandb td:nth-child(1) { padding: 0 10px; text-align: left ; width: auto;} td:nth-child(2) {text-align: left ; width: 100%}\n",
       "    .wandb-row { display: flex; flex-direction: row; flex-wrap: wrap; justify-content: flex-start; width: 100% }\n",
       "    .wandb-col { display: flex; flex-direction: column; flex-basis: 100%; flex: 1; padding: 10px; }\n",
       "    </style>\n",
       "<div class=\"wandb-row\"><div class=\"wandb-col\"><h3>Run history:</h3><br/><table class=\"wandb\"><tr><td>epoch</td><td>▁▁▁▂▂▂▂▂▂▃▃▃▃▃▄▄▄▄▄▄▅▅▅▅▅▅▆▆▆▆▆▇▇▇▇▇▇███</td></tr><tr><td>lr-Adam</td><td>▁▁▁▁▁▁▁▁▁▁▁▁▁▁▁▁▁▁▁▁▁▁▁▁▁▁▁▁▁▁▁▁▁▁▁▁▁▁▁▁</td></tr><tr><td>train_acc</td><td>▁▄▅▅▅▇▇▇██▇██▇▇█████▇▇████▇█▇██▇█▇███▇█▇</td></tr><tr><td>train_auc</td><td>▁▁▂▂▃▇▇▇▇▇▇▇▇▇▆██▇▇█▇▇▇▇██▇▇█▇▇▇█▇█████▇</td></tr><tr><td>train_f1</td><td>▅▂▁▁▁▆█▇██▇██▇▇█▇███▇▇▇▇██▇█▇▇▇▇█▇█▇█▇▇▇</td></tr><tr><td>train_loss_epoch</td><td>█▇▆▆▅▂▃▂▂▂▂▂▂▂▃▁▂▁▂▁▂▂▁▂▁▁▂▂▂▂▂▂▂▂▂▁▂▂▁▂</td></tr><tr><td>train_loss_step</td><td>█▆▇▆▆▄▃▄▃▂▃▃▃▆▃▃▃▄▃▂▄▄▄▃▁▃▂▄▄▃▂▄▄▃▄▄▂▃▄▂</td></tr><tr><td>trainer/global_step</td><td>▁▁▁▂▂▁▂▂▂▃▂▃▃▂▂▄▄▄▂▂▅▅▂▅▂▆▆▂▆▆▃▃▃▇▇▃▃██▃</td></tr><tr><td>val_acc</td><td>▁▁▁▁▁▅▅▆▇▇▇▅▆▆▄▇▇▇▇▄█▇▇▇▇▇█▇█▆█▅▇▇▅█▇▇█▇</td></tr><tr><td>val_auc</td><td>▁██▇▆▇▇▇████████████████████████████████</td></tr><tr><td>val_f1</td><td>▁▁▁▁▁▆▆▇██▇▆▇█▅▇▇▇█▆█▇█▇▇▇█▇█▆█▆▇▇▆█▇███</td></tr><tr><td>val_loss_epoch</td><td>▇█▇▇▅▂▄▃▁▂▁▂▂▃▃▁▁▂▂▂▃▃▁▂▂▂▂▂▁▂▂▃▂▂▂▂▁▂▂▂</td></tr><tr><td>val_loss_step</td><td>█▇▆▆▆▃█▄▅▅▅▃▄▄▄▅▄▄▆▅▅▂▄▃▄▃▄▂▁▂▃▃▂▄▂▆▄▅▃▂</td></tr></table><br/></div><div class=\"wandb-col\"><h3>Run summary:</h3><br/><table class=\"wandb\"><tr><td>epoch</td><td>64</td></tr><tr><td>lr-Adam</td><td>0.005</td></tr><tr><td>train_acc</td><td>0.71473</td></tr><tr><td>train_auc</td><td>0.7715</td></tr><tr><td>train_f1</td><td>0.54726</td></tr><tr><td>train_loss_epoch</td><td>0.53958</td></tr><tr><td>train_loss_step</td><td>0.49559</td></tr><tr><td>trainer/global_step</td><td>649</td></tr><tr><td>val_acc</td><td>0.75235</td></tr><tr><td>val_auc</td><td>0.81896</td></tr><tr><td>val_f1</td><td>0.61836</td></tr><tr><td>val_loss_epoch</td><td>0.52311</td></tr><tr><td>val_loss_step</td><td>0.53808</td></tr></table><br/></div></div>"
      ],
      "text/plain": [
       "<IPython.core.display.HTML object>"
      ]
     },
     "metadata": {},
     "output_type": "display_data"
    },
    {
     "data": {
      "text/html": [
       " View run <strong style=\"color:#cdcd00\">MLP_3_32_onehot_3</strong> at: <a href='https://wandb.ai/thoomas/PLA_01122024_5PPI_3D_Kfold/runs/id9ftb5c' target=\"_blank\">https://wandb.ai/thoomas/PLA_01122024_5PPI_3D_Kfold/runs/id9ftb5c</a><br/>Synced 6 W&B file(s), 0 media file(s), 0 artifact file(s) and 0 other file(s)"
      ],
      "text/plain": [
       "<IPython.core.display.HTML object>"
      ]
     },
     "metadata": {},
     "output_type": "display_data"
    },
    {
     "data": {
      "text/html": [
       "Find logs at: <code>.\\wandb\\run-20240116_024106-id9ftb5c\\logs</code>"
      ],
      "text/plain": [
       "<IPython.core.display.HTML object>"
      ]
     },
     "metadata": {},
     "output_type": "display_data"
    },
    {
     "data": {
      "text/html": [
       "wandb version 0.16.2 is available!  To upgrade, please run:\n",
       " $ pip install wandb --upgrade"
      ],
      "text/plain": [
       "<IPython.core.display.HTML object>"
      ]
     },
     "metadata": {},
     "output_type": "display_data"
    },
    {
     "data": {
      "text/html": [
       "Tracking run with wandb version 0.15.8"
      ],
      "text/plain": [
       "<IPython.core.display.HTML object>"
      ]
     },
     "metadata": {},
     "output_type": "display_data"
    },
    {
     "data": {
      "text/html": [
       "Run data is saved locally in <code>y:\\coskun-lab\\Thomas\\23_PLA_revision\\notebooks\\wandb\\run-20240116_025501-4d3bltvt</code>"
      ],
      "text/plain": [
       "<IPython.core.display.HTML object>"
      ]
     },
     "metadata": {},
     "output_type": "display_data"
    },
    {
     "data": {
      "text/html": [
       "Syncing run <strong><a href='https://wandb.ai/thoomas/PLA_01122024_5PPI_3D_Kfold/runs/4d3bltvt' target=\"_blank\">GraphConv_3_32_onehot_3</a></strong> to <a href='https://wandb.ai/thoomas/PLA_01122024_5PPI_3D_Kfold' target=\"_blank\">Weights & Biases</a> (<a href='https://wandb.me/run' target=\"_blank\">docs</a>)<br/>"
      ],
      "text/plain": [
       "<IPython.core.display.HTML object>"
      ]
     },
     "metadata": {},
     "output_type": "display_data"
    },
    {
     "data": {
      "text/html": [
       " View project at <a href='https://wandb.ai/thoomas/PLA_01122024_5PPI_3D_Kfold' target=\"_blank\">https://wandb.ai/thoomas/PLA_01122024_5PPI_3D_Kfold</a>"
      ],
      "text/plain": [
       "<IPython.core.display.HTML object>"
      ]
     },
     "metadata": {},
     "output_type": "display_data"
    },
    {
     "data": {
      "text/html": [
       " View run at <a href='https://wandb.ai/thoomas/PLA_01122024_5PPI_3D_Kfold/runs/4d3bltvt' target=\"_blank\">https://wandb.ai/thoomas/PLA_01122024_5PPI_3D_Kfold/runs/4d3bltvt</a>"
      ],
      "text/plain": [
       "<IPython.core.display.HTML object>"
      ]
     },
     "metadata": {},
     "output_type": "display_data"
    },
    {
     "name": "stderr",
     "output_type": "stream",
     "text": [
      "Global seed set to 42\n",
      "GPU available: True (cuda), used: True\n",
      "TPU available: False, using: 0 TPU cores\n",
      "IPU available: False, using: 0 IPUs\n",
      "HPU available: False, using: 0 HPUs\n",
      "Global seed set to 42\n",
      "c:\\Users\\thu71\\AppData\\Local\\anaconda3\\envs\\scanpy\\Lib\\site-packages\\lightning\\pytorch\\callbacks\\model_checkpoint.py:617: UserWarning: Checkpoint directory \\\\bme-retromaster.ad.gatech.edu\\labs5\\coskun-lab\\Thomas\\23_PLA_revision\\data\\OCT Cell Culture\\3D_Whole\\saved_models\\5PPI_3D\\Graph_GNNs_Kfold\\GraphConv_3_32_onehot_3\\attention2\\GraphLevelGraphConv exists and is not empty.\n",
      "  rank_zero_warn(f\"Checkpoint directory {dirpath} exists and is not empty.\")\n",
      "LOCAL_RANK: 0 - CUDA_VISIBLE_DEVICES: [0]\n",
      "\n",
      "   | Name        | Type             | Params\n",
      "--------------------------------------------------\n",
      "0  | x_embedding | Identity         | 0     \n",
      "1  | model       | GNNModel         | 4.6 K \n",
      "2  | head        | Sequential       | 562   \n",
      "3  | loss_module | CrossEntropyLoss | 0     \n",
      "4  | train_acc   | BinaryAccuracy   | 0     \n",
      "5  | train_auroc | BinaryAUROC      | 0     \n",
      "6  | train_f1    | BinaryF1Score    | 0     \n",
      "7  | valid_acc   | BinaryAccuracy   | 0     \n",
      "8  | valid_auroc | BinaryAUROC      | 0     \n",
      "9  | valid_f1    | BinaryF1Score    | 0     \n",
      "10 | pool        | Attention_module | 1.1 K \n",
      "--------------------------------------------------\n",
      "6.3 K     Trainable params\n",
      "0         Non-trainable params\n",
      "6.3 K     Total params\n",
      "0.025     Total estimated model params size (MB)\n"
     ]
    },
    {
     "name": "stdout",
     "output_type": "stream",
     "text": [
      "Using GNN\n"
     ]
    },
    {
     "name": "stderr",
     "output_type": "stream",
     "text": [
      "`Trainer.fit` stopped: `max_epochs=65` reached.\n"
     ]
    },
    {
     "data": {
      "text/html": [
       "Waiting for W&B process to finish... <strong style=\"color:green\">(success).</strong>"
      ],
      "text/plain": [
       "<IPython.core.display.HTML object>"
      ]
     },
     "metadata": {},
     "output_type": "display_data"
    },
    {
     "data": {
      "text/html": [
       "<style>\n",
       "    table.wandb td:nth-child(1) { padding: 0 10px; text-align: left ; width: auto;} td:nth-child(2) {text-align: left ; width: 100%}\n",
       "    .wandb-row { display: flex; flex-direction: row; flex-wrap: wrap; justify-content: flex-start; width: 100% }\n",
       "    .wandb-col { display: flex; flex-direction: column; flex-basis: 100%; flex: 1; padding: 10px; }\n",
       "    </style>\n",
       "<div class=\"wandb-row\"><div class=\"wandb-col\"><h3>Run history:</h3><br/><table class=\"wandb\"><tr><td>epoch</td><td>▁▁▁▂▂▂▂▂▂▃▃▃▃▃▄▄▄▄▄▄▅▅▅▅▅▅▆▆▆▆▆▇▇▇▇▇▇███</td></tr><tr><td>lr-Adam</td><td>▁▁▁▁▁▁▁▁▁▁▁▁▁▁▁▁▁▁▁▁▁▁▁▁▁▁▁▁▁▁▁▁▁▁▁▁▁▁▁▁</td></tr><tr><td>train_acc</td><td>▁▄▆▆▇▇▇▇▇▇▇▇▇▇█▇▇▇█▇▇▇▇▇█▇▇█▇█▇██▇▇███▇█</td></tr><tr><td>train_auc</td><td>▁▅▆▇▇▇▇▇▇█▇▇▇▇▇▇▇▇██▇▇█▇████▇█████▇█████</td></tr><tr><td>train_f1</td><td>▁▄▇▇▇▇▇▇▇█▇▇▇▇█▇███▇▇█████▇█▇█████▇███▇█</td></tr><tr><td>train_loss_epoch</td><td>█▆▃▃▃▃▃▃▂▂▂▂▂▂▂▂▂▂▁▂▂▂▂▂▂▂▂▂▂▁▂▁▁▂▂▂▁▂▂▁</td></tr><tr><td>train_loss_step</td><td>▇▆█▄▆▃▃▄▃▃▄▅▃▃▅▆▅▄▃▃▂▃▅▄▃▄▅▂▄▃▂▃▃▂▃▆▄▁▂▂</td></tr><tr><td>trainer/global_step</td><td>▁▁▁▂▂▁▂▂▂▃▂▃▃▂▂▄▄▄▂▂▅▅▂▅▂▆▆▂▆▆▃▃▃▇▇▃▃██▃</td></tr><tr><td>val_acc</td><td>▃▁▄▇▄▇█▅▆▇▇▅█▇▇▇▇▇▇▇▇▇█▆██▆▇▇▇█▇██▇▇█▆▇▇</td></tr><tr><td>val_auc</td><td>▁▃▇▇█▇████▇█████████████████████████████</td></tr><tr><td>val_f1</td><td>▁▅▇▇▇▇▇▇▇█▇▇██▇█▆█▇▇▆██▇▇█▇▆▆▇████▇▇█▇▇█</td></tr><tr><td>val_loss_epoch</td><td>▇█▅▃▆▇▅▅▄▂▃▄▃▂▄▂▂▅▄▁▁▂▂▂▁▂▃▂▁▄▁▂▂▁▂▂▂▄▁▁</td></tr><tr><td>val_loss_step</td><td>▅▅▆▂▇▂█▃▂▂▂▅▃▁▄▄▃█▇▃▂▃▁▃▂▃▄▃▁▆▂▂▄▂▂▃▁▂▂▁</td></tr></table><br/></div><div class=\"wandb-col\"><h3>Run summary:</h3><br/><table class=\"wandb\"><tr><td>epoch</td><td>64</td></tr><tr><td>lr-Adam</td><td>0.005</td></tr><tr><td>train_acc</td><td>0.82053</td></tr><tr><td>train_auc</td><td>0.88745</td></tr><tr><td>train_f1</td><td>0.74973</td></tr><tr><td>train_loss_epoch</td><td>0.40867</td></tr><tr><td>train_loss_step</td><td>0.37612</td></tr><tr><td>trainer/global_step</td><td>649</td></tr><tr><td>val_acc</td><td>0.82132</td></tr><tr><td>val_auc</td><td>0.88661</td></tr><tr><td>val_f1</td><td>0.75325</td></tr><tr><td>val_loss_epoch</td><td>0.41148</td></tr><tr><td>val_loss_step</td><td>0.37538</td></tr></table><br/></div></div>"
      ],
      "text/plain": [
       "<IPython.core.display.HTML object>"
      ]
     },
     "metadata": {},
     "output_type": "display_data"
    },
    {
     "data": {
      "text/html": [
       " View run <strong style=\"color:#cdcd00\">GraphConv_3_32_onehot_3</strong> at: <a href='https://wandb.ai/thoomas/PLA_01122024_5PPI_3D_Kfold/runs/4d3bltvt' target=\"_blank\">https://wandb.ai/thoomas/PLA_01122024_5PPI_3D_Kfold/runs/4d3bltvt</a><br/>Synced 6 W&B file(s), 0 media file(s), 0 artifact file(s) and 0 other file(s)"
      ],
      "text/plain": [
       "<IPython.core.display.HTML object>"
      ]
     },
     "metadata": {},
     "output_type": "display_data"
    },
    {
     "data": {
      "text/html": [
       "Find logs at: <code>.\\wandb\\run-20240116_025501-4d3bltvt\\logs</code>"
      ],
      "text/plain": [
       "<IPython.core.display.HTML object>"
      ]
     },
     "metadata": {},
     "output_type": "display_data"
    },
    {
     "data": {
      "application/vnd.jupyter.widget-view+json": {
       "model_id": "5862111ad3cf4d939ab9db1e704487c1",
       "version_major": 2,
       "version_minor": 0
      },
      "text/plain": [
       "VBox(children=(Label(value='Waiting for wandb.init()...\\r'), FloatProgress(value=0.016666666666666666, max=1.0…"
      ]
     },
     "metadata": {},
     "output_type": "display_data"
    },
    {
     "data": {
      "text/html": [
       "wandb version 0.16.2 is available!  To upgrade, please run:\n",
       " $ pip install wandb --upgrade"
      ],
      "text/plain": [
       "<IPython.core.display.HTML object>"
      ]
     },
     "metadata": {},
     "output_type": "display_data"
    },
    {
     "data": {
      "text/html": [
       "Tracking run with wandb version 0.15.8"
      ],
      "text/plain": [
       "<IPython.core.display.HTML object>"
      ]
     },
     "metadata": {},
     "output_type": "display_data"
    },
    {
     "data": {
      "text/html": [
       "Run data is saved locally in <code>y:\\coskun-lab\\Thomas\\23_PLA_revision\\notebooks\\wandb\\run-20240116_030928-k6otque3</code>"
      ],
      "text/plain": [
       "<IPython.core.display.HTML object>"
      ]
     },
     "metadata": {},
     "output_type": "display_data"
    },
    {
     "data": {
      "text/html": [
       "Syncing run <strong><a href='https://wandb.ai/thoomas/PLA_01122024_5PPI_3D_Kfold/runs/k6otque3' target=\"_blank\">GCN_2_64_onehot_3</a></strong> to <a href='https://wandb.ai/thoomas/PLA_01122024_5PPI_3D_Kfold' target=\"_blank\">Weights & Biases</a> (<a href='https://wandb.me/run' target=\"_blank\">docs</a>)<br/>"
      ],
      "text/plain": [
       "<IPython.core.display.HTML object>"
      ]
     },
     "metadata": {},
     "output_type": "display_data"
    },
    {
     "data": {
      "text/html": [
       " View project at <a href='https://wandb.ai/thoomas/PLA_01122024_5PPI_3D_Kfold' target=\"_blank\">https://wandb.ai/thoomas/PLA_01122024_5PPI_3D_Kfold</a>"
      ],
      "text/plain": [
       "<IPython.core.display.HTML object>"
      ]
     },
     "metadata": {},
     "output_type": "display_data"
    },
    {
     "data": {
      "text/html": [
       " View run at <a href='https://wandb.ai/thoomas/PLA_01122024_5PPI_3D_Kfold/runs/k6otque3' target=\"_blank\">https://wandb.ai/thoomas/PLA_01122024_5PPI_3D_Kfold/runs/k6otque3</a>"
      ],
      "text/plain": [
       "<IPython.core.display.HTML object>"
      ]
     },
     "metadata": {},
     "output_type": "display_data"
    },
    {
     "name": "stderr",
     "output_type": "stream",
     "text": [
      "Global seed set to 42\n",
      "GPU available: True (cuda), used: True\n",
      "TPU available: False, using: 0 TPU cores\n",
      "IPU available: False, using: 0 IPUs\n",
      "HPU available: False, using: 0 HPUs\n",
      "Global seed set to 42\n",
      "c:\\Users\\thu71\\AppData\\Local\\anaconda3\\envs\\scanpy\\Lib\\site-packages\\lightning\\pytorch\\callbacks\\model_checkpoint.py:617: UserWarning: Checkpoint directory \\\\bme-retromaster.ad.gatech.edu\\labs5\\coskun-lab\\Thomas\\23_PLA_revision\\data\\OCT Cell Culture\\3D_Whole\\saved_models\\5PPI_3D\\Graph_GNNs_Kfold\\GCN_2_64_onehot_3\\attention2\\GraphLevelGCN exists and is not empty.\n",
      "  rank_zero_warn(f\"Checkpoint directory {dirpath} exists and is not empty.\")\n",
      "LOCAL_RANK: 0 - CUDA_VISIBLE_DEVICES: [0]\n",
      "\n",
      "   | Name        | Type             | Params\n",
      "--------------------------------------------------\n",
      "0  | x_embedding | Identity         | 0     \n",
      "1  | model       | GNNModel         | 4.7 K \n",
      "2  | head        | Sequential       | 2.1 K \n",
      "3  | loss_module | CrossEntropyLoss | 0     \n",
      "4  | train_acc   | BinaryAccuracy   | 0     \n",
      "5  | train_auroc | BinaryAUROC      | 0     \n",
      "6  | train_f1    | BinaryF1Score    | 0     \n",
      "7  | valid_acc   | BinaryAccuracy   | 0     \n",
      "8  | valid_auroc | BinaryAUROC      | 0     \n",
      "9  | valid_f1    | BinaryF1Score    | 0     \n",
      "10 | pool        | Attention_module | 4.2 K \n",
      "--------------------------------------------------\n",
      "11.0 K    Trainable params\n",
      "0         Non-trainable params\n",
      "11.0 K    Total params\n",
      "0.044     Total estimated model params size (MB)\n"
     ]
    },
    {
     "name": "stdout",
     "output_type": "stream",
     "text": [
      "Using GNN\n"
     ]
    },
    {
     "name": "stderr",
     "output_type": "stream",
     "text": [
      "`Trainer.fit` stopped: `max_epochs=65` reached.\n"
     ]
    },
    {
     "data": {
      "text/html": [
       "Waiting for W&B process to finish... <strong style=\"color:green\">(success).</strong>"
      ],
      "text/plain": [
       "<IPython.core.display.HTML object>"
      ]
     },
     "metadata": {},
     "output_type": "display_data"
    },
    {
     "data": {
      "application/vnd.jupyter.widget-view+json": {
       "model_id": "424455608d634deaa2b203ef9c306722",
       "version_major": 2,
       "version_minor": 0
      },
      "text/plain": [
       "VBox(children=(Label(value='0.001 MB of 0.001 MB uploaded (0.000 MB deduped)\\r'), FloatProgress(value=1.0, max…"
      ]
     },
     "metadata": {},
     "output_type": "display_data"
    },
    {
     "data": {
      "text/html": [
       "<style>\n",
       "    table.wandb td:nth-child(1) { padding: 0 10px; text-align: left ; width: auto;} td:nth-child(2) {text-align: left ; width: 100%}\n",
       "    .wandb-row { display: flex; flex-direction: row; flex-wrap: wrap; justify-content: flex-start; width: 100% }\n",
       "    .wandb-col { display: flex; flex-direction: column; flex-basis: 100%; flex: 1; padding: 10px; }\n",
       "    </style>\n",
       "<div class=\"wandb-row\"><div class=\"wandb-col\"><h3>Run history:</h3><br/><table class=\"wandb\"><tr><td>epoch</td><td>▁▁▁▂▂▂▂▂▂▃▃▃▃▃▄▄▄▄▄▄▅▅▅▅▅▅▆▆▆▆▆▇▇▇▇▇▇███</td></tr><tr><td>lr-Adam</td><td>▁▁▁▁▁▁▁▁▁▁▁▁▁▁▁▁▁▁▁▁▁▁▁▁▁▁▁▁▁▁▁▁▁▁▁▁▁▁▁▁</td></tr><tr><td>train_acc</td><td>▁▆▇▆▇▇▇▇█▇▇██▇▇██▇▇▇▇██▇▇█▇██▇████▇█▇▇▇▇</td></tr><tr><td>train_auc</td><td>▁▆▇▇▇▇███▇███████▇██▇████████▇██████▇███</td></tr><tr><td>train_f1</td><td>▁▆▇▆▇█▇▇█▇▇██▇███▇█▇██▇▇██▇▇█▇████▇█▇▇█▇</td></tr><tr><td>train_loss_epoch</td><td>█▄▃▃▂▂▁▁▂▂▂▂▂▁▁▁▁▂▁▁▂▁▁▂▂▂▂▁▂▂▁▁▁▁▂▁▂▁▂▂</td></tr><tr><td>train_loss_step</td><td>▇▂▃▁▁▄▄█▁▃▃▁▃▃▁▁▄▄▃▄▄▄▄▂▁▂▂▂▃▄▄▂▄▃▅▄▂▄▂▄</td></tr><tr><td>trainer/global_step</td><td>▁▁▁▂▂▁▂▂▂▃▂▃▃▂▂▄▄▄▂▂▅▅▂▅▂▆▆▂▆▆▃▃▃▇▇▃▃██▃</td></tr><tr><td>val_acc</td><td>▁▅▅▅▆▅▇▇▆▇▇▇▇▇███▇▇▇▇▇▅▅▆▇▇▇█▆▇█▇▇█▇▅▇█▇</td></tr><tr><td>val_auc</td><td>▁▃▅▄▅▇▇▇▇▇▇▇██▇██▇▇▇▇▆▆██▇▇▇▇▇▇▇▇▆█▇▇▇▇▇</td></tr><tr><td>val_f1</td><td>▁▆▆▇▇▅▇█▆███▇▇███▇▇███▇▆▆█▇██▆▇█▇▇██▅▇██</td></tr><tr><td>val_loss_epoch</td><td>█▅▃▄▂▃▂▂▂▁▂▁▂▁▁▂▂▂▂▁▂▃▃▂▂▁▂▂▂▂▁▁▂▂▁▂▃▁▂▂</td></tr><tr><td>val_loss_step</td><td>█▅▅▃▆▂▅▂▃▂▆▅▃▂▁▂▂▃▃▃▄▁▃▁▅▅▄▄▃▅▃▄▂▂▁▂▅▁▂▂</td></tr></table><br/></div><div class=\"wandb-col\"><h3>Run summary:</h3><br/><table class=\"wandb\"><tr><td>epoch</td><td>64</td></tr><tr><td>lr-Adam</td><td>0.005</td></tr><tr><td>train_acc</td><td>0.79154</td></tr><tr><td>train_auc</td><td>0.8579</td></tr><tr><td>train_f1</td><td>0.68998</td></tr><tr><td>train_loss_epoch</td><td>0.46176</td></tr><tr><td>train_loss_step</td><td>0.50471</td></tr><tr><td>trainer/global_step</td><td>649</td></tr><tr><td>val_acc</td><td>0.82445</td></tr><tr><td>val_auc</td><td>0.89568</td></tr><tr><td>val_f1</td><td>0.76667</td></tr><tr><td>val_loss_epoch</td><td>0.44328</td></tr><tr><td>val_loss_step</td><td>0.53055</td></tr></table><br/></div></div>"
      ],
      "text/plain": [
       "<IPython.core.display.HTML object>"
      ]
     },
     "metadata": {},
     "output_type": "display_data"
    },
    {
     "data": {
      "text/html": [
       " View run <strong style=\"color:#cdcd00\">GCN_2_64_onehot_3</strong> at: <a href='https://wandb.ai/thoomas/PLA_01122024_5PPI_3D_Kfold/runs/k6otque3' target=\"_blank\">https://wandb.ai/thoomas/PLA_01122024_5PPI_3D_Kfold/runs/k6otque3</a><br/>Synced 6 W&B file(s), 0 media file(s), 0 artifact file(s) and 0 other file(s)"
      ],
      "text/plain": [
       "<IPython.core.display.HTML object>"
      ]
     },
     "metadata": {},
     "output_type": "display_data"
    },
    {
     "data": {
      "text/html": [
       "Find logs at: <code>.\\wandb\\run-20240116_030928-k6otque3\\logs</code>"
      ],
      "text/plain": [
       "<IPython.core.display.HTML object>"
      ]
     },
     "metadata": {},
     "output_type": "display_data"
    },
    {
     "data": {
      "text/html": [
       "wandb version 0.16.2 is available!  To upgrade, please run:\n",
       " $ pip install wandb --upgrade"
      ],
      "text/plain": [
       "<IPython.core.display.HTML object>"
      ]
     },
     "metadata": {},
     "output_type": "display_data"
    },
    {
     "data": {
      "text/html": [
       "Tracking run with wandb version 0.15.8"
      ],
      "text/plain": [
       "<IPython.core.display.HTML object>"
      ]
     },
     "metadata": {},
     "output_type": "display_data"
    },
    {
     "data": {
      "text/html": [
       "Run data is saved locally in <code>y:\\coskun-lab\\Thomas\\23_PLA_revision\\notebooks\\wandb\\run-20240116_032252-gwtmmruf</code>"
      ],
      "text/plain": [
       "<IPython.core.display.HTML object>"
      ]
     },
     "metadata": {},
     "output_type": "display_data"
    },
    {
     "data": {
      "text/html": [
       "Syncing run <strong><a href='https://wandb.ai/thoomas/PLA_01122024_5PPI_3D_Kfold/runs/gwtmmruf' target=\"_blank\">GAT_norm_3_64_onehot_3</a></strong> to <a href='https://wandb.ai/thoomas/PLA_01122024_5PPI_3D_Kfold' target=\"_blank\">Weights & Biases</a> (<a href='https://wandb.me/run' target=\"_blank\">docs</a>)<br/>"
      ],
      "text/plain": [
       "<IPython.core.display.HTML object>"
      ]
     },
     "metadata": {},
     "output_type": "display_data"
    },
    {
     "data": {
      "text/html": [
       " View project at <a href='https://wandb.ai/thoomas/PLA_01122024_5PPI_3D_Kfold' target=\"_blank\">https://wandb.ai/thoomas/PLA_01122024_5PPI_3D_Kfold</a>"
      ],
      "text/plain": [
       "<IPython.core.display.HTML object>"
      ]
     },
     "metadata": {},
     "output_type": "display_data"
    },
    {
     "data": {
      "text/html": [
       " View run at <a href='https://wandb.ai/thoomas/PLA_01122024_5PPI_3D_Kfold/runs/gwtmmruf' target=\"_blank\">https://wandb.ai/thoomas/PLA_01122024_5PPI_3D_Kfold/runs/gwtmmruf</a>"
      ],
      "text/plain": [
       "<IPython.core.display.HTML object>"
      ]
     },
     "metadata": {},
     "output_type": "display_data"
    },
    {
     "name": "stderr",
     "output_type": "stream",
     "text": [
      "Global seed set to 42\n",
      "GPU available: True (cuda), used: True\n",
      "TPU available: False, using: 0 TPU cores\n",
      "IPU available: False, using: 0 IPUs\n",
      "HPU available: False, using: 0 HPUs\n",
      "Global seed set to 42\n",
      "c:\\Users\\thu71\\AppData\\Local\\anaconda3\\envs\\scanpy\\Lib\\site-packages\\lightning\\pytorch\\callbacks\\model_checkpoint.py:617: UserWarning: Checkpoint directory \\\\bme-retromaster.ad.gatech.edu\\labs5\\coskun-lab\\Thomas\\23_PLA_revision\\data\\OCT Cell Culture\\3D_Whole\\saved_models\\5PPI_3D\\Graph_GNNs_Kfold\\GAT_norm_3_64_onehot_3\\attention\\GraphLevelGAT_norm exists and is not empty.\n",
      "  rank_zero_warn(f\"Checkpoint directory {dirpath} exists and is not empty.\")\n",
      "LOCAL_RANK: 0 - CUDA_VISIBLE_DEVICES: [0]\n",
      "\n",
      "   | Name        | Type             | Params\n",
      "--------------------------------------------------\n",
      "0  | x_embedding | Identity         | 0     \n",
      "1  | model       | GAT              | 78.0 K\n",
      "2  | head        | Sequential       | 2.1 K \n",
      "3  | loss_module | CrossEntropyLoss | 0     \n",
      "4  | train_acc   | BinaryAccuracy   | 0     \n",
      "5  | train_auroc | BinaryAUROC      | 0     \n",
      "6  | train_f1    | BinaryF1Score    | 0     \n",
      "7  | valid_acc   | BinaryAccuracy   | 0     \n",
      "8  | valid_auroc | BinaryAUROC      | 0     \n",
      "9  | valid_f1    | BinaryF1Score    | 0     \n",
      "10 | pool        | GlobalAttention  | 65    \n",
      "--------------------------------------------------\n",
      "80.2 K    Trainable params\n",
      "0         Non-trainable params\n",
      "80.2 K    Total params\n",
      "0.321     Total estimated model params size (MB)\n"
     ]
    },
    {
     "name": "stdout",
     "output_type": "stream",
     "text": [
      "Using GAT\n"
     ]
    },
    {
     "name": "stderr",
     "output_type": "stream",
     "text": [
      "`Trainer.fit` stopped: `max_epochs=65` reached.\n"
     ]
    },
    {
     "data": {
      "text/html": [
       "Waiting for W&B process to finish... <strong style=\"color:green\">(success).</strong>"
      ],
      "text/plain": [
       "<IPython.core.display.HTML object>"
      ]
     },
     "metadata": {},
     "output_type": "display_data"
    },
    {
     "data": {
      "text/html": [
       "<style>\n",
       "    table.wandb td:nth-child(1) { padding: 0 10px; text-align: left ; width: auto;} td:nth-child(2) {text-align: left ; width: 100%}\n",
       "    .wandb-row { display: flex; flex-direction: row; flex-wrap: wrap; justify-content: flex-start; width: 100% }\n",
       "    .wandb-col { display: flex; flex-direction: column; flex-basis: 100%; flex: 1; padding: 10px; }\n",
       "    </style>\n",
       "<div class=\"wandb-row\"><div class=\"wandb-col\"><h3>Run history:</h3><br/><table class=\"wandb\"><tr><td>epoch</td><td>▁▁▁▂▂▂▂▂▂▃▃▃▃▃▄▄▄▄▄▄▅▅▅▅▅▅▆▆▆▆▆▇▇▇▇▇▇███</td></tr><tr><td>lr-Adam</td><td>▁▁▁▁▁▁▁▁▁▁▁▁▁▁▁▁▁▁▁▁▁▁▁▁▁▁▁▁▁▁▁▁▁▁▁▁▁▁▁▁</td></tr><tr><td>train_acc</td><td>▁▄▄▆▆▆▆▆▇▇▇▇▇▆▇▇▇▇▇▇▇▇▇▇▇▇▇▇▇█▇▇▇▇█▇█▇██</td></tr><tr><td>train_auc</td><td>▁▅▆▇▇▇▇▇▇▇▇▇▇▇▇███▇█▇█▇███▇▇████▇████▇██</td></tr><tr><td>train_f1</td><td>▁▆▇▇▇▇▇██████▇███████▇█▇▇█▇▇▇█▇█████████</td></tr><tr><td>train_loss_epoch</td><td>█▅▄▃▃▃▃▃▂▂▂▂▂▃▂▂▂▂▃▂▂▂▂▂▂▂▂▂▂▂▂▂▂▂▁▁▁▂▁▁</td></tr><tr><td>train_loss_step</td><td>█▅▃▆▇▅▆▆▄▃▅▆▆▃▄▁▅▄▅▆▆▅▃▇▄▃▃▂▅▇▆▃▄▅▃▂▃█▄▃</td></tr><tr><td>trainer/global_step</td><td>▁▁▁▂▂▁▂▂▂▃▂▃▃▂▂▄▄▄▂▂▅▅▂▅▂▆▆▂▆▆▃▃▃▇▇▃▃██▃</td></tr><tr><td>val_acc</td><td>▂▅▅▂▃▅▅▇▇▆▆▆▅▄▆▅▇▅▇▁▇▆▇▇▆▆▅▇█▆▆▇▆▇▇▆▅█▇▇</td></tr><tr><td>val_auc</td><td>▁▃▄▄▅▆▆▆▆▇▇▇▆▇▇▇▇▇▇▇▇█▇▇█████▇█▇▇████▇██</td></tr><tr><td>val_f1</td><td>▁▅▇▇▇▇█████████████▇████████████████████</td></tr><tr><td>val_loss_epoch</td><td>▅▅▄▅▃▃▃▂▂▂▂▂▃▄▃▄▂▄▂█▂▂▂▃▄▃▄▂▁▄▄▂▂▁▂▄▅▂▁▃</td></tr><tr><td>val_loss_step</td><td>▆▅▃▄▃▅▃▃▄▅▃▅▃▅▄▅▃▅▄█▃▂▂▃▇▅▃▄▁▅▄▃▄▃▃▄▆▃▅▄</td></tr></table><br/></div><div class=\"wandb-col\"><h3>Run summary:</h3><br/><table class=\"wandb\"><tr><td>epoch</td><td>64</td></tr><tr><td>lr-Adam</td><td>0.005</td></tr><tr><td>train_acc</td><td>0.76881</td></tr><tr><td>train_auc</td><td>0.82911</td></tr><tr><td>train_f1</td><td>0.6783</td></tr><tr><td>train_loss_epoch</td><td>0.48891</td></tr><tr><td>train_loss_step</td><td>0.45861</td></tr><tr><td>trainer/global_step</td><td>649</td></tr><tr><td>val_acc</td><td>0.73354</td></tr><tr><td>val_auc</td><td>0.83838</td></tr><tr><td>val_f1</td><td>0.69965</td></tr><tr><td>val_loss_epoch</td><td>0.54653</td></tr><tr><td>val_loss_step</td><td>0.52208</td></tr></table><br/></div></div>"
      ],
      "text/plain": [
       "<IPython.core.display.HTML object>"
      ]
     },
     "metadata": {},
     "output_type": "display_data"
    },
    {
     "data": {
      "text/html": [
       " View run <strong style=\"color:#cdcd00\">GAT_norm_3_64_onehot_3</strong> at: <a href='https://wandb.ai/thoomas/PLA_01122024_5PPI_3D_Kfold/runs/gwtmmruf' target=\"_blank\">https://wandb.ai/thoomas/PLA_01122024_5PPI_3D_Kfold/runs/gwtmmruf</a><br/>Synced 6 W&B file(s), 0 media file(s), 0 artifact file(s) and 0 other file(s)"
      ],
      "text/plain": [
       "<IPython.core.display.HTML object>"
      ]
     },
     "metadata": {},
     "output_type": "display_data"
    },
    {
     "data": {
      "text/html": [
       "Find logs at: <code>.\\wandb\\run-20240116_032252-gwtmmruf\\logs</code>"
      ],
      "text/plain": [
       "<IPython.core.display.HTML object>"
      ]
     },
     "metadata": {},
     "output_type": "display_data"
    },
    {
     "data": {
      "text/html": [
       "wandb version 0.16.2 is available!  To upgrade, please run:\n",
       " $ pip install wandb --upgrade"
      ],
      "text/plain": [
       "<IPython.core.display.HTML object>"
      ]
     },
     "metadata": {},
     "output_type": "display_data"
    },
    {
     "data": {
      "text/html": [
       "Tracking run with wandb version 0.15.8"
      ],
      "text/plain": [
       "<IPython.core.display.HTML object>"
      ]
     },
     "metadata": {},
     "output_type": "display_data"
    },
    {
     "data": {
      "text/html": [
       "Run data is saved locally in <code>y:\\coskun-lab\\Thomas\\23_PLA_revision\\notebooks\\wandb\\run-20240116_033525-3hasp4c1</code>"
      ],
      "text/plain": [
       "<IPython.core.display.HTML object>"
      ]
     },
     "metadata": {},
     "output_type": "display_data"
    },
    {
     "data": {
      "text/html": [
       "Syncing run <strong><a href='https://wandb.ai/thoomas/PLA_01122024_5PPI_3D_Kfold/runs/3hasp4c1' target=\"_blank\">GINConv_norm_2_16_onehot_3</a></strong> to <a href='https://wandb.ai/thoomas/PLA_01122024_5PPI_3D_Kfold' target=\"_blank\">Weights & Biases</a> (<a href='https://wandb.me/run' target=\"_blank\">docs</a>)<br/>"
      ],
      "text/plain": [
       "<IPython.core.display.HTML object>"
      ]
     },
     "metadata": {},
     "output_type": "display_data"
    },
    {
     "data": {
      "text/html": [
       " View project at <a href='https://wandb.ai/thoomas/PLA_01122024_5PPI_3D_Kfold' target=\"_blank\">https://wandb.ai/thoomas/PLA_01122024_5PPI_3D_Kfold</a>"
      ],
      "text/plain": [
       "<IPython.core.display.HTML object>"
      ]
     },
     "metadata": {},
     "output_type": "display_data"
    },
    {
     "data": {
      "text/html": [
       " View run at <a href='https://wandb.ai/thoomas/PLA_01122024_5PPI_3D_Kfold/runs/3hasp4c1' target=\"_blank\">https://wandb.ai/thoomas/PLA_01122024_5PPI_3D_Kfold/runs/3hasp4c1</a>"
      ],
      "text/plain": [
       "<IPython.core.display.HTML object>"
      ]
     },
     "metadata": {},
     "output_type": "display_data"
    },
    {
     "name": "stderr",
     "output_type": "stream",
     "text": [
      "Global seed set to 42\n",
      "GPU available: True (cuda), used: True\n",
      "TPU available: False, using: 0 TPU cores\n",
      "IPU available: False, using: 0 IPUs\n",
      "HPU available: False, using: 0 HPUs\n",
      "Global seed set to 42\n",
      "c:\\Users\\thu71\\AppData\\Local\\anaconda3\\envs\\scanpy\\Lib\\site-packages\\lightning\\pytorch\\callbacks\\model_checkpoint.py:617: UserWarning: Checkpoint directory \\\\bme-retromaster.ad.gatech.edu\\labs5\\coskun-lab\\Thomas\\23_PLA_revision\\data\\OCT Cell Culture\\3D_Whole\\saved_models\\5PPI_3D\\Graph_GNNs_Kfold\\GINConv_norm_2_16_onehot_3\\attention\\GraphLevelGINConv_norm exists and is not empty.\n",
      "  rank_zero_warn(f\"Checkpoint directory {dirpath} exists and is not empty.\")\n",
      "LOCAL_RANK: 0 - CUDA_VISIBLE_DEVICES: [0]\n",
      "\n",
      "   | Name        | Type             | Params\n",
      "--------------------------------------------------\n",
      "0  | x_embedding | Identity         | 0     \n",
      "1  | model       | GIN              | 1.0 K \n",
      "2  | head        | Sequential       | 154   \n",
      "3  | loss_module | CrossEntropyLoss | 0     \n",
      "4  | train_acc   | BinaryAccuracy   | 0     \n",
      "5  | train_auroc | BinaryAUROC      | 0     \n",
      "6  | train_f1    | BinaryF1Score    | 0     \n",
      "7  | valid_acc   | BinaryAccuracy   | 0     \n",
      "8  | valid_auroc | BinaryAUROC      | 0     \n",
      "9  | valid_f1    | BinaryF1Score    | 0     \n",
      "10 | pool        | GlobalAttention  | 17    \n",
      "--------------------------------------------------\n",
      "1.2 K     Trainable params\n",
      "0         Non-trainable params\n",
      "1.2 K     Total params\n",
      "0.005     Total estimated model params size (MB)\n"
     ]
    },
    {
     "name": "stdout",
     "output_type": "stream",
     "text": [
      "GINConv\n"
     ]
    },
    {
     "name": "stderr",
     "output_type": "stream",
     "text": [
      "`Trainer.fit` stopped: `max_epochs=65` reached.\n"
     ]
    },
    {
     "data": {
      "text/html": [
       "Waiting for W&B process to finish... <strong style=\"color:green\">(success).</strong>"
      ],
      "text/plain": [
       "<IPython.core.display.HTML object>"
      ]
     },
     "metadata": {},
     "output_type": "display_data"
    },
    {
     "data": {
      "text/html": [
       "<style>\n",
       "    table.wandb td:nth-child(1) { padding: 0 10px; text-align: left ; width: auto;} td:nth-child(2) {text-align: left ; width: 100%}\n",
       "    .wandb-row { display: flex; flex-direction: row; flex-wrap: wrap; justify-content: flex-start; width: 100% }\n",
       "    .wandb-col { display: flex; flex-direction: column; flex-basis: 100%; flex: 1; padding: 10px; }\n",
       "    </style>\n",
       "<div class=\"wandb-row\"><div class=\"wandb-col\"><h3>Run history:</h3><br/><table class=\"wandb\"><tr><td>epoch</td><td>▁▁▁▂▂▂▂▂▂▃▃▃▃▃▄▄▄▄▄▄▅▅▅▅▅▅▆▆▆▆▆▇▇▇▇▇▇███</td></tr><tr><td>lr-Adam</td><td>▁▁▁▁▁▁▁▁▁▁▁▁▁▁▁▁▁▁▁▁▁▁▁▁▁▁▁▁▁▁▁▁▁▁▁▁▁▁▁▁</td></tr><tr><td>train_acc</td><td>▁▃▅▆▆▇▇▇▇▇▇▇▇▇▇▇██▇▇██▇▇██▇██▇█▇▇███▇██▇</td></tr><tr><td>train_auc</td><td>▁▃▆▆▇▇▇▇▇█▇▇████████████████████████████</td></tr><tr><td>train_f1</td><td>▂▁▆▇▇▇▇▇▇▇▇▇█▇▇████▇█▇▇█▇█▇██▇█▇▇██▇▇███</td></tr><tr><td>train_loss_epoch</td><td>█▇▄▄▃▃▃▂▂▂▂▂▂▂▂▂▂▁▁▂▂▂▁▂▂▁▁▁▁▁▁▂▁▁▁▁▁▁▁▁</td></tr><tr><td>train_loss_step</td><td>██▇▅▆▄▅▄▄▆▄▅▅▄▄▄▄▄▄▄▆▅▇▅▄▂▄▅▂▄▂▃▅▃▂▅▅▅▃▁</td></tr><tr><td>trainer/global_step</td><td>▁▁▁▂▂▁▂▂▂▃▂▃▃▂▂▄▄▄▂▂▅▅▂▅▂▆▆▂▆▆▃▃▃▇▇▃▃██▃</td></tr><tr><td>val_acc</td><td>▁▂▄▅▆▇▇▇▇▇▇▇▇▇▆▇▇▇▇▇▇▇█▇▇▇▇▇▇▇▇██▇▇█▆▇▇▇</td></tr><tr><td>val_auc</td><td>▁▂▅▅▆▆▇▇▇▇▇▇▇█▇▇█▇██████▇██▇▇████▇██████</td></tr><tr><td>val_f1</td><td>▁▃▇████▇█▇▇▇█▇▇██▇█▇█▇█▇█▇█▇▇███████▇██▇</td></tr><tr><td>val_loss_epoch</td><td>█▇▄▅▃▄▃▃▃▂▂▂▂▂▂▃▂▂▂▁▂▂▂▂▂▂▁▂▂▁▁▁▁▂▂▁▄▂▁▁</td></tr><tr><td>val_loss_step</td><td>█▇▅▆▅▄▄▅▃▃▄▂▄▂▃▄▃▃▂▄▃▂▂▃▃▃▄▄▂▁▄▅▃▄▅▂▂▂▄▅</td></tr></table><br/></div><div class=\"wandb-col\"><h3>Run summary:</h3><br/><table class=\"wandb\"><tr><td>epoch</td><td>64</td></tr><tr><td>lr-Adam</td><td>0.005</td></tr><tr><td>train_acc</td><td>0.7837</td></tr><tr><td>train_auc</td><td>0.85156</td></tr><tr><td>train_f1</td><td>0.69737</td></tr><tr><td>train_loss_epoch</td><td>0.46601</td></tr><tr><td>train_loss_step</td><td>0.35133</td></tr><tr><td>trainer/global_step</td><td>649</td></tr><tr><td>val_acc</td><td>0.77743</td></tr><tr><td>val_auc</td><td>0.85661</td></tr><tr><td>val_f1</td><td>0.63959</td></tr><tr><td>val_loss_epoch</td><td>0.42882</td></tr><tr><td>val_loss_step</td><td>0.29755</td></tr></table><br/></div></div>"
      ],
      "text/plain": [
       "<IPython.core.display.HTML object>"
      ]
     },
     "metadata": {},
     "output_type": "display_data"
    },
    {
     "data": {
      "text/html": [
       " View run <strong style=\"color:#cdcd00\">GINConv_norm_2_16_onehot_3</strong> at: <a href='https://wandb.ai/thoomas/PLA_01122024_5PPI_3D_Kfold/runs/3hasp4c1' target=\"_blank\">https://wandb.ai/thoomas/PLA_01122024_5PPI_3D_Kfold/runs/3hasp4c1</a><br/>Synced 6 W&B file(s), 0 media file(s), 0 artifact file(s) and 0 other file(s)"
      ],
      "text/plain": [
       "<IPython.core.display.HTML object>"
      ]
     },
     "metadata": {},
     "output_type": "display_data"
    },
    {
     "data": {
      "text/html": [
       "Find logs at: <code>.\\wandb\\run-20240116_033525-3hasp4c1\\logs</code>"
      ],
      "text/plain": [
       "<IPython.core.display.HTML object>"
      ]
     },
     "metadata": {},
     "output_type": "display_data"
    },
    {
     "data": {
      "text/html": [
       "wandb version 0.16.2 is available!  To upgrade, please run:\n",
       " $ pip install wandb --upgrade"
      ],
      "text/plain": [
       "<IPython.core.display.HTML object>"
      ]
     },
     "metadata": {},
     "output_type": "display_data"
    },
    {
     "data": {
      "text/html": [
       "Tracking run with wandb version 0.15.8"
      ],
      "text/plain": [
       "<IPython.core.display.HTML object>"
      ]
     },
     "metadata": {},
     "output_type": "display_data"
    },
    {
     "data": {
      "text/html": [
       "Run data is saved locally in <code>y:\\coskun-lab\\Thomas\\23_PLA_revision\\notebooks\\wandb\\run-20240116_034857-qh2uk7q1</code>"
      ],
      "text/plain": [
       "<IPython.core.display.HTML object>"
      ]
     },
     "metadata": {},
     "output_type": "display_data"
    },
    {
     "data": {
      "text/html": [
       "Syncing run <strong><a href='https://wandb.ai/thoomas/PLA_01122024_5PPI_3D_Kfold/runs/qh2uk7q1' target=\"_blank\">MLP_3_32_onehot_4</a></strong> to <a href='https://wandb.ai/thoomas/PLA_01122024_5PPI_3D_Kfold' target=\"_blank\">Weights & Biases</a> (<a href='https://wandb.me/run' target=\"_blank\">docs</a>)<br/>"
      ],
      "text/plain": [
       "<IPython.core.display.HTML object>"
      ]
     },
     "metadata": {},
     "output_type": "display_data"
    },
    {
     "data": {
      "text/html": [
       " View project at <a href='https://wandb.ai/thoomas/PLA_01122024_5PPI_3D_Kfold' target=\"_blank\">https://wandb.ai/thoomas/PLA_01122024_5PPI_3D_Kfold</a>"
      ],
      "text/plain": [
       "<IPython.core.display.HTML object>"
      ]
     },
     "metadata": {},
     "output_type": "display_data"
    },
    {
     "data": {
      "text/html": [
       " View run at <a href='https://wandb.ai/thoomas/PLA_01122024_5PPI_3D_Kfold/runs/qh2uk7q1' target=\"_blank\">https://wandb.ai/thoomas/PLA_01122024_5PPI_3D_Kfold/runs/qh2uk7q1</a>"
      ],
      "text/plain": [
       "<IPython.core.display.HTML object>"
      ]
     },
     "metadata": {},
     "output_type": "display_data"
    },
    {
     "name": "stderr",
     "output_type": "stream",
     "text": [
      "Global seed set to 42\n",
      "GPU available: True (cuda), used: True\n",
      "TPU available: False, using: 0 TPU cores\n",
      "IPU available: False, using: 0 IPUs\n",
      "HPU available: False, using: 0 HPUs\n",
      "Global seed set to 42\n",
      "c:\\Users\\thu71\\AppData\\Local\\anaconda3\\envs\\scanpy\\Lib\\site-packages\\lightning\\pytorch\\callbacks\\model_checkpoint.py:617: UserWarning: Checkpoint directory \\\\bme-retromaster.ad.gatech.edu\\labs5\\coskun-lab\\Thomas\\23_PLA_revision\\data\\OCT Cell Culture\\3D_Whole\\saved_models\\5PPI_3D\\Graph_GNNs_Kfold\\MLP_3_32_onehot_4\\mean\\GraphLevelMLP exists and is not empty.\n",
      "  rank_zero_warn(f\"Checkpoint directory {dirpath} exists and is not empty.\")\n",
      "LOCAL_RANK: 0 - CUDA_VISIBLE_DEVICES: [0]\n",
      "\n",
      "  | Name        | Type             | Params\n",
      "-------------------------------------------------\n",
      "0 | x_embedding | Identity         | 0     \n",
      "1 | model       | MLPModel         | 2.3 K \n",
      "2 | head        | Sequential       | 562   \n",
      "3 | loss_module | CrossEntropyLoss | 0     \n",
      "4 | train_acc   | BinaryAccuracy   | 0     \n",
      "5 | train_auroc | BinaryAUROC      | 0     \n",
      "6 | train_f1    | BinaryF1Score    | 0     \n",
      "7 | valid_acc   | BinaryAccuracy   | 0     \n",
      "8 | valid_auroc | BinaryAUROC      | 0     \n",
      "9 | valid_f1    | BinaryF1Score    | 0     \n",
      "-------------------------------------------------\n",
      "2.9 K     Trainable params\n",
      "0         Non-trainable params\n",
      "2.9 K     Total params\n",
      "0.011     Total estimated model params size (MB)\n"
     ]
    },
    {
     "name": "stdout",
     "output_type": "stream",
     "text": [
      "Using MLP\n"
     ]
    },
    {
     "name": "stderr",
     "output_type": "stream",
     "text": [
      "`Trainer.fit` stopped: `max_epochs=65` reached.\n"
     ]
    },
    {
     "data": {
      "text/html": [
       "Waiting for W&B process to finish... <strong style=\"color:green\">(success).</strong>"
      ],
      "text/plain": [
       "<IPython.core.display.HTML object>"
      ]
     },
     "metadata": {},
     "output_type": "display_data"
    },
    {
     "data": {
      "text/html": [
       "<style>\n",
       "    table.wandb td:nth-child(1) { padding: 0 10px; text-align: left ; width: auto;} td:nth-child(2) {text-align: left ; width: 100%}\n",
       "    .wandb-row { display: flex; flex-direction: row; flex-wrap: wrap; justify-content: flex-start; width: 100% }\n",
       "    .wandb-col { display: flex; flex-direction: column; flex-basis: 100%; flex: 1; padding: 10px; }\n",
       "    </style>\n",
       "<div class=\"wandb-row\"><div class=\"wandb-col\"><h3>Run history:</h3><br/><table class=\"wandb\"><tr><td>epoch</td><td>▁▁▁▂▂▂▂▂▂▃▃▃▃▃▄▄▄▄▄▄▅▅▅▅▅▅▆▆▆▆▆▇▇▇▇▇▇███</td></tr><tr><td>lr-Adam</td><td>▁▁▁▁▁▁▁▁▁▁▁▁▁▁▁▁▁▁▁▁▁▁▁▁▁▁▁▁▁▁▁▁▁▁▁▁▁▁▁▁</td></tr><tr><td>train_acc</td><td>▁▄▅▅▅▆▇▇▇▇█▇▇▇▇▇▇██▇▇▇█▇▇██▇███▇▇█▇▇▇▇▇▇</td></tr><tr><td>train_auc</td><td>▁▁▂▂▃▆▇▇▇▇▇▇▇▇▇▇▇█▇▇▇█████████████▇████▇</td></tr><tr><td>train_f1</td><td>▅▂▁▁▁▆█▇▇▇██▇▇▇█▇██▇▇▇█▇▇█▇▇████▇▇█▇█▇▇▇</td></tr><tr><td>train_loss_epoch</td><td>█▆▆▆▅▃▂▂▂▂▂▂▂▂▂▂▂▂▂▂▂▁▂▁▂▂▂▁▁▁▂▂▁▁▂▁▂▂▂▂</td></tr><tr><td>train_loss_step</td><td>█▇▇▆▇▃▂▃▆▂▂▂▂▁▃▃▆▃▃▂▁▃▂▁▄▂▁▂▅▂▄▄▂▄▄▂▁▂▃▅</td></tr><tr><td>trainer/global_step</td><td>▁▁▁▂▂▁▂▂▂▃▂▃▃▂▂▄▄▄▂▂▅▅▂▅▂▆▆▂▆▆▃▃▃▇▇▃▃██▃</td></tr><tr><td>val_acc</td><td>▁▁▁▁▁▆▆▆▇▆▆▅▆█▇▆▆▄▆▆▇▆▆▆▆▆▆▆█▆▇▅▇▆▆▇▆█▇▇</td></tr><tr><td>val_auc</td><td>▁▃▇█████████████████████████████████████</td></tr><tr><td>val_f1</td><td>▁▁▁▁▁▇▆▆▇▇▇▆▆█▇▇▆▅▇▇▇▇▇▆▇▆▆▇█▆▇▆▇▇▆▇▆█▇▇</td></tr><tr><td>val_loss_epoch</td><td>██▇▇▆▂▂▂▂▂▂▂▂▁▂▂▂▃▂▂▂▂▁▂▂▂▂▁▁▂▂▂▂▁▁▂▂▁▁▂</td></tr><tr><td>val_loss_step</td><td>█▇▆▆▇▅▄▄▄▅▃▄▄▃▄▄▄▅▄▄▅▄▃▃▄▃▄▄▃▃▄▄▃▄▁▄▄▄▄▃</td></tr></table><br/></div><div class=\"wandb-col\"><h3>Run summary:</h3><br/><table class=\"wandb\"><tr><td>epoch</td><td>64</td></tr><tr><td>lr-Adam</td><td>0.005</td></tr><tr><td>train_acc</td><td>0.72727</td></tr><tr><td>train_auc</td><td>0.76784</td></tr><tr><td>train_f1</td><td>0.54211</td></tr><tr><td>train_loss_epoch</td><td>0.53483</td></tr><tr><td>train_loss_step</td><td>0.60046</td></tr><tr><td>trainer/global_step</td><td>649</td></tr><tr><td>val_acc</td><td>0.70533</td></tr><tr><td>val_auc</td><td>0.79946</td></tr><tr><td>val_f1</td><td>0.62698</td></tr><tr><td>val_loss_epoch</td><td>0.55244</td></tr><tr><td>val_loss_step</td><td>0.57057</td></tr></table><br/></div></div>"
      ],
      "text/plain": [
       "<IPython.core.display.HTML object>"
      ]
     },
     "metadata": {},
     "output_type": "display_data"
    },
    {
     "data": {
      "text/html": [
       " View run <strong style=\"color:#cdcd00\">MLP_3_32_onehot_4</strong> at: <a href='https://wandb.ai/thoomas/PLA_01122024_5PPI_3D_Kfold/runs/qh2uk7q1' target=\"_blank\">https://wandb.ai/thoomas/PLA_01122024_5PPI_3D_Kfold/runs/qh2uk7q1</a><br/>Synced 6 W&B file(s), 0 media file(s), 0 artifact file(s) and 0 other file(s)"
      ],
      "text/plain": [
       "<IPython.core.display.HTML object>"
      ]
     },
     "metadata": {},
     "output_type": "display_data"
    },
    {
     "data": {
      "text/html": [
       "Find logs at: <code>.\\wandb\\run-20240116_034857-qh2uk7q1\\logs</code>"
      ],
      "text/plain": [
       "<IPython.core.display.HTML object>"
      ]
     },
     "metadata": {},
     "output_type": "display_data"
    },
    {
     "data": {
      "application/vnd.jupyter.widget-view+json": {
       "model_id": "f2dd3dd356cd41108d14ee5fcd446bb0",
       "version_major": 2,
       "version_minor": 0
      },
      "text/plain": [
       "VBox(children=(Label(value='Waiting for wandb.init()...\\r'), FloatProgress(value=0.016933333330477276, max=1.0…"
      ]
     },
     "metadata": {},
     "output_type": "display_data"
    },
    {
     "data": {
      "text/html": [
       "wandb version 0.16.2 is available!  To upgrade, please run:\n",
       " $ pip install wandb --upgrade"
      ],
      "text/plain": [
       "<IPython.core.display.HTML object>"
      ]
     },
     "metadata": {},
     "output_type": "display_data"
    },
    {
     "data": {
      "text/html": [
       "Tracking run with wandb version 0.15.8"
      ],
      "text/plain": [
       "<IPython.core.display.HTML object>"
      ]
     },
     "metadata": {},
     "output_type": "display_data"
    },
    {
     "data": {
      "text/html": [
       "Run data is saved locally in <code>y:\\coskun-lab\\Thomas\\23_PLA_revision\\notebooks\\wandb\\run-20240116_040150-yepds4gs</code>"
      ],
      "text/plain": [
       "<IPython.core.display.HTML object>"
      ]
     },
     "metadata": {},
     "output_type": "display_data"
    },
    {
     "data": {
      "text/html": [
       "Syncing run <strong><a href='https://wandb.ai/thoomas/PLA_01122024_5PPI_3D_Kfold/runs/yepds4gs' target=\"_blank\">GraphConv_3_32_onehot_4</a></strong> to <a href='https://wandb.ai/thoomas/PLA_01122024_5PPI_3D_Kfold' target=\"_blank\">Weights & Biases</a> (<a href='https://wandb.me/run' target=\"_blank\">docs</a>)<br/>"
      ],
      "text/plain": [
       "<IPython.core.display.HTML object>"
      ]
     },
     "metadata": {},
     "output_type": "display_data"
    },
    {
     "data": {
      "text/html": [
       " View project at <a href='https://wandb.ai/thoomas/PLA_01122024_5PPI_3D_Kfold' target=\"_blank\">https://wandb.ai/thoomas/PLA_01122024_5PPI_3D_Kfold</a>"
      ],
      "text/plain": [
       "<IPython.core.display.HTML object>"
      ]
     },
     "metadata": {},
     "output_type": "display_data"
    },
    {
     "data": {
      "text/html": [
       " View run at <a href='https://wandb.ai/thoomas/PLA_01122024_5PPI_3D_Kfold/runs/yepds4gs' target=\"_blank\">https://wandb.ai/thoomas/PLA_01122024_5PPI_3D_Kfold/runs/yepds4gs</a>"
      ],
      "text/plain": [
       "<IPython.core.display.HTML object>"
      ]
     },
     "metadata": {},
     "output_type": "display_data"
    },
    {
     "name": "stderr",
     "output_type": "stream",
     "text": [
      "Global seed set to 42\n",
      "GPU available: True (cuda), used: True\n",
      "TPU available: False, using: 0 TPU cores\n",
      "IPU available: False, using: 0 IPUs\n",
      "HPU available: False, using: 0 HPUs\n",
      "Global seed set to 42\n",
      "c:\\Users\\thu71\\AppData\\Local\\anaconda3\\envs\\scanpy\\Lib\\site-packages\\lightning\\pytorch\\callbacks\\model_checkpoint.py:617: UserWarning: Checkpoint directory \\\\bme-retromaster.ad.gatech.edu\\labs5\\coskun-lab\\Thomas\\23_PLA_revision\\data\\OCT Cell Culture\\3D_Whole\\saved_models\\5PPI_3D\\Graph_GNNs_Kfold\\GraphConv_3_32_onehot_4\\attention2\\GraphLevelGraphConv exists and is not empty.\n",
      "  rank_zero_warn(f\"Checkpoint directory {dirpath} exists and is not empty.\")\n",
      "LOCAL_RANK: 0 - CUDA_VISIBLE_DEVICES: [0]\n",
      "\n",
      "   | Name        | Type             | Params\n",
      "--------------------------------------------------\n",
      "0  | x_embedding | Identity         | 0     \n",
      "1  | model       | GNNModel         | 4.6 K \n",
      "2  | head        | Sequential       | 562   \n",
      "3  | loss_module | CrossEntropyLoss | 0     \n",
      "4  | train_acc   | BinaryAccuracy   | 0     \n",
      "5  | train_auroc | BinaryAUROC      | 0     \n",
      "6  | train_f1    | BinaryF1Score    | 0     \n",
      "7  | valid_acc   | BinaryAccuracy   | 0     \n",
      "8  | valid_auroc | BinaryAUROC      | 0     \n",
      "9  | valid_f1    | BinaryF1Score    | 0     \n",
      "10 | pool        | Attention_module | 1.1 K \n",
      "--------------------------------------------------\n",
      "6.3 K     Trainable params\n",
      "0         Non-trainable params\n",
      "6.3 K     Total params\n",
      "0.025     Total estimated model params size (MB)\n"
     ]
    },
    {
     "name": "stdout",
     "output_type": "stream",
     "text": [
      "Using GNN\n"
     ]
    },
    {
     "name": "stderr",
     "output_type": "stream",
     "text": [
      "`Trainer.fit` stopped: `max_epochs=65` reached.\n"
     ]
    },
    {
     "data": {
      "text/html": [
       "Waiting for W&B process to finish... <strong style=\"color:green\">(success).</strong>"
      ],
      "text/plain": [
       "<IPython.core.display.HTML object>"
      ]
     },
     "metadata": {},
     "output_type": "display_data"
    },
    {
     "data": {
      "application/vnd.jupyter.widget-view+json": {
       "model_id": "d536082c045f41a5a4ac2078ca3a0657",
       "version_major": 2,
       "version_minor": 0
      },
      "text/plain": [
       "VBox(children=(Label(value='0.001 MB of 0.001 MB uploaded (0.000 MB deduped)\\r'), FloatProgress(value=1.0, max…"
      ]
     },
     "metadata": {},
     "output_type": "display_data"
    },
    {
     "data": {
      "text/html": [
       "<style>\n",
       "    table.wandb td:nth-child(1) { padding: 0 10px; text-align: left ; width: auto;} td:nth-child(2) {text-align: left ; width: 100%}\n",
       "    .wandb-row { display: flex; flex-direction: row; flex-wrap: wrap; justify-content: flex-start; width: 100% }\n",
       "    .wandb-col { display: flex; flex-direction: column; flex-basis: 100%; flex: 1; padding: 10px; }\n",
       "    </style>\n",
       "<div class=\"wandb-row\"><div class=\"wandb-col\"><h3>Run history:</h3><br/><table class=\"wandb\"><tr><td>epoch</td><td>▁▁▁▂▂▂▂▂▂▃▃▃▃▃▄▄▄▄▄▄▅▅▅▅▅▅▆▆▆▆▆▇▇▇▇▇▇███</td></tr><tr><td>lr-Adam</td><td>▁▁▁▁▁▁▁▁▁▁▁▁▁▁▁▁▁▁▁▁▁▁▁▁▁▁▁▁▁▁▁▁▁▁▁▁▁▁▁▁</td></tr><tr><td>train_acc</td><td>▁▃▅▆▇▆▇▆▇▇▇▇▇▇▇▇█▇▇█▇▇█▇▇▇█▇▇█▇██████▇▇█</td></tr><tr><td>train_auc</td><td>▁▅▆▇▇▇▇▇▇▇▇▇▇▇▇▇▇█▇█▇▇█▇▇████████████▇██</td></tr><tr><td>train_f1</td><td>▁▃▆▇▇▇▇▇▇▇▇▇▇▇▇▇███████▇▇██▇██████▇█████</td></tr><tr><td>train_loss_epoch</td><td>█▆▄▄▃▃▃▃▂▃▂▂▂▂▂▂▂▂▂▂▂▂▂▂▂▂▂▂▁▁▁▁▁▁▁▁▁▂▁▁</td></tr><tr><td>train_loss_step</td><td>█▇▅▅▄▄▃▄▄▅▄▂▃▅▅▄▆▂▄▄▃▆▂▅▃▄▄▅▄▁▃▃▅▂▂▇▄▅▃▆</td></tr><tr><td>trainer/global_step</td><td>▁▁▁▂▂▁▂▂▂▃▂▃▃▂▂▄▄▄▂▂▅▅▂▅▂▆▆▂▆▆▃▃▃▇▇▃▃██▃</td></tr><tr><td>val_acc</td><td>▁▅▇▇▇▇▆▆▇▇▇▆▇▇▇▇▇█▅▆█▇▇▇▇██▇█▇▆▇▇▆▇▇▇▇▆▆</td></tr><tr><td>val_auc</td><td>▁▂▅▆▆▇▆▆▆▆▇▇▆▇▇▇▇▇▇▇▇█▇▇▆▆▆▇▇▇▆█▆▆▆▇█▇▆▇</td></tr><tr><td>val_f1</td><td>▁▇█▇██▆█████▇█▇█▇█▆▇█▇▇█▇█████▇█▇▇█▇██▇▇</td></tr><tr><td>val_loss_epoch</td><td>█▆▃▃▁▃▃▃▂▃▂▃▂▃▃▁▄▂▅▃▁▂▂▂▂▃▃▂▃▁▂▄▂▃▃▃▂▂▃▃</td></tr><tr><td>val_loss_step</td><td>▇▆▄▄▄▄▄▃▃▃▄▄▁▅▅▄▃▃█▄▃▃▅▂▂▂▄▄▅▁▃▃▂▄▂▃▂▂▄▄</td></tr></table><br/></div><div class=\"wandb-col\"><h3>Run summary:</h3><br/><table class=\"wandb\"><tr><td>epoch</td><td>64</td></tr><tr><td>lr-Adam</td><td>0.005</td></tr><tr><td>train_acc</td><td>0.82837</td></tr><tr><td>train_auc</td><td>0.89056</td></tr><tr><td>train_f1</td><td>0.75476</td></tr><tr><td>train_loss_epoch</td><td>0.39304</td></tr><tr><td>train_loss_step</td><td>0.50491</td></tr><tr><td>trainer/global_step</td><td>649</td></tr><tr><td>val_acc</td><td>0.75862</td></tr><tr><td>val_auc</td><td>0.85073</td></tr><tr><td>val_f1</td><td>0.69076</td></tr><tr><td>val_loss_epoch</td><td>0.49376</td></tr><tr><td>val_loss_step</td><td>0.45963</td></tr></table><br/></div></div>"
      ],
      "text/plain": [
       "<IPython.core.display.HTML object>"
      ]
     },
     "metadata": {},
     "output_type": "display_data"
    },
    {
     "data": {
      "text/html": [
       " View run <strong style=\"color:#cdcd00\">GraphConv_3_32_onehot_4</strong> at: <a href='https://wandb.ai/thoomas/PLA_01122024_5PPI_3D_Kfold/runs/yepds4gs' target=\"_blank\">https://wandb.ai/thoomas/PLA_01122024_5PPI_3D_Kfold/runs/yepds4gs</a><br/>Synced 6 W&B file(s), 0 media file(s), 0 artifact file(s) and 0 other file(s)"
      ],
      "text/plain": [
       "<IPython.core.display.HTML object>"
      ]
     },
     "metadata": {},
     "output_type": "display_data"
    },
    {
     "data": {
      "text/html": [
       "Find logs at: <code>.\\wandb\\run-20240116_040150-yepds4gs\\logs</code>"
      ],
      "text/plain": [
       "<IPython.core.display.HTML object>"
      ]
     },
     "metadata": {},
     "output_type": "display_data"
    },
    {
     "data": {
      "text/html": [
       "wandb version 0.16.2 is available!  To upgrade, please run:\n",
       " $ pip install wandb --upgrade"
      ],
      "text/plain": [
       "<IPython.core.display.HTML object>"
      ]
     },
     "metadata": {},
     "output_type": "display_data"
    },
    {
     "data": {
      "text/html": [
       "Tracking run with wandb version 0.15.8"
      ],
      "text/plain": [
       "<IPython.core.display.HTML object>"
      ]
     },
     "metadata": {},
     "output_type": "display_data"
    },
    {
     "data": {
      "text/html": [
       "Run data is saved locally in <code>y:\\coskun-lab\\Thomas\\23_PLA_revision\\notebooks\\wandb\\run-20240116_041420-6yvykep8</code>"
      ],
      "text/plain": [
       "<IPython.core.display.HTML object>"
      ]
     },
     "metadata": {},
     "output_type": "display_data"
    },
    {
     "data": {
      "text/html": [
       "Syncing run <strong><a href='https://wandb.ai/thoomas/PLA_01122024_5PPI_3D_Kfold/runs/6yvykep8' target=\"_blank\">GCN_2_64_onehot_4</a></strong> to <a href='https://wandb.ai/thoomas/PLA_01122024_5PPI_3D_Kfold' target=\"_blank\">Weights & Biases</a> (<a href='https://wandb.me/run' target=\"_blank\">docs</a>)<br/>"
      ],
      "text/plain": [
       "<IPython.core.display.HTML object>"
      ]
     },
     "metadata": {},
     "output_type": "display_data"
    },
    {
     "data": {
      "text/html": [
       " View project at <a href='https://wandb.ai/thoomas/PLA_01122024_5PPI_3D_Kfold' target=\"_blank\">https://wandb.ai/thoomas/PLA_01122024_5PPI_3D_Kfold</a>"
      ],
      "text/plain": [
       "<IPython.core.display.HTML object>"
      ]
     },
     "metadata": {},
     "output_type": "display_data"
    },
    {
     "data": {
      "text/html": [
       " View run at <a href='https://wandb.ai/thoomas/PLA_01122024_5PPI_3D_Kfold/runs/6yvykep8' target=\"_blank\">https://wandb.ai/thoomas/PLA_01122024_5PPI_3D_Kfold/runs/6yvykep8</a>"
      ],
      "text/plain": [
       "<IPython.core.display.HTML object>"
      ]
     },
     "metadata": {},
     "output_type": "display_data"
    },
    {
     "name": "stderr",
     "output_type": "stream",
     "text": [
      "Global seed set to 42\n",
      "GPU available: True (cuda), used: True\n",
      "TPU available: False, using: 0 TPU cores\n",
      "IPU available: False, using: 0 IPUs\n",
      "HPU available: False, using: 0 HPUs\n",
      "Global seed set to 42\n",
      "c:\\Users\\thu71\\AppData\\Local\\anaconda3\\envs\\scanpy\\Lib\\site-packages\\lightning\\pytorch\\callbacks\\model_checkpoint.py:617: UserWarning: Checkpoint directory \\\\bme-retromaster.ad.gatech.edu\\labs5\\coskun-lab\\Thomas\\23_PLA_revision\\data\\OCT Cell Culture\\3D_Whole\\saved_models\\5PPI_3D\\Graph_GNNs_Kfold\\GCN_2_64_onehot_4\\attention2\\GraphLevelGCN exists and is not empty.\n",
      "  rank_zero_warn(f\"Checkpoint directory {dirpath} exists and is not empty.\")\n",
      "LOCAL_RANK: 0 - CUDA_VISIBLE_DEVICES: [0]\n",
      "\n",
      "   | Name        | Type             | Params\n",
      "--------------------------------------------------\n",
      "0  | x_embedding | Identity         | 0     \n",
      "1  | model       | GNNModel         | 4.7 K \n",
      "2  | head        | Sequential       | 2.1 K \n",
      "3  | loss_module | CrossEntropyLoss | 0     \n",
      "4  | train_acc   | BinaryAccuracy   | 0     \n",
      "5  | train_auroc | BinaryAUROC      | 0     \n",
      "6  | train_f1    | BinaryF1Score    | 0     \n",
      "7  | valid_acc   | BinaryAccuracy   | 0     \n",
      "8  | valid_auroc | BinaryAUROC      | 0     \n",
      "9  | valid_f1    | BinaryF1Score    | 0     \n",
      "10 | pool        | Attention_module | 4.2 K \n",
      "--------------------------------------------------\n",
      "11.0 K    Trainable params\n",
      "0         Non-trainable params\n",
      "11.0 K    Total params\n",
      "0.044     Total estimated model params size (MB)\n"
     ]
    },
    {
     "name": "stdout",
     "output_type": "stream",
     "text": [
      "Using GNN\n"
     ]
    },
    {
     "name": "stderr",
     "output_type": "stream",
     "text": [
      "`Trainer.fit` stopped: `max_epochs=65` reached.\n"
     ]
    },
    {
     "data": {
      "text/html": [
       "Waiting for W&B process to finish... <strong style=\"color:green\">(success).</strong>"
      ],
      "text/plain": [
       "<IPython.core.display.HTML object>"
      ]
     },
     "metadata": {},
     "output_type": "display_data"
    },
    {
     "data": {
      "text/html": [
       "<style>\n",
       "    table.wandb td:nth-child(1) { padding: 0 10px; text-align: left ; width: auto;} td:nth-child(2) {text-align: left ; width: 100%}\n",
       "    .wandb-row { display: flex; flex-direction: row; flex-wrap: wrap; justify-content: flex-start; width: 100% }\n",
       "    .wandb-col { display: flex; flex-direction: column; flex-basis: 100%; flex: 1; padding: 10px; }\n",
       "    </style>\n",
       "<div class=\"wandb-row\"><div class=\"wandb-col\"><h3>Run history:</h3><br/><table class=\"wandb\"><tr><td>epoch</td><td>▁▁▁▂▂▂▂▂▂▃▃▃▃▃▄▄▄▄▄▄▅▅▅▅▅▅▆▆▆▆▆▇▇▇▇▇▇███</td></tr><tr><td>lr-Adam</td><td>▁▁▁▁▁▁▁▁▁▁▁▁▁▁▁▁▁▁▁▁▁▁▁▁▁▁▁▁▁▁▁▁▁▁▁▁▁▁▁▁</td></tr><tr><td>train_acc</td><td>▁▆▇▆▇█▇▇▇▇▇▇▇█▇▇█▇█▇▇█▇▇▇█▇▇█▇▇██▇▇█▇██▇</td></tr><tr><td>train_auc</td><td>▁▆▇▆██▇▇▇▇▇▇▇████▇█▇▇██████▇██▇█▇▇██▇██▇</td></tr><tr><td>train_f1</td><td>▁▆▇▇▇▇▇▇▇▇▇▇▇▇▇▇▇▇█▇▇█▇▇▇▇▇▇█▇▇▇█▇▇█▇█▇▇</td></tr><tr><td>train_loss_epoch</td><td>█▄▃▃▂▁▂▂▂▂▁▂▂▁▂▁▂▂▁▂▃▁▂▂▁▁▁▂▁▂▂▁▂▂▂▂▂▂▁▂</td></tr><tr><td>train_loss_step</td><td>▇▄▅▅▂▃▅▇▄▄▂▆▅▃▁▃▄▄▄▃█▄▃▄▄▅▅▇▄▄▄▄▆▅▂▅▂▅▃▅</td></tr><tr><td>trainer/global_step</td><td>▁▁▁▂▂▁▂▂▂▃▂▃▃▂▂▄▄▄▂▂▅▅▂▅▂▆▆▂▆▆▃▃▃▇▇▃▃██▃</td></tr><tr><td>val_acc</td><td>▆▅▁▇▅█▇▄▆▆▅▇▇▇▆▆▆▇▇█▃▅▇█▅▇▇█▇▄█▇▇▇▇▅▇▇▇▅</td></tr><tr><td>val_auc</td><td>▃▁▄▇▇██▆█▇█▇▇▇▇▇▇███▆███▇█▇██▇██▇▇██▇▇▇▇</td></tr><tr><td>val_f1</td><td>▇▇▁█▆██▄▆▆██▇█▆█████▂▅██▅█▇█▇▄██▇█▇▅▇▇▇▆</td></tr><tr><td>val_loss_epoch</td><td>█▇▄▂▃▂▂▆▃▂▂▂▂▃▃▂▃▁▁▁▆▄▂▁▃▁▂▁▂▄▂▁▂▂▂▃▂▂▃▃</td></tr><tr><td>val_loss_step</td><td>▇▆▆▄▄▃▄█▂▄▅▅▅▅▄▃▄▂▁▄▃▄▃▂▅▄▃▄▄▆▂▄▃▂▃▄▄▂▃▄</td></tr></table><br/></div><div class=\"wandb-col\"><h3>Run summary:</h3><br/><table class=\"wandb\"><tr><td>epoch</td><td>64</td></tr><tr><td>lr-Adam</td><td>0.005</td></tr><tr><td>train_acc</td><td>0.80251</td></tr><tr><td>train_auc</td><td>0.86507</td></tr><tr><td>train_f1</td><td>0.685</td></tr><tr><td>train_loss_epoch</td><td>0.44429</td></tr><tr><td>train_loss_step</td><td>0.45552</td></tr><tr><td>trainer/global_step</td><td>649</td></tr><tr><td>val_acc</td><td>0.74922</td></tr><tr><td>val_auc</td><td>0.8441</td></tr><tr><td>val_f1</td><td>0.65217</td></tr><tr><td>val_loss_epoch</td><td>0.5168</td></tr><tr><td>val_loss_step</td><td>0.54668</td></tr></table><br/></div></div>"
      ],
      "text/plain": [
       "<IPython.core.display.HTML object>"
      ]
     },
     "metadata": {},
     "output_type": "display_data"
    },
    {
     "data": {
      "text/html": [
       " View run <strong style=\"color:#cdcd00\">GCN_2_64_onehot_4</strong> at: <a href='https://wandb.ai/thoomas/PLA_01122024_5PPI_3D_Kfold/runs/6yvykep8' target=\"_blank\">https://wandb.ai/thoomas/PLA_01122024_5PPI_3D_Kfold/runs/6yvykep8</a><br/>Synced 6 W&B file(s), 0 media file(s), 0 artifact file(s) and 0 other file(s)"
      ],
      "text/plain": [
       "<IPython.core.display.HTML object>"
      ]
     },
     "metadata": {},
     "output_type": "display_data"
    },
    {
     "data": {
      "text/html": [
       "Find logs at: <code>.\\wandb\\run-20240116_041420-6yvykep8\\logs</code>"
      ],
      "text/plain": [
       "<IPython.core.display.HTML object>"
      ]
     },
     "metadata": {},
     "output_type": "display_data"
    },
    {
     "data": {
      "application/vnd.jupyter.widget-view+json": {
       "model_id": "ab525b4d50ed4ce4a4d4611c786acfc1",
       "version_major": 2,
       "version_minor": 0
      },
      "text/plain": [
       "VBox(children=(Label(value='Waiting for wandb.init()...\\r'), FloatProgress(value=0.0169333333382383, max=1.0))…"
      ]
     },
     "metadata": {},
     "output_type": "display_data"
    },
    {
     "data": {
      "text/html": [
       "wandb version 0.16.2 is available!  To upgrade, please run:\n",
       " $ pip install wandb --upgrade"
      ],
      "text/plain": [
       "<IPython.core.display.HTML object>"
      ]
     },
     "metadata": {},
     "output_type": "display_data"
    },
    {
     "data": {
      "text/html": [
       "Tracking run with wandb version 0.15.8"
      ],
      "text/plain": [
       "<IPython.core.display.HTML object>"
      ]
     },
     "metadata": {},
     "output_type": "display_data"
    },
    {
     "data": {
      "text/html": [
       "Run data is saved locally in <code>y:\\coskun-lab\\Thomas\\23_PLA_revision\\notebooks\\wandb\\run-20240116_042656-bwwnpveb</code>"
      ],
      "text/plain": [
       "<IPython.core.display.HTML object>"
      ]
     },
     "metadata": {},
     "output_type": "display_data"
    },
    {
     "data": {
      "text/html": [
       "Syncing run <strong><a href='https://wandb.ai/thoomas/PLA_01122024_5PPI_3D_Kfold/runs/bwwnpveb' target=\"_blank\">GAT_norm_3_64_onehot_4</a></strong> to <a href='https://wandb.ai/thoomas/PLA_01122024_5PPI_3D_Kfold' target=\"_blank\">Weights & Biases</a> (<a href='https://wandb.me/run' target=\"_blank\">docs</a>)<br/>"
      ],
      "text/plain": [
       "<IPython.core.display.HTML object>"
      ]
     },
     "metadata": {},
     "output_type": "display_data"
    },
    {
     "data": {
      "text/html": [
       " View project at <a href='https://wandb.ai/thoomas/PLA_01122024_5PPI_3D_Kfold' target=\"_blank\">https://wandb.ai/thoomas/PLA_01122024_5PPI_3D_Kfold</a>"
      ],
      "text/plain": [
       "<IPython.core.display.HTML object>"
      ]
     },
     "metadata": {},
     "output_type": "display_data"
    },
    {
     "data": {
      "text/html": [
       " View run at <a href='https://wandb.ai/thoomas/PLA_01122024_5PPI_3D_Kfold/runs/bwwnpveb' target=\"_blank\">https://wandb.ai/thoomas/PLA_01122024_5PPI_3D_Kfold/runs/bwwnpveb</a>"
      ],
      "text/plain": [
       "<IPython.core.display.HTML object>"
      ]
     },
     "metadata": {},
     "output_type": "display_data"
    },
    {
     "name": "stderr",
     "output_type": "stream",
     "text": [
      "Global seed set to 42\n",
      "GPU available: True (cuda), used: True\n",
      "TPU available: False, using: 0 TPU cores\n",
      "IPU available: False, using: 0 IPUs\n",
      "HPU available: False, using: 0 HPUs\n",
      "Global seed set to 42\n",
      "c:\\Users\\thu71\\AppData\\Local\\anaconda3\\envs\\scanpy\\Lib\\site-packages\\lightning\\pytorch\\callbacks\\model_checkpoint.py:617: UserWarning: Checkpoint directory \\\\bme-retromaster.ad.gatech.edu\\labs5\\coskun-lab\\Thomas\\23_PLA_revision\\data\\OCT Cell Culture\\3D_Whole\\saved_models\\5PPI_3D\\Graph_GNNs_Kfold\\GAT_norm_3_64_onehot_4\\attention\\GraphLevelGAT_norm exists and is not empty.\n",
      "  rank_zero_warn(f\"Checkpoint directory {dirpath} exists and is not empty.\")\n",
      "LOCAL_RANK: 0 - CUDA_VISIBLE_DEVICES: [0]\n",
      "\n",
      "   | Name        | Type             | Params\n",
      "--------------------------------------------------\n",
      "0  | x_embedding | Identity         | 0     \n",
      "1  | model       | GAT              | 78.0 K\n",
      "2  | head        | Sequential       | 2.1 K \n",
      "3  | loss_module | CrossEntropyLoss | 0     \n",
      "4  | train_acc   | BinaryAccuracy   | 0     \n",
      "5  | train_auroc | BinaryAUROC      | 0     \n",
      "6  | train_f1    | BinaryF1Score    | 0     \n",
      "7  | valid_acc   | BinaryAccuracy   | 0     \n",
      "8  | valid_auroc | BinaryAUROC      | 0     \n",
      "9  | valid_f1    | BinaryF1Score    | 0     \n",
      "10 | pool        | GlobalAttention  | 65    \n",
      "--------------------------------------------------\n",
      "80.2 K    Trainable params\n",
      "0         Non-trainable params\n",
      "80.2 K    Total params\n",
      "0.321     Total estimated model params size (MB)\n"
     ]
    },
    {
     "name": "stdout",
     "output_type": "stream",
     "text": [
      "Using GAT\n"
     ]
    },
    {
     "name": "stderr",
     "output_type": "stream",
     "text": [
      "`Trainer.fit` stopped: `max_epochs=65` reached.\n"
     ]
    },
    {
     "data": {
      "text/html": [
       "Waiting for W&B process to finish... <strong style=\"color:green\">(success).</strong>"
      ],
      "text/plain": [
       "<IPython.core.display.HTML object>"
      ]
     },
     "metadata": {},
     "output_type": "display_data"
    },
    {
     "data": {
      "application/vnd.jupyter.widget-view+json": {
       "model_id": "67100dfbf8eb4e15bd8a0f5daad25bfa",
       "version_major": 2,
       "version_minor": 0
      },
      "text/plain": [
       "VBox(children=(Label(value='0.001 MB of 0.001 MB uploaded (0.000 MB deduped)\\r'), FloatProgress(value=1.0, max…"
      ]
     },
     "metadata": {},
     "output_type": "display_data"
    },
    {
     "data": {
      "text/html": [
       "<style>\n",
       "    table.wandb td:nth-child(1) { padding: 0 10px; text-align: left ; width: auto;} td:nth-child(2) {text-align: left ; width: 100%}\n",
       "    .wandb-row { display: flex; flex-direction: row; flex-wrap: wrap; justify-content: flex-start; width: 100% }\n",
       "    .wandb-col { display: flex; flex-direction: column; flex-basis: 100%; flex: 1; padding: 10px; }\n",
       "    </style>\n",
       "<div class=\"wandb-row\"><div class=\"wandb-col\"><h3>Run history:</h3><br/><table class=\"wandb\"><tr><td>epoch</td><td>▁▁▁▂▂▂▂▂▂▃▃▃▃▃▄▄▄▄▄▄▅▅▅▅▅▅▆▆▆▆▆▇▇▇▇▇▇███</td></tr><tr><td>lr-Adam</td><td>▁▁▁▁▁▁▁▁▁▁▁▁▁▁▁▁▁▁▁▁▁▁▁▁▁▁▁▁▁▁▁▁▁▁▁▁▁▁▁▁</td></tr><tr><td>train_acc</td><td>▁▅▅▆▆▇▆▆▇▇▆▇▇▇▇█▇▇▇▇▇▇▇▇▇▇▇▇▇▇██▇▇█▇▆▇▇█</td></tr><tr><td>train_auc</td><td>▁▅▆▇▇▇▇▇▇▇▇▇▇▇██▇█▇██▇███▇█▇████████▇███</td></tr><tr><td>train_f1</td><td>▁▆▇▇▇▇▇▇▇█▇▇█▇███████▇████▇▇█▇██▇███▇███</td></tr><tr><td>train_loss_epoch</td><td>█▅▄▃▃▂▃▃▂▃▃▂▂▃▂▂▂▂▂▂▂▂▁▂▂▂▂▂▁▁▂▁▁▁▁▁▂▂▁▂</td></tr><tr><td>train_loss_step</td><td>▇▆▄█▃▆▅▂▂▄▅▂▃▄▅▂▃▃▃▂▄▄▂▄▆▄▄▄▄▅▃▁▃▃▅▂▄▄▃▂</td></tr><tr><td>trainer/global_step</td><td>▁▁▁▂▂▁▂▂▂▃▂▃▃▂▂▄▄▄▂▂▅▅▂▅▂▆▆▂▆▆▃▃▃▇▇▃▃██▃</td></tr><tr><td>val_acc</td><td>▁▁▆▇██▇▇▇██▆▇▆▇▆▇▇▇▇█▇▇▇▇▇▇▇▇▆▇▇▅▆▇▆▇▇▇▆</td></tr><tr><td>val_auc</td><td>▁▁▄▄▅▅▅▆▆▅▆▆▆▇▇▆▇▆▇▇▇▆▇▆▇▇▇▆▇▅▇▇▇▇██▇▇██</td></tr><tr><td>val_f1</td><td>▁▂▇███████████████▇█████████████████████</td></tr><tr><td>val_loss_epoch</td><td>█▇▃▂▃▂▄▂▃▂▁▃▃▂▂▄▁▄▂▂▂▃▁▃▅▃▁▂▃▅▁▂▇▃▄▄▃▂▂▂</td></tr><tr><td>val_loss_step</td><td>▇▆▃▃▄▂▆▄▃▃▃▄▅▃▂▄▄▇▃▂▄▄▃▁█▁▃▅▅▅▂▄▅▁▆▂▅▄▂▂</td></tr></table><br/></div><div class=\"wandb-col\"><h3>Run summary:</h3><br/><table class=\"wandb\"><tr><td>epoch</td><td>64</td></tr><tr><td>lr-Adam</td><td>0.005</td></tr><tr><td>train_acc</td><td>0.78213</td></tr><tr><td>train_auc</td><td>0.83333</td></tr><tr><td>train_f1</td><td>0.66506</td></tr><tr><td>train_loss_epoch</td><td>0.47743</td></tr><tr><td>train_loss_step</td><td>0.44013</td></tr><tr><td>trainer/global_step</td><td>649</td></tr><tr><td>val_acc</td><td>0.71787</td></tr><tr><td>val_auc</td><td>0.82297</td></tr><tr><td>val_f1</td><td>0.70199</td></tr><tr><td>val_loss_epoch</td><td>0.53852</td></tr><tr><td>val_loss_step</td><td>0.58962</td></tr></table><br/></div></div>"
      ],
      "text/plain": [
       "<IPython.core.display.HTML object>"
      ]
     },
     "metadata": {},
     "output_type": "display_data"
    },
    {
     "data": {
      "text/html": [
       " View run <strong style=\"color:#cdcd00\">GAT_norm_3_64_onehot_4</strong> at: <a href='https://wandb.ai/thoomas/PLA_01122024_5PPI_3D_Kfold/runs/bwwnpveb' target=\"_blank\">https://wandb.ai/thoomas/PLA_01122024_5PPI_3D_Kfold/runs/bwwnpveb</a><br/>Synced 6 W&B file(s), 0 media file(s), 0 artifact file(s) and 0 other file(s)"
      ],
      "text/plain": [
       "<IPython.core.display.HTML object>"
      ]
     },
     "metadata": {},
     "output_type": "display_data"
    },
    {
     "data": {
      "text/html": [
       "Find logs at: <code>.\\wandb\\run-20240116_042656-bwwnpveb\\logs</code>"
      ],
      "text/plain": [
       "<IPython.core.display.HTML object>"
      ]
     },
     "metadata": {},
     "output_type": "display_data"
    },
    {
     "data": {
      "application/vnd.jupyter.widget-view+json": {
       "model_id": "7da744ee704747b69d14a90e8e9cdeba",
       "version_major": 2,
       "version_minor": 0
      },
      "text/plain": [
       "VBox(children=(Label(value='Waiting for wandb.init()...\\r'), FloatProgress(value=0.016666666666666666, max=1.0…"
      ]
     },
     "metadata": {},
     "output_type": "display_data"
    },
    {
     "data": {
      "text/html": [
       "wandb version 0.16.2 is available!  To upgrade, please run:\n",
       " $ pip install wandb --upgrade"
      ],
      "text/plain": [
       "<IPython.core.display.HTML object>"
      ]
     },
     "metadata": {},
     "output_type": "display_data"
    },
    {
     "data": {
      "text/html": [
       "Tracking run with wandb version 0.15.8"
      ],
      "text/plain": [
       "<IPython.core.display.HTML object>"
      ]
     },
     "metadata": {},
     "output_type": "display_data"
    },
    {
     "data": {
      "text/html": [
       "Run data is saved locally in <code>y:\\coskun-lab\\Thomas\\23_PLA_revision\\notebooks\\wandb\\run-20240116_043816-l4v3zv2t</code>"
      ],
      "text/plain": [
       "<IPython.core.display.HTML object>"
      ]
     },
     "metadata": {},
     "output_type": "display_data"
    },
    {
     "data": {
      "text/html": [
       "Syncing run <strong><a href='https://wandb.ai/thoomas/PLA_01122024_5PPI_3D_Kfold/runs/l4v3zv2t' target=\"_blank\">GINConv_norm_2_16_onehot_4</a></strong> to <a href='https://wandb.ai/thoomas/PLA_01122024_5PPI_3D_Kfold' target=\"_blank\">Weights & Biases</a> (<a href='https://wandb.me/run' target=\"_blank\">docs</a>)<br/>"
      ],
      "text/plain": [
       "<IPython.core.display.HTML object>"
      ]
     },
     "metadata": {},
     "output_type": "display_data"
    },
    {
     "data": {
      "text/html": [
       " View project at <a href='https://wandb.ai/thoomas/PLA_01122024_5PPI_3D_Kfold' target=\"_blank\">https://wandb.ai/thoomas/PLA_01122024_5PPI_3D_Kfold</a>"
      ],
      "text/plain": [
       "<IPython.core.display.HTML object>"
      ]
     },
     "metadata": {},
     "output_type": "display_data"
    },
    {
     "data": {
      "text/html": [
       " View run at <a href='https://wandb.ai/thoomas/PLA_01122024_5PPI_3D_Kfold/runs/l4v3zv2t' target=\"_blank\">https://wandb.ai/thoomas/PLA_01122024_5PPI_3D_Kfold/runs/l4v3zv2t</a>"
      ],
      "text/plain": [
       "<IPython.core.display.HTML object>"
      ]
     },
     "metadata": {},
     "output_type": "display_data"
    },
    {
     "name": "stderr",
     "output_type": "stream",
     "text": [
      "Global seed set to 42\n",
      "GPU available: True (cuda), used: True\n",
      "TPU available: False, using: 0 TPU cores\n",
      "IPU available: False, using: 0 IPUs\n",
      "HPU available: False, using: 0 HPUs\n",
      "Global seed set to 42\n",
      "c:\\Users\\thu71\\AppData\\Local\\anaconda3\\envs\\scanpy\\Lib\\site-packages\\lightning\\pytorch\\callbacks\\model_checkpoint.py:617: UserWarning: Checkpoint directory \\\\bme-retromaster.ad.gatech.edu\\labs5\\coskun-lab\\Thomas\\23_PLA_revision\\data\\OCT Cell Culture\\3D_Whole\\saved_models\\5PPI_3D\\Graph_GNNs_Kfold\\GINConv_norm_2_16_onehot_4\\attention\\GraphLevelGINConv_norm exists and is not empty.\n",
      "  rank_zero_warn(f\"Checkpoint directory {dirpath} exists and is not empty.\")\n",
      "LOCAL_RANK: 0 - CUDA_VISIBLE_DEVICES: [0]\n",
      "\n",
      "   | Name        | Type             | Params\n",
      "--------------------------------------------------\n",
      "0  | x_embedding | Identity         | 0     \n",
      "1  | model       | GIN              | 1.0 K \n",
      "2  | head        | Sequential       | 154   \n",
      "3  | loss_module | CrossEntropyLoss | 0     \n",
      "4  | train_acc   | BinaryAccuracy   | 0     \n",
      "5  | train_auroc | BinaryAUROC      | 0     \n",
      "6  | train_f1    | BinaryF1Score    | 0     \n",
      "7  | valid_acc   | BinaryAccuracy   | 0     \n",
      "8  | valid_auroc | BinaryAUROC      | 0     \n",
      "9  | valid_f1    | BinaryF1Score    | 0     \n",
      "10 | pool        | GlobalAttention  | 17    \n",
      "--------------------------------------------------\n",
      "1.2 K     Trainable params\n",
      "0         Non-trainable params\n",
      "1.2 K     Total params\n",
      "0.005     Total estimated model params size (MB)\n"
     ]
    },
    {
     "name": "stdout",
     "output_type": "stream",
     "text": [
      "GINConv\n"
     ]
    },
    {
     "name": "stderr",
     "output_type": "stream",
     "text": [
      "`Trainer.fit` stopped: `max_epochs=65` reached.\n"
     ]
    },
    {
     "data": {
      "text/html": [
       "Waiting for W&B process to finish... <strong style=\"color:green\">(success).</strong>"
      ],
      "text/plain": [
       "<IPython.core.display.HTML object>"
      ]
     },
     "metadata": {},
     "output_type": "display_data"
    },
    {
     "data": {
      "text/html": [
       "<style>\n",
       "    table.wandb td:nth-child(1) { padding: 0 10px; text-align: left ; width: auto;} td:nth-child(2) {text-align: left ; width: 100%}\n",
       "    .wandb-row { display: flex; flex-direction: row; flex-wrap: wrap; justify-content: flex-start; width: 100% }\n",
       "    .wandb-col { display: flex; flex-direction: column; flex-basis: 100%; flex: 1; padding: 10px; }\n",
       "    </style>\n",
       "<div class=\"wandb-row\"><div class=\"wandb-col\"><h3>Run history:</h3><br/><table class=\"wandb\"><tr><td>epoch</td><td>▁▁▁▂▂▂▂▂▂▃▃▃▃▃▄▄▄▄▄▄▅▅▅▅▅▅▆▆▆▆▆▇▇▇▇▇▇███</td></tr><tr><td>lr-Adam</td><td>▁▁▁▁▁▁▁▁▁▁▁▁▁▁▁▁▁▁▁▁▁▁▁▁▁▁▁▁▁▁▁▁▁▁▁▁▁▁▁▁</td></tr><tr><td>train_acc</td><td>▁▃▅▆▇▇▇▇▇▇▇▇██▇▇▇█▇█▇█▇▇▇▇▇█▇▇███▇▇█████</td></tr><tr><td>train_auc</td><td>▁▂▆▆▇▇▇▇▇▇▇█▇███▇███████▇███████████████</td></tr><tr><td>train_f1</td><td>▃▁▆▇▇▇▇▇▇▇▇▇██▇▇▇█▇█▇█▇▇▇▇▇█▇▇███▇█▇████</td></tr><tr><td>train_loss_epoch</td><td>█▇▄▄▃▂▃▃▃▂▂▂▂▂▂▂▂▂▂▂▂▂▂▁▂▂▂▁▁▁▁▂▁▁▂▂▁▁▁▁</td></tr><tr><td>train_loss_step</td><td>▆█▄▆▃▄▆▄▃▄▄▄▃▄▂▄▃▃▄▂▄▄▂▂▆▂▃▄▃▂▂▁▃▄▂▄▁▂▂▂</td></tr><tr><td>trainer/global_step</td><td>▁▁▁▂▂▁▂▂▂▃▂▃▃▂▂▄▄▄▂▂▅▅▂▅▂▆▆▂▆▆▃▃▃▇▇▃▃██▃</td></tr><tr><td>val_acc</td><td>▁▁▅▇▇▆▇▇▆▇▆▇▇█▇▇▇▇▇▇▆▆▇▇▇██▇▇▇▇▇▇▇▇▆▇▇▇▆</td></tr><tr><td>val_auc</td><td>▁▃▅▆▅▇▇▇▇▇▇▇▇▇██▇█▇█▇▇█▇███▇▇█▇▇▇▇▇▇▇▇▇▇</td></tr><tr><td>val_f1</td><td>▁▁▆██▇██▇█▇███▇█▇█▇█▇▇▇▇███▇▇█▇▇██▇▇█▇█▇</td></tr><tr><td>val_loss_epoch</td><td>█▇▃▃▃▂▃▁▃▁▃▂▂▁▁▁▂▂▂▁▃▃▂▂▃▂▂▁▂▂▁▂▂▂▃▃▁▂▂▂</td></tr><tr><td>val_loss_step</td><td>█▇▄▄▅▃▆▂▄▃▅▄▄▁▄▂▅▇▄▅▄▄▅▂█▄▁▄▂▄▄▃▄▃▆▅▃▃▃▅</td></tr></table><br/></div><div class=\"wandb-col\"><h3>Run summary:</h3><br/><table class=\"wandb\"><tr><td>epoch</td><td>64</td></tr><tr><td>lr-Adam</td><td>0.005</td></tr><tr><td>train_acc</td><td>0.80408</td></tr><tr><td>train_auc</td><td>0.86656</td></tr><tr><td>train_f1</td><td>0.70238</td></tr><tr><td>train_loss_epoch</td><td>0.43649</td></tr><tr><td>train_loss_step</td><td>0.42385</td></tr><tr><td>trainer/global_step</td><td>649</td></tr><tr><td>val_acc</td><td>0.73041</td></tr><tr><td>val_auc</td><td>0.8265</td></tr><tr><td>val_f1</td><td>0.61261</td></tr><tr><td>val_loss_epoch</td><td>0.51917</td></tr><tr><td>val_loss_step</td><td>0.45777</td></tr></table><br/></div></div>"
      ],
      "text/plain": [
       "<IPython.core.display.HTML object>"
      ]
     },
     "metadata": {},
     "output_type": "display_data"
    },
    {
     "data": {
      "text/html": [
       " View run <strong style=\"color:#cdcd00\">GINConv_norm_2_16_onehot_4</strong> at: <a href='https://wandb.ai/thoomas/PLA_01122024_5PPI_3D_Kfold/runs/l4v3zv2t' target=\"_blank\">https://wandb.ai/thoomas/PLA_01122024_5PPI_3D_Kfold/runs/l4v3zv2t</a><br/>Synced 6 W&B file(s), 0 media file(s), 0 artifact file(s) and 0 other file(s)"
      ],
      "text/plain": [
       "<IPython.core.display.HTML object>"
      ]
     },
     "metadata": {},
     "output_type": "display_data"
    },
    {
     "data": {
      "text/html": [
       "Find logs at: <code>.\\wandb\\run-20240116_043816-l4v3zv2t\\logs</code>"
      ],
      "text/plain": [
       "<IPython.core.display.HTML object>"
      ]
     },
     "metadata": {},
     "output_type": "display_data"
    }
   ],
   "source": [
    "k_folds = 5\n",
    "kfold = KFold(n_splits=k_folds, shuffle=True, random_state=42)\n",
    "\n",
    "for fold, (train_ids, valid_ids) in enumerate(kfold.split(dataset_filtered)):\n",
    "    train_subset = dataset_filtered.index_select(train_ids.tolist())\n",
    "    val_subset = dataset_filtered.index_select(valid_ids.tolist())\n",
    "    for NUM_LAYERS, HIDDEN_CHANNELS, pool, model in params:\n",
    "            # Path to the folder where the pretrained models are saved\n",
    "        # CHECKPOINT_PATH = checkpoint_folder / f'GAT_{NUM_LAYERS}_{HIDDEN_CHANNELS}_onehot_{fold}' / pool\n",
    "        CHECKPOINT_PATH = checkpoint_folder / f'{model}_{NUM_LAYERS}_{HIDDEN_CHANNELS}_onehot_{fold}' / pool\n",
    "        CHECKPOINT_PATH.mkdir(parents=True, exist_ok=True)\n",
    "\n",
    "        # Skip already trained kfold and pool\n",
    "        checkpoint = CHECKPOINT_PATH / f\"GraphLevel{model}\" / f\"GraphLevel{model}.ckpt\" \n",
    "        if checkpoint.exists():\n",
    "            print(checkpoint)\n",
    "            continue\n",
    "\n",
    "        # Run training\n",
    "        run = wandb.init(project=project_name, name=f'{model}_{NUM_LAYERS}_{HIDDEN_CHANNELS}_onehot_{fold}', \n",
    "                        group=f'{model}_{pool}', \n",
    "                        # mode=\"disabled\"\n",
    "                        )\n",
    "        PPIGraph.train_graph_classifier_kfold(model, \n",
    "                                                train_subset, \n",
    "                                                val_subset, \n",
    "                                                dataset, \n",
    "                                                CHECKPOINT_PATH, \n",
    "                                                AVAIL_GPUS, \n",
    "                                                in_channels=5,\n",
    "                                                hidden_channels=HIDDEN_CHANNELS, \n",
    "                                                out_channels = HIDDEN_CHANNELS,\n",
    "                                                num_layers=NUM_LAYERS, \n",
    "                                                epochs=epochs,\n",
    "                                                embedding=False,\n",
    "                                                batch_size=128,\n",
    "                                                graph_pooling=pool)\n",
    "        run.finish()\n"
   ]
  },
  {
   "cell_type": "code",
   "execution_count": null,
   "metadata": {},
   "outputs": [],
   "source": []
  }
 ],
 "metadata": {
  "kernelspec": {
   "display_name": "snowflake",
   "language": "python",
   "name": "python3"
  },
  "language_info": {
   "codemirror_mode": {
    "name": "ipython",
    "version": 3
   },
   "file_extension": ".py",
   "mimetype": "text/x-python",
   "name": "python",
   "nbconvert_exporter": "python",
   "pygments_lexer": "ipython3",
   "version": "3.11.4"
  }
 },
 "nbformat": 4,
 "nbformat_minor": 2
}
