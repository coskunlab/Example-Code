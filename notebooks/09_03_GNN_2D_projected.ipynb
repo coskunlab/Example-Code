{
 "cells": [
  {
   "cell_type": "code",
   "execution_count": 1,
   "metadata": {},
   "outputs": [],
   "source": [
    "import os\n",
    "import sys\n",
    "from pathlib import Path\n",
    "\n",
    "import cv2\n",
    "import matplotlib.pyplot as plt\n",
    "import numpy as np\n",
    "import pandas as pd\n",
    "import skimage.io\n",
    "\n",
    "from collections import defaultdict\n",
    "from tqdm.auto import tqdm\n",
    "from joblib import Parallel, delayed\n",
    "import re\n",
    "import pickle\n",
    "\n",
    "import networkx as nx\n",
    "from sklearn.model_selection import train_test_split"
   ]
  },
  {
   "cell_type": "code",
   "execution_count": 2,
   "metadata": {},
   "outputs": [],
   "source": [
    "import torch_geometric.utils\n",
    "import torch"
   ]
  },
  {
   "cell_type": "code",
   "execution_count": 3,
   "metadata": {},
   "outputs": [],
   "source": [
    "%load_ext autoreload\n",
    "%autoreload 2"
   ]
  },
  {
   "cell_type": "code",
   "execution_count": 4,
   "metadata": {},
   "outputs": [],
   "source": [
    "p_dir = (Path().cwd().parents[0]).absolute()\n",
    "\n",
    "module_path = str(p_dir / \"src\")\n",
    "\n",
    "if module_path not in sys.path:\n",
    "    sys.path.append(module_path)"
   ]
  },
  {
   "cell_type": "code",
   "execution_count": 5,
   "metadata": {},
   "outputs": [],
   "source": [
    "data_dir = (Path().cwd().parents[0] / 'data').absolute()"
   ]
  },
  {
   "cell_type": "code",
   "execution_count": 6,
   "metadata": {},
   "outputs": [
    {
     "name": "stderr",
     "output_type": "stream",
     "text": [
      "c:\\Users\\thu71\\AppData\\Local\\anaconda3\\envs\\scanpy\\Lib\\site-packages\\torchvision\\io\\image.py:13: UserWarning: Failed to load image Python extension: '[WinError 127] The specified procedure could not be found'If you don't plan on using image functionality from `torchvision.io`, you can ignore this warning. Otherwise, there might be something wrong with your environment. Did you have `libjpeg` or `libpng` installed before building `torchvision` from source?\n",
      "  warn(\n"
     ]
    }
   ],
   "source": [
    "import lightning.pytorch as pl\n",
    "import PPIGraph"
   ]
  },
  {
   "cell_type": "markdown",
   "metadata": {},
   "source": [
    "# Load dataset"
   ]
  },
  {
   "cell_type": "code",
   "execution_count": 7,
   "metadata": {},
   "outputs": [],
   "source": [
    "from torch_geometric.loader import DataLoader\n",
    "\n",
    "# Define condition mapping\n",
    "condition_mapping = {'control': 0, '100nM': 1}\n",
    "\n",
    "# Load graph dataset and process if neede\n",
    "graph_path = data_dir / '13cyc_3D' / 'graphs' \n",
    "\n",
    "dataset = PPIGraph.GraphDataset2Dprojected(graph_path, 'raw', '2D3D_pt', condition_mapping=condition_mapping, n_c=2)\n",
    "train_set, val_set, test_set = PPIGraph.train_test_val_split(dataset)\n",
    "\n",
    "# Create Dataloader\n",
    "train_loader = DataLoader(train_set, batch_size=32, shuffle=True)\n",
    "val_loader = DataLoader(val_set, batch_size=32, shuffle=True)\n",
    "test_loader = DataLoader(test_set, batch_size=32, shuffle=False)\n"
   ]
  },
  {
   "cell_type": "code",
   "execution_count": 8,
   "metadata": {},
   "outputs": [
    {
     "name": "stdout",
     "output_type": "stream",
     "text": [
      "Dataset: GraphDataset2Dprojected(2492):\n",
      "======================\n",
      "Number of graphs: 2492\n",
      "Number of features: 13\n",
      "Number of classes: 2\n",
      "Train set: 1197, test set: 996, val set: 299\n",
      "Step 1:\n",
      "=======\n",
      "Number of graphs in the current batch: 32\n",
      "DataBatch(edge_index=[2, 41874], pos=[3421, 2], labels=[3421, 13], nuclei=[3421], weight=[41874], condition=[32], fov=[32], id=[32], pos3D=[3421, 3], edge_attr=[41874, 1], x=[3421, 13], y=[32], edge_weight=[41874], name=[32], batch=[3421], ptr=[33])\n",
      "\n"
     ]
    }
   ],
   "source": [
    "# Print some information on the dataset\n",
    "print(f'Dataset: {dataset}:')\n",
    "print('======================')\n",
    "print(f'Number of graphs: {len(dataset)}')\n",
    "print(f'Number of features: {dataset.num_features}')\n",
    "print(f'Number of classes: {dataset.num_classes}')\n",
    "\n",
    "print(f'Train set: {len(train_set)}, test set: {len(test_set)}, val set: {len(val_set)}')\n",
    "for step, data in enumerate(train_loader):\n",
    "\n",
    "    print(f'Step {step + 1}:')\n",
    "    print('=======')\n",
    "    print(f'Number of graphs in the current batch: {data.num_graphs}')\n",
    "    print(data)\n",
    "    print()\n",
    "    break"
   ]
  },
  {
   "cell_type": "code",
   "execution_count": null,
   "metadata": {},
   "outputs": [],
   "source": [
    "# # Print some information on the dataset\n",
    "# print(f'Dataset: {dataset}:')\n",
    "# print('======================')\n",
    "# print(f'Number of graphs: {len(dataset)}')\n",
    "# print(f'Number of features: {dataset.num_features}')\n",
    "# print(f'Number of classes: {dataset.num_classes}')\n",
    "\n",
    "# print(f'Train set: {len(train_set)}, test set: {len(test_set)}, val set: {len(val_set)}')\n",
    "# for step, data in enumerate(train_loader):\n",
    "\n",
    "#     print(f'Step {step + 1}:')\n",
    "#     print('=======')\n",
    "#     print(f'Number of graphs in the current batch: {data.num_graphs}')\n",
    "#     print(data)\n",
    "#     print()\n",
    "#     break"
   ]
  },
  {
   "cell_type": "markdown",
   "metadata": {},
   "source": [
    "# K-fold on filter dataset"
   ]
  },
  {
   "cell_type": "code",
   "execution_count": 10,
   "metadata": {},
   "outputs": [],
   "source": [
    "import itertools\n",
    "from lightning.pytorch.accelerators import find_usable_cuda_devices\n",
    "import wandb"
   ]
  },
  {
   "cell_type": "code",
   "execution_count": 11,
   "metadata": {},
   "outputs": [],
   "source": [
    "from sklearn.model_selection import KFold, StratifiedKFold\n",
    "from torch.utils.data import SubsetRandomSampler"
   ]
  },
  {
   "cell_type": "code",
   "execution_count": 12,
   "metadata": {},
   "outputs": [],
   "source": [
    "# Filter out by maximum number of counts per cell\n",
    "min_count = 20\n",
    "max_count = 50\n",
    "\n",
    "graph_path = data_dir / '13cyc_3D' / 'graphs' \n",
    "dataset = PPIGraph.GraphDataset2Dprojected(graph_path, 'raw', '2D3D_pt', condition_mapping=condition_mapping, n_c=2)\n",
    "\n",
    "# Create Dataloader\n",
    "loader = DataLoader(dataset, batch_size=1, shuffle=False)\n",
    "\n",
    "# Get Indices\n",
    "indices = []\n",
    "for step, data in enumerate(loader):\n",
    "    if len(data.x) <= min_count:\n",
    "        continue \n",
    "    \n",
    "    if (data.x.sum(axis=0) >= max_count).any():\n",
    "        continue\n",
    "    indices.append(step)\n",
    "    \n",
    "# Get subset dataset\n",
    "dataset_filtered = dataset.index_select(indices)\n"
   ]
  },
  {
   "cell_type": "code",
   "execution_count": 13,
   "metadata": {},
   "outputs": [
    {
     "data": {
      "text/plain": [
       "2153"
      ]
     },
     "execution_count": 13,
     "metadata": {},
     "output_type": "execute_result"
    }
   ],
   "source": [
    "len(dataset_filtered)"
   ]
  },
  {
   "cell_type": "code",
   "execution_count": 14,
   "metadata": {},
   "outputs": [
    {
     "data": {
      "text/plain": [
       "tensor([[0.0522],\n",
       "        [0.0387],\n",
       "        [0.0306],\n",
       "        ...,\n",
       "        [0.0097],\n",
       "        [0.1949],\n",
       "        [0.6178]])"
      ]
     },
     "execution_count": 14,
     "metadata": {},
     "output_type": "execute_result"
    }
   ],
   "source": [
    "dataset_filtered[0].edge_attr"
   ]
  },
  {
   "cell_type": "code",
   "execution_count": 15,
   "metadata": {},
   "outputs": [
    {
     "data": {
      "text/plain": [
       "tensor([0.0522, 0.0387, 0.0306,  ..., 0.0097, 0.1949, 0.6178])"
      ]
     },
     "execution_count": 15,
     "metadata": {},
     "output_type": "execute_result"
    }
   ],
   "source": [
    "dataset_filtered[0].edge_weight"
   ]
  },
  {
   "cell_type": "code",
   "execution_count": 16,
   "metadata": {},
   "outputs": [],
   "source": [
    "dataset_name = '13PPI_2D_projected'\n",
    "condition = 'Kfold'\n",
    "checkpoint_folder = (Path().cwd().parents[0]).absolute() / 'data' / '13cyc_3D' /\" saved_models_2D_projected\" / dataset_name / f\"Graph_GNNs_{condition}\" \n",
    "project_name = f'PLA_{dataset_name}_{condition}'"
   ]
  },
  {
   "cell_type": "code",
   "execution_count": 17,
   "metadata": {},
   "outputs": [
    {
     "name": "stderr",
     "output_type": "stream",
     "text": [
      "Global seed set to 42\n"
     ]
    }
   ],
   "source": [
    "AVAIL_GPUS = [0]\n",
    "\n",
    "# Setting the seed\n",
    "pl.seed_everything(42)\n",
    "epochs = 40\n",
    "\n",
    "# NUM_LAYERS = 2\n",
    "# HIDDEN_CHANNELS = 16\n",
    "# pools = ['mean', 'max', 'sum', 'attention', 'attention2']\n",
    "# num_layers = [2,3,4]\n",
    "# hiddens = [16, 32, 64]\n",
    "\n",
    "\n",
    "# # model = 'GAT'\n",
    "# model = 'GINConv'\n",
    "params = [[2,64,'attention','MLP'], \n",
    "[2,16,'attention','GraphConv'],\n",
    "[2,64,'attention2','GCN'],\n",
    "[3,64,'attention','GAT'],\n",
    "[3,16,'mean','GINConv']]"
   ]
  },
  {
   "cell_type": "code",
   "execution_count": 18,
   "metadata": {},
   "outputs": [
    {
     "data": {
      "text/plain": [
       "[[2, 64, 'attention', 'MLP'],\n",
       " [2, 16, 'attention', 'GraphConv'],\n",
       " [2, 64, 'attention2', 'GCN'],\n",
       " [3, 64, 'attention', 'GAT'],\n",
       " [3, 16, 'mean', 'GINConv']]"
      ]
     },
     "execution_count": 18,
     "metadata": {},
     "output_type": "execute_result"
    }
   ],
   "source": [
    "params"
   ]
  },
  {
   "cell_type": "code",
   "execution_count": 19,
   "metadata": {},
   "outputs": [
    {
     "name": "stdout",
     "output_type": "stream",
     "text": [
      "y:\\coskun-lab\\Thomas\\23_PLA_revision\\data\\13cyc_3D\\ saved_models_2D_projected\\13PPI_2D_projected\\Graph_GNNs_Kfold\\MLP_2_64_onehot_0\\attention\\GraphLevelMLP\\GraphLevelMLP.ckpt\n"
     ]
    },
    {
     "name": "stderr",
     "output_type": "stream",
     "text": [
      "Failed to detect the name of this notebook, you can set it manually with the WANDB_NOTEBOOK_NAME environment variable to enable code saving.\n",
      "\u001b[34m\u001b[1mwandb\u001b[0m: Currently logged in as: \u001b[33mthoomas\u001b[0m. Use \u001b[1m`wandb login --relogin`\u001b[0m to force relogin\n"
     ]
    },
    {
     "data": {
      "text/html": [
       "wandb version 0.16.2 is available!  To upgrade, please run:\n",
       " $ pip install wandb --upgrade"
      ],
      "text/plain": [
       "<IPython.core.display.HTML object>"
      ]
     },
     "metadata": {},
     "output_type": "display_data"
    },
    {
     "data": {
      "text/html": [
       "Tracking run with wandb version 0.15.8"
      ],
      "text/plain": [
       "<IPython.core.display.HTML object>"
      ]
     },
     "metadata": {},
     "output_type": "display_data"
    },
    {
     "data": {
      "text/html": [
       "Run data is saved locally in <code>y:\\coskun-lab\\Thomas\\23_PLA_revision\\notebooks\\wandb\\run-20240119_232339-x9rl2b8f</code>"
      ],
      "text/plain": [
       "<IPython.core.display.HTML object>"
      ]
     },
     "metadata": {},
     "output_type": "display_data"
    },
    {
     "data": {
      "text/html": [
       "Syncing run <strong><a href='https://wandb.ai/thoomas/PLA_13PPI_2D_projected_Kfold/runs/x9rl2b8f' target=\"_blank\">GraphConv_2_16_onehot_0</a></strong> to <a href='https://wandb.ai/thoomas/PLA_13PPI_2D_projected_Kfold' target=\"_blank\">Weights & Biases</a> (<a href='https://wandb.me/run' target=\"_blank\">docs</a>)<br/>"
      ],
      "text/plain": [
       "<IPython.core.display.HTML object>"
      ]
     },
     "metadata": {},
     "output_type": "display_data"
    },
    {
     "data": {
      "text/html": [
       " View project at <a href='https://wandb.ai/thoomas/PLA_13PPI_2D_projected_Kfold' target=\"_blank\">https://wandb.ai/thoomas/PLA_13PPI_2D_projected_Kfold</a>"
      ],
      "text/plain": [
       "<IPython.core.display.HTML object>"
      ]
     },
     "metadata": {},
     "output_type": "display_data"
    },
    {
     "data": {
      "text/html": [
       " View run at <a href='https://wandb.ai/thoomas/PLA_13PPI_2D_projected_Kfold/runs/x9rl2b8f' target=\"_blank\">https://wandb.ai/thoomas/PLA_13PPI_2D_projected_Kfold/runs/x9rl2b8f</a>"
      ],
      "text/plain": [
       "<IPython.core.display.HTML object>"
      ]
     },
     "metadata": {},
     "output_type": "display_data"
    },
    {
     "name": "stderr",
     "output_type": "stream",
     "text": [
      "Global seed set to 42\n",
      "c:\\Users\\thu71\\AppData\\Local\\anaconda3\\envs\\scanpy\\Lib\\site-packages\\pytorch_lightning\\loggers\\wandb.py:397: UserWarning: There is a wandb run already in progress and newly created instances of `WandbLogger` will reuse this run. If this is not desired, call `wandb.finish()` before instantiating `WandbLogger`.\n",
      "  rank_zero_warn(\n",
      "GPU available: True (cuda), used: True\n",
      "TPU available: False, using: 0 TPU cores\n",
      "IPU available: False, using: 0 IPUs\n",
      "HPU available: False, using: 0 HPUs\n",
      "Global seed set to 42\n",
      "c:\\Users\\thu71\\AppData\\Local\\anaconda3\\envs\\scanpy\\Lib\\site-packages\\torch_geometric\\deprecation.py:22: UserWarning: 'nn.glob.GlobalAttention' is deprecated, use 'nn.aggr.AttentionalAggregation' instead\n",
      "  warnings.warn(out)\n"
     ]
    },
    {
     "name": "stdout",
     "output_type": "stream",
     "text": [
      "Using GNN\n"
     ]
    },
    {
     "name": "stderr",
     "output_type": "stream",
     "text": [
      "You are using a CUDA device ('NVIDIA RTX A2000 12GB') that has Tensor Cores. To properly utilize them, you should set `torch.set_float32_matmul_precision('medium' | 'high')` which will trade-off precision for performance. For more details, read https://pytorch.org/docs/stable/generated/torch.set_float32_matmul_precision.html#torch.set_float32_matmul_precision\n",
      "c:\\Users\\thu71\\AppData\\Local\\anaconda3\\envs\\scanpy\\Lib\\site-packages\\lightning\\pytorch\\callbacks\\model_checkpoint.py:617: UserWarning: Checkpoint directory \\\\bme-retromaster.ad.gatech.edu\\labs5\\coskun-lab\\Thomas\\23_PLA_revision\\data\\13cyc_3D\\ saved_models_2D_projected\\13PPI_2D_projected\\Graph_GNNs_Kfold\\GraphConv_2_16_onehot_0\\attention\\GraphLevelGraphConv exists and is not empty.\n",
      "  rank_zero_warn(f\"Checkpoint directory {dirpath} exists and is not empty.\")\n",
      "LOCAL_RANK: 0 - CUDA_VISIBLE_DEVICES: [0]\n",
      "\n",
      "   | Name        | Type             | Params\n",
      "--------------------------------------------------\n",
      "0  | x_embedding | Identity         | 0     \n",
      "1  | model       | GNNModel         | 992   \n",
      "2  | head        | Sequential       | 154   \n",
      "3  | loss_module | CrossEntropyLoss | 0     \n",
      "4  | train_acc   | BinaryAccuracy   | 0     \n",
      "5  | train_auroc | BinaryAUROC      | 0     \n",
      "6  | train_f1    | BinaryF1Score    | 0     \n",
      "7  | valid_acc   | BinaryAccuracy   | 0     \n",
      "8  | valid_auroc | BinaryAUROC      | 0     \n",
      "9  | valid_f1    | BinaryF1Score    | 0     \n",
      "10 | pool        | GlobalAttention  | 17    \n",
      "--------------------------------------------------\n",
      "1.2 K     Trainable params\n",
      "0         Non-trainable params\n",
      "1.2 K     Total params\n",
      "0.005     Total estimated model params size (MB)\n",
      "c:\\Users\\thu71\\AppData\\Local\\anaconda3\\envs\\scanpy\\Lib\\site-packages\\torchmetrics\\utilities\\prints.py:42: UserWarning: No positive samples in targets, true positive value should be meaningless. Returning zero tensor in true positive score\n",
      "  warnings.warn(*args, **kwargs)  # noqa: B028\n",
      "c:\\Users\\thu71\\AppData\\Local\\anaconda3\\envs\\scanpy\\Lib\\site-packages\\lightning\\pytorch\\utilities\\data.py:76: UserWarning: Trying to infer the `batch_size` from an ambiguous collection. The batch size we found is 2. To avoid any miscalculations, use `self.log(..., batch_size=batch_size)`.\n",
      "  warning_cache.warn(\n",
      "c:\\Users\\thu71\\AppData\\Local\\anaconda3\\envs\\scanpy\\Lib\\site-packages\\torchmetrics\\utilities\\prints.py:42: UserWarning: No negative samples in targets, false positive value should be meaningless. Returning zero tensor in false positive score\n",
      "  warnings.warn(*args, **kwargs)  # noqa: B028\n",
      "`Trainer.fit` stopped: `max_epochs=40` reached.\n"
     ]
    },
    {
     "data": {
      "text/html": [
       "Waiting for W&B process to finish... <strong style=\"color:green\">(success).</strong>"
      ],
      "text/plain": [
       "<IPython.core.display.HTML object>"
      ]
     },
     "metadata": {},
     "output_type": "display_data"
    },
    {
     "data": {
      "text/html": [
       "<style>\n",
       "    table.wandb td:nth-child(1) { padding: 0 10px; text-align: left ; width: auto;} td:nth-child(2) {text-align: left ; width: 100%}\n",
       "    .wandb-row { display: flex; flex-direction: row; flex-wrap: wrap; justify-content: flex-start; width: 100% }\n",
       "    .wandb-col { display: flex; flex-direction: column; flex-basis: 100%; flex: 1; padding: 10px; }\n",
       "    </style>\n",
       "<div class=\"wandb-row\"><div class=\"wandb-col\"><h3>Run history:</h3><br/><table class=\"wandb\"><tr><td>epoch</td><td>▁▁▁▂▂▂▂▂▂▃▃▃▃▃▄▄▄▄▄▄▅▅▅▅▅▅▆▆▆▆▆▇▇▇▇▇▇███</td></tr><tr><td>lr-Adam</td><td>▁▁▁▁▁▁▁▁▁▁▁▁▁▁▁▁▁▁▁▁▁▁▁▁▁▁▁▁▁▁▁▁▁▁▁▁▁▁▁▁</td></tr><tr><td>train_acc</td><td>▁▅▆▅▆▆▇▇▇▇▇▇▇▇▇▇▇▇▇██▇████▇█▇███████████</td></tr><tr><td>train_auc</td><td>▁▅▅▅▆▆▆▇▆▇▆▆▇▇▇▇▇▇▇▇▇▇█████▇▇███████████</td></tr><tr><td>train_f1</td><td>▁▂▄▄▅▅▆▆▆▇▆▆▇▇▇▆▇▇▇▇▇▇▇███▇▇▇▇██▇▇▇██▇█▇</td></tr><tr><td>train_loss_epoch</td><td>█▅▅▄▄▄▃▃▃▃▃▃▃▂▃▃▂▂▂▂▂▂▂▂▂▁▂▂▂▂▂▁▂▂▁▁▁▁▁▁</td></tr><tr><td>train_loss_step</td><td>█▆▅▇▆▆▆▄▅▄▅▆▃▄▅▅▅▄▅▂▅▁▅▃▄▅▃▃▃▄▄▄▂▅▃▄▂▄▃▁</td></tr><tr><td>trainer/global_step</td><td>▁▁▁▁▂▂▂▂▁▁▂▂▂▂▄▄▂▂▂▂▂▂▂▂▂▂▂▂▂▂▃▃▇▇▃▃▃▃▃█</td></tr><tr><td>val_acc</td><td>▁▅▇▇▇▇▇▇▇▇▇▇▇▇▇▇▇▇▇▇▇█▇███▇████▇██▇█▇█▇█</td></tr><tr><td>val_auc</td><td>▁▂▄▅▅▅▅▅▆▆▆▆▆▆▆▆▇▇▇▇▇▇▆▇▇██▇█▇█▇██▇█████</td></tr><tr><td>val_f1</td><td>▁▅▆▇▆▇▇▆▆▅▇▇▇▇▅▅▇▆▆▇▅▇▇▇▇▇▆██▇▇▇▇▇▇█▇█▇▇</td></tr><tr><td>val_loss_epoch</td><td>█▅▄▃▃▃▃▃▃▃▃▂▃▂▄▃▂▂▃▂▃▂▂▂▃▂▃▂▂▂▂▁▃▂▂▁▁▂▁▁</td></tr><tr><td>val_loss_step</td><td>█▆▄▄▃▄▃▂▃▂▄▃▃▂▂▂▂▂▁▂▁▂▂▂▁▁▁▁▁▁▁▂▁▁▁▁▂▁▂▃</td></tr></table><br/></div><div class=\"wandb-col\"><h3>Run summary:</h3><br/><table class=\"wandb\"><tr><td>epoch</td><td>39</td></tr><tr><td>lr-Adam</td><td>0.005</td></tr><tr><td>train_acc</td><td>0.81882</td></tr><tr><td>train_auc</td><td>0.88199</td></tr><tr><td>train_f1</td><td>0.79474</td></tr><tr><td>train_loss_epoch</td><td>0.41768</td></tr><tr><td>train_loss_step</td><td>0.30267</td></tr><tr><td>trainer/global_step</td><td>559</td></tr><tr><td>val_acc</td><td>0.82135</td></tr><tr><td>val_auc</td><td>0.90624</td></tr><tr><td>val_f1</td><td>0.81174</td></tr><tr><td>val_loss_epoch</td><td>0.38393</td></tr><tr><td>val_loss_step</td><td>0.37376</td></tr></table><br/></div></div>"
      ],
      "text/plain": [
       "<IPython.core.display.HTML object>"
      ]
     },
     "metadata": {},
     "output_type": "display_data"
    },
    {
     "data": {
      "text/html": [
       " View run <strong style=\"color:#cdcd00\">GraphConv_2_16_onehot_0</strong> at: <a href='https://wandb.ai/thoomas/PLA_13PPI_2D_projected_Kfold/runs/x9rl2b8f' target=\"_blank\">https://wandb.ai/thoomas/PLA_13PPI_2D_projected_Kfold/runs/x9rl2b8f</a><br/>Synced 6 W&B file(s), 0 media file(s), 0 artifact file(s) and 0 other file(s)"
      ],
      "text/plain": [
       "<IPython.core.display.HTML object>"
      ]
     },
     "metadata": {},
     "output_type": "display_data"
    },
    {
     "data": {
      "text/html": [
       "Find logs at: <code>.\\wandb\\run-20240119_232339-x9rl2b8f\\logs</code>"
      ],
      "text/plain": [
       "<IPython.core.display.HTML object>"
      ]
     },
     "metadata": {},
     "output_type": "display_data"
    },
    {
     "data": {
      "application/vnd.jupyter.widget-view+json": {
       "model_id": "c27946b76ee441bb8173e2cb433b79fc",
       "version_major": 2,
       "version_minor": 0
      },
      "text/plain": [
       "VBox(children=(Label(value='Waiting for wandb.init()...\\r'), FloatProgress(value=0.016666666666666666, max=1.0…"
      ]
     },
     "metadata": {},
     "output_type": "display_data"
    },
    {
     "data": {
      "text/html": [
       "wandb version 0.16.2 is available!  To upgrade, please run:\n",
       " $ pip install wandb --upgrade"
      ],
      "text/plain": [
       "<IPython.core.display.HTML object>"
      ]
     },
     "metadata": {},
     "output_type": "display_data"
    },
    {
     "data": {
      "text/html": [
       "Tracking run with wandb version 0.15.8"
      ],
      "text/plain": [
       "<IPython.core.display.HTML object>"
      ]
     },
     "metadata": {},
     "output_type": "display_data"
    },
    {
     "data": {
      "text/html": [
       "Run data is saved locally in <code>y:\\coskun-lab\\Thomas\\23_PLA_revision\\notebooks\\wandb\\run-20240119_235503-8l15975p</code>"
      ],
      "text/plain": [
       "<IPython.core.display.HTML object>"
      ]
     },
     "metadata": {},
     "output_type": "display_data"
    },
    {
     "data": {
      "text/html": [
       "Syncing run <strong><a href='https://wandb.ai/thoomas/PLA_13PPI_2D_projected_Kfold/runs/8l15975p' target=\"_blank\">GCN_2_64_onehot_0</a></strong> to <a href='https://wandb.ai/thoomas/PLA_13PPI_2D_projected_Kfold' target=\"_blank\">Weights & Biases</a> (<a href='https://wandb.me/run' target=\"_blank\">docs</a>)<br/>"
      ],
      "text/plain": [
       "<IPython.core.display.HTML object>"
      ]
     },
     "metadata": {},
     "output_type": "display_data"
    },
    {
     "data": {
      "text/html": [
       " View project at <a href='https://wandb.ai/thoomas/PLA_13PPI_2D_projected_Kfold' target=\"_blank\">https://wandb.ai/thoomas/PLA_13PPI_2D_projected_Kfold</a>"
      ],
      "text/plain": [
       "<IPython.core.display.HTML object>"
      ]
     },
     "metadata": {},
     "output_type": "display_data"
    },
    {
     "data": {
      "text/html": [
       " View run at <a href='https://wandb.ai/thoomas/PLA_13PPI_2D_projected_Kfold/runs/8l15975p' target=\"_blank\">https://wandb.ai/thoomas/PLA_13PPI_2D_projected_Kfold/runs/8l15975p</a>"
      ],
      "text/plain": [
       "<IPython.core.display.HTML object>"
      ]
     },
     "metadata": {},
     "output_type": "display_data"
    },
    {
     "name": "stderr",
     "output_type": "stream",
     "text": [
      "Global seed set to 42\n",
      "GPU available: True (cuda), used: True\n",
      "TPU available: False, using: 0 TPU cores\n",
      "IPU available: False, using: 0 IPUs\n",
      "HPU available: False, using: 0 HPUs\n",
      "Global seed set to 42\n",
      "c:\\Users\\thu71\\AppData\\Local\\anaconda3\\envs\\scanpy\\Lib\\site-packages\\lightning\\pytorch\\callbacks\\model_checkpoint.py:617: UserWarning: Checkpoint directory \\\\bme-retromaster.ad.gatech.edu\\labs5\\coskun-lab\\Thomas\\23_PLA_revision\\data\\13cyc_3D\\ saved_models_2D_projected\\13PPI_2D_projected\\Graph_GNNs_Kfold\\GCN_2_64_onehot_0\\attention2\\GraphLevelGCN exists and is not empty.\n",
      "  rank_zero_warn(f\"Checkpoint directory {dirpath} exists and is not empty.\")\n",
      "LOCAL_RANK: 0 - CUDA_VISIBLE_DEVICES: [0]\n",
      "\n",
      "   | Name        | Type             | Params\n",
      "--------------------------------------------------\n",
      "0  | x_embedding | Identity         | 0     \n",
      "1  | model       | GNNModel         | 5.2 K \n",
      "2  | head        | Sequential       | 2.1 K \n",
      "3  | loss_module | CrossEntropyLoss | 0     \n",
      "4  | train_acc   | BinaryAccuracy   | 0     \n",
      "5  | train_auroc | BinaryAUROC      | 0     \n",
      "6  | train_f1    | BinaryF1Score    | 0     \n",
      "7  | valid_acc   | BinaryAccuracy   | 0     \n",
      "8  | valid_auroc | BinaryAUROC      | 0     \n",
      "9  | valid_f1    | BinaryF1Score    | 0     \n",
      "10 | pool        | Attention_module | 4.2 K \n",
      "--------------------------------------------------\n",
      "11.5 K    Trainable params\n",
      "0         Non-trainable params\n",
      "11.5 K    Total params\n",
      "0.046     Total estimated model params size (MB)\n"
     ]
    },
    {
     "name": "stdout",
     "output_type": "stream",
     "text": [
      "Using GNN\n"
     ]
    },
    {
     "name": "stderr",
     "output_type": "stream",
     "text": [
      "`Trainer.fit` stopped: `max_epochs=40` reached.\n"
     ]
    },
    {
     "data": {
      "text/html": [
       "Waiting for W&B process to finish... <strong style=\"color:green\">(success).</strong>"
      ],
      "text/plain": [
       "<IPython.core.display.HTML object>"
      ]
     },
     "metadata": {},
     "output_type": "display_data"
    },
    {
     "data": {
      "text/html": [
       "<style>\n",
       "    table.wandb td:nth-child(1) { padding: 0 10px; text-align: left ; width: auto;} td:nth-child(2) {text-align: left ; width: 100%}\n",
       "    .wandb-row { display: flex; flex-direction: row; flex-wrap: wrap; justify-content: flex-start; width: 100% }\n",
       "    .wandb-col { display: flex; flex-direction: column; flex-basis: 100%; flex: 1; padding: 10px; }\n",
       "    </style>\n",
       "<div class=\"wandb-row\"><div class=\"wandb-col\"><h3>Run history:</h3><br/><table class=\"wandb\"><tr><td>epoch</td><td>▁▁▁▂▂▂▂▂▂▃▃▃▃▃▄▄▄▄▄▄▅▅▅▅▅▅▆▆▆▆▆▇▇▇▇▇▇███</td></tr><tr><td>lr-Adam</td><td>▁▁▁▁▁▁▁▁▁▁▁▁▁▁▁▁▁▁▁▁▁▁▁▁▁▁▁▁▁▁▁▁▁▁▁▁▁▁▁▁</td></tr><tr><td>train_acc</td><td>▁▄▅▅▅▆▆▆▆▆▇▇▆▆▇▆▆▇▇▇▇▇▇▇▇▇▇▇▇▇▇▇▇▇▇▇█▇█▇</td></tr><tr><td>train_auc</td><td>▁▅▅▅▆▆▆▇▇▆▆▇▆▇▇▇▇▇▇▇▇▇▇▇█▇▇█▇▇█▇█▇▇██▇██</td></tr><tr><td>train_f1</td><td>▁▅▅▅▆▆▆▆▆▆▇▇▆▇▇▆▆▇▇▇▇▇▇▇▇▇▇▇█▇▇▇▇▇▇▇█▇██</td></tr><tr><td>train_loss_epoch</td><td>█▅▄▄▃▃▃▂▃▃▃▃▃▃▂▃▃▃▃▂▂▂▂▂▂▂▃▁▂▂▂▂▂▂▂▁▁▂▁▂</td></tr><tr><td>train_loss_step</td><td>▅▄▅▂▂▄▂▃▄▆▃▂▂▄▇▃▂▄▆▃▅▄▅█▄▄▃▃▃▄▆▁▄▄▃▃▃▃▄▄</td></tr><tr><td>trainer/global_step</td><td>▁▁▁▁▂▂▂▂▁▁▂▂▂▂▄▄▂▂▂▂▂▂▂▂▂▂▂▂▂▂▃▃▇▇▃▃▃▃▃█</td></tr><tr><td>val_acc</td><td>▁▁▅▆▆▇▆▆▇▇▃▇▇▇▇▇▇█▇▇▇▆▇▇▇▆▅▆▇▅▇▇▇▆▅█▇▇▇▇</td></tr><tr><td>val_auc</td><td>▁▃▃▅▄▆▆▆▇▆▆▆▆▇▇▇▇▇▇▇▆▇▅▇▆▆▇▇▆██▇▆█▆▇▇▇▆▇</td></tr><tr><td>val_f1</td><td>▁▁▇▇▇▇▆▇▇▇▃███▇▇██▇▇▇▇▇▇█▇▅▆▇▅▇█▇▆▆█████</td></tr><tr><td>val_loss_epoch</td><td>█▆▄▃▂▃▃▂▁▂▇▂▂▁▂▂▁▂▂▂▂▁▂▂▁▂▅▃▂▅▂▁▂▄▃▁▁▁▁▂</td></tr><tr><td>val_loss_step</td><td>█▆▆▃▄▂▂▃▃▃▁▃▅▃▂▃▃▃▃▂▂▃▃▃▄▅▁▂▂▁▂▃▂▁▂▃▄▄▄▅</td></tr></table><br/></div><div class=\"wandb-col\"><h3>Run summary:</h3><br/><table class=\"wandb\"><tr><td>epoch</td><td>39</td></tr><tr><td>lr-Adam</td><td>0.005</td></tr><tr><td>train_acc</td><td>0.81649</td></tr><tr><td>train_auc</td><td>0.89037</td></tr><tr><td>train_f1</td><td>0.80101</td></tr><tr><td>train_loss_epoch</td><td>0.41978</td></tr><tr><td>train_loss_step</td><td>0.46786</td></tr><tr><td>trainer/global_step</td><td>559</td></tr><tr><td>val_acc</td><td>0.83991</td></tr><tr><td>val_auc</td><td>0.90997</td></tr><tr><td>val_f1</td><td>0.8262</td></tr><tr><td>val_loss_epoch</td><td>0.3949</td></tr><tr><td>val_loss_step</td><td>0.41714</td></tr></table><br/></div></div>"
      ],
      "text/plain": [
       "<IPython.core.display.HTML object>"
      ]
     },
     "metadata": {},
     "output_type": "display_data"
    },
    {
     "data": {
      "text/html": [
       " View run <strong style=\"color:#cdcd00\">GCN_2_64_onehot_0</strong> at: <a href='https://wandb.ai/thoomas/PLA_13PPI_2D_projected_Kfold/runs/8l15975p' target=\"_blank\">https://wandb.ai/thoomas/PLA_13PPI_2D_projected_Kfold/runs/8l15975p</a><br/>Synced 6 W&B file(s), 0 media file(s), 0 artifact file(s) and 0 other file(s)"
      ],
      "text/plain": [
       "<IPython.core.display.HTML object>"
      ]
     },
     "metadata": {},
     "output_type": "display_data"
    },
    {
     "data": {
      "text/html": [
       "Find logs at: <code>.\\wandb\\run-20240119_235503-8l15975p\\logs</code>"
      ],
      "text/plain": [
       "<IPython.core.display.HTML object>"
      ]
     },
     "metadata": {},
     "output_type": "display_data"
    },
    {
     "data": {
      "application/vnd.jupyter.widget-view+json": {
       "model_id": "5224314320244d99ae04f6d2d94c2a7f",
       "version_major": 2,
       "version_minor": 0
      },
      "text/plain": [
       "VBox(children=(Label(value='Waiting for wandb.init()...\\r'), FloatProgress(value=0.016666666666666666, max=1.0…"
      ]
     },
     "metadata": {},
     "output_type": "display_data"
    },
    {
     "data": {
      "text/html": [
       "wandb version 0.16.2 is available!  To upgrade, please run:\n",
       " $ pip install wandb --upgrade"
      ],
      "text/plain": [
       "<IPython.core.display.HTML object>"
      ]
     },
     "metadata": {},
     "output_type": "display_data"
    },
    {
     "data": {
      "text/html": [
       "Tracking run with wandb version 0.15.8"
      ],
      "text/plain": [
       "<IPython.core.display.HTML object>"
      ]
     },
     "metadata": {},
     "output_type": "display_data"
    },
    {
     "data": {
      "text/html": [
       "Run data is saved locally in <code>y:\\coskun-lab\\Thomas\\23_PLA_revision\\notebooks\\wandb\\run-20240120_002649-esyyn8tn</code>"
      ],
      "text/plain": [
       "<IPython.core.display.HTML object>"
      ]
     },
     "metadata": {},
     "output_type": "display_data"
    },
    {
     "data": {
      "text/html": [
       "Syncing run <strong><a href='https://wandb.ai/thoomas/PLA_13PPI_2D_projected_Kfold/runs/esyyn8tn' target=\"_blank\">GAT_3_64_onehot_0</a></strong> to <a href='https://wandb.ai/thoomas/PLA_13PPI_2D_projected_Kfold' target=\"_blank\">Weights & Biases</a> (<a href='https://wandb.me/run' target=\"_blank\">docs</a>)<br/>"
      ],
      "text/plain": [
       "<IPython.core.display.HTML object>"
      ]
     },
     "metadata": {},
     "output_type": "display_data"
    },
    {
     "data": {
      "text/html": [
       " View project at <a href='https://wandb.ai/thoomas/PLA_13PPI_2D_projected_Kfold' target=\"_blank\">https://wandb.ai/thoomas/PLA_13PPI_2D_projected_Kfold</a>"
      ],
      "text/plain": [
       "<IPython.core.display.HTML object>"
      ]
     },
     "metadata": {},
     "output_type": "display_data"
    },
    {
     "data": {
      "text/html": [
       " View run at <a href='https://wandb.ai/thoomas/PLA_13PPI_2D_projected_Kfold/runs/esyyn8tn' target=\"_blank\">https://wandb.ai/thoomas/PLA_13PPI_2D_projected_Kfold/runs/esyyn8tn</a>"
      ],
      "text/plain": [
       "<IPython.core.display.HTML object>"
      ]
     },
     "metadata": {},
     "output_type": "display_data"
    },
    {
     "name": "stderr",
     "output_type": "stream",
     "text": [
      "Global seed set to 42\n",
      "GPU available: True (cuda), used: True\n",
      "TPU available: False, using: 0 TPU cores\n",
      "IPU available: False, using: 0 IPUs\n",
      "HPU available: False, using: 0 HPUs\n",
      "Global seed set to 42\n",
      "c:\\Users\\thu71\\AppData\\Local\\anaconda3\\envs\\scanpy\\Lib\\site-packages\\lightning\\pytorch\\callbacks\\model_checkpoint.py:617: UserWarning: Checkpoint directory \\\\bme-retromaster.ad.gatech.edu\\labs5\\coskun-lab\\Thomas\\23_PLA_revision\\data\\13cyc_3D\\ saved_models_2D_projected\\13PPI_2D_projected\\Graph_GNNs_Kfold\\GAT_3_64_onehot_0\\attention\\GraphLevelGAT exists and is not empty.\n",
      "  rank_zero_warn(f\"Checkpoint directory {dirpath} exists and is not empty.\")\n",
      "LOCAL_RANK: 0 - CUDA_VISIBLE_DEVICES: [0]\n",
      "\n",
      "   | Name        | Type             | Params\n",
      "--------------------------------------------------\n",
      "0  | x_embedding | Identity         | 0     \n",
      "1  | model       | GAT              | 79.0 K\n",
      "2  | head        | Sequential       | 2.1 K \n",
      "3  | loss_module | CrossEntropyLoss | 0     \n",
      "4  | train_acc   | BinaryAccuracy   | 0     \n",
      "5  | train_auroc | BinaryAUROC      | 0     \n",
      "6  | train_f1    | BinaryF1Score    | 0     \n",
      "7  | valid_acc   | BinaryAccuracy   | 0     \n",
      "8  | valid_auroc | BinaryAUROC      | 0     \n",
      "9  | valid_f1    | BinaryF1Score    | 0     \n",
      "10 | pool        | GlobalAttention  | 65    \n",
      "--------------------------------------------------\n",
      "81.3 K    Trainable params\n",
      "0         Non-trainable params\n",
      "81.3 K    Total params\n",
      "0.325     Total estimated model params size (MB)\n"
     ]
    },
    {
     "name": "stdout",
     "output_type": "stream",
     "text": [
      "Using GAT\n"
     ]
    },
    {
     "name": "stderr",
     "output_type": "stream",
     "text": [
      "`Trainer.fit` stopped: `max_epochs=40` reached.\n"
     ]
    },
    {
     "data": {
      "text/html": [
       "Waiting for W&B process to finish... <strong style=\"color:green\">(success).</strong>"
      ],
      "text/plain": [
       "<IPython.core.display.HTML object>"
      ]
     },
     "metadata": {},
     "output_type": "display_data"
    },
    {
     "data": {
      "application/vnd.jupyter.widget-view+json": {
       "model_id": "ce282143d84d4d62b6ca3d26f7bdfe8f",
       "version_major": 2,
       "version_minor": 0
      },
      "text/plain": [
       "VBox(children=(Label(value='0.001 MB of 0.001 MB uploaded (0.000 MB deduped)\\r'), FloatProgress(value=1.0, max…"
      ]
     },
     "metadata": {},
     "output_type": "display_data"
    },
    {
     "data": {
      "text/html": [
       "<style>\n",
       "    table.wandb td:nth-child(1) { padding: 0 10px; text-align: left ; width: auto;} td:nth-child(2) {text-align: left ; width: 100%}\n",
       "    .wandb-row { display: flex; flex-direction: row; flex-wrap: wrap; justify-content: flex-start; width: 100% }\n",
       "    .wandb-col { display: flex; flex-direction: column; flex-basis: 100%; flex: 1; padding: 10px; }\n",
       "    </style>\n",
       "<div class=\"wandb-row\"><div class=\"wandb-col\"><h3>Run history:</h3><br/><table class=\"wandb\"><tr><td>epoch</td><td>▁▁▁▂▂▂▂▂▂▃▃▃▃▃▄▄▄▄▄▄▅▅▅▅▅▅▆▆▆▆▆▇▇▇▇▇▇███</td></tr><tr><td>lr-Adam</td><td>▁▁▁▁▁▁▁▁▁▁▁▁▁▁▁▁▁▁▁▁▁▁▁▁▁▁▁▁▁▁▁▁▁▁▁▁▁▁▁▁</td></tr><tr><td>train_acc</td><td>▁▃▅▅▅▆▅▇▆▇▆▆▆▆▆▆▆▆▇▆▇▇▇▇▇▇▇▇▇▇▇▇▆▇▇▇█▇▇▇</td></tr><tr><td>train_auc</td><td>▁▄▅▅▆▆▆▇▆▇▇▇▇▇▇▇▇▇▇▆▇█▇▇█▇▇██▇██▇▇▇▇██▇▇</td></tr><tr><td>train_f1</td><td>▁▃▄▅▄▅▅▆▆▇▆▆▆▆▆▆▆▆▆▆▇▇▆▇▇▆▆▇█▇▆▇▆▇▇▆█▇▇▇</td></tr><tr><td>train_loss_epoch</td><td>█▅▄▅▄▃▃▂▃▃▂▂▂▃▂▃▃▂▂▃▂▂▂▂▂▂▂▂▁▂▂▂▂▂▂▂▂▁▂▂</td></tr><tr><td>train_loss_step</td><td>▇▇▄▅▇▃▃▅▅▅▄▄▃▄▆▄▁▃▂▃▂▃▃▁▄▃▄▅▃▅▅▂▃▁█▃▅▂▃▅</td></tr><tr><td>trainer/global_step</td><td>▁▁▁▁▂▂▂▂▁▁▂▂▂▂▄▄▂▂▂▂▂▂▂▂▂▂▂▂▂▂▃▃▇▇▃▃▃▃▃█</td></tr><tr><td>val_acc</td><td>▃▅▆▅▇▅▅▆▇▃▅▄▇▇▅▇▇█▄▅▅▆▆▇▅▅▃▇▇▇▆▅▁▅▁▄▅▄▂▆</td></tr><tr><td>val_auc</td><td>▁▄▆▆▆▅▇▇█▆▇▆▇▇▇▇▇█▇▇▇▇▇▇▇▇▇▇█▇█▇▇█▆▇██▄▇</td></tr><tr><td>val_f1</td><td>▁▅▆▆▇▅▆▆▇▄▆▅▇▇▅▇▇█▅▆▅▆▆▇▅▆▅▇▇▆▅▆▃▆▃▅▅▅▄▆</td></tr><tr><td>val_loss_epoch</td><td>█▅▃▃▁▂▁▁▁▂▁▂▁▁▁▁▁▂▂▂▁▁▁▁▁▁▂▁▁▂▃▂▃▁▃▂▁▂▃▁</td></tr><tr><td>val_loss_step</td><td>▇▅▄▅▃▄▄▄▂▅▅▄▃▂▃▃▃▂▅▆▄▃▃▂▄▅▅▃▂▂▁▅█▄▇▅▃▆▆▁</td></tr></table><br/></div><div class=\"wandb-col\"><h3>Run summary:</h3><br/><table class=\"wandb\"><tr><td>epoch</td><td>39</td></tr><tr><td>lr-Adam</td><td>0.005</td></tr><tr><td>train_acc</td><td>0.80546</td></tr><tr><td>train_auc</td><td>0.87895</td></tr><tr><td>train_f1</td><td>0.79359</td></tr><tr><td>train_loss_epoch</td><td>0.44586</td></tr><tr><td>train_loss_step</td><td>0.48424</td></tr><tr><td>trainer/global_step</td><td>559</td></tr><tr><td>val_acc</td><td>0.82367</td></tr><tr><td>val_auc</td><td>0.90492</td></tr><tr><td>val_f1</td><td>0.82488</td></tr><tr><td>val_loss_epoch</td><td>0.38901</td></tr><tr><td>val_loss_step</td><td>0.29291</td></tr></table><br/></div></div>"
      ],
      "text/plain": [
       "<IPython.core.display.HTML object>"
      ]
     },
     "metadata": {},
     "output_type": "display_data"
    },
    {
     "data": {
      "text/html": [
       " View run <strong style=\"color:#cdcd00\">GAT_3_64_onehot_0</strong> at: <a href='https://wandb.ai/thoomas/PLA_13PPI_2D_projected_Kfold/runs/esyyn8tn' target=\"_blank\">https://wandb.ai/thoomas/PLA_13PPI_2D_projected_Kfold/runs/esyyn8tn</a><br/>Synced 6 W&B file(s), 0 media file(s), 0 artifact file(s) and 0 other file(s)"
      ],
      "text/plain": [
       "<IPython.core.display.HTML object>"
      ]
     },
     "metadata": {},
     "output_type": "display_data"
    },
    {
     "data": {
      "text/html": [
       "Find logs at: <code>.\\wandb\\run-20240120_002649-esyyn8tn\\logs</code>"
      ],
      "text/plain": [
       "<IPython.core.display.HTML object>"
      ]
     },
     "metadata": {},
     "output_type": "display_data"
    },
    {
     "data": {
      "application/vnd.jupyter.widget-view+json": {
       "model_id": "9f7064aad2c64e5795d7acec100ce8a9",
       "version_major": 2,
       "version_minor": 0
      },
      "text/plain": [
       "VBox(children=(Label(value='Waiting for wandb.init()...\\r'), FloatProgress(value=0.01693333333338766, max=1.0)…"
      ]
     },
     "metadata": {},
     "output_type": "display_data"
    },
    {
     "data": {
      "text/html": [
       "wandb version 0.16.2 is available!  To upgrade, please run:\n",
       " $ pip install wandb --upgrade"
      ],
      "text/plain": [
       "<IPython.core.display.HTML object>"
      ]
     },
     "metadata": {},
     "output_type": "display_data"
    },
    {
     "data": {
      "text/html": [
       "Tracking run with wandb version 0.15.8"
      ],
      "text/plain": [
       "<IPython.core.display.HTML object>"
      ]
     },
     "metadata": {},
     "output_type": "display_data"
    },
    {
     "data": {
      "text/html": [
       "Run data is saved locally in <code>y:\\coskun-lab\\Thomas\\23_PLA_revision\\notebooks\\wandb\\run-20240120_005912-7e7otgzk</code>"
      ],
      "text/plain": [
       "<IPython.core.display.HTML object>"
      ]
     },
     "metadata": {},
     "output_type": "display_data"
    },
    {
     "data": {
      "text/html": [
       "Syncing run <strong><a href='https://wandb.ai/thoomas/PLA_13PPI_2D_projected_Kfold/runs/7e7otgzk' target=\"_blank\">GINConv_3_16_onehot_0</a></strong> to <a href='https://wandb.ai/thoomas/PLA_13PPI_2D_projected_Kfold' target=\"_blank\">Weights & Biases</a> (<a href='https://wandb.me/run' target=\"_blank\">docs</a>)<br/>"
      ],
      "text/plain": [
       "<IPython.core.display.HTML object>"
      ]
     },
     "metadata": {},
     "output_type": "display_data"
    },
    {
     "data": {
      "text/html": [
       " View project at <a href='https://wandb.ai/thoomas/PLA_13PPI_2D_projected_Kfold' target=\"_blank\">https://wandb.ai/thoomas/PLA_13PPI_2D_projected_Kfold</a>"
      ],
      "text/plain": [
       "<IPython.core.display.HTML object>"
      ]
     },
     "metadata": {},
     "output_type": "display_data"
    },
    {
     "data": {
      "text/html": [
       " View run at <a href='https://wandb.ai/thoomas/PLA_13PPI_2D_projected_Kfold/runs/7e7otgzk' target=\"_blank\">https://wandb.ai/thoomas/PLA_13PPI_2D_projected_Kfold/runs/7e7otgzk</a>"
      ],
      "text/plain": [
       "<IPython.core.display.HTML object>"
      ]
     },
     "metadata": {},
     "output_type": "display_data"
    },
    {
     "name": "stderr",
     "output_type": "stream",
     "text": [
      "Global seed set to 42\n",
      "GPU available: True (cuda), used: True\n",
      "TPU available: False, using: 0 TPU cores\n",
      "IPU available: False, using: 0 IPUs\n",
      "HPU available: False, using: 0 HPUs\n",
      "Global seed set to 42\n",
      "c:\\Users\\thu71\\AppData\\Local\\anaconda3\\envs\\scanpy\\Lib\\site-packages\\lightning\\pytorch\\callbacks\\model_checkpoint.py:617: UserWarning: Checkpoint directory \\\\bme-retromaster.ad.gatech.edu\\labs5\\coskun-lab\\Thomas\\23_PLA_revision\\data\\13cyc_3D\\ saved_models_2D_projected\\13PPI_2D_projected\\Graph_GNNs_Kfold\\GINConv_3_16_onehot_0\\mean\\GraphLevelGINConv exists and is not empty.\n",
      "  rank_zero_warn(f\"Checkpoint directory {dirpath} exists and is not empty.\")\n",
      "LOCAL_RANK: 0 - CUDA_VISIBLE_DEVICES: [0]\n",
      "\n",
      "  | Name        | Type             | Params\n",
      "-------------------------------------------------\n",
      "0 | x_embedding | Identity         | 0     \n",
      "1 | model       | GIN              | 1.7 K \n",
      "2 | head        | Sequential       | 154   \n",
      "3 | loss_module | CrossEntropyLoss | 0     \n",
      "4 | train_acc   | BinaryAccuracy   | 0     \n",
      "5 | train_auroc | BinaryAUROC      | 0     \n",
      "6 | train_f1    | BinaryF1Score    | 0     \n",
      "7 | valid_acc   | BinaryAccuracy   | 0     \n",
      "8 | valid_auroc | BinaryAUROC      | 0     \n",
      "9 | valid_f1    | BinaryF1Score    | 0     \n",
      "-------------------------------------------------\n",
      "1.9 K     Trainable params\n",
      "0         Non-trainable params\n",
      "1.9 K     Total params\n",
      "0.008     Total estimated model params size (MB)\n"
     ]
    },
    {
     "name": "stdout",
     "output_type": "stream",
     "text": [
      "GINConv\n"
     ]
    },
    {
     "name": "stderr",
     "output_type": "stream",
     "text": [
      "`Trainer.fit` stopped: `max_epochs=40` reached.\n"
     ]
    },
    {
     "data": {
      "text/html": [
       "Waiting for W&B process to finish... <strong style=\"color:green\">(success).</strong>"
      ],
      "text/plain": [
       "<IPython.core.display.HTML object>"
      ]
     },
     "metadata": {},
     "output_type": "display_data"
    },
    {
     "data": {
      "text/html": [
       "<style>\n",
       "    table.wandb td:nth-child(1) { padding: 0 10px; text-align: left ; width: auto;} td:nth-child(2) {text-align: left ; width: 100%}\n",
       "    .wandb-row { display: flex; flex-direction: row; flex-wrap: wrap; justify-content: flex-start; width: 100% }\n",
       "    .wandb-col { display: flex; flex-direction: column; flex-basis: 100%; flex: 1; padding: 10px; }\n",
       "    </style>\n",
       "<div class=\"wandb-row\"><div class=\"wandb-col\"><h3>Run history:</h3><br/><table class=\"wandb\"><tr><td>epoch</td><td>▁▁▁▂▂▂▂▂▂▃▃▃▃▃▄▄▄▄▄▄▅▅▅▅▅▅▆▆▆▆▆▇▇▇▇▇▇███</td></tr><tr><td>lr-Adam</td><td>▁▁▁▁▁▁▁▁▁▁▁▁▁▁▁▁▁▁▁▁▁▁▁▁▁▁▁▁▁▁▁▁▁▁▁▁▁▁▁▁</td></tr><tr><td>train_acc</td><td>▁▄▅▆▆▆▆▆▇▇▇▆▆▆▇▇█▇▇▇▇▇█▇█▇███████▇██████</td></tr><tr><td>train_auc</td><td>▁▅▅▆▆▆▆▆▇▇▇▇▇▇▇▇█▇▇▇▇▇▇▇▇▇██████████████</td></tr><tr><td>train_f1</td><td>▁▅▆▇▆▇▇▇▇▇▇▇▇▇▇██▇▇█▇████▇██████████████</td></tr><tr><td>train_loss_epoch</td><td>█▆▅▄▄▃▄▄▃▃▃▃▃▃▃▃▂▃▃▂▃▂▂▂▂▂▂▂▂▂▂▁▂▂▂▁▂▁▂▁</td></tr><tr><td>train_loss_step</td><td>▇█▆▅▅▄▄▅▄▂▂▄▅▄▇▃▃▂▄▃▃▃▁▃▁▁▂▄▄▂▃▃▃▂▂▂▄▂▂▃</td></tr><tr><td>trainer/global_step</td><td>▁▁▁▁▂▂▂▂▁▁▂▂▂▂▄▄▂▂▂▂▂▂▂▂▂▂▂▂▂▂▃▃▇▇▃▃▃▃▃█</td></tr><tr><td>val_acc</td><td>▃▁▆▇▇▆▆▇▇▆▇▇▆▇▇▇▆▆▇▇▇▇▇▆▆█▆▇▇▇▇▆▅▆▆▆▇▆▆▇</td></tr><tr><td>val_auc</td><td>▁▃▅▆▇▇▇▇▅▅▆▆▅▇▆█▄▇▆▇▆▇▇▅▆▇▅▇▆▇▇▄▄▇▆▆▆▅▅▆</td></tr><tr><td>val_f1</td><td>▂▁▄▇▇▆▆▇▆▅▇▆▆▆▆█▅▆▆▆▆▇▇▆▆█▄▆▆▇▆▅▃▆▅▆▇▅▆▅</td></tr><tr><td>val_loss_epoch</td><td>█▆▃▂▂▂▂▂▃▂▂▃▂▃▃▁▃▂▂▃▂▂▃▂▃▃▄▂▂▂▁▄▆▂▄▂▃▄▃▄</td></tr><tr><td>val_loss_step</td><td>▆█▂▃▃▃▃▂▃▃▂▁▃▁▂▂▃▃▂▁▂▂▁▃▃▂▁▂▂▂▃▄▂▃▂▃▂▃▃▅</td></tr></table><br/></div><div class=\"wandb-col\"><h3>Run summary:</h3><br/><table class=\"wandb\"><tr><td>epoch</td><td>39</td></tr><tr><td>lr-Adam</td><td>0.005</td></tr><tr><td>train_acc</td><td>0.85424</td></tr><tr><td>train_auc</td><td>0.91985</td></tr><tr><td>train_f1</td><td>0.83627</td></tr><tr><td>train_loss_epoch</td><td>0.36232</td></tr><tr><td>train_loss_step</td><td>0.39821</td></tr><tr><td>trainer/global_step</td><td>559</td></tr><tr><td>val_acc</td><td>0.83527</td></tr><tr><td>val_auc</td><td>0.90039</td></tr><tr><td>val_f1</td><td>0.81841</td></tr><tr><td>val_loss_epoch</td><td>0.4572</td></tr><tr><td>val_loss_step</td><td>0.4862</td></tr></table><br/></div></div>"
      ],
      "text/plain": [
       "<IPython.core.display.HTML object>"
      ]
     },
     "metadata": {},
     "output_type": "display_data"
    },
    {
     "data": {
      "text/html": [
       " View run <strong style=\"color:#cdcd00\">GINConv_3_16_onehot_0</strong> at: <a href='https://wandb.ai/thoomas/PLA_13PPI_2D_projected_Kfold/runs/7e7otgzk' target=\"_blank\">https://wandb.ai/thoomas/PLA_13PPI_2D_projected_Kfold/runs/7e7otgzk</a><br/>Synced 6 W&B file(s), 0 media file(s), 0 artifact file(s) and 0 other file(s)"
      ],
      "text/plain": [
       "<IPython.core.display.HTML object>"
      ]
     },
     "metadata": {},
     "output_type": "display_data"
    },
    {
     "data": {
      "text/html": [
       "Find logs at: <code>.\\wandb\\run-20240120_005912-7e7otgzk\\logs</code>"
      ],
      "text/plain": [
       "<IPython.core.display.HTML object>"
      ]
     },
     "metadata": {},
     "output_type": "display_data"
    },
    {
     "data": {
      "text/html": [
       "wandb version 0.16.2 is available!  To upgrade, please run:\n",
       " $ pip install wandb --upgrade"
      ],
      "text/plain": [
       "<IPython.core.display.HTML object>"
      ]
     },
     "metadata": {},
     "output_type": "display_data"
    },
    {
     "data": {
      "text/html": [
       "Tracking run with wandb version 0.15.8"
      ],
      "text/plain": [
       "<IPython.core.display.HTML object>"
      ]
     },
     "metadata": {},
     "output_type": "display_data"
    },
    {
     "data": {
      "text/html": [
       "Run data is saved locally in <code>y:\\coskun-lab\\Thomas\\23_PLA_revision\\notebooks\\wandb\\run-20240120_013050-6pv7bqok</code>"
      ],
      "text/plain": [
       "<IPython.core.display.HTML object>"
      ]
     },
     "metadata": {},
     "output_type": "display_data"
    },
    {
     "data": {
      "text/html": [
       "Syncing run <strong><a href='https://wandb.ai/thoomas/PLA_13PPI_2D_projected_Kfold/runs/6pv7bqok' target=\"_blank\">MLP_2_64_onehot_1</a></strong> to <a href='https://wandb.ai/thoomas/PLA_13PPI_2D_projected_Kfold' target=\"_blank\">Weights & Biases</a> (<a href='https://wandb.me/run' target=\"_blank\">docs</a>)<br/>"
      ],
      "text/plain": [
       "<IPython.core.display.HTML object>"
      ]
     },
     "metadata": {},
     "output_type": "display_data"
    },
    {
     "data": {
      "text/html": [
       " View project at <a href='https://wandb.ai/thoomas/PLA_13PPI_2D_projected_Kfold' target=\"_blank\">https://wandb.ai/thoomas/PLA_13PPI_2D_projected_Kfold</a>"
      ],
      "text/plain": [
       "<IPython.core.display.HTML object>"
      ]
     },
     "metadata": {},
     "output_type": "display_data"
    },
    {
     "data": {
      "text/html": [
       " View run at <a href='https://wandb.ai/thoomas/PLA_13PPI_2D_projected_Kfold/runs/6pv7bqok' target=\"_blank\">https://wandb.ai/thoomas/PLA_13PPI_2D_projected_Kfold/runs/6pv7bqok</a>"
      ],
      "text/plain": [
       "<IPython.core.display.HTML object>"
      ]
     },
     "metadata": {},
     "output_type": "display_data"
    },
    {
     "name": "stderr",
     "output_type": "stream",
     "text": [
      "Global seed set to 42\n",
      "GPU available: True (cuda), used: True\n",
      "TPU available: False, using: 0 TPU cores\n",
      "IPU available: False, using: 0 IPUs\n",
      "HPU available: False, using: 0 HPUs\n",
      "Global seed set to 42\n",
      "c:\\Users\\thu71\\AppData\\Local\\anaconda3\\envs\\scanpy\\Lib\\site-packages\\lightning\\pytorch\\callbacks\\model_checkpoint.py:617: UserWarning: Checkpoint directory \\\\bme-retromaster.ad.gatech.edu\\labs5\\coskun-lab\\Thomas\\23_PLA_revision\\data\\13cyc_3D\\ saved_models_2D_projected\\13PPI_2D_projected\\Graph_GNNs_Kfold\\MLP_2_64_onehot_1\\attention\\GraphLevelMLP exists and is not empty.\n",
      "  rank_zero_warn(f\"Checkpoint directory {dirpath} exists and is not empty.\")\n",
      "LOCAL_RANK: 0 - CUDA_VISIBLE_DEVICES: [0]\n",
      "\n",
      "   | Name        | Type             | Params\n",
      "--------------------------------------------------\n",
      "0  | x_embedding | Identity         | 0     \n",
      "1  | model       | MLPModel         | 5.1 K \n",
      "2  | head        | Sequential       | 2.1 K \n",
      "3  | loss_module | CrossEntropyLoss | 0     \n",
      "4  | train_acc   | BinaryAccuracy   | 0     \n",
      "5  | train_auroc | BinaryAUROC      | 0     \n",
      "6  | train_f1    | BinaryF1Score    | 0     \n",
      "7  | valid_acc   | BinaryAccuracy   | 0     \n",
      "8  | valid_auroc | BinaryAUROC      | 0     \n",
      "9  | valid_f1    | BinaryF1Score    | 0     \n",
      "10 | pool        | GlobalAttention  | 65    \n",
      "--------------------------------------------------\n",
      "7.3 K     Trainable params\n",
      "0         Non-trainable params\n",
      "7.3 K     Total params\n",
      "0.029     Total estimated model params size (MB)\n"
     ]
    },
    {
     "name": "stdout",
     "output_type": "stream",
     "text": [
      "Using MLP\n"
     ]
    },
    {
     "name": "stderr",
     "output_type": "stream",
     "text": [
      "`Trainer.fit` stopped: `max_epochs=40` reached.\n"
     ]
    },
    {
     "data": {
      "text/html": [
       "Waiting for W&B process to finish... <strong style=\"color:green\">(success).</strong>"
      ],
      "text/plain": [
       "<IPython.core.display.HTML object>"
      ]
     },
     "metadata": {},
     "output_type": "display_data"
    },
    {
     "data": {
      "application/vnd.jupyter.widget-view+json": {
       "model_id": "c8504977de174bf0b378e45dc0da00ad",
       "version_major": 2,
       "version_minor": 0
      },
      "text/plain": [
       "VBox(children=(Label(value='0.001 MB of 0.001 MB uploaded (0.000 MB deduped)\\r'), FloatProgress(value=1.0, max…"
      ]
     },
     "metadata": {},
     "output_type": "display_data"
    },
    {
     "data": {
      "text/html": [
       "<style>\n",
       "    table.wandb td:nth-child(1) { padding: 0 10px; text-align: left ; width: auto;} td:nth-child(2) {text-align: left ; width: 100%}\n",
       "    .wandb-row { display: flex; flex-direction: row; flex-wrap: wrap; justify-content: flex-start; width: 100% }\n",
       "    .wandb-col { display: flex; flex-direction: column; flex-basis: 100%; flex: 1; padding: 10px; }\n",
       "    </style>\n",
       "<div class=\"wandb-row\"><div class=\"wandb-col\"><h3>Run history:</h3><br/><table class=\"wandb\"><tr><td>epoch</td><td>▁▁▁▂▂▂▂▂▂▃▃▃▃▃▄▄▄▄▄▄▅▅▅▅▅▅▆▆▆▆▆▇▇▇▇▇▇███</td></tr><tr><td>lr-Adam</td><td>▁▁▁▁▁▁▁▁▁▁▁▁▁▁▁▁▁▁▁▁▁▁▁▁▁▁▁▁▁▁▁▁▁▁▁▁▁▁▁▁</td></tr><tr><td>train_acc</td><td>▁▄▇▇▇▇▇█▇▇██▇▇█▇▇▇█████▇█▇█▇█████▇███▇▇▇</td></tr><tr><td>train_auc</td><td>▁▃▇▇█▇███████▇████████████████████████▇▇</td></tr><tr><td>train_f1</td><td>▁▅▇▇█▇▇█▇████▇███▇█████▇██████████████▇▇</td></tr><tr><td>train_loss_epoch</td><td>█▇▃▃▂▂▂▂▂▂▂▂▂▂▁▂▂▂▂▁▂▁▁▂▁▂▂▂▁▁▂▁▁▁▁▁▂▂▂▃</td></tr><tr><td>train_loss_step</td><td>█▇▆▅▄▁▂▃▃▃▁▃▃▂▂▁▂▂▃▄▄▂▂▃▂▃▂▃▁▃▄▄▂▁▄▂▄▄▃▄</td></tr><tr><td>trainer/global_step</td><td>▁▁▁▁▂▂▂▂▁▁▂▂▂▂▄▄▂▂▂▂▂▂▂▂▂▂▂▂▂▂▃▃▇▇▃▃▃▃▃█</td></tr><tr><td>val_acc</td><td>▁▆▆██▇██▆███████████████▇███▇▇██▇███▇▇█▆</td></tr><tr><td>val_auc</td><td>▃▁▁▅▆▅▆▇▇▇▇▇██▇▇▇▇▇▇▆▇██▇▇▆▇▇▇▇██▇▇██▇▇▇</td></tr><tr><td>val_f1</td><td>▅▁▁█▆██▇▇▇▇█▇██▇█▆▇█▇▇█▇█▇▇█▅███▆█▇██▄█▇</td></tr><tr><td>val_loss_epoch</td><td>█▆▇▂▂▁▁▂▂▂▁▁▂▁▁▂▁▃▁▁▂▁▁▂▂▂▁▁▃▁▁▁▃▁▁▁▂▃▁▃</td></tr><tr><td>val_loss_step</td><td>▇▅▂▅▃▆▅▃█▃▄▅▃▅▆▃▄▂▄▅▃▄▄▃▇▃▄▅▂▅▄▅▂▅▄▅▇▂▅▁</td></tr></table><br/></div><div class=\"wandb-col\"><h3>Run summary:</h3><br/><table class=\"wandb\"><tr><td>epoch</td><td>39</td></tr><tr><td>lr-Adam</td><td>0.005</td></tr><tr><td>train_acc</td><td>0.74274</td></tr><tr><td>train_auc</td><td>0.81096</td></tr><tr><td>train_f1</td><td>0.72433</td></tr><tr><td>train_loss_epoch</td><td>0.53083</td></tr><tr><td>train_loss_step</td><td>0.54242</td></tr><tr><td>trainer/global_step</td><td>559</td></tr><tr><td>val_acc</td><td>0.67981</td></tr><tr><td>val_auc</td><td>0.83671</td></tr><tr><td>val_f1</td><td>0.7113</td></tr><tr><td>val_loss_epoch</td><td>0.53905</td></tr><tr><td>val_loss_step</td><td>0.26688</td></tr></table><br/></div></div>"
      ],
      "text/plain": [
       "<IPython.core.display.HTML object>"
      ]
     },
     "metadata": {},
     "output_type": "display_data"
    },
    {
     "data": {
      "text/html": [
       " View run <strong style=\"color:#cdcd00\">MLP_2_64_onehot_1</strong> at: <a href='https://wandb.ai/thoomas/PLA_13PPI_2D_projected_Kfold/runs/6pv7bqok' target=\"_blank\">https://wandb.ai/thoomas/PLA_13PPI_2D_projected_Kfold/runs/6pv7bqok</a><br/>Synced 6 W&B file(s), 0 media file(s), 0 artifact file(s) and 0 other file(s)"
      ],
      "text/plain": [
       "<IPython.core.display.HTML object>"
      ]
     },
     "metadata": {},
     "output_type": "display_data"
    },
    {
     "data": {
      "text/html": [
       "Find logs at: <code>.\\wandb\\run-20240120_013050-6pv7bqok\\logs</code>"
      ],
      "text/plain": [
       "<IPython.core.display.HTML object>"
      ]
     },
     "metadata": {},
     "output_type": "display_data"
    },
    {
     "data": {
      "application/vnd.jupyter.widget-view+json": {
       "model_id": "cdf6a3f25677485b90db058121d5cb85",
       "version_major": 2,
       "version_minor": 0
      },
      "text/plain": [
       "VBox(children=(Label(value='Waiting for wandb.init()...\\r'), FloatProgress(value=0.016916666666414434, max=1.0…"
      ]
     },
     "metadata": {},
     "output_type": "display_data"
    },
    {
     "data": {
      "text/html": [
       "wandb version 0.16.2 is available!  To upgrade, please run:\n",
       " $ pip install wandb --upgrade"
      ],
      "text/plain": [
       "<IPython.core.display.HTML object>"
      ]
     },
     "metadata": {},
     "output_type": "display_data"
    },
    {
     "data": {
      "text/html": [
       "Tracking run with wandb version 0.15.8"
      ],
      "text/plain": [
       "<IPython.core.display.HTML object>"
      ]
     },
     "metadata": {},
     "output_type": "display_data"
    },
    {
     "data": {
      "text/html": [
       "Run data is saved locally in <code>y:\\coskun-lab\\Thomas\\23_PLA_revision\\notebooks\\wandb\\run-20240120_020317-zkwm856u</code>"
      ],
      "text/plain": [
       "<IPython.core.display.HTML object>"
      ]
     },
     "metadata": {},
     "output_type": "display_data"
    },
    {
     "data": {
      "text/html": [
       "Syncing run <strong><a href='https://wandb.ai/thoomas/PLA_13PPI_2D_projected_Kfold/runs/zkwm856u' target=\"_blank\">GraphConv_2_16_onehot_1</a></strong> to <a href='https://wandb.ai/thoomas/PLA_13PPI_2D_projected_Kfold' target=\"_blank\">Weights & Biases</a> (<a href='https://wandb.me/run' target=\"_blank\">docs</a>)<br/>"
      ],
      "text/plain": [
       "<IPython.core.display.HTML object>"
      ]
     },
     "metadata": {},
     "output_type": "display_data"
    },
    {
     "data": {
      "text/html": [
       " View project at <a href='https://wandb.ai/thoomas/PLA_13PPI_2D_projected_Kfold' target=\"_blank\">https://wandb.ai/thoomas/PLA_13PPI_2D_projected_Kfold</a>"
      ],
      "text/plain": [
       "<IPython.core.display.HTML object>"
      ]
     },
     "metadata": {},
     "output_type": "display_data"
    },
    {
     "data": {
      "text/html": [
       " View run at <a href='https://wandb.ai/thoomas/PLA_13PPI_2D_projected_Kfold/runs/zkwm856u' target=\"_blank\">https://wandb.ai/thoomas/PLA_13PPI_2D_projected_Kfold/runs/zkwm856u</a>"
      ],
      "text/plain": [
       "<IPython.core.display.HTML object>"
      ]
     },
     "metadata": {},
     "output_type": "display_data"
    },
    {
     "name": "stderr",
     "output_type": "stream",
     "text": [
      "Global seed set to 42\n",
      "GPU available: True (cuda), used: True\n",
      "TPU available: False, using: 0 TPU cores\n",
      "IPU available: False, using: 0 IPUs\n",
      "HPU available: False, using: 0 HPUs\n",
      "Global seed set to 42\n",
      "c:\\Users\\thu71\\AppData\\Local\\anaconda3\\envs\\scanpy\\Lib\\site-packages\\lightning\\pytorch\\callbacks\\model_checkpoint.py:617: UserWarning: Checkpoint directory \\\\bme-retromaster.ad.gatech.edu\\labs5\\coskun-lab\\Thomas\\23_PLA_revision\\data\\13cyc_3D\\ saved_models_2D_projected\\13PPI_2D_projected\\Graph_GNNs_Kfold\\GraphConv_2_16_onehot_1\\attention\\GraphLevelGraphConv exists and is not empty.\n",
      "  rank_zero_warn(f\"Checkpoint directory {dirpath} exists and is not empty.\")\n",
      "LOCAL_RANK: 0 - CUDA_VISIBLE_DEVICES: [0]\n",
      "\n",
      "   | Name        | Type             | Params\n",
      "--------------------------------------------------\n",
      "0  | x_embedding | Identity         | 0     \n",
      "1  | model       | GNNModel         | 992   \n",
      "2  | head        | Sequential       | 154   \n",
      "3  | loss_module | CrossEntropyLoss | 0     \n",
      "4  | train_acc   | BinaryAccuracy   | 0     \n",
      "5  | train_auroc | BinaryAUROC      | 0     \n",
      "6  | train_f1    | BinaryF1Score    | 0     \n",
      "7  | valid_acc   | BinaryAccuracy   | 0     \n",
      "8  | valid_auroc | BinaryAUROC      | 0     \n",
      "9  | valid_f1    | BinaryF1Score    | 0     \n",
      "10 | pool        | GlobalAttention  | 17    \n",
      "--------------------------------------------------\n",
      "1.2 K     Trainable params\n",
      "0         Non-trainable params\n",
      "1.2 K     Total params\n",
      "0.005     Total estimated model params size (MB)\n"
     ]
    },
    {
     "name": "stdout",
     "output_type": "stream",
     "text": [
      "Using GNN\n"
     ]
    },
    {
     "name": "stderr",
     "output_type": "stream",
     "text": [
      "`Trainer.fit` stopped: `max_epochs=40` reached.\n"
     ]
    },
    {
     "data": {
      "text/html": [
       "Waiting for W&B process to finish... <strong style=\"color:green\">(success).</strong>"
      ],
      "text/plain": [
       "<IPython.core.display.HTML object>"
      ]
     },
     "metadata": {},
     "output_type": "display_data"
    },
    {
     "data": {
      "text/html": [
       "<style>\n",
       "    table.wandb td:nth-child(1) { padding: 0 10px; text-align: left ; width: auto;} td:nth-child(2) {text-align: left ; width: 100%}\n",
       "    .wandb-row { display: flex; flex-direction: row; flex-wrap: wrap; justify-content: flex-start; width: 100% }\n",
       "    .wandb-col { display: flex; flex-direction: column; flex-basis: 100%; flex: 1; padding: 10px; }\n",
       "    </style>\n",
       "<div class=\"wandb-row\"><div class=\"wandb-col\"><h3>Run history:</h3><br/><table class=\"wandb\"><tr><td>epoch</td><td>▁▁▁▂▂▂▂▂▂▃▃▃▃▃▄▄▄▄▄▄▅▅▅▅▅▅▆▆▆▆▆▇▇▇▇▇▇███</td></tr><tr><td>lr-Adam</td><td>▁▁▁▁▁▁▁▁▁▁▁▁▁▁▁▁▁▁▁▁▁▁▁▁▁▁▁▁▁▁▁▁▁▁▁▁▁▁▁▁</td></tr><tr><td>train_acc</td><td>▁▅▆▆▆▇▇▇▇▇▇▇▇▇█▇▇▇▇▇▇▇██████████████████</td></tr><tr><td>train_auc</td><td>▁▅▅▆▆▆▇▆▇▇▇▇▇▇▇▇▇▇▇▇████████████████████</td></tr><tr><td>train_f1</td><td>▁▃▄▅▅▆▅▆▆▆▅▆▇▆█▇▇▇▇▇▇▇▇▇█▇▇█▇█████▇█▇▇█▇</td></tr><tr><td>train_loss_epoch</td><td>█▅▄▄▃▄▃▄▃▃▃▃▃▂▂▃▂▂▂▂▂▂▂▂▁▂▂▂▂▂▁▁▁▁▁▁▁▁▂▁</td></tr><tr><td>train_loss_step</td><td>█▆▇▅▆▆▅▅▄▄▅▄▅▅▃▆▄▂▄▅▅▄▁▂▃▂▃▃▃▃▂▃▃▃▅▂▂▂▃▃</td></tr><tr><td>trainer/global_step</td><td>▁▁▁▁▂▂▂▂▁▁▂▂▂▂▄▄▂▂▂▂▂▂▂▂▂▂▂▂▂▂▃▃▇▇▃▃▃▃▃█</td></tr><tr><td>val_acc</td><td>▁▄▆▆▇▇▇▇▇█▇▇▇██▇██████▇████████▇███▇▇███</td></tr><tr><td>val_auc</td><td>▁▁▄▃▄▄▄▅▅▆▅▇▇▆▇▇▆▇▇████▇▇▇▇███▇█▇▇▇▇▇▇▇▇</td></tr><tr><td>val_f1</td><td>▁▄▆▆▃▆▆▆▇▇▇▇▆▇▇▇█▇▅█▇█▇▇▇▇█▇▆██▇▇▇█▇▇▇██</td></tr><tr><td>val_loss_epoch</td><td>█▇▄▄▅▃▃▃▃▃▃▂▂▂▂▂▂▂▃▁▂▁▁▂▁▁▁▁▃▁▁▁▂▂▁▁▁▂▁▁</td></tr><tr><td>val_loss_step</td><td>▇█▄▆▃▄▄▃▄▃▅▄▃▃▃▅▄▃▂▃▂▃▃▂▃▃▄▃▁▃▃▄▂▂▃▃▄▂▃▁</td></tr></table><br/></div><div class=\"wandb-col\"><h3>Run summary:</h3><br/><table class=\"wandb\"><tr><td>epoch</td><td>39</td></tr><tr><td>lr-Adam</td><td>0.005</td></tr><tr><td>train_acc</td><td>0.82462</td></tr><tr><td>train_auc</td><td>0.89508</td></tr><tr><td>train_f1</td><td>0.80566</td></tr><tr><td>train_loss_epoch</td><td>0.40116</td></tr><tr><td>train_loss_step</td><td>0.39877</td></tr><tr><td>trainer/global_step</td><td>559</td></tr><tr><td>val_acc</td><td>0.79582</td></tr><tr><td>val_auc</td><td>0.8598</td></tr><tr><td>val_f1</td><td>0.77551</td></tr><tr><td>val_loss_epoch</td><td>0.44339</td></tr><tr><td>val_loss_step</td><td>0.24329</td></tr></table><br/></div></div>"
      ],
      "text/plain": [
       "<IPython.core.display.HTML object>"
      ]
     },
     "metadata": {},
     "output_type": "display_data"
    },
    {
     "data": {
      "text/html": [
       " View run <strong style=\"color:#cdcd00\">GraphConv_2_16_onehot_1</strong> at: <a href='https://wandb.ai/thoomas/PLA_13PPI_2D_projected_Kfold/runs/zkwm856u' target=\"_blank\">https://wandb.ai/thoomas/PLA_13PPI_2D_projected_Kfold/runs/zkwm856u</a><br/>Synced 6 W&B file(s), 0 media file(s), 0 artifact file(s) and 0 other file(s)"
      ],
      "text/plain": [
       "<IPython.core.display.HTML object>"
      ]
     },
     "metadata": {},
     "output_type": "display_data"
    },
    {
     "data": {
      "text/html": [
       "Find logs at: <code>.\\wandb\\run-20240120_020317-zkwm856u\\logs</code>"
      ],
      "text/plain": [
       "<IPython.core.display.HTML object>"
      ]
     },
     "metadata": {},
     "output_type": "display_data"
    },
    {
     "data": {
      "application/vnd.jupyter.widget-view+json": {
       "model_id": "a0da0d2a1fe640449dd8e89ffd60eefc",
       "version_major": 2,
       "version_minor": 0
      },
      "text/plain": [
       "VBox(children=(Label(value='Waiting for wandb.init()...\\r'), FloatProgress(value=0.016666666666666666, max=1.0…"
      ]
     },
     "metadata": {},
     "output_type": "display_data"
    },
    {
     "data": {
      "text/html": [
       "wandb version 0.16.2 is available!  To upgrade, please run:\n",
       " $ pip install wandb --upgrade"
      ],
      "text/plain": [
       "<IPython.core.display.HTML object>"
      ]
     },
     "metadata": {},
     "output_type": "display_data"
    },
    {
     "data": {
      "text/html": [
       "Tracking run with wandb version 0.15.8"
      ],
      "text/plain": [
       "<IPython.core.display.HTML object>"
      ]
     },
     "metadata": {},
     "output_type": "display_data"
    },
    {
     "data": {
      "text/html": [
       "Run data is saved locally in <code>y:\\coskun-lab\\Thomas\\23_PLA_revision\\notebooks\\wandb\\run-20240120_023601-diel6cc0</code>"
      ],
      "text/plain": [
       "<IPython.core.display.HTML object>"
      ]
     },
     "metadata": {},
     "output_type": "display_data"
    },
    {
     "data": {
      "text/html": [
       "Syncing run <strong><a href='https://wandb.ai/thoomas/PLA_13PPI_2D_projected_Kfold/runs/diel6cc0' target=\"_blank\">GCN_2_64_onehot_1</a></strong> to <a href='https://wandb.ai/thoomas/PLA_13PPI_2D_projected_Kfold' target=\"_blank\">Weights & Biases</a> (<a href='https://wandb.me/run' target=\"_blank\">docs</a>)<br/>"
      ],
      "text/plain": [
       "<IPython.core.display.HTML object>"
      ]
     },
     "metadata": {},
     "output_type": "display_data"
    },
    {
     "data": {
      "text/html": [
       " View project at <a href='https://wandb.ai/thoomas/PLA_13PPI_2D_projected_Kfold' target=\"_blank\">https://wandb.ai/thoomas/PLA_13PPI_2D_projected_Kfold</a>"
      ],
      "text/plain": [
       "<IPython.core.display.HTML object>"
      ]
     },
     "metadata": {},
     "output_type": "display_data"
    },
    {
     "data": {
      "text/html": [
       " View run at <a href='https://wandb.ai/thoomas/PLA_13PPI_2D_projected_Kfold/runs/diel6cc0' target=\"_blank\">https://wandb.ai/thoomas/PLA_13PPI_2D_projected_Kfold/runs/diel6cc0</a>"
      ],
      "text/plain": [
       "<IPython.core.display.HTML object>"
      ]
     },
     "metadata": {},
     "output_type": "display_data"
    },
    {
     "name": "stderr",
     "output_type": "stream",
     "text": [
      "Global seed set to 42\n",
      "GPU available: True (cuda), used: True\n",
      "TPU available: False, using: 0 TPU cores\n",
      "IPU available: False, using: 0 IPUs\n",
      "HPU available: False, using: 0 HPUs\n",
      "Global seed set to 42\n",
      "c:\\Users\\thu71\\AppData\\Local\\anaconda3\\envs\\scanpy\\Lib\\site-packages\\lightning\\pytorch\\callbacks\\model_checkpoint.py:617: UserWarning: Checkpoint directory \\\\bme-retromaster.ad.gatech.edu\\labs5\\coskun-lab\\Thomas\\23_PLA_revision\\data\\13cyc_3D\\ saved_models_2D_projected\\13PPI_2D_projected\\Graph_GNNs_Kfold\\GCN_2_64_onehot_1\\attention2\\GraphLevelGCN exists and is not empty.\n",
      "  rank_zero_warn(f\"Checkpoint directory {dirpath} exists and is not empty.\")\n",
      "LOCAL_RANK: 0 - CUDA_VISIBLE_DEVICES: [0]\n",
      "\n",
      "   | Name        | Type             | Params\n",
      "--------------------------------------------------\n",
      "0  | x_embedding | Identity         | 0     \n",
      "1  | model       | GNNModel         | 5.2 K \n",
      "2  | head        | Sequential       | 2.1 K \n",
      "3  | loss_module | CrossEntropyLoss | 0     \n",
      "4  | train_acc   | BinaryAccuracy   | 0     \n",
      "5  | train_auroc | BinaryAUROC      | 0     \n",
      "6  | train_f1    | BinaryF1Score    | 0     \n",
      "7  | valid_acc   | BinaryAccuracy   | 0     \n",
      "8  | valid_auroc | BinaryAUROC      | 0     \n",
      "9  | valid_f1    | BinaryF1Score    | 0     \n",
      "10 | pool        | Attention_module | 4.2 K \n",
      "--------------------------------------------------\n",
      "11.5 K    Trainable params\n",
      "0         Non-trainable params\n",
      "11.5 K    Total params\n",
      "0.046     Total estimated model params size (MB)\n"
     ]
    },
    {
     "name": "stdout",
     "output_type": "stream",
     "text": [
      "Using GNN\n"
     ]
    },
    {
     "name": "stderr",
     "output_type": "stream",
     "text": [
      "`Trainer.fit` stopped: `max_epochs=40` reached.\n"
     ]
    },
    {
     "data": {
      "text/html": [
       "Waiting for W&B process to finish... <strong style=\"color:green\">(success).</strong>"
      ],
      "text/plain": [
       "<IPython.core.display.HTML object>"
      ]
     },
     "metadata": {},
     "output_type": "display_data"
    },
    {
     "data": {
      "text/html": [
       "<style>\n",
       "    table.wandb td:nth-child(1) { padding: 0 10px; text-align: left ; width: auto;} td:nth-child(2) {text-align: left ; width: 100%}\n",
       "    .wandb-row { display: flex; flex-direction: row; flex-wrap: wrap; justify-content: flex-start; width: 100% }\n",
       "    .wandb-col { display: flex; flex-direction: column; flex-basis: 100%; flex: 1; padding: 10px; }\n",
       "    </style>\n",
       "<div class=\"wandb-row\"><div class=\"wandb-col\"><h3>Run history:</h3><br/><table class=\"wandb\"><tr><td>epoch</td><td>▁▁▁▂▂▂▂▂▂▃▃▃▃▃▄▄▄▄▄▄▅▅▅▅▅▅▆▆▆▆▆▇▇▇▇▇▇███</td></tr><tr><td>lr-Adam</td><td>▁▁▁▁▁▁▁▁▁▁▁▁▁▁▁▁▁▁▁▁▁▁▁▁▁▁▁▁▁▁▁▁▁▁▁▁▁▁▁▁</td></tr><tr><td>train_acc</td><td>▁▄▅▅▆▅▆▆▆▆▇▆▆▇▇▇▇▇▇▇▇█▇▇▇▇▇▇▇▇▇▇▇▇▇█▆▇▇▇</td></tr><tr><td>train_auc</td><td>▁▅▅▆▆▆▇▇▇▆▇▇▇▇▇▇▇▇▇▇▇▇▇▇▇█▇███▇██████▇█▇</td></tr><tr><td>train_f1</td><td>▁▅▅▅▆▆▇▇▆▆▇▆▇▇▇▇▇▇▇▇▇█▇▇██▇▇▇▇▇▇█▇██▇▇▇▇</td></tr><tr><td>train_loss_epoch</td><td>█▅▄▄▃▃▂▂▂▃▂▂▂▂▂▂▂▂▂▂▂▂▂▂▂▁▂▁▂▁▁▁▁▁▁▁▁▂▂▂</td></tr><tr><td>train_loss_step</td><td>█▇▆▅▂▃▃▁▂▄▅▃▅▄▄▅▃▄▄▂▄▆▂▅▆▆▂▅▄▂▄▄▃▁▂▆▄▂▄▃</td></tr><tr><td>trainer/global_step</td><td>▁▁▁▁▂▂▂▂▁▁▂▂▂▂▄▄▂▂▂▂▂▂▂▂▂▂▂▂▂▂▃▃▇▇▃▃▃▃▃█</td></tr><tr><td>val_acc</td><td>▃▃▄▅▁▃▅▇▆▆▅▃█▄▆▆▅▃▄▅▆▅▄▇▆▆▅▇▅▆▅▅▅▇▅▃▅▂▅▆</td></tr><tr><td>val_auc</td><td>▂▁▂▄▃▆▇▇▆▅▅▆▆▄▇▇▆▆▇▇▇▇▆▆▇▆▅▇▇▇▇▆▆▆▆▄▆▆█▇</td></tr><tr><td>val_f1</td><td>▃▄▆▆▁▆▇▆▇▆▄▇█▅▆█▆▆▇▇▇▇▆▇▆▆▇▇▅▇▇▆▆▆▆▆▅▆▇▇</td></tr><tr><td>val_loss_epoch</td><td>█▆▃▃▅▂▁▃▂▂▄▂▁▃▁▁▂▁▁▂▁▂▂▂▂▂▂▂▄▁▂▂▂▃▂▂▄▂▁▂</td></tr><tr><td>val_loss_step</td><td>▇▆▅▅▁▆▄▂▄▃▁▇▅▃▄▆▃▆▆▄▄▇▆▄▂▃▆▃▁▅▅▃▄▂▃▆▃█▅▃</td></tr></table><br/></div><div class=\"wandb-col\"><h3>Run summary:</h3><br/><table class=\"wandb\"><tr><td>epoch</td><td>39</td></tr><tr><td>lr-Adam</td><td>0.005</td></tr><tr><td>train_acc</td><td>0.8223</td></tr><tr><td>train_auc</td><td>0.89406</td></tr><tr><td>train_f1</td><td>0.81409</td></tr><tr><td>train_loss_epoch</td><td>0.41044</td></tr><tr><td>train_loss_step</td><td>0.39881</td></tr><tr><td>trainer/global_step</td><td>559</td></tr><tr><td>val_acc</td><td>0.77958</td></tr><tr><td>val_auc</td><td>0.86219</td></tr><tr><td>val_f1</td><td>0.75827</td></tr><tr><td>val_loss_epoch</td><td>0.46588</td></tr><tr><td>val_loss_step</td><td>0.38275</td></tr></table><br/></div></div>"
      ],
      "text/plain": [
       "<IPython.core.display.HTML object>"
      ]
     },
     "metadata": {},
     "output_type": "display_data"
    },
    {
     "data": {
      "text/html": [
       " View run <strong style=\"color:#cdcd00\">GCN_2_64_onehot_1</strong> at: <a href='https://wandb.ai/thoomas/PLA_13PPI_2D_projected_Kfold/runs/diel6cc0' target=\"_blank\">https://wandb.ai/thoomas/PLA_13PPI_2D_projected_Kfold/runs/diel6cc0</a><br/>Synced 6 W&B file(s), 0 media file(s), 0 artifact file(s) and 0 other file(s)"
      ],
      "text/plain": [
       "<IPython.core.display.HTML object>"
      ]
     },
     "metadata": {},
     "output_type": "display_data"
    },
    {
     "data": {
      "text/html": [
       "Find logs at: <code>.\\wandb\\run-20240120_023601-diel6cc0\\logs</code>"
      ],
      "text/plain": [
       "<IPython.core.display.HTML object>"
      ]
     },
     "metadata": {},
     "output_type": "display_data"
    },
    {
     "data": {
      "text/html": [
       "wandb version 0.16.2 is available!  To upgrade, please run:\n",
       " $ pip install wandb --upgrade"
      ],
      "text/plain": [
       "<IPython.core.display.HTML object>"
      ]
     },
     "metadata": {},
     "output_type": "display_data"
    },
    {
     "data": {
      "text/html": [
       "Tracking run with wandb version 0.15.8"
      ],
      "text/plain": [
       "<IPython.core.display.HTML object>"
      ]
     },
     "metadata": {},
     "output_type": "display_data"
    },
    {
     "data": {
      "text/html": [
       "Run data is saved locally in <code>y:\\coskun-lab\\Thomas\\23_PLA_revision\\notebooks\\wandb\\run-20240120_030957-0v7vgnhg</code>"
      ],
      "text/plain": [
       "<IPython.core.display.HTML object>"
      ]
     },
     "metadata": {},
     "output_type": "display_data"
    },
    {
     "data": {
      "text/html": [
       "Syncing run <strong><a href='https://wandb.ai/thoomas/PLA_13PPI_2D_projected_Kfold/runs/0v7vgnhg' target=\"_blank\">GAT_3_64_onehot_1</a></strong> to <a href='https://wandb.ai/thoomas/PLA_13PPI_2D_projected_Kfold' target=\"_blank\">Weights & Biases</a> (<a href='https://wandb.me/run' target=\"_blank\">docs</a>)<br/>"
      ],
      "text/plain": [
       "<IPython.core.display.HTML object>"
      ]
     },
     "metadata": {},
     "output_type": "display_data"
    },
    {
     "data": {
      "text/html": [
       " View project at <a href='https://wandb.ai/thoomas/PLA_13PPI_2D_projected_Kfold' target=\"_blank\">https://wandb.ai/thoomas/PLA_13PPI_2D_projected_Kfold</a>"
      ],
      "text/plain": [
       "<IPython.core.display.HTML object>"
      ]
     },
     "metadata": {},
     "output_type": "display_data"
    },
    {
     "data": {
      "text/html": [
       " View run at <a href='https://wandb.ai/thoomas/PLA_13PPI_2D_projected_Kfold/runs/0v7vgnhg' target=\"_blank\">https://wandb.ai/thoomas/PLA_13PPI_2D_projected_Kfold/runs/0v7vgnhg</a>"
      ],
      "text/plain": [
       "<IPython.core.display.HTML object>"
      ]
     },
     "metadata": {},
     "output_type": "display_data"
    },
    {
     "name": "stderr",
     "output_type": "stream",
     "text": [
      "Global seed set to 42\n",
      "GPU available: True (cuda), used: True\n",
      "TPU available: False, using: 0 TPU cores\n",
      "IPU available: False, using: 0 IPUs\n",
      "HPU available: False, using: 0 HPUs\n",
      "Global seed set to 42\n",
      "c:\\Users\\thu71\\AppData\\Local\\anaconda3\\envs\\scanpy\\Lib\\site-packages\\lightning\\pytorch\\callbacks\\model_checkpoint.py:617: UserWarning: Checkpoint directory \\\\bme-retromaster.ad.gatech.edu\\labs5\\coskun-lab\\Thomas\\23_PLA_revision\\data\\13cyc_3D\\ saved_models_2D_projected\\13PPI_2D_projected\\Graph_GNNs_Kfold\\GAT_3_64_onehot_1\\attention\\GraphLevelGAT exists and is not empty.\n",
      "  rank_zero_warn(f\"Checkpoint directory {dirpath} exists and is not empty.\")\n",
      "LOCAL_RANK: 0 - CUDA_VISIBLE_DEVICES: [0]\n",
      "\n",
      "   | Name        | Type             | Params\n",
      "--------------------------------------------------\n",
      "0  | x_embedding | Identity         | 0     \n",
      "1  | model       | GAT              | 79.0 K\n",
      "2  | head        | Sequential       | 2.1 K \n",
      "3  | loss_module | CrossEntropyLoss | 0     \n",
      "4  | train_acc   | BinaryAccuracy   | 0     \n",
      "5  | train_auroc | BinaryAUROC      | 0     \n",
      "6  | train_f1    | BinaryF1Score    | 0     \n",
      "7  | valid_acc   | BinaryAccuracy   | 0     \n",
      "8  | valid_auroc | BinaryAUROC      | 0     \n",
      "9  | valid_f1    | BinaryF1Score    | 0     \n",
      "10 | pool        | GlobalAttention  | 65    \n",
      "--------------------------------------------------\n",
      "81.3 K    Trainable params\n",
      "0         Non-trainable params\n",
      "81.3 K    Total params\n",
      "0.325     Total estimated model params size (MB)\n"
     ]
    },
    {
     "name": "stdout",
     "output_type": "stream",
     "text": [
      "Using GAT\n"
     ]
    },
    {
     "name": "stderr",
     "output_type": "stream",
     "text": [
      "`Trainer.fit` stopped: `max_epochs=40` reached.\n"
     ]
    },
    {
     "data": {
      "text/html": [
       "Waiting for W&B process to finish... <strong style=\"color:green\">(success).</strong>"
      ],
      "text/plain": [
       "<IPython.core.display.HTML object>"
      ]
     },
     "metadata": {},
     "output_type": "display_data"
    },
    {
     "data": {
      "application/vnd.jupyter.widget-view+json": {
       "model_id": "63fdc420da47474da4469c6f650cc564",
       "version_major": 2,
       "version_minor": 0
      },
      "text/plain": [
       "VBox(children=(Label(value='0.001 MB of 0.001 MB uploaded (0.000 MB deduped)\\r'), FloatProgress(value=1.0, max…"
      ]
     },
     "metadata": {},
     "output_type": "display_data"
    },
    {
     "data": {
      "text/html": [
       "<style>\n",
       "    table.wandb td:nth-child(1) { padding: 0 10px; text-align: left ; width: auto;} td:nth-child(2) {text-align: left ; width: 100%}\n",
       "    .wandb-row { display: flex; flex-direction: row; flex-wrap: wrap; justify-content: flex-start; width: 100% }\n",
       "    .wandb-col { display: flex; flex-direction: column; flex-basis: 100%; flex: 1; padding: 10px; }\n",
       "    </style>\n",
       "<div class=\"wandb-row\"><div class=\"wandb-col\"><h3>Run history:</h3><br/><table class=\"wandb\"><tr><td>epoch</td><td>▁▁▁▂▂▂▂▂▂▃▃▃▃▃▄▄▄▄▄▄▅▅▅▅▅▅▆▆▆▆▆▇▇▇▇▇▇███</td></tr><tr><td>lr-Adam</td><td>▁▁▁▁▁▁▁▁▁▁▁▁▁▁▁▁▁▁▁▁▁▁▁▁▁▁▁▁▁▁▁▁▁▁▁▁▁▁▁▁</td></tr><tr><td>train_acc</td><td>▁▅▅▆▅▇▆▇▆▆▇▇▇▇▇▆▇▇▇▇▇▇▇▆▇▇▇██▇▇▇▇▇█▇█▇▆▇</td></tr><tr><td>train_auc</td><td>▁▅▅▆▆▆▆▆▇▇▇▇▇▇▇▇▇▇▇▇▇█▇▇█▇▇██▇▇▇▇█████▇█</td></tr><tr><td>train_f1</td><td>▁▅▅▆▅▇▆▆▆▆▇▇▇▇▇▆▇▇▇▇▇█▇▇▇▇▇██▇▇▇▇▇█▇█▇▆█</td></tr><tr><td>train_loss_epoch</td><td>█▄▄▄▄▃▃▃▃▃▃▂▂▂▂▃▃▂▂▂▂▂▂▃▂▂▂▁▁▂▂▂▂▂▁▂▁▁▂▁</td></tr><tr><td>train_loss_step</td><td>█▆▅▆▅▅▅▅▅▅▄▄▄▇▃▆▅▃▄▄▃▄▄▄▅▃▂▄▄█▃▄▄▁▄▁▄▂▃▂</td></tr><tr><td>trainer/global_step</td><td>▁▁▁▁▂▂▂▂▁▁▂▂▂▂▄▄▂▂▂▂▂▂▂▂▂▂▂▂▂▂▃▃▇▇▃▃▃▃▃█</td></tr><tr><td>val_acc</td><td>▇▆▅▁▄▆▆▆▆▇▅▇▆▇▆▄▆▇▇██▇▆▆▆▅▇▆▆█▆▅▆▆▅▆▆▆▇▇</td></tr><tr><td>val_auc</td><td>▁▂▄▄▅▆▆▇▆▇▆▇▆▆▆▆▆▇▇▇█▇▇▇▇▇▇█▇█▇▇▇▇▇▇█▅▇█</td></tr><tr><td>val_f1</td><td>▄▄▅▁▄▆▆▆▆▇▅▆▆▇▆▅▆▇▇██▆▆▆▆▅▇▆▆█▆▅▆▆▅▆▆▅██</td></tr><tr><td>val_loss_epoch</td><td>█▆▄█▇▂▂▂▃▂▄▂▂▂▃▅▃▁▂▁▁▁▂▂▂▄▂▂▂▁▂▃▂▂▄▃▃▃▁▂</td></tr><tr><td>val_loss_step</td><td>▄▄▆██▅▄▄▅▄▆▄▄▃▅▆▅▄▄▃▂▃▅▄▅▆▄▄▄▃▅▅▅▄▆▆▅▄▃▁</td></tr></table><br/></div><div class=\"wandb-col\"><h3>Run summary:</h3><br/><table class=\"wandb\"><tr><td>epoch</td><td>39</td></tr><tr><td>lr-Adam</td><td>0.005</td></tr><tr><td>train_acc</td><td>0.81591</td></tr><tr><td>train_auc</td><td>0.89272</td></tr><tr><td>train_f1</td><td>0.808</td></tr><tr><td>train_loss_epoch</td><td>0.41202</td></tr><tr><td>train_loss_step</td><td>0.36598</td></tr><tr><td>trainer/global_step</td><td>559</td></tr><tr><td>val_acc</td><td>0.77494</td></tr><tr><td>val_auc</td><td>0.87107</td></tr><tr><td>val_f1</td><td>0.77283</td></tr><tr><td>val_loss_epoch</td><td>0.45735</td></tr><tr><td>val_loss_step</td><td>0.22768</td></tr></table><br/></div></div>"
      ],
      "text/plain": [
       "<IPython.core.display.HTML object>"
      ]
     },
     "metadata": {},
     "output_type": "display_data"
    },
    {
     "data": {
      "text/html": [
       " View run <strong style=\"color:#cdcd00\">GAT_3_64_onehot_1</strong> at: <a href='https://wandb.ai/thoomas/PLA_13PPI_2D_projected_Kfold/runs/0v7vgnhg' target=\"_blank\">https://wandb.ai/thoomas/PLA_13PPI_2D_projected_Kfold/runs/0v7vgnhg</a><br/>Synced 6 W&B file(s), 0 media file(s), 0 artifact file(s) and 0 other file(s)"
      ],
      "text/plain": [
       "<IPython.core.display.HTML object>"
      ]
     },
     "metadata": {},
     "output_type": "display_data"
    },
    {
     "data": {
      "text/html": [
       "Find logs at: <code>.\\wandb\\run-20240120_030957-0v7vgnhg\\logs</code>"
      ],
      "text/plain": [
       "<IPython.core.display.HTML object>"
      ]
     },
     "metadata": {},
     "output_type": "display_data"
    },
    {
     "data": {
      "text/html": [
       "wandb version 0.16.2 is available!  To upgrade, please run:\n",
       " $ pip install wandb --upgrade"
      ],
      "text/plain": [
       "<IPython.core.display.HTML object>"
      ]
     },
     "metadata": {},
     "output_type": "display_data"
    },
    {
     "data": {
      "text/html": [
       "Tracking run with wandb version 0.15.8"
      ],
      "text/plain": [
       "<IPython.core.display.HTML object>"
      ]
     },
     "metadata": {},
     "output_type": "display_data"
    },
    {
     "data": {
      "text/html": [
       "Run data is saved locally in <code>y:\\coskun-lab\\Thomas\\23_PLA_revision\\notebooks\\wandb\\run-20240120_034310-li5r94hy</code>"
      ],
      "text/plain": [
       "<IPython.core.display.HTML object>"
      ]
     },
     "metadata": {},
     "output_type": "display_data"
    },
    {
     "data": {
      "text/html": [
       "Syncing run <strong><a href='https://wandb.ai/thoomas/PLA_13PPI_2D_projected_Kfold/runs/li5r94hy' target=\"_blank\">GINConv_3_16_onehot_1</a></strong> to <a href='https://wandb.ai/thoomas/PLA_13PPI_2D_projected_Kfold' target=\"_blank\">Weights & Biases</a> (<a href='https://wandb.me/run' target=\"_blank\">docs</a>)<br/>"
      ],
      "text/plain": [
       "<IPython.core.display.HTML object>"
      ]
     },
     "metadata": {},
     "output_type": "display_data"
    },
    {
     "data": {
      "text/html": [
       " View project at <a href='https://wandb.ai/thoomas/PLA_13PPI_2D_projected_Kfold' target=\"_blank\">https://wandb.ai/thoomas/PLA_13PPI_2D_projected_Kfold</a>"
      ],
      "text/plain": [
       "<IPython.core.display.HTML object>"
      ]
     },
     "metadata": {},
     "output_type": "display_data"
    },
    {
     "data": {
      "text/html": [
       " View run at <a href='https://wandb.ai/thoomas/PLA_13PPI_2D_projected_Kfold/runs/li5r94hy' target=\"_blank\">https://wandb.ai/thoomas/PLA_13PPI_2D_projected_Kfold/runs/li5r94hy</a>"
      ],
      "text/plain": [
       "<IPython.core.display.HTML object>"
      ]
     },
     "metadata": {},
     "output_type": "display_data"
    },
    {
     "name": "stderr",
     "output_type": "stream",
     "text": [
      "Global seed set to 42\n",
      "GPU available: True (cuda), used: True\n",
      "TPU available: False, using: 0 TPU cores\n",
      "IPU available: False, using: 0 IPUs\n",
      "HPU available: False, using: 0 HPUs\n",
      "Global seed set to 42\n",
      "c:\\Users\\thu71\\AppData\\Local\\anaconda3\\envs\\scanpy\\Lib\\site-packages\\lightning\\pytorch\\callbacks\\model_checkpoint.py:617: UserWarning: Checkpoint directory \\\\bme-retromaster.ad.gatech.edu\\labs5\\coskun-lab\\Thomas\\23_PLA_revision\\data\\13cyc_3D\\ saved_models_2D_projected\\13PPI_2D_projected\\Graph_GNNs_Kfold\\GINConv_3_16_onehot_1\\mean\\GraphLevelGINConv exists and is not empty.\n",
      "  rank_zero_warn(f\"Checkpoint directory {dirpath} exists and is not empty.\")\n",
      "LOCAL_RANK: 0 - CUDA_VISIBLE_DEVICES: [0]\n",
      "\n",
      "  | Name        | Type             | Params\n",
      "-------------------------------------------------\n",
      "0 | x_embedding | Identity         | 0     \n",
      "1 | model       | GIN              | 1.7 K \n",
      "2 | head        | Sequential       | 154   \n",
      "3 | loss_module | CrossEntropyLoss | 0     \n",
      "4 | train_acc   | BinaryAccuracy   | 0     \n",
      "5 | train_auroc | BinaryAUROC      | 0     \n",
      "6 | train_f1    | BinaryF1Score    | 0     \n",
      "7 | valid_acc   | BinaryAccuracy   | 0     \n",
      "8 | valid_auroc | BinaryAUROC      | 0     \n",
      "9 | valid_f1    | BinaryF1Score    | 0     \n",
      "-------------------------------------------------\n",
      "1.9 K     Trainable params\n",
      "0         Non-trainable params\n",
      "1.9 K     Total params\n",
      "0.008     Total estimated model params size (MB)\n"
     ]
    },
    {
     "name": "stdout",
     "output_type": "stream",
     "text": [
      "GINConv\n"
     ]
    },
    {
     "name": "stderr",
     "output_type": "stream",
     "text": [
      "`Trainer.fit` stopped: `max_epochs=40` reached.\n"
     ]
    },
    {
     "data": {
      "text/html": [
       "Waiting for W&B process to finish... <strong style=\"color:green\">(success).</strong>"
      ],
      "text/plain": [
       "<IPython.core.display.HTML object>"
      ]
     },
     "metadata": {},
     "output_type": "display_data"
    },
    {
     "data": {
      "text/html": [
       "<style>\n",
       "    table.wandb td:nth-child(1) { padding: 0 10px; text-align: left ; width: auto;} td:nth-child(2) {text-align: left ; width: 100%}\n",
       "    .wandb-row { display: flex; flex-direction: row; flex-wrap: wrap; justify-content: flex-start; width: 100% }\n",
       "    .wandb-col { display: flex; flex-direction: column; flex-basis: 100%; flex: 1; padding: 10px; }\n",
       "    </style>\n",
       "<div class=\"wandb-row\"><div class=\"wandb-col\"><h3>Run history:</h3><br/><table class=\"wandb\"><tr><td>epoch</td><td>▁▁▁▂▂▂▂▂▂▃▃▃▃▃▄▄▄▄▄▄▅▅▅▅▅▅▆▆▆▆▆▇▇▇▇▇▇███</td></tr><tr><td>lr-Adam</td><td>▁▁▁▁▁▁▁▁▁▁▁▁▁▁▁▁▁▁▁▁▁▁▁▁▁▁▁▁▁▁▁▁▁▁▁▁▁▁▁▁</td></tr><tr><td>train_acc</td><td>▁▅▅▆▆▆▆▆▇▇▆▇▇▇▇▇▇▇▇▇▇▇▇▇▇▇▇█▇▇█▇█▇█▇▇▇█▇</td></tr><tr><td>train_auc</td><td>▁▅▆▆▆▇▇▇▇▇▇▇▇▇▇▇▇▇▇▇█▇█▇▇▇▇███▇█████████</td></tr><tr><td>train_f1</td><td>▁▆▆▇▆▇▇▇▇▇▇▇▇▇▇▇▇▇▇▇▇▇▇▇▇▇▇█▇▇█████▇▇███</td></tr><tr><td>train_loss_epoch</td><td>█▅▄▃▄▃▃▂▃▃▃▂▂▃▂▂▂▃▃▂▂▂▂▂▂▂▂▂▂▂▂▂▁▂▂▂▁▁▂▁</td></tr><tr><td>train_loss_step</td><td>█▅█▆▅▄▅▄▆▄▃▇▅▄▄▄▆▄▄▅▃▆▄▄▃▆▄█▅▂▄▄▅▅▃▄▇▃▄▁</td></tr><tr><td>trainer/global_step</td><td>▁▁▁▁▂▂▂▂▁▁▂▂▂▂▄▄▂▂▂▂▂▂▂▂▂▂▂▂▂▂▃▃▇▇▃▃▃▃▃█</td></tr><tr><td>val_acc</td><td>▁▂▆▆▅▆▆▇▆▇▆█▇▆▇█▇▇▇▇██▇▇▇▇██▇██▇▇▇█▇████</td></tr><tr><td>val_auc</td><td>▁▃▄▄▅▆▅▅▆▅▆▇▇▇▇▆▇▇▆▇▇▇▇▇▆▇▇█▇███▇▇▇▇█▇██</td></tr><tr><td>val_f1</td><td>▁▂▄▄▄▅▅▅▅▆▅▆▆▅▇▇▇▆▅▇▇▇▇▇▅▇▇▆▆█▇▇▇▆▆▆█▇█▇</td></tr><tr><td>val_loss_epoch</td><td>█▅▃▄▄▃▃▃▂▃▂▂▂▂▁▂▂▂▂▂▂▂▂▂▂▂▂▂▂▁▁▂▂▂▃▂▁▂▁▁</td></tr><tr><td>val_loss_step</td><td>▇█▅▄▆▅▅▄▅▃▅▃▄▄▄▃▅▃▄▄▃▄▅▅▄▅▄▂▄▅▃▅▅▃▃▅▄▃▃▁</td></tr></table><br/></div><div class=\"wandb-col\"><h3>Run summary:</h3><br/><table class=\"wandb\"><tr><td>epoch</td><td>39</td></tr><tr><td>lr-Adam</td><td>0.005</td></tr><tr><td>train_acc</td><td>0.84611</td></tr><tr><td>train_auc</td><td>0.91138</td></tr><tr><td>train_f1</td><td>0.83281</td></tr><tr><td>train_loss_epoch</td><td>0.38552</td></tr><tr><td>train_loss_step</td><td>0.28148</td></tr><tr><td>trainer/global_step</td><td>559</td></tr><tr><td>val_acc</td><td>0.79814</td></tr><tr><td>val_auc</td><td>0.88625</td></tr><tr><td>val_f1</td><td>0.77285</td></tr><tr><td>val_loss_epoch</td><td>0.39577</td></tr><tr><td>val_loss_step</td><td>0.20766</td></tr></table><br/></div></div>"
      ],
      "text/plain": [
       "<IPython.core.display.HTML object>"
      ]
     },
     "metadata": {},
     "output_type": "display_data"
    },
    {
     "data": {
      "text/html": [
       " View run <strong style=\"color:#cdcd00\">GINConv_3_16_onehot_1</strong> at: <a href='https://wandb.ai/thoomas/PLA_13PPI_2D_projected_Kfold/runs/li5r94hy' target=\"_blank\">https://wandb.ai/thoomas/PLA_13PPI_2D_projected_Kfold/runs/li5r94hy</a><br/>Synced 6 W&B file(s), 0 media file(s), 0 artifact file(s) and 0 other file(s)"
      ],
      "text/plain": [
       "<IPython.core.display.HTML object>"
      ]
     },
     "metadata": {},
     "output_type": "display_data"
    },
    {
     "data": {
      "text/html": [
       "Find logs at: <code>.\\wandb\\run-20240120_034310-li5r94hy\\logs</code>"
      ],
      "text/plain": [
       "<IPython.core.display.HTML object>"
      ]
     },
     "metadata": {},
     "output_type": "display_data"
    },
    {
     "data": {
      "application/vnd.jupyter.widget-view+json": {
       "model_id": "3590d953ccd84befb091a12a4d4172a8",
       "version_major": 2,
       "version_minor": 0
      },
      "text/plain": [
       "VBox(children=(Label(value='Waiting for wandb.init()...\\r'), FloatProgress(value=0.016666666666666666, max=1.0…"
      ]
     },
     "metadata": {},
     "output_type": "display_data"
    },
    {
     "data": {
      "text/html": [
       "wandb version 0.16.2 is available!  To upgrade, please run:\n",
       " $ pip install wandb --upgrade"
      ],
      "text/plain": [
       "<IPython.core.display.HTML object>"
      ]
     },
     "metadata": {},
     "output_type": "display_data"
    },
    {
     "data": {
      "text/html": [
       "Tracking run with wandb version 0.15.8"
      ],
      "text/plain": [
       "<IPython.core.display.HTML object>"
      ]
     },
     "metadata": {},
     "output_type": "display_data"
    },
    {
     "data": {
      "text/html": [
       "Run data is saved locally in <code>y:\\coskun-lab\\Thomas\\23_PLA_revision\\notebooks\\wandb\\run-20240120_041641-ck3zsj0h</code>"
      ],
      "text/plain": [
       "<IPython.core.display.HTML object>"
      ]
     },
     "metadata": {},
     "output_type": "display_data"
    },
    {
     "data": {
      "text/html": [
       "Syncing run <strong><a href='https://wandb.ai/thoomas/PLA_13PPI_2D_projected_Kfold/runs/ck3zsj0h' target=\"_blank\">MLP_2_64_onehot_2</a></strong> to <a href='https://wandb.ai/thoomas/PLA_13PPI_2D_projected_Kfold' target=\"_blank\">Weights & Biases</a> (<a href='https://wandb.me/run' target=\"_blank\">docs</a>)<br/>"
      ],
      "text/plain": [
       "<IPython.core.display.HTML object>"
      ]
     },
     "metadata": {},
     "output_type": "display_data"
    },
    {
     "data": {
      "text/html": [
       " View project at <a href='https://wandb.ai/thoomas/PLA_13PPI_2D_projected_Kfold' target=\"_blank\">https://wandb.ai/thoomas/PLA_13PPI_2D_projected_Kfold</a>"
      ],
      "text/plain": [
       "<IPython.core.display.HTML object>"
      ]
     },
     "metadata": {},
     "output_type": "display_data"
    },
    {
     "data": {
      "text/html": [
       " View run at <a href='https://wandb.ai/thoomas/PLA_13PPI_2D_projected_Kfold/runs/ck3zsj0h' target=\"_blank\">https://wandb.ai/thoomas/PLA_13PPI_2D_projected_Kfold/runs/ck3zsj0h</a>"
      ],
      "text/plain": [
       "<IPython.core.display.HTML object>"
      ]
     },
     "metadata": {},
     "output_type": "display_data"
    },
    {
     "name": "stderr",
     "output_type": "stream",
     "text": [
      "Global seed set to 42\n",
      "GPU available: True (cuda), used: True\n",
      "TPU available: False, using: 0 TPU cores\n",
      "IPU available: False, using: 0 IPUs\n",
      "HPU available: False, using: 0 HPUs\n",
      "Global seed set to 42\n",
      "c:\\Users\\thu71\\AppData\\Local\\anaconda3\\envs\\scanpy\\Lib\\site-packages\\lightning\\pytorch\\callbacks\\model_checkpoint.py:617: UserWarning: Checkpoint directory \\\\bme-retromaster.ad.gatech.edu\\labs5\\coskun-lab\\Thomas\\23_PLA_revision\\data\\13cyc_3D\\ saved_models_2D_projected\\13PPI_2D_projected\\Graph_GNNs_Kfold\\MLP_2_64_onehot_2\\attention\\GraphLevelMLP exists and is not empty.\n",
      "  rank_zero_warn(f\"Checkpoint directory {dirpath} exists and is not empty.\")\n",
      "LOCAL_RANK: 0 - CUDA_VISIBLE_DEVICES: [0]\n",
      "\n",
      "   | Name        | Type             | Params\n",
      "--------------------------------------------------\n",
      "0  | x_embedding | Identity         | 0     \n",
      "1  | model       | MLPModel         | 5.1 K \n",
      "2  | head        | Sequential       | 2.1 K \n",
      "3  | loss_module | CrossEntropyLoss | 0     \n",
      "4  | train_acc   | BinaryAccuracy   | 0     \n",
      "5  | train_auroc | BinaryAUROC      | 0     \n",
      "6  | train_f1    | BinaryF1Score    | 0     \n",
      "7  | valid_acc   | BinaryAccuracy   | 0     \n",
      "8  | valid_auroc | BinaryAUROC      | 0     \n",
      "9  | valid_f1    | BinaryF1Score    | 0     \n",
      "10 | pool        | GlobalAttention  | 65    \n",
      "--------------------------------------------------\n",
      "7.3 K     Trainable params\n",
      "0         Non-trainable params\n",
      "7.3 K     Total params\n",
      "0.029     Total estimated model params size (MB)\n"
     ]
    },
    {
     "name": "stdout",
     "output_type": "stream",
     "text": [
      "Using MLP\n"
     ]
    },
    {
     "name": "stderr",
     "output_type": "stream",
     "text": [
      "`Trainer.fit` stopped: `max_epochs=40` reached.\n"
     ]
    },
    {
     "data": {
      "text/html": [
       "Waiting for W&B process to finish... <strong style=\"color:green\">(success).</strong>"
      ],
      "text/plain": [
       "<IPython.core.display.HTML object>"
      ]
     },
     "metadata": {},
     "output_type": "display_data"
    },
    {
     "data": {
      "text/html": [
       "<style>\n",
       "    table.wandb td:nth-child(1) { padding: 0 10px; text-align: left ; width: auto;} td:nth-child(2) {text-align: left ; width: 100%}\n",
       "    .wandb-row { display: flex; flex-direction: row; flex-wrap: wrap; justify-content: flex-start; width: 100% }\n",
       "    .wandb-col { display: flex; flex-direction: column; flex-basis: 100%; flex: 1; padding: 10px; }\n",
       "    </style>\n",
       "<div class=\"wandb-row\"><div class=\"wandb-col\"><h3>Run history:</h3><br/><table class=\"wandb\"><tr><td>epoch</td><td>▁▁▁▂▂▂▂▂▂▃▃▃▃▃▄▄▄▄▄▄▅▅▅▅▅▅▆▆▆▆▆▇▇▇▇▇▇███</td></tr><tr><td>lr-Adam</td><td>▁▁▁▁▁▁▁▁▁▁▁▁▁▁▁▁▁▁▁▁▁▁▁▁▁▁▁▁▁▁▁▁▁▁▁▁▁▁▁▁</td></tr><tr><td>train_acc</td><td>▁▄▆▇▇▇██▇▇██████▇███████████████████▇███</td></tr><tr><td>train_auc</td><td>▁▄▇▇▇▇███▇██████▇▇██████████████████████</td></tr><tr><td>train_f1</td><td>▁▅▇▇▇▇██▇███████▇███████████████████▇███</td></tr><tr><td>train_loss_epoch</td><td>█▇▄▃▃▂▂▂▂▂▂▁▂▁▁▂▂▂▂▁▂▂▁▁▁▂▂▁▁▁▁▁▁▁▁▁▂▂▂▁</td></tr><tr><td>train_loss_step</td><td>███▃▅▅▃▃▆▄▃▃▁▄▄▂▄▄▄▄▃▄▃▄▃▃▄▇▃▁▂▃▃▃▃▃▁▄▂▄</td></tr><tr><td>trainer/global_step</td><td>▁▁▁▁▂▂▂▂▁▁▂▂▂▂▄▄▂▂▂▂▂▂▂▂▂▂▂▂▂▂▃▃▇▇▃▃▃▃▃█</td></tr><tr><td>val_acc</td><td>▃▁▄▇▇██▇██▇██▇█▅▇▄▇▇█▇█████▇▇█▇▇▆██▇██▇█</td></tr><tr><td>val_auc</td><td>▁▁▁▅▆▆▇▇█▇████▇█████████▇▇▇▇▇███████████</td></tr><tr><td>val_f1</td><td>▄▁▄█▇██▇██▇██▇█▆█▅▇▇█▇█▇█▇█▇▇▇▇█▆█▇▇██▇█</td></tr><tr><td>val_loss_epoch</td><td>▇▇█▂▂▁▁▂▁▁▂▁▁▂▁▃▁▄▁▂▁▂▁▁▁▁▁▂▂▁▂▁▃▁▂▂▁▁▂▁</td></tr><tr><td>val_loss_step</td><td>█▃▁▇▅▆▇▄▆▆▃▆▅▄█▂▆▂▅▄▇▄▅▅█▅▇▄▄▅▃▆▃▆▄▃▇▆▄▄</td></tr></table><br/></div><div class=\"wandb-col\"><h3>Run summary:</h3><br/><table class=\"wandb\"><tr><td>epoch</td><td>39</td></tr><tr><td>lr-Adam</td><td>0.005</td></tr><tr><td>train_acc</td><td>0.77642</td></tr><tr><td>train_auc</td><td>0.84903</td></tr><tr><td>train_f1</td><td>0.7571</td></tr><tr><td>train_loss_epoch</td><td>0.48323</td></tr><tr><td>train_loss_step</td><td>0.5111</td></tr><tr><td>trainer/global_step</td><td>559</td></tr><tr><td>val_acc</td><td>0.78654</td></tr><tr><td>val_auc</td><td>0.85486</td></tr><tr><td>val_f1</td><td>0.75916</td></tr><tr><td>val_loss_epoch</td><td>0.48614</td></tr><tr><td>val_loss_step</td><td>0.4836</td></tr></table><br/></div></div>"
      ],
      "text/plain": [
       "<IPython.core.display.HTML object>"
      ]
     },
     "metadata": {},
     "output_type": "display_data"
    },
    {
     "data": {
      "text/html": [
       " View run <strong style=\"color:#cdcd00\">MLP_2_64_onehot_2</strong> at: <a href='https://wandb.ai/thoomas/PLA_13PPI_2D_projected_Kfold/runs/ck3zsj0h' target=\"_blank\">https://wandb.ai/thoomas/PLA_13PPI_2D_projected_Kfold/runs/ck3zsj0h</a><br/>Synced 6 W&B file(s), 0 media file(s), 0 artifact file(s) and 0 other file(s)"
      ],
      "text/plain": [
       "<IPython.core.display.HTML object>"
      ]
     },
     "metadata": {},
     "output_type": "display_data"
    },
    {
     "data": {
      "text/html": [
       "Find logs at: <code>.\\wandb\\run-20240120_041641-ck3zsj0h\\logs</code>"
      ],
      "text/plain": [
       "<IPython.core.display.HTML object>"
      ]
     },
     "metadata": {},
     "output_type": "display_data"
    },
    {
     "data": {
      "text/html": [
       "wandb version 0.16.2 is available!  To upgrade, please run:\n",
       " $ pip install wandb --upgrade"
      ],
      "text/plain": [
       "<IPython.core.display.HTML object>"
      ]
     },
     "metadata": {},
     "output_type": "display_data"
    },
    {
     "data": {
      "text/html": [
       "Tracking run with wandb version 0.15.8"
      ],
      "text/plain": [
       "<IPython.core.display.HTML object>"
      ]
     },
     "metadata": {},
     "output_type": "display_data"
    },
    {
     "data": {
      "text/html": [
       "Run data is saved locally in <code>y:\\coskun-lab\\Thomas\\23_PLA_revision\\notebooks\\wandb\\run-20240120_044931-dyebiuoe</code>"
      ],
      "text/plain": [
       "<IPython.core.display.HTML object>"
      ]
     },
     "metadata": {},
     "output_type": "display_data"
    },
    {
     "data": {
      "text/html": [
       "Syncing run <strong><a href='https://wandb.ai/thoomas/PLA_13PPI_2D_projected_Kfold/runs/dyebiuoe' target=\"_blank\">GraphConv_2_16_onehot_2</a></strong> to <a href='https://wandb.ai/thoomas/PLA_13PPI_2D_projected_Kfold' target=\"_blank\">Weights & Biases</a> (<a href='https://wandb.me/run' target=\"_blank\">docs</a>)<br/>"
      ],
      "text/plain": [
       "<IPython.core.display.HTML object>"
      ]
     },
     "metadata": {},
     "output_type": "display_data"
    },
    {
     "data": {
      "text/html": [
       " View project at <a href='https://wandb.ai/thoomas/PLA_13PPI_2D_projected_Kfold' target=\"_blank\">https://wandb.ai/thoomas/PLA_13PPI_2D_projected_Kfold</a>"
      ],
      "text/plain": [
       "<IPython.core.display.HTML object>"
      ]
     },
     "metadata": {},
     "output_type": "display_data"
    },
    {
     "data": {
      "text/html": [
       " View run at <a href='https://wandb.ai/thoomas/PLA_13PPI_2D_projected_Kfold/runs/dyebiuoe' target=\"_blank\">https://wandb.ai/thoomas/PLA_13PPI_2D_projected_Kfold/runs/dyebiuoe</a>"
      ],
      "text/plain": [
       "<IPython.core.display.HTML object>"
      ]
     },
     "metadata": {},
     "output_type": "display_data"
    },
    {
     "name": "stderr",
     "output_type": "stream",
     "text": [
      "Global seed set to 42\n",
      "GPU available: True (cuda), used: True\n",
      "TPU available: False, using: 0 TPU cores\n",
      "IPU available: False, using: 0 IPUs\n",
      "HPU available: False, using: 0 HPUs\n",
      "Global seed set to 42\n",
      "c:\\Users\\thu71\\AppData\\Local\\anaconda3\\envs\\scanpy\\Lib\\site-packages\\lightning\\pytorch\\callbacks\\model_checkpoint.py:617: UserWarning: Checkpoint directory \\\\bme-retromaster.ad.gatech.edu\\labs5\\coskun-lab\\Thomas\\23_PLA_revision\\data\\13cyc_3D\\ saved_models_2D_projected\\13PPI_2D_projected\\Graph_GNNs_Kfold\\GraphConv_2_16_onehot_2\\attention\\GraphLevelGraphConv exists and is not empty.\n",
      "  rank_zero_warn(f\"Checkpoint directory {dirpath} exists and is not empty.\")\n",
      "LOCAL_RANK: 0 - CUDA_VISIBLE_DEVICES: [0]\n",
      "\n",
      "   | Name        | Type             | Params\n",
      "--------------------------------------------------\n",
      "0  | x_embedding | Identity         | 0     \n",
      "1  | model       | GNNModel         | 992   \n",
      "2  | head        | Sequential       | 154   \n",
      "3  | loss_module | CrossEntropyLoss | 0     \n",
      "4  | train_acc   | BinaryAccuracy   | 0     \n",
      "5  | train_auroc | BinaryAUROC      | 0     \n",
      "6  | train_f1    | BinaryF1Score    | 0     \n",
      "7  | valid_acc   | BinaryAccuracy   | 0     \n",
      "8  | valid_auroc | BinaryAUROC      | 0     \n",
      "9  | valid_f1    | BinaryF1Score    | 0     \n",
      "10 | pool        | GlobalAttention  | 17    \n",
      "--------------------------------------------------\n",
      "1.2 K     Trainable params\n",
      "0         Non-trainable params\n",
      "1.2 K     Total params\n",
      "0.005     Total estimated model params size (MB)\n"
     ]
    },
    {
     "name": "stdout",
     "output_type": "stream",
     "text": [
      "Using GNN\n"
     ]
    },
    {
     "name": "stderr",
     "output_type": "stream",
     "text": [
      "`Trainer.fit` stopped: `max_epochs=40` reached.\n"
     ]
    },
    {
     "data": {
      "text/html": [
       "Waiting for W&B process to finish... <strong style=\"color:green\">(success).</strong>"
      ],
      "text/plain": [
       "<IPython.core.display.HTML object>"
      ]
     },
     "metadata": {},
     "output_type": "display_data"
    },
    {
     "data": {
      "application/vnd.jupyter.widget-view+json": {
       "model_id": "517316634d1d4c2c92a849957a2758c9",
       "version_major": 2,
       "version_minor": 0
      },
      "text/plain": [
       "VBox(children=(Label(value='0.001 MB of 0.001 MB uploaded (0.000 MB deduped)\\r'), FloatProgress(value=1.0, max…"
      ]
     },
     "metadata": {},
     "output_type": "display_data"
    },
    {
     "data": {
      "text/html": [
       "<style>\n",
       "    table.wandb td:nth-child(1) { padding: 0 10px; text-align: left ; width: auto;} td:nth-child(2) {text-align: left ; width: 100%}\n",
       "    .wandb-row { display: flex; flex-direction: row; flex-wrap: wrap; justify-content: flex-start; width: 100% }\n",
       "    .wandb-col { display: flex; flex-direction: column; flex-basis: 100%; flex: 1; padding: 10px; }\n",
       "    </style>\n",
       "<div class=\"wandb-row\"><div class=\"wandb-col\"><h3>Run history:</h3><br/><table class=\"wandb\"><tr><td>epoch</td><td>▁▁▁▂▂▂▂▂▂▃▃▃▃▃▄▄▄▄▄▄▅▅▅▅▅▅▆▆▆▆▆▇▇▇▇▇▇███</td></tr><tr><td>lr-Adam</td><td>▁▁▁▁▁▁▁▁▁▁▁▁▁▁▁▁▁▁▁▁▁▁▁▁▁▁▁▁▁▁▁▁▁▁▁▁▁▁▁▁</td></tr><tr><td>train_acc</td><td>▁▅▆▆▇▆▇▆▇▇▇▇▇▇▇▇▇▇▇▇▇▇▇██████████▇██████</td></tr><tr><td>train_auc</td><td>▁▄▅▆▆▆▆▆▆▆▆▇▇▇▇▇▇▇▇█▇▇▇▇███▇█████▇██████</td></tr><tr><td>train_f1</td><td>▁▃▄▅▆▅▆▅▆▆▆▆▆▇▇▆▆▇▇▇▇▇▆██▇▇██▇██▇▇▇█▇▇██</td></tr><tr><td>train_loss_epoch</td><td>█▅▅▄▄▄▃▃▃▃▃▂▃▂▂▃▃▂▃▂▂▂▂▂▂▂▂▂▂▂▂▂▂▂▂▂▂▁▁▁</td></tr><tr><td>train_loss_step</td><td>█▇▆▅▄▅▆▄▃▄▇▄▃▅▁▆▅▆▆▃▆▂▄▂▃▂▂▆▄▄▄▄▄▃▃▅▃▂▃▁</td></tr><tr><td>trainer/global_step</td><td>▁▁▁▁▂▂▂▂▁▁▂▂▂▂▄▄▂▂▂▂▂▂▂▂▂▂▂▂▂▂▃▃▇▇▃▃▃▃▃█</td></tr><tr><td>val_acc</td><td>▁▅▆▇▆▇▇▇▇▇▇▇▇▇██▇█▇█▇▇▇█▇█▇████▇██▇▇███▇</td></tr><tr><td>val_auc</td><td>▁▁▄▄▅▅▅▅▅▆▆▆▆▆▇▇▇▇▇█▇█▇▇▇▇▇▇███▇▇██▇████</td></tr><tr><td>val_f1</td><td>▁▅▆▆▃▆▅▄▆▆▇▇▆▆▇▇▇▇▆▇▆▆▇█▇▇▇▇█▇▇▇▇▇▇▇███▇</td></tr><tr><td>val_loss_epoch</td><td>█▆▄▃▃▃▃▃▃▃▃▂▂▂▂▂▂▂▂▁▃▂▁▁▁▂▂▂▁▂▁▂▂▁▁▂▁▁▁▁</td></tr><tr><td>val_loss_step</td><td>▇█▅▅▃▄▄▃▄▄▅▃▃▃▃▃▃▃▂▃▂▂▅▃▄▃▄▃▄▂▃▄▃▃▅▅▅▃▄▁</td></tr></table><br/></div><div class=\"wandb-col\"><h3>Run summary:</h3><br/><table class=\"wandb\"><tr><td>epoch</td><td>39</td></tr><tr><td>lr-Adam</td><td>0.005</td></tr><tr><td>train_acc</td><td>0.82636</td></tr><tr><td>train_auc</td><td>0.89043</td></tr><tr><td>train_f1</td><td>0.8104</td></tr><tr><td>train_loss_epoch</td><td>0.40315</td></tr><tr><td>train_loss_step</td><td>0.35416</td></tr><tr><td>trainer/global_step</td><td>559</td></tr><tr><td>val_acc</td><td>0.79582</td></tr><tr><td>val_auc</td><td>0.89361</td></tr><tr><td>val_f1</td><td>0.77778</td></tr><tr><td>val_loss_epoch</td><td>0.42967</td></tr><tr><td>val_loss_step</td><td>0.31587</td></tr></table><br/></div></div>"
      ],
      "text/plain": [
       "<IPython.core.display.HTML object>"
      ]
     },
     "metadata": {},
     "output_type": "display_data"
    },
    {
     "data": {
      "text/html": [
       " View run <strong style=\"color:#cdcd00\">GraphConv_2_16_onehot_2</strong> at: <a href='https://wandb.ai/thoomas/PLA_13PPI_2D_projected_Kfold/runs/dyebiuoe' target=\"_blank\">https://wandb.ai/thoomas/PLA_13PPI_2D_projected_Kfold/runs/dyebiuoe</a><br/>Synced 6 W&B file(s), 0 media file(s), 0 artifact file(s) and 0 other file(s)"
      ],
      "text/plain": [
       "<IPython.core.display.HTML object>"
      ]
     },
     "metadata": {},
     "output_type": "display_data"
    },
    {
     "data": {
      "text/html": [
       "Find logs at: <code>.\\wandb\\run-20240120_044931-dyebiuoe\\logs</code>"
      ],
      "text/plain": [
       "<IPython.core.display.HTML object>"
      ]
     },
     "metadata": {},
     "output_type": "display_data"
    },
    {
     "data": {
      "application/vnd.jupyter.widget-view+json": {
       "model_id": "cb6540dca4424c14bc356a21a3498ef0",
       "version_major": 2,
       "version_minor": 0
      },
      "text/plain": [
       "VBox(children=(Label(value='Waiting for wandb.init()...\\r'), FloatProgress(value=0.01693333333338766, max=1.0)…"
      ]
     },
     "metadata": {},
     "output_type": "display_data"
    },
    {
     "data": {
      "text/html": [
       "wandb version 0.16.2 is available!  To upgrade, please run:\n",
       " $ pip install wandb --upgrade"
      ],
      "text/plain": [
       "<IPython.core.display.HTML object>"
      ]
     },
     "metadata": {},
     "output_type": "display_data"
    },
    {
     "data": {
      "text/html": [
       "Tracking run with wandb version 0.15.8"
      ],
      "text/plain": [
       "<IPython.core.display.HTML object>"
      ]
     },
     "metadata": {},
     "output_type": "display_data"
    },
    {
     "data": {
      "text/html": [
       "Run data is saved locally in <code>y:\\coskun-lab\\Thomas\\23_PLA_revision\\notebooks\\wandb\\run-20240120_052201-0s4c5e33</code>"
      ],
      "text/plain": [
       "<IPython.core.display.HTML object>"
      ]
     },
     "metadata": {},
     "output_type": "display_data"
    },
    {
     "data": {
      "text/html": [
       "Syncing run <strong><a href='https://wandb.ai/thoomas/PLA_13PPI_2D_projected_Kfold/runs/0s4c5e33' target=\"_blank\">GCN_2_64_onehot_2</a></strong> to <a href='https://wandb.ai/thoomas/PLA_13PPI_2D_projected_Kfold' target=\"_blank\">Weights & Biases</a> (<a href='https://wandb.me/run' target=\"_blank\">docs</a>)<br/>"
      ],
      "text/plain": [
       "<IPython.core.display.HTML object>"
      ]
     },
     "metadata": {},
     "output_type": "display_data"
    },
    {
     "data": {
      "text/html": [
       " View project at <a href='https://wandb.ai/thoomas/PLA_13PPI_2D_projected_Kfold' target=\"_blank\">https://wandb.ai/thoomas/PLA_13PPI_2D_projected_Kfold</a>"
      ],
      "text/plain": [
       "<IPython.core.display.HTML object>"
      ]
     },
     "metadata": {},
     "output_type": "display_data"
    },
    {
     "data": {
      "text/html": [
       " View run at <a href='https://wandb.ai/thoomas/PLA_13PPI_2D_projected_Kfold/runs/0s4c5e33' target=\"_blank\">https://wandb.ai/thoomas/PLA_13PPI_2D_projected_Kfold/runs/0s4c5e33</a>"
      ],
      "text/plain": [
       "<IPython.core.display.HTML object>"
      ]
     },
     "metadata": {},
     "output_type": "display_data"
    },
    {
     "name": "stderr",
     "output_type": "stream",
     "text": [
      "Global seed set to 42\n",
      "GPU available: True (cuda), used: True\n",
      "TPU available: False, using: 0 TPU cores\n",
      "IPU available: False, using: 0 IPUs\n",
      "HPU available: False, using: 0 HPUs\n",
      "Global seed set to 42\n",
      "c:\\Users\\thu71\\AppData\\Local\\anaconda3\\envs\\scanpy\\Lib\\site-packages\\lightning\\pytorch\\callbacks\\model_checkpoint.py:617: UserWarning: Checkpoint directory \\\\bme-retromaster.ad.gatech.edu\\labs5\\coskun-lab\\Thomas\\23_PLA_revision\\data\\13cyc_3D\\ saved_models_2D_projected\\13PPI_2D_projected\\Graph_GNNs_Kfold\\GCN_2_64_onehot_2\\attention2\\GraphLevelGCN exists and is not empty.\n",
      "  rank_zero_warn(f\"Checkpoint directory {dirpath} exists and is not empty.\")\n",
      "LOCAL_RANK: 0 - CUDA_VISIBLE_DEVICES: [0]\n",
      "\n",
      "   | Name        | Type             | Params\n",
      "--------------------------------------------------\n",
      "0  | x_embedding | Identity         | 0     \n",
      "1  | model       | GNNModel         | 5.2 K \n",
      "2  | head        | Sequential       | 2.1 K \n",
      "3  | loss_module | CrossEntropyLoss | 0     \n",
      "4  | train_acc   | BinaryAccuracy   | 0     \n",
      "5  | train_auroc | BinaryAUROC      | 0     \n",
      "6  | train_f1    | BinaryF1Score    | 0     \n",
      "7  | valid_acc   | BinaryAccuracy   | 0     \n",
      "8  | valid_auroc | BinaryAUROC      | 0     \n",
      "9  | valid_f1    | BinaryF1Score    | 0     \n",
      "10 | pool        | Attention_module | 4.2 K \n",
      "--------------------------------------------------\n",
      "11.5 K    Trainable params\n",
      "0         Non-trainable params\n",
      "11.5 K    Total params\n",
      "0.046     Total estimated model params size (MB)\n"
     ]
    },
    {
     "name": "stdout",
     "output_type": "stream",
     "text": [
      "Using GNN\n"
     ]
    },
    {
     "name": "stderr",
     "output_type": "stream",
     "text": [
      "`Trainer.fit` stopped: `max_epochs=40` reached.\n"
     ]
    },
    {
     "data": {
      "text/html": [
       "Waiting for W&B process to finish... <strong style=\"color:green\">(success).</strong>"
      ],
      "text/plain": [
       "<IPython.core.display.HTML object>"
      ]
     },
     "metadata": {},
     "output_type": "display_data"
    },
    {
     "data": {
      "text/html": [
       "<style>\n",
       "    table.wandb td:nth-child(1) { padding: 0 10px; text-align: left ; width: auto;} td:nth-child(2) {text-align: left ; width: 100%}\n",
       "    .wandb-row { display: flex; flex-direction: row; flex-wrap: wrap; justify-content: flex-start; width: 100% }\n",
       "    .wandb-col { display: flex; flex-direction: column; flex-basis: 100%; flex: 1; padding: 10px; }\n",
       "    </style>\n",
       "<div class=\"wandb-row\"><div class=\"wandb-col\"><h3>Run history:</h3><br/><table class=\"wandb\"><tr><td>epoch</td><td>▁▁▁▂▂▂▂▂▂▃▃▃▃▃▄▄▄▄▄▄▅▅▅▅▅▅▆▆▆▆▆▇▇▇▇▇▇███</td></tr><tr><td>lr-Adam</td><td>▁▁▁▁▁▁▁▁▁▁▁▁▁▁▁▁▁▁▁▁▁▁▁▁▁▁▁▁▁▁▁▁▁▁▁▁▁▁▁▁</td></tr><tr><td>train_acc</td><td>▁▄▅▆▆▆▆▇▇▆▆▇▇▇▇▇▇▇█▇▇██▇▇▇██▇█▇█████▇▇█▇</td></tr><tr><td>train_auc</td><td>▁▅▆▆▆▆▇▇▇▆▇▇▇▇▇▇▇▇▇▇▇▇█▇▇▇▇█▇███▇███▇█▇█</td></tr><tr><td>train_f1</td><td>▁▄▆▆▇▆▆▇▇▇▆▆▇▆▇▆▇▇▇▇▇██▇▇▇▇█▇█▇▇███▇▇▇▇█</td></tr><tr><td>train_loss_epoch</td><td>█▄▃▄▃▃▃▃▂▃▃▂▃▂▂▂▂▂▂▂▂▂▂▂▂▂▂▁▁▁▁▁▂▁▁▁▂▁▂▁</td></tr><tr><td>train_loss_step</td><td>█▇▇▅▅▄▃▄▅▅▅▆▂▄▅▇▅█▆▄▆▇▄▂▇▆▅▄▄▁▄▄▅▅▃▆▄▄▅▆</td></tr><tr><td>trainer/global_step</td><td>▁▁▁▁▂▂▂▂▁▁▂▂▂▂▄▄▂▂▂▂▂▂▂▂▂▂▂▂▂▂▃▃▇▇▃▃▃▃▃█</td></tr><tr><td>val_acc</td><td>▁▃▆▅▆▆▆▇▆▅▅█▆▇▆▇▇▇▆▆▇▇▇▆▆▆▇█▇▇▇▆▇█▄▅▇█▆█</td></tr><tr><td>val_auc</td><td>▁▂▃▄▅▇▇█▇▆▆▇▇█▇▇█▇▇▆▆█▇▆▆▇▇██▇▇▇▆█▆▅██▃▇</td></tr><tr><td>val_f1</td><td>▁▃▆▅▇▇▆▇▆▄▆▇▇▇▆▇▆▇▆▇▇▇▇▅▆▆▇▇█▇▇▆▆█▄▆██▆▇</td></tr><tr><td>val_loss_epoch</td><td>█▆▄▃▂▁▂▁▂▄▂▁▂▁▁▁▁▂▁▁▁▁▁▄▃▂▂▁▁▁▂▂▂▁▆▂▂▂▃▃</td></tr><tr><td>val_loss_step</td><td>▅▄▄▃▄▇▃▃▃▁▄▄▅▆▃▅▃▄▅▅▅▅▄▂▂▃▃▄▆▅▄▃▃▅▁▅█▇▃▂</td></tr></table><br/></div><div class=\"wandb-col\"><h3>Run summary:</h3><br/><table class=\"wandb\"><tr><td>epoch</td><td>39</td></tr><tr><td>lr-Adam</td><td>0.005</td></tr><tr><td>train_acc</td><td>0.81998</td></tr><tr><td>train_auc</td><td>0.89556</td></tr><tr><td>train_f1</td><td>0.81144</td></tr><tr><td>train_loss_epoch</td><td>0.41027</td></tr><tr><td>train_loss_step</td><td>0.45859</td></tr><tr><td>trainer/global_step</td><td>559</td></tr><tr><td>val_acc</td><td>0.81439</td></tr><tr><td>val_auc</td><td>0.87577</td></tr><tr><td>val_f1</td><td>0.78261</td></tr><tr><td>val_loss_epoch</td><td>0.48328</td></tr><tr><td>val_loss_step</td><td>0.40891</td></tr></table><br/></div></div>"
      ],
      "text/plain": [
       "<IPython.core.display.HTML object>"
      ]
     },
     "metadata": {},
     "output_type": "display_data"
    },
    {
     "data": {
      "text/html": [
       " View run <strong style=\"color:#cdcd00\">GCN_2_64_onehot_2</strong> at: <a href='https://wandb.ai/thoomas/PLA_13PPI_2D_projected_Kfold/runs/0s4c5e33' target=\"_blank\">https://wandb.ai/thoomas/PLA_13PPI_2D_projected_Kfold/runs/0s4c5e33</a><br/>Synced 6 W&B file(s), 0 media file(s), 0 artifact file(s) and 0 other file(s)"
      ],
      "text/plain": [
       "<IPython.core.display.HTML object>"
      ]
     },
     "metadata": {},
     "output_type": "display_data"
    },
    {
     "data": {
      "text/html": [
       "Find logs at: <code>.\\wandb\\run-20240120_052201-0s4c5e33\\logs</code>"
      ],
      "text/plain": [
       "<IPython.core.display.HTML object>"
      ]
     },
     "metadata": {},
     "output_type": "display_data"
    },
    {
     "data": {
      "text/html": [
       "wandb version 0.16.2 is available!  To upgrade, please run:\n",
       " $ pip install wandb --upgrade"
      ],
      "text/plain": [
       "<IPython.core.display.HTML object>"
      ]
     },
     "metadata": {},
     "output_type": "display_data"
    },
    {
     "data": {
      "text/html": [
       "Tracking run with wandb version 0.15.8"
      ],
      "text/plain": [
       "<IPython.core.display.HTML object>"
      ]
     },
     "metadata": {},
     "output_type": "display_data"
    },
    {
     "data": {
      "text/html": [
       "Run data is saved locally in <code>y:\\coskun-lab\\Thomas\\23_PLA_revision\\notebooks\\wandb\\run-20240120_055330-qmyiruw0</code>"
      ],
      "text/plain": [
       "<IPython.core.display.HTML object>"
      ]
     },
     "metadata": {},
     "output_type": "display_data"
    },
    {
     "data": {
      "text/html": [
       "Syncing run <strong><a href='https://wandb.ai/thoomas/PLA_13PPI_2D_projected_Kfold/runs/qmyiruw0' target=\"_blank\">GAT_3_64_onehot_2</a></strong> to <a href='https://wandb.ai/thoomas/PLA_13PPI_2D_projected_Kfold' target=\"_blank\">Weights & Biases</a> (<a href='https://wandb.me/run' target=\"_blank\">docs</a>)<br/>"
      ],
      "text/plain": [
       "<IPython.core.display.HTML object>"
      ]
     },
     "metadata": {},
     "output_type": "display_data"
    },
    {
     "data": {
      "text/html": [
       " View project at <a href='https://wandb.ai/thoomas/PLA_13PPI_2D_projected_Kfold' target=\"_blank\">https://wandb.ai/thoomas/PLA_13PPI_2D_projected_Kfold</a>"
      ],
      "text/plain": [
       "<IPython.core.display.HTML object>"
      ]
     },
     "metadata": {},
     "output_type": "display_data"
    },
    {
     "data": {
      "text/html": [
       " View run at <a href='https://wandb.ai/thoomas/PLA_13PPI_2D_projected_Kfold/runs/qmyiruw0' target=\"_blank\">https://wandb.ai/thoomas/PLA_13PPI_2D_projected_Kfold/runs/qmyiruw0</a>"
      ],
      "text/plain": [
       "<IPython.core.display.HTML object>"
      ]
     },
     "metadata": {},
     "output_type": "display_data"
    },
    {
     "name": "stderr",
     "output_type": "stream",
     "text": [
      "Global seed set to 42\n",
      "GPU available: True (cuda), used: True\n",
      "TPU available: False, using: 0 TPU cores\n",
      "IPU available: False, using: 0 IPUs\n",
      "HPU available: False, using: 0 HPUs\n",
      "Global seed set to 42\n",
      "c:\\Users\\thu71\\AppData\\Local\\anaconda3\\envs\\scanpy\\Lib\\site-packages\\lightning\\pytorch\\callbacks\\model_checkpoint.py:617: UserWarning: Checkpoint directory \\\\bme-retromaster.ad.gatech.edu\\labs5\\coskun-lab\\Thomas\\23_PLA_revision\\data\\13cyc_3D\\ saved_models_2D_projected\\13PPI_2D_projected\\Graph_GNNs_Kfold\\GAT_3_64_onehot_2\\attention\\GraphLevelGAT exists and is not empty.\n",
      "  rank_zero_warn(f\"Checkpoint directory {dirpath} exists and is not empty.\")\n",
      "LOCAL_RANK: 0 - CUDA_VISIBLE_DEVICES: [0]\n",
      "\n",
      "   | Name        | Type             | Params\n",
      "--------------------------------------------------\n",
      "0  | x_embedding | Identity         | 0     \n",
      "1  | model       | GAT              | 79.0 K\n",
      "2  | head        | Sequential       | 2.1 K \n",
      "3  | loss_module | CrossEntropyLoss | 0     \n",
      "4  | train_acc   | BinaryAccuracy   | 0     \n",
      "5  | train_auroc | BinaryAUROC      | 0     \n",
      "6  | train_f1    | BinaryF1Score    | 0     \n",
      "7  | valid_acc   | BinaryAccuracy   | 0     \n",
      "8  | valid_auroc | BinaryAUROC      | 0     \n",
      "9  | valid_f1    | BinaryF1Score    | 0     \n",
      "10 | pool        | GlobalAttention  | 65    \n",
      "--------------------------------------------------\n",
      "81.3 K    Trainable params\n",
      "0         Non-trainable params\n",
      "81.3 K    Total params\n",
      "0.325     Total estimated model params size (MB)\n"
     ]
    },
    {
     "name": "stdout",
     "output_type": "stream",
     "text": [
      "Using GAT\n"
     ]
    },
    {
     "name": "stderr",
     "output_type": "stream",
     "text": [
      "`Trainer.fit` stopped: `max_epochs=40` reached.\n"
     ]
    },
    {
     "data": {
      "text/html": [
       "Waiting for W&B process to finish... <strong style=\"color:green\">(success).</strong>"
      ],
      "text/plain": [
       "<IPython.core.display.HTML object>"
      ]
     },
     "metadata": {},
     "output_type": "display_data"
    },
    {
     "data": {
      "text/html": [
       "<style>\n",
       "    table.wandb td:nth-child(1) { padding: 0 10px; text-align: left ; width: auto;} td:nth-child(2) {text-align: left ; width: 100%}\n",
       "    .wandb-row { display: flex; flex-direction: row; flex-wrap: wrap; justify-content: flex-start; width: 100% }\n",
       "    .wandb-col { display: flex; flex-direction: column; flex-basis: 100%; flex: 1; padding: 10px; }\n",
       "    </style>\n",
       "<div class=\"wandb-row\"><div class=\"wandb-col\"><h3>Run history:</h3><br/><table class=\"wandb\"><tr><td>epoch</td><td>▁▁▁▂▂▂▂▂▂▃▃▃▃▃▄▄▄▄▄▄▅▅▅▅▅▅▆▆▆▆▆▇▇▇▇▇▇███</td></tr><tr><td>lr-Adam</td><td>▁▁▁▁▁▁▁▁▁▁▁▁▁▁▁▁▁▁▁▁▁▁▁▁▁▁▁▁▁▁▁▁▁▁▁▁▁▁▁▁</td></tr><tr><td>train_acc</td><td>▁▅▅▆▆▇▇▇▆▇▇▇▇▇▇▇▇▇█▇▇█▇▇▇▇▇█▇▇▇▇▇▇█▇██▇█</td></tr><tr><td>train_auc</td><td>▁▅▅▆▆▇▇▇▇▇▇▇▇▇▇▇▇██▇██▇███▇██▇█████▇████</td></tr><tr><td>train_f1</td><td>▁▅▅▆▆▆▇▇▆▇▇▇▇▇▇▆▇▇▇▇▇█▇▇▇▇▇█▇▆▇▇▇▇▇▇█▇▇█</td></tr><tr><td>train_loss_epoch</td><td>█▄▅▄▃▃▂▂▃▂▂▂▂▂▂▃▃▁▁▂▂▁▂▂▂▁▂▂▂▂▁▂▂▁▁▂▁▁▁▁</td></tr><tr><td>train_loss_step</td><td>▇▅▄█▄▂▆▆▆▆▄▄▄▅▅▅▆▃▃▇▅▃▄▅▅█▅▄▃▆▆▅▄▃▄▂▆▃▄▁</td></tr><tr><td>trainer/global_step</td><td>▁▁▁▁▂▂▂▂▁▁▂▂▂▂▄▄▂▂▂▂▂▂▂▂▂▂▂▂▂▂▃▃▇▇▃▃▃▃▃█</td></tr><tr><td>val_acc</td><td>▄▆▂▁▆▆▆▃▂▄▄█▃▅▅▆▅▆▆▇▇▆▅▆▇▇▆▇▆▆▆▄▃▅▅▅▅▇▅▅</td></tr><tr><td>val_auc</td><td>▁▂▅▆▆█▇▆▇█▃█▇▅▅▇▇▆▇▇▇▇▅███▅▆▆▆▆▇▇▇▆▄▅▆▅▆</td></tr><tr><td>val_f1</td><td>▁▆▅▄▆█▇▆▅▆▄█▅▅▆▇▆▆▇▇▆▇▆▇█▇▇▇▆▅▆▆▆▆▆▅▃▇▄▂</td></tr><tr><td>val_loss_epoch</td><td>█▄▄▄▂▂▂▄▄▃▂▁▂▃▂▂▂▁▁▁▂▁▃▂▁▁▂▂▂▃▂▃▄▃▂▂▂▂▃▅</td></tr><tr><td>val_loss_step</td><td>▃▃▄▇▄▄▄▇█▆▃▂▆▄▃▄▅▃▄▂▂▄▄▅▄▃▃▃▃▁▂▆▇▆▅▂▁▂▁▅</td></tr></table><br/></div><div class=\"wandb-col\"><h3>Run summary:</h3><br/><table class=\"wandb\"><tr><td>epoch</td><td>39</td></tr><tr><td>lr-Adam</td><td>0.005</td></tr><tr><td>train_acc</td><td>0.81533</td></tr><tr><td>train_auc</td><td>0.88811</td></tr><tr><td>train_f1</td><td>0.80751</td></tr><tr><td>train_loss_epoch</td><td>0.41896</td></tr><tr><td>train_loss_step</td><td>0.33159</td></tr><tr><td>trainer/global_step</td><td>559</td></tr><tr><td>val_acc</td><td>0.77494</td></tr><tr><td>val_auc</td><td>0.86491</td></tr><tr><td>val_f1</td><td>0.70695</td></tr><tr><td>val_loss_epoch</td><td>0.55168</td></tr><tr><td>val_loss_step</td><td>0.78708</td></tr></table><br/></div></div>"
      ],
      "text/plain": [
       "<IPython.core.display.HTML object>"
      ]
     },
     "metadata": {},
     "output_type": "display_data"
    },
    {
     "data": {
      "text/html": [
       " View run <strong style=\"color:#cdcd00\">GAT_3_64_onehot_2</strong> at: <a href='https://wandb.ai/thoomas/PLA_13PPI_2D_projected_Kfold/runs/qmyiruw0' target=\"_blank\">https://wandb.ai/thoomas/PLA_13PPI_2D_projected_Kfold/runs/qmyiruw0</a><br/>Synced 6 W&B file(s), 0 media file(s), 0 artifact file(s) and 0 other file(s)"
      ],
      "text/plain": [
       "<IPython.core.display.HTML object>"
      ]
     },
     "metadata": {},
     "output_type": "display_data"
    },
    {
     "data": {
      "text/html": [
       "Find logs at: <code>.\\wandb\\run-20240120_055330-qmyiruw0\\logs</code>"
      ],
      "text/plain": [
       "<IPython.core.display.HTML object>"
      ]
     },
     "metadata": {},
     "output_type": "display_data"
    },
    {
     "data": {
      "text/html": [
       "wandb version 0.16.2 is available!  To upgrade, please run:\n",
       " $ pip install wandb --upgrade"
      ],
      "text/plain": [
       "<IPython.core.display.HTML object>"
      ]
     },
     "metadata": {},
     "output_type": "display_data"
    },
    {
     "data": {
      "text/html": [
       "Tracking run with wandb version 0.15.8"
      ],
      "text/plain": [
       "<IPython.core.display.HTML object>"
      ]
     },
     "metadata": {},
     "output_type": "display_data"
    },
    {
     "data": {
      "text/html": [
       "Run data is saved locally in <code>y:\\coskun-lab\\Thomas\\23_PLA_revision\\notebooks\\wandb\\run-20240120_062439-rgko7f6c</code>"
      ],
      "text/plain": [
       "<IPython.core.display.HTML object>"
      ]
     },
     "metadata": {},
     "output_type": "display_data"
    },
    {
     "data": {
      "text/html": [
       "Syncing run <strong><a href='https://wandb.ai/thoomas/PLA_13PPI_2D_projected_Kfold/runs/rgko7f6c' target=\"_blank\">GINConv_3_16_onehot_2</a></strong> to <a href='https://wandb.ai/thoomas/PLA_13PPI_2D_projected_Kfold' target=\"_blank\">Weights & Biases</a> (<a href='https://wandb.me/run' target=\"_blank\">docs</a>)<br/>"
      ],
      "text/plain": [
       "<IPython.core.display.HTML object>"
      ]
     },
     "metadata": {},
     "output_type": "display_data"
    },
    {
     "data": {
      "text/html": [
       " View project at <a href='https://wandb.ai/thoomas/PLA_13PPI_2D_projected_Kfold' target=\"_blank\">https://wandb.ai/thoomas/PLA_13PPI_2D_projected_Kfold</a>"
      ],
      "text/plain": [
       "<IPython.core.display.HTML object>"
      ]
     },
     "metadata": {},
     "output_type": "display_data"
    },
    {
     "data": {
      "text/html": [
       " View run at <a href='https://wandb.ai/thoomas/PLA_13PPI_2D_projected_Kfold/runs/rgko7f6c' target=\"_blank\">https://wandb.ai/thoomas/PLA_13PPI_2D_projected_Kfold/runs/rgko7f6c</a>"
      ],
      "text/plain": [
       "<IPython.core.display.HTML object>"
      ]
     },
     "metadata": {},
     "output_type": "display_data"
    },
    {
     "name": "stderr",
     "output_type": "stream",
     "text": [
      "Global seed set to 42\n",
      "GPU available: True (cuda), used: True\n",
      "TPU available: False, using: 0 TPU cores\n",
      "IPU available: False, using: 0 IPUs\n",
      "HPU available: False, using: 0 HPUs\n",
      "Global seed set to 42\n",
      "c:\\Users\\thu71\\AppData\\Local\\anaconda3\\envs\\scanpy\\Lib\\site-packages\\lightning\\pytorch\\callbacks\\model_checkpoint.py:617: UserWarning: Checkpoint directory \\\\bme-retromaster.ad.gatech.edu\\labs5\\coskun-lab\\Thomas\\23_PLA_revision\\data\\13cyc_3D\\ saved_models_2D_projected\\13PPI_2D_projected\\Graph_GNNs_Kfold\\GINConv_3_16_onehot_2\\mean\\GraphLevelGINConv exists and is not empty.\n",
      "  rank_zero_warn(f\"Checkpoint directory {dirpath} exists and is not empty.\")\n",
      "LOCAL_RANK: 0 - CUDA_VISIBLE_DEVICES: [0]\n",
      "\n",
      "  | Name        | Type             | Params\n",
      "-------------------------------------------------\n",
      "0 | x_embedding | Identity         | 0     \n",
      "1 | model       | GIN              | 1.7 K \n",
      "2 | head        | Sequential       | 154   \n",
      "3 | loss_module | CrossEntropyLoss | 0     \n",
      "4 | train_acc   | BinaryAccuracy   | 0     \n",
      "5 | train_auroc | BinaryAUROC      | 0     \n",
      "6 | train_f1    | BinaryF1Score    | 0     \n",
      "7 | valid_acc   | BinaryAccuracy   | 0     \n",
      "8 | valid_auroc | BinaryAUROC      | 0     \n",
      "9 | valid_f1    | BinaryF1Score    | 0     \n",
      "-------------------------------------------------\n",
      "1.9 K     Trainable params\n",
      "0         Non-trainable params\n",
      "1.9 K     Total params\n",
      "0.008     Total estimated model params size (MB)\n"
     ]
    },
    {
     "name": "stdout",
     "output_type": "stream",
     "text": [
      "GINConv\n"
     ]
    },
    {
     "name": "stderr",
     "output_type": "stream",
     "text": [
      "`Trainer.fit` stopped: `max_epochs=40` reached.\n"
     ]
    },
    {
     "data": {
      "text/html": [
       "Waiting for W&B process to finish... <strong style=\"color:green\">(success).</strong>"
      ],
      "text/plain": [
       "<IPython.core.display.HTML object>"
      ]
     },
     "metadata": {},
     "output_type": "display_data"
    },
    {
     "data": {
      "application/vnd.jupyter.widget-view+json": {
       "model_id": "a69f82cf29fd47d5be330b7a309ea7de",
       "version_major": 2,
       "version_minor": 0
      },
      "text/plain": [
       "VBox(children=(Label(value='0.001 MB of 0.001 MB uploaded (0.000 MB deduped)\\r'), FloatProgress(value=1.0, max…"
      ]
     },
     "metadata": {},
     "output_type": "display_data"
    },
    {
     "data": {
      "text/html": [
       "<style>\n",
       "    table.wandb td:nth-child(1) { padding: 0 10px; text-align: left ; width: auto;} td:nth-child(2) {text-align: left ; width: 100%}\n",
       "    .wandb-row { display: flex; flex-direction: row; flex-wrap: wrap; justify-content: flex-start; width: 100% }\n",
       "    .wandb-col { display: flex; flex-direction: column; flex-basis: 100%; flex: 1; padding: 10px; }\n",
       "    </style>\n",
       "<div class=\"wandb-row\"><div class=\"wandb-col\"><h3>Run history:</h3><br/><table class=\"wandb\"><tr><td>epoch</td><td>▁▁▁▂▂▂▂▂▂▃▃▃▃▃▄▄▄▄▄▄▅▅▅▅▅▅▆▆▆▆▆▇▇▇▇▇▇███</td></tr><tr><td>lr-Adam</td><td>▁▁▁▁▁▁▁▁▁▁▁▁▁▁▁▁▁▁▁▁▁▁▁▁▁▁▁▁▁▁▁▁▁▁▁▁▁▁▁▁</td></tr><tr><td>train_acc</td><td>▁▄▅▆▆▆▆▆▇▇▇▇▇▇▇▇▇▇█▇▇█▇▇▇▇▇██▇▇█████████</td></tr><tr><td>train_auc</td><td>▁▅▅▆▆▆▆▇▇▇▇▇▇▇▇▇▇▇▇▇▇██▇▇▇▇█████████████</td></tr><tr><td>train_f1</td><td>▁▅▅▆▇▇▇▇▇▇▇▇▇▇▇▇▇▇█████▇▇███████████████</td></tr><tr><td>train_loss_epoch</td><td>█▅▅▄▄▄▃▃▃▂▃▃▃▂▃▂▂▂▂▂▂▂▁▂▃▂▂▁▂▂▂▁▁▁▁▂▁▁▁▂</td></tr><tr><td>train_loss_step</td><td>█▆▆▇▅▅▇▅▆▄▆▅▅▃▄▂▅▄▅▅▂▄▂▂▆▅▄▁▃▁▂▂▃▆▄▂▂▄▃▂</td></tr><tr><td>trainer/global_step</td><td>▁▁▁▁▂▂▂▂▁▁▂▂▂▂▄▄▂▂▂▂▂▂▂▂▂▂▂▂▂▂▃▃▇▇▃▃▃▃▃█</td></tr><tr><td>val_acc</td><td>▄▁▅▆▅▆▆▆▆▇▅▆▇▇█▆▇████▇▇▆▇▇▇▇▇▇▇█▇█▇▇▇▇▇▇</td></tr><tr><td>val_auc</td><td>▁▃▄▅▅▆▆▆▆▇▇▅▆▇▇▆▇▇█▇▇▇█▇▆█▆█▇▇▇█▇█▇▆█▆▇▇</td></tr><tr><td>val_f1</td><td>▂▁▄▅▅▄▆▅▆▇▅▄▅▆█▅▇▇▆█▇▆▆▆▇▆▅▅▆▆▆█▆▇▄▅▆▆▅▆</td></tr><tr><td>val_loss_epoch</td><td>██▃▃▄▂▂▂▂▁▃▅▃▂▂▂▂▁▃▁▁▂▂▃▃▃▃▃▄▂▃▂▃▂█▄▂▄▆▂</td></tr><tr><td>val_loss_step</td><td>▄█▃▄▅▃▄▂▄▃▆▂▂▂▃▃▄▃▂▃▃▂▃▆▅▃▂▂▁▄▂▃▂▂▁▁▂▄▂▂</td></tr></table><br/></div><div class=\"wandb-col\"><h3>Run summary:</h3><br/><table class=\"wandb\"><tr><td>epoch</td><td>39</td></tr><tr><td>lr-Adam</td><td>0.005</td></tr><tr><td>train_acc</td><td>0.84204</td></tr><tr><td>train_auc</td><td>0.90929</td></tr><tr><td>train_f1</td><td>0.82936</td></tr><tr><td>train_loss_epoch</td><td>0.38498</td></tr><tr><td>train_loss_step</td><td>0.3259</td></tr><tr><td>trainer/global_step</td><td>559</td></tr><tr><td>val_acc</td><td>0.80974</td></tr><tr><td>val_auc</td><td>0.88405</td></tr><tr><td>val_f1</td><td>0.78974</td></tr><tr><td>val_loss_epoch</td><td>0.44336</td></tr><tr><td>val_loss_step</td><td>0.45945</td></tr></table><br/></div></div>"
      ],
      "text/plain": [
       "<IPython.core.display.HTML object>"
      ]
     },
     "metadata": {},
     "output_type": "display_data"
    },
    {
     "data": {
      "text/html": [
       " View run <strong style=\"color:#cdcd00\">GINConv_3_16_onehot_2</strong> at: <a href='https://wandb.ai/thoomas/PLA_13PPI_2D_projected_Kfold/runs/rgko7f6c' target=\"_blank\">https://wandb.ai/thoomas/PLA_13PPI_2D_projected_Kfold/runs/rgko7f6c</a><br/>Synced 6 W&B file(s), 0 media file(s), 0 artifact file(s) and 0 other file(s)"
      ],
      "text/plain": [
       "<IPython.core.display.HTML object>"
      ]
     },
     "metadata": {},
     "output_type": "display_data"
    },
    {
     "data": {
      "text/html": [
       "Find logs at: <code>.\\wandb\\run-20240120_062439-rgko7f6c\\logs</code>"
      ],
      "text/plain": [
       "<IPython.core.display.HTML object>"
      ]
     },
     "metadata": {},
     "output_type": "display_data"
    },
    {
     "data": {
      "text/html": [
       "wandb version 0.16.2 is available!  To upgrade, please run:\n",
       " $ pip install wandb --upgrade"
      ],
      "text/plain": [
       "<IPython.core.display.HTML object>"
      ]
     },
     "metadata": {},
     "output_type": "display_data"
    },
    {
     "data": {
      "text/html": [
       "Tracking run with wandb version 0.15.8"
      ],
      "text/plain": [
       "<IPython.core.display.HTML object>"
      ]
     },
     "metadata": {},
     "output_type": "display_data"
    },
    {
     "data": {
      "text/html": [
       "Run data is saved locally in <code>y:\\coskun-lab\\Thomas\\23_PLA_revision\\notebooks\\wandb\\run-20240120_065507-vf30j20f</code>"
      ],
      "text/plain": [
       "<IPython.core.display.HTML object>"
      ]
     },
     "metadata": {},
     "output_type": "display_data"
    },
    {
     "data": {
      "text/html": [
       "Syncing run <strong><a href='https://wandb.ai/thoomas/PLA_13PPI_2D_projected_Kfold/runs/vf30j20f' target=\"_blank\">MLP_2_64_onehot_3</a></strong> to <a href='https://wandb.ai/thoomas/PLA_13PPI_2D_projected_Kfold' target=\"_blank\">Weights & Biases</a> (<a href='https://wandb.me/run' target=\"_blank\">docs</a>)<br/>"
      ],
      "text/plain": [
       "<IPython.core.display.HTML object>"
      ]
     },
     "metadata": {},
     "output_type": "display_data"
    },
    {
     "data": {
      "text/html": [
       " View project at <a href='https://wandb.ai/thoomas/PLA_13PPI_2D_projected_Kfold' target=\"_blank\">https://wandb.ai/thoomas/PLA_13PPI_2D_projected_Kfold</a>"
      ],
      "text/plain": [
       "<IPython.core.display.HTML object>"
      ]
     },
     "metadata": {},
     "output_type": "display_data"
    },
    {
     "data": {
      "text/html": [
       " View run at <a href='https://wandb.ai/thoomas/PLA_13PPI_2D_projected_Kfold/runs/vf30j20f' target=\"_blank\">https://wandb.ai/thoomas/PLA_13PPI_2D_projected_Kfold/runs/vf30j20f</a>"
      ],
      "text/plain": [
       "<IPython.core.display.HTML object>"
      ]
     },
     "metadata": {},
     "output_type": "display_data"
    },
    {
     "name": "stderr",
     "output_type": "stream",
     "text": [
      "Global seed set to 42\n",
      "GPU available: True (cuda), used: True\n",
      "TPU available: False, using: 0 TPU cores\n",
      "IPU available: False, using: 0 IPUs\n",
      "HPU available: False, using: 0 HPUs\n",
      "Global seed set to 42\n",
      "c:\\Users\\thu71\\AppData\\Local\\anaconda3\\envs\\scanpy\\Lib\\site-packages\\lightning\\pytorch\\callbacks\\model_checkpoint.py:617: UserWarning: Checkpoint directory \\\\bme-retromaster.ad.gatech.edu\\labs5\\coskun-lab\\Thomas\\23_PLA_revision\\data\\13cyc_3D\\ saved_models_2D_projected\\13PPI_2D_projected\\Graph_GNNs_Kfold\\MLP_2_64_onehot_3\\attention\\GraphLevelMLP exists and is not empty.\n",
      "  rank_zero_warn(f\"Checkpoint directory {dirpath} exists and is not empty.\")\n",
      "LOCAL_RANK: 0 - CUDA_VISIBLE_DEVICES: [0]\n",
      "\n",
      "   | Name        | Type             | Params\n",
      "--------------------------------------------------\n",
      "0  | x_embedding | Identity         | 0     \n",
      "1  | model       | MLPModel         | 5.1 K \n",
      "2  | head        | Sequential       | 2.1 K \n",
      "3  | loss_module | CrossEntropyLoss | 0     \n",
      "4  | train_acc   | BinaryAccuracy   | 0     \n",
      "5  | train_auroc | BinaryAUROC      | 0     \n",
      "6  | train_f1    | BinaryF1Score    | 0     \n",
      "7  | valid_acc   | BinaryAccuracy   | 0     \n",
      "8  | valid_auroc | BinaryAUROC      | 0     \n",
      "9  | valid_f1    | BinaryF1Score    | 0     \n",
      "10 | pool        | GlobalAttention  | 65    \n",
      "--------------------------------------------------\n",
      "7.3 K     Trainable params\n",
      "0         Non-trainable params\n",
      "7.3 K     Total params\n",
      "0.029     Total estimated model params size (MB)\n"
     ]
    },
    {
     "name": "stdout",
     "output_type": "stream",
     "text": [
      "Using MLP\n"
     ]
    },
    {
     "name": "stderr",
     "output_type": "stream",
     "text": [
      "`Trainer.fit` stopped: `max_epochs=40` reached.\n"
     ]
    },
    {
     "data": {
      "text/html": [
       "Waiting for W&B process to finish... <strong style=\"color:green\">(success).</strong>"
      ],
      "text/plain": [
       "<IPython.core.display.HTML object>"
      ]
     },
     "metadata": {},
     "output_type": "display_data"
    },
    {
     "data": {
      "application/vnd.jupyter.widget-view+json": {
       "model_id": "cd4a74f0cffd48bdab1e79d9fe06caa9",
       "version_major": 2,
       "version_minor": 0
      },
      "text/plain": [
       "VBox(children=(Label(value='0.001 MB of 0.001 MB uploaded (0.000 MB deduped)\\r'), FloatProgress(value=1.0, max…"
      ]
     },
     "metadata": {},
     "output_type": "display_data"
    },
    {
     "data": {
      "text/html": [
       "<style>\n",
       "    table.wandb td:nth-child(1) { padding: 0 10px; text-align: left ; width: auto;} td:nth-child(2) {text-align: left ; width: 100%}\n",
       "    .wandb-row { display: flex; flex-direction: row; flex-wrap: wrap; justify-content: flex-start; width: 100% }\n",
       "    .wandb-col { display: flex; flex-direction: column; flex-basis: 100%; flex: 1; padding: 10px; }\n",
       "    </style>\n",
       "<div class=\"wandb-row\"><div class=\"wandb-col\"><h3>Run history:</h3><br/><table class=\"wandb\"><tr><td>epoch</td><td>▁▁▁▂▂▂▂▂▂▃▃▃▃▃▄▄▄▄▄▄▅▅▅▅▅▅▆▆▆▆▆▇▇▇▇▇▇███</td></tr><tr><td>lr-Adam</td><td>▁▁▁▁▁▁▁▁▁▁▁▁▁▁▁▁▁▁▁▁▁▁▁▁▁▁▁▁▁▁▁▁▁▁▁▁▁▁▁▁</td></tr><tr><td>train_acc</td><td>▁▄▆▇▇▇▇▇██▇▇█████▇▇█████▇██▇▇███▇▇██████</td></tr><tr><td>train_auc</td><td>▁▄▆▇█▇▇▇███▇████████████████████████████</td></tr><tr><td>train_f1</td><td>▁▃▇█▇▇▇▇██▇▇███████▇████▇███████▇████▇██</td></tr><tr><td>train_loss_epoch</td><td>█▇▄▃▂▃▃▂▂▂▂▃▂▁▂▂▁▂▂▂▁▁▁▁▂▁▁▂▂▂▁▂▂▂▂▁▂▁▂▁</td></tr><tr><td>train_loss_step</td><td>█▇▆▅▄▆▄▅▃▃▆▃▂▃▂▄▄▃▃▄▂▃▂▃▄▃▅▃▄▄▅▂▄▂▂▄▆▄▃▁</td></tr><tr><td>trainer/global_step</td><td>▁▁▁▁▂▂▂▂▁▁▂▂▂▂▄▄▂▂▂▂▂▂▂▂▂▂▂▂▂▂▃▃▇▇▃▃▃▃▃█</td></tr><tr><td>val_acc</td><td>▁▇▇▇▇█▇▇███▇███████████████████▇████████</td></tr><tr><td>val_auc</td><td>▁▁▂▅▆▇▇▇▇████████████████████████▇▇▇████</td></tr><tr><td>val_f1</td><td>▁▇▇▇▇█▇████▇█████████████████▇█▇████████</td></tr><tr><td>val_loss_epoch</td><td>█▅▃▃▂▂▃▂▁▂▁▄▂▁▁▁▁▁▃▁▁▁▁▂▂▁▁▂▂▂▁▄▁▁▂▁▂▁▁▂</td></tr><tr><td>val_loss_step</td><td>▇▆▄▃▃█▃▄▄▃▆▁▄▄▄▄▄▆▂█▆▄▄▃▅▄█▃▇▂▅▁▇▆▃▆▃▅▅▃</td></tr></table><br/></div><div class=\"wandb-col\"><h3>Run summary:</h3><br/><table class=\"wandb\"><tr><td>epoch</td><td>39</td></tr><tr><td>lr-Adam</td><td>0.005</td></tr><tr><td>train_acc</td><td>0.77075</td></tr><tr><td>train_auc</td><td>0.83916</td></tr><tr><td>train_f1</td><td>0.73893</td></tr><tr><td>train_loss_epoch</td><td>0.49726</td></tr><tr><td>train_loss_step</td><td>0.4058</td></tr><tr><td>trainer/global_step</td><td>559</td></tr><tr><td>val_acc</td><td>0.80698</td></tr><tr><td>val_auc</td><td>0.89461</td></tr><tr><td>val_f1</td><td>0.76353</td></tr><tr><td>val_loss_epoch</td><td>0.43683</td></tr><tr><td>val_loss_step</td><td>0.47827</td></tr></table><br/></div></div>"
      ],
      "text/plain": [
       "<IPython.core.display.HTML object>"
      ]
     },
     "metadata": {},
     "output_type": "display_data"
    },
    {
     "data": {
      "text/html": [
       " View run <strong style=\"color:#cdcd00\">MLP_2_64_onehot_3</strong> at: <a href='https://wandb.ai/thoomas/PLA_13PPI_2D_projected_Kfold/runs/vf30j20f' target=\"_blank\">https://wandb.ai/thoomas/PLA_13PPI_2D_projected_Kfold/runs/vf30j20f</a><br/>Synced 6 W&B file(s), 0 media file(s), 0 artifact file(s) and 0 other file(s)"
      ],
      "text/plain": [
       "<IPython.core.display.HTML object>"
      ]
     },
     "metadata": {},
     "output_type": "display_data"
    },
    {
     "data": {
      "text/html": [
       "Find logs at: <code>.\\wandb\\run-20240120_065507-vf30j20f\\logs</code>"
      ],
      "text/plain": [
       "<IPython.core.display.HTML object>"
      ]
     },
     "metadata": {},
     "output_type": "display_data"
    },
    {
     "data": {
      "text/html": [
       "wandb version 0.16.2 is available!  To upgrade, please run:\n",
       " $ pip install wandb --upgrade"
      ],
      "text/plain": [
       "<IPython.core.display.HTML object>"
      ]
     },
     "metadata": {},
     "output_type": "display_data"
    },
    {
     "data": {
      "text/html": [
       "Tracking run with wandb version 0.15.8"
      ],
      "text/plain": [
       "<IPython.core.display.HTML object>"
      ]
     },
     "metadata": {},
     "output_type": "display_data"
    },
    {
     "data": {
      "text/html": [
       "Run data is saved locally in <code>y:\\coskun-lab\\Thomas\\23_PLA_revision\\notebooks\\wandb\\run-20240120_072558-oqmt5ek5</code>"
      ],
      "text/plain": [
       "<IPython.core.display.HTML object>"
      ]
     },
     "metadata": {},
     "output_type": "display_data"
    },
    {
     "data": {
      "text/html": [
       "Syncing run <strong><a href='https://wandb.ai/thoomas/PLA_13PPI_2D_projected_Kfold/runs/oqmt5ek5' target=\"_blank\">GraphConv_2_16_onehot_3</a></strong> to <a href='https://wandb.ai/thoomas/PLA_13PPI_2D_projected_Kfold' target=\"_blank\">Weights & Biases</a> (<a href='https://wandb.me/run' target=\"_blank\">docs</a>)<br/>"
      ],
      "text/plain": [
       "<IPython.core.display.HTML object>"
      ]
     },
     "metadata": {},
     "output_type": "display_data"
    },
    {
     "data": {
      "text/html": [
       " View project at <a href='https://wandb.ai/thoomas/PLA_13PPI_2D_projected_Kfold' target=\"_blank\">https://wandb.ai/thoomas/PLA_13PPI_2D_projected_Kfold</a>"
      ],
      "text/plain": [
       "<IPython.core.display.HTML object>"
      ]
     },
     "metadata": {},
     "output_type": "display_data"
    },
    {
     "data": {
      "text/html": [
       " View run at <a href='https://wandb.ai/thoomas/PLA_13PPI_2D_projected_Kfold/runs/oqmt5ek5' target=\"_blank\">https://wandb.ai/thoomas/PLA_13PPI_2D_projected_Kfold/runs/oqmt5ek5</a>"
      ],
      "text/plain": [
       "<IPython.core.display.HTML object>"
      ]
     },
     "metadata": {},
     "output_type": "display_data"
    },
    {
     "name": "stderr",
     "output_type": "stream",
     "text": [
      "Global seed set to 42\n",
      "GPU available: True (cuda), used: True\n",
      "TPU available: False, using: 0 TPU cores\n",
      "IPU available: False, using: 0 IPUs\n",
      "HPU available: False, using: 0 HPUs\n",
      "Global seed set to 42\n",
      "c:\\Users\\thu71\\AppData\\Local\\anaconda3\\envs\\scanpy\\Lib\\site-packages\\lightning\\pytorch\\callbacks\\model_checkpoint.py:617: UserWarning: Checkpoint directory \\\\bme-retromaster.ad.gatech.edu\\labs5\\coskun-lab\\Thomas\\23_PLA_revision\\data\\13cyc_3D\\ saved_models_2D_projected\\13PPI_2D_projected\\Graph_GNNs_Kfold\\GraphConv_2_16_onehot_3\\attention\\GraphLevelGraphConv exists and is not empty.\n",
      "  rank_zero_warn(f\"Checkpoint directory {dirpath} exists and is not empty.\")\n",
      "LOCAL_RANK: 0 - CUDA_VISIBLE_DEVICES: [0]\n",
      "\n",
      "   | Name        | Type             | Params\n",
      "--------------------------------------------------\n",
      "0  | x_embedding | Identity         | 0     \n",
      "1  | model       | GNNModel         | 992   \n",
      "2  | head        | Sequential       | 154   \n",
      "3  | loss_module | CrossEntropyLoss | 0     \n",
      "4  | train_acc   | BinaryAccuracy   | 0     \n",
      "5  | train_auroc | BinaryAUROC      | 0     \n",
      "6  | train_f1    | BinaryF1Score    | 0     \n",
      "7  | valid_acc   | BinaryAccuracy   | 0     \n",
      "8  | valid_auroc | BinaryAUROC      | 0     \n",
      "9  | valid_f1    | BinaryF1Score    | 0     \n",
      "10 | pool        | GlobalAttention  | 17    \n",
      "--------------------------------------------------\n",
      "1.2 K     Trainable params\n",
      "0         Non-trainable params\n",
      "1.2 K     Total params\n",
      "0.005     Total estimated model params size (MB)\n"
     ]
    },
    {
     "name": "stdout",
     "output_type": "stream",
     "text": [
      "Using GNN\n"
     ]
    },
    {
     "name": "stderr",
     "output_type": "stream",
     "text": [
      "`Trainer.fit` stopped: `max_epochs=40` reached.\n"
     ]
    },
    {
     "data": {
      "text/html": [
       "Waiting for W&B process to finish... <strong style=\"color:green\">(success).</strong>"
      ],
      "text/plain": [
       "<IPython.core.display.HTML object>"
      ]
     },
     "metadata": {},
     "output_type": "display_data"
    },
    {
     "data": {
      "text/html": [
       "<style>\n",
       "    table.wandb td:nth-child(1) { padding: 0 10px; text-align: left ; width: auto;} td:nth-child(2) {text-align: left ; width: 100%}\n",
       "    .wandb-row { display: flex; flex-direction: row; flex-wrap: wrap; justify-content: flex-start; width: 100% }\n",
       "    .wandb-col { display: flex; flex-direction: column; flex-basis: 100%; flex: 1; padding: 10px; }\n",
       "    </style>\n",
       "<div class=\"wandb-row\"><div class=\"wandb-col\"><h3>Run history:</h3><br/><table class=\"wandb\"><tr><td>epoch</td><td>▁▁▁▂▂▂▂▂▂▃▃▃▃▃▄▄▄▄▄▄▅▅▅▅▅▅▆▆▆▆▆▇▇▇▇▇▇███</td></tr><tr><td>lr-Adam</td><td>▁▁▁▁▁▁▁▁▁▁▁▁▁▁▁▁▁▁▁▁▁▁▁▁▁▁▁▁▁▁▁▁▁▁▁▁▁▁▁▁</td></tr><tr><td>train_acc</td><td>▁▅▆▆▆▆▇▇▇▇▇▇▇▇▇▇▇██▇████████████████████</td></tr><tr><td>train_auc</td><td>▁▄▅▆▆▆▆▇▇▇▇▇▇▇▇▇▇▇▇▇▇███████████████████</td></tr><tr><td>train_f1</td><td>▁▃▅▅▅▅▆▆▆▆▆▆▇▇▆▇▇▇▇▇▇▇▇███▇▇█▇█▇▇███▇██▇</td></tr><tr><td>train_loss_epoch</td><td>█▅▄▄▃▃▃▃▃▃▃▃▂▂▂▂▂▂▂▂▂▂▂▁▂▁▂▂▂▂▁▁▁▁▁▁▂▁▁▂</td></tr><tr><td>train_loss_step</td><td>█▅▅▆▄▄▄▅▄▆▅▃▄▃▃▃▃▂▂▃▄▃▃▃▂▃▃▅▂▄▃▄▅▂▃▃▄▁▃▂</td></tr><tr><td>trainer/global_step</td><td>▁▁▁▁▂▂▂▂▁▁▂▂▂▂▄▄▂▂▂▂▂▂▂▂▂▂▂▂▂▂▃▃▇▇▃▃▃▃▃█</td></tr><tr><td>val_acc</td><td>▁▅▇▇▇▇▇▇▇▇▇▇▇▇▇▇▇▇▇▇██▇▇███▇███▇██████▇▇</td></tr><tr><td>val_auc</td><td>▁▇▇▇▇▇▇█▇▇▇█████████████████████████████</td></tr><tr><td>val_f1</td><td>▁▅▅▅▄▆▅▅▅▇▅▇▅▅▆▆▅▇▆▆▇█▇▇▇▇▆▇▇█▇▆█▆▆███▇▇</td></tr><tr><td>val_loss_epoch</td><td>█▄▄▃▃▃▂▃▂▂▂▂▂▂▂▂▂▁▁▂▁▁▁▁▂▁▁▁▁▁▁▂▁▁▂▁▁▁▁▁</td></tr><tr><td>val_loss_step</td><td>██▅▆▄▆▅▅▅▆▅▇▅▅▅▅▅▇▅▅▆▆▇▇▅▅▄▆▆▅▆▅▆▅▅▆▆▆▇▁</td></tr></table><br/></div><div class=\"wandb-col\"><h3>Run summary:</h3><br/><table class=\"wandb\"><tr><td>epoch</td><td>39</td></tr><tr><td>lr-Adam</td><td>0.005</td></tr><tr><td>train_acc</td><td>0.81428</td></tr><tr><td>train_auc</td><td>0.87187</td></tr><tr><td>train_f1</td><td>0.79408</td></tr><tr><td>train_loss_epoch</td><td>0.44044</td></tr><tr><td>train_loss_step</td><td>0.40846</td></tr><tr><td>trainer/global_step</td><td>559</td></tr><tr><td>val_acc</td><td>0.81163</td></tr><tr><td>val_auc</td><td>0.88939</td></tr><tr><td>val_f1</td><td>0.79597</td></tr><tr><td>val_loss_epoch</td><td>0.39275</td></tr><tr><td>val_loss_step</td><td>0.26873</td></tr></table><br/></div></div>"
      ],
      "text/plain": [
       "<IPython.core.display.HTML object>"
      ]
     },
     "metadata": {},
     "output_type": "display_data"
    },
    {
     "data": {
      "text/html": [
       " View run <strong style=\"color:#cdcd00\">GraphConv_2_16_onehot_3</strong> at: <a href='https://wandb.ai/thoomas/PLA_13PPI_2D_projected_Kfold/runs/oqmt5ek5' target=\"_blank\">https://wandb.ai/thoomas/PLA_13PPI_2D_projected_Kfold/runs/oqmt5ek5</a><br/>Synced 6 W&B file(s), 0 media file(s), 0 artifact file(s) and 0 other file(s)"
      ],
      "text/plain": [
       "<IPython.core.display.HTML object>"
      ]
     },
     "metadata": {},
     "output_type": "display_data"
    },
    {
     "data": {
      "text/html": [
       "Find logs at: <code>.\\wandb\\run-20240120_072558-oqmt5ek5\\logs</code>"
      ],
      "text/plain": [
       "<IPython.core.display.HTML object>"
      ]
     },
     "metadata": {},
     "output_type": "display_data"
    },
    {
     "data": {
      "text/html": [
       "wandb version 0.16.2 is available!  To upgrade, please run:\n",
       " $ pip install wandb --upgrade"
      ],
      "text/plain": [
       "<IPython.core.display.HTML object>"
      ]
     },
     "metadata": {},
     "output_type": "display_data"
    },
    {
     "data": {
      "text/html": [
       "Tracking run with wandb version 0.15.8"
      ],
      "text/plain": [
       "<IPython.core.display.HTML object>"
      ]
     },
     "metadata": {},
     "output_type": "display_data"
    },
    {
     "data": {
      "text/html": [
       "Run data is saved locally in <code>y:\\coskun-lab\\Thomas\\23_PLA_revision\\notebooks\\wandb\\run-20240120_075804-4ym6axin</code>"
      ],
      "text/plain": [
       "<IPython.core.display.HTML object>"
      ]
     },
     "metadata": {},
     "output_type": "display_data"
    },
    {
     "data": {
      "text/html": [
       "Syncing run <strong><a href='https://wandb.ai/thoomas/PLA_13PPI_2D_projected_Kfold/runs/4ym6axin' target=\"_blank\">GCN_2_64_onehot_3</a></strong> to <a href='https://wandb.ai/thoomas/PLA_13PPI_2D_projected_Kfold' target=\"_blank\">Weights & Biases</a> (<a href='https://wandb.me/run' target=\"_blank\">docs</a>)<br/>"
      ],
      "text/plain": [
       "<IPython.core.display.HTML object>"
      ]
     },
     "metadata": {},
     "output_type": "display_data"
    },
    {
     "data": {
      "text/html": [
       " View project at <a href='https://wandb.ai/thoomas/PLA_13PPI_2D_projected_Kfold' target=\"_blank\">https://wandb.ai/thoomas/PLA_13PPI_2D_projected_Kfold</a>"
      ],
      "text/plain": [
       "<IPython.core.display.HTML object>"
      ]
     },
     "metadata": {},
     "output_type": "display_data"
    },
    {
     "data": {
      "text/html": [
       " View run at <a href='https://wandb.ai/thoomas/PLA_13PPI_2D_projected_Kfold/runs/4ym6axin' target=\"_blank\">https://wandb.ai/thoomas/PLA_13PPI_2D_projected_Kfold/runs/4ym6axin</a>"
      ],
      "text/plain": [
       "<IPython.core.display.HTML object>"
      ]
     },
     "metadata": {},
     "output_type": "display_data"
    },
    {
     "name": "stderr",
     "output_type": "stream",
     "text": [
      "Global seed set to 42\n",
      "GPU available: True (cuda), used: True\n",
      "TPU available: False, using: 0 TPU cores\n",
      "IPU available: False, using: 0 IPUs\n",
      "HPU available: False, using: 0 HPUs\n",
      "Global seed set to 42\n",
      "c:\\Users\\thu71\\AppData\\Local\\anaconda3\\envs\\scanpy\\Lib\\site-packages\\lightning\\pytorch\\callbacks\\model_checkpoint.py:617: UserWarning: Checkpoint directory \\\\bme-retromaster.ad.gatech.edu\\labs5\\coskun-lab\\Thomas\\23_PLA_revision\\data\\13cyc_3D\\ saved_models_2D_projected\\13PPI_2D_projected\\Graph_GNNs_Kfold\\GCN_2_64_onehot_3\\attention2\\GraphLevelGCN exists and is not empty.\n",
      "  rank_zero_warn(f\"Checkpoint directory {dirpath} exists and is not empty.\")\n",
      "LOCAL_RANK: 0 - CUDA_VISIBLE_DEVICES: [0]\n",
      "\n",
      "   | Name        | Type             | Params\n",
      "--------------------------------------------------\n",
      "0  | x_embedding | Identity         | 0     \n",
      "1  | model       | GNNModel         | 5.2 K \n",
      "2  | head        | Sequential       | 2.1 K \n",
      "3  | loss_module | CrossEntropyLoss | 0     \n",
      "4  | train_acc   | BinaryAccuracy   | 0     \n",
      "5  | train_auroc | BinaryAUROC      | 0     \n",
      "6  | train_f1    | BinaryF1Score    | 0     \n",
      "7  | valid_acc   | BinaryAccuracy   | 0     \n",
      "8  | valid_auroc | BinaryAUROC      | 0     \n",
      "9  | valid_f1    | BinaryF1Score    | 0     \n",
      "10 | pool        | Attention_module | 4.2 K \n",
      "--------------------------------------------------\n",
      "11.5 K    Trainable params\n",
      "0         Non-trainable params\n",
      "11.5 K    Total params\n",
      "0.046     Total estimated model params size (MB)\n"
     ]
    },
    {
     "name": "stdout",
     "output_type": "stream",
     "text": [
      "Using GNN\n"
     ]
    },
    {
     "name": "stderr",
     "output_type": "stream",
     "text": [
      "`Trainer.fit` stopped: `max_epochs=40` reached.\n"
     ]
    },
    {
     "data": {
      "text/html": [
       "Waiting for W&B process to finish... <strong style=\"color:green\">(success).</strong>"
      ],
      "text/plain": [
       "<IPython.core.display.HTML object>"
      ]
     },
     "metadata": {},
     "output_type": "display_data"
    },
    {
     "data": {
      "text/html": [
       "<style>\n",
       "    table.wandb td:nth-child(1) { padding: 0 10px; text-align: left ; width: auto;} td:nth-child(2) {text-align: left ; width: 100%}\n",
       "    .wandb-row { display: flex; flex-direction: row; flex-wrap: wrap; justify-content: flex-start; width: 100% }\n",
       "    .wandb-col { display: flex; flex-direction: column; flex-basis: 100%; flex: 1; padding: 10px; }\n",
       "    </style>\n",
       "<div class=\"wandb-row\"><div class=\"wandb-col\"><h3>Run history:</h3><br/><table class=\"wandb\"><tr><td>epoch</td><td>▁▁▁▂▂▂▂▂▂▃▃▃▃▃▄▄▄▄▄▄▅▅▅▅▅▅▆▆▆▆▆▇▇▇▇▇▇███</td></tr><tr><td>lr-Adam</td><td>▁▁▁▁▁▁▁▁▁▁▁▁▁▁▁▁▁▁▁▁▁▁▁▁▁▁▁▁▁▁▁▁▁▁▁▁▁▁▁▁</td></tr><tr><td>train_acc</td><td>▁▄▅▆▇▆▆▇▇▇▇▇▇▇▇█▆▇▇███▇▇▇█▇▇▇█▇████▇▇▇█▇</td></tr><tr><td>train_auc</td><td>▁▃▅▅▆▆▆▇▆▇▆▇▇▇▇▇▆▆▇▇▇▇▇▇▇▇▇▇▇█▇█████▇▇█▇</td></tr><tr><td>train_f1</td><td>▁▅▅▆▇▆▆▇▇▇▇▇▇▇▇█▇▇▆███▇▇▇█▇▇▇██████▇▇███</td></tr><tr><td>train_loss_epoch</td><td>█▆▄▄▃▄▃▃▃▂▃▃▃▂▂▂▃▃▂▂▂▂▂▂▂▁▂▂▂▁▁▁▁▁▁▁▂▁▁▂</td></tr><tr><td>train_loss_step</td><td>▅▄▆█▄▄▃▃▃▃▆▃▆▂▄▃▄▄▃▂▃▂▂▄▄▃▃▅▂▃▃▁▁▂▃▇▂▃▃▅</td></tr><tr><td>trainer/global_step</td><td>▁▁▁▁▂▂▂▂▁▁▂▂▂▂▄▄▂▂▂▂▂▂▂▂▂▂▂▂▂▂▃▃▇▇▃▃▃▃▃█</td></tr><tr><td>val_acc</td><td>▄▁▆▆▆▇▇▆▆▇▅▅▇▆▇▇█▅▅▄▆▅▆▆▅▆▇▆▆▄▆▇▅▅▆▅▆▇▆▆</td></tr><tr><td>val_auc</td><td>▄▁▅▇▇▇█▆▇▅▅▆▇▅▅▆█▇▆▅▅▅▄▆▆▆▆▇▇▃▆▇▇▇▇▁▆▆▇▇</td></tr><tr><td>val_f1</td><td>▄▁▇▇▇▇█▇▇▇▇▆▇▇▇▇█▅▆▇▇▆▆▇▇▇▇▇▇▆▇▇▆▇▇▆▇▇▇▆</td></tr><tr><td>val_loss_epoch</td><td>██▃▃▂▂▁▂▁▂▂▄▁▂▂▂▁▄▄▂▁▄▃▃▁▁▂▂▁▂▁▁▄▂▁▅▂▂▁▃</td></tr><tr><td>val_loss_step</td><td>▅▃▄▆▄▄▅▃▅▄▅▂▅▆▄▂▄▁▂▇▆▂▃▃█▇▄▂▅▅▆▄▂▅▅▃▃▃▄▃</td></tr></table><br/></div><div class=\"wandb-col\"><h3>Run summary:</h3><br/><table class=\"wandb\"><tr><td>epoch</td><td>39</td></tr><tr><td>lr-Adam</td><td>0.005</td></tr><tr><td>train_acc</td><td>0.81312</td></tr><tr><td>train_auc</td><td>0.88921</td></tr><tr><td>train_f1</td><td>0.7985</td></tr><tr><td>train_loss_epoch</td><td>0.42599</td></tr><tr><td>train_loss_step</td><td>0.51987</td></tr><tr><td>trainer/global_step</td><td>559</td></tr><tr><td>val_acc</td><td>0.80465</td></tr><tr><td>val_auc</td><td>0.89834</td></tr><tr><td>val_f1</td><td>0.75581</td></tr><tr><td>val_loss_epoch</td><td>0.45049</td></tr><tr><td>val_loss_step</td><td>0.50248</td></tr></table><br/></div></div>"
      ],
      "text/plain": [
       "<IPython.core.display.HTML object>"
      ]
     },
     "metadata": {},
     "output_type": "display_data"
    },
    {
     "data": {
      "text/html": [
       " View run <strong style=\"color:#cdcd00\">GCN_2_64_onehot_3</strong> at: <a href='https://wandb.ai/thoomas/PLA_13PPI_2D_projected_Kfold/runs/4ym6axin' target=\"_blank\">https://wandb.ai/thoomas/PLA_13PPI_2D_projected_Kfold/runs/4ym6axin</a><br/>Synced 6 W&B file(s), 0 media file(s), 0 artifact file(s) and 0 other file(s)"
      ],
      "text/plain": [
       "<IPython.core.display.HTML object>"
      ]
     },
     "metadata": {},
     "output_type": "display_data"
    },
    {
     "data": {
      "text/html": [
       "Find logs at: <code>.\\wandb\\run-20240120_075804-4ym6axin\\logs</code>"
      ],
      "text/plain": [
       "<IPython.core.display.HTML object>"
      ]
     },
     "metadata": {},
     "output_type": "display_data"
    },
    {
     "data": {
      "text/html": [
       "wandb version 0.16.2 is available!  To upgrade, please run:\n",
       " $ pip install wandb --upgrade"
      ],
      "text/plain": [
       "<IPython.core.display.HTML object>"
      ]
     },
     "metadata": {},
     "output_type": "display_data"
    },
    {
     "data": {
      "text/html": [
       "Tracking run with wandb version 0.15.8"
      ],
      "text/plain": [
       "<IPython.core.display.HTML object>"
      ]
     },
     "metadata": {},
     "output_type": "display_data"
    },
    {
     "data": {
      "text/html": [
       "Run data is saved locally in <code>y:\\coskun-lab\\Thomas\\23_PLA_revision\\notebooks\\wandb\\run-20240120_083106-hv3rbk93</code>"
      ],
      "text/plain": [
       "<IPython.core.display.HTML object>"
      ]
     },
     "metadata": {},
     "output_type": "display_data"
    },
    {
     "data": {
      "text/html": [
       "Syncing run <strong><a href='https://wandb.ai/thoomas/PLA_13PPI_2D_projected_Kfold/runs/hv3rbk93' target=\"_blank\">GAT_3_64_onehot_3</a></strong> to <a href='https://wandb.ai/thoomas/PLA_13PPI_2D_projected_Kfold' target=\"_blank\">Weights & Biases</a> (<a href='https://wandb.me/run' target=\"_blank\">docs</a>)<br/>"
      ],
      "text/plain": [
       "<IPython.core.display.HTML object>"
      ]
     },
     "metadata": {},
     "output_type": "display_data"
    },
    {
     "data": {
      "text/html": [
       " View project at <a href='https://wandb.ai/thoomas/PLA_13PPI_2D_projected_Kfold' target=\"_blank\">https://wandb.ai/thoomas/PLA_13PPI_2D_projected_Kfold</a>"
      ],
      "text/plain": [
       "<IPython.core.display.HTML object>"
      ]
     },
     "metadata": {},
     "output_type": "display_data"
    },
    {
     "data": {
      "text/html": [
       " View run at <a href='https://wandb.ai/thoomas/PLA_13PPI_2D_projected_Kfold/runs/hv3rbk93' target=\"_blank\">https://wandb.ai/thoomas/PLA_13PPI_2D_projected_Kfold/runs/hv3rbk93</a>"
      ],
      "text/plain": [
       "<IPython.core.display.HTML object>"
      ]
     },
     "metadata": {},
     "output_type": "display_data"
    },
    {
     "name": "stderr",
     "output_type": "stream",
     "text": [
      "Global seed set to 42\n",
      "GPU available: True (cuda), used: True\n",
      "TPU available: False, using: 0 TPU cores\n",
      "IPU available: False, using: 0 IPUs\n",
      "HPU available: False, using: 0 HPUs\n",
      "Global seed set to 42\n",
      "c:\\Users\\thu71\\AppData\\Local\\anaconda3\\envs\\scanpy\\Lib\\site-packages\\lightning\\pytorch\\callbacks\\model_checkpoint.py:617: UserWarning: Checkpoint directory \\\\bme-retromaster.ad.gatech.edu\\labs5\\coskun-lab\\Thomas\\23_PLA_revision\\data\\13cyc_3D\\ saved_models_2D_projected\\13PPI_2D_projected\\Graph_GNNs_Kfold\\GAT_3_64_onehot_3\\attention\\GraphLevelGAT exists and is not empty.\n",
      "  rank_zero_warn(f\"Checkpoint directory {dirpath} exists and is not empty.\")\n",
      "LOCAL_RANK: 0 - CUDA_VISIBLE_DEVICES: [0]\n",
      "\n",
      "   | Name        | Type             | Params\n",
      "--------------------------------------------------\n",
      "0  | x_embedding | Identity         | 0     \n",
      "1  | model       | GAT              | 79.0 K\n",
      "2  | head        | Sequential       | 2.1 K \n",
      "3  | loss_module | CrossEntropyLoss | 0     \n",
      "4  | train_acc   | BinaryAccuracy   | 0     \n",
      "5  | train_auroc | BinaryAUROC      | 0     \n",
      "6  | train_f1    | BinaryF1Score    | 0     \n",
      "7  | valid_acc   | BinaryAccuracy   | 0     \n",
      "8  | valid_auroc | BinaryAUROC      | 0     \n",
      "9  | valid_f1    | BinaryF1Score    | 0     \n",
      "10 | pool        | GlobalAttention  | 65    \n",
      "--------------------------------------------------\n",
      "81.3 K    Trainable params\n",
      "0         Non-trainable params\n",
      "81.3 K    Total params\n",
      "0.325     Total estimated model params size (MB)\n"
     ]
    },
    {
     "name": "stdout",
     "output_type": "stream",
     "text": [
      "Using GAT\n"
     ]
    },
    {
     "name": "stderr",
     "output_type": "stream",
     "text": [
      "`Trainer.fit` stopped: `max_epochs=40` reached.\n"
     ]
    },
    {
     "data": {
      "text/html": [
       "Waiting for W&B process to finish... <strong style=\"color:green\">(success).</strong>"
      ],
      "text/plain": [
       "<IPython.core.display.HTML object>"
      ]
     },
     "metadata": {},
     "output_type": "display_data"
    },
    {
     "data": {
      "application/vnd.jupyter.widget-view+json": {
       "model_id": "5a9bda6c79974cbfba02494a4fdeebc5",
       "version_major": 2,
       "version_minor": 0
      },
      "text/plain": [
       "VBox(children=(Label(value='0.001 MB of 0.001 MB uploaded (0.000 MB deduped)\\r'), FloatProgress(value=1.0, max…"
      ]
     },
     "metadata": {},
     "output_type": "display_data"
    },
    {
     "data": {
      "text/html": [
       "<style>\n",
       "    table.wandb td:nth-child(1) { padding: 0 10px; text-align: left ; width: auto;} td:nth-child(2) {text-align: left ; width: 100%}\n",
       "    .wandb-row { display: flex; flex-direction: row; flex-wrap: wrap; justify-content: flex-start; width: 100% }\n",
       "    .wandb-col { display: flex; flex-direction: column; flex-basis: 100%; flex: 1; padding: 10px; }\n",
       "    </style>\n",
       "<div class=\"wandb-row\"><div class=\"wandb-col\"><h3>Run history:</h3><br/><table class=\"wandb\"><tr><td>epoch</td><td>▁▁▁▂▂▂▂▂▂▃▃▃▃▃▄▄▄▄▄▄▅▅▅▅▅▅▆▆▆▆▆▇▇▇▇▇▇███</td></tr><tr><td>lr-Adam</td><td>▁▁▁▁▁▁▁▁▁▁▁▁▁▁▁▁▁▁▁▁▁▁▁▁▁▁▁▁▁▁▁▁▁▁▁▁▁▁▁▁</td></tr><tr><td>train_acc</td><td>▁▅▆▆▆▅▆▆▆▇▇▇▇▇▇▇▇▇▇▇▇▇▇▇▇▇▇▇▇▇▇▇▇█▇█▇█▇▇</td></tr><tr><td>train_auc</td><td>▁▅▆▇▇▆▇▆▆▇▇▇▇▇▇▇▇▇▇▇█▇▇▇▇▇▇█▇▇▇▇██▇███▇▇</td></tr><tr><td>train_f1</td><td>▁▅▆▆▆▅▇▆▇▇▇▇▇▇▇▇▇▇▇▇█▇▇▇▇▇▇▇▇▆▇▇▇█▇▇▇█▇▇</td></tr><tr><td>train_loss_epoch</td><td>█▄▄▃▃▄▃▃▃▃▂▃▂▂▂▂▂▂▂▂▂▂▂▂▂▂▂▂▂▂▂▂▂▂▁▂▁▁▂▂</td></tr><tr><td>train_loss_step</td><td>█▇▁▅█▂▃▂▂▆▆▃▄▄▅▄▁▃▃▄▂▃▃▆▁▂▃▆▄▁▁▆▆▄▁▁▂▂▁▅</td></tr><tr><td>trainer/global_step</td><td>▁▁▁▁▂▂▂▂▁▁▂▂▂▂▄▄▂▂▂▂▂▂▂▂▂▂▂▂▂▂▃▃▇▇▃▃▃▃▃█</td></tr><tr><td>val_acc</td><td>▁▇▇▇▃▄▇▆▆██▇▇▇▆█▆▇▄▆▇▆▆▇█▇▇▇▆▅█▇█▇▇▇▇▇▇▇</td></tr><tr><td>val_auc</td><td>▄▄▆▇▇██▇▆▆▆▅▄▅▆▅▆▃▇▆▅▆▇█▄▇▅▆▆▆▆▆▆▆▇▇▇▁▃▄</td></tr><tr><td>val_f1</td><td>▁▄▆▇▃▄▇▆▆██▇▇▆▇█▆▆▄▆▆▆▆▇▇▇▇▇▆▅█▇█▇▇▇▇▆▆▇</td></tr><tr><td>val_loss_epoch</td><td>█▅▃▂▇▄▁▂▂▁▁▁▂▁▂▁▂▂▄▂▂▃▂▂▂▁▁▂▃▃▁▁▁▂▁▂▁▂▂▂</td></tr><tr><td>val_loss_step</td><td>▄▂▃▃█▆▄▄▅▄▃▃▄▄▄▃▄▄▆▅▃▅▄▅▃▃▃▄▅▆▃▄▃▄▃▄▄▄▄▁</td></tr></table><br/></div><div class=\"wandb-col\"><h3>Run summary:</h3><br/><table class=\"wandb\"><tr><td>epoch</td><td>39</td></tr><tr><td>lr-Adam</td><td>0.005</td></tr><tr><td>train_acc</td><td>0.80673</td></tr><tr><td>train_auc</td><td>0.87591</td></tr><tr><td>train_f1</td><td>0.7907</td></tr><tr><td>train_loss_epoch</td><td>0.45005</td></tr><tr><td>train_loss_step</td><td>0.49235</td></tr><tr><td>trainer/global_step</td><td>559</td></tr><tr><td>val_acc</td><td>0.79302</td></tr><tr><td>val_auc</td><td>0.88203</td></tr><tr><td>val_f1</td><td>0.78133</td></tr><tr><td>val_loss_epoch</td><td>0.42774</td></tr><tr><td>val_loss_step</td><td>0.38602</td></tr></table><br/></div></div>"
      ],
      "text/plain": [
       "<IPython.core.display.HTML object>"
      ]
     },
     "metadata": {},
     "output_type": "display_data"
    },
    {
     "data": {
      "text/html": [
       " View run <strong style=\"color:#cdcd00\">GAT_3_64_onehot_3</strong> at: <a href='https://wandb.ai/thoomas/PLA_13PPI_2D_projected_Kfold/runs/hv3rbk93' target=\"_blank\">https://wandb.ai/thoomas/PLA_13PPI_2D_projected_Kfold/runs/hv3rbk93</a><br/>Synced 6 W&B file(s), 0 media file(s), 0 artifact file(s) and 0 other file(s)"
      ],
      "text/plain": [
       "<IPython.core.display.HTML object>"
      ]
     },
     "metadata": {},
     "output_type": "display_data"
    },
    {
     "data": {
      "text/html": [
       "Find logs at: <code>.\\wandb\\run-20240120_083106-hv3rbk93\\logs</code>"
      ],
      "text/plain": [
       "<IPython.core.display.HTML object>"
      ]
     },
     "metadata": {},
     "output_type": "display_data"
    },
    {
     "data": {
      "text/html": [
       "wandb version 0.16.2 is available!  To upgrade, please run:\n",
       " $ pip install wandb --upgrade"
      ],
      "text/plain": [
       "<IPython.core.display.HTML object>"
      ]
     },
     "metadata": {},
     "output_type": "display_data"
    },
    {
     "data": {
      "text/html": [
       "Tracking run with wandb version 0.15.8"
      ],
      "text/plain": [
       "<IPython.core.display.HTML object>"
      ]
     },
     "metadata": {},
     "output_type": "display_data"
    },
    {
     "data": {
      "text/html": [
       "Run data is saved locally in <code>y:\\coskun-lab\\Thomas\\23_PLA_revision\\notebooks\\wandb\\run-20240120_090458-bu0fc278</code>"
      ],
      "text/plain": [
       "<IPython.core.display.HTML object>"
      ]
     },
     "metadata": {},
     "output_type": "display_data"
    },
    {
     "data": {
      "text/html": [
       "Syncing run <strong><a href='https://wandb.ai/thoomas/PLA_13PPI_2D_projected_Kfold/runs/bu0fc278' target=\"_blank\">GINConv_3_16_onehot_3</a></strong> to <a href='https://wandb.ai/thoomas/PLA_13PPI_2D_projected_Kfold' target=\"_blank\">Weights & Biases</a> (<a href='https://wandb.me/run' target=\"_blank\">docs</a>)<br/>"
      ],
      "text/plain": [
       "<IPython.core.display.HTML object>"
      ]
     },
     "metadata": {},
     "output_type": "display_data"
    },
    {
     "data": {
      "text/html": [
       " View project at <a href='https://wandb.ai/thoomas/PLA_13PPI_2D_projected_Kfold' target=\"_blank\">https://wandb.ai/thoomas/PLA_13PPI_2D_projected_Kfold</a>"
      ],
      "text/plain": [
       "<IPython.core.display.HTML object>"
      ]
     },
     "metadata": {},
     "output_type": "display_data"
    },
    {
     "data": {
      "text/html": [
       " View run at <a href='https://wandb.ai/thoomas/PLA_13PPI_2D_projected_Kfold/runs/bu0fc278' target=\"_blank\">https://wandb.ai/thoomas/PLA_13PPI_2D_projected_Kfold/runs/bu0fc278</a>"
      ],
      "text/plain": [
       "<IPython.core.display.HTML object>"
      ]
     },
     "metadata": {},
     "output_type": "display_data"
    },
    {
     "name": "stderr",
     "output_type": "stream",
     "text": [
      "Global seed set to 42\n",
      "GPU available: True (cuda), used: True\n",
      "TPU available: False, using: 0 TPU cores\n",
      "IPU available: False, using: 0 IPUs\n",
      "HPU available: False, using: 0 HPUs\n",
      "Global seed set to 42\n",
      "c:\\Users\\thu71\\AppData\\Local\\anaconda3\\envs\\scanpy\\Lib\\site-packages\\lightning\\pytorch\\callbacks\\model_checkpoint.py:617: UserWarning: Checkpoint directory \\\\bme-retromaster.ad.gatech.edu\\labs5\\coskun-lab\\Thomas\\23_PLA_revision\\data\\13cyc_3D\\ saved_models_2D_projected\\13PPI_2D_projected\\Graph_GNNs_Kfold\\GINConv_3_16_onehot_3\\mean\\GraphLevelGINConv exists and is not empty.\n",
      "  rank_zero_warn(f\"Checkpoint directory {dirpath} exists and is not empty.\")\n",
      "LOCAL_RANK: 0 - CUDA_VISIBLE_DEVICES: [0]\n",
      "\n",
      "  | Name        | Type             | Params\n",
      "-------------------------------------------------\n",
      "0 | x_embedding | Identity         | 0     \n",
      "1 | model       | GIN              | 1.7 K \n",
      "2 | head        | Sequential       | 154   \n",
      "3 | loss_module | CrossEntropyLoss | 0     \n",
      "4 | train_acc   | BinaryAccuracy   | 0     \n",
      "5 | train_auroc | BinaryAUROC      | 0     \n",
      "6 | train_f1    | BinaryF1Score    | 0     \n",
      "7 | valid_acc   | BinaryAccuracy   | 0     \n",
      "8 | valid_auroc | BinaryAUROC      | 0     \n",
      "9 | valid_f1    | BinaryF1Score    | 0     \n",
      "-------------------------------------------------\n",
      "1.9 K     Trainable params\n",
      "0         Non-trainable params\n",
      "1.9 K     Total params\n",
      "0.008     Total estimated model params size (MB)\n"
     ]
    },
    {
     "name": "stdout",
     "output_type": "stream",
     "text": [
      "GINConv\n"
     ]
    },
    {
     "name": "stderr",
     "output_type": "stream",
     "text": [
      "`Trainer.fit` stopped: `max_epochs=40` reached.\n"
     ]
    },
    {
     "data": {
      "text/html": [
       "Waiting for W&B process to finish... <strong style=\"color:green\">(success).</strong>"
      ],
      "text/plain": [
       "<IPython.core.display.HTML object>"
      ]
     },
     "metadata": {},
     "output_type": "display_data"
    },
    {
     "data": {
      "text/html": [
       "<style>\n",
       "    table.wandb td:nth-child(1) { padding: 0 10px; text-align: left ; width: auto;} td:nth-child(2) {text-align: left ; width: 100%}\n",
       "    .wandb-row { display: flex; flex-direction: row; flex-wrap: wrap; justify-content: flex-start; width: 100% }\n",
       "    .wandb-col { display: flex; flex-direction: column; flex-basis: 100%; flex: 1; padding: 10px; }\n",
       "    </style>\n",
       "<div class=\"wandb-row\"><div class=\"wandb-col\"><h3>Run history:</h3><br/><table class=\"wandb\"><tr><td>epoch</td><td>▁▁▁▂▂▂▂▂▂▃▃▃▃▃▄▄▄▄▄▄▅▅▅▅▅▅▆▆▆▆▆▇▇▇▇▇▇███</td></tr><tr><td>lr-Adam</td><td>▁▁▁▁▁▁▁▁▁▁▁▁▁▁▁▁▁▁▁▁▁▁▁▁▁▁▁▁▁▁▁▁▁▁▁▁▁▁▁▁</td></tr><tr><td>train_acc</td><td>▁▄▅▆▆▆▆▆▆▆▆▇▇▇▆▇▇▇▇▇▇▇▇▇▇▇▇▇▇▇██▇▇███▇▇█</td></tr><tr><td>train_auc</td><td>▁▄▅▆▆▇▆▇▇▇▇▇▇▇▇▇▇▇▇▇▇█▇▇▇▇███████████▇██</td></tr><tr><td>train_f1</td><td>▁▅▆▆▆▇▇▇▇▇▇▇▇▇▇▇▇▇▇▇▇█▇▇▇█▇██▇██▇▇███▇▇█</td></tr><tr><td>train_loss_epoch</td><td>█▆▅▄▄▃▄▃▃▃▃▂▂▂▃▃▂▂▃▂▂▂▂▂▂▂▂▂▂▂▂▂▂▂▂▁▁▂▁▁</td></tr><tr><td>train_loss_step</td><td>█▇▆▄▆▅▃▅▇▅▂▅▂▄▅▄▄▃▃▃▂▃▃▄▇▃▄▃▁▄▃▂▄▄▂▁▂▃▂▁</td></tr><tr><td>trainer/global_step</td><td>▁▁▁▁▂▂▂▂▁▁▂▂▂▂▄▄▂▂▂▂▂▂▂▂▂▂▂▂▂▂▃▃▇▇▃▃▃▃▃█</td></tr><tr><td>val_acc</td><td>▁▃▃▄▄▆▅▆▇▇▇▇▆▇▅▇▇▆▇▇▇▇▄▇█▇▆▆▇▇█▆▇▇▅▆█▅▇▇</td></tr><tr><td>val_auc</td><td>▁▇▇▆▇▇▇▇▇▇▇▇▇▇▇██▇██████████▇▇█▇██▇▇████</td></tr><tr><td>val_f1</td><td>▁▃▂▃▄▆▄▆▆▇▇▆▅▆▅▆▇▆▇▆▇▆▄▇▇█▆▆▆▇▇▆▇▇▅▆█▅▇▆</td></tr><tr><td>val_loss_epoch</td><td>█▅▅▄▄▃▃▃▃▃▃▃▂▂▄▂▂▂▂▂▂▂▄▁▂▁▂▂▂▂▁▂▂▂▃▃▁▃▂▂</td></tr><tr><td>val_loss_step</td><td>▇██▆▇▅▆▅▆▅▅▅▆▅▆▄▄▆▅▄▅▄▇▄▃▅▅▆▅▅▅▅▅▅▇▆▄▇▅▁</td></tr></table><br/></div><div class=\"wandb-col\"><h3>Run summary:</h3><br/><table class=\"wandb\"><tr><td>epoch</td><td>39</td></tr><tr><td>lr-Adam</td><td>0.005</td></tr><tr><td>train_acc</td><td>0.84794</td></tr><tr><td>train_auc</td><td>0.91507</td></tr><tr><td>train_f1</td><td>0.8346</td></tr><tr><td>train_loss_epoch</td><td>0.3694</td></tr><tr><td>train_loss_step</td><td>0.31996</td></tr><tr><td>trainer/global_step</td><td>559</td></tr><tr><td>val_acc</td><td>0.82791</td></tr><tr><td>val_auc</td><td>0.91279</td></tr><tr><td>val_f1</td><td>0.81122</td></tr><tr><td>val_loss_epoch</td><td>0.36104</td></tr><tr><td>val_loss_step</td><td>0.25601</td></tr></table><br/></div></div>"
      ],
      "text/plain": [
       "<IPython.core.display.HTML object>"
      ]
     },
     "metadata": {},
     "output_type": "display_data"
    },
    {
     "data": {
      "text/html": [
       " View run <strong style=\"color:#cdcd00\">GINConv_3_16_onehot_3</strong> at: <a href='https://wandb.ai/thoomas/PLA_13PPI_2D_projected_Kfold/runs/bu0fc278' target=\"_blank\">https://wandb.ai/thoomas/PLA_13PPI_2D_projected_Kfold/runs/bu0fc278</a><br/>Synced 6 W&B file(s), 0 media file(s), 0 artifact file(s) and 0 other file(s)"
      ],
      "text/plain": [
       "<IPython.core.display.HTML object>"
      ]
     },
     "metadata": {},
     "output_type": "display_data"
    },
    {
     "data": {
      "text/html": [
       "Find logs at: <code>.\\wandb\\run-20240120_090458-bu0fc278\\logs</code>"
      ],
      "text/plain": [
       "<IPython.core.display.HTML object>"
      ]
     },
     "metadata": {},
     "output_type": "display_data"
    },
    {
     "data": {
      "application/vnd.jupyter.widget-view+json": {
       "model_id": "7be2d462390f4823bc0f1e1a9b2c4bae",
       "version_major": 2,
       "version_minor": 0
      },
      "text/plain": [
       "VBox(children=(Label(value='Waiting for wandb.init()...\\r'), FloatProgress(value=0.016666666666666666, max=1.0…"
      ]
     },
     "metadata": {},
     "output_type": "display_data"
    },
    {
     "data": {
      "text/html": [
       "wandb version 0.16.2 is available!  To upgrade, please run:\n",
       " $ pip install wandb --upgrade"
      ],
      "text/plain": [
       "<IPython.core.display.HTML object>"
      ]
     },
     "metadata": {},
     "output_type": "display_data"
    },
    {
     "data": {
      "text/html": [
       "Tracking run with wandb version 0.15.8"
      ],
      "text/plain": [
       "<IPython.core.display.HTML object>"
      ]
     },
     "metadata": {},
     "output_type": "display_data"
    },
    {
     "data": {
      "text/html": [
       "Run data is saved locally in <code>y:\\coskun-lab\\Thomas\\23_PLA_revision\\notebooks\\wandb\\run-20240120_093824-e56ylu2j</code>"
      ],
      "text/plain": [
       "<IPython.core.display.HTML object>"
      ]
     },
     "metadata": {},
     "output_type": "display_data"
    },
    {
     "data": {
      "text/html": [
       "Syncing run <strong><a href='https://wandb.ai/thoomas/PLA_13PPI_2D_projected_Kfold/runs/e56ylu2j' target=\"_blank\">MLP_2_64_onehot_4</a></strong> to <a href='https://wandb.ai/thoomas/PLA_13PPI_2D_projected_Kfold' target=\"_blank\">Weights & Biases</a> (<a href='https://wandb.me/run' target=\"_blank\">docs</a>)<br/>"
      ],
      "text/plain": [
       "<IPython.core.display.HTML object>"
      ]
     },
     "metadata": {},
     "output_type": "display_data"
    },
    {
     "data": {
      "text/html": [
       " View project at <a href='https://wandb.ai/thoomas/PLA_13PPI_2D_projected_Kfold' target=\"_blank\">https://wandb.ai/thoomas/PLA_13PPI_2D_projected_Kfold</a>"
      ],
      "text/plain": [
       "<IPython.core.display.HTML object>"
      ]
     },
     "metadata": {},
     "output_type": "display_data"
    },
    {
     "data": {
      "text/html": [
       " View run at <a href='https://wandb.ai/thoomas/PLA_13PPI_2D_projected_Kfold/runs/e56ylu2j' target=\"_blank\">https://wandb.ai/thoomas/PLA_13PPI_2D_projected_Kfold/runs/e56ylu2j</a>"
      ],
      "text/plain": [
       "<IPython.core.display.HTML object>"
      ]
     },
     "metadata": {},
     "output_type": "display_data"
    },
    {
     "name": "stderr",
     "output_type": "stream",
     "text": [
      "Global seed set to 42\n",
      "GPU available: True (cuda), used: True\n",
      "TPU available: False, using: 0 TPU cores\n",
      "IPU available: False, using: 0 IPUs\n",
      "HPU available: False, using: 0 HPUs\n",
      "Global seed set to 42\n",
      "c:\\Users\\thu71\\AppData\\Local\\anaconda3\\envs\\scanpy\\Lib\\site-packages\\lightning\\pytorch\\callbacks\\model_checkpoint.py:617: UserWarning: Checkpoint directory \\\\bme-retromaster.ad.gatech.edu\\labs5\\coskun-lab\\Thomas\\23_PLA_revision\\data\\13cyc_3D\\ saved_models_2D_projected\\13PPI_2D_projected\\Graph_GNNs_Kfold\\MLP_2_64_onehot_4\\attention\\GraphLevelMLP exists and is not empty.\n",
      "  rank_zero_warn(f\"Checkpoint directory {dirpath} exists and is not empty.\")\n",
      "LOCAL_RANK: 0 - CUDA_VISIBLE_DEVICES: [0]\n",
      "\n",
      "   | Name        | Type             | Params\n",
      "--------------------------------------------------\n",
      "0  | x_embedding | Identity         | 0     \n",
      "1  | model       | MLPModel         | 5.1 K \n",
      "2  | head        | Sequential       | 2.1 K \n",
      "3  | loss_module | CrossEntropyLoss | 0     \n",
      "4  | train_acc   | BinaryAccuracy   | 0     \n",
      "5  | train_auroc | BinaryAUROC      | 0     \n",
      "6  | train_f1    | BinaryF1Score    | 0     \n",
      "7  | valid_acc   | BinaryAccuracy   | 0     \n",
      "8  | valid_auroc | BinaryAUROC      | 0     \n",
      "9  | valid_f1    | BinaryF1Score    | 0     \n",
      "10 | pool        | GlobalAttention  | 65    \n",
      "--------------------------------------------------\n",
      "7.3 K     Trainable params\n",
      "0         Non-trainable params\n",
      "7.3 K     Total params\n",
      "0.029     Total estimated model params size (MB)\n"
     ]
    },
    {
     "name": "stdout",
     "output_type": "stream",
     "text": [
      "Using MLP\n"
     ]
    },
    {
     "name": "stderr",
     "output_type": "stream",
     "text": [
      "`Trainer.fit` stopped: `max_epochs=40` reached.\n"
     ]
    },
    {
     "data": {
      "text/html": [
       "Waiting for W&B process to finish... <strong style=\"color:green\">(success).</strong>"
      ],
      "text/plain": [
       "<IPython.core.display.HTML object>"
      ]
     },
     "metadata": {},
     "output_type": "display_data"
    },
    {
     "data": {
      "text/html": [
       "<style>\n",
       "    table.wandb td:nth-child(1) { padding: 0 10px; text-align: left ; width: auto;} td:nth-child(2) {text-align: left ; width: 100%}\n",
       "    .wandb-row { display: flex; flex-direction: row; flex-wrap: wrap; justify-content: flex-start; width: 100% }\n",
       "    .wandb-col { display: flex; flex-direction: column; flex-basis: 100%; flex: 1; padding: 10px; }\n",
       "    </style>\n",
       "<div class=\"wandb-row\"><div class=\"wandb-col\"><h3>Run history:</h3><br/><table class=\"wandb\"><tr><td>epoch</td><td>▁▁▁▂▂▂▂▂▂▃▃▃▃▃▄▄▄▄▄▄▅▅▅▅▅▅▆▆▆▆▆▇▇▇▇▇▇███</td></tr><tr><td>lr-Adam</td><td>▁▁▁▁▁▁▁▁▁▁▁▁▁▁▁▁▁▁▁▁▁▁▁▁▁▁▁▁▁▁▁▁▁▁▁▁▁▁▁▁</td></tr><tr><td>train_acc</td><td>▁▄▆▇▇▇█▇███▇██▇▇▇▇███████▇██████████████</td></tr><tr><td>train_auc</td><td>▁▄▇▇▇███████████████████████████████████</td></tr><tr><td>train_f1</td><td>▁▄▇▇▇▇████████▇█████████████████████████</td></tr><tr><td>train_loss_epoch</td><td>█▆▃▄▂▂▂▂▁▁▂▂▂▁▂▂▂▂▂▁▁▂▁▁▂▁▁▁▂▂▁▁▁▁▁▁▁▁▂▂</td></tr><tr><td>train_loss_step</td><td>█▇▅▃▄▁▄▂▃▃▃▅▃▄▁▂▄▁▃▃▂▂▂▃▁▃▂▄▄▃▂▃▃▂▃▄▂▂▃▃</td></tr><tr><td>trainer/global_step</td><td>▁▁▁▁▂▂▂▂▁▁▂▂▂▂▄▄▂▂▂▂▂▂▂▂▂▂▂▂▂▂▃▃▇▇▃▃▃▃▃█</td></tr><tr><td>val_acc</td><td>▁▆█▆▆█▆█▇▇█▇▇█▇█▇▇██▇▇▇▇███▇▇▇▇▇██▇█▇██▆</td></tr><tr><td>val_auc</td><td>▁▃▄▅▅▅▆▆▇▇▇▇▇▇▇▇████▇█████▇█████▇████▇▇█</td></tr><tr><td>val_f1</td><td>▁▇█▇▇█▇█▇▇█▇▇█▇██▇███▇▇▇███▇▇▇▇▇██▇█▇██▆</td></tr><tr><td>val_loss_epoch</td><td>█▄▂▄▃▁▄▁▃▂▁▃▂▁▃▁▂▃▁▁▂▂▂▂▁▁▁▂▂▃▂▂▁▁▂▁▂▁▁▄</td></tr><tr><td>val_loss_step</td><td>▄▃▇▁▂▅▁▅▂▃▃▁▂▆▁▆▃▂▃▃█▂▂▁▃▄▃▂▂▁▂▂▄▃▂▄▂▃▃▆</td></tr></table><br/></div><div class=\"wandb-col\"><h3>Run summary:</h3><br/><table class=\"wandb\"><tr><td>epoch</td><td>39</td></tr><tr><td>lr-Adam</td><td>0.005</td></tr><tr><td>train_acc</td><td>0.77365</td></tr><tr><td>train_auc</td><td>0.84195</td></tr><tr><td>train_f1</td><td>0.74206</td></tr><tr><td>train_loss_epoch</td><td>0.49496</td></tr><tr><td>train_loss_step</td><td>0.49185</td></tr><tr><td>trainer/global_step</td><td>559</td></tr><tr><td>val_acc</td><td>0.70233</td></tr><tr><td>val_auc</td><td>0.84589</td></tr><tr><td>val_f1</td><td>0.6213</td></tr><tr><td>val_loss_epoch</td><td>0.5754</td></tr><tr><td>val_loss_step</td><td>0.71903</td></tr></table><br/></div></div>"
      ],
      "text/plain": [
       "<IPython.core.display.HTML object>"
      ]
     },
     "metadata": {},
     "output_type": "display_data"
    },
    {
     "data": {
      "text/html": [
       " View run <strong style=\"color:#cdcd00\">MLP_2_64_onehot_4</strong> at: <a href='https://wandb.ai/thoomas/PLA_13PPI_2D_projected_Kfold/runs/e56ylu2j' target=\"_blank\">https://wandb.ai/thoomas/PLA_13PPI_2D_projected_Kfold/runs/e56ylu2j</a><br/>Synced 6 W&B file(s), 0 media file(s), 0 artifact file(s) and 0 other file(s)"
      ],
      "text/plain": [
       "<IPython.core.display.HTML object>"
      ]
     },
     "metadata": {},
     "output_type": "display_data"
    },
    {
     "data": {
      "text/html": [
       "Find logs at: <code>.\\wandb\\run-20240120_093824-e56ylu2j\\logs</code>"
      ],
      "text/plain": [
       "<IPython.core.display.HTML object>"
      ]
     },
     "metadata": {},
     "output_type": "display_data"
    },
    {
     "data": {
      "application/vnd.jupyter.widget-view+json": {
       "model_id": "0ed61f9dfeb043718e9cb636b8a286bd",
       "version_major": 2,
       "version_minor": 0
      },
      "text/plain": [
       "VBox(children=(Label(value='Waiting for wandb.init()...\\r'), FloatProgress(value=0.016916666666899498, max=1.0…"
      ]
     },
     "metadata": {},
     "output_type": "display_data"
    },
    {
     "data": {
      "text/html": [
       "wandb version 0.16.2 is available!  To upgrade, please run:\n",
       " $ pip install wandb --upgrade"
      ],
      "text/plain": [
       "<IPython.core.display.HTML object>"
      ]
     },
     "metadata": {},
     "output_type": "display_data"
    },
    {
     "data": {
      "text/html": [
       "Tracking run with wandb version 0.15.8"
      ],
      "text/plain": [
       "<IPython.core.display.HTML object>"
      ]
     },
     "metadata": {},
     "output_type": "display_data"
    },
    {
     "data": {
      "text/html": [
       "Run data is saved locally in <code>y:\\coskun-lab\\Thomas\\23_PLA_revision\\notebooks\\wandb\\run-20240120_100946-chtyjyed</code>"
      ],
      "text/plain": [
       "<IPython.core.display.HTML object>"
      ]
     },
     "metadata": {},
     "output_type": "display_data"
    },
    {
     "data": {
      "text/html": [
       "Syncing run <strong><a href='https://wandb.ai/thoomas/PLA_13PPI_2D_projected_Kfold/runs/chtyjyed' target=\"_blank\">GraphConv_2_16_onehot_4</a></strong> to <a href='https://wandb.ai/thoomas/PLA_13PPI_2D_projected_Kfold' target=\"_blank\">Weights & Biases</a> (<a href='https://wandb.me/run' target=\"_blank\">docs</a>)<br/>"
      ],
      "text/plain": [
       "<IPython.core.display.HTML object>"
      ]
     },
     "metadata": {},
     "output_type": "display_data"
    },
    {
     "data": {
      "text/html": [
       " View project at <a href='https://wandb.ai/thoomas/PLA_13PPI_2D_projected_Kfold' target=\"_blank\">https://wandb.ai/thoomas/PLA_13PPI_2D_projected_Kfold</a>"
      ],
      "text/plain": [
       "<IPython.core.display.HTML object>"
      ]
     },
     "metadata": {},
     "output_type": "display_data"
    },
    {
     "data": {
      "text/html": [
       " View run at <a href='https://wandb.ai/thoomas/PLA_13PPI_2D_projected_Kfold/runs/chtyjyed' target=\"_blank\">https://wandb.ai/thoomas/PLA_13PPI_2D_projected_Kfold/runs/chtyjyed</a>"
      ],
      "text/plain": [
       "<IPython.core.display.HTML object>"
      ]
     },
     "metadata": {},
     "output_type": "display_data"
    },
    {
     "name": "stderr",
     "output_type": "stream",
     "text": [
      "Global seed set to 42\n",
      "GPU available: True (cuda), used: True\n",
      "TPU available: False, using: 0 TPU cores\n",
      "IPU available: False, using: 0 IPUs\n",
      "HPU available: False, using: 0 HPUs\n",
      "Global seed set to 42\n",
      "c:\\Users\\thu71\\AppData\\Local\\anaconda3\\envs\\scanpy\\Lib\\site-packages\\lightning\\pytorch\\callbacks\\model_checkpoint.py:617: UserWarning: Checkpoint directory \\\\bme-retromaster.ad.gatech.edu\\labs5\\coskun-lab\\Thomas\\23_PLA_revision\\data\\13cyc_3D\\ saved_models_2D_projected\\13PPI_2D_projected\\Graph_GNNs_Kfold\\GraphConv_2_16_onehot_4\\attention\\GraphLevelGraphConv exists and is not empty.\n",
      "  rank_zero_warn(f\"Checkpoint directory {dirpath} exists and is not empty.\")\n",
      "LOCAL_RANK: 0 - CUDA_VISIBLE_DEVICES: [0]\n",
      "\n",
      "   | Name        | Type             | Params\n",
      "--------------------------------------------------\n",
      "0  | x_embedding | Identity         | 0     \n",
      "1  | model       | GNNModel         | 992   \n",
      "2  | head        | Sequential       | 154   \n",
      "3  | loss_module | CrossEntropyLoss | 0     \n",
      "4  | train_acc   | BinaryAccuracy   | 0     \n",
      "5  | train_auroc | BinaryAUROC      | 0     \n",
      "6  | train_f1    | BinaryF1Score    | 0     \n",
      "7  | valid_acc   | BinaryAccuracy   | 0     \n",
      "8  | valid_auroc | BinaryAUROC      | 0     \n",
      "9  | valid_f1    | BinaryF1Score    | 0     \n",
      "10 | pool        | GlobalAttention  | 17    \n",
      "--------------------------------------------------\n",
      "1.2 K     Trainable params\n",
      "0         Non-trainable params\n",
      "1.2 K     Total params\n",
      "0.005     Total estimated model params size (MB)\n"
     ]
    },
    {
     "name": "stdout",
     "output_type": "stream",
     "text": [
      "Using GNN\n"
     ]
    },
    {
     "name": "stderr",
     "output_type": "stream",
     "text": [
      "`Trainer.fit` stopped: `max_epochs=40` reached.\n"
     ]
    },
    {
     "data": {
      "text/html": [
       "Waiting for W&B process to finish... <strong style=\"color:green\">(success).</strong>"
      ],
      "text/plain": [
       "<IPython.core.display.HTML object>"
      ]
     },
     "metadata": {},
     "output_type": "display_data"
    },
    {
     "data": {
      "text/html": [
       "<style>\n",
       "    table.wandb td:nth-child(1) { padding: 0 10px; text-align: left ; width: auto;} td:nth-child(2) {text-align: left ; width: 100%}\n",
       "    .wandb-row { display: flex; flex-direction: row; flex-wrap: wrap; justify-content: flex-start; width: 100% }\n",
       "    .wandb-col { display: flex; flex-direction: column; flex-basis: 100%; flex: 1; padding: 10px; }\n",
       "    </style>\n",
       "<div class=\"wandb-row\"><div class=\"wandb-col\"><h3>Run history:</h3><br/><table class=\"wandb\"><tr><td>epoch</td><td>▁▁▁▂▂▂▂▂▂▃▃▃▃▃▄▄▄▄▄▄▅▅▅▅▅▅▆▆▆▆▆▇▇▇▇▇▇███</td></tr><tr><td>lr-Adam</td><td>▁▁▁▁▁▁▁▁▁▁▁▁▁▁▁▁▁▁▁▁▁▁▁▁▁▁▁▁▁▁▁▁▁▁▁▁▁▁▁▁</td></tr><tr><td>train_acc</td><td>▁▅▆▇▆▆▇▇▇▇▇▇▇█▇█▇███████████████████████</td></tr><tr><td>train_auc</td><td>▁▅▆▆▆▆▇▇▇▇▇▇▇▇▇▇▇▇██▇███████████████████</td></tr><tr><td>train_f1</td><td>▁▃▅▅▅▅▅▆▇▇▇▇▆▇▆▇▇▇▇▇▇▇▇▇▇▇▇▇███▇███████▇</td></tr><tr><td>train_loss_epoch</td><td>█▅▃▃▃▃▃▃▃▂▂▂▂▂▂▂▂▂▂▂▂▁▂▂▂▂▂▁▁▁▁▂▁▂▁▁▁▁▁▁</td></tr><tr><td>train_loss_step</td><td>█▇▄▅▄▄▃▄▃▄▄▃▄▄▂▃▆▃▄▂▃▂▄▅▃▃▂▂▂▃▁▄▃▆▂▄▇▂▂▂</td></tr><tr><td>trainer/global_step</td><td>▁▁▁▁▂▂▂▂▁▁▂▂▂▂▄▄▂▂▂▂▂▂▂▂▂▂▂▂▂▂▃▃▇▇▃▃▃▃▃█</td></tr><tr><td>val_acc</td><td>▁▅▅▅▆▆▆▆▆▆▇▆▇▇▇▇▇▇▇▇▇▇▇▇▇▇▇▇▇▇▇████▇▇▇█▇</td></tr><tr><td>val_auc</td><td>▁▂▃▃▄▃▅▅▅▆▆▅▆▆▇▆▇▇▇▇▇▇▅▇▇▇▇▇▇▆▇█████▇█▇▇</td></tr><tr><td>val_f1</td><td>▁▄▃▁▂▆▃▃▄▄▄▆▅▄▆▆▇▆▇▇▇▇▇▆▆▆▆▇▇▇█▆▇█▇▇▇▇██</td></tr><tr><td>val_loss_epoch</td><td>█▅▄▄▄▄▄▄▃▃▃▂▃▃▂▂▂▂▁▂▂▂▃▂▂▃▂▂▁▂▂▂▂▂▁▁▂▂▁▁</td></tr><tr><td>val_loss_step</td><td>█▇▆▅▅▇▅▅▅▅▄▆▅▄▄▆▅▄▅▅▅▅█▅▄▄▄▅▆▇▅▄▄▄▅▆▆▅▅▁</td></tr></table><br/></div><div class=\"wandb-col\"><h3>Run summary:</h3><br/><table class=\"wandb\"><tr><td>epoch</td><td>39</td></tr><tr><td>lr-Adam</td><td>0.005</td></tr><tr><td>train_acc</td><td>0.82066</td></tr><tr><td>train_auc</td><td>0.88334</td></tr><tr><td>train_f1</td><td>0.7955</td></tr><tr><td>train_loss_epoch</td><td>0.41968</td></tr><tr><td>train_loss_step</td><td>0.38926</td></tr><tr><td>trainer/global_step</td><td>559</td></tr><tr><td>val_acc</td><td>0.79535</td></tr><tr><td>val_auc</td><td>0.86989</td></tr><tr><td>val_f1</td><td>0.80444</td></tr><tr><td>val_loss_epoch</td><td>0.44081</td></tr><tr><td>val_loss_step</td><td>0.29763</td></tr></table><br/></div></div>"
      ],
      "text/plain": [
       "<IPython.core.display.HTML object>"
      ]
     },
     "metadata": {},
     "output_type": "display_data"
    },
    {
     "data": {
      "text/html": [
       " View run <strong style=\"color:#cdcd00\">GraphConv_2_16_onehot_4</strong> at: <a href='https://wandb.ai/thoomas/PLA_13PPI_2D_projected_Kfold/runs/chtyjyed' target=\"_blank\">https://wandb.ai/thoomas/PLA_13PPI_2D_projected_Kfold/runs/chtyjyed</a><br/>Synced 6 W&B file(s), 0 media file(s), 0 artifact file(s) and 0 other file(s)"
      ],
      "text/plain": [
       "<IPython.core.display.HTML object>"
      ]
     },
     "metadata": {},
     "output_type": "display_data"
    },
    {
     "data": {
      "text/html": [
       "Find logs at: <code>.\\wandb\\run-20240120_100946-chtyjyed\\logs</code>"
      ],
      "text/plain": [
       "<IPython.core.display.HTML object>"
      ]
     },
     "metadata": {},
     "output_type": "display_data"
    },
    {
     "data": {
      "application/vnd.jupyter.widget-view+json": {
       "model_id": "caa27f972ea54ec0ad0f7fdd6eea1c64",
       "version_major": 2,
       "version_minor": 0
      },
      "text/plain": [
       "VBox(children=(Label(value='Waiting for wandb.init()...\\r'), FloatProgress(value=0.01693333333338766, max=1.0)…"
      ]
     },
     "metadata": {},
     "output_type": "display_data"
    },
    {
     "data": {
      "text/html": [
       "wandb version 0.16.2 is available!  To upgrade, please run:\n",
       " $ pip install wandb --upgrade"
      ],
      "text/plain": [
       "<IPython.core.display.HTML object>"
      ]
     },
     "metadata": {},
     "output_type": "display_data"
    },
    {
     "data": {
      "text/html": [
       "Tracking run with wandb version 0.15.8"
      ],
      "text/plain": [
       "<IPython.core.display.HTML object>"
      ]
     },
     "metadata": {},
     "output_type": "display_data"
    },
    {
     "data": {
      "text/html": [
       "Run data is saved locally in <code>y:\\coskun-lab\\Thomas\\23_PLA_revision\\notebooks\\wandb\\run-20240120_104213-rq4jao3k</code>"
      ],
      "text/plain": [
       "<IPython.core.display.HTML object>"
      ]
     },
     "metadata": {},
     "output_type": "display_data"
    },
    {
     "data": {
      "text/html": [
       "Syncing run <strong><a href='https://wandb.ai/thoomas/PLA_13PPI_2D_projected_Kfold/runs/rq4jao3k' target=\"_blank\">GCN_2_64_onehot_4</a></strong> to <a href='https://wandb.ai/thoomas/PLA_13PPI_2D_projected_Kfold' target=\"_blank\">Weights & Biases</a> (<a href='https://wandb.me/run' target=\"_blank\">docs</a>)<br/>"
      ],
      "text/plain": [
       "<IPython.core.display.HTML object>"
      ]
     },
     "metadata": {},
     "output_type": "display_data"
    },
    {
     "data": {
      "text/html": [
       " View project at <a href='https://wandb.ai/thoomas/PLA_13PPI_2D_projected_Kfold' target=\"_blank\">https://wandb.ai/thoomas/PLA_13PPI_2D_projected_Kfold</a>"
      ],
      "text/plain": [
       "<IPython.core.display.HTML object>"
      ]
     },
     "metadata": {},
     "output_type": "display_data"
    },
    {
     "data": {
      "text/html": [
       " View run at <a href='https://wandb.ai/thoomas/PLA_13PPI_2D_projected_Kfold/runs/rq4jao3k' target=\"_blank\">https://wandb.ai/thoomas/PLA_13PPI_2D_projected_Kfold/runs/rq4jao3k</a>"
      ],
      "text/plain": [
       "<IPython.core.display.HTML object>"
      ]
     },
     "metadata": {},
     "output_type": "display_data"
    },
    {
     "name": "stderr",
     "output_type": "stream",
     "text": [
      "Global seed set to 42\n",
      "GPU available: True (cuda), used: True\n",
      "TPU available: False, using: 0 TPU cores\n",
      "IPU available: False, using: 0 IPUs\n",
      "HPU available: False, using: 0 HPUs\n",
      "Global seed set to 42\n",
      "c:\\Users\\thu71\\AppData\\Local\\anaconda3\\envs\\scanpy\\Lib\\site-packages\\lightning\\pytorch\\callbacks\\model_checkpoint.py:617: UserWarning: Checkpoint directory \\\\bme-retromaster.ad.gatech.edu\\labs5\\coskun-lab\\Thomas\\23_PLA_revision\\data\\13cyc_3D\\ saved_models_2D_projected\\13PPI_2D_projected\\Graph_GNNs_Kfold\\GCN_2_64_onehot_4\\attention2\\GraphLevelGCN exists and is not empty.\n",
      "  rank_zero_warn(f\"Checkpoint directory {dirpath} exists and is not empty.\")\n",
      "LOCAL_RANK: 0 - CUDA_VISIBLE_DEVICES: [0]\n",
      "\n",
      "   | Name        | Type             | Params\n",
      "--------------------------------------------------\n",
      "0  | x_embedding | Identity         | 0     \n",
      "1  | model       | GNNModel         | 5.2 K \n",
      "2  | head        | Sequential       | 2.1 K \n",
      "3  | loss_module | CrossEntropyLoss | 0     \n",
      "4  | train_acc   | BinaryAccuracy   | 0     \n",
      "5  | train_auroc | BinaryAUROC      | 0     \n",
      "6  | train_f1    | BinaryF1Score    | 0     \n",
      "7  | valid_acc   | BinaryAccuracy   | 0     \n",
      "8  | valid_auroc | BinaryAUROC      | 0     \n",
      "9  | valid_f1    | BinaryF1Score    | 0     \n",
      "10 | pool        | Attention_module | 4.2 K \n",
      "--------------------------------------------------\n",
      "11.5 K    Trainable params\n",
      "0         Non-trainable params\n",
      "11.5 K    Total params\n",
      "0.046     Total estimated model params size (MB)\n"
     ]
    },
    {
     "name": "stdout",
     "output_type": "stream",
     "text": [
      "Using GNN\n"
     ]
    },
    {
     "name": "stderr",
     "output_type": "stream",
     "text": [
      "`Trainer.fit` stopped: `max_epochs=40` reached.\n"
     ]
    },
    {
     "data": {
      "text/html": [
       "Waiting for W&B process to finish... <strong style=\"color:green\">(success).</strong>"
      ],
      "text/plain": [
       "<IPython.core.display.HTML object>"
      ]
     },
     "metadata": {},
     "output_type": "display_data"
    },
    {
     "data": {
      "text/html": [
       "<style>\n",
       "    table.wandb td:nth-child(1) { padding: 0 10px; text-align: left ; width: auto;} td:nth-child(2) {text-align: left ; width: 100%}\n",
       "    .wandb-row { display: flex; flex-direction: row; flex-wrap: wrap; justify-content: flex-start; width: 100% }\n",
       "    .wandb-col { display: flex; flex-direction: column; flex-basis: 100%; flex: 1; padding: 10px; }\n",
       "    </style>\n",
       "<div class=\"wandb-row\"><div class=\"wandb-col\"><h3>Run history:</h3><br/><table class=\"wandb\"><tr><td>epoch</td><td>▁▁▁▂▂▂▂▂▂▃▃▃▃▃▄▄▄▄▄▄▅▅▅▅▅▅▆▆▆▆▆▇▇▇▇▇▇███</td></tr><tr><td>lr-Adam</td><td>▁▁▁▁▁▁▁▁▁▁▁▁▁▁▁▁▁▁▁▁▁▁▁▁▁▁▁▁▁▁▁▁▁▁▁▁▁▁▁▁</td></tr><tr><td>train_acc</td><td>▁▄▅▅▆▅▆▆▇▆▇▇▆▇▇▇▆▇▇▇▇▇▇▇▆▇▇▇▇▇▇▇█▇▇▇▇█▇█</td></tr><tr><td>train_auc</td><td>▁▄▅▅▆▆▆▆▇▆▇▇▇▇▇▇▇▇▇▇▇▇▇▇▇▇▇▇▇▇▇███▇▇████</td></tr><tr><td>train_f1</td><td>▁▅▅▅▆▆▆▆▇▇▇▇▆▇▇▇▆▇▇▇▇▇▇▇▆█▇▇▇▇▇▇█▇▇▇▇█▇█</td></tr><tr><td>train_loss_epoch</td><td>█▅▄▄▃▄▃▃▃▃▂▃▂▂▂▂▃▂▂▂▂▂▂▂▂▂▂▂▂▁▂▁▁▁▂▂▁▁▁▁</td></tr><tr><td>train_loss_step</td><td>▅▅▆▆▆▆▅▅▄▅▄▄█▅▂▅▅▅▄▅▅▆▅▅▄▇▇▄▃▆▂▃▁▇▅▅▂▂▃▆</td></tr><tr><td>trainer/global_step</td><td>▁▁▁▁▂▂▂▂▁▁▂▂▂▂▄▄▂▂▂▂▂▂▂▂▂▂▂▂▂▂▃▃▇▇▃▃▃▃▃█</td></tr><tr><td>val_acc</td><td>▁▂▇▅▇▇▆▇▇███▇▆█▇▆▆▆▇▇▇▇▇▇▇▇▇▇█▇▇▇▇▇█▇█▅█</td></tr><tr><td>val_auc</td><td>▁▂▃▂▄▅▅▆▆▇▇█▅▆▇▆▇▆▆▆▆▅▇▇█▇▆█▇▇▇█▇█▇█▇█▅▇</td></tr><tr><td>val_f1</td><td>▁▂█▆▇▇▇▇█████▇██▆▆▆█▇▇▇███████████▇█▇█▇█</td></tr><tr><td>val_loss_epoch</td><td>█▇▃▄▂▂▃▂▁▂▁▁▁▃▁▁▃▅▅▁▂▂▃▁▁▂▁▁▁▃▁▁▁▁▂▁▃▂▂▂</td></tr><tr><td>val_loss_step</td><td>▅▄▆▄▅▄▄▄▆▅▆▄▇▃▇▇▃▃▃▅▅▅▄▄▇▅▅▄▆▄▄▅▅█▅▅▃▅█▁</td></tr></table><br/></div><div class=\"wandb-col\"><h3>Run summary:</h3><br/><table class=\"wandb\"><tr><td>epoch</td><td>39</td></tr><tr><td>lr-Adam</td><td>0.005</td></tr><tr><td>train_acc</td><td>0.83633</td></tr><tr><td>train_auc</td><td>0.90095</td></tr><tr><td>train_f1</td><td>0.819</td></tr><tr><td>train_loss_epoch</td><td>0.4028</td></tr><tr><td>train_loss_step</td><td>0.45279</td></tr><tr><td>trainer/global_step</td><td>559</td></tr><tr><td>val_acc</td><td>0.80465</td></tr><tr><td>val_auc</td><td>0.87024</td></tr><tr><td>val_f1</td><td>0.7931</td></tr><tr><td>val_loss_epoch</td><td>0.44818</td></tr><tr><td>val_loss_step</td><td>0.42329</td></tr></table><br/></div></div>"
      ],
      "text/plain": [
       "<IPython.core.display.HTML object>"
      ]
     },
     "metadata": {},
     "output_type": "display_data"
    },
    {
     "data": {
      "text/html": [
       " View run <strong style=\"color:#cdcd00\">GCN_2_64_onehot_4</strong> at: <a href='https://wandb.ai/thoomas/PLA_13PPI_2D_projected_Kfold/runs/rq4jao3k' target=\"_blank\">https://wandb.ai/thoomas/PLA_13PPI_2D_projected_Kfold/runs/rq4jao3k</a><br/>Synced 6 W&B file(s), 0 media file(s), 0 artifact file(s) and 0 other file(s)"
      ],
      "text/plain": [
       "<IPython.core.display.HTML object>"
      ]
     },
     "metadata": {},
     "output_type": "display_data"
    },
    {
     "data": {
      "text/html": [
       "Find logs at: <code>.\\wandb\\run-20240120_104213-rq4jao3k\\logs</code>"
      ],
      "text/plain": [
       "<IPython.core.display.HTML object>"
      ]
     },
     "metadata": {},
     "output_type": "display_data"
    },
    {
     "data": {
      "application/vnd.jupyter.widget-view+json": {
       "model_id": "04efd7a6393e41b89cccaef5882b9d14",
       "version_major": 2,
       "version_minor": 0
      },
      "text/plain": [
       "VBox(children=(Label(value='Waiting for wandb.init()...\\r'), FloatProgress(value=0.016666666666666666, max=1.0…"
      ]
     },
     "metadata": {},
     "output_type": "display_data"
    },
    {
     "data": {
      "text/html": [
       "wandb version 0.16.2 is available!  To upgrade, please run:\n",
       " $ pip install wandb --upgrade"
      ],
      "text/plain": [
       "<IPython.core.display.HTML object>"
      ]
     },
     "metadata": {},
     "output_type": "display_data"
    },
    {
     "data": {
      "text/html": [
       "Tracking run with wandb version 0.15.8"
      ],
      "text/plain": [
       "<IPython.core.display.HTML object>"
      ]
     },
     "metadata": {},
     "output_type": "display_data"
    },
    {
     "data": {
      "text/html": [
       "Run data is saved locally in <code>y:\\coskun-lab\\Thomas\\23_PLA_revision\\notebooks\\wandb\\run-20240120_111533-ns0mwrt5</code>"
      ],
      "text/plain": [
       "<IPython.core.display.HTML object>"
      ]
     },
     "metadata": {},
     "output_type": "display_data"
    },
    {
     "data": {
      "text/html": [
       "Syncing run <strong><a href='https://wandb.ai/thoomas/PLA_13PPI_2D_projected_Kfold/runs/ns0mwrt5' target=\"_blank\">GAT_3_64_onehot_4</a></strong> to <a href='https://wandb.ai/thoomas/PLA_13PPI_2D_projected_Kfold' target=\"_blank\">Weights & Biases</a> (<a href='https://wandb.me/run' target=\"_blank\">docs</a>)<br/>"
      ],
      "text/plain": [
       "<IPython.core.display.HTML object>"
      ]
     },
     "metadata": {},
     "output_type": "display_data"
    },
    {
     "data": {
      "text/html": [
       " View project at <a href='https://wandb.ai/thoomas/PLA_13PPI_2D_projected_Kfold' target=\"_blank\">https://wandb.ai/thoomas/PLA_13PPI_2D_projected_Kfold</a>"
      ],
      "text/plain": [
       "<IPython.core.display.HTML object>"
      ]
     },
     "metadata": {},
     "output_type": "display_data"
    },
    {
     "data": {
      "text/html": [
       " View run at <a href='https://wandb.ai/thoomas/PLA_13PPI_2D_projected_Kfold/runs/ns0mwrt5' target=\"_blank\">https://wandb.ai/thoomas/PLA_13PPI_2D_projected_Kfold/runs/ns0mwrt5</a>"
      ],
      "text/plain": [
       "<IPython.core.display.HTML object>"
      ]
     },
     "metadata": {},
     "output_type": "display_data"
    },
    {
     "name": "stderr",
     "output_type": "stream",
     "text": [
      "Global seed set to 42\n",
      "GPU available: True (cuda), used: True\n",
      "TPU available: False, using: 0 TPU cores\n",
      "IPU available: False, using: 0 IPUs\n",
      "HPU available: False, using: 0 HPUs\n",
      "Global seed set to 42\n",
      "c:\\Users\\thu71\\AppData\\Local\\anaconda3\\envs\\scanpy\\Lib\\site-packages\\lightning\\pytorch\\callbacks\\model_checkpoint.py:617: UserWarning: Checkpoint directory \\\\bme-retromaster.ad.gatech.edu\\labs5\\coskun-lab\\Thomas\\23_PLA_revision\\data\\13cyc_3D\\ saved_models_2D_projected\\13PPI_2D_projected\\Graph_GNNs_Kfold\\GAT_3_64_onehot_4\\attention\\GraphLevelGAT exists and is not empty.\n",
      "  rank_zero_warn(f\"Checkpoint directory {dirpath} exists and is not empty.\")\n",
      "LOCAL_RANK: 0 - CUDA_VISIBLE_DEVICES: [0]\n",
      "\n",
      "   | Name        | Type             | Params\n",
      "--------------------------------------------------\n",
      "0  | x_embedding | Identity         | 0     \n",
      "1  | model       | GAT              | 79.0 K\n",
      "2  | head        | Sequential       | 2.1 K \n",
      "3  | loss_module | CrossEntropyLoss | 0     \n",
      "4  | train_acc   | BinaryAccuracy   | 0     \n",
      "5  | train_auroc | BinaryAUROC      | 0     \n",
      "6  | train_f1    | BinaryF1Score    | 0     \n",
      "7  | valid_acc   | BinaryAccuracy   | 0     \n",
      "8  | valid_auroc | BinaryAUROC      | 0     \n",
      "9  | valid_f1    | BinaryF1Score    | 0     \n",
      "10 | pool        | GlobalAttention  | 65    \n",
      "--------------------------------------------------\n",
      "81.3 K    Trainable params\n",
      "0         Non-trainable params\n",
      "81.3 K    Total params\n",
      "0.325     Total estimated model params size (MB)\n"
     ]
    },
    {
     "name": "stdout",
     "output_type": "stream",
     "text": [
      "Using GAT\n"
     ]
    },
    {
     "name": "stderr",
     "output_type": "stream",
     "text": [
      "`Trainer.fit` stopped: `max_epochs=40` reached.\n"
     ]
    },
    {
     "data": {
      "text/html": [
       "Waiting for W&B process to finish... <strong style=\"color:green\">(success).</strong>"
      ],
      "text/plain": [
       "<IPython.core.display.HTML object>"
      ]
     },
     "metadata": {},
     "output_type": "display_data"
    },
    {
     "data": {
      "application/vnd.jupyter.widget-view+json": {
       "model_id": "04ae79c4beab4ae0b0e8f9750bcb9479",
       "version_major": 2,
       "version_minor": 0
      },
      "text/plain": [
       "VBox(children=(Label(value='0.001 MB of 0.001 MB uploaded (0.000 MB deduped)\\r'), FloatProgress(value=1.0, max…"
      ]
     },
     "metadata": {},
     "output_type": "display_data"
    },
    {
     "data": {
      "text/html": [
       "<style>\n",
       "    table.wandb td:nth-child(1) { padding: 0 10px; text-align: left ; width: auto;} td:nth-child(2) {text-align: left ; width: 100%}\n",
       "    .wandb-row { display: flex; flex-direction: row; flex-wrap: wrap; justify-content: flex-start; width: 100% }\n",
       "    .wandb-col { display: flex; flex-direction: column; flex-basis: 100%; flex: 1; padding: 10px; }\n",
       "    </style>\n",
       "<div class=\"wandb-row\"><div class=\"wandb-col\"><h3>Run history:</h3><br/><table class=\"wandb\"><tr><td>epoch</td><td>▁▁▁▂▂▂▂▂▂▃▃▃▃▃▄▄▄▄▄▄▅▅▅▅▅▅▆▆▆▆▆▇▇▇▇▇▇███</td></tr><tr><td>lr-Adam</td><td>▁▁▁▁▁▁▁▁▁▁▁▁▁▁▁▁▁▁▁▁▁▁▁▁▁▁▁▁▁▁▁▁▁▁▁▁▁▁▁▁</td></tr><tr><td>train_acc</td><td>▁▆▆▆▆▆▇▇▇▆▇▇▇▇▇▇█▇▇▇▇▇▇▇▇▇▇▇███▇▇██▇▇▇█▇</td></tr><tr><td>train_auc</td><td>▁▆▆▇▇▆▇▇▇▇▇▇▇▇▇▇█▇████▇▇██▇▇████████████</td></tr><tr><td>train_f1</td><td>▁▆▆▇▆▆▇▇▇▇▇▇▇▇▇▇█▇▇██▇▇▇█▇▇▇▇▇█████▇███▇</td></tr><tr><td>train_loss_epoch</td><td>█▄▄▃▃▄▂▂▂▂▂▃▂▃▃▂▂▂▂▂▂▂▂▂▂▂▂▂▁▂▂▂▁▁▂▂▂▂▁▂</td></tr><tr><td>train_loss_step</td><td>▄▆▄▃█▇▃▄▆▇▄▃▇▆▅▄▆▄▄▅▆▃▅▅▄▃▅▄▃▃▆▅▅▃▁▂▃▄▄▆</td></tr><tr><td>trainer/global_step</td><td>▁▁▁▁▂▂▂▂▁▁▂▂▂▂▄▄▂▂▂▂▂▂▂▂▂▂▂▂▂▂▃▃▇▇▃▃▃▃▃█</td></tr><tr><td>val_acc</td><td>▁▃▂▄▃▃▅▆▃▇▇▇▂▁▆█▆▆▆▅▇▆▆▁▇▆▃█▆▅▇▇▆▃▃▇▇▆▆▇</td></tr><tr><td>val_auc</td><td>▁▃▄▅▆▆▇▇▇▇██▇▇▆█▇▆▇▇▇▇▆▆▇▇▆▇▆▆▆▇▆▆▅▆▇▆▇▇</td></tr><tr><td>val_f1</td><td>▁▆▆▆▆▆▇▇▆▇▇▇▆▅▇█▆▇▇▇▇▇▆▅▇▇▃█▆▇▇▇▆▆▆▇█▇▆▇</td></tr><tr><td>val_loss_epoch</td><td>█▆▄▂▂▂▁▁▃▁▁▁▃▃▂▁▂▁▂▂▂▂▂▃▂▂▆▁▃▂▂▁▃▃▃▂▁▁▃▂</td></tr><tr><td>val_loss_step</td><td>▃▄▆▅▆▆▅▄█▃▃▂█▇▄▃▂▄▆▅▃▄▃▆▃▃▁▃▄▅▃▃▃▆▆▅▄▃▃▁</td></tr></table><br/></div><div class=\"wandb-col\"><h3>Run summary:</h3><br/><table class=\"wandb\"><tr><td>epoch</td><td>39</td></tr><tr><td>lr-Adam</td><td>0.005</td></tr><tr><td>train_acc</td><td>0.80673</td></tr><tr><td>train_auc</td><td>0.88901</td></tr><tr><td>train_f1</td><td>0.78668</td></tr><tr><td>train_loss_epoch</td><td>0.42385</td></tr><tr><td>train_loss_step</td><td>0.50149</td></tr><tr><td>trainer/global_step</td><td>559</td></tr><tr><td>val_acc</td><td>0.8093</td></tr><tr><td>val_auc</td><td>0.87312</td></tr><tr><td>val_f1</td><td>0.80383</td></tr><tr><td>val_loss_epoch</td><td>0.45695</td></tr><tr><td>val_loss_step</td><td>0.46584</td></tr></table><br/></div></div>"
      ],
      "text/plain": [
       "<IPython.core.display.HTML object>"
      ]
     },
     "metadata": {},
     "output_type": "display_data"
    },
    {
     "data": {
      "text/html": [
       " View run <strong style=\"color:#cdcd00\">GAT_3_64_onehot_4</strong> at: <a href='https://wandb.ai/thoomas/PLA_13PPI_2D_projected_Kfold/runs/ns0mwrt5' target=\"_blank\">https://wandb.ai/thoomas/PLA_13PPI_2D_projected_Kfold/runs/ns0mwrt5</a><br/>Synced 6 W&B file(s), 0 media file(s), 0 artifact file(s) and 0 other file(s)"
      ],
      "text/plain": [
       "<IPython.core.display.HTML object>"
      ]
     },
     "metadata": {},
     "output_type": "display_data"
    },
    {
     "data": {
      "text/html": [
       "Find logs at: <code>.\\wandb\\run-20240120_111533-ns0mwrt5\\logs</code>"
      ],
      "text/plain": [
       "<IPython.core.display.HTML object>"
      ]
     },
     "metadata": {},
     "output_type": "display_data"
    },
    {
     "data": {
      "application/vnd.jupyter.widget-view+json": {
       "model_id": "c89776ad15444ddc9471f3b6f73ca01c",
       "version_major": 2,
       "version_minor": 0
      },
      "text/plain": [
       "VBox(children=(Label(value='Waiting for wandb.init()...\\r'), FloatProgress(value=0.016666666666666666, max=1.0…"
      ]
     },
     "metadata": {},
     "output_type": "display_data"
    },
    {
     "data": {
      "text/html": [
       "wandb version 0.16.2 is available!  To upgrade, please run:\n",
       " $ pip install wandb --upgrade"
      ],
      "text/plain": [
       "<IPython.core.display.HTML object>"
      ]
     },
     "metadata": {},
     "output_type": "display_data"
    },
    {
     "data": {
      "text/html": [
       "Tracking run with wandb version 0.15.8"
      ],
      "text/plain": [
       "<IPython.core.display.HTML object>"
      ]
     },
     "metadata": {},
     "output_type": "display_data"
    },
    {
     "data": {
      "text/html": [
       "Run data is saved locally in <code>y:\\coskun-lab\\Thomas\\23_PLA_revision\\notebooks\\wandb\\run-20240120_114948-yl9sc1z4</code>"
      ],
      "text/plain": [
       "<IPython.core.display.HTML object>"
      ]
     },
     "metadata": {},
     "output_type": "display_data"
    },
    {
     "data": {
      "text/html": [
       "Syncing run <strong><a href='https://wandb.ai/thoomas/PLA_13PPI_2D_projected_Kfold/runs/yl9sc1z4' target=\"_blank\">GINConv_3_16_onehot_4</a></strong> to <a href='https://wandb.ai/thoomas/PLA_13PPI_2D_projected_Kfold' target=\"_blank\">Weights & Biases</a> (<a href='https://wandb.me/run' target=\"_blank\">docs</a>)<br/>"
      ],
      "text/plain": [
       "<IPython.core.display.HTML object>"
      ]
     },
     "metadata": {},
     "output_type": "display_data"
    },
    {
     "data": {
      "text/html": [
       " View project at <a href='https://wandb.ai/thoomas/PLA_13PPI_2D_projected_Kfold' target=\"_blank\">https://wandb.ai/thoomas/PLA_13PPI_2D_projected_Kfold</a>"
      ],
      "text/plain": [
       "<IPython.core.display.HTML object>"
      ]
     },
     "metadata": {},
     "output_type": "display_data"
    },
    {
     "data": {
      "text/html": [
       " View run at <a href='https://wandb.ai/thoomas/PLA_13PPI_2D_projected_Kfold/runs/yl9sc1z4' target=\"_blank\">https://wandb.ai/thoomas/PLA_13PPI_2D_projected_Kfold/runs/yl9sc1z4</a>"
      ],
      "text/plain": [
       "<IPython.core.display.HTML object>"
      ]
     },
     "metadata": {},
     "output_type": "display_data"
    },
    {
     "name": "stderr",
     "output_type": "stream",
     "text": [
      "Global seed set to 42\n",
      "GPU available: True (cuda), used: True\n",
      "TPU available: False, using: 0 TPU cores\n",
      "IPU available: False, using: 0 IPUs\n",
      "HPU available: False, using: 0 HPUs\n",
      "Global seed set to 42\n",
      "c:\\Users\\thu71\\AppData\\Local\\anaconda3\\envs\\scanpy\\Lib\\site-packages\\lightning\\pytorch\\callbacks\\model_checkpoint.py:617: UserWarning: Checkpoint directory \\\\bme-retromaster.ad.gatech.edu\\labs5\\coskun-lab\\Thomas\\23_PLA_revision\\data\\13cyc_3D\\ saved_models_2D_projected\\13PPI_2D_projected\\Graph_GNNs_Kfold\\GINConv_3_16_onehot_4\\mean\\GraphLevelGINConv exists and is not empty.\n",
      "  rank_zero_warn(f\"Checkpoint directory {dirpath} exists and is not empty.\")\n",
      "LOCAL_RANK: 0 - CUDA_VISIBLE_DEVICES: [0]\n",
      "\n",
      "  | Name        | Type             | Params\n",
      "-------------------------------------------------\n",
      "0 | x_embedding | Identity         | 0     \n",
      "1 | model       | GIN              | 1.7 K \n",
      "2 | head        | Sequential       | 154   \n",
      "3 | loss_module | CrossEntropyLoss | 0     \n",
      "4 | train_acc   | BinaryAccuracy   | 0     \n",
      "5 | train_auroc | BinaryAUROC      | 0     \n",
      "6 | train_f1    | BinaryF1Score    | 0     \n",
      "7 | valid_acc   | BinaryAccuracy   | 0     \n",
      "8 | valid_auroc | BinaryAUROC      | 0     \n",
      "9 | valid_f1    | BinaryF1Score    | 0     \n",
      "-------------------------------------------------\n",
      "1.9 K     Trainable params\n",
      "0         Non-trainable params\n",
      "1.9 K     Total params\n",
      "0.008     Total estimated model params size (MB)\n"
     ]
    },
    {
     "name": "stdout",
     "output_type": "stream",
     "text": [
      "GINConv\n"
     ]
    },
    {
     "name": "stderr",
     "output_type": "stream",
     "text": [
      "`Trainer.fit` stopped: `max_epochs=40` reached.\n"
     ]
    },
    {
     "data": {
      "text/html": [
       "Waiting for W&B process to finish... <strong style=\"color:green\">(success).</strong>"
      ],
      "text/plain": [
       "<IPython.core.display.HTML object>"
      ]
     },
     "metadata": {},
     "output_type": "display_data"
    },
    {
     "data": {
      "text/html": [
       "<style>\n",
       "    table.wandb td:nth-child(1) { padding: 0 10px; text-align: left ; width: auto;} td:nth-child(2) {text-align: left ; width: 100%}\n",
       "    .wandb-row { display: flex; flex-direction: row; flex-wrap: wrap; justify-content: flex-start; width: 100% }\n",
       "    .wandb-col { display: flex; flex-direction: column; flex-basis: 100%; flex: 1; padding: 10px; }\n",
       "    </style>\n",
       "<div class=\"wandb-row\"><div class=\"wandb-col\"><h3>Run history:</h3><br/><table class=\"wandb\"><tr><td>epoch</td><td>▁▁▁▂▂▂▂▂▂▃▃▃▃▃▄▄▄▄▄▄▅▅▅▅▅▅▆▆▆▆▆▇▇▇▇▇▇███</td></tr><tr><td>lr-Adam</td><td>▁▁▁▁▁▁▁▁▁▁▁▁▁▁▁▁▁▁▁▁▁▁▁▁▁▁▁▁▁▁▁▁▁▁▁▁▁▁▁▁</td></tr><tr><td>train_acc</td><td>▁▅▆▆▆▆▆▇▇▇▇▇▇▇▇▇▇▇▇▇▇▇▇▇▇▇█▇▇█▇█▇███████</td></tr><tr><td>train_auc</td><td>▁▅▆▆▆▆▆▇▇▇▇▇▇▇▇▇▇▇▇▇▇█▇▇▇▇█▇▇█▇█▇███████</td></tr><tr><td>train_f1</td><td>▁▅▇▆▇▇▇▇▇▇▇▇▇▇▇▇▇▇█▇▇█▇▇▇▇█▇▇█▇█▇███▇███</td></tr><tr><td>train_loss_epoch</td><td>█▆▅▄▄▄▄▃▃▃▃▃▂▃▃▂▃▂▂▂▂▂▂▂▂▂▂▂▂▂▂▂▂▂▁▂▂▁▁▁</td></tr><tr><td>train_loss_step</td><td>█▇▅▅▅▄▆█▄▃▃▃▄▃▄▄█▁▅▆▅▃▃▅▄▃▄▄▄▄▂▄▂▂▂▃▃▄▃▄</td></tr><tr><td>trainer/global_step</td><td>▁▁▁▁▂▂▂▂▁▁▂▂▂▂▄▄▂▂▂▂▂▂▂▂▂▂▂▂▂▂▃▃▇▇▃▃▃▃▃█</td></tr><tr><td>val_acc</td><td>▁▁▁▅▇▇▆█▇▇▇▇▇▇█▇▆▇█▇▆▇▄▇▅▇▆▅▇▆█▇▇▆▆▇▆▆▆▇</td></tr><tr><td>val_auc</td><td>▁▅▆▆▇▇▇▇▇█▇████▇▇▇██▇▇▆▇▇▇▇▆▆▇▇▇▇▆▇▇▇▇▆▇</td></tr><tr><td>val_f1</td><td>▁▃▃▅▆▆▆▇▆▇▇▇█▇▇▆▆▇█▄▅▇▆▆▃▅▆▅▆▅▇▆▇▆▅▇▅▆▅▇</td></tr><tr><td>val_loss_epoch</td><td>█▃▃▂▂▂▂▂▂▁▁▁▁▁▁▁▂▁▁▃▁▁▃▂▂▃▂▂▂▃▂▂▂▂▃▂▃▂▃▂</td></tr><tr><td>val_loss_step</td><td>▆▇█▅▄▄▆▅▄▅▄▅▅▅▄▄▄▅▅▃▅▅█▅▄▄▆▆▄▄▄▄▆▆▅▄▃▆▄▁</td></tr></table><br/></div><div class=\"wandb-col\"><h3>Run summary:</h3><br/><table class=\"wandb\"><tr><td>epoch</td><td>39</td></tr><tr><td>lr-Adam</td><td>0.005</td></tr><tr><td>train_acc</td><td>0.8462</td></tr><tr><td>train_auc</td><td>0.91679</td></tr><tr><td>train_f1</td><td>0.82936</td></tr><tr><td>train_loss_epoch</td><td>0.37035</td></tr><tr><td>train_loss_step</td><td>0.40047</td></tr><tr><td>trainer/global_step</td><td>559</td></tr><tr><td>val_acc</td><td>0.81163</td></tr><tr><td>val_auc</td><td>0.88247</td></tr><tr><td>val_f1</td><td>0.81549</td></tr><tr><td>val_loss_epoch</td><td>0.43644</td></tr><tr><td>val_loss_step</td><td>0.35097</td></tr></table><br/></div></div>"
      ],
      "text/plain": [
       "<IPython.core.display.HTML object>"
      ]
     },
     "metadata": {},
     "output_type": "display_data"
    },
    {
     "data": {
      "text/html": [
       " View run <strong style=\"color:#cdcd00\">GINConv_3_16_onehot_4</strong> at: <a href='https://wandb.ai/thoomas/PLA_13PPI_2D_projected_Kfold/runs/yl9sc1z4' target=\"_blank\">https://wandb.ai/thoomas/PLA_13PPI_2D_projected_Kfold/runs/yl9sc1z4</a><br/>Synced 6 W&B file(s), 0 media file(s), 0 artifact file(s) and 0 other file(s)"
      ],
      "text/plain": [
       "<IPython.core.display.HTML object>"
      ]
     },
     "metadata": {},
     "output_type": "display_data"
    },
    {
     "data": {
      "text/html": [
       "Find logs at: <code>.\\wandb\\run-20240120_114948-yl9sc1z4\\logs</code>"
      ],
      "text/plain": [
       "<IPython.core.display.HTML object>"
      ]
     },
     "metadata": {},
     "output_type": "display_data"
    }
   ],
   "source": [
    "k_folds = 5\n",
    "kfold = KFold(n_splits=k_folds, shuffle=True, random_state=42)\n",
    "\n",
    "for fold, (train_ids, valid_ids) in enumerate(kfold.split(dataset_filtered)):\n",
    "    train_subset = dataset_filtered.index_select(train_ids.tolist())\n",
    "    val_subset = dataset_filtered.index_select(valid_ids.tolist())\n",
    "    for NUM_LAYERS, HIDDEN_CHANNELS, pool, model in params:\n",
    "            # Path to the folder where the pretrained models are saved\n",
    "        # CHECKPOINT_PATH = checkpoint_folder / f'GAT_{NUM_LAYERS}_{HIDDEN_CHANNELS}_onehot_{fold}' / pool\n",
    "        CHECKPOINT_PATH = checkpoint_folder / f'{model}_{NUM_LAYERS}_{HIDDEN_CHANNELS}_onehot_{fold}' / pool\n",
    "        CHECKPOINT_PATH.mkdir(parents=True, exist_ok=True)\n",
    "\n",
    "        # Skip already trained kfold and pool\n",
    "        checkpoint = CHECKPOINT_PATH / f\"GraphLevel{model}\" / f\"GraphLevel{model}.ckpt\" \n",
    "        if checkpoint.exists():\n",
    "            print(checkpoint)\n",
    "            continue\n",
    "\n",
    "        # Run training\n",
    "        run = wandb.init(project=project_name, name=f'{model}_{NUM_LAYERS}_{HIDDEN_CHANNELS}_onehot_{fold}', \n",
    "                        group=f'{model}_{pool}', \n",
    "                        # mode=\"disabled\"\n",
    "                        )\n",
    "        PPIGraph.train_graph_classifier_kfold(model, \n",
    "                                                train_subset, \n",
    "                                                val_subset, \n",
    "                                                dataset_filtered, \n",
    "                                                CHECKPOINT_PATH, \n",
    "                                                AVAIL_GPUS, \n",
    "                                                in_channels=13,\n",
    "                                                hidden_channels=HIDDEN_CHANNELS, \n",
    "                                                out_channels = HIDDEN_CHANNELS,\n",
    "                                                num_layers=NUM_LAYERS, \n",
    "                                                epochs=epochs,\n",
    "                                                embedding=False,\n",
    "                                                batch_size=128,\n",
    "                                                graph_pooling=pool)\n",
    "        run.finish()\n"
   ]
  },
  {
   "cell_type": "code",
   "execution_count": null,
   "metadata": {},
   "outputs": [],
   "source": []
  }
 ],
 "metadata": {
  "kernelspec": {
   "display_name": "snowflake",
   "language": "python",
   "name": "python3"
  },
  "language_info": {
   "codemirror_mode": {
    "name": "ipython",
    "version": 3
   },
   "file_extension": ".py",
   "mimetype": "text/x-python",
   "name": "python",
   "nbconvert_exporter": "python",
   "pygments_lexer": "ipython3",
   "version": "3.11.4"
  }
 },
 "nbformat": 4,
 "nbformat_minor": 2
}
