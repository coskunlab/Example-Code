{
 "cells": [
  {
   "cell_type": "code",
   "execution_count": 1,
   "id": "247d1671-0005-41d0-a26d-c664cc9f9e60",
   "metadata": {},
   "outputs": [],
   "source": [
    "# import itertools\n",
    "import os\n",
    "import sys\n",
    "from pathlib import Path\n",
    "\n",
    "import cv2\n",
    "import matplotlib.pyplot as plt\n",
    "import numpy as np\n",
    "import pandas as pd\n",
    "import skimage.io\n",
    "\n",
    "from collections import defaultdict\n",
    "from tqdm.auto import tqdm\n",
    "from joblib import Parallel, delayed\n",
    "import re\n",
    "import h5py\n",
    "import napari\n",
    "import tifffile as tiff\n",
    "import seaborn as sns\n",
    "import pickle"
   ]
  },
  {
   "cell_type": "code",
   "execution_count": 2,
   "id": "e631c8e3-8f7e-4cfa-af01-57abd6ee49c9",
   "metadata": {},
   "outputs": [],
   "source": [
    "%load_ext autoreload\n",
    "%autoreload 2"
   ]
  },
  {
   "cell_type": "code",
   "execution_count": 3,
   "id": "cffa6d3b-4376-4163-811f-da32bc9c6e08",
   "metadata": {},
   "outputs": [],
   "source": [
    "p_dir = (Path().cwd().parents[0]).absolute()\n",
    "\n",
    "module_path = str(p_dir / \"src\")\n",
    " \n",
    "if module_path not in sys.path:\n",
    "    sys.path.append(module_path)"
   ]
  },
  {
   "cell_type": "code",
   "execution_count": 4,
   "id": "a02b2406-22d6-4948-b7ff-5e0b408a76e1",
   "metadata": {},
   "outputs": [],
   "source": [
    "data_dir = (Path().cwd().parents[0] / 'data').absolute()\n",
    "\n",
    "df_meta_path = data_dir / 'sensitivity' / 'metadata' / 'imgs_reg.csv'\n",
    "df_imgs = pd.read_csv(df_meta_path)\n"
   ]
  },
  {
   "cell_type": "code",
   "execution_count": 5,
   "id": "b526ec00-91c8-4f30-b6f9-4bf945fe57bb",
   "metadata": {},
   "outputs": [
    {
     "data": {
      "text/html": [
       "<div>\n",
       "<style scoped>\n",
       "    .dataframe tbody tr th:only-of-type {\n",
       "        vertical-align: middle;\n",
       "    }\n",
       "\n",
       "    .dataframe tbody tr th {\n",
       "        vertical-align: top;\n",
       "    }\n",
       "\n",
       "    .dataframe thead th {\n",
       "        text-align: right;\n",
       "    }\n",
       "</style>\n",
       "<table border=\"1\" class=\"dataframe\">\n",
       "  <thead>\n",
       "    <tr style=\"text-align: right;\">\n",
       "      <th></th>\n",
       "      <th>Condition</th>\n",
       "      <th>FOV</th>\n",
       "      <th>Path</th>\n",
       "    </tr>\n",
       "  </thead>\n",
       "  <tbody>\n",
       "    <tr>\n",
       "      <th>0</th>\n",
       "      <td>100nM</td>\n",
       "      <td>2</td>\n",
       "      <td>Y:\\coskun-lab\\Thomas\\23_PLA_revision\\data\\sens...</td>\n",
       "    </tr>\n",
       "    <tr>\n",
       "      <th>1</th>\n",
       "      <td>100nM</td>\n",
       "      <td>3</td>\n",
       "      <td>Y:\\coskun-lab\\Thomas\\23_PLA_revision\\data\\sens...</td>\n",
       "    </tr>\n",
       "    <tr>\n",
       "      <th>2</th>\n",
       "      <td>10nM</td>\n",
       "      <td>2</td>\n",
       "      <td>Y:\\coskun-lab\\Thomas\\23_PLA_revision\\data\\sens...</td>\n",
       "    </tr>\n",
       "    <tr>\n",
       "      <th>3</th>\n",
       "      <td>10nM</td>\n",
       "      <td>3</td>\n",
       "      <td>Y:\\coskun-lab\\Thomas\\23_PLA_revision\\data\\sens...</td>\n",
       "    </tr>\n",
       "    <tr>\n",
       "      <th>4</th>\n",
       "      <td>25nM</td>\n",
       "      <td>2</td>\n",
       "      <td>Y:\\coskun-lab\\Thomas\\23_PLA_revision\\data\\sens...</td>\n",
       "    </tr>\n",
       "    <tr>\n",
       "      <th>5</th>\n",
       "      <td>25nM</td>\n",
       "      <td>3</td>\n",
       "      <td>Y:\\coskun-lab\\Thomas\\23_PLA_revision\\data\\sens...</td>\n",
       "    </tr>\n",
       "    <tr>\n",
       "      <th>6</th>\n",
       "      <td>5nM</td>\n",
       "      <td>2</td>\n",
       "      <td>Y:\\coskun-lab\\Thomas\\23_PLA_revision\\data\\sens...</td>\n",
       "    </tr>\n",
       "    <tr>\n",
       "      <th>7</th>\n",
       "      <td>5nM</td>\n",
       "      <td>3</td>\n",
       "      <td>Y:\\coskun-lab\\Thomas\\23_PLA_revision\\data\\sens...</td>\n",
       "    </tr>\n",
       "    <tr>\n",
       "      <th>8</th>\n",
       "      <td>Control</td>\n",
       "      <td>2</td>\n",
       "      <td>Y:\\coskun-lab\\Thomas\\23_PLA_revision\\data\\sens...</td>\n",
       "    </tr>\n",
       "    <tr>\n",
       "      <th>9</th>\n",
       "      <td>Control</td>\n",
       "      <td>3</td>\n",
       "      <td>Y:\\coskun-lab\\Thomas\\23_PLA_revision\\data\\sens...</td>\n",
       "    </tr>\n",
       "  </tbody>\n",
       "</table>\n",
       "</div>"
      ],
      "text/plain": [
       "  Condition  FOV                                               Path\n",
       "0     100nM    2  Y:\\coskun-lab\\Thomas\\23_PLA_revision\\data\\sens...\n",
       "1     100nM    3  Y:\\coskun-lab\\Thomas\\23_PLA_revision\\data\\sens...\n",
       "2      10nM    2  Y:\\coskun-lab\\Thomas\\23_PLA_revision\\data\\sens...\n",
       "3      10nM    3  Y:\\coskun-lab\\Thomas\\23_PLA_revision\\data\\sens...\n",
       "4      25nM    2  Y:\\coskun-lab\\Thomas\\23_PLA_revision\\data\\sens...\n",
       "5      25nM    3  Y:\\coskun-lab\\Thomas\\23_PLA_revision\\data\\sens...\n",
       "6       5nM    2  Y:\\coskun-lab\\Thomas\\23_PLA_revision\\data\\sens...\n",
       "7       5nM    3  Y:\\coskun-lab\\Thomas\\23_PLA_revision\\data\\sens...\n",
       "8   Control    2  Y:\\coskun-lab\\Thomas\\23_PLA_revision\\data\\sens...\n",
       "9   Control    3  Y:\\coskun-lab\\Thomas\\23_PLA_revision\\data\\sens..."
      ]
     },
     "execution_count": 5,
     "metadata": {},
     "output_type": "execute_result"
    }
   ],
   "source": [
    "df_imgs"
   ]
  },
  {
   "cell_type": "markdown",
   "id": "1ce5f88d-7e0e-4bb3-9474-8cabce0a488a",
   "metadata": {
    "tags": []
   },
   "source": [
    "# PLA quantification"
   ]
  },
  {
   "cell_type": "code",
   "execution_count": 6,
   "id": "d8e9b2e9-7204-44ff-8eb5-cb5f2e5ded6e",
   "metadata": {},
   "outputs": [],
   "source": [
    "import PLA\n",
    "\n",
    "PPI_save_path =  data_dir / 'sensitivity' / 'PPI'\n",
    "PPI_save_path.mkdir(parents=True, exist_ok=True)"
   ]
  },
  {
   "cell_type": "code",
   "execution_count": 7,
   "id": "9cd67b82-2b8a-446e-88ad-c5d65b2ff391",
   "metadata": {},
   "outputs": [
    {
     "name": "stdout",
     "output_type": "stream",
     "text": [
      "['DNA' 'P-Akt/Mtor' 'DNA' 'Concanavalin A' 'Phalloidin' 'WGA']\n",
      "['DNA' 'p-ERK/c-Myc' 'DNA' 'Concanavalin A' 'Phalloidin' 'WGA']\n",
      "['DNA' 'P-Akt/Mtor' 'DNA' 'Concanavalin A' 'Phalloidin' 'WGA']\n",
      "['DNA' 'p-ERK/c-Myc' 'DNA' 'Concanavalin A' 'Phalloidin' 'WGA']\n",
      "['DNA' 'P-Akt/Mtor' 'DNA' 'Concanavalin A' 'Phalloidin' 'WGA']\n",
      "['DNA' 'p-ERK/c-Myc' 'DNA' 'Concanavalin A' 'Phalloidin' 'WGA']\n",
      "['DNA' 'P-Akt/Mtor' 'DNA' 'Concanavalin A' 'Phalloidin' 'WGA']\n",
      "['DNA' 'p-ERK/c-Myc' 'DNA' 'Concanavalin A' 'Phalloidin' 'WGA']\n",
      "['DNA' 'P-Akt/Mtor' 'DNA' 'Concanavalin A' 'Phalloidin' 'WGA']\n",
      "['DNA' 'p-ERK/c-Myc' 'DNA' 'Concanavalin A' 'Phalloidin' 'WGA']\n"
     ]
    }
   ],
   "source": [
    "for row in df_imgs.itertuples():\n",
    "    path = row.Path\n",
    "    with h5py.File(path, 'r') as f:\n",
    "        markers = f['imgs'].attrs['Marker']\n",
    "    print(markers)\n"
   ]
  },
  {
   "cell_type": "code",
   "execution_count": 8,
   "id": "e3b9186d-a012-4e78-8453-e01dc6a312b3",
   "metadata": {},
   "outputs": [],
   "source": [
    "df_imgs['FOV'] = df_imgs['FOV'].astype(str)"
   ]
  },
  {
   "cell_type": "code",
   "execution_count": 9,
   "id": "040cd583-0055-46c4-9004-65c8e3efb149",
   "metadata": {},
   "outputs": [
    {
     "name": "stdout",
     "output_type": "stream",
     "text": [
      "Reading image P-Akt/Mtor\n",
      "Processing image P-Akt/Mtor\n",
      "(array([0, 1], dtype=uint8), array([16111459,     7865], dtype=int64))\n",
      "File exist. Deleted\n",
      "Reading image p-ERK/c-Myc\n",
      "Processing image p-ERK/c-Myc\n",
      "(array([0, 1], dtype=uint8), array([16036640,    35248], dtype=int64))\n",
      "File exist. Deleted\n",
      "Reading image P-Akt/Mtor\n",
      "Processing image P-Akt/Mtor\n",
      "(array([0, 1], dtype=uint8), array([16053122,     4804], dtype=int64))\n",
      "File exist. Deleted\n",
      "Reading image p-ERK/c-Myc\n",
      "Processing image p-ERK/c-Myc\n",
      "(array([0, 1], dtype=uint8), array([16087658,    30554], dtype=int64))\n",
      "File exist. Deleted\n",
      "Reading image P-Akt/Mtor\n",
      "Processing image P-Akt/Mtor\n",
      "(array([0, 1], dtype=uint8), array([16078542,     8394], dtype=int64))\n",
      "File exist. Deleted\n",
      "Reading image p-ERK/c-Myc\n",
      "Processing image p-ERK/c-Myc\n",
      "(array([0, 1], dtype=uint8), array([16109982,    35928], dtype=int64))\n",
      "File exist. Deleted\n",
      "Reading image P-Akt/Mtor\n",
      "Processing image P-Akt/Mtor\n",
      "(array([0, 1], dtype=uint8), array([16052812,     8592], dtype=int64))\n",
      "File exist. Deleted\n",
      "Reading image p-ERK/c-Myc\n",
      "Processing image p-ERK/c-Myc\n",
      "(array([0, 1], dtype=uint8), array([16149896,    28639], dtype=int64))\n",
      "File exist. Deleted\n",
      "Reading image P-Akt/Mtor\n",
      "Processing image P-Akt/Mtor\n",
      "(array([0, 1], dtype=uint8), array([16049202,     8773], dtype=int64))\n",
      "File exist. Deleted\n",
      "Reading image p-ERK/c-Myc\n",
      "Processing image p-ERK/c-Myc\n",
      "(array([0, 1], dtype=uint8), array([16029153,    35791], dtype=int64))\n",
      "File exist. Deleted\n"
     ]
    }
   ],
   "source": [
    "RNAs = ['P-Akt/Mtor', 'p-ERK/c-Myc']\n",
    "\n",
    "for row in df_imgs.itertuples():\n",
    "    # Read image\n",
    "    path = row.Path\n",
    "    pla_detect = PLA.PLA_detection(path)\n",
    "    \n",
    "    with h5py.File(path, 'r') as f:\n",
    "        markers = f['imgs'].attrs['Marker']\n",
    "        \n",
    "    imgs_spots = []\n",
    "    imgs_wths = []\n",
    "    for RNA in RNAs: \n",
    "        if RNA in markers:\n",
    "            img_spot, img_wth, _, img = pla_detect.detect_spot(RNA, thres=0.09)\n",
    "            imgs_spots.append(img_spot)\n",
    "            imgs_wths.append(img_wth)\n",
    "\n",
    "    # Save PPI dict\n",
    "    name = '_'.join(row[1:3])+'.pkl'\n",
    "    pla_detect.save_pickle(PPI_save_path / name)\n"
   ]
  },
  {
   "cell_type": "code",
   "execution_count": 10,
   "id": "b2f952d1-03d7-4bf0-ae5d-f9e28d051ddf",
   "metadata": {},
   "outputs": [],
   "source": [
    "# import napari\n",
    "\n",
    "# viewer = napari.view_image(np.stack(imgs_wths))\n",
    "# viewer.add_image(np.stack(img))\n",
    "# viewer.add_image(np.stack(imgs_spots))"
   ]
  },
  {
   "cell_type": "markdown",
   "id": "f4fc2f9e-270f-4836-899a-900ed2634b39",
   "metadata": {
    "tags": []
   },
   "source": [
    "# QC segmentation"
   ]
  },
  {
   "cell_type": "code",
   "execution_count": 11,
   "id": "f6f2099b-bbc6-4aef-973f-8974f3180ec9",
   "metadata": {},
   "outputs": [],
   "source": [
    "from skimage import morphology, measure\n",
    "from skimage.segmentation import clear_border\n",
    "from collections import defaultdict\n",
    "   \n",
    "def count_pixel_label_mask(regionmask, intensity_image):\n",
    "    v,c = np.unique(intensity_image[regionmask], return_counts=True)\n",
    "    return dict(zip(v,c))\n",
    "    \n",
    "# Quality control of mask\n",
    "def qc_nuclei(mask_cyto, mask_nuclei, small_size=2000):\n",
    "    '''\n",
    "    Function to check if cell masks contain nuclei\n",
    "    '''\n",
    "    # Dictionnary storing nuclei and cyto label to cell id \n",
    "    nuclei2cell = {}\n",
    "    cyto2cell = {}\n",
    "    \n",
    "    # Filter out small objects\n",
    "    mask_cyto = morphology.remove_small_objects(mask_cyto,  min_size=small_size)\n",
    "    \n",
    "    # Filter out mask touching border\n",
    "    mask_cyto = clear_border(mask_cyto)\n",
    "    \n",
    "    # Filtered only cell mask region\n",
    "    cell_mask = np.where(mask_cyto > 0, 1, 0)\n",
    "    mask_nuclei_filtered = mask_nuclei * cell_mask\n",
    "    mask_nuclei_filtered =  morphology.remove_small_objects(mask_nuclei_filtered,  min_size=small_size)\n",
    "    \n",
    "    nuclei_mask = np.where(mask_nuclei>0, 1, 0)\n",
    "    cyto = (mask_cyto - mask_cyto*nuclei_mask).astype(np.uint16)\n",
    "    \n",
    "    # Count pixel cell label in each nuclei region to assign each nuclei to cell\n",
    "    props = measure.regionprops(mask_nuclei_filtered, intensity_image=mask_cyto, \n",
    "                    extra_properties=(count_pixel_label_mask,))\n",
    "    nuclei_labels = []\n",
    "    cell_labels = []\n",
    "    for prop in props:\n",
    "        df = pd.DataFrame.from_dict(prop['count_pixel_label_mask'], orient='index').reset_index()\n",
    "        df.columns = ['Label', 'Count']\n",
    "        corresponding_label = df.iloc[df['Count'].argmax(axis=0)]['Label']\n",
    "        nuclei_labels.append(prop['Label'])\n",
    "        cell_labels.append(corresponding_label)\n",
    "    \n",
    "    df = pd.DataFrame({'Nuclei': nuclei_labels, 'Cyto': cell_labels})\n",
    "    return mask_cyto, mask_nuclei_filtered, cyto, df"
   ]
  },
  {
   "cell_type": "code",
   "execution_count": 12,
   "id": "db23ad9c-48c9-46c6-afe9-634b5240bf60",
   "metadata": {},
   "outputs": [],
   "source": [
    "# Read masks paths \n",
    "mask_dir = data_dir /  'sensitivity' / 'imgs' / 'masks'\n",
    "mask_filt_dir = data_dir /  'sensitivity' / 'imgs' / 'masks_filtered'\n",
    "mask_filt_dir.mkdir(parents=True, exist_ok=True)\n",
    "\n",
    "masks_path = defaultdict(dict) \n",
    "for path in os.listdir(mask_dir):\n",
    "    name = path.split('.')[0]\n",
    "    if 'Nuclei' in name:\n",
    "        masks_path[name[7:]]['nuclei'] = mask_dir / path\n",
    "    else:\n",
    "        masks_path[name]['cyto'] = mask_dir / path\n"
   ]
  },
  {
   "cell_type": "code",
   "execution_count": 13,
   "id": "ffad1d35-094e-4596-9eb7-9ebc2faaa3b5",
   "metadata": {},
   "outputs": [],
   "source": [
    "for row in df_imgs.itertuples():\n",
    "    # Read image\n",
    "    path = row.Path\n",
    "    name = '_'.join(row[1:3])\n",
    "    \n",
    "    # Read masks\n",
    "    mask_cyto_path = masks_path[name]['cyto']\n",
    "    mask_nuclei_path = masks_path[name]['nuclei']\n",
    "    \n",
    "    mask_cyto = skimage.io.imread(mask_cyto_path)\n",
    "    mask_nuclei = skimage.io.imread(mask_nuclei_path)\n",
    "    \n",
    "    cell, nuclei, cyto, df = qc_nuclei(mask_cyto, mask_nuclei)\n",
    "    \n",
    "    file_path =  mask_filt_dir / f'Nuclei_{name}.tif'\n",
    "    tiff.imwrite(file_path, nuclei)\n",
    "    file_path =  mask_filt_dir / f'Cell_{name}.tif'\n",
    "    tiff.imwrite(file_path, cell)\n",
    "    file_path =  mask_filt_dir / f'Cyto_{name}.tif'\n",
    "    tiff.imwrite(file_path, cyto)\n",
    "    file_path =  mask_filt_dir / f'df_{name}.csv'\n",
    "    df.to_csv(file_path, index=False)"
   ]
  },
  {
   "cell_type": "code",
   "execution_count": 14,
   "id": "24073f06-bd18-4cfd-a1dd-791a0d61965b",
   "metadata": {},
   "outputs": [
    {
     "name": "stderr",
     "output_type": "stream",
     "text": [
      "WARNING: QWindowsWindow::setGeometry: Unable to set geometry 1800x1062+604+215 (frame: 1816x1101+596+184) on QWidgetWindow/\"_QtMainWindowClassWindow\" on \"WinDisc\". Resulting geometry: 1684x1031+604+215 (frame: 1700x1070+596+184) margins: 8, 31, 8, 8 minimum size: 374x557 MINMAXINFO maxSize=0,0 maxpos=0,0 mintrack=390,596 maxtrack=0,0)\n"
     ]
    },
    {
     "data": {
      "text/plain": [
       "<Labels layer 'nuclei' at 0x26f574fb0a0>"
      ]
     },
     "execution_count": 14,
     "metadata": {},
     "output_type": "execute_result"
    }
   ],
   "source": [
    "import napari\n",
    "\n",
    "viewer = napari.view_labels(cell)\n",
    "viewer.add_labels(nuclei)"
   ]
  },
  {
   "cell_type": "markdown",
   "id": "511242f7-db0d-4539-9292-1b938fab247a",
   "metadata": {
    "tags": []
   },
   "source": [
    "# Extract per cell PPI count"
   ]
  },
  {
   "cell_type": "code",
   "execution_count": 15,
   "id": "d4fae34e-df70-405d-8f09-a73605687276",
   "metadata": {},
   "outputs": [],
   "source": [
    "import pickle \n",
    "\n",
    "def read_PPI(path):\n",
    "    with open(path, 'rb') as file:\n",
    "        PPI_dict = pickle.load(file)\n",
    "\n",
    "    return PPI_dict\n",
    "\n",
    "def create_PPI_df(PPI_labels, PPI_loc, name, cyto=True):\n",
    "    if cyto:\n",
    "        columns_name = ['Cyto', 'x', 'y']\n",
    "    else:\n",
    "        columns_name = ['Nuclei', 'x', 'y']\n",
    "    df = pd.DataFrame(np.hstack([PPI_labels[:,np.newaxis], PPI_loc]), \n",
    "                      columns=columns_name)\n",
    "    df['PPI'] = name\n",
    "    return df"
   ]
  },
  {
   "cell_type": "code",
   "execution_count": 16,
   "id": "557dedf4-0454-417c-a8c2-f7b746549552",
   "metadata": {},
   "outputs": [],
   "source": [
    "mask_filt_dir = data_dir /'sensitivity'  / 'imgs' / 'masks_filtered'\n",
    "PPI_save_path =  data_dir / 'sensitivity'  / 'PPI'\n",
    "\n",
    "masks_path = defaultdict(dict) \n",
    "for path in os.listdir(mask_filt_dir):\n",
    "    name = path.split('.')[0]\n",
    "    if 'Nuclei' in name:\n",
    "        masks_path[name[7:]]['nuclei'] = mask_filt_dir / path\n",
    "    elif 'Cyto' in name:\n",
    "        masks_path[name[5:]]['cyto'] =mask_filt_dir / path\n",
    "    elif 'Cell' in name:\n",
    "        masks_path[name[5:]]['cell'] =mask_filt_dir / path    \n",
    "    elif 'df' in name:\n",
    "        masks_path[name[3:]]['df'] =mask_filt_dir / path\n",
    "    else:\n",
    "        pass"
   ]
  },
  {
   "cell_type": "code",
   "execution_count": 17,
   "id": "e80395ae-96d7-4ae8-ad03-a657b9ad83f8",
   "metadata": {},
   "outputs": [
    {
     "name": "stderr",
     "output_type": "stream",
     "text": [
      "WARNING: OpenGL version could not be determined, which might be a sign that OpenGL is not loaded correctly.\n",
      "WARNING: Error drawing visual <Image at 0x26f1402be20>\n",
      "WARNING: Error drawing visual <Image at 0x26f1402be20>\n",
      "WARNING: Error drawing visual <Image at 0x26f1402be20>\n",
      "WARNING: Error drawing visual <Image at 0x26f1402be20>\n"
     ]
    }
   ],
   "source": [
    "for row in df_imgs.itertuples():\n",
    "    name = '_'.join(row[1:3])\n",
    "    \n",
    "    # Read masks\n",
    "    mask_cyto_path = masks_path[name]['cell']\n",
    "    mask_nuclei_path = masks_path[name]['nuclei']\n",
    "    df_path =  masks_path[name]['df']\n",
    "    \n",
    "    mask_cyto = skimage.io.imread(mask_cyto_path)\n",
    "    mask_nuclei = skimage.io.imread(mask_nuclei_path)\n",
    "    df_cell_info = pd.read_csv(df_path)\n",
    "    nuclei2cell = dict(zip(df_cell_info.iloc[:,0], df_cell_info.iloc[:,1]))   \n",
    "    \n",
    "    # Read PPi\n",
    "    PPI_dict = read_PPI(PPI_save_path / f'{name}.pkl')\n",
    "    dfs_PPI_cyto = []\n",
    "    dfs_PPI_nuclei = []\n",
    "    for k in PPI_dict.keys():\n",
    "        PPI_loc = PPI_dict[k][:, 1:3].astype(np.uint32)\n",
    "        \n",
    "        # Cyto\n",
    "        PPI_labels = mask_cyto[PPI_loc[:,0], PPI_loc[:,1]]\n",
    "        df_PPI = create_PPI_df(PPI_labels, PPI_loc, k)\n",
    "        dfs_PPI_cyto.append(df_PPI)\n",
    "        \n",
    "        # Nuclei\n",
    "        PPI_labels = mask_nuclei[PPI_loc[:,0], PPI_loc[:,1]]\n",
    "        df_PPI = create_PPI_df(PPI_labels, PPI_loc, k, cyto=False)\n",
    "        dfs_PPI_nuclei.append(df_PPI)\n",
    "    \n",
    "    # Combined DFs\n",
    "    df_PPI_cyto = pd.concat(dfs_PPI_cyto)\n",
    "    df_PPI_nuclei = pd.concat(dfs_PPI_nuclei)\n",
    "    df_PPI_nuclei['Nuclei'] = df_PPI_nuclei['Nuclei'].apply(lambda x: nuclei2cell.get(x,x))   \n",
    "    df_merged = df_PPI_cyto.merge(df_PPI_nuclei)\n",
    "    df_merged['Condition'] = row[1]\n",
    "    df_merged['FOV'] = row[2]\n",
    "    \n",
    "    # Save dataframe\n",
    "    path = PPI_save_path / f'{name}.csv'\n",
    "    df_merged.to_csv(path, index=False)"
   ]
  },
  {
   "cell_type": "markdown",
   "id": "a9bbf80c-6e29-49a8-8674-adac851c82f1",
   "metadata": {
    "tags": []
   },
   "source": [
    "# PPI quantification"
   ]
  },
  {
   "cell_type": "code",
   "execution_count": 6,
   "id": "55b838c2-7526-4ad3-8a1e-74b9442993f6",
   "metadata": {},
   "outputs": [],
   "source": [
    "PPI_save_path =  data_dir / 'sensitivity' / 'PPI'\n",
    "\n",
    "dfs = []\n",
    "for path in os.listdir(PPI_save_path):\n",
    "    if 'csv' in path:\n",
    "        df = pd.read_csv(PPI_save_path / path)\n",
    "        dfs.append(df)\n",
    "\n",
    "df = pd.concat(dfs)"
   ]
  },
  {
   "cell_type": "code",
   "execution_count": 7,
   "id": "79426160-d186-4476-8cfc-f65acdcf652e",
   "metadata": {},
   "outputs": [
    {
     "data": {
      "text/html": [
       "<div>\n",
       "<style scoped>\n",
       "    .dataframe tbody tr th:only-of-type {\n",
       "        vertical-align: middle;\n",
       "    }\n",
       "\n",
       "    .dataframe tbody tr th {\n",
       "        vertical-align: top;\n",
       "    }\n",
       "\n",
       "    .dataframe thead th {\n",
       "        text-align: right;\n",
       "    }\n",
       "</style>\n",
       "<table border=\"1\" class=\"dataframe\">\n",
       "  <thead>\n",
       "    <tr style=\"text-align: right;\">\n",
       "      <th></th>\n",
       "      <th>Cyto</th>\n",
       "      <th>x</th>\n",
       "      <th>y</th>\n",
       "      <th>PPI</th>\n",
       "      <th>Nuclei</th>\n",
       "      <th>Condition</th>\n",
       "      <th>FOV</th>\n",
       "    </tr>\n",
       "  </thead>\n",
       "  <tbody>\n",
       "    <tr>\n",
       "      <th>0</th>\n",
       "      <td>0</td>\n",
       "      <td>3059</td>\n",
       "      <td>58</td>\n",
       "      <td>P-Akt/Mtor</td>\n",
       "      <td>0.0</td>\n",
       "      <td>100nM</td>\n",
       "      <td>2</td>\n",
       "    </tr>\n",
       "    <tr>\n",
       "      <th>1</th>\n",
       "      <td>0</td>\n",
       "      <td>3059</td>\n",
       "      <td>58</td>\n",
       "      <td>P-Akt/Mtor</td>\n",
       "      <td>0.0</td>\n",
       "      <td>100nM</td>\n",
       "      <td>2</td>\n",
       "    </tr>\n",
       "    <tr>\n",
       "      <th>2</th>\n",
       "      <td>0</td>\n",
       "      <td>3059</td>\n",
       "      <td>58</td>\n",
       "      <td>P-Akt/Mtor</td>\n",
       "      <td>0.0</td>\n",
       "      <td>100nM</td>\n",
       "      <td>2</td>\n",
       "    </tr>\n",
       "    <tr>\n",
       "      <th>3</th>\n",
       "      <td>0</td>\n",
       "      <td>3059</td>\n",
       "      <td>58</td>\n",
       "      <td>P-Akt/Mtor</td>\n",
       "      <td>0.0</td>\n",
       "      <td>100nM</td>\n",
       "      <td>2</td>\n",
       "    </tr>\n",
       "    <tr>\n",
       "      <th>4</th>\n",
       "      <td>0</td>\n",
       "      <td>618</td>\n",
       "      <td>2379</td>\n",
       "      <td>P-Akt/Mtor</td>\n",
       "      <td>0.0</td>\n",
       "      <td>100nM</td>\n",
       "      <td>2</td>\n",
       "    </tr>\n",
       "  </tbody>\n",
       "</table>\n",
       "</div>"
      ],
      "text/plain": [
       "   Cyto     x     y         PPI  Nuclei Condition  FOV\n",
       "0     0  3059    58  P-Akt/Mtor     0.0     100nM    2\n",
       "1     0  3059    58  P-Akt/Mtor     0.0     100nM    2\n",
       "2     0  3059    58  P-Akt/Mtor     0.0     100nM    2\n",
       "3     0  3059    58  P-Akt/Mtor     0.0     100nM    2\n",
       "4     0   618  2379  P-Akt/Mtor     0.0     100nM    2"
      ]
     },
     "execution_count": 7,
     "metadata": {},
     "output_type": "execute_result"
    }
   ],
   "source": [
    "df.head()"
   ]
  },
  {
   "cell_type": "code",
   "execution_count": 8,
   "id": "7382891a-70f5-4df8-a213-2396db428b93",
   "metadata": {},
   "outputs": [],
   "source": [
    "g = df.groupby(['Condition', 'FOV', 'PPI', 'Cyto']).size()\n",
    "df_cell = pd.DataFrame({'Count Cyto': g}).reset_index()\n",
    "df_cell = df_cell[df_cell.Cyto != 0]\n",
    "df_cell.columns = ['Condition', 'FOV', 'PPI', 'Id', 'Count_cell']\n",
    "\n",
    "g = df.groupby(['Condition', 'FOV', 'PPI', 'Nuclei']).size()\n",
    "df_nuclei = pd.DataFrame({'Count Nuclei': g}).reset_index()\n",
    "df_nuclei= df_nuclei[df_nuclei.Nuclei != 0]\n",
    "df_nuclei.columns = ['Condition', 'FOV', 'PPI', 'Id', 'Count_nuclei']"
   ]
  },
  {
   "cell_type": "code",
   "execution_count": 9,
   "id": "611a7f52-d9d7-476e-9b79-e2d3b6ba929b",
   "metadata": {},
   "outputs": [],
   "source": [
    "df_all = df_cell.merge(df_nuclei, how='left', on=['Condition', 'FOV', 'PPI', 'Id']).fillna(0)\n"
   ]
  },
  {
   "cell_type": "code",
   "execution_count": 10,
   "id": "bb356334-9b86-4314-b34a-058077bb6983",
   "metadata": {},
   "outputs": [],
   "source": [
    "df_all['Count_nuclei'] = df_all['Count_nuclei'].astype(int)\n",
    "df_all['Count_cyto'] = df_all['Count_cell'] - df_all['Count_nuclei']"
   ]
  },
  {
   "cell_type": "code",
   "execution_count": 11,
   "id": "1b88afa7-ba6f-475d-9298-d6e76106f722",
   "metadata": {},
   "outputs": [],
   "source": [
    "df_all = df_all[df_all['Count_cyto']>=0]\n"
   ]
  },
  {
   "cell_type": "code",
   "execution_count": 12,
   "id": "a8352788-05e6-408b-b93d-e76fe4b1b21a",
   "metadata": {},
   "outputs": [
    {
     "data": {
      "text/html": [
       "<div>\n",
       "<style scoped>\n",
       "    .dataframe tbody tr th:only-of-type {\n",
       "        vertical-align: middle;\n",
       "    }\n",
       "\n",
       "    .dataframe tbody tr th {\n",
       "        vertical-align: top;\n",
       "    }\n",
       "\n",
       "    .dataframe thead th {\n",
       "        text-align: right;\n",
       "    }\n",
       "</style>\n",
       "<table border=\"1\" class=\"dataframe\">\n",
       "  <thead>\n",
       "    <tr style=\"text-align: right;\">\n",
       "      <th></th>\n",
       "      <th>Condition</th>\n",
       "      <th>FOV</th>\n",
       "      <th>PPI</th>\n",
       "      <th>Id</th>\n",
       "      <th>Count_cell</th>\n",
       "      <th>Count_nuclei</th>\n",
       "      <th>Count_cyto</th>\n",
       "    </tr>\n",
       "  </thead>\n",
       "  <tbody>\n",
       "    <tr>\n",
       "      <th>0</th>\n",
       "      <td>100nM</td>\n",
       "      <td>2</td>\n",
       "      <td>P-Akt/Mtor</td>\n",
       "      <td>7</td>\n",
       "      <td>4</td>\n",
       "      <td>4</td>\n",
       "      <td>0</td>\n",
       "    </tr>\n",
       "    <tr>\n",
       "      <th>1</th>\n",
       "      <td>100nM</td>\n",
       "      <td>2</td>\n",
       "      <td>P-Akt/Mtor</td>\n",
       "      <td>8</td>\n",
       "      <td>5</td>\n",
       "      <td>4</td>\n",
       "      <td>1</td>\n",
       "    </tr>\n",
       "    <tr>\n",
       "      <th>2</th>\n",
       "      <td>100nM</td>\n",
       "      <td>2</td>\n",
       "      <td>P-Akt/Mtor</td>\n",
       "      <td>10</td>\n",
       "      <td>4</td>\n",
       "      <td>4</td>\n",
       "      <td>0</td>\n",
       "    </tr>\n",
       "    <tr>\n",
       "      <th>3</th>\n",
       "      <td>100nM</td>\n",
       "      <td>2</td>\n",
       "      <td>P-Akt/Mtor</td>\n",
       "      <td>11</td>\n",
       "      <td>6</td>\n",
       "      <td>5</td>\n",
       "      <td>1</td>\n",
       "    </tr>\n",
       "    <tr>\n",
       "      <th>4</th>\n",
       "      <td>100nM</td>\n",
       "      <td>2</td>\n",
       "      <td>P-Akt/Mtor</td>\n",
       "      <td>12</td>\n",
       "      <td>1</td>\n",
       "      <td>0</td>\n",
       "      <td>1</td>\n",
       "    </tr>\n",
       "  </tbody>\n",
       "</table>\n",
       "</div>"
      ],
      "text/plain": [
       "  Condition  FOV         PPI  Id  Count_cell  Count_nuclei  Count_cyto\n",
       "0     100nM    2  P-Akt/Mtor   7           4             4           0\n",
       "1     100nM    2  P-Akt/Mtor   8           5             4           1\n",
       "2     100nM    2  P-Akt/Mtor  10           4             4           0\n",
       "3     100nM    2  P-Akt/Mtor  11           6             5           1\n",
       "4     100nM    2  P-Akt/Mtor  12           1             0           1"
      ]
     },
     "execution_count": 12,
     "metadata": {},
     "output_type": "execute_result"
    }
   ],
   "source": [
    "df_all.head()"
   ]
  },
  {
   "cell_type": "code",
   "execution_count": 13,
   "id": "f5fd51e4-898a-45c5-80e2-0d20b85b20bb",
   "metadata": {},
   "outputs": [
    {
     "data": {
      "text/plain": [
       "array(['100nM', '10nM', '25nM', '5nM', 'Control'], dtype=object)"
      ]
     },
     "execution_count": 13,
     "metadata": {},
     "output_type": "execute_result"
    }
   ],
   "source": [
    "df_all['Condition'].unique()"
   ]
  },
  {
   "cell_type": "code",
   "execution_count": 14,
   "id": "1fb9e3c6-e139-44ee-9660-5274d5822985",
   "metadata": {},
   "outputs": [],
   "source": [
    "df_all['Condition'] = pd.Categorical(df_all['Condition'],\n",
    "                                   categories=['Control', '5nM', '10nM', '25nM', '100nM'],\n",
    "                                   ordered=True)"
   ]
  },
  {
   "cell_type": "code",
   "execution_count": 16,
   "id": "7778d76e-c1d2-43f2-bd6b-b03bad65f5cc",
   "metadata": {},
   "outputs": [
    {
     "data": {
      "text/plain": [
       "<AxesSubplot: xlabel='Condition', ylabel='Count_cell'>"
      ]
     },
     "execution_count": 16,
     "metadata": {},
     "output_type": "execute_result"
    },
    {
     "data": {
      "image/png": "[encoded data removed]",
      "text/plain": [
       "<Figure size 640x480 with 1 Axes>"
      ]
     },
     "metadata": {},
     "output_type": "display_data"
    }
   ],
   "source": [
    "# Plot\n",
    "sns.lineplot(\n",
    "    data=df_all, x=\"Condition\", y=\"Count_cell\", hue=\"PPI\", err_style=\"bars\",\n",
    ")"
   ]
  },
  {
   "cell_type": "markdown",
   "id": "0459cc9d-c838-4e6f-b34d-b941cd435d9e",
   "metadata": {
    "jp-MarkdownHeadingCollapsed": true,
    "tags": []
   },
   "source": [
    "# Quantification all FOV divided by number of cell"
   ]
  },
  {
   "cell_type": "code",
   "execution_count": 17,
   "id": "96145bfc-344d-4816-9245-de930196089f",
   "metadata": {},
   "outputs": [
    {
     "data": {
      "text/html": [
       "<div>\n",
       "<style scoped>\n",
       "    .dataframe tbody tr th:only-of-type {\n",
       "        vertical-align: middle;\n",
       "    }\n",
       "\n",
       "    .dataframe tbody tr th {\n",
       "        vertical-align: top;\n",
       "    }\n",
       "\n",
       "    .dataframe thead th {\n",
       "        text-align: right;\n",
       "    }\n",
       "</style>\n",
       "<table border=\"1\" class=\"dataframe\">\n",
       "  <thead>\n",
       "    <tr style=\"text-align: right;\">\n",
       "      <th></th>\n",
       "      <th>Cyto</th>\n",
       "      <th>x</th>\n",
       "      <th>y</th>\n",
       "      <th>PPI</th>\n",
       "      <th>Nuclei</th>\n",
       "      <th>Condition</th>\n",
       "      <th>FOV</th>\n",
       "    </tr>\n",
       "  </thead>\n",
       "  <tbody>\n",
       "    <tr>\n",
       "      <th>0</th>\n",
       "      <td>0</td>\n",
       "      <td>3059</td>\n",
       "      <td>58</td>\n",
       "      <td>P-Akt/Mtor</td>\n",
       "      <td>0.0</td>\n",
       "      <td>100nM</td>\n",
       "      <td>2</td>\n",
       "    </tr>\n",
       "    <tr>\n",
       "      <th>1</th>\n",
       "      <td>0</td>\n",
       "      <td>3059</td>\n",
       "      <td>58</td>\n",
       "      <td>P-Akt/Mtor</td>\n",
       "      <td>0.0</td>\n",
       "      <td>100nM</td>\n",
       "      <td>2</td>\n",
       "    </tr>\n",
       "    <tr>\n",
       "      <th>2</th>\n",
       "      <td>0</td>\n",
       "      <td>3059</td>\n",
       "      <td>58</td>\n",
       "      <td>P-Akt/Mtor</td>\n",
       "      <td>0.0</td>\n",
       "      <td>100nM</td>\n",
       "      <td>2</td>\n",
       "    </tr>\n",
       "    <tr>\n",
       "      <th>3</th>\n",
       "      <td>0</td>\n",
       "      <td>3059</td>\n",
       "      <td>58</td>\n",
       "      <td>P-Akt/Mtor</td>\n",
       "      <td>0.0</td>\n",
       "      <td>100nM</td>\n",
       "      <td>2</td>\n",
       "    </tr>\n",
       "    <tr>\n",
       "      <th>4</th>\n",
       "      <td>0</td>\n",
       "      <td>618</td>\n",
       "      <td>2379</td>\n",
       "      <td>P-Akt/Mtor</td>\n",
       "      <td>0.0</td>\n",
       "      <td>100nM</td>\n",
       "      <td>2</td>\n",
       "    </tr>\n",
       "  </tbody>\n",
       "</table>\n",
       "</div>"
      ],
      "text/plain": [
       "   Cyto     x     y         PPI  Nuclei Condition  FOV\n",
       "0     0  3059    58  P-Akt/Mtor     0.0     100nM    2\n",
       "1     0  3059    58  P-Akt/Mtor     0.0     100nM    2\n",
       "2     0  3059    58  P-Akt/Mtor     0.0     100nM    2\n",
       "3     0  3059    58  P-Akt/Mtor     0.0     100nM    2\n",
       "4     0   618  2379  P-Akt/Mtor     0.0     100nM    2"
      ]
     },
     "execution_count": 17,
     "metadata": {},
     "output_type": "execute_result"
    }
   ],
   "source": [
    "df.head()"
   ]
  },
  {
   "cell_type": "code",
   "execution_count": 21,
   "id": "dda7f377-7174-499f-aba7-f90e88e3f334",
   "metadata": {},
   "outputs": [],
   "source": [
    "df_count = df.groupby(['Condition', 'FOV', 'PPI']).size().reset_index()\n",
    "df_count.columns = ['Condition', 'FOV', 'PPI', 'Count']"
   ]
  },
  {
   "cell_type": "code",
   "execution_count": 22,
   "id": "e85543f2-6e7f-4d88-8e83-815ba9dc18da",
   "metadata": {},
   "outputs": [],
   "source": [
    "# Read masks paths \n",
    "mask_dir = data_dir /  'sensitivity' / 'imgs' / 'masks'\n",
    "mask_filt_dir = data_dir /  'sensitivity' / 'imgs' / 'masks_filtered'\n",
    "mask_filt_dir.mkdir(parents=True, exist_ok=True)\n",
    "\n",
    "masks_path = defaultdict(dict) \n",
    "for path in os.listdir(mask_dir):\n",
    "    name = path.split('.')[0]\n",
    "    if 'Nuclei' in name:\n",
    "        masks_path[name[7:]]['nuclei'] = mask_dir / path\n",
    "    else:\n",
    "        masks_path[name]['cyto'] = mask_dir / path\n"
   ]
  },
  {
   "cell_type": "code",
   "execution_count": 29,
   "id": "0b7a92af-63d0-40cb-a3d9-ba5e5261a975",
   "metadata": {},
   "outputs": [],
   "source": [
    "df_count['FOV'] = df_count['FOV'].astype(str)"
   ]
  },
  {
   "cell_type": "code",
   "execution_count": 30,
   "id": "69f0c820-f324-4bb9-b667-bd4284f40adf",
   "metadata": {},
   "outputs": [],
   "source": [
    "n_nucleis = []\n",
    "for row in df_count.itertuples():\n",
    "    # Read image\n",
    "    name = '_'.join(row[1:3])\n",
    "    \n",
    "    # Read masks\n",
    "    mask_nuclei_path = masks_path[name]['nuclei']\n",
    "    \n",
    "    mask_nuclei = skimage.io.imread(mask_nuclei_path)\n",
    "    \n",
    "    n_nuclei = len(np.unique(mask_nuclei))-1\n",
    "    n_nucleis.append(n_nuclei)"
   ]
  },
  {
   "cell_type": "code",
   "execution_count": 31,
   "id": "be38fb2c-8e26-44d2-97c6-6d7a382eced0",
   "metadata": {},
   "outputs": [],
   "source": [
    "df_count['Nuclei_count'] = n_nucleis"
   ]
  },
  {
   "cell_type": "code",
   "execution_count": 33,
   "id": "0f2ae909-71d0-45a4-abb4-b00e93b9f956",
   "metadata": {},
   "outputs": [],
   "source": [
    "df_count['Count per cell'] = df_count['Count'] / df_count['Nuclei_count']"
   ]
  },
  {
   "cell_type": "code",
   "execution_count": 34,
   "id": "e5e8cc20-0cfc-4896-a516-476fe03d5352",
   "metadata": {},
   "outputs": [],
   "source": [
    "df_count['Condition'] = pd.Categorical(df_count['Condition'],\n",
    "                                   categories=['Control', '5nM', '10nM', '25nM', '100nM'],\n",
    "                                   ordered=True)"
   ]
  },
  {
   "cell_type": "code",
   "execution_count": 35,
   "id": "a847a5ca-04eb-484c-95af-231d434682c6",
   "metadata": {},
   "outputs": [
    {
     "data": {
      "text/plain": [
       "<AxesSubplot: xlabel='Condition', ylabel='Count per cell'>"
      ]
     },
     "execution_count": 35,
     "metadata": {},
     "output_type": "execute_result"
    },
    {
     "data": {
      "image/png": "[encoded data removed]",
      "text/plain": [
       "<Figure size 640x480 with 1 Axes>"
      ]
     },
     "metadata": {},
     "output_type": "display_data"
    }
   ],
   "source": [
    "# Plot\n",
    "sns.lineplot(\n",
    "    data=df_count, x=\"Condition\", y=\"Count per cell\", hue=\"PPI\", err_style=\"bars\",\n",
    ")"
   ]
  },
  {
   "cell_type": "code",
   "execution_count": null,
   "id": "f5884999-e513-4054-8afe-299c59f60bd8",
   "metadata": {},
   "outputs": [],
   "source": []
  }
 ],
 "metadata": {
  "kernelspec": {
   "display_name": "Python [conda env:PLA]",
   "language": "python",
   "name": "conda-env-PLA-py"
  },
  "language_info": {
   "codemirror_mode": {
    "name": "ipython",
    "version": 3
   },
   "file_extension": ".py",
   "mimetype": "text/x-python",
   "name": "python",
   "nbconvert_exporter": "python",
   "pygments_lexer": "ipython3",
   "version": "3.9.16"
  }
 },
 "nbformat": 4,
 "nbformat_minor": 5
}
