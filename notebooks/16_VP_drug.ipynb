{
 "cells": [
  {
   "cell_type": "code",
   "execution_count": 1,
   "metadata": {},
   "outputs": [],
   "source": [
    "import itertools\n",
    "import os\n",
    "import sys\n",
    "from pathlib import Path\n",
    "\n",
    "import cv2\n",
    "import matplotlib.pyplot as plt\n",
    "import numpy as np\n",
    "import pandas as pd\n",
    "import skimage.io\n",
    "\n",
    "from collections import defaultdict\n",
    "from tqdm.notebook import trange, tqdm, tqdm_notebook\n",
    "from joblib import Parallel, delayed\n",
    "import re\n",
    "import h5py\n",
    "import tifffile as tiff\n"
   ]
  },
  {
   "cell_type": "code",
   "execution_count": 2,
   "metadata": {},
   "outputs": [],
   "source": [
    "%load_ext autoreload\n",
    "%autoreload 2"
   ]
  },
  {
   "cell_type": "code",
   "execution_count": 3,
   "metadata": {},
   "outputs": [],
   "source": [
    "data_dir = (Path().cwd().parents[0] / 'data').absolute()\n",
    "data_processed = data_dir / 'processed'\n",
    "data_raw = r'Y:\\coskun-lab\\Shuangyi\\ERK, YAP project_2022\\VP drug effect on HCC827 cells'\n"
   ]
  },
  {
   "cell_type": "code",
   "execution_count": 4,
   "metadata": {},
   "outputs": [],
   "source": [
    "import os\n",
    " \n",
    "os.environ['JDK_HOME'] = \"C:\\Program Files\\Java\\jdk-17\"\n",
    "os.environ['JAVA_HOME'] = \"C:\\Program Files\\Java\\jdk-17\"\n",
    "\n",
    "os.environ['PATH'] += ';C:\\\\Program Files\\\\Java\\\\jdk-17\\\\jre\\\\bin\\\\server\\\\;C:\\\\Program Files\\\\Java\\\\jdk-17\\\\bin\\\\;C:\\\\Program Files\\\\Java\\\\jdk-17\\\\bin\\\\jar.exe'"
   ]
  },
  {
   "cell_type": "code",
   "execution_count": 5,
   "metadata": {},
   "outputs": [],
   "source": [
    "p_dir = (Path().cwd().parents[0]).absolute()\n",
    "\n",
    "module_path = str(p_dir / \"src\")\n",
    " \n",
    "if module_path not in sys.path:\n",
    "    sys.path.append(module_path)"
   ]
  },
  {
   "cell_type": "markdown",
   "metadata": {},
   "source": [
    "# Get info"
   ]
  },
  {
   "cell_type": "code",
   "execution_count": 5,
   "metadata": {},
   "outputs": [],
   "source": [
    "markers_map = {\n",
    "    'cycle1': {\n",
    "        1: 'DNA', \n",
    "        4: 'TEAD1/YAP',\n",
    "    },\n",
    "}\n",
    "\n",
    "def get_info(data_raw, marker_dict):\n",
    "    conditions = []\n",
    "    fovs = []\n",
    "    cycles = []\n",
    "    channels = []\n",
    "    markers = []\n",
    "    paths = [] \n",
    "    \n",
    "    # Loop through image folder\n",
    "    for (dirpath, dirnames, filenames) in os.walk(data_raw):\n",
    "        if 'after nuclease' in dirpath or 'Test' in dirpath or 'wrong' in dirpath:\n",
    "            continue\n",
    "        \n",
    "        for name in sorted(filenames):\n",
    "            if \"tif\" in name and \"sti\" in name \\\n",
    "            and 'overlay' not in name \\\n",
    "            and 'Composite' not in name:\n",
    "                # Get information from image name\n",
    "                \n",
    "                d_split = dirpath.split('\\\\')\n",
    "                condition = d_split[-1].split('_')[1]\n",
    "                n_split = name.split('_')\n",
    "                ch = int(n_split[-1][-5])\n",
    "\n",
    "                cycle = 'cycle1'\n",
    "                try: marker = marker_dict[cycle][ch] \n",
    "                except: continue\n",
    "        \n",
    "                conditions.append(condition)\n",
    "                cycles.append(cycle)\n",
    "                channels.append(ch)\n",
    "                markers.append(marker)\n",
    "                paths.append(os.path.join(dirpath, name))\n",
    "                \n",
    "    info = {\n",
    "            \"Condition\": conditions,\n",
    "            'FOV': conditions, \n",
    "            \"Cycle\": cycles,\n",
    "            \"Channels\": channels,\n",
    "            \"Markers\": markers,\n",
    "            \"Path\": paths\n",
    "        }\n",
    "\n",
    "    df = pd.DataFrame(info)\n",
    "    return df"
   ]
  },
  {
   "cell_type": "code",
   "execution_count": 8,
   "metadata": {},
   "outputs": [
    {
     "name": "stdout",
     "output_type": "stream",
     "text": [
      "Created df\n"
     ]
    }
   ],
   "source": [
    "df_meta_path = data_dir / 'VP_drug' / 'metadata' / 'info.csv'\n",
    "df_meta_path.parent.mkdir(parents=True, exist_ok=True)\n",
    "\n",
    "df_exist = df_meta_path.is_file()\n",
    "\n",
    "if not df_exist:\n",
    "    print('Created df')\n",
    "    df = get_info(data_raw, markers_map)\n",
    "    df.to_csv(df_meta_path, index=False)\n",
    "else:\n",
    "    print('Loaded df')\n",
    "    df = pd.read_csv(df_meta_path)"
   ]
  },
  {
   "cell_type": "code",
   "execution_count": 9,
   "metadata": {},
   "outputs": [
    {
     "data": {
      "text/html": [
       "<div>\n",
       "<style scoped>\n",
       "    .dataframe tbody tr th:only-of-type {\n",
       "        vertical-align: middle;\n",
       "    }\n",
       "\n",
       "    .dataframe tbody tr th {\n",
       "        vertical-align: top;\n",
       "    }\n",
       "\n",
       "    .dataframe thead th {\n",
       "        text-align: right;\n",
       "    }\n",
       "</style>\n",
       "<table border=\"1\" class=\"dataframe\">\n",
       "  <thead>\n",
       "    <tr style=\"text-align: right;\">\n",
       "      <th></th>\n",
       "      <th>Condition</th>\n",
       "      <th>FOV</th>\n",
       "      <th>Cycle</th>\n",
       "      <th>Channels</th>\n",
       "      <th>Markers</th>\n",
       "      <th>Path</th>\n",
       "    </tr>\n",
       "  </thead>\n",
       "  <tbody>\n",
       "    <tr>\n",
       "      <th>0</th>\n",
       "      <td>10uM</td>\n",
       "      <td>10uM</td>\n",
       "      <td>cycle1</td>\n",
       "      <td>1</td>\n",
       "      <td>DNA</td>\n",
       "      <td>Y:\\coskun-lab\\Shuangyi\\ERK, YAP project_2022\\V...</td>\n",
       "    </tr>\n",
       "    <tr>\n",
       "      <th>1</th>\n",
       "      <td>10uM</td>\n",
       "      <td>10uM</td>\n",
       "      <td>cycle1</td>\n",
       "      <td>4</td>\n",
       "      <td>TEAD1/YAP</td>\n",
       "      <td>Y:\\coskun-lab\\Shuangyi\\ERK, YAP project_2022\\V...</td>\n",
       "    </tr>\n",
       "    <tr>\n",
       "      <th>2</th>\n",
       "      <td>1uM</td>\n",
       "      <td>1uM</td>\n",
       "      <td>cycle1</td>\n",
       "      <td>1</td>\n",
       "      <td>DNA</td>\n",
       "      <td>Y:\\coskun-lab\\Shuangyi\\ERK, YAP project_2022\\V...</td>\n",
       "    </tr>\n",
       "    <tr>\n",
       "      <th>3</th>\n",
       "      <td>1uM</td>\n",
       "      <td>1uM</td>\n",
       "      <td>cycle1</td>\n",
       "      <td>4</td>\n",
       "      <td>TEAD1/YAP</td>\n",
       "      <td>Y:\\coskun-lab\\Shuangyi\\ERK, YAP project_2022\\V...</td>\n",
       "    </tr>\n",
       "    <tr>\n",
       "      <th>4</th>\n",
       "      <td>ctrl</td>\n",
       "      <td>ctrl</td>\n",
       "      <td>cycle1</td>\n",
       "      <td>1</td>\n",
       "      <td>DNA</td>\n",
       "      <td>Y:\\coskun-lab\\Shuangyi\\ERK, YAP project_2022\\V...</td>\n",
       "    </tr>\n",
       "    <tr>\n",
       "      <th>5</th>\n",
       "      <td>ctrl</td>\n",
       "      <td>ctrl</td>\n",
       "      <td>cycle1</td>\n",
       "      <td>4</td>\n",
       "      <td>TEAD1/YAP</td>\n",
       "      <td>Y:\\coskun-lab\\Shuangyi\\ERK, YAP project_2022\\V...</td>\n",
       "    </tr>\n",
       "  </tbody>\n",
       "</table>\n",
       "</div>"
      ],
      "text/plain": [
       "  Condition   FOV   Cycle  Channels    Markers  \\\n",
       "0      10uM  10uM  cycle1         1        DNA   \n",
       "1      10uM  10uM  cycle1         4  TEAD1/YAP   \n",
       "2       1uM   1uM  cycle1         1        DNA   \n",
       "3       1uM   1uM  cycle1         4  TEAD1/YAP   \n",
       "4      ctrl  ctrl  cycle1         1        DNA   \n",
       "5      ctrl  ctrl  cycle1         4  TEAD1/YAP   \n",
       "\n",
       "                                                Path  \n",
       "0  Y:\\coskun-lab\\Shuangyi\\ERK, YAP project_2022\\V...  \n",
       "1  Y:\\coskun-lab\\Shuangyi\\ERK, YAP project_2022\\V...  \n",
       "2  Y:\\coskun-lab\\Shuangyi\\ERK, YAP project_2022\\V...  \n",
       "3  Y:\\coskun-lab\\Shuangyi\\ERK, YAP project_2022\\V...  \n",
       "4  Y:\\coskun-lab\\Shuangyi\\ERK, YAP project_2022\\V...  \n",
       "5  Y:\\coskun-lab\\Shuangyi\\ERK, YAP project_2022\\V...  "
      ]
     },
     "execution_count": 9,
     "metadata": {},
     "output_type": "execute_result"
    }
   ],
   "source": [
    "df"
   ]
  },
  {
   "cell_type": "markdown",
   "metadata": {},
   "source": [
    "# Save hdf5"
   ]
  },
  {
   "cell_type": "code",
   "execution_count": 17,
   "metadata": {},
   "outputs": [],
   "source": [
    "import h5py\n",
    "\n",
    "def save_hdf5(\n",
    "    path: str, name: str, data: np.ndarray, attr_dict=None, mode: str = \"a\"\n",
    ") -> None:\n",
    "    # Read h5 file\n",
    "    hf = h5py.File(path, mode)\n",
    "    # Create z_stack_dataset\n",
    "    if hf.get(name) is None:\n",
    "        data_shape = data.shape\n",
    "        data_type = data.dtype\n",
    "        max_shape = (data_shape[0],) + data_shape[1:]\n",
    "        dset = hf.create_dataset(\n",
    "            name,\n",
    "            shape=data_shape,\n",
    "            maxshape=max_shape,\n",
    "            chunks=True,\n",
    "            dtype=data_type,\n",
    "            compression=\"gzip\",\n",
    "        )\n",
    "        dset[:] = data\n",
    "        if attr_dict is not None:\n",
    "            for attr_key, attr_val in attr_dict.items():\n",
    "                dset.attrs[attr_key] = attr_val\n",
    "    else:\n",
    "        print(f\"Dataset {name} exists\")\n",
    "\n",
    "    hf.close()\n",
    "\n",
    "def joblib_loop(task, pics):\n",
    "    return Parallel(n_jobs=20)(delayed(task)(i) for i in pics)\n",
    "\n",
    "def read_img(path):\n",
    "    return skimage.io.imread(path, as_gray=True)\n",
    "\n",
    "def get_min(imgs):\n",
    "    shapes = np.array([np.array(img.shape) for img in imgs])\n",
    "    return np.min(shapes, axis=0)"
   ]
  },
  {
   "cell_type": "code",
   "execution_count": 22,
   "metadata": {},
   "outputs": [
    {
     "name": "stdout",
     "output_type": "stream",
     "text": [
      "Created df\n"
     ]
    },
    {
     "data": {
      "application/vnd.jupyter.widget-view+json": {
       "model_id": "878fbec28b7a436eb9a7af1dd867465f",
       "version_major": 2,
       "version_minor": 0
      },
      "text/plain": [
       "  0%|          | 0/3 [00:00<?, ?it/s]"
      ]
     },
     "metadata": {},
     "output_type": "display_data"
    },
    {
     "name": "stderr",
     "output_type": "stream",
     "text": [
      "c:\\Users\\thu71\\AppData\\Local\\anaconda3\\envs\\scanpy\\Lib\\site-packages\\tqdm\\std.py:1182: FutureWarning: In a future version of pandas, a length 1 tuple will be returned when iterating over a groupby with a grouper equal to a list of length 1. Don't supply a list with a single grouper to avoid this warning.\n",
      "  for obj in iterable:\n"
     ]
    }
   ],
   "source": [
    "df_imgs_path = data_dir /  'VP_drug' / 'metadata' / 'imgs.csv'\n",
    "df_imgs_path.parent.mkdir(parents=True, exist_ok=True)\n",
    "\n",
    "temp_path = data_dir  / 'VP_drug' /  'hdf5' / 'raw'\n",
    "temp_path.mkdir(parents=True, exist_ok=True)\n",
    "\n",
    "df_exist = df_imgs_path.is_file()\n",
    "\n",
    "\n",
    "if not df_exist:\n",
    "    print('Created df')\n",
    "    \n",
    "    group = df.groupby(['Condition'])\n",
    "    rows = []\n",
    "\n",
    "    for name, df_group in tqdm(group, total=len(group)):\n",
    "        file_name = name + '.hdf5'\n",
    "        file_path = temp_path / file_name\n",
    "        rows.append([name]+[file_path])\n",
    "        \n",
    "        channels = df_group.Channels.to_list()\n",
    "        cycles = df_group.Cycle.to_list()\n",
    "        markers = df_group.Markers.to_list()\n",
    "        paths = df_group.Path.to_numpy()\n",
    "            \n",
    "        imgs = joblib_loop(read_img, paths)\n",
    "        min_shape = get_min(imgs)\n",
    "        imgs_cropped = np.array([img[:min_shape[0], :min_shape[1]] for img in imgs])\n",
    "        info = {\"Cycle\": cycles, \"Channel\": channels, \"Marker\": markers}\n",
    "            \n",
    "            # hdf5 as Channel -> Z mapping\n",
    "        save_hdf5(file_path, 'imgs', imgs_cropped, info)\n",
    "    df_imgs = pd.DataFrame(rows, columns=['Condition', 'Path'])        \n",
    "    df_imgs.to_csv(df_imgs_path, index=False)\n",
    "else:\n",
    "    print('Loaded df')\n",
    "    df_imgs = pd.read_csv(df_imgs_path)"
   ]
  },
  {
   "cell_type": "markdown",
   "metadata": {},
   "source": [
    "# Quanfitication PPI"
   ]
  },
  {
   "cell_type": "code",
   "execution_count": 6,
   "metadata": {},
   "outputs": [],
   "source": [
    "import PLA\n",
    "\n",
    "PPI_save_path =  data_dir / 'VP_drug' / 'PPI'\n",
    "PPI_save_path.mkdir(parents=True, exist_ok=True)\n",
    "\n",
    "PPI_imgs_path =  data_dir / 'VP_drug'  / 'PPI_imgs'\n",
    "PPI_imgs_path.mkdir(parents=True, exist_ok=True)"
   ]
  },
  {
   "cell_type": "code",
   "execution_count": 31,
   "metadata": {},
   "outputs": [
    {
     "name": "stdout",
     "output_type": "stream",
     "text": [
      "['DNA' 'TEAD1/YAP']\n",
      "['DNA' 'TEAD1/YAP']\n",
      "['DNA' 'TEAD1/YAP']\n"
     ]
    }
   ],
   "source": [
    "for row in df_imgs.itertuples():\n",
    "    path = row.Path\n",
    "    with h5py.File(path, 'r') as f:\n",
    "        markers = f['imgs'].attrs['Marker']\n",
    "    print(markers)\n"
   ]
  },
  {
   "cell_type": "code",
   "execution_count": 32,
   "metadata": {},
   "outputs": [
    {
     "data": {
      "text/html": [
       "<div>\n",
       "<style scoped>\n",
       "    .dataframe tbody tr th:only-of-type {\n",
       "        vertical-align: middle;\n",
       "    }\n",
       "\n",
       "    .dataframe tbody tr th {\n",
       "        vertical-align: top;\n",
       "    }\n",
       "\n",
       "    .dataframe thead th {\n",
       "        text-align: right;\n",
       "    }\n",
       "</style>\n",
       "<table border=\"1\" class=\"dataframe\">\n",
       "  <thead>\n",
       "    <tr style=\"text-align: right;\">\n",
       "      <th></th>\n",
       "      <th>Condition</th>\n",
       "      <th>Path</th>\n",
       "    </tr>\n",
       "  </thead>\n",
       "  <tbody>\n",
       "    <tr>\n",
       "      <th>0</th>\n",
       "      <td>10uM</td>\n",
       "      <td>y:\\coskun-lab\\Thomas\\23_PLA_revision\\data\\VP_d...</td>\n",
       "    </tr>\n",
       "    <tr>\n",
       "      <th>1</th>\n",
       "      <td>1uM</td>\n",
       "      <td>y:\\coskun-lab\\Thomas\\23_PLA_revision\\data\\VP_d...</td>\n",
       "    </tr>\n",
       "    <tr>\n",
       "      <th>2</th>\n",
       "      <td>ctrl</td>\n",
       "      <td>y:\\coskun-lab\\Thomas\\23_PLA_revision\\data\\VP_d...</td>\n",
       "    </tr>\n",
       "  </tbody>\n",
       "</table>\n",
       "</div>"
      ],
      "text/plain": [
       "  Condition                                               Path\n",
       "0      10uM  y:\\coskun-lab\\Thomas\\23_PLA_revision\\data\\VP_d...\n",
       "1       1uM  y:\\coskun-lab\\Thomas\\23_PLA_revision\\data\\VP_d...\n",
       "2      ctrl  y:\\coskun-lab\\Thomas\\23_PLA_revision\\data\\VP_d..."
      ]
     },
     "execution_count": 32,
     "metadata": {},
     "output_type": "execute_result"
    }
   ],
   "source": [
    "df_imgs"
   ]
  },
  {
   "cell_type": "code",
   "execution_count": 36,
   "metadata": {},
   "outputs": [],
   "source": [
    "PPI_markers = ['TEAD1/YAP']"
   ]
  },
  {
   "cell_type": "code",
   "execution_count": 37,
   "metadata": {},
   "outputs": [
    {
     "name": "stdout",
     "output_type": "stream",
     "text": [
      "Reading image TEAD1/YAP\n",
      "Processing image TEAD1/YAP\n",
      "(array([0, 1], dtype=uint8), array([30727778,  1724824], dtype=int64))\n",
      "Reading image TEAD1/YAP\n",
      "Processing image TEAD1/YAP\n",
      "(array([0, 1], dtype=uint8), array([30285261,  2167341], dtype=int64))\n",
      "Reading image TEAD1/YAP\n",
      "Processing image TEAD1/YAP\n",
      "(array([0, 1], dtype=uint8), array([30409715,  1978585], dtype=int64))\n"
     ]
    }
   ],
   "source": [
    "for row in df_imgs.itertuples():\n",
    "    # Read image\n",
    "    path = row.Path\n",
    "    pla_detect = PLA.PLA_detection(path, name='imgs', m='Marker')\n",
    "    \n",
    "    with h5py.File(path, 'r') as f:\n",
    "        markers = f['imgs'].attrs['Marker']\n",
    "        \n",
    "    imgs_spots = []\n",
    "    imgs_wths = []\n",
    "    imgs_raw = []\n",
    "    for RNA in PPI_markers: \n",
    "        if RNA in markers:\n",
    "            img_spot, img_wth, _, img = pla_detect.detect_spot(RNA, thres=0.03, min_radius=2)\n",
    "            imgs_spots.append(img_spot)\n",
    "            imgs_wths.append(img_wth)\n",
    "            imgs_raw.append(img)\n",
    "\n",
    "    # Save imgs\n",
    "    file_path = PPI_imgs_path / (row[1] + '_raw.tiff')\n",
    "    tiff.imwrite(file_path, imgs_raw)\n",
    "    file_path = PPI_imgs_path / (row[1] + '_processed.tiff')\n",
    "    tiff.imwrite(file_path, imgs_wths)\n",
    "    file_path = PPI_imgs_path / (row[1] + '_detected.tiff')\n",
    "    tiff.imwrite(file_path, imgs_spots)\n",
    "\n",
    "    # Save PPI dict\n",
    "    name = row[1] +'.pkl'\n",
    "    pla_detect.save_pickle(PPI_save_path / name)"
   ]
  },
  {
   "cell_type": "markdown",
   "metadata": {},
   "source": [
    "# Create colony mask"
   ]
  },
  {
   "cell_type": "code",
   "execution_count": 6,
   "metadata": {},
   "outputs": [],
   "source": [
    "df_imgs_path = data_dir /  'VP_drug' / 'metadata' / 'imgs.csv'\n",
    "df_imgs = pd.read_csv(df_imgs_path)"
   ]
  },
  {
   "cell_type": "code",
   "execution_count": 7,
   "metadata": {},
   "outputs": [],
   "source": [
    "import napari \n",
    "\n",
    "for row in df_imgs.itertuples():\n",
    "    # Read image\n",
    "    path = row.Path\n",
    "    \n",
    "    with h5py.File(path, 'r') as f:\n",
    "        markers = f['imgs'].attrs['Marker']\n",
    "        imgs = f['imgs'][:]\n",
    "\n",
    "    napari.view_image(imgs, contrast_limits=[0 ,1 ], channel_axis=0)"
   ]
  },
  {
   "cell_type": "code",
   "execution_count": 8,
   "metadata": {},
   "outputs": [
    {
     "data": {
      "text/html": [
       "<div>\n",
       "<style scoped>\n",
       "    .dataframe tbody tr th:only-of-type {\n",
       "        vertical-align: middle;\n",
       "    }\n",
       "\n",
       "    .dataframe tbody tr th {\n",
       "        vertical-align: top;\n",
       "    }\n",
       "\n",
       "    .dataframe thead th {\n",
       "        text-align: right;\n",
       "    }\n",
       "</style>\n",
       "<table border=\"1\" class=\"dataframe\">\n",
       "  <thead>\n",
       "    <tr style=\"text-align: right;\">\n",
       "      <th></th>\n",
       "      <th>Condition</th>\n",
       "      <th>Path</th>\n",
       "    </tr>\n",
       "  </thead>\n",
       "  <tbody>\n",
       "    <tr>\n",
       "      <th>0</th>\n",
       "      <td>10uM</td>\n",
       "      <td>y:\\coskun-lab\\Thomas\\23_PLA_revision\\data\\VP_d...</td>\n",
       "    </tr>\n",
       "    <tr>\n",
       "      <th>1</th>\n",
       "      <td>1uM</td>\n",
       "      <td>y:\\coskun-lab\\Thomas\\23_PLA_revision\\data\\VP_d...</td>\n",
       "    </tr>\n",
       "    <tr>\n",
       "      <th>2</th>\n",
       "      <td>ctrl</td>\n",
       "      <td>y:\\coskun-lab\\Thomas\\23_PLA_revision\\data\\VP_d...</td>\n",
       "    </tr>\n",
       "  </tbody>\n",
       "</table>\n",
       "</div>"
      ],
      "text/plain": [
       "  Condition                                               Path\n",
       "0      10uM  y:\\coskun-lab\\Thomas\\23_PLA_revision\\data\\VP_d...\n",
       "1       1uM  y:\\coskun-lab\\Thomas\\23_PLA_revision\\data\\VP_d...\n",
       "2      ctrl  y:\\coskun-lab\\Thomas\\23_PLA_revision\\data\\VP_d..."
      ]
     },
     "execution_count": 8,
     "metadata": {},
     "output_type": "execute_result"
    }
   ],
   "source": [
    "df_imgs"
   ]
  },
  {
   "cell_type": "markdown",
   "metadata": {},
   "source": [
    "# Quantification"
   ]
  },
  {
   "cell_type": "code",
   "execution_count": 19,
   "metadata": {},
   "outputs": [],
   "source": [
    "import pickle \n",
    "\n",
    "def read_PPI(path):\n",
    "    with open(path, 'rb') as file:\n",
    "        PPI_dict = pickle.load(file)\n",
    "\n",
    "    return PPI_dict\n",
    "\n",
    "\n",
    "def create_PPI_df(PPI_labels, PPI_loc, name, cyto=True):\n",
    "    if cyto:\n",
    "        columns_name = ['Cyto', 'x', 'y']\n",
    "    else:\n",
    "        columns_name = ['Nuclei', 'x', 'y']\n",
    "    df = pd.DataFrame(np.hstack([PPI_labels[:,np.newaxis], PPI_loc]), \n",
    "                      columns=columns_name)\n",
    "    df['PPI'] = name\n",
    "    return df"
   ]
  },
  {
   "cell_type": "code",
   "execution_count": 20,
   "metadata": {},
   "outputs": [],
   "source": [
    "mask_filt_dir = data_dir / 'VP_drug' / 'masks'\n",
    "PPI_save_path =  data_dir / 'VP_drug' / 'PPI'\n"
   ]
  },
  {
   "cell_type": "code",
   "execution_count": 30,
   "metadata": {},
   "outputs": [],
   "source": [
    "dfs = []\n",
    "masks_area = {}\n",
    "\n",
    "for row in df_imgs.itertuples():\n",
    "    name = row[1]\n",
    "    mask = skimage.io.imread(mask_filt_dir / (name + '.png')) \n",
    "    masks_area[name] = np.count_nonzero(mask)  \n",
    "    \n",
    "    with h5py.File(path, 'r') as f:\n",
    "        markers = f['imgs'].attrs['Marker']\n",
    "        imgs = f['imgs'][:]\n",
    "\n",
    "    # Read PPi\n",
    "    PPI_dict = read_PPI(PPI_save_path / f'{name}.pkl') \n",
    "    for k in PPI_dict.keys():\n",
    "        PPI_loc = PPI_dict[k][:, 1:3].astype(np.uint32)\n",
    "\n",
    "        # Cyto\n",
    "        PPI_labels = []\n",
    "        for i in range(len(PPI_loc)):\n",
    "            try:\n",
    "                l = mask[PPI_loc[i,0], PPI_loc[i,1]]\n",
    "            except:\n",
    "                l = 0\n",
    "            PPI_labels.append(l)\n",
    "        df_PPI = create_PPI_df(np.array(PPI_labels), PPI_loc, k)\n",
    "        df_PPI['Condition'] = name\n",
    "        dfs.append(df_PPI)"
   ]
  },
  {
   "cell_type": "code",
   "execution_count": 41,
   "metadata": {},
   "outputs": [
    {
     "data": {
      "text/html": [
       "<div>\n",
       "<style scoped>\n",
       "    .dataframe tbody tr th:only-of-type {\n",
       "        vertical-align: middle;\n",
       "    }\n",
       "\n",
       "    .dataframe tbody tr th {\n",
       "        vertical-align: top;\n",
       "    }\n",
       "\n",
       "    .dataframe thead th {\n",
       "        text-align: right;\n",
       "    }\n",
       "</style>\n",
       "<table border=\"1\" class=\"dataframe\">\n",
       "  <thead>\n",
       "    <tr style=\"text-align: right;\">\n",
       "      <th></th>\n",
       "      <th>Condition</th>\n",
       "      <th>Area</th>\n",
       "    </tr>\n",
       "  </thead>\n",
       "  <tbody>\n",
       "    <tr>\n",
       "      <th>0</th>\n",
       "      <td>10uM</td>\n",
       "      <td>11414844</td>\n",
       "    </tr>\n",
       "    <tr>\n",
       "      <th>1</th>\n",
       "      <td>1uM</td>\n",
       "      <td>21356099</td>\n",
       "    </tr>\n",
       "    <tr>\n",
       "      <th>2</th>\n",
       "      <td>ctrl</td>\n",
       "      <td>18948855</td>\n",
       "    </tr>\n",
       "  </tbody>\n",
       "</table>\n",
       "</div>"
      ],
      "text/plain": [
       "  Condition      Area\n",
       "0      10uM  11414844\n",
       "1       1uM  21356099\n",
       "2      ctrl  18948855"
      ]
     },
     "execution_count": 41,
     "metadata": {},
     "output_type": "execute_result"
    }
   ],
   "source": [
    "df_area = pd.DataFrame.from_dict(masks_area, orient='index').reset_index()\n",
    "df_area.columns=['Condition', 'Area']\n",
    "df_area"
   ]
  },
  {
   "cell_type": "code",
   "execution_count": 44,
   "metadata": {},
   "outputs": [
    {
     "data": {
      "text/html": [
       "<div>\n",
       "<style scoped>\n",
       "    .dataframe tbody tr th:only-of-type {\n",
       "        vertical-align: middle;\n",
       "    }\n",
       "\n",
       "    .dataframe tbody tr th {\n",
       "        vertical-align: top;\n",
       "    }\n",
       "\n",
       "    .dataframe thead th {\n",
       "        text-align: right;\n",
       "    }\n",
       "</style>\n",
       "<table border=\"1\" class=\"dataframe\">\n",
       "  <thead>\n",
       "    <tr style=\"text-align: right;\">\n",
       "      <th></th>\n",
       "      <th>Condition</th>\n",
       "      <th>Count</th>\n",
       "      <th>Area</th>\n",
       "      <th>Count per area</th>\n",
       "    </tr>\n",
       "  </thead>\n",
       "  <tbody>\n",
       "    <tr>\n",
       "      <th>0</th>\n",
       "      <td>10uM</td>\n",
       "      <td>36779</td>\n",
       "      <td>11414844</td>\n",
       "      <td>0.003222</td>\n",
       "    </tr>\n",
       "    <tr>\n",
       "      <th>1</th>\n",
       "      <td>1uM</td>\n",
       "      <td>52255</td>\n",
       "      <td>21356099</td>\n",
       "      <td>0.002447</td>\n",
       "    </tr>\n",
       "    <tr>\n",
       "      <th>2</th>\n",
       "      <td>ctrl</td>\n",
       "      <td>43763</td>\n",
       "      <td>18948855</td>\n",
       "      <td>0.002310</td>\n",
       "    </tr>\n",
       "  </tbody>\n",
       "</table>\n",
       "</div>"
      ],
      "text/plain": [
       "  Condition  Count      Area  Count per area\n",
       "0      10uM  36779  11414844        0.003222\n",
       "1       1uM  52255  21356099        0.002447\n",
       "2      ctrl  43763  18948855        0.002310"
      ]
     },
     "execution_count": 44,
     "metadata": {},
     "output_type": "execute_result"
    }
   ],
   "source": [
    "df = pd.concat(dfs)\n",
    "df = df[df.Cyto>0]\n",
    "df_count = df.groupby(['Condition']).size().reset_index()\n",
    "df_count.columns = ['Condition', 'Count']\n",
    "df_count = df_count.merge(df_area)\n",
    "df_count['Count per area'] = df_count['Count'].div(df_count['Area'])\n",
    "df_count"
   ]
  },
  {
   "cell_type": "code",
   "execution_count": 45,
   "metadata": {},
   "outputs": [
    {
     "data": {
      "text/plain": [
       "<Axes: xlabel='Condition', ylabel='Count'>"
      ]
     },
     "execution_count": 45,
     "metadata": {},
     "output_type": "execute_result"
    },
    {
     "data": {
      "image/png": "[encoded data removed]",
      "text/plain": [
       "<Figure size 640x480 with 1 Axes>"
      ]
     },
     "metadata": {},
     "output_type": "display_data"
    }
   ],
   "source": [
    "import seaborn as sns \n",
    "\n",
    "sns.barplot(data = df_count, x='Condition', y='Count')"
   ]
  },
  {
   "cell_type": "code",
   "execution_count": 48,
   "metadata": {},
   "outputs": [
    {
     "data": {
      "text/plain": [
       "<Axes: xlabel='Condition', ylabel='Count per area'>"
      ]
     },
     "execution_count": 48,
     "metadata": {},
     "output_type": "execute_result"
    },
    {
     "data": {
      "image/png": "[encoded data removed]",
      "text/plain": [
       "<Figure size 640x480 with 1 Axes>"
      ]
     },
     "metadata": {},
     "output_type": "display_data"
    }
   ],
   "source": [
    "import seaborn as sns \n",
    "\n",
    "sns.barplot(data = df_count, x='Condition', y='Count per area')"
   ]
  }
 ],
 "metadata": {
  "kernelspec": {
   "display_name": "Python 3",
   "language": "python",
   "name": "python3"
  },
  "language_info": {
   "codemirror_mode": {
    "name": "ipython",
    "version": 3
   },
   "file_extension": ".py",
   "mimetype": "text/x-python",
   "name": "python",
   "nbconvert_exporter": "python",
   "pygments_lexer": "ipython3",
   "version": "3.11.4"
  }
 },
 "nbformat": 4,
 "nbformat_minor": 2
}
