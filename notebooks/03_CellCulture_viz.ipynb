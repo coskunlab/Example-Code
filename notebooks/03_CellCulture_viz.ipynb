{
 "cells": [
  {
   "cell_type": "code",
   "execution_count": 1,
   "id": "04d7d1b2-bbcc-474e-947c-79d0c8ba35fe",
   "metadata": {},
   "outputs": [],
   "source": [
    "# import itertools\n",
    "import os\n",
    "import sys\n",
    "from pathlib import Path\n",
    "\n",
    "import cv2\n",
    "import matplotlib.pyplot as plt\n",
    "import numpy as np\n",
    "import pandas as pd\n",
    "import skimage.io\n",
    "\n",
    "from collections import defaultdict\n",
    "from tqdm.auto import tqdm\n",
    "from joblib import Parallel, delayed\n",
    "import re\n",
    "import h5py\n",
    "import napari\n",
    "import tifffile as tiff\n",
    "import seaborn as sns\n",
    "import pickle"
   ]
  },
  {
   "cell_type": "code",
   "execution_count": 2,
   "id": "53736ef6-8ed8-444d-96ae-e4726c4557e2",
   "metadata": {},
   "outputs": [],
   "source": [
    "%load_ext autoreload\n",
    "%autoreload 2"
   ]
  },
  {
   "cell_type": "code",
   "execution_count": 3,
   "id": "8f298528-b18d-4dfa-af11-017b81b4b666",
   "metadata": {},
   "outputs": [],
   "source": [
    "p_dir = (Path().cwd().parents[0]).absolute()\n",
    "\n",
    "module_path = str(p_dir / \"src\")\n",
    "\n",
    "if module_path not in sys.path:\n",
    "    sys.path.append(module_path)"
   ]
  },
  {
   "cell_type": "code",
   "execution_count": 4,
   "id": "1d735e38-5364-48e8-929a-6101db78e0e3",
   "metadata": {},
   "outputs": [],
   "source": [
    "data_dir = (Path().cwd().parents[0] / 'data').absolute()\n",
    "fig_dir = (Path().cwd().parents[0] / 'figure').absolute()\n",
    "\n",
    "df_meta_path = data_dir / 'OCT Cell Culture' / 'Whole' / 'metadata' /  'imgs_reg_norm.csv'\n",
    "df_imgs = pd.read_csv(df_meta_path)"
   ]
  },
  {
   "cell_type": "markdown",
   "id": "5e2e2ef2-4ea2-467e-ab29-1a48b50ec432",
   "metadata": {
    "jp-MarkdownHeadingCollapsed": true,
    "tags": []
   },
   "source": [
    "# Viz images"
   ]
  },
  {
   "cell_type": "code",
   "execution_count": 5,
   "id": "9b9fbe48-f951-4b30-bbcd-c27fba1af7f6",
   "metadata": {},
   "outputs": [],
   "source": [
    "def plot_spot_on_image(reference, spots, spacing, radius):\n",
    "    spot_img = np.zeros_like(reference)\n",
    "    coords = (spots[:, :3] / spacing).astype(int)\n",
    "    r = radius  # shorthand\n",
    "    for coord in coords:\n",
    "        slc = tuple(slice(x-r, x+r) for x in coord)\n",
    "        spot_img[slc] = 1\n",
    "    return spot_img"
   ]
  },
  {
   "cell_type": "code",
   "execution_count": 6,
   "id": "bc02cae3-17c5-4dfb-abc3-64a917b2c34e",
   "metadata": {},
   "outputs": [
    {
     "data": {
      "text/html": [
       "<div>\n",
       "<style scoped>\n",
       "    .dataframe tbody tr th:only-of-type {\n",
       "        vertical-align: middle;\n",
       "    }\n",
       "\n",
       "    .dataframe tbody tr th {\n",
       "        vertical-align: top;\n",
       "    }\n",
       "\n",
       "    .dataframe thead th {\n",
       "        text-align: right;\n",
       "    }\n",
       "</style>\n",
       "<table border=\"1\" class=\"dataframe\">\n",
       "  <thead>\n",
       "    <tr style=\"text-align: right;\">\n",
       "      <th></th>\n",
       "      <th>Timepoint</th>\n",
       "      <th>FOV</th>\n",
       "      <th>Path</th>\n",
       "    </tr>\n",
       "  </thead>\n",
       "  <tbody>\n",
       "    <tr>\n",
       "      <th>0</th>\n",
       "      <td>HCC827Ctrl</td>\n",
       "      <td>FW1</td>\n",
       "      <td>Y:\\coskun-lab\\Thomas\\15_PLA\\data\\OCT Cell Cult...</td>\n",
       "    </tr>\n",
       "    <tr>\n",
       "      <th>1</th>\n",
       "      <td>HCC827Ctrl</td>\n",
       "      <td>FW2</td>\n",
       "      <td>Y:\\coskun-lab\\Thomas\\15_PLA\\data\\OCT Cell Cult...</td>\n",
       "    </tr>\n",
       "    <tr>\n",
       "      <th>2</th>\n",
       "      <td>HCC827Osim</td>\n",
       "      <td>FW1</td>\n",
       "      <td>Y:\\coskun-lab\\Thomas\\15_PLA\\data\\OCT Cell Cult...</td>\n",
       "    </tr>\n",
       "    <tr>\n",
       "      <th>3</th>\n",
       "      <td>HCC827Osim</td>\n",
       "      <td>FW2</td>\n",
       "      <td>Y:\\coskun-lab\\Thomas\\15_PLA\\data\\OCT Cell Cult...</td>\n",
       "    </tr>\n",
       "  </tbody>\n",
       "</table>\n",
       "</div>"
      ],
      "text/plain": [
       "    Timepoint  FOV                                               Path\n",
       "0  HCC827Ctrl  FW1  Y:\\coskun-lab\\Thomas\\15_PLA\\data\\OCT Cell Cult...\n",
       "1  HCC827Ctrl  FW2  Y:\\coskun-lab\\Thomas\\15_PLA\\data\\OCT Cell Cult...\n",
       "2  HCC827Osim  FW1  Y:\\coskun-lab\\Thomas\\15_PLA\\data\\OCT Cell Cult...\n",
       "3  HCC827Osim  FW2  Y:\\coskun-lab\\Thomas\\15_PLA\\data\\OCT Cell Cult..."
      ]
     },
     "execution_count": 6,
     "metadata": {},
     "output_type": "execute_result"
    }
   ],
   "source": [
    "df_imgs"
   ]
  },
  {
   "cell_type": "code",
   "execution_count": 7,
   "id": "9a214f7a-0a30-42af-84c1-b853ef837672",
   "metadata": {},
   "outputs": [],
   "source": [
    "path = df_imgs.iloc[0].Path"
   ]
  },
  {
   "cell_type": "code",
   "execution_count": 8,
   "id": "621b5cec-495c-4332-a934-4b181bf70fd9",
   "metadata": {},
   "outputs": [],
   "source": [
    "# with h5py.File(path, \"r\") as f:\n",
    "#     imgs = f['imgs'][:]\n",
    "#     markers = f['imgs'].attrs['Marker']"
   ]
  },
  {
   "cell_type": "code",
   "execution_count": 9,
   "id": "a21d2591-52bc-46a9-bb61-163e4dd7f1a2",
   "metadata": {},
   "outputs": [],
   "source": [
    "# napari.view_image(imgs, channel_axis=0, name=markers, visible=False, contrast_limits=[0,1])"
   ]
  },
  {
   "cell_type": "markdown",
   "id": "e18369f6-100c-4781-ba12-4ba1b5b182b1",
   "metadata": {
    "tags": []
   },
   "source": [
    "# Viz PPI network"
   ]
  },
  {
   "cell_type": "code",
   "execution_count": 5,
   "id": "7c5d5a10-3b0a-4c0d-9582-9e5c3014c0b2",
   "metadata": {},
   "outputs": [],
   "source": [
    "import networkx as nx\n",
    "\n",
    "def read_pkl(path):\n",
    "    with open(path, 'rb') as f:\n",
    "        item = pickle.load(f)\n",
    "    return item\n",
    "\n",
    "def get_contours(contours, key, cell):\n",
    "    contour_cell = contours[key]['Cell'][int(cell)]\n",
    "    try:\n",
    "        contour_nuclei = contours[key]['Nuclei'][int(cell)]\n",
    "    except:\n",
    "        contour_nuclei = None\n",
    "    return contour_cell, contour_nuclei\n",
    "\n",
    "def plot_network(g, label, ax, **kwargs):\n",
    "    pos = nx.get_node_attributes(g, 'pos')\n",
    "    pos_T = {k: v[[1,0]] for k,v in pos.items()}\n",
    "    \n",
    "    nx.draw(g, pos_T, node_color=label, with_labels=False, ax=ax, **kwargs)\n",
    "    return ax\n",
    "    \n",
    "def plot_contour(contour_cell, contour_nuclei, ax, linewidth=2):\n",
    "    contour = max(contour_cell, key = len)\n",
    "    ax.plot(contour[:, 1], contour[:, 0], linewidth=linewidth, color='red')\n",
    "    try:\n",
    "        contour = max(contour_nuclei, key = len)\n",
    "        ax.plot(contour[:, 1], contour[:, 0], linewidth=linewidth, color='blue')\n",
    "    except:\n",
    "        pass"
   ]
  },
  {
   "cell_type": "code",
   "execution_count": 6,
   "id": "05f5a3bd-aaa6-4639-a4a5-7405466a9fa2",
   "metadata": {},
   "outputs": [
    {
     "name": "stdout",
     "output_type": "stream",
     "text": [
      "[array(['CylinE & CDK2', 'Mcl-1 & BAK', 'P-ERK & c-MYC', 'TEAD1 & YAP1',\n",
      "       'p-AKT & mTOR'], dtype=object)]\n"
     ]
    }
   ],
   "source": [
    "from sklearn.preprocessing import OneHotEncoder\n",
    "import matplotlib \n",
    "import scanpy\n",
    "\n",
    "# Get encoder \n",
    "PPI_save_path =  data_dir / 'OCT Cell Culture' / 'Whole' / 'PPI'\n",
    "\n",
    "# Read PPi info \n",
    "dfs = []\n",
    "for path in os.listdir(PPI_save_path):\n",
    "    if 'csv' in path:\n",
    "        df = pd.read_csv(PPI_save_path / path)\n",
    "        dfs.append(df)\n",
    "df = pd.concat(dfs)\n",
    "\n",
    "# Create label \n",
    "enc = OneHotEncoder(handle_unknown='ignore')\n",
    "labels = enc.fit_transform(df['PPI'].to_numpy().reshape(-1, 1)).toarray().astype(np.uint8)\n",
    "df['Labels'] = labels.tolist()\n",
    "print(enc.categories_)\n",
    "PPIs_name = enc.categories_[0]\n",
    "\n",
    "# Define colormap\n",
    "colors = [ '#ff00ff', '#00FF00', '#FF0000',  '#00FFFF', '#FFFF00']\n",
    "\n",
    "colors_rgb = []\n",
    "for color in colors:\n",
    "    colors_rgb.append(matplotlib.colors.hex2color(color))\n",
    "colors_rgb = np.array(colors_rgb) * 255\n",
    "colors_rgb = colors_rgb.astype(np.uint8)\n",
    "\n",
    "colors_rgb_dict = {k:v for k,v in zip(PPIs_name, colors_rgb)}"
   ]
  },
  {
   "cell_type": "code",
   "execution_count": 7,
   "id": "8ab973dd-e44b-4634-95ec-d43ce2624b55",
   "metadata": {},
   "outputs": [
    {
     "data": {
      "image/png": "[encoded data removed]",
      "text/plain": [
       "<Figure size 100x500 with 1 Axes>"
      ]
     },
     "metadata": {},
     "output_type": "display_data"
    }
   ],
   "source": [
    "# legend\n",
    "fig, ax = plt.subplots(figsize=(1,len(PPIs_name)))\n",
    "ax.barh(y=range(len(colors_rgb_dict.values())), \n",
    "        color=np.array(list(colors_rgb_dict.values()))/255,\n",
    "        width=1, \n",
    "        height=1,\n",
    "        edgecolor='k',\n",
    "        linewidth=3,\n",
    "       )\n",
    "\n",
    "_ = plt.yticks(range(len(colors_rgb_dict.values())), colors_rgb_dict.keys(), rotation=0, size=20)\n",
    "_ = plt.xticks([])\n",
    "ax.spines['top'].set_visible(False)\n",
    "ax.spines['right'].set_visible(False)\n",
    "ax.spines['bottom'].set_visible(False)\n",
    "ax.spines['left'].set_visible(False)\n",
    "ax.tick_params(axis=u'both', which=u'both',length=0)\n",
    "# ax.yaxis.tick_right()\n",
    "ax.invert_yaxis()\n",
    "ax.grid(False)"
   ]
  },
  {
   "cell_type": "code",
   "execution_count": 13,
   "id": "6b0e7fb1-27fd-464e-a54b-fed8b2fd5c31",
   "metadata": {},
   "outputs": [
    {
     "name": "stdout",
     "output_type": "stream",
     "text": [
      "Loading graphs\n",
      "Loading contours\n"
     ]
    }
   ],
   "source": [
    "import PLA\n",
    "\n",
    "graph_save_path =  data_dir / 'OCT Cell Culture' / 'Whole' / 'graphs' / 'raw'\n",
    "contour_save_path =  data_dir / 'OCT Cell Culture' / 'Whole' / 'contours'\n",
    "\n",
    "cell_data = PLA.cell_data(contour_save_path, graph_save_path)"
   ]
  },
  {
   "cell_type": "code",
   "execution_count": 14,
   "id": "413832bf-af14-4cff-bea6-d74e7795e0ed",
   "metadata": {
    "tags": []
   },
   "outputs": [
    {
     "name": "stdout",
     "output_type": "stream",
     "text": [
      "{'labels', 'pos', 'nuclei'}\n"
     ]
    }
   ],
   "source": [
    "# Check if graph connected\n",
    "df_subset = cell_data.df.sample(100)\n",
    "for i in range(len(df_subset)):\n",
    "    # Info\n",
    "    row = df_subset.iloc[i]\n",
    "    key = '_'.join(row.iloc[:2])\n",
    "    \n",
    "    cell = row.iloc[2]\n",
    "    \n",
    "    # Get graph\n",
    "    network = read_pkl(row.Path)\n",
    "    \n",
    "    if not nx.is_connected(network):\n",
    "        print(row)\n",
    "        \n",
    "# Print existing node attributes in graph\n",
    "node_attr = {k for attr_dict in network.nodes.data()._nodes.values() for k in attr_dict.keys()}\n",
    "print(node_attr)"
   ]
  },
  {
   "cell_type": "code",
   "execution_count": 15,
   "id": "875c272f-d3d9-4736-ba0c-6b0f283c5fbd",
   "metadata": {
    "tags": []
   },
   "outputs": [],
   "source": [
    "# df_subset = cell_data.df.sample(10, random_state=0)\n",
    "\n",
    "# for i in range(len(df_subset)):\n",
    "#     # Info\n",
    "#     row = df_subset.iloc[i]\n",
    "#     key = '_'.join(row.iloc[:2])\n",
    "#     cell = row.iloc[2]\n",
    "    \n",
    "#     # Get graph\n",
    "#     network = read_pkl(row.Path)\n",
    "#     network.remove_edges_from(list(nx.selfloop_edges(network)))\n",
    "    \n",
    "#     nuclei = list(nx.get_node_attributes(network, 'nuclei').values())\n",
    "#     labels = list(nx.get_node_attributes(network, 'labels').values())\n",
    "#     labels = np.argmax(labels, axis=1)\n",
    "#     node_colors = [colors_rgb_dict[PPIs_name[i]]/255 for i in labels]\n",
    "\n",
    "#     # Get contours\n",
    "#     contour_cell, contour_nuclei = get_contours(cell_data.contours, key, cell)\n",
    "    \n",
    "#     # Plot\n",
    "#     f, axs = plt.subplots(1, 2, figsize=(8,4))\n",
    "#     ax = axs[0]\n",
    "#     ax = plot_network(network,  nuclei, ax, node_size=40, cmap='jet', edgecolors='k')\n",
    "#     plot_contour(contour_cell, contour_nuclei, ax)\n",
    "#     ax = axs[1]\n",
    "#     ax = plot_network(network,  node_colors , ax, node_size=40, edgecolors='k')\n",
    "#     plot_contour(contour_cell, None, ax, linewidth=1)\n",
    "#     axs[0].invert_yaxis()\n",
    "#     axs[1].invert_yaxis()\n",
    "#     plt.show()\n",
    "#     break"
   ]
  },
  {
   "cell_type": "markdown",
   "id": "947b2040-c656-4f97-bb41-fd35f707bfdb",
   "metadata": {
    "tags": []
   },
   "source": [
    "# Plot Whole FOV PPI network"
   ]
  },
  {
   "cell_type": "code",
   "execution_count": 19,
   "id": "4185d93b-62e5-4d99-a97c-441faa032e43",
   "metadata": {},
   "outputs": [],
   "source": [
    "group = cell_data.df.groupby(['Condition', 'FOV'])"
   ]
  },
  {
   "cell_type": "code",
   "execution_count": 66,
   "id": "85cbb4a3-9780-4135-96ca-a55f4f7e4d45",
   "metadata": {},
   "outputs": [],
   "source": [
    "fig_path = fig_dir / 'PPI' / 'OCT Cell Culture' / 'Whole' / 'FOV'\n",
    "fig_path.mkdir(parents=True, exist_ok=True)"
   ]
  },
  {
   "cell_type": "code",
   "execution_count": 67,
   "id": "74e61fa4-7cca-444a-928c-bf4482a3a5db",
   "metadata": {
    "tags": []
   },
   "outputs": [],
   "source": [
    "# # Loop through Condition FOV\n",
    "# for name, df_group in group:\n",
    "#     # Get imgs shape \n",
    "#     path = df_imgs[(df_imgs.Timepoint == name[0]) & (df_imgs.FOV == name[1])].Path.item()\n",
    "#     with h5py.File(path, \"r\") as f:\n",
    "#         img_shape = f['imgs'].shape[1:]\n",
    "    \n",
    "#     img_fov = np.zeros(img_shape)\n",
    "    \n",
    "#     fig, ax = plt.subplots(figsize=(20,10))\n",
    "#     ax.imshow(img_fov, cmap='gray', vmin=0, vmax=255)\n",
    "#     ax.axis('off')\n",
    "#     ax.set_facecolor('k')\n",
    "\n",
    "#     # Get Individual cell\n",
    "#     for row in df_group.itertuples():\n",
    "#         key = '_'.join(row[1:3])\n",
    "#         cell = row[3]\n",
    "#         # Get contours\n",
    "#         contour_cell, contour_nuclei = get_contours(cell_data.contours, key, cell)\n",
    "#         contour = max(contour_cell, key = len)\n",
    "        \n",
    "#         # Plot contours\n",
    "#         plot_contour(contour_cell, contour_nuclei, ax, linewidth=0.5)\n",
    "        \n",
    "#         # Get graph\n",
    "#         network = read_pkl(row.Path)\n",
    "#         network.remove_edges_from(list(nx.selfloop_edges(network)))\n",
    "\n",
    "#         nuclei = list(nx.get_node_attributes(network, 'nuclei').values())\n",
    "#         labels = list(nx.get_node_attributes(network, 'labels').values())\n",
    "#         labels = np.argmax(labels, axis=1)\n",
    "#         node_colors = [colors_rgb_dict[PPIs_name[i]]/255 for i in labels]\n",
    "        \n",
    "#         # Plot network\n",
    "#         plot_network(network,  node_colors, ax, node_size=2, linewidths=0, edgecolors='w', width=0.3, edge_color='w')\n",
    "    \n",
    "#     file_name = '_'.join(name)\n",
    "#     fig.savefig(fig_path / f'{file_name}.png', dpi=800, transparent=True, bbox_inches='tight', pad_inches=0)\n",
    "#     plt.close()\n"
   ]
  },
  {
   "cell_type": "markdown",
   "id": "e01baf14-0b26-4736-8259-0701553a49a8",
   "metadata": {
    "jp-MarkdownHeadingCollapsed": true,
    "tags": []
   },
   "source": [
    "# Plot with visual examples"
   ]
  },
  {
   "cell_type": "code",
   "execution_count": 8,
   "id": "4f30a576-55e0-48bd-ab21-7f140fb17a09",
   "metadata": {
    "tags": []
   },
   "outputs": [],
   "source": [
    "from skimage.morphology import white_tophat as skimage_white_tophat\n",
    "from copy import deepcopy\n",
    "\n",
    "# Read images\n",
    "def read_img_bbox(path, bbox, pad = 20):\n",
    "    min_y, min_x, max_y, max_x = bbox\n",
    "    min_y = np.clip(min_y - pad, a_min=0, a_max=None)\n",
    "    min_x = np.clip(min_x - pad, a_min=0, a_max=None)\n",
    "    max_y += pad\n",
    "    max_x += pad\n",
    "    \n",
    "    with h5py.File(path, \"r\") as f:\n",
    "        markers = f['imgs'].attrs['Marker']\n",
    "        imgs = f['imgs'][..., min_y:max_y, min_x:max_x]\n",
    "    \n",
    "    return imgs, markers\n",
    "\n",
    "def white_tophat(image, radius):\n",
    "        # ensure iterable radius\n",
    "        if not isinstance(radius, (tuple, list, np.ndarray)):\n",
    "            radius = (radius,)*image.ndim\n",
    "\n",
    "        # convert to footprint shape\n",
    "        shape = [2*r+1 for r in radius]\n",
    "\n",
    "        # run white tophat\n",
    "        return skimage_white_tophat(image, footprint=np.ones(shape))\n",
    "    \n",
    "    \n",
    "def plot_contour_mean(contour_cell, contour_nuclei, offset, ax, linewidth=1):\n",
    "    contour = deepcopy(max(contour_cell, key = len))\n",
    "    contour -= np.array(offset)\n",
    "    ax.plot(contour[:, 1], contour[:, 0], linewidth=linewidth, color='red')\n",
    "    try:\n",
    "        contour = deepcopy(max(contour_nuclei, key = len))\n",
    "        contour -= np.array(offset)\n",
    "        ax.plot(contour[:, 1], contour[:, 0], linewidth=linewidth, color='blue')\n",
    "    except:\n",
    "        pass\n",
    "    \n",
    "from matplotlib.colors import ListedColormap,LinearSegmentedColormap\n",
    "\n",
    "blue = LinearSegmentedColormap.from_list(\n",
    "        \"Blue\", [[0.0, 0.0, 0.0, 0.0], [0.0, 0.0, 1.0, 1.0]])\n",
    "\n",
    "def plot_PPI(imgs, markers, contour_cell, contour_nuclei, offset, ax, \n",
    "             colors_rgb_dict=colors_rgb_dict, \n",
    "             q_min=0.8,\n",
    "             q_max=0.999,\n",
    "             subset=['Hoeschst', 'TEAD1 & YAP1', 'CylinE & CDK2', 'P-ERK & c-MYC', 'p-AKT & mTOR', 'Mcl-1 & BAK']):\n",
    "    for i in range(len(subset)):\n",
    "        indice = list(markers).index(subset[i])\n",
    "        if i == 0:\n",
    "            ax.imshow(imgs[indice], vmin=0, vmax=1.0, cmap=blue)\n",
    "        else:\n",
    "            # Get custom colormap \n",
    "            c_cmap = LinearSegmentedColormap.from_list(\"Blue\", \n",
    "                                            [[0.0, 0.0, 0.0, 0.0], \n",
    "                                             np.array(list(colors_rgb_dict[subset[i]])+[255])/255])\n",
    "            ax.imshow(imgs[indice], vmin=np.quantile(imgs[indice], q_min), \n",
    "                      vmax=np.quantile(imgs[indice], q_max), \n",
    "                      cmap=c_cmap)\n",
    "        ax.axis('off')\n",
    "        if contour_cell is not None:\n",
    "            plot_contour_mean(contour_cell, contour_nuclei, offset, ax)"
   ]
  },
  {
   "cell_type": "code",
   "execution_count": 10,
   "id": "d12c937f-4305-4d35-8f64-2f6acaa50b34",
   "metadata": {},
   "outputs": [],
   "source": [
    "fig_path = fig_dir / 'PPI' / 'OCT Cell Culture' / 'Whole' / 'Cell'\n",
    "fig_path.mkdir(parents=True, exist_ok=True)    \n",
    "\n",
    "# subset = ['Hoeschst',  'Ki67', 'Tom20', 'Pan-cytokeratin', 'p-EGFR', 'Golph4']\n",
    "subset = ['Hoeschst',  'p-EGFR']\n",
    "colors_rgb_dict_protein = {k:v for k,v in zip(subset[1:], colors_rgb_dict.values())}"
   ]
  },
  {
   "cell_type": "code",
   "execution_count": 17,
   "id": "3822cf61-0fbd-4f11-ae98-e2d4b8075b90",
   "metadata": {
    "tags": []
   },
   "outputs": [],
   "source": [
    "df_subset = cell_data.df\n",
    "\n",
    "pad = 5\n",
    "for i in range(len(df_subset)):\n",
    "    # Info\n",
    "    row = df_subset.iloc[i]\n",
    "    key = '_'.join(row.iloc[:2])\n",
    "    cell = row.iloc[2]\n",
    "    \n",
    "    file_name = '_'.join([key, cell])\n",
    "    if (fig_path / f'{file_name}.png').exists():\n",
    "        continue\n",
    "        \n",
    "    # Get image path\n",
    "    img_path = df_imgs[(df_imgs.FOV == row.FOV) & (df_imgs.Timepoint == row.Condition)].Path.item()\n",
    "    \n",
    "    # Get contours\n",
    "    contour_cell, contour_nuclei = get_contours(cell_data.contours, key, cell)\n",
    "    contour = max(contour_cell, key = len)\n",
    "    max_y, max_x = contour.max(axis=0).astype(int)\n",
    "    min_y, min_x = contour.min(axis=0).astype(int)\n",
    "    \n",
    "    # Get mutiplex images\n",
    "    img, markers = read_img_bbox(img_path, [min_y, min_x, max_y, max_x], pad=pad)\n",
    "    img = white_tophat(img, 3)\n",
    "    \n",
    "    # Get graph\n",
    "    network = read_pkl(row.Path)\n",
    "    network.remove_edges_from(list(nx.selfloop_edges(network)))\n",
    "    \n",
    "    nuclei = list(nx.get_node_attributes(network, 'nuclei').values())\n",
    "    labels = list(nx.get_node_attributes(network, 'labels').values())\n",
    "    labels = np.argmax(labels, axis=1)\n",
    "    node_colors = [colors_rgb_dict[PPIs_name[i]]/255 for i in labels]\n",
    "    \n",
    "    with plt.style.context('dark_background'):\n",
    "        \n",
    "        # Plot Graph\n",
    "        f, axs = plt.subplots(1, 3, figsize=(12,4), facecolor='k')\n",
    "        ax = axs[0]\n",
    "        plot_network(network,  node_colors, ax, node_size=60, edgecolors='w', width=1.5, edge_color='w')\n",
    "        plot_contour(contour_cell, contour_nuclei, ax, linewidth=1)\n",
    "        ax.set_facecolor('k')\n",
    "\n",
    "        ax=axs[1]\n",
    "        ax.set_facecolor('k')\n",
    "        plot_PPI(img, markers, contour_cell, contour_nuclei, offset=[min_y-pad, min_x-pad], ax=ax)\n",
    "        \n",
    "        ax=axs[2]\n",
    "        ax.set_facecolor('k')\n",
    "        plot_PPI(img, markers, None, None, offset=[min_y-pad, min_x-pad], colors_rgb_dict=colors_rgb_dict_protein,\n",
    "                 subset = subset,\n",
    "                 q_min=0.02,\n",
    "                 q_max=0.99,\n",
    "                 ax=ax)\n",
    "\n",
    "        axs[0].invert_yaxis()\n",
    "        axs[0].set_aspect('equal')\n",
    "        f.set_facecolor(\"#00000F\")\n",
    "        f.subplots_adjust(wspace=0.01)\n",
    "        f.suptitle(f'{key}_{cell}', fontsize=16, color='w')\n",
    "        \n",
    "        file_name = '_'.join([key, cell])\n",
    "        f.savefig(fig_path / f'{file_name}.png', dpi=800, transparent=True, bbox_inches='tight', pad_inches=0)\n",
    "        plt.close()"
   ]
  },
  {
   "cell_type": "code",
   "execution_count": 11,
   "id": "7c808df5-b33c-4a9e-aeeb-8ed51df01e7a",
   "metadata": {
    "tags": []
   },
   "outputs": [
    {
     "data": {
      "image/png": "[encoded data removed]",
      "text/plain": [
       "<Figure size 100x500 with 1 Axes>"
      ]
     },
     "metadata": {},
     "output_type": "display_data"
    }
   ],
   "source": [
    "# legend\n",
    "fig, ax = plt.subplots(figsize=(1,len(PPIs_name)))\n",
    "ax.barh(y=range(len(colors_rgb_dict_protein.values())), \n",
    "        color=np.array(list(colors_rgb_dict_protein.values()))/255,\n",
    "        width=1, \n",
    "        height=1,\n",
    "        edgecolor='k',\n",
    "        linewidth=3,\n",
    "       )\n",
    "\n",
    "_ = plt.yticks(range(len(colors_rgb_dict_protein.values())), colors_rgb_dict_protein.keys(), rotation=0, size=20)\n",
    "_ = plt.xticks([])\n",
    "ax.spines['top'].set_visible(False)\n",
    "ax.spines['right'].set_visible(False)\n",
    "ax.spines['bottom'].set_visible(False)\n",
    "ax.spines['left'].set_visible(False)\n",
    "ax.tick_params(axis=u'both', which=u'both',length=0)\n",
    "# ax.yaxis.tick_right()\n",
    "ax.invert_yaxis()\n",
    "ax.grid(False)"
   ]
  },
  {
   "cell_type": "code",
   "execution_count": null,
   "id": "6d6207aa-0fe2-4c44-bd5d-0f2ad64c8839",
   "metadata": {
    "tags": []
   },
   "outputs": [],
   "source": [
    "# import napari\n",
    "\n",
    "# napari.view_image(img, channel_axis=0, name=markers, visible=False)"
   ]
  },
  {
   "cell_type": "markdown",
   "id": "173c2bfd-8625-4812-9e8c-f494072ad6f3",
   "metadata": {
    "tags": []
   },
   "source": [
    "# Coexpression "
   ]
  },
  {
   "cell_type": "code",
   "execution_count": 12,
   "id": "41aa6959-9e4f-42ad-9f9d-dc97fd29d6ea",
   "metadata": {
    "tags": []
   },
   "outputs": [],
   "source": [
    "import numpy as np\n",
    "from scipy import stats\n",
    "import matplotlib \n",
    "\n",
    "def create_HM(\n",
    "    df_per_label, my_cmap, scale_name, cellSizePixels=25, **kwargs\n",
    "):\n",
    "    # Calulate the figure size, this gets us close, but not quite to the right place\n",
    "    dpi = matplotlib.rcParams[\"figure.dpi\"]\n",
    "    marginWidth = (\n",
    "        matplotlib.rcParams[\"figure.subplot.right\"]\n",
    "        - matplotlib.rcParams[\"figure.subplot.left\"]\n",
    "    )\n",
    "    marginHeight = (\n",
    "        matplotlib.rcParams[\"figure.subplot.top\"]\n",
    "        - matplotlib.rcParams[\"figure.subplot.bottom\"]\n",
    "    )\n",
    "    Ny, Nx = df_per_label.shape\n",
    "    figWidth = (Nx * cellSizePixels / dpi) / marginWidth\n",
    "    figHeigh = (Ny * cellSizePixels / dpi) / marginHeight\n",
    "\n",
    "    ax = sns.clustermap(\n",
    "        df_per_label,\n",
    "        cbar_kws={\"fraction\": 0.01},\n",
    "        cmap=my_cmap,\n",
    "        linewidth=0.1,\n",
    "        dendrogram_ratio=(0.1, 0.1),\n",
    "        figsize=(figWidth, figHeigh),\n",
    "        **kwargs,\n",
    "    )\n",
    "    ax.ax_heatmap.set_yticklabels(ax.ax_heatmap.get_yticklabels(), rotation=0)\n",
    "    ax.ax_heatmap.set_xticklabels(\n",
    "        ax.ax_heatmap.get_xticklabels(), rotation=45, horizontalalignment=\"right\"\n",
    "    )\n",
    "    ax.ax_heatmap.set_xlabel(\"Marker\")\n",
    "    ax.ax_heatmap.set_ylabel(\"Marker\")\n",
    "\n",
    "    # calculate the size of the heatmap axes\n",
    "    axWidth = (Nx * cellSizePixels) / (figWidth * dpi)\n",
    "    axHeight = (Ny * cellSizePixels) / (figHeigh * dpi)\n",
    "\n",
    "    # resize heatmap\n",
    "    ax_heatmap_orig_pos = ax.ax_heatmap.get_position()\n",
    "    ax.ax_heatmap.set_position(\n",
    "        [ax_heatmap_orig_pos.x0, ax_heatmap_orig_pos.y0, axWidth, axHeight]\n",
    "    )\n",
    "\n",
    "    # resize dendrograms to match\n",
    "    ax_row_orig_pos = ax.ax_row_dendrogram.get_position()\n",
    "    ax.ax_row_dendrogram.set_position(\n",
    "        [ax_row_orig_pos.x0, ax_row_orig_pos.y0, ax_row_orig_pos.width, axHeight]\n",
    "    )\n",
    "    ax_col_orig_pos = ax.ax_col_dendrogram.get_position()\n",
    "    ax.ax_col_dendrogram.set_position([ax_col_orig_pos.x0, ax_heatmap_orig_pos.y0+axHeight,\n",
    "                                         axWidth, ax_col_orig_pos.height])\n",
    "\n",
    "    # Change colorbar label position\n",
    "    cbar = ax.ax_heatmap.collections[0].colorbar\n",
    "    cbar.set_label(scale_name, fontsize=12)\n",
    "    \n",
    "    pos = ax.ax_heatmap.get_position()\n",
    "    cbar_size=0.6\n",
    "    ax.ax_cbar.set_position((1.8, pos.y0, .03, cbar_size))\n",
    "\n",
    "    for _, spine in ax.ax_heatmap.spines.items():\n",
    "        spine.set_visible(True)\n",
    "        spine.set_linewidth(3)\n",
    "\n",
    "def generate_correlation_map(x, y):\n",
    "    corr = np.empty((len(x), len(y)))\n",
    "    p_val = np.empty((len(x), len(y)))\n",
    "    for n in range(x.shape[0]):\n",
    "        for m in range(y.shape[0]):\n",
    "            result = stats.pearsonr(x[n, :], y[m, :])\n",
    "            corr[n, m] = result[0]\n",
    "            p_val[n, m] = result[1]\n",
    "    return corr, p_val"
   ]
  },
  {
   "cell_type": "code",
   "execution_count": 13,
   "id": "04cf7c05-8ad1-48d6-8b47-6f57a1227424",
   "metadata": {},
   "outputs": [],
   "source": [
    "# Read PPI expression data\n",
    "PPI_save_path =  data_dir / 'OCT Cell Culture' / 'Whole' / 'PPI' / 'expression'\n",
    "\n",
    "dfs = []\n",
    "for path in os.listdir(PPI_save_path):\n",
    "    if 'csv' in path:\n",
    "        df = pd.read_csv(PPI_save_path / path, index_col=0)\n",
    "        dfs.append(df)\n",
    "\n",
    "df_exp = pd.concat(dfs)\n",
    "\n",
    "df_exp.drop(['Phalloidin', 'Golph4', 'NBD-C6', 'COX IV'], axis=1, inplace=True)\n",
    "\n",
    "# Check for general trend y converting to adata and groupby by Condition\n",
    "df_obs = df_exp.iloc[:, :8]\n",
    "df_marker_exp = df_exp.iloc[:, 8:]\n",
    "# df_norm = (df_marker_exp-df_marker_exp.min())/(df_marker_exp.max()-df_marker_exp.min())\n",
    "# df_norm = (df_marker_exp - df_marker_exp.mean())/df_marker_exp.std()\n",
    "df_norm = (df_marker_exp-df_marker_exp.quantile(0.05))/(df_marker_exp.quantile(0.95)-df_marker_exp.quantile(0.05))\n",
    "df_norm = df_norm.clip(lower=0, upper=1)\n",
    "df_exp.iloc[:, 8:] = df_norm\n"
   ]
  },
  {
   "cell_type": "code",
   "execution_count": 14,
   "id": "fa3833cf-ad4f-4c89-ad64-5e0f5f7303ee",
   "metadata": {},
   "outputs": [],
   "source": [
    "label = 'PPI'\n",
    "PPI_names = ['TEAD1 & YAP1', 'CylinE & CDK2', 'P-ERK & c-MYC', 'p-AKT & mTOR', 'Mcl-1 & BAK']\n",
    "# protein_marker_names = ['p-EGFR', 'Tom20', 'Pan-cytokeratin', 'Golph4', 'Ki67', 'NBD-C6', 'COX IV','Concanavalin A', 'WGA']\n",
    "protein_marker_names = ['p-EGFR', 'Tom20', 'Pan-cytokeratin', 'Ki67', 'Concanavalin A', 'WGA']"
   ]
  },
  {
   "cell_type": "code",
   "execution_count": 15,
   "id": "e97efc4d-1840-417d-aa3c-a77897ab777c",
   "metadata": {},
   "outputs": [
    {
     "data": {
      "image/png": "[encoded data removed]",
      "text/plain": [
       "<Figure size 232.258x194.805 with 4 Axes>"
      ]
     },
     "metadata": {},
     "output_type": "display_data"
    }
   ],
   "source": [
    "x = df_exp[PPI_names].values.T\n",
    "y = df_exp[protein_marker_names].values.T\n",
    "\n",
    "# Get correlation\n",
    "corr, p_val = generate_correlation_map(x, y)\n",
    "\n",
    "# Import into dataframe\n",
    "df_corr = pd.DataFrame(corr, index=PPI_names, columns=protein_marker_names, )\n",
    "\n",
    "with sns.plotting_context('talk', font_scale=0.6):\n",
    "    create_HM(df_corr, 'bwr', 'Correlation', cellSizePixels=30)"
   ]
  },
  {
   "cell_type": "code",
   "execution_count": 16,
   "id": "733c6181-c106-4a5c-9d39-af86a6de8c4c",
   "metadata": {},
   "outputs": [
    {
     "name": "stderr",
     "output_type": "stream",
     "text": [
      "C:\\Users\\thu71\\AppData\\Local\\Temp\\ipykernel_27200\\4239256979.py:2: FutureWarning: In a future version of pandas, a length 1 tuple will be returned when iterating over a groupby with a grouper equal to a list of length 1. Don't supply a list with a single grouper to avoid this warning.\n",
      "  for name, df_group in group:\n"
     ]
    },
    {
     "name": "stdout",
     "output_type": "stream",
     "text": [
      "HCC827Ctrl\n",
      "HCC827Osim\n"
     ]
    },
    {
     "data": {
      "image/png": "[encoded data removed]",
      "text/plain": [
       "<Figure size 232.258x194.805 with 4 Axes>"
      ]
     },
     "metadata": {},
     "output_type": "display_data"
    },
    {
     "data": {
      "image/png": "[encoded data removed]",
      "text/plain": [
       "<Figure size 232.258x194.805 with 4 Axes>"
      ]
     },
     "metadata": {},
     "output_type": "display_data"
    }
   ],
   "source": [
    "group = df_exp.groupby(['Condition'])\n",
    "for name, df_group in group:\n",
    "    print(name)\n",
    "    x = df_group[PPI_names].values.T\n",
    "    y = df_group[protein_marker_names].values.T\n",
    "    \n",
    "    # Get correlation\n",
    "    corr, p_val = generate_correlation_map(x, y)\n",
    "    \n",
    "    # Import into dataframe\n",
    "    df_corr = pd.DataFrame(corr, index=PPI_names, columns=protein_marker_names)\n",
    "    \n",
    "    # Create HM\n",
    "    with sns.plotting_context('talk', font_scale=0.6):\n",
    "        create_HM(df_corr, 'bwr', 'Correlation', cellSizePixels=30)\n",
    "    "
   ]
  },
  {
   "cell_type": "code",
   "execution_count": null,
   "id": "b066a07f-1c1a-475d-9699-fbee4445af73",
   "metadata": {},
   "outputs": [],
   "source": []
  },
  {
   "cell_type": "code",
   "execution_count": null,
   "id": "9402ad4d-a319-4138-a75c-ccc457f4fb5e",
   "metadata": {},
   "outputs": [],
   "source": [
    "def plot_spot_on_image(reference, spots, spacing, radius):\n",
    "        spot_img = np.zeros_like(reference)\n",
    "        coords = (spots[:, :3] / spacing).astype(int)\n",
    "        r = radius  # shorthand\n",
    "        for coord in coords:\n",
    "            slc = tuple(slice(x-r, x+r) for x in coord)\n",
    "            spot_img[slc] = 1\n",
    "        return spot_img"
   ]
  }
 ],
 "metadata": {
  "kernelspec": {
   "display_name": "Python [conda env:PLA]",
   "language": "python",
   "name": "conda-env-PLA-py"
  },
  "language_info": {
   "codemirror_mode": {
    "name": "ipython",
    "version": 3
   },
   "file_extension": ".py",
   "mimetype": "text/x-python",
   "name": "python",
   "nbconvert_exporter": "python",
   "pygments_lexer": "ipython3",
   "version": "3.9.16"
  }
 },
 "nbformat": 4,
 "nbformat_minor": 5
}
