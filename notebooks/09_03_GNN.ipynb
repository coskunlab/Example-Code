{
 "cells": [
  {
   "cell_type": "code",
   "execution_count": 1,
   "metadata": {},
   "outputs": [],
   "source": [
    "import os\n",
    "import sys\n",
    "from pathlib import Path\n",
    "\n",
    "import cv2\n",
    "import matplotlib.pyplot as plt\n",
    "import numpy as np\n",
    "import pandas as pd\n",
    "import skimage.io\n",
    "\n",
    "from collections import defaultdict\n",
    "from tqdm.auto import tqdm\n",
    "from joblib import Parallel, delayed\n",
    "import re\n",
    "import pickle\n",
    "\n",
    "import networkx as nx\n",
    "from sklearn.model_selection import train_test_split"
   ]
  },
  {
   "cell_type": "code",
   "execution_count": 2,
   "metadata": {},
   "outputs": [],
   "source": [
    "import torch_geometric.utils\n",
    "import torch"
   ]
  },
  {
   "cell_type": "code",
   "execution_count": 3,
   "metadata": {},
   "outputs": [],
   "source": [
    "%load_ext autoreload\n",
    "%autoreload 2"
   ]
  },
  {
   "cell_type": "code",
   "execution_count": 4,
   "metadata": {},
   "outputs": [],
   "source": [
    "p_dir = (Path().cwd().parents[0]).absolute()\n",
    "\n",
    "module_path = str(p_dir / \"src\")\n",
    "\n",
    "if module_path not in sys.path:\n",
    "    sys.path.append(module_path)"
   ]
  },
  {
   "cell_type": "code",
   "execution_count": 5,
   "metadata": {},
   "outputs": [],
   "source": [
    "data_dir = (Path().cwd().parents[0] / 'data').absolute()"
   ]
  },
  {
   "cell_type": "code",
   "execution_count": 6,
   "metadata": {},
   "outputs": [
    {
     "name": "stderr",
     "output_type": "stream",
     "text": [
      "c:\\Users\\thu71\\AppData\\Local\\anaconda3\\envs\\scanpy\\Lib\\site-packages\\torchvision\\io\\image.py:13: UserWarning: Failed to load image Python extension: '[WinError 127] The specified procedure could not be found'If you don't plan on using image functionality from `torchvision.io`, you can ignore this warning. Otherwise, there might be something wrong with your environment. Did you have `libjpeg` or `libpng` installed before building `torchvision` from source?\n",
      "  warn(\n"
     ]
    }
   ],
   "source": [
    "import lightning.pytorch as pl\n",
    "import PPIGraph"
   ]
  },
  {
   "cell_type": "markdown",
   "metadata": {},
   "source": [
    "# Load dataset"
   ]
  },
  {
   "cell_type": "code",
   "execution_count": 7,
   "metadata": {},
   "outputs": [],
   "source": [
    "from torch_geometric.loader import DataLoader\n",
    "\n",
    "# Define condition mapping\n",
    "condition_mapping = {'control': 0, '100nM': 1}\n",
    "\n",
    "# Load graph dataset and process if neede\n",
    "graph_path = data_dir / '13cyc_3D' / 'graphs' \n",
    "\n",
    "dataset = PPIGraph.GraphDataset(graph_path, 'raw', 'pt', condition_mapping=condition_mapping, n_c=2)\n",
    "train_set, val_set, test_set = PPIGraph.train_test_val_split(dataset)\n",
    "\n",
    "# Create Dataloader\n",
    "train_loader = DataLoader(train_set, batch_size=32, shuffle=True)\n",
    "val_loader = DataLoader(val_set, batch_size=32, shuffle=True)\n",
    "test_loader = DataLoader(test_set, batch_size=32, shuffle=False)\n"
   ]
  },
  {
   "cell_type": "code",
   "execution_count": 8,
   "metadata": {},
   "outputs": [
    {
     "name": "stdout",
     "output_type": "stream",
     "text": [
      "Dataset: GraphDataset(2492):\n",
      "======================\n",
      "Number of graphs: 2492\n",
      "Number of features: 13\n",
      "Number of classes: 2\n",
      "Train set: 1197, test set: 996, val set: 299\n",
      "Step 1:\n",
      "=======\n",
      "Number of graphs in the current batch: 32\n",
      "DataBatch(edge_index=[2, 48480], pos=[3906, 3], labels=[3906, 13], nuclei=[3906], weight=[48480], condition=[32], fov=[32], id=[32], train_mask=[3906], test_mask=[3906], x=[3906, 13], y=[32], edge_weight=[48480], name=[32], batch=[3906], ptr=[33])\n",
      "\n"
     ]
    }
   ],
   "source": [
    "# Print some information on the dataset\n",
    "print(f'Dataset: {dataset}:')\n",
    "print('======================')\n",
    "print(f'Number of graphs: {len(dataset)}')\n",
    "print(f'Number of features: {dataset.num_features}')\n",
    "print(f'Number of classes: {dataset.num_classes}')\n",
    "\n",
    "print(f'Train set: {len(train_set)}, test set: {len(test_set)}, val set: {len(val_set)}')\n",
    "for step, data in enumerate(train_loader):\n",
    "\n",
    "    print(f'Step {step + 1}:')\n",
    "    print('=======')\n",
    "    print(f'Number of graphs in the current batch: {data.num_graphs}')\n",
    "    print(data)\n",
    "    print()\n",
    "    break"
   ]
  },
  {
   "cell_type": "code",
   "execution_count": 9,
   "metadata": {},
   "outputs": [
    {
     "name": "stdout",
     "output_type": "stream",
     "text": [
      "Dataset: GraphDataset(2492):\n",
      "======================\n",
      "Number of graphs: 2492\n",
      "Number of features: 13\n",
      "Number of classes: 2\n",
      "Train set: 1197, test set: 996, val set: 299\n",
      "Step 1:\n",
      "=======\n",
      "Number of graphs in the current batch: 32\n",
      "DataBatch(edge_index=[2, 48706], pos=[3916, 3], labels=[3916, 13], nuclei=[3916], weight=[48706], condition=[32], fov=[32], id=[32], train_mask=[3916], test_mask=[3916], x=[3916, 13], y=[32], edge_weight=[48706], name=[32], batch=[3916], ptr=[33])\n",
      "\n"
     ]
    }
   ],
   "source": [
    "# Print some information on the dataset\n",
    "print(f'Dataset: {dataset}:')\n",
    "print('======================')\n",
    "print(f'Number of graphs: {len(dataset)}')\n",
    "print(f'Number of features: {dataset.num_features}')\n",
    "print(f'Number of classes: {dataset.num_classes}')\n",
    "\n",
    "print(f'Train set: {len(train_set)}, test set: {len(test_set)}, val set: {len(val_set)}')\n",
    "for step, data in enumerate(train_loader):\n",
    "\n",
    "    print(f'Step {step + 1}:')\n",
    "    print('=======')\n",
    "    print(f'Number of graphs in the current batch: {data.num_graphs}')\n",
    "    print(data)\n",
    "    print()\n",
    "    break"
   ]
  },
  {
   "cell_type": "markdown",
   "metadata": {},
   "source": [
    "# K-fold on filter dataset"
   ]
  },
  {
   "cell_type": "code",
   "execution_count": 10,
   "metadata": {},
   "outputs": [],
   "source": [
    "import itertools\n",
    "from lightning.pytorch.accelerators import find_usable_cuda_devices\n",
    "import wandb"
   ]
  },
  {
   "cell_type": "code",
   "execution_count": 11,
   "metadata": {},
   "outputs": [],
   "source": [
    "from sklearn.model_selection import KFold, StratifiedKFold\n",
    "from torch.utils.data import SubsetRandomSampler"
   ]
  },
  {
   "cell_type": "code",
   "execution_count": 12,
   "metadata": {},
   "outputs": [],
   "source": [
    "# Filter out by maximum number of counts per cell\n",
    "min_count = 20\n",
    "max_count = 50\n",
    "\n",
    "graph_path = data_dir / '13cyc_3D' / 'graphs' \n",
    "dataset = PPIGraph.GraphDataset(graph_path, 'raw', 'pt', condition_mapping=condition_mapping, n_c=2)\n",
    "\n",
    "# Create Dataloader\n",
    "loader = DataLoader(dataset, batch_size=1, shuffle=False)\n",
    "\n",
    "# Get Indices\n",
    "indices = []\n",
    "for step, data in enumerate(loader):\n",
    "    if len(data.x) <= min_count:\n",
    "        continue \n",
    "    \n",
    "    if (data.x.sum(axis=0) >= max_count).any():\n",
    "        continue\n",
    "    indices.append(step)\n",
    "    \n",
    "# Get subset dataset\n",
    "dataset_filtered = dataset.index_select(indices)\n"
   ]
  },
  {
   "cell_type": "code",
   "execution_count": 13,
   "metadata": {},
   "outputs": [
    {
     "data": {
      "text/plain": [
       "2153"
      ]
     },
     "execution_count": 13,
     "metadata": {},
     "output_type": "execute_result"
    }
   ],
   "source": [
    "len(dataset_filtered)"
   ]
  },
  {
   "cell_type": "code",
   "execution_count": 14,
   "metadata": {},
   "outputs": [],
   "source": [
    "dataset_name = '13PPI_3D'\n",
    "condition = 'Kfold'\n",
    "checkpoint_folder = (Path().cwd().parents[0]).absolute() / 'data' / '13cyc_3D' /\"saved_models_v2\" / dataset_name / f\"Graph_GNNs_{condition}\" \n",
    "project_name = f'PLA_01182024_{dataset_name}_{condition}'"
   ]
  },
  {
   "cell_type": "code",
   "execution_count": 15,
   "metadata": {},
   "outputs": [
    {
     "name": "stderr",
     "output_type": "stream",
     "text": [
      "Global seed set to 42\n"
     ]
    }
   ],
   "source": [
    "AVAIL_GPUS = [0]\n",
    "\n",
    "# Setting the seed\n",
    "pl.seed_everything(42)\n",
    "epochs = 80\n",
    "\n",
    "# NUM_LAYERS = 2\n",
    "# HIDDEN_CHANNELS = 16\n",
    "# pools = ['mean', 'max', 'sum', 'attention', 'attention2']\n",
    "# num_layers = [2,3,4]\n",
    "# hiddens = [16, 32, 64]\n",
    "\n",
    "\n",
    "# # model = 'GAT'\n",
    "# model = 'GINConv'\n",
    "params = [[2,64,'attention','MLP'], \n",
    "[2,16,'attention','GraphConv'],\n",
    "[2,64,'attention2','GCN'],\n",
    "[3,64,'attention','GAT_norm'],\n",
    "[3,16,'mean','GINConv_norm']]"
   ]
  },
  {
   "cell_type": "code",
   "execution_count": 16,
   "metadata": {},
   "outputs": [
    {
     "data": {
      "text/plain": [
       "[[2, 64, 'attention', 'MLP'],\n",
       " [2, 16, 'attention', 'GraphConv'],\n",
       " [2, 64, 'attention2', 'GCN'],\n",
       " [3, 64, 'attention', 'GAT_norm'],\n",
       " [3, 16, 'mean', 'GINConv_norm']]"
      ]
     },
     "execution_count": 16,
     "metadata": {},
     "output_type": "execute_result"
    }
   ],
   "source": [
    "params"
   ]
  },
  {
   "cell_type": "code",
   "execution_count": 17,
   "metadata": {},
   "outputs": [
    {
     "name": "stderr",
     "output_type": "stream",
     "text": [
      "Failed to detect the name of this notebook, you can set it manually with the WANDB_NOTEBOOK_NAME environment variable to enable code saving.\n",
      "\u001b[34m\u001b[1mwandb\u001b[0m: Currently logged in as: \u001b[33mthoomas\u001b[0m. Use \u001b[1m`wandb login --relogin`\u001b[0m to force relogin\n"
     ]
    },
    {
     "data": {
      "text/html": [
       "wandb version 0.16.2 is available!  To upgrade, please run:\n",
       " $ pip install wandb --upgrade"
      ],
      "text/plain": [
       "<IPython.core.display.HTML object>"
      ]
     },
     "metadata": {},
     "output_type": "display_data"
    },
    {
     "data": {
      "text/html": [
       "Tracking run with wandb version 0.15.8"
      ],
      "text/plain": [
       "<IPython.core.display.HTML object>"
      ]
     },
     "metadata": {},
     "output_type": "display_data"
    },
    {
     "data": {
      "text/html": [
       "Run data is saved locally in <code>y:\\coskun-lab\\Thomas\\23_PLA_revision\\notebooks\\wandb\\run-20240118_171230-qwmhc1zw</code>"
      ],
      "text/plain": [
       "<IPython.core.display.HTML object>"
      ]
     },
     "metadata": {},
     "output_type": "display_data"
    },
    {
     "data": {
      "text/html": [
       "Syncing run <strong><a href='https://wandb.ai/thoomas/PLA_01182024_13PPI_3D_Kfold/runs/qwmhc1zw' target=\"_blank\">MLP_2_64_onehot_0</a></strong> to <a href='https://wandb.ai/thoomas/PLA_01182024_13PPI_3D_Kfold' target=\"_blank\">Weights & Biases</a> (<a href='https://wandb.me/run' target=\"_blank\">docs</a>)<br/>"
      ],
      "text/plain": [
       "<IPython.core.display.HTML object>"
      ]
     },
     "metadata": {},
     "output_type": "display_data"
    },
    {
     "data": {
      "text/html": [
       " View project at <a href='https://wandb.ai/thoomas/PLA_01182024_13PPI_3D_Kfold' target=\"_blank\">https://wandb.ai/thoomas/PLA_01182024_13PPI_3D_Kfold</a>"
      ],
      "text/plain": [
       "<IPython.core.display.HTML object>"
      ]
     },
     "metadata": {},
     "output_type": "display_data"
    },
    {
     "data": {
      "text/html": [
       " View run at <a href='https://wandb.ai/thoomas/PLA_01182024_13PPI_3D_Kfold/runs/qwmhc1zw' target=\"_blank\">https://wandb.ai/thoomas/PLA_01182024_13PPI_3D_Kfold/runs/qwmhc1zw</a>"
      ],
      "text/plain": [
       "<IPython.core.display.HTML object>"
      ]
     },
     "metadata": {},
     "output_type": "display_data"
    },
    {
     "name": "stderr",
     "output_type": "stream",
     "text": [
      "Global seed set to 42\n",
      "c:\\Users\\thu71\\AppData\\Local\\anaconda3\\envs\\scanpy\\Lib\\site-packages\\pytorch_lightning\\loggers\\wandb.py:397: UserWarning: There is a wandb run already in progress and newly created instances of `WandbLogger` will reuse this run. If this is not desired, call `wandb.finish()` before instantiating `WandbLogger`.\n",
      "  rank_zero_warn(\n",
      "GPU available: True (cuda), used: True\n",
      "TPU available: False, using: 0 TPU cores\n",
      "IPU available: False, using: 0 IPUs\n",
      "HPU available: False, using: 0 HPUs\n",
      "Global seed set to 42\n",
      "c:\\Users\\thu71\\AppData\\Local\\anaconda3\\envs\\scanpy\\Lib\\site-packages\\torch_geometric\\deprecation.py:22: UserWarning: 'nn.glob.GlobalAttention' is deprecated, use 'nn.aggr.AttentionalAggregation' instead\n",
      "  warnings.warn(out)\n"
     ]
    },
    {
     "name": "stdout",
     "output_type": "stream",
     "text": [
      "Using MLP\n"
     ]
    },
    {
     "name": "stderr",
     "output_type": "stream",
     "text": [
      "You are using a CUDA device ('NVIDIA RTX A2000 12GB') that has Tensor Cores. To properly utilize them, you should set `torch.set_float32_matmul_precision('medium' | 'high')` which will trade-off precision for performance. For more details, read https://pytorch.org/docs/stable/generated/torch.set_float32_matmul_precision.html#torch.set_float32_matmul_precision\n",
      "c:\\Users\\thu71\\AppData\\Local\\anaconda3\\envs\\scanpy\\Lib\\site-packages\\lightning\\pytorch\\callbacks\\model_checkpoint.py:617: UserWarning: Checkpoint directory \\\\bme-retromaster.ad.gatech.edu\\labs5\\coskun-lab\\Thomas\\23_PLA_revision\\data\\13cyc_3D\\saved_models_v2\\13PPI_3D\\Graph_GNNs_Kfold\\MLP_2_64_onehot_0\\attention\\GraphLevelMLP exists and is not empty.\n",
      "  rank_zero_warn(f\"Checkpoint directory {dirpath} exists and is not empty.\")\n",
      "LOCAL_RANK: 0 - CUDA_VISIBLE_DEVICES: [0]\n",
      "\n",
      "   | Name        | Type             | Params\n",
      "--------------------------------------------------\n",
      "0  | x_embedding | Identity         | 0     \n",
      "1  | model       | MLPModel         | 5.1 K \n",
      "2  | head        | Sequential       | 2.1 K \n",
      "3  | loss_module | CrossEntropyLoss | 0     \n",
      "4  | train_acc   | BinaryAccuracy   | 0     \n",
      "5  | train_auroc | BinaryAUROC      | 0     \n",
      "6  | train_f1    | BinaryF1Score    | 0     \n",
      "7  | valid_acc   | BinaryAccuracy   | 0     \n",
      "8  | valid_auroc | BinaryAUROC      | 0     \n",
      "9  | valid_f1    | BinaryF1Score    | 0     \n",
      "10 | pool        | GlobalAttention  | 65    \n",
      "--------------------------------------------------\n",
      "7.3 K     Trainable params\n",
      "0         Non-trainable params\n",
      "7.3 K     Total params\n",
      "0.029     Total estimated model params size (MB)\n",
      "c:\\Users\\thu71\\AppData\\Local\\anaconda3\\envs\\scanpy\\Lib\\site-packages\\lightning\\pytorch\\trainer\\connectors\\data_connector.py:486: PossibleUserWarning: Your `val_dataloader`'s sampler has shuffling enabled, it is strongly recommended that you turn shuffling off for val/test dataloaders.\n",
      "  rank_zero_warn(\n",
      "c:\\Users\\thu71\\AppData\\Local\\anaconda3\\envs\\scanpy\\Lib\\site-packages\\lightning\\pytorch\\trainer\\connectors\\data_connector.py:438: PossibleUserWarning: The dataloader, val_dataloader, does not have many workers which may be a bottleneck. Consider increasing the value of the `num_workers` argument` (try 24 which is the number of cpus on this machine) in the `DataLoader` init to improve performance.\n",
      "  rank_zero_warn(\n",
      "c:\\Users\\thu71\\AppData\\Local\\anaconda3\\envs\\scanpy\\Lib\\site-packages\\lightning\\pytorch\\utilities\\data.py:76: UserWarning: Trying to infer the `batch_size` from an ambiguous collection. The batch size we found is 2. To avoid any miscalculations, use `self.log(..., batch_size=batch_size)`.\n",
      "  warning_cache.warn(\n",
      "c:\\Users\\thu71\\AppData\\Local\\anaconda3\\envs\\scanpy\\Lib\\site-packages\\lightning\\pytorch\\trainer\\connectors\\data_connector.py:438: PossibleUserWarning: The dataloader, train_dataloader, does not have many workers which may be a bottleneck. Consider increasing the value of the `num_workers` argument` (try 24 which is the number of cpus on this machine) in the `DataLoader` init to improve performance.\n",
      "  rank_zero_warn(\n",
      "`Trainer.fit` stopped: `max_epochs=80` reached.\n"
     ]
    },
    {
     "data": {
      "text/html": [
       "Waiting for W&B process to finish... <strong style=\"color:green\">(success).</strong>"
      ],
      "text/plain": [
       "<IPython.core.display.HTML object>"
      ]
     },
     "metadata": {},
     "output_type": "display_data"
    },
    {
     "data": {
      "application/vnd.jupyter.widget-view+json": {
       "model_id": "63193a0af88844578dfa7d220586f1bb",
       "version_major": 2,
       "version_minor": 0
      },
      "text/plain": [
       "VBox(children=(Label(value='0.001 MB of 0.001 MB uploaded (0.000 MB deduped)\\r'), FloatProgress(value=1.0, max…"
      ]
     },
     "metadata": {},
     "output_type": "display_data"
    },
    {
     "data": {
      "text/html": [
       "<style>\n",
       "    table.wandb td:nth-child(1) { padding: 0 10px; text-align: left ; width: auto;} td:nth-child(2) {text-align: left ; width: 100%}\n",
       "    .wandb-row { display: flex; flex-direction: row; flex-wrap: wrap; justify-content: flex-start; width: 100% }\n",
       "    .wandb-col { display: flex; flex-direction: column; flex-basis: 100%; flex: 1; padding: 10px; }\n",
       "    </style>\n",
       "<div class=\"wandb-row\"><div class=\"wandb-col\"><h3>Run history:</h3><br/><table class=\"wandb\"><tr><td>epoch</td><td>▁▁▁▂▂▂▂▂▂▃▃▃▃▃▄▄▄▄▄▄▅▅▅▅▅▅▆▆▆▆▆▇▇▇▇▇▇███</td></tr><tr><td>lr-Adam</td><td>▁▁▁▁▁▁▁▁▁▁▁▁▁▁▁▁▁▁▁▁▁▁▁▁▁▁▁▁▁▁▁▁▁▁▁▁▁▁▁▁</td></tr><tr><td>train_acc</td><td>▁▆▇▇▇▇▇▇██▇▇██▇▇█▇▇█████▇▇████▇████▇█▇██</td></tr><tr><td>train_auc</td><td>▁▆▇█▇▇▇████████▇████████████████████████</td></tr><tr><td>train_f1</td><td>▁▇▇█▇▇▇███▇████▇█▇██████▇████████████▇██</td></tr><tr><td>train_loss_epoch</td><td>█▄▂▂▂▂▂▂▁▁▂▂▂▂▂▂▁▂▁▁▁▁▁▁▂▂▁▁▁▁▂▁▁▁▁▂▂▂▁▁</td></tr><tr><td>train_loss_step</td><td>█▇▄▅▅▅▅▂▄▃▃▅▂▄▃▄▄▃▆▃▄▄▃▄▄▅▃▇▄▄▄▃▂▄▄▂▆▂▃▁</td></tr><tr><td>trainer/global_step</td><td>▁▁▁▁▁▁▁▂▂▃▃▃▂▂▂▂▂▄▄▄▅▅▂▂▂▂▂▆▆▆▆▆▃▃▃▃▃███</td></tr><tr><td>val_acc</td><td>▁▇█▇█████████▇▇█████████▇▇███▇█████▆████</td></tr><tr><td>val_auc</td><td>▁▄▆▇▇▇███▇████▇▇▇▇█▇▇▇▇▇▇██▇████████████</td></tr><tr><td>val_f1</td><td>▁▇█▇██▇▇█████▇▇██████████▇███▇█████▆████</td></tr><tr><td>val_loss_epoch</td><td>█▃▂▂▂▂▃▂▁▂▂▂▂▂▃▂▂▂▁▁▂▂▂▂▂▃▂▂▁▃▂▁▁▂▂▅▂▂▁▁</td></tr><tr><td>val_loss_step</td><td>█▄▄▃▂▃▇▃▁▃▃▃▆▂▄▃▃▃▃▂▄▇▄▄▄▄▅▃▁▆▄▂▁▅▆▇▅▄▂▃</td></tr></table><br/></div><div class=\"wandb-col\"><h3>Run summary:</h3><br/><table class=\"wandb\"><tr><td>epoch</td><td>79</td></tr><tr><td>lr-Adam</td><td>0.005</td></tr><tr><td>train_acc</td><td>0.77468</td></tr><tr><td>train_auc</td><td>0.84664</td></tr><tr><td>train_f1</td><td>0.74838</td></tr><tr><td>train_loss_epoch</td><td>0.48475</td></tr><tr><td>train_loss_step</td><td>0.40314</td></tr><tr><td>trainer/global_step</td><td>1119</td></tr><tr><td>val_acc</td><td>0.80742</td></tr><tr><td>val_auc</td><td>0.88673</td></tr><tr><td>val_f1</td><td>0.78987</td></tr><tr><td>val_loss_epoch</td><td>0.42737</td></tr><tr><td>val_loss_step</td><td>0.40238</td></tr></table><br/></div></div>"
      ],
      "text/plain": [
       "<IPython.core.display.HTML object>"
      ]
     },
     "metadata": {},
     "output_type": "display_data"
    },
    {
     "data": {
      "text/html": [
       " View run <strong style=\"color:#cdcd00\">MLP_2_64_onehot_0</strong> at: <a href='https://wandb.ai/thoomas/PLA_01182024_13PPI_3D_Kfold/runs/qwmhc1zw' target=\"_blank\">https://wandb.ai/thoomas/PLA_01182024_13PPI_3D_Kfold/runs/qwmhc1zw</a><br/>Synced 6 W&B file(s), 0 media file(s), 0 artifact file(s) and 0 other file(s)"
      ],
      "text/plain": [
       "<IPython.core.display.HTML object>"
      ]
     },
     "metadata": {},
     "output_type": "display_data"
    },
    {
     "data": {
      "text/html": [
       "Find logs at: <code>.\\wandb\\run-20240118_171230-qwmhc1zw\\logs</code>"
      ],
      "text/plain": [
       "<IPython.core.display.HTML object>"
      ]
     },
     "metadata": {},
     "output_type": "display_data"
    },
    {
     "data": {
      "application/vnd.jupyter.widget-view+json": {
       "model_id": "7d436edeb62e46a99182d658db084c5d",
       "version_major": 2,
       "version_minor": 0
      },
      "text/plain": [
       "VBox(children=(Label(value='Waiting for wandb.init()...\\r'), FloatProgress(value=0.016666666666666666, max=1.0…"
      ]
     },
     "metadata": {},
     "output_type": "display_data"
    },
    {
     "data": {
      "text/html": [
       "wandb version 0.16.2 is available!  To upgrade, please run:\n",
       " $ pip install wandb --upgrade"
      ],
      "text/plain": [
       "<IPython.core.display.HTML object>"
      ]
     },
     "metadata": {},
     "output_type": "display_data"
    },
    {
     "data": {
      "text/html": [
       "Tracking run with wandb version 0.15.8"
      ],
      "text/plain": [
       "<IPython.core.display.HTML object>"
      ]
     },
     "metadata": {},
     "output_type": "display_data"
    },
    {
     "data": {
      "text/html": [
       "Run data is saved locally in <code>y:\\coskun-lab\\Thomas\\23_PLA_revision\\notebooks\\wandb\\run-20240118_173844-74lnsx87</code>"
      ],
      "text/plain": [
       "<IPython.core.display.HTML object>"
      ]
     },
     "metadata": {},
     "output_type": "display_data"
    },
    {
     "data": {
      "text/html": [
       "Syncing run <strong><a href='https://wandb.ai/thoomas/PLA_01182024_13PPI_3D_Kfold/runs/74lnsx87' target=\"_blank\">GraphConv_2_16_onehot_0</a></strong> to <a href='https://wandb.ai/thoomas/PLA_01182024_13PPI_3D_Kfold' target=\"_blank\">Weights & Biases</a> (<a href='https://wandb.me/run' target=\"_blank\">docs</a>)<br/>"
      ],
      "text/plain": [
       "<IPython.core.display.HTML object>"
      ]
     },
     "metadata": {},
     "output_type": "display_data"
    },
    {
     "data": {
      "text/html": [
       " View project at <a href='https://wandb.ai/thoomas/PLA_01182024_13PPI_3D_Kfold' target=\"_blank\">https://wandb.ai/thoomas/PLA_01182024_13PPI_3D_Kfold</a>"
      ],
      "text/plain": [
       "<IPython.core.display.HTML object>"
      ]
     },
     "metadata": {},
     "output_type": "display_data"
    },
    {
     "data": {
      "text/html": [
       " View run at <a href='https://wandb.ai/thoomas/PLA_01182024_13PPI_3D_Kfold/runs/74lnsx87' target=\"_blank\">https://wandb.ai/thoomas/PLA_01182024_13PPI_3D_Kfold/runs/74lnsx87</a>"
      ],
      "text/plain": [
       "<IPython.core.display.HTML object>"
      ]
     },
     "metadata": {},
     "output_type": "display_data"
    },
    {
     "name": "stderr",
     "output_type": "stream",
     "text": [
      "Global seed set to 42\n",
      "GPU available: True (cuda), used: True\n",
      "TPU available: False, using: 0 TPU cores\n",
      "IPU available: False, using: 0 IPUs\n",
      "HPU available: False, using: 0 HPUs\n",
      "Global seed set to 42\n",
      "c:\\Users\\thu71\\AppData\\Local\\anaconda3\\envs\\scanpy\\Lib\\site-packages\\lightning\\pytorch\\callbacks\\model_checkpoint.py:617: UserWarning: Checkpoint directory \\\\bme-retromaster.ad.gatech.edu\\labs5\\coskun-lab\\Thomas\\23_PLA_revision\\data\\13cyc_3D\\saved_models_v2\\13PPI_3D\\Graph_GNNs_Kfold\\GraphConv_2_16_onehot_0\\attention\\GraphLevelGraphConv exists and is not empty.\n",
      "  rank_zero_warn(f\"Checkpoint directory {dirpath} exists and is not empty.\")\n",
      "LOCAL_RANK: 0 - CUDA_VISIBLE_DEVICES: [0]\n",
      "\n",
      "   | Name        | Type             | Params\n",
      "--------------------------------------------------\n",
      "0  | x_embedding | Identity         | 0     \n",
      "1  | model       | GNNModel         | 992   \n",
      "2  | head        | Sequential       | 154   \n",
      "3  | loss_module | CrossEntropyLoss | 0     \n",
      "4  | train_acc   | BinaryAccuracy   | 0     \n",
      "5  | train_auroc | BinaryAUROC      | 0     \n",
      "6  | train_f1    | BinaryF1Score    | 0     \n",
      "7  | valid_acc   | BinaryAccuracy   | 0     \n",
      "8  | valid_auroc | BinaryAUROC      | 0     \n",
      "9  | valid_f1    | BinaryF1Score    | 0     \n",
      "10 | pool        | GlobalAttention  | 17    \n",
      "--------------------------------------------------\n",
      "1.2 K     Trainable params\n",
      "0         Non-trainable params\n",
      "1.2 K     Total params\n",
      "0.005     Total estimated model params size (MB)\n"
     ]
    },
    {
     "name": "stdout",
     "output_type": "stream",
     "text": [
      "Using GNN\n"
     ]
    },
    {
     "name": "stderr",
     "output_type": "stream",
     "text": [
      "`Trainer.fit` stopped: `max_epochs=80` reached.\n"
     ]
    },
    {
     "data": {
      "text/html": [
       "Waiting for W&B process to finish... <strong style=\"color:green\">(success).</strong>"
      ],
      "text/plain": [
       "<IPython.core.display.HTML object>"
      ]
     },
     "metadata": {},
     "output_type": "display_data"
    },
    {
     "data": {
      "text/html": [
       "<style>\n",
       "    table.wandb td:nth-child(1) { padding: 0 10px; text-align: left ; width: auto;} td:nth-child(2) {text-align: left ; width: 100%}\n",
       "    .wandb-row { display: flex; flex-direction: row; flex-wrap: wrap; justify-content: flex-start; width: 100% }\n",
       "    .wandb-col { display: flex; flex-direction: column; flex-basis: 100%; flex: 1; padding: 10px; }\n",
       "    </style>\n",
       "<div class=\"wandb-row\"><div class=\"wandb-col\"><h3>Run history:</h3><br/><table class=\"wandb\"><tr><td>epoch</td><td>▁▁▁▂▂▂▂▂▂▃▃▃▃▃▄▄▄▄▄▄▅▅▅▅▅▅▆▆▆▆▆▇▇▇▇▇▇███</td></tr><tr><td>lr-Adam</td><td>▁▁▁▁▁▁▁▁▁▁▁▁▁▁▁▁▁▁▁▁▁▁▁▁▁▁▁▁▁▁▁▁▁▁▁▁▁▁▁▁</td></tr><tr><td>train_acc</td><td>▁▅▇▆▇▇▇▇▇▇▇▇▇▇▇▇▇▇▇▇▇▇█▇███▇████████████</td></tr><tr><td>train_auc</td><td>▁▅▆▇▇▇▇▇▇█▇▇▇▇▇█████████████████████████</td></tr><tr><td>train_f1</td><td>▁▄▆▅▆▆▆▆▆▇▇▇▇▇▆▇▇▇▇▇▇▇█▇█▇▇▇███▇███▇█▇▇█</td></tr><tr><td>train_loss_epoch</td><td>█▅▃▃▃▃▂▃▂▂▂▂▂▂▂▂▂▂▂▁▂▂▁▂▁▂▁▂▁▁▁▁▁▁▁▁▁▂▁▁</td></tr><tr><td>train_loss_step</td><td>█▆▄▆▃▇▄▃▂▃▂▃▂▃▂▆▄▃▃▄▃▄▂▃▃▁▄▄▂▂▃▃▃▃▂▁▃▄▂▃</td></tr><tr><td>trainer/global_step</td><td>▁▁▁▁▁▁▁▂▂▃▃▃▂▂▂▂▂▄▄▄▅▅▂▂▂▂▂▆▆▆▆▆▃▃▃▃▃███</td></tr><tr><td>val_acc</td><td>▁▇▇███▇▇▇█▇█▇█▇████▇▇███▇████▇██▇▇██████</td></tr><tr><td>val_auc</td><td>▁▅▆▇▇▇▇▇█████▇▇▇██▇▇▇▇▇▇▇▇█▇█▇▇██▇██▇███</td></tr><tr><td>val_f1</td><td>▁▆▄▆▆▇▃▄▆▇▅█▅▆▄▆█▆▆▆▃▆▇▇▆█▇▆▆▅▇▇▆▄▇▇▇▇▇▇</td></tr><tr><td>val_loss_epoch</td><td>█▄▃▃▂▂▃▃▁▂▂▂▂▂▂▂▂▂▂▂▄▂▁▂▃▂▂▂▂▃▂▂▂▂▁▂▂▁▂▂</td></tr><tr><td>val_loss_step</td><td>█▇▅▆▄▃▇▄▂▄▃▅▃▃▄▄▅▃▆▃▇▃▁▃▅▆▄▆▃▇▄▆▄▃▁▄▅▂▄▄</td></tr></table><br/></div><div class=\"wandb-col\"><h3>Run summary:</h3><br/><table class=\"wandb\"><tr><td>epoch</td><td>79</td></tr><tr><td>lr-Adam</td><td>0.005</td></tr><tr><td>train_acc</td><td>0.83914</td></tr><tr><td>train_auc</td><td>0.90928</td></tr><tr><td>train_f1</td><td>0.82255</td></tr><tr><td>train_loss_epoch</td><td>0.38411</td></tr><tr><td>train_loss_step</td><td>0.43183</td></tr><tr><td>trainer/global_step</td><td>1119</td></tr><tr><td>val_acc</td><td>0.82135</td></tr><tr><td>val_auc</td><td>0.90186</td></tr><tr><td>val_f1</td><td>0.80893</td></tr><tr><td>val_loss_epoch</td><td>0.40836</td></tr><tr><td>val_loss_step</td><td>0.45144</td></tr></table><br/></div></div>"
      ],
      "text/plain": [
       "<IPython.core.display.HTML object>"
      ]
     },
     "metadata": {},
     "output_type": "display_data"
    },
    {
     "data": {
      "text/html": [
       " View run <strong style=\"color:#cdcd00\">GraphConv_2_16_onehot_0</strong> at: <a href='https://wandb.ai/thoomas/PLA_01182024_13PPI_3D_Kfold/runs/74lnsx87' target=\"_blank\">https://wandb.ai/thoomas/PLA_01182024_13PPI_3D_Kfold/runs/74lnsx87</a><br/>Synced 6 W&B file(s), 0 media file(s), 0 artifact file(s) and 0 other file(s)"
      ],
      "text/plain": [
       "<IPython.core.display.HTML object>"
      ]
     },
     "metadata": {},
     "output_type": "display_data"
    },
    {
     "data": {
      "text/html": [
       "Find logs at: <code>.\\wandb\\run-20240118_173844-74lnsx87\\logs</code>"
      ],
      "text/plain": [
       "<IPython.core.display.HTML object>"
      ]
     },
     "metadata": {},
     "output_type": "display_data"
    },
    {
     "data": {
      "text/html": [
       "wandb version 0.16.2 is available!  To upgrade, please run:\n",
       " $ pip install wandb --upgrade"
      ],
      "text/plain": [
       "<IPython.core.display.HTML object>"
      ]
     },
     "metadata": {},
     "output_type": "display_data"
    },
    {
     "data": {
      "text/html": [
       "Tracking run with wandb version 0.15.8"
      ],
      "text/plain": [
       "<IPython.core.display.HTML object>"
      ]
     },
     "metadata": {},
     "output_type": "display_data"
    },
    {
     "data": {
      "text/html": [
       "Run data is saved locally in <code>y:\\coskun-lab\\Thomas\\23_PLA_revision\\notebooks\\wandb\\run-20240118_180234-pqtxo4x7</code>"
      ],
      "text/plain": [
       "<IPython.core.display.HTML object>"
      ]
     },
     "metadata": {},
     "output_type": "display_data"
    },
    {
     "data": {
      "text/html": [
       "Syncing run <strong><a href='https://wandb.ai/thoomas/PLA_01182024_13PPI_3D_Kfold/runs/pqtxo4x7' target=\"_blank\">GCN_2_64_onehot_0</a></strong> to <a href='https://wandb.ai/thoomas/PLA_01182024_13PPI_3D_Kfold' target=\"_blank\">Weights & Biases</a> (<a href='https://wandb.me/run' target=\"_blank\">docs</a>)<br/>"
      ],
      "text/plain": [
       "<IPython.core.display.HTML object>"
      ]
     },
     "metadata": {},
     "output_type": "display_data"
    },
    {
     "data": {
      "text/html": [
       " View project at <a href='https://wandb.ai/thoomas/PLA_01182024_13PPI_3D_Kfold' target=\"_blank\">https://wandb.ai/thoomas/PLA_01182024_13PPI_3D_Kfold</a>"
      ],
      "text/plain": [
       "<IPython.core.display.HTML object>"
      ]
     },
     "metadata": {},
     "output_type": "display_data"
    },
    {
     "data": {
      "text/html": [
       " View run at <a href='https://wandb.ai/thoomas/PLA_01182024_13PPI_3D_Kfold/runs/pqtxo4x7' target=\"_blank\">https://wandb.ai/thoomas/PLA_01182024_13PPI_3D_Kfold/runs/pqtxo4x7</a>"
      ],
      "text/plain": [
       "<IPython.core.display.HTML object>"
      ]
     },
     "metadata": {},
     "output_type": "display_data"
    },
    {
     "name": "stderr",
     "output_type": "stream",
     "text": [
      "Global seed set to 42\n",
      "GPU available: True (cuda), used: True\n",
      "TPU available: False, using: 0 TPU cores\n",
      "IPU available: False, using: 0 IPUs\n",
      "HPU available: False, using: 0 HPUs\n",
      "Global seed set to 42\n",
      "c:\\Users\\thu71\\AppData\\Local\\anaconda3\\envs\\scanpy\\Lib\\site-packages\\lightning\\pytorch\\callbacks\\model_checkpoint.py:617: UserWarning: Checkpoint directory \\\\bme-retromaster.ad.gatech.edu\\labs5\\coskun-lab\\Thomas\\23_PLA_revision\\data\\13cyc_3D\\saved_models_v2\\13PPI_3D\\Graph_GNNs_Kfold\\GCN_2_64_onehot_0\\attention2\\GraphLevelGCN exists and is not empty.\n",
      "  rank_zero_warn(f\"Checkpoint directory {dirpath} exists and is not empty.\")\n",
      "LOCAL_RANK: 0 - CUDA_VISIBLE_DEVICES: [0]\n",
      "\n",
      "   | Name        | Type             | Params\n",
      "--------------------------------------------------\n",
      "0  | x_embedding | Identity         | 0     \n",
      "1  | model       | GNNModel         | 5.2 K \n",
      "2  | head        | Sequential       | 2.1 K \n",
      "3  | loss_module | CrossEntropyLoss | 0     \n",
      "4  | train_acc   | BinaryAccuracy   | 0     \n",
      "5  | train_auroc | BinaryAUROC      | 0     \n",
      "6  | train_f1    | BinaryF1Score    | 0     \n",
      "7  | valid_acc   | BinaryAccuracy   | 0     \n",
      "8  | valid_auroc | BinaryAUROC      | 0     \n",
      "9  | valid_f1    | BinaryF1Score    | 0     \n",
      "10 | pool        | Attention_module | 4.2 K \n",
      "--------------------------------------------------\n",
      "11.5 K    Trainable params\n",
      "0         Non-trainable params\n",
      "11.5 K    Total params\n",
      "0.046     Total estimated model params size (MB)\n"
     ]
    },
    {
     "name": "stdout",
     "output_type": "stream",
     "text": [
      "Using GNN\n"
     ]
    },
    {
     "name": "stderr",
     "output_type": "stream",
     "text": [
      "`Trainer.fit` stopped: `max_epochs=80` reached.\n"
     ]
    },
    {
     "data": {
      "text/html": [
       "Waiting for W&B process to finish... <strong style=\"color:green\">(success).</strong>"
      ],
      "text/plain": [
       "<IPython.core.display.HTML object>"
      ]
     },
     "metadata": {},
     "output_type": "display_data"
    },
    {
     "data": {
      "application/vnd.jupyter.widget-view+json": {
       "model_id": "2be2d0b1f82e466e9a34bb0361e1cf41",
       "version_major": 2,
       "version_minor": 0
      },
      "text/plain": [
       "VBox(children=(Label(value='0.001 MB of 0.001 MB uploaded (0.000 MB deduped)\\r'), FloatProgress(value=1.0, max…"
      ]
     },
     "metadata": {},
     "output_type": "display_data"
    },
    {
     "data": {
      "text/html": [
       "<style>\n",
       "    table.wandb td:nth-child(1) { padding: 0 10px; text-align: left ; width: auto;} td:nth-child(2) {text-align: left ; width: 100%}\n",
       "    .wandb-row { display: flex; flex-direction: row; flex-wrap: wrap; justify-content: flex-start; width: 100% }\n",
       "    .wandb-col { display: flex; flex-direction: column; flex-basis: 100%; flex: 1; padding: 10px; }\n",
       "    </style>\n",
       "<div class=\"wandb-row\"><div class=\"wandb-col\"><h3>Run history:</h3><br/><table class=\"wandb\"><tr><td>epoch</td><td>▁▁▁▂▂▂▂▂▂▃▃▃▃▃▄▄▄▄▄▄▅▅▅▅▅▅▆▆▆▆▆▇▇▇▇▇▇███</td></tr><tr><td>lr-Adam</td><td>▁▁▁▁▁▁▁▁▁▁▁▁▁▁▁▁▁▁▁▁▁▁▁▁▁▁▁▁▁▁▁▁▁▁▁▁▁▁▁▁</td></tr><tr><td>train_acc</td><td>▁▆▆▆▆▆▇▇▇▇▆▆▇▇▇▇▇▇▇▇▇▇▇▆▇▆▇▇█▇█▇▇▇█▇█▇█▇</td></tr><tr><td>train_auc</td><td>▁▆▆▆▆▇▇▇▇▇▇▇▇▇▇▇▇▇▇▇▇▇▇▇▇▇▇▇█▇██▇██▇█▇██</td></tr><tr><td>train_f1</td><td>▁▆▆▆▆▆▇▇▇▇▆▇▇▇▇▇▇▇▇▇▇▇▇▇▇▆▇▇█▇█▇▇▇█▇█▇█▇</td></tr><tr><td>train_loss_epoch</td><td>█▄▃▄▃▃▃▃▃▂▂▂▂▂▃▂▂▂▂▂▂▂▂▂▂▃▂▂▁▂▂▁▂▂▁▂▁▂▁▁</td></tr><tr><td>train_loss_step</td><td>▅▄▃▃▇▂▅▂▄▃▅▃▂▂▄▂█▂▄▄▃▃▁▂▃▃▃▅▂▅▁▂▃▂▄▂▂▁▃▁</td></tr><tr><td>trainer/global_step</td><td>▁▁▁▁▁▁▁▂▂▃▃▃▂▂▂▂▂▄▄▄▅▅▂▂▂▂▂▆▆▆▆▆▃▃▃▃▃███</td></tr><tr><td>val_acc</td><td>▁▇▇█▇█▇███▇█▇▇▇▇█▇█████▇█▇█▇▇█▇█▆█▇█▇██▇</td></tr><tr><td>val_auc</td><td>▅▅▇█▇▇█▇▆▇▇▇██▆▆▇▇██▇▇▇▇▆▇▇▆▆▇▇▇▁▇▅▇▅▇█▇</td></tr><tr><td>val_f1</td><td>▁▇████▇███▇█▇▇█▇█▇█████▇█▇██▇█▇█▇███████</td></tr><tr><td>val_loss_epoch</td><td>█▄▂▂▂▂▁▂▂▃▃▄▂▁▂▂▂▃▁▂▂▂▃▃▃▃▂▃▃▂▃▂▅▂▃▂▂▂▃▂</td></tr><tr><td>val_loss_step</td><td>▇▄▄▃▅▃▂▃▅▇▆█▂▂▄▃▄▄▁▄▂▂▆▄▆▄▂▄▄▅▄▃▇▄▃▅▃▅▅▂</td></tr></table><br/></div><div class=\"wandb-col\"><h3>Run summary:</h3><br/><table class=\"wandb\"><tr><td>epoch</td><td>79</td></tr><tr><td>lr-Adam</td><td>0.005</td></tr><tr><td>train_acc</td><td>0.81998</td></tr><tr><td>train_auc</td><td>0.90766</td></tr><tr><td>train_f1</td><td>0.79605</td></tr><tr><td>train_loss_epoch</td><td>0.38269</td></tr><tr><td>train_loss_step</td><td>0.32489</td></tr><tr><td>trainer/global_step</td><td>1119</td></tr><tr><td>val_acc</td><td>0.81206</td></tr><tr><td>val_auc</td><td>0.88973</td></tr><tr><td>val_f1</td><td>0.8</td></tr><tr><td>val_loss_epoch</td><td>0.40893</td></tr><tr><td>val_loss_step</td><td>0.30938</td></tr></table><br/></div></div>"
      ],
      "text/plain": [
       "<IPython.core.display.HTML object>"
      ]
     },
     "metadata": {},
     "output_type": "display_data"
    },
    {
     "data": {
      "text/html": [
       " View run <strong style=\"color:#cdcd00\">GCN_2_64_onehot_0</strong> at: <a href='https://wandb.ai/thoomas/PLA_01182024_13PPI_3D_Kfold/runs/pqtxo4x7' target=\"_blank\">https://wandb.ai/thoomas/PLA_01182024_13PPI_3D_Kfold/runs/pqtxo4x7</a><br/>Synced 6 W&B file(s), 0 media file(s), 0 artifact file(s) and 0 other file(s)"
      ],
      "text/plain": [
       "<IPython.core.display.HTML object>"
      ]
     },
     "metadata": {},
     "output_type": "display_data"
    },
    {
     "data": {
      "text/html": [
       "Find logs at: <code>.\\wandb\\run-20240118_180234-pqtxo4x7\\logs</code>"
      ],
      "text/plain": [
       "<IPython.core.display.HTML object>"
      ]
     },
     "metadata": {},
     "output_type": "display_data"
    },
    {
     "data": {
      "application/vnd.jupyter.widget-view+json": {
       "model_id": "a47089a4fd564e9a895ed4f1f9239da4",
       "version_major": 2,
       "version_minor": 0
      },
      "text/plain": [
       "VBox(children=(Label(value='Waiting for wandb.init()...\\r'), FloatProgress(value=0.016666666666666666, max=1.0…"
      ]
     },
     "metadata": {},
     "output_type": "display_data"
    },
    {
     "data": {
      "text/html": [
       "wandb version 0.16.2 is available!  To upgrade, please run:\n",
       " $ pip install wandb --upgrade"
      ],
      "text/plain": [
       "<IPython.core.display.HTML object>"
      ]
     },
     "metadata": {},
     "output_type": "display_data"
    },
    {
     "data": {
      "text/html": [
       "Tracking run with wandb version 0.15.8"
      ],
      "text/plain": [
       "<IPython.core.display.HTML object>"
      ]
     },
     "metadata": {},
     "output_type": "display_data"
    },
    {
     "data": {
      "text/html": [
       "Run data is saved locally in <code>y:\\coskun-lab\\Thomas\\23_PLA_revision\\notebooks\\wandb\\run-20240118_182448-jqk72vqq</code>"
      ],
      "text/plain": [
       "<IPython.core.display.HTML object>"
      ]
     },
     "metadata": {},
     "output_type": "display_data"
    },
    {
     "data": {
      "text/html": [
       "Syncing run <strong><a href='https://wandb.ai/thoomas/PLA_01182024_13PPI_3D_Kfold/runs/jqk72vqq' target=\"_blank\">GAT_norm_3_64_onehot_0</a></strong> to <a href='https://wandb.ai/thoomas/PLA_01182024_13PPI_3D_Kfold' target=\"_blank\">Weights & Biases</a> (<a href='https://wandb.me/run' target=\"_blank\">docs</a>)<br/>"
      ],
      "text/plain": [
       "<IPython.core.display.HTML object>"
      ]
     },
     "metadata": {},
     "output_type": "display_data"
    },
    {
     "data": {
      "text/html": [
       " View project at <a href='https://wandb.ai/thoomas/PLA_01182024_13PPI_3D_Kfold' target=\"_blank\">https://wandb.ai/thoomas/PLA_01182024_13PPI_3D_Kfold</a>"
      ],
      "text/plain": [
       "<IPython.core.display.HTML object>"
      ]
     },
     "metadata": {},
     "output_type": "display_data"
    },
    {
     "data": {
      "text/html": [
       " View run at <a href='https://wandb.ai/thoomas/PLA_01182024_13PPI_3D_Kfold/runs/jqk72vqq' target=\"_blank\">https://wandb.ai/thoomas/PLA_01182024_13PPI_3D_Kfold/runs/jqk72vqq</a>"
      ],
      "text/plain": [
       "<IPython.core.display.HTML object>"
      ]
     },
     "metadata": {},
     "output_type": "display_data"
    },
    {
     "name": "stderr",
     "output_type": "stream",
     "text": [
      "Global seed set to 42\n",
      "GPU available: True (cuda), used: True\n",
      "TPU available: False, using: 0 TPU cores\n",
      "IPU available: False, using: 0 IPUs\n",
      "HPU available: False, using: 0 HPUs\n",
      "Global seed set to 42\n",
      "c:\\Users\\thu71\\AppData\\Local\\anaconda3\\envs\\scanpy\\Lib\\site-packages\\lightning\\pytorch\\callbacks\\model_checkpoint.py:617: UserWarning: Checkpoint directory \\\\bme-retromaster.ad.gatech.edu\\labs5\\coskun-lab\\Thomas\\23_PLA_revision\\data\\13cyc_3D\\saved_models_v2\\13PPI_3D\\Graph_GNNs_Kfold\\GAT_norm_3_64_onehot_0\\attention\\GraphLevelGAT_norm exists and is not empty.\n",
      "  rank_zero_warn(f\"Checkpoint directory {dirpath} exists and is not empty.\")\n",
      "LOCAL_RANK: 0 - CUDA_VISIBLE_DEVICES: [0]\n",
      "\n",
      "   | Name        | Type             | Params\n",
      "--------------------------------------------------\n",
      "0  | x_embedding | Identity         | 0     \n",
      "1  | model       | GAT              | 79.0 K\n",
      "2  | head        | Sequential       | 2.1 K \n",
      "3  | loss_module | CrossEntropyLoss | 0     \n",
      "4  | train_acc   | BinaryAccuracy   | 0     \n",
      "5  | train_auroc | BinaryAUROC      | 0     \n",
      "6  | train_f1    | BinaryF1Score    | 0     \n",
      "7  | valid_acc   | BinaryAccuracy   | 0     \n",
      "8  | valid_auroc | BinaryAUROC      | 0     \n",
      "9  | valid_f1    | BinaryF1Score    | 0     \n",
      "10 | pool        | GlobalAttention  | 65    \n",
      "--------------------------------------------------\n",
      "81.3 K    Trainable params\n",
      "0         Non-trainable params\n",
      "81.3 K    Total params\n",
      "0.325     Total estimated model params size (MB)\n"
     ]
    },
    {
     "name": "stdout",
     "output_type": "stream",
     "text": [
      "Using GAT\n"
     ]
    },
    {
     "name": "stderr",
     "output_type": "stream",
     "text": [
      "`Trainer.fit` stopped: `max_epochs=80` reached.\n"
     ]
    },
    {
     "data": {
      "text/html": [
       "Waiting for W&B process to finish... <strong style=\"color:green\">(success).</strong>"
      ],
      "text/plain": [
       "<IPython.core.display.HTML object>"
      ]
     },
     "metadata": {},
     "output_type": "display_data"
    },
    {
     "data": {
      "application/vnd.jupyter.widget-view+json": {
       "model_id": "5a35fc367e2b4f75a7570100d6507ebe",
       "version_major": 2,
       "version_minor": 0
      },
      "text/plain": [
       "VBox(children=(Label(value='0.001 MB of 0.001 MB uploaded (0.000 MB deduped)\\r'), FloatProgress(value=1.0, max…"
      ]
     },
     "metadata": {},
     "output_type": "display_data"
    },
    {
     "data": {
      "text/html": [
       "<style>\n",
       "    table.wandb td:nth-child(1) { padding: 0 10px; text-align: left ; width: auto;} td:nth-child(2) {text-align: left ; width: 100%}\n",
       "    .wandb-row { display: flex; flex-direction: row; flex-wrap: wrap; justify-content: flex-start; width: 100% }\n",
       "    .wandb-col { display: flex; flex-direction: column; flex-basis: 100%; flex: 1; padding: 10px; }\n",
       "    </style>\n",
       "<div class=\"wandb-row\"><div class=\"wandb-col\"><h3>Run history:</h3><br/><table class=\"wandb\"><tr><td>epoch</td><td>▁▁▁▂▂▂▂▂▂▃▃▃▃▃▄▄▄▄▄▄▅▅▅▅▅▅▆▆▆▆▆▇▇▇▇▇▇███</td></tr><tr><td>lr-Adam</td><td>▁▁▁▁▁▁▁▁▁▁▁▁▁▁▁▁▁▁▁▁▁▁▁▁▁▁▁▁▁▁▁▁▁▁▁▁▁▁▁▁</td></tr><tr><td>train_acc</td><td>▁▆▆▇▇▇▇▇▇▇▇▇██▇▇▇▇▇██████▇▇█▇█▇█████████</td></tr><tr><td>train_auc</td><td>▁▆▇▇▇▇▇▇▇▇▇▇██▇▇▇▇▇█▇▇████▇█████████████</td></tr><tr><td>train_f1</td><td>▁▆▇▇▇▇▇▇▇▇▇▇▇▇▇▇▇▇▇██▇███▇▇█▇█▇██▇██████</td></tr><tr><td>train_loss_epoch</td><td>█▃▃▃▂▂▂▂▃▂▂▂▁▁▂▂▂▂▂▁▂▂▂▁▁▂▂▁▂▁▁▁▂▁▁▁▂▁▁▁</td></tr><tr><td>train_loss_step</td><td>█▃▃▄▃▂▃▂▄▂▂▂▁▂▃▄▃▂▃▃▂▄▅▃▃▂▃▃▁▂▂▄▅▃▃▂▃▃▂▁</td></tr><tr><td>trainer/global_step</td><td>▁▁▁▁▁▁▁▂▂▃▃▃▂▂▂▂▂▄▄▄▅▅▂▂▂▂▂▆▆▆▆▆▃▃▃▃▃███</td></tr><tr><td>val_acc</td><td>▄▇▆█▇▄▇▄▃▆█▇▄▅▅▇▄▇▃▅██▅▄▇▁█▅▄▅▂▄▆▆▅▂▃▇▅▄</td></tr><tr><td>val_auc</td><td>▁▆▆▇▇▆▅▄▇▇█▆▇▇▇▇▅▇▇▇▇█▇▆▆▅▇▆▅▅▅▇▇█▇▇▇▇▇█</td></tr><tr><td>val_f1</td><td>▄▇▆█▇▄▆▃▃▆█▆▄▅▅▇▄▆▃▅▇█▅▄▆▁█▅▄▅▂▄▆▆▅▂▃▇▅▄</td></tr><tr><td>val_loss_epoch</td><td>█▃▂▁▁▂▁▂▃▂▁▂▃▁▂▂▃▂▃▂▂▁▂▃▂▅▂▂▃▂▄▄▂▁▂▄▃▂▂▂</td></tr><tr><td>val_loss_step</td><td>█▄▄▄▂▅▃▂▂▄▄▆▅▂▃▆█▅▄▃▄▂▃▆▆▆▇▅█▃▄▇▅▄▅▆▆▄▅▁</td></tr></table><br/></div><div class=\"wandb-col\"><h3>Run summary:</h3><br/><table class=\"wandb\"><tr><td>epoch</td><td>79</td></tr><tr><td>lr-Adam</td><td>0.005</td></tr><tr><td>train_acc</td><td>0.81765</td></tr><tr><td>train_auc</td><td>0.88538</td></tr><tr><td>train_f1</td><td>0.80227</td></tr><tr><td>train_loss_epoch</td><td>0.42433</td></tr><tr><td>train_loss_step</td><td>0.37263</td></tr><tr><td>trainer/global_step</td><td>1119</td></tr><tr><td>val_acc</td><td>0.7819</td></tr><tr><td>val_auc</td><td>0.90695</td></tr><tr><td>val_f1</td><td>0.80085</td></tr><tr><td>val_loss_epoch</td><td>0.42066</td></tr><tr><td>val_loss_step</td><td>0.28972</td></tr></table><br/></div></div>"
      ],
      "text/plain": [
       "<IPython.core.display.HTML object>"
      ]
     },
     "metadata": {},
     "output_type": "display_data"
    },
    {
     "data": {
      "text/html": [
       " View run <strong style=\"color:#cdcd00\">GAT_norm_3_64_onehot_0</strong> at: <a href='https://wandb.ai/thoomas/PLA_01182024_13PPI_3D_Kfold/runs/jqk72vqq' target=\"_blank\">https://wandb.ai/thoomas/PLA_01182024_13PPI_3D_Kfold/runs/jqk72vqq</a><br/>Synced 6 W&B file(s), 0 media file(s), 0 artifact file(s) and 0 other file(s)"
      ],
      "text/plain": [
       "<IPython.core.display.HTML object>"
      ]
     },
     "metadata": {},
     "output_type": "display_data"
    },
    {
     "data": {
      "text/html": [
       "Find logs at: <code>.\\wandb\\run-20240118_182448-jqk72vqq\\logs</code>"
      ],
      "text/plain": [
       "<IPython.core.display.HTML object>"
      ]
     },
     "metadata": {},
     "output_type": "display_data"
    },
    {
     "data": {
      "application/vnd.jupyter.widget-view+json": {
       "model_id": "44e4fc8be1194f848917dd41172711db",
       "version_major": 2,
       "version_minor": 0
      },
      "text/plain": [
       "VBox(children=(Label(value='Waiting for wandb.init()...\\r'), FloatProgress(value=0.016666666666666666, max=1.0…"
      ]
     },
     "metadata": {},
     "output_type": "display_data"
    },
    {
     "data": {
      "text/html": [
       "wandb version 0.16.2 is available!  To upgrade, please run:\n",
       " $ pip install wandb --upgrade"
      ],
      "text/plain": [
       "<IPython.core.display.HTML object>"
      ]
     },
     "metadata": {},
     "output_type": "display_data"
    },
    {
     "data": {
      "text/html": [
       "Tracking run with wandb version 0.15.8"
      ],
      "text/plain": [
       "<IPython.core.display.HTML object>"
      ]
     },
     "metadata": {},
     "output_type": "display_data"
    },
    {
     "data": {
      "text/html": [
       "Run data is saved locally in <code>y:\\coskun-lab\\Thomas\\23_PLA_revision\\notebooks\\wandb\\run-20240118_184643-4ff14abz</code>"
      ],
      "text/plain": [
       "<IPython.core.display.HTML object>"
      ]
     },
     "metadata": {},
     "output_type": "display_data"
    },
    {
     "data": {
      "text/html": [
       "Syncing run <strong><a href='https://wandb.ai/thoomas/PLA_01182024_13PPI_3D_Kfold/runs/4ff14abz' target=\"_blank\">GINConv_norm_3_16_onehot_0</a></strong> to <a href='https://wandb.ai/thoomas/PLA_01182024_13PPI_3D_Kfold' target=\"_blank\">Weights & Biases</a> (<a href='https://wandb.me/run' target=\"_blank\">docs</a>)<br/>"
      ],
      "text/plain": [
       "<IPython.core.display.HTML object>"
      ]
     },
     "metadata": {},
     "output_type": "display_data"
    },
    {
     "data": {
      "text/html": [
       " View project at <a href='https://wandb.ai/thoomas/PLA_01182024_13PPI_3D_Kfold' target=\"_blank\">https://wandb.ai/thoomas/PLA_01182024_13PPI_3D_Kfold</a>"
      ],
      "text/plain": [
       "<IPython.core.display.HTML object>"
      ]
     },
     "metadata": {},
     "output_type": "display_data"
    },
    {
     "data": {
      "text/html": [
       " View run at <a href='https://wandb.ai/thoomas/PLA_01182024_13PPI_3D_Kfold/runs/4ff14abz' target=\"_blank\">https://wandb.ai/thoomas/PLA_01182024_13PPI_3D_Kfold/runs/4ff14abz</a>"
      ],
      "text/plain": [
       "<IPython.core.display.HTML object>"
      ]
     },
     "metadata": {},
     "output_type": "display_data"
    },
    {
     "name": "stderr",
     "output_type": "stream",
     "text": [
      "Global seed set to 42\n",
      "GPU available: True (cuda), used: True\n",
      "TPU available: False, using: 0 TPU cores\n",
      "IPU available: False, using: 0 IPUs\n",
      "HPU available: False, using: 0 HPUs\n",
      "Global seed set to 42\n",
      "c:\\Users\\thu71\\AppData\\Local\\anaconda3\\envs\\scanpy\\Lib\\site-packages\\lightning\\pytorch\\callbacks\\model_checkpoint.py:617: UserWarning: Checkpoint directory \\\\bme-retromaster.ad.gatech.edu\\labs5\\coskun-lab\\Thomas\\23_PLA_revision\\data\\13cyc_3D\\saved_models_v2\\13PPI_3D\\Graph_GNNs_Kfold\\GINConv_norm_3_16_onehot_0\\mean\\GraphLevelGINConv_norm exists and is not empty.\n",
      "  rank_zero_warn(f\"Checkpoint directory {dirpath} exists and is not empty.\")\n",
      "LOCAL_RANK: 0 - CUDA_VISIBLE_DEVICES: [0]\n",
      "\n",
      "  | Name        | Type             | Params\n",
      "-------------------------------------------------\n",
      "0 | x_embedding | Identity         | 0     \n",
      "1 | model       | GIN              | 1.7 K \n",
      "2 | head        | Sequential       | 154   \n",
      "3 | loss_module | CrossEntropyLoss | 0     \n",
      "4 | train_acc   | BinaryAccuracy   | 0     \n",
      "5 | train_auroc | BinaryAUROC      | 0     \n",
      "6 | train_f1    | BinaryF1Score    | 0     \n",
      "7 | valid_acc   | BinaryAccuracy   | 0     \n",
      "8 | valid_auroc | BinaryAUROC      | 0     \n",
      "9 | valid_f1    | BinaryF1Score    | 0     \n",
      "-------------------------------------------------\n",
      "1.9 K     Trainable params\n",
      "0         Non-trainable params\n",
      "1.9 K     Total params\n",
      "0.008     Total estimated model params size (MB)\n"
     ]
    },
    {
     "name": "stdout",
     "output_type": "stream",
     "text": [
      "GINConv\n"
     ]
    },
    {
     "name": "stderr",
     "output_type": "stream",
     "text": [
      "`Trainer.fit` stopped: `max_epochs=80` reached.\n"
     ]
    },
    {
     "data": {
      "text/html": [
       "Waiting for W&B process to finish... <strong style=\"color:green\">(success).</strong>"
      ],
      "text/plain": [
       "<IPython.core.display.HTML object>"
      ]
     },
     "metadata": {},
     "output_type": "display_data"
    },
    {
     "data": {
      "application/vnd.jupyter.widget-view+json": {
       "model_id": "5c7ea29e0fe9443aae4d5f8caf6285c6",
       "version_major": 2,
       "version_minor": 0
      },
      "text/plain": [
       "VBox(children=(Label(value='0.001 MB of 0.001 MB uploaded (0.000 MB deduped)\\r'), FloatProgress(value=1.0, max…"
      ]
     },
     "metadata": {},
     "output_type": "display_data"
    },
    {
     "data": {
      "text/html": [
       "<style>\n",
       "    table.wandb td:nth-child(1) { padding: 0 10px; text-align: left ; width: auto;} td:nth-child(2) {text-align: left ; width: 100%}\n",
       "    .wandb-row { display: flex; flex-direction: row; flex-wrap: wrap; justify-content: flex-start; width: 100% }\n",
       "    .wandb-col { display: flex; flex-direction: column; flex-basis: 100%; flex: 1; padding: 10px; }\n",
       "    </style>\n",
       "<div class=\"wandb-row\"><div class=\"wandb-col\"><h3>Run history:</h3><br/><table class=\"wandb\"><tr><td>epoch</td><td>▁▁▁▂▂▂▂▂▂▃▃▃▃▃▄▄▄▄▄▄▅▅▅▅▅▅▆▆▆▆▆▇▇▇▇▇▇███</td></tr><tr><td>lr-Adam</td><td>▁▁▁▁▁▁▁▁▁▁▁▁▁▁▁▁▁▁▁▁▁▁▁▁▁▁▁▁▁▁▁▁▁▁▁▁▁▁▁▁</td></tr><tr><td>train_acc</td><td>▁▅▆▆▇▆▇▇▇▇▇▇▇▇█▇▇▇▇▇▇▇██▇█▇██▇███▇██████</td></tr><tr><td>train_auc</td><td>▁▅▆▆▆▆▇▇▇▇▇▇▇▇▇▇▇▇▇▇█▇████▇█████████████</td></tr><tr><td>train_f1</td><td>▁▆▆▆▇▇▇▇▇▇▇▇▇▇█▇▇██▇▇▇██████████████████</td></tr><tr><td>train_loss_epoch</td><td>█▅▄▄▄▃▃▃▃▃▂▃▂▂▂▃▂▂▂▂▂▂▂▂▂▂▂▁▁▁▂▁▂▂▁▂▁▁▁▁</td></tr><tr><td>train_loss_step</td><td>█▅▅▄▄▅▅▄▃▅▃▄▄▂▃▃▃▄▃▃▃▃▃▃▂▃▂▃▃▁▃▃▂▂▂▂▂▂▃▁</td></tr><tr><td>trainer/global_step</td><td>▁▁▁▁▁▁▁▂▂▃▃▃▂▂▂▂▂▄▄▄▅▅▂▂▂▂▂▆▆▆▆▆▃▃▃▃▃███</td></tr><tr><td>val_acc</td><td>▁▅▆▇▆▆▇▇▆▇▇▇▆▅▇▆▆▇▇█▅▆▆▄▅▆▅▆▄▇▅▇▆▅▆▅▆▇▆▇</td></tr><tr><td>val_auc</td><td>▁▅▆▆▇▆▇▇▇▇▆▇▇▇▇▅▇█▆█▇▆▆▅▅▆▇▆▄▇▇▇▇▇▇▆▇▇▇▇</td></tr><tr><td>val_f1</td><td>▁▆▇▆▆▇▇▇▆█▇▆▆▅▆▆▆▆▆█▄▆▅▄▃▆▆▅▄▇▆▇▇▅▅▄▅▆▆▆</td></tr><tr><td>val_loss_epoch</td><td>█▂▂▂▃▂▂▁▂▁▂▂▂▂▂▂▁▃▂▃▃▁▃▆▃▄▁▃▅▂▃▃▂▂▃▄▄▄▃▂</td></tr><tr><td>val_loss_step</td><td>▅▂▃▃▄▃▃▁▂▂▄▂▂▂▃▃▂▄▄▄▃▂▃█▂▆▁▅▅▂▂▂▃▄▄▃▆▃▂▂</td></tr></table><br/></div><div class=\"wandb-col\"><h3>Run summary:</h3><br/><table class=\"wandb\"><tr><td>epoch</td><td>79</td></tr><tr><td>lr-Adam</td><td>0.005</td></tr><tr><td>train_acc</td><td>0.86469</td></tr><tr><td>train_auc</td><td>0.92885</td></tr><tr><td>train_f1</td><td>0.8515</td></tr><tr><td>train_loss_epoch</td><td>0.34743</td></tr><tr><td>train_loss_step</td><td>0.27583</td></tr><tr><td>trainer/global_step</td><td>1119</td></tr><tr><td>val_acc</td><td>0.84223</td></tr><tr><td>val_auc</td><td>0.90665</td></tr><tr><td>val_f1</td><td>0.83168</td></tr><tr><td>val_loss_epoch</td><td>0.40436</td></tr><tr><td>val_loss_step</td><td>0.31913</td></tr></table><br/></div></div>"
      ],
      "text/plain": [
       "<IPython.core.display.HTML object>"
      ]
     },
     "metadata": {},
     "output_type": "display_data"
    },
    {
     "data": {
      "text/html": [
       " View run <strong style=\"color:#cdcd00\">GINConv_norm_3_16_onehot_0</strong> at: <a href='https://wandb.ai/thoomas/PLA_01182024_13PPI_3D_Kfold/runs/4ff14abz' target=\"_blank\">https://wandb.ai/thoomas/PLA_01182024_13PPI_3D_Kfold/runs/4ff14abz</a><br/>Synced 6 W&B file(s), 0 media file(s), 0 artifact file(s) and 0 other file(s)"
      ],
      "text/plain": [
       "<IPython.core.display.HTML object>"
      ]
     },
     "metadata": {},
     "output_type": "display_data"
    },
    {
     "data": {
      "text/html": [
       "Find logs at: <code>.\\wandb\\run-20240118_184643-4ff14abz\\logs</code>"
      ],
      "text/plain": [
       "<IPython.core.display.HTML object>"
      ]
     },
     "metadata": {},
     "output_type": "display_data"
    },
    {
     "data": {
      "text/html": [
       "wandb version 0.16.2 is available!  To upgrade, please run:\n",
       " $ pip install wandb --upgrade"
      ],
      "text/plain": [
       "<IPython.core.display.HTML object>"
      ]
     },
     "metadata": {},
     "output_type": "display_data"
    },
    {
     "data": {
      "text/html": [
       "Tracking run with wandb version 0.15.8"
      ],
      "text/plain": [
       "<IPython.core.display.HTML object>"
      ]
     },
     "metadata": {},
     "output_type": "display_data"
    },
    {
     "data": {
      "text/html": [
       "Run data is saved locally in <code>y:\\coskun-lab\\Thomas\\23_PLA_revision\\notebooks\\wandb\\run-20240118_190958-nlh2b6yv</code>"
      ],
      "text/plain": [
       "<IPython.core.display.HTML object>"
      ]
     },
     "metadata": {},
     "output_type": "display_data"
    },
    {
     "data": {
      "text/html": [
       "Syncing run <strong><a href='https://wandb.ai/thoomas/PLA_01182024_13PPI_3D_Kfold/runs/nlh2b6yv' target=\"_blank\">MLP_2_64_onehot_1</a></strong> to <a href='https://wandb.ai/thoomas/PLA_01182024_13PPI_3D_Kfold' target=\"_blank\">Weights & Biases</a> (<a href='https://wandb.me/run' target=\"_blank\">docs</a>)<br/>"
      ],
      "text/plain": [
       "<IPython.core.display.HTML object>"
      ]
     },
     "metadata": {},
     "output_type": "display_data"
    },
    {
     "data": {
      "text/html": [
       " View project at <a href='https://wandb.ai/thoomas/PLA_01182024_13PPI_3D_Kfold' target=\"_blank\">https://wandb.ai/thoomas/PLA_01182024_13PPI_3D_Kfold</a>"
      ],
      "text/plain": [
       "<IPython.core.display.HTML object>"
      ]
     },
     "metadata": {},
     "output_type": "display_data"
    },
    {
     "data": {
      "text/html": [
       " View run at <a href='https://wandb.ai/thoomas/PLA_01182024_13PPI_3D_Kfold/runs/nlh2b6yv' target=\"_blank\">https://wandb.ai/thoomas/PLA_01182024_13PPI_3D_Kfold/runs/nlh2b6yv</a>"
      ],
      "text/plain": [
       "<IPython.core.display.HTML object>"
      ]
     },
     "metadata": {},
     "output_type": "display_data"
    },
    {
     "name": "stderr",
     "output_type": "stream",
     "text": [
      "Global seed set to 42\n",
      "GPU available: True (cuda), used: True\n",
      "TPU available: False, using: 0 TPU cores\n",
      "IPU available: False, using: 0 IPUs\n",
      "HPU available: False, using: 0 HPUs\n",
      "Global seed set to 42\n",
      "c:\\Users\\thu71\\AppData\\Local\\anaconda3\\envs\\scanpy\\Lib\\site-packages\\lightning\\pytorch\\callbacks\\model_checkpoint.py:617: UserWarning: Checkpoint directory \\\\bme-retromaster.ad.gatech.edu\\labs5\\coskun-lab\\Thomas\\23_PLA_revision\\data\\13cyc_3D\\saved_models_v2\\13PPI_3D\\Graph_GNNs_Kfold\\MLP_2_64_onehot_1\\attention\\GraphLevelMLP exists and is not empty.\n",
      "  rank_zero_warn(f\"Checkpoint directory {dirpath} exists and is not empty.\")\n",
      "LOCAL_RANK: 0 - CUDA_VISIBLE_DEVICES: [0]\n",
      "\n",
      "   | Name        | Type             | Params\n",
      "--------------------------------------------------\n",
      "0  | x_embedding | Identity         | 0     \n",
      "1  | model       | MLPModel         | 5.1 K \n",
      "2  | head        | Sequential       | 2.1 K \n",
      "3  | loss_module | CrossEntropyLoss | 0     \n",
      "4  | train_acc   | BinaryAccuracy   | 0     \n",
      "5  | train_auroc | BinaryAUROC      | 0     \n",
      "6  | train_f1    | BinaryF1Score    | 0     \n",
      "7  | valid_acc   | BinaryAccuracy   | 0     \n",
      "8  | valid_auroc | BinaryAUROC      | 0     \n",
      "9  | valid_f1    | BinaryF1Score    | 0     \n",
      "10 | pool        | GlobalAttention  | 65    \n",
      "--------------------------------------------------\n",
      "7.3 K     Trainable params\n",
      "0         Non-trainable params\n",
      "7.3 K     Total params\n",
      "0.029     Total estimated model params size (MB)\n"
     ]
    },
    {
     "name": "stdout",
     "output_type": "stream",
     "text": [
      "Using MLP\n"
     ]
    },
    {
     "name": "stderr",
     "output_type": "stream",
     "text": [
      "`Trainer.fit` stopped: `max_epochs=80` reached.\n"
     ]
    },
    {
     "data": {
      "text/html": [
       "Waiting for W&B process to finish... <strong style=\"color:green\">(success).</strong>"
      ],
      "text/plain": [
       "<IPython.core.display.HTML object>"
      ]
     },
     "metadata": {},
     "output_type": "display_data"
    },
    {
     "data": {
      "application/vnd.jupyter.widget-view+json": {
       "model_id": "ec8658d2a8e94213ae952236ef038715",
       "version_major": 2,
       "version_minor": 0
      },
      "text/plain": [
       "VBox(children=(Label(value='0.001 MB of 0.013 MB uploaded (0.000 MB deduped)\\r'), FloatProgress(value=0.080158…"
      ]
     },
     "metadata": {},
     "output_type": "display_data"
    },
    {
     "data": {
      "text/html": [
       "<style>\n",
       "    table.wandb td:nth-child(1) { padding: 0 10px; text-align: left ; width: auto;} td:nth-child(2) {text-align: left ; width: 100%}\n",
       "    .wandb-row { display: flex; flex-direction: row; flex-wrap: wrap; justify-content: flex-start; width: 100% }\n",
       "    .wandb-col { display: flex; flex-direction: column; flex-basis: 100%; flex: 1; padding: 10px; }\n",
       "    </style>\n",
       "<div class=\"wandb-row\"><div class=\"wandb-col\"><h3>Run history:</h3><br/><table class=\"wandb\"><tr><td>epoch</td><td>▁▁▁▂▂▂▂▂▂▃▃▃▃▃▄▄▄▄▄▄▅▅▅▅▅▅▆▆▆▆▆▇▇▇▇▇▇███</td></tr><tr><td>lr-Adam</td><td>▁▁▁▁▁▁▁▁▁▁▁▁▁▁▁▁▁▁▁▁▁▁▁▁▁▁▁▁▁▁▁▁▁▁▁▁▁▁▁▁</td></tr><tr><td>train_acc</td><td>▁▇▇▇▇▇▇██▇█████▇███████████████▇█████▇██</td></tr><tr><td>train_auc</td><td>▁▇▇▇▇▇▇█████████████████████████████████</td></tr><tr><td>train_f1</td><td>▁▇▇▇▇▇▇██▇█████████████████████▇█████▇██</td></tr><tr><td>train_loss_epoch</td><td>█▄▃▃▂▂▃▂▂▁▁▂▂▁▂▂▁▂▁▁▁▂▁▂▁▁▁▁▁▂▁▁▁▁▁▁▂▂▁▁</td></tr><tr><td>train_loss_step</td><td>█▅▃▅▇▂▃▃▃▄▅▄▁▃▅▁▅▅▄▃▅▃▅▃▃▃▂▃▅▄▄▄▂▂▃▂▂▄▃▄</td></tr><tr><td>trainer/global_step</td><td>▁▁▁▁▁▁▁▂▂▃▃▃▂▂▂▂▂▄▄▄▅▅▂▂▂▂▂▆▆▆▆▆▃▃▃▃▃███</td></tr><tr><td>val_acc</td><td>▁█▇▇█▇█▇▇▇██▇██▆███████▇██▇██▇████▇▆▇▇▇█</td></tr><tr><td>val_auc</td><td>▁▁▅▆▆▇▇▇▇▇▇▆▇▇▇▆▇▇▇▇▇▇▇█▇█▇▇██▇█▇▇▇▆█▇▇█</td></tr><tr><td>val_f1</td><td>▁██▇████████▆▇▇██████▇███▇▇███▇▇██▇▆██▇█</td></tr><tr><td>val_loss_epoch</td><td>█▃▃▂▂▂▂▁▂▁▂▂▃▁▃▂▁▂▁▂▂▂▂▂▂▂▂▂▁▂▂▁▁▃▂▃▁▂▃▁</td></tr><tr><td>val_loss_step</td><td>█▄▅▂▄▆▃▂▂▃▄▃▇▁▆▃▂▅▁▃▆▄▇▆▄▆▄▄▂▇▅▃▂█▄▆▃▆▇▄</td></tr></table><br/></div><div class=\"wandb-col\"><h3>Run summary:</h3><br/><table class=\"wandb\"><tr><td>epoch</td><td>79</td></tr><tr><td>lr-Adam</td><td>0.005</td></tr><tr><td>train_acc</td><td>0.79094</td></tr><tr><td>train_auc</td><td>0.86137</td></tr><tr><td>train_f1</td><td>0.77273</td></tr><tr><td>train_loss_epoch</td><td>0.47149</td></tr><tr><td>train_loss_step</td><td>0.50051</td></tr><tr><td>trainer/global_step</td><td>1119</td></tr><tr><td>val_acc</td><td>0.76334</td></tr><tr><td>val_auc</td><td>0.8397</td></tr><tr><td>val_f1</td><td>0.72872</td></tr><tr><td>val_loss_epoch</td><td>0.49164</td></tr><tr><td>val_loss_step</td><td>0.5007</td></tr></table><br/></div></div>"
      ],
      "text/plain": [
       "<IPython.core.display.HTML object>"
      ]
     },
     "metadata": {},
     "output_type": "display_data"
    },
    {
     "data": {
      "text/html": [
       " View run <strong style=\"color:#cdcd00\">MLP_2_64_onehot_1</strong> at: <a href='https://wandb.ai/thoomas/PLA_01182024_13PPI_3D_Kfold/runs/nlh2b6yv' target=\"_blank\">https://wandb.ai/thoomas/PLA_01182024_13PPI_3D_Kfold/runs/nlh2b6yv</a><br/>Synced 6 W&B file(s), 0 media file(s), 0 artifact file(s) and 0 other file(s)"
      ],
      "text/plain": [
       "<IPython.core.display.HTML object>"
      ]
     },
     "metadata": {},
     "output_type": "display_data"
    },
    {
     "data": {
      "text/html": [
       "Find logs at: <code>.\\wandb\\run-20240118_190958-nlh2b6yv\\logs</code>"
      ],
      "text/plain": [
       "<IPython.core.display.HTML object>"
      ]
     },
     "metadata": {},
     "output_type": "display_data"
    },
    {
     "data": {
      "text/html": [
       "wandb version 0.16.2 is available!  To upgrade, please run:\n",
       " $ pip install wandb --upgrade"
      ],
      "text/plain": [
       "<IPython.core.display.HTML object>"
      ]
     },
     "metadata": {},
     "output_type": "display_data"
    },
    {
     "data": {
      "text/html": [
       "Tracking run with wandb version 0.15.8"
      ],
      "text/plain": [
       "<IPython.core.display.HTML object>"
      ]
     },
     "metadata": {},
     "output_type": "display_data"
    },
    {
     "data": {
      "text/html": [
       "Run data is saved locally in <code>y:\\coskun-lab\\Thomas\\23_PLA_revision\\notebooks\\wandb\\run-20240118_193246-q246k7h6</code>"
      ],
      "text/plain": [
       "<IPython.core.display.HTML object>"
      ]
     },
     "metadata": {},
     "output_type": "display_data"
    },
    {
     "data": {
      "text/html": [
       "Syncing run <strong><a href='https://wandb.ai/thoomas/PLA_01182024_13PPI_3D_Kfold/runs/q246k7h6' target=\"_blank\">GraphConv_2_16_onehot_1</a></strong> to <a href='https://wandb.ai/thoomas/PLA_01182024_13PPI_3D_Kfold' target=\"_blank\">Weights & Biases</a> (<a href='https://wandb.me/run' target=\"_blank\">docs</a>)<br/>"
      ],
      "text/plain": [
       "<IPython.core.display.HTML object>"
      ]
     },
     "metadata": {},
     "output_type": "display_data"
    },
    {
     "data": {
      "text/html": [
       " View project at <a href='https://wandb.ai/thoomas/PLA_01182024_13PPI_3D_Kfold' target=\"_blank\">https://wandb.ai/thoomas/PLA_01182024_13PPI_3D_Kfold</a>"
      ],
      "text/plain": [
       "<IPython.core.display.HTML object>"
      ]
     },
     "metadata": {},
     "output_type": "display_data"
    },
    {
     "data": {
      "text/html": [
       " View run at <a href='https://wandb.ai/thoomas/PLA_01182024_13PPI_3D_Kfold/runs/q246k7h6' target=\"_blank\">https://wandb.ai/thoomas/PLA_01182024_13PPI_3D_Kfold/runs/q246k7h6</a>"
      ],
      "text/plain": [
       "<IPython.core.display.HTML object>"
      ]
     },
     "metadata": {},
     "output_type": "display_data"
    },
    {
     "name": "stderr",
     "output_type": "stream",
     "text": [
      "Global seed set to 42\n",
      "GPU available: True (cuda), used: True\n",
      "TPU available: False, using: 0 TPU cores\n",
      "IPU available: False, using: 0 IPUs\n",
      "HPU available: False, using: 0 HPUs\n",
      "Global seed set to 42\n",
      "c:\\Users\\thu71\\AppData\\Local\\anaconda3\\envs\\scanpy\\Lib\\site-packages\\lightning\\pytorch\\callbacks\\model_checkpoint.py:617: UserWarning: Checkpoint directory \\\\bme-retromaster.ad.gatech.edu\\labs5\\coskun-lab\\Thomas\\23_PLA_revision\\data\\13cyc_3D\\saved_models_v2\\13PPI_3D\\Graph_GNNs_Kfold\\GraphConv_2_16_onehot_1\\attention\\GraphLevelGraphConv exists and is not empty.\n",
      "  rank_zero_warn(f\"Checkpoint directory {dirpath} exists and is not empty.\")\n",
      "LOCAL_RANK: 0 - CUDA_VISIBLE_DEVICES: [0]\n",
      "\n",
      "   | Name        | Type             | Params\n",
      "--------------------------------------------------\n",
      "0  | x_embedding | Identity         | 0     \n",
      "1  | model       | GNNModel         | 992   \n",
      "2  | head        | Sequential       | 154   \n",
      "3  | loss_module | CrossEntropyLoss | 0     \n",
      "4  | train_acc   | BinaryAccuracy   | 0     \n",
      "5  | train_auroc | BinaryAUROC      | 0     \n",
      "6  | train_f1    | BinaryF1Score    | 0     \n",
      "7  | valid_acc   | BinaryAccuracy   | 0     \n",
      "8  | valid_auroc | BinaryAUROC      | 0     \n",
      "9  | valid_f1    | BinaryF1Score    | 0     \n",
      "10 | pool        | GlobalAttention  | 17    \n",
      "--------------------------------------------------\n",
      "1.2 K     Trainable params\n",
      "0         Non-trainable params\n",
      "1.2 K     Total params\n",
      "0.005     Total estimated model params size (MB)\n"
     ]
    },
    {
     "name": "stdout",
     "output_type": "stream",
     "text": [
      "Using GNN\n"
     ]
    },
    {
     "name": "stderr",
     "output_type": "stream",
     "text": [
      "`Trainer.fit` stopped: `max_epochs=80` reached.\n"
     ]
    },
    {
     "data": {
      "text/html": [
       "Waiting for W&B process to finish... <strong style=\"color:green\">(success).</strong>"
      ],
      "text/plain": [
       "<IPython.core.display.HTML object>"
      ]
     },
     "metadata": {},
     "output_type": "display_data"
    },
    {
     "data": {
      "text/html": [
       "<style>\n",
       "    table.wandb td:nth-child(1) { padding: 0 10px; text-align: left ; width: auto;} td:nth-child(2) {text-align: left ; width: 100%}\n",
       "    .wandb-row { display: flex; flex-direction: row; flex-wrap: wrap; justify-content: flex-start; width: 100% }\n",
       "    .wandb-col { display: flex; flex-direction: column; flex-basis: 100%; flex: 1; padding: 10px; }\n",
       "    </style>\n",
       "<div class=\"wandb-row\"><div class=\"wandb-col\"><h3>Run history:</h3><br/><table class=\"wandb\"><tr><td>epoch</td><td>▁▁▁▂▂▂▂▂▂▃▃▃▃▃▄▄▄▄▄▄▅▅▅▅▅▅▆▆▆▆▆▇▇▇▇▇▇███</td></tr><tr><td>lr-Adam</td><td>▁▁▁▁▁▁▁▁▁▁▁▁▁▁▁▁▁▁▁▁▁▁▁▁▁▁▁▁▁▁▁▁▁▁▁▁▁▁▁▁</td></tr><tr><td>train_acc</td><td>▁▅▇▇▇▇▇▇▇▇█▇▇▇█▇█▇██▇████▇██████████████</td></tr><tr><td>train_auc</td><td>▁▅▇▇▇▇▇▇▇▇▇██▇▇▇████████████████████████</td></tr><tr><td>train_f1</td><td>▁▄▆▆▆▆▇▆▇▇▇▇▇▇▇▇█▇▇▇▇▇███▇▇▇███████▇█▇▇█</td></tr><tr><td>train_loss_epoch</td><td>█▅▃▄▃▃▃▃▂▂▂▂▂▂▂▂▂▂▂▂▂▁▂▁▂▂▂▂▁▂▁▁▁▁▁▂▁▂▂▁</td></tr><tr><td>train_loss_step</td><td>█▆▄▄▃▄▅▃▅▂▃▂▂▂▆▄▁▃▃▅▂▆▅▁▂▃▂▂▁▂▃▃▂▅▃▂▂▃▃▄</td></tr><tr><td>trainer/global_step</td><td>▁▁▁▁▁▁▁▂▂▃▃▃▂▂▂▂▂▄▄▄▅▅▂▂▂▂▂▆▆▆▆▆▃▃▃▃▃███</td></tr><tr><td>val_acc</td><td>▁▆▇▇▇▇▇▇▇██▇▇▇▇█▇▇█▇██▇██▇█▇█▇████▇▇█▇▇▇</td></tr><tr><td>val_auc</td><td>▁▄▆▇▇▇▇▇██▇███▇██████████████████████▇██</td></tr><tr><td>val_f1</td><td>▁▅▅▆▆▇▅▆▇▆▆▆▆▇▆▇▇▇▆▇▆▇▇█▇▇▇▇█▇█▇▇▇▇▇▇▇▇▇</td></tr><tr><td>val_loss_epoch</td><td>█▅▃▂▂▂▂▂▂▂▂▂▁▂▂▂▂▁▂▂▂▂▁▁▂▂▁▂▂▁▂▂▂▂▁▂▂▃▂▂</td></tr><tr><td>val_loss_step</td><td>█▅▅▄▄▃▃▄▄▃▄▆▃▃▄▃▄▃▅▅▃▅▂▂▃▄▃▇▄▂▅▆▃▃▁▂▂▇▅▄</td></tr></table><br/></div><div class=\"wandb-col\"><h3>Run summary:</h3><br/><table class=\"wandb\"><tr><td>epoch</td><td>79</td></tr><tr><td>lr-Adam</td><td>0.005</td></tr><tr><td>train_acc</td><td>0.8374</td></tr><tr><td>train_auc</td><td>0.91416</td></tr><tr><td>train_f1</td><td>0.82301</td></tr><tr><td>train_loss_epoch</td><td>0.37769</td></tr><tr><td>train_loss_step</td><td>0.48064</td></tr><tr><td>trainer/global_step</td><td>1119</td></tr><tr><td>val_acc</td><td>0.78886</td></tr><tr><td>val_auc</td><td>0.89375</td></tr><tr><td>val_f1</td><td>0.77531</td></tr><tr><td>val_loss_epoch</td><td>0.43451</td></tr><tr><td>val_loss_step</td><td>0.42187</td></tr></table><br/></div></div>"
      ],
      "text/plain": [
       "<IPython.core.display.HTML object>"
      ]
     },
     "metadata": {},
     "output_type": "display_data"
    },
    {
     "data": {
      "text/html": [
       " View run <strong style=\"color:#cdcd00\">GraphConv_2_16_onehot_1</strong> at: <a href='https://wandb.ai/thoomas/PLA_01182024_13PPI_3D_Kfold/runs/q246k7h6' target=\"_blank\">https://wandb.ai/thoomas/PLA_01182024_13PPI_3D_Kfold/runs/q246k7h6</a><br/>Synced 6 W&B file(s), 0 media file(s), 0 artifact file(s) and 0 other file(s)"
      ],
      "text/plain": [
       "<IPython.core.display.HTML object>"
      ]
     },
     "metadata": {},
     "output_type": "display_data"
    },
    {
     "data": {
      "text/html": [
       "Find logs at: <code>.\\wandb\\run-20240118_193246-q246k7h6\\logs</code>"
      ],
      "text/plain": [
       "<IPython.core.display.HTML object>"
      ]
     },
     "metadata": {},
     "output_type": "display_data"
    },
    {
     "data": {
      "text/html": [
       "wandb version 0.16.2 is available!  To upgrade, please run:\n",
       " $ pip install wandb --upgrade"
      ],
      "text/plain": [
       "<IPython.core.display.HTML object>"
      ]
     },
     "metadata": {},
     "output_type": "display_data"
    },
    {
     "data": {
      "text/html": [
       "Tracking run with wandb version 0.15.8"
      ],
      "text/plain": [
       "<IPython.core.display.HTML object>"
      ]
     },
     "metadata": {},
     "output_type": "display_data"
    },
    {
     "data": {
      "text/html": [
       "Run data is saved locally in <code>y:\\coskun-lab\\Thomas\\23_PLA_revision\\notebooks\\wandb\\run-20240118_195536-imll02ll</code>"
      ],
      "text/plain": [
       "<IPython.core.display.HTML object>"
      ]
     },
     "metadata": {},
     "output_type": "display_data"
    },
    {
     "data": {
      "text/html": [
       "Syncing run <strong><a href='https://wandb.ai/thoomas/PLA_01182024_13PPI_3D_Kfold/runs/imll02ll' target=\"_blank\">GCN_2_64_onehot_1</a></strong> to <a href='https://wandb.ai/thoomas/PLA_01182024_13PPI_3D_Kfold' target=\"_blank\">Weights & Biases</a> (<a href='https://wandb.me/run' target=\"_blank\">docs</a>)<br/>"
      ],
      "text/plain": [
       "<IPython.core.display.HTML object>"
      ]
     },
     "metadata": {},
     "output_type": "display_data"
    },
    {
     "data": {
      "text/html": [
       " View project at <a href='https://wandb.ai/thoomas/PLA_01182024_13PPI_3D_Kfold' target=\"_blank\">https://wandb.ai/thoomas/PLA_01182024_13PPI_3D_Kfold</a>"
      ],
      "text/plain": [
       "<IPython.core.display.HTML object>"
      ]
     },
     "metadata": {},
     "output_type": "display_data"
    },
    {
     "data": {
      "text/html": [
       " View run at <a href='https://wandb.ai/thoomas/PLA_01182024_13PPI_3D_Kfold/runs/imll02ll' target=\"_blank\">https://wandb.ai/thoomas/PLA_01182024_13PPI_3D_Kfold/runs/imll02ll</a>"
      ],
      "text/plain": [
       "<IPython.core.display.HTML object>"
      ]
     },
     "metadata": {},
     "output_type": "display_data"
    },
    {
     "name": "stderr",
     "output_type": "stream",
     "text": [
      "Global seed set to 42\n",
      "GPU available: True (cuda), used: True\n",
      "TPU available: False, using: 0 TPU cores\n",
      "IPU available: False, using: 0 IPUs\n",
      "HPU available: False, using: 0 HPUs\n",
      "Global seed set to 42\n",
      "c:\\Users\\thu71\\AppData\\Local\\anaconda3\\envs\\scanpy\\Lib\\site-packages\\lightning\\pytorch\\callbacks\\model_checkpoint.py:617: UserWarning: Checkpoint directory \\\\bme-retromaster.ad.gatech.edu\\labs5\\coskun-lab\\Thomas\\23_PLA_revision\\data\\13cyc_3D\\saved_models_v2\\13PPI_3D\\Graph_GNNs_Kfold\\GCN_2_64_onehot_1\\attention2\\GraphLevelGCN exists and is not empty.\n",
      "  rank_zero_warn(f\"Checkpoint directory {dirpath} exists and is not empty.\")\n",
      "LOCAL_RANK: 0 - CUDA_VISIBLE_DEVICES: [0]\n",
      "\n",
      "   | Name        | Type             | Params\n",
      "--------------------------------------------------\n",
      "0  | x_embedding | Identity         | 0     \n",
      "1  | model       | GNNModel         | 5.2 K \n",
      "2  | head        | Sequential       | 2.1 K \n",
      "3  | loss_module | CrossEntropyLoss | 0     \n",
      "4  | train_acc   | BinaryAccuracy   | 0     \n",
      "5  | train_auroc | BinaryAUROC      | 0     \n",
      "6  | train_f1    | BinaryF1Score    | 0     \n",
      "7  | valid_acc   | BinaryAccuracy   | 0     \n",
      "8  | valid_auroc | BinaryAUROC      | 0     \n",
      "9  | valid_f1    | BinaryF1Score    | 0     \n",
      "10 | pool        | Attention_module | 4.2 K \n",
      "--------------------------------------------------\n",
      "11.5 K    Trainable params\n",
      "0         Non-trainable params\n",
      "11.5 K    Total params\n",
      "0.046     Total estimated model params size (MB)\n"
     ]
    },
    {
     "name": "stdout",
     "output_type": "stream",
     "text": [
      "Using GNN\n"
     ]
    },
    {
     "name": "stderr",
     "output_type": "stream",
     "text": [
      "`Trainer.fit` stopped: `max_epochs=80` reached.\n"
     ]
    },
    {
     "data": {
      "text/html": [
       "Waiting for W&B process to finish... <strong style=\"color:green\">(success).</strong>"
      ],
      "text/plain": [
       "<IPython.core.display.HTML object>"
      ]
     },
     "metadata": {},
     "output_type": "display_data"
    },
    {
     "data": {
      "text/html": [
       "<style>\n",
       "    table.wandb td:nth-child(1) { padding: 0 10px; text-align: left ; width: auto;} td:nth-child(2) {text-align: left ; width: 100%}\n",
       "    .wandb-row { display: flex; flex-direction: row; flex-wrap: wrap; justify-content: flex-start; width: 100% }\n",
       "    .wandb-col { display: flex; flex-direction: column; flex-basis: 100%; flex: 1; padding: 10px; }\n",
       "    </style>\n",
       "<div class=\"wandb-row\"><div class=\"wandb-col\"><h3>Run history:</h3><br/><table class=\"wandb\"><tr><td>epoch</td><td>▁▁▁▂▂▂▂▂▂▃▃▃▃▃▄▄▄▄▄▄▅▅▅▅▅▅▆▆▆▆▆▇▇▇▇▇▇███</td></tr><tr><td>lr-Adam</td><td>▁▁▁▁▁▁▁▁▁▁▁▁▁▁▁▁▁▁▁▁▁▁▁▁▁▁▁▁▁▁▁▁▁▁▁▁▁▁▁▁</td></tr><tr><td>train_acc</td><td>▁▆▆▆▆▅▇▇▇▆▆▇▇▇▇▇▇█▇▇▇▇▇▇▇▇▇██▇▇████▇███▇</td></tr><tr><td>train_auc</td><td>▁▅▆▇▆▆▇▇▇▇▆▇▇▇▇█▇▇▇█▇█▇██▇████▇██████▇██</td></tr><tr><td>train_f1</td><td>▁▆▆▆▆▆▇▇▇▆▆▇▇▇▇▇▇█▇▇▇▇▇▇▇▇▇██▇▇████▇███▇</td></tr><tr><td>train_loss_epoch</td><td>█▄▃▃▃▃▃▃▃▃▃▂▃▂▃▂▂▂▂▂▂▂▃▁▁▂▂▂▁▁▂▁▂▂▁▁▁▂▂▁</td></tr><tr><td>train_loss_step</td><td>▄▅▆█▆▇▆▄▆▄▄▄▇▅▆▄▄▁▃▄▄▄▃▄▄▃▄▃▄▃▄▅▃▃▂▄▃▄▃▄</td></tr><tr><td>trainer/global_step</td><td>▁▁▁▁▁▁▁▂▂▃▃▃▂▂▂▂▂▄▄▄▅▅▂▂▂▂▂▆▆▆▆▆▃▃▃▃▃███</td></tr><tr><td>val_acc</td><td>▁▇▇██▇▇▆█▇▇▇██▇█▇█▇▇█▇▇█▇█▇█▇██▇▇▇▇██▅█▆</td></tr><tr><td>val_auc</td><td>▁▄▅▆▆▆▇▅▆▅█▇▇▇▇▆▃▇▆▇▅▆▄▇▆▆▄▆▆▅▆▃▅▄▅▅▆▄▃▃</td></tr><tr><td>val_f1</td><td>▁▇███▇█████████▇███████████████████████▇</td></tr><tr><td>val_loss_epoch</td><td>█▃▂▃▂▂▁▂▃▂▁▂▁▁▂▃▃▁▂▃▃▂▂▁▃▂▃▂▃▂▁▃▃▄▂▂▂▅▂▄</td></tr><tr><td>val_loss_step</td><td>▇▅▃▅▅▅▃▄▆▁▃▄▄▃▅▃▃▄▃▆▇▅▂▃▇▆▅▃▇▄▂▃▇█▃▃▅▂▃▆</td></tr></table><br/></div><div class=\"wandb-col\"><h3>Run summary:</h3><br/><table class=\"wandb\"><tr><td>epoch</td><td>79</td></tr><tr><td>lr-Adam</td><td>0.005</td></tr><tr><td>train_acc</td><td>0.82869</td></tr><tr><td>train_auc</td><td>0.90701</td></tr><tr><td>train_f1</td><td>0.8115</td></tr><tr><td>train_loss_epoch</td><td>0.3857</td></tr><tr><td>train_loss_step</td><td>0.38171</td></tr><tr><td>trainer/global_step</td><td>1119</td></tr><tr><td>val_acc</td><td>0.73782</td></tr><tr><td>val_auc</td><td>0.86129</td></tr><tr><td>val_f1</td><td>0.73031</td></tr><tr><td>val_loss_epoch</td><td>0.51623</td></tr><tr><td>val_loss_step</td><td>0.54383</td></tr></table><br/></div></div>"
      ],
      "text/plain": [
       "<IPython.core.display.HTML object>"
      ]
     },
     "metadata": {},
     "output_type": "display_data"
    },
    {
     "data": {
      "text/html": [
       " View run <strong style=\"color:#cdcd00\">GCN_2_64_onehot_1</strong> at: <a href='https://wandb.ai/thoomas/PLA_01182024_13PPI_3D_Kfold/runs/imll02ll' target=\"_blank\">https://wandb.ai/thoomas/PLA_01182024_13PPI_3D_Kfold/runs/imll02ll</a><br/>Synced 6 W&B file(s), 0 media file(s), 0 artifact file(s) and 0 other file(s)"
      ],
      "text/plain": [
       "<IPython.core.display.HTML object>"
      ]
     },
     "metadata": {},
     "output_type": "display_data"
    },
    {
     "data": {
      "text/html": [
       "Find logs at: <code>.\\wandb\\run-20240118_195536-imll02ll\\logs</code>"
      ],
      "text/plain": [
       "<IPython.core.display.HTML object>"
      ]
     },
     "metadata": {},
     "output_type": "display_data"
    },
    {
     "data": {
      "application/vnd.jupyter.widget-view+json": {
       "model_id": "367fbc2fad3a4d5a9368b8507020edd4",
       "version_major": 2,
       "version_minor": 0
      },
      "text/plain": [
       "VBox(children=(Label(value='Waiting for wandb.init()...\\r'), FloatProgress(value=0.016666666666666666, max=1.0…"
      ]
     },
     "metadata": {},
     "output_type": "display_data"
    },
    {
     "data": {
      "text/html": [
       "wandb version 0.16.2 is available!  To upgrade, please run:\n",
       " $ pip install wandb --upgrade"
      ],
      "text/plain": [
       "<IPython.core.display.HTML object>"
      ]
     },
     "metadata": {},
     "output_type": "display_data"
    },
    {
     "data": {
      "text/html": [
       "Tracking run with wandb version 0.15.8"
      ],
      "text/plain": [
       "<IPython.core.display.HTML object>"
      ]
     },
     "metadata": {},
     "output_type": "display_data"
    },
    {
     "data": {
      "text/html": [
       "Run data is saved locally in <code>y:\\coskun-lab\\Thomas\\23_PLA_revision\\notebooks\\wandb\\run-20240118_201725-edknuz0b</code>"
      ],
      "text/plain": [
       "<IPython.core.display.HTML object>"
      ]
     },
     "metadata": {},
     "output_type": "display_data"
    },
    {
     "data": {
      "text/html": [
       "Syncing run <strong><a href='https://wandb.ai/thoomas/PLA_01182024_13PPI_3D_Kfold/runs/edknuz0b' target=\"_blank\">GAT_norm_3_64_onehot_1</a></strong> to <a href='https://wandb.ai/thoomas/PLA_01182024_13PPI_3D_Kfold' target=\"_blank\">Weights & Biases</a> (<a href='https://wandb.me/run' target=\"_blank\">docs</a>)<br/>"
      ],
      "text/plain": [
       "<IPython.core.display.HTML object>"
      ]
     },
     "metadata": {},
     "output_type": "display_data"
    },
    {
     "data": {
      "text/html": [
       " View project at <a href='https://wandb.ai/thoomas/PLA_01182024_13PPI_3D_Kfold' target=\"_blank\">https://wandb.ai/thoomas/PLA_01182024_13PPI_3D_Kfold</a>"
      ],
      "text/plain": [
       "<IPython.core.display.HTML object>"
      ]
     },
     "metadata": {},
     "output_type": "display_data"
    },
    {
     "data": {
      "text/html": [
       " View run at <a href='https://wandb.ai/thoomas/PLA_01182024_13PPI_3D_Kfold/runs/edknuz0b' target=\"_blank\">https://wandb.ai/thoomas/PLA_01182024_13PPI_3D_Kfold/runs/edknuz0b</a>"
      ],
      "text/plain": [
       "<IPython.core.display.HTML object>"
      ]
     },
     "metadata": {},
     "output_type": "display_data"
    },
    {
     "name": "stderr",
     "output_type": "stream",
     "text": [
      "Global seed set to 42\n",
      "GPU available: True (cuda), used: True\n",
      "TPU available: False, using: 0 TPU cores\n",
      "IPU available: False, using: 0 IPUs\n",
      "HPU available: False, using: 0 HPUs\n",
      "Global seed set to 42\n",
      "c:\\Users\\thu71\\AppData\\Local\\anaconda3\\envs\\scanpy\\Lib\\site-packages\\lightning\\pytorch\\callbacks\\model_checkpoint.py:617: UserWarning: Checkpoint directory \\\\bme-retromaster.ad.gatech.edu\\labs5\\coskun-lab\\Thomas\\23_PLA_revision\\data\\13cyc_3D\\saved_models_v2\\13PPI_3D\\Graph_GNNs_Kfold\\GAT_norm_3_64_onehot_1\\attention\\GraphLevelGAT_norm exists and is not empty.\n",
      "  rank_zero_warn(f\"Checkpoint directory {dirpath} exists and is not empty.\")\n",
      "LOCAL_RANK: 0 - CUDA_VISIBLE_DEVICES: [0]\n",
      "\n",
      "   | Name        | Type             | Params\n",
      "--------------------------------------------------\n",
      "0  | x_embedding | Identity         | 0     \n",
      "1  | model       | GAT              | 79.0 K\n",
      "2  | head        | Sequential       | 2.1 K \n",
      "3  | loss_module | CrossEntropyLoss | 0     \n",
      "4  | train_acc   | BinaryAccuracy   | 0     \n",
      "5  | train_auroc | BinaryAUROC      | 0     \n",
      "6  | train_f1    | BinaryF1Score    | 0     \n",
      "7  | valid_acc   | BinaryAccuracy   | 0     \n",
      "8  | valid_auroc | BinaryAUROC      | 0     \n",
      "9  | valid_f1    | BinaryF1Score    | 0     \n",
      "10 | pool        | GlobalAttention  | 65    \n",
      "--------------------------------------------------\n",
      "81.3 K    Trainable params\n",
      "0         Non-trainable params\n",
      "81.3 K    Total params\n",
      "0.325     Total estimated model params size (MB)\n"
     ]
    },
    {
     "name": "stdout",
     "output_type": "stream",
     "text": [
      "Using GAT\n"
     ]
    },
    {
     "name": "stderr",
     "output_type": "stream",
     "text": [
      "`Trainer.fit` stopped: `max_epochs=80` reached.\n"
     ]
    },
    {
     "data": {
      "text/html": [
       "Waiting for W&B process to finish... <strong style=\"color:green\">(success).</strong>"
      ],
      "text/plain": [
       "<IPython.core.display.HTML object>"
      ]
     },
     "metadata": {},
     "output_type": "display_data"
    },
    {
     "data": {
      "text/html": [
       "<style>\n",
       "    table.wandb td:nth-child(1) { padding: 0 10px; text-align: left ; width: auto;} td:nth-child(2) {text-align: left ; width: 100%}\n",
       "    .wandb-row { display: flex; flex-direction: row; flex-wrap: wrap; justify-content: flex-start; width: 100% }\n",
       "    .wandb-col { display: flex; flex-direction: column; flex-basis: 100%; flex: 1; padding: 10px; }\n",
       "    </style>\n",
       "<div class=\"wandb-row\"><div class=\"wandb-col\"><h3>Run history:</h3><br/><table class=\"wandb\"><tr><td>epoch</td><td>▁▁▁▂▂▂▂▂▂▃▃▃▃▃▄▄▄▄▄▄▅▅▅▅▅▅▆▆▆▆▆▇▇▇▇▇▇███</td></tr><tr><td>lr-Adam</td><td>▁▁▁▁▁▁▁▁▁▁▁▁▁▁▁▁▁▁▁▁▁▁▁▁▁▁▁▁▁▁▁▁▁▁▁▁▁▁▁▁</td></tr><tr><td>train_acc</td><td>▁▆▆▆▇▇▇▇▇▇▇▇▇▇▇█▇▇▇██▇▇▇▇█▇█▇▇▇▇████▇███</td></tr><tr><td>train_auc</td><td>▁▆▆▆▇▇▇▇▇▇▇▇▇▇▇█▇▇▇██▇▇▇▇▇██▇███████▇███</td></tr><tr><td>train_f1</td><td>▁▆▆▆▇▇▇▇▇▇▇▇▇▇▇█▇▇▇██▇▇▇▇▇▇█▇▇▇▇▇███▇███</td></tr><tr><td>train_loss_epoch</td><td>█▄▄▃▃▃▃▃▃▂▃▃▂▂▂▂▂▃▂▂▂▂▂▃▂▂▂▂▃▂▂▂▂▂▁▂▂▂▂▁</td></tr><tr><td>train_loss_step</td><td>▇▅▆▅▄▅▆▃▆▅▆▃▄▅▄▂▄▃▃▆▃▁▆▅▅▅▅▃▂▆▄█▇▂▄▂▃▃▅▁</td></tr><tr><td>trainer/global_step</td><td>▁▁▁▁▁▁▁▂▂▃▃▃▂▂▂▂▂▄▄▄▅▅▂▂▂▂▂▆▆▆▆▆▃▃▃▃▃███</td></tr><tr><td>val_acc</td><td>▁▅▅▅▆▆█▃▅█▇█▅▅▆▇█▇▆▄█▆▇▅▇▅▆▇█▇▅▆█▇▂▅▇▅▅▆</td></tr><tr><td>val_auc</td><td>▁▄▆▇▇▇▇▆▇█▇▇▆▇▇▇▆▇█▇▇▇█▇▆▇▆▇▇█▇▇▇▇▇▇██▇▇</td></tr><tr><td>val_f1</td><td>▁▄▅▅▅▆█▃▅▇█▇▅▅▅▇▆▇▆▄▇▅█▅▆▅▆▇██▅▆█▇▃▅▇▅▅▆</td></tr><tr><td>val_loss_epoch</td><td>▇▄▃▄▃▂▂▆▄▂▂▁▄▂▄▂▁▁▃▇▂▃▁▃▂▄▂▂▂▂▆▄▁▂█▅▂▄▄▄</td></tr><tr><td>val_loss_step</td><td>█▅▅▄▄▃▅▅▃▆▂▃▅▁▆▂▂▃▆▄▆▄▁▄▄▆▄▅▆▃██▃▃▆▅▂▄▃█</td></tr></table><br/></div><div class=\"wandb-col\"><h3>Run summary:</h3><br/><table class=\"wandb\"><tr><td>epoch</td><td>79</td></tr><tr><td>lr-Adam</td><td>0.005</td></tr><tr><td>train_acc</td><td>0.82869</td></tr><tr><td>train_auc</td><td>0.89886</td></tr><tr><td>train_f1</td><td>0.81891</td></tr><tr><td>train_loss_epoch</td><td>0.39414</td></tr><tr><td>train_loss_step</td><td>0.30961</td></tr><tr><td>trainer/global_step</td><td>1119</td></tr><tr><td>val_acc</td><td>0.74246</td></tr><tr><td>val_auc</td><td>0.86278</td></tr><tr><td>val_f1</td><td>0.75168</td></tr><tr><td>val_loss_epoch</td><td>0.58208</td></tr><tr><td>val_loss_step</td><td>0.67875</td></tr></table><br/></div></div>"
      ],
      "text/plain": [
       "<IPython.core.display.HTML object>"
      ]
     },
     "metadata": {},
     "output_type": "display_data"
    },
    {
     "data": {
      "text/html": [
       " View run <strong style=\"color:#cdcd00\">GAT_norm_3_64_onehot_1</strong> at: <a href='https://wandb.ai/thoomas/PLA_01182024_13PPI_3D_Kfold/runs/edknuz0b' target=\"_blank\">https://wandb.ai/thoomas/PLA_01182024_13PPI_3D_Kfold/runs/edknuz0b</a><br/>Synced 6 W&B file(s), 0 media file(s), 0 artifact file(s) and 0 other file(s)"
      ],
      "text/plain": [
       "<IPython.core.display.HTML object>"
      ]
     },
     "metadata": {},
     "output_type": "display_data"
    },
    {
     "data": {
      "text/html": [
       "Find logs at: <code>.\\wandb\\run-20240118_201725-edknuz0b\\logs</code>"
      ],
      "text/plain": [
       "<IPython.core.display.HTML object>"
      ]
     },
     "metadata": {},
     "output_type": "display_data"
    },
    {
     "data": {
      "text/html": [
       "wandb version 0.16.2 is available!  To upgrade, please run:\n",
       " $ pip install wandb --upgrade"
      ],
      "text/plain": [
       "<IPython.core.display.HTML object>"
      ]
     },
     "metadata": {},
     "output_type": "display_data"
    },
    {
     "data": {
      "text/html": [
       "Tracking run with wandb version 0.15.8"
      ],
      "text/plain": [
       "<IPython.core.display.HTML object>"
      ]
     },
     "metadata": {},
     "output_type": "display_data"
    },
    {
     "data": {
      "text/html": [
       "Run data is saved locally in <code>y:\\coskun-lab\\Thomas\\23_PLA_revision\\notebooks\\wandb\\run-20240118_203821-knvibadr</code>"
      ],
      "text/plain": [
       "<IPython.core.display.HTML object>"
      ]
     },
     "metadata": {},
     "output_type": "display_data"
    },
    {
     "data": {
      "text/html": [
       "Syncing run <strong><a href='https://wandb.ai/thoomas/PLA_01182024_13PPI_3D_Kfold/runs/knvibadr' target=\"_blank\">GINConv_norm_3_16_onehot_1</a></strong> to <a href='https://wandb.ai/thoomas/PLA_01182024_13PPI_3D_Kfold' target=\"_blank\">Weights & Biases</a> (<a href='https://wandb.me/run' target=\"_blank\">docs</a>)<br/>"
      ],
      "text/plain": [
       "<IPython.core.display.HTML object>"
      ]
     },
     "metadata": {},
     "output_type": "display_data"
    },
    {
     "data": {
      "text/html": [
       " View project at <a href='https://wandb.ai/thoomas/PLA_01182024_13PPI_3D_Kfold' target=\"_blank\">https://wandb.ai/thoomas/PLA_01182024_13PPI_3D_Kfold</a>"
      ],
      "text/plain": [
       "<IPython.core.display.HTML object>"
      ]
     },
     "metadata": {},
     "output_type": "display_data"
    },
    {
     "data": {
      "text/html": [
       " View run at <a href='https://wandb.ai/thoomas/PLA_01182024_13PPI_3D_Kfold/runs/knvibadr' target=\"_blank\">https://wandb.ai/thoomas/PLA_01182024_13PPI_3D_Kfold/runs/knvibadr</a>"
      ],
      "text/plain": [
       "<IPython.core.display.HTML object>"
      ]
     },
     "metadata": {},
     "output_type": "display_data"
    },
    {
     "name": "stderr",
     "output_type": "stream",
     "text": [
      "Global seed set to 42\n",
      "GPU available: True (cuda), used: True\n",
      "TPU available: False, using: 0 TPU cores\n",
      "IPU available: False, using: 0 IPUs\n",
      "HPU available: False, using: 0 HPUs\n",
      "Global seed set to 42\n",
      "c:\\Users\\thu71\\AppData\\Local\\anaconda3\\envs\\scanpy\\Lib\\site-packages\\lightning\\pytorch\\callbacks\\model_checkpoint.py:617: UserWarning: Checkpoint directory \\\\bme-retromaster.ad.gatech.edu\\labs5\\coskun-lab\\Thomas\\23_PLA_revision\\data\\13cyc_3D\\saved_models_v2\\13PPI_3D\\Graph_GNNs_Kfold\\GINConv_norm_3_16_onehot_1\\mean\\GraphLevelGINConv_norm exists and is not empty.\n",
      "  rank_zero_warn(f\"Checkpoint directory {dirpath} exists and is not empty.\")\n",
      "LOCAL_RANK: 0 - CUDA_VISIBLE_DEVICES: [0]\n",
      "\n",
      "  | Name        | Type             | Params\n",
      "-------------------------------------------------\n",
      "0 | x_embedding | Identity         | 0     \n",
      "1 | model       | GIN              | 1.7 K \n",
      "2 | head        | Sequential       | 154   \n",
      "3 | loss_module | CrossEntropyLoss | 0     \n",
      "4 | train_acc   | BinaryAccuracy   | 0     \n",
      "5 | train_auroc | BinaryAUROC      | 0     \n",
      "6 | train_f1    | BinaryF1Score    | 0     \n",
      "7 | valid_acc   | BinaryAccuracy   | 0     \n",
      "8 | valid_auroc | BinaryAUROC      | 0     \n",
      "9 | valid_f1    | BinaryF1Score    | 0     \n",
      "-------------------------------------------------\n",
      "1.9 K     Trainable params\n",
      "0         Non-trainable params\n",
      "1.9 K     Total params\n",
      "0.008     Total estimated model params size (MB)\n"
     ]
    },
    {
     "name": "stdout",
     "output_type": "stream",
     "text": [
      "GINConv\n"
     ]
    },
    {
     "name": "stderr",
     "output_type": "stream",
     "text": [
      "`Trainer.fit` stopped: `max_epochs=80` reached.\n"
     ]
    },
    {
     "data": {
      "text/html": [
       "Waiting for W&B process to finish... <strong style=\"color:green\">(success).</strong>"
      ],
      "text/plain": [
       "<IPython.core.display.HTML object>"
      ]
     },
     "metadata": {},
     "output_type": "display_data"
    },
    {
     "data": {
      "text/html": [
       "<style>\n",
       "    table.wandb td:nth-child(1) { padding: 0 10px; text-align: left ; width: auto;} td:nth-child(2) {text-align: left ; width: 100%}\n",
       "    .wandb-row { display: flex; flex-direction: row; flex-wrap: wrap; justify-content: flex-start; width: 100% }\n",
       "    .wandb-col { display: flex; flex-direction: column; flex-basis: 100%; flex: 1; padding: 10px; }\n",
       "    </style>\n",
       "<div class=\"wandb-row\"><div class=\"wandb-col\"><h3>Run history:</h3><br/><table class=\"wandb\"><tr><td>epoch</td><td>▁▁▁▂▂▂▂▂▂▃▃▃▃▃▄▄▄▄▄▄▅▅▅▅▅▅▆▆▆▆▆▇▇▇▇▇▇███</td></tr><tr><td>lr-Adam</td><td>▁▁▁▁▁▁▁▁▁▁▁▁▁▁▁▁▁▁▁▁▁▁▁▁▁▁▁▁▁▁▁▁▁▁▁▁▁▁▁▁</td></tr><tr><td>train_acc</td><td>▁▆▆▆▆▆▇▇▇▇▇▇▇▇▇▇▇▇▇▇▇▇▇▇▇▇█▇███▇▇████▇██</td></tr><tr><td>train_auc</td><td>▁▆▆▆▇▇▇▇▇▇▇▇▇▇▇▇▇▇▇▇▇▇█▇▇██▇████████████</td></tr><tr><td>train_f1</td><td>▁▆▆▆▆▇▇▇▇▇▇▇▇▇▇▇▇▇▇▇▇▇▇▇▇▇█▇████▇████▇██</td></tr><tr><td>train_loss_epoch</td><td>█▄▄▄▃▃▃▃▃▃▃▃▃▂▂▃▂▂▂▂▂▂▂▂▂▂▁▂▂▁▁▂▂▁▁▁▂▂▁▁</td></tr><tr><td>train_loss_step</td><td>▆▆▄▄▅▄▄▃▄▃▃▃▅▄▃▂▁█▃▄▁▃▃▂▂▂▄▂▃▃▂▃▃▂▂▂▂▃▂▄</td></tr><tr><td>trainer/global_step</td><td>▁▁▁▁▁▁▁▂▂▃▃▃▂▂▂▂▂▄▄▄▅▅▂▂▂▂▂▆▆▆▆▆▃▃▃▃▃███</td></tr><tr><td>val_acc</td><td>▁▄▅▄▅▆▅▅▆▇▆▅▆▇▆▇▅▇▆▇▆▆▇▇▅▇▅▆▇▆▅▆▇▆▇█▆▇▅▆</td></tr><tr><td>val_auc</td><td>▁▄▅▅▆▆▆▆▆▇▆▆▇▇▆▇▆▇█▇▇▇██▇▇▇▇██▇█████▇▇▇▆</td></tr><tr><td>val_f1</td><td>▁▂▃▃▄▄▄▅▅▇▅▅▅▅▆▆▄▆▇▇▆▅▆▇▆▇▅▅█▇▅▆▆▅██▆▆▃▃</td></tr><tr><td>val_loss_epoch</td><td>█▄▄▄▃▄▃▃▃▂▄▄▂▃▄▃▄▃▃▁▃▁▂▁▄▂▄▂▂▃▅▂▃▁▂▂▂▂▄▆</td></tr><tr><td>val_loss_step</td><td>▅▃▄▄▂▅▄▂▃▂▇▃▂▃▂▃▂▃▄▂▄▂▃▂▄▃▄▂▃▄█▂▃▁▃▂▁▂▅▇</td></tr></table><br/></div><div class=\"wandb-col\"><h3>Run summary:</h3><br/><table class=\"wandb\"><tr><td>epoch</td><td>79</td></tr><tr><td>lr-Adam</td><td>0.005</td></tr><tr><td>train_acc</td><td>0.86643</td></tr><tr><td>train_auc</td><td>0.92968</td></tr><tr><td>train_f1</td><td>0.85785</td></tr><tr><td>train_loss_epoch</td><td>0.34631</td></tr><tr><td>train_loss_step</td><td>0.41513</td></tr><tr><td>trainer/global_step</td><td>1119</td></tr><tr><td>val_acc</td><td>0.80278</td></tr><tr><td>val_auc</td><td>0.87915</td></tr><tr><td>val_f1</td><td>0.75219</td></tr><tr><td>val_loss_epoch</td><td>0.52209</td></tr><tr><td>val_loss_step</td><td>0.74166</td></tr></table><br/></div></div>"
      ],
      "text/plain": [
       "<IPython.core.display.HTML object>"
      ]
     },
     "metadata": {},
     "output_type": "display_data"
    },
    {
     "data": {
      "text/html": [
       " View run <strong style=\"color:#cdcd00\">GINConv_norm_3_16_onehot_1</strong> at: <a href='https://wandb.ai/thoomas/PLA_01182024_13PPI_3D_Kfold/runs/knvibadr' target=\"_blank\">https://wandb.ai/thoomas/PLA_01182024_13PPI_3D_Kfold/runs/knvibadr</a><br/>Synced 6 W&B file(s), 0 media file(s), 0 artifact file(s) and 0 other file(s)"
      ],
      "text/plain": [
       "<IPython.core.display.HTML object>"
      ]
     },
     "metadata": {},
     "output_type": "display_data"
    },
    {
     "data": {
      "text/html": [
       "Find logs at: <code>.\\wandb\\run-20240118_203821-knvibadr\\logs</code>"
      ],
      "text/plain": [
       "<IPython.core.display.HTML object>"
      ]
     },
     "metadata": {},
     "output_type": "display_data"
    },
    {
     "data": {
      "application/vnd.jupyter.widget-view+json": {
       "model_id": "b6baa50e3aa44e1ea55d7ef69f30ad9d",
       "version_major": 2,
       "version_minor": 0
      },
      "text/plain": [
       "VBox(children=(Label(value='Waiting for wandb.init()...\\r'), FloatProgress(value=0.01693333333338766, max=1.0)…"
      ]
     },
     "metadata": {},
     "output_type": "display_data"
    },
    {
     "data": {
      "text/html": [
       "wandb version 0.16.2 is available!  To upgrade, please run:\n",
       " $ pip install wandb --upgrade"
      ],
      "text/plain": [
       "<IPython.core.display.HTML object>"
      ]
     },
     "metadata": {},
     "output_type": "display_data"
    },
    {
     "data": {
      "text/html": [
       "Tracking run with wandb version 0.15.8"
      ],
      "text/plain": [
       "<IPython.core.display.HTML object>"
      ]
     },
     "metadata": {},
     "output_type": "display_data"
    },
    {
     "data": {
      "text/html": [
       "Run data is saved locally in <code>y:\\coskun-lab\\Thomas\\23_PLA_revision\\notebooks\\wandb\\run-20240118_210107-qpd8z9ng</code>"
      ],
      "text/plain": [
       "<IPython.core.display.HTML object>"
      ]
     },
     "metadata": {},
     "output_type": "display_data"
    },
    {
     "data": {
      "text/html": [
       "Syncing run <strong><a href='https://wandb.ai/thoomas/PLA_01182024_13PPI_3D_Kfold/runs/qpd8z9ng' target=\"_blank\">MLP_2_64_onehot_2</a></strong> to <a href='https://wandb.ai/thoomas/PLA_01182024_13PPI_3D_Kfold' target=\"_blank\">Weights & Biases</a> (<a href='https://wandb.me/run' target=\"_blank\">docs</a>)<br/>"
      ],
      "text/plain": [
       "<IPython.core.display.HTML object>"
      ]
     },
     "metadata": {},
     "output_type": "display_data"
    },
    {
     "data": {
      "text/html": [
       " View project at <a href='https://wandb.ai/thoomas/PLA_01182024_13PPI_3D_Kfold' target=\"_blank\">https://wandb.ai/thoomas/PLA_01182024_13PPI_3D_Kfold</a>"
      ],
      "text/plain": [
       "<IPython.core.display.HTML object>"
      ]
     },
     "metadata": {},
     "output_type": "display_data"
    },
    {
     "data": {
      "text/html": [
       " View run at <a href='https://wandb.ai/thoomas/PLA_01182024_13PPI_3D_Kfold/runs/qpd8z9ng' target=\"_blank\">https://wandb.ai/thoomas/PLA_01182024_13PPI_3D_Kfold/runs/qpd8z9ng</a>"
      ],
      "text/plain": [
       "<IPython.core.display.HTML object>"
      ]
     },
     "metadata": {},
     "output_type": "display_data"
    },
    {
     "name": "stderr",
     "output_type": "stream",
     "text": [
      "Global seed set to 42\n",
      "GPU available: True (cuda), used: True\n",
      "TPU available: False, using: 0 TPU cores\n",
      "IPU available: False, using: 0 IPUs\n",
      "HPU available: False, using: 0 HPUs\n",
      "Global seed set to 42\n",
      "c:\\Users\\thu71\\AppData\\Local\\anaconda3\\envs\\scanpy\\Lib\\site-packages\\lightning\\pytorch\\callbacks\\model_checkpoint.py:617: UserWarning: Checkpoint directory \\\\bme-retromaster.ad.gatech.edu\\labs5\\coskun-lab\\Thomas\\23_PLA_revision\\data\\13cyc_3D\\saved_models_v2\\13PPI_3D\\Graph_GNNs_Kfold\\MLP_2_64_onehot_2\\attention\\GraphLevelMLP exists and is not empty.\n",
      "  rank_zero_warn(f\"Checkpoint directory {dirpath} exists and is not empty.\")\n",
      "LOCAL_RANK: 0 - CUDA_VISIBLE_DEVICES: [0]\n",
      "\n",
      "   | Name        | Type             | Params\n",
      "--------------------------------------------------\n",
      "0  | x_embedding | Identity         | 0     \n",
      "1  | model       | MLPModel         | 5.1 K \n",
      "2  | head        | Sequential       | 2.1 K \n",
      "3  | loss_module | CrossEntropyLoss | 0     \n",
      "4  | train_acc   | BinaryAccuracy   | 0     \n",
      "5  | train_auroc | BinaryAUROC      | 0     \n",
      "6  | train_f1    | BinaryF1Score    | 0     \n",
      "7  | valid_acc   | BinaryAccuracy   | 0     \n",
      "8  | valid_auroc | BinaryAUROC      | 0     \n",
      "9  | valid_f1    | BinaryF1Score    | 0     \n",
      "10 | pool        | GlobalAttention  | 65    \n",
      "--------------------------------------------------\n",
      "7.3 K     Trainable params\n",
      "0         Non-trainable params\n",
      "7.3 K     Total params\n",
      "0.029     Total estimated model params size (MB)\n"
     ]
    },
    {
     "name": "stdout",
     "output_type": "stream",
     "text": [
      "Using MLP\n"
     ]
    },
    {
     "name": "stderr",
     "output_type": "stream",
     "text": [
      "`Trainer.fit` stopped: `max_epochs=80` reached.\n"
     ]
    },
    {
     "data": {
      "text/html": [
       "Waiting for W&B process to finish... <strong style=\"color:green\">(success).</strong>"
      ],
      "text/plain": [
       "<IPython.core.display.HTML object>"
      ]
     },
     "metadata": {},
     "output_type": "display_data"
    },
    {
     "data": {
      "text/html": [
       "<style>\n",
       "    table.wandb td:nth-child(1) { padding: 0 10px; text-align: left ; width: auto;} td:nth-child(2) {text-align: left ; width: 100%}\n",
       "    .wandb-row { display: flex; flex-direction: row; flex-wrap: wrap; justify-content: flex-start; width: 100% }\n",
       "    .wandb-col { display: flex; flex-direction: column; flex-basis: 100%; flex: 1; padding: 10px; }\n",
       "    </style>\n",
       "<div class=\"wandb-row\"><div class=\"wandb-col\"><h3>Run history:</h3><br/><table class=\"wandb\"><tr><td>epoch</td><td>▁▁▁▂▂▂▂▂▂▃▃▃▃▃▄▄▄▄▄▄▅▅▅▅▅▅▆▆▆▆▆▇▇▇▇▇▇███</td></tr><tr><td>lr-Adam</td><td>▁▁▁▁▁▁▁▁▁▁▁▁▁▁▁▁▁▁▁▁▁▁▁▁▁▁▁▁▁▁▁▁▁▁▁▁▁▁▁▁</td></tr><tr><td>train_acc</td><td>▁▆▇▇▇▇▇▇▇███▇█▇▇█▇███▇▇█▇▇██▇██▇█▇█▇█▇█▇</td></tr><tr><td>train_auc</td><td>▁▇▇█▇█▇▇████▇█▇▇█▇██████████████████████</td></tr><tr><td>train_f1</td><td>▁▆▇▇▇▇▇▇▇███▇█▇▇█▇████▇█▇██████▇███▇█▇▇▇</td></tr><tr><td>train_loss_epoch</td><td>█▄▃▂▂▁▃▂▂▁▂▁▂▁▂▂▁▂▁▂▁▂▂▁▂▁▁▁▂▁▁▁▁▁▂▂▁▂▁▂</td></tr><tr><td>train_loss_step</td><td>█▇▇▄▃▄▆▄▃▃▂▃▂▃▅▅▅▅▆▄▄▃█▃▄▄▁▅▅▁▄▃▃▅▃▄▆▃▅▆</td></tr><tr><td>trainer/global_step</td><td>▁▁▁▁▁▁▁▂▂▃▃▃▂▂▂▂▂▄▄▄▅▅▂▂▂▂▂▆▆▆▆▆▃▃▃▃▃███</td></tr><tr><td>val_acc</td><td>▁▃▇▇▇█▆▇█▇█▅▇▆▆██▅██▇███▆▅▇█▅█▆████▃█▇▇▇</td></tr><tr><td>val_auc</td><td>▁▃▅▆▇███████████████▇▇██▇█████▇███▇████▇</td></tr><tr><td>val_f1</td><td>▁▃▇▇▇█▆▇█▇█▆▇▆▆██▅██▇████▅▇█▅█▇████▄██▇▇</td></tr><tr><td>val_loss_epoch</td><td>█▄▂▂▂▁▂▂▂▁▂▂▂▂▁▁▃▂▂▂▂▂▃▂▄▂▂▂▂▁▂▂▁▂▂▄▂▂▂▂</td></tr><tr><td>val_loss_step</td><td>▇▄▆▃▅▂▄▅▃▁▅▃▅▅▂▃▇▄▃▄▅▅█▅▄▄▆▄▃▂▃▅▂▄▄▆▃▄▄▄</td></tr></table><br/></div><div class=\"wandb-col\"><h3>Run summary:</h3><br/><table class=\"wandb\"><tr><td>epoch</td><td>79</td></tr><tr><td>lr-Adam</td><td>0.005</td></tr><tr><td>train_acc</td><td>0.76597</td></tr><tr><td>train_auc</td><td>0.85213</td></tr><tr><td>train_f1</td><td>0.74117</td></tr><tr><td>train_loss_epoch</td><td>0.48226</td></tr><tr><td>train_loss_step</td><td>0.5843</td></tr><tr><td>trainer/global_step</td><td>1119</td></tr><tr><td>val_acc</td><td>0.77262</td></tr><tr><td>val_auc</td><td>0.85398</td></tr><tr><td>val_f1</td><td>0.72778</td></tr><tr><td>val_loss_epoch</td><td>0.48439</td></tr><tr><td>val_loss_step</td><td>0.4911</td></tr></table><br/></div></div>"
      ],
      "text/plain": [
       "<IPython.core.display.HTML object>"
      ]
     },
     "metadata": {},
     "output_type": "display_data"
    },
    {
     "data": {
      "text/html": [
       " View run <strong style=\"color:#cdcd00\">MLP_2_64_onehot_2</strong> at: <a href='https://wandb.ai/thoomas/PLA_01182024_13PPI_3D_Kfold/runs/qpd8z9ng' target=\"_blank\">https://wandb.ai/thoomas/PLA_01182024_13PPI_3D_Kfold/runs/qpd8z9ng</a><br/>Synced 6 W&B file(s), 0 media file(s), 0 artifact file(s) and 0 other file(s)"
      ],
      "text/plain": [
       "<IPython.core.display.HTML object>"
      ]
     },
     "metadata": {},
     "output_type": "display_data"
    },
    {
     "data": {
      "text/html": [
       "Find logs at: <code>.\\wandb\\run-20240118_210107-qpd8z9ng\\logs</code>"
      ],
      "text/plain": [
       "<IPython.core.display.HTML object>"
      ]
     },
     "metadata": {},
     "output_type": "display_data"
    },
    {
     "data": {
      "text/html": [
       "wandb version 0.16.2 is available!  To upgrade, please run:\n",
       " $ pip install wandb --upgrade"
      ],
      "text/plain": [
       "<IPython.core.display.HTML object>"
      ]
     },
     "metadata": {},
     "output_type": "display_data"
    },
    {
     "data": {
      "text/html": [
       "Tracking run with wandb version 0.15.8"
      ],
      "text/plain": [
       "<IPython.core.display.HTML object>"
      ]
     },
     "metadata": {},
     "output_type": "display_data"
    },
    {
     "data": {
      "text/html": [
       "Run data is saved locally in <code>y:\\coskun-lab\\Thomas\\23_PLA_revision\\notebooks\\wandb\\run-20240118_212609-hwt413tf</code>"
      ],
      "text/plain": [
       "<IPython.core.display.HTML object>"
      ]
     },
     "metadata": {},
     "output_type": "display_data"
    },
    {
     "data": {
      "text/html": [
       "Syncing run <strong><a href='https://wandb.ai/thoomas/PLA_01182024_13PPI_3D_Kfold/runs/hwt413tf' target=\"_blank\">GraphConv_2_16_onehot_2</a></strong> to <a href='https://wandb.ai/thoomas/PLA_01182024_13PPI_3D_Kfold' target=\"_blank\">Weights & Biases</a> (<a href='https://wandb.me/run' target=\"_blank\">docs</a>)<br/>"
      ],
      "text/plain": [
       "<IPython.core.display.HTML object>"
      ]
     },
     "metadata": {},
     "output_type": "display_data"
    },
    {
     "data": {
      "text/html": [
       " View project at <a href='https://wandb.ai/thoomas/PLA_01182024_13PPI_3D_Kfold' target=\"_blank\">https://wandb.ai/thoomas/PLA_01182024_13PPI_3D_Kfold</a>"
      ],
      "text/plain": [
       "<IPython.core.display.HTML object>"
      ]
     },
     "metadata": {},
     "output_type": "display_data"
    },
    {
     "data": {
      "text/html": [
       " View run at <a href='https://wandb.ai/thoomas/PLA_01182024_13PPI_3D_Kfold/runs/hwt413tf' target=\"_blank\">https://wandb.ai/thoomas/PLA_01182024_13PPI_3D_Kfold/runs/hwt413tf</a>"
      ],
      "text/plain": [
       "<IPython.core.display.HTML object>"
      ]
     },
     "metadata": {},
     "output_type": "display_data"
    },
    {
     "name": "stderr",
     "output_type": "stream",
     "text": [
      "Global seed set to 42\n",
      "GPU available: True (cuda), used: True\n",
      "TPU available: False, using: 0 TPU cores\n",
      "IPU available: False, using: 0 IPUs\n",
      "HPU available: False, using: 0 HPUs\n",
      "Global seed set to 42\n",
      "c:\\Users\\thu71\\AppData\\Local\\anaconda3\\envs\\scanpy\\Lib\\site-packages\\lightning\\pytorch\\callbacks\\model_checkpoint.py:617: UserWarning: Checkpoint directory \\\\bme-retromaster.ad.gatech.edu\\labs5\\coskun-lab\\Thomas\\23_PLA_revision\\data\\13cyc_3D\\saved_models_v2\\13PPI_3D\\Graph_GNNs_Kfold\\GraphConv_2_16_onehot_2\\attention\\GraphLevelGraphConv exists and is not empty.\n",
      "  rank_zero_warn(f\"Checkpoint directory {dirpath} exists and is not empty.\")\n",
      "LOCAL_RANK: 0 - CUDA_VISIBLE_DEVICES: [0]\n",
      "\n",
      "   | Name        | Type             | Params\n",
      "--------------------------------------------------\n",
      "0  | x_embedding | Identity         | 0     \n",
      "1  | model       | GNNModel         | 992   \n",
      "2  | head        | Sequential       | 154   \n",
      "3  | loss_module | CrossEntropyLoss | 0     \n",
      "4  | train_acc   | BinaryAccuracy   | 0     \n",
      "5  | train_auroc | BinaryAUROC      | 0     \n",
      "6  | train_f1    | BinaryF1Score    | 0     \n",
      "7  | valid_acc   | BinaryAccuracy   | 0     \n",
      "8  | valid_auroc | BinaryAUROC      | 0     \n",
      "9  | valid_f1    | BinaryF1Score    | 0     \n",
      "10 | pool        | GlobalAttention  | 17    \n",
      "--------------------------------------------------\n",
      "1.2 K     Trainable params\n",
      "0         Non-trainable params\n",
      "1.2 K     Total params\n",
      "0.005     Total estimated model params size (MB)\n"
     ]
    },
    {
     "name": "stdout",
     "output_type": "stream",
     "text": [
      "Using GNN\n"
     ]
    },
    {
     "name": "stderr",
     "output_type": "stream",
     "text": [
      "`Trainer.fit` stopped: `max_epochs=80` reached.\n"
     ]
    },
    {
     "data": {
      "text/html": [
       "Waiting for W&B process to finish... <strong style=\"color:green\">(success).</strong>"
      ],
      "text/plain": [
       "<IPython.core.display.HTML object>"
      ]
     },
     "metadata": {},
     "output_type": "display_data"
    },
    {
     "data": {
      "application/vnd.jupyter.widget-view+json": {
       "model_id": "655d8c84db914322abde835e406736d2",
       "version_major": 2,
       "version_minor": 0
      },
      "text/plain": [
       "VBox(children=(Label(value='0.001 MB of 0.001 MB uploaded (0.000 MB deduped)\\r'), FloatProgress(value=1.0, max…"
      ]
     },
     "metadata": {},
     "output_type": "display_data"
    },
    {
     "data": {
      "text/html": [
       "<style>\n",
       "    table.wandb td:nth-child(1) { padding: 0 10px; text-align: left ; width: auto;} td:nth-child(2) {text-align: left ; width: 100%}\n",
       "    .wandb-row { display: flex; flex-direction: row; flex-wrap: wrap; justify-content: flex-start; width: 100% }\n",
       "    .wandb-col { display: flex; flex-direction: column; flex-basis: 100%; flex: 1; padding: 10px; }\n",
       "    </style>\n",
       "<div class=\"wandb-row\"><div class=\"wandb-col\"><h3>Run history:</h3><br/><table class=\"wandb\"><tr><td>epoch</td><td>▁▁▁▂▂▂▂▂▂▃▃▃▃▃▄▄▄▄▄▄▅▅▅▅▅▅▆▆▆▆▆▇▇▇▇▇▇███</td></tr><tr><td>lr-Adam</td><td>▁▁▁▁▁▁▁▁▁▁▁▁▁▁▁▁▁▁▁▁▁▁▁▁▁▁▁▁▁▁▁▁▁▁▁▁▁▁▁▁</td></tr><tr><td>train_acc</td><td>▁▅▆▇▇▇▇▆▇▇▇▇▇▇▇▇▇█▇███▇██▇███▇█████████▇</td></tr><tr><td>train_auc</td><td>▁▅▆▇▇▇▇▇▇▇▇▇█▇▇▇████████████████████████</td></tr><tr><td>train_f1</td><td>▁▄▅▆▆▆▇▅▇▇▇▇▇▇▆▇▇▇▇▇▇▇▇▇▇▇▇▇▇▇██▇██▇▇█▇▇</td></tr><tr><td>train_loss_epoch</td><td>█▅▄▃▃▂▂▃▃▂▂▂▂▂▃▂▁▂▂▂▂▁▂▁▁▂▁▁▁▂▁▁▁▁▁▂▁▁▁▁</td></tr><tr><td>train_loss_step</td><td>█▆▃▅▃▄▃▂▃▃▃▂▃▂▅▅▃▃▃▃▃▃▂▂▃▃▂▃▃▃▄▁▂▂▂▃▁▃▂▃</td></tr><tr><td>trainer/global_step</td><td>▁▁▁▁▁▁▁▂▂▃▃▃▂▂▂▂▂▄▄▄▅▅▂▂▂▂▂▆▆▆▆▆▃▃▃▃▃███</td></tr><tr><td>val_acc</td><td>▁▇▇█▇█▇▇██████▇▇██▇█████████████████████</td></tr><tr><td>val_auc</td><td>▁▆▇▇▇███████████████████████████████████</td></tr><tr><td>val_f1</td><td>▁▆▅▇▄▇▆▄▇▇▆█▇█▅▄▇▆▅▇▆▇█▇▇█▇▇▇█▇█▇▇▇▇▇▇██</td></tr><tr><td>val_loss_epoch</td><td>█▄▃▂▃▃▂▂▂▁▂▂▂▁▂▃▂▁▂▂▂▁▂▂▂▂▂▂▂▂▁▂▂▂▂▂▁▂▂▂</td></tr><tr><td>val_loss_step</td><td>█▅▆▄▅▆▃▄▄▂▅▅▄▄▄▅▄▃▄▄▅▄▅▆▅▃▅▅▄▅▄▅▅▅▄▄▁▃▄▅</td></tr></table><br/></div><div class=\"wandb-col\"><h3>Run summary:</h3><br/><table class=\"wandb\"><tr><td>epoch</td><td>79</td></tr><tr><td>lr-Adam</td><td>0.005</td></tr><tr><td>train_acc</td><td>0.82462</td></tr><tr><td>train_auc</td><td>0.90422</td></tr><tr><td>train_f1</td><td>0.81585</td></tr><tr><td>train_loss_epoch</td><td>0.39317</td></tr><tr><td>train_loss_step</td><td>0.44565</td></tr><tr><td>trainer/global_step</td><td>1119</td></tr><tr><td>val_acc</td><td>0.81206</td></tr><tr><td>val_auc</td><td>0.88602</td></tr><tr><td>val_f1</td><td>0.784</td></tr><tr><td>val_loss_epoch</td><td>0.44453</td></tr><tr><td>val_loss_step</td><td>0.4989</td></tr></table><br/></div></div>"
      ],
      "text/plain": [
       "<IPython.core.display.HTML object>"
      ]
     },
     "metadata": {},
     "output_type": "display_data"
    },
    {
     "data": {
      "text/html": [
       " View run <strong style=\"color:#cdcd00\">GraphConv_2_16_onehot_2</strong> at: <a href='https://wandb.ai/thoomas/PLA_01182024_13PPI_3D_Kfold/runs/hwt413tf' target=\"_blank\">https://wandb.ai/thoomas/PLA_01182024_13PPI_3D_Kfold/runs/hwt413tf</a><br/>Synced 6 W&B file(s), 0 media file(s), 0 artifact file(s) and 0 other file(s)"
      ],
      "text/plain": [
       "<IPython.core.display.HTML object>"
      ]
     },
     "metadata": {},
     "output_type": "display_data"
    },
    {
     "data": {
      "text/html": [
       "Find logs at: <code>.\\wandb\\run-20240118_212609-hwt413tf\\logs</code>"
      ],
      "text/plain": [
       "<IPython.core.display.HTML object>"
      ]
     },
     "metadata": {},
     "output_type": "display_data"
    },
    {
     "data": {
      "text/html": [
       "wandb version 0.16.2 is available!  To upgrade, please run:\n",
       " $ pip install wandb --upgrade"
      ],
      "text/plain": [
       "<IPython.core.display.HTML object>"
      ]
     },
     "metadata": {},
     "output_type": "display_data"
    },
    {
     "data": {
      "text/html": [
       "Tracking run with wandb version 0.15.8"
      ],
      "text/plain": [
       "<IPython.core.display.HTML object>"
      ]
     },
     "metadata": {},
     "output_type": "display_data"
    },
    {
     "data": {
      "text/html": [
       "Run data is saved locally in <code>y:\\coskun-lab\\Thomas\\23_PLA_revision\\notebooks\\wandb\\run-20240118_215036-1b8zppwv</code>"
      ],
      "text/plain": [
       "<IPython.core.display.HTML object>"
      ]
     },
     "metadata": {},
     "output_type": "display_data"
    },
    {
     "data": {
      "text/html": [
       "Syncing run <strong><a href='https://wandb.ai/thoomas/PLA_01182024_13PPI_3D_Kfold/runs/1b8zppwv' target=\"_blank\">GCN_2_64_onehot_2</a></strong> to <a href='https://wandb.ai/thoomas/PLA_01182024_13PPI_3D_Kfold' target=\"_blank\">Weights & Biases</a> (<a href='https://wandb.me/run' target=\"_blank\">docs</a>)<br/>"
      ],
      "text/plain": [
       "<IPython.core.display.HTML object>"
      ]
     },
     "metadata": {},
     "output_type": "display_data"
    },
    {
     "data": {
      "text/html": [
       " View project at <a href='https://wandb.ai/thoomas/PLA_01182024_13PPI_3D_Kfold' target=\"_blank\">https://wandb.ai/thoomas/PLA_01182024_13PPI_3D_Kfold</a>"
      ],
      "text/plain": [
       "<IPython.core.display.HTML object>"
      ]
     },
     "metadata": {},
     "output_type": "display_data"
    },
    {
     "data": {
      "text/html": [
       " View run at <a href='https://wandb.ai/thoomas/PLA_01182024_13PPI_3D_Kfold/runs/1b8zppwv' target=\"_blank\">https://wandb.ai/thoomas/PLA_01182024_13PPI_3D_Kfold/runs/1b8zppwv</a>"
      ],
      "text/plain": [
       "<IPython.core.display.HTML object>"
      ]
     },
     "metadata": {},
     "output_type": "display_data"
    },
    {
     "name": "stderr",
     "output_type": "stream",
     "text": [
      "Global seed set to 42\n",
      "GPU available: True (cuda), used: True\n",
      "TPU available: False, using: 0 TPU cores\n",
      "IPU available: False, using: 0 IPUs\n",
      "HPU available: False, using: 0 HPUs\n",
      "Global seed set to 42\n",
      "c:\\Users\\thu71\\AppData\\Local\\anaconda3\\envs\\scanpy\\Lib\\site-packages\\lightning\\pytorch\\callbacks\\model_checkpoint.py:617: UserWarning: Checkpoint directory \\\\bme-retromaster.ad.gatech.edu\\labs5\\coskun-lab\\Thomas\\23_PLA_revision\\data\\13cyc_3D\\saved_models_v2\\13PPI_3D\\Graph_GNNs_Kfold\\GCN_2_64_onehot_2\\attention2\\GraphLevelGCN exists and is not empty.\n",
      "  rank_zero_warn(f\"Checkpoint directory {dirpath} exists and is not empty.\")\n",
      "LOCAL_RANK: 0 - CUDA_VISIBLE_DEVICES: [0]\n",
      "\n",
      "   | Name        | Type             | Params\n",
      "--------------------------------------------------\n",
      "0  | x_embedding | Identity         | 0     \n",
      "1  | model       | GNNModel         | 5.2 K \n",
      "2  | head        | Sequential       | 2.1 K \n",
      "3  | loss_module | CrossEntropyLoss | 0     \n",
      "4  | train_acc   | BinaryAccuracy   | 0     \n",
      "5  | train_auroc | BinaryAUROC      | 0     \n",
      "6  | train_f1    | BinaryF1Score    | 0     \n",
      "7  | valid_acc   | BinaryAccuracy   | 0     \n",
      "8  | valid_auroc | BinaryAUROC      | 0     \n",
      "9  | valid_f1    | BinaryF1Score    | 0     \n",
      "10 | pool        | Attention_module | 4.2 K \n",
      "--------------------------------------------------\n",
      "11.5 K    Trainable params\n",
      "0         Non-trainable params\n",
      "11.5 K    Total params\n",
      "0.046     Total estimated model params size (MB)\n"
     ]
    },
    {
     "name": "stdout",
     "output_type": "stream",
     "text": [
      "Using GNN\n"
     ]
    },
    {
     "name": "stderr",
     "output_type": "stream",
     "text": [
      "`Trainer.fit` stopped: `max_epochs=80` reached.\n"
     ]
    },
    {
     "data": {
      "text/html": [
       "Waiting for W&B process to finish... <strong style=\"color:green\">(success).</strong>"
      ],
      "text/plain": [
       "<IPython.core.display.HTML object>"
      ]
     },
     "metadata": {},
     "output_type": "display_data"
    },
    {
     "data": {
      "text/html": [
       "<style>\n",
       "    table.wandb td:nth-child(1) { padding: 0 10px; text-align: left ; width: auto;} td:nth-child(2) {text-align: left ; width: 100%}\n",
       "    .wandb-row { display: flex; flex-direction: row; flex-wrap: wrap; justify-content: flex-start; width: 100% }\n",
       "    .wandb-col { display: flex; flex-direction: column; flex-basis: 100%; flex: 1; padding: 10px; }\n",
       "    </style>\n",
       "<div class=\"wandb-row\"><div class=\"wandb-col\"><h3>Run history:</h3><br/><table class=\"wandb\"><tr><td>epoch</td><td>▁▁▁▂▂▂▂▂▂▃▃▃▃▃▄▄▄▄▄▄▅▅▅▅▅▅▆▆▆▆▆▇▇▇▇▇▇███</td></tr><tr><td>lr-Adam</td><td>▁▁▁▁▁▁▁▁▁▁▁▁▁▁▁▁▁▁▁▁▁▁▁▁▁▁▁▁▁▁▁▁▁▁▁▁▁▁▁▁</td></tr><tr><td>train_acc</td><td>▁▅▆▆▆▇▇▇▇▇▆▇▇▇▇▇▇▇▇▇▇▇▇▇▇▆█████▇▇▇▇██▇▇▇</td></tr><tr><td>train_auc</td><td>▁▆▆▆▆▇▇▇▇▇▆▇▇▇▇▇▇▇▇▇▇▇▇█▇▇██▇█▇▇▇█▇▇█▇▇▇</td></tr><tr><td>train_f1</td><td>▁▆▆▆▇▇▇▇▇▇▆▇▇▇▇▇▇▇▇▇▇▇▇▇▇▆███▇█▇█▇▇██▇▇▇</td></tr><tr><td>train_loss_epoch</td><td>█▄▄▃▃▃▂▂▂▂▃▂▃▂▂▂▂▃▂▂▁▂▂▁▂▂▁▂▂▁▂▂▂▁▂▂▁▂▂▂</td></tr><tr><td>train_loss_step</td><td>█▅▄▂▄▄▅▃▄▄▄▃▃▃▃▃▃▄▃▂▃▃▄▂▂▃▄▅▂▁▂▃▂▂▃▂▃▃▁▆</td></tr><tr><td>trainer/global_step</td><td>▁▁▁▁▁▁▁▂▂▃▃▃▂▂▂▂▂▄▄▄▅▅▂▂▂▂▂▆▆▆▆▆▃▃▃▃▃███</td></tr><tr><td>val_acc</td><td>▁▆▇▇▇▇▇▇▇▇▇▇▇█▇▇▇▇▇▇█▇▆▇▇██▆▇▇▅██▇▇▇███▇</td></tr><tr><td>val_auc</td><td>▁▃▄▄▅▆▆▆▆▅█▆▇▇▆█▆▇▇▇▇▇▇▇▇█▇▆▇▇▆▆▇▇▅▇▇▇▆▆</td></tr><tr><td>val_f1</td><td>▁▆██▇▇█▇▇█▇███▇▇█▇███▇▆▇▇████▇▆▇█▇█▇███▇</td></tr><tr><td>val_loss_epoch</td><td>█▃▃▃▂▃▄▂▂▃▂▃▂▃▂▂▂▂▂▁▂▃▂▂▂▂▃▄▂▁▂▃▁▂▂▁▂▁▁▃</td></tr><tr><td>val_loss_step</td><td>▇▅▇▅▅▇█▄▃▅▅▄▅▅▄▃▂▂▄▃▃▄▁▃▅▇▇▄▄▁▃▆▃▃▃▃▂▄▂█</td></tr></table><br/></div><div class=\"wandb-col\"><h3>Run summary:</h3><br/><table class=\"wandb\"><tr><td>epoch</td><td>79</td></tr><tr><td>lr-Adam</td><td>0.005</td></tr><tr><td>train_acc</td><td>0.82869</td></tr><tr><td>train_auc</td><td>0.90024</td></tr><tr><td>train_f1</td><td>0.81341</td></tr><tr><td>train_loss_epoch</td><td>0.40472</td></tr><tr><td>train_loss_step</td><td>0.5279</td></tr><tr><td>trainer/global_step</td><td>1119</td></tr><tr><td>val_acc</td><td>0.80046</td></tr><tr><td>val_auc</td><td>0.87345</td></tr><tr><td>val_f1</td><td>0.76503</td></tr><tr><td>val_loss_epoch</td><td>0.49295</td></tr><tr><td>val_loss_step</td><td>0.65212</td></tr></table><br/></div></div>"
      ],
      "text/plain": [
       "<IPython.core.display.HTML object>"
      ]
     },
     "metadata": {},
     "output_type": "display_data"
    },
    {
     "data": {
      "text/html": [
       " View run <strong style=\"color:#cdcd00\">GCN_2_64_onehot_2</strong> at: <a href='https://wandb.ai/thoomas/PLA_01182024_13PPI_3D_Kfold/runs/1b8zppwv' target=\"_blank\">https://wandb.ai/thoomas/PLA_01182024_13PPI_3D_Kfold/runs/1b8zppwv</a><br/>Synced 6 W&B file(s), 0 media file(s), 0 artifact file(s) and 0 other file(s)"
      ],
      "text/plain": [
       "<IPython.core.display.HTML object>"
      ]
     },
     "metadata": {},
     "output_type": "display_data"
    },
    {
     "data": {
      "text/html": [
       "Find logs at: <code>.\\wandb\\run-20240118_215036-1b8zppwv\\logs</code>"
      ],
      "text/plain": [
       "<IPython.core.display.HTML object>"
      ]
     },
     "metadata": {},
     "output_type": "display_data"
    },
    {
     "data": {
      "text/html": [
       "wandb version 0.16.2 is available!  To upgrade, please run:\n",
       " $ pip install wandb --upgrade"
      ],
      "text/plain": [
       "<IPython.core.display.HTML object>"
      ]
     },
     "metadata": {},
     "output_type": "display_data"
    },
    {
     "data": {
      "text/html": [
       "Tracking run with wandb version 0.15.8"
      ],
      "text/plain": [
       "<IPython.core.display.HTML object>"
      ]
     },
     "metadata": {},
     "output_type": "display_data"
    },
    {
     "data": {
      "text/html": [
       "Run data is saved locally in <code>y:\\coskun-lab\\Thomas\\23_PLA_revision\\notebooks\\wandb\\run-20240118_221452-jzqgw2ip</code>"
      ],
      "text/plain": [
       "<IPython.core.display.HTML object>"
      ]
     },
     "metadata": {},
     "output_type": "display_data"
    },
    {
     "data": {
      "text/html": [
       "Syncing run <strong><a href='https://wandb.ai/thoomas/PLA_01182024_13PPI_3D_Kfold/runs/jzqgw2ip' target=\"_blank\">GAT_norm_3_64_onehot_2</a></strong> to <a href='https://wandb.ai/thoomas/PLA_01182024_13PPI_3D_Kfold' target=\"_blank\">Weights & Biases</a> (<a href='https://wandb.me/run' target=\"_blank\">docs</a>)<br/>"
      ],
      "text/plain": [
       "<IPython.core.display.HTML object>"
      ]
     },
     "metadata": {},
     "output_type": "display_data"
    },
    {
     "data": {
      "text/html": [
       " View project at <a href='https://wandb.ai/thoomas/PLA_01182024_13PPI_3D_Kfold' target=\"_blank\">https://wandb.ai/thoomas/PLA_01182024_13PPI_3D_Kfold</a>"
      ],
      "text/plain": [
       "<IPython.core.display.HTML object>"
      ]
     },
     "metadata": {},
     "output_type": "display_data"
    },
    {
     "data": {
      "text/html": [
       " View run at <a href='https://wandb.ai/thoomas/PLA_01182024_13PPI_3D_Kfold/runs/jzqgw2ip' target=\"_blank\">https://wandb.ai/thoomas/PLA_01182024_13PPI_3D_Kfold/runs/jzqgw2ip</a>"
      ],
      "text/plain": [
       "<IPython.core.display.HTML object>"
      ]
     },
     "metadata": {},
     "output_type": "display_data"
    },
    {
     "name": "stderr",
     "output_type": "stream",
     "text": [
      "Global seed set to 42\n",
      "GPU available: True (cuda), used: True\n",
      "TPU available: False, using: 0 TPU cores\n",
      "IPU available: False, using: 0 IPUs\n",
      "HPU available: False, using: 0 HPUs\n",
      "Global seed set to 42\n",
      "c:\\Users\\thu71\\AppData\\Local\\anaconda3\\envs\\scanpy\\Lib\\site-packages\\lightning\\pytorch\\callbacks\\model_checkpoint.py:617: UserWarning: Checkpoint directory \\\\bme-retromaster.ad.gatech.edu\\labs5\\coskun-lab\\Thomas\\23_PLA_revision\\data\\13cyc_3D\\saved_models_v2\\13PPI_3D\\Graph_GNNs_Kfold\\GAT_norm_3_64_onehot_2\\attention\\GraphLevelGAT_norm exists and is not empty.\n",
      "  rank_zero_warn(f\"Checkpoint directory {dirpath} exists and is not empty.\")\n",
      "LOCAL_RANK: 0 - CUDA_VISIBLE_DEVICES: [0]\n",
      "\n",
      "   | Name        | Type             | Params\n",
      "--------------------------------------------------\n",
      "0  | x_embedding | Identity         | 0     \n",
      "1  | model       | GAT              | 79.0 K\n",
      "2  | head        | Sequential       | 2.1 K \n",
      "3  | loss_module | CrossEntropyLoss | 0     \n",
      "4  | train_acc   | BinaryAccuracy   | 0     \n",
      "5  | train_auroc | BinaryAUROC      | 0     \n",
      "6  | train_f1    | BinaryF1Score    | 0     \n",
      "7  | valid_acc   | BinaryAccuracy   | 0     \n",
      "8  | valid_auroc | BinaryAUROC      | 0     \n",
      "9  | valid_f1    | BinaryF1Score    | 0     \n",
      "10 | pool        | GlobalAttention  | 65    \n",
      "--------------------------------------------------\n",
      "81.3 K    Trainable params\n",
      "0         Non-trainable params\n",
      "81.3 K    Total params\n",
      "0.325     Total estimated model params size (MB)\n"
     ]
    },
    {
     "name": "stdout",
     "output_type": "stream",
     "text": [
      "Using GAT\n"
     ]
    },
    {
     "name": "stderr",
     "output_type": "stream",
     "text": [
      "`Trainer.fit` stopped: `max_epochs=80` reached.\n"
     ]
    },
    {
     "data": {
      "text/html": [
       "Waiting for W&B process to finish... <strong style=\"color:green\">(success).</strong>"
      ],
      "text/plain": [
       "<IPython.core.display.HTML object>"
      ]
     },
     "metadata": {},
     "output_type": "display_data"
    },
    {
     "data": {
      "application/vnd.jupyter.widget-view+json": {
       "model_id": "5e609588424946c984776943eb018548",
       "version_major": 2,
       "version_minor": 0
      },
      "text/plain": [
       "VBox(children=(Label(value='0.001 MB of 0.001 MB uploaded (0.000 MB deduped)\\r'), FloatProgress(value=1.0, max…"
      ]
     },
     "metadata": {},
     "output_type": "display_data"
    },
    {
     "data": {
      "text/html": [
       "<style>\n",
       "    table.wandb td:nth-child(1) { padding: 0 10px; text-align: left ; width: auto;} td:nth-child(2) {text-align: left ; width: 100%}\n",
       "    .wandb-row { display: flex; flex-direction: row; flex-wrap: wrap; justify-content: flex-start; width: 100% }\n",
       "    .wandb-col { display: flex; flex-direction: column; flex-basis: 100%; flex: 1; padding: 10px; }\n",
       "    </style>\n",
       "<div class=\"wandb-row\"><div class=\"wandb-col\"><h3>Run history:</h3><br/><table class=\"wandb\"><tr><td>epoch</td><td>▁▁▁▂▂▂▂▂▂▃▃▃▃▃▄▄▄▄▄▄▅▅▅▅▅▅▆▆▆▆▆▇▇▇▇▇▇███</td></tr><tr><td>lr-Adam</td><td>▁▁▁▁▁▁▁▁▁▁▁▁▁▁▁▁▁▁▁▁▁▁▁▁▁▁▁▁▁▁▁▁▁▁▁▁▁▁▁▁</td></tr><tr><td>train_acc</td><td>▁▆▇▇█▇▇▇▇▇▇▇▇▇▇█▇▇█▇█▇██▇█▇█▇█▇█████▇███</td></tr><tr><td>train_auc</td><td>▁▆▆▇▇▇▇▇▇▇▇▇▇▇▇█▇▇▇▇▇▇██████████████████</td></tr><tr><td>train_f1</td><td>▁▆▇▇█▇▇▇▇▇▇▇▇▇██▇▇███▇██▇▇▇█▇███████▇███</td></tr><tr><td>train_loss_epoch</td><td>█▃▃▃▂▃▂▂▃▂▂▂▂▂▂▂▂▂▂▂▂▂▂▁▂▂▂▂▂▂▂▁▁▂▂▁▁▁▁▁</td></tr><tr><td>train_loss_step</td><td>█▄█▅▃▂▂▂▃▄▅▄▅▃▃▄▃▅▄▃▂▂▅▂▂▃▆▃▄▃▂▁▅▃▄▂▄▄▃▁</td></tr><tr><td>trainer/global_step</td><td>▁▁▁▁▁▁▁▂▂▃▃▃▂▂▂▂▂▄▄▄▅▅▂▂▂▂▂▆▆▆▆▆▃▃▃▃▃███</td></tr><tr><td>val_acc</td><td>▁▇█████▇▇███▇█▆████▇███▇▇▇▇▇██▇█▇▇▇█▇▇█▇</td></tr><tr><td>val_auc</td><td>▁▄▇▅▇▇█▅▆▇▇▇▇▇▄▆▅▆▆█▇▇▇▅▇▇▄▆█▇▅▄▅▇▆▇▅▅▇▆</td></tr><tr><td>val_f1</td><td>▁▆█▇███▇▇▇█▇▇█▆█▇▇▇██▇█▇██▆▅██▇▇▇▆▇█▇▆▇▇</td></tr><tr><td>val_loss_epoch</td><td>█▃▃▂▂▂▂▂▃▁▂▂▄▁▇▃▂▁▂▂▂▂▁▃▃▂▅▂▃▂▃▃▃▄▃▂▃▅▃▃</td></tr><tr><td>val_loss_step</td><td>▆▄▄▂▁▂▃▂▃▂▃▃▅▂▇▄▃▁▃▁▃▂▂▄▂▂█▃▄▄▂▄▅▃▃▄▃▆▄▃</td></tr></table><br/></div><div class=\"wandb-col\"><h3>Run summary:</h3><br/><table class=\"wandb\"><tr><td>epoch</td><td>79</td></tr><tr><td>lr-Adam</td><td>0.005</td></tr><tr><td>train_acc</td><td>0.81533</td></tr><tr><td>train_auc</td><td>0.89561</td></tr><tr><td>train_f1</td><td>0.80395</td></tr><tr><td>train_loss_epoch</td><td>0.40664</td></tr><tr><td>train_loss_step</td><td>0.34493</td></tr><tr><td>trainer/global_step</td><td>1119</td></tr><tr><td>val_acc</td><td>0.77262</td></tr><tr><td>val_auc</td><td>0.86482</td></tr><tr><td>val_f1</td><td>0.77523</td></tr><tr><td>val_loss_epoch</td><td>0.50005</td></tr><tr><td>val_loss_step</td><td>0.46465</td></tr></table><br/></div></div>"
      ],
      "text/plain": [
       "<IPython.core.display.HTML object>"
      ]
     },
     "metadata": {},
     "output_type": "display_data"
    },
    {
     "data": {
      "text/html": [
       " View run <strong style=\"color:#cdcd00\">GAT_norm_3_64_onehot_2</strong> at: <a href='https://wandb.ai/thoomas/PLA_01182024_13PPI_3D_Kfold/runs/jzqgw2ip' target=\"_blank\">https://wandb.ai/thoomas/PLA_01182024_13PPI_3D_Kfold/runs/jzqgw2ip</a><br/>Synced 6 W&B file(s), 0 media file(s), 0 artifact file(s) and 0 other file(s)"
      ],
      "text/plain": [
       "<IPython.core.display.HTML object>"
      ]
     },
     "metadata": {},
     "output_type": "display_data"
    },
    {
     "data": {
      "text/html": [
       "Find logs at: <code>.\\wandb\\run-20240118_221452-jzqgw2ip\\logs</code>"
      ],
      "text/plain": [
       "<IPython.core.display.HTML object>"
      ]
     },
     "metadata": {},
     "output_type": "display_data"
    },
    {
     "data": {
      "text/html": [
       "wandb version 0.16.2 is available!  To upgrade, please run:\n",
       " $ pip install wandb --upgrade"
      ],
      "text/plain": [
       "<IPython.core.display.HTML object>"
      ]
     },
     "metadata": {},
     "output_type": "display_data"
    },
    {
     "data": {
      "text/html": [
       "Tracking run with wandb version 0.15.8"
      ],
      "text/plain": [
       "<IPython.core.display.HTML object>"
      ]
     },
     "metadata": {},
     "output_type": "display_data"
    },
    {
     "data": {
      "text/html": [
       "Run data is saved locally in <code>y:\\coskun-lab\\Thomas\\23_PLA_revision\\notebooks\\wandb\\run-20240118_223921-ty3ygd4f</code>"
      ],
      "text/plain": [
       "<IPython.core.display.HTML object>"
      ]
     },
     "metadata": {},
     "output_type": "display_data"
    },
    {
     "data": {
      "text/html": [
       "Syncing run <strong><a href='https://wandb.ai/thoomas/PLA_01182024_13PPI_3D_Kfold/runs/ty3ygd4f' target=\"_blank\">GINConv_norm_3_16_onehot_2</a></strong> to <a href='https://wandb.ai/thoomas/PLA_01182024_13PPI_3D_Kfold' target=\"_blank\">Weights & Biases</a> (<a href='https://wandb.me/run' target=\"_blank\">docs</a>)<br/>"
      ],
      "text/plain": [
       "<IPython.core.display.HTML object>"
      ]
     },
     "metadata": {},
     "output_type": "display_data"
    },
    {
     "data": {
      "text/html": [
       " View project at <a href='https://wandb.ai/thoomas/PLA_01182024_13PPI_3D_Kfold' target=\"_blank\">https://wandb.ai/thoomas/PLA_01182024_13PPI_3D_Kfold</a>"
      ],
      "text/plain": [
       "<IPython.core.display.HTML object>"
      ]
     },
     "metadata": {},
     "output_type": "display_data"
    },
    {
     "data": {
      "text/html": [
       " View run at <a href='https://wandb.ai/thoomas/PLA_01182024_13PPI_3D_Kfold/runs/ty3ygd4f' target=\"_blank\">https://wandb.ai/thoomas/PLA_01182024_13PPI_3D_Kfold/runs/ty3ygd4f</a>"
      ],
      "text/plain": [
       "<IPython.core.display.HTML object>"
      ]
     },
     "metadata": {},
     "output_type": "display_data"
    },
    {
     "name": "stderr",
     "output_type": "stream",
     "text": [
      "Global seed set to 42\n",
      "GPU available: True (cuda), used: True\n",
      "TPU available: False, using: 0 TPU cores\n",
      "IPU available: False, using: 0 IPUs\n",
      "HPU available: False, using: 0 HPUs\n",
      "Global seed set to 42\n",
      "c:\\Users\\thu71\\AppData\\Local\\anaconda3\\envs\\scanpy\\Lib\\site-packages\\lightning\\pytorch\\callbacks\\model_checkpoint.py:617: UserWarning: Checkpoint directory \\\\bme-retromaster.ad.gatech.edu\\labs5\\coskun-lab\\Thomas\\23_PLA_revision\\data\\13cyc_3D\\saved_models_v2\\13PPI_3D\\Graph_GNNs_Kfold\\GINConv_norm_3_16_onehot_2\\mean\\GraphLevelGINConv_norm exists and is not empty.\n",
      "  rank_zero_warn(f\"Checkpoint directory {dirpath} exists and is not empty.\")\n",
      "LOCAL_RANK: 0 - CUDA_VISIBLE_DEVICES: [0]\n",
      "\n",
      "  | Name        | Type             | Params\n",
      "-------------------------------------------------\n",
      "0 | x_embedding | Identity         | 0     \n",
      "1 | model       | GIN              | 1.7 K \n",
      "2 | head        | Sequential       | 154   \n",
      "3 | loss_module | CrossEntropyLoss | 0     \n",
      "4 | train_acc   | BinaryAccuracy   | 0     \n",
      "5 | train_auroc | BinaryAUROC      | 0     \n",
      "6 | train_f1    | BinaryF1Score    | 0     \n",
      "7 | valid_acc   | BinaryAccuracy   | 0     \n",
      "8 | valid_auroc | BinaryAUROC      | 0     \n",
      "9 | valid_f1    | BinaryF1Score    | 0     \n",
      "-------------------------------------------------\n",
      "1.9 K     Trainable params\n",
      "0         Non-trainable params\n",
      "1.9 K     Total params\n",
      "0.008     Total estimated model params size (MB)\n"
     ]
    },
    {
     "name": "stdout",
     "output_type": "stream",
     "text": [
      "GINConv\n"
     ]
    },
    {
     "name": "stderr",
     "output_type": "stream",
     "text": [
      "`Trainer.fit` stopped: `max_epochs=80` reached.\n"
     ]
    },
    {
     "data": {
      "text/html": [
       "Waiting for W&B process to finish... <strong style=\"color:green\">(success).</strong>"
      ],
      "text/plain": [
       "<IPython.core.display.HTML object>"
      ]
     },
     "metadata": {},
     "output_type": "display_data"
    },
    {
     "data": {
      "text/html": [
       "<style>\n",
       "    table.wandb td:nth-child(1) { padding: 0 10px; text-align: left ; width: auto;} td:nth-child(2) {text-align: left ; width: 100%}\n",
       "    .wandb-row { display: flex; flex-direction: row; flex-wrap: wrap; justify-content: flex-start; width: 100% }\n",
       "    .wandb-col { display: flex; flex-direction: column; flex-basis: 100%; flex: 1; padding: 10px; }\n",
       "    </style>\n",
       "<div class=\"wandb-row\"><div class=\"wandb-col\"><h3>Run history:</h3><br/><table class=\"wandb\"><tr><td>epoch</td><td>▁▁▁▂▂▂▂▂▂▃▃▃▃▃▄▄▄▄▄▄▅▅▅▅▅▅▆▆▆▆▆▇▇▇▇▇▇███</td></tr><tr><td>lr-Adam</td><td>▁▁▁▁▁▁▁▁▁▁▁▁▁▁▁▁▁▁▁▁▁▁▁▁▁▁▁▁▁▁▁▁▁▁▁▁▁▁▁▁</td></tr><tr><td>train_acc</td><td>▁▅▆▆▆▆▇▇▇▇▇▇▇▇▇▇▇▇▇▇▇▇▇▇▇▇▇▇▇▇▇██▇▇█████</td></tr><tr><td>train_auc</td><td>▁▅▆▆▆▆▇▇▇▇▇▇▇▇▇▇▇▇▇▇█▇█▇▇▇▇▇██████▇█████</td></tr><tr><td>train_f1</td><td>▁▆▆▆▆▆▇▇▇▇▇▇▇▇▇▇▇▇▇▇▇▇▇█▇▇█▇██████▇█████</td></tr><tr><td>train_loss_epoch</td><td>█▅▅▄▄▄▃▃▃▃▃▃▃▃▂▃▃▃▂▂▂▂▂▂▂▂▂▂▂▂▂▂▁▁▂▂▁▁▂▁</td></tr><tr><td>train_loss_step</td><td>█▅▅▄▄▆▃▅▄▆▄▄▃▅▃▃▄▁▃▂▂▁▂▃▂▅▃▁▃▃▃▄▃▂▃▂▃▃▃▁</td></tr><tr><td>trainer/global_step</td><td>▁▁▁▁▁▁▁▂▂▃▃▃▂▂▂▂▂▄▄▄▅▅▂▂▂▂▂▆▆▆▆▆▃▃▃▃▃███</td></tr><tr><td>val_acc</td><td>▁▃▅▅▆▆▆▆▆▇▆▆▇▇▇█▇█▇▆▇▆▅▇▆▇▇▇▇▇▇▆▇▇▆▆▆▆▆▇</td></tr><tr><td>val_auc</td><td>▁▄▅▆▆▆▆▇▇██▆█▇▇█▇▇█▆▇▆▅▇▇█▇▇▆▇▆▇▇█▇▇▆▇▇▆</td></tr><tr><td>val_f1</td><td>▃▄▅▆▆▅▆▇▅▇▆▆▅█▇▇█▇▅▄▆▅▁▇▄▆▆▇▆▆▇▅▇▇▅▅▅▅▅▅</td></tr><tr><td>val_loss_epoch</td><td>█▆▃▃▃▃▂▂▂▂▁▄▃▃▂▁▄▃▂▅▄▃▄▂▁▃▂▄▃▄▄▁▄▂▂▃▆▂▄▃</td></tr><tr><td>val_loss_step</td><td>▇█▄▇▆▇▄▄▅▄▃▆▇▄▂▃█▅▃▅▇▄▄▅▂▅▂▇▄█▅▂▃▄▂▁▅▂▅▅</td></tr></table><br/></div><div class=\"wandb-col\"><h3>Run summary:</h3><br/><table class=\"wandb\"><tr><td>epoch</td><td>79</td></tr><tr><td>lr-Adam</td><td>0.005</td></tr><tr><td>train_acc</td><td>0.86934</td></tr><tr><td>train_auc</td><td>0.93722</td></tr><tr><td>train_f1</td><td>0.85804</td></tr><tr><td>train_loss_epoch</td><td>0.33016</td></tr><tr><td>train_loss_step</td><td>0.27129</td></tr><tr><td>trainer/global_step</td><td>1119</td></tr><tr><td>val_acc</td><td>0.80974</td></tr><tr><td>val_auc</td><td>0.87874</td></tr><tr><td>val_f1</td><td>0.77222</td></tr><tr><td>val_loss_epoch</td><td>0.46145</td></tr><tr><td>val_loss_step</td><td>0.42706</td></tr></table><br/></div></div>"
      ],
      "text/plain": [
       "<IPython.core.display.HTML object>"
      ]
     },
     "metadata": {},
     "output_type": "display_data"
    },
    {
     "data": {
      "text/html": [
       " View run <strong style=\"color:#cdcd00\">GINConv_norm_3_16_onehot_2</strong> at: <a href='https://wandb.ai/thoomas/PLA_01182024_13PPI_3D_Kfold/runs/ty3ygd4f' target=\"_blank\">https://wandb.ai/thoomas/PLA_01182024_13PPI_3D_Kfold/runs/ty3ygd4f</a><br/>Synced 6 W&B file(s), 0 media file(s), 0 artifact file(s) and 0 other file(s)"
      ],
      "text/plain": [
       "<IPython.core.display.HTML object>"
      ]
     },
     "metadata": {},
     "output_type": "display_data"
    },
    {
     "data": {
      "text/html": [
       "Find logs at: <code>.\\wandb\\run-20240118_223921-ty3ygd4f\\logs</code>"
      ],
      "text/plain": [
       "<IPython.core.display.HTML object>"
      ]
     },
     "metadata": {},
     "output_type": "display_data"
    },
    {
     "data": {
      "text/html": [
       "wandb version 0.16.2 is available!  To upgrade, please run:\n",
       " $ pip install wandb --upgrade"
      ],
      "text/plain": [
       "<IPython.core.display.HTML object>"
      ]
     },
     "metadata": {},
     "output_type": "display_data"
    },
    {
     "data": {
      "text/html": [
       "Tracking run with wandb version 0.15.8"
      ],
      "text/plain": [
       "<IPython.core.display.HTML object>"
      ]
     },
     "metadata": {},
     "output_type": "display_data"
    },
    {
     "data": {
      "text/html": [
       "Run data is saved locally in <code>y:\\coskun-lab\\Thomas\\23_PLA_revision\\notebooks\\wandb\\run-20240118_230559-v1z3vfv4</code>"
      ],
      "text/plain": [
       "<IPython.core.display.HTML object>"
      ]
     },
     "metadata": {},
     "output_type": "display_data"
    },
    {
     "data": {
      "text/html": [
       "Syncing run <strong><a href='https://wandb.ai/thoomas/PLA_01182024_13PPI_3D_Kfold/runs/v1z3vfv4' target=\"_blank\">MLP_2_64_onehot_3</a></strong> to <a href='https://wandb.ai/thoomas/PLA_01182024_13PPI_3D_Kfold' target=\"_blank\">Weights & Biases</a> (<a href='https://wandb.me/run' target=\"_blank\">docs</a>)<br/>"
      ],
      "text/plain": [
       "<IPython.core.display.HTML object>"
      ]
     },
     "metadata": {},
     "output_type": "display_data"
    },
    {
     "data": {
      "text/html": [
       " View project at <a href='https://wandb.ai/thoomas/PLA_01182024_13PPI_3D_Kfold' target=\"_blank\">https://wandb.ai/thoomas/PLA_01182024_13PPI_3D_Kfold</a>"
      ],
      "text/plain": [
       "<IPython.core.display.HTML object>"
      ]
     },
     "metadata": {},
     "output_type": "display_data"
    },
    {
     "data": {
      "text/html": [
       " View run at <a href='https://wandb.ai/thoomas/PLA_01182024_13PPI_3D_Kfold/runs/v1z3vfv4' target=\"_blank\">https://wandb.ai/thoomas/PLA_01182024_13PPI_3D_Kfold/runs/v1z3vfv4</a>"
      ],
      "text/plain": [
       "<IPython.core.display.HTML object>"
      ]
     },
     "metadata": {},
     "output_type": "display_data"
    },
    {
     "name": "stderr",
     "output_type": "stream",
     "text": [
      "Global seed set to 42\n",
      "GPU available: True (cuda), used: True\n",
      "TPU available: False, using: 0 TPU cores\n",
      "IPU available: False, using: 0 IPUs\n",
      "HPU available: False, using: 0 HPUs\n",
      "Global seed set to 42\n",
      "c:\\Users\\thu71\\AppData\\Local\\anaconda3\\envs\\scanpy\\Lib\\site-packages\\lightning\\pytorch\\callbacks\\model_checkpoint.py:617: UserWarning: Checkpoint directory \\\\bme-retromaster.ad.gatech.edu\\labs5\\coskun-lab\\Thomas\\23_PLA_revision\\data\\13cyc_3D\\saved_models_v2\\13PPI_3D\\Graph_GNNs_Kfold\\MLP_2_64_onehot_3\\attention\\GraphLevelMLP exists and is not empty.\n",
      "  rank_zero_warn(f\"Checkpoint directory {dirpath} exists and is not empty.\")\n",
      "LOCAL_RANK: 0 - CUDA_VISIBLE_DEVICES: [0]\n",
      "\n",
      "   | Name        | Type             | Params\n",
      "--------------------------------------------------\n",
      "0  | x_embedding | Identity         | 0     \n",
      "1  | model       | MLPModel         | 5.1 K \n",
      "2  | head        | Sequential       | 2.1 K \n",
      "3  | loss_module | CrossEntropyLoss | 0     \n",
      "4  | train_acc   | BinaryAccuracy   | 0     \n",
      "5  | train_auroc | BinaryAUROC      | 0     \n",
      "6  | train_f1    | BinaryF1Score    | 0     \n",
      "7  | valid_acc   | BinaryAccuracy   | 0     \n",
      "8  | valid_auroc | BinaryAUROC      | 0     \n",
      "9  | valid_f1    | BinaryF1Score    | 0     \n",
      "10 | pool        | GlobalAttention  | 65    \n",
      "--------------------------------------------------\n",
      "7.3 K     Trainable params\n",
      "0         Non-trainable params\n",
      "7.3 K     Total params\n",
      "0.029     Total estimated model params size (MB)\n"
     ]
    },
    {
     "name": "stdout",
     "output_type": "stream",
     "text": [
      "Using MLP\n"
     ]
    },
    {
     "name": "stderr",
     "output_type": "stream",
     "text": [
      "`Trainer.fit` stopped: `max_epochs=80` reached.\n"
     ]
    },
    {
     "data": {
      "text/html": [
       "Waiting for W&B process to finish... <strong style=\"color:green\">(success).</strong>"
      ],
      "text/plain": [
       "<IPython.core.display.HTML object>"
      ]
     },
     "metadata": {},
     "output_type": "display_data"
    },
    {
     "data": {
      "text/html": [
       "<style>\n",
       "    table.wandb td:nth-child(1) { padding: 0 10px; text-align: left ; width: auto;} td:nth-child(2) {text-align: left ; width: 100%}\n",
       "    .wandb-row { display: flex; flex-direction: row; flex-wrap: wrap; justify-content: flex-start; width: 100% }\n",
       "    .wandb-col { display: flex; flex-direction: column; flex-basis: 100%; flex: 1; padding: 10px; }\n",
       "    </style>\n",
       "<div class=\"wandb-row\"><div class=\"wandb-col\"><h3>Run history:</h3><br/><table class=\"wandb\"><tr><td>epoch</td><td>▁▁▁▂▂▂▂▂▂▃▃▃▃▃▄▄▄▄▄▄▅▅▅▅▅▅▆▆▆▆▆▇▇▇▇▇▇███</td></tr><tr><td>lr-Adam</td><td>▁▁▁▁▁▁▁▁▁▁▁▁▁▁▁▁▁▁▁▁▁▁▁▁▁▁▁▁▁▁▁▁▁▁▁▁▁▁▁▁</td></tr><tr><td>train_acc</td><td>▁▆▆▇▇▇▇▇███▇██▇▇▇▇▇▇█▇▇▇███▇█▇▇█▇█████▇▇</td></tr><tr><td>train_auc</td><td>▁▆▇█▇██████████████████▇████████████████</td></tr><tr><td>train_f1</td><td>▁▆▇▇▇▇█▇███████▇█▇▇▇██▇▇██████████████▇█</td></tr><tr><td>train_loss_epoch</td><td>█▄▃▂▂▂▂▂▁▂▁▂▂▂▂▁▁▂▂▂▁▂▂▂▁▁▁▂▂▁▁▁▂▁▁▁▁▁▂▂</td></tr><tr><td>train_loss_step</td><td>█▆▅▂▄▄▃▃▃▄▄▄▅▂▄▄▃▃▃▅▃▃▃▅▄▄▆▃▄▄▅▅▁▄▄▃▄▅▂▃</td></tr><tr><td>trainer/global_step</td><td>▁▁▁▁▁▁▁▂▂▃▃▃▂▂▂▂▂▄▄▄▅▅▂▂▂▂▂▆▆▆▆▆▃▃▃▃▃███</td></tr><tr><td>val_acc</td><td>▁▅██████████████▇██████████████▇████████</td></tr><tr><td>val_auc</td><td>▁▆▇█████████████████████████████████████</td></tr><tr><td>val_f1</td><td>▅▁█▇▇█▇▇▇█▇▇▇▇▇█▆█▇█▇██▇█▇▇▇▇▇█▇▇▇▇██▇█▇</td></tr><tr><td>val_loss_epoch</td><td>█▆▂▁▂▂▁▂▂▂▂▂▁▁▁▂▂▁▂▂▁▂▂▂▁▂▂▂▂▁▂▁▂▂▁▂▁▂▂▂</td></tr><tr><td>val_loss_step</td><td>█▆▃▂▃▃▁▄▂▆▂▃▂▂▂▃▂▂▃▃▂▃▃▄▂▂▁▄▄▂▃▁▃▅▃▄▁▄▂▄</td></tr></table><br/></div><div class=\"wandb-col\"><h3>Run summary:</h3><br/><table class=\"wandb\"><tr><td>epoch</td><td>79</td></tr><tr><td>lr-Adam</td><td>0.005</td></tr><tr><td>train_acc</td><td>0.76262</td></tr><tr><td>train_auc</td><td>0.8332</td></tr><tr><td>train_f1</td><td>0.74065</td></tr><tr><td>train_loss_epoch</td><td>0.50431</td></tr><tr><td>train_loss_step</td><td>0.48357</td></tr><tr><td>trainer/global_step</td><td>1119</td></tr><tr><td>val_acc</td><td>0.7907</td></tr><tr><td>val_auc</td><td>0.89433</td></tr><tr><td>val_f1</td><td>0.75806</td></tr><tr><td>val_loss_epoch</td><td>0.42648</td></tr><tr><td>val_loss_step</td><td>0.47098</td></tr></table><br/></div></div>"
      ],
      "text/plain": [
       "<IPython.core.display.HTML object>"
      ]
     },
     "metadata": {},
     "output_type": "display_data"
    },
    {
     "data": {
      "text/html": [
       " View run <strong style=\"color:#cdcd00\">MLP_2_64_onehot_3</strong> at: <a href='https://wandb.ai/thoomas/PLA_01182024_13PPI_3D_Kfold/runs/v1z3vfv4' target=\"_blank\">https://wandb.ai/thoomas/PLA_01182024_13PPI_3D_Kfold/runs/v1z3vfv4</a><br/>Synced 6 W&B file(s), 0 media file(s), 0 artifact file(s) and 0 other file(s)"
      ],
      "text/plain": [
       "<IPython.core.display.HTML object>"
      ]
     },
     "metadata": {},
     "output_type": "display_data"
    },
    {
     "data": {
      "text/html": [
       "Find logs at: <code>.\\wandb\\run-20240118_230559-v1z3vfv4\\logs</code>"
      ],
      "text/plain": [
       "<IPython.core.display.HTML object>"
      ]
     },
     "metadata": {},
     "output_type": "display_data"
    },
    {
     "data": {
      "application/vnd.jupyter.widget-view+json": {
       "model_id": "3fce35cd25374d779df6af93a5995b24",
       "version_major": 2,
       "version_minor": 0
      },
      "text/plain": [
       "VBox(children=(Label(value='Waiting for wandb.init()...\\r'), FloatProgress(value=0.016666666666666666, max=1.0…"
      ]
     },
     "metadata": {},
     "output_type": "display_data"
    },
    {
     "data": {
      "text/html": [
       "wandb version 0.16.2 is available!  To upgrade, please run:\n",
       " $ pip install wandb --upgrade"
      ],
      "text/plain": [
       "<IPython.core.display.HTML object>"
      ]
     },
     "metadata": {},
     "output_type": "display_data"
    },
    {
     "data": {
      "text/html": [
       "Tracking run with wandb version 0.15.8"
      ],
      "text/plain": [
       "<IPython.core.display.HTML object>"
      ]
     },
     "metadata": {},
     "output_type": "display_data"
    },
    {
     "data": {
      "text/html": [
       "Run data is saved locally in <code>y:\\coskun-lab\\Thomas\\23_PLA_revision\\notebooks\\wandb\\run-20240118_232956-ptrdir90</code>"
      ],
      "text/plain": [
       "<IPython.core.display.HTML object>"
      ]
     },
     "metadata": {},
     "output_type": "display_data"
    },
    {
     "data": {
      "text/html": [
       "Syncing run <strong><a href='https://wandb.ai/thoomas/PLA_01182024_13PPI_3D_Kfold/runs/ptrdir90' target=\"_blank\">GraphConv_2_16_onehot_3</a></strong> to <a href='https://wandb.ai/thoomas/PLA_01182024_13PPI_3D_Kfold' target=\"_blank\">Weights & Biases</a> (<a href='https://wandb.me/run' target=\"_blank\">docs</a>)<br/>"
      ],
      "text/plain": [
       "<IPython.core.display.HTML object>"
      ]
     },
     "metadata": {},
     "output_type": "display_data"
    },
    {
     "data": {
      "text/html": [
       " View project at <a href='https://wandb.ai/thoomas/PLA_01182024_13PPI_3D_Kfold' target=\"_blank\">https://wandb.ai/thoomas/PLA_01182024_13PPI_3D_Kfold</a>"
      ],
      "text/plain": [
       "<IPython.core.display.HTML object>"
      ]
     },
     "metadata": {},
     "output_type": "display_data"
    },
    {
     "data": {
      "text/html": [
       " View run at <a href='https://wandb.ai/thoomas/PLA_01182024_13PPI_3D_Kfold/runs/ptrdir90' target=\"_blank\">https://wandb.ai/thoomas/PLA_01182024_13PPI_3D_Kfold/runs/ptrdir90</a>"
      ],
      "text/plain": [
       "<IPython.core.display.HTML object>"
      ]
     },
     "metadata": {},
     "output_type": "display_data"
    },
    {
     "name": "stderr",
     "output_type": "stream",
     "text": [
      "Global seed set to 42\n",
      "GPU available: True (cuda), used: True\n",
      "TPU available: False, using: 0 TPU cores\n",
      "IPU available: False, using: 0 IPUs\n",
      "HPU available: False, using: 0 HPUs\n",
      "Global seed set to 42\n",
      "c:\\Users\\thu71\\AppData\\Local\\anaconda3\\envs\\scanpy\\Lib\\site-packages\\lightning\\pytorch\\callbacks\\model_checkpoint.py:617: UserWarning: Checkpoint directory \\\\bme-retromaster.ad.gatech.edu\\labs5\\coskun-lab\\Thomas\\23_PLA_revision\\data\\13cyc_3D\\saved_models_v2\\13PPI_3D\\Graph_GNNs_Kfold\\GraphConv_2_16_onehot_3\\attention\\GraphLevelGraphConv exists and is not empty.\n",
      "  rank_zero_warn(f\"Checkpoint directory {dirpath} exists and is not empty.\")\n",
      "LOCAL_RANK: 0 - CUDA_VISIBLE_DEVICES: [0]\n",
      "\n",
      "   | Name        | Type             | Params\n",
      "--------------------------------------------------\n",
      "0  | x_embedding | Identity         | 0     \n",
      "1  | model       | GNNModel         | 992   \n",
      "2  | head        | Sequential       | 154   \n",
      "3  | loss_module | CrossEntropyLoss | 0     \n",
      "4  | train_acc   | BinaryAccuracy   | 0     \n",
      "5  | train_auroc | BinaryAUROC      | 0     \n",
      "6  | train_f1    | BinaryF1Score    | 0     \n",
      "7  | valid_acc   | BinaryAccuracy   | 0     \n",
      "8  | valid_auroc | BinaryAUROC      | 0     \n",
      "9  | valid_f1    | BinaryF1Score    | 0     \n",
      "10 | pool        | GlobalAttention  | 17    \n",
      "--------------------------------------------------\n",
      "1.2 K     Trainable params\n",
      "0         Non-trainable params\n",
      "1.2 K     Total params\n",
      "0.005     Total estimated model params size (MB)\n"
     ]
    },
    {
     "name": "stdout",
     "output_type": "stream",
     "text": [
      "Using GNN\n"
     ]
    },
    {
     "name": "stderr",
     "output_type": "stream",
     "text": [
      "`Trainer.fit` stopped: `max_epochs=80` reached.\n"
     ]
    },
    {
     "data": {
      "text/html": [
       "Waiting for W&B process to finish... <strong style=\"color:green\">(success).</strong>"
      ],
      "text/plain": [
       "<IPython.core.display.HTML object>"
      ]
     },
     "metadata": {},
     "output_type": "display_data"
    },
    {
     "data": {
      "text/html": [
       "<style>\n",
       "    table.wandb td:nth-child(1) { padding: 0 10px; text-align: left ; width: auto;} td:nth-child(2) {text-align: left ; width: 100%}\n",
       "    .wandb-row { display: flex; flex-direction: row; flex-wrap: wrap; justify-content: flex-start; width: 100% }\n",
       "    .wandb-col { display: flex; flex-direction: column; flex-basis: 100%; flex: 1; padding: 10px; }\n",
       "    </style>\n",
       "<div class=\"wandb-row\"><div class=\"wandb-col\"><h3>Run history:</h3><br/><table class=\"wandb\"><tr><td>epoch</td><td>▁▁▁▂▂▂▂▂▂▃▃▃▃▃▄▄▄▄▄▄▅▅▅▅▅▅▆▆▆▆▆▇▇▇▇▇▇███</td></tr><tr><td>lr-Adam</td><td>▁▁▁▁▁▁▁▁▁▁▁▁▁▁▁▁▁▁▁▁▁▁▁▁▁▁▁▁▁▁▁▁▁▁▁▁▁▁▁▁</td></tr><tr><td>train_acc</td><td>▁▅▆▇▇▇▇▇▇▇▇▇▇▇▇▇▇██▇██▇█▇▇▇████████████▇</td></tr><tr><td>train_auc</td><td>▁▅▆▇▇▇▇▇▇▇█▇▇▇████████▇██▇██████████████</td></tr><tr><td>train_f1</td><td>▁▄▅▆▆▆▆▆▆▆▇▇▇▇▇▇▇▇▇▇▇▇▇▇▇▆▇▇▇▇██████▇██▇</td></tr><tr><td>train_loss_epoch</td><td>█▅▄▃▃▃▃▃▃▂▂▂▂▂▂▂▂▂▂▂▂▂▂▂▂▂▂▂▂▂▂▁▁▁▁▁▁▁▁▂</td></tr><tr><td>train_loss_step</td><td>█▇█▄▅▅▃▃▂▄▃▃▄▃▃▂▃▂▃▂▂▃▃▃▁▅▂▄▂▄▄▂▂▁▃▂▁▂▃▂</td></tr><tr><td>trainer/global_step</td><td>▁▁▁▁▁▁▁▂▂▃▃▃▂▂▂▂▂▄▄▄▅▅▂▂▂▂▂▆▆▆▆▆▃▃▃▃▃███</td></tr><tr><td>val_acc</td><td>▁▇▇█████████▇█████████▇█▇█▇█████▇███▇▇▇█</td></tr><tr><td>val_auc</td><td>▁▇▇▇████████████████████████████████████</td></tr><tr><td>val_f1</td><td>▁▆▄▆▇▇▇▇▇▆▇█▆█▇▇▇█▇▇▇█▅▇▄█▆▇█▇▇▆▇▇▇▇▆▆▆▇</td></tr><tr><td>val_loss_epoch</td><td>█▅▄▂▂▂▂▂▂▁▁▂▂▂▁▁▁▁▁▁▂▂▂▂▃▂▂▂▂▂▁▂▂▁▁▁▂▃▂▂</td></tr><tr><td>val_loss_step</td><td>█▆▅▃▄▃▂▃▄▂▂▃▃▂▂▂▁▃▃▂▄▃▂▄▃▃▃▃▄▃▁▃▄▂▂▁▃▆▂▂</td></tr></table><br/></div><div class=\"wandb-col\"><h3>Run summary:</h3><br/><table class=\"wandb\"><tr><td>epoch</td><td>79</td></tr><tr><td>lr-Adam</td><td>0.005</td></tr><tr><td>train_acc</td><td>0.82356</td></tr><tr><td>train_auc</td><td>0.89187</td></tr><tr><td>train_f1</td><td>0.80412</td></tr><tr><td>train_loss_epoch</td><td>0.41454</td></tr><tr><td>train_loss_step</td><td>0.36769</td></tr><tr><td>trainer/global_step</td><td>1119</td></tr><tr><td>val_acc</td><td>0.82791</td></tr><tr><td>val_auc</td><td>0.91836</td></tr><tr><td>val_f1</td><td>0.8287</td></tr><tr><td>val_loss_epoch</td><td>0.37768</td></tr><tr><td>val_loss_step</td><td>0.29889</td></tr></table><br/></div></div>"
      ],
      "text/plain": [
       "<IPython.core.display.HTML object>"
      ]
     },
     "metadata": {},
     "output_type": "display_data"
    },
    {
     "data": {
      "text/html": [
       " View run <strong style=\"color:#cdcd00\">GraphConv_2_16_onehot_3</strong> at: <a href='https://wandb.ai/thoomas/PLA_01182024_13PPI_3D_Kfold/runs/ptrdir90' target=\"_blank\">https://wandb.ai/thoomas/PLA_01182024_13PPI_3D_Kfold/runs/ptrdir90</a><br/>Synced 6 W&B file(s), 0 media file(s), 0 artifact file(s) and 0 other file(s)"
      ],
      "text/plain": [
       "<IPython.core.display.HTML object>"
      ]
     },
     "metadata": {},
     "output_type": "display_data"
    },
    {
     "data": {
      "text/html": [
       "Find logs at: <code>.\\wandb\\run-20240118_232956-ptrdir90\\logs</code>"
      ],
      "text/plain": [
       "<IPython.core.display.HTML object>"
      ]
     },
     "metadata": {},
     "output_type": "display_data"
    },
    {
     "data": {
      "text/html": [
       "wandb version 0.16.2 is available!  To upgrade, please run:\n",
       " $ pip install wandb --upgrade"
      ],
      "text/plain": [
       "<IPython.core.display.HTML object>"
      ]
     },
     "metadata": {},
     "output_type": "display_data"
    },
    {
     "data": {
      "text/html": [
       "Tracking run with wandb version 0.15.8"
      ],
      "text/plain": [
       "<IPython.core.display.HTML object>"
      ]
     },
     "metadata": {},
     "output_type": "display_data"
    },
    {
     "data": {
      "text/html": [
       "Run data is saved locally in <code>y:\\coskun-lab\\Thomas\\23_PLA_revision\\notebooks\\wandb\\run-20240118_235401-0v48zggd</code>"
      ],
      "text/plain": [
       "<IPython.core.display.HTML object>"
      ]
     },
     "metadata": {},
     "output_type": "display_data"
    },
    {
     "data": {
      "text/html": [
       "Syncing run <strong><a href='https://wandb.ai/thoomas/PLA_01182024_13PPI_3D_Kfold/runs/0v48zggd' target=\"_blank\">GCN_2_64_onehot_3</a></strong> to <a href='https://wandb.ai/thoomas/PLA_01182024_13PPI_3D_Kfold' target=\"_blank\">Weights & Biases</a> (<a href='https://wandb.me/run' target=\"_blank\">docs</a>)<br/>"
      ],
      "text/plain": [
       "<IPython.core.display.HTML object>"
      ]
     },
     "metadata": {},
     "output_type": "display_data"
    },
    {
     "data": {
      "text/html": [
       " View project at <a href='https://wandb.ai/thoomas/PLA_01182024_13PPI_3D_Kfold' target=\"_blank\">https://wandb.ai/thoomas/PLA_01182024_13PPI_3D_Kfold</a>"
      ],
      "text/plain": [
       "<IPython.core.display.HTML object>"
      ]
     },
     "metadata": {},
     "output_type": "display_data"
    },
    {
     "data": {
      "text/html": [
       " View run at <a href='https://wandb.ai/thoomas/PLA_01182024_13PPI_3D_Kfold/runs/0v48zggd' target=\"_blank\">https://wandb.ai/thoomas/PLA_01182024_13PPI_3D_Kfold/runs/0v48zggd</a>"
      ],
      "text/plain": [
       "<IPython.core.display.HTML object>"
      ]
     },
     "metadata": {},
     "output_type": "display_data"
    },
    {
     "name": "stderr",
     "output_type": "stream",
     "text": [
      "Global seed set to 42\n",
      "GPU available: True (cuda), used: True\n",
      "TPU available: False, using: 0 TPU cores\n",
      "IPU available: False, using: 0 IPUs\n",
      "HPU available: False, using: 0 HPUs\n",
      "Global seed set to 42\n",
      "c:\\Users\\thu71\\AppData\\Local\\anaconda3\\envs\\scanpy\\Lib\\site-packages\\lightning\\pytorch\\callbacks\\model_checkpoint.py:617: UserWarning: Checkpoint directory \\\\bme-retromaster.ad.gatech.edu\\labs5\\coskun-lab\\Thomas\\23_PLA_revision\\data\\13cyc_3D\\saved_models_v2\\13PPI_3D\\Graph_GNNs_Kfold\\GCN_2_64_onehot_3\\attention2\\GraphLevelGCN exists and is not empty.\n",
      "  rank_zero_warn(f\"Checkpoint directory {dirpath} exists and is not empty.\")\n",
      "LOCAL_RANK: 0 - CUDA_VISIBLE_DEVICES: [0]\n",
      "\n",
      "   | Name        | Type             | Params\n",
      "--------------------------------------------------\n",
      "0  | x_embedding | Identity         | 0     \n",
      "1  | model       | GNNModel         | 5.2 K \n",
      "2  | head        | Sequential       | 2.1 K \n",
      "3  | loss_module | CrossEntropyLoss | 0     \n",
      "4  | train_acc   | BinaryAccuracy   | 0     \n",
      "5  | train_auroc | BinaryAUROC      | 0     \n",
      "6  | train_f1    | BinaryF1Score    | 0     \n",
      "7  | valid_acc   | BinaryAccuracy   | 0     \n",
      "8  | valid_auroc | BinaryAUROC      | 0     \n",
      "9  | valid_f1    | BinaryF1Score    | 0     \n",
      "10 | pool        | Attention_module | 4.2 K \n",
      "--------------------------------------------------\n",
      "11.5 K    Trainable params\n",
      "0         Non-trainable params\n",
      "11.5 K    Total params\n",
      "0.046     Total estimated model params size (MB)\n"
     ]
    },
    {
     "name": "stdout",
     "output_type": "stream",
     "text": [
      "Using GNN\n"
     ]
    },
    {
     "name": "stderr",
     "output_type": "stream",
     "text": [
      "`Trainer.fit` stopped: `max_epochs=80` reached.\n"
     ]
    },
    {
     "data": {
      "text/html": [
       "Waiting for W&B process to finish... <strong style=\"color:green\">(success).</strong>"
      ],
      "text/plain": [
       "<IPython.core.display.HTML object>"
      ]
     },
     "metadata": {},
     "output_type": "display_data"
    },
    {
     "data": {
      "text/html": [
       "<style>\n",
       "    table.wandb td:nth-child(1) { padding: 0 10px; text-align: left ; width: auto;} td:nth-child(2) {text-align: left ; width: 100%}\n",
       "    .wandb-row { display: flex; flex-direction: row; flex-wrap: wrap; justify-content: flex-start; width: 100% }\n",
       "    .wandb-col { display: flex; flex-direction: column; flex-basis: 100%; flex: 1; padding: 10px; }\n",
       "    </style>\n",
       "<div class=\"wandb-row\"><div class=\"wandb-col\"><h3>Run history:</h3><br/><table class=\"wandb\"><tr><td>epoch</td><td>▁▁▁▂▂▂▂▂▂▃▃▃▃▃▄▄▄▄▄▄▅▅▅▅▅▅▆▆▆▆▆▇▇▇▇▇▇███</td></tr><tr><td>lr-Adam</td><td>▁▁▁▁▁▁▁▁▁▁▁▁▁▁▁▁▁▁▁▁▁▁▁▁▁▁▁▁▁▁▁▁▁▁▁▁▁▁▁▁</td></tr><tr><td>train_acc</td><td>▁▆▆▆▇▇▇▇▆▇▇▇▇▅▇▇▇▇▇▇▇▇▇▇▇▇█▇▇▇█▇██▇▇▇▇█▇</td></tr><tr><td>train_auc</td><td>▁▆▆▆▇▇▇▇▇▇▇▇▇▆▇▇▇█▇▇▇▇▇▇█▇██▇▇█████▇████</td></tr><tr><td>train_f1</td><td>▁▆▆▆▇▇▇▇▆▇▇▇▇▆▇▇█▇▇▇█▇▇▇█▇█▇█▇█████▇████</td></tr><tr><td>train_loss_epoch</td><td>█▄▄▄▃▃▂▃▃▂▃▃▂▃▂▂▃▂▂▂▂▂▂▂▂▂▁▂▂▂▁▂▁▁▁▂▂▂▁▁</td></tr><tr><td>train_loss_step</td><td>█▇▆▃▄▄▄▅▄▆▃▅▄▃▆▄▃▂▄▁▄▆▃▄▃▃▃▄▄▃▁▃▃▂▃▂▅▃▅▃</td></tr><tr><td>trainer/global_step</td><td>▁▁▁▁▁▁▁▂▂▃▃▃▂▂▂▂▂▄▄▄▅▅▂▂▂▂▂▆▆▆▆▆▃▃▃▃▃███</td></tr><tr><td>val_acc</td><td>▁▆▇▇███▇▇▇███▇█▆▇▆██▇██▆██████▇███▇▇▇▇▇▇</td></tr><tr><td>val_auc</td><td>▁▃▆▆▆▆▇▅▇▆█▇█▅▆▆▇▃█▇▅▆▇▇█▇▇▆▇▄█▆▆▇▆▄▃▇▅█</td></tr><tr><td>val_f1</td><td>▁▇▇▇█████▇█████▇▇▇██▇█████████████▇██▇██</td></tr><tr><td>val_loss_epoch</td><td>█▄▂▂▂▂▂▂▁▂▂▁▁▂▂▃▂▃▁▂▃▁▂▄▁▂▂▂▂▂▂▁▁▁▂▁▃▂▃▂</td></tr><tr><td>val_loss_step</td><td>█▄▄▃▃▃▃▃▂▂▄▁▃▄▃▃▄▅▂▃▃▂▃▇▂▃▃▄▅▃▃▂▃▂▃▁▅▃▆▃</td></tr></table><br/></div><div class=\"wandb-col\"><h3>Run summary:</h3><br/><table class=\"wandb\"><tr><td>epoch</td><td>79</td></tr><tr><td>lr-Adam</td><td>0.005</td></tr><tr><td>train_acc</td><td>0.82182</td></tr><tr><td>train_auc</td><td>0.89821</td></tr><tr><td>train_f1</td><td>0.80181</td></tr><tr><td>train_loss_epoch</td><td>0.40522</td></tr><tr><td>train_loss_step</td><td>0.39302</td></tr><tr><td>trainer/global_step</td><td>1119</td></tr><tr><td>val_acc</td><td>0.81628</td></tr><tr><td>val_auc</td><td>0.92899</td></tr><tr><td>val_f1</td><td>0.82327</td></tr><tr><td>val_loss_epoch</td><td>0.38369</td></tr><tr><td>val_loss_step</td><td>0.34904</td></tr></table><br/></div></div>"
      ],
      "text/plain": [
       "<IPython.core.display.HTML object>"
      ]
     },
     "metadata": {},
     "output_type": "display_data"
    },
    {
     "data": {
      "text/html": [
       " View run <strong style=\"color:#cdcd00\">GCN_2_64_onehot_3</strong> at: <a href='https://wandb.ai/thoomas/PLA_01182024_13PPI_3D_Kfold/runs/0v48zggd' target=\"_blank\">https://wandb.ai/thoomas/PLA_01182024_13PPI_3D_Kfold/runs/0v48zggd</a><br/>Synced 6 W&B file(s), 0 media file(s), 0 artifact file(s) and 0 other file(s)"
      ],
      "text/plain": [
       "<IPython.core.display.HTML object>"
      ]
     },
     "metadata": {},
     "output_type": "display_data"
    },
    {
     "data": {
      "text/html": [
       "Find logs at: <code>.\\wandb\\run-20240118_235401-0v48zggd\\logs</code>"
      ],
      "text/plain": [
       "<IPython.core.display.HTML object>"
      ]
     },
     "metadata": {},
     "output_type": "display_data"
    },
    {
     "data": {
      "text/html": [
       "wandb version 0.16.2 is available!  To upgrade, please run:\n",
       " $ pip install wandb --upgrade"
      ],
      "text/plain": [
       "<IPython.core.display.HTML object>"
      ]
     },
     "metadata": {},
     "output_type": "display_data"
    },
    {
     "data": {
      "text/html": [
       "Tracking run with wandb version 0.15.8"
      ],
      "text/plain": [
       "<IPython.core.display.HTML object>"
      ]
     },
     "metadata": {},
     "output_type": "display_data"
    },
    {
     "data": {
      "text/html": [
       "Run data is saved locally in <code>y:\\coskun-lab\\Thomas\\23_PLA_revision\\notebooks\\wandb\\run-20240119_001932-2txjpov7</code>"
      ],
      "text/plain": [
       "<IPython.core.display.HTML object>"
      ]
     },
     "metadata": {},
     "output_type": "display_data"
    },
    {
     "data": {
      "text/html": [
       "Syncing run <strong><a href='https://wandb.ai/thoomas/PLA_01182024_13PPI_3D_Kfold/runs/2txjpov7' target=\"_blank\">GAT_norm_3_64_onehot_3</a></strong> to <a href='https://wandb.ai/thoomas/PLA_01182024_13PPI_3D_Kfold' target=\"_blank\">Weights & Biases</a> (<a href='https://wandb.me/run' target=\"_blank\">docs</a>)<br/>"
      ],
      "text/plain": [
       "<IPython.core.display.HTML object>"
      ]
     },
     "metadata": {},
     "output_type": "display_data"
    },
    {
     "data": {
      "text/html": [
       " View project at <a href='https://wandb.ai/thoomas/PLA_01182024_13PPI_3D_Kfold' target=\"_blank\">https://wandb.ai/thoomas/PLA_01182024_13PPI_3D_Kfold</a>"
      ],
      "text/plain": [
       "<IPython.core.display.HTML object>"
      ]
     },
     "metadata": {},
     "output_type": "display_data"
    },
    {
     "data": {
      "text/html": [
       " View run at <a href='https://wandb.ai/thoomas/PLA_01182024_13PPI_3D_Kfold/runs/2txjpov7' target=\"_blank\">https://wandb.ai/thoomas/PLA_01182024_13PPI_3D_Kfold/runs/2txjpov7</a>"
      ],
      "text/plain": [
       "<IPython.core.display.HTML object>"
      ]
     },
     "metadata": {},
     "output_type": "display_data"
    },
    {
     "name": "stderr",
     "output_type": "stream",
     "text": [
      "Global seed set to 42\n",
      "GPU available: True (cuda), used: True\n",
      "TPU available: False, using: 0 TPU cores\n",
      "IPU available: False, using: 0 IPUs\n",
      "HPU available: False, using: 0 HPUs\n",
      "Global seed set to 42\n",
      "c:\\Users\\thu71\\AppData\\Local\\anaconda3\\envs\\scanpy\\Lib\\site-packages\\lightning\\pytorch\\callbacks\\model_checkpoint.py:617: UserWarning: Checkpoint directory \\\\bme-retromaster.ad.gatech.edu\\labs5\\coskun-lab\\Thomas\\23_PLA_revision\\data\\13cyc_3D\\saved_models_v2\\13PPI_3D\\Graph_GNNs_Kfold\\GAT_norm_3_64_onehot_3\\attention\\GraphLevelGAT_norm exists and is not empty.\n",
      "  rank_zero_warn(f\"Checkpoint directory {dirpath} exists and is not empty.\")\n",
      "LOCAL_RANK: 0 - CUDA_VISIBLE_DEVICES: [0]\n",
      "\n",
      "   | Name        | Type             | Params\n",
      "--------------------------------------------------\n",
      "0  | x_embedding | Identity         | 0     \n",
      "1  | model       | GAT              | 79.0 K\n",
      "2  | head        | Sequential       | 2.1 K \n",
      "3  | loss_module | CrossEntropyLoss | 0     \n",
      "4  | train_acc   | BinaryAccuracy   | 0     \n",
      "5  | train_auroc | BinaryAUROC      | 0     \n",
      "6  | train_f1    | BinaryF1Score    | 0     \n",
      "7  | valid_acc   | BinaryAccuracy   | 0     \n",
      "8  | valid_auroc | BinaryAUROC      | 0     \n",
      "9  | valid_f1    | BinaryF1Score    | 0     \n",
      "10 | pool        | GlobalAttention  | 65    \n",
      "--------------------------------------------------\n",
      "81.3 K    Trainable params\n",
      "0         Non-trainable params\n",
      "81.3 K    Total params\n",
      "0.325     Total estimated model params size (MB)\n"
     ]
    },
    {
     "name": "stdout",
     "output_type": "stream",
     "text": [
      "Using GAT\n"
     ]
    },
    {
     "name": "stderr",
     "output_type": "stream",
     "text": [
      "`Trainer.fit` stopped: `max_epochs=80` reached.\n"
     ]
    },
    {
     "data": {
      "text/html": [
       "Waiting for W&B process to finish... <strong style=\"color:green\">(success).</strong>"
      ],
      "text/plain": [
       "<IPython.core.display.HTML object>"
      ]
     },
     "metadata": {},
     "output_type": "display_data"
    },
    {
     "data": {
      "application/vnd.jupyter.widget-view+json": {
       "model_id": "03a3b305c9d849eca6a53b80128ebc4a",
       "version_major": 2,
       "version_minor": 0
      },
      "text/plain": [
       "VBox(children=(Label(value='0.001 MB of 0.001 MB uploaded (0.000 MB deduped)\\r'), FloatProgress(value=1.0, max…"
      ]
     },
     "metadata": {},
     "output_type": "display_data"
    },
    {
     "data": {
      "text/html": [
       "<style>\n",
       "    table.wandb td:nth-child(1) { padding: 0 10px; text-align: left ; width: auto;} td:nth-child(2) {text-align: left ; width: 100%}\n",
       "    .wandb-row { display: flex; flex-direction: row; flex-wrap: wrap; justify-content: flex-start; width: 100% }\n",
       "    .wandb-col { display: flex; flex-direction: column; flex-basis: 100%; flex: 1; padding: 10px; }\n",
       "    </style>\n",
       "<div class=\"wandb-row\"><div class=\"wandb-col\"><h3>Run history:</h3><br/><table class=\"wandb\"><tr><td>epoch</td><td>▁▁▁▂▂▂▂▂▂▃▃▃▃▃▄▄▄▄▄▄▅▅▅▅▅▅▆▆▆▆▆▇▇▇▇▇▇███</td></tr><tr><td>lr-Adam</td><td>▁▁▁▁▁▁▁▁▁▁▁▁▁▁▁▁▁▁▁▁▁▁▁▁▁▁▁▁▁▁▁▁▁▁▁▁▁▁▁▁</td></tr><tr><td>train_acc</td><td>▁▆▆▇▆▇▇▇▇▇▇▇▇▇▇▇▇▇█▇▇▇██▇▆▇██▇▇██▇█▇▇█▇▇</td></tr><tr><td>train_auc</td><td>▁▅▆▇▆▇▆▇▇▇▇█▇▇▇▇▇██▇▇▇▇▇▇▇█████████▇██▇▇</td></tr><tr><td>train_f1</td><td>▁▆▆▆▆▇▇▇▇▇▇▇▇▇▇▇▇▇█▇▇▇▇█▇▅▇██▇▇▇█▇█▇▇█▇▇</td></tr><tr><td>train_loss_epoch</td><td>█▄▄▂▃▂▃▂▃▂▂▂▂▂▂▂▂▂▂▂▁▂▂▁▂▂▁▁▁▂▁▂▁▁▁▂▁▁▂▂</td></tr><tr><td>train_loss_step</td><td>█▂▄▄▄▃▄▃▃▂▄▄▆▃▄▁▄▄▃▅▂▃▅▃▃▄▅█▄▂▄▅▅▄▃▁▁▁▄▄</td></tr><tr><td>trainer/global_step</td><td>▁▁▁▁▁▁▁▂▂▃▃▃▂▂▂▂▂▄▄▄▅▅▂▂▂▂▂▆▆▆▆▆▃▃▃▃▃███</td></tr><tr><td>val_acc</td><td>▆▆█▇▄▅▅▆▁▆▆▇▇█▆▆▄▄▃▃▆█▃▅▇▄▇▆▇▅▆▃▅▅▇▃▄█▇▇</td></tr><tr><td>val_auc</td><td>▇████▇▇█▇▇▄▅▆▇▅▆▃▄▃▂▄█▆▂▃▆▄▄▃▃▃▅▃▄▁▃▄▅▁▄</td></tr><tr><td>val_f1</td><td>▁▆█▇▅▆▆▆▄▇▆▆▇█▇▇▅▆▆▅▇█▅▆▇▆▇▆▆▆▅▅▆▆▆▅▆▆▆▆</td></tr><tr><td>val_loss_epoch</td><td>▆▃▁▂▂▃▂▂█▂▂▂▁▁▁▂▂▃▄▅▂▁▄▂▂▃▂▂▂▃▂▅▂▃▃▃▄▁▂▂</td></tr><tr><td>val_loss_step</td><td>▅▃▁▄▃▄▃▂█▃▃▄▂▂▁▂▃▄▁▄▁▄▃▂▂▄▃▁▂▃▄▅▃▄▄▃▄▂▃▃</td></tr></table><br/></div><div class=\"wandb-col\"><h3>Run summary:</h3><br/><table class=\"wandb\"><tr><td>epoch</td><td>79</td></tr><tr><td>lr-Adam</td><td>0.005</td></tr><tr><td>train_acc</td><td>0.80093</td></tr><tr><td>train_auc</td><td>0.87413</td></tr><tr><td>train_f1</td><td>0.78996</td></tr><tr><td>train_loss_epoch</td><td>0.4448</td></tr><tr><td>train_loss_step</td><td>0.44794</td></tr><tr><td>trainer/global_step</td><td>1119</td></tr><tr><td>val_acc</td><td>0.79535</td></tr><tr><td>val_auc</td><td>0.88262</td></tr><tr><td>val_f1</td><td>0.78109</td></tr><tr><td>val_loss_epoch</td><td>0.44497</td></tr><tr><td>val_loss_step</td><td>0.50454</td></tr></table><br/></div></div>"
      ],
      "text/plain": [
       "<IPython.core.display.HTML object>"
      ]
     },
     "metadata": {},
     "output_type": "display_data"
    },
    {
     "data": {
      "text/html": [
       " View run <strong style=\"color:#cdcd00\">GAT_norm_3_64_onehot_3</strong> at: <a href='https://wandb.ai/thoomas/PLA_01182024_13PPI_3D_Kfold/runs/2txjpov7' target=\"_blank\">https://wandb.ai/thoomas/PLA_01182024_13PPI_3D_Kfold/runs/2txjpov7</a><br/>Synced 6 W&B file(s), 0 media file(s), 0 artifact file(s) and 0 other file(s)"
      ],
      "text/plain": [
       "<IPython.core.display.HTML object>"
      ]
     },
     "metadata": {},
     "output_type": "display_data"
    },
    {
     "data": {
      "text/html": [
       "Find logs at: <code>.\\wandb\\run-20240119_001932-2txjpov7\\logs</code>"
      ],
      "text/plain": [
       "<IPython.core.display.HTML object>"
      ]
     },
     "metadata": {},
     "output_type": "display_data"
    },
    {
     "data": {
      "text/html": [
       "wandb version 0.16.2 is available!  To upgrade, please run:\n",
       " $ pip install wandb --upgrade"
      ],
      "text/plain": [
       "<IPython.core.display.HTML object>"
      ]
     },
     "metadata": {},
     "output_type": "display_data"
    },
    {
     "data": {
      "text/html": [
       "Tracking run with wandb version 0.15.8"
      ],
      "text/plain": [
       "<IPython.core.display.HTML object>"
      ]
     },
     "metadata": {},
     "output_type": "display_data"
    },
    {
     "data": {
      "text/html": [
       "Run data is saved locally in <code>y:\\coskun-lab\\Thomas\\23_PLA_revision\\notebooks\\wandb\\run-20240119_004431-1gjigwgo</code>"
      ],
      "text/plain": [
       "<IPython.core.display.HTML object>"
      ]
     },
     "metadata": {},
     "output_type": "display_data"
    },
    {
     "data": {
      "text/html": [
       "Syncing run <strong><a href='https://wandb.ai/thoomas/PLA_01182024_13PPI_3D_Kfold/runs/1gjigwgo' target=\"_blank\">GINConv_norm_3_16_onehot_3</a></strong> to <a href='https://wandb.ai/thoomas/PLA_01182024_13PPI_3D_Kfold' target=\"_blank\">Weights & Biases</a> (<a href='https://wandb.me/run' target=\"_blank\">docs</a>)<br/>"
      ],
      "text/plain": [
       "<IPython.core.display.HTML object>"
      ]
     },
     "metadata": {},
     "output_type": "display_data"
    },
    {
     "data": {
      "text/html": [
       " View project at <a href='https://wandb.ai/thoomas/PLA_01182024_13PPI_3D_Kfold' target=\"_blank\">https://wandb.ai/thoomas/PLA_01182024_13PPI_3D_Kfold</a>"
      ],
      "text/plain": [
       "<IPython.core.display.HTML object>"
      ]
     },
     "metadata": {},
     "output_type": "display_data"
    },
    {
     "data": {
      "text/html": [
       " View run at <a href='https://wandb.ai/thoomas/PLA_01182024_13PPI_3D_Kfold/runs/1gjigwgo' target=\"_blank\">https://wandb.ai/thoomas/PLA_01182024_13PPI_3D_Kfold/runs/1gjigwgo</a>"
      ],
      "text/plain": [
       "<IPython.core.display.HTML object>"
      ]
     },
     "metadata": {},
     "output_type": "display_data"
    },
    {
     "name": "stderr",
     "output_type": "stream",
     "text": [
      "Global seed set to 42\n",
      "GPU available: True (cuda), used: True\n",
      "TPU available: False, using: 0 TPU cores\n",
      "IPU available: False, using: 0 IPUs\n",
      "HPU available: False, using: 0 HPUs\n",
      "Global seed set to 42\n",
      "c:\\Users\\thu71\\AppData\\Local\\anaconda3\\envs\\scanpy\\Lib\\site-packages\\lightning\\pytorch\\callbacks\\model_checkpoint.py:617: UserWarning: Checkpoint directory \\\\bme-retromaster.ad.gatech.edu\\labs5\\coskun-lab\\Thomas\\23_PLA_revision\\data\\13cyc_3D\\saved_models_v2\\13PPI_3D\\Graph_GNNs_Kfold\\GINConv_norm_3_16_onehot_3\\mean\\GraphLevelGINConv_norm exists and is not empty.\n",
      "  rank_zero_warn(f\"Checkpoint directory {dirpath} exists and is not empty.\")\n",
      "LOCAL_RANK: 0 - CUDA_VISIBLE_DEVICES: [0]\n",
      "\n",
      "  | Name        | Type             | Params\n",
      "-------------------------------------------------\n",
      "0 | x_embedding | Identity         | 0     \n",
      "1 | model       | GIN              | 1.7 K \n",
      "2 | head        | Sequential       | 154   \n",
      "3 | loss_module | CrossEntropyLoss | 0     \n",
      "4 | train_acc   | BinaryAccuracy   | 0     \n",
      "5 | train_auroc | BinaryAUROC      | 0     \n",
      "6 | train_f1    | BinaryF1Score    | 0     \n",
      "7 | valid_acc   | BinaryAccuracy   | 0     \n",
      "8 | valid_auroc | BinaryAUROC      | 0     \n",
      "9 | valid_f1    | BinaryF1Score    | 0     \n",
      "-------------------------------------------------\n",
      "1.9 K     Trainable params\n",
      "0         Non-trainable params\n",
      "1.9 K     Total params\n",
      "0.008     Total estimated model params size (MB)\n"
     ]
    },
    {
     "name": "stdout",
     "output_type": "stream",
     "text": [
      "GINConv\n"
     ]
    },
    {
     "name": "stderr",
     "output_type": "stream",
     "text": [
      "`Trainer.fit` stopped: `max_epochs=80` reached.\n"
     ]
    },
    {
     "data": {
      "text/html": [
       "Waiting for W&B process to finish... <strong style=\"color:green\">(success).</strong>"
      ],
      "text/plain": [
       "<IPython.core.display.HTML object>"
      ]
     },
     "metadata": {},
     "output_type": "display_data"
    },
    {
     "data": {
      "text/html": [
       "<style>\n",
       "    table.wandb td:nth-child(1) { padding: 0 10px; text-align: left ; width: auto;} td:nth-child(2) {text-align: left ; width: 100%}\n",
       "    .wandb-row { display: flex; flex-direction: row; flex-wrap: wrap; justify-content: flex-start; width: 100% }\n",
       "    .wandb-col { display: flex; flex-direction: column; flex-basis: 100%; flex: 1; padding: 10px; }\n",
       "    </style>\n",
       "<div class=\"wandb-row\"><div class=\"wandb-col\"><h3>Run history:</h3><br/><table class=\"wandb\"><tr><td>epoch</td><td>▁▁▁▂▂▂▂▂▂▃▃▃▃▃▄▄▄▄▄▄▅▅▅▅▅▅▆▆▆▆▆▇▇▇▇▇▇███</td></tr><tr><td>lr-Adam</td><td>▁▁▁▁▁▁▁▁▁▁▁▁▁▁▁▁▁▁▁▁▁▁▁▁▁▁▁▁▁▁▁▁▁▁▁▁▁▁▁▁</td></tr><tr><td>train_acc</td><td>▁▅▆▇▇▆▇▇▇▇▇▇▇█▇▇▇█▇▇███▇██▇██████▇██████</td></tr><tr><td>train_auc</td><td>▁▅▆▇▇▇▇▇▇▇▇▇▇▇▇▇██▇█████████████████████</td></tr><tr><td>train_f1</td><td>▁▆▇▇▇▇▇▇▇▇▇▇███▇██▇█████████████████████</td></tr><tr><td>train_loss_epoch</td><td>█▅▄▃▃▃▃▃▂▃▂▃▃▂▂▂▂▂▂▂▂▂▂▂▂▂▁▂▂▁▂▁▁▁▁▁▂▁▁▁</td></tr><tr><td>train_loss_step</td><td>█▆▅▅▆▆▄▅▆▅▄▄▄▅▅▆▄▅▇▅▄▅▆▃▄▁▂▄▄█▄▄▇▄▅▃▅▄▃▁</td></tr><tr><td>trainer/global_step</td><td>▁▁▁▁▁▁▁▂▂▃▃▃▂▂▂▂▂▄▄▄▅▅▂▂▂▂▂▆▆▆▆▆▃▃▃▃▃███</td></tr><tr><td>val_acc</td><td>▁▁▂▄▄▆▅▄▅▅▄▅▇▆▅▆▆▆▆▆▇▃▄▇▇▆▂▅▆▅▄█▃▆▅▄▅▅▂▄</td></tr><tr><td>val_auc</td><td>▁▄▄▅▅▆▆▆▅▆▇▇▇█▇▇█▇██▇▆▇▇█▆▆█▆▆▇█▆▇▆▆▅▅▆▅</td></tr><tr><td>val_f1</td><td>▁▂▃▃▂▆▄▅▃▅▄▆▆▇▅▆▆▅▆▇▆▃▅▆▇▆▃▆▅▅▅█▃▆▄▅▅▄▃▄</td></tr><tr><td>val_loss_epoch</td><td>█▅▄▃▂▂▂▃▂▂▂▂▂▂▃▂▂▂▁▁▂▃▄▂▁▂▄▂▃▃▃▁▅▂▃▃▂▂▆▃</td></tr><tr><td>val_loss_step</td><td>▆▅▃▃▃▃▃▃▁▄▂▃▃▂▃▃▃▂▂▁▂▃▆▃▂▃▄▃▆▄▄▁█▂▅▃▂▂▆▂</td></tr></table><br/></div><div class=\"wandb-col\"><h3>Run summary:</h3><br/><table class=\"wandb\"><tr><td>epoch</td><td>79</td></tr><tr><td>lr-Adam</td><td>0.005</td></tr><tr><td>train_acc</td><td>0.85142</td></tr><tr><td>train_auc</td><td>0.9162</td></tr><tr><td>train_f1</td><td>0.84</td></tr><tr><td>train_loss_epoch</td><td>0.37029</td></tr><tr><td>train_loss_step</td><td>0.22901</td></tr><tr><td>trainer/global_step</td><td>1119</td></tr><tr><td>val_acc</td><td>0.79767</td></tr><tr><td>val_auc</td><td>0.89832</td></tr><tr><td>val_f1</td><td>0.80182</td></tr><tr><td>val_loss_epoch</td><td>0.41186</td></tr><tr><td>val_loss_step</td><td>0.35095</td></tr></table><br/></div></div>"
      ],
      "text/plain": [
       "<IPython.core.display.HTML object>"
      ]
     },
     "metadata": {},
     "output_type": "display_data"
    },
    {
     "data": {
      "text/html": [
       " View run <strong style=\"color:#cdcd00\">GINConv_norm_3_16_onehot_3</strong> at: <a href='https://wandb.ai/thoomas/PLA_01182024_13PPI_3D_Kfold/runs/1gjigwgo' target=\"_blank\">https://wandb.ai/thoomas/PLA_01182024_13PPI_3D_Kfold/runs/1gjigwgo</a><br/>Synced 6 W&B file(s), 0 media file(s), 0 artifact file(s) and 0 other file(s)"
      ],
      "text/plain": [
       "<IPython.core.display.HTML object>"
      ]
     },
     "metadata": {},
     "output_type": "display_data"
    },
    {
     "data": {
      "text/html": [
       "Find logs at: <code>.\\wandb\\run-20240119_004431-1gjigwgo\\logs</code>"
      ],
      "text/plain": [
       "<IPython.core.display.HTML object>"
      ]
     },
     "metadata": {},
     "output_type": "display_data"
    },
    {
     "data": {
      "text/html": [
       "wandb version 0.16.2 is available!  To upgrade, please run:\n",
       " $ pip install wandb --upgrade"
      ],
      "text/plain": [
       "<IPython.core.display.HTML object>"
      ]
     },
     "metadata": {},
     "output_type": "display_data"
    },
    {
     "data": {
      "text/html": [
       "Tracking run with wandb version 0.15.8"
      ],
      "text/plain": [
       "<IPython.core.display.HTML object>"
      ]
     },
     "metadata": {},
     "output_type": "display_data"
    },
    {
     "data": {
      "text/html": [
       "Run data is saved locally in <code>y:\\coskun-lab\\Thomas\\23_PLA_revision\\notebooks\\wandb\\run-20240119_011026-7up97t2z</code>"
      ],
      "text/plain": [
       "<IPython.core.display.HTML object>"
      ]
     },
     "metadata": {},
     "output_type": "display_data"
    },
    {
     "data": {
      "text/html": [
       "Syncing run <strong><a href='https://wandb.ai/thoomas/PLA_01182024_13PPI_3D_Kfold/runs/7up97t2z' target=\"_blank\">MLP_2_64_onehot_4</a></strong> to <a href='https://wandb.ai/thoomas/PLA_01182024_13PPI_3D_Kfold' target=\"_blank\">Weights & Biases</a> (<a href='https://wandb.me/run' target=\"_blank\">docs</a>)<br/>"
      ],
      "text/plain": [
       "<IPython.core.display.HTML object>"
      ]
     },
     "metadata": {},
     "output_type": "display_data"
    },
    {
     "data": {
      "text/html": [
       " View project at <a href='https://wandb.ai/thoomas/PLA_01182024_13PPI_3D_Kfold' target=\"_blank\">https://wandb.ai/thoomas/PLA_01182024_13PPI_3D_Kfold</a>"
      ],
      "text/plain": [
       "<IPython.core.display.HTML object>"
      ]
     },
     "metadata": {},
     "output_type": "display_data"
    },
    {
     "data": {
      "text/html": [
       " View run at <a href='https://wandb.ai/thoomas/PLA_01182024_13PPI_3D_Kfold/runs/7up97t2z' target=\"_blank\">https://wandb.ai/thoomas/PLA_01182024_13PPI_3D_Kfold/runs/7up97t2z</a>"
      ],
      "text/plain": [
       "<IPython.core.display.HTML object>"
      ]
     },
     "metadata": {},
     "output_type": "display_data"
    },
    {
     "name": "stderr",
     "output_type": "stream",
     "text": [
      "Global seed set to 42\n",
      "GPU available: True (cuda), used: True\n",
      "TPU available: False, using: 0 TPU cores\n",
      "IPU available: False, using: 0 IPUs\n",
      "HPU available: False, using: 0 HPUs\n",
      "Global seed set to 42\n",
      "c:\\Users\\thu71\\AppData\\Local\\anaconda3\\envs\\scanpy\\Lib\\site-packages\\lightning\\pytorch\\callbacks\\model_checkpoint.py:617: UserWarning: Checkpoint directory \\\\bme-retromaster.ad.gatech.edu\\labs5\\coskun-lab\\Thomas\\23_PLA_revision\\data\\13cyc_3D\\saved_models_v2\\13PPI_3D\\Graph_GNNs_Kfold\\MLP_2_64_onehot_4\\attention\\GraphLevelMLP exists and is not empty.\n",
      "  rank_zero_warn(f\"Checkpoint directory {dirpath} exists and is not empty.\")\n",
      "LOCAL_RANK: 0 - CUDA_VISIBLE_DEVICES: [0]\n",
      "\n",
      "   | Name        | Type             | Params\n",
      "--------------------------------------------------\n",
      "0  | x_embedding | Identity         | 0     \n",
      "1  | model       | MLPModel         | 5.1 K \n",
      "2  | head        | Sequential       | 2.1 K \n",
      "3  | loss_module | CrossEntropyLoss | 0     \n",
      "4  | train_acc   | BinaryAccuracy   | 0     \n",
      "5  | train_auroc | BinaryAUROC      | 0     \n",
      "6  | train_f1    | BinaryF1Score    | 0     \n",
      "7  | valid_acc   | BinaryAccuracy   | 0     \n",
      "8  | valid_auroc | BinaryAUROC      | 0     \n",
      "9  | valid_f1    | BinaryF1Score    | 0     \n",
      "10 | pool        | GlobalAttention  | 65    \n",
      "--------------------------------------------------\n",
      "7.3 K     Trainable params\n",
      "0         Non-trainable params\n",
      "7.3 K     Total params\n",
      "0.029     Total estimated model params size (MB)\n"
     ]
    },
    {
     "name": "stdout",
     "output_type": "stream",
     "text": [
      "Using MLP\n"
     ]
    },
    {
     "name": "stderr",
     "output_type": "stream",
     "text": [
      "`Trainer.fit` stopped: `max_epochs=80` reached.\n"
     ]
    },
    {
     "data": {
      "text/html": [
       "Waiting for W&B process to finish... <strong style=\"color:green\">(success).</strong>"
      ],
      "text/plain": [
       "<IPython.core.display.HTML object>"
      ]
     },
     "metadata": {},
     "output_type": "display_data"
    },
    {
     "data": {
      "text/html": [
       "<style>\n",
       "    table.wandb td:nth-child(1) { padding: 0 10px; text-align: left ; width: auto;} td:nth-child(2) {text-align: left ; width: 100%}\n",
       "    .wandb-row { display: flex; flex-direction: row; flex-wrap: wrap; justify-content: flex-start; width: 100% }\n",
       "    .wandb-col { display: flex; flex-direction: column; flex-basis: 100%; flex: 1; padding: 10px; }\n",
       "    </style>\n",
       "<div class=\"wandb-row\"><div class=\"wandb-col\"><h3>Run history:</h3><br/><table class=\"wandb\"><tr><td>epoch</td><td>▁▁▁▂▂▂▂▂▂▃▃▃▃▃▄▄▄▄▄▄▅▅▅▅▅▅▆▆▆▆▆▇▇▇▇▇▇███</td></tr><tr><td>lr-Adam</td><td>▁▁▁▁▁▁▁▁▁▁▁▁▁▁▁▁▁▁▁▁▁▁▁▁▁▁▁▁▁▁▁▁▁▁▁▁▁▁▁▁</td></tr><tr><td>train_acc</td><td>▁▆▇▇██▇█▇▇▇▇▇▇███████▇█▇█████████████▇██</td></tr><tr><td>train_auc</td><td>▁▇█▇█████▇██▇████████▇███████████████▇██</td></tr><tr><td>train_f1</td><td>▁▆█▇█████▇▇█▇▇█████▇█▇███▇███████████▇██</td></tr><tr><td>train_loss_epoch</td><td>█▄▂▂▁▂▁▁▁▂▁▂▂▂▁▁▁▂▁▂▁▃▁▁▁▂▁▁▁▁▁▁▁▁▁▁▁▂▁▁</td></tr><tr><td>train_loss_step</td><td>██▄▃▂▅▃▄▃▅▆▄▄▅▄▃▄▃▃▄▃▆▄▃▂▄▄▅▂▅▃▄▂▁▄▂▃▄▃▂</td></tr><tr><td>trainer/global_step</td><td>▁▁▁▁▁▁▁▂▂▃▃▃▂▂▂▂▂▄▄▄▅▅▂▂▂▂▂▆▆▆▆▆▃▃▃▃▃███</td></tr><tr><td>val_acc</td><td>▁▅▇▇██▇▆▇▇█▆█▇██▆▇▇█▇▇█▇▆▇▇▆▇▇▇▇▇██▆█▆▇▇</td></tr><tr><td>val_auc</td><td>▁▃▅▆▇▇▇█▇████████▇▇▇████████████████████</td></tr><tr><td>val_f1</td><td>▅▁▆▅█▇▅▄▇█▇▂█▅▇▇▄▆▇█▆▆█▅▄▅▅▃▅▅▅▆▆█▇▄▇▄▇▅</td></tr><tr><td>val_loss_epoch</td><td>█▄▂▁▁▂▁▂▂▃▁▃▂▁▂▂▂▂▁▂▂▂▁▁▂▂▁▅▂▁▂▂▂▂▁▂▂▂▂▂</td></tr><tr><td>val_loss_step</td><td>▆▃▅▃▂▅▃▂▅▅▂▄▄▂▄▄▃▅▃▄▄▃▁▃▃▅▂█▃▃▅▄▄▄▃▃▅▂▅▅</td></tr></table><br/></div><div class=\"wandb-col\"><h3>Run summary:</h3><br/><table class=\"wandb\"><tr><td>epoch</td><td>79</td></tr><tr><td>lr-Adam</td><td>0.005</td></tr><tr><td>train_acc</td><td>0.78758</td></tr><tr><td>train_auc</td><td>0.85743</td></tr><tr><td>train_f1</td><td>0.76538</td></tr><tr><td>train_loss_epoch</td><td>0.46692</td></tr><tr><td>train_loss_step</td><td>0.38682</td></tr><tr><td>trainer/global_step</td><td>1119</td></tr><tr><td>val_acc</td><td>0.73721</td></tr><tr><td>val_auc</td><td>0.84396</td></tr><tr><td>val_f1</td><td>0.70027</td></tr><tr><td>val_loss_epoch</td><td>0.5254</td></tr><tr><td>val_loss_step</td><td>0.63103</td></tr></table><br/></div></div>"
      ],
      "text/plain": [
       "<IPython.core.display.HTML object>"
      ]
     },
     "metadata": {},
     "output_type": "display_data"
    },
    {
     "data": {
      "text/html": [
       " View run <strong style=\"color:#cdcd00\">MLP_2_64_onehot_4</strong> at: <a href='https://wandb.ai/thoomas/PLA_01182024_13PPI_3D_Kfold/runs/7up97t2z' target=\"_blank\">https://wandb.ai/thoomas/PLA_01182024_13PPI_3D_Kfold/runs/7up97t2z</a><br/>Synced 6 W&B file(s), 0 media file(s), 0 artifact file(s) and 0 other file(s)"
      ],
      "text/plain": [
       "<IPython.core.display.HTML object>"
      ]
     },
     "metadata": {},
     "output_type": "display_data"
    },
    {
     "data": {
      "text/html": [
       "Find logs at: <code>.\\wandb\\run-20240119_011026-7up97t2z\\logs</code>"
      ],
      "text/plain": [
       "<IPython.core.display.HTML object>"
      ]
     },
     "metadata": {},
     "output_type": "display_data"
    },
    {
     "data": {
      "text/html": [
       "wandb version 0.16.2 is available!  To upgrade, please run:\n",
       " $ pip install wandb --upgrade"
      ],
      "text/plain": [
       "<IPython.core.display.HTML object>"
      ]
     },
     "metadata": {},
     "output_type": "display_data"
    },
    {
     "data": {
      "text/html": [
       "Tracking run with wandb version 0.15.8"
      ],
      "text/plain": [
       "<IPython.core.display.HTML object>"
      ]
     },
     "metadata": {},
     "output_type": "display_data"
    },
    {
     "data": {
      "text/html": [
       "Run data is saved locally in <code>y:\\coskun-lab\\Thomas\\23_PLA_revision\\notebooks\\wandb\\run-20240119_013558-9voip3qb</code>"
      ],
      "text/plain": [
       "<IPython.core.display.HTML object>"
      ]
     },
     "metadata": {},
     "output_type": "display_data"
    },
    {
     "data": {
      "text/html": [
       "Syncing run <strong><a href='https://wandb.ai/thoomas/PLA_01182024_13PPI_3D_Kfold/runs/9voip3qb' target=\"_blank\">GraphConv_2_16_onehot_4</a></strong> to <a href='https://wandb.ai/thoomas/PLA_01182024_13PPI_3D_Kfold' target=\"_blank\">Weights & Biases</a> (<a href='https://wandb.me/run' target=\"_blank\">docs</a>)<br/>"
      ],
      "text/plain": [
       "<IPython.core.display.HTML object>"
      ]
     },
     "metadata": {},
     "output_type": "display_data"
    },
    {
     "data": {
      "text/html": [
       " View project at <a href='https://wandb.ai/thoomas/PLA_01182024_13PPI_3D_Kfold' target=\"_blank\">https://wandb.ai/thoomas/PLA_01182024_13PPI_3D_Kfold</a>"
      ],
      "text/plain": [
       "<IPython.core.display.HTML object>"
      ]
     },
     "metadata": {},
     "output_type": "display_data"
    },
    {
     "data": {
      "text/html": [
       " View run at <a href='https://wandb.ai/thoomas/PLA_01182024_13PPI_3D_Kfold/runs/9voip3qb' target=\"_blank\">https://wandb.ai/thoomas/PLA_01182024_13PPI_3D_Kfold/runs/9voip3qb</a>"
      ],
      "text/plain": [
       "<IPython.core.display.HTML object>"
      ]
     },
     "metadata": {},
     "output_type": "display_data"
    },
    {
     "name": "stderr",
     "output_type": "stream",
     "text": [
      "Global seed set to 42\n",
      "GPU available: True (cuda), used: True\n",
      "TPU available: False, using: 0 TPU cores\n",
      "IPU available: False, using: 0 IPUs\n",
      "HPU available: False, using: 0 HPUs\n",
      "Global seed set to 42\n",
      "c:\\Users\\thu71\\AppData\\Local\\anaconda3\\envs\\scanpy\\Lib\\site-packages\\lightning\\pytorch\\callbacks\\model_checkpoint.py:617: UserWarning: Checkpoint directory \\\\bme-retromaster.ad.gatech.edu\\labs5\\coskun-lab\\Thomas\\23_PLA_revision\\data\\13cyc_3D\\saved_models_v2\\13PPI_3D\\Graph_GNNs_Kfold\\GraphConv_2_16_onehot_4\\attention\\GraphLevelGraphConv exists and is not empty.\n",
      "  rank_zero_warn(f\"Checkpoint directory {dirpath} exists and is not empty.\")\n",
      "LOCAL_RANK: 0 - CUDA_VISIBLE_DEVICES: [0]\n",
      "\n",
      "   | Name        | Type             | Params\n",
      "--------------------------------------------------\n",
      "0  | x_embedding | Identity         | 0     \n",
      "1  | model       | GNNModel         | 992   \n",
      "2  | head        | Sequential       | 154   \n",
      "3  | loss_module | CrossEntropyLoss | 0     \n",
      "4  | train_acc   | BinaryAccuracy   | 0     \n",
      "5  | train_auroc | BinaryAUROC      | 0     \n",
      "6  | train_f1    | BinaryF1Score    | 0     \n",
      "7  | valid_acc   | BinaryAccuracy   | 0     \n",
      "8  | valid_auroc | BinaryAUROC      | 0     \n",
      "9  | valid_f1    | BinaryF1Score    | 0     \n",
      "10 | pool        | GlobalAttention  | 17    \n",
      "--------------------------------------------------\n",
      "1.2 K     Trainable params\n",
      "0         Non-trainable params\n",
      "1.2 K     Total params\n",
      "0.005     Total estimated model params size (MB)\n"
     ]
    },
    {
     "name": "stdout",
     "output_type": "stream",
     "text": [
      "Using GNN\n"
     ]
    },
    {
     "name": "stderr",
     "output_type": "stream",
     "text": [
      "`Trainer.fit` stopped: `max_epochs=80` reached.\n"
     ]
    },
    {
     "data": {
      "text/html": [
       "Waiting for W&B process to finish... <strong style=\"color:green\">(success).</strong>"
      ],
      "text/plain": [
       "<IPython.core.display.HTML object>"
      ]
     },
     "metadata": {},
     "output_type": "display_data"
    },
    {
     "data": {
      "text/html": [
       "<style>\n",
       "    table.wandb td:nth-child(1) { padding: 0 10px; text-align: left ; width: auto;} td:nth-child(2) {text-align: left ; width: 100%}\n",
       "    .wandb-row { display: flex; flex-direction: row; flex-wrap: wrap; justify-content: flex-start; width: 100% }\n",
       "    .wandb-col { display: flex; flex-direction: column; flex-basis: 100%; flex: 1; padding: 10px; }\n",
       "    </style>\n",
       "<div class=\"wandb-row\"><div class=\"wandb-col\"><h3>Run history:</h3><br/><table class=\"wandb\"><tr><td>epoch</td><td>▁▁▁▂▂▂▂▂▂▃▃▃▃▃▄▄▄▄▄▄▅▅▅▅▅▅▆▆▆▆▆▇▇▇▇▇▇███</td></tr><tr><td>lr-Adam</td><td>▁▁▁▁▁▁▁▁▁▁▁▁▁▁▁▁▁▁▁▁▁▁▁▁▁▁▁▁▁▁▁▁▁▁▁▁▁▁▁▁</td></tr><tr><td>train_acc</td><td>▁▅▆▆▇▇▇▇▇▇▇▇▇▇▇▇▇▇▇█▇█▇▇▇█▇██████▇██████</td></tr><tr><td>train_auc</td><td>▁▅▆▆▇▇▇▇▇▇█▇▇▇▇██▇██▇███▇█▇█████████████</td></tr><tr><td>train_f1</td><td>▁▃▅▅▅▆▆▆▆▇▇▇▆▇▇▇▇▇▇▇▇▇▇▇▇▇▆▇███▇█▇▇█▇▇██</td></tr><tr><td>train_loss_epoch</td><td>█▆▄▃▃▃▃▂▃▂▂▂▂▂▂▂▂▂▂▂▂▁▂▂▂▁▂▁▁▁▁▁▁▁▂▁▁▁▁▁</td></tr><tr><td>train_loss_step</td><td>█▅▆▃▄▄▃▄▂▃▂▃▅▃▅▂▃▃▂▃▅▂▃▃▁▃▃▃▃▂▂▂▂▂▂▃▂▃▁▄</td></tr><tr><td>trainer/global_step</td><td>▁▁▁▁▁▁▁▂▂▃▃▃▂▂▂▂▂▄▄▄▅▅▂▂▂▂▂▆▆▆▆▆▃▃▃▃▃███</td></tr><tr><td>val_acc</td><td>▁▆▇█▇▇███████▇███▇▇▇▇█▇▇▇██████▇█▇██▇▇██</td></tr><tr><td>val_auc</td><td>▁▆▇▇████████████████████████████████████</td></tr><tr><td>val_f1</td><td>▁▆▂█▄▃▇██▇██▇▅▇▆█▇▆▅▆█▆▄▂█▇█▇▇▇▆▇▇▆▇▅▅▆█</td></tr><tr><td>val_loss_epoch</td><td>█▅▄▃▃▃▂▂▂▂▂▂▂▂▁▂▂▂▂▂▂▂▁▂▄▃▁▂▂▁▂▂▂▂▂▂▄▃▃▂</td></tr><tr><td>val_loss_step</td><td>█▆▇▅▄▆▅▅▄▄▆▄▃▅▂▄▄▄▄▃▅▄▂▄▄▅▁▅▄▂▃▄▄▅▄▃▇▄▅▄</td></tr></table><br/></div><div class=\"wandb-col\"><h3>Run summary:</h3><br/><table class=\"wandb\"><tr><td>epoch</td><td>79</td></tr><tr><td>lr-Adam</td><td>0.005</td></tr><tr><td>train_acc</td><td>0.85548</td></tr><tr><td>train_auc</td><td>0.91698</td></tr><tr><td>train_f1</td><td>0.83757</td></tr><tr><td>train_loss_epoch</td><td>0.37215</td></tr><tr><td>train_loss_step</td><td>0.49353</td></tr><tr><td>trainer/global_step</td><td>1119</td></tr><tr><td>val_acc</td><td>0.79767</td></tr><tr><td>val_auc</td><td>0.88701</td></tr><tr><td>val_f1</td><td>0.80624</td></tr><tr><td>val_loss_epoch</td><td>0.42802</td></tr><tr><td>val_loss_step</td><td>0.39706</td></tr></table><br/></div></div>"
      ],
      "text/plain": [
       "<IPython.core.display.HTML object>"
      ]
     },
     "metadata": {},
     "output_type": "display_data"
    },
    {
     "data": {
      "text/html": [
       " View run <strong style=\"color:#cdcd00\">GraphConv_2_16_onehot_4</strong> at: <a href='https://wandb.ai/thoomas/PLA_01182024_13PPI_3D_Kfold/runs/9voip3qb' target=\"_blank\">https://wandb.ai/thoomas/PLA_01182024_13PPI_3D_Kfold/runs/9voip3qb</a><br/>Synced 6 W&B file(s), 0 media file(s), 0 artifact file(s) and 0 other file(s)"
      ],
      "text/plain": [
       "<IPython.core.display.HTML object>"
      ]
     },
     "metadata": {},
     "output_type": "display_data"
    },
    {
     "data": {
      "text/html": [
       "Find logs at: <code>.\\wandb\\run-20240119_013558-9voip3qb\\logs</code>"
      ],
      "text/plain": [
       "<IPython.core.display.HTML object>"
      ]
     },
     "metadata": {},
     "output_type": "display_data"
    },
    {
     "data": {
      "application/vnd.jupyter.widget-view+json": {
       "model_id": "6edf847281324d568dd84750a1462820",
       "version_major": 2,
       "version_minor": 0
      },
      "text/plain": [
       "VBox(children=(Label(value='Waiting for wandb.init()...\\r'), FloatProgress(value=0.016666666666666666, max=1.0…"
      ]
     },
     "metadata": {},
     "output_type": "display_data"
    },
    {
     "data": {
      "text/html": [
       "wandb version 0.16.2 is available!  To upgrade, please run:\n",
       " $ pip install wandb --upgrade"
      ],
      "text/plain": [
       "<IPython.core.display.HTML object>"
      ]
     },
     "metadata": {},
     "output_type": "display_data"
    },
    {
     "data": {
      "text/html": [
       "Tracking run with wandb version 0.15.8"
      ],
      "text/plain": [
       "<IPython.core.display.HTML object>"
      ]
     },
     "metadata": {},
     "output_type": "display_data"
    },
    {
     "data": {
      "text/html": [
       "Run data is saved locally in <code>y:\\coskun-lab\\Thomas\\23_PLA_revision\\notebooks\\wandb\\run-20240119_020005-as6m9gcv</code>"
      ],
      "text/plain": [
       "<IPython.core.display.HTML object>"
      ]
     },
     "metadata": {},
     "output_type": "display_data"
    },
    {
     "data": {
      "text/html": [
       "Syncing run <strong><a href='https://wandb.ai/thoomas/PLA_01182024_13PPI_3D_Kfold/runs/as6m9gcv' target=\"_blank\">GCN_2_64_onehot_4</a></strong> to <a href='https://wandb.ai/thoomas/PLA_01182024_13PPI_3D_Kfold' target=\"_blank\">Weights & Biases</a> (<a href='https://wandb.me/run' target=\"_blank\">docs</a>)<br/>"
      ],
      "text/plain": [
       "<IPython.core.display.HTML object>"
      ]
     },
     "metadata": {},
     "output_type": "display_data"
    },
    {
     "data": {
      "text/html": [
       " View project at <a href='https://wandb.ai/thoomas/PLA_01182024_13PPI_3D_Kfold' target=\"_blank\">https://wandb.ai/thoomas/PLA_01182024_13PPI_3D_Kfold</a>"
      ],
      "text/plain": [
       "<IPython.core.display.HTML object>"
      ]
     },
     "metadata": {},
     "output_type": "display_data"
    },
    {
     "data": {
      "text/html": [
       " View run at <a href='https://wandb.ai/thoomas/PLA_01182024_13PPI_3D_Kfold/runs/as6m9gcv' target=\"_blank\">https://wandb.ai/thoomas/PLA_01182024_13PPI_3D_Kfold/runs/as6m9gcv</a>"
      ],
      "text/plain": [
       "<IPython.core.display.HTML object>"
      ]
     },
     "metadata": {},
     "output_type": "display_data"
    },
    {
     "name": "stderr",
     "output_type": "stream",
     "text": [
      "Global seed set to 42\n",
      "GPU available: True (cuda), used: True\n",
      "TPU available: False, using: 0 TPU cores\n",
      "IPU available: False, using: 0 IPUs\n",
      "HPU available: False, using: 0 HPUs\n",
      "Global seed set to 42\n",
      "c:\\Users\\thu71\\AppData\\Local\\anaconda3\\envs\\scanpy\\Lib\\site-packages\\lightning\\pytorch\\callbacks\\model_checkpoint.py:617: UserWarning: Checkpoint directory \\\\bme-retromaster.ad.gatech.edu\\labs5\\coskun-lab\\Thomas\\23_PLA_revision\\data\\13cyc_3D\\saved_models_v2\\13PPI_3D\\Graph_GNNs_Kfold\\GCN_2_64_onehot_4\\attention2\\GraphLevelGCN exists and is not empty.\n",
      "  rank_zero_warn(f\"Checkpoint directory {dirpath} exists and is not empty.\")\n",
      "LOCAL_RANK: 0 - CUDA_VISIBLE_DEVICES: [0]\n",
      "\n",
      "   | Name        | Type             | Params\n",
      "--------------------------------------------------\n",
      "0  | x_embedding | Identity         | 0     \n",
      "1  | model       | GNNModel         | 5.2 K \n",
      "2  | head        | Sequential       | 2.1 K \n",
      "3  | loss_module | CrossEntropyLoss | 0     \n",
      "4  | train_acc   | BinaryAccuracy   | 0     \n",
      "5  | train_auroc | BinaryAUROC      | 0     \n",
      "6  | train_f1    | BinaryF1Score    | 0     \n",
      "7  | valid_acc   | BinaryAccuracy   | 0     \n",
      "8  | valid_auroc | BinaryAUROC      | 0     \n",
      "9  | valid_f1    | BinaryF1Score    | 0     \n",
      "10 | pool        | Attention_module | 4.2 K \n",
      "--------------------------------------------------\n",
      "11.5 K    Trainable params\n",
      "0         Non-trainable params\n",
      "11.5 K    Total params\n",
      "0.046     Total estimated model params size (MB)\n"
     ]
    },
    {
     "name": "stdout",
     "output_type": "stream",
     "text": [
      "Using GNN\n"
     ]
    },
    {
     "name": "stderr",
     "output_type": "stream",
     "text": [
      "`Trainer.fit` stopped: `max_epochs=80` reached.\n"
     ]
    },
    {
     "data": {
      "text/html": [
       "Waiting for W&B process to finish... <strong style=\"color:green\">(success).</strong>"
      ],
      "text/plain": [
       "<IPython.core.display.HTML object>"
      ]
     },
     "metadata": {},
     "output_type": "display_data"
    },
    {
     "data": {
      "application/vnd.jupyter.widget-view+json": {
       "model_id": "25c832de25944ef4a5c6845b232d1586",
       "version_major": 2,
       "version_minor": 0
      },
      "text/plain": [
       "VBox(children=(Label(value='0.001 MB of 0.001 MB uploaded (0.000 MB deduped)\\r'), FloatProgress(value=1.0, max…"
      ]
     },
     "metadata": {},
     "output_type": "display_data"
    },
    {
     "data": {
      "text/html": [
       "<style>\n",
       "    table.wandb td:nth-child(1) { padding: 0 10px; text-align: left ; width: auto;} td:nth-child(2) {text-align: left ; width: 100%}\n",
       "    .wandb-row { display: flex; flex-direction: row; flex-wrap: wrap; justify-content: flex-start; width: 100% }\n",
       "    .wandb-col { display: flex; flex-direction: column; flex-basis: 100%; flex: 1; padding: 10px; }\n",
       "    </style>\n",
       "<div class=\"wandb-row\"><div class=\"wandb-col\"><h3>Run history:</h3><br/><table class=\"wandb\"><tr><td>epoch</td><td>▁▁▁▂▂▂▂▂▂▃▃▃▃▃▄▄▄▄▄▄▅▅▅▅▅▅▆▆▆▆▆▇▇▇▇▇▇███</td></tr><tr><td>lr-Adam</td><td>▁▁▁▁▁▁▁▁▁▁▁▁▁▁▁▁▁▁▁▁▁▁▁▁▁▁▁▁▁▁▁▁▁▁▁▁▁▁▁▁</td></tr><tr><td>train_acc</td><td>▁▅▆▅▆▆▆▆▆▇▇▆▇▇▇▇▇▇▇▇▇▇▇▇▇▆▇▆█▇▇▇██▇▇█▇█▇</td></tr><tr><td>train_auc</td><td>▁▅▆▅▆▆▆▇▆▇▇▇▇▇█▇▇▇▇▇▇▇▇█▇▆█▇▇▇█▇██▇▇████</td></tr><tr><td>train_f1</td><td>▁▆▆▅▆▇▇▆▆▇▇▇▇▇█▇▇▇▇▇▇▇▇█▇▆▇▆█▇▇▇██▇▇████</td></tr><tr><td>train_loss_epoch</td><td>█▄▄▄▃▃▃▃▃▃▂▃▂▂▁▂▂▂▂▂▂▂▂▂▂▃▂▂▂▂▂▂▁▁▂▂▁▁▁▁</td></tr><tr><td>train_loss_step</td><td>▅██▃▇▅▄▄▅▆▄▅▅▅▅█▃▆▁▅▄▃▆▅▆▅▄▇▆▇▄▄▆▅▄▅▆▃▆▂</td></tr><tr><td>trainer/global_step</td><td>▁▁▁▁▁▁▁▂▂▃▃▃▂▂▂▂▂▄▄▄▅▅▂▂▂▂▂▆▆▆▆▆▃▃▃▃▃███</td></tr><tr><td>val_acc</td><td>▁▆▆▇▇▇▇▇▇▆████▇█████▇█▇▇▇▇██▇█▇█▇███▇██▇</td></tr><tr><td>val_auc</td><td>▁▃▅▆▇▇▇▇▆▇██▇█▆▇█▆▇▇▆▇██▅█▇▇▇▇██▅▇▇▇██▆▇</td></tr><tr><td>val_f1</td><td>▁▇▇███▇██▇██████████▇███████████████▇███</td></tr><tr><td>val_loss_epoch</td><td>█▃▄▂▁▂▃▂▂▂▁▁▂▂▂▁▁▁▂▂▂▂▃▂▁▂▁▁▃▁▂▂▂▂▁▂▄▁▃▅</td></tr><tr><td>val_loss_step</td><td>█▅▇▃▃▄▅▅▅▂▂▂▅▆▄▂▂▂▅▃▄▇▆▂▂▄▃▃▇▂▄▅▃▅▁▇█▁▆▄</td></tr></table><br/></div><div class=\"wandb-col\"><h3>Run summary:</h3><br/><table class=\"wandb\"><tr><td>epoch</td><td>79</td></tr><tr><td>lr-Adam</td><td>0.005</td></tr><tr><td>train_acc</td><td>0.83633</td></tr><tr><td>train_auc</td><td>0.91018</td></tr><tr><td>train_f1</td><td>0.8152</td></tr><tr><td>train_loss_epoch</td><td>0.37584</td></tr><tr><td>train_loss_step</td><td>0.33706</td></tr><tr><td>trainer/global_step</td><td>1119</td></tr><tr><td>val_acc</td><td>0.75814</td></tr><tr><td>val_auc</td><td>0.87219</td></tr><tr><td>val_f1</td><td>0.79365</td></tr><tr><td>val_loss_epoch</td><td>0.56588</td></tr><tr><td>val_loss_step</td><td>0.50228</td></tr></table><br/></div></div>"
      ],
      "text/plain": [
       "<IPython.core.display.HTML object>"
      ]
     },
     "metadata": {},
     "output_type": "display_data"
    },
    {
     "data": {
      "text/html": [
       " View run <strong style=\"color:#cdcd00\">GCN_2_64_onehot_4</strong> at: <a href='https://wandb.ai/thoomas/PLA_01182024_13PPI_3D_Kfold/runs/as6m9gcv' target=\"_blank\">https://wandb.ai/thoomas/PLA_01182024_13PPI_3D_Kfold/runs/as6m9gcv</a><br/>Synced 6 W&B file(s), 0 media file(s), 0 artifact file(s) and 0 other file(s)"
      ],
      "text/plain": [
       "<IPython.core.display.HTML object>"
      ]
     },
     "metadata": {},
     "output_type": "display_data"
    },
    {
     "data": {
      "text/html": [
       "Find logs at: <code>.\\wandb\\run-20240119_020005-as6m9gcv\\logs</code>"
      ],
      "text/plain": [
       "<IPython.core.display.HTML object>"
      ]
     },
     "metadata": {},
     "output_type": "display_data"
    },
    {
     "data": {
      "text/html": [
       "wandb version 0.16.2 is available!  To upgrade, please run:\n",
       " $ pip install wandb --upgrade"
      ],
      "text/plain": [
       "<IPython.core.display.HTML object>"
      ]
     },
     "metadata": {},
     "output_type": "display_data"
    },
    {
     "data": {
      "text/html": [
       "Tracking run with wandb version 0.15.8"
      ],
      "text/plain": [
       "<IPython.core.display.HTML object>"
      ]
     },
     "metadata": {},
     "output_type": "display_data"
    },
    {
     "data": {
      "text/html": [
       "Run data is saved locally in <code>y:\\coskun-lab\\Thomas\\23_PLA_revision\\notebooks\\wandb\\run-20240119_022303-05z526ot</code>"
      ],
      "text/plain": [
       "<IPython.core.display.HTML object>"
      ]
     },
     "metadata": {},
     "output_type": "display_data"
    },
    {
     "data": {
      "text/html": [
       "Syncing run <strong><a href='https://wandb.ai/thoomas/PLA_01182024_13PPI_3D_Kfold/runs/05z526ot' target=\"_blank\">GAT_norm_3_64_onehot_4</a></strong> to <a href='https://wandb.ai/thoomas/PLA_01182024_13PPI_3D_Kfold' target=\"_blank\">Weights & Biases</a> (<a href='https://wandb.me/run' target=\"_blank\">docs</a>)<br/>"
      ],
      "text/plain": [
       "<IPython.core.display.HTML object>"
      ]
     },
     "metadata": {},
     "output_type": "display_data"
    },
    {
     "data": {
      "text/html": [
       " View project at <a href='https://wandb.ai/thoomas/PLA_01182024_13PPI_3D_Kfold' target=\"_blank\">https://wandb.ai/thoomas/PLA_01182024_13PPI_3D_Kfold</a>"
      ],
      "text/plain": [
       "<IPython.core.display.HTML object>"
      ]
     },
     "metadata": {},
     "output_type": "display_data"
    },
    {
     "data": {
      "text/html": [
       " View run at <a href='https://wandb.ai/thoomas/PLA_01182024_13PPI_3D_Kfold/runs/05z526ot' target=\"_blank\">https://wandb.ai/thoomas/PLA_01182024_13PPI_3D_Kfold/runs/05z526ot</a>"
      ],
      "text/plain": [
       "<IPython.core.display.HTML object>"
      ]
     },
     "metadata": {},
     "output_type": "display_data"
    },
    {
     "name": "stderr",
     "output_type": "stream",
     "text": [
      "Global seed set to 42\n",
      "GPU available: True (cuda), used: True\n",
      "TPU available: False, using: 0 TPU cores\n",
      "IPU available: False, using: 0 IPUs\n",
      "HPU available: False, using: 0 HPUs\n",
      "Global seed set to 42\n",
      "c:\\Users\\thu71\\AppData\\Local\\anaconda3\\envs\\scanpy\\Lib\\site-packages\\lightning\\pytorch\\callbacks\\model_checkpoint.py:617: UserWarning: Checkpoint directory \\\\bme-retromaster.ad.gatech.edu\\labs5\\coskun-lab\\Thomas\\23_PLA_revision\\data\\13cyc_3D\\saved_models_v2\\13PPI_3D\\Graph_GNNs_Kfold\\GAT_norm_3_64_onehot_4\\attention\\GraphLevelGAT_norm exists and is not empty.\n",
      "  rank_zero_warn(f\"Checkpoint directory {dirpath} exists and is not empty.\")\n",
      "LOCAL_RANK: 0 - CUDA_VISIBLE_DEVICES: [0]\n",
      "\n",
      "   | Name        | Type             | Params\n",
      "--------------------------------------------------\n",
      "0  | x_embedding | Identity         | 0     \n",
      "1  | model       | GAT              | 79.0 K\n",
      "2  | head        | Sequential       | 2.1 K \n",
      "3  | loss_module | CrossEntropyLoss | 0     \n",
      "4  | train_acc   | BinaryAccuracy   | 0     \n",
      "5  | train_auroc | BinaryAUROC      | 0     \n",
      "6  | train_f1    | BinaryF1Score    | 0     \n",
      "7  | valid_acc   | BinaryAccuracy   | 0     \n",
      "8  | valid_auroc | BinaryAUROC      | 0     \n",
      "9  | valid_f1    | BinaryF1Score    | 0     \n",
      "10 | pool        | GlobalAttention  | 65    \n",
      "--------------------------------------------------\n",
      "81.3 K    Trainable params\n",
      "0         Non-trainable params\n",
      "81.3 K    Total params\n",
      "0.325     Total estimated model params size (MB)\n"
     ]
    },
    {
     "name": "stdout",
     "output_type": "stream",
     "text": [
      "Using GAT\n"
     ]
    },
    {
     "name": "stderr",
     "output_type": "stream",
     "text": [
      "`Trainer.fit` stopped: `max_epochs=80` reached.\n"
     ]
    },
    {
     "data": {
      "text/html": [
       "Waiting for W&B process to finish... <strong style=\"color:green\">(success).</strong>"
      ],
      "text/plain": [
       "<IPython.core.display.HTML object>"
      ]
     },
     "metadata": {},
     "output_type": "display_data"
    },
    {
     "data": {
      "application/vnd.jupyter.widget-view+json": {
       "model_id": "f4a5a4e9f43a4eaabff0ed2c3487c2b9",
       "version_major": 2,
       "version_minor": 0
      },
      "text/plain": [
       "VBox(children=(Label(value='0.001 MB of 0.013 MB uploaded (0.000 MB deduped)\\r'), FloatProgress(value=0.080126…"
      ]
     },
     "metadata": {},
     "output_type": "display_data"
    },
    {
     "data": {
      "text/html": [
       "<style>\n",
       "    table.wandb td:nth-child(1) { padding: 0 10px; text-align: left ; width: auto;} td:nth-child(2) {text-align: left ; width: 100%}\n",
       "    .wandb-row { display: flex; flex-direction: row; flex-wrap: wrap; justify-content: flex-start; width: 100% }\n",
       "    .wandb-col { display: flex; flex-direction: column; flex-basis: 100%; flex: 1; padding: 10px; }\n",
       "    </style>\n",
       "<div class=\"wandb-row\"><div class=\"wandb-col\"><h3>Run history:</h3><br/><table class=\"wandb\"><tr><td>epoch</td><td>▁▁▁▂▂▂▂▂▂▃▃▃▃▃▄▄▄▄▄▄▅▅▅▅▅▅▆▆▆▆▆▇▇▇▇▇▇███</td></tr><tr><td>lr-Adam</td><td>▁▁▁▁▁▁▁▁▁▁▁▁▁▁▁▁▁▁▁▁▁▁▁▁▁▁▁▁▁▁▁▁▁▁▁▁▁▁▁▁</td></tr><tr><td>train_acc</td><td>▁▆▇▆▇▇▇▇▆▇█▇▇▇▇▇▇██▇▇▇▇█▇▇██▇█▇▇▇█▇▇▇▇▇▇</td></tr><tr><td>train_auc</td><td>▁▅▆▇▇▇▇▇▇▇█▇▇▇▇▇▇██▇████▇▇█▇████████▇██▇</td></tr><tr><td>train_f1</td><td>▁▆▆▆▇▆▇▇▆▇▇▇▆▇▇▇▇▇▇▇▇▇▇█▇▆▇▇▇█▇▇▇██▇▇█▇▇</td></tr><tr><td>train_loss_epoch</td><td>█▄▃▃▂▃▂▂▂▂▂▂▂▂▂▂▂▂▁▂▁▂▁▁▂▂▂▂▁▂▁▂▁▁▁▁▂▁▁▂</td></tr><tr><td>train_loss_step</td><td>▅▃▃▂▃▂▄▁▁▃▂▃▄▂▇▃▃▃▄▄▂▂▂▂▃▄▃█▄▄▁▂▄▃▃▄▁▄▄▂</td></tr><tr><td>trainer/global_step</td><td>▁▁▁▁▁▁▁▂▂▃▃▃▂▂▂▂▂▄▄▄▅▅▂▂▂▂▂▆▆▆▆▆▃▃▃▃▃███</td></tr><tr><td>val_acc</td><td>▄▁▄▇▇▇▆▅▃▆▅█▇▄▇▇▄▇▂▇▇▆▇▆█▄▇█▆▅▆▇▇▆▄▅▇▆▇▄</td></tr><tr><td>val_auc</td><td>▁▃▅█▇██▇▇▇▇█▇▇▇▇▇▇▇▆▇▇▇▆▇▆▇▇▇▆▆▇▇▇▇▆█▇▇▇</td></tr><tr><td>val_f1</td><td>▃▄▅█▇▇▄▆▅▇▂█▇▆▇█▅▇▄▇▇▇▇▅█▅██▇▆▇▇▆▇▆▆▇▃▆▁</td></tr><tr><td>val_loss_epoch</td><td>█▅▆▂▂▂▂▃▅▂▅▁▂▄▁▁▃▂▇▂▂▄▂▂▂▃▂▂▂▄▃▂▂▃▄▃▁▂▁▁</td></tr><tr><td>val_loss_step</td><td>▇▅█▄▂▄▅▄▆▂▇▃▃▆▂▂▄▅▅▃▄█▄▄▄▄▄▄▄▆▄▃▃▅▄▄▃▂▂▁</td></tr></table><br/></div><div class=\"wandb-col\"><h3>Run summary:</h3><br/><table class=\"wandb\"><tr><td>epoch</td><td>79</td></tr><tr><td>lr-Adam</td><td>0.005</td></tr><tr><td>train_acc</td><td>0.80673</td></tr><tr><td>train_auc</td><td>0.88556</td></tr><tr><td>train_f1</td><td>0.78695</td></tr><tr><td>train_loss_epoch</td><td>0.42325</td></tr><tr><td>train_loss_step</td><td>0.39414</td></tr><tr><td>trainer/global_step</td><td>1119</td></tr><tr><td>val_acc</td><td>0.76279</td></tr><tr><td>val_auc</td><td>0.86792</td></tr><tr><td>val_f1</td><td>0.73298</td></tr><tr><td>val_loss_epoch</td><td>0.45022</td></tr><tr><td>val_loss_step</td><td>0.32124</td></tr></table><br/></div></div>"
      ],
      "text/plain": [
       "<IPython.core.display.HTML object>"
      ]
     },
     "metadata": {},
     "output_type": "display_data"
    },
    {
     "data": {
      "text/html": [
       " View run <strong style=\"color:#cdcd00\">GAT_norm_3_64_onehot_4</strong> at: <a href='https://wandb.ai/thoomas/PLA_01182024_13PPI_3D_Kfold/runs/05z526ot' target=\"_blank\">https://wandb.ai/thoomas/PLA_01182024_13PPI_3D_Kfold/runs/05z526ot</a><br/>Synced 6 W&B file(s), 0 media file(s), 0 artifact file(s) and 0 other file(s)"
      ],
      "text/plain": [
       "<IPython.core.display.HTML object>"
      ]
     },
     "metadata": {},
     "output_type": "display_data"
    },
    {
     "data": {
      "text/html": [
       "Find logs at: <code>.\\wandb\\run-20240119_022303-05z526ot\\logs</code>"
      ],
      "text/plain": [
       "<IPython.core.display.HTML object>"
      ]
     },
     "metadata": {},
     "output_type": "display_data"
    },
    {
     "data": {
      "application/vnd.jupyter.widget-view+json": {
       "model_id": "60adc797a04e4b78b59591988a96b6d0",
       "version_major": 2,
       "version_minor": 0
      },
      "text/plain": [
       "VBox(children=(Label(value='Waiting for wandb.init()...\\r'), FloatProgress(value=0.016666666666666666, max=1.0…"
      ]
     },
     "metadata": {},
     "output_type": "display_data"
    },
    {
     "data": {
      "text/html": [
       "wandb version 0.16.2 is available!  To upgrade, please run:\n",
       " $ pip install wandb --upgrade"
      ],
      "text/plain": [
       "<IPython.core.display.HTML object>"
      ]
     },
     "metadata": {},
     "output_type": "display_data"
    },
    {
     "data": {
      "text/html": [
       "Tracking run with wandb version 0.15.8"
      ],
      "text/plain": [
       "<IPython.core.display.HTML object>"
      ]
     },
     "metadata": {},
     "output_type": "display_data"
    },
    {
     "data": {
      "text/html": [
       "Run data is saved locally in <code>y:\\coskun-lab\\Thomas\\23_PLA_revision\\notebooks\\wandb\\run-20240119_024453-uk7prr97</code>"
      ],
      "text/plain": [
       "<IPython.core.display.HTML object>"
      ]
     },
     "metadata": {},
     "output_type": "display_data"
    },
    {
     "data": {
      "text/html": [
       "Syncing run <strong><a href='https://wandb.ai/thoomas/PLA_01182024_13PPI_3D_Kfold/runs/uk7prr97' target=\"_blank\">GINConv_norm_3_16_onehot_4</a></strong> to <a href='https://wandb.ai/thoomas/PLA_01182024_13PPI_3D_Kfold' target=\"_blank\">Weights & Biases</a> (<a href='https://wandb.me/run' target=\"_blank\">docs</a>)<br/>"
      ],
      "text/plain": [
       "<IPython.core.display.HTML object>"
      ]
     },
     "metadata": {},
     "output_type": "display_data"
    },
    {
     "data": {
      "text/html": [
       " View project at <a href='https://wandb.ai/thoomas/PLA_01182024_13PPI_3D_Kfold' target=\"_blank\">https://wandb.ai/thoomas/PLA_01182024_13PPI_3D_Kfold</a>"
      ],
      "text/plain": [
       "<IPython.core.display.HTML object>"
      ]
     },
     "metadata": {},
     "output_type": "display_data"
    },
    {
     "data": {
      "text/html": [
       " View run at <a href='https://wandb.ai/thoomas/PLA_01182024_13PPI_3D_Kfold/runs/uk7prr97' target=\"_blank\">https://wandb.ai/thoomas/PLA_01182024_13PPI_3D_Kfold/runs/uk7prr97</a>"
      ],
      "text/plain": [
       "<IPython.core.display.HTML object>"
      ]
     },
     "metadata": {},
     "output_type": "display_data"
    },
    {
     "name": "stderr",
     "output_type": "stream",
     "text": [
      "Global seed set to 42\n",
      "GPU available: True (cuda), used: True\n",
      "TPU available: False, using: 0 TPU cores\n",
      "IPU available: False, using: 0 IPUs\n",
      "HPU available: False, using: 0 HPUs\n",
      "Global seed set to 42\n",
      "c:\\Users\\thu71\\AppData\\Local\\anaconda3\\envs\\scanpy\\Lib\\site-packages\\lightning\\pytorch\\callbacks\\model_checkpoint.py:617: UserWarning: Checkpoint directory \\\\bme-retromaster.ad.gatech.edu\\labs5\\coskun-lab\\Thomas\\23_PLA_revision\\data\\13cyc_3D\\saved_models_v2\\13PPI_3D\\Graph_GNNs_Kfold\\GINConv_norm_3_16_onehot_4\\mean\\GraphLevelGINConv_norm exists and is not empty.\n",
      "  rank_zero_warn(f\"Checkpoint directory {dirpath} exists and is not empty.\")\n",
      "LOCAL_RANK: 0 - CUDA_VISIBLE_DEVICES: [0]\n",
      "\n",
      "  | Name        | Type             | Params\n",
      "-------------------------------------------------\n",
      "0 | x_embedding | Identity         | 0     \n",
      "1 | model       | GIN              | 1.7 K \n",
      "2 | head        | Sequential       | 154   \n",
      "3 | loss_module | CrossEntropyLoss | 0     \n",
      "4 | train_acc   | BinaryAccuracy   | 0     \n",
      "5 | train_auroc | BinaryAUROC      | 0     \n",
      "6 | train_f1    | BinaryF1Score    | 0     \n",
      "7 | valid_acc   | BinaryAccuracy   | 0     \n",
      "8 | valid_auroc | BinaryAUROC      | 0     \n",
      "9 | valid_f1    | BinaryF1Score    | 0     \n",
      "-------------------------------------------------\n",
      "1.9 K     Trainable params\n",
      "0         Non-trainable params\n",
      "1.9 K     Total params\n",
      "0.008     Total estimated model params size (MB)\n"
     ]
    },
    {
     "name": "stdout",
     "output_type": "stream",
     "text": [
      "GINConv\n"
     ]
    },
    {
     "name": "stderr",
     "output_type": "stream",
     "text": [
      "`Trainer.fit` stopped: `max_epochs=80` reached.\n"
     ]
    },
    {
     "data": {
      "text/html": [
       "Waiting for W&B process to finish... <strong style=\"color:green\">(success).</strong>"
      ],
      "text/plain": [
       "<IPython.core.display.HTML object>"
      ]
     },
     "metadata": {},
     "output_type": "display_data"
    },
    {
     "data": {
      "application/vnd.jupyter.widget-view+json": {
       "model_id": "deb0fcdafa064be78349a10e4150ab9f",
       "version_major": 2,
       "version_minor": 0
      },
      "text/plain": [
       "VBox(children=(Label(value='0.001 MB of 0.001 MB uploaded (0.000 MB deduped)\\r'), FloatProgress(value=1.0, max…"
      ]
     },
     "metadata": {},
     "output_type": "display_data"
    },
    {
     "data": {
      "text/html": [
       "<style>\n",
       "    table.wandb td:nth-child(1) { padding: 0 10px; text-align: left ; width: auto;} td:nth-child(2) {text-align: left ; width: 100%}\n",
       "    .wandb-row { display: flex; flex-direction: row; flex-wrap: wrap; justify-content: flex-start; width: 100% }\n",
       "    .wandb-col { display: flex; flex-direction: column; flex-basis: 100%; flex: 1; padding: 10px; }\n",
       "    </style>\n",
       "<div class=\"wandb-row\"><div class=\"wandb-col\"><h3>Run history:</h3><br/><table class=\"wandb\"><tr><td>epoch</td><td>▁▁▁▂▂▂▂▂▂▃▃▃▃▃▄▄▄▄▄▄▅▅▅▅▅▅▆▆▆▆▆▇▇▇▇▇▇███</td></tr><tr><td>lr-Adam</td><td>▁▁▁▁▁▁▁▁▁▁▁▁▁▁▁▁▁▁▁▁▁▁▁▁▁▁▁▁▁▁▁▁▁▁▁▁▁▁▁▁</td></tr><tr><td>train_acc</td><td>▁▅▆▆▆▇▇▇▇▇▇█▇▇▇▇▇▇███▇█▇▇▇██████████████</td></tr><tr><td>train_auc</td><td>▁▅▆▆▇▇▇▇▇▇▇▇▇▇▇▇▇████▇█▇█▇██████████████</td></tr><tr><td>train_f1</td><td>▁▆▇▇▇▇▇▇▇▇▇█▇▇▇▇▇███████████████████████</td></tr><tr><td>train_loss_epoch</td><td>█▅▄▄▃▄▃▃▃▃▃▃▃▃▃▃▂▂▂▁▂▂▁▂▁▂▁▂▂▁▁▁▁▂▁▁▂▁▁▁</td></tr><tr><td>train_loss_step</td><td>█▅▅▄▄▆▄▆▆▆▇▅▅▃▄▄▃▃▅▅▄▄▁▃▄▃▅▁▅▅▃▆▄▁▂▄▃▃▃▂</td></tr><tr><td>trainer/global_step</td><td>▁▁▁▁▁▁▁▂▂▃▃▃▂▂▂▂▂▄▄▄▅▅▂▂▂▂▂▆▆▆▆▆▃▃▃▃▃███</td></tr><tr><td>val_acc</td><td>▁▁▄▅▆▆▇▇▄▅▇▅▆▆▇▆▆▇▅▆▆▄▆▁█▇▇▅█▄▇▇▆▆▇▇▆▅▆▆</td></tr><tr><td>val_auc</td><td>▁▅▆▇▇███▆▇▇█▇▆█▇▇▇▆██▇▇▅██▇▆▇▆▇▇▇▇▇▇▆▇▇▆</td></tr><tr><td>val_f1</td><td>▁▄▂▄▆▅▇▇▅▅▆▄▆▅▆▇▆▇▅▆▇▂▅▄▆▇▇▆█▄▅▇▆▅▇▆▆▄▅▆</td></tr><tr><td>val_loss_epoch</td><td>█▅▃▂▃▂▁▁▄▂▂▁▃▄▂▃▂▄▄▃▄▃▃▆▄▁▄▃▃▅▆▄▂▄▅▄▄▄▂▄</td></tr><tr><td>val_loss_step</td><td>▆▅▄▄▆▄▃▂▆▄▄▃▅▇▅▆▄▆▄▆▇▃▆▆▅▁▇▄▅▆█▆▃▆█▆▅▅▁▅</td></tr></table><br/></div><div class=\"wandb-col\"><h3>Run summary:</h3><br/><table class=\"wandb\"><tr><td>epoch</td><td>79</td></tr><tr><td>lr-Adam</td><td>0.005</td></tr><tr><td>train_acc</td><td>0.85606</td></tr><tr><td>train_auc</td><td>0.9291</td></tr><tr><td>train_f1</td><td>0.84324</td></tr><tr><td>train_loss_epoch</td><td>0.33844</td></tr><tr><td>train_loss_step</td><td>0.25553</td></tr><tr><td>trainer/global_step</td><td>1119</td></tr><tr><td>val_acc</td><td>0.80233</td></tr><tr><td>val_auc</td><td>0.88152</td></tr><tr><td>val_f1</td><td>0.81153</td></tr><tr><td>val_loss_epoch</td><td>0.47696</td></tr><tr><td>val_loss_step</td><td>0.48307</td></tr></table><br/></div></div>"
      ],
      "text/plain": [
       "<IPython.core.display.HTML object>"
      ]
     },
     "metadata": {},
     "output_type": "display_data"
    },
    {
     "data": {
      "text/html": [
       " View run <strong style=\"color:#cdcd00\">GINConv_norm_3_16_onehot_4</strong> at: <a href='https://wandb.ai/thoomas/PLA_01182024_13PPI_3D_Kfold/runs/uk7prr97' target=\"_blank\">https://wandb.ai/thoomas/PLA_01182024_13PPI_3D_Kfold/runs/uk7prr97</a><br/>Synced 6 W&B file(s), 0 media file(s), 0 artifact file(s) and 0 other file(s)"
      ],
      "text/plain": [
       "<IPython.core.display.HTML object>"
      ]
     },
     "metadata": {},
     "output_type": "display_data"
    },
    {
     "data": {
      "text/html": [
       "Find logs at: <code>.\\wandb\\run-20240119_024453-uk7prr97\\logs</code>"
      ],
      "text/plain": [
       "<IPython.core.display.HTML object>"
      ]
     },
     "metadata": {},
     "output_type": "display_data"
    }
   ],
   "source": [
    "k_folds = 5\n",
    "kfold = KFold(n_splits=k_folds, shuffle=True, random_state=42)\n",
    "\n",
    "for fold, (train_ids, valid_ids) in enumerate(kfold.split(dataset_filtered)):\n",
    "    train_subset = dataset_filtered.index_select(train_ids.tolist())\n",
    "    val_subset = dataset_filtered.index_select(valid_ids.tolist())\n",
    "    for NUM_LAYERS, HIDDEN_CHANNELS, pool, model in params:\n",
    "            # Path to the folder where the pretrained models are saved\n",
    "        # CHECKPOINT_PATH = checkpoint_folder / f'GAT_{NUM_LAYERS}_{HIDDEN_CHANNELS}_onehot_{fold}' / pool\n",
    "        CHECKPOINT_PATH = checkpoint_folder / f'{model}_{NUM_LAYERS}_{HIDDEN_CHANNELS}_onehot_{fold}' / pool\n",
    "        CHECKPOINT_PATH.mkdir(parents=True, exist_ok=True)\n",
    "\n",
    "        # Skip already trained kfold and pool\n",
    "        checkpoint = CHECKPOINT_PATH / f\"GraphLevel{model}\" / f\"GraphLevel{model}.ckpt\" \n",
    "        if checkpoint.exists():\n",
    "            print(checkpoint)\n",
    "            continue\n",
    "\n",
    "        # Run training\n",
    "        run = wandb.init(project=project_name, name=f'{model}_{NUM_LAYERS}_{HIDDEN_CHANNELS}_onehot_{fold}', \n",
    "                        group=f'{model}_{pool}', \n",
    "                        # mode=\"disabled\"\n",
    "                        )\n",
    "        PPIGraph.train_graph_classifier_kfold(model, \n",
    "                                                train_subset, \n",
    "                                                val_subset, \n",
    "                                                dataset_filtered, \n",
    "                                                CHECKPOINT_PATH, \n",
    "                                                AVAIL_GPUS, \n",
    "                                                in_channels=13,\n",
    "                                                hidden_channels=HIDDEN_CHANNELS, \n",
    "                                                out_channels = HIDDEN_CHANNELS,\n",
    "                                                num_layers=NUM_LAYERS, \n",
    "                                                epochs=epochs,\n",
    "                                                embedding=False,\n",
    "                                                batch_size=128,\n",
    "                                                graph_pooling=pool)\n",
    "        run.finish()\n"
   ]
  },
  {
   "cell_type": "code",
   "execution_count": null,
   "metadata": {},
   "outputs": [],
   "source": []
  }
 ],
 "metadata": {
  "kernelspec": {
   "display_name": "snowflake",
   "language": "python",
   "name": "python3"
  },
  "language_info": {
   "codemirror_mode": {
    "name": "ipython",
    "version": 3
   },
   "file_extension": ".py",
   "mimetype": "text/x-python",
   "name": "python",
   "nbconvert_exporter": "python",
   "pygments_lexer": "ipython3",
   "version": "3.11.4"
  }
 },
 "nbformat": 4,
 "nbformat_minor": 2
}
