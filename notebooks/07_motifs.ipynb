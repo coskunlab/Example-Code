{
 "cells": [
  {
   "cell_type": "code",
   "execution_count": 139,
   "id": "e54189b3-5179-4113-ac00-966333a8f5cb",
   "metadata": {},
   "outputs": [],
   "source": [
    "# import itertools\n",
    "import os\n",
    "import sys\n",
    "from pathlib import Path\n",
    "\n",
    "import cv2\n",
    "import matplotlib.pyplot as plt\n",
    "import numpy as np\n",
    "import pandas as pd\n",
    "import skimage.io\n",
    "\n",
    "from collections import defaultdict\n",
    "from tqdm.auto import tqdm\n",
    "from joblib import Parallel, delayed\n",
    "import re\n",
    "import h5py\n",
    "import napari\n",
    "import tifffile as tiff\n",
    "import seaborn as sns\n",
    "import pickle"
   ]
  },
  {
   "cell_type": "code",
   "execution_count": 140,
   "id": "af773a27-599e-4517-9976-fd34d1158424",
   "metadata": {},
   "outputs": [
    {
     "name": "stdout",
     "output_type": "stream",
     "text": [
      "The autoreload extension is already loaded. To reload it, use:\n",
      "  %reload_ext autoreload\n"
     ]
    }
   ],
   "source": [
    "%load_ext autoreload\n",
    "%autoreload 2"
   ]
  },
  {
   "cell_type": "code",
   "execution_count": 141,
   "id": "a0dda694-f819-4d4f-a06c-4dcda70da7a0",
   "metadata": {},
   "outputs": [],
   "source": [
    "p_dir = (Path().cwd().parents[0]).absolute()\n",
    "\n",
    "module_path = str(p_dir / \"src\")\n",
    "\n",
    "if module_path not in sys.path:\n",
    "    sys.path.append(module_path)"
   ]
  },
  {
   "cell_type": "code",
   "execution_count": 142,
   "id": "ce571911-99d9-46ad-9b5a-ffc43c2077ed",
   "metadata": {},
   "outputs": [],
   "source": [
    "data_dir = (Path().cwd().parents[0] / 'data').absolute()\n",
    "fig_dir = (Path().cwd().parents[0] / 'figure').absolute()\n",
    "\n",
    "df_meta_path = data_dir / 'OCT Cell Culture' / 'Whole' / 'metadata' /  'imgs_reg_norm.csv'\n",
    "df_imgs = pd.read_csv(df_meta_path)"
   ]
  },
  {
   "cell_type": "markdown",
   "id": "4b534aae-561f-4b27-b757-60f884466e5a",
   "metadata": {
    "tags": []
   },
   "source": [
    "# Motif counts 5PPI"
   ]
  },
  {
   "cell_type": "code",
   "execution_count": 143,
   "id": "876cd3bd-214c-481d-82d6-8571ab6fb058",
   "metadata": {},
   "outputs": [],
   "source": [
    "import networkx as nx\n",
    "from sklearn.preprocessing import OneHotEncoder\n",
    "\n",
    "def read_pkl(path):\n",
    "    with open(path, 'rb') as f:\n",
    "        item = pickle.load(f)\n",
    "    return item"
   ]
  },
  {
   "cell_type": "code",
   "execution_count": 144,
   "id": "bfc461b5-dc89-463d-ae95-92a0622a91a4",
   "metadata": {},
   "outputs": [],
   "source": [
    "# Get encoder \n",
    "PPI_save_path =  data_dir / 'OCT Cell Culture' / 'Whole' / 'PPI'\n",
    "\n",
    "# Read PPi info \n",
    "dfs = []\n",
    "for path in os.listdir(PPI_save_path):\n",
    "    if 'csv' in path:\n",
    "        df = pd.read_csv(PPI_save_path / path)\n",
    "        dfs.append(df)\n",
    "        \n",
    "df = pd.concat(dfs)\n",
    "\n",
    "# Create label \n",
    "enc = OneHotEncoder(handle_unknown='ignore')\n",
    "enc.fit(df['PPI'].to_numpy().reshape(-1, 1))\n",
    "labels = enc.transform(df['PPI'].to_numpy().reshape(-1, 1)).toarray().astype(np.uint8)"
   ]
  },
  {
   "cell_type": "code",
   "execution_count": 145,
   "id": "8dc5edf8-a4a0-476f-b21f-727f8198dae7",
   "metadata": {
    "tags": []
   },
   "outputs": [],
   "source": [
    "mappings = {}\n",
    "for ppi in df['PPI'].unique():\n",
    "    mappings[ppi]=enc.transform(np.array([ppi]).reshape(-1, 1)).toarray().astype(np.uint8)[0]"
   ]
  },
  {
   "cell_type": "code",
   "execution_count": 146,
   "id": "c73a4d5e-4ff6-4a7c-8b67-c9d3c4cd24d0",
   "metadata": {},
   "outputs": [],
   "source": [
    "g = df.groupby(['Condition', 'FOV', 'PPI', 'Cyto']).size()\n",
    "df_cell = pd.DataFrame({'Count Cyto': g}).reset_index()\n",
    "df_cell = df_cell[df_cell.Cyto != 0]\n",
    "df_cell.columns = ['Condition', 'FOV', 'PPI', 'Id', 'Count_cell']\n",
    "\n",
    "g = df.groupby(['Condition', 'FOV', 'PPI', 'Nuclei']).size()\n",
    "df_nuclei = pd.DataFrame({'Count Nuclei': g}).reset_index()\n",
    "df_nuclei= df_nuclei[df_nuclei.Nuclei != 0]\n",
    "df_nuclei.columns = ['Condition', 'FOV', 'PPI', 'Id', 'Count_nuclei']\n"
   ]
  },
  {
   "cell_type": "code",
   "execution_count": 147,
   "id": "12404538-9de4-4fb1-8bcc-4bd0d5eeac49",
   "metadata": {},
   "outputs": [],
   "source": [
    "df_all = df_cell.merge(df_nuclei, how='left', on=['Condition', 'FOV', 'PPI', 'Id']).fillna(0)"
   ]
  },
  {
   "cell_type": "code",
   "execution_count": 148,
   "id": "5007055d-7e47-4728-b8e3-5adc9be62e0a",
   "metadata": {},
   "outputs": [],
   "source": [
    "df_all['Count_nuclei'] = df_all['Count_nuclei'].astype(int)\n",
    "df_all['Count_cyto'] = df_all['Count_cell'] - df_all['Count_nuclei']"
   ]
  },
  {
   "cell_type": "code",
   "execution_count": 149,
   "id": "353974d9-ee0f-4cd0-b3e0-c4ef7664734f",
   "metadata": {},
   "outputs": [
    {
     "data": {
      "text/html": [
       "<div>\n",
       "<style scoped>\n",
       "    .dataframe tbody tr th:only-of-type {\n",
       "        vertical-align: middle;\n",
       "    }\n",
       "\n",
       "    .dataframe tbody tr th {\n",
       "        vertical-align: top;\n",
       "    }\n",
       "\n",
       "    .dataframe thead th {\n",
       "        text-align: right;\n",
       "    }\n",
       "</style>\n",
       "<table border=\"1\" class=\"dataframe\">\n",
       "  <thead>\n",
       "    <tr style=\"text-align: right;\">\n",
       "      <th></th>\n",
       "      <th>Count_cell</th>\n",
       "      <th>Count_nuclei</th>\n",
       "      <th>Count_cyto</th>\n",
       "    </tr>\n",
       "  </thead>\n",
       "  <tbody>\n",
       "    <tr>\n",
       "      <th>count</th>\n",
       "      <td>1510.000000</td>\n",
       "      <td>1510.000000</td>\n",
       "      <td>1510.000000</td>\n",
       "    </tr>\n",
       "    <tr>\n",
       "      <th>mean</th>\n",
       "      <td>67.668212</td>\n",
       "      <td>33.149007</td>\n",
       "      <td>34.519205</td>\n",
       "    </tr>\n",
       "    <tr>\n",
       "      <th>std</th>\n",
       "      <td>31.996032</td>\n",
       "      <td>16.639663</td>\n",
       "      <td>24.150085</td>\n",
       "    </tr>\n",
       "    <tr>\n",
       "      <th>min</th>\n",
       "      <td>21.000000</td>\n",
       "      <td>0.000000</td>\n",
       "      <td>1.000000</td>\n",
       "    </tr>\n",
       "    <tr>\n",
       "      <th>25%</th>\n",
       "      <td>43.000000</td>\n",
       "      <td>22.000000</td>\n",
       "      <td>17.000000</td>\n",
       "    </tr>\n",
       "    <tr>\n",
       "      <th>50%</th>\n",
       "      <td>63.000000</td>\n",
       "      <td>31.000000</td>\n",
       "      <td>29.000000</td>\n",
       "    </tr>\n",
       "    <tr>\n",
       "      <th>75%</th>\n",
       "      <td>87.000000</td>\n",
       "      <td>43.000000</td>\n",
       "      <td>45.000000</td>\n",
       "    </tr>\n",
       "    <tr>\n",
       "      <th>max</th>\n",
       "      <td>292.000000</td>\n",
       "      <td>143.000000</td>\n",
       "      <td>246.000000</td>\n",
       "    </tr>\n",
       "  </tbody>\n",
       "</table>\n",
       "</div>"
      ],
      "text/plain": [
       "        Count_cell  Count_nuclei   Count_cyto\n",
       "count  1510.000000   1510.000000  1510.000000\n",
       "mean     67.668212     33.149007    34.519205\n",
       "std      31.996032     16.639663    24.150085\n",
       "min      21.000000      0.000000     1.000000\n",
       "25%      43.000000     22.000000    17.000000\n",
       "50%      63.000000     31.000000    29.000000\n",
       "75%      87.000000     43.000000    45.000000\n",
       "max     292.000000    143.000000   246.000000"
      ]
     },
     "execution_count": 149,
     "metadata": {},
     "output_type": "execute_result"
    }
   ],
   "source": [
    "# Filter out by maximum number of counts per cell\n",
    "min_count = 20\n",
    "max_count = 70\n",
    "\n",
    "df_all = df_all.groupby(['Condition', 'FOV', 'Id']).filter(lambda x: x['Count_cell'].sum() > min_count)\n",
    "df_all = df_all.groupby(['Condition', 'FOV', 'Id']).filter(lambda x: (x['Count_cell'] < max_count).all())\n",
    "df_all.groupby(['Condition', 'FOV', 'Id']).sum().describe()"
   ]
  },
  {
   "cell_type": "code",
   "execution_count": 150,
   "id": "7f05a03f-a4be-464d-b2ef-9582ba92dd6b",
   "metadata": {},
   "outputs": [],
   "source": [
    "df_all = df_all[df_all['Count_cyto']>=0]"
   ]
  },
  {
   "cell_type": "code",
   "execution_count": 151,
   "id": "6ab9890b-f42e-4077-85ce-acd544322e74",
   "metadata": {},
   "outputs": [],
   "source": [
    "df_cell = df_all.drop_duplicates(['Condition', 'FOV', 'Id'])[['Condition', 'FOV', 'Id']]\n",
    "df_cell = df_cell.astype(str)"
   ]
  },
  {
   "cell_type": "code",
   "execution_count": 152,
   "id": "b08eca56-4573-4baf-81e4-acced80f1f39",
   "metadata": {},
   "outputs": [
    {
     "name": "stdout",
     "output_type": "stream",
     "text": [
      "Loading graphs\n",
      "Loading contours\n"
     ]
    }
   ],
   "source": [
    "import PLA\n",
    "\n",
    "graph_save_path =  data_dir / 'OCT Cell Culture' / 'Whole' / 'graphs' / 'raw'\n",
    "contour_save_path =  data_dir / 'OCT Cell Culture' / 'Whole' / 'contours'\n",
    "\n",
    "cell_data = PLA.cell_data(contour_save_path, graph_save_path)"
   ]
  },
  {
   "cell_type": "code",
   "execution_count": 153,
   "id": "8e0cd0b2-3b9d-4fec-85e1-73a75ac49122",
   "metadata": {},
   "outputs": [],
   "source": [
    "df_new = df_cell.merge(cell_data.df, how='left', left_on=['Condition', 'FOV', 'Id'], \n",
    "              right_on=['Condition', 'FOV', 'Cell'])"
   ]
  },
  {
   "cell_type": "code",
   "execution_count": 154,
   "id": "130d1a5c-bb41-425b-9776-08cf5dfdd421",
   "metadata": {},
   "outputs": [],
   "source": [
    "from itertools import combinations_with_replacement\n",
    "from grandiso import find_motifs\n",
    "\n",
    "def generate_list_motifs(PPI_pairs, n=3):\n",
    "    '''\n",
    "    Generate list of possible motifs of size n from PPI pairs\n",
    "    '''\n",
    "    \n",
    "    comb = []\n",
    "    for i in range(2,n+1):\n",
    "        comb += list(combinations_with_replacement(PPI_pairs, i))\n",
    "    return comb \n",
    "\n",
    "def count_motifs(network, comb, mappings=mappings):\n",
    "    motifs = []\n",
    "    counts = []\n",
    "    for c in comb:\n",
    "        motif=nx.complete_graph(len(c))\n",
    "        labels = {i:mappings[marker].tolist() for i,marker in enumerate(c)}\n",
    "        nx.set_node_attributes(motif, labels, \"labels\")\n",
    "\n",
    "        motifs.append(motif)\n",
    "        counts.append(len(find_motifs(motif, network)))\n",
    "        \n",
    "    return motifs, counts"
   ]
  },
  {
   "cell_type": "code",
   "execution_count": 155,
   "id": "a44c956a-5742-49a9-b6a2-afc89e3c766c",
   "metadata": {},
   "outputs": [],
   "source": [
    "# Count motfis\n",
    "PPI_pairs = list(mappings.keys())\n",
    "comb = generate_list_motifs(PPI_pairs, n=3)\n",
    "counts_all = []\n",
    "ids = []\n",
    "conditions = []\n",
    "\n",
    "# for i in range(len(df_new)):\n",
    "#     # Info\n",
    "#     row = df_new.iloc[i]\n",
    "#     key = '_'.join(row.iloc[:2])\n",
    "    \n",
    "#     cell = row.iloc[2]\n",
    "#     conditions.append(row.iloc[0])\n",
    "#     # Get graph\n",
    "#     network = read_pkl(row.Path)\n",
    "    \n",
    "#     if not nx.is_connected(network):\n",
    "#         print(row)\n",
    "    \n",
    "#     # Get PPI counts\n",
    "#     network.remove_edges_from(nx.selfloop_edges(network))\n",
    "#     motifs, counts = count_motifs(network, comb)\n",
    "#     counts_all.append(counts)\n",
    "#     ids.append(key+'_'+cell)\n"
   ]
  },
  {
   "cell_type": "code",
   "execution_count": 156,
   "id": "c0c4bf46-b983-41a5-a1f9-1e0a23cb1aff",
   "metadata": {},
   "outputs": [],
   "source": [
    "# df_count_motifs = pd.DataFrame(counts_all, index=ids)\n",
    "# df_count_motifs['Condition'] = conditions\n",
    "# df_count_motifs = df_count_motifs.loc[:, (df_count_motifs != 0).any(axis=0)]\n",
    "# df_labels = pd.DataFrame(comb, columns=['PPI1', 'PPI2', 'PPI3'])"
   ]
  },
  {
   "cell_type": "code",
   "execution_count": 157,
   "id": "0d440416-5d42-44f8-b791-00f6e73b0809",
   "metadata": {},
   "outputs": [],
   "source": [
    "# df_count_motifs"
   ]
  },
  {
   "cell_type": "code",
   "execution_count": 158,
   "id": "78e3c336-dd4d-490d-a233-02349b601049",
   "metadata": {},
   "outputs": [],
   "source": [
    "# save_path = data_dir / 'OCT Cell Culture' / 'Whole' / 'metadata' /  'motifs.csv'\n",
    "# df_count_motifs.to_csv(save_path, index=False)\n",
    "\n",
    "# save_path = data_dir / 'OCT Cell Culture' / 'Whole' / 'metadata' /  'motifs_labels.csv'\n",
    "# df_labels.to_csv(save_path)"
   ]
  },
  {
   "cell_type": "code",
   "execution_count": 159,
   "id": "d6b9db79-6a53-4f95-82da-d53d3c3f96d6",
   "metadata": {},
   "outputs": [],
   "source": [
    "# save_path"
   ]
  },
  {
   "cell_type": "code",
   "execution_count": 160,
   "id": "e6cbf5d7-3ba7-4cdd-a560-d023cc032bd5",
   "metadata": {},
   "outputs": [],
   "source": [
    "import matplotlib \n",
    "\n",
    "PPIs_name = list(mappings.keys())\n",
    "# Define colormap\n",
    "colors = [ '#ff00ff', '#00FF00', '#FF0000',  '#00FFFF', '#FFFF00']\n",
    "\n",
    "colors_rgb = []\n",
    "for color in colors:\n",
    "    colors_rgb.append(matplotlib.colors.hex2color(color))\n",
    "colors_rgb = np.array(colors_rgb) * 255\n",
    "colors_rgb = colors_rgb.astype(np.uint8)\n",
    "\n",
    "colors_rgb_dict = {k:v for k,v in zip(PPIs_name, colors_rgb)}"
   ]
  },
  {
   "cell_type": "code",
   "execution_count": 161,
   "id": "9fffd1c4-0e14-4c10-a6c4-dba5389bfdd1",
   "metadata": {},
   "outputs": [
    {
     "data": {
      "text/plain": [
       "{'TEAD1 & YAP1': array([255,   0, 255], dtype=uint8),\n",
       " 'CylinE & CDK2': array([  0, 255,   0], dtype=uint8),\n",
       " 'P-ERK & c-MYC': array([255,   0,   0], dtype=uint8),\n",
       " 'p-AKT & mTOR': array([  0, 255, 255], dtype=uint8),\n",
       " 'Mcl-1 & BAK': array([255, 255,   0], dtype=uint8)}"
      ]
     },
     "execution_count": 161,
     "metadata": {},
     "output_type": "execute_result"
    }
   ],
   "source": [
    "colors_rgb_dict"
   ]
  },
  {
   "cell_type": "code",
   "execution_count": 162,
   "id": "6d7fef19-9b04-4aaa-9a20-d05950d5af71",
   "metadata": {
    "tags": []
   },
   "outputs": [],
   "source": [
    "save_dir = fig_dir / 'PPI count'/ '5PPI'\n",
    "save_dir.mkdir(parents=True, exist_ok=True)\n",
    "\n",
    "# for i, c in enumerate(comb):\n",
    "    \n",
    "#     motif=nx.complete_graph(len(c))\n",
    "#     labels = {i:mappings[marker].tolist() for i,marker in enumerate(c)}\n",
    "#     nx.set_node_attributes(motif, labels, \"labels\")\n",
    "\n",
    "#     plt.figure(1, figsize=(2, 2))\n",
    "#     # layout graphs with positions using graphviz neato\n",
    "#     pos = nx.spring_layout(motif)\n",
    "    \n",
    "#     # color nodes the same in each connected subgraph\n",
    "#     labels = list(nx.get_node_attributes(motif, 'labels').values())\n",
    "#     labels = np.argmax(labels, axis=1)\n",
    "#     node_colors = [colors_rgb_dict[PPIs_name[i]]/255 for i in labels]\n",
    "#     nx.draw(motif, pos, node_size=200, node_color=node_colors, vmin=0.0, vmax=1.0, with_labels=False, edgecolors='k')\n",
    "    \n",
    "#     plt.savefig(save_dir / f\"{i}_{c}.png\")\n",
    "#     plt.close()"
   ]
  },
  {
   "cell_type": "code",
   "execution_count": 163,
   "id": "6360f864-6474-4371-bff8-639523e9e587",
   "metadata": {},
   "outputs": [],
   "source": [
    "save_dir = fig_dir / 'PPI count'/ 'examples'\n",
    "save_dir.mkdir(parents=True, exist_ok=True)"
   ]
  },
  {
   "cell_type": "code",
   "execution_count": 164,
   "id": "597478a1-543d-4e0d-b3d5-ff5be35ec467",
   "metadata": {},
   "outputs": [],
   "source": [
    "def get_contours(contours, key, cell):\n",
    "    contour_cell = contours[key]['Cell'][int(cell)]\n",
    "    try:\n",
    "        contour_nuclei = contours[key]['Nuclei'][int(cell)]\n",
    "    except:\n",
    "        contour_nuclei = None\n",
    "    return contour_cell, contour_nuclei\n",
    "\n",
    "def plot_contour(contour_cell, contour_nuclei, ax, linewidth=2):\n",
    "    contour = max(contour_cell, key = len)\n",
    "    ax.plot(contour[:, 1], contour[:, 0], linewidth=linewidth, color='red')\n",
    "    try:\n",
    "        contour = max(contour_nuclei, key = len)\n",
    "        ax.plot(contour[:, 1], contour[:, 0], linewidth=linewidth, color='blue')\n",
    "    except:\n",
    "        pass\n",
    "    \n",
    "def plot_network(g, label, ax, **kwargs):\n",
    "    pos = nx.get_node_attributes(g, 'pos')\n",
    "    pos_T = {k: v[[1,0]] for k,v in pos.items()}\n",
    "    \n",
    "    nx.draw(g, pos_T, node_color=label, with_labels=False, ax=ax, **kwargs)\n",
    "    return ax\n"
   ]
  },
  {
   "cell_type": "code",
   "execution_count": 165,
   "id": "06838a3f-bb53-478e-ac38-921ae32a3609",
   "metadata": {},
   "outputs": [],
   "source": [
    "comb_indices = [9, 15, 17, 24, 40]\n",
    "\n",
    "for i in range(len(df_new.sample(10, random_state=123))):\n",
    "    # Info\n",
    "    row = df_new.iloc[i]\n",
    "    key = '_'.join(row.iloc[:2])\n",
    "    \n",
    "    cell = row.iloc[2]\n",
    "    conditions.append(row.iloc[0])\n",
    "    # Get graph\n",
    "    network = read_pkl(row.Path)\n",
    "    \n",
    "    # Get contours\n",
    "    contour_cell, contour_nuclei = get_contours(cell_data.contours, key, cell)\n",
    "    contour = max(contour_cell, key = len)\n",
    "    \n",
    "    # Plot original\n",
    "    network.remove_edges_from(list(nx.selfloop_edges(network)))\n",
    "    nodes = list(network.nodes())\n",
    "    labels = list(nx.get_node_attributes(network, 'labels').values())\n",
    "    labels = np.argmax(labels, axis=1)\n",
    "    node_colors = [colors_rgb_dict[PPIs_name[l]]/255 for i,l in zip(nodes, labels) ]\n",
    "\n",
    "    # Plot network\n",
    "    with plt.style.context('dark_background'):\n",
    "        # Plot Graph\n",
    "        fig, ax = plt.subplots(figsize=(4,4), facecolor='k')\n",
    "        plot_network(network,  node_colors, ax, node_size=45, linewidths=0, edgecolors='w', width=1.2, edge_color='w')\n",
    "        plot_contour(contour_cell, contour_nuclei, ax, linewidth=1)\n",
    "        ax.set_facecolor('k')\n",
    "        fig.savefig(save_dir / f'5PPI_{key}_{cell}.png', dpi=800, transparent=True, bbox_inches='tight', pad_inches=0)\n",
    "\n",
    "    for c_index in comb_indices:\n",
    "        c = comb[c_index]\n",
    "        motif=nx.complete_graph(len(c))\n",
    "        labels_c = {i:mappings[marker].tolist() for i,marker in enumerate(c)}\n",
    "        nx.set_node_attributes(motif, labels_c, \"labels\")\n",
    "        search = find_motifs(motif, network)\n",
    "        search_unique = np.unique(np.array([(list(s.values())) for s in search]).flatten())\n",
    "        search_edges = [(list(s.values())[0], list(s.values())[1]) for s in search]\n",
    "\n",
    "        # Plot only one type of motifs\n",
    "        node_colors = [colors_rgb_dict[PPIs_name[l]]/255\n",
    "                       if i in search_unique \n",
    "                       else np.array([120,120,120])/255\n",
    "                       for i,l in zip(nodes, labels) \n",
    "                      ]\n",
    "\n",
    "        edge_colors = [np.array([255,0,0])/255\n",
    "                       if (e[0], e[1]) in search_edges \n",
    "                       else np.array([120,120,120])/255\n",
    "                       for e in network.edges()\n",
    "                      ]\n",
    "\n",
    "        # Plot network\n",
    "        with plt.style.context('dark_background'):\n",
    "            # Plot Graph\n",
    "            fig, ax = plt.subplots(figsize=(4,4), facecolor='k')\n",
    "            plot_network(network,  node_colors, ax, node_size=45, linewidths=0, edgecolors='w', width=1.2, edge_color=edge_colors)\n",
    "            plot_contour(contour_cell, contour_nuclei, ax, linewidth=1)\n",
    "            ax.set_facecolor('k')\n",
    "            fig.savefig(save_dir / f'5PPI_{key}_{cell}_{c}.png', dpi=800, transparent=True, bbox_inches='tight', pad_inches=0)\n",
    "            plt.close()"
   ]
  },
  {
   "cell_type": "markdown",
   "id": "c4852a9d-7d9f-4a46-8f43-97c59fecc668",
   "metadata": {
    "tags": []
   },
   "source": [
    "# Motifs count 9PPI"
   ]
  },
  {
   "cell_type": "code",
   "execution_count": 166,
   "id": "88fa62ae-4250-417f-ba45-25c143dc356a",
   "metadata": {},
   "outputs": [],
   "source": [
    "# Get encoder \n",
    "PPI_save_path =  data_dir / '9PPI Cell Culture' / 'Whole' / 'PPI'\n",
    "\n",
    "# Read PPi info \n",
    "dfs = []\n",
    "for path in os.listdir(PPI_save_path):\n",
    "    if 'csv' in path:\n",
    "        df = pd.read_csv(PPI_save_path / path)\n",
    "        dfs.append(df)\n",
    "        \n",
    "df = pd.concat(dfs)\n",
    "df = df[df.PPI.isin(['Cyclin D1 & CDK2', 'NF-Kb & p-P90rsk', 'Sox2 & Oct4',\n",
    "       'Bim & Tom20', 'Mcl-1 & BAK', 'p-ERK & c-MYC', 'TEAD1 & YAP',\n",
    "       'Cyclin E & CDK4', 'P-AKT & mTOR'])]\n",
    "\n",
    "# Create label \n",
    "enc = OneHotEncoder(handle_unknown='ignore')\n",
    "enc.fit(df['PPI'].to_numpy().reshape(-1, 1))\n",
    "labels = enc.transform(df['PPI'].to_numpy().reshape(-1, 1)).toarray().astype(np.uint8)"
   ]
  },
  {
   "cell_type": "code",
   "execution_count": 167,
   "id": "a26e0f12-c78e-4194-b97d-a34a8cd56f01",
   "metadata": {
    "tags": []
   },
   "outputs": [],
   "source": [
    "mappings = {}\n",
    "for ppi in df['PPI'].unique():\n",
    "    mappings[ppi]=enc.transform(np.array([ppi]).reshape(-1, 1)).toarray().astype(np.uint8)[0]"
   ]
  },
  {
   "cell_type": "code",
   "execution_count": 168,
   "id": "fbf6e52d-8df4-4cea-b88f-3dfbdb8ac18e",
   "metadata": {},
   "outputs": [],
   "source": [
    "g = df.groupby(['Condition', 'FOV', 'PPI', 'Cyto']).size()\n",
    "df_cell = pd.DataFrame({'Count Cyto': g}).reset_index()\n",
    "df_cell = df_cell[df_cell.Cyto != 0]\n",
    "df_cell.columns = ['Condition', 'FOV', 'PPI', 'Id', 'Count_cell']\n",
    "\n",
    "g = df.groupby(['Condition', 'FOV', 'PPI', 'Nuclei']).size()\n",
    "df_nuclei = pd.DataFrame({'Count Nuclei': g}).reset_index()\n",
    "df_nuclei= df_nuclei[df_nuclei.Nuclei != 0]\n",
    "df_nuclei.columns = ['Condition', 'FOV', 'PPI', 'Id', 'Count_nuclei']\n"
   ]
  },
  {
   "cell_type": "code",
   "execution_count": 169,
   "id": "e3aaa2c7-a4ab-4ce8-b0eb-a9a6e2196ae8",
   "metadata": {},
   "outputs": [],
   "source": [
    "df_all = df_cell.merge(df_nuclei, how='left', on=['Condition', 'FOV', 'PPI', 'Id']).fillna(0)"
   ]
  },
  {
   "cell_type": "code",
   "execution_count": 170,
   "id": "03e427d3-81d9-49af-9f4c-4d27dd6679df",
   "metadata": {},
   "outputs": [],
   "source": [
    "df_all['Count_nuclei'] = df_all['Count_nuclei'].astype(int)\n",
    "df_all['Count_cyto'] = df_all['Count_cell'] - df_all['Count_nuclei']"
   ]
  },
  {
   "cell_type": "code",
   "execution_count": 171,
   "id": "7c5474d2-d24f-439d-a941-0228687bc097",
   "metadata": {},
   "outputs": [
    {
     "data": {
      "text/html": [
       "<div>\n",
       "<style scoped>\n",
       "    .dataframe tbody tr th:only-of-type {\n",
       "        vertical-align: middle;\n",
       "    }\n",
       "\n",
       "    .dataframe tbody tr th {\n",
       "        vertical-align: top;\n",
       "    }\n",
       "\n",
       "    .dataframe thead th {\n",
       "        text-align: right;\n",
       "    }\n",
       "</style>\n",
       "<table border=\"1\" class=\"dataframe\">\n",
       "  <thead>\n",
       "    <tr style=\"text-align: right;\">\n",
       "      <th></th>\n",
       "      <th>Count_cell</th>\n",
       "      <th>Count_nuclei</th>\n",
       "      <th>Count_cyto</th>\n",
       "    </tr>\n",
       "  </thead>\n",
       "  <tbody>\n",
       "    <tr>\n",
       "      <th>count</th>\n",
       "      <td>1340.000000</td>\n",
       "      <td>1340.000000</td>\n",
       "      <td>1340.000000</td>\n",
       "    </tr>\n",
       "    <tr>\n",
       "      <th>mean</th>\n",
       "      <td>336.203731</td>\n",
       "      <td>122.502985</td>\n",
       "      <td>213.700746</td>\n",
       "    </tr>\n",
       "    <tr>\n",
       "      <th>std</th>\n",
       "      <td>142.753623</td>\n",
       "      <td>50.508549</td>\n",
       "      <td>118.238184</td>\n",
       "    </tr>\n",
       "    <tr>\n",
       "      <th>min</th>\n",
       "      <td>102.000000</td>\n",
       "      <td>0.000000</td>\n",
       "      <td>-32.000000</td>\n",
       "    </tr>\n",
       "    <tr>\n",
       "      <th>25%</th>\n",
       "      <td>225.500000</td>\n",
       "      <td>90.000000</td>\n",
       "      <td>125.000000</td>\n",
       "    </tr>\n",
       "    <tr>\n",
       "      <th>50%</th>\n",
       "      <td>315.000000</td>\n",
       "      <td>119.000000</td>\n",
       "      <td>194.000000</td>\n",
       "    </tr>\n",
       "    <tr>\n",
       "      <th>75%</th>\n",
       "      <td>426.000000</td>\n",
       "      <td>151.000000</td>\n",
       "      <td>286.250000</td>\n",
       "    </tr>\n",
       "    <tr>\n",
       "      <th>max</th>\n",
       "      <td>1202.000000</td>\n",
       "      <td>412.000000</td>\n",
       "      <td>1202.000000</td>\n",
       "    </tr>\n",
       "  </tbody>\n",
       "</table>\n",
       "</div>"
      ],
      "text/plain": [
       "        Count_cell  Count_nuclei   Count_cyto\n",
       "count  1340.000000   1340.000000  1340.000000\n",
       "mean    336.203731    122.502985   213.700746\n",
       "std     142.753623     50.508549   118.238184\n",
       "min     102.000000      0.000000   -32.000000\n",
       "25%     225.500000     90.000000   125.000000\n",
       "50%     315.000000    119.000000   194.000000\n",
       "75%     426.000000    151.000000   286.250000\n",
       "max    1202.000000    412.000000  1202.000000"
      ]
     },
     "execution_count": 171,
     "metadata": {},
     "output_type": "execute_result"
    }
   ],
   "source": [
    "# Filter out by maximum number of counts per cell\n",
    "min_count = 100\n",
    "max_count = 400\n",
    "\n",
    "df_all = df_all.groupby(['Condition', 'FOV', 'Id']).filter(lambda x: x['Count_cell'].sum() > min_count)\n",
    "df_all = df_all.groupby(['Condition', 'FOV', 'Id']).filter(lambda x: (x['Count_cell'] < max_count).all())\n",
    "df_all.groupby(['Condition', 'FOV', 'Id']).sum().describe()"
   ]
  },
  {
   "cell_type": "code",
   "execution_count": 172,
   "id": "210ba41b-2d9f-4650-be4f-cf0cb1c315cc",
   "metadata": {},
   "outputs": [],
   "source": [
    "df_all = df_all[df_all['Count_cyto']>=0]"
   ]
  },
  {
   "cell_type": "code",
   "execution_count": 173,
   "id": "af1ccca2-a06d-4b4f-a015-42a8d4cceda2",
   "metadata": {},
   "outputs": [],
   "source": [
    "df_cell = df_all.drop_duplicates(['Condition', 'FOV', 'Id'])[['Condition', 'FOV', 'Id']]\n",
    "df_cell = df_cell.astype(str)"
   ]
  },
  {
   "cell_type": "code",
   "execution_count": 174,
   "id": "47c06304-8b1a-4699-9070-b5ee5a5ade54",
   "metadata": {},
   "outputs": [
    {
     "name": "stdout",
     "output_type": "stream",
     "text": [
      "Loading graphs\n",
      "Loading contours\n"
     ]
    }
   ],
   "source": [
    "import PLA\n",
    "\n",
    "graph_save_path =  data_dir / '9PPI Cell Culture' / 'Whole' / 'graphs' / 'raw'\n",
    "contour_save_path =  data_dir / '9PPI Cell Culture' / 'Whole' / 'contours'\n",
    "\n",
    "cell_data = PLA.cell_data(contour_save_path, graph_save_path)"
   ]
  },
  {
   "cell_type": "code",
   "execution_count": 175,
   "id": "3531c36f-e9bd-4b21-a8bc-28cfda6e5ee3",
   "metadata": {},
   "outputs": [],
   "source": [
    "df_new = df_cell.merge(cell_data.df, how='left', left_on=['Condition', 'FOV', 'Id'], \n",
    "              right_on=['Condition', 'FOV', 'Cell'])"
   ]
  },
  {
   "cell_type": "code",
   "execution_count": 176,
   "id": "815d3000-9deb-4753-a9b0-1276194842af",
   "metadata": {},
   "outputs": [],
   "source": [
    "PPI_pairs = list(mappings.keys())\n",
    "comb = generate_list_motifs(PPI_pairs, n=3)\n",
    "counts_all = []\n",
    "ids = []\n",
    "\n",
    "# conditions = []\n",
    "# for i in range(len(df_new)):\n",
    "#     # Info\n",
    "#     row = df_new.iloc[i]\n",
    "#     key = '_'.join(row.iloc[:2])\n",
    "    \n",
    "#     cell = row.iloc[2]\n",
    "#     conditions.append(row.iloc[0])\n",
    "#     # Get graph\n",
    "#     network = read_pkl(row.Path)\n",
    "    \n",
    "#     if not nx.is_connected(network):\n",
    "#         print(row)\n",
    "    \n",
    "#     # Get PPI counts\n",
    "#     network.remove_edges_from(nx.selfloop_edges(network))\n",
    "#     motifs, counts = count_motifs(network, comb, mappings=mappings)\n",
    "#     counts_all.append(counts)\n",
    "#     ids.append(key+'_'+cell)\n"
   ]
  },
  {
   "cell_type": "code",
   "execution_count": 177,
   "id": "05fc7e46-397a-4941-8ccc-5c42b942bbf4",
   "metadata": {},
   "outputs": [],
   "source": [
    "# df_count_motifs = pd.DataFrame(counts_all, index=ids)\n",
    "# df_count_motifs['Condition'] = conditions\n",
    "# df_count_motifs = df_count_motifs.loc[:, (df_count_motifs != 0).any(axis=0)]\n",
    "# df_labels = pd.DataFrame(comb, columns=['PPI1', 'PPI2', 'PPI3'])"
   ]
  },
  {
   "cell_type": "code",
   "execution_count": 178,
   "id": "9643e9b4-a50a-4fb7-a2f6-3fb720090869",
   "metadata": {},
   "outputs": [],
   "source": [
    "# df_count_motifs"
   ]
  },
  {
   "cell_type": "code",
   "execution_count": 179,
   "id": "0213423b-3a7d-48d5-8ca9-93950a0c5c20",
   "metadata": {},
   "outputs": [],
   "source": [
    "# save_path = data_dir / '9PPI Cell Culture' / 'Whole' / 'metadata' /  'motifs.csv'\n",
    "# df_count_motifs.to_csv(save_path, index=False)\n",
    "\n",
    "# save_path = data_dir / '9PPI Cell Culture' / 'Whole' / 'metadata' /  'motifs_labels.csv'\n",
    "# df_labels.to_csv(save_path)"
   ]
  },
  {
   "cell_type": "code",
   "execution_count": 180,
   "id": "63911407-aa66-49fb-9a16-a37df67f8606",
   "metadata": {},
   "outputs": [],
   "source": [
    "import palettable\n",
    "\n",
    "ppi_colors = palettable.colorbrewer.qualitative.Set1_9.mpl_colors"
   ]
  },
  {
   "cell_type": "code",
   "execution_count": 181,
   "id": "662c13f0-be25-40bc-ba93-8a72e5292da8",
   "metadata": {},
   "outputs": [],
   "source": [
    "import matplotlib \n",
    "\n",
    "PPIs_name = list(mappings.keys())\n",
    "# Define colormap\n",
    "colors = ppi_colors\n",
    "\n",
    "colors_rgb = []\n",
    "for color in colors:\n",
    "    colors_rgb.append(matplotlib.colors.hex2color(color))\n",
    "colors_rgb = np.array(colors_rgb) * 255\n",
    "colors_rgb = colors_rgb.astype(np.uint8)\n",
    "\n",
    "colors_rgb_dict = {k:v for k,v in zip(PPIs_name, colors_rgb)}"
   ]
  },
  {
   "cell_type": "code",
   "execution_count": 182,
   "id": "6105837d-d433-481d-9c46-7184e75b64d5",
   "metadata": {},
   "outputs": [
    {
     "data": {
      "text/plain": [
       "{'Cyclin D1 & CDK2': array([228,  26,  28], dtype=uint8),\n",
       " 'NF-Kb & p-P90rsk': array([ 55, 126, 184], dtype=uint8),\n",
       " 'Sox2 & Oct4': array([ 77, 175,  74], dtype=uint8),\n",
       " 'Bim & Tom20': array([152,  78, 163], dtype=uint8),\n",
       " 'Mcl-1 & BAK': array([255, 127,   0], dtype=uint8),\n",
       " 'p-ERK & c-MYC': array([255, 255,  51], dtype=uint8),\n",
       " 'TEAD1 & YAP': array([166,  86,  40], dtype=uint8),\n",
       " 'Cyclin E & CDK4': array([247, 129, 191], dtype=uint8),\n",
       " 'P-AKT & mTOR': array([153, 153, 153], dtype=uint8)}"
      ]
     },
     "execution_count": 182,
     "metadata": {},
     "output_type": "execute_result"
    }
   ],
   "source": [
    "colors_rgb_dict"
   ]
  },
  {
   "cell_type": "code",
   "execution_count": 183,
   "id": "264354cd-5e13-4f61-973e-001371f23b14",
   "metadata": {
    "tags": []
   },
   "outputs": [],
   "source": [
    "# save_dir = fig_dir / 'PPI count'/ '9PPI'\n",
    "# save_dir.mkdir(parents=True, exist_ok=True)\n",
    "\n",
    "# for i, c in enumerate(comb):\n",
    "    \n",
    "#     motif=nx.complete_graph(len(c))\n",
    "#     labels = {i:mappings[marker].tolist() for i,marker in enumerate(c)}\n",
    "#     nx.set_node_attributes(motif, labels, \"labels\")\n",
    "\n",
    "#     plt.figure(1, figsize=(2, 2))\n",
    "#     # layout graphs with positions using graphviz neato\n",
    "#     pos = nx.spring_layout(motif)\n",
    "    \n",
    "#     # color nodes the same in each connected subgraph\n",
    "#     labels = list(nx.get_node_attributes(motif, 'labels').values())\n",
    "#     labels = np.argmax(labels, axis=1)\n",
    "#     node_colors = [colors_rgb_dict[PPIs_name[i]]/255 for i in labels]\n",
    "#     nx.draw(motif, pos, node_size=200, node_color=node_colors, vmin=0.0, vmax=1.0, with_labels=False, edgecolors='k')\n",
    "    \n",
    "#     plt.savefig(save_dir / f\"{i}_{c}.png\")\n",
    "#     plt.close()"
   ]
  },
  {
   "cell_type": "code",
   "execution_count": 184,
   "id": "c064325b-36c3-47c6-8f76-478fe9988fae",
   "metadata": {},
   "outputs": [],
   "source": [
    "save_dir = fig_dir / 'PPI count'/ 'examples'\n",
    "save_dir.mkdir(parents=True, exist_ok=True)"
   ]
  },
  {
   "cell_type": "code",
   "execution_count": 185,
   "id": "b6a8bc72-0981-4490-bb01-5d3a28f9f586",
   "metadata": {},
   "outputs": [],
   "source": [
    "def get_contours(contours, key, cell):\n",
    "    contour_cell = contours[key]['Cell'][int(cell)]\n",
    "    try:\n",
    "        contour_nuclei = contours[key]['Nuclei'][int(cell)]\n",
    "    except:\n",
    "        contour_nuclei = None\n",
    "    return contour_cell, contour_nuclei\n",
    "\n",
    "def plot_contour(contour_cell, contour_nuclei, ax, linewidth=2):\n",
    "    contour = max(contour_cell, key = len)\n",
    "    ax.plot(contour[:, 1], contour[:, 0], linewidth=linewidth, color='red')\n",
    "    try:\n",
    "        contour = max(contour_nuclei, key = len)\n",
    "        ax.plot(contour[:, 1], contour[:, 0], linewidth=linewidth, color='blue')\n",
    "    except:\n",
    "        pass\n",
    "    \n",
    "def plot_network(g, label, ax, **kwargs):\n",
    "    pos = nx.get_node_attributes(g, 'pos')\n",
    "    pos_T = {k: v[[1,0]] for k,v in pos.items()}\n",
    "    \n",
    "    nx.draw(g, pos_T, node_color=label, with_labels=False, ax=ax, **kwargs)\n",
    "    return ax\n"
   ]
  },
  {
   "cell_type": "code",
   "execution_count": 186,
   "id": "ae64dcf2-2c86-4d64-bdf5-3d2fb985b224",
   "metadata": {},
   "outputs": [],
   "source": [
    "comb_indices = [0, 1, 2, 3, 5, 45, 47, 48]\n",
    "\n",
    "for i in range(len(df_new.sample(10, random_state=123))):\n",
    "    # Info\n",
    "    row = df_new.iloc[i]\n",
    "    key = '_'.join(row.iloc[:2])\n",
    "    \n",
    "    cell = row.iloc[2]\n",
    "    conditions.append(row.iloc[0])\n",
    "    # Get graph\n",
    "    network = read_pkl(row.Path)\n",
    "    \n",
    "    # Get contours\n",
    "    contour_cell, contour_nuclei = get_contours(cell_data.contours, key, cell)\n",
    "    contour = max(contour_cell, key = len)\n",
    "    \n",
    "    # Plot original\n",
    "    network.remove_edges_from(list(nx.selfloop_edges(network)))\n",
    "    nodes = list(network.nodes())\n",
    "    labels = list(nx.get_node_attributes(network, 'labels').values())\n",
    "    labels = np.argmax(labels, axis=1)\n",
    "    node_colors = [colors_rgb_dict[PPIs_name[l]]/255 for i,l in zip(nodes, labels) ]\n",
    "\n",
    "    # Plot network\n",
    "    with plt.style.context('dark_background'):\n",
    "        # Plot Graph\n",
    "        fig, ax = plt.subplots(figsize=(4,4), facecolor='k')\n",
    "        plot_network(network,  node_colors, ax, node_size=35, linewidths=0, edgecolors='w', width=1, edge_color='w')\n",
    "        plot_contour(contour_cell, contour_nuclei, ax, linewidth=1)\n",
    "        ax.set_facecolor('k')\n",
    "        fig.savefig(save_dir / f'9PPI_{key}_{cell}.png', dpi=800, transparent=True, bbox_inches='tight', pad_inches=0)\n",
    "\n",
    "    for c_index in comb_indices:\n",
    "        c = comb[c_index]\n",
    "        motif=nx.complete_graph(len(c))\n",
    "        labels_c = {i:mappings[marker].tolist() for i,marker in enumerate(c)}\n",
    "        nx.set_node_attributes(motif, labels_c, \"labels\")\n",
    "        search = find_motifs(motif, network)\n",
    "        search_unique = np.unique(np.array([(list(s.values())) for s in search]).flatten())\n",
    "        search_edges = [(list(s.values())[0], list(s.values())[1]) for s in search]\n",
    "\n",
    "        # Plot only one type of motifs\n",
    "        node_colors = [colors_rgb_dict[PPIs_name[l]]/255\n",
    "                       if i in search_unique \n",
    "                       else np.array([120,120,120])/255\n",
    "                       for i,l in zip(nodes, labels) \n",
    "                      ]\n",
    "\n",
    "        edge_colors = [np.array([255,0,0])/255\n",
    "                       if (e[0], e[1]) in search_edges \n",
    "                       else np.array([120,120,120])/255\n",
    "                       for e in network.edges()\n",
    "                      ]\n",
    "\n",
    "        # Plot network\n",
    "        with plt.style.context('dark_background'):\n",
    "            # Plot Graph\n",
    "            fig, ax = plt.subplots(figsize=(4,4), facecolor='k')\n",
    "            plot_network(network,  node_colors, ax, node_size=35, linewidths=0, edgecolors='w', width=1, edge_color=edge_colors)\n",
    "            plot_contour(contour_cell, contour_nuclei, ax, linewidth=1)\n",
    "            ax.set_facecolor('k')\n",
    "            fig.savefig(save_dir / f'9PPI_{key}_{cell}_{c}.png', dpi=800, transparent=True, bbox_inches='tight', pad_inches=0)\n",
    "            plt.close()"
   ]
  },
  {
   "cell_type": "markdown",
   "id": "3b3b38a9-5d14-4f9b-b0d6-1f56c94ce500",
   "metadata": {},
   "source": [
    "# Plot"
   ]
  },
  {
   "cell_type": "markdown",
   "id": "2c6940aa-9684-419b-b45e-0f6734b8a74f",
   "metadata": {
    "jp-MarkdownHeadingCollapsed": true,
    "tags": []
   },
   "source": [
    "## statistical plot"
   ]
  },
  {
   "cell_type": "code",
   "execution_count": 5,
   "id": "e7e54bae-2403-48d3-80f2-edc82fab5209",
   "metadata": {},
   "outputs": [],
   "source": [
    "from statannotations.Annotator import Annotator\n",
    "\n",
    "def plot(plotting):\n",
    "    c1, c2 = plotting['data'][plotting['hue']].unique()\n",
    "    pairs = [((e, c1), (e, c2)) for e in plotting['data'][plotting['x']].unique()]\n",
    "\n",
    "    with sns.plotting_context('talk', font_scale=1):\n",
    "        fig, ax = plt.subplots(figsize=(20,4))\n",
    "        ax = sns.boxplot(**plotting, showfliers=False, ax=ax)\n",
    "        annot = Annotator(ax, pairs, **plotting)\n",
    "        annot.configure(test='Mann-Whitney', text_format='star', loc='outside', verbose=0)\n",
    "        result = annot.apply_test().annotate()\n",
    "        # plt.xticks(rotation=30, ha='right')\n",
    "        plt.legend(bbox_to_anchor=(1.05, 1), loc='upper left', borderaxespad=0)"
   ]
  },
  {
   "cell_type": "markdown",
   "id": "9056e058-bbe9-472b-96b1-1c1f6f0ad153",
   "metadata": {
    "jp-MarkdownHeadingCollapsed": true,
    "tags": []
   },
   "source": [
    "### Raw count"
   ]
  },
  {
   "cell_type": "code",
   "execution_count": 6,
   "id": "5a47b89d-6758-429f-97ad-ab8316ed48a5",
   "metadata": {},
   "outputs": [
    {
     "name": "stderr",
     "output_type": "stream",
     "text": [
      "C:\\Users\\thu71\\AppData\\Local\\Temp\\ipykernel_60412\\4034278106.py:4: FutureWarning: Dropping of nuisance columns in DataFrame reductions (with 'numeric_only=None') is deprecated; in a future version this will raise TypeError.  Select only valid columns before calling the reduction.\n",
      "  df_5ppi = df_5ppi.loc[:,(df_5ppi.mean(axis=0)>5).tolist()+[True]]\n"
     ]
    }
   ],
   "source": [
    "save_path = data_dir / 'OCT Cell Culture' / 'Whole' / 'metadata' /  'motifs.csv'\n",
    "\n",
    "df_5ppi = pd.read_csv(save_path)\n",
    "df_5ppi = df_5ppi.loc[:,(df_5ppi.mean(axis=0)>5).tolist()+[True]]\n"
   ]
  },
  {
   "cell_type": "code",
   "execution_count": 7,
   "id": "14bdc733-bd3b-45ca-9fb9-f9e3ef72313b",
   "metadata": {},
   "outputs": [],
   "source": [
    "df_melt = df_5ppi.melt(id_vars=['Condition'], var_name='PPI motif', value_name='Count')"
   ]
  },
  {
   "cell_type": "code",
   "execution_count": 8,
   "id": "764afc94-6567-411b-a827-a73abe954d2b",
   "metadata": {},
   "outputs": [
    {
     "data": {
      "image/png": "[encoded data removed]",
      "text/plain": [
       "<Figure size 2000x400 with 1 Axes>"
      ]
     },
     "metadata": {},
     "output_type": "display_data"
    }
   ],
   "source": [
    "# Boxplot per cell\n",
    "plotting = {\n",
    "    \"data\": df_melt,\n",
    "    \"x\": \"PPI motif\",\n",
    "    \"y\": \"Count\",\n",
    "    \"hue\": \"Condition\"\n",
    "}\n",
    "\n",
    "plot(plotting)"
   ]
  },
  {
   "cell_type": "code",
   "execution_count": 13,
   "id": "3d07773c-07ba-4772-bc81-46d2e912f91f",
   "metadata": {},
   "outputs": [
    {
     "name": "stderr",
     "output_type": "stream",
     "text": [
      "C:\\Users\\thu71\\AppData\\Local\\Temp\\ipykernel_60412\\1745520590.py:4: FutureWarning: Dropping of nuisance columns in DataFrame reductions (with 'numeric_only=None') is deprecated; in a future version this will raise TypeError.  Select only valid columns before calling the reduction.\n",
      "  df_5ppi = df_5ppi.loc[:,(df_5ppi.mean(axis=0)>10).tolist()+[True]]\n"
     ]
    }
   ],
   "source": [
    "save_path = data_dir / '9PPI Cell Culture' / 'Whole' / 'metadata' /  'motifs.csv'\n",
    "\n",
    "df_5ppi = pd.read_csv(save_path)\n",
    "df_5ppi = df_5ppi.loc[:,(df_5ppi.mean(axis=0)>10).tolist()+[True]]\n"
   ]
  },
  {
   "cell_type": "code",
   "execution_count": 14,
   "id": "91b219c3-8232-408e-ae61-15ba002eb66b",
   "metadata": {},
   "outputs": [],
   "source": [
    "df_melt = df_5ppi.melt(id_vars=['Condition'], var_name='PPI motif', value_name='Count')"
   ]
  },
  {
   "cell_type": "code",
   "execution_count": 15,
   "id": "10288c9f-015b-4635-a7c0-bd7fd421675e",
   "metadata": {},
   "outputs": [
    {
     "data": {
      "image/png": "[encoded data removed]",
      "text/plain": [
       "<Figure size 2000x400 with 1 Axes>"
      ]
     },
     "metadata": {},
     "output_type": "display_data"
    }
   ],
   "source": [
    "# Boxplot per cell\n",
    "plotting = {\n",
    "    \"data\": df_melt,\n",
    "    \"x\": \"PPI motif\",\n",
    "    \"y\": \"Count\",\n",
    "    \"hue\": \"Condition\"\n",
    "}\n",
    "\n",
    "plot(plotting)"
   ]
  },
  {
   "cell_type": "markdown",
   "id": "3cfc16f1-d1dd-484f-b999-379c2588885f",
   "metadata": {
    "jp-MarkdownHeadingCollapsed": true,
    "tags": []
   },
   "source": [
    "### Frequency"
   ]
  },
  {
   "cell_type": "code",
   "execution_count": 31,
   "id": "518d0df5-ef11-4036-b225-61842666dde6",
   "metadata": {
    "tags": []
   },
   "outputs": [
    {
     "name": "stderr",
     "output_type": "stream",
     "text": [
      "C:\\Users\\thu71\\AppData\\Local\\Temp\\ipykernel_60412\\1256249833.py:4: FutureWarning: Dropping of nuisance columns in DataFrame reductions (with 'numeric_only=None') is deprecated; in a future version this will raise TypeError.  Select only valid columns before calling the reduction.\n",
      "  df_5ppi.iloc[:,:-1] = df_5ppi.iloc[:,:-1].div(df_5ppi.sum(1), axis=0)\n",
      "C:\\Users\\thu71\\AppData\\Local\\Temp\\ipykernel_60412\\1256249833.py:5: FutureWarning: Dropping of nuisance columns in DataFrame reductions (with 'numeric_only=None') is deprecated; in a future version this will raise TypeError.  Select only valid columns before calling the reduction.\n",
      "  df_5ppi = df_5ppi.loc[:,(df_5ppi.mean(axis=0)>0.01).tolist()+[True]]\n"
     ]
    }
   ],
   "source": [
    "save_path = data_dir / 'OCT Cell Culture' / 'Whole' / 'metadata' /  'motifs.csv'\n",
    "\n",
    "df_5ppi = pd.read_csv(save_path)\n",
    "df_5ppi.iloc[:,:-1] = df_5ppi.iloc[:,:-1].div(df_5ppi.sum(1), axis=0)\n",
    "df_5ppi = df_5ppi.loc[:,(df_5ppi.mean(axis=0)>0.01).tolist()+[True]]\n"
   ]
  },
  {
   "cell_type": "code",
   "execution_count": 32,
   "id": "289136e1-8fe0-47d8-9b46-c03095495e96",
   "metadata": {},
   "outputs": [],
   "source": [
    "df_melt = df_5ppi.melt(id_vars=['Condition'], var_name='PPI motif', value_name='Frequency')"
   ]
  },
  {
   "cell_type": "code",
   "execution_count": 33,
   "id": "9ea05f2e-54a3-49d1-a170-f956560ce81a",
   "metadata": {},
   "outputs": [
    {
     "data": {
      "image/png": "[encoded data removed]",
      "text/plain": [
       "<Figure size 2000x400 with 1 Axes>"
      ]
     },
     "metadata": {},
     "output_type": "display_data"
    }
   ],
   "source": [
    "# Boxplot per cell\n",
    "plotting = {\n",
    "    \"data\": df_melt,\n",
    "    \"x\": \"PPI motif\",\n",
    "    \"y\": \"Frequency\",\n",
    "    \"hue\": \"Condition\"\n",
    "}\n",
    "\n",
    "plot(plotting)"
   ]
  },
  {
   "cell_type": "code",
   "execution_count": 38,
   "id": "e442f7b5-d0d5-4d07-93b4-02ec9d3ce0c8",
   "metadata": {
    "tags": []
   },
   "outputs": [
    {
     "name": "stderr",
     "output_type": "stream",
     "text": [
      "C:\\Users\\thu71\\AppData\\Local\\Temp\\ipykernel_60412\\1942991128.py:4: FutureWarning: Dropping of nuisance columns in DataFrame reductions (with 'numeric_only=None') is deprecated; in a future version this will raise TypeError.  Select only valid columns before calling the reduction.\n",
      "  df_5ppi.iloc[:,:-1] = df_5ppi.iloc[:,:-1].div(df_5ppi.sum(1), axis=0)\n",
      "C:\\Users\\thu71\\AppData\\Local\\Temp\\ipykernel_60412\\1942991128.py:5: FutureWarning: Dropping of nuisance columns in DataFrame reductions (with 'numeric_only=None') is deprecated; in a future version this will raise TypeError.  Select only valid columns before calling the reduction.\n",
      "  df_5ppi = df_5ppi.loc[:,(df_5ppi.mean(axis=0)>0.008).tolist()+[True]]\n"
     ]
    }
   ],
   "source": [
    "save_path = data_dir / '9PPI Cell Culture' / 'Whole' / 'metadata' /  'motifs.csv'\n",
    "\n",
    "df_5ppi = pd.read_csv(save_path)\n",
    "df_5ppi.iloc[:,:-1] = df_5ppi.iloc[:,:-1].div(df_5ppi.sum(1), axis=0)\n",
    "df_5ppi = df_5ppi.loc[:,(df_5ppi.mean(axis=0)>0.008).tolist()+[True]]\n"
   ]
  },
  {
   "cell_type": "code",
   "execution_count": 39,
   "id": "52966750-5841-493a-a24b-f7f825a83b83",
   "metadata": {},
   "outputs": [],
   "source": [
    "df_melt = df_5ppi.melt(id_vars=['Condition'], var_name='PPI motif', value_name='Frequency')"
   ]
  },
  {
   "cell_type": "code",
   "execution_count": 40,
   "id": "f8cfb3b9-5f18-4401-99ba-4b1fc230a76b",
   "metadata": {},
   "outputs": [
    {
     "data": {
      "image/png": "[encoded data removed]",
      "text/plain": [
       "<Figure size 2000x400 with 1 Axes>"
      ]
     },
     "metadata": {},
     "output_type": "display_data"
    }
   ],
   "source": [
    "# Boxplot per cell\n",
    "plotting = {\n",
    "    \"data\": df_melt,\n",
    "    \"x\": \"PPI motif\",\n",
    "    \"y\": \"Frequency\",\n",
    "    \"hue\": \"Condition\"\n",
    "}\n",
    "\n",
    "plot(plotting)"
   ]
  },
  {
   "cell_type": "markdown",
   "id": "d72e4267-1cd9-47ba-a643-dc1d00d87e48",
   "metadata": {},
   "source": [
    "# Plot example"
   ]
  },
  {
   "cell_type": "code",
   "execution_count": null,
   "id": "3f9debf0-d411-4974-9cb0-6166256dee7f",
   "metadata": {},
   "outputs": [],
   "source": []
  }
 ],
 "metadata": {
  "kernelspec": {
   "display_name": "Python [conda env:PLA]",
   "language": "python",
   "name": "conda-env-PLA-py"
  },
  "language_info": {
   "codemirror_mode": {
    "name": "ipython",
    "version": 3
   },
   "file_extension": ".py",
   "mimetype": "text/x-python",
   "name": "python",
   "nbconvert_exporter": "python",
   "pygments_lexer": "ipython3",
   "version": "3.9.16"
  }
 },
 "nbformat": 4,
 "nbformat_minor": 5
}
