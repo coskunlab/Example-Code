{
 "cells": [
  {
   "cell_type": "code",
   "execution_count": 1,
   "id": "f3d10bff-2eb9-4dab-9ee4-c5cb882cdc67",
   "metadata": {},
   "outputs": [],
   "source": [
    "import itertools\n",
    "import os\n",
    "import sys\n",
    "from pathlib import Path\n",
    "\n",
    "import cv2\n",
    "import matplotlib.pyplot as plt\n",
    "import numpy as np\n",
    "import pandas as pd\n",
    "import skimage.io\n",
    "\n",
    "from collections import defaultdict\n",
    "from tqdm.auto import tqdm\n",
    "from joblib import Parallel, delayed\n",
    "import re\n",
    "import h5py\n",
    "import napari\n",
    "import glob\n",
    "import natsort\n",
    "import tifffile as tiff\n"
   ]
  },
  {
   "cell_type": "code",
   "execution_count": 2,
   "id": "f40541cf-b238-49a0-8bfa-f8dd2df23e1e",
   "metadata": {},
   "outputs": [],
   "source": [
    "%load_ext autoreload\n",
    "%autoreload 2"
   ]
  },
  {
   "cell_type": "code",
   "execution_count": 3,
   "id": "b65363f3-802e-4aca-a9b3-cbda81b5b8cf",
   "metadata": {},
   "outputs": [],
   "source": [
    "data_dir = (Path().cwd().parents[0] / 'data').absolute()\n",
    "data_raw = r'Y:\\coskun-lab\\Shuangyi\\ERK, YAP project_2022\\PLA\\HCC827 cell culture'\n"
   ]
  },
  {
   "cell_type": "code",
   "execution_count": 5,
   "id": "7ef00261-bb45-41ba-8085-df5e847fc9d1",
   "metadata": {},
   "outputs": [],
   "source": [
    "df_imgs_path = data_dir / '9PPI Cell Culture' / '3D_Whole' /  'metadata' / 'imgs_reg_norm.csv'\n",
    "df_imgs = pd.read_csv(df_imgs_path)"
   ]
  },
  {
   "cell_type": "code",
   "execution_count": 6,
   "id": "4a0f5866-d376-4578-99d4-f997bbdac75c",
   "metadata": {},
   "outputs": [],
   "source": [
    "def make_imgs_same_dim(imgs):\n",
    "    # Get max dimensions\n",
    "    shapes = np.array([img.shape[1:] for img in imgs])\n",
    "    min_x, min_y = shapes.min(axis=0)\n",
    "        \n",
    "    return [img[:, :min_x, :min_y] for img in imgs]"
   ]
  },
  {
   "cell_type": "code",
   "execution_count": 7,
   "id": "4ad13e08-b768-41dd-8242-e64fe698a873",
   "metadata": {},
   "outputs": [
    {
     "data": {
      "application/vnd.jupyter.widget-view+json": {
       "model_id": "87d2b2d32d1f4b1ea8c1ccc0e5f75fac",
       "version_major": 2,
       "version_minor": 0
      },
      "text/plain": [
       "  0%|          | 0/4 [00:00<?, ?it/s]"
      ]
     },
     "metadata": {},
     "output_type": "display_data"
    }
   ],
   "source": [
    "temp_path = data_dir / '9PPI Cell Culture' / '3D_Whole' /  'imgs' / 'registered_z'\n",
    "temp_path.mkdir(parents=True, exist_ok=True)\n",
    "\n",
    "group = df_imgs.groupby(['Timepoint','FOV'])\n",
    "rows = []\n",
    "\n",
    "for name, df_group in tqdm(group, total=len(group)):\n",
    "    df_group = df_group.sort_values('Z')\n",
    "    imgs_all = []\n",
    "    for row in df_group.itertuples():\n",
    "        # Read image\n",
    "        path = row.Path\n",
    "        with h5py.File(path, \"r\") as f:\n",
    "            imgs = f['imgs'][:]\n",
    "            markers = f['imgs'].attrs['Marker']\n",
    "            cycles = f['imgs'].attrs['Cycle']\n",
    "            imgs_all.append(imgs)\n",
    "            \n",
    "    imgs_all = np.stack(make_imgs_same_dim(imgs_all))\n",
    "    for i,m in enumerate(markers):\n",
    "        file_name = f'{\"_\".join(name)}_{cycles[i]}_{m}.tif'\n",
    "        file_path = temp_path / file_name\n",
    "        tiff.imwrite(file_path, imgs_all[:, i, ...])"
   ]
  },
  {
   "cell_type": "code",
   "execution_count": null,
   "id": "b05fcb64-596f-4bb7-a26d-b05f5e7c949c",
   "metadata": {},
   "outputs": [],
   "source": []
  }
 ],
 "metadata": {
  "kernelspec": {
   "display_name": "Python [conda env:PLA]",
   "language": "python",
   "name": "conda-env-PLA-py"
  },
  "language_info": {
   "codemirror_mode": {
    "name": "ipython",
    "version": 3
   },
   "file_extension": ".py",
   "mimetype": "text/x-python",
   "name": "python",
   "nbconvert_exporter": "python",
   "pygments_lexer": "ipython3",
   "version": "3.9.16"
  }
 },
 "nbformat": 4,
 "nbformat_minor": 5
}
