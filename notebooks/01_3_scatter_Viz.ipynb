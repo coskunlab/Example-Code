{
 "cells": [
  {
   "cell_type": "code",
   "execution_count": 97,
   "metadata": {},
   "outputs": [],
   "source": [
    "# import itertools\n",
    "import os\n",
    "import sys\n",
    "from pathlib import Path\n",
    "\n",
    "import cv2\n",
    "import matplotlib.pyplot as plt\n",
    "import numpy as np\n",
    "import pandas as pd\n",
    "import skimage.io\n",
    "\n",
    "from collections import defaultdict\n",
    "from tqdm.auto import tqdm\n",
    "from joblib import Parallel, delayed\n",
    "import re\n",
    "import h5py\n",
    "import napari\n",
    "import tifffile as tiff\n",
    "import seaborn as sns\n",
    "import pickle"
   ]
  },
  {
   "cell_type": "code",
   "execution_count": 98,
   "metadata": {},
   "outputs": [
    {
     "name": "stdout",
     "output_type": "stream",
     "text": [
      "The autoreload extension is already loaded. To reload it, use:\n",
      "  %reload_ext autoreload\n"
     ]
    }
   ],
   "source": [
    "%load_ext autoreload\n",
    "%autoreload 2"
   ]
  },
  {
   "cell_type": "code",
   "execution_count": 99,
   "metadata": {},
   "outputs": [],
   "source": [
    "p_dir = (Path().cwd().parents[0]).absolute()\n",
    "\n",
    "module_path = str(p_dir / \"src\")\n",
    " \n",
    "if module_path not in sys.path:\n",
    "    sys.path.append(module_path)"
   ]
  },
  {
   "cell_type": "code",
   "execution_count": 100,
   "metadata": {},
   "outputs": [],
   "source": [
    "data_dir = (Path().cwd().parents[0] / 'data').absolute()\n",
    "\n",
    "df_meta_path = data_dir / 'basline' / 'metadata' / 'imgs_reg.csv'\n",
    "df_imgs = pd.read_csv(df_meta_path)\n"
   ]
  },
  {
   "cell_type": "code",
   "execution_count": 101,
   "metadata": {},
   "outputs": [
    {
     "data": {
      "text/html": [
       "<div>\n",
       "<style scoped>\n",
       "    .dataframe tbody tr th:only-of-type {\n",
       "        vertical-align: middle;\n",
       "    }\n",
       "\n",
       "    .dataframe tbody tr th {\n",
       "        vertical-align: top;\n",
       "    }\n",
       "\n",
       "    .dataframe thead th {\n",
       "        text-align: right;\n",
       "    }\n",
       "</style>\n",
       "<table border=\"1\" class=\"dataframe\">\n",
       "  <thead>\n",
       "    <tr style=\"text-align: right;\">\n",
       "      <th></th>\n",
       "      <th>Condition</th>\n",
       "      <th>FOV</th>\n",
       "      <th>Path</th>\n",
       "    </tr>\n",
       "  </thead>\n",
       "  <tbody>\n",
       "    <tr>\n",
       "      <th>0</th>\n",
       "      <td>Control</td>\n",
       "      <td>2</td>\n",
       "      <td>Y:\\coskun-lab\\Thomas\\23_PLA_revision\\data\\basl...</td>\n",
       "    </tr>\n",
       "    <tr>\n",
       "      <th>1</th>\n",
       "      <td>Control</td>\n",
       "      <td>3</td>\n",
       "      <td>Y:\\coskun-lab\\Thomas\\23_PLA_revision\\data\\basl...</td>\n",
       "    </tr>\n",
       "    <tr>\n",
       "      <th>2</th>\n",
       "      <td>Control</td>\n",
       "      <td>4</td>\n",
       "      <td>Y:\\coskun-lab\\Thomas\\23_PLA_revision\\data\\basl...</td>\n",
       "    </tr>\n",
       "    <tr>\n",
       "      <th>3</th>\n",
       "      <td>Control</td>\n",
       "      <td>5</td>\n",
       "      <td>Y:\\coskun-lab\\Thomas\\23_PLA_revision\\data\\basl...</td>\n",
       "    </tr>\n",
       "    <tr>\n",
       "      <th>4</th>\n",
       "      <td>Control</td>\n",
       "      <td>6</td>\n",
       "      <td>Y:\\coskun-lab\\Thomas\\23_PLA_revision\\data\\basl...</td>\n",
       "    </tr>\n",
       "    <tr>\n",
       "      <th>5</th>\n",
       "      <td>Control</td>\n",
       "      <td>7</td>\n",
       "      <td>Y:\\coskun-lab\\Thomas\\23_PLA_revision\\data\\basl...</td>\n",
       "    </tr>\n",
       "    <tr>\n",
       "      <th>6</th>\n",
       "      <td>Control</td>\n",
       "      <td>8</td>\n",
       "      <td>Y:\\coskun-lab\\Thomas\\23_PLA_revision\\data\\basl...</td>\n",
       "    </tr>\n",
       "    <tr>\n",
       "      <th>7</th>\n",
       "      <td>Treated</td>\n",
       "      <td>2</td>\n",
       "      <td>Y:\\coskun-lab\\Thomas\\23_PLA_revision\\data\\basl...</td>\n",
       "    </tr>\n",
       "    <tr>\n",
       "      <th>8</th>\n",
       "      <td>Treated</td>\n",
       "      <td>3</td>\n",
       "      <td>Y:\\coskun-lab\\Thomas\\23_PLA_revision\\data\\basl...</td>\n",
       "    </tr>\n",
       "    <tr>\n",
       "      <th>9</th>\n",
       "      <td>Treated</td>\n",
       "      <td>4</td>\n",
       "      <td>Y:\\coskun-lab\\Thomas\\23_PLA_revision\\data\\basl...</td>\n",
       "    </tr>\n",
       "    <tr>\n",
       "      <th>10</th>\n",
       "      <td>Treated</td>\n",
       "      <td>5</td>\n",
       "      <td>Y:\\coskun-lab\\Thomas\\23_PLA_revision\\data\\basl...</td>\n",
       "    </tr>\n",
       "    <tr>\n",
       "      <th>11</th>\n",
       "      <td>Treated</td>\n",
       "      <td>6</td>\n",
       "      <td>Y:\\coskun-lab\\Thomas\\23_PLA_revision\\data\\basl...</td>\n",
       "    </tr>\n",
       "    <tr>\n",
       "      <th>12</th>\n",
       "      <td>Treated</td>\n",
       "      <td>7</td>\n",
       "      <td>Y:\\coskun-lab\\Thomas\\23_PLA_revision\\data\\basl...</td>\n",
       "    </tr>\n",
       "    <tr>\n",
       "      <th>13</th>\n",
       "      <td>Treated</td>\n",
       "      <td>8</td>\n",
       "      <td>Y:\\coskun-lab\\Thomas\\23_PLA_revision\\data\\basl...</td>\n",
       "    </tr>\n",
       "  </tbody>\n",
       "</table>\n",
       "</div>"
      ],
      "text/plain": [
       "   Condition  FOV                                               Path\n",
       "0    Control    2  Y:\\coskun-lab\\Thomas\\23_PLA_revision\\data\\basl...\n",
       "1    Control    3  Y:\\coskun-lab\\Thomas\\23_PLA_revision\\data\\basl...\n",
       "2    Control    4  Y:\\coskun-lab\\Thomas\\23_PLA_revision\\data\\basl...\n",
       "3    Control    5  Y:\\coskun-lab\\Thomas\\23_PLA_revision\\data\\basl...\n",
       "4    Control    6  Y:\\coskun-lab\\Thomas\\23_PLA_revision\\data\\basl...\n",
       "5    Control    7  Y:\\coskun-lab\\Thomas\\23_PLA_revision\\data\\basl...\n",
       "6    Control    8  Y:\\coskun-lab\\Thomas\\23_PLA_revision\\data\\basl...\n",
       "7    Treated    2  Y:\\coskun-lab\\Thomas\\23_PLA_revision\\data\\basl...\n",
       "8    Treated    3  Y:\\coskun-lab\\Thomas\\23_PLA_revision\\data\\basl...\n",
       "9    Treated    4  Y:\\coskun-lab\\Thomas\\23_PLA_revision\\data\\basl...\n",
       "10   Treated    5  Y:\\coskun-lab\\Thomas\\23_PLA_revision\\data\\basl...\n",
       "11   Treated    6  Y:\\coskun-lab\\Thomas\\23_PLA_revision\\data\\basl...\n",
       "12   Treated    7  Y:\\coskun-lab\\Thomas\\23_PLA_revision\\data\\basl...\n",
       "13   Treated    8  Y:\\coskun-lab\\Thomas\\23_PLA_revision\\data\\basl..."
      ]
     },
     "execution_count": 101,
     "metadata": {},
     "output_type": "execute_result"
    }
   ],
   "source": [
    "df_imgs"
   ]
  },
  {
   "cell_type": "markdown",
   "metadata": {},
   "source": [
    "# Plot examples\n",
    "\n",
    "Revision Figure on tratement \n",
    "Need to look at FOV 6 and 7 and compared control and treated"
   ]
  },
  {
   "cell_type": "code",
   "execution_count": 102,
   "metadata": {},
   "outputs": [],
   "source": [
    "import napari \n",
    "\n",
    "# remove first and last consecutive zeros along dimension\n",
    "def removeFirstAndLast(zeroArray):\n",
    "    \n",
    "    # remove first\n",
    "    for ii, val in enumerate(zeroArray):\n",
    "        if np.sum(zeroArray[:ii + 1]) != ii + 1: # all consecutive trues\n",
    "            break # exit loop\n",
    "            \n",
    "        else:\n",
    "            lowest = ii # index of last of the first consecutive zeros\n",
    "            \n",
    "    # remove last\n",
    "    for ii, val in enumerate(np.flip(zeroArray)):\n",
    "        if np.sum(zeroArray[:ii + 1]) != ii + 1: # all consecutive trues\n",
    "            break # exit loop\n",
    "            \n",
    "        else:\n",
    "            highest = len(zeroArray) - ii # index of first of the last consecutive zeros            \n",
    "    \n",
    "    return (lowest, highest)\n",
    "\n",
    "# remove black borders from napari screenshot (2D image)\n",
    "def removeBorders(RGB):\n",
    "    rowMin = []\n",
    "    rowMax = []\n",
    "    colMin = []\n",
    "    colMax = []\n",
    "    for jj in range(3): # each RGB\n",
    "        \n",
    "        img = RGB[:, :, jj]\n",
    "        # find first and last rows and cols of all zeros\n",
    "        # remove any rows of zeros\n",
    "        zeroRows = np.all(img == 0, axis = 1)\n",
    "        zeroCols = np.all(img == 0, axis = 0)\n",
    "\n",
    "        posRows = removeFirstAndLast(zeroRows)\n",
    "        posCols = removeFirstAndLast(zeroCols)            \n",
    "        \n",
    "        rowMin.append(posRows[0])\n",
    "        rowMax.append(posRows[1])\n",
    "        colMin.append(posCols[0])\n",
    "        colMax.append(posCols[1])\n",
    "        \n",
    "    # make sure border signal is not cut out\n",
    "    rowMin = np.min(rowMin)\n",
    "    rowMax = np.max(rowMax)\n",
    "    colMin = np.min(colMin)\n",
    "    colMax = np.max(colMax)\n",
    "        \n",
    "    cropped = RGB[rowMin: rowMax, colMin: colMax, :] \n",
    "    \n",
    "    return cropped"
   ]
  },
  {
   "cell_type": "code",
   "execution_count": 103,
   "metadata": {},
   "outputs": [
    {
     "data": {
      "text/html": [
       "<div>\n",
       "<style scoped>\n",
       "    .dataframe tbody tr th:only-of-type {\n",
       "        vertical-align: middle;\n",
       "    }\n",
       "\n",
       "    .dataframe tbody tr th {\n",
       "        vertical-align: top;\n",
       "    }\n",
       "\n",
       "    .dataframe thead th {\n",
       "        text-align: right;\n",
       "    }\n",
       "</style>\n",
       "<table border=\"1\" class=\"dataframe\">\n",
       "  <thead>\n",
       "    <tr style=\"text-align: right;\">\n",
       "      <th></th>\n",
       "      <th>Cyto</th>\n",
       "      <th>row</th>\n",
       "      <th>column</th>\n",
       "      <th>PPI</th>\n",
       "      <th>Nuclei</th>\n",
       "      <th>Condition</th>\n",
       "      <th>FOV</th>\n",
       "    </tr>\n",
       "  </thead>\n",
       "  <tbody>\n",
       "    <tr>\n",
       "      <th>0</th>\n",
       "      <td>0</td>\n",
       "      <td>2068</td>\n",
       "      <td>1445</td>\n",
       "      <td>CycD1/CDK4</td>\n",
       "      <td>0.0</td>\n",
       "      <td>Control</td>\n",
       "      <td>6</td>\n",
       "    </tr>\n",
       "    <tr>\n",
       "      <th>1</th>\n",
       "      <td>0</td>\n",
       "      <td>2068</td>\n",
       "      <td>1445</td>\n",
       "      <td>CycD1/CDK4</td>\n",
       "      <td>0.0</td>\n",
       "      <td>Control</td>\n",
       "      <td>6</td>\n",
       "    </tr>\n",
       "    <tr>\n",
       "      <th>2</th>\n",
       "      <td>0</td>\n",
       "      <td>2068</td>\n",
       "      <td>1445</td>\n",
       "      <td>CycD1/CDK4</td>\n",
       "      <td>0.0</td>\n",
       "      <td>Control</td>\n",
       "      <td>6</td>\n",
       "    </tr>\n",
       "    <tr>\n",
       "      <th>3</th>\n",
       "      <td>0</td>\n",
       "      <td>2068</td>\n",
       "      <td>1445</td>\n",
       "      <td>CycD1/CDK4</td>\n",
       "      <td>0.0</td>\n",
       "      <td>Control</td>\n",
       "      <td>6</td>\n",
       "    </tr>\n",
       "    <tr>\n",
       "      <th>4</th>\n",
       "      <td>0</td>\n",
       "      <td>724</td>\n",
       "      <td>3260</td>\n",
       "      <td>CycD1/CDK4</td>\n",
       "      <td>0.0</td>\n",
       "      <td>Control</td>\n",
       "      <td>6</td>\n",
       "    </tr>\n",
       "  </tbody>\n",
       "</table>\n",
       "</div>"
      ],
      "text/plain": [
       "   Cyto   row  column         PPI  Nuclei Condition  FOV\n",
       "0     0  2068    1445  CycD1/CDK4     0.0   Control    6\n",
       "1     0  2068    1445  CycD1/CDK4     0.0   Control    6\n",
       "2     0  2068    1445  CycD1/CDK4     0.0   Control    6\n",
       "3     0  2068    1445  CycD1/CDK4     0.0   Control    6\n",
       "4     0   724    3260  CycD1/CDK4     0.0   Control    6"
      ]
     },
     "execution_count": 103,
     "metadata": {},
     "output_type": "execute_result"
    }
   ],
   "source": [
    "# Read PPI \n",
    "PPI_save_path =  data_dir / 'basline' / 'PPI'\n",
    "\n",
    "dfs = []\n",
    "for path in os.listdir(PPI_save_path):\n",
    "    if 'csv' in path:\n",
    "        df = pd.read_csv(PPI_save_path / path)\n",
    "        dfs.append(df)\n",
    "\n",
    "df = pd.concat(dfs)\n",
    "df = df.rename(columns={'x': 'row', 'y': 'column'})\n",
    "df.head()"
   ]
  },
  {
   "cell_type": "code",
   "execution_count": 104,
   "metadata": {},
   "outputs": [],
   "source": [
    "image_dir = (Path().cwd().parents[0] / 'figures').absolute() / 'PLA_scatter'\n",
    "image_dir.mkdir(parents=True, exist_ok=True)"
   ]
  },
  {
   "cell_type": "markdown",
   "metadata": {},
   "source": [
    "## B06"
   ]
  },
  {
   "cell_type": "code",
   "execution_count": 105,
   "metadata": {},
   "outputs": [
    {
     "name": "stdout",
     "output_type": "stream",
     "text": [
      "Condition                                              Control\n",
      "FOV                                                          6\n",
      "Path         Y:\\coskun-lab\\Thomas\\23_PLA_revision\\data\\basl...\n",
      "Name: 4, dtype: object\n"
     ]
    }
   ],
   "source": [
    "# Get images\n",
    "index = 4\n",
    "row = df_imgs.iloc[index]\n",
    "print(row)\n",
    "path = row.Path\n",
    "\n",
    "with h5py.File(path, 'r') as f:\n",
    "    imgs = f['imgs'][:]\n",
    "    markers = f['imgs'].attrs['Marker']\n"
   ]
  },
  {
   "cell_type": "code",
   "execution_count": 106,
   "metadata": {},
   "outputs": [],
   "source": [
    "# Define matching bbox to figures\n",
    "x_min, y_min = 1740, 1317\n",
    "x_max, y_max = 2496, 1953\n",
    "DAPI_ch = 0\n",
    "\n",
    "# Get DAPI image\n",
    "dapiImg = imgs[0, y_min:y_max, x_min:x_max]\n",
    "\n",
    "# Get ppi location\n",
    "PPI_name = 'CycD1/CDK4'\n",
    "df_ppi = df[(df.Condition == row.Condition) & (df.FOV == row.FOV)]\n",
    "df_ppi = df_ppi[df_ppi.PPI == PPI_name]\n",
    "df_ppi = df_ppi[(df_ppi.column > x_min) & (df_ppi.column < x_max) \n",
    "                & (df_ppi.row > y_min) & (df_ppi.row < y_max)] \n",
    "points = df_ppi[['row', 'column']].to_numpy()\n",
    "points = points - np.array([y_min, x_min])"
   ]
  },
  {
   "cell_type": "code",
   "execution_count": 107,
   "metadata": {},
   "outputs": [
    {
     "name": "stderr",
     "output_type": "stream",
     "text": [
      "C:\\Users\\thu71\\AppData\\Local\\Temp\\ipykernel_46900\\1425072318.py:10: DeprecationWarning: <tifffile.imsave> is deprecated. Use tifffile.imwrite\n",
      "  tiff.imsave(image_dir / 'B06.tif', removeBorders(screenshot))\n"
     ]
    }
   ],
   "source": [
    "# Napari viewer\n",
    "viewer = napari.view_image(dapiImg, colormap='blue')\n",
    "points_layer = viewer.add_points(points, size=8,face_color='red',\n",
    "    face_colormap='red')\n",
    "\n",
    "# Get screenshot\n",
    "screenshot = viewer.screenshot(size=dapiImg.shape)\n",
    "viewer.close()\n",
    "# Save image\n",
    "tiff.imsave(image_dir / 'B06.tif', removeBorders(screenshot))"
   ]
  },
  {
   "cell_type": "markdown",
   "metadata": {},
   "source": [
    "## E06"
   ]
  },
  {
   "cell_type": "code",
   "execution_count": 108,
   "metadata": {},
   "outputs": [
    {
     "name": "stdout",
     "output_type": "stream",
     "text": [
      "Condition                                              Treated\n",
      "FOV                                                          6\n",
      "Path         Y:\\coskun-lab\\Thomas\\23_PLA_revision\\data\\basl...\n",
      "Name: 11, dtype: object\n"
     ]
    }
   ],
   "source": [
    "# Get images\n",
    "index = 11 \n",
    "row = df_imgs.iloc[index]\n",
    "print(row)\n",
    "path = row.Path\n",
    "\n",
    "with h5py.File(path, 'r') as f:\n",
    "    imgs = f['imgs'][:]\n",
    "    markers = f['imgs'].attrs['Marker']\n"
   ]
  },
  {
   "cell_type": "code",
   "execution_count": 109,
   "metadata": {},
   "outputs": [],
   "source": [
    "# Define matching bbox to figures\n",
    "x_min, y_min = 260,1736\n",
    "x_max, y_max = 856,2284\n",
    "DAPI_ch = 0\n",
    "\n",
    "# Get DAPI image\n",
    "dapiImg = imgs[0, y_min:y_max, x_min:x_max]\n",
    "\n",
    "# Get ppi location\n",
    "PPI_name = 'CycD1/CDK4'\n",
    "df_ppi = df[(df.Condition == row.Condition) & (df.FOV == row.FOV)]\n",
    "df_ppi = df_ppi[df_ppi.PPI == PPI_name]\n",
    "df_ppi = df_ppi[(df_ppi.column > x_min) & (df_ppi.column < x_max) \n",
    "                & (df_ppi.row > y_min) & (df_ppi.row < y_max)] \n",
    "points = df_ppi[['row', 'column']].to_numpy()\n",
    "points = points - np.array([y_min, x_min])"
   ]
  },
  {
   "cell_type": "code",
   "execution_count": 110,
   "metadata": {},
   "outputs": [
    {
     "name": "stderr",
     "output_type": "stream",
     "text": [
      "C:\\Users\\thu71\\AppData\\Local\\Temp\\ipykernel_46900\\3723181325.py:10: DeprecationWarning: <tifffile.imsave> is deprecated. Use tifffile.imwrite\n",
      "  tiff.imsave(image_dir / 'E06.tif', removeBorders(screenshot))\n"
     ]
    }
   ],
   "source": [
    "# Napari viewer\n",
    "viewer = napari.view_image(dapiImg, colormap='blue')\n",
    "points_layer = viewer.add_points(points, size=8,face_color='red',\n",
    "    face_colormap='red')\n",
    "\n",
    "# Get screenshot\n",
    "screenshot = viewer.screenshot(size=dapiImg.shape)\n",
    "viewer.close()\n",
    "# Save image\n",
    "tiff.imsave(image_dir / 'E06.tif', removeBorders(screenshot))"
   ]
  },
  {
   "cell_type": "markdown",
   "metadata": {},
   "source": [
    "## B07"
   ]
  },
  {
   "cell_type": "code",
   "execution_count": 111,
   "metadata": {},
   "outputs": [
    {
     "name": "stdout",
     "output_type": "stream",
     "text": [
      "Condition                                              Control\n",
      "FOV                                                          7\n",
      "Path         Y:\\coskun-lab\\Thomas\\23_PLA_revision\\data\\basl...\n",
      "Name: 5, dtype: object\n"
     ]
    }
   ],
   "source": [
    "# Get images\n",
    "index = 5\n",
    "row = df_imgs.iloc[index]\n",
    "print(row)\n",
    "path = row.Path\n",
    "\n",
    "with h5py.File(path, 'r') as f:\n",
    "    imgs = f['imgs'][:]\n",
    "    markers = f['imgs'].attrs['Marker']\n"
   ]
  },
  {
   "cell_type": "code",
   "execution_count": 112,
   "metadata": {},
   "outputs": [],
   "source": [
    "# Define matching bbox to figures\n",
    "x_min, y_min = 1940,212\n",
    "x_max, y_max = 2620,824\n",
    "DAPI_ch = 0\n",
    "\n",
    "# Get DAPI image\n",
    "dapiImg = imgs[0, y_min:y_max, x_min:x_max]\n",
    "\n",
    "# Get ppi location\n",
    "PPI_name = 'Sox2/Oct4'\n",
    "df_ppi = df[(df.Condition == row.Condition) & (df.FOV == row.FOV)]\n",
    "df_ppi = df_ppi[df_ppi.PPI == PPI_name]\n",
    "df_ppi = df_ppi[(df_ppi.column > x_min) & (df_ppi.column < x_max) \n",
    "                & (df_ppi.row > y_min) & (df_ppi.row < y_max)] \n",
    "points = df_ppi[['row', 'column']].to_numpy()\n",
    "points = points - np.array([y_min, x_min])"
   ]
  },
  {
   "cell_type": "code",
   "execution_count": 113,
   "metadata": {},
   "outputs": [
    {
     "name": "stderr",
     "output_type": "stream",
     "text": [
      "C:\\Users\\thu71\\AppData\\Local\\Temp\\ipykernel_46900\\298074377.py:10: DeprecationWarning: <tifffile.imsave> is deprecated. Use tifffile.imwrite\n",
      "  tiff.imsave(image_dir / 'B07.tif', removeBorders(screenshot))\n"
     ]
    }
   ],
   "source": [
    "# Napari viewer\n",
    "viewer = napari.view_image(dapiImg, colormap='blue')\n",
    "points_layer = viewer.add_points(points, size=8,face_color='red',\n",
    "    face_colormap='red')\n",
    "\n",
    "# Get screenshot\n",
    "screenshot = viewer.screenshot(size=dapiImg.shape)\n",
    "viewer.close()\n",
    "# Save image\n",
    "tiff.imsave(image_dir / 'B07.tif', removeBorders(screenshot))"
   ]
  },
  {
   "cell_type": "markdown",
   "metadata": {},
   "source": [
    "## E07"
   ]
  },
  {
   "cell_type": "code",
   "execution_count": 114,
   "metadata": {},
   "outputs": [
    {
     "name": "stdout",
     "output_type": "stream",
     "text": [
      "Condition                                              Treated\n",
      "FOV                                                          7\n",
      "Path         Y:\\coskun-lab\\Thomas\\23_PLA_revision\\data\\basl...\n",
      "Name: 12, dtype: object\n"
     ]
    }
   ],
   "source": [
    "# Get images\n",
    "index = 12\n",
    "row = df_imgs.iloc[index]\n",
    "print(row)\n",
    "path = row.Path\n",
    "\n",
    "with h5py.File(path, 'r') as f:\n",
    "    imgs = f['imgs'][:]\n",
    "    markers = f['imgs'].attrs['Marker']\n"
   ]
  },
  {
   "cell_type": "code",
   "execution_count": 115,
   "metadata": {},
   "outputs": [],
   "source": [
    "# Define matching bbox to figures\n",
    "x_min, y_min = 3320,2820\n",
    "x_max, y_max = 3972,3400\n",
    "DAPI_ch = 0\n",
    "\n",
    "# Get DAPI image\n",
    "dapiImg = imgs[0, y_min:y_max, x_min:x_max]\n",
    "\n",
    "# Get ppi location\n",
    "PPI_name = 'Sox2/Oct4'\n",
    "df_ppi = df[(df.Condition == row.Condition) & (df.FOV == row.FOV)]\n",
    "df_ppi = df_ppi[df_ppi.PPI == PPI_name]\n",
    "df_ppi = df_ppi[(df_ppi.column > x_min) & (df_ppi.column < x_max) \n",
    "                & (df_ppi.row > y_min) & (df_ppi.row < y_max)] \n",
    "points = df_ppi[['row', 'column']].to_numpy()\n",
    "points = points - np.array([y_min, x_min])"
   ]
  },
  {
   "cell_type": "code",
   "execution_count": 116,
   "metadata": {},
   "outputs": [
    {
     "name": "stderr",
     "output_type": "stream",
     "text": [
      "C:\\Users\\thu71\\AppData\\Local\\Temp\\ipykernel_46900\\897212305.py:10: DeprecationWarning: <tifffile.imsave> is deprecated. Use tifffile.imwrite\n",
      "  tiff.imsave(image_dir / 'E07.tif', removeBorders(screenshot))\n"
     ]
    }
   ],
   "source": [
    "# Napari viewer\n",
    "viewer = napari.view_image(dapiImg, colormap='blue')\n",
    "points_layer = viewer.add_points(points, size=8,face_color='red',\n",
    "    face_colormap='red')\n",
    "\n",
    "# Get screenshot\n",
    "screenshot = viewer.screenshot(size=dapiImg.shape)\n",
    "viewer.close()\n",
    "# Save image\n",
    "tiff.imsave(image_dir / 'E07.tif', removeBorders(screenshot))"
   ]
  },
  {
   "cell_type": "code",
   "execution_count": null,
   "metadata": {},
   "outputs": [],
   "source": []
  }
 ],
 "metadata": {
  "kernelspec": {
   "display_name": "Python 3",
   "language": "python",
   "name": "python3"
  },
  "language_info": {
   "codemirror_mode": {
    "name": "ipython",
    "version": 3
   },
   "file_extension": ".py",
   "mimetype": "text/x-python",
   "name": "python",
   "nbconvert_exporter": "python",
   "pygments_lexer": "ipython3",
   "version": "3.11.4"
  },
  "orig_nbformat": 4
 },
 "nbformat": 4,
 "nbformat_minor": 2
}
