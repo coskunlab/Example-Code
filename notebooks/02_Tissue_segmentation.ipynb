{
 "cells": [
  {
   "cell_type": "code",
   "execution_count": 1,
   "id": "f8266916-21bb-4a49-bef9-cf5d66d2fa12",
   "metadata": {},
   "outputs": [],
   "source": [
    "# import itertools\n",
    "import os\n",
    "import sys\n",
    "from pathlib import Path\n",
    "\n",
    "import cv2\n",
    "import matplotlib.pyplot as plt\n",
    "import numpy as np\n",
    "import pandas as pd\n",
    "import skimage.io\n",
    "\n",
    "from collections import defaultdict\n",
    "from tqdm.auto import tqdm\n",
    "from joblib import Parallel, delayed\n",
    "import re\n",
    "import h5py\n",
    "import napari\n",
    "import tifffile as tiff\n",
    "import seaborn as sns\n",
    "import pickle"
   ]
  },
  {
   "cell_type": "code",
   "execution_count": 2,
   "id": "3f5763b8-f764-41ad-aa5e-d4341ee5b6fe",
   "metadata": {},
   "outputs": [],
   "source": [
    "%load_ext autoreload\n",
    "%autoreload 2"
   ]
  },
  {
   "cell_type": "code",
   "execution_count": 3,
   "id": "34cbe80f-315f-45fe-ae07-33e8ff0147f4",
   "metadata": {},
   "outputs": [],
   "source": [
    "p_dir = (Path().cwd().parents[0]).absolute()\n",
    "\n",
    "module_path = str(p_dir / \"src\")\n",
    "\n",
    "if module_path not in sys.path:\n",
    "    sys.path.append(module_path)"
   ]
  },
  {
   "cell_type": "code",
   "execution_count": 4,
   "id": "b2506d6f-37bd-4b79-86e7-ec5a4d93b232",
   "metadata": {},
   "outputs": [],
   "source": [
    "data_dir = (Path().cwd().parents[0] / 'data').absolute()\n",
    "\n",
    "df_meta_path = data_dir / 'OCT mouse' / 'Whole' / 'metadata' / 'imgs_reg.csv'\n",
    "df_imgs = pd.read_csv(df_meta_path)"
   ]
  },
  {
   "cell_type": "markdown",
   "id": "1767aa6c-7a8d-4e19-9df5-e594adc7f738",
   "metadata": {
    "tags": []
   },
   "source": [
    "# Segmentation "
   ]
  },
  {
   "cell_type": "code",
   "execution_count": 85,
   "id": "bf381b72-a8ff-4059-bba3-ee8a98568d68",
   "metadata": {},
   "outputs": [],
   "source": [
    "from skimage import exposure, util\n",
    "\n",
    "def contrast_str(img, n_min=0.01, n_max=99.95):\n",
    "    p2, p98 = np.percentile(img, (n_min, n_max))\n",
    "    img_rescale = exposure.rescale_intensity(img, in_range=(p2, p98))\n",
    "    img_rescale = util.img_as_ubyte(img_rescale)\n",
    "    return img_rescale\n",
    "\n",
    "def split_image(img, tile_row, tile_col):\n",
    "    n_row = img.shape[1] // tile_row \n",
    "    n_col = img.shape[2] // tile_col \n",
    "    img_arr = []\n",
    "    for i in range(0, n_row+1):  # loop through height-wise pixels of image, striding by 33\n",
    "        for j in range(0, n_col+1):  # loop through width-wise pixels of image, striding by 33\n",
    "            img_tile = img[:, i*tile_row : (i+1)*tile_row, j*tile_col : (j+1)*tile_col]  # creating label image from h,w pixel to 33 pixels to the right and down\n",
    "            img_arr.append(img_tile)  # create list from label images\n",
    "    return img_arr\n",
    "\n",
    "def stitch_mask(masks, img, tile_row, tile_col):\n",
    "    n_row = img.shape[1] // tile_row \n",
    "    n_col = img.shape[2] // tile_col \n",
    "    mask_combined = np.zeros((img.shape[1], img.shape[2])).astype(np.uint32)\n",
    "    \n",
    "    img_arr = []\n",
    "    for i in range(0, n_row+1):  \n",
    "        for j in range(0, n_col+1):  \n",
    "            mask_combined[i*tile_row : (i+1)*tile_row, j*tile_col : (j+1)*tile_col] = masks[i*(n_col+1)+j]\n",
    "    # mask_combined = mask_combined[:img.shape[1], :img.shape[2]]\n",
    "    return mask_combined\n",
    "    "
   ]
  },
  {
   "cell_type": "code",
   "execution_count": 86,
   "id": "e4a1c974-4a17-4c62-b161-cb5924e74344",
   "metadata": {},
   "outputs": [],
   "source": [
    "whole_seg_path = data_dir / 'OCT mouse'  / 'Whole' / 'imgs' / 'segmentation'\n",
    "mask_path = data_dir / 'OCT mouse'  / 'Whole' / 'imgs' / 'masks'\n",
    "\n",
    "mask_path .mkdir(parents=True, exist_ok=True)"
   ]
  },
  {
   "cell_type": "code",
   "execution_count": 90,
   "id": "0c50c761-9dfe-4700-8f66-3ebc5e9cc643",
   "metadata": {},
   "outputs": [
    {
     "name": "stdout",
     "output_type": "stream",
     "text": [
      ">>> GPU activated? YES\n"
     ]
    }
   ],
   "source": [
    "from cellpose import core, utils, io, models, metrics\n",
    "use_GPU = core.use_gpu()\n",
    "yn = ['NO', 'YES']\n",
    "print(f'>>> GPU activated? {yn[use_GPU]}')\n"
   ]
  },
  {
   "cell_type": "code",
   "execution_count": 91,
   "id": "350df38d-73b3-4774-94e8-01d8a887b663",
   "metadata": {
    "tags": []
   },
   "outputs": [],
   "source": [
    "# declare model\n",
    "model = models.CellposeModel(gpu=True, model_type='CP')\n",
    "\n",
    "# Cyto segmentaion\n",
    "masks = []\n",
    "for p in os.listdir(whole_seg_path):\n",
    "    img = skimage.io.imread(whole_seg_path / p).transpose((2,0,1))\n",
    "    imgs = split_image(img, 2000, 2000)\n",
    "    \n",
    "    # run model on test images\n",
    "    masks, flows, styles = model.eval(imgs, \n",
    "                                  channels=[2,3],\n",
    "                                  diameter=50,\n",
    "                                  flow_threshold=0.8,\n",
    "                                  cellprob_threshold=-3, \n",
    "                                  )\n",
    "    mask = stitch_mask(masks, img, 2000,2000)  \n",
    "    \n",
    "    file_path = mask_path / p\n",
    "    tiff.imwrite(file_path, mask)"
   ]
  },
  {
   "cell_type": "code",
   "execution_count": 92,
   "id": "7406e6c5-3058-4dcb-b619-74d859fc5270",
   "metadata": {},
   "outputs": [],
   "source": [
    "# declare model\n",
    "model = models.CellposeModel(gpu=True, model_type='nuclei')\n",
    "\n",
    "# Nuclei segmentation\n",
    "masks_nuclei = []\n",
    "for p in os.listdir(whole_seg_path):\n",
    "    img = skimage.io.imread(whole_seg_path / p).transpose((2,0,1))\n",
    "    imgs = split_image(img, 2000, 2000)\n",
    "    \n",
    "    # run model on test images\n",
    "    masks, flows, styles = model.eval(imgs, \n",
    "                                  channels=[2,3],\n",
    "                                  diameter=50,\n",
    "                                  flow_threshold=0.8,\n",
    "                                  cellprob_threshold=-3, \n",
    "                                  )\n",
    "    mask = stitch_mask(masks, img, 2000,2000)  \n",
    "    \n",
    "    file_path = mask_path / f'Nuclei_{p}'\n",
    "    tiff.imwrite(file_path, mask)"
   ]
  },
  {
   "cell_type": "code",
   "execution_count": null,
   "id": "677d799a-426d-4677-a47e-4b34d255dcc6",
   "metadata": {},
   "outputs": [],
   "source": []
  }
 ],
 "metadata": {
  "kernelspec": {
   "display_name": "Python 3 (ipykernel)",
   "language": "python",
   "name": "python3"
  },
  "language_info": {
   "codemirror_mode": {
    "name": "ipython",
    "version": 3
   },
   "file_extension": ".py",
   "mimetype": "text/x-python",
   "name": "python",
   "nbconvert_exporter": "python",
   "pygments_lexer": "ipython3",
   "version": "3.9.7"
  }
 },
 "nbformat": 4,
 "nbformat_minor": 5
}
