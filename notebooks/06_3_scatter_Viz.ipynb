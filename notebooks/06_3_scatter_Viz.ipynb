{
 "cells": [
  {
   "cell_type": "code",
   "execution_count": 49,
   "metadata": {},
   "outputs": [],
   "source": [
    "# import itertools\n",
    "import os\n",
    "import sys\n",
    "from pathlib import Path\n",
    "\n",
    "import cv2\n",
    "import matplotlib.pyplot as plt\n",
    "import numpy as np\n",
    "import pandas as pd\n",
    "import skimage.io\n",
    "\n",
    "from collections import defaultdict\n",
    "from tqdm.auto import tqdm\n",
    "from joblib import Parallel, delayed\n",
    "import re\n",
    "import h5py\n",
    "import napari\n",
    "import tifffile as tiff\n",
    "import seaborn as sns\n",
    "import pickle"
   ]
  },
  {
   "cell_type": "code",
   "execution_count": 50,
   "metadata": {},
   "outputs": [
    {
     "name": "stdout",
     "output_type": "stream",
     "text": [
      "The autoreload extension is already loaded. To reload it, use:\n",
      "  %reload_ext autoreload\n"
     ]
    }
   ],
   "source": [
    "%load_ext autoreload\n",
    "%autoreload 2"
   ]
  },
  {
   "cell_type": "code",
   "execution_count": 51,
   "metadata": {},
   "outputs": [],
   "source": [
    "p_dir = (Path().cwd().parents[0]).absolute()\n",
    "\n",
    "module_path = str(p_dir / \"src\")\n",
    " \n",
    "if module_path not in sys.path:\n",
    "    sys.path.append(module_path)"
   ]
  },
  {
   "cell_type": "code",
   "execution_count": 52,
   "metadata": {},
   "outputs": [],
   "source": [
    "data_dir = (Path().cwd().parents[0] / 'data').absolute()\n",
    "\n",
    "df_meta_path = data_dir / 'specificity_PLA' / 'metadata' / 'imgs_reg.csv'\n",
    "df_imgs = pd.read_csv(df_meta_path)\n"
   ]
  },
  {
   "cell_type": "code",
   "execution_count": 53,
   "metadata": {},
   "outputs": [
    {
     "data": {
      "text/html": [
       "<div>\n",
       "<style scoped>\n",
       "    .dataframe tbody tr th:only-of-type {\n",
       "        vertical-align: middle;\n",
       "    }\n",
       "\n",
       "    .dataframe tbody tr th {\n",
       "        vertical-align: top;\n",
       "    }\n",
       "\n",
       "    .dataframe thead th {\n",
       "        text-align: right;\n",
       "    }\n",
       "</style>\n",
       "<table border=\"1\" class=\"dataframe\">\n",
       "  <thead>\n",
       "    <tr style=\"text-align: right;\">\n",
       "      <th></th>\n",
       "      <th>Condition</th>\n",
       "      <th>FOV</th>\n",
       "      <th>Path</th>\n",
       "    </tr>\n",
       "  </thead>\n",
       "  <tbody>\n",
       "    <tr>\n",
       "      <th>0</th>\n",
       "      <td>Control</td>\n",
       "      <td>Control</td>\n",
       "      <td>y:\\coskun-lab\\Thomas\\23_PLA_revision\\data\\spec...</td>\n",
       "    </tr>\n",
       "    <tr>\n",
       "      <th>1</th>\n",
       "      <td>KO</td>\n",
       "      <td>KO</td>\n",
       "      <td>y:\\coskun-lab\\Thomas\\23_PLA_revision\\data\\spec...</td>\n",
       "    </tr>\n",
       "  </tbody>\n",
       "</table>\n",
       "</div>"
      ],
      "text/plain": [
       "  Condition      FOV                                               Path\n",
       "0   Control  Control  y:\\coskun-lab\\Thomas\\23_PLA_revision\\data\\spec...\n",
       "1        KO       KO  y:\\coskun-lab\\Thomas\\23_PLA_revision\\data\\spec..."
      ]
     },
     "execution_count": 53,
     "metadata": {},
     "output_type": "execute_result"
    }
   ],
   "source": [
    "df_imgs"
   ]
  },
  {
   "cell_type": "code",
   "execution_count": 54,
   "metadata": {},
   "outputs": [],
   "source": [
    "# df_imgs['Condition'] = ['KO', 'Control']\n",
    "# df_imgs['FOV'] = ['KO', 'Control']"
   ]
  },
  {
   "cell_type": "markdown",
   "metadata": {},
   "source": [
    "# Plot examples\n",
    "\n",
    "Revision Figure on tratement \n",
    "Need to look at FOV 6 and 7 and compared control and treated"
   ]
  },
  {
   "cell_type": "code",
   "execution_count": 109,
   "metadata": {},
   "outputs": [],
   "source": [
    "import napari \n",
    "from sklearn.neighbors import NearestNeighbors\n",
    "import scipy \n",
    "\n",
    "# remove first and last consecutive zeros along dimension\n",
    "def removeFirstAndLast(zeroArray):\n",
    "    \n",
    "    # remove first\n",
    "    for ii, val in enumerate(zeroArray):\n",
    "        if np.sum(zeroArray[:ii + 1]) != ii + 1: # all consecutive trues\n",
    "            break # exit loop\n",
    "            \n",
    "        else:\n",
    "            lowest = ii # index of last of the first consecutive zeros\n",
    "            \n",
    "    # remove last\n",
    "    for ii, val in enumerate(np.flip(zeroArray)):\n",
    "        if np.sum(zeroArray[:ii + 1]) != ii + 1: # all consecutive trues\n",
    "            break # exit loop\n",
    "            \n",
    "        else:\n",
    "            highest = len(zeroArray) - ii # index of first of the last consecutive zeros            \n",
    "    \n",
    "    return (lowest, highest)\n",
    "\n",
    "# remove black borders from napari screenshot (2D image)\n",
    "def removeBorders(RGB):\n",
    "\n",
    "    rowMin = []\n",
    "    rowMax = []\n",
    "    colMin = []\n",
    "    colMax = []\n",
    "    for jj in range(3): # each RGB\n",
    "        \n",
    "        img = RGB[:, :, jj]\n",
    "        # find first and last rows and cols of all zeros\n",
    "        # remove any rows of zeros\n",
    "        zeroRows = np.all(img == 0, axis = 1)\n",
    "        zeroCols = np.all(img == 0, axis = 0)\n",
    "\n",
    "        posRows = removeFirstAndLast(zeroRows)\n",
    "        posCols = removeFirstAndLast(zeroCols)            \n",
    "        \n",
    "        rowMin.append(posRows[0])\n",
    "        rowMax.append(posRows[1])\n",
    "        colMin.append(posCols[0])\n",
    "        colMax.append(posCols[1])\n",
    "        \n",
    "    # make sure border signal is not cut out\n",
    "    rowMin = np.min(rowMin)\n",
    "    rowMax = np.max(rowMax)\n",
    "    colMin = np.min(colMin)\n",
    "    colMax = np.max(colMax)\n",
    "        \n",
    "    cropped = RGB[rowMin: rowMax, colMin: colMax, :] \n",
    "    \n",
    "    return cropped\n",
    "\n",
    "def get_NN_radius(data, r):\n",
    "    fit = NearestNeighbors(radius=r).fit(data)\n",
    "    m = fit.radius_neighbors(data, return_distance=True, sort_results=True)\n",
    "\n",
    "    # Put in dataframe format\n",
    "    neighbours = pd.DataFrame(m[1].tolist(), index = data.index)\n",
    "    \n",
    "    A = fit.radius_neighbors_graph(data)\n",
    "    return neighbours, A\n",
    "\n",
    "def get_loc_ppi(df, Condition, FOV, x_min, y_min, x_max, y_max, PPI_name, merge=False, r=5):\n",
    "    df_ppi = df[(df.Condition == Condition) & (df.FOV == FOV)]\n",
    "    df_ppi = df_ppi[df_ppi.PPI == PPI_name]\n",
    "    df_ppi = df_ppi[(df_ppi.column > x_min) & (df_ppi.column < x_max) \n",
    "                    & (df_ppi.row > y_min) & (df_ppi.row < y_max)] \n",
    "    if merge:\n",
    "         # Get dot neighboring graph with user defined radius\n",
    "        nei, A = get_NN_radius(df_ppi[['row', 'column']], r=r)\n",
    "\n",
    "        # Assign new labels based on connected components label\n",
    "        labels = scipy.sparse.csgraph.connected_components(A, directed=False)[1]\n",
    "        df_ppi['CC_label'] = labels\n",
    "\n",
    "        # Group by CC and extract mean position\n",
    "        df_ppi = df_ppi.groupby(['CC_label'])[['row', 'column']].mean().astype(np.uint32)\n",
    "        \n",
    "    points = df_ppi[['row', 'column']].to_numpy()\n",
    "    points = points - np.array([y_min, x_min])\n",
    "    return points\n",
    "\n"
   ]
  },
  {
   "cell_type": "code",
   "execution_count": 110,
   "metadata": {},
   "outputs": [
    {
     "data": {
      "text/html": [
       "<div>\n",
       "<style scoped>\n",
       "    .dataframe tbody tr th:only-of-type {\n",
       "        vertical-align: middle;\n",
       "    }\n",
       "\n",
       "    .dataframe tbody tr th {\n",
       "        vertical-align: top;\n",
       "    }\n",
       "\n",
       "    .dataframe thead th {\n",
       "        text-align: right;\n",
       "    }\n",
       "</style>\n",
       "<table border=\"1\" class=\"dataframe\">\n",
       "  <thead>\n",
       "    <tr style=\"text-align: right;\">\n",
       "      <th></th>\n",
       "      <th>Cell</th>\n",
       "      <th>Nuclei</th>\n",
       "      <th>column</th>\n",
       "      <th>row</th>\n",
       "      <th>PPI</th>\n",
       "      <th>Condition</th>\n",
       "      <th>FOV</th>\n",
       "    </tr>\n",
       "  </thead>\n",
       "  <tbody>\n",
       "    <tr>\n",
       "      <th>0</th>\n",
       "      <td>178</td>\n",
       "      <td>173</td>\n",
       "      <td>2708</td>\n",
       "      <td>3356</td>\n",
       "      <td>Sox2/Oct4</td>\n",
       "      <td>Control</td>\n",
       "      <td>Control</td>\n",
       "    </tr>\n",
       "    <tr>\n",
       "      <th>1</th>\n",
       "      <td>0</td>\n",
       "      <td>0</td>\n",
       "      <td>3466</td>\n",
       "      <td>430</td>\n",
       "      <td>Sox2/Oct4</td>\n",
       "      <td>Control</td>\n",
       "      <td>Control</td>\n",
       "    </tr>\n",
       "    <tr>\n",
       "      <th>2</th>\n",
       "      <td>13</td>\n",
       "      <td>0</td>\n",
       "      <td>249</td>\n",
       "      <td>1464</td>\n",
       "      <td>Sox2/Oct4</td>\n",
       "      <td>Control</td>\n",
       "      <td>Control</td>\n",
       "    </tr>\n",
       "    <tr>\n",
       "      <th>3</th>\n",
       "      <td>0</td>\n",
       "      <td>0</td>\n",
       "      <td>1334</td>\n",
       "      <td>912</td>\n",
       "      <td>Sox2/Oct4</td>\n",
       "      <td>Control</td>\n",
       "      <td>Control</td>\n",
       "    </tr>\n",
       "    <tr>\n",
       "      <th>4</th>\n",
       "      <td>103</td>\n",
       "      <td>101</td>\n",
       "      <td>1616</td>\n",
       "      <td>1340</td>\n",
       "      <td>Sox2/Oct4</td>\n",
       "      <td>Control</td>\n",
       "      <td>Control</td>\n",
       "    </tr>\n",
       "  </tbody>\n",
       "</table>\n",
       "</div>"
      ],
      "text/plain": [
       "   Cell  Nuclei  column   row        PPI Condition      FOV\n",
       "0   178     173    2708  3356  Sox2/Oct4   Control  Control\n",
       "1     0       0    3466   430  Sox2/Oct4   Control  Control\n",
       "2    13       0     249  1464  Sox2/Oct4   Control  Control\n",
       "3     0       0    1334   912  Sox2/Oct4   Control  Control\n",
       "4   103     101    1616  1340  Sox2/Oct4   Control  Control"
      ]
     },
     "execution_count": 110,
     "metadata": {},
     "output_type": "execute_result"
    }
   ],
   "source": [
    "# Read PPI \n",
    "PPI_save_path =  data_dir /'specificity_PLA' / 'PPI'\n",
    "\n",
    "dfs = []\n",
    "for path in os.listdir(PPI_save_path):\n",
    "    if 'csv' in path:\n",
    "        df = pd.read_csv(PPI_save_path / path)\n",
    "        dfs.append(df)\n",
    "\n",
    "df = pd.concat(dfs)\n",
    "df = df.rename(columns={'x': 'row', 'y': 'column'})\n",
    "df.head()"
   ]
  },
  {
   "cell_type": "code",
   "execution_count": 111,
   "metadata": {},
   "outputs": [],
   "source": [
    "image_dir = (Path().cwd().parents[0] / 'figures').absolute() / 'PLA_scatter'\n",
    "image_dir.mkdir(parents=True, exist_ok=True)"
   ]
  },
  {
   "cell_type": "code",
   "execution_count": 112,
   "metadata": {},
   "outputs": [
    {
     "data": {
      "text/plain": [
       "array(['Sox2/Oct4', 'Bim/Tom20'], dtype=object)"
      ]
     },
     "execution_count": 112,
     "metadata": {},
     "output_type": "execute_result"
    }
   ],
   "source": [
    "PPI_names = df.PPI.unique()\n",
    "PPI_names"
   ]
  },
  {
   "cell_type": "markdown",
   "metadata": {},
   "source": [
    "## B08"
   ]
  },
  {
   "cell_type": "code",
   "execution_count": 67,
   "metadata": {},
   "outputs": [
    {
     "data": {
      "text/html": [
       "<div>\n",
       "<style scoped>\n",
       "    .dataframe tbody tr th:only-of-type {\n",
       "        vertical-align: middle;\n",
       "    }\n",
       "\n",
       "    .dataframe tbody tr th {\n",
       "        vertical-align: top;\n",
       "    }\n",
       "\n",
       "    .dataframe thead th {\n",
       "        text-align: right;\n",
       "    }\n",
       "</style>\n",
       "<table border=\"1\" class=\"dataframe\">\n",
       "  <thead>\n",
       "    <tr style=\"text-align: right;\">\n",
       "      <th></th>\n",
       "      <th>Condition</th>\n",
       "      <th>FOV</th>\n",
       "      <th>Path</th>\n",
       "    </tr>\n",
       "  </thead>\n",
       "  <tbody>\n",
       "    <tr>\n",
       "      <th>0</th>\n",
       "      <td>Control</td>\n",
       "      <td>Control</td>\n",
       "      <td>y:\\coskun-lab\\Thomas\\23_PLA_revision\\data\\spec...</td>\n",
       "    </tr>\n",
       "    <tr>\n",
       "      <th>1</th>\n",
       "      <td>KO</td>\n",
       "      <td>KO</td>\n",
       "      <td>y:\\coskun-lab\\Thomas\\23_PLA_revision\\data\\spec...</td>\n",
       "    </tr>\n",
       "  </tbody>\n",
       "</table>\n",
       "</div>"
      ],
      "text/plain": [
       "  Condition      FOV                                               Path\n",
       "0   Control  Control  y:\\coskun-lab\\Thomas\\23_PLA_revision\\data\\spec...\n",
       "1        KO       KO  y:\\coskun-lab\\Thomas\\23_PLA_revision\\data\\spec..."
      ]
     },
     "execution_count": 67,
     "metadata": {},
     "output_type": "execute_result"
    }
   ],
   "source": [
    "df_imgs"
   ]
  },
  {
   "cell_type": "code",
   "execution_count": 68,
   "metadata": {},
   "outputs": [
    {
     "name": "stdout",
     "output_type": "stream",
     "text": [
      "Condition                                              Control\n",
      "FOV                                                    Control\n",
      "Path         y:\\coskun-lab\\Thomas\\23_PLA_revision\\data\\spec...\n",
      "Name: 0, dtype: object\n"
     ]
    }
   ],
   "source": [
    "# Get images\n",
    "index = 0\n",
    "row = df_imgs.iloc[index]\n",
    "print(row)\n",
    "path = row.Path\n",
    "\n",
    "with h5py.File(path, 'r') as f:\n",
    "    imgs = f['imgs'][:]\n",
    "    markers = f['imgs'].attrs['Marker']\n"
   ]
  },
  {
   "cell_type": "code",
   "execution_count": 69,
   "metadata": {},
   "outputs": [],
   "source": [
    "# Define matching bbox to figures\n",
    "x_min, y_min = 3636, 2314\n",
    "x_max, y_max = 3868, 2500\n",
    "DAPI_ch = 0\n",
    "\n",
    "# Get DAPI image\n",
    "dapiImg = imgs[0, y_min:y_max, x_min:x_max]\n",
    "\n",
    "# Get ppi location\n",
    "points = [get_loc_ppi(df, row.Condition, row.FOV, x_min, y_min, x_max, y_max, PPI_name) for PPI_name in PPI_names]\n"
   ]
  },
  {
   "cell_type": "code",
   "execution_count": 70,
   "metadata": {},
   "outputs": [
    {
     "name": "stderr",
     "output_type": "stream",
     "text": [
      "C:\\Users\\thu71\\AppData\\Local\\Temp\\ipykernel_4060\\1279383561.py:10: DeprecationWarning: <tifffile.imsave> is deprecated. Use tifffile.imwrite\n",
      "  tiff.imsave(image_dir / f'specificity_Control_1.tif', removeBorders(screenshot))\n"
     ]
    }
   ],
   "source": [
    "# Napari viewer\n",
    "viewer = napari.view_image(dapiImg, colormap='blue')\n",
    "points_layer = viewer.add_points(points[0], size=8,face_color='magenta',)\n",
    "points_layer = viewer.add_points(points[1], size=8,face_color='lime',)\n",
    "\n",
    "# Get screenshot\n",
    "screenshot = viewer.screenshot(size=np.array(dapiImg.shape)*2)\n",
    "viewer.close()\n",
    "# Save image\n",
    "tiff.imsave(image_dir / f'specificity_Control_1.tif', removeBorders(screenshot))"
   ]
  },
  {
   "cell_type": "code",
   "execution_count": 71,
   "metadata": {},
   "outputs": [],
   "source": [
    "# Napari viewer\n",
    "viewer = napari.view_image(imgs[:, y_min:y_max, x_min:x_max])"
   ]
  },
  {
   "cell_type": "markdown",
   "metadata": {},
   "source": [
    "## B06"
   ]
  },
  {
   "cell_type": "code",
   "execution_count": 113,
   "metadata": {},
   "outputs": [
    {
     "name": "stdout",
     "output_type": "stream",
     "text": [
      "Condition                                                   KO\n",
      "FOV                                                         KO\n",
      "Path         y:\\coskun-lab\\Thomas\\23_PLA_revision\\data\\spec...\n",
      "Name: 1, dtype: object\n"
     ]
    }
   ],
   "source": [
    "# Get images\n",
    "index = 1\n",
    "row = df_imgs.iloc[index]\n",
    "print(row)\n",
    "path = row.Path\n",
    "\n",
    "with h5py.File(path, 'r') as f:\n",
    "    imgs = f['imgs'][:]\n",
    "    markers = f['imgs'].attrs['Marker']\n"
   ]
  },
  {
   "cell_type": "code",
   "execution_count": 114,
   "metadata": {},
   "outputs": [],
   "source": [
    "# Define matching bbox to figures\n",
    "x_min, y_min = 1752, 2892\n",
    "x_max, y_max = 1984, 3064\n",
    "DAPI_ch = 0\n",
    "\n",
    "# Get DAPI image\n",
    "dapiImg = imgs[0, y_min:y_max, x_min:x_max]\n",
    "\n",
    "# Get ppi location\n",
    "points = [get_loc_ppi(df, row.Condition, row.FOV, x_min, y_min, x_max, y_max, PPI_name, merge=False, r = 7.5) for PPI_name in PPI_names]\n"
   ]
  },
  {
   "cell_type": "code",
   "execution_count": 116,
   "metadata": {},
   "outputs": [
    {
     "name": "stderr",
     "output_type": "stream",
     "text": [
      "C:\\Users\\thu71\\AppData\\Local\\Temp\\ipykernel_4060\\2308372758.py:10: DeprecationWarning: <tifffile.imsave> is deprecated. Use tifffile.imwrite\n",
      "  tiff.imsave(image_dir / f'specificity_KO_1.tif', removeBorders(screenshot))\n"
     ]
    }
   ],
   "source": [
    "# Napari viewer\n",
    "viewer = napari.view_image(dapiImg, colormap='blue')\n",
    "points_layer = viewer.add_points(points[0], size=8,face_color='magenta',)\n",
    "points_layer = viewer.add_points(points[1], size=8,face_color='lime',)\n",
    "\n",
    "# Get screenshot\n",
    "screenshot = viewer.screenshot(size=np.array(dapiImg.shape)*2)\n",
    "viewer.close()\n",
    "# Save image\n",
    "tiff.imsave(image_dir / f'specificity_KO_1.tif', removeBorders(screenshot))"
   ]
  },
  {
   "cell_type": "code",
   "execution_count": null,
   "metadata": {},
   "outputs": [],
   "source": []
  }
 ],
 "metadata": {
  "kernelspec": {
   "display_name": "Python 3",
   "language": "python",
   "name": "python3"
  },
  "language_info": {
   "codemirror_mode": {
    "name": "ipython",
    "version": 3
   },
   "file_extension": ".py",
   "mimetype": "text/x-python",
   "name": "python",
   "nbconvert_exporter": "python",
   "pygments_lexer": "ipython3",
   "version": "3.11.4"
  },
  "orig_nbformat": 4
 },
 "nbformat": 4,
 "nbformat_minor": 2
}
