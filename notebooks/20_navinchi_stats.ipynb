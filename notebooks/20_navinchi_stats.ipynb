{
 "cells": [
  {
   "cell_type": "code",
   "execution_count": 1,
   "metadata": {},
   "outputs": [],
   "source": [
    "import itertools\n",
    "import os\n",
    "import sys\n",
    "from pathlib import Path\n",
    "\n",
    "import cv2\n",
    "import matplotlib.pyplot as plt\n",
    "import numpy as np\n",
    "import pandas as pd\n",
    "import skimage.io\n",
    "\n",
    "from collections import defaultdict\n",
    "from tqdm.notebook import trange, tqdm, tqdm_notebook\n",
    "from joblib import Parallel, delayed\n",
    "import re\n",
    "import h5py\n",
    "import tifffile as tiff\n"
   ]
  },
  {
   "cell_type": "code",
   "execution_count": 2,
   "metadata": {},
   "outputs": [],
   "source": [
    "%load_ext autoreload\n",
    "%autoreload 2"
   ]
  },
  {
   "cell_type": "code",
   "execution_count": 3,
   "metadata": {},
   "outputs": [],
   "source": [
    "p_dir = (Path().cwd().parents[0]).absolute()\n",
    "data_dir = (Path().cwd().parents[0] / 'data').absolute()\n",
    "\n",
    "module_path = str(p_dir / \"src\")\n",
    " \n",
    "if module_path not in sys.path:\n",
    "    sys.path.append(module_path)"
   ]
  },
  {
   "cell_type": "code",
   "execution_count": 4,
   "metadata": {},
   "outputs": [],
   "source": [
    "df_imgs_path = data_dir / 'Navincin'  /'metadata' / 'imgs_reg.csv'\n",
    "df_imgs = pd.read_csv(df_imgs_path)"
   ]
  },
  {
   "cell_type": "markdown",
   "metadata": {},
   "source": [
    "# Generate scatter plot"
   ]
  },
  {
   "cell_type": "code",
   "execution_count": 5,
   "metadata": {},
   "outputs": [],
   "source": [
    "import napari \n",
    "\n",
    "# remove first and last consecutive zeros along dimension\n",
    "def removeFirstAndLast(zeroArray):\n",
    "    \n",
    "    # remove first\n",
    "    for ii, val in enumerate(zeroArray):\n",
    "        if np.sum(zeroArray[:ii + 1]) != ii + 1: # all consecutive trues\n",
    "            break # exit loop\n",
    "            \n",
    "        else:\n",
    "            lowest = ii # index of last of the first consecutive zeros\n",
    "            \n",
    "    # remove last\n",
    "    for ii, val in enumerate(np.flip(zeroArray)):\n",
    "        if np.sum(zeroArray[:ii + 1]) != ii + 1: # all consecutive trues\n",
    "            break # exit loop\n",
    "            \n",
    "        else:\n",
    "            highest = len(zeroArray) - ii # index of first of the last consecutive zeros            \n",
    "    \n",
    "    return (lowest, highest)\n",
    "\n",
    "# remove black borders from napari screenshot (2D image)\n",
    "def removeBorders(RGB):\n",
    "    rowMin = []\n",
    "    rowMax = []\n",
    "    colMin = []\n",
    "    colMax = []\n",
    "    for jj in range(3): # each RGB\n",
    "        \n",
    "        img = RGB[:, :, jj]\n",
    "        # find first and last rows and cols of all zeros\n",
    "        # remove any rows of zeros\n",
    "        zeroRows = np.all(img == 0, axis = 1)\n",
    "        zeroCols = np.all(img == 0, axis = 0)\n",
    "\n",
    "        posRows = removeFirstAndLast(zeroRows)\n",
    "        posCols = removeFirstAndLast(zeroCols)            \n",
    "        \n",
    "        rowMin.append(posRows[0])\n",
    "        rowMax.append(posRows[1])\n",
    "        colMin.append(posCols[0])\n",
    "        colMax.append(posCols[1])\n",
    "        \n",
    "    # make sure border signal is not cut out\n",
    "    rowMin = np.min(rowMin)\n",
    "    rowMax = np.max(rowMax)\n",
    "    colMin = np.min(colMin)\n",
    "    colMax = np.max(colMax)\n",
    "        \n",
    "    cropped = RGB[rowMin: rowMax, colMin: colMax, :] \n",
    "    \n",
    "    return cropped\n",
    "\n",
    "def get_loc_ppi(df, Condition, FOV, x_min, y_min, x_max, y_max, PPI_name):\n",
    "    df_ppi = df[(df.Condition == Condition) & (df.FOV == FOV)]\n",
    "    df_ppi = df_ppi[df_ppi.PPI == PPI_name]\n",
    "    df_ppi = df_ppi[(df_ppi.column > x_min) & (df_ppi.column < x_max) \n",
    "                    & (df_ppi.row > y_min) & (df_ppi.row < y_max)] \n",
    "    df_ppi = df_ppi[df_ppi.Cyto!=0]\n",
    "    points = df_ppi[['row', 'column']].to_numpy()\n",
    "    points = points - np.array([y_min, x_min])\n",
    "    return points"
   ]
  },
  {
   "cell_type": "code",
   "execution_count": 6,
   "metadata": {},
   "outputs": [
    {
     "data": {
      "text/html": [
       "<div>\n",
       "<style scoped>\n",
       "    .dataframe tbody tr th:only-of-type {\n",
       "        vertical-align: middle;\n",
       "    }\n",
       "\n",
       "    .dataframe tbody tr th {\n",
       "        vertical-align: top;\n",
       "    }\n",
       "\n",
       "    .dataframe thead th {\n",
       "        text-align: right;\n",
       "    }\n",
       "</style>\n",
       "<table border=\"1\" class=\"dataframe\">\n",
       "  <thead>\n",
       "    <tr style=\"text-align: right;\">\n",
       "      <th></th>\n",
       "      <th>Condition</th>\n",
       "      <th>FOV</th>\n",
       "      <th>Path</th>\n",
       "    </tr>\n",
       "  </thead>\n",
       "  <tbody>\n",
       "    <tr>\n",
       "      <th>0</th>\n",
       "      <td>O</td>\n",
       "      <td>FW1</td>\n",
       "      <td>y:\\coskun-lab\\Thomas\\23_PLA_revision\\data\\Navi...</td>\n",
       "    </tr>\n",
       "    <tr>\n",
       "      <th>1</th>\n",
       "      <td>ctrl</td>\n",
       "      <td>FW1</td>\n",
       "      <td>y:\\coskun-lab\\Thomas\\23_PLA_revision\\data\\Navi...</td>\n",
       "    </tr>\n",
       "  </tbody>\n",
       "</table>\n",
       "</div>"
      ],
      "text/plain": [
       "  Condition  FOV                                               Path\n",
       "0         O  FW1  y:\\coskun-lab\\Thomas\\23_PLA_revision\\data\\Navi...\n",
       "1      ctrl  FW1  y:\\coskun-lab\\Thomas\\23_PLA_revision\\data\\Navi..."
      ]
     },
     "execution_count": 6,
     "metadata": {},
     "output_type": "execute_result"
    }
   ],
   "source": [
    "df_imgs"
   ]
  },
  {
   "cell_type": "code",
   "execution_count": 7,
   "metadata": {},
   "outputs": [],
   "source": [
    "# Read PPI\n",
    "PPI_save_path = data_dir / 'Navincin' / 'PPI'\n",
    "\n",
    "dfs = []\n",
    "for path in os.listdir(PPI_save_path):\n",
    "    if 'csv' in path:\n",
    "        df = pd.read_csv(PPI_save_path / path)\n",
    "        dfs.append(df)\n",
    "\n",
    "df = pd.concat(dfs)\n",
    "\n",
    "# Read masks \n",
    "masks_folder = data_dir / 'Navincin' / 'imgs' / 'masks_filtered'"
   ]
  },
  {
   "cell_type": "code",
   "execution_count": 8,
   "metadata": {},
   "outputs": [
    {
     "data": {
      "text/plain": [
       "array(['sox/oct4', 'b-catenin/e-cadherin', 'Cdc25c/p38', 'pyk2/src',\n",
       "       'p-Jak2/Stat3'], dtype=object)"
      ]
     },
     "execution_count": 8,
     "metadata": {},
     "output_type": "execute_result"
    }
   ],
   "source": [
    "df.PPI.unique()"
   ]
  },
  {
   "cell_type": "code",
   "execution_count": 9,
   "metadata": {},
   "outputs": [],
   "source": [
    "PPI_cycles = [['sox/oct4'], [ 'b-catenin/e-cadherin'], ['Cdc25c/p38'], [ 'pyk2/src'], ['p-Jak2/Stat3']]"
   ]
  },
  {
   "cell_type": "code",
   "execution_count": 10,
   "metadata": {},
   "outputs": [],
   "source": [
    "df.columns = ['Cyto', 'row', 'column',  'PPI', 'Nuclei', 'Nuclei_Cell', 'Condition', 'FOV']\n"
   ]
  },
  {
   "cell_type": "markdown",
   "metadata": {},
   "source": [
    "## Drug treated"
   ]
  },
  {
   "cell_type": "code",
   "execution_count": 11,
   "metadata": {},
   "outputs": [
    {
     "name": "stdout",
     "output_type": "stream",
     "text": [
      "Condition                                                    O\n",
      "FOV                                                        FW1\n",
      "Path         y:\\coskun-lab\\Thomas\\23_PLA_revision\\data\\Navi...\n",
      "Name: 0, dtype: object\n"
     ]
    }
   ],
   "source": [
    "# Get images\n",
    "index = 0\n",
    "row = df_imgs.iloc[index]\n",
    "print(row)\n",
    "path = row.Path\n",
    "\n",
    "with h5py.File(path, 'r') as f:\n",
    "    imgs = f['imgs'][:]\n",
    "    markers = f['imgs'].attrs['Marker']\n",
    "\n",
    "mask_path = masks_folder / f'Cell_{row.Condition}_{row.FOV}.tif'\n",
    "mask = skimage.io.imread(mask_path)"
   ]
  },
  {
   "cell_type": "code",
   "execution_count": 12,
   "metadata": {},
   "outputs": [],
   "source": [
    "\n",
    "image_dir = (Path().cwd().parents[0] / 'figures').absolute() / 'PLA_scatter'\n",
    "image_dir.mkdir(parents=True, exist_ok=True)\n",
    "\n",
    "# Define matching bbox to figures\n",
    "x_min, y_min = 5426,2545\n",
    "x_max, y_max = 5921,2974\n",
    "\n",
    "DAPI_ch = 0"
   ]
  },
  {
   "cell_type": "code",
   "execution_count": 13,
   "metadata": {},
   "outputs": [
    {
     "name": "stderr",
     "output_type": "stream",
     "text": [
      "C:\\Users\\thu71\\AppData\\Local\\Temp\\ipykernel_15408\\353875652.py:22: DeprecationWarning: <tifffile.imsave> is deprecated. Use tifffile.imwrite\n",
      "  tiff.imsave(image_dir / f'Navinchi_O_{i}.tif', removeBorders(screenshot))\n",
      "C:\\Users\\thu71\\AppData\\Local\\Temp\\ipykernel_15408\\353875652.py:22: DeprecationWarning: <tifffile.imsave> is deprecated. Use tifffile.imwrite\n",
      "  tiff.imsave(image_dir / f'Navinchi_O_{i}.tif', removeBorders(screenshot))\n",
      "C:\\Users\\thu71\\AppData\\Local\\Temp\\ipykernel_15408\\353875652.py:22: DeprecationWarning: <tifffile.imsave> is deprecated. Use tifffile.imwrite\n",
      "  tiff.imsave(image_dir / f'Navinchi_O_{i}.tif', removeBorders(screenshot))\n",
      "C:\\Users\\thu71\\AppData\\Local\\Temp\\ipykernel_15408\\353875652.py:22: DeprecationWarning: <tifffile.imsave> is deprecated. Use tifffile.imwrite\n",
      "  tiff.imsave(image_dir / f'Navinchi_O_{i}.tif', removeBorders(screenshot))\n",
      "C:\\Users\\thu71\\AppData\\Local\\Temp\\ipykernel_15408\\353875652.py:22: DeprecationWarning: <tifffile.imsave> is deprecated. Use tifffile.imwrite\n",
      "  tiff.imsave(image_dir / f'Navinchi_O_{i}.tif', removeBorders(screenshot))\n"
     ]
    }
   ],
   "source": [
    "# Get DAPI image\n",
    "dapiImg = imgs[0, y_min:y_max, x_min:x_max]\n",
    "mask_id = np.unique(mask[y_min:y_max, x_min:x_max])\n",
    "color = {i: 'white' for i in mask_id if i != 0}\n",
    "\n",
    "colors = ['magenta', 'Lime']\n",
    "# Get ppi location\n",
    "for i, PPI_names in enumerate(PPI_cycles):\n",
    "    points = [get_loc_ppi(df, row.Condition, row.FOV, x_min, y_min, x_max, y_max, PPI_name) for PPI_name in PPI_names]\n",
    "\n",
    "    # Napari viewer\n",
    "    viewer = napari.view_image(dapiImg, colormap='cyan', contrast_limits=[0,200])\n",
    "    label = viewer.add_labels(mask[y_min:y_max, x_min:x_max], color=color, opacity=0.9)\n",
    "    label.contour = 2\n",
    "    for j, point in enumerate(points):\n",
    "        points_layer = viewer.add_points(point, size=6,face_color=colors[j], opacity=0.9)\n",
    "    \n",
    "    # Get screenshot\n",
    "    screenshot = viewer.screenshot(size=np.array(dapiImg.shape)*2)\n",
    "    viewer.close()\n",
    "    # Save image\n",
    "    tiff.imsave(image_dir / f'Navinchi_O_{i}.tif', removeBorders(screenshot))\n"
   ]
  },
  {
   "cell_type": "markdown",
   "metadata": {},
   "source": [
    "## Control"
   ]
  },
  {
   "cell_type": "code",
   "execution_count": 14,
   "metadata": {},
   "outputs": [
    {
     "name": "stdout",
     "output_type": "stream",
     "text": [
      "Condition                                                 ctrl\n",
      "FOV                                                        FW1\n",
      "Path         y:\\coskun-lab\\Thomas\\23_PLA_revision\\data\\Navi...\n",
      "Name: 1, dtype: object\n"
     ]
    }
   ],
   "source": [
    "# Get images\n",
    "index = 1\n",
    "row = df_imgs.iloc[index]\n",
    "print(row)\n",
    "path = row.Path\n",
    "\n",
    "with h5py.File(path, 'r') as f:\n",
    "    imgs = f['imgs'][:]\n",
    "    markers = f['imgs'].attrs['Marker']\n",
    "\n",
    "mask_path = masks_folder / f'Cell_{row.Condition}_{row.FOV}.tif'\n",
    "mask = skimage.io.imread(mask_path)"
   ]
  },
  {
   "cell_type": "code",
   "execution_count": 15,
   "metadata": {},
   "outputs": [],
   "source": [
    "\n",
    "image_dir = (Path().cwd().parents[0] / 'figures').absolute() / 'PLA_scatter'\n",
    "image_dir.mkdir(parents=True, exist_ok=True)\n",
    "\n",
    "# Define matching bbox to figures\n",
    "x_min, y_min = 2795,2139\n",
    "x_max, y_max = 3314,2710\n",
    "\n",
    "DAPI_ch = 0"
   ]
  },
  {
   "cell_type": "code",
   "execution_count": 16,
   "metadata": {},
   "outputs": [
    {
     "name": "stderr",
     "output_type": "stream",
     "text": [
      "C:\\Users\\thu71\\AppData\\Local\\Temp\\ipykernel_15408\\3208519087.py:22: DeprecationWarning: <tifffile.imsave> is deprecated. Use tifffile.imwrite\n",
      "  tiff.imsave(image_dir / f'Navinchi_ctrl_{i}.tif', removeBorders(screenshot))\n",
      "C:\\Users\\thu71\\AppData\\Local\\Temp\\ipykernel_15408\\3208519087.py:22: DeprecationWarning: <tifffile.imsave> is deprecated. Use tifffile.imwrite\n",
      "  tiff.imsave(image_dir / f'Navinchi_ctrl_{i}.tif', removeBorders(screenshot))\n",
      "C:\\Users\\thu71\\AppData\\Local\\Temp\\ipykernel_15408\\3208519087.py:22: DeprecationWarning: <tifffile.imsave> is deprecated. Use tifffile.imwrite\n",
      "  tiff.imsave(image_dir / f'Navinchi_ctrl_{i}.tif', removeBorders(screenshot))\n",
      "C:\\Users\\thu71\\AppData\\Local\\Temp\\ipykernel_15408\\3208519087.py:22: DeprecationWarning: <tifffile.imsave> is deprecated. Use tifffile.imwrite\n",
      "  tiff.imsave(image_dir / f'Navinchi_ctrl_{i}.tif', removeBorders(screenshot))\n",
      "C:\\Users\\thu71\\AppData\\Local\\Temp\\ipykernel_15408\\3208519087.py:22: DeprecationWarning: <tifffile.imsave> is deprecated. Use tifffile.imwrite\n",
      "  tiff.imsave(image_dir / f'Navinchi_ctrl_{i}.tif', removeBorders(screenshot))\n"
     ]
    }
   ],
   "source": [
    "# Get DAPI image\n",
    "dapiImg = imgs[0, y_min:y_max, x_min:x_max]\n",
    "mask_id = np.unique(mask[y_min:y_max, x_min:x_max])\n",
    "color = {i: 'white' for i in mask_id if i != 0}\n",
    "\n",
    "colors = ['magenta', 'Lime']\n",
    "# Get ppi location\n",
    "for i, PPI_names in enumerate(PPI_cycles):\n",
    "    points = [get_loc_ppi(df, row.Condition, row.FOV, x_min, y_min, x_max, y_max, PPI_name) for PPI_name in PPI_names]\n",
    "\n",
    "    # Napari viewer\n",
    "    viewer = napari.view_image(dapiImg, colormap='cyan', contrast_limits=[0,200])\n",
    "    label = viewer.add_labels(mask[y_min:y_max, x_min:x_max], color=color, opacity=0.9)\n",
    "    label.contour = 2\n",
    "    for j, point in enumerate(points):\n",
    "            points_layer = viewer.add_points(point, size=6,face_color=colors[j], opacity=0.9)\n",
    "            \n",
    "    # Get screenshot\n",
    "    screenshot = viewer.screenshot(size=np.array(dapiImg.shape)*2)\n",
    "    viewer.close()\n",
    "    # Save image\n",
    "    tiff.imsave(image_dir / f'Navinchi_ctrl_{i}.tif', removeBorders(screenshot))\n"
   ]
  },
  {
   "cell_type": "markdown",
   "metadata": {},
   "source": [
    "# Quantification"
   ]
  },
  {
   "cell_type": "code",
   "execution_count": 5,
   "metadata": {},
   "outputs": [],
   "source": [
    "# Read PPI\n",
    "PPI_save_path =  data_dir / 'Navincin' / 'PPI'\n",
    "\n",
    "dfs = []\n",
    "for path in os.listdir(PPI_save_path):\n",
    "    if 'csv' in path:\n",
    "        df = pd.read_csv(PPI_save_path / path)\n",
    "        dfs.append(df)\n",
    "\n",
    "df = pd.concat(dfs)\n",
    "\n",
    "# Get nuclei and cell count\n",
    "g = df.groupby(['Condition', 'FOV', 'PPI', 'Cyto']).size()\n",
    "df_cell = pd.DataFrame({'Count Cyto': g}).reset_index()\n",
    "df_cell = df_cell[df_cell.Cyto != 0]\n",
    "df_cell.columns = ['Condition', 'FOV', 'PPI', 'Id', 'Count_cell']\n",
    "df_cell = (df_cell.pivot_table(values='Count_cell', columns='PPI', index=['Condition', 'FOV','Id'])\n",
    ".fillna(0)\n",
    ".reset_index()\n",
    ".melt(id_vars=['Condition', 'FOV','Id'], value_name='Count_cell', var_name='PPI')\n",
    ")\n",
    "\n",
    "g = df.groupby(['Condition', 'FOV', 'PPI', 'Nuclei_Cell']).size()\n",
    "df_nuclei = pd.DataFrame({'Count Nuclei': g}).reset_index()\n",
    "df_nuclei.columns = ['Condition', 'FOV', 'PPI', 'Nuclei', 'Count Nuclei']\n",
    "df_nuclei= df_nuclei[df_nuclei.Nuclei != 0]\n",
    "df_nuclei.columns = ['Condition', 'FOV', 'PPI', 'Id', 'Count_nuclei']\n",
    "df_nuclei = (df_nuclei.pivot_table(values='Count_nuclei', columns='PPI', index=['Condition', 'FOV','Id'])\n",
    ".fillna(0)\n",
    ".reset_index()\n",
    ".melt(id_vars=['Condition', 'FOV','Id'], value_name='Count_nuclei', var_name='PPI')\n",
    ")\n",
    "\n",
    "# Combine count\n",
    "df_all = df_cell.merge(df_nuclei, how='left', on=['Condition', 'FOV', 'PPI', 'Id']).fillna(0)\n",
    "df_all.loc[df_all['Count_cell'] < df_all['Count_nuclei'],'Count_cell'] = df_all.loc[df_all['Count_cell'] < df_all['Count_nuclei']]['Count_nuclei']\n",
    "df_all['Count_nuclei'] = df_all['Count_nuclei'].astype(int)\n",
    "df_all['Count_cyto'] = df_all['Count_cell'] - df_all['Count_nuclei']"
   ]
  },
  {
   "cell_type": "code",
   "execution_count": 6,
   "metadata": {},
   "outputs": [
    {
     "data": {
      "text/html": [
       "<div>\n",
       "<style scoped>\n",
       "    .dataframe tbody tr th:only-of-type {\n",
       "        vertical-align: middle;\n",
       "    }\n",
       "\n",
       "    .dataframe tbody tr th {\n",
       "        vertical-align: top;\n",
       "    }\n",
       "\n",
       "    .dataframe thead th {\n",
       "        text-align: right;\n",
       "    }\n",
       "</style>\n",
       "<table border=\"1\" class=\"dataframe\">\n",
       "  <thead>\n",
       "    <tr style=\"text-align: right;\">\n",
       "      <th></th>\n",
       "      <th></th>\n",
       "      <th>count</th>\n",
       "      <th>mean</th>\n",
       "      <th>std</th>\n",
       "      <th>min</th>\n",
       "      <th>25%</th>\n",
       "      <th>50%</th>\n",
       "      <th>75%</th>\n",
       "      <th>max</th>\n",
       "    </tr>\n",
       "    <tr>\n",
       "      <th>Condition</th>\n",
       "      <th>PPI</th>\n",
       "      <th></th>\n",
       "      <th></th>\n",
       "      <th></th>\n",
       "      <th></th>\n",
       "      <th></th>\n",
       "      <th></th>\n",
       "      <th></th>\n",
       "      <th></th>\n",
       "    </tr>\n",
       "  </thead>\n",
       "  <tbody>\n",
       "    <tr>\n",
       "      <th rowspan=\"5\" valign=\"top\">O</th>\n",
       "      <th>Cdc25c/p38</th>\n",
       "      <td>591.0</td>\n",
       "      <td>279.084602</td>\n",
       "      <td>121.362182</td>\n",
       "      <td>55.0</td>\n",
       "      <td>194.5</td>\n",
       "      <td>256.0</td>\n",
       "      <td>342.50</td>\n",
       "      <td>988.0</td>\n",
       "    </tr>\n",
       "    <tr>\n",
       "      <th>b-catenin/e-cadherin</th>\n",
       "      <td>591.0</td>\n",
       "      <td>1.306261</td>\n",
       "      <td>2.539707</td>\n",
       "      <td>0.0</td>\n",
       "      <td>0.0</td>\n",
       "      <td>0.0</td>\n",
       "      <td>2.00</td>\n",
       "      <td>19.0</td>\n",
       "    </tr>\n",
       "    <tr>\n",
       "      <th>p-Jak2/Stat3</th>\n",
       "      <td>591.0</td>\n",
       "      <td>182.431472</td>\n",
       "      <td>79.829617</td>\n",
       "      <td>36.0</td>\n",
       "      <td>126.0</td>\n",
       "      <td>168.0</td>\n",
       "      <td>216.00</td>\n",
       "      <td>576.0</td>\n",
       "    </tr>\n",
       "    <tr>\n",
       "      <th>pyk2/src</th>\n",
       "      <td>591.0</td>\n",
       "      <td>184.541455</td>\n",
       "      <td>79.066639</td>\n",
       "      <td>47.0</td>\n",
       "      <td>130.0</td>\n",
       "      <td>169.0</td>\n",
       "      <td>221.50</td>\n",
       "      <td>594.0</td>\n",
       "    </tr>\n",
       "    <tr>\n",
       "      <th>sox/oct4</th>\n",
       "      <td>591.0</td>\n",
       "      <td>26.116751</td>\n",
       "      <td>12.759373</td>\n",
       "      <td>0.0</td>\n",
       "      <td>18.0</td>\n",
       "      <td>24.0</td>\n",
       "      <td>32.00</td>\n",
       "      <td>130.0</td>\n",
       "    </tr>\n",
       "    <tr>\n",
       "      <th rowspan=\"5\" valign=\"top\">ctrl</th>\n",
       "      <th>Cdc25c/p38</th>\n",
       "      <td>754.0</td>\n",
       "      <td>161.728117</td>\n",
       "      <td>82.425106</td>\n",
       "      <td>16.0</td>\n",
       "      <td>111.0</td>\n",
       "      <td>149.5</td>\n",
       "      <td>190.00</td>\n",
       "      <td>867.0</td>\n",
       "    </tr>\n",
       "    <tr>\n",
       "      <th>b-catenin/e-cadherin</th>\n",
       "      <td>754.0</td>\n",
       "      <td>4.363395</td>\n",
       "      <td>5.128421</td>\n",
       "      <td>0.0</td>\n",
       "      <td>1.0</td>\n",
       "      <td>3.0</td>\n",
       "      <td>6.00</td>\n",
       "      <td>46.0</td>\n",
       "    </tr>\n",
       "    <tr>\n",
       "      <th>p-Jak2/Stat3</th>\n",
       "      <td>754.0</td>\n",
       "      <td>129.151194</td>\n",
       "      <td>67.386999</td>\n",
       "      <td>11.0</td>\n",
       "      <td>90.0</td>\n",
       "      <td>118.5</td>\n",
       "      <td>151.00</td>\n",
       "      <td>774.0</td>\n",
       "    </tr>\n",
       "    <tr>\n",
       "      <th>pyk2/src</th>\n",
       "      <td>754.0</td>\n",
       "      <td>104.563660</td>\n",
       "      <td>56.041194</td>\n",
       "      <td>4.0</td>\n",
       "      <td>72.0</td>\n",
       "      <td>93.0</td>\n",
       "      <td>121.75</td>\n",
       "      <td>651.0</td>\n",
       "    </tr>\n",
       "    <tr>\n",
       "      <th>sox/oct4</th>\n",
       "      <td>754.0</td>\n",
       "      <td>66.907162</td>\n",
       "      <td>36.082492</td>\n",
       "      <td>9.0</td>\n",
       "      <td>46.0</td>\n",
       "      <td>61.0</td>\n",
       "      <td>79.00</td>\n",
       "      <td>439.0</td>\n",
       "    </tr>\n",
       "  </tbody>\n",
       "</table>\n",
       "</div>"
      ],
      "text/plain": [
       "                                count        mean         std   min    25%  \\\n",
       "Condition PPI                                                                \n",
       "O         Cdc25c/p38            591.0  279.084602  121.362182  55.0  194.5   \n",
       "          b-catenin/e-cadherin  591.0    1.306261    2.539707   0.0    0.0   \n",
       "          p-Jak2/Stat3          591.0  182.431472   79.829617  36.0  126.0   \n",
       "          pyk2/src              591.0  184.541455   79.066639  47.0  130.0   \n",
       "          sox/oct4              591.0   26.116751   12.759373   0.0   18.0   \n",
       "ctrl      Cdc25c/p38            754.0  161.728117   82.425106  16.0  111.0   \n",
       "          b-catenin/e-cadherin  754.0    4.363395    5.128421   0.0    1.0   \n",
       "          p-Jak2/Stat3          754.0  129.151194   67.386999  11.0   90.0   \n",
       "          pyk2/src              754.0  104.563660   56.041194   4.0   72.0   \n",
       "          sox/oct4              754.0   66.907162   36.082492   9.0   46.0   \n",
       "\n",
       "                                  50%     75%    max  \n",
       "Condition PPI                                         \n",
       "O         Cdc25c/p38            256.0  342.50  988.0  \n",
       "          b-catenin/e-cadherin    0.0    2.00   19.0  \n",
       "          p-Jak2/Stat3          168.0  216.00  576.0  \n",
       "          pyk2/src              169.0  221.50  594.0  \n",
       "          sox/oct4               24.0   32.00  130.0  \n",
       "ctrl      Cdc25c/p38            149.5  190.00  867.0  \n",
       "          b-catenin/e-cadherin    3.0    6.00   46.0  \n",
       "          p-Jak2/Stat3          118.5  151.00  774.0  \n",
       "          pyk2/src               93.0  121.75  651.0  \n",
       "          sox/oct4               61.0   79.00  439.0  "
      ]
     },
     "execution_count": 6,
     "metadata": {},
     "output_type": "execute_result"
    }
   ],
   "source": [
    "# Describe statistics\n",
    "df_all.groupby(['Condition', 'PPI'])['Count_cell'].describe()"
   ]
  },
  {
   "cell_type": "code",
   "execution_count": 7,
   "metadata": {},
   "outputs": [
    {
     "name": "stderr",
     "output_type": "stream",
     "text": [
      "C:\\Users\\thu71\\AppData\\Local\\Temp\\ipykernel_181204\\3521185068.py:7: FutureWarning: The default value of numeric_only in DataFrameGroupBy.sum is deprecated. In a future version, numeric_only will default to False. Either specify numeric_only or select only columns which should be valid for the function.\n",
      "  df_all.groupby(['Condition', 'FOV', 'Id']).sum().describe()\n"
     ]
    },
    {
     "data": {
      "text/html": [
       "<div>\n",
       "<style scoped>\n",
       "    .dataframe tbody tr th:only-of-type {\n",
       "        vertical-align: middle;\n",
       "    }\n",
       "\n",
       "    .dataframe tbody tr th {\n",
       "        vertical-align: top;\n",
       "    }\n",
       "\n",
       "    .dataframe thead th {\n",
       "        text-align: right;\n",
       "    }\n",
       "</style>\n",
       "<table border=\"1\" class=\"dataframe\">\n",
       "  <thead>\n",
       "    <tr style=\"text-align: right;\">\n",
       "      <th></th>\n",
       "      <th>Count_cell</th>\n",
       "      <th>Count_nuclei</th>\n",
       "      <th>Count_cyto</th>\n",
       "    </tr>\n",
       "  </thead>\n",
       "  <tbody>\n",
       "    <tr>\n",
       "      <th>count</th>\n",
       "      <td>1248.000000</td>\n",
       "      <td>1248.000000</td>\n",
       "      <td>1248.000000</td>\n",
       "    </tr>\n",
       "    <tr>\n",
       "      <th>mean</th>\n",
       "      <td>505.909455</td>\n",
       "      <td>185.321314</td>\n",
       "      <td>320.588141</td>\n",
       "    </tr>\n",
       "    <tr>\n",
       "      <th>std</th>\n",
       "      <td>190.244937</td>\n",
       "      <td>71.837215</td>\n",
       "      <td>156.552561</td>\n",
       "    </tr>\n",
       "    <tr>\n",
       "      <th>min</th>\n",
       "      <td>47.000000</td>\n",
       "      <td>0.000000</td>\n",
       "      <td>46.000000</td>\n",
       "    </tr>\n",
       "    <tr>\n",
       "      <th>25%</th>\n",
       "      <td>372.000000</td>\n",
       "      <td>143.000000</td>\n",
       "      <td>206.750000</td>\n",
       "    </tr>\n",
       "    <tr>\n",
       "      <th>50%</th>\n",
       "      <td>476.000000</td>\n",
       "      <td>183.000000</td>\n",
       "      <td>287.000000</td>\n",
       "    </tr>\n",
       "    <tr>\n",
       "      <th>75%</th>\n",
       "      <td>620.250000</td>\n",
       "      <td>222.000000</td>\n",
       "      <td>403.000000</td>\n",
       "    </tr>\n",
       "    <tr>\n",
       "      <th>max</th>\n",
       "      <td>1176.000000</td>\n",
       "      <td>623.000000</td>\n",
       "      <td>980.000000</td>\n",
       "    </tr>\n",
       "  </tbody>\n",
       "</table>\n",
       "</div>"
      ],
      "text/plain": [
       "        Count_cell  Count_nuclei   Count_cyto\n",
       "count  1248.000000   1248.000000  1248.000000\n",
       "mean    505.909455    185.321314   320.588141\n",
       "std     190.244937     71.837215   156.552561\n",
       "min      47.000000      0.000000    46.000000\n",
       "25%     372.000000    143.000000   206.750000\n",
       "50%     476.000000    183.000000   287.000000\n",
       "75%     620.250000    222.000000   403.000000\n",
       "max    1176.000000    623.000000   980.000000"
      ]
     },
     "execution_count": 7,
     "metadata": {},
     "output_type": "execute_result"
    }
   ],
   "source": [
    "# Filter out by maximum number of counts per cell\n",
    "min_count = 0\n",
    "max_count = 400\n",
    "\n",
    "df_all = df_all.groupby(['Condition', 'FOV', 'Id']).filter(lambda x: x['Count_cell'].sum() > min_count)\n",
    "df_all = df_all.groupby(['Condition', 'FOV', 'Id']).filter(lambda x: (x['Count_cell'] < max_count).all())\n",
    "df_all.groupby(['Condition', 'FOV', 'Id']).sum().describe()"
   ]
  },
  {
   "cell_type": "code",
   "execution_count": 8,
   "metadata": {},
   "outputs": [],
   "source": [
    "# Describe statistics\n",
    "df_all.groupby(['Condition', 'PPI'])['Count_cell'].describe().to_clipboard()"
   ]
  },
  {
   "cell_type": "markdown",
   "metadata": {},
   "source": [
    "## Comparison between condition"
   ]
  },
  {
   "cell_type": "code",
   "execution_count": 9,
   "metadata": {},
   "outputs": [],
   "source": [
    "from statannotations.Annotator import Annotator\n",
    "import seaborn as sns"
   ]
  },
  {
   "cell_type": "code",
   "execution_count": 10,
   "metadata": {},
   "outputs": [],
   "source": [
    "from statannotations.Annotator import Annotator\n",
    "import seaborn as sns \n",
    "\n",
    "def plot(plotting, figsize=(15,7), y_title='Count PPI per cell'):\n",
    "    c1, c2 = plotting['data'][plotting['hue']].unique()\n",
    "    pairs = [((e, c1), (e, c2)) for e in plotting['data'][plotting['x']].unique()]\n",
    "\n",
    "    with sns.plotting_context('talk', font_scale=1.5):\n",
    "        fig, ax = plt.subplots(figsize=figsize)\n",
    "        ax = sns.boxplot(**plotting, showfliers=False, ax=ax)\n",
    "        # ax = sns.swarmplot(**plotting, ax=ax, dodge=True)\n",
    "        annot = Annotator(ax, pairs, **plotting)\n",
    "        annot.configure(test='Mann-Whitney',  text_format='star', loc='outside', show_test_name=False)\n",
    "        result = annot.apply_test().annotate()\n",
    "        ax.set_ylabel(y_title, fontsize=40)\n",
    "        plt.xticks(rotation=30, ha='right')\n",
    "        plt.legend(bbox_to_anchor=(1.05, 1), loc='upper left', borderaxespad=0)"
   ]
  },
  {
   "cell_type": "code",
   "execution_count": 11,
   "metadata": {},
   "outputs": [
    {
     "name": "stdout",
     "output_type": "stream",
     "text": [
      "p-value annotation legend:\n",
      "      ns: 5.00e-02 < p <= 1.00e+00\n",
      "       *: 1.00e-02 < p <= 5.00e-02\n",
      "      **: 1.00e-03 < p <= 1.00e-02\n",
      "     ***: 1.00e-04 < p <= 1.00e-03\n",
      "    ****: p <= 1.00e-04\n",
      "\n",
      "p-Jak2/Stat3_O vs. p-Jak2/Stat3_ctrl: Mann-Whitney-Wilcoxon test two-sided, P_val:2.898e-35 U_stat=2.652e+05\n",
      "Cdc25c/p38_O vs. Cdc25c/p38_ctrl: Mann-Whitney-Wilcoxon test two-sided, P_val:2.070e-77 U_stat=3.041e+05\n",
      "pyk2/src_O vs. pyk2/src_ctrl: Mann-Whitney-Wilcoxon test two-sided, P_val:9.758e-90 U_stat=3.133e+05\n",
      "sox/oct4_O vs. sox/oct4_ctrl: Mann-Whitney-Wilcoxon test two-sided, P_val:3.922e-166 U_stat=1.602e+04\n"
     ]
    },
    {
     "data": {
      "image/png": "[encoded data removed]",
      "text/plain": [
       "<Figure size 1500x700 with 1 Axes>"
      ]
     },
     "metadata": {},
     "output_type": "display_data"
    }
   ],
   "source": [
    "# Boxplot per cell\n",
    "plotting = {\n",
    "    \"data\": df_all[~df_all.PPI.isin(['b-catenin/e-cadherin'])],\n",
    "    \"x\": \"PPI\",\n",
    "    \"y\": \"Count_cell\",\n",
    "    \"hue\": \"Condition\"\n",
    "}\n",
    "\n",
    "df_all['Condition'] = df_all['Condition'].apply(lambda x: {'ctrl': 'Control', 'O': 'Treated'}.get(x, x))\n",
    "df_all['Condition'].unique()\n",
    "\n",
    "plot(plotting)"
   ]
  },
  {
   "cell_type": "code",
   "execution_count": 12,
   "metadata": {},
   "outputs": [
    {
     "data": {
      "text/html": [
       "<div>\n",
       "<style scoped>\n",
       "    .dataframe tbody tr th:only-of-type {\n",
       "        vertical-align: middle;\n",
       "    }\n",
       "\n",
       "    .dataframe tbody tr th {\n",
       "        vertical-align: top;\n",
       "    }\n",
       "\n",
       "    .dataframe thead th {\n",
       "        text-align: right;\n",
       "    }\n",
       "</style>\n",
       "<table border=\"1\" class=\"dataframe\">\n",
       "  <thead>\n",
       "    <tr style=\"text-align: right;\">\n",
       "      <th></th>\n",
       "      <th>Condition</th>\n",
       "      <th>FOV</th>\n",
       "      <th>Id</th>\n",
       "      <th>PPI</th>\n",
       "      <th>Count_cell</th>\n",
       "      <th>Count_nuclei</th>\n",
       "      <th>Count_cyto</th>\n",
       "    </tr>\n",
       "  </thead>\n",
       "  <tbody>\n",
       "    <tr>\n",
       "      <th>0</th>\n",
       "      <td>Treated</td>\n",
       "      <td>FW1</td>\n",
       "      <td>38</td>\n",
       "      <td>Cdc25c/p38</td>\n",
       "      <td>180.0</td>\n",
       "      <td>0</td>\n",
       "      <td>180.0</td>\n",
       "    </tr>\n",
       "    <tr>\n",
       "      <th>1</th>\n",
       "      <td>Treated</td>\n",
       "      <td>FW1</td>\n",
       "      <td>39</td>\n",
       "      <td>Cdc25c/p38</td>\n",
       "      <td>180.0</td>\n",
       "      <td>62</td>\n",
       "      <td>118.0</td>\n",
       "    </tr>\n",
       "    <tr>\n",
       "      <th>3</th>\n",
       "      <td>Treated</td>\n",
       "      <td>FW1</td>\n",
       "      <td>41</td>\n",
       "      <td>Cdc25c/p38</td>\n",
       "      <td>146.0</td>\n",
       "      <td>37</td>\n",
       "      <td>109.0</td>\n",
       "    </tr>\n",
       "    <tr>\n",
       "      <th>4</th>\n",
       "      <td>Treated</td>\n",
       "      <td>FW1</td>\n",
       "      <td>42</td>\n",
       "      <td>Cdc25c/p38</td>\n",
       "      <td>362.0</td>\n",
       "      <td>170</td>\n",
       "      <td>192.0</td>\n",
       "    </tr>\n",
       "    <tr>\n",
       "      <th>5</th>\n",
       "      <td>Treated</td>\n",
       "      <td>FW1</td>\n",
       "      <td>43</td>\n",
       "      <td>Cdc25c/p38</td>\n",
       "      <td>308.0</td>\n",
       "      <td>76</td>\n",
       "      <td>232.0</td>\n",
       "    </tr>\n",
       "    <tr>\n",
       "      <th>...</th>\n",
       "      <td>...</td>\n",
       "      <td>...</td>\n",
       "      <td>...</td>\n",
       "      <td>...</td>\n",
       "      <td>...</td>\n",
       "      <td>...</td>\n",
       "      <td>...</td>\n",
       "    </tr>\n",
       "    <tr>\n",
       "      <th>6720</th>\n",
       "      <td>Control</td>\n",
       "      <td>FW1</td>\n",
       "      <td>878</td>\n",
       "      <td>sox/oct4</td>\n",
       "      <td>94.0</td>\n",
       "      <td>32</td>\n",
       "      <td>62.0</td>\n",
       "    </tr>\n",
       "    <tr>\n",
       "      <th>6721</th>\n",
       "      <td>Control</td>\n",
       "      <td>FW1</td>\n",
       "      <td>881</td>\n",
       "      <td>sox/oct4</td>\n",
       "      <td>60.0</td>\n",
       "      <td>40</td>\n",
       "      <td>20.0</td>\n",
       "    </tr>\n",
       "    <tr>\n",
       "      <th>6722</th>\n",
       "      <td>Control</td>\n",
       "      <td>FW1</td>\n",
       "      <td>883</td>\n",
       "      <td>sox/oct4</td>\n",
       "      <td>35.0</td>\n",
       "      <td>16</td>\n",
       "      <td>19.0</td>\n",
       "    </tr>\n",
       "    <tr>\n",
       "      <th>6723</th>\n",
       "      <td>Control</td>\n",
       "      <td>FW1</td>\n",
       "      <td>885</td>\n",
       "      <td>sox/oct4</td>\n",
       "      <td>45.0</td>\n",
       "      <td>26</td>\n",
       "      <td>19.0</td>\n",
       "    </tr>\n",
       "    <tr>\n",
       "      <th>6724</th>\n",
       "      <td>Control</td>\n",
       "      <td>FW1</td>\n",
       "      <td>886</td>\n",
       "      <td>sox/oct4</td>\n",
       "      <td>40.0</td>\n",
       "      <td>28</td>\n",
       "      <td>12.0</td>\n",
       "    </tr>\n",
       "  </tbody>\n",
       "</table>\n",
       "<p>6240 rows × 7 columns</p>\n",
       "</div>"
      ],
      "text/plain": [
       "     Condition  FOV   Id         PPI  Count_cell  Count_nuclei  Count_cyto\n",
       "0      Treated  FW1   38  Cdc25c/p38       180.0             0       180.0\n",
       "1      Treated  FW1   39  Cdc25c/p38       180.0            62       118.0\n",
       "3      Treated  FW1   41  Cdc25c/p38       146.0            37       109.0\n",
       "4      Treated  FW1   42  Cdc25c/p38       362.0           170       192.0\n",
       "5      Treated  FW1   43  Cdc25c/p38       308.0            76       232.0\n",
       "...        ...  ...  ...         ...         ...           ...         ...\n",
       "6720   Control  FW1  878    sox/oct4        94.0            32        62.0\n",
       "6721   Control  FW1  881    sox/oct4        60.0            40        20.0\n",
       "6722   Control  FW1  883    sox/oct4        35.0            16        19.0\n",
       "6723   Control  FW1  885    sox/oct4        45.0            26        19.0\n",
       "6724   Control  FW1  886    sox/oct4        40.0            28        12.0\n",
       "\n",
       "[6240 rows x 7 columns]"
      ]
     },
     "execution_count": 12,
     "metadata": {},
     "output_type": "execute_result"
    }
   ],
   "source": [
    "df_all"
   ]
  },
  {
   "cell_type": "code",
   "execution_count": 13,
   "metadata": {},
   "outputs": [],
   "source": [
    "df_all[~df_all.PPI.isin(['b-catenin/e-cadherin'])].groupby(['Condition', 'PPI'])['Count_cell'].describe().to_clipboard()"
   ]
  },
  {
   "cell_type": "markdown",
   "metadata": {},
   "source": [
    "# Ki67 quantification"
   ]
  },
  {
   "cell_type": "code",
   "execution_count": 14,
   "metadata": {},
   "outputs": [],
   "source": [
    "from statannotations.Annotator import Annotator\n",
    "import seaborn as sns"
   ]
  },
  {
   "cell_type": "code",
   "execution_count": 15,
   "metadata": {},
   "outputs": [],
   "source": [
    "# Get Co-expression data\n",
    "PPI_exp_path =  data_dir / 'Navincin' / 'PPI' / 'expression'\n",
    "PPI_exp_path.mkdir(parents=True, exist_ok=True)\n",
    "\n",
    "df_Ki67 = pd.read_csv(PPI_exp_path / 'Ki67.csv', index_col=0)\n",
    "df_Ki67['Ki67 Nuclei ratio'] = df_Ki67['Ki67 Area'].div(df_Ki67['Nuclei Area'])\n",
    "df_Ki67['Condition'] = df_Ki67['Condition'].apply(lambda x: {'ctrl': 'Control', 'O': 'Treated'}.get(x, x))"
   ]
  },
  {
   "cell_type": "code",
   "execution_count": 16,
   "metadata": {},
   "outputs": [
    {
     "data": {
      "text/html": [
       "<div>\n",
       "<style scoped>\n",
       "    .dataframe tbody tr th:only-of-type {\n",
       "        vertical-align: middle;\n",
       "    }\n",
       "\n",
       "    .dataframe tbody tr th {\n",
       "        vertical-align: top;\n",
       "    }\n",
       "\n",
       "    .dataframe thead th {\n",
       "        text-align: right;\n",
       "    }\n",
       "</style>\n",
       "<table border=\"1\" class=\"dataframe\">\n",
       "  <thead>\n",
       "    <tr style=\"text-align: right;\">\n",
       "      <th></th>\n",
       "      <th>Nuclei</th>\n",
       "      <th>Nuclei Area</th>\n",
       "      <th>Ki67 Area</th>\n",
       "      <th>Nuclei_Cell</th>\n",
       "      <th>Condition</th>\n",
       "      <th>Ki67 Nuclei ratio</th>\n",
       "    </tr>\n",
       "  </thead>\n",
       "  <tbody>\n",
       "    <tr>\n",
       "      <th>0</th>\n",
       "      <td>23</td>\n",
       "      <td>2904.0</td>\n",
       "      <td>400.0</td>\n",
       "      <td>41.0</td>\n",
       "      <td>Treated</td>\n",
       "      <td>0.137741</td>\n",
       "    </tr>\n",
       "    <tr>\n",
       "      <th>1</th>\n",
       "      <td>33</td>\n",
       "      <td>4817.0</td>\n",
       "      <td>234.0</td>\n",
       "      <td>47.0</td>\n",
       "      <td>Treated</td>\n",
       "      <td>0.048578</td>\n",
       "    </tr>\n",
       "    <tr>\n",
       "      <th>2</th>\n",
       "      <td>41</td>\n",
       "      <td>4449.0</td>\n",
       "      <td>683.0</td>\n",
       "      <td>43.0</td>\n",
       "      <td>Treated</td>\n",
       "      <td>0.153518</td>\n",
       "    </tr>\n",
       "    <tr>\n",
       "      <th>3</th>\n",
       "      <td>42</td>\n",
       "      <td>4949.0</td>\n",
       "      <td>38.0</td>\n",
       "      <td>39.0</td>\n",
       "      <td>Treated</td>\n",
       "      <td>0.007678</td>\n",
       "    </tr>\n",
       "    <tr>\n",
       "      <th>4</th>\n",
       "      <td>43</td>\n",
       "      <td>4663.0</td>\n",
       "      <td>670.0</td>\n",
       "      <td>51.0</td>\n",
       "      <td>Treated</td>\n",
       "      <td>0.143684</td>\n",
       "    </tr>\n",
       "    <tr>\n",
       "      <th>...</th>\n",
       "      <td>...</td>\n",
       "      <td>...</td>\n",
       "      <td>...</td>\n",
       "      <td>...</td>\n",
       "      <td>...</td>\n",
       "      <td>...</td>\n",
       "    </tr>\n",
       "    <tr>\n",
       "      <th>756</th>\n",
       "      <td>868</td>\n",
       "      <td>4685.0</td>\n",
       "      <td>615.0</td>\n",
       "      <td>878.0</td>\n",
       "      <td>Control</td>\n",
       "      <td>0.131270</td>\n",
       "    </tr>\n",
       "    <tr>\n",
       "      <th>757</th>\n",
       "      <td>869</td>\n",
       "      <td>4195.0</td>\n",
       "      <td>311.0</td>\n",
       "      <td>885.0</td>\n",
       "      <td>Control</td>\n",
       "      <td>0.074136</td>\n",
       "    </tr>\n",
       "    <tr>\n",
       "      <th>758</th>\n",
       "      <td>870</td>\n",
       "      <td>3282.0</td>\n",
       "      <td>338.0</td>\n",
       "      <td>886.0</td>\n",
       "      <td>Control</td>\n",
       "      <td>0.102986</td>\n",
       "    </tr>\n",
       "    <tr>\n",
       "      <th>759</th>\n",
       "      <td>871</td>\n",
       "      <td>4192.0</td>\n",
       "      <td>610.0</td>\n",
       "      <td>883.0</td>\n",
       "      <td>Control</td>\n",
       "      <td>0.145515</td>\n",
       "    </tr>\n",
       "    <tr>\n",
       "      <th>760</th>\n",
       "      <td>875</td>\n",
       "      <td>5557.0</td>\n",
       "      <td>62.0</td>\n",
       "      <td>881.0</td>\n",
       "      <td>Control</td>\n",
       "      <td>0.011157</td>\n",
       "    </tr>\n",
       "  </tbody>\n",
       "</table>\n",
       "<p>1358 rows × 6 columns</p>\n",
       "</div>"
      ],
      "text/plain": [
       "     Nuclei  Nuclei Area  Ki67 Area  Nuclei_Cell Condition  Ki67 Nuclei ratio\n",
       "0        23       2904.0      400.0         41.0   Treated           0.137741\n",
       "1        33       4817.0      234.0         47.0   Treated           0.048578\n",
       "2        41       4449.0      683.0         43.0   Treated           0.153518\n",
       "3        42       4949.0       38.0         39.0   Treated           0.007678\n",
       "4        43       4663.0      670.0         51.0   Treated           0.143684\n",
       "..      ...          ...        ...          ...       ...                ...\n",
       "756     868       4685.0      615.0        878.0   Control           0.131270\n",
       "757     869       4195.0      311.0        885.0   Control           0.074136\n",
       "758     870       3282.0      338.0        886.0   Control           0.102986\n",
       "759     871       4192.0      610.0        883.0   Control           0.145515\n",
       "760     875       5557.0       62.0        881.0   Control           0.011157\n",
       "\n",
       "[1358 rows x 6 columns]"
      ]
     },
     "execution_count": 16,
     "metadata": {},
     "output_type": "execute_result"
    }
   ],
   "source": [
    "df_Ki67"
   ]
  },
  {
   "cell_type": "code",
   "execution_count": 17,
   "metadata": {},
   "outputs": [],
   "source": [
    "# Boxplot per cell\n",
    "plotting = {\n",
    "    \"data\": df_Ki67,\n",
    "    \"x\": \"Condition\",\n",
    "    \"y\": \"Ki67 Nuclei ratio\",\n",
    "}"
   ]
  },
  {
   "cell_type": "code",
   "execution_count": 21,
   "metadata": {},
   "outputs": [
    {
     "name": "stderr",
     "output_type": "stream",
     "text": [
      "No artists with labels found to put in legend.  Note that artists whose label start with an underscore are ignored when legend() is called with no argument.\n"
     ]
    },
    {
     "name": "stdout",
     "output_type": "stream",
     "text": [
      "p-value annotation legend:\n",
      "      ns: 5.00e-02 < p <= 1.00e+00\n",
      "       *: 1.00e-02 < p <= 5.00e-02\n",
      "      **: 1.00e-03 < p <= 1.00e-02\n",
      "     ***: 1.00e-04 < p <= 1.00e-03\n",
      "    ****: p <= 1.00e-04\n",
      "\n",
      "Treated vs. Control: Mann-Whitney-Wilcoxon test two-sided, P_val:3.406e-03 U_stat=2.062e+05\n"
     ]
    },
    {
     "data": {
      "image/png": "[encoded data removed]",
      "text/plain": [
       "<Figure size 500x500 with 1 Axes>"
      ]
     },
     "metadata": {},
     "output_type": "display_data"
    }
   ],
   "source": [
    "pairs = [('Control', 'Treated')]\n",
    "\n",
    "with sns.plotting_context('talk', font_scale=1.5):\n",
    "    fig, ax = plt.subplots(figsize=(5,5))\n",
    "    ax = sns.violinplot(**plotting, showfliers=False, ax=ax)\n",
    "    # ax = sns.swarmplot(**plotting, ax=ax, dodge=True)\n",
    "    annot = Annotator(ax, pairs, **plotting)\n",
    "    annot.configure(test='Mann-Whitney', text_format='star', loc='outside', verbose=2)\n",
    "    result = annot.apply_test().annotate()\n",
    "    ax.set_ylabel('Ki67 Density', fontsize=40)\n",
    "    plt.xticks(rotation=30, ha='right')\n",
    "    plt.legend(bbox_to_anchor=(1.05, 1), loc='upper left', borderaxespad=0)"
   ]
  },
  {
   "cell_type": "code",
   "execution_count": 20,
   "metadata": {},
   "outputs": [],
   "source": [
    "df_Ki67.groupby('Condition')[\"Ki67 Nuclei ratio\"].describe().to_clipboard()"
   ]
  },
  {
   "cell_type": "markdown",
   "metadata": {},
   "source": [
    "# Intensity"
   ]
  },
  {
   "cell_type": "code",
   "execution_count": 17,
   "metadata": {},
   "outputs": [],
   "source": [
    "from statannotations.Annotator import Annotator\n",
    "import seaborn as sns"
   ]
  },
  {
   "cell_type": "code",
   "execution_count": 18,
   "metadata": {},
   "outputs": [],
   "source": [
    "# Get Co-expression data\n",
    "PPI_exp_path =  data_dir / 'Navincin' / 'PPI' / 'expression'\n",
    "\n",
    "df_Ki67 = pd.read_csv(PPI_exp_path / 'Ki67_intensity.csv', index_col=0)\n",
    "df_Ki67['Condition'] = df_Ki67['Condition'].apply(lambda x: {'ctrl': 'Control', 'O': 'Treated'}.get(x, x))"
   ]
  },
  {
   "cell_type": "code",
   "execution_count": 19,
   "metadata": {},
   "outputs": [
    {
     "data": {
      "text/html": [
       "<div>\n",
       "<style scoped>\n",
       "    .dataframe tbody tr th:only-of-type {\n",
       "        vertical-align: middle;\n",
       "    }\n",
       "\n",
       "    .dataframe tbody tr th {\n",
       "        vertical-align: top;\n",
       "    }\n",
       "\n",
       "    .dataframe thead th {\n",
       "        text-align: right;\n",
       "    }\n",
       "</style>\n",
       "<table border=\"1\" class=\"dataframe\">\n",
       "  <thead>\n",
       "    <tr style=\"text-align: right;\">\n",
       "      <th></th>\n",
       "      <th>Cell</th>\n",
       "      <th>Area</th>\n",
       "      <th>Ki67</th>\n",
       "      <th>Condition</th>\n",
       "    </tr>\n",
       "  </thead>\n",
       "  <tbody>\n",
       "    <tr>\n",
       "      <th>2</th>\n",
       "      <td>38</td>\n",
       "      <td>24617.0</td>\n",
       "      <td>3.527968</td>\n",
       "      <td>Treated</td>\n",
       "    </tr>\n",
       "    <tr>\n",
       "      <th>3</th>\n",
       "      <td>39</td>\n",
       "      <td>22241.0</td>\n",
       "      <td>2.100400</td>\n",
       "      <td>Treated</td>\n",
       "    </tr>\n",
       "    <tr>\n",
       "      <th>4</th>\n",
       "      <td>40</td>\n",
       "      <td>34437.0</td>\n",
       "      <td>4.631995</td>\n",
       "      <td>Treated</td>\n",
       "    </tr>\n",
       "    <tr>\n",
       "      <th>5</th>\n",
       "      <td>41</td>\n",
       "      <td>11747.0</td>\n",
       "      <td>4.922789</td>\n",
       "      <td>Treated</td>\n",
       "    </tr>\n",
       "    <tr>\n",
       "      <th>6</th>\n",
       "      <td>42</td>\n",
       "      <td>47756.0</td>\n",
       "      <td>1.849673</td>\n",
       "      <td>Treated</td>\n",
       "    </tr>\n",
       "    <tr>\n",
       "      <th>...</th>\n",
       "      <td>...</td>\n",
       "      <td>...</td>\n",
       "      <td>...</td>\n",
       "      <td>...</td>\n",
       "    </tr>\n",
       "    <tr>\n",
       "      <th>754</th>\n",
       "      <td>878</td>\n",
       "      <td>18216.0</td>\n",
       "      <td>3.912989</td>\n",
       "      <td>Control</td>\n",
       "    </tr>\n",
       "    <tr>\n",
       "      <th>756</th>\n",
       "      <td>881</td>\n",
       "      <td>24188.0</td>\n",
       "      <td>1.322143</td>\n",
       "      <td>Control</td>\n",
       "    </tr>\n",
       "    <tr>\n",
       "      <th>757</th>\n",
       "      <td>883</td>\n",
       "      <td>12183.0</td>\n",
       "      <td>4.613396</td>\n",
       "      <td>Control</td>\n",
       "    </tr>\n",
       "    <tr>\n",
       "      <th>758</th>\n",
       "      <td>885</td>\n",
       "      <td>14823.0</td>\n",
       "      <td>3.556567</td>\n",
       "      <td>Control</td>\n",
       "    </tr>\n",
       "    <tr>\n",
       "      <th>759</th>\n",
       "      <td>886</td>\n",
       "      <td>11959.0</td>\n",
       "      <td>2.663183</td>\n",
       "      <td>Control</td>\n",
       "    </tr>\n",
       "  </tbody>\n",
       "</table>\n",
       "<p>1345 rows × 4 columns</p>\n",
       "</div>"
      ],
      "text/plain": [
       "     Cell     Area      Ki67 Condition\n",
       "2      38  24617.0  3.527968   Treated\n",
       "3      39  22241.0  2.100400   Treated\n",
       "4      40  34437.0  4.631995   Treated\n",
       "5      41  11747.0  4.922789   Treated\n",
       "6      42  47756.0  1.849673   Treated\n",
       "..    ...      ...       ...       ...\n",
       "754   878  18216.0  3.912989   Control\n",
       "756   881  24188.0  1.322143   Control\n",
       "757   883  12183.0  4.613396   Control\n",
       "758   885  14823.0  3.556567   Control\n",
       "759   886  11959.0  2.663183   Control\n",
       "\n",
       "[1345 rows x 4 columns]"
      ]
     },
     "execution_count": 19,
     "metadata": {},
     "output_type": "execute_result"
    }
   ],
   "source": [
    "df_Ki67"
   ]
  },
  {
   "cell_type": "code",
   "execution_count": 20,
   "metadata": {},
   "outputs": [],
   "source": [
    "# Boxplot per cell\n",
    "plotting = {\n",
    "    \"data\": df_Ki67,\n",
    "    \"x\": \"Condition\",\n",
    "    \"y\": \"Ki67\",\n",
    "}"
   ]
  },
  {
   "cell_type": "code",
   "execution_count": 21,
   "metadata": {},
   "outputs": [
    {
     "name": "stderr",
     "output_type": "stream",
     "text": [
      "No artists with labels found to put in legend.  Note that artists whose label start with an underscore are ignored when legend() is called with no argument.\n"
     ]
    },
    {
     "data": {
      "image/png": "[encoded data removed]",
      "text/plain": [
       "<Figure size 500x500 with 1 Axes>"
      ]
     },
     "metadata": {},
     "output_type": "display_data"
    }
   ],
   "source": [
    "pairs = [('Control', 'Treated')]\n",
    "\n",
    "with sns.plotting_context('talk', font_scale=1.5):\n",
    "    fig, ax = plt.subplots(figsize=(5,5))\n",
    "    ax = sns.boxplot(**plotting, showfliers=False, ax=ax)\n",
    "    # ax = sns.swarmplot(**plotting, ax=ax, dodge=True)\n",
    "    annot = Annotator(ax, pairs, **plotting)\n",
    "    annot.configure(test='Mann-Whitney', text_format='star', loc='outside', verbose=0)\n",
    "    result = annot.apply_test().annotate()\n",
    "    ax.set_ylabel('Ki67 mean intensity', fontsize=30)\n",
    "    plt.xticks(rotation=30, ha='right')\n",
    "    plt.legend(bbox_to_anchor=(1.05, 1), loc='upper left', borderaxespad=0)"
   ]
  },
  {
   "cell_type": "markdown",
   "metadata": {},
   "source": [
    "# Intensity"
   ]
  },
  {
   "cell_type": "code",
   "execution_count": 5,
   "metadata": {},
   "outputs": [],
   "source": [
    "from statannotations.Annotator import Annotator\n",
    "import seaborn as sns"
   ]
  },
  {
   "cell_type": "code",
   "execution_count": 6,
   "metadata": {},
   "outputs": [],
   "source": [
    "# Get Co-expression data\n",
    "PPI_exp_path =  data_dir / 'Navincin' / 'PPI' / 'expression'\n",
    "\n",
    "df_Ki67 = pd.read_csv(PPI_exp_path / 'bcatenin_intensity.csv', index_col=0)\n",
    "df_Ki67['Condition'] = df_Ki67['Condition'].apply(lambda x: {'ctrl': 'Control', 'O': 'Treated'}.get(x, x))"
   ]
  },
  {
   "cell_type": "code",
   "execution_count": 12,
   "metadata": {},
   "outputs": [],
   "source": [
    "df_Ki67.groupby(['Condition'])['b-catenin/e-cadherin'].describe().to_clipboard()"
   ]
  },
  {
   "cell_type": "code",
   "execution_count": 25,
   "metadata": {},
   "outputs": [],
   "source": [
    "# Boxplot per cell\n",
    "plotting = {\n",
    "    \"data\": df_Ki67,\n",
    "    \"x\": \"Condition\",\n",
    "    \"y\": \"b-catenin/e-cadherin\",\n",
    "}"
   ]
  },
  {
   "cell_type": "code",
   "execution_count": 27,
   "metadata": {},
   "outputs": [
    {
     "name": "stderr",
     "output_type": "stream",
     "text": [
      "No artists with labels found to put in legend.  Note that artists whose label start with an underscore are ignored when legend() is called with no argument.\n"
     ]
    },
    {
     "name": "stdout",
     "output_type": "stream",
     "text": [
      "Treated vs. Control: Mann-Whitney-Wilcoxon test two-sided, P_val:4.318e-12 U_stat=1.738e+05\n"
     ]
    },
    {
     "data": {
      "image/png": "[encoded data removed]",
      "text/plain": [
       "<Figure size 500x600 with 1 Axes>"
      ]
     },
     "metadata": {},
     "output_type": "display_data"
    }
   ],
   "source": [
    "pairs = [('Control', 'Treated')]\n",
    "\n",
    "with sns.plotting_context('talk', font_scale=1.2):\n",
    "    fig, ax = plt.subplots(figsize=(5,6))\n",
    "    ax = sns.boxplot(**plotting, showfliers=False, ax=ax)\n",
    "    # ax = sns.swarmplot(**plotting, ax=ax, dodge=True)\n",
    "    annot = Annotator(ax, pairs, **plotting)\n",
    "    annot.configure(test='Mann-Whitney', text_format='full', loc='outside', show_test_name=False)\n",
    "    result = annot.apply_test().annotate()\n",
    "    ax.set_ylabel('E-cadherin/b-catenin mean intensity', fontsize=20)\n",
    "    plt.xticks(rotation=30, ha='right')\n",
    "    plt.legend(bbox_to_anchor=(1.05, 1), loc='upper left', borderaxespad=0)"
   ]
  },
  {
   "cell_type": "code",
   "execution_count": null,
   "metadata": {},
   "outputs": [],
   "source": []
  }
 ],
 "metadata": {
  "kernelspec": {
   "display_name": "scanpy",
   "language": "python",
   "name": "python3"
  },
  "language_info": {
   "codemirror_mode": {
    "name": "ipython",
    "version": 3
   },
   "file_extension": ".py",
   "mimetype": "text/x-python",
   "name": "python",
   "nbconvert_exporter": "python",
   "pygments_lexer": "ipython3",
   "version": "3.11.4"
  }
 },
 "nbformat": 4,
 "nbformat_minor": 2
}
