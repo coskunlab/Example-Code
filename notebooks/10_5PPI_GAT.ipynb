{
 "cells": [
  {
   "cell_type": "markdown",
   "metadata": {},
   "source": [
    "# Test torch geometric"
   ]
  },
  {
   "cell_type": "code",
   "execution_count": 1,
   "metadata": {},
   "outputs": [],
   "source": [
    "import os \n",
    "import networkx as nx \n",
    "import pickle \n",
    "import torch_geometric \n",
    "\n",
    "data_dir = r'Y:\\coskun-lab\\Thomas\\23_PLA_revision\\data\\9PPI\\graphs\\raw'"
   ]
  },
  {
   "cell_type": "code",
   "execution_count": 2,
   "metadata": {},
   "outputs": [
    {
     "name": "stderr",
     "output_type": "stream",
     "text": [
      "c:\\Users\\thu71\\Anaconda3\\envs\\snowflake\\lib\\site-packages\\torch_geometric\\utils\\convert.py:192: UserWarning: Creating a tensor from a list of numpy.ndarrays is extremely slow. Please consider converting the list to a single numpy.ndarray with numpy.array() before converting to a tensor. (Triggered internally at  C:\\cb\\pytorch_1000000000000\\work\\torch\\csrc\\utils\\tensor_new.cpp:204.)\n",
      "  data[key] = torch.tensor(value)\n"
     ]
    }
   ],
   "source": [
    "for f in os.listdir(data_dir):\n",
    "    with open(os.path.join(data_dir, f), 'rb') as file:\n",
    "        G = pickle.load(file)\n",
    "    data = torch_geometric.utils.from_networkx(G)\n",
    "    break"
   ]
  },
  {
   "cell_type": "code",
   "execution_count": 3,
   "metadata": {},
   "outputs": [],
   "source": [
    "import wandb"
   ]
  },
  {
   "cell_type": "markdown",
   "metadata": {},
   "source": [
    "# Loop code"
   ]
  },
  {
   "cell_type": "code",
   "execution_count": 4,
   "metadata": {},
   "outputs": [],
   "source": [
    "import os\n",
    "import sys\n",
    "from pathlib import Path\n",
    "\n",
    "import cv2\n",
    "import matplotlib.pyplot as plt\n",
    "import numpy as np\n",
    "import pandas as pd\n",
    "import skimage.io\n",
    "\n",
    "from collections import defaultdict\n",
    "from tqdm.auto import tqdm\n",
    "from joblib import Parallel, delayed\n",
    "import re\n",
    "import tifffile as tiff\n",
    "import pickle\n",
    "\n",
    "import networkx as nx\n",
    "from sklearn.model_selection import train_test_split"
   ]
  },
  {
   "cell_type": "code",
   "execution_count": 5,
   "metadata": {},
   "outputs": [],
   "source": [
    "import torch_geometric.utils\n",
    "import torch"
   ]
  },
  {
   "cell_type": "code",
   "execution_count": 6,
   "metadata": {},
   "outputs": [],
   "source": [
    "%load_ext autoreload\n",
    "%autoreload 2"
   ]
  },
  {
   "cell_type": "code",
   "execution_count": 7,
   "metadata": {},
   "outputs": [],
   "source": [
    "p_dir = (Path().cwd().parents[0]).absolute()\n",
    "\n",
    "module_path = str(p_dir / \"src\")\n",
    "\n",
    "if module_path not in sys.path:\n",
    "    sys.path.append(module_path)"
   ]
  },
  {
   "cell_type": "code",
   "execution_count": 8,
   "metadata": {},
   "outputs": [],
   "source": [
    "data_dir = (Path().cwd().parents[0] / 'data').absolute()"
   ]
  },
  {
   "cell_type": "code",
   "execution_count": 9,
   "metadata": {},
   "outputs": [],
   "source": [
    "import lightning.pytorch as pl\n",
    "import PPIGraph"
   ]
  },
  {
   "cell_type": "markdown",
   "metadata": {},
   "source": [
    "# Load dataset"
   ]
  },
  {
   "cell_type": "code",
   "execution_count": 10,
   "metadata": {},
   "outputs": [],
   "source": [
    "from torch_geometric.loader import DataLoader\n",
    "\n",
    "# Define condition mapping\n",
    "condition_mapping = {'HCC827Ctrl': 0, 'HCC827Osim': 1}\n",
    "\n",
    "# Load graph dataset and process if neede\n",
    "graph_path = data_dir / 'OCT Cell Culture' / 'Whole' / 'graphs' \n",
    "\n",
    "dataset = PPIGraph.GraphDataset(graph_path, 'raw', 'pt', condition_mapping=condition_mapping, n_c=2)\n",
    "train_set, val_set, test_set = PPIGraph.train_test_val_split(dataset)\n",
    "\n",
    "# Create Dataloader\n",
    "train_loader = DataLoader(train_set, batch_size=32, shuffle=True)\n",
    "val_loader = DataLoader(val_set, batch_size=32, shuffle=True)\n",
    "test_loader = DataLoader(test_set, batch_size=32, shuffle=False)\n"
   ]
  },
  {
   "cell_type": "code",
   "execution_count": 11,
   "metadata": {},
   "outputs": [
    {
     "name": "stdout",
     "output_type": "stream",
     "text": [
      "Dataset: GraphDataset(2064):\n",
      "======================\n",
      "Number of graphs: 2064\n",
      "Number of features: 5\n",
      "Number of classes: 2\n",
      "Train set: 992, test set: 825, val set: 247\n",
      "Step 1:\n",
      "=======\n",
      "Number of graphs in the current batch: 32\n",
      "DataBatch(edge_index=[2, 10064], pos=[1996, 2], labels=[1996, 5], nuclei=[1996], weight=[10064], condition=[32], fov=[32], id=[32], train_mask=[1996], test_mask=[1996], edge_attr=[10064, 2], x=[1996, 5], y=[32], edge_weight=[10064], name=[32], batch=[1996], ptr=[33])\n",
      "\n"
     ]
    }
   ],
   "source": [
    "# Print some information on the dataset\n",
    "print(f'Dataset: {dataset}:')\n",
    "print('======================')\n",
    "print(f'Number of graphs: {len(dataset)}')\n",
    "print(f'Number of features: {dataset.num_features}')\n",
    "print(f'Number of classes: {dataset.num_classes}')\n",
    "\n",
    "print(f'Train set: {len(train_set)}, test set: {len(test_set)}, val set: {len(val_set)}')\n",
    "for step, data in enumerate(train_loader):\n",
    "\n",
    "    print(f'Step {step + 1}:')\n",
    "    print('=======')\n",
    "    print(f'Number of graphs in the current batch: {data.num_graphs}')\n",
    "    print(data)\n",
    "    print()\n",
    "    break"
   ]
  },
  {
   "cell_type": "markdown",
   "metadata": {},
   "source": [
    "# K-fold on filter dataset"
   ]
  },
  {
   "cell_type": "code",
   "execution_count": 12,
   "metadata": {},
   "outputs": [],
   "source": [
    "import itertools\n",
    "from lightning.pytorch.accelerators import find_usable_cuda_devices\n",
    "import wandb"
   ]
  },
  {
   "cell_type": "code",
   "execution_count": 13,
   "metadata": {},
   "outputs": [],
   "source": [
    "from sklearn.model_selection import KFold, StratifiedKFold\n",
    "from torch.utils.data import SubsetRandomSampler"
   ]
  },
  {
   "cell_type": "code",
   "execution_count": 14,
   "metadata": {},
   "outputs": [],
   "source": [
    "# Filter out by maximum number of counts per cell\n",
    "min_count = 20\n",
    "max_count = 70\n",
    "\n",
    "graph_path = data_dir / 'OCT Cell Culture' / 'Whole' / 'graphs' \n",
    "dataset = PPIGraph.GraphDataset(graph_path, 'raw', 'pt', condition_mapping=condition_mapping, n_c=2)\n",
    "\n",
    "# Create Dataloader\n",
    "loader = DataLoader(dataset, batch_size=1, shuffle=False)\n",
    "\n",
    "# Get Indices\n",
    "indices = []\n",
    "for step, data in enumerate(loader):\n",
    "    if len(data.x) <= min_count:\n",
    "        continue \n",
    "    \n",
    "    if (data.x.sum(axis=0) >= max_count).any():\n",
    "        continue\n",
    "    indices.append(step)\n",
    "    \n",
    "# Get subset dataset\n",
    "dataset_filtered = dataset.index_select(indices)\n"
   ]
  },
  {
   "cell_type": "code",
   "execution_count": 15,
   "metadata": {},
   "outputs": [
    {
     "data": {
      "text/plain": [
       "1522"
      ]
     },
     "execution_count": 15,
     "metadata": {},
     "output_type": "execute_result"
    }
   ],
   "source": [
    "len(dataset_filtered)"
   ]
  },
  {
   "cell_type": "code",
   "execution_count": 16,
   "metadata": {},
   "outputs": [],
   "source": [
    "dataset_name = '5PPI'\n",
    "condition = 'Kfold'\n",
    "checkpoint_folder = (Path().cwd().parents[0]).absolute() / 'data' /'OCT Cell Culture' / 'Whole' /\"saved_models\" / dataset_name / f\"Graph_GNNs_{condition}\" \n",
    "project_name = f'PLA_01102024_{dataset_name}_{condition}'"
   ]
  },
  {
   "cell_type": "code",
   "execution_count": 17,
   "metadata": {},
   "outputs": [
    {
     "name": "stderr",
     "output_type": "stream",
     "text": [
      "Global seed set to 42\n"
     ]
    }
   ],
   "source": [
    "AVAIL_GPUS = [1]\n",
    "\n",
    "# Setting the seed\n",
    "pl.seed_everything(42)\n",
    "\n",
    "NUM_LAYERS = 2\n",
    "HIDDEN_CHANNELS = 16\n",
    "pools = ['mean', 'max', 'sum', 'attention', 'attention2']\n",
    "num_layers = [2,3,4]\n",
    "hiddens = [16, 32, 64]\n",
    "\n",
    "epochs = 50\n",
    "models = ['GAT']"
   ]
  },
  {
   "cell_type": "code",
   "execution_count": 18,
   "metadata": {},
   "outputs": [
    {
     "name": "stdout",
     "output_type": "stream",
     "text": [
      "y:\\coskun-lab\\Thomas\\23_PLA_revision\\data\\OCT Cell Culture\\Whole\\saved_models\\5PPI\\Graph_GNNs_Kfold\\GAT_2_16_onehot_0\\mean\\GraphLevelGAT\\GraphLevelGAT.ckpt\n",
      "y:\\coskun-lab\\Thomas\\23_PLA_revision\\data\\OCT Cell Culture\\Whole\\saved_models\\5PPI\\Graph_GNNs_Kfold\\GAT_2_16_onehot_0\\max\\GraphLevelGAT\\GraphLevelGAT.ckpt\n",
      "y:\\coskun-lab\\Thomas\\23_PLA_revision\\data\\OCT Cell Culture\\Whole\\saved_models\\5PPI\\Graph_GNNs_Kfold\\GAT_2_16_onehot_0\\sum\\GraphLevelGAT\\GraphLevelGAT.ckpt\n",
      "y:\\coskun-lab\\Thomas\\23_PLA_revision\\data\\OCT Cell Culture\\Whole\\saved_models\\5PPI\\Graph_GNNs_Kfold\\GAT_2_16_onehot_0\\attention\\GraphLevelGAT\\GraphLevelGAT.ckpt\n",
      "y:\\coskun-lab\\Thomas\\23_PLA_revision\\data\\OCT Cell Culture\\Whole\\saved_models\\5PPI\\Graph_GNNs_Kfold\\GAT_2_16_onehot_0\\attention2\\GraphLevelGAT\\GraphLevelGAT.ckpt\n",
      "y:\\coskun-lab\\Thomas\\23_PLA_revision\\data\\OCT Cell Culture\\Whole\\saved_models\\5PPI\\Graph_GNNs_Kfold\\GAT_2_32_onehot_0\\mean\\GraphLevelGAT\\GraphLevelGAT.ckpt\n",
      "y:\\coskun-lab\\Thomas\\23_PLA_revision\\data\\OCT Cell Culture\\Whole\\saved_models\\5PPI\\Graph_GNNs_Kfold\\GAT_2_32_onehot_0\\max\\GraphLevelGAT\\GraphLevelGAT.ckpt\n",
      "y:\\coskun-lab\\Thomas\\23_PLA_revision\\data\\OCT Cell Culture\\Whole\\saved_models\\5PPI\\Graph_GNNs_Kfold\\GAT_2_32_onehot_0\\sum\\GraphLevelGAT\\GraphLevelGAT.ckpt\n",
      "y:\\coskun-lab\\Thomas\\23_PLA_revision\\data\\OCT Cell Culture\\Whole\\saved_models\\5PPI\\Graph_GNNs_Kfold\\GAT_2_32_onehot_0\\attention\\GraphLevelGAT\\GraphLevelGAT.ckpt\n",
      "y:\\coskun-lab\\Thomas\\23_PLA_revision\\data\\OCT Cell Culture\\Whole\\saved_models\\5PPI\\Graph_GNNs_Kfold\\GAT_2_32_onehot_0\\attention2\\GraphLevelGAT\\GraphLevelGAT.ckpt\n",
      "y:\\coskun-lab\\Thomas\\23_PLA_revision\\data\\OCT Cell Culture\\Whole\\saved_models\\5PPI\\Graph_GNNs_Kfold\\GAT_2_64_onehot_0\\mean\\GraphLevelGAT\\GraphLevelGAT.ckpt\n",
      "y:\\coskun-lab\\Thomas\\23_PLA_revision\\data\\OCT Cell Culture\\Whole\\saved_models\\5PPI\\Graph_GNNs_Kfold\\GAT_2_64_onehot_0\\max\\GraphLevelGAT\\GraphLevelGAT.ckpt\n",
      "y:\\coskun-lab\\Thomas\\23_PLA_revision\\data\\OCT Cell Culture\\Whole\\saved_models\\5PPI\\Graph_GNNs_Kfold\\GAT_2_64_onehot_0\\sum\\GraphLevelGAT\\GraphLevelGAT.ckpt\n",
      "y:\\coskun-lab\\Thomas\\23_PLA_revision\\data\\OCT Cell Culture\\Whole\\saved_models\\5PPI\\Graph_GNNs_Kfold\\GAT_2_64_onehot_0\\attention\\GraphLevelGAT\\GraphLevelGAT.ckpt\n",
      "y:\\coskun-lab\\Thomas\\23_PLA_revision\\data\\OCT Cell Culture\\Whole\\saved_models\\5PPI\\Graph_GNNs_Kfold\\GAT_2_64_onehot_0\\attention2\\GraphLevelGAT\\GraphLevelGAT.ckpt\n",
      "y:\\coskun-lab\\Thomas\\23_PLA_revision\\data\\OCT Cell Culture\\Whole\\saved_models\\5PPI\\Graph_GNNs_Kfold\\GAT_3_16_onehot_0\\mean\\GraphLevelGAT\\GraphLevelGAT.ckpt\n",
      "y:\\coskun-lab\\Thomas\\23_PLA_revision\\data\\OCT Cell Culture\\Whole\\saved_models\\5PPI\\Graph_GNNs_Kfold\\GAT_3_16_onehot_0\\max\\GraphLevelGAT\\GraphLevelGAT.ckpt\n",
      "y:\\coskun-lab\\Thomas\\23_PLA_revision\\data\\OCT Cell Culture\\Whole\\saved_models\\5PPI\\Graph_GNNs_Kfold\\GAT_3_16_onehot_0\\sum\\GraphLevelGAT\\GraphLevelGAT.ckpt\n",
      "y:\\coskun-lab\\Thomas\\23_PLA_revision\\data\\OCT Cell Culture\\Whole\\saved_models\\5PPI\\Graph_GNNs_Kfold\\GAT_3_16_onehot_0\\attention\\GraphLevelGAT\\GraphLevelGAT.ckpt\n",
      "y:\\coskun-lab\\Thomas\\23_PLA_revision\\data\\OCT Cell Culture\\Whole\\saved_models\\5PPI\\Graph_GNNs_Kfold\\GAT_3_16_onehot_0\\attention2\\GraphLevelGAT\\GraphLevelGAT.ckpt\n",
      "y:\\coskun-lab\\Thomas\\23_PLA_revision\\data\\OCT Cell Culture\\Whole\\saved_models\\5PPI\\Graph_GNNs_Kfold\\GAT_3_32_onehot_0\\mean\\GraphLevelGAT\\GraphLevelGAT.ckpt\n",
      "y:\\coskun-lab\\Thomas\\23_PLA_revision\\data\\OCT Cell Culture\\Whole\\saved_models\\5PPI\\Graph_GNNs_Kfold\\GAT_3_32_onehot_0\\max\\GraphLevelGAT\\GraphLevelGAT.ckpt\n",
      "y:\\coskun-lab\\Thomas\\23_PLA_revision\\data\\OCT Cell Culture\\Whole\\saved_models\\5PPI\\Graph_GNNs_Kfold\\GAT_3_32_onehot_0\\sum\\GraphLevelGAT\\GraphLevelGAT.ckpt\n",
      "y:\\coskun-lab\\Thomas\\23_PLA_revision\\data\\OCT Cell Culture\\Whole\\saved_models\\5PPI\\Graph_GNNs_Kfold\\GAT_3_32_onehot_0\\attention\\GraphLevelGAT\\GraphLevelGAT.ckpt\n",
      "y:\\coskun-lab\\Thomas\\23_PLA_revision\\data\\OCT Cell Culture\\Whole\\saved_models\\5PPI\\Graph_GNNs_Kfold\\GAT_3_32_onehot_0\\attention2\\GraphLevelGAT\\GraphLevelGAT.ckpt\n",
      "y:\\coskun-lab\\Thomas\\23_PLA_revision\\data\\OCT Cell Culture\\Whole\\saved_models\\5PPI\\Graph_GNNs_Kfold\\GAT_3_64_onehot_0\\mean\\GraphLevelGAT\\GraphLevelGAT.ckpt\n",
      "y:\\coskun-lab\\Thomas\\23_PLA_revision\\data\\OCT Cell Culture\\Whole\\saved_models\\5PPI\\Graph_GNNs_Kfold\\GAT_3_64_onehot_0\\max\\GraphLevelGAT\\GraphLevelGAT.ckpt\n",
      "y:\\coskun-lab\\Thomas\\23_PLA_revision\\data\\OCT Cell Culture\\Whole\\saved_models\\5PPI\\Graph_GNNs_Kfold\\GAT_3_64_onehot_0\\sum\\GraphLevelGAT\\GraphLevelGAT.ckpt\n",
      "y:\\coskun-lab\\Thomas\\23_PLA_revision\\data\\OCT Cell Culture\\Whole\\saved_models\\5PPI\\Graph_GNNs_Kfold\\GAT_3_64_onehot_0\\attention\\GraphLevelGAT\\GraphLevelGAT.ckpt\n",
      "y:\\coskun-lab\\Thomas\\23_PLA_revision\\data\\OCT Cell Culture\\Whole\\saved_models\\5PPI\\Graph_GNNs_Kfold\\GAT_3_64_onehot_0\\attention2\\GraphLevelGAT\\GraphLevelGAT.ckpt\n",
      "y:\\coskun-lab\\Thomas\\23_PLA_revision\\data\\OCT Cell Culture\\Whole\\saved_models\\5PPI\\Graph_GNNs_Kfold\\GAT_4_16_onehot_0\\mean\\GraphLevelGAT\\GraphLevelGAT.ckpt\n",
      "y:\\coskun-lab\\Thomas\\23_PLA_revision\\data\\OCT Cell Culture\\Whole\\saved_models\\5PPI\\Graph_GNNs_Kfold\\GAT_4_16_onehot_0\\max\\GraphLevelGAT\\GraphLevelGAT.ckpt\n",
      "y:\\coskun-lab\\Thomas\\23_PLA_revision\\data\\OCT Cell Culture\\Whole\\saved_models\\5PPI\\Graph_GNNs_Kfold\\GAT_4_16_onehot_0\\sum\\GraphLevelGAT\\GraphLevelGAT.ckpt\n",
      "y:\\coskun-lab\\Thomas\\23_PLA_revision\\data\\OCT Cell Culture\\Whole\\saved_models\\5PPI\\Graph_GNNs_Kfold\\GAT_4_16_onehot_0\\attention\\GraphLevelGAT\\GraphLevelGAT.ckpt\n",
      "y:\\coskun-lab\\Thomas\\23_PLA_revision\\data\\OCT Cell Culture\\Whole\\saved_models\\5PPI\\Graph_GNNs_Kfold\\GAT_4_16_onehot_0\\attention2\\GraphLevelGAT\\GraphLevelGAT.ckpt\n",
      "y:\\coskun-lab\\Thomas\\23_PLA_revision\\data\\OCT Cell Culture\\Whole\\saved_models\\5PPI\\Graph_GNNs_Kfold\\GAT_4_32_onehot_0\\mean\\GraphLevelGAT\\GraphLevelGAT.ckpt\n",
      "y:\\coskun-lab\\Thomas\\23_PLA_revision\\data\\OCT Cell Culture\\Whole\\saved_models\\5PPI\\Graph_GNNs_Kfold\\GAT_4_32_onehot_0\\max\\GraphLevelGAT\\GraphLevelGAT.ckpt\n",
      "y:\\coskun-lab\\Thomas\\23_PLA_revision\\data\\OCT Cell Culture\\Whole\\saved_models\\5PPI\\Graph_GNNs_Kfold\\GAT_4_32_onehot_0\\sum\\GraphLevelGAT\\GraphLevelGAT.ckpt\n",
      "y:\\coskun-lab\\Thomas\\23_PLA_revision\\data\\OCT Cell Culture\\Whole\\saved_models\\5PPI\\Graph_GNNs_Kfold\\GAT_4_32_onehot_0\\attention\\GraphLevelGAT\\GraphLevelGAT.ckpt\n",
      "y:\\coskun-lab\\Thomas\\23_PLA_revision\\data\\OCT Cell Culture\\Whole\\saved_models\\5PPI\\Graph_GNNs_Kfold\\GAT_4_32_onehot_0\\attention2\\GraphLevelGAT\\GraphLevelGAT.ckpt\n",
      "y:\\coskun-lab\\Thomas\\23_PLA_revision\\data\\OCT Cell Culture\\Whole\\saved_models\\5PPI\\Graph_GNNs_Kfold\\GAT_4_64_onehot_0\\mean\\GraphLevelGAT\\GraphLevelGAT.ckpt\n",
      "y:\\coskun-lab\\Thomas\\23_PLA_revision\\data\\OCT Cell Culture\\Whole\\saved_models\\5PPI\\Graph_GNNs_Kfold\\GAT_4_64_onehot_0\\max\\GraphLevelGAT\\GraphLevelGAT.ckpt\n",
      "y:\\coskun-lab\\Thomas\\23_PLA_revision\\data\\OCT Cell Culture\\Whole\\saved_models\\5PPI\\Graph_GNNs_Kfold\\GAT_4_64_onehot_0\\sum\\GraphLevelGAT\\GraphLevelGAT.ckpt\n",
      "y:\\coskun-lab\\Thomas\\23_PLA_revision\\data\\OCT Cell Culture\\Whole\\saved_models\\5PPI\\Graph_GNNs_Kfold\\GAT_4_64_onehot_0\\attention\\GraphLevelGAT\\GraphLevelGAT.ckpt\n",
      "y:\\coskun-lab\\Thomas\\23_PLA_revision\\data\\OCT Cell Culture\\Whole\\saved_models\\5PPI\\Graph_GNNs_Kfold\\GAT_4_64_onehot_0\\attention2\\GraphLevelGAT\\GraphLevelGAT.ckpt\n",
      "y:\\coskun-lab\\Thomas\\23_PLA_revision\\data\\OCT Cell Culture\\Whole\\saved_models\\5PPI\\Graph_GNNs_Kfold\\GAT_2_16_onehot_1\\mean\\GraphLevelGAT\\GraphLevelGAT.ckpt\n",
      "y:\\coskun-lab\\Thomas\\23_PLA_revision\\data\\OCT Cell Culture\\Whole\\saved_models\\5PPI\\Graph_GNNs_Kfold\\GAT_2_16_onehot_1\\max\\GraphLevelGAT\\GraphLevelGAT.ckpt\n",
      "y:\\coskun-lab\\Thomas\\23_PLA_revision\\data\\OCT Cell Culture\\Whole\\saved_models\\5PPI\\Graph_GNNs_Kfold\\GAT_2_16_onehot_1\\sum\\GraphLevelGAT\\GraphLevelGAT.ckpt\n",
      "y:\\coskun-lab\\Thomas\\23_PLA_revision\\data\\OCT Cell Culture\\Whole\\saved_models\\5PPI\\Graph_GNNs_Kfold\\GAT_2_16_onehot_1\\attention\\GraphLevelGAT\\GraphLevelGAT.ckpt\n",
      "y:\\coskun-lab\\Thomas\\23_PLA_revision\\data\\OCT Cell Culture\\Whole\\saved_models\\5PPI\\Graph_GNNs_Kfold\\GAT_2_16_onehot_1\\attention2\\GraphLevelGAT\\GraphLevelGAT.ckpt\n",
      "y:\\coskun-lab\\Thomas\\23_PLA_revision\\data\\OCT Cell Culture\\Whole\\saved_models\\5PPI\\Graph_GNNs_Kfold\\GAT_2_32_onehot_1\\mean\\GraphLevelGAT\\GraphLevelGAT.ckpt\n",
      "y:\\coskun-lab\\Thomas\\23_PLA_revision\\data\\OCT Cell Culture\\Whole\\saved_models\\5PPI\\Graph_GNNs_Kfold\\GAT_2_32_onehot_1\\max\\GraphLevelGAT\\GraphLevelGAT.ckpt\n",
      "y:\\coskun-lab\\Thomas\\23_PLA_revision\\data\\OCT Cell Culture\\Whole\\saved_models\\5PPI\\Graph_GNNs_Kfold\\GAT_2_32_onehot_1\\sum\\GraphLevelGAT\\GraphLevelGAT.ckpt\n",
      "y:\\coskun-lab\\Thomas\\23_PLA_revision\\data\\OCT Cell Culture\\Whole\\saved_models\\5PPI\\Graph_GNNs_Kfold\\GAT_2_32_onehot_1\\attention\\GraphLevelGAT\\GraphLevelGAT.ckpt\n",
      "y:\\coskun-lab\\Thomas\\23_PLA_revision\\data\\OCT Cell Culture\\Whole\\saved_models\\5PPI\\Graph_GNNs_Kfold\\GAT_2_32_onehot_1\\attention2\\GraphLevelGAT\\GraphLevelGAT.ckpt\n",
      "y:\\coskun-lab\\Thomas\\23_PLA_revision\\data\\OCT Cell Culture\\Whole\\saved_models\\5PPI\\Graph_GNNs_Kfold\\GAT_2_64_onehot_1\\mean\\GraphLevelGAT\\GraphLevelGAT.ckpt\n",
      "y:\\coskun-lab\\Thomas\\23_PLA_revision\\data\\OCT Cell Culture\\Whole\\saved_models\\5PPI\\Graph_GNNs_Kfold\\GAT_2_64_onehot_1\\max\\GraphLevelGAT\\GraphLevelGAT.ckpt\n",
      "y:\\coskun-lab\\Thomas\\23_PLA_revision\\data\\OCT Cell Culture\\Whole\\saved_models\\5PPI\\Graph_GNNs_Kfold\\GAT_2_64_onehot_1\\sum\\GraphLevelGAT\\GraphLevelGAT.ckpt\n",
      "y:\\coskun-lab\\Thomas\\23_PLA_revision\\data\\OCT Cell Culture\\Whole\\saved_models\\5PPI\\Graph_GNNs_Kfold\\GAT_2_64_onehot_1\\attention\\GraphLevelGAT\\GraphLevelGAT.ckpt\n",
      "y:\\coskun-lab\\Thomas\\23_PLA_revision\\data\\OCT Cell Culture\\Whole\\saved_models\\5PPI\\Graph_GNNs_Kfold\\GAT_2_64_onehot_1\\attention2\\GraphLevelGAT\\GraphLevelGAT.ckpt\n",
      "y:\\coskun-lab\\Thomas\\23_PLA_revision\\data\\OCT Cell Culture\\Whole\\saved_models\\5PPI\\Graph_GNNs_Kfold\\GAT_3_16_onehot_1\\mean\\GraphLevelGAT\\GraphLevelGAT.ckpt\n",
      "y:\\coskun-lab\\Thomas\\23_PLA_revision\\data\\OCT Cell Culture\\Whole\\saved_models\\5PPI\\Graph_GNNs_Kfold\\GAT_3_16_onehot_1\\max\\GraphLevelGAT\\GraphLevelGAT.ckpt\n",
      "y:\\coskun-lab\\Thomas\\23_PLA_revision\\data\\OCT Cell Culture\\Whole\\saved_models\\5PPI\\Graph_GNNs_Kfold\\GAT_3_16_onehot_1\\sum\\GraphLevelGAT\\GraphLevelGAT.ckpt\n",
      "y:\\coskun-lab\\Thomas\\23_PLA_revision\\data\\OCT Cell Culture\\Whole\\saved_models\\5PPI\\Graph_GNNs_Kfold\\GAT_3_16_onehot_1\\attention\\GraphLevelGAT\\GraphLevelGAT.ckpt\n",
      "y:\\coskun-lab\\Thomas\\23_PLA_revision\\data\\OCT Cell Culture\\Whole\\saved_models\\5PPI\\Graph_GNNs_Kfold\\GAT_3_16_onehot_1\\attention2\\GraphLevelGAT\\GraphLevelGAT.ckpt\n",
      "y:\\coskun-lab\\Thomas\\23_PLA_revision\\data\\OCT Cell Culture\\Whole\\saved_models\\5PPI\\Graph_GNNs_Kfold\\GAT_3_32_onehot_1\\mean\\GraphLevelGAT\\GraphLevelGAT.ckpt\n",
      "y:\\coskun-lab\\Thomas\\23_PLA_revision\\data\\OCT Cell Culture\\Whole\\saved_models\\5PPI\\Graph_GNNs_Kfold\\GAT_3_32_onehot_1\\max\\GraphLevelGAT\\GraphLevelGAT.ckpt\n",
      "y:\\coskun-lab\\Thomas\\23_PLA_revision\\data\\OCT Cell Culture\\Whole\\saved_models\\5PPI\\Graph_GNNs_Kfold\\GAT_3_32_onehot_1\\sum\\GraphLevelGAT\\GraphLevelGAT.ckpt\n",
      "y:\\coskun-lab\\Thomas\\23_PLA_revision\\data\\OCT Cell Culture\\Whole\\saved_models\\5PPI\\Graph_GNNs_Kfold\\GAT_3_32_onehot_1\\attention\\GraphLevelGAT\\GraphLevelGAT.ckpt\n",
      "y:\\coskun-lab\\Thomas\\23_PLA_revision\\data\\OCT Cell Culture\\Whole\\saved_models\\5PPI\\Graph_GNNs_Kfold\\GAT_3_32_onehot_1\\attention2\\GraphLevelGAT\\GraphLevelGAT.ckpt\n",
      "y:\\coskun-lab\\Thomas\\23_PLA_revision\\data\\OCT Cell Culture\\Whole\\saved_models\\5PPI\\Graph_GNNs_Kfold\\GAT_3_64_onehot_1\\mean\\GraphLevelGAT\\GraphLevelGAT.ckpt\n",
      "y:\\coskun-lab\\Thomas\\23_PLA_revision\\data\\OCT Cell Culture\\Whole\\saved_models\\5PPI\\Graph_GNNs_Kfold\\GAT_3_64_onehot_1\\max\\GraphLevelGAT\\GraphLevelGAT.ckpt\n",
      "y:\\coskun-lab\\Thomas\\23_PLA_revision\\data\\OCT Cell Culture\\Whole\\saved_models\\5PPI\\Graph_GNNs_Kfold\\GAT_3_64_onehot_1\\sum\\GraphLevelGAT\\GraphLevelGAT.ckpt\n",
      "y:\\coskun-lab\\Thomas\\23_PLA_revision\\data\\OCT Cell Culture\\Whole\\saved_models\\5PPI\\Graph_GNNs_Kfold\\GAT_3_64_onehot_1\\attention\\GraphLevelGAT\\GraphLevelGAT.ckpt\n",
      "y:\\coskun-lab\\Thomas\\23_PLA_revision\\data\\OCT Cell Culture\\Whole\\saved_models\\5PPI\\Graph_GNNs_Kfold\\GAT_3_64_onehot_1\\attention2\\GraphLevelGAT\\GraphLevelGAT.ckpt\n",
      "y:\\coskun-lab\\Thomas\\23_PLA_revision\\data\\OCT Cell Culture\\Whole\\saved_models\\5PPI\\Graph_GNNs_Kfold\\GAT_4_16_onehot_1\\mean\\GraphLevelGAT\\GraphLevelGAT.ckpt\n",
      "y:\\coskun-lab\\Thomas\\23_PLA_revision\\data\\OCT Cell Culture\\Whole\\saved_models\\5PPI\\Graph_GNNs_Kfold\\GAT_4_16_onehot_1\\max\\GraphLevelGAT\\GraphLevelGAT.ckpt\n",
      "y:\\coskun-lab\\Thomas\\23_PLA_revision\\data\\OCT Cell Culture\\Whole\\saved_models\\5PPI\\Graph_GNNs_Kfold\\GAT_4_16_onehot_1\\sum\\GraphLevelGAT\\GraphLevelGAT.ckpt\n",
      "y:\\coskun-lab\\Thomas\\23_PLA_revision\\data\\OCT Cell Culture\\Whole\\saved_models\\5PPI\\Graph_GNNs_Kfold\\GAT_4_16_onehot_1\\attention\\GraphLevelGAT\\GraphLevelGAT.ckpt\n",
      "y:\\coskun-lab\\Thomas\\23_PLA_revision\\data\\OCT Cell Culture\\Whole\\saved_models\\5PPI\\Graph_GNNs_Kfold\\GAT_4_16_onehot_1\\attention2\\GraphLevelGAT\\GraphLevelGAT.ckpt\n",
      "y:\\coskun-lab\\Thomas\\23_PLA_revision\\data\\OCT Cell Culture\\Whole\\saved_models\\5PPI\\Graph_GNNs_Kfold\\GAT_4_32_onehot_1\\mean\\GraphLevelGAT\\GraphLevelGAT.ckpt\n",
      "y:\\coskun-lab\\Thomas\\23_PLA_revision\\data\\OCT Cell Culture\\Whole\\saved_models\\5PPI\\Graph_GNNs_Kfold\\GAT_4_32_onehot_1\\max\\GraphLevelGAT\\GraphLevelGAT.ckpt\n",
      "y:\\coskun-lab\\Thomas\\23_PLA_revision\\data\\OCT Cell Culture\\Whole\\saved_models\\5PPI\\Graph_GNNs_Kfold\\GAT_4_32_onehot_1\\sum\\GraphLevelGAT\\GraphLevelGAT.ckpt\n",
      "y:\\coskun-lab\\Thomas\\23_PLA_revision\\data\\OCT Cell Culture\\Whole\\saved_models\\5PPI\\Graph_GNNs_Kfold\\GAT_4_32_onehot_1\\attention\\GraphLevelGAT\\GraphLevelGAT.ckpt\n",
      "y:\\coskun-lab\\Thomas\\23_PLA_revision\\data\\OCT Cell Culture\\Whole\\saved_models\\5PPI\\Graph_GNNs_Kfold\\GAT_4_32_onehot_1\\attention2\\GraphLevelGAT\\GraphLevelGAT.ckpt\n",
      "y:\\coskun-lab\\Thomas\\23_PLA_revision\\data\\OCT Cell Culture\\Whole\\saved_models\\5PPI\\Graph_GNNs_Kfold\\GAT_4_64_onehot_1\\mean\\GraphLevelGAT\\GraphLevelGAT.ckpt\n",
      "y:\\coskun-lab\\Thomas\\23_PLA_revision\\data\\OCT Cell Culture\\Whole\\saved_models\\5PPI\\Graph_GNNs_Kfold\\GAT_4_64_onehot_1\\max\\GraphLevelGAT\\GraphLevelGAT.ckpt\n",
      "y:\\coskun-lab\\Thomas\\23_PLA_revision\\data\\OCT Cell Culture\\Whole\\saved_models\\5PPI\\Graph_GNNs_Kfold\\GAT_4_64_onehot_1\\sum\\GraphLevelGAT\\GraphLevelGAT.ckpt\n",
      "y:\\coskun-lab\\Thomas\\23_PLA_revision\\data\\OCT Cell Culture\\Whole\\saved_models\\5PPI\\Graph_GNNs_Kfold\\GAT_4_64_onehot_1\\attention\\GraphLevelGAT\\GraphLevelGAT.ckpt\n",
      "y:\\coskun-lab\\Thomas\\23_PLA_revision\\data\\OCT Cell Culture\\Whole\\saved_models\\5PPI\\Graph_GNNs_Kfold\\GAT_4_64_onehot_1\\attention2\\GraphLevelGAT\\GraphLevelGAT.ckpt\n",
      "y:\\coskun-lab\\Thomas\\23_PLA_revision\\data\\OCT Cell Culture\\Whole\\saved_models\\5PPI\\Graph_GNNs_Kfold\\GAT_2_16_onehot_2\\mean\\GraphLevelGAT\\GraphLevelGAT.ckpt\n",
      "y:\\coskun-lab\\Thomas\\23_PLA_revision\\data\\OCT Cell Culture\\Whole\\saved_models\\5PPI\\Graph_GNNs_Kfold\\GAT_2_16_onehot_2\\max\\GraphLevelGAT\\GraphLevelGAT.ckpt\n",
      "y:\\coskun-lab\\Thomas\\23_PLA_revision\\data\\OCT Cell Culture\\Whole\\saved_models\\5PPI\\Graph_GNNs_Kfold\\GAT_2_16_onehot_2\\sum\\GraphLevelGAT\\GraphLevelGAT.ckpt\n",
      "y:\\coskun-lab\\Thomas\\23_PLA_revision\\data\\OCT Cell Culture\\Whole\\saved_models\\5PPI\\Graph_GNNs_Kfold\\GAT_2_16_onehot_2\\attention\\GraphLevelGAT\\GraphLevelGAT.ckpt\n",
      "y:\\coskun-lab\\Thomas\\23_PLA_revision\\data\\OCT Cell Culture\\Whole\\saved_models\\5PPI\\Graph_GNNs_Kfold\\GAT_2_16_onehot_2\\attention2\\GraphLevelGAT\\GraphLevelGAT.ckpt\n",
      "y:\\coskun-lab\\Thomas\\23_PLA_revision\\data\\OCT Cell Culture\\Whole\\saved_models\\5PPI\\Graph_GNNs_Kfold\\GAT_2_32_onehot_2\\mean\\GraphLevelGAT\\GraphLevelGAT.ckpt\n",
      "y:\\coskun-lab\\Thomas\\23_PLA_revision\\data\\OCT Cell Culture\\Whole\\saved_models\\5PPI\\Graph_GNNs_Kfold\\GAT_2_32_onehot_2\\max\\GraphLevelGAT\\GraphLevelGAT.ckpt\n",
      "y:\\coskun-lab\\Thomas\\23_PLA_revision\\data\\OCT Cell Culture\\Whole\\saved_models\\5PPI\\Graph_GNNs_Kfold\\GAT_2_32_onehot_2\\sum\\GraphLevelGAT\\GraphLevelGAT.ckpt\n",
      "y:\\coskun-lab\\Thomas\\23_PLA_revision\\data\\OCT Cell Culture\\Whole\\saved_models\\5PPI\\Graph_GNNs_Kfold\\GAT_2_32_onehot_2\\attention\\GraphLevelGAT\\GraphLevelGAT.ckpt\n",
      "y:\\coskun-lab\\Thomas\\23_PLA_revision\\data\\OCT Cell Culture\\Whole\\saved_models\\5PPI\\Graph_GNNs_Kfold\\GAT_2_32_onehot_2\\attention2\\GraphLevelGAT\\GraphLevelGAT.ckpt\n",
      "y:\\coskun-lab\\Thomas\\23_PLA_revision\\data\\OCT Cell Culture\\Whole\\saved_models\\5PPI\\Graph_GNNs_Kfold\\GAT_2_64_onehot_2\\mean\\GraphLevelGAT\\GraphLevelGAT.ckpt\n",
      "y:\\coskun-lab\\Thomas\\23_PLA_revision\\data\\OCT Cell Culture\\Whole\\saved_models\\5PPI\\Graph_GNNs_Kfold\\GAT_2_64_onehot_2\\max\\GraphLevelGAT\\GraphLevelGAT.ckpt\n",
      "y:\\coskun-lab\\Thomas\\23_PLA_revision\\data\\OCT Cell Culture\\Whole\\saved_models\\5PPI\\Graph_GNNs_Kfold\\GAT_2_64_onehot_2\\sum\\GraphLevelGAT\\GraphLevelGAT.ckpt\n",
      "y:\\coskun-lab\\Thomas\\23_PLA_revision\\data\\OCT Cell Culture\\Whole\\saved_models\\5PPI\\Graph_GNNs_Kfold\\GAT_2_64_onehot_2\\attention\\GraphLevelGAT\\GraphLevelGAT.ckpt\n",
      "y:\\coskun-lab\\Thomas\\23_PLA_revision\\data\\OCT Cell Culture\\Whole\\saved_models\\5PPI\\Graph_GNNs_Kfold\\GAT_2_64_onehot_2\\attention2\\GraphLevelGAT\\GraphLevelGAT.ckpt\n",
      "y:\\coskun-lab\\Thomas\\23_PLA_revision\\data\\OCT Cell Culture\\Whole\\saved_models\\5PPI\\Graph_GNNs_Kfold\\GAT_3_16_onehot_2\\mean\\GraphLevelGAT\\GraphLevelGAT.ckpt\n",
      "y:\\coskun-lab\\Thomas\\23_PLA_revision\\data\\OCT Cell Culture\\Whole\\saved_models\\5PPI\\Graph_GNNs_Kfold\\GAT_3_16_onehot_2\\max\\GraphLevelGAT\\GraphLevelGAT.ckpt\n",
      "y:\\coskun-lab\\Thomas\\23_PLA_revision\\data\\OCT Cell Culture\\Whole\\saved_models\\5PPI\\Graph_GNNs_Kfold\\GAT_3_16_onehot_2\\sum\\GraphLevelGAT\\GraphLevelGAT.ckpt\n",
      "y:\\coskun-lab\\Thomas\\23_PLA_revision\\data\\OCT Cell Culture\\Whole\\saved_models\\5PPI\\Graph_GNNs_Kfold\\GAT_3_16_onehot_2\\attention\\GraphLevelGAT\\GraphLevelGAT.ckpt\n",
      "y:\\coskun-lab\\Thomas\\23_PLA_revision\\data\\OCT Cell Culture\\Whole\\saved_models\\5PPI\\Graph_GNNs_Kfold\\GAT_3_16_onehot_2\\attention2\\GraphLevelGAT\\GraphLevelGAT.ckpt\n",
      "y:\\coskun-lab\\Thomas\\23_PLA_revision\\data\\OCT Cell Culture\\Whole\\saved_models\\5PPI\\Graph_GNNs_Kfold\\GAT_3_32_onehot_2\\mean\\GraphLevelGAT\\GraphLevelGAT.ckpt\n",
      "y:\\coskun-lab\\Thomas\\23_PLA_revision\\data\\OCT Cell Culture\\Whole\\saved_models\\5PPI\\Graph_GNNs_Kfold\\GAT_3_32_onehot_2\\max\\GraphLevelGAT\\GraphLevelGAT.ckpt\n",
      "y:\\coskun-lab\\Thomas\\23_PLA_revision\\data\\OCT Cell Culture\\Whole\\saved_models\\5PPI\\Graph_GNNs_Kfold\\GAT_3_32_onehot_2\\sum\\GraphLevelGAT\\GraphLevelGAT.ckpt\n",
      "y:\\coskun-lab\\Thomas\\23_PLA_revision\\data\\OCT Cell Culture\\Whole\\saved_models\\5PPI\\Graph_GNNs_Kfold\\GAT_3_32_onehot_2\\attention\\GraphLevelGAT\\GraphLevelGAT.ckpt\n",
      "y:\\coskun-lab\\Thomas\\23_PLA_revision\\data\\OCT Cell Culture\\Whole\\saved_models\\5PPI\\Graph_GNNs_Kfold\\GAT_3_32_onehot_2\\attention2\\GraphLevelGAT\\GraphLevelGAT.ckpt\n",
      "y:\\coskun-lab\\Thomas\\23_PLA_revision\\data\\OCT Cell Culture\\Whole\\saved_models\\5PPI\\Graph_GNNs_Kfold\\GAT_3_64_onehot_2\\mean\\GraphLevelGAT\\GraphLevelGAT.ckpt\n",
      "y:\\coskun-lab\\Thomas\\23_PLA_revision\\data\\OCT Cell Culture\\Whole\\saved_models\\5PPI\\Graph_GNNs_Kfold\\GAT_3_64_onehot_2\\max\\GraphLevelGAT\\GraphLevelGAT.ckpt\n",
      "y:\\coskun-lab\\Thomas\\23_PLA_revision\\data\\OCT Cell Culture\\Whole\\saved_models\\5PPI\\Graph_GNNs_Kfold\\GAT_3_64_onehot_2\\sum\\GraphLevelGAT\\GraphLevelGAT.ckpt\n",
      "y:\\coskun-lab\\Thomas\\23_PLA_revision\\data\\OCT Cell Culture\\Whole\\saved_models\\5PPI\\Graph_GNNs_Kfold\\GAT_3_64_onehot_2\\attention\\GraphLevelGAT\\GraphLevelGAT.ckpt\n",
      "y:\\coskun-lab\\Thomas\\23_PLA_revision\\data\\OCT Cell Culture\\Whole\\saved_models\\5PPI\\Graph_GNNs_Kfold\\GAT_3_64_onehot_2\\attention2\\GraphLevelGAT\\GraphLevelGAT.ckpt\n",
      "y:\\coskun-lab\\Thomas\\23_PLA_revision\\data\\OCT Cell Culture\\Whole\\saved_models\\5PPI\\Graph_GNNs_Kfold\\GAT_4_16_onehot_2\\mean\\GraphLevelGAT\\GraphLevelGAT.ckpt\n",
      "y:\\coskun-lab\\Thomas\\23_PLA_revision\\data\\OCT Cell Culture\\Whole\\saved_models\\5PPI\\Graph_GNNs_Kfold\\GAT_4_16_onehot_2\\max\\GraphLevelGAT\\GraphLevelGAT.ckpt\n",
      "y:\\coskun-lab\\Thomas\\23_PLA_revision\\data\\OCT Cell Culture\\Whole\\saved_models\\5PPI\\Graph_GNNs_Kfold\\GAT_4_16_onehot_2\\sum\\GraphLevelGAT\\GraphLevelGAT.ckpt\n",
      "y:\\coskun-lab\\Thomas\\23_PLA_revision\\data\\OCT Cell Culture\\Whole\\saved_models\\5PPI\\Graph_GNNs_Kfold\\GAT_4_16_onehot_2\\attention\\GraphLevelGAT\\GraphLevelGAT.ckpt\n",
      "y:\\coskun-lab\\Thomas\\23_PLA_revision\\data\\OCT Cell Culture\\Whole\\saved_models\\5PPI\\Graph_GNNs_Kfold\\GAT_4_16_onehot_2\\attention2\\GraphLevelGAT\\GraphLevelGAT.ckpt\n",
      "y:\\coskun-lab\\Thomas\\23_PLA_revision\\data\\OCT Cell Culture\\Whole\\saved_models\\5PPI\\Graph_GNNs_Kfold\\GAT_4_32_onehot_2\\mean\\GraphLevelGAT\\GraphLevelGAT.ckpt\n",
      "y:\\coskun-lab\\Thomas\\23_PLA_revision\\data\\OCT Cell Culture\\Whole\\saved_models\\5PPI\\Graph_GNNs_Kfold\\GAT_4_32_onehot_2\\max\\GraphLevelGAT\\GraphLevelGAT.ckpt\n",
      "y:\\coskun-lab\\Thomas\\23_PLA_revision\\data\\OCT Cell Culture\\Whole\\saved_models\\5PPI\\Graph_GNNs_Kfold\\GAT_4_32_onehot_2\\sum\\GraphLevelGAT\\GraphLevelGAT.ckpt\n",
      "y:\\coskun-lab\\Thomas\\23_PLA_revision\\data\\OCT Cell Culture\\Whole\\saved_models\\5PPI\\Graph_GNNs_Kfold\\GAT_4_32_onehot_2\\attention\\GraphLevelGAT\\GraphLevelGAT.ckpt\n",
      "y:\\coskun-lab\\Thomas\\23_PLA_revision\\data\\OCT Cell Culture\\Whole\\saved_models\\5PPI\\Graph_GNNs_Kfold\\GAT_4_32_onehot_2\\attention2\\GraphLevelGAT\\GraphLevelGAT.ckpt\n",
      "y:\\coskun-lab\\Thomas\\23_PLA_revision\\data\\OCT Cell Culture\\Whole\\saved_models\\5PPI\\Graph_GNNs_Kfold\\GAT_4_64_onehot_2\\mean\\GraphLevelGAT\\GraphLevelGAT.ckpt\n",
      "y:\\coskun-lab\\Thomas\\23_PLA_revision\\data\\OCT Cell Culture\\Whole\\saved_models\\5PPI\\Graph_GNNs_Kfold\\GAT_4_64_onehot_2\\max\\GraphLevelGAT\\GraphLevelGAT.ckpt\n",
      "y:\\coskun-lab\\Thomas\\23_PLA_revision\\data\\OCT Cell Culture\\Whole\\saved_models\\5PPI\\Graph_GNNs_Kfold\\GAT_4_64_onehot_2\\sum\\GraphLevelGAT\\GraphLevelGAT.ckpt\n",
      "y:\\coskun-lab\\Thomas\\23_PLA_revision\\data\\OCT Cell Culture\\Whole\\saved_models\\5PPI\\Graph_GNNs_Kfold\\GAT_4_64_onehot_2\\attention\\GraphLevelGAT\\GraphLevelGAT.ckpt\n",
      "y:\\coskun-lab\\Thomas\\23_PLA_revision\\data\\OCT Cell Culture\\Whole\\saved_models\\5PPI\\Graph_GNNs_Kfold\\GAT_4_64_onehot_2\\attention2\\GraphLevelGAT\\GraphLevelGAT.ckpt\n",
      "y:\\coskun-lab\\Thomas\\23_PLA_revision\\data\\OCT Cell Culture\\Whole\\saved_models\\5PPI\\Graph_GNNs_Kfold\\GAT_2_16_onehot_3\\mean\\GraphLevelGAT\\GraphLevelGAT.ckpt\n",
      "y:\\coskun-lab\\Thomas\\23_PLA_revision\\data\\OCT Cell Culture\\Whole\\saved_models\\5PPI\\Graph_GNNs_Kfold\\GAT_2_16_onehot_3\\max\\GraphLevelGAT\\GraphLevelGAT.ckpt\n",
      "y:\\coskun-lab\\Thomas\\23_PLA_revision\\data\\OCT Cell Culture\\Whole\\saved_models\\5PPI\\Graph_GNNs_Kfold\\GAT_2_16_onehot_3\\sum\\GraphLevelGAT\\GraphLevelGAT.ckpt\n",
      "y:\\coskun-lab\\Thomas\\23_PLA_revision\\data\\OCT Cell Culture\\Whole\\saved_models\\5PPI\\Graph_GNNs_Kfold\\GAT_2_16_onehot_3\\attention\\GraphLevelGAT\\GraphLevelGAT.ckpt\n",
      "y:\\coskun-lab\\Thomas\\23_PLA_revision\\data\\OCT Cell Culture\\Whole\\saved_models\\5PPI\\Graph_GNNs_Kfold\\GAT_2_16_onehot_3\\attention2\\GraphLevelGAT\\GraphLevelGAT.ckpt\n",
      "y:\\coskun-lab\\Thomas\\23_PLA_revision\\data\\OCT Cell Culture\\Whole\\saved_models\\5PPI\\Graph_GNNs_Kfold\\GAT_2_32_onehot_3\\mean\\GraphLevelGAT\\GraphLevelGAT.ckpt\n",
      "y:\\coskun-lab\\Thomas\\23_PLA_revision\\data\\OCT Cell Culture\\Whole\\saved_models\\5PPI\\Graph_GNNs_Kfold\\GAT_2_32_onehot_3\\max\\GraphLevelGAT\\GraphLevelGAT.ckpt\n",
      "y:\\coskun-lab\\Thomas\\23_PLA_revision\\data\\OCT Cell Culture\\Whole\\saved_models\\5PPI\\Graph_GNNs_Kfold\\GAT_2_32_onehot_3\\sum\\GraphLevelGAT\\GraphLevelGAT.ckpt\n",
      "y:\\coskun-lab\\Thomas\\23_PLA_revision\\data\\OCT Cell Culture\\Whole\\saved_models\\5PPI\\Graph_GNNs_Kfold\\GAT_2_32_onehot_3\\attention\\GraphLevelGAT\\GraphLevelGAT.ckpt\n",
      "y:\\coskun-lab\\Thomas\\23_PLA_revision\\data\\OCT Cell Culture\\Whole\\saved_models\\5PPI\\Graph_GNNs_Kfold\\GAT_2_32_onehot_3\\attention2\\GraphLevelGAT\\GraphLevelGAT.ckpt\n",
      "y:\\coskun-lab\\Thomas\\23_PLA_revision\\data\\OCT Cell Culture\\Whole\\saved_models\\5PPI\\Graph_GNNs_Kfold\\GAT_2_64_onehot_3\\mean\\GraphLevelGAT\\GraphLevelGAT.ckpt\n",
      "y:\\coskun-lab\\Thomas\\23_PLA_revision\\data\\OCT Cell Culture\\Whole\\saved_models\\5PPI\\Graph_GNNs_Kfold\\GAT_2_64_onehot_3\\max\\GraphLevelGAT\\GraphLevelGAT.ckpt\n"
     ]
    },
    {
     "name": "stderr",
     "output_type": "stream",
     "text": [
      "Failed to detect the name of this notebook, you can set it manually with the WANDB_NOTEBOOK_NAME environment variable to enable code saving.\n",
      "\u001b[34m\u001b[1mwandb\u001b[0m: Currently logged in as: \u001b[33mthoomas\u001b[0m. Use \u001b[1m`wandb login --relogin`\u001b[0m to force relogin\n"
     ]
    },
    {
     "data": {
      "application/vnd.jupyter.widget-view+json": {
       "model_id": "7a3061c577ca474e9acdf72ff3aab8df",
       "version_major": 2,
       "version_minor": 0
      },
      "text/plain": [
       "VBox(children=(Label(value='Waiting for wandb.init()...\\r'), FloatProgress(value=0.016666666666666666, max=1.0…"
      ]
     },
     "metadata": {},
     "output_type": "display_data"
    },
    {
     "data": {
      "text/html": [
       "wandb version 0.16.2 is available!  To upgrade, please run:\n",
       " $ pip install wandb --upgrade"
      ],
      "text/plain": [
       "<IPython.core.display.HTML object>"
      ]
     },
     "metadata": {},
     "output_type": "display_data"
    },
    {
     "data": {
      "text/html": [
       "Tracking run with wandb version 0.14.0"
      ],
      "text/plain": [
       "<IPython.core.display.HTML object>"
      ]
     },
     "metadata": {},
     "output_type": "display_data"
    },
    {
     "data": {
      "text/html": [
       "Run data is saved locally in <code>y:\\coskun-lab\\Thomas\\23_PLA_revision\\notebooks\\wandb\\run-20240112_102644-x8qnr8au</code>"
      ],
      "text/plain": [
       "<IPython.core.display.HTML object>"
      ]
     },
     "metadata": {},
     "output_type": "display_data"
    },
    {
     "data": {
      "text/html": [
       "Syncing run <strong><a href='https://wandb.ai/thoomas/PLA_01102024_5PPI_Kfold/runs/x8qnr8au' target=\"_blank\">GAT_2_64_onehot_3</a></strong> to <a href='https://wandb.ai/thoomas/PLA_01102024_5PPI_Kfold' target=\"_blank\">Weights & Biases</a> (<a href='https://wandb.me/run' target=\"_blank\">docs</a>)<br/>"
      ],
      "text/plain": [
       "<IPython.core.display.HTML object>"
      ]
     },
     "metadata": {},
     "output_type": "display_data"
    },
    {
     "data": {
      "text/html": [
       " View project at <a href='https://wandb.ai/thoomas/PLA_01102024_5PPI_Kfold' target=\"_blank\">https://wandb.ai/thoomas/PLA_01102024_5PPI_Kfold</a>"
      ],
      "text/plain": [
       "<IPython.core.display.HTML object>"
      ]
     },
     "metadata": {},
     "output_type": "display_data"
    },
    {
     "data": {
      "text/html": [
       " View run at <a href='https://wandb.ai/thoomas/PLA_01102024_5PPI_Kfold/runs/x8qnr8au' target=\"_blank\">https://wandb.ai/thoomas/PLA_01102024_5PPI_Kfold/runs/x8qnr8au</a>"
      ],
      "text/plain": [
       "<IPython.core.display.HTML object>"
      ]
     },
     "metadata": {},
     "output_type": "display_data"
    },
    {
     "name": "stderr",
     "output_type": "stream",
     "text": [
      "Global seed set to 42\n",
      "c:\\Users\\thu71\\Anaconda3\\envs\\snowflake\\lib\\site-packages\\pytorch_lightning\\loggers\\wandb.py:395: UserWarning: There is a wandb run already in progress and newly created instances of `WandbLogger` will reuse this run. If this is not desired, call `wandb.finish()` before instantiating `WandbLogger`.\n",
      "  rank_zero_warn(\n",
      "GPU available: True (cuda), used: True\n",
      "TPU available: False, using: 0 TPU cores\n",
      "IPU available: False, using: 0 IPUs\n",
      "HPU available: False, using: 0 HPUs\n",
      "Global seed set to 42\n"
     ]
    },
    {
     "name": "stdout",
     "output_type": "stream",
     "text": [
      "Using GAT\n"
     ]
    },
    {
     "name": "stderr",
     "output_type": "stream",
     "text": [
      "LOCAL_RANK: 0 - CUDA_VISIBLE_DEVICES: [0,1]\n",
      "\n",
      "  | Name        | Type             | Params\n",
      "-------------------------------------------------\n",
      "0 | x_embedding | Identity         | 0     \n",
      "1 | model       | GAT              | 69.3 K\n",
      "2 | head        | Sequential       | 2.1 K \n",
      "3 | loss_module | CrossEntropyLoss | 0     \n",
      "4 | train_acc   | BinaryAccuracy   | 0     \n",
      "5 | train_auroc | BinaryAUROC      | 0     \n",
      "6 | train_f1    | BinaryF1Score    | 0     \n",
      "7 | valid_acc   | BinaryAccuracy   | 0     \n",
      "8 | valid_auroc | BinaryAUROC      | 0     \n",
      "9 | valid_f1    | BinaryF1Score    | 0     \n",
      "-------------------------------------------------\n",
      "71.5 K    Trainable params\n",
      "0         Non-trainable params\n",
      "71.5 K    Total params\n",
      "0.286     Total estimated model params size (MB)\n",
      "C:\\Users\\thu71\\AppData\\Roaming\\Python\\Python39\\site-packages\\lightning\\pytorch\\trainer\\connectors\\data_connector.py:478: PossibleUserWarning: Your `val_dataloader`'s sampler has shuffling enabled, it is strongly recommended that you turn shuffling off for val/test dataloaders.\n",
      "  rank_zero_warn(\n",
      "C:\\Users\\thu71\\AppData\\Roaming\\Python\\Python39\\site-packages\\lightning\\pytorch\\trainer\\connectors\\data_connector.py:430: PossibleUserWarning: The dataloader, val_dataloader, does not have many workers which may be a bottleneck. Consider increasing the value of the `num_workers` argument` (try 48 which is the number of cpus on this machine) in the `DataLoader` init to improve performance.\n",
      "  rank_zero_warn(\n",
      "C:\\Users\\thu71\\AppData\\Roaming\\Python\\Python39\\site-packages\\lightning\\pytorch\\utilities\\data.py:77: UserWarning: Trying to infer the `batch_size` from an ambiguous collection. The batch size we found is 2. To avoid any miscalculations, use `self.log(..., batch_size=batch_size)`.\n",
      "  warning_cache.warn(\n",
      "C:\\Users\\thu71\\AppData\\Roaming\\Python\\Python39\\site-packages\\lightning\\pytorch\\trainer\\connectors\\data_connector.py:430: PossibleUserWarning: The dataloader, train_dataloader, does not have many workers which may be a bottleneck. Consider increasing the value of the `num_workers` argument` (try 48 which is the number of cpus on this machine) in the `DataLoader` init to improve performance.\n",
      "  rank_zero_warn(\n",
      "C:\\Users\\thu71\\AppData\\Roaming\\Python\\Python39\\site-packages\\lightning\\pytorch\\loops\\fit_loop.py:280: PossibleUserWarning: The number of training batches (5) is smaller than the logging interval Trainer(log_every_n_steps=10). Set a lower value for log_every_n_steps if you want to see logs for the training epoch.\n",
      "  rank_zero_warn(\n",
      "`Trainer.fit` stopped: `max_epochs=50` reached.\n"
     ]
    },
    {
     "data": {
      "text/html": [
       "Waiting for W&B process to finish... <strong style=\"color:green\">(success).</strong>"
      ],
      "text/plain": [
       "<IPython.core.display.HTML object>"
      ]
     },
     "metadata": {},
     "output_type": "display_data"
    },
    {
     "data": {
      "application/vnd.jupyter.widget-view+json": {
       "model_id": "36cb402f9928428694a345a6056f5e61",
       "version_major": 2,
       "version_minor": 0
      },
      "text/plain": [
       "VBox(children=(Label(value='0.001 MB of 0.001 MB uploaded (0.000 MB deduped)\\r'), FloatProgress(value=1.0, max…"
      ]
     },
     "metadata": {},
     "output_type": "display_data"
    },
    {
     "data": {
      "text/html": [
       "<style>\n",
       "    table.wandb td:nth-child(1) { padding: 0 10px; text-align: left ; width: auto;} td:nth-child(2) {text-align: left ; width: 100%}\n",
       "    .wandb-row { display: flex; flex-direction: row; flex-wrap: wrap; justify-content: flex-start; width: 100% }\n",
       "    .wandb-col { display: flex; flex-direction: column; flex-basis: 100%; flex: 1; padding: 10px; }\n",
       "    </style>\n",
       "<div class=\"wandb-row\"><div class=\"wandb-col\"><h3>Run history:</h3><br/><table class=\"wandb\"><tr><td>epoch</td><td>▁▁▁▁▂▂▂▂▂▃▃▃▃▃▃▄▄▄▄▄▅▅▅▅▅▅▆▆▆▆▆▇▇▇▇▇▇███</td></tr><tr><td>lr-Adam</td><td>▁▁▁▁▁▁▁▁▁▁▁▁▁▁▁▁▁▁▁▁▁▁▁▁▁▁▁▁▁▁▁▁▁▁▁▁▁▁▁▁</td></tr><tr><td>train_acc</td><td>▃▁▅▂▅▅▆▆▇▇▇█▇▇▇▇▇▇█▇▇██▇▇▇██▇██▇███▇████</td></tr><tr><td>train_auc</td><td>▃▁▃▅▅▄▄▆▇▇▇▇▇▆▇▇▇▆▇▆▇▆▇█▆▅▃▄▆▄▅▅▅▄▃▄▄▄▅▅</td></tr><tr><td>train_f1</td><td>▄▅▁▆▆▆▅▇▇▇▇█▇██▇█▇█▇▇████▇▇█▇██▇█▇▇▇▇▇▇▇</td></tr><tr><td>train_loss_epoch</td><td>█▄▂▂▁▁▁▁▁▁▁▁▁▁▁▁▁▁▁▁▁▁▁▁▁▁▁▁▁▁▁▁▁▁▁▁▁▁▁▁</td></tr><tr><td>train_loss_step</td><td>█▄▂▂▁▂▁▂▂▂▁▁▁▁▁▁▁▁▁▁▁▁▁▁▁</td></tr><tr><td>trainer/global_step</td><td>▁▁▁▁▂▁▂▁▂▂▃▃▃▃▄▄▂▄▂▄▂▅▃▅▃▆▆▆▃▃▇▇▇▃▇▄█▄█▄</td></tr><tr><td>val_acc</td><td>▁▁▄▁▄▅▆▆▇▆▆▆▆▅▆▆▅▆▇▇▇▇▇▇▇▇███▇███▇██▇▇██</td></tr><tr><td>val_auc</td><td>▁▂▄▄▆▇▇▇████████████████████████████████</td></tr><tr><td>val_f1</td><td>▁▁▅▁▇▇▇█▇██████████████▇█▇▇████▇█████▇██</td></tr><tr><td>val_loss_epoch</td><td>█▄▄▃▃▃▃▃▂▃▂▂▂▂▃▂▂▂▂▂▂▂▁▂▁▂▂▂▂▁▁▂▂▂▂▁▂▁▂▁</td></tr><tr><td>val_loss_step</td><td>█▅▅▅▅▄▄▄▄▃▃▂▃▄▅▃▃▃▃▃▃▄▂▃▃▅▃▃▃▂▃▃▃▃▃▃▃▁▃▂</td></tr></table><br/></div><div class=\"wandb-col\"><h3>Run summary:</h3><br/><table class=\"wandb\"><tr><td>epoch</td><td>49</td></tr><tr><td>lr-Adam</td><td>0.005</td></tr><tr><td>train_acc</td><td>0.73071</td></tr><tr><td>train_auc</td><td>0.56376</td></tr><tr><td>train_f1</td><td>0.60194</td></tr><tr><td>train_loss_epoch</td><td>0.54099</td></tr><tr><td>train_loss_step</td><td>0.55909</td></tr><tr><td>trainer/global_step</td><td>249</td></tr><tr><td>val_acc</td><td>0.78947</td></tr><tr><td>val_auc</td><td>0.84717</td></tr><tr><td>val_f1</td><td>0.64835</td></tr><tr><td>val_loss_epoch</td><td>0.46879</td></tr><tr><td>val_loss_step</td><td>0.45664</td></tr></table><br/></div></div>"
      ],
      "text/plain": [
       "<IPython.core.display.HTML object>"
      ]
     },
     "metadata": {},
     "output_type": "display_data"
    },
    {
     "data": {
      "text/html": [
       " View run <strong style=\"color:#cdcd00\">GAT_2_64_onehot_3</strong> at: <a href='https://wandb.ai/thoomas/PLA_01102024_5PPI_Kfold/runs/x8qnr8au' target=\"_blank\">https://wandb.ai/thoomas/PLA_01102024_5PPI_Kfold/runs/x8qnr8au</a><br/>Synced 6 W&B file(s), 0 media file(s), 0 artifact file(s) and 0 other file(s)"
      ],
      "text/plain": [
       "<IPython.core.display.HTML object>"
      ]
     },
     "metadata": {},
     "output_type": "display_data"
    },
    {
     "data": {
      "text/html": [
       "Find logs at: <code>.\\wandb\\run-20240112_102644-x8qnr8au\\logs</code>"
      ],
      "text/plain": [
       "<IPython.core.display.HTML object>"
      ]
     },
     "metadata": {},
     "output_type": "display_data"
    },
    {
     "data": {
      "application/vnd.jupyter.widget-view+json": {
       "model_id": "fa602b50d6b9456fbf0b1df50a98ac37",
       "version_major": 2,
       "version_minor": 0
      },
      "text/plain": [
       "VBox(children=(Label(value='Waiting for wandb.init()...\\r'), FloatProgress(value=0.016666666666666666, max=1.0…"
      ]
     },
     "metadata": {},
     "output_type": "display_data"
    },
    {
     "data": {
      "text/html": [
       "wandb version 0.16.2 is available!  To upgrade, please run:\n",
       " $ pip install wandb --upgrade"
      ],
      "text/plain": [
       "<IPython.core.display.HTML object>"
      ]
     },
     "metadata": {},
     "output_type": "display_data"
    },
    {
     "data": {
      "text/html": [
       "Tracking run with wandb version 0.14.0"
      ],
      "text/plain": [
       "<IPython.core.display.HTML object>"
      ]
     },
     "metadata": {},
     "output_type": "display_data"
    },
    {
     "data": {
      "text/html": [
       "Run data is saved locally in <code>y:\\coskun-lab\\Thomas\\23_PLA_revision\\notebooks\\wandb\\run-20240112_104001-0d2cj318</code>"
      ],
      "text/plain": [
       "<IPython.core.display.HTML object>"
      ]
     },
     "metadata": {},
     "output_type": "display_data"
    },
    {
     "data": {
      "text/html": [
       "Syncing run <strong><a href='https://wandb.ai/thoomas/PLA_01102024_5PPI_Kfold/runs/0d2cj318' target=\"_blank\">GAT_2_64_onehot_3</a></strong> to <a href='https://wandb.ai/thoomas/PLA_01102024_5PPI_Kfold' target=\"_blank\">Weights & Biases</a> (<a href='https://wandb.me/run' target=\"_blank\">docs</a>)<br/>"
      ],
      "text/plain": [
       "<IPython.core.display.HTML object>"
      ]
     },
     "metadata": {},
     "output_type": "display_data"
    },
    {
     "data": {
      "text/html": [
       " View project at <a href='https://wandb.ai/thoomas/PLA_01102024_5PPI_Kfold' target=\"_blank\">https://wandb.ai/thoomas/PLA_01102024_5PPI_Kfold</a>"
      ],
      "text/plain": [
       "<IPython.core.display.HTML object>"
      ]
     },
     "metadata": {},
     "output_type": "display_data"
    },
    {
     "data": {
      "text/html": [
       " View run at <a href='https://wandb.ai/thoomas/PLA_01102024_5PPI_Kfold/runs/0d2cj318' target=\"_blank\">https://wandb.ai/thoomas/PLA_01102024_5PPI_Kfold/runs/0d2cj318</a>"
      ],
      "text/plain": [
       "<IPython.core.display.HTML object>"
      ]
     },
     "metadata": {},
     "output_type": "display_data"
    },
    {
     "name": "stderr",
     "output_type": "stream",
     "text": [
      "Global seed set to 42\n",
      "GPU available: True (cuda), used: True\n",
      "TPU available: False, using: 0 TPU cores\n",
      "IPU available: False, using: 0 IPUs\n",
      "HPU available: False, using: 0 HPUs\n",
      "Global seed set to 42\n",
      "c:\\Users\\thu71\\Anaconda3\\envs\\snowflake\\lib\\site-packages\\torch_geometric\\deprecation.py:12: UserWarning: 'nn.glob.GlobalAttention' is deprecated, use 'nn.aggr.AttentionalAggregation' instead\n",
      "  warnings.warn(out)\n",
      "LOCAL_RANK: 0 - CUDA_VISIBLE_DEVICES: [0,1]\n",
      "\n",
      "   | Name        | Type             | Params\n",
      "--------------------------------------------------\n",
      "0  | x_embedding | Identity         | 0     \n",
      "1  | model       | GAT              | 69.3 K\n",
      "2  | head        | Sequential       | 2.1 K \n",
      "3  | loss_module | CrossEntropyLoss | 0     \n",
      "4  | train_acc   | BinaryAccuracy   | 0     \n",
      "5  | train_auroc | BinaryAUROC      | 0     \n",
      "6  | train_f1    | BinaryF1Score    | 0     \n",
      "7  | valid_acc   | BinaryAccuracy   | 0     \n",
      "8  | valid_auroc | BinaryAUROC      | 0     \n",
      "9  | valid_f1    | BinaryF1Score    | 0     \n",
      "10 | pool        | GlobalAttention  | 65    \n",
      "--------------------------------------------------\n",
      "71.5 K    Trainable params\n",
      "0         Non-trainable params\n",
      "71.5 K    Total params\n",
      "0.286     Total estimated model params size (MB)\n"
     ]
    },
    {
     "name": "stdout",
     "output_type": "stream",
     "text": [
      "Using GAT\n"
     ]
    },
    {
     "name": "stderr",
     "output_type": "stream",
     "text": [
      "`Trainer.fit` stopped: `max_epochs=50` reached.\n"
     ]
    },
    {
     "data": {
      "text/html": [
       "Waiting for W&B process to finish... <strong style=\"color:green\">(success).</strong>"
      ],
      "text/plain": [
       "<IPython.core.display.HTML object>"
      ]
     },
     "metadata": {},
     "output_type": "display_data"
    },
    {
     "data": {
      "application/vnd.jupyter.widget-view+json": {
       "model_id": "598273487393414da56cfd3e929675ac",
       "version_major": 2,
       "version_minor": 0
      },
      "text/plain": [
       "VBox(children=(Label(value='0.001 MB of 0.001 MB uploaded (0.000 MB deduped)\\r'), FloatProgress(value=1.0, max…"
      ]
     },
     "metadata": {},
     "output_type": "display_data"
    },
    {
     "data": {
      "text/html": [
       "<style>\n",
       "    table.wandb td:nth-child(1) { padding: 0 10px; text-align: left ; width: auto;} td:nth-child(2) {text-align: left ; width: 100%}\n",
       "    .wandb-row { display: flex; flex-direction: row; flex-wrap: wrap; justify-content: flex-start; width: 100% }\n",
       "    .wandb-col { display: flex; flex-direction: column; flex-basis: 100%; flex: 1; padding: 10px; }\n",
       "    </style>\n",
       "<div class=\"wandb-row\"><div class=\"wandb-col\"><h3>Run history:</h3><br/><table class=\"wandb\"><tr><td>epoch</td><td>▁▁▁▁▂▂▂▂▂▃▃▃▃▃▃▄▄▄▄▄▅▅▅▅▅▅▆▆▆▆▆▇▇▇▇▇▇███</td></tr><tr><td>lr-Adam</td><td>▁▁▁▁▁▁▁▁▁▁▁▁▁▁▁▁▁▁▁▁▁▁▁▁▁▁▁▁▁▁▁▁▁▁▁▁▁▁▁▁</td></tr><tr><td>train_acc</td><td>▁▄▆▇▆▆▆▇▆▆▇▆▇▇▇▇▆██▇▇▇▇▆▇█▇▇▇▇▇▆▆█▇███▇▇</td></tr><tr><td>train_auc</td><td>▁▅▇▇▇▇▇▇▇▇▇▇▇▇█▇██████▇▇████▇███████████</td></tr><tr><td>train_f1</td><td>▁▅▇▇▇▇▇▇▇▇▇▇▇▇█▇▇██▇▇█▇▇█▇▇█▇▇█▆▇█▇███▇█</td></tr><tr><td>train_loss_epoch</td><td>█▅▂▂▃▂▂▃▁▂▂▂▂▂▂▂▁▁▁▂▁▂▃▂▂▁▂▂▂▂▂▂▂▂▂▂▂▂▁▂</td></tr><tr><td>train_loss_step</td><td>▅▇▃▃▃▇▆█▆▄▅▅▁▄▇▅▃▂▃▆▅█▆▄▅</td></tr><tr><td>trainer/global_step</td><td>▁▁▁▁▂▁▂▁▂▂▃▃▃▃▄▄▂▄▂▄▂▅▃▅▃▆▆▆▃▃▇▇▇▃▇▄█▄█▄</td></tr><tr><td>val_acc</td><td>▁▃▆▇▆▆▇▆▇▇▆▇▇▇██▇▇██▆█▇▆█▇█▇▆▇▇▇█▆█▇▆███</td></tr><tr><td>val_auc</td><td>▂▁▃▄▃▄▅▅▆▅▆▆▅▇▆▇▆▆▆▇▇▆▇▆▆▇▇▇▇▇█▇▇▇▇▇▆▇▇█</td></tr><tr><td>val_f1</td><td>▁▄▇▇▇▇▇██▇▇██▇▇██▇▇██▇█▆▇██████▇██▇█████</td></tr><tr><td>val_loss_epoch</td><td>█▇▆▆▅▅▄▅▃▄▅▄▃▃▃▄▄▄▃▃▃▃▄▃▁▅▂▄▄▄▄▃▂▃▁▃▃▂▂▄</td></tr><tr><td>val_loss_step</td><td>██▅▇▆▄▄▅▄▃▆▄▃▄▃▂▃▅▄▃▄▄▅▃▃▇▃▃▅▄▃▄▁▂▃▃▂▁▃▄</td></tr></table><br/></div><div class=\"wandb-col\"><h3>Run summary:</h3><br/><table class=\"wandb\"><tr><td>epoch</td><td>49</td></tr><tr><td>lr-Adam</td><td>0.005</td></tr><tr><td>train_acc</td><td>0.70361</td></tr><tr><td>train_auc</td><td>0.77044</td></tr><tr><td>train_f1</td><td>0.60198</td></tr><tr><td>train_loss_epoch</td><td>0.56098</td></tr><tr><td>train_loss_step</td><td>0.55275</td></tr><tr><td>trainer/global_step</td><td>249</td></tr><tr><td>val_acc</td><td>0.75987</td></tr><tr><td>val_auc</td><td>0.82432</td></tr><tr><td>val_f1</td><td>0.62944</td></tr><tr><td>val_loss_epoch</td><td>0.52903</td></tr><tr><td>val_loss_step</td><td>0.5555</td></tr></table><br/></div></div>"
      ],
      "text/plain": [
       "<IPython.core.display.HTML object>"
      ]
     },
     "metadata": {},
     "output_type": "display_data"
    },
    {
     "data": {
      "text/html": [
       " View run <strong style=\"color:#cdcd00\">GAT_2_64_onehot_3</strong> at: <a href='https://wandb.ai/thoomas/PLA_01102024_5PPI_Kfold/runs/0d2cj318' target=\"_blank\">https://wandb.ai/thoomas/PLA_01102024_5PPI_Kfold/runs/0d2cj318</a><br/>Synced 6 W&B file(s), 0 media file(s), 0 artifact file(s) and 0 other file(s)"
      ],
      "text/plain": [
       "<IPython.core.display.HTML object>"
      ]
     },
     "metadata": {},
     "output_type": "display_data"
    },
    {
     "data": {
      "text/html": [
       "Find logs at: <code>.\\wandb\\run-20240112_104001-0d2cj318\\logs</code>"
      ],
      "text/plain": [
       "<IPython.core.display.HTML object>"
      ]
     },
     "metadata": {},
     "output_type": "display_data"
    },
    {
     "data": {
      "application/vnd.jupyter.widget-view+json": {
       "model_id": "f1561022322f447aa96e320fccded5f6",
       "version_major": 2,
       "version_minor": 0
      },
      "text/plain": [
       "VBox(children=(Label(value='Waiting for wandb.init()...\\r'), FloatProgress(value=0.016666666666666666, max=1.0…"
      ]
     },
     "metadata": {},
     "output_type": "display_data"
    },
    {
     "data": {
      "text/html": [
       "wandb version 0.16.2 is available!  To upgrade, please run:\n",
       " $ pip install wandb --upgrade"
      ],
      "text/plain": [
       "<IPython.core.display.HTML object>"
      ]
     },
     "metadata": {},
     "output_type": "display_data"
    },
    {
     "data": {
      "text/html": [
       "Tracking run with wandb version 0.14.0"
      ],
      "text/plain": [
       "<IPython.core.display.HTML object>"
      ]
     },
     "metadata": {},
     "output_type": "display_data"
    },
    {
     "data": {
      "text/html": [
       "Run data is saved locally in <code>y:\\coskun-lab\\Thomas\\23_PLA_revision\\notebooks\\wandb\\run-20240112_105534-a0ehkprn</code>"
      ],
      "text/plain": [
       "<IPython.core.display.HTML object>"
      ]
     },
     "metadata": {},
     "output_type": "display_data"
    },
    {
     "data": {
      "text/html": [
       "Syncing run <strong><a href='https://wandb.ai/thoomas/PLA_01102024_5PPI_Kfold/runs/a0ehkprn' target=\"_blank\">GAT_2_64_onehot_3</a></strong> to <a href='https://wandb.ai/thoomas/PLA_01102024_5PPI_Kfold' target=\"_blank\">Weights & Biases</a> (<a href='https://wandb.me/run' target=\"_blank\">docs</a>)<br/>"
      ],
      "text/plain": [
       "<IPython.core.display.HTML object>"
      ]
     },
     "metadata": {},
     "output_type": "display_data"
    },
    {
     "data": {
      "text/html": [
       " View project at <a href='https://wandb.ai/thoomas/PLA_01102024_5PPI_Kfold' target=\"_blank\">https://wandb.ai/thoomas/PLA_01102024_5PPI_Kfold</a>"
      ],
      "text/plain": [
       "<IPython.core.display.HTML object>"
      ]
     },
     "metadata": {},
     "output_type": "display_data"
    },
    {
     "data": {
      "text/html": [
       " View run at <a href='https://wandb.ai/thoomas/PLA_01102024_5PPI_Kfold/runs/a0ehkprn' target=\"_blank\">https://wandb.ai/thoomas/PLA_01102024_5PPI_Kfold/runs/a0ehkprn</a>"
      ],
      "text/plain": [
       "<IPython.core.display.HTML object>"
      ]
     },
     "metadata": {},
     "output_type": "display_data"
    },
    {
     "name": "stderr",
     "output_type": "stream",
     "text": [
      "Global seed set to 42\n",
      "GPU available: True (cuda), used: True\n",
      "TPU available: False, using: 0 TPU cores\n",
      "IPU available: False, using: 0 IPUs\n",
      "HPU available: False, using: 0 HPUs\n",
      "Global seed set to 42\n",
      "LOCAL_RANK: 0 - CUDA_VISIBLE_DEVICES: [0,1]\n",
      "\n",
      "   | Name        | Type             | Params\n",
      "--------------------------------------------------\n",
      "0  | x_embedding | Identity         | 0     \n",
      "1  | model       | GAT              | 69.3 K\n",
      "2  | head        | Sequential       | 2.1 K \n",
      "3  | loss_module | CrossEntropyLoss | 0     \n",
      "4  | train_acc   | BinaryAccuracy   | 0     \n",
      "5  | train_auroc | BinaryAUROC      | 0     \n",
      "6  | train_f1    | BinaryF1Score    | 0     \n",
      "7  | valid_acc   | BinaryAccuracy   | 0     \n",
      "8  | valid_auroc | BinaryAUROC      | 0     \n",
      "9  | valid_f1    | BinaryF1Score    | 0     \n",
      "10 | pool        | Attention_module | 4.2 K \n",
      "--------------------------------------------------\n",
      "75.7 K    Trainable params\n",
      "0         Non-trainable params\n",
      "75.7 K    Total params\n",
      "0.303     Total estimated model params size (MB)\n"
     ]
    },
    {
     "name": "stdout",
     "output_type": "stream",
     "text": [
      "Using GAT\n"
     ]
    },
    {
     "name": "stderr",
     "output_type": "stream",
     "text": [
      "`Trainer.fit` stopped: `max_epochs=50` reached.\n"
     ]
    },
    {
     "data": {
      "text/html": [
       "Waiting for W&B process to finish... <strong style=\"color:green\">(success).</strong>"
      ],
      "text/plain": [
       "<IPython.core.display.HTML object>"
      ]
     },
     "metadata": {},
     "output_type": "display_data"
    },
    {
     "data": {
      "application/vnd.jupyter.widget-view+json": {
       "model_id": "49d37cb142904335aee045f33d9c89e2",
       "version_major": 2,
       "version_minor": 0
      },
      "text/plain": [
       "VBox(children=(Label(value='0.001 MB of 0.001 MB uploaded (0.000 MB deduped)\\r'), FloatProgress(value=1.0, max…"
      ]
     },
     "metadata": {},
     "output_type": "display_data"
    },
    {
     "data": {
      "text/html": [
       "<style>\n",
       "    table.wandb td:nth-child(1) { padding: 0 10px; text-align: left ; width: auto;} td:nth-child(2) {text-align: left ; width: 100%}\n",
       "    .wandb-row { display: flex; flex-direction: row; flex-wrap: wrap; justify-content: flex-start; width: 100% }\n",
       "    .wandb-col { display: flex; flex-direction: column; flex-basis: 100%; flex: 1; padding: 10px; }\n",
       "    </style>\n",
       "<div class=\"wandb-row\"><div class=\"wandb-col\"><h3>Run history:</h3><br/><table class=\"wandb\"><tr><td>epoch</td><td>▁▁▁▁▂▂▂▂▂▃▃▃▃▃▃▄▄▄▄▄▅▅▅▅▅▅▆▆▆▆▆▇▇▇▇▇▇███</td></tr><tr><td>lr-Adam</td><td>▁▁▁▁▁▁▁▁▁▁▁▁▁▁▁▁▁▁▁▁▁▁▁▁▁▁▁▁▁▁▁▁▁▁▁▁▁▁▁▁</td></tr><tr><td>train_acc</td><td>▁▃▅▆▆▅▇▆▆▇▆▆▇▇▆▇▇▇▇▇█▇▇▇▇▇▇█▇▇▇▇▇▇█▇▇▇▇▇</td></tr><tr><td>train_auc</td><td>▁▅▆▇█▇█▇▇█▇▇██▇██████▇██▇▇▇█████████████</td></tr><tr><td>train_f1</td><td>▁▄▇▇▇▆█▆▇▇▇▆▇▇▇▇▇▇█▇█▇▇▇▇▇▇▇█▇█▆█▇█▇▇█▇█</td></tr><tr><td>train_loss_epoch</td><td>█▆▄▂▂▃▂▃▂▁▂▃▁▂▂▂▂▂▂▂▁▂▁▂▂▃▂▁▂▂▃▂▁▁▂▁▂▂▁▂</td></tr><tr><td>train_loss_step</td><td>▇▃▅▅▅▄█▁▄▅▆▄▃▂▄█▁▄▆▄▅▂▅▅▅</td></tr><tr><td>trainer/global_step</td><td>▁▁▁▁▂▁▂▁▂▂▃▃▃▃▄▄▂▄▂▄▂▅▃▅▃▆▆▆▃▃▇▇▇▃▇▄█▄█▄</td></tr><tr><td>val_acc</td><td>▁▂▇▆▆▇▇▇▇▇▆▇▆▆▇▇▆▆▇▇▇▇▆▇▆█▆▇▆▇▇██▇▇▇▆▆▆▆</td></tr><tr><td>val_auc</td><td>▁▂▃▄▆▆▅▆▆▆▆▆▇▇▅▆▇▇▇▇▇▇▇▇▇▇██▆▇▇▇▇█▇▇█▇▇█</td></tr><tr><td>val_f1</td><td>▁▃▇▇▇▇▇▇▇▇▇▇▇█▇██████▇▇██▇█▇▇█▇▇▇██████▇</td></tr><tr><td>val_loss_epoch</td><td>█▇▇▆▆▅▃▄▃▄▃▄▂▄▂▃▃▄▄▄▃▃▄▂▄▃▄▃▃▃▄▃▂▃▂▃▃▁▃▃</td></tr><tr><td>val_loss_step</td><td>██▇▇▆▆▄▅▅▄▄▆▅▅▃▄▅▆▅▄▄▅▆▄▅▅▄▅▆▄▄▄▄▄▅▄▅▁▅▅</td></tr></table><br/></div><div class=\"wandb-col\"><h3>Run summary:</h3><br/><table class=\"wandb\"><tr><td>epoch</td><td>49</td></tr><tr><td>lr-Adam</td><td>0.005</td></tr><tr><td>train_acc</td><td>0.711</td></tr><tr><td>train_auc</td><td>0.76766</td></tr><tr><td>train_f1</td><td>0.60271</td></tr><tr><td>train_loss_epoch</td><td>0.5556</td></tr><tr><td>train_loss_step</td><td>0.56735</td></tr><tr><td>trainer/global_step</td><td>249</td></tr><tr><td>val_acc</td><td>0.73355</td></tr><tr><td>val_auc</td><td>0.82123</td></tr><tr><td>val_f1</td><td>0.62326</td></tr><tr><td>val_loss_epoch</td><td>0.51681</td></tr><tr><td>val_loss_step</td><td>0.53339</td></tr></table><br/></div></div>"
      ],
      "text/plain": [
       "<IPython.core.display.HTML object>"
      ]
     },
     "metadata": {},
     "output_type": "display_data"
    },
    {
     "data": {
      "text/html": [
       " View run <strong style=\"color:#cdcd00\">GAT_2_64_onehot_3</strong> at: <a href='https://wandb.ai/thoomas/PLA_01102024_5PPI_Kfold/runs/a0ehkprn' target=\"_blank\">https://wandb.ai/thoomas/PLA_01102024_5PPI_Kfold/runs/a0ehkprn</a><br/>Synced 6 W&B file(s), 0 media file(s), 0 artifact file(s) and 0 other file(s)"
      ],
      "text/plain": [
       "<IPython.core.display.HTML object>"
      ]
     },
     "metadata": {},
     "output_type": "display_data"
    },
    {
     "data": {
      "text/html": [
       "Find logs at: <code>.\\wandb\\run-20240112_105534-a0ehkprn\\logs</code>"
      ],
      "text/plain": [
       "<IPython.core.display.HTML object>"
      ]
     },
     "metadata": {},
     "output_type": "display_data"
    },
    {
     "data": {
      "application/vnd.jupyter.widget-view+json": {
       "model_id": "e9a6450fd6dc4a85b44529a1e3ab47cc",
       "version_major": 2,
       "version_minor": 0
      },
      "text/plain": [
       "VBox(children=(Label(value='Waiting for wandb.init()...\\r'), FloatProgress(value=0.016666666666666666, max=1.0…"
      ]
     },
     "metadata": {},
     "output_type": "display_data"
    },
    {
     "data": {
      "text/html": [
       "wandb version 0.16.2 is available!  To upgrade, please run:\n",
       " $ pip install wandb --upgrade"
      ],
      "text/plain": [
       "<IPython.core.display.HTML object>"
      ]
     },
     "metadata": {},
     "output_type": "display_data"
    },
    {
     "data": {
      "text/html": [
       "Tracking run with wandb version 0.14.0"
      ],
      "text/plain": [
       "<IPython.core.display.HTML object>"
      ]
     },
     "metadata": {},
     "output_type": "display_data"
    },
    {
     "data": {
      "text/html": [
       "Run data is saved locally in <code>y:\\coskun-lab\\Thomas\\23_PLA_revision\\notebooks\\wandb\\run-20240112_111421-mz8kj10d</code>"
      ],
      "text/plain": [
       "<IPython.core.display.HTML object>"
      ]
     },
     "metadata": {},
     "output_type": "display_data"
    },
    {
     "data": {
      "text/html": [
       "Syncing run <strong><a href='https://wandb.ai/thoomas/PLA_01102024_5PPI_Kfold/runs/mz8kj10d' target=\"_blank\">GAT_3_16_onehot_3</a></strong> to <a href='https://wandb.ai/thoomas/PLA_01102024_5PPI_Kfold' target=\"_blank\">Weights & Biases</a> (<a href='https://wandb.me/run' target=\"_blank\">docs</a>)<br/>"
      ],
      "text/plain": [
       "<IPython.core.display.HTML object>"
      ]
     },
     "metadata": {},
     "output_type": "display_data"
    },
    {
     "data": {
      "text/html": [
       " View project at <a href='https://wandb.ai/thoomas/PLA_01102024_5PPI_Kfold' target=\"_blank\">https://wandb.ai/thoomas/PLA_01102024_5PPI_Kfold</a>"
      ],
      "text/plain": [
       "<IPython.core.display.HTML object>"
      ]
     },
     "metadata": {},
     "output_type": "display_data"
    },
    {
     "data": {
      "text/html": [
       " View run at <a href='https://wandb.ai/thoomas/PLA_01102024_5PPI_Kfold/runs/mz8kj10d' target=\"_blank\">https://wandb.ai/thoomas/PLA_01102024_5PPI_Kfold/runs/mz8kj10d</a>"
      ],
      "text/plain": [
       "<IPython.core.display.HTML object>"
      ]
     },
     "metadata": {},
     "output_type": "display_data"
    },
    {
     "name": "stderr",
     "output_type": "stream",
     "text": [
      "Global seed set to 42\n",
      "GPU available: True (cuda), used: True\n",
      "TPU available: False, using: 0 TPU cores\n",
      "IPU available: False, using: 0 IPUs\n",
      "HPU available: False, using: 0 HPUs\n",
      "Global seed set to 42\n",
      "LOCAL_RANK: 0 - CUDA_VISIBLE_DEVICES: [0,1]\n",
      "\n",
      "  | Name        | Type             | Params\n",
      "-------------------------------------------------\n",
      "0 | x_embedding | Identity         | 0     \n",
      "1 | model       | GAT              | 5.7 K \n",
      "2 | head        | Sequential       | 154   \n",
      "3 | loss_module | CrossEntropyLoss | 0     \n",
      "4 | train_acc   | BinaryAccuracy   | 0     \n",
      "5 | train_auroc | BinaryAUROC      | 0     \n",
      "6 | train_f1    | BinaryF1Score    | 0     \n",
      "7 | valid_acc   | BinaryAccuracy   | 0     \n",
      "8 | valid_auroc | BinaryAUROC      | 0     \n",
      "9 | valid_f1    | BinaryF1Score    | 0     \n",
      "-------------------------------------------------\n",
      "5.8 K     Trainable params\n",
      "0         Non-trainable params\n",
      "5.8 K     Total params\n",
      "0.023     Total estimated model params size (MB)\n"
     ]
    },
    {
     "name": "stdout",
     "output_type": "stream",
     "text": [
      "Using GAT\n"
     ]
    },
    {
     "name": "stderr",
     "output_type": "stream",
     "text": [
      "`Trainer.fit` stopped: `max_epochs=50` reached.\n"
     ]
    },
    {
     "data": {
      "text/html": [
       "Waiting for W&B process to finish... <strong style=\"color:green\">(success).</strong>"
      ],
      "text/plain": [
       "<IPython.core.display.HTML object>"
      ]
     },
     "metadata": {},
     "output_type": "display_data"
    },
    {
     "data": {
      "application/vnd.jupyter.widget-view+json": {
       "model_id": "02a72c1bafd8402bbe12503753463af5",
       "version_major": 2,
       "version_minor": 0
      },
      "text/plain": [
       "VBox(children=(Label(value='0.001 MB of 0.001 MB uploaded (0.000 MB deduped)\\r'), FloatProgress(value=1.0, max…"
      ]
     },
     "metadata": {},
     "output_type": "display_data"
    },
    {
     "data": {
      "text/html": [
       "<style>\n",
       "    table.wandb td:nth-child(1) { padding: 0 10px; text-align: left ; width: auto;} td:nth-child(2) {text-align: left ; width: 100%}\n",
       "    .wandb-row { display: flex; flex-direction: row; flex-wrap: wrap; justify-content: flex-start; width: 100% }\n",
       "    .wandb-col { display: flex; flex-direction: column; flex-basis: 100%; flex: 1; padding: 10px; }\n",
       "    </style>\n",
       "<div class=\"wandb-row\"><div class=\"wandb-col\"><h3>Run history:</h3><br/><table class=\"wandb\"><tr><td>epoch</td><td>▁▁▁▁▂▂▂▂▂▃▃▃▃▃▃▄▄▄▄▄▅▅▅▅▅▅▆▆▆▆▆▇▇▇▇▇▇███</td></tr><tr><td>lr-Adam</td><td>▁▁▁▁▁▁▁▁▁▁▁▁▁▁▁▁▁▁▁▁▁▁▁▁▁▁▁▁▁▁▁▁▁▁▁▁▁▁▁▁</td></tr><tr><td>train_acc</td><td>▁▄▅▄▄▆▆█▇██▇▇▇██▇█▇▇██▇▇██████▇█████▇███</td></tr><tr><td>train_auc</td><td>▁▁▂▃▄▆▆▇▇▇▇▇▇▇▇▇▇▇▇▇▇▇▇▇▇▇██▇███▇███▇██▇</td></tr><tr><td>train_f1</td><td>▆▁▁▁▂▄▆████▇█▇▇███▇▇▇▇▇▇█▇▇▇█▇▇▇▇█▇█▇▇▇█</td></tr><tr><td>train_loss_epoch</td><td>█▇▆▆▅▄▄▃▃▃▂▂▃▃▂▂▂▂▃▂▂▂▃▃▂▂▂▂▂▁▁▁▂▁▂▁▂▁▁▂</td></tr><tr><td>train_loss_step</td><td>█▆▆▆▄▄▅▆▃▃▂▄▁▅▂▄▁▄▂▄▄▁▃▁▄</td></tr><tr><td>trainer/global_step</td><td>▁▁▁▁▂▁▂▁▂▂▃▃▃▃▄▄▂▄▂▄▂▅▃▅▃▆▆▆▃▃▇▇▇▃▇▄█▄█▄</td></tr><tr><td>val_acc</td><td>▄▄▄▄▅▅▁▁▃▄▇█▆█▇▇▇▇▆▆▅▅▅▆▇▇█▇▇██▇▆▆▇▆▇▇▆▄</td></tr><tr><td>val_auc</td><td>▁▄▆▆▆▆▇▇▇▇▇▇▇██▇█████▇▇▇████████████████</td></tr><tr><td>val_f1</td><td>▁▁▁▁▄█▇▇▇███████████████████████████████</td></tr><tr><td>val_loss_epoch</td><td>▇▇▇▇▇▇█▇▆▅▅▂▄▂▃▃▄▃▄▄▅▅▅▅▂▁▂▂▃▃▄▂▄▄▄▄▃▃▅█</td></tr><tr><td>val_loss_step</td><td>▇▆▆▆▆▆▇▆▆▆▅▂▄▃▄▄▄▂▄▅▅▄▄▄▄▁▃▄▅▃▄▄▄▄▄▄▄▃▅█</td></tr></table><br/></div><div class=\"wandb-col\"><h3>Run summary:</h3><br/><table class=\"wandb\"><tr><td>epoch</td><td>49</td></tr><tr><td>lr-Adam</td><td>0.005</td></tr><tr><td>train_acc</td><td>0.711</td></tr><tr><td>train_auc</td><td>0.75816</td></tr><tr><td>train_f1</td><td>0.58095</td></tr><tr><td>train_loss_epoch</td><td>0.56859</td></tr><tr><td>train_loss_step</td><td>0.59936</td></tr><tr><td>trainer/global_step</td><td>249</td></tr><tr><td>val_acc</td><td>0.66118</td></tr><tr><td>val_auc</td><td>0.81766</td></tr><tr><td>val_f1</td><td>0.65781</td></tr><tr><td>val_loss_epoch</td><td>0.66973</td></tr><tr><td>val_loss_step</td><td>0.72509</td></tr></table><br/></div></div>"
      ],
      "text/plain": [
       "<IPython.core.display.HTML object>"
      ]
     },
     "metadata": {},
     "output_type": "display_data"
    },
    {
     "data": {
      "text/html": [
       " View run <strong style=\"color:#cdcd00\">GAT_3_16_onehot_3</strong> at: <a href='https://wandb.ai/thoomas/PLA_01102024_5PPI_Kfold/runs/mz8kj10d' target=\"_blank\">https://wandb.ai/thoomas/PLA_01102024_5PPI_Kfold/runs/mz8kj10d</a><br/>Synced 6 W&B file(s), 0 media file(s), 0 artifact file(s) and 0 other file(s)"
      ],
      "text/plain": [
       "<IPython.core.display.HTML object>"
      ]
     },
     "metadata": {},
     "output_type": "display_data"
    },
    {
     "data": {
      "text/html": [
       "Find logs at: <code>.\\wandb\\run-20240112_111421-mz8kj10d\\logs</code>"
      ],
      "text/plain": [
       "<IPython.core.display.HTML object>"
      ]
     },
     "metadata": {},
     "output_type": "display_data"
    },
    {
     "data": {
      "application/vnd.jupyter.widget-view+json": {
       "model_id": "72c9cf56193e40df9f74bb69f6181a1b",
       "version_major": 2,
       "version_minor": 0
      },
      "text/plain": [
       "VBox(children=(Label(value='Waiting for wandb.init()...\\r'), FloatProgress(value=0.016933333330477276, max=1.0…"
      ]
     },
     "metadata": {},
     "output_type": "display_data"
    },
    {
     "data": {
      "text/html": [
       "wandb version 0.16.2 is available!  To upgrade, please run:\n",
       " $ pip install wandb --upgrade"
      ],
      "text/plain": [
       "<IPython.core.display.HTML object>"
      ]
     },
     "metadata": {},
     "output_type": "display_data"
    },
    {
     "data": {
      "text/html": [
       "Tracking run with wandb version 0.14.0"
      ],
      "text/plain": [
       "<IPython.core.display.HTML object>"
      ]
     },
     "metadata": {},
     "output_type": "display_data"
    },
    {
     "data": {
      "text/html": [
       "Run data is saved locally in <code>y:\\coskun-lab\\Thomas\\23_PLA_revision\\notebooks\\wandb\\run-20240112_112802-w1zumt27</code>"
      ],
      "text/plain": [
       "<IPython.core.display.HTML object>"
      ]
     },
     "metadata": {},
     "output_type": "display_data"
    },
    {
     "data": {
      "text/html": [
       "Syncing run <strong><a href='https://wandb.ai/thoomas/PLA_01102024_5PPI_Kfold/runs/w1zumt27' target=\"_blank\">GAT_3_16_onehot_3</a></strong> to <a href='https://wandb.ai/thoomas/PLA_01102024_5PPI_Kfold' target=\"_blank\">Weights & Biases</a> (<a href='https://wandb.me/run' target=\"_blank\">docs</a>)<br/>"
      ],
      "text/plain": [
       "<IPython.core.display.HTML object>"
      ]
     },
     "metadata": {},
     "output_type": "display_data"
    },
    {
     "data": {
      "text/html": [
       " View project at <a href='https://wandb.ai/thoomas/PLA_01102024_5PPI_Kfold' target=\"_blank\">https://wandb.ai/thoomas/PLA_01102024_5PPI_Kfold</a>"
      ],
      "text/plain": [
       "<IPython.core.display.HTML object>"
      ]
     },
     "metadata": {},
     "output_type": "display_data"
    },
    {
     "data": {
      "text/html": [
       " View run at <a href='https://wandb.ai/thoomas/PLA_01102024_5PPI_Kfold/runs/w1zumt27' target=\"_blank\">https://wandb.ai/thoomas/PLA_01102024_5PPI_Kfold/runs/w1zumt27</a>"
      ],
      "text/plain": [
       "<IPython.core.display.HTML object>"
      ]
     },
     "metadata": {},
     "output_type": "display_data"
    },
    {
     "name": "stderr",
     "output_type": "stream",
     "text": [
      "Global seed set to 42\n",
      "GPU available: True (cuda), used: True\n",
      "TPU available: False, using: 0 TPU cores\n",
      "IPU available: False, using: 0 IPUs\n",
      "HPU available: False, using: 0 HPUs\n",
      "Global seed set to 42\n",
      "LOCAL_RANK: 0 - CUDA_VISIBLE_DEVICES: [0,1]\n",
      "\n",
      "  | Name        | Type             | Params\n",
      "-------------------------------------------------\n",
      "0 | x_embedding | Identity         | 0     \n",
      "1 | model       | GAT              | 5.7 K \n",
      "2 | head        | Sequential       | 154   \n",
      "3 | loss_module | CrossEntropyLoss | 0     \n",
      "4 | train_acc   | BinaryAccuracy   | 0     \n",
      "5 | train_auroc | BinaryAUROC      | 0     \n",
      "6 | train_f1    | BinaryF1Score    | 0     \n",
      "7 | valid_acc   | BinaryAccuracy   | 0     \n",
      "8 | valid_auroc | BinaryAUROC      | 0     \n",
      "9 | valid_f1    | BinaryF1Score    | 0     \n",
      "-------------------------------------------------\n",
      "5.8 K     Trainable params\n",
      "0         Non-trainable params\n",
      "5.8 K     Total params\n",
      "0.023     Total estimated model params size (MB)\n"
     ]
    },
    {
     "name": "stdout",
     "output_type": "stream",
     "text": [
      "Using GAT\n"
     ]
    },
    {
     "name": "stderr",
     "output_type": "stream",
     "text": [
      "`Trainer.fit` stopped: `max_epochs=50` reached.\n"
     ]
    },
    {
     "data": {
      "text/html": [
       "Waiting for W&B process to finish... <strong style=\"color:green\">(success).</strong>"
      ],
      "text/plain": [
       "<IPython.core.display.HTML object>"
      ]
     },
     "metadata": {},
     "output_type": "display_data"
    },
    {
     "data": {
      "application/vnd.jupyter.widget-view+json": {
       "model_id": "9e9c7bc4e28144e6903b3bba7653a6a9",
       "version_major": 2,
       "version_minor": 0
      },
      "text/plain": [
       "VBox(children=(Label(value='0.001 MB of 0.001 MB uploaded (0.000 MB deduped)\\r'), FloatProgress(value=1.0, max…"
      ]
     },
     "metadata": {},
     "output_type": "display_data"
    },
    {
     "data": {
      "text/html": [
       "<style>\n",
       "    table.wandb td:nth-child(1) { padding: 0 10px; text-align: left ; width: auto;} td:nth-child(2) {text-align: left ; width: 100%}\n",
       "    .wandb-row { display: flex; flex-direction: row; flex-wrap: wrap; justify-content: flex-start; width: 100% }\n",
       "    .wandb-col { display: flex; flex-direction: column; flex-basis: 100%; flex: 1; padding: 10px; }\n",
       "    </style>\n",
       "<div class=\"wandb-row\"><div class=\"wandb-col\"><h3>Run history:</h3><br/><table class=\"wandb\"><tr><td>epoch</td><td>▁▁▁▁▂▂▂▂▂▃▃▃▃▃▃▄▄▄▄▄▅▅▅▅▅▅▆▆▆▆▆▇▇▇▇▇▇███</td></tr><tr><td>lr-Adam</td><td>▁▁▁▁▁▁▁▁▁▁▁▁▁▁▁▁▁▁▁▁▁▁▁▁▁▁▁▁▁▁▁▁▁▁▁▁▁▁▁▁</td></tr><tr><td>train_acc</td><td>▁▅▆▅▆▆▅▆▆▆▆▆▆▆▇▇▇▇▆▇▇▇▇▇▇▇▇▇██▇▇▇█▇▇▇███</td></tr><tr><td>train_auc</td><td>▁▁▁▁▂▃▂▄▄▃▄▆▅▆▅▅▅▆▆▇▇▆▆▇▇▇▇▇▇▇▇█▇▇▇▇▇██▇</td></tr><tr><td>train_f1</td><td>▇▄▃▂▁▁▁▁▁▂▃▃▄▅▅▆▅▇▆▆▆▆▇▇▆▆▇▆▇▇▆▇▇█▇▇▇▇▇█</td></tr><tr><td>train_loss_epoch</td><td>█▆▆▅▅▅▅▄▄▄▄▃▄▃▄▄▄▃▄▃▂▃▃▃▂▃▂▂▁▂▂▁▂▁▂▁▂▁▁▁</td></tr><tr><td>train_loss_step</td><td>█▆▆▇▅▄▅▅▄▄▃▅▁▅▂▄▃▃▄▄▃▃▂▁▅</td></tr><tr><td>trainer/global_step</td><td>▁▁▁▁▂▁▂▁▂▂▃▃▃▃▄▄▂▄▂▄▂▅▃▅▃▆▆▆▃▃▇▇▇▃▇▄█▄█▄</td></tr><tr><td>val_acc</td><td>▂▂▂▂▂▂▂▂▃▂▄▅▁▃▃▄▅▅▅▅▅▆▆▆▄▅▆▆▆▇▅▆▇▇▇▇▇██▇</td></tr><tr><td>val_auc</td><td>▁▄▅▆▅▅▅▅▅▅▅▅▅▅▅▅▅▆▆▆▆▆▇▇▆▇▇▇▇▇▇▇▇███████</td></tr><tr><td>val_f1</td><td>▁▁▁▁▁▁▁▁▁▄▆▇▇▇██▇▇▇▇▇▇█▇▆▇▇▇▇▇▇▇██▇█████</td></tr><tr><td>val_loss_epoch</td><td>██▇▇▇▆▆▆▆▇▇▆▇▆▆▅▅▄▃▅▂▃▃▂▃▂▃▃▃▁▂▁▂▃▂▃▃▂▂▂</td></tr><tr><td>val_loss_step</td><td>█▇▇▇▆▆▅▅▆▆▇▅▆▆▇▄▄▄▃▄▄▃▂▃▃▁▃▄▄▁▃▂▂▃▂▁▄▁▂▂</td></tr></table><br/></div><div class=\"wandb-col\"><h3>Run summary:</h3><br/><table class=\"wandb\"><tr><td>epoch</td><td>49</td></tr><tr><td>lr-Adam</td><td>0.005</td></tr><tr><td>train_acc</td><td>0.6798</td></tr><tr><td>train_auc</td><td>0.71995</td></tr><tr><td>train_f1</td><td>0.52323</td></tr><tr><td>train_loss_epoch</td><td>0.59598</td></tr><tr><td>train_loss_step</td><td>0.64112</td></tr><tr><td>trainer/global_step</td><td>249</td></tr><tr><td>val_acc</td><td>0.73026</td></tr><tr><td>val_auc</td><td>0.78795</td></tr><tr><td>val_f1</td><td>0.60194</td></tr><tr><td>val_loss_epoch</td><td>0.5836</td></tr><tr><td>val_loss_step</td><td>0.58564</td></tr></table><br/></div></div>"
      ],
      "text/plain": [
       "<IPython.core.display.HTML object>"
      ]
     },
     "metadata": {},
     "output_type": "display_data"
    },
    {
     "data": {
      "text/html": [
       " View run <strong style=\"color:#cdcd00\">GAT_3_16_onehot_3</strong> at: <a href='https://wandb.ai/thoomas/PLA_01102024_5PPI_Kfold/runs/w1zumt27' target=\"_blank\">https://wandb.ai/thoomas/PLA_01102024_5PPI_Kfold/runs/w1zumt27</a><br/>Synced 6 W&B file(s), 0 media file(s), 0 artifact file(s) and 0 other file(s)"
      ],
      "text/plain": [
       "<IPython.core.display.HTML object>"
      ]
     },
     "metadata": {},
     "output_type": "display_data"
    },
    {
     "data": {
      "text/html": [
       "Find logs at: <code>.\\wandb\\run-20240112_112802-w1zumt27\\logs</code>"
      ],
      "text/plain": [
       "<IPython.core.display.HTML object>"
      ]
     },
     "metadata": {},
     "output_type": "display_data"
    },
    {
     "data": {
      "application/vnd.jupyter.widget-view+json": {
       "model_id": "fc0f2b99f3804973ba38c8a2be025587",
       "version_major": 2,
       "version_minor": 0
      },
      "text/plain": [
       "VBox(children=(Label(value='Waiting for wandb.init()...\\r'), FloatProgress(value=0.01693333333435779, max=1.0)…"
      ]
     },
     "metadata": {},
     "output_type": "display_data"
    },
    {
     "data": {
      "text/html": [
       "wandb version 0.16.2 is available!  To upgrade, please run:\n",
       " $ pip install wandb --upgrade"
      ],
      "text/plain": [
       "<IPython.core.display.HTML object>"
      ]
     },
     "metadata": {},
     "output_type": "display_data"
    },
    {
     "data": {
      "text/html": [
       "Tracking run with wandb version 0.14.0"
      ],
      "text/plain": [
       "<IPython.core.display.HTML object>"
      ]
     },
     "metadata": {},
     "output_type": "display_data"
    },
    {
     "data": {
      "text/html": [
       "Run data is saved locally in <code>y:\\coskun-lab\\Thomas\\23_PLA_revision\\notebooks\\wandb\\run-20240112_114358-0k1t680q</code>"
      ],
      "text/plain": [
       "<IPython.core.display.HTML object>"
      ]
     },
     "metadata": {},
     "output_type": "display_data"
    },
    {
     "data": {
      "text/html": [
       "Syncing run <strong><a href='https://wandb.ai/thoomas/PLA_01102024_5PPI_Kfold/runs/0k1t680q' target=\"_blank\">GAT_3_16_onehot_3</a></strong> to <a href='https://wandb.ai/thoomas/PLA_01102024_5PPI_Kfold' target=\"_blank\">Weights & Biases</a> (<a href='https://wandb.me/run' target=\"_blank\">docs</a>)<br/>"
      ],
      "text/plain": [
       "<IPython.core.display.HTML object>"
      ]
     },
     "metadata": {},
     "output_type": "display_data"
    },
    {
     "data": {
      "text/html": [
       " View project at <a href='https://wandb.ai/thoomas/PLA_01102024_5PPI_Kfold' target=\"_blank\">https://wandb.ai/thoomas/PLA_01102024_5PPI_Kfold</a>"
      ],
      "text/plain": [
       "<IPython.core.display.HTML object>"
      ]
     },
     "metadata": {},
     "output_type": "display_data"
    },
    {
     "data": {
      "text/html": [
       " View run at <a href='https://wandb.ai/thoomas/PLA_01102024_5PPI_Kfold/runs/0k1t680q' target=\"_blank\">https://wandb.ai/thoomas/PLA_01102024_5PPI_Kfold/runs/0k1t680q</a>"
      ],
      "text/plain": [
       "<IPython.core.display.HTML object>"
      ]
     },
     "metadata": {},
     "output_type": "display_data"
    },
    {
     "name": "stderr",
     "output_type": "stream",
     "text": [
      "Global seed set to 42\n",
      "GPU available: True (cuda), used: True\n",
      "TPU available: False, using: 0 TPU cores\n",
      "IPU available: False, using: 0 IPUs\n",
      "HPU available: False, using: 0 HPUs\n",
      "Global seed set to 42\n",
      "LOCAL_RANK: 0 - CUDA_VISIBLE_DEVICES: [0,1]\n",
      "\n",
      "  | Name        | Type             | Params\n",
      "-------------------------------------------------\n",
      "0 | x_embedding | Identity         | 0     \n",
      "1 | model       | GAT              | 5.7 K \n",
      "2 | head        | Sequential       | 154   \n",
      "3 | loss_module | CrossEntropyLoss | 0     \n",
      "4 | train_acc   | BinaryAccuracy   | 0     \n",
      "5 | train_auroc | BinaryAUROC      | 0     \n",
      "6 | train_f1    | BinaryF1Score    | 0     \n",
      "7 | valid_acc   | BinaryAccuracy   | 0     \n",
      "8 | valid_auroc | BinaryAUROC      | 0     \n",
      "9 | valid_f1    | BinaryF1Score    | 0     \n",
      "-------------------------------------------------\n",
      "5.8 K     Trainable params\n",
      "0         Non-trainable params\n",
      "5.8 K     Total params\n",
      "0.023     Total estimated model params size (MB)\n"
     ]
    },
    {
     "name": "stdout",
     "output_type": "stream",
     "text": [
      "Using GAT\n"
     ]
    },
    {
     "name": "stderr",
     "output_type": "stream",
     "text": [
      "`Trainer.fit` stopped: `max_epochs=50` reached.\n"
     ]
    },
    {
     "data": {
      "text/html": [
       "Waiting for W&B process to finish... <strong style=\"color:green\">(success).</strong>"
      ],
      "text/plain": [
       "<IPython.core.display.HTML object>"
      ]
     },
     "metadata": {},
     "output_type": "display_data"
    },
    {
     "data": {
      "application/vnd.jupyter.widget-view+json": {
       "model_id": "c0317fb9cb1348c39140deaa1e12d518",
       "version_major": 2,
       "version_minor": 0
      },
      "text/plain": [
       "VBox(children=(Label(value='0.001 MB of 0.001 MB uploaded (0.000 MB deduped)\\r'), FloatProgress(value=1.0, max…"
      ]
     },
     "metadata": {},
     "output_type": "display_data"
    },
    {
     "data": {
      "text/html": [
       "<style>\n",
       "    table.wandb td:nth-child(1) { padding: 0 10px; text-align: left ; width: auto;} td:nth-child(2) {text-align: left ; width: 100%}\n",
       "    .wandb-row { display: flex; flex-direction: row; flex-wrap: wrap; justify-content: flex-start; width: 100% }\n",
       "    .wandb-col { display: flex; flex-direction: column; flex-basis: 100%; flex: 1; padding: 10px; }\n",
       "    </style>\n",
       "<div class=\"wandb-row\"><div class=\"wandb-col\"><h3>Run history:</h3><br/><table class=\"wandb\"><tr><td>epoch</td><td>▁▁▁▁▂▂▂▂▂▃▃▃▃▃▃▄▄▄▄▄▅▅▅▅▅▅▆▆▆▆▆▇▇▇▇▇▇███</td></tr><tr><td>lr-Adam</td><td>▁▁▁▁▁▁▁▁▁▁▁▁▁▁▁▁▁▁▁▁▁▁▁▁▁▁▁▁▁▁▁▁▁▁▁▁▁▁▁▁</td></tr><tr><td>train_acc</td><td>▁▂▃▄▅▇▆▇▇▇▇▇▇▇▇▇▇▇▇▇▇█▇█▇▇██▇█▇▇████▇█▇▇</td></tr><tr><td>train_auc</td><td>▁▂▃▅▅▆▆▆▆▇▇█▇▆▆▇▆▆▇▇▆▇▆▇▆▇▇█▇█▇▇▇█▇██▇█▇</td></tr><tr><td>train_f1</td><td>▁▁▂▃▃▆▆▅▆▄▆▇▅▅▅▇█▅▅▇▆▆▇▅▇▆▇█▆▆▆▆▇█▆█▅▇▆▇</td></tr><tr><td>train_loss_epoch</td><td>█▅▃▃▂▂▂▂▂▂▂▂▂▂▂▁▂▁▁▂▁▁▂▁▁▁▁▁▁▁▁▁▁▁▁▁▁▁▁▁</td></tr><tr><td>train_loss_step</td><td>█▅▄▄▄▃▄▄▃▃▂▃▂▃▂▃▂▃▂▄▂▁▂▁▃</td></tr><tr><td>trainer/global_step</td><td>▁▁▁▁▂▁▂▁▂▂▃▃▃▃▄▄▂▄▂▄▂▅▃▅▃▆▆▆▃▃▇▇▇▃▇▄█▄█▄</td></tr><tr><td>val_acc</td><td>▅▅▃▁▅▃▅▆▇▇▇▇▇█▇▇▇▇▇▇▇▇▇█▇▇▇▇█▇█▇▇█▇▇▇▇▇▇</td></tr><tr><td>val_auc</td><td>▁▂▆▆▇▇▇▇▇███████████████████████████████</td></tr><tr><td>val_f1</td><td>▁▂▇▇▇▇██████████████████████████████████</td></tr><tr><td>val_loss_epoch</td><td>▅▇▇█▆▇▆▄▃▃▄▂▃▂▃▃▄▃▄▄▄▃▃▃▂▁▂▃▃▂▄▂▂▂▃▃▃▂▅▃</td></tr><tr><td>val_loss_step</td><td>▇▇▇█▇▇▇▅▅▅▅▂▄▃▄▄▄▄▅▄▄▃▄▄▄▁▄▃▄▃▄▃▃▃▄▃▅▂▄▅</td></tr></table><br/></div><div class=\"wandb-col\"><h3>Run summary:</h3><br/><table class=\"wandb\"><tr><td>epoch</td><td>49</td></tr><tr><td>lr-Adam</td><td>0.005</td></tr><tr><td>train_acc</td><td>0.71182</td></tr><tr><td>train_auc</td><td>0.6974</td></tr><tr><td>train_f1</td><td>0.57247</td></tr><tr><td>train_loss_epoch</td><td>0.5523</td></tr><tr><td>train_loss_step</td><td>0.58916</td></tr><tr><td>trainer/global_step</td><td>249</td></tr><tr><td>val_acc</td><td>0.74342</td></tr><tr><td>val_auc</td><td>0.8577</td></tr><tr><td>val_f1</td><td>0.68033</td></tr><tr><td>val_loss_epoch</td><td>0.55029</td></tr><tr><td>val_loss_step</td><td>0.58812</td></tr></table><br/></div></div>"
      ],
      "text/plain": [
       "<IPython.core.display.HTML object>"
      ]
     },
     "metadata": {},
     "output_type": "display_data"
    },
    {
     "data": {
      "text/html": [
       " View run <strong style=\"color:#cdcd00\">GAT_3_16_onehot_3</strong> at: <a href='https://wandb.ai/thoomas/PLA_01102024_5PPI_Kfold/runs/0k1t680q' target=\"_blank\">https://wandb.ai/thoomas/PLA_01102024_5PPI_Kfold/runs/0k1t680q</a><br/>Synced 6 W&B file(s), 0 media file(s), 0 artifact file(s) and 0 other file(s)"
      ],
      "text/plain": [
       "<IPython.core.display.HTML object>"
      ]
     },
     "metadata": {},
     "output_type": "display_data"
    },
    {
     "data": {
      "text/html": [
       "Find logs at: <code>.\\wandb\\run-20240112_114358-0k1t680q\\logs</code>"
      ],
      "text/plain": [
       "<IPython.core.display.HTML object>"
      ]
     },
     "metadata": {},
     "output_type": "display_data"
    },
    {
     "data": {
      "application/vnd.jupyter.widget-view+json": {
       "model_id": "bdb5cc6cd88849fe94fc7b3ec4efb16a",
       "version_major": 2,
       "version_minor": 0
      },
      "text/plain": [
       "VBox(children=(Label(value='Waiting for wandb.init()...\\r'), FloatProgress(value=0.01693333333435779, max=1.0)…"
      ]
     },
     "metadata": {},
     "output_type": "display_data"
    },
    {
     "data": {
      "text/html": [
       "wandb version 0.16.2 is available!  To upgrade, please run:\n",
       " $ pip install wandb --upgrade"
      ],
      "text/plain": [
       "<IPython.core.display.HTML object>"
      ]
     },
     "metadata": {},
     "output_type": "display_data"
    },
    {
     "data": {
      "text/html": [
       "Tracking run with wandb version 0.14.0"
      ],
      "text/plain": [
       "<IPython.core.display.HTML object>"
      ]
     },
     "metadata": {},
     "output_type": "display_data"
    },
    {
     "data": {
      "text/html": [
       "Run data is saved locally in <code>y:\\coskun-lab\\Thomas\\23_PLA_revision\\notebooks\\wandb\\run-20240112_120306-xwhdk5u4</code>"
      ],
      "text/plain": [
       "<IPython.core.display.HTML object>"
      ]
     },
     "metadata": {},
     "output_type": "display_data"
    },
    {
     "data": {
      "text/html": [
       "Syncing run <strong><a href='https://wandb.ai/thoomas/PLA_01102024_5PPI_Kfold/runs/xwhdk5u4' target=\"_blank\">GAT_3_16_onehot_3</a></strong> to <a href='https://wandb.ai/thoomas/PLA_01102024_5PPI_Kfold' target=\"_blank\">Weights & Biases</a> (<a href='https://wandb.me/run' target=\"_blank\">docs</a>)<br/>"
      ],
      "text/plain": [
       "<IPython.core.display.HTML object>"
      ]
     },
     "metadata": {},
     "output_type": "display_data"
    },
    {
     "data": {
      "text/html": [
       " View project at <a href='https://wandb.ai/thoomas/PLA_01102024_5PPI_Kfold' target=\"_blank\">https://wandb.ai/thoomas/PLA_01102024_5PPI_Kfold</a>"
      ],
      "text/plain": [
       "<IPython.core.display.HTML object>"
      ]
     },
     "metadata": {},
     "output_type": "display_data"
    },
    {
     "data": {
      "text/html": [
       " View run at <a href='https://wandb.ai/thoomas/PLA_01102024_5PPI_Kfold/runs/xwhdk5u4' target=\"_blank\">https://wandb.ai/thoomas/PLA_01102024_5PPI_Kfold/runs/xwhdk5u4</a>"
      ],
      "text/plain": [
       "<IPython.core.display.HTML object>"
      ]
     },
     "metadata": {},
     "output_type": "display_data"
    },
    {
     "name": "stderr",
     "output_type": "stream",
     "text": [
      "Global seed set to 42\n",
      "GPU available: True (cuda), used: True\n",
      "TPU available: False, using: 0 TPU cores\n",
      "IPU available: False, using: 0 IPUs\n",
      "HPU available: False, using: 0 HPUs\n",
      "Global seed set to 42\n",
      "LOCAL_RANK: 0 - CUDA_VISIBLE_DEVICES: [0,1]\n",
      "\n",
      "   | Name        | Type             | Params\n",
      "--------------------------------------------------\n",
      "0  | x_embedding | Identity         | 0     \n",
      "1  | model       | GAT              | 5.7 K \n",
      "2  | head        | Sequential       | 154   \n",
      "3  | loss_module | CrossEntropyLoss | 0     \n",
      "4  | train_acc   | BinaryAccuracy   | 0     \n",
      "5  | train_auroc | BinaryAUROC      | 0     \n",
      "6  | train_f1    | BinaryF1Score    | 0     \n",
      "7  | valid_acc   | BinaryAccuracy   | 0     \n",
      "8  | valid_auroc | BinaryAUROC      | 0     \n",
      "9  | valid_f1    | BinaryF1Score    | 0     \n",
      "10 | pool        | GlobalAttention  | 17    \n",
      "--------------------------------------------------\n",
      "5.9 K     Trainable params\n",
      "0         Non-trainable params\n",
      "5.9 K     Total params\n",
      "0.023     Total estimated model params size (MB)\n"
     ]
    },
    {
     "name": "stdout",
     "output_type": "stream",
     "text": [
      "Using GAT\n"
     ]
    },
    {
     "name": "stderr",
     "output_type": "stream",
     "text": [
      "`Trainer.fit` stopped: `max_epochs=50` reached.\n"
     ]
    },
    {
     "data": {
      "text/html": [
       "Waiting for W&B process to finish... <strong style=\"color:green\">(success).</strong>"
      ],
      "text/plain": [
       "<IPython.core.display.HTML object>"
      ]
     },
     "metadata": {},
     "output_type": "display_data"
    },
    {
     "data": {
      "application/vnd.jupyter.widget-view+json": {
       "model_id": "7b35b67f6f4b4f48a2e449af8fc30eb4",
       "version_major": 2,
       "version_minor": 0
      },
      "text/plain": [
       "VBox(children=(Label(value='0.001 MB of 0.001 MB uploaded (0.000 MB deduped)\\r'), FloatProgress(value=1.0, max…"
      ]
     },
     "metadata": {},
     "output_type": "display_data"
    },
    {
     "data": {
      "text/html": [
       "<style>\n",
       "    table.wandb td:nth-child(1) { padding: 0 10px; text-align: left ; width: auto;} td:nth-child(2) {text-align: left ; width: 100%}\n",
       "    .wandb-row { display: flex; flex-direction: row; flex-wrap: wrap; justify-content: flex-start; width: 100% }\n",
       "    .wandb-col { display: flex; flex-direction: column; flex-basis: 100%; flex: 1; padding: 10px; }\n",
       "    </style>\n",
       "<div class=\"wandb-row\"><div class=\"wandb-col\"><h3>Run history:</h3><br/><table class=\"wandb\"><tr><td>epoch</td><td>▁▁▁▁▂▂▂▂▂▃▃▃▃▃▃▄▄▄▄▄▅▅▅▅▅▅▆▆▆▆▆▇▇▇▇▇▇███</td></tr><tr><td>lr-Adam</td><td>▁▁▁▁▁▁▁▁▁▁▁▁▁▁▁▁▁▁▁▁▁▁▁▁▁▁▁▁▁▁▁▁▁▁▁▁▁▁▁▁</td></tr><tr><td>train_acc</td><td>▁▅▅▅▅▆▆▆▇▇▇▇▇▇▇███████▇██▇█████▇████████</td></tr><tr><td>train_auc</td><td>▁▃▃▄▅▆▆▇▇▇▇▇▇▇▇██▇███▇▇█████████████████</td></tr><tr><td>train_f1</td><td>▆▂▁▂▂▄▅▅▇▇▇█▇▇▇████▇█▇▇█▇▇██████▇▇██▇▇██</td></tr><tr><td>train_loss_epoch</td><td>█▆▇▅▅▅▄▄▃▃▃▂▂▂▂▂▂▂▁▁▂▂▃▂▂▁▁▁▁▂▂▂▂▂▁▂▁▁▁▂</td></tr><tr><td>train_loss_step</td><td>█▆▆▅▄▄▆▁▄▄▆▄▃▅▄▂▁▂▄▄▄▅▂▁▅</td></tr><tr><td>trainer/global_step</td><td>▁▁▁▁▂▁▂▁▂▂▃▃▃▃▄▄▂▄▂▄▂▅▃▅▃▆▆▆▃▃▇▇▇▃▇▄█▄█▄</td></tr><tr><td>val_acc</td><td>▁▁▁▁▄▅▆▄▅▆▄▁▆▆▆▇▇▅█▆▇▇▆▅▇▅▃▅▄▅▃▃▃▄▅█▇█▆▅</td></tr><tr><td>val_auc</td><td>▁▃▅▆▆▆▇▇▇▇▇▇████████████████████████████</td></tr><tr><td>val_f1</td><td>▁▁▁▁▅▇▇▇████████████████████████████████</td></tr><tr><td>val_loss_epoch</td><td>█▇██▇▇▆▅▅▄▄▇▃▃▃▄▂▄▁▂▃▃▁▄▂▄▅▃▅▄▅▄▅▄▄▂▃▃▃▄</td></tr><tr><td>val_loss_step</td><td>▇▆▇▇▇▇▆▅▅▄▄█▄▄▃▃▄▄▁▄▄▅▁▄▃▄▄▄▅▅▅▅▅▄▃▃▄▅▄▅</td></tr></table><br/></div><div class=\"wandb-col\"><h3>Run summary:</h3><br/><table class=\"wandb\"><tr><td>epoch</td><td>49</td></tr><tr><td>lr-Adam</td><td>0.005</td></tr><tr><td>train_acc</td><td>0.71593</td></tr><tr><td>train_auc</td><td>0.76363</td></tr><tr><td>train_f1</td><td>0.57072</td></tr><tr><td>train_loss_epoch</td><td>0.56611</td></tr><tr><td>train_loss_step</td><td>0.59475</td></tr><tr><td>trainer/global_step</td><td>249</td></tr><tr><td>val_acc</td><td>0.69737</td></tr><tr><td>val_auc</td><td>0.81824</td></tr><tr><td>val_f1</td><td>0.66906</td></tr><tr><td>val_loss_epoch</td><td>0.58736</td></tr><tr><td>val_loss_step</td><td>0.59954</td></tr></table><br/></div></div>"
      ],
      "text/plain": [
       "<IPython.core.display.HTML object>"
      ]
     },
     "metadata": {},
     "output_type": "display_data"
    },
    {
     "data": {
      "text/html": [
       " View run <strong style=\"color:#cdcd00\">GAT_3_16_onehot_3</strong> at: <a href='https://wandb.ai/thoomas/PLA_01102024_5PPI_Kfold/runs/xwhdk5u4' target=\"_blank\">https://wandb.ai/thoomas/PLA_01102024_5PPI_Kfold/runs/xwhdk5u4</a><br/>Synced 6 W&B file(s), 0 media file(s), 0 artifact file(s) and 0 other file(s)"
      ],
      "text/plain": [
       "<IPython.core.display.HTML object>"
      ]
     },
     "metadata": {},
     "output_type": "display_data"
    },
    {
     "data": {
      "text/html": [
       "Find logs at: <code>.\\wandb\\run-20240112_120306-xwhdk5u4\\logs</code>"
      ],
      "text/plain": [
       "<IPython.core.display.HTML object>"
      ]
     },
     "metadata": {},
     "output_type": "display_data"
    },
    {
     "data": {
      "application/vnd.jupyter.widget-view+json": {
       "model_id": "36844da2baf04f2c8cadeffb23147bc3",
       "version_major": 2,
       "version_minor": 0
      },
      "text/plain": [
       "VBox(children=(Label(value='Waiting for wandb.init()...\\r'), FloatProgress(value=0.016666666666666666, max=1.0…"
      ]
     },
     "metadata": {},
     "output_type": "display_data"
    },
    {
     "data": {
      "text/html": [
       "wandb version 0.16.2 is available!  To upgrade, please run:\n",
       " $ pip install wandb --upgrade"
      ],
      "text/plain": [
       "<IPython.core.display.HTML object>"
      ]
     },
     "metadata": {},
     "output_type": "display_data"
    },
    {
     "data": {
      "text/html": [
       "Tracking run with wandb version 0.14.0"
      ],
      "text/plain": [
       "<IPython.core.display.HTML object>"
      ]
     },
     "metadata": {},
     "output_type": "display_data"
    },
    {
     "data": {
      "text/html": [
       "Run data is saved locally in <code>y:\\coskun-lab\\Thomas\\23_PLA_revision\\notebooks\\wandb\\run-20240112_122204-llzq4zf1</code>"
      ],
      "text/plain": [
       "<IPython.core.display.HTML object>"
      ]
     },
     "metadata": {},
     "output_type": "display_data"
    },
    {
     "data": {
      "text/html": [
       "Syncing run <strong><a href='https://wandb.ai/thoomas/PLA_01102024_5PPI_Kfold/runs/llzq4zf1' target=\"_blank\">GAT_3_16_onehot_3</a></strong> to <a href='https://wandb.ai/thoomas/PLA_01102024_5PPI_Kfold' target=\"_blank\">Weights & Biases</a> (<a href='https://wandb.me/run' target=\"_blank\">docs</a>)<br/>"
      ],
      "text/plain": [
       "<IPython.core.display.HTML object>"
      ]
     },
     "metadata": {},
     "output_type": "display_data"
    },
    {
     "data": {
      "text/html": [
       " View project at <a href='https://wandb.ai/thoomas/PLA_01102024_5PPI_Kfold' target=\"_blank\">https://wandb.ai/thoomas/PLA_01102024_5PPI_Kfold</a>"
      ],
      "text/plain": [
       "<IPython.core.display.HTML object>"
      ]
     },
     "metadata": {},
     "output_type": "display_data"
    },
    {
     "data": {
      "text/html": [
       " View run at <a href='https://wandb.ai/thoomas/PLA_01102024_5PPI_Kfold/runs/llzq4zf1' target=\"_blank\">https://wandb.ai/thoomas/PLA_01102024_5PPI_Kfold/runs/llzq4zf1</a>"
      ],
      "text/plain": [
       "<IPython.core.display.HTML object>"
      ]
     },
     "metadata": {},
     "output_type": "display_data"
    },
    {
     "name": "stderr",
     "output_type": "stream",
     "text": [
      "Global seed set to 42\n",
      "GPU available: True (cuda), used: True\n",
      "TPU available: False, using: 0 TPU cores\n",
      "IPU available: False, using: 0 IPUs\n",
      "HPU available: False, using: 0 HPUs\n",
      "Global seed set to 42\n",
      "LOCAL_RANK: 0 - CUDA_VISIBLE_DEVICES: [0,1]\n",
      "\n",
      "   | Name        | Type             | Params\n",
      "--------------------------------------------------\n",
      "0  | x_embedding | Identity         | 0     \n",
      "1  | model       | GAT              | 5.7 K \n",
      "2  | head        | Sequential       | 154   \n",
      "3  | loss_module | CrossEntropyLoss | 0     \n",
      "4  | train_acc   | BinaryAccuracy   | 0     \n",
      "5  | train_auroc | BinaryAUROC      | 0     \n",
      "6  | train_f1    | BinaryF1Score    | 0     \n",
      "7  | valid_acc   | BinaryAccuracy   | 0     \n",
      "8  | valid_auroc | BinaryAUROC      | 0     \n",
      "9  | valid_f1    | BinaryF1Score    | 0     \n",
      "10 | pool        | Attention_module | 281   \n",
      "--------------------------------------------------\n",
      "6.1 K     Trainable params\n",
      "0         Non-trainable params\n",
      "6.1 K     Total params\n",
      "0.024     Total estimated model params size (MB)\n"
     ]
    },
    {
     "name": "stdout",
     "output_type": "stream",
     "text": [
      "Using GAT\n"
     ]
    },
    {
     "name": "stderr",
     "output_type": "stream",
     "text": [
      "`Trainer.fit` stopped: `max_epochs=50` reached.\n"
     ]
    },
    {
     "data": {
      "text/html": [
       "Waiting for W&B process to finish... <strong style=\"color:green\">(success).</strong>"
      ],
      "text/plain": [
       "<IPython.core.display.HTML object>"
      ]
     },
     "metadata": {},
     "output_type": "display_data"
    },
    {
     "data": {
      "application/vnd.jupyter.widget-view+json": {
       "model_id": "1918dd9880c34a148e4e0b957be141cd",
       "version_major": 2,
       "version_minor": 0
      },
      "text/plain": [
       "VBox(children=(Label(value='0.001 MB of 0.001 MB uploaded (0.000 MB deduped)\\r'), FloatProgress(value=1.0, max…"
      ]
     },
     "metadata": {},
     "output_type": "display_data"
    },
    {
     "data": {
      "text/html": [
       "<style>\n",
       "    table.wandb td:nth-child(1) { padding: 0 10px; text-align: left ; width: auto;} td:nth-child(2) {text-align: left ; width: 100%}\n",
       "    .wandb-row { display: flex; flex-direction: row; flex-wrap: wrap; justify-content: flex-start; width: 100% }\n",
       "    .wandb-col { display: flex; flex-direction: column; flex-basis: 100%; flex: 1; padding: 10px; }\n",
       "    </style>\n",
       "<div class=\"wandb-row\"><div class=\"wandb-col\"><h3>Run history:</h3><br/><table class=\"wandb\"><tr><td>epoch</td><td>▁▁▁▁▂▂▂▂▂▃▃▃▃▃▃▄▄▄▄▄▅▅▅▅▅▅▆▆▆▆▆▇▇▇▇▇▇███</td></tr><tr><td>lr-Adam</td><td>▁▁▁▁▁▁▁▁▁▁▁▁▁▁▁▁▁▁▁▁▁▁▁▁▁▁▁▁▁▁▁▁▁▁▁▁▁▁▁▁</td></tr><tr><td>train_acc</td><td>▁▅▅▅▅▅▆▇█▇▇▇██▇▇▇█▇▇█▇▇█▇███████▇▇▇██▇██</td></tr><tr><td>train_auc</td><td>▁▂▂▃▅▆▇▇▇▇▇██▇██▇▇▇▇████████████████████</td></tr><tr><td>train_f1</td><td>▆▂▁▁▂▃▅▇█▇█▇▇██▇▇█▇▇██▇█▇██████▇▇▆▇█▇█▇█</td></tr><tr><td>train_loss_epoch</td><td>█▇▇▆▅▄▃▃▃▂▂▂▂▂▁▂▂▂▂▁▁▂▂▁▂▂▁▁▁▁▁▁▂▂▂▁▂▂▁▁</td></tr><tr><td>train_loss_step</td><td>█▆▅▇▄▄▃▅▄▆▄▁▃▄▄▂▄▂▃▂▂▂▄▂▁</td></tr><tr><td>trainer/global_step</td><td>▁▁▁▁▂▁▂▁▂▂▃▃▃▃▄▄▂▄▂▄▂▅▃▅▃▆▆▆▃▃▇▇▇▃▇▄█▄█▄</td></tr><tr><td>val_acc</td><td>▅▅▅▅▅▆▃▂▁▂▄▆▇▇▇▇▇▇█▇▆█▇█▇██▇▇▇▇▇▇▇▄▅▇▇█▆</td></tr><tr><td>val_auc</td><td>▁▃▆▆▆▆▆▇▇▇▇▇██▇█▇███████████████████████</td></tr><tr><td>val_f1</td><td>▁▁▁▁▃█▇▇▇▇██████████████▇███████████████</td></tr><tr><td>val_loss_epoch</td><td>█▇▇▇▇▇█▆▇▇▅▄▂▅▁▂▃▂▃▂▅▂▂▁▁▂▃▂▂▃▂▂▄▃▅▆▂▃▂▂</td></tr><tr><td>val_loss_step</td><td>█▇▇▇▇▇█▅█▇▅▅▅▇▁▄▅▃▅▄▄▃▄▃▃▃▄▄▃▅▄▅▆▃▅▃▂▄▃▁</td></tr></table><br/></div><div class=\"wandb-col\"><h3>Run summary:</h3><br/><table class=\"wandb\"><tr><td>epoch</td><td>49</td></tr><tr><td>lr-Adam</td><td>0.005</td></tr><tr><td>train_acc</td><td>0.71264</td></tr><tr><td>train_auc</td><td>0.76623</td></tr><tr><td>train_f1</td><td>0.5977</td></tr><tr><td>train_loss_epoch</td><td>0.55965</td></tr><tr><td>train_loss_step</td><td>0.53769</td></tr><tr><td>trainer/global_step</td><td>249</td></tr><tr><td>val_acc</td><td>0.68421</td></tr><tr><td>val_auc</td><td>0.82046</td></tr><tr><td>val_f1</td><td>0.66434</td></tr><tr><td>val_loss_epoch</td><td>0.54503</td></tr><tr><td>val_loss_step</td><td>0.47552</td></tr></table><br/></div></div>"
      ],
      "text/plain": [
       "<IPython.core.display.HTML object>"
      ]
     },
     "metadata": {},
     "output_type": "display_data"
    },
    {
     "data": {
      "text/html": [
       " View run <strong style=\"color:#cdcd00\">GAT_3_16_onehot_3</strong> at: <a href='https://wandb.ai/thoomas/PLA_01102024_5PPI_Kfold/runs/llzq4zf1' target=\"_blank\">https://wandb.ai/thoomas/PLA_01102024_5PPI_Kfold/runs/llzq4zf1</a><br/>Synced 6 W&B file(s), 0 media file(s), 0 artifact file(s) and 0 other file(s)"
      ],
      "text/plain": [
       "<IPython.core.display.HTML object>"
      ]
     },
     "metadata": {},
     "output_type": "display_data"
    },
    {
     "data": {
      "text/html": [
       "Find logs at: <code>.\\wandb\\run-20240112_122204-llzq4zf1\\logs</code>"
      ],
      "text/plain": [
       "<IPython.core.display.HTML object>"
      ]
     },
     "metadata": {},
     "output_type": "display_data"
    },
    {
     "data": {
      "application/vnd.jupyter.widget-view+json": {
       "model_id": "8cebfe9249704e89a3a877cb190645ff",
       "version_major": 2,
       "version_minor": 0
      },
      "text/plain": [
       "VBox(children=(Label(value='Waiting for wandb.init()...\\r'), FloatProgress(value=0.01693333333435779, max=1.0)…"
      ]
     },
     "metadata": {},
     "output_type": "display_data"
    },
    {
     "data": {
      "text/html": [
       "wandb version 0.16.2 is available!  To upgrade, please run:\n",
       " $ pip install wandb --upgrade"
      ],
      "text/plain": [
       "<IPython.core.display.HTML object>"
      ]
     },
     "metadata": {},
     "output_type": "display_data"
    },
    {
     "data": {
      "text/html": [
       "Tracking run with wandb version 0.14.0"
      ],
      "text/plain": [
       "<IPython.core.display.HTML object>"
      ]
     },
     "metadata": {},
     "output_type": "display_data"
    },
    {
     "data": {
      "text/html": [
       "Run data is saved locally in <code>y:\\coskun-lab\\Thomas\\23_PLA_revision\\notebooks\\wandb\\run-20240112_124044-rr17tp0f</code>"
      ],
      "text/plain": [
       "<IPython.core.display.HTML object>"
      ]
     },
     "metadata": {},
     "output_type": "display_data"
    },
    {
     "data": {
      "text/html": [
       "Syncing run <strong><a href='https://wandb.ai/thoomas/PLA_01102024_5PPI_Kfold/runs/rr17tp0f' target=\"_blank\">GAT_3_32_onehot_3</a></strong> to <a href='https://wandb.ai/thoomas/PLA_01102024_5PPI_Kfold' target=\"_blank\">Weights & Biases</a> (<a href='https://wandb.me/run' target=\"_blank\">docs</a>)<br/>"
      ],
      "text/plain": [
       "<IPython.core.display.HTML object>"
      ]
     },
     "metadata": {},
     "output_type": "display_data"
    },
    {
     "data": {
      "text/html": [
       " View project at <a href='https://wandb.ai/thoomas/PLA_01102024_5PPI_Kfold' target=\"_blank\">https://wandb.ai/thoomas/PLA_01102024_5PPI_Kfold</a>"
      ],
      "text/plain": [
       "<IPython.core.display.HTML object>"
      ]
     },
     "metadata": {},
     "output_type": "display_data"
    },
    {
     "data": {
      "text/html": [
       " View run at <a href='https://wandb.ai/thoomas/PLA_01102024_5PPI_Kfold/runs/rr17tp0f' target=\"_blank\">https://wandb.ai/thoomas/PLA_01102024_5PPI_Kfold/runs/rr17tp0f</a>"
      ],
      "text/plain": [
       "<IPython.core.display.HTML object>"
      ]
     },
     "metadata": {},
     "output_type": "display_data"
    },
    {
     "name": "stderr",
     "output_type": "stream",
     "text": [
      "Global seed set to 42\n",
      "GPU available: True (cuda), used: True\n",
      "TPU available: False, using: 0 TPU cores\n",
      "IPU available: False, using: 0 IPUs\n",
      "HPU available: False, using: 0 HPUs\n",
      "Global seed set to 42\n",
      "LOCAL_RANK: 0 - CUDA_VISIBLE_DEVICES: [0,1]\n",
      "\n",
      "  | Name        | Type             | Params\n",
      "-------------------------------------------------\n",
      "0 | x_embedding | Identity         | 0     \n",
      "1 | model       | GAT              | 20.6 K\n",
      "2 | head        | Sequential       | 562   \n",
      "3 | loss_module | CrossEntropyLoss | 0     \n",
      "4 | train_acc   | BinaryAccuracy   | 0     \n",
      "5 | train_auroc | BinaryAUROC      | 0     \n",
      "6 | train_f1    | BinaryF1Score    | 0     \n",
      "7 | valid_acc   | BinaryAccuracy   | 0     \n",
      "8 | valid_auroc | BinaryAUROC      | 0     \n",
      "9 | valid_f1    | BinaryF1Score    | 0     \n",
      "-------------------------------------------------\n",
      "21.1 K    Trainable params\n",
      "0         Non-trainable params\n",
      "21.1 K    Total params\n",
      "0.085     Total estimated model params size (MB)\n"
     ]
    },
    {
     "name": "stdout",
     "output_type": "stream",
     "text": [
      "Using GAT\n"
     ]
    },
    {
     "name": "stderr",
     "output_type": "stream",
     "text": [
      "`Trainer.fit` stopped: `max_epochs=50` reached.\n"
     ]
    },
    {
     "data": {
      "text/html": [
       "Waiting for W&B process to finish... <strong style=\"color:green\">(success).</strong>"
      ],
      "text/plain": [
       "<IPython.core.display.HTML object>"
      ]
     },
     "metadata": {},
     "output_type": "display_data"
    },
    {
     "data": {
      "application/vnd.jupyter.widget-view+json": {
       "model_id": "e8298b0d043349d7b0c0affe5504cc46",
       "version_major": 2,
       "version_minor": 0
      },
      "text/plain": [
       "VBox(children=(Label(value='0.001 MB of 0.001 MB uploaded (0.000 MB deduped)\\r'), FloatProgress(value=1.0, max…"
      ]
     },
     "metadata": {},
     "output_type": "display_data"
    },
    {
     "data": {
      "text/html": [
       "<style>\n",
       "    table.wandb td:nth-child(1) { padding: 0 10px; text-align: left ; width: auto;} td:nth-child(2) {text-align: left ; width: 100%}\n",
       "    .wandb-row { display: flex; flex-direction: row; flex-wrap: wrap; justify-content: flex-start; width: 100% }\n",
       "    .wandb-col { display: flex; flex-direction: column; flex-basis: 100%; flex: 1; padding: 10px; }\n",
       "    </style>\n",
       "<div class=\"wandb-row\"><div class=\"wandb-col\"><h3>Run history:</h3><br/><table class=\"wandb\"><tr><td>epoch</td><td>▁▁▁▁▂▂▂▂▂▃▃▃▃▃▃▄▄▄▄▄▅▅▅▅▅▅▆▆▆▆▆▇▇▇▇▇▇███</td></tr><tr><td>lr-Adam</td><td>▁▁▁▁▁▁▁▁▁▁▁▁▁▁▁▁▁▁▁▁▁▁▁▁▁▁▁▁▁▁▁▁▁▁▁▁▁▁▁▁</td></tr><tr><td>train_acc</td><td>▁▄▅▅▇▇▇▇██▇█▇███▇▇▇▇██▇█▇█▇██████████▇█▇</td></tr><tr><td>train_auc</td><td>▁▂▄▅▇▆▇▇▇█▇█▇▇████▇█▇█▇██▇▇▇███████▇█▇██</td></tr><tr><td>train_f1</td><td>▅▁▅▅▇▇████▇█▇▇███▇████▇█▇███████████████</td></tr><tr><td>train_loss_epoch</td><td>█▇▆▅▃▃▂▂▂▁▂▁▂▂▂▂▁▁▂▁▂▂▂▁▁▂▂▂▁▁▁▁▁▁▁▂▁▂▁▂</td></tr><tr><td>train_loss_step</td><td>█▇▅▄▃▁▄▆▅▅▄▂▅▂▄▅▅▄▃▃▃▄▃▄▅</td></tr><tr><td>trainer/global_step</td><td>▁▁▁▁▂▁▂▁▂▂▃▃▃▃▄▄▂▄▂▄▂▅▃▅▃▆▆▆▃▃▇▇▇▃▇▄█▄█▄</td></tr><tr><td>val_acc</td><td>▇▇▂▅▁▄▅▇███▇█▇▇▇▇▇▆▇▆█▇▅▇▇▇▇▇▇▆▇▇███▇▇▇▇</td></tr><tr><td>val_auc</td><td>▂▇▆▁▁▆▆▇▇▇▇▇▇█▇▇█▇▇▇████▇▇██████████████</td></tr><tr><td>val_f1</td><td>▁▁▆▇▆▇▇███████████▇████▇████████████████</td></tr><tr><td>val_loss_epoch</td><td>▆▆▆▆█▇▆▄▃▂▃▅▃▃▂▂▂▄▅▄▃▃▂▆▄▅▃▁▄▅▄▄▃▁▁▁▄▃▂▅</td></tr><tr><td>val_loss_step</td><td>▆▆▇▇█▇▇▅▄▄▅▇▃▄▁▄▄▅▅▄▅▅▃▆▅▆▄▄▇▇▄▄▅▁▃▄▅▃▃▇</td></tr></table><br/></div><div class=\"wandb-col\"><h3>Run summary:</h3><br/><table class=\"wandb\"><tr><td>epoch</td><td>49</td></tr><tr><td>lr-Adam</td><td>0.005</td></tr><tr><td>train_acc</td><td>0.70115</td></tr><tr><td>train_auc</td><td>0.76098</td></tr><tr><td>train_f1</td><td>0.60262</td></tr><tr><td>train_loss_epoch</td><td>0.56619</td></tr><tr><td>train_loss_step</td><td>0.57925</td></tr><tr><td>trainer/global_step</td><td>249</td></tr><tr><td>val_acc</td><td>0.68092</td></tr><tr><td>val_auc</td><td>0.81983</td></tr><tr><td>val_f1</td><td>0.67119</td></tr><tr><td>val_loss_epoch</td><td>0.65289</td></tr><tr><td>val_loss_step</td><td>0.71091</td></tr></table><br/></div></div>"
      ],
      "text/plain": [
       "<IPython.core.display.HTML object>"
      ]
     },
     "metadata": {},
     "output_type": "display_data"
    },
    {
     "data": {
      "text/html": [
       " View run <strong style=\"color:#cdcd00\">GAT_3_32_onehot_3</strong> at: <a href='https://wandb.ai/thoomas/PLA_01102024_5PPI_Kfold/runs/rr17tp0f' target=\"_blank\">https://wandb.ai/thoomas/PLA_01102024_5PPI_Kfold/runs/rr17tp0f</a><br/>Synced 6 W&B file(s), 0 media file(s), 0 artifact file(s) and 0 other file(s)"
      ],
      "text/plain": [
       "<IPython.core.display.HTML object>"
      ]
     },
     "metadata": {},
     "output_type": "display_data"
    },
    {
     "data": {
      "text/html": [
       "Find logs at: <code>.\\wandb\\run-20240112_124044-rr17tp0f\\logs</code>"
      ],
      "text/plain": [
       "<IPython.core.display.HTML object>"
      ]
     },
     "metadata": {},
     "output_type": "display_data"
    },
    {
     "data": {
      "application/vnd.jupyter.widget-view+json": {
       "model_id": "96d010f59cfb46338acf3aeec07694d1",
       "version_major": 2,
       "version_minor": 0
      },
      "text/plain": [
       "VBox(children=(Label(value='Waiting for wandb.init()...\\r'), FloatProgress(value=0.01693333333435779, max=1.0)…"
      ]
     },
     "metadata": {},
     "output_type": "display_data"
    },
    {
     "data": {
      "text/html": [
       "wandb version 0.16.2 is available!  To upgrade, please run:\n",
       " $ pip install wandb --upgrade"
      ],
      "text/plain": [
       "<IPython.core.display.HTML object>"
      ]
     },
     "metadata": {},
     "output_type": "display_data"
    },
    {
     "data": {
      "text/html": [
       "Tracking run with wandb version 0.14.0"
      ],
      "text/plain": [
       "<IPython.core.display.HTML object>"
      ]
     },
     "metadata": {},
     "output_type": "display_data"
    },
    {
     "data": {
      "text/html": [
       "Run data is saved locally in <code>y:\\coskun-lab\\Thomas\\23_PLA_revision\\notebooks\\wandb\\run-20240112_125737-o0x52sa6</code>"
      ],
      "text/plain": [
       "<IPython.core.display.HTML object>"
      ]
     },
     "metadata": {},
     "output_type": "display_data"
    },
    {
     "data": {
      "text/html": [
       "Syncing run <strong><a href='https://wandb.ai/thoomas/PLA_01102024_5PPI_Kfold/runs/o0x52sa6' target=\"_blank\">GAT_3_32_onehot_3</a></strong> to <a href='https://wandb.ai/thoomas/PLA_01102024_5PPI_Kfold' target=\"_blank\">Weights & Biases</a> (<a href='https://wandb.me/run' target=\"_blank\">docs</a>)<br/>"
      ],
      "text/plain": [
       "<IPython.core.display.HTML object>"
      ]
     },
     "metadata": {},
     "output_type": "display_data"
    },
    {
     "data": {
      "text/html": [
       " View project at <a href='https://wandb.ai/thoomas/PLA_01102024_5PPI_Kfold' target=\"_blank\">https://wandb.ai/thoomas/PLA_01102024_5PPI_Kfold</a>"
      ],
      "text/plain": [
       "<IPython.core.display.HTML object>"
      ]
     },
     "metadata": {},
     "output_type": "display_data"
    },
    {
     "data": {
      "text/html": [
       " View run at <a href='https://wandb.ai/thoomas/PLA_01102024_5PPI_Kfold/runs/o0x52sa6' target=\"_blank\">https://wandb.ai/thoomas/PLA_01102024_5PPI_Kfold/runs/o0x52sa6</a>"
      ],
      "text/plain": [
       "<IPython.core.display.HTML object>"
      ]
     },
     "metadata": {},
     "output_type": "display_data"
    },
    {
     "name": "stderr",
     "output_type": "stream",
     "text": [
      "Global seed set to 42\n",
      "GPU available: True (cuda), used: True\n",
      "TPU available: False, using: 0 TPU cores\n",
      "IPU available: False, using: 0 IPUs\n",
      "HPU available: False, using: 0 HPUs\n",
      "Global seed set to 42\n",
      "LOCAL_RANK: 0 - CUDA_VISIBLE_DEVICES: [0,1]\n",
      "\n",
      "  | Name        | Type             | Params\n",
      "-------------------------------------------------\n",
      "0 | x_embedding | Identity         | 0     \n",
      "1 | model       | GAT              | 20.6 K\n",
      "2 | head        | Sequential       | 562   \n",
      "3 | loss_module | CrossEntropyLoss | 0     \n",
      "4 | train_acc   | BinaryAccuracy   | 0     \n",
      "5 | train_auroc | BinaryAUROC      | 0     \n",
      "6 | train_f1    | BinaryF1Score    | 0     \n",
      "7 | valid_acc   | BinaryAccuracy   | 0     \n",
      "8 | valid_auroc | BinaryAUROC      | 0     \n",
      "9 | valid_f1    | BinaryF1Score    | 0     \n",
      "-------------------------------------------------\n",
      "21.1 K    Trainable params\n",
      "0         Non-trainable params\n",
      "21.1 K    Total params\n",
      "0.085     Total estimated model params size (MB)\n"
     ]
    },
    {
     "name": "stdout",
     "output_type": "stream",
     "text": [
      "Using GAT\n"
     ]
    },
    {
     "name": "stderr",
     "output_type": "stream",
     "text": [
      "`Trainer.fit` stopped: `max_epochs=50` reached.\n"
     ]
    },
    {
     "data": {
      "text/html": [
       "Waiting for W&B process to finish... <strong style=\"color:green\">(success).</strong>"
      ],
      "text/plain": [
       "<IPython.core.display.HTML object>"
      ]
     },
     "metadata": {},
     "output_type": "display_data"
    },
    {
     "data": {
      "application/vnd.jupyter.widget-view+json": {
       "model_id": "d44d72aad6134d57b16e79aa9ed7ff11",
       "version_major": 2,
       "version_minor": 0
      },
      "text/plain": [
       "VBox(children=(Label(value='0.001 MB of 0.001 MB uploaded (0.000 MB deduped)\\r'), FloatProgress(value=1.0, max…"
      ]
     },
     "metadata": {},
     "output_type": "display_data"
    },
    {
     "data": {
      "text/html": [
       "<style>\n",
       "    table.wandb td:nth-child(1) { padding: 0 10px; text-align: left ; width: auto;} td:nth-child(2) {text-align: left ; width: 100%}\n",
       "    .wandb-row { display: flex; flex-direction: row; flex-wrap: wrap; justify-content: flex-start; width: 100% }\n",
       "    .wandb-col { display: flex; flex-direction: column; flex-basis: 100%; flex: 1; padding: 10px; }\n",
       "    </style>\n",
       "<div class=\"wandb-row\"><div class=\"wandb-col\"><h3>Run history:</h3><br/><table class=\"wandb\"><tr><td>epoch</td><td>▁▁▁▁▂▂▂▂▂▃▃▃▃▃▃▄▄▄▄▄▅▅▅▅▅▅▆▆▆▆▆▇▇▇▇▇▇███</td></tr><tr><td>lr-Adam</td><td>▁▁▁▁▁▁▁▁▁▁▁▁▁▁▁▁▁▁▁▁▁▁▁▁▁▁▁▁▁▁▁▁▁▁▁▁▁▁▁▁</td></tr><tr><td>train_acc</td><td>▁▂▂▄▄▅▄▆▆▆▆▇▆▆▇▇▇▇██▆▇▇▇▇▇▆▇▇▇▇▇█▇█▇▇▇▇▆</td></tr><tr><td>train_auc</td><td>▂▁▂▃▄▄▅▆▆▆▇▇▆▆▇▇▇▇▇█▇▇▇▇█▇▇▇█▇▇████▇▇██▇</td></tr><tr><td>train_f1</td><td>▄▁▄▃▃▅▅▅▇▆▇▇▆▅▇▇▇▇█▇▇█▅█▇▇▇▆▇▇▇▇█▇█▇▇▇▇█</td></tr><tr><td>train_loss_epoch</td><td>██▇▆▅▆▅▄▄▃▃▂▃▃▃▂▂▂▂▁▃▂▂▂▁▂▂▂▁▂▁▂▁▁▂▂▂▂▁▃</td></tr><tr><td>train_loss_step</td><td>██▆▅▅▂▄▅▅▆▆▁▅▃▄▆▅▄▁▂▂▄▂▃▄</td></tr><tr><td>trainer/global_step</td><td>▁▁▁▁▂▁▂▁▂▂▃▃▃▃▄▄▂▄▂▄▂▅▃▅▃▆▆▆▃▃▇▇▇▃▇▄█▄█▄</td></tr><tr><td>val_acc</td><td>▁▁▁▁▁▂▄▅▆▆▆▆█▇▅▇▅▅▅▆▄▇▇▆▇▆▇█▇██▇█████▇█▇</td></tr><tr><td>val_auc</td><td>▁▅▆▆▆▆▆▇▇██████████▇██████▇▇▇▇▇▇▇▇█▇▇▇▇▇</td></tr><tr><td>val_f1</td><td>▁▁▁▁▁▂▄▆▇▇▇▇▇▇▆▇▆▆▅▆▄▆█▆█▆██▄▇▇▄▇▅▇▃▆▆▆▆</td></tr><tr><td>val_loss_epoch</td><td>███▇▇▇▇▆▅▄▅▆▄▅▅▃▅▆▆▅▆▄▄▅▄▅▃▃▃▃▂▃▃▁▃▂▃▃▂▃</td></tr><tr><td>val_loss_step</td><td>██▇▇▇▇▇▇▆▆▆▇▄▆▅▅▆▆▆▆▇▅▄▄▅▇▅▅▄▄▄▃▄▁▃▄▅▄▄▄</td></tr></table><br/></div><div class=\"wandb-col\"><h3>Run summary:</h3><br/><table class=\"wandb\"><tr><td>epoch</td><td>49</td></tr><tr><td>lr-Adam</td><td>0.005</td></tr><tr><td>train_acc</td><td>0.67159</td></tr><tr><td>train_auc</td><td>0.72904</td></tr><tr><td>train_f1</td><td>0.57983</td></tr><tr><td>train_loss_epoch</td><td>0.59554</td></tr><tr><td>train_loss_step</td><td>0.58717</td></tr><tr><td>trainer/global_step</td><td>249</td></tr><tr><td>val_acc</td><td>0.70066</td></tr><tr><td>val_auc</td><td>0.77771</td></tr><tr><td>val_f1</td><td>0.61277</td></tr><tr><td>val_loss_epoch</td><td>0.60587</td></tr><tr><td>val_loss_step</td><td>0.60833</td></tr></table><br/></div></div>"
      ],
      "text/plain": [
       "<IPython.core.display.HTML object>"
      ]
     },
     "metadata": {},
     "output_type": "display_data"
    },
    {
     "data": {
      "text/html": [
       " View run <strong style=\"color:#cdcd00\">GAT_3_32_onehot_3</strong> at: <a href='https://wandb.ai/thoomas/PLA_01102024_5PPI_Kfold/runs/o0x52sa6' target=\"_blank\">https://wandb.ai/thoomas/PLA_01102024_5PPI_Kfold/runs/o0x52sa6</a><br/>Synced 6 W&B file(s), 0 media file(s), 0 artifact file(s) and 0 other file(s)"
      ],
      "text/plain": [
       "<IPython.core.display.HTML object>"
      ]
     },
     "metadata": {},
     "output_type": "display_data"
    },
    {
     "data": {
      "text/html": [
       "Find logs at: <code>.\\wandb\\run-20240112_125737-o0x52sa6\\logs</code>"
      ],
      "text/plain": [
       "<IPython.core.display.HTML object>"
      ]
     },
     "metadata": {},
     "output_type": "display_data"
    },
    {
     "data": {
      "application/vnd.jupyter.widget-view+json": {
       "model_id": "5ddd725cf47b4949b0bd02b941571453",
       "version_major": 2,
       "version_minor": 0
      },
      "text/plain": [
       "VBox(children=(Label(value='Waiting for wandb.init()...\\r'), FloatProgress(value=0.0171999999981684, max=1.0))…"
      ]
     },
     "metadata": {},
     "output_type": "display_data"
    },
    {
     "data": {
      "text/html": [
       "wandb version 0.16.2 is available!  To upgrade, please run:\n",
       " $ pip install wandb --upgrade"
      ],
      "text/plain": [
       "<IPython.core.display.HTML object>"
      ]
     },
     "metadata": {},
     "output_type": "display_data"
    },
    {
     "data": {
      "text/html": [
       "Tracking run with wandb version 0.14.0"
      ],
      "text/plain": [
       "<IPython.core.display.HTML object>"
      ]
     },
     "metadata": {},
     "output_type": "display_data"
    },
    {
     "data": {
      "text/html": [
       "Run data is saved locally in <code>y:\\coskun-lab\\Thomas\\23_PLA_revision\\notebooks\\wandb\\run-20240112_130915-ylllq3j5</code>"
      ],
      "text/plain": [
       "<IPython.core.display.HTML object>"
      ]
     },
     "metadata": {},
     "output_type": "display_data"
    },
    {
     "data": {
      "text/html": [
       "Syncing run <strong><a href='https://wandb.ai/thoomas/PLA_01102024_5PPI_Kfold/runs/ylllq3j5' target=\"_blank\">GAT_3_32_onehot_3</a></strong> to <a href='https://wandb.ai/thoomas/PLA_01102024_5PPI_Kfold' target=\"_blank\">Weights & Biases</a> (<a href='https://wandb.me/run' target=\"_blank\">docs</a>)<br/>"
      ],
      "text/plain": [
       "<IPython.core.display.HTML object>"
      ]
     },
     "metadata": {},
     "output_type": "display_data"
    },
    {
     "data": {
      "text/html": [
       " View project at <a href='https://wandb.ai/thoomas/PLA_01102024_5PPI_Kfold' target=\"_blank\">https://wandb.ai/thoomas/PLA_01102024_5PPI_Kfold</a>"
      ],
      "text/plain": [
       "<IPython.core.display.HTML object>"
      ]
     },
     "metadata": {},
     "output_type": "display_data"
    },
    {
     "data": {
      "text/html": [
       " View run at <a href='https://wandb.ai/thoomas/PLA_01102024_5PPI_Kfold/runs/ylllq3j5' target=\"_blank\">https://wandb.ai/thoomas/PLA_01102024_5PPI_Kfold/runs/ylllq3j5</a>"
      ],
      "text/plain": [
       "<IPython.core.display.HTML object>"
      ]
     },
     "metadata": {},
     "output_type": "display_data"
    },
    {
     "name": "stderr",
     "output_type": "stream",
     "text": [
      "Global seed set to 42\n",
      "GPU available: True (cuda), used: True\n",
      "TPU available: False, using: 0 TPU cores\n",
      "IPU available: False, using: 0 IPUs\n",
      "HPU available: False, using: 0 HPUs\n",
      "Global seed set to 42\n",
      "LOCAL_RANK: 0 - CUDA_VISIBLE_DEVICES: [0,1]\n",
      "\n",
      "  | Name        | Type             | Params\n",
      "-------------------------------------------------\n",
      "0 | x_embedding | Identity         | 0     \n",
      "1 | model       | GAT              | 20.6 K\n",
      "2 | head        | Sequential       | 562   \n",
      "3 | loss_module | CrossEntropyLoss | 0     \n",
      "4 | train_acc   | BinaryAccuracy   | 0     \n",
      "5 | train_auroc | BinaryAUROC      | 0     \n",
      "6 | train_f1    | BinaryF1Score    | 0     \n",
      "7 | valid_acc   | BinaryAccuracy   | 0     \n",
      "8 | valid_auroc | BinaryAUROC      | 0     \n",
      "9 | valid_f1    | BinaryF1Score    | 0     \n",
      "-------------------------------------------------\n",
      "21.1 K    Trainable params\n",
      "0         Non-trainable params\n",
      "21.1 K    Total params\n",
      "0.085     Total estimated model params size (MB)\n"
     ]
    },
    {
     "name": "stdout",
     "output_type": "stream",
     "text": [
      "Using GAT\n"
     ]
    },
    {
     "name": "stderr",
     "output_type": "stream",
     "text": [
      "`Trainer.fit` stopped: `max_epochs=50` reached.\n"
     ]
    },
    {
     "data": {
      "text/html": [
       "Waiting for W&B process to finish... <strong style=\"color:green\">(success).</strong>"
      ],
      "text/plain": [
       "<IPython.core.display.HTML object>"
      ]
     },
     "metadata": {},
     "output_type": "display_data"
    },
    {
     "data": {
      "application/vnd.jupyter.widget-view+json": {
       "model_id": "02881b61bf9a4afe952f7c9fa9c79d2c",
       "version_major": 2,
       "version_minor": 0
      },
      "text/plain": [
       "VBox(children=(Label(value='0.001 MB of 0.001 MB uploaded (0.000 MB deduped)\\r'), FloatProgress(value=1.0, max…"
      ]
     },
     "metadata": {},
     "output_type": "display_data"
    },
    {
     "data": {
      "text/html": [
       "<style>\n",
       "    table.wandb td:nth-child(1) { padding: 0 10px; text-align: left ; width: auto;} td:nth-child(2) {text-align: left ; width: 100%}\n",
       "    .wandb-row { display: flex; flex-direction: row; flex-wrap: wrap; justify-content: flex-start; width: 100% }\n",
       "    .wandb-col { display: flex; flex-direction: column; flex-basis: 100%; flex: 1; padding: 10px; }\n",
       "    </style>\n",
       "<div class=\"wandb-row\"><div class=\"wandb-col\"><h3>Run history:</h3><br/><table class=\"wandb\"><tr><td>epoch</td><td>▁▁▁▁▂▂▂▂▂▃▃▃▃▃▃▄▄▄▄▄▅▅▅▅▅▅▆▆▆▆▆▇▇▇▇▇▇███</td></tr><tr><td>lr-Adam</td><td>▁▁▁▁▁▁▁▁▁▁▁▁▁▁▁▁▁▁▁▁▁▁▁▁▁▁▁▁▁▁▁▁▁▁▁▁▁▁▁▁</td></tr><tr><td>train_acc</td><td>▁▃▃▄▅▅▆▆▆▇▇▇▇▇█▇█▇▇▇▇▇█▇█▇▇▇█▇██▇▇█▇▇▇▇█</td></tr><tr><td>train_auc</td><td>▁▃▅▄▅▆▇▆▅▇▇▆▇▆▆█▇▇▇▇▆▅▆▆█▇▇▆█▆▇▇▇▇█▆▇▅▆▅</td></tr><tr><td>train_f1</td><td>▁▄▅▄▆▅▇▆▇▇█▇▇▅███▇▇▇▇█▇▇█▆▇▆█▆▇█▇▇▇▆▇▆▆█</td></tr><tr><td>train_loss_epoch</td><td>█▄▃▂▂▂▂▂▁▁▁▁▁▁▁▁▁▁▁▁▁▁▁▁▁▁▁▁▁▁▁▁▁▁▁▁▁▁▁▁</td></tr><tr><td>train_loss_step</td><td>▇█▆▃▂▂▃▃▃▃▃▁▂▂▂▃▂▂▁▂▂▂▁▂▂</td></tr><tr><td>trainer/global_step</td><td>▁▁▁▁▂▁▂▁▂▂▃▃▃▃▄▄▂▄▂▄▂▅▃▅▃▆▆▆▃▃▇▇▇▃▇▄█▄█▄</td></tr><tr><td>val_acc</td><td>▄▄▃▁▃▂▃▅▅▄▄▅▆▆▅▆▆▆▆▆▆▇▇▆▆▆▆▇▇█▆▇████▇▇▇▇</td></tr><tr><td>val_auc</td><td>▁▃▄▄▅▅▅▆▇▇▇▇██▇█████████████████████████</td></tr><tr><td>val_f1</td><td>▁▅▄▃▄▄▄▅▅▅▅▆▆▆▆▆▆▆▆▇▇▇▇▆▇▇▇▇▇█▇▇████▇▇▇▇</td></tr><tr><td>val_loss_epoch</td><td>▅▆▅█▇██▅▆▅▇▇▅▅▄▄▄▄▃▃▃▄▃▃▄▄▄▂▄▃▃▂▂▁▂▁▃▂▁▅</td></tr><tr><td>val_loss_step</td><td>▅▅▄▇▅▆█▄▅▆▆▇▄▅▂▄▄▃▃▃▃▄▃▄▃▃▃▄▄▃▂▂▂▁▂▂▃▁▂▇</td></tr></table><br/></div><div class=\"wandb-col\"><h3>Run summary:</h3><br/><table class=\"wandb\"><tr><td>epoch</td><td>49</td></tr><tr><td>lr-Adam</td><td>0.005</td></tr><tr><td>train_acc</td><td>0.73974</td></tr><tr><td>train_auc</td><td>0.6073</td></tr><tr><td>train_f1</td><td>0.62574</td></tr><tr><td>train_loss_epoch</td><td>0.53992</td></tr><tr><td>train_loss_step</td><td>0.53529</td></tr><tr><td>trainer/global_step</td><td>249</td></tr><tr><td>val_acc</td><td>0.68421</td></tr><tr><td>val_auc</td><td>0.83872</td></tr><tr><td>val_f1</td><td>0.66897</td></tr><tr><td>val_loss_epoch</td><td>0.67104</td></tr><tr><td>val_loss_step</td><td>0.7672</td></tr></table><br/></div></div>"
      ],
      "text/plain": [
       "<IPython.core.display.HTML object>"
      ]
     },
     "metadata": {},
     "output_type": "display_data"
    },
    {
     "data": {
      "text/html": [
       " View run <strong style=\"color:#cdcd00\">GAT_3_32_onehot_3</strong> at: <a href='https://wandb.ai/thoomas/PLA_01102024_5PPI_Kfold/runs/ylllq3j5' target=\"_blank\">https://wandb.ai/thoomas/PLA_01102024_5PPI_Kfold/runs/ylllq3j5</a><br/>Synced 6 W&B file(s), 0 media file(s), 0 artifact file(s) and 0 other file(s)"
      ],
      "text/plain": [
       "<IPython.core.display.HTML object>"
      ]
     },
     "metadata": {},
     "output_type": "display_data"
    },
    {
     "data": {
      "text/html": [
       "Find logs at: <code>.\\wandb\\run-20240112_130915-ylllq3j5\\logs</code>"
      ],
      "text/plain": [
       "<IPython.core.display.HTML object>"
      ]
     },
     "metadata": {},
     "output_type": "display_data"
    },
    {
     "data": {
      "application/vnd.jupyter.widget-view+json": {
       "model_id": "cb7d25fc553a472eb1aa4e9b2d512727",
       "version_major": 2,
       "version_minor": 0
      },
      "text/plain": [
       "VBox(children=(Label(value='Waiting for wandb.init()...\\r'), FloatProgress(value=0.016666666666666666, max=1.0…"
      ]
     },
     "metadata": {},
     "output_type": "display_data"
    },
    {
     "data": {
      "text/html": [
       "wandb version 0.16.2 is available!  To upgrade, please run:\n",
       " $ pip install wandb --upgrade"
      ],
      "text/plain": [
       "<IPython.core.display.HTML object>"
      ]
     },
     "metadata": {},
     "output_type": "display_data"
    },
    {
     "data": {
      "text/html": [
       "Tracking run with wandb version 0.14.0"
      ],
      "text/plain": [
       "<IPython.core.display.HTML object>"
      ]
     },
     "metadata": {},
     "output_type": "display_data"
    },
    {
     "data": {
      "text/html": [
       "Run data is saved locally in <code>y:\\coskun-lab\\Thomas\\23_PLA_revision\\notebooks\\wandb\\run-20240112_132121-axx2pbhe</code>"
      ],
      "text/plain": [
       "<IPython.core.display.HTML object>"
      ]
     },
     "metadata": {},
     "output_type": "display_data"
    },
    {
     "data": {
      "text/html": [
       "Syncing run <strong><a href='https://wandb.ai/thoomas/PLA_01102024_5PPI_Kfold/runs/axx2pbhe' target=\"_blank\">GAT_3_32_onehot_3</a></strong> to <a href='https://wandb.ai/thoomas/PLA_01102024_5PPI_Kfold' target=\"_blank\">Weights & Biases</a> (<a href='https://wandb.me/run' target=\"_blank\">docs</a>)<br/>"
      ],
      "text/plain": [
       "<IPython.core.display.HTML object>"
      ]
     },
     "metadata": {},
     "output_type": "display_data"
    },
    {
     "data": {
      "text/html": [
       " View project at <a href='https://wandb.ai/thoomas/PLA_01102024_5PPI_Kfold' target=\"_blank\">https://wandb.ai/thoomas/PLA_01102024_5PPI_Kfold</a>"
      ],
      "text/plain": [
       "<IPython.core.display.HTML object>"
      ]
     },
     "metadata": {},
     "output_type": "display_data"
    },
    {
     "data": {
      "text/html": [
       " View run at <a href='https://wandb.ai/thoomas/PLA_01102024_5PPI_Kfold/runs/axx2pbhe' target=\"_blank\">https://wandb.ai/thoomas/PLA_01102024_5PPI_Kfold/runs/axx2pbhe</a>"
      ],
      "text/plain": [
       "<IPython.core.display.HTML object>"
      ]
     },
     "metadata": {},
     "output_type": "display_data"
    },
    {
     "name": "stderr",
     "output_type": "stream",
     "text": [
      "Global seed set to 42\n",
      "GPU available: True (cuda), used: True\n",
      "TPU available: False, using: 0 TPU cores\n",
      "IPU available: False, using: 0 IPUs\n",
      "HPU available: False, using: 0 HPUs\n",
      "Global seed set to 42\n",
      "LOCAL_RANK: 0 - CUDA_VISIBLE_DEVICES: [0,1]\n",
      "\n",
      "   | Name        | Type             | Params\n",
      "--------------------------------------------------\n",
      "0  | x_embedding | Identity         | 0     \n",
      "1  | model       | GAT              | 20.6 K\n",
      "2  | head        | Sequential       | 562   \n",
      "3  | loss_module | CrossEntropyLoss | 0     \n",
      "4  | train_acc   | BinaryAccuracy   | 0     \n",
      "5  | train_auroc | BinaryAUROC      | 0     \n",
      "6  | train_f1    | BinaryF1Score    | 0     \n",
      "7  | valid_acc   | BinaryAccuracy   | 0     \n",
      "8  | valid_auroc | BinaryAUROC      | 0     \n",
      "9  | valid_f1    | BinaryF1Score    | 0     \n",
      "10 | pool        | GlobalAttention  | 33    \n",
      "--------------------------------------------------\n",
      "21.2 K    Trainable params\n",
      "0         Non-trainable params\n",
      "21.2 K    Total params\n",
      "0.085     Total estimated model params size (MB)\n"
     ]
    },
    {
     "name": "stdout",
     "output_type": "stream",
     "text": [
      "Using GAT\n"
     ]
    },
    {
     "name": "stderr",
     "output_type": "stream",
     "text": [
      "`Trainer.fit` stopped: `max_epochs=50` reached.\n"
     ]
    },
    {
     "data": {
      "text/html": [
       "Waiting for W&B process to finish... <strong style=\"color:green\">(success).</strong>"
      ],
      "text/plain": [
       "<IPython.core.display.HTML object>"
      ]
     },
     "metadata": {},
     "output_type": "display_data"
    },
    {
     "data": {
      "application/vnd.jupyter.widget-view+json": {
       "model_id": "017ebf1528b242b6a89fbe14a85dbf5f",
       "version_major": 2,
       "version_minor": 0
      },
      "text/plain": [
       "VBox(children=(Label(value='0.001 MB of 0.001 MB uploaded (0.000 MB deduped)\\r'), FloatProgress(value=1.0, max…"
      ]
     },
     "metadata": {},
     "output_type": "display_data"
    },
    {
     "data": {
      "text/html": [
       "<style>\n",
       "    table.wandb td:nth-child(1) { padding: 0 10px; text-align: left ; width: auto;} td:nth-child(2) {text-align: left ; width: 100%}\n",
       "    .wandb-row { display: flex; flex-direction: row; flex-wrap: wrap; justify-content: flex-start; width: 100% }\n",
       "    .wandb-col { display: flex; flex-direction: column; flex-basis: 100%; flex: 1; padding: 10px; }\n",
       "    </style>\n",
       "<div class=\"wandb-row\"><div class=\"wandb-col\"><h3>Run history:</h3><br/><table class=\"wandb\"><tr><td>epoch</td><td>▁▁▁▁▂▂▂▂▂▃▃▃▃▃▃▄▄▄▄▄▅▅▅▅▅▅▆▆▆▆▆▇▇▇▇▇▇███</td></tr><tr><td>lr-Adam</td><td>▁▁▁▁▁▁▁▁▁▁▁▁▁▁▁▁▁▁▁▁▁▁▁▁▁▁▁▁▁▁▁▁▁▁▁▁▁▁▁▁</td></tr><tr><td>train_acc</td><td>▁▄▄▆▇▇▇▇▇▇▇▇▇▇▇▇███▇█▇▇▇▇█▇▇█▇▇▇███▇▇▇█▇</td></tr><tr><td>train_auc</td><td>▁▂▄▅▆▇▇▇▇▇▇█▇▇▇▇█████████████▇██████████</td></tr><tr><td>train_f1</td><td>▆▁▄▄▇▇▇██▇▇██▇█████▇█▇█▇███▇█▇█▇██▇█▇███</td></tr><tr><td>train_loss_epoch</td><td>█▇▅▅▃▂▂▃▃▃▃▂▂▂▂▂▁▂▁▂▁▁▁▂▁▁▁▂▁▂▁▁▁▁▂▁▁▁▁▁</td></tr><tr><td>train_loss_step</td><td>█▇▄▄▄▂▂▇▃▁▄▃▄▁▆▄▄▃▃▅▃▃▃▂▃</td></tr><tr><td>trainer/global_step</td><td>▁▁▁▁▂▁▂▁▂▂▃▃▃▃▄▄▂▄▂▄▂▅▃▅▃▆▆▆▃▃▇▇▇▃▇▄█▄█▄</td></tr><tr><td>val_acc</td><td>▇█▆▄▁▃▂▄▅▇▆▇▆▇▅▆▇▆▇▇█▆▆▇▆▆▆██▇▇▇▆▇▇▆▇▇▇▆</td></tr><tr><td>val_auc</td><td>▃▄▁▂▃▄▄▄▅▅▆▆▆▆▇▆▆▇▆▇▇▇▇▇▇▇▇▇▇▇▇▇▇▇▇▇▇▇▇█</td></tr><tr><td>val_f1</td><td>▁▂▇▇▇▇▇▇▇█▇███▇████████████████████████▇</td></tr><tr><td>val_loss_epoch</td><td>▅▆▆▆▇▇█▅▆▂▅▂▄▄▆▆▄▇▃▂▁▄▅▁▂▇▅▁▃▅▅▂▃▅▅▄▅▂▂▆</td></tr><tr><td>val_loss_step</td><td>▄▅▅▅▆▅▆▄▄▃▄▃▄▆▆▅▄▇▄▃▂▃▄▄▄█▂▃▄▅▃▄▂▆▄▁▆▃▂▆</td></tr></table><br/></div><div class=\"wandb-col\"><h3>Run summary:</h3><br/><table class=\"wandb\"><tr><td>epoch</td><td>49</td></tr><tr><td>lr-Adam</td><td>0.005</td></tr><tr><td>train_acc</td><td>0.711</td></tr><tr><td>train_auc</td><td>0.77281</td></tr><tr><td>train_f1</td><td>0.61233</td></tr><tr><td>train_loss_epoch</td><td>0.55317</td></tr><tr><td>train_loss_step</td><td>0.54918</td></tr><tr><td>trainer/global_step</td><td>249</td></tr><tr><td>val_acc</td><td>0.60197</td></tr><tr><td>val_auc</td><td>0.82558</td></tr><tr><td>val_f1</td><td>0.6183</td></tr><tr><td>val_loss_epoch</td><td>0.68975</td></tr><tr><td>val_loss_step</td><td>0.73946</td></tr></table><br/></div></div>"
      ],
      "text/plain": [
       "<IPython.core.display.HTML object>"
      ]
     },
     "metadata": {},
     "output_type": "display_data"
    },
    {
     "data": {
      "text/html": [
       " View run <strong style=\"color:#cdcd00\">GAT_3_32_onehot_3</strong> at: <a href='https://wandb.ai/thoomas/PLA_01102024_5PPI_Kfold/runs/axx2pbhe' target=\"_blank\">https://wandb.ai/thoomas/PLA_01102024_5PPI_Kfold/runs/axx2pbhe</a><br/>Synced 6 W&B file(s), 0 media file(s), 0 artifact file(s) and 0 other file(s)"
      ],
      "text/plain": [
       "<IPython.core.display.HTML object>"
      ]
     },
     "metadata": {},
     "output_type": "display_data"
    },
    {
     "data": {
      "text/html": [
       "Find logs at: <code>.\\wandb\\run-20240112_132121-axx2pbhe\\logs</code>"
      ],
      "text/plain": [
       "<IPython.core.display.HTML object>"
      ]
     },
     "metadata": {},
     "output_type": "display_data"
    },
    {
     "data": {
      "application/vnd.jupyter.widget-view+json": {
       "model_id": "7dc9b64e5d6e483e9e2eb3535bed7a91",
       "version_major": 2,
       "version_minor": 0
      },
      "text/plain": [
       "VBox(children=(Label(value='Waiting for wandb.init()...\\r'), FloatProgress(value=0.017183333332650364, max=1.0…"
      ]
     },
     "metadata": {},
     "output_type": "display_data"
    },
    {
     "data": {
      "text/html": [
       "wandb version 0.16.2 is available!  To upgrade, please run:\n",
       " $ pip install wandb --upgrade"
      ],
      "text/plain": [
       "<IPython.core.display.HTML object>"
      ]
     },
     "metadata": {},
     "output_type": "display_data"
    },
    {
     "data": {
      "text/html": [
       "Tracking run with wandb version 0.14.0"
      ],
      "text/plain": [
       "<IPython.core.display.HTML object>"
      ]
     },
     "metadata": {},
     "output_type": "display_data"
    },
    {
     "data": {
      "text/html": [
       "Run data is saved locally in <code>y:\\coskun-lab\\Thomas\\23_PLA_revision\\notebooks\\wandb\\run-20240112_133804-zuca0b9m</code>"
      ],
      "text/plain": [
       "<IPython.core.display.HTML object>"
      ]
     },
     "metadata": {},
     "output_type": "display_data"
    },
    {
     "data": {
      "text/html": [
       "Syncing run <strong><a href='https://wandb.ai/thoomas/PLA_01102024_5PPI_Kfold/runs/zuca0b9m' target=\"_blank\">GAT_3_32_onehot_3</a></strong> to <a href='https://wandb.ai/thoomas/PLA_01102024_5PPI_Kfold' target=\"_blank\">Weights & Biases</a> (<a href='https://wandb.me/run' target=\"_blank\">docs</a>)<br/>"
      ],
      "text/plain": [
       "<IPython.core.display.HTML object>"
      ]
     },
     "metadata": {},
     "output_type": "display_data"
    },
    {
     "data": {
      "text/html": [
       " View project at <a href='https://wandb.ai/thoomas/PLA_01102024_5PPI_Kfold' target=\"_blank\">https://wandb.ai/thoomas/PLA_01102024_5PPI_Kfold</a>"
      ],
      "text/plain": [
       "<IPython.core.display.HTML object>"
      ]
     },
     "metadata": {},
     "output_type": "display_data"
    },
    {
     "data": {
      "text/html": [
       " View run at <a href='https://wandb.ai/thoomas/PLA_01102024_5PPI_Kfold/runs/zuca0b9m' target=\"_blank\">https://wandb.ai/thoomas/PLA_01102024_5PPI_Kfold/runs/zuca0b9m</a>"
      ],
      "text/plain": [
       "<IPython.core.display.HTML object>"
      ]
     },
     "metadata": {},
     "output_type": "display_data"
    },
    {
     "name": "stderr",
     "output_type": "stream",
     "text": [
      "Global seed set to 42\n",
      "GPU available: True (cuda), used: True\n",
      "TPU available: False, using: 0 TPU cores\n",
      "IPU available: False, using: 0 IPUs\n",
      "HPU available: False, using: 0 HPUs\n",
      "Global seed set to 42\n",
      "LOCAL_RANK: 0 - CUDA_VISIBLE_DEVICES: [0,1]\n",
      "\n",
      "   | Name        | Type             | Params\n",
      "--------------------------------------------------\n",
      "0  | x_embedding | Identity         | 0     \n",
      "1  | model       | GAT              | 20.6 K\n",
      "2  | head        | Sequential       | 562   \n",
      "3  | loss_module | CrossEntropyLoss | 0     \n",
      "4  | train_acc   | BinaryAccuracy   | 0     \n",
      "5  | train_auroc | BinaryAUROC      | 0     \n",
      "6  | train_f1    | BinaryF1Score    | 0     \n",
      "7  | valid_acc   | BinaryAccuracy   | 0     \n",
      "8  | valid_auroc | BinaryAUROC      | 0     \n",
      "9  | valid_f1    | BinaryF1Score    | 0     \n",
      "10 | pool        | Attention_module | 1.1 K \n",
      "--------------------------------------------------\n",
      "22.2 K    Trainable params\n",
      "0         Non-trainable params\n",
      "22.2 K    Total params\n",
      "0.089     Total estimated model params size (MB)\n"
     ]
    },
    {
     "name": "stdout",
     "output_type": "stream",
     "text": [
      "Using GAT\n"
     ]
    },
    {
     "name": "stderr",
     "output_type": "stream",
     "text": [
      "`Trainer.fit` stopped: `max_epochs=50` reached.\n"
     ]
    },
    {
     "data": {
      "text/html": [
       "Waiting for W&B process to finish... <strong style=\"color:green\">(success).</strong>"
      ],
      "text/plain": [
       "<IPython.core.display.HTML object>"
      ]
     },
     "metadata": {},
     "output_type": "display_data"
    },
    {
     "data": {
      "application/vnd.jupyter.widget-view+json": {
       "model_id": "e35c25c5fb804b308eaa5a44e537719f",
       "version_major": 2,
       "version_minor": 0
      },
      "text/plain": [
       "VBox(children=(Label(value='0.001 MB of 0.001 MB uploaded (0.000 MB deduped)\\r'), FloatProgress(value=1.0, max…"
      ]
     },
     "metadata": {},
     "output_type": "display_data"
    },
    {
     "data": {
      "text/html": [
       "<style>\n",
       "    table.wandb td:nth-child(1) { padding: 0 10px; text-align: left ; width: auto;} td:nth-child(2) {text-align: left ; width: 100%}\n",
       "    .wandb-row { display: flex; flex-direction: row; flex-wrap: wrap; justify-content: flex-start; width: 100% }\n",
       "    .wandb-col { display: flex; flex-direction: column; flex-basis: 100%; flex: 1; padding: 10px; }\n",
       "    </style>\n",
       "<div class=\"wandb-row\"><div class=\"wandb-col\"><h3>Run history:</h3><br/><table class=\"wandb\"><tr><td>epoch</td><td>▁▁▁▁▂▂▂▂▂▃▃▃▃▃▃▄▄▄▄▄▅▅▅▅▅▅▆▆▆▆▆▇▇▇▇▇▇███</td></tr><tr><td>lr-Adam</td><td>▁▁▁▁▁▁▁▁▁▁▁▁▁▁▁▁▁▁▁▁▁▁▁▁▁▁▁▁▁▁▁▁▁▁▁▁▁▁▁▁</td></tr><tr><td>train_acc</td><td>▁▄▅▆▇▇▇▇▇▇▇▇▇▇█▇▇█▇█▇█████▇▇▇█▇▇█▇██▇▇█▇</td></tr><tr><td>train_auc</td><td>▁▃▄▅▇▆▇▇▇▇▇▇▇█▇▇▇▇█▇▇█▇█▇██▇▇▇▇██▇▇█████</td></tr><tr><td>train_f1</td><td>▅▁▄▅█▇▇▇▇▇█▇▇██▇▇▇█▇▇▇████▇▇▇█▇███▇▇▇███</td></tr><tr><td>train_loss_epoch</td><td>█▆▅▅▃▃▂▃▂▂▂▂▃▂▂▂▂▁▂▂▂▁▂▁▂▂▂▂▂▂▂▂▂▂▂▂▂▁▁▂</td></tr><tr><td>train_loss_step</td><td>█▆▅▂▃▄▃▅▂▃▂▅▄▆▇▄▁▅▅▃▄▂▅▁▂</td></tr><tr><td>trainer/global_step</td><td>▁▁▁▁▂▁▂▁▂▂▃▃▃▃▄▄▂▄▂▄▂▅▃▅▃▆▆▆▃▃▇▇▇▃▇▄█▄█▄</td></tr><tr><td>val_acc</td><td>▇▇▂▂▁▃▃▅▆▆▇▆▆▆▇▆▅▅▇▇█▆▇▇▆▇▇▆▇█▇▇▇▇▇▇▆▆▇█</td></tr><tr><td>val_auc</td><td>▃▁▇▂▁▇▇▇▇████████▇██████████████████████</td></tr><tr><td>val_f1</td><td>▁▂▇▇▆▇▇▇█▇█▇█▇█▇▇▇██████▇████████████▇██</td></tr><tr><td>val_loss_epoch</td><td>▅▆▆▆██▇▅▃▇▄▅▃▆▄▅▅▇▄▂▂▄▂▂▄▃▁▄▃▁▃▂▁▃▃▄▄▄▃▃</td></tr><tr><td>val_loss_step</td><td>▆▆▆▆█▇▇▅▅▅▅▅▅▇▆▆▆█▅▃▃▅▂▄▆▄▄▃▄▂▄▃▁▅▄▄▆▃▃▅</td></tr></table><br/></div><div class=\"wandb-col\"><h3>Run summary:</h3><br/><table class=\"wandb\"><tr><td>epoch</td><td>49</td></tr><tr><td>lr-Adam</td><td>0.005</td></tr><tr><td>train_acc</td><td>0.711</td></tr><tr><td>train_auc</td><td>0.7752</td></tr><tr><td>train_f1</td><td>0.61062</td></tr><tr><td>train_loss_epoch</td><td>0.55007</td></tr><tr><td>train_loss_step</td><td>0.52477</td></tr><tr><td>trainer/global_step</td><td>249</td></tr><tr><td>val_acc</td><td>0.71711</td></tr><tr><td>val_auc</td><td>0.82394</td></tr><tr><td>val_f1</td><td>0.68613</td></tr><tr><td>val_loss_epoch</td><td>0.60116</td></tr><tr><td>val_loss_step</td><td>0.6473</td></tr></table><br/></div></div>"
      ],
      "text/plain": [
       "<IPython.core.display.HTML object>"
      ]
     },
     "metadata": {},
     "output_type": "display_data"
    },
    {
     "data": {
      "text/html": [
       " View run <strong style=\"color:#cdcd00\">GAT_3_32_onehot_3</strong> at: <a href='https://wandb.ai/thoomas/PLA_01102024_5PPI_Kfold/runs/zuca0b9m' target=\"_blank\">https://wandb.ai/thoomas/PLA_01102024_5PPI_Kfold/runs/zuca0b9m</a><br/>Synced 6 W&B file(s), 0 media file(s), 0 artifact file(s) and 0 other file(s)"
      ],
      "text/plain": [
       "<IPython.core.display.HTML object>"
      ]
     },
     "metadata": {},
     "output_type": "display_data"
    },
    {
     "data": {
      "text/html": [
       "Find logs at: <code>.\\wandb\\run-20240112_133804-zuca0b9m\\logs</code>"
      ],
      "text/plain": [
       "<IPython.core.display.HTML object>"
      ]
     },
     "metadata": {},
     "output_type": "display_data"
    },
    {
     "data": {
      "application/vnd.jupyter.widget-view+json": {
       "model_id": "18ef7b6e572a4bb0ba5d8bad30177fce",
       "version_major": 2,
       "version_minor": 0
      },
      "text/plain": [
       "VBox(children=(Label(value='Waiting for wandb.init()...\\r'), FloatProgress(value=0.016666666666666666, max=1.0…"
      ]
     },
     "metadata": {},
     "output_type": "display_data"
    },
    {
     "data": {
      "text/html": [
       "wandb version 0.16.2 is available!  To upgrade, please run:\n",
       " $ pip install wandb --upgrade"
      ],
      "text/plain": [
       "<IPython.core.display.HTML object>"
      ]
     },
     "metadata": {},
     "output_type": "display_data"
    },
    {
     "data": {
      "text/html": [
       "Tracking run with wandb version 0.14.0"
      ],
      "text/plain": [
       "<IPython.core.display.HTML object>"
      ]
     },
     "metadata": {},
     "output_type": "display_data"
    },
    {
     "data": {
      "text/html": [
       "Run data is saved locally in <code>y:\\coskun-lab\\Thomas\\23_PLA_revision\\notebooks\\wandb\\run-20240112_135056-jpcwzr9k</code>"
      ],
      "text/plain": [
       "<IPython.core.display.HTML object>"
      ]
     },
     "metadata": {},
     "output_type": "display_data"
    },
    {
     "data": {
      "text/html": [
       "Syncing run <strong><a href='https://wandb.ai/thoomas/PLA_01102024_5PPI_Kfold/runs/jpcwzr9k' target=\"_blank\">GAT_3_64_onehot_3</a></strong> to <a href='https://wandb.ai/thoomas/PLA_01102024_5PPI_Kfold' target=\"_blank\">Weights & Biases</a> (<a href='https://wandb.me/run' target=\"_blank\">docs</a>)<br/>"
      ],
      "text/plain": [
       "<IPython.core.display.HTML object>"
      ]
     },
     "metadata": {},
     "output_type": "display_data"
    },
    {
     "data": {
      "text/html": [
       " View project at <a href='https://wandb.ai/thoomas/PLA_01102024_5PPI_Kfold' target=\"_blank\">https://wandb.ai/thoomas/PLA_01102024_5PPI_Kfold</a>"
      ],
      "text/plain": [
       "<IPython.core.display.HTML object>"
      ]
     },
     "metadata": {},
     "output_type": "display_data"
    },
    {
     "data": {
      "text/html": [
       " View run at <a href='https://wandb.ai/thoomas/PLA_01102024_5PPI_Kfold/runs/jpcwzr9k' target=\"_blank\">https://wandb.ai/thoomas/PLA_01102024_5PPI_Kfold/runs/jpcwzr9k</a>"
      ],
      "text/plain": [
       "<IPython.core.display.HTML object>"
      ]
     },
     "metadata": {},
     "output_type": "display_data"
    },
    {
     "name": "stderr",
     "output_type": "stream",
     "text": [
      "Global seed set to 42\n",
      "GPU available: True (cuda), used: True\n",
      "TPU available: False, using: 0 TPU cores\n",
      "IPU available: False, using: 0 IPUs\n",
      "HPU available: False, using: 0 HPUs\n",
      "Global seed set to 42\n",
      "LOCAL_RANK: 0 - CUDA_VISIBLE_DEVICES: [0,1]\n",
      "\n",
      "  | Name        | Type             | Params\n",
      "-------------------------------------------------\n",
      "0 | x_embedding | Identity         | 0     \n",
      "1 | model       | GAT              | 78.0 K\n",
      "2 | head        | Sequential       | 2.1 K \n",
      "3 | loss_module | CrossEntropyLoss | 0     \n",
      "4 | train_acc   | BinaryAccuracy   | 0     \n",
      "5 | train_auroc | BinaryAUROC      | 0     \n",
      "6 | train_f1    | BinaryF1Score    | 0     \n",
      "7 | valid_acc   | BinaryAccuracy   | 0     \n",
      "8 | valid_auroc | BinaryAUROC      | 0     \n",
      "9 | valid_f1    | BinaryF1Score    | 0     \n",
      "-------------------------------------------------\n",
      "80.2 K    Trainable params\n",
      "0         Non-trainable params\n",
      "80.2 K    Total params\n",
      "0.321     Total estimated model params size (MB)\n"
     ]
    },
    {
     "name": "stdout",
     "output_type": "stream",
     "text": [
      "Using GAT\n"
     ]
    },
    {
     "name": "stderr",
     "output_type": "stream",
     "text": [
      "`Trainer.fit` stopped: `max_epochs=50` reached.\n"
     ]
    },
    {
     "data": {
      "text/html": [
       "Waiting for W&B process to finish... <strong style=\"color:green\">(success).</strong>"
      ],
      "text/plain": [
       "<IPython.core.display.HTML object>"
      ]
     },
     "metadata": {},
     "output_type": "display_data"
    },
    {
     "data": {
      "application/vnd.jupyter.widget-view+json": {
       "model_id": "252a4ad3acd74ac3b7726efecc3d12b3",
       "version_major": 2,
       "version_minor": 0
      },
      "text/plain": [
       "VBox(children=(Label(value='0.001 MB of 0.001 MB uploaded (0.000 MB deduped)\\r'), FloatProgress(value=1.0, max…"
      ]
     },
     "metadata": {},
     "output_type": "display_data"
    },
    {
     "data": {
      "text/html": [
       "<style>\n",
       "    table.wandb td:nth-child(1) { padding: 0 10px; text-align: left ; width: auto;} td:nth-child(2) {text-align: left ; width: 100%}\n",
       "    .wandb-row { display: flex; flex-direction: row; flex-wrap: wrap; justify-content: flex-start; width: 100% }\n",
       "    .wandb-col { display: flex; flex-direction: column; flex-basis: 100%; flex: 1; padding: 10px; }\n",
       "    </style>\n",
       "<div class=\"wandb-row\"><div class=\"wandb-col\"><h3>Run history:</h3><br/><table class=\"wandb\"><tr><td>epoch</td><td>▁▁▁▁▂▂▂▂▂▃▃▃▃▃▃▄▄▄▄▄▅▅▅▅▅▅▆▆▆▆▆▇▇▇▇▇▇███</td></tr><tr><td>lr-Adam</td><td>▁▁▁▁▁▁▁▁▁▁▁▁▁▁▁▁▁▁▁▁▁▁▁▁▁▁▁▁▁▁▁▁▁▁▁▁▁▁▁▁</td></tr><tr><td>train_acc</td><td>▁▂▄▆▆▆▇▇▇▇▇▇▇▇▇▇▇▇▇█▇▇▇▇▇█▇▇▇██▇▆▇▇██▇▇▇</td></tr><tr><td>train_auc</td><td>▁▃▆▇▇▇▇██▇███████▇██████████████████████</td></tr><tr><td>train_f1</td><td>▁▁▄█▇▆██▇▇█▇▇▇▇▇▇█▇█▇█▇▇██▇█▇██▇▇▇███▇█▇</td></tr><tr><td>train_loss_epoch</td><td>█▆▄▃▃▂▃▂▂▂▂▂▂▂▂▁▂▂▂▂▂▂▂▁▂▁▁▂▂▁▂▂▁▁▁▂▁▂▁▂</td></tr><tr><td>train_loss_step</td><td>▆▄▄▅▄█▄▅▂▁▄▅▅▄▁▂▃▃▂▃▃▄▁▅▄</td></tr><tr><td>trainer/global_step</td><td>▁▁▁▁▂▁▂▁▂▂▃▃▃▃▄▄▂▄▂▄▂▅▃▅▃▆▆▆▃▃▇▇▇▃▇▄█▄█▄</td></tr><tr><td>val_acc</td><td>▃▃▅▆▇▆▆▆▆▄▅▅▆▄▆▅▆▃▇▅▆▅▆▅▆█▇▇▇▆▆▆▆▄▅▄▂▁▁▄</td></tr><tr><td>val_auc</td><td>▁▃▄▅▆▆▆▆▇▇▇▇▇▇▇▇▇▇▇▇██▇███████▇▇▆▆▇▇▇▇█▇</td></tr><tr><td>val_f1</td><td>▁▁█▇▇████████████████████████████████▇▇█</td></tr><tr><td>val_loss_epoch</td><td>█▆▇▆▅▃▄▃▃▃▆▆▂▄▄▃▂▇▃▄▄▄▃▄▃▂▁▂▅▄▃▃▁▇▂▅▆██▄</td></tr><tr><td>val_loss_step</td><td>▆▅▆▅▄▄▃▄▄▄▇▇▃▃▅▄▃▇▃▃▃▄▄▄▃▂▂▂▆▄▃▃▁▇▄▅▆█▄▄</td></tr></table><br/></div><div class=\"wandb-col\"><h3>Run summary:</h3><br/><table class=\"wandb\"><tr><td>epoch</td><td>49</td></tr><tr><td>lr-Adam</td><td>0.005</td></tr><tr><td>train_acc</td><td>0.70854</td></tr><tr><td>train_auc</td><td>0.76542</td></tr><tr><td>train_f1</td><td>0.54311</td></tr><tr><td>train_loss_epoch</td><td>0.55864</td></tr><tr><td>train_loss_step</td><td>0.56577</td></tr><tr><td>trainer/global_step</td><td>249</td></tr><tr><td>val_acc</td><td>0.67763</td></tr><tr><td>val_auc</td><td>0.81882</td></tr><tr><td>val_f1</td><td>0.66667</td></tr><tr><td>val_loss_epoch</td><td>0.59752</td></tr><tr><td>val_loss_step</td><td>0.59241</td></tr></table><br/></div></div>"
      ],
      "text/plain": [
       "<IPython.core.display.HTML object>"
      ]
     },
     "metadata": {},
     "output_type": "display_data"
    },
    {
     "data": {
      "text/html": [
       " View run <strong style=\"color:#cdcd00\">GAT_3_64_onehot_3</strong> at: <a href='https://wandb.ai/thoomas/PLA_01102024_5PPI_Kfold/runs/jpcwzr9k' target=\"_blank\">https://wandb.ai/thoomas/PLA_01102024_5PPI_Kfold/runs/jpcwzr9k</a><br/>Synced 6 W&B file(s), 0 media file(s), 0 artifact file(s) and 0 other file(s)"
      ],
      "text/plain": [
       "<IPython.core.display.HTML object>"
      ]
     },
     "metadata": {},
     "output_type": "display_data"
    },
    {
     "data": {
      "text/html": [
       "Find logs at: <code>.\\wandb\\run-20240112_135056-jpcwzr9k\\logs</code>"
      ],
      "text/plain": [
       "<IPython.core.display.HTML object>"
      ]
     },
     "metadata": {},
     "output_type": "display_data"
    },
    {
     "data": {
      "application/vnd.jupyter.widget-view+json": {
       "model_id": "8065f56cdc4d4de69f3573c7cabf1f69",
       "version_major": 2,
       "version_minor": 0
      },
      "text/plain": [
       "VBox(children=(Label(value='Waiting for wandb.init()...\\r'), FloatProgress(value=0.01691666666883975, max=1.0)…"
      ]
     },
     "metadata": {},
     "output_type": "display_data"
    },
    {
     "data": {
      "text/html": [
       "wandb version 0.16.2 is available!  To upgrade, please run:\n",
       " $ pip install wandb --upgrade"
      ],
      "text/plain": [
       "<IPython.core.display.HTML object>"
      ]
     },
     "metadata": {},
     "output_type": "display_data"
    },
    {
     "data": {
      "text/html": [
       "Tracking run with wandb version 0.14.0"
      ],
      "text/plain": [
       "<IPython.core.display.HTML object>"
      ]
     },
     "metadata": {},
     "output_type": "display_data"
    },
    {
     "data": {
      "text/html": [
       "Run data is saved locally in <code>y:\\coskun-lab\\Thomas\\23_PLA_revision\\notebooks\\wandb\\run-20240112_140650-gogpieof</code>"
      ],
      "text/plain": [
       "<IPython.core.display.HTML object>"
      ]
     },
     "metadata": {},
     "output_type": "display_data"
    },
    {
     "data": {
      "text/html": [
       "Syncing run <strong><a href='https://wandb.ai/thoomas/PLA_01102024_5PPI_Kfold/runs/gogpieof' target=\"_blank\">GAT_3_64_onehot_3</a></strong> to <a href='https://wandb.ai/thoomas/PLA_01102024_5PPI_Kfold' target=\"_blank\">Weights & Biases</a> (<a href='https://wandb.me/run' target=\"_blank\">docs</a>)<br/>"
      ],
      "text/plain": [
       "<IPython.core.display.HTML object>"
      ]
     },
     "metadata": {},
     "output_type": "display_data"
    },
    {
     "data": {
      "text/html": [
       " View project at <a href='https://wandb.ai/thoomas/PLA_01102024_5PPI_Kfold' target=\"_blank\">https://wandb.ai/thoomas/PLA_01102024_5PPI_Kfold</a>"
      ],
      "text/plain": [
       "<IPython.core.display.HTML object>"
      ]
     },
     "metadata": {},
     "output_type": "display_data"
    },
    {
     "data": {
      "text/html": [
       " View run at <a href='https://wandb.ai/thoomas/PLA_01102024_5PPI_Kfold/runs/gogpieof' target=\"_blank\">https://wandb.ai/thoomas/PLA_01102024_5PPI_Kfold/runs/gogpieof</a>"
      ],
      "text/plain": [
       "<IPython.core.display.HTML object>"
      ]
     },
     "metadata": {},
     "output_type": "display_data"
    },
    {
     "name": "stderr",
     "output_type": "stream",
     "text": [
      "Global seed set to 42\n",
      "GPU available: True (cuda), used: True\n",
      "TPU available: False, using: 0 TPU cores\n",
      "IPU available: False, using: 0 IPUs\n",
      "HPU available: False, using: 0 HPUs\n",
      "Global seed set to 42\n",
      "LOCAL_RANK: 0 - CUDA_VISIBLE_DEVICES: [0,1]\n",
      "\n",
      "  | Name        | Type             | Params\n",
      "-------------------------------------------------\n",
      "0 | x_embedding | Identity         | 0     \n",
      "1 | model       | GAT              | 78.0 K\n",
      "2 | head        | Sequential       | 2.1 K \n",
      "3 | loss_module | CrossEntropyLoss | 0     \n",
      "4 | train_acc   | BinaryAccuracy   | 0     \n",
      "5 | train_auroc | BinaryAUROC      | 0     \n",
      "6 | train_f1    | BinaryF1Score    | 0     \n",
      "7 | valid_acc   | BinaryAccuracy   | 0     \n",
      "8 | valid_auroc | BinaryAUROC      | 0     \n",
      "9 | valid_f1    | BinaryF1Score    | 0     \n",
      "-------------------------------------------------\n",
      "80.2 K    Trainable params\n",
      "0         Non-trainable params\n",
      "80.2 K    Total params\n",
      "0.321     Total estimated model params size (MB)\n"
     ]
    },
    {
     "name": "stdout",
     "output_type": "stream",
     "text": [
      "Using GAT\n"
     ]
    },
    {
     "name": "stderr",
     "output_type": "stream",
     "text": [
      "`Trainer.fit` stopped: `max_epochs=50` reached.\n"
     ]
    },
    {
     "data": {
      "text/html": [
       "Waiting for W&B process to finish... <strong style=\"color:green\">(success).</strong>"
      ],
      "text/plain": [
       "<IPython.core.display.HTML object>"
      ]
     },
     "metadata": {},
     "output_type": "display_data"
    },
    {
     "data": {
      "application/vnd.jupyter.widget-view+json": {
       "model_id": "2421a50e378f45fd9d3df5aa6bb51d47",
       "version_major": 2,
       "version_minor": 0
      },
      "text/plain": [
       "VBox(children=(Label(value='0.001 MB of 0.001 MB uploaded (0.000 MB deduped)\\r'), FloatProgress(value=1.0, max…"
      ]
     },
     "metadata": {},
     "output_type": "display_data"
    },
    {
     "data": {
      "text/html": [
       "<style>\n",
       "    table.wandb td:nth-child(1) { padding: 0 10px; text-align: left ; width: auto;} td:nth-child(2) {text-align: left ; width: 100%}\n",
       "    .wandb-row { display: flex; flex-direction: row; flex-wrap: wrap; justify-content: flex-start; width: 100% }\n",
       "    .wandb-col { display: flex; flex-direction: column; flex-basis: 100%; flex: 1; padding: 10px; }\n",
       "    </style>\n",
       "<div class=\"wandb-row\"><div class=\"wandb-col\"><h3>Run history:</h3><br/><table class=\"wandb\"><tr><td>epoch</td><td>▁▁▁▁▂▂▂▂▂▃▃▃▃▃▃▄▄▄▄▄▅▅▅▅▅▅▆▆▆▆▆▇▇▇▇▇▇███</td></tr><tr><td>lr-Adam</td><td>▁▁▁▁▁▁▁▁▁▁▁▁▁▁▁▁▁▁▁▁▁▁▁▁▁▁▁▁▁▁▁▁▁▁▁▁▁▁▁▁</td></tr><tr><td>train_acc</td><td>▁▃▃▄▅▆▆▆▇▆█▇▇▇▇▇▇▆▇█▇█▇▇▇▇██▇▇█▇▇█▇█████</td></tr><tr><td>train_auc</td><td>▁▃▃▄▆▆▆▇▇▇██████▇▇████▇█████▇█▇█████████</td></tr><tr><td>train_f1</td><td>▂▃▁▂▆▇▇▇▇▇█▇▇█▇█▇█▇█▇█▇█▇█▇█▇▇█▆▇██████▇</td></tr><tr><td>train_loss_epoch</td><td>█▆▆▅▄▄▃▃▂▃▁▂▂▂▂▂▂▂▁▁▂▂▂▂▂▂▁▂▂▁▂▂▂▁▁▂▁▁▁▂</td></tr><tr><td>train_loss_step</td><td>█▆▆▄▄▇▃▄▂▁▃▄▄▆▂▃▄▃▄▄▁▄▂▄▂</td></tr><tr><td>trainer/global_step</td><td>▁▁▁▁▂▁▂▁▂▂▃▃▃▃▄▄▂▄▂▄▂▅▃▅▃▆▆▆▃▃▇▇▇▃▇▄█▄█▄</td></tr><tr><td>val_acc</td><td>▁▁▁▄▃▄▄▄▅▆▆▆▅▆▇▆▅█▆▇█▄▇▄▇▆▄▅▆▄▄▄▁▅▂▆▆▄▇▆</td></tr><tr><td>val_auc</td><td>▁▂▄▄▅▅▆▆▇▇▇▇█▇▇▇▇█████████▇▇▇▇██▇▇▇███▇█</td></tr><tr><td>val_f1</td><td>▁▁▁▆▇▇▆▆▇▇▇▇▇▆█▇▇█▆██▅▇▅▇▆▅▆▆▄▅▅▁▆▃▇▇▅▇▇</td></tr><tr><td>val_loss_epoch</td><td>██▇█▇▅▄▄▄▂▃▄▃▂▃▂▂▃▂▃▃▂▃▃▃▂▂▃▄▂▂▃▄▄▂▃▂▂▁▂</td></tr><tr><td>val_loss_step</td><td>██▇█▇▆▄▅▄▄▄▅▄▁▄▄▃▄▂▃▄▂▅▄▃▃▃▃▇▃▂▃▆▆▂▃▃▃▃▃</td></tr></table><br/></div><div class=\"wandb-col\"><h3>Run summary:</h3><br/><table class=\"wandb\"><tr><td>epoch</td><td>49</td></tr><tr><td>lr-Adam</td><td>0.005</td></tr><tr><td>train_acc</td><td>0.71182</td></tr><tr><td>train_auc</td><td>0.76594</td></tr><tr><td>train_f1</td><td>0.54826</td></tr><tr><td>train_loss_epoch</td><td>0.56374</td></tr><tr><td>train_loss_step</td><td>0.54466</td></tr><tr><td>trainer/global_step</td><td>249</td></tr><tr><td>val_acc</td><td>0.74671</td></tr><tr><td>val_auc</td><td>0.81529</td></tr><tr><td>val_f1</td><td>0.56</td></tr><tr><td>val_loss_epoch</td><td>0.54466</td></tr><tr><td>val_loss_step</td><td>0.55102</td></tr></table><br/></div></div>"
      ],
      "text/plain": [
       "<IPython.core.display.HTML object>"
      ]
     },
     "metadata": {},
     "output_type": "display_data"
    },
    {
     "data": {
      "text/html": [
       " View run <strong style=\"color:#cdcd00\">GAT_3_64_onehot_3</strong> at: <a href='https://wandb.ai/thoomas/PLA_01102024_5PPI_Kfold/runs/gogpieof' target=\"_blank\">https://wandb.ai/thoomas/PLA_01102024_5PPI_Kfold/runs/gogpieof</a><br/>Synced 6 W&B file(s), 0 media file(s), 0 artifact file(s) and 0 other file(s)"
      ],
      "text/plain": [
       "<IPython.core.display.HTML object>"
      ]
     },
     "metadata": {},
     "output_type": "display_data"
    },
    {
     "data": {
      "text/html": [
       "Find logs at: <code>.\\wandb\\run-20240112_140650-gogpieof\\logs</code>"
      ],
      "text/plain": [
       "<IPython.core.display.HTML object>"
      ]
     },
     "metadata": {},
     "output_type": "display_data"
    },
    {
     "data": {
      "application/vnd.jupyter.widget-view+json": {
       "model_id": "c4fac3db805c4891b680a6cd286db305",
       "version_major": 2,
       "version_minor": 0
      },
      "text/plain": [
       "VBox(children=(Label(value='Waiting for wandb.init()...\\r'), FloatProgress(value=0.016666666666666666, max=1.0…"
      ]
     },
     "metadata": {},
     "output_type": "display_data"
    },
    {
     "data": {
      "text/html": [
       "wandb version 0.16.2 is available!  To upgrade, please run:\n",
       " $ pip install wandb --upgrade"
      ],
      "text/plain": [
       "<IPython.core.display.HTML object>"
      ]
     },
     "metadata": {},
     "output_type": "display_data"
    },
    {
     "data": {
      "text/html": [
       "Tracking run with wandb version 0.14.0"
      ],
      "text/plain": [
       "<IPython.core.display.HTML object>"
      ]
     },
     "metadata": {},
     "output_type": "display_data"
    },
    {
     "data": {
      "text/html": [
       "Run data is saved locally in <code>y:\\coskun-lab\\Thomas\\23_PLA_revision\\notebooks\\wandb\\run-20240112_142448-hk5xl6th</code>"
      ],
      "text/plain": [
       "<IPython.core.display.HTML object>"
      ]
     },
     "metadata": {},
     "output_type": "display_data"
    },
    {
     "data": {
      "text/html": [
       "Syncing run <strong><a href='https://wandb.ai/thoomas/PLA_01102024_5PPI_Kfold/runs/hk5xl6th' target=\"_blank\">GAT_3_64_onehot_3</a></strong> to <a href='https://wandb.ai/thoomas/PLA_01102024_5PPI_Kfold' target=\"_blank\">Weights & Biases</a> (<a href='https://wandb.me/run' target=\"_blank\">docs</a>)<br/>"
      ],
      "text/plain": [
       "<IPython.core.display.HTML object>"
      ]
     },
     "metadata": {},
     "output_type": "display_data"
    },
    {
     "data": {
      "text/html": [
       " View project at <a href='https://wandb.ai/thoomas/PLA_01102024_5PPI_Kfold' target=\"_blank\">https://wandb.ai/thoomas/PLA_01102024_5PPI_Kfold</a>"
      ],
      "text/plain": [
       "<IPython.core.display.HTML object>"
      ]
     },
     "metadata": {},
     "output_type": "display_data"
    },
    {
     "data": {
      "text/html": [
       " View run at <a href='https://wandb.ai/thoomas/PLA_01102024_5PPI_Kfold/runs/hk5xl6th' target=\"_blank\">https://wandb.ai/thoomas/PLA_01102024_5PPI_Kfold/runs/hk5xl6th</a>"
      ],
      "text/plain": [
       "<IPython.core.display.HTML object>"
      ]
     },
     "metadata": {},
     "output_type": "display_data"
    },
    {
     "name": "stderr",
     "output_type": "stream",
     "text": [
      "Global seed set to 42\n",
      "GPU available: True (cuda), used: True\n",
      "TPU available: False, using: 0 TPU cores\n",
      "IPU available: False, using: 0 IPUs\n",
      "HPU available: False, using: 0 HPUs\n",
      "Global seed set to 42\n",
      "LOCAL_RANK: 0 - CUDA_VISIBLE_DEVICES: [0,1]\n",
      "\n",
      "  | Name        | Type             | Params\n",
      "-------------------------------------------------\n",
      "0 | x_embedding | Identity         | 0     \n",
      "1 | model       | GAT              | 78.0 K\n",
      "2 | head        | Sequential       | 2.1 K \n",
      "3 | loss_module | CrossEntropyLoss | 0     \n",
      "4 | train_acc   | BinaryAccuracy   | 0     \n",
      "5 | train_auroc | BinaryAUROC      | 0     \n",
      "6 | train_f1    | BinaryF1Score    | 0     \n",
      "7 | valid_acc   | BinaryAccuracy   | 0     \n",
      "8 | valid_auroc | BinaryAUROC      | 0     \n",
      "9 | valid_f1    | BinaryF1Score    | 0     \n",
      "-------------------------------------------------\n",
      "80.2 K    Trainable params\n",
      "0         Non-trainable params\n",
      "80.2 K    Total params\n",
      "0.321     Total estimated model params size (MB)\n"
     ]
    },
    {
     "name": "stdout",
     "output_type": "stream",
     "text": [
      "Using GAT\n"
     ]
    },
    {
     "name": "stderr",
     "output_type": "stream",
     "text": [
      "`Trainer.fit` stopped: `max_epochs=50` reached.\n"
     ]
    },
    {
     "data": {
      "text/html": [
       "Waiting for W&B process to finish... <strong style=\"color:green\">(success).</strong>"
      ],
      "text/plain": [
       "<IPython.core.display.HTML object>"
      ]
     },
     "metadata": {},
     "output_type": "display_data"
    },
    {
     "data": {
      "application/vnd.jupyter.widget-view+json": {
       "model_id": "9c59620d59fe4d4999e9900abf4d64e6",
       "version_major": 2,
       "version_minor": 0
      },
      "text/plain": [
       "VBox(children=(Label(value='0.001 MB of 0.001 MB uploaded (0.000 MB deduped)\\r'), FloatProgress(value=1.0, max…"
      ]
     },
     "metadata": {},
     "output_type": "display_data"
    },
    {
     "data": {
      "text/html": [
       "<style>\n",
       "    table.wandb td:nth-child(1) { padding: 0 10px; text-align: left ; width: auto;} td:nth-child(2) {text-align: left ; width: 100%}\n",
       "    .wandb-row { display: flex; flex-direction: row; flex-wrap: wrap; justify-content: flex-start; width: 100% }\n",
       "    .wandb-col { display: flex; flex-direction: column; flex-basis: 100%; flex: 1; padding: 10px; }\n",
       "    </style>\n",
       "<div class=\"wandb-row\"><div class=\"wandb-col\"><h3>Run history:</h3><br/><table class=\"wandb\"><tr><td>epoch</td><td>▁▁▁▁▂▂▂▂▂▃▃▃▃▃▃▄▄▄▄▄▅▅▅▅▅▅▆▆▆▆▆▇▇▇▇▇▇███</td></tr><tr><td>lr-Adam</td><td>▁▁▁▁▁▁▁▁▁▁▁▁▁▁▁▁▁▁▁▁▁▁▁▁▁▁▁▁▁▁▁▁▁▁▁▁▁▁▁▁</td></tr><tr><td>train_acc</td><td>▁▂▂▃▆▅▅▆▇▆▇▆▇▆▆▇▇▇▇█▇▇▇▇███▇██▇▇▇████▇▇▇</td></tr><tr><td>train_auc</td><td>▄▆▅▆▅▆▆▆▇▇██▇▇▆▅▆▅▅▄▄▃▂▂▂▃▃▃▂▂▃▂▂▂▂▂▂▁▂▁</td></tr><tr><td>train_f1</td><td>▁▄▂▃▇▅▆▆▇▆█▇█▇▆▇▇▇█▇▇▇█▇█▇████▇▆▇▇█▇█▆▇▇</td></tr><tr><td>train_loss_epoch</td><td>█▃▂▂▁▁▁▁▁▁▁▁▁▁▁▁▁▁▁▁▁▁▁▁▁▁▁▁▁▁▁▁▁▁▁▁▁▁▁▁</td></tr><tr><td>train_loss_step</td><td>█▄▂▂▂▃▂▂▁▁▂▂▂▁▁▁▂▁▂▁▁▂▁▂▂</td></tr><tr><td>trainer/global_step</td><td>▁▁▁▁▂▁▂▁▂▂▃▃▃▃▄▄▂▄▂▄▂▅▃▅▃▆▆▆▃▃▇▇▇▃▇▄█▄█▄</td></tr><tr><td>val_acc</td><td>▅▄▇█▄▁▃▅▄▅▄▅▅▄▅▅▅▄▆▇▅▅▆▇█▇▇▇▇▇▇▇▇▅▆▇█▇█▇</td></tr><tr><td>val_auc</td><td>▅▆▆▇████████▇█▇▇▇▇▆▆▆▅▃▂▂▂▂▂▁▁▂▂▂▂▂▂▃▃▁▁</td></tr><tr><td>val_f1</td><td>▅▁▇▇▇▇▇█▇█▇██████▇██████████████████████</td></tr><tr><td>val_loss_epoch</td><td>▇█▆▄▆▆▇▆▄▄█▆▄▅▆▃▃▆▅▃▅▅▅▄▃▃▁▃▄▃▅▃▁▆▄▅▃▄▅▃</td></tr><tr><td>val_loss_step</td><td>▅█▅▄▅▆▆▆▅▄█▇▅▄▇▄▄▆▅▅▄▄▄▄▃▃▂▃▅▄▃▄▁▇▃▄▄▄▃▃</td></tr></table><br/></div><div class=\"wandb-col\"><h3>Run summary:</h3><br/><table class=\"wandb\"><tr><td>epoch</td><td>49</td></tr><tr><td>lr-Adam</td><td>0.005</td></tr><tr><td>train_acc</td><td>0.72578</td></tr><tr><td>train_auc</td><td>0.39892</td></tr><tr><td>train_f1</td><td>0.60143</td></tr><tr><td>train_loss_epoch</td><td>0.54043</td></tr><tr><td>train_loss_step</td><td>0.55418</td></tr><tr><td>trainer/global_step</td><td>249</td></tr><tr><td>val_acc</td><td>0.74342</td></tr><tr><td>val_auc</td><td>0.15157</td></tr><tr><td>val_f1</td><td>0.70229</td></tr><tr><td>val_loss_epoch</td><td>0.53271</td></tr><tr><td>val_loss_step</td><td>0.54214</td></tr></table><br/></div></div>"
      ],
      "text/plain": [
       "<IPython.core.display.HTML object>"
      ]
     },
     "metadata": {},
     "output_type": "display_data"
    },
    {
     "data": {
      "text/html": [
       " View run <strong style=\"color:#cdcd00\">GAT_3_64_onehot_3</strong> at: <a href='https://wandb.ai/thoomas/PLA_01102024_5PPI_Kfold/runs/hk5xl6th' target=\"_blank\">https://wandb.ai/thoomas/PLA_01102024_5PPI_Kfold/runs/hk5xl6th</a><br/>Synced 6 W&B file(s), 0 media file(s), 0 artifact file(s) and 0 other file(s)"
      ],
      "text/plain": [
       "<IPython.core.display.HTML object>"
      ]
     },
     "metadata": {},
     "output_type": "display_data"
    },
    {
     "data": {
      "text/html": [
       "Find logs at: <code>.\\wandb\\run-20240112_142448-hk5xl6th\\logs</code>"
      ],
      "text/plain": [
       "<IPython.core.display.HTML object>"
      ]
     },
     "metadata": {},
     "output_type": "display_data"
    },
    {
     "data": {
      "application/vnd.jupyter.widget-view+json": {
       "model_id": "2d28aad2f7a949f9976a643d34d1ef56",
       "version_major": 2,
       "version_minor": 0
      },
      "text/plain": [
       "VBox(children=(Label(value='Waiting for wandb.init()...\\r'), FloatProgress(value=0.01693333333435779, max=1.0)…"
      ]
     },
     "metadata": {},
     "output_type": "display_data"
    },
    {
     "data": {
      "text/html": [
       "wandb version 0.16.2 is available!  To upgrade, please run:\n",
       " $ pip install wandb --upgrade"
      ],
      "text/plain": [
       "<IPython.core.display.HTML object>"
      ]
     },
     "metadata": {},
     "output_type": "display_data"
    },
    {
     "data": {
      "text/html": [
       "Tracking run with wandb version 0.14.0"
      ],
      "text/plain": [
       "<IPython.core.display.HTML object>"
      ]
     },
     "metadata": {},
     "output_type": "display_data"
    },
    {
     "data": {
      "text/html": [
       "Run data is saved locally in <code>y:\\coskun-lab\\Thomas\\23_PLA_revision\\notebooks\\wandb\\run-20240112_144552-wtdp7yd2</code>"
      ],
      "text/plain": [
       "<IPython.core.display.HTML object>"
      ]
     },
     "metadata": {},
     "output_type": "display_data"
    },
    {
     "data": {
      "text/html": [
       "Syncing run <strong><a href='https://wandb.ai/thoomas/PLA_01102024_5PPI_Kfold/runs/wtdp7yd2' target=\"_blank\">GAT_3_64_onehot_3</a></strong> to <a href='https://wandb.ai/thoomas/PLA_01102024_5PPI_Kfold' target=\"_blank\">Weights & Biases</a> (<a href='https://wandb.me/run' target=\"_blank\">docs</a>)<br/>"
      ],
      "text/plain": [
       "<IPython.core.display.HTML object>"
      ]
     },
     "metadata": {},
     "output_type": "display_data"
    },
    {
     "data": {
      "text/html": [
       " View project at <a href='https://wandb.ai/thoomas/PLA_01102024_5PPI_Kfold' target=\"_blank\">https://wandb.ai/thoomas/PLA_01102024_5PPI_Kfold</a>"
      ],
      "text/plain": [
       "<IPython.core.display.HTML object>"
      ]
     },
     "metadata": {},
     "output_type": "display_data"
    },
    {
     "data": {
      "text/html": [
       " View run at <a href='https://wandb.ai/thoomas/PLA_01102024_5PPI_Kfold/runs/wtdp7yd2' target=\"_blank\">https://wandb.ai/thoomas/PLA_01102024_5PPI_Kfold/runs/wtdp7yd2</a>"
      ],
      "text/plain": [
       "<IPython.core.display.HTML object>"
      ]
     },
     "metadata": {},
     "output_type": "display_data"
    },
    {
     "name": "stderr",
     "output_type": "stream",
     "text": [
      "Global seed set to 42\n",
      "GPU available: True (cuda), used: True\n",
      "TPU available: False, using: 0 TPU cores\n",
      "IPU available: False, using: 0 IPUs\n",
      "HPU available: False, using: 0 HPUs\n",
      "Global seed set to 42\n",
      "LOCAL_RANK: 0 - CUDA_VISIBLE_DEVICES: [0,1]\n",
      "\n",
      "   | Name        | Type             | Params\n",
      "--------------------------------------------------\n",
      "0  | x_embedding | Identity         | 0     \n",
      "1  | model       | GAT              | 78.0 K\n",
      "2  | head        | Sequential       | 2.1 K \n",
      "3  | loss_module | CrossEntropyLoss | 0     \n",
      "4  | train_acc   | BinaryAccuracy   | 0     \n",
      "5  | train_auroc | BinaryAUROC      | 0     \n",
      "6  | train_f1    | BinaryF1Score    | 0     \n",
      "7  | valid_acc   | BinaryAccuracy   | 0     \n",
      "8  | valid_auroc | BinaryAUROC      | 0     \n",
      "9  | valid_f1    | BinaryF1Score    | 0     \n",
      "10 | pool        | GlobalAttention  | 65    \n",
      "--------------------------------------------------\n",
      "80.2 K    Trainable params\n",
      "0         Non-trainable params\n",
      "80.2 K    Total params\n",
      "0.321     Total estimated model params size (MB)\n"
     ]
    },
    {
     "name": "stdout",
     "output_type": "stream",
     "text": [
      "Using GAT\n"
     ]
    },
    {
     "name": "stderr",
     "output_type": "stream",
     "text": [
      "`Trainer.fit` stopped: `max_epochs=50` reached.\n"
     ]
    },
    {
     "data": {
      "text/html": [
       "Waiting for W&B process to finish... <strong style=\"color:green\">(success).</strong>"
      ],
      "text/plain": [
       "<IPython.core.display.HTML object>"
      ]
     },
     "metadata": {},
     "output_type": "display_data"
    },
    {
     "data": {
      "application/vnd.jupyter.widget-view+json": {
       "model_id": "d3b81a0165574252820d88b404ca8374",
       "version_major": 2,
       "version_minor": 0
      },
      "text/plain": [
       "VBox(children=(Label(value='0.001 MB of 0.001 MB uploaded (0.000 MB deduped)\\r'), FloatProgress(value=1.0, max…"
      ]
     },
     "metadata": {},
     "output_type": "display_data"
    },
    {
     "data": {
      "text/html": [
       "<style>\n",
       "    table.wandb td:nth-child(1) { padding: 0 10px; text-align: left ; width: auto;} td:nth-child(2) {text-align: left ; width: 100%}\n",
       "    .wandb-row { display: flex; flex-direction: row; flex-wrap: wrap; justify-content: flex-start; width: 100% }\n",
       "    .wandb-col { display: flex; flex-direction: column; flex-basis: 100%; flex: 1; padding: 10px; }\n",
       "    </style>\n",
       "<div class=\"wandb-row\"><div class=\"wandb-col\"><h3>Run history:</h3><br/><table class=\"wandb\"><tr><td>epoch</td><td>▁▁▁▁▂▂▂▂▂▃▃▃▃▃▃▄▄▄▄▄▅▅▅▅▅▅▆▆▆▆▆▇▇▇▇▇▇███</td></tr><tr><td>lr-Adam</td><td>▁▁▁▁▁▁▁▁▁▁▁▁▁▁▁▁▁▁▁▁▁▁▁▁▁▁▁▁▁▁▁▁▁▁▁▁▁▁▁▁</td></tr><tr><td>train_acc</td><td>▁▃▆▆▆▆▆▇▇▇▇▇▇▇▇▇▇▇█▇█▇▇▇▇▇▇▆█▇█▇▇▇▇▇▇▇█▇</td></tr><tr><td>train_auc</td><td>▁▄▆▇▇▇▇▇▇▇▇██▇▇▇▇██▇███████▇████▇███████</td></tr><tr><td>train_f1</td><td>▁▃▇▇█▇▇██▇███▇█▇▇▇█▇▇▇█▇▇█▇▇▇████▇███▇█▇</td></tr><tr><td>train_loss_epoch</td><td>█▆▃▃▃▂▂▂▂▂▂▁▂▂▂▃▂▁▁▂▁▂▂▂▂▂▁▂▂▂▁▁▂▂▂▁▁▁▂▂</td></tr><tr><td>train_loss_step</td><td>█▆▇▃▅▇▂▄▇▆▃▇▁▄▅▄▅█▄█▃▄▄▄▄</td></tr><tr><td>trainer/global_step</td><td>▁▁▁▁▂▁▂▁▂▂▃▃▃▃▄▄▂▄▂▄▂▅▃▅▃▆▆▆▃▃▇▇▇▃▇▄█▄█▄</td></tr><tr><td>val_acc</td><td>▄▅█▅█▅▆▅▅▆▇█▆▇▄▃▇▂▇▆█▆▇▅▅▂▇▄▆█▇▄▄▆▁▆▆▇▂▇</td></tr><tr><td>val_auc</td><td>▁▁▃▃▄▅▆▇▇▇▇▇██▇█▇▇▇▇▇▇█▇▇▇▇▇▇███▇▇▇▇████</td></tr><tr><td>val_f1</td><td>▁▃▇▃▇██████████▇█▇███████▇████████▇███▇█</td></tr><tr><td>val_loss_epoch</td><td>▆▆▅▃▂▄▃▅▃▄▂▁▅▄▄▄▂▄▁▃▃▂▁▄▄▆▃▄▂▃▃▃▄▄█▁▃▂▄▂</td></tr><tr><td>val_loss_step</td><td>█▇█▅▅▆▅█▆▅▄▄▄▇▆█▅▅▁▅▃▂▁▆▆█▇▄▂▆▇▇▆█▆▅▅▅▄▆</td></tr></table><br/></div><div class=\"wandb-col\"><h3>Run summary:</h3><br/><table class=\"wandb\"><tr><td>epoch</td><td>49</td></tr><tr><td>lr-Adam</td><td>0.005</td></tr><tr><td>train_acc</td><td>0.71593</td></tr><tr><td>train_auc</td><td>0.7775</td></tr><tr><td>train_f1</td><td>0.5801</td></tr><tr><td>train_loss_epoch</td><td>0.54821</td></tr><tr><td>train_loss_step</td><td>0.54473</td></tr><tr><td>trainer/global_step</td><td>249</td></tr><tr><td>val_acc</td><td>0.72697</td></tr><tr><td>val_auc</td><td>0.82346</td></tr><tr><td>val_f1</td><td>0.68199</td></tr><tr><td>val_loss_epoch</td><td>0.56373</td></tr><tr><td>val_loss_step</td><td>0.59461</td></tr></table><br/></div></div>"
      ],
      "text/plain": [
       "<IPython.core.display.HTML object>"
      ]
     },
     "metadata": {},
     "output_type": "display_data"
    },
    {
     "data": {
      "text/html": [
       " View run <strong style=\"color:#cdcd00\">GAT_3_64_onehot_3</strong> at: <a href='https://wandb.ai/thoomas/PLA_01102024_5PPI_Kfold/runs/wtdp7yd2' target=\"_blank\">https://wandb.ai/thoomas/PLA_01102024_5PPI_Kfold/runs/wtdp7yd2</a><br/>Synced 6 W&B file(s), 0 media file(s), 0 artifact file(s) and 0 other file(s)"
      ],
      "text/plain": [
       "<IPython.core.display.HTML object>"
      ]
     },
     "metadata": {},
     "output_type": "display_data"
    },
    {
     "data": {
      "text/html": [
       "Find logs at: <code>.\\wandb\\run-20240112_144552-wtdp7yd2\\logs</code>"
      ],
      "text/plain": [
       "<IPython.core.display.HTML object>"
      ]
     },
     "metadata": {},
     "output_type": "display_data"
    },
    {
     "data": {
      "application/vnd.jupyter.widget-view+json": {
       "model_id": "805219c1da414dd6bc479370e03e199b",
       "version_major": 2,
       "version_minor": 0
      },
      "text/plain": [
       "VBox(children=(Label(value='Waiting for wandb.init()...\\r'), FloatProgress(value=0.017183333332650364, max=1.0…"
      ]
     },
     "metadata": {},
     "output_type": "display_data"
    },
    {
     "data": {
      "text/html": [
       "wandb version 0.16.2 is available!  To upgrade, please run:\n",
       " $ pip install wandb --upgrade"
      ],
      "text/plain": [
       "<IPython.core.display.HTML object>"
      ]
     },
     "metadata": {},
     "output_type": "display_data"
    },
    {
     "data": {
      "text/html": [
       "Tracking run with wandb version 0.14.0"
      ],
      "text/plain": [
       "<IPython.core.display.HTML object>"
      ]
     },
     "metadata": {},
     "output_type": "display_data"
    },
    {
     "data": {
      "text/html": [
       "Run data is saved locally in <code>y:\\coskun-lab\\Thomas\\23_PLA_revision\\notebooks\\wandb\\run-20240112_150430-w964ddte</code>"
      ],
      "text/plain": [
       "<IPython.core.display.HTML object>"
      ]
     },
     "metadata": {},
     "output_type": "display_data"
    },
    {
     "data": {
      "text/html": [
       "Syncing run <strong><a href='https://wandb.ai/thoomas/PLA_01102024_5PPI_Kfold/runs/w964ddte' target=\"_blank\">GAT_3_64_onehot_3</a></strong> to <a href='https://wandb.ai/thoomas/PLA_01102024_5PPI_Kfold' target=\"_blank\">Weights & Biases</a> (<a href='https://wandb.me/run' target=\"_blank\">docs</a>)<br/>"
      ],
      "text/plain": [
       "<IPython.core.display.HTML object>"
      ]
     },
     "metadata": {},
     "output_type": "display_data"
    },
    {
     "data": {
      "text/html": [
       " View project at <a href='https://wandb.ai/thoomas/PLA_01102024_5PPI_Kfold' target=\"_blank\">https://wandb.ai/thoomas/PLA_01102024_5PPI_Kfold</a>"
      ],
      "text/plain": [
       "<IPython.core.display.HTML object>"
      ]
     },
     "metadata": {},
     "output_type": "display_data"
    },
    {
     "data": {
      "text/html": [
       " View run at <a href='https://wandb.ai/thoomas/PLA_01102024_5PPI_Kfold/runs/w964ddte' target=\"_blank\">https://wandb.ai/thoomas/PLA_01102024_5PPI_Kfold/runs/w964ddte</a>"
      ],
      "text/plain": [
       "<IPython.core.display.HTML object>"
      ]
     },
     "metadata": {},
     "output_type": "display_data"
    },
    {
     "name": "stderr",
     "output_type": "stream",
     "text": [
      "Global seed set to 42\n",
      "GPU available: True (cuda), used: True\n",
      "TPU available: False, using: 0 TPU cores\n",
      "IPU available: False, using: 0 IPUs\n",
      "HPU available: False, using: 0 HPUs\n",
      "Global seed set to 42\n",
      "LOCAL_RANK: 0 - CUDA_VISIBLE_DEVICES: [0,1]\n",
      "\n",
      "   | Name        | Type             | Params\n",
      "--------------------------------------------------\n",
      "0  | x_embedding | Identity         | 0     \n",
      "1  | model       | GAT              | 78.0 K\n",
      "2  | head        | Sequential       | 2.1 K \n",
      "3  | loss_module | CrossEntropyLoss | 0     \n",
      "4  | train_acc   | BinaryAccuracy   | 0     \n",
      "5  | train_auroc | BinaryAUROC      | 0     \n",
      "6  | train_f1    | BinaryF1Score    | 0     \n",
      "7  | valid_acc   | BinaryAccuracy   | 0     \n",
      "8  | valid_auroc | BinaryAUROC      | 0     \n",
      "9  | valid_f1    | BinaryF1Score    | 0     \n",
      "10 | pool        | Attention_module | 4.2 K \n",
      "--------------------------------------------------\n",
      "84.4 K    Trainable params\n",
      "0         Non-trainable params\n",
      "84.4 K    Total params\n",
      "0.337     Total estimated model params size (MB)\n"
     ]
    },
    {
     "name": "stdout",
     "output_type": "stream",
     "text": [
      "Using GAT\n"
     ]
    },
    {
     "name": "stderr",
     "output_type": "stream",
     "text": [
      "`Trainer.fit` stopped: `max_epochs=50` reached.\n"
     ]
    },
    {
     "data": {
      "text/html": [
       "Waiting for W&B process to finish... <strong style=\"color:green\">(success).</strong>"
      ],
      "text/plain": [
       "<IPython.core.display.HTML object>"
      ]
     },
     "metadata": {},
     "output_type": "display_data"
    },
    {
     "data": {
      "application/vnd.jupyter.widget-view+json": {
       "model_id": "d795b29b38ab4f9184b72c1c84980d9b",
       "version_major": 2,
       "version_minor": 0
      },
      "text/plain": [
       "VBox(children=(Label(value='0.001 MB of 0.001 MB uploaded (0.000 MB deduped)\\r'), FloatProgress(value=1.0, max…"
      ]
     },
     "metadata": {},
     "output_type": "display_data"
    },
    {
     "data": {
      "text/html": [
       "<style>\n",
       "    table.wandb td:nth-child(1) { padding: 0 10px; text-align: left ; width: auto;} td:nth-child(2) {text-align: left ; width: 100%}\n",
       "    .wandb-row { display: flex; flex-direction: row; flex-wrap: wrap; justify-content: flex-start; width: 100% }\n",
       "    .wandb-col { display: flex; flex-direction: column; flex-basis: 100%; flex: 1; padding: 10px; }\n",
       "    </style>\n",
       "<div class=\"wandb-row\"><div class=\"wandb-col\"><h3>Run history:</h3><br/><table class=\"wandb\"><tr><td>epoch</td><td>▁▁▁▁▂▂▂▂▂▃▃▃▃▃▃▄▄▄▄▄▅▅▅▅▅▅▆▆▆▆▆▇▇▇▇▇▇███</td></tr><tr><td>lr-Adam</td><td>▁▁▁▁▁▁▁▁▁▁▁▁▁▁▁▁▁▁▁▁▁▁▁▁▁▁▁▁▁▁▁▁▁▁▁▁▁▁▁▁</td></tr><tr><td>train_acc</td><td>▁▃▆▆▇▇▆▆▇▇█▇▆▇▇▇▇▇██▇▇▆▇▇▇▇▇█▇█▇▇█▇▇▇▇█▇</td></tr><tr><td>train_auc</td><td>▁▅▆▇▇▇▇▇████▇███████▇████▇▇█████▇███████</td></tr><tr><td>train_f1</td><td>▁▄▆▇▇▇▇▇▇▇█▇▇▇▇██▇██▇█▆██▇▇██▇█▇▇▇█▇█▇██</td></tr><tr><td>train_loss_epoch</td><td>█▅▅▄▂▂▂▂▂▁▁▂▂▂▂▂▂▂▁▁▂▂▁▂▁▂▂▁▁▁▂▂▂▁▂▁▁▂▁▂</td></tr><tr><td>train_loss_step</td><td>▅█▅▄▄▅▅▂▃▆▃▃▅▃▅▄▄▁▄▃▂▄▃▃▃</td></tr><tr><td>trainer/global_step</td><td>▁▁▁▁▂▁▂▁▂▂▃▃▃▃▄▄▂▄▂▄▂▅▃▅▃▆▆▆▃▃▇▇▇▃▇▄█▄█▄</td></tr><tr><td>val_acc</td><td>▂▂▆▅▆▅▅▆▇▆▅▅▄▅▁▁▂▃▄▃▄▇▅▅▄▅▅▇▇█▅▆▆▁▃▁▅▆▅▄</td></tr><tr><td>val_auc</td><td>▁▁▃▂▄▅▄▄▆▆▆▇▇▆▆▆▅▇▆▆▆▇▇▇▆▇▇████▇▇▇▇▇█▇▇█</td></tr><tr><td>val_f1</td><td>▁▁▇▅▇█▇███████▇▇▇████████████████▇█▇████</td></tr><tr><td>val_loss_epoch</td><td>▇▆▆▅▅▃▃▃▁▂▃▂▃▂█▅▄▄▃▄▄▁▃▄▃▄▃▄▁▃▄▃▂▄▄▆▃▁▂▄</td></tr><tr><td>val_loss_step</td><td>▅▅▅▄▄▄▂▄▃▃▄▂▄▁█▅▅▃▃▃▄▂▃▄▄▅▂▃▂▄▂▄▂▃▄▄▃▁▃▃</td></tr></table><br/></div><div class=\"wandb-col\"><h3>Run summary:</h3><br/><table class=\"wandb\"><tr><td>epoch</td><td>49</td></tr><tr><td>lr-Adam</td><td>0.005</td></tr><tr><td>train_acc</td><td>0.72003</td></tr><tr><td>train_auc</td><td>0.77276</td></tr><tr><td>train_f1</td><td>0.62486</td></tr><tr><td>train_loss_epoch</td><td>0.5529</td></tr><tr><td>train_loss_step</td><td>0.53861</td></tr><tr><td>trainer/global_step</td><td>249</td></tr><tr><td>val_acc</td><td>0.69079</td></tr><tr><td>val_auc</td><td>0.82582</td></tr><tr><td>val_f1</td><td>0.67133</td></tr><tr><td>val_loss_epoch</td><td>0.58304</td></tr><tr><td>val_loss_step</td><td>0.57024</td></tr></table><br/></div></div>"
      ],
      "text/plain": [
       "<IPython.core.display.HTML object>"
      ]
     },
     "metadata": {},
     "output_type": "display_data"
    },
    {
     "data": {
      "text/html": [
       " View run <strong style=\"color:#cdcd00\">GAT_3_64_onehot_3</strong> at: <a href='https://wandb.ai/thoomas/PLA_01102024_5PPI_Kfold/runs/w964ddte' target=\"_blank\">https://wandb.ai/thoomas/PLA_01102024_5PPI_Kfold/runs/w964ddte</a><br/>Synced 6 W&B file(s), 0 media file(s), 0 artifact file(s) and 0 other file(s)"
      ],
      "text/plain": [
       "<IPython.core.display.HTML object>"
      ]
     },
     "metadata": {},
     "output_type": "display_data"
    },
    {
     "data": {
      "text/html": [
       "Find logs at: <code>.\\wandb\\run-20240112_150430-w964ddte\\logs</code>"
      ],
      "text/plain": [
       "<IPython.core.display.HTML object>"
      ]
     },
     "metadata": {},
     "output_type": "display_data"
    },
    {
     "data": {
      "application/vnd.jupyter.widget-view+json": {
       "model_id": "d8d220c920e54df1be9ec61d08fd695a",
       "version_major": 2,
       "version_minor": 0
      },
      "text/plain": [
       "VBox(children=(Label(value='Waiting for wandb.init()...\\r'), FloatProgress(value=0.016666666666666666, max=1.0…"
      ]
     },
     "metadata": {},
     "output_type": "display_data"
    },
    {
     "data": {
      "text/html": [
       "wandb version 0.16.2 is available!  To upgrade, please run:\n",
       " $ pip install wandb --upgrade"
      ],
      "text/plain": [
       "<IPython.core.display.HTML object>"
      ]
     },
     "metadata": {},
     "output_type": "display_data"
    },
    {
     "data": {
      "text/html": [
       "Tracking run with wandb version 0.14.0"
      ],
      "text/plain": [
       "<IPython.core.display.HTML object>"
      ]
     },
     "metadata": {},
     "output_type": "display_data"
    },
    {
     "data": {
      "text/html": [
       "Run data is saved locally in <code>y:\\coskun-lab\\Thomas\\23_PLA_revision\\notebooks\\wandb\\run-20240112_152442-6zdvrm3y</code>"
      ],
      "text/plain": [
       "<IPython.core.display.HTML object>"
      ]
     },
     "metadata": {},
     "output_type": "display_data"
    },
    {
     "data": {
      "text/html": [
       "Syncing run <strong><a href='https://wandb.ai/thoomas/PLA_01102024_5PPI_Kfold/runs/6zdvrm3y' target=\"_blank\">GAT_4_16_onehot_3</a></strong> to <a href='https://wandb.ai/thoomas/PLA_01102024_5PPI_Kfold' target=\"_blank\">Weights & Biases</a> (<a href='https://wandb.me/run' target=\"_blank\">docs</a>)<br/>"
      ],
      "text/plain": [
       "<IPython.core.display.HTML object>"
      ]
     },
     "metadata": {},
     "output_type": "display_data"
    },
    {
     "data": {
      "text/html": [
       " View project at <a href='https://wandb.ai/thoomas/PLA_01102024_5PPI_Kfold' target=\"_blank\">https://wandb.ai/thoomas/PLA_01102024_5PPI_Kfold</a>"
      ],
      "text/plain": [
       "<IPython.core.display.HTML object>"
      ]
     },
     "metadata": {},
     "output_type": "display_data"
    },
    {
     "data": {
      "text/html": [
       " View run at <a href='https://wandb.ai/thoomas/PLA_01102024_5PPI_Kfold/runs/6zdvrm3y' target=\"_blank\">https://wandb.ai/thoomas/PLA_01102024_5PPI_Kfold/runs/6zdvrm3y</a>"
      ],
      "text/plain": [
       "<IPython.core.display.HTML object>"
      ]
     },
     "metadata": {},
     "output_type": "display_data"
    },
    {
     "name": "stderr",
     "output_type": "stream",
     "text": [
      "Global seed set to 42\n",
      "GPU available: True (cuda), used: True\n",
      "TPU available: False, using: 0 TPU cores\n",
      "IPU available: False, using: 0 IPUs\n",
      "HPU available: False, using: 0 HPUs\n",
      "Global seed set to 42\n",
      "LOCAL_RANK: 0 - CUDA_VISIBLE_DEVICES: [0,1]\n",
      "\n",
      "  | Name        | Type             | Params\n",
      "-------------------------------------------------\n",
      "0 | x_embedding | Identity         | 0     \n",
      "1 | model       | GAT              | 6.3 K \n",
      "2 | head        | Sequential       | 154   \n",
      "3 | loss_module | CrossEntropyLoss | 0     \n",
      "4 | train_acc   | BinaryAccuracy   | 0     \n",
      "5 | train_auroc | BinaryAUROC      | 0     \n",
      "6 | train_f1    | BinaryF1Score    | 0     \n",
      "7 | valid_acc   | BinaryAccuracy   | 0     \n",
      "8 | valid_auroc | BinaryAUROC      | 0     \n",
      "9 | valid_f1    | BinaryF1Score    | 0     \n",
      "-------------------------------------------------\n",
      "6.5 K     Trainable params\n",
      "0         Non-trainable params\n",
      "6.5 K     Total params\n",
      "0.026     Total estimated model params size (MB)\n"
     ]
    },
    {
     "name": "stdout",
     "output_type": "stream",
     "text": [
      "Using GAT\n"
     ]
    },
    {
     "name": "stderr",
     "output_type": "stream",
     "text": [
      "`Trainer.fit` stopped: `max_epochs=50` reached.\n"
     ]
    },
    {
     "data": {
      "text/html": [
       "Waiting for W&B process to finish... <strong style=\"color:green\">(success).</strong>"
      ],
      "text/plain": [
       "<IPython.core.display.HTML object>"
      ]
     },
     "metadata": {},
     "output_type": "display_data"
    },
    {
     "data": {
      "application/vnd.jupyter.widget-view+json": {
       "model_id": "2589b7dc4ac64cb3a7249162e18885da",
       "version_major": 2,
       "version_minor": 0
      },
      "text/plain": [
       "VBox(children=(Label(value='0.001 MB of 0.001 MB uploaded (0.000 MB deduped)\\r'), FloatProgress(value=1.0, max…"
      ]
     },
     "metadata": {},
     "output_type": "display_data"
    },
    {
     "data": {
      "text/html": [
       "<style>\n",
       "    table.wandb td:nth-child(1) { padding: 0 10px; text-align: left ; width: auto;} td:nth-child(2) {text-align: left ; width: 100%}\n",
       "    .wandb-row { display: flex; flex-direction: row; flex-wrap: wrap; justify-content: flex-start; width: 100% }\n",
       "    .wandb-col { display: flex; flex-direction: column; flex-basis: 100%; flex: 1; padding: 10px; }\n",
       "    </style>\n",
       "<div class=\"wandb-row\"><div class=\"wandb-col\"><h3>Run history:</h3><br/><table class=\"wandb\"><tr><td>epoch</td><td>▁▁▁▁▂▂▂▂▂▃▃▃▃▃▃▄▄▄▄▄▅▅▅▅▅▅▆▆▆▆▆▇▇▇▇▇▇███</td></tr><tr><td>lr-Adam</td><td>▁▁▁▁▁▁▁▁▁▁▁▁▁▁▁▁▁▁▁▁▁▁▁▁▁▁▁▁▁▁▁▁▁▁▁▁▁▁▁▁</td></tr><tr><td>train_acc</td><td>▁▄▅▄▅▆▆▆▇▇▇▇▇▇▇▇▇▇▇▇▇▇▇▇▇█▇▇▇▇▇▇▇▇██▇▇▇▇</td></tr><tr><td>train_auc</td><td>▁▂▄▃▅▆▆▆▇▇▇▇▇▇▇▇▇▇▇▇▇█▇▇▇█▇█▇████▇██████</td></tr><tr><td>train_f1</td><td>▆▃▂▁▄▅▆▇█▇▇▇███▇▇▇█▇██▇▇▇▇▇▇▇▇▇▇▇▇██▇█▇▇</td></tr><tr><td>train_loss_epoch</td><td>█▆▆▆▅▅▄▃▃▃▃▂▂▃▂▂▂▂▂▂▂▂▂▂▂▂▂▁▂▂▁▂▂▂▂▁▁▁▂▂</td></tr><tr><td>train_loss_step</td><td>▇█▅▆▆▅▅▆▅▄▄▆▅▇▅▄▃▄▂▁▅▃▁▅▅</td></tr><tr><td>trainer/global_step</td><td>▁▁▁▁▂▁▂▁▂▂▃▃▃▃▄▄▂▄▂▄▂▅▃▅▃▆▆▆▃▃▇▇▇▃▇▄█▄█▄</td></tr><tr><td>val_acc</td><td>▆▆▆▆▅▂▂▁▄▆▇▇▆▆▇██▇██▇▇▇███████▇▇██▇▆▇▇█▇</td></tr><tr><td>val_auc</td><td>▁▁▆▇▇▇██████████████████████████████████</td></tr><tr><td>val_f1</td><td>▁▁▁▁▇▇▇▇▇███████████████████████████████</td></tr><tr><td>val_loss_epoch</td><td>▇▆▆▇▇███▆▄▄▃▅▆▄▃▃▂▂▄▃▃▂▁▃▁▁▃▃▂▂▃▂▁▃▂▃▅▂▃</td></tr><tr><td>val_loss_step</td><td>▇▆▅▇▇▇█▆▆▄▄▃▅▇▅▂▂▁▁▃▂▄▂▂▁▂▂▂▄▂▄▃▃▁▅▃▄▆▃▃</td></tr></table><br/></div><div class=\"wandb-col\"><h3>Run summary:</h3><br/><table class=\"wandb\"><tr><td>epoch</td><td>49</td></tr><tr><td>lr-Adam</td><td>0.005</td></tr><tr><td>train_acc</td><td>0.6913</td></tr><tr><td>train_auc</td><td>0.7548</td></tr><tr><td>train_f1</td><td>0.52525</td></tr><tr><td>train_loss_epoch</td><td>0.57353</td></tr><tr><td>train_loss_step</td><td>0.59961</td></tr><tr><td>trainer/global_step</td><td>249</td></tr><tr><td>val_acc</td><td>0.70066</td></tr><tr><td>val_auc</td><td>0.81495</td></tr><tr><td>val_f1</td><td>0.66909</td></tr><tr><td>val_loss_epoch</td><td>0.56929</td></tr><tr><td>val_loss_step</td><td>0.56672</td></tr></table><br/></div></div>"
      ],
      "text/plain": [
       "<IPython.core.display.HTML object>"
      ]
     },
     "metadata": {},
     "output_type": "display_data"
    },
    {
     "data": {
      "text/html": [
       " View run <strong style=\"color:#cdcd00\">GAT_4_16_onehot_3</strong> at: <a href='https://wandb.ai/thoomas/PLA_01102024_5PPI_Kfold/runs/6zdvrm3y' target=\"_blank\">https://wandb.ai/thoomas/PLA_01102024_5PPI_Kfold/runs/6zdvrm3y</a><br/>Synced 6 W&B file(s), 0 media file(s), 0 artifact file(s) and 0 other file(s)"
      ],
      "text/plain": [
       "<IPython.core.display.HTML object>"
      ]
     },
     "metadata": {},
     "output_type": "display_data"
    },
    {
     "data": {
      "text/html": [
       "Find logs at: <code>.\\wandb\\run-20240112_152442-6zdvrm3y\\logs</code>"
      ],
      "text/plain": [
       "<IPython.core.display.HTML object>"
      ]
     },
     "metadata": {},
     "output_type": "display_data"
    },
    {
     "data": {
      "application/vnd.jupyter.widget-view+json": {
       "model_id": "69163d530d7f4ac6b88b54df4903937d",
       "version_major": 2,
       "version_minor": 0
      },
      "text/plain": [
       "VBox(children=(Label(value='Waiting for wandb.init()...\\r'), FloatProgress(value=0.01691666666495924, max=1.0)…"
      ]
     },
     "metadata": {},
     "output_type": "display_data"
    },
    {
     "data": {
      "text/html": [
       "wandb version 0.16.2 is available!  To upgrade, please run:\n",
       " $ pip install wandb --upgrade"
      ],
      "text/plain": [
       "<IPython.core.display.HTML object>"
      ]
     },
     "metadata": {},
     "output_type": "display_data"
    },
    {
     "data": {
      "text/html": [
       "Tracking run with wandb version 0.14.0"
      ],
      "text/plain": [
       "<IPython.core.display.HTML object>"
      ]
     },
     "metadata": {},
     "output_type": "display_data"
    },
    {
     "data": {
      "text/html": [
       "Run data is saved locally in <code>y:\\coskun-lab\\Thomas\\23_PLA_revision\\notebooks\\wandb\\run-20240112_154556-vusl8lmn</code>"
      ],
      "text/plain": [
       "<IPython.core.display.HTML object>"
      ]
     },
     "metadata": {},
     "output_type": "display_data"
    },
    {
     "data": {
      "text/html": [
       "Syncing run <strong><a href='https://wandb.ai/thoomas/PLA_01102024_5PPI_Kfold/runs/vusl8lmn' target=\"_blank\">GAT_4_16_onehot_3</a></strong> to <a href='https://wandb.ai/thoomas/PLA_01102024_5PPI_Kfold' target=\"_blank\">Weights & Biases</a> (<a href='https://wandb.me/run' target=\"_blank\">docs</a>)<br/>"
      ],
      "text/plain": [
       "<IPython.core.display.HTML object>"
      ]
     },
     "metadata": {},
     "output_type": "display_data"
    },
    {
     "data": {
      "text/html": [
       " View project at <a href='https://wandb.ai/thoomas/PLA_01102024_5PPI_Kfold' target=\"_blank\">https://wandb.ai/thoomas/PLA_01102024_5PPI_Kfold</a>"
      ],
      "text/plain": [
       "<IPython.core.display.HTML object>"
      ]
     },
     "metadata": {},
     "output_type": "display_data"
    },
    {
     "data": {
      "text/html": [
       " View run at <a href='https://wandb.ai/thoomas/PLA_01102024_5PPI_Kfold/runs/vusl8lmn' target=\"_blank\">https://wandb.ai/thoomas/PLA_01102024_5PPI_Kfold/runs/vusl8lmn</a>"
      ],
      "text/plain": [
       "<IPython.core.display.HTML object>"
      ]
     },
     "metadata": {},
     "output_type": "display_data"
    },
    {
     "name": "stderr",
     "output_type": "stream",
     "text": [
      "Global seed set to 42\n",
      "GPU available: True (cuda), used: True\n",
      "TPU available: False, using: 0 TPU cores\n",
      "IPU available: False, using: 0 IPUs\n",
      "HPU available: False, using: 0 HPUs\n",
      "Global seed set to 42\n",
      "LOCAL_RANK: 0 - CUDA_VISIBLE_DEVICES: [0,1]\n",
      "\n",
      "  | Name        | Type             | Params\n",
      "-------------------------------------------------\n",
      "0 | x_embedding | Identity         | 0     \n",
      "1 | model       | GAT              | 6.3 K \n",
      "2 | head        | Sequential       | 154   \n",
      "3 | loss_module | CrossEntropyLoss | 0     \n",
      "4 | train_acc   | BinaryAccuracy   | 0     \n",
      "5 | train_auroc | BinaryAUROC      | 0     \n",
      "6 | train_f1    | BinaryF1Score    | 0     \n",
      "7 | valid_acc   | BinaryAccuracy   | 0     \n",
      "8 | valid_auroc | BinaryAUROC      | 0     \n",
      "9 | valid_f1    | BinaryF1Score    | 0     \n",
      "-------------------------------------------------\n",
      "6.5 K     Trainable params\n",
      "0         Non-trainable params\n",
      "6.5 K     Total params\n",
      "0.026     Total estimated model params size (MB)\n"
     ]
    },
    {
     "name": "stdout",
     "output_type": "stream",
     "text": [
      "Using GAT\n"
     ]
    },
    {
     "name": "stderr",
     "output_type": "stream",
     "text": [
      "`Trainer.fit` stopped: `max_epochs=50` reached.\n"
     ]
    },
    {
     "data": {
      "text/html": [
       "Waiting for W&B process to finish... <strong style=\"color:green\">(success).</strong>"
      ],
      "text/plain": [
       "<IPython.core.display.HTML object>"
      ]
     },
     "metadata": {},
     "output_type": "display_data"
    },
    {
     "data": {
      "application/vnd.jupyter.widget-view+json": {
       "model_id": "e706c9ad525340ed97a2a4513999cdbb",
       "version_major": 2,
       "version_minor": 0
      },
      "text/plain": [
       "VBox(children=(Label(value='0.001 MB of 0.001 MB uploaded (0.000 MB deduped)\\r'), FloatProgress(value=1.0, max…"
      ]
     },
     "metadata": {},
     "output_type": "display_data"
    },
    {
     "data": {
      "text/html": [
       "<style>\n",
       "    table.wandb td:nth-child(1) { padding: 0 10px; text-align: left ; width: auto;} td:nth-child(2) {text-align: left ; width: 100%}\n",
       "    .wandb-row { display: flex; flex-direction: row; flex-wrap: wrap; justify-content: flex-start; width: 100% }\n",
       "    .wandb-col { display: flex; flex-direction: column; flex-basis: 100%; flex: 1; padding: 10px; }\n",
       "    </style>\n",
       "<div class=\"wandb-row\"><div class=\"wandb-col\"><h3>Run history:</h3><br/><table class=\"wandb\"><tr><td>epoch</td><td>▁▁▁▁▂▂▂▂▂▃▃▃▃▃▃▄▄▄▄▄▅▅▅▅▅▅▆▆▆▆▆▇▇▇▇▇▇███</td></tr><tr><td>lr-Adam</td><td>▁▁▁▁▁▁▁▁▁▁▁▁▁▁▁▁▁▁▁▁▁▁▁▁▁▁▁▁▁▁▁▁▁▁▁▁▁▁▁▁</td></tr><tr><td>train_acc</td><td>▁▅▅▄▅▅▅▅▅▅▅▅▅▅▆▆▅▇▆▇▇▇▇▆▆▇▇▇▇▇███▇██████</td></tr><tr><td>train_auc</td><td>▁▃▃▁▂▃▃▂▄▄▄▃▅▃▅▅▇▆▆▅▆▆▇▆▆▇▇▇▇█▇▇▇▇██████</td></tr><tr><td>train_f1</td><td>▇▅▃▂▂▂▁▁▁▁▁▁▁▂▂▂▂▅▆▆▆▆▆▇▆▆▅▆█▇▇▇▇▆██▇▇▇▇</td></tr><tr><td>train_loss_epoch</td><td>█▆▅▆▅▅▅▅▅▅▄▄▄▅▄▄▃▄▃▄▃▃▂▄▃▂▂▂▃▂▁▂▂▂▂▁▁▁▁▂</td></tr><tr><td>train_loss_step</td><td>▅▇▅█▇▆▆▆▅▄▄█▅▅▅▄▃▄▃▂▄▃▁▅▅</td></tr><tr><td>trainer/global_step</td><td>▁▁▁▁▂▁▂▁▂▂▃▃▃▃▄▄▂▄▂▄▂▅▃▅▃▆▆▆▃▃▇▇▇▃▇▄█▄█▄</td></tr><tr><td>val_acc</td><td>▃▃▃▃▃▃▃▃▃▁▂▂▅▅▄▃▅▄▄▄▅▅▅▅▆▅▅▆▅▄▅▇▅▆██▆█▇▆</td></tr><tr><td>val_auc</td><td>▂▁▅▆▇▇▇▇▇▇▇▇▇▇▇▇▇▇▇▇▇▇▇▇████████████████</td></tr><tr><td>val_f1</td><td>▁▁▁▁▁▁▁▁▁▁▂▂▇▇▆▅▇██▇▇▇▇█▇▇▆▇▇▆▆▇▆▇██▇█▇▇</td></tr><tr><td>val_loss_epoch</td><td>█▇▇█▇▇▆▇▇▇▇▆▆▇▆▆▆▆▆▆▅▅▅▄▄▄▃▄▂▁▂▃▂▂▄▃▄▄▃▂</td></tr><tr><td>val_loss_step</td><td>█▇▇█▇▇▇▇▇▇█▆▇▇▇▆▆▆▅▅▅▇▆▅▄▄▄▄▄▁▄▄▄▃▄▃▆▆▄▂</td></tr></table><br/></div><div class=\"wandb-col\"><h3>Run summary:</h3><br/><table class=\"wandb\"><tr><td>epoch</td><td>49</td></tr><tr><td>lr-Adam</td><td>0.005</td></tr><tr><td>train_acc</td><td>0.66585</td></tr><tr><td>train_auc</td><td>0.70678</td></tr><tr><td>train_f1</td><td>0.42917</td></tr><tr><td>train_loss_epoch</td><td>0.61164</td></tr><tr><td>train_loss_step</td><td>0.63312</td></tr><tr><td>trainer/global_step</td><td>249</td></tr><tr><td>val_acc</td><td>0.71382</td></tr><tr><td>val_auc</td><td>0.76689</td></tr><tr><td>val_f1</td><td>0.52973</td></tr><tr><td>val_loss_epoch</td><td>0.57197</td></tr><tr><td>val_loss_step</td><td>0.55503</td></tr></table><br/></div></div>"
      ],
      "text/plain": [
       "<IPython.core.display.HTML object>"
      ]
     },
     "metadata": {},
     "output_type": "display_data"
    },
    {
     "data": {
      "text/html": [
       " View run <strong style=\"color:#cdcd00\">GAT_4_16_onehot_3</strong> at: <a href='https://wandb.ai/thoomas/PLA_01102024_5PPI_Kfold/runs/vusl8lmn' target=\"_blank\">https://wandb.ai/thoomas/PLA_01102024_5PPI_Kfold/runs/vusl8lmn</a><br/>Synced 6 W&B file(s), 0 media file(s), 0 artifact file(s) and 0 other file(s)"
      ],
      "text/plain": [
       "<IPython.core.display.HTML object>"
      ]
     },
     "metadata": {},
     "output_type": "display_data"
    },
    {
     "data": {
      "text/html": [
       "Find logs at: <code>.\\wandb\\run-20240112_154556-vusl8lmn\\logs</code>"
      ],
      "text/plain": [
       "<IPython.core.display.HTML object>"
      ]
     },
     "metadata": {},
     "output_type": "display_data"
    },
    {
     "data": {
      "application/vnd.jupyter.widget-view+json": {
       "model_id": "b120a09496b449ae8096977e4b14bda7",
       "version_major": 2,
       "version_minor": 0
      },
      "text/plain": [
       "VBox(children=(Label(value='Waiting for wandb.init()...\\r'), FloatProgress(value=0.01693333333435779, max=1.0)…"
      ]
     },
     "metadata": {},
     "output_type": "display_data"
    },
    {
     "data": {
      "text/html": [
       "wandb version 0.16.2 is available!  To upgrade, please run:\n",
       " $ pip install wandb --upgrade"
      ],
      "text/plain": [
       "<IPython.core.display.HTML object>"
      ]
     },
     "metadata": {},
     "output_type": "display_data"
    },
    {
     "data": {
      "text/html": [
       "Tracking run with wandb version 0.14.0"
      ],
      "text/plain": [
       "<IPython.core.display.HTML object>"
      ]
     },
     "metadata": {},
     "output_type": "display_data"
    },
    {
     "data": {
      "text/html": [
       "Run data is saved locally in <code>y:\\coskun-lab\\Thomas\\23_PLA_revision\\notebooks\\wandb\\run-20240112_160229-hyien4ft</code>"
      ],
      "text/plain": [
       "<IPython.core.display.HTML object>"
      ]
     },
     "metadata": {},
     "output_type": "display_data"
    },
    {
     "data": {
      "text/html": [
       "Syncing run <strong><a href='https://wandb.ai/thoomas/PLA_01102024_5PPI_Kfold/runs/hyien4ft' target=\"_blank\">GAT_4_16_onehot_3</a></strong> to <a href='https://wandb.ai/thoomas/PLA_01102024_5PPI_Kfold' target=\"_blank\">Weights & Biases</a> (<a href='https://wandb.me/run' target=\"_blank\">docs</a>)<br/>"
      ],
      "text/plain": [
       "<IPython.core.display.HTML object>"
      ]
     },
     "metadata": {},
     "output_type": "display_data"
    },
    {
     "data": {
      "text/html": [
       " View project at <a href='https://wandb.ai/thoomas/PLA_01102024_5PPI_Kfold' target=\"_blank\">https://wandb.ai/thoomas/PLA_01102024_5PPI_Kfold</a>"
      ],
      "text/plain": [
       "<IPython.core.display.HTML object>"
      ]
     },
     "metadata": {},
     "output_type": "display_data"
    },
    {
     "data": {
      "text/html": [
       " View run at <a href='https://wandb.ai/thoomas/PLA_01102024_5PPI_Kfold/runs/hyien4ft' target=\"_blank\">https://wandb.ai/thoomas/PLA_01102024_5PPI_Kfold/runs/hyien4ft</a>"
      ],
      "text/plain": [
       "<IPython.core.display.HTML object>"
      ]
     },
     "metadata": {},
     "output_type": "display_data"
    },
    {
     "name": "stderr",
     "output_type": "stream",
     "text": [
      "Global seed set to 42\n",
      "GPU available: True (cuda), used: True\n",
      "TPU available: False, using: 0 TPU cores\n",
      "IPU available: False, using: 0 IPUs\n",
      "HPU available: False, using: 0 HPUs\n",
      "Global seed set to 42\n",
      "LOCAL_RANK: 0 - CUDA_VISIBLE_DEVICES: [0,1]\n",
      "\n",
      "  | Name        | Type             | Params\n",
      "-------------------------------------------------\n",
      "0 | x_embedding | Identity         | 0     \n",
      "1 | model       | GAT              | 6.3 K \n",
      "2 | head        | Sequential       | 154   \n",
      "3 | loss_module | CrossEntropyLoss | 0     \n",
      "4 | train_acc   | BinaryAccuracy   | 0     \n",
      "5 | train_auroc | BinaryAUROC      | 0     \n",
      "6 | train_f1    | BinaryF1Score    | 0     \n",
      "7 | valid_acc   | BinaryAccuracy   | 0     \n",
      "8 | valid_auroc | BinaryAUROC      | 0     \n",
      "9 | valid_f1    | BinaryF1Score    | 0     \n",
      "-------------------------------------------------\n",
      "6.5 K     Trainable params\n",
      "0         Non-trainable params\n",
      "6.5 K     Total params\n",
      "0.026     Total estimated model params size (MB)\n"
     ]
    },
    {
     "name": "stdout",
     "output_type": "stream",
     "text": [
      "Using GAT\n"
     ]
    },
    {
     "name": "stderr",
     "output_type": "stream",
     "text": [
      "`Trainer.fit` stopped: `max_epochs=50` reached.\n"
     ]
    },
    {
     "data": {
      "text/html": [
       "Waiting for W&B process to finish... <strong style=\"color:green\">(success).</strong>"
      ],
      "text/plain": [
       "<IPython.core.display.HTML object>"
      ]
     },
     "metadata": {},
     "output_type": "display_data"
    },
    {
     "data": {
      "application/vnd.jupyter.widget-view+json": {
       "model_id": "d42a47fc74274d8bb00ced778ef9100a",
       "version_major": 2,
       "version_minor": 0
      },
      "text/plain": [
       "VBox(children=(Label(value='0.001 MB of 0.001 MB uploaded (0.000 MB deduped)\\r'), FloatProgress(value=1.0, max…"
      ]
     },
     "metadata": {},
     "output_type": "display_data"
    },
    {
     "data": {
      "text/html": [
       "<style>\n",
       "    table.wandb td:nth-child(1) { padding: 0 10px; text-align: left ; width: auto;} td:nth-child(2) {text-align: left ; width: 100%}\n",
       "    .wandb-row { display: flex; flex-direction: row; flex-wrap: wrap; justify-content: flex-start; width: 100% }\n",
       "    .wandb-col { display: flex; flex-direction: column; flex-basis: 100%; flex: 1; padding: 10px; }\n",
       "    </style>\n",
       "<div class=\"wandb-row\"><div class=\"wandb-col\"><h3>Run history:</h3><br/><table class=\"wandb\"><tr><td>epoch</td><td>▁▁▁▁▂▂▂▂▂▃▃▃▃▃▃▄▄▄▄▄▅▅▅▅▅▅▆▆▆▆▆▇▇▇▇▇▇███</td></tr><tr><td>lr-Adam</td><td>▁▁▁▁▁▁▁▁▁▁▁▁▁▁▁▁▁▁▁▁▁▁▁▁▁▁▁▁▁▁▁▁▁▁▁▁▁▁▁▁</td></tr><tr><td>train_acc</td><td>▁▂▂▃▄▅▅▆▇▆▇▇▇▇█▇█▇▇▇███▇▇▇▇█▇▇▇▇▇█████▇▇</td></tr><tr><td>train_auc</td><td>▁▃▃▄▅▇▇████▇▇▆▇▆▆▅▅▄▆▅▅▅▅▅▅▆▅▄▅▄▅▆▇▆▇█▇▇</td></tr><tr><td>train_f1</td><td>▁▂▃▂▄▃▄▅▆▅▆▇▇▅▆▆▇▆▆▆█▇▇▆▆▅▆▇▇▄▅▇▅▇█▇█▇▅▆</td></tr><tr><td>train_loss_epoch</td><td>█▄▃▃▂▂▂▂▂▂▁▁▁▂▁▁▁▁▁▁▁▁▁▁▁▁▁▁▁▁▁▁▁▁▁▁▁▁▁▁</td></tr><tr><td>train_loss_step</td><td>██▆▅▅▄▅▄▄▃▄▄▃▅▄▃▂▃▂▁▄▂▂▄▄</td></tr><tr><td>trainer/global_step</td><td>▁▁▁▁▂▁▂▁▂▂▃▃▃▃▄▄▂▄▂▄▂▅▃▅▃▆▆▆▃▃▇▇▇▃▇▄█▄█▄</td></tr><tr><td>val_acc</td><td>▆▁▁▁▃▃▃▄▆▆▆▆▆▆▆▆▆▆▇▇▇▇▇██▇▇▇███▇████████</td></tr><tr><td>val_auc</td><td>▁▄▄▄▅▅▆▇▇▇▇██▇▇▇██▆▇████████████████████</td></tr><tr><td>val_f1</td><td>▁▆▆▆▆▆▆▇▇▇▇▇▇▇▇▇▇███████████████████████</td></tr><tr><td>val_loss_epoch</td><td>▅███▆▇▆▅▅▄▄▄▅▅▄▄▃▃▂▅▂▃▂▁▃▂▂▂▃▁▃▃▂▁▂▁▂▂▁▃</td></tr><tr><td>val_loss_step</td><td>▆██▇▆▇▇▄▅▄▄▅▅▇▅▄▄▃▂▄▃▃▁▃▂▃▃▃▅▂▃▃▂▁▂▂▃▃▃▄</td></tr></table><br/></div><div class=\"wandb-col\"><h3>Run summary:</h3><br/><table class=\"wandb\"><tr><td>epoch</td><td>49</td></tr><tr><td>lr-Adam</td><td>0.005</td></tr><tr><td>train_acc</td><td>0.7069</td></tr><tr><td>train_auc</td><td>0.6253</td></tr><tr><td>train_f1</td><td>0.52964</td></tr><tr><td>train_loss_epoch</td><td>0.56081</td></tr><tr><td>train_loss_step</td><td>0.58577</td></tr><tr><td>trainer/global_step</td><td>249</td></tr><tr><td>val_acc</td><td>0.74671</td></tr><tr><td>val_auc</td><td>0.84669</td></tr><tr><td>val_f1</td><td>0.68571</td></tr><tr><td>val_loss_epoch</td><td>0.56347</td></tr><tr><td>val_loss_step</td><td>0.60916</td></tr></table><br/></div></div>"
      ],
      "text/plain": [
       "<IPython.core.display.HTML object>"
      ]
     },
     "metadata": {},
     "output_type": "display_data"
    },
    {
     "data": {
      "text/html": [
       " View run <strong style=\"color:#cdcd00\">GAT_4_16_onehot_3</strong> at: <a href='https://wandb.ai/thoomas/PLA_01102024_5PPI_Kfold/runs/hyien4ft' target=\"_blank\">https://wandb.ai/thoomas/PLA_01102024_5PPI_Kfold/runs/hyien4ft</a><br/>Synced 6 W&B file(s), 0 media file(s), 0 artifact file(s) and 0 other file(s)"
      ],
      "text/plain": [
       "<IPython.core.display.HTML object>"
      ]
     },
     "metadata": {},
     "output_type": "display_data"
    },
    {
     "data": {
      "text/html": [
       "Find logs at: <code>.\\wandb\\run-20240112_160229-hyien4ft\\logs</code>"
      ],
      "text/plain": [
       "<IPython.core.display.HTML object>"
      ]
     },
     "metadata": {},
     "output_type": "display_data"
    },
    {
     "data": {
      "application/vnd.jupyter.widget-view+json": {
       "model_id": "e64bbde6717e4295a560b5f76e826802",
       "version_major": 2,
       "version_minor": 0
      },
      "text/plain": [
       "VBox(children=(Label(value='Waiting for wandb.init()...\\r'), FloatProgress(value=0.016666666666666666, max=1.0…"
      ]
     },
     "metadata": {},
     "output_type": "display_data"
    },
    {
     "data": {
      "text/html": [
       "wandb version 0.16.2 is available!  To upgrade, please run:\n",
       " $ pip install wandb --upgrade"
      ],
      "text/plain": [
       "<IPython.core.display.HTML object>"
      ]
     },
     "metadata": {},
     "output_type": "display_data"
    },
    {
     "data": {
      "text/html": [
       "Tracking run with wandb version 0.14.0"
      ],
      "text/plain": [
       "<IPython.core.display.HTML object>"
      ]
     },
     "metadata": {},
     "output_type": "display_data"
    },
    {
     "data": {
      "text/html": [
       "Run data is saved locally in <code>y:\\coskun-lab\\Thomas\\23_PLA_revision\\notebooks\\wandb\\run-20240112_161843-f9iwhc73</code>"
      ],
      "text/plain": [
       "<IPython.core.display.HTML object>"
      ]
     },
     "metadata": {},
     "output_type": "display_data"
    },
    {
     "data": {
      "text/html": [
       "Syncing run <strong><a href='https://wandb.ai/thoomas/PLA_01102024_5PPI_Kfold/runs/f9iwhc73' target=\"_blank\">GAT_4_16_onehot_3</a></strong> to <a href='https://wandb.ai/thoomas/PLA_01102024_5PPI_Kfold' target=\"_blank\">Weights & Biases</a> (<a href='https://wandb.me/run' target=\"_blank\">docs</a>)<br/>"
      ],
      "text/plain": [
       "<IPython.core.display.HTML object>"
      ]
     },
     "metadata": {},
     "output_type": "display_data"
    },
    {
     "data": {
      "text/html": [
       " View project at <a href='https://wandb.ai/thoomas/PLA_01102024_5PPI_Kfold' target=\"_blank\">https://wandb.ai/thoomas/PLA_01102024_5PPI_Kfold</a>"
      ],
      "text/plain": [
       "<IPython.core.display.HTML object>"
      ]
     },
     "metadata": {},
     "output_type": "display_data"
    },
    {
     "data": {
      "text/html": [
       " View run at <a href='https://wandb.ai/thoomas/PLA_01102024_5PPI_Kfold/runs/f9iwhc73' target=\"_blank\">https://wandb.ai/thoomas/PLA_01102024_5PPI_Kfold/runs/f9iwhc73</a>"
      ],
      "text/plain": [
       "<IPython.core.display.HTML object>"
      ]
     },
     "metadata": {},
     "output_type": "display_data"
    },
    {
     "name": "stderr",
     "output_type": "stream",
     "text": [
      "Global seed set to 42\n",
      "GPU available: True (cuda), used: True\n",
      "TPU available: False, using: 0 TPU cores\n",
      "IPU available: False, using: 0 IPUs\n",
      "HPU available: False, using: 0 HPUs\n",
      "Global seed set to 42\n",
      "LOCAL_RANK: 0 - CUDA_VISIBLE_DEVICES: [0,1]\n",
      "\n",
      "   | Name        | Type             | Params\n",
      "--------------------------------------------------\n",
      "0  | x_embedding | Identity         | 0     \n",
      "1  | model       | GAT              | 6.3 K \n",
      "2  | head        | Sequential       | 154   \n",
      "3  | loss_module | CrossEntropyLoss | 0     \n",
      "4  | train_acc   | BinaryAccuracy   | 0     \n",
      "5  | train_auroc | BinaryAUROC      | 0     \n",
      "6  | train_f1    | BinaryF1Score    | 0     \n",
      "7  | valid_acc   | BinaryAccuracy   | 0     \n",
      "8  | valid_auroc | BinaryAUROC      | 0     \n",
      "9  | valid_f1    | BinaryF1Score    | 0     \n",
      "10 | pool        | GlobalAttention  | 17    \n",
      "--------------------------------------------------\n",
      "6.5 K     Trainable params\n",
      "0         Non-trainable params\n",
      "6.5 K     Total params\n",
      "0.026     Total estimated model params size (MB)\n"
     ]
    },
    {
     "name": "stdout",
     "output_type": "stream",
     "text": [
      "Using GAT\n"
     ]
    },
    {
     "name": "stderr",
     "output_type": "stream",
     "text": [
      "`Trainer.fit` stopped: `max_epochs=50` reached.\n"
     ]
    },
    {
     "data": {
      "text/html": [
       "Waiting for W&B process to finish... <strong style=\"color:green\">(success).</strong>"
      ],
      "text/plain": [
       "<IPython.core.display.HTML object>"
      ]
     },
     "metadata": {},
     "output_type": "display_data"
    },
    {
     "data": {
      "application/vnd.jupyter.widget-view+json": {
       "model_id": "2f607564cdd942af9d6ba1bf0858ceb9",
       "version_major": 2,
       "version_minor": 0
      },
      "text/plain": [
       "VBox(children=(Label(value='0.001 MB of 0.001 MB uploaded (0.000 MB deduped)\\r'), FloatProgress(value=1.0, max…"
      ]
     },
     "metadata": {},
     "output_type": "display_data"
    },
    {
     "data": {
      "text/html": [
       "<style>\n",
       "    table.wandb td:nth-child(1) { padding: 0 10px; text-align: left ; width: auto;} td:nth-child(2) {text-align: left ; width: 100%}\n",
       "    .wandb-row { display: flex; flex-direction: row; flex-wrap: wrap; justify-content: flex-start; width: 100% }\n",
       "    .wandb-col { display: flex; flex-direction: column; flex-basis: 100%; flex: 1; padding: 10px; }\n",
       "    </style>\n",
       "<div class=\"wandb-row\"><div class=\"wandb-col\"><h3>Run history:</h3><br/><table class=\"wandb\"><tr><td>epoch</td><td>▁▁▁▁▂▂▂▂▂▃▃▃▃▃▃▄▄▄▄▄▅▅▅▅▅▅▆▆▆▆▆▇▇▇▇▇▇███</td></tr><tr><td>lr-Adam</td><td>▁▁▁▁▁▁▁▁▁▁▁▁▁▁▁▁▁▁▁▁▁▁▁▁▁▁▁▁▁▁▁▁▁▁▁▁▁▁▁▁</td></tr><tr><td>train_acc</td><td>▁▃▄▄▅▄▆▆█▇▇▇▇▇██▇██▇██▇█▇▇██████████▇██▇</td></tr><tr><td>train_auc</td><td>▂▁▂▂▄▅▆▆▇▇▇▇▇▇▇▇▇▇█▇▇▇▇▇█▇▇█████████████</td></tr><tr><td>train_f1</td><td>▆▃▁▂▂▂▅▆▇▇█▇▇▇██▇█▇▇▇▇▇▇▇▇█▇▇▇▇▇▇▇▇▇▇█▇▇</td></tr><tr><td>train_loss_epoch</td><td>█▇▇▆▅▅▄▄▂▂▂▂▂▂▂▂▂▂▂▁▂▂▂▂▁▂▂▁▁▁▁▂▁▁▁▁▁▁▂▂</td></tr><tr><td>train_loss_step</td><td>█▆▆▅▅▂▄▄▅▆▄▄▅▄▃▅▃▂▃▃▄▂▃▁▄</td></tr><tr><td>trainer/global_step</td><td>▁▁▁▁▂▁▂▁▂▂▃▃▃▃▄▄▂▄▂▄▂▅▃▅▃▆▆▆▃▃▇▇▇▃▇▄█▄█▄</td></tr><tr><td>val_acc</td><td>▄▄▄▄▄▇▆▂▂▁▁▃▇▇▆▇▆▅███▇▇▇██▇█▆▆▆▇▇▇███▆▇▇</td></tr><tr><td>val_auc</td><td>▂▁▅▇▇▇▇█████████████████████████████████</td></tr><tr><td>val_f1</td><td>▁▁▁▁▁▇█▇▇▇▇█████████████████████████████</td></tr><tr><td>val_loss_epoch</td><td>██▇█▆▆▆▇█▇█▇▃▃▄▄▄▅▂▄▁▁▃▃▂▄▃▂▄▅▃▂▃▂▁▃▂▄▃▄</td></tr><tr><td>val_loss_step</td><td>▇▆▇▇▇▆▆▆▇▇█▇▅▃▅▃▅▆▃▄▃▁▃▃▃▅▃▄▃▇▄▃▃▃▃▃▁▄▄▄</td></tr></table><br/></div><div class=\"wandb-col\"><h3>Run summary:</h3><br/><table class=\"wandb\"><tr><td>epoch</td><td>49</td></tr><tr><td>lr-Adam</td><td>0.005</td></tr><tr><td>train_acc</td><td>0.69787</td></tr><tr><td>train_auc</td><td>0.75925</td></tr><tr><td>train_f1</td><td>0.53418</td></tr><tr><td>train_loss_epoch</td><td>0.56566</td></tr><tr><td>train_loss_step</td><td>0.58499</td></tr><tr><td>trainer/global_step</td><td>249</td></tr><tr><td>val_acc</td><td>0.71382</td></tr><tr><td>val_auc</td><td>0.81727</td></tr><tr><td>val_f1</td><td>0.67897</td></tr><tr><td>val_loss_epoch</td><td>0.56722</td></tr><tr><td>val_loss_step</td><td>0.57385</td></tr></table><br/></div></div>"
      ],
      "text/plain": [
       "<IPython.core.display.HTML object>"
      ]
     },
     "metadata": {},
     "output_type": "display_data"
    },
    {
     "data": {
      "text/html": [
       " View run <strong style=\"color:#cdcd00\">GAT_4_16_onehot_3</strong> at: <a href='https://wandb.ai/thoomas/PLA_01102024_5PPI_Kfold/runs/f9iwhc73' target=\"_blank\">https://wandb.ai/thoomas/PLA_01102024_5PPI_Kfold/runs/f9iwhc73</a><br/>Synced 6 W&B file(s), 0 media file(s), 0 artifact file(s) and 0 other file(s)"
      ],
      "text/plain": [
       "<IPython.core.display.HTML object>"
      ]
     },
     "metadata": {},
     "output_type": "display_data"
    },
    {
     "data": {
      "text/html": [
       "Find logs at: <code>.\\wandb\\run-20240112_161843-f9iwhc73\\logs</code>"
      ],
      "text/plain": [
       "<IPython.core.display.HTML object>"
      ]
     },
     "metadata": {},
     "output_type": "display_data"
    },
    {
     "data": {
      "application/vnd.jupyter.widget-view+json": {
       "model_id": "68dbe5c9769c44dfbfaa0e45f8cf87f0",
       "version_major": 2,
       "version_minor": 0
      },
      "text/plain": [
       "VBox(children=(Label(value='Waiting for wandb.init()...\\r'), FloatProgress(value=0.016933333330477276, max=1.0…"
      ]
     },
     "metadata": {},
     "output_type": "display_data"
    },
    {
     "data": {
      "text/html": [
       "wandb version 0.16.2 is available!  To upgrade, please run:\n",
       " $ pip install wandb --upgrade"
      ],
      "text/plain": [
       "<IPython.core.display.HTML object>"
      ]
     },
     "metadata": {},
     "output_type": "display_data"
    },
    {
     "data": {
      "text/html": [
       "Tracking run with wandb version 0.14.0"
      ],
      "text/plain": [
       "<IPython.core.display.HTML object>"
      ]
     },
     "metadata": {},
     "output_type": "display_data"
    },
    {
     "data": {
      "text/html": [
       "Run data is saved locally in <code>y:\\coskun-lab\\Thomas\\23_PLA_revision\\notebooks\\wandb\\run-20240112_163251-ix9w6kji</code>"
      ],
      "text/plain": [
       "<IPython.core.display.HTML object>"
      ]
     },
     "metadata": {},
     "output_type": "display_data"
    },
    {
     "data": {
      "text/html": [
       "Syncing run <strong><a href='https://wandb.ai/thoomas/PLA_01102024_5PPI_Kfold/runs/ix9w6kji' target=\"_blank\">GAT_4_16_onehot_3</a></strong> to <a href='https://wandb.ai/thoomas/PLA_01102024_5PPI_Kfold' target=\"_blank\">Weights & Biases</a> (<a href='https://wandb.me/run' target=\"_blank\">docs</a>)<br/>"
      ],
      "text/plain": [
       "<IPython.core.display.HTML object>"
      ]
     },
     "metadata": {},
     "output_type": "display_data"
    },
    {
     "data": {
      "text/html": [
       " View project at <a href='https://wandb.ai/thoomas/PLA_01102024_5PPI_Kfold' target=\"_blank\">https://wandb.ai/thoomas/PLA_01102024_5PPI_Kfold</a>"
      ],
      "text/plain": [
       "<IPython.core.display.HTML object>"
      ]
     },
     "metadata": {},
     "output_type": "display_data"
    },
    {
     "data": {
      "text/html": [
       " View run at <a href='https://wandb.ai/thoomas/PLA_01102024_5PPI_Kfold/runs/ix9w6kji' target=\"_blank\">https://wandb.ai/thoomas/PLA_01102024_5PPI_Kfold/runs/ix9w6kji</a>"
      ],
      "text/plain": [
       "<IPython.core.display.HTML object>"
      ]
     },
     "metadata": {},
     "output_type": "display_data"
    },
    {
     "name": "stderr",
     "output_type": "stream",
     "text": [
      "Global seed set to 42\n",
      "GPU available: True (cuda), used: True\n",
      "TPU available: False, using: 0 TPU cores\n",
      "IPU available: False, using: 0 IPUs\n",
      "HPU available: False, using: 0 HPUs\n",
      "Global seed set to 42\n",
      "LOCAL_RANK: 0 - CUDA_VISIBLE_DEVICES: [0,1]\n",
      "\n",
      "   | Name        | Type             | Params\n",
      "--------------------------------------------------\n",
      "0  | x_embedding | Identity         | 0     \n",
      "1  | model       | GAT              | 6.3 K \n",
      "2  | head        | Sequential       | 154   \n",
      "3  | loss_module | CrossEntropyLoss | 0     \n",
      "4  | train_acc   | BinaryAccuracy   | 0     \n",
      "5  | train_auroc | BinaryAUROC      | 0     \n",
      "6  | train_f1    | BinaryF1Score    | 0     \n",
      "7  | valid_acc   | BinaryAccuracy   | 0     \n",
      "8  | valid_auroc | BinaryAUROC      | 0     \n",
      "9  | valid_f1    | BinaryF1Score    | 0     \n",
      "10 | pool        | Attention_module | 281   \n",
      "--------------------------------------------------\n",
      "6.8 K     Trainable params\n",
      "0         Non-trainable params\n",
      "6.8 K     Total params\n",
      "0.027     Total estimated model params size (MB)\n"
     ]
    },
    {
     "name": "stdout",
     "output_type": "stream",
     "text": [
      "Using GAT\n"
     ]
    },
    {
     "name": "stderr",
     "output_type": "stream",
     "text": [
      "`Trainer.fit` stopped: `max_epochs=50` reached.\n"
     ]
    },
    {
     "data": {
      "text/html": [
       "Waiting for W&B process to finish... <strong style=\"color:green\">(success).</strong>"
      ],
      "text/plain": [
       "<IPython.core.display.HTML object>"
      ]
     },
     "metadata": {},
     "output_type": "display_data"
    },
    {
     "data": {
      "application/vnd.jupyter.widget-view+json": {
       "model_id": "e87589490923413aa2e6a88825a949aa",
       "version_major": 2,
       "version_minor": 0
      },
      "text/plain": [
       "VBox(children=(Label(value='0.001 MB of 0.001 MB uploaded (0.000 MB deduped)\\r'), FloatProgress(value=1.0, max…"
      ]
     },
     "metadata": {},
     "output_type": "display_data"
    },
    {
     "data": {
      "text/html": [
       "<style>\n",
       "    table.wandb td:nth-child(1) { padding: 0 10px; text-align: left ; width: auto;} td:nth-child(2) {text-align: left ; width: 100%}\n",
       "    .wandb-row { display: flex; flex-direction: row; flex-wrap: wrap; justify-content: flex-start; width: 100% }\n",
       "    .wandb-col { display: flex; flex-direction: column; flex-basis: 100%; flex: 1; padding: 10px; }\n",
       "    </style>\n",
       "<div class=\"wandb-row\"><div class=\"wandb-col\"><h3>Run history:</h3><br/><table class=\"wandb\"><tr><td>epoch</td><td>▁▁▁▁▂▂▂▂▂▃▃▃▃▃▃▄▄▄▄▄▅▅▅▅▅▅▆▆▆▆▆▇▇▇▇▇▇███</td></tr><tr><td>lr-Adam</td><td>▁▁▁▁▁▁▁▁▁▁▁▁▁▁▁▁▁▁▁▁▁▁▁▁▁▁▁▁▁▁▁▁▁▁▁▁▁▁▁▁</td></tr><tr><td>train_acc</td><td>▁▄▄▄▆▆▆▇▇▇█▇▇▇█▇▇▇▇▇▇▇▇▇▇▇█▇▇▇█▇▇▇▇████▇</td></tr><tr><td>train_auc</td><td>▁▂▃▃▆▆▆▇▇▇█▇▇█▇▇▇▇██▇▇▇▇▇▇█▇█▇█▇█▇▇█▇███</td></tr><tr><td>train_f1</td><td>▆▃▁▁▃▅▇█████▇██▇▇▇▇▇▇▇▇█▇▇█▇▇██▇▇█▇▇███▇</td></tr><tr><td>train_loss_epoch</td><td>█▆▆▆▄▄▄▃▂▂▂▃▂▂▂▂▂▃▁▂▂▂▂▂▂▂▂▂▂▂▂▂▂▂▂▂▃▂▁▂</td></tr><tr><td>train_loss_step</td><td>▅█▅▃▃▅▅▅▄▃▁▄▃▁▃▁▅▅▂▃▁▅▆▁▃</td></tr><tr><td>trainer/global_step</td><td>▁▁▁▁▂▁▂▁▂▂▃▃▃▃▄▄▂▄▂▄▂▅▃▅▃▆▆▆▃▃▇▇▇▃▇▄█▄█▄</td></tr><tr><td>val_acc</td><td>▆▆▆▆▇▃▁▂▃▄▄▆▇▆▇▇████▇▇▇█████▇▇▇▇▇▇█▇▇▇▇▇</td></tr><tr><td>val_auc</td><td>▁▁▆▇▇▇▇█████████████████████████████████</td></tr><tr><td>val_f1</td><td>▁▁▁▁█▇▇▇▇▇▇█████████████████████████████</td></tr><tr><td>val_loss_epoch</td><td>▆▆▆▆▆▆█▇██▅▅▃▄▃▂▂▂▁▃▁▂▃▂▂▁▂▂▂▃▂▁▃▃▂▁▅▃▃▃</td></tr><tr><td>val_loss_step</td><td>▇▆▆▆▆▇██▇▆▄▅▄▅▃▂▂▃▂▂▄▂▄▃▂▁▃▃▃▃▃▃▃▅▃▄▇▄▄▄</td></tr></table><br/></div><div class=\"wandb-col\"><h3>Run summary:</h3><br/><table class=\"wandb\"><tr><td>epoch</td><td>49</td></tr><tr><td>lr-Adam</td><td>0.005</td></tr><tr><td>train_acc</td><td>0.70279</td></tr><tr><td>train_auc</td><td>0.75887</td></tr><tr><td>train_f1</td><td>0.55528</td></tr><tr><td>train_loss_epoch</td><td>0.5755</td></tr><tr><td>train_loss_step</td><td>0.5647</td></tr><tr><td>trainer/global_step</td><td>249</td></tr><tr><td>val_acc</td><td>0.69408</td></tr><tr><td>val_auc</td><td>0.81935</td></tr><tr><td>val_f1</td><td>0.66667</td></tr><tr><td>val_loss_epoch</td><td>0.57987</td></tr><tr><td>val_loss_step</td><td>0.58285</td></tr></table><br/></div></div>"
      ],
      "text/plain": [
       "<IPython.core.display.HTML object>"
      ]
     },
     "metadata": {},
     "output_type": "display_data"
    },
    {
     "data": {
      "text/html": [
       " View run <strong style=\"color:#cdcd00\">GAT_4_16_onehot_3</strong> at: <a href='https://wandb.ai/thoomas/PLA_01102024_5PPI_Kfold/runs/ix9w6kji' target=\"_blank\">https://wandb.ai/thoomas/PLA_01102024_5PPI_Kfold/runs/ix9w6kji</a><br/>Synced 6 W&B file(s), 0 media file(s), 0 artifact file(s) and 0 other file(s)"
      ],
      "text/plain": [
       "<IPython.core.display.HTML object>"
      ]
     },
     "metadata": {},
     "output_type": "display_data"
    },
    {
     "data": {
      "text/html": [
       "Find logs at: <code>.\\wandb\\run-20240112_163251-ix9w6kji\\logs</code>"
      ],
      "text/plain": [
       "<IPython.core.display.HTML object>"
      ]
     },
     "metadata": {},
     "output_type": "display_data"
    },
    {
     "data": {
      "application/vnd.jupyter.widget-view+json": {
       "model_id": "ed4afacba3a445a699cc41f11df7e9ce",
       "version_major": 2,
       "version_minor": 0
      },
      "text/plain": [
       "VBox(children=(Label(value='Waiting for wandb.init()...\\r'), FloatProgress(value=0.017183333332650364, max=1.0…"
      ]
     },
     "metadata": {},
     "output_type": "display_data"
    },
    {
     "data": {
      "text/html": [
       "wandb version 0.16.2 is available!  To upgrade, please run:\n",
       " $ pip install wandb --upgrade"
      ],
      "text/plain": [
       "<IPython.core.display.HTML object>"
      ]
     },
     "metadata": {},
     "output_type": "display_data"
    },
    {
     "data": {
      "text/html": [
       "Tracking run with wandb version 0.14.0"
      ],
      "text/plain": [
       "<IPython.core.display.HTML object>"
      ]
     },
     "metadata": {},
     "output_type": "display_data"
    },
    {
     "data": {
      "text/html": [
       "Run data is saved locally in <code>y:\\coskun-lab\\Thomas\\23_PLA_revision\\notebooks\\wandb\\run-20240112_164730-8b1quqlv</code>"
      ],
      "text/plain": [
       "<IPython.core.display.HTML object>"
      ]
     },
     "metadata": {},
     "output_type": "display_data"
    },
    {
     "data": {
      "text/html": [
       "Syncing run <strong><a href='https://wandb.ai/thoomas/PLA_01102024_5PPI_Kfold/runs/8b1quqlv' target=\"_blank\">GAT_4_32_onehot_3</a></strong> to <a href='https://wandb.ai/thoomas/PLA_01102024_5PPI_Kfold' target=\"_blank\">Weights & Biases</a> (<a href='https://wandb.me/run' target=\"_blank\">docs</a>)<br/>"
      ],
      "text/plain": [
       "<IPython.core.display.HTML object>"
      ]
     },
     "metadata": {},
     "output_type": "display_data"
    },
    {
     "data": {
      "text/html": [
       " View project at <a href='https://wandb.ai/thoomas/PLA_01102024_5PPI_Kfold' target=\"_blank\">https://wandb.ai/thoomas/PLA_01102024_5PPI_Kfold</a>"
      ],
      "text/plain": [
       "<IPython.core.display.HTML object>"
      ]
     },
     "metadata": {},
     "output_type": "display_data"
    },
    {
     "data": {
      "text/html": [
       " View run at <a href='https://wandb.ai/thoomas/PLA_01102024_5PPI_Kfold/runs/8b1quqlv' target=\"_blank\">https://wandb.ai/thoomas/PLA_01102024_5PPI_Kfold/runs/8b1quqlv</a>"
      ],
      "text/plain": [
       "<IPython.core.display.HTML object>"
      ]
     },
     "metadata": {},
     "output_type": "display_data"
    },
    {
     "name": "stderr",
     "output_type": "stream",
     "text": [
      "Global seed set to 42\n",
      "GPU available: True (cuda), used: True\n",
      "TPU available: False, using: 0 TPU cores\n",
      "IPU available: False, using: 0 IPUs\n",
      "HPU available: False, using: 0 HPUs\n",
      "Global seed set to 42\n",
      "LOCAL_RANK: 0 - CUDA_VISIBLE_DEVICES: [0,1]\n",
      "\n",
      "  | Name        | Type             | Params\n",
      "-------------------------------------------------\n",
      "0 | x_embedding | Identity         | 0     \n",
      "1 | model       | GAT              | 22.9 K\n",
      "2 | head        | Sequential       | 562   \n",
      "3 | loss_module | CrossEntropyLoss | 0     \n",
      "4 | train_acc   | BinaryAccuracy   | 0     \n",
      "5 | train_auroc | BinaryAUROC      | 0     \n",
      "6 | train_f1    | BinaryF1Score    | 0     \n",
      "7 | valid_acc   | BinaryAccuracy   | 0     \n",
      "8 | valid_auroc | BinaryAUROC      | 0     \n",
      "9 | valid_f1    | BinaryF1Score    | 0     \n",
      "-------------------------------------------------\n",
      "23.4 K    Trainable params\n",
      "0         Non-trainable params\n",
      "23.4 K    Total params\n",
      "0.094     Total estimated model params size (MB)\n"
     ]
    },
    {
     "name": "stdout",
     "output_type": "stream",
     "text": [
      "Using GAT\n"
     ]
    },
    {
     "name": "stderr",
     "output_type": "stream",
     "text": [
      "`Trainer.fit` stopped: `max_epochs=50` reached.\n"
     ]
    },
    {
     "data": {
      "text/html": [
       "Waiting for W&B process to finish... <strong style=\"color:green\">(success).</strong>"
      ],
      "text/plain": [
       "<IPython.core.display.HTML object>"
      ]
     },
     "metadata": {},
     "output_type": "display_data"
    },
    {
     "data": {
      "application/vnd.jupyter.widget-view+json": {
       "model_id": "8f1b1982b66c4379bb276a88bc104475",
       "version_major": 2,
       "version_minor": 0
      },
      "text/plain": [
       "VBox(children=(Label(value='0.001 MB of 0.001 MB uploaded (0.000 MB deduped)\\r'), FloatProgress(value=1.0, max…"
      ]
     },
     "metadata": {},
     "output_type": "display_data"
    },
    {
     "data": {
      "text/html": [
       "<style>\n",
       "    table.wandb td:nth-child(1) { padding: 0 10px; text-align: left ; width: auto;} td:nth-child(2) {text-align: left ; width: 100%}\n",
       "    .wandb-row { display: flex; flex-direction: row; flex-wrap: wrap; justify-content: flex-start; width: 100% }\n",
       "    .wandb-col { display: flex; flex-direction: column; flex-basis: 100%; flex: 1; padding: 10px; }\n",
       "    </style>\n",
       "<div class=\"wandb-row\"><div class=\"wandb-col\"><h3>Run history:</h3><br/><table class=\"wandb\"><tr><td>epoch</td><td>▁▁▁▁▂▂▂▂▂▃▃▃▃▃▃▄▄▄▄▄▅▅▅▅▅▅▆▆▆▆▆▇▇▇▇▇▇███</td></tr><tr><td>lr-Adam</td><td>▁▁▁▁▁▁▁▁▁▁▁▁▁▁▁▁▁▁▁▁▁▁▁▁▁▁▁▁▁▁▁▁▁▁▁▁▁▁▁▁</td></tr><tr><td>train_acc</td><td>▁▃▃▃▇▆▇▆▇▇▇▇▇▆▇▇▇▇▇▇█▇▇▇█▇▇█▆▇▇▇▇▇▇█▇▇█▇</td></tr><tr><td>train_auc</td><td>▁▃▄▆▆▇▇▇▇▇▇▇▇▇▇▇█▇▇████▇██▇██▇▇█████████</td></tr><tr><td>train_f1</td><td>▃▁▂▄███▇▇██▇▇▇█▇███████▇█▇██▇█▇▇█▇███▇██</td></tr><tr><td>train_loss_epoch</td><td>█▇▆▆▄▄▃▂▂▂▃▂▂▃▂▂▂▂▂▂▁▁▁▃▁▂▂▂▂▂▂▁▁▂▂▂▂▂▁▂</td></tr><tr><td>train_loss_step</td><td>▇█▅▅█▁▆▄▄▁▅▂▃▁▃▅▃▂▂▃▄▃▃▂▃</td></tr><tr><td>trainer/global_step</td><td>▁▁▁▁▂▁▂▁▂▂▃▃▃▃▄▄▂▄▂▄▂▅▃▅▃▆▆▆▃▃▇▇▇▃▇▄█▄█▄</td></tr><tr><td>val_acc</td><td>▇▇▇▄▁▂▄▆▇▇█████▇▇▇▇▇▆▇▇▇▇▇▆▆▇▇█▇▆▆▆▇▆▆▇▇</td></tr><tr><td>val_auc</td><td>▁▃▂▃▄▄▅▅▅▅▆▇▆▅▆▆▇▇▇▇▇▇▇▇██▇█▇▇▇▇████████</td></tr><tr><td>val_f1</td><td>▁▁▁▇▆▇▇▇████████████████████████████████</td></tr><tr><td>val_loss_epoch</td><td>▅▄▅▆██▅▅▃▃▂▁▂▁▃▁▃▂▁▁▄▃▄▂▄▄▇▃▃▃▂▅▅▅▄▂▄▄▂▅</td></tr><tr><td>val_loss_step</td><td>▆▆▆▇██▅▇▅▄▅▃▃▂▆▃▄▃▁▆▆▄▅▅▅▆▆▅▄▃▄▄▇█▅▅▅▅▄▇</td></tr></table><br/></div><div class=\"wandb-col\"><h3>Run summary:</h3><br/><table class=\"wandb\"><tr><td>epoch</td><td>49</td></tr><tr><td>lr-Adam</td><td>0.005</td></tr><tr><td>train_acc</td><td>0.70525</td></tr><tr><td>train_auc</td><td>0.76592</td></tr><tr><td>train_f1</td><td>0.59343</td></tr><tr><td>train_loss_epoch</td><td>0.55723</td></tr><tr><td>train_loss_step</td><td>0.54337</td></tr><tr><td>trainer/global_step</td><td>249</td></tr><tr><td>val_acc</td><td>0.68092</td></tr><tr><td>val_auc</td><td>0.81698</td></tr><tr><td>val_f1</td><td>0.67119</td></tr><tr><td>val_loss_epoch</td><td>0.65345</td></tr><tr><td>val_loss_step</td><td>0.69272</td></tr></table><br/></div></div>"
      ],
      "text/plain": [
       "<IPython.core.display.HTML object>"
      ]
     },
     "metadata": {},
     "output_type": "display_data"
    },
    {
     "data": {
      "text/html": [
       " View run <strong style=\"color:#cdcd00\">GAT_4_32_onehot_3</strong> at: <a href='https://wandb.ai/thoomas/PLA_01102024_5PPI_Kfold/runs/8b1quqlv' target=\"_blank\">https://wandb.ai/thoomas/PLA_01102024_5PPI_Kfold/runs/8b1quqlv</a><br/>Synced 6 W&B file(s), 0 media file(s), 0 artifact file(s) and 0 other file(s)"
      ],
      "text/plain": [
       "<IPython.core.display.HTML object>"
      ]
     },
     "metadata": {},
     "output_type": "display_data"
    },
    {
     "data": {
      "text/html": [
       "Find logs at: <code>.\\wandb\\run-20240112_164730-8b1quqlv\\logs</code>"
      ],
      "text/plain": [
       "<IPython.core.display.HTML object>"
      ]
     },
     "metadata": {},
     "output_type": "display_data"
    },
    {
     "data": {
      "application/vnd.jupyter.widget-view+json": {
       "model_id": "37dd9bc5b26c4c8ca8f0527c2e5e764a",
       "version_major": 2,
       "version_minor": 0
      },
      "text/plain": [
       "VBox(children=(Label(value='Waiting for wandb.init()...\\r'), FloatProgress(value=0.016666666666666666, max=1.0…"
      ]
     },
     "metadata": {},
     "output_type": "display_data"
    },
    {
     "data": {
      "text/html": [
       "wandb version 0.16.2 is available!  To upgrade, please run:\n",
       " $ pip install wandb --upgrade"
      ],
      "text/plain": [
       "<IPython.core.display.HTML object>"
      ]
     },
     "metadata": {},
     "output_type": "display_data"
    },
    {
     "data": {
      "text/html": [
       "Tracking run with wandb version 0.14.0"
      ],
      "text/plain": [
       "<IPython.core.display.HTML object>"
      ]
     },
     "metadata": {},
     "output_type": "display_data"
    },
    {
     "data": {
      "text/html": [
       "Run data is saved locally in <code>y:\\coskun-lab\\Thomas\\23_PLA_revision\\notebooks\\wandb\\run-20240112_170406-a9yl62x1</code>"
      ],
      "text/plain": [
       "<IPython.core.display.HTML object>"
      ]
     },
     "metadata": {},
     "output_type": "display_data"
    },
    {
     "data": {
      "text/html": [
       "Syncing run <strong><a href='https://wandb.ai/thoomas/PLA_01102024_5PPI_Kfold/runs/a9yl62x1' target=\"_blank\">GAT_4_32_onehot_3</a></strong> to <a href='https://wandb.ai/thoomas/PLA_01102024_5PPI_Kfold' target=\"_blank\">Weights & Biases</a> (<a href='https://wandb.me/run' target=\"_blank\">docs</a>)<br/>"
      ],
      "text/plain": [
       "<IPython.core.display.HTML object>"
      ]
     },
     "metadata": {},
     "output_type": "display_data"
    },
    {
     "data": {
      "text/html": [
       " View project at <a href='https://wandb.ai/thoomas/PLA_01102024_5PPI_Kfold' target=\"_blank\">https://wandb.ai/thoomas/PLA_01102024_5PPI_Kfold</a>"
      ],
      "text/plain": [
       "<IPython.core.display.HTML object>"
      ]
     },
     "metadata": {},
     "output_type": "display_data"
    },
    {
     "data": {
      "text/html": [
       " View run at <a href='https://wandb.ai/thoomas/PLA_01102024_5PPI_Kfold/runs/a9yl62x1' target=\"_blank\">https://wandb.ai/thoomas/PLA_01102024_5PPI_Kfold/runs/a9yl62x1</a>"
      ],
      "text/plain": [
       "<IPython.core.display.HTML object>"
      ]
     },
     "metadata": {},
     "output_type": "display_data"
    },
    {
     "name": "stderr",
     "output_type": "stream",
     "text": [
      "Global seed set to 42\n",
      "GPU available: True (cuda), used: True\n",
      "TPU available: False, using: 0 TPU cores\n",
      "IPU available: False, using: 0 IPUs\n",
      "HPU available: False, using: 0 HPUs\n",
      "Global seed set to 42\n",
      "LOCAL_RANK: 0 - CUDA_VISIBLE_DEVICES: [0,1]\n",
      "\n",
      "  | Name        | Type             | Params\n",
      "-------------------------------------------------\n",
      "0 | x_embedding | Identity         | 0     \n",
      "1 | model       | GAT              | 22.9 K\n",
      "2 | head        | Sequential       | 562   \n",
      "3 | loss_module | CrossEntropyLoss | 0     \n",
      "4 | train_acc   | BinaryAccuracy   | 0     \n",
      "5 | train_auroc | BinaryAUROC      | 0     \n",
      "6 | train_f1    | BinaryF1Score    | 0     \n",
      "7 | valid_acc   | BinaryAccuracy   | 0     \n",
      "8 | valid_auroc | BinaryAUROC      | 0     \n",
      "9 | valid_f1    | BinaryF1Score    | 0     \n",
      "-------------------------------------------------\n",
      "23.4 K    Trainable params\n",
      "0         Non-trainable params\n",
      "23.4 K    Total params\n",
      "0.094     Total estimated model params size (MB)\n"
     ]
    },
    {
     "name": "stdout",
     "output_type": "stream",
     "text": [
      "Using GAT\n"
     ]
    },
    {
     "name": "stderr",
     "output_type": "stream",
     "text": [
      "`Trainer.fit` stopped: `max_epochs=50` reached.\n"
     ]
    },
    {
     "data": {
      "text/html": [
       "Waiting for W&B process to finish... <strong style=\"color:green\">(success).</strong>"
      ],
      "text/plain": [
       "<IPython.core.display.HTML object>"
      ]
     },
     "metadata": {},
     "output_type": "display_data"
    },
    {
     "data": {
      "application/vnd.jupyter.widget-view+json": {
       "model_id": "34e0cbb6e191497eb2a72e64b5a1a76a",
       "version_major": 2,
       "version_minor": 0
      },
      "text/plain": [
       "VBox(children=(Label(value='0.001 MB of 0.001 MB uploaded (0.000 MB deduped)\\r'), FloatProgress(value=1.0, max…"
      ]
     },
     "metadata": {},
     "output_type": "display_data"
    },
    {
     "data": {
      "text/html": [
       "<style>\n",
       "    table.wandb td:nth-child(1) { padding: 0 10px; text-align: left ; width: auto;} td:nth-child(2) {text-align: left ; width: 100%}\n",
       "    .wandb-row { display: flex; flex-direction: row; flex-wrap: wrap; justify-content: flex-start; width: 100% }\n",
       "    .wandb-col { display: flex; flex-direction: column; flex-basis: 100%; flex: 1; padding: 10px; }\n",
       "    </style>\n",
       "<div class=\"wandb-row\"><div class=\"wandb-col\"><h3>Run history:</h3><br/><table class=\"wandb\"><tr><td>epoch</td><td>▁▁▁▁▂▂▂▂▂▃▃▃▃▃▃▄▄▄▄▄▅▅▅▅▅▅▆▆▆▆▆▇▇▇▇▇▇███</td></tr><tr><td>lr-Adam</td><td>▁▁▁▁▁▁▁▁▁▁▁▁▁▁▁▁▁▁▁▁▁▁▁▁▁▁▁▁▁▁▁▁▁▁▁▁▁▁▁▁</td></tr><tr><td>train_acc</td><td>▁▄▃▃▃▄▄▄▆▅▅▅▆▆▆▅▆▆▇▇▇▆█▇█▇▇█▆▇▆█▇▇▇▇▇▇▇█</td></tr><tr><td>train_auc</td><td>▁▁▁▃▃▄▅▅▆▅▅▆▆▆▇▇▇▇▇██▇█▇█████▇▇████▇████</td></tr><tr><td>train_f1</td><td>▄▁▂▂▁▂▃▃▆▆▆▆▇▆▇▆▇▇█▇█▆█▇█▇▇█▇█▆█▇▇█▇█▇▇█</td></tr><tr><td>train_loss_epoch</td><td>█▇▇▆▆▆▅▅▅▄▅▄▄▄▃▃▂▂▃▁▂▂▁▃▁▁▁▁▂▂▂▁▂▂▁▂▁▁▁▁</td></tr><tr><td>train_loss_step</td><td>▇█▆▆█▄▇▆▄▂▅▁▃▂▂▄▃▃▂▃▅▆▃▃▂</td></tr><tr><td>trainer/global_step</td><td>▁▁▁▁▂▁▂▁▂▂▃▃▃▃▄▄▂▄▂▄▂▅▃▅▃▆▆▆▃▃▇▇▇▃▇▄█▄█▄</td></tr><tr><td>val_acc</td><td>▃▃▃▃▃▂▂▄▃▃▃▆▆▆▆▅▇▇▇▆██▆▅▇▆▁▇▇▅▄▇▆▆▇▅▅▆▆▆</td></tr><tr><td>val_auc</td><td>▁▄▃▅▅▅▆▆▆▆▆▆▇▇▇█████████████████████████</td></tr><tr><td>val_f1</td><td>▁▁▁▁▂▇▇▇█▇▇▇▇▇▇▆▇▇█▆███▆█▇█▇▇▆▅▇▇▇▇▆▆▇▆▇</td></tr><tr><td>val_loss_epoch</td><td>███▇███▇▇▇▇▆▅▄▄▃▃▃▃▂▃▃▄▁▄▃▇▃▃▃▂▄▁▂▂▃▂▃▂▃</td></tr><tr><td>val_loss_step</td><td>███▇███▇█▇▇█▅▅▅▄▃▃▂▅▄▄▅▅▄▄▄▄▄▅▃▂▁▃▂▃▃▄▂▃</td></tr></table><br/></div><div class=\"wandb-col\"><h3>Run summary:</h3><br/><table class=\"wandb\"><tr><td>epoch</td><td>49</td></tr><tr><td>lr-Adam</td><td>0.005</td></tr><tr><td>train_acc</td><td>0.70936</td></tr><tr><td>train_auc</td><td>0.74685</td></tr><tr><td>train_f1</td><td>0.59864</td></tr><tr><td>train_loss_epoch</td><td>0.56949</td></tr><tr><td>train_loss_step</td><td>0.54978</td></tr><tr><td>trainer/global_step</td><td>249</td></tr><tr><td>val_acc</td><td>0.71382</td></tr><tr><td>val_auc</td><td>0.78438</td></tr><tr><td>val_f1</td><td>0.57561</td></tr><tr><td>val_loss_epoch</td><td>0.58809</td></tr><tr><td>val_loss_step</td><td>0.57701</td></tr></table><br/></div></div>"
      ],
      "text/plain": [
       "<IPython.core.display.HTML object>"
      ]
     },
     "metadata": {},
     "output_type": "display_data"
    },
    {
     "data": {
      "text/html": [
       " View run <strong style=\"color:#cdcd00\">GAT_4_32_onehot_3</strong> at: <a href='https://wandb.ai/thoomas/PLA_01102024_5PPI_Kfold/runs/a9yl62x1' target=\"_blank\">https://wandb.ai/thoomas/PLA_01102024_5PPI_Kfold/runs/a9yl62x1</a><br/>Synced 6 W&B file(s), 0 media file(s), 0 artifact file(s) and 0 other file(s)"
      ],
      "text/plain": [
       "<IPython.core.display.HTML object>"
      ]
     },
     "metadata": {},
     "output_type": "display_data"
    },
    {
     "data": {
      "text/html": [
       "Find logs at: <code>.\\wandb\\run-20240112_170406-a9yl62x1\\logs</code>"
      ],
      "text/plain": [
       "<IPython.core.display.HTML object>"
      ]
     },
     "metadata": {},
     "output_type": "display_data"
    },
    {
     "data": {
      "application/vnd.jupyter.widget-view+json": {
       "model_id": "a4d6b7ecad644cb49915bf190c92949f",
       "version_major": 2,
       "version_minor": 0
      },
      "text/plain": [
       "VBox(children=(Label(value='Waiting for wandb.init()...\\r'), FloatProgress(value=0.01693333333435779, max=1.0)…"
      ]
     },
     "metadata": {},
     "output_type": "display_data"
    },
    {
     "data": {
      "text/html": [
       "wandb version 0.16.2 is available!  To upgrade, please run:\n",
       " $ pip install wandb --upgrade"
      ],
      "text/plain": [
       "<IPython.core.display.HTML object>"
      ]
     },
     "metadata": {},
     "output_type": "display_data"
    },
    {
     "data": {
      "text/html": [
       "Tracking run with wandb version 0.14.0"
      ],
      "text/plain": [
       "<IPython.core.display.HTML object>"
      ]
     },
     "metadata": {},
     "output_type": "display_data"
    },
    {
     "data": {
      "text/html": [
       "Run data is saved locally in <code>y:\\coskun-lab\\Thomas\\23_PLA_revision\\notebooks\\wandb\\run-20240112_171806-hjysjmft</code>"
      ],
      "text/plain": [
       "<IPython.core.display.HTML object>"
      ]
     },
     "metadata": {},
     "output_type": "display_data"
    },
    {
     "data": {
      "text/html": [
       "Syncing run <strong><a href='https://wandb.ai/thoomas/PLA_01102024_5PPI_Kfold/runs/hjysjmft' target=\"_blank\">GAT_4_32_onehot_3</a></strong> to <a href='https://wandb.ai/thoomas/PLA_01102024_5PPI_Kfold' target=\"_blank\">Weights & Biases</a> (<a href='https://wandb.me/run' target=\"_blank\">docs</a>)<br/>"
      ],
      "text/plain": [
       "<IPython.core.display.HTML object>"
      ]
     },
     "metadata": {},
     "output_type": "display_data"
    },
    {
     "data": {
      "text/html": [
       " View project at <a href='https://wandb.ai/thoomas/PLA_01102024_5PPI_Kfold' target=\"_blank\">https://wandb.ai/thoomas/PLA_01102024_5PPI_Kfold</a>"
      ],
      "text/plain": [
       "<IPython.core.display.HTML object>"
      ]
     },
     "metadata": {},
     "output_type": "display_data"
    },
    {
     "data": {
      "text/html": [
       " View run at <a href='https://wandb.ai/thoomas/PLA_01102024_5PPI_Kfold/runs/hjysjmft' target=\"_blank\">https://wandb.ai/thoomas/PLA_01102024_5PPI_Kfold/runs/hjysjmft</a>"
      ],
      "text/plain": [
       "<IPython.core.display.HTML object>"
      ]
     },
     "metadata": {},
     "output_type": "display_data"
    },
    {
     "name": "stderr",
     "output_type": "stream",
     "text": [
      "Global seed set to 42\n",
      "GPU available: True (cuda), used: True\n",
      "TPU available: False, using: 0 TPU cores\n",
      "IPU available: False, using: 0 IPUs\n",
      "HPU available: False, using: 0 HPUs\n",
      "Global seed set to 42\n",
      "LOCAL_RANK: 0 - CUDA_VISIBLE_DEVICES: [0,1]\n",
      "\n",
      "  | Name        | Type             | Params\n",
      "-------------------------------------------------\n",
      "0 | x_embedding | Identity         | 0     \n",
      "1 | model       | GAT              | 22.9 K\n",
      "2 | head        | Sequential       | 562   \n",
      "3 | loss_module | CrossEntropyLoss | 0     \n",
      "4 | train_acc   | BinaryAccuracy   | 0     \n",
      "5 | train_auroc | BinaryAUROC      | 0     \n",
      "6 | train_f1    | BinaryF1Score    | 0     \n",
      "7 | valid_acc   | BinaryAccuracy   | 0     \n",
      "8 | valid_auroc | BinaryAUROC      | 0     \n",
      "9 | valid_f1    | BinaryF1Score    | 0     \n",
      "-------------------------------------------------\n",
      "23.4 K    Trainable params\n",
      "0         Non-trainable params\n",
      "23.4 K    Total params\n",
      "0.094     Total estimated model params size (MB)\n"
     ]
    },
    {
     "name": "stdout",
     "output_type": "stream",
     "text": [
      "Using GAT\n"
     ]
    },
    {
     "name": "stderr",
     "output_type": "stream",
     "text": [
      "`Trainer.fit` stopped: `max_epochs=50` reached.\n"
     ]
    },
    {
     "data": {
      "text/html": [
       "Waiting for W&B process to finish... <strong style=\"color:green\">(success).</strong>"
      ],
      "text/plain": [
       "<IPython.core.display.HTML object>"
      ]
     },
     "metadata": {},
     "output_type": "display_data"
    },
    {
     "data": {
      "application/vnd.jupyter.widget-view+json": {
       "model_id": "21c85ac32d5d4f7887db6cf850772040",
       "version_major": 2,
       "version_minor": 0
      },
      "text/plain": [
       "VBox(children=(Label(value='0.001 MB of 0.001 MB uploaded (0.000 MB deduped)\\r'), FloatProgress(value=1.0, max…"
      ]
     },
     "metadata": {},
     "output_type": "display_data"
    },
    {
     "data": {
      "text/html": [
       "<style>\n",
       "    table.wandb td:nth-child(1) { padding: 0 10px; text-align: left ; width: auto;} td:nth-child(2) {text-align: left ; width: 100%}\n",
       "    .wandb-row { display: flex; flex-direction: row; flex-wrap: wrap; justify-content: flex-start; width: 100% }\n",
       "    .wandb-col { display: flex; flex-direction: column; flex-basis: 100%; flex: 1; padding: 10px; }\n",
       "    </style>\n",
       "<div class=\"wandb-row\"><div class=\"wandb-col\"><h3>Run history:</h3><br/><table class=\"wandb\"><tr><td>epoch</td><td>▁▁▁▁▂▂▂▂▂▃▃▃▃▃▃▄▄▄▄▄▅▅▅▅▅▅▆▆▆▆▆▇▇▇▇▇▇███</td></tr><tr><td>lr-Adam</td><td>▁▁▁▁▁▁▁▁▁▁▁▁▁▁▁▁▁▁▁▁▁▁▁▁▁▁▁▁▁▁▁▁▁▁▁▁▁▁▁▁</td></tr><tr><td>train_acc</td><td>▁▄▂▃▄▆▆▆▆▇▇█▇▇▇▇█▇▇▇█▇█▇█▇▇▇▇█▇████▇▇▇██</td></tr><tr><td>train_auc</td><td>▁▃▂▂▃▄▅▅▅▅▅▅▆▆▅▆▆▆▆▇▇▇▇▇█▇▇▇▇▇▇▇▇██▇▇███</td></tr><tr><td>train_f1</td><td>▁▂▄▄▅▅▇▆▅▇▇▇▆▇▆▇▇▆▇▇▇▇█▆█▆▅▇▆█▅▆▇▆▇▆▇▆▇▇</td></tr><tr><td>train_loss_epoch</td><td>█▃▃▂▂▂▁▁▁▁▁▁▁▁▁▁▁▁▁▁▁▁▁▁▁▁▁▁▁▁▁▁▁▁▁▁▁▁▁▁</td></tr><tr><td>train_loss_step</td><td>█▅▄▃▄▂▃▂▃▁▃▂▂▁▂▃▂▂▂▂▃▃▂▂▁</td></tr><tr><td>trainer/global_step</td><td>▁▁▁▁▂▁▂▁▂▂▃▃▃▃▄▄▂▄▂▄▂▅▃▅▃▆▆▆▃▃▇▇▇▃▇▄█▄█▄</td></tr><tr><td>val_acc</td><td>▄▁▁▁▂▂▂▃▄▄▅▅▆▆▆▆▆▆▆▆▅▅▅▆▆▇▆▆▆▆█▆██▇█▇▇▇▇</td></tr><tr><td>val_auc</td><td>▁▄▅▆▆▆▆▇▇▇▇█████████████████████████████</td></tr><tr><td>val_f1</td><td>▄▁▁▁▁▂▂▂▃▃▄▅▆▆▆▅▅▆▆▆▅▅▅▆▅▇▆▆▆▆█▆██▇█▇▇▇▇</td></tr><tr><td>val_loss_epoch</td><td>▄▅▇█▇▆▆▆▅▆▅▃▄▃▃▃▃▃▂▃▃▄▄▂▅▂▃▂▃▂▁▄▁▂▃▁▂▂▂▃</td></tr><tr><td>val_loss_step</td><td>▄▅▇█▆▆▅▇▅▆▅▂▃▃▄▃▄▄▁▄▄▃▃▄▄▂▄▃▂▁▃▂▂▄▂▃▂▂▂▄</td></tr></table><br/></div><div class=\"wandb-col\"><h3>Run summary:</h3><br/><table class=\"wandb\"><tr><td>epoch</td><td>49</td></tr><tr><td>lr-Adam</td><td>0.005</td></tr><tr><td>train_acc</td><td>0.73563</td></tr><tr><td>train_auc</td><td>0.73229</td></tr><tr><td>train_f1</td><td>0.60345</td></tr><tr><td>train_loss_epoch</td><td>0.52733</td></tr><tr><td>train_loss_step</td><td>0.49305</td></tr><tr><td>trainer/global_step</td><td>249</td></tr><tr><td>val_acc</td><td>0.69737</td></tr><tr><td>val_auc</td><td>0.85408</td></tr><tr><td>val_f1</td><td>0.67832</td></tr><tr><td>val_loss_epoch</td><td>0.62741</td></tr><tr><td>val_loss_step</td><td>0.69663</td></tr></table><br/></div></div>"
      ],
      "text/plain": [
       "<IPython.core.display.HTML object>"
      ]
     },
     "metadata": {},
     "output_type": "display_data"
    },
    {
     "data": {
      "text/html": [
       " View run <strong style=\"color:#cdcd00\">GAT_4_32_onehot_3</strong> at: <a href='https://wandb.ai/thoomas/PLA_01102024_5PPI_Kfold/runs/hjysjmft' target=\"_blank\">https://wandb.ai/thoomas/PLA_01102024_5PPI_Kfold/runs/hjysjmft</a><br/>Synced 6 W&B file(s), 0 media file(s), 0 artifact file(s) and 0 other file(s)"
      ],
      "text/plain": [
       "<IPython.core.display.HTML object>"
      ]
     },
     "metadata": {},
     "output_type": "display_data"
    },
    {
     "data": {
      "text/html": [
       "Find logs at: <code>.\\wandb\\run-20240112_171806-hjysjmft\\logs</code>"
      ],
      "text/plain": [
       "<IPython.core.display.HTML object>"
      ]
     },
     "metadata": {},
     "output_type": "display_data"
    },
    {
     "data": {
      "application/vnd.jupyter.widget-view+json": {
       "model_id": "bc15709eaf40456996ae639d53050001",
       "version_major": 2,
       "version_minor": 0
      },
      "text/plain": [
       "VBox(children=(Label(value='Waiting for wandb.init()...\\r'), FloatProgress(value=0.016933333330477276, max=1.0…"
      ]
     },
     "metadata": {},
     "output_type": "display_data"
    },
    {
     "data": {
      "text/html": [
       "wandb version 0.16.2 is available!  To upgrade, please run:\n",
       " $ pip install wandb --upgrade"
      ],
      "text/plain": [
       "<IPython.core.display.HTML object>"
      ]
     },
     "metadata": {},
     "output_type": "display_data"
    },
    {
     "data": {
      "text/html": [
       "Tracking run with wandb version 0.14.0"
      ],
      "text/plain": [
       "<IPython.core.display.HTML object>"
      ]
     },
     "metadata": {},
     "output_type": "display_data"
    },
    {
     "data": {
      "text/html": [
       "Run data is saved locally in <code>y:\\coskun-lab\\Thomas\\23_PLA_revision\\notebooks\\wandb\\run-20240112_173207-7ruvkcce</code>"
      ],
      "text/plain": [
       "<IPython.core.display.HTML object>"
      ]
     },
     "metadata": {},
     "output_type": "display_data"
    },
    {
     "data": {
      "text/html": [
       "Syncing run <strong><a href='https://wandb.ai/thoomas/PLA_01102024_5PPI_Kfold/runs/7ruvkcce' target=\"_blank\">GAT_4_32_onehot_3</a></strong> to <a href='https://wandb.ai/thoomas/PLA_01102024_5PPI_Kfold' target=\"_blank\">Weights & Biases</a> (<a href='https://wandb.me/run' target=\"_blank\">docs</a>)<br/>"
      ],
      "text/plain": [
       "<IPython.core.display.HTML object>"
      ]
     },
     "metadata": {},
     "output_type": "display_data"
    },
    {
     "data": {
      "text/html": [
       " View project at <a href='https://wandb.ai/thoomas/PLA_01102024_5PPI_Kfold' target=\"_blank\">https://wandb.ai/thoomas/PLA_01102024_5PPI_Kfold</a>"
      ],
      "text/plain": [
       "<IPython.core.display.HTML object>"
      ]
     },
     "metadata": {},
     "output_type": "display_data"
    },
    {
     "data": {
      "text/html": [
       " View run at <a href='https://wandb.ai/thoomas/PLA_01102024_5PPI_Kfold/runs/7ruvkcce' target=\"_blank\">https://wandb.ai/thoomas/PLA_01102024_5PPI_Kfold/runs/7ruvkcce</a>"
      ],
      "text/plain": [
       "<IPython.core.display.HTML object>"
      ]
     },
     "metadata": {},
     "output_type": "display_data"
    },
    {
     "name": "stderr",
     "output_type": "stream",
     "text": [
      "Global seed set to 42\n",
      "GPU available: True (cuda), used: True\n",
      "TPU available: False, using: 0 TPU cores\n",
      "IPU available: False, using: 0 IPUs\n",
      "HPU available: False, using: 0 HPUs\n",
      "Global seed set to 42\n",
      "LOCAL_RANK: 0 - CUDA_VISIBLE_DEVICES: [0,1]\n",
      "\n",
      "   | Name        | Type             | Params\n",
      "--------------------------------------------------\n",
      "0  | x_embedding | Identity         | 0     \n",
      "1  | model       | GAT              | 22.9 K\n",
      "2  | head        | Sequential       | 562   \n",
      "3  | loss_module | CrossEntropyLoss | 0     \n",
      "4  | train_acc   | BinaryAccuracy   | 0     \n",
      "5  | train_auroc | BinaryAUROC      | 0     \n",
      "6  | train_f1    | BinaryF1Score    | 0     \n",
      "7  | valid_acc   | BinaryAccuracy   | 0     \n",
      "8  | valid_auroc | BinaryAUROC      | 0     \n",
      "9  | valid_f1    | BinaryF1Score    | 0     \n",
      "10 | pool        | GlobalAttention  | 33    \n",
      "--------------------------------------------------\n",
      "23.5 K    Trainable params\n",
      "0         Non-trainable params\n",
      "23.5 K    Total params\n",
      "0.094     Total estimated model params size (MB)\n"
     ]
    },
    {
     "name": "stdout",
     "output_type": "stream",
     "text": [
      "Using GAT\n"
     ]
    },
    {
     "name": "stderr",
     "output_type": "stream",
     "text": [
      "`Trainer.fit` stopped: `max_epochs=50` reached.\n"
     ]
    },
    {
     "data": {
      "text/html": [
       "Waiting for W&B process to finish... <strong style=\"color:green\">(success).</strong>"
      ],
      "text/plain": [
       "<IPython.core.display.HTML object>"
      ]
     },
     "metadata": {},
     "output_type": "display_data"
    },
    {
     "data": {
      "application/vnd.jupyter.widget-view+json": {
       "model_id": "a4807267c1c14d83baa6c4c5651a5e35",
       "version_major": 2,
       "version_minor": 0
      },
      "text/plain": [
       "VBox(children=(Label(value='0.001 MB of 0.001 MB uploaded (0.000 MB deduped)\\r'), FloatProgress(value=1.0, max…"
      ]
     },
     "metadata": {},
     "output_type": "display_data"
    },
    {
     "data": {
      "text/html": [
       "<style>\n",
       "    table.wandb td:nth-child(1) { padding: 0 10px; text-align: left ; width: auto;} td:nth-child(2) {text-align: left ; width: 100%}\n",
       "    .wandb-row { display: flex; flex-direction: row; flex-wrap: wrap; justify-content: flex-start; width: 100% }\n",
       "    .wandb-col { display: flex; flex-direction: column; flex-basis: 100%; flex: 1; padding: 10px; }\n",
       "    </style>\n",
       "<div class=\"wandb-row\"><div class=\"wandb-col\"><h3>Run history:</h3><br/><table class=\"wandb\"><tr><td>epoch</td><td>▁▁▁▁▂▂▂▂▂▃▃▃▃▃▃▄▄▄▄▄▅▅▅▅▅▅▆▆▆▆▆▇▇▇▇▇▇███</td></tr><tr><td>lr-Adam</td><td>▁▁▁▁▁▁▁▁▁▁▁▁▁▁▁▁▁▁▁▁▁▁▁▁▁▁▁▁▁▁▁▁▁▁▁▁▁▁▁▁</td></tr><tr><td>train_acc</td><td>▁▃▃▄▆▇▆▆▇█▇▇▇▇█▇▇▇▇▇██▇█▇██████▇█▇██▇███</td></tr><tr><td>train_auc</td><td>▁▃▅▆▇▇▇▇▇█▇▇▇████▇▇▇████████████████████</td></tr><tr><td>train_f1</td><td>▄▁▂▄█▇█▇██▇█▇█████████▇█████▇██▇████▇███</td></tr><tr><td>train_loss_epoch</td><td>█▇▆▅▃▂▃▂▂▂▂▂▂▂▁▁▁▂▂▂▁▁▂▁▁▁▁▂▂▂▁▂▁▂▁▁▁▂▁▁</td></tr><tr><td>train_loss_step</td><td>█▇▃▃▄▄▂▂▂▁▃▄▁▃▁▂▅▄▁█▅▃▃▃▂</td></tr><tr><td>trainer/global_step</td><td>▁▁▁▁▂▁▂▁▂▂▃▃▃▃▄▄▂▄▂▄▂▅▃▅▃▆▆▆▃▃▇▇▇▃▇▄█▄█▄</td></tr><tr><td>val_acc</td><td>▇▇▇▇▁▁▁▅▅▆▅▅▇▆██▇▆▆▆▄▅▆▆███▇▆▆▇▆▆▇▆▅▆▆▆█</td></tr><tr><td>val_auc</td><td>▁▂▁▁▃▄▄▄▄▅▆▆▅▅▅▆▇▇▆▇▇▆▆▇█▇▇██▇▇██▇▇▇▇▇▇█</td></tr><tr><td>val_f1</td><td>▁▁▁█▇▇▇▇▇█▇▇████████▇▇██████▇█████▇▇████</td></tr><tr><td>val_loss_epoch</td><td>▄▃▄▄▆█▆▄▄▃▄▆▂▃▁▃▂▄▃▃▅▅▂▂▁▁▂▂▃▄▁▃▃▂▄▆▃▂▃▃</td></tr><tr><td>val_loss_step</td><td>▄▄▄▅▇▆▆▅▄▄▄█▃▄▁▃▃▆▃▄▅▄▁▃▂▂▃▃▃▅▂▄▃▂▃▃▄▂▂▅</td></tr></table><br/></div><div class=\"wandb-col\"><h3>Run summary:</h3><br/><table class=\"wandb\"><tr><td>epoch</td><td>49</td></tr><tr><td>lr-Adam</td><td>0.005</td></tr><tr><td>train_acc</td><td>0.72167</td></tr><tr><td>train_auc</td><td>0.77472</td></tr><tr><td>train_f1</td><td>0.59595</td></tr><tr><td>train_loss_epoch</td><td>0.54926</td></tr><tr><td>train_loss_step</td><td>0.53084</td></tr><tr><td>trainer/global_step</td><td>249</td></tr><tr><td>val_acc</td><td>0.68421</td></tr><tr><td>val_auc</td><td>0.81896</td></tr><tr><td>val_f1</td><td>0.66897</td></tr><tr><td>val_loss_epoch</td><td>0.63839</td></tr><tr><td>val_loss_step</td><td>0.69088</td></tr></table><br/></div></div>"
      ],
      "text/plain": [
       "<IPython.core.display.HTML object>"
      ]
     },
     "metadata": {},
     "output_type": "display_data"
    },
    {
     "data": {
      "text/html": [
       " View run <strong style=\"color:#cdcd00\">GAT_4_32_onehot_3</strong> at: <a href='https://wandb.ai/thoomas/PLA_01102024_5PPI_Kfold/runs/7ruvkcce' target=\"_blank\">https://wandb.ai/thoomas/PLA_01102024_5PPI_Kfold/runs/7ruvkcce</a><br/>Synced 6 W&B file(s), 0 media file(s), 0 artifact file(s) and 0 other file(s)"
      ],
      "text/plain": [
       "<IPython.core.display.HTML object>"
      ]
     },
     "metadata": {},
     "output_type": "display_data"
    },
    {
     "data": {
      "text/html": [
       "Find logs at: <code>.\\wandb\\run-20240112_173207-7ruvkcce\\logs</code>"
      ],
      "text/plain": [
       "<IPython.core.display.HTML object>"
      ]
     },
     "metadata": {},
     "output_type": "display_data"
    },
    {
     "data": {
      "application/vnd.jupyter.widget-view+json": {
       "model_id": "d4069f46e97641f2b54cd5bde365c558",
       "version_major": 2,
       "version_minor": 0
      },
      "text/plain": [
       "VBox(children=(Label(value='Waiting for wandb.init()...\\r'), FloatProgress(value=0.016666666666666666, max=1.0…"
      ]
     },
     "metadata": {},
     "output_type": "display_data"
    },
    {
     "data": {
      "text/html": [
       "wandb version 0.16.2 is available!  To upgrade, please run:\n",
       " $ pip install wandb --upgrade"
      ],
      "text/plain": [
       "<IPython.core.display.HTML object>"
      ]
     },
     "metadata": {},
     "output_type": "display_data"
    },
    {
     "data": {
      "text/html": [
       "Tracking run with wandb version 0.14.0"
      ],
      "text/plain": [
       "<IPython.core.display.HTML object>"
      ]
     },
     "metadata": {},
     "output_type": "display_data"
    },
    {
     "data": {
      "text/html": [
       "Run data is saved locally in <code>y:\\coskun-lab\\Thomas\\23_PLA_revision\\notebooks\\wandb\\run-20240112_174601-vc8p93fc</code>"
      ],
      "text/plain": [
       "<IPython.core.display.HTML object>"
      ]
     },
     "metadata": {},
     "output_type": "display_data"
    },
    {
     "data": {
      "text/html": [
       "Syncing run <strong><a href='https://wandb.ai/thoomas/PLA_01102024_5PPI_Kfold/runs/vc8p93fc' target=\"_blank\">GAT_4_32_onehot_3</a></strong> to <a href='https://wandb.ai/thoomas/PLA_01102024_5PPI_Kfold' target=\"_blank\">Weights & Biases</a> (<a href='https://wandb.me/run' target=\"_blank\">docs</a>)<br/>"
      ],
      "text/plain": [
       "<IPython.core.display.HTML object>"
      ]
     },
     "metadata": {},
     "output_type": "display_data"
    },
    {
     "data": {
      "text/html": [
       " View project at <a href='https://wandb.ai/thoomas/PLA_01102024_5PPI_Kfold' target=\"_blank\">https://wandb.ai/thoomas/PLA_01102024_5PPI_Kfold</a>"
      ],
      "text/plain": [
       "<IPython.core.display.HTML object>"
      ]
     },
     "metadata": {},
     "output_type": "display_data"
    },
    {
     "data": {
      "text/html": [
       " View run at <a href='https://wandb.ai/thoomas/PLA_01102024_5PPI_Kfold/runs/vc8p93fc' target=\"_blank\">https://wandb.ai/thoomas/PLA_01102024_5PPI_Kfold/runs/vc8p93fc</a>"
      ],
      "text/plain": [
       "<IPython.core.display.HTML object>"
      ]
     },
     "metadata": {},
     "output_type": "display_data"
    },
    {
     "name": "stderr",
     "output_type": "stream",
     "text": [
      "Global seed set to 42\n",
      "GPU available: True (cuda), used: True\n",
      "TPU available: False, using: 0 TPU cores\n",
      "IPU available: False, using: 0 IPUs\n",
      "HPU available: False, using: 0 HPUs\n",
      "Global seed set to 42\n",
      "LOCAL_RANK: 0 - CUDA_VISIBLE_DEVICES: [0,1]\n",
      "\n",
      "   | Name        | Type             | Params\n",
      "--------------------------------------------------\n",
      "0  | x_embedding | Identity         | 0     \n",
      "1  | model       | GAT              | 22.9 K\n",
      "2  | head        | Sequential       | 562   \n",
      "3  | loss_module | CrossEntropyLoss | 0     \n",
      "4  | train_acc   | BinaryAccuracy   | 0     \n",
      "5  | train_auroc | BinaryAUROC      | 0     \n",
      "6  | train_f1    | BinaryF1Score    | 0     \n",
      "7  | valid_acc   | BinaryAccuracy   | 0     \n",
      "8  | valid_auroc | BinaryAUROC      | 0     \n",
      "9  | valid_f1    | BinaryF1Score    | 0     \n",
      "10 | pool        | Attention_module | 1.1 K \n",
      "--------------------------------------------------\n",
      "24.5 K    Trainable params\n",
      "0         Non-trainable params\n",
      "24.5 K    Total params\n",
      "0.098     Total estimated model params size (MB)\n"
     ]
    },
    {
     "name": "stdout",
     "output_type": "stream",
     "text": [
      "Using GAT\n"
     ]
    },
    {
     "name": "stderr",
     "output_type": "stream",
     "text": [
      "`Trainer.fit` stopped: `max_epochs=50` reached.\n"
     ]
    },
    {
     "data": {
      "text/html": [
       "Waiting for W&B process to finish... <strong style=\"color:green\">(success).</strong>"
      ],
      "text/plain": [
       "<IPython.core.display.HTML object>"
      ]
     },
     "metadata": {},
     "output_type": "display_data"
    },
    {
     "data": {
      "application/vnd.jupyter.widget-view+json": {
       "model_id": "3b2b94643f6c45bea310d70871f9d6df",
       "version_major": 2,
       "version_minor": 0
      },
      "text/plain": [
       "VBox(children=(Label(value='0.001 MB of 0.001 MB uploaded (0.000 MB deduped)\\r'), FloatProgress(value=1.0, max…"
      ]
     },
     "metadata": {},
     "output_type": "display_data"
    },
    {
     "data": {
      "text/html": [
       "<style>\n",
       "    table.wandb td:nth-child(1) { padding: 0 10px; text-align: left ; width: auto;} td:nth-child(2) {text-align: left ; width: 100%}\n",
       "    .wandb-row { display: flex; flex-direction: row; flex-wrap: wrap; justify-content: flex-start; width: 100% }\n",
       "    .wandb-col { display: flex; flex-direction: column; flex-basis: 100%; flex: 1; padding: 10px; }\n",
       "    </style>\n",
       "<div class=\"wandb-row\"><div class=\"wandb-col\"><h3>Run history:</h3><br/><table class=\"wandb\"><tr><td>epoch</td><td>▁▁▁▁▂▂▂▂▂▃▃▃▃▃▃▄▄▄▄▄▅▅▅▅▅▅▆▆▆▆▆▇▇▇▇▇▇███</td></tr><tr><td>lr-Adam</td><td>▁▁▁▁▁▁▁▁▁▁▁▁▁▁▁▁▁▁▁▁▁▁▁▁▁▁▁▁▁▁▁▁▁▁▁▁▁▁▁▁</td></tr><tr><td>train_acc</td><td>▁▃▃▅▇▇▇▇▇▇▇▇▇██▇█████▇█████▇█▇▇▇▇██▇▇▇█▇</td></tr><tr><td>train_auc</td><td>▁▃▅▆▇▇▇█▇▇▇████▇███▇███████████▇████████</td></tr><tr><td>train_f1</td><td>▄▁▂▅█▇██▇▇▇▇▇▇█▇█▇██▇▇█████▇█▇▇█▇█▇▇█▇▇▇</td></tr><tr><td>train_loss_epoch</td><td>█▇▆▅▃▂▂▂▂▂▂▁▂▂▂▂▁▁▁▂▂▂▁▂▁▁▂▁▁▂▂▂▁▁▁▂▁▂▁▁</td></tr><tr><td>train_loss_step</td><td>█▇▃▃▁▃▅▅▅▅▃▃▄▂▃▄▄▂▂▂▃▅▆▃▄</td></tr><tr><td>trainer/global_step</td><td>▁▁▁▁▂▁▂▁▂▂▃▃▃▃▄▄▂▄▂▄▂▅▃▅▃▆▆▆▃▃▇▇▇▃▇▄█▄█▄</td></tr><tr><td>val_acc</td><td>▇▇▇▁▁▂▂▄▄▅▅▄▇▅▇▇▆▇▆▇█▇▇▇▆▆▇▅▅▇▆▇▇███▇▇▇▇</td></tr><tr><td>val_auc</td><td>▁▃▃▂▄▄▅▅▆▆▆▆▆▆▆▆▆▆▆▇▇▇▆▆▇▇▇▇▇▇▇▇██▇▇███▇</td></tr><tr><td>val_f1</td><td>▁▁▂▆▆▇▇▇▇▇▇▇█▇████▇████████▇▇███████████</td></tr><tr><td>val_loss_epoch</td><td>▅▅▅▆▇██▆▇▆█▆▄▄▅▃▆▃▅▃▃▃▃▂▅▄▄▅▅▅▅▃▃▂▁▃▃▃▂▃</td></tr><tr><td>val_loss_step</td><td>▄▄▄▅▆▆▆▄▅▄█▅▃▃▅▃▃▁▅▂▂▃▃▃▃▂▄▅▄▄▃▃▂▁▁▂▃▃▃▃</td></tr></table><br/></div><div class=\"wandb-col\"><h3>Run summary:</h3><br/><table class=\"wandb\"><tr><td>epoch</td><td>49</td></tr><tr><td>lr-Adam</td><td>0.005</td></tr><tr><td>train_acc</td><td>0.70443</td></tr><tr><td>train_auc</td><td>0.77066</td></tr><tr><td>train_f1</td><td>0.53846</td></tr><tr><td>train_loss_epoch</td><td>0.55588</td></tr><tr><td>train_loss_step</td><td>0.55749</td></tr><tr><td>trainer/global_step</td><td>249</td></tr><tr><td>val_acc</td><td>0.67763</td></tr><tr><td>val_auc</td><td>0.81853</td></tr><tr><td>val_f1</td><td>0.65734</td></tr><tr><td>val_loss_epoch</td><td>0.6058</td></tr><tr><td>val_loss_step</td><td>0.62896</td></tr></table><br/></div></div>"
      ],
      "text/plain": [
       "<IPython.core.display.HTML object>"
      ]
     },
     "metadata": {},
     "output_type": "display_data"
    },
    {
     "data": {
      "text/html": [
       " View run <strong style=\"color:#cdcd00\">GAT_4_32_onehot_3</strong> at: <a href='https://wandb.ai/thoomas/PLA_01102024_5PPI_Kfold/runs/vc8p93fc' target=\"_blank\">https://wandb.ai/thoomas/PLA_01102024_5PPI_Kfold/runs/vc8p93fc</a><br/>Synced 6 W&B file(s), 0 media file(s), 0 artifact file(s) and 0 other file(s)"
      ],
      "text/plain": [
       "<IPython.core.display.HTML object>"
      ]
     },
     "metadata": {},
     "output_type": "display_data"
    },
    {
     "data": {
      "text/html": [
       "Find logs at: <code>.\\wandb\\run-20240112_174601-vc8p93fc\\logs</code>"
      ],
      "text/plain": [
       "<IPython.core.display.HTML object>"
      ]
     },
     "metadata": {},
     "output_type": "display_data"
    },
    {
     "data": {
      "application/vnd.jupyter.widget-view+json": {
       "model_id": "81df9c7d0e19483584aadbfa4038e8bd",
       "version_major": 2,
       "version_minor": 0
      },
      "text/plain": [
       "VBox(children=(Label(value='Waiting for wandb.init()...\\r'), FloatProgress(value=0.016666666666666666, max=1.0…"
      ]
     },
     "metadata": {},
     "output_type": "display_data"
    },
    {
     "data": {
      "text/html": [
       "wandb version 0.16.2 is available!  To upgrade, please run:\n",
       " $ pip install wandb --upgrade"
      ],
      "text/plain": [
       "<IPython.core.display.HTML object>"
      ]
     },
     "metadata": {},
     "output_type": "display_data"
    },
    {
     "data": {
      "text/html": [
       "Tracking run with wandb version 0.14.0"
      ],
      "text/plain": [
       "<IPython.core.display.HTML object>"
      ]
     },
     "metadata": {},
     "output_type": "display_data"
    },
    {
     "data": {
      "text/html": [
       "Run data is saved locally in <code>y:\\coskun-lab\\Thomas\\23_PLA_revision\\notebooks\\wandb\\run-20240112_180033-fesdkqtg</code>"
      ],
      "text/plain": [
       "<IPython.core.display.HTML object>"
      ]
     },
     "metadata": {},
     "output_type": "display_data"
    },
    {
     "data": {
      "text/html": [
       "Syncing run <strong><a href='https://wandb.ai/thoomas/PLA_01102024_5PPI_Kfold/runs/fesdkqtg' target=\"_blank\">GAT_4_64_onehot_3</a></strong> to <a href='https://wandb.ai/thoomas/PLA_01102024_5PPI_Kfold' target=\"_blank\">Weights & Biases</a> (<a href='https://wandb.me/run' target=\"_blank\">docs</a>)<br/>"
      ],
      "text/plain": [
       "<IPython.core.display.HTML object>"
      ]
     },
     "metadata": {},
     "output_type": "display_data"
    },
    {
     "data": {
      "text/html": [
       " View project at <a href='https://wandb.ai/thoomas/PLA_01102024_5PPI_Kfold' target=\"_blank\">https://wandb.ai/thoomas/PLA_01102024_5PPI_Kfold</a>"
      ],
      "text/plain": [
       "<IPython.core.display.HTML object>"
      ]
     },
     "metadata": {},
     "output_type": "display_data"
    },
    {
     "data": {
      "text/html": [
       " View run at <a href='https://wandb.ai/thoomas/PLA_01102024_5PPI_Kfold/runs/fesdkqtg' target=\"_blank\">https://wandb.ai/thoomas/PLA_01102024_5PPI_Kfold/runs/fesdkqtg</a>"
      ],
      "text/plain": [
       "<IPython.core.display.HTML object>"
      ]
     },
     "metadata": {},
     "output_type": "display_data"
    },
    {
     "name": "stderr",
     "output_type": "stream",
     "text": [
      "Global seed set to 42\n",
      "GPU available: True (cuda), used: True\n",
      "TPU available: False, using: 0 TPU cores\n",
      "IPU available: False, using: 0 IPUs\n",
      "HPU available: False, using: 0 HPUs\n",
      "Global seed set to 42\n",
      "LOCAL_RANK: 0 - CUDA_VISIBLE_DEVICES: [0,1]\n",
      "\n",
      "  | Name        | Type             | Params\n",
      "-------------------------------------------------\n",
      "0 | x_embedding | Identity         | 0     \n",
      "1 | model       | GAT              | 86.7 K\n",
      "2 | head        | Sequential       | 2.1 K \n",
      "3 | loss_module | CrossEntropyLoss | 0     \n",
      "4 | train_acc   | BinaryAccuracy   | 0     \n",
      "5 | train_auroc | BinaryAUROC      | 0     \n",
      "6 | train_f1    | BinaryF1Score    | 0     \n",
      "7 | valid_acc   | BinaryAccuracy   | 0     \n",
      "8 | valid_auroc | BinaryAUROC      | 0     \n",
      "9 | valid_f1    | BinaryF1Score    | 0     \n",
      "-------------------------------------------------\n",
      "88.9 K    Trainable params\n",
      "0         Non-trainable params\n",
      "88.9 K    Total params\n",
      "0.355     Total estimated model params size (MB)\n"
     ]
    },
    {
     "name": "stdout",
     "output_type": "stream",
     "text": [
      "Using GAT\n"
     ]
    },
    {
     "name": "stderr",
     "output_type": "stream",
     "text": [
      "`Trainer.fit` stopped: `max_epochs=50` reached.\n"
     ]
    },
    {
     "data": {
      "text/html": [
       "Waiting for W&B process to finish... <strong style=\"color:green\">(success).</strong>"
      ],
      "text/plain": [
       "<IPython.core.display.HTML object>"
      ]
     },
     "metadata": {},
     "output_type": "display_data"
    },
    {
     "data": {
      "application/vnd.jupyter.widget-view+json": {
       "model_id": "ff40c136e12f401c805fb7367b5f2426",
       "version_major": 2,
       "version_minor": 0
      },
      "text/plain": [
       "VBox(children=(Label(value='0.001 MB of 0.001 MB uploaded (0.000 MB deduped)\\r'), FloatProgress(value=1.0, max…"
      ]
     },
     "metadata": {},
     "output_type": "display_data"
    },
    {
     "data": {
      "text/html": [
       "<style>\n",
       "    table.wandb td:nth-child(1) { padding: 0 10px; text-align: left ; width: auto;} td:nth-child(2) {text-align: left ; width: 100%}\n",
       "    .wandb-row { display: flex; flex-direction: row; flex-wrap: wrap; justify-content: flex-start; width: 100% }\n",
       "    .wandb-col { display: flex; flex-direction: column; flex-basis: 100%; flex: 1; padding: 10px; }\n",
       "    </style>\n",
       "<div class=\"wandb-row\"><div class=\"wandb-col\"><h3>Run history:</h3><br/><table class=\"wandb\"><tr><td>epoch</td><td>▁▁▁▁▂▂▂▂▂▃▃▃▃▃▃▄▄▄▄▄▅▅▅▅▅▅▆▆▆▆▆▇▇▇▇▇▇███</td></tr><tr><td>lr-Adam</td><td>▁▁▁▁▁▁▁▁▁▁▁▁▁▁▁▁▁▁▁▁▁▁▁▁▁▁▁▁▁▁▁▁▁▁▁▁▁▁▁▁</td></tr><tr><td>train_acc</td><td>▁▅▆▇▆▇▇▇▇▇█▇▇▇▇▇█▇█▇█▇▇▇▇█▇█▇▇▇█▇██▇▇▇▇▇</td></tr><tr><td>train_auc</td><td>▁▅▇▇▇▇▇▇▇▇███▇██▇▇█▇▇▇▇▇████▇▇▇████████▇</td></tr><tr><td>train_f1</td><td>▁▅▇▇▇█▇▇▇▇█▇█▇███▇▇███▇▇█▇███▇▇█▇███▇▇█▇</td></tr><tr><td>train_loss_epoch</td><td>█▅▄▃▃▂▂▂▂▃▂▁▂▂▂▂▂▂▂▂▁▂▂▂▁▁▁▁▁▂▂▁▁▂▁▁▂▁▁▂</td></tr><tr><td>train_loss_step</td><td>▆▁▄▄█▄▅▅▅▇▅▁▂▃▃▁▇▄▅▅▄▄▅▃▄</td></tr><tr><td>trainer/global_step</td><td>▁▁▁▁▂▁▂▁▂▂▃▃▃▃▄▄▂▄▂▄▂▅▃▅▃▆▆▆▃▃▇▇▇▃▇▄█▄█▄</td></tr><tr><td>val_acc</td><td>▂▁▄▂█▆█▆▇▂▄▅▆▃▄▄▅▇▆▇▇▇███▆▆▇▆▅▅▁▄▃▄▃█▇▆▃</td></tr><tr><td>val_auc</td><td>▁▃▄▅▆▆▇▇▇▇▇▇▇▇▇▇██▇▇█████▇███▇███▇▇▇████</td></tr><tr><td>val_f1</td><td>▁▁▅▃▇███████████████████████████████████</td></tr><tr><td>val_loss_epoch</td><td>█▆▅▄▃▅▃▂▃▅▆▅▄▆▇▃▄▃▄▃▄▄▂▂▁▃▃▃▂▃▅▅▆▅▅▅▂▁▅▆</td></tr><tr><td>val_loss_step</td><td>▇▆▅▃▄▃▄▂▄▆▆▅▄▇█▅▄▄▆▃▃▆▂▄▃▄▃▃▃▂▇▅▇▅▇▄▃▁▄▆</td></tr></table><br/></div><div class=\"wandb-col\"><h3>Run summary:</h3><br/><table class=\"wandb\"><tr><td>epoch</td><td>49</td></tr><tr><td>lr-Adam</td><td>0.005</td></tr><tr><td>train_acc</td><td>0.71264</td></tr><tr><td>train_auc</td><td>0.76441</td></tr><tr><td>train_f1</td><td>0.59207</td></tr><tr><td>train_loss_epoch</td><td>0.56235</td></tr><tr><td>train_loss_step</td><td>0.54825</td></tr><tr><td>trainer/global_step</td><td>249</td></tr><tr><td>val_acc</td><td>0.67434</td></tr><tr><td>val_auc</td><td>0.82278</td></tr><tr><td>val_f1</td><td>0.65979</td></tr><tr><td>val_loss_epoch</td><td>0.6176</td></tr><tr><td>val_loss_step</td><td>0.63371</td></tr></table><br/></div></div>"
      ],
      "text/plain": [
       "<IPython.core.display.HTML object>"
      ]
     },
     "metadata": {},
     "output_type": "display_data"
    },
    {
     "data": {
      "text/html": [
       " View run <strong style=\"color:#cdcd00\">GAT_4_64_onehot_3</strong> at: <a href='https://wandb.ai/thoomas/PLA_01102024_5PPI_Kfold/runs/fesdkqtg' target=\"_blank\">https://wandb.ai/thoomas/PLA_01102024_5PPI_Kfold/runs/fesdkqtg</a><br/>Synced 6 W&B file(s), 0 media file(s), 0 artifact file(s) and 0 other file(s)"
      ],
      "text/plain": [
       "<IPython.core.display.HTML object>"
      ]
     },
     "metadata": {},
     "output_type": "display_data"
    },
    {
     "data": {
      "text/html": [
       "Find logs at: <code>.\\wandb\\run-20240112_180033-fesdkqtg\\logs</code>"
      ],
      "text/plain": [
       "<IPython.core.display.HTML object>"
      ]
     },
     "metadata": {},
     "output_type": "display_data"
    },
    {
     "data": {
      "application/vnd.jupyter.widget-view+json": {
       "model_id": "69c204bda9f3477ebf1c127a8a2d868c",
       "version_major": 2,
       "version_minor": 0
      },
      "text/plain": [
       "VBox(children=(Label(value='Waiting for wandb.init()...\\r'), FloatProgress(value=0.01691666666883975, max=1.0)…"
      ]
     },
     "metadata": {},
     "output_type": "display_data"
    },
    {
     "data": {
      "text/html": [
       "wandb version 0.16.2 is available!  To upgrade, please run:\n",
       " $ pip install wandb --upgrade"
      ],
      "text/plain": [
       "<IPython.core.display.HTML object>"
      ]
     },
     "metadata": {},
     "output_type": "display_data"
    },
    {
     "data": {
      "text/html": [
       "Tracking run with wandb version 0.14.0"
      ],
      "text/plain": [
       "<IPython.core.display.HTML object>"
      ]
     },
     "metadata": {},
     "output_type": "display_data"
    },
    {
     "data": {
      "text/html": [
       "Run data is saved locally in <code>y:\\coskun-lab\\Thomas\\23_PLA_revision\\notebooks\\wandb\\run-20240112_182001-p5mjj22m</code>"
      ],
      "text/plain": [
       "<IPython.core.display.HTML object>"
      ]
     },
     "metadata": {},
     "output_type": "display_data"
    },
    {
     "data": {
      "text/html": [
       "Syncing run <strong><a href='https://wandb.ai/thoomas/PLA_01102024_5PPI_Kfold/runs/p5mjj22m' target=\"_blank\">GAT_4_64_onehot_3</a></strong> to <a href='https://wandb.ai/thoomas/PLA_01102024_5PPI_Kfold' target=\"_blank\">Weights & Biases</a> (<a href='https://wandb.me/run' target=\"_blank\">docs</a>)<br/>"
      ],
      "text/plain": [
       "<IPython.core.display.HTML object>"
      ]
     },
     "metadata": {},
     "output_type": "display_data"
    },
    {
     "data": {
      "text/html": [
       " View project at <a href='https://wandb.ai/thoomas/PLA_01102024_5PPI_Kfold' target=\"_blank\">https://wandb.ai/thoomas/PLA_01102024_5PPI_Kfold</a>"
      ],
      "text/plain": [
       "<IPython.core.display.HTML object>"
      ]
     },
     "metadata": {},
     "output_type": "display_data"
    },
    {
     "data": {
      "text/html": [
       " View run at <a href='https://wandb.ai/thoomas/PLA_01102024_5PPI_Kfold/runs/p5mjj22m' target=\"_blank\">https://wandb.ai/thoomas/PLA_01102024_5PPI_Kfold/runs/p5mjj22m</a>"
      ],
      "text/plain": [
       "<IPython.core.display.HTML object>"
      ]
     },
     "metadata": {},
     "output_type": "display_data"
    },
    {
     "name": "stderr",
     "output_type": "stream",
     "text": [
      "Global seed set to 42\n",
      "GPU available: True (cuda), used: True\n",
      "TPU available: False, using: 0 TPU cores\n",
      "IPU available: False, using: 0 IPUs\n",
      "HPU available: False, using: 0 HPUs\n",
      "Global seed set to 42\n",
      "LOCAL_RANK: 0 - CUDA_VISIBLE_DEVICES: [0,1]\n",
      "\n",
      "  | Name        | Type             | Params\n",
      "-------------------------------------------------\n",
      "0 | x_embedding | Identity         | 0     \n",
      "1 | model       | GAT              | 86.7 K\n",
      "2 | head        | Sequential       | 2.1 K \n",
      "3 | loss_module | CrossEntropyLoss | 0     \n",
      "4 | train_acc   | BinaryAccuracy   | 0     \n",
      "5 | train_auroc | BinaryAUROC      | 0     \n",
      "6 | train_f1    | BinaryF1Score    | 0     \n",
      "7 | valid_acc   | BinaryAccuracy   | 0     \n",
      "8 | valid_auroc | BinaryAUROC      | 0     \n",
      "9 | valid_f1    | BinaryF1Score    | 0     \n",
      "-------------------------------------------------\n",
      "88.9 K    Trainable params\n",
      "0         Non-trainable params\n",
      "88.9 K    Total params\n",
      "0.355     Total estimated model params size (MB)\n"
     ]
    },
    {
     "name": "stdout",
     "output_type": "stream",
     "text": [
      "Using GAT\n"
     ]
    },
    {
     "name": "stderr",
     "output_type": "stream",
     "text": [
      "`Trainer.fit` stopped: `max_epochs=50` reached.\n"
     ]
    },
    {
     "data": {
      "text/html": [
       "Waiting for W&B process to finish... <strong style=\"color:green\">(success).</strong>"
      ],
      "text/plain": [
       "<IPython.core.display.HTML object>"
      ]
     },
     "metadata": {},
     "output_type": "display_data"
    },
    {
     "data": {
      "application/vnd.jupyter.widget-view+json": {
       "model_id": "7e32649ed6734457b990cb9b65760564",
       "version_major": 2,
       "version_minor": 0
      },
      "text/plain": [
       "VBox(children=(Label(value='0.001 MB of 0.001 MB uploaded (0.000 MB deduped)\\r'), FloatProgress(value=1.0, max…"
      ]
     },
     "metadata": {},
     "output_type": "display_data"
    },
    {
     "data": {
      "text/html": [
       "<style>\n",
       "    table.wandb td:nth-child(1) { padding: 0 10px; text-align: left ; width: auto;} td:nth-child(2) {text-align: left ; width: 100%}\n",
       "    .wandb-row { display: flex; flex-direction: row; flex-wrap: wrap; justify-content: flex-start; width: 100% }\n",
       "    .wandb-col { display: flex; flex-direction: column; flex-basis: 100%; flex: 1; padding: 10px; }\n",
       "    </style>\n",
       "<div class=\"wandb-row\"><div class=\"wandb-col\"><h3>Run history:</h3><br/><table class=\"wandb\"><tr><td>epoch</td><td>▁▁▁▁▂▂▂▂▂▃▃▃▃▃▃▄▄▄▄▄▅▅▅▅▅▅▆▆▆▆▆▇▇▇▇▇▇███</td></tr><tr><td>lr-Adam</td><td>▁▁▁▁▁▁▁▁▁▁▁▁▁▁▁▁▁▁▁▁▁▁▁▁▁▁▁▁▁▁▁▁▁▁▁▁▁▁▁▁</td></tr><tr><td>train_acc</td><td>▁▁▂▃▅▆▆▆▅▆▇▇▇▇▇▆▇▆▇▇▇▇▇▆▇█▇█▇▇▇▇▇███▇▆▇▇</td></tr><tr><td>train_auc</td><td>▁▂▄▅▆▆▆▇▇▇▇█▇▇█▇▇▇▇▇█▇█▇█████████████▇█▇</td></tr><tr><td>train_f1</td><td>▁▂▁▄▆▇▆▆▆▇▇▆▇▇▇▇█▆█▇█▇█▅▇█▇█▇▇▇██▇█▇▇▇▇█</td></tr><tr><td>train_loss_epoch</td><td>█▇▆▆▅▄▃▄▃▃▂▂▂▂▂▂▂▃▂▂▂▂▂▂▁▁▂▂▂▁▂▂▂▂▂▁▂▂▁▂</td></tr><tr><td>train_loss_step</td><td>▇▅▇▄█▄▅▄▅▆▄▁▂▂▃▁█▃▃▂▂▃▄▁▂</td></tr><tr><td>trainer/global_step</td><td>▁▁▁▁▂▁▂▁▂▂▃▃▃▃▄▄▂▄▂▄▂▅▃▅▃▆▆▆▃▃▇▇▇▃▇▄█▄█▄</td></tr><tr><td>val_acc</td><td>▂▂▂▂▁▁▂▅▃▇▄█▄▅▆█▆█▇▆▃▇▃▄▃▄▄▃▄▃▅▅▇▅▆▆▄▄▆▅</td></tr><tr><td>val_auc</td><td>▁▃▃▄▄▅▅▅▆▆▆▆▇▇▇▇▇▇▇▇▇▇▇▇▆▇▇██▇▇▇▇▇▇▇████</td></tr><tr><td>val_f1</td><td>▁▁▁▁▃▃▄▆▅▇▅▇▅█▆█▇█▇▆▄▇▃▅▃▅▄▃▄▄▆▅▇▆▆▆▄▄▅▄</td></tr><tr><td>val_loss_epoch</td><td>█▇▇▅▅▅▃▂▄▄▃▃▄▄▃▂▃▄▅▃▃▅▄▃▃▃▃▃▃▁▃▂▃▂▂▃▁▁▁▁</td></tr><tr><td>val_loss_step</td><td>███▅▅▅▄▁▄▅▅▅▄▅▅▅▄▅▇▅▄▇▅▄▄▄▄▄▄▁▄▄▆▅▃▃▂▂▃▂</td></tr></table><br/></div><div class=\"wandb-col\"><h3>Run summary:</h3><br/><table class=\"wandb\"><tr><td>epoch</td><td>49</td></tr><tr><td>lr-Adam</td><td>0.005</td></tr><tr><td>train_acc</td><td>0.71018</td></tr><tr><td>train_auc</td><td>0.75511</td></tr><tr><td>train_f1</td><td>0.6047</td></tr><tr><td>train_loss_epoch</td><td>0.56808</td></tr><tr><td>train_loss_step</td><td>0.54402</td></tr><tr><td>trainer/global_step</td><td>249</td></tr><tr><td>val_acc</td><td>0.70395</td></tr><tr><td>val_auc</td><td>0.8121</td></tr><tr><td>val_f1</td><td>0.31818</td></tr><tr><td>val_loss_epoch</td><td>0.51317</td></tr><tr><td>val_loss_step</td><td>0.48652</td></tr></table><br/></div></div>"
      ],
      "text/plain": [
       "<IPython.core.display.HTML object>"
      ]
     },
     "metadata": {},
     "output_type": "display_data"
    },
    {
     "data": {
      "text/html": [
       " View run <strong style=\"color:#cdcd00\">GAT_4_64_onehot_3</strong> at: <a href='https://wandb.ai/thoomas/PLA_01102024_5PPI_Kfold/runs/p5mjj22m' target=\"_blank\">https://wandb.ai/thoomas/PLA_01102024_5PPI_Kfold/runs/p5mjj22m</a><br/>Synced 6 W&B file(s), 0 media file(s), 0 artifact file(s) and 0 other file(s)"
      ],
      "text/plain": [
       "<IPython.core.display.HTML object>"
      ]
     },
     "metadata": {},
     "output_type": "display_data"
    },
    {
     "data": {
      "text/html": [
       "Find logs at: <code>.\\wandb\\run-20240112_182001-p5mjj22m\\logs</code>"
      ],
      "text/plain": [
       "<IPython.core.display.HTML object>"
      ]
     },
     "metadata": {},
     "output_type": "display_data"
    },
    {
     "data": {
      "application/vnd.jupyter.widget-view+json": {
       "model_id": "a1e762f278e74e8b870d1985bbfc3f8a",
       "version_major": 2,
       "version_minor": 0
      },
      "text/plain": [
       "VBox(children=(Label(value='Waiting for wandb.init()...\\r'), FloatProgress(value=0.016666666666666666, max=1.0…"
      ]
     },
     "metadata": {},
     "output_type": "display_data"
    },
    {
     "data": {
      "text/html": [
       "wandb version 0.16.2 is available!  To upgrade, please run:\n",
       " $ pip install wandb --upgrade"
      ],
      "text/plain": [
       "<IPython.core.display.HTML object>"
      ]
     },
     "metadata": {},
     "output_type": "display_data"
    },
    {
     "data": {
      "text/html": [
       "Tracking run with wandb version 0.14.0"
      ],
      "text/plain": [
       "<IPython.core.display.HTML object>"
      ]
     },
     "metadata": {},
     "output_type": "display_data"
    },
    {
     "data": {
      "text/html": [
       "Run data is saved locally in <code>y:\\coskun-lab\\Thomas\\23_PLA_revision\\notebooks\\wandb\\run-20240112_183754-lx96hu1v</code>"
      ],
      "text/plain": [
       "<IPython.core.display.HTML object>"
      ]
     },
     "metadata": {},
     "output_type": "display_data"
    },
    {
     "data": {
      "text/html": [
       "Syncing run <strong><a href='https://wandb.ai/thoomas/PLA_01102024_5PPI_Kfold/runs/lx96hu1v' target=\"_blank\">GAT_4_64_onehot_3</a></strong> to <a href='https://wandb.ai/thoomas/PLA_01102024_5PPI_Kfold' target=\"_blank\">Weights & Biases</a> (<a href='https://wandb.me/run' target=\"_blank\">docs</a>)<br/>"
      ],
      "text/plain": [
       "<IPython.core.display.HTML object>"
      ]
     },
     "metadata": {},
     "output_type": "display_data"
    },
    {
     "data": {
      "text/html": [
       " View project at <a href='https://wandb.ai/thoomas/PLA_01102024_5PPI_Kfold' target=\"_blank\">https://wandb.ai/thoomas/PLA_01102024_5PPI_Kfold</a>"
      ],
      "text/plain": [
       "<IPython.core.display.HTML object>"
      ]
     },
     "metadata": {},
     "output_type": "display_data"
    },
    {
     "data": {
      "text/html": [
       " View run at <a href='https://wandb.ai/thoomas/PLA_01102024_5PPI_Kfold/runs/lx96hu1v' target=\"_blank\">https://wandb.ai/thoomas/PLA_01102024_5PPI_Kfold/runs/lx96hu1v</a>"
      ],
      "text/plain": [
       "<IPython.core.display.HTML object>"
      ]
     },
     "metadata": {},
     "output_type": "display_data"
    },
    {
     "name": "stderr",
     "output_type": "stream",
     "text": [
      "Global seed set to 42\n",
      "GPU available: True (cuda), used: True\n",
      "TPU available: False, using: 0 TPU cores\n",
      "IPU available: False, using: 0 IPUs\n",
      "HPU available: False, using: 0 HPUs\n",
      "Global seed set to 42\n",
      "LOCAL_RANK: 0 - CUDA_VISIBLE_DEVICES: [0,1]\n",
      "\n",
      "  | Name        | Type             | Params\n",
      "-------------------------------------------------\n",
      "0 | x_embedding | Identity         | 0     \n",
      "1 | model       | GAT              | 86.7 K\n",
      "2 | head        | Sequential       | 2.1 K \n",
      "3 | loss_module | CrossEntropyLoss | 0     \n",
      "4 | train_acc   | BinaryAccuracy   | 0     \n",
      "5 | train_auroc | BinaryAUROC      | 0     \n",
      "6 | train_f1    | BinaryF1Score    | 0     \n",
      "7 | valid_acc   | BinaryAccuracy   | 0     \n",
      "8 | valid_auroc | BinaryAUROC      | 0     \n",
      "9 | valid_f1    | BinaryF1Score    | 0     \n",
      "-------------------------------------------------\n",
      "88.9 K    Trainable params\n",
      "0         Non-trainable params\n",
      "88.9 K    Total params\n",
      "0.355     Total estimated model params size (MB)\n"
     ]
    },
    {
     "name": "stdout",
     "output_type": "stream",
     "text": [
      "Using GAT\n"
     ]
    },
    {
     "name": "stderr",
     "output_type": "stream",
     "text": [
      "`Trainer.fit` stopped: `max_epochs=50` reached.\n"
     ]
    },
    {
     "data": {
      "text/html": [
       "Waiting for W&B process to finish... <strong style=\"color:green\">(success).</strong>"
      ],
      "text/plain": [
       "<IPython.core.display.HTML object>"
      ]
     },
     "metadata": {},
     "output_type": "display_data"
    },
    {
     "data": {
      "application/vnd.jupyter.widget-view+json": {
       "model_id": "801e7e293eec4976b82aa7cdef79da8e",
       "version_major": 2,
       "version_minor": 0
      },
      "text/plain": [
       "VBox(children=(Label(value='0.001 MB of 0.001 MB uploaded (0.000 MB deduped)\\r'), FloatProgress(value=1.0, max…"
      ]
     },
     "metadata": {},
     "output_type": "display_data"
    },
    {
     "data": {
      "text/html": [
       "<style>\n",
       "    table.wandb td:nth-child(1) { padding: 0 10px; text-align: left ; width: auto;} td:nth-child(2) {text-align: left ; width: 100%}\n",
       "    .wandb-row { display: flex; flex-direction: row; flex-wrap: wrap; justify-content: flex-start; width: 100% }\n",
       "    .wandb-col { display: flex; flex-direction: column; flex-basis: 100%; flex: 1; padding: 10px; }\n",
       "    </style>\n",
       "<div class=\"wandb-row\"><div class=\"wandb-col\"><h3>Run history:</h3><br/><table class=\"wandb\"><tr><td>epoch</td><td>▁▁▁▁▂▂▂▂▂▃▃▃▃▃▃▄▄▄▄▄▅▅▅▅▅▅▆▆▆▆▆▇▇▇▇▇▇███</td></tr><tr><td>lr-Adam</td><td>▁▁▁▁▁▁▁▁▁▁▁▁▁▁▁▁▁▁▁▁▁▁▁▁▁▁▁▁▁▁▁▁▁▁▁▁▁▁▁▁</td></tr><tr><td>train_acc</td><td>▁▂▄▃▅▅▅▆▆▅▆▆▇▇▆▇▇▆▇▇▇▆▇▆▇▇▇▇▇▇▇▇▇▇█▇▇▇█▇</td></tr><tr><td>train_auc</td><td>▇▇██▇▆▆▆▅▅▆▄▄▄▄▄▃▄▃▃▄▂▃▃▂▂▃▂▂▂▃▂▂▁▂▁▂▁▁▁</td></tr><tr><td>train_f1</td><td>▃▁▅▅▅▆▆▆▇▆▇▆█▇▇█▇▇█▇▇▇▇▆██▆█▇▇▇▇▇▇█▇▇▇█▇</td></tr><tr><td>train_loss_epoch</td><td>█▃▂▂▁▁▁▁▁▁▁▁▁▁▁▁▁▁▁▁▁▁▁▁▁▁▁▁▁▁▁▁▁▁▁▁▁▁▁▁</td></tr><tr><td>train_loss_step</td><td>█▂▂▂▂▂▂▁▂▂▁▁▁▁▁▁▂▁▁▁▁▁▁▁▁</td></tr><tr><td>trainer/global_step</td><td>▁▁▁▁▂▁▂▁▂▂▃▃▃▃▄▄▂▄▂▄▂▅▃▅▃▆▆▆▃▃▇▇▇▃▇▄█▄█▄</td></tr><tr><td>val_acc</td><td>▃▅▃▃▃▆▇▇▆▃▃▄▁▃▁▁▂▂▄▄▃▅▆▇▅▆▇▇█▆▇▇███▇▇█▇█</td></tr><tr><td>val_auc</td><td>▇████▇▆▅▅▄▃▂▂▂▁▁▂▂▁▁▁▁▁▁▁▁▁▁▁▁▁▁▁▁▁▁▁▁▁▁</td></tr><tr><td>val_f1</td><td>▁▄▁▂▂▅▆▇█▇▇█▇▇▇▇▇▇██████████████████████</td></tr><tr><td>val_loss_epoch</td><td>▆▅█▄▅▅▃▂▂▄▅▄▆▅█▅▅▅▄▅▆▄▂▃▃▂▂▄▃▃▂▁▃▁▂▂▄▁▃▁</td></tr><tr><td>val_loss_step</td><td>▅▅▇▂▅▄▃▁▃▅▅▃▅▅█▄▅▄▄▄▄▄▂▄▄▃▃▃▄▂▄▂▄▂▃▃▅▁▂▂</td></tr></table><br/></div><div class=\"wandb-col\"><h3>Run summary:</h3><br/><table class=\"wandb\"><tr><td>epoch</td><td>49</td></tr><tr><td>lr-Adam</td><td>0.005</td></tr><tr><td>train_acc</td><td>0.72332</td></tr><tr><td>train_auc</td><td>0.28877</td></tr><tr><td>train_f1</td><td>0.60024</td></tr><tr><td>train_loss_epoch</td><td>0.54461</td></tr><tr><td>train_loss_step</td><td>0.54935</td></tr><tr><td>trainer/global_step</td><td>249</td></tr><tr><td>val_acc</td><td>0.75329</td></tr><tr><td>val_auc</td><td>0.14708</td></tr><tr><td>val_f1</td><td>0.70356</td></tr><tr><td>val_loss_epoch</td><td>0.51444</td></tr><tr><td>val_loss_step</td><td>0.493</td></tr></table><br/></div></div>"
      ],
      "text/plain": [
       "<IPython.core.display.HTML object>"
      ]
     },
     "metadata": {},
     "output_type": "display_data"
    },
    {
     "data": {
      "text/html": [
       " View run <strong style=\"color:#cdcd00\">GAT_4_64_onehot_3</strong> at: <a href='https://wandb.ai/thoomas/PLA_01102024_5PPI_Kfold/runs/lx96hu1v' target=\"_blank\">https://wandb.ai/thoomas/PLA_01102024_5PPI_Kfold/runs/lx96hu1v</a><br/>Synced 6 W&B file(s), 0 media file(s), 0 artifact file(s) and 0 other file(s)"
      ],
      "text/plain": [
       "<IPython.core.display.HTML object>"
      ]
     },
     "metadata": {},
     "output_type": "display_data"
    },
    {
     "data": {
      "text/html": [
       "Find logs at: <code>.\\wandb\\run-20240112_183754-lx96hu1v\\logs</code>"
      ],
      "text/plain": [
       "<IPython.core.display.HTML object>"
      ]
     },
     "metadata": {},
     "output_type": "display_data"
    },
    {
     "data": {
      "application/vnd.jupyter.widget-view+json": {
       "model_id": "72ad9a2cd1af4d75b7682efb8ac6d4bb",
       "version_major": 2,
       "version_minor": 0
      },
      "text/plain": [
       "VBox(children=(Label(value='Waiting for wandb.init()...\\r'), FloatProgress(value=0.01691666666883975, max=1.0)…"
      ]
     },
     "metadata": {},
     "output_type": "display_data"
    },
    {
     "data": {
      "text/html": [
       "wandb version 0.16.2 is available!  To upgrade, please run:\n",
       " $ pip install wandb --upgrade"
      ],
      "text/plain": [
       "<IPython.core.display.HTML object>"
      ]
     },
     "metadata": {},
     "output_type": "display_data"
    },
    {
     "data": {
      "text/html": [
       "Tracking run with wandb version 0.14.0"
      ],
      "text/plain": [
       "<IPython.core.display.HTML object>"
      ]
     },
     "metadata": {},
     "output_type": "display_data"
    },
    {
     "data": {
      "text/html": [
       "Run data is saved locally in <code>y:\\coskun-lab\\Thomas\\23_PLA_revision\\notebooks\\wandb\\run-20240112_185735-bic5cqg5</code>"
      ],
      "text/plain": [
       "<IPython.core.display.HTML object>"
      ]
     },
     "metadata": {},
     "output_type": "display_data"
    },
    {
     "data": {
      "text/html": [
       "Syncing run <strong><a href='https://wandb.ai/thoomas/PLA_01102024_5PPI_Kfold/runs/bic5cqg5' target=\"_blank\">GAT_4_64_onehot_3</a></strong> to <a href='https://wandb.ai/thoomas/PLA_01102024_5PPI_Kfold' target=\"_blank\">Weights & Biases</a> (<a href='https://wandb.me/run' target=\"_blank\">docs</a>)<br/>"
      ],
      "text/plain": [
       "<IPython.core.display.HTML object>"
      ]
     },
     "metadata": {},
     "output_type": "display_data"
    },
    {
     "data": {
      "text/html": [
       " View project at <a href='https://wandb.ai/thoomas/PLA_01102024_5PPI_Kfold' target=\"_blank\">https://wandb.ai/thoomas/PLA_01102024_5PPI_Kfold</a>"
      ],
      "text/plain": [
       "<IPython.core.display.HTML object>"
      ]
     },
     "metadata": {},
     "output_type": "display_data"
    },
    {
     "data": {
      "text/html": [
       " View run at <a href='https://wandb.ai/thoomas/PLA_01102024_5PPI_Kfold/runs/bic5cqg5' target=\"_blank\">https://wandb.ai/thoomas/PLA_01102024_5PPI_Kfold/runs/bic5cqg5</a>"
      ],
      "text/plain": [
       "<IPython.core.display.HTML object>"
      ]
     },
     "metadata": {},
     "output_type": "display_data"
    },
    {
     "name": "stderr",
     "output_type": "stream",
     "text": [
      "Global seed set to 42\n",
      "GPU available: True (cuda), used: True\n",
      "TPU available: False, using: 0 TPU cores\n",
      "IPU available: False, using: 0 IPUs\n",
      "HPU available: False, using: 0 HPUs\n",
      "Global seed set to 42\n",
      "LOCAL_RANK: 0 - CUDA_VISIBLE_DEVICES: [0,1]\n",
      "\n",
      "   | Name        | Type             | Params\n",
      "--------------------------------------------------\n",
      "0  | x_embedding | Identity         | 0     \n",
      "1  | model       | GAT              | 86.7 K\n",
      "2  | head        | Sequential       | 2.1 K \n",
      "3  | loss_module | CrossEntropyLoss | 0     \n",
      "4  | train_acc   | BinaryAccuracy   | 0     \n",
      "5  | train_auroc | BinaryAUROC      | 0     \n",
      "6  | train_f1    | BinaryF1Score    | 0     \n",
      "7  | valid_acc   | BinaryAccuracy   | 0     \n",
      "8  | valid_auroc | BinaryAUROC      | 0     \n",
      "9  | valid_f1    | BinaryF1Score    | 0     \n",
      "10 | pool        | GlobalAttention  | 65    \n",
      "--------------------------------------------------\n",
      "88.9 K    Trainable params\n",
      "0         Non-trainable params\n",
      "88.9 K    Total params\n",
      "0.356     Total estimated model params size (MB)\n"
     ]
    },
    {
     "name": "stdout",
     "output_type": "stream",
     "text": [
      "Using GAT\n"
     ]
    },
    {
     "name": "stderr",
     "output_type": "stream",
     "text": [
      "`Trainer.fit` stopped: `max_epochs=50` reached.\n"
     ]
    },
    {
     "data": {
      "text/html": [
       "Waiting for W&B process to finish... <strong style=\"color:green\">(success).</strong>"
      ],
      "text/plain": [
       "<IPython.core.display.HTML object>"
      ]
     },
     "metadata": {},
     "output_type": "display_data"
    },
    {
     "data": {
      "application/vnd.jupyter.widget-view+json": {
       "model_id": "1e12837bea9d402dad70b74401d887bf",
       "version_major": 2,
       "version_minor": 0
      },
      "text/plain": [
       "VBox(children=(Label(value='0.001 MB of 0.001 MB uploaded (0.000 MB deduped)\\r'), FloatProgress(value=1.0, max…"
      ]
     },
     "metadata": {},
     "output_type": "display_data"
    },
    {
     "data": {
      "text/html": [
       "<style>\n",
       "    table.wandb td:nth-child(1) { padding: 0 10px; text-align: left ; width: auto;} td:nth-child(2) {text-align: left ; width: 100%}\n",
       "    .wandb-row { display: flex; flex-direction: row; flex-wrap: wrap; justify-content: flex-start; width: 100% }\n",
       "    .wandb-col { display: flex; flex-direction: column; flex-basis: 100%; flex: 1; padding: 10px; }\n",
       "    </style>\n",
       "<div class=\"wandb-row\"><div class=\"wandb-col\"><h3>Run history:</h3><br/><table class=\"wandb\"><tr><td>epoch</td><td>▁▁▁▁▂▂▂▂▂▃▃▃▃▃▃▄▄▄▄▄▅▅▅▅▅▅▆▆▆▆▆▇▇▇▇▇▇███</td></tr><tr><td>lr-Adam</td><td>▁▁▁▁▁▁▁▁▁▁▁▁▁▁▁▁▁▁▁▁▁▁▁▁▁▁▁▁▁▁▁▁▁▁▁▁▁▁▁▁</td></tr><tr><td>train_acc</td><td>▁▃▅▆▇▇▇▇▇▇▇▇▇▇██████▇▇█▇▇██▇█▇█▇▇█▇█████</td></tr><tr><td>train_auc</td><td>▁▄▆▇▇▇██▇██▇███████████▇█████▇██████████</td></tr><tr><td>train_f1</td><td>▂▁▆▇▇▇▇▇█▇█▇▇█▇█▇█▇█▇█▇▇▇██▇▇█▇▇▇█▇█▇█▇▇</td></tr><tr><td>train_loss_epoch</td><td>█▆▄▃▂▂▂▂▂▁▂▂▁▂▂▂▂▂▂▁▁▁▁▂▁▁▁▂▁▂▁▂▁▁▁▁▁▂▂▁</td></tr><tr><td>train_loss_step</td><td>█▃▄▃▄▂▃▃▆▂▄▂▆▃▄▄▆▅▁▂▃▅▃▇▄</td></tr><tr><td>trainer/global_step</td><td>▁▁▁▁▂▁▂▁▂▂▃▃▃▃▄▄▂▄▂▄▂▅▃▅▃▆▆▆▃▃▇▇▇▃▇▄█▄█▄</td></tr><tr><td>val_acc</td><td>▄▄▅▆█▆▅▅▆▆▅▄▅▇██▇▇▇▄▅▃▅▁▄▆▅▆▅▆▇▅▆▂▆▄▅▆▆▇</td></tr><tr><td>val_auc</td><td>▁▁▂▃▆▆▆▆▇▇▇▇▇▇▇██▇██▇██▇▇██▆▇█▇▇██▇▇▇▇█▇</td></tr><tr><td>val_f1</td><td>▁▁▃▄▇██████████████████▇█████████▇██████</td></tr><tr><td>val_loss_epoch</td><td>█▆▅▄▃▄▅▄▃▅▇▅▄▁▂▂▂▂▃▄▄▆▄█▅▄▅▅▃▅▂▄▃▇▄▅▅▅▄▄</td></tr><tr><td>val_loss_step</td><td>▇▆▄▆▃▅▅▂▅▄█▅▄▁▃▂▃▃▃▄▅▆▄▅▆▄▅▄▂▆▅▄▃▆▆▄▄▇▅▆</td></tr></table><br/></div><div class=\"wandb-col\"><h3>Run summary:</h3><br/><table class=\"wandb\"><tr><td>epoch</td><td>49</td></tr><tr><td>lr-Adam</td><td>0.005</td></tr><tr><td>train_acc</td><td>0.72085</td></tr><tr><td>train_auc</td><td>0.7788</td></tr><tr><td>train_f1</td><td>0.58937</td></tr><tr><td>train_loss_epoch</td><td>0.54337</td></tr><tr><td>train_loss_step</td><td>0.56712</td></tr><tr><td>trainer/global_step</td><td>249</td></tr><tr><td>val_acc</td><td>0.71711</td></tr><tr><td>val_auc</td><td>0.82172</td></tr><tr><td>val_f1</td><td>0.6791</td></tr><tr><td>val_loss_epoch</td><td>0.58673</td></tr><tr><td>val_loss_step</td><td>0.63695</td></tr></table><br/></div></div>"
      ],
      "text/plain": [
       "<IPython.core.display.HTML object>"
      ]
     },
     "metadata": {},
     "output_type": "display_data"
    },
    {
     "data": {
      "text/html": [
       " View run <strong style=\"color:#cdcd00\">GAT_4_64_onehot_3</strong> at: <a href='https://wandb.ai/thoomas/PLA_01102024_5PPI_Kfold/runs/bic5cqg5' target=\"_blank\">https://wandb.ai/thoomas/PLA_01102024_5PPI_Kfold/runs/bic5cqg5</a><br/>Synced 6 W&B file(s), 0 media file(s), 0 artifact file(s) and 0 other file(s)"
      ],
      "text/plain": [
       "<IPython.core.display.HTML object>"
      ]
     },
     "metadata": {},
     "output_type": "display_data"
    },
    {
     "data": {
      "text/html": [
       "Find logs at: <code>.\\wandb\\run-20240112_185735-bic5cqg5\\logs</code>"
      ],
      "text/plain": [
       "<IPython.core.display.HTML object>"
      ]
     },
     "metadata": {},
     "output_type": "display_data"
    },
    {
     "data": {
      "application/vnd.jupyter.widget-view+json": {
       "model_id": "0a0cbc45f3d4424baa8fa3b257043b2a",
       "version_major": 2,
       "version_minor": 0
      },
      "text/plain": [
       "VBox(children=(Label(value='Waiting for wandb.init()...\\r'), FloatProgress(value=0.016933333330477276, max=1.0…"
      ]
     },
     "metadata": {},
     "output_type": "display_data"
    },
    {
     "data": {
      "text/html": [
       "wandb version 0.16.2 is available!  To upgrade, please run:\n",
       " $ pip install wandb --upgrade"
      ],
      "text/plain": [
       "<IPython.core.display.HTML object>"
      ]
     },
     "metadata": {},
     "output_type": "display_data"
    },
    {
     "data": {
      "text/html": [
       "Tracking run with wandb version 0.14.0"
      ],
      "text/plain": [
       "<IPython.core.display.HTML object>"
      ]
     },
     "metadata": {},
     "output_type": "display_data"
    },
    {
     "data": {
      "text/html": [
       "Run data is saved locally in <code>y:\\coskun-lab\\Thomas\\23_PLA_revision\\notebooks\\wandb\\run-20240112_191258-ovjjemy6</code>"
      ],
      "text/plain": [
       "<IPython.core.display.HTML object>"
      ]
     },
     "metadata": {},
     "output_type": "display_data"
    },
    {
     "data": {
      "text/html": [
       "Syncing run <strong><a href='https://wandb.ai/thoomas/PLA_01102024_5PPI_Kfold/runs/ovjjemy6' target=\"_blank\">GAT_4_64_onehot_3</a></strong> to <a href='https://wandb.ai/thoomas/PLA_01102024_5PPI_Kfold' target=\"_blank\">Weights & Biases</a> (<a href='https://wandb.me/run' target=\"_blank\">docs</a>)<br/>"
      ],
      "text/plain": [
       "<IPython.core.display.HTML object>"
      ]
     },
     "metadata": {},
     "output_type": "display_data"
    },
    {
     "data": {
      "text/html": [
       " View project at <a href='https://wandb.ai/thoomas/PLA_01102024_5PPI_Kfold' target=\"_blank\">https://wandb.ai/thoomas/PLA_01102024_5PPI_Kfold</a>"
      ],
      "text/plain": [
       "<IPython.core.display.HTML object>"
      ]
     },
     "metadata": {},
     "output_type": "display_data"
    },
    {
     "data": {
      "text/html": [
       " View run at <a href='https://wandb.ai/thoomas/PLA_01102024_5PPI_Kfold/runs/ovjjemy6' target=\"_blank\">https://wandb.ai/thoomas/PLA_01102024_5PPI_Kfold/runs/ovjjemy6</a>"
      ],
      "text/plain": [
       "<IPython.core.display.HTML object>"
      ]
     },
     "metadata": {},
     "output_type": "display_data"
    },
    {
     "name": "stderr",
     "output_type": "stream",
     "text": [
      "Global seed set to 42\n",
      "GPU available: True (cuda), used: True\n",
      "TPU available: False, using: 0 TPU cores\n",
      "IPU available: False, using: 0 IPUs\n",
      "HPU available: False, using: 0 HPUs\n",
      "Global seed set to 42\n",
      "LOCAL_RANK: 0 - CUDA_VISIBLE_DEVICES: [0,1]\n",
      "\n",
      "   | Name        | Type             | Params\n",
      "--------------------------------------------------\n",
      "0  | x_embedding | Identity         | 0     \n",
      "1  | model       | GAT              | 86.7 K\n",
      "2  | head        | Sequential       | 2.1 K \n",
      "3  | loss_module | CrossEntropyLoss | 0     \n",
      "4  | train_acc   | BinaryAccuracy   | 0     \n",
      "5  | train_auroc | BinaryAUROC      | 0     \n",
      "6  | train_f1    | BinaryF1Score    | 0     \n",
      "7  | valid_acc   | BinaryAccuracy   | 0     \n",
      "8  | valid_auroc | BinaryAUROC      | 0     \n",
      "9  | valid_f1    | BinaryF1Score    | 0     \n",
      "10 | pool        | Attention_module | 4.2 K \n",
      "--------------------------------------------------\n",
      "93.1 K    Trainable params\n",
      "0         Non-trainable params\n",
      "93.1 K    Total params\n",
      "0.372     Total estimated model params size (MB)\n"
     ]
    },
    {
     "name": "stdout",
     "output_type": "stream",
     "text": [
      "Using GAT\n"
     ]
    },
    {
     "name": "stderr",
     "output_type": "stream",
     "text": [
      "`Trainer.fit` stopped: `max_epochs=50` reached.\n"
     ]
    },
    {
     "data": {
      "text/html": [
       "Waiting for W&B process to finish... <strong style=\"color:green\">(success).</strong>"
      ],
      "text/plain": [
       "<IPython.core.display.HTML object>"
      ]
     },
     "metadata": {},
     "output_type": "display_data"
    },
    {
     "data": {
      "application/vnd.jupyter.widget-view+json": {
       "model_id": "d6038816f7184120871d6cdba74d8e1b",
       "version_major": 2,
       "version_minor": 0
      },
      "text/plain": [
       "VBox(children=(Label(value='0.001 MB of 0.001 MB uploaded (0.000 MB deduped)\\r'), FloatProgress(value=1.0, max…"
      ]
     },
     "metadata": {},
     "output_type": "display_data"
    },
    {
     "data": {
      "text/html": [
       "<style>\n",
       "    table.wandb td:nth-child(1) { padding: 0 10px; text-align: left ; width: auto;} td:nth-child(2) {text-align: left ; width: 100%}\n",
       "    .wandb-row { display: flex; flex-direction: row; flex-wrap: wrap; justify-content: flex-start; width: 100% }\n",
       "    .wandb-col { display: flex; flex-direction: column; flex-basis: 100%; flex: 1; padding: 10px; }\n",
       "    </style>\n",
       "<div class=\"wandb-row\"><div class=\"wandb-col\"><h3>Run history:</h3><br/><table class=\"wandb\"><tr><td>epoch</td><td>▁▁▁▁▂▂▂▂▂▃▃▃▃▃▃▄▄▄▄▄▅▅▅▅▅▅▆▆▆▆▆▇▇▇▇▇▇███</td></tr><tr><td>lr-Adam</td><td>▁▁▁▁▁▁▁▁▁▁▁▁▁▁▁▁▁▁▁▁▁▁▁▁▁▁▁▁▁▁▁▁▁▁▁▁▁▁▁▁</td></tr><tr><td>train_acc</td><td>▁▃▆▆▆▇▆▇█▇▇█▇▇▇▇█▇▇▇▇▇█▇▇██▇█▇▇▇▇▇▇▇████</td></tr><tr><td>train_auc</td><td>▁▅▆▇▇▇▇▇█▇███▇▇███▇▇███████████▇▇███████</td></tr><tr><td>train_f1</td><td>▁▁▇▇▇▇▇▇██▇█▇▇▇▆█▇▇▇█▇██▇█▇█▇▇▇▇▇█▇▇▇▇██</td></tr><tr><td>train_loss_epoch</td><td>█▆▄▃▃▂▂▃▂▂▂▂▂▂▂▂▂▂▂▂▂▂▁▂▂▂▁▁▂▂▂▂▂▂▁▂▂▂▁▂</td></tr><tr><td>train_loss_step</td><td>█▃▆▄▄▅▇▆▁▄▅█▄▂▅▃▄▃█▆▄▆▄▄▄</td></tr><tr><td>trainer/global_step</td><td>▁▁▁▁▂▁▂▁▂▂▃▃▃▃▄▄▂▄▂▄▂▅▃▅▃▆▆▆▃▃▇▇▇▃▇▄█▄█▄</td></tr><tr><td>val_acc</td><td>▅▅▆█▆▆▁▅▄▅▆▆▆▅▇▇▇▇▆▇▇▇▇▇▆▆▅▄▄▄▆▅▄▄▅▄█▇▇▄</td></tr><tr><td>val_auc</td><td>▁▂▄▅▅▅▅▅▆▆▆▆▇▇▆▆▇▆▇▇▇▇▇▇▇▇▇▇████████████</td></tr><tr><td>val_f1</td><td>▁▁▃▇██▇█▇██████████████████▇▇▇██▇▇█▇███▇</td></tr><tr><td>val_loss_epoch</td><td>▆▅▄▃▅▄█▆▆▆▅▆▃▅▃▄▁▃▅▃▁▄▄▃▄▄▅▆▅▆▃▅▅▆▄▇▃▃▃▅</td></tr><tr><td>val_loss_step</td><td>▆▅▃▂▄▄▆▅▆▅▆█▃▄▂▄▁▁▅▂▃▅▅▂▄▃▆▄▄▅▄▃▄▇▆▁▄▃▃▄</td></tr></table><br/></div><div class=\"wandb-col\"><h3>Run summary:</h3><br/><table class=\"wandb\"><tr><td>epoch</td><td>49</td></tr><tr><td>lr-Adam</td><td>0.005</td></tr><tr><td>train_acc</td><td>0.72414</td></tr><tr><td>train_auc</td><td>0.77991</td></tr><tr><td>train_f1</td><td>0.64706</td></tr><tr><td>train_loss_epoch</td><td>0.54893</td></tr><tr><td>train_loss_step</td><td>0.53748</td></tr><tr><td>trainer/global_step</td><td>249</td></tr><tr><td>val_acc</td><td>0.63158</td></tr><tr><td>val_auc</td><td>0.82602</td></tr><tr><td>val_f1</td><td>0.63399</td></tr><tr><td>val_loss_epoch</td><td>0.62634</td></tr><tr><td>val_loss_step</td><td>0.60425</td></tr></table><br/></div></div>"
      ],
      "text/plain": [
       "<IPython.core.display.HTML object>"
      ]
     },
     "metadata": {},
     "output_type": "display_data"
    },
    {
     "data": {
      "text/html": [
       " View run <strong style=\"color:#cdcd00\">GAT_4_64_onehot_3</strong> at: <a href='https://wandb.ai/thoomas/PLA_01102024_5PPI_Kfold/runs/ovjjemy6' target=\"_blank\">https://wandb.ai/thoomas/PLA_01102024_5PPI_Kfold/runs/ovjjemy6</a><br/>Synced 6 W&B file(s), 0 media file(s), 0 artifact file(s) and 0 other file(s)"
      ],
      "text/plain": [
       "<IPython.core.display.HTML object>"
      ]
     },
     "metadata": {},
     "output_type": "display_data"
    },
    {
     "data": {
      "text/html": [
       "Find logs at: <code>.\\wandb\\run-20240112_191258-ovjjemy6\\logs</code>"
      ],
      "text/plain": [
       "<IPython.core.display.HTML object>"
      ]
     },
     "metadata": {},
     "output_type": "display_data"
    },
    {
     "data": {
      "application/vnd.jupyter.widget-view+json": {
       "model_id": "5e434811c4e6439ba91deb00b1057a78",
       "version_major": 2,
       "version_minor": 0
      },
      "text/plain": [
       "VBox(children=(Label(value='Waiting for wandb.init()...\\r'), FloatProgress(value=0.01691666666883975, max=1.0)…"
      ]
     },
     "metadata": {},
     "output_type": "display_data"
    },
    {
     "data": {
      "text/html": [
       "wandb version 0.16.2 is available!  To upgrade, please run:\n",
       " $ pip install wandb --upgrade"
      ],
      "text/plain": [
       "<IPython.core.display.HTML object>"
      ]
     },
     "metadata": {},
     "output_type": "display_data"
    },
    {
     "data": {
      "text/html": [
       "Tracking run with wandb version 0.14.0"
      ],
      "text/plain": [
       "<IPython.core.display.HTML object>"
      ]
     },
     "metadata": {},
     "output_type": "display_data"
    },
    {
     "data": {
      "text/html": [
       "Run data is saved locally in <code>y:\\coskun-lab\\Thomas\\23_PLA_revision\\notebooks\\wandb\\run-20240112_192840-jau2sgyu</code>"
      ],
      "text/plain": [
       "<IPython.core.display.HTML object>"
      ]
     },
     "metadata": {},
     "output_type": "display_data"
    },
    {
     "data": {
      "text/html": [
       "Syncing run <strong><a href='https://wandb.ai/thoomas/PLA_01102024_5PPI_Kfold/runs/jau2sgyu' target=\"_blank\">GAT_2_16_onehot_4</a></strong> to <a href='https://wandb.ai/thoomas/PLA_01102024_5PPI_Kfold' target=\"_blank\">Weights & Biases</a> (<a href='https://wandb.me/run' target=\"_blank\">docs</a>)<br/>"
      ],
      "text/plain": [
       "<IPython.core.display.HTML object>"
      ]
     },
     "metadata": {},
     "output_type": "display_data"
    },
    {
     "data": {
      "text/html": [
       " View project at <a href='https://wandb.ai/thoomas/PLA_01102024_5PPI_Kfold' target=\"_blank\">https://wandb.ai/thoomas/PLA_01102024_5PPI_Kfold</a>"
      ],
      "text/plain": [
       "<IPython.core.display.HTML object>"
      ]
     },
     "metadata": {},
     "output_type": "display_data"
    },
    {
     "data": {
      "text/html": [
       " View run at <a href='https://wandb.ai/thoomas/PLA_01102024_5PPI_Kfold/runs/jau2sgyu' target=\"_blank\">https://wandb.ai/thoomas/PLA_01102024_5PPI_Kfold/runs/jau2sgyu</a>"
      ],
      "text/plain": [
       "<IPython.core.display.HTML object>"
      ]
     },
     "metadata": {},
     "output_type": "display_data"
    },
    {
     "name": "stderr",
     "output_type": "stream",
     "text": [
      "Global seed set to 42\n",
      "GPU available: True (cuda), used: True\n",
      "TPU available: False, using: 0 TPU cores\n",
      "IPU available: False, using: 0 IPUs\n",
      "HPU available: False, using: 0 HPUs\n",
      "Global seed set to 42\n",
      "LOCAL_RANK: 0 - CUDA_VISIBLE_DEVICES: [0,1]\n",
      "\n",
      "  | Name        | Type             | Params\n",
      "-------------------------------------------------\n",
      "0 | x_embedding | Identity         | 0     \n",
      "1 | model       | GAT              | 5.0 K \n",
      "2 | head        | Sequential       | 154   \n",
      "3 | loss_module | CrossEntropyLoss | 0     \n",
      "4 | train_acc   | BinaryAccuracy   | 0     \n",
      "5 | train_auroc | BinaryAUROC      | 0     \n",
      "6 | train_f1    | BinaryF1Score    | 0     \n",
      "7 | valid_acc   | BinaryAccuracy   | 0     \n",
      "8 | valid_auroc | BinaryAUROC      | 0     \n",
      "9 | valid_f1    | BinaryF1Score    | 0     \n",
      "-------------------------------------------------\n",
      "5.2 K     Trainable params\n",
      "0         Non-trainable params\n",
      "5.2 K     Total params\n",
      "0.021     Total estimated model params size (MB)\n"
     ]
    },
    {
     "name": "stdout",
     "output_type": "stream",
     "text": [
      "Using GAT\n"
     ]
    },
    {
     "name": "stderr",
     "output_type": "stream",
     "text": [
      "`Trainer.fit` stopped: `max_epochs=50` reached.\n"
     ]
    },
    {
     "data": {
      "text/html": [
       "Waiting for W&B process to finish... <strong style=\"color:green\">(success).</strong>"
      ],
      "text/plain": [
       "<IPython.core.display.HTML object>"
      ]
     },
     "metadata": {},
     "output_type": "display_data"
    },
    {
     "data": {
      "application/vnd.jupyter.widget-view+json": {
       "model_id": "89cebe56f76044819ee0a210566b01d1",
       "version_major": 2,
       "version_minor": 0
      },
      "text/plain": [
       "VBox(children=(Label(value='0.001 MB of 0.001 MB uploaded (0.000 MB deduped)\\r'), FloatProgress(value=1.0, max…"
      ]
     },
     "metadata": {},
     "output_type": "display_data"
    },
    {
     "data": {
      "text/html": [
       "<style>\n",
       "    table.wandb td:nth-child(1) { padding: 0 10px; text-align: left ; width: auto;} td:nth-child(2) {text-align: left ; width: 100%}\n",
       "    .wandb-row { display: flex; flex-direction: row; flex-wrap: wrap; justify-content: flex-start; width: 100% }\n",
       "    .wandb-col { display: flex; flex-direction: column; flex-basis: 100%; flex: 1; padding: 10px; }\n",
       "    </style>\n",
       "<div class=\"wandb-row\"><div class=\"wandb-col\"><h3>Run history:</h3><br/><table class=\"wandb\"><tr><td>epoch</td><td>▁▁▁▁▂▂▂▂▂▃▃▃▃▃▃▄▄▄▄▄▅▅▅▅▅▅▆▆▆▆▆▇▇▇▇▇▇███</td></tr><tr><td>lr-Adam</td><td>▁▁▁▁▁▁▁▁▁▁▁▁▁▁▁▁▁▁▁▁▁▁▁▁▁▁▁▁▁▁▁▁▁▁▁▁▁▁▁▁</td></tr><tr><td>train_acc</td><td>▁▅▆▅▆▆▇▇█▇██▇▇███████▇██████████████▇█▇█</td></tr><tr><td>train_auc</td><td>▁▁▂▂▄▄▆▆▇▇▇█▇▇▇██▇███▇██████████▇███▇█▇█</td></tr><tr><td>train_f1</td><td>▇▃▁▁▂▁▄▆████▇▇▇█▇████▇████▇█▇▇▇█▇█▇▇▇█▇▇</td></tr><tr><td>train_loss_epoch</td><td>█▆▆▅▄▄▃▃▂▂▂▂▂▂▂▁▂▂▁▂▂▂▁▂▁▁▁▁▁▁▂▁▂▁▁▁▂▁▂▁</td></tr><tr><td>train_loss_step</td><td>█▆▆▄▁▃▁▂▃▄▂▃▅▂▃▂▃▃▅▁▅▄▇▄▃</td></tr><tr><td>trainer/global_step</td><td>▁▁▁▁▂▁▂▁▂▂▃▃▃▃▄▄▂▄▂▄▂▅▃▅▃▆▆▆▃▃▇▇▇▃▇▄█▄█▄</td></tr><tr><td>val_acc</td><td>▁▄▄▄▄▅▇█▇▆▆▇▇█▇█▇██████▇████████▇███████</td></tr><tr><td>val_auc</td><td>▁▄▇██████▇▇▇████████████████████████████</td></tr><tr><td>val_f1</td><td>▆▁▁▁▁▃▆▇█████████████▇█▇█▇▇█▇███████████</td></tr><tr><td>val_loss_epoch</td><td>█▇▇▇▆▆▆▄▄▄▄▄▃▄▃▃▂▃▂▂▃▄▂▄▃▁▅▁▆▄▄▃▄▄▁▂▂▂▄▂</td></tr><tr><td>val_loss_step</td><td>▇▆▆▆▅▅▆▃▄▅▄▄▄▄▂▃▄▃▁▃▃▅▂▃▃▁▃▃█▅▃▃▄▅▄▃▁▂▃▃</td></tr></table><br/></div><div class=\"wandb-col\"><h3>Run summary:</h3><br/><table class=\"wandb\"><tr><td>epoch</td><td>49</td></tr><tr><td>lr-Adam</td><td>0.005</td></tr><tr><td>train_acc</td><td>0.70936</td></tr><tr><td>train_auc</td><td>0.77458</td></tr><tr><td>train_f1</td><td>0.51507</td></tr><tr><td>train_loss_epoch</td><td>0.54722</td></tr><tr><td>train_loss_step</td><td>0.57364</td></tr><tr><td>trainer/global_step</td><td>249</td></tr><tr><td>val_acc</td><td>0.72039</td></tr><tr><td>val_auc</td><td>0.77856</td></tr><tr><td>val_f1</td><td>0.68864</td></tr><tr><td>val_loss_epoch</td><td>0.56325</td></tr><tr><td>val_loss_step</td><td>0.5496</td></tr></table><br/></div></div>"
      ],
      "text/plain": [
       "<IPython.core.display.HTML object>"
      ]
     },
     "metadata": {},
     "output_type": "display_data"
    },
    {
     "data": {
      "text/html": [
       " View run <strong style=\"color:#cdcd00\">GAT_2_16_onehot_4</strong> at: <a href='https://wandb.ai/thoomas/PLA_01102024_5PPI_Kfold/runs/jau2sgyu' target=\"_blank\">https://wandb.ai/thoomas/PLA_01102024_5PPI_Kfold/runs/jau2sgyu</a><br/>Synced 6 W&B file(s), 0 media file(s), 0 artifact file(s) and 0 other file(s)"
      ],
      "text/plain": [
       "<IPython.core.display.HTML object>"
      ]
     },
     "metadata": {},
     "output_type": "display_data"
    },
    {
     "data": {
      "text/html": [
       "Find logs at: <code>.\\wandb\\run-20240112_192840-jau2sgyu\\logs</code>"
      ],
      "text/plain": [
       "<IPython.core.display.HTML object>"
      ]
     },
     "metadata": {},
     "output_type": "display_data"
    },
    {
     "data": {
      "application/vnd.jupyter.widget-view+json": {
       "model_id": "83aa746551a94e1d91a44a1b44841dc7",
       "version_major": 2,
       "version_minor": 0
      },
      "text/plain": [
       "VBox(children=(Label(value='Waiting for wandb.init()...\\r'), FloatProgress(value=0.016666666666666666, max=1.0…"
      ]
     },
     "metadata": {},
     "output_type": "display_data"
    },
    {
     "data": {
      "text/html": [
       "wandb version 0.16.2 is available!  To upgrade, please run:\n",
       " $ pip install wandb --upgrade"
      ],
      "text/plain": [
       "<IPython.core.display.HTML object>"
      ]
     },
     "metadata": {},
     "output_type": "display_data"
    },
    {
     "data": {
      "text/html": [
       "Tracking run with wandb version 0.14.0"
      ],
      "text/plain": [
       "<IPython.core.display.HTML object>"
      ]
     },
     "metadata": {},
     "output_type": "display_data"
    },
    {
     "data": {
      "text/html": [
       "Run data is saved locally in <code>y:\\coskun-lab\\Thomas\\23_PLA_revision\\notebooks\\wandb\\run-20240112_194344-au4i943z</code>"
      ],
      "text/plain": [
       "<IPython.core.display.HTML object>"
      ]
     },
     "metadata": {},
     "output_type": "display_data"
    },
    {
     "data": {
      "text/html": [
       "Syncing run <strong><a href='https://wandb.ai/thoomas/PLA_01102024_5PPI_Kfold/runs/au4i943z' target=\"_blank\">GAT_2_16_onehot_4</a></strong> to <a href='https://wandb.ai/thoomas/PLA_01102024_5PPI_Kfold' target=\"_blank\">Weights & Biases</a> (<a href='https://wandb.me/run' target=\"_blank\">docs</a>)<br/>"
      ],
      "text/plain": [
       "<IPython.core.display.HTML object>"
      ]
     },
     "metadata": {},
     "output_type": "display_data"
    },
    {
     "data": {
      "text/html": [
       " View project at <a href='https://wandb.ai/thoomas/PLA_01102024_5PPI_Kfold' target=\"_blank\">https://wandb.ai/thoomas/PLA_01102024_5PPI_Kfold</a>"
      ],
      "text/plain": [
       "<IPython.core.display.HTML object>"
      ]
     },
     "metadata": {},
     "output_type": "display_data"
    },
    {
     "data": {
      "text/html": [
       " View run at <a href='https://wandb.ai/thoomas/PLA_01102024_5PPI_Kfold/runs/au4i943z' target=\"_blank\">https://wandb.ai/thoomas/PLA_01102024_5PPI_Kfold/runs/au4i943z</a>"
      ],
      "text/plain": [
       "<IPython.core.display.HTML object>"
      ]
     },
     "metadata": {},
     "output_type": "display_data"
    },
    {
     "name": "stderr",
     "output_type": "stream",
     "text": [
      "Global seed set to 42\n",
      "GPU available: True (cuda), used: True\n",
      "TPU available: False, using: 0 TPU cores\n",
      "IPU available: False, using: 0 IPUs\n",
      "HPU available: False, using: 0 HPUs\n",
      "Global seed set to 42\n",
      "LOCAL_RANK: 0 - CUDA_VISIBLE_DEVICES: [0,1]\n",
      "\n",
      "  | Name        | Type             | Params\n",
      "-------------------------------------------------\n",
      "0 | x_embedding | Identity         | 0     \n",
      "1 | model       | GAT              | 5.0 K \n",
      "2 | head        | Sequential       | 154   \n",
      "3 | loss_module | CrossEntropyLoss | 0     \n",
      "4 | train_acc   | BinaryAccuracy   | 0     \n",
      "5 | train_auroc | BinaryAUROC      | 0     \n",
      "6 | train_f1    | BinaryF1Score    | 0     \n",
      "7 | valid_acc   | BinaryAccuracy   | 0     \n",
      "8 | valid_auroc | BinaryAUROC      | 0     \n",
      "9 | valid_f1    | BinaryF1Score    | 0     \n",
      "-------------------------------------------------\n",
      "5.2 K     Trainable params\n",
      "0         Non-trainable params\n",
      "5.2 K     Total params\n",
      "0.021     Total estimated model params size (MB)\n"
     ]
    },
    {
     "name": "stdout",
     "output_type": "stream",
     "text": [
      "Using GAT\n"
     ]
    },
    {
     "name": "stderr",
     "output_type": "stream",
     "text": [
      "`Trainer.fit` stopped: `max_epochs=50` reached.\n"
     ]
    },
    {
     "data": {
      "text/html": [
       "Waiting for W&B process to finish... <strong style=\"color:green\">(success).</strong>"
      ],
      "text/plain": [
       "<IPython.core.display.HTML object>"
      ]
     },
     "metadata": {},
     "output_type": "display_data"
    },
    {
     "data": {
      "application/vnd.jupyter.widget-view+json": {
       "model_id": "d6c11b825be54ef3ba730ba1b40bb5a7",
       "version_major": 2,
       "version_minor": 0
      },
      "text/plain": [
       "VBox(children=(Label(value='0.001 MB of 0.001 MB uploaded (0.000 MB deduped)\\r'), FloatProgress(value=1.0, max…"
      ]
     },
     "metadata": {},
     "output_type": "display_data"
    },
    {
     "data": {
      "text/html": [
       "<style>\n",
       "    table.wandb td:nth-child(1) { padding: 0 10px; text-align: left ; width: auto;} td:nth-child(2) {text-align: left ; width: 100%}\n",
       "    .wandb-row { display: flex; flex-direction: row; flex-wrap: wrap; justify-content: flex-start; width: 100% }\n",
       "    .wandb-col { display: flex; flex-direction: column; flex-basis: 100%; flex: 1; padding: 10px; }\n",
       "    </style>\n",
       "<div class=\"wandb-row\"><div class=\"wandb-col\"><h3>Run history:</h3><br/><table class=\"wandb\"><tr><td>epoch</td><td>▁▁▁▁▂▂▂▂▂▃▃▃▃▃▃▄▄▄▄▄▅▅▅▅▅▅▆▆▆▆▆▇▇▇▇▇▇███</td></tr><tr><td>lr-Adam</td><td>▁▁▁▁▁▁▁▁▁▁▁▁▁▁▁▁▁▁▁▁▁▁▁▁▁▁▁▁▁▁▁▁▁▁▁▁▁▁▁▁</td></tr><tr><td>train_acc</td><td>▁▅▆▅▆▆▆▆▆▆▇▆▇▇▇▇▇▇▇▇▇▇█▇█▇▇▇▇▇██▇▇▇▇▇█▇█</td></tr><tr><td>train_auc</td><td>▁▁▂▂▄▃▄▄▅▅▆▅▆▆▆▆▆▇▇▇▇▇█▇▇▇▇▇▇█▇▇▇▇▇▇█▇▇█</td></tr><tr><td>train_f1</td><td>█▃▂▂▃▁▂▃▂▃▄▄▆▆▅▅▆▇▇▇▇▇█▇█▇▆▇▇▇▇█▆▇▇▇▇▇▇▇</td></tr><tr><td>train_loss_epoch</td><td>█▆▆▅▄▅▄▄▄▄▃▄▃▃▃▃▃▃▂▂▂▂▁▃▂▂▂▂▂▁▂▂▂▂▂▂▂▂▂▁</td></tr><tr><td>train_loss_step</td><td>█▆▆▆▄▄▄▄▄█▄▄▆▁▄▄▃▅▆▁▄▄▆▄▂</td></tr><tr><td>trainer/global_step</td><td>▁▁▁▁▂▁▂▁▂▂▃▃▃▃▄▄▂▄▂▄▂▅▃▅▃▆▆▆▃▃▇▇▇▃▇▄█▄█▄</td></tr><tr><td>val_acc</td><td>▁▅▅▆▅▆▆▇▇█▇▇▇█▇█▇▇▇▇▇██▇██▇█████████████</td></tr><tr><td>val_auc</td><td>▁▄▆▇▇▇▇▇▇▇▇▇▇▇▇█████████████████████████</td></tr><tr><td>val_f1</td><td>█▁▁▅▂▂▄▅▆▇▇██▇▇▇▇▇██▇▇█▆█▇▇█▇▇▇███▇▇▇▇▇▇</td></tr><tr><td>val_loss_epoch</td><td>█▇▇▇▆▆▇▆▅▄▅▅▄▄▄▄▃▃▃▃▃▃▂▃▂▂▄▁▄▃▄▂▃▃▁▂▁▁▄▃</td></tr><tr><td>val_loss_step</td><td>███▇▇▆▇▆▆▆▅▅▅▅▄▄▄▃▄▃▃▅▁▄▄▂▄▃▆▄▃▃▅▄▃▃▁▁▃▅</td></tr></table><br/></div><div class=\"wandb-col\"><h3>Run summary:</h3><br/><table class=\"wandb\"><tr><td>epoch</td><td>49</td></tr><tr><td>lr-Adam</td><td>0.005</td></tr><tr><td>train_acc</td><td>0.69622</td></tr><tr><td>train_auc</td><td>0.74241</td></tr><tr><td>train_f1</td><td>0.45906</td></tr><tr><td>train_loss_epoch</td><td>0.56716</td></tr><tr><td>train_loss_step</td><td>0.55063</td></tr><tr><td>trainer/global_step</td><td>249</td></tr><tr><td>val_acc</td><td>0.67434</td></tr><tr><td>val_auc</td><td>0.75442</td></tr><tr><td>val_f1</td><td>0.54378</td></tr><tr><td>val_loss_epoch</td><td>0.61562</td></tr><tr><td>val_loss_step</td><td>0.64119</td></tr></table><br/></div></div>"
      ],
      "text/plain": [
       "<IPython.core.display.HTML object>"
      ]
     },
     "metadata": {},
     "output_type": "display_data"
    },
    {
     "data": {
      "text/html": [
       " View run <strong style=\"color:#cdcd00\">GAT_2_16_onehot_4</strong> at: <a href='https://wandb.ai/thoomas/PLA_01102024_5PPI_Kfold/runs/au4i943z' target=\"_blank\">https://wandb.ai/thoomas/PLA_01102024_5PPI_Kfold/runs/au4i943z</a><br/>Synced 6 W&B file(s), 0 media file(s), 0 artifact file(s) and 0 other file(s)"
      ],
      "text/plain": [
       "<IPython.core.display.HTML object>"
      ]
     },
     "metadata": {},
     "output_type": "display_data"
    },
    {
     "data": {
      "text/html": [
       "Find logs at: <code>.\\wandb\\run-20240112_194344-au4i943z\\logs</code>"
      ],
      "text/plain": [
       "<IPython.core.display.HTML object>"
      ]
     },
     "metadata": {},
     "output_type": "display_data"
    },
    {
     "data": {
      "application/vnd.jupyter.widget-view+json": {
       "model_id": "0bf7f65058fe401cbd4c68600010acf3",
       "version_major": 2,
       "version_minor": 0
      },
      "text/plain": [
       "VBox(children=(Label(value='Waiting for wandb.init()...\\r'), FloatProgress(value=0.016666666666666666, max=1.0…"
      ]
     },
     "metadata": {},
     "output_type": "display_data"
    },
    {
     "data": {
      "text/html": [
       "wandb version 0.16.2 is available!  To upgrade, please run:\n",
       " $ pip install wandb --upgrade"
      ],
      "text/plain": [
       "<IPython.core.display.HTML object>"
      ]
     },
     "metadata": {},
     "output_type": "display_data"
    },
    {
     "data": {
      "text/html": [
       "Tracking run with wandb version 0.14.0"
      ],
      "text/plain": [
       "<IPython.core.display.HTML object>"
      ]
     },
     "metadata": {},
     "output_type": "display_data"
    },
    {
     "data": {
      "text/html": [
       "Run data is saved locally in <code>y:\\coskun-lab\\Thomas\\23_PLA_revision\\notebooks\\wandb\\run-20240112_195824-a822w4bm</code>"
      ],
      "text/plain": [
       "<IPython.core.display.HTML object>"
      ]
     },
     "metadata": {},
     "output_type": "display_data"
    },
    {
     "data": {
      "text/html": [
       "Syncing run <strong><a href='https://wandb.ai/thoomas/PLA_01102024_5PPI_Kfold/runs/a822w4bm' target=\"_blank\">GAT_2_16_onehot_4</a></strong> to <a href='https://wandb.ai/thoomas/PLA_01102024_5PPI_Kfold' target=\"_blank\">Weights & Biases</a> (<a href='https://wandb.me/run' target=\"_blank\">docs</a>)<br/>"
      ],
      "text/plain": [
       "<IPython.core.display.HTML object>"
      ]
     },
     "metadata": {},
     "output_type": "display_data"
    },
    {
     "data": {
      "text/html": [
       " View project at <a href='https://wandb.ai/thoomas/PLA_01102024_5PPI_Kfold' target=\"_blank\">https://wandb.ai/thoomas/PLA_01102024_5PPI_Kfold</a>"
      ],
      "text/plain": [
       "<IPython.core.display.HTML object>"
      ]
     },
     "metadata": {},
     "output_type": "display_data"
    },
    {
     "data": {
      "text/html": [
       " View run at <a href='https://wandb.ai/thoomas/PLA_01102024_5PPI_Kfold/runs/a822w4bm' target=\"_blank\">https://wandb.ai/thoomas/PLA_01102024_5PPI_Kfold/runs/a822w4bm</a>"
      ],
      "text/plain": [
       "<IPython.core.display.HTML object>"
      ]
     },
     "metadata": {},
     "output_type": "display_data"
    },
    {
     "name": "stderr",
     "output_type": "stream",
     "text": [
      "Global seed set to 42\n",
      "GPU available: True (cuda), used: True\n",
      "TPU available: False, using: 0 TPU cores\n",
      "IPU available: False, using: 0 IPUs\n",
      "HPU available: False, using: 0 HPUs\n",
      "Global seed set to 42\n",
      "LOCAL_RANK: 0 - CUDA_VISIBLE_DEVICES: [0,1]\n",
      "\n",
      "  | Name        | Type             | Params\n",
      "-------------------------------------------------\n",
      "0 | x_embedding | Identity         | 0     \n",
      "1 | model       | GAT              | 5.0 K \n",
      "2 | head        | Sequential       | 154   \n",
      "3 | loss_module | CrossEntropyLoss | 0     \n",
      "4 | train_acc   | BinaryAccuracy   | 0     \n",
      "5 | train_auroc | BinaryAUROC      | 0     \n",
      "6 | train_f1    | BinaryF1Score    | 0     \n",
      "7 | valid_acc   | BinaryAccuracy   | 0     \n",
      "8 | valid_auroc | BinaryAUROC      | 0     \n",
      "9 | valid_f1    | BinaryF1Score    | 0     \n",
      "-------------------------------------------------\n",
      "5.2 K     Trainable params\n",
      "0         Non-trainable params\n",
      "5.2 K     Total params\n",
      "0.021     Total estimated model params size (MB)\n"
     ]
    },
    {
     "name": "stdout",
     "output_type": "stream",
     "text": [
      "Using GAT\n"
     ]
    },
    {
     "name": "stderr",
     "output_type": "stream",
     "text": [
      "`Trainer.fit` stopped: `max_epochs=50` reached.\n"
     ]
    },
    {
     "data": {
      "text/html": [
       "Waiting for W&B process to finish... <strong style=\"color:green\">(success).</strong>"
      ],
      "text/plain": [
       "<IPython.core.display.HTML object>"
      ]
     },
     "metadata": {},
     "output_type": "display_data"
    },
    {
     "data": {
      "application/vnd.jupyter.widget-view+json": {
       "model_id": "846df9b9ceef48aa9b4bb3a90769b96b",
       "version_major": 2,
       "version_minor": 0
      },
      "text/plain": [
       "VBox(children=(Label(value='0.001 MB of 0.001 MB uploaded (0.000 MB deduped)\\r'), FloatProgress(value=1.0, max…"
      ]
     },
     "metadata": {},
     "output_type": "display_data"
    },
    {
     "data": {
      "text/html": [
       "<style>\n",
       "    table.wandb td:nth-child(1) { padding: 0 10px; text-align: left ; width: auto;} td:nth-child(2) {text-align: left ; width: 100%}\n",
       "    .wandb-row { display: flex; flex-direction: row; flex-wrap: wrap; justify-content: flex-start; width: 100% }\n",
       "    .wandb-col { display: flex; flex-direction: column; flex-basis: 100%; flex: 1; padding: 10px; }\n",
       "    </style>\n",
       "<div class=\"wandb-row\"><div class=\"wandb-col\"><h3>Run history:</h3><br/><table class=\"wandb\"><tr><td>epoch</td><td>▁▁▁▁▂▂▂▂▂▃▃▃▃▃▃▄▄▄▄▄▅▅▅▅▅▅▆▆▆▆▆▇▇▇▇▇▇███</td></tr><tr><td>lr-Adam</td><td>▁▁▁▁▁▁▁▁▁▁▁▁▁▁▁▁▁▁▁▁▁▁▁▁▁▁▁▁▁▁▁▁▁▁▁▁▁▁▁▁</td></tr><tr><td>train_acc</td><td>▂▁▁▃▃▄▄▅▅▆▆▆▆▆▇▇▇▇▇▇▇▇▇▇▇█▇▇▇▇█▇█▇▇█▇██▇</td></tr><tr><td>train_auc</td><td>▁▃▃▃▅▄▄▅▆▇▇▇▇▇▇▇▇▇▇▇▇▇▇▇▇█▇█▇▇▇█▇███▇███</td></tr><tr><td>train_f1</td><td>▁▃▃▃▄▄▅▆▆▆█▇▇▇▇█▇█▇▇▆▇██▇█▇▇▇▇▇█▇█▇██▇█▆</td></tr><tr><td>train_loss_epoch</td><td>█▄▃▂▂▂▂▁▁▁▁▁▁▁▁▁▁▁▁▁▁▁▁▁▁▁▁▁▁▁▁▁▁▁▁▁▁▁▁▁</td></tr><tr><td>train_loss_step</td><td>█▄▂▂▁▂▁▁▁▂▂▂▂▁▂▁▁▂▂▁▂▁▃▂▂</td></tr><tr><td>trainer/global_step</td><td>▁▁▁▁▂▁▂▁▂▂▃▃▃▃▄▄▂▄▂▄▂▅▃▅▃▆▆▆▃▃▇▇▇▃▇▄█▄█▄</td></tr><tr><td>val_acc</td><td>▄▁▅▄▅▆▅▅▇▇▇▇▇▇▆▇▇▇▇▇▇▇▇▇█▇▇▇▇███████▇█▇█</td></tr><tr><td>val_auc</td><td>▁▆▇▇████████████████████████████████████</td></tr><tr><td>val_f1</td><td>▁▇▆▇▇█▇▇██████████████████▇█▇███████████</td></tr><tr><td>val_loss_epoch</td><td>█▇▅▅▄▄▄▃▃▂▃▃▃▃▃▃▂▂▂▂▂▃▂▃▂▂▄▂▄▃▃▂▃▃▁▂▂▂▃▂</td></tr><tr><td>val_loss_step</td><td>██▆▆▅▄▅▃▄▄▃▄▄▅▃▃▃▁▂▃▃▄▁▃▃▂▃▃▇▄▃▃▄▄▃▃▂▃▂▁</td></tr></table><br/></div><div class=\"wandb-col\"><h3>Run summary:</h3><br/><table class=\"wandb\"><tr><td>epoch</td><td>49</td></tr><tr><td>lr-Adam</td><td>0.005</td></tr><tr><td>train_acc</td><td>0.72496</td></tr><tr><td>train_auc</td><td>0.76962</td></tr><tr><td>train_f1</td><td>0.53278</td></tr><tr><td>train_loss_epoch</td><td>0.54445</td></tr><tr><td>train_loss_step</td><td>0.58343</td></tr><tr><td>trainer/global_step</td><td>249</td></tr><tr><td>val_acc</td><td>0.76974</td></tr><tr><td>val_auc</td><td>0.80146</td></tr><tr><td>val_f1</td><td>0.7482</td></tr><tr><td>val_loss_epoch</td><td>0.5339</td></tr><tr><td>val_loss_step</td><td>0.50521</td></tr></table><br/></div></div>"
      ],
      "text/plain": [
       "<IPython.core.display.HTML object>"
      ]
     },
     "metadata": {},
     "output_type": "display_data"
    },
    {
     "data": {
      "text/html": [
       " View run <strong style=\"color:#cdcd00\">GAT_2_16_onehot_4</strong> at: <a href='https://wandb.ai/thoomas/PLA_01102024_5PPI_Kfold/runs/a822w4bm' target=\"_blank\">https://wandb.ai/thoomas/PLA_01102024_5PPI_Kfold/runs/a822w4bm</a><br/>Synced 6 W&B file(s), 0 media file(s), 0 artifact file(s) and 0 other file(s)"
      ],
      "text/plain": [
       "<IPython.core.display.HTML object>"
      ]
     },
     "metadata": {},
     "output_type": "display_data"
    },
    {
     "data": {
      "text/html": [
       "Find logs at: <code>.\\wandb\\run-20240112_195824-a822w4bm\\logs</code>"
      ],
      "text/plain": [
       "<IPython.core.display.HTML object>"
      ]
     },
     "metadata": {},
     "output_type": "display_data"
    },
    {
     "data": {
      "application/vnd.jupyter.widget-view+json": {
       "model_id": "3c1c297db1404d6cb1f3674873a591fe",
       "version_major": 2,
       "version_minor": 0
      },
      "text/plain": [
       "VBox(children=(Label(value='Waiting for wandb.init()...\\r'), FloatProgress(value=0.016933333330477276, max=1.0…"
      ]
     },
     "metadata": {},
     "output_type": "display_data"
    },
    {
     "data": {
      "text/html": [
       "wandb version 0.16.2 is available!  To upgrade, please run:\n",
       " $ pip install wandb --upgrade"
      ],
      "text/plain": [
       "<IPython.core.display.HTML object>"
      ]
     },
     "metadata": {},
     "output_type": "display_data"
    },
    {
     "data": {
      "text/html": [
       "Tracking run with wandb version 0.14.0"
      ],
      "text/plain": [
       "<IPython.core.display.HTML object>"
      ]
     },
     "metadata": {},
     "output_type": "display_data"
    },
    {
     "data": {
      "text/html": [
       "Run data is saved locally in <code>y:\\coskun-lab\\Thomas\\23_PLA_revision\\notebooks\\wandb\\run-20240112_201415-moivzzro</code>"
      ],
      "text/plain": [
       "<IPython.core.display.HTML object>"
      ]
     },
     "metadata": {},
     "output_type": "display_data"
    },
    {
     "data": {
      "text/html": [
       "Syncing run <strong><a href='https://wandb.ai/thoomas/PLA_01102024_5PPI_Kfold/runs/moivzzro' target=\"_blank\">GAT_2_16_onehot_4</a></strong> to <a href='https://wandb.ai/thoomas/PLA_01102024_5PPI_Kfold' target=\"_blank\">Weights & Biases</a> (<a href='https://wandb.me/run' target=\"_blank\">docs</a>)<br/>"
      ],
      "text/plain": [
       "<IPython.core.display.HTML object>"
      ]
     },
     "metadata": {},
     "output_type": "display_data"
    },
    {
     "data": {
      "text/html": [
       " View project at <a href='https://wandb.ai/thoomas/PLA_01102024_5PPI_Kfold' target=\"_blank\">https://wandb.ai/thoomas/PLA_01102024_5PPI_Kfold</a>"
      ],
      "text/plain": [
       "<IPython.core.display.HTML object>"
      ]
     },
     "metadata": {},
     "output_type": "display_data"
    },
    {
     "data": {
      "text/html": [
       " View run at <a href='https://wandb.ai/thoomas/PLA_01102024_5PPI_Kfold/runs/moivzzro' target=\"_blank\">https://wandb.ai/thoomas/PLA_01102024_5PPI_Kfold/runs/moivzzro</a>"
      ],
      "text/plain": [
       "<IPython.core.display.HTML object>"
      ]
     },
     "metadata": {},
     "output_type": "display_data"
    },
    {
     "name": "stderr",
     "output_type": "stream",
     "text": [
      "Global seed set to 42\n",
      "GPU available: True (cuda), used: True\n",
      "TPU available: False, using: 0 TPU cores\n",
      "IPU available: False, using: 0 IPUs\n",
      "HPU available: False, using: 0 HPUs\n",
      "Global seed set to 42\n",
      "LOCAL_RANK: 0 - CUDA_VISIBLE_DEVICES: [0,1]\n",
      "\n",
      "   | Name        | Type             | Params\n",
      "--------------------------------------------------\n",
      "0  | x_embedding | Identity         | 0     \n",
      "1  | model       | GAT              | 5.0 K \n",
      "2  | head        | Sequential       | 154   \n",
      "3  | loss_module | CrossEntropyLoss | 0     \n",
      "4  | train_acc   | BinaryAccuracy   | 0     \n",
      "5  | train_auroc | BinaryAUROC      | 0     \n",
      "6  | train_f1    | BinaryF1Score    | 0     \n",
      "7  | valid_acc   | BinaryAccuracy   | 0     \n",
      "8  | valid_auroc | BinaryAUROC      | 0     \n",
      "9  | valid_f1    | BinaryF1Score    | 0     \n",
      "10 | pool        | GlobalAttention  | 17    \n",
      "--------------------------------------------------\n",
      "5.2 K     Trainable params\n",
      "0         Non-trainable params\n",
      "5.2 K     Total params\n",
      "0.021     Total estimated model params size (MB)\n"
     ]
    },
    {
     "name": "stdout",
     "output_type": "stream",
     "text": [
      "Using GAT\n"
     ]
    },
    {
     "name": "stderr",
     "output_type": "stream",
     "text": [
      "`Trainer.fit` stopped: `max_epochs=50` reached.\n"
     ]
    },
    {
     "data": {
      "text/html": [
       "Waiting for W&B process to finish... <strong style=\"color:green\">(success).</strong>"
      ],
      "text/plain": [
       "<IPython.core.display.HTML object>"
      ]
     },
     "metadata": {},
     "output_type": "display_data"
    },
    {
     "data": {
      "application/vnd.jupyter.widget-view+json": {
       "model_id": "bc571e32af564569891aee30b20fd22e",
       "version_major": 2,
       "version_minor": 0
      },
      "text/plain": [
       "VBox(children=(Label(value='0.001 MB of 0.001 MB uploaded (0.000 MB deduped)\\r'), FloatProgress(value=1.0, max…"
      ]
     },
     "metadata": {},
     "output_type": "display_data"
    },
    {
     "data": {
      "text/html": [
       "<style>\n",
       "    table.wandb td:nth-child(1) { padding: 0 10px; text-align: left ; width: auto;} td:nth-child(2) {text-align: left ; width: 100%}\n",
       "    .wandb-row { display: flex; flex-direction: row; flex-wrap: wrap; justify-content: flex-start; width: 100% }\n",
       "    .wandb-col { display: flex; flex-direction: column; flex-basis: 100%; flex: 1; padding: 10px; }\n",
       "    </style>\n",
       "<div class=\"wandb-row\"><div class=\"wandb-col\"><h3>Run history:</h3><br/><table class=\"wandb\"><tr><td>epoch</td><td>▁▁▁▁▂▂▂▂▂▃▃▃▃▃▃▄▄▄▄▄▅▅▅▅▅▅▆▆▆▆▆▇▇▇▇▇▇███</td></tr><tr><td>lr-Adam</td><td>▁▁▁▁▁▁▁▁▁▁▁▁▁▁▁▁▁▁▁▁▁▁▁▁▁▁▁▁▁▁▁▁▁▁▁▁▁▁▁▁</td></tr><tr><td>train_acc</td><td>▁▅▅▆▆▆▆▆▇▇▇▇▇█▇███▇▇███▇▇██████▇██▇███▇█</td></tr><tr><td>train_auc</td><td>▁▁▂▂▄▄▅▆▇▇▇▇▇█▇█████████▇▇████████▇▇████</td></tr><tr><td>train_f1</td><td>▇▃▁▂▂▁▃▅▇▇▇███▆█▇█▇▇▇██▇▇▇▇██▇▇▇▇█▇▇▇█▇█</td></tr><tr><td>train_loss_epoch</td><td>█▆▆▅▅▄▄▄▃▂▂▂▂▂▂▁▂▁▂▂▁▁▁▁▂▂▁▂▂▁▂▁▂▁▂▁▁▁▁▁</td></tr><tr><td>train_loss_step</td><td>█▇▆▇▅▃▂▁▅▂▄▂▃▄▂▁▂▃▂▂▂▂▃▄▁</td></tr><tr><td>trainer/global_step</td><td>▁▁▁▁▂▁▂▁▂▂▃▃▃▃▄▄▂▄▂▄▂▅▃▅▃▆▆▆▃▃▇▇▇▃▇▄█▄█▄</td></tr><tr><td>val_acc</td><td>▁▄▄▄▄▄▆▆██▇▇▇▇█▇▇▇█▇██████▇▇▇▇▇▆▇▇█▇▇▇▇▇</td></tr><tr><td>val_auc</td><td>▁▄▆▇████████████████████████████████████</td></tr><tr><td>val_f1</td><td>▆▁▁▁▁▂▅▆█████▇██████████████████████████</td></tr><tr><td>val_loss_epoch</td><td>█▇▇▇▆▆▅▄▃▄▃▅▄▂▄▃▃▅▄▃▃▂▄▃▂▂▄▃▁▂▄▄▂▄▂▁▄▃▃▃</td></tr><tr><td>val_loss_step</td><td>██▇█▇▇▅▅▅▅▄█▅▃▅▄▅▇▆▄▅▃▆▅▅▃▅▄▁▂▅▅▃▅▅▅▅▅▅▄</td></tr></table><br/></div><div class=\"wandb-col\"><h3>Run summary:</h3><br/><table class=\"wandb\"><tr><td>epoch</td><td>49</td></tr><tr><td>lr-Adam</td><td>0.005</td></tr><tr><td>train_acc</td><td>0.70772</td></tr><tr><td>train_auc</td><td>0.76374</td></tr><tr><td>train_f1</td><td>0.54937</td></tr><tr><td>train_loss_epoch</td><td>0.55233</td></tr><tr><td>train_loss_step</td><td>0.51636</td></tr><tr><td>trainer/global_step</td><td>249</td></tr><tr><td>val_acc</td><td>0.6875</td></tr><tr><td>val_auc</td><td>0.77205</td></tr><tr><td>val_f1</td><td>0.68227</td></tr><tr><td>val_loss_epoch</td><td>0.57958</td></tr><tr><td>val_loss_step</td><td>0.56973</td></tr></table><br/></div></div>"
      ],
      "text/plain": [
       "<IPython.core.display.HTML object>"
      ]
     },
     "metadata": {},
     "output_type": "display_data"
    },
    {
     "data": {
      "text/html": [
       " View run <strong style=\"color:#cdcd00\">GAT_2_16_onehot_4</strong> at: <a href='https://wandb.ai/thoomas/PLA_01102024_5PPI_Kfold/runs/moivzzro' target=\"_blank\">https://wandb.ai/thoomas/PLA_01102024_5PPI_Kfold/runs/moivzzro</a><br/>Synced 6 W&B file(s), 0 media file(s), 0 artifact file(s) and 0 other file(s)"
      ],
      "text/plain": [
       "<IPython.core.display.HTML object>"
      ]
     },
     "metadata": {},
     "output_type": "display_data"
    },
    {
     "data": {
      "text/html": [
       "Find logs at: <code>.\\wandb\\run-20240112_201415-moivzzro\\logs</code>"
      ],
      "text/plain": [
       "<IPython.core.display.HTML object>"
      ]
     },
     "metadata": {},
     "output_type": "display_data"
    },
    {
     "data": {
      "application/vnd.jupyter.widget-view+json": {
       "model_id": "80017002e14846429697eaab78885f99",
       "version_major": 2,
       "version_minor": 0
      },
      "text/plain": [
       "VBox(children=(Label(value='Waiting for wandb.init()...\\r'), FloatProgress(value=0.016666666666666666, max=1.0…"
      ]
     },
     "metadata": {},
     "output_type": "display_data"
    },
    {
     "data": {
      "text/html": [
       "wandb version 0.16.2 is available!  To upgrade, please run:\n",
       " $ pip install wandb --upgrade"
      ],
      "text/plain": [
       "<IPython.core.display.HTML object>"
      ]
     },
     "metadata": {},
     "output_type": "display_data"
    },
    {
     "data": {
      "text/html": [
       "Tracking run with wandb version 0.14.0"
      ],
      "text/plain": [
       "<IPython.core.display.HTML object>"
      ]
     },
     "metadata": {},
     "output_type": "display_data"
    },
    {
     "data": {
      "text/html": [
       "Run data is saved locally in <code>y:\\coskun-lab\\Thomas\\23_PLA_revision\\notebooks\\wandb\\run-20240112_202949-1xuk0ier</code>"
      ],
      "text/plain": [
       "<IPython.core.display.HTML object>"
      ]
     },
     "metadata": {},
     "output_type": "display_data"
    },
    {
     "data": {
      "text/html": [
       "Syncing run <strong><a href='https://wandb.ai/thoomas/PLA_01102024_5PPI_Kfold/runs/1xuk0ier' target=\"_blank\">GAT_2_16_onehot_4</a></strong> to <a href='https://wandb.ai/thoomas/PLA_01102024_5PPI_Kfold' target=\"_blank\">Weights & Biases</a> (<a href='https://wandb.me/run' target=\"_blank\">docs</a>)<br/>"
      ],
      "text/plain": [
       "<IPython.core.display.HTML object>"
      ]
     },
     "metadata": {},
     "output_type": "display_data"
    },
    {
     "data": {
      "text/html": [
       " View project at <a href='https://wandb.ai/thoomas/PLA_01102024_5PPI_Kfold' target=\"_blank\">https://wandb.ai/thoomas/PLA_01102024_5PPI_Kfold</a>"
      ],
      "text/plain": [
       "<IPython.core.display.HTML object>"
      ]
     },
     "metadata": {},
     "output_type": "display_data"
    },
    {
     "data": {
      "text/html": [
       " View run at <a href='https://wandb.ai/thoomas/PLA_01102024_5PPI_Kfold/runs/1xuk0ier' target=\"_blank\">https://wandb.ai/thoomas/PLA_01102024_5PPI_Kfold/runs/1xuk0ier</a>"
      ],
      "text/plain": [
       "<IPython.core.display.HTML object>"
      ]
     },
     "metadata": {},
     "output_type": "display_data"
    },
    {
     "name": "stderr",
     "output_type": "stream",
     "text": [
      "Global seed set to 42\n",
      "GPU available: True (cuda), used: True\n",
      "TPU available: False, using: 0 TPU cores\n",
      "IPU available: False, using: 0 IPUs\n",
      "HPU available: False, using: 0 HPUs\n",
      "Global seed set to 42\n",
      "LOCAL_RANK: 0 - CUDA_VISIBLE_DEVICES: [0,1]\n",
      "\n",
      "   | Name        | Type             | Params\n",
      "--------------------------------------------------\n",
      "0  | x_embedding | Identity         | 0     \n",
      "1  | model       | GAT              | 5.0 K \n",
      "2  | head        | Sequential       | 154   \n",
      "3  | loss_module | CrossEntropyLoss | 0     \n",
      "4  | train_acc   | BinaryAccuracy   | 0     \n",
      "5  | train_auroc | BinaryAUROC      | 0     \n",
      "6  | train_f1    | BinaryF1Score    | 0     \n",
      "7  | valid_acc   | BinaryAccuracy   | 0     \n",
      "8  | valid_auroc | BinaryAUROC      | 0     \n",
      "9  | valid_f1    | BinaryF1Score    | 0     \n",
      "10 | pool        | Attention_module | 281   \n",
      "--------------------------------------------------\n",
      "5.5 K     Trainable params\n",
      "0         Non-trainable params\n",
      "5.5 K     Total params\n",
      "0.022     Total estimated model params size (MB)\n"
     ]
    },
    {
     "name": "stdout",
     "output_type": "stream",
     "text": [
      "Using GAT\n"
     ]
    },
    {
     "name": "stderr",
     "output_type": "stream",
     "text": [
      "`Trainer.fit` stopped: `max_epochs=50` reached.\n"
     ]
    },
    {
     "data": {
      "text/html": [
       "Waiting for W&B process to finish... <strong style=\"color:green\">(success).</strong>"
      ],
      "text/plain": [
       "<IPython.core.display.HTML object>"
      ]
     },
     "metadata": {},
     "output_type": "display_data"
    },
    {
     "data": {
      "application/vnd.jupyter.widget-view+json": {
       "model_id": "416c32b312fa4b6c81d988f23c4509a6",
       "version_major": 2,
       "version_minor": 0
      },
      "text/plain": [
       "VBox(children=(Label(value='0.001 MB of 0.001 MB uploaded (0.000 MB deduped)\\r'), FloatProgress(value=1.0, max…"
      ]
     },
     "metadata": {},
     "output_type": "display_data"
    },
    {
     "data": {
      "text/html": [
       "<style>\n",
       "    table.wandb td:nth-child(1) { padding: 0 10px; text-align: left ; width: auto;} td:nth-child(2) {text-align: left ; width: 100%}\n",
       "    .wandb-row { display: flex; flex-direction: row; flex-wrap: wrap; justify-content: flex-start; width: 100% }\n",
       "    .wandb-col { display: flex; flex-direction: column; flex-basis: 100%; flex: 1; padding: 10px; }\n",
       "    </style>\n",
       "<div class=\"wandb-row\"><div class=\"wandb-col\"><h3>Run history:</h3><br/><table class=\"wandb\"><tr><td>epoch</td><td>▁▁▁▁▂▂▂▂▂▃▃▃▃▃▃▄▄▄▄▄▅▅▅▅▅▅▆▆▆▆▆▇▇▇▇▇▇███</td></tr><tr><td>lr-Adam</td><td>▁▁▁▁▁▁▁▁▁▁▁▁▁▁▁▁▁▁▁▁▁▁▁▁▁▁▁▁▁▁▁▁▁▁▁▁▁▁▁▁</td></tr><tr><td>train_acc</td><td>▁▅▆▆▆▆▇▇▇█▇▇█▇▇█▇██████▇█▇██████▇█████▇█</td></tr><tr><td>train_auc</td><td>▁▁▂▂▄▅▆▆▇▇▇▇▇▇██▇███▇█████████████▇█████</td></tr><tr><td>train_f1</td><td>▇▃▁▁▂▂▅▆▇██▇▇▇▇▇▇█▇▇▇▇█▆█▇▇█▇█▇▇▇▇█▇▇▇▇▇</td></tr><tr><td>train_loss_epoch</td><td>█▆▆▅▄▄▃▃▂▂▂▂▂▂▁▁▂▂▁▁▂▁▁▂▁▁▁▁▁▂▁▂▁▁▂▁▂▁▁▁</td></tr><tr><td>train_loss_step</td><td>██▆▅▁▄▄▂▄▅▂▃▄▁▅▃▂▁▄▃▃▂▂▂▅</td></tr><tr><td>trainer/global_step</td><td>▁▁▁▁▂▁▂▁▂▂▃▃▃▃▄▄▂▄▂▄▂▅▃▅▃▆▆▆▃▃▇▇▇▃▇▄█▄█▄</td></tr><tr><td>val_acc</td><td>▁▄▄▄▄▅▇▇▇▇▇▇█▇▇▇▇▇█▇▇▇▇▇▇▇▇▇▇▇█▇▇▇▇▇▇▇██</td></tr><tr><td>val_auc</td><td>▁▄▆█████████████████████████████████████</td></tr><tr><td>val_f1</td><td>▆▁▁▁▁▄▇████████████████▇████████████████</td></tr><tr><td>val_loss_epoch</td><td>█▇█▇▆▆▅▄▄▂▂▃▃▂▂▃▃▃▃▃▂▁▃▁▅▁▂▃▄▅▂▄▂▃▂▂▃▂▁▂</td></tr><tr><td>val_loss_step</td><td>█▇██▆▆▅▅▄▅▂▅▄▃▃▄▄▃▅▃▄▁▅▄▃▁▄▃▆█▃▄▂▄▄▄▄▃▃▄</td></tr></table><br/></div><div class=\"wandb-col\"><h3>Run summary:</h3><br/><table class=\"wandb\"><tr><td>epoch</td><td>49</td></tr><tr><td>lr-Adam</td><td>0.005</td></tr><tr><td>train_acc</td><td>0.70854</td></tr><tr><td>train_auc</td><td>0.76854</td></tr><tr><td>train_f1</td><td>0.51034</td></tr><tr><td>train_loss_epoch</td><td>0.55044</td></tr><tr><td>train_loss_step</td><td>0.59439</td></tr><tr><td>trainer/global_step</td><td>249</td></tr><tr><td>val_acc</td><td>0.72039</td></tr><tr><td>val_auc</td><td>0.77276</td></tr><tr><td>val_f1</td><td>0.68165</td></tr><tr><td>val_loss_epoch</td><td>0.57417</td></tr><tr><td>val_loss_step</td><td>0.57821</td></tr></table><br/></div></div>"
      ],
      "text/plain": [
       "<IPython.core.display.HTML object>"
      ]
     },
     "metadata": {},
     "output_type": "display_data"
    },
    {
     "data": {
      "text/html": [
       " View run <strong style=\"color:#cdcd00\">GAT_2_16_onehot_4</strong> at: <a href='https://wandb.ai/thoomas/PLA_01102024_5PPI_Kfold/runs/1xuk0ier' target=\"_blank\">https://wandb.ai/thoomas/PLA_01102024_5PPI_Kfold/runs/1xuk0ier</a><br/>Synced 6 W&B file(s), 0 media file(s), 0 artifact file(s) and 0 other file(s)"
      ],
      "text/plain": [
       "<IPython.core.display.HTML object>"
      ]
     },
     "metadata": {},
     "output_type": "display_data"
    },
    {
     "data": {
      "text/html": [
       "Find logs at: <code>.\\wandb\\run-20240112_202949-1xuk0ier\\logs</code>"
      ],
      "text/plain": [
       "<IPython.core.display.HTML object>"
      ]
     },
     "metadata": {},
     "output_type": "display_data"
    },
    {
     "data": {
      "application/vnd.jupyter.widget-view+json": {
       "model_id": "3cc142c71ef14d099f7571faf8094a02",
       "version_major": 2,
       "version_minor": 0
      },
      "text/plain": [
       "VBox(children=(Label(value='Waiting for wandb.init()...\\r'), FloatProgress(value=0.016666666666666666, max=1.0…"
      ]
     },
     "metadata": {},
     "output_type": "display_data"
    },
    {
     "data": {
      "text/html": [
       "wandb version 0.16.2 is available!  To upgrade, please run:\n",
       " $ pip install wandb --upgrade"
      ],
      "text/plain": [
       "<IPython.core.display.HTML object>"
      ]
     },
     "metadata": {},
     "output_type": "display_data"
    },
    {
     "data": {
      "text/html": [
       "Tracking run with wandb version 0.14.0"
      ],
      "text/plain": [
       "<IPython.core.display.HTML object>"
      ]
     },
     "metadata": {},
     "output_type": "display_data"
    },
    {
     "data": {
      "text/html": [
       "Run data is saved locally in <code>y:\\coskun-lab\\Thomas\\23_PLA_revision\\notebooks\\wandb\\run-20240112_204524-r4j000y5</code>"
      ],
      "text/plain": [
       "<IPython.core.display.HTML object>"
      ]
     },
     "metadata": {},
     "output_type": "display_data"
    },
    {
     "data": {
      "text/html": [
       "Syncing run <strong><a href='https://wandb.ai/thoomas/PLA_01102024_5PPI_Kfold/runs/r4j000y5' target=\"_blank\">GAT_2_32_onehot_4</a></strong> to <a href='https://wandb.ai/thoomas/PLA_01102024_5PPI_Kfold' target=\"_blank\">Weights & Biases</a> (<a href='https://wandb.me/run' target=\"_blank\">docs</a>)<br/>"
      ],
      "text/plain": [
       "<IPython.core.display.HTML object>"
      ]
     },
     "metadata": {},
     "output_type": "display_data"
    },
    {
     "data": {
      "text/html": [
       " View project at <a href='https://wandb.ai/thoomas/PLA_01102024_5PPI_Kfold' target=\"_blank\">https://wandb.ai/thoomas/PLA_01102024_5PPI_Kfold</a>"
      ],
      "text/plain": [
       "<IPython.core.display.HTML object>"
      ]
     },
     "metadata": {},
     "output_type": "display_data"
    },
    {
     "data": {
      "text/html": [
       " View run at <a href='https://wandb.ai/thoomas/PLA_01102024_5PPI_Kfold/runs/r4j000y5' target=\"_blank\">https://wandb.ai/thoomas/PLA_01102024_5PPI_Kfold/runs/r4j000y5</a>"
      ],
      "text/plain": [
       "<IPython.core.display.HTML object>"
      ]
     },
     "metadata": {},
     "output_type": "display_data"
    },
    {
     "name": "stderr",
     "output_type": "stream",
     "text": [
      "Global seed set to 42\n",
      "GPU available: True (cuda), used: True\n",
      "TPU available: False, using: 0 TPU cores\n",
      "IPU available: False, using: 0 IPUs\n",
      "HPU available: False, using: 0 HPUs\n",
      "Global seed set to 42\n",
      "LOCAL_RANK: 0 - CUDA_VISIBLE_DEVICES: [0,1]\n",
      "\n",
      "  | Name        | Type             | Params\n",
      "-------------------------------------------------\n",
      "0 | x_embedding | Identity         | 0     \n",
      "1 | model       | GAT              | 18.3 K\n",
      "2 | head        | Sequential       | 562   \n",
      "3 | loss_module | CrossEntropyLoss | 0     \n",
      "4 | train_acc   | BinaryAccuracy   | 0     \n",
      "5 | train_auroc | BinaryAUROC      | 0     \n",
      "6 | train_f1    | BinaryF1Score    | 0     \n",
      "7 | valid_acc   | BinaryAccuracy   | 0     \n",
      "8 | valid_auroc | BinaryAUROC      | 0     \n",
      "9 | valid_f1    | BinaryF1Score    | 0     \n",
      "-------------------------------------------------\n",
      "18.8 K    Trainable params\n",
      "0         Non-trainable params\n",
      "18.8 K    Total params\n",
      "0.075     Total estimated model params size (MB)\n"
     ]
    },
    {
     "name": "stdout",
     "output_type": "stream",
     "text": [
      "Using GAT\n"
     ]
    },
    {
     "name": "stderr",
     "output_type": "stream",
     "text": [
      "`Trainer.fit` stopped: `max_epochs=50` reached.\n"
     ]
    },
    {
     "data": {
      "text/html": [
       "Waiting for W&B process to finish... <strong style=\"color:green\">(success).</strong>"
      ],
      "text/plain": [
       "<IPython.core.display.HTML object>"
      ]
     },
     "metadata": {},
     "output_type": "display_data"
    },
    {
     "data": {
      "application/vnd.jupyter.widget-view+json": {
       "model_id": "dab2b6e816964fa6a2be70e8ff5721ae",
       "version_major": 2,
       "version_minor": 0
      },
      "text/plain": [
       "VBox(children=(Label(value='0.001 MB of 0.001 MB uploaded (0.000 MB deduped)\\r'), FloatProgress(value=1.0, max…"
      ]
     },
     "metadata": {},
     "output_type": "display_data"
    },
    {
     "data": {
      "text/html": [
       "<style>\n",
       "    table.wandb td:nth-child(1) { padding: 0 10px; text-align: left ; width: auto;} td:nth-child(2) {text-align: left ; width: 100%}\n",
       "    .wandb-row { display: flex; flex-direction: row; flex-wrap: wrap; justify-content: flex-start; width: 100% }\n",
       "    .wandb-col { display: flex; flex-direction: column; flex-basis: 100%; flex: 1; padding: 10px; }\n",
       "    </style>\n",
       "<div class=\"wandb-row\"><div class=\"wandb-col\"><h3>Run history:</h3><br/><table class=\"wandb\"><tr><td>epoch</td><td>▁▁▁▁▂▂▂▂▂▃▃▃▃▃▃▄▄▄▄▄▅▅▅▅▅▅▆▆▆▆▆▇▇▇▇▇▇███</td></tr><tr><td>lr-Adam</td><td>▁▁▁▁▁▁▁▁▁▁▁▁▁▁▁▁▁▁▁▁▁▁▁▁▁▁▁▁▁▁▁▁▁▁▁▁▁▁▁▁</td></tr><tr><td>train_acc</td><td>▁▁▁▃▅▇▆▆▆▆▆▅▆▆▇▆▆▇▇▇▆▇▇█▇▇▆▇▇▆█▇█▇▇█▆▆██</td></tr><tr><td>train_auc</td><td>▁▃▄▆▇▇▇▇▇▇▇▇▇▇██▇█▇████▇█████▇██████████</td></tr><tr><td>train_f1</td><td>▁▁▂▄▇█▇▇█▇▇▇▇▇▇▇▇█▇█▇██▇▇▇█▇█▇████▇█▇▇█▇</td></tr><tr><td>train_loss_epoch</td><td>██▇▄▃▃▃▃▃▃▂▂▃▂▁▂▂▂▃▂▂▁▂▂▂▁▁▁▂▂▁▁▂▂▁▂▂▁▂▁</td></tr><tr><td>train_loss_step</td><td>█▆▄▄▆▆▃▃▄▃▃▃▅▅▃▅▃▃▃▃▅▄▃▁▃</td></tr><tr><td>trainer/global_step</td><td>▁▁▁▁▂▁▂▁▂▂▃▃▃▃▄▄▂▄▂▄▂▅▃▅▃▆▆▆▃▃▇▇▇▃▇▄█▄█▄</td></tr><tr><td>val_acc</td><td>▁▁▁▅▇█▇▇▅▇▆▇█▇▇▇▇████▇█████▇██▇█▇▇▇█▇██▇</td></tr><tr><td>val_auc</td><td>▁▅▅▆▆▆▆▆▆▇▆▇▇▇▇▇▇▇▇▇▇▇▇▇▇▇▇▇▇█████▇█▇███</td></tr><tr><td>val_f1</td><td>▁▁▁▅██▇▇█▇█▇█▇▇██▇▇████████▇████████████</td></tr><tr><td>val_loss_epoch</td><td>█▇▆▅▅▄▃▄▃▃▃▃▂▂▃▂▂▃▃▄▃▂▂▃▂▂▂▄▁▂▃▃▂▄▃▂▃▂▂▃</td></tr><tr><td>val_loss_step</td><td>██▇▇▅▅▅▇▅▅▅▅▅▃▅▅▅▆▅▅▅▃▃▅▅▃▄▅▁▃▄▅▄▆▅▄▄▄▅▆</td></tr></table><br/></div><div class=\"wandb-col\"><h3>Run summary:</h3><br/><table class=\"wandb\"><tr><td>epoch</td><td>49</td></tr><tr><td>lr-Adam</td><td>0.005</td></tr><tr><td>train_acc</td><td>0.7266</td></tr><tr><td>train_auc</td><td>0.77974</td></tr><tr><td>train_f1</td><td>0.52361</td></tr><tr><td>train_loss_epoch</td><td>0.53449</td></tr><tr><td>train_loss_step</td><td>0.51919</td></tr><tr><td>trainer/global_step</td><td>249</td></tr><tr><td>val_acc</td><td>0.72368</td></tr><tr><td>val_auc</td><td>0.78219</td></tr><tr><td>val_f1</td><td>0.66929</td></tr><tr><td>val_loss_epoch</td><td>0.57525</td></tr><tr><td>val_loss_step</td><td>0.59421</td></tr></table><br/></div></div>"
      ],
      "text/plain": [
       "<IPython.core.display.HTML object>"
      ]
     },
     "metadata": {},
     "output_type": "display_data"
    },
    {
     "data": {
      "text/html": [
       " View run <strong style=\"color:#cdcd00\">GAT_2_32_onehot_4</strong> at: <a href='https://wandb.ai/thoomas/PLA_01102024_5PPI_Kfold/runs/r4j000y5' target=\"_blank\">https://wandb.ai/thoomas/PLA_01102024_5PPI_Kfold/runs/r4j000y5</a><br/>Synced 6 W&B file(s), 0 media file(s), 0 artifact file(s) and 0 other file(s)"
      ],
      "text/plain": [
       "<IPython.core.display.HTML object>"
      ]
     },
     "metadata": {},
     "output_type": "display_data"
    },
    {
     "data": {
      "text/html": [
       "Find logs at: <code>.\\wandb\\run-20240112_204524-r4j000y5\\logs</code>"
      ],
      "text/plain": [
       "<IPython.core.display.HTML object>"
      ]
     },
     "metadata": {},
     "output_type": "display_data"
    },
    {
     "data": {
      "application/vnd.jupyter.widget-view+json": {
       "model_id": "788a14a3b95f4069a34c5e732706d79b",
       "version_major": 2,
       "version_minor": 0
      },
      "text/plain": [
       "VBox(children=(Label(value='Waiting for wandb.init()...\\r'), FloatProgress(value=0.017183333332650364, max=1.0…"
      ]
     },
     "metadata": {},
     "output_type": "display_data"
    },
    {
     "data": {
      "text/html": [
       "wandb version 0.16.2 is available!  To upgrade, please run:\n",
       " $ pip install wandb --upgrade"
      ],
      "text/plain": [
       "<IPython.core.display.HTML object>"
      ]
     },
     "metadata": {},
     "output_type": "display_data"
    },
    {
     "data": {
      "text/html": [
       "Tracking run with wandb version 0.14.0"
      ],
      "text/plain": [
       "<IPython.core.display.HTML object>"
      ]
     },
     "metadata": {},
     "output_type": "display_data"
    },
    {
     "data": {
      "text/html": [
       "Run data is saved locally in <code>y:\\coskun-lab\\Thomas\\23_PLA_revision\\notebooks\\wandb\\run-20240112_210228-pk4rg8rr</code>"
      ],
      "text/plain": [
       "<IPython.core.display.HTML object>"
      ]
     },
     "metadata": {},
     "output_type": "display_data"
    },
    {
     "data": {
      "text/html": [
       "Syncing run <strong><a href='https://wandb.ai/thoomas/PLA_01102024_5PPI_Kfold/runs/pk4rg8rr' target=\"_blank\">GAT_2_32_onehot_4</a></strong> to <a href='https://wandb.ai/thoomas/PLA_01102024_5PPI_Kfold' target=\"_blank\">Weights & Biases</a> (<a href='https://wandb.me/run' target=\"_blank\">docs</a>)<br/>"
      ],
      "text/plain": [
       "<IPython.core.display.HTML object>"
      ]
     },
     "metadata": {},
     "output_type": "display_data"
    },
    {
     "data": {
      "text/html": [
       " View project at <a href='https://wandb.ai/thoomas/PLA_01102024_5PPI_Kfold' target=\"_blank\">https://wandb.ai/thoomas/PLA_01102024_5PPI_Kfold</a>"
      ],
      "text/plain": [
       "<IPython.core.display.HTML object>"
      ]
     },
     "metadata": {},
     "output_type": "display_data"
    },
    {
     "data": {
      "text/html": [
       " View run at <a href='https://wandb.ai/thoomas/PLA_01102024_5PPI_Kfold/runs/pk4rg8rr' target=\"_blank\">https://wandb.ai/thoomas/PLA_01102024_5PPI_Kfold/runs/pk4rg8rr</a>"
      ],
      "text/plain": [
       "<IPython.core.display.HTML object>"
      ]
     },
     "metadata": {},
     "output_type": "display_data"
    },
    {
     "name": "stderr",
     "output_type": "stream",
     "text": [
      "Global seed set to 42\n",
      "GPU available: True (cuda), used: True\n",
      "TPU available: False, using: 0 TPU cores\n",
      "IPU available: False, using: 0 IPUs\n",
      "HPU available: False, using: 0 HPUs\n",
      "Global seed set to 42\n",
      "LOCAL_RANK: 0 - CUDA_VISIBLE_DEVICES: [0,1]\n",
      "\n",
      "  | Name        | Type             | Params\n",
      "-------------------------------------------------\n",
      "0 | x_embedding | Identity         | 0     \n",
      "1 | model       | GAT              | 18.3 K\n",
      "2 | head        | Sequential       | 562   \n",
      "3 | loss_module | CrossEntropyLoss | 0     \n",
      "4 | train_acc   | BinaryAccuracy   | 0     \n",
      "5 | train_auroc | BinaryAUROC      | 0     \n",
      "6 | train_f1    | BinaryF1Score    | 0     \n",
      "7 | valid_acc   | BinaryAccuracy   | 0     \n",
      "8 | valid_auroc | BinaryAUROC      | 0     \n",
      "9 | valid_f1    | BinaryF1Score    | 0     \n",
      "-------------------------------------------------\n",
      "18.8 K    Trainable params\n",
      "0         Non-trainable params\n",
      "18.8 K    Total params\n",
      "0.075     Total estimated model params size (MB)\n"
     ]
    },
    {
     "name": "stdout",
     "output_type": "stream",
     "text": [
      "Using GAT\n"
     ]
    },
    {
     "name": "stderr",
     "output_type": "stream",
     "text": [
      "`Trainer.fit` stopped: `max_epochs=50` reached.\n"
     ]
    },
    {
     "data": {
      "text/html": [
       "Waiting for W&B process to finish... <strong style=\"color:green\">(success).</strong>"
      ],
      "text/plain": [
       "<IPython.core.display.HTML object>"
      ]
     },
     "metadata": {},
     "output_type": "display_data"
    },
    {
     "data": {
      "application/vnd.jupyter.widget-view+json": {
       "model_id": "6c583d21f1f840a997e3dd9df4e6a88b",
       "version_major": 2,
       "version_minor": 0
      },
      "text/plain": [
       "VBox(children=(Label(value='0.001 MB of 0.001 MB uploaded (0.000 MB deduped)\\r'), FloatProgress(value=1.0, max…"
      ]
     },
     "metadata": {},
     "output_type": "display_data"
    },
    {
     "data": {
      "text/html": [
       "<style>\n",
       "    table.wandb td:nth-child(1) { padding: 0 10px; text-align: left ; width: auto;} td:nth-child(2) {text-align: left ; width: 100%}\n",
       "    .wandb-row { display: flex; flex-direction: row; flex-wrap: wrap; justify-content: flex-start; width: 100% }\n",
       "    .wandb-col { display: flex; flex-direction: column; flex-basis: 100%; flex: 1; padding: 10px; }\n",
       "    </style>\n",
       "<div class=\"wandb-row\"><div class=\"wandb-col\"><h3>Run history:</h3><br/><table class=\"wandb\"><tr><td>epoch</td><td>▁▁▁▁▂▂▂▂▂▃▃▃▃▃▃▄▄▄▄▄▅▅▅▅▅▅▆▆▆▆▆▇▇▇▇▇▇███</td></tr><tr><td>lr-Adam</td><td>▁▁▁▁▁▁▁▁▁▁▁▁▁▁▁▁▁▁▁▁▁▁▁▁▁▁▁▁▁▁▁▁▁▁▁▁▁▁▁▁</td></tr><tr><td>train_acc</td><td>▁▂▂▃▃▄▄▆▅▆▅▆▆▆▅▇▇▆▇▇▇█▅▇▇▇▇▇▇▇█▇▇▇█▆▆▆██</td></tr><tr><td>train_auc</td><td>▁▂▁▃▅▅▅▆▆▆▇▇▆▇▇▇█▇▇███▇▇▇███▇▇██████████</td></tr><tr><td>train_f1</td><td>▂▁▁▂▅▅▆▇▇▆▅▇▇▇▆█▇▇▇█▇█▇▇▇█▇██▇█████▇▇▇█▇</td></tr><tr><td>train_loss_epoch</td><td>███▇▆▅▅▄▄▄▃▃▄▂▂▃▂▃▂▂▂▂▂▃▂▂▁▁▂▂▂▂▂▁▂▂▂▂▂▁</td></tr><tr><td>train_loss_step</td><td>██▆▅▆▆▄▃▅▃▃▃▄▃▂▄▂▂▃▁▃▂▃▁▃</td></tr><tr><td>trainer/global_step</td><td>▁▁▁▁▂▁▂▁▂▂▃▃▃▃▄▄▂▄▂▄▂▅▃▅▃▆▆▆▃▃▇▇▇▃▇▄█▄█▄</td></tr><tr><td>val_acc</td><td>▁▁▁▁▃▄▆▅▇▃▆▇▇▄▇▇█▄█▇▇▄█▅▄▆▄▃▃▁▂▂▃▃▂▂▂▂▂▃</td></tr><tr><td>val_auc</td><td>▁▂▃▄▅▅▆▆▆▇▇▆▇▇▇▇▇▇▇▇▇▇▇▇▇▇▇▇█▇▇▇████████</td></tr><tr><td>val_f1</td><td>▁▁▁▁▃▄▆▅█▄█▇█▅▆▇▇▅██▇▄▇▅▄▆▄▄▃▁▃▂▃▃▂▂▂▂▂▃</td></tr><tr><td>val_loss_epoch</td><td>█▇▆▇▅▄▄▄▃▃▃▃▂▂▂▂▁▃▂▄▂▁▂▄▃▃▁▃▂▄▃▄▃▃▄▄▂▅▂▄</td></tr><tr><td>val_loss_step</td><td>▇▇▆█▆▅▅▅▅▅▅▅▄▂▄▄▄▄▃▄▃▁▃▃▄▄▄▄▃▅▆▄▄▃▅▅▁▇▅▆</td></tr></table><br/></div><div class=\"wandb-col\"><h3>Run summary:</h3><br/><table class=\"wandb\"><tr><td>epoch</td><td>49</td></tr><tr><td>lr-Adam</td><td>0.005</td></tr><tr><td>train_acc</td><td>0.71018</td></tr><tr><td>train_auc</td><td>0.76034</td></tr><tr><td>train_f1</td><td>0.47548</td></tr><tr><td>train_loss_epoch</td><td>0.55331</td></tr><tr><td>train_loss_step</td><td>0.55774</td></tr><tr><td>trainer/global_step</td><td>249</td></tr><tr><td>val_acc</td><td>0.60526</td></tr><tr><td>val_auc</td><td>0.76642</td></tr><tr><td>val_f1</td><td>0.14286</td></tr><tr><td>val_loss_epoch</td><td>0.62654</td></tr><tr><td>val_loss_step</td><td>0.64562</td></tr></table><br/></div></div>"
      ],
      "text/plain": [
       "<IPython.core.display.HTML object>"
      ]
     },
     "metadata": {},
     "output_type": "display_data"
    },
    {
     "data": {
      "text/html": [
       " View run <strong style=\"color:#cdcd00\">GAT_2_32_onehot_4</strong> at: <a href='https://wandb.ai/thoomas/PLA_01102024_5PPI_Kfold/runs/pk4rg8rr' target=\"_blank\">https://wandb.ai/thoomas/PLA_01102024_5PPI_Kfold/runs/pk4rg8rr</a><br/>Synced 6 W&B file(s), 0 media file(s), 0 artifact file(s) and 0 other file(s)"
      ],
      "text/plain": [
       "<IPython.core.display.HTML object>"
      ]
     },
     "metadata": {},
     "output_type": "display_data"
    },
    {
     "data": {
      "text/html": [
       "Find logs at: <code>.\\wandb\\run-20240112_210228-pk4rg8rr\\logs</code>"
      ],
      "text/plain": [
       "<IPython.core.display.HTML object>"
      ]
     },
     "metadata": {},
     "output_type": "display_data"
    },
    {
     "data": {
      "application/vnd.jupyter.widget-view+json": {
       "model_id": "0c67ca15574e4e9aac43b872287ae8cc",
       "version_major": 2,
       "version_minor": 0
      },
      "text/plain": [
       "VBox(children=(Label(value='Waiting for wandb.init()...\\r'), FloatProgress(value=0.01693333333435779, max=1.0)…"
      ]
     },
     "metadata": {},
     "output_type": "display_data"
    },
    {
     "data": {
      "text/html": [
       "wandb version 0.16.2 is available!  To upgrade, please run:\n",
       " $ pip install wandb --upgrade"
      ],
      "text/plain": [
       "<IPython.core.display.HTML object>"
      ]
     },
     "metadata": {},
     "output_type": "display_data"
    },
    {
     "data": {
      "text/html": [
       "Tracking run with wandb version 0.14.0"
      ],
      "text/plain": [
       "<IPython.core.display.HTML object>"
      ]
     },
     "metadata": {},
     "output_type": "display_data"
    },
    {
     "data": {
      "text/html": [
       "Run data is saved locally in <code>y:\\coskun-lab\\Thomas\\23_PLA_revision\\notebooks\\wandb\\run-20240112_212329-y57xyfxi</code>"
      ],
      "text/plain": [
       "<IPython.core.display.HTML object>"
      ]
     },
     "metadata": {},
     "output_type": "display_data"
    },
    {
     "data": {
      "text/html": [
       "Syncing run <strong><a href='https://wandb.ai/thoomas/PLA_01102024_5PPI_Kfold/runs/y57xyfxi' target=\"_blank\">GAT_2_32_onehot_4</a></strong> to <a href='https://wandb.ai/thoomas/PLA_01102024_5PPI_Kfold' target=\"_blank\">Weights & Biases</a> (<a href='https://wandb.me/run' target=\"_blank\">docs</a>)<br/>"
      ],
      "text/plain": [
       "<IPython.core.display.HTML object>"
      ]
     },
     "metadata": {},
     "output_type": "display_data"
    },
    {
     "data": {
      "text/html": [
       " View project at <a href='https://wandb.ai/thoomas/PLA_01102024_5PPI_Kfold' target=\"_blank\">https://wandb.ai/thoomas/PLA_01102024_5PPI_Kfold</a>"
      ],
      "text/plain": [
       "<IPython.core.display.HTML object>"
      ]
     },
     "metadata": {},
     "output_type": "display_data"
    },
    {
     "data": {
      "text/html": [
       " View run at <a href='https://wandb.ai/thoomas/PLA_01102024_5PPI_Kfold/runs/y57xyfxi' target=\"_blank\">https://wandb.ai/thoomas/PLA_01102024_5PPI_Kfold/runs/y57xyfxi</a>"
      ],
      "text/plain": [
       "<IPython.core.display.HTML object>"
      ]
     },
     "metadata": {},
     "output_type": "display_data"
    },
    {
     "name": "stderr",
     "output_type": "stream",
     "text": [
      "Global seed set to 42\n",
      "GPU available: True (cuda), used: True\n",
      "TPU available: False, using: 0 TPU cores\n",
      "IPU available: False, using: 0 IPUs\n",
      "HPU available: False, using: 0 HPUs\n",
      "Global seed set to 42\n",
      "LOCAL_RANK: 0 - CUDA_VISIBLE_DEVICES: [0,1]\n",
      "\n",
      "  | Name        | Type             | Params\n",
      "-------------------------------------------------\n",
      "0 | x_embedding | Identity         | 0     \n",
      "1 | model       | GAT              | 18.3 K\n",
      "2 | head        | Sequential       | 562   \n",
      "3 | loss_module | CrossEntropyLoss | 0     \n",
      "4 | train_acc   | BinaryAccuracy   | 0     \n",
      "5 | train_auroc | BinaryAUROC      | 0     \n",
      "6 | train_f1    | BinaryF1Score    | 0     \n",
      "7 | valid_acc   | BinaryAccuracy   | 0     \n",
      "8 | valid_auroc | BinaryAUROC      | 0     \n",
      "9 | valid_f1    | BinaryF1Score    | 0     \n",
      "-------------------------------------------------\n",
      "18.8 K    Trainable params\n",
      "0         Non-trainable params\n",
      "18.8 K    Total params\n",
      "0.075     Total estimated model params size (MB)\n"
     ]
    },
    {
     "name": "stdout",
     "output_type": "stream",
     "text": [
      "Using GAT\n"
     ]
    },
    {
     "name": "stderr",
     "output_type": "stream",
     "text": [
      "`Trainer.fit` stopped: `max_epochs=50` reached.\n"
     ]
    },
    {
     "data": {
      "text/html": [
       "Waiting for W&B process to finish... <strong style=\"color:green\">(success).</strong>"
      ],
      "text/plain": [
       "<IPython.core.display.HTML object>"
      ]
     },
     "metadata": {},
     "output_type": "display_data"
    },
    {
     "data": {
      "application/vnd.jupyter.widget-view+json": {
       "model_id": "8acdaaa0a66f4ff6b14c05d56c1b595e",
       "version_major": 2,
       "version_minor": 0
      },
      "text/plain": [
       "VBox(children=(Label(value='0.001 MB of 0.001 MB uploaded (0.000 MB deduped)\\r'), FloatProgress(value=1.0, max…"
      ]
     },
     "metadata": {},
     "output_type": "display_data"
    },
    {
     "data": {
      "text/html": [
       "<style>\n",
       "    table.wandb td:nth-child(1) { padding: 0 10px; text-align: left ; width: auto;} td:nth-child(2) {text-align: left ; width: 100%}\n",
       "    .wandb-row { display: flex; flex-direction: row; flex-wrap: wrap; justify-content: flex-start; width: 100% }\n",
       "    .wandb-col { display: flex; flex-direction: column; flex-basis: 100%; flex: 1; padding: 10px; }\n",
       "    </style>\n",
       "<div class=\"wandb-row\"><div class=\"wandb-col\"><h3>Run history:</h3><br/><table class=\"wandb\"><tr><td>epoch</td><td>▁▁▁▁▂▂▂▂▂▃▃▃▃▃▃▄▄▄▄▄▅▅▅▅▅▅▆▆▆▆▆▇▇▇▇▇▇███</td></tr><tr><td>lr-Adam</td><td>▁▁▁▁▁▁▁▁▁▁▁▁▁▁▁▁▁▁▁▁▁▁▁▁▁▁▁▁▁▁▁▁▁▁▁▁▁▁▁▁</td></tr><tr><td>train_acc</td><td>▁▃▃▄▆▆▆▆▇▇▇▆▆▇█▇▇▇▇█▇▇██████▇████▇██▇▇██</td></tr><tr><td>train_auc</td><td>▁▃▄▄▇▇▇▆▇▇▇▇▇▇▅▇▄▃▂▄▄▃▃▃▃▆▇▆▆▅▆▇▇▅▇▅█▄▇▅</td></tr><tr><td>train_f1</td><td>▂▁▅▂▅▇▅▅▇▆▆▅▆▆▆▇▆█▆█▆▇▆█▇█▇▇█▇▇▇▇▇▇█▅▇▇▆</td></tr><tr><td>train_loss_epoch</td><td>█▄▃▂▂▁▁▁▁▁▁▁▁▁▁▁▁▁▁▁▁▁▁▁▁▁▁▁▁▁▁▁▁▁▁▁▁▁▁▁</td></tr><tr><td>train_loss_step</td><td>█▅▃▃▃▄▂▂▂▁▂▂▂▂▂▃▂▂▂▂▂▂▂▁▂</td></tr><tr><td>trainer/global_step</td><td>▁▁▁▁▂▁▂▁▂▂▃▃▃▃▄▄▂▄▂▄▂▅▃▅▃▆▆▆▃▃▇▇▇▃▇▄█▄█▄</td></tr><tr><td>val_acc</td><td>▁▁▁▆▇█▇▇▇▇▇▆▇▇▇▇▇▇▇█▇▇▇▇▇▆▆▆▇▆▇▇▇███▇▆▆▅</td></tr><tr><td>val_auc</td><td>▁█▆▇▇▇███▇████████▇█████████████████████</td></tr><tr><td>val_f1</td><td>▁▁▁▆█████▇█▇▇▇▇█▇▇▇█▇▇▇▇▇▇▇▇▇▇▇▇▇███▇▇▇▆</td></tr><tr><td>val_loss_epoch</td><td>█▅▄▃▃▃▂▃▂▃▂▂▂▂▂▂▂▂▂▃▂▁▂▂▂▂▂▃▁▂▂▂▂▂▂▁▂▂▁▃</td></tr><tr><td>val_loss_step</td><td>█▆▅▅▅▄▃▆▄▄▃▃▄▃▄▄▄▄▄▄▄▂▃▃▄▃▃▃▁▃▄▃▄▅▄▃▃▃▄▆</td></tr></table><br/></div><div class=\"wandb-col\"><h3>Run summary:</h3><br/><table class=\"wandb\"><tr><td>epoch</td><td>49</td></tr><tr><td>lr-Adam</td><td>0.005</td></tr><tr><td>train_acc</td><td>0.74138</td></tr><tr><td>train_auc</td><td>0.57519</td></tr><tr><td>train_f1</td><td>0.52915</td></tr><tr><td>train_loss_epoch</td><td>0.52523</td></tr><tr><td>train_loss_step</td><td>0.50996</td></tr><tr><td>trainer/global_step</td><td>249</td></tr><tr><td>val_acc</td><td>0.68421</td></tr><tr><td>val_auc</td><td>0.79052</td></tr><tr><td>val_f1</td><td>0.50515</td></tr><tr><td>val_loss_epoch</td><td>0.60603</td></tr><tr><td>val_loss_step</td><td>0.64903</td></tr></table><br/></div></div>"
      ],
      "text/plain": [
       "<IPython.core.display.HTML object>"
      ]
     },
     "metadata": {},
     "output_type": "display_data"
    },
    {
     "data": {
      "text/html": [
       " View run <strong style=\"color:#cdcd00\">GAT_2_32_onehot_4</strong> at: <a href='https://wandb.ai/thoomas/PLA_01102024_5PPI_Kfold/runs/y57xyfxi' target=\"_blank\">https://wandb.ai/thoomas/PLA_01102024_5PPI_Kfold/runs/y57xyfxi</a><br/>Synced 6 W&B file(s), 0 media file(s), 0 artifact file(s) and 0 other file(s)"
      ],
      "text/plain": [
       "<IPython.core.display.HTML object>"
      ]
     },
     "metadata": {},
     "output_type": "display_data"
    },
    {
     "data": {
      "text/html": [
       "Find logs at: <code>.\\wandb\\run-20240112_212329-y57xyfxi\\logs</code>"
      ],
      "text/plain": [
       "<IPython.core.display.HTML object>"
      ]
     },
     "metadata": {},
     "output_type": "display_data"
    },
    {
     "data": {
      "application/vnd.jupyter.widget-view+json": {
       "model_id": "c78909579a1c4463b253d35e0c3af0b2",
       "version_major": 2,
       "version_minor": 0
      },
      "text/plain": [
       "VBox(children=(Label(value='Waiting for wandb.init()...\\r'), FloatProgress(value=0.016666666666666666, max=1.0…"
      ]
     },
     "metadata": {},
     "output_type": "display_data"
    },
    {
     "data": {
      "text/html": [
       "wandb version 0.16.2 is available!  To upgrade, please run:\n",
       " $ pip install wandb --upgrade"
      ],
      "text/plain": [
       "<IPython.core.display.HTML object>"
      ]
     },
     "metadata": {},
     "output_type": "display_data"
    },
    {
     "data": {
      "text/html": [
       "Tracking run with wandb version 0.14.0"
      ],
      "text/plain": [
       "<IPython.core.display.HTML object>"
      ]
     },
     "metadata": {},
     "output_type": "display_data"
    },
    {
     "data": {
      "text/html": [
       "Run data is saved locally in <code>y:\\coskun-lab\\Thomas\\23_PLA_revision\\notebooks\\wandb\\run-20240112_213907-axcs0f8w</code>"
      ],
      "text/plain": [
       "<IPython.core.display.HTML object>"
      ]
     },
     "metadata": {},
     "output_type": "display_data"
    },
    {
     "data": {
      "text/html": [
       "Syncing run <strong><a href='https://wandb.ai/thoomas/PLA_01102024_5PPI_Kfold/runs/axcs0f8w' target=\"_blank\">GAT_2_32_onehot_4</a></strong> to <a href='https://wandb.ai/thoomas/PLA_01102024_5PPI_Kfold' target=\"_blank\">Weights & Biases</a> (<a href='https://wandb.me/run' target=\"_blank\">docs</a>)<br/>"
      ],
      "text/plain": [
       "<IPython.core.display.HTML object>"
      ]
     },
     "metadata": {},
     "output_type": "display_data"
    },
    {
     "data": {
      "text/html": [
       " View project at <a href='https://wandb.ai/thoomas/PLA_01102024_5PPI_Kfold' target=\"_blank\">https://wandb.ai/thoomas/PLA_01102024_5PPI_Kfold</a>"
      ],
      "text/plain": [
       "<IPython.core.display.HTML object>"
      ]
     },
     "metadata": {},
     "output_type": "display_data"
    },
    {
     "data": {
      "text/html": [
       " View run at <a href='https://wandb.ai/thoomas/PLA_01102024_5PPI_Kfold/runs/axcs0f8w' target=\"_blank\">https://wandb.ai/thoomas/PLA_01102024_5PPI_Kfold/runs/axcs0f8w</a>"
      ],
      "text/plain": [
       "<IPython.core.display.HTML object>"
      ]
     },
     "metadata": {},
     "output_type": "display_data"
    },
    {
     "name": "stderr",
     "output_type": "stream",
     "text": [
      "Global seed set to 42\n",
      "GPU available: True (cuda), used: True\n",
      "TPU available: False, using: 0 TPU cores\n",
      "IPU available: False, using: 0 IPUs\n",
      "HPU available: False, using: 0 HPUs\n",
      "Global seed set to 42\n",
      "LOCAL_RANK: 0 - CUDA_VISIBLE_DEVICES: [0,1]\n",
      "\n",
      "   | Name        | Type             | Params\n",
      "--------------------------------------------------\n",
      "0  | x_embedding | Identity         | 0     \n",
      "1  | model       | GAT              | 18.3 K\n",
      "2  | head        | Sequential       | 562   \n",
      "3  | loss_module | CrossEntropyLoss | 0     \n",
      "4  | train_acc   | BinaryAccuracy   | 0     \n",
      "5  | train_auroc | BinaryAUROC      | 0     \n",
      "6  | train_f1    | BinaryF1Score    | 0     \n",
      "7  | valid_acc   | BinaryAccuracy   | 0     \n",
      "8  | valid_auroc | BinaryAUROC      | 0     \n",
      "9  | valid_f1    | BinaryF1Score    | 0     \n",
      "10 | pool        | GlobalAttention  | 33    \n",
      "--------------------------------------------------\n",
      "18.9 K    Trainable params\n",
      "0         Non-trainable params\n",
      "18.9 K    Total params\n",
      "0.075     Total estimated model params size (MB)\n"
     ]
    },
    {
     "name": "stdout",
     "output_type": "stream",
     "text": [
      "Using GAT\n"
     ]
    },
    {
     "name": "stderr",
     "output_type": "stream",
     "text": [
      "`Trainer.fit` stopped: `max_epochs=50` reached.\n"
     ]
    },
    {
     "data": {
      "text/html": [
       "Waiting for W&B process to finish... <strong style=\"color:green\">(success).</strong>"
      ],
      "text/plain": [
       "<IPython.core.display.HTML object>"
      ]
     },
     "metadata": {},
     "output_type": "display_data"
    },
    {
     "data": {
      "application/vnd.jupyter.widget-view+json": {
       "model_id": "bcda5f3e0c4944188a6fd2a6aab8ae50",
       "version_major": 2,
       "version_minor": 0
      },
      "text/plain": [
       "VBox(children=(Label(value='0.001 MB of 0.001 MB uploaded (0.000 MB deduped)\\r'), FloatProgress(value=1.0, max…"
      ]
     },
     "metadata": {},
     "output_type": "display_data"
    },
    {
     "data": {
      "text/html": [
       "<style>\n",
       "    table.wandb td:nth-child(1) { padding: 0 10px; text-align: left ; width: auto;} td:nth-child(2) {text-align: left ; width: 100%}\n",
       "    .wandb-row { display: flex; flex-direction: row; flex-wrap: wrap; justify-content: flex-start; width: 100% }\n",
       "    .wandb-col { display: flex; flex-direction: column; flex-basis: 100%; flex: 1; padding: 10px; }\n",
       "    </style>\n",
       "<div class=\"wandb-row\"><div class=\"wandb-col\"><h3>Run history:</h3><br/><table class=\"wandb\"><tr><td>epoch</td><td>▁▁▁▁▂▂▂▂▂▃▃▃▃▃▃▄▄▄▄▄▅▅▅▅▅▅▆▆▆▆▆▇▇▇▇▇▇███</td></tr><tr><td>lr-Adam</td><td>▁▁▁▁▁▁▁▁▁▁▁▁▁▁▁▁▁▁▁▁▁▁▁▁▁▁▁▁▁▁▁▁▁▁▁▁▁▁▁▁</td></tr><tr><td>train_acc</td><td>▁▁▂▅▆▆▆▅▅▇▆▇▆▆▆▇▆▇▆▆█▆█▆▆█▆▇▇▇▆▇▇▆▆▇▇▆▇▆</td></tr><tr><td>train_auc</td><td>▁▂▅▆▇▇▇▇▇█▇█▇▇▇▇▇██▇█▇█▇▇█▇███▇██████▇██</td></tr><tr><td>train_f1</td><td>▁▁▃▆█▇▇▇▇▇▇▇▇█▆█▇▇▇▇█▇█▇▇█▇██▇▇██▇▇██▇█▇</td></tr><tr><td>train_loss_epoch</td><td>██▆▃▃▂▂▃▂▁▃▂▂▂▂▂▂▁▂▂▁▃▁▂▂▁▂▂▂▁▂▂▂▂▁▁▂▂▁▂</td></tr><tr><td>train_loss_step</td><td>█▆▇▅▄▅▃▆▄▃▃▅▃▄▃▁▅▄▄▂▅▄▅▅▄</td></tr><tr><td>trainer/global_step</td><td>▁▁▁▁▂▁▂▁▂▂▃▃▃▃▄▄▂▄▂▄▂▅▃▅▃▆▆▆▃▃▇▇▇▃▇▄█▄█▄</td></tr><tr><td>val_acc</td><td>▁▁▁▇█▇▇▇▇▇▆▆▆█▇▇▇▇▇▇▆██▇▇▇▆█▇▇▇█▇█▆█▆▆▆▆</td></tr><tr><td>val_auc</td><td>▁▃▅▆▇▇▆▇▇▇▇▇▇▇█▇▇▇▇███████▇▇███▇▇▇██▇▇█▇</td></tr><tr><td>val_f1</td><td>▁▁▁██▇▇▇█████████▇█▇▇███████████████████</td></tr><tr><td>val_loss_epoch</td><td>█▇█▆▄▄▅▄▄▃▄▄▃▃▃▅▄▃▃▅▃▄▄▅▃▄▅▄▄▁▃▃▃▂▃▄▄▃▅▃</td></tr><tr><td>val_loss_step</td><td>███▇▅▅▆▄▄▅▅▅▅▄▄▄▄▃▅▅▅▅▅▄▄▆▄▅▆▁▄▄▄▃▄▄▅▃▅▃</td></tr></table><br/></div><div class=\"wandb-col\"><h3>Run summary:</h3><br/><table class=\"wandb\"><tr><td>epoch</td><td>49</td></tr><tr><td>lr-Adam</td><td>0.005</td></tr><tr><td>train_acc</td><td>0.71018</td></tr><tr><td>train_auc</td><td>0.77508</td></tr><tr><td>train_f1</td><td>0.52744</td></tr><tr><td>train_loss_epoch</td><td>0.54249</td></tr><tr><td>train_loss_step</td><td>0.53954</td></tr><tr><td>trainer/global_step</td><td>249</td></tr><tr><td>val_acc</td><td>0.69079</td></tr><tr><td>val_auc</td><td>0.77254</td></tr><tr><td>val_f1</td><td>0.68456</td></tr><tr><td>val_loss_epoch</td><td>0.5592</td></tr><tr><td>val_loss_step</td><td>0.52082</td></tr></table><br/></div></div>"
      ],
      "text/plain": [
       "<IPython.core.display.HTML object>"
      ]
     },
     "metadata": {},
     "output_type": "display_data"
    },
    {
     "data": {
      "text/html": [
       " View run <strong style=\"color:#cdcd00\">GAT_2_32_onehot_4</strong> at: <a href='https://wandb.ai/thoomas/PLA_01102024_5PPI_Kfold/runs/axcs0f8w' target=\"_blank\">https://wandb.ai/thoomas/PLA_01102024_5PPI_Kfold/runs/axcs0f8w</a><br/>Synced 6 W&B file(s), 0 media file(s), 0 artifact file(s) and 0 other file(s)"
      ],
      "text/plain": [
       "<IPython.core.display.HTML object>"
      ]
     },
     "metadata": {},
     "output_type": "display_data"
    },
    {
     "data": {
      "text/html": [
       "Find logs at: <code>.\\wandb\\run-20240112_213907-axcs0f8w\\logs</code>"
      ],
      "text/plain": [
       "<IPython.core.display.HTML object>"
      ]
     },
     "metadata": {},
     "output_type": "display_data"
    },
    {
     "data": {
      "application/vnd.jupyter.widget-view+json": {
       "model_id": "7b45b126d0bb4ecf9e1513ec795780f1",
       "version_major": 2,
       "version_minor": 0
      },
      "text/plain": [
       "VBox(children=(Label(value='Waiting for wandb.init()...\\r'), FloatProgress(value=0.017183333332650364, max=1.0…"
      ]
     },
     "metadata": {},
     "output_type": "display_data"
    },
    {
     "data": {
      "text/html": [
       "wandb version 0.16.2 is available!  To upgrade, please run:\n",
       " $ pip install wandb --upgrade"
      ],
      "text/plain": [
       "<IPython.core.display.HTML object>"
      ]
     },
     "metadata": {},
     "output_type": "display_data"
    },
    {
     "data": {
      "text/html": [
       "Tracking run with wandb version 0.14.0"
      ],
      "text/plain": [
       "<IPython.core.display.HTML object>"
      ]
     },
     "metadata": {},
     "output_type": "display_data"
    },
    {
     "data": {
      "text/html": [
       "Run data is saved locally in <code>y:\\coskun-lab\\Thomas\\23_PLA_revision\\notebooks\\wandb\\run-20240112_215739-ym58dt2v</code>"
      ],
      "text/plain": [
       "<IPython.core.display.HTML object>"
      ]
     },
     "metadata": {},
     "output_type": "display_data"
    },
    {
     "data": {
      "text/html": [
       "Syncing run <strong><a href='https://wandb.ai/thoomas/PLA_01102024_5PPI_Kfold/runs/ym58dt2v' target=\"_blank\">GAT_2_32_onehot_4</a></strong> to <a href='https://wandb.ai/thoomas/PLA_01102024_5PPI_Kfold' target=\"_blank\">Weights & Biases</a> (<a href='https://wandb.me/run' target=\"_blank\">docs</a>)<br/>"
      ],
      "text/plain": [
       "<IPython.core.display.HTML object>"
      ]
     },
     "metadata": {},
     "output_type": "display_data"
    },
    {
     "data": {
      "text/html": [
       " View project at <a href='https://wandb.ai/thoomas/PLA_01102024_5PPI_Kfold' target=\"_blank\">https://wandb.ai/thoomas/PLA_01102024_5PPI_Kfold</a>"
      ],
      "text/plain": [
       "<IPython.core.display.HTML object>"
      ]
     },
     "metadata": {},
     "output_type": "display_data"
    },
    {
     "data": {
      "text/html": [
       " View run at <a href='https://wandb.ai/thoomas/PLA_01102024_5PPI_Kfold/runs/ym58dt2v' target=\"_blank\">https://wandb.ai/thoomas/PLA_01102024_5PPI_Kfold/runs/ym58dt2v</a>"
      ],
      "text/plain": [
       "<IPython.core.display.HTML object>"
      ]
     },
     "metadata": {},
     "output_type": "display_data"
    },
    {
     "name": "stderr",
     "output_type": "stream",
     "text": [
      "Global seed set to 42\n",
      "GPU available: True (cuda), used: True\n",
      "TPU available: False, using: 0 TPU cores\n",
      "IPU available: False, using: 0 IPUs\n",
      "HPU available: False, using: 0 HPUs\n",
      "Global seed set to 42\n",
      "LOCAL_RANK: 0 - CUDA_VISIBLE_DEVICES: [0,1]\n",
      "\n",
      "   | Name        | Type             | Params\n",
      "--------------------------------------------------\n",
      "0  | x_embedding | Identity         | 0     \n",
      "1  | model       | GAT              | 18.3 K\n",
      "2  | head        | Sequential       | 562   \n",
      "3  | loss_module | CrossEntropyLoss | 0     \n",
      "4  | train_acc   | BinaryAccuracy   | 0     \n",
      "5  | train_auroc | BinaryAUROC      | 0     \n",
      "6  | train_f1    | BinaryF1Score    | 0     \n",
      "7  | valid_acc   | BinaryAccuracy   | 0     \n",
      "8  | valid_auroc | BinaryAUROC      | 0     \n",
      "9  | valid_f1    | BinaryF1Score    | 0     \n",
      "10 | pool        | Attention_module | 1.1 K \n",
      "--------------------------------------------------\n",
      "19.9 K    Trainable params\n",
      "0         Non-trainable params\n",
      "19.9 K    Total params\n",
      "0.080     Total estimated model params size (MB)\n"
     ]
    },
    {
     "name": "stdout",
     "output_type": "stream",
     "text": [
      "Using GAT\n"
     ]
    },
    {
     "name": "stderr",
     "output_type": "stream",
     "text": [
      "`Trainer.fit` stopped: `max_epochs=50` reached.\n"
     ]
    },
    {
     "data": {
      "text/html": [
       "Waiting for W&B process to finish... <strong style=\"color:green\">(success).</strong>"
      ],
      "text/plain": [
       "<IPython.core.display.HTML object>"
      ]
     },
     "metadata": {},
     "output_type": "display_data"
    },
    {
     "data": {
      "application/vnd.jupyter.widget-view+json": {
       "model_id": "113a9b6f704943438eba08759cb5d936",
       "version_major": 2,
       "version_minor": 0
      },
      "text/plain": [
       "VBox(children=(Label(value='0.001 MB of 0.001 MB uploaded (0.000 MB deduped)\\r'), FloatProgress(value=1.0, max…"
      ]
     },
     "metadata": {},
     "output_type": "display_data"
    },
    {
     "data": {
      "text/html": [
       "<style>\n",
       "    table.wandb td:nth-child(1) { padding: 0 10px; text-align: left ; width: auto;} td:nth-child(2) {text-align: left ; width: 100%}\n",
       "    .wandb-row { display: flex; flex-direction: row; flex-wrap: wrap; justify-content: flex-start; width: 100% }\n",
       "    .wandb-col { display: flex; flex-direction: column; flex-basis: 100%; flex: 1; padding: 10px; }\n",
       "    </style>\n",
       "<div class=\"wandb-row\"><div class=\"wandb-col\"><h3>Run history:</h3><br/><table class=\"wandb\"><tr><td>epoch</td><td>▁▁▁▁▂▂▂▂▂▃▃▃▃▃▃▄▄▄▄▄▅▅▅▅▅▅▆▆▆▆▆▇▇▇▇▇▇███</td></tr><tr><td>lr-Adam</td><td>▁▁▁▁▁▁▁▁▁▁▁▁▁▁▁▁▁▁▁▁▁▁▁▁▁▁▁▁▁▁▁▁▁▁▁▁▁▁▁▁</td></tr><tr><td>train_acc</td><td>▁▁▂▂▇▇▆▆▆▇▆▇▇▇▆█▆▇▆▆▅▆█▆▇▇█▇▇▇▇▇▇▇▆▇▇█▇▇</td></tr><tr><td>train_auc</td><td>▁▂▃▅▇▇▇▇▇▇██▇█▇█▇█▇████▇█████▇████▇█████</td></tr><tr><td>train_f1</td><td>▁▁▄▂▇█▇▇▇▇▇███▇█▇█▆█▆▇█▇▇██▇█▇▇█▇█▇█▇███</td></tr><tr><td>train_loss_epoch</td><td>██▇▅▃▂▃▃▂▂▂▂▂▂▂▂▂▂▃▂▂▂▂▂▁▁▁▂▂▂▂▂▁▂▂▂▁▂▁▂</td></tr><tr><td>train_loss_step</td><td>██▆▄▆▅▆▄▄▄▂▂▅▅▄▆▄▃▃▄▄▇▅▁▄</td></tr><tr><td>trainer/global_step</td><td>▁▁▁▁▂▁▂▁▂▂▃▃▃▃▄▄▂▄▂▄▂▅▃▅▃▆▆▆▃▃▇▇▇▃▇▄█▄█▄</td></tr><tr><td>val_acc</td><td>▁▁▁▃▆▇▆█▇█▇█▇▇▇▇▇▇▇███▇▇█▇█▇▇▇█▇▇▇▇█▇▆█▆</td></tr><tr><td>val_auc</td><td>▁▄▅▇▇▆▇▇▇▇█▇▇█▇▇▇█▇▇████▇█▇█▇█▇█▇██▇▇▇██</td></tr><tr><td>val_f1</td><td>▁▁▁▄▇█▆███████▇██▇▇█▇████████▇███▇▇█████</td></tr><tr><td>val_loss_epoch</td><td>█▇▆▆▃▄▃▃▃▃▂▂▃▃▁▂▁▃▃▂▄▃▃▄▂▃▃▃▃▂▂▃▄▃▁▄▂▃▃▄</td></tr><tr><td>val_loss_step</td><td>██▇█▆▅▄▄▅▅▂▂▅▄▁▄▆▅▅▅▄▄▅▄▅▄▄▄▅▃▄▅▆▄▄▅▃▆▅▇</td></tr></table><br/></div><div class=\"wandb-col\"><h3>Run summary:</h3><br/><table class=\"wandb\"><tr><td>epoch</td><td>49</td></tr><tr><td>lr-Adam</td><td>0.005</td></tr><tr><td>train_acc</td><td>0.71839</td></tr><tr><td>train_auc</td><td>0.76996</td></tr><tr><td>train_f1</td><td>0.56082</td></tr><tr><td>train_loss_epoch</td><td>0.54556</td></tr><tr><td>train_loss_step</td><td>0.5452</td></tr><tr><td>trainer/global_step</td><td>249</td></tr><tr><td>val_acc</td><td>0.69408</td></tr><tr><td>val_auc</td><td>0.77568</td></tr><tr><td>val_f1</td><td>0.66904</td></tr><tr><td>val_loss_epoch</td><td>0.61013</td></tr><tr><td>val_loss_step</td><td>0.66146</td></tr></table><br/></div></div>"
      ],
      "text/plain": [
       "<IPython.core.display.HTML object>"
      ]
     },
     "metadata": {},
     "output_type": "display_data"
    },
    {
     "data": {
      "text/html": [
       " View run <strong style=\"color:#cdcd00\">GAT_2_32_onehot_4</strong> at: <a href='https://wandb.ai/thoomas/PLA_01102024_5PPI_Kfold/runs/ym58dt2v' target=\"_blank\">https://wandb.ai/thoomas/PLA_01102024_5PPI_Kfold/runs/ym58dt2v</a><br/>Synced 6 W&B file(s), 0 media file(s), 0 artifact file(s) and 0 other file(s)"
      ],
      "text/plain": [
       "<IPython.core.display.HTML object>"
      ]
     },
     "metadata": {},
     "output_type": "display_data"
    },
    {
     "data": {
      "text/html": [
       "Find logs at: <code>.\\wandb\\run-20240112_215739-ym58dt2v\\logs</code>"
      ],
      "text/plain": [
       "<IPython.core.display.HTML object>"
      ]
     },
     "metadata": {},
     "output_type": "display_data"
    },
    {
     "data": {
      "application/vnd.jupyter.widget-view+json": {
       "model_id": "b5d00df3be8f492cb786fb1d5a3ed890",
       "version_major": 2,
       "version_minor": 0
      },
      "text/plain": [
       "VBox(children=(Label(value='Waiting for wandb.init()...\\r'), FloatProgress(value=0.01691666666495924, max=1.0)…"
      ]
     },
     "metadata": {},
     "output_type": "display_data"
    },
    {
     "data": {
      "text/html": [
       "wandb version 0.16.2 is available!  To upgrade, please run:\n",
       " $ pip install wandb --upgrade"
      ],
      "text/plain": [
       "<IPython.core.display.HTML object>"
      ]
     },
     "metadata": {},
     "output_type": "display_data"
    },
    {
     "data": {
      "text/html": [
       "Tracking run with wandb version 0.14.0"
      ],
      "text/plain": [
       "<IPython.core.display.HTML object>"
      ]
     },
     "metadata": {},
     "output_type": "display_data"
    },
    {
     "data": {
      "text/html": [
       "Run data is saved locally in <code>y:\\coskun-lab\\Thomas\\23_PLA_revision\\notebooks\\wandb\\run-20240112_221302-ui9xnh4b</code>"
      ],
      "text/plain": [
       "<IPython.core.display.HTML object>"
      ]
     },
     "metadata": {},
     "output_type": "display_data"
    },
    {
     "data": {
      "text/html": [
       "Syncing run <strong><a href='https://wandb.ai/thoomas/PLA_01102024_5PPI_Kfold/runs/ui9xnh4b' target=\"_blank\">GAT_2_64_onehot_4</a></strong> to <a href='https://wandb.ai/thoomas/PLA_01102024_5PPI_Kfold' target=\"_blank\">Weights & Biases</a> (<a href='https://wandb.me/run' target=\"_blank\">docs</a>)<br/>"
      ],
      "text/plain": [
       "<IPython.core.display.HTML object>"
      ]
     },
     "metadata": {},
     "output_type": "display_data"
    },
    {
     "data": {
      "text/html": [
       " View project at <a href='https://wandb.ai/thoomas/PLA_01102024_5PPI_Kfold' target=\"_blank\">https://wandb.ai/thoomas/PLA_01102024_5PPI_Kfold</a>"
      ],
      "text/plain": [
       "<IPython.core.display.HTML object>"
      ]
     },
     "metadata": {},
     "output_type": "display_data"
    },
    {
     "data": {
      "text/html": [
       " View run at <a href='https://wandb.ai/thoomas/PLA_01102024_5PPI_Kfold/runs/ui9xnh4b' target=\"_blank\">https://wandb.ai/thoomas/PLA_01102024_5PPI_Kfold/runs/ui9xnh4b</a>"
      ],
      "text/plain": [
       "<IPython.core.display.HTML object>"
      ]
     },
     "metadata": {},
     "output_type": "display_data"
    },
    {
     "name": "stderr",
     "output_type": "stream",
     "text": [
      "Global seed set to 42\n",
      "GPU available: True (cuda), used: True\n",
      "TPU available: False, using: 0 TPU cores\n",
      "IPU available: False, using: 0 IPUs\n",
      "HPU available: False, using: 0 HPUs\n",
      "Global seed set to 42\n",
      "LOCAL_RANK: 0 - CUDA_VISIBLE_DEVICES: [0,1]\n",
      "\n",
      "  | Name        | Type             | Params\n",
      "-------------------------------------------------\n",
      "0 | x_embedding | Identity         | 0     \n",
      "1 | model       | GAT              | 69.3 K\n",
      "2 | head        | Sequential       | 2.1 K \n",
      "3 | loss_module | CrossEntropyLoss | 0     \n",
      "4 | train_acc   | BinaryAccuracy   | 0     \n",
      "5 | train_auroc | BinaryAUROC      | 0     \n",
      "6 | train_f1    | BinaryF1Score    | 0     \n",
      "7 | valid_acc   | BinaryAccuracy   | 0     \n",
      "8 | valid_auroc | BinaryAUROC      | 0     \n",
      "9 | valid_f1    | BinaryF1Score    | 0     \n",
      "-------------------------------------------------\n",
      "71.5 K    Trainable params\n",
      "0         Non-trainable params\n",
      "71.5 K    Total params\n",
      "0.286     Total estimated model params size (MB)\n"
     ]
    },
    {
     "name": "stdout",
     "output_type": "stream",
     "text": [
      "Using GAT\n"
     ]
    },
    {
     "name": "stderr",
     "output_type": "stream",
     "text": [
      "`Trainer.fit` stopped: `max_epochs=50` reached.\n"
     ]
    },
    {
     "data": {
      "text/html": [
       "Waiting for W&B process to finish... <strong style=\"color:green\">(success).</strong>"
      ],
      "text/plain": [
       "<IPython.core.display.HTML object>"
      ]
     },
     "metadata": {},
     "output_type": "display_data"
    },
    {
     "data": {
      "application/vnd.jupyter.widget-view+json": {
       "model_id": "2bd55cfef4ff4b97a33698237a1d12fb",
       "version_major": 2,
       "version_minor": 0
      },
      "text/plain": [
       "VBox(children=(Label(value='0.001 MB of 0.001 MB uploaded (0.000 MB deduped)\\r'), FloatProgress(value=1.0, max…"
      ]
     },
     "metadata": {},
     "output_type": "display_data"
    },
    {
     "data": {
      "text/html": [
       "<style>\n",
       "    table.wandb td:nth-child(1) { padding: 0 10px; text-align: left ; width: auto;} td:nth-child(2) {text-align: left ; width: 100%}\n",
       "    .wandb-row { display: flex; flex-direction: row; flex-wrap: wrap; justify-content: flex-start; width: 100% }\n",
       "    .wandb-col { display: flex; flex-direction: column; flex-basis: 100%; flex: 1; padding: 10px; }\n",
       "    </style>\n",
       "<div class=\"wandb-row\"><div class=\"wandb-col\"><h3>Run history:</h3><br/><table class=\"wandb\"><tr><td>epoch</td><td>▁▁▁▁▂▂▂▂▂▃▃▃▃▃▃▄▄▄▄▄▅▅▅▅▅▅▆▆▆▆▆▇▇▇▇▇▇███</td></tr><tr><td>lr-Adam</td><td>▁▁▁▁▁▁▁▁▁▁▁▁▁▁▁▁▁▁▁▁▁▁▁▁▁▁▁▁▁▁▁▁▁▁▁▁▁▁▁▁</td></tr><tr><td>train_acc</td><td>▁▂▄▅▆▇▆▆▆▆▇▇▇▆▆▇▇▇▆▆▇▇▇▇▇▇▇▇▇▇▇█▆▇█▇▇▆▆▇</td></tr><tr><td>train_auc</td><td>▁▅▅▇▇▇▇▇▇▇▇▇▇▇▇██▇▇▇████▇██████████▇█▇██</td></tr><tr><td>train_f1</td><td>▁▅▅▇▇█▆█▇▇▇█▇█▇█▇█▇▇▇█▇▇▇██▇▇█▇▇▇▇███▇▇▇</td></tr><tr><td>train_loss_epoch</td><td>█▆▅▄▃▂▃▃▂▃▂▃▂▂▂▂▂▂▂▂▂▂▁▂▂▂▁▁▂▂▂▁▂▂▂▂▁▂▂▂</td></tr><tr><td>train_loss_step</td><td>▅▅▇▂▄█▅▇█▂▂▅▂▂▄▂▃▂▅▄█▃▁▃▆</td></tr><tr><td>trainer/global_step</td><td>▁▁▁▁▂▁▂▁▂▂▃▃▃▃▄▄▂▄▂▄▂▅▃▅▃▆▆▆▃▃▇▇▇▃▇▄█▄█▄</td></tr><tr><td>val_acc</td><td>▁▁▇▆█▇█▆▇▇█▆██▇▇▆▇▆▇▇▆▇████▇▇▇▇▇▇█▇▇▇█▇▆</td></tr><tr><td>val_auc</td><td>▁▄▂▃▅▆▆▆▇▇▆▇▇███▇███▇▇▇█▇███▇██▇▆▇▇██▇██</td></tr><tr><td>val_f1</td><td>▁▁▇▇█▇█▆█▇█▆█▇▇▇▇▇▆▇▇▆▇██████▇▇▇▇██▇▇█▇▇</td></tr><tr><td>val_loss_epoch</td><td>█▇▇▆▆▄▃▄▃▃▃▄▃▂▃▂▃▂▃▂▁▄▃▃▁▄▂▂▂▂▃▄▄▂▄▁▂▃▄▂</td></tr><tr><td>val_loss_step</td><td>█▇▇▇▅▅▂▆▅▄▃▆▄▃▅▄▄▃▄▅▄▆▃▄▄▆▄▄▁▂▃▃▆▁▄▃▂▄▄▃</td></tr></table><br/></div><div class=\"wandb-col\"><h3>Run summary:</h3><br/><table class=\"wandb\"><tr><td>epoch</td><td>49</td></tr><tr><td>lr-Adam</td><td>0.005</td></tr><tr><td>train_acc</td><td>0.72003</td></tr><tr><td>train_auc</td><td>0.77551</td></tr><tr><td>train_f1</td><td>0.52308</td></tr><tr><td>train_loss_epoch</td><td>0.54533</td></tr><tr><td>train_loss_step</td><td>0.57377</td></tr><tr><td>trainer/global_step</td><td>249</td></tr><tr><td>val_acc</td><td>0.69079</td></tr><tr><td>val_auc</td><td>0.78219</td></tr><tr><td>val_f1</td><td>0.59829</td></tr><tr><td>val_loss_epoch</td><td>0.55483</td></tr><tr><td>val_loss_step</td><td>0.54135</td></tr></table><br/></div></div>"
      ],
      "text/plain": [
       "<IPython.core.display.HTML object>"
      ]
     },
     "metadata": {},
     "output_type": "display_data"
    },
    {
     "data": {
      "text/html": [
       " View run <strong style=\"color:#cdcd00\">GAT_2_64_onehot_4</strong> at: <a href='https://wandb.ai/thoomas/PLA_01102024_5PPI_Kfold/runs/ui9xnh4b' target=\"_blank\">https://wandb.ai/thoomas/PLA_01102024_5PPI_Kfold/runs/ui9xnh4b</a><br/>Synced 6 W&B file(s), 0 media file(s), 0 artifact file(s) and 0 other file(s)"
      ],
      "text/plain": [
       "<IPython.core.display.HTML object>"
      ]
     },
     "metadata": {},
     "output_type": "display_data"
    },
    {
     "data": {
      "text/html": [
       "Find logs at: <code>.\\wandb\\run-20240112_221302-ui9xnh4b\\logs</code>"
      ],
      "text/plain": [
       "<IPython.core.display.HTML object>"
      ]
     },
     "metadata": {},
     "output_type": "display_data"
    },
    {
     "data": {
      "application/vnd.jupyter.widget-view+json": {
       "model_id": "5641602a5c104e7a8ead9fac3378d87f",
       "version_major": 2,
       "version_minor": 0
      },
      "text/plain": [
       "VBox(children=(Label(value='Waiting for wandb.init()...\\r'), FloatProgress(value=0.016933333330477276, max=1.0…"
      ]
     },
     "metadata": {},
     "output_type": "display_data"
    },
    {
     "data": {
      "text/html": [
       "wandb version 0.16.2 is available!  To upgrade, please run:\n",
       " $ pip install wandb --upgrade"
      ],
      "text/plain": [
       "<IPython.core.display.HTML object>"
      ]
     },
     "metadata": {},
     "output_type": "display_data"
    },
    {
     "data": {
      "text/html": [
       "Tracking run with wandb version 0.14.0"
      ],
      "text/plain": [
       "<IPython.core.display.HTML object>"
      ]
     },
     "metadata": {},
     "output_type": "display_data"
    },
    {
     "data": {
      "text/html": [
       "Run data is saved locally in <code>y:\\coskun-lab\\Thomas\\23_PLA_revision\\notebooks\\wandb\\run-20240112_222804-naro6m0w</code>"
      ],
      "text/plain": [
       "<IPython.core.display.HTML object>"
      ]
     },
     "metadata": {},
     "output_type": "display_data"
    },
    {
     "data": {
      "text/html": [
       "Syncing run <strong><a href='https://wandb.ai/thoomas/PLA_01102024_5PPI_Kfold/runs/naro6m0w' target=\"_blank\">GAT_2_64_onehot_4</a></strong> to <a href='https://wandb.ai/thoomas/PLA_01102024_5PPI_Kfold' target=\"_blank\">Weights & Biases</a> (<a href='https://wandb.me/run' target=\"_blank\">docs</a>)<br/>"
      ],
      "text/plain": [
       "<IPython.core.display.HTML object>"
      ]
     },
     "metadata": {},
     "output_type": "display_data"
    },
    {
     "data": {
      "text/html": [
       " View project at <a href='https://wandb.ai/thoomas/PLA_01102024_5PPI_Kfold' target=\"_blank\">https://wandb.ai/thoomas/PLA_01102024_5PPI_Kfold</a>"
      ],
      "text/plain": [
       "<IPython.core.display.HTML object>"
      ]
     },
     "metadata": {},
     "output_type": "display_data"
    },
    {
     "data": {
      "text/html": [
       " View run at <a href='https://wandb.ai/thoomas/PLA_01102024_5PPI_Kfold/runs/naro6m0w' target=\"_blank\">https://wandb.ai/thoomas/PLA_01102024_5PPI_Kfold/runs/naro6m0w</a>"
      ],
      "text/plain": [
       "<IPython.core.display.HTML object>"
      ]
     },
     "metadata": {},
     "output_type": "display_data"
    },
    {
     "name": "stderr",
     "output_type": "stream",
     "text": [
      "Global seed set to 42\n",
      "GPU available: True (cuda), used: True\n",
      "TPU available: False, using: 0 TPU cores\n",
      "IPU available: False, using: 0 IPUs\n",
      "HPU available: False, using: 0 HPUs\n",
      "Global seed set to 42\n",
      "LOCAL_RANK: 0 - CUDA_VISIBLE_DEVICES: [0,1]\n",
      "\n",
      "  | Name        | Type             | Params\n",
      "-------------------------------------------------\n",
      "0 | x_embedding | Identity         | 0     \n",
      "1 | model       | GAT              | 69.3 K\n",
      "2 | head        | Sequential       | 2.1 K \n",
      "3 | loss_module | CrossEntropyLoss | 0     \n",
      "4 | train_acc   | BinaryAccuracy   | 0     \n",
      "5 | train_auroc | BinaryAUROC      | 0     \n",
      "6 | train_f1    | BinaryF1Score    | 0     \n",
      "7 | valid_acc   | BinaryAccuracy   | 0     \n",
      "8 | valid_auroc | BinaryAUROC      | 0     \n",
      "9 | valid_f1    | BinaryF1Score    | 0     \n",
      "-------------------------------------------------\n",
      "71.5 K    Trainable params\n",
      "0         Non-trainable params\n",
      "71.5 K    Total params\n",
      "0.286     Total estimated model params size (MB)\n"
     ]
    },
    {
     "name": "stdout",
     "output_type": "stream",
     "text": [
      "Using GAT\n"
     ]
    },
    {
     "name": "stderr",
     "output_type": "stream",
     "text": [
      "`Trainer.fit` stopped: `max_epochs=50` reached.\n"
     ]
    },
    {
     "data": {
      "text/html": [
       "Waiting for W&B process to finish... <strong style=\"color:green\">(success).</strong>"
      ],
      "text/plain": [
       "<IPython.core.display.HTML object>"
      ]
     },
     "metadata": {},
     "output_type": "display_data"
    },
    {
     "data": {
      "application/vnd.jupyter.widget-view+json": {
       "model_id": "d3773170e368406f811cdf6c44670c71",
       "version_major": 2,
       "version_minor": 0
      },
      "text/plain": [
       "VBox(children=(Label(value='0.001 MB of 0.001 MB uploaded (0.000 MB deduped)\\r'), FloatProgress(value=1.0, max…"
      ]
     },
     "metadata": {},
     "output_type": "display_data"
    },
    {
     "data": {
      "text/html": [
       "<style>\n",
       "    table.wandb td:nth-child(1) { padding: 0 10px; text-align: left ; width: auto;} td:nth-child(2) {text-align: left ; width: 100%}\n",
       "    .wandb-row { display: flex; flex-direction: row; flex-wrap: wrap; justify-content: flex-start; width: 100% }\n",
       "    .wandb-col { display: flex; flex-direction: column; flex-basis: 100%; flex: 1; padding: 10px; }\n",
       "    </style>\n",
       "<div class=\"wandb-row\"><div class=\"wandb-col\"><h3>Run history:</h3><br/><table class=\"wandb\"><tr><td>epoch</td><td>▁▁▁▁▂▂▂▂▂▃▃▃▃▃▃▄▄▄▄▄▅▅▅▅▅▅▆▆▆▆▆▇▇▇▇▇▇███</td></tr><tr><td>lr-Adam</td><td>▁▁▁▁▁▁▁▁▁▁▁▁▁▁▁▁▁▁▁▁▁▁▁▁▁▁▁▁▁▁▁▁▁▁▁▁▁▁▁▁</td></tr><tr><td>train_acc</td><td>▁▁▂▃▄▆▅▄▅▅▇▇▆▅▆█▇▆█▆▇▇▇▆▇▆▇▆▇▇▇▆▆▇▆▅▇▇▇▇</td></tr><tr><td>train_auc</td><td>▁▃▄▅▆▇▆▇▇▇▇▇▇▇███▇█▇████▇▇█▇████▇█▇▇████</td></tr><tr><td>train_f1</td><td>▁▄▃▆▆▇▅█▇▆█▇▇▇▆█▇▇█▇▇█▇▇▇▇▇▇▇██▇▇▇▇▇█▇▇▇</td></tr><tr><td>train_loss_epoch</td><td>█▆▆▅▄▃▄▄▃▃▂▂▂▃▂▂▁▂▁▂▂▁▁▂▂▂▁▂▁▂▂▂▂▁▂▂▁▂▂▂</td></tr><tr><td>train_loss_step</td><td>▅▆█▃▂▅▅▅▄▂▃▃▄▂▃▄▄▁▄▂▅▃▄▂▃</td></tr><tr><td>trainer/global_step</td><td>▁▁▁▁▂▁▂▁▂▂▃▃▃▃▄▄▂▄▂▄▂▅▃▅▃▆▆▆▃▃▇▇▇▃▇▄█▄█▄</td></tr><tr><td>val_acc</td><td>▁▁▁▂▃▃▆▂▅█▇▇█▃▇▃▃▃▃▃▃▂▃▄▄▃▃▄▄▃▄▃▅▄▅▂▂▅▂▂</td></tr><tr><td>val_auc</td><td>▁▃▄▅▆▆▆▇▇▇▇▇▇▇▇▇▇▇█▇▇▇▇▇▇▇▇█████████▇███</td></tr><tr><td>val_f1</td><td>▁▁▂▂▄▄▆▂▆██▇█▃▇▄▃▄▄▃▄▂▃▅▅▃▃▅▅▃▄▄▆▅▆▂▂▅▂▂</td></tr><tr><td>val_loss_epoch</td><td>██▇▆▅▅▄▄▃▃▂▃▂▃▄▃▃▄▃▅▁▅▃▄▂▇▄▂▃▄▃▃▃▁▅▄▄▂▅▁</td></tr><tr><td>val_loss_step</td><td>▆▆▆▅▅▄▄▄▄▄▃▄▃▃▅▄▄▄▄▅▄▅▃▄▄█▄▄▄▄▄▄▅▂▅▄▂▃▄▁</td></tr></table><br/></div><div class=\"wandb-col\"><h3>Run summary:</h3><br/><table class=\"wandb\"><tr><td>epoch</td><td>49</td></tr><tr><td>lr-Adam</td><td>0.005</td></tr><tr><td>train_acc</td><td>0.71675</td></tr><tr><td>train_auc</td><td>0.77007</td></tr><tr><td>train_f1</td><td>0.51748</td></tr><tr><td>train_loss_epoch</td><td>0.54818</td></tr><tr><td>train_loss_step</td><td>0.56028</td></tr><tr><td>trainer/global_step</td><td>249</td></tr><tr><td>val_acc</td><td>0.59211</td></tr><tr><td>val_auc</td><td>0.77519</td></tr><tr><td>val_f1</td><td>0.07463</td></tr><tr><td>val_loss_epoch</td><td>0.57138</td></tr><tr><td>val_loss_step</td><td>0.49736</td></tr></table><br/></div></div>"
      ],
      "text/plain": [
       "<IPython.core.display.HTML object>"
      ]
     },
     "metadata": {},
     "output_type": "display_data"
    },
    {
     "data": {
      "text/html": [
       " View run <strong style=\"color:#cdcd00\">GAT_2_64_onehot_4</strong> at: <a href='https://wandb.ai/thoomas/PLA_01102024_5PPI_Kfold/runs/naro6m0w' target=\"_blank\">https://wandb.ai/thoomas/PLA_01102024_5PPI_Kfold/runs/naro6m0w</a><br/>Synced 6 W&B file(s), 0 media file(s), 0 artifact file(s) and 0 other file(s)"
      ],
      "text/plain": [
       "<IPython.core.display.HTML object>"
      ]
     },
     "metadata": {},
     "output_type": "display_data"
    },
    {
     "data": {
      "text/html": [
       "Find logs at: <code>.\\wandb\\run-20240112_222804-naro6m0w\\logs</code>"
      ],
      "text/plain": [
       "<IPython.core.display.HTML object>"
      ]
     },
     "metadata": {},
     "output_type": "display_data"
    },
    {
     "data": {
      "application/vnd.jupyter.widget-view+json": {
       "model_id": "cd35865257904af0991f5718e8c37c9a",
       "version_major": 2,
       "version_minor": 0
      },
      "text/plain": [
       "VBox(children=(Label(value='Waiting for wandb.init()...\\r'), FloatProgress(value=0.01691666666883975, max=1.0)…"
      ]
     },
     "metadata": {},
     "output_type": "display_data"
    },
    {
     "data": {
      "text/html": [
       "wandb version 0.16.2 is available!  To upgrade, please run:\n",
       " $ pip install wandb --upgrade"
      ],
      "text/plain": [
       "<IPython.core.display.HTML object>"
      ]
     },
     "metadata": {},
     "output_type": "display_data"
    },
    {
     "data": {
      "text/html": [
       "Tracking run with wandb version 0.14.0"
      ],
      "text/plain": [
       "<IPython.core.display.HTML object>"
      ]
     },
     "metadata": {},
     "output_type": "display_data"
    },
    {
     "data": {
      "text/html": [
       "Run data is saved locally in <code>y:\\coskun-lab\\Thomas\\23_PLA_revision\\notebooks\\wandb\\run-20240112_224316-2axn47mu</code>"
      ],
      "text/plain": [
       "<IPython.core.display.HTML object>"
      ]
     },
     "metadata": {},
     "output_type": "display_data"
    },
    {
     "data": {
      "text/html": [
       "Syncing run <strong><a href='https://wandb.ai/thoomas/PLA_01102024_5PPI_Kfold/runs/2axn47mu' target=\"_blank\">GAT_2_64_onehot_4</a></strong> to <a href='https://wandb.ai/thoomas/PLA_01102024_5PPI_Kfold' target=\"_blank\">Weights & Biases</a> (<a href='https://wandb.me/run' target=\"_blank\">docs</a>)<br/>"
      ],
      "text/plain": [
       "<IPython.core.display.HTML object>"
      ]
     },
     "metadata": {},
     "output_type": "display_data"
    },
    {
     "data": {
      "text/html": [
       " View project at <a href='https://wandb.ai/thoomas/PLA_01102024_5PPI_Kfold' target=\"_blank\">https://wandb.ai/thoomas/PLA_01102024_5PPI_Kfold</a>"
      ],
      "text/plain": [
       "<IPython.core.display.HTML object>"
      ]
     },
     "metadata": {},
     "output_type": "display_data"
    },
    {
     "data": {
      "text/html": [
       " View run at <a href='https://wandb.ai/thoomas/PLA_01102024_5PPI_Kfold/runs/2axn47mu' target=\"_blank\">https://wandb.ai/thoomas/PLA_01102024_5PPI_Kfold/runs/2axn47mu</a>"
      ],
      "text/plain": [
       "<IPython.core.display.HTML object>"
      ]
     },
     "metadata": {},
     "output_type": "display_data"
    },
    {
     "name": "stderr",
     "output_type": "stream",
     "text": [
      "Global seed set to 42\n",
      "GPU available: True (cuda), used: True\n",
      "TPU available: False, using: 0 TPU cores\n",
      "IPU available: False, using: 0 IPUs\n",
      "HPU available: False, using: 0 HPUs\n",
      "Global seed set to 42\n",
      "LOCAL_RANK: 0 - CUDA_VISIBLE_DEVICES: [0,1]\n",
      "\n",
      "  | Name        | Type             | Params\n",
      "-------------------------------------------------\n",
      "0 | x_embedding | Identity         | 0     \n",
      "1 | model       | GAT              | 69.3 K\n",
      "2 | head        | Sequential       | 2.1 K \n",
      "3 | loss_module | CrossEntropyLoss | 0     \n",
      "4 | train_acc   | BinaryAccuracy   | 0     \n",
      "5 | train_auroc | BinaryAUROC      | 0     \n",
      "6 | train_f1    | BinaryF1Score    | 0     \n",
      "7 | valid_acc   | BinaryAccuracy   | 0     \n",
      "8 | valid_auroc | BinaryAUROC      | 0     \n",
      "9 | valid_f1    | BinaryF1Score    | 0     \n",
      "-------------------------------------------------\n",
      "71.5 K    Trainable params\n",
      "0         Non-trainable params\n",
      "71.5 K    Total params\n",
      "0.286     Total estimated model params size (MB)\n"
     ]
    },
    {
     "name": "stdout",
     "output_type": "stream",
     "text": [
      "Using GAT\n"
     ]
    },
    {
     "name": "stderr",
     "output_type": "stream",
     "text": [
      "`Trainer.fit` stopped: `max_epochs=50` reached.\n"
     ]
    },
    {
     "data": {
      "text/html": [
       "Waiting for W&B process to finish... <strong style=\"color:green\">(success).</strong>"
      ],
      "text/plain": [
       "<IPython.core.display.HTML object>"
      ]
     },
     "metadata": {},
     "output_type": "display_data"
    },
    {
     "data": {
      "application/vnd.jupyter.widget-view+json": {
       "model_id": "2b5d91fe731f4be99d79794e7b640408",
       "version_major": 2,
       "version_minor": 0
      },
      "text/plain": [
       "VBox(children=(Label(value='0.001 MB of 0.001 MB uploaded (0.000 MB deduped)\\r'), FloatProgress(value=1.0, max…"
      ]
     },
     "metadata": {},
     "output_type": "display_data"
    },
    {
     "data": {
      "text/html": [
       "<style>\n",
       "    table.wandb td:nth-child(1) { padding: 0 10px; text-align: left ; width: auto;} td:nth-child(2) {text-align: left ; width: 100%}\n",
       "    .wandb-row { display: flex; flex-direction: row; flex-wrap: wrap; justify-content: flex-start; width: 100% }\n",
       "    .wandb-col { display: flex; flex-direction: column; flex-basis: 100%; flex: 1; padding: 10px; }\n",
       "    </style>\n",
       "<div class=\"wandb-row\"><div class=\"wandb-col\"><h3>Run history:</h3><br/><table class=\"wandb\"><tr><td>epoch</td><td>▁▁▁▁▂▂▂▂▂▃▃▃▃▃▃▄▄▄▄▄▅▅▅▅▅▅▆▆▆▆▆▇▇▇▇▇▇███</td></tr><tr><td>lr-Adam</td><td>▁▁▁▁▁▁▁▁▁▁▁▁▁▁▁▁▁▁▁▁▁▁▁▁▁▁▁▁▁▁▁▁▁▁▁▁▁▁▁▁</td></tr><tr><td>train_acc</td><td>▂▁▃▄▅▅▅▆▇▆▇▇▆▇▇▇▇▇███▇▇▇▇███▇████▇█████▇</td></tr><tr><td>train_auc</td><td>▁▁▂▃▃▅▄▅▇▇▇▇▇▇▇▇▇▇███▇▇▇█████▇▇▇█████▇▇█</td></tr><tr><td>train_f1</td><td>▁▄▃▄▄▆▃▆▅▇▇▇▆█▆▇▇▇█▇▇█▇▇▇█▇▇▆█▇▇▇▇▇▇█▇▇▇</td></tr><tr><td>train_loss_epoch</td><td>█▄▂▂▁▁▁▁▁▁▁▁▁▁▁▁▁▁▁▁▁▁▁▁▁▁▁▁▁▁▁▁▁▁▁▁▁▁▁▁</td></tr><tr><td>train_loss_step</td><td>█▄▃▂▁▂▂▂▂▁▁▁▁▂▁▁▁▁▁▁▂▁▁▁▁</td></tr><tr><td>trainer/global_step</td><td>▁▁▁▁▂▁▂▁▂▂▃▃▃▃▄▄▂▄▂▄▂▅▃▅▃▆▆▆▃▃▇▇▇▃▇▄█▄█▄</td></tr><tr><td>val_acc</td><td>▁▄▆▇█▇▇███▇█████▇█▇▇▇▇▇███▇█▇▇▇▇▇▇▇▇▇▇▇▇</td></tr><tr><td>val_auc</td><td>▁▄▄▆▇▇▇█▇█▇▇████▇███▇▇▇▇████▇▇▇▇▇▇▇▇████</td></tr><tr><td>val_f1</td><td>▇▁█▆▇█▇█████████▇▇▇▇▇▇▇▇▇█▇▇▇▇▆▇▆▆▇▆▇▇▆▇</td></tr><tr><td>val_loss_epoch</td><td>█▆▅▄▄▃▃▃▂▂▂▃▂▂▃▂▂▂▂▂▂▃▃▃▁▃▂▁▂▂▃▃▃▂▄▂▂▂▃▂</td></tr><tr><td>val_loss_step</td><td>█▅▅▄▄▄▃▄▃▃▁▄▃▃▃▃▃▂▂▃▃▄▃▃▃▄▃▃▁▂▃▂▄▁▃▂▁▂▃▂</td></tr></table><br/></div><div class=\"wandb-col\"><h3>Run summary:</h3><br/><table class=\"wandb\"><tr><td>epoch</td><td>49</td></tr><tr><td>lr-Adam</td><td>0.005</td></tr><tr><td>train_acc</td><td>0.73974</td></tr><tr><td>train_auc</td><td>0.75769</td></tr><tr><td>train_f1</td><td>0.60912</td></tr><tr><td>train_loss_epoch</td><td>0.52723</td></tr><tr><td>train_loss_step</td><td>0.54029</td></tr><tr><td>trainer/global_step</td><td>249</td></tr><tr><td>val_acc</td><td>0.70724</td></tr><tr><td>val_auc</td><td>0.80027</td></tr><tr><td>val_f1</td><td>0.56585</td></tr><tr><td>val_loss_epoch</td><td>0.54855</td></tr><tr><td>val_loss_step</td><td>0.52055</td></tr></table><br/></div></div>"
      ],
      "text/plain": [
       "<IPython.core.display.HTML object>"
      ]
     },
     "metadata": {},
     "output_type": "display_data"
    },
    {
     "data": {
      "text/html": [
       " View run <strong style=\"color:#cdcd00\">GAT_2_64_onehot_4</strong> at: <a href='https://wandb.ai/thoomas/PLA_01102024_5PPI_Kfold/runs/2axn47mu' target=\"_blank\">https://wandb.ai/thoomas/PLA_01102024_5PPI_Kfold/runs/2axn47mu</a><br/>Synced 6 W&B file(s), 0 media file(s), 0 artifact file(s) and 0 other file(s)"
      ],
      "text/plain": [
       "<IPython.core.display.HTML object>"
      ]
     },
     "metadata": {},
     "output_type": "display_data"
    },
    {
     "data": {
      "text/html": [
       "Find logs at: <code>.\\wandb\\run-20240112_224316-2axn47mu\\logs</code>"
      ],
      "text/plain": [
       "<IPython.core.display.HTML object>"
      ]
     },
     "metadata": {},
     "output_type": "display_data"
    },
    {
     "data": {
      "application/vnd.jupyter.widget-view+json": {
       "model_id": "640e14631626493ab4a96b4779533907",
       "version_major": 2,
       "version_minor": 0
      },
      "text/plain": [
       "VBox(children=(Label(value='Waiting for wandb.init()...\\r'), FloatProgress(value=0.01693333333435779, max=1.0)…"
      ]
     },
     "metadata": {},
     "output_type": "display_data"
    },
    {
     "data": {
      "text/html": [
       "wandb version 0.16.2 is available!  To upgrade, please run:\n",
       " $ pip install wandb --upgrade"
      ],
      "text/plain": [
       "<IPython.core.display.HTML object>"
      ]
     },
     "metadata": {},
     "output_type": "display_data"
    },
    {
     "data": {
      "text/html": [
       "Tracking run with wandb version 0.14.0"
      ],
      "text/plain": [
       "<IPython.core.display.HTML object>"
      ]
     },
     "metadata": {},
     "output_type": "display_data"
    },
    {
     "data": {
      "text/html": [
       "Run data is saved locally in <code>y:\\coskun-lab\\Thomas\\23_PLA_revision\\notebooks\\wandb\\run-20240112_225830-53ljgpfs</code>"
      ],
      "text/plain": [
       "<IPython.core.display.HTML object>"
      ]
     },
     "metadata": {},
     "output_type": "display_data"
    },
    {
     "data": {
      "text/html": [
       "Syncing run <strong><a href='https://wandb.ai/thoomas/PLA_01102024_5PPI_Kfold/runs/53ljgpfs' target=\"_blank\">GAT_2_64_onehot_4</a></strong> to <a href='https://wandb.ai/thoomas/PLA_01102024_5PPI_Kfold' target=\"_blank\">Weights & Biases</a> (<a href='https://wandb.me/run' target=\"_blank\">docs</a>)<br/>"
      ],
      "text/plain": [
       "<IPython.core.display.HTML object>"
      ]
     },
     "metadata": {},
     "output_type": "display_data"
    },
    {
     "data": {
      "text/html": [
       " View project at <a href='https://wandb.ai/thoomas/PLA_01102024_5PPI_Kfold' target=\"_blank\">https://wandb.ai/thoomas/PLA_01102024_5PPI_Kfold</a>"
      ],
      "text/plain": [
       "<IPython.core.display.HTML object>"
      ]
     },
     "metadata": {},
     "output_type": "display_data"
    },
    {
     "data": {
      "text/html": [
       " View run at <a href='https://wandb.ai/thoomas/PLA_01102024_5PPI_Kfold/runs/53ljgpfs' target=\"_blank\">https://wandb.ai/thoomas/PLA_01102024_5PPI_Kfold/runs/53ljgpfs</a>"
      ],
      "text/plain": [
       "<IPython.core.display.HTML object>"
      ]
     },
     "metadata": {},
     "output_type": "display_data"
    },
    {
     "name": "stderr",
     "output_type": "stream",
     "text": [
      "Global seed set to 42\n",
      "GPU available: True (cuda), used: True\n",
      "TPU available: False, using: 0 TPU cores\n",
      "IPU available: False, using: 0 IPUs\n",
      "HPU available: False, using: 0 HPUs\n",
      "Global seed set to 42\n",
      "LOCAL_RANK: 0 - CUDA_VISIBLE_DEVICES: [0,1]\n",
      "\n",
      "   | Name        | Type             | Params\n",
      "--------------------------------------------------\n",
      "0  | x_embedding | Identity         | 0     \n",
      "1  | model       | GAT              | 69.3 K\n",
      "2  | head        | Sequential       | 2.1 K \n",
      "3  | loss_module | CrossEntropyLoss | 0     \n",
      "4  | train_acc   | BinaryAccuracy   | 0     \n",
      "5  | train_auroc | BinaryAUROC      | 0     \n",
      "6  | train_f1    | BinaryF1Score    | 0     \n",
      "7  | valid_acc   | BinaryAccuracy   | 0     \n",
      "8  | valid_auroc | BinaryAUROC      | 0     \n",
      "9  | valid_f1    | BinaryF1Score    | 0     \n",
      "10 | pool        | GlobalAttention  | 65    \n",
      "--------------------------------------------------\n",
      "71.5 K    Trainable params\n",
      "0         Non-trainable params\n",
      "71.5 K    Total params\n",
      "0.286     Total estimated model params size (MB)\n"
     ]
    },
    {
     "name": "stdout",
     "output_type": "stream",
     "text": [
      "Using GAT\n"
     ]
    },
    {
     "name": "stderr",
     "output_type": "stream",
     "text": [
      "`Trainer.fit` stopped: `max_epochs=50` reached.\n"
     ]
    },
    {
     "data": {
      "text/html": [
       "Waiting for W&B process to finish... <strong style=\"color:green\">(success).</strong>"
      ],
      "text/plain": [
       "<IPython.core.display.HTML object>"
      ]
     },
     "metadata": {},
     "output_type": "display_data"
    },
    {
     "data": {
      "application/vnd.jupyter.widget-view+json": {
       "model_id": "902f1faf98dc4c619577f9bb1aff6ff7",
       "version_major": 2,
       "version_minor": 0
      },
      "text/plain": [
       "VBox(children=(Label(value='0.001 MB of 0.001 MB uploaded (0.000 MB deduped)\\r'), FloatProgress(value=1.0, max…"
      ]
     },
     "metadata": {},
     "output_type": "display_data"
    },
    {
     "data": {
      "text/html": [
       "<style>\n",
       "    table.wandb td:nth-child(1) { padding: 0 10px; text-align: left ; width: auto;} td:nth-child(2) {text-align: left ; width: 100%}\n",
       "    .wandb-row { display: flex; flex-direction: row; flex-wrap: wrap; justify-content: flex-start; width: 100% }\n",
       "    .wandb-col { display: flex; flex-direction: column; flex-basis: 100%; flex: 1; padding: 10px; }\n",
       "    </style>\n",
       "<div class=\"wandb-row\"><div class=\"wandb-col\"><h3>Run history:</h3><br/><table class=\"wandb\"><tr><td>epoch</td><td>▁▁▁▁▂▂▂▂▂▃▃▃▃▃▃▄▄▄▄▄▅▅▅▅▅▅▆▆▆▆▆▇▇▇▇▇▇███</td></tr><tr><td>lr-Adam</td><td>▁▁▁▁▁▁▁▁▁▁▁▁▁▁▁▁▁▁▁▁▁▁▁▁▁▁▁▁▁▁▁▁▁▁▁▁▁▁▁▁</td></tr><tr><td>train_acc</td><td>▁▃▄▇▆▆▆▆▇█▇▆█▇▇▇▇▇▇▇▆▆▆▇▇██▇███▇▇█▆███▇█</td></tr><tr><td>train_auc</td><td>▁▄▆▇▇▇▇▇███▇█▇█▇██████▇█████████████████</td></tr><tr><td>train_f1</td><td>▁▄▆▇▇▇▇▇▇█▇▇▇▇▇▇▇▇▇▇▆█▆█▇▇█▇▇▇█▇▇█▆██▇██</td></tr><tr><td>train_loss_epoch</td><td>█▆▄▂▃▃▃▂▂▁▁▂▁▂▁▂▁▁▂▁▂▂▂▂▂▁▁▁▁▁▁▁▂▁▂▂▁▂▂▂</td></tr><tr><td>train_loss_step</td><td>▅▅▄▃▄▅▄▂▂▄▇▃▁▆█▅▄▂▂▅▅▅▄▆▃</td></tr><tr><td>trainer/global_step</td><td>▁▁▁▁▂▁▂▁▂▂▃▃▃▃▄▄▂▄▂▄▂▅▃▅▃▆▆▆▃▃▇▇▇▃▇▄█▄█▄</td></tr><tr><td>val_acc</td><td>▁▁▇▆▆▆▆▆▇▆▆▇▆▇▆▆▇▇▆▇▆▇▇▅▇▇▆▆▇▇███▇▇▇▇▇▇█</td></tr><tr><td>val_auc</td><td>▁▃▄▅▅▆▆▆▆▇▆▆▆▅▇▆▇▇▇▆▆█▆▇▇▇▇▇▆▇▇▆▇▇▇▇▇▇▇▇</td></tr><tr><td>val_f1</td><td>▁▁▇▆▇▆▇▇▇▇▇▇▆█▇███▇██▇█▆▇█▇▇████████████</td></tr><tr><td>val_loss_epoch</td><td>█▇▇▆▅▅▃▃▁▄▄▁▂▃▁▃▃▃▄▂▃▂▂▃▂▂▁▆▂▄▃▂▄▄▃▂▂▃▂▅</td></tr><tr><td>val_loss_step</td><td>██▇▇▅▄▄▄▅▄▆▁▄▅▁▃▄▄▆▄▅▃▁▃▄▃▃▄▂▇▄▃▇▇▄▄▂▅▄█</td></tr></table><br/></div><div class=\"wandb-col\"><h3>Run summary:</h3><br/><table class=\"wandb\"><tr><td>epoch</td><td>49</td></tr><tr><td>lr-Adam</td><td>0.005</td></tr><tr><td>train_acc</td><td>0.72989</td></tr><tr><td>train_auc</td><td>0.78427</td></tr><tr><td>train_f1</td><td>0.58302</td></tr><tr><td>train_loss_epoch</td><td>0.54051</td></tr><tr><td>train_loss_step</td><td>0.52479</td></tr><tr><td>trainer/global_step</td><td>249</td></tr><tr><td>val_acc</td><td>0.73026</td></tr><tr><td>val_auc</td><td>0.77373</td></tr><tr><td>val_f1</td><td>0.68702</td></tr><tr><td>val_loss_epoch</td><td>0.61243</td></tr><tr><td>val_loss_step</td><td>0.672</td></tr></table><br/></div></div>"
      ],
      "text/plain": [
       "<IPython.core.display.HTML object>"
      ]
     },
     "metadata": {},
     "output_type": "display_data"
    },
    {
     "data": {
      "text/html": [
       " View run <strong style=\"color:#cdcd00\">GAT_2_64_onehot_4</strong> at: <a href='https://wandb.ai/thoomas/PLA_01102024_5PPI_Kfold/runs/53ljgpfs' target=\"_blank\">https://wandb.ai/thoomas/PLA_01102024_5PPI_Kfold/runs/53ljgpfs</a><br/>Synced 6 W&B file(s), 0 media file(s), 0 artifact file(s) and 0 other file(s)"
      ],
      "text/plain": [
       "<IPython.core.display.HTML object>"
      ]
     },
     "metadata": {},
     "output_type": "display_data"
    },
    {
     "data": {
      "text/html": [
       "Find logs at: <code>.\\wandb\\run-20240112_225830-53ljgpfs\\logs</code>"
      ],
      "text/plain": [
       "<IPython.core.display.HTML object>"
      ]
     },
     "metadata": {},
     "output_type": "display_data"
    },
    {
     "data": {
      "application/vnd.jupyter.widget-view+json": {
       "model_id": "9529d775b21c4eef9c4365eac7fce9e3",
       "version_major": 2,
       "version_minor": 0
      },
      "text/plain": [
       "VBox(children=(Label(value='Waiting for wandb.init()...\\r'), FloatProgress(value=0.016666666666666666, max=1.0…"
      ]
     },
     "metadata": {},
     "output_type": "display_data"
    },
    {
     "data": {
      "text/html": [
       "wandb version 0.16.2 is available!  To upgrade, please run:\n",
       " $ pip install wandb --upgrade"
      ],
      "text/plain": [
       "<IPython.core.display.HTML object>"
      ]
     },
     "metadata": {},
     "output_type": "display_data"
    },
    {
     "data": {
      "text/html": [
       "Tracking run with wandb version 0.14.0"
      ],
      "text/plain": [
       "<IPython.core.display.HTML object>"
      ]
     },
     "metadata": {},
     "output_type": "display_data"
    },
    {
     "data": {
      "text/html": [
       "Run data is saved locally in <code>y:\\coskun-lab\\Thomas\\23_PLA_revision\\notebooks\\wandb\\run-20240112_231342-4kdv8z7r</code>"
      ],
      "text/plain": [
       "<IPython.core.display.HTML object>"
      ]
     },
     "metadata": {},
     "output_type": "display_data"
    },
    {
     "data": {
      "text/html": [
       "Syncing run <strong><a href='https://wandb.ai/thoomas/PLA_01102024_5PPI_Kfold/runs/4kdv8z7r' target=\"_blank\">GAT_2_64_onehot_4</a></strong> to <a href='https://wandb.ai/thoomas/PLA_01102024_5PPI_Kfold' target=\"_blank\">Weights & Biases</a> (<a href='https://wandb.me/run' target=\"_blank\">docs</a>)<br/>"
      ],
      "text/plain": [
       "<IPython.core.display.HTML object>"
      ]
     },
     "metadata": {},
     "output_type": "display_data"
    },
    {
     "data": {
      "text/html": [
       " View project at <a href='https://wandb.ai/thoomas/PLA_01102024_5PPI_Kfold' target=\"_blank\">https://wandb.ai/thoomas/PLA_01102024_5PPI_Kfold</a>"
      ],
      "text/plain": [
       "<IPython.core.display.HTML object>"
      ]
     },
     "metadata": {},
     "output_type": "display_data"
    },
    {
     "data": {
      "text/html": [
       " View run at <a href='https://wandb.ai/thoomas/PLA_01102024_5PPI_Kfold/runs/4kdv8z7r' target=\"_blank\">https://wandb.ai/thoomas/PLA_01102024_5PPI_Kfold/runs/4kdv8z7r</a>"
      ],
      "text/plain": [
       "<IPython.core.display.HTML object>"
      ]
     },
     "metadata": {},
     "output_type": "display_data"
    },
    {
     "name": "stderr",
     "output_type": "stream",
     "text": [
      "Global seed set to 42\n",
      "GPU available: True (cuda), used: True\n",
      "TPU available: False, using: 0 TPU cores\n",
      "IPU available: False, using: 0 IPUs\n",
      "HPU available: False, using: 0 HPUs\n",
      "Global seed set to 42\n",
      "LOCAL_RANK: 0 - CUDA_VISIBLE_DEVICES: [0,1]\n",
      "\n",
      "   | Name        | Type             | Params\n",
      "--------------------------------------------------\n",
      "0  | x_embedding | Identity         | 0     \n",
      "1  | model       | GAT              | 69.3 K\n",
      "2  | head        | Sequential       | 2.1 K \n",
      "3  | loss_module | CrossEntropyLoss | 0     \n",
      "4  | train_acc   | BinaryAccuracy   | 0     \n",
      "5  | train_auroc | BinaryAUROC      | 0     \n",
      "6  | train_f1    | BinaryF1Score    | 0     \n",
      "7  | valid_acc   | BinaryAccuracy   | 0     \n",
      "8  | valid_auroc | BinaryAUROC      | 0     \n",
      "9  | valid_f1    | BinaryF1Score    | 0     \n",
      "10 | pool        | Attention_module | 4.2 K \n",
      "--------------------------------------------------\n",
      "75.7 K    Trainable params\n",
      "0         Non-trainable params\n",
      "75.7 K    Total params\n",
      "0.303     Total estimated model params size (MB)\n"
     ]
    },
    {
     "name": "stdout",
     "output_type": "stream",
     "text": [
      "Using GAT\n"
     ]
    },
    {
     "name": "stderr",
     "output_type": "stream",
     "text": [
      "`Trainer.fit` stopped: `max_epochs=50` reached.\n"
     ]
    },
    {
     "data": {
      "text/html": [
       "Waiting for W&B process to finish... <strong style=\"color:green\">(success).</strong>"
      ],
      "text/plain": [
       "<IPython.core.display.HTML object>"
      ]
     },
     "metadata": {},
     "output_type": "display_data"
    },
    {
     "data": {
      "application/vnd.jupyter.widget-view+json": {
       "model_id": "572cf08146bd4f6d9cee12578002d26e",
       "version_major": 2,
       "version_minor": 0
      },
      "text/plain": [
       "VBox(children=(Label(value='0.001 MB of 0.001 MB uploaded (0.000 MB deduped)\\r'), FloatProgress(value=1.0, max…"
      ]
     },
     "metadata": {},
     "output_type": "display_data"
    },
    {
     "data": {
      "text/html": [
       "<style>\n",
       "    table.wandb td:nth-child(1) { padding: 0 10px; text-align: left ; width: auto;} td:nth-child(2) {text-align: left ; width: 100%}\n",
       "    .wandb-row { display: flex; flex-direction: row; flex-wrap: wrap; justify-content: flex-start; width: 100% }\n",
       "    .wandb-col { display: flex; flex-direction: column; flex-basis: 100%; flex: 1; padding: 10px; }\n",
       "    </style>\n",
       "<div class=\"wandb-row\"><div class=\"wandb-col\"><h3>Run history:</h3><br/><table class=\"wandb\"><tr><td>epoch</td><td>▁▁▁▁▂▂▂▂▂▃▃▃▃▃▃▄▄▄▄▄▅▅▅▅▅▅▆▆▆▆▆▇▇▇▇▇▇███</td></tr><tr><td>lr-Adam</td><td>▁▁▁▁▁▁▁▁▁▁▁▁▁▁▁▁▁▁▁▁▁▁▁▁▁▁▁▁▁▁▁▁▁▁▁▁▁▁▁▁</td></tr><tr><td>train_acc</td><td>▁▂▄▅▅▅▆▆▆▇▇▇▇▇▇▆▇▆▇▆▇▆▆▇▆▇▇▇▆▆▆▇▇▇██▇▇▇▇</td></tr><tr><td>train_auc</td><td>▁▄▆▆▆▆▇▇▇▇▇▇▇▇█▇███▇████▇███████████████</td></tr><tr><td>train_f1</td><td>▁▃▅▆▆▇▇▇▇▇▇▇▆█▇▇█▆█▇█▇▇█▇▇█▇▇▇█▇▇███▇▇██</td></tr><tr><td>train_loss_epoch</td><td>█▆▄▄▃▃▂▃▂▂▂▃▂▂▂▂▂▂▂▂▂▂▂▂▂▂▂▂▂▂▂▂▂▁▁▁▂▂▂▂</td></tr><tr><td>train_loss_step</td><td>█▆▆▄▆▄▁▁▄▇█▃▁▃▃▅▂▄▅▂▄▃▄█▇</td></tr><tr><td>trainer/global_step</td><td>▁▁▁▁▂▁▂▁▂▂▃▃▃▃▄▄▂▄▂▄▂▅▃▅▃▆▆▆▃▃▇▇▇▃▇▄█▄█▄</td></tr><tr><td>val_acc</td><td>▁▁▇▇▇▆▇▇▆▇▆▇▇▇▇█▇▇▇▇▇▇▇▇▇▆▇▇█▇█▇█████▆▇▇</td></tr><tr><td>val_auc</td><td>▁▄▃▅▅█▇██▇█▇▇▆▇▆▇█▇█▇▇▇▇▇▇▇▇█▇▇▆▇▇█▇▆▆██</td></tr><tr><td>val_f1</td><td>▁▁▇▇▇▆▇▇▆▇▆▇▇▇▇██▇█▇█▇█▇▇▇▇▇███████████▇</td></tr><tr><td>val_loss_epoch</td><td>██▇▆▆▆▆▅▃▂▃▄▃▄▂▂▃▂▃▂▄▃▃▂▅▄▃▁▅▄▂▃▅▃▄▃▅▅▄▂</td></tr><tr><td>val_loss_step</td><td>██▇▆▆▅▇▆▅▅▃▆▅▆▂▄▄▂▄▅▄▅▃▄▄▅▅▅▇▅▅▄▇▅▄▄▇▆▅▁</td></tr></table><br/></div><div class=\"wandb-col\"><h3>Run summary:</h3><br/><table class=\"wandb\"><tr><td>epoch</td><td>49</td></tr><tr><td>lr-Adam</td><td>0.005</td></tr><tr><td>train_acc</td><td>0.73071</td></tr><tr><td>train_auc</td><td>0.77703</td></tr><tr><td>train_f1</td><td>0.62727</td></tr><tr><td>train_loss_epoch</td><td>0.54141</td></tr><tr><td>train_loss_step</td><td>0.59292</td></tr><tr><td>trainer/global_step</td><td>249</td></tr><tr><td>val_acc</td><td>0.70724</td></tr><tr><td>val_auc</td><td>0.7771</td></tr><tr><td>val_f1</td><td>0.62447</td></tr><tr><td>val_loss_epoch</td><td>0.52774</td></tr><tr><td>val_loss_step</td><td>0.47091</td></tr></table><br/></div></div>"
      ],
      "text/plain": [
       "<IPython.core.display.HTML object>"
      ]
     },
     "metadata": {},
     "output_type": "display_data"
    },
    {
     "data": {
      "text/html": [
       " View run <strong style=\"color:#cdcd00\">GAT_2_64_onehot_4</strong> at: <a href='https://wandb.ai/thoomas/PLA_01102024_5PPI_Kfold/runs/4kdv8z7r' target=\"_blank\">https://wandb.ai/thoomas/PLA_01102024_5PPI_Kfold/runs/4kdv8z7r</a><br/>Synced 6 W&B file(s), 0 media file(s), 0 artifact file(s) and 0 other file(s)"
      ],
      "text/plain": [
       "<IPython.core.display.HTML object>"
      ]
     },
     "metadata": {},
     "output_type": "display_data"
    },
    {
     "data": {
      "text/html": [
       "Find logs at: <code>.\\wandb\\run-20240112_231342-4kdv8z7r\\logs</code>"
      ],
      "text/plain": [
       "<IPython.core.display.HTML object>"
      ]
     },
     "metadata": {},
     "output_type": "display_data"
    },
    {
     "data": {
      "application/vnd.jupyter.widget-view+json": {
       "model_id": "4e18eec42e434015b44b81878156c7a3",
       "version_major": 2,
       "version_minor": 0
      },
      "text/plain": [
       "VBox(children=(Label(value='Waiting for wandb.init()...\\r'), FloatProgress(value=0.01691666666883975, max=1.0)…"
      ]
     },
     "metadata": {},
     "output_type": "display_data"
    },
    {
     "data": {
      "text/html": [
       "wandb version 0.16.2 is available!  To upgrade, please run:\n",
       " $ pip install wandb --upgrade"
      ],
      "text/plain": [
       "<IPython.core.display.HTML object>"
      ]
     },
     "metadata": {},
     "output_type": "display_data"
    },
    {
     "data": {
      "text/html": [
       "Tracking run with wandb version 0.14.0"
      ],
      "text/plain": [
       "<IPython.core.display.HTML object>"
      ]
     },
     "metadata": {},
     "output_type": "display_data"
    },
    {
     "data": {
      "text/html": [
       "Run data is saved locally in <code>y:\\coskun-lab\\Thomas\\23_PLA_revision\\notebooks\\wandb\\run-20240112_232833-833rw0ka</code>"
      ],
      "text/plain": [
       "<IPython.core.display.HTML object>"
      ]
     },
     "metadata": {},
     "output_type": "display_data"
    },
    {
     "data": {
      "text/html": [
       "Syncing run <strong><a href='https://wandb.ai/thoomas/PLA_01102024_5PPI_Kfold/runs/833rw0ka' target=\"_blank\">GAT_3_16_onehot_4</a></strong> to <a href='https://wandb.ai/thoomas/PLA_01102024_5PPI_Kfold' target=\"_blank\">Weights & Biases</a> (<a href='https://wandb.me/run' target=\"_blank\">docs</a>)<br/>"
      ],
      "text/plain": [
       "<IPython.core.display.HTML object>"
      ]
     },
     "metadata": {},
     "output_type": "display_data"
    },
    {
     "data": {
      "text/html": [
       " View project at <a href='https://wandb.ai/thoomas/PLA_01102024_5PPI_Kfold' target=\"_blank\">https://wandb.ai/thoomas/PLA_01102024_5PPI_Kfold</a>"
      ],
      "text/plain": [
       "<IPython.core.display.HTML object>"
      ]
     },
     "metadata": {},
     "output_type": "display_data"
    },
    {
     "data": {
      "text/html": [
       " View run at <a href='https://wandb.ai/thoomas/PLA_01102024_5PPI_Kfold/runs/833rw0ka' target=\"_blank\">https://wandb.ai/thoomas/PLA_01102024_5PPI_Kfold/runs/833rw0ka</a>"
      ],
      "text/plain": [
       "<IPython.core.display.HTML object>"
      ]
     },
     "metadata": {},
     "output_type": "display_data"
    },
    {
     "name": "stderr",
     "output_type": "stream",
     "text": [
      "Global seed set to 42\n",
      "GPU available: True (cuda), used: True\n",
      "TPU available: False, using: 0 TPU cores\n",
      "IPU available: False, using: 0 IPUs\n",
      "HPU available: False, using: 0 HPUs\n",
      "Global seed set to 42\n",
      "LOCAL_RANK: 0 - CUDA_VISIBLE_DEVICES: [0,1]\n",
      "\n",
      "  | Name        | Type             | Params\n",
      "-------------------------------------------------\n",
      "0 | x_embedding | Identity         | 0     \n",
      "1 | model       | GAT              | 5.7 K \n",
      "2 | head        | Sequential       | 154   \n",
      "3 | loss_module | CrossEntropyLoss | 0     \n",
      "4 | train_acc   | BinaryAccuracy   | 0     \n",
      "5 | train_auroc | BinaryAUROC      | 0     \n",
      "6 | train_f1    | BinaryF1Score    | 0     \n",
      "7 | valid_acc   | BinaryAccuracy   | 0     \n",
      "8 | valid_auroc | BinaryAUROC      | 0     \n",
      "9 | valid_f1    | BinaryF1Score    | 0     \n",
      "-------------------------------------------------\n",
      "5.8 K     Trainable params\n",
      "0         Non-trainable params\n",
      "5.8 K     Total params\n",
      "0.023     Total estimated model params size (MB)\n"
     ]
    },
    {
     "name": "stdout",
     "output_type": "stream",
     "text": [
      "Using GAT\n"
     ]
    },
    {
     "name": "stderr",
     "output_type": "stream",
     "text": [
      "`Trainer.fit` stopped: `max_epochs=50` reached.\n"
     ]
    },
    {
     "data": {
      "text/html": [
       "Waiting for W&B process to finish... <strong style=\"color:green\">(success).</strong>"
      ],
      "text/plain": [
       "<IPython.core.display.HTML object>"
      ]
     },
     "metadata": {},
     "output_type": "display_data"
    },
    {
     "data": {
      "application/vnd.jupyter.widget-view+json": {
       "model_id": "cebced7168514d539981b15c91ca0e44",
       "version_major": 2,
       "version_minor": 0
      },
      "text/plain": [
       "VBox(children=(Label(value='0.001 MB of 0.001 MB uploaded (0.000 MB deduped)\\r'), FloatProgress(value=1.0, max…"
      ]
     },
     "metadata": {},
     "output_type": "display_data"
    },
    {
     "data": {
      "text/html": [
       "<style>\n",
       "    table.wandb td:nth-child(1) { padding: 0 10px; text-align: left ; width: auto;} td:nth-child(2) {text-align: left ; width: 100%}\n",
       "    .wandb-row { display: flex; flex-direction: row; flex-wrap: wrap; justify-content: flex-start; width: 100% }\n",
       "    .wandb-col { display: flex; flex-direction: column; flex-basis: 100%; flex: 1; padding: 10px; }\n",
       "    </style>\n",
       "<div class=\"wandb-row\"><div class=\"wandb-col\"><h3>Run history:</h3><br/><table class=\"wandb\"><tr><td>epoch</td><td>▁▁▁▁▂▂▂▂▂▃▃▃▃▃▃▄▄▄▄▄▅▅▅▅▅▅▆▆▆▆▆▇▇▇▇▇▇███</td></tr><tr><td>lr-Adam</td><td>▁▁▁▁▁▁▁▁▁▁▁▁▁▁▁▁▁▁▁▁▁▁▁▁▁▁▁▁▁▁▁▁▁▁▁▁▁▁▁▁</td></tr><tr><td>train_acc</td><td>▁▅▅▅▅▆▆▇▇▇▇▇█▇████▇██▇▇█▇▇█▇█▇███▇█▇█▇▇█</td></tr><tr><td>train_auc</td><td>▂▁▂▃▅▅▆▇▇▇▇▇▇▇▇███▇███▇██████████▇██████</td></tr><tr><td>train_f1</td><td>▇▂▁▁▁▃▅▇██▇▇▇▇██▇█▇██▇▇█▇█▇▇█▇███▇█▇██▇█</td></tr><tr><td>train_loss_epoch</td><td>█▇▆▅▄▄▄▃▂▂▂▂▂▂▂▂▁▁▂▁▂▁▂▁▂▂▂▁▁▂▁▁▁▂▁▁▁▂▁▁</td></tr><tr><td>train_loss_step</td><td>█▅▄▅▄▂▄▂▂▅▃▄▄▃▃▅▂▁▄▄▂▄▁▃▂</td></tr><tr><td>trainer/global_step</td><td>▁▁▁▁▂▁▂▁▂▂▃▃▃▃▄▄▂▄▂▄▂▅▃▅▃▆▆▆▃▃▇▇▇▃▇▄█▄█▄</td></tr><tr><td>val_acc</td><td>▁▁▁▁▁▇▃▂▃▃▄▅▅▇▇▇▇▇▇▆█▇▇▇▇▆█▇▇███▇▇█▇▆██▇</td></tr><tr><td>val_auc</td><td>▁▅██▇▇▇▇▇▇▇█████████████████████████████</td></tr><tr><td>val_f1</td><td>▁▁▁▁▁█▇▇█▇███████████▇█████████▇████████</td></tr><tr><td>val_loss_epoch</td><td>██▇▇▇▆▇█▆▆▅▅▄▃▃▂▄▄▂▂▄▁▂▄▂▃▂▃▃▃▁▄▃▃▂▄▄▂▁▄</td></tr><tr><td>val_loss_step</td><td>▇▇▆▇▆▆▇█▆▆▄▅▅▄▃▄▄▅▂▃▃▁▃▄▄▄▄▄▅▄▂▃▅▅▃▃▅▂▄▆</td></tr></table><br/></div><div class=\"wandb-col\"><h3>Run summary:</h3><br/><table class=\"wandb\"><tr><td>epoch</td><td>49</td></tr><tr><td>lr-Adam</td><td>0.005</td></tr><tr><td>train_acc</td><td>0.71839</td></tr><tr><td>train_auc</td><td>0.77749</td></tr><tr><td>train_f1</td><td>0.56194</td></tr><tr><td>train_loss_epoch</td><td>0.53963</td></tr><tr><td>train_loss_step</td><td>0.52273</td></tr><tr><td>trainer/global_step</td><td>249</td></tr><tr><td>val_acc</td><td>0.70395</td></tr><tr><td>val_auc</td><td>0.78237</td></tr><tr><td>val_f1</td><td>0.70779</td></tr><tr><td>val_loss_epoch</td><td>0.60573</td></tr><tr><td>val_loss_step</td><td>0.6347</td></tr></table><br/></div></div>"
      ],
      "text/plain": [
       "<IPython.core.display.HTML object>"
      ]
     },
     "metadata": {},
     "output_type": "display_data"
    },
    {
     "data": {
      "text/html": [
       " View run <strong style=\"color:#cdcd00\">GAT_3_16_onehot_4</strong> at: <a href='https://wandb.ai/thoomas/PLA_01102024_5PPI_Kfold/runs/833rw0ka' target=\"_blank\">https://wandb.ai/thoomas/PLA_01102024_5PPI_Kfold/runs/833rw0ka</a><br/>Synced 6 W&B file(s), 0 media file(s), 0 artifact file(s) and 0 other file(s)"
      ],
      "text/plain": [
       "<IPython.core.display.HTML object>"
      ]
     },
     "metadata": {},
     "output_type": "display_data"
    },
    {
     "data": {
      "text/html": [
       "Find logs at: <code>.\\wandb\\run-20240112_232833-833rw0ka\\logs</code>"
      ],
      "text/plain": [
       "<IPython.core.display.HTML object>"
      ]
     },
     "metadata": {},
     "output_type": "display_data"
    },
    {
     "data": {
      "application/vnd.jupyter.widget-view+json": {
       "model_id": "f26be02ec7e946809465416b3ae0af73",
       "version_major": 2,
       "version_minor": 0
      },
      "text/plain": [
       "VBox(children=(Label(value='Waiting for wandb.init()...\\r'), FloatProgress(value=0.01691666666883975, max=1.0)…"
      ]
     },
     "metadata": {},
     "output_type": "display_data"
    },
    {
     "data": {
      "text/html": [
       "wandb version 0.16.2 is available!  To upgrade, please run:\n",
       " $ pip install wandb --upgrade"
      ],
      "text/plain": [
       "<IPython.core.display.HTML object>"
      ]
     },
     "metadata": {},
     "output_type": "display_data"
    },
    {
     "data": {
      "text/html": [
       "Tracking run with wandb version 0.14.0"
      ],
      "text/plain": [
       "<IPython.core.display.HTML object>"
      ]
     },
     "metadata": {},
     "output_type": "display_data"
    },
    {
     "data": {
      "text/html": [
       "Run data is saved locally in <code>y:\\coskun-lab\\Thomas\\23_PLA_revision\\notebooks\\wandb\\run-20240112_234313-wq7accbz</code>"
      ],
      "text/plain": [
       "<IPython.core.display.HTML object>"
      ]
     },
     "metadata": {},
     "output_type": "display_data"
    },
    {
     "data": {
      "text/html": [
       "Syncing run <strong><a href='https://wandb.ai/thoomas/PLA_01102024_5PPI_Kfold/runs/wq7accbz' target=\"_blank\">GAT_3_16_onehot_4</a></strong> to <a href='https://wandb.ai/thoomas/PLA_01102024_5PPI_Kfold' target=\"_blank\">Weights & Biases</a> (<a href='https://wandb.me/run' target=\"_blank\">docs</a>)<br/>"
      ],
      "text/plain": [
       "<IPython.core.display.HTML object>"
      ]
     },
     "metadata": {},
     "output_type": "display_data"
    },
    {
     "data": {
      "text/html": [
       " View project at <a href='https://wandb.ai/thoomas/PLA_01102024_5PPI_Kfold' target=\"_blank\">https://wandb.ai/thoomas/PLA_01102024_5PPI_Kfold</a>"
      ],
      "text/plain": [
       "<IPython.core.display.HTML object>"
      ]
     },
     "metadata": {},
     "output_type": "display_data"
    },
    {
     "data": {
      "text/html": [
       " View run at <a href='https://wandb.ai/thoomas/PLA_01102024_5PPI_Kfold/runs/wq7accbz' target=\"_blank\">https://wandb.ai/thoomas/PLA_01102024_5PPI_Kfold/runs/wq7accbz</a>"
      ],
      "text/plain": [
       "<IPython.core.display.HTML object>"
      ]
     },
     "metadata": {},
     "output_type": "display_data"
    },
    {
     "name": "stderr",
     "output_type": "stream",
     "text": [
      "Global seed set to 42\n",
      "GPU available: True (cuda), used: True\n",
      "TPU available: False, using: 0 TPU cores\n",
      "IPU available: False, using: 0 IPUs\n",
      "HPU available: False, using: 0 HPUs\n",
      "Global seed set to 42\n",
      "LOCAL_RANK: 0 - CUDA_VISIBLE_DEVICES: [0,1]\n",
      "\n",
      "  | Name        | Type             | Params\n",
      "-------------------------------------------------\n",
      "0 | x_embedding | Identity         | 0     \n",
      "1 | model       | GAT              | 5.7 K \n",
      "2 | head        | Sequential       | 154   \n",
      "3 | loss_module | CrossEntropyLoss | 0     \n",
      "4 | train_acc   | BinaryAccuracy   | 0     \n",
      "5 | train_auroc | BinaryAUROC      | 0     \n",
      "6 | train_f1    | BinaryF1Score    | 0     \n",
      "7 | valid_acc   | BinaryAccuracy   | 0     \n",
      "8 | valid_auroc | BinaryAUROC      | 0     \n",
      "9 | valid_f1    | BinaryF1Score    | 0     \n",
      "-------------------------------------------------\n",
      "5.8 K     Trainable params\n",
      "0         Non-trainable params\n",
      "5.8 K     Total params\n",
      "0.023     Total estimated model params size (MB)\n"
     ]
    },
    {
     "name": "stdout",
     "output_type": "stream",
     "text": [
      "Using GAT\n"
     ]
    },
    {
     "name": "stderr",
     "output_type": "stream",
     "text": [
      "`Trainer.fit` stopped: `max_epochs=50` reached.\n"
     ]
    },
    {
     "data": {
      "text/html": [
       "Waiting for W&B process to finish... <strong style=\"color:green\">(success).</strong>"
      ],
      "text/plain": [
       "<IPython.core.display.HTML object>"
      ]
     },
     "metadata": {},
     "output_type": "display_data"
    },
    {
     "data": {
      "application/vnd.jupyter.widget-view+json": {
       "model_id": "6e8679f7e65941a6b2d556167d12325f",
       "version_major": 2,
       "version_minor": 0
      },
      "text/plain": [
       "VBox(children=(Label(value='0.001 MB of 0.001 MB uploaded (0.000 MB deduped)\\r'), FloatProgress(value=1.0, max…"
      ]
     },
     "metadata": {},
     "output_type": "display_data"
    },
    {
     "data": {
      "text/html": [
       "<style>\n",
       "    table.wandb td:nth-child(1) { padding: 0 10px; text-align: left ; width: auto;} td:nth-child(2) {text-align: left ; width: 100%}\n",
       "    .wandb-row { display: flex; flex-direction: row; flex-wrap: wrap; justify-content: flex-start; width: 100% }\n",
       "    .wandb-col { display: flex; flex-direction: column; flex-basis: 100%; flex: 1; padding: 10px; }\n",
       "    </style>\n",
       "<div class=\"wandb-row\"><div class=\"wandb-col\"><h3>Run history:</h3><br/><table class=\"wandb\"><tr><td>epoch</td><td>▁▁▁▁▂▂▂▂▂▃▃▃▃▃▃▄▄▄▄▄▅▅▅▅▅▅▆▆▆▆▆▇▇▇▇▇▇███</td></tr><tr><td>lr-Adam</td><td>▁▁▁▁▁▁▁▁▁▁▁▁▁▁▁▁▁▁▁▁▁▁▁▁▁▁▁▁▁▁▁▁▁▁▁▁▁▁▁▁</td></tr><tr><td>train_acc</td><td>▁▅▅▆▆▆▆▆▆▆▆▆▆▆▇▇▇▇▇▇▆▇▇▇▇▇▇▇█▇▇█▇██▇██▇█</td></tr><tr><td>train_auc</td><td>▁▁▁▂▃▃▄▄▅▅▅▅▆▅▆▆▇▇▇▇▆▇▇▇▇▇▇▇█▇▇█▇▇██████</td></tr><tr><td>train_f1</td><td>▇▃▂▂▁▁▁▁▂▂▂▂▃▃▄▅▅▆▇▆▆▆▅▆▆▇▆▅▇▆▆▇▆▇▇▇██▆▇</td></tr><tr><td>train_loss_epoch</td><td>█▆▆▅▅▅▄▅▄▄▄▄▄▄▄▃▃▃▃▃▃▂▃▃▃▂▃▂▂▂▂▂▂▂▁▂▂▂▁▂</td></tr><tr><td>train_loss_step</td><td>█▅▆▅▄▄▄▃▂▄▃▄▄▅▁▄▃▂▂▆▃▃▁▂▁</td></tr><tr><td>trainer/global_step</td><td>▁▁▁▁▂▁▂▁▂▂▃▃▃▃▄▄▂▄▂▄▂▅▃▅▃▆▆▆▃▃▇▇▇▃▇▄█▄█▄</td></tr><tr><td>val_acc</td><td>▁▁▁▁▁▁▁▁▂▃▄▄▇▇▇▇▆▇█▇▇▅▇▇▇▇▄▆▅▄█▇▇▆▅▃▇▄▃▆</td></tr><tr><td>val_auc</td><td>▁▄▆▆▆▆▆▆▆▇▇▇▇▇▇▇▇▇▇▇▇▇▇▇████████████████</td></tr><tr><td>val_f1</td><td>▁▁▁▁▁▁▁▁▂▄▅▅▇██▇▇██▇▇▆▇█▆▇▄▆▅▄▇▇▇▆▅▄▇▄▄▆</td></tr><tr><td>val_loss_epoch</td><td>██▇▇▇▆▆▆▆▆▆▅▄▅▅▄▃▄▂▃▃▃▃▂▃▂▂▄▃▄▃▃▂▂▂▁▂▃▂▂</td></tr><tr><td>val_loss_step</td><td>█▇▆▇▇▇▅▆▆▅▇▆▅▅▅▄▃▅▁▃▃▄▃▃▂▃▃▄▃▆▁▁▂▂▃▂▂▃▂▂</td></tr></table><br/></div><div class=\"wandb-col\"><h3>Run summary:</h3><br/><table class=\"wandb\"><tr><td>epoch</td><td>49</td></tr><tr><td>lr-Adam</td><td>0.005</td></tr><tr><td>train_acc</td><td>0.68966</td></tr><tr><td>train_auc</td><td>0.72645</td></tr><tr><td>train_f1</td><td>0.47207</td></tr><tr><td>train_loss_epoch</td><td>0.58077</td></tr><tr><td>train_loss_step</td><td>0.56545</td></tr><tr><td>trainer/global_step</td><td>249</td></tr><tr><td>val_acc</td><td>0.65132</td></tr><tr><td>val_auc</td><td>0.75894</td></tr><tr><td>val_f1</td><td>0.3908</td></tr><tr><td>val_loss_epoch</td><td>0.61032</td></tr><tr><td>val_loss_step</td><td>0.61509</td></tr></table><br/></div></div>"
      ],
      "text/plain": [
       "<IPython.core.display.HTML object>"
      ]
     },
     "metadata": {},
     "output_type": "display_data"
    },
    {
     "data": {
      "text/html": [
       " View run <strong style=\"color:#cdcd00\">GAT_3_16_onehot_4</strong> at: <a href='https://wandb.ai/thoomas/PLA_01102024_5PPI_Kfold/runs/wq7accbz' target=\"_blank\">https://wandb.ai/thoomas/PLA_01102024_5PPI_Kfold/runs/wq7accbz</a><br/>Synced 6 W&B file(s), 0 media file(s), 0 artifact file(s) and 0 other file(s)"
      ],
      "text/plain": [
       "<IPython.core.display.HTML object>"
      ]
     },
     "metadata": {},
     "output_type": "display_data"
    },
    {
     "data": {
      "text/html": [
       "Find logs at: <code>.\\wandb\\run-20240112_234313-wq7accbz\\logs</code>"
      ],
      "text/plain": [
       "<IPython.core.display.HTML object>"
      ]
     },
     "metadata": {},
     "output_type": "display_data"
    },
    {
     "data": {
      "application/vnd.jupyter.widget-view+json": {
       "model_id": "63229e18e2fa4ad6b5ee9e8acb5bac8a",
       "version_major": 2,
       "version_minor": 0
      },
      "text/plain": [
       "VBox(children=(Label(value='Waiting for wandb.init()...\\r'), FloatProgress(value=0.01693333333435779, max=1.0)…"
      ]
     },
     "metadata": {},
     "output_type": "display_data"
    },
    {
     "data": {
      "text/html": [
       "wandb version 0.16.2 is available!  To upgrade, please run:\n",
       " $ pip install wandb --upgrade"
      ],
      "text/plain": [
       "<IPython.core.display.HTML object>"
      ]
     },
     "metadata": {},
     "output_type": "display_data"
    },
    {
     "data": {
      "text/html": [
       "Tracking run with wandb version 0.14.0"
      ],
      "text/plain": [
       "<IPython.core.display.HTML object>"
      ]
     },
     "metadata": {},
     "output_type": "display_data"
    },
    {
     "data": {
      "text/html": [
       "Run data is saved locally in <code>y:\\coskun-lab\\Thomas\\23_PLA_revision\\notebooks\\wandb\\run-20240113_000022-hfauha0o</code>"
      ],
      "text/plain": [
       "<IPython.core.display.HTML object>"
      ]
     },
     "metadata": {},
     "output_type": "display_data"
    },
    {
     "data": {
      "text/html": [
       "Syncing run <strong><a href='https://wandb.ai/thoomas/PLA_01102024_5PPI_Kfold/runs/hfauha0o' target=\"_blank\">GAT_3_16_onehot_4</a></strong> to <a href='https://wandb.ai/thoomas/PLA_01102024_5PPI_Kfold' target=\"_blank\">Weights & Biases</a> (<a href='https://wandb.me/run' target=\"_blank\">docs</a>)<br/>"
      ],
      "text/plain": [
       "<IPython.core.display.HTML object>"
      ]
     },
     "metadata": {},
     "output_type": "display_data"
    },
    {
     "data": {
      "text/html": [
       " View project at <a href='https://wandb.ai/thoomas/PLA_01102024_5PPI_Kfold' target=\"_blank\">https://wandb.ai/thoomas/PLA_01102024_5PPI_Kfold</a>"
      ],
      "text/plain": [
       "<IPython.core.display.HTML object>"
      ]
     },
     "metadata": {},
     "output_type": "display_data"
    },
    {
     "data": {
      "text/html": [
       " View run at <a href='https://wandb.ai/thoomas/PLA_01102024_5PPI_Kfold/runs/hfauha0o' target=\"_blank\">https://wandb.ai/thoomas/PLA_01102024_5PPI_Kfold/runs/hfauha0o</a>"
      ],
      "text/plain": [
       "<IPython.core.display.HTML object>"
      ]
     },
     "metadata": {},
     "output_type": "display_data"
    },
    {
     "name": "stderr",
     "output_type": "stream",
     "text": [
      "Global seed set to 42\n",
      "GPU available: True (cuda), used: True\n",
      "TPU available: False, using: 0 TPU cores\n",
      "IPU available: False, using: 0 IPUs\n",
      "HPU available: False, using: 0 HPUs\n",
      "Global seed set to 42\n",
      "LOCAL_RANK: 0 - CUDA_VISIBLE_DEVICES: [0,1]\n",
      "\n",
      "  | Name        | Type             | Params\n",
      "-------------------------------------------------\n",
      "0 | x_embedding | Identity         | 0     \n",
      "1 | model       | GAT              | 5.7 K \n",
      "2 | head        | Sequential       | 154   \n",
      "3 | loss_module | CrossEntropyLoss | 0     \n",
      "4 | train_acc   | BinaryAccuracy   | 0     \n",
      "5 | train_auroc | BinaryAUROC      | 0     \n",
      "6 | train_f1    | BinaryF1Score    | 0     \n",
      "7 | valid_acc   | BinaryAccuracy   | 0     \n",
      "8 | valid_auroc | BinaryAUROC      | 0     \n",
      "9 | valid_f1    | BinaryF1Score    | 0     \n",
      "-------------------------------------------------\n",
      "5.8 K     Trainable params\n",
      "0         Non-trainable params\n",
      "5.8 K     Total params\n",
      "0.023     Total estimated model params size (MB)\n"
     ]
    },
    {
     "name": "stdout",
     "output_type": "stream",
     "text": [
      "Using GAT\n"
     ]
    },
    {
     "name": "stderr",
     "output_type": "stream",
     "text": [
      "`Trainer.fit` stopped: `max_epochs=50` reached.\n"
     ]
    },
    {
     "data": {
      "text/html": [
       "Waiting for W&B process to finish... <strong style=\"color:green\">(success).</strong>"
      ],
      "text/plain": [
       "<IPython.core.display.HTML object>"
      ]
     },
     "metadata": {},
     "output_type": "display_data"
    },
    {
     "data": {
      "application/vnd.jupyter.widget-view+json": {
       "model_id": "17d61f5b27144759a306308a2fade199",
       "version_major": 2,
       "version_minor": 0
      },
      "text/plain": [
       "VBox(children=(Label(value='0.001 MB of 0.001 MB uploaded (0.000 MB deduped)\\r'), FloatProgress(value=1.0, max…"
      ]
     },
     "metadata": {},
     "output_type": "display_data"
    },
    {
     "data": {
      "text/html": [
       "<style>\n",
       "    table.wandb td:nth-child(1) { padding: 0 10px; text-align: left ; width: auto;} td:nth-child(2) {text-align: left ; width: 100%}\n",
       "    .wandb-row { display: flex; flex-direction: row; flex-wrap: wrap; justify-content: flex-start; width: 100% }\n",
       "    .wandb-col { display: flex; flex-direction: column; flex-basis: 100%; flex: 1; padding: 10px; }\n",
       "    </style>\n",
       "<div class=\"wandb-row\"><div class=\"wandb-col\"><h3>Run history:</h3><br/><table class=\"wandb\"><tr><td>epoch</td><td>▁▁▁▁▂▂▂▂▂▃▃▃▃▃▃▄▄▄▄▄▅▅▅▅▅▅▆▆▆▆▆▇▇▇▇▇▇███</td></tr><tr><td>lr-Adam</td><td>▁▁▁▁▁▁▁▁▁▁▁▁▁▁▁▁▁▁▁▁▁▁▁▁▁▁▁▁▁▁▁▁▁▁▁▁▁▁▁▁</td></tr><tr><td>train_acc</td><td>▁▁▄▄▆▆▆▇▇▇▆▆▇▇▇▇▇▇▇█▇▇▇▇▇▇▇▇▇▇███▇███▇▇▇</td></tr><tr><td>train_auc</td><td>▁▂▃▄▅▅▆▇▇▇▇▆▇▇▇▇▇▇▇█▇▆▇▇▇█▇▇█▇███████▇██</td></tr><tr><td>train_f1</td><td>▁▁▄▃▃▅▄▆▅▅▆▅▇▇▇▆▇▆▆█▄▆▇▅▇▇▅▆▆▆▇▇▇▅▆██▆▅▇</td></tr><tr><td>train_loss_epoch</td><td>█▅▄▃▂▂▂▂▁▂▂▂▁▂▁▁▁▁▁▁▂▁▁▁▁▁▁▁▁▁▁▁▁▁▁▁▁▁▁▁</td></tr><tr><td>train_loss_step</td><td>█▆▄▄▅▃▄▃▁▄▃▄▃▃▃▅▃▁▃▄▃▃▂▃▁</td></tr><tr><td>trainer/global_step</td><td>▁▁▁▁▂▁▂▁▂▂▃▃▃▃▄▄▂▄▂▄▂▅▃▅▃▆▆▆▃▃▇▇▇▃▇▄█▄█▄</td></tr><tr><td>val_acc</td><td>▂▄▅▁▅▄▆▆▇▇▇▇▇▇████▇▆▇████▇█▇▇▇▇██▇██▇▆▇▇</td></tr><tr><td>val_auc</td><td>▁▆▆▇████████████████████████████████████</td></tr><tr><td>val_f1</td><td>▁▇▇▇▇▇██████████████▇████████████████▇██</td></tr><tr><td>val_loss_epoch</td><td>█▇▇█▆▆▅▆▃▃▃▃▂▂▃▁▄▄▂▂▃▂▂▄▂▃▄▄▅▃▂▄▃▃▃▄▃▂▂▃</td></tr><tr><td>val_loss_step</td><td>█▇▆█▅▆▅▇▃▄▂▄▄▂▂▃▂▅▁▂▃▁▂▄▃▃▃▃▇▄▂▃▄▃▂▂▄▂▃▄</td></tr></table><br/></div><div class=\"wandb-col\"><h3>Run summary:</h3><br/><table class=\"wandb\"><tr><td>epoch</td><td>49</td></tr><tr><td>lr-Adam</td><td>0.005</td></tr><tr><td>train_acc</td><td>0.73235</td></tr><tr><td>train_auc</td><td>0.74194</td></tr><tr><td>train_f1</td><td>0.563</td></tr><tr><td>train_loss_epoch</td><td>0.52014</td></tr><tr><td>train_loss_step</td><td>0.49197</td></tr><tr><td>trainer/global_step</td><td>249</td></tr><tr><td>val_acc</td><td>0.74342</td></tr><tr><td>val_auc</td><td>0.80275</td></tr><tr><td>val_f1</td><td>0.70677</td></tr><tr><td>val_loss_epoch</td><td>0.56594</td></tr><tr><td>val_loss_step</td><td>0.59743</td></tr></table><br/></div></div>"
      ],
      "text/plain": [
       "<IPython.core.display.HTML object>"
      ]
     },
     "metadata": {},
     "output_type": "display_data"
    },
    {
     "data": {
      "text/html": [
       " View run <strong style=\"color:#cdcd00\">GAT_3_16_onehot_4</strong> at: <a href='https://wandb.ai/thoomas/PLA_01102024_5PPI_Kfold/runs/hfauha0o' target=\"_blank\">https://wandb.ai/thoomas/PLA_01102024_5PPI_Kfold/runs/hfauha0o</a><br/>Synced 6 W&B file(s), 0 media file(s), 0 artifact file(s) and 0 other file(s)"
      ],
      "text/plain": [
       "<IPython.core.display.HTML object>"
      ]
     },
     "metadata": {},
     "output_type": "display_data"
    },
    {
     "data": {
      "text/html": [
       "Find logs at: <code>.\\wandb\\run-20240113_000022-hfauha0o\\logs</code>"
      ],
      "text/plain": [
       "<IPython.core.display.HTML object>"
      ]
     },
     "metadata": {},
     "output_type": "display_data"
    },
    {
     "data": {
      "application/vnd.jupyter.widget-view+json": {
       "model_id": "f1ed1b1e1f1e4ac8a8aa6a2b87133914",
       "version_major": 2,
       "version_minor": 0
      },
      "text/plain": [
       "VBox(children=(Label(value='Waiting for wandb.init()...\\r'), FloatProgress(value=0.016933333330477276, max=1.0…"
      ]
     },
     "metadata": {},
     "output_type": "display_data"
    },
    {
     "data": {
      "text/html": [
       "wandb version 0.16.2 is available!  To upgrade, please run:\n",
       " $ pip install wandb --upgrade"
      ],
      "text/plain": [
       "<IPython.core.display.HTML object>"
      ]
     },
     "metadata": {},
     "output_type": "display_data"
    },
    {
     "data": {
      "text/html": [
       "Tracking run with wandb version 0.14.0"
      ],
      "text/plain": [
       "<IPython.core.display.HTML object>"
      ]
     },
     "metadata": {},
     "output_type": "display_data"
    },
    {
     "data": {
      "text/html": [
       "Run data is saved locally in <code>y:\\coskun-lab\\Thomas\\23_PLA_revision\\notebooks\\wandb\\run-20240113_002010-h4uyv99t</code>"
      ],
      "text/plain": [
       "<IPython.core.display.HTML object>"
      ]
     },
     "metadata": {},
     "output_type": "display_data"
    },
    {
     "data": {
      "text/html": [
       "Syncing run <strong><a href='https://wandb.ai/thoomas/PLA_01102024_5PPI_Kfold/runs/h4uyv99t' target=\"_blank\">GAT_3_16_onehot_4</a></strong> to <a href='https://wandb.ai/thoomas/PLA_01102024_5PPI_Kfold' target=\"_blank\">Weights & Biases</a> (<a href='https://wandb.me/run' target=\"_blank\">docs</a>)<br/>"
      ],
      "text/plain": [
       "<IPython.core.display.HTML object>"
      ]
     },
     "metadata": {},
     "output_type": "display_data"
    },
    {
     "data": {
      "text/html": [
       " View project at <a href='https://wandb.ai/thoomas/PLA_01102024_5PPI_Kfold' target=\"_blank\">https://wandb.ai/thoomas/PLA_01102024_5PPI_Kfold</a>"
      ],
      "text/plain": [
       "<IPython.core.display.HTML object>"
      ]
     },
     "metadata": {},
     "output_type": "display_data"
    },
    {
     "data": {
      "text/html": [
       " View run at <a href='https://wandb.ai/thoomas/PLA_01102024_5PPI_Kfold/runs/h4uyv99t' target=\"_blank\">https://wandb.ai/thoomas/PLA_01102024_5PPI_Kfold/runs/h4uyv99t</a>"
      ],
      "text/plain": [
       "<IPython.core.display.HTML object>"
      ]
     },
     "metadata": {},
     "output_type": "display_data"
    },
    {
     "name": "stderr",
     "output_type": "stream",
     "text": [
      "Global seed set to 42\n",
      "GPU available: True (cuda), used: True\n",
      "TPU available: False, using: 0 TPU cores\n",
      "IPU available: False, using: 0 IPUs\n",
      "HPU available: False, using: 0 HPUs\n",
      "Global seed set to 42\n",
      "LOCAL_RANK: 0 - CUDA_VISIBLE_DEVICES: [0,1]\n",
      "\n",
      "   | Name        | Type             | Params\n",
      "--------------------------------------------------\n",
      "0  | x_embedding | Identity         | 0     \n",
      "1  | model       | GAT              | 5.7 K \n",
      "2  | head        | Sequential       | 154   \n",
      "3  | loss_module | CrossEntropyLoss | 0     \n",
      "4  | train_acc   | BinaryAccuracy   | 0     \n",
      "5  | train_auroc | BinaryAUROC      | 0     \n",
      "6  | train_f1    | BinaryF1Score    | 0     \n",
      "7  | valid_acc   | BinaryAccuracy   | 0     \n",
      "8  | valid_auroc | BinaryAUROC      | 0     \n",
      "9  | valid_f1    | BinaryF1Score    | 0     \n",
      "10 | pool        | GlobalAttention  | 17    \n",
      "--------------------------------------------------\n",
      "5.9 K     Trainable params\n",
      "0         Non-trainable params\n",
      "5.9 K     Total params\n",
      "0.023     Total estimated model params size (MB)\n"
     ]
    },
    {
     "name": "stdout",
     "output_type": "stream",
     "text": [
      "Using GAT\n"
     ]
    },
    {
     "name": "stderr",
     "output_type": "stream",
     "text": [
      "`Trainer.fit` stopped: `max_epochs=50` reached.\n"
     ]
    },
    {
     "data": {
      "text/html": [
       "Waiting for W&B process to finish... <strong style=\"color:green\">(success).</strong>"
      ],
      "text/plain": [
       "<IPython.core.display.HTML object>"
      ]
     },
     "metadata": {},
     "output_type": "display_data"
    },
    {
     "data": {
      "application/vnd.jupyter.widget-view+json": {
       "model_id": "a051972dfd9340ffaa73184d503f41aa",
       "version_major": 2,
       "version_minor": 0
      },
      "text/plain": [
       "VBox(children=(Label(value='0.001 MB of 0.001 MB uploaded (0.000 MB deduped)\\r'), FloatProgress(value=1.0, max…"
      ]
     },
     "metadata": {},
     "output_type": "display_data"
    },
    {
     "data": {
      "text/html": [
       "<style>\n",
       "    table.wandb td:nth-child(1) { padding: 0 10px; text-align: left ; width: auto;} td:nth-child(2) {text-align: left ; width: 100%}\n",
       "    .wandb-row { display: flex; flex-direction: row; flex-wrap: wrap; justify-content: flex-start; width: 100% }\n",
       "    .wandb-col { display: flex; flex-direction: column; flex-basis: 100%; flex: 1; padding: 10px; }\n",
       "    </style>\n",
       "<div class=\"wandb-row\"><div class=\"wandb-col\"><h3>Run history:</h3><br/><table class=\"wandb\"><tr><td>epoch</td><td>▁▁▁▁▂▂▂▂▂▃▃▃▃▃▃▄▄▄▄▄▅▅▅▅▅▅▆▆▆▆▆▇▇▇▇▇▇███</td></tr><tr><td>lr-Adam</td><td>▁▁▁▁▁▁▁▁▁▁▁▁▁▁▁▁▁▁▁▁▁▁▁▁▁▁▁▁▁▁▁▁▁▁▁▁▁▁▁▁</td></tr><tr><td>train_acc</td><td>▁▅▅▅▅▅▆▆▇▇▇▇█▇█████▇█▇█████▇████████▇███</td></tr><tr><td>train_auc</td><td>▁▃▃▃▄▆▅▆▇▇▇▇██▇▇███▇████████████████████</td></tr><tr><td>train_f1</td><td>▆▂▁▁▁▁▂▄▇█▇▇▇▆▇█▇██▇█▇█████▇█▇▇█▇██▇███▇</td></tr><tr><td>train_loss_epoch</td><td>█▆▆▆▅▄▄▃▃▂▃▂▂▂▂▂▂▂▂▂▂▂▂▁▁▁▁▂▂▂▂▂▂▁▂▁▂▂▁▂</td></tr><tr><td>train_loss_step</td><td>█▇▆▆▄▃▅▃▄▂▄▆▆▂▂▃▄▃▄▃▃▄▄▁▄</td></tr><tr><td>trainer/global_step</td><td>▁▁▁▁▂▁▂▁▂▂▃▃▃▃▄▄▂▄▂▄▂▅▃▅▃▆▆▆▃▃▇▇▇▃▇▄█▄█▄</td></tr><tr><td>val_acc</td><td>▁▁▁▁▁▁▇▅▃▅▇▆█▆▆▆▆▆▆▆▅▅▅▆▅▅▅▄▅▇▅▅▄▄▆▆▆▇▅▆</td></tr><tr><td>val_auc</td><td>▁▄▇████▇▇▇████▇▇▇▇██████████▇███████████</td></tr><tr><td>val_f1</td><td>▁▁▁▁▁▂▇█████████████████████████████████</td></tr><tr><td>val_loss_epoch</td><td>█▇▇█▆▆▅▅▅▄▄▂▁▃▄▆▁▅▄▅▅▄▄▅▃▁▃▅▆▄▃▄▆▄▄▃▄▂▅▃</td></tr><tr><td>val_loss_step</td><td>████▇▇▅▅▆▆▇▃▄▅▆▄▅█▅▆▅▅▄▅▅▁▅▅█▇▅▅█▅▅▆▆▄▅▅</td></tr></table><br/></div><div class=\"wandb-col\"><h3>Run summary:</h3><br/><table class=\"wandb\"><tr><td>epoch</td><td>49</td></tr><tr><td>lr-Adam</td><td>0.005</td></tr><tr><td>train_acc</td><td>0.72332</td></tr><tr><td>train_auc</td><td>0.77295</td></tr><tr><td>train_f1</td><td>0.54274</td></tr><tr><td>train_loss_epoch</td><td>0.54418</td></tr><tr><td>train_loss_step</td><td>0.55407</td></tr><tr><td>trainer/global_step</td><td>249</td></tr><tr><td>val_acc</td><td>0.69079</td></tr><tr><td>val_auc</td><td>0.77453</td></tr><tr><td>val_f1</td><td>0.69677</td></tr><tr><td>val_loss_epoch</td><td>0.5965</td></tr><tr><td>val_loss_step</td><td>0.60461</td></tr></table><br/></div></div>"
      ],
      "text/plain": [
       "<IPython.core.display.HTML object>"
      ]
     },
     "metadata": {},
     "output_type": "display_data"
    },
    {
     "data": {
      "text/html": [
       " View run <strong style=\"color:#cdcd00\">GAT_3_16_onehot_4</strong> at: <a href='https://wandb.ai/thoomas/PLA_01102024_5PPI_Kfold/runs/h4uyv99t' target=\"_blank\">https://wandb.ai/thoomas/PLA_01102024_5PPI_Kfold/runs/h4uyv99t</a><br/>Synced 6 W&B file(s), 0 media file(s), 0 artifact file(s) and 0 other file(s)"
      ],
      "text/plain": [
       "<IPython.core.display.HTML object>"
      ]
     },
     "metadata": {},
     "output_type": "display_data"
    },
    {
     "data": {
      "text/html": [
       "Find logs at: <code>.\\wandb\\run-20240113_002010-h4uyv99t\\logs</code>"
      ],
      "text/plain": [
       "<IPython.core.display.HTML object>"
      ]
     },
     "metadata": {},
     "output_type": "display_data"
    },
    {
     "data": {
      "application/vnd.jupyter.widget-view+json": {
       "model_id": "faf12223c5be4fb899d38d85aa408d8b",
       "version_major": 2,
       "version_minor": 0
      },
      "text/plain": [
       "VBox(children=(Label(value='Waiting for wandb.init()...\\r'), FloatProgress(value=0.016666666666666666, max=1.0…"
      ]
     },
     "metadata": {},
     "output_type": "display_data"
    },
    {
     "data": {
      "text/html": [
       "wandb version 0.16.2 is available!  To upgrade, please run:\n",
       " $ pip install wandb --upgrade"
      ],
      "text/plain": [
       "<IPython.core.display.HTML object>"
      ]
     },
     "metadata": {},
     "output_type": "display_data"
    },
    {
     "data": {
      "text/html": [
       "Tracking run with wandb version 0.14.0"
      ],
      "text/plain": [
       "<IPython.core.display.HTML object>"
      ]
     },
     "metadata": {},
     "output_type": "display_data"
    },
    {
     "data": {
      "text/html": [
       "Run data is saved locally in <code>y:\\coskun-lab\\Thomas\\23_PLA_revision\\notebooks\\wandb\\run-20240113_003842-cfxdcrre</code>"
      ],
      "text/plain": [
       "<IPython.core.display.HTML object>"
      ]
     },
     "metadata": {},
     "output_type": "display_data"
    },
    {
     "data": {
      "text/html": [
       "Syncing run <strong><a href='https://wandb.ai/thoomas/PLA_01102024_5PPI_Kfold/runs/cfxdcrre' target=\"_blank\">GAT_3_16_onehot_4</a></strong> to <a href='https://wandb.ai/thoomas/PLA_01102024_5PPI_Kfold' target=\"_blank\">Weights & Biases</a> (<a href='https://wandb.me/run' target=\"_blank\">docs</a>)<br/>"
      ],
      "text/plain": [
       "<IPython.core.display.HTML object>"
      ]
     },
     "metadata": {},
     "output_type": "display_data"
    },
    {
     "data": {
      "text/html": [
       " View project at <a href='https://wandb.ai/thoomas/PLA_01102024_5PPI_Kfold' target=\"_blank\">https://wandb.ai/thoomas/PLA_01102024_5PPI_Kfold</a>"
      ],
      "text/plain": [
       "<IPython.core.display.HTML object>"
      ]
     },
     "metadata": {},
     "output_type": "display_data"
    },
    {
     "data": {
      "text/html": [
       " View run at <a href='https://wandb.ai/thoomas/PLA_01102024_5PPI_Kfold/runs/cfxdcrre' target=\"_blank\">https://wandb.ai/thoomas/PLA_01102024_5PPI_Kfold/runs/cfxdcrre</a>"
      ],
      "text/plain": [
       "<IPython.core.display.HTML object>"
      ]
     },
     "metadata": {},
     "output_type": "display_data"
    },
    {
     "name": "stderr",
     "output_type": "stream",
     "text": [
      "Global seed set to 42\n",
      "GPU available: True (cuda), used: True\n",
      "TPU available: False, using: 0 TPU cores\n",
      "IPU available: False, using: 0 IPUs\n",
      "HPU available: False, using: 0 HPUs\n",
      "Global seed set to 42\n",
      "LOCAL_RANK: 0 - CUDA_VISIBLE_DEVICES: [0,1]\n",
      "\n",
      "   | Name        | Type             | Params\n",
      "--------------------------------------------------\n",
      "0  | x_embedding | Identity         | 0     \n",
      "1  | model       | GAT              | 5.7 K \n",
      "2  | head        | Sequential       | 154   \n",
      "3  | loss_module | CrossEntropyLoss | 0     \n",
      "4  | train_acc   | BinaryAccuracy   | 0     \n",
      "5  | train_auroc | BinaryAUROC      | 0     \n",
      "6  | train_f1    | BinaryF1Score    | 0     \n",
      "7  | valid_acc   | BinaryAccuracy   | 0     \n",
      "8  | valid_auroc | BinaryAUROC      | 0     \n",
      "9  | valid_f1    | BinaryF1Score    | 0     \n",
      "10 | pool        | Attention_module | 281   \n",
      "--------------------------------------------------\n",
      "6.1 K     Trainable params\n",
      "0         Non-trainable params\n",
      "6.1 K     Total params\n",
      "0.024     Total estimated model params size (MB)\n"
     ]
    },
    {
     "name": "stdout",
     "output_type": "stream",
     "text": [
      "Using GAT\n"
     ]
    },
    {
     "name": "stderr",
     "output_type": "stream",
     "text": [
      "`Trainer.fit` stopped: `max_epochs=50` reached.\n"
     ]
    },
    {
     "data": {
      "text/html": [
       "Waiting for W&B process to finish... <strong style=\"color:green\">(success).</strong>"
      ],
      "text/plain": [
       "<IPython.core.display.HTML object>"
      ]
     },
     "metadata": {},
     "output_type": "display_data"
    },
    {
     "data": {
      "application/vnd.jupyter.widget-view+json": {
       "model_id": "b72790a52bb9448eba56d51283a9ae92",
       "version_major": 2,
       "version_minor": 0
      },
      "text/plain": [
       "VBox(children=(Label(value='0.001 MB of 0.001 MB uploaded (0.000 MB deduped)\\r'), FloatProgress(value=1.0, max…"
      ]
     },
     "metadata": {},
     "output_type": "display_data"
    },
    {
     "data": {
      "text/html": [
       "<style>\n",
       "    table.wandb td:nth-child(1) { padding: 0 10px; text-align: left ; width: auto;} td:nth-child(2) {text-align: left ; width: 100%}\n",
       "    .wandb-row { display: flex; flex-direction: row; flex-wrap: wrap; justify-content: flex-start; width: 100% }\n",
       "    .wandb-col { display: flex; flex-direction: column; flex-basis: 100%; flex: 1; padding: 10px; }\n",
       "    </style>\n",
       "<div class=\"wandb-row\"><div class=\"wandb-col\"><h3>Run history:</h3><br/><table class=\"wandb\"><tr><td>epoch</td><td>▁▁▁▁▂▂▂▂▂▃▃▃▃▃▃▄▄▄▄▄▅▅▅▅▅▅▆▆▆▆▆▇▇▇▇▇▇███</td></tr><tr><td>lr-Adam</td><td>▁▁▁▁▁▁▁▁▁▁▁▁▁▁▁▁▁▁▁▁▁▁▁▁▁▁▁▁▁▁▁▁▁▁▁▁▁▁▁▁</td></tr><tr><td>train_acc</td><td>▁▅▅▅▅▆▆▆▇▇▇▇▇██▇██▇▇▇▇██▇▇▇▇██▇▇▇▇██▇▇█▇</td></tr><tr><td>train_auc</td><td>▁▁▂▃▅▆▇▆▇▇▇▇▇██▇█▇▇█▇█████████▇█████████</td></tr><tr><td>train_f1</td><td>▆▂▁▁▁▃▅▆▇▇▇▇▇▇▇▇██▇▇█▇▇▇▇▇▇▇██▇▇▇▆▇█▇█▇█</td></tr><tr><td>train_loss_epoch</td><td>█▇▆▅▅▄▃▃▂▂▃▂▃▂▁▂▁▂▂▂▂▂▁▁▁▂▂▂▁▂▂▂▁▂▁▁▂▂▂▂</td></tr><tr><td>train_loss_step</td><td>█▆▅▄▃▃▄▇▃▃▂▃▁▁▃▂▂▁▄▃▄▂▃▄▄</td></tr><tr><td>trainer/global_step</td><td>▁▁▁▁▂▁▂▁▂▂▃▃▃▃▄▄▂▄▂▄▂▅▃▅▃▆▆▆▃▃▇▇▇▃▇▄█▄█▄</td></tr><tr><td>val_acc</td><td>▁▁▁▁▂█▄▂▅▅▇▇▇▇▇▆▅▅▅▇▆▇▇▇▆▇▇▆▇▇█▇██▅▅▆▇▇▆</td></tr><tr><td>val_auc</td><td>▁▅▇███▇▇▇▇▇█████████████████████████████</td></tr><tr><td>val_f1</td><td>▁▁▁▁▃███████████████████████████████████</td></tr><tr><td>val_loss_epoch</td><td>█▇▇▇▇▆▆▅▄▄▂▁▂▁▂▄▅▆▅▃▃▁▄▄▃▄▃▄▄▂▃▂▃▃▃▄▄▄▂▄</td></tr><tr><td>val_loss_step</td><td>▇▇▇▇▆▆▆▅▅▄▃▂▃▁▃▄▅█▇▄▄▂▇▄▃▅▄▄▅▂▄▄▄▄▄▄▅▅▄▅</td></tr></table><br/></div><div class=\"wandb-col\"><h3>Run summary:</h3><br/><table class=\"wandb\"><tr><td>epoch</td><td>49</td></tr><tr><td>lr-Adam</td><td>0.005</td></tr><tr><td>train_acc</td><td>0.71593</td></tr><tr><td>train_auc</td><td>0.77681</td></tr><tr><td>train_f1</td><td>0.57284</td></tr><tr><td>train_loss_epoch</td><td>0.54586</td></tr><tr><td>train_loss_step</td><td>0.57207</td></tr><tr><td>trainer/global_step</td><td>249</td></tr><tr><td>val_acc</td><td>0.67763</td></tr><tr><td>val_auc</td><td>0.77852</td></tr><tr><td>val_f1</td><td>0.69375</td></tr><tr><td>val_loss_epoch</td><td>0.60477</td></tr><tr><td>val_loss_step</td><td>0.61561</td></tr></table><br/></div></div>"
      ],
      "text/plain": [
       "<IPython.core.display.HTML object>"
      ]
     },
     "metadata": {},
     "output_type": "display_data"
    },
    {
     "data": {
      "text/html": [
       " View run <strong style=\"color:#cdcd00\">GAT_3_16_onehot_4</strong> at: <a href='https://wandb.ai/thoomas/PLA_01102024_5PPI_Kfold/runs/cfxdcrre' target=\"_blank\">https://wandb.ai/thoomas/PLA_01102024_5PPI_Kfold/runs/cfxdcrre</a><br/>Synced 6 W&B file(s), 0 media file(s), 0 artifact file(s) and 0 other file(s)"
      ],
      "text/plain": [
       "<IPython.core.display.HTML object>"
      ]
     },
     "metadata": {},
     "output_type": "display_data"
    },
    {
     "data": {
      "text/html": [
       "Find logs at: <code>.\\wandb\\run-20240113_003842-cfxdcrre\\logs</code>"
      ],
      "text/plain": [
       "<IPython.core.display.HTML object>"
      ]
     },
     "metadata": {},
     "output_type": "display_data"
    },
    {
     "data": {
      "application/vnd.jupyter.widget-view+json": {
       "model_id": "2bd79b9b28694f25a06d0b9af93e69c9",
       "version_major": 2,
       "version_minor": 0
      },
      "text/plain": [
       "VBox(children=(Label(value='Waiting for wandb.init()...\\r'), FloatProgress(value=0.01693333333435779, max=1.0)…"
      ]
     },
     "metadata": {},
     "output_type": "display_data"
    },
    {
     "data": {
      "text/html": [
       "wandb version 0.16.2 is available!  To upgrade, please run:\n",
       " $ pip install wandb --upgrade"
      ],
      "text/plain": [
       "<IPython.core.display.HTML object>"
      ]
     },
     "metadata": {},
     "output_type": "display_data"
    },
    {
     "data": {
      "text/html": [
       "Tracking run with wandb version 0.14.0"
      ],
      "text/plain": [
       "<IPython.core.display.HTML object>"
      ]
     },
     "metadata": {},
     "output_type": "display_data"
    },
    {
     "data": {
      "text/html": [
       "Run data is saved locally in <code>y:\\coskun-lab\\Thomas\\23_PLA_revision\\notebooks\\wandb\\run-20240113_005514-rysekv44</code>"
      ],
      "text/plain": [
       "<IPython.core.display.HTML object>"
      ]
     },
     "metadata": {},
     "output_type": "display_data"
    },
    {
     "data": {
      "text/html": [
       "Syncing run <strong><a href='https://wandb.ai/thoomas/PLA_01102024_5PPI_Kfold/runs/rysekv44' target=\"_blank\">GAT_3_32_onehot_4</a></strong> to <a href='https://wandb.ai/thoomas/PLA_01102024_5PPI_Kfold' target=\"_blank\">Weights & Biases</a> (<a href='https://wandb.me/run' target=\"_blank\">docs</a>)<br/>"
      ],
      "text/plain": [
       "<IPython.core.display.HTML object>"
      ]
     },
     "metadata": {},
     "output_type": "display_data"
    },
    {
     "data": {
      "text/html": [
       " View project at <a href='https://wandb.ai/thoomas/PLA_01102024_5PPI_Kfold' target=\"_blank\">https://wandb.ai/thoomas/PLA_01102024_5PPI_Kfold</a>"
      ],
      "text/plain": [
       "<IPython.core.display.HTML object>"
      ]
     },
     "metadata": {},
     "output_type": "display_data"
    },
    {
     "data": {
      "text/html": [
       " View run at <a href='https://wandb.ai/thoomas/PLA_01102024_5PPI_Kfold/runs/rysekv44' target=\"_blank\">https://wandb.ai/thoomas/PLA_01102024_5PPI_Kfold/runs/rysekv44</a>"
      ],
      "text/plain": [
       "<IPython.core.display.HTML object>"
      ]
     },
     "metadata": {},
     "output_type": "display_data"
    },
    {
     "name": "stderr",
     "output_type": "stream",
     "text": [
      "Global seed set to 42\n",
      "GPU available: True (cuda), used: True\n",
      "TPU available: False, using: 0 TPU cores\n",
      "IPU available: False, using: 0 IPUs\n",
      "HPU available: False, using: 0 HPUs\n",
      "Global seed set to 42\n",
      "LOCAL_RANK: 0 - CUDA_VISIBLE_DEVICES: [0,1]\n",
      "\n",
      "  | Name        | Type             | Params\n",
      "-------------------------------------------------\n",
      "0 | x_embedding | Identity         | 0     \n",
      "1 | model       | GAT              | 20.6 K\n",
      "2 | head        | Sequential       | 562   \n",
      "3 | loss_module | CrossEntropyLoss | 0     \n",
      "4 | train_acc   | BinaryAccuracy   | 0     \n",
      "5 | train_auroc | BinaryAUROC      | 0     \n",
      "6 | train_f1    | BinaryF1Score    | 0     \n",
      "7 | valid_acc   | BinaryAccuracy   | 0     \n",
      "8 | valid_auroc | BinaryAUROC      | 0     \n",
      "9 | valid_f1    | BinaryF1Score    | 0     \n",
      "-------------------------------------------------\n",
      "21.1 K    Trainable params\n",
      "0         Non-trainable params\n",
      "21.1 K    Total params\n",
      "0.085     Total estimated model params size (MB)\n"
     ]
    },
    {
     "name": "stdout",
     "output_type": "stream",
     "text": [
      "Using GAT\n"
     ]
    },
    {
     "name": "stderr",
     "output_type": "stream",
     "text": [
      "`Trainer.fit` stopped: `max_epochs=50` reached.\n"
     ]
    },
    {
     "data": {
      "text/html": [
       "Waiting for W&B process to finish... <strong style=\"color:green\">(success).</strong>"
      ],
      "text/plain": [
       "<IPython.core.display.HTML object>"
      ]
     },
     "metadata": {},
     "output_type": "display_data"
    },
    {
     "data": {
      "application/vnd.jupyter.widget-view+json": {
       "model_id": "1e501acad9a848e7be772b375c80dd72",
       "version_major": 2,
       "version_minor": 0
      },
      "text/plain": [
       "VBox(children=(Label(value='0.001 MB of 0.001 MB uploaded (0.000 MB deduped)\\r'), FloatProgress(value=1.0, max…"
      ]
     },
     "metadata": {},
     "output_type": "display_data"
    },
    {
     "data": {
      "text/html": [
       "<style>\n",
       "    table.wandb td:nth-child(1) { padding: 0 10px; text-align: left ; width: auto;} td:nth-child(2) {text-align: left ; width: 100%}\n",
       "    .wandb-row { display: flex; flex-direction: row; flex-wrap: wrap; justify-content: flex-start; width: 100% }\n",
       "    .wandb-col { display: flex; flex-direction: column; flex-basis: 100%; flex: 1; padding: 10px; }\n",
       "    </style>\n",
       "<div class=\"wandb-row\"><div class=\"wandb-col\"><h3>Run history:</h3><br/><table class=\"wandb\"><tr><td>epoch</td><td>▁▁▁▁▂▂▂▂▂▃▃▃▃▃▃▄▄▄▄▄▅▅▅▅▅▅▆▆▆▆▆▇▇▇▇▇▇███</td></tr><tr><td>lr-Adam</td><td>▁▁▁▁▁▁▁▁▁▁▁▁▁▁▁▁▁▁▁▁▁▁▁▁▁▁▁▁▁▁▁▁▁▁▁▁▁▁▁▁</td></tr><tr><td>train_acc</td><td>▁▅▅▅▆▇▇▇▇█▇▇▇▇▇█▇▇▇▇▇▇▇▇▇█▇▇▇▇█▇▇▇██████</td></tr><tr><td>train_auc</td><td>▁▁▃▅▆▇▇▇▇▇▇▇▇▇██▇▇█▇▇███▇█▇█████████████</td></tr><tr><td>train_f1</td><td>▆▁▄▄▇▇▇▇█▇▇█▇▇▇█▇▇██▇█▇█▇█▇▇▇▇█▇█▇██████</td></tr><tr><td>train_loss_epoch</td><td>█▇▆▅▃▂▃▂▃▂▂▂▂▂▂▁▂▂▂▂▁▂▂▂▂▁▂▂▁▂▁▁▂▁▁▁▁▁▁▂</td></tr><tr><td>train_loss_step</td><td>▇█▅▅▃▃▅▃▂▄▅▄▃▂▅▃▃▁▄▄▄▃▄▂▅</td></tr><tr><td>trainer/global_step</td><td>▁▁▁▁▂▁▂▁▂▂▃▃▃▃▄▄▂▄▂▄▂▅▃▅▃▆▆▆▃▃▇▇▇▃▇▄█▄█▄</td></tr><tr><td>val_acc</td><td>▄▄▆▇▁▃▃▅▅▅▅▅▆▆▇▇█▆▅▅▅▇▇▇▇▇▇██▇▆▇▆▅▄▅▅▅▆▆</td></tr><tr><td>val_auc</td><td>▁▇█▃▆▆▆▇███▇▇▇▇█████████████████████▇▇██</td></tr><tr><td>val_f1</td><td>▁▁██▇▇▇████▇██████████████████████▇█████</td></tr><tr><td>val_loss_epoch</td><td>▅▆▆▅▆▅▆▅▆▅▇▆▃▄▃▁▂▂▅▄▃▄▄▄▂▁▂▂▄▂▃▂▄▅█▅▇▆▄▄</td></tr><tr><td>val_loss_step</td><td>▆▆▆▆▆▆▅▆▅▅█▇▄▄▄▃▃▁▆▅▅▆▅▃▄▁▃▃▆▂▃▄▅▄▆▆▆▆▄▄</td></tr></table><br/></div><div class=\"wandb-col\"><h3>Run summary:</h3><br/><table class=\"wandb\"><tr><td>epoch</td><td>49</td></tr><tr><td>lr-Adam</td><td>0.005</td></tr><tr><td>train_acc</td><td>0.73974</td></tr><tr><td>train_auc</td><td>0.78259</td></tr><tr><td>train_f1</td><td>0.62574</td></tr><tr><td>train_loss_epoch</td><td>0.54</td></tr><tr><td>train_loss_step</td><td>0.57373</td></tr><tr><td>trainer/global_step</td><td>249</td></tr><tr><td>val_acc</td><td>0.625</td></tr><tr><td>val_auc</td><td>0.77745</td></tr><tr><td>val_f1</td><td>0.67052</td></tr><tr><td>val_loss_epoch</td><td>0.64577</td></tr><tr><td>val_loss_step</td><td>0.64016</td></tr></table><br/></div></div>"
      ],
      "text/plain": [
       "<IPython.core.display.HTML object>"
      ]
     },
     "metadata": {},
     "output_type": "display_data"
    },
    {
     "data": {
      "text/html": [
       " View run <strong style=\"color:#cdcd00\">GAT_3_32_onehot_4</strong> at: <a href='https://wandb.ai/thoomas/PLA_01102024_5PPI_Kfold/runs/rysekv44' target=\"_blank\">https://wandb.ai/thoomas/PLA_01102024_5PPI_Kfold/runs/rysekv44</a><br/>Synced 6 W&B file(s), 0 media file(s), 0 artifact file(s) and 0 other file(s)"
      ],
      "text/plain": [
       "<IPython.core.display.HTML object>"
      ]
     },
     "metadata": {},
     "output_type": "display_data"
    },
    {
     "data": {
      "text/html": [
       "Find logs at: <code>.\\wandb\\run-20240113_005514-rysekv44\\logs</code>"
      ],
      "text/plain": [
       "<IPython.core.display.HTML object>"
      ]
     },
     "metadata": {},
     "output_type": "display_data"
    },
    {
     "data": {
      "application/vnd.jupyter.widget-view+json": {
       "model_id": "e934bd2626c844ca8768a5885a191c89",
       "version_major": 2,
       "version_minor": 0
      },
      "text/plain": [
       "VBox(children=(Label(value='Waiting for wandb.init()...\\r'), FloatProgress(value=0.01693333333435779, max=1.0)…"
      ]
     },
     "metadata": {},
     "output_type": "display_data"
    },
    {
     "data": {
      "text/html": [
       "wandb version 0.16.2 is available!  To upgrade, please run:\n",
       " $ pip install wandb --upgrade"
      ],
      "text/plain": [
       "<IPython.core.display.HTML object>"
      ]
     },
     "metadata": {},
     "output_type": "display_data"
    },
    {
     "data": {
      "text/html": [
       "Tracking run with wandb version 0.14.0"
      ],
      "text/plain": [
       "<IPython.core.display.HTML object>"
      ]
     },
     "metadata": {},
     "output_type": "display_data"
    },
    {
     "data": {
      "text/html": [
       "Run data is saved locally in <code>y:\\coskun-lab\\Thomas\\23_PLA_revision\\notebooks\\wandb\\run-20240113_011032-osnzpyfy</code>"
      ],
      "text/plain": [
       "<IPython.core.display.HTML object>"
      ]
     },
     "metadata": {},
     "output_type": "display_data"
    },
    {
     "data": {
      "text/html": [
       "Syncing run <strong><a href='https://wandb.ai/thoomas/PLA_01102024_5PPI_Kfold/runs/osnzpyfy' target=\"_blank\">GAT_3_32_onehot_4</a></strong> to <a href='https://wandb.ai/thoomas/PLA_01102024_5PPI_Kfold' target=\"_blank\">Weights & Biases</a> (<a href='https://wandb.me/run' target=\"_blank\">docs</a>)<br/>"
      ],
      "text/plain": [
       "<IPython.core.display.HTML object>"
      ]
     },
     "metadata": {},
     "output_type": "display_data"
    },
    {
     "data": {
      "text/html": [
       " View project at <a href='https://wandb.ai/thoomas/PLA_01102024_5PPI_Kfold' target=\"_blank\">https://wandb.ai/thoomas/PLA_01102024_5PPI_Kfold</a>"
      ],
      "text/plain": [
       "<IPython.core.display.HTML object>"
      ]
     },
     "metadata": {},
     "output_type": "display_data"
    },
    {
     "data": {
      "text/html": [
       " View run at <a href='https://wandb.ai/thoomas/PLA_01102024_5PPI_Kfold/runs/osnzpyfy' target=\"_blank\">https://wandb.ai/thoomas/PLA_01102024_5PPI_Kfold/runs/osnzpyfy</a>"
      ],
      "text/plain": [
       "<IPython.core.display.HTML object>"
      ]
     },
     "metadata": {},
     "output_type": "display_data"
    },
    {
     "name": "stderr",
     "output_type": "stream",
     "text": [
      "Global seed set to 42\n",
      "GPU available: True (cuda), used: True\n",
      "TPU available: False, using: 0 TPU cores\n",
      "IPU available: False, using: 0 IPUs\n",
      "HPU available: False, using: 0 HPUs\n",
      "Global seed set to 42\n",
      "LOCAL_RANK: 0 - CUDA_VISIBLE_DEVICES: [0,1]\n",
      "\n",
      "  | Name        | Type             | Params\n",
      "-------------------------------------------------\n",
      "0 | x_embedding | Identity         | 0     \n",
      "1 | model       | GAT              | 20.6 K\n",
      "2 | head        | Sequential       | 562   \n",
      "3 | loss_module | CrossEntropyLoss | 0     \n",
      "4 | train_acc   | BinaryAccuracy   | 0     \n",
      "5 | train_auroc | BinaryAUROC      | 0     \n",
      "6 | train_f1    | BinaryF1Score    | 0     \n",
      "7 | valid_acc   | BinaryAccuracy   | 0     \n",
      "8 | valid_auroc | BinaryAUROC      | 0     \n",
      "9 | valid_f1    | BinaryF1Score    | 0     \n",
      "-------------------------------------------------\n",
      "21.1 K    Trainable params\n",
      "0         Non-trainable params\n",
      "21.1 K    Total params\n",
      "0.085     Total estimated model params size (MB)\n"
     ]
    },
    {
     "name": "stdout",
     "output_type": "stream",
     "text": [
      "Using GAT\n"
     ]
    },
    {
     "name": "stderr",
     "output_type": "stream",
     "text": [
      "`Trainer.fit` stopped: `max_epochs=50` reached.\n"
     ]
    },
    {
     "data": {
      "text/html": [
       "Waiting for W&B process to finish... <strong style=\"color:green\">(success).</strong>"
      ],
      "text/plain": [
       "<IPython.core.display.HTML object>"
      ]
     },
     "metadata": {},
     "output_type": "display_data"
    },
    {
     "data": {
      "application/vnd.jupyter.widget-view+json": {
       "model_id": "f14672d91f4f4abe87a5b51aa825e842",
       "version_major": 2,
       "version_minor": 0
      },
      "text/plain": [
       "VBox(children=(Label(value='0.001 MB of 0.001 MB uploaded (0.000 MB deduped)\\r'), FloatProgress(value=1.0, max…"
      ]
     },
     "metadata": {},
     "output_type": "display_data"
    },
    {
     "data": {
      "text/html": [
       "<style>\n",
       "    table.wandb td:nth-child(1) { padding: 0 10px; text-align: left ; width: auto;} td:nth-child(2) {text-align: left ; width: 100%}\n",
       "    .wandb-row { display: flex; flex-direction: row; flex-wrap: wrap; justify-content: flex-start; width: 100% }\n",
       "    .wandb-col { display: flex; flex-direction: column; flex-basis: 100%; flex: 1; padding: 10px; }\n",
       "    </style>\n",
       "<div class=\"wandb-row\"><div class=\"wandb-col\"><h3>Run history:</h3><br/><table class=\"wandb\"><tr><td>epoch</td><td>▁▁▁▁▂▂▂▂▂▃▃▃▃▃▃▄▄▄▄▄▅▅▅▅▅▅▆▆▆▆▆▇▇▇▇▇▇███</td></tr><tr><td>lr-Adam</td><td>▁▁▁▁▁▁▁▁▁▁▁▁▁▁▁▁▁▁▁▁▁▁▁▁▁▁▁▁▁▁▁▁▁▁▁▁▁▁▁▁</td></tr><tr><td>train_acc</td><td>▁▃▄▄▄▅▅▆▆▅▆▆▆▆▆▇▆▆█▆▇▆▇▇▇▇▇▆▇▇▇▇▇▇█▇█▇▇▇</td></tr><tr><td>train_auc</td><td>▁▁▂▃▃▅▅▅▆▅▅▅▆▆▆▆▆▆▇▆▇▇▇▇▇▇▇▇▇▇▇▇▇▇█▇██▇▇</td></tr><tr><td>train_f1</td><td>▄▁▄▃▃▄▅▆▇▆▆▆▅▆▆▆▆▅█▇▇▇▆█▇▇▆▆▇▇█▇▇▆█▇█▇▇█</td></tr><tr><td>train_loss_epoch</td><td>██▇▆▅▅▅▄▄▄▄▄▃▃▃▃▃▃▂▃▂▃▃▃▃▂▃▂▃▃▁▂▂▂▁▂▁▂▂▂</td></tr><tr><td>train_loss_step</td><td>██▆▅▅▆▅▄▄▃▅▃▄▄▅▄▃▁▃▄▄▃▂▃▅</td></tr><tr><td>trainer/global_step</td><td>▁▁▁▁▂▁▂▁▂▂▃▃▃▃▄▄▂▄▂▄▂▅▃▅▃▆▆▆▃▃▇▇▇▃▇▄█▄█▄</td></tr><tr><td>val_acc</td><td>▁▁▁▃▆▆▅▅▄▆▆▆▇▆▇▇▇▆▅▇▅▇▇▇▇█▇▇█▇▇██████▇█▇</td></tr><tr><td>val_auc</td><td>▁▄▆▆▇▇▆▇▇▇▇▇▇▇███▇▇█████████████████████</td></tr><tr><td>val_f1</td><td>▂▂▂▄▆▅▆▆▅▅▆▆▆▆▆▇▆▆▆▇▆▆▇▇█▁▅▄▆▇██▂▅▆▇▅▆▁▅</td></tr><tr><td>val_loss_epoch</td><td>███▇▆▅▆▆▆▅▅▅▄▄▂▃▃▃▅▂▄▃▃▃▂▂▂▃▃▃▂▂▃▂▃▁▂▃▂▂</td></tr><tr><td>val_loss_step</td><td>██▇▇▆▆▆▆▆▄▆▅▄▃▂▄▃▁▆▄▅▄▃▂▃▃▂▂▄▃▂▃▃▃▂▂▂▃▂▁</td></tr></table><br/></div><div class=\"wandb-col\"><h3>Run summary:</h3><br/><table class=\"wandb\"><tr><td>epoch</td><td>49</td></tr><tr><td>lr-Adam</td><td>0.005</td></tr><tr><td>train_acc</td><td>0.70854</td></tr><tr><td>train_auc</td><td>0.7487</td></tr><tr><td>train_f1</td><td>0.57177</td></tr><tr><td>train_loss_epoch</td><td>0.56388</td></tr><tr><td>train_loss_step</td><td>0.59951</td></tr><tr><td>trainer/global_step</td><td>249</td></tr><tr><td>val_acc</td><td>0.67763</td></tr><tr><td>val_auc</td><td>0.75278</td></tr><tr><td>val_f1</td><td>0.63704</td></tr><tr><td>val_loss_epoch</td><td>0.59659</td></tr><tr><td>val_loss_step</td><td>0.58237</td></tr></table><br/></div></div>"
      ],
      "text/plain": [
       "<IPython.core.display.HTML object>"
      ]
     },
     "metadata": {},
     "output_type": "display_data"
    },
    {
     "data": {
      "text/html": [
       " View run <strong style=\"color:#cdcd00\">GAT_3_32_onehot_4</strong> at: <a href='https://wandb.ai/thoomas/PLA_01102024_5PPI_Kfold/runs/osnzpyfy' target=\"_blank\">https://wandb.ai/thoomas/PLA_01102024_5PPI_Kfold/runs/osnzpyfy</a><br/>Synced 6 W&B file(s), 0 media file(s), 0 artifact file(s) and 0 other file(s)"
      ],
      "text/plain": [
       "<IPython.core.display.HTML object>"
      ]
     },
     "metadata": {},
     "output_type": "display_data"
    },
    {
     "data": {
      "text/html": [
       "Find logs at: <code>.\\wandb\\run-20240113_011032-osnzpyfy\\logs</code>"
      ],
      "text/plain": [
       "<IPython.core.display.HTML object>"
      ]
     },
     "metadata": {},
     "output_type": "display_data"
    },
    {
     "data": {
      "application/vnd.jupyter.widget-view+json": {
       "model_id": "1eb16c10fb894aff96b2faf5e5c72b4f",
       "version_major": 2,
       "version_minor": 0
      },
      "text/plain": [
       "VBox(children=(Label(value='Waiting for wandb.init()...\\r'), FloatProgress(value=0.016933333330477276, max=1.0…"
      ]
     },
     "metadata": {},
     "output_type": "display_data"
    },
    {
     "data": {
      "text/html": [
       "wandb version 0.16.2 is available!  To upgrade, please run:\n",
       " $ pip install wandb --upgrade"
      ],
      "text/plain": [
       "<IPython.core.display.HTML object>"
      ]
     },
     "metadata": {},
     "output_type": "display_data"
    },
    {
     "data": {
      "text/html": [
       "Tracking run with wandb version 0.14.0"
      ],
      "text/plain": [
       "<IPython.core.display.HTML object>"
      ]
     },
     "metadata": {},
     "output_type": "display_data"
    },
    {
     "data": {
      "text/html": [
       "Run data is saved locally in <code>y:\\coskun-lab\\Thomas\\23_PLA_revision\\notebooks\\wandb\\run-20240113_012558-br7kh66y</code>"
      ],
      "text/plain": [
       "<IPython.core.display.HTML object>"
      ]
     },
     "metadata": {},
     "output_type": "display_data"
    },
    {
     "data": {
      "text/html": [
       "Syncing run <strong><a href='https://wandb.ai/thoomas/PLA_01102024_5PPI_Kfold/runs/br7kh66y' target=\"_blank\">GAT_3_32_onehot_4</a></strong> to <a href='https://wandb.ai/thoomas/PLA_01102024_5PPI_Kfold' target=\"_blank\">Weights & Biases</a> (<a href='https://wandb.me/run' target=\"_blank\">docs</a>)<br/>"
      ],
      "text/plain": [
       "<IPython.core.display.HTML object>"
      ]
     },
     "metadata": {},
     "output_type": "display_data"
    },
    {
     "data": {
      "text/html": [
       " View project at <a href='https://wandb.ai/thoomas/PLA_01102024_5PPI_Kfold' target=\"_blank\">https://wandb.ai/thoomas/PLA_01102024_5PPI_Kfold</a>"
      ],
      "text/plain": [
       "<IPython.core.display.HTML object>"
      ]
     },
     "metadata": {},
     "output_type": "display_data"
    },
    {
     "data": {
      "text/html": [
       " View run at <a href='https://wandb.ai/thoomas/PLA_01102024_5PPI_Kfold/runs/br7kh66y' target=\"_blank\">https://wandb.ai/thoomas/PLA_01102024_5PPI_Kfold/runs/br7kh66y</a>"
      ],
      "text/plain": [
       "<IPython.core.display.HTML object>"
      ]
     },
     "metadata": {},
     "output_type": "display_data"
    },
    {
     "name": "stderr",
     "output_type": "stream",
     "text": [
      "Global seed set to 42\n",
      "GPU available: True (cuda), used: True\n",
      "TPU available: False, using: 0 TPU cores\n",
      "IPU available: False, using: 0 IPUs\n",
      "HPU available: False, using: 0 HPUs\n",
      "Global seed set to 42\n",
      "LOCAL_RANK: 0 - CUDA_VISIBLE_DEVICES: [0,1]\n",
      "\n",
      "  | Name        | Type             | Params\n",
      "-------------------------------------------------\n",
      "0 | x_embedding | Identity         | 0     \n",
      "1 | model       | GAT              | 20.6 K\n",
      "2 | head        | Sequential       | 562   \n",
      "3 | loss_module | CrossEntropyLoss | 0     \n",
      "4 | train_acc   | BinaryAccuracy   | 0     \n",
      "5 | train_auroc | BinaryAUROC      | 0     \n",
      "6 | train_f1    | BinaryF1Score    | 0     \n",
      "7 | valid_acc   | BinaryAccuracy   | 0     \n",
      "8 | valid_auroc | BinaryAUROC      | 0     \n",
      "9 | valid_f1    | BinaryF1Score    | 0     \n",
      "-------------------------------------------------\n",
      "21.1 K    Trainable params\n",
      "0         Non-trainable params\n",
      "21.1 K    Total params\n",
      "0.085     Total estimated model params size (MB)\n"
     ]
    },
    {
     "name": "stdout",
     "output_type": "stream",
     "text": [
      "Using GAT\n"
     ]
    },
    {
     "name": "stderr",
     "output_type": "stream",
     "text": [
      "`Trainer.fit` stopped: `max_epochs=50` reached.\n"
     ]
    },
    {
     "data": {
      "text/html": [
       "Waiting for W&B process to finish... <strong style=\"color:green\">(success).</strong>"
      ],
      "text/plain": [
       "<IPython.core.display.HTML object>"
      ]
     },
     "metadata": {},
     "output_type": "display_data"
    },
    {
     "data": {
      "application/vnd.jupyter.widget-view+json": {
       "model_id": "70e90cc9dc6244febfd05b805f0805a7",
       "version_major": 2,
       "version_minor": 0
      },
      "text/plain": [
       "VBox(children=(Label(value='0.001 MB of 0.001 MB uploaded (0.000 MB deduped)\\r'), FloatProgress(value=1.0, max…"
      ]
     },
     "metadata": {},
     "output_type": "display_data"
    },
    {
     "data": {
      "text/html": [
       "<style>\n",
       "    table.wandb td:nth-child(1) { padding: 0 10px; text-align: left ; width: auto;} td:nth-child(2) {text-align: left ; width: 100%}\n",
       "    .wandb-row { display: flex; flex-direction: row; flex-wrap: wrap; justify-content: flex-start; width: 100% }\n",
       "    .wandb-col { display: flex; flex-direction: column; flex-basis: 100%; flex: 1; padding: 10px; }\n",
       "    </style>\n",
       "<div class=\"wandb-row\"><div class=\"wandb-col\"><h3>Run history:</h3><br/><table class=\"wandb\"><tr><td>epoch</td><td>▁▁▁▁▂▂▂▂▂▃▃▃▃▃▃▄▄▄▄▄▅▅▅▅▅▅▆▆▆▆▆▇▇▇▇▇▇███</td></tr><tr><td>lr-Adam</td><td>▁▁▁▁▁▁▁▁▁▁▁▁▁▁▁▁▁▁▁▁▁▁▁▁▁▁▁▁▁▁▁▁▁▁▁▁▁▁▁▁</td></tr><tr><td>train_acc</td><td>▁▂▂▄▅▅▅▆▆▆▆▆▇▇▇▇▇▇▇▇▇▇▇▇▇▇▇▇▇▇▇▇▇████▇▇▇</td></tr><tr><td>train_auc</td><td>▁▃▅█▆▇▇▇▇▆▆▅▆▅▅▅▄▄▃▃▃▃▂▃▄▄▃▄▄▄▂▃▃▃▃▄▅▂▃▁</td></tr><tr><td>train_f1</td><td>▁▂▄▅▅▆▇▇█▆▆▇▆▇█▇▇▆▇▇▇▇▇▇▇▆▆▇▇▇▇▆▇▇█▇█▇▇█</td></tr><tr><td>train_loss_epoch</td><td>█▄▃▂▂▂▁▁▁▁▁▁▁▁▁▁▁▁▁▁▁▁▁▁▁▁▁▁▁▁▁▁▁▁▁▁▁▁▁▁</td></tr><tr><td>train_loss_step</td><td>█▄▃▂▂▂▃▂▂▂▂▂▂▁▁▂▂▁▂▁▂▂▂▁▂</td></tr><tr><td>trainer/global_step</td><td>▁▁▁▁▂▁▂▁▂▂▃▃▃▃▄▄▂▄▂▄▂▅▃▅▃▆▆▆▃▃▇▇▇▃▇▄█▄█▄</td></tr><tr><td>val_acc</td><td>▂▃▁▁▃▃▃▄▄▆▅▅▆▄▅▆▆▆▆▆▇▇▇▇▇█▇▇▇▇▇▇▇▇▇█▇███</td></tr><tr><td>val_auc</td><td>▃▆▅▅▆▇▇███████▇▇▇▇▆▅▄▃▃▅▇▆▆▇▇▅▅▆▆▆▆▇▇▅▆▁</td></tr><tr><td>val_f1</td><td>▁▆▅▅▆▆▆▆▆▇▇▆▇▆▇▇▇▇▇▇▇▇██████▇▇███▇██████</td></tr><tr><td>val_loss_epoch</td><td>▇▆▆█▆▆▆▆▅▅▆▆▄▇▅▄▄▂▅▃▃▅▃▄▂▁▄▃▆▃▃▅▂▇▅▃▃▁▃▃</td></tr><tr><td>val_loss_step</td><td>▆▆▆▇▆▇▄▆▅▄▆▇▅▇▅▄▅▂▆▅▅▇▄▄▄▁▃▄█▄▄▄▂█▃▄▄▁▃▂</td></tr></table><br/></div><div class=\"wandb-col\"><h3>Run summary:</h3><br/><table class=\"wandb\"><tr><td>epoch</td><td>49</td></tr><tr><td>lr-Adam</td><td>0.005</td></tr><tr><td>train_acc</td><td>0.73974</td></tr><tr><td>train_auc</td><td>0.48276</td></tr><tr><td>train_f1</td><td>0.61853</td></tr><tr><td>train_loss_epoch</td><td>0.51451</td></tr><tr><td>train_loss_step</td><td>0.54008</td></tr><tr><td>trainer/global_step</td><td>249</td></tr><tr><td>val_acc</td><td>0.70066</td></tr><tr><td>val_auc</td><td>0.46893</td></tr><tr><td>val_f1</td><td>0.71111</td></tr><tr><td>val_loss_epoch</td><td>0.59207</td></tr><tr><td>val_loss_step</td><td>0.55992</td></tr></table><br/></div></div>"
      ],
      "text/plain": [
       "<IPython.core.display.HTML object>"
      ]
     },
     "metadata": {},
     "output_type": "display_data"
    },
    {
     "data": {
      "text/html": [
       " View run <strong style=\"color:#cdcd00\">GAT_3_32_onehot_4</strong> at: <a href='https://wandb.ai/thoomas/PLA_01102024_5PPI_Kfold/runs/br7kh66y' target=\"_blank\">https://wandb.ai/thoomas/PLA_01102024_5PPI_Kfold/runs/br7kh66y</a><br/>Synced 6 W&B file(s), 0 media file(s), 0 artifact file(s) and 0 other file(s)"
      ],
      "text/plain": [
       "<IPython.core.display.HTML object>"
      ]
     },
     "metadata": {},
     "output_type": "display_data"
    },
    {
     "data": {
      "text/html": [
       "Find logs at: <code>.\\wandb\\run-20240113_012558-br7kh66y\\logs</code>"
      ],
      "text/plain": [
       "<IPython.core.display.HTML object>"
      ]
     },
     "metadata": {},
     "output_type": "display_data"
    },
    {
     "data": {
      "application/vnd.jupyter.widget-view+json": {
       "model_id": "070e44ee5d0444f3b3485ae2427f2698",
       "version_major": 2,
       "version_minor": 0
      },
      "text/plain": [
       "VBox(children=(Label(value='Waiting for wandb.init()...\\r'), FloatProgress(value=0.016666666666666666, max=1.0…"
      ]
     },
     "metadata": {},
     "output_type": "display_data"
    },
    {
     "data": {
      "text/html": [
       "wandb version 0.16.2 is available!  To upgrade, please run:\n",
       " $ pip install wandb --upgrade"
      ],
      "text/plain": [
       "<IPython.core.display.HTML object>"
      ]
     },
     "metadata": {},
     "output_type": "display_data"
    },
    {
     "data": {
      "text/html": [
       "Tracking run with wandb version 0.14.0"
      ],
      "text/plain": [
       "<IPython.core.display.HTML object>"
      ]
     },
     "metadata": {},
     "output_type": "display_data"
    },
    {
     "data": {
      "text/html": [
       "Run data is saved locally in <code>y:\\coskun-lab\\Thomas\\23_PLA_revision\\notebooks\\wandb\\run-20240113_014406-2f7em0qu</code>"
      ],
      "text/plain": [
       "<IPython.core.display.HTML object>"
      ]
     },
     "metadata": {},
     "output_type": "display_data"
    },
    {
     "data": {
      "text/html": [
       "Syncing run <strong><a href='https://wandb.ai/thoomas/PLA_01102024_5PPI_Kfold/runs/2f7em0qu' target=\"_blank\">GAT_3_32_onehot_4</a></strong> to <a href='https://wandb.ai/thoomas/PLA_01102024_5PPI_Kfold' target=\"_blank\">Weights & Biases</a> (<a href='https://wandb.me/run' target=\"_blank\">docs</a>)<br/>"
      ],
      "text/plain": [
       "<IPython.core.display.HTML object>"
      ]
     },
     "metadata": {},
     "output_type": "display_data"
    },
    {
     "data": {
      "text/html": [
       " View project at <a href='https://wandb.ai/thoomas/PLA_01102024_5PPI_Kfold' target=\"_blank\">https://wandb.ai/thoomas/PLA_01102024_5PPI_Kfold</a>"
      ],
      "text/plain": [
       "<IPython.core.display.HTML object>"
      ]
     },
     "metadata": {},
     "output_type": "display_data"
    },
    {
     "data": {
      "text/html": [
       " View run at <a href='https://wandb.ai/thoomas/PLA_01102024_5PPI_Kfold/runs/2f7em0qu' target=\"_blank\">https://wandb.ai/thoomas/PLA_01102024_5PPI_Kfold/runs/2f7em0qu</a>"
      ],
      "text/plain": [
       "<IPython.core.display.HTML object>"
      ]
     },
     "metadata": {},
     "output_type": "display_data"
    },
    {
     "name": "stderr",
     "output_type": "stream",
     "text": [
      "Global seed set to 42\n",
      "GPU available: True (cuda), used: True\n",
      "TPU available: False, using: 0 TPU cores\n",
      "IPU available: False, using: 0 IPUs\n",
      "HPU available: False, using: 0 HPUs\n",
      "Global seed set to 42\n",
      "LOCAL_RANK: 0 - CUDA_VISIBLE_DEVICES: [0,1]\n",
      "\n",
      "   | Name        | Type             | Params\n",
      "--------------------------------------------------\n",
      "0  | x_embedding | Identity         | 0     \n",
      "1  | model       | GAT              | 20.6 K\n",
      "2  | head        | Sequential       | 562   \n",
      "3  | loss_module | CrossEntropyLoss | 0     \n",
      "4  | train_acc   | BinaryAccuracy   | 0     \n",
      "5  | train_auroc | BinaryAUROC      | 0     \n",
      "6  | train_f1    | BinaryF1Score    | 0     \n",
      "7  | valid_acc   | BinaryAccuracy   | 0     \n",
      "8  | valid_auroc | BinaryAUROC      | 0     \n",
      "9  | valid_f1    | BinaryF1Score    | 0     \n",
      "10 | pool        | GlobalAttention  | 33    \n",
      "--------------------------------------------------\n",
      "21.2 K    Trainable params\n",
      "0         Non-trainable params\n",
      "21.2 K    Total params\n",
      "0.085     Total estimated model params size (MB)\n"
     ]
    },
    {
     "name": "stdout",
     "output_type": "stream",
     "text": [
      "Using GAT\n"
     ]
    },
    {
     "name": "stderr",
     "output_type": "stream",
     "text": [
      "`Trainer.fit` stopped: `max_epochs=50` reached.\n"
     ]
    },
    {
     "data": {
      "text/html": [
       "Waiting for W&B process to finish... <strong style=\"color:green\">(success).</strong>"
      ],
      "text/plain": [
       "<IPython.core.display.HTML object>"
      ]
     },
     "metadata": {},
     "output_type": "display_data"
    },
    {
     "data": {
      "text/html": [
       "<style>\n",
       "    table.wandb td:nth-child(1) { padding: 0 10px; text-align: left ; width: auto;} td:nth-child(2) {text-align: left ; width: 100%}\n",
       "    .wandb-row { display: flex; flex-direction: row; flex-wrap: wrap; justify-content: flex-start; width: 100% }\n",
       "    .wandb-col { display: flex; flex-direction: column; flex-basis: 100%; flex: 1; padding: 10px; }\n",
       "    </style>\n",
       "<div class=\"wandb-row\"><div class=\"wandb-col\"><h3>Run history:</h3><br/><table class=\"wandb\"><tr><td>epoch</td><td>▁▁▁▁▂▂▂▂▂▃▃▃▃▃▃▄▄▄▄▄▅▅▅▅▅▅▆▆▆▆▆▇▇▇▇▇▇███</td></tr><tr><td>lr-Adam</td><td>▁▁▁▁▁▁▁▁▁▁▁▁▁▁▁▁▁▁▁▁▁▁▁▁▁▁▁▁▁▁▁▁▁▁▁▁▁▁▁▁</td></tr><tr><td>train_acc</td><td>▁▄▄▅▆▆▆▇▇▇▇▇▇▇▇█▇▇▇▇▇▇█▇▇█▇██▇█▇█▇▇█▇██▇</td></tr><tr><td>train_auc</td><td>▁▂▄▅▆▇▇▇▇▇▇▇▇▇▇█████▇███████████████████</td></tr><tr><td>train_f1</td><td>▆▁▄▄▆▇▇██▇█▇█▇▇█▇▇█▇█▇████▇████▇██▇█▇██▇</td></tr><tr><td>train_loss_epoch</td><td>█▇▆▅▄▂▃▃▃▂▂▂▂▂▂▂▂▁▂▂▂▂▁▁▁▂▂▁▁▂▂▂▁▂▁▂▂▂▂▁</td></tr><tr><td>train_loss_step</td><td>██▅▅▄▂▆▃▄▂▃▅▄▃▅▃▃▄▃▃▂▅▆▇▁</td></tr><tr><td>trainer/global_step</td><td>▁▁▁▁▂▁▂▁▂▂▃▃▃▃▄▄▂▄▂▄▂▅▃▅▃▆▆▆▃▃▇▇▇▃▇▄█▄█▄</td></tr><tr><td>val_acc</td><td>▄▄▅█▁▃▃▅▅▇▅▆▅▆▅▅▅▄▄▅▆▆▅▆▅▆▇▆▆▅▆▅▆▆▅▅▅▆▅▅</td></tr><tr><td>val_auc</td><td>▁▅▇▇▁▆▆▇▇▇▇████▇▇▇▇▇███████▇▇█▇▇▇▇▇██▇▇█</td></tr><tr><td>val_f1</td><td>▁▁█▇▇▇██████████████████████████████████</td></tr><tr><td>val_loss_epoch</td><td>▆▆▆▆▇▇▆▄▃▃▅▂▅▂▆▅▃█▆▆▃▄▃▂▇▃▂▄▁▄▅▃▄▁▅▅▄▃▅▃</td></tr><tr><td>val_loss_step</td><td>▆▆▆▆▇▇▆▄▅▃▆▃▅▃▇▅▅█▅▆▄▅▄▅▅▅▃▄▁▅▄▅▅▁▅▅▄▄▅▂</td></tr></table><br/></div><div class=\"wandb-col\"><h3>Run summary:</h3><br/><table class=\"wandb\"><tr><td>epoch</td><td>49</td></tr><tr><td>lr-Adam</td><td>0.005</td></tr><tr><td>train_acc</td><td>0.7225</td></tr><tr><td>train_auc</td><td>0.78683</td></tr><tr><td>train_f1</td><td>0.55526</td></tr><tr><td>train_loss_epoch</td><td>0.52323</td></tr><tr><td>train_loss_step</td><td>0.47609</td></tr><tr><td>trainer/global_step</td><td>249</td></tr><tr><td>val_acc</td><td>0.60526</td></tr><tr><td>val_auc</td><td>0.77688</td></tr><tr><td>val_f1</td><td>0.66102</td></tr><tr><td>val_loss_epoch</td><td>0.61919</td></tr><tr><td>val_loss_step</td><td>0.55948</td></tr></table><br/></div></div>"
      ],
      "text/plain": [
       "<IPython.core.display.HTML object>"
      ]
     },
     "metadata": {},
     "output_type": "display_data"
    },
    {
     "data": {
      "text/html": [
       " View run <strong style=\"color:#cdcd00\">GAT_3_32_onehot_4</strong> at: <a href='https://wandb.ai/thoomas/PLA_01102024_5PPI_Kfold/runs/2f7em0qu' target=\"_blank\">https://wandb.ai/thoomas/PLA_01102024_5PPI_Kfold/runs/2f7em0qu</a><br/>Synced 6 W&B file(s), 0 media file(s), 0 artifact file(s) and 0 other file(s)"
      ],
      "text/plain": [
       "<IPython.core.display.HTML object>"
      ]
     },
     "metadata": {},
     "output_type": "display_data"
    },
    {
     "data": {
      "text/html": [
       "Find logs at: <code>.\\wandb\\run-20240113_014406-2f7em0qu\\logs</code>"
      ],
      "text/plain": [
       "<IPython.core.display.HTML object>"
      ]
     },
     "metadata": {},
     "output_type": "display_data"
    },
    {
     "data": {
      "application/vnd.jupyter.widget-view+json": {
       "model_id": "8fceebec13c748438e7b319f11afc5d6",
       "version_major": 2,
       "version_minor": 0
      },
      "text/plain": [
       "VBox(children=(Label(value='Waiting for wandb.init()...\\r'), FloatProgress(value=0.01691666666495924, max=1.0)…"
      ]
     },
     "metadata": {},
     "output_type": "display_data"
    },
    {
     "data": {
      "text/html": [
       "wandb version 0.16.2 is available!  To upgrade, please run:\n",
       " $ pip install wandb --upgrade"
      ],
      "text/plain": [
       "<IPython.core.display.HTML object>"
      ]
     },
     "metadata": {},
     "output_type": "display_data"
    },
    {
     "data": {
      "text/html": [
       "Tracking run with wandb version 0.14.0"
      ],
      "text/plain": [
       "<IPython.core.display.HTML object>"
      ]
     },
     "metadata": {},
     "output_type": "display_data"
    },
    {
     "data": {
      "text/html": [
       "Run data is saved locally in <code>y:\\coskun-lab\\Thomas\\23_PLA_revision\\notebooks\\wandb\\run-20240113_020116-tcxrnrq1</code>"
      ],
      "text/plain": [
       "<IPython.core.display.HTML object>"
      ]
     },
     "metadata": {},
     "output_type": "display_data"
    },
    {
     "data": {
      "text/html": [
       "Syncing run <strong><a href='https://wandb.ai/thoomas/PLA_01102024_5PPI_Kfold/runs/tcxrnrq1' target=\"_blank\">GAT_3_32_onehot_4</a></strong> to <a href='https://wandb.ai/thoomas/PLA_01102024_5PPI_Kfold' target=\"_blank\">Weights & Biases</a> (<a href='https://wandb.me/run' target=\"_blank\">docs</a>)<br/>"
      ],
      "text/plain": [
       "<IPython.core.display.HTML object>"
      ]
     },
     "metadata": {},
     "output_type": "display_data"
    },
    {
     "data": {
      "text/html": [
       " View project at <a href='https://wandb.ai/thoomas/PLA_01102024_5PPI_Kfold' target=\"_blank\">https://wandb.ai/thoomas/PLA_01102024_5PPI_Kfold</a>"
      ],
      "text/plain": [
       "<IPython.core.display.HTML object>"
      ]
     },
     "metadata": {},
     "output_type": "display_data"
    },
    {
     "data": {
      "text/html": [
       " View run at <a href='https://wandb.ai/thoomas/PLA_01102024_5PPI_Kfold/runs/tcxrnrq1' target=\"_blank\">https://wandb.ai/thoomas/PLA_01102024_5PPI_Kfold/runs/tcxrnrq1</a>"
      ],
      "text/plain": [
       "<IPython.core.display.HTML object>"
      ]
     },
     "metadata": {},
     "output_type": "display_data"
    },
    {
     "name": "stderr",
     "output_type": "stream",
     "text": [
      "Global seed set to 42\n",
      "GPU available: True (cuda), used: True\n",
      "TPU available: False, using: 0 TPU cores\n",
      "IPU available: False, using: 0 IPUs\n",
      "HPU available: False, using: 0 HPUs\n",
      "Global seed set to 42\n",
      "LOCAL_RANK: 0 - CUDA_VISIBLE_DEVICES: [0,1]\n",
      "\n",
      "   | Name        | Type             | Params\n",
      "--------------------------------------------------\n",
      "0  | x_embedding | Identity         | 0     \n",
      "1  | model       | GAT              | 20.6 K\n",
      "2  | head        | Sequential       | 562   \n",
      "3  | loss_module | CrossEntropyLoss | 0     \n",
      "4  | train_acc   | BinaryAccuracy   | 0     \n",
      "5  | train_auroc | BinaryAUROC      | 0     \n",
      "6  | train_f1    | BinaryF1Score    | 0     \n",
      "7  | valid_acc   | BinaryAccuracy   | 0     \n",
      "8  | valid_auroc | BinaryAUROC      | 0     \n",
      "9  | valid_f1    | BinaryF1Score    | 0     \n",
      "10 | pool        | Attention_module | 1.1 K \n",
      "--------------------------------------------------\n",
      "22.2 K    Trainable params\n",
      "0         Non-trainable params\n",
      "22.2 K    Total params\n",
      "0.089     Total estimated model params size (MB)\n"
     ]
    },
    {
     "name": "stdout",
     "output_type": "stream",
     "text": [
      "Using GAT\n"
     ]
    },
    {
     "name": "stderr",
     "output_type": "stream",
     "text": [
      "`Trainer.fit` stopped: `max_epochs=50` reached.\n"
     ]
    },
    {
     "data": {
      "text/html": [
       "Waiting for W&B process to finish... <strong style=\"color:green\">(success).</strong>"
      ],
      "text/plain": [
       "<IPython.core.display.HTML object>"
      ]
     },
     "metadata": {},
     "output_type": "display_data"
    },
    {
     "data": {
      "application/vnd.jupyter.widget-view+json": {
       "model_id": "e3473c188a4d4189bca88bef9ea706b5",
       "version_major": 2,
       "version_minor": 0
      },
      "text/plain": [
       "VBox(children=(Label(value='0.001 MB of 0.001 MB uploaded (0.000 MB deduped)\\r'), FloatProgress(value=1.0, max…"
      ]
     },
     "metadata": {},
     "output_type": "display_data"
    },
    {
     "data": {
      "text/html": [
       "<style>\n",
       "    table.wandb td:nth-child(1) { padding: 0 10px; text-align: left ; width: auto;} td:nth-child(2) {text-align: left ; width: 100%}\n",
       "    .wandb-row { display: flex; flex-direction: row; flex-wrap: wrap; justify-content: flex-start; width: 100% }\n",
       "    .wandb-col { display: flex; flex-direction: column; flex-basis: 100%; flex: 1; padding: 10px; }\n",
       "    </style>\n",
       "<div class=\"wandb-row\"><div class=\"wandb-col\"><h3>Run history:</h3><br/><table class=\"wandb\"><tr><td>epoch</td><td>▁▁▁▁▂▂▂▂▂▃▃▃▃▃▃▄▄▄▄▄▅▅▅▅▅▅▆▆▆▆▆▇▇▇▇▇▇███</td></tr><tr><td>lr-Adam</td><td>▁▁▁▁▁▁▁▁▁▁▁▁▁▁▁▁▁▁▁▁▁▁▁▁▁▁▁▁▁▁▁▁▁▁▁▁▁▁▁▁</td></tr><tr><td>train_acc</td><td>▁▅▅▆▇▇▇▇▇█▇▇▇▇▇▇▇▇▇▇██▇▇█▇▇▇▇▇▇██▇█▇████</td></tr><tr><td>train_auc</td><td>▁▂▄▅▆▆▆▇▇▇▇▇▇▇███▇█▇██▇▇██▇███▇█████▇███</td></tr><tr><td>train_f1</td><td>▅▁▃▄▇▇▇█▇▇█▇▇▇█▇███▇▇▇█▇█▇▇█▇█▇██▇▇▇████</td></tr><tr><td>train_loss_epoch</td><td>█▇▅▄▄▃▃▂▂▂▁▂▂▂▂▁▁▂▁▂▁▁▂▂▂▂▂▂▁▂▂▁▂▂▂▂▂▁▁▂</td></tr><tr><td>train_loss_step</td><td>██▅▄▄▃▇▄▄▃▄▅▃▃▆▄▃▄▅▅▆▄▇▁▅</td></tr><tr><td>trainer/global_step</td><td>▁▁▁▁▂▁▂▁▂▂▃▃▃▃▄▄▂▄▂▄▂▅▃▅▃▆▆▆▃▃▇▇▇▃▇▄█▄█▄</td></tr><tr><td>val_acc</td><td>▄▄██▁▃▃▅▇▇▇▆█▇▆▆▄▄▆▅▆▅▆▇▆█▆▇▆▆▇▆▆▆▆▆▆▆▇▅</td></tr><tr><td>val_auc</td><td>▂▇▇▂▁▅▆▇█████████▇██████▇███▇▇█▇███▇██▇█</td></tr><tr><td>val_f1</td><td>▁▁██▇▇▇█████████▇▇███▇██████████████████</td></tr><tr><td>val_loss_epoch</td><td>▆▆▆▆▇▆▇▅▃▄▃▃▁▃▂▄▇▇▇▄▃█▃▁▂▁▃▅▃▆▂▅▄▅▄▅▅▄▄▆</td></tr><tr><td>val_loss_step</td><td>▄▄▅▄▅▅▅▄▂▂▃▂▂▃▁▄▆▅▇▃▃█▃▃▄▁▂▂▃▆▂▃▄▄▂▃▅▃▂▅</td></tr></table><br/></div><div class=\"wandb-col\"><h3>Run summary:</h3><br/><table class=\"wandb\"><tr><td>epoch</td><td>49</td></tr><tr><td>lr-Adam</td><td>0.005</td></tr><tr><td>train_acc</td><td>0.73563</td></tr><tr><td>train_auc</td><td>0.7852</td></tr><tr><td>train_f1</td><td>0.62207</td></tr><tr><td>train_loss_epoch</td><td>0.53803</td></tr><tr><td>train_loss_step</td><td>0.56284</td></tr><tr><td>trainer/global_step</td><td>249</td></tr><tr><td>val_acc</td><td>0.61513</td></tr><tr><td>val_auc</td><td>0.7771</td></tr><tr><td>val_f1</td><td>0.66476</td></tr><tr><td>val_loss_epoch</td><td>0.67424</td></tr><tr><td>val_loss_step</td><td>0.70242</td></tr></table><br/></div></div>"
      ],
      "text/plain": [
       "<IPython.core.display.HTML object>"
      ]
     },
     "metadata": {},
     "output_type": "display_data"
    },
    {
     "data": {
      "text/html": [
       " View run <strong style=\"color:#cdcd00\">GAT_3_32_onehot_4</strong> at: <a href='https://wandb.ai/thoomas/PLA_01102024_5PPI_Kfold/runs/tcxrnrq1' target=\"_blank\">https://wandb.ai/thoomas/PLA_01102024_5PPI_Kfold/runs/tcxrnrq1</a><br/>Synced 6 W&B file(s), 0 media file(s), 0 artifact file(s) and 0 other file(s)"
      ],
      "text/plain": [
       "<IPython.core.display.HTML object>"
      ]
     },
     "metadata": {},
     "output_type": "display_data"
    },
    {
     "data": {
      "text/html": [
       "Find logs at: <code>.\\wandb\\run-20240113_020116-tcxrnrq1\\logs</code>"
      ],
      "text/plain": [
       "<IPython.core.display.HTML object>"
      ]
     },
     "metadata": {},
     "output_type": "display_data"
    },
    {
     "data": {
      "application/vnd.jupyter.widget-view+json": {
       "model_id": "ff7c872f13174e0fbe7940816f749d62",
       "version_major": 2,
       "version_minor": 0
      },
      "text/plain": [
       "VBox(children=(Label(value='Waiting for wandb.init()...\\r'), FloatProgress(value=0.017183333332650364, max=1.0…"
      ]
     },
     "metadata": {},
     "output_type": "display_data"
    },
    {
     "data": {
      "text/html": [
       "wandb version 0.16.2 is available!  To upgrade, please run:\n",
       " $ pip install wandb --upgrade"
      ],
      "text/plain": [
       "<IPython.core.display.HTML object>"
      ]
     },
     "metadata": {},
     "output_type": "display_data"
    },
    {
     "data": {
      "text/html": [
       "Tracking run with wandb version 0.14.0"
      ],
      "text/plain": [
       "<IPython.core.display.HTML object>"
      ]
     },
     "metadata": {},
     "output_type": "display_data"
    },
    {
     "data": {
      "text/html": [
       "Run data is saved locally in <code>y:\\coskun-lab\\Thomas\\23_PLA_revision\\notebooks\\wandb\\run-20240113_021706-46otshz1</code>"
      ],
      "text/plain": [
       "<IPython.core.display.HTML object>"
      ]
     },
     "metadata": {},
     "output_type": "display_data"
    },
    {
     "data": {
      "text/html": [
       "Syncing run <strong><a href='https://wandb.ai/thoomas/PLA_01102024_5PPI_Kfold/runs/46otshz1' target=\"_blank\">GAT_3_64_onehot_4</a></strong> to <a href='https://wandb.ai/thoomas/PLA_01102024_5PPI_Kfold' target=\"_blank\">Weights & Biases</a> (<a href='https://wandb.me/run' target=\"_blank\">docs</a>)<br/>"
      ],
      "text/plain": [
       "<IPython.core.display.HTML object>"
      ]
     },
     "metadata": {},
     "output_type": "display_data"
    },
    {
     "data": {
      "text/html": [
       " View project at <a href='https://wandb.ai/thoomas/PLA_01102024_5PPI_Kfold' target=\"_blank\">https://wandb.ai/thoomas/PLA_01102024_5PPI_Kfold</a>"
      ],
      "text/plain": [
       "<IPython.core.display.HTML object>"
      ]
     },
     "metadata": {},
     "output_type": "display_data"
    },
    {
     "data": {
      "text/html": [
       " View run at <a href='https://wandb.ai/thoomas/PLA_01102024_5PPI_Kfold/runs/46otshz1' target=\"_blank\">https://wandb.ai/thoomas/PLA_01102024_5PPI_Kfold/runs/46otshz1</a>"
      ],
      "text/plain": [
       "<IPython.core.display.HTML object>"
      ]
     },
     "metadata": {},
     "output_type": "display_data"
    },
    {
     "name": "stderr",
     "output_type": "stream",
     "text": [
      "Global seed set to 42\n",
      "GPU available: True (cuda), used: True\n",
      "TPU available: False, using: 0 TPU cores\n",
      "IPU available: False, using: 0 IPUs\n",
      "HPU available: False, using: 0 HPUs\n",
      "Global seed set to 42\n",
      "LOCAL_RANK: 0 - CUDA_VISIBLE_DEVICES: [0,1]\n",
      "\n",
      "  | Name        | Type             | Params\n",
      "-------------------------------------------------\n",
      "0 | x_embedding | Identity         | 0     \n",
      "1 | model       | GAT              | 78.0 K\n",
      "2 | head        | Sequential       | 2.1 K \n",
      "3 | loss_module | CrossEntropyLoss | 0     \n",
      "4 | train_acc   | BinaryAccuracy   | 0     \n",
      "5 | train_auroc | BinaryAUROC      | 0     \n",
      "6 | train_f1    | BinaryF1Score    | 0     \n",
      "7 | valid_acc   | BinaryAccuracy   | 0     \n",
      "8 | valid_auroc | BinaryAUROC      | 0     \n",
      "9 | valid_f1    | BinaryF1Score    | 0     \n",
      "-------------------------------------------------\n",
      "80.2 K    Trainable params\n",
      "0         Non-trainable params\n",
      "80.2 K    Total params\n",
      "0.321     Total estimated model params size (MB)\n"
     ]
    },
    {
     "name": "stdout",
     "output_type": "stream",
     "text": [
      "Using GAT\n"
     ]
    },
    {
     "name": "stderr",
     "output_type": "stream",
     "text": [
      "`Trainer.fit` stopped: `max_epochs=50` reached.\n"
     ]
    },
    {
     "data": {
      "text/html": [
       "Waiting for W&B process to finish... <strong style=\"color:green\">(success).</strong>"
      ],
      "text/plain": [
       "<IPython.core.display.HTML object>"
      ]
     },
     "metadata": {},
     "output_type": "display_data"
    },
    {
     "data": {
      "application/vnd.jupyter.widget-view+json": {
       "model_id": "5ca38c9f5e6d4c75a35917a456745d96",
       "version_major": 2,
       "version_minor": 0
      },
      "text/plain": [
       "VBox(children=(Label(value='0.001 MB of 0.001 MB uploaded (0.000 MB deduped)\\r'), FloatProgress(value=1.0, max…"
      ]
     },
     "metadata": {},
     "output_type": "display_data"
    },
    {
     "data": {
      "text/html": [
       "<style>\n",
       "    table.wandb td:nth-child(1) { padding: 0 10px; text-align: left ; width: auto;} td:nth-child(2) {text-align: left ; width: 100%}\n",
       "    .wandb-row { display: flex; flex-direction: row; flex-wrap: wrap; justify-content: flex-start; width: 100% }\n",
       "    .wandb-col { display: flex; flex-direction: column; flex-basis: 100%; flex: 1; padding: 10px; }\n",
       "    </style>\n",
       "<div class=\"wandb-row\"><div class=\"wandb-col\"><h3>Run history:</h3><br/><table class=\"wandb\"><tr><td>epoch</td><td>▁▁▁▁▂▂▂▂▂▃▃▃▃▃▃▄▄▄▄▄▅▅▅▅▅▅▆▆▆▆▆▇▇▇▇▇▇███</td></tr><tr><td>lr-Adam</td><td>▁▁▁▁▁▁▁▁▁▁▁▁▁▁▁▁▁▁▁▁▁▁▁▁▁▁▁▁▁▁▁▁▁▁▁▁▁▁▁▁</td></tr><tr><td>train_acc</td><td>▁▂▃▄▆▆▆▆▆▆▇▇▇▇▇▇▆▇▇▇▇▇█▇▇▇▇▇▇█▇▇▇▇▇▇▇▇▇▆</td></tr><tr><td>train_auc</td><td>▁▃▆▇▇▇▇▇█▇██████████████▇███████████████</td></tr><tr><td>train_f1</td><td>▁▂▂▇█▇▇▇▇▇█▇▇█▇█▇▇█▇▇███▇█▆█▇██▇▇██▇▇▇█▇</td></tr><tr><td>train_loss_epoch</td><td>█▆▄▄▃▂▂▂▂▂▁▁▂▂▂▂▂▂▂▂▁▁▂▁▂▂▂▂▁▁▁▂▁▁▁▂▂▁▁▂</td></tr><tr><td>train_loss_step</td><td>█▆▅▃▃▇▇▃▁▅▃▃▂▆▂▃▅▂▁▄▁▂▄▄▅</td></tr><tr><td>trainer/global_step</td><td>▁▁▁▁▂▁▂▁▂▂▃▃▃▃▄▄▂▄▂▄▂▅▃▅▃▆▆▆▃▃▇▇▇▃▇▄█▄█▄</td></tr><tr><td>val_acc</td><td>▁▁▆▆▆█▆▇▆▆▆▆▇▇▄▃▅▅▆▅▅▃▅▄▄█▇▄▅▅▆▇▆▄▅▄▃▄▆▅</td></tr><tr><td>val_auc</td><td>▃▁▃▄▅▆▆▅███▆▇▇▇█▆██▆█▇▄▄▅▅▃▄▃▅▅▄▄▃▁▅▄▄▅▃</td></tr><tr><td>val_f1</td><td>▁▁▆█████████████████████████████████▇███</td></tr><tr><td>val_loss_epoch</td><td>█▆▇▆▅▄▂▂▃▄▂▅▁▂▅▆▅█▃▄▅▆▃▅▄▁▃▆▃▄▄▂▃▃▆▇▆█▂▆</td></tr><tr><td>val_loss_step</td><td>▅▅▆▅▄▃▁▂▂▂▂▅▂▂▄▆▄█▂▃▃▃▂▄▅▁▄▂▁▃▃▃▂▁▄▅▄▆▂▆</td></tr></table><br/></div><div class=\"wandb-col\"><h3>Run summary:</h3><br/><table class=\"wandb\"><tr><td>epoch</td><td>49</td></tr><tr><td>lr-Adam</td><td>0.005</td></tr><tr><td>train_acc</td><td>0.71921</td></tr><tr><td>train_auc</td><td>0.7837</td></tr><tr><td>train_f1</td><td>0.53908</td></tr><tr><td>train_loss_epoch</td><td>0.53765</td></tr><tr><td>train_loss_step</td><td>0.54145</td></tr><tr><td>trainer/global_step</td><td>249</td></tr><tr><td>val_acc</td><td>0.66776</td></tr><tr><td>val_auc</td><td>0.77023</td></tr><tr><td>val_f1</td><td>0.69113</td></tr><tr><td>val_loss_epoch</td><td>0.64789</td></tr><tr><td>val_loss_step</td><td>0.68959</td></tr></table><br/></div></div>"
      ],
      "text/plain": [
       "<IPython.core.display.HTML object>"
      ]
     },
     "metadata": {},
     "output_type": "display_data"
    },
    {
     "data": {
      "text/html": [
       " View run <strong style=\"color:#cdcd00\">GAT_3_64_onehot_4</strong> at: <a href='https://wandb.ai/thoomas/PLA_01102024_5PPI_Kfold/runs/46otshz1' target=\"_blank\">https://wandb.ai/thoomas/PLA_01102024_5PPI_Kfold/runs/46otshz1</a><br/>Synced 6 W&B file(s), 0 media file(s), 0 artifact file(s) and 0 other file(s)"
      ],
      "text/plain": [
       "<IPython.core.display.HTML object>"
      ]
     },
     "metadata": {},
     "output_type": "display_data"
    },
    {
     "data": {
      "text/html": [
       "Find logs at: <code>.\\wandb\\run-20240113_021706-46otshz1\\logs</code>"
      ],
      "text/plain": [
       "<IPython.core.display.HTML object>"
      ]
     },
     "metadata": {},
     "output_type": "display_data"
    },
    {
     "data": {
      "application/vnd.jupyter.widget-view+json": {
       "model_id": "3a2e437c88e34707bf16d8402d6f2140",
       "version_major": 2,
       "version_minor": 0
      },
      "text/plain": [
       "VBox(children=(Label(value='Waiting for wandb.init()...\\r'), FloatProgress(value=0.016933333330477276, max=1.0…"
      ]
     },
     "metadata": {},
     "output_type": "display_data"
    },
    {
     "data": {
      "text/html": [
       "wandb version 0.16.2 is available!  To upgrade, please run:\n",
       " $ pip install wandb --upgrade"
      ],
      "text/plain": [
       "<IPython.core.display.HTML object>"
      ]
     },
     "metadata": {},
     "output_type": "display_data"
    },
    {
     "data": {
      "text/html": [
       "Tracking run with wandb version 0.14.0"
      ],
      "text/plain": [
       "<IPython.core.display.HTML object>"
      ]
     },
     "metadata": {},
     "output_type": "display_data"
    },
    {
     "data": {
      "text/html": [
       "Run data is saved locally in <code>y:\\coskun-lab\\Thomas\\23_PLA_revision\\notebooks\\wandb\\run-20240113_023252-bsai3rus</code>"
      ],
      "text/plain": [
       "<IPython.core.display.HTML object>"
      ]
     },
     "metadata": {},
     "output_type": "display_data"
    },
    {
     "data": {
      "text/html": [
       "Syncing run <strong><a href='https://wandb.ai/thoomas/PLA_01102024_5PPI_Kfold/runs/bsai3rus' target=\"_blank\">GAT_3_64_onehot_4</a></strong> to <a href='https://wandb.ai/thoomas/PLA_01102024_5PPI_Kfold' target=\"_blank\">Weights & Biases</a> (<a href='https://wandb.me/run' target=\"_blank\">docs</a>)<br/>"
      ],
      "text/plain": [
       "<IPython.core.display.HTML object>"
      ]
     },
     "metadata": {},
     "output_type": "display_data"
    },
    {
     "data": {
      "text/html": [
       " View project at <a href='https://wandb.ai/thoomas/PLA_01102024_5PPI_Kfold' target=\"_blank\">https://wandb.ai/thoomas/PLA_01102024_5PPI_Kfold</a>"
      ],
      "text/plain": [
       "<IPython.core.display.HTML object>"
      ]
     },
     "metadata": {},
     "output_type": "display_data"
    },
    {
     "data": {
      "text/html": [
       " View run at <a href='https://wandb.ai/thoomas/PLA_01102024_5PPI_Kfold/runs/bsai3rus' target=\"_blank\">https://wandb.ai/thoomas/PLA_01102024_5PPI_Kfold/runs/bsai3rus</a>"
      ],
      "text/plain": [
       "<IPython.core.display.HTML object>"
      ]
     },
     "metadata": {},
     "output_type": "display_data"
    },
    {
     "name": "stderr",
     "output_type": "stream",
     "text": [
      "Global seed set to 42\n",
      "GPU available: True (cuda), used: True\n",
      "TPU available: False, using: 0 TPU cores\n",
      "IPU available: False, using: 0 IPUs\n",
      "HPU available: False, using: 0 HPUs\n",
      "Global seed set to 42\n",
      "LOCAL_RANK: 0 - CUDA_VISIBLE_DEVICES: [0,1]\n",
      "\n",
      "  | Name        | Type             | Params\n",
      "-------------------------------------------------\n",
      "0 | x_embedding | Identity         | 0     \n",
      "1 | model       | GAT              | 78.0 K\n",
      "2 | head        | Sequential       | 2.1 K \n",
      "3 | loss_module | CrossEntropyLoss | 0     \n",
      "4 | train_acc   | BinaryAccuracy   | 0     \n",
      "5 | train_auroc | BinaryAUROC      | 0     \n",
      "6 | train_f1    | BinaryF1Score    | 0     \n",
      "7 | valid_acc   | BinaryAccuracy   | 0     \n",
      "8 | valid_auroc | BinaryAUROC      | 0     \n",
      "9 | valid_f1    | BinaryF1Score    | 0     \n",
      "-------------------------------------------------\n",
      "80.2 K    Trainable params\n",
      "0         Non-trainable params\n",
      "80.2 K    Total params\n",
      "0.321     Total estimated model params size (MB)\n"
     ]
    },
    {
     "name": "stdout",
     "output_type": "stream",
     "text": [
      "Using GAT\n"
     ]
    },
    {
     "name": "stderr",
     "output_type": "stream",
     "text": [
      "`Trainer.fit` stopped: `max_epochs=50` reached.\n"
     ]
    },
    {
     "data": {
      "text/html": [
       "Waiting for W&B process to finish... <strong style=\"color:green\">(success).</strong>"
      ],
      "text/plain": [
       "<IPython.core.display.HTML object>"
      ]
     },
     "metadata": {},
     "output_type": "display_data"
    },
    {
     "data": {
      "application/vnd.jupyter.widget-view+json": {
       "model_id": "fe770ba1879b476e9fe3680d3e448ded",
       "version_major": 2,
       "version_minor": 0
      },
      "text/plain": [
       "VBox(children=(Label(value='0.001 MB of 0.001 MB uploaded (0.000 MB deduped)\\r'), FloatProgress(value=1.0, max…"
      ]
     },
     "metadata": {},
     "output_type": "display_data"
    },
    {
     "data": {
      "text/html": [
       "<style>\n",
       "    table.wandb td:nth-child(1) { padding: 0 10px; text-align: left ; width: auto;} td:nth-child(2) {text-align: left ; width: 100%}\n",
       "    .wandb-row { display: flex; flex-direction: row; flex-wrap: wrap; justify-content: flex-start; width: 100% }\n",
       "    .wandb-col { display: flex; flex-direction: column; flex-basis: 100%; flex: 1; padding: 10px; }\n",
       "    </style>\n",
       "<div class=\"wandb-row\"><div class=\"wandb-col\"><h3>Run history:</h3><br/><table class=\"wandb\"><tr><td>epoch</td><td>▁▁▁▁▂▂▂▂▂▃▃▃▃▃▃▄▄▄▄▄▅▅▅▅▅▅▆▆▆▆▆▇▇▇▇▇▇███</td></tr><tr><td>lr-Adam</td><td>▁▁▁▁▁▁▁▁▁▁▁▁▁▁▁▁▁▁▁▁▁▁▁▁▁▁▁▁▁▁▁▁▁▁▁▁▁▁▁▁</td></tr><tr><td>train_acc</td><td>▁▃▃▃▅▅▆▅▆▆▇▇▇▆▇▇▆▇▆▇▇▇▇▇██▇▇▇▇▇▇▇▇▇▇█▇▇▇</td></tr><tr><td>train_auc</td><td>▁▂▃▄▆▆▇▆▇▇██▇▇██▇▇▇████████▇▇███████████</td></tr><tr><td>train_f1</td><td>▂▂▁▁▅▆▇▆▆▇▇▇▇▇▇█▇█▆▇▇█▇███▇█▇▇█▇▇█▇██▇█▇</td></tr><tr><td>train_loss_epoch</td><td>█▇▆▆▄▃▃▃▃▃▂▂▂▂▂▂▃▂▂▂▁▂▁▂▁▁▁▃▂▁▁▂▁▂▂▁▁▁▁▁</td></tr><tr><td>train_loss_step</td><td>█▆▄▄▄▆▆▄▃▄▄▃▃▄▃▃▆▄▁▄▃▃▃▃▃</td></tr><tr><td>trainer/global_step</td><td>▁▁▁▁▂▁▂▁▂▂▃▃▃▃▄▄▂▄▂▄▂▅▃▅▃▆▆▆▃▃▇▇▇▃▇▄█▄█▄</td></tr><tr><td>val_acc</td><td>▁▁▁▁▅▅▆▆▄▆▆▇▇▆▇▅▆▇▆▇▇▇█▆▇▅█▅▅█▇▇▆▆▇▇▆▆▅▇</td></tr><tr><td>val_auc</td><td>▁▂▃▃▄▄▄▅▄▅▆▆▇▇▇▇▇▇▇▇██▇▇▇▇▇█████▇███████</td></tr><tr><td>val_f1</td><td>▁▁▁▁▆▇▇▇▇███▇▆█▆▇█▇██▇█▇▇▆█▆▆█▇▇▆▆▇▇▇▇▆▇</td></tr><tr><td>val_loss_epoch</td><td>███▇▅▆▄▄▅▅▃▃▂▃▃▂▂▄▂▃▃▂▃▂▂▃▂▃▁▁▂▂▃▃▃▂▁▃▁▃</td></tr><tr><td>val_loss_step</td><td>███▇▆▅▄▅▄▃▃▅▄▄▅▄▃▆▂▃▃▃▄▃▃▄▃▃▁▂▃▄▅▄▃▃▁▄▃▄</td></tr></table><br/></div><div class=\"wandb-col\"><h3>Run summary:</h3><br/><table class=\"wandb\"><tr><td>epoch</td><td>49</td></tr><tr><td>lr-Adam</td><td>0.005</td></tr><tr><td>train_acc</td><td>0.72085</td></tr><tr><td>train_auc</td><td>0.77227</td></tr><tr><td>train_f1</td><td>0.52113</td></tr><tr><td>train_loss_epoch</td><td>0.53654</td></tr><tr><td>train_loss_step</td><td>0.51683</td></tr><tr><td>trainer/global_step</td><td>249</td></tr><tr><td>val_acc</td><td>0.70395</td></tr><tr><td>val_auc</td><td>0.78379</td></tr><tr><td>val_f1</td><td>0.59459</td></tr><tr><td>val_loss_epoch</td><td>0.58678</td></tr><tr><td>val_loss_step</td><td>0.603</td></tr></table><br/></div></div>"
      ],
      "text/plain": [
       "<IPython.core.display.HTML object>"
      ]
     },
     "metadata": {},
     "output_type": "display_data"
    },
    {
     "data": {
      "text/html": [
       " View run <strong style=\"color:#cdcd00\">GAT_3_64_onehot_4</strong> at: <a href='https://wandb.ai/thoomas/PLA_01102024_5PPI_Kfold/runs/bsai3rus' target=\"_blank\">https://wandb.ai/thoomas/PLA_01102024_5PPI_Kfold/runs/bsai3rus</a><br/>Synced 6 W&B file(s), 0 media file(s), 0 artifact file(s) and 0 other file(s)"
      ],
      "text/plain": [
       "<IPython.core.display.HTML object>"
      ]
     },
     "metadata": {},
     "output_type": "display_data"
    },
    {
     "data": {
      "text/html": [
       "Find logs at: <code>.\\wandb\\run-20240113_023252-bsai3rus\\logs</code>"
      ],
      "text/plain": [
       "<IPython.core.display.HTML object>"
      ]
     },
     "metadata": {},
     "output_type": "display_data"
    },
    {
     "data": {
      "application/vnd.jupyter.widget-view+json": {
       "model_id": "3a101afb8d874fe7a93e14e37f6008d2",
       "version_major": 2,
       "version_minor": 0
      },
      "text/plain": [
       "VBox(children=(Label(value='Waiting for wandb.init()...\\r'), FloatProgress(value=0.01691666666883975, max=1.0)…"
      ]
     },
     "metadata": {},
     "output_type": "display_data"
    },
    {
     "data": {
      "text/html": [
       "wandb version 0.16.2 is available!  To upgrade, please run:\n",
       " $ pip install wandb --upgrade"
      ],
      "text/plain": [
       "<IPython.core.display.HTML object>"
      ]
     },
     "metadata": {},
     "output_type": "display_data"
    },
    {
     "data": {
      "text/html": [
       "Tracking run with wandb version 0.14.0"
      ],
      "text/plain": [
       "<IPython.core.display.HTML object>"
      ]
     },
     "metadata": {},
     "output_type": "display_data"
    },
    {
     "data": {
      "text/html": [
       "Run data is saved locally in <code>y:\\coskun-lab\\Thomas\\23_PLA_revision\\notebooks\\wandb\\run-20240113_024913-dgwvhlbu</code>"
      ],
      "text/plain": [
       "<IPython.core.display.HTML object>"
      ]
     },
     "metadata": {},
     "output_type": "display_data"
    },
    {
     "data": {
      "text/html": [
       "Syncing run <strong><a href='https://wandb.ai/thoomas/PLA_01102024_5PPI_Kfold/runs/dgwvhlbu' target=\"_blank\">GAT_3_64_onehot_4</a></strong> to <a href='https://wandb.ai/thoomas/PLA_01102024_5PPI_Kfold' target=\"_blank\">Weights & Biases</a> (<a href='https://wandb.me/run' target=\"_blank\">docs</a>)<br/>"
      ],
      "text/plain": [
       "<IPython.core.display.HTML object>"
      ]
     },
     "metadata": {},
     "output_type": "display_data"
    },
    {
     "data": {
      "text/html": [
       " View project at <a href='https://wandb.ai/thoomas/PLA_01102024_5PPI_Kfold' target=\"_blank\">https://wandb.ai/thoomas/PLA_01102024_5PPI_Kfold</a>"
      ],
      "text/plain": [
       "<IPython.core.display.HTML object>"
      ]
     },
     "metadata": {},
     "output_type": "display_data"
    },
    {
     "data": {
      "text/html": [
       " View run at <a href='https://wandb.ai/thoomas/PLA_01102024_5PPI_Kfold/runs/dgwvhlbu' target=\"_blank\">https://wandb.ai/thoomas/PLA_01102024_5PPI_Kfold/runs/dgwvhlbu</a>"
      ],
      "text/plain": [
       "<IPython.core.display.HTML object>"
      ]
     },
     "metadata": {},
     "output_type": "display_data"
    },
    {
     "name": "stderr",
     "output_type": "stream",
     "text": [
      "Global seed set to 42\n",
      "GPU available: True (cuda), used: True\n",
      "TPU available: False, using: 0 TPU cores\n",
      "IPU available: False, using: 0 IPUs\n",
      "HPU available: False, using: 0 HPUs\n",
      "Global seed set to 42\n",
      "LOCAL_RANK: 0 - CUDA_VISIBLE_DEVICES: [0,1]\n",
      "\n",
      "  | Name        | Type             | Params\n",
      "-------------------------------------------------\n",
      "0 | x_embedding | Identity         | 0     \n",
      "1 | model       | GAT              | 78.0 K\n",
      "2 | head        | Sequential       | 2.1 K \n",
      "3 | loss_module | CrossEntropyLoss | 0     \n",
      "4 | train_acc   | BinaryAccuracy   | 0     \n",
      "5 | train_auroc | BinaryAUROC      | 0     \n",
      "6 | train_f1    | BinaryF1Score    | 0     \n",
      "7 | valid_acc   | BinaryAccuracy   | 0     \n",
      "8 | valid_auroc | BinaryAUROC      | 0     \n",
      "9 | valid_f1    | BinaryF1Score    | 0     \n",
      "-------------------------------------------------\n",
      "80.2 K    Trainable params\n",
      "0         Non-trainable params\n",
      "80.2 K    Total params\n",
      "0.321     Total estimated model params size (MB)\n"
     ]
    },
    {
     "name": "stdout",
     "output_type": "stream",
     "text": [
      "Using GAT\n"
     ]
    },
    {
     "name": "stderr",
     "output_type": "stream",
     "text": [
      "`Trainer.fit` stopped: `max_epochs=50` reached.\n"
     ]
    },
    {
     "data": {
      "text/html": [
       "Waiting for W&B process to finish... <strong style=\"color:green\">(success).</strong>"
      ],
      "text/plain": [
       "<IPython.core.display.HTML object>"
      ]
     },
     "metadata": {},
     "output_type": "display_data"
    },
    {
     "data": {
      "application/vnd.jupyter.widget-view+json": {
       "model_id": "a4209b005c82478391fdbbf70b87d068",
       "version_major": 2,
       "version_minor": 0
      },
      "text/plain": [
       "VBox(children=(Label(value='0.001 MB of 0.001 MB uploaded (0.000 MB deduped)\\r'), FloatProgress(value=1.0, max…"
      ]
     },
     "metadata": {},
     "output_type": "display_data"
    },
    {
     "data": {
      "text/html": [
       "<style>\n",
       "    table.wandb td:nth-child(1) { padding: 0 10px; text-align: left ; width: auto;} td:nth-child(2) {text-align: left ; width: 100%}\n",
       "    .wandb-row { display: flex; flex-direction: row; flex-wrap: wrap; justify-content: flex-start; width: 100% }\n",
       "    .wandb-col { display: flex; flex-direction: column; flex-basis: 100%; flex: 1; padding: 10px; }\n",
       "    </style>\n",
       "<div class=\"wandb-row\"><div class=\"wandb-col\"><h3>Run history:</h3><br/><table class=\"wandb\"><tr><td>epoch</td><td>▁▁▁▁▂▂▂▂▂▃▃▃▃▃▃▄▄▄▄▄▅▅▅▅▅▅▆▆▆▆▆▇▇▇▇▇▇███</td></tr><tr><td>lr-Adam</td><td>▁▁▁▁▁▁▁▁▁▁▁▁▁▁▁▁▁▁▁▁▁▁▁▁▁▁▁▁▁▁▁▁▁▁▁▁▁▁▁▁</td></tr><tr><td>train_acc</td><td>▁▁▃▂▄▆▅▅▇▇▇▇█▇▇▇▇▇▇▇▇▇██▇█▇▇██▇████▇████</td></tr><tr><td>train_auc</td><td>▃▄▅▅▇▆▆▅▄▄▅▆▇▅▆▇▆▇▅█▇▄▇▅▅▅▅▄▃▂▁▁▁▂▂▂▃▃▄▂</td></tr><tr><td>train_f1</td><td>▁▄▂▅▆▅▆▇▇▇▇▇█▇█▇▇▇▇█▇▇██▇█▇▇▇█▇▇█▇▇▇█▇█▇</td></tr><tr><td>train_loss_epoch</td><td>█▃▂▂▁▁▁▁▁▁▁▁▁▁▁▁▁▁▁▁▁▁▁▁▁▁▁▁▁▁▁▁▁▁▁▁▁▁▁▁</td></tr><tr><td>train_loss_step</td><td>█▃▂▂▁▂▂▁▁▁▁▁▁▁▁▁▁▁▁▁▁▁▁▁▁</td></tr><tr><td>trainer/global_step</td><td>▁▁▁▁▂▁▂▁▂▂▃▃▃▃▄▄▂▄▂▄▂▅▃▅▃▆▆▆▃▃▇▇▇▃▇▄█▄█▄</td></tr><tr><td>val_acc</td><td>▅▄▁▆▆▆▆▇▆▆▆▆▇▇▆▇▇▇███▇▇▇▇██▇▇▇███▇██▇▇▇█</td></tr><tr><td>val_auc</td><td>▅▄▆▆█▇▇█▇▇▇███▇▇▇▇▇▇▇▇▇▆▆▅▅▄▄▄▁▁▁▁▁▁▁▁▂▃</td></tr><tr><td>val_f1</td><td>▁▁▇▅▇█▇█████████████████████████████████</td></tr><tr><td>val_loss_epoch</td><td>▄█▄▄▂▃▂▂▃▂▂▃▂▂▃▂▂▃▂▂▂▂▁▂▂▁▂▂▂▂▂▂▂▁▃▂▂▃▂▂</td></tr><tr><td>val_loss_step</td><td>▄█▅▅▃▃▂▃▃▃▃▄▃▃▄▃▃▅▂▃▃▃▁▃▃▂▃▃▂▂▃▃▂▁▃▃▂▄▂▃</td></tr></table><br/></div><div class=\"wandb-col\"><h3>Run summary:</h3><br/><table class=\"wandb\"><tr><td>epoch</td><td>49</td></tr><tr><td>lr-Adam</td><td>0.005</td></tr><tr><td>train_acc</td><td>0.75452</td></tr><tr><td>train_auc</td><td>0.46204</td></tr><tr><td>train_f1</td><td>0.59866</td></tr><tr><td>train_loss_epoch</td><td>0.51481</td></tr><tr><td>train_loss_step</td><td>0.51622</td></tr><tr><td>trainer/global_step</td><td>249</td></tr><tr><td>val_acc</td><td>0.72039</td></tr><tr><td>val_auc</td><td>0.36155</td></tr><tr><td>val_f1</td><td>0.72131</td></tr><tr><td>val_loss_epoch</td><td>0.60825</td></tr><tr><td>val_loss_step</td><td>0.6366</td></tr></table><br/></div></div>"
      ],
      "text/plain": [
       "<IPython.core.display.HTML object>"
      ]
     },
     "metadata": {},
     "output_type": "display_data"
    },
    {
     "data": {
      "text/html": [
       " View run <strong style=\"color:#cdcd00\">GAT_3_64_onehot_4</strong> at: <a href='https://wandb.ai/thoomas/PLA_01102024_5PPI_Kfold/runs/dgwvhlbu' target=\"_blank\">https://wandb.ai/thoomas/PLA_01102024_5PPI_Kfold/runs/dgwvhlbu</a><br/>Synced 6 W&B file(s), 0 media file(s), 0 artifact file(s) and 0 other file(s)"
      ],
      "text/plain": [
       "<IPython.core.display.HTML object>"
      ]
     },
     "metadata": {},
     "output_type": "display_data"
    },
    {
     "data": {
      "text/html": [
       "Find logs at: <code>.\\wandb\\run-20240113_024913-dgwvhlbu\\logs</code>"
      ],
      "text/plain": [
       "<IPython.core.display.HTML object>"
      ]
     },
     "metadata": {},
     "output_type": "display_data"
    },
    {
     "data": {
      "application/vnd.jupyter.widget-view+json": {
       "model_id": "98a338dbabe6482cb41b46015c7643d4",
       "version_major": 2,
       "version_minor": 0
      },
      "text/plain": [
       "VBox(children=(Label(value='Waiting for wandb.init()...\\r'), FloatProgress(value=0.016933333330477276, max=1.0…"
      ]
     },
     "metadata": {},
     "output_type": "display_data"
    },
    {
     "data": {
      "text/html": [
       "wandb version 0.16.2 is available!  To upgrade, please run:\n",
       " $ pip install wandb --upgrade"
      ],
      "text/plain": [
       "<IPython.core.display.HTML object>"
      ]
     },
     "metadata": {},
     "output_type": "display_data"
    },
    {
     "data": {
      "text/html": [
       "Tracking run with wandb version 0.14.0"
      ],
      "text/plain": [
       "<IPython.core.display.HTML object>"
      ]
     },
     "metadata": {},
     "output_type": "display_data"
    },
    {
     "data": {
      "text/html": [
       "Run data is saved locally in <code>y:\\coskun-lab\\Thomas\\23_PLA_revision\\notebooks\\wandb\\run-20240113_030708-hnct15f1</code>"
      ],
      "text/plain": [
       "<IPython.core.display.HTML object>"
      ]
     },
     "metadata": {},
     "output_type": "display_data"
    },
    {
     "data": {
      "text/html": [
       "Syncing run <strong><a href='https://wandb.ai/thoomas/PLA_01102024_5PPI_Kfold/runs/hnct15f1' target=\"_blank\">GAT_3_64_onehot_4</a></strong> to <a href='https://wandb.ai/thoomas/PLA_01102024_5PPI_Kfold' target=\"_blank\">Weights & Biases</a> (<a href='https://wandb.me/run' target=\"_blank\">docs</a>)<br/>"
      ],
      "text/plain": [
       "<IPython.core.display.HTML object>"
      ]
     },
     "metadata": {},
     "output_type": "display_data"
    },
    {
     "data": {
      "text/html": [
       " View project at <a href='https://wandb.ai/thoomas/PLA_01102024_5PPI_Kfold' target=\"_blank\">https://wandb.ai/thoomas/PLA_01102024_5PPI_Kfold</a>"
      ],
      "text/plain": [
       "<IPython.core.display.HTML object>"
      ]
     },
     "metadata": {},
     "output_type": "display_data"
    },
    {
     "data": {
      "text/html": [
       " View run at <a href='https://wandb.ai/thoomas/PLA_01102024_5PPI_Kfold/runs/hnct15f1' target=\"_blank\">https://wandb.ai/thoomas/PLA_01102024_5PPI_Kfold/runs/hnct15f1</a>"
      ],
      "text/plain": [
       "<IPython.core.display.HTML object>"
      ]
     },
     "metadata": {},
     "output_type": "display_data"
    },
    {
     "name": "stderr",
     "output_type": "stream",
     "text": [
      "Global seed set to 42\n",
      "GPU available: True (cuda), used: True\n",
      "TPU available: False, using: 0 TPU cores\n",
      "IPU available: False, using: 0 IPUs\n",
      "HPU available: False, using: 0 HPUs\n",
      "Global seed set to 42\n",
      "LOCAL_RANK: 0 - CUDA_VISIBLE_DEVICES: [0,1]\n",
      "\n",
      "   | Name        | Type             | Params\n",
      "--------------------------------------------------\n",
      "0  | x_embedding | Identity         | 0     \n",
      "1  | model       | GAT              | 78.0 K\n",
      "2  | head        | Sequential       | 2.1 K \n",
      "3  | loss_module | CrossEntropyLoss | 0     \n",
      "4  | train_acc   | BinaryAccuracy   | 0     \n",
      "5  | train_auroc | BinaryAUROC      | 0     \n",
      "6  | train_f1    | BinaryF1Score    | 0     \n",
      "7  | valid_acc   | BinaryAccuracy   | 0     \n",
      "8  | valid_auroc | BinaryAUROC      | 0     \n",
      "9  | valid_f1    | BinaryF1Score    | 0     \n",
      "10 | pool        | GlobalAttention  | 65    \n",
      "--------------------------------------------------\n",
      "80.2 K    Trainable params\n",
      "0         Non-trainable params\n",
      "80.2 K    Total params\n",
      "0.321     Total estimated model params size (MB)\n"
     ]
    },
    {
     "name": "stdout",
     "output_type": "stream",
     "text": [
      "Using GAT\n"
     ]
    },
    {
     "name": "stderr",
     "output_type": "stream",
     "text": [
      "`Trainer.fit` stopped: `max_epochs=50` reached.\n"
     ]
    },
    {
     "data": {
      "text/html": [
       "Waiting for W&B process to finish... <strong style=\"color:green\">(success).</strong>"
      ],
      "text/plain": [
       "<IPython.core.display.HTML object>"
      ]
     },
     "metadata": {},
     "output_type": "display_data"
    },
    {
     "data": {
      "application/vnd.jupyter.widget-view+json": {
       "model_id": "cb72b15cbf53489a98a41afdba6e3785",
       "version_major": 2,
       "version_minor": 0
      },
      "text/plain": [
       "VBox(children=(Label(value='0.001 MB of 0.001 MB uploaded (0.000 MB deduped)\\r'), FloatProgress(value=1.0, max…"
      ]
     },
     "metadata": {},
     "output_type": "display_data"
    },
    {
     "data": {
      "text/html": [
       "<style>\n",
       "    table.wandb td:nth-child(1) { padding: 0 10px; text-align: left ; width: auto;} td:nth-child(2) {text-align: left ; width: 100%}\n",
       "    .wandb-row { display: flex; flex-direction: row; flex-wrap: wrap; justify-content: flex-start; width: 100% }\n",
       "    .wandb-col { display: flex; flex-direction: column; flex-basis: 100%; flex: 1; padding: 10px; }\n",
       "    </style>\n",
       "<div class=\"wandb-row\"><div class=\"wandb-col\"><h3>Run history:</h3><br/><table class=\"wandb\"><tr><td>epoch</td><td>▁▁▁▁▂▂▂▂▂▃▃▃▃▃▃▄▄▄▄▄▅▅▅▅▅▅▆▆▆▆▆▇▇▇▇▇▇███</td></tr><tr><td>lr-Adam</td><td>▁▁▁▁▁▁▁▁▁▁▁▁▁▁▁▁▁▁▁▁▁▁▁▁▁▁▁▁▁▁▁▁▁▁▁▁▁▁▁▁</td></tr><tr><td>train_acc</td><td>▁▃▅▆▆▆▆▇▆▇▆▇▇▇█▇▆▇█▇▇▇█▇▇▇▇▇▇█▇█▇▇▇██▇█▇</td></tr><tr><td>train_auc</td><td>▁▅▆▇▇▇▇▇▇▇▇██▇██▇▇███▇███▇██████▇███▇███</td></tr><tr><td>train_f1</td><td>▁▂▇▇▇▇▇▇▇▇▇▇█▇█▆▆▇█▇▇▇█▆▇▇█▇▇▇█▇█▇█▇▇▇█▇</td></tr><tr><td>train_loss_epoch</td><td>█▅▄▃▃▃▂▂▂▂▃▂▂▂▂▂▂▂▂▂▁▂▂▂▂▂▂▂▂▁▁▁▂▁▁▁▂▂▁▂</td></tr><tr><td>train_loss_step</td><td>█▁▅▃▅▄▄▅▇▆▆▅▂▂▅▄▆▆▄▄▄▃█▆▆</td></tr><tr><td>trainer/global_step</td><td>▁▁▁▁▂▁▂▁▂▂▃▃▃▃▄▄▂▄▂▄▂▅▃▅▃▆▆▆▃▃▇▇▇▃▇▄█▄█▄</td></tr><tr><td>val_acc</td><td>▁▁█▇▆▁▃▃▅▄▅▅▄▃▃▁▇▂▇▆█▄▇▇▅▂▅▅▄▄▃▃▃▅▃▄▅▃▁▂</td></tr><tr><td>val_auc</td><td>▃▁▃▅█▆██▇▇▇█▆▆▇▃▄▄▆▄▅▅▅▄▅▃▄▅▅▃▂▄▄▄▄▄▄▅▂▅</td></tr><tr><td>val_f1</td><td>▁▁▇▆█▇███████▇█▇█▇███████▇████████████▇▇</td></tr><tr><td>val_loss_epoch</td><td>▅▅▄▃▃▄▄▃▄▄▂▄▄▄▅▆▁▄▂▄▂▆▄▁▁█▂▅▃▄▆▃▄▃▅▃▃▆█▇</td></tr><tr><td>val_loss_step</td><td>▅▄▄▂▃▄▄▁▂▃▁▄▂▂▄▄▃▁▂▂▂▆▆▃▃█▃▂▃▄▄▅▃▃▃▃▂▇▄█</td></tr></table><br/></div><div class=\"wandb-col\"><h3>Run summary:</h3><br/><table class=\"wandb\"><tr><td>epoch</td><td>49</td></tr><tr><td>lr-Adam</td><td>0.005</td></tr><tr><td>train_acc</td><td>0.73071</td></tr><tr><td>train_auc</td><td>0.78903</td></tr><tr><td>train_f1</td><td>0.57949</td></tr><tr><td>train_loss_epoch</td><td>0.52953</td></tr><tr><td>train_loss_step</td><td>0.54379</td></tr><tr><td>trainer/global_step</td><td>249</td></tr><tr><td>val_acc</td><td>0.59539</td></tr><tr><td>val_auc</td><td>0.77555</td></tr><tr><td>val_f1</td><td>0.65928</td></tr><tr><td>val_loss_epoch</td><td>0.72229</td></tr><tr><td>val_loss_step</td><td>0.78048</td></tr></table><br/></div></div>"
      ],
      "text/plain": [
       "<IPython.core.display.HTML object>"
      ]
     },
     "metadata": {},
     "output_type": "display_data"
    },
    {
     "data": {
      "text/html": [
       " View run <strong style=\"color:#cdcd00\">GAT_3_64_onehot_4</strong> at: <a href='https://wandb.ai/thoomas/PLA_01102024_5PPI_Kfold/runs/hnct15f1' target=\"_blank\">https://wandb.ai/thoomas/PLA_01102024_5PPI_Kfold/runs/hnct15f1</a><br/>Synced 6 W&B file(s), 0 media file(s), 0 artifact file(s) and 0 other file(s)"
      ],
      "text/plain": [
       "<IPython.core.display.HTML object>"
      ]
     },
     "metadata": {},
     "output_type": "display_data"
    },
    {
     "data": {
      "text/html": [
       "Find logs at: <code>.\\wandb\\run-20240113_030708-hnct15f1\\logs</code>"
      ],
      "text/plain": [
       "<IPython.core.display.HTML object>"
      ]
     },
     "metadata": {},
     "output_type": "display_data"
    },
    {
     "data": {
      "application/vnd.jupyter.widget-view+json": {
       "model_id": "c2994dff03694283868d15082f99a7a8",
       "version_major": 2,
       "version_minor": 0
      },
      "text/plain": [
       "VBox(children=(Label(value='Waiting for wandb.init()...\\r'), FloatProgress(value=0.016666666666666666, max=1.0…"
      ]
     },
     "metadata": {},
     "output_type": "display_data"
    },
    {
     "data": {
      "text/html": [
       "wandb version 0.16.2 is available!  To upgrade, please run:\n",
       " $ pip install wandb --upgrade"
      ],
      "text/plain": [
       "<IPython.core.display.HTML object>"
      ]
     },
     "metadata": {},
     "output_type": "display_data"
    },
    {
     "data": {
      "text/html": [
       "Tracking run with wandb version 0.14.0"
      ],
      "text/plain": [
       "<IPython.core.display.HTML object>"
      ]
     },
     "metadata": {},
     "output_type": "display_data"
    },
    {
     "data": {
      "text/html": [
       "Run data is saved locally in <code>y:\\coskun-lab\\Thomas\\23_PLA_revision\\notebooks\\wandb\\run-20240113_032537-xf1nf1fy</code>"
      ],
      "text/plain": [
       "<IPython.core.display.HTML object>"
      ]
     },
     "metadata": {},
     "output_type": "display_data"
    },
    {
     "data": {
      "text/html": [
       "Syncing run <strong><a href='https://wandb.ai/thoomas/PLA_01102024_5PPI_Kfold/runs/xf1nf1fy' target=\"_blank\">GAT_3_64_onehot_4</a></strong> to <a href='https://wandb.ai/thoomas/PLA_01102024_5PPI_Kfold' target=\"_blank\">Weights & Biases</a> (<a href='https://wandb.me/run' target=\"_blank\">docs</a>)<br/>"
      ],
      "text/plain": [
       "<IPython.core.display.HTML object>"
      ]
     },
     "metadata": {},
     "output_type": "display_data"
    },
    {
     "data": {
      "text/html": [
       " View project at <a href='https://wandb.ai/thoomas/PLA_01102024_5PPI_Kfold' target=\"_blank\">https://wandb.ai/thoomas/PLA_01102024_5PPI_Kfold</a>"
      ],
      "text/plain": [
       "<IPython.core.display.HTML object>"
      ]
     },
     "metadata": {},
     "output_type": "display_data"
    },
    {
     "data": {
      "text/html": [
       " View run at <a href='https://wandb.ai/thoomas/PLA_01102024_5PPI_Kfold/runs/xf1nf1fy' target=\"_blank\">https://wandb.ai/thoomas/PLA_01102024_5PPI_Kfold/runs/xf1nf1fy</a>"
      ],
      "text/plain": [
       "<IPython.core.display.HTML object>"
      ]
     },
     "metadata": {},
     "output_type": "display_data"
    },
    {
     "name": "stderr",
     "output_type": "stream",
     "text": [
      "Global seed set to 42\n",
      "GPU available: True (cuda), used: True\n",
      "TPU available: False, using: 0 TPU cores\n",
      "IPU available: False, using: 0 IPUs\n",
      "HPU available: False, using: 0 HPUs\n",
      "Global seed set to 42\n",
      "LOCAL_RANK: 0 - CUDA_VISIBLE_DEVICES: [0,1]\n",
      "\n",
      "   | Name        | Type             | Params\n",
      "--------------------------------------------------\n",
      "0  | x_embedding | Identity         | 0     \n",
      "1  | model       | GAT              | 78.0 K\n",
      "2  | head        | Sequential       | 2.1 K \n",
      "3  | loss_module | CrossEntropyLoss | 0     \n",
      "4  | train_acc   | BinaryAccuracy   | 0     \n",
      "5  | train_auroc | BinaryAUROC      | 0     \n",
      "6  | train_f1    | BinaryF1Score    | 0     \n",
      "7  | valid_acc   | BinaryAccuracy   | 0     \n",
      "8  | valid_auroc | BinaryAUROC      | 0     \n",
      "9  | valid_f1    | BinaryF1Score    | 0     \n",
      "10 | pool        | Attention_module | 4.2 K \n",
      "--------------------------------------------------\n",
      "84.4 K    Trainable params\n",
      "0         Non-trainable params\n",
      "84.4 K    Total params\n",
      "0.337     Total estimated model params size (MB)\n"
     ]
    },
    {
     "name": "stdout",
     "output_type": "stream",
     "text": [
      "Using GAT\n"
     ]
    },
    {
     "name": "stderr",
     "output_type": "stream",
     "text": [
      "`Trainer.fit` stopped: `max_epochs=50` reached.\n"
     ]
    },
    {
     "data": {
      "text/html": [
       "Waiting for W&B process to finish... <strong style=\"color:green\">(success).</strong>"
      ],
      "text/plain": [
       "<IPython.core.display.HTML object>"
      ]
     },
     "metadata": {},
     "output_type": "display_data"
    },
    {
     "data": {
      "application/vnd.jupyter.widget-view+json": {
       "model_id": "361034a1331d4bc18a7f369bbc63e98b",
       "version_major": 2,
       "version_minor": 0
      },
      "text/plain": [
       "VBox(children=(Label(value='0.001 MB of 0.001 MB uploaded (0.000 MB deduped)\\r'), FloatProgress(value=1.0, max…"
      ]
     },
     "metadata": {},
     "output_type": "display_data"
    },
    {
     "data": {
      "text/html": [
       "<style>\n",
       "    table.wandb td:nth-child(1) { padding: 0 10px; text-align: left ; width: auto;} td:nth-child(2) {text-align: left ; width: 100%}\n",
       "    .wandb-row { display: flex; flex-direction: row; flex-wrap: wrap; justify-content: flex-start; width: 100% }\n",
       "    .wandb-col { display: flex; flex-direction: column; flex-basis: 100%; flex: 1; padding: 10px; }\n",
       "    </style>\n",
       "<div class=\"wandb-row\"><div class=\"wandb-col\"><h3>Run history:</h3><br/><table class=\"wandb\"><tr><td>epoch</td><td>▁▁▁▁▂▂▂▂▂▃▃▃▃▃▃▄▄▄▄▄▅▅▅▅▅▅▆▆▆▆▆▇▇▇▇▇▇███</td></tr><tr><td>lr-Adam</td><td>▁▁▁▁▁▁▁▁▁▁▁▁▁▁▁▁▁▁▁▁▁▁▁▁▁▁▁▁▁▁▁▁▁▁▁▁▁▁▁▁</td></tr><tr><td>train_acc</td><td>▁▃▄▅▆▆▆▇▇▇▇▆▇▇▇▇▇▇▇▇██▇▆▇▇▇▇▇▇████▇██▇▇█</td></tr><tr><td>train_auc</td><td>▁▄▆▆▇▇▇▇▇██▇█▇██████████████████████████</td></tr><tr><td>train_f1</td><td>▁▄▅▇▇▇▇▇▇▇█▆▇▇▇▇▇█▇▇██▇▇▇▇██▇██▇██▇▇█▇██</td></tr><tr><td>train_loss_epoch</td><td>█▆▅▄▃▃▂▃▂▂▂▃▂▂▂▂▂▂▂▂▂▂▂▂▂▂▂▁▂▂▁▂▁▁▂▁▂▂▂▂</td></tr><tr><td>train_loss_step</td><td>▄█▄▄▄▃▃▂▁▅▂▃▂▆▄▃▂▅▃▅▂▂▂▃▂</td></tr><tr><td>trainer/global_step</td><td>▁▁▁▁▂▁▂▁▂▂▃▃▃▃▄▄▂▄▂▄▂▅▃▅▃▆▆▆▃▃▇▇▇▃▇▄█▄█▄</td></tr><tr><td>val_acc</td><td>▂▂▆▆▇▇███▇█▅▅▅▇▆▅▅▄▄▅▅▃▃▂▁▂▁▂▄▄▅▄▃▃▃▄▃▃▂</td></tr><tr><td>val_auc</td><td>▁▂▂▅▇▆▇█▇▇▆▇▇▇▇▇▆▅▅▆▆▆▇▆▆▇▇▅▆▄▅▅▆▆▆▅▄▄▅▅</td></tr><tr><td>val_f1</td><td>▁▁▇▆██████████████████▇█▇▇▇▇▇██████▇███▇</td></tr><tr><td>val_loss_epoch</td><td>▄▄▄▃▃▃▂▁▁▂▃▂▂▄▂▂▄▂▃▄▁▃▄▄▅█▆▆▆▄▅▂▄▄▄▄▃▅▄▅</td></tr><tr><td>val_loss_step</td><td>▄▃▄▃▂▂▂▁▂▂▅▁▃▄▁▂▃▁▂▃▃▂▄▄▅█▆▅▅▃▃▃▄▄▄▅▁▅▄▄</td></tr></table><br/></div><div class=\"wandb-col\"><h3>Run summary:</h3><br/><table class=\"wandb\"><tr><td>epoch</td><td>49</td></tr><tr><td>lr-Adam</td><td>0.005</td></tr><tr><td>train_acc</td><td>0.73892</td></tr><tr><td>train_auc</td><td>0.7896</td></tr><tr><td>train_f1</td><td>0.62143</td></tr><tr><td>train_loss_epoch</td><td>0.52565</td></tr><tr><td>train_loss_step</td><td>0.50567</td></tr><tr><td>trainer/global_step</td><td>249</td></tr><tr><td>val_acc</td><td>0.57895</td></tr><tr><td>val_auc</td><td>0.77409</td></tr><tr><td>val_f1</td><td>0.64835</td></tr><tr><td>val_loss_epoch</td><td>0.6982</td></tr><tr><td>val_loss_step</td><td>0.66958</td></tr></table><br/></div></div>"
      ],
      "text/plain": [
       "<IPython.core.display.HTML object>"
      ]
     },
     "metadata": {},
     "output_type": "display_data"
    },
    {
     "data": {
      "text/html": [
       " View run <strong style=\"color:#cdcd00\">GAT_3_64_onehot_4</strong> at: <a href='https://wandb.ai/thoomas/PLA_01102024_5PPI_Kfold/runs/xf1nf1fy' target=\"_blank\">https://wandb.ai/thoomas/PLA_01102024_5PPI_Kfold/runs/xf1nf1fy</a><br/>Synced 6 W&B file(s), 0 media file(s), 0 artifact file(s) and 0 other file(s)"
      ],
      "text/plain": [
       "<IPython.core.display.HTML object>"
      ]
     },
     "metadata": {},
     "output_type": "display_data"
    },
    {
     "data": {
      "text/html": [
       "Find logs at: <code>.\\wandb\\run-20240113_032537-xf1nf1fy\\logs</code>"
      ],
      "text/plain": [
       "<IPython.core.display.HTML object>"
      ]
     },
     "metadata": {},
     "output_type": "display_data"
    },
    {
     "data": {
      "application/vnd.jupyter.widget-view+json": {
       "model_id": "115e9b7fc9204569a15a99f35ddbee5c",
       "version_major": 2,
       "version_minor": 0
      },
      "text/plain": [
       "VBox(children=(Label(value='Waiting for wandb.init()...\\r'), FloatProgress(value=0.016666666666666666, max=1.0…"
      ]
     },
     "metadata": {},
     "output_type": "display_data"
    },
    {
     "data": {
      "text/html": [
       "wandb version 0.16.2 is available!  To upgrade, please run:\n",
       " $ pip install wandb --upgrade"
      ],
      "text/plain": [
       "<IPython.core.display.HTML object>"
      ]
     },
     "metadata": {},
     "output_type": "display_data"
    },
    {
     "data": {
      "text/html": [
       "Tracking run with wandb version 0.14.0"
      ],
      "text/plain": [
       "<IPython.core.display.HTML object>"
      ]
     },
     "metadata": {},
     "output_type": "display_data"
    },
    {
     "data": {
      "text/html": [
       "Run data is saved locally in <code>y:\\coskun-lab\\Thomas\\23_PLA_revision\\notebooks\\wandb\\run-20240113_034145-82f6rgl9</code>"
      ],
      "text/plain": [
       "<IPython.core.display.HTML object>"
      ]
     },
     "metadata": {},
     "output_type": "display_data"
    },
    {
     "data": {
      "text/html": [
       "Syncing run <strong><a href='https://wandb.ai/thoomas/PLA_01102024_5PPI_Kfold/runs/82f6rgl9' target=\"_blank\">GAT_4_16_onehot_4</a></strong> to <a href='https://wandb.ai/thoomas/PLA_01102024_5PPI_Kfold' target=\"_blank\">Weights & Biases</a> (<a href='https://wandb.me/run' target=\"_blank\">docs</a>)<br/>"
      ],
      "text/plain": [
       "<IPython.core.display.HTML object>"
      ]
     },
     "metadata": {},
     "output_type": "display_data"
    },
    {
     "data": {
      "text/html": [
       " View project at <a href='https://wandb.ai/thoomas/PLA_01102024_5PPI_Kfold' target=\"_blank\">https://wandb.ai/thoomas/PLA_01102024_5PPI_Kfold</a>"
      ],
      "text/plain": [
       "<IPython.core.display.HTML object>"
      ]
     },
     "metadata": {},
     "output_type": "display_data"
    },
    {
     "data": {
      "text/html": [
       " View run at <a href='https://wandb.ai/thoomas/PLA_01102024_5PPI_Kfold/runs/82f6rgl9' target=\"_blank\">https://wandb.ai/thoomas/PLA_01102024_5PPI_Kfold/runs/82f6rgl9</a>"
      ],
      "text/plain": [
       "<IPython.core.display.HTML object>"
      ]
     },
     "metadata": {},
     "output_type": "display_data"
    },
    {
     "name": "stderr",
     "output_type": "stream",
     "text": [
      "Global seed set to 42\n",
      "GPU available: True (cuda), used: True\n",
      "TPU available: False, using: 0 TPU cores\n",
      "IPU available: False, using: 0 IPUs\n",
      "HPU available: False, using: 0 HPUs\n",
      "Global seed set to 42\n",
      "LOCAL_RANK: 0 - CUDA_VISIBLE_DEVICES: [0,1]\n",
      "\n",
      "  | Name        | Type             | Params\n",
      "-------------------------------------------------\n",
      "0 | x_embedding | Identity         | 0     \n",
      "1 | model       | GAT              | 6.3 K \n",
      "2 | head        | Sequential       | 154   \n",
      "3 | loss_module | CrossEntropyLoss | 0     \n",
      "4 | train_acc   | BinaryAccuracy   | 0     \n",
      "5 | train_auroc | BinaryAUROC      | 0     \n",
      "6 | train_f1    | BinaryF1Score    | 0     \n",
      "7 | valid_acc   | BinaryAccuracy   | 0     \n",
      "8 | valid_auroc | BinaryAUROC      | 0     \n",
      "9 | valid_f1    | BinaryF1Score    | 0     \n",
      "-------------------------------------------------\n",
      "6.5 K     Trainable params\n",
      "0         Non-trainable params\n",
      "6.5 K     Total params\n",
      "0.026     Total estimated model params size (MB)\n"
     ]
    },
    {
     "name": "stdout",
     "output_type": "stream",
     "text": [
      "Using GAT\n"
     ]
    },
    {
     "name": "stderr",
     "output_type": "stream",
     "text": [
      "`Trainer.fit` stopped: `max_epochs=50` reached.\n"
     ]
    },
    {
     "data": {
      "text/html": [
       "Waiting for W&B process to finish... <strong style=\"color:green\">(success).</strong>"
      ],
      "text/plain": [
       "<IPython.core.display.HTML object>"
      ]
     },
     "metadata": {},
     "output_type": "display_data"
    },
    {
     "data": {
      "application/vnd.jupyter.widget-view+json": {
       "model_id": "2e16f01a5d0148e2a31be30523636e6b",
       "version_major": 2,
       "version_minor": 0
      },
      "text/plain": [
       "VBox(children=(Label(value='0.001 MB of 0.001 MB uploaded (0.000 MB deduped)\\r'), FloatProgress(value=1.0, max…"
      ]
     },
     "metadata": {},
     "output_type": "display_data"
    },
    {
     "data": {
      "text/html": [
       "<style>\n",
       "    table.wandb td:nth-child(1) { padding: 0 10px; text-align: left ; width: auto;} td:nth-child(2) {text-align: left ; width: 100%}\n",
       "    .wandb-row { display: flex; flex-direction: row; flex-wrap: wrap; justify-content: flex-start; width: 100% }\n",
       "    .wandb-col { display: flex; flex-direction: column; flex-basis: 100%; flex: 1; padding: 10px; }\n",
       "    </style>\n",
       "<div class=\"wandb-row\"><div class=\"wandb-col\"><h3>Run history:</h3><br/><table class=\"wandb\"><tr><td>epoch</td><td>▁▁▁▁▂▂▂▂▂▃▃▃▃▃▃▄▄▄▄▄▅▅▅▅▅▅▆▆▆▆▆▇▇▇▇▇▇███</td></tr><tr><td>lr-Adam</td><td>▁▁▁▁▁▁▁▁▁▁▁▁▁▁▁▁▁▁▁▁▁▁▁▁▁▁▁▁▁▁▁▁▁▁▁▁▁▁▁▁</td></tr><tr><td>train_acc</td><td>▁▄▅▅▆▆▆▇▇▇▇▇▇▇▇▇▇▇▇▇█▇███████████▇██▇▇█▇</td></tr><tr><td>train_auc</td><td>▁▁▂▃▅▅▆▆▇▇▇▇▇█▇▇█▇▇▇█▇██████████████▇███</td></tr><tr><td>train_f1</td><td>▆▂▁▁▃▄▆▇██▇▇██▆▇▇▆▇▇▇▇▇▇▇▇▇█▇▇▇▇█▇▇▇▇▇█▇</td></tr><tr><td>train_loss_epoch</td><td>█▇▆▅▄▄▄▃▂▃▂▂▃▂▂▂▂▂▂▂▁▂▂▂▁▁▁▁▁▁▁▂▁▂▂▁▂▁▁▂</td></tr><tr><td>train_loss_step</td><td>█▇▄▇▄▃▅▃▄▂▃▆▁▃▂▂▂▁▄▃▆▃▄▃▇</td></tr><tr><td>trainer/global_step</td><td>▁▁▁▁▂▁▂▁▂▂▃▃▃▃▄▄▂▄▂▄▂▅▃▅▃▆▆▆▃▃▇▇▇▃▇▄█▄█▄</td></tr><tr><td>val_acc</td><td>▁▁▁▁▇▂▂▂▂▂▂▃▄▇▇▇█▇▇█▇▇▇▆██▇▆▇▇▇▇█▇██▇▆▇▇</td></tr><tr><td>val_auc</td><td>▁▁▆█████████████████████████████████████</td></tr><tr><td>val_f1</td><td>▁▁▁▁████████████████████████████████████</td></tr><tr><td>val_loss_epoch</td><td>████▇▇▇▆▇▅▆▇▆▄▃▅▂▂▃▁▃▂▂▄▁▂▂▄▃▄▂▁▂▄▁▂▄▃▄▆</td></tr><tr><td>val_loss_step</td><td>▇▇▇█▇▇▇▄▆▆▅█▅▅▄▄▂▂▄▂▂▂▂▃▃▃▃▃▄▆▃▂▁▇▂▂▅▂▃█</td></tr></table><br/></div><div class=\"wandb-col\"><h3>Run summary:</h3><br/><table class=\"wandb\"><tr><td>epoch</td><td>49</td></tr><tr><td>lr-Adam</td><td>0.005</td></tr><tr><td>train_acc</td><td>0.71264</td></tr><tr><td>train_auc</td><td>0.75881</td></tr><tr><td>train_f1</td><td>0.5</td></tr><tr><td>train_loss_epoch</td><td>0.5602</td></tr><tr><td>train_loss_step</td><td>0.63853</td></tr><tr><td>trainer/global_step</td><td>249</td></tr><tr><td>val_acc</td><td>0.69408</td></tr><tr><td>val_auc</td><td>0.77772</td></tr><tr><td>val_f1</td><td>0.70096</td></tr><tr><td>val_loss_epoch</td><td>0.63699</td></tr><tr><td>val_loss_step</td><td>0.70498</td></tr></table><br/></div></div>"
      ],
      "text/plain": [
       "<IPython.core.display.HTML object>"
      ]
     },
     "metadata": {},
     "output_type": "display_data"
    },
    {
     "data": {
      "text/html": [
       " View run <strong style=\"color:#cdcd00\">GAT_4_16_onehot_4</strong> at: <a href='https://wandb.ai/thoomas/PLA_01102024_5PPI_Kfold/runs/82f6rgl9' target=\"_blank\">https://wandb.ai/thoomas/PLA_01102024_5PPI_Kfold/runs/82f6rgl9</a><br/>Synced 6 W&B file(s), 0 media file(s), 0 artifact file(s) and 0 other file(s)"
      ],
      "text/plain": [
       "<IPython.core.display.HTML object>"
      ]
     },
     "metadata": {},
     "output_type": "display_data"
    },
    {
     "data": {
      "text/html": [
       "Find logs at: <code>.\\wandb\\run-20240113_034145-82f6rgl9\\logs</code>"
      ],
      "text/plain": [
       "<IPython.core.display.HTML object>"
      ]
     },
     "metadata": {},
     "output_type": "display_data"
    },
    {
     "data": {
      "application/vnd.jupyter.widget-view+json": {
       "model_id": "313db505971248b88b7e1bf0279e5db0",
       "version_major": 2,
       "version_minor": 0
      },
      "text/plain": [
       "VBox(children=(Label(value='Waiting for wandb.init()...\\r'), FloatProgress(value=0.01693333333435779, max=1.0)…"
      ]
     },
     "metadata": {},
     "output_type": "display_data"
    },
    {
     "data": {
      "text/html": [
       "wandb version 0.16.2 is available!  To upgrade, please run:\n",
       " $ pip install wandb --upgrade"
      ],
      "text/plain": [
       "<IPython.core.display.HTML object>"
      ]
     },
     "metadata": {},
     "output_type": "display_data"
    },
    {
     "data": {
      "text/html": [
       "Tracking run with wandb version 0.14.0"
      ],
      "text/plain": [
       "<IPython.core.display.HTML object>"
      ]
     },
     "metadata": {},
     "output_type": "display_data"
    },
    {
     "data": {
      "text/html": [
       "Run data is saved locally in <code>y:\\coskun-lab\\Thomas\\23_PLA_revision\\notebooks\\wandb\\run-20240113_035720-141e6bbx</code>"
      ],
      "text/plain": [
       "<IPython.core.display.HTML object>"
      ]
     },
     "metadata": {},
     "output_type": "display_data"
    },
    {
     "data": {
      "text/html": [
       "Syncing run <strong><a href='https://wandb.ai/thoomas/PLA_01102024_5PPI_Kfold/runs/141e6bbx' target=\"_blank\">GAT_4_16_onehot_4</a></strong> to <a href='https://wandb.ai/thoomas/PLA_01102024_5PPI_Kfold' target=\"_blank\">Weights & Biases</a> (<a href='https://wandb.me/run' target=\"_blank\">docs</a>)<br/>"
      ],
      "text/plain": [
       "<IPython.core.display.HTML object>"
      ]
     },
     "metadata": {},
     "output_type": "display_data"
    },
    {
     "data": {
      "text/html": [
       " View project at <a href='https://wandb.ai/thoomas/PLA_01102024_5PPI_Kfold' target=\"_blank\">https://wandb.ai/thoomas/PLA_01102024_5PPI_Kfold</a>"
      ],
      "text/plain": [
       "<IPython.core.display.HTML object>"
      ]
     },
     "metadata": {},
     "output_type": "display_data"
    },
    {
     "data": {
      "text/html": [
       " View run at <a href='https://wandb.ai/thoomas/PLA_01102024_5PPI_Kfold/runs/141e6bbx' target=\"_blank\">https://wandb.ai/thoomas/PLA_01102024_5PPI_Kfold/runs/141e6bbx</a>"
      ],
      "text/plain": [
       "<IPython.core.display.HTML object>"
      ]
     },
     "metadata": {},
     "output_type": "display_data"
    },
    {
     "name": "stderr",
     "output_type": "stream",
     "text": [
      "Global seed set to 42\n",
      "GPU available: True (cuda), used: True\n",
      "TPU available: False, using: 0 TPU cores\n",
      "IPU available: False, using: 0 IPUs\n",
      "HPU available: False, using: 0 HPUs\n",
      "Global seed set to 42\n",
      "LOCAL_RANK: 0 - CUDA_VISIBLE_DEVICES: [0,1]\n",
      "\n",
      "  | Name        | Type             | Params\n",
      "-------------------------------------------------\n",
      "0 | x_embedding | Identity         | 0     \n",
      "1 | model       | GAT              | 6.3 K \n",
      "2 | head        | Sequential       | 154   \n",
      "3 | loss_module | CrossEntropyLoss | 0     \n",
      "4 | train_acc   | BinaryAccuracy   | 0     \n",
      "5 | train_auroc | BinaryAUROC      | 0     \n",
      "6 | train_f1    | BinaryF1Score    | 0     \n",
      "7 | valid_acc   | BinaryAccuracy   | 0     \n",
      "8 | valid_auroc | BinaryAUROC      | 0     \n",
      "9 | valid_f1    | BinaryF1Score    | 0     \n",
      "-------------------------------------------------\n",
      "6.5 K     Trainable params\n",
      "0         Non-trainable params\n",
      "6.5 K     Total params\n",
      "0.026     Total estimated model params size (MB)\n"
     ]
    },
    {
     "name": "stdout",
     "output_type": "stream",
     "text": [
      "Using GAT\n"
     ]
    },
    {
     "name": "stderr",
     "output_type": "stream",
     "text": [
      "`Trainer.fit` stopped: `max_epochs=50` reached.\n"
     ]
    },
    {
     "data": {
      "text/html": [
       "Waiting for W&B process to finish... <strong style=\"color:green\">(success).</strong>"
      ],
      "text/plain": [
       "<IPython.core.display.HTML object>"
      ]
     },
     "metadata": {},
     "output_type": "display_data"
    },
    {
     "data": {
      "application/vnd.jupyter.widget-view+json": {
       "model_id": "27a62e5bbdcd4e35aad4eeb923153a6f",
       "version_major": 2,
       "version_minor": 0
      },
      "text/plain": [
       "VBox(children=(Label(value='0.001 MB of 0.001 MB uploaded (0.000 MB deduped)\\r'), FloatProgress(value=1.0, max…"
      ]
     },
     "metadata": {},
     "output_type": "display_data"
    },
    {
     "data": {
      "text/html": [
       "<style>\n",
       "    table.wandb td:nth-child(1) { padding: 0 10px; text-align: left ; width: auto;} td:nth-child(2) {text-align: left ; width: 100%}\n",
       "    .wandb-row { display: flex; flex-direction: row; flex-wrap: wrap; justify-content: flex-start; width: 100% }\n",
       "    .wandb-col { display: flex; flex-direction: column; flex-basis: 100%; flex: 1; padding: 10px; }\n",
       "    </style>\n",
       "<div class=\"wandb-row\"><div class=\"wandb-col\"><h3>Run history:</h3><br/><table class=\"wandb\"><tr><td>epoch</td><td>▁▁▁▁▂▂▂▂▂▃▃▃▃▃▃▄▄▄▄▄▅▅▅▅▅▅▆▆▆▆▆▇▇▇▇▇▇███</td></tr><tr><td>lr-Adam</td><td>▁▁▁▁▁▁▁▁▁▁▁▁▁▁▁▁▁▁▁▁▁▁▁▁▁▁▁▁▁▁▁▁▁▁▁▁▁▁▁▁</td></tr><tr><td>train_acc</td><td>▁▄▅▆▆▆▆▆▆▆▆▆▆▇▆▆▆▇▇▇▇▆▇▇▇▇▇▇█▇▇▇██▇███▇▇</td></tr><tr><td>train_auc</td><td>▁▁▂▂▂▃▃▄▄▅▅▆▅▆▅▅▆▆▆▆▆▆▇▇▇█▇▇█▇▇▇██▇█████</td></tr><tr><td>train_f1</td><td>▆▄▃▃▂▁▁▁▁▁▁▂▃▄▂▃▄▅▆▅▅▅▆▆▆▇▆▇▆▆▇▆██▇▇▇▇▇▆</td></tr><tr><td>train_loss_epoch</td><td>█▆▆▅▅▅▄▄▄▄▃▄▄▃▃▄▃▃▃▃▃▃▂▂▂▂▂▃▂▂▂▁▁▂▂▁▁▁▂▂</td></tr><tr><td>train_loss_step</td><td>▇▆▅▅▆▆█▅▅▃▅▆▂▁▃▂▄▂▄▃▅▄▂▃▅</td></tr><tr><td>trainer/global_step</td><td>▁▁▁▁▂▁▂▁▂▂▃▃▃▃▄▄▂▄▂▄▂▅▃▅▃▆▆▆▃▃▇▇▇▃▇▄█▄█▄</td></tr><tr><td>val_acc</td><td>▁▁▁▁▁▁▁▁▃▄▆▆█▇▇▇▇▇█▇▇▇▇▇▇▇█▇▇▇▇▇███▇▇█▇▆</td></tr><tr><td>val_auc</td><td>▁▁▂▆▇▇▇▇████▇▇▇█▇▇▇▇▇▇▇▇████████████████</td></tr><tr><td>val_f1</td><td>▁▁▁▁▁▁▁▁▄▅▆▇█▇▇▇████▇▇▇▇▇▇▇▇▇▇▇▇██▇▇▆▇▇▆</td></tr><tr><td>val_loss_epoch</td><td>████▇▇▇▇▆▆▆▅▅▅▅▅▄▄▅▄▄▄▅▅▂▄▂▅▂▃▃▂▂▃▁▃▄▂▄▄</td></tr><tr><td>val_loss_step</td><td>██▇█▇▇▇▇▆▆▇▆▆▅▆▅▅▄▆▄▄▅▆▄▄▄▃▃▁▃▃▃▃▆▃▃▆▂▃▅</td></tr></table><br/></div><div class=\"wandb-col\"><h3>Run summary:</h3><br/><table class=\"wandb\"><tr><td>epoch</td><td>49</td></tr><tr><td>lr-Adam</td><td>0.005</td></tr><tr><td>train_acc</td><td>0.66995</td></tr><tr><td>train_auc</td><td>0.71349</td></tr><tr><td>train_f1</td><td>0.35987</td></tr><tr><td>train_loss_epoch</td><td>0.59647</td></tr><tr><td>train_loss_step</td><td>0.63928</td></tr><tr><td>trainer/global_step</td><td>249</td></tr><tr><td>val_acc</td><td>0.66118</td></tr><tr><td>val_auc</td><td>0.76611</td></tr><tr><td>val_f1</td><td>0.45503</td></tr><tr><td>val_loss_epoch</td><td>0.62297</td></tr><tr><td>val_loss_step</td><td>0.64575</td></tr></table><br/></div></div>"
      ],
      "text/plain": [
       "<IPython.core.display.HTML object>"
      ]
     },
     "metadata": {},
     "output_type": "display_data"
    },
    {
     "data": {
      "text/html": [
       " View run <strong style=\"color:#cdcd00\">GAT_4_16_onehot_4</strong> at: <a href='https://wandb.ai/thoomas/PLA_01102024_5PPI_Kfold/runs/141e6bbx' target=\"_blank\">https://wandb.ai/thoomas/PLA_01102024_5PPI_Kfold/runs/141e6bbx</a><br/>Synced 6 W&B file(s), 0 media file(s), 0 artifact file(s) and 0 other file(s)"
      ],
      "text/plain": [
       "<IPython.core.display.HTML object>"
      ]
     },
     "metadata": {},
     "output_type": "display_data"
    },
    {
     "data": {
      "text/html": [
       "Find logs at: <code>.\\wandb\\run-20240113_035720-141e6bbx\\logs</code>"
      ],
      "text/plain": [
       "<IPython.core.display.HTML object>"
      ]
     },
     "metadata": {},
     "output_type": "display_data"
    },
    {
     "data": {
      "application/vnd.jupyter.widget-view+json": {
       "model_id": "a08944a101cc4ecb8d81671604ef089c",
       "version_major": 2,
       "version_minor": 0
      },
      "text/plain": [
       "VBox(children=(Label(value='Waiting for wandb.init()...\\r'), FloatProgress(value=0.016933333330477276, max=1.0…"
      ]
     },
     "metadata": {},
     "output_type": "display_data"
    },
    {
     "data": {
      "text/html": [
       "wandb version 0.16.2 is available!  To upgrade, please run:\n",
       " $ pip install wandb --upgrade"
      ],
      "text/plain": [
       "<IPython.core.display.HTML object>"
      ]
     },
     "metadata": {},
     "output_type": "display_data"
    },
    {
     "data": {
      "text/html": [
       "Tracking run with wandb version 0.14.0"
      ],
      "text/plain": [
       "<IPython.core.display.HTML object>"
      ]
     },
     "metadata": {},
     "output_type": "display_data"
    },
    {
     "data": {
      "text/html": [
       "Run data is saved locally in <code>y:\\coskun-lab\\Thomas\\23_PLA_revision\\notebooks\\wandb\\run-20240113_041248-7nl100qt</code>"
      ],
      "text/plain": [
       "<IPython.core.display.HTML object>"
      ]
     },
     "metadata": {},
     "output_type": "display_data"
    },
    {
     "data": {
      "text/html": [
       "Syncing run <strong><a href='https://wandb.ai/thoomas/PLA_01102024_5PPI_Kfold/runs/7nl100qt' target=\"_blank\">GAT_4_16_onehot_4</a></strong> to <a href='https://wandb.ai/thoomas/PLA_01102024_5PPI_Kfold' target=\"_blank\">Weights & Biases</a> (<a href='https://wandb.me/run' target=\"_blank\">docs</a>)<br/>"
      ],
      "text/plain": [
       "<IPython.core.display.HTML object>"
      ]
     },
     "metadata": {},
     "output_type": "display_data"
    },
    {
     "data": {
      "text/html": [
       " View project at <a href='https://wandb.ai/thoomas/PLA_01102024_5PPI_Kfold' target=\"_blank\">https://wandb.ai/thoomas/PLA_01102024_5PPI_Kfold</a>"
      ],
      "text/plain": [
       "<IPython.core.display.HTML object>"
      ]
     },
     "metadata": {},
     "output_type": "display_data"
    },
    {
     "data": {
      "text/html": [
       " View run at <a href='https://wandb.ai/thoomas/PLA_01102024_5PPI_Kfold/runs/7nl100qt' target=\"_blank\">https://wandb.ai/thoomas/PLA_01102024_5PPI_Kfold/runs/7nl100qt</a>"
      ],
      "text/plain": [
       "<IPython.core.display.HTML object>"
      ]
     },
     "metadata": {},
     "output_type": "display_data"
    },
    {
     "name": "stderr",
     "output_type": "stream",
     "text": [
      "Global seed set to 42\n",
      "GPU available: True (cuda), used: True\n",
      "TPU available: False, using: 0 TPU cores\n",
      "IPU available: False, using: 0 IPUs\n",
      "HPU available: False, using: 0 HPUs\n",
      "Global seed set to 42\n",
      "LOCAL_RANK: 0 - CUDA_VISIBLE_DEVICES: [0,1]\n",
      "\n",
      "  | Name        | Type             | Params\n",
      "-------------------------------------------------\n",
      "0 | x_embedding | Identity         | 0     \n",
      "1 | model       | GAT              | 6.3 K \n",
      "2 | head        | Sequential       | 154   \n",
      "3 | loss_module | CrossEntropyLoss | 0     \n",
      "4 | train_acc   | BinaryAccuracy   | 0     \n",
      "5 | train_auroc | BinaryAUROC      | 0     \n",
      "6 | train_f1    | BinaryF1Score    | 0     \n",
      "7 | valid_acc   | BinaryAccuracy   | 0     \n",
      "8 | valid_auroc | BinaryAUROC      | 0     \n",
      "9 | valid_f1    | BinaryF1Score    | 0     \n",
      "-------------------------------------------------\n",
      "6.5 K     Trainable params\n",
      "0         Non-trainable params\n",
      "6.5 K     Total params\n",
      "0.026     Total estimated model params size (MB)\n"
     ]
    },
    {
     "name": "stdout",
     "output_type": "stream",
     "text": [
      "Using GAT\n"
     ]
    },
    {
     "name": "stderr",
     "output_type": "stream",
     "text": [
      "`Trainer.fit` stopped: `max_epochs=50` reached.\n"
     ]
    },
    {
     "data": {
      "text/html": [
       "Waiting for W&B process to finish... <strong style=\"color:green\">(success).</strong>"
      ],
      "text/plain": [
       "<IPython.core.display.HTML object>"
      ]
     },
     "metadata": {},
     "output_type": "display_data"
    },
    {
     "data": {
      "application/vnd.jupyter.widget-view+json": {
       "model_id": "848dee72a8164f808112e29a35796aeb",
       "version_major": 2,
       "version_minor": 0
      },
      "text/plain": [
       "VBox(children=(Label(value='0.001 MB of 0.001 MB uploaded (0.000 MB deduped)\\r'), FloatProgress(value=1.0, max…"
      ]
     },
     "metadata": {},
     "output_type": "display_data"
    },
    {
     "data": {
      "text/html": [
       "<style>\n",
       "    table.wandb td:nth-child(1) { padding: 0 10px; text-align: left ; width: auto;} td:nth-child(2) {text-align: left ; width: 100%}\n",
       "    .wandb-row { display: flex; flex-direction: row; flex-wrap: wrap; justify-content: flex-start; width: 100% }\n",
       "    .wandb-col { display: flex; flex-direction: column; flex-basis: 100%; flex: 1; padding: 10px; }\n",
       "    </style>\n",
       "<div class=\"wandb-row\"><div class=\"wandb-col\"><h3>Run history:</h3><br/><table class=\"wandb\"><tr><td>epoch</td><td>▁▁▁▁▂▂▂▂▂▃▃▃▃▃▃▄▄▄▄▄▅▅▅▅▅▅▆▆▆▆▆▇▇▇▇▇▇███</td></tr><tr><td>lr-Adam</td><td>▁▁▁▁▁▁▁▁▁▁▁▁▁▁▁▁▁▁▁▁▁▁▁▁▁▁▁▁▁▁▁▁▁▁▁▁▁▁▁▁</td></tr><tr><td>train_acc</td><td>▁▂▃▃▄▅▆▆▇▇▇▇▇▇▇▇▇▇▇▇█▇▇██████▇████▇██▇█▇</td></tr><tr><td>train_auc</td><td>▁▂▃▄▄▅▄▆▇▇▇▆▇▇▇▇▇▇▇▇█▇▇████████▇███████▇</td></tr><tr><td>train_f1</td><td>▁▂▃▃▃▄▃▂▇▇▆▆▇▅▄▇▄▆▇▅█▆▅▆▇▇▇█▇▆▇▆▇▇▆▇▆▇█▆</td></tr><tr><td>train_loss_epoch</td><td>█▄▃▂▂▂▂▂▁▁▁▁▁▁▁▁▁▁▁▁▁▁▁▁▁▁▁▁▁▁▁▁▁▁▁▁▁▁▁▁</td></tr><tr><td>train_loss_step</td><td>█▄▃▄▂▂▃▂▂▂▂▃▁▂▁▁▁▁▂▁▂▂▁▁▂</td></tr><tr><td>trainer/global_step</td><td>▁▁▁▁▂▁▂▁▂▂▃▃▃▃▄▄▂▄▂▄▂▅▃▅▃▆▆▆▃▃▇▇▇▃▇▄█▄█▄</td></tr><tr><td>val_acc</td><td>▄▁▁▁▁▂▅▄▄▅▄▅▅▇▆▆▇▆▇█▆▇██▇█▇████████▇█▇██</td></tr><tr><td>val_auc</td><td>▁▅▅▅▆▇▇▇████████████████████████████████</td></tr><tr><td>val_f1</td><td>▁▆▆▆▆▆▇▇▇▇▇▇▇█▇▇████▇███▇███████████████</td></tr><tr><td>val_loss_epoch</td><td>▅▆█▆▇▅▄▄▅▃▆▄▄▃▃▄▂▂▃▂▂▂▂▂▁▂▂▃▂▃▁▂▂▃▂▂▃▂▃▂</td></tr><tr><td>val_loss_step</td><td>▅▅█▅▆▅▄▂▄▅▅▄▃▃▃▂▂▁▃▂▃▁▂▂▂▁▂▂▁▄▂▂▂▅▂▂▃▁▂▃</td></tr></table><br/></div><div class=\"wandb-col\"><h3>Run summary:</h3><br/><table class=\"wandb\"><tr><td>epoch</td><td>49</td></tr><tr><td>lr-Adam</td><td>0.005</td></tr><tr><td>train_acc</td><td>0.72085</td></tr><tr><td>train_auc</td><td>0.73161</td></tr><tr><td>train_f1</td><td>0.53552</td></tr><tr><td>train_loss_epoch</td><td>0.54569</td></tr><tr><td>train_loss_step</td><td>0.60267</td></tr><tr><td>trainer/global_step</td><td>249</td></tr><tr><td>val_acc</td><td>0.75987</td></tr><tr><td>val_auc</td><td>0.7946</td></tr><tr><td>val_f1</td><td>0.74386</td></tr><tr><td>val_loss_epoch</td><td>0.58659</td></tr><tr><td>val_loss_step</td><td>0.6178</td></tr></table><br/></div></div>"
      ],
      "text/plain": [
       "<IPython.core.display.HTML object>"
      ]
     },
     "metadata": {},
     "output_type": "display_data"
    },
    {
     "data": {
      "text/html": [
       " View run <strong style=\"color:#cdcd00\">GAT_4_16_onehot_4</strong> at: <a href='https://wandb.ai/thoomas/PLA_01102024_5PPI_Kfold/runs/7nl100qt' target=\"_blank\">https://wandb.ai/thoomas/PLA_01102024_5PPI_Kfold/runs/7nl100qt</a><br/>Synced 6 W&B file(s), 0 media file(s), 0 artifact file(s) and 0 other file(s)"
      ],
      "text/plain": [
       "<IPython.core.display.HTML object>"
      ]
     },
     "metadata": {},
     "output_type": "display_data"
    },
    {
     "data": {
      "text/html": [
       "Find logs at: <code>.\\wandb\\run-20240113_041248-7nl100qt\\logs</code>"
      ],
      "text/plain": [
       "<IPython.core.display.HTML object>"
      ]
     },
     "metadata": {},
     "output_type": "display_data"
    },
    {
     "data": {
      "application/vnd.jupyter.widget-view+json": {
       "model_id": "349bfa2b82434e89b423f3cf8656e9b0",
       "version_major": 2,
       "version_minor": 0
      },
      "text/plain": [
       "VBox(children=(Label(value='Waiting for wandb.init()...\\r'), FloatProgress(value=0.016666666666666666, max=1.0…"
      ]
     },
     "metadata": {},
     "output_type": "display_data"
    },
    {
     "data": {
      "text/html": [
       "wandb version 0.16.2 is available!  To upgrade, please run:\n",
       " $ pip install wandb --upgrade"
      ],
      "text/plain": [
       "<IPython.core.display.HTML object>"
      ]
     },
     "metadata": {},
     "output_type": "display_data"
    },
    {
     "data": {
      "text/html": [
       "Tracking run with wandb version 0.14.0"
      ],
      "text/plain": [
       "<IPython.core.display.HTML object>"
      ]
     },
     "metadata": {},
     "output_type": "display_data"
    },
    {
     "data": {
      "text/html": [
       "Run data is saved locally in <code>y:\\coskun-lab\\Thomas\\23_PLA_revision\\notebooks\\wandb\\run-20240113_042808-ioromlxl</code>"
      ],
      "text/plain": [
       "<IPython.core.display.HTML object>"
      ]
     },
     "metadata": {},
     "output_type": "display_data"
    },
    {
     "data": {
      "text/html": [
       "Syncing run <strong><a href='https://wandb.ai/thoomas/PLA_01102024_5PPI_Kfold/runs/ioromlxl' target=\"_blank\">GAT_4_16_onehot_4</a></strong> to <a href='https://wandb.ai/thoomas/PLA_01102024_5PPI_Kfold' target=\"_blank\">Weights & Biases</a> (<a href='https://wandb.me/run' target=\"_blank\">docs</a>)<br/>"
      ],
      "text/plain": [
       "<IPython.core.display.HTML object>"
      ]
     },
     "metadata": {},
     "output_type": "display_data"
    },
    {
     "data": {
      "text/html": [
       " View project at <a href='https://wandb.ai/thoomas/PLA_01102024_5PPI_Kfold' target=\"_blank\">https://wandb.ai/thoomas/PLA_01102024_5PPI_Kfold</a>"
      ],
      "text/plain": [
       "<IPython.core.display.HTML object>"
      ]
     },
     "metadata": {},
     "output_type": "display_data"
    },
    {
     "data": {
      "text/html": [
       " View run at <a href='https://wandb.ai/thoomas/PLA_01102024_5PPI_Kfold/runs/ioromlxl' target=\"_blank\">https://wandb.ai/thoomas/PLA_01102024_5PPI_Kfold/runs/ioromlxl</a>"
      ],
      "text/plain": [
       "<IPython.core.display.HTML object>"
      ]
     },
     "metadata": {},
     "output_type": "display_data"
    },
    {
     "name": "stderr",
     "output_type": "stream",
     "text": [
      "Global seed set to 42\n",
      "GPU available: True (cuda), used: True\n",
      "TPU available: False, using: 0 TPU cores\n",
      "IPU available: False, using: 0 IPUs\n",
      "HPU available: False, using: 0 HPUs\n",
      "Global seed set to 42\n",
      "LOCAL_RANK: 0 - CUDA_VISIBLE_DEVICES: [0,1]\n",
      "\n",
      "   | Name        | Type             | Params\n",
      "--------------------------------------------------\n",
      "0  | x_embedding | Identity         | 0     \n",
      "1  | model       | GAT              | 6.3 K \n",
      "2  | head        | Sequential       | 154   \n",
      "3  | loss_module | CrossEntropyLoss | 0     \n",
      "4  | train_acc   | BinaryAccuracy   | 0     \n",
      "5  | train_auroc | BinaryAUROC      | 0     \n",
      "6  | train_f1    | BinaryF1Score    | 0     \n",
      "7  | valid_acc   | BinaryAccuracy   | 0     \n",
      "8  | valid_auroc | BinaryAUROC      | 0     \n",
      "9  | valid_f1    | BinaryF1Score    | 0     \n",
      "10 | pool        | GlobalAttention  | 17    \n",
      "--------------------------------------------------\n",
      "6.5 K     Trainable params\n",
      "0         Non-trainable params\n",
      "6.5 K     Total params\n",
      "0.026     Total estimated model params size (MB)\n"
     ]
    },
    {
     "name": "stdout",
     "output_type": "stream",
     "text": [
      "Using GAT\n"
     ]
    },
    {
     "name": "stderr",
     "output_type": "stream",
     "text": [
      "`Trainer.fit` stopped: `max_epochs=50` reached.\n"
     ]
    },
    {
     "data": {
      "text/html": [
       "Waiting for W&B process to finish... <strong style=\"color:green\">(success).</strong>"
      ],
      "text/plain": [
       "<IPython.core.display.HTML object>"
      ]
     },
     "metadata": {},
     "output_type": "display_data"
    },
    {
     "data": {
      "application/vnd.jupyter.widget-view+json": {
       "model_id": "8a14b2e9c0844e42a392b4e987f45273",
       "version_major": 2,
       "version_minor": 0
      },
      "text/plain": [
       "VBox(children=(Label(value='0.001 MB of 0.001 MB uploaded (0.000 MB deduped)\\r'), FloatProgress(value=1.0, max…"
      ]
     },
     "metadata": {},
     "output_type": "display_data"
    },
    {
     "data": {
      "text/html": [
       "<style>\n",
       "    table.wandb td:nth-child(1) { padding: 0 10px; text-align: left ; width: auto;} td:nth-child(2) {text-align: left ; width: 100%}\n",
       "    .wandb-row { display: flex; flex-direction: row; flex-wrap: wrap; justify-content: flex-start; width: 100% }\n",
       "    .wandb-col { display: flex; flex-direction: column; flex-basis: 100%; flex: 1; padding: 10px; }\n",
       "    </style>\n",
       "<div class=\"wandb-row\"><div class=\"wandb-col\"><h3>Run history:</h3><br/><table class=\"wandb\"><tr><td>epoch</td><td>▁▁▁▁▂▂▂▂▂▃▃▃▃▃▃▄▄▄▄▄▅▅▅▅▅▅▆▆▆▆▆▇▇▇▇▇▇███</td></tr><tr><td>lr-Adam</td><td>▁▁▁▁▁▁▁▁▁▁▁▁▁▁▁▁▁▁▁▁▁▁▁▁▁▁▁▁▁▁▁▁▁▁▁▁▁▁▁▁</td></tr><tr><td>train_acc</td><td>▁▄▅▅▅▅▅▇▇█▇▇▇▇████▇██▇▇▇████▇▇▇▇▇███▇▇▇█</td></tr><tr><td>train_auc</td><td>▁▁▁▂▄▅▅▇▇▇▇▇▇▇█▇█▇▇▇▇▇▇███████▇████▇████</td></tr><tr><td>train_f1</td><td>▆▂▂▁▁▁▃▆▇█▇█▇▇████▇▇█▇▇▇█▇▇█▇▇▇█▇▇██▇▇▇█</td></tr><tr><td>train_loss_epoch</td><td>█▇▇▆▅▄▄▃▃▂▃▂▂▂▂▂▁▂▂▂▂▂▂▁▁▂▁▂▁▁▂▁▁▁▁▂▁▁▁▁</td></tr><tr><td>train_loss_step</td><td>█▆▄▄▄▂▃▄▃▃▂▆▂▂▃▄▃▃▂▂▁▂▃▁▂</td></tr><tr><td>trainer/global_step</td><td>▁▁▁▁▂▁▂▁▂▂▃▃▃▃▄▄▂▄▂▄▂▅▃▅▃▆▆▆▃▃▇▇▇▃▇▄█▄█▄</td></tr><tr><td>val_acc</td><td>▃▃▃▃▃▇▅▃▁▂▂▃▅▆▆▆▅▆▇▆▆▇█▇▇▇▇▇█▇▆▆▅▄▄▆▅▅▅▅</td></tr><tr><td>val_auc</td><td>▁▁▅█████████████████████████████████████</td></tr><tr><td>val_f1</td><td>▁▁▁▁▁▆██▇▇▇▇████████████████████████████</td></tr><tr><td>val_loss_epoch</td><td>▆▇▇▆▆▆▅▆██▇▆▃▃▅▄▂▂▂▂▄▃▃▃▂▄▃▂▁▃▁▃▃▄▇▃▅▅▅▄</td></tr><tr><td>val_loss_step</td><td>▆▆▆▆▅▅▅▆█▆▇▇▄▃▇▃▄▁▂▄▃▃▅▃▃▅▂▂▁▄▃▃▃▃▄▃▆▆▄▅</td></tr></table><br/></div><div class=\"wandb-col\"><h3>Run summary:</h3><br/><table class=\"wandb\"><tr><td>epoch</td><td>49</td></tr><tr><td>lr-Adam</td><td>0.005</td></tr><tr><td>train_acc</td><td>0.7266</td></tr><tr><td>train_auc</td><td>0.78169</td></tr><tr><td>train_f1</td><td>0.56242</td></tr><tr><td>train_loss_epoch</td><td>0.53906</td></tr><tr><td>train_loss_step</td><td>0.52736</td></tr><tr><td>trainer/global_step</td><td>249</td></tr><tr><td>val_acc</td><td>0.63816</td></tr><tr><td>val_auc</td><td>0.75934</td></tr><tr><td>val_f1</td><td>0.67456</td></tr><tr><td>val_loss_epoch</td><td>0.64126</td></tr><tr><td>val_loss_step</td><td>0.65787</td></tr></table><br/></div></div>"
      ],
      "text/plain": [
       "<IPython.core.display.HTML object>"
      ]
     },
     "metadata": {},
     "output_type": "display_data"
    },
    {
     "data": {
      "text/html": [
       " View run <strong style=\"color:#cdcd00\">GAT_4_16_onehot_4</strong> at: <a href='https://wandb.ai/thoomas/PLA_01102024_5PPI_Kfold/runs/ioromlxl' target=\"_blank\">https://wandb.ai/thoomas/PLA_01102024_5PPI_Kfold/runs/ioromlxl</a><br/>Synced 6 W&B file(s), 0 media file(s), 0 artifact file(s) and 0 other file(s)"
      ],
      "text/plain": [
       "<IPython.core.display.HTML object>"
      ]
     },
     "metadata": {},
     "output_type": "display_data"
    },
    {
     "data": {
      "text/html": [
       "Find logs at: <code>.\\wandb\\run-20240113_042808-ioromlxl\\logs</code>"
      ],
      "text/plain": [
       "<IPython.core.display.HTML object>"
      ]
     },
     "metadata": {},
     "output_type": "display_data"
    },
    {
     "data": {
      "application/vnd.jupyter.widget-view+json": {
       "model_id": "01228cc26fe14e2ebee4909312505dc2",
       "version_major": 2,
       "version_minor": 0
      },
      "text/plain": [
       "VBox(children=(Label(value='Waiting for wandb.init()...\\r'), FloatProgress(value=0.01693333333435779, max=1.0)…"
      ]
     },
     "metadata": {},
     "output_type": "display_data"
    },
    {
     "data": {
      "text/html": [
       "wandb version 0.16.2 is available!  To upgrade, please run:\n",
       " $ pip install wandb --upgrade"
      ],
      "text/plain": [
       "<IPython.core.display.HTML object>"
      ]
     },
     "metadata": {},
     "output_type": "display_data"
    },
    {
     "data": {
      "text/html": [
       "Tracking run with wandb version 0.14.0"
      ],
      "text/plain": [
       "<IPython.core.display.HTML object>"
      ]
     },
     "metadata": {},
     "output_type": "display_data"
    },
    {
     "data": {
      "text/html": [
       "Run data is saved locally in <code>y:\\coskun-lab\\Thomas\\23_PLA_revision\\notebooks\\wandb\\run-20240113_044408-27vdghdd</code>"
      ],
      "text/plain": [
       "<IPython.core.display.HTML object>"
      ]
     },
     "metadata": {},
     "output_type": "display_data"
    },
    {
     "data": {
      "text/html": [
       "Syncing run <strong><a href='https://wandb.ai/thoomas/PLA_01102024_5PPI_Kfold/runs/27vdghdd' target=\"_blank\">GAT_4_16_onehot_4</a></strong> to <a href='https://wandb.ai/thoomas/PLA_01102024_5PPI_Kfold' target=\"_blank\">Weights & Biases</a> (<a href='https://wandb.me/run' target=\"_blank\">docs</a>)<br/>"
      ],
      "text/plain": [
       "<IPython.core.display.HTML object>"
      ]
     },
     "metadata": {},
     "output_type": "display_data"
    },
    {
     "data": {
      "text/html": [
       " View project at <a href='https://wandb.ai/thoomas/PLA_01102024_5PPI_Kfold' target=\"_blank\">https://wandb.ai/thoomas/PLA_01102024_5PPI_Kfold</a>"
      ],
      "text/plain": [
       "<IPython.core.display.HTML object>"
      ]
     },
     "metadata": {},
     "output_type": "display_data"
    },
    {
     "data": {
      "text/html": [
       " View run at <a href='https://wandb.ai/thoomas/PLA_01102024_5PPI_Kfold/runs/27vdghdd' target=\"_blank\">https://wandb.ai/thoomas/PLA_01102024_5PPI_Kfold/runs/27vdghdd</a>"
      ],
      "text/plain": [
       "<IPython.core.display.HTML object>"
      ]
     },
     "metadata": {},
     "output_type": "display_data"
    },
    {
     "name": "stderr",
     "output_type": "stream",
     "text": [
      "Global seed set to 42\n",
      "GPU available: True (cuda), used: True\n",
      "TPU available: False, using: 0 TPU cores\n",
      "IPU available: False, using: 0 IPUs\n",
      "HPU available: False, using: 0 HPUs\n",
      "Global seed set to 42\n",
      "LOCAL_RANK: 0 - CUDA_VISIBLE_DEVICES: [0,1]\n",
      "\n",
      "   | Name        | Type             | Params\n",
      "--------------------------------------------------\n",
      "0  | x_embedding | Identity         | 0     \n",
      "1  | model       | GAT              | 6.3 K \n",
      "2  | head        | Sequential       | 154   \n",
      "3  | loss_module | CrossEntropyLoss | 0     \n",
      "4  | train_acc   | BinaryAccuracy   | 0     \n",
      "5  | train_auroc | BinaryAUROC      | 0     \n",
      "6  | train_f1    | BinaryF1Score    | 0     \n",
      "7  | valid_acc   | BinaryAccuracy   | 0     \n",
      "8  | valid_auroc | BinaryAUROC      | 0     \n",
      "9  | valid_f1    | BinaryF1Score    | 0     \n",
      "10 | pool        | Attention_module | 281   \n",
      "--------------------------------------------------\n",
      "6.8 K     Trainable params\n",
      "0         Non-trainable params\n",
      "6.8 K     Total params\n",
      "0.027     Total estimated model params size (MB)\n"
     ]
    },
    {
     "name": "stdout",
     "output_type": "stream",
     "text": [
      "Using GAT\n"
     ]
    },
    {
     "name": "stderr",
     "output_type": "stream",
     "text": [
      "`Trainer.fit` stopped: `max_epochs=50` reached.\n"
     ]
    },
    {
     "data": {
      "text/html": [
       "Waiting for W&B process to finish... <strong style=\"color:green\">(success).</strong>"
      ],
      "text/plain": [
       "<IPython.core.display.HTML object>"
      ]
     },
     "metadata": {},
     "output_type": "display_data"
    },
    {
     "data": {
      "application/vnd.jupyter.widget-view+json": {
       "model_id": "7454043e77c44061abb4c2336b053914",
       "version_major": 2,
       "version_minor": 0
      },
      "text/plain": [
       "VBox(children=(Label(value='0.001 MB of 0.001 MB uploaded (0.000 MB deduped)\\r'), FloatProgress(value=1.0, max…"
      ]
     },
     "metadata": {},
     "output_type": "display_data"
    },
    {
     "data": {
      "text/html": [
       "<style>\n",
       "    table.wandb td:nth-child(1) { padding: 0 10px; text-align: left ; width: auto;} td:nth-child(2) {text-align: left ; width: 100%}\n",
       "    .wandb-row { display: flex; flex-direction: row; flex-wrap: wrap; justify-content: flex-start; width: 100% }\n",
       "    .wandb-col { display: flex; flex-direction: column; flex-basis: 100%; flex: 1; padding: 10px; }\n",
       "    </style>\n",
       "<div class=\"wandb-row\"><div class=\"wandb-col\"><h3>Run history:</h3><br/><table class=\"wandb\"><tr><td>epoch</td><td>▁▁▁▁▂▂▂▂▂▃▃▃▃▃▃▄▄▄▄▄▅▅▅▅▅▅▆▆▆▆▆▇▇▇▇▇▇███</td></tr><tr><td>lr-Adam</td><td>▁▁▁▁▁▁▁▁▁▁▁▁▁▁▁▁▁▁▁▁▁▁▁▁▁▁▁▁▁▁▁▁▁▁▁▁▁▁▁▁</td></tr><tr><td>train_acc</td><td>▁▄▅▅▆▆▆▇▇▇▇▇▇▇▇▇███▇█▇███▇▇████▇▇▇▇▇██▇▇</td></tr><tr><td>train_auc</td><td>▁▂▃▂▅▅▆▇▇▇▇▇▇▇▇▇▇▇▇▇▇▇▇█▇▇▇▇███▇▇██▇██▇█</td></tr><tr><td>train_f1</td><td>▅▃▁▁▂▃▅▇██▇▇▇▇▇▇▇▇▇▇▇▇▇▇█▇▇▇▇██▆▇▆▇▇▇▇▇▇</td></tr><tr><td>train_loss_epoch</td><td>█▆▆▆▅▄▄▃▃▃▃▃▂▂▃▂▂▂▂▂▂▂▂▂▂▂▂▂▁▂▁▂▂▂▂▂▂▂▂▂</td></tr><tr><td>train_loss_step</td><td>▇█▄▃▄▁▅▂▅▂▄▁▂▁▁▂▁▂▂▄▅▄▄▃▃</td></tr><tr><td>trainer/global_step</td><td>▁▁▁▁▂▁▂▁▂▂▃▃▃▃▄▄▂▄▂▄▂▅▃▅▃▆▆▆▃▃▇▇▇▃▇▄█▄█▄</td></tr><tr><td>val_acc</td><td>▁▁▁▁▄▄▁▃▄▅▅▅▆▆▇▆▇▇██▆▆▅▆▆▆▅▅▇▇▇█▇█▅▅▇▆▆▇</td></tr><tr><td>val_auc</td><td>▁▁▅█████████████████████████████████████</td></tr><tr><td>val_f1</td><td>▁▁▁▁▄█████████████████████████▇▇▇███████</td></tr><tr><td>val_loss_epoch</td><td>███▇▇▇▇▆▅▅▄▆▅▄▂▃▂▅▁▃▄▄▅▄▃▃▅▃▄▂▃▂▃▃▄▄▂▄▃▄</td></tr><tr><td>val_loss_step</td><td>▇▇█▇▇▆▇▇▅▄▄▇▄▅▂▄▄▇▁▄▄▅▆▄▄▄▅▃▆▂▃▃▄▅▄▄▃▅▄▅</td></tr></table><br/></div><div class=\"wandb-col\"><h3>Run summary:</h3><br/><table class=\"wandb\"><tr><td>epoch</td><td>49</td></tr><tr><td>lr-Adam</td><td>0.005</td></tr><tr><td>train_acc</td><td>0.71264</td></tr><tr><td>train_auc</td><td>0.77791</td></tr><tr><td>train_f1</td><td>0.52575</td></tr><tr><td>train_loss_epoch</td><td>0.54647</td></tr><tr><td>train_loss_step</td><td>0.5617</td></tr><tr><td>trainer/global_step</td><td>249</td></tr><tr><td>val_acc</td><td>0.69408</td></tr><tr><td>val_auc</td><td>0.77125</td></tr><tr><td>val_f1</td><td>0.69903</td></tr><tr><td>val_loss_epoch</td><td>0.60244</td></tr><tr><td>val_loss_step</td><td>0.61779</td></tr></table><br/></div></div>"
      ],
      "text/plain": [
       "<IPython.core.display.HTML object>"
      ]
     },
     "metadata": {},
     "output_type": "display_data"
    },
    {
     "data": {
      "text/html": [
       " View run <strong style=\"color:#cdcd00\">GAT_4_16_onehot_4</strong> at: <a href='https://wandb.ai/thoomas/PLA_01102024_5PPI_Kfold/runs/27vdghdd' target=\"_blank\">https://wandb.ai/thoomas/PLA_01102024_5PPI_Kfold/runs/27vdghdd</a><br/>Synced 6 W&B file(s), 0 media file(s), 0 artifact file(s) and 0 other file(s)"
      ],
      "text/plain": [
       "<IPython.core.display.HTML object>"
      ]
     },
     "metadata": {},
     "output_type": "display_data"
    },
    {
     "data": {
      "text/html": [
       "Find logs at: <code>.\\wandb\\run-20240113_044408-27vdghdd\\logs</code>"
      ],
      "text/plain": [
       "<IPython.core.display.HTML object>"
      ]
     },
     "metadata": {},
     "output_type": "display_data"
    },
    {
     "data": {
      "application/vnd.jupyter.widget-view+json": {
       "model_id": "81256d47c537430285d5de485c61032f",
       "version_major": 2,
       "version_minor": 0
      },
      "text/plain": [
       "VBox(children=(Label(value='Waiting for wandb.init()...\\r'), FloatProgress(value=0.016666666666666666, max=1.0…"
      ]
     },
     "metadata": {},
     "output_type": "display_data"
    },
    {
     "data": {
      "text/html": [
       "wandb version 0.16.2 is available!  To upgrade, please run:\n",
       " $ pip install wandb --upgrade"
      ],
      "text/plain": [
       "<IPython.core.display.HTML object>"
      ]
     },
     "metadata": {},
     "output_type": "display_data"
    },
    {
     "data": {
      "text/html": [
       "Tracking run with wandb version 0.14.0"
      ],
      "text/plain": [
       "<IPython.core.display.HTML object>"
      ]
     },
     "metadata": {},
     "output_type": "display_data"
    },
    {
     "data": {
      "text/html": [
       "Run data is saved locally in <code>y:\\coskun-lab\\Thomas\\23_PLA_revision\\notebooks\\wandb\\run-20240113_050217-3yszn5sb</code>"
      ],
      "text/plain": [
       "<IPython.core.display.HTML object>"
      ]
     },
     "metadata": {},
     "output_type": "display_data"
    },
    {
     "data": {
      "text/html": [
       "Syncing run <strong><a href='https://wandb.ai/thoomas/PLA_01102024_5PPI_Kfold/runs/3yszn5sb' target=\"_blank\">GAT_4_32_onehot_4</a></strong> to <a href='https://wandb.ai/thoomas/PLA_01102024_5PPI_Kfold' target=\"_blank\">Weights & Biases</a> (<a href='https://wandb.me/run' target=\"_blank\">docs</a>)<br/>"
      ],
      "text/plain": [
       "<IPython.core.display.HTML object>"
      ]
     },
     "metadata": {},
     "output_type": "display_data"
    },
    {
     "data": {
      "text/html": [
       " View project at <a href='https://wandb.ai/thoomas/PLA_01102024_5PPI_Kfold' target=\"_blank\">https://wandb.ai/thoomas/PLA_01102024_5PPI_Kfold</a>"
      ],
      "text/plain": [
       "<IPython.core.display.HTML object>"
      ]
     },
     "metadata": {},
     "output_type": "display_data"
    },
    {
     "data": {
      "text/html": [
       " View run at <a href='https://wandb.ai/thoomas/PLA_01102024_5PPI_Kfold/runs/3yszn5sb' target=\"_blank\">https://wandb.ai/thoomas/PLA_01102024_5PPI_Kfold/runs/3yszn5sb</a>"
      ],
      "text/plain": [
       "<IPython.core.display.HTML object>"
      ]
     },
     "metadata": {},
     "output_type": "display_data"
    },
    {
     "name": "stderr",
     "output_type": "stream",
     "text": [
      "Global seed set to 42\n",
      "GPU available: True (cuda), used: True\n",
      "TPU available: False, using: 0 TPU cores\n",
      "IPU available: False, using: 0 IPUs\n",
      "HPU available: False, using: 0 HPUs\n",
      "Global seed set to 42\n",
      "LOCAL_RANK: 0 - CUDA_VISIBLE_DEVICES: [0,1]\n",
      "\n",
      "  | Name        | Type             | Params\n",
      "-------------------------------------------------\n",
      "0 | x_embedding | Identity         | 0     \n",
      "1 | model       | GAT              | 22.9 K\n",
      "2 | head        | Sequential       | 562   \n",
      "3 | loss_module | CrossEntropyLoss | 0     \n",
      "4 | train_acc   | BinaryAccuracy   | 0     \n",
      "5 | train_auroc | BinaryAUROC      | 0     \n",
      "6 | train_f1    | BinaryF1Score    | 0     \n",
      "7 | valid_acc   | BinaryAccuracy   | 0     \n",
      "8 | valid_auroc | BinaryAUROC      | 0     \n",
      "9 | valid_f1    | BinaryF1Score    | 0     \n",
      "-------------------------------------------------\n",
      "23.4 K    Trainable params\n",
      "0         Non-trainable params\n",
      "23.4 K    Total params\n",
      "0.094     Total estimated model params size (MB)\n"
     ]
    },
    {
     "name": "stdout",
     "output_type": "stream",
     "text": [
      "Using GAT\n"
     ]
    },
    {
     "name": "stderr",
     "output_type": "stream",
     "text": [
      "`Trainer.fit` stopped: `max_epochs=50` reached.\n"
     ]
    },
    {
     "data": {
      "text/html": [
       "Waiting for W&B process to finish... <strong style=\"color:green\">(success).</strong>"
      ],
      "text/plain": [
       "<IPython.core.display.HTML object>"
      ]
     },
     "metadata": {},
     "output_type": "display_data"
    },
    {
     "data": {
      "application/vnd.jupyter.widget-view+json": {
       "model_id": "c87a49649e21402092755ceba7bf9d85",
       "version_major": 2,
       "version_minor": 0
      },
      "text/plain": [
       "VBox(children=(Label(value='0.001 MB of 0.001 MB uploaded (0.000 MB deduped)\\r'), FloatProgress(value=1.0, max…"
      ]
     },
     "metadata": {},
     "output_type": "display_data"
    },
    {
     "data": {
      "text/html": [
       "<style>\n",
       "    table.wandb td:nth-child(1) { padding: 0 10px; text-align: left ; width: auto;} td:nth-child(2) {text-align: left ; width: 100%}\n",
       "    .wandb-row { display: flex; flex-direction: row; flex-wrap: wrap; justify-content: flex-start; width: 100% }\n",
       "    .wandb-col { display: flex; flex-direction: column; flex-basis: 100%; flex: 1; padding: 10px; }\n",
       "    </style>\n",
       "<div class=\"wandb-row\"><div class=\"wandb-col\"><h3>Run history:</h3><br/><table class=\"wandb\"><tr><td>epoch</td><td>▁▁▁▁▂▂▂▂▂▃▃▃▃▃▃▄▄▄▄▄▅▅▅▅▅▅▆▆▆▆▆▇▇▇▇▇▇███</td></tr><tr><td>lr-Adam</td><td>▁▁▁▁▁▁▁▁▁▁▁▁▁▁▁▁▁▁▁▁▁▁▁▁▁▁▁▁▁▁▁▁▁▁▁▁▁▁▁▁</td></tr><tr><td>train_acc</td><td>▁▃▃▄▆▇▆▆▇▇▇▇▇▆▇▇▆▇▇▇██▇▇▇█▇▇█▇██▇█▇▇▇█▇▇</td></tr><tr><td>train_auc</td><td>▁▂▄▅▆▇▇▇█▇▇▇▇▇█▇▇█▇███▇▇██▇███▇█████████</td></tr><tr><td>train_f1</td><td>▄▁▁▃▇██▇██▇▇█▇██▆▇█▇███▇███▇████▇██▇██▇█</td></tr><tr><td>train_loss_epoch</td><td>█▇▆▆▄▄▄▃▂▂▂▂▃▂▂▂▂▂▂▂▂▂▂▂▁▁▂▂▂▂▃▂▁▁▂▂▂▂▂▂</td></tr><tr><td>train_loss_step</td><td>█▆▅▆▄▄▇▆▃▁▃▄▃▄▂▇▅▁▅▄▅▃▆▆▂</td></tr><tr><td>trainer/global_step</td><td>▁▁▁▁▂▁▂▁▂▂▃▃▃▃▄▄▂▄▂▄▂▅▃▅▃▆▆▆▃▃▇▇▇▃▇▄█▄█▄</td></tr><tr><td>val_acc</td><td>▅▅▅▅▁▁▃▅▆▇▇▇▇▇█▆▇▆▆█▇▇████▇▇▆▇▇▇▆▅▇▇▇▆▇█</td></tr><tr><td>val_auc</td><td>▂▆▆▄▄▁▁▅▇▇▇██████▇▇█▆▆▅▅▂▂▆▆▅▆▆▅▇▆▆▇▇▇▇▆</td></tr><tr><td>val_f1</td><td>▁▁▁█▇▇▇█████████████████████████████████</td></tr><tr><td>val_loss_epoch</td><td>▅▄▄▅▆█▅▄▄▄▂▄▃▁▁▄▃▄▃▂▂▃▁▂▄▄▄▃▃▄▄▂▄█▁▂▄▄▄▄</td></tr><tr><td>val_loss_step</td><td>▄▄▄▄▅▆▄▄▃▃▃▄▃▂▁▃▃▄▃▃▃▃▂▃▃▅▃▄▂▅▄▃▄█▃▃▄▄▃▅</td></tr></table><br/></div><div class=\"wandb-col\"><h3>Run summary:</h3><br/><table class=\"wandb\"><tr><td>epoch</td><td>49</td></tr><tr><td>lr-Adam</td><td>0.005</td></tr><tr><td>train_acc</td><td>0.72496</td></tr><tr><td>train_auc</td><td>0.77818</td></tr><tr><td>train_f1</td><td>0.58385</td></tr><tr><td>train_loss_epoch</td><td>0.53798</td></tr><tr><td>train_loss_step</td><td>0.50914</td></tr><tr><td>trainer/global_step</td><td>249</td></tr><tr><td>val_acc</td><td>0.66776</td></tr><tr><td>val_auc</td><td>0.7755</td></tr><tr><td>val_f1</td><td>0.68731</td></tr><tr><td>val_loss_epoch</td><td>0.6563</td></tr><tr><td>val_loss_step</td><td>0.7311</td></tr></table><br/></div></div>"
      ],
      "text/plain": [
       "<IPython.core.display.HTML object>"
      ]
     },
     "metadata": {},
     "output_type": "display_data"
    },
    {
     "data": {
      "text/html": [
       " View run <strong style=\"color:#cdcd00\">GAT_4_32_onehot_4</strong> at: <a href='https://wandb.ai/thoomas/PLA_01102024_5PPI_Kfold/runs/3yszn5sb' target=\"_blank\">https://wandb.ai/thoomas/PLA_01102024_5PPI_Kfold/runs/3yszn5sb</a><br/>Synced 6 W&B file(s), 0 media file(s), 0 artifact file(s) and 0 other file(s)"
      ],
      "text/plain": [
       "<IPython.core.display.HTML object>"
      ]
     },
     "metadata": {},
     "output_type": "display_data"
    },
    {
     "data": {
      "text/html": [
       "Find logs at: <code>.\\wandb\\run-20240113_050217-3yszn5sb\\logs</code>"
      ],
      "text/plain": [
       "<IPython.core.display.HTML object>"
      ]
     },
     "metadata": {},
     "output_type": "display_data"
    },
    {
     "data": {
      "application/vnd.jupyter.widget-view+json": {
       "model_id": "3f89072f59124935be3f37f15077c7e1",
       "version_major": 2,
       "version_minor": 0
      },
      "text/plain": [
       "VBox(children=(Label(value='Waiting for wandb.init()...\\r'), FloatProgress(value=0.016933333330477276, max=1.0…"
      ]
     },
     "metadata": {},
     "output_type": "display_data"
    },
    {
     "data": {
      "text/html": [
       "wandb version 0.16.2 is available!  To upgrade, please run:\n",
       " $ pip install wandb --upgrade"
      ],
      "text/plain": [
       "<IPython.core.display.HTML object>"
      ]
     },
     "metadata": {},
     "output_type": "display_data"
    },
    {
     "data": {
      "text/html": [
       "Tracking run with wandb version 0.14.0"
      ],
      "text/plain": [
       "<IPython.core.display.HTML object>"
      ]
     },
     "metadata": {},
     "output_type": "display_data"
    },
    {
     "data": {
      "text/html": [
       "Run data is saved locally in <code>y:\\coskun-lab\\Thomas\\23_PLA_revision\\notebooks\\wandb\\run-20240113_051810-qe826aqp</code>"
      ],
      "text/plain": [
       "<IPython.core.display.HTML object>"
      ]
     },
     "metadata": {},
     "output_type": "display_data"
    },
    {
     "data": {
      "text/html": [
       "Syncing run <strong><a href='https://wandb.ai/thoomas/PLA_01102024_5PPI_Kfold/runs/qe826aqp' target=\"_blank\">GAT_4_32_onehot_4</a></strong> to <a href='https://wandb.ai/thoomas/PLA_01102024_5PPI_Kfold' target=\"_blank\">Weights & Biases</a> (<a href='https://wandb.me/run' target=\"_blank\">docs</a>)<br/>"
      ],
      "text/plain": [
       "<IPython.core.display.HTML object>"
      ]
     },
     "metadata": {},
     "output_type": "display_data"
    },
    {
     "data": {
      "text/html": [
       " View project at <a href='https://wandb.ai/thoomas/PLA_01102024_5PPI_Kfold' target=\"_blank\">https://wandb.ai/thoomas/PLA_01102024_5PPI_Kfold</a>"
      ],
      "text/plain": [
       "<IPython.core.display.HTML object>"
      ]
     },
     "metadata": {},
     "output_type": "display_data"
    },
    {
     "data": {
      "text/html": [
       " View run at <a href='https://wandb.ai/thoomas/PLA_01102024_5PPI_Kfold/runs/qe826aqp' target=\"_blank\">https://wandb.ai/thoomas/PLA_01102024_5PPI_Kfold/runs/qe826aqp</a>"
      ],
      "text/plain": [
       "<IPython.core.display.HTML object>"
      ]
     },
     "metadata": {},
     "output_type": "display_data"
    },
    {
     "name": "stderr",
     "output_type": "stream",
     "text": [
      "Global seed set to 42\n",
      "GPU available: True (cuda), used: True\n",
      "TPU available: False, using: 0 TPU cores\n",
      "IPU available: False, using: 0 IPUs\n",
      "HPU available: False, using: 0 HPUs\n",
      "Global seed set to 42\n",
      "LOCAL_RANK: 0 - CUDA_VISIBLE_DEVICES: [0,1]\n",
      "\n",
      "  | Name        | Type             | Params\n",
      "-------------------------------------------------\n",
      "0 | x_embedding | Identity         | 0     \n",
      "1 | model       | GAT              | 22.9 K\n",
      "2 | head        | Sequential       | 562   \n",
      "3 | loss_module | CrossEntropyLoss | 0     \n",
      "4 | train_acc   | BinaryAccuracy   | 0     \n",
      "5 | train_auroc | BinaryAUROC      | 0     \n",
      "6 | train_f1    | BinaryF1Score    | 0     \n",
      "7 | valid_acc   | BinaryAccuracy   | 0     \n",
      "8 | valid_auroc | BinaryAUROC      | 0     \n",
      "9 | valid_f1    | BinaryF1Score    | 0     \n",
      "-------------------------------------------------\n",
      "23.4 K    Trainable params\n",
      "0         Non-trainable params\n",
      "23.4 K    Total params\n",
      "0.094     Total estimated model params size (MB)\n"
     ]
    },
    {
     "name": "stdout",
     "output_type": "stream",
     "text": [
      "Using GAT\n"
     ]
    },
    {
     "name": "stderr",
     "output_type": "stream",
     "text": [
      "`Trainer.fit` stopped: `max_epochs=50` reached.\n"
     ]
    },
    {
     "data": {
      "text/html": [
       "Waiting for W&B process to finish... <strong style=\"color:green\">(success).</strong>"
      ],
      "text/plain": [
       "<IPython.core.display.HTML object>"
      ]
     },
     "metadata": {},
     "output_type": "display_data"
    },
    {
     "data": {
      "text/html": [
       "<style>\n",
       "    table.wandb td:nth-child(1) { padding: 0 10px; text-align: left ; width: auto;} td:nth-child(2) {text-align: left ; width: 100%}\n",
       "    .wandb-row { display: flex; flex-direction: row; flex-wrap: wrap; justify-content: flex-start; width: 100% }\n",
       "    .wandb-col { display: flex; flex-direction: column; flex-basis: 100%; flex: 1; padding: 10px; }\n",
       "    </style>\n",
       "<div class=\"wandb-row\"><div class=\"wandb-col\"><h3>Run history:</h3><br/><table class=\"wandb\"><tr><td>epoch</td><td>▁▁▁▁▂▂▂▂▂▃▃▃▃▃▃▄▄▄▄▄▅▅▅▅▅▅▆▆▆▆▆▇▇▇▇▇▇███</td></tr><tr><td>lr-Adam</td><td>▁▁▁▁▁▁▁▁▁▁▁▁▁▁▁▁▁▁▁▁▁▁▁▁▁▁▁▁▁▁▁▁▁▁▁▁▁▁▁▁</td></tr><tr><td>train_acc</td><td>▁▃▃▃▃▃▃▄▃▄▅▆▅▅▅▇▅▆▆▆█▇▆▆▇▇▆▆█▇▇█▇▇▇▇▇█▆█</td></tr><tr><td>train_auc</td><td>▁▁▁▂▄▄▃▄▅▅▅▆▅▆▆▆▆▇▇▇▇▇▆▇▇█▇▇▇█▇███▇▇██▇█</td></tr><tr><td>train_f1</td><td>▄▂▂▂▁▁▁▂▂▄▆▆▆▆▆▇▅▆▇▇█▇▆▆▇▇▇▇█▇▇██▇▇▇██▇█</td></tr><tr><td>train_loss_epoch</td><td>██▇█▆▆▆▆▅▅▅▅▄▄▃▃▃▃▃▃▁▃▄▂▁▁▂▂▁▁▂▂▁▁▁▂▁▁▂▂</td></tr><tr><td>train_loss_step</td><td>█▇▇▇▇▆▇▆▄▄▅▇▂▄▄▆▅▁▅▅▄▄▃▅▃</td></tr><tr><td>trainer/global_step</td><td>▁▁▁▁▂▁▂▁▂▂▃▃▃▃▄▄▂▄▂▄▂▅▃▅▃▆▆▆▃▃▇▇▇▃▇▄█▄█▄</td></tr><tr><td>val_acc</td><td>▁▁▁▁▁▃▅▅▆▆▆▆▇▇▆▇▇▇▇▅▇▇▆▆▇▇▇▇▇▇▇▇▇▇▇▇██▅▅</td></tr><tr><td>val_auc</td><td>▁▄▅▅▅▆▆▆▆▆▆▇▇▇▇▇████████████████████████</td></tr><tr><td>val_f1</td><td>▁▁▁▁▁▄▅▅▆▇█▇█▇▇█▇▇▇▅█▆▅▅▇████▇▇▇▇▇█▇▇▇▅▅</td></tr><tr><td>val_loss_epoch</td><td>█▇█▇▇▇▇▆▆▆▅▅▅▄▂▄▃▂▃▂▃▃▂▂▂▃▄▂▁▃▂▁▁▂▂▂▃▂▂▂</td></tr><tr><td>val_loss_step</td><td>███▇▇▇▇▇▆▆▆▆▅▅▃▄▄▃▅▄▄▅▂▄▃▆▃▄▂▆▄▄▁▄▃▃▆▄▃▃</td></tr></table><br/></div><div class=\"wandb-col\"><h3>Run summary:</h3><br/><table class=\"wandb\"><tr><td>epoch</td><td>49</td></tr><tr><td>lr-Adam</td><td>0.005</td></tr><tr><td>train_acc</td><td>0.71921</td></tr><tr><td>train_auc</td><td>0.75825</td></tr><tr><td>train_f1</td><td>0.5725</td></tr><tr><td>train_loss_epoch</td><td>0.55732</td></tr><tr><td>train_loss_step</td><td>0.53481</td></tr><tr><td>trainer/global_step</td><td>249</td></tr><tr><td>val_acc</td><td>0.65132</td></tr><tr><td>val_auc</td><td>0.76239</td></tr><tr><td>val_f1</td><td>0.41111</td></tr><tr><td>val_loss_epoch</td><td>0.60433</td></tr><tr><td>val_loss_step</td><td>0.59285</td></tr></table><br/></div></div>"
      ],
      "text/plain": [
       "<IPython.core.display.HTML object>"
      ]
     },
     "metadata": {},
     "output_type": "display_data"
    },
    {
     "data": {
      "text/html": [
       " View run <strong style=\"color:#cdcd00\">GAT_4_32_onehot_4</strong> at: <a href='https://wandb.ai/thoomas/PLA_01102024_5PPI_Kfold/runs/qe826aqp' target=\"_blank\">https://wandb.ai/thoomas/PLA_01102024_5PPI_Kfold/runs/qe826aqp</a><br/>Synced 6 W&B file(s), 0 media file(s), 0 artifact file(s) and 0 other file(s)"
      ],
      "text/plain": [
       "<IPython.core.display.HTML object>"
      ]
     },
     "metadata": {},
     "output_type": "display_data"
    },
    {
     "data": {
      "text/html": [
       "Find logs at: <code>.\\wandb\\run-20240113_051810-qe826aqp\\logs</code>"
      ],
      "text/plain": [
       "<IPython.core.display.HTML object>"
      ]
     },
     "metadata": {},
     "output_type": "display_data"
    },
    {
     "data": {
      "application/vnd.jupyter.widget-view+json": {
       "model_id": "5ff311d966684802bbab72654a8c5568",
       "version_major": 2,
       "version_minor": 0
      },
      "text/plain": [
       "VBox(children=(Label(value='Waiting for wandb.init()...\\r'), FloatProgress(value=0.016666666666666666, max=1.0…"
      ]
     },
     "metadata": {},
     "output_type": "display_data"
    },
    {
     "data": {
      "text/html": [
       "wandb version 0.16.2 is available!  To upgrade, please run:\n",
       " $ pip install wandb --upgrade"
      ],
      "text/plain": [
       "<IPython.core.display.HTML object>"
      ]
     },
     "metadata": {},
     "output_type": "display_data"
    },
    {
     "data": {
      "text/html": [
       "Tracking run with wandb version 0.14.0"
      ],
      "text/plain": [
       "<IPython.core.display.HTML object>"
      ]
     },
     "metadata": {},
     "output_type": "display_data"
    },
    {
     "data": {
      "text/html": [
       "Run data is saved locally in <code>y:\\coskun-lab\\Thomas\\23_PLA_revision\\notebooks\\wandb\\run-20240113_053452-azf8es4r</code>"
      ],
      "text/plain": [
       "<IPython.core.display.HTML object>"
      ]
     },
     "metadata": {},
     "output_type": "display_data"
    },
    {
     "data": {
      "text/html": [
       "Syncing run <strong><a href='https://wandb.ai/thoomas/PLA_01102024_5PPI_Kfold/runs/azf8es4r' target=\"_blank\">GAT_4_32_onehot_4</a></strong> to <a href='https://wandb.ai/thoomas/PLA_01102024_5PPI_Kfold' target=\"_blank\">Weights & Biases</a> (<a href='https://wandb.me/run' target=\"_blank\">docs</a>)<br/>"
      ],
      "text/plain": [
       "<IPython.core.display.HTML object>"
      ]
     },
     "metadata": {},
     "output_type": "display_data"
    },
    {
     "data": {
      "text/html": [
       " View project at <a href='https://wandb.ai/thoomas/PLA_01102024_5PPI_Kfold' target=\"_blank\">https://wandb.ai/thoomas/PLA_01102024_5PPI_Kfold</a>"
      ],
      "text/plain": [
       "<IPython.core.display.HTML object>"
      ]
     },
     "metadata": {},
     "output_type": "display_data"
    },
    {
     "data": {
      "text/html": [
       " View run at <a href='https://wandb.ai/thoomas/PLA_01102024_5PPI_Kfold/runs/azf8es4r' target=\"_blank\">https://wandb.ai/thoomas/PLA_01102024_5PPI_Kfold/runs/azf8es4r</a>"
      ],
      "text/plain": [
       "<IPython.core.display.HTML object>"
      ]
     },
     "metadata": {},
     "output_type": "display_data"
    },
    {
     "name": "stderr",
     "output_type": "stream",
     "text": [
      "Global seed set to 42\n",
      "GPU available: True (cuda), used: True\n",
      "TPU available: False, using: 0 TPU cores\n",
      "IPU available: False, using: 0 IPUs\n",
      "HPU available: False, using: 0 HPUs\n",
      "Global seed set to 42\n",
      "LOCAL_RANK: 0 - CUDA_VISIBLE_DEVICES: [0,1]\n",
      "\n",
      "  | Name        | Type             | Params\n",
      "-------------------------------------------------\n",
      "0 | x_embedding | Identity         | 0     \n",
      "1 | model       | GAT              | 22.9 K\n",
      "2 | head        | Sequential       | 562   \n",
      "3 | loss_module | CrossEntropyLoss | 0     \n",
      "4 | train_acc   | BinaryAccuracy   | 0     \n",
      "5 | train_auroc | BinaryAUROC      | 0     \n",
      "6 | train_f1    | BinaryF1Score    | 0     \n",
      "7 | valid_acc   | BinaryAccuracy   | 0     \n",
      "8 | valid_auroc | BinaryAUROC      | 0     \n",
      "9 | valid_f1    | BinaryF1Score    | 0     \n",
      "-------------------------------------------------\n",
      "23.4 K    Trainable params\n",
      "0         Non-trainable params\n",
      "23.4 K    Total params\n",
      "0.094     Total estimated model params size (MB)\n"
     ]
    },
    {
     "name": "stdout",
     "output_type": "stream",
     "text": [
      "Using GAT\n"
     ]
    },
    {
     "name": "stderr",
     "output_type": "stream",
     "text": [
      "`Trainer.fit` stopped: `max_epochs=50` reached.\n"
     ]
    },
    {
     "data": {
      "text/html": [
       "Waiting for W&B process to finish... <strong style=\"color:green\">(success).</strong>"
      ],
      "text/plain": [
       "<IPython.core.display.HTML object>"
      ]
     },
     "metadata": {},
     "output_type": "display_data"
    },
    {
     "data": {
      "application/vnd.jupyter.widget-view+json": {
       "model_id": "4cd9cfd5f939496682c004d5be24d34d",
       "version_major": 2,
       "version_minor": 0
      },
      "text/plain": [
       "VBox(children=(Label(value='0.001 MB of 0.001 MB uploaded (0.000 MB deduped)\\r'), FloatProgress(value=1.0, max…"
      ]
     },
     "metadata": {},
     "output_type": "display_data"
    },
    {
     "data": {
      "text/html": [
       "<style>\n",
       "    table.wandb td:nth-child(1) { padding: 0 10px; text-align: left ; width: auto;} td:nth-child(2) {text-align: left ; width: 100%}\n",
       "    .wandb-row { display: flex; flex-direction: row; flex-wrap: wrap; justify-content: flex-start; width: 100% }\n",
       "    .wandb-col { display: flex; flex-direction: column; flex-basis: 100%; flex: 1; padding: 10px; }\n",
       "    </style>\n",
       "<div class=\"wandb-row\"><div class=\"wandb-col\"><h3>Run history:</h3><br/><table class=\"wandb\"><tr><td>epoch</td><td>▁▁▁▁▂▂▂▂▂▃▃▃▃▃▃▄▄▄▄▄▅▅▅▅▅▅▆▆▆▆▆▇▇▇▇▇▇███</td></tr><tr><td>lr-Adam</td><td>▁▁▁▁▁▁▁▁▁▁▁▁▁▁▁▁▁▁▁▁▁▁▁▁▁▁▁▁▁▁▁▁▁▁▁▁▁▁▁▁</td></tr><tr><td>train_acc</td><td>▁▁▁▃▅▅▆▇▇▇▇▇▇▇▇▇▇▇▇▇███▇█▇███▇████████▇█</td></tr><tr><td>train_auc</td><td>▂▁▂▃▅▅▆▆▇▇▇▇▆▆▆▇▆▆▆▆▆▆▆▆▇▇▆▆▇▇▆▆▇▇▇▇█▆▆▆</td></tr><tr><td>train_f1</td><td>▁▁▂▃▄▅▆▆▇▇▇▇▆▆█▇▆▆▇▇██▇▆█▆▇█▇▇▇▇█▇▇▇█▇▅█</td></tr><tr><td>train_loss_epoch</td><td>█▄▃▂▂▂▂▁▁▁▁▁▁▁▁▁▁▁▁▁▁▁▁▁▁▁▁▁▁▁▁▁▁▁▁▁▁▁▁▁</td></tr><tr><td>train_loss_step</td><td>█▅▂▃▂▂▂▂▂▁▁▂▁▂▂▃▂▁▂▂▂▁▂▁▁</td></tr><tr><td>trainer/global_step</td><td>▁▁▁▁▂▁▂▁▂▂▃▃▃▃▄▄▂▄▂▄▂▅▃▅▃▆▆▆▃▃▇▇▇▃▇▄█▄█▄</td></tr><tr><td>val_acc</td><td>█▅▁▁▂▂▃▄▄▄▄▄▄▄▄▄▄▄▄▅▅▅▅▅▅▅▅▅▅▅▆▆▆▇▇▇▇▇▇▇</td></tr><tr><td>val_auc</td><td>▁▁▄▅▇▇▇▇▇▇██████████████████████████████</td></tr><tr><td>val_f1</td><td>▆▁▇▇▇▇▇▇████████████████████████████████</td></tr><tr><td>val_loss_epoch</td><td>▄▃▄▅▄▆▄▄▅▆▄▆▇▄▄█▄▆▇▅▄▆▄▅█▇▅▆▄▅▄▄▅▄▁▁▂▃▃▅</td></tr><tr><td>val_loss_step</td><td>▃▃▃▆▄▅▂▄▅▆▃▇▄▂▁▅▆▆▆▅▅▅▂▇▆█▅▅▂▅▄▃▃▅▃▄▂▂▄▇</td></tr></table><br/></div><div class=\"wandb-col\"><h3>Run summary:</h3><br/><table class=\"wandb\"><tr><td>epoch</td><td>49</td></tr><tr><td>lr-Adam</td><td>0.005</td></tr><tr><td>train_acc</td><td>0.73645</td></tr><tr><td>train_auc</td><td>0.63376</td></tr><tr><td>train_f1</td><td>0.61279</td></tr><tr><td>train_loss_epoch</td><td>0.52318</td></tr><tr><td>train_loss_step</td><td>0.48482</td></tr><tr><td>trainer/global_step</td><td>249</td></tr><tr><td>val_acc</td><td>0.63487</td></tr><tr><td>val_auc</td><td>0.76842</td></tr><tr><td>val_f1</td><td>0.67449</td></tr><tr><td>val_loss_epoch</td><td>0.73924</td></tr><tr><td>val_loss_step</td><td>0.83841</td></tr></table><br/></div></div>"
      ],
      "text/plain": [
       "<IPython.core.display.HTML object>"
      ]
     },
     "metadata": {},
     "output_type": "display_data"
    },
    {
     "data": {
      "text/html": [
       " View run <strong style=\"color:#cdcd00\">GAT_4_32_onehot_4</strong> at: <a href='https://wandb.ai/thoomas/PLA_01102024_5PPI_Kfold/runs/azf8es4r' target=\"_blank\">https://wandb.ai/thoomas/PLA_01102024_5PPI_Kfold/runs/azf8es4r</a><br/>Synced 6 W&B file(s), 0 media file(s), 0 artifact file(s) and 0 other file(s)"
      ],
      "text/plain": [
       "<IPython.core.display.HTML object>"
      ]
     },
     "metadata": {},
     "output_type": "display_data"
    },
    {
     "data": {
      "text/html": [
       "Find logs at: <code>.\\wandb\\run-20240113_053452-azf8es4r\\logs</code>"
      ],
      "text/plain": [
       "<IPython.core.display.HTML object>"
      ]
     },
     "metadata": {},
     "output_type": "display_data"
    },
    {
     "data": {
      "application/vnd.jupyter.widget-view+json": {
       "model_id": "ff1bac2d50614d1ca61940e362a47da8",
       "version_major": 2,
       "version_minor": 0
      },
      "text/plain": [
       "VBox(children=(Label(value='Waiting for wandb.init()...\\r'), FloatProgress(value=0.016933333330477276, max=1.0…"
      ]
     },
     "metadata": {},
     "output_type": "display_data"
    },
    {
     "data": {
      "text/html": [
       "wandb version 0.16.2 is available!  To upgrade, please run:\n",
       " $ pip install wandb --upgrade"
      ],
      "text/plain": [
       "<IPython.core.display.HTML object>"
      ]
     },
     "metadata": {},
     "output_type": "display_data"
    },
    {
     "data": {
      "text/html": [
       "Tracking run with wandb version 0.14.0"
      ],
      "text/plain": [
       "<IPython.core.display.HTML object>"
      ]
     },
     "metadata": {},
     "output_type": "display_data"
    },
    {
     "data": {
      "text/html": [
       "Run data is saved locally in <code>y:\\coskun-lab\\Thomas\\23_PLA_revision\\notebooks\\wandb\\run-20240113_055353-j65exy4z</code>"
      ],
      "text/plain": [
       "<IPython.core.display.HTML object>"
      ]
     },
     "metadata": {},
     "output_type": "display_data"
    },
    {
     "data": {
      "text/html": [
       "Syncing run <strong><a href='https://wandb.ai/thoomas/PLA_01102024_5PPI_Kfold/runs/j65exy4z' target=\"_blank\">GAT_4_32_onehot_4</a></strong> to <a href='https://wandb.ai/thoomas/PLA_01102024_5PPI_Kfold' target=\"_blank\">Weights & Biases</a> (<a href='https://wandb.me/run' target=\"_blank\">docs</a>)<br/>"
      ],
      "text/plain": [
       "<IPython.core.display.HTML object>"
      ]
     },
     "metadata": {},
     "output_type": "display_data"
    },
    {
     "data": {
      "text/html": [
       " View project at <a href='https://wandb.ai/thoomas/PLA_01102024_5PPI_Kfold' target=\"_blank\">https://wandb.ai/thoomas/PLA_01102024_5PPI_Kfold</a>"
      ],
      "text/plain": [
       "<IPython.core.display.HTML object>"
      ]
     },
     "metadata": {},
     "output_type": "display_data"
    },
    {
     "data": {
      "text/html": [
       " View run at <a href='https://wandb.ai/thoomas/PLA_01102024_5PPI_Kfold/runs/j65exy4z' target=\"_blank\">https://wandb.ai/thoomas/PLA_01102024_5PPI_Kfold/runs/j65exy4z</a>"
      ],
      "text/plain": [
       "<IPython.core.display.HTML object>"
      ]
     },
     "metadata": {},
     "output_type": "display_data"
    },
    {
     "name": "stderr",
     "output_type": "stream",
     "text": [
      "Global seed set to 42\n",
      "GPU available: True (cuda), used: True\n",
      "TPU available: False, using: 0 TPU cores\n",
      "IPU available: False, using: 0 IPUs\n",
      "HPU available: False, using: 0 HPUs\n",
      "Global seed set to 42\n",
      "LOCAL_RANK: 0 - CUDA_VISIBLE_DEVICES: [0,1]\n",
      "\n",
      "   | Name        | Type             | Params\n",
      "--------------------------------------------------\n",
      "0  | x_embedding | Identity         | 0     \n",
      "1  | model       | GAT              | 22.9 K\n",
      "2  | head        | Sequential       | 562   \n",
      "3  | loss_module | CrossEntropyLoss | 0     \n",
      "4  | train_acc   | BinaryAccuracy   | 0     \n",
      "5  | train_auroc | BinaryAUROC      | 0     \n",
      "6  | train_f1    | BinaryF1Score    | 0     \n",
      "7  | valid_acc   | BinaryAccuracy   | 0     \n",
      "8  | valid_auroc | BinaryAUROC      | 0     \n",
      "9  | valid_f1    | BinaryF1Score    | 0     \n",
      "10 | pool        | GlobalAttention  | 33    \n",
      "--------------------------------------------------\n",
      "23.5 K    Trainable params\n",
      "0         Non-trainable params\n",
      "23.5 K    Total params\n",
      "0.094     Total estimated model params size (MB)\n"
     ]
    },
    {
     "name": "stdout",
     "output_type": "stream",
     "text": [
      "Using GAT\n"
     ]
    },
    {
     "name": "stderr",
     "output_type": "stream",
     "text": [
      "`Trainer.fit` stopped: `max_epochs=50` reached.\n"
     ]
    },
    {
     "data": {
      "text/html": [
       "Waiting for W&B process to finish... <strong style=\"color:green\">(success).</strong>"
      ],
      "text/plain": [
       "<IPython.core.display.HTML object>"
      ]
     },
     "metadata": {},
     "output_type": "display_data"
    },
    {
     "data": {
      "application/vnd.jupyter.widget-view+json": {
       "model_id": "ba0515cf56c3444a8fd430d1cc353409",
       "version_major": 2,
       "version_minor": 0
      },
      "text/plain": [
       "VBox(children=(Label(value='0.001 MB of 0.001 MB uploaded (0.000 MB deduped)\\r'), FloatProgress(value=1.0, max…"
      ]
     },
     "metadata": {},
     "output_type": "display_data"
    },
    {
     "data": {
      "text/html": [
       "<style>\n",
       "    table.wandb td:nth-child(1) { padding: 0 10px; text-align: left ; width: auto;} td:nth-child(2) {text-align: left ; width: 100%}\n",
       "    .wandb-row { display: flex; flex-direction: row; flex-wrap: wrap; justify-content: flex-start; width: 100% }\n",
       "    .wandb-col { display: flex; flex-direction: column; flex-basis: 100%; flex: 1; padding: 10px; }\n",
       "    </style>\n",
       "<div class=\"wandb-row\"><div class=\"wandb-col\"><h3>Run history:</h3><br/><table class=\"wandb\"><tr><td>epoch</td><td>▁▁▁▁▂▂▂▂▂▃▃▃▃▃▃▄▄▄▄▄▅▅▅▅▅▅▆▆▆▆▆▇▇▇▇▇▇███</td></tr><tr><td>lr-Adam</td><td>▁▁▁▁▁▁▁▁▁▁▁▁▁▁▁▁▁▁▁▁▁▁▁▁▁▁▁▁▁▁▁▁▁▁▁▁▁▁▁▁</td></tr><tr><td>train_acc</td><td>▁▃▃▄▆▇▇▆▇▇█▇▇▇▇█▆▆▇▇▇▇▇▇▇▇▇▇▇▇▇▇▇▇▇▇▇▇▇▇</td></tr><tr><td>train_auc</td><td>▁▃▅▆▇▇▇▇▇▇██▇███▇████████▇██████████████</td></tr><tr><td>train_f1</td><td>▄▁▁▃▇▇█▇█▇██▇███▇▇▇███▇█▇▇██▇████▇▇█▇▇██</td></tr><tr><td>train_loss_epoch</td><td>█▇▅▅▃▂▂▃▂▂▁▂▂▁▂▂▂▁▂▁▁▁▁▂▂▂▁▁▂▁▂▂▁▂▂▁▂▁▁▁</td></tr><tr><td>train_loss_step</td><td>█▅▅▃▄▅▆▄▄▁▄▃▃▄▃▅▄▃▁▂▅▃▂▂▁</td></tr><tr><td>trainer/global_step</td><td>▁▁▁▁▂▁▂▁▂▂▃▃▃▃▄▄▂▄▂▄▂▅▃▅▃▆▆▆▃▃▇▇▇▃▇▄█▄█▄</td></tr><tr><td>val_acc</td><td>▅▅▅▇▂▁▃▅▅▆▆▆▆▅▅▅▆▆▅▆▆▅▇▆█▇▇▆▆▆▆▆▇▆▇▇█▆▆▇</td></tr><tr><td>val_auc</td><td>▁▅▇▆▃▁▂▆▇▇▆▇▇▅▅▇██▆▆█▇█▇███▇▇▇▇▇▇▇▇▇▇▆▆▅</td></tr><tr><td>val_f1</td><td>▁▁▁█▇▇▇█████████████████████████████████</td></tr><tr><td>val_loss_epoch</td><td>▄▃▃▄▅█▆▄▃▄▄▅▃▃▄▄▅▄▃▄▄▂▁▃▃▃▁▄▂▃▄▃▂▂▂▃▁▂▅▂</td></tr><tr><td>val_loss_step</td><td>▅▅▅▅▆█▇▅▅▅▅▇▄▄▄▆▅▆▄▃▅▁▃▄▃▆▄▅▃▅▄▅▃▃▄▄▃▄▄▃</td></tr></table><br/></div><div class=\"wandb-col\"><h3>Run summary:</h3><br/><table class=\"wandb\"><tr><td>epoch</td><td>49</td></tr><tr><td>lr-Adam</td><td>0.005</td></tr><tr><td>train_acc</td><td>0.7266</td></tr><tr><td>train_auc</td><td>0.78607</td></tr><tr><td>train_f1</td><td>0.57253</td></tr><tr><td>train_loss_epoch</td><td>0.53497</td></tr><tr><td>train_loss_step</td><td>0.51161</td></tr><tr><td>trainer/global_step</td><td>249</td></tr><tr><td>val_acc</td><td>0.62171</td></tr><tr><td>val_auc</td><td>0.77019</td></tr><tr><td>val_f1</td><td>0.66667</td></tr><tr><td>val_loss_epoch</td><td>0.62503</td></tr><tr><td>val_loss_step</td><td>0.60452</td></tr></table><br/></div></div>"
      ],
      "text/plain": [
       "<IPython.core.display.HTML object>"
      ]
     },
     "metadata": {},
     "output_type": "display_data"
    },
    {
     "data": {
      "text/html": [
       " View run <strong style=\"color:#cdcd00\">GAT_4_32_onehot_4</strong> at: <a href='https://wandb.ai/thoomas/PLA_01102024_5PPI_Kfold/runs/j65exy4z' target=\"_blank\">https://wandb.ai/thoomas/PLA_01102024_5PPI_Kfold/runs/j65exy4z</a><br/>Synced 6 W&B file(s), 0 media file(s), 0 artifact file(s) and 0 other file(s)"
      ],
      "text/plain": [
       "<IPython.core.display.HTML object>"
      ]
     },
     "metadata": {},
     "output_type": "display_data"
    },
    {
     "data": {
      "text/html": [
       "Find logs at: <code>.\\wandb\\run-20240113_055353-j65exy4z\\logs</code>"
      ],
      "text/plain": [
       "<IPython.core.display.HTML object>"
      ]
     },
     "metadata": {},
     "output_type": "display_data"
    },
    {
     "data": {
      "application/vnd.jupyter.widget-view+json": {
       "model_id": "8f650655468d4e40a9c92794333c7f7d",
       "version_major": 2,
       "version_minor": 0
      },
      "text/plain": [
       "VBox(children=(Label(value='Waiting for wandb.init()...\\r'), FloatProgress(value=0.01693333333435779, max=1.0)…"
      ]
     },
     "metadata": {},
     "output_type": "display_data"
    },
    {
     "data": {
      "text/html": [
       "wandb version 0.16.2 is available!  To upgrade, please run:\n",
       " $ pip install wandb --upgrade"
      ],
      "text/plain": [
       "<IPython.core.display.HTML object>"
      ]
     },
     "metadata": {},
     "output_type": "display_data"
    },
    {
     "data": {
      "text/html": [
       "Tracking run with wandb version 0.14.0"
      ],
      "text/plain": [
       "<IPython.core.display.HTML object>"
      ]
     },
     "metadata": {},
     "output_type": "display_data"
    },
    {
     "data": {
      "text/html": [
       "Run data is saved locally in <code>y:\\coskun-lab\\Thomas\\23_PLA_revision\\notebooks\\wandb\\run-20240113_061029-54bmy3gk</code>"
      ],
      "text/plain": [
       "<IPython.core.display.HTML object>"
      ]
     },
     "metadata": {},
     "output_type": "display_data"
    },
    {
     "data": {
      "text/html": [
       "Syncing run <strong><a href='https://wandb.ai/thoomas/PLA_01102024_5PPI_Kfold/runs/54bmy3gk' target=\"_blank\">GAT_4_32_onehot_4</a></strong> to <a href='https://wandb.ai/thoomas/PLA_01102024_5PPI_Kfold' target=\"_blank\">Weights & Biases</a> (<a href='https://wandb.me/run' target=\"_blank\">docs</a>)<br/>"
      ],
      "text/plain": [
       "<IPython.core.display.HTML object>"
      ]
     },
     "metadata": {},
     "output_type": "display_data"
    },
    {
     "data": {
      "text/html": [
       " View project at <a href='https://wandb.ai/thoomas/PLA_01102024_5PPI_Kfold' target=\"_blank\">https://wandb.ai/thoomas/PLA_01102024_5PPI_Kfold</a>"
      ],
      "text/plain": [
       "<IPython.core.display.HTML object>"
      ]
     },
     "metadata": {},
     "output_type": "display_data"
    },
    {
     "data": {
      "text/html": [
       " View run at <a href='https://wandb.ai/thoomas/PLA_01102024_5PPI_Kfold/runs/54bmy3gk' target=\"_blank\">https://wandb.ai/thoomas/PLA_01102024_5PPI_Kfold/runs/54bmy3gk</a>"
      ],
      "text/plain": [
       "<IPython.core.display.HTML object>"
      ]
     },
     "metadata": {},
     "output_type": "display_data"
    },
    {
     "name": "stderr",
     "output_type": "stream",
     "text": [
      "Global seed set to 42\n",
      "GPU available: True (cuda), used: True\n",
      "TPU available: False, using: 0 TPU cores\n",
      "IPU available: False, using: 0 IPUs\n",
      "HPU available: False, using: 0 HPUs\n",
      "Global seed set to 42\n",
      "LOCAL_RANK: 0 - CUDA_VISIBLE_DEVICES: [0,1]\n",
      "\n",
      "   | Name        | Type             | Params\n",
      "--------------------------------------------------\n",
      "0  | x_embedding | Identity         | 0     \n",
      "1  | model       | GAT              | 22.9 K\n",
      "2  | head        | Sequential       | 562   \n",
      "3  | loss_module | CrossEntropyLoss | 0     \n",
      "4  | train_acc   | BinaryAccuracy   | 0     \n",
      "5  | train_auroc | BinaryAUROC      | 0     \n",
      "6  | train_f1    | BinaryF1Score    | 0     \n",
      "7  | valid_acc   | BinaryAccuracy   | 0     \n",
      "8  | valid_auroc | BinaryAUROC      | 0     \n",
      "9  | valid_f1    | BinaryF1Score    | 0     \n",
      "10 | pool        | Attention_module | 1.1 K \n",
      "--------------------------------------------------\n",
      "24.5 K    Trainable params\n",
      "0         Non-trainable params\n",
      "24.5 K    Total params\n",
      "0.098     Total estimated model params size (MB)\n"
     ]
    },
    {
     "name": "stdout",
     "output_type": "stream",
     "text": [
      "Using GAT\n"
     ]
    },
    {
     "name": "stderr",
     "output_type": "stream",
     "text": [
      "`Trainer.fit` stopped: `max_epochs=50` reached.\n"
     ]
    },
    {
     "data": {
      "text/html": [
       "Waiting for W&B process to finish... <strong style=\"color:green\">(success).</strong>"
      ],
      "text/plain": [
       "<IPython.core.display.HTML object>"
      ]
     },
     "metadata": {},
     "output_type": "display_data"
    },
    {
     "data": {
      "application/vnd.jupyter.widget-view+json": {
       "model_id": "5927390975624cecb2ea9732efdc571a",
       "version_major": 2,
       "version_minor": 0
      },
      "text/plain": [
       "VBox(children=(Label(value='0.001 MB of 0.001 MB uploaded (0.000 MB deduped)\\r'), FloatProgress(value=1.0, max…"
      ]
     },
     "metadata": {},
     "output_type": "display_data"
    },
    {
     "data": {
      "text/html": [
       "<style>\n",
       "    table.wandb td:nth-child(1) { padding: 0 10px; text-align: left ; width: auto;} td:nth-child(2) {text-align: left ; width: 100%}\n",
       "    .wandb-row { display: flex; flex-direction: row; flex-wrap: wrap; justify-content: flex-start; width: 100% }\n",
       "    .wandb-col { display: flex; flex-direction: column; flex-basis: 100%; flex: 1; padding: 10px; }\n",
       "    </style>\n",
       "<div class=\"wandb-row\"><div class=\"wandb-col\"><h3>Run history:</h3><br/><table class=\"wandb\"><tr><td>epoch</td><td>▁▁▁▁▂▂▂▂▂▃▃▃▃▃▃▄▄▄▄▄▅▅▅▅▅▅▆▆▆▆▆▇▇▇▇▇▇███</td></tr><tr><td>lr-Adam</td><td>▁▁▁▁▁▁▁▁▁▁▁▁▁▁▁▁▁▁▁▁▁▁▁▁▁▁▁▁▁▁▁▁▁▁▁▁▁▁▁▁</td></tr><tr><td>train_acc</td><td>▁▃▃▃▅▆▆▇▇▇▇▇▇▇█▇▇▇█▇▇█▇██▇█▇▇▇█▇█▇▇█▇▇▇▇</td></tr><tr><td>train_auc</td><td>▁▃▄▅▆▇▇▇▇▇▇▇▇█▇▇▇█████▇██▇███████▇█████▇</td></tr><tr><td>train_f1</td><td>▄▁▁▂▇▇▇█▇█▇█▇██▇█▇████▇██████▇███████▇█▇</td></tr><tr><td>train_loss_epoch</td><td>█▇▆▅▃▃▃▃▂▂▂▂▂▂▂▂▂▂▂▂▂▂▂▁▁▂▂▂▁▂▁▂▂▂▂▁▂▂▂▂</td></tr><tr><td>train_loss_step</td><td>█▇▃▅▅▅▂▄▄▅▆▂▆▃▂▃▁▃▁▂▁▅▂▃▆</td></tr><tr><td>trainer/global_step</td><td>▁▁▁▁▂▁▂▁▂▂▃▃▃▃▄▄▂▄▂▄▂▅▃▅▃▆▆▆▃▃▇▇▇▃▇▄█▄█▄</td></tr><tr><td>val_acc</td><td>▄▄▄█▁▂▃▄▅▆▅▅▆▅▆▆▆▆▄▅▆▇▇▆▅▆▇▆▇▇▆▇▆▅▆▆▆▆▅▆</td></tr><tr><td>val_auc</td><td>▅██▇▁▇▆▇████▇▇████▇▇█▇▆▇██▇▇█▇█████████▇</td></tr><tr><td>val_f1</td><td>▁▁▁█▇▇██████████████████████████████████</td></tr><tr><td>val_loss_epoch</td><td>█▇█▇██▇█▅▅▅▆▄▆▅▂▃▅▇█▇▂▁▇▅▂▂▃▁▃▃▁▃▄▂▃▄▄▆▄</td></tr><tr><td>val_loss_step</td><td>▆▆▆▆▇█▄▆▅▃▅▅▄▅█▃▄█▆▄▃▃▁▄▆▁▄▂▂▄▃▃▄▃▃▄▅▄▄▅</td></tr></table><br/></div><div class=\"wandb-col\"><h3>Run summary:</h3><br/><table class=\"wandb\"><tr><td>epoch</td><td>49</td></tr><tr><td>lr-Adam</td><td>0.005</td></tr><tr><td>train_acc</td><td>0.72332</td></tr><tr><td>train_auc</td><td>0.76957</td></tr><tr><td>train_f1</td><td>0.54025</td></tr><tr><td>train_loss_epoch</td><td>0.55157</td></tr><tr><td>train_loss_step</td><td>0.59264</td></tr><tr><td>trainer/global_step</td><td>249</td></tr><tr><td>val_acc</td><td>0.64474</td></tr><tr><td>val_auc</td><td>0.76842</td></tr><tr><td>val_f1</td><td>0.67857</td></tr><tr><td>val_loss_epoch</td><td>0.63232</td></tr><tr><td>val_loss_step</td><td>0.64272</td></tr></table><br/></div></div>"
      ],
      "text/plain": [
       "<IPython.core.display.HTML object>"
      ]
     },
     "metadata": {},
     "output_type": "display_data"
    },
    {
     "data": {
      "text/html": [
       " View run <strong style=\"color:#cdcd00\">GAT_4_32_onehot_4</strong> at: <a href='https://wandb.ai/thoomas/PLA_01102024_5PPI_Kfold/runs/54bmy3gk' target=\"_blank\">https://wandb.ai/thoomas/PLA_01102024_5PPI_Kfold/runs/54bmy3gk</a><br/>Synced 6 W&B file(s), 0 media file(s), 0 artifact file(s) and 0 other file(s)"
      ],
      "text/plain": [
       "<IPython.core.display.HTML object>"
      ]
     },
     "metadata": {},
     "output_type": "display_data"
    },
    {
     "data": {
      "text/html": [
       "Find logs at: <code>.\\wandb\\run-20240113_061029-54bmy3gk\\logs</code>"
      ],
      "text/plain": [
       "<IPython.core.display.HTML object>"
      ]
     },
     "metadata": {},
     "output_type": "display_data"
    },
    {
     "data": {
      "application/vnd.jupyter.widget-view+json": {
       "model_id": "52115db64cd84e7494e5b1d8e8746c37",
       "version_major": 2,
       "version_minor": 0
      },
      "text/plain": [
       "VBox(children=(Label(value='Waiting for wandb.init()...\\r'), FloatProgress(value=0.016666666666666666, max=1.0…"
      ]
     },
     "metadata": {},
     "output_type": "display_data"
    },
    {
     "data": {
      "text/html": [
       "wandb version 0.16.2 is available!  To upgrade, please run:\n",
       " $ pip install wandb --upgrade"
      ],
      "text/plain": [
       "<IPython.core.display.HTML object>"
      ]
     },
     "metadata": {},
     "output_type": "display_data"
    },
    {
     "data": {
      "text/html": [
       "Tracking run with wandb version 0.14.0"
      ],
      "text/plain": [
       "<IPython.core.display.HTML object>"
      ]
     },
     "metadata": {},
     "output_type": "display_data"
    },
    {
     "data": {
      "text/html": [
       "Run data is saved locally in <code>y:\\coskun-lab\\Thomas\\23_PLA_revision\\notebooks\\wandb\\run-20240113_062225-s07q11fb</code>"
      ],
      "text/plain": [
       "<IPython.core.display.HTML object>"
      ]
     },
     "metadata": {},
     "output_type": "display_data"
    },
    {
     "data": {
      "text/html": [
       "Syncing run <strong><a href='https://wandb.ai/thoomas/PLA_01102024_5PPI_Kfold/runs/s07q11fb' target=\"_blank\">GAT_4_64_onehot_4</a></strong> to <a href='https://wandb.ai/thoomas/PLA_01102024_5PPI_Kfold' target=\"_blank\">Weights & Biases</a> (<a href='https://wandb.me/run' target=\"_blank\">docs</a>)<br/>"
      ],
      "text/plain": [
       "<IPython.core.display.HTML object>"
      ]
     },
     "metadata": {},
     "output_type": "display_data"
    },
    {
     "data": {
      "text/html": [
       " View project at <a href='https://wandb.ai/thoomas/PLA_01102024_5PPI_Kfold' target=\"_blank\">https://wandb.ai/thoomas/PLA_01102024_5PPI_Kfold</a>"
      ],
      "text/plain": [
       "<IPython.core.display.HTML object>"
      ]
     },
     "metadata": {},
     "output_type": "display_data"
    },
    {
     "data": {
      "text/html": [
       " View run at <a href='https://wandb.ai/thoomas/PLA_01102024_5PPI_Kfold/runs/s07q11fb' target=\"_blank\">https://wandb.ai/thoomas/PLA_01102024_5PPI_Kfold/runs/s07q11fb</a>"
      ],
      "text/plain": [
       "<IPython.core.display.HTML object>"
      ]
     },
     "metadata": {},
     "output_type": "display_data"
    },
    {
     "name": "stderr",
     "output_type": "stream",
     "text": [
      "Global seed set to 42\n",
      "GPU available: True (cuda), used: True\n",
      "TPU available: False, using: 0 TPU cores\n",
      "IPU available: False, using: 0 IPUs\n",
      "HPU available: False, using: 0 HPUs\n",
      "Global seed set to 42\n",
      "LOCAL_RANK: 0 - CUDA_VISIBLE_DEVICES: [0,1]\n",
      "\n",
      "  | Name        | Type             | Params\n",
      "-------------------------------------------------\n",
      "0 | x_embedding | Identity         | 0     \n",
      "1 | model       | GAT              | 86.7 K\n",
      "2 | head        | Sequential       | 2.1 K \n",
      "3 | loss_module | CrossEntropyLoss | 0     \n",
      "4 | train_acc   | BinaryAccuracy   | 0     \n",
      "5 | train_auroc | BinaryAUROC      | 0     \n",
      "6 | train_f1    | BinaryF1Score    | 0     \n",
      "7 | valid_acc   | BinaryAccuracy   | 0     \n",
      "8 | valid_auroc | BinaryAUROC      | 0     \n",
      "9 | valid_f1    | BinaryF1Score    | 0     \n",
      "-------------------------------------------------\n",
      "88.9 K    Trainable params\n",
      "0         Non-trainable params\n",
      "88.9 K    Total params\n",
      "0.355     Total estimated model params size (MB)\n"
     ]
    },
    {
     "name": "stdout",
     "output_type": "stream",
     "text": [
      "Using GAT\n"
     ]
    },
    {
     "name": "stderr",
     "output_type": "stream",
     "text": [
      "`Trainer.fit` stopped: `max_epochs=50` reached.\n"
     ]
    },
    {
     "data": {
      "text/html": [
       "Waiting for W&B process to finish... <strong style=\"color:green\">(success).</strong>"
      ],
      "text/plain": [
       "<IPython.core.display.HTML object>"
      ]
     },
     "metadata": {},
     "output_type": "display_data"
    },
    {
     "data": {
      "application/vnd.jupyter.widget-view+json": {
       "model_id": "6728b62d44684b99ab0c7528fc4968af",
       "version_major": 2,
       "version_minor": 0
      },
      "text/plain": [
       "VBox(children=(Label(value='0.001 MB of 0.001 MB uploaded (0.000 MB deduped)\\r'), FloatProgress(value=1.0, max…"
      ]
     },
     "metadata": {},
     "output_type": "display_data"
    },
    {
     "data": {
      "text/html": [
       "<style>\n",
       "    table.wandb td:nth-child(1) { padding: 0 10px; text-align: left ; width: auto;} td:nth-child(2) {text-align: left ; width: 100%}\n",
       "    .wandb-row { display: flex; flex-direction: row; flex-wrap: wrap; justify-content: flex-start; width: 100% }\n",
       "    .wandb-col { display: flex; flex-direction: column; flex-basis: 100%; flex: 1; padding: 10px; }\n",
       "    </style>\n",
       "<div class=\"wandb-row\"><div class=\"wandb-col\"><h3>Run history:</h3><br/><table class=\"wandb\"><tr><td>epoch</td><td>▁▁▁▁▂▂▂▂▂▃▃▃▃▃▃▄▄▄▄▄▅▅▅▅▅▅▆▆▆▆▆▇▇▇▇▇▇███</td></tr><tr><td>lr-Adam</td><td>▁▁▁▁▁▁▁▁▁▁▁▁▁▁▁▁▁▁▁▁▁▁▁▁▁▁▁▁▁▁▁▁▁▁▁▁▁▁▁▁</td></tr><tr><td>train_acc</td><td>▁▂▆▆▆▆▇▇▇▇▇▇▆▇▇▇▇▇▇▇▇▆▇▇█▇▇▇▇▇▇▇▇▇▇▇█▇▇█</td></tr><tr><td>train_auc</td><td>▁▅▇▇▇▇▇▇█▇▇█▇███████▇▇████████▇███████▇█</td></tr><tr><td>train_f1</td><td>▁▂▇▇▇▇█▇█▇▇▇▇▇███▇▇█▇▇▇▇█▇▇▇▇▇▇█▇████▇▇█</td></tr><tr><td>train_loss_epoch</td><td>█▅▃▃▃▃▃▂▂▂▂▂▂▂▁▂▁▂▂▂▂▂▂▁▁▂▂▂▁▁▂▂▁▂▂▁▁▂▂▂</td></tr><tr><td>train_loss_step</td><td>▆▁▆▄▆▂▄▅▃█▅▁▃▂▃▂▄▁▄▃▅▂▄▃▆</td></tr><tr><td>trainer/global_step</td><td>▁▁▁▁▂▁▂▁▂▂▃▃▃▃▄▄▂▄▂▄▂▅▃▅▃▆▆▆▃▃▇▇▇▃▇▄█▄█▄</td></tr><tr><td>val_acc</td><td>▁▁▅▃█▆▆▇▇▇▇▇▇▆▇▇▃▅▆█▅▇▅▆▇█▆▅█▆▆▄▃▃▅▇▆▇▅▅</td></tr><tr><td>val_auc</td><td>▄▃▄▆▅▆▆▇▆█▆▅▇▄▅▆▇▇▇▇▆█▆▅▆▅▁▇▅▅▆▅▆▆▅▇▆▇▆▆</td></tr><tr><td>val_f1</td><td>▁▁▅▄▇███████████████████████████████████</td></tr><tr><td>val_loss_epoch</td><td>▇▆▅▃▄▃▃▃▅▃▄▅▃▂▄▄▅▄▄▄▅▁▄▇▄▄▄▄▃▅▅▅▇█▄▄▆▄▃▅</td></tr><tr><td>val_loss_step</td><td>▇▇▆▃▅▅▄▅▄▅▆▇▅▃▅▅▇▅▅▅▆▁▄▇▆▆▆▅▅▆▇▆██▅▅█▆▆▅</td></tr></table><br/></div><div class=\"wandb-col\"><h3>Run summary:</h3><br/><table class=\"wandb\"><tr><td>epoch</td><td>49</td></tr><tr><td>lr-Adam</td><td>0.005</td></tr><tr><td>train_acc</td><td>0.73399</td></tr><tr><td>train_auc</td><td>0.78498</td></tr><tr><td>train_f1</td><td>0.58987</td></tr><tr><td>train_loss_epoch</td><td>0.5354</td></tr><tr><td>train_loss_step</td><td>0.5908</td></tr><tr><td>trainer/global_step</td><td>249</td></tr><tr><td>val_acc</td><td>0.65789</td></tr><tr><td>val_auc</td><td>0.77803</td></tr><tr><td>val_f1</td><td>0.68675</td></tr><tr><td>val_loss_epoch</td><td>0.62362</td></tr><tr><td>val_loss_step</td><td>0.60638</td></tr></table><br/></div></div>"
      ],
      "text/plain": [
       "<IPython.core.display.HTML object>"
      ]
     },
     "metadata": {},
     "output_type": "display_data"
    },
    {
     "data": {
      "text/html": [
       " View run <strong style=\"color:#cdcd00\">GAT_4_64_onehot_4</strong> at: <a href='https://wandb.ai/thoomas/PLA_01102024_5PPI_Kfold/runs/s07q11fb' target=\"_blank\">https://wandb.ai/thoomas/PLA_01102024_5PPI_Kfold/runs/s07q11fb</a><br/>Synced 6 W&B file(s), 0 media file(s), 0 artifact file(s) and 0 other file(s)"
      ],
      "text/plain": [
       "<IPython.core.display.HTML object>"
      ]
     },
     "metadata": {},
     "output_type": "display_data"
    },
    {
     "data": {
      "text/html": [
       "Find logs at: <code>.\\wandb\\run-20240113_062225-s07q11fb\\logs</code>"
      ],
      "text/plain": [
       "<IPython.core.display.HTML object>"
      ]
     },
     "metadata": {},
     "output_type": "display_data"
    },
    {
     "data": {
      "application/vnd.jupyter.widget-view+json": {
       "model_id": "e1a7492da84841c893562e951c3cb362",
       "version_major": 2,
       "version_minor": 0
      },
      "text/plain": [
       "VBox(children=(Label(value='Waiting for wandb.init()...\\r'), FloatProgress(value=0.0171999999981684, max=1.0))…"
      ]
     },
     "metadata": {},
     "output_type": "display_data"
    },
    {
     "data": {
      "text/html": [
       "wandb version 0.16.2 is available!  To upgrade, please run:\n",
       " $ pip install wandb --upgrade"
      ],
      "text/plain": [
       "<IPython.core.display.HTML object>"
      ]
     },
     "metadata": {},
     "output_type": "display_data"
    },
    {
     "data": {
      "text/html": [
       "Tracking run with wandb version 0.14.0"
      ],
      "text/plain": [
       "<IPython.core.display.HTML object>"
      ]
     },
     "metadata": {},
     "output_type": "display_data"
    },
    {
     "data": {
      "text/html": [
       "Run data is saved locally in <code>y:\\coskun-lab\\Thomas\\23_PLA_revision\\notebooks\\wandb\\run-20240113_063500-avqtu4al</code>"
      ],
      "text/plain": [
       "<IPython.core.display.HTML object>"
      ]
     },
     "metadata": {},
     "output_type": "display_data"
    },
    {
     "data": {
      "text/html": [
       "Syncing run <strong><a href='https://wandb.ai/thoomas/PLA_01102024_5PPI_Kfold/runs/avqtu4al' target=\"_blank\">GAT_4_64_onehot_4</a></strong> to <a href='https://wandb.ai/thoomas/PLA_01102024_5PPI_Kfold' target=\"_blank\">Weights & Biases</a> (<a href='https://wandb.me/run' target=\"_blank\">docs</a>)<br/>"
      ],
      "text/plain": [
       "<IPython.core.display.HTML object>"
      ]
     },
     "metadata": {},
     "output_type": "display_data"
    },
    {
     "data": {
      "text/html": [
       " View project at <a href='https://wandb.ai/thoomas/PLA_01102024_5PPI_Kfold' target=\"_blank\">https://wandb.ai/thoomas/PLA_01102024_5PPI_Kfold</a>"
      ],
      "text/plain": [
       "<IPython.core.display.HTML object>"
      ]
     },
     "metadata": {},
     "output_type": "display_data"
    },
    {
     "data": {
      "text/html": [
       " View run at <a href='https://wandb.ai/thoomas/PLA_01102024_5PPI_Kfold/runs/avqtu4al' target=\"_blank\">https://wandb.ai/thoomas/PLA_01102024_5PPI_Kfold/runs/avqtu4al</a>"
      ],
      "text/plain": [
       "<IPython.core.display.HTML object>"
      ]
     },
     "metadata": {},
     "output_type": "display_data"
    },
    {
     "name": "stderr",
     "output_type": "stream",
     "text": [
      "Global seed set to 42\n",
      "GPU available: True (cuda), used: True\n",
      "TPU available: False, using: 0 TPU cores\n",
      "IPU available: False, using: 0 IPUs\n",
      "HPU available: False, using: 0 HPUs\n",
      "Global seed set to 42\n",
      "LOCAL_RANK: 0 - CUDA_VISIBLE_DEVICES: [0,1]\n",
      "\n",
      "  | Name        | Type             | Params\n",
      "-------------------------------------------------\n",
      "0 | x_embedding | Identity         | 0     \n",
      "1 | model       | GAT              | 86.7 K\n",
      "2 | head        | Sequential       | 2.1 K \n",
      "3 | loss_module | CrossEntropyLoss | 0     \n",
      "4 | train_acc   | BinaryAccuracy   | 0     \n",
      "5 | train_auroc | BinaryAUROC      | 0     \n",
      "6 | train_f1    | BinaryF1Score    | 0     \n",
      "7 | valid_acc   | BinaryAccuracy   | 0     \n",
      "8 | valid_auroc | BinaryAUROC      | 0     \n",
      "9 | valid_f1    | BinaryF1Score    | 0     \n",
      "-------------------------------------------------\n",
      "88.9 K    Trainable params\n",
      "0         Non-trainable params\n",
      "88.9 K    Total params\n",
      "0.355     Total estimated model params size (MB)\n"
     ]
    },
    {
     "name": "stdout",
     "output_type": "stream",
     "text": [
      "Using GAT\n"
     ]
    },
    {
     "name": "stderr",
     "output_type": "stream",
     "text": [
      "`Trainer.fit` stopped: `max_epochs=50` reached.\n"
     ]
    },
    {
     "data": {
      "text/html": [
       "Waiting for W&B process to finish... <strong style=\"color:green\">(success).</strong>"
      ],
      "text/plain": [
       "<IPython.core.display.HTML object>"
      ]
     },
     "metadata": {},
     "output_type": "display_data"
    },
    {
     "data": {
      "application/vnd.jupyter.widget-view+json": {
       "model_id": "bbe1c8918ef34a26ac6f098096427549",
       "version_major": 2,
       "version_minor": 0
      },
      "text/plain": [
       "VBox(children=(Label(value='0.001 MB of 0.001 MB uploaded (0.000 MB deduped)\\r'), FloatProgress(value=1.0, max…"
      ]
     },
     "metadata": {},
     "output_type": "display_data"
    },
    {
     "data": {
      "text/html": [
       "<style>\n",
       "    table.wandb td:nth-child(1) { padding: 0 10px; text-align: left ; width: auto;} td:nth-child(2) {text-align: left ; width: 100%}\n",
       "    .wandb-row { display: flex; flex-direction: row; flex-wrap: wrap; justify-content: flex-start; width: 100% }\n",
       "    .wandb-col { display: flex; flex-direction: column; flex-basis: 100%; flex: 1; padding: 10px; }\n",
       "    </style>\n",
       "<div class=\"wandb-row\"><div class=\"wandb-col\"><h3>Run history:</h3><br/><table class=\"wandb\"><tr><td>epoch</td><td>▁▁▁▁▂▂▂▂▂▃▃▃▃▃▃▄▄▄▄▄▅▅▅▅▅▅▆▆▆▆▆▇▇▇▇▇▇███</td></tr><tr><td>lr-Adam</td><td>▁▁▁▁▁▁▁▁▁▁▁▁▁▁▁▁▁▁▁▁▁▁▁▁▁▁▁▁▁▁▁▁▁▁▁▁▁▁▁▁</td></tr><tr><td>train_acc</td><td>▁▃▂▃▅▄▅▆▆▆▇▆▆▆▇▇▆▆▇▇▆▇▆▆▇▇▇█▇▇▇▇▇▆▇▆██▇▆</td></tr><tr><td>train_auc</td><td>▁▃▄▅▆▅▆▇▇▇▇▇▇▇▇██▇▇█▇▇▇▇▇▇███████▇▇▇███▇</td></tr><tr><td>train_f1</td><td>▂▁▁▃▆▅▆▆▇▇▇▆▆▇▇██▅▇▇▇▇▇▆▇▇▇█▇█▆█▇▇▇▇▇█▇▇</td></tr><tr><td>train_loss_epoch</td><td>█▇▆▆▅▅▄▃▃▃▂▂▃▃▂▂▂▃▃▂▂▂▂▃▂▂▂▁▁▂▂▂▂▃▂▂▁▂▂▂</td></tr><tr><td>train_loss_step</td><td>█▆▇▆▆▂▅▃▃█▆▂▃▃▃▂▂▁▅▃▆▂▃▃▆</td></tr><tr><td>trainer/global_step</td><td>▁▁▁▁▂▁▂▁▂▂▃▃▃▃▄▄▂▄▂▄▂▅▃▅▃▆▆▆▃▃▇▇▇▃▇▄█▄█▄</td></tr><tr><td>val_acc</td><td>▁▁▁▃▅▅▄▅▇▇█▅▆▇▇██▅█▆▆▇▇▇▅▇▄██▄███▅▇▆▇▆█▃</td></tr><tr><td>val_auc</td><td>▁▃▄▄▄▅▅▆▆▇▇▆▆▆▆▇▇▇▇██████▇▇▇████████████</td></tr><tr><td>val_f1</td><td>▁▁▁▃▆▅▄▅▇▇███▇█▇▇▅█▆▆▇▇▇▅▇▄██▅█▇█▅▇▆▆▆▇▄</td></tr><tr><td>val_loss_epoch</td><td>██▇▆▅▄▃▂▃▂▄▄▄▂▃▂▃▃▂▃▂▂▃▄▃▃▄▁▃▃▂▂▄▃▂▃▂▃▂▂</td></tr><tr><td>val_loss_step</td><td>███▅▅▅▂▁▂▃▇▆▄▂▄▄▄▃▂▃▃▃▅▄▃▄▄▃▄▃▃▄▇▅▃▃▁▅▅▁</td></tr></table><br/></div><div class=\"wandb-col\"><h3>Run summary:</h3><br/><table class=\"wandb\"><tr><td>epoch</td><td>49</td></tr><tr><td>lr-Adam</td><td>0.005</td></tr><tr><td>train_acc</td><td>0.71018</td></tr><tr><td>train_auc</td><td>0.76525</td></tr><tr><td>train_f1</td><td>0.53245</td></tr><tr><td>train_loss_epoch</td><td>0.54756</td></tr><tr><td>train_loss_step</td><td>0.58994</td></tr><tr><td>trainer/global_step</td><td>249</td></tr><tr><td>val_acc</td><td>0.62171</td></tr><tr><td>val_auc</td><td>0.77528</td></tr><tr><td>val_f1</td><td>0.27673</td></tr><tr><td>val_loss_epoch</td><td>0.58065</td></tr><tr><td>val_loss_step</td><td>0.54855</td></tr></table><br/></div></div>"
      ],
      "text/plain": [
       "<IPython.core.display.HTML object>"
      ]
     },
     "metadata": {},
     "output_type": "display_data"
    },
    {
     "data": {
      "text/html": [
       " View run <strong style=\"color:#cdcd00\">GAT_4_64_onehot_4</strong> at: <a href='https://wandb.ai/thoomas/PLA_01102024_5PPI_Kfold/runs/avqtu4al' target=\"_blank\">https://wandb.ai/thoomas/PLA_01102024_5PPI_Kfold/runs/avqtu4al</a><br/>Synced 6 W&B file(s), 0 media file(s), 0 artifact file(s) and 0 other file(s)"
      ],
      "text/plain": [
       "<IPython.core.display.HTML object>"
      ]
     },
     "metadata": {},
     "output_type": "display_data"
    },
    {
     "data": {
      "text/html": [
       "Find logs at: <code>.\\wandb\\run-20240113_063500-avqtu4al\\logs</code>"
      ],
      "text/plain": [
       "<IPython.core.display.HTML object>"
      ]
     },
     "metadata": {},
     "output_type": "display_data"
    },
    {
     "data": {
      "application/vnd.jupyter.widget-view+json": {
       "model_id": "42d78a77658445e1a2ace21a67fff3e1",
       "version_major": 2,
       "version_minor": 0
      },
      "text/plain": [
       "VBox(children=(Label(value='Waiting for wandb.init()...\\r'), FloatProgress(value=0.01691666666495924, max=1.0)…"
      ]
     },
     "metadata": {},
     "output_type": "display_data"
    },
    {
     "data": {
      "text/html": [
       "wandb version 0.16.2 is available!  To upgrade, please run:\n",
       " $ pip install wandb --upgrade"
      ],
      "text/plain": [
       "<IPython.core.display.HTML object>"
      ]
     },
     "metadata": {},
     "output_type": "display_data"
    },
    {
     "data": {
      "text/html": [
       "Tracking run with wandb version 0.14.0"
      ],
      "text/plain": [
       "<IPython.core.display.HTML object>"
      ]
     },
     "metadata": {},
     "output_type": "display_data"
    },
    {
     "data": {
      "text/html": [
       "Run data is saved locally in <code>y:\\coskun-lab\\Thomas\\23_PLA_revision\\notebooks\\wandb\\run-20240113_064614-hteacrax</code>"
      ],
      "text/plain": [
       "<IPython.core.display.HTML object>"
      ]
     },
     "metadata": {},
     "output_type": "display_data"
    },
    {
     "data": {
      "text/html": [
       "Syncing run <strong><a href='https://wandb.ai/thoomas/PLA_01102024_5PPI_Kfold/runs/hteacrax' target=\"_blank\">GAT_4_64_onehot_4</a></strong> to <a href='https://wandb.ai/thoomas/PLA_01102024_5PPI_Kfold' target=\"_blank\">Weights & Biases</a> (<a href='https://wandb.me/run' target=\"_blank\">docs</a>)<br/>"
      ],
      "text/plain": [
       "<IPython.core.display.HTML object>"
      ]
     },
     "metadata": {},
     "output_type": "display_data"
    },
    {
     "data": {
      "text/html": [
       " View project at <a href='https://wandb.ai/thoomas/PLA_01102024_5PPI_Kfold' target=\"_blank\">https://wandb.ai/thoomas/PLA_01102024_5PPI_Kfold</a>"
      ],
      "text/plain": [
       "<IPython.core.display.HTML object>"
      ]
     },
     "metadata": {},
     "output_type": "display_data"
    },
    {
     "data": {
      "text/html": [
       " View run at <a href='https://wandb.ai/thoomas/PLA_01102024_5PPI_Kfold/runs/hteacrax' target=\"_blank\">https://wandb.ai/thoomas/PLA_01102024_5PPI_Kfold/runs/hteacrax</a>"
      ],
      "text/plain": [
       "<IPython.core.display.HTML object>"
      ]
     },
     "metadata": {},
     "output_type": "display_data"
    },
    {
     "name": "stderr",
     "output_type": "stream",
     "text": [
      "Global seed set to 42\n",
      "GPU available: True (cuda), used: True\n",
      "TPU available: False, using: 0 TPU cores\n",
      "IPU available: False, using: 0 IPUs\n",
      "HPU available: False, using: 0 HPUs\n",
      "Global seed set to 42\n",
      "LOCAL_RANK: 0 - CUDA_VISIBLE_DEVICES: [0,1]\n",
      "\n",
      "  | Name        | Type             | Params\n",
      "-------------------------------------------------\n",
      "0 | x_embedding | Identity         | 0     \n",
      "1 | model       | GAT              | 86.7 K\n",
      "2 | head        | Sequential       | 2.1 K \n",
      "3 | loss_module | CrossEntropyLoss | 0     \n",
      "4 | train_acc   | BinaryAccuracy   | 0     \n",
      "5 | train_auroc | BinaryAUROC      | 0     \n",
      "6 | train_f1    | BinaryF1Score    | 0     \n",
      "7 | valid_acc   | BinaryAccuracy   | 0     \n",
      "8 | valid_auroc | BinaryAUROC      | 0     \n",
      "9 | valid_f1    | BinaryF1Score    | 0     \n",
      "-------------------------------------------------\n",
      "88.9 K    Trainable params\n",
      "0         Non-trainable params\n",
      "88.9 K    Total params\n",
      "0.355     Total estimated model params size (MB)\n"
     ]
    },
    {
     "name": "stdout",
     "output_type": "stream",
     "text": [
      "Using GAT\n"
     ]
    },
    {
     "name": "stderr",
     "output_type": "stream",
     "text": [
      "`Trainer.fit` stopped: `max_epochs=50` reached.\n"
     ]
    },
    {
     "data": {
      "text/html": [
       "Waiting for W&B process to finish... <strong style=\"color:green\">(success).</strong>"
      ],
      "text/plain": [
       "<IPython.core.display.HTML object>"
      ]
     },
     "metadata": {},
     "output_type": "display_data"
    },
    {
     "data": {
      "application/vnd.jupyter.widget-view+json": {
       "model_id": "0bece8e318344f5491d2993c1c25b1b7",
       "version_major": 2,
       "version_minor": 0
      },
      "text/plain": [
       "VBox(children=(Label(value='0.001 MB of 0.001 MB uploaded (0.000 MB deduped)\\r'), FloatProgress(value=1.0, max…"
      ]
     },
     "metadata": {},
     "output_type": "display_data"
    },
    {
     "data": {
      "text/html": [
       "<style>\n",
       "    table.wandb td:nth-child(1) { padding: 0 10px; text-align: left ; width: auto;} td:nth-child(2) {text-align: left ; width: 100%}\n",
       "    .wandb-row { display: flex; flex-direction: row; flex-wrap: wrap; justify-content: flex-start; width: 100% }\n",
       "    .wandb-col { display: flex; flex-direction: column; flex-basis: 100%; flex: 1; padding: 10px; }\n",
       "    </style>\n",
       "<div class=\"wandb-row\"><div class=\"wandb-col\"><h3>Run history:</h3><br/><table class=\"wandb\"><tr><td>epoch</td><td>▁▁▁▁▂▂▂▂▂▃▃▃▃▃▃▄▄▄▄▄▅▅▅▅▅▅▆▆▆▆▆▇▇▇▇▇▇███</td></tr><tr><td>lr-Adam</td><td>▁▁▁▁▁▁▁▁▁▁▁▁▁▁▁▁▁▁▁▁▁▁▁▁▁▁▁▁▁▁▁▁▁▁▁▁▁▁▁▁</td></tr><tr><td>train_acc</td><td>▁▃▃▄▅▆▅▆▆▆▆▆▇▇▇▇█▇▇▇▇▇▇▇▇▇▇██▇▇█▇█▇███▇█</td></tr><tr><td>train_auc</td><td>▇██▇▇▆▅▅▄▃▃▃▂▃▃▂▃▃▂▂▂▂▂▁▂▂▁▂▁▁▃▁▂▂▂▂▂▁▂▁</td></tr><tr><td>train_f1</td><td>▃▁▆▃▆▆▆▇▇▇▆▆█▆▆▇█▇█▇▇▇▇▇█▇▇▇▇▇▇█▇▇▇███▇▇</td></tr><tr><td>train_loss_epoch</td><td>█▃▂▂▁▁▁▁▁▁▁▁▁▁▁▁▁▁▁▁▁▁▁▁▁▁▁▁▁▁▁▁▁▁▁▁▁▁▁▁</td></tr><tr><td>train_loss_step</td><td>█▃▄▂▂▂▂▂▁▂▁▁▁▁▁▁▁▁▁▁▂▁▁▁▁</td></tr><tr><td>trainer/global_step</td><td>▁▁▁▁▂▁▂▁▂▂▃▃▃▃▄▄▂▄▂▄▂▅▃▅▃▆▆▆▃▃▇▇▇▃▇▄█▄█▄</td></tr><tr><td>val_acc</td><td>▂▄▁▁▂▄▅▄▇▇▇▇▇▇▇▇▇▇▆▇▆▆▆▇▆▇▆▆▇▇▆▆█▇▇▇█▇█▇</td></tr><tr><td>val_auc</td><td>▇█▆▄▂▂▂▁▁▁▁▁▁▁▁▁▁▁▁▁▁▁▁▁▁▁▁▁▁▁▁▁▁▁▁▁▁▁▁▁</td></tr><tr><td>val_f1</td><td>▂▄▁▁▂▅▆▅██▇██▇██████████████████████████</td></tr><tr><td>val_loss_epoch</td><td>▃▄█▄▆▃▂▂▄▂▂▂▂▁▁▂▂▁▂▂▂▁▂▃▂▂▃▂▂▂▃▂▂▂▂▂▂▂▁▁</td></tr><tr><td>val_loss_step</td><td>▄▄█▃▅▄▃▂▂▃▃▄▂▁▂▂▃▁▂▃▃▁▃▃▃▃▄▃▂▃▃▃▄▂▂▃▃▄▃▁</td></tr></table><br/></div><div class=\"wandb-col\"><h3>Run summary:</h3><br/><table class=\"wandb\"><tr><td>epoch</td><td>49</td></tr><tr><td>lr-Adam</td><td>0.005</td></tr><tr><td>train_acc</td><td>0.74138</td></tr><tr><td>train_auc</td><td>0.29016</td></tr><tr><td>train_f1</td><td>0.60967</td></tr><tr><td>train_loss_epoch</td><td>0.52353</td></tr><tr><td>train_loss_step</td><td>0.5555</td></tr><tr><td>trainer/global_step</td><td>249</td></tr><tr><td>val_acc</td><td>0.72368</td></tr><tr><td>val_auc</td><td>0.22197</td></tr><tr><td>val_f1</td><td>0.68657</td></tr><tr><td>val_loss_epoch</td><td>0.53724</td></tr><tr><td>val_loss_step</td><td>0.48143</td></tr></table><br/></div></div>"
      ],
      "text/plain": [
       "<IPython.core.display.HTML object>"
      ]
     },
     "metadata": {},
     "output_type": "display_data"
    },
    {
     "data": {
      "text/html": [
       " View run <strong style=\"color:#cdcd00\">GAT_4_64_onehot_4</strong> at: <a href='https://wandb.ai/thoomas/PLA_01102024_5PPI_Kfold/runs/hteacrax' target=\"_blank\">https://wandb.ai/thoomas/PLA_01102024_5PPI_Kfold/runs/hteacrax</a><br/>Synced 6 W&B file(s), 0 media file(s), 0 artifact file(s) and 0 other file(s)"
      ],
      "text/plain": [
       "<IPython.core.display.HTML object>"
      ]
     },
     "metadata": {},
     "output_type": "display_data"
    },
    {
     "data": {
      "text/html": [
       "Find logs at: <code>.\\wandb\\run-20240113_064614-hteacrax\\logs</code>"
      ],
      "text/plain": [
       "<IPython.core.display.HTML object>"
      ]
     },
     "metadata": {},
     "output_type": "display_data"
    },
    {
     "data": {
      "application/vnd.jupyter.widget-view+json": {
       "model_id": "8f45a9648ef747bfb919940cdfdc4eb1",
       "version_major": 2,
       "version_minor": 0
      },
      "text/plain": [
       "VBox(children=(Label(value='Waiting for wandb.init()...\\r'), FloatProgress(value=0.016666666666666666, max=1.0…"
      ]
     },
     "metadata": {},
     "output_type": "display_data"
    },
    {
     "data": {
      "text/html": [
       "wandb version 0.16.2 is available!  To upgrade, please run:\n",
       " $ pip install wandb --upgrade"
      ],
      "text/plain": [
       "<IPython.core.display.HTML object>"
      ]
     },
     "metadata": {},
     "output_type": "display_data"
    },
    {
     "data": {
      "text/html": [
       "Tracking run with wandb version 0.14.0"
      ],
      "text/plain": [
       "<IPython.core.display.HTML object>"
      ]
     },
     "metadata": {},
     "output_type": "display_data"
    },
    {
     "data": {
      "text/html": [
       "Run data is saved locally in <code>y:\\coskun-lab\\Thomas\\23_PLA_revision\\notebooks\\wandb\\run-20240113_065748-bczhvn8f</code>"
      ],
      "text/plain": [
       "<IPython.core.display.HTML object>"
      ]
     },
     "metadata": {},
     "output_type": "display_data"
    },
    {
     "data": {
      "text/html": [
       "Syncing run <strong><a href='https://wandb.ai/thoomas/PLA_01102024_5PPI_Kfold/runs/bczhvn8f' target=\"_blank\">GAT_4_64_onehot_4</a></strong> to <a href='https://wandb.ai/thoomas/PLA_01102024_5PPI_Kfold' target=\"_blank\">Weights & Biases</a> (<a href='https://wandb.me/run' target=\"_blank\">docs</a>)<br/>"
      ],
      "text/plain": [
       "<IPython.core.display.HTML object>"
      ]
     },
     "metadata": {},
     "output_type": "display_data"
    },
    {
     "data": {
      "text/html": [
       " View project at <a href='https://wandb.ai/thoomas/PLA_01102024_5PPI_Kfold' target=\"_blank\">https://wandb.ai/thoomas/PLA_01102024_5PPI_Kfold</a>"
      ],
      "text/plain": [
       "<IPython.core.display.HTML object>"
      ]
     },
     "metadata": {},
     "output_type": "display_data"
    },
    {
     "data": {
      "text/html": [
       " View run at <a href='https://wandb.ai/thoomas/PLA_01102024_5PPI_Kfold/runs/bczhvn8f' target=\"_blank\">https://wandb.ai/thoomas/PLA_01102024_5PPI_Kfold/runs/bczhvn8f</a>"
      ],
      "text/plain": [
       "<IPython.core.display.HTML object>"
      ]
     },
     "metadata": {},
     "output_type": "display_data"
    },
    {
     "name": "stderr",
     "output_type": "stream",
     "text": [
      "Global seed set to 42\n",
      "GPU available: True (cuda), used: True\n",
      "TPU available: False, using: 0 TPU cores\n",
      "IPU available: False, using: 0 IPUs\n",
      "HPU available: False, using: 0 HPUs\n",
      "Global seed set to 42\n",
      "LOCAL_RANK: 0 - CUDA_VISIBLE_DEVICES: [0,1]\n",
      "\n",
      "   | Name        | Type             | Params\n",
      "--------------------------------------------------\n",
      "0  | x_embedding | Identity         | 0     \n",
      "1  | model       | GAT              | 86.7 K\n",
      "2  | head        | Sequential       | 2.1 K \n",
      "3  | loss_module | CrossEntropyLoss | 0     \n",
      "4  | train_acc   | BinaryAccuracy   | 0     \n",
      "5  | train_auroc | BinaryAUROC      | 0     \n",
      "6  | train_f1    | BinaryF1Score    | 0     \n",
      "7  | valid_acc   | BinaryAccuracy   | 0     \n",
      "8  | valid_auroc | BinaryAUROC      | 0     \n",
      "9  | valid_f1    | BinaryF1Score    | 0     \n",
      "10 | pool        | GlobalAttention  | 65    \n",
      "--------------------------------------------------\n",
      "88.9 K    Trainable params\n",
      "0         Non-trainable params\n",
      "88.9 K    Total params\n",
      "0.356     Total estimated model params size (MB)\n"
     ]
    },
    {
     "name": "stdout",
     "output_type": "stream",
     "text": [
      "Using GAT\n"
     ]
    },
    {
     "name": "stderr",
     "output_type": "stream",
     "text": [
      "`Trainer.fit` stopped: `max_epochs=50` reached.\n"
     ]
    },
    {
     "data": {
      "text/html": [
       "Waiting for W&B process to finish... <strong style=\"color:green\">(success).</strong>"
      ],
      "text/plain": [
       "<IPython.core.display.HTML object>"
      ]
     },
     "metadata": {},
     "output_type": "display_data"
    },
    {
     "data": {
      "application/vnd.jupyter.widget-view+json": {
       "model_id": "8c2a69fcf50f447ca0a946df04a4b363",
       "version_major": 2,
       "version_minor": 0
      },
      "text/plain": [
       "VBox(children=(Label(value='0.001 MB of 0.001 MB uploaded (0.000 MB deduped)\\r'), FloatProgress(value=1.0, max…"
      ]
     },
     "metadata": {},
     "output_type": "display_data"
    },
    {
     "data": {
      "text/html": [
       "<style>\n",
       "    table.wandb td:nth-child(1) { padding: 0 10px; text-align: left ; width: auto;} td:nth-child(2) {text-align: left ; width: 100%}\n",
       "    .wandb-row { display: flex; flex-direction: row; flex-wrap: wrap; justify-content: flex-start; width: 100% }\n",
       "    .wandb-col { display: flex; flex-direction: column; flex-basis: 100%; flex: 1; padding: 10px; }\n",
       "    </style>\n",
       "<div class=\"wandb-row\"><div class=\"wandb-col\"><h3>Run history:</h3><br/><table class=\"wandb\"><tr><td>epoch</td><td>▁▁▁▁▂▂▂▂▂▃▃▃▃▃▃▄▄▄▄▄▅▅▅▅▅▅▆▆▆▆▆▇▇▇▇▇▇███</td></tr><tr><td>lr-Adam</td><td>▁▁▁▁▁▁▁▁▁▁▁▁▁▁▁▁▁▁▁▁▁▁▁▁▁▁▁▁▁▁▁▁▁▁▁▁▁▁▁▁</td></tr><tr><td>train_acc</td><td>▁▃▅▇▆▆▆▇▇▇▇▇▇▆▇▇█▇█▇▇▇█▇▇▇▇▇▇▇▇▇███▇█▇▇█</td></tr><tr><td>train_auc</td><td>▁▄▆▇▇▇▇▇▇██▇▇▇█████████▇███████████▇██▇█</td></tr><tr><td>train_f1</td><td>▂▁▅▇▇▇▇▇▇▇███▇▇███▇█▇██████▇▇██▇██████▇█</td></tr><tr><td>train_loss_epoch</td><td>█▆▅▂▃▂▂▂▂▂▂▂▃▂▂▁▁▂▂▂▂▂▁▂▁▂▂▂▂▁▂▁▁▁▁▂▁▂▃▁</td></tr><tr><td>train_loss_step</td><td>█▂▂▃▄▁▃▅▁▃▄▅▃▂▄▅▁▃▁▃▄▂▅█▆</td></tr><tr><td>trainer/global_step</td><td>▁▁▁▁▂▁▂▁▂▂▃▃▃▃▄▄▂▄▂▄▂▅▃▅▃▆▆▆▃▃▇▇▇▃▇▄█▄█▄</td></tr><tr><td>val_acc</td><td>▁▁▃▆█▅▅▃▄▄▄▆▅▆▆▆▇▇█▆▄▃▄▂▂▃▄▆▇█▆█▅▅▅▅▂▄▄▇</td></tr><tr><td>val_auc</td><td>▃▄▁▁▅▅▅▆▆▇▆▆▇▇▅▆▆▇▆▆███▆▆▇▇▅▅▆▅▆▇██▇▆▆▆▇</td></tr><tr><td>val_f1</td><td>▁▁▄▆███▇███████████████▇▇▇██████████▇███</td></tr><tr><td>val_loss_epoch</td><td>▆▅▅▅▃▄▅▄▄▄▅▃▂▁▃▂▃▃▂▂▄▅▅▆▆▆▅▃▁▁▄▂▃▅▄▃█▅▅▂</td></tr><tr><td>val_loss_step</td><td>▅▅▅▅▄▄▆▄▄▄▆▃▄▁▄▃▃▅▃▃▄▅▅▄▅▆▃▃▂▂▃▄▃▆▄▄█▅▅▃</td></tr></table><br/></div><div class=\"wandb-col\"><h3>Run summary:</h3><br/><table class=\"wandb\"><tr><td>epoch</td><td>49</td></tr><tr><td>lr-Adam</td><td>0.005</td></tr><tr><td>train_acc</td><td>0.74713</td></tr><tr><td>train_auc</td><td>0.79566</td></tr><tr><td>train_f1</td><td>0.60411</td></tr><tr><td>train_loss_epoch</td><td>0.52721</td></tr><tr><td>train_loss_step</td><td>0.5847</td></tr><tr><td>trainer/global_step</td><td>249</td></tr><tr><td>val_acc</td><td>0.69737</td></tr><tr><td>val_auc</td><td>0.77967</td></tr><tr><td>val_f1</td><td>0.70513</td></tr><tr><td>val_loss_epoch</td><td>0.58238</td></tr><tr><td>val_loss_step</td><td>0.56808</td></tr></table><br/></div></div>"
      ],
      "text/plain": [
       "<IPython.core.display.HTML object>"
      ]
     },
     "metadata": {},
     "output_type": "display_data"
    },
    {
     "data": {
      "text/html": [
       " View run <strong style=\"color:#cdcd00\">GAT_4_64_onehot_4</strong> at: <a href='https://wandb.ai/thoomas/PLA_01102024_5PPI_Kfold/runs/bczhvn8f' target=\"_blank\">https://wandb.ai/thoomas/PLA_01102024_5PPI_Kfold/runs/bczhvn8f</a><br/>Synced 6 W&B file(s), 0 media file(s), 0 artifact file(s) and 0 other file(s)"
      ],
      "text/plain": [
       "<IPython.core.display.HTML object>"
      ]
     },
     "metadata": {},
     "output_type": "display_data"
    },
    {
     "data": {
      "text/html": [
       "Find logs at: <code>.\\wandb\\run-20240113_065748-bczhvn8f\\logs</code>"
      ],
      "text/plain": [
       "<IPython.core.display.HTML object>"
      ]
     },
     "metadata": {},
     "output_type": "display_data"
    },
    {
     "data": {
      "application/vnd.jupyter.widget-view+json": {
       "model_id": "c968ff332baa402fbca515ae84ada4cd",
       "version_major": 2,
       "version_minor": 0
      },
      "text/plain": [
       "VBox(children=(Label(value='Waiting for wandb.init()...\\r'), FloatProgress(value=0.01691666666883975, max=1.0)…"
      ]
     },
     "metadata": {},
     "output_type": "display_data"
    },
    {
     "data": {
      "text/html": [
       "wandb version 0.16.2 is available!  To upgrade, please run:\n",
       " $ pip install wandb --upgrade"
      ],
      "text/plain": [
       "<IPython.core.display.HTML object>"
      ]
     },
     "metadata": {},
     "output_type": "display_data"
    },
    {
     "data": {
      "text/html": [
       "Tracking run with wandb version 0.14.0"
      ],
      "text/plain": [
       "<IPython.core.display.HTML object>"
      ]
     },
     "metadata": {},
     "output_type": "display_data"
    },
    {
     "data": {
      "text/html": [
       "Run data is saved locally in <code>y:\\coskun-lab\\Thomas\\23_PLA_revision\\notebooks\\wandb\\run-20240113_070919-9eb85dqq</code>"
      ],
      "text/plain": [
       "<IPython.core.display.HTML object>"
      ]
     },
     "metadata": {},
     "output_type": "display_data"
    },
    {
     "data": {
      "text/html": [
       "Syncing run <strong><a href='https://wandb.ai/thoomas/PLA_01102024_5PPI_Kfold/runs/9eb85dqq' target=\"_blank\">GAT_4_64_onehot_4</a></strong> to <a href='https://wandb.ai/thoomas/PLA_01102024_5PPI_Kfold' target=\"_blank\">Weights & Biases</a> (<a href='https://wandb.me/run' target=\"_blank\">docs</a>)<br/>"
      ],
      "text/plain": [
       "<IPython.core.display.HTML object>"
      ]
     },
     "metadata": {},
     "output_type": "display_data"
    },
    {
     "data": {
      "text/html": [
       " View project at <a href='https://wandb.ai/thoomas/PLA_01102024_5PPI_Kfold' target=\"_blank\">https://wandb.ai/thoomas/PLA_01102024_5PPI_Kfold</a>"
      ],
      "text/plain": [
       "<IPython.core.display.HTML object>"
      ]
     },
     "metadata": {},
     "output_type": "display_data"
    },
    {
     "data": {
      "text/html": [
       " View run at <a href='https://wandb.ai/thoomas/PLA_01102024_5PPI_Kfold/runs/9eb85dqq' target=\"_blank\">https://wandb.ai/thoomas/PLA_01102024_5PPI_Kfold/runs/9eb85dqq</a>"
      ],
      "text/plain": [
       "<IPython.core.display.HTML object>"
      ]
     },
     "metadata": {},
     "output_type": "display_data"
    },
    {
     "name": "stderr",
     "output_type": "stream",
     "text": [
      "Global seed set to 42\n",
      "GPU available: True (cuda), used: True\n",
      "TPU available: False, using: 0 TPU cores\n",
      "IPU available: False, using: 0 IPUs\n",
      "HPU available: False, using: 0 HPUs\n",
      "Global seed set to 42\n",
      "LOCAL_RANK: 0 - CUDA_VISIBLE_DEVICES: [0,1]\n",
      "\n",
      "   | Name        | Type             | Params\n",
      "--------------------------------------------------\n",
      "0  | x_embedding | Identity         | 0     \n",
      "1  | model       | GAT              | 86.7 K\n",
      "2  | head        | Sequential       | 2.1 K \n",
      "3  | loss_module | CrossEntropyLoss | 0     \n",
      "4  | train_acc   | BinaryAccuracy   | 0     \n",
      "5  | train_auroc | BinaryAUROC      | 0     \n",
      "6  | train_f1    | BinaryF1Score    | 0     \n",
      "7  | valid_acc   | BinaryAccuracy   | 0     \n",
      "8  | valid_auroc | BinaryAUROC      | 0     \n",
      "9  | valid_f1    | BinaryF1Score    | 0     \n",
      "10 | pool        | Attention_module | 4.2 K \n",
      "--------------------------------------------------\n",
      "93.1 K    Trainable params\n",
      "0         Non-trainable params\n",
      "93.1 K    Total params\n",
      "0.372     Total estimated model params size (MB)\n"
     ]
    },
    {
     "name": "stdout",
     "output_type": "stream",
     "text": [
      "Using GAT\n"
     ]
    },
    {
     "name": "stderr",
     "output_type": "stream",
     "text": [
      "`Trainer.fit` stopped: `max_epochs=50` reached.\n"
     ]
    },
    {
     "data": {
      "text/html": [
       "Waiting for W&B process to finish... <strong style=\"color:green\">(success).</strong>"
      ],
      "text/plain": [
       "<IPython.core.display.HTML object>"
      ]
     },
     "metadata": {},
     "output_type": "display_data"
    },
    {
     "data": {
      "application/vnd.jupyter.widget-view+json": {
       "model_id": "781feec509814de7838df4d85c333a5d",
       "version_major": 2,
       "version_minor": 0
      },
      "text/plain": [
       "VBox(children=(Label(value='0.001 MB of 0.001 MB uploaded (0.000 MB deduped)\\r'), FloatProgress(value=1.0, max…"
      ]
     },
     "metadata": {},
     "output_type": "display_data"
    },
    {
     "data": {
      "text/html": [
       "<style>\n",
       "    table.wandb td:nth-child(1) { padding: 0 10px; text-align: left ; width: auto;} td:nth-child(2) {text-align: left ; width: 100%}\n",
       "    .wandb-row { display: flex; flex-direction: row; flex-wrap: wrap; justify-content: flex-start; width: 100% }\n",
       "    .wandb-col { display: flex; flex-direction: column; flex-basis: 100%; flex: 1; padding: 10px; }\n",
       "    </style>\n",
       "<div class=\"wandb-row\"><div class=\"wandb-col\"><h3>Run history:</h3><br/><table class=\"wandb\"><tr><td>epoch</td><td>▁▁▁▁▂▂▂▂▂▃▃▃▃▃▃▄▄▄▄▄▅▅▅▅▅▅▆▆▆▆▆▇▇▇▇▇▇███</td></tr><tr><td>lr-Adam</td><td>▁▁▁▁▁▁▁▁▁▁▁▁▁▁▁▁▁▁▁▁▁▁▁▁▁▁▁▁▁▁▁▁▁▁▁▁▁▁▁▁</td></tr><tr><td>train_acc</td><td>▁▃▅▆▆▇▇▇▇▆▇▇▇▇▇▇▇▇█▇█▆███▇█▇███▇██▇▇▇▇▇▇</td></tr><tr><td>train_auc</td><td>▁▅▆▇▇▇█▇█▇████▇▇█████▇███▇█████████████▇</td></tr><tr><td>train_f1</td><td>▂▁▇▇▆▇▇▇▇▇▇█▆█▇▆▇▇█▇█▇▇██▇█▇██████▇▇▇█▇▇</td></tr><tr><td>train_loss_epoch</td><td>█▆▄▃▃▂▂▂▂▂▁▁▂▃▂▂▂▂▂▂▂▁▂▂▁▂▁▂▁▂▂▁▂▁▁▂▁▂▂▂</td></tr><tr><td>train_loss_step</td><td>█▅▃▄▆▃▁▇▂▆▃▄▃▂▅▂▂▁▃▁▄▅▃▂▁</td></tr><tr><td>trainer/global_step</td><td>▁▁▁▁▂▁▂▁▂▂▃▃▃▃▄▄▂▄▂▄▂▅▃▅▃▆▆▆▃▃▇▇▇▃▇▄█▄█▄</td></tr><tr><td>val_acc</td><td>▂▂▄▆▇▅▃▃▅▃▃▃▆▃▇▄▆▂▂▅▄▇▇█▆▆▃▃▂▂▃▁▂▄▅▅▇▇▅▅</td></tr><tr><td>val_auc</td><td>▄▂▃▁▄▄▁▂▆▆▆▄▄▅▆▄▇▆▆█▅▆▃▄▄▆▅▄▄▅▄▅▄▅▅▄▅▆▇▅</td></tr><tr><td>val_f1</td><td>▁▁▄▆███▇███▇█████▇▇███████▇▇▇▇▇▇▇███████</td></tr><tr><td>val_loss_epoch</td><td>▅▅▄▃▃▄▄▅▃▄▄▄▂▄▂▄▁▆▆▄▄▁▃▂▃▃▆▅▅█▆▄▆▃▄▄▃▃▃▃</td></tr><tr><td>val_loss_step</td><td>▅▄▄▃▃▃▃▅▃▄▃▃▃▅▂▄▃▅▆▄▄▁▄▃▃▄▄▅▃█▇▆▄▃▄▂▄▅▂▃</td></tr></table><br/></div><div class=\"wandb-col\"><h3>Run summary:</h3><br/><table class=\"wandb\"><tr><td>epoch</td><td>49</td></tr><tr><td>lr-Adam</td><td>0.005</td></tr><tr><td>train_acc</td><td>0.72906</td></tr><tr><td>train_auc</td><td>0.77871</td></tr><tr><td>train_f1</td><td>0.58543</td></tr><tr><td>train_loss_epoch</td><td>0.53409</td></tr><tr><td>train_loss_step</td><td>0.49683</td></tr><tr><td>trainer/global_step</td><td>249</td></tr><tr><td>val_acc</td><td>0.66118</td></tr><tr><td>val_auc</td><td>0.77564</td></tr><tr><td>val_f1</td><td>0.68502</td></tr><tr><td>val_loss_epoch</td><td>0.6083</td></tr><tr><td>val_loss_step</td><td>0.60585</td></tr></table><br/></div></div>"
      ],
      "text/plain": [
       "<IPython.core.display.HTML object>"
      ]
     },
     "metadata": {},
     "output_type": "display_data"
    },
    {
     "data": {
      "text/html": [
       " View run <strong style=\"color:#cdcd00\">GAT_4_64_onehot_4</strong> at: <a href='https://wandb.ai/thoomas/PLA_01102024_5PPI_Kfold/runs/9eb85dqq' target=\"_blank\">https://wandb.ai/thoomas/PLA_01102024_5PPI_Kfold/runs/9eb85dqq</a><br/>Synced 6 W&B file(s), 0 media file(s), 0 artifact file(s) and 0 other file(s)"
      ],
      "text/plain": [
       "<IPython.core.display.HTML object>"
      ]
     },
     "metadata": {},
     "output_type": "display_data"
    },
    {
     "data": {
      "text/html": [
       "Find logs at: <code>.\\wandb\\run-20240113_070919-9eb85dqq\\logs</code>"
      ],
      "text/plain": [
       "<IPython.core.display.HTML object>"
      ]
     },
     "metadata": {},
     "output_type": "display_data"
    }
   ],
   "source": [
    "k_folds = 5\n",
    "kfold = KFold(n_splits=k_folds, shuffle=True, random_state=42)\n",
    "\n",
    "for fold, (train_ids, valid_ids) in enumerate(kfold.split(dataset_filtered)):\n",
    "    train_subset = dataset_filtered.index_select(train_ids.tolist())\n",
    "    val_subset = dataset_filtered.index_select(valid_ids.tolist())\n",
    "    for NUM_LAYERS, HIDDEN_CHANNELS, pool, model in list(itertools.product(*[num_layers, hiddens, pools, models])):\n",
    "            # Path to the folder where the pretrained models are saved\n",
    "        CHECKPOINT_PATH = checkpoint_folder / f'{model}_{NUM_LAYERS}_{HIDDEN_CHANNELS}_onehot_{fold}' / pool\n",
    "        CHECKPOINT_PATH.mkdir(parents=True, exist_ok=True)\n",
    "\n",
    "        # Skip already trained kfold and pool\n",
    "        checkpoint = CHECKPOINT_PATH / f\"GraphLevel{model}\" / f\"GraphLevel{model}.ckpt\" \n",
    "        if checkpoint.exists():\n",
    "            print(checkpoint)\n",
    "            continue\n",
    "\n",
    "        # Run training\n",
    "        run = wandb.init(project=project_name, name=f'{model}_{NUM_LAYERS}_{HIDDEN_CHANNELS}_onehot_{fold}', \n",
    "                        group=f'{model}_{pool}', \n",
    "                        # mode=\"disabled\"\n",
    "                        )\n",
    "        PPIGraph.train_graph_classifier_kfold(model, \n",
    "                                                train_subset, \n",
    "                                                val_subset, \n",
    "                                                dataset, \n",
    "                                                CHECKPOINT_PATH, \n",
    "                                                AVAIL_GPUS, \n",
    "                                                in_channels=5,\n",
    "                                                hidden_channels=HIDDEN_CHANNELS, \n",
    "                                                out_channels = HIDDEN_CHANNELS,\n",
    "                                                num_layers=NUM_LAYERS, \n",
    "                                                epochs=epochs,\n",
    "                                                embedding=False,\n",
    "                                                batch_size=256, \n",
    "                                                graph_pooling=pool)\n",
    "        run.finish()\n"
   ]
  },
  {
   "cell_type": "code",
   "execution_count": null,
   "metadata": {},
   "outputs": [],
   "source": []
  }
 ],
 "metadata": {
  "kernelspec": {
   "display_name": "Python 3",
   "language": "python",
   "name": "python3"
  },
  "language_info": {
   "codemirror_mode": {
    "name": "ipython",
    "version": 3
   },
   "file_extension": ".py",
   "mimetype": "text/x-python",
   "name": "python",
   "nbconvert_exporter": "python",
   "pygments_lexer": "ipython3",
   "version": "3.9.16"
  }
 },
 "nbformat": 4,
 "nbformat_minor": 4
}
