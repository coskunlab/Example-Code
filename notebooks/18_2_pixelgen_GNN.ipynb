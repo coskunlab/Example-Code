{
 "cells": [
  {
   "cell_type": "code",
   "execution_count": 1,
   "metadata": {},
   "outputs": [],
   "source": [
    "import os\n",
    "import sys\n",
    "from pathlib import Path\n",
    "\n",
    "import cv2\n",
    "import matplotlib.pyplot as plt\n",
    "import numpy as np\n",
    "import pandas as pd\n",
    "import skimage.io\n",
    "\n",
    "from collections import defaultdict\n",
    "from tqdm.auto import tqdm\n",
    "from joblib import Parallel, delayed\n",
    "import re\n",
    "import pickle\n",
    "\n",
    "import networkx as nx\n",
    "from sklearn.model_selection import train_test_split"
   ]
  },
  {
   "cell_type": "code",
   "execution_count": 2,
   "metadata": {},
   "outputs": [],
   "source": [
    "import torch_geometric.utils\n",
    "import torch"
   ]
  },
  {
   "cell_type": "code",
   "execution_count": 3,
   "metadata": {},
   "outputs": [],
   "source": [
    "%load_ext autoreload\n",
    "%autoreload 2"
   ]
  },
  {
   "cell_type": "code",
   "execution_count": 4,
   "metadata": {},
   "outputs": [],
   "source": [
    "p_dir = (Path().cwd().parents[0]).absolute()\n",
    "\n",
    "module_path = str(p_dir / \"src\")\n",
    "\n",
    "if module_path not in sys.path:\n",
    "    sys.path.append(module_path)"
   ]
  },
  {
   "cell_type": "code",
   "execution_count": 5,
   "metadata": {},
   "outputs": [],
   "source": [
    "data_dir = (Path().cwd().parents[0] / 'data').absolute()"
   ]
  },
  {
   "cell_type": "code",
   "execution_count": 6,
   "metadata": {},
   "outputs": [
    {
     "name": "stderr",
     "output_type": "stream",
     "text": [
      "c:\\Users\\thu71\\AppData\\Local\\anaconda3\\envs\\scanpy\\Lib\\site-packages\\torchvision\\io\\image.py:13: UserWarning: Failed to load image Python extension: '[WinError 127] The specified procedure could not be found'If you don't plan on using image functionality from `torchvision.io`, you can ignore this warning. Otherwise, there might be something wrong with your environment. Did you have `libjpeg` or `libpng` installed before building `torchvision` from source?\n",
      "  warn(\n"
     ]
    }
   ],
   "source": [
    "import lightning.pytorch as pl\n",
    "import PPIGraph"
   ]
  },
  {
   "cell_type": "markdown",
   "metadata": {},
   "source": [
    "# Load dataset"
   ]
  },
  {
   "cell_type": "code",
   "execution_count": 7,
   "metadata": {},
   "outputs": [],
   "source": [
    "from torch_geometric.loader import DataLoader\n",
    "\n",
    "# Define condition mapping\n",
    "condition_mapping = {'Control': 0, 'Stimulated': 1}\n",
    "\n",
    "# Load graph dataset and process if neede\n",
    "data_dir = (Path().cwd().parents[0] / 'data'/ 'pixelgen').absolute() / 'Tcell' / 'graphs'\n",
    "\n",
    "dataset = PPIGraph.GraphDataset(data_dir, 'raw', 'pt', condition_mapping=condition_mapping, n_c=2)\n",
    "train_set, val_set, test_set = PPIGraph.train_test_val_split(dataset)\n",
    "\n",
    "# Create Dataloader\n",
    "train_loader = DataLoader(train_set, batch_size=32, shuffle=True)\n",
    "val_loader = DataLoader(val_set, batch_size=32, shuffle=True)\n",
    "test_loader = DataLoader(test_set, batch_size=32, shuffle=False)\n"
   ]
  },
  {
   "cell_type": "code",
   "execution_count": 8,
   "metadata": {},
   "outputs": [
    {
     "name": "stdout",
     "output_type": "stream",
     "text": [
      "Dataset: GraphDataset(932):\n",
      "======================\n",
      "Number of graphs: 932\n",
      "Number of features: 80\n",
      "Number of classes: 2\n",
      "Train set: 448, test set: 372, val set: 112\n",
      "Step 1:\n",
      "=======\n",
      "Number of graphs in the current batch: 32\n",
      "DataBatch(edge_index=[2, 318876], pos=[53210, 3], labels=[53210, 80], weight=[318876], condition=[32], id=[32], train_mask=[53210], test_mask=[53210], x=[53210, 80], y=[32], edge_weight=[318876], name=[32], batch=[53210], ptr=[33])\n",
      "\n"
     ]
    }
   ],
   "source": [
    "# Print some information on the dataset\n",
    "print(f'Dataset: {dataset}:')\n",
    "print('======================')\n",
    "print(f'Number of graphs: {len(dataset)}')\n",
    "print(f'Number of features: {dataset.num_features}')\n",
    "print(f'Number of classes: {dataset.num_classes}')\n",
    "\n",
    "print(f'Train set: {len(train_set)}, test set: {len(test_set)}, val set: {len(val_set)}')\n",
    "for step, data in enumerate(train_loader):\n",
    "\n",
    "    print(f'Step {step + 1}:')\n",
    "    print('=======')\n",
    "    print(f'Number of graphs in the current batch: {data.num_graphs}')\n",
    "    print(data)\n",
    "    print()\n",
    "    break"
   ]
  },
  {
   "cell_type": "code",
   "execution_count": 9,
   "metadata": {},
   "outputs": [
    {
     "name": "stdout",
     "output_type": "stream",
     "text": [
      "Dataset: GraphDataset(932):\n",
      "======================\n",
      "Number of graphs: 932\n",
      "Number of features: 80\n",
      "Number of classes: 2\n",
      "Train set: 448, test set: 372, val set: 112\n",
      "Step 1:\n",
      "=======\n",
      "Number of graphs in the current batch: 32\n",
      "DataBatch(edge_index=[2, 337386], pos=[56295, 3], labels=[56295, 80], weight=[337386], condition=[32], id=[32], train_mask=[56295], test_mask=[56295], x=[56295, 80], y=[32], edge_weight=[337386], name=[32], batch=[56295], ptr=[33])\n",
      "\n"
     ]
    }
   ],
   "source": [
    "# Print some information on the dataset\n",
    "print(f'Dataset: {dataset}:')\n",
    "print('======================')\n",
    "print(f'Number of graphs: {len(dataset)}')\n",
    "print(f'Number of features: {dataset.num_features}')\n",
    "print(f'Number of classes: {dataset.num_classes}')\n",
    "\n",
    "print(f'Train set: {len(train_set)}, test set: {len(test_set)}, val set: {len(val_set)}')\n",
    "for step, data in enumerate(train_loader):\n",
    "\n",
    "    print(f'Step {step + 1}:')\n",
    "    print('=======')\n",
    "    print(f'Number of graphs in the current batch: {data.num_graphs}')\n",
    "    print(data)\n",
    "    print()\n",
    "    break"
   ]
  },
  {
   "cell_type": "markdown",
   "metadata": {},
   "source": [
    "# K-fold on filter dataset"
   ]
  },
  {
   "cell_type": "code",
   "execution_count": 10,
   "metadata": {},
   "outputs": [],
   "source": [
    "import itertools\n",
    "from lightning.pytorch.accelerators import find_usable_cuda_devices\n",
    "import wandb"
   ]
  },
  {
   "cell_type": "code",
   "execution_count": 11,
   "metadata": {},
   "outputs": [],
   "source": [
    "from sklearn.model_selection import KFold, StratifiedKFold\n",
    "from torch.utils.data import SubsetRandomSampler"
   ]
  },
  {
   "cell_type": "code",
   "execution_count": 12,
   "metadata": {},
   "outputs": [],
   "source": [
    "# Define condition mapping\n",
    "condition_mapping = {'Control': 0, 'Stimulated': 1}\n",
    "\n",
    "# Load graph dataset and process if neede\n",
    "data_dir = (Path().cwd().parents[0] / 'data'/ 'pixelgen').absolute() / 'Tcell' / 'graphs'\n",
    "\n",
    "dataset = PPIGraph.GraphDataset(data_dir, 'raw', 'pt', condition_mapping=condition_mapping, n_c=2)\n",
    "train_set, val_set, test_set = PPIGraph.train_test_val_split(dataset)\n",
    "\n",
    "# Create Dataloader\n",
    "loader = DataLoader(dataset, batch_size=1, shuffle=False)"
   ]
  },
  {
   "cell_type": "code",
   "execution_count": 13,
   "metadata": {},
   "outputs": [
    {
     "data": {
      "text/plain": [
       "932"
      ]
     },
     "execution_count": 13,
     "metadata": {},
     "output_type": "execute_result"
    }
   ],
   "source": [
    "len(dataset)"
   ]
  },
  {
   "cell_type": "code",
   "execution_count": 14,
   "metadata": {},
   "outputs": [],
   "source": [
    "dataset_name = 'pixelgen'\n",
    "condition = 'Kfold'\n",
    "checkpoint_folder = (Path().cwd().parents[0]).absolute() / 'data' / 'pixelgen' / 'Tcell' /\"saved_models\" / dataset_name / f\"Graph_GNNs_{condition}\" \n",
    "project_name = f'PLA_01122024_{dataset_name}_{condition}'"
   ]
  },
  {
   "cell_type": "code",
   "execution_count": 15,
   "metadata": {},
   "outputs": [
    {
     "name": "stderr",
     "output_type": "stream",
     "text": [
      "Global seed set to 42\n"
     ]
    }
   ],
   "source": [
    "AVAIL_GPUS = [0]\n",
    "\n",
    "# Setting the seed\n",
    "pl.seed_everything(42)\n",
    "epochs = 65\n",
    "\n",
    "# NUM_LAYERS = 2\n",
    "# HIDDEN_CHANNELS = 16\n",
    "# pools = ['mean', 'max', 'sum', 'attention', 'attention2']\n",
    "# num_layers = [2,3,4]\n",
    "# hiddens = [16, 32, 64]\n",
    "\n",
    "\n",
    "# # model = 'GAT'\n",
    "# model = 'GINConv'\n",
    "params = [[3,128,'attention','MLP'], \n",
    "[3,128,'attention','GraphConv'],\n",
    "[3,128,'attention2','GCN'],\n",
    "[3,128,'attention','GAT_norm'],\n",
    "[3,128,'mean','GINConv_norm']]"
   ]
  },
  {
   "cell_type": "code",
   "execution_count": 16,
   "metadata": {},
   "outputs": [
    {
     "data": {
      "text/plain": [
       "[[3, 128, 'attention', 'MLP'],\n",
       " [3, 128, 'attention', 'GraphConv'],\n",
       " [3, 128, 'attention2', 'GCN'],\n",
       " [3, 128, 'attention', 'GAT_norm'],\n",
       " [3, 128, 'mean', 'GINConv_norm']]"
      ]
     },
     "execution_count": 16,
     "metadata": {},
     "output_type": "execute_result"
    }
   ],
   "source": [
    "params"
   ]
  },
  {
   "cell_type": "code",
   "execution_count": 17,
   "metadata": {},
   "outputs": [],
   "source": [
    "torch.set_float32_matmul_precision('medium')"
   ]
  },
  {
   "cell_type": "code",
   "execution_count": 18,
   "metadata": {},
   "outputs": [
    {
     "name": "stdout",
     "output_type": "stream",
     "text": [
      "y:\\coskun-lab\\Thomas\\23_PLA_revision\\data\\pixelgen\\Tcell\\saved_models\\pixelgen\\Graph_GNNs_Kfold\\MLP_3_128_onehot_0\\attention\\GraphLevelMLP\\GraphLevelMLP.ckpt\n",
      "y:\\coskun-lab\\Thomas\\23_PLA_revision\\data\\pixelgen\\Tcell\\saved_models\\pixelgen\\Graph_GNNs_Kfold\\GraphConv_3_128_onehot_0\\attention\\GraphLevelGraphConv\\GraphLevelGraphConv.ckpt\n",
      "y:\\coskun-lab\\Thomas\\23_PLA_revision\\data\\pixelgen\\Tcell\\saved_models\\pixelgen\\Graph_GNNs_Kfold\\GCN_3_128_onehot_0\\attention2\\GraphLevelGCN\\GraphLevelGCN.ckpt\n"
     ]
    },
    {
     "name": "stderr",
     "output_type": "stream",
     "text": [
      "Failed to detect the name of this notebook, you can set it manually with the WANDB_NOTEBOOK_NAME environment variable to enable code saving.\n",
      "\u001b[34m\u001b[1mwandb\u001b[0m: Currently logged in as: \u001b[33mthoomas\u001b[0m. Use \u001b[1m`wandb login --relogin`\u001b[0m to force relogin\n"
     ]
    },
    {
     "data": {
      "text/html": [
       "wandb version 0.16.2 is available!  To upgrade, please run:\n",
       " $ pip install wandb --upgrade"
      ],
      "text/plain": [
       "<IPython.core.display.HTML object>"
      ]
     },
     "metadata": {},
     "output_type": "display_data"
    },
    {
     "data": {
      "text/html": [
       "Tracking run with wandb version 0.15.8"
      ],
      "text/plain": [
       "<IPython.core.display.HTML object>"
      ]
     },
     "metadata": {},
     "output_type": "display_data"
    },
    {
     "data": {
      "text/html": [
       "Run data is saved locally in <code>y:\\coskun-lab\\Thomas\\23_PLA_revision\\notebooks\\wandb\\run-20240119_150409-3gutwro1</code>"
      ],
      "text/plain": [
       "<IPython.core.display.HTML object>"
      ]
     },
     "metadata": {},
     "output_type": "display_data"
    },
    {
     "data": {
      "text/html": [
       "Syncing run <strong><a href='https://wandb.ai/thoomas/PLA_01122024_pixelgen_Kfold/runs/3gutwro1' target=\"_blank\">GAT_norm_3_128_onehot_0</a></strong> to <a href='https://wandb.ai/thoomas/PLA_01122024_pixelgen_Kfold' target=\"_blank\">Weights & Biases</a> (<a href='https://wandb.me/run' target=\"_blank\">docs</a>)<br/>"
      ],
      "text/plain": [
       "<IPython.core.display.HTML object>"
      ]
     },
     "metadata": {},
     "output_type": "display_data"
    },
    {
     "data": {
      "text/html": [
       " View project at <a href='https://wandb.ai/thoomas/PLA_01122024_pixelgen_Kfold' target=\"_blank\">https://wandb.ai/thoomas/PLA_01122024_pixelgen_Kfold</a>"
      ],
      "text/plain": [
       "<IPython.core.display.HTML object>"
      ]
     },
     "metadata": {},
     "output_type": "display_data"
    },
    {
     "data": {
      "text/html": [
       " View run at <a href='https://wandb.ai/thoomas/PLA_01122024_pixelgen_Kfold/runs/3gutwro1' target=\"_blank\">https://wandb.ai/thoomas/PLA_01122024_pixelgen_Kfold/runs/3gutwro1</a>"
      ],
      "text/plain": [
       "<IPython.core.display.HTML object>"
      ]
     },
     "metadata": {},
     "output_type": "display_data"
    },
    {
     "name": "stderr",
     "output_type": "stream",
     "text": [
      "Global seed set to 42\n",
      "c:\\Users\\thu71\\AppData\\Local\\anaconda3\\envs\\scanpy\\Lib\\site-packages\\pytorch_lightning\\loggers\\wandb.py:397: UserWarning: There is a wandb run already in progress and newly created instances of `WandbLogger` will reuse this run. If this is not desired, call `wandb.finish()` before instantiating `WandbLogger`.\n",
      "  rank_zero_warn(\n",
      "GPU available: True (cuda), used: True\n",
      "TPU available: False, using: 0 TPU cores\n",
      "IPU available: False, using: 0 IPUs\n",
      "HPU available: False, using: 0 HPUs\n",
      "Global seed set to 42\n",
      "c:\\Users\\thu71\\AppData\\Local\\anaconda3\\envs\\scanpy\\Lib\\site-packages\\torch_geometric\\deprecation.py:22: UserWarning: 'nn.glob.GlobalAttention' is deprecated, use 'nn.aggr.AttentionalAggregation' instead\n",
      "  warnings.warn(out)\n"
     ]
    },
    {
     "name": "stdout",
     "output_type": "stream",
     "text": [
      "Using GAT\n"
     ]
    },
    {
     "name": "stderr",
     "output_type": "stream",
     "text": [
      "c:\\Users\\thu71\\AppData\\Local\\anaconda3\\envs\\scanpy\\Lib\\site-packages\\lightning\\pytorch\\callbacks\\model_checkpoint.py:617: UserWarning: Checkpoint directory \\\\bme-retromaster.ad.gatech.edu\\labs5\\coskun-lab\\Thomas\\23_PLA_revision\\data\\pixelgen\\Tcell\\saved_models\\pixelgen\\Graph_GNNs_Kfold\\GAT_norm_3_128_onehot_0\\attention\\GraphLevelGAT_norm exists and is not empty.\n",
      "  rank_zero_warn(f\"Checkpoint directory {dirpath} exists and is not empty.\")\n",
      "LOCAL_RANK: 0 - CUDA_VISIBLE_DEVICES: [0]\n",
      "\n",
      "   | Name        | Type             | Params\n",
      "--------------------------------------------------\n",
      "0  | x_embedding | Identity         | 0     \n",
      "1  | model       | GAT              | 121 K \n",
      "2  | head        | Sequential       | 8.4 K \n",
      "3  | loss_module | CrossEntropyLoss | 0     \n",
      "4  | train_acc   | BinaryAccuracy   | 0     \n",
      "5  | train_auroc | BinaryAUROC      | 0     \n",
      "6  | train_f1    | BinaryF1Score    | 0     \n",
      "7  | valid_acc   | BinaryAccuracy   | 0     \n",
      "8  | valid_auroc | BinaryAUROC      | 0     \n",
      "9  | valid_f1    | BinaryF1Score    | 0     \n",
      "10 | pool        | GlobalAttention  | 129   \n",
      "--------------------------------------------------\n",
      "130 K     Trainable params\n",
      "0         Non-trainable params\n",
      "130 K     Total params\n",
      "0.521     Total estimated model params size (MB)\n",
      "c:\\Users\\thu71\\AppData\\Local\\anaconda3\\envs\\scanpy\\Lib\\site-packages\\lightning\\pytorch\\trainer\\connectors\\data_connector.py:438: PossibleUserWarning: The dataloader, val_dataloader, does not have many workers which may be a bottleneck. Consider increasing the value of the `num_workers` argument` (try 24 which is the number of cpus on this machine) in the `DataLoader` init to improve performance.\n",
      "  rank_zero_warn(\n",
      "c:\\Users\\thu71\\AppData\\Local\\anaconda3\\envs\\scanpy\\Lib\\site-packages\\torchmetrics\\utilities\\prints.py:42: UserWarning: No positive samples in targets, true positive value should be meaningless. Returning zero tensor in true positive score\n",
      "  warnings.warn(*args, **kwargs)  # noqa: B028\n",
      "c:\\Users\\thu71\\AppData\\Local\\anaconda3\\envs\\scanpy\\Lib\\site-packages\\lightning\\pytorch\\utilities\\data.py:76: UserWarning: Trying to infer the `batch_size` from an ambiguous collection. The batch size we found is 2. To avoid any miscalculations, use `self.log(..., batch_size=batch_size)`.\n",
      "  warning_cache.warn(\n",
      "c:\\Users\\thu71\\AppData\\Local\\anaconda3\\envs\\scanpy\\Lib\\site-packages\\lightning\\pytorch\\trainer\\connectors\\data_connector.py:438: PossibleUserWarning: The dataloader, train_dataloader, does not have many workers which may be a bottleneck. Consider increasing the value of the `num_workers` argument` (try 24 which is the number of cpus on this machine) in the `DataLoader` init to improve performance.\n",
      "  rank_zero_warn(\n",
      "c:\\Users\\thu71\\AppData\\Local\\anaconda3\\envs\\scanpy\\Lib\\site-packages\\torchmetrics\\utilities\\prints.py:42: UserWarning: No negative samples in targets, false positive value should be meaningless. Returning zero tensor in false positive score\n",
      "  warnings.warn(*args, **kwargs)  # noqa: B028\n",
      "`Trainer.fit` stopped: `max_epochs=65` reached.\n"
     ]
    },
    {
     "data": {
      "text/html": [
       "Waiting for W&B process to finish... <strong style=\"color:green\">(success).</strong>"
      ],
      "text/plain": [
       "<IPython.core.display.HTML object>"
      ]
     },
     "metadata": {},
     "output_type": "display_data"
    },
    {
     "data": {
      "text/html": [
       "<style>\n",
       "    table.wandb td:nth-child(1) { padding: 0 10px; text-align: left ; width: auto;} td:nth-child(2) {text-align: left ; width: 100%}\n",
       "    .wandb-row { display: flex; flex-direction: row; flex-wrap: wrap; justify-content: flex-start; width: 100% }\n",
       "    .wandb-col { display: flex; flex-direction: column; flex-basis: 100%; flex: 1; padding: 10px; }\n",
       "    </style>\n",
       "<div class=\"wandb-row\"><div class=\"wandb-col\"><h3>Run history:</h3><br/><table class=\"wandb\"><tr><td>epoch</td><td>▁▁▁▂▂▂▂▂▂▃▃▃▃▃▄▄▄▄▄▄▅▅▅▅▅▅▆▆▆▆▆▆▇▇▇▇▇███</td></tr><tr><td>lr-Adam</td><td>▁▁▁▁▁▁▁▁▁▁▁▁▁▁▁▁▁▁▁▁▁▁▁▁▁▁▁▁▁▁▁▁▁▁▁▁▁▁▁▁</td></tr><tr><td>train_acc</td><td>▁▅▆▇▇▇▆███▇▇▇██▇████████▇███████▇█▇█████</td></tr><tr><td>train_auc</td><td>▁▆▇▇██▇█████████████████████████████████</td></tr><tr><td>train_f1</td><td>▁▅▆▇▇▇▆█████▇███████████▇███████▇███████</td></tr><tr><td>train_loss_epoch</td><td>█▅▄▃▃▃▄▂▂▂▂▂▃▂▁▂▁▁▁▁▁▂▁▄▂▁▁▁▁▁▁▁▂▁▂▂▂▁▂▁</td></tr><tr><td>train_loss_step</td><td>▄▄▃▂▄▇▄▂▂▄▂▁▂▁▁█▂▁▁▁▁▁▂▂▁▂▁▁▁▁▁▄▂▁▁▁▃▁▁▁</td></tr><tr><td>trainer/global_step</td><td>▁▁▁▁▂▁▁▂▁▁▃▃▂▂▄▄▂▄▄▂▅▅▂▅▆▂▂▆▂▂▂▇▂▃▇▃▃█▃▃</td></tr><tr><td>val_acc</td><td>▄▆▄▇▆▇▇█▇▆█▇▁▇███▇▇██▇▇▇▆█▇████▇▄█▆█▇▅█▇</td></tr><tr><td>val_auc</td><td>▁▆▇█████████▇███████████████████████████</td></tr><tr><td>val_f1</td><td>▅▇▅▇▆▇▇█▇▇█▇▁███████████▇███████▅█▇█▇▅██</td></tr><tr><td>val_loss_epoch</td><td>▅▃▄▂▃▂▂▁▂▃▁▂█▁▁▁▁▁▁▁▁▁▁▁▂▁▁▁▁▁▁▁▄▂▂▁▂▄▁▂</td></tr><tr><td>val_loss_step</td><td>▃▂▁▁▃▂▂▂▁▁▁▁█▂▁▁▁▁▂▁▁▁▁▁▁▁▁▁▁▁▁▁▄▁▂▂▁▁▂▂</td></tr></table><br/></div><div class=\"wandb-col\"><h3>Run summary:</h3><br/><table class=\"wandb\"><tr><td>epoch</td><td>64</td></tr><tr><td>lr-Adam</td><td>0.005</td></tr><tr><td>train_acc</td><td>0.98658</td></tr><tr><td>train_auc</td><td>0.99883</td></tr><tr><td>train_f1</td><td>0.98538</td></tr><tr><td>train_loss_epoch</td><td>0.04204</td></tr><tr><td>train_loss_step</td><td>0.00825</td></tr><tr><td>trainer/global_step</td><td>1559</td></tr><tr><td>val_acc</td><td>0.96791</td></tr><tr><td>val_auc</td><td>0.99414</td></tr><tr><td>val_f1</td><td>0.96471</td></tr><tr><td>val_loss_epoch</td><td>0.11667</td></tr><tr><td>val_loss_step</td><td>0.11355</td></tr></table><br/></div></div>"
      ],
      "text/plain": [
       "<IPython.core.display.HTML object>"
      ]
     },
     "metadata": {},
     "output_type": "display_data"
    },
    {
     "data": {
      "text/html": [
       " View run <strong style=\"color:#cdcd00\">GAT_norm_3_128_onehot_0</strong> at: <a href='https://wandb.ai/thoomas/PLA_01122024_pixelgen_Kfold/runs/3gutwro1' target=\"_blank\">https://wandb.ai/thoomas/PLA_01122024_pixelgen_Kfold/runs/3gutwro1</a><br/>Synced 6 W&B file(s), 0 media file(s), 0 artifact file(s) and 0 other file(s)"
      ],
      "text/plain": [
       "<IPython.core.display.HTML object>"
      ]
     },
     "metadata": {},
     "output_type": "display_data"
    },
    {
     "data": {
      "text/html": [
       "Find logs at: <code>.\\wandb\\run-20240119_150409-3gutwro1\\logs</code>"
      ],
      "text/plain": [
       "<IPython.core.display.HTML object>"
      ]
     },
     "metadata": {},
     "output_type": "display_data"
    },
    {
     "data": {
      "application/vnd.jupyter.widget-view+json": {
       "model_id": "46ff84764353442ab27bcacdf2fe75a0",
       "version_major": 2,
       "version_minor": 0
      },
      "text/plain": [
       "VBox(children=(Label(value='Waiting for wandb.init()...\\r'), FloatProgress(value=0.01693333333338766, max=1.0)…"
      ]
     },
     "metadata": {},
     "output_type": "display_data"
    },
    {
     "data": {
      "text/html": [
       "wandb version 0.16.2 is available!  To upgrade, please run:\n",
       " $ pip install wandb --upgrade"
      ],
      "text/plain": [
       "<IPython.core.display.HTML object>"
      ]
     },
     "metadata": {},
     "output_type": "display_data"
    },
    {
     "data": {
      "text/html": [
       "Tracking run with wandb version 0.15.8"
      ],
      "text/plain": [
       "<IPython.core.display.HTML object>"
      ]
     },
     "metadata": {},
     "output_type": "display_data"
    },
    {
     "data": {
      "text/html": [
       "Run data is saved locally in <code>y:\\coskun-lab\\Thomas\\23_PLA_revision\\notebooks\\wandb\\run-20240119_151333-9adha4kf</code>"
      ],
      "text/plain": [
       "<IPython.core.display.HTML object>"
      ]
     },
     "metadata": {},
     "output_type": "display_data"
    },
    {
     "data": {
      "text/html": [
       "Syncing run <strong><a href='https://wandb.ai/thoomas/PLA_01122024_pixelgen_Kfold/runs/9adha4kf' target=\"_blank\">GINConv_norm_3_128_onehot_0</a></strong> to <a href='https://wandb.ai/thoomas/PLA_01122024_pixelgen_Kfold' target=\"_blank\">Weights & Biases</a> (<a href='https://wandb.me/run' target=\"_blank\">docs</a>)<br/>"
      ],
      "text/plain": [
       "<IPython.core.display.HTML object>"
      ]
     },
     "metadata": {},
     "output_type": "display_data"
    },
    {
     "data": {
      "text/html": [
       " View project at <a href='https://wandb.ai/thoomas/PLA_01122024_pixelgen_Kfold' target=\"_blank\">https://wandb.ai/thoomas/PLA_01122024_pixelgen_Kfold</a>"
      ],
      "text/plain": [
       "<IPython.core.display.HTML object>"
      ]
     },
     "metadata": {},
     "output_type": "display_data"
    },
    {
     "data": {
      "text/html": [
       " View run at <a href='https://wandb.ai/thoomas/PLA_01122024_pixelgen_Kfold/runs/9adha4kf' target=\"_blank\">https://wandb.ai/thoomas/PLA_01122024_pixelgen_Kfold/runs/9adha4kf</a>"
      ],
      "text/plain": [
       "<IPython.core.display.HTML object>"
      ]
     },
     "metadata": {},
     "output_type": "display_data"
    },
    {
     "name": "stderr",
     "output_type": "stream",
     "text": [
      "Global seed set to 42\n",
      "GPU available: True (cuda), used: True\n",
      "TPU available: False, using: 0 TPU cores\n",
      "IPU available: False, using: 0 IPUs\n",
      "HPU available: False, using: 0 HPUs\n",
      "Global seed set to 42\n",
      "c:\\Users\\thu71\\AppData\\Local\\anaconda3\\envs\\scanpy\\Lib\\site-packages\\lightning\\pytorch\\callbacks\\model_checkpoint.py:617: UserWarning: Checkpoint directory \\\\bme-retromaster.ad.gatech.edu\\labs5\\coskun-lab\\Thomas\\23_PLA_revision\\data\\pixelgen\\Tcell\\saved_models\\pixelgen\\Graph_GNNs_Kfold\\GINConv_norm_3_128_onehot_0\\mean\\GraphLevelGINConv_norm exists and is not empty.\n",
      "  rank_zero_warn(f\"Checkpoint directory {dirpath} exists and is not empty.\")\n",
      "LOCAL_RANK: 0 - CUDA_VISIBLE_DEVICES: [0]\n",
      "\n",
      "  | Name        | Type             | Params\n",
      "-------------------------------------------------\n",
      "0 | x_embedding | Identity         | 0     \n",
      "1 | model       | GIN              | 94.2 K\n",
      "2 | head        | Sequential       | 8.4 K \n",
      "3 | loss_module | CrossEntropyLoss | 0     \n",
      "4 | train_acc   | BinaryAccuracy   | 0     \n",
      "5 | train_auroc | BinaryAUROC      | 0     \n",
      "6 | train_f1    | BinaryF1Score    | 0     \n",
      "7 | valid_acc   | BinaryAccuracy   | 0     \n",
      "8 | valid_auroc | BinaryAUROC      | 0     \n",
      "9 | valid_f1    | BinaryF1Score    | 0     \n",
      "-------------------------------------------------\n",
      "102 K     Trainable params\n",
      "0         Non-trainable params\n",
      "102 K     Total params\n",
      "0.410     Total estimated model params size (MB)\n"
     ]
    },
    {
     "name": "stdout",
     "output_type": "stream",
     "text": [
      "GINConv\n"
     ]
    },
    {
     "name": "stderr",
     "output_type": "stream",
     "text": [
      "`Trainer.fit` stopped: `max_epochs=65` reached.\n"
     ]
    },
    {
     "data": {
      "text/html": [
       "Waiting for W&B process to finish... <strong style=\"color:green\">(success).</strong>"
      ],
      "text/plain": [
       "<IPython.core.display.HTML object>"
      ]
     },
     "metadata": {},
     "output_type": "display_data"
    },
    {
     "data": {
      "application/vnd.jupyter.widget-view+json": {
       "model_id": "427a98c1e3d54a6aa34f468fe00f0274",
       "version_major": 2,
       "version_minor": 0
      },
      "text/plain": [
       "VBox(children=(Label(value='0.001 MB of 0.001 MB uploaded (0.000 MB deduped)\\r'), FloatProgress(value=1.0, max…"
      ]
     },
     "metadata": {},
     "output_type": "display_data"
    },
    {
     "data": {
      "text/html": [
       "<style>\n",
       "    table.wandb td:nth-child(1) { padding: 0 10px; text-align: left ; width: auto;} td:nth-child(2) {text-align: left ; width: 100%}\n",
       "    .wandb-row { display: flex; flex-direction: row; flex-wrap: wrap; justify-content: flex-start; width: 100% }\n",
       "    .wandb-col { display: flex; flex-direction: column; flex-basis: 100%; flex: 1; padding: 10px; }\n",
       "    </style>\n",
       "<div class=\"wandb-row\"><div class=\"wandb-col\"><h3>Run history:</h3><br/><table class=\"wandb\"><tr><td>epoch</td><td>▁▁▁▂▂▂▂▂▂▃▃▃▃▃▄▄▄▄▄▄▅▅▅▅▅▅▆▆▆▆▆▆▇▇▇▇▇███</td></tr><tr><td>lr-Adam</td><td>▁▁▁▁▁▁▁▁▁▁▁▁▁▁▁▁▁▁▁▁▁▁▁▁▁▁▁▁▁▁▁▁▁▁▁▁▁▁▁▁</td></tr><tr><td>train_acc</td><td>▁▅▇▇▇▆▇▇▇██▇▆▇▇▆███▇▆▆██████████▇██████▇</td></tr><tr><td>train_auc</td><td>▁▆███▇█████▇▇███████▇▇██████████████████</td></tr><tr><td>train_f1</td><td>▁▅▇█▇▆▇▇▇██▇▆█▇▆███▇▆▆██████████▇██████▇</td></tr><tr><td>train_loss_epoch</td><td>█▄▂▂▃▃▂▂▂▁▁▃▃▁▂▃▁▁▁▂▃▃▁▂▁▁▁▁▁▁▁▁▂▁▁▂▁▂▁▂</td></tr><tr><td>train_loss_step</td><td>▂█▂▁▁▄▁▅▂▁▂▁▃▁▃▅▁▁▁▂▁▂▁▄▁▁▁▁▁▁▁▂▃▃▂▁▁▁▂▅</td></tr><tr><td>trainer/global_step</td><td>▁▁▁▁▂▁▁▂▁▁▃▃▂▂▄▄▂▄▄▂▅▅▂▅▆▂▂▆▂▂▂▇▂▃▇▃▃█▃▃</td></tr><tr><td>val_acc</td><td>▁▇▇▇▇▅▇▇▇▇▇█▆▇▇▆█▇▇▇▆██▇▇▇▇▇▇▇▇█▇▇▇▇▇█▇▇</td></tr><tr><td>val_auc</td><td>▆▆▇▇▃▁▇▇▇███▇███▇██▂▇███▅▇██████▇▆▇▇▇███</td></tr><tr><td>val_f1</td><td>▁▆▇▇▇▅▇▇▇▇▇█▆▇▇▆█▇▇▇▅██▇▇▇▇▆▇▇▇█▇▇▇▇▇█▇▆</td></tr><tr><td>val_loss_epoch</td><td>█▂▁▁▂▂▁▂▁▁▁▁▂▁▁▂▁▁▁▂▂▂▁▁▂▁▁▂▁▁▁▁▁▂▂▂▂▁▁▂</td></tr><tr><td>val_loss_step</td><td>▁▁▁▃█▃▁▁▂▂▁▂▁▁▂▁▁▁▁▅▅▂▁▁▁▃▂▁▁▁▄▁▁▁▁▂▄▂▁▁</td></tr></table><br/></div><div class=\"wandb-col\"><h3>Run summary:</h3><br/><table class=\"wandb\"><tr><td>epoch</td><td>64</td></tr><tr><td>lr-Adam</td><td>0.005</td></tr><tr><td>train_acc</td><td>0.98658</td></tr><tr><td>train_auc</td><td>0.99965</td></tr><tr><td>train_f1</td><td>0.98551</td></tr><tr><td>train_loss_epoch</td><td>0.02955</td></tr><tr><td>train_loss_step</td><td>0.19161</td></tr><tr><td>trainer/global_step</td><td>1559</td></tr><tr><td>val_acc</td><td>0.96791</td></tr><tr><td>val_auc</td><td>1.0</td></tr><tr><td>val_f1</td><td>0.96667</td></tr><tr><td>val_loss_epoch</td><td>0.05364</td></tr><tr><td>val_loss_step</td><td>0.00022</td></tr></table><br/></div></div>"
      ],
      "text/plain": [
       "<IPython.core.display.HTML object>"
      ]
     },
     "metadata": {},
     "output_type": "display_data"
    },
    {
     "data": {
      "text/html": [
       " View run <strong style=\"color:#cdcd00\">GINConv_norm_3_128_onehot_0</strong> at: <a href='https://wandb.ai/thoomas/PLA_01122024_pixelgen_Kfold/runs/9adha4kf' target=\"_blank\">https://wandb.ai/thoomas/PLA_01122024_pixelgen_Kfold/runs/9adha4kf</a><br/>Synced 6 W&B file(s), 0 media file(s), 0 artifact file(s) and 0 other file(s)"
      ],
      "text/plain": [
       "<IPython.core.display.HTML object>"
      ]
     },
     "metadata": {},
     "output_type": "display_data"
    },
    {
     "data": {
      "text/html": [
       "Find logs at: <code>.\\wandb\\run-20240119_151333-9adha4kf\\logs</code>"
      ],
      "text/plain": [
       "<IPython.core.display.HTML object>"
      ]
     },
     "metadata": {},
     "output_type": "display_data"
    },
    {
     "data": {
      "application/vnd.jupyter.widget-view+json": {
       "model_id": "9a9e27293682451685f49dda04e0897f",
       "version_major": 2,
       "version_minor": 0
      },
      "text/plain": [
       "VBox(children=(Label(value='Waiting for wandb.init()...\\r'), FloatProgress(value=0.016916666666414434, max=1.0…"
      ]
     },
     "metadata": {},
     "output_type": "display_data"
    },
    {
     "data": {
      "text/html": [
       "wandb version 0.16.2 is available!  To upgrade, please run:\n",
       " $ pip install wandb --upgrade"
      ],
      "text/plain": [
       "<IPython.core.display.HTML object>"
      ]
     },
     "metadata": {},
     "output_type": "display_data"
    },
    {
     "data": {
      "text/html": [
       "Tracking run with wandb version 0.15.8"
      ],
      "text/plain": [
       "<IPython.core.display.HTML object>"
      ]
     },
     "metadata": {},
     "output_type": "display_data"
    },
    {
     "data": {
      "text/html": [
       "Run data is saved locally in <code>y:\\coskun-lab\\Thomas\\23_PLA_revision\\notebooks\\wandb\\run-20240119_152002-ryxdsr7a</code>"
      ],
      "text/plain": [
       "<IPython.core.display.HTML object>"
      ]
     },
     "metadata": {},
     "output_type": "display_data"
    },
    {
     "data": {
      "text/html": [
       "Syncing run <strong><a href='https://wandb.ai/thoomas/PLA_01122024_pixelgen_Kfold/runs/ryxdsr7a' target=\"_blank\">MLP_3_128_onehot_1</a></strong> to <a href='https://wandb.ai/thoomas/PLA_01122024_pixelgen_Kfold' target=\"_blank\">Weights & Biases</a> (<a href='https://wandb.me/run' target=\"_blank\">docs</a>)<br/>"
      ],
      "text/plain": [
       "<IPython.core.display.HTML object>"
      ]
     },
     "metadata": {},
     "output_type": "display_data"
    },
    {
     "data": {
      "text/html": [
       " View project at <a href='https://wandb.ai/thoomas/PLA_01122024_pixelgen_Kfold' target=\"_blank\">https://wandb.ai/thoomas/PLA_01122024_pixelgen_Kfold</a>"
      ],
      "text/plain": [
       "<IPython.core.display.HTML object>"
      ]
     },
     "metadata": {},
     "output_type": "display_data"
    },
    {
     "data": {
      "text/html": [
       " View run at <a href='https://wandb.ai/thoomas/PLA_01122024_pixelgen_Kfold/runs/ryxdsr7a' target=\"_blank\">https://wandb.ai/thoomas/PLA_01122024_pixelgen_Kfold/runs/ryxdsr7a</a>"
      ],
      "text/plain": [
       "<IPython.core.display.HTML object>"
      ]
     },
     "metadata": {},
     "output_type": "display_data"
    },
    {
     "name": "stderr",
     "output_type": "stream",
     "text": [
      "Global seed set to 42\n",
      "GPU available: True (cuda), used: True\n",
      "TPU available: False, using: 0 TPU cores\n",
      "IPU available: False, using: 0 IPUs\n",
      "HPU available: False, using: 0 HPUs\n",
      "Global seed set to 42\n",
      "c:\\Users\\thu71\\AppData\\Local\\anaconda3\\envs\\scanpy\\Lib\\site-packages\\lightning\\pytorch\\callbacks\\model_checkpoint.py:617: UserWarning: Checkpoint directory \\\\bme-retromaster.ad.gatech.edu\\labs5\\coskun-lab\\Thomas\\23_PLA_revision\\data\\pixelgen\\Tcell\\saved_models\\pixelgen\\Graph_GNNs_Kfold\\MLP_3_128_onehot_1\\attention\\GraphLevelMLP exists and is not empty.\n",
      "  rank_zero_warn(f\"Checkpoint directory {dirpath} exists and is not empty.\")\n",
      "LOCAL_RANK: 0 - CUDA_VISIBLE_DEVICES: [0]\n",
      "\n",
      "   | Name        | Type             | Params\n",
      "--------------------------------------------------\n",
      "0  | x_embedding | Identity         | 0     \n",
      "1  | model       | MLPModel         | 43.4 K\n",
      "2  | head        | Sequential       | 8.4 K \n",
      "3  | loss_module | CrossEntropyLoss | 0     \n",
      "4  | train_acc   | BinaryAccuracy   | 0     \n",
      "5  | train_auroc | BinaryAUROC      | 0     \n",
      "6  | train_f1    | BinaryF1Score    | 0     \n",
      "7  | valid_acc   | BinaryAccuracy   | 0     \n",
      "8  | valid_auroc | BinaryAUROC      | 0     \n",
      "9  | valid_f1    | BinaryF1Score    | 0     \n",
      "10 | pool        | GlobalAttention  | 129   \n",
      "--------------------------------------------------\n",
      "51.9 K    Trainable params\n",
      "0         Non-trainable params\n",
      "51.9 K    Total params\n",
      "0.208     Total estimated model params size (MB)\n"
     ]
    },
    {
     "name": "stdout",
     "output_type": "stream",
     "text": [
      "Using MLP\n"
     ]
    },
    {
     "name": "stderr",
     "output_type": "stream",
     "text": [
      "`Trainer.fit` stopped: `max_epochs=65` reached.\n"
     ]
    },
    {
     "data": {
      "text/html": [
       "Waiting for W&B process to finish... <strong style=\"color:green\">(success).</strong>"
      ],
      "text/plain": [
       "<IPython.core.display.HTML object>"
      ]
     },
     "metadata": {},
     "output_type": "display_data"
    },
    {
     "data": {
      "application/vnd.jupyter.widget-view+json": {
       "model_id": "e4e79e827457409bb89a6bf46026054d",
       "version_major": 2,
       "version_minor": 0
      },
      "text/plain": [
       "VBox(children=(Label(value='0.001 MB of 0.001 MB uploaded (0.000 MB deduped)\\r'), FloatProgress(value=1.0, max…"
      ]
     },
     "metadata": {},
     "output_type": "display_data"
    },
    {
     "data": {
      "text/html": [
       "<style>\n",
       "    table.wandb td:nth-child(1) { padding: 0 10px; text-align: left ; width: auto;} td:nth-child(2) {text-align: left ; width: 100%}\n",
       "    .wandb-row { display: flex; flex-direction: row; flex-wrap: wrap; justify-content: flex-start; width: 100% }\n",
       "    .wandb-col { display: flex; flex-direction: column; flex-basis: 100%; flex: 1; padding: 10px; }\n",
       "    </style>\n",
       "<div class=\"wandb-row\"><div class=\"wandb-col\"><h3>Run history:</h3><br/><table class=\"wandb\"><tr><td>epoch</td><td>▁▁▁▂▂▂▂▂▂▃▃▃▃▃▄▄▄▄▄▄▅▅▅▅▅▅▆▆▆▆▆▆▇▇▇▇▇███</td></tr><tr><td>lr-Adam</td><td>▁▁▁▁▁▁▁▁▁▁▁▁▁▁▁▁▁▁▁▁▁▁▁▁▁▁▁▁▁▁▁▁▁▁▁▁▁▁▁▁</td></tr><tr><td>train_acc</td><td>▁▆▇▇▆▆▇▇▁▅▆▇▇▆▆▇▇▇▆▆▇▇▇████▇▇███▇█▆▅▆▇▇█</td></tr><tr><td>train_auc</td><td>▁▇▇▇▅▇▇█▁▆▇▇▇▇▇▇▇▇▇▇▇██████▇██████▇▅▇▇██</td></tr><tr><td>train_f1</td><td>▃▇▇▇▆▇▇▇▁▅▆▇▇▇▇▇▇▇▇▆▇▇▇████▇████▇█▇▆▆▇▇█</td></tr><tr><td>train_loss_epoch</td><td>█▆▄▂▆▄▃▂▇▅▃▃▂▄▄▃▃▃▄▃▃▂▂▂▂▂▁▃▂▁▁▁▂▁▇▇▄▃▂▂</td></tr><tr><td>train_loss_step</td><td>▃▂▁▂▂▄▆▁▄▂▂▂▂▂▆▂▁▂▂▂▂▁▂▁▁▁▂▁▁▁▁▁▂▁▇▅▂▂▂█</td></tr><tr><td>trainer/global_step</td><td>▁▁▁▁▂▁▁▂▁▁▃▃▂▂▄▄▂▄▄▂▅▅▂▅▆▂▂▆▂▂▂▇▂▃▇▃▃█▃▃</td></tr><tr><td>val_acc</td><td>▅▆▆▅▄▄▇█▃▃▇▅▇▄▂▇▇▇▆▆▄▇▇████▇███▇█▇▄▁▅▅▇▇</td></tr><tr><td>val_auc</td><td>▅▇▇█▇███▃▇█▇██▇▇██▇▇██████████████▁▇▇▇▇█</td></tr><tr><td>val_f1</td><td>▆▇▇▅▅▅▇█▄▄▇▅█▅▃█▇▇▇▆▅█▇████▇█████▇▅▁▆▆▇▇</td></tr><tr><td>val_loss_epoch</td><td>▄▃▃▃▃▃▂▂▅▄▃▃▃▃▅▂▃▂▃▂▃▂▁▁▁▁▁▂▁▁▁▁▁▁▄█▃▄▂▂</td></tr><tr><td>val_loss_step</td><td>▂▁▂▂▂▂▂▂▂▁▂▂▂▄▁▂▂▁▂▁▁▁▁▂▁▁▁▁▁▁▁▁▁▁▄█▁▁▂▂</td></tr></table><br/></div><div class=\"wandb-col\"><h3>Run summary:</h3><br/><table class=\"wandb\"><tr><td>epoch</td><td>64</td></tr><tr><td>lr-Adam</td><td>0.005</td></tr><tr><td>train_acc</td><td>0.96913</td></tr><tr><td>train_auc</td><td>0.98951</td></tr><tr><td>train_f1</td><td>0.96738</td></tr><tr><td>train_loss_epoch</td><td>0.16127</td></tr><tr><td>train_loss_step</td><td>1.22461</td></tr><tr><td>trainer/global_step</td><td>1559</td></tr><tr><td>val_acc</td><td>0.94652</td></tr><tr><td>val_auc</td><td>0.99774</td></tr><tr><td>val_f1</td><td>0.92857</td></tr><tr><td>val_loss_epoch</td><td>0.13527</td></tr><tr><td>val_loss_step</td><td>0.30563</td></tr></table><br/></div></div>"
      ],
      "text/plain": [
       "<IPython.core.display.HTML object>"
      ]
     },
     "metadata": {},
     "output_type": "display_data"
    },
    {
     "data": {
      "text/html": [
       " View run <strong style=\"color:#cdcd00\">MLP_3_128_onehot_1</strong> at: <a href='https://wandb.ai/thoomas/PLA_01122024_pixelgen_Kfold/runs/ryxdsr7a' target=\"_blank\">https://wandb.ai/thoomas/PLA_01122024_pixelgen_Kfold/runs/ryxdsr7a</a><br/>Synced 6 W&B file(s), 0 media file(s), 0 artifact file(s) and 0 other file(s)"
      ],
      "text/plain": [
       "<IPython.core.display.HTML object>"
      ]
     },
     "metadata": {},
     "output_type": "display_data"
    },
    {
     "data": {
      "text/html": [
       "Find logs at: <code>.\\wandb\\run-20240119_152002-ryxdsr7a\\logs</code>"
      ],
      "text/plain": [
       "<IPython.core.display.HTML object>"
      ]
     },
     "metadata": {},
     "output_type": "display_data"
    },
    {
     "data": {
      "application/vnd.jupyter.widget-view+json": {
       "model_id": "8b87f7c15f084c6eab4ae65ee90610e8",
       "version_major": 2,
       "version_minor": 0
      },
      "text/plain": [
       "VBox(children=(Label(value='Waiting for wandb.init()...\\r'), FloatProgress(value=0.016666666666666666, max=1.0…"
      ]
     },
     "metadata": {},
     "output_type": "display_data"
    },
    {
     "data": {
      "text/html": [
       "wandb version 0.16.2 is available!  To upgrade, please run:\n",
       " $ pip install wandb --upgrade"
      ],
      "text/plain": [
       "<IPython.core.display.HTML object>"
      ]
     },
     "metadata": {},
     "output_type": "display_data"
    },
    {
     "data": {
      "text/html": [
       "Tracking run with wandb version 0.15.8"
      ],
      "text/plain": [
       "<IPython.core.display.HTML object>"
      ]
     },
     "metadata": {},
     "output_type": "display_data"
    },
    {
     "data": {
      "text/html": [
       "Run data is saved locally in <code>y:\\coskun-lab\\Thomas\\23_PLA_revision\\notebooks\\wandb\\run-20240119_152700-l80fkuo1</code>"
      ],
      "text/plain": [
       "<IPython.core.display.HTML object>"
      ]
     },
     "metadata": {},
     "output_type": "display_data"
    },
    {
     "data": {
      "text/html": [
       "Syncing run <strong><a href='https://wandb.ai/thoomas/PLA_01122024_pixelgen_Kfold/runs/l80fkuo1' target=\"_blank\">GraphConv_3_128_onehot_1</a></strong> to <a href='https://wandb.ai/thoomas/PLA_01122024_pixelgen_Kfold' target=\"_blank\">Weights & Biases</a> (<a href='https://wandb.me/run' target=\"_blank\">docs</a>)<br/>"
      ],
      "text/plain": [
       "<IPython.core.display.HTML object>"
      ]
     },
     "metadata": {},
     "output_type": "display_data"
    },
    {
     "data": {
      "text/html": [
       " View project at <a href='https://wandb.ai/thoomas/PLA_01122024_pixelgen_Kfold' target=\"_blank\">https://wandb.ai/thoomas/PLA_01122024_pixelgen_Kfold</a>"
      ],
      "text/plain": [
       "<IPython.core.display.HTML object>"
      ]
     },
     "metadata": {},
     "output_type": "display_data"
    },
    {
     "data": {
      "text/html": [
       " View run at <a href='https://wandb.ai/thoomas/PLA_01122024_pixelgen_Kfold/runs/l80fkuo1' target=\"_blank\">https://wandb.ai/thoomas/PLA_01122024_pixelgen_Kfold/runs/l80fkuo1</a>"
      ],
      "text/plain": [
       "<IPython.core.display.HTML object>"
      ]
     },
     "metadata": {},
     "output_type": "display_data"
    },
    {
     "name": "stderr",
     "output_type": "stream",
     "text": [
      "Global seed set to 42\n",
      "GPU available: True (cuda), used: True\n",
      "TPU available: False, using: 0 TPU cores\n",
      "IPU available: False, using: 0 IPUs\n",
      "HPU available: False, using: 0 HPUs\n",
      "Global seed set to 42\n",
      "c:\\Users\\thu71\\AppData\\Local\\anaconda3\\envs\\scanpy\\Lib\\site-packages\\lightning\\pytorch\\callbacks\\model_checkpoint.py:617: UserWarning: Checkpoint directory \\\\bme-retromaster.ad.gatech.edu\\labs5\\coskun-lab\\Thomas\\23_PLA_revision\\data\\pixelgen\\Tcell\\saved_models\\pixelgen\\Graph_GNNs_Kfold\\GraphConv_3_128_onehot_1\\attention\\GraphLevelGraphConv exists and is not empty.\n",
      "  rank_zero_warn(f\"Checkpoint directory {dirpath} exists and is not empty.\")\n",
      "LOCAL_RANK: 0 - CUDA_VISIBLE_DEVICES: [0]\n",
      "\n",
      "   | Name        | Type             | Params\n",
      "--------------------------------------------------\n",
      "0  | x_embedding | Identity         | 0     \n",
      "1  | model       | GNNModel         | 86.9 K\n",
      "2  | head        | Sequential       | 8.4 K \n",
      "3  | loss_module | CrossEntropyLoss | 0     \n",
      "4  | train_acc   | BinaryAccuracy   | 0     \n",
      "5  | train_auroc | BinaryAUROC      | 0     \n",
      "6  | train_f1    | BinaryF1Score    | 0     \n",
      "7  | valid_acc   | BinaryAccuracy   | 0     \n",
      "8  | valid_auroc | BinaryAUROC      | 0     \n",
      "9  | valid_f1    | BinaryF1Score    | 0     \n",
      "10 | pool        | GlobalAttention  | 129   \n",
      "--------------------------------------------------\n",
      "95.4 K    Trainable params\n",
      "0         Non-trainable params\n",
      "95.4 K    Total params\n",
      "0.382     Total estimated model params size (MB)\n"
     ]
    },
    {
     "name": "stdout",
     "output_type": "stream",
     "text": [
      "Using GNN\n"
     ]
    },
    {
     "name": "stderr",
     "output_type": "stream",
     "text": [
      "`Trainer.fit` stopped: `max_epochs=65` reached.\n"
     ]
    },
    {
     "data": {
      "text/html": [
       "Waiting for W&B process to finish... <strong style=\"color:green\">(success).</strong>"
      ],
      "text/plain": [
       "<IPython.core.display.HTML object>"
      ]
     },
     "metadata": {},
     "output_type": "display_data"
    },
    {
     "data": {
      "application/vnd.jupyter.widget-view+json": {
       "model_id": "5a5e04fd9890464eab8f6e7bb2001571",
       "version_major": 2,
       "version_minor": 0
      },
      "text/plain": [
       "VBox(children=(Label(value='0.001 MB of 0.013 MB uploaded (0.000 MB deduped)\\r'), FloatProgress(value=0.080043…"
      ]
     },
     "metadata": {},
     "output_type": "display_data"
    },
    {
     "data": {
      "text/html": [
       "<style>\n",
       "    table.wandb td:nth-child(1) { padding: 0 10px; text-align: left ; width: auto;} td:nth-child(2) {text-align: left ; width: 100%}\n",
       "    .wandb-row { display: flex; flex-direction: row; flex-wrap: wrap; justify-content: flex-start; width: 100% }\n",
       "    .wandb-col { display: flex; flex-direction: column; flex-basis: 100%; flex: 1; padding: 10px; }\n",
       "    </style>\n",
       "<div class=\"wandb-row\"><div class=\"wandb-col\"><h3>Run history:</h3><br/><table class=\"wandb\"><tr><td>epoch</td><td>▁▁▁▂▂▂▂▂▂▃▃▃▃▃▄▄▄▄▄▄▅▅▅▅▅▅▆▆▆▆▆▆▇▇▇▇▇███</td></tr><tr><td>lr-Adam</td><td>▁▁▁▁▁▁▁▁▁▁▁▁▁▁▁▁▁▁▁▁▁▁▁▁▁▁▁▁▁▁▁▁▁▁▁▁▁▁▁▁</td></tr><tr><td>train_acc</td><td>▁▃▆▇▇█▇▇█▇▇▇▇█▇███▇██▇█▇██▇▅▆▇█▇▇███████</td></tr><tr><td>train_auc</td><td>▁▃▆▇███▇█▇▇███████████████▇▆▇▇██████████</td></tr><tr><td>train_f1</td><td>▁▃▆▇▇█▇▇█▇▇▇▇█▇███▇██▇█▇██▇▅▆▇█▇▇███████</td></tr><tr><td>train_loss_epoch</td><td>▆▃▂▁▁▁▁▁▁▁▂▁▁▁▁▁▁▁▁▁▁▁▁▁▁▁█▄▃▁▁▁▁▁▁▁▁▁▁▁</td></tr><tr><td>train_loss_step</td><td>▄█▂▁▁▁▁▁▁▁▁▁▁▁▁▁▁▁▁▁▁▁▁▁▁▁▃▁▁▁▁▂▁▁▁▂▁▁▁▁</td></tr><tr><td>trainer/global_step</td><td>▁▁▁▁▂▁▁▂▁▁▃▃▂▂▄▄▂▄▄▂▅▅▂▅▆▂▂▆▂▂▂▇▂▃▇▃▃█▃▃</td></tr><tr><td>val_acc</td><td>▁▆▆▇█▆▇██▇▆▇▇█▇▇█▆▆█▇██▆██▇▇█▇█▇███▇██▇▆</td></tr><tr><td>val_auc</td><td>▁▆▇██▇▇████████▇████████████▇▇█▇███████▇</td></tr><tr><td>val_f1</td><td>▁▆▆▇█▇███▇▆▇██▇▇█▇▆█▇██▇██▇▇███▇███▇███▇</td></tr><tr><td>val_loss_epoch</td><td>█▄▃▂▁▃▂▁▂▂▃▂▂▁▁▃▁▂▃▁▁▁▁▃▁▁▂▃▂▂▁▂▂▁▁▂▂▁▂▃</td></tr><tr><td>val_loss_step</td><td>▃▃▂▁▁▁▁▁▁▂▁▁▁▁▁▂▁▁▃▁▁▁▁▂▁▁█▁▁▁▁▁▁▁▁▁▁▁▁▂</td></tr></table><br/></div><div class=\"wandb-col\"><h3>Run summary:</h3><br/><table class=\"wandb\"><tr><td>epoch</td><td>64</td></tr><tr><td>lr-Adam</td><td>0.005</td></tr><tr><td>train_acc</td><td>0.98926</td></tr><tr><td>train_auc</td><td>0.99957</td></tr><tr><td>train_f1</td><td>0.98876</td></tr><tr><td>train_loss_epoch</td><td>0.01997</td></tr><tr><td>train_loss_step</td><td>0.00019</td></tr><tr><td>trainer/global_step</td><td>1559</td></tr><tr><td>val_acc</td><td>0.94652</td></tr><tr><td>val_auc</td><td>0.99488</td></tr><tr><td>val_f1</td><td>0.9359</td></tr><tr><td>val_loss_epoch</td><td>0.12025</td></tr><tr><td>val_loss_step</td><td>0.00292</td></tr></table><br/></div></div>"
      ],
      "text/plain": [
       "<IPython.core.display.HTML object>"
      ]
     },
     "metadata": {},
     "output_type": "display_data"
    },
    {
     "data": {
      "text/html": [
       " View run <strong style=\"color:#cdcd00\">GraphConv_3_128_onehot_1</strong> at: <a href='https://wandb.ai/thoomas/PLA_01122024_pixelgen_Kfold/runs/l80fkuo1' target=\"_blank\">https://wandb.ai/thoomas/PLA_01122024_pixelgen_Kfold/runs/l80fkuo1</a><br/>Synced 6 W&B file(s), 0 media file(s), 0 artifact file(s) and 0 other file(s)"
      ],
      "text/plain": [
       "<IPython.core.display.HTML object>"
      ]
     },
     "metadata": {},
     "output_type": "display_data"
    },
    {
     "data": {
      "text/html": [
       "Find logs at: <code>.\\wandb\\run-20240119_152700-l80fkuo1\\logs</code>"
      ],
      "text/plain": [
       "<IPython.core.display.HTML object>"
      ]
     },
     "metadata": {},
     "output_type": "display_data"
    },
    {
     "data": {
      "application/vnd.jupyter.widget-view+json": {
       "model_id": "d1d89256a4804c6aaf2b030925d8a45b",
       "version_major": 2,
       "version_minor": 0
      },
      "text/plain": [
       "VBox(children=(Label(value='Waiting for wandb.init()...\\r'), FloatProgress(value=0.016666666666666666, max=1.0…"
      ]
     },
     "metadata": {},
     "output_type": "display_data"
    },
    {
     "data": {
      "text/html": [
       "wandb version 0.16.2 is available!  To upgrade, please run:\n",
       " $ pip install wandb --upgrade"
      ],
      "text/plain": [
       "<IPython.core.display.HTML object>"
      ]
     },
     "metadata": {},
     "output_type": "display_data"
    },
    {
     "data": {
      "text/html": [
       "Tracking run with wandb version 0.15.8"
      ],
      "text/plain": [
       "<IPython.core.display.HTML object>"
      ]
     },
     "metadata": {},
     "output_type": "display_data"
    },
    {
     "data": {
      "text/html": [
       "Run data is saved locally in <code>y:\\coskun-lab\\Thomas\\23_PLA_revision\\notebooks\\wandb\\run-20240119_153339-otzoslow</code>"
      ],
      "text/plain": [
       "<IPython.core.display.HTML object>"
      ]
     },
     "metadata": {},
     "output_type": "display_data"
    },
    {
     "data": {
      "text/html": [
       "Syncing run <strong><a href='https://wandb.ai/thoomas/PLA_01122024_pixelgen_Kfold/runs/otzoslow' target=\"_blank\">GCN_3_128_onehot_1</a></strong> to <a href='https://wandb.ai/thoomas/PLA_01122024_pixelgen_Kfold' target=\"_blank\">Weights & Biases</a> (<a href='https://wandb.me/run' target=\"_blank\">docs</a>)<br/>"
      ],
      "text/plain": [
       "<IPython.core.display.HTML object>"
      ]
     },
     "metadata": {},
     "output_type": "display_data"
    },
    {
     "data": {
      "text/html": [
       " View project at <a href='https://wandb.ai/thoomas/PLA_01122024_pixelgen_Kfold' target=\"_blank\">https://wandb.ai/thoomas/PLA_01122024_pixelgen_Kfold</a>"
      ],
      "text/plain": [
       "<IPython.core.display.HTML object>"
      ]
     },
     "metadata": {},
     "output_type": "display_data"
    },
    {
     "data": {
      "text/html": [
       " View run at <a href='https://wandb.ai/thoomas/PLA_01122024_pixelgen_Kfold/runs/otzoslow' target=\"_blank\">https://wandb.ai/thoomas/PLA_01122024_pixelgen_Kfold/runs/otzoslow</a>"
      ],
      "text/plain": [
       "<IPython.core.display.HTML object>"
      ]
     },
     "metadata": {},
     "output_type": "display_data"
    },
    {
     "name": "stderr",
     "output_type": "stream",
     "text": [
      "Global seed set to 42\n",
      "GPU available: True (cuda), used: True\n",
      "TPU available: False, using: 0 TPU cores\n",
      "IPU available: False, using: 0 IPUs\n",
      "HPU available: False, using: 0 HPUs\n",
      "Global seed set to 42\n",
      "c:\\Users\\thu71\\AppData\\Local\\anaconda3\\envs\\scanpy\\Lib\\site-packages\\lightning\\pytorch\\callbacks\\model_checkpoint.py:617: UserWarning: Checkpoint directory \\\\bme-retromaster.ad.gatech.edu\\labs5\\coskun-lab\\Thomas\\23_PLA_revision\\data\\pixelgen\\Tcell\\saved_models\\pixelgen\\Graph_GNNs_Kfold\\GCN_3_128_onehot_1\\attention2\\GraphLevelGCN exists and is not empty.\n",
      "  rank_zero_warn(f\"Checkpoint directory {dirpath} exists and is not empty.\")\n",
      "LOCAL_RANK: 0 - CUDA_VISIBLE_DEVICES: [0]\n",
      "\n",
      "   | Name        | Type             | Params\n",
      "--------------------------------------------------\n",
      "0  | x_embedding | Identity         | 0     \n",
      "1  | model       | GNNModel         | 43.9 K\n",
      "2  | head        | Sequential       | 8.4 K \n",
      "3  | loss_module | CrossEntropyLoss | 0     \n",
      "4  | train_acc   | BinaryAccuracy   | 0     \n",
      "5  | train_auroc | BinaryAUROC      | 0     \n",
      "6  | train_f1    | BinaryF1Score    | 0     \n",
      "7  | valid_acc   | BinaryAccuracy   | 0     \n",
      "8  | valid_auroc | BinaryAUROC      | 0     \n",
      "9  | valid_f1    | BinaryF1Score    | 0     \n",
      "10 | pool        | Attention_module | 16.6 K\n",
      "--------------------------------------------------\n",
      "68.9 K    Trainable params\n",
      "0         Non-trainable params\n",
      "68.9 K    Total params\n",
      "0.275     Total estimated model params size (MB)\n"
     ]
    },
    {
     "name": "stdout",
     "output_type": "stream",
     "text": [
      "Using GNN\n"
     ]
    },
    {
     "name": "stderr",
     "output_type": "stream",
     "text": [
      "`Trainer.fit` stopped: `max_epochs=65` reached.\n"
     ]
    },
    {
     "data": {
      "text/html": [
       "Waiting for W&B process to finish... <strong style=\"color:green\">(success).</strong>"
      ],
      "text/plain": [
       "<IPython.core.display.HTML object>"
      ]
     },
     "metadata": {},
     "output_type": "display_data"
    },
    {
     "data": {
      "text/html": [
       "<style>\n",
       "    table.wandb td:nth-child(1) { padding: 0 10px; text-align: left ; width: auto;} td:nth-child(2) {text-align: left ; width: 100%}\n",
       "    .wandb-row { display: flex; flex-direction: row; flex-wrap: wrap; justify-content: flex-start; width: 100% }\n",
       "    .wandb-col { display: flex; flex-direction: column; flex-basis: 100%; flex: 1; padding: 10px; }\n",
       "    </style>\n",
       "<div class=\"wandb-row\"><div class=\"wandb-col\"><h3>Run history:</h3><br/><table class=\"wandb\"><tr><td>epoch</td><td>▁▁▁▂▂▂▂▂▂▃▃▃▃▃▄▄▄▄▄▄▅▅▅▅▅▅▆▆▆▆▆▆▇▇▇▇▇███</td></tr><tr><td>lr-Adam</td><td>▁▁▁▁▁▁▁▁▁▁▁▁▁▁▁▁▁▁▁▁▁▁▁▁▁▁▁▁▁▁▁▁▁▁▁▁▁▁▁▁</td></tr><tr><td>train_acc</td><td>▁▄▆▇▆▆█▇▇▇▇█▇▇████▇█▇█▇▇▇▇█▆▇▇▇▇████▇▇▇█</td></tr><tr><td>train_auc</td><td>▁▅▇█▇▇█▇████████████████▇██▇████████████</td></tr><tr><td>train_f1</td><td>▁▄▆▇▆▆█▇▇▇▇█▇▇████▇█▇█▇▇▇▇█▆▇▇▇▇████▇▇▇█</td></tr><tr><td>train_loss_epoch</td><td>█▄▂▂▃▂▂▃▂▁▂▂▂▁▁▁▁▂▁▁▂▁▁▂▃▂▁▄▁▂▂▁▁▁▁▁▂▃▂▁</td></tr><tr><td>train_loss_step</td><td>▂▃▂▁▂▁▂▁▁▁▂▁▁▁▁▁▁▁▁▁▁▁▂▁█▁▁▅▁▁▁▁▁▁▁▃▁▁▁▁</td></tr><tr><td>trainer/global_step</td><td>▁▁▁▁▂▁▁▂▁▁▃▃▂▂▄▄▂▄▄▂▅▅▂▅▆▂▂▆▂▂▂▇▂▃▇▃▃█▃▃</td></tr><tr><td>val_acc</td><td>▁▃▇▅▆█▅▄▇▇▆▇▅█▇▆▇▇▇█▆█▃█▄██▇▇▇▅▄▆▇▇██▇█▇</td></tr><tr><td>val_auc</td><td>▁▆█▇██▆▁█▇██████▆▇██▇█▅█▇████▇▆█████████</td></tr><tr><td>val_f1</td><td>▁▄▇▆▆█▅▄▇▇▆▇▆█▇▆▇▇▇█▆█▄█▄██▇▇▇▆▅▆▇▇██▇█▇</td></tr><tr><td>val_loss_epoch</td><td>▅▃▁▃▂▁▃▅▂▂▂▁▂▁▂▂▃▂▂▁▂▁█▁▃▁▂▂▂▂▃▄▂▁▂▁▁▂▁▂</td></tr><tr><td>val_loss_step</td><td>▇▄▂▃▂▁▆▇▂▁▃▁▁▁▁▂▁▅▂▁▂▁▅▃▇▁▂▁▁▄▄▅█▁▁▄▁▁▁▂</td></tr></table><br/></div><div class=\"wandb-col\"><h3>Run summary:</h3><br/><table class=\"wandb\"><tr><td>epoch</td><td>64</td></tr><tr><td>lr-Adam</td><td>0.005</td></tr><tr><td>train_acc</td><td>0.99732</td></tr><tr><td>train_auc</td><td>0.99996</td></tr><tr><td>train_f1</td><td>0.99718</td></tr><tr><td>train_loss_epoch</td><td>0.00724</td></tr><tr><td>train_loss_step</td><td>0.00222</td></tr><tr><td>trainer/global_step</td><td>1559</td></tr><tr><td>val_acc</td><td>0.98396</td></tr><tr><td>val_auc</td><td>0.99976</td></tr><tr><td>val_f1</td><td>0.98013</td></tr><tr><td>val_loss_epoch</td><td>0.03514</td></tr><tr><td>val_loss_step</td><td>0.06435</td></tr></table><br/></div></div>"
      ],
      "text/plain": [
       "<IPython.core.display.HTML object>"
      ]
     },
     "metadata": {},
     "output_type": "display_data"
    },
    {
     "data": {
      "text/html": [
       " View run <strong style=\"color:#cdcd00\">GCN_3_128_onehot_1</strong> at: <a href='https://wandb.ai/thoomas/PLA_01122024_pixelgen_Kfold/runs/otzoslow' target=\"_blank\">https://wandb.ai/thoomas/PLA_01122024_pixelgen_Kfold/runs/otzoslow</a><br/>Synced 6 W&B file(s), 0 media file(s), 0 artifact file(s) and 0 other file(s)"
      ],
      "text/plain": [
       "<IPython.core.display.HTML object>"
      ]
     },
     "metadata": {},
     "output_type": "display_data"
    },
    {
     "data": {
      "text/html": [
       "Find logs at: <code>.\\wandb\\run-20240119_153339-otzoslow\\logs</code>"
      ],
      "text/plain": [
       "<IPython.core.display.HTML object>"
      ]
     },
     "metadata": {},
     "output_type": "display_data"
    },
    {
     "data": {
      "application/vnd.jupyter.widget-view+json": {
       "model_id": "dc0d8bd1ca42497f9cf177e5634be508",
       "version_major": 2,
       "version_minor": 0
      },
      "text/plain": [
       "VBox(children=(Label(value='Waiting for wandb.init()...\\r'), FloatProgress(value=0.01693333333338766, max=1.0)…"
      ]
     },
     "metadata": {},
     "output_type": "display_data"
    },
    {
     "data": {
      "text/html": [
       "wandb version 0.16.2 is available!  To upgrade, please run:\n",
       " $ pip install wandb --upgrade"
      ],
      "text/plain": [
       "<IPython.core.display.HTML object>"
      ]
     },
     "metadata": {},
     "output_type": "display_data"
    },
    {
     "data": {
      "text/html": [
       "Tracking run with wandb version 0.15.8"
      ],
      "text/plain": [
       "<IPython.core.display.HTML object>"
      ]
     },
     "metadata": {},
     "output_type": "display_data"
    },
    {
     "data": {
      "text/html": [
       "Run data is saved locally in <code>y:\\coskun-lab\\Thomas\\23_PLA_revision\\notebooks\\wandb\\run-20240119_154124-lfykn5nu</code>"
      ],
      "text/plain": [
       "<IPython.core.display.HTML object>"
      ]
     },
     "metadata": {},
     "output_type": "display_data"
    },
    {
     "data": {
      "text/html": [
       "Syncing run <strong><a href='https://wandb.ai/thoomas/PLA_01122024_pixelgen_Kfold/runs/lfykn5nu' target=\"_blank\">GAT_norm_3_128_onehot_1</a></strong> to <a href='https://wandb.ai/thoomas/PLA_01122024_pixelgen_Kfold' target=\"_blank\">Weights & Biases</a> (<a href='https://wandb.me/run' target=\"_blank\">docs</a>)<br/>"
      ],
      "text/plain": [
       "<IPython.core.display.HTML object>"
      ]
     },
     "metadata": {},
     "output_type": "display_data"
    },
    {
     "data": {
      "text/html": [
       " View project at <a href='https://wandb.ai/thoomas/PLA_01122024_pixelgen_Kfold' target=\"_blank\">https://wandb.ai/thoomas/PLA_01122024_pixelgen_Kfold</a>"
      ],
      "text/plain": [
       "<IPython.core.display.HTML object>"
      ]
     },
     "metadata": {},
     "output_type": "display_data"
    },
    {
     "data": {
      "text/html": [
       " View run at <a href='https://wandb.ai/thoomas/PLA_01122024_pixelgen_Kfold/runs/lfykn5nu' target=\"_blank\">https://wandb.ai/thoomas/PLA_01122024_pixelgen_Kfold/runs/lfykn5nu</a>"
      ],
      "text/plain": [
       "<IPython.core.display.HTML object>"
      ]
     },
     "metadata": {},
     "output_type": "display_data"
    },
    {
     "name": "stderr",
     "output_type": "stream",
     "text": [
      "Global seed set to 42\n",
      "GPU available: True (cuda), used: True\n",
      "TPU available: False, using: 0 TPU cores\n",
      "IPU available: False, using: 0 IPUs\n",
      "HPU available: False, using: 0 HPUs\n",
      "Global seed set to 42\n",
      "c:\\Users\\thu71\\AppData\\Local\\anaconda3\\envs\\scanpy\\Lib\\site-packages\\lightning\\pytorch\\callbacks\\model_checkpoint.py:617: UserWarning: Checkpoint directory \\\\bme-retromaster.ad.gatech.edu\\labs5\\coskun-lab\\Thomas\\23_PLA_revision\\data\\pixelgen\\Tcell\\saved_models\\pixelgen\\Graph_GNNs_Kfold\\GAT_norm_3_128_onehot_1\\attention\\GraphLevelGAT_norm exists and is not empty.\n",
      "  rank_zero_warn(f\"Checkpoint directory {dirpath} exists and is not empty.\")\n",
      "LOCAL_RANK: 0 - CUDA_VISIBLE_DEVICES: [0]\n",
      "\n",
      "   | Name        | Type             | Params\n",
      "--------------------------------------------------\n",
      "0  | x_embedding | Identity         | 0     \n",
      "1  | model       | GAT              | 121 K \n",
      "2  | head        | Sequential       | 8.4 K \n",
      "3  | loss_module | CrossEntropyLoss | 0     \n",
      "4  | train_acc   | BinaryAccuracy   | 0     \n",
      "5  | train_auroc | BinaryAUROC      | 0     \n",
      "6  | train_f1    | BinaryF1Score    | 0     \n",
      "7  | valid_acc   | BinaryAccuracy   | 0     \n",
      "8  | valid_auroc | BinaryAUROC      | 0     \n",
      "9  | valid_f1    | BinaryF1Score    | 0     \n",
      "10 | pool        | GlobalAttention  | 129   \n",
      "--------------------------------------------------\n",
      "130 K     Trainable params\n",
      "0         Non-trainable params\n",
      "130 K     Total params\n",
      "0.521     Total estimated model params size (MB)\n"
     ]
    },
    {
     "name": "stdout",
     "output_type": "stream",
     "text": [
      "Using GAT\n"
     ]
    },
    {
     "name": "stderr",
     "output_type": "stream",
     "text": [
      "`Trainer.fit` stopped: `max_epochs=65` reached.\n"
     ]
    },
    {
     "data": {
      "text/html": [
       "Waiting for W&B process to finish... <strong style=\"color:green\">(success).</strong>"
      ],
      "text/plain": [
       "<IPython.core.display.HTML object>"
      ]
     },
     "metadata": {},
     "output_type": "display_data"
    },
    {
     "data": {
      "application/vnd.jupyter.widget-view+json": {
       "model_id": "497948e08d40421d9a2934fc23eacfad",
       "version_major": 2,
       "version_minor": 0
      },
      "text/plain": [
       "VBox(children=(Label(value='0.001 MB of 0.001 MB uploaded (0.000 MB deduped)\\r'), FloatProgress(value=1.0, max…"
      ]
     },
     "metadata": {},
     "output_type": "display_data"
    },
    {
     "data": {
      "text/html": [
       "<style>\n",
       "    table.wandb td:nth-child(1) { padding: 0 10px; text-align: left ; width: auto;} td:nth-child(2) {text-align: left ; width: 100%}\n",
       "    .wandb-row { display: flex; flex-direction: row; flex-wrap: wrap; justify-content: flex-start; width: 100% }\n",
       "    .wandb-col { display: flex; flex-direction: column; flex-basis: 100%; flex: 1; padding: 10px; }\n",
       "    </style>\n",
       "<div class=\"wandb-row\"><div class=\"wandb-col\"><h3>Run history:</h3><br/><table class=\"wandb\"><tr><td>epoch</td><td>▁▁▁▂▂▂▂▂▂▃▃▃▃▃▄▄▄▄▄▄▅▅▅▅▅▅▆▆▆▆▆▆▇▇▇▇▇███</td></tr><tr><td>lr-Adam</td><td>▁▁▁▁▁▁▁▁▁▁▁▁▁▁▁▁▁▁▁▁▁▁▁▁▁▁▁▁▁▁▁▁▁▁▁▁▁▁▁▁</td></tr><tr><td>train_acc</td><td>▁▄▆▇▄▇▆▇▇▇▇▇▇██▇▇███▇████████▇▇██████▆▆▆</td></tr><tr><td>train_auc</td><td>▁▆▇█▆█▇██████████████████████████████▇▆▆</td></tr><tr><td>train_f1</td><td>▁▄▆▇▄▇▆▇▇▇▇▇▇██▇▇███▇████████▇▇██████▆▆▆</td></tr><tr><td>train_loss_epoch</td><td>▆▄▃▂▄▃▂▂▂▂▁▂▂▁▁▂▁▁▁▁▁▁▁▁▁▁▁▁▂▁▂▁▁▁▁▁▁█▆▄</td></tr><tr><td>train_loss_step</td><td>▆▂▃▂▂▂▁▁▂█▁▁▅▂▁▆▁▂▁▁▁▁▁▁▁▁▁▁▃▁▁▁▂▁▁▁▁▄▃▃</td></tr><tr><td>trainer/global_step</td><td>▁▁▁▁▂▁▁▂▁▁▃▃▂▂▄▄▂▄▄▂▅▅▂▅▆▂▂▆▂▂▂▇▂▃▇▃▃█▃▃</td></tr><tr><td>val_acc</td><td>▄▃▄▄▅▆▆▇▇██▇████▆██▇▇▇▇███▆▇▃▁▆▅▇▇███▇▇▂</td></tr><tr><td>val_auc</td><td>▁▂▆▇▇███████████████████████▇████▇████▇█</td></tr><tr><td>val_f1</td><td>▄▅▅▅▅▆▆█▇██▇████▆██▇▇▇▇███▆█▃▄▆▆▇▇████▇▁</td></tr><tr><td>val_loss_epoch</td><td>▇▅▅▄▄▃▃▂▂▂▁▂▁▂▁▂▃▁▁▁▂▂▁▁▁▁▂▁▅█▃▃▂▂▁▁▁▂▅▅</td></tr><tr><td>val_loss_step</td><td>▇▂▆▃▄▃▂▂▂▃▂▃▂▁▁▂▃▂▁▁▁▂▂▁▁▁▁▂█▁▃▃▂▂▁▁▁▂▅▆</td></tr></table><br/></div><div class=\"wandb-col\"><h3>Run summary:</h3><br/><table class=\"wandb\"><tr><td>epoch</td><td>64</td></tr><tr><td>lr-Adam</td><td>0.005</td></tr><tr><td>train_acc</td><td>0.88993</td></tr><tr><td>train_auc</td><td>0.93632</td></tr><tr><td>train_f1</td><td>0.88611</td></tr><tr><td>train_loss_epoch</td><td>0.40273</td></tr><tr><td>train_loss_step</td><td>0.35536</td></tr><tr><td>trainer/global_step</td><td>1559</td></tr><tr><td>val_acc</td><td>0.77005</td></tr><tr><td>val_auc</td><td>0.99714</td></tr><tr><td>val_f1</td><td>0.59813</td></tr><tr><td>val_loss_epoch</td><td>0.36937</td></tr><tr><td>val_loss_step</td><td>0.79701</td></tr></table><br/></div></div>"
      ],
      "text/plain": [
       "<IPython.core.display.HTML object>"
      ]
     },
     "metadata": {},
     "output_type": "display_data"
    },
    {
     "data": {
      "text/html": [
       " View run <strong style=\"color:#cdcd00\">GAT_norm_3_128_onehot_1</strong> at: <a href='https://wandb.ai/thoomas/PLA_01122024_pixelgen_Kfold/runs/lfykn5nu' target=\"_blank\">https://wandb.ai/thoomas/PLA_01122024_pixelgen_Kfold/runs/lfykn5nu</a><br/>Synced 6 W&B file(s), 0 media file(s), 0 artifact file(s) and 0 other file(s)"
      ],
      "text/plain": [
       "<IPython.core.display.HTML object>"
      ]
     },
     "metadata": {},
     "output_type": "display_data"
    },
    {
     "data": {
      "text/html": [
       "Find logs at: <code>.\\wandb\\run-20240119_154124-lfykn5nu\\logs</code>"
      ],
      "text/plain": [
       "<IPython.core.display.HTML object>"
      ]
     },
     "metadata": {},
     "output_type": "display_data"
    },
    {
     "data": {
      "text/html": [
       "wandb version 0.16.2 is available!  To upgrade, please run:\n",
       " $ pip install wandb --upgrade"
      ],
      "text/plain": [
       "<IPython.core.display.HTML object>"
      ]
     },
     "metadata": {},
     "output_type": "display_data"
    },
    {
     "data": {
      "text/html": [
       "Tracking run with wandb version 0.15.8"
      ],
      "text/plain": [
       "<IPython.core.display.HTML object>"
      ]
     },
     "metadata": {},
     "output_type": "display_data"
    },
    {
     "data": {
      "text/html": [
       "Run data is saved locally in <code>y:\\coskun-lab\\Thomas\\23_PLA_revision\\notebooks\\wandb\\run-20240119_155142-z9zr91sr</code>"
      ],
      "text/plain": [
       "<IPython.core.display.HTML object>"
      ]
     },
     "metadata": {},
     "output_type": "display_data"
    },
    {
     "data": {
      "text/html": [
       "Syncing run <strong><a href='https://wandb.ai/thoomas/PLA_01122024_pixelgen_Kfold/runs/z9zr91sr' target=\"_blank\">GINConv_norm_3_128_onehot_1</a></strong> to <a href='https://wandb.ai/thoomas/PLA_01122024_pixelgen_Kfold' target=\"_blank\">Weights & Biases</a> (<a href='https://wandb.me/run' target=\"_blank\">docs</a>)<br/>"
      ],
      "text/plain": [
       "<IPython.core.display.HTML object>"
      ]
     },
     "metadata": {},
     "output_type": "display_data"
    },
    {
     "data": {
      "text/html": [
       " View project at <a href='https://wandb.ai/thoomas/PLA_01122024_pixelgen_Kfold' target=\"_blank\">https://wandb.ai/thoomas/PLA_01122024_pixelgen_Kfold</a>"
      ],
      "text/plain": [
       "<IPython.core.display.HTML object>"
      ]
     },
     "metadata": {},
     "output_type": "display_data"
    },
    {
     "data": {
      "text/html": [
       " View run at <a href='https://wandb.ai/thoomas/PLA_01122024_pixelgen_Kfold/runs/z9zr91sr' target=\"_blank\">https://wandb.ai/thoomas/PLA_01122024_pixelgen_Kfold/runs/z9zr91sr</a>"
      ],
      "text/plain": [
       "<IPython.core.display.HTML object>"
      ]
     },
     "metadata": {},
     "output_type": "display_data"
    },
    {
     "name": "stderr",
     "output_type": "stream",
     "text": [
      "Global seed set to 42\n",
      "GPU available: True (cuda), used: True\n",
      "TPU available: False, using: 0 TPU cores\n",
      "IPU available: False, using: 0 IPUs\n",
      "HPU available: False, using: 0 HPUs\n",
      "Global seed set to 42\n",
      "c:\\Users\\thu71\\AppData\\Local\\anaconda3\\envs\\scanpy\\Lib\\site-packages\\lightning\\pytorch\\callbacks\\model_checkpoint.py:617: UserWarning: Checkpoint directory \\\\bme-retromaster.ad.gatech.edu\\labs5\\coskun-lab\\Thomas\\23_PLA_revision\\data\\pixelgen\\Tcell\\saved_models\\pixelgen\\Graph_GNNs_Kfold\\GINConv_norm_3_128_onehot_1\\mean\\GraphLevelGINConv_norm exists and is not empty.\n",
      "  rank_zero_warn(f\"Checkpoint directory {dirpath} exists and is not empty.\")\n",
      "LOCAL_RANK: 0 - CUDA_VISIBLE_DEVICES: [0]\n",
      "\n",
      "  | Name        | Type             | Params\n",
      "-------------------------------------------------\n",
      "0 | x_embedding | Identity         | 0     \n",
      "1 | model       | GIN              | 94.2 K\n",
      "2 | head        | Sequential       | 8.4 K \n",
      "3 | loss_module | CrossEntropyLoss | 0     \n",
      "4 | train_acc   | BinaryAccuracy   | 0     \n",
      "5 | train_auroc | BinaryAUROC      | 0     \n",
      "6 | train_f1    | BinaryF1Score    | 0     \n",
      "7 | valid_acc   | BinaryAccuracy   | 0     \n",
      "8 | valid_auroc | BinaryAUROC      | 0     \n",
      "9 | valid_f1    | BinaryF1Score    | 0     \n",
      "-------------------------------------------------\n",
      "102 K     Trainable params\n",
      "0         Non-trainable params\n",
      "102 K     Total params\n",
      "0.410     Total estimated model params size (MB)\n"
     ]
    },
    {
     "name": "stdout",
     "output_type": "stream",
     "text": [
      "GINConv\n"
     ]
    },
    {
     "name": "stderr",
     "output_type": "stream",
     "text": [
      "`Trainer.fit` stopped: `max_epochs=65` reached.\n"
     ]
    },
    {
     "data": {
      "text/html": [
       "Waiting for W&B process to finish... <strong style=\"color:green\">(success).</strong>"
      ],
      "text/plain": [
       "<IPython.core.display.HTML object>"
      ]
     },
     "metadata": {},
     "output_type": "display_data"
    },
    {
     "data": {
      "application/vnd.jupyter.widget-view+json": {
       "model_id": "cae6e6e553ad4b6596116d5f8db3d4cd",
       "version_major": 2,
       "version_minor": 0
      },
      "text/plain": [
       "VBox(children=(Label(value='0.001 MB of 0.013 MB uploaded (0.000 MB deduped)\\r'), FloatProgress(value=0.080397…"
      ]
     },
     "metadata": {},
     "output_type": "display_data"
    },
    {
     "data": {
      "text/html": [
       "<style>\n",
       "    table.wandb td:nth-child(1) { padding: 0 10px; text-align: left ; width: auto;} td:nth-child(2) {text-align: left ; width: 100%}\n",
       "    .wandb-row { display: flex; flex-direction: row; flex-wrap: wrap; justify-content: flex-start; width: 100% }\n",
       "    .wandb-col { display: flex; flex-direction: column; flex-basis: 100%; flex: 1; padding: 10px; }\n",
       "    </style>\n",
       "<div class=\"wandb-row\"><div class=\"wandb-col\"><h3>Run history:</h3><br/><table class=\"wandb\"><tr><td>epoch</td><td>▁▁▁▂▂▂▂▂▂▃▃▃▃▃▄▄▄▄▄▄▅▅▅▅▅▅▆▆▆▆▆▆▇▇▇▇▇███</td></tr><tr><td>lr-Adam</td><td>▁▁▁▁▁▁▁▁▁▁▁▁▁▁▁▁▁▁▁▁▁▁▁▁▁▁▁▁▁▁▁▁▁▁▁▁▁▁▁▁</td></tr><tr><td>train_acc</td><td>▁▅▇▇▇█▇▇█▇█▇▇████▇█▆▇▇██▇▇▇▇██▇██▇▇███▆█</td></tr><tr><td>train_auc</td><td>▁▅▇████▇██████████████████▇█████████████</td></tr><tr><td>train_f1</td><td>▁▅▇▇▇█▇▇█▇█▇▇████▇█▆▇▇██▇▇▇▇██▇██▇▇███▆█</td></tr><tr><td>train_loss_epoch</td><td>█▅▃▂▂▁▂▃▂▂▁▂▂▁▁▁▁▂▁▂▂▂▁▂▁▂▂▁▁▁▂▂▁▂▂▁▁▁▂▂</td></tr><tr><td>train_loss_step</td><td>▄▃▂▁▁▂▁▂▁▁▂▁▄▁▁▂▁▁▁▁▁▁▁▅▁▁▂▁▁▁▁▁▁▁▁▁▁▁▁█</td></tr><tr><td>trainer/global_step</td><td>▁▁▁▁▂▁▁▂▁▁▃▃▂▂▄▄▂▄▄▂▅▅▂▅▆▂▂▆▂▂▂▇▂▃▇▃▃█▃▃</td></tr><tr><td>val_acc</td><td>▅▇█▇▇█▆▇███▆█████▇█████▇██▇███▁██▇█████▇</td></tr><tr><td>val_auc</td><td>▇▇████▄▇███▇█████▆████████▁███▆██▆██████</td></tr><tr><td>val_f1</td><td>▅▇█▇▇█▅▆███▅██▇█▇▇█▇▇▇█▆▇█▇███▁██▆████▇▇</td></tr><tr><td>val_loss_epoch</td><td>▄▂▁▁▂▁▄▂▁▁▁▄▁▁▁▁▂▃▁▁▂▁▁▃▁▁▆▁▁▁█▁▁▂▁▁▁▁▂▁</td></tr><tr><td>val_loss_step</td><td>▄▁▁▁▁▁▁▁▁▁▁▂▁▁▁▁▁▁▁▁▂▁▁▁▁▁▁▁▁▁█▁▁▁▁▁▁▁▁▁</td></tr></table><br/></div><div class=\"wandb-col\"><h3>Run summary:</h3><br/><table class=\"wandb\"><tr><td>epoch</td><td>64</td></tr><tr><td>lr-Adam</td><td>0.005</td></tr><tr><td>train_acc</td><td>0.99329</td></tr><tr><td>train_auc</td><td>0.99956</td></tr><tr><td>train_f1</td><td>0.99293</td></tr><tr><td>train_loss_epoch</td><td>0.04749</td></tr><tr><td>train_loss_step</td><td>0.54766</td></tr><tr><td>trainer/global_step</td><td>1559</td></tr><tr><td>val_acc</td><td>0.97861</td></tr><tr><td>val_auc</td><td>0.99988</td></tr><tr><td>val_f1</td><td>0.97403</td></tr><tr><td>val_loss_epoch</td><td>0.03103</td></tr><tr><td>val_loss_step</td><td>0.00492</td></tr></table><br/></div></div>"
      ],
      "text/plain": [
       "<IPython.core.display.HTML object>"
      ]
     },
     "metadata": {},
     "output_type": "display_data"
    },
    {
     "data": {
      "text/html": [
       " View run <strong style=\"color:#cdcd00\">GINConv_norm_3_128_onehot_1</strong> at: <a href='https://wandb.ai/thoomas/PLA_01122024_pixelgen_Kfold/runs/z9zr91sr' target=\"_blank\">https://wandb.ai/thoomas/PLA_01122024_pixelgen_Kfold/runs/z9zr91sr</a><br/>Synced 6 W&B file(s), 0 media file(s), 0 artifact file(s) and 0 other file(s)"
      ],
      "text/plain": [
       "<IPython.core.display.HTML object>"
      ]
     },
     "metadata": {},
     "output_type": "display_data"
    },
    {
     "data": {
      "text/html": [
       "Find logs at: <code>.\\wandb\\run-20240119_155142-z9zr91sr\\logs</code>"
      ],
      "text/plain": [
       "<IPython.core.display.HTML object>"
      ]
     },
     "metadata": {},
     "output_type": "display_data"
    },
    {
     "data": {
      "application/vnd.jupyter.widget-view+json": {
       "model_id": "95f4bae16ada41d9aa32ea72009d6d3a",
       "version_major": 2,
       "version_minor": 0
      },
      "text/plain": [
       "VBox(children=(Label(value='Waiting for wandb.init()...\\r'), FloatProgress(value=0.016666666666666666, max=1.0…"
      ]
     },
     "metadata": {},
     "output_type": "display_data"
    },
    {
     "data": {
      "text/html": [
       "wandb version 0.16.2 is available!  To upgrade, please run:\n",
       " $ pip install wandb --upgrade"
      ],
      "text/plain": [
       "<IPython.core.display.HTML object>"
      ]
     },
     "metadata": {},
     "output_type": "display_data"
    },
    {
     "data": {
      "text/html": [
       "Tracking run with wandb version 0.15.8"
      ],
      "text/plain": [
       "<IPython.core.display.HTML object>"
      ]
     },
     "metadata": {},
     "output_type": "display_data"
    },
    {
     "data": {
      "text/html": [
       "Run data is saved locally in <code>y:\\coskun-lab\\Thomas\\23_PLA_revision\\notebooks\\wandb\\run-20240119_155756-ufsucbok</code>"
      ],
      "text/plain": [
       "<IPython.core.display.HTML object>"
      ]
     },
     "metadata": {},
     "output_type": "display_data"
    },
    {
     "data": {
      "text/html": [
       "Syncing run <strong><a href='https://wandb.ai/thoomas/PLA_01122024_pixelgen_Kfold/runs/ufsucbok' target=\"_blank\">MLP_3_128_onehot_2</a></strong> to <a href='https://wandb.ai/thoomas/PLA_01122024_pixelgen_Kfold' target=\"_blank\">Weights & Biases</a> (<a href='https://wandb.me/run' target=\"_blank\">docs</a>)<br/>"
      ],
      "text/plain": [
       "<IPython.core.display.HTML object>"
      ]
     },
     "metadata": {},
     "output_type": "display_data"
    },
    {
     "data": {
      "text/html": [
       " View project at <a href='https://wandb.ai/thoomas/PLA_01122024_pixelgen_Kfold' target=\"_blank\">https://wandb.ai/thoomas/PLA_01122024_pixelgen_Kfold</a>"
      ],
      "text/plain": [
       "<IPython.core.display.HTML object>"
      ]
     },
     "metadata": {},
     "output_type": "display_data"
    },
    {
     "data": {
      "text/html": [
       " View run at <a href='https://wandb.ai/thoomas/PLA_01122024_pixelgen_Kfold/runs/ufsucbok' target=\"_blank\">https://wandb.ai/thoomas/PLA_01122024_pixelgen_Kfold/runs/ufsucbok</a>"
      ],
      "text/plain": [
       "<IPython.core.display.HTML object>"
      ]
     },
     "metadata": {},
     "output_type": "display_data"
    },
    {
     "name": "stderr",
     "output_type": "stream",
     "text": [
      "Global seed set to 42\n",
      "GPU available: True (cuda), used: True\n",
      "TPU available: False, using: 0 TPU cores\n",
      "IPU available: False, using: 0 IPUs\n",
      "HPU available: False, using: 0 HPUs\n",
      "Global seed set to 42\n",
      "c:\\Users\\thu71\\AppData\\Local\\anaconda3\\envs\\scanpy\\Lib\\site-packages\\lightning\\pytorch\\callbacks\\model_checkpoint.py:617: UserWarning: Checkpoint directory \\\\bme-retromaster.ad.gatech.edu\\labs5\\coskun-lab\\Thomas\\23_PLA_revision\\data\\pixelgen\\Tcell\\saved_models\\pixelgen\\Graph_GNNs_Kfold\\MLP_3_128_onehot_2\\attention\\GraphLevelMLP exists and is not empty.\n",
      "  rank_zero_warn(f\"Checkpoint directory {dirpath} exists and is not empty.\")\n",
      "LOCAL_RANK: 0 - CUDA_VISIBLE_DEVICES: [0]\n",
      "\n",
      "   | Name        | Type             | Params\n",
      "--------------------------------------------------\n",
      "0  | x_embedding | Identity         | 0     \n",
      "1  | model       | MLPModel         | 43.4 K\n",
      "2  | head        | Sequential       | 8.4 K \n",
      "3  | loss_module | CrossEntropyLoss | 0     \n",
      "4  | train_acc   | BinaryAccuracy   | 0     \n",
      "5  | train_auroc | BinaryAUROC      | 0     \n",
      "6  | train_f1    | BinaryF1Score    | 0     \n",
      "7  | valid_acc   | BinaryAccuracy   | 0     \n",
      "8  | valid_auroc | BinaryAUROC      | 0     \n",
      "9  | valid_f1    | BinaryF1Score    | 0     \n",
      "10 | pool        | GlobalAttention  | 129   \n",
      "--------------------------------------------------\n",
      "51.9 K    Trainable params\n",
      "0         Non-trainable params\n",
      "51.9 K    Total params\n",
      "0.208     Total estimated model params size (MB)\n"
     ]
    },
    {
     "name": "stdout",
     "output_type": "stream",
     "text": [
      "Using MLP\n"
     ]
    },
    {
     "name": "stderr",
     "output_type": "stream",
     "text": [
      "`Trainer.fit` stopped: `max_epochs=65` reached.\n"
     ]
    },
    {
     "data": {
      "text/html": [
       "Waiting for W&B process to finish... <strong style=\"color:green\">(success).</strong>"
      ],
      "text/plain": [
       "<IPython.core.display.HTML object>"
      ]
     },
     "metadata": {},
     "output_type": "display_data"
    },
    {
     "data": {
      "text/html": [
       "<style>\n",
       "    table.wandb td:nth-child(1) { padding: 0 10px; text-align: left ; width: auto;} td:nth-child(2) {text-align: left ; width: 100%}\n",
       "    .wandb-row { display: flex; flex-direction: row; flex-wrap: wrap; justify-content: flex-start; width: 100% }\n",
       "    .wandb-col { display: flex; flex-direction: column; flex-basis: 100%; flex: 1; padding: 10px; }\n",
       "    </style>\n",
       "<div class=\"wandb-row\"><div class=\"wandb-col\"><h3>Run history:</h3><br/><table class=\"wandb\"><tr><td>epoch</td><td>▁▁▁▂▂▂▂▂▂▃▃▃▃▃▄▄▄▄▄▄▅▅▅▅▅▅▆▆▆▆▆▆▇▇▇▇▇███</td></tr><tr><td>lr-Adam</td><td>▁▁▁▁▁▁▁▁▁▁▁▁▁▁▁▁▁▁▁▁▁▁▁▁▁▁▁▁▁▁▁▁▁▁▁▁▁▁▁▁</td></tr><tr><td>train_acc</td><td>▁▆▇▇▇██▇█▂▆▇▆▆▆▇█▇▇▇▇█▇█▇████▇▇▇▇▆▇█▅▇█▇</td></tr><tr><td>train_auc</td><td>▁▆▇▇▇██▇█▄▇▇▇▇▆▆▇▇▇▇▇███▇█████▇█▇▇▇█▆▇██</td></tr><tr><td>train_f1</td><td>▁▆▇▇▇██▇█▂▇▇▆▆▆▇█▇▇▇▇█▇█▇████▇▇▇▇▆▇█▅▇█▇</td></tr><tr><td>train_loss_epoch</td><td>█▄▃▄▃▁▂▃▂▇▃▂▃▇▃▃▂▃▂▃▂▂▂▂▂▂▁▁▁▂▂▂▃▄▂▁▅▂▁▂</td></tr><tr><td>train_loss_step</td><td>▅▄▂▄▃▂▂▃▂▃▃▃▂▃▁▄▃▄▂▂▄▂▃▄▂▁▂▁▂▂▃▂▂▂▂▁▃▂▂█</td></tr><tr><td>trainer/global_step</td><td>▁▁▁▁▂▁▁▂▁▁▃▃▂▂▄▄▂▄▄▂▅▅▂▅▆▂▂▆▂▂▂▇▂▃▇▃▃█▃▃</td></tr><tr><td>val_acc</td><td>▅▃██▇██▅█▃▇▇█▇▇▁█▆▇▇▇████▇█▇▇▆▆▇▇▇▇█▇▇██</td></tr><tr><td>val_auc</td><td>▁▅▇▅▆▇▇██▃▅▆▇▇▆▆▇▃▆▇▆▇▇█▇▇█▇▇▇▇▇▇▆▆▇▆▆▇▇</td></tr><tr><td>val_f1</td><td>▄▃█▇▆██▂█▃▅▇█▇▆▁█▅▆▆▆▇██▇▇█▇▇▆▅▇▇▆▇█▆▆▇▇</td></tr><tr><td>val_loss_epoch</td><td>▆▆▃▄▄▁▂▄▂▇▅▄▂▃▃█▃▆▃▄▃▂▂▁▂▂▁▂▂▃▅▂▂▄▂▁▂▃▂▂</td></tr><tr><td>val_loss_step</td><td>▃▁▂▃▃▂▂█▃▃▅▃▃▂▂▄▃▄▂▅▃▂▂▂▂▄▆▂▂▁█▁▂▃▂▃▂▅▂▂</td></tr></table><br/></div><div class=\"wandb-col\"><h3>Run summary:</h3><br/><table class=\"wandb\"><tr><td>epoch</td><td>64</td></tr><tr><td>lr-Adam</td><td>0.005</td></tr><tr><td>train_acc</td><td>0.937</td></tr><tr><td>train_auc</td><td>0.98254</td></tr><tr><td>train_f1</td><td>0.93352</td></tr><tr><td>train_loss_epoch</td><td>0.19842</td></tr><tr><td>train_loss_step</td><td>0.79976</td></tr><tr><td>trainer/global_step</td><td>1559</td></tr><tr><td>val_acc</td><td>0.93548</td></tr><tr><td>val_auc</td><td>0.99089</td></tr><tr><td>val_f1</td><td>0.92</td></tr><tr><td>val_loss_epoch</td><td>0.16442</td></tr><tr><td>val_loss_step</td><td>0.53118</td></tr></table><br/></div></div>"
      ],
      "text/plain": [
       "<IPython.core.display.HTML object>"
      ]
     },
     "metadata": {},
     "output_type": "display_data"
    },
    {
     "data": {
      "text/html": [
       " View run <strong style=\"color:#cdcd00\">MLP_3_128_onehot_2</strong> at: <a href='https://wandb.ai/thoomas/PLA_01122024_pixelgen_Kfold/runs/ufsucbok' target=\"_blank\">https://wandb.ai/thoomas/PLA_01122024_pixelgen_Kfold/runs/ufsucbok</a><br/>Synced 6 W&B file(s), 0 media file(s), 0 artifact file(s) and 0 other file(s)"
      ],
      "text/plain": [
       "<IPython.core.display.HTML object>"
      ]
     },
     "metadata": {},
     "output_type": "display_data"
    },
    {
     "data": {
      "text/html": [
       "Find logs at: <code>.\\wandb\\run-20240119_155756-ufsucbok\\logs</code>"
      ],
      "text/plain": [
       "<IPython.core.display.HTML object>"
      ]
     },
     "metadata": {},
     "output_type": "display_data"
    },
    {
     "data": {
      "text/html": [
       "wandb version 0.16.2 is available!  To upgrade, please run:\n",
       " $ pip install wandb --upgrade"
      ],
      "text/plain": [
       "<IPython.core.display.HTML object>"
      ]
     },
     "metadata": {},
     "output_type": "display_data"
    },
    {
     "data": {
      "text/html": [
       "Tracking run with wandb version 0.15.8"
      ],
      "text/plain": [
       "<IPython.core.display.HTML object>"
      ]
     },
     "metadata": {},
     "output_type": "display_data"
    },
    {
     "data": {
      "text/html": [
       "Run data is saved locally in <code>y:\\coskun-lab\\Thomas\\23_PLA_revision\\notebooks\\wandb\\run-20240119_160951-0g0lbwui</code>"
      ],
      "text/plain": [
       "<IPython.core.display.HTML object>"
      ]
     },
     "metadata": {},
     "output_type": "display_data"
    },
    {
     "data": {
      "text/html": [
       "Syncing run <strong><a href='https://wandb.ai/thoomas/PLA_01122024_pixelgen_Kfold/runs/0g0lbwui' target=\"_blank\">GraphConv_3_128_onehot_2</a></strong> to <a href='https://wandb.ai/thoomas/PLA_01122024_pixelgen_Kfold' target=\"_blank\">Weights & Biases</a> (<a href='https://wandb.me/run' target=\"_blank\">docs</a>)<br/>"
      ],
      "text/plain": [
       "<IPython.core.display.HTML object>"
      ]
     },
     "metadata": {},
     "output_type": "display_data"
    },
    {
     "data": {
      "text/html": [
       " View project at <a href='https://wandb.ai/thoomas/PLA_01122024_pixelgen_Kfold' target=\"_blank\">https://wandb.ai/thoomas/PLA_01122024_pixelgen_Kfold</a>"
      ],
      "text/plain": [
       "<IPython.core.display.HTML object>"
      ]
     },
     "metadata": {},
     "output_type": "display_data"
    },
    {
     "data": {
      "text/html": [
       " View run at <a href='https://wandb.ai/thoomas/PLA_01122024_pixelgen_Kfold/runs/0g0lbwui' target=\"_blank\">https://wandb.ai/thoomas/PLA_01122024_pixelgen_Kfold/runs/0g0lbwui</a>"
      ],
      "text/plain": [
       "<IPython.core.display.HTML object>"
      ]
     },
     "metadata": {},
     "output_type": "display_data"
    },
    {
     "name": "stderr",
     "output_type": "stream",
     "text": [
      "Global seed set to 42\n",
      "GPU available: True (cuda), used: True\n",
      "TPU available: False, using: 0 TPU cores\n",
      "IPU available: False, using: 0 IPUs\n",
      "HPU available: False, using: 0 HPUs\n",
      "Global seed set to 42\n",
      "c:\\Users\\thu71\\AppData\\Local\\anaconda3\\envs\\scanpy\\Lib\\site-packages\\lightning\\pytorch\\callbacks\\model_checkpoint.py:617: UserWarning: Checkpoint directory \\\\bme-retromaster.ad.gatech.edu\\labs5\\coskun-lab\\Thomas\\23_PLA_revision\\data\\pixelgen\\Tcell\\saved_models\\pixelgen\\Graph_GNNs_Kfold\\GraphConv_3_128_onehot_2\\attention\\GraphLevelGraphConv exists and is not empty.\n",
      "  rank_zero_warn(f\"Checkpoint directory {dirpath} exists and is not empty.\")\n",
      "LOCAL_RANK: 0 - CUDA_VISIBLE_DEVICES: [0]\n",
      "\n",
      "   | Name        | Type             | Params\n",
      "--------------------------------------------------\n",
      "0  | x_embedding | Identity         | 0     \n",
      "1  | model       | GNNModel         | 86.9 K\n",
      "2  | head        | Sequential       | 8.4 K \n",
      "3  | loss_module | CrossEntropyLoss | 0     \n",
      "4  | train_acc   | BinaryAccuracy   | 0     \n",
      "5  | train_auroc | BinaryAUROC      | 0     \n",
      "6  | train_f1    | BinaryF1Score    | 0     \n",
      "7  | valid_acc   | BinaryAccuracy   | 0     \n",
      "8  | valid_auroc | BinaryAUROC      | 0     \n",
      "9  | valid_f1    | BinaryF1Score    | 0     \n",
      "10 | pool        | GlobalAttention  | 129   \n",
      "--------------------------------------------------\n",
      "95.4 K    Trainable params\n",
      "0         Non-trainable params\n",
      "95.4 K    Total params\n",
      "0.382     Total estimated model params size (MB)\n"
     ]
    },
    {
     "name": "stdout",
     "output_type": "stream",
     "text": [
      "Using GNN\n"
     ]
    },
    {
     "name": "stderr",
     "output_type": "stream",
     "text": [
      "`Trainer.fit` stopped: `max_epochs=65` reached.\n"
     ]
    },
    {
     "data": {
      "text/html": [
       "Waiting for W&B process to finish... <strong style=\"color:green\">(success).</strong>"
      ],
      "text/plain": [
       "<IPython.core.display.HTML object>"
      ]
     },
     "metadata": {},
     "output_type": "display_data"
    },
    {
     "data": {
      "application/vnd.jupyter.widget-view+json": {
       "model_id": "ffb94876b15e4dd09839df73fb619221",
       "version_major": 2,
       "version_minor": 0
      },
      "text/plain": [
       "VBox(children=(Label(value='0.001 MB of 0.001 MB uploaded (0.000 MB deduped)\\r'), FloatProgress(value=1.0, max…"
      ]
     },
     "metadata": {},
     "output_type": "display_data"
    },
    {
     "data": {
      "text/html": [
       "<style>\n",
       "    table.wandb td:nth-child(1) { padding: 0 10px; text-align: left ; width: auto;} td:nth-child(2) {text-align: left ; width: 100%}\n",
       "    .wandb-row { display: flex; flex-direction: row; flex-wrap: wrap; justify-content: flex-start; width: 100% }\n",
       "    .wandb-col { display: flex; flex-direction: column; flex-basis: 100%; flex: 1; padding: 10px; }\n",
       "    </style>\n",
       "<div class=\"wandb-row\"><div class=\"wandb-col\"><h3>Run history:</h3><br/><table class=\"wandb\"><tr><td>epoch</td><td>▁▁▁▂▂▂▂▂▂▃▃▃▃▃▄▄▄▄▄▄▅▅▅▅▅▅▆▆▆▆▆▆▇▇▇▇▇███</td></tr><tr><td>lr-Adam</td><td>▁▁▁▁▁▁▁▁▁▁▁▁▁▁▁▁▁▁▁▁▁▁▁▁▁▁▁▁▁▁▁▁▁▁▁▁▁▁▁▁</td></tr><tr><td>train_acc</td><td>▁▃▆▇▆▇▇▆▃▅▇▇▇███▇▇▇▇████▆▆▇▇▇▇▇▇▇▇███▆▇▇</td></tr><tr><td>train_auc</td><td>▆▆▇██▆▅▁▇▇██████████████████████████████</td></tr><tr><td>train_f1</td><td>▁▃▆▇▆▇▇▆▄▅▇▇▇███▇▇▇▇████▆▆▇▇▇▇▇▇▇▇███▆▇▇</td></tr><tr><td>train_loss_epoch</td><td>█▆▃▂▃▂▂▇▆▆▂▂▁▁▁▁▁▃▁▁▁▁▁▁▄▄▂▃▂▂▂▂▁▂▁▁▂▄▁▁</td></tr><tr><td>train_loss_step</td><td>▂▂▁▂▁▁▁▂▃▂▁▁▁▂▁▁▁▂▁▁▂▁▂▁▁▃▁▁▁▁▁▂▁▂▁▁█▁▁▁</td></tr><tr><td>trainer/global_step</td><td>▁▁▁▁▂▁▁▂▁▁▃▃▂▂▄▄▂▄▄▂▅▅▂▅▆▂▂▆▂▂▂▇▂▃▇▃▃█▃▃</td></tr><tr><td>val_acc</td><td>▆▇▇████▁▇▆█████▇███████▇█▇█▇████▇▇███▇▇▇</td></tr><tr><td>val_auc</td><td>███████▁████████████████████████████████</td></tr><tr><td>val_f1</td><td>▆▇█████▁▇▇█████████████████▇████▇█████▇▇</td></tr><tr><td>val_loss_epoch</td><td>▂▁▁▁▁▁▁█▂▂▁▁▁▁▁▁▁▁▁▁▁▁▁▁▁▁▁▁▁▁▁▁▂▁▁▁▁▁▂▂</td></tr><tr><td>val_loss_step</td><td>▂▁▂▁▁▁▁█▁▁▂▁▁▁▁▁▂▁▁▁▁▂▂▁▁▁▁▂▁▁▁▁▂▂▁▁▁▂▂▂</td></tr></table><br/></div><div class=\"wandb-col\"><h3>Run summary:</h3><br/><table class=\"wandb\"><tr><td>epoch</td><td>64</td></tr><tr><td>lr-Adam</td><td>0.005</td></tr><tr><td>train_acc</td><td>0.98525</td></tr><tr><td>train_auc</td><td>0.9989</td></tr><tr><td>train_f1</td><td>0.98431</td></tr><tr><td>train_loss_epoch</td><td>0.04754</td></tr><tr><td>train_loss_step</td><td>0.03971</td></tr><tr><td>trainer/global_step</td><td>1559</td></tr><tr><td>val_acc</td><td>0.94624</td></tr><tr><td>val_auc</td><td>0.99243</td></tr><tr><td>val_f1</td><td>0.94048</td></tr><tr><td>val_loss_epoch</td><td>0.18643</td></tr><tr><td>val_loss_step</td><td>0.01063</td></tr></table><br/></div></div>"
      ],
      "text/plain": [
       "<IPython.core.display.HTML object>"
      ]
     },
     "metadata": {},
     "output_type": "display_data"
    },
    {
     "data": {
      "text/html": [
       " View run <strong style=\"color:#cdcd00\">GraphConv_3_128_onehot_2</strong> at: <a href='https://wandb.ai/thoomas/PLA_01122024_pixelgen_Kfold/runs/0g0lbwui' target=\"_blank\">https://wandb.ai/thoomas/PLA_01122024_pixelgen_Kfold/runs/0g0lbwui</a><br/>Synced 6 W&B file(s), 0 media file(s), 0 artifact file(s) and 0 other file(s)"
      ],
      "text/plain": [
       "<IPython.core.display.HTML object>"
      ]
     },
     "metadata": {},
     "output_type": "display_data"
    },
    {
     "data": {
      "text/html": [
       "Find logs at: <code>.\\wandb\\run-20240119_160951-0g0lbwui\\logs</code>"
      ],
      "text/plain": [
       "<IPython.core.display.HTML object>"
      ]
     },
     "metadata": {},
     "output_type": "display_data"
    },
    {
     "data": {
      "application/vnd.jupyter.widget-view+json": {
       "model_id": "856e766902f543958ea5f296614e0288",
       "version_major": 2,
       "version_minor": 0
      },
      "text/plain": [
       "VBox(children=(Label(value='Waiting for wandb.init()...\\r'), FloatProgress(value=0.016916666666899498, max=1.0…"
      ]
     },
     "metadata": {},
     "output_type": "display_data"
    },
    {
     "data": {
      "text/html": [
       "wandb version 0.16.2 is available!  To upgrade, please run:\n",
       " $ pip install wandb --upgrade"
      ],
      "text/plain": [
       "<IPython.core.display.HTML object>"
      ]
     },
     "metadata": {},
     "output_type": "display_data"
    },
    {
     "data": {
      "text/html": [
       "Tracking run with wandb version 0.15.8"
      ],
      "text/plain": [
       "<IPython.core.display.HTML object>"
      ]
     },
     "metadata": {},
     "output_type": "display_data"
    },
    {
     "data": {
      "text/html": [
       "Run data is saved locally in <code>y:\\coskun-lab\\Thomas\\23_PLA_revision\\notebooks\\wandb\\run-20240119_161740-myin72nk</code>"
      ],
      "text/plain": [
       "<IPython.core.display.HTML object>"
      ]
     },
     "metadata": {},
     "output_type": "display_data"
    },
    {
     "data": {
      "text/html": [
       "Syncing run <strong><a href='https://wandb.ai/thoomas/PLA_01122024_pixelgen_Kfold/runs/myin72nk' target=\"_blank\">GCN_3_128_onehot_2</a></strong> to <a href='https://wandb.ai/thoomas/PLA_01122024_pixelgen_Kfold' target=\"_blank\">Weights & Biases</a> (<a href='https://wandb.me/run' target=\"_blank\">docs</a>)<br/>"
      ],
      "text/plain": [
       "<IPython.core.display.HTML object>"
      ]
     },
     "metadata": {},
     "output_type": "display_data"
    },
    {
     "data": {
      "text/html": [
       " View project at <a href='https://wandb.ai/thoomas/PLA_01122024_pixelgen_Kfold' target=\"_blank\">https://wandb.ai/thoomas/PLA_01122024_pixelgen_Kfold</a>"
      ],
      "text/plain": [
       "<IPython.core.display.HTML object>"
      ]
     },
     "metadata": {},
     "output_type": "display_data"
    },
    {
     "data": {
      "text/html": [
       " View run at <a href='https://wandb.ai/thoomas/PLA_01122024_pixelgen_Kfold/runs/myin72nk' target=\"_blank\">https://wandb.ai/thoomas/PLA_01122024_pixelgen_Kfold/runs/myin72nk</a>"
      ],
      "text/plain": [
       "<IPython.core.display.HTML object>"
      ]
     },
     "metadata": {},
     "output_type": "display_data"
    },
    {
     "name": "stderr",
     "output_type": "stream",
     "text": [
      "Global seed set to 42\n",
      "GPU available: True (cuda), used: True\n",
      "TPU available: False, using: 0 TPU cores\n",
      "IPU available: False, using: 0 IPUs\n",
      "HPU available: False, using: 0 HPUs\n",
      "Global seed set to 42\n",
      "c:\\Users\\thu71\\AppData\\Local\\anaconda3\\envs\\scanpy\\Lib\\site-packages\\lightning\\pytorch\\callbacks\\model_checkpoint.py:617: UserWarning: Checkpoint directory \\\\bme-retromaster.ad.gatech.edu\\labs5\\coskun-lab\\Thomas\\23_PLA_revision\\data\\pixelgen\\Tcell\\saved_models\\pixelgen\\Graph_GNNs_Kfold\\GCN_3_128_onehot_2\\attention2\\GraphLevelGCN exists and is not empty.\n",
      "  rank_zero_warn(f\"Checkpoint directory {dirpath} exists and is not empty.\")\n",
      "LOCAL_RANK: 0 - CUDA_VISIBLE_DEVICES: [0]\n",
      "\n",
      "   | Name        | Type             | Params\n",
      "--------------------------------------------------\n",
      "0  | x_embedding | Identity         | 0     \n",
      "1  | model       | GNNModel         | 43.9 K\n",
      "2  | head        | Sequential       | 8.4 K \n",
      "3  | loss_module | CrossEntropyLoss | 0     \n",
      "4  | train_acc   | BinaryAccuracy   | 0     \n",
      "5  | train_auroc | BinaryAUROC      | 0     \n",
      "6  | train_f1    | BinaryF1Score    | 0     \n",
      "7  | valid_acc   | BinaryAccuracy   | 0     \n",
      "8  | valid_auroc | BinaryAUROC      | 0     \n",
      "9  | valid_f1    | BinaryF1Score    | 0     \n",
      "10 | pool        | Attention_module | 16.6 K\n",
      "--------------------------------------------------\n",
      "68.9 K    Trainable params\n",
      "0         Non-trainable params\n",
      "68.9 K    Total params\n",
      "0.275     Total estimated model params size (MB)\n"
     ]
    },
    {
     "name": "stdout",
     "output_type": "stream",
     "text": [
      "Using GNN\n"
     ]
    },
    {
     "name": "stderr",
     "output_type": "stream",
     "text": [
      "`Trainer.fit` stopped: `max_epochs=65` reached.\n"
     ]
    },
    {
     "data": {
      "text/html": [
       "Waiting for W&B process to finish... <strong style=\"color:green\">(success).</strong>"
      ],
      "text/plain": [
       "<IPython.core.display.HTML object>"
      ]
     },
     "metadata": {},
     "output_type": "display_data"
    },
    {
     "data": {
      "application/vnd.jupyter.widget-view+json": {
       "model_id": "b4e5454e3b7e4efb9ce3a0808eba9278",
       "version_major": 2,
       "version_minor": 0
      },
      "text/plain": [
       "VBox(children=(Label(value='0.001 MB of 0.001 MB uploaded (0.000 MB deduped)\\r'), FloatProgress(value=1.0, max…"
      ]
     },
     "metadata": {},
     "output_type": "display_data"
    },
    {
     "data": {
      "text/html": [
       "<style>\n",
       "    table.wandb td:nth-child(1) { padding: 0 10px; text-align: left ; width: auto;} td:nth-child(2) {text-align: left ; width: 100%}\n",
       "    .wandb-row { display: flex; flex-direction: row; flex-wrap: wrap; justify-content: flex-start; width: 100% }\n",
       "    .wandb-col { display: flex; flex-direction: column; flex-basis: 100%; flex: 1; padding: 10px; }\n",
       "    </style>\n",
       "<div class=\"wandb-row\"><div class=\"wandb-col\"><h3>Run history:</h3><br/><table class=\"wandb\"><tr><td>epoch</td><td>▁▁▁▂▂▂▂▂▂▃▃▃▃▃▄▄▄▄▄▄▅▅▅▅▅▅▆▆▆▆▆▆▇▇▇▇▇███</td></tr><tr><td>lr-Adam</td><td>▁▁▁▁▁▁▁▁▁▁▁▁▁▁▁▁▁▁▁▁▁▁▁▁▁▁▁▁▁▁▁▁▁▁▁▁▁▁▁▁</td></tr><tr><td>train_acc</td><td>▁▄▆▆▆█▇▇▆▇▇▇▆▇▇▇█▇█▇▇█▇▇██▇██████▅█████▇</td></tr><tr><td>train_auc</td><td>▁▅▇▆███▇▇▇█▇█████████████████████▇█████▇</td></tr><tr><td>train_f1</td><td>▁▄▆▆▆█▇▇▆▇▇▇▆▇▇▇█▇█▇▇█▇▇██▇██████▅█████▇</td></tr><tr><td>train_loss_epoch</td><td>█▅▄▃▂▂▂▃▃▃▁▄▂▂▂▁▂▃▁▂▂▃▂▃▁▁▂▁▁▁▁▁▁▄▂▁▁▁▁▂</td></tr><tr><td>train_loss_step</td><td>▁▂▁▁▁▁▁▁▁▁▁▁▂▁▁▁▂▁▁▁▁█▁▂▁▁▁▁▁▁▁▃▁▁▁▁▁▁▃▁</td></tr><tr><td>trainer/global_step</td><td>▁▁▁▁▂▁▁▂▁▁▃▃▂▂▄▄▂▄▄▂▅▅▂▅▆▂▂▆▂▂▂▇▂▃▇▃▃█▃▃</td></tr><tr><td>val_acc</td><td>▁█▆▆▆▆▇▇▇▇▆▇▆▇▇▇▆▄▇█▇▇▇▇▇█▆█▇▇▇▇█▇▅▇███▇</td></tr><tr><td>val_auc</td><td>▆▇▆▆▅▅▆▅▆▇▆▆██▇▇█▆█▄▃▁███▅▁▅▆▆▅▃▅▄▅▅▆▆▆▅</td></tr><tr><td>val_f1</td><td>▁█▇▆▇▆▇▇▇▇▇▇▇▇▇▇▇▄▇█▇▇▇▇▇█▆█▇▇▇▇█▇▅▇███▇</td></tr><tr><td>val_loss_epoch</td><td>▃▁▂▂▂▃▂▃▁▂▂▂▂▁▂▂▁▃▂▃▂█▂▁▃▂▃▄▃▃▄▄▄▃▃▃▂▂▂▂</td></tr><tr><td>val_loss_step</td><td>▂▁▁▁▂▂▂▁▁▁▂▂▁▂▁▂▂▂▁▂▁█▂▁▁▁▂▃▃▂▁▁▃▃▁▁▁▁▃▃</td></tr></table><br/></div><div class=\"wandb-col\"><h3>Run summary:</h3><br/><table class=\"wandb\"><tr><td>epoch</td><td>64</td></tr><tr><td>lr-Adam</td><td>0.005</td></tr><tr><td>train_acc</td><td>0.9866</td></tr><tr><td>train_auc</td><td>0.99718</td></tr><tr><td>train_f1</td><td>0.98575</td></tr><tr><td>train_loss_epoch</td><td>0.0482</td></tr><tr><td>train_loss_step</td><td>0.00138</td></tr><tr><td>trainer/global_step</td><td>1559</td></tr><tr><td>val_acc</td><td>0.97849</td></tr><tr><td>val_auc</td><td>0.99255</td></tr><tr><td>val_f1</td><td>0.975</td></tr><tr><td>val_loss_epoch</td><td>0.13752</td></tr><tr><td>val_loss_step</td><td>0.12511</td></tr></table><br/></div></div>"
      ],
      "text/plain": [
       "<IPython.core.display.HTML object>"
      ]
     },
     "metadata": {},
     "output_type": "display_data"
    },
    {
     "data": {
      "text/html": [
       " View run <strong style=\"color:#cdcd00\">GCN_3_128_onehot_2</strong> at: <a href='https://wandb.ai/thoomas/PLA_01122024_pixelgen_Kfold/runs/myin72nk' target=\"_blank\">https://wandb.ai/thoomas/PLA_01122024_pixelgen_Kfold/runs/myin72nk</a><br/>Synced 6 W&B file(s), 0 media file(s), 0 artifact file(s) and 0 other file(s)"
      ],
      "text/plain": [
       "<IPython.core.display.HTML object>"
      ]
     },
     "metadata": {},
     "output_type": "display_data"
    },
    {
     "data": {
      "text/html": [
       "Find logs at: <code>.\\wandb\\run-20240119_161740-myin72nk\\logs</code>"
      ],
      "text/plain": [
       "<IPython.core.display.HTML object>"
      ]
     },
     "metadata": {},
     "output_type": "display_data"
    },
    {
     "data": {
      "text/html": [
       "wandb version 0.16.2 is available!  To upgrade, please run:\n",
       " $ pip install wandb --upgrade"
      ],
      "text/plain": [
       "<IPython.core.display.HTML object>"
      ]
     },
     "metadata": {},
     "output_type": "display_data"
    },
    {
     "data": {
      "text/html": [
       "Tracking run with wandb version 0.15.8"
      ],
      "text/plain": [
       "<IPython.core.display.HTML object>"
      ]
     },
     "metadata": {},
     "output_type": "display_data"
    },
    {
     "data": {
      "text/html": [
       "Run data is saved locally in <code>y:\\coskun-lab\\Thomas\\23_PLA_revision\\notebooks\\wandb\\run-20240119_162849-i0wtibvy</code>"
      ],
      "text/plain": [
       "<IPython.core.display.HTML object>"
      ]
     },
     "metadata": {},
     "output_type": "display_data"
    },
    {
     "data": {
      "text/html": [
       "Syncing run <strong><a href='https://wandb.ai/thoomas/PLA_01122024_pixelgen_Kfold/runs/i0wtibvy' target=\"_blank\">GAT_norm_3_128_onehot_2</a></strong> to <a href='https://wandb.ai/thoomas/PLA_01122024_pixelgen_Kfold' target=\"_blank\">Weights & Biases</a> (<a href='https://wandb.me/run' target=\"_blank\">docs</a>)<br/>"
      ],
      "text/plain": [
       "<IPython.core.display.HTML object>"
      ]
     },
     "metadata": {},
     "output_type": "display_data"
    },
    {
     "data": {
      "text/html": [
       " View project at <a href='https://wandb.ai/thoomas/PLA_01122024_pixelgen_Kfold' target=\"_blank\">https://wandb.ai/thoomas/PLA_01122024_pixelgen_Kfold</a>"
      ],
      "text/plain": [
       "<IPython.core.display.HTML object>"
      ]
     },
     "metadata": {},
     "output_type": "display_data"
    },
    {
     "data": {
      "text/html": [
       " View run at <a href='https://wandb.ai/thoomas/PLA_01122024_pixelgen_Kfold/runs/i0wtibvy' target=\"_blank\">https://wandb.ai/thoomas/PLA_01122024_pixelgen_Kfold/runs/i0wtibvy</a>"
      ],
      "text/plain": [
       "<IPython.core.display.HTML object>"
      ]
     },
     "metadata": {},
     "output_type": "display_data"
    },
    {
     "name": "stderr",
     "output_type": "stream",
     "text": [
      "Global seed set to 42\n",
      "GPU available: True (cuda), used: True\n",
      "TPU available: False, using: 0 TPU cores\n",
      "IPU available: False, using: 0 IPUs\n",
      "HPU available: False, using: 0 HPUs\n",
      "Global seed set to 42\n",
      "c:\\Users\\thu71\\AppData\\Local\\anaconda3\\envs\\scanpy\\Lib\\site-packages\\lightning\\pytorch\\callbacks\\model_checkpoint.py:617: UserWarning: Checkpoint directory \\\\bme-retromaster.ad.gatech.edu\\labs5\\coskun-lab\\Thomas\\23_PLA_revision\\data\\pixelgen\\Tcell\\saved_models\\pixelgen\\Graph_GNNs_Kfold\\GAT_norm_3_128_onehot_2\\attention\\GraphLevelGAT_norm exists and is not empty.\n",
      "  rank_zero_warn(f\"Checkpoint directory {dirpath} exists and is not empty.\")\n",
      "LOCAL_RANK: 0 - CUDA_VISIBLE_DEVICES: [0]\n",
      "\n",
      "   | Name        | Type             | Params\n",
      "--------------------------------------------------\n",
      "0  | x_embedding | Identity         | 0     \n",
      "1  | model       | GAT              | 121 K \n",
      "2  | head        | Sequential       | 8.4 K \n",
      "3  | loss_module | CrossEntropyLoss | 0     \n",
      "4  | train_acc   | BinaryAccuracy   | 0     \n",
      "5  | train_auroc | BinaryAUROC      | 0     \n",
      "6  | train_f1    | BinaryF1Score    | 0     \n",
      "7  | valid_acc   | BinaryAccuracy   | 0     \n",
      "8  | valid_auroc | BinaryAUROC      | 0     \n",
      "9  | valid_f1    | BinaryF1Score    | 0     \n",
      "10 | pool        | GlobalAttention  | 129   \n",
      "--------------------------------------------------\n",
      "130 K     Trainable params\n",
      "0         Non-trainable params\n",
      "130 K     Total params\n",
      "0.521     Total estimated model params size (MB)\n"
     ]
    },
    {
     "name": "stdout",
     "output_type": "stream",
     "text": [
      "Using GAT\n"
     ]
    },
    {
     "name": "stderr",
     "output_type": "stream",
     "text": [
      "`Trainer.fit` stopped: `max_epochs=65` reached.\n"
     ]
    },
    {
     "data": {
      "text/html": [
       "Waiting for W&B process to finish... <strong style=\"color:green\">(success).</strong>"
      ],
      "text/plain": [
       "<IPython.core.display.HTML object>"
      ]
     },
     "metadata": {},
     "output_type": "display_data"
    },
    {
     "data": {
      "text/html": [
       "<style>\n",
       "    table.wandb td:nth-child(1) { padding: 0 10px; text-align: left ; width: auto;} td:nth-child(2) {text-align: left ; width: 100%}\n",
       "    .wandb-row { display: flex; flex-direction: row; flex-wrap: wrap; justify-content: flex-start; width: 100% }\n",
       "    .wandb-col { display: flex; flex-direction: column; flex-basis: 100%; flex: 1; padding: 10px; }\n",
       "    </style>\n",
       "<div class=\"wandb-row\"><div class=\"wandb-col\"><h3>Run history:</h3><br/><table class=\"wandb\"><tr><td>epoch</td><td>▁▁▁▂▂▂▂▂▂▃▃▃▃▃▄▄▄▄▄▄▅▅▅▅▅▅▆▆▆▆▆▆▇▇▇▇▇███</td></tr><tr><td>lr-Adam</td><td>▁▁▁▁▁▁▁▁▁▁▁▁▁▁▁▁▁▁▁▁▁▁▁▁▁▁▁▁▁▁▁▁▁▁▁▁▁▁▁▁</td></tr><tr><td>train_acc</td><td>▁▄▆▆▇▆▇▇▇▇██▅▇▇▇▇▇▇▇▇█████████████▇█▇███</td></tr><tr><td>train_auc</td><td>▁▅▇▇█▇██████▅█▇█████████████████████████</td></tr><tr><td>train_f1</td><td>▁▄▆▆▇▆▇▇▇▇██▅▇▇▇▇▇▇▇▇█████████████▇█▇███</td></tr><tr><td>train_loss_epoch</td><td>█▆▄▃▂▃▂▃▂▂▁▅▅▃▃▂▂▂▂▂▂▁▁▁▁▁▁▁▁▁▁▁▁▁▂▁▂▁▁▁</td></tr><tr><td>train_loss_step</td><td>▆█▄▂▂▁▂▁▁▅▁▁▇▁▃▁▁▁▁▃▁▁▂▁▁▁▁▁▄▁▂▁▁▁▁▂▃▁▁▁</td></tr><tr><td>trainer/global_step</td><td>▁▁▁▁▂▁▁▂▁▁▃▃▂▂▄▄▂▄▄▂▅▅▂▅▆▂▂▆▂▂▂▇▂▃▇▃▃█▃▃</td></tr><tr><td>val_acc</td><td>▁▄▅▆▇▇▆██▆██▅▄▆▆█▇▆▄▆▇▇▆▇█▇▇▇▆█▇▆▇▅▇▄▅██</td></tr><tr><td>val_auc</td><td>▁▇██████████▇▇██████████████████████████</td></tr><tr><td>val_f1</td><td>▁▃▅▆▇▇▆██▆██▄▄▅▅▇▇▆▄▆▇▇▆▇█▇▇▇▆▇▇▆▇▅▇▄▅██</td></tr><tr><td>val_loss_epoch</td><td>█▆▄▃▂▃▃▂▁▃▁▁▅▆▃▄▂▂▄█▃▂▂▃▂▂▂▂▂▃▂▂▄▂▅▁▆▄▂▁</td></tr><tr><td>val_loss_step</td><td>▃▄▄▃▂▂▁▁▂▂▂▁▃▁▄▂▂▂▁█▃▂▂▁▂▂▂▂▂▁▂▃▃▂▁▂▆▂▂▂</td></tr></table><br/></div><div class=\"wandb-col\"><h3>Run summary:</h3><br/><table class=\"wandb\"><tr><td>epoch</td><td>64</td></tr><tr><td>lr-Adam</td><td>0.005</td></tr><tr><td>train_acc</td><td>0.99464</td></tr><tr><td>train_auc</td><td>0.99979</td></tr><tr><td>train_f1</td><td>0.9943</td></tr><tr><td>train_loss_epoch</td><td>0.02125</td></tr><tr><td>train_loss_step</td><td>0.05099</td></tr><tr><td>trainer/global_step</td><td>1559</td></tr><tr><td>val_acc</td><td>0.96774</td></tr><tr><td>val_auc</td><td>0.99515</td></tr><tr><td>val_f1</td><td>0.96203</td></tr><tr><td>val_loss_epoch</td><td>0.08986</td></tr><tr><td>val_loss_step</td><td>0.12632</td></tr></table><br/></div></div>"
      ],
      "text/plain": [
       "<IPython.core.display.HTML object>"
      ]
     },
     "metadata": {},
     "output_type": "display_data"
    },
    {
     "data": {
      "text/html": [
       " View run <strong style=\"color:#cdcd00\">GAT_norm_3_128_onehot_2</strong> at: <a href='https://wandb.ai/thoomas/PLA_01122024_pixelgen_Kfold/runs/i0wtibvy' target=\"_blank\">https://wandb.ai/thoomas/PLA_01122024_pixelgen_Kfold/runs/i0wtibvy</a><br/>Synced 6 W&B file(s), 0 media file(s), 0 artifact file(s) and 0 other file(s)"
      ],
      "text/plain": [
       "<IPython.core.display.HTML object>"
      ]
     },
     "metadata": {},
     "output_type": "display_data"
    },
    {
     "data": {
      "text/html": [
       "Find logs at: <code>.\\wandb\\run-20240119_162849-i0wtibvy\\logs</code>"
      ],
      "text/plain": [
       "<IPython.core.display.HTML object>"
      ]
     },
     "metadata": {},
     "output_type": "display_data"
    },
    {
     "data": {
      "text/html": [
       "wandb version 0.16.2 is available!  To upgrade, please run:\n",
       " $ pip install wandb --upgrade"
      ],
      "text/plain": [
       "<IPython.core.display.HTML object>"
      ]
     },
     "metadata": {},
     "output_type": "display_data"
    },
    {
     "data": {
      "text/html": [
       "Tracking run with wandb version 0.15.8"
      ],
      "text/plain": [
       "<IPython.core.display.HTML object>"
      ]
     },
     "metadata": {},
     "output_type": "display_data"
    },
    {
     "data": {
      "text/html": [
       "Run data is saved locally in <code>y:\\coskun-lab\\Thomas\\23_PLA_revision\\notebooks\\wandb\\run-20240119_164043-ylwwwg1d</code>"
      ],
      "text/plain": [
       "<IPython.core.display.HTML object>"
      ]
     },
     "metadata": {},
     "output_type": "display_data"
    },
    {
     "data": {
      "text/html": [
       "Syncing run <strong><a href='https://wandb.ai/thoomas/PLA_01122024_pixelgen_Kfold/runs/ylwwwg1d' target=\"_blank\">GINConv_norm_3_128_onehot_2</a></strong> to <a href='https://wandb.ai/thoomas/PLA_01122024_pixelgen_Kfold' target=\"_blank\">Weights & Biases</a> (<a href='https://wandb.me/run' target=\"_blank\">docs</a>)<br/>"
      ],
      "text/plain": [
       "<IPython.core.display.HTML object>"
      ]
     },
     "metadata": {},
     "output_type": "display_data"
    },
    {
     "data": {
      "text/html": [
       " View project at <a href='https://wandb.ai/thoomas/PLA_01122024_pixelgen_Kfold' target=\"_blank\">https://wandb.ai/thoomas/PLA_01122024_pixelgen_Kfold</a>"
      ],
      "text/plain": [
       "<IPython.core.display.HTML object>"
      ]
     },
     "metadata": {},
     "output_type": "display_data"
    },
    {
     "data": {
      "text/html": [
       " View run at <a href='https://wandb.ai/thoomas/PLA_01122024_pixelgen_Kfold/runs/ylwwwg1d' target=\"_blank\">https://wandb.ai/thoomas/PLA_01122024_pixelgen_Kfold/runs/ylwwwg1d</a>"
      ],
      "text/plain": [
       "<IPython.core.display.HTML object>"
      ]
     },
     "metadata": {},
     "output_type": "display_data"
    },
    {
     "name": "stderr",
     "output_type": "stream",
     "text": [
      "Global seed set to 42\n",
      "GPU available: True (cuda), used: True\n",
      "TPU available: False, using: 0 TPU cores\n",
      "IPU available: False, using: 0 IPUs\n",
      "HPU available: False, using: 0 HPUs\n",
      "Global seed set to 42\n",
      "c:\\Users\\thu71\\AppData\\Local\\anaconda3\\envs\\scanpy\\Lib\\site-packages\\lightning\\pytorch\\callbacks\\model_checkpoint.py:617: UserWarning: Checkpoint directory \\\\bme-retromaster.ad.gatech.edu\\labs5\\coskun-lab\\Thomas\\23_PLA_revision\\data\\pixelgen\\Tcell\\saved_models\\pixelgen\\Graph_GNNs_Kfold\\GINConv_norm_3_128_onehot_2\\mean\\GraphLevelGINConv_norm exists and is not empty.\n",
      "  rank_zero_warn(f\"Checkpoint directory {dirpath} exists and is not empty.\")\n",
      "LOCAL_RANK: 0 - CUDA_VISIBLE_DEVICES: [0]\n",
      "\n",
      "  | Name        | Type             | Params\n",
      "-------------------------------------------------\n",
      "0 | x_embedding | Identity         | 0     \n",
      "1 | model       | GIN              | 94.2 K\n",
      "2 | head        | Sequential       | 8.4 K \n",
      "3 | loss_module | CrossEntropyLoss | 0     \n",
      "4 | train_acc   | BinaryAccuracy   | 0     \n",
      "5 | train_auroc | BinaryAUROC      | 0     \n",
      "6 | train_f1    | BinaryF1Score    | 0     \n",
      "7 | valid_acc   | BinaryAccuracy   | 0     \n",
      "8 | valid_auroc | BinaryAUROC      | 0     \n",
      "9 | valid_f1    | BinaryF1Score    | 0     \n",
      "-------------------------------------------------\n",
      "102 K     Trainable params\n",
      "0         Non-trainable params\n",
      "102 K     Total params\n",
      "0.410     Total estimated model params size (MB)\n"
     ]
    },
    {
     "name": "stdout",
     "output_type": "stream",
     "text": [
      "GINConv\n"
     ]
    },
    {
     "name": "stderr",
     "output_type": "stream",
     "text": [
      "`Trainer.fit` stopped: `max_epochs=65` reached.\n"
     ]
    },
    {
     "data": {
      "text/html": [
       "Waiting for W&B process to finish... <strong style=\"color:green\">(success).</strong>"
      ],
      "text/plain": [
       "<IPython.core.display.HTML object>"
      ]
     },
     "metadata": {},
     "output_type": "display_data"
    },
    {
     "data": {
      "text/html": [
       "<style>\n",
       "    table.wandb td:nth-child(1) { padding: 0 10px; text-align: left ; width: auto;} td:nth-child(2) {text-align: left ; width: 100%}\n",
       "    .wandb-row { display: flex; flex-direction: row; flex-wrap: wrap; justify-content: flex-start; width: 100% }\n",
       "    .wandb-col { display: flex; flex-direction: column; flex-basis: 100%; flex: 1; padding: 10px; }\n",
       "    </style>\n",
       "<div class=\"wandb-row\"><div class=\"wandb-col\"><h3>Run history:</h3><br/><table class=\"wandb\"><tr><td>epoch</td><td>▁▁▁▂▂▂▂▂▂▃▃▃▃▃▄▄▄▄▄▄▅▅▅▅▅▅▆▆▆▆▆▆▇▇▇▇▇███</td></tr><tr><td>lr-Adam</td><td>▁▁▁▁▁▁▁▁▁▁▁▁▁▁▁▁▁▁▁▁▁▁▁▁▁▁▁▁▁▁▁▁▁▁▁▁▁▁▁▁</td></tr><tr><td>train_acc</td><td>▁▅▇▇▇██▆▇▇▇▇▇▇▇▇███████████▆██▇█████▇█▇▇</td></tr><tr><td>train_auc</td><td>▁▆▇████▇▇██████████████████▇████████████</td></tr><tr><td>train_f1</td><td>▁▅▇▇▇██▆▇▇▇▇▇▇▇▇███████████▆██▇█████▇█▇▇</td></tr><tr><td>train_loss_epoch</td><td>█▄▃▂▂▂▂▄▃▂▂▂▂▃▂▂▁▁▁▁▁▁▁▁▁▁▁▃▁▂▂▁▂▁▁▁▂▁▃▁</td></tr><tr><td>train_loss_step</td><td>▆▅▄▂▂▂▁▂▃▂▁▅▁▃▆▂▂▁▁▁▁▁▁▁▁▃▁▂▁█▁▂▁▁▂▁▁▂▄▁</td></tr><tr><td>trainer/global_step</td><td>▁▁▁▁▂▁▁▂▁▁▃▃▂▂▄▄▂▄▄▂▅▅▂▅▆▂▂▆▂▂▂▇▂▃▇▃▃█▃▃</td></tr><tr><td>val_acc</td><td>▁▇██▆███████████████████████████████████</td></tr><tr><td>val_auc</td><td>▄▅▇▇▃▇█▄▇▆▇█▆█▇▃██▇█▇▆▇▄███▁▇▆▇▆▇▇▇█▂▇▇▇</td></tr><tr><td>val_f1</td><td>▁▇██▅███████▇█████▇██▇███████▇███████▇██</td></tr><tr><td>val_loss_epoch</td><td>█▂▁▁▂▁▁▃▁▁▁▁▁▁▁▂▁▁▁▁▁▂▁▂▁▁▁▂▁▂▁▁▁▁▁▁▁▁▁▁</td></tr><tr><td>val_loss_step</td><td>█▁▁▂▂▂▂▂▁▁▁▂▂▂▂▆▁▂▂▁▁▃▁▂▁▁▂▅▁▄▁▂▁▁▂▂▂▁▂▂</td></tr></table><br/></div><div class=\"wandb-col\"><h3>Run summary:</h3><br/><table class=\"wandb\"><tr><td>epoch</td><td>64</td></tr><tr><td>lr-Adam</td><td>0.005</td></tr><tr><td>train_acc</td><td>0.9866</td></tr><tr><td>train_auc</td><td>0.99968</td></tr><tr><td>train_f1</td><td>0.98584</td></tr><tr><td>train_loss_epoch</td><td>0.02625</td></tr><tr><td>train_loss_step</td><td>0.00021</td></tr><tr><td>trainer/global_step</td><td>1559</td></tr><tr><td>val_acc</td><td>0.97312</td></tr><tr><td>val_auc</td><td>0.99811</td></tr><tr><td>val_f1</td><td>0.96855</td></tr><tr><td>val_loss_epoch</td><td>0.09453</td></tr><tr><td>val_loss_step</td><td>0.27535</td></tr></table><br/></div></div>"
      ],
      "text/plain": [
       "<IPython.core.display.HTML object>"
      ]
     },
     "metadata": {},
     "output_type": "display_data"
    },
    {
     "data": {
      "text/html": [
       " View run <strong style=\"color:#cdcd00\">GINConv_norm_3_128_onehot_2</strong> at: <a href='https://wandb.ai/thoomas/PLA_01122024_pixelgen_Kfold/runs/ylwwwg1d' target=\"_blank\">https://wandb.ai/thoomas/PLA_01122024_pixelgen_Kfold/runs/ylwwwg1d</a><br/>Synced 6 W&B file(s), 0 media file(s), 0 artifact file(s) and 0 other file(s)"
      ],
      "text/plain": [
       "<IPython.core.display.HTML object>"
      ]
     },
     "metadata": {},
     "output_type": "display_data"
    },
    {
     "data": {
      "text/html": [
       "Find logs at: <code>.\\wandb\\run-20240119_164043-ylwwwg1d\\logs</code>"
      ],
      "text/plain": [
       "<IPython.core.display.HTML object>"
      ]
     },
     "metadata": {},
     "output_type": "display_data"
    },
    {
     "data": {
      "application/vnd.jupyter.widget-view+json": {
       "model_id": "8e72844b9f2a4f818bcc140a6e658c81",
       "version_major": 2,
       "version_minor": 0
      },
      "text/plain": [
       "VBox(children=(Label(value='Waiting for wandb.init()...\\r'), FloatProgress(value=0.016916666666899498, max=1.0…"
      ]
     },
     "metadata": {},
     "output_type": "display_data"
    },
    {
     "data": {
      "text/html": [
       "wandb version 0.16.2 is available!  To upgrade, please run:\n",
       " $ pip install wandb --upgrade"
      ],
      "text/plain": [
       "<IPython.core.display.HTML object>"
      ]
     },
     "metadata": {},
     "output_type": "display_data"
    },
    {
     "data": {
      "text/html": [
       "Tracking run with wandb version 0.15.8"
      ],
      "text/plain": [
       "<IPython.core.display.HTML object>"
      ]
     },
     "metadata": {},
     "output_type": "display_data"
    },
    {
     "data": {
      "text/html": [
       "Run data is saved locally in <code>y:\\coskun-lab\\Thomas\\23_PLA_revision\\notebooks\\wandb\\run-20240119_164825-w60klzge</code>"
      ],
      "text/plain": [
       "<IPython.core.display.HTML object>"
      ]
     },
     "metadata": {},
     "output_type": "display_data"
    },
    {
     "data": {
      "text/html": [
       "Syncing run <strong><a href='https://wandb.ai/thoomas/PLA_01122024_pixelgen_Kfold/runs/w60klzge' target=\"_blank\">MLP_3_128_onehot_3</a></strong> to <a href='https://wandb.ai/thoomas/PLA_01122024_pixelgen_Kfold' target=\"_blank\">Weights & Biases</a> (<a href='https://wandb.me/run' target=\"_blank\">docs</a>)<br/>"
      ],
      "text/plain": [
       "<IPython.core.display.HTML object>"
      ]
     },
     "metadata": {},
     "output_type": "display_data"
    },
    {
     "data": {
      "text/html": [
       " View project at <a href='https://wandb.ai/thoomas/PLA_01122024_pixelgen_Kfold' target=\"_blank\">https://wandb.ai/thoomas/PLA_01122024_pixelgen_Kfold</a>"
      ],
      "text/plain": [
       "<IPython.core.display.HTML object>"
      ]
     },
     "metadata": {},
     "output_type": "display_data"
    },
    {
     "data": {
      "text/html": [
       " View run at <a href='https://wandb.ai/thoomas/PLA_01122024_pixelgen_Kfold/runs/w60klzge' target=\"_blank\">https://wandb.ai/thoomas/PLA_01122024_pixelgen_Kfold/runs/w60klzge</a>"
      ],
      "text/plain": [
       "<IPython.core.display.HTML object>"
      ]
     },
     "metadata": {},
     "output_type": "display_data"
    },
    {
     "name": "stderr",
     "output_type": "stream",
     "text": [
      "Global seed set to 42\n",
      "GPU available: True (cuda), used: True\n",
      "TPU available: False, using: 0 TPU cores\n",
      "IPU available: False, using: 0 IPUs\n",
      "HPU available: False, using: 0 HPUs\n",
      "Global seed set to 42\n",
      "c:\\Users\\thu71\\AppData\\Local\\anaconda3\\envs\\scanpy\\Lib\\site-packages\\lightning\\pytorch\\callbacks\\model_checkpoint.py:617: UserWarning: Checkpoint directory \\\\bme-retromaster.ad.gatech.edu\\labs5\\coskun-lab\\Thomas\\23_PLA_revision\\data\\pixelgen\\Tcell\\saved_models\\pixelgen\\Graph_GNNs_Kfold\\MLP_3_128_onehot_3\\attention\\GraphLevelMLP exists and is not empty.\n",
      "  rank_zero_warn(f\"Checkpoint directory {dirpath} exists and is not empty.\")\n",
      "LOCAL_RANK: 0 - CUDA_VISIBLE_DEVICES: [0]\n",
      "\n",
      "   | Name        | Type             | Params\n",
      "--------------------------------------------------\n",
      "0  | x_embedding | Identity         | 0     \n",
      "1  | model       | MLPModel         | 43.4 K\n",
      "2  | head        | Sequential       | 8.4 K \n",
      "3  | loss_module | CrossEntropyLoss | 0     \n",
      "4  | train_acc   | BinaryAccuracy   | 0     \n",
      "5  | train_auroc | BinaryAUROC      | 0     \n",
      "6  | train_f1    | BinaryF1Score    | 0     \n",
      "7  | valid_acc   | BinaryAccuracy   | 0     \n",
      "8  | valid_auroc | BinaryAUROC      | 0     \n",
      "9  | valid_f1    | BinaryF1Score    | 0     \n",
      "10 | pool        | GlobalAttention  | 129   \n",
      "--------------------------------------------------\n",
      "51.9 K    Trainable params\n",
      "0         Non-trainable params\n",
      "51.9 K    Total params\n",
      "0.208     Total estimated model params size (MB)\n"
     ]
    },
    {
     "name": "stdout",
     "output_type": "stream",
     "text": [
      "Using MLP\n"
     ]
    },
    {
     "name": "stderr",
     "output_type": "stream",
     "text": [
      "`Trainer.fit` stopped: `max_epochs=65` reached.\n"
     ]
    },
    {
     "data": {
      "text/html": [
       "Waiting for W&B process to finish... <strong style=\"color:green\">(success).</strong>"
      ],
      "text/plain": [
       "<IPython.core.display.HTML object>"
      ]
     },
     "metadata": {},
     "output_type": "display_data"
    },
    {
     "data": {
      "application/vnd.jupyter.widget-view+json": {
       "model_id": "5a1453e4dbd6433e9aa643beb808bc2d",
       "version_major": 2,
       "version_minor": 0
      },
      "text/plain": [
       "VBox(children=(Label(value='0.001 MB of 0.001 MB uploaded (0.000 MB deduped)\\r'), FloatProgress(value=1.0, max…"
      ]
     },
     "metadata": {},
     "output_type": "display_data"
    },
    {
     "data": {
      "text/html": [
       "<style>\n",
       "    table.wandb td:nth-child(1) { padding: 0 10px; text-align: left ; width: auto;} td:nth-child(2) {text-align: left ; width: 100%}\n",
       "    .wandb-row { display: flex; flex-direction: row; flex-wrap: wrap; justify-content: flex-start; width: 100% }\n",
       "    .wandb-col { display: flex; flex-direction: column; flex-basis: 100%; flex: 1; padding: 10px; }\n",
       "    </style>\n",
       "<div class=\"wandb-row\"><div class=\"wandb-col\"><h3>Run history:</h3><br/><table class=\"wandb\"><tr><td>epoch</td><td>▁▁▁▂▂▂▂▂▂▃▃▃▃▃▄▄▄▄▄▄▅▅▅▅▅▅▆▆▆▆▆▆▇▇▇▇▇███</td></tr><tr><td>lr-Adam</td><td>▁▁▁▁▁▁▁▁▁▁▁▁▁▁▁▁▁▁▁▁▁▁▁▁▁▁▁▁▁▁▁▁▁▁▁▁▁▁▁▁</td></tr><tr><td>train_acc</td><td>▁▆▆▇▇▇▇▇▇▆▇▇▇▆▅▅▆▆▇▇▇█▇▇▇▆▇▇▇▇▆▇█████▇██</td></tr><tr><td>train_auc</td><td>▁▇▆▇▇▅▅█▆▆██▇▆▆▄▇▇██████▇▇▇███▇█████████</td></tr><tr><td>train_f1</td><td>▁▇▇▇█▇▇█▇▇▇▇▇▆▆▆▆▇▇▇▇█▇▇▇▇▇▇▇▇▇▇████████</td></tr><tr><td>train_loss_epoch</td><td>█▅▃▄▂▄▃▂▄▅▃▃▃▆▆▆▄▃▂▂▂▁▂▂▆▅▆▂▃▂▃▂▂▁▁▁▁▂▁▁</td></tr><tr><td>train_loss_step</td><td>█▂▂▁▁▁▁▁▂▁▁▁▁▁▂▁▂▂▁▁▁▁▁▁▂▁▂▁▁▁▁▂▁▁▁▁▁▁▁▁</td></tr><tr><td>trainer/global_step</td><td>▁▁▁▁▂▁▁▂▁▁▃▃▂▂▄▄▂▄▄▂▅▅▂▅▆▂▂▆▂▂▂▇▂▃▇▃▃█▃▃</td></tr><tr><td>val_acc</td><td>▇██▇▇▇▇▄█▇▆▇▇▄▁▅████▇███▃▅▃▅▇▅█▇█▇█▇█▇█▇</td></tr><tr><td>val_auc</td><td>▁▄▁▄█▇▇█▇▇███▆▇▅▆▆▇▇▇███▆▇▆▇▇▇▆▇▇▇████▇█</td></tr><tr><td>val_f1</td><td>▇██▇▇▇▇▅██▇█▇▅▁▇████████▄▆▃▆█▆█▇████████</td></tr><tr><td>val_loss_epoch</td><td>▇▆▄▄▃▂▃█▂▃▄▂▂▅▇▅▃▂▁▁▂▁▂▂▇▅▇▆▃▇▂▄▁▂▁▂▁▂▂▃</td></tr><tr><td>val_loss_step</td><td>▂▂▁▁▂▂▄█▁▂▃▂▃▅▅▁▂▂▂▁▁▁▂▁▇▁▁▄▃█▁▁▁▂▂▄▁▁▂▂</td></tr></table><br/></div><div class=\"wandb-col\"><h3>Run summary:</h3><br/><table class=\"wandb\"><tr><td>epoch</td><td>64</td></tr><tr><td>lr-Adam</td><td>0.005</td></tr><tr><td>train_acc</td><td>0.98525</td></tr><tr><td>train_auc</td><td>0.99896</td></tr><tr><td>train_f1</td><td>0.98305</td></tr><tr><td>train_loss_epoch</td><td>0.04698</td></tr><tr><td>train_loss_step</td><td>0.00546</td></tr><tr><td>trainer/global_step</td><td>1559</td></tr><tr><td>val_acc</td><td>0.94086</td></tr><tr><td>val_auc</td><td>0.99707</td></tr><tr><td>val_f1</td><td>0.94416</td></tr><tr><td>val_loss_epoch</td><td>0.22942</td></tr><tr><td>val_loss_step</td><td>0.68641</td></tr></table><br/></div></div>"
      ],
      "text/plain": [
       "<IPython.core.display.HTML object>"
      ]
     },
     "metadata": {},
     "output_type": "display_data"
    },
    {
     "data": {
      "text/html": [
       " View run <strong style=\"color:#cdcd00\">MLP_3_128_onehot_3</strong> at: <a href='https://wandb.ai/thoomas/PLA_01122024_pixelgen_Kfold/runs/w60klzge' target=\"_blank\">https://wandb.ai/thoomas/PLA_01122024_pixelgen_Kfold/runs/w60klzge</a><br/>Synced 6 W&B file(s), 0 media file(s), 0 artifact file(s) and 0 other file(s)"
      ],
      "text/plain": [
       "<IPython.core.display.HTML object>"
      ]
     },
     "metadata": {},
     "output_type": "display_data"
    },
    {
     "data": {
      "text/html": [
       "Find logs at: <code>.\\wandb\\run-20240119_164825-w60klzge\\logs</code>"
      ],
      "text/plain": [
       "<IPython.core.display.HTML object>"
      ]
     },
     "metadata": {},
     "output_type": "display_data"
    },
    {
     "data": {
      "application/vnd.jupyter.widget-view+json": {
       "model_id": "e140f3ddfb744d6dbbe3191937ce88d3",
       "version_major": 2,
       "version_minor": 0
      },
      "text/plain": [
       "VBox(children=(Label(value='Waiting for wandb.init()...\\r'), FloatProgress(value=0.016666666666666666, max=1.0…"
      ]
     },
     "metadata": {},
     "output_type": "display_data"
    },
    {
     "data": {
      "text/html": [
       "wandb version 0.16.2 is available!  To upgrade, please run:\n",
       " $ pip install wandb --upgrade"
      ],
      "text/plain": [
       "<IPython.core.display.HTML object>"
      ]
     },
     "metadata": {},
     "output_type": "display_data"
    },
    {
     "data": {
      "text/html": [
       "Tracking run with wandb version 0.15.8"
      ],
      "text/plain": [
       "<IPython.core.display.HTML object>"
      ]
     },
     "metadata": {},
     "output_type": "display_data"
    },
    {
     "data": {
      "text/html": [
       "Run data is saved locally in <code>y:\\coskun-lab\\Thomas\\23_PLA_revision\\notebooks\\wandb\\run-20240119_165717-zusg2p5r</code>"
      ],
      "text/plain": [
       "<IPython.core.display.HTML object>"
      ]
     },
     "metadata": {},
     "output_type": "display_data"
    },
    {
     "data": {
      "text/html": [
       "Syncing run <strong><a href='https://wandb.ai/thoomas/PLA_01122024_pixelgen_Kfold/runs/zusg2p5r' target=\"_blank\">GraphConv_3_128_onehot_3</a></strong> to <a href='https://wandb.ai/thoomas/PLA_01122024_pixelgen_Kfold' target=\"_blank\">Weights & Biases</a> (<a href='https://wandb.me/run' target=\"_blank\">docs</a>)<br/>"
      ],
      "text/plain": [
       "<IPython.core.display.HTML object>"
      ]
     },
     "metadata": {},
     "output_type": "display_data"
    },
    {
     "data": {
      "text/html": [
       " View project at <a href='https://wandb.ai/thoomas/PLA_01122024_pixelgen_Kfold' target=\"_blank\">https://wandb.ai/thoomas/PLA_01122024_pixelgen_Kfold</a>"
      ],
      "text/plain": [
       "<IPython.core.display.HTML object>"
      ]
     },
     "metadata": {},
     "output_type": "display_data"
    },
    {
     "data": {
      "text/html": [
       " View run at <a href='https://wandb.ai/thoomas/PLA_01122024_pixelgen_Kfold/runs/zusg2p5r' target=\"_blank\">https://wandb.ai/thoomas/PLA_01122024_pixelgen_Kfold/runs/zusg2p5r</a>"
      ],
      "text/plain": [
       "<IPython.core.display.HTML object>"
      ]
     },
     "metadata": {},
     "output_type": "display_data"
    },
    {
     "name": "stderr",
     "output_type": "stream",
     "text": [
      "Global seed set to 42\n",
      "GPU available: True (cuda), used: True\n",
      "TPU available: False, using: 0 TPU cores\n",
      "IPU available: False, using: 0 IPUs\n",
      "HPU available: False, using: 0 HPUs\n",
      "Global seed set to 42\n",
      "c:\\Users\\thu71\\AppData\\Local\\anaconda3\\envs\\scanpy\\Lib\\site-packages\\lightning\\pytorch\\callbacks\\model_checkpoint.py:617: UserWarning: Checkpoint directory \\\\bme-retromaster.ad.gatech.edu\\labs5\\coskun-lab\\Thomas\\23_PLA_revision\\data\\pixelgen\\Tcell\\saved_models\\pixelgen\\Graph_GNNs_Kfold\\GraphConv_3_128_onehot_3\\attention\\GraphLevelGraphConv exists and is not empty.\n",
      "  rank_zero_warn(f\"Checkpoint directory {dirpath} exists and is not empty.\")\n",
      "LOCAL_RANK: 0 - CUDA_VISIBLE_DEVICES: [0]\n",
      "\n",
      "   | Name        | Type             | Params\n",
      "--------------------------------------------------\n",
      "0  | x_embedding | Identity         | 0     \n",
      "1  | model       | GNNModel         | 86.9 K\n",
      "2  | head        | Sequential       | 8.4 K \n",
      "3  | loss_module | CrossEntropyLoss | 0     \n",
      "4  | train_acc   | BinaryAccuracy   | 0     \n",
      "5  | train_auroc | BinaryAUROC      | 0     \n",
      "6  | train_f1    | BinaryF1Score    | 0     \n",
      "7  | valid_acc   | BinaryAccuracy   | 0     \n",
      "8  | valid_auroc | BinaryAUROC      | 0     \n",
      "9  | valid_f1    | BinaryF1Score    | 0     \n",
      "10 | pool        | GlobalAttention  | 129   \n",
      "--------------------------------------------------\n",
      "95.4 K    Trainable params\n",
      "0         Non-trainable params\n",
      "95.4 K    Total params\n",
      "0.382     Total estimated model params size (MB)\n"
     ]
    },
    {
     "name": "stdout",
     "output_type": "stream",
     "text": [
      "Using GNN\n"
     ]
    },
    {
     "name": "stderr",
     "output_type": "stream",
     "text": [
      "`Trainer.fit` stopped: `max_epochs=65` reached.\n"
     ]
    },
    {
     "data": {
      "text/html": [
       "Waiting for W&B process to finish... <strong style=\"color:green\">(success).</strong>"
      ],
      "text/plain": [
       "<IPython.core.display.HTML object>"
      ]
     },
     "metadata": {},
     "output_type": "display_data"
    },
    {
     "data": {
      "application/vnd.jupyter.widget-view+json": {
       "model_id": "12411e413fab4b3897a5c2513d42fbd1",
       "version_major": 2,
       "version_minor": 0
      },
      "text/plain": [
       "VBox(children=(Label(value='0.001 MB of 0.001 MB uploaded (0.000 MB deduped)\\r'), FloatProgress(value=1.0, max…"
      ]
     },
     "metadata": {},
     "output_type": "display_data"
    },
    {
     "data": {
      "text/html": [
       "<style>\n",
       "    table.wandb td:nth-child(1) { padding: 0 10px; text-align: left ; width: auto;} td:nth-child(2) {text-align: left ; width: 100%}\n",
       "    .wandb-row { display: flex; flex-direction: row; flex-wrap: wrap; justify-content: flex-start; width: 100% }\n",
       "    .wandb-col { display: flex; flex-direction: column; flex-basis: 100%; flex: 1; padding: 10px; }\n",
       "    </style>\n",
       "<div class=\"wandb-row\"><div class=\"wandb-col\"><h3>Run history:</h3><br/><table class=\"wandb\"><tr><td>epoch</td><td>▁▁▁▂▂▂▂▂▂▃▃▃▃▃▄▄▄▄▄▄▅▅▅▅▅▅▆▆▆▆▆▆▇▇▇▇▇███</td></tr><tr><td>lr-Adam</td><td>▁▁▁▁▁▁▁▁▁▁▁▁▁▁▁▁▁▁▁▁▁▁▁▁▁▁▁▁▁▁▁▁▁▁▁▁▁▁▁▁</td></tr><tr><td>train_acc</td><td>▁▅▆▅▇▇█▇▆▇█▇█▇█▇▇▇▅▇▇█▆▇▇▇▇█████▆▅▅▇▇▇▇▅</td></tr><tr><td>train_auc</td><td>▆▇▇▇████▇█████████▇█▇█▅▇████████▇▇▄▆▄▁▅▅</td></tr><tr><td>train_f1</td><td>▁▅▆▅▇▇█▇▆▇█▇█▇█▇▇▇▅▇▇█▆▇▇▇▇█████▆▅▅▇▇▇▇▅</td></tr><tr><td>train_loss_epoch</td><td>▅▃▃▃▂▂▂▂▃▂▂▂▁▂▁▁▁▂▃▂▂▂▃▂▂▂▂▁▁▁▁▄▇█▅▂▂▂▂▃</td></tr><tr><td>train_loss_step</td><td>▂▂▁▁▁▁▁▂▂▁▁▁▁▁▁▁▁▁▁▁▁▁▃▁▁▁▁▁▁▁▁▁█▁▁▁▁▂▂▂</td></tr><tr><td>trainer/global_step</td><td>▁▁▁▁▂▁▁▂▁▁▃▃▂▂▄▄▂▄▄▂▅▅▂▅▆▂▂▆▂▂▂▇▂▃▇▃▃█▃▃</td></tr><tr><td>val_acc</td><td>▁▄▇▇▇▇▇▅▇▇▇█▇▄███▇▆▇▇▄█▇█▇▇▇▆█▇█▆▇▇▇██▇▇</td></tr><tr><td>val_auc</td><td>█████████████████████████████████████▁██</td></tr><tr><td>val_f1</td><td>▁▄▇█▇▇▇▆▇▇▇██▄███▇▇▇▇▄█▇█▇▇▇▆█▇█▆▇█▇██▇▇</td></tr><tr><td>val_loss_epoch</td><td>█▄▂▂▂▂▂▃▃▂▂▂▃▅▃▂▁▃▃▄▃▄▂▂▁▂▃▃▃▂▅▂▅▄▂▁▁▁▂▃</td></tr><tr><td>val_loss_step</td><td>▆▅▁▁▁▁▄▄▁▂▁▁▁█▁▁▁▄▄▁▂▂▁▁▁▁▂▁▁▃▁▁▁▁▁▁▁▁▁▂</td></tr></table><br/></div><div class=\"wandb-col\"><h3>Run summary:</h3><br/><table class=\"wandb\"><tr><td>epoch</td><td>64</td></tr><tr><td>lr-Adam</td><td>0.005</td></tr><tr><td>train_acc</td><td>0.92225</td></tr><tr><td>train_auc</td><td>0.82558</td></tr><tr><td>train_f1</td><td>0.91317</td></tr><tr><td>train_loss_epoch</td><td>0.25751</td></tr><tr><td>train_loss_step</td><td>0.37232</td></tr><tr><td>trainer/global_step</td><td>1559</td></tr><tr><td>val_acc</td><td>0.95699</td></tr><tr><td>val_auc</td><td>0.99695</td></tr><tr><td>val_f1</td><td>0.9604</td></tr><tr><td>val_loss_epoch</td><td>0.14197</td></tr><tr><td>val_loss_step</td><td>0.3957</td></tr></table><br/></div></div>"
      ],
      "text/plain": [
       "<IPython.core.display.HTML object>"
      ]
     },
     "metadata": {},
     "output_type": "display_data"
    },
    {
     "data": {
      "text/html": [
       " View run <strong style=\"color:#cdcd00\">GraphConv_3_128_onehot_3</strong> at: <a href='https://wandb.ai/thoomas/PLA_01122024_pixelgen_Kfold/runs/zusg2p5r' target=\"_blank\">https://wandb.ai/thoomas/PLA_01122024_pixelgen_Kfold/runs/zusg2p5r</a><br/>Synced 6 W&B file(s), 0 media file(s), 0 artifact file(s) and 0 other file(s)"
      ],
      "text/plain": [
       "<IPython.core.display.HTML object>"
      ]
     },
     "metadata": {},
     "output_type": "display_data"
    },
    {
     "data": {
      "text/html": [
       "Find logs at: <code>.\\wandb\\run-20240119_165717-zusg2p5r\\logs</code>"
      ],
      "text/plain": [
       "<IPython.core.display.HTML object>"
      ]
     },
     "metadata": {},
     "output_type": "display_data"
    },
    {
     "data": {
      "application/vnd.jupyter.widget-view+json": {
       "model_id": "9c479e0db0274949882238d3666496cd",
       "version_major": 2,
       "version_minor": 0
      },
      "text/plain": [
       "VBox(children=(Label(value='Waiting for wandb.init()...\\r'), FloatProgress(value=0.01693333333338766, max=1.0)…"
      ]
     },
     "metadata": {},
     "output_type": "display_data"
    },
    {
     "data": {
      "text/html": [
       "wandb version 0.16.2 is available!  To upgrade, please run:\n",
       " $ pip install wandb --upgrade"
      ],
      "text/plain": [
       "<IPython.core.display.HTML object>"
      ]
     },
     "metadata": {},
     "output_type": "display_data"
    },
    {
     "data": {
      "text/html": [
       "Tracking run with wandb version 0.15.8"
      ],
      "text/plain": [
       "<IPython.core.display.HTML object>"
      ]
     },
     "metadata": {},
     "output_type": "display_data"
    },
    {
     "data": {
      "text/html": [
       "Run data is saved locally in <code>y:\\coskun-lab\\Thomas\\23_PLA_revision\\notebooks\\wandb\\run-20240119_170355-qszlqqte</code>"
      ],
      "text/plain": [
       "<IPython.core.display.HTML object>"
      ]
     },
     "metadata": {},
     "output_type": "display_data"
    },
    {
     "data": {
      "text/html": [
       "Syncing run <strong><a href='https://wandb.ai/thoomas/PLA_01122024_pixelgen_Kfold/runs/qszlqqte' target=\"_blank\">GCN_3_128_onehot_3</a></strong> to <a href='https://wandb.ai/thoomas/PLA_01122024_pixelgen_Kfold' target=\"_blank\">Weights & Biases</a> (<a href='https://wandb.me/run' target=\"_blank\">docs</a>)<br/>"
      ],
      "text/plain": [
       "<IPython.core.display.HTML object>"
      ]
     },
     "metadata": {},
     "output_type": "display_data"
    },
    {
     "data": {
      "text/html": [
       " View project at <a href='https://wandb.ai/thoomas/PLA_01122024_pixelgen_Kfold' target=\"_blank\">https://wandb.ai/thoomas/PLA_01122024_pixelgen_Kfold</a>"
      ],
      "text/plain": [
       "<IPython.core.display.HTML object>"
      ]
     },
     "metadata": {},
     "output_type": "display_data"
    },
    {
     "data": {
      "text/html": [
       " View run at <a href='https://wandb.ai/thoomas/PLA_01122024_pixelgen_Kfold/runs/qszlqqte' target=\"_blank\">https://wandb.ai/thoomas/PLA_01122024_pixelgen_Kfold/runs/qszlqqte</a>"
      ],
      "text/plain": [
       "<IPython.core.display.HTML object>"
      ]
     },
     "metadata": {},
     "output_type": "display_data"
    },
    {
     "name": "stderr",
     "output_type": "stream",
     "text": [
      "Global seed set to 42\n",
      "GPU available: True (cuda), used: True\n",
      "TPU available: False, using: 0 TPU cores\n",
      "IPU available: False, using: 0 IPUs\n",
      "HPU available: False, using: 0 HPUs\n",
      "Global seed set to 42\n",
      "c:\\Users\\thu71\\AppData\\Local\\anaconda3\\envs\\scanpy\\Lib\\site-packages\\lightning\\pytorch\\callbacks\\model_checkpoint.py:617: UserWarning: Checkpoint directory \\\\bme-retromaster.ad.gatech.edu\\labs5\\coskun-lab\\Thomas\\23_PLA_revision\\data\\pixelgen\\Tcell\\saved_models\\pixelgen\\Graph_GNNs_Kfold\\GCN_3_128_onehot_3\\attention2\\GraphLevelGCN exists and is not empty.\n",
      "  rank_zero_warn(f\"Checkpoint directory {dirpath} exists and is not empty.\")\n",
      "LOCAL_RANK: 0 - CUDA_VISIBLE_DEVICES: [0]\n",
      "\n",
      "   | Name        | Type             | Params\n",
      "--------------------------------------------------\n",
      "0  | x_embedding | Identity         | 0     \n",
      "1  | model       | GNNModel         | 43.9 K\n",
      "2  | head        | Sequential       | 8.4 K \n",
      "3  | loss_module | CrossEntropyLoss | 0     \n",
      "4  | train_acc   | BinaryAccuracy   | 0     \n",
      "5  | train_auroc | BinaryAUROC      | 0     \n",
      "6  | train_f1    | BinaryF1Score    | 0     \n",
      "7  | valid_acc   | BinaryAccuracy   | 0     \n",
      "8  | valid_auroc | BinaryAUROC      | 0     \n",
      "9  | valid_f1    | BinaryF1Score    | 0     \n",
      "10 | pool        | Attention_module | 16.6 K\n",
      "--------------------------------------------------\n",
      "68.9 K    Trainable params\n",
      "0         Non-trainable params\n",
      "68.9 K    Total params\n",
      "0.275     Total estimated model params size (MB)\n"
     ]
    },
    {
     "name": "stdout",
     "output_type": "stream",
     "text": [
      "Using GNN\n"
     ]
    },
    {
     "name": "stderr",
     "output_type": "stream",
     "text": [
      "`Trainer.fit` stopped: `max_epochs=65` reached.\n"
     ]
    },
    {
     "data": {
      "text/html": [
       "Waiting for W&B process to finish... <strong style=\"color:green\">(success).</strong>"
      ],
      "text/plain": [
       "<IPython.core.display.HTML object>"
      ]
     },
     "metadata": {},
     "output_type": "display_data"
    },
    {
     "data": {
      "application/vnd.jupyter.widget-view+json": {
       "model_id": "acfbadad507d40ce97db1b7167c28afa",
       "version_major": 2,
       "version_minor": 0
      },
      "text/plain": [
       "VBox(children=(Label(value='0.001 MB of 0.001 MB uploaded (0.000 MB deduped)\\r'), FloatProgress(value=1.0, max…"
      ]
     },
     "metadata": {},
     "output_type": "display_data"
    },
    {
     "data": {
      "text/html": [
       "<style>\n",
       "    table.wandb td:nth-child(1) { padding: 0 10px; text-align: left ; width: auto;} td:nth-child(2) {text-align: left ; width: 100%}\n",
       "    .wandb-row { display: flex; flex-direction: row; flex-wrap: wrap; justify-content: flex-start; width: 100% }\n",
       "    .wandb-col { display: flex; flex-direction: column; flex-basis: 100%; flex: 1; padding: 10px; }\n",
       "    </style>\n",
       "<div class=\"wandb-row\"><div class=\"wandb-col\"><h3>Run history:</h3><br/><table class=\"wandb\"><tr><td>epoch</td><td>▁▁▁▂▂▂▂▂▂▃▃▃▃▃▄▄▄▄▄▄▅▅▅▅▅▅▆▆▆▆▆▆▇▇▇▇▇███</td></tr><tr><td>lr-Adam</td><td>▁▁▁▁▁▁▁▁▁▁▁▁▁▁▁▁▁▁▁▁▁▁▁▁▁▁▁▁▁▁▁▁▁▁▁▁▁▁▁▁</td></tr><tr><td>train_acc</td><td>▁▅▇▇▆▇▇▆▇▇▇▇█▇███▇█▇▇████▇▆▇▇▇██▇███▇▇██</td></tr><tr><td>train_auc</td><td>▁▇▇▇▇██▇██████████████████▇▇████████████</td></tr><tr><td>train_f1</td><td>▁▅▇▇▆▇▇▆▇▇▇▇█▇███▇█▇▇████▇▆▇▇▇██▇███▇▇██</td></tr><tr><td>train_loss_epoch</td><td>█▅▃▃▃▂▂▃▂▂▂▂▁▂▁▁▁▃▁▂▂▁▂▂▁▁▄▃▂▂▁▁▂▁▁▁▂▂▁▂</td></tr><tr><td>train_loss_step</td><td>▇▂▂▁▁▂▁▁▁▂▁▁▁▁▁▁▁▁▁▂▂▁▁▁▁▁▁█▁▁▁▁▁▁▁▁▁▁█▁</td></tr><tr><td>trainer/global_step</td><td>▁▁▁▁▂▁▁▂▁▁▃▃▂▂▄▄▂▄▄▂▅▅▂▅▆▂▂▆▂▂▂▇▂▃▇▃▃█▃▃</td></tr><tr><td>val_acc</td><td>▁▇▇▆▆█▇███▇▇██▇██▆██▇▇████▇█████▇█▇▇▇█▆▇</td></tr><tr><td>val_auc</td><td>▅▆▁████▇▇████████▇██▅██████▇█▇██▇███████</td></tr><tr><td>val_f1</td><td>▁▇▇▇▆█▇███▇███▇██▆██▇▇██████████▇█▇███▇▇</td></tr><tr><td>val_loss_epoch</td><td>█▄▃▃▃▂▂▂▂▁▂▂▂▁▃▁▁▄▂▁▄▃▁▁▁▂▂▂▂▂▂▂▂▂▃▂▂▁▅▂</td></tr><tr><td>val_loss_step</td><td>█▆▂▁▂▁▃▁▁▁▁▁▂▁▁▁▁▆▂▁▁▁▁▁▁▁▁▁▃▃▁▁▁▁▅▁▁▁▃▂</td></tr></table><br/></div><div class=\"wandb-col\"><h3>Run summary:</h3><br/><table class=\"wandb\"><tr><td>epoch</td><td>64</td></tr><tr><td>lr-Adam</td><td>0.005</td></tr><tr><td>train_acc</td><td>0.99196</td></tr><tr><td>train_auc</td><td>0.99966</td></tr><tr><td>train_f1</td><td>0.9908</td></tr><tr><td>train_loss_epoch</td><td>0.02506</td></tr><tr><td>train_loss_step</td><td>0.00052</td></tr><tr><td>trainer/global_step</td><td>1559</td></tr><tr><td>val_acc</td><td>0.96237</td></tr><tr><td>val_auc</td><td>0.99894</td></tr><tr><td>val_f1</td><td>0.96517</td></tr><tr><td>val_loss_epoch</td><td>0.11029</td></tr><tr><td>val_loss_step</td><td>0.17844</td></tr></table><br/></div></div>"
      ],
      "text/plain": [
       "<IPython.core.display.HTML object>"
      ]
     },
     "metadata": {},
     "output_type": "display_data"
    },
    {
     "data": {
      "text/html": [
       " View run <strong style=\"color:#cdcd00\">GCN_3_128_onehot_3</strong> at: <a href='https://wandb.ai/thoomas/PLA_01122024_pixelgen_Kfold/runs/qszlqqte' target=\"_blank\">https://wandb.ai/thoomas/PLA_01122024_pixelgen_Kfold/runs/qszlqqte</a><br/>Synced 6 W&B file(s), 0 media file(s), 0 artifact file(s) and 0 other file(s)"
      ],
      "text/plain": [
       "<IPython.core.display.HTML object>"
      ]
     },
     "metadata": {},
     "output_type": "display_data"
    },
    {
     "data": {
      "text/html": [
       "Find logs at: <code>.\\wandb\\run-20240119_170355-qszlqqte\\logs</code>"
      ],
      "text/plain": [
       "<IPython.core.display.HTML object>"
      ]
     },
     "metadata": {},
     "output_type": "display_data"
    },
    {
     "data": {
      "application/vnd.jupyter.widget-view+json": {
       "model_id": "75f8fa172f654f1daff676f89f2900e7",
       "version_major": 2,
       "version_minor": 0
      },
      "text/plain": [
       "VBox(children=(Label(value='Waiting for wandb.init()...\\r'), FloatProgress(value=0.016916666666899498, max=1.0…"
      ]
     },
     "metadata": {},
     "output_type": "display_data"
    },
    {
     "data": {
      "text/html": [
       "wandb version 0.16.2 is available!  To upgrade, please run:\n",
       " $ pip install wandb --upgrade"
      ],
      "text/plain": [
       "<IPython.core.display.HTML object>"
      ]
     },
     "metadata": {},
     "output_type": "display_data"
    },
    {
     "data": {
      "text/html": [
       "Tracking run with wandb version 0.15.8"
      ],
      "text/plain": [
       "<IPython.core.display.HTML object>"
      ]
     },
     "metadata": {},
     "output_type": "display_data"
    },
    {
     "data": {
      "text/html": [
       "Run data is saved locally in <code>y:\\coskun-lab\\Thomas\\23_PLA_revision\\notebooks\\wandb\\run-20240119_171118-uwg6oaxx</code>"
      ],
      "text/plain": [
       "<IPython.core.display.HTML object>"
      ]
     },
     "metadata": {},
     "output_type": "display_data"
    },
    {
     "data": {
      "text/html": [
       "Syncing run <strong><a href='https://wandb.ai/thoomas/PLA_01122024_pixelgen_Kfold/runs/uwg6oaxx' target=\"_blank\">GAT_norm_3_128_onehot_3</a></strong> to <a href='https://wandb.ai/thoomas/PLA_01122024_pixelgen_Kfold' target=\"_blank\">Weights & Biases</a> (<a href='https://wandb.me/run' target=\"_blank\">docs</a>)<br/>"
      ],
      "text/plain": [
       "<IPython.core.display.HTML object>"
      ]
     },
     "metadata": {},
     "output_type": "display_data"
    },
    {
     "data": {
      "text/html": [
       " View project at <a href='https://wandb.ai/thoomas/PLA_01122024_pixelgen_Kfold' target=\"_blank\">https://wandb.ai/thoomas/PLA_01122024_pixelgen_Kfold</a>"
      ],
      "text/plain": [
       "<IPython.core.display.HTML object>"
      ]
     },
     "metadata": {},
     "output_type": "display_data"
    },
    {
     "data": {
      "text/html": [
       " View run at <a href='https://wandb.ai/thoomas/PLA_01122024_pixelgen_Kfold/runs/uwg6oaxx' target=\"_blank\">https://wandb.ai/thoomas/PLA_01122024_pixelgen_Kfold/runs/uwg6oaxx</a>"
      ],
      "text/plain": [
       "<IPython.core.display.HTML object>"
      ]
     },
     "metadata": {},
     "output_type": "display_data"
    },
    {
     "name": "stderr",
     "output_type": "stream",
     "text": [
      "Global seed set to 42\n",
      "GPU available: True (cuda), used: True\n",
      "TPU available: False, using: 0 TPU cores\n",
      "IPU available: False, using: 0 IPUs\n",
      "HPU available: False, using: 0 HPUs\n",
      "Global seed set to 42\n",
      "c:\\Users\\thu71\\AppData\\Local\\anaconda3\\envs\\scanpy\\Lib\\site-packages\\lightning\\pytorch\\callbacks\\model_checkpoint.py:617: UserWarning: Checkpoint directory \\\\bme-retromaster.ad.gatech.edu\\labs5\\coskun-lab\\Thomas\\23_PLA_revision\\data\\pixelgen\\Tcell\\saved_models\\pixelgen\\Graph_GNNs_Kfold\\GAT_norm_3_128_onehot_3\\attention\\GraphLevelGAT_norm exists and is not empty.\n",
      "  rank_zero_warn(f\"Checkpoint directory {dirpath} exists and is not empty.\")\n",
      "LOCAL_RANK: 0 - CUDA_VISIBLE_DEVICES: [0]\n",
      "\n",
      "   | Name        | Type             | Params\n",
      "--------------------------------------------------\n",
      "0  | x_embedding | Identity         | 0     \n",
      "1  | model       | GAT              | 121 K \n",
      "2  | head        | Sequential       | 8.4 K \n",
      "3  | loss_module | CrossEntropyLoss | 0     \n",
      "4  | train_acc   | BinaryAccuracy   | 0     \n",
      "5  | train_auroc | BinaryAUROC      | 0     \n",
      "6  | train_f1    | BinaryF1Score    | 0     \n",
      "7  | valid_acc   | BinaryAccuracy   | 0     \n",
      "8  | valid_auroc | BinaryAUROC      | 0     \n",
      "9  | valid_f1    | BinaryF1Score    | 0     \n",
      "10 | pool        | GlobalAttention  | 129   \n",
      "--------------------------------------------------\n",
      "130 K     Trainable params\n",
      "0         Non-trainable params\n",
      "130 K     Total params\n",
      "0.521     Total estimated model params size (MB)\n"
     ]
    },
    {
     "name": "stdout",
     "output_type": "stream",
     "text": [
      "Using GAT\n"
     ]
    },
    {
     "name": "stderr",
     "output_type": "stream",
     "text": [
      "`Trainer.fit` stopped: `max_epochs=65` reached.\n"
     ]
    },
    {
     "data": {
      "text/html": [
       "Waiting for W&B process to finish... <strong style=\"color:green\">(success).</strong>"
      ],
      "text/plain": [
       "<IPython.core.display.HTML object>"
      ]
     },
     "metadata": {},
     "output_type": "display_data"
    },
    {
     "data": {
      "application/vnd.jupyter.widget-view+json": {
       "model_id": "175cc5f7c5f44718b61a46e432a3a04e",
       "version_major": 2,
       "version_minor": 0
      },
      "text/plain": [
       "VBox(children=(Label(value='0.001 MB of 0.001 MB uploaded (0.000 MB deduped)\\r'), FloatProgress(value=1.0, max…"
      ]
     },
     "metadata": {},
     "output_type": "display_data"
    },
    {
     "data": {
      "text/html": [
       "<style>\n",
       "    table.wandb td:nth-child(1) { padding: 0 10px; text-align: left ; width: auto;} td:nth-child(2) {text-align: left ; width: 100%}\n",
       "    .wandb-row { display: flex; flex-direction: row; flex-wrap: wrap; justify-content: flex-start; width: 100% }\n",
       "    .wandb-col { display: flex; flex-direction: column; flex-basis: 100%; flex: 1; padding: 10px; }\n",
       "    </style>\n",
       "<div class=\"wandb-row\"><div class=\"wandb-col\"><h3>Run history:</h3><br/><table class=\"wandb\"><tr><td>epoch</td><td>▁▁▁▂▂▂▂▂▂▃▃▃▃▃▄▄▄▄▄▄▅▅▅▅▅▅▆▆▆▆▆▆▇▇▇▇▇███</td></tr><tr><td>lr-Adam</td><td>▁▁▁▁▁▁▁▁▁▁▁▁▁▁▁▁▁▁▁▁▁▁▁▁▁▁▁▁▁▁▁▁▁▁▁▁▁▁▁▁</td></tr><tr><td>train_acc</td><td>▁▄▆▆▇▇▇▇▇▇█▆▆▇▇█▇██▇█▇███▇▇▇▇▇▇██████▇██</td></tr><tr><td>train_auc</td><td>▁▅▆▇▇██████▆▇▇███████████▇██████████████</td></tr><tr><td>train_f1</td><td>▁▃▆▆▇▇▇▇▇▇█▆▆▇▇█▇██▇█▇███▇▇▇▇▇▇██████▇██</td></tr><tr><td>train_loss_epoch</td><td>█▆▅▃▃▂▂▂▂▂▁▆▃▃▂▁▂▁▁▁▁▂▁▁▂▃▂▂▂▁▂▁▁▁▁▁▁▂▂▁</td></tr><tr><td>train_loss_step</td><td>▃▂▂▂▁▂▁▂▂▃▁▁▁▁▂▁▁▁▁▁▁▁▁▁█▁▁▁▁▁▁▁▁▁▁▁▂▁▁▁</td></tr><tr><td>trainer/global_step</td><td>▁▁▁▁▂▁▁▂▁▁▃▃▂▂▄▄▂▄▄▂▅▅▂▅▆▂▂▆▂▂▂▇▂▃▇▃▃█▃▃</td></tr><tr><td>val_acc</td><td>▆▇▁▂█▆▅▅▆▆▄▅▂▆▆▄▅▆▂▄▅▇▂▄▄▇▆▄▆▄▅▆▅▇▆▆▆▃▄▄</td></tr><tr><td>val_auc</td><td>▂▁▄▄▄▆▆▇▇▇▇▅▇▇▇▇▇██▇█████▇█▇████████▇▇██</td></tr><tr><td>val_f1</td><td>▇█▁▂█▇▆▆▇▇▄▅▂▇▇▅▆▆▂▄▆▇▃▅▅█▇▅▇▄▆▇▆▇▇▇▇▄▅▄</td></tr><tr><td>val_loss_epoch</td><td>▃▁▆▆▁▂▃▄▃▂▅▃▇▃▃▆▅▃█▆▃▂▇▆▅▁▃▆▂▆▄▂▄▂▃▃▃▅▅▅</td></tr><tr><td>val_loss_step</td><td>▂▂▁▁▁▂▅▅▁▁▄▃▇▄▁▄▃▄█▁▁▂▅▆▅▁▁▄▃▆▁▁▃▂▄▅▁▁▄▄</td></tr></table><br/></div><div class=\"wandb-col\"><h3>Run summary:</h3><br/><table class=\"wandb\"><tr><td>epoch</td><td>64</td></tr><tr><td>lr-Adam</td><td>0.005</td></tr><tr><td>train_acc</td><td>0.9866</td></tr><tr><td>train_auc</td><td>0.99917</td></tr><tr><td>train_f1</td><td>0.98462</td></tr><tr><td>train_loss_epoch</td><td>0.0373</td></tr><tr><td>train_loss_step</td><td>0.08306</td></tr><tr><td>trainer/global_step</td><td>1559</td></tr><tr><td>val_acc</td><td>0.73656</td></tr><tr><td>val_auc</td><td>0.99953</td></tr><tr><td>val_f1</td><td>0.69182</td></tr><tr><td>val_loss_epoch</td><td>0.775</td></tr><tr><td>val_loss_step</td><td>1.68027</td></tr></table><br/></div></div>"
      ],
      "text/plain": [
       "<IPython.core.display.HTML object>"
      ]
     },
     "metadata": {},
     "output_type": "display_data"
    },
    {
     "data": {
      "text/html": [
       " View run <strong style=\"color:#cdcd00\">GAT_norm_3_128_onehot_3</strong> at: <a href='https://wandb.ai/thoomas/PLA_01122024_pixelgen_Kfold/runs/uwg6oaxx' target=\"_blank\">https://wandb.ai/thoomas/PLA_01122024_pixelgen_Kfold/runs/uwg6oaxx</a><br/>Synced 6 W&B file(s), 0 media file(s), 0 artifact file(s) and 0 other file(s)"
      ],
      "text/plain": [
       "<IPython.core.display.HTML object>"
      ]
     },
     "metadata": {},
     "output_type": "display_data"
    },
    {
     "data": {
      "text/html": [
       "Find logs at: <code>.\\wandb\\run-20240119_171118-uwg6oaxx\\logs</code>"
      ],
      "text/plain": [
       "<IPython.core.display.HTML object>"
      ]
     },
     "metadata": {},
     "output_type": "display_data"
    },
    {
     "data": {
      "application/vnd.jupyter.widget-view+json": {
       "model_id": "7ad6b35c52c549f8a5d791c44266e408",
       "version_major": 2,
       "version_minor": 0
      },
      "text/plain": [
       "VBox(children=(Label(value='Waiting for wandb.init()...\\r'), FloatProgress(value=0.016666666666666666, max=1.0…"
      ]
     },
     "metadata": {},
     "output_type": "display_data"
    },
    {
     "data": {
      "text/html": [
       "wandb version 0.16.2 is available!  To upgrade, please run:\n",
       " $ pip install wandb --upgrade"
      ],
      "text/plain": [
       "<IPython.core.display.HTML object>"
      ]
     },
     "metadata": {},
     "output_type": "display_data"
    },
    {
     "data": {
      "text/html": [
       "Tracking run with wandb version 0.15.8"
      ],
      "text/plain": [
       "<IPython.core.display.HTML object>"
      ]
     },
     "metadata": {},
     "output_type": "display_data"
    },
    {
     "data": {
      "text/html": [
       "Run data is saved locally in <code>y:\\coskun-lab\\Thomas\\23_PLA_revision\\notebooks\\wandb\\run-20240119_172043-tn60nzqp</code>"
      ],
      "text/plain": [
       "<IPython.core.display.HTML object>"
      ]
     },
     "metadata": {},
     "output_type": "display_data"
    },
    {
     "data": {
      "text/html": [
       "Syncing run <strong><a href='https://wandb.ai/thoomas/PLA_01122024_pixelgen_Kfold/runs/tn60nzqp' target=\"_blank\">GINConv_norm_3_128_onehot_3</a></strong> to <a href='https://wandb.ai/thoomas/PLA_01122024_pixelgen_Kfold' target=\"_blank\">Weights & Biases</a> (<a href='https://wandb.me/run' target=\"_blank\">docs</a>)<br/>"
      ],
      "text/plain": [
       "<IPython.core.display.HTML object>"
      ]
     },
     "metadata": {},
     "output_type": "display_data"
    },
    {
     "data": {
      "text/html": [
       " View project at <a href='https://wandb.ai/thoomas/PLA_01122024_pixelgen_Kfold' target=\"_blank\">https://wandb.ai/thoomas/PLA_01122024_pixelgen_Kfold</a>"
      ],
      "text/plain": [
       "<IPython.core.display.HTML object>"
      ]
     },
     "metadata": {},
     "output_type": "display_data"
    },
    {
     "data": {
      "text/html": [
       " View run at <a href='https://wandb.ai/thoomas/PLA_01122024_pixelgen_Kfold/runs/tn60nzqp' target=\"_blank\">https://wandb.ai/thoomas/PLA_01122024_pixelgen_Kfold/runs/tn60nzqp</a>"
      ],
      "text/plain": [
       "<IPython.core.display.HTML object>"
      ]
     },
     "metadata": {},
     "output_type": "display_data"
    },
    {
     "name": "stderr",
     "output_type": "stream",
     "text": [
      "Global seed set to 42\n",
      "GPU available: True (cuda), used: True\n",
      "TPU available: False, using: 0 TPU cores\n",
      "IPU available: False, using: 0 IPUs\n",
      "HPU available: False, using: 0 HPUs\n",
      "Global seed set to 42\n",
      "c:\\Users\\thu71\\AppData\\Local\\anaconda3\\envs\\scanpy\\Lib\\site-packages\\lightning\\pytorch\\callbacks\\model_checkpoint.py:617: UserWarning: Checkpoint directory \\\\bme-retromaster.ad.gatech.edu\\labs5\\coskun-lab\\Thomas\\23_PLA_revision\\data\\pixelgen\\Tcell\\saved_models\\pixelgen\\Graph_GNNs_Kfold\\GINConv_norm_3_128_onehot_3\\mean\\GraphLevelGINConv_norm exists and is not empty.\n",
      "  rank_zero_warn(f\"Checkpoint directory {dirpath} exists and is not empty.\")\n",
      "LOCAL_RANK: 0 - CUDA_VISIBLE_DEVICES: [0]\n",
      "\n",
      "  | Name        | Type             | Params\n",
      "-------------------------------------------------\n",
      "0 | x_embedding | Identity         | 0     \n",
      "1 | model       | GIN              | 94.2 K\n",
      "2 | head        | Sequential       | 8.4 K \n",
      "3 | loss_module | CrossEntropyLoss | 0     \n",
      "4 | train_acc   | BinaryAccuracy   | 0     \n",
      "5 | train_auroc | BinaryAUROC      | 0     \n",
      "6 | train_f1    | BinaryF1Score    | 0     \n",
      "7 | valid_acc   | BinaryAccuracy   | 0     \n",
      "8 | valid_auroc | BinaryAUROC      | 0     \n",
      "9 | valid_f1    | BinaryF1Score    | 0     \n",
      "-------------------------------------------------\n",
      "102 K     Trainable params\n",
      "0         Non-trainable params\n",
      "102 K     Total params\n",
      "0.410     Total estimated model params size (MB)\n"
     ]
    },
    {
     "name": "stdout",
     "output_type": "stream",
     "text": [
      "GINConv\n"
     ]
    },
    {
     "name": "stderr",
     "output_type": "stream",
     "text": [
      "`Trainer.fit` stopped: `max_epochs=65` reached.\n"
     ]
    },
    {
     "data": {
      "text/html": [
       "Waiting for W&B process to finish... <strong style=\"color:green\">(success).</strong>"
      ],
      "text/plain": [
       "<IPython.core.display.HTML object>"
      ]
     },
     "metadata": {},
     "output_type": "display_data"
    },
    {
     "data": {
      "text/html": [
       "<style>\n",
       "    table.wandb td:nth-child(1) { padding: 0 10px; text-align: left ; width: auto;} td:nth-child(2) {text-align: left ; width: 100%}\n",
       "    .wandb-row { display: flex; flex-direction: row; flex-wrap: wrap; justify-content: flex-start; width: 100% }\n",
       "    .wandb-col { display: flex; flex-direction: column; flex-basis: 100%; flex: 1; padding: 10px; }\n",
       "    </style>\n",
       "<div class=\"wandb-row\"><div class=\"wandb-col\"><h3>Run history:</h3><br/><table class=\"wandb\"><tr><td>epoch</td><td>▁▁▁▂▂▂▂▂▂▃▃▃▃▃▄▄▄▄▄▄▅▅▅▅▅▅▆▆▆▆▆▆▇▇▇▇▇███</td></tr><tr><td>lr-Adam</td><td>▁▁▁▁▁▁▁▁▁▁▁▁▁▁▁▁▁▁▁▁▁▁▁▁▁▁▁▁▁▁▁▁▁▁▁▁▁▁▁▁</td></tr><tr><td>train_acc</td><td>▁▅▆▇▇▆▇▅▇▇█▇▆█▇▇▅▇▇▇▇▇▇█▆██▇█▆▇█▇███▇██▇</td></tr><tr><td>train_auc</td><td>▁▇▇██▇█▇████████▇███████████████████████</td></tr><tr><td>train_f1</td><td>▁▅▆▇▇▆▇▆▇▇█▇▆█▇▇▅▇▇▇▇▇▇█▆██▇█▆▇█▇███▇██▇</td></tr><tr><td>train_loss_epoch</td><td>█▄▄▂▂▃▂▃▂▂▁▂▂▁▂▁▄▂▂▂▂▂▂▂▃▁▁▁▁▂▁▁▁▁▁▂▂▁▁▂</td></tr><tr><td>train_loss_step</td><td>▃▃▂▁▂█▁▄▂▂▁▇▄▁▅▃▃▁▂▂▁▁▂▁▂▁▁▁▁▂▁▁▁▁▁▁▁▁▂▁</td></tr><tr><td>trainer/global_step</td><td>▁▁▁▁▂▁▁▂▁▁▃▃▂▂▄▄▂▄▄▂▅▅▂▅▆▂▂▆▂▂▂▇▂▃▇▃▃█▃▃</td></tr><tr><td>val_acc</td><td>▅▅▇▇▆▆▇▇▇▇▇▅▇▇▁▇▇▆▇▇▇▇▇▇▇▇█▇▇█▇▇██▇▇▇▇▇█</td></tr><tr><td>val_auc</td><td>▂▁▇▆▆▅▇▆▇▇▇▇██▄█▅▇█▇█▇▆▇▇██▇█▇██▇███▇██▇</td></tr><tr><td>val_f1</td><td>▆▅▇▇▆▆█▇▇▇█▅██▁▇▇▆▇██▇▇▇▇▇██▇█▇▇██▇▇▇▇▇█</td></tr><tr><td>val_loss_epoch</td><td>▄▄▂▂▂▂▁▂▁▁▁▃▁▁█▁▂▂▂▁▁▂▂▂▂▂▁▁▁▁▁▁▂▁▁▃▁▂▂▁</td></tr><tr><td>val_loss_step</td><td>▁█▁▁▂▃▂▃▁▁▁▂▂▁▁▁▁▅▄▁▁▁▁▃▃▁▁▁▂▁▁▁▁▁▂█▁▁▁▁</td></tr></table><br/></div><div class=\"wandb-col\"><h3>Run summary:</h3><br/><table class=\"wandb\"><tr><td>epoch</td><td>64</td></tr><tr><td>lr-Adam</td><td>0.005</td></tr><tr><td>train_acc</td><td>0.98391</td></tr><tr><td>train_auc</td><td>0.9976</td></tr><tr><td>train_f1</td><td>0.98154</td></tr><tr><td>train_loss_epoch</td><td>0.05275</td></tr><tr><td>train_loss_step</td><td>0.00255</td></tr><tr><td>trainer/global_step</td><td>1559</td></tr><tr><td>val_acc</td><td>0.99462</td></tr><tr><td>val_auc</td><td>0.99953</td></tr><tr><td>val_f1</td><td>0.99522</td></tr><tr><td>val_loss_epoch</td><td>0.0262</td></tr><tr><td>val_loss_step</td><td>0.07349</td></tr></table><br/></div></div>"
      ],
      "text/plain": [
       "<IPython.core.display.HTML object>"
      ]
     },
     "metadata": {},
     "output_type": "display_data"
    },
    {
     "data": {
      "text/html": [
       " View run <strong style=\"color:#cdcd00\">GINConv_norm_3_128_onehot_3</strong> at: <a href='https://wandb.ai/thoomas/PLA_01122024_pixelgen_Kfold/runs/tn60nzqp' target=\"_blank\">https://wandb.ai/thoomas/PLA_01122024_pixelgen_Kfold/runs/tn60nzqp</a><br/>Synced 6 W&B file(s), 0 media file(s), 0 artifact file(s) and 0 other file(s)"
      ],
      "text/plain": [
       "<IPython.core.display.HTML object>"
      ]
     },
     "metadata": {},
     "output_type": "display_data"
    },
    {
     "data": {
      "text/html": [
       "Find logs at: <code>.\\wandb\\run-20240119_172043-tn60nzqp\\logs</code>"
      ],
      "text/plain": [
       "<IPython.core.display.HTML object>"
      ]
     },
     "metadata": {},
     "output_type": "display_data"
    },
    {
     "data": {
      "application/vnd.jupyter.widget-view+json": {
       "model_id": "0f718675399141cdbc241efc7a443779",
       "version_major": 2,
       "version_minor": 0
      },
      "text/plain": [
       "VBox(children=(Label(value='Waiting for wandb.init()...\\r'), FloatProgress(value=0.01693333333338766, max=1.0)…"
      ]
     },
     "metadata": {},
     "output_type": "display_data"
    },
    {
     "data": {
      "text/html": [
       "wandb version 0.16.2 is available!  To upgrade, please run:\n",
       " $ pip install wandb --upgrade"
      ],
      "text/plain": [
       "<IPython.core.display.HTML object>"
      ]
     },
     "metadata": {},
     "output_type": "display_data"
    },
    {
     "data": {
      "text/html": [
       "Tracking run with wandb version 0.15.8"
      ],
      "text/plain": [
       "<IPython.core.display.HTML object>"
      ]
     },
     "metadata": {},
     "output_type": "display_data"
    },
    {
     "data": {
      "text/html": [
       "Run data is saved locally in <code>y:\\coskun-lab\\Thomas\\23_PLA_revision\\notebooks\\wandb\\run-20240119_172813-jhat1l0c</code>"
      ],
      "text/plain": [
       "<IPython.core.display.HTML object>"
      ]
     },
     "metadata": {},
     "output_type": "display_data"
    },
    {
     "data": {
      "text/html": [
       "Syncing run <strong><a href='https://wandb.ai/thoomas/PLA_01122024_pixelgen_Kfold/runs/jhat1l0c' target=\"_blank\">MLP_3_128_onehot_4</a></strong> to <a href='https://wandb.ai/thoomas/PLA_01122024_pixelgen_Kfold' target=\"_blank\">Weights & Biases</a> (<a href='https://wandb.me/run' target=\"_blank\">docs</a>)<br/>"
      ],
      "text/plain": [
       "<IPython.core.display.HTML object>"
      ]
     },
     "metadata": {},
     "output_type": "display_data"
    },
    {
     "data": {
      "text/html": [
       " View project at <a href='https://wandb.ai/thoomas/PLA_01122024_pixelgen_Kfold' target=\"_blank\">https://wandb.ai/thoomas/PLA_01122024_pixelgen_Kfold</a>"
      ],
      "text/plain": [
       "<IPython.core.display.HTML object>"
      ]
     },
     "metadata": {},
     "output_type": "display_data"
    },
    {
     "data": {
      "text/html": [
       " View run at <a href='https://wandb.ai/thoomas/PLA_01122024_pixelgen_Kfold/runs/jhat1l0c' target=\"_blank\">https://wandb.ai/thoomas/PLA_01122024_pixelgen_Kfold/runs/jhat1l0c</a>"
      ],
      "text/plain": [
       "<IPython.core.display.HTML object>"
      ]
     },
     "metadata": {},
     "output_type": "display_data"
    },
    {
     "name": "stderr",
     "output_type": "stream",
     "text": [
      "Global seed set to 42\n",
      "GPU available: True (cuda), used: True\n",
      "TPU available: False, using: 0 TPU cores\n",
      "IPU available: False, using: 0 IPUs\n",
      "HPU available: False, using: 0 HPUs\n",
      "Global seed set to 42\n",
      "c:\\Users\\thu71\\AppData\\Local\\anaconda3\\envs\\scanpy\\Lib\\site-packages\\lightning\\pytorch\\callbacks\\model_checkpoint.py:617: UserWarning: Checkpoint directory \\\\bme-retromaster.ad.gatech.edu\\labs5\\coskun-lab\\Thomas\\23_PLA_revision\\data\\pixelgen\\Tcell\\saved_models\\pixelgen\\Graph_GNNs_Kfold\\MLP_3_128_onehot_4\\attention\\GraphLevelMLP exists and is not empty.\n",
      "  rank_zero_warn(f\"Checkpoint directory {dirpath} exists and is not empty.\")\n",
      "LOCAL_RANK: 0 - CUDA_VISIBLE_DEVICES: [0]\n",
      "\n",
      "   | Name        | Type             | Params\n",
      "--------------------------------------------------\n",
      "0  | x_embedding | Identity         | 0     \n",
      "1  | model       | MLPModel         | 43.4 K\n",
      "2  | head        | Sequential       | 8.4 K \n",
      "3  | loss_module | CrossEntropyLoss | 0     \n",
      "4  | train_acc   | BinaryAccuracy   | 0     \n",
      "5  | train_auroc | BinaryAUROC      | 0     \n",
      "6  | train_f1    | BinaryF1Score    | 0     \n",
      "7  | valid_acc   | BinaryAccuracy   | 0     \n",
      "8  | valid_auroc | BinaryAUROC      | 0     \n",
      "9  | valid_f1    | BinaryF1Score    | 0     \n",
      "10 | pool        | GlobalAttention  | 129   \n",
      "--------------------------------------------------\n",
      "51.9 K    Trainable params\n",
      "0         Non-trainable params\n",
      "51.9 K    Total params\n",
      "0.208     Total estimated model params size (MB)\n"
     ]
    },
    {
     "name": "stdout",
     "output_type": "stream",
     "text": [
      "Using MLP\n"
     ]
    },
    {
     "name": "stderr",
     "output_type": "stream",
     "text": [
      "`Trainer.fit` stopped: `max_epochs=65` reached.\n"
     ]
    },
    {
     "data": {
      "text/html": [
       "Waiting for W&B process to finish... <strong style=\"color:green\">(success).</strong>"
      ],
      "text/plain": [
       "<IPython.core.display.HTML object>"
      ]
     },
     "metadata": {},
     "output_type": "display_data"
    },
    {
     "data": {
      "text/html": [
       "<style>\n",
       "    table.wandb td:nth-child(1) { padding: 0 10px; text-align: left ; width: auto;} td:nth-child(2) {text-align: left ; width: 100%}\n",
       "    .wandb-row { display: flex; flex-direction: row; flex-wrap: wrap; justify-content: flex-start; width: 100% }\n",
       "    .wandb-col { display: flex; flex-direction: column; flex-basis: 100%; flex: 1; padding: 10px; }\n",
       "    </style>\n",
       "<div class=\"wandb-row\"><div class=\"wandb-col\"><h3>Run history:</h3><br/><table class=\"wandb\"><tr><td>epoch</td><td>▁▁▁▂▂▂▂▂▂▃▃▃▃▃▄▄▄▄▄▄▅▅▅▅▅▅▆▆▆▆▆▆▇▇▇▇▇███</td></tr><tr><td>lr-Adam</td><td>▁▁▁▁▁▁▁▁▁▁▁▁▁▁▁▁▁▁▁▁▁▁▁▁▁▁▁▁▁▁▁▁▁▁▁▁▁▁▁▁</td></tr><tr><td>train_acc</td><td>▁▅▆▇▆▇█▇▆█▇██▇██▇█▇▆▇████▇▇▆▇█▆▆▇▅▃▃▆▆▆▆</td></tr><tr><td>train_auc</td><td>▁▆▇▇▅▆▇█▆▇███▇▇███▇▇██████▇▇██▇▇▇▅▂▃▆▆▆▆</td></tr><tr><td>train_f1</td><td>▁▅▆▇▆▇█▇▆█▇██▇██▇█▇▆▇████▇▇▆▇█▆▆▇▅▃▄▇▆▆▇</td></tr><tr><td>train_loss_epoch</td><td>▂▂▁▁▂▂▁▁▁▁▁▁▁▁▂▂▁▁▁▂▁▁▁▁▁▁▂▁▁▁▂▁▂▇█▂▂▂▂▁</td></tr><tr><td>train_loss_step</td><td>▂▂▁▁▂▂▁▃▂▂▂▂▂▂▁█▁▁▁▂▁▁▁▁▁▂▁▂▃▁▂▂▃▅▃▂▁▃▃▁</td></tr><tr><td>trainer/global_step</td><td>▁▁▁▁▂▁▁▂▁▁▃▃▂▂▄▄▂▄▄▂▅▅▂▅▆▂▂▆▂▂▂▇▂▃▇▃▃█▃▃</td></tr><tr><td>val_acc</td><td>▃█▆▆▇▇█▆█▇█▇██▃███▇▇█▇███▇▇▇▇█▁▇▇▇▆▁▁▆▂▄</td></tr><tr><td>val_auc</td><td>▃▄▇▅▆▄▆▆▇▇▇▆▆▅▅▇▆▇▆▆▇▇▇██▇▅▇▇▇█▇█▂▂▁▃▆▂▅</td></tr><tr><td>val_f1</td><td>▃█▅▆▇▆▇▅█▆▇▆██▃█▇█▇▇█▆███▆▆▆▆█▁▇▇▅▅▁▁▅▁▃</td></tr><tr><td>val_loss_epoch</td><td>▄▂▂▃▃▃▂▃▂▃▂▂▃▃▅▁▂▁▂▄▂▃▁▁▁▃▄▂▃▁▇▂▃▅▅██▃█▅</td></tr><tr><td>val_loss_step</td><td>▂▃▁▃▁▂▂▁▄▃▂▂▁▂▁▂▂▁▁▄▂▁▁▂▂▃▂▂▁▁▇▃▂▂▃▁█▃▂▁</td></tr></table><br/></div><div class=\"wandb-col\"><h3>Run summary:</h3><br/><table class=\"wandb\"><tr><td>epoch</td><td>64</td></tr><tr><td>lr-Adam</td><td>0.005</td></tr><tr><td>train_acc</td><td>0.90349</td></tr><tr><td>train_auc</td><td>0.93226</td></tr><tr><td>train_f1</td><td>0.90083</td></tr><tr><td>train_loss_epoch</td><td>0.26028</td></tr><tr><td>train_loss_step</td><td>0.08877</td></tr><tr><td>trainer/global_step</td><td>1559</td></tr><tr><td>val_acc</td><td>0.69355</td></tr><tr><td>val_auc</td><td>0.97938</td></tr><tr><td>val_f1</td><td>0.74667</td></tr><tr><td>val_loss_epoch</td><td>0.58482</td></tr><tr><td>val_loss_step</td><td>0.05772</td></tr></table><br/></div></div>"
      ],
      "text/plain": [
       "<IPython.core.display.HTML object>"
      ]
     },
     "metadata": {},
     "output_type": "display_data"
    },
    {
     "data": {
      "text/html": [
       " View run <strong style=\"color:#cdcd00\">MLP_3_128_onehot_4</strong> at: <a href='https://wandb.ai/thoomas/PLA_01122024_pixelgen_Kfold/runs/jhat1l0c' target=\"_blank\">https://wandb.ai/thoomas/PLA_01122024_pixelgen_Kfold/runs/jhat1l0c</a><br/>Synced 6 W&B file(s), 0 media file(s), 0 artifact file(s) and 0 other file(s)"
      ],
      "text/plain": [
       "<IPython.core.display.HTML object>"
      ]
     },
     "metadata": {},
     "output_type": "display_data"
    },
    {
     "data": {
      "text/html": [
       "Find logs at: <code>.\\wandb\\run-20240119_172813-jhat1l0c\\logs</code>"
      ],
      "text/plain": [
       "<IPython.core.display.HTML object>"
      ]
     },
     "metadata": {},
     "output_type": "display_data"
    },
    {
     "data": {
      "application/vnd.jupyter.widget-view+json": {
       "model_id": "7ce2197a5be240049e0040cb07b6a829",
       "version_major": 2,
       "version_minor": 0
      },
      "text/plain": [
       "VBox(children=(Label(value='Waiting for wandb.init()...\\r'), FloatProgress(value=0.016666666666666666, max=1.0…"
      ]
     },
     "metadata": {},
     "output_type": "display_data"
    },
    {
     "data": {
      "text/html": [
       "wandb version 0.16.2 is available!  To upgrade, please run:\n",
       " $ pip install wandb --upgrade"
      ],
      "text/plain": [
       "<IPython.core.display.HTML object>"
      ]
     },
     "metadata": {},
     "output_type": "display_data"
    },
    {
     "data": {
      "text/html": [
       "Tracking run with wandb version 0.15.8"
      ],
      "text/plain": [
       "<IPython.core.display.HTML object>"
      ]
     },
     "metadata": {},
     "output_type": "display_data"
    },
    {
     "data": {
      "text/html": [
       "Run data is saved locally in <code>y:\\coskun-lab\\Thomas\\23_PLA_revision\\notebooks\\wandb\\run-20240119_173518-3q9xepr1</code>"
      ],
      "text/plain": [
       "<IPython.core.display.HTML object>"
      ]
     },
     "metadata": {},
     "output_type": "display_data"
    },
    {
     "data": {
      "text/html": [
       "Syncing run <strong><a href='https://wandb.ai/thoomas/PLA_01122024_pixelgen_Kfold/runs/3q9xepr1' target=\"_blank\">GraphConv_3_128_onehot_4</a></strong> to <a href='https://wandb.ai/thoomas/PLA_01122024_pixelgen_Kfold' target=\"_blank\">Weights & Biases</a> (<a href='https://wandb.me/run' target=\"_blank\">docs</a>)<br/>"
      ],
      "text/plain": [
       "<IPython.core.display.HTML object>"
      ]
     },
     "metadata": {},
     "output_type": "display_data"
    },
    {
     "data": {
      "text/html": [
       " View project at <a href='https://wandb.ai/thoomas/PLA_01122024_pixelgen_Kfold' target=\"_blank\">https://wandb.ai/thoomas/PLA_01122024_pixelgen_Kfold</a>"
      ],
      "text/plain": [
       "<IPython.core.display.HTML object>"
      ]
     },
     "metadata": {},
     "output_type": "display_data"
    },
    {
     "data": {
      "text/html": [
       " View run at <a href='https://wandb.ai/thoomas/PLA_01122024_pixelgen_Kfold/runs/3q9xepr1' target=\"_blank\">https://wandb.ai/thoomas/PLA_01122024_pixelgen_Kfold/runs/3q9xepr1</a>"
      ],
      "text/plain": [
       "<IPython.core.display.HTML object>"
      ]
     },
     "metadata": {},
     "output_type": "display_data"
    },
    {
     "name": "stderr",
     "output_type": "stream",
     "text": [
      "Global seed set to 42\n",
      "GPU available: True (cuda), used: True\n",
      "TPU available: False, using: 0 TPU cores\n",
      "IPU available: False, using: 0 IPUs\n",
      "HPU available: False, using: 0 HPUs\n",
      "Global seed set to 42\n",
      "c:\\Users\\thu71\\AppData\\Local\\anaconda3\\envs\\scanpy\\Lib\\site-packages\\lightning\\pytorch\\callbacks\\model_checkpoint.py:617: UserWarning: Checkpoint directory \\\\bme-retromaster.ad.gatech.edu\\labs5\\coskun-lab\\Thomas\\23_PLA_revision\\data\\pixelgen\\Tcell\\saved_models\\pixelgen\\Graph_GNNs_Kfold\\GraphConv_3_128_onehot_4\\attention\\GraphLevelGraphConv exists and is not empty.\n",
      "  rank_zero_warn(f\"Checkpoint directory {dirpath} exists and is not empty.\")\n",
      "LOCAL_RANK: 0 - CUDA_VISIBLE_DEVICES: [0]\n",
      "\n",
      "   | Name        | Type             | Params\n",
      "--------------------------------------------------\n",
      "0  | x_embedding | Identity         | 0     \n",
      "1  | model       | GNNModel         | 86.9 K\n",
      "2  | head        | Sequential       | 8.4 K \n",
      "3  | loss_module | CrossEntropyLoss | 0     \n",
      "4  | train_acc   | BinaryAccuracy   | 0     \n",
      "5  | train_auroc | BinaryAUROC      | 0     \n",
      "6  | train_f1    | BinaryF1Score    | 0     \n",
      "7  | valid_acc   | BinaryAccuracy   | 0     \n",
      "8  | valid_auroc | BinaryAUROC      | 0     \n",
      "9  | valid_f1    | BinaryF1Score    | 0     \n",
      "10 | pool        | GlobalAttention  | 129   \n",
      "--------------------------------------------------\n",
      "95.4 K    Trainable params\n",
      "0         Non-trainable params\n",
      "95.4 K    Total params\n",
      "0.382     Total estimated model params size (MB)\n"
     ]
    },
    {
     "name": "stdout",
     "output_type": "stream",
     "text": [
      "Using GNN\n"
     ]
    },
    {
     "name": "stderr",
     "output_type": "stream",
     "text": [
      "`Trainer.fit` stopped: `max_epochs=65` reached.\n"
     ]
    },
    {
     "data": {
      "text/html": [
       "Waiting for W&B process to finish... <strong style=\"color:green\">(success).</strong>"
      ],
      "text/plain": [
       "<IPython.core.display.HTML object>"
      ]
     },
     "metadata": {},
     "output_type": "display_data"
    },
    {
     "data": {
      "application/vnd.jupyter.widget-view+json": {
       "model_id": "68d36398fdbd467e9dfd6903bfafc4fd",
       "version_major": 2,
       "version_minor": 0
      },
      "text/plain": [
       "VBox(children=(Label(value='0.001 MB of 0.001 MB uploaded (0.000 MB deduped)\\r'), FloatProgress(value=1.0, max…"
      ]
     },
     "metadata": {},
     "output_type": "display_data"
    },
    {
     "data": {
      "text/html": [
       "<style>\n",
       "    table.wandb td:nth-child(1) { padding: 0 10px; text-align: left ; width: auto;} td:nth-child(2) {text-align: left ; width: 100%}\n",
       "    .wandb-row { display: flex; flex-direction: row; flex-wrap: wrap; justify-content: flex-start; width: 100% }\n",
       "    .wandb-col { display: flex; flex-direction: column; flex-basis: 100%; flex: 1; padding: 10px; }\n",
       "    </style>\n",
       "<div class=\"wandb-row\"><div class=\"wandb-col\"><h3>Run history:</h3><br/><table class=\"wandb\"><tr><td>epoch</td><td>▁▁▁▂▂▂▂▂▂▃▃▃▃▃▄▄▄▄▄▄▅▅▅▅▅▅▆▆▆▆▆▆▇▇▇▇▇███</td></tr><tr><td>lr-Adam</td><td>▁▁▁▁▁▁▁▁▁▁▁▁▁▁▁▁▁▁▁▁▁▁▁▁▁▁▁▁▁▁▁▁▁▁▁▁▁▁▁▁</td></tr><tr><td>train_acc</td><td>▁▅▇▆▆▇▇▇▇▇██▇█▇▇▇█▇▇█▇▇█▇▇██████▇▅▆▄▅▆▆▇</td></tr><tr><td>train_auc</td><td>▅▇█▇▇▅▄▅▇▇▇▆▆▇▆▇█████████████████▇▇▆▄▃▁▂</td></tr><tr><td>train_f1</td><td>▁▅▇▆▆▇▇▇▇▇██▇█▇▇▇██▇█▇▇█▇▇██████▇▅▆▄▅▆▆▇</td></tr><tr><td>train_loss_epoch</td><td>▂▂▁▁▁▁▁▁▁▁▁▁▁▁▁▁▁▁▁▁▁▁▁▁▁▁▁▁▁▁▁▁▁▃█▃▂▁▁▁</td></tr><tr><td>train_loss_step</td><td>▂▂▁▂▁▁▁▁▁▁▁▁▁▁▁▂▁▁▁▁▁▁▁▁▁▁▁▁▁▁▁▁█▄▂▂▂▂▁▁</td></tr><tr><td>trainer/global_step</td><td>▁▁▁▁▂▁▁▂▁▁▃▃▂▂▄▄▂▄▄▂▅▅▂▅▆▂▂▆▂▂▂▇▂▃▇▃▃█▃▃</td></tr><tr><td>val_acc</td><td>▂▇▇▇▇▄█▇██▇▇██▆▆█▇▇█▆▅█▇▇█▇█▅██▇▆▁▄▆▅▆▆▆</td></tr><tr><td>val_auc</td><td>████▇▆████████████▇████▇████▇███▇▅▇█▁▃▇▅</td></tr><tr><td>val_f1</td><td>▁▇▇▇▇▄▇▇█▇▇▇██▆▆█▇▇█▆▄█▇▇█▇█▅▇▇▇▆▁▄▆▅▆▆▆</td></tr><tr><td>val_loss_epoch</td><td>▁▁▁▁▁▁▁▁▁▁▁▁▁▁▁▁▁▁▁▁▁▁▁▁▁▁▁▁▁▁▁▁▂█▅▁▁▁▁▁</td></tr><tr><td>val_loss_step</td><td>▃▂▁▃▁▁▄▃▁▁▁▁▃▅▁▁▁▅▆▁▃▂▁▇▁▁▁▁▃▂▁▁▁▄█▁▂▁▁▁</td></tr></table><br/></div><div class=\"wandb-col\"><h3>Run summary:</h3><br/><table class=\"wandb\"><tr><td>epoch</td><td>64</td></tr><tr><td>lr-Adam</td><td>0.005</td></tr><tr><td>train_acc</td><td>0.95979</td></tr><tr><td>train_auc</td><td>0.60152</td></tr><tr><td>train_f1</td><td>0.95714</td></tr><tr><td>train_loss_epoch</td><td>0.11517</td></tr><tr><td>train_loss_step</td><td>0.07001</td></tr><tr><td>trainer/global_step</td><td>1559</td></tr><tr><td>val_acc</td><td>0.95699</td></tr><tr><td>val_auc</td><td>0.91136</td></tr><tr><td>val_f1</td><td>0.95506</td></tr><tr><td>val_loss_epoch</td><td>0.09522</td></tr><tr><td>val_loss_step</td><td>0.01912</td></tr></table><br/></div></div>"
      ],
      "text/plain": [
       "<IPython.core.display.HTML object>"
      ]
     },
     "metadata": {},
     "output_type": "display_data"
    },
    {
     "data": {
      "text/html": [
       " View run <strong style=\"color:#cdcd00\">GraphConv_3_128_onehot_4</strong> at: <a href='https://wandb.ai/thoomas/PLA_01122024_pixelgen_Kfold/runs/3q9xepr1' target=\"_blank\">https://wandb.ai/thoomas/PLA_01122024_pixelgen_Kfold/runs/3q9xepr1</a><br/>Synced 6 W&B file(s), 0 media file(s), 0 artifact file(s) and 0 other file(s)"
      ],
      "text/plain": [
       "<IPython.core.display.HTML object>"
      ]
     },
     "metadata": {},
     "output_type": "display_data"
    },
    {
     "data": {
      "text/html": [
       "Find logs at: <code>.\\wandb\\run-20240119_173518-3q9xepr1\\logs</code>"
      ],
      "text/plain": [
       "<IPython.core.display.HTML object>"
      ]
     },
     "metadata": {},
     "output_type": "display_data"
    },
    {
     "data": {
      "application/vnd.jupyter.widget-view+json": {
       "model_id": "d2df034a8b9f462995d4cc3f255349bd",
       "version_major": 2,
       "version_minor": 0
      },
      "text/plain": [
       "VBox(children=(Label(value='Waiting for wandb.init()...\\r'), FloatProgress(value=0.016916666666899498, max=1.0…"
      ]
     },
     "metadata": {},
     "output_type": "display_data"
    },
    {
     "data": {
      "text/html": [
       "wandb version 0.16.2 is available!  To upgrade, please run:\n",
       " $ pip install wandb --upgrade"
      ],
      "text/plain": [
       "<IPython.core.display.HTML object>"
      ]
     },
     "metadata": {},
     "output_type": "display_data"
    },
    {
     "data": {
      "text/html": [
       "Tracking run with wandb version 0.15.8"
      ],
      "text/plain": [
       "<IPython.core.display.HTML object>"
      ]
     },
     "metadata": {},
     "output_type": "display_data"
    },
    {
     "data": {
      "text/html": [
       "Run data is saved locally in <code>y:\\coskun-lab\\Thomas\\23_PLA_revision\\notebooks\\wandb\\run-20240119_174215-4azb3tzr</code>"
      ],
      "text/plain": [
       "<IPython.core.display.HTML object>"
      ]
     },
     "metadata": {},
     "output_type": "display_data"
    },
    {
     "data": {
      "text/html": [
       "Syncing run <strong><a href='https://wandb.ai/thoomas/PLA_01122024_pixelgen_Kfold/runs/4azb3tzr' target=\"_blank\">GCN_3_128_onehot_4</a></strong> to <a href='https://wandb.ai/thoomas/PLA_01122024_pixelgen_Kfold' target=\"_blank\">Weights & Biases</a> (<a href='https://wandb.me/run' target=\"_blank\">docs</a>)<br/>"
      ],
      "text/plain": [
       "<IPython.core.display.HTML object>"
      ]
     },
     "metadata": {},
     "output_type": "display_data"
    },
    {
     "data": {
      "text/html": [
       " View project at <a href='https://wandb.ai/thoomas/PLA_01122024_pixelgen_Kfold' target=\"_blank\">https://wandb.ai/thoomas/PLA_01122024_pixelgen_Kfold</a>"
      ],
      "text/plain": [
       "<IPython.core.display.HTML object>"
      ]
     },
     "metadata": {},
     "output_type": "display_data"
    },
    {
     "data": {
      "text/html": [
       " View run at <a href='https://wandb.ai/thoomas/PLA_01122024_pixelgen_Kfold/runs/4azb3tzr' target=\"_blank\">https://wandb.ai/thoomas/PLA_01122024_pixelgen_Kfold/runs/4azb3tzr</a>"
      ],
      "text/plain": [
       "<IPython.core.display.HTML object>"
      ]
     },
     "metadata": {},
     "output_type": "display_data"
    },
    {
     "name": "stderr",
     "output_type": "stream",
     "text": [
      "Global seed set to 42\n",
      "GPU available: True (cuda), used: True\n",
      "TPU available: False, using: 0 TPU cores\n",
      "IPU available: False, using: 0 IPUs\n",
      "HPU available: False, using: 0 HPUs\n",
      "Global seed set to 42\n",
      "c:\\Users\\thu71\\AppData\\Local\\anaconda3\\envs\\scanpy\\Lib\\site-packages\\lightning\\pytorch\\callbacks\\model_checkpoint.py:617: UserWarning: Checkpoint directory \\\\bme-retromaster.ad.gatech.edu\\labs5\\coskun-lab\\Thomas\\23_PLA_revision\\data\\pixelgen\\Tcell\\saved_models\\pixelgen\\Graph_GNNs_Kfold\\GCN_3_128_onehot_4\\attention2\\GraphLevelGCN exists and is not empty.\n",
      "  rank_zero_warn(f\"Checkpoint directory {dirpath} exists and is not empty.\")\n",
      "LOCAL_RANK: 0 - CUDA_VISIBLE_DEVICES: [0]\n",
      "\n",
      "   | Name        | Type             | Params\n",
      "--------------------------------------------------\n",
      "0  | x_embedding | Identity         | 0     \n",
      "1  | model       | GNNModel         | 43.9 K\n",
      "2  | head        | Sequential       | 8.4 K \n",
      "3  | loss_module | CrossEntropyLoss | 0     \n",
      "4  | train_acc   | BinaryAccuracy   | 0     \n",
      "5  | train_auroc | BinaryAUROC      | 0     \n",
      "6  | train_f1    | BinaryF1Score    | 0     \n",
      "7  | valid_acc   | BinaryAccuracy   | 0     \n",
      "8  | valid_auroc | BinaryAUROC      | 0     \n",
      "9  | valid_f1    | BinaryF1Score    | 0     \n",
      "10 | pool        | Attention_module | 16.6 K\n",
      "--------------------------------------------------\n",
      "68.9 K    Trainable params\n",
      "0         Non-trainable params\n",
      "68.9 K    Total params\n",
      "0.275     Total estimated model params size (MB)\n"
     ]
    },
    {
     "name": "stdout",
     "output_type": "stream",
     "text": [
      "Using GNN\n"
     ]
    },
    {
     "name": "stderr",
     "output_type": "stream",
     "text": [
      "`Trainer.fit` stopped: `max_epochs=65` reached.\n"
     ]
    },
    {
     "data": {
      "text/html": [
       "Waiting for W&B process to finish... <strong style=\"color:green\">(success).</strong>"
      ],
      "text/plain": [
       "<IPython.core.display.HTML object>"
      ]
     },
     "metadata": {},
     "output_type": "display_data"
    },
    {
     "data": {
      "application/vnd.jupyter.widget-view+json": {
       "model_id": "496e0c7be2f448da95c939e4fd83bf4d",
       "version_major": 2,
       "version_minor": 0
      },
      "text/plain": [
       "VBox(children=(Label(value='0.001 MB of 0.001 MB uploaded (0.000 MB deduped)\\r'), FloatProgress(value=1.0, max…"
      ]
     },
     "metadata": {},
     "output_type": "display_data"
    },
    {
     "data": {
      "text/html": [
       "<style>\n",
       "    table.wandb td:nth-child(1) { padding: 0 10px; text-align: left ; width: auto;} td:nth-child(2) {text-align: left ; width: 100%}\n",
       "    .wandb-row { display: flex; flex-direction: row; flex-wrap: wrap; justify-content: flex-start; width: 100% }\n",
       "    .wandb-col { display: flex; flex-direction: column; flex-basis: 100%; flex: 1; padding: 10px; }\n",
       "    </style>\n",
       "<div class=\"wandb-row\"><div class=\"wandb-col\"><h3>Run history:</h3><br/><table class=\"wandb\"><tr><td>epoch</td><td>▁▁▁▂▂▂▂▂▂▃▃▃▃▃▄▄▄▄▄▄▅▅▅▅▅▅▆▆▆▆▆▆▇▇▇▇▇███</td></tr><tr><td>lr-Adam</td><td>▁▁▁▁▁▁▁▁▁▁▁▁▁▁▁▁▁▁▁▁▁▁▁▁▁▁▁▁▁▁▁▁▁▁▁▁▁▁▁▁</td></tr><tr><td>train_acc</td><td>▁▄▆▇▇▇▇▆▇▅▇█▇███▇▆▇████▇▇█████▇▇▇███████</td></tr><tr><td>train_auc</td><td>▁▅▇▇███▆█▅███████▇██████████████████████</td></tr><tr><td>train_f1</td><td>▁▄▆▇▇▇▇▆▇▄▇█▇███▇▆▇████▇▇█████▇▇▇███████</td></tr><tr><td>train_loss_epoch</td><td>█▆▃▃▂▂▂▅▃▅▂▂▂▁▁▁▄▃▂▁▁▁▁▃▂▁▁▁▁▂▂▂▂▁▁▁▁▁▁▁</td></tr><tr><td>train_loss_step</td><td>▄▂▁▃▂█▇▂▂▁▁▁▁▁▁▁▃▁▂▁▃▁▁▁▁▁▁▁▁▁▁▂▁▁▁▁▁▁▁▁</td></tr><tr><td>trainer/global_step</td><td>▁▁▁▁▂▁▁▂▁▁▃▃▂▂▄▄▂▄▄▂▅▅▂▅▆▂▂▆▂▂▂▇▂▃▇▃▃█▃▃</td></tr><tr><td>val_acc</td><td>▁▃▅▇▆▆▅▇▆▃▅▅▆█▆█▄▇▇▇▇█▆█▅█▇▇▇█▆▅▅▆█▇▇▇█▇</td></tr><tr><td>val_auc</td><td>▄▆▁▆█▆███▂▇▄▁█▇█▇█████████████▃▇▅▅███▇█▅</td></tr><tr><td>val_f1</td><td>▁▃▅▇▆▆▅▇▆▄▅▅▆█▆█▅▇▇▇▇█▆█▅█▇▇▇█▆▅▅▆█▇▇▇█▇</td></tr><tr><td>val_loss_epoch</td><td>▅▃▇▃▁▃▃▁▂█▃▄▅▁▂▁▃▂▁▁▂▁▂▁▂▁▁▂▂▁▄▄▃▄▂▂▂▃▂▄</td></tr><tr><td>val_loss_step</td><td>▃▂▁▁▁▂▄▁▁▁▁▂█▁▁▁▂▁▁▁▁▁▁▁▂▁▁▁▁▁▁▁▁▁▁▁▂▁▁▁</td></tr></table><br/></div><div class=\"wandb-col\"><h3>Run summary:</h3><br/><table class=\"wandb\"><tr><td>epoch</td><td>64</td></tr><tr><td>lr-Adam</td><td>0.005</td></tr><tr><td>train_acc</td><td>1.0</td></tr><tr><td>train_auc</td><td>1.0</td></tr><tr><td>train_f1</td><td>1.0</td></tr><tr><td>train_loss_epoch</td><td>0.00172</td></tr><tr><td>train_loss_step</td><td>0.00119</td></tr><tr><td>trainer/global_step</td><td>1559</td></tr><tr><td>val_acc</td><td>0.98925</td></tr><tr><td>val_auc</td><td>0.99115</td></tr><tr><td>val_f1</td><td>0.9881</td></tr><tr><td>val_loss_epoch</td><td>0.17203</td></tr><tr><td>val_loss_step</td><td>0.33149</td></tr></table><br/></div></div>"
      ],
      "text/plain": [
       "<IPython.core.display.HTML object>"
      ]
     },
     "metadata": {},
     "output_type": "display_data"
    },
    {
     "data": {
      "text/html": [
       " View run <strong style=\"color:#cdcd00\">GCN_3_128_onehot_4</strong> at: <a href='https://wandb.ai/thoomas/PLA_01122024_pixelgen_Kfold/runs/4azb3tzr' target=\"_blank\">https://wandb.ai/thoomas/PLA_01122024_pixelgen_Kfold/runs/4azb3tzr</a><br/>Synced 6 W&B file(s), 0 media file(s), 0 artifact file(s) and 0 other file(s)"
      ],
      "text/plain": [
       "<IPython.core.display.HTML object>"
      ]
     },
     "metadata": {},
     "output_type": "display_data"
    },
    {
     "data": {
      "text/html": [
       "Find logs at: <code>.\\wandb\\run-20240119_174215-4azb3tzr\\logs</code>"
      ],
      "text/plain": [
       "<IPython.core.display.HTML object>"
      ]
     },
     "metadata": {},
     "output_type": "display_data"
    },
    {
     "data": {
      "text/html": [
       "wandb version 0.16.2 is available!  To upgrade, please run:\n",
       " $ pip install wandb --upgrade"
      ],
      "text/plain": [
       "<IPython.core.display.HTML object>"
      ]
     },
     "metadata": {},
     "output_type": "display_data"
    },
    {
     "data": {
      "text/html": [
       "Tracking run with wandb version 0.15.8"
      ],
      "text/plain": [
       "<IPython.core.display.HTML object>"
      ]
     },
     "metadata": {},
     "output_type": "display_data"
    },
    {
     "data": {
      "text/html": [
       "Run data is saved locally in <code>y:\\coskun-lab\\Thomas\\23_PLA_revision\\notebooks\\wandb\\run-20240119_175123-3rj0f1rv</code>"
      ],
      "text/plain": [
       "<IPython.core.display.HTML object>"
      ]
     },
     "metadata": {},
     "output_type": "display_data"
    },
    {
     "data": {
      "text/html": [
       "Syncing run <strong><a href='https://wandb.ai/thoomas/PLA_01122024_pixelgen_Kfold/runs/3rj0f1rv' target=\"_blank\">GAT_norm_3_128_onehot_4</a></strong> to <a href='https://wandb.ai/thoomas/PLA_01122024_pixelgen_Kfold' target=\"_blank\">Weights & Biases</a> (<a href='https://wandb.me/run' target=\"_blank\">docs</a>)<br/>"
      ],
      "text/plain": [
       "<IPython.core.display.HTML object>"
      ]
     },
     "metadata": {},
     "output_type": "display_data"
    },
    {
     "data": {
      "text/html": [
       " View project at <a href='https://wandb.ai/thoomas/PLA_01122024_pixelgen_Kfold' target=\"_blank\">https://wandb.ai/thoomas/PLA_01122024_pixelgen_Kfold</a>"
      ],
      "text/plain": [
       "<IPython.core.display.HTML object>"
      ]
     },
     "metadata": {},
     "output_type": "display_data"
    },
    {
     "data": {
      "text/html": [
       " View run at <a href='https://wandb.ai/thoomas/PLA_01122024_pixelgen_Kfold/runs/3rj0f1rv' target=\"_blank\">https://wandb.ai/thoomas/PLA_01122024_pixelgen_Kfold/runs/3rj0f1rv</a>"
      ],
      "text/plain": [
       "<IPython.core.display.HTML object>"
      ]
     },
     "metadata": {},
     "output_type": "display_data"
    },
    {
     "name": "stderr",
     "output_type": "stream",
     "text": [
      "Global seed set to 42\n",
      "GPU available: True (cuda), used: True\n",
      "TPU available: False, using: 0 TPU cores\n",
      "IPU available: False, using: 0 IPUs\n",
      "HPU available: False, using: 0 HPUs\n",
      "Global seed set to 42\n",
      "c:\\Users\\thu71\\AppData\\Local\\anaconda3\\envs\\scanpy\\Lib\\site-packages\\lightning\\pytorch\\callbacks\\model_checkpoint.py:617: UserWarning: Checkpoint directory \\\\bme-retromaster.ad.gatech.edu\\labs5\\coskun-lab\\Thomas\\23_PLA_revision\\data\\pixelgen\\Tcell\\saved_models\\pixelgen\\Graph_GNNs_Kfold\\GAT_norm_3_128_onehot_4\\attention\\GraphLevelGAT_norm exists and is not empty.\n",
      "  rank_zero_warn(f\"Checkpoint directory {dirpath} exists and is not empty.\")\n",
      "LOCAL_RANK: 0 - CUDA_VISIBLE_DEVICES: [0]\n",
      "\n",
      "   | Name        | Type             | Params\n",
      "--------------------------------------------------\n",
      "0  | x_embedding | Identity         | 0     \n",
      "1  | model       | GAT              | 121 K \n",
      "2  | head        | Sequential       | 8.4 K \n",
      "3  | loss_module | CrossEntropyLoss | 0     \n",
      "4  | train_acc   | BinaryAccuracy   | 0     \n",
      "5  | train_auroc | BinaryAUROC      | 0     \n",
      "6  | train_f1    | BinaryF1Score    | 0     \n",
      "7  | valid_acc   | BinaryAccuracy   | 0     \n",
      "8  | valid_auroc | BinaryAUROC      | 0     \n",
      "9  | valid_f1    | BinaryF1Score    | 0     \n",
      "10 | pool        | GlobalAttention  | 129   \n",
      "--------------------------------------------------\n",
      "130 K     Trainable params\n",
      "0         Non-trainable params\n",
      "130 K     Total params\n",
      "0.521     Total estimated model params size (MB)\n"
     ]
    },
    {
     "name": "stdout",
     "output_type": "stream",
     "text": [
      "Using GAT\n"
     ]
    },
    {
     "name": "stderr",
     "output_type": "stream",
     "text": [
      "`Trainer.fit` stopped: `max_epochs=65` reached.\n"
     ]
    },
    {
     "data": {
      "text/html": [
       "Waiting for W&B process to finish... <strong style=\"color:green\">(success).</strong>"
      ],
      "text/plain": [
       "<IPython.core.display.HTML object>"
      ]
     },
     "metadata": {},
     "output_type": "display_data"
    },
    {
     "data": {
      "application/vnd.jupyter.widget-view+json": {
       "model_id": "d942d3ac6d3148c0844a38052c3a351f",
       "version_major": 2,
       "version_minor": 0
      },
      "text/plain": [
       "VBox(children=(Label(value='0.001 MB of 0.001 MB uploaded (0.000 MB deduped)\\r'), FloatProgress(value=1.0, max…"
      ]
     },
     "metadata": {},
     "output_type": "display_data"
    },
    {
     "data": {
      "text/html": [
       "<style>\n",
       "    table.wandb td:nth-child(1) { padding: 0 10px; text-align: left ; width: auto;} td:nth-child(2) {text-align: left ; width: 100%}\n",
       "    .wandb-row { display: flex; flex-direction: row; flex-wrap: wrap; justify-content: flex-start; width: 100% }\n",
       "    .wandb-col { display: flex; flex-direction: column; flex-basis: 100%; flex: 1; padding: 10px; }\n",
       "    </style>\n",
       "<div class=\"wandb-row\"><div class=\"wandb-col\"><h3>Run history:</h3><br/><table class=\"wandb\"><tr><td>epoch</td><td>▁▁▁▂▂▂▂▂▂▃▃▃▃▃▄▄▄▄▄▄▅▅▅▅▅▅▆▆▆▆▆▆▇▇▇▇▇███</td></tr><tr><td>lr-Adam</td><td>▁▁▁▁▁▁▁▁▁▁▁▁▁▁▁▁▁▁▁▁▁▁▁▁▁▁▁▁▁▁▁▁▁▁▁▁▁▁▁▁</td></tr><tr><td>train_acc</td><td>▁▅▆▆▇▇▇▇▇▇▆▇▇██▇█▇██▇▇▇▇█▇█▇▆▇▇▇████▇███</td></tr><tr><td>train_auc</td><td>▁▆▇▇█▇███▇▇█████████████████▇███████████</td></tr><tr><td>train_f1</td><td>▁▅▆▇▇▇▇▇▇▇▆▇▇██▇█▇██▇▇▇▇█▇█▇▆▇▇▇████▇███</td></tr><tr><td>train_loss_epoch</td><td>█▅▃▂▂▂▂▂▅▃▃▂▂▁▁▂▁▂▁▁▂▂▂▁▁▂▁▄▄▂▂▂▁▁▁▁▂▁▁▁</td></tr><tr><td>train_loss_step</td><td>▄█▂▁▁▃▂▂▁▄▁▁▃▁▅▂▂▂▁▁▂▁▁▁▂▁▁▃▂▁▂▁▁▂▁▁▁▁▂▂</td></tr><tr><td>trainer/global_step</td><td>▁▁▁▁▂▁▁▂▁▁▃▃▂▂▄▄▂▄▄▂▅▅▂▅▆▂▂▆▂▂▂▇▂▃▇▃▃█▃▃</td></tr><tr><td>val_acc</td><td>▇▇▇██▇▇▇█▂▆▄▆▃▅▅▃▆▂▄▄█▆▇▇▆▇▁▄▇█▇▆▇▇█▅█▆▇</td></tr><tr><td>val_auc</td><td>▆▄▆▇█▆█▃▇█▅▃▇▅▄▄▃▄▃▄▇▇▇▅▂▁▇▇█▇█▇▇▇▇▇▅▇▁▅</td></tr><tr><td>val_f1</td><td>▇▇█████▇█▅▇▆▇▆▆▆▆▇▅▆▅█▇▇▇▆█▁▅▇█▇▇███▆█▇▇</td></tr><tr><td>val_loss_epoch</td><td>▂▂▁▁▁▁▁▂▁▅▃▆▂▆▄▃▆▃█▄▄▁▂▂▂▃▂█▃▁▁▁▂▁▁▁▄▁▃▂</td></tr><tr><td>val_loss_step</td><td>▁▃▁▁▁▁▁▂▂▃▁▂▁▁▁▁▁▂▂▄▁▁▁▂▃▁▁█▄▁▁▃▁▁▁▁▄▃▂▁</td></tr></table><br/></div><div class=\"wandb-col\"><h3>Run summary:</h3><br/><table class=\"wandb\"><tr><td>epoch</td><td>64</td></tr><tr><td>lr-Adam</td><td>0.005</td></tr><tr><td>train_acc</td><td>0.99062</td></tr><tr><td>train_auc</td><td>0.999</td></tr><tr><td>train_f1</td><td>0.98984</td></tr><tr><td>train_loss_epoch</td><td>0.0352</td></tr><tr><td>train_loss_step</td><td>0.09911</td></tr><tr><td>trainer/global_step</td><td>1559</td></tr><tr><td>val_acc</td><td>0.94086</td></tr><tr><td>val_auc</td><td>0.98777</td></tr><tr><td>val_f1</td><td>0.93785</td></tr><tr><td>val_loss_epoch</td><td>0.14412</td></tr><tr><td>val_loss_step</td><td>0.06886</td></tr></table><br/></div></div>"
      ],
      "text/plain": [
       "<IPython.core.display.HTML object>"
      ]
     },
     "metadata": {},
     "output_type": "display_data"
    },
    {
     "data": {
      "text/html": [
       " View run <strong style=\"color:#cdcd00\">GAT_norm_3_128_onehot_4</strong> at: <a href='https://wandb.ai/thoomas/PLA_01122024_pixelgen_Kfold/runs/3rj0f1rv' target=\"_blank\">https://wandb.ai/thoomas/PLA_01122024_pixelgen_Kfold/runs/3rj0f1rv</a><br/>Synced 6 W&B file(s), 0 media file(s), 0 artifact file(s) and 0 other file(s)"
      ],
      "text/plain": [
       "<IPython.core.display.HTML object>"
      ]
     },
     "metadata": {},
     "output_type": "display_data"
    },
    {
     "data": {
      "text/html": [
       "Find logs at: <code>.\\wandb\\run-20240119_175123-3rj0f1rv\\logs</code>"
      ],
      "text/plain": [
       "<IPython.core.display.HTML object>"
      ]
     },
     "metadata": {},
     "output_type": "display_data"
    },
    {
     "data": {
      "text/html": [
       "wandb version 0.16.2 is available!  To upgrade, please run:\n",
       " $ pip install wandb --upgrade"
      ],
      "text/plain": [
       "<IPython.core.display.HTML object>"
      ]
     },
     "metadata": {},
     "output_type": "display_data"
    },
    {
     "data": {
      "text/html": [
       "Tracking run with wandb version 0.15.8"
      ],
      "text/plain": [
       "<IPython.core.display.HTML object>"
      ]
     },
     "metadata": {},
     "output_type": "display_data"
    },
    {
     "data": {
      "text/html": [
       "Run data is saved locally in <code>y:\\coskun-lab\\Thomas\\23_PLA_revision\\notebooks\\wandb\\run-20240119_181102-w1re2l54</code>"
      ],
      "text/plain": [
       "<IPython.core.display.HTML object>"
      ]
     },
     "metadata": {},
     "output_type": "display_data"
    },
    {
     "data": {
      "text/html": [
       "Syncing run <strong><a href='https://wandb.ai/thoomas/PLA_01122024_pixelgen_Kfold/runs/w1re2l54' target=\"_blank\">GINConv_norm_3_128_onehot_4</a></strong> to <a href='https://wandb.ai/thoomas/PLA_01122024_pixelgen_Kfold' target=\"_blank\">Weights & Biases</a> (<a href='https://wandb.me/run' target=\"_blank\">docs</a>)<br/>"
      ],
      "text/plain": [
       "<IPython.core.display.HTML object>"
      ]
     },
     "metadata": {},
     "output_type": "display_data"
    },
    {
     "data": {
      "text/html": [
       " View project at <a href='https://wandb.ai/thoomas/PLA_01122024_pixelgen_Kfold' target=\"_blank\">https://wandb.ai/thoomas/PLA_01122024_pixelgen_Kfold</a>"
      ],
      "text/plain": [
       "<IPython.core.display.HTML object>"
      ]
     },
     "metadata": {},
     "output_type": "display_data"
    },
    {
     "data": {
      "text/html": [
       " View run at <a href='https://wandb.ai/thoomas/PLA_01122024_pixelgen_Kfold/runs/w1re2l54' target=\"_blank\">https://wandb.ai/thoomas/PLA_01122024_pixelgen_Kfold/runs/w1re2l54</a>"
      ],
      "text/plain": [
       "<IPython.core.display.HTML object>"
      ]
     },
     "metadata": {},
     "output_type": "display_data"
    },
    {
     "name": "stderr",
     "output_type": "stream",
     "text": [
      "Global seed set to 42\n",
      "GPU available: True (cuda), used: True\n",
      "TPU available: False, using: 0 TPU cores\n",
      "IPU available: False, using: 0 IPUs\n",
      "HPU available: False, using: 0 HPUs\n",
      "Global seed set to 42\n",
      "c:\\Users\\thu71\\AppData\\Local\\anaconda3\\envs\\scanpy\\Lib\\site-packages\\lightning\\pytorch\\callbacks\\model_checkpoint.py:617: UserWarning: Checkpoint directory \\\\bme-retromaster.ad.gatech.edu\\labs5\\coskun-lab\\Thomas\\23_PLA_revision\\data\\pixelgen\\Tcell\\saved_models\\pixelgen\\Graph_GNNs_Kfold\\GINConv_norm_3_128_onehot_4\\mean\\GraphLevelGINConv_norm exists and is not empty.\n",
      "  rank_zero_warn(f\"Checkpoint directory {dirpath} exists and is not empty.\")\n",
      "LOCAL_RANK: 0 - CUDA_VISIBLE_DEVICES: [0]\n",
      "\n",
      "  | Name        | Type             | Params\n",
      "-------------------------------------------------\n",
      "0 | x_embedding | Identity         | 0     \n",
      "1 | model       | GIN              | 94.2 K\n",
      "2 | head        | Sequential       | 8.4 K \n",
      "3 | loss_module | CrossEntropyLoss | 0     \n",
      "4 | train_acc   | BinaryAccuracy   | 0     \n",
      "5 | train_auroc | BinaryAUROC      | 0     \n",
      "6 | train_f1    | BinaryF1Score    | 0     \n",
      "7 | valid_acc   | BinaryAccuracy   | 0     \n",
      "8 | valid_auroc | BinaryAUROC      | 0     \n",
      "9 | valid_f1    | BinaryF1Score    | 0     \n",
      "-------------------------------------------------\n",
      "102 K     Trainable params\n",
      "0         Non-trainable params\n",
      "102 K     Total params\n",
      "0.410     Total estimated model params size (MB)\n"
     ]
    },
    {
     "name": "stdout",
     "output_type": "stream",
     "text": [
      "GINConv\n"
     ]
    },
    {
     "name": "stderr",
     "output_type": "stream",
     "text": [
      "`Trainer.fit` stopped: `max_epochs=65` reached.\n"
     ]
    },
    {
     "data": {
      "text/html": [
       "Waiting for W&B process to finish... <strong style=\"color:green\">(success).</strong>"
      ],
      "text/plain": [
       "<IPython.core.display.HTML object>"
      ]
     },
     "metadata": {},
     "output_type": "display_data"
    },
    {
     "data": {
      "text/html": [
       "<style>\n",
       "    table.wandb td:nth-child(1) { padding: 0 10px; text-align: left ; width: auto;} td:nth-child(2) {text-align: left ; width: 100%}\n",
       "    .wandb-row { display: flex; flex-direction: row; flex-wrap: wrap; justify-content: flex-start; width: 100% }\n",
       "    .wandb-col { display: flex; flex-direction: column; flex-basis: 100%; flex: 1; padding: 10px; }\n",
       "    </style>\n",
       "<div class=\"wandb-row\"><div class=\"wandb-col\"><h3>Run history:</h3><br/><table class=\"wandb\"><tr><td>epoch</td><td>▁▁▁▂▂▂▂▂▂▃▃▃▃▃▄▄▄▄▄▄▅▅▅▅▅▅▆▆▆▆▆▆▇▇▇▇▇███</td></tr><tr><td>lr-Adam</td><td>▁▁▁▁▁▁▁▁▁▁▁▁▁▁▁▁▁▁▁▁▁▁▁▁▁▁▁▁▁▁▁▁▁▁▁▁▁▁▁▁</td></tr><tr><td>train_acc</td><td>▁▇▇▇▇▇▇▆▇▇███▇███████████▇▇██▇████▇█████</td></tr><tr><td>train_auc</td><td>▁▇█████▇█████▇██████████████████████████</td></tr><tr><td>train_f1</td><td>▁▇▇▇▇▇▇▆▇▇███▇███████████▇▇██▇████▇█████</td></tr><tr><td>train_loss_epoch</td><td>█▃▃▂▂▂▂▃▂▂▂▁▁▃▂▂▂▂▁▁▁▁▁▁▂▂▂▂▁▂▁▁▁▂▃▁▁▁▂▁</td></tr><tr><td>train_loss_step</td><td>▄▂▁▁▂▂▃▁▂▂▁▁▁▄▂▄▁▁▁▁▁▁▁▁█▂▁▁▁▁▁▁▁█▁▁▁▅▁▁</td></tr><tr><td>trainer/global_step</td><td>▁▁▁▁▂▁▁▂▁▁▃▃▂▂▄▄▂▄▄▂▅▅▂▅▆▂▂▆▂▂▂▇▂▃▇▃▃█▃▃</td></tr><tr><td>val_acc</td><td>▁▄▅▄▆▇▇▃▅▆▄▇▆█▅▆▄▇▆▅▆▇▃▇▅▆▇▅▆▆▄▆▇▆▅▂█▅▇▇</td></tr><tr><td>val_auc</td><td>▅▆█▁▅██▃▅▅▇▇███▇▁█▇█▆█▂█▃██▇▇▇▃██▆▅▃█▆█▇</td></tr><tr><td>val_f1</td><td>▁▄▅▃▆▇▇▃▅▆▄▇▆█▄▆▃▇▆▄▆▇▂▇▅▆▇▄▆▆▄▆▇▆▅▂█▅▇▇</td></tr><tr><td>val_loss_epoch</td><td>▃▁▂▃▁▁▁▂▂▁▂▁▁▁▁▁▂▁▁▂▁▁█▁▂▁▁▂▁▁▃▁▁▂▂▃▁▂▁▁</td></tr><tr><td>val_loss_step</td><td>▁▁▂▁▁▂▁▂▁▁▂▁▂▁▁▁▃▁▂▁▂▁█▁▁▁▁▁▁▂▁▁▂▂▁▁▁▁▁▂</td></tr></table><br/></div><div class=\"wandb-col\"><h3>Run summary:</h3><br/><table class=\"wandb\"><tr><td>epoch</td><td>64</td></tr><tr><td>lr-Adam</td><td>0.005</td></tr><tr><td>train_acc</td><td>0.99866</td></tr><tr><td>train_auc</td><td>1.0</td></tr><tr><td>train_f1</td><td>0.99855</td></tr><tr><td>train_loss_epoch</td><td>0.00521</td></tr><tr><td>train_loss_step</td><td>0.00019</td></tr><tr><td>trainer/global_step</td><td>1559</td></tr><tr><td>val_acc</td><td>0.98925</td></tr><tr><td>val_auc</td><td>0.99953</td></tr><tr><td>val_f1</td><td>0.9881</td></tr><tr><td>val_loss_epoch</td><td>0.0451</td></tr><tr><td>val_loss_step</td><td>0.11578</td></tr></table><br/></div></div>"
      ],
      "text/plain": [
       "<IPython.core.display.HTML object>"
      ]
     },
     "metadata": {},
     "output_type": "display_data"
    },
    {
     "data": {
      "text/html": [
       " View run <strong style=\"color:#cdcd00\">GINConv_norm_3_128_onehot_4</strong> at: <a href='https://wandb.ai/thoomas/PLA_01122024_pixelgen_Kfold/runs/w1re2l54' target=\"_blank\">https://wandb.ai/thoomas/PLA_01122024_pixelgen_Kfold/runs/w1re2l54</a><br/>Synced 6 W&B file(s), 0 media file(s), 0 artifact file(s) and 0 other file(s)"
      ],
      "text/plain": [
       "<IPython.core.display.HTML object>"
      ]
     },
     "metadata": {},
     "output_type": "display_data"
    },
    {
     "data": {
      "text/html": [
       "Find logs at: <code>.\\wandb\\run-20240119_181102-w1re2l54\\logs</code>"
      ],
      "text/plain": [
       "<IPython.core.display.HTML object>"
      ]
     },
     "metadata": {},
     "output_type": "display_data"
    }
   ],
   "source": [
    "k_folds = 5\n",
    "kfold = KFold(n_splits=k_folds, shuffle=True, random_state=42)\n",
    "\n",
    "for fold, (train_ids, valid_ids) in enumerate(kfold.split(dataset)):\n",
    "    train_subset = dataset.index_select(train_ids.tolist())\n",
    "    val_subset = dataset.index_select(valid_ids.tolist())\n",
    "    for NUM_LAYERS, HIDDEN_CHANNELS, pool, model in params:\n",
    "            # Path to the folder where the pretrained models are saved\n",
    "        # CHECKPOINT_PATH = checkpoint_folder / f'GAT_{NUM_LAYERS}_{HIDDEN_CHANNELS}_onehot_{fold}' / pool\n",
    "        CHECKPOINT_PATH = checkpoint_folder / f'{model}_{NUM_LAYERS}_{HIDDEN_CHANNELS}_onehot_{fold}' / pool\n",
    "        CHECKPOINT_PATH.mkdir(parents=True, exist_ok=True)\n",
    "\n",
    "        # Skip already trained kfold and pool\n",
    "        checkpoint = CHECKPOINT_PATH / f\"GraphLevel{model}\" / f\"GraphLevel{model}.ckpt\" \n",
    "        if checkpoint.exists():\n",
    "            print(checkpoint)\n",
    "            continue\n",
    "\n",
    "        # Run training\n",
    "        run = wandb.init(project=project_name, name=f'{model}_{NUM_LAYERS}_{HIDDEN_CHANNELS}_onehot_{fold}', \n",
    "                        group=f'{model}_{pool}', \n",
    "                        # mode=\"disabled\"\n",
    "                        )\n",
    "        PPIGraph.train_graph_classifier_kfold(model, \n",
    "                                                train_subset, \n",
    "                                                val_subset, \n",
    "                                                dataset, \n",
    "                                                CHECKPOINT_PATH, \n",
    "                                                AVAIL_GPUS, \n",
    "                                                in_channels=80,\n",
    "                                                hidden_channels=HIDDEN_CHANNELS, \n",
    "                                                out_channels = HIDDEN_CHANNELS,\n",
    "                                                num_layers=NUM_LAYERS, \n",
    "                                                epochs=epochs,\n",
    "                                                embedding=False,\n",
    "                                                batch_size=32,\n",
    "                                                graph_pooling=pool)\n",
    "        run.finish()\n"
   ]
  },
  {
   "cell_type": "code",
   "execution_count": null,
   "metadata": {},
   "outputs": [],
   "source": []
  }
 ],
 "metadata": {
  "kernelspec": {
   "display_name": "snowflake",
   "language": "python",
   "name": "python3"
  },
  "language_info": {
   "codemirror_mode": {
    "name": "ipython",
    "version": 3
   },
   "file_extension": ".py",
   "mimetype": "text/x-python",
   "name": "python",
   "nbconvert_exporter": "python",
   "pygments_lexer": "ipython3",
   "version": "3.11.4"
  }
 },
 "nbformat": 4,
 "nbformat_minor": 2
}
