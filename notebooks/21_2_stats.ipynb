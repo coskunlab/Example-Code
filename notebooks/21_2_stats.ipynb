{
 "cells": [
  {
   "cell_type": "code",
   "execution_count": 1,
   "metadata": {},
   "outputs": [],
   "source": [
    "import itertools\n",
    "import os\n",
    "import sys\n",
    "from pathlib import Path\n",
    "\n",
    "import cv2\n",
    "import matplotlib.pyplot as plt\n",
    "import numpy as np\n",
    "import pandas as pd\n",
    "import skimage.io\n",
    "\n",
    "from collections import defaultdict\n",
    "from tqdm.notebook import trange, tqdm, tqdm_notebook\n",
    "from joblib import Parallel, delayed\n",
    "import re\n",
    "import h5py\n",
    "import tifffile as tiff\n"
   ]
  },
  {
   "cell_type": "code",
   "execution_count": 2,
   "metadata": {},
   "outputs": [],
   "source": [
    "%load_ext autoreload\n",
    "%autoreload 2"
   ]
  },
  {
   "cell_type": "code",
   "execution_count": 3,
   "metadata": {},
   "outputs": [],
   "source": [
    "p_dir = (Path().cwd().parents[0]).absolute()\n",
    "data_dir = (Path().cwd().parents[0] / 'data').absolute()\n",
    "\n",
    "module_path = str(p_dir / \"src\")\n",
    " \n",
    "if module_path not in sys.path:\n",
    "    sys.path.append(module_path)"
   ]
  },
  {
   "cell_type": "code",
   "execution_count": 4,
   "metadata": {},
   "outputs": [],
   "source": [
    "df_imgs_path = data_dir / 'indirect'  /'metadata' / 'imgs_reg.csv'\n",
    "df_imgs = pd.read_csv(df_imgs_path)"
   ]
  },
  {
   "cell_type": "markdown",
   "metadata": {},
   "source": [
    "# Generate scatter plot"
   ]
  },
  {
   "cell_type": "code",
   "execution_count": 5,
   "metadata": {},
   "outputs": [],
   "source": [
    "import napari \n",
    "\n",
    "# remove first and last consecutive zeros along dimension\n",
    "def removeFirstAndLast(zeroArray):\n",
    "    \n",
    "    # remove first\n",
    "    for ii, val in enumerate(zeroArray):\n",
    "        if np.sum(zeroArray[:ii + 1]) != ii + 1: # all consecutive trues\n",
    "            break # exit loop\n",
    "            \n",
    "        else:\n",
    "            lowest = ii # index of last of the first consecutive zeros\n",
    "            \n",
    "    # remove last\n",
    "    for ii, val in enumerate(np.flip(zeroArray)):\n",
    "        if np.sum(zeroArray[:ii + 1]) != ii + 1: # all consecutive trues\n",
    "            break # exit loop\n",
    "            \n",
    "        else:\n",
    "            highest = len(zeroArray) - ii # index of first of the last consecutive zeros            \n",
    "    \n",
    "    return (lowest, highest)\n",
    "\n",
    "# remove black borders from napari screenshot (2D image)\n",
    "def removeBorders(RGB):\n",
    "    rowMin = []\n",
    "    rowMax = []\n",
    "    colMin = []\n",
    "    colMax = []\n",
    "    for jj in range(3): # each RGB\n",
    "        \n",
    "        img = RGB[:, :, jj]\n",
    "        # find first and last rows and cols of all zeros\n",
    "        # remove any rows of zeros\n",
    "        zeroRows = np.all(img == 0, axis = 1)\n",
    "        zeroCols = np.all(img == 0, axis = 0)\n",
    "\n",
    "        posRows = removeFirstAndLast(zeroRows)\n",
    "        posCols = removeFirstAndLast(zeroCols)            \n",
    "        \n",
    "        rowMin.append(posRows[0])\n",
    "        rowMax.append(posRows[1])\n",
    "        colMin.append(posCols[0])\n",
    "        colMax.append(posCols[1])\n",
    "        \n",
    "    # make sure border signal is not cut out\n",
    "    rowMin = np.min(rowMin)\n",
    "    rowMax = np.max(rowMax)\n",
    "    colMin = np.min(colMin)\n",
    "    colMax = np.max(colMax)\n",
    "        \n",
    "    cropped = RGB[rowMin: rowMax, colMin: colMax, :] \n",
    "    \n",
    "    return cropped\n",
    "\n",
    "def get_loc_ppi(df, Condition, FOV, x_min, y_min, x_max, y_max, PPI_name):\n",
    "    df_ppi = df[(df.Condition == Condition) & (df.FOV == FOV)]\n",
    "    df_ppi = df_ppi[df_ppi.PPI == PPI_name]\n",
    "    df_ppi = df_ppi[(df_ppi.column > x_min) & (df_ppi.column < x_max) \n",
    "                    & (df_ppi.row > y_min) & (df_ppi.row < y_max)] \n",
    "    df_ppi = df_ppi[df_ppi.Cyto!=0]\n",
    "    points = df_ppi[['row', 'column']].to_numpy()\n",
    "    points = points - np.array([y_min, x_min])\n",
    "    return points"
   ]
  },
  {
   "cell_type": "code",
   "execution_count": 6,
   "metadata": {},
   "outputs": [
    {
     "data": {
      "text/html": [
       "<div>\n",
       "<style scoped>\n",
       "    .dataframe tbody tr th:only-of-type {\n",
       "        vertical-align: middle;\n",
       "    }\n",
       "\n",
       "    .dataframe tbody tr th {\n",
       "        vertical-align: top;\n",
       "    }\n",
       "\n",
       "    .dataframe thead th {\n",
       "        text-align: right;\n",
       "    }\n",
       "</style>\n",
       "<table border=\"1\" class=\"dataframe\">\n",
       "  <thead>\n",
       "    <tr style=\"text-align: right;\">\n",
       "      <th></th>\n",
       "      <th>Condition</th>\n",
       "      <th>FOV</th>\n",
       "      <th>Path</th>\n",
       "    </tr>\n",
       "  </thead>\n",
       "  <tbody>\n",
       "    <tr>\n",
       "      <th>0</th>\n",
       "      <td>ctrl</td>\n",
       "      <td>FW1</td>\n",
       "      <td>y:\\coskun-lab\\Thomas\\23_PLA_revision\\data\\indi...</td>\n",
       "    </tr>\n",
       "    <tr>\n",
       "      <th>1</th>\n",
       "      <td>o</td>\n",
       "      <td>FW1</td>\n",
       "      <td>y:\\coskun-lab\\Thomas\\23_PLA_revision\\data\\indi...</td>\n",
       "    </tr>\n",
       "  </tbody>\n",
       "</table>\n",
       "</div>"
      ],
      "text/plain": [
       "  Condition  FOV                                               Path\n",
       "0      ctrl  FW1  y:\\coskun-lab\\Thomas\\23_PLA_revision\\data\\indi...\n",
       "1         o  FW1  y:\\coskun-lab\\Thomas\\23_PLA_revision\\data\\indi..."
      ]
     },
     "execution_count": 6,
     "metadata": {},
     "output_type": "execute_result"
    }
   ],
   "source": [
    "df_imgs"
   ]
  },
  {
   "cell_type": "code",
   "execution_count": 12,
   "metadata": {},
   "outputs": [],
   "source": [
    "# Read PPI\n",
    "PPI_save_path = data_dir /'indirect' / 'PPI'\n",
    "\n",
    "dfs = []\n",
    "for path in os.listdir(PPI_save_path):\n",
    "    if 'csv' in path:\n",
    "        df = pd.read_csv(PPI_save_path / path)\n",
    "        dfs.append(df)\n",
    "\n",
    "df = pd.concat(dfs)\n",
    "\n",
    "# Read masks \n",
    "masks_folder = data_dir /'indirect' / 'imgs' / 'masks_filtered'"
   ]
  },
  {
   "cell_type": "code",
   "execution_count": 13,
   "metadata": {},
   "outputs": [
    {
     "data": {
      "text/plain": [
       "array(['5 Pairs', 'cdc25c/p38'], dtype=object)"
      ]
     },
     "execution_count": 13,
     "metadata": {},
     "output_type": "execute_result"
    }
   ],
   "source": [
    "df.PPI.unique()"
   ]
  },
  {
   "cell_type": "code",
   "execution_count": 14,
   "metadata": {},
   "outputs": [],
   "source": [
    "PPI_cycles = [['5 Pairs'], ['cdc25c/p38']]"
   ]
  },
  {
   "cell_type": "code",
   "execution_count": 15,
   "metadata": {},
   "outputs": [],
   "source": [
    "df.columns = ['Cyto', 'row', 'column',  'PPI', 'Nuclei', 'Nuclei_Cell', 'Condition', 'FOV']\n"
   ]
  },
  {
   "cell_type": "markdown",
   "metadata": {},
   "source": [
    "## Drug treated"
   ]
  },
  {
   "cell_type": "code",
   "execution_count": 25,
   "metadata": {},
   "outputs": [
    {
     "name": "stdout",
     "output_type": "stream",
     "text": [
      "Condition                                                    o\n",
      "FOV                                                        FW1\n",
      "Path         y:\\coskun-lab\\Thomas\\23_PLA_revision\\data\\indi...\n",
      "Name: 1, dtype: object\n"
     ]
    }
   ],
   "source": [
    "# Get images\n",
    "index = 1\n",
    "row = df_imgs.iloc[index]\n",
    "print(row)\n",
    "path = row.Path\n",
    "\n",
    "with h5py.File(path, 'r') as f:\n",
    "    imgs = f['imgs'][:]\n",
    "    markers = f['imgs'].attrs['Marker']\n",
    "\n",
    "mask_path = masks_folder / f'Cell_{row.Condition}_{row.FOV}.tif'\n",
    "mask = skimage.io.imread(mask_path)"
   ]
  },
  {
   "cell_type": "code",
   "execution_count": 26,
   "metadata": {},
   "outputs": [],
   "source": [
    "\n",
    "image_dir = (Path().cwd().parents[0] / 'figures').absolute() / 'PLA_scatter'\n",
    "image_dir.mkdir(parents=True, exist_ok=True)\n",
    "\n",
    "# Define matching bbox to figures\n",
    "x_min, y_min = 1611,1325\n",
    "x_max, y_max = 2107,1755\n",
    "\n",
    "DAPI_ch = 0"
   ]
  },
  {
   "cell_type": "code",
   "execution_count": 27,
   "metadata": {},
   "outputs": [
    {
     "name": "stderr",
     "output_type": "stream",
     "text": [
      "C:\\Users\\thu71\\AppData\\Local\\Temp\\ipykernel_48316\\488586555.py:22: DeprecationWarning: <tifffile.imsave> is deprecated. Use tifffile.imwrite\n",
      "  tiff.imsave(image_dir / f'indirect_O_{i}.tif', removeBorders(screenshot))\n",
      "C:\\Users\\thu71\\AppData\\Local\\Temp\\ipykernel_48316\\488586555.py:22: DeprecationWarning: <tifffile.imsave> is deprecated. Use tifffile.imwrite\n",
      "  tiff.imsave(image_dir / f'indirect_O_{i}.tif', removeBorders(screenshot))\n"
     ]
    }
   ],
   "source": [
    "# Get DAPI image\n",
    "dapiImg = imgs[0, y_min:y_max, x_min:x_max]\n",
    "mask_id = np.unique(mask[y_min:y_max, x_min:x_max])\n",
    "color = {i: 'white' for i in mask_id if i != 0}\n",
    "\n",
    "colors = ['magenta']\n",
    "# Get ppi location\n",
    "for i, PPI_names in enumerate(PPI_cycles):\n",
    "    points = [get_loc_ppi(df, row.Condition, row.FOV, x_min, y_min, x_max, y_max, PPI_name) for PPI_name in PPI_names]\n",
    "\n",
    "    # Napari viewer\n",
    "    viewer = napari.view_image(dapiImg, colormap='cyan', contrast_limits=[0,200])\n",
    "    label = viewer.add_labels(mask[y_min:y_max, x_min:x_max], color=color, opacity=0.9)\n",
    "    label.contour = 2\n",
    "    for j, point in enumerate(points):\n",
    "        points_layer = viewer.add_points(point, size=8,face_color=colors[j], opacity=0.9)\n",
    "\n",
    "    # Get screenshot\n",
    "    screenshot = viewer.screenshot(size=np.array(dapiImg.shape)*2)\n",
    "    viewer.close()\n",
    "    # Save image\n",
    "    tiff.imsave(image_dir / f'indirect_O_{i}.tif', removeBorders(screenshot))\n"
   ]
  },
  {
   "cell_type": "markdown",
   "metadata": {},
   "source": [
    "## Control"
   ]
  },
  {
   "cell_type": "code",
   "execution_count": 35,
   "metadata": {},
   "outputs": [
    {
     "name": "stdout",
     "output_type": "stream",
     "text": [
      "Condition                                                 ctrl\n",
      "FOV                                                        FW1\n",
      "Path         y:\\coskun-lab\\Thomas\\23_PLA_revision\\data\\indi...\n",
      "Name: 0, dtype: object\n"
     ]
    }
   ],
   "source": [
    "# Get images\n",
    "index = 0\n",
    "row = df_imgs.iloc[index]\n",
    "print(row)\n",
    "path = row.Path\n",
    "\n",
    "with h5py.File(path, 'r') as f:\n",
    "    imgs = f['imgs'][:]\n",
    "    markers = f['imgs'].attrs['Marker']\n",
    "\n",
    "\n",
    "mask_path = masks_folder / f'Cell_{row.Condition}_{row.FOV}.tif'\n",
    "mask = skimage.io.imread(mask_path)"
   ]
  },
  {
   "cell_type": "code",
   "execution_count": 36,
   "metadata": {},
   "outputs": [],
   "source": [
    "image_dir = (Path().cwd().parents[0] / 'figures').absolute() / 'PLA_scatter'\n",
    "image_dir.mkdir(parents=True, exist_ok=True)\n",
    "\n",
    "# Define matching bbox to figures\n",
    "x_min, y_min = 1874,2385\n",
    "x_max, y_max = 2418,2893\n",
    "\n",
    "DAPI_ch = 0"
   ]
  },
  {
   "cell_type": "code",
   "execution_count": 37,
   "metadata": {},
   "outputs": [
    {
     "name": "stderr",
     "output_type": "stream",
     "text": [
      "C:\\Users\\thu71\\AppData\\Local\\Temp\\ipykernel_48316\\1629320715.py:22: DeprecationWarning: <tifffile.imsave> is deprecated. Use tifffile.imwrite\n",
      "  tiff.imsave(image_dir / f'indirect_ctrl_{i}.tif', removeBorders(screenshot))\n",
      "C:\\Users\\thu71\\AppData\\Local\\Temp\\ipykernel_48316\\1629320715.py:22: DeprecationWarning: <tifffile.imsave> is deprecated. Use tifffile.imwrite\n",
      "  tiff.imsave(image_dir / f'indirect_ctrl_{i}.tif', removeBorders(screenshot))\n"
     ]
    }
   ],
   "source": [
    "# Get DAPI image\n",
    "dapiImg = imgs[0, y_min:y_max, x_min:x_max]\n",
    "mask_id = np.unique(mask[y_min:y_max, x_min:x_max])\n",
    "color = {i: 'white' for i in mask_id if i != 0}\n",
    "\n",
    "colors = ['magenta']\n",
    "# Get ppi location\n",
    "for i, PPI_names in enumerate(PPI_cycles):\n",
    "    points = [get_loc_ppi(df, row.Condition, row.FOV, x_min, y_min, x_max, y_max, PPI_name) for PPI_name in PPI_names]\n",
    "\n",
    "    # Napari viewer\n",
    "    viewer = napari.view_image(dapiImg, colormap='cyan', contrast_limits=[0,200])\n",
    "    label = viewer.add_labels(mask[y_min:y_max, x_min:x_max], color=color, opacity=0.9)\n",
    "    label.contour = 2\n",
    "    for j, point in enumerate(points):\n",
    "        points_layer = viewer.add_points(point, size=8,face_color=colors[j], opacity=0.9)\n",
    "\n",
    "    # Get screenshot\n",
    "    screenshot = viewer.screenshot(size=np.array(dapiImg.shape)*2)\n",
    "    viewer.close()\n",
    "    # Save image\n",
    "    tiff.imsave(image_dir / f'indirect_ctrl_{i}.tif', removeBorders(screenshot))\n"
   ]
  },
  {
   "cell_type": "markdown",
   "metadata": {},
   "source": [
    "# Quantification"
   ]
  },
  {
   "cell_type": "code",
   "execution_count": 5,
   "metadata": {},
   "outputs": [],
   "source": [
    "# Read PPI\n",
    "PPI_save_path =  data_dir / 'indirect' / 'PPI'\n",
    "\n",
    "dfs = []\n",
    "for path in os.listdir(PPI_save_path):\n",
    "    if 'csv' in path:\n",
    "        df = pd.read_csv(PPI_save_path / path)\n",
    "        dfs.append(df)\n",
    "\n",
    "df = pd.concat(dfs)\n",
    "\n",
    "# Get nuclei and cell count\n",
    "g = df.groupby(['Condition', 'FOV', 'PPI', 'Cyto']).size()\n",
    "df_cell = pd.DataFrame({'Count Cyto': g}).reset_index()\n",
    "df_cell = df_cell[df_cell.Cyto != 0]\n",
    "df_cell.columns = ['Condition', 'FOV', 'PPI', 'Id', 'Count_cell']\n",
    "df_cell = (df_cell.pivot_table(values='Count_cell', columns='PPI', index=['Condition', 'FOV','Id'])\n",
    ".fillna(0)\n",
    ".reset_index()\n",
    ".melt(id_vars=['Condition', 'FOV','Id'], value_name='Count_cell', var_name='PPI')\n",
    ")\n",
    "\n",
    "g = df.groupby(['Condition', 'FOV', 'PPI', 'Nuclei_Cell']).size()\n",
    "df_nuclei = pd.DataFrame({'Count Nuclei': g}).reset_index()\n",
    "df_nuclei.columns = ['Condition', 'FOV', 'PPI', 'Nuclei', 'Count Nuclei']\n",
    "df_nuclei= df_nuclei[df_nuclei.Nuclei != 0]\n",
    "df_nuclei.columns = ['Condition', 'FOV', 'PPI', 'Id', 'Count_nuclei']\n",
    "df_nuclei = (df_nuclei.pivot_table(values='Count_nuclei', columns='PPI', index=['Condition', 'FOV','Id'])\n",
    ".fillna(0)\n",
    ".reset_index()\n",
    ".melt(id_vars=['Condition', 'FOV','Id'], value_name='Count_nuclei', var_name='PPI')\n",
    ")\n",
    "\n",
    "# Combine count\n",
    "df_all = df_cell.merge(df_nuclei, how='left', on=['Condition', 'FOV', 'PPI', 'Id']).fillna(0)\n",
    "df_all.loc[df_all['Count_cell'] < df_all['Count_nuclei'],'Count_cell'] = df_all.loc[df_all['Count_cell'] < df_all['Count_nuclei']]['Count_nuclei']\n",
    "df_all['Count_nuclei'] = df_all['Count_nuclei'].astype(int)\n",
    "df_all['Count_cyto'] = df_all['Count_cell'] - df_all['Count_nuclei']"
   ]
  },
  {
   "cell_type": "code",
   "execution_count": 6,
   "metadata": {},
   "outputs": [],
   "source": [
    "# Describe statistics\n",
    "df_all.groupby(['Condition', 'PPI'])['Count_cell'].describe().to_clipboard()"
   ]
  },
  {
   "cell_type": "code",
   "execution_count": 7,
   "metadata": {},
   "outputs": [
    {
     "name": "stderr",
     "output_type": "stream",
     "text": [
      "C:\\Users\\thu71\\AppData\\Local\\Temp\\ipykernel_881480\\1507205534.py:7: FutureWarning: The default value of numeric_only in DataFrameGroupBy.sum is deprecated. In a future version, numeric_only will default to False. Either specify numeric_only or select only columns which should be valid for the function.\n",
      "  df_all.groupby(['Condition', 'FOV', 'Id']).sum().describe()\n"
     ]
    },
    {
     "data": {
      "text/html": [
       "<div>\n",
       "<style scoped>\n",
       "    .dataframe tbody tr th:only-of-type {\n",
       "        vertical-align: middle;\n",
       "    }\n",
       "\n",
       "    .dataframe tbody tr th {\n",
       "        vertical-align: top;\n",
       "    }\n",
       "\n",
       "    .dataframe thead th {\n",
       "        text-align: right;\n",
       "    }\n",
       "</style>\n",
       "<table border=\"1\" class=\"dataframe\">\n",
       "  <thead>\n",
       "    <tr style=\"text-align: right;\">\n",
       "      <th></th>\n",
       "      <th>Count_cell</th>\n",
       "      <th>Count_nuclei</th>\n",
       "      <th>Count_cyto</th>\n",
       "    </tr>\n",
       "  </thead>\n",
       "  <tbody>\n",
       "    <tr>\n",
       "      <th>count</th>\n",
       "      <td>1227.000000</td>\n",
       "      <td>1227.000000</td>\n",
       "      <td>1227.000000</td>\n",
       "    </tr>\n",
       "    <tr>\n",
       "      <th>mean</th>\n",
       "      <td>246.198044</td>\n",
       "      <td>106.938875</td>\n",
       "      <td>139.259169</td>\n",
       "    </tr>\n",
       "    <tr>\n",
       "      <th>std</th>\n",
       "      <td>102.454298</td>\n",
       "      <td>44.328564</td>\n",
       "      <td>74.714757</td>\n",
       "    </tr>\n",
       "    <tr>\n",
       "      <th>min</th>\n",
       "      <td>1.000000</td>\n",
       "      <td>0.000000</td>\n",
       "      <td>1.000000</td>\n",
       "    </tr>\n",
       "    <tr>\n",
       "      <th>25%</th>\n",
       "      <td>176.000000</td>\n",
       "      <td>81.000000</td>\n",
       "      <td>87.000000</td>\n",
       "    </tr>\n",
       "    <tr>\n",
       "      <th>50%</th>\n",
       "      <td>229.000000</td>\n",
       "      <td>103.000000</td>\n",
       "      <td>124.000000</td>\n",
       "    </tr>\n",
       "    <tr>\n",
       "      <th>75%</th>\n",
       "      <td>307.000000</td>\n",
       "      <td>131.000000</td>\n",
       "      <td>183.000000</td>\n",
       "    </tr>\n",
       "    <tr>\n",
       "      <th>max</th>\n",
       "      <td>599.000000</td>\n",
       "      <td>353.000000</td>\n",
       "      <td>414.000000</td>\n",
       "    </tr>\n",
       "  </tbody>\n",
       "</table>\n",
       "</div>"
      ],
      "text/plain": [
       "        Count_cell  Count_nuclei   Count_cyto\n",
       "count  1227.000000   1227.000000  1227.000000\n",
       "mean    246.198044    106.938875   139.259169\n",
       "std     102.454298     44.328564    74.714757\n",
       "min       1.000000      0.000000     1.000000\n",
       "25%     176.000000     81.000000    87.000000\n",
       "50%     229.000000    103.000000   124.000000\n",
       "75%     307.000000    131.000000   183.000000\n",
       "max     599.000000    353.000000   414.000000"
      ]
     },
     "execution_count": 7,
     "metadata": {},
     "output_type": "execute_result"
    }
   ],
   "source": [
    "# Filter out by maximum number of counts per cell\n",
    "min_count = 0\n",
    "max_count = 500\n",
    "\n",
    "df_all = df_all.groupby(['Condition', 'FOV', 'Id']).filter(lambda x: x['Count_cell'].sum() > min_count)\n",
    "df_all = df_all.groupby(['Condition', 'FOV', 'Id']).filter(lambda x: (x['Count_cell'] < max_count).all())\n",
    "df_all.groupby(['Condition', 'FOV', 'Id']).sum().describe()"
   ]
  },
  {
   "cell_type": "code",
   "execution_count": 8,
   "metadata": {},
   "outputs": [],
   "source": [
    "# Describe statistics\n",
    "df_all.groupby(['Condition', 'PPI'])['Count_cell'].describe().to_excel('data.xlsx')"
   ]
  },
  {
   "cell_type": "markdown",
   "metadata": {},
   "source": [
    "## Comparison between condition"
   ]
  },
  {
   "cell_type": "code",
   "execution_count": 9,
   "metadata": {},
   "outputs": [],
   "source": [
    "from statannotations.Annotator import Annotator\n",
    "import seaborn as sns"
   ]
  },
  {
   "cell_type": "code",
   "execution_count": 10,
   "metadata": {},
   "outputs": [],
   "source": [
    "from statannotations.Annotator import Annotator\n",
    "import seaborn as sns \n",
    "\n",
    "def plot(plotting, figsize=(7,7), y_title='Count PPI per cell'):\n",
    "    c1, c2 = plotting['data'][plotting['hue']].unique()\n",
    "    pairs = [((e, c1), (e, c2)) for e in plotting['data'][plotting['x']].unique()]\n",
    "\n",
    "    with sns.plotting_context('talk', font_scale=1.3):\n",
    "        fig, ax = plt.subplots(figsize=figsize)\n",
    "        ax = sns.boxplot(**plotting, showfliers=False, ax=ax)\n",
    "        # ax = sns.swarmplot(**plotting, ax=ax, dodge=True)\n",
    "        annot = Annotator(ax, pairs, **plotting)\n",
    "        annot.configure(test='Mann-Whitney', text_format='full', loc='outside', show_test_name=False)\n",
    "        result = annot.apply_test().annotate()\n",
    "        ax.set_ylabel(y_title, fontsize=40)\n",
    "        plt.xticks(rotation=30, ha='right')\n",
    "        plt.legend(bbox_to_anchor=(1.05, 1), loc='upper left', borderaxespad=0)"
   ]
  },
  {
   "cell_type": "code",
   "execution_count": 11,
   "metadata": {},
   "outputs": [
    {
     "data": {
      "text/plain": [
       "array(['Control', 'Treated'], dtype=object)"
      ]
     },
     "execution_count": 11,
     "metadata": {},
     "output_type": "execute_result"
    }
   ],
   "source": [
    "# Boxplot per cell\n",
    "plotting = {\n",
    "    \"data\": df_all,\n",
    "    \"x\": \"PPI\",\n",
    "    \"y\": \"Count_cell\",\n",
    "    \"hue\": \"Condition\"\n",
    "}\n",
    "\n",
    "df_all['Condition'] = df_all['Condition'].apply(lambda x: {'ctrl': 'Control', 'o': 'Treated'}.get(x, x))\n",
    "df_all['Condition'].unique()"
   ]
  },
  {
   "cell_type": "code",
   "execution_count": 12,
   "metadata": {},
   "outputs": [
    {
     "name": "stdout",
     "output_type": "stream",
     "text": [
      "cdc25c/p38_Control vs. cdc25c/p38_Treated: Mann-Whitney-Wilcoxon test two-sided, P_val:2.293e-113 U_stat=3.286e+05\n",
      "5 Pairs_Control vs. 5 Pairs_Treated: Mann-Whitney-Wilcoxon test two-sided, P_val:9.331e-02 U_stat=1.778e+05\n"
     ]
    },
    {
     "data": {
      "image/png": "[encoded data removed]",
      "text/plain": [
       "<Figure size 700x700 with 1 Axes>"
      ]
     },
     "metadata": {},
     "output_type": "display_data"
    }
   ],
   "source": [
    "# Boxplot per cell\n",
    "plotting = {\n",
    "    \"data\": df_all,\n",
    "    \"x\": \"PPI\",\n",
    "    \"y\": \"Count_cell\",\n",
    "    \"hue\": \"Condition\"\n",
    "}\n",
    "\n",
    "plot(plotting)"
   ]
  },
  {
   "cell_type": "code",
   "execution_count": 13,
   "metadata": {},
   "outputs": [],
   "source": [
    "plotting['data'].groupby([plotting['hue'], plotting['x']])[plotting['y']].describe().to_clipboard()"
   ]
  },
  {
   "cell_type": "markdown",
   "metadata": {},
   "source": [
    "# Pixel intensity comparison"
   ]
  },
  {
   "cell_type": "code",
   "execution_count": 14,
   "metadata": {},
   "outputs": [],
   "source": [
    "from statannotations.Annotator import Annotator\n",
    "import seaborn as sns"
   ]
  },
  {
   "cell_type": "code",
   "execution_count": 15,
   "metadata": {},
   "outputs": [],
   "source": [
    "# Read PPI\n",
    "PPI_save_path =  data_dir / 'indirect' / 'PPI' / 'expression'\n",
    "dfs = []\n",
    "for path in os.listdir(PPI_save_path):\n",
    "    if 'csv' in path:\n",
    "        df = pd.read_csv(PPI_save_path / path)\n",
    "        dfs.append(df)\n",
    "\n",
    "df = pd.concat(dfs)\n",
    "\n",
    "df['Condition'] = df['Condition'].apply(lambda x: {'ctrl': 'Control', 'O': 'Treated'}.get(x, x))\n",
    "df = df[df.PPI == '5 Pairs']\n",
    "df = df[df.Cyto != 0]"
   ]
  },
  {
   "cell_type": "code",
   "execution_count": 16,
   "metadata": {},
   "outputs": [
    {
     "data": {
      "text/html": [
       "<div>\n",
       "<style scoped>\n",
       "    .dataframe tbody tr th:only-of-type {\n",
       "        vertical-align: middle;\n",
       "    }\n",
       "\n",
       "    .dataframe tbody tr th {\n",
       "        vertical-align: top;\n",
       "    }\n",
       "\n",
       "    .dataframe thead th {\n",
       "        text-align: right;\n",
       "    }\n",
       "</style>\n",
       "<table border=\"1\" class=\"dataframe\">\n",
       "  <thead>\n",
       "    <tr style=\"text-align: right;\">\n",
       "      <th></th>\n",
       "      <th>Cyto</th>\n",
       "      <th>x</th>\n",
       "      <th>y</th>\n",
       "      <th>Intensity</th>\n",
       "      <th>PPI</th>\n",
       "      <th>Condition</th>\n",
       "      <th>FOV</th>\n",
       "    </tr>\n",
       "  </thead>\n",
       "  <tbody>\n",
       "    <tr>\n",
       "      <th>0</th>\n",
       "      <td>159</td>\n",
       "      <td>1113</td>\n",
       "      <td>4122</td>\n",
       "      <td>222</td>\n",
       "      <td>5 Pairs</td>\n",
       "      <td>Control</td>\n",
       "      <td>FW1</td>\n",
       "    </tr>\n",
       "    <tr>\n",
       "      <th>1</th>\n",
       "      <td>228</td>\n",
       "      <td>1444</td>\n",
       "      <td>4279</td>\n",
       "      <td>214</td>\n",
       "      <td>5 Pairs</td>\n",
       "      <td>Control</td>\n",
       "      <td>FW1</td>\n",
       "    </tr>\n",
       "    <tr>\n",
       "      <th>2</th>\n",
       "      <td>674</td>\n",
       "      <td>4565</td>\n",
       "      <td>5177</td>\n",
       "      <td>218</td>\n",
       "      <td>5 Pairs</td>\n",
       "      <td>Control</td>\n",
       "      <td>FW1</td>\n",
       "    </tr>\n",
       "    <tr>\n",
       "      <th>3</th>\n",
       "      <td>559</td>\n",
       "      <td>3954</td>\n",
       "      <td>3406</td>\n",
       "      <td>149</td>\n",
       "      <td>5 Pairs</td>\n",
       "      <td>Control</td>\n",
       "      <td>FW1</td>\n",
       "    </tr>\n",
       "    <tr>\n",
       "      <th>4</th>\n",
       "      <td>685</td>\n",
       "      <td>4593</td>\n",
       "      <td>5390</td>\n",
       "      <td>176</td>\n",
       "      <td>5 Pairs</td>\n",
       "      <td>Control</td>\n",
       "      <td>FW1</td>\n",
       "    </tr>\n",
       "  </tbody>\n",
       "</table>\n",
       "</div>"
      ],
      "text/plain": [
       "   Cyto     x     y  Intensity      PPI Condition  FOV\n",
       "0   159  1113  4122        222  5 Pairs   Control  FW1\n",
       "1   228  1444  4279        214  5 Pairs   Control  FW1\n",
       "2   674  4565  5177        218  5 Pairs   Control  FW1\n",
       "3   559  3954  3406        149  5 Pairs   Control  FW1\n",
       "4   685  4593  5390        176  5 Pairs   Control  FW1"
      ]
     },
     "execution_count": 16,
     "metadata": {},
     "output_type": "execute_result"
    }
   ],
   "source": [
    "df.head()"
   ]
  },
  {
   "cell_type": "code",
   "execution_count": 17,
   "metadata": {},
   "outputs": [],
   "source": [
    "df_int = df.groupby(['Cyto', 'Condition'])['Intensity'].sum()\n",
    "df_count = df.groupby(['Cyto', 'Condition'])['Intensity'].size()\n",
    "df_final = df_int.div(df_count)\n",
    "df_final = df_final.reset_index()\n",
    "df_final.columns = ['Cyto', 'Condition','Average Intensity']"
   ]
  },
  {
   "cell_type": "code",
   "execution_count": 18,
   "metadata": {},
   "outputs": [
    {
     "data": {
      "text/html": [
       "<div>\n",
       "<style scoped>\n",
       "    .dataframe tbody tr th:only-of-type {\n",
       "        vertical-align: middle;\n",
       "    }\n",
       "\n",
       "    .dataframe tbody tr th {\n",
       "        vertical-align: top;\n",
       "    }\n",
       "\n",
       "    .dataframe thead th {\n",
       "        text-align: right;\n",
       "    }\n",
       "</style>\n",
       "<table border=\"1\" class=\"dataframe\">\n",
       "  <thead>\n",
       "    <tr style=\"text-align: right;\">\n",
       "      <th></th>\n",
       "      <th>Cyto</th>\n",
       "      <th>Condition</th>\n",
       "      <th>Average Intensity</th>\n",
       "    </tr>\n",
       "  </thead>\n",
       "  <tbody>\n",
       "    <tr>\n",
       "      <th>0</th>\n",
       "      <td>28</td>\n",
       "      <td>Control</td>\n",
       "      <td>36.823009</td>\n",
       "    </tr>\n",
       "    <tr>\n",
       "      <th>1</th>\n",
       "      <td>29</td>\n",
       "      <td>Control</td>\n",
       "      <td>34.097222</td>\n",
       "    </tr>\n",
       "    <tr>\n",
       "      <th>2</th>\n",
       "      <td>30</td>\n",
       "      <td>Control</td>\n",
       "      <td>31.025641</td>\n",
       "    </tr>\n",
       "    <tr>\n",
       "      <th>3</th>\n",
       "      <td>32</td>\n",
       "      <td>o</td>\n",
       "      <td>21.765432</td>\n",
       "    </tr>\n",
       "    <tr>\n",
       "      <th>4</th>\n",
       "      <td>33</td>\n",
       "      <td>o</td>\n",
       "      <td>29.776699</td>\n",
       "    </tr>\n",
       "    <tr>\n",
       "      <th>...</th>\n",
       "      <td>...</td>\n",
       "      <td>...</td>\n",
       "      <td>...</td>\n",
       "    </tr>\n",
       "    <tr>\n",
       "      <th>1237</th>\n",
       "      <td>806</td>\n",
       "      <td>o</td>\n",
       "      <td>38.207469</td>\n",
       "    </tr>\n",
       "    <tr>\n",
       "      <th>1238</th>\n",
       "      <td>808</td>\n",
       "      <td>o</td>\n",
       "      <td>55.200000</td>\n",
       "    </tr>\n",
       "    <tr>\n",
       "      <th>1239</th>\n",
       "      <td>809</td>\n",
       "      <td>o</td>\n",
       "      <td>50.017986</td>\n",
       "    </tr>\n",
       "    <tr>\n",
       "      <th>1240</th>\n",
       "      <td>815</td>\n",
       "      <td>o</td>\n",
       "      <td>51.163366</td>\n",
       "    </tr>\n",
       "    <tr>\n",
       "      <th>1241</th>\n",
       "      <td>816</td>\n",
       "      <td>o</td>\n",
       "      <td>31.000000</td>\n",
       "    </tr>\n",
       "  </tbody>\n",
       "</table>\n",
       "<p>1242 rows × 3 columns</p>\n",
       "</div>"
      ],
      "text/plain": [
       "      Cyto Condition  Average Intensity\n",
       "0       28   Control          36.823009\n",
       "1       29   Control          34.097222\n",
       "2       30   Control          31.025641\n",
       "3       32         o          21.765432\n",
       "4       33         o          29.776699\n",
       "...    ...       ...                ...\n",
       "1237   806         o          38.207469\n",
       "1238   808         o          55.200000\n",
       "1239   809         o          50.017986\n",
       "1240   815         o          51.163366\n",
       "1241   816         o          31.000000\n",
       "\n",
       "[1242 rows x 3 columns]"
      ]
     },
     "execution_count": 18,
     "metadata": {},
     "output_type": "execute_result"
    }
   ],
   "source": [
    "df_final"
   ]
  },
  {
   "cell_type": "code",
   "execution_count": 19,
   "metadata": {},
   "outputs": [
    {
     "data": {
      "text/plain": [
       "array(['Control', 'Treated'], dtype=object)"
      ]
     },
     "execution_count": 19,
     "metadata": {},
     "output_type": "execute_result"
    }
   ],
   "source": [
    "df_final['Condition'] = df_final['Condition'].apply(lambda x: {'ctrl': 'Control', 'o': 'Treated'}.get(x, x))\n",
    "df_final['Condition'].unique()"
   ]
  },
  {
   "cell_type": "code",
   "execution_count": 20,
   "metadata": {},
   "outputs": [
    {
     "name": "stderr",
     "output_type": "stream",
     "text": [
      "No artists with labels found to put in legend.  Note that artists whose label start with an underscore are ignored when legend() is called with no argument.\n"
     ]
    },
    {
     "name": "stdout",
     "output_type": "stream",
     "text": [
      "Control vs. Treated: Mann-Whitney-Wilcoxon test two-sided, P_val:4.626e-16 U_stat=1.415e+05\n"
     ]
    },
    {
     "data": {
      "image/png": "[encoded data removed]",
      "text/plain": [
       "<Figure size 500x600 with 1 Axes>"
      ]
     },
     "metadata": {},
     "output_type": "display_data"
    }
   ],
   "source": [
    "# Boxplot per cell\n",
    "plotting = {\n",
    "    \"data\": df_final,\n",
    "    \"x\": \"Condition\",\n",
    "    \"y\": \"Average Intensity\",\n",
    "}\n",
    "\n",
    "pairs = [('Control', 'Treated')]\n",
    "\n",
    "with sns.plotting_context('talk', font_scale=1.2):\n",
    "    fig, ax = plt.subplots(figsize=(5,6))\n",
    "    ax = sns.boxplot(**plotting, showfliers=False, ax=ax)\n",
    "    # ax = sns.swarmplot(**plotting, ax=ax, dodge=True)\n",
    "    annot = Annotator(ax, pairs, **plotting)\n",
    "    annot.configure(test='Mann-Whitney',  text_format='full', loc='outside', show_test_name=False)\n",
    "    result = annot.apply_test().annotate()\n",
    "    ax.set_ylabel('Mean Pixel Intensity', fontsize=35)\n",
    "    plt.xticks(rotation=30, ha='right')\n",
    "    plt.legend(bbox_to_anchor=(1.05, 1), loc='upper left', borderaxespad=0)"
   ]
  },
  {
   "cell_type": "code",
   "execution_count": 22,
   "metadata": {},
   "outputs": [],
   "source": [
    "plotting['data'].groupby([plotting['x']])[plotting['y']].describe().to_clipboard()"
   ]
  },
  {
   "cell_type": "code",
   "execution_count": null,
   "metadata": {},
   "outputs": [],
   "source": []
  }
 ],
 "metadata": {
  "kernelspec": {
   "display_name": "PLA2",
   "language": "python",
   "name": "python3"
  },
  "language_info": {
   "codemirror_mode": {
    "name": "ipython",
    "version": 3
   },
   "file_extension": ".py",
   "mimetype": "text/x-python",
   "name": "python",
   "nbconvert_exporter": "python",
   "pygments_lexer": "ipython3",
   "version": "3.11.4"
  }
 },
 "nbformat": 4,
 "nbformat_minor": 2
}
