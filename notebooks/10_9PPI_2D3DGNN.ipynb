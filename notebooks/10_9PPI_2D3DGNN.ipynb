{
 "cells": [
  {
   "cell_type": "code",
   "execution_count": 1,
   "metadata": {},
   "outputs": [],
   "source": [
    "import os\n",
    "import sys\n",
    "from pathlib import Path\n",
    "\n",
    "import cv2\n",
    "import matplotlib.pyplot as plt\n",
    "import numpy as np\n",
    "import pandas as pd\n",
    "import skimage.io\n",
    "\n",
    "from collections import defaultdict\n",
    "from tqdm.auto import tqdm\n",
    "from joblib import Parallel, delayed\n",
    "import re\n",
    "import pickle\n",
    "\n",
    "import networkx as nx\n",
    "from sklearn.model_selection import train_test_split"
   ]
  },
  {
   "cell_type": "code",
   "execution_count": 2,
   "metadata": {},
   "outputs": [],
   "source": [
    "import torch_geometric.utils\n",
    "import torch"
   ]
  },
  {
   "cell_type": "code",
   "execution_count": 3,
   "metadata": {},
   "outputs": [],
   "source": [
    "%load_ext autoreload\n",
    "%autoreload 2"
   ]
  },
  {
   "cell_type": "code",
   "execution_count": 4,
   "metadata": {},
   "outputs": [],
   "source": [
    "p_dir = (Path().cwd().parents[0]).absolute()\n",
    "\n",
    "module_path = str(p_dir / \"src\")\n",
    "\n",
    "if module_path not in sys.path:\n",
    "    sys.path.append(module_path)"
   ]
  },
  {
   "cell_type": "code",
   "execution_count": 5,
   "metadata": {},
   "outputs": [],
   "source": [
    "data_dir = (Path().cwd().parents[0] / 'data').absolute()"
   ]
  },
  {
   "cell_type": "code",
   "execution_count": 6,
   "metadata": {},
   "outputs": [],
   "source": [
    "import lightning.pytorch as pl\n",
    "import PPIGraph"
   ]
  },
  {
   "cell_type": "markdown",
   "metadata": {},
   "source": [
    "# Load dataset"
   ]
  },
  {
   "cell_type": "code",
   "execution_count": 7,
   "metadata": {},
   "outputs": [],
   "source": [
    "from torch_geometric.loader import DataLoader\n",
    "\n",
    "# Define condition mapping\n",
    "condition_mapping = {'HCC827Ctrl': 0, 'HCC827Osim': 1}\n",
    "\n",
    "# Load graph dataset and process if neede\n",
    "graph_path = data_dir / '9PPI_3D' / 'graphs' \n",
    "\n",
    "dataset = PPIGraph.GraphDataset2D3D(graph_path, 'raw', '2D3D_pt', condition_mapping=condition_mapping, n_c=2)\n",
    "train_set, val_set, test_set = PPIGraph.train_test_val_split(dataset)\n",
    "\n",
    "# Create Dataloader\n",
    "train_loader = DataLoader(train_set, batch_size=32, shuffle=True)\n",
    "val_loader = DataLoader(val_set, batch_size=32, shuffle=True)\n",
    "test_loader = DataLoader(test_set, batch_size=32, shuffle=False)\n"
   ]
  },
  {
   "cell_type": "code",
   "execution_count": 8,
   "metadata": {},
   "outputs": [
    {
     "name": "stdout",
     "output_type": "stream",
     "text": [
      "Dataset: GraphDataset2D3D(1451):\n",
      "======================\n",
      "Number of graphs: 1451\n",
      "Number of features: 9\n",
      "Number of classes: 2\n",
      "Train set: 697, test set: 580, val set: 174\n",
      "Step 1:\n",
      "=======\n",
      "Number of graphs in the current batch: 32\n",
      "DataBatch(edge_index=[2, 94400], pos=[7055, 2], labels=[7055, 9], nuclei=[7055], weight=[94400], condition=[32], fov=[32], id=[32], pos3D=[7055, 3], edge_attr=[94400, 1], x=[7055, 9], y=[32], edge_weight_2D=[94400], edge_weight_3D=[94400], name=[32], batch=[7055], ptr=[33])\n",
      "\n"
     ]
    }
   ],
   "source": [
    "# Print some information on the dataset\n",
    "print(f'Dataset: {dataset}:')\n",
    "print('======================')\n",
    "print(f'Number of graphs: {len(dataset)}')\n",
    "print(f'Number of features: {dataset.num_features}')\n",
    "print(f'Number of classes: {dataset.num_classes}')\n",
    "\n",
    "print(f'Train set: {len(train_set)}, test set: {len(test_set)}, val set: {len(val_set)}')\n",
    "for step, data in enumerate(train_loader):\n",
    "\n",
    "    print(f'Step {step + 1}:')\n",
    "    print('=======')\n",
    "    print(f'Number of graphs in the current batch: {data.num_graphs}')\n",
    "    print(data)\n",
    "    print()\n",
    "    break"
   ]
  },
  {
   "cell_type": "code",
   "execution_count": 9,
   "metadata": {},
   "outputs": [],
   "source": [
    "# # Print some information on the dataset\n",
    "# print(f'Dataset: {dataset}:')\n",
    "# print('======================')\n",
    "# print(f'Number of graphs: {len(dataset)}')\n",
    "# print(f'Number of features: {dataset.num_features}')\n",
    "# print(f'Number of classes: {dataset.num_classes}')\n",
    "\n",
    "# print(f'Train set: {len(train_set)}, test set: {len(test_set)}, val set: {len(val_set)}')\n",
    "# for step, data in enumerate(train_loader):\n",
    "\n",
    "#     print(f'Step {step + 1}:')\n",
    "#     print('=======')\n",
    "#     print(f'Number of graphs in the current batch: {data.num_graphs}')\n",
    "#     print(data)\n",
    "#     print()\n",
    "#     break"
   ]
  },
  {
   "cell_type": "code",
   "execution_count": 10,
   "metadata": {},
   "outputs": [
    {
     "data": {
      "text/plain": [
       "tensor([0.0369, 0.2073, 0.1594,  ..., 0.0978, 0.0774, 0.0679])"
      ]
     },
     "execution_count": 10,
     "metadata": {},
     "output_type": "execute_result"
    }
   ],
   "source": [
    "data.edge_weight_2D"
   ]
  },
  {
   "cell_type": "code",
   "execution_count": 11,
   "metadata": {},
   "outputs": [
    {
     "data": {
      "text/plain": [
       "tensor([6.4687e-01, 8.0602e-06, 9.1852e-04,  ..., 6.0540e-03, 8.5520e-03,\n",
       "        8.7476e-03])"
      ]
     },
     "execution_count": 11,
     "metadata": {},
     "output_type": "execute_result"
    }
   ],
   "source": [
    "data.edge_weight_3D"
   ]
  },
  {
   "cell_type": "markdown",
   "metadata": {},
   "source": [
    "# K-fold on filter dataset"
   ]
  },
  {
   "cell_type": "code",
   "execution_count": 12,
   "metadata": {},
   "outputs": [],
   "source": [
    "import itertools\n",
    "from lightning.pytorch.accelerators import find_usable_cuda_devices\n",
    "import wandb"
   ]
  },
  {
   "cell_type": "code",
   "execution_count": 13,
   "metadata": {},
   "outputs": [],
   "source": [
    "from sklearn.model_selection import KFold, StratifiedKFold\n",
    "from torch.utils.data import SubsetRandomSampler"
   ]
  },
  {
   "cell_type": "code",
   "execution_count": 14,
   "metadata": {},
   "outputs": [],
   "source": [
    "# Filter out by maximum number of counts per cell\n",
    "min_count = 100\n",
    "max_count = 400\n",
    "\n",
    "graph_path = data_dir / '9PPI_3D' / 'graphs' \n",
    "dataset = PPIGraph.GraphDataset2D3D(graph_path, 'raw', '2D3D_pt', condition_mapping=condition_mapping, n_c=2)\n",
    "\n",
    "# Create Dataloader\n",
    "loader = DataLoader(dataset, batch_size=1, shuffle=False)\n",
    "\n",
    "# Get Indices\n",
    "indices = []\n",
    "for step, data in enumerate(loader):\n",
    "    if len(data.x) <= min_count:\n",
    "        continue \n",
    "    \n",
    "    if (data.x.sum(axis=0) >= max_count).any():\n",
    "        continue\n",
    "    indices.append(step)\n",
    "    \n",
    "# Get subset dataset\n",
    "dataset_filtered = dataset.index_select(indices)\n"
   ]
  },
  {
   "cell_type": "code",
   "execution_count": 15,
   "metadata": {},
   "outputs": [
    {
     "data": {
      "text/plain": [
       "1298"
      ]
     },
     "execution_count": 15,
     "metadata": {},
     "output_type": "execute_result"
    }
   ],
   "source": [
    "len(dataset_filtered)"
   ]
  },
  {
   "cell_type": "code",
   "execution_count": 16,
   "metadata": {},
   "outputs": [],
   "source": [
    "dataset_name = '9PPI_2D3D_fusion'\n",
    "condition = 'Kfold'\n",
    "checkpoint_folder = (Path().cwd().parents[0]).absolute() / 'data' / '9PPI_3D'/\"saved_models_fusion\" / dataset_name / f\"Graph_GNNs_{condition}\" \n",
    "project_name = f'PLA_01122024_{dataset_name}_{condition}'"
   ]
  },
  {
   "cell_type": "code",
   "execution_count": 22,
   "metadata": {},
   "outputs": [
    {
     "name": "stderr",
     "output_type": "stream",
     "text": [
      "Global seed set to 42\n"
     ]
    }
   ],
   "source": [
    "AVAIL_GPUS = [0]\n",
    "\n",
    "# Setting the seed\n",
    "pl.seed_everything(42)\n",
    "epochs = 65\n",
    "\n",
    "# NUM_LAYERS = 2\n",
    "# HIDDEN_CHANNELS = 16\n",
    "# pools = ['mean', 'max', 'sum', 'attention', 'attention2']\n",
    "# num_layers = [2,3,4]\n",
    "# hiddens = [16, 32, 64]\n",
    "\n",
    "\n",
    "# model = 'GAT'\n",
    "model = 'GINConv'\n",
    "params = [\n",
    "# [2,64,'attention','MLP'], \n",
    "# [2,64,'mean','GraphConv'],\n",
    "# [2,32,'attention2','GCN'],\n",
    "[4,32,'attention','GAT'],\n",
    "[2,16,'mean','GINConv']\n",
    "]"
   ]
  },
  {
   "cell_type": "code",
   "execution_count": 23,
   "metadata": {},
   "outputs": [
    {
     "data": {
      "text/plain": [
       "[[4, 32, 'attention', 'GAT'], [2, 16, 'mean', 'GINConv']]"
      ]
     },
     "execution_count": 23,
     "metadata": {},
     "output_type": "execute_result"
    }
   ],
   "source": [
    "params"
   ]
  },
  {
   "cell_type": "code",
   "execution_count": 24,
   "metadata": {},
   "outputs": [],
   "source": [
    "import PPIGraph\n",
    "import torch\n",
    "torch.set_float32_matmul_precision('medium')"
   ]
  },
  {
   "cell_type": "code",
   "execution_count": 25,
   "metadata": {},
   "outputs": [],
   "source": [
    "fusion = 'bilinear'"
   ]
  },
  {
   "cell_type": "code",
   "execution_count": 26,
   "metadata": {},
   "outputs": [
    {
     "data": {
      "application/vnd.jupyter.widget-view+json": {
       "model_id": "b03c855ddc1945ffb370062edc702348",
       "version_major": 2,
       "version_minor": 0
      },
      "text/plain": [
       "VBox(children=(Label(value='Waiting for wandb.init()...\\r'), FloatProgress(value=0.01693333333338766, max=1.0)…"
      ]
     },
     "metadata": {},
     "output_type": "display_data"
    },
    {
     "data": {
      "text/html": [
       "wandb version 0.16.2 is available!  To upgrade, please run:\n",
       " $ pip install wandb --upgrade"
      ],
      "text/plain": [
       "<IPython.core.display.HTML object>"
      ]
     },
     "metadata": {},
     "output_type": "display_data"
    },
    {
     "data": {
      "text/html": [
       "Tracking run with wandb version 0.14.0"
      ],
      "text/plain": [
       "<IPython.core.display.HTML object>"
      ]
     },
     "metadata": {},
     "output_type": "display_data"
    },
    {
     "data": {
      "text/html": [
       "Run data is saved locally in <code>y:\\coskun-lab\\Thomas\\23_PLA_revision\\notebooks\\wandb\\run-20240128_104407-mif8aafm</code>"
      ],
      "text/plain": [
       "<IPython.core.display.HTML object>"
      ]
     },
     "metadata": {},
     "output_type": "display_data"
    },
    {
     "data": {
      "text/html": [
       "Syncing run <strong><a href='https://wandb.ai/thoomas/PLA_01122024_9PPI_2D3D_fusion_Kfold/runs/mif8aafm' target=\"_blank\">GAT_4_32_bilinear_0</a></strong> to <a href='https://wandb.ai/thoomas/PLA_01122024_9PPI_2D3D_fusion_Kfold' target=\"_blank\">Weights & Biases</a> (<a href='https://wandb.me/run' target=\"_blank\">docs</a>)<br/>"
      ],
      "text/plain": [
       "<IPython.core.display.HTML object>"
      ]
     },
     "metadata": {},
     "output_type": "display_data"
    },
    {
     "data": {
      "text/html": [
       " View project at <a href='https://wandb.ai/thoomas/PLA_01122024_9PPI_2D3D_fusion_Kfold' target=\"_blank\">https://wandb.ai/thoomas/PLA_01122024_9PPI_2D3D_fusion_Kfold</a>"
      ],
      "text/plain": [
       "<IPython.core.display.HTML object>"
      ]
     },
     "metadata": {},
     "output_type": "display_data"
    },
    {
     "data": {
      "text/html": [
       " View run at <a href='https://wandb.ai/thoomas/PLA_01122024_9PPI_2D3D_fusion_Kfold/runs/mif8aafm' target=\"_blank\">https://wandb.ai/thoomas/PLA_01122024_9PPI_2D3D_fusion_Kfold/runs/mif8aafm</a>"
      ],
      "text/plain": [
       "<IPython.core.display.HTML object>"
      ]
     },
     "metadata": {},
     "output_type": "display_data"
    },
    {
     "name": "stderr",
     "output_type": "stream",
     "text": [
      "Global seed set to 42\n",
      "GPU available: True (cuda), used: True\n",
      "TPU available: False, using: 0 TPU cores\n",
      "IPU available: False, using: 0 IPUs\n",
      "HPU available: False, using: 0 HPUs\n",
      "Global seed set to 42\n",
      "LOCAL_RANK: 0 - CUDA_VISIBLE_DEVICES: [0,1]\n",
      "\n",
      "   | Name        | Type             | Params\n",
      "--------------------------------------------------\n",
      "0  | x_embedding | Identity         | 0     \n",
      "1  | model2D     | GAT              | 14.1 K\n",
      "2  | model3D     | GAT              | 14.1 K\n",
      "3  | head        | BilinearFusion   | 107 K \n",
      "4  | pred        | Sequential       | 66    \n",
      "5  | loss_module | CrossEntropyLoss | 0     \n",
      "6  | train_acc   | BinaryAccuracy   | 0     \n",
      "7  | train_auroc | BinaryAUROC      | 0     \n",
      "8  | train_f1    | BinaryF1Score    | 0     \n",
      "9  | valid_acc   | BinaryAccuracy   | 0     \n",
      "10 | valid_auroc | BinaryAUROC      | 0     \n",
      "11 | valid_f1    | BinaryF1Score    | 0     \n",
      "12 | pool2D      | GlobalAttention  | 33    \n",
      "13 | pool3D      | GlobalAttention  | 33    \n",
      "--------------------------------------------------\n",
      "136 K     Trainable params\n",
      "0         Non-trainable params\n",
      "136 K     Total params\n",
      "0.544     Total estimated model params size (MB)\n"
     ]
    },
    {
     "name": "stdout",
     "output_type": "stream",
     "text": [
      "Using GAT\n"
     ]
    },
    {
     "name": "stderr",
     "output_type": "stream",
     "text": [
      "`Trainer.fit` stopped: `max_epochs=65` reached.\n"
     ]
    },
    {
     "data": {
      "text/html": [
       "Waiting for W&B process to finish... <strong style=\"color:green\">(success).</strong>"
      ],
      "text/plain": [
       "<IPython.core.display.HTML object>"
      ]
     },
     "metadata": {},
     "output_type": "display_data"
    },
    {
     "data": {
      "application/vnd.jupyter.widget-view+json": {
       "model_id": "5b7c3acd307c4bca8f381cb93badffa0",
       "version_major": 2,
       "version_minor": 0
      },
      "text/plain": [
       "VBox(children=(Label(value='0.001 MB of 0.001 MB uploaded (0.000 MB deduped)\\r'), FloatProgress(value=1.0, max…"
      ]
     },
     "metadata": {},
     "output_type": "display_data"
    },
    {
     "data": {
      "text/html": [
       "<style>\n",
       "    table.wandb td:nth-child(1) { padding: 0 10px; text-align: left ; width: auto;} td:nth-child(2) {text-align: left ; width: 100%}\n",
       "    .wandb-row { display: flex; flex-direction: row; flex-wrap: wrap; justify-content: flex-start; width: 100% }\n",
       "    .wandb-col { display: flex; flex-direction: column; flex-basis: 100%; flex: 1; padding: 10px; }\n",
       "    </style>\n",
       "<div class=\"wandb-row\"><div class=\"wandb-col\"><h3>Run history:</h3><br/><table class=\"wandb\"><tr><td>epoch</td><td>▁▁▁▂▂▂▂▂▂▃▃▃▃▃▄▄▄▄▄▄▅▅▅▅▅▅▆▆▆▆▆▇▇▇▇▇▇███</td></tr><tr><td>lr-Adam</td><td>▁▁▁▁▁▁▁▁▁▁▁▁▁▁▁▁▁▁▁▁▁▁▁▁▁▁▁▁▁▁▁▁▁▁▁▁▁▁▁▁</td></tr><tr><td>train_acc</td><td>▁▅▅▅▆▇▆▇▇▇▇▇█▆▇▇▇▇█▇██▇▇██▇█▇█▇██▇▇████▇</td></tr><tr><td>train_auc</td><td>▁▄▅▅▆▆▆▆▆▇▇▇▇▆▇▇▇▇▇▇██▇▇▇▇▇▇▇█▇▇████▇▇█▇</td></tr><tr><td>train_f1</td><td>▁▂▆▁▄▆▆▆▆▇▆▆▇▅▇▆▇▇▇▆██▆▆▇▇▇▇▆█▇▇█▆█▇▇▇▇▇</td></tr><tr><td>train_loss_epoch</td><td>█▅▄▄▄▃▃▃▃▂▃▂▂▃▂▃▂▂▂▃▂▁▂▂▂▂▂▂▂▂▂▁▁▂▂▂▁▂▁▃</td></tr><tr><td>train_loss_step</td><td>█▅▂▇▃▃▁█▅▅▅▄▃▄▆▅▄▅█▃▅▆▅▃▅▄▇▂▄▂▃▃▅█▅▇▅▂▇▅</td></tr><tr><td>trainer/global_step</td><td>▁▁▁▂▁▂▂▁▃▃▂▃▂▂▄▂▂▄▂▂▅▂▂▅▂▆▆▂▆▆▃▇▃▃▇▃▃█▃▃</td></tr><tr><td>val_acc</td><td>▁▁▂▆▆▆▅▆▇▆█▅▄▆▅▄▇▇▅▅▆█▅▅▅▆▄▂▅▃▆▅▅▇▅▆█▇▅▅</td></tr><tr><td>val_auc</td><td>▁▂▄▄▅▆▆▇▆▆▅▇▆▅▆▆▇▇▅▆▅▆▆▆▇█▆▆▄████▅▇▅▇▇▆▇</td></tr><tr><td>val_f1</td><td>▁▁▂▆▆▅▄▆▇▆█▆▅▇▅▄▇▆▅▆██▆▅▅▅▄▂▆▄▆▅▅█▆▆█▆▅▅</td></tr><tr><td>val_loss_epoch</td><td>▆██▄▁▅▆▅▄▅▂▅▆▄▆▇▄▅▆▅▄▄▆▆▅▅▇█▅▇▅▅▆▂▅▅▃▄▆▆</td></tr><tr><td>val_loss_step</td><td>▆▁█▄▁▅▁█▄▂▃▁█▄▂▆▁█▄▂▄▂▅▁█▄▁▇▁█▄▃▆▂█▄▂▄▁▆</td></tr></table><br/></div><div class=\"wandb-col\"><h3>Run summary:</h3><br/><table class=\"wandb\"><tr><td>epoch</td><td>64</td></tr><tr><td>lr-Adam</td><td>0.005</td></tr><tr><td>train_acc</td><td>0.73603</td></tr><tr><td>train_auc</td><td>0.80096</td></tr><tr><td>train_f1</td><td>0.66908</td></tr><tr><td>train_loss_epoch</td><td>0.56474</td></tr><tr><td>train_loss_step</td><td>0.57458</td></tr><tr><td>trainer/global_step</td><td>1104</td></tr><tr><td>val_acc</td><td>0.69615</td></tr><tr><td>val_auc</td><td>0.81696</td></tr><tr><td>val_f1</td><td>0.35772</td></tr><tr><td>val_loss_epoch</td><td>0.7455</td></tr><tr><td>val_loss_step</td><td>1.31232</td></tr></table><br/></div></div>"
      ],
      "text/plain": [
       "<IPython.core.display.HTML object>"
      ]
     },
     "metadata": {},
     "output_type": "display_data"
    },
    {
     "data": {
      "text/html": [
       " View run <strong style=\"color:#cdcd00\">GAT_4_32_bilinear_0</strong> at: <a href='https://wandb.ai/thoomas/PLA_01122024_9PPI_2D3D_fusion_Kfold/runs/mif8aafm' target=\"_blank\">https://wandb.ai/thoomas/PLA_01122024_9PPI_2D3D_fusion_Kfold/runs/mif8aafm</a><br/>Synced 6 W&B file(s), 0 media file(s), 0 artifact file(s) and 0 other file(s)"
      ],
      "text/plain": [
       "<IPython.core.display.HTML object>"
      ]
     },
     "metadata": {},
     "output_type": "display_data"
    },
    {
     "data": {
      "text/html": [
       "Find logs at: <code>.\\wandb\\run-20240128_104407-mif8aafm\\logs</code>"
      ],
      "text/plain": [
       "<IPython.core.display.HTML object>"
      ]
     },
     "metadata": {},
     "output_type": "display_data"
    },
    {
     "data": {
      "application/vnd.jupyter.widget-view+json": {
       "model_id": "82ac3126b351417e871c099ba379d89a",
       "version_major": 2,
       "version_minor": 0
      },
      "text/plain": [
       "VBox(children=(Label(value='Waiting for wandb.init()...\\r'), FloatProgress(value=0.016916666666899498, max=1.0…"
      ]
     },
     "metadata": {},
     "output_type": "display_data"
    },
    {
     "data": {
      "text/html": [
       "wandb version 0.16.2 is available!  To upgrade, please run:\n",
       " $ pip install wandb --upgrade"
      ],
      "text/plain": [
       "<IPython.core.display.HTML object>"
      ]
     },
     "metadata": {},
     "output_type": "display_data"
    },
    {
     "data": {
      "text/html": [
       "Tracking run with wandb version 0.14.0"
      ],
      "text/plain": [
       "<IPython.core.display.HTML object>"
      ]
     },
     "metadata": {},
     "output_type": "display_data"
    },
    {
     "data": {
      "text/html": [
       "Run data is saved locally in <code>y:\\coskun-lab\\Thomas\\23_PLA_revision\\notebooks\\wandb\\run-20240128_114231-0yj3ucsz</code>"
      ],
      "text/plain": [
       "<IPython.core.display.HTML object>"
      ]
     },
     "metadata": {},
     "output_type": "display_data"
    },
    {
     "data": {
      "text/html": [
       "Syncing run <strong><a href='https://wandb.ai/thoomas/PLA_01122024_9PPI_2D3D_fusion_Kfold/runs/0yj3ucsz' target=\"_blank\">GINConv_2_16_bilinear_0</a></strong> to <a href='https://wandb.ai/thoomas/PLA_01122024_9PPI_2D3D_fusion_Kfold' target=\"_blank\">Weights & Biases</a> (<a href='https://wandb.me/run' target=\"_blank\">docs</a>)<br/>"
      ],
      "text/plain": [
       "<IPython.core.display.HTML object>"
      ]
     },
     "metadata": {},
     "output_type": "display_data"
    },
    {
     "data": {
      "text/html": [
       " View project at <a href='https://wandb.ai/thoomas/PLA_01122024_9PPI_2D3D_fusion_Kfold' target=\"_blank\">https://wandb.ai/thoomas/PLA_01122024_9PPI_2D3D_fusion_Kfold</a>"
      ],
      "text/plain": [
       "<IPython.core.display.HTML object>"
      ]
     },
     "metadata": {},
     "output_type": "display_data"
    },
    {
     "data": {
      "text/html": [
       " View run at <a href='https://wandb.ai/thoomas/PLA_01122024_9PPI_2D3D_fusion_Kfold/runs/0yj3ucsz' target=\"_blank\">https://wandb.ai/thoomas/PLA_01122024_9PPI_2D3D_fusion_Kfold/runs/0yj3ucsz</a>"
      ],
      "text/plain": [
       "<IPython.core.display.HTML object>"
      ]
     },
     "metadata": {},
     "output_type": "display_data"
    },
    {
     "name": "stderr",
     "output_type": "stream",
     "text": [
      "Global seed set to 42\n",
      "GPU available: True (cuda), used: True\n",
      "TPU available: False, using: 0 TPU cores\n",
      "IPU available: False, using: 0 IPUs\n",
      "HPU available: False, using: 0 HPUs\n",
      "Global seed set to 42\n",
      "LOCAL_RANK: 0 - CUDA_VISIBLE_DEVICES: [0,1]\n",
      "\n",
      "   | Name        | Type             | Params\n",
      "--------------------------------------------------\n",
      "0  | x_embedding | Identity         | 0     \n",
      "1  | model2D     | GIN              | 1.1 K \n",
      "2  | model3D     | GIN              | 1.1 K \n",
      "3  | head        | BilinearFusion   | 19.6 K\n",
      "4  | pred        | Sequential       | 34    \n",
      "5  | loss_module | CrossEntropyLoss | 0     \n",
      "6  | train_acc   | BinaryAccuracy   | 0     \n",
      "7  | train_auroc | BinaryAUROC      | 0     \n",
      "8  | train_f1    | BinaryF1Score    | 0     \n",
      "9  | valid_acc   | BinaryAccuracy   | 0     \n",
      "10 | valid_auroc | BinaryAUROC      | 0     \n",
      "11 | valid_f1    | BinaryF1Score    | 0     \n",
      "--------------------------------------------------\n",
      "21.8 K    Trainable params\n",
      "0         Non-trainable params\n",
      "21.8 K    Total params\n",
      "0.087     Total estimated model params size (MB)\n"
     ]
    },
    {
     "name": "stdout",
     "output_type": "stream",
     "text": [
      "GINConv\n"
     ]
    },
    {
     "name": "stderr",
     "output_type": "stream",
     "text": [
      "`Trainer.fit` stopped: `max_epochs=65` reached.\n"
     ]
    },
    {
     "data": {
      "text/html": [
       "Waiting for W&B process to finish... <strong style=\"color:green\">(success).</strong>"
      ],
      "text/plain": [
       "<IPython.core.display.HTML object>"
      ]
     },
     "metadata": {},
     "output_type": "display_data"
    },
    {
     "data": {
      "application/vnd.jupyter.widget-view+json": {
       "model_id": "d78dd25f401a4c9a9c303a899ab509b3",
       "version_major": 2,
       "version_minor": 0
      },
      "text/plain": [
       "VBox(children=(Label(value='0.001 MB of 0.001 MB uploaded (0.000 MB deduped)\\r'), FloatProgress(value=1.0, max…"
      ]
     },
     "metadata": {},
     "output_type": "display_data"
    },
    {
     "data": {
      "text/html": [
       "<style>\n",
       "    table.wandb td:nth-child(1) { padding: 0 10px; text-align: left ; width: auto;} td:nth-child(2) {text-align: left ; width: 100%}\n",
       "    .wandb-row { display: flex; flex-direction: row; flex-wrap: wrap; justify-content: flex-start; width: 100% }\n",
       "    .wandb-col { display: flex; flex-direction: column; flex-basis: 100%; flex: 1; padding: 10px; }\n",
       "    </style>\n",
       "<div class=\"wandb-row\"><div class=\"wandb-col\"><h3>Run history:</h3><br/><table class=\"wandb\"><tr><td>epoch</td><td>▁▁▁▂▂▂▂▂▂▃▃▃▃▃▄▄▄▄▄▄▅▅▅▅▅▅▆▆▆▆▆▇▇▇▇▇▇███</td></tr><tr><td>lr-Adam</td><td>▁▁▁▁▁▁▁▁▁▁▁▁▁▁▁▁▁▁▁▁▁▁▁▁▁▁▁▁▁▁▁▁▁▁▁▁▁▁▁▁</td></tr><tr><td>train_acc</td><td>▁▃▄▅▅▆▆▆▆▆▆▆▆▇▇▇▆▆▇▇▇█▇▇▇▆▇▇█▇▇█████████</td></tr><tr><td>train_auc</td><td>▁▃▅▅▆▇▆▆▆▆▆▇▇▇▇▆▇▇▇▇▇█▇▇▇▇█▇▇▇██▇▇██▇███</td></tr><tr><td>train_f1</td><td>▁▄▅▆▆▆▆▆▇▇▆▇▆▇▇▇▇▆▇▇▇██▇▇▆█▇█▇▇████▇█▇██</td></tr><tr><td>train_loss_epoch</td><td>█▆▄▄▄▃▃▃▃▃▃▃▃▂▃▂▃▃▂▂▂▁▂▂▂▂▁▂▂▂▁▁▁▂▁▂▁▁▁▁</td></tr><tr><td>train_loss_step</td><td>█▇▇▅▅▃█▅▂▄▄▂▅▃▂▄▅▂▁▅▁▂▆▂▄▃▅▃▃▃▆▅▂▃▃▂▂▂▄▃</td></tr><tr><td>trainer/global_step</td><td>▁▁▁▂▁▂▂▁▃▃▂▃▂▂▄▂▂▄▂▂▅▂▂▅▂▆▆▂▆▆▃▇▃▃▇▃▃█▃▃</td></tr><tr><td>val_acc</td><td>▂▃▆▂▄▄▆▇▆▁▇█▅█▅▆▆▆█▅▄▆▃▃▆▃▇▄▇▆▅▆▄▅▆▅▆▇▇▇</td></tr><tr><td>val_auc</td><td>▁▃▅▆▅▆▇▇▇▇▇█▇█▇▇▆▇▇▇▇█▇▆█▇█▆█▇█▇▇█▇▇▇▇██</td></tr><tr><td>val_f1</td><td>▁▃▆▂▄▇▆▆▆▇▆▇▅▇▅▅▇▇▇▇▄█▆▄▇▃▇▆▆▇▅▇▇▇▇▅▆▆▇▇</td></tr><tr><td>val_loss_epoch</td><td>▇▅▄█▇▃▅▅▅▂▄▆▇▂▆▆▂▄▅▂▇▁▄█▄▇▄▆▅▃▇▅▅▃▄▆▇▆▅▄</td></tr><tr><td>val_loss_step</td><td>▄▁▅▄▃▂▃▆▃▂▃▁█▃▃▃▂▅▃▃▄▄▂▂▅▄▃▂▂▄▃▃▂▃▅▄▂▃▂▂</td></tr></table><br/></div><div class=\"wandb-col\"><h3>Run summary:</h3><br/><table class=\"wandb\"><tr><td>epoch</td><td>64</td></tr><tr><td>lr-Adam</td><td>0.005</td></tr><tr><td>train_acc</td><td>0.80636</td></tr><tr><td>train_auc</td><td>0.84937</td></tr><tr><td>train_f1</td><td>0.74906</td></tr><tr><td>train_loss_epoch</td><td>0.5061</td></tr><tr><td>train_loss_step</td><td>0.49667</td></tr><tr><td>trainer/global_step</td><td>1104</td></tr><tr><td>val_acc</td><td>0.77308</td></tr><tr><td>val_auc</td><td>0.84562</td></tr><tr><td>val_f1</td><td>0.70051</td></tr><tr><td>val_loss_epoch</td><td>0.59875</td></tr><tr><td>val_loss_step</td><td>0.90133</td></tr></table><br/></div></div>"
      ],
      "text/plain": [
       "<IPython.core.display.HTML object>"
      ]
     },
     "metadata": {},
     "output_type": "display_data"
    },
    {
     "data": {
      "text/html": [
       " View run <strong style=\"color:#cdcd00\">GINConv_2_16_bilinear_0</strong> at: <a href='https://wandb.ai/thoomas/PLA_01122024_9PPI_2D3D_fusion_Kfold/runs/0yj3ucsz' target=\"_blank\">https://wandb.ai/thoomas/PLA_01122024_9PPI_2D3D_fusion_Kfold/runs/0yj3ucsz</a><br/>Synced 6 W&B file(s), 0 media file(s), 0 artifact file(s) and 0 other file(s)"
      ],
      "text/plain": [
       "<IPython.core.display.HTML object>"
      ]
     },
     "metadata": {},
     "output_type": "display_data"
    },
    {
     "data": {
      "text/html": [
       "Find logs at: <code>.\\wandb\\run-20240128_114231-0yj3ucsz\\logs</code>"
      ],
      "text/plain": [
       "<IPython.core.display.HTML object>"
      ]
     },
     "metadata": {},
     "output_type": "display_data"
    },
    {
     "data": {
      "application/vnd.jupyter.widget-view+json": {
       "model_id": "418f0b89d75b41809b2cb3336f23ff74",
       "version_major": 2,
       "version_minor": 0
      },
      "text/plain": [
       "VBox(children=(Label(value='Waiting for wandb.init()...\\r'), FloatProgress(value=0.01693333333338766, max=1.0)…"
      ]
     },
     "metadata": {},
     "output_type": "display_data"
    },
    {
     "data": {
      "text/html": [
       "wandb version 0.16.2 is available!  To upgrade, please run:\n",
       " $ pip install wandb --upgrade"
      ],
      "text/plain": [
       "<IPython.core.display.HTML object>"
      ]
     },
     "metadata": {},
     "output_type": "display_data"
    },
    {
     "data": {
      "text/html": [
       "Tracking run with wandb version 0.14.0"
      ],
      "text/plain": [
       "<IPython.core.display.HTML object>"
      ]
     },
     "metadata": {},
     "output_type": "display_data"
    },
    {
     "data": {
      "text/html": [
       "Run data is saved locally in <code>y:\\coskun-lab\\Thomas\\23_PLA_revision\\notebooks\\wandb\\run-20240128_123909-fk987foq</code>"
      ],
      "text/plain": [
       "<IPython.core.display.HTML object>"
      ]
     },
     "metadata": {},
     "output_type": "display_data"
    },
    {
     "data": {
      "text/html": [
       "Syncing run <strong><a href='https://wandb.ai/thoomas/PLA_01122024_9PPI_2D3D_fusion_Kfold/runs/fk987foq' target=\"_blank\">GAT_4_32_bilinear_1</a></strong> to <a href='https://wandb.ai/thoomas/PLA_01122024_9PPI_2D3D_fusion_Kfold' target=\"_blank\">Weights & Biases</a> (<a href='https://wandb.me/run' target=\"_blank\">docs</a>)<br/>"
      ],
      "text/plain": [
       "<IPython.core.display.HTML object>"
      ]
     },
     "metadata": {},
     "output_type": "display_data"
    },
    {
     "data": {
      "text/html": [
       " View project at <a href='https://wandb.ai/thoomas/PLA_01122024_9PPI_2D3D_fusion_Kfold' target=\"_blank\">https://wandb.ai/thoomas/PLA_01122024_9PPI_2D3D_fusion_Kfold</a>"
      ],
      "text/plain": [
       "<IPython.core.display.HTML object>"
      ]
     },
     "metadata": {},
     "output_type": "display_data"
    },
    {
     "data": {
      "text/html": [
       " View run at <a href='https://wandb.ai/thoomas/PLA_01122024_9PPI_2D3D_fusion_Kfold/runs/fk987foq' target=\"_blank\">https://wandb.ai/thoomas/PLA_01122024_9PPI_2D3D_fusion_Kfold/runs/fk987foq</a>"
      ],
      "text/plain": [
       "<IPython.core.display.HTML object>"
      ]
     },
     "metadata": {},
     "output_type": "display_data"
    },
    {
     "name": "stderr",
     "output_type": "stream",
     "text": [
      "Global seed set to 42\n",
      "GPU available: True (cuda), used: True\n",
      "TPU available: False, using: 0 TPU cores\n",
      "IPU available: False, using: 0 IPUs\n",
      "HPU available: False, using: 0 HPUs\n",
      "Global seed set to 42\n",
      "LOCAL_RANK: 0 - CUDA_VISIBLE_DEVICES: [0,1]\n",
      "\n",
      "   | Name        | Type             | Params\n",
      "--------------------------------------------------\n",
      "0  | x_embedding | Identity         | 0     \n",
      "1  | model2D     | GAT              | 14.1 K\n",
      "2  | model3D     | GAT              | 14.1 K\n",
      "3  | head        | BilinearFusion   | 107 K \n",
      "4  | pred        | Sequential       | 66    \n",
      "5  | loss_module | CrossEntropyLoss | 0     \n",
      "6  | train_acc   | BinaryAccuracy   | 0     \n",
      "7  | train_auroc | BinaryAUROC      | 0     \n",
      "8  | train_f1    | BinaryF1Score    | 0     \n",
      "9  | valid_acc   | BinaryAccuracy   | 0     \n",
      "10 | valid_auroc | BinaryAUROC      | 0     \n",
      "11 | valid_f1    | BinaryF1Score    | 0     \n",
      "12 | pool2D      | GlobalAttention  | 33    \n",
      "13 | pool3D      | GlobalAttention  | 33    \n",
      "--------------------------------------------------\n",
      "136 K     Trainable params\n",
      "0         Non-trainable params\n",
      "136 K     Total params\n",
      "0.544     Total estimated model params size (MB)\n"
     ]
    },
    {
     "name": "stdout",
     "output_type": "stream",
     "text": [
      "Using GAT\n"
     ]
    },
    {
     "name": "stderr",
     "output_type": "stream",
     "text": [
      "`Trainer.fit` stopped: `max_epochs=65` reached.\n"
     ]
    },
    {
     "data": {
      "text/html": [
       "Waiting for W&B process to finish... <strong style=\"color:green\">(success).</strong>"
      ],
      "text/plain": [
       "<IPython.core.display.HTML object>"
      ]
     },
     "metadata": {},
     "output_type": "display_data"
    },
    {
     "data": {
      "application/vnd.jupyter.widget-view+json": {
       "model_id": "c94bbfabc93847608e5a0ddc36096bb2",
       "version_major": 2,
       "version_minor": 0
      },
      "text/plain": [
       "VBox(children=(Label(value='0.001 MB of 0.001 MB uploaded (0.000 MB deduped)\\r'), FloatProgress(value=1.0, max…"
      ]
     },
     "metadata": {},
     "output_type": "display_data"
    },
    {
     "data": {
      "text/html": [
       "<style>\n",
       "    table.wandb td:nth-child(1) { padding: 0 10px; text-align: left ; width: auto;} td:nth-child(2) {text-align: left ; width: 100%}\n",
       "    .wandb-row { display: flex; flex-direction: row; flex-wrap: wrap; justify-content: flex-start; width: 100% }\n",
       "    .wandb-col { display: flex; flex-direction: column; flex-basis: 100%; flex: 1; padding: 10px; }\n",
       "    </style>\n",
       "<div class=\"wandb-row\"><div class=\"wandb-col\"><h3>Run history:</h3><br/><table class=\"wandb\"><tr><td>epoch</td><td>▁▁▁▂▂▂▂▂▂▃▃▃▃▃▄▄▄▄▄▄▅▅▅▅▅▅▆▆▆▆▆▇▇▇▇▇▇███</td></tr><tr><td>lr-Adam</td><td>▁▁▁▁▁▁▁▁▁▁▁▁▁▁▁▁▁▁▁▁▁▁▁▁▁▁▁▁▁▁▁▁▁▁▁▁▁▁▁▁</td></tr><tr><td>train_acc</td><td>▁▄▅▆▆▆▆▇▆▇▆▆▇▇▇▇▆▇▇▆▆▇▇▇▇▇▇█▆▆▇█▇▇█▇▇▇▇▇</td></tr><tr><td>train_auc</td><td>▁▄▅▆▆▆▆▇▇▇▇▆▇▇▇▇▇▇▇▇▇▇▇▇▇▇▇▇▇▇██▇▇██▇▇█▇</td></tr><tr><td>train_f1</td><td>▁▁▄▅▅▆▆▆▅▆▅▅▆▆▇▆▆▅▆▆▄▆▆▆▇█▇█▅▇▇▇▇▆█▆▆▆▆▇</td></tr><tr><td>train_loss_epoch</td><td>█▅▄▃▃▃▃▃▃▂▃▃▃▂▂▂▃▃▂▃▃▂▂▃▂▂▂▁▃▃▁▁▃▂▁▂▃▃▂▂</td></tr><tr><td>train_loss_step</td><td>█▇▄▃▄▆█▆▅▅▃▅▆▃▃▄▅▅▆▃▄▄▄▅▂▄▃▅▅▅▄▁▃▅▃▆▄▅▅▇</td></tr><tr><td>trainer/global_step</td><td>▁▁▁▂▁▂▂▁▃▃▂▃▂▂▄▂▂▄▂▂▅▂▂▅▂▆▆▂▆▆▃▇▃▃▇▃▃█▃▃</td></tr><tr><td>val_acc</td><td>▁▁▅▆▆▇▇▇▆▇█▇▆▇█▇▆▇▇▆▇▆▆▇▇▆▆▅▅▆▆▇▆▇█▇█▇▇▇</td></tr><tr><td>val_auc</td><td>▄▄▂▅▁▄▅▄▃▄▆▅▇▅▆▆▅▃▄▇▅▇▆▇▆▅▆▆▄▇▆▆▃▆▅▅▇▆▆█</td></tr><tr><td>val_f1</td><td>▁▁▅▆▆▇▆█▅▆█▆▆▆██▆▇▇▆▇▆▆▆▇▆▅▅▅▆▆▇▆▆▇▇▇▆▆▇</td></tr><tr><td>val_loss_epoch</td><td>▆█▆▃▆▄▄▂▆▅▂▅▅▄▁▃▄▃▄▅▃▅▄▅▄▅▆▆▅▅▄▅▅▄▂▄▄▅▅▄</td></tr><tr><td>val_loss_step</td><td>▆▁█▅▁▄▁▆▅▁▄▁█▄▁▄▁▆▄▁▄▁▅▁▇▄▁▆▁█▄▁▅▁▅▄▁▅▁▅</td></tr></table><br/></div><div class=\"wandb-col\"><h3>Run summary:</h3><br/><table class=\"wandb\"><tr><td>epoch</td><td>64</td></tr><tr><td>lr-Adam</td><td>0.005</td></tr><tr><td>train_acc</td><td>0.75723</td></tr><tr><td>train_auc</td><td>0.79923</td></tr><tr><td>train_f1</td><td>0.69042</td></tr><tr><td>train_loss_epoch</td><td>0.54851</td></tr><tr><td>train_loss_step</td><td>0.60665</td></tr><tr><td>trainer/global_step</td><td>1104</td></tr><tr><td>val_acc</td><td>0.7</td></tr><tr><td>val_auc</td><td>0.78558</td></tr><tr><td>val_f1</td><td>0.5</td></tr><tr><td>val_loss_epoch</td><td>0.72443</td></tr><tr><td>val_loss_step</td><td>1.25491</td></tr></table><br/></div></div>"
      ],
      "text/plain": [
       "<IPython.core.display.HTML object>"
      ]
     },
     "metadata": {},
     "output_type": "display_data"
    },
    {
     "data": {
      "text/html": [
       " View run <strong style=\"color:#cdcd00\">GAT_4_32_bilinear_1</strong> at: <a href='https://wandb.ai/thoomas/PLA_01122024_9PPI_2D3D_fusion_Kfold/runs/fk987foq' target=\"_blank\">https://wandb.ai/thoomas/PLA_01122024_9PPI_2D3D_fusion_Kfold/runs/fk987foq</a><br/>Synced 6 W&B file(s), 0 media file(s), 0 artifact file(s) and 0 other file(s)"
      ],
      "text/plain": [
       "<IPython.core.display.HTML object>"
      ]
     },
     "metadata": {},
     "output_type": "display_data"
    },
    {
     "data": {
      "text/html": [
       "Find logs at: <code>.\\wandb\\run-20240128_123909-fk987foq\\logs</code>"
      ],
      "text/plain": [
       "<IPython.core.display.HTML object>"
      ]
     },
     "metadata": {},
     "output_type": "display_data"
    },
    {
     "data": {
      "application/vnd.jupyter.widget-view+json": {
       "model_id": "b9cb3ce6fa894e68a44f6e3929f9092a",
       "version_major": 2,
       "version_minor": 0
      },
      "text/plain": [
       "VBox(children=(Label(value='Waiting for wandb.init()...\\r'), FloatProgress(value=0.016916666666899498, max=1.0…"
      ]
     },
     "metadata": {},
     "output_type": "display_data"
    },
    {
     "data": {
      "text/html": [
       "wandb version 0.16.2 is available!  To upgrade, please run:\n",
       " $ pip install wandb --upgrade"
      ],
      "text/plain": [
       "<IPython.core.display.HTML object>"
      ]
     },
     "metadata": {},
     "output_type": "display_data"
    },
    {
     "data": {
      "text/html": [
       "Tracking run with wandb version 0.14.0"
      ],
      "text/plain": [
       "<IPython.core.display.HTML object>"
      ]
     },
     "metadata": {},
     "output_type": "display_data"
    },
    {
     "data": {
      "text/html": [
       "Run data is saved locally in <code>y:\\coskun-lab\\Thomas\\23_PLA_revision\\notebooks\\wandb\\run-20240128_133641-xljkpvy4</code>"
      ],
      "text/plain": [
       "<IPython.core.display.HTML object>"
      ]
     },
     "metadata": {},
     "output_type": "display_data"
    },
    {
     "data": {
      "text/html": [
       "Syncing run <strong><a href='https://wandb.ai/thoomas/PLA_01122024_9PPI_2D3D_fusion_Kfold/runs/xljkpvy4' target=\"_blank\">GINConv_2_16_bilinear_1</a></strong> to <a href='https://wandb.ai/thoomas/PLA_01122024_9PPI_2D3D_fusion_Kfold' target=\"_blank\">Weights & Biases</a> (<a href='https://wandb.me/run' target=\"_blank\">docs</a>)<br/>"
      ],
      "text/plain": [
       "<IPython.core.display.HTML object>"
      ]
     },
     "metadata": {},
     "output_type": "display_data"
    },
    {
     "data": {
      "text/html": [
       " View project at <a href='https://wandb.ai/thoomas/PLA_01122024_9PPI_2D3D_fusion_Kfold' target=\"_blank\">https://wandb.ai/thoomas/PLA_01122024_9PPI_2D3D_fusion_Kfold</a>"
      ],
      "text/plain": [
       "<IPython.core.display.HTML object>"
      ]
     },
     "metadata": {},
     "output_type": "display_data"
    },
    {
     "data": {
      "text/html": [
       " View run at <a href='https://wandb.ai/thoomas/PLA_01122024_9PPI_2D3D_fusion_Kfold/runs/xljkpvy4' target=\"_blank\">https://wandb.ai/thoomas/PLA_01122024_9PPI_2D3D_fusion_Kfold/runs/xljkpvy4</a>"
      ],
      "text/plain": [
       "<IPython.core.display.HTML object>"
      ]
     },
     "metadata": {},
     "output_type": "display_data"
    },
    {
     "name": "stderr",
     "output_type": "stream",
     "text": [
      "Global seed set to 42\n",
      "GPU available: True (cuda), used: True\n",
      "TPU available: False, using: 0 TPU cores\n",
      "IPU available: False, using: 0 IPUs\n",
      "HPU available: False, using: 0 HPUs\n",
      "Global seed set to 42\n",
      "LOCAL_RANK: 0 - CUDA_VISIBLE_DEVICES: [0,1]\n",
      "\n",
      "   | Name        | Type             | Params\n",
      "--------------------------------------------------\n",
      "0  | x_embedding | Identity         | 0     \n",
      "1  | model2D     | GIN              | 1.1 K \n",
      "2  | model3D     | GIN              | 1.1 K \n",
      "3  | head        | BilinearFusion   | 19.6 K\n",
      "4  | pred        | Sequential       | 34    \n",
      "5  | loss_module | CrossEntropyLoss | 0     \n",
      "6  | train_acc   | BinaryAccuracy   | 0     \n",
      "7  | train_auroc | BinaryAUROC      | 0     \n",
      "8  | train_f1    | BinaryF1Score    | 0     \n",
      "9  | valid_acc   | BinaryAccuracy   | 0     \n",
      "10 | valid_auroc | BinaryAUROC      | 0     \n",
      "11 | valid_f1    | BinaryF1Score    | 0     \n",
      "--------------------------------------------------\n",
      "21.8 K    Trainable params\n",
      "0         Non-trainable params\n",
      "21.8 K    Total params\n",
      "0.087     Total estimated model params size (MB)\n"
     ]
    },
    {
     "name": "stdout",
     "output_type": "stream",
     "text": [
      "GINConv\n"
     ]
    },
    {
     "name": "stderr",
     "output_type": "stream",
     "text": [
      "`Trainer.fit` stopped: `max_epochs=65` reached.\n"
     ]
    },
    {
     "data": {
      "text/html": [
       "Waiting for W&B process to finish... <strong style=\"color:green\">(success).</strong>"
      ],
      "text/plain": [
       "<IPython.core.display.HTML object>"
      ]
     },
     "metadata": {},
     "output_type": "display_data"
    },
    {
     "data": {
      "application/vnd.jupyter.widget-view+json": {
       "model_id": "11aa5ac4bef2436baac1436e843f0b57",
       "version_major": 2,
       "version_minor": 0
      },
      "text/plain": [
       "VBox(children=(Label(value='0.001 MB of 0.001 MB uploaded (0.000 MB deduped)\\r'), FloatProgress(value=1.0, max…"
      ]
     },
     "metadata": {},
     "output_type": "display_data"
    },
    {
     "data": {
      "text/html": [
       "<style>\n",
       "    table.wandb td:nth-child(1) { padding: 0 10px; text-align: left ; width: auto;} td:nth-child(2) {text-align: left ; width: 100%}\n",
       "    .wandb-row { display: flex; flex-direction: row; flex-wrap: wrap; justify-content: flex-start; width: 100% }\n",
       "    .wandb-col { display: flex; flex-direction: column; flex-basis: 100%; flex: 1; padding: 10px; }\n",
       "    </style>\n",
       "<div class=\"wandb-row\"><div class=\"wandb-col\"><h3>Run history:</h3><br/><table class=\"wandb\"><tr><td>epoch</td><td>▁▁▁▂▂▂▂▂▂▃▃▃▃▃▄▄▄▄▄▄▅▅▅▅▅▅▆▆▆▆▆▇▇▇▇▇▇███</td></tr><tr><td>lr-Adam</td><td>▁▁▁▁▁▁▁▁▁▁▁▁▁▁▁▁▁▁▁▁▁▁▁▁▁▁▁▁▁▁▁▁▁▁▁▁▁▁▁▁</td></tr><tr><td>train_acc</td><td>▁▃▅▅▅▆▅▆▆▆▇▆▇▆▆▇▇▇▇▇▆▇▇▇█▇▇▇█▇▇█████▆▇██</td></tr><tr><td>train_auc</td><td>▁▃▅▅▆▆▆▆▆▆▇▇▇▇▇▇▇▇▇▇▇▇███▇▇▇█▇██████▇▇██</td></tr><tr><td>train_f1</td><td>▁▄▆▆▆▇▇▇▆▇▇▆▇▇▇▇▇▇▇▇▇▇▇▇█▇▇██▇▇█████▇▇██</td></tr><tr><td>train_loss_epoch</td><td>█▆▄▄▄▃▄▃▃▃▂▃▃▃▂▂▂▂▂▂▃▂▁▂▁▂▂▁▂▂▁▁▁▁▁▁▃▂▁▁</td></tr><tr><td>train_loss_step</td><td>▇▇▆▅▃▄█▅▅▅▅▃█▄▃▂▃▃▃▆▅▄▃▄▂▃▃▅▂▂▁▆▄▂▃▁▄▄▃▅</td></tr><tr><td>trainer/global_step</td><td>▁▁▁▂▁▂▂▁▃▃▂▃▂▂▄▂▂▄▂▂▅▂▂▅▂▆▆▂▆▆▃▇▃▃▇▃▃█▃▃</td></tr><tr><td>val_acc</td><td>▂▃▄▄▄▂▄▅▄▅▄▇▅▆▁▅█▇▅▅▇▄▆▆▆▁▇▅▇█▅▇▆▇▆▆▄▇▇▆</td></tr><tr><td>val_auc</td><td>▁▄▄▃▄▅▄▅▆▅▅▇▄▆▆▇▇▇▆▆▇▆▇▆▇▆▇▆▆▇▇▇▇█▇▇▄▆▇▅</td></tr><tr><td>val_f1</td><td>▁▃▆▄▆▇▅▆▄▆▇▇▆▇▇▇█▇▇▅█▇▆▇▇▇██▇█▇▇▇▇▆▇▄▇█▇</td></tr><tr><td>val_loss_epoch</td><td>▇█▄█▄▃▇▇▇▅▅▄▆▆▃▁▃▅▄▇▁▃▆▆▄▃▃▄▆▄▆▅▅▅▆▆█▅▄▆</td></tr><tr><td>val_loss_step</td><td>▅▁▄▄▁▂▃█▅▃▂▂█▄▂▂▂█▄▁▄▂▄▁▆▃▁▂▂▆▄▂▃▂█▄▁▃▃▄</td></tr></table><br/></div><div class=\"wandb-col\"><h3>Run summary:</h3><br/><table class=\"wandb\"><tr><td>epoch</td><td>64</td></tr><tr><td>lr-Adam</td><td>0.005</td></tr><tr><td>train_acc</td><td>0.8025</td></tr><tr><td>train_auc</td><td>0.85154</td></tr><tr><td>train_f1</td><td>0.73062</td></tr><tr><td>train_loss_epoch</td><td>0.50816</td></tr><tr><td>train_loss_step</td><td>0.58115</td></tr><tr><td>trainer/global_step</td><td>1104</td></tr><tr><td>val_acc</td><td>0.73846</td></tr><tr><td>val_auc</td><td>0.80175</td></tr><tr><td>val_f1</td><td>0.64583</td></tr><tr><td>val_loss_epoch</td><td>0.65235</td></tr><tr><td>val_loss_step</td><td>1.04635</td></tr></table><br/></div></div>"
      ],
      "text/plain": [
       "<IPython.core.display.HTML object>"
      ]
     },
     "metadata": {},
     "output_type": "display_data"
    },
    {
     "data": {
      "text/html": [
       " View run <strong style=\"color:#cdcd00\">GINConv_2_16_bilinear_1</strong> at: <a href='https://wandb.ai/thoomas/PLA_01122024_9PPI_2D3D_fusion_Kfold/runs/xljkpvy4' target=\"_blank\">https://wandb.ai/thoomas/PLA_01122024_9PPI_2D3D_fusion_Kfold/runs/xljkpvy4</a><br/>Synced 6 W&B file(s), 0 media file(s), 0 artifact file(s) and 0 other file(s)"
      ],
      "text/plain": [
       "<IPython.core.display.HTML object>"
      ]
     },
     "metadata": {},
     "output_type": "display_data"
    },
    {
     "data": {
      "text/html": [
       "Find logs at: <code>.\\wandb\\run-20240128_133641-xljkpvy4\\logs</code>"
      ],
      "text/plain": [
       "<IPython.core.display.HTML object>"
      ]
     },
     "metadata": {},
     "output_type": "display_data"
    },
    {
     "data": {
      "application/vnd.jupyter.widget-view+json": {
       "model_id": "efe6fa3d613b4591ab115cbbf4167201",
       "version_major": 2,
       "version_minor": 0
      },
      "text/plain": [
       "VBox(children=(Label(value='Waiting for wandb.init()...\\r'), FloatProgress(value=0.01693333333435779, max=1.0)…"
      ]
     },
     "metadata": {},
     "output_type": "display_data"
    },
    {
     "data": {
      "text/html": [
       "wandb version 0.16.2 is available!  To upgrade, please run:\n",
       " $ pip install wandb --upgrade"
      ],
      "text/plain": [
       "<IPython.core.display.HTML object>"
      ]
     },
     "metadata": {},
     "output_type": "display_data"
    },
    {
     "data": {
      "text/html": [
       "Tracking run with wandb version 0.14.0"
      ],
      "text/plain": [
       "<IPython.core.display.HTML object>"
      ]
     },
     "metadata": {},
     "output_type": "display_data"
    },
    {
     "data": {
      "text/html": [
       "Run data is saved locally in <code>y:\\coskun-lab\\Thomas\\23_PLA_revision\\notebooks\\wandb\\run-20240128_143450-wgej8b20</code>"
      ],
      "text/plain": [
       "<IPython.core.display.HTML object>"
      ]
     },
     "metadata": {},
     "output_type": "display_data"
    },
    {
     "data": {
      "text/html": [
       "Syncing run <strong><a href='https://wandb.ai/thoomas/PLA_01122024_9PPI_2D3D_fusion_Kfold/runs/wgej8b20' target=\"_blank\">GAT_4_32_bilinear_2</a></strong> to <a href='https://wandb.ai/thoomas/PLA_01122024_9PPI_2D3D_fusion_Kfold' target=\"_blank\">Weights & Biases</a> (<a href='https://wandb.me/run' target=\"_blank\">docs</a>)<br/>"
      ],
      "text/plain": [
       "<IPython.core.display.HTML object>"
      ]
     },
     "metadata": {},
     "output_type": "display_data"
    },
    {
     "data": {
      "text/html": [
       " View project at <a href='https://wandb.ai/thoomas/PLA_01122024_9PPI_2D3D_fusion_Kfold' target=\"_blank\">https://wandb.ai/thoomas/PLA_01122024_9PPI_2D3D_fusion_Kfold</a>"
      ],
      "text/plain": [
       "<IPython.core.display.HTML object>"
      ]
     },
     "metadata": {},
     "output_type": "display_data"
    },
    {
     "data": {
      "text/html": [
       " View run at <a href='https://wandb.ai/thoomas/PLA_01122024_9PPI_2D3D_fusion_Kfold/runs/wgej8b20' target=\"_blank\">https://wandb.ai/thoomas/PLA_01122024_9PPI_2D3D_fusion_Kfold/runs/wgej8b20</a>"
      ],
      "text/plain": [
       "<IPython.core.display.HTML object>"
      ]
     },
     "metadata": {},
     "output_type": "display_data"
    },
    {
     "name": "stderr",
     "output_type": "stream",
     "text": [
      "Global seed set to 42\n",
      "GPU available: True (cuda), used: True\n",
      "TPU available: False, using: 0 TPU cores\n",
      "IPU available: False, using: 0 IPUs\n",
      "HPU available: False, using: 0 HPUs\n",
      "Global seed set to 42\n",
      "LOCAL_RANK: 0 - CUDA_VISIBLE_DEVICES: [0,1]\n",
      "\n",
      "   | Name        | Type             | Params\n",
      "--------------------------------------------------\n",
      "0  | x_embedding | Identity         | 0     \n",
      "1  | model2D     | GAT              | 14.1 K\n",
      "2  | model3D     | GAT              | 14.1 K\n",
      "3  | head        | BilinearFusion   | 107 K \n",
      "4  | pred        | Sequential       | 66    \n",
      "5  | loss_module | CrossEntropyLoss | 0     \n",
      "6  | train_acc   | BinaryAccuracy   | 0     \n",
      "7  | train_auroc | BinaryAUROC      | 0     \n",
      "8  | train_f1    | BinaryF1Score    | 0     \n",
      "9  | valid_acc   | BinaryAccuracy   | 0     \n",
      "10 | valid_auroc | BinaryAUROC      | 0     \n",
      "11 | valid_f1    | BinaryF1Score    | 0     \n",
      "12 | pool2D      | GlobalAttention  | 33    \n",
      "13 | pool3D      | GlobalAttention  | 33    \n",
      "--------------------------------------------------\n",
      "136 K     Trainable params\n",
      "0         Non-trainable params\n",
      "136 K     Total params\n",
      "0.544     Total estimated model params size (MB)\n"
     ]
    },
    {
     "name": "stdout",
     "output_type": "stream",
     "text": [
      "Using GAT\n"
     ]
    },
    {
     "name": "stderr",
     "output_type": "stream",
     "text": [
      "`Trainer.fit` stopped: `max_epochs=65` reached.\n"
     ]
    },
    {
     "data": {
      "text/html": [
       "Waiting for W&B process to finish... <strong style=\"color:green\">(success).</strong>"
      ],
      "text/plain": [
       "<IPython.core.display.HTML object>"
      ]
     },
     "metadata": {},
     "output_type": "display_data"
    },
    {
     "data": {
      "application/vnd.jupyter.widget-view+json": {
       "model_id": "ada3604637e94ddfa0d78c362f813ba8",
       "version_major": 2,
       "version_minor": 0
      },
      "text/plain": [
       "VBox(children=(Label(value='0.001 MB of 0.001 MB uploaded (0.000 MB deduped)\\r'), FloatProgress(value=1.0, max…"
      ]
     },
     "metadata": {},
     "output_type": "display_data"
    },
    {
     "data": {
      "text/html": [
       "<style>\n",
       "    table.wandb td:nth-child(1) { padding: 0 10px; text-align: left ; width: auto;} td:nth-child(2) {text-align: left ; width: 100%}\n",
       "    .wandb-row { display: flex; flex-direction: row; flex-wrap: wrap; justify-content: flex-start; width: 100% }\n",
       "    .wandb-col { display: flex; flex-direction: column; flex-basis: 100%; flex: 1; padding: 10px; }\n",
       "    </style>\n",
       "<div class=\"wandb-row\"><div class=\"wandb-col\"><h3>Run history:</h3><br/><table class=\"wandb\"><tr><td>epoch</td><td>▁▁▁▂▂▂▂▂▂▃▃▃▃▃▄▄▄▄▄▄▅▅▅▅▅▅▆▆▆▆▆▇▇▇▇▇▇███</td></tr><tr><td>lr-Adam</td><td>▁▁▁▁▁▁▁▁▁▁▁▁▁▁▁▁▁▁▁▁▁▁▁▁▁▁▁▁▁▁▁▁▁▁▁▁▁▁▁▁</td></tr><tr><td>train_acc</td><td>▁▄▅▆▆▅▆▇▅▆▅▅▇▆▆▆▇▆▇▇▇▇▇▇▇▇█▇▇▇▇▇▇███▇██▇</td></tr><tr><td>train_auc</td><td>▁▃▄▅▆▅▅▆▅▇▆▆▆▇▇▇▇▇▇▆▇▇▇█▇██▇█▇█▇▇███▇██▇</td></tr><tr><td>train_f1</td><td>▁▂▂▄▄▄▆▇▅▆▄▅▆▆▅▆▇▆▆▅▆▆▆▇▇▇█▆▇██▆█▆█▇▇██▇</td></tr><tr><td>train_loss_epoch</td><td>█▆▅▄▃▄▄▃▅▃▄▃▃▂▂▃▂▃▂▃▃▂▃▂▃▂▂▂▁▂▂▂▂▂▂▂▂▁▁▃</td></tr><tr><td>train_loss_step</td><td>▇▆▅▅▄▄▄▄▄▄▆▃▁▄▅▅▅▅▃▆▄▂▃▅▅▆▃▂▆▃▃▃▄▅▃▅▁▄▄█</td></tr><tr><td>trainer/global_step</td><td>▁▁▁▂▁▂▂▁▃▃▂▃▂▂▄▂▂▄▂▂▅▂▂▅▂▆▆▂▆▆▃▇▃▃▇▃▃█▃▃</td></tr><tr><td>val_acc</td><td>▁▁▃▃▂▄▂▄▆▅▄▇▅▅▃▆▆▆▆▆▇▇██▇▃▄▅▆▃██▆▆▆▅▅▆▅▆</td></tr><tr><td>val_auc</td><td>▄▄▃▃▄▅▂▃▁▃▂▆▄▄▅▆▆▇▅▇▆▇▅▆▇▇█▆▂▆▇▆▇▇▆▇▇▆▇▆</td></tr><tr><td>val_f1</td><td>▁▁▃▃▂▄▃▄▇▅▅▆▆▅▄▇▆▆▆▆▆▇▇█▇▄▄▆▆▃██▆▆▆▄▅▅▅▆</td></tr><tr><td>val_loss_epoch</td><td>▇█▆▆▇▆▇▅▄▄▅▃▃▅▅▂▃▂▃▂▂▂▂▁▂▅▅▂▃▆▁▁▂▂▂▃▃▃▃▃</td></tr><tr><td>val_loss_step</td><td>█▁█▅▁█▁█▄▁▇▁▆▄▁▆▁▅▄▁▄▁▆▁▅▄▁▇▂█▄▁▇▁▅▄▁█▁▇</td></tr></table><br/></div><div class=\"wandb-col\"><h3>Run summary:</h3><br/><table class=\"wandb\"><tr><td>epoch</td><td>64</td></tr><tr><td>lr-Adam</td><td>0.005</td></tr><tr><td>train_acc</td><td>0.75819</td></tr><tr><td>train_auc</td><td>0.81201</td></tr><tr><td>train_f1</td><td>0.69649</td></tr><tr><td>train_loss_epoch</td><td>0.54805</td></tr><tr><td>train_loss_step</td><td>0.65009</td></tr><tr><td>trainer/global_step</td><td>1104</td></tr><tr><td>val_acc</td><td>0.68846</td></tr><tr><td>val_auc</td><td>0.77217</td></tr><tr><td>val_f1</td><td>0.33058</td></tr><tr><td>val_loss_epoch</td><td>0.66713</td></tr><tr><td>val_loss_step</td><td>0.86451</td></tr></table><br/></div></div>"
      ],
      "text/plain": [
       "<IPython.core.display.HTML object>"
      ]
     },
     "metadata": {},
     "output_type": "display_data"
    },
    {
     "data": {
      "text/html": [
       " View run <strong style=\"color:#cdcd00\">GAT_4_32_bilinear_2</strong> at: <a href='https://wandb.ai/thoomas/PLA_01122024_9PPI_2D3D_fusion_Kfold/runs/wgej8b20' target=\"_blank\">https://wandb.ai/thoomas/PLA_01122024_9PPI_2D3D_fusion_Kfold/runs/wgej8b20</a><br/>Synced 6 W&B file(s), 0 media file(s), 0 artifact file(s) and 0 other file(s)"
      ],
      "text/plain": [
       "<IPython.core.display.HTML object>"
      ]
     },
     "metadata": {},
     "output_type": "display_data"
    },
    {
     "data": {
      "text/html": [
       "Find logs at: <code>.\\wandb\\run-20240128_143450-wgej8b20\\logs</code>"
      ],
      "text/plain": [
       "<IPython.core.display.HTML object>"
      ]
     },
     "metadata": {},
     "output_type": "display_data"
    },
    {
     "data": {
      "application/vnd.jupyter.widget-view+json": {
       "model_id": "204c887c5fbf4feeb2ca9d3687f9c844",
       "version_major": 2,
       "version_minor": 0
      },
      "text/plain": [
       "VBox(children=(Label(value='Waiting for wandb.init()...\\r'), FloatProgress(value=0.016916666666899498, max=1.0…"
      ]
     },
     "metadata": {},
     "output_type": "display_data"
    },
    {
     "data": {
      "text/html": [
       "wandb version 0.16.2 is available!  To upgrade, please run:\n",
       " $ pip install wandb --upgrade"
      ],
      "text/plain": [
       "<IPython.core.display.HTML object>"
      ]
     },
     "metadata": {},
     "output_type": "display_data"
    },
    {
     "data": {
      "text/html": [
       "Tracking run with wandb version 0.14.0"
      ],
      "text/plain": [
       "<IPython.core.display.HTML object>"
      ]
     },
     "metadata": {},
     "output_type": "display_data"
    },
    {
     "data": {
      "text/html": [
       "Run data is saved locally in <code>y:\\coskun-lab\\Thomas\\23_PLA_revision\\notebooks\\wandb\\run-20240128_153235-kvt5l3se</code>"
      ],
      "text/plain": [
       "<IPython.core.display.HTML object>"
      ]
     },
     "metadata": {},
     "output_type": "display_data"
    },
    {
     "data": {
      "text/html": [
       "Syncing run <strong><a href='https://wandb.ai/thoomas/PLA_01122024_9PPI_2D3D_fusion_Kfold/runs/kvt5l3se' target=\"_blank\">GINConv_2_16_bilinear_2</a></strong> to <a href='https://wandb.ai/thoomas/PLA_01122024_9PPI_2D3D_fusion_Kfold' target=\"_blank\">Weights & Biases</a> (<a href='https://wandb.me/run' target=\"_blank\">docs</a>)<br/>"
      ],
      "text/plain": [
       "<IPython.core.display.HTML object>"
      ]
     },
     "metadata": {},
     "output_type": "display_data"
    },
    {
     "data": {
      "text/html": [
       " View project at <a href='https://wandb.ai/thoomas/PLA_01122024_9PPI_2D3D_fusion_Kfold' target=\"_blank\">https://wandb.ai/thoomas/PLA_01122024_9PPI_2D3D_fusion_Kfold</a>"
      ],
      "text/plain": [
       "<IPython.core.display.HTML object>"
      ]
     },
     "metadata": {},
     "output_type": "display_data"
    },
    {
     "data": {
      "text/html": [
       " View run at <a href='https://wandb.ai/thoomas/PLA_01122024_9PPI_2D3D_fusion_Kfold/runs/kvt5l3se' target=\"_blank\">https://wandb.ai/thoomas/PLA_01122024_9PPI_2D3D_fusion_Kfold/runs/kvt5l3se</a>"
      ],
      "text/plain": [
       "<IPython.core.display.HTML object>"
      ]
     },
     "metadata": {},
     "output_type": "display_data"
    },
    {
     "name": "stderr",
     "output_type": "stream",
     "text": [
      "Global seed set to 42\n",
      "GPU available: True (cuda), used: True\n",
      "TPU available: False, using: 0 TPU cores\n",
      "IPU available: False, using: 0 IPUs\n",
      "HPU available: False, using: 0 HPUs\n",
      "Global seed set to 42\n",
      "LOCAL_RANK: 0 - CUDA_VISIBLE_DEVICES: [0,1]\n",
      "\n",
      "   | Name        | Type             | Params\n",
      "--------------------------------------------------\n",
      "0  | x_embedding | Identity         | 0     \n",
      "1  | model2D     | GIN              | 1.1 K \n",
      "2  | model3D     | GIN              | 1.1 K \n",
      "3  | head        | BilinearFusion   | 19.6 K\n",
      "4  | pred        | Sequential       | 34    \n",
      "5  | loss_module | CrossEntropyLoss | 0     \n",
      "6  | train_acc   | BinaryAccuracy   | 0     \n",
      "7  | train_auroc | BinaryAUROC      | 0     \n",
      "8  | train_f1    | BinaryF1Score    | 0     \n",
      "9  | valid_acc   | BinaryAccuracy   | 0     \n",
      "10 | valid_auroc | BinaryAUROC      | 0     \n",
      "11 | valid_f1    | BinaryF1Score    | 0     \n",
      "--------------------------------------------------\n",
      "21.8 K    Trainable params\n",
      "0         Non-trainable params\n",
      "21.8 K    Total params\n",
      "0.087     Total estimated model params size (MB)\n"
     ]
    },
    {
     "name": "stdout",
     "output_type": "stream",
     "text": [
      "GINConv\n"
     ]
    },
    {
     "name": "stderr",
     "output_type": "stream",
     "text": [
      "`Trainer.fit` stopped: `max_epochs=65` reached.\n"
     ]
    },
    {
     "data": {
      "text/html": [
       "Waiting for W&B process to finish... <strong style=\"color:green\">(success).</strong>"
      ],
      "text/plain": [
       "<IPython.core.display.HTML object>"
      ]
     },
     "metadata": {},
     "output_type": "display_data"
    },
    {
     "data": {
      "application/vnd.jupyter.widget-view+json": {
       "model_id": "b621e21eec3f41ce9285f3324693ee83",
       "version_major": 2,
       "version_minor": 0
      },
      "text/plain": [
       "VBox(children=(Label(value='0.001 MB of 0.001 MB uploaded (0.000 MB deduped)\\r'), FloatProgress(value=1.0, max…"
      ]
     },
     "metadata": {},
     "output_type": "display_data"
    },
    {
     "data": {
      "text/html": [
       "<style>\n",
       "    table.wandb td:nth-child(1) { padding: 0 10px; text-align: left ; width: auto;} td:nth-child(2) {text-align: left ; width: 100%}\n",
       "    .wandb-row { display: flex; flex-direction: row; flex-wrap: wrap; justify-content: flex-start; width: 100% }\n",
       "    .wandb-col { display: flex; flex-direction: column; flex-basis: 100%; flex: 1; padding: 10px; }\n",
       "    </style>\n",
       "<div class=\"wandb-row\"><div class=\"wandb-col\"><h3>Run history:</h3><br/><table class=\"wandb\"><tr><td>epoch</td><td>▁▁▁▂▂▂▂▂▂▃▃▃▃▃▄▄▄▄▄▄▅▅▅▅▅▅▆▆▆▆▆▇▇▇▇▇▇███</td></tr><tr><td>lr-Adam</td><td>▁▁▁▁▁▁▁▁▁▁▁▁▁▁▁▁▁▁▁▁▁▁▁▁▁▁▁▁▁▁▁▁▁▁▁▁▁▁▁▁</td></tr><tr><td>train_acc</td><td>▁▃▅▅▆▅▆▆▆▆▆▇▇▆▆██▇▆▇▆█▇█▇█████▇██▇▇█▇▇▇█</td></tr><tr><td>train_auc</td><td>▁▃▅▅▆▆▆▆▆▇▆▇▇▆▇▇▇▇▆▇▇█▇▇▇██▇███▇▇▇▇▇▇▇██</td></tr><tr><td>train_f1</td><td>▁▃▅▅▆▆▇▆▇▇▆█▇▆▇██▇▇▇▆█▇▇▇████████▇▇▇██▇█</td></tr><tr><td>train_loss_epoch</td><td>█▆▄▄▄▄▃▃▃▃▃▃▂▃▃▁▁▃▃▂▃▂▂▂▂▂▁▁▁▁▁▂▂▂▂▂▂▂▂▂</td></tr><tr><td>train_loss_step</td><td>█▇▅▇▄▄▇▇▅▄▇▄▁▆▄▄▄▅█▄▄▅▆▄▃▄▅▅▄▄▅▆▅▄▅▂▄▅▄▃</td></tr><tr><td>trainer/global_step</td><td>▁▁▁▂▁▂▂▁▃▃▂▃▂▂▄▂▂▄▂▂▅▂▂▅▂▆▆▂▆▆▃▇▃▃▇▃▃█▃▃</td></tr><tr><td>val_acc</td><td>▄▄▆▆▆▆▆▆▇▁▅█▇▇▇▆▇▇▇▇▇▅█▆█▇▇▆▆▇▆▆█████▇▇▇</td></tr><tr><td>val_auc</td><td>▁▁▂▃▃▃▅▄▅▄▂▅▅▄▇▄▆▆▆▇▇▄▇▇▇▅█▆▇█▄▇▇▆███▆█▇</td></tr><tr><td>val_f1</td><td>▁▄▅▄▅▇▆▆▇▇▇▇▇▆▆▇▇▇▇▇▇▇▇▅▇▇▆▇▇█▆▆▇▇▇▇▇█▇▆</td></tr><tr><td>val_loss_epoch</td><td>█▇▇▇▇▆▆▆▅▆▇▄▄▅▅▁▅▅▃▄▅▇▃▇▅▆▅▄▃▃▇▆▅▆▃▃▃▁▅▄</td></tr><tr><td>val_loss_step</td><td>█▂█▅▃▃▃▇▅▃▂▃▅▅▂▃▃█▆▃▅▃▄▄▇▅▁▃▃▃▅▁▅▃▄▅▁▃▃▅</td></tr></table><br/></div><div class=\"wandb-col\"><h3>Run summary:</h3><br/><table class=\"wandb\"><tr><td>epoch</td><td>64</td></tr><tr><td>lr-Adam</td><td>0.005</td></tr><tr><td>train_acc</td><td>0.79769</td></tr><tr><td>train_auc</td><td>0.85447</td></tr><tr><td>train_f1</td><td>0.7335</td></tr><tr><td>train_loss_epoch</td><td>0.51263</td></tr><tr><td>train_loss_step</td><td>0.46748</td></tr><tr><td>trainer/global_step</td><td>1104</td></tr><tr><td>val_acc</td><td>0.75</td></tr><tr><td>val_auc</td><td>0.8042</td></tr><tr><td>val_f1</td><td>0.61988</td></tr><tr><td>val_loss_epoch</td><td>0.57795</td></tr><tr><td>val_loss_step</td><td>0.693</td></tr></table><br/></div></div>"
      ],
      "text/plain": [
       "<IPython.core.display.HTML object>"
      ]
     },
     "metadata": {},
     "output_type": "display_data"
    },
    {
     "data": {
      "text/html": [
       " View run <strong style=\"color:#cdcd00\">GINConv_2_16_bilinear_2</strong> at: <a href='https://wandb.ai/thoomas/PLA_01122024_9PPI_2D3D_fusion_Kfold/runs/kvt5l3se' target=\"_blank\">https://wandb.ai/thoomas/PLA_01122024_9PPI_2D3D_fusion_Kfold/runs/kvt5l3se</a><br/>Synced 6 W&B file(s), 0 media file(s), 0 artifact file(s) and 0 other file(s)"
      ],
      "text/plain": [
       "<IPython.core.display.HTML object>"
      ]
     },
     "metadata": {},
     "output_type": "display_data"
    },
    {
     "data": {
      "text/html": [
       "Find logs at: <code>.\\wandb\\run-20240128_153235-kvt5l3se\\logs</code>"
      ],
      "text/plain": [
       "<IPython.core.display.HTML object>"
      ]
     },
     "metadata": {},
     "output_type": "display_data"
    },
    {
     "data": {
      "application/vnd.jupyter.widget-view+json": {
       "model_id": "4ab2fff8258b42829d889dd2475a551f",
       "version_major": 2,
       "version_minor": 0
      },
      "text/plain": [
       "VBox(children=(Label(value='Waiting for wandb.init()...\\r'), FloatProgress(value=0.016916666666899498, max=1.0…"
      ]
     },
     "metadata": {},
     "output_type": "display_data"
    },
    {
     "data": {
      "text/html": [
       "wandb version 0.16.2 is available!  To upgrade, please run:\n",
       " $ pip install wandb --upgrade"
      ],
      "text/plain": [
       "<IPython.core.display.HTML object>"
      ]
     },
     "metadata": {},
     "output_type": "display_data"
    },
    {
     "data": {
      "text/html": [
       "Tracking run with wandb version 0.14.0"
      ],
      "text/plain": [
       "<IPython.core.display.HTML object>"
      ]
     },
     "metadata": {},
     "output_type": "display_data"
    },
    {
     "data": {
      "text/html": [
       "Run data is saved locally in <code>y:\\coskun-lab\\Thomas\\23_PLA_revision\\notebooks\\wandb\\run-20240128_162958-rvckyhaf</code>"
      ],
      "text/plain": [
       "<IPython.core.display.HTML object>"
      ]
     },
     "metadata": {},
     "output_type": "display_data"
    },
    {
     "data": {
      "text/html": [
       "Syncing run <strong><a href='https://wandb.ai/thoomas/PLA_01122024_9PPI_2D3D_fusion_Kfold/runs/rvckyhaf' target=\"_blank\">GAT_4_32_bilinear_3</a></strong> to <a href='https://wandb.ai/thoomas/PLA_01122024_9PPI_2D3D_fusion_Kfold' target=\"_blank\">Weights & Biases</a> (<a href='https://wandb.me/run' target=\"_blank\">docs</a>)<br/>"
      ],
      "text/plain": [
       "<IPython.core.display.HTML object>"
      ]
     },
     "metadata": {},
     "output_type": "display_data"
    },
    {
     "data": {
      "text/html": [
       " View project at <a href='https://wandb.ai/thoomas/PLA_01122024_9PPI_2D3D_fusion_Kfold' target=\"_blank\">https://wandb.ai/thoomas/PLA_01122024_9PPI_2D3D_fusion_Kfold</a>"
      ],
      "text/plain": [
       "<IPython.core.display.HTML object>"
      ]
     },
     "metadata": {},
     "output_type": "display_data"
    },
    {
     "data": {
      "text/html": [
       " View run at <a href='https://wandb.ai/thoomas/PLA_01122024_9PPI_2D3D_fusion_Kfold/runs/rvckyhaf' target=\"_blank\">https://wandb.ai/thoomas/PLA_01122024_9PPI_2D3D_fusion_Kfold/runs/rvckyhaf</a>"
      ],
      "text/plain": [
       "<IPython.core.display.HTML object>"
      ]
     },
     "metadata": {},
     "output_type": "display_data"
    },
    {
     "name": "stderr",
     "output_type": "stream",
     "text": [
      "Global seed set to 42\n",
      "GPU available: True (cuda), used: True\n",
      "TPU available: False, using: 0 TPU cores\n",
      "IPU available: False, using: 0 IPUs\n",
      "HPU available: False, using: 0 HPUs\n",
      "Global seed set to 42\n",
      "LOCAL_RANK: 0 - CUDA_VISIBLE_DEVICES: [0,1]\n",
      "\n",
      "   | Name        | Type             | Params\n",
      "--------------------------------------------------\n",
      "0  | x_embedding | Identity         | 0     \n",
      "1  | model2D     | GAT              | 14.1 K\n",
      "2  | model3D     | GAT              | 14.1 K\n",
      "3  | head        | BilinearFusion   | 107 K \n",
      "4  | pred        | Sequential       | 66    \n",
      "5  | loss_module | CrossEntropyLoss | 0     \n",
      "6  | train_acc   | BinaryAccuracy   | 0     \n",
      "7  | train_auroc | BinaryAUROC      | 0     \n",
      "8  | train_f1    | BinaryF1Score    | 0     \n",
      "9  | valid_acc   | BinaryAccuracy   | 0     \n",
      "10 | valid_auroc | BinaryAUROC      | 0     \n",
      "11 | valid_f1    | BinaryF1Score    | 0     \n",
      "12 | pool2D      | GlobalAttention  | 33    \n",
      "13 | pool3D      | GlobalAttention  | 33    \n",
      "--------------------------------------------------\n",
      "136 K     Trainable params\n",
      "0         Non-trainable params\n",
      "136 K     Total params\n",
      "0.544     Total estimated model params size (MB)\n"
     ]
    },
    {
     "name": "stdout",
     "output_type": "stream",
     "text": [
      "Using GAT\n"
     ]
    },
    {
     "name": "stderr",
     "output_type": "stream",
     "text": [
      "`Trainer.fit` stopped: `max_epochs=65` reached.\n"
     ]
    },
    {
     "data": {
      "text/html": [
       "Waiting for W&B process to finish... <strong style=\"color:green\">(success).</strong>"
      ],
      "text/plain": [
       "<IPython.core.display.HTML object>"
      ]
     },
     "metadata": {},
     "output_type": "display_data"
    },
    {
     "data": {
      "application/vnd.jupyter.widget-view+json": {
       "model_id": "b4632464b11748deac25afedf9995a68",
       "version_major": 2,
       "version_minor": 0
      },
      "text/plain": [
       "VBox(children=(Label(value='0.001 MB of 0.001 MB uploaded (0.000 MB deduped)\\r'), FloatProgress(value=1.0, max…"
      ]
     },
     "metadata": {},
     "output_type": "display_data"
    },
    {
     "data": {
      "text/html": [
       "<style>\n",
       "    table.wandb td:nth-child(1) { padding: 0 10px; text-align: left ; width: auto;} td:nth-child(2) {text-align: left ; width: 100%}\n",
       "    .wandb-row { display: flex; flex-direction: row; flex-wrap: wrap; justify-content: flex-start; width: 100% }\n",
       "    .wandb-col { display: flex; flex-direction: column; flex-basis: 100%; flex: 1; padding: 10px; }\n",
       "    </style>\n",
       "<div class=\"wandb-row\"><div class=\"wandb-col\"><h3>Run history:</h3><br/><table class=\"wandb\"><tr><td>epoch</td><td>▁▁▁▂▂▂▂▂▂▃▃▃▃▃▄▄▄▄▄▄▅▅▅▅▅▅▆▆▆▆▆▇▇▇▇▇▇███</td></tr><tr><td>lr-Adam</td><td>▁▁▁▁▁▁▁▁▁▁▁▁▁▁▁▁▁▁▁▁▁▁▁▁▁▁▁▁▁▁▁▁▁▁▁▁▁▁▁▁</td></tr><tr><td>train_acc</td><td>▁▄▅▆▆▆▆▇▆▇▇▆▇▇▆▇▆███▇▇█▆█▇▇▆▇██▇█▇███▇█▇</td></tr><tr><td>train_auc</td><td>▁▃▆▆▆▇▇▇▇▇▇▇▇▇▆▇▇██▇▇▇▇▇▇▇█▇█▇█▇█████▇▇▇</td></tr><tr><td>train_f1</td><td>▁▄▆▆▆▇▆▇▇▇▇▇▆▇▇▇▇█▇▇▇▇▇▆▇▇▇▇▇▇█▇█████▇█▆</td></tr><tr><td>train_loss_epoch</td><td>█▆▄▃▄▃▃▃▃▃▂▃▃▂▃▃▃▂▁▂▂▂▂▃▂▂▂▃▂▂▁▂▁▂▂▁▂▂▁▂</td></tr><tr><td>train_loss_step</td><td>█▆▅▅▆▅▅▆▄▅▄▇█▅▆▆▄▃▁▄▅▅▅▅▅▅▇▅▄▂▇▄▅▄▄▃▅▄▅▄</td></tr><tr><td>trainer/global_step</td><td>▁▁▁▂▁▂▂▁▃▃▂▃▂▂▄▂▂▄▂▂▅▂▂▅▂▆▆▂▆▆▃▇▃▃▇▃▃█▃▃</td></tr><tr><td>val_acc</td><td>▁▁▆▇▆▅▇▇█▇▆▇▇█▇▄▅▇▇▇▄▃▅▆▇▅▆▅▆▇▅▆▅▆▅▇▇▇█▆</td></tr><tr><td>val_auc</td><td>▄▅▅▅▄▅▄▃▃▁▄▄▂▃▃▅▄▆▅▃▅▅▆▄▆▅▆▇▇▅▆▆▇█▆▆▆▄▆▅</td></tr><tr><td>val_f1</td><td>▁▁▆▇▆▅▇▇█▇▆▇██▆▄▅▆▇▇▄▄▅▆▇▅▆▅▆▆▅▆▅▆▅▇▇▇█▆</td></tr><tr><td>val_loss_epoch</td><td>▇█▃▂▅▆▃▄▂▄▅▃▃▃▄▆▅▄▃▄▆▆▆▄▃▅▄▅▃▄▅▄▅▄▅▃▃▃▁▄</td></tr><tr><td>val_loss_step</td><td>█▁▆▆▁▇▁▇▆▁▇▁▇▆▁█▁▇▆▁▇▁▇▁▆▇▁▇▁▇▇▁▇▁▇▆▁▆▂▆</td></tr></table><br/></div><div class=\"wandb-col\"><h3>Run summary:</h3><br/><table class=\"wandb\"><tr><td>epoch</td><td>64</td></tr><tr><td>lr-Adam</td><td>0.005</td></tr><tr><td>train_acc</td><td>0.75457</td></tr><tr><td>train_auc</td><td>0.80137</td></tr><tr><td>train_f1</td><td>0.63203</td></tr><tr><td>train_loss_epoch</td><td>0.54177</td></tr><tr><td>train_loss_step</td><td>0.51651</td></tr><tr><td>trainer/global_step</td><td>1104</td></tr><tr><td>val_acc</td><td>0.69884</td></tr><tr><td>val_auc</td><td>0.77871</td></tr><tr><td>val_f1</td><td>0.47297</td></tr><tr><td>val_loss_epoch</td><td>0.67665</td></tr><tr><td>val_loss_step</td><td>0.97164</td></tr></table><br/></div></div>"
      ],
      "text/plain": [
       "<IPython.core.display.HTML object>"
      ]
     },
     "metadata": {},
     "output_type": "display_data"
    },
    {
     "data": {
      "text/html": [
       " View run <strong style=\"color:#cdcd00\">GAT_4_32_bilinear_3</strong> at: <a href='https://wandb.ai/thoomas/PLA_01122024_9PPI_2D3D_fusion_Kfold/runs/rvckyhaf' target=\"_blank\">https://wandb.ai/thoomas/PLA_01122024_9PPI_2D3D_fusion_Kfold/runs/rvckyhaf</a><br/>Synced 6 W&B file(s), 0 media file(s), 0 artifact file(s) and 0 other file(s)"
      ],
      "text/plain": [
       "<IPython.core.display.HTML object>"
      ]
     },
     "metadata": {},
     "output_type": "display_data"
    },
    {
     "data": {
      "text/html": [
       "Find logs at: <code>.\\wandb\\run-20240128_162958-rvckyhaf\\logs</code>"
      ],
      "text/plain": [
       "<IPython.core.display.HTML object>"
      ]
     },
     "metadata": {},
     "output_type": "display_data"
    },
    {
     "data": {
      "application/vnd.jupyter.widget-view+json": {
       "model_id": "d1ef356618e7405495717ca4253adbdd",
       "version_major": 2,
       "version_minor": 0
      },
      "text/plain": [
       "VBox(children=(Label(value='Waiting for wandb.init()...\\r'), FloatProgress(value=0.01693333333435779, max=1.0)…"
      ]
     },
     "metadata": {},
     "output_type": "display_data"
    },
    {
     "data": {
      "text/html": [
       "wandb version 0.16.2 is available!  To upgrade, please run:\n",
       " $ pip install wandb --upgrade"
      ],
      "text/plain": [
       "<IPython.core.display.HTML object>"
      ]
     },
     "metadata": {},
     "output_type": "display_data"
    },
    {
     "data": {
      "text/html": [
       "Tracking run with wandb version 0.14.0"
      ],
      "text/plain": [
       "<IPython.core.display.HTML object>"
      ]
     },
     "metadata": {},
     "output_type": "display_data"
    },
    {
     "data": {
      "text/html": [
       "Run data is saved locally in <code>y:\\coskun-lab\\Thomas\\23_PLA_revision\\notebooks\\wandb\\run-20240128_172815-navr99xp</code>"
      ],
      "text/plain": [
       "<IPython.core.display.HTML object>"
      ]
     },
     "metadata": {},
     "output_type": "display_data"
    },
    {
     "data": {
      "text/html": [
       "Syncing run <strong><a href='https://wandb.ai/thoomas/PLA_01122024_9PPI_2D3D_fusion_Kfold/runs/navr99xp' target=\"_blank\">GINConv_2_16_bilinear_3</a></strong> to <a href='https://wandb.ai/thoomas/PLA_01122024_9PPI_2D3D_fusion_Kfold' target=\"_blank\">Weights & Biases</a> (<a href='https://wandb.me/run' target=\"_blank\">docs</a>)<br/>"
      ],
      "text/plain": [
       "<IPython.core.display.HTML object>"
      ]
     },
     "metadata": {},
     "output_type": "display_data"
    },
    {
     "data": {
      "text/html": [
       " View project at <a href='https://wandb.ai/thoomas/PLA_01122024_9PPI_2D3D_fusion_Kfold' target=\"_blank\">https://wandb.ai/thoomas/PLA_01122024_9PPI_2D3D_fusion_Kfold</a>"
      ],
      "text/plain": [
       "<IPython.core.display.HTML object>"
      ]
     },
     "metadata": {},
     "output_type": "display_data"
    },
    {
     "data": {
      "text/html": [
       " View run at <a href='https://wandb.ai/thoomas/PLA_01122024_9PPI_2D3D_fusion_Kfold/runs/navr99xp' target=\"_blank\">https://wandb.ai/thoomas/PLA_01122024_9PPI_2D3D_fusion_Kfold/runs/navr99xp</a>"
      ],
      "text/plain": [
       "<IPython.core.display.HTML object>"
      ]
     },
     "metadata": {},
     "output_type": "display_data"
    },
    {
     "name": "stderr",
     "output_type": "stream",
     "text": [
      "Global seed set to 42\n",
      "GPU available: True (cuda), used: True\n",
      "TPU available: False, using: 0 TPU cores\n",
      "IPU available: False, using: 0 IPUs\n",
      "HPU available: False, using: 0 HPUs\n",
      "Global seed set to 42\n",
      "LOCAL_RANK: 0 - CUDA_VISIBLE_DEVICES: [0,1]\n",
      "\n",
      "   | Name        | Type             | Params\n",
      "--------------------------------------------------\n",
      "0  | x_embedding | Identity         | 0     \n",
      "1  | model2D     | GIN              | 1.1 K \n",
      "2  | model3D     | GIN              | 1.1 K \n",
      "3  | head        | BilinearFusion   | 19.6 K\n",
      "4  | pred        | Sequential       | 34    \n",
      "5  | loss_module | CrossEntropyLoss | 0     \n",
      "6  | train_acc   | BinaryAccuracy   | 0     \n",
      "7  | train_auroc | BinaryAUROC      | 0     \n",
      "8  | train_f1    | BinaryF1Score    | 0     \n",
      "9  | valid_acc   | BinaryAccuracy   | 0     \n",
      "10 | valid_auroc | BinaryAUROC      | 0     \n",
      "11 | valid_f1    | BinaryF1Score    | 0     \n",
      "--------------------------------------------------\n",
      "21.8 K    Trainable params\n",
      "0         Non-trainable params\n",
      "21.8 K    Total params\n",
      "0.087     Total estimated model params size (MB)\n"
     ]
    },
    {
     "name": "stdout",
     "output_type": "stream",
     "text": [
      "GINConv\n"
     ]
    },
    {
     "name": "stderr",
     "output_type": "stream",
     "text": [
      "`Trainer.fit` stopped: `max_epochs=65` reached.\n"
     ]
    },
    {
     "data": {
      "text/html": [
       "Waiting for W&B process to finish... <strong style=\"color:green\">(success).</strong>"
      ],
      "text/plain": [
       "<IPython.core.display.HTML object>"
      ]
     },
     "metadata": {},
     "output_type": "display_data"
    },
    {
     "data": {
      "application/vnd.jupyter.widget-view+json": {
       "model_id": "3daca83423aa4b43a74c90b11da67492",
       "version_major": 2,
       "version_minor": 0
      },
      "text/plain": [
       "VBox(children=(Label(value='0.001 MB of 0.001 MB uploaded (0.000 MB deduped)\\r'), FloatProgress(value=1.0, max…"
      ]
     },
     "metadata": {},
     "output_type": "display_data"
    },
    {
     "data": {
      "text/html": [
       "<style>\n",
       "    table.wandb td:nth-child(1) { padding: 0 10px; text-align: left ; width: auto;} td:nth-child(2) {text-align: left ; width: 100%}\n",
       "    .wandb-row { display: flex; flex-direction: row; flex-wrap: wrap; justify-content: flex-start; width: 100% }\n",
       "    .wandb-col { display: flex; flex-direction: column; flex-basis: 100%; flex: 1; padding: 10px; }\n",
       "    </style>\n",
       "<div class=\"wandb-row\"><div class=\"wandb-col\"><h3>Run history:</h3><br/><table class=\"wandb\"><tr><td>epoch</td><td>▁▁▁▂▂▂▂▂▂▃▃▃▃▃▄▄▄▄▄▄▅▅▅▅▅▅▆▆▆▆▆▇▇▇▇▇▇███</td></tr><tr><td>lr-Adam</td><td>▁▁▁▁▁▁▁▁▁▁▁▁▁▁▁▁▁▁▁▁▁▁▁▁▁▁▁▁▁▁▁▁▁▁▁▁▁▁▁▁</td></tr><tr><td>train_acc</td><td>▁▂▄▅▅▅▆▆▆▇▇▆▇▇▇▆▇█▇▇▆▇▆▇▇▇▇██▇█▇▇█▇▇▇▇▇█</td></tr><tr><td>train_auc</td><td>▁▃▅▆▆▆▇▇▇▇▇▇▇▇▇▆▇██▇▇▇▇█▇▇▇████▇██▇▇██▇█</td></tr><tr><td>train_f1</td><td>▁▄▆▆▆▇▇▇▇▇▇▇▇▇▇▇▇██▇▇█▇██▇▇████▇▇█▇▇▇██▇</td></tr><tr><td>train_loss_epoch</td><td>█▆▄▄▄▃▃▃▃▂▂▂▂▂▂▃▂▁▂▂▃▂▃▁▂▂▂▁▁▂▁▂▂▂▂▂▁▁▂▁</td></tr><tr><td>train_loss_step</td><td>██▄▆▆▅▅▅▃▃▄▅▅▇▄▅▄▄▇▄▅▂▆▄▁▆▅▄▄▄▄▃▃▅▄▂▄▄▄▆</td></tr><tr><td>trainer/global_step</td><td>▁▁▁▂▁▂▂▁▃▃▂▃▂▂▄▂▂▄▂▂▅▂▂▅▂▆▆▂▆▆▃▇▃▃▇▃▃█▃▃</td></tr><tr><td>val_acc</td><td>▂▃▅▅▇▇▆██▅▇▁▆▆▆▇█▇▇▆█▆▆▇██▆▅▇███▆▆▇▇▇▇▇▅</td></tr><tr><td>val_auc</td><td>▁▃▃▄▃▂▄▅▆▅▆▅▇▆▇▅█▇▇▆▅▇█▆▄▇▆▇▆▇▇█▇▅▇▇██▇█</td></tr><tr><td>val_f1</td><td>▁▃▄▅▇▇▅▇▇▇▆▇▅▅█▇▇▆▆▆▇▆▅▇█▇▆▇▇▇███▆▆▆▇█▇▄</td></tr><tr><td>val_loss_epoch</td><td>█▇▅▃▂▃▄▂▂▂▃▃▃▄▁▃▂▂▁▂▂▃▄▃▁▁▂▁▂▂▁▂▂▄▃▃▃▁▁▄</td></tr><tr><td>val_loss_step</td><td>▇▁▇▆▃▅▄▂▇▂▆▇▅█▃▄▂▃▇▃▇▃▆▁▁▇▂▃▂▄▅▃▃▂▆▇▃▃▃▆</td></tr></table><br/></div><div class=\"wandb-col\"><h3>Run summary:</h3><br/><table class=\"wandb\"><tr><td>epoch</td><td>64</td></tr><tr><td>lr-Adam</td><td>0.005</td></tr><tr><td>train_acc</td><td>0.79596</td></tr><tr><td>train_auc</td><td>0.84589</td></tr><tr><td>train_f1</td><td>0.70391</td></tr><tr><td>train_loss_epoch</td><td>0.50701</td></tr><tr><td>train_loss_step</td><td>0.58067</td></tr><tr><td>trainer/global_step</td><td>1104</td></tr><tr><td>val_acc</td><td>0.72587</td></tr><tr><td>val_auc</td><td>0.82904</td></tr><tr><td>val_f1</td><td>0.56442</td></tr><tr><td>val_loss_epoch</td><td>0.58631</td></tr><tr><td>val_loss_step</td><td>0.66473</td></tr></table><br/></div></div>"
      ],
      "text/plain": [
       "<IPython.core.display.HTML object>"
      ]
     },
     "metadata": {},
     "output_type": "display_data"
    },
    {
     "data": {
      "text/html": [
       " View run <strong style=\"color:#cdcd00\">GINConv_2_16_bilinear_3</strong> at: <a href='https://wandb.ai/thoomas/PLA_01122024_9PPI_2D3D_fusion_Kfold/runs/navr99xp' target=\"_blank\">https://wandb.ai/thoomas/PLA_01122024_9PPI_2D3D_fusion_Kfold/runs/navr99xp</a><br/>Synced 6 W&B file(s), 0 media file(s), 0 artifact file(s) and 0 other file(s)"
      ],
      "text/plain": [
       "<IPython.core.display.HTML object>"
      ]
     },
     "metadata": {},
     "output_type": "display_data"
    },
    {
     "data": {
      "text/html": [
       "Find logs at: <code>.\\wandb\\run-20240128_172815-navr99xp\\logs</code>"
      ],
      "text/plain": [
       "<IPython.core.display.HTML object>"
      ]
     },
     "metadata": {},
     "output_type": "display_data"
    },
    {
     "data": {
      "application/vnd.jupyter.widget-view+json": {
       "model_id": "cff832cd5dff4332ac3edca49e6d3096",
       "version_major": 2,
       "version_minor": 0
      },
      "text/plain": [
       "VBox(children=(Label(value='Waiting for wandb.init()...\\r'), FloatProgress(value=0.016933333332417533, max=1.0…"
      ]
     },
     "metadata": {},
     "output_type": "display_data"
    },
    {
     "data": {
      "text/html": [
       "wandb version 0.16.2 is available!  To upgrade, please run:\n",
       " $ pip install wandb --upgrade"
      ],
      "text/plain": [
       "<IPython.core.display.HTML object>"
      ]
     },
     "metadata": {},
     "output_type": "display_data"
    },
    {
     "data": {
      "text/html": [
       "Tracking run with wandb version 0.14.0"
      ],
      "text/plain": [
       "<IPython.core.display.HTML object>"
      ]
     },
     "metadata": {},
     "output_type": "display_data"
    },
    {
     "data": {
      "text/html": [
       "Run data is saved locally in <code>y:\\coskun-lab\\Thomas\\23_PLA_revision\\notebooks\\wandb\\run-20240128_182656-mgpyvr6m</code>"
      ],
      "text/plain": [
       "<IPython.core.display.HTML object>"
      ]
     },
     "metadata": {},
     "output_type": "display_data"
    },
    {
     "data": {
      "text/html": [
       "Syncing run <strong><a href='https://wandb.ai/thoomas/PLA_01122024_9PPI_2D3D_fusion_Kfold/runs/mgpyvr6m' target=\"_blank\">GAT_4_32_bilinear_4</a></strong> to <a href='https://wandb.ai/thoomas/PLA_01122024_9PPI_2D3D_fusion_Kfold' target=\"_blank\">Weights & Biases</a> (<a href='https://wandb.me/run' target=\"_blank\">docs</a>)<br/>"
      ],
      "text/plain": [
       "<IPython.core.display.HTML object>"
      ]
     },
     "metadata": {},
     "output_type": "display_data"
    },
    {
     "data": {
      "text/html": [
       " View project at <a href='https://wandb.ai/thoomas/PLA_01122024_9PPI_2D3D_fusion_Kfold' target=\"_blank\">https://wandb.ai/thoomas/PLA_01122024_9PPI_2D3D_fusion_Kfold</a>"
      ],
      "text/plain": [
       "<IPython.core.display.HTML object>"
      ]
     },
     "metadata": {},
     "output_type": "display_data"
    },
    {
     "data": {
      "text/html": [
       " View run at <a href='https://wandb.ai/thoomas/PLA_01122024_9PPI_2D3D_fusion_Kfold/runs/mgpyvr6m' target=\"_blank\">https://wandb.ai/thoomas/PLA_01122024_9PPI_2D3D_fusion_Kfold/runs/mgpyvr6m</a>"
      ],
      "text/plain": [
       "<IPython.core.display.HTML object>"
      ]
     },
     "metadata": {},
     "output_type": "display_data"
    },
    {
     "name": "stderr",
     "output_type": "stream",
     "text": [
      "Global seed set to 42\n",
      "GPU available: True (cuda), used: True\n",
      "TPU available: False, using: 0 TPU cores\n",
      "IPU available: False, using: 0 IPUs\n",
      "HPU available: False, using: 0 HPUs\n",
      "Global seed set to 42\n",
      "LOCAL_RANK: 0 - CUDA_VISIBLE_DEVICES: [0,1]\n",
      "\n",
      "   | Name        | Type             | Params\n",
      "--------------------------------------------------\n",
      "0  | x_embedding | Identity         | 0     \n",
      "1  | model2D     | GAT              | 14.1 K\n",
      "2  | model3D     | GAT              | 14.1 K\n",
      "3  | head        | BilinearFusion   | 107 K \n",
      "4  | pred        | Sequential       | 66    \n",
      "5  | loss_module | CrossEntropyLoss | 0     \n",
      "6  | train_acc   | BinaryAccuracy   | 0     \n",
      "7  | train_auroc | BinaryAUROC      | 0     \n",
      "8  | train_f1    | BinaryF1Score    | 0     \n",
      "9  | valid_acc   | BinaryAccuracy   | 0     \n",
      "10 | valid_auroc | BinaryAUROC      | 0     \n",
      "11 | valid_f1    | BinaryF1Score    | 0     \n",
      "12 | pool2D      | GlobalAttention  | 33    \n",
      "13 | pool3D      | GlobalAttention  | 33    \n",
      "--------------------------------------------------\n",
      "136 K     Trainable params\n",
      "0         Non-trainable params\n",
      "136 K     Total params\n",
      "0.544     Total estimated model params size (MB)\n"
     ]
    },
    {
     "name": "stdout",
     "output_type": "stream",
     "text": [
      "Using GAT\n"
     ]
    },
    {
     "name": "stderr",
     "output_type": "stream",
     "text": [
      "`Trainer.fit` stopped: `max_epochs=65` reached.\n"
     ]
    },
    {
     "data": {
      "text/html": [
       "Waiting for W&B process to finish... <strong style=\"color:green\">(success).</strong>"
      ],
      "text/plain": [
       "<IPython.core.display.HTML object>"
      ]
     },
     "metadata": {},
     "output_type": "display_data"
    },
    {
     "data": {
      "application/vnd.jupyter.widget-view+json": {
       "model_id": "9bf0e70af97949fa8ff5e5bc19345477",
       "version_major": 2,
       "version_minor": 0
      },
      "text/plain": [
       "VBox(children=(Label(value='0.001 MB of 0.001 MB uploaded (0.000 MB deduped)\\r'), FloatProgress(value=1.0, max…"
      ]
     },
     "metadata": {},
     "output_type": "display_data"
    },
    {
     "data": {
      "text/html": [
       "<style>\n",
       "    table.wandb td:nth-child(1) { padding: 0 10px; text-align: left ; width: auto;} td:nth-child(2) {text-align: left ; width: 100%}\n",
       "    .wandb-row { display: flex; flex-direction: row; flex-wrap: wrap; justify-content: flex-start; width: 100% }\n",
       "    .wandb-col { display: flex; flex-direction: column; flex-basis: 100%; flex: 1; padding: 10px; }\n",
       "    </style>\n",
       "<div class=\"wandb-row\"><div class=\"wandb-col\"><h3>Run history:</h3><br/><table class=\"wandb\"><tr><td>epoch</td><td>▁▁▁▂▂▂▂▂▂▃▃▃▃▃▄▄▄▄▄▄▅▅▅▅▅▅▆▆▆▆▆▇▇▇▇▇▇███</td></tr><tr><td>lr-Adam</td><td>▁▁▁▁▁▁▁▁▁▁▁▁▁▁▁▁▁▁▁▁▁▁▁▁▁▁▁▁▁▁▁▁▁▁▁▁▁▁▁▁</td></tr><tr><td>train_acc</td><td>▁▄▅▅▆▆▅▆▆▇▆▆▆▇▆▇▇▇▇▇▇▇▇▇█▇▇▇█▆█▇█▇██▇█▇▇</td></tr><tr><td>train_auc</td><td>▁▅▆▆▆▆▆▇▇▇▇▇▇▇▇▇▇▇▇▇▇▇▇▇█████▇▇▇████▇██▇</td></tr><tr><td>train_f1</td><td>▁▅▆▆▆▆▆▆▇▇▅▇▆▇▆▇▇▇▇▇█▇▇▇█▇▇▇▇▇█▇████▇█▇▇</td></tr><tr><td>train_loss_epoch</td><td>█▅▄▄▃▃▄▃▃▃▃▃▃▂▃▂▂▂▂▂▂▂▂▃▁▂▂▂▂▃▂▂▁▁▁▂▂▁▂▂</td></tr><tr><td>train_loss_step</td><td>█▄▆▄▅▄▇▅▄▅▃▆▆▅▃▅▄▄▄▃▅▄▃▃▂▄▆▅▅▁▄▃▄▄▅▃▅▆▄▅</td></tr><tr><td>trainer/global_step</td><td>▁▁▁▂▁▂▂▁▃▃▂▃▂▂▄▂▂▄▂▂▅▂▂▅▂▆▆▂▆▆▃▇▃▃▇▃▃█▃▃</td></tr><tr><td>val_acc</td><td>▁▂▄▄▄▄▃▅▅▃▅▅▄▄▄▄▆▅▆▄▅▇▆▆▄█▇▄▅▄▃▆▅▄▅▂▃▇▅▄</td></tr><tr><td>val_auc</td><td>▁▂▅▅▆▆▄▆▆▆▅▄▆▅▅▅▇▄▆▆▆▇▇▆▅█▆█▇█▆▆▇▇▇▆██▇▇</td></tr><tr><td>val_f1</td><td>▁▂▄▄▅▄▄▅▅▄▅▅▅▄▅▅▇▆▇▅▆▇▇▆▄█▇▄▆▅▃▆▅▅▅▃▃▇▅▅</td></tr><tr><td>val_loss_epoch</td><td>▆█▆▆▅▅▇▅▅▇▅▅▆▆▆▆▃▄▄▆▅▃▃▄▇▁▃▆▅▆█▅▅▆▅██▂▅▆</td></tr><tr><td>val_loss_step</td><td>▇▁█▅▁▆▁█▅▁▅▁█▅▁▆▂█▅▁▅▁▄▁█▄▁▆▁█▆▁▆▁█▆▁▄▁▆</td></tr></table><br/></div><div class=\"wandb-col\"><h3>Run summary:</h3><br/><table class=\"wandb\"><tr><td>epoch</td><td>64</td></tr><tr><td>lr-Adam</td><td>0.005</td></tr><tr><td>train_acc</td><td>0.76708</td></tr><tr><td>train_auc</td><td>0.79745</td></tr><tr><td>train_f1</td><td>0.64826</td></tr><tr><td>train_loss_epoch</td><td>0.53618</td></tr><tr><td>train_loss_step</td><td>0.57048</td></tr><tr><td>trainer/global_step</td><td>1104</td></tr><tr><td>val_acc</td><td>0.64865</td></tr><tr><td>val_auc</td><td>0.83745</td></tr><tr><td>val_f1</td><td>0.35461</td></tr><tr><td>val_loss_epoch</td><td>0.77872</td></tr><tr><td>val_loss_step</td><td>1.31297</td></tr></table><br/></div></div>"
      ],
      "text/plain": [
       "<IPython.core.display.HTML object>"
      ]
     },
     "metadata": {},
     "output_type": "display_data"
    },
    {
     "data": {
      "text/html": [
       " View run <strong style=\"color:#cdcd00\">GAT_4_32_bilinear_4</strong> at: <a href='https://wandb.ai/thoomas/PLA_01122024_9PPI_2D3D_fusion_Kfold/runs/mgpyvr6m' target=\"_blank\">https://wandb.ai/thoomas/PLA_01122024_9PPI_2D3D_fusion_Kfold/runs/mgpyvr6m</a><br/>Synced 6 W&B file(s), 0 media file(s), 0 artifact file(s) and 0 other file(s)"
      ],
      "text/plain": [
       "<IPython.core.display.HTML object>"
      ]
     },
     "metadata": {},
     "output_type": "display_data"
    },
    {
     "data": {
      "text/html": [
       "Find logs at: <code>.\\wandb\\run-20240128_182656-mgpyvr6m\\logs</code>"
      ],
      "text/plain": [
       "<IPython.core.display.HTML object>"
      ]
     },
     "metadata": {},
     "output_type": "display_data"
    },
    {
     "data": {
      "application/vnd.jupyter.widget-view+json": {
       "model_id": "0aab0a6030ea4b288a94620aeecb9646",
       "version_major": 2,
       "version_minor": 0
      },
      "text/plain": [
       "VBox(children=(Label(value='Waiting for wandb.init()...\\r'), FloatProgress(value=0.01693333333435779, max=1.0)…"
      ]
     },
     "metadata": {},
     "output_type": "display_data"
    },
    {
     "data": {
      "text/html": [
       "wandb version 0.16.2 is available!  To upgrade, please run:\n",
       " $ pip install wandb --upgrade"
      ],
      "text/plain": [
       "<IPython.core.display.HTML object>"
      ]
     },
     "metadata": {},
     "output_type": "display_data"
    },
    {
     "data": {
      "text/html": [
       "Tracking run with wandb version 0.14.0"
      ],
      "text/plain": [
       "<IPython.core.display.HTML object>"
      ]
     },
     "metadata": {},
     "output_type": "display_data"
    },
    {
     "data": {
      "text/html": [
       "Run data is saved locally in <code>y:\\coskun-lab\\Thomas\\23_PLA_revision\\notebooks\\wandb\\run-20240128_192651-54ogjv09</code>"
      ],
      "text/plain": [
       "<IPython.core.display.HTML object>"
      ]
     },
     "metadata": {},
     "output_type": "display_data"
    },
    {
     "data": {
      "text/html": [
       "Syncing run <strong><a href='https://wandb.ai/thoomas/PLA_01122024_9PPI_2D3D_fusion_Kfold/runs/54ogjv09' target=\"_blank\">GINConv_2_16_bilinear_4</a></strong> to <a href='https://wandb.ai/thoomas/PLA_01122024_9PPI_2D3D_fusion_Kfold' target=\"_blank\">Weights & Biases</a> (<a href='https://wandb.me/run' target=\"_blank\">docs</a>)<br/>"
      ],
      "text/plain": [
       "<IPython.core.display.HTML object>"
      ]
     },
     "metadata": {},
     "output_type": "display_data"
    },
    {
     "data": {
      "text/html": [
       " View project at <a href='https://wandb.ai/thoomas/PLA_01122024_9PPI_2D3D_fusion_Kfold' target=\"_blank\">https://wandb.ai/thoomas/PLA_01122024_9PPI_2D3D_fusion_Kfold</a>"
      ],
      "text/plain": [
       "<IPython.core.display.HTML object>"
      ]
     },
     "metadata": {},
     "output_type": "display_data"
    },
    {
     "data": {
      "text/html": [
       " View run at <a href='https://wandb.ai/thoomas/PLA_01122024_9PPI_2D3D_fusion_Kfold/runs/54ogjv09' target=\"_blank\">https://wandb.ai/thoomas/PLA_01122024_9PPI_2D3D_fusion_Kfold/runs/54ogjv09</a>"
      ],
      "text/plain": [
       "<IPython.core.display.HTML object>"
      ]
     },
     "metadata": {},
     "output_type": "display_data"
    },
    {
     "name": "stderr",
     "output_type": "stream",
     "text": [
      "Global seed set to 42\n",
      "GPU available: True (cuda), used: True\n",
      "TPU available: False, using: 0 TPU cores\n",
      "IPU available: False, using: 0 IPUs\n",
      "HPU available: False, using: 0 HPUs\n",
      "Global seed set to 42\n",
      "LOCAL_RANK: 0 - CUDA_VISIBLE_DEVICES: [0,1]\n",
      "\n",
      "   | Name        | Type             | Params\n",
      "--------------------------------------------------\n",
      "0  | x_embedding | Identity         | 0     \n",
      "1  | model2D     | GIN              | 1.1 K \n",
      "2  | model3D     | GIN              | 1.1 K \n",
      "3  | head        | BilinearFusion   | 19.6 K\n",
      "4  | pred        | Sequential       | 34    \n",
      "5  | loss_module | CrossEntropyLoss | 0     \n",
      "6  | train_acc   | BinaryAccuracy   | 0     \n",
      "7  | train_auroc | BinaryAUROC      | 0     \n",
      "8  | train_f1    | BinaryF1Score    | 0     \n",
      "9  | valid_acc   | BinaryAccuracy   | 0     \n",
      "10 | valid_auroc | BinaryAUROC      | 0     \n",
      "11 | valid_f1    | BinaryF1Score    | 0     \n",
      "--------------------------------------------------\n",
      "21.8 K    Trainable params\n",
      "0         Non-trainable params\n",
      "21.8 K    Total params\n",
      "0.087     Total estimated model params size (MB)\n"
     ]
    },
    {
     "name": "stdout",
     "output_type": "stream",
     "text": [
      "GINConv\n"
     ]
    },
    {
     "name": "stderr",
     "output_type": "stream",
     "text": [
      "`Trainer.fit` stopped: `max_epochs=65` reached.\n",
      "--- Logging error ---\n",
      "Traceback (most recent call last):\n",
      "  File \"c:\\Users\\thu71\\Anaconda3\\envs\\snowflake\\lib\\logging\\__init__.py\", line 1087, in emit\n",
      "    self.flush()\n",
      "  File \"c:\\Users\\thu71\\Anaconda3\\envs\\snowflake\\lib\\logging\\__init__.py\", line 1067, in flush\n",
      "    self.stream.flush()\n",
      "FileNotFoundError: [Errno 2] No such file or directory\n",
      "Call stack:\n",
      "  File \"c:\\Users\\thu71\\Anaconda3\\envs\\snowflake\\lib\\runpy.py\", line 197, in _run_module_as_main\n",
      "    return _run_code(code, main_globals, None,\n",
      "  File \"c:\\Users\\thu71\\Anaconda3\\envs\\snowflake\\lib\\runpy.py\", line 87, in _run_code\n",
      "    exec(code, run_globals)\n",
      "  File \"c:\\Users\\thu71\\Anaconda3\\envs\\snowflake\\lib\\site-packages\\ipykernel_launcher.py\", line 17, in <module>\n",
      "    app.launch_new_instance()\n",
      "  File \"c:\\Users\\thu71\\Anaconda3\\envs\\snowflake\\lib\\site-packages\\traitlets\\config\\application.py\", line 1043, in launch_instance\n",
      "    app.start()\n",
      "  File \"c:\\Users\\thu71\\Anaconda3\\envs\\snowflake\\lib\\site-packages\\ipykernel\\kernelapp.py\", line 725, in start\n",
      "    self.io_loop.start()\n",
      "  File \"c:\\Users\\thu71\\Anaconda3\\envs\\snowflake\\lib\\site-packages\\tornado\\platform\\asyncio.py\", line 215, in start\n",
      "    self.asyncio_loop.run_forever()\n",
      "  File \"c:\\Users\\thu71\\Anaconda3\\envs\\snowflake\\lib\\asyncio\\base_events.py\", line 601, in run_forever\n",
      "    self._run_once()\n",
      "  File \"c:\\Users\\thu71\\Anaconda3\\envs\\snowflake\\lib\\asyncio\\base_events.py\", line 1905, in _run_once\n",
      "    handle._run()\n",
      "  File \"c:\\Users\\thu71\\Anaconda3\\envs\\snowflake\\lib\\asyncio\\events.py\", line 80, in _run\n",
      "    self._context.run(self._callback, *self._args)\n",
      "  File \"c:\\Users\\thu71\\Anaconda3\\envs\\snowflake\\lib\\site-packages\\ipykernel\\kernelbase.py\", line 513, in dispatch_queue\n",
      "    await self.process_one()\n",
      "  File \"c:\\Users\\thu71\\Anaconda3\\envs\\snowflake\\lib\\site-packages\\ipykernel\\kernelbase.py\", line 502, in process_one\n",
      "    await dispatch(*args)\n",
      "  File \"c:\\Users\\thu71\\Anaconda3\\envs\\snowflake\\lib\\site-packages\\ipykernel\\kernelbase.py\", line 409, in dispatch_shell\n",
      "    await result\n",
      "  File \"c:\\Users\\thu71\\Anaconda3\\envs\\snowflake\\lib\\site-packages\\ipykernel\\kernelbase.py\", line 729, in execute_request\n",
      "    reply_content = await reply_content\n",
      "  File \"c:\\Users\\thu71\\Anaconda3\\envs\\snowflake\\lib\\site-packages\\ipykernel\\ipkernel.py\", line 422, in do_execute\n",
      "    res = shell.run_cell(\n",
      "  File \"c:\\Users\\thu71\\Anaconda3\\envs\\snowflake\\lib\\site-packages\\ipykernel\\zmqshell.py\", line 540, in run_cell\n",
      "    return super().run_cell(*args, **kwargs)\n",
      "  File \"c:\\Users\\thu71\\Anaconda3\\envs\\snowflake\\lib\\site-packages\\IPython\\core\\interactiveshell.py\", line 2961, in run_cell\n",
      "    result = self._run_cell(\n",
      "  File \"c:\\Users\\thu71\\Anaconda3\\envs\\snowflake\\lib\\site-packages\\IPython\\core\\interactiveshell.py\", line 3016, in _run_cell\n",
      "    result = runner(coro)\n",
      "  File \"c:\\Users\\thu71\\Anaconda3\\envs\\snowflake\\lib\\site-packages\\IPython\\core\\async_helpers.py\", line 129, in _pseudo_sync_runner\n",
      "    coro.send(None)\n",
      "  File \"c:\\Users\\thu71\\Anaconda3\\envs\\snowflake\\lib\\site-packages\\IPython\\core\\interactiveshell.py\", line 3221, in run_cell_async\n",
      "    has_raised = await self.run_ast_nodes(code_ast.body, cell_name,\n",
      "  File \"c:\\Users\\thu71\\Anaconda3\\envs\\snowflake\\lib\\site-packages\\IPython\\core\\interactiveshell.py\", line 3400, in run_ast_nodes\n",
      "    if await self.run_code(code, result, async_=asy):\n",
      "  File \"c:\\Users\\thu71\\Anaconda3\\envs\\snowflake\\lib\\site-packages\\IPython\\core\\interactiveshell.py\", line 3460, in run_code\n",
      "    exec(code_obj, self.user_global_ns, self.user_ns)\n",
      "  File \"C:\\Users\\thu71\\AppData\\Local\\Temp\\ipykernel_87736\\3526333246.py\", line 38, in <module>\n",
      "    run.finish()\n",
      "  File \"c:\\Users\\thu71\\Anaconda3\\envs\\snowflake\\lib\\site-packages\\wandb\\sdk\\wandb_run.py\", line 370, in wrapper\n",
      "    return func(self, *args, **kwargs)\n",
      "  File \"c:\\Users\\thu71\\Anaconda3\\envs\\snowflake\\lib\\site-packages\\wandb\\sdk\\wandb_run.py\", line 333, in wrapper\n",
      "    return func(self, *args, **kwargs)\n",
      "  File \"c:\\Users\\thu71\\Anaconda3\\envs\\snowflake\\lib\\site-packages\\wandb\\sdk\\wandb_run.py\", line 1845, in finish\n",
      "    return self._finish(exit_code, quiet)\n",
      "  File \"c:\\Users\\thu71\\Anaconda3\\envs\\snowflake\\lib\\site-packages\\wandb\\sdk\\wandb_run.py\", line 1854, in _finish\n",
      "    logger.info(f\"finishing run {self._get_path()}\")\n",
      "Message: 'finishing run thoomas/PLA_01122024_9PPI_2D3D_fusion_Kfold/54ogjv09'\n",
      "Arguments: ()\n",
      "--- Logging error ---\n",
      "Traceback (most recent call last):\n",
      "  File \"c:\\Users\\thu71\\Anaconda3\\envs\\snowflake\\lib\\logging\\__init__.py\", line 1087, in emit\n",
      "    self.flush()\n",
      "  File \"c:\\Users\\thu71\\Anaconda3\\envs\\snowflake\\lib\\logging\\__init__.py\", line 1067, in flush\n",
      "    self.stream.flush()\n",
      "OSError: [Errno 22] Invalid argument\n",
      "Call stack:\n",
      "  File \"c:\\Users\\thu71\\Anaconda3\\envs\\snowflake\\lib\\runpy.py\", line 197, in _run_module_as_main\n",
      "    return _run_code(code, main_globals, None,\n",
      "  File \"c:\\Users\\thu71\\Anaconda3\\envs\\snowflake\\lib\\runpy.py\", line 87, in _run_code\n",
      "    exec(code, run_globals)\n",
      "  File \"c:\\Users\\thu71\\Anaconda3\\envs\\snowflake\\lib\\site-packages\\ipykernel_launcher.py\", line 17, in <module>\n",
      "    app.launch_new_instance()\n",
      "  File \"c:\\Users\\thu71\\Anaconda3\\envs\\snowflake\\lib\\site-packages\\traitlets\\config\\application.py\", line 1043, in launch_instance\n",
      "    app.start()\n",
      "  File \"c:\\Users\\thu71\\Anaconda3\\envs\\snowflake\\lib\\site-packages\\ipykernel\\kernelapp.py\", line 725, in start\n",
      "    self.io_loop.start()\n",
      "  File \"c:\\Users\\thu71\\Anaconda3\\envs\\snowflake\\lib\\site-packages\\tornado\\platform\\asyncio.py\", line 215, in start\n",
      "    self.asyncio_loop.run_forever()\n",
      "  File \"c:\\Users\\thu71\\Anaconda3\\envs\\snowflake\\lib\\asyncio\\base_events.py\", line 601, in run_forever\n",
      "    self._run_once()\n",
      "  File \"c:\\Users\\thu71\\Anaconda3\\envs\\snowflake\\lib\\asyncio\\base_events.py\", line 1905, in _run_once\n",
      "    handle._run()\n",
      "  File \"c:\\Users\\thu71\\Anaconda3\\envs\\snowflake\\lib\\asyncio\\events.py\", line 80, in _run\n",
      "    self._context.run(self._callback, *self._args)\n",
      "  File \"c:\\Users\\thu71\\Anaconda3\\envs\\snowflake\\lib\\site-packages\\ipykernel\\kernelbase.py\", line 513, in dispatch_queue\n",
      "    await self.process_one()\n",
      "  File \"c:\\Users\\thu71\\Anaconda3\\envs\\snowflake\\lib\\site-packages\\ipykernel\\kernelbase.py\", line 502, in process_one\n",
      "    await dispatch(*args)\n",
      "  File \"c:\\Users\\thu71\\Anaconda3\\envs\\snowflake\\lib\\site-packages\\ipykernel\\kernelbase.py\", line 409, in dispatch_shell\n",
      "    await result\n",
      "  File \"c:\\Users\\thu71\\Anaconda3\\envs\\snowflake\\lib\\site-packages\\ipykernel\\kernelbase.py\", line 729, in execute_request\n",
      "    reply_content = await reply_content\n",
      "  File \"c:\\Users\\thu71\\Anaconda3\\envs\\snowflake\\lib\\site-packages\\ipykernel\\ipkernel.py\", line 422, in do_execute\n",
      "    res = shell.run_cell(\n",
      "  File \"c:\\Users\\thu71\\Anaconda3\\envs\\snowflake\\lib\\site-packages\\ipykernel\\zmqshell.py\", line 540, in run_cell\n",
      "    return super().run_cell(*args, **kwargs)\n",
      "  File \"c:\\Users\\thu71\\Anaconda3\\envs\\snowflake\\lib\\site-packages\\IPython\\core\\interactiveshell.py\", line 2961, in run_cell\n",
      "    result = self._run_cell(\n",
      "  File \"c:\\Users\\thu71\\Anaconda3\\envs\\snowflake\\lib\\site-packages\\IPython\\core\\interactiveshell.py\", line 3016, in _run_cell\n",
      "    result = runner(coro)\n",
      "  File \"c:\\Users\\thu71\\Anaconda3\\envs\\snowflake\\lib\\site-packages\\IPython\\core\\async_helpers.py\", line 129, in _pseudo_sync_runner\n",
      "    coro.send(None)\n",
      "  File \"c:\\Users\\thu71\\Anaconda3\\envs\\snowflake\\lib\\site-packages\\IPython\\core\\interactiveshell.py\", line 3221, in run_cell_async\n",
      "    has_raised = await self.run_ast_nodes(code_ast.body, cell_name,\n",
      "  File \"c:\\Users\\thu71\\Anaconda3\\envs\\snowflake\\lib\\site-packages\\IPython\\core\\interactiveshell.py\", line 3400, in run_ast_nodes\n",
      "    if await self.run_code(code, result, async_=asy):\n",
      "  File \"c:\\Users\\thu71\\Anaconda3\\envs\\snowflake\\lib\\site-packages\\IPython\\core\\interactiveshell.py\", line 3460, in run_code\n",
      "    exec(code_obj, self.user_global_ns, self.user_ns)\n",
      "  File \"C:\\Users\\thu71\\AppData\\Local\\Temp\\ipykernel_87736\\3526333246.py\", line 38, in <module>\n",
      "    run.finish()\n",
      "  File \"c:\\Users\\thu71\\Anaconda3\\envs\\snowflake\\lib\\site-packages\\wandb\\sdk\\wandb_run.py\", line 370, in wrapper\n",
      "    return func(self, *args, **kwargs)\n",
      "  File \"c:\\Users\\thu71\\Anaconda3\\envs\\snowflake\\lib\\site-packages\\wandb\\sdk\\wandb_run.py\", line 333, in wrapper\n",
      "    return func(self, *args, **kwargs)\n",
      "  File \"c:\\Users\\thu71\\Anaconda3\\envs\\snowflake\\lib\\site-packages\\wandb\\sdk\\wandb_run.py\", line 1845, in finish\n",
      "    return self._finish(exit_code, quiet)\n",
      "  File \"c:\\Users\\thu71\\Anaconda3\\envs\\snowflake\\lib\\site-packages\\wandb\\sdk\\wandb_run.py\", line 1858, in _finish\n",
      "    hook.call()\n",
      "  File \"c:\\Users\\thu71\\Anaconda3\\envs\\snowflake\\lib\\site-packages\\wandb\\sdk\\wandb_init.py\", line 429, in _jupyter_teardown\n",
      "    self.notebook.save_history()\n",
      "  File \"c:\\Users\\thu71\\Anaconda3\\envs\\snowflake\\lib\\site-packages\\wandb\\jupyter.py\", line 445, in save_history\n",
      "    logger.info(\"not saving jupyter history\")\n",
      "Message: 'not saving jupyter history'\n",
      "Arguments: ()\n",
      "--- Logging error ---\n",
      "Traceback (most recent call last):\n",
      "  File \"c:\\Users\\thu71\\Anaconda3\\envs\\snowflake\\lib\\logging\\__init__.py\", line 1087, in emit\n",
      "    self.flush()\n",
      "  File \"c:\\Users\\thu71\\Anaconda3\\envs\\snowflake\\lib\\logging\\__init__.py\", line 1067, in flush\n",
      "    self.stream.flush()\n",
      "OSError: [Errno 22] Invalid argument\n",
      "Call stack:\n",
      "  File \"c:\\Users\\thu71\\Anaconda3\\envs\\snowflake\\lib\\runpy.py\", line 197, in _run_module_as_main\n",
      "    return _run_code(code, main_globals, None,\n",
      "  File \"c:\\Users\\thu71\\Anaconda3\\envs\\snowflake\\lib\\runpy.py\", line 87, in _run_code\n",
      "    exec(code, run_globals)\n",
      "  File \"c:\\Users\\thu71\\Anaconda3\\envs\\snowflake\\lib\\site-packages\\ipykernel_launcher.py\", line 17, in <module>\n",
      "    app.launch_new_instance()\n",
      "  File \"c:\\Users\\thu71\\Anaconda3\\envs\\snowflake\\lib\\site-packages\\traitlets\\config\\application.py\", line 1043, in launch_instance\n",
      "    app.start()\n",
      "  File \"c:\\Users\\thu71\\Anaconda3\\envs\\snowflake\\lib\\site-packages\\ipykernel\\kernelapp.py\", line 725, in start\n",
      "    self.io_loop.start()\n",
      "  File \"c:\\Users\\thu71\\Anaconda3\\envs\\snowflake\\lib\\site-packages\\tornado\\platform\\asyncio.py\", line 215, in start\n",
      "    self.asyncio_loop.run_forever()\n",
      "  File \"c:\\Users\\thu71\\Anaconda3\\envs\\snowflake\\lib\\asyncio\\base_events.py\", line 601, in run_forever\n",
      "    self._run_once()\n",
      "  File \"c:\\Users\\thu71\\Anaconda3\\envs\\snowflake\\lib\\asyncio\\base_events.py\", line 1905, in _run_once\n",
      "    handle._run()\n",
      "  File \"c:\\Users\\thu71\\Anaconda3\\envs\\snowflake\\lib\\asyncio\\events.py\", line 80, in _run\n",
      "    self._context.run(self._callback, *self._args)\n",
      "  File \"c:\\Users\\thu71\\Anaconda3\\envs\\snowflake\\lib\\site-packages\\ipykernel\\kernelbase.py\", line 513, in dispatch_queue\n",
      "    await self.process_one()\n",
      "  File \"c:\\Users\\thu71\\Anaconda3\\envs\\snowflake\\lib\\site-packages\\ipykernel\\kernelbase.py\", line 502, in process_one\n",
      "    await dispatch(*args)\n",
      "  File \"c:\\Users\\thu71\\Anaconda3\\envs\\snowflake\\lib\\site-packages\\ipykernel\\kernelbase.py\", line 409, in dispatch_shell\n",
      "    await result\n",
      "  File \"c:\\Users\\thu71\\Anaconda3\\envs\\snowflake\\lib\\site-packages\\ipykernel\\kernelbase.py\", line 729, in execute_request\n",
      "    reply_content = await reply_content\n",
      "  File \"c:\\Users\\thu71\\Anaconda3\\envs\\snowflake\\lib\\site-packages\\ipykernel\\ipkernel.py\", line 422, in do_execute\n",
      "    res = shell.run_cell(\n",
      "  File \"c:\\Users\\thu71\\Anaconda3\\envs\\snowflake\\lib\\site-packages\\ipykernel\\zmqshell.py\", line 540, in run_cell\n",
      "    return super().run_cell(*args, **kwargs)\n",
      "  File \"c:\\Users\\thu71\\Anaconda3\\envs\\snowflake\\lib\\site-packages\\IPython\\core\\interactiveshell.py\", line 2961, in run_cell\n",
      "    result = self._run_cell(\n",
      "  File \"c:\\Users\\thu71\\Anaconda3\\envs\\snowflake\\lib\\site-packages\\IPython\\core\\interactiveshell.py\", line 3016, in _run_cell\n",
      "    result = runner(coro)\n",
      "  File \"c:\\Users\\thu71\\Anaconda3\\envs\\snowflake\\lib\\site-packages\\IPython\\core\\async_helpers.py\", line 129, in _pseudo_sync_runner\n",
      "    coro.send(None)\n",
      "  File \"c:\\Users\\thu71\\Anaconda3\\envs\\snowflake\\lib\\site-packages\\IPython\\core\\interactiveshell.py\", line 3221, in run_cell_async\n",
      "    has_raised = await self.run_ast_nodes(code_ast.body, cell_name,\n",
      "  File \"c:\\Users\\thu71\\Anaconda3\\envs\\snowflake\\lib\\site-packages\\IPython\\core\\interactiveshell.py\", line 3400, in run_ast_nodes\n",
      "    if await self.run_code(code, result, async_=asy):\n",
      "  File \"c:\\Users\\thu71\\Anaconda3\\envs\\snowflake\\lib\\site-packages\\IPython\\core\\interactiveshell.py\", line 3460, in run_code\n",
      "    exec(code_obj, self.user_global_ns, self.user_ns)\n",
      "  File \"C:\\Users\\thu71\\AppData\\Local\\Temp\\ipykernel_87736\\3526333246.py\", line 38, in <module>\n",
      "    run.finish()\n",
      "  File \"c:\\Users\\thu71\\Anaconda3\\envs\\snowflake\\lib\\site-packages\\wandb\\sdk\\wandb_run.py\", line 370, in wrapper\n",
      "    return func(self, *args, **kwargs)\n",
      "  File \"c:\\Users\\thu71\\Anaconda3\\envs\\snowflake\\lib\\site-packages\\wandb\\sdk\\wandb_run.py\", line 333, in wrapper\n",
      "    return func(self, *args, **kwargs)\n",
      "  File \"c:\\Users\\thu71\\Anaconda3\\envs\\snowflake\\lib\\site-packages\\wandb\\sdk\\wandb_run.py\", line 1845, in finish\n",
      "    return self._finish(exit_code, quiet)\n",
      "  File \"c:\\Users\\thu71\\Anaconda3\\envs\\snowflake\\lib\\site-packages\\wandb\\sdk\\wandb_run.py\", line 1858, in _finish\n",
      "    hook.call()\n",
      "  File \"c:\\Users\\thu71\\Anaconda3\\envs\\snowflake\\lib\\site-packages\\wandb\\sdk\\wandb_init.py\", line 430, in _jupyter_teardown\n",
      "    if self.notebook.save_ipynb():\n",
      "  File \"c:\\Users\\thu71\\Anaconda3\\envs\\snowflake\\lib\\site-packages\\wandb\\jupyter.py\", line 373, in save_ipynb\n",
      "    logger.info(\"not saving jupyter notebook\")\n",
      "Message: 'not saving jupyter notebook'\n",
      "Arguments: ()\n",
      "--- Logging error ---\n",
      "Traceback (most recent call last):\n",
      "  File \"c:\\Users\\thu71\\Anaconda3\\envs\\snowflake\\lib\\logging\\__init__.py\", line 1087, in emit\n",
      "    self.flush()\n",
      "  File \"c:\\Users\\thu71\\Anaconda3\\envs\\snowflake\\lib\\logging\\__init__.py\", line 1067, in flush\n",
      "    self.stream.flush()\n",
      "OSError: [Errno 22] Invalid argument\n",
      "Call stack:\n",
      "  File \"c:\\Users\\thu71\\Anaconda3\\envs\\snowflake\\lib\\runpy.py\", line 197, in _run_module_as_main\n",
      "    return _run_code(code, main_globals, None,\n",
      "  File \"c:\\Users\\thu71\\Anaconda3\\envs\\snowflake\\lib\\runpy.py\", line 87, in _run_code\n",
      "    exec(code, run_globals)\n",
      "  File \"c:\\Users\\thu71\\Anaconda3\\envs\\snowflake\\lib\\site-packages\\ipykernel_launcher.py\", line 17, in <module>\n",
      "    app.launch_new_instance()\n",
      "  File \"c:\\Users\\thu71\\Anaconda3\\envs\\snowflake\\lib\\site-packages\\traitlets\\config\\application.py\", line 1043, in launch_instance\n",
      "    app.start()\n",
      "  File \"c:\\Users\\thu71\\Anaconda3\\envs\\snowflake\\lib\\site-packages\\ipykernel\\kernelapp.py\", line 725, in start\n",
      "    self.io_loop.start()\n",
      "  File \"c:\\Users\\thu71\\Anaconda3\\envs\\snowflake\\lib\\site-packages\\tornado\\platform\\asyncio.py\", line 215, in start\n",
      "    self.asyncio_loop.run_forever()\n",
      "  File \"c:\\Users\\thu71\\Anaconda3\\envs\\snowflake\\lib\\asyncio\\base_events.py\", line 601, in run_forever\n",
      "    self._run_once()\n",
      "  File \"c:\\Users\\thu71\\Anaconda3\\envs\\snowflake\\lib\\asyncio\\base_events.py\", line 1905, in _run_once\n",
      "    handle._run()\n",
      "  File \"c:\\Users\\thu71\\Anaconda3\\envs\\snowflake\\lib\\asyncio\\events.py\", line 80, in _run\n",
      "    self._context.run(self._callback, *self._args)\n",
      "  File \"c:\\Users\\thu71\\Anaconda3\\envs\\snowflake\\lib\\site-packages\\ipykernel\\kernelbase.py\", line 513, in dispatch_queue\n",
      "    await self.process_one()\n",
      "  File \"c:\\Users\\thu71\\Anaconda3\\envs\\snowflake\\lib\\site-packages\\ipykernel\\kernelbase.py\", line 502, in process_one\n",
      "    await dispatch(*args)\n",
      "  File \"c:\\Users\\thu71\\Anaconda3\\envs\\snowflake\\lib\\site-packages\\ipykernel\\kernelbase.py\", line 409, in dispatch_shell\n",
      "    await result\n",
      "  File \"c:\\Users\\thu71\\Anaconda3\\envs\\snowflake\\lib\\site-packages\\ipykernel\\kernelbase.py\", line 729, in execute_request\n",
      "    reply_content = await reply_content\n",
      "  File \"c:\\Users\\thu71\\Anaconda3\\envs\\snowflake\\lib\\site-packages\\ipykernel\\ipkernel.py\", line 422, in do_execute\n",
      "    res = shell.run_cell(\n",
      "  File \"c:\\Users\\thu71\\Anaconda3\\envs\\snowflake\\lib\\site-packages\\ipykernel\\zmqshell.py\", line 540, in run_cell\n",
      "    return super().run_cell(*args, **kwargs)\n",
      "  File \"c:\\Users\\thu71\\Anaconda3\\envs\\snowflake\\lib\\site-packages\\IPython\\core\\interactiveshell.py\", line 2961, in run_cell\n",
      "    result = self._run_cell(\n",
      "  File \"c:\\Users\\thu71\\Anaconda3\\envs\\snowflake\\lib\\site-packages\\IPython\\core\\interactiveshell.py\", line 3016, in _run_cell\n",
      "    result = runner(coro)\n",
      "  File \"c:\\Users\\thu71\\Anaconda3\\envs\\snowflake\\lib\\site-packages\\IPython\\core\\async_helpers.py\", line 129, in _pseudo_sync_runner\n",
      "    coro.send(None)\n",
      "  File \"c:\\Users\\thu71\\Anaconda3\\envs\\snowflake\\lib\\site-packages\\IPython\\core\\interactiveshell.py\", line 3221, in run_cell_async\n",
      "    has_raised = await self.run_ast_nodes(code_ast.body, cell_name,\n",
      "  File \"c:\\Users\\thu71\\Anaconda3\\envs\\snowflake\\lib\\site-packages\\IPython\\core\\interactiveshell.py\", line 3400, in run_ast_nodes\n",
      "    if await self.run_code(code, result, async_=asy):\n",
      "  File \"c:\\Users\\thu71\\Anaconda3\\envs\\snowflake\\lib\\site-packages\\IPython\\core\\interactiveshell.py\", line 3460, in run_code\n",
      "    exec(code_obj, self.user_global_ns, self.user_ns)\n",
      "  File \"C:\\Users\\thu71\\AppData\\Local\\Temp\\ipykernel_87736\\3526333246.py\", line 38, in <module>\n",
      "    run.finish()\n",
      "  File \"c:\\Users\\thu71\\Anaconda3\\envs\\snowflake\\lib\\site-packages\\wandb\\sdk\\wandb_run.py\", line 370, in wrapper\n",
      "    return func(self, *args, **kwargs)\n",
      "  File \"c:\\Users\\thu71\\Anaconda3\\envs\\snowflake\\lib\\site-packages\\wandb\\sdk\\wandb_run.py\", line 333, in wrapper\n",
      "    return func(self, *args, **kwargs)\n",
      "  File \"c:\\Users\\thu71\\Anaconda3\\envs\\snowflake\\lib\\site-packages\\wandb\\sdk\\wandb_run.py\", line 1845, in finish\n",
      "    return self._finish(exit_code, quiet)\n",
      "  File \"c:\\Users\\thu71\\Anaconda3\\envs\\snowflake\\lib\\site-packages\\wandb\\sdk\\wandb_run.py\", line 1858, in _finish\n",
      "    hook.call()\n",
      "  File \"c:\\Users\\thu71\\Anaconda3\\envs\\snowflake\\lib\\site-packages\\wandb\\sdk\\wandb_init.py\", line 434, in _jupyter_teardown\n",
      "    logger.info(\"cleaning up jupyter logic\")  # type: ignore\n",
      "Message: 'cleaning up jupyter logic'\n",
      "Arguments: ()\n",
      "--- Logging error ---\n",
      "Traceback (most recent call last):\n",
      "  File \"c:\\Users\\thu71\\Anaconda3\\envs\\snowflake\\lib\\logging\\__init__.py\", line 1087, in emit\n",
      "    self.flush()\n",
      "  File \"c:\\Users\\thu71\\Anaconda3\\envs\\snowflake\\lib\\logging\\__init__.py\", line 1067, in flush\n",
      "    self.stream.flush()\n",
      "OSError: [Errno 22] Invalid argument\n",
      "Call stack:\n",
      "  File \"c:\\Users\\thu71\\Anaconda3\\envs\\snowflake\\lib\\runpy.py\", line 197, in _run_module_as_main\n",
      "    return _run_code(code, main_globals, None,\n",
      "  File \"c:\\Users\\thu71\\Anaconda3\\envs\\snowflake\\lib\\runpy.py\", line 87, in _run_code\n",
      "    exec(code, run_globals)\n",
      "  File \"c:\\Users\\thu71\\Anaconda3\\envs\\snowflake\\lib\\site-packages\\ipykernel_launcher.py\", line 17, in <module>\n",
      "    app.launch_new_instance()\n",
      "  File \"c:\\Users\\thu71\\Anaconda3\\envs\\snowflake\\lib\\site-packages\\traitlets\\config\\application.py\", line 1043, in launch_instance\n",
      "    app.start()\n",
      "  File \"c:\\Users\\thu71\\Anaconda3\\envs\\snowflake\\lib\\site-packages\\ipykernel\\kernelapp.py\", line 725, in start\n",
      "    self.io_loop.start()\n",
      "  File \"c:\\Users\\thu71\\Anaconda3\\envs\\snowflake\\lib\\site-packages\\tornado\\platform\\asyncio.py\", line 215, in start\n",
      "    self.asyncio_loop.run_forever()\n",
      "  File \"c:\\Users\\thu71\\Anaconda3\\envs\\snowflake\\lib\\asyncio\\base_events.py\", line 601, in run_forever\n",
      "    self._run_once()\n",
      "  File \"c:\\Users\\thu71\\Anaconda3\\envs\\snowflake\\lib\\asyncio\\base_events.py\", line 1905, in _run_once\n",
      "    handle._run()\n",
      "  File \"c:\\Users\\thu71\\Anaconda3\\envs\\snowflake\\lib\\asyncio\\events.py\", line 80, in _run\n",
      "    self._context.run(self._callback, *self._args)\n",
      "  File \"c:\\Users\\thu71\\Anaconda3\\envs\\snowflake\\lib\\site-packages\\ipykernel\\kernelbase.py\", line 513, in dispatch_queue\n",
      "    await self.process_one()\n",
      "  File \"c:\\Users\\thu71\\Anaconda3\\envs\\snowflake\\lib\\site-packages\\ipykernel\\kernelbase.py\", line 502, in process_one\n",
      "    await dispatch(*args)\n",
      "  File \"c:\\Users\\thu71\\Anaconda3\\envs\\snowflake\\lib\\site-packages\\ipykernel\\kernelbase.py\", line 409, in dispatch_shell\n",
      "    await result\n",
      "  File \"c:\\Users\\thu71\\Anaconda3\\envs\\snowflake\\lib\\site-packages\\ipykernel\\kernelbase.py\", line 729, in execute_request\n",
      "    reply_content = await reply_content\n",
      "  File \"c:\\Users\\thu71\\Anaconda3\\envs\\snowflake\\lib\\site-packages\\ipykernel\\ipkernel.py\", line 422, in do_execute\n",
      "    res = shell.run_cell(\n",
      "  File \"c:\\Users\\thu71\\Anaconda3\\envs\\snowflake\\lib\\site-packages\\ipykernel\\zmqshell.py\", line 540, in run_cell\n",
      "    return super().run_cell(*args, **kwargs)\n",
      "  File \"c:\\Users\\thu71\\Anaconda3\\envs\\snowflake\\lib\\site-packages\\IPython\\core\\interactiveshell.py\", line 2961, in run_cell\n",
      "    result = self._run_cell(\n",
      "  File \"c:\\Users\\thu71\\Anaconda3\\envs\\snowflake\\lib\\site-packages\\IPython\\core\\interactiveshell.py\", line 3016, in _run_cell\n",
      "    result = runner(coro)\n",
      "  File \"c:\\Users\\thu71\\Anaconda3\\envs\\snowflake\\lib\\site-packages\\IPython\\core\\async_helpers.py\", line 129, in _pseudo_sync_runner\n",
      "    coro.send(None)\n",
      "  File \"c:\\Users\\thu71\\Anaconda3\\envs\\snowflake\\lib\\site-packages\\IPython\\core\\interactiveshell.py\", line 3221, in run_cell_async\n",
      "    has_raised = await self.run_ast_nodes(code_ast.body, cell_name,\n",
      "  File \"c:\\Users\\thu71\\Anaconda3\\envs\\snowflake\\lib\\site-packages\\IPython\\core\\interactiveshell.py\", line 3400, in run_ast_nodes\n",
      "    if await self.run_code(code, result, async_=asy):\n",
      "  File \"c:\\Users\\thu71\\Anaconda3\\envs\\snowflake\\lib\\site-packages\\IPython\\core\\interactiveshell.py\", line 3460, in run_code\n",
      "    exec(code_obj, self.user_global_ns, self.user_ns)\n",
      "  File \"C:\\Users\\thu71\\AppData\\Local\\Temp\\ipykernel_87736\\3526333246.py\", line 38, in <module>\n",
      "    run.finish()\n",
      "  File \"c:\\Users\\thu71\\Anaconda3\\envs\\snowflake\\lib\\site-packages\\wandb\\sdk\\wandb_run.py\", line 370, in wrapper\n",
      "    return func(self, *args, **kwargs)\n",
      "  File \"c:\\Users\\thu71\\Anaconda3\\envs\\snowflake\\lib\\site-packages\\wandb\\sdk\\wandb_run.py\", line 333, in wrapper\n",
      "    return func(self, *args, **kwargs)\n",
      "  File \"c:\\Users\\thu71\\Anaconda3\\envs\\snowflake\\lib\\site-packages\\wandb\\sdk\\wandb_run.py\", line 1845, in finish\n",
      "    return self._finish(exit_code, quiet)\n",
      "  File \"c:\\Users\\thu71\\Anaconda3\\envs\\snowflake\\lib\\site-packages\\wandb\\sdk\\wandb_run.py\", line 1860, in _finish\n",
      "    self._atexit_cleanup(exit_code=exit_code)\n",
      "  File \"c:\\Users\\thu71\\Anaconda3\\envs\\snowflake\\lib\\site-packages\\wandb\\sdk\\wandb_run.py\", line 2083, in _atexit_cleanup\n",
      "    logger.info(f\"got exitcode: {exit_code}\")\n",
      "Message: 'got exitcode: 0'\n",
      "Arguments: ()\n",
      "--- Logging error ---\n",
      "Traceback (most recent call last):\n",
      "  File \"c:\\Users\\thu71\\Anaconda3\\envs\\snowflake\\lib\\logging\\__init__.py\", line 1087, in emit\n",
      "    self.flush()\n",
      "  File \"c:\\Users\\thu71\\Anaconda3\\envs\\snowflake\\lib\\logging\\__init__.py\", line 1067, in flush\n",
      "    self.stream.flush()\n",
      "OSError: [Errno 22] Invalid argument\n",
      "Call stack:\n",
      "  File \"c:\\Users\\thu71\\Anaconda3\\envs\\snowflake\\lib\\runpy.py\", line 197, in _run_module_as_main\n",
      "    return _run_code(code, main_globals, None,\n",
      "  File \"c:\\Users\\thu71\\Anaconda3\\envs\\snowflake\\lib\\runpy.py\", line 87, in _run_code\n",
      "    exec(code, run_globals)\n",
      "  File \"c:\\Users\\thu71\\Anaconda3\\envs\\snowflake\\lib\\site-packages\\ipykernel_launcher.py\", line 17, in <module>\n",
      "    app.launch_new_instance()\n",
      "  File \"c:\\Users\\thu71\\Anaconda3\\envs\\snowflake\\lib\\site-packages\\traitlets\\config\\application.py\", line 1043, in launch_instance\n",
      "    app.start()\n",
      "  File \"c:\\Users\\thu71\\Anaconda3\\envs\\snowflake\\lib\\site-packages\\ipykernel\\kernelapp.py\", line 725, in start\n",
      "    self.io_loop.start()\n",
      "  File \"c:\\Users\\thu71\\Anaconda3\\envs\\snowflake\\lib\\site-packages\\tornado\\platform\\asyncio.py\", line 215, in start\n",
      "    self.asyncio_loop.run_forever()\n",
      "  File \"c:\\Users\\thu71\\Anaconda3\\envs\\snowflake\\lib\\asyncio\\base_events.py\", line 601, in run_forever\n",
      "    self._run_once()\n",
      "  File \"c:\\Users\\thu71\\Anaconda3\\envs\\snowflake\\lib\\asyncio\\base_events.py\", line 1905, in _run_once\n",
      "    handle._run()\n",
      "  File \"c:\\Users\\thu71\\Anaconda3\\envs\\snowflake\\lib\\asyncio\\events.py\", line 80, in _run\n",
      "    self._context.run(self._callback, *self._args)\n",
      "  File \"c:\\Users\\thu71\\Anaconda3\\envs\\snowflake\\lib\\site-packages\\ipykernel\\kernelbase.py\", line 513, in dispatch_queue\n",
      "    await self.process_one()\n",
      "  File \"c:\\Users\\thu71\\Anaconda3\\envs\\snowflake\\lib\\site-packages\\ipykernel\\kernelbase.py\", line 502, in process_one\n",
      "    await dispatch(*args)\n",
      "  File \"c:\\Users\\thu71\\Anaconda3\\envs\\snowflake\\lib\\site-packages\\ipykernel\\kernelbase.py\", line 409, in dispatch_shell\n",
      "    await result\n",
      "  File \"c:\\Users\\thu71\\Anaconda3\\envs\\snowflake\\lib\\site-packages\\ipykernel\\kernelbase.py\", line 729, in execute_request\n",
      "    reply_content = await reply_content\n",
      "  File \"c:\\Users\\thu71\\Anaconda3\\envs\\snowflake\\lib\\site-packages\\ipykernel\\ipkernel.py\", line 422, in do_execute\n",
      "    res = shell.run_cell(\n",
      "  File \"c:\\Users\\thu71\\Anaconda3\\envs\\snowflake\\lib\\site-packages\\ipykernel\\zmqshell.py\", line 540, in run_cell\n",
      "    return super().run_cell(*args, **kwargs)\n",
      "  File \"c:\\Users\\thu71\\Anaconda3\\envs\\snowflake\\lib\\site-packages\\IPython\\core\\interactiveshell.py\", line 2961, in run_cell\n",
      "    result = self._run_cell(\n",
      "  File \"c:\\Users\\thu71\\Anaconda3\\envs\\snowflake\\lib\\site-packages\\IPython\\core\\interactiveshell.py\", line 3016, in _run_cell\n",
      "    result = runner(coro)\n",
      "  File \"c:\\Users\\thu71\\Anaconda3\\envs\\snowflake\\lib\\site-packages\\IPython\\core\\async_helpers.py\", line 129, in _pseudo_sync_runner\n",
      "    coro.send(None)\n",
      "  File \"c:\\Users\\thu71\\Anaconda3\\envs\\snowflake\\lib\\site-packages\\IPython\\core\\interactiveshell.py\", line 3221, in run_cell_async\n",
      "    has_raised = await self.run_ast_nodes(code_ast.body, cell_name,\n",
      "  File \"c:\\Users\\thu71\\Anaconda3\\envs\\snowflake\\lib\\site-packages\\IPython\\core\\interactiveshell.py\", line 3400, in run_ast_nodes\n",
      "    if await self.run_code(code, result, async_=asy):\n",
      "  File \"c:\\Users\\thu71\\Anaconda3\\envs\\snowflake\\lib\\site-packages\\IPython\\core\\interactiveshell.py\", line 3460, in run_code\n",
      "    exec(code_obj, self.user_global_ns, self.user_ns)\n",
      "  File \"C:\\Users\\thu71\\AppData\\Local\\Temp\\ipykernel_87736\\3526333246.py\", line 38, in <module>\n",
      "    run.finish()\n",
      "  File \"c:\\Users\\thu71\\Anaconda3\\envs\\snowflake\\lib\\site-packages\\wandb\\sdk\\wandb_run.py\", line 370, in wrapper\n",
      "    return func(self, *args, **kwargs)\n",
      "  File \"c:\\Users\\thu71\\Anaconda3\\envs\\snowflake\\lib\\site-packages\\wandb\\sdk\\wandb_run.py\", line 333, in wrapper\n",
      "    return func(self, *args, **kwargs)\n",
      "  File \"c:\\Users\\thu71\\Anaconda3\\envs\\snowflake\\lib\\site-packages\\wandb\\sdk\\wandb_run.py\", line 1845, in finish\n",
      "    return self._finish(exit_code, quiet)\n",
      "  File \"c:\\Users\\thu71\\Anaconda3\\envs\\snowflake\\lib\\site-packages\\wandb\\sdk\\wandb_run.py\", line 1860, in _finish\n",
      "    self._atexit_cleanup(exit_code=exit_code)\n",
      "  File \"c:\\Users\\thu71\\Anaconda3\\envs\\snowflake\\lib\\site-packages\\wandb\\sdk\\wandb_run.py\", line 2092, in _atexit_cleanup\n",
      "    self._on_finish()\n",
      "  File \"c:\\Users\\thu71\\Anaconda3\\envs\\snowflake\\lib\\site-packages\\wandb\\sdk\\wandb_run.py\", line 2315, in _on_finish\n",
      "    self._console_stop()  # TODO: there's a race here with jupyter console logging\n",
      "  File \"c:\\Users\\thu71\\Anaconda3\\envs\\snowflake\\lib\\site-packages\\wandb\\sdk\\wandb_run.py\", line 2126, in _console_stop\n",
      "    self._restore()\n",
      "  File \"c:\\Users\\thu71\\Anaconda3\\envs\\snowflake\\lib\\site-packages\\wandb\\sdk\\wandb_run.py\", line 2066, in _restore\n",
      "    logger.info(\"restore\")\n",
      "Message: 'restore'\n",
      "Arguments: ()\n",
      "--- Logging error ---\n",
      "Traceback (most recent call last):\n",
      "  File \"c:\\Users\\thu71\\Anaconda3\\envs\\snowflake\\lib\\logging\\__init__.py\", line 1087, in emit\n",
      "    self.flush()\n",
      "  File \"c:\\Users\\thu71\\Anaconda3\\envs\\snowflake\\lib\\logging\\__init__.py\", line 1067, in flush\n",
      "    self.stream.flush()\n",
      "OSError: [Errno 22] Invalid argument\n",
      "Call stack:\n",
      "  File \"c:\\Users\\thu71\\Anaconda3\\envs\\snowflake\\lib\\runpy.py\", line 197, in _run_module_as_main\n",
      "    return _run_code(code, main_globals, None,\n",
      "  File \"c:\\Users\\thu71\\Anaconda3\\envs\\snowflake\\lib\\runpy.py\", line 87, in _run_code\n",
      "    exec(code, run_globals)\n",
      "  File \"c:\\Users\\thu71\\Anaconda3\\envs\\snowflake\\lib\\site-packages\\ipykernel_launcher.py\", line 17, in <module>\n",
      "    app.launch_new_instance()\n",
      "  File \"c:\\Users\\thu71\\Anaconda3\\envs\\snowflake\\lib\\site-packages\\traitlets\\config\\application.py\", line 1043, in launch_instance\n",
      "    app.start()\n",
      "  File \"c:\\Users\\thu71\\Anaconda3\\envs\\snowflake\\lib\\site-packages\\ipykernel\\kernelapp.py\", line 725, in start\n",
      "    self.io_loop.start()\n",
      "  File \"c:\\Users\\thu71\\Anaconda3\\envs\\snowflake\\lib\\site-packages\\tornado\\platform\\asyncio.py\", line 215, in start\n",
      "    self.asyncio_loop.run_forever()\n",
      "  File \"c:\\Users\\thu71\\Anaconda3\\envs\\snowflake\\lib\\asyncio\\base_events.py\", line 601, in run_forever\n",
      "    self._run_once()\n",
      "  File \"c:\\Users\\thu71\\Anaconda3\\envs\\snowflake\\lib\\asyncio\\base_events.py\", line 1905, in _run_once\n",
      "    handle._run()\n",
      "  File \"c:\\Users\\thu71\\Anaconda3\\envs\\snowflake\\lib\\asyncio\\events.py\", line 80, in _run\n",
      "    self._context.run(self._callback, *self._args)\n",
      "  File \"c:\\Users\\thu71\\Anaconda3\\envs\\snowflake\\lib\\site-packages\\ipykernel\\kernelbase.py\", line 513, in dispatch_queue\n",
      "    await self.process_one()\n",
      "  File \"c:\\Users\\thu71\\Anaconda3\\envs\\snowflake\\lib\\site-packages\\ipykernel\\kernelbase.py\", line 502, in process_one\n",
      "    await dispatch(*args)\n",
      "  File \"c:\\Users\\thu71\\Anaconda3\\envs\\snowflake\\lib\\site-packages\\ipykernel\\kernelbase.py\", line 409, in dispatch_shell\n",
      "    await result\n",
      "  File \"c:\\Users\\thu71\\Anaconda3\\envs\\snowflake\\lib\\site-packages\\ipykernel\\kernelbase.py\", line 729, in execute_request\n",
      "    reply_content = await reply_content\n",
      "  File \"c:\\Users\\thu71\\Anaconda3\\envs\\snowflake\\lib\\site-packages\\ipykernel\\ipkernel.py\", line 422, in do_execute\n",
      "    res = shell.run_cell(\n",
      "  File \"c:\\Users\\thu71\\Anaconda3\\envs\\snowflake\\lib\\site-packages\\ipykernel\\zmqshell.py\", line 540, in run_cell\n",
      "    return super().run_cell(*args, **kwargs)\n",
      "  File \"c:\\Users\\thu71\\Anaconda3\\envs\\snowflake\\lib\\site-packages\\IPython\\core\\interactiveshell.py\", line 2961, in run_cell\n",
      "    result = self._run_cell(\n",
      "  File \"c:\\Users\\thu71\\Anaconda3\\envs\\snowflake\\lib\\site-packages\\IPython\\core\\interactiveshell.py\", line 3016, in _run_cell\n",
      "    result = runner(coro)\n",
      "  File \"c:\\Users\\thu71\\Anaconda3\\envs\\snowflake\\lib\\site-packages\\IPython\\core\\async_helpers.py\", line 129, in _pseudo_sync_runner\n",
      "    coro.send(None)\n",
      "  File \"c:\\Users\\thu71\\Anaconda3\\envs\\snowflake\\lib\\site-packages\\IPython\\core\\interactiveshell.py\", line 3221, in run_cell_async\n",
      "    has_raised = await self.run_ast_nodes(code_ast.body, cell_name,\n",
      "  File \"c:\\Users\\thu71\\Anaconda3\\envs\\snowflake\\lib\\site-packages\\IPython\\core\\interactiveshell.py\", line 3400, in run_ast_nodes\n",
      "    if await self.run_code(code, result, async_=asy):\n",
      "  File \"c:\\Users\\thu71\\Anaconda3\\envs\\snowflake\\lib\\site-packages\\IPython\\core\\interactiveshell.py\", line 3460, in run_code\n",
      "    exec(code_obj, self.user_global_ns, self.user_ns)\n",
      "  File \"C:\\Users\\thu71\\AppData\\Local\\Temp\\ipykernel_87736\\3526333246.py\", line 38, in <module>\n",
      "    run.finish()\n",
      "  File \"c:\\Users\\thu71\\Anaconda3\\envs\\snowflake\\lib\\site-packages\\wandb\\sdk\\wandb_run.py\", line 370, in wrapper\n",
      "    return func(self, *args, **kwargs)\n",
      "  File \"c:\\Users\\thu71\\Anaconda3\\envs\\snowflake\\lib\\site-packages\\wandb\\sdk\\wandb_run.py\", line 333, in wrapper\n",
      "    return func(self, *args, **kwargs)\n",
      "  File \"c:\\Users\\thu71\\Anaconda3\\envs\\snowflake\\lib\\site-packages\\wandb\\sdk\\wandb_run.py\", line 1845, in finish\n",
      "    return self._finish(exit_code, quiet)\n",
      "  File \"c:\\Users\\thu71\\Anaconda3\\envs\\snowflake\\lib\\site-packages\\wandb\\sdk\\wandb_run.py\", line 1860, in _finish\n",
      "    self._atexit_cleanup(exit_code=exit_code)\n",
      "  File \"c:\\Users\\thu71\\Anaconda3\\envs\\snowflake\\lib\\site-packages\\wandb\\sdk\\wandb_run.py\", line 2092, in _atexit_cleanup\n",
      "    self._on_finish()\n",
      "  File \"c:\\Users\\thu71\\Anaconda3\\envs\\snowflake\\lib\\site-packages\\wandb\\sdk\\wandb_run.py\", line 2315, in _on_finish\n",
      "    self._console_stop()  # TODO: there's a race here with jupyter console logging\n",
      "  File \"c:\\Users\\thu71\\Anaconda3\\envs\\snowflake\\lib\\site-packages\\wandb\\sdk\\wandb_run.py\", line 2126, in _console_stop\n",
      "    self._restore()\n",
      "  File \"c:\\Users\\thu71\\Anaconda3\\envs\\snowflake\\lib\\site-packages\\wandb\\sdk\\wandb_run.py\", line 2072, in _restore\n",
      "    logger.info(\"restore done\")\n",
      "Message: 'restore done'\n",
      "Arguments: ()\n"
     ]
    },
    {
     "data": {
      "text/html": [
       "Waiting for W&B process to finish... <strong style=\"color:green\">(success).</strong>"
      ],
      "text/plain": [
       "<IPython.core.display.HTML object>"
      ]
     },
     "metadata": {},
     "output_type": "display_data"
    },
    {
     "data": {
      "application/vnd.jupyter.widget-view+json": {
       "model_id": "1d43b2033d66497a86aca27a37d3a036",
       "version_major": 2,
       "version_minor": 0
      },
      "text/plain": [
       "VBox(children=(Label(value='0.001 MB of 0.001 MB uploaded (0.000 MB deduped)\\r'), FloatProgress(value=1.0, max…"
      ]
     },
     "metadata": {},
     "output_type": "display_data"
    },
    {
     "name": "stderr",
     "output_type": "stream",
     "text": [
      "--- Logging error ---\n",
      "Traceback (most recent call last):\n",
      "  File \"c:\\Users\\thu71\\Anaconda3\\envs\\snowflake\\lib\\site-packages\\wandb\\sdk\\lib\\sock_client.py\", line 255, in _read_packet_bytes\n",
      "    data = self._sock.recv(self._bufsize)\n",
      "ConnectionResetError: [WinError 10054] An existing connection was forcibly closed by the remote host\n",
      "\n",
      "During handling of the above exception, another exception occurred:\n",
      "\n",
      "Traceback (most recent call last):\n",
      "  File \"c:\\Users\\thu71\\Anaconda3\\envs\\snowflake\\lib\\site-packages\\wandb\\sdk\\interface\\router_sock.py\", line 27, in _read_message\n",
      "    resp = self._sock_client.read_server_response(timeout=1)\n",
      "  File \"c:\\Users\\thu71\\Anaconda3\\envs\\snowflake\\lib\\site-packages\\wandb\\sdk\\lib\\sock_client.py\", line 285, in read_server_response\n",
      "    data = self._read_packet_bytes(timeout=timeout)\n",
      "  File \"c:\\Users\\thu71\\Anaconda3\\envs\\snowflake\\lib\\site-packages\\wandb\\sdk\\lib\\sock_client.py\", line 259, in _read_packet_bytes\n",
      "    raise SockClientClosedError\n",
      "wandb.sdk.lib.sock_client.SockClientClosedError\n",
      "\n",
      "During handling of the above exception, another exception occurred:\n",
      "\n",
      "Traceback (most recent call last):\n",
      "  File \"c:\\Users\\thu71\\Anaconda3\\envs\\snowflake\\lib\\site-packages\\wandb\\sdk\\interface\\router.py\", line 70, in message_loop\n",
      "    msg = self._read_message()\n",
      "  File \"c:\\Users\\thu71\\Anaconda3\\envs\\snowflake\\lib\\site-packages\\wandb\\sdk\\interface\\router_sock.py\", line 29, in _read_message\n",
      "    raise MessageRouterClosedError\n",
      "wandb.sdk.interface.router.MessageRouterClosedError\n",
      "\n",
      "During handling of the above exception, another exception occurred:\n",
      "\n",
      "Traceback (most recent call last):\n",
      "  File \"c:\\Users\\thu71\\Anaconda3\\envs\\snowflake\\lib\\logging\\__init__.py\", line 1087, in emit\n",
      "    self.flush()\n",
      "  File \"c:\\Users\\thu71\\Anaconda3\\envs\\snowflake\\lib\\logging\\__init__.py\", line 1067, in flush\n",
      "    self.stream.flush()\n",
      "OSError: [Errno 22] Invalid argument\n",
      "Call stack:\n",
      "  File \"c:\\Users\\thu71\\Anaconda3\\envs\\snowflake\\lib\\threading.py\", line 937, in _bootstrap\n",
      "    self._bootstrap_inner()\n",
      "  File \"c:\\Users\\thu71\\Anaconda3\\envs\\snowflake\\lib\\threading.py\", line 980, in _bootstrap_inner\n",
      "    self.run()\n",
      "  File \"c:\\Users\\thu71\\Anaconda3\\envs\\snowflake\\lib\\threading.py\", line 917, in run\n",
      "    self._target(*self._args, **self._kwargs)\n",
      "  File \"c:\\Users\\thu71\\Anaconda3\\envs\\snowflake\\lib\\site-packages\\wandb\\sdk\\interface\\router.py\", line 77, in message_loop\n",
      "    logger.warning(\"message_loop has been closed\")\n",
      "Message: 'message_loop has been closed'\n",
      "Arguments: ()\n",
      "--- Logging error ---\n",
      "Traceback (most recent call last):\n",
      "  File \"c:\\Users\\thu71\\Anaconda3\\envs\\snowflake\\lib\\site-packages\\wandb\\sdk\\wandb_run.py\", line 2092, in _atexit_cleanup\n",
      "    self._on_finish()\n",
      "  File \"c:\\Users\\thu71\\Anaconda3\\envs\\snowflake\\lib\\site-packages\\wandb\\sdk\\wandb_run.py\", line 2325, in _on_finish\n",
      "    _ = exit_handle.wait(timeout=-1, on_progress=self._on_progress_exit)\n",
      "  File \"c:\\Users\\thu71\\Anaconda3\\envs\\snowflake\\lib\\site-packages\\wandb\\sdk\\lib\\mailbox.py\", line 298, in wait\n",
      "    on_probe(probe_handle)\n",
      "  File \"c:\\Users\\thu71\\Anaconda3\\envs\\snowflake\\lib\\site-packages\\wandb\\sdk\\wandb_run.py\", line 2290, in _on_probe_exit\n",
      "    result = handle.wait(timeout=0)\n",
      "  File \"c:\\Users\\thu71\\Anaconda3\\envs\\snowflake\\lib\\site-packages\\wandb\\sdk\\lib\\mailbox.py\", line 281, in wait\n",
      "    raise MailboxError(\"transport failed\")\n",
      "wandb.sdk.lib.mailbox.MailboxError: transport failed\n",
      "\n",
      "During handling of the above exception, another exception occurred:\n",
      "\n",
      "Traceback (most recent call last):\n",
      "  File \"c:\\Users\\thu71\\Anaconda3\\envs\\snowflake\\lib\\logging\\__init__.py\", line 1087, in emit\n",
      "    self.flush()\n",
      "  File \"c:\\Users\\thu71\\Anaconda3\\envs\\snowflake\\lib\\logging\\__init__.py\", line 1067, in flush\n",
      "    self.stream.flush()\n",
      "OSError: [Errno 22] Invalid argument\n",
      "Call stack:\n",
      "  File \"c:\\Users\\thu71\\Anaconda3\\envs\\snowflake\\lib\\runpy.py\", line 197, in _run_module_as_main\n",
      "    return _run_code(code, main_globals, None,\n",
      "  File \"c:\\Users\\thu71\\Anaconda3\\envs\\snowflake\\lib\\runpy.py\", line 87, in _run_code\n",
      "    exec(code, run_globals)\n",
      "  File \"c:\\Users\\thu71\\Anaconda3\\envs\\snowflake\\lib\\site-packages\\ipykernel_launcher.py\", line 17, in <module>\n",
      "    app.launch_new_instance()\n",
      "  File \"c:\\Users\\thu71\\Anaconda3\\envs\\snowflake\\lib\\site-packages\\traitlets\\config\\application.py\", line 1043, in launch_instance\n",
      "    app.start()\n",
      "  File \"c:\\Users\\thu71\\Anaconda3\\envs\\snowflake\\lib\\site-packages\\ipykernel\\kernelapp.py\", line 725, in start\n",
      "    self.io_loop.start()\n",
      "  File \"c:\\Users\\thu71\\Anaconda3\\envs\\snowflake\\lib\\site-packages\\tornado\\platform\\asyncio.py\", line 215, in start\n",
      "    self.asyncio_loop.run_forever()\n",
      "  File \"c:\\Users\\thu71\\Anaconda3\\envs\\snowflake\\lib\\asyncio\\base_events.py\", line 601, in run_forever\n",
      "    self._run_once()\n",
      "  File \"c:\\Users\\thu71\\Anaconda3\\envs\\snowflake\\lib\\asyncio\\base_events.py\", line 1905, in _run_once\n",
      "    handle._run()\n",
      "  File \"c:\\Users\\thu71\\Anaconda3\\envs\\snowflake\\lib\\asyncio\\events.py\", line 80, in _run\n",
      "    self._context.run(self._callback, *self._args)\n",
      "  File \"c:\\Users\\thu71\\Anaconda3\\envs\\snowflake\\lib\\site-packages\\ipykernel\\kernelbase.py\", line 513, in dispatch_queue\n",
      "    await self.process_one()\n",
      "  File \"c:\\Users\\thu71\\Anaconda3\\envs\\snowflake\\lib\\site-packages\\ipykernel\\kernelbase.py\", line 502, in process_one\n",
      "    await dispatch(*args)\n",
      "  File \"c:\\Users\\thu71\\Anaconda3\\envs\\snowflake\\lib\\site-packages\\ipykernel\\kernelbase.py\", line 409, in dispatch_shell\n",
      "    await result\n",
      "  File \"c:\\Users\\thu71\\Anaconda3\\envs\\snowflake\\lib\\site-packages\\ipykernel\\kernelbase.py\", line 729, in execute_request\n",
      "    reply_content = await reply_content\n",
      "  File \"c:\\Users\\thu71\\Anaconda3\\envs\\snowflake\\lib\\site-packages\\ipykernel\\ipkernel.py\", line 422, in do_execute\n",
      "    res = shell.run_cell(\n",
      "  File \"c:\\Users\\thu71\\Anaconda3\\envs\\snowflake\\lib\\site-packages\\ipykernel\\zmqshell.py\", line 540, in run_cell\n",
      "    return super().run_cell(*args, **kwargs)\n",
      "  File \"c:\\Users\\thu71\\Anaconda3\\envs\\snowflake\\lib\\site-packages\\IPython\\core\\interactiveshell.py\", line 2961, in run_cell\n",
      "    result = self._run_cell(\n",
      "  File \"c:\\Users\\thu71\\Anaconda3\\envs\\snowflake\\lib\\site-packages\\IPython\\core\\interactiveshell.py\", line 3016, in _run_cell\n",
      "    result = runner(coro)\n",
      "  File \"c:\\Users\\thu71\\Anaconda3\\envs\\snowflake\\lib\\site-packages\\IPython\\core\\async_helpers.py\", line 129, in _pseudo_sync_runner\n",
      "    coro.send(None)\n",
      "  File \"c:\\Users\\thu71\\Anaconda3\\envs\\snowflake\\lib\\site-packages\\IPython\\core\\interactiveshell.py\", line 3221, in run_cell_async\n",
      "    has_raised = await self.run_ast_nodes(code_ast.body, cell_name,\n",
      "  File \"c:\\Users\\thu71\\Anaconda3\\envs\\snowflake\\lib\\site-packages\\IPython\\core\\interactiveshell.py\", line 3400, in run_ast_nodes\n",
      "    if await self.run_code(code, result, async_=asy):\n",
      "  File \"c:\\Users\\thu71\\Anaconda3\\envs\\snowflake\\lib\\site-packages\\IPython\\core\\interactiveshell.py\", line 3460, in run_code\n",
      "    exec(code_obj, self.user_global_ns, self.user_ns)\n",
      "  File \"C:\\Users\\thu71\\AppData\\Local\\Temp\\ipykernel_87736\\3526333246.py\", line 38, in <module>\n",
      "    run.finish()\n",
      "  File \"c:\\Users\\thu71\\Anaconda3\\envs\\snowflake\\lib\\site-packages\\wandb\\sdk\\wandb_run.py\", line 370, in wrapper\n",
      "    return func(self, *args, **kwargs)\n",
      "  File \"c:\\Users\\thu71\\Anaconda3\\envs\\snowflake\\lib\\site-packages\\wandb\\sdk\\wandb_run.py\", line 333, in wrapper\n",
      "    return func(self, *args, **kwargs)\n",
      "  File \"c:\\Users\\thu71\\Anaconda3\\envs\\snowflake\\lib\\site-packages\\wandb\\sdk\\wandb_run.py\", line 1845, in finish\n",
      "    return self._finish(exit_code, quiet)\n",
      "  File \"c:\\Users\\thu71\\Anaconda3\\envs\\snowflake\\lib\\site-packages\\wandb\\sdk\\wandb_run.py\", line 1860, in _finish\n",
      "    self._atexit_cleanup(exit_code=exit_code)\n",
      "  File \"c:\\Users\\thu71\\Anaconda3\\envs\\snowflake\\lib\\site-packages\\wandb\\sdk\\wandb_run.py\", line 2102, in _atexit_cleanup\n",
      "    self._console_stop()\n",
      "  File \"c:\\Users\\thu71\\Anaconda3\\envs\\snowflake\\lib\\site-packages\\wandb\\sdk\\wandb_run.py\", line 2126, in _console_stop\n",
      "    self._restore()\n",
      "  File \"c:\\Users\\thu71\\Anaconda3\\envs\\snowflake\\lib\\site-packages\\wandb\\sdk\\wandb_run.py\", line 2066, in _restore\n",
      "    logger.info(\"restore\")\n",
      "Message: 'restore'\n",
      "Arguments: ()\n",
      "--- Logging error ---\n",
      "Traceback (most recent call last):\n",
      "  File \"c:\\Users\\thu71\\Anaconda3\\envs\\snowflake\\lib\\site-packages\\wandb\\sdk\\wandb_run.py\", line 2092, in _atexit_cleanup\n",
      "    self._on_finish()\n",
      "  File \"c:\\Users\\thu71\\Anaconda3\\envs\\snowflake\\lib\\site-packages\\wandb\\sdk\\wandb_run.py\", line 2325, in _on_finish\n",
      "    _ = exit_handle.wait(timeout=-1, on_progress=self._on_progress_exit)\n",
      "  File \"c:\\Users\\thu71\\Anaconda3\\envs\\snowflake\\lib\\site-packages\\wandb\\sdk\\lib\\mailbox.py\", line 298, in wait\n",
      "    on_probe(probe_handle)\n",
      "  File \"c:\\Users\\thu71\\Anaconda3\\envs\\snowflake\\lib\\site-packages\\wandb\\sdk\\wandb_run.py\", line 2290, in _on_probe_exit\n",
      "    result = handle.wait(timeout=0)\n",
      "  File \"c:\\Users\\thu71\\Anaconda3\\envs\\snowflake\\lib\\site-packages\\wandb\\sdk\\lib\\mailbox.py\", line 281, in wait\n",
      "    raise MailboxError(\"transport failed\")\n",
      "wandb.sdk.lib.mailbox.MailboxError: transport failed\n",
      "\n",
      "During handling of the above exception, another exception occurred:\n",
      "\n",
      "Traceback (most recent call last):\n",
      "  File \"c:\\Users\\thu71\\Anaconda3\\envs\\snowflake\\lib\\logging\\__init__.py\", line 1087, in emit\n",
      "    self.flush()\n",
      "  File \"c:\\Users\\thu71\\Anaconda3\\envs\\snowflake\\lib\\logging\\__init__.py\", line 1067, in flush\n",
      "    self.stream.flush()\n",
      "OSError: [Errno 22] Invalid argument\n",
      "Call stack:\n",
      "  File \"c:\\Users\\thu71\\Anaconda3\\envs\\snowflake\\lib\\runpy.py\", line 197, in _run_module_as_main\n",
      "    return _run_code(code, main_globals, None,\n",
      "  File \"c:\\Users\\thu71\\Anaconda3\\envs\\snowflake\\lib\\runpy.py\", line 87, in _run_code\n",
      "    exec(code, run_globals)\n",
      "  File \"c:\\Users\\thu71\\Anaconda3\\envs\\snowflake\\lib\\site-packages\\ipykernel_launcher.py\", line 17, in <module>\n",
      "    app.launch_new_instance()\n",
      "  File \"c:\\Users\\thu71\\Anaconda3\\envs\\snowflake\\lib\\site-packages\\traitlets\\config\\application.py\", line 1043, in launch_instance\n",
      "    app.start()\n",
      "  File \"c:\\Users\\thu71\\Anaconda3\\envs\\snowflake\\lib\\site-packages\\ipykernel\\kernelapp.py\", line 725, in start\n",
      "    self.io_loop.start()\n",
      "  File \"c:\\Users\\thu71\\Anaconda3\\envs\\snowflake\\lib\\site-packages\\tornado\\platform\\asyncio.py\", line 215, in start\n",
      "    self.asyncio_loop.run_forever()\n",
      "  File \"c:\\Users\\thu71\\Anaconda3\\envs\\snowflake\\lib\\asyncio\\base_events.py\", line 601, in run_forever\n",
      "    self._run_once()\n",
      "  File \"c:\\Users\\thu71\\Anaconda3\\envs\\snowflake\\lib\\asyncio\\base_events.py\", line 1905, in _run_once\n",
      "    handle._run()\n",
      "  File \"c:\\Users\\thu71\\Anaconda3\\envs\\snowflake\\lib\\asyncio\\events.py\", line 80, in _run\n",
      "    self._context.run(self._callback, *self._args)\n",
      "  File \"c:\\Users\\thu71\\Anaconda3\\envs\\snowflake\\lib\\site-packages\\ipykernel\\kernelbase.py\", line 513, in dispatch_queue\n",
      "    await self.process_one()\n",
      "  File \"c:\\Users\\thu71\\Anaconda3\\envs\\snowflake\\lib\\site-packages\\ipykernel\\kernelbase.py\", line 502, in process_one\n",
      "    await dispatch(*args)\n",
      "  File \"c:\\Users\\thu71\\Anaconda3\\envs\\snowflake\\lib\\site-packages\\ipykernel\\kernelbase.py\", line 409, in dispatch_shell\n",
      "    await result\n",
      "  File \"c:\\Users\\thu71\\Anaconda3\\envs\\snowflake\\lib\\site-packages\\ipykernel\\kernelbase.py\", line 729, in execute_request\n",
      "    reply_content = await reply_content\n",
      "  File \"c:\\Users\\thu71\\Anaconda3\\envs\\snowflake\\lib\\site-packages\\ipykernel\\ipkernel.py\", line 422, in do_execute\n",
      "    res = shell.run_cell(\n",
      "  File \"c:\\Users\\thu71\\Anaconda3\\envs\\snowflake\\lib\\site-packages\\ipykernel\\zmqshell.py\", line 540, in run_cell\n",
      "    return super().run_cell(*args, **kwargs)\n",
      "  File \"c:\\Users\\thu71\\Anaconda3\\envs\\snowflake\\lib\\site-packages\\IPython\\core\\interactiveshell.py\", line 2961, in run_cell\n",
      "    result = self._run_cell(\n",
      "  File \"c:\\Users\\thu71\\Anaconda3\\envs\\snowflake\\lib\\site-packages\\IPython\\core\\interactiveshell.py\", line 3016, in _run_cell\n",
      "    result = runner(coro)\n",
      "  File \"c:\\Users\\thu71\\Anaconda3\\envs\\snowflake\\lib\\site-packages\\IPython\\core\\async_helpers.py\", line 129, in _pseudo_sync_runner\n",
      "    coro.send(None)\n",
      "  File \"c:\\Users\\thu71\\Anaconda3\\envs\\snowflake\\lib\\site-packages\\IPython\\core\\interactiveshell.py\", line 3221, in run_cell_async\n",
      "    has_raised = await self.run_ast_nodes(code_ast.body, cell_name,\n",
      "  File \"c:\\Users\\thu71\\Anaconda3\\envs\\snowflake\\lib\\site-packages\\IPython\\core\\interactiveshell.py\", line 3400, in run_ast_nodes\n",
      "    if await self.run_code(code, result, async_=asy):\n",
      "  File \"c:\\Users\\thu71\\Anaconda3\\envs\\snowflake\\lib\\site-packages\\IPython\\core\\interactiveshell.py\", line 3460, in run_code\n",
      "    exec(code_obj, self.user_global_ns, self.user_ns)\n",
      "  File \"C:\\Users\\thu71\\AppData\\Local\\Temp\\ipykernel_87736\\3526333246.py\", line 38, in <module>\n",
      "    run.finish()\n",
      "  File \"c:\\Users\\thu71\\Anaconda3\\envs\\snowflake\\lib\\site-packages\\wandb\\sdk\\wandb_run.py\", line 370, in wrapper\n",
      "    return func(self, *args, **kwargs)\n",
      "  File \"c:\\Users\\thu71\\Anaconda3\\envs\\snowflake\\lib\\site-packages\\wandb\\sdk\\wandb_run.py\", line 333, in wrapper\n",
      "    return func(self, *args, **kwargs)\n",
      "  File \"c:\\Users\\thu71\\Anaconda3\\envs\\snowflake\\lib\\site-packages\\wandb\\sdk\\wandb_run.py\", line 1845, in finish\n",
      "    return self._finish(exit_code, quiet)\n",
      "  File \"c:\\Users\\thu71\\Anaconda3\\envs\\snowflake\\lib\\site-packages\\wandb\\sdk\\wandb_run.py\", line 1860, in _finish\n",
      "    self._atexit_cleanup(exit_code=exit_code)\n",
      "  File \"c:\\Users\\thu71\\Anaconda3\\envs\\snowflake\\lib\\site-packages\\wandb\\sdk\\wandb_run.py\", line 2102, in _atexit_cleanup\n",
      "    self._console_stop()\n",
      "  File \"c:\\Users\\thu71\\Anaconda3\\envs\\snowflake\\lib\\site-packages\\wandb\\sdk\\wandb_run.py\", line 2126, in _console_stop\n",
      "    self._restore()\n",
      "  File \"c:\\Users\\thu71\\Anaconda3\\envs\\snowflake\\lib\\site-packages\\wandb\\sdk\\wandb_run.py\", line 2072, in _restore\n",
      "    logger.info(\"restore done\")\n",
      "Message: 'restore done'\n",
      "Arguments: ()\n"
     ]
    },
    {
     "ename": "ConnectionResetError",
     "evalue": "[WinError 10054] An existing connection was forcibly closed by the remote host",
     "output_type": "error",
     "traceback": [
      "\u001b[1;31m---------------------------------------------------------------------------\u001b[0m",
      "\u001b[1;31mMailboxError\u001b[0m                              Traceback (most recent call last)",
      "File \u001b[1;32mc:\\Users\\thu71\\Anaconda3\\envs\\snowflake\\lib\\site-packages\\wandb\\sdk\\wandb_run.py:2092\u001b[0m, in \u001b[0;36mRun._atexit_cleanup\u001b[1;34m(self, exit_code)\u001b[0m\n\u001b[0;32m   2091\u001b[0m \u001b[38;5;28;01mtry\u001b[39;00m:\n\u001b[1;32m-> 2092\u001b[0m     \u001b[38;5;28;43mself\u001b[39;49m\u001b[38;5;241;43m.\u001b[39;49m\u001b[43m_on_finish\u001b[49m\u001b[43m(\u001b[49m\u001b[43m)\u001b[49m\n\u001b[0;32m   2093\u001b[0m \u001b[38;5;28;01mexcept\u001b[39;00m \u001b[38;5;167;01mKeyboardInterrupt\u001b[39;00m \u001b[38;5;28;01mas\u001b[39;00m ki:\n",
      "File \u001b[1;32mc:\\Users\\thu71\\Anaconda3\\envs\\snowflake\\lib\\site-packages\\wandb\\sdk\\wandb_run.py:2325\u001b[0m, in \u001b[0;36mRun._on_finish\u001b[1;34m(self)\u001b[0m\n\u001b[0;32m   2321\u001b[0m \u001b[38;5;28mself\u001b[39m\u001b[38;5;241m.\u001b[39m_footer_exit_status_info(\n\u001b[0;32m   2322\u001b[0m     \u001b[38;5;28mself\u001b[39m\u001b[38;5;241m.\u001b[39m_exit_code, settings\u001b[38;5;241m=\u001b[39m\u001b[38;5;28mself\u001b[39m\u001b[38;5;241m.\u001b[39m_settings, printer\u001b[38;5;241m=\u001b[39m\u001b[38;5;28mself\u001b[39m\u001b[38;5;241m.\u001b[39m_printer\n\u001b[0;32m   2323\u001b[0m )\n\u001b[1;32m-> 2325\u001b[0m _ \u001b[38;5;241m=\u001b[39m \u001b[43mexit_handle\u001b[49m\u001b[38;5;241;43m.\u001b[39;49m\u001b[43mwait\u001b[49m\u001b[43m(\u001b[49m\u001b[43mtimeout\u001b[49m\u001b[38;5;241;43m=\u001b[39;49m\u001b[38;5;241;43m-\u001b[39;49m\u001b[38;5;241;43m1\u001b[39;49m\u001b[43m,\u001b[49m\u001b[43m \u001b[49m\u001b[43mon_progress\u001b[49m\u001b[38;5;241;43m=\u001b[39;49m\u001b[38;5;28;43mself\u001b[39;49m\u001b[38;5;241;43m.\u001b[39;49m\u001b[43m_on_progress_exit\u001b[49m\u001b[43m)\u001b[49m\n\u001b[0;32m   2327\u001b[0m \u001b[38;5;66;03m# dispatch all our final requests\u001b[39;00m\n",
      "File \u001b[1;32mc:\\Users\\thu71\\Anaconda3\\envs\\snowflake\\lib\\site-packages\\wandb\\sdk\\lib\\mailbox.py:298\u001b[0m, in \u001b[0;36mMailboxHandle.wait\u001b[1;34m(self, timeout, on_probe, on_progress, release, cancel)\u001b[0m\n\u001b[0;32m    297\u001b[0m \u001b[38;5;28;01mif\u001b[39;00m on_probe \u001b[38;5;129;01mand\u001b[39;00m probe_handle:\n\u001b[1;32m--> 298\u001b[0m     \u001b[43mon_probe\u001b[49m\u001b[43m(\u001b[49m\u001b[43mprobe_handle\u001b[49m\u001b[43m)\u001b[49m\n\u001b[0;32m    299\u001b[0m \u001b[38;5;28;01mif\u001b[39;00m on_progress \u001b[38;5;129;01mand\u001b[39;00m progress_handle:\n",
      "File \u001b[1;32mc:\\Users\\thu71\\Anaconda3\\envs\\snowflake\\lib\\site-packages\\wandb\\sdk\\wandb_run.py:2290\u001b[0m, in \u001b[0;36mRun._on_probe_exit\u001b[1;34m(self, probe_handle)\u001b[0m\n\u001b[0;32m   2289\u001b[0m \u001b[38;5;28;01mif\u001b[39;00m handle:\n\u001b[1;32m-> 2290\u001b[0m     result \u001b[38;5;241m=\u001b[39m \u001b[43mhandle\u001b[49m\u001b[38;5;241;43m.\u001b[39;49m\u001b[43mwait\u001b[49m\u001b[43m(\u001b[49m\u001b[43mtimeout\u001b[49m\u001b[38;5;241;43m=\u001b[39;49m\u001b[38;5;241;43m0\u001b[39;49m\u001b[43m)\u001b[49m\n\u001b[0;32m   2291\u001b[0m     \u001b[38;5;28;01mif\u001b[39;00m \u001b[38;5;129;01mnot\u001b[39;00m result:\n",
      "File \u001b[1;32mc:\\Users\\thu71\\Anaconda3\\envs\\snowflake\\lib\\site-packages\\wandb\\sdk\\lib\\mailbox.py:281\u001b[0m, in \u001b[0;36mMailboxHandle.wait\u001b[1;34m(self, timeout, on_probe, on_progress, release, cancel)\u001b[0m\n\u001b[0;32m    280\u001b[0m     \u001b[38;5;28;01mif\u001b[39;00m \u001b[38;5;28mself\u001b[39m\u001b[38;5;241m.\u001b[39m_interface\u001b[38;5;241m.\u001b[39m_transport_keepalive_failed():\n\u001b[1;32m--> 281\u001b[0m         \u001b[38;5;28;01mraise\u001b[39;00m MailboxError(\u001b[38;5;124m\"\u001b[39m\u001b[38;5;124mtransport failed\u001b[39m\u001b[38;5;124m\"\u001b[39m)\n\u001b[0;32m    283\u001b[0m found, abandoned \u001b[38;5;241m=\u001b[39m \u001b[38;5;28mself\u001b[39m\u001b[38;5;241m.\u001b[39m_slot\u001b[38;5;241m.\u001b[39m_get_and_clear(timeout\u001b[38;5;241m=\u001b[39mwait_timeout)\n",
      "\u001b[1;31mMailboxError\u001b[0m: transport failed",
      "\nDuring handling of the above exception, another exception occurred:\n",
      "\u001b[1;31mConnectionResetError\u001b[0m                      Traceback (most recent call last)",
      "Cell \u001b[1;32mIn[26], line 38\u001b[0m\n\u001b[0;32m     20\u001b[0m run \u001b[38;5;241m=\u001b[39m wandb\u001b[38;5;241m.\u001b[39minit(project\u001b[38;5;241m=\u001b[39mproject_name, name\u001b[38;5;241m=\u001b[39m\u001b[38;5;124mf\u001b[39m\u001b[38;5;124m'\u001b[39m\u001b[38;5;132;01m{\u001b[39;00mmodel\u001b[38;5;132;01m}\u001b[39;00m\u001b[38;5;124m_\u001b[39m\u001b[38;5;132;01m{\u001b[39;00mNUM_LAYERS\u001b[38;5;132;01m}\u001b[39;00m\u001b[38;5;124m_\u001b[39m\u001b[38;5;132;01m{\u001b[39;00mHIDDEN_CHANNELS\u001b[38;5;132;01m}\u001b[39;00m\u001b[38;5;124m_\u001b[39m\u001b[38;5;132;01m{\u001b[39;00mfusion\u001b[38;5;132;01m}\u001b[39;00m\u001b[38;5;124m_\u001b[39m\u001b[38;5;132;01m{\u001b[39;00mfold\u001b[38;5;132;01m}\u001b[39;00m\u001b[38;5;124m'\u001b[39m, \n\u001b[0;32m     21\u001b[0m                 group\u001b[38;5;241m=\u001b[39m\u001b[38;5;124mf\u001b[39m\u001b[38;5;124m'\u001b[39m\u001b[38;5;132;01m{\u001b[39;00mmodel\u001b[38;5;132;01m}\u001b[39;00m\u001b[38;5;124m_\u001b[39m\u001b[38;5;132;01m{\u001b[39;00mfusion\u001b[38;5;132;01m}\u001b[39;00m\u001b[38;5;124m'\u001b[39m, \n\u001b[0;32m     22\u001b[0m                 \u001b[38;5;66;03m# mode=\"disabled\"\u001b[39;00m\n\u001b[0;32m     23\u001b[0m                 )\n\u001b[0;32m     24\u001b[0m PPIGraph\u001b[38;5;241m.\u001b[39mtrain_graph_classifier_kfold_fusion(model, \n\u001b[0;32m     25\u001b[0m                                         train_subset, \n\u001b[0;32m     26\u001b[0m                                         val_subset, \n\u001b[1;32m   (...)\u001b[0m\n\u001b[0;32m     36\u001b[0m                                         fusion\u001b[38;5;241m=\u001b[39mfusion,\n\u001b[0;32m     37\u001b[0m                                         graph_pooling\u001b[38;5;241m=\u001b[39mpool)\n\u001b[1;32m---> 38\u001b[0m \u001b[43mrun\u001b[49m\u001b[38;5;241;43m.\u001b[39;49m\u001b[43mfinish\u001b[49m\u001b[43m(\u001b[49m\u001b[43m)\u001b[49m\n",
      "File \u001b[1;32mc:\\Users\\thu71\\Anaconda3\\envs\\snowflake\\lib\\site-packages\\wandb\\sdk\\wandb_run.py:370\u001b[0m, in \u001b[0;36m_run_decorator._noop.<locals>.wrapper\u001b[1;34m(self, *args, **kwargs)\u001b[0m\n\u001b[0;32m    367\u001b[0m         wandb\u001b[38;5;241m.\u001b[39mtermwarn(message, repeat\u001b[38;5;241m=\u001b[39m\u001b[38;5;28;01mFalse\u001b[39;00m)\n\u001b[0;32m    368\u001b[0m         \u001b[38;5;28;01mreturn\u001b[39;00m \u001b[38;5;28mcls\u001b[39m\u001b[38;5;241m.\u001b[39mDummy()\n\u001b[1;32m--> 370\u001b[0m \u001b[38;5;28;01mreturn\u001b[39;00m func(\u001b[38;5;28mself\u001b[39m, \u001b[38;5;241m*\u001b[39margs, \u001b[38;5;241m*\u001b[39m\u001b[38;5;241m*\u001b[39mkwargs)\n",
      "File \u001b[1;32mc:\\Users\\thu71\\Anaconda3\\envs\\snowflake\\lib\\site-packages\\wandb\\sdk\\wandb_run.py:333\u001b[0m, in \u001b[0;36m_run_decorator._attach.<locals>.wrapper\u001b[1;34m(self, *args, **kwargs)\u001b[0m\n\u001b[0;32m    331\u001b[0m         \u001b[38;5;28;01mraise\u001b[39;00m e\n\u001b[0;32m    332\u001b[0m     \u001b[38;5;28mcls\u001b[39m\u001b[38;5;241m.\u001b[39m_is_attaching \u001b[38;5;241m=\u001b[39m \u001b[38;5;124m\"\u001b[39m\u001b[38;5;124m\"\u001b[39m\n\u001b[1;32m--> 333\u001b[0m \u001b[38;5;28;01mreturn\u001b[39;00m func(\u001b[38;5;28mself\u001b[39m, \u001b[38;5;241m*\u001b[39margs, \u001b[38;5;241m*\u001b[39m\u001b[38;5;241m*\u001b[39mkwargs)\n",
      "File \u001b[1;32mc:\\Users\\thu71\\Anaconda3\\envs\\snowflake\\lib\\site-packages\\wandb\\sdk\\wandb_run.py:1845\u001b[0m, in \u001b[0;36mRun.finish\u001b[1;34m(self, exit_code, quiet)\u001b[0m\n\u001b[0;32m   1831\u001b[0m \u001b[38;5;129m@_run_decorator\u001b[39m\u001b[38;5;241m.\u001b[39m_noop\n\u001b[0;32m   1832\u001b[0m \u001b[38;5;129m@_run_decorator\u001b[39m\u001b[38;5;241m.\u001b[39m_attach\n\u001b[0;32m   1833\u001b[0m \u001b[38;5;28;01mdef\u001b[39;00m \u001b[38;5;21mfinish\u001b[39m(\n\u001b[0;32m   1834\u001b[0m     \u001b[38;5;28mself\u001b[39m, exit_code: Optional[\u001b[38;5;28mint\u001b[39m] \u001b[38;5;241m=\u001b[39m \u001b[38;5;28;01mNone\u001b[39;00m, quiet: Optional[\u001b[38;5;28mbool\u001b[39m] \u001b[38;5;241m=\u001b[39m \u001b[38;5;28;01mNone\u001b[39;00m\n\u001b[0;32m   1835\u001b[0m ) \u001b[38;5;241m-\u001b[39m\u001b[38;5;241m>\u001b[39m \u001b[38;5;28;01mNone\u001b[39;00m:\n\u001b[0;32m   1836\u001b[0m \u001b[38;5;250m    \u001b[39m\u001b[38;5;124;03m\"\"\"Mark a run as finished, and finishe uploading all data.\u001b[39;00m\n\u001b[0;32m   1837\u001b[0m \n\u001b[0;32m   1838\u001b[0m \u001b[38;5;124;03m    This is used when creating multiple runs in the same process. We automatically\u001b[39;00m\n\u001b[1;32m   (...)\u001b[0m\n\u001b[0;32m   1843\u001b[0m \u001b[38;5;124;03m        quiet: Set to true to minimize log output\u001b[39;00m\n\u001b[0;32m   1844\u001b[0m \u001b[38;5;124;03m    \"\"\"\u001b[39;00m\n\u001b[1;32m-> 1845\u001b[0m     \u001b[38;5;28;01mreturn\u001b[39;00m \u001b[38;5;28;43mself\u001b[39;49m\u001b[38;5;241;43m.\u001b[39;49m\u001b[43m_finish\u001b[49m\u001b[43m(\u001b[49m\u001b[43mexit_code\u001b[49m\u001b[43m,\u001b[49m\u001b[43m \u001b[49m\u001b[43mquiet\u001b[49m\u001b[43m)\u001b[49m\n",
      "File \u001b[1;32mc:\\Users\\thu71\\Anaconda3\\envs\\snowflake\\lib\\site-packages\\wandb\\sdk\\wandb_run.py:1860\u001b[0m, in \u001b[0;36mRun._finish\u001b[1;34m(self, exit_code, quiet)\u001b[0m\n\u001b[0;32m   1857\u001b[0m     \u001b[38;5;28;01mif\u001b[39;00m hook\u001b[38;5;241m.\u001b[39mstage \u001b[38;5;241m==\u001b[39m TeardownStage\u001b[38;5;241m.\u001b[39mEARLY:\n\u001b[0;32m   1858\u001b[0m         hook\u001b[38;5;241m.\u001b[39mcall()\n\u001b[1;32m-> 1860\u001b[0m \u001b[38;5;28;43mself\u001b[39;49m\u001b[38;5;241;43m.\u001b[39;49m\u001b[43m_atexit_cleanup\u001b[49m\u001b[43m(\u001b[49m\u001b[43mexit_code\u001b[49m\u001b[38;5;241;43m=\u001b[39;49m\u001b[43mexit_code\u001b[49m\u001b[43m)\u001b[49m\n\u001b[0;32m   1861\u001b[0m \u001b[38;5;28;01mif\u001b[39;00m \u001b[38;5;28mself\u001b[39m\u001b[38;5;241m.\u001b[39m_wl \u001b[38;5;129;01mand\u001b[39;00m \u001b[38;5;28mlen\u001b[39m(\u001b[38;5;28mself\u001b[39m\u001b[38;5;241m.\u001b[39m_wl\u001b[38;5;241m.\u001b[39m_global_run_stack) \u001b[38;5;241m>\u001b[39m \u001b[38;5;241m0\u001b[39m:\n\u001b[0;32m   1862\u001b[0m     \u001b[38;5;28mself\u001b[39m\u001b[38;5;241m.\u001b[39m_wl\u001b[38;5;241m.\u001b[39m_global_run_stack\u001b[38;5;241m.\u001b[39mpop()\n",
      "File \u001b[1;32mc:\\Users\\thu71\\Anaconda3\\envs\\snowflake\\lib\\site-packages\\wandb\\sdk\\wandb_run.py:2103\u001b[0m, in \u001b[0;36mRun._atexit_cleanup\u001b[1;34m(self, exit_code)\u001b[0m\n\u001b[0;32m   2101\u001b[0m     report_failure \u001b[38;5;241m=\u001b[39m \u001b[38;5;28;01mTrue\u001b[39;00m\n\u001b[0;32m   2102\u001b[0m \u001b[38;5;28mself\u001b[39m\u001b[38;5;241m.\u001b[39m_console_stop()\n\u001b[1;32m-> 2103\u001b[0m \u001b[38;5;28;43mself\u001b[39;49m\u001b[38;5;241;43m.\u001b[39;49m\u001b[43m_backend\u001b[49m\u001b[38;5;241;43m.\u001b[39;49m\u001b[43mcleanup\u001b[49m\u001b[43m(\u001b[49m\u001b[43m)\u001b[49m\n\u001b[0;32m   2104\u001b[0m logger\u001b[38;5;241m.\u001b[39merror(\u001b[38;5;124m\"\u001b[39m\u001b[38;5;124mProblem finishing run\u001b[39m\u001b[38;5;124m\"\u001b[39m, exc_info\u001b[38;5;241m=\u001b[39me)\n\u001b[0;32m   2105\u001b[0m wandb\u001b[38;5;241m.\u001b[39mtermerror(\u001b[38;5;124m\"\u001b[39m\u001b[38;5;124mProblem finishing run\u001b[39m\u001b[38;5;124m\"\u001b[39m)\n",
      "File \u001b[1;32mc:\\Users\\thu71\\Anaconda3\\envs\\snowflake\\lib\\site-packages\\wandb\\sdk\\backend\\backend.py:259\u001b[0m, in \u001b[0;36mBackend.cleanup\u001b[1;34m(self)\u001b[0m\n\u001b[0;32m    257\u001b[0m \u001b[38;5;28mself\u001b[39m\u001b[38;5;241m.\u001b[39m_done \u001b[38;5;241m=\u001b[39m \u001b[38;5;28;01mTrue\u001b[39;00m\n\u001b[0;32m    258\u001b[0m \u001b[38;5;28;01mif\u001b[39;00m \u001b[38;5;28mself\u001b[39m\u001b[38;5;241m.\u001b[39minterface:\n\u001b[1;32m--> 259\u001b[0m     \u001b[38;5;28;43mself\u001b[39;49m\u001b[38;5;241;43m.\u001b[39;49m\u001b[43minterface\u001b[49m\u001b[38;5;241;43m.\u001b[39;49m\u001b[43mjoin\u001b[49m\u001b[43m(\u001b[49m\u001b[43m)\u001b[49m\n\u001b[0;32m    260\u001b[0m \u001b[38;5;28;01mif\u001b[39;00m \u001b[38;5;28mself\u001b[39m\u001b[38;5;241m.\u001b[39mwandb_process:\n\u001b[0;32m    261\u001b[0m     \u001b[38;5;28mself\u001b[39m\u001b[38;5;241m.\u001b[39mwandb_process\u001b[38;5;241m.\u001b[39mjoin()\n",
      "File \u001b[1;32mc:\\Users\\thu71\\Anaconda3\\envs\\snowflake\\lib\\site-packages\\wandb\\sdk\\interface\\interface_shared.py:638\u001b[0m, in \u001b[0;36mInterfaceShared.join\u001b[1;34m(self)\u001b[0m\n\u001b[0;32m    637\u001b[0m \u001b[38;5;28;01mdef\u001b[39;00m \u001b[38;5;21mjoin\u001b[39m(\u001b[38;5;28mself\u001b[39m) \u001b[38;5;241m-\u001b[39m\u001b[38;5;241m>\u001b[39m \u001b[38;5;28;01mNone\u001b[39;00m:\n\u001b[1;32m--> 638\u001b[0m     \u001b[38;5;28;43msuper\u001b[39;49m\u001b[43m(\u001b[49m\u001b[43m)\u001b[49m\u001b[38;5;241;43m.\u001b[39;49m\u001b[43mjoin\u001b[49m\u001b[43m(\u001b[49m\u001b[43m)\u001b[49m\n\u001b[0;32m    640\u001b[0m     \u001b[38;5;28;01mif\u001b[39;00m \u001b[38;5;28mself\u001b[39m\u001b[38;5;241m.\u001b[39m_router:\n\u001b[0;32m    641\u001b[0m         \u001b[38;5;28mself\u001b[39m\u001b[38;5;241m.\u001b[39m_router\u001b[38;5;241m.\u001b[39mjoin()\n",
      "File \u001b[1;32mc:\\Users\\thu71\\Anaconda3\\envs\\snowflake\\lib\\site-packages\\wandb\\sdk\\interface\\interface.py:741\u001b[0m, in \u001b[0;36mInterfaceBase.join\u001b[1;34m(self)\u001b[0m\n\u001b[0;32m    739\u001b[0m \u001b[38;5;28;01mif\u001b[39;00m \u001b[38;5;28mself\u001b[39m\u001b[38;5;241m.\u001b[39m_drop:\n\u001b[0;32m    740\u001b[0m     \u001b[38;5;28;01mreturn\u001b[39;00m\n\u001b[1;32m--> 741\u001b[0m _ \u001b[38;5;241m=\u001b[39m \u001b[38;5;28;43mself\u001b[39;49m\u001b[38;5;241;43m.\u001b[39;49m\u001b[43m_communicate_shutdown\u001b[49m\u001b[43m(\u001b[49m\u001b[43m)\u001b[49m\n",
      "File \u001b[1;32mc:\\Users\\thu71\\Anaconda3\\envs\\snowflake\\lib\\site-packages\\wandb\\sdk\\interface\\interface_shared.py:551\u001b[0m, in \u001b[0;36mInterfaceShared._communicate_shutdown\u001b[1;34m(self)\u001b[0m\n\u001b[0;32m    549\u001b[0m request \u001b[38;5;241m=\u001b[39m pb\u001b[38;5;241m.\u001b[39mRequest(shutdown\u001b[38;5;241m=\u001b[39mpb\u001b[38;5;241m.\u001b[39mShutdownRequest())\n\u001b[0;32m    550\u001b[0m record \u001b[38;5;241m=\u001b[39m \u001b[38;5;28mself\u001b[39m\u001b[38;5;241m.\u001b[39m_make_record(request\u001b[38;5;241m=\u001b[39mrequest)\n\u001b[1;32m--> 551\u001b[0m _ \u001b[38;5;241m=\u001b[39m \u001b[38;5;28;43mself\u001b[39;49m\u001b[38;5;241;43m.\u001b[39;49m\u001b[43m_communicate\u001b[49m\u001b[43m(\u001b[49m\u001b[43mrecord\u001b[49m\u001b[43m)\u001b[49m\n",
      "File \u001b[1;32mc:\\Users\\thu71\\Anaconda3\\envs\\snowflake\\lib\\site-packages\\wandb\\sdk\\interface\\interface_shared.py:285\u001b[0m, in \u001b[0;36mInterfaceShared._communicate\u001b[1;34m(self, rec, timeout, local)\u001b[0m\n\u001b[0;32m    282\u001b[0m \u001b[38;5;28;01mdef\u001b[39;00m \u001b[38;5;21m_communicate\u001b[39m(\n\u001b[0;32m    283\u001b[0m     \u001b[38;5;28mself\u001b[39m, rec: pb\u001b[38;5;241m.\u001b[39mRecord, timeout: Optional[\u001b[38;5;28mint\u001b[39m] \u001b[38;5;241m=\u001b[39m \u001b[38;5;241m5\u001b[39m, local: Optional[\u001b[38;5;28mbool\u001b[39m] \u001b[38;5;241m=\u001b[39m \u001b[38;5;28;01mNone\u001b[39;00m\n\u001b[0;32m    284\u001b[0m ) \u001b[38;5;241m-\u001b[39m\u001b[38;5;241m>\u001b[39m Optional[pb\u001b[38;5;241m.\u001b[39mResult]:\n\u001b[1;32m--> 285\u001b[0m     \u001b[38;5;28;01mreturn\u001b[39;00m \u001b[38;5;28;43mself\u001b[39;49m\u001b[38;5;241;43m.\u001b[39;49m\u001b[43m_communicate_async\u001b[49m\u001b[43m(\u001b[49m\u001b[43mrec\u001b[49m\u001b[43m,\u001b[49m\u001b[43m \u001b[49m\u001b[43mlocal\u001b[49m\u001b[38;5;241;43m=\u001b[39;49m\u001b[43mlocal\u001b[49m\u001b[43m)\u001b[49m\u001b[38;5;241m.\u001b[39mget(timeout\u001b[38;5;241m=\u001b[39mtimeout)\n",
      "File \u001b[1;32mc:\\Users\\thu71\\Anaconda3\\envs\\snowflake\\lib\\site-packages\\wandb\\sdk\\interface\\interface_sock.py:60\u001b[0m, in \u001b[0;36mInterfaceSock._communicate_async\u001b[1;34m(self, rec, local)\u001b[0m\n\u001b[0;32m     58\u001b[0m \u001b[38;5;28;01mif\u001b[39;00m \u001b[38;5;28mself\u001b[39m\u001b[38;5;241m.\u001b[39m_process_check \u001b[38;5;129;01mand\u001b[39;00m \u001b[38;5;28mself\u001b[39m\u001b[38;5;241m.\u001b[39m_process \u001b[38;5;129;01mand\u001b[39;00m \u001b[38;5;129;01mnot\u001b[39;00m \u001b[38;5;28mself\u001b[39m\u001b[38;5;241m.\u001b[39m_process\u001b[38;5;241m.\u001b[39mis_alive():\n\u001b[0;32m     59\u001b[0m     \u001b[38;5;28;01mraise\u001b[39;00m \u001b[38;5;167;01mException\u001b[39;00m(\u001b[38;5;124m\"\u001b[39m\u001b[38;5;124mThe wandb backend process has shutdown\u001b[39m\u001b[38;5;124m\"\u001b[39m)\n\u001b[1;32m---> 60\u001b[0m future \u001b[38;5;241m=\u001b[39m \u001b[38;5;28;43mself\u001b[39;49m\u001b[38;5;241;43m.\u001b[39;49m\u001b[43m_router\u001b[49m\u001b[38;5;241;43m.\u001b[39;49m\u001b[43msend_and_receive\u001b[49m\u001b[43m(\u001b[49m\u001b[43mrec\u001b[49m\u001b[43m,\u001b[49m\u001b[43m \u001b[49m\u001b[43mlocal\u001b[49m\u001b[38;5;241;43m=\u001b[39;49m\u001b[43mlocal\u001b[49m\u001b[43m)\u001b[49m\n\u001b[0;32m     61\u001b[0m \u001b[38;5;28;01mreturn\u001b[39;00m future\n",
      "File \u001b[1;32mc:\\Users\\thu71\\Anaconda3\\envs\\snowflake\\lib\\site-packages\\wandb\\sdk\\interface\\router.py:94\u001b[0m, in \u001b[0;36mMessageRouter.send_and_receive\u001b[1;34m(self, rec, local)\u001b[0m\n\u001b[0;32m     91\u001b[0m \u001b[38;5;28;01mwith\u001b[39;00m \u001b[38;5;28mself\u001b[39m\u001b[38;5;241m.\u001b[39m_lock:\n\u001b[0;32m     92\u001b[0m     \u001b[38;5;28mself\u001b[39m\u001b[38;5;241m.\u001b[39m_pending_reqs[rec\u001b[38;5;241m.\u001b[39muuid] \u001b[38;5;241m=\u001b[39m future\n\u001b[1;32m---> 94\u001b[0m \u001b[38;5;28;43mself\u001b[39;49m\u001b[38;5;241;43m.\u001b[39;49m\u001b[43m_send_message\u001b[49m\u001b[43m(\u001b[49m\u001b[43mrec\u001b[49m\u001b[43m)\u001b[49m\n\u001b[0;32m     96\u001b[0m \u001b[38;5;28;01mreturn\u001b[39;00m future\n",
      "File \u001b[1;32mc:\\Users\\thu71\\Anaconda3\\envs\\snowflake\\lib\\site-packages\\wandb\\sdk\\interface\\router_sock.py:36\u001b[0m, in \u001b[0;36mMessageSockRouter._send_message\u001b[1;34m(self, record)\u001b[0m\n\u001b[0;32m     35\u001b[0m \u001b[38;5;28;01mdef\u001b[39;00m \u001b[38;5;21m_send_message\u001b[39m(\u001b[38;5;28mself\u001b[39m, record: \u001b[38;5;124m\"\u001b[39m\u001b[38;5;124mpb.Record\u001b[39m\u001b[38;5;124m\"\u001b[39m) \u001b[38;5;241m-\u001b[39m\u001b[38;5;241m>\u001b[39m \u001b[38;5;28;01mNone\u001b[39;00m:\n\u001b[1;32m---> 36\u001b[0m     \u001b[38;5;28;43mself\u001b[39;49m\u001b[38;5;241;43m.\u001b[39;49m\u001b[43m_sock_client\u001b[49m\u001b[38;5;241;43m.\u001b[39;49m\u001b[43msend_record_communicate\u001b[49m\u001b[43m(\u001b[49m\u001b[43mrecord\u001b[49m\u001b[43m)\u001b[49m\n",
      "File \u001b[1;32mc:\\Users\\thu71\\Anaconda3\\envs\\snowflake\\lib\\site-packages\\wandb\\sdk\\lib\\sock_client.py:216\u001b[0m, in \u001b[0;36mSockClient.send_record_communicate\u001b[1;34m(self, record)\u001b[0m\n\u001b[0;32m    214\u001b[0m server_req \u001b[38;5;241m=\u001b[39m spb\u001b[38;5;241m.\u001b[39mServerRequest()\n\u001b[0;32m    215\u001b[0m server_req\u001b[38;5;241m.\u001b[39mrecord_communicate\u001b[38;5;241m.\u001b[39mCopyFrom(record)\n\u001b[1;32m--> 216\u001b[0m \u001b[38;5;28;43mself\u001b[39;49m\u001b[38;5;241;43m.\u001b[39;49m\u001b[43msend_server_request\u001b[49m\u001b[43m(\u001b[49m\u001b[43mserver_req\u001b[49m\u001b[43m)\u001b[49m\n",
      "File \u001b[1;32mc:\\Users\\thu71\\Anaconda3\\envs\\snowflake\\lib\\site-packages\\wandb\\sdk\\lib\\sock_client.py:155\u001b[0m, in \u001b[0;36mSockClient.send_server_request\u001b[1;34m(self, msg)\u001b[0m\n\u001b[0;32m    154\u001b[0m \u001b[38;5;28;01mdef\u001b[39;00m \u001b[38;5;21msend_server_request\u001b[39m(\u001b[38;5;28mself\u001b[39m, msg: Any) \u001b[38;5;241m-\u001b[39m\u001b[38;5;241m>\u001b[39m \u001b[38;5;28;01mNone\u001b[39;00m:\n\u001b[1;32m--> 155\u001b[0m     \u001b[38;5;28;43mself\u001b[39;49m\u001b[38;5;241;43m.\u001b[39;49m\u001b[43m_send_message\u001b[49m\u001b[43m(\u001b[49m\u001b[43mmsg\u001b[49m\u001b[43m)\u001b[49m\n",
      "File \u001b[1;32mc:\\Users\\thu71\\Anaconda3\\envs\\snowflake\\lib\\site-packages\\wandb\\sdk\\lib\\sock_client.py:152\u001b[0m, in \u001b[0;36mSockClient._send_message\u001b[1;34m(self, msg)\u001b[0m\n\u001b[0;32m    150\u001b[0m header \u001b[38;5;241m=\u001b[39m struct\u001b[38;5;241m.\u001b[39mpack(\u001b[38;5;124m\"\u001b[39m\u001b[38;5;124m<BI\u001b[39m\u001b[38;5;124m\"\u001b[39m, \u001b[38;5;28mord\u001b[39m(\u001b[38;5;124m\"\u001b[39m\u001b[38;5;124mW\u001b[39m\u001b[38;5;124m\"\u001b[39m), raw_size)\n\u001b[0;32m    151\u001b[0m \u001b[38;5;28;01mwith\u001b[39;00m \u001b[38;5;28mself\u001b[39m\u001b[38;5;241m.\u001b[39m_lock:\n\u001b[1;32m--> 152\u001b[0m     \u001b[38;5;28;43mself\u001b[39;49m\u001b[38;5;241;43m.\u001b[39;49m\u001b[43m_sendall_with_error_handle\u001b[49m\u001b[43m(\u001b[49m\u001b[43mheader\u001b[49m\u001b[43m \u001b[49m\u001b[38;5;241;43m+\u001b[39;49m\u001b[43m \u001b[49m\u001b[43mdata\u001b[49m\u001b[43m)\u001b[49m\n",
      "File \u001b[1;32mc:\\Users\\thu71\\Anaconda3\\envs\\snowflake\\lib\\site-packages\\wandb\\sdk\\lib\\sock_client.py:130\u001b[0m, in \u001b[0;36mSockClient._sendall_with_error_handle\u001b[1;34m(self, data)\u001b[0m\n\u001b[0;32m    128\u001b[0m start_time \u001b[38;5;241m=\u001b[39m time\u001b[38;5;241m.\u001b[39mmonotonic()\n\u001b[0;32m    129\u001b[0m \u001b[38;5;28;01mtry\u001b[39;00m:\n\u001b[1;32m--> 130\u001b[0m     sent \u001b[38;5;241m=\u001b[39m \u001b[38;5;28;43mself\u001b[39;49m\u001b[38;5;241;43m.\u001b[39;49m\u001b[43m_sock\u001b[49m\u001b[38;5;241;43m.\u001b[39;49m\u001b[43msend\u001b[49m\u001b[43m(\u001b[49m\u001b[43mdata\u001b[49m\u001b[43m)\u001b[49m\n\u001b[0;32m    131\u001b[0m     \u001b[38;5;66;03m# sent equal to 0 indicates a closed socket\u001b[39;00m\n\u001b[0;32m    132\u001b[0m     \u001b[38;5;28;01mif\u001b[39;00m sent \u001b[38;5;241m==\u001b[39m \u001b[38;5;241m0\u001b[39m:\n",
      "\u001b[1;31mConnectionResetError\u001b[0m: [WinError 10054] An existing connection was forcibly closed by the remote host"
     ]
    }
   ],
   "source": [
    "k_folds = 5\n",
    "kfold = KFold(n_splits=k_folds, shuffle=True, random_state=42)\n",
    "\n",
    "for fold, (train_ids, valid_ids) in enumerate(kfold.split(dataset_filtered)):\n",
    "    train_subset = dataset_filtered.index_select(train_ids.tolist())\n",
    "    val_subset = dataset_filtered.index_select(valid_ids.tolist())\n",
    "    for NUM_LAYERS, HIDDEN_CHANNELS, pool, model in params:\n",
    "            # Path to the folder where the pretrained models are saved\n",
    "        # CHECKPOINT_PATH = checkpoint_folder / f'GAT_{NUM_LAYERS}_{HIDDEN_CHANNELS}_onehot_{fold}' / pool\n",
    "        CHECKPOINT_PATH = checkpoint_folder / f'{model}_{NUM_LAYERS}_{HIDDEN_CHANNELS}_{fusion}_{fold}' / pool\n",
    "        CHECKPOINT_PATH.mkdir(parents=True, exist_ok=True)\n",
    "\n",
    "        # Skip already trained kfold and pool\n",
    "        checkpoint = CHECKPOINT_PATH / f\"GraphLevel{model}\" / f\"GraphLevel{model}.ckpt\" \n",
    "        if checkpoint.exists():\n",
    "            print(checkpoint)\n",
    "            continue\n",
    "\n",
    "        # Run training\n",
    "        run = wandb.init(project=project_name, name=f'{model}_{NUM_LAYERS}_{HIDDEN_CHANNELS}_{fusion}_{fold}', \n",
    "                        group=f'{model}_{fusion}', \n",
    "                        # mode=\"disabled\"\n",
    "                        )\n",
    "        PPIGraph.train_graph_classifier_kfold_fusion(model, \n",
    "                                                train_subset, \n",
    "                                                val_subset, \n",
    "                                                dataset, \n",
    "                                                CHECKPOINT_PATH, \n",
    "                                                AVAIL_GPUS, \n",
    "                                                in_channels=9,\n",
    "                                                hidden_channels=HIDDEN_CHANNELS, \n",
    "                                                out_channels = HIDDEN_CHANNELS,\n",
    "                                                num_layers=NUM_LAYERS, \n",
    "                                                epochs=epochs,\n",
    "                                                batch_size=64,\n",
    "                                                fusion=fusion,\n",
    "                                                graph_pooling=pool)\n",
    "        run.finish()\n"
   ]
  },
  {
   "cell_type": "code",
   "execution_count": null,
   "metadata": {},
   "outputs": [],
   "source": []
  }
 ],
 "metadata": {
  "kernelspec": {
   "display_name": "snowflake",
   "language": "python",
   "name": "python3"
  },
  "language_info": {
   "codemirror_mode": {
    "name": "ipython",
    "version": 3
   },
   "file_extension": ".py",
   "mimetype": "text/x-python",
   "name": "python",
   "nbconvert_exporter": "python",
   "pygments_lexer": "ipython3",
   "version": "3.9.16"
  }
 },
 "nbformat": 4,
 "nbformat_minor": 2
}
