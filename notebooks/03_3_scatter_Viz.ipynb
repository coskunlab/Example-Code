{
 "cells": [
  {
   "cell_type": "code",
   "execution_count": 29,
   "metadata": {},
   "outputs": [],
   "source": [
    "# import itertools\n",
    "import os\n",
    "import sys\n",
    "from pathlib import Path\n",
    "\n",
    "import cv2\n",
    "import matplotlib.pyplot as plt\n",
    "import numpy as np\n",
    "import pandas as pd\n",
    "import skimage.io\n",
    "\n",
    "from collections import defaultdict\n",
    "from tqdm.auto import tqdm\n",
    "from joblib import Parallel, delayed\n",
    "import re\n",
    "import h5py\n",
    "import napari\n",
    "import tifffile as tiff\n",
    "import seaborn as sns\n",
    "import pickle"
   ]
  },
  {
   "cell_type": "code",
   "execution_count": 30,
   "metadata": {},
   "outputs": [
    {
     "name": "stdout",
     "output_type": "stream",
     "text": [
      "The autoreload extension is already loaded. To reload it, use:\n",
      "  %reload_ext autoreload\n"
     ]
    }
   ],
   "source": [
    "%load_ext autoreload\n",
    "%autoreload 2"
   ]
  },
  {
   "cell_type": "code",
   "execution_count": 31,
   "metadata": {},
   "outputs": [],
   "source": [
    "p_dir = (Path().cwd().parents[0]).absolute()\n",
    "\n",
    "module_path = str(p_dir / \"src\")\n",
    " \n",
    "if module_path not in sys.path:\n",
    "    sys.path.append(module_path)"
   ]
  },
  {
   "cell_type": "code",
   "execution_count": 32,
   "metadata": {},
   "outputs": [],
   "source": [
    "data_dir = (Path().cwd().parents[0] / 'data').absolute()\n",
    "\n",
    "df_meta_path = data_dir / 'sensitivity_v2' / 'metadata' / 'imgs_reg.csv'\n",
    "df_imgs = pd.read_csv(df_meta_path)\n"
   ]
  },
  {
   "cell_type": "code",
   "execution_count": 33,
   "metadata": {},
   "outputs": [
    {
     "data": {
      "text/html": [
       "<div>\n",
       "<style scoped>\n",
       "    .dataframe tbody tr th:only-of-type {\n",
       "        vertical-align: middle;\n",
       "    }\n",
       "\n",
       "    .dataframe tbody tr th {\n",
       "        vertical-align: top;\n",
       "    }\n",
       "\n",
       "    .dataframe thead th {\n",
       "        text-align: right;\n",
       "    }\n",
       "</style>\n",
       "<table border=\"1\" class=\"dataframe\">\n",
       "  <thead>\n",
       "    <tr style=\"text-align: right;\">\n",
       "      <th></th>\n",
       "      <th>Condition</th>\n",
       "      <th>FOV</th>\n",
       "      <th>Path</th>\n",
       "    </tr>\n",
       "  </thead>\n",
       "  <tbody>\n",
       "    <tr>\n",
       "      <th>0</th>\n",
       "      <td>100nM</td>\n",
       "      <td>C</td>\n",
       "      <td>Y:\\coskun-lab\\Thomas\\23_PLA_revision\\data\\sens...</td>\n",
       "    </tr>\n",
       "    <tr>\n",
       "      <th>1</th>\n",
       "      <td>10nM</td>\n",
       "      <td>E</td>\n",
       "      <td>Y:\\coskun-lab\\Thomas\\23_PLA_revision\\data\\sens...</td>\n",
       "    </tr>\n",
       "    <tr>\n",
       "      <th>2</th>\n",
       "      <td>25nM</td>\n",
       "      <td>D</td>\n",
       "      <td>Y:\\coskun-lab\\Thomas\\23_PLA_revision\\data\\sens...</td>\n",
       "    </tr>\n",
       "    <tr>\n",
       "      <th>3</th>\n",
       "      <td>5nM</td>\n",
       "      <td>F</td>\n",
       "      <td>Y:\\coskun-lab\\Thomas\\23_PLA_revision\\data\\sens...</td>\n",
       "    </tr>\n",
       "    <tr>\n",
       "      <th>4</th>\n",
       "      <td>Control</td>\n",
       "      <td>B</td>\n",
       "      <td>Y:\\coskun-lab\\Thomas\\23_PLA_revision\\data\\sens...</td>\n",
       "    </tr>\n",
       "  </tbody>\n",
       "</table>\n",
       "</div>"
      ],
      "text/plain": [
       "  Condition FOV                                               Path\n",
       "0     100nM   C  Y:\\coskun-lab\\Thomas\\23_PLA_revision\\data\\sens...\n",
       "1      10nM   E  Y:\\coskun-lab\\Thomas\\23_PLA_revision\\data\\sens...\n",
       "2      25nM   D  Y:\\coskun-lab\\Thomas\\23_PLA_revision\\data\\sens...\n",
       "3       5nM   F  Y:\\coskun-lab\\Thomas\\23_PLA_revision\\data\\sens...\n",
       "4   Control   B  Y:\\coskun-lab\\Thomas\\23_PLA_revision\\data\\sens..."
      ]
     },
     "execution_count": 33,
     "metadata": {},
     "output_type": "execute_result"
    }
   ],
   "source": [
    "df_imgs"
   ]
  },
  {
   "cell_type": "markdown",
   "metadata": {},
   "source": [
    "# Plot examples\n",
    "\n",
    "Revision Figure on tratement \n",
    "Need to look at FOV 6 and 7 and compared control and treated"
   ]
  },
  {
   "cell_type": "code",
   "execution_count": 34,
   "metadata": {},
   "outputs": [],
   "source": [
    "import napari \n",
    "\n",
    "# remove first and last consecutive zeros along dimension\n",
    "def removeFirstAndLast(zeroArray):\n",
    "    \n",
    "    # remove first\n",
    "    for ii, val in enumerate(zeroArray):\n",
    "        if np.sum(zeroArray[:ii + 1]) != ii + 1: # all consecutive trues\n",
    "            break # exit loop\n",
    "            \n",
    "        else:\n",
    "            lowest = ii # index of last of the first consecutive zeros\n",
    "            \n",
    "    # remove last\n",
    "    for ii, val in enumerate(np.flip(zeroArray)):\n",
    "        if np.sum(zeroArray[:ii + 1]) != ii + 1: # all consecutive trues\n",
    "            break # exit loop\n",
    "            \n",
    "        else:\n",
    "            highest = len(zeroArray) - ii # index of first of the last consecutive zeros            \n",
    "    \n",
    "    return (lowest, highest)\n",
    "\n",
    "# remove black borders from napari screenshot (2D image)\n",
    "def removeBorders(RGB):\n",
    "    rowMin = []\n",
    "    rowMax = []\n",
    "    colMin = []\n",
    "    colMax = []\n",
    "    for jj in range(3): # each RGB\n",
    "        \n",
    "        img = RGB[:, :, jj]\n",
    "        # find first and last rows and cols of all zeros\n",
    "        # remove any rows of zeros\n",
    "        zeroRows = np.all(img == 0, axis = 1)\n",
    "        zeroCols = np.all(img == 0, axis = 0)\n",
    "\n",
    "        posRows = removeFirstAndLast(zeroRows)\n",
    "        posCols = removeFirstAndLast(zeroCols)            \n",
    "        \n",
    "        rowMin.append(posRows[0])\n",
    "        rowMax.append(posRows[1])\n",
    "        colMin.append(posCols[0])\n",
    "        colMax.append(posCols[1])\n",
    "        \n",
    "    # make sure border signal is not cut out\n",
    "    rowMin = np.min(rowMin)\n",
    "    rowMax = np.max(rowMax)\n",
    "    colMin = np.min(colMin)\n",
    "    colMax = np.max(colMax)\n",
    "        \n",
    "    cropped = RGB[rowMin: rowMax, colMin: colMax, :] \n",
    "    \n",
    "    return cropped\n",
    "\n",
    "def get_loc_ppi(df, Condition, FOV, x_min, y_min, x_max, y_max, PPI_name):\n",
    "    df_ppi = df[(df.Condition == Condition) & (df.FOV == FOV)]\n",
    "    df_ppi = df_ppi[df_ppi.PPI == PPI_name]\n",
    "    df_ppi = df_ppi[(df_ppi.column > x_min) & (df_ppi.column < x_max) \n",
    "                    & (df_ppi.row > y_min) & (df_ppi.row < y_max)] \n",
    "    points = df_ppi[['row', 'column']].to_numpy()\n",
    "    points = points - np.array([y_min, x_min])\n",
    "    return points"
   ]
  },
  {
   "cell_type": "code",
   "execution_count": 35,
   "metadata": {},
   "outputs": [
    {
     "data": {
      "text/html": [
       "<div>\n",
       "<style scoped>\n",
       "    .dataframe tbody tr th:only-of-type {\n",
       "        vertical-align: middle;\n",
       "    }\n",
       "\n",
       "    .dataframe tbody tr th {\n",
       "        vertical-align: top;\n",
       "    }\n",
       "\n",
       "    .dataframe thead th {\n",
       "        text-align: right;\n",
       "    }\n",
       "</style>\n",
       "<table border=\"1\" class=\"dataframe\">\n",
       "  <thead>\n",
       "    <tr style=\"text-align: right;\">\n",
       "      <th></th>\n",
       "      <th>Cyto</th>\n",
       "      <th>row</th>\n",
       "      <th>column</th>\n",
       "      <th>PPI</th>\n",
       "      <th>Nuclei</th>\n",
       "      <th>Condition</th>\n",
       "      <th>FOV</th>\n",
       "    </tr>\n",
       "  </thead>\n",
       "  <tbody>\n",
       "    <tr>\n",
       "      <th>0</th>\n",
       "      <td>0</td>\n",
       "      <td>1826</td>\n",
       "      <td>503</td>\n",
       "      <td>Sox2/Oct4</td>\n",
       "      <td>0</td>\n",
       "      <td>100nM</td>\n",
       "      <td>C</td>\n",
       "    </tr>\n",
       "    <tr>\n",
       "      <th>1</th>\n",
       "      <td>72</td>\n",
       "      <td>1345</td>\n",
       "      <td>374</td>\n",
       "      <td>Sox2/Oct4</td>\n",
       "      <td>0</td>\n",
       "      <td>100nM</td>\n",
       "      <td>C</td>\n",
       "    </tr>\n",
       "    <tr>\n",
       "      <th>2</th>\n",
       "      <td>0</td>\n",
       "      <td>951</td>\n",
       "      <td>2665</td>\n",
       "      <td>Sox2/Oct4</td>\n",
       "      <td>0</td>\n",
       "      <td>100nM</td>\n",
       "      <td>C</td>\n",
       "    </tr>\n",
       "    <tr>\n",
       "      <th>3</th>\n",
       "      <td>0</td>\n",
       "      <td>2741</td>\n",
       "      <td>60</td>\n",
       "      <td>Sox2/Oct4</td>\n",
       "      <td>0</td>\n",
       "      <td>100nM</td>\n",
       "      <td>C</td>\n",
       "    </tr>\n",
       "    <tr>\n",
       "      <th>4</th>\n",
       "      <td>0</td>\n",
       "      <td>203</td>\n",
       "      <td>1450</td>\n",
       "      <td>Sox2/Oct4</td>\n",
       "      <td>0</td>\n",
       "      <td>100nM</td>\n",
       "      <td>C</td>\n",
       "    </tr>\n",
       "  </tbody>\n",
       "</table>\n",
       "</div>"
      ],
      "text/plain": [
       "   Cyto   row  column        PPI  Nuclei Condition FOV\n",
       "0     0  1826     503  Sox2/Oct4       0     100nM   C\n",
       "1    72  1345     374  Sox2/Oct4       0     100nM   C\n",
       "2     0   951    2665  Sox2/Oct4       0     100nM   C\n",
       "3     0  2741      60  Sox2/Oct4       0     100nM   C\n",
       "4     0   203    1450  Sox2/Oct4       0     100nM   C"
      ]
     },
     "execution_count": 35,
     "metadata": {},
     "output_type": "execute_result"
    }
   ],
   "source": [
    "# Read PPI \n",
    "PPI_save_path =  data_dir / 'sensitivity_v2'/ 'PPI'\n",
    "\n",
    "dfs = []\n",
    "for path in os.listdir(PPI_save_path):\n",
    "    if 'csv' in path:\n",
    "        df = pd.read_csv(PPI_save_path / path)\n",
    "        dfs.append(df)\n",
    "\n",
    "df = pd.concat(dfs)\n",
    "df = df.rename(columns={'x': 'row', 'y': 'column'})\n",
    "df.head()"
   ]
  },
  {
   "cell_type": "code",
   "execution_count": 36,
   "metadata": {},
   "outputs": [],
   "source": [
    "image_dir = (Path().cwd().parents[0] / 'figures').absolute() / 'PLA_scatter'\n",
    "image_dir.mkdir(parents=True, exist_ok=True)"
   ]
  },
  {
   "cell_type": "markdown",
   "metadata": {},
   "source": [
    "## B05"
   ]
  },
  {
   "cell_type": "code",
   "execution_count": 37,
   "metadata": {},
   "outputs": [
    {
     "name": "stdout",
     "output_type": "stream",
     "text": [
      "Condition                                              Control\n",
      "FOV                                                          B\n",
      "Path         Y:\\coskun-lab\\Thomas\\23_PLA_revision\\data\\sens...\n",
      "Name: 4, dtype: object\n"
     ]
    }
   ],
   "source": [
    "# Get images\n",
    "index = 4\n",
    "row = df_imgs.iloc[index]\n",
    "print(row)\n",
    "path = row.Path\n",
    "\n",
    "with h5py.File(path, 'r') as f:\n",
    "    imgs = f['imgs'][:]\n",
    "    markers = f['imgs'].attrs['Marker']\n"
   ]
  },
  {
   "cell_type": "code",
   "execution_count": 38,
   "metadata": {},
   "outputs": [],
   "source": [
    "# Define matching bbox to figures\n",
    "x_min, y_min = 1292, 712\n",
    "x_max, y_max = 1720, 1204\n",
    "DAPI_ch = 0\n",
    "\n",
    "# Get DAPI image\n",
    "dapiImg = imgs[0, y_min:y_max, x_min:x_max]\n",
    "\n",
    "# Get ppi location\n",
    "PPI_names = ['Sox2/Oct4', 'p-P90rsk/NF-Kb', 'Cyclin D1/CDK4', 'Bim/Tom20']\n",
    "points = [get_loc_ppi(df, row.Condition, row.FOV, x_min, y_min, x_max, y_max, PPI_name) for PPI_name in PPI_names]\n"
   ]
  },
  {
   "cell_type": "code",
   "execution_count": 39,
   "metadata": {},
   "outputs": [
    {
     "name": "stderr",
     "output_type": "stream",
     "text": [
      "C:\\Users\\thu71\\AppData\\Local\\Temp\\ipykernel_7740\\1515763897.py:10: DeprecationWarning: <tifffile.imsave> is deprecated. Use tifffile.imwrite\n",
      "  tiff.imsave(image_dir / f'sensitivity_B05_1.tif', removeBorders(screenshot))\n"
     ]
    }
   ],
   "source": [
    "# Napari viewer\n",
    "viewer = napari.view_image(dapiImg, colormap='blue')\n",
    "points_layer = viewer.add_points(points[0], size=8,face_color='magenta',)\n",
    "points_layer = viewer.add_points(points[1], size=8,face_color='lime',)\n",
    "\n",
    "# Get screenshot\n",
    "screenshot = viewer.screenshot(size=np.array(dapiImg.shape)*2)\n",
    "viewer.close()\n",
    "# Save image\n",
    "tiff.imsave(image_dir / f'sensitivity_B05_1.tif', removeBorders(screenshot))"
   ]
  },
  {
   "cell_type": "code",
   "execution_count": 40,
   "metadata": {},
   "outputs": [
    {
     "name": "stderr",
     "output_type": "stream",
     "text": [
      "C:\\Users\\thu71\\AppData\\Local\\Temp\\ipykernel_7740\\2455099806.py:10: DeprecationWarning: <tifffile.imsave> is deprecated. Use tifffile.imwrite\n",
      "  tiff.imsave(image_dir / f'sensitivity_B05_2.tif', removeBorders(screenshot))\n"
     ]
    }
   ],
   "source": [
    "# Napari viewer\n",
    "viewer = napari.view_image(dapiImg, colormap='blue')\n",
    "points_layer = viewer.add_points(points[2], size=8,face_color='magenta',)\n",
    "points_layer = viewer.add_points(points[3], size=8,face_color='lime',)\n",
    "\n",
    "# Get screenshot\n",
    "screenshot = viewer.screenshot(size=np.array(dapiImg.shape)*2)\n",
    "viewer.close()\n",
    "# Save image\n",
    "tiff.imsave(image_dir / f'sensitivity_B05_2.tif', removeBorders(screenshot))"
   ]
  },
  {
   "cell_type": "markdown",
   "metadata": {},
   "source": [
    "## C05"
   ]
  },
  {
   "cell_type": "code",
   "execution_count": 41,
   "metadata": {},
   "outputs": [
    {
     "name": "stdout",
     "output_type": "stream",
     "text": [
      "Condition                                                100nM\n",
      "FOV                                                          C\n",
      "Path         Y:\\coskun-lab\\Thomas\\23_PLA_revision\\data\\sens...\n",
      "Name: 0, dtype: object\n"
     ]
    }
   ],
   "source": [
    "# Get images\n",
    "index = 0\n",
    "row = df_imgs.iloc[index]\n",
    "print(row)\n",
    "path = row.Path\n",
    "\n",
    "with h5py.File(path, 'r') as f:\n",
    "    imgs = f['imgs'][:]\n",
    "    markers = f['imgs'].attrs['Marker']\n"
   ]
  },
  {
   "cell_type": "code",
   "execution_count": 42,
   "metadata": {},
   "outputs": [],
   "source": [
    "# Define matching bbox to figures\n",
    "x_min, y_min = 1464,2408\n",
    "x_max, y_max = 1852,2824\n",
    "DAPI_ch = 0\n",
    "\n",
    "# Get DAPI image\n",
    "dapiImg = imgs[0, y_min:y_max, x_min:x_max]\n",
    "\n",
    "# Get ppi location\n",
    "PPI_names = ['Sox2/Oct4', 'p-P90rsk/NF-Kb', 'Cyclin D1/CDK4', 'Bim/Tom20']\n",
    "points = [get_loc_ppi(df, row.Condition, row.FOV, x_min, y_min, x_max, y_max, PPI_name) for PPI_name in PPI_names]\n"
   ]
  },
  {
   "cell_type": "code",
   "execution_count": 43,
   "metadata": {},
   "outputs": [
    {
     "name": "stderr",
     "output_type": "stream",
     "text": [
      "C:\\Users\\thu71\\AppData\\Local\\Temp\\ipykernel_7740\\1486595845.py:10: DeprecationWarning: <tifffile.imsave> is deprecated. Use tifffile.imwrite\n",
      "  tiff.imsave(image_dir / f'sensitivity_C05_1.tif', removeBorders(screenshot))\n"
     ]
    }
   ],
   "source": [
    "# Napari viewer\n",
    "viewer = napari.view_image(dapiImg, colormap='blue')\n",
    "points_layer = viewer.add_points(points[0], size=8,face_color='magenta',)\n",
    "points_layer = viewer.add_points(points[1], size=8,face_color='lime',)\n",
    "\n",
    "# Get screenshot\n",
    "screenshot = viewer.screenshot(size=np.array(dapiImg.shape)*2)\n",
    "viewer.close()\n",
    "# Save image\n",
    "tiff.imsave(image_dir / f'sensitivity_C05_1.tif', removeBorders(screenshot))"
   ]
  },
  {
   "cell_type": "code",
   "execution_count": 44,
   "metadata": {},
   "outputs": [
    {
     "name": "stderr",
     "output_type": "stream",
     "text": [
      "C:\\Users\\thu71\\AppData\\Local\\Temp\\ipykernel_7740\\3705326910.py:10: DeprecationWarning: <tifffile.imsave> is deprecated. Use tifffile.imwrite\n",
      "  tiff.imsave(image_dir / f'sensitivity_C05_2.tif', removeBorders(screenshot))\n"
     ]
    }
   ],
   "source": [
    "# Napari viewer\n",
    "viewer = napari.view_image(dapiImg, colormap='blue')\n",
    "points_layer = viewer.add_points(points[2], size=8,face_color='magenta',)\n",
    "points_layer = viewer.add_points(points[3], size=8,face_color='lime',)\n",
    "\n",
    "# Get screenshot\n",
    "screenshot = viewer.screenshot(size=np.array(dapiImg.shape)*2)\n",
    "viewer.close()\n",
    "# Save image\n",
    "tiff.imsave(image_dir / f'sensitivity_C05_2.tif', removeBorders(screenshot))"
   ]
  },
  {
   "cell_type": "markdown",
   "metadata": {},
   "source": [
    "## D05"
   ]
  },
  {
   "cell_type": "code",
   "execution_count": 45,
   "metadata": {},
   "outputs": [
    {
     "name": "stdout",
     "output_type": "stream",
     "text": [
      "Condition                                                 25nM\n",
      "FOV                                                          D\n",
      "Path         Y:\\coskun-lab\\Thomas\\23_PLA_revision\\data\\sens...\n",
      "Name: 2, dtype: object\n"
     ]
    }
   ],
   "source": [
    "# Get images\n",
    "index = 2\n",
    "row = df_imgs.iloc[index]\n",
    "print(row)\n",
    "path = row.Path\n",
    "\n",
    "with h5py.File(path, 'r') as f:\n",
    "    imgs = f['imgs'][:]\n",
    "    markers = f['imgs'].attrs['Marker']\n"
   ]
  },
  {
   "cell_type": "code",
   "execution_count": 46,
   "metadata": {},
   "outputs": [],
   "source": [
    "# Define matching bbox to figures\n",
    "x_min, y_min = 400, 1580\n",
    "x_max, y_max = 740, 1892\n",
    "\n",
    "# Get DAPI image\n",
    "dapiImg = imgs[0, y_min:y_max, x_min:x_max]\n",
    "\n",
    "# Get ppi location\n",
    "PPI_names = ['Sox2/Oct4', 'p-P90rsk/NF-Kb', 'Cyclin D1/CDK4', 'Bim/Tom20']\n",
    "points = [get_loc_ppi(df, row.Condition, row.FOV, x_min, y_min, x_max, y_max, PPI_name) for PPI_name in PPI_names]\n"
   ]
  },
  {
   "cell_type": "code",
   "execution_count": 47,
   "metadata": {},
   "outputs": [
    {
     "name": "stderr",
     "output_type": "stream",
     "text": [
      "C:\\Users\\thu71\\AppData\\Local\\Temp\\ipykernel_7740\\648470091.py:10: DeprecationWarning: <tifffile.imsave> is deprecated. Use tifffile.imwrite\n",
      "  tiff.imsave(image_dir / f'sensitivity_D05_1.tif', removeBorders(screenshot))\n"
     ]
    }
   ],
   "source": [
    "# Napari viewer\n",
    "viewer = napari.view_image(dapiImg, colormap='blue')\n",
    "points_layer = viewer.add_points(points[0], size=8,face_color='magenta',)\n",
    "points_layer = viewer.add_points(points[1], size=8,face_color='lime',)\n",
    "\n",
    "# Get screenshot\n",
    "screenshot = viewer.screenshot(size=np.array(dapiImg.shape)*2)\n",
    "viewer.close()\n",
    "# Save image\n",
    "tiff.imsave(image_dir / f'sensitivity_D05_1.tif', removeBorders(screenshot))"
   ]
  },
  {
   "cell_type": "code",
   "execution_count": 48,
   "metadata": {},
   "outputs": [
    {
     "name": "stderr",
     "output_type": "stream",
     "text": [
      "C:\\Users\\thu71\\AppData\\Local\\Temp\\ipykernel_7740\\4243784634.py:10: DeprecationWarning: <tifffile.imsave> is deprecated. Use tifffile.imwrite\n",
      "  tiff.imsave(image_dir / f'sensitivity_D05_2.tif', removeBorders(screenshot))\n"
     ]
    }
   ],
   "source": [
    "# Napari viewer\n",
    "viewer = napari.view_image(dapiImg, colormap='blue')\n",
    "points_layer = viewer.add_points(points[2], size=8,face_color='magenta',)\n",
    "points_layer = viewer.add_points(points[3], size=8,face_color='lime',)\n",
    "\n",
    "# Get screenshot\n",
    "screenshot = viewer.screenshot(size=np.array(dapiImg.shape)*2)\n",
    "viewer.close()\n",
    "# Save image\n",
    "tiff.imsave(image_dir / f'sensitivity_D05_2.tif', removeBorders(screenshot))"
   ]
  },
  {
   "cell_type": "markdown",
   "metadata": {},
   "source": [
    "## E05"
   ]
  },
  {
   "cell_type": "code",
   "execution_count": 49,
   "metadata": {},
   "outputs": [
    {
     "name": "stdout",
     "output_type": "stream",
     "text": [
      "Condition                                                 10nM\n",
      "FOV                                                          E\n",
      "Path         Y:\\coskun-lab\\Thomas\\23_PLA_revision\\data\\sens...\n",
      "Name: 1, dtype: object\n"
     ]
    }
   ],
   "source": [
    "# Get images\n",
    "index = 1\n",
    "row = df_imgs.iloc[index]\n",
    "print(row)\n",
    "path = row.Path\n",
    "\n",
    "with h5py.File(path, 'r') as f:\n",
    "    imgs = f['imgs'][:]\n",
    "    markers = f['imgs'].attrs['Marker']\n"
   ]
  },
  {
   "cell_type": "code",
   "execution_count": 50,
   "metadata": {},
   "outputs": [],
   "source": [
    "# Define matching bbox to figures\n",
    "x_min, y_min = 2198, 2712\n",
    "x_max, y_max = 2546, 3012\n",
    "DAPI_ch = 0\n",
    "\n",
    "# Get DAPI image\n",
    "dapiImg = imgs[0, y_min:y_max, x_min:x_max]\n",
    "\n",
    "# Get ppi location\n",
    "PPI_names = ['Sox2/Oct4', 'p-P90rsk/NF-Kb', 'Cyclin D1/CDK4', 'Bim/Tom20']\n",
    "points = [get_loc_ppi(df, row.Condition, row.FOV, x_min, y_min, x_max, y_max, PPI_name) for PPI_name in PPI_names]\n"
   ]
  },
  {
   "cell_type": "code",
   "execution_count": 51,
   "metadata": {},
   "outputs": [
    {
     "name": "stderr",
     "output_type": "stream",
     "text": [
      "C:\\Users\\thu71\\AppData\\Local\\Temp\\ipykernel_7740\\807967018.py:10: DeprecationWarning: <tifffile.imsave> is deprecated. Use tifffile.imwrite\n",
      "  tiff.imsave(image_dir / f'sensitivity_E05_1.tif', removeBorders(screenshot))\n"
     ]
    }
   ],
   "source": [
    "# Napari viewer\n",
    "viewer = napari.view_image(dapiImg, colormap='blue')\n",
    "points_layer = viewer.add_points(points[0], size=8,face_color='magenta',)\n",
    "points_layer = viewer.add_points(points[1], size=8,face_color='lime',)\n",
    "\n",
    "# Get screenshot\n",
    "screenshot = viewer.screenshot(size=np.array(dapiImg.shape)*2)\n",
    "viewer.close()\n",
    "# Save image\n",
    "tiff.imsave(image_dir / f'sensitivity_E05_1.tif', removeBorders(screenshot))"
   ]
  },
  {
   "cell_type": "code",
   "execution_count": 52,
   "metadata": {},
   "outputs": [
    {
     "name": "stderr",
     "output_type": "stream",
     "text": [
      "C:\\Users\\thu71\\AppData\\Local\\Temp\\ipykernel_7740\\2462245639.py:10: DeprecationWarning: <tifffile.imsave> is deprecated. Use tifffile.imwrite\n",
      "  tiff.imsave(image_dir / f'sensitivity_E05_2.tif', removeBorders(screenshot))\n"
     ]
    }
   ],
   "source": [
    "# Napari viewer\n",
    "viewer = napari.view_image(dapiImg, colormap='blue')\n",
    "points_layer = viewer.add_points(points[2], size=8,face_color='magenta',)\n",
    "points_layer = viewer.add_points(points[3], size=8,face_color='lime',)\n",
    "\n",
    "# Get screenshot\n",
    "screenshot = viewer.screenshot(size=np.array(dapiImg.shape)*2)\n",
    "viewer.close()\n",
    "# Save image\n",
    "tiff.imsave(image_dir / f'sensitivity_E05_2.tif', removeBorders(screenshot))"
   ]
  },
  {
   "cell_type": "markdown",
   "metadata": {},
   "source": [
    "## F05"
   ]
  },
  {
   "cell_type": "code",
   "execution_count": 53,
   "metadata": {},
   "outputs": [
    {
     "name": "stdout",
     "output_type": "stream",
     "text": [
      "Condition                                                  5nM\n",
      "FOV                                                          F\n",
      "Path         Y:\\coskun-lab\\Thomas\\23_PLA_revision\\data\\sens...\n",
      "Name: 3, dtype: object\n"
     ]
    }
   ],
   "source": [
    "# Get images\n",
    "index = 3\n",
    "row = df_imgs.iloc[index]\n",
    "print(row)\n",
    "path = row.Path\n",
    "\n",
    "with h5py.File(path, 'r') as f:\n",
    "    imgs = f['imgs'][:]\n",
    "    markers = f['imgs'].attrs['Marker']\n"
   ]
  },
  {
   "cell_type": "code",
   "execution_count": 54,
   "metadata": {},
   "outputs": [],
   "source": [
    "# Define matching bbox to figures\n",
    "x_min, y_min = 772, 584\n",
    "x_max, y_max = 1148, 960\n",
    "DAPI_ch = 0\n",
    "\n",
    "# Get DAPI image\n",
    "dapiImg = imgs[0, y_min:y_max, x_min:x_max]\n",
    "\n",
    "# Get ppi location\n",
    "PPI_names = ['Sox2/Oct4', 'p-P90rsk/NF-Kb', 'Cyclin D1/CDK4', 'Bim/Tom20']\n",
    "points = [get_loc_ppi(df, row.Condition, row.FOV, x_min, y_min, x_max, y_max, PPI_name) for PPI_name in PPI_names]\n"
   ]
  },
  {
   "cell_type": "code",
   "execution_count": 55,
   "metadata": {},
   "outputs": [
    {
     "name": "stderr",
     "output_type": "stream",
     "text": [
      "C:\\Users\\thu71\\AppData\\Local\\Temp\\ipykernel_7740\\4032783075.py:10: DeprecationWarning: <tifffile.imsave> is deprecated. Use tifffile.imwrite\n",
      "  tiff.imsave(image_dir / f'sensitivity_F05_1.tif', removeBorders(screenshot))\n"
     ]
    }
   ],
   "source": [
    "# Napari viewer\n",
    "viewer = napari.view_image(dapiImg, colormap='blue')\n",
    "points_layer = viewer.add_points(points[0], size=8,face_color='magenta',)\n",
    "points_layer = viewer.add_points(points[1], size=8,face_color='lime',)\n",
    "\n",
    "# Get screenshot\n",
    "screenshot = viewer.screenshot(size=np.array(dapiImg.shape)*2)\n",
    "viewer.close()\n",
    "# Save image\n",
    "tiff.imsave(image_dir / f'sensitivity_F05_1.tif', removeBorders(screenshot))"
   ]
  },
  {
   "cell_type": "code",
   "execution_count": 56,
   "metadata": {},
   "outputs": [
    {
     "name": "stderr",
     "output_type": "stream",
     "text": [
      "C:\\Users\\thu71\\AppData\\Local\\Temp\\ipykernel_7740\\2081226841.py:10: DeprecationWarning: <tifffile.imsave> is deprecated. Use tifffile.imwrite\n",
      "  tiff.imsave(image_dir / f'sensitivity_F05_2.tif', removeBorders(screenshot))\n"
     ]
    }
   ],
   "source": [
    "# Napari viewer\n",
    "viewer = napari.view_image(dapiImg, colormap='blue')\n",
    "points_layer = viewer.add_points(points[2], size=8,face_color='magenta',)\n",
    "points_layer = viewer.add_points(points[3], size=8,face_color='lime',)\n",
    "\n",
    "# Get screenshot\n",
    "screenshot = viewer.screenshot(size=np.array(dapiImg.shape)*2)\n",
    "viewer.close()\n",
    "# Save image\n",
    "tiff.imsave(image_dir / f'sensitivity_F05_2.tif', removeBorders(screenshot))"
   ]
  }
 ],
 "metadata": {
  "kernelspec": {
   "display_name": "Python 3",
   "language": "python",
   "name": "python3"
  },
  "language_info": {
   "codemirror_mode": {
    "name": "ipython",
    "version": 3
   },
   "file_extension": ".py",
   "mimetype": "text/x-python",
   "name": "python",
   "nbconvert_exporter": "python",
   "pygments_lexer": "ipython3",
   "version": "3.11.4"
  },
  "orig_nbformat": 4
 },
 "nbformat": 4,
 "nbformat_minor": 2
}
