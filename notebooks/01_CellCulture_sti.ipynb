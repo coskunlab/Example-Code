{
 "cells": [
  {
   "cell_type": "code",
   "execution_count": 1,
   "id": "0d842ec3-9214-4e2e-a026-f6f51dbf0caf",
   "metadata": {
    "tags": []
   },
   "outputs": [],
   "source": [
    "import itertools\n",
    "import os\n",
    "import sys\n",
    "from pathlib import Path\n",
    "\n",
    "import cv2\n",
    "import matplotlib.pyplot as plt\n",
    "import numpy as np\n",
    "import pandas as pd\n",
    "import skimage.io\n",
    "\n",
    "from collections import defaultdict\n",
    "from tqdm.auto import tqdm\n",
    "from joblib import Parallel, delayed\n",
    "import re\n",
    "import h5py\n",
    "import napari"
   ]
  },
  {
   "cell_type": "code",
   "execution_count": 2,
   "id": "206e6b52-ab27-4665-9980-379b475ce764",
   "metadata": {},
   "outputs": [],
   "source": [
    "%load_ext autoreload\n",
    "%autoreload 2"
   ]
  },
  {
   "cell_type": "code",
   "execution_count": 3,
   "id": "c9036021-95da-4a06-9ebf-bd32abdae9b0",
   "metadata": {},
   "outputs": [],
   "source": [
    "data_dir = (Path().cwd().parents[0] / 'data').absolute()\n",
    "data_raw = r'Y:\\coskun-lab\\Shuangyi\\ERK, YAP project_2022\\PLA\\HCC827 cell culture'\n"
   ]
  },
  {
   "cell_type": "markdown",
   "id": "34e1d56d-9568-4999-b83c-97a2eddec323",
   "metadata": {
    "tags": []
   },
   "source": [
    "# Get info"
   ]
  },
  {
   "cell_type": "code",
   "execution_count": 4,
   "id": "68b73bd4-2c37-4df0-9bfa-219dceb3d052",
   "metadata": {
    "tags": []
   },
   "outputs": [],
   "source": [
    "markers_map = {\n",
    "    'cycle1': {\n",
    "        1: 'Hoeschst', \n",
    "        2: 'TEAD1 & YAP1'\n",
    "    },\n",
    "    'cycle2': {\n",
    "        1: 'Hoeschst', \n",
    "        2: 'CylinE & CDK2'\n",
    "    },\n",
    "    'cycle3': {\n",
    "        1: 'Hoeschst', \n",
    "        2: 'P-ERK & c-MYC'\n",
    "    },\n",
    "    'cycle4': {\n",
    "        1: 'Hoeschst', \n",
    "        2: 'p-AKT & mTOR'\n",
    "    },\n",
    "    'cycle5': {\n",
    "        1: 'Hoeschst', \n",
    "        2: 'Mcl-1 & BAK'\n",
    "    },\n",
    "    'cycle6': {\n",
    "        1: 'Hoeschst',\n",
    "        2: 'p-EGFR',\n",
    "        3: 'Phalloidin',\n",
    "        4: 'Tom20'\n",
    "    },\n",
    "    'cycle7': {\n",
    "        1: 'Hoeschst',\n",
    "        2: 'Pan-cytokeratin',\n",
    "        3: 'Golph4',\n",
    "        4: 'Ki67'\n",
    "    },\n",
    "    'cycle8': {\n",
    "        1: 'Hoeschst',\n",
    "        2: 'NBD-C6',\n",
    "        4: 'COX IV'\n",
    "    },\n",
    "    'cycle9': {\n",
    "        1: 'Hoeschst',\n",
    "        2: 'Concanavalin A',\n",
    "        4: 'WGA'\n",
    "    },\n",
    "}\n",
    "\n",
    "def get_info(data_raw, marker_dict = markers_map):\n",
    "    timepoints = []\n",
    "    fovs = []\n",
    "    cycles = []\n",
    "    afs = []\n",
    "    channels = []\n",
    "    markers = []\n",
    "    paths = [] \n",
    "    \n",
    "    # Loop through image folder\n",
    "    for (dirpath, dirnames, filenames) in os.walk(data_raw):\n",
    "        for name in sorted(filenames):\n",
    "            if \"tif\" in name and \"stitched\" in name \\\n",
    "            and 'Overlay' not in name \\\n",
    "            and 'Composite' not in name \\\n",
    "            and 'defocused' not in dirpath:\n",
    "                # Get information from image name\n",
    "                d_split = dirpath.split('\\\\')\n",
    "                n_split = name.split('_')\n",
    "                                \n",
    "                time = d_split[-1].split('_')[0]\n",
    "                fov = d_split[-1].split('_')[-1]\n",
    "                \n",
    "                ch = int(n_split[1][0])\n",
    "                \n",
    "                try:\n",
    "                    cycle = d_split[-1].split('_')[1]\n",
    "                    if 'Af' in cycle:\n",
    "                        after_bleach = True\n",
    "                    else:\n",
    "                        after_bleach = False\n",
    "                    cycle = f'cycle{cycle[-1]}'\n",
    "                    marker = marker_dict[cycle][ch]\n",
    "                except:\n",
    "                    continue\n",
    "        \n",
    "                timepoints.append(time)\n",
    "                fovs.append(fov)\n",
    "                cycles.append(cycle)\n",
    "                afs.append(after_bleach)\n",
    "                channels.append(ch)\n",
    "                markers.append(marker)\n",
    "                paths.append(os.path.join(dirpath, name))\n",
    "                \n",
    "    info = {\n",
    "            \"Timepoint\": timepoints,\n",
    "            \"FOV\": fovs,\n",
    "            \"Cycle\": cycles,\n",
    "            \"AfBleach\": afs,\n",
    "            \"Channels\": channels,\n",
    "            \"Markers\": markers,\n",
    "            \"Path\": paths\n",
    "        }\n",
    "\n",
    "    df = pd.DataFrame(info)\n",
    "    return df"
   ]
  },
  {
   "cell_type": "code",
   "execution_count": 5,
   "id": "1fa88764-3452-4938-baf0-d7ef9a3809b3",
   "metadata": {
    "tags": []
   },
   "outputs": [
    {
     "name": "stdout",
     "output_type": "stream",
     "text": [
      "Folder is already there\n",
      "Loaded df\n"
     ]
    }
   ],
   "source": [
    "df_meta_path = data_dir / 'OCT Cell Culture' /'Whole' / 'metadata' / 'info.csv'\n",
    "\n",
    "try:\n",
    "    df_meta_path.parent.mkdir(parents=True, exist_ok=False)\n",
    "except FileExistsError:\n",
    "    print(\"Folder is already there\")\n",
    "\n",
    "df_exist = df_meta_path.is_file()\n",
    "\n",
    "if not df_exist:\n",
    "    print('Created df')\n",
    "    df = get_info(data_raw)\n",
    "    df.loc[df.Timepoint == 'HCC827Osimj', 'Timepoint'] = 'HCC827Osim'\n",
    "    df.loc[df.Timepoint == 'HCC827ctrl', 'Timepoint'] = 'HCC827Ctrl'\n",
    "\n",
    "    df.to_csv(df_meta_path, index=False)\n",
    "else:\n",
    "    print('Loaded df')\n",
    "    df = pd.read_csv(df_meta_path)"
   ]
  },
  {
   "cell_type": "code",
   "execution_count": 6,
   "id": "4d9a7522-bca6-43bd-8bfa-aa4d8f61e1c5",
   "metadata": {},
   "outputs": [],
   "source": [
    "df = df[df.AfBleach==False]"
   ]
  },
  {
   "cell_type": "code",
   "execution_count": 7,
   "id": "01b9fc56-1fe4-4458-bfbb-ea80194f9034",
   "metadata": {},
   "outputs": [
    {
     "data": {
      "text/html": [
       "<div>\n",
       "<style scoped>\n",
       "    .dataframe tbody tr th:only-of-type {\n",
       "        vertical-align: middle;\n",
       "    }\n",
       "\n",
       "    .dataframe tbody tr th {\n",
       "        vertical-align: top;\n",
       "    }\n",
       "\n",
       "    .dataframe thead th {\n",
       "        text-align: right;\n",
       "    }\n",
       "</style>\n",
       "<table border=\"1\" class=\"dataframe\">\n",
       "  <thead>\n",
       "    <tr style=\"text-align: right;\">\n",
       "      <th></th>\n",
       "      <th>Timepoint</th>\n",
       "      <th>FOV</th>\n",
       "      <th>Cycle</th>\n",
       "      <th>AfBleach</th>\n",
       "      <th>Channels</th>\n",
       "      <th>Markers</th>\n",
       "      <th>Path</th>\n",
       "    </tr>\n",
       "  </thead>\n",
       "  <tbody>\n",
       "    <tr>\n",
       "      <th>0</th>\n",
       "      <td>HCC827Osim</td>\n",
       "      <td>FW1</td>\n",
       "      <td>cycle3</td>\n",
       "      <td>False</td>\n",
       "      <td>1</td>\n",
       "      <td>Hoeschst</td>\n",
       "      <td>Y:\\coskun-lab\\Shuangyi\\ERK, YAP project_2022\\P...</td>\n",
       "    </tr>\n",
       "    <tr>\n",
       "      <th>1</th>\n",
       "      <td>HCC827Osim</td>\n",
       "      <td>FW1</td>\n",
       "      <td>cycle3</td>\n",
       "      <td>False</td>\n",
       "      <td>2</td>\n",
       "      <td>P-ERK &amp; c-MYC</td>\n",
       "      <td>Y:\\coskun-lab\\Shuangyi\\ERK, YAP project_2022\\P...</td>\n",
       "    </tr>\n",
       "    <tr>\n",
       "      <th>2</th>\n",
       "      <td>HCC827Osim</td>\n",
       "      <td>FW2</td>\n",
       "      <td>cycle3</td>\n",
       "      <td>False</td>\n",
       "      <td>1</td>\n",
       "      <td>Hoeschst</td>\n",
       "      <td>Y:\\coskun-lab\\Shuangyi\\ERK, YAP project_2022\\P...</td>\n",
       "    </tr>\n",
       "    <tr>\n",
       "      <th>3</th>\n",
       "      <td>HCC827Osim</td>\n",
       "      <td>FW2</td>\n",
       "      <td>cycle3</td>\n",
       "      <td>False</td>\n",
       "      <td>2</td>\n",
       "      <td>P-ERK &amp; c-MYC</td>\n",
       "      <td>Y:\\coskun-lab\\Shuangyi\\ERK, YAP project_2022\\P...</td>\n",
       "    </tr>\n",
       "    <tr>\n",
       "      <th>4</th>\n",
       "      <td>HCC827Osim</td>\n",
       "      <td>FW1</td>\n",
       "      <td>cycle4</td>\n",
       "      <td>False</td>\n",
       "      <td>1</td>\n",
       "      <td>Hoeschst</td>\n",
       "      <td>Y:\\coskun-lab\\Shuangyi\\ERK, YAP project_2022\\P...</td>\n",
       "    </tr>\n",
       "  </tbody>\n",
       "</table>\n",
       "</div>"
      ],
      "text/plain": [
       "    Timepoint  FOV   Cycle  AfBleach  Channels        Markers  \\\n",
       "0  HCC827Osim  FW1  cycle3     False         1       Hoeschst   \n",
       "1  HCC827Osim  FW1  cycle3     False         2  P-ERK & c-MYC   \n",
       "2  HCC827Osim  FW2  cycle3     False         1       Hoeschst   \n",
       "3  HCC827Osim  FW2  cycle3     False         2  P-ERK & c-MYC   \n",
       "4  HCC827Osim  FW1  cycle4     False         1       Hoeschst   \n",
       "\n",
       "                                                Path  \n",
       "0  Y:\\coskun-lab\\Shuangyi\\ERK, YAP project_2022\\P...  \n",
       "1  Y:\\coskun-lab\\Shuangyi\\ERK, YAP project_2022\\P...  \n",
       "2  Y:\\coskun-lab\\Shuangyi\\ERK, YAP project_2022\\P...  \n",
       "3  Y:\\coskun-lab\\Shuangyi\\ERK, YAP project_2022\\P...  \n",
       "4  Y:\\coskun-lab\\Shuangyi\\ERK, YAP project_2022\\P...  "
      ]
     },
     "execution_count": 7,
     "metadata": {},
     "output_type": "execute_result"
    }
   ],
   "source": [
    "df.head()"
   ]
  },
  {
   "cell_type": "code",
   "execution_count": 8,
   "id": "4db455a8-79e8-42b0-af28-548e5c1f8bad",
   "metadata": {},
   "outputs": [
    {
     "data": {
      "text/plain": [
       "array(['HCC827Osim', 'HCC827Ctrl'], dtype=object)"
      ]
     },
     "execution_count": 8,
     "metadata": {},
     "output_type": "execute_result"
    }
   ],
   "source": [
    "df.Timepoint.unique()"
   ]
  },
  {
   "cell_type": "markdown",
   "id": "9e1ec426-a27e-4f02-aeb3-2251651d3338",
   "metadata": {
    "tags": []
   },
   "source": [
    "# Save hdf5"
   ]
  },
  {
   "cell_type": "code",
   "execution_count": 9,
   "id": "da2ce51c-ab55-4e68-ac10-28b77fdf07a7",
   "metadata": {},
   "outputs": [],
   "source": [
    "import h5py\n",
    "\n",
    "def save_hdf5(\n",
    "    path: str, name: str, data: np.ndarray, attr_dict=None, mode: str = \"a\"\n",
    ") -> None:\n",
    "    # Read h5 file\n",
    "    hf = h5py.File(path, mode)\n",
    "    # Create z_stack_dataset\n",
    "    if hf.get(name) is None:\n",
    "        data_shape = data.shape\n",
    "        data_type = data.dtype\n",
    "        chunk_shape = (1,) + data_shape[1:]\n",
    "        max_shape = (data_shape[0],) + data_shape[1:]\n",
    "        dset = hf.create_dataset(\n",
    "            name,\n",
    "            shape=data_shape,\n",
    "            maxshape=max_shape,\n",
    "            chunks=True,\n",
    "            dtype=data_type,\n",
    "            compression=\"gzip\",\n",
    "        )\n",
    "        dset[:] = data\n",
    "        if attr_dict is not None:\n",
    "            for attr_key, attr_val in attr_dict.items():\n",
    "                dset.attrs[attr_key] = attr_val\n",
    "    else:\n",
    "        print(f\"Dataset {name} exists\")\n",
    "\n",
    "    hf.close()\n",
    "\n",
    "def read_img(path):\n",
    "    return skimage.io.imread(path, as_gray=True)\n",
    "\n",
    "def joblib_loop(task, pics):\n",
    "    return Parallel(n_jobs=20)(delayed(task)(i) for i in pics)"
   ]
  },
  {
   "cell_type": "code",
   "execution_count": 10,
   "id": "ddf6a654-8094-4bfe-b60e-16c7350eb7b6",
   "metadata": {},
   "outputs": [
    {
     "name": "stdout",
     "output_type": "stream",
     "text": [
      "Folder is already there\n",
      "Folder is already there\n",
      "Loaded df\n"
     ]
    }
   ],
   "source": [
    "df_imgs_path = data_dir / 'OCT Cell Culture' / 'Whole' / 'metadata' / 'imgs.csv'\n",
    "\n",
    "try:\n",
    "    df_imgs_path.parent.mkdir(parents=True, exist_ok=False)\n",
    "except FileExistsError:\n",
    "    print(\"Folder is already there\")\n",
    "    \n",
    "temp_path = data_dir / 'OCT Cell Culture' / 'Whole' / 'hdf5' / 'raw'\n",
    "try:\n",
    "    temp_path.mkdir(parents=True, exist_ok=False)\n",
    "except FileExistsError:\n",
    "    print(\"Folder is already there\")\n",
    "\n",
    "df_exist = df_imgs_path.is_file()\n",
    "\n",
    "if not df_exist:\n",
    "    print('Created df')\n",
    "    \n",
    "    group = df.groupby(['Timepoint','FOV', 'AfBleach'])\n",
    "    rows = []\n",
    "\n",
    "    for name, df_group in tqdm(group, total=len(group)):\n",
    "        file_name = '_'.join(np.array(name).astype(str)) + '.hdf5'\n",
    "        file_path = temp_path / file_name\n",
    "        rows.append(list(name)+[file_path])\n",
    "        \n",
    "        group_cycle = df_group.groupby('Cycle')\n",
    "        for cycle, df_cycle in group_cycle:\n",
    "            channels = df_cycle.Channels.to_list()\n",
    "            markers = df_cycle.Markers.to_list()\n",
    "            paths = df_cycle.Path.to_numpy()\n",
    "    \n",
    "            imgs = joblib_loop(read_img, paths)\n",
    "            imgs = np.array(imgs)\n",
    "            info = {\"Channels\": channels, \"Markers\": markers}\n",
    "            \n",
    "            # hdf5 as Channel -> Z mapping\n",
    "            save_hdf5(file_path, cycle, imgs, info)\n",
    "    df_imgs = pd.DataFrame(rows, columns=['Timepoint', 'FOV', 'AfBleach', 'Path'])        \n",
    "    df_imgs.to_csv(df_imgs_path, index=False)\n",
    "else:\n",
    "    print('Loaded df')\n",
    "    df_imgs = pd.read_csv(df_imgs_path)"
   ]
  },
  {
   "cell_type": "markdown",
   "id": "82975fa6-562e-4495-b29b-954bd4db2e63",
   "metadata": {
    "tags": []
   },
   "source": [
    "# Save Tifffile"
   ]
  },
  {
   "cell_type": "code",
   "execution_count": 16,
   "id": "9a818e55-a9e5-4f22-8d69-295a3e1d3e67",
   "metadata": {},
   "outputs": [],
   "source": [
    "import tifffile as tiff\n",
    "from skimage import exposure, util\n",
    "\n",
    "save_path = data_dir / 'OCT Cell Culture' / 'Whole' / 'imgs' / 'raw_norm'\n",
    "\n",
    "def contrast_str(img, n_min=0.01, n_max=99):\n",
    "    p2, p98 = np.percentile(img, (n_min, n_max))\n",
    "    img_rescale = exposure.rescale_intensity(img, in_range=(p2, p98))\n",
    "    return img_rescale\n",
    "\n",
    "def make_imgs_same_dim(imgs):\n",
    "    # Get max dimensions\n",
    "    shapes = np.array([img.shape[1:] for img in imgs])\n",
    "    min_x, min_y = shapes.min(axis=0)\n",
    "    imgs_cropped = [img[:, :min_x, :min_y] for img in imgs]\n",
    "    imgs_cropped[0] = contrast_str(imgs_cropped[0])\n",
    "    return imgs_cropped"
   ]
  },
  {
   "cell_type": "code",
   "execution_count": null,
   "id": "3e8ec225-8892-4516-b5af-d5f80dd2eee8",
   "metadata": {},
   "outputs": [],
   "source": [
    "save_path.mkdir(parents=True, exist_ok=True)\n",
    "\n",
    "group = df_imgs.groupby(['Timepoint', 'FOV'])\n",
    "for name, df_group in group:\n",
    "    path = df_group.iloc[0].Path\n",
    "             \n",
    "    # Read images\n",
    "    cycles = []\n",
    "    imgs_all = []\n",
    "    channels = []\n",
    "    with h5py.File(path, \"r\") as f:\n",
    "        for k in tqdm(f.keys(), total=len(f.keys()), leave=False):\n",
    "            cycle = k.split('_')[0]\n",
    "            channel = f[k].attrs['Channels']\n",
    "\n",
    "            imgs = f[k][:]\n",
    "            cycles.append(cycle)\n",
    "            channels.append(channel)\n",
    "            imgs_all.append(imgs)\n",
    "    \n",
    "    imgs_same_shape = make_imgs_same_dim(imgs_all)\n",
    "    \n",
    "    for i, imgs in enumerate(imgs_same_shape):\n",
    "        temp_path = save_path / '_'.join(np.array(name).astype(str))\n",
    "        temp_path.mkdir(parents=True, exist_ok=True)\n",
    "\n",
    "        file_name = f'001_{cycles[i]}.tif'\n",
    "        file_path = temp_path / file_name\n",
    "\n",
    "        # Write image\n",
    "        tiff.imwrite(file_path, imgs)\n"
   ]
  },
  {
   "cell_type": "markdown",
   "id": "84b1d657-697a-4a2a-8b0d-8d541bb54c5e",
   "metadata": {
    "tags": []
   },
   "source": [
    "# Registration"
   ]
  },
  {
   "cell_type": "code",
   "execution_count": 5,
   "id": "80def4be-1ad7-4bcf-86ff-33c2036d6de1",
   "metadata": {},
   "outputs": [],
   "source": [
    "from ashlar import fileseries, thumbnail,reg\n",
    "import matplotlib.pyplot as plt\n",
    "from ashlar.scripts.ashlar import process_axis_flip"
   ]
  },
  {
   "cell_type": "code",
   "execution_count": 6,
   "id": "e754d6cd-e02d-4b83-aadf-19a78413b89c",
   "metadata": {
    "collapsed": true,
    "jupyter": {
     "outputs_hidden": true
    },
    "tags": []
   },
   "outputs": [
    {
     "data": {
      "application/vnd.jupyter.widget-view+json": {
       "model_id": "5c18c03ef26d40879cfed6baac413487",
       "version_major": 2,
       "version_minor": 0
      },
      "text/plain": [
       "  0%|          | 0/4 [00:00<?, ?it/s]"
      ]
     },
     "metadata": {},
     "output_type": "display_data"
    },
    {
     "name": "stdout",
     "output_type": "stream",
     "text": [
      "    assembling thumbnail 1/1\n",
      "    assembling thumbnail 1/1\n",
      "    estimated cycle offset [y x] = [12. 37.]\n"
     ]
    },
    {
     "name": "stderr",
     "output_type": "stream",
     "text": [
      "\\\\bme-retromaster.ad.gatech.edu\\labs5\\coskun-lab\\thomas\\15_pla\\src\\ashlar-master\\ashlar\\thumbnail.py:35: FutureWarning: In scikit-image 0.21, phase_cross_correlation will start returning a tuple or 3 items (shift, error, phasediff) always. To enable the new return behavior and silence this warning, use return_error='always'.\n",
      "  shift = phase_cross_correlation(\n",
      "\\\\bme-retromaster.ad.gatech.edu\\labs5\\coskun-lab\\thomas\\15_pla\\src\\ashlar-master\\ashlar\\utils.py:23: FutureWarning: In scikit-image 0.21, phase_cross_correlation will start returning a tuple or 3 items (shift, error, phasediff) always. To enable the new return behavior and silence this warning, use return_error='always'.\n",
      "  shift = skimage.registration.phase_cross_correlation(\n"
     ]
    },
    {
     "name": "stdout",
     "output_type": "stream",
     "text": [
      "    assembling thumbnail 1/1\n",
      "    estimated cycle offset [y x] = [ 9. 58.]\n"
     ]
    },
    {
     "name": "stderr",
     "output_type": "stream",
     "text": [
      "\\\\bme-retromaster.ad.gatech.edu\\labs5\\coskun-lab\\thomas\\15_pla\\src\\ashlar-master\\ashlar\\thumbnail.py:35: FutureWarning: In scikit-image 0.21, phase_cross_correlation will start returning a tuple or 3 items (shift, error, phasediff) always. To enable the new return behavior and silence this warning, use return_error='always'.\n",
      "  shift = phase_cross_correlation(\n",
      "\\\\bme-retromaster.ad.gatech.edu\\labs5\\coskun-lab\\thomas\\15_pla\\src\\ashlar-master\\ashlar\\utils.py:23: FutureWarning: In scikit-image 0.21, phase_cross_correlation will start returning a tuple or 3 items (shift, error, phasediff) always. To enable the new return behavior and silence this warning, use return_error='always'.\n",
      "  shift = skimage.registration.phase_cross_correlation(\n"
     ]
    },
    {
     "name": "stdout",
     "output_type": "stream",
     "text": [
      "    assembling thumbnail 1/1\n",
      "    estimated cycle offset [y x] = [10. 60.]\n"
     ]
    },
    {
     "name": "stderr",
     "output_type": "stream",
     "text": [
      "\\\\bme-retromaster.ad.gatech.edu\\labs5\\coskun-lab\\thomas\\15_pla\\src\\ashlar-master\\ashlar\\thumbnail.py:35: FutureWarning: In scikit-image 0.21, phase_cross_correlation will start returning a tuple or 3 items (shift, error, phasediff) always. To enable the new return behavior and silence this warning, use return_error='always'.\n",
      "  shift = phase_cross_correlation(\n",
      "\\\\bme-retromaster.ad.gatech.edu\\labs5\\coskun-lab\\thomas\\15_pla\\src\\ashlar-master\\ashlar\\utils.py:23: FutureWarning: In scikit-image 0.21, phase_cross_correlation will start returning a tuple or 3 items (shift, error, phasediff) always. To enable the new return behavior and silence this warning, use return_error='always'.\n",
      "  shift = skimage.registration.phase_cross_correlation(\n"
     ]
    },
    {
     "name": "stdout",
     "output_type": "stream",
     "text": [
      "    assembling thumbnail 1/1\n",
      "    estimated cycle offset [y x] = [ 2. 81.]\n"
     ]
    },
    {
     "name": "stderr",
     "output_type": "stream",
     "text": [
      "\\\\bme-retromaster.ad.gatech.edu\\labs5\\coskun-lab\\thomas\\15_pla\\src\\ashlar-master\\ashlar\\thumbnail.py:35: FutureWarning: In scikit-image 0.21, phase_cross_correlation will start returning a tuple or 3 items (shift, error, phasediff) always. To enable the new return behavior and silence this warning, use return_error='always'.\n",
      "  shift = phase_cross_correlation(\n",
      "\\\\bme-retromaster.ad.gatech.edu\\labs5\\coskun-lab\\thomas\\15_pla\\src\\ashlar-master\\ashlar\\utils.py:23: FutureWarning: In scikit-image 0.21, phase_cross_correlation will start returning a tuple or 3 items (shift, error, phasediff) always. To enable the new return behavior and silence this warning, use return_error='always'.\n",
      "  shift = skimage.registration.phase_cross_correlation(\n"
     ]
    },
    {
     "name": "stdout",
     "output_type": "stream",
     "text": [
      "    assembling thumbnail 1/1\n",
      "    estimated cycle offset [y x] = [-35.  75.]\n"
     ]
    },
    {
     "name": "stderr",
     "output_type": "stream",
     "text": [
      "\\\\bme-retromaster.ad.gatech.edu\\labs5\\coskun-lab\\thomas\\15_pla\\src\\ashlar-master\\ashlar\\thumbnail.py:35: FutureWarning: In scikit-image 0.21, phase_cross_correlation will start returning a tuple or 3 items (shift, error, phasediff) always. To enable the new return behavior and silence this warning, use return_error='always'.\n",
      "  shift = phase_cross_correlation(\n",
      "\\\\bme-retromaster.ad.gatech.edu\\labs5\\coskun-lab\\thomas\\15_pla\\src\\ashlar-master\\ashlar\\utils.py:23: FutureWarning: In scikit-image 0.21, phase_cross_correlation will start returning a tuple or 3 items (shift, error, phasediff) always. To enable the new return behavior and silence this warning, use return_error='always'.\n",
      "  shift = skimage.registration.phase_cross_correlation(\n"
     ]
    },
    {
     "name": "stdout",
     "output_type": "stream",
     "text": [
      "    assembling thumbnail 1/1\n",
      "    estimated cycle offset [y x] = [-4. 39.]\n"
     ]
    },
    {
     "name": "stderr",
     "output_type": "stream",
     "text": [
      "\\\\bme-retromaster.ad.gatech.edu\\labs5\\coskun-lab\\thomas\\15_pla\\src\\ashlar-master\\ashlar\\thumbnail.py:35: FutureWarning: In scikit-image 0.21, phase_cross_correlation will start returning a tuple or 3 items (shift, error, phasediff) always. To enable the new return behavior and silence this warning, use return_error='always'.\n",
      "  shift = phase_cross_correlation(\n",
      "\\\\bme-retromaster.ad.gatech.edu\\labs5\\coskun-lab\\thomas\\15_pla\\src\\ashlar-master\\ashlar\\utils.py:23: FutureWarning: In scikit-image 0.21, phase_cross_correlation will start returning a tuple or 3 items (shift, error, phasediff) always. To enable the new return behavior and silence this warning, use return_error='always'.\n",
      "  shift = skimage.registration.phase_cross_correlation(\n"
     ]
    },
    {
     "name": "stdout",
     "output_type": "stream",
     "text": [
      "    assembling thumbnail 1/1\n",
      "    estimated cycle offset [y x] = [-20.999998  60.      ]\n"
     ]
    },
    {
     "name": "stderr",
     "output_type": "stream",
     "text": [
      "\\\\bme-retromaster.ad.gatech.edu\\labs5\\coskun-lab\\thomas\\15_pla\\src\\ashlar-master\\ashlar\\thumbnail.py:35: FutureWarning: In scikit-image 0.21, phase_cross_correlation will start returning a tuple or 3 items (shift, error, phasediff) always. To enable the new return behavior and silence this warning, use return_error='always'.\n",
      "  shift = phase_cross_correlation(\n",
      "\\\\bme-retromaster.ad.gatech.edu\\labs5\\coskun-lab\\thomas\\15_pla\\src\\ashlar-master\\ashlar\\utils.py:23: FutureWarning: In scikit-image 0.21, phase_cross_correlation will start returning a tuple or 3 items (shift, error, phasediff) always. To enable the new return behavior and silence this warning, use return_error='always'.\n",
      "  shift = skimage.registration.phase_cross_correlation(\n"
     ]
    },
    {
     "name": "stdout",
     "output_type": "stream",
     "text": [
      "    assembling thumbnail 1/1\n",
      "    estimated cycle offset [y x] = [-12.999999  49.      ]\n"
     ]
    },
    {
     "name": "stderr",
     "output_type": "stream",
     "text": [
      "\\\\bme-retromaster.ad.gatech.edu\\labs5\\coskun-lab\\thomas\\15_pla\\src\\ashlar-master\\ashlar\\thumbnail.py:35: FutureWarning: In scikit-image 0.21, phase_cross_correlation will start returning a tuple or 3 items (shift, error, phasediff) always. To enable the new return behavior and silence this warning, use return_error='always'.\n",
      "  shift = phase_cross_correlation(\n",
      "\\\\bme-retromaster.ad.gatech.edu\\labs5\\coskun-lab\\thomas\\15_pla\\src\\ashlar-master\\ashlar\\utils.py:23: FutureWarning: In scikit-image 0.21, phase_cross_correlation will start returning a tuple or 3 items (shift, error, phasediff) always. To enable the new return behavior and silence this warning, use return_error='always'.\n",
      "  shift = skimage.registration.phase_cross_correlation(\n"
     ]
    },
    {
     "name": "stdout",
     "output_type": "stream",
     "text": [
      "    assembling thumbnail 1/1\n",
      "    assembling thumbnail 1/1\n",
      "    estimated cycle offset [y x] = [17. 36.]\n"
     ]
    },
    {
     "name": "stderr",
     "output_type": "stream",
     "text": [
      "\\\\bme-retromaster.ad.gatech.edu\\labs5\\coskun-lab\\thomas\\15_pla\\src\\ashlar-master\\ashlar\\thumbnail.py:35: FutureWarning: In scikit-image 0.21, phase_cross_correlation will start returning a tuple or 3 items (shift, error, phasediff) always. To enable the new return behavior and silence this warning, use return_error='always'.\n",
      "  shift = phase_cross_correlation(\n",
      "\\\\bme-retromaster.ad.gatech.edu\\labs5\\coskun-lab\\thomas\\15_pla\\src\\ashlar-master\\ashlar\\utils.py:23: FutureWarning: In scikit-image 0.21, phase_cross_correlation will start returning a tuple or 3 items (shift, error, phasediff) always. To enable the new return behavior and silence this warning, use return_error='always'.\n",
      "  shift = skimage.registration.phase_cross_correlation(\n"
     ]
    },
    {
     "name": "stdout",
     "output_type": "stream",
     "text": [
      "    assembling thumbnail 1/1\n",
      "    estimated cycle offset [y x] = [ 9. 23.]\n"
     ]
    },
    {
     "name": "stderr",
     "output_type": "stream",
     "text": [
      "\\\\bme-retromaster.ad.gatech.edu\\labs5\\coskun-lab\\thomas\\15_pla\\src\\ashlar-master\\ashlar\\thumbnail.py:35: FutureWarning: In scikit-image 0.21, phase_cross_correlation will start returning a tuple or 3 items (shift, error, phasediff) always. To enable the new return behavior and silence this warning, use return_error='always'.\n",
      "  shift = phase_cross_correlation(\n",
      "\\\\bme-retromaster.ad.gatech.edu\\labs5\\coskun-lab\\thomas\\15_pla\\src\\ashlar-master\\ashlar\\utils.py:23: FutureWarning: In scikit-image 0.21, phase_cross_correlation will start returning a tuple or 3 items (shift, error, phasediff) always. To enable the new return behavior and silence this warning, use return_error='always'.\n",
      "  shift = skimage.registration.phase_cross_correlation(\n"
     ]
    },
    {
     "name": "stdout",
     "output_type": "stream",
     "text": [
      "    assembling thumbnail 1/1\n",
      "    estimated cycle offset [y x] = [ 0. 80.]\n"
     ]
    },
    {
     "name": "stderr",
     "output_type": "stream",
     "text": [
      "\\\\bme-retromaster.ad.gatech.edu\\labs5\\coskun-lab\\thomas\\15_pla\\src\\ashlar-master\\ashlar\\thumbnail.py:35: FutureWarning: In scikit-image 0.21, phase_cross_correlation will start returning a tuple or 3 items (shift, error, phasediff) always. To enable the new return behavior and silence this warning, use return_error='always'.\n",
      "  shift = phase_cross_correlation(\n",
      "\\\\bme-retromaster.ad.gatech.edu\\labs5\\coskun-lab\\thomas\\15_pla\\src\\ashlar-master\\ashlar\\utils.py:23: FutureWarning: In scikit-image 0.21, phase_cross_correlation will start returning a tuple or 3 items (shift, error, phasediff) always. To enable the new return behavior and silence this warning, use return_error='always'.\n",
      "  shift = skimage.registration.phase_cross_correlation(\n"
     ]
    },
    {
     "name": "stdout",
     "output_type": "stream",
     "text": [
      "    assembling thumbnail 1/1\n",
      "    estimated cycle offset [y x] = [16.       20.999998]\n"
     ]
    },
    {
     "name": "stderr",
     "output_type": "stream",
     "text": [
      "\\\\bme-retromaster.ad.gatech.edu\\labs5\\coskun-lab\\thomas\\15_pla\\src\\ashlar-master\\ashlar\\thumbnail.py:35: FutureWarning: In scikit-image 0.21, phase_cross_correlation will start returning a tuple or 3 items (shift, error, phasediff) always. To enable the new return behavior and silence this warning, use return_error='always'.\n",
      "  shift = phase_cross_correlation(\n",
      "\\\\bme-retromaster.ad.gatech.edu\\labs5\\coskun-lab\\thomas\\15_pla\\src\\ashlar-master\\ashlar\\utils.py:23: FutureWarning: In scikit-image 0.21, phase_cross_correlation will start returning a tuple or 3 items (shift, error, phasediff) always. To enable the new return behavior and silence this warning, use return_error='always'.\n",
      "  shift = skimage.registration.phase_cross_correlation(\n"
     ]
    },
    {
     "name": "stdout",
     "output_type": "stream",
     "text": [
      "    assembling thumbnail 1/1\n",
      "    estimated cycle offset [y x] = [-12.   1.]\n"
     ]
    },
    {
     "name": "stderr",
     "output_type": "stream",
     "text": [
      "\\\\bme-retromaster.ad.gatech.edu\\labs5\\coskun-lab\\thomas\\15_pla\\src\\ashlar-master\\ashlar\\thumbnail.py:35: FutureWarning: In scikit-image 0.21, phase_cross_correlation will start returning a tuple or 3 items (shift, error, phasediff) always. To enable the new return behavior and silence this warning, use return_error='always'.\n",
      "  shift = phase_cross_correlation(\n",
      "\\\\bme-retromaster.ad.gatech.edu\\labs5\\coskun-lab\\thomas\\15_pla\\src\\ashlar-master\\ashlar\\utils.py:23: FutureWarning: In scikit-image 0.21, phase_cross_correlation will start returning a tuple or 3 items (shift, error, phasediff) always. To enable the new return behavior and silence this warning, use return_error='always'.\n",
      "  shift = skimage.registration.phase_cross_correlation(\n"
     ]
    },
    {
     "name": "stdout",
     "output_type": "stream",
     "text": [
      "    assembling thumbnail 1/1\n",
      "    estimated cycle offset [y x] = [-2.  2.]\n"
     ]
    },
    {
     "name": "stderr",
     "output_type": "stream",
     "text": [
      "\\\\bme-retromaster.ad.gatech.edu\\labs5\\coskun-lab\\thomas\\15_pla\\src\\ashlar-master\\ashlar\\thumbnail.py:35: FutureWarning: In scikit-image 0.21, phase_cross_correlation will start returning a tuple or 3 items (shift, error, phasediff) always. To enable the new return behavior and silence this warning, use return_error='always'.\n",
      "  shift = phase_cross_correlation(\n",
      "\\\\bme-retromaster.ad.gatech.edu\\labs5\\coskun-lab\\thomas\\15_pla\\src\\ashlar-master\\ashlar\\utils.py:23: FutureWarning: In scikit-image 0.21, phase_cross_correlation will start returning a tuple or 3 items (shift, error, phasediff) always. To enable the new return behavior and silence this warning, use return_error='always'.\n",
      "  shift = skimage.registration.phase_cross_correlation(\n"
     ]
    },
    {
     "name": "stdout",
     "output_type": "stream",
     "text": [
      "    assembling thumbnail 1/1\n",
      "    estimated cycle offset [y x] = [ 0. 35.]\n"
     ]
    },
    {
     "name": "stderr",
     "output_type": "stream",
     "text": [
      "\\\\bme-retromaster.ad.gatech.edu\\labs5\\coskun-lab\\thomas\\15_pla\\src\\ashlar-master\\ashlar\\thumbnail.py:35: FutureWarning: In scikit-image 0.21, phase_cross_correlation will start returning a tuple or 3 items (shift, error, phasediff) always. To enable the new return behavior and silence this warning, use return_error='always'.\n",
      "  shift = phase_cross_correlation(\n",
      "\\\\bme-retromaster.ad.gatech.edu\\labs5\\coskun-lab\\thomas\\15_pla\\src\\ashlar-master\\ashlar\\utils.py:23: FutureWarning: In scikit-image 0.21, phase_cross_correlation will start returning a tuple or 3 items (shift, error, phasediff) always. To enable the new return behavior and silence this warning, use return_error='always'.\n",
      "  shift = skimage.registration.phase_cross_correlation(\n"
     ]
    },
    {
     "name": "stdout",
     "output_type": "stream",
     "text": [
      "    assembling thumbnail 1/1\n",
      "    estimated cycle offset [y x] = [10. 11.]\n"
     ]
    },
    {
     "name": "stderr",
     "output_type": "stream",
     "text": [
      "\\\\bme-retromaster.ad.gatech.edu\\labs5\\coskun-lab\\thomas\\15_pla\\src\\ashlar-master\\ashlar\\thumbnail.py:35: FutureWarning: In scikit-image 0.21, phase_cross_correlation will start returning a tuple or 3 items (shift, error, phasediff) always. To enable the new return behavior and silence this warning, use return_error='always'.\n",
      "  shift = phase_cross_correlation(\n",
      "\\\\bme-retromaster.ad.gatech.edu\\labs5\\coskun-lab\\thomas\\15_pla\\src\\ashlar-master\\ashlar\\utils.py:23: FutureWarning: In scikit-image 0.21, phase_cross_correlation will start returning a tuple or 3 items (shift, error, phasediff) always. To enable the new return behavior and silence this warning, use return_error='always'.\n",
      "  shift = skimage.registration.phase_cross_correlation(\n"
     ]
    },
    {
     "name": "stdout",
     "output_type": "stream",
     "text": [
      "    assembling thumbnail 1/1\n",
      "    assembling thumbnail 1/1\n",
      "    estimated cycle offset [y x] = [-2. 22.]\n"
     ]
    },
    {
     "name": "stderr",
     "output_type": "stream",
     "text": [
      "\\\\bme-retromaster.ad.gatech.edu\\labs5\\coskun-lab\\thomas\\15_pla\\src\\ashlar-master\\ashlar\\thumbnail.py:35: FutureWarning: In scikit-image 0.21, phase_cross_correlation will start returning a tuple or 3 items (shift, error, phasediff) always. To enable the new return behavior and silence this warning, use return_error='always'.\n",
      "  shift = phase_cross_correlation(\n",
      "\\\\bme-retromaster.ad.gatech.edu\\labs5\\coskun-lab\\thomas\\15_pla\\src\\ashlar-master\\ashlar\\utils.py:23: FutureWarning: In scikit-image 0.21, phase_cross_correlation will start returning a tuple or 3 items (shift, error, phasediff) always. To enable the new return behavior and silence this warning, use return_error='always'.\n",
      "  shift = skimage.registration.phase_cross_correlation(\n"
     ]
    },
    {
     "name": "stdout",
     "output_type": "stream",
     "text": [
      "    assembling thumbnail 1/1\n",
      "    estimated cycle offset [y x] = [-4.  6.]\n"
     ]
    },
    {
     "name": "stderr",
     "output_type": "stream",
     "text": [
      "\\\\bme-retromaster.ad.gatech.edu\\labs5\\coskun-lab\\thomas\\15_pla\\src\\ashlar-master\\ashlar\\thumbnail.py:35: FutureWarning: In scikit-image 0.21, phase_cross_correlation will start returning a tuple or 3 items (shift, error, phasediff) always. To enable the new return behavior and silence this warning, use return_error='always'.\n",
      "  shift = phase_cross_correlation(\n",
      "\\\\bme-retromaster.ad.gatech.edu\\labs5\\coskun-lab\\thomas\\15_pla\\src\\ashlar-master\\ashlar\\utils.py:23: FutureWarning: In scikit-image 0.21, phase_cross_correlation will start returning a tuple or 3 items (shift, error, phasediff) always. To enable the new return behavior and silence this warning, use return_error='always'.\n",
      "  shift = skimage.registration.phase_cross_correlation(\n"
     ]
    },
    {
     "name": "stdout",
     "output_type": "stream",
     "text": [
      "    assembling thumbnail 1/1\n",
      "    estimated cycle offset [y x] = [-23.   4.]\n"
     ]
    },
    {
     "name": "stderr",
     "output_type": "stream",
     "text": [
      "\\\\bme-retromaster.ad.gatech.edu\\labs5\\coskun-lab\\thomas\\15_pla\\src\\ashlar-master\\ashlar\\thumbnail.py:35: FutureWarning: In scikit-image 0.21, phase_cross_correlation will start returning a tuple or 3 items (shift, error, phasediff) always. To enable the new return behavior and silence this warning, use return_error='always'.\n",
      "  shift = phase_cross_correlation(\n",
      "\\\\bme-retromaster.ad.gatech.edu\\labs5\\coskun-lab\\thomas\\15_pla\\src\\ashlar-master\\ashlar\\utils.py:23: FutureWarning: In scikit-image 0.21, phase_cross_correlation will start returning a tuple or 3 items (shift, error, phasediff) always. To enable the new return behavior and silence this warning, use return_error='always'.\n",
      "  shift = skimage.registration.phase_cross_correlation(\n"
     ]
    },
    {
     "name": "stdout",
     "output_type": "stream",
     "text": [
      "    assembling thumbnail 1/1\n",
      "    estimated cycle offset [y x] = [ 0. 20.]\n"
     ]
    },
    {
     "name": "stderr",
     "output_type": "stream",
     "text": [
      "\\\\bme-retromaster.ad.gatech.edu\\labs5\\coskun-lab\\thomas\\15_pla\\src\\ashlar-master\\ashlar\\thumbnail.py:35: FutureWarning: In scikit-image 0.21, phase_cross_correlation will start returning a tuple or 3 items (shift, error, phasediff) always. To enable the new return behavior and silence this warning, use return_error='always'.\n",
      "  shift = phase_cross_correlation(\n",
      "\\\\bme-retromaster.ad.gatech.edu\\labs5\\coskun-lab\\thomas\\15_pla\\src\\ashlar-master\\ashlar\\utils.py:23: FutureWarning: In scikit-image 0.21, phase_cross_correlation will start returning a tuple or 3 items (shift, error, phasediff) always. To enable the new return behavior and silence this warning, use return_error='always'.\n",
      "  shift = skimage.registration.phase_cross_correlation(\n"
     ]
    },
    {
     "name": "stdout",
     "output_type": "stream",
     "text": [
      "    assembling thumbnail 1/1\n",
      "    estimated cycle offset [y x] = [-22.  39.]\n"
     ]
    },
    {
     "name": "stderr",
     "output_type": "stream",
     "text": [
      "\\\\bme-retromaster.ad.gatech.edu\\labs5\\coskun-lab\\thomas\\15_pla\\src\\ashlar-master\\ashlar\\thumbnail.py:35: FutureWarning: In scikit-image 0.21, phase_cross_correlation will start returning a tuple or 3 items (shift, error, phasediff) always. To enable the new return behavior and silence this warning, use return_error='always'.\n",
      "  shift = phase_cross_correlation(\n",
      "\\\\bme-retromaster.ad.gatech.edu\\labs5\\coskun-lab\\thomas\\15_pla\\src\\ashlar-master\\ashlar\\utils.py:23: FutureWarning: In scikit-image 0.21, phase_cross_correlation will start returning a tuple or 3 items (shift, error, phasediff) always. To enable the new return behavior and silence this warning, use return_error='always'.\n",
      "  shift = skimage.registration.phase_cross_correlation(\n"
     ]
    },
    {
     "name": "stdout",
     "output_type": "stream",
     "text": [
      "    assembling thumbnail 1/1\n",
      "    estimated cycle offset [y x] = [ 2. 16.]\n"
     ]
    },
    {
     "name": "stderr",
     "output_type": "stream",
     "text": [
      "\\\\bme-retromaster.ad.gatech.edu\\labs5\\coskun-lab\\thomas\\15_pla\\src\\ashlar-master\\ashlar\\thumbnail.py:35: FutureWarning: In scikit-image 0.21, phase_cross_correlation will start returning a tuple or 3 items (shift, error, phasediff) always. To enable the new return behavior and silence this warning, use return_error='always'.\n",
      "  shift = phase_cross_correlation(\n",
      "\\\\bme-retromaster.ad.gatech.edu\\labs5\\coskun-lab\\thomas\\15_pla\\src\\ashlar-master\\ashlar\\utils.py:23: FutureWarning: In scikit-image 0.21, phase_cross_correlation will start returning a tuple or 3 items (shift, error, phasediff) always. To enable the new return behavior and silence this warning, use return_error='always'.\n",
      "  shift = skimage.registration.phase_cross_correlation(\n"
     ]
    },
    {
     "name": "stdout",
     "output_type": "stream",
     "text": [
      "    assembling thumbnail 1/1\n",
      "    estimated cycle offset [y x] = [ 4. 22.]\n"
     ]
    },
    {
     "name": "stderr",
     "output_type": "stream",
     "text": [
      "\\\\bme-retromaster.ad.gatech.edu\\labs5\\coskun-lab\\thomas\\15_pla\\src\\ashlar-master\\ashlar\\thumbnail.py:35: FutureWarning: In scikit-image 0.21, phase_cross_correlation will start returning a tuple or 3 items (shift, error, phasediff) always. To enable the new return behavior and silence this warning, use return_error='always'.\n",
      "  shift = phase_cross_correlation(\n",
      "\\\\bme-retromaster.ad.gatech.edu\\labs5\\coskun-lab\\thomas\\15_pla\\src\\ashlar-master\\ashlar\\utils.py:23: FutureWarning: In scikit-image 0.21, phase_cross_correlation will start returning a tuple or 3 items (shift, error, phasediff) always. To enable the new return behavior and silence this warning, use return_error='always'.\n",
      "  shift = skimage.registration.phase_cross_correlation(\n"
     ]
    },
    {
     "name": "stdout",
     "output_type": "stream",
     "text": [
      "    assembling thumbnail 1/1\n",
      "    estimated cycle offset [y x] = [10.  2.]\n"
     ]
    },
    {
     "name": "stderr",
     "output_type": "stream",
     "text": [
      "\\\\bme-retromaster.ad.gatech.edu\\labs5\\coskun-lab\\thomas\\15_pla\\src\\ashlar-master\\ashlar\\thumbnail.py:35: FutureWarning: In scikit-image 0.21, phase_cross_correlation will start returning a tuple or 3 items (shift, error, phasediff) always. To enable the new return behavior and silence this warning, use return_error='always'.\n",
      "  shift = phase_cross_correlation(\n",
      "\\\\bme-retromaster.ad.gatech.edu\\labs5\\coskun-lab\\thomas\\15_pla\\src\\ashlar-master\\ashlar\\utils.py:23: FutureWarning: In scikit-image 0.21, phase_cross_correlation will start returning a tuple or 3 items (shift, error, phasediff) always. To enable the new return behavior and silence this warning, use return_error='always'.\n",
      "  shift = skimage.registration.phase_cross_correlation(\n"
     ]
    },
    {
     "name": "stdout",
     "output_type": "stream",
     "text": [
      "    assembling thumbnail 1/1\n",
      "    assembling thumbnail 1/1\n",
      "    estimated cycle offset [y x] = [16. 18.]\n"
     ]
    },
    {
     "name": "stderr",
     "output_type": "stream",
     "text": [
      "\\\\bme-retromaster.ad.gatech.edu\\labs5\\coskun-lab\\thomas\\15_pla\\src\\ashlar-master\\ashlar\\thumbnail.py:35: FutureWarning: In scikit-image 0.21, phase_cross_correlation will start returning a tuple or 3 items (shift, error, phasediff) always. To enable the new return behavior and silence this warning, use return_error='always'.\n",
      "  shift = phase_cross_correlation(\n",
      "\\\\bme-retromaster.ad.gatech.edu\\labs5\\coskun-lab\\thomas\\15_pla\\src\\ashlar-master\\ashlar\\utils.py:23: FutureWarning: In scikit-image 0.21, phase_cross_correlation will start returning a tuple or 3 items (shift, error, phasediff) always. To enable the new return behavior and silence this warning, use return_error='always'.\n",
      "  shift = skimage.registration.phase_cross_correlation(\n"
     ]
    },
    {
     "name": "stdout",
     "output_type": "stream",
     "text": [
      "    assembling thumbnail 1/1\n",
      "    estimated cycle offset [y x] = [-2. 19.]\n"
     ]
    },
    {
     "name": "stderr",
     "output_type": "stream",
     "text": [
      "\\\\bme-retromaster.ad.gatech.edu\\labs5\\coskun-lab\\thomas\\15_pla\\src\\ashlar-master\\ashlar\\thumbnail.py:35: FutureWarning: In scikit-image 0.21, phase_cross_correlation will start returning a tuple or 3 items (shift, error, phasediff) always. To enable the new return behavior and silence this warning, use return_error='always'.\n",
      "  shift = phase_cross_correlation(\n",
      "\\\\bme-retromaster.ad.gatech.edu\\labs5\\coskun-lab\\thomas\\15_pla\\src\\ashlar-master\\ashlar\\utils.py:23: FutureWarning: In scikit-image 0.21, phase_cross_correlation will start returning a tuple or 3 items (shift, error, phasediff) always. To enable the new return behavior and silence this warning, use return_error='always'.\n",
      "  shift = skimage.registration.phase_cross_correlation(\n"
     ]
    },
    {
     "name": "stdout",
     "output_type": "stream",
     "text": [
      "    assembling thumbnail 1/1\n",
      "    estimated cycle offset [y x] = [-6. 37.]\n"
     ]
    },
    {
     "name": "stderr",
     "output_type": "stream",
     "text": [
      "\\\\bme-retromaster.ad.gatech.edu\\labs5\\coskun-lab\\thomas\\15_pla\\src\\ashlar-master\\ashlar\\thumbnail.py:35: FutureWarning: In scikit-image 0.21, phase_cross_correlation will start returning a tuple or 3 items (shift, error, phasediff) always. To enable the new return behavior and silence this warning, use return_error='always'.\n",
      "  shift = phase_cross_correlation(\n",
      "\\\\bme-retromaster.ad.gatech.edu\\labs5\\coskun-lab\\thomas\\15_pla\\src\\ashlar-master\\ashlar\\utils.py:23: FutureWarning: In scikit-image 0.21, phase_cross_correlation will start returning a tuple or 3 items (shift, error, phasediff) always. To enable the new return behavior and silence this warning, use return_error='always'.\n",
      "  shift = skimage.registration.phase_cross_correlation(\n"
     ]
    },
    {
     "name": "stdout",
     "output_type": "stream",
     "text": [
      "    assembling thumbnail 1/1\n",
      "    estimated cycle offset [y x] = [-18.  28.]\n"
     ]
    },
    {
     "name": "stderr",
     "output_type": "stream",
     "text": [
      "\\\\bme-retromaster.ad.gatech.edu\\labs5\\coskun-lab\\thomas\\15_pla\\src\\ashlar-master\\ashlar\\thumbnail.py:35: FutureWarning: In scikit-image 0.21, phase_cross_correlation will start returning a tuple or 3 items (shift, error, phasediff) always. To enable the new return behavior and silence this warning, use return_error='always'.\n",
      "  shift = phase_cross_correlation(\n",
      "\\\\bme-retromaster.ad.gatech.edu\\labs5\\coskun-lab\\thomas\\15_pla\\src\\ashlar-master\\ashlar\\utils.py:23: FutureWarning: In scikit-image 0.21, phase_cross_correlation will start returning a tuple or 3 items (shift, error, phasediff) always. To enable the new return behavior and silence this warning, use return_error='always'.\n",
      "  shift = skimage.registration.phase_cross_correlation(\n"
     ]
    },
    {
     "name": "stdout",
     "output_type": "stream",
     "text": [
      "    assembling thumbnail 1/1\n",
      "    estimated cycle offset [y x] = [-24.   8.]\n"
     ]
    },
    {
     "name": "stderr",
     "output_type": "stream",
     "text": [
      "\\\\bme-retromaster.ad.gatech.edu\\labs5\\coskun-lab\\thomas\\15_pla\\src\\ashlar-master\\ashlar\\thumbnail.py:35: FutureWarning: In scikit-image 0.21, phase_cross_correlation will start returning a tuple or 3 items (shift, error, phasediff) always. To enable the new return behavior and silence this warning, use return_error='always'.\n",
      "  shift = phase_cross_correlation(\n",
      "\\\\bme-retromaster.ad.gatech.edu\\labs5\\coskun-lab\\thomas\\15_pla\\src\\ashlar-master\\ashlar\\utils.py:23: FutureWarning: In scikit-image 0.21, phase_cross_correlation will start returning a tuple or 3 items (shift, error, phasediff) always. To enable the new return behavior and silence this warning, use return_error='always'.\n",
      "  shift = skimage.registration.phase_cross_correlation(\n"
     ]
    },
    {
     "name": "stdout",
     "output_type": "stream",
     "text": [
      "    assembling thumbnail 1/1\n",
      "    estimated cycle offset [y x] = [-2.  7.]\n"
     ]
    },
    {
     "name": "stderr",
     "output_type": "stream",
     "text": [
      "\\\\bme-retromaster.ad.gatech.edu\\labs5\\coskun-lab\\thomas\\15_pla\\src\\ashlar-master\\ashlar\\thumbnail.py:35: FutureWarning: In scikit-image 0.21, phase_cross_correlation will start returning a tuple or 3 items (shift, error, phasediff) always. To enable the new return behavior and silence this warning, use return_error='always'.\n",
      "  shift = phase_cross_correlation(\n",
      "\\\\bme-retromaster.ad.gatech.edu\\labs5\\coskun-lab\\thomas\\15_pla\\src\\ashlar-master\\ashlar\\utils.py:23: FutureWarning: In scikit-image 0.21, phase_cross_correlation will start returning a tuple or 3 items (shift, error, phasediff) always. To enable the new return behavior and silence this warning, use return_error='always'.\n",
      "  shift = skimage.registration.phase_cross_correlation(\n"
     ]
    },
    {
     "name": "stdout",
     "output_type": "stream",
     "text": [
      "    assembling thumbnail 1/1\n",
      "    estimated cycle offset [y x] = [-15.  54.]\n"
     ]
    },
    {
     "name": "stderr",
     "output_type": "stream",
     "text": [
      "\\\\bme-retromaster.ad.gatech.edu\\labs5\\coskun-lab\\thomas\\15_pla\\src\\ashlar-master\\ashlar\\thumbnail.py:35: FutureWarning: In scikit-image 0.21, phase_cross_correlation will start returning a tuple or 3 items (shift, error, phasediff) always. To enable the new return behavior and silence this warning, use return_error='always'.\n",
      "  shift = phase_cross_correlation(\n",
      "\\\\bme-retromaster.ad.gatech.edu\\labs5\\coskun-lab\\thomas\\15_pla\\src\\ashlar-master\\ashlar\\utils.py:23: FutureWarning: In scikit-image 0.21, phase_cross_correlation will start returning a tuple or 3 items (shift, error, phasediff) always. To enable the new return behavior and silence this warning, use return_error='always'.\n",
      "  shift = skimage.registration.phase_cross_correlation(\n"
     ]
    },
    {
     "name": "stdout",
     "output_type": "stream",
     "text": [
      "    assembling thumbnail 1/1\n",
      "    estimated cycle offset [y x] = [-1. 38.]\n"
     ]
    },
    {
     "name": "stderr",
     "output_type": "stream",
     "text": [
      "\\\\bme-retromaster.ad.gatech.edu\\labs5\\coskun-lab\\thomas\\15_pla\\src\\ashlar-master\\ashlar\\thumbnail.py:35: FutureWarning: In scikit-image 0.21, phase_cross_correlation will start returning a tuple or 3 items (shift, error, phasediff) always. To enable the new return behavior and silence this warning, use return_error='always'.\n",
      "  shift = phase_cross_correlation(\n",
      "\\\\bme-retromaster.ad.gatech.edu\\labs5\\coskun-lab\\thomas\\15_pla\\src\\ashlar-master\\ashlar\\utils.py:23: FutureWarning: In scikit-image 0.21, phase_cross_correlation will start returning a tuple or 3 items (shift, error, phasediff) always. To enable the new return behavior and silence this warning, use return_error='always'.\n",
      "  shift = skimage.registration.phase_cross_correlation(\n"
     ]
    }
   ],
   "source": [
    "# Loop all images\n",
    "imgs_dir = data_dir / 'OCT Cell Culture' / 'Whole' / 'imgs' / 'raw_norm'\n",
    "save_dir = data_dir / 'OCT Cell Culture' / 'Whole' / 'imgs' / 'registered_norm'\n",
    "save_dir .mkdir(parents=True, exist_ok=True)\n",
    "imgs_dir_list = os.listdir(imgs_dir)\n",
    "\n",
    "for dir_path in tqdm(imgs_dir_list):\n",
    "    \n",
    "    # Create reader for each cycle\n",
    "    readers = []\n",
    "    for i in range(1, 10):\n",
    "        reader = fileseries.FileSeriesReader(\n",
    "            str(imgs_dir / dir_path),\n",
    "            pattern='{series}_cycle'+f'{i}.tif',\n",
    "            overlap=0.29,\n",
    "            width=1,\n",
    "            height=1,\n",
    "            layout='snake',\n",
    "            direction='horizontal',\n",
    "            pixel_size=0.18872, \n",
    "        )\n",
    "        readers.append(reader)\n",
    "    reader_1 = readers[0]\n",
    "    \n",
    "    # Run stitching\n",
    "    aligner0 = reg.EdgeAligner(reader_1, channel=0, filter_sigma=2, verbose=False,)\n",
    "    aligner0.run()\n",
    "    \n",
    "    # Generate merge image for 1 cycle\n",
    "    # Parramter\n",
    "    mosaic_args = {}\n",
    "    mosaic_args['verbose'] = False\n",
    "\n",
    "    mosaic = reg.Mosaic(\n",
    "            aligner0,aligner0.mosaic_shape,**mosaic_args\n",
    "        )\n",
    "    writer_class = reg.TiffListWriter\n",
    "    writer = writer_class(\n",
    "            [mosaic], str(save_dir / (dir_path + '_cycle1_ch{channel}.ome.tif'))\n",
    "    )\n",
    "    writer.run()\n",
    "    \n",
    "    # Loop through rest of cycles\n",
    "    aligners = list()\n",
    "    aligners.append(aligner0)\n",
    "\n",
    "    for j in range(1, 9):\n",
    "        aligners.append(\n",
    "            reg.LayerAligner(readers[j], aligners[0], channel=0, filter_sigma=2, verbose=False)\n",
    "        )\n",
    "        aligners[j].run()\n",
    "        mosaic = reg.Mosaic(\n",
    "            aligners[j], aligners[0].mosaic_shape,**mosaic_args\n",
    "        )\n",
    "        writer = writer_class(\n",
    "                [mosaic], str(save_dir / (dir_path +'_cycle'+str(j+1)+'_ch{channel}.ome.tif'))\n",
    "        )\n",
    "        writer.run()\n",
    "    "
   ]
  },
  {
   "cell_type": "markdown",
   "id": "f083a654-701e-4816-b825-23fa36ee8a26",
   "metadata": {
    "tags": []
   },
   "source": [
    "# Save data"
   ]
  },
  {
   "cell_type": "code",
   "execution_count": 13,
   "id": "2cc47f5f-db27-469e-a670-1292d0f8f0fb",
   "metadata": {},
   "outputs": [],
   "source": [
    "markers_map = {\n",
    "    'cycle1': {\n",
    "        'ch0': 'Hoeschst', \n",
    "        'ch1': 'TEAD1 & YAP1'\n",
    "    },\n",
    "    'cycle2': {\n",
    "        'ch0': 'Hoeschst', \n",
    "        'ch1': 'CylinE & CDK2'\n",
    "    },\n",
    "    'cycle3': {\n",
    "        'ch0': 'Hoeschst', \n",
    "        'ch1': 'P-ERK & c-MYC'\n",
    "    },\n",
    "    'cycle4': {\n",
    "        'ch0': 'Hoeschst', \n",
    "        'ch1': 'p-AKT & mTOR'\n",
    "    },\n",
    "    'cycle5': {\n",
    "        'ch0': 'Hoeschst', \n",
    "        'ch1': 'Mcl-1 & BAK'\n",
    "    },\n",
    "    'cycle6': {\n",
    "        'ch0': 'Hoeschst',\n",
    "        'ch1': 'p-EGFR',\n",
    "        'ch2': 'Phalloidin',\n",
    "        'ch3': 'Tom20'\n",
    "    },\n",
    "    'cycle7': {\n",
    "        'ch0': 'Hoeschst',\n",
    "        'ch1': 'Pan-cytokeratin',\n",
    "        'ch2': 'Golph4',\n",
    "        'ch3': 'Ki67'\n",
    "    },\n",
    "    'cycle8': {\n",
    "        'ch0': 'Hoeschst',\n",
    "        'ch1': 'NBD-C6',\n",
    "        'ch2': 'COX IV'\n",
    "    },\n",
    "    'cycle9': {\n",
    "        'ch0': 'Hoeschst',\n",
    "        'ch1': 'Concanavalin A',\n",
    "        'ch2': 'WGA'\n",
    "    },\n",
    "}\n",
    "\n",
    "def get_info(data_raw, marker_dict = markers_map):\n",
    "    timepoints = []\n",
    "    fovs = []\n",
    "    cycles = []\n",
    "    channels = []\n",
    "    markers = []\n",
    "    paths = [] \n",
    "\n",
    "    # Loop through image folder\n",
    "    for (dirpath, dirnames, filenames) in os.walk(data_raw):\n",
    "        for name in sorted(filenames):\n",
    "            if \"tif\" in name:\n",
    "                # Get information from image name\n",
    "                n_split = name.split('_')\n",
    "                                \n",
    "                time=n_split[0]\n",
    "                fov=n_split[1]\n",
    "                cycle=n_split[2]\n",
    "                ch = n_split[3][:3]\n",
    "                try:\n",
    "                    marker = marker_dict[cycle][ch]\n",
    "                except:\n",
    "                    continue \n",
    "                    \n",
    "                timepoints.append(time)\n",
    "                fovs.append(fov)\n",
    "                cycles.append(cycle)\n",
    "                channels.append(ch)\n",
    "                markers.append(marker)\n",
    "                paths.append(os.path.join(dirpath, name))\n",
    "                \n",
    "    info = {\n",
    "            \"Timepoint\": timepoints,\n",
    "            \"FOV\": fovs,\n",
    "            \"Cycle\": cycles,\n",
    "            \"Channels\": channels,\n",
    "            \"Markers\": markers,\n",
    "            \"Path\": paths\n",
    "        }\n",
    "\n",
    "    df = pd.DataFrame(info)\n",
    "    return df\n",
    "\n",
    "\n",
    "def get_min(imgs):\n",
    "    shapes = np.array([np.array(img.shape) for img in imgs])\n",
    "    return np.min(shapes, axis=0)"
   ]
  },
  {
   "cell_type": "code",
   "execution_count": 14,
   "id": "78a9569d-2bbe-4604-a08f-2d6eb436d236",
   "metadata": {},
   "outputs": [],
   "source": [
    "save_dir = data_dir / 'OCT Cell Culture' / 'Whole' / 'imgs' / 'registered_norm'"
   ]
  },
  {
   "cell_type": "code",
   "execution_count": 15,
   "id": "4f00e9a1-6017-4691-81ba-21a0304494ad",
   "metadata": {},
   "outputs": [
    {
     "name": "stdout",
     "output_type": "stream",
     "text": [
      "Folder is already there\n",
      "Created df\n"
     ]
    }
   ],
   "source": [
    "data_raw = save_dir\n",
    "df_meta_path = data_dir / 'OCT Cell Culture' / 'Whole' / 'metadata' / 'info_sti_norm.csv'\n",
    "\n",
    "try:\n",
    "    df_meta_path.parent.mkdir(parents=True, exist_ok=False)\n",
    "except FileExistsError:\n",
    "    print(\"Folder is already there\")\n",
    "\n",
    "df_exist = df_meta_path.is_file()\n",
    "\n",
    "if not df_exist:\n",
    "    print('Created df')\n",
    "    df = get_info(data_raw)\n",
    "    df.to_csv(df_meta_path, index=False)\n",
    "else:\n",
    "    print('Loaded df')\n",
    "    df = pd.read_csv(df_meta_path)"
   ]
  },
  {
   "cell_type": "code",
   "execution_count": 16,
   "id": "5f4f912d-1434-401f-b735-6a0d2a94b5c2",
   "metadata": {
    "tags": []
   },
   "outputs": [
    {
     "name": "stdout",
     "output_type": "stream",
     "text": [
      "Created df\n"
     ]
    },
    {
     "data": {
      "application/vnd.jupyter.widget-view+json": {
       "model_id": "5105e9f224704079aad61ca79c044e61",
       "version_major": 2,
       "version_minor": 0
      },
      "text/plain": [
       "  0%|          | 0/4 [00:00<?, ?it/s]"
      ]
     },
     "metadata": {},
     "output_type": "display_data"
    }
   ],
   "source": [
    "df_imgs_path = data_dir / 'OCT Cell Culture' / 'Whole' / 'metadata' / 'imgs_reg_norm.csv'\n",
    "\n",
    "temp_path =data_dir / 'OCT Cell Culture' / 'Whole' / 'hdf5' / 'registered_norm'\n",
    "try:\n",
    "    temp_path.mkdir(parents=True, exist_ok=False)\n",
    "except FileExistsError:\n",
    "    print(\"Folder is already there\")\n",
    "\n",
    "df_exist = df_imgs_path.is_file()\n",
    "\n",
    "if not df_exist:\n",
    "    print('Created df')\n",
    "    group = df.groupby(['Timepoint','FOV'])\n",
    "    rows = []\n",
    "\n",
    "    for name, df_group in tqdm(group, total=len(group)):\n",
    "        file_name = '_'.join(np.array(name).astype(str)) + '.hdf5'\n",
    "        file_path = temp_path / file_name\n",
    "        rows.append(list(name)+[file_path])\n",
    "        \n",
    "        if file_path.exists():\n",
    "            continue\n",
    "        \n",
    "        channels = df_group.Channels.to_list()\n",
    "        cycles = df_group.Cycle.to_list()\n",
    "        markers = df_group.Markers.to_list()\n",
    "        paths = df_group.Path.to_numpy()\n",
    "            \n",
    "        imgs = joblib_loop(read_img, paths)\n",
    "        min_shape = get_min(imgs)\n",
    "        imgs_cropped = np.array([img[:min_shape[0], :min_shape[1]] for img in imgs])\n",
    "        info = {\"Cycle\": cycles, \"Channel\": channels, \"Marker\": markers}\n",
    "            \n",
    "            # hdf5 as Channel -> Z mapping\n",
    "        save_hdf5(file_path, 'imgs', imgs_cropped, info)\n",
    "    df_imgs = pd.DataFrame(rows, columns=['Timepoint', 'FOV', 'Path'])        \n",
    "    df_imgs.to_csv(df_imgs_path, index=False)\n",
    "else:\n",
    "    print('Loaded df')\n",
    "    df_imgs = pd.read_csv(df_imgs_path)"
   ]
  },
  {
   "cell_type": "markdown",
   "id": "6289aced-b893-4bd4-a545-796332d630f1",
   "metadata": {
    "tags": []
   },
   "source": [
    "# Create segmenation training set"
   ]
  },
  {
   "cell_type": "code",
   "execution_count": 109,
   "id": "e6cd76ba-7d0f-4a4c-a314-f17d96c9ed0d",
   "metadata": {},
   "outputs": [],
   "source": [
    "import tensorflow as tf \n",
    "from skimage import exposure, util\n",
    "\n",
    "def random_crop(image, NEW_IMG_HEIGHT, NEW_IMG_WIDTH):\n",
    "    cropped_image = tf.image.random_crop(\n",
    "      image, size=[3, NEW_IMG_HEIGHT, NEW_IMG_WIDTH])\n",
    "\n",
    "    return cropped_image\n",
    "\n",
    "def contrast_str(img, n_min=0.01, n_max=99.95):\n",
    "    p2, p98 = np.percentile(img, (n_min, n_max))\n",
    "    img_rescale = exposure.rescale_intensity(img, in_range=(p2, p98))\n",
    "    img_rescale = util.img_as_ubyte(img_rescale)\n",
    "    return img_rescale\n",
    "\n",
    "def joblib_loop(task, pics):\n",
    "    return Parallel(n_jobs=20)(delayed(task)(i) for i in pics)"
   ]
  },
  {
   "cell_type": "code",
   "execution_count": 110,
   "id": "a45cb7f8-34e5-4b27-9334-a62169795877",
   "metadata": {},
   "outputs": [],
   "source": [
    "cyto_markers = ['p-EGFR', 'Pan-cytokeratin']\n",
    "# cyto_markers = ['p-EGFR']"
   ]
  },
  {
   "cell_type": "code",
   "execution_count": 113,
   "id": "478b1422-1092-4846-9f9e-da7d8820b36d",
   "metadata": {
    "tags": []
   },
   "outputs": [],
   "source": [
    "whole_seg_path = data_dir / 'OCT Cell Culture' / 'Whole' / 'imgs' / 'segmentation'\n",
    "crop_seg_path =  data_dir / 'OCT Cell Culture' / 'Whole' / 'imgs' / 'training_seg'\n",
    "\n",
    "N_crop = 10\n",
    "\n",
    "for row in df_imgs.itertuples():\n",
    "    # Read image\n",
    "    path = row.Path\n",
    "    with h5py.File(path, \"r\") as f:\n",
    "        imgs = f['imgs'][:]\n",
    "        markers = f['imgs'].attrs['Marker']\n",
    "    \n",
    "    # Get dapi and cyto imgaes\n",
    "    indices = np.isin(markers, cyto_markers)\n",
    "    img_dapi = imgs[0]\n",
    "    imgs_cyto = imgs[indices,:]\n",
    "    \n",
    "    # Contrast streching and combine to rgb image\n",
    "    img_dapi = contrast_str(img_dapi)\n",
    "    # img_cyto = contrast_str(imgs_cyto[0], n_max=99)\n",
    "    imgs_cyto_scaled = [contrast_str(imgs_cyto[0],n_max=99.5), contrast_str(imgs_cyto[1])]\n",
    "    img_cyto = np.max(np.array(imgs_cyto_scaled), axis=0)\n",
    "    img_rgb = np.stack([np.zeros(img_dapi.shape),img_cyto, img_dapi], axis=0).astype(np.uint8)\n",
    "    \n",
    "    # Crop and save\n",
    "    file_name = f'{\"_\".join(row[1:3])}.tif'\n",
    "    file_path = whole_seg_path / file_name\n",
    "    tiff.imwrite(file_path, img_rgb)\n",
    "    \n",
    "    for i in range(N_crop):\n",
    "        img_cropped = random_crop(img_rgb, 1000, 1000).numpy().astype(np.uint8)\n",
    "        \n",
    "        file_name = f'{\"_\".join(row[1:3])}_{i}.tif'\n",
    "        file_path = crop_seg_path / file_name\n",
    "        tiff.imwrite(file_path, img_cropped)\n"
   ]
  },
  {
   "cell_type": "code",
   "execution_count": null,
   "id": "b6605d14-51f5-42b5-b924-66a62dc09ec7",
   "metadata": {},
   "outputs": [],
   "source": [
    "# img_cropped = random_crop(img_rgb, 1000, 1000).numpy()\n",
    "# plt.imshow(np.transpose(img_cropped, (1,2,0)))"
   ]
  },
  {
   "cell_type": "code",
   "execution_count": 65,
   "id": "6cb89b7d-f2b4-423c-a7b9-e62cdff1d97e",
   "metadata": {},
   "outputs": [
    {
     "data": {
      "text/plain": [
       "Viewer(axes=Axes(visible=False, labels=True, colored=True, dashed=False, arrows=True), camera=Camera(center=(0.0, 1721.5, 4303.5), zoom=0.17944934944237917, angles=(0.0, 0.0, 90.0), perspective=0.0, interactive=True), cursor=Cursor(position=(1.0, 1.0, 0.0), scaled=True, size=1, style=<CursorStyle.STANDARD: 'standard'>), dims=Dims(ndim=3, ndisplay=2, last_used=0, range=((0.0, 3.0, 1.0), (0.0, 3444.0, 1.0), (0.0, 8608.0, 1.0)), current_step=(1, 1722, 4304), order=(0, 1, 2), axis_labels=('0', '1', '2')), grid=GridCanvas(stride=1, shape=(-1, -1), enabled=False), layers=[<Image layer 'img_rgb' at 0x197b69e5880>], scale_bar=ScaleBar(visible=False, colored=False, ticks=True, position=<Position.BOTTOM_RIGHT: 'bottom_right'>, font_size=10, unit=None), text_overlay=TextOverlay(visible=False, color=(0.5, 0.5, 0.5, 1.0), font_size=10, position=<TextOverlayPosition.TOP_LEFT: 'top_left'>, text=''), overlays=Overlays(interaction_box=InteractionBox(points=None, show=False, show_handle=False, show_vertices=False, selection_box_drag=None, selection_box_final=None, transform_start=<napari.utils.transforms.transforms.Affine object at 0x00000197A71F0FD0>, transform_drag=<napari.utils.transforms.transforms.Affine object at 0x00000197A71F6070>, transform_final=<napari.utils.transforms.transforms.Affine object at 0x00000197A71F60D0>, transform=<napari.utils.transforms.transforms.Affine object at 0x00000197A71F6130>, allow_new_selection=True, selected_vertex=None)), help='', status='Ready', tooltip=Tooltip(visible=False, text=''), theme='dark', title='napari', mouse_move_callbacks=[<function InteractionBoxMouseBindings.initialize_mouse_events.<locals>.mouse_move at 0x00000197B6AC18B0>], mouse_drag_callbacks=[<function InteractionBoxMouseBindings.initialize_mouse_events.<locals>.mouse_drag at 0x00000197B6AC1280>], mouse_double_click_callbacks=[], mouse_wheel_callbacks=[<function dims_scroll at 0x00000197933E7670>], _persisted_mouse_event={}, _mouse_drag_gen={}, _mouse_wheel_gen={}, keymap={'Shift': <function InteractionBoxMouseBindings.initialize_key_events.<locals>.hold_to_lock_aspect_ratio at 0x00000197B6AC1430>, 'Control-Shift-R': <function InteractionBoxMouseBindings._reset_active_layer_affine at 0x00000197B6AC1790>, 'Control-Shift-A': <function InteractionBoxMouseBindings._transform_active_layer at 0x00000197B6AC1670>})"
      ]
     },
     "execution_count": 65,
     "metadata": {},
     "output_type": "execute_result"
    }
   ],
   "source": [
    "# napari.view_image(img_rgb, contrast_limits=[0,1])"
   ]
  },
  {
   "cell_type": "markdown",
   "id": "e1b7d7dc-2c84-4fa0-9715-180054b69965",
   "metadata": {
    "tags": []
   },
   "source": [
    "# Show"
   ]
  },
  {
   "cell_type": "code",
   "execution_count": 7,
   "id": "a0a6f52e-12ba-488e-b243-5216dba4717b",
   "metadata": {},
   "outputs": [
    {
     "data": {
      "text/html": [
       "<div>\n",
       "<style scoped>\n",
       "    .dataframe tbody tr th:only-of-type {\n",
       "        vertical-align: middle;\n",
       "    }\n",
       "\n",
       "    .dataframe tbody tr th {\n",
       "        vertical-align: top;\n",
       "    }\n",
       "\n",
       "    .dataframe thead th {\n",
       "        text-align: right;\n",
       "    }\n",
       "</style>\n",
       "<table border=\"1\" class=\"dataframe\">\n",
       "  <thead>\n",
       "    <tr style=\"text-align: right;\">\n",
       "      <th></th>\n",
       "      <th>Timepoint</th>\n",
       "      <th>FOV</th>\n",
       "      <th>Path</th>\n",
       "    </tr>\n",
       "  </thead>\n",
       "  <tbody>\n",
       "    <tr>\n",
       "      <th>0</th>\n",
       "      <td>HCC827Ctrl</td>\n",
       "      <td>FW1</td>\n",
       "      <td>Y:\\coskun-lab\\Thomas\\15_PLA\\data\\OCT Cell Cult...</td>\n",
       "    </tr>\n",
       "    <tr>\n",
       "      <th>1</th>\n",
       "      <td>HCC827Ctrl</td>\n",
       "      <td>FW2</td>\n",
       "      <td>Y:\\coskun-lab\\Thomas\\15_PLA\\data\\OCT Cell Cult...</td>\n",
       "    </tr>\n",
       "    <tr>\n",
       "      <th>2</th>\n",
       "      <td>HCC827Osim</td>\n",
       "      <td>FW1</td>\n",
       "      <td>Y:\\coskun-lab\\Thomas\\15_PLA\\data\\OCT Cell Cult...</td>\n",
       "    </tr>\n",
       "    <tr>\n",
       "      <th>3</th>\n",
       "      <td>HCC827Osim</td>\n",
       "      <td>FW2</td>\n",
       "      <td>Y:\\coskun-lab\\Thomas\\15_PLA\\data\\OCT Cell Cult...</td>\n",
       "    </tr>\n",
       "  </tbody>\n",
       "</table>\n",
       "</div>"
      ],
      "text/plain": [
       "    Timepoint  FOV                                               Path\n",
       "0  HCC827Ctrl  FW1  Y:\\coskun-lab\\Thomas\\15_PLA\\data\\OCT Cell Cult...\n",
       "1  HCC827Ctrl  FW2  Y:\\coskun-lab\\Thomas\\15_PLA\\data\\OCT Cell Cult...\n",
       "2  HCC827Osim  FW1  Y:\\coskun-lab\\Thomas\\15_PLA\\data\\OCT Cell Cult...\n",
       "3  HCC827Osim  FW2  Y:\\coskun-lab\\Thomas\\15_PLA\\data\\OCT Cell Cult..."
      ]
     },
     "execution_count": 7,
     "metadata": {},
     "output_type": "execute_result"
    }
   ],
   "source": [
    "df_imgs"
   ]
  },
  {
   "cell_type": "code",
   "execution_count": 8,
   "id": "fae09714-774a-41de-abbd-7f58b7ae2988",
   "metadata": {},
   "outputs": [],
   "source": [
    "path = df_imgs.iloc[0].Path"
   ]
  },
  {
   "cell_type": "code",
   "execution_count": 9,
   "id": "8766bc14-6c04-428b-a037-2d466ba25ce5",
   "metadata": {},
   "outputs": [],
   "source": [
    "with h5py.File(path, \"r\") as f:\n",
    "    imgs = f['imgs'][:]\n",
    "    markers = f['imgs'].attrs['Marker']"
   ]
  },
  {
   "cell_type": "code",
   "execution_count": 10,
   "id": "3e0c640e-f5d6-42da-8494-458697f940a8",
   "metadata": {},
   "outputs": [
    {
     "name": "stderr",
     "output_type": "stream",
     "text": [
      "WARNING: QWindowsWindow::setGeometry: Unable to set geometry 1421x1113+580+303 (frame: 1437x1152+572+272) on QWidgetWindow/\"_QtMainWindowClassWindow\" on \"\\\\.\\DISPLAY241\". Resulting geometry: 1421x1106+580+303 (frame: 1437x1145+572+272) margins: 8, 31, 8, 8 minimum size: 612x557 MINMAXINFO maxSize=0,0 maxpos=0,0 mintrack=628,596 maxtrack=0,0)\n"
     ]
    },
    {
     "data": {
      "text/plain": [
       "Viewer(axes=Axes(visible=False, labels=True, colored=True, dashed=False, arrows=True), camera=Camera(center=(0.0, 1721.5, 4303.5), zoom=0.12437848513011153, angles=(0.0, 0.0, 90.0), perspective=0, interactive=True), cursor=Cursor(position=(1, 1), scaled=True, size=1, style=<CursorStyle.STANDARD: 'standard'>), dims=Dims(ndim=2, ndisplay=2, last_used=0, range=((0.0, 3444.0, 1.0), (0.0, 8608.0, 1.0)), current_step=(1722, 4304), order=(0, 1), axis_labels=('0', '1')), grid=GridCanvas(stride=1, shape=(-1, -1), enabled=False), layers=[<Image layer 'Hoeschst' at 0x1e37019fa90>, <Image layer 'TEAD1 & YAP1' at 0x1e365e13100>, <Image layer 'Hoeschst [1]' at 0x1e370da9130>, <Image layer 'CylinE & CDK2' at 0x1e373d356d0>, <Image layer 'Hoeschst [2]' at 0x1e373dd1bb0>, <Image layer 'P-ERK & c-MYC' at 0x1e373e770d0>, <Image layer 'Hoeschst [3]' at 0x1e373f125b0>, <Image layer 'p-AKT & mTOR' at 0x1e373fada90>, <Image layer 'Hoeschst [4]' at 0x1e375021070>, <Image layer 'Mcl-1 & BAK' at 0x1e3750bd040>, <Image layer 'Hoeschst [5]' at 0x1e37515b550>, <Image layer 'p-EGFR' at 0x1e3751fbaf0>, <Image layer 'Phalloidin' at 0x1e3752a0040>, <Image layer 'Tom20' at 0x1e37533f460>, <Image layer 'Hoeschst [6]' at 0x1e3753dc940>, <Image layer 'Pan-cytokeratin' at 0x1e37547ae20>, <Image layer 'Golph4' at 0x1e375521340>, <Image layer 'Ki67' at 0x1e3755bf850>, <Image layer 'Hoeschst [7]' at 0x1e37565dd30>, <Image layer 'NBD-C6' at 0x1e375704280>, <Image layer 'COX IV' at 0x1e3757a1790>, <Image layer 'Hoeschst [8]' at 0x1e37583ec70>, <Image layer 'Concanavalin A' at 0x1e3758e8190>, <Image layer 'WGA' at 0x1e3759846a0>], scale_bar=ScaleBar(visible=False, colored=False, ticks=True, position=<Position.BOTTOM_RIGHT: 'bottom_right'>, font_size=10, unit=None), text_overlay=TextOverlay(visible=False, color=(0.5, 0.5, 0.5, 1.0), font_size=10, position=<TextOverlayPosition.TOP_LEFT: 'top_left'>, text=''), overlays=Overlays(interaction_box=InteractionBox(points=None, show=False, show_handle=False, show_vertices=False, selection_box_drag=None, selection_box_final=None, transform_start=<napari.utils.transforms.transforms.Affine object at 0x000001E365862A90>, transform_drag=<napari.utils.transforms.transforms.Affine object at 0x000001E365862CA0>, transform_final=<napari.utils.transforms.transforms.Affine object at 0x000001E365862FD0>, transform=<napari.utils.transforms.transforms.Affine object at 0x000001E36588D070>, allow_new_selection=True, selected_vertex=None)), help='', status='Ready', tooltip=Tooltip(visible=False, text=''), theme='dark', title='napari', mouse_move_callbacks=[<function InteractionBoxMouseBindings.initialize_mouse_events.<locals>.mouse_move at 0x000001E36FF3E310>], mouse_drag_callbacks=[<function InteractionBoxMouseBindings.initialize_mouse_events.<locals>.mouse_drag at 0x000001E36FF27790>], mouse_double_click_callbacks=[], mouse_wheel_callbacks=[<function dims_scroll at 0x000001E36580A430>], _persisted_mouse_event={}, _mouse_drag_gen={}, _mouse_wheel_gen={}, keymap={'Shift': <function InteractionBoxMouseBindings.initialize_key_events.<locals>.hold_to_lock_aspect_ratio at 0x000001E36FF27CA0>, 'Control-Shift-R': <function InteractionBoxMouseBindings._reset_active_layer_affine at 0x000001E36F88D820>, 'Control-Shift-A': <function InteractionBoxMouseBindings._transform_active_layer at 0x000001E36F88D940>})"
      ]
     },
     "execution_count": 10,
     "metadata": {},
     "output_type": "execute_result"
    }
   ],
   "source": [
    "import napari\n",
    "\n",
    "napari.view_image(imgs, channel_axis=0, name=markers, visible=False, contrast_limits=[0,1])"
   ]
  },
  {
   "cell_type": "code",
   "execution_count": null,
   "id": "28cfb77d-bcb1-40d8-bcf8-1db729843c4c",
   "metadata": {},
   "outputs": [],
   "source": []
  }
 ],
 "metadata": {
  "kernelspec": {
   "display_name": "Python [conda env:PLA]",
   "language": "python",
   "name": "conda-env-PLA-py"
  },
  "language_info": {
   "codemirror_mode": {
    "name": "ipython",
    "version": 3
   },
   "file_extension": ".py",
   "mimetype": "text/x-python",
   "name": "python",
   "nbconvert_exporter": "python",
   "pygments_lexer": "ipython3",
   "version": "3.9.16"
  }
 },
 "nbformat": 4,
 "nbformat_minor": 5
}
