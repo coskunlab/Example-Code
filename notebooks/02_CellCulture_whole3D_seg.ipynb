{
 "cells": [
  {
   "cell_type": "code",
   "execution_count": 1,
   "id": "9264e2c8-ed2c-452c-a646-d138ee37f493",
   "metadata": {
    "tags": []
   },
   "outputs": [],
   "source": [
    "import itertools\n",
    "import os\n",
    "import sys\n",
    "from pathlib import Path\n",
    "\n",
    "import cv2\n",
    "import matplotlib.pyplot as plt\n",
    "import numpy as np\n",
    "import pandas as pd\n",
    "import skimage.io\n",
    "\n",
    "from collections import defaultdict\n",
    "from tqdm.auto import tqdm\n",
    "from joblib import Parallel, delayed\n",
    "import re\n",
    "import h5py\n",
    "import napari\n",
    "import glob\n",
    "import natsort\n",
    "import tifffile as tiff\n"
   ]
  },
  {
   "cell_type": "code",
   "execution_count": 2,
   "id": "693fb5d2-5a0e-4636-8f28-cbaaaf8d3361",
   "metadata": {},
   "outputs": [],
   "source": [
    "%load_ext autoreload\n",
    "%autoreload 2"
   ]
  },
  {
   "cell_type": "code",
   "execution_count": 3,
   "id": "29cc01a4-f6bf-416c-8373-cb298a295923",
   "metadata": {},
   "outputs": [],
   "source": [
    "data_dir = (Path().cwd().parents[0] / 'data').absolute()\n",
    "data_raw = r'Y:\\coskun-lab\\Shuangyi\\ERK, YAP project_2022\\PLA\\HCC827 cell culture'\n"
   ]
  },
  {
   "cell_type": "markdown",
   "id": "f0f10740-e213-4324-917c-0808d2de9b57",
   "metadata": {
    "tags": []
   },
   "source": [
    "# 3D segmentation"
   ]
  },
  {
   "cell_type": "code",
   "execution_count": 30,
   "id": "862afc69-1205-4c2a-a4ec-75c3755cd232",
   "metadata": {},
   "outputs": [],
   "source": [
    "from natsort import natsorted\n",
    "import tifffile as tiff\n",
    "\n",
    "def make_imgs_same_dim(imgs):\n",
    "    # Get max dimensions\n",
    "    shapes = np.array([img.shape[1:] for img in imgs])\n",
    "    min_x, min_y = shapes.min(axis=0)\n",
    "        \n",
    "    return [img[:, :min_x, :min_y] for img in imgs]"
   ]
  },
  {
   "cell_type": "code",
   "execution_count": 5,
   "id": "51d07cd3-888f-4d32-aa7c-aa30d61dc1ba",
   "metadata": {},
   "outputs": [],
   "source": [
    "df_imgs_path = data_dir / 'OCT Cell Culture' / '3D_Whole' /  'metadata' / 'imgs_sti.csv'\n",
    "df_imgs = pd.read_csv(df_imgs_path)\n",
    "\n",
    "whole_seg_path = data_dir / 'OCT Cell Culture' / '3D_Whole' / 'imgs' / 'segmentation'\n",
    "mask_path = data_dir / 'OCT Cell Culture' / '3D_Whole' / 'imgs' / 'masks_3D'\n",
    "mask_path .mkdir(parents=True, exist_ok=True)"
   ]
  },
  {
   "cell_type": "code",
   "execution_count": 6,
   "id": "848ff650-44f6-4758-9b3f-aadae719c842",
   "metadata": {},
   "outputs": [
    {
     "name": "stdout",
     "output_type": "stream",
     "text": [
      ">>> GPU activated? YES\n"
     ]
    }
   ],
   "source": [
    "from cellpose import core, utils, io, models, metrics\n",
    "use_GPU = core.use_gpu()\n",
    "yn = ['NO', 'YES']\n",
    "print(f'>>> GPU activated? {yn[use_GPU]}')\n"
   ]
  },
  {
   "cell_type": "code",
   "execution_count": 7,
   "id": "f3f57c8b-150e-4b87-b27a-c6ab9ab8557c",
   "metadata": {},
   "outputs": [],
   "source": [
    "group = df_imgs.groupby(['Timepoint', 'FOV'])\n",
    "n_limit = 5\n",
    "\n",
    "for name, df_group in group:\n",
    "    exp = '_'.join(name)\n",
    "    f_names = glob.glob(str(whole_seg_path)+f'\\\\{exp}*')\n",
    "    f_names = natsorted(f_names)\n",
    "    \n",
    "    # Read imgs\n",
    "    imgs = [skimage.io.imread(f).transpose(2, 0, 1) for f in f_names]\n",
    "    imgs = np.stack(make_imgs_same_dim(imgs))\n",
    "    imgs_middle = imgs[n_limit:-n_limit]\n",
    "    \n",
    "    # declare model\n",
    "    model = models.CellposeModel(gpu=True, model_type='CP')\n",
    "\n",
    "    # run model on test images\n",
    "    masks, flows, styles = model.eval(imgs_middle, \n",
    "                                  channels=[2,3],\n",
    "                                  diameter=180,\n",
    "                                  flow_threshold=0.5,\n",
    "                                  cellprob_threshold=-3,\n",
    "                                  do_3D=True,\n",
    "                                  anisotropy= 2.1, \n",
    "                                  )\n",
    "    \n",
    "    file_path = mask_path / f'{exp}.tif'\n",
    "    tiff.imwrite(file_path, masks)\n",
    "    \n",
    "    # declare model\n",
    "    model = models.CellposeModel(gpu=True, model_type='nuclei')\n",
    "    # run model on test images\n",
    "    masks, flows, styles = model.eval(imgs_middle, \n",
    "                                  channels=[3,0],\n",
    "                                  diameter=100,\n",
    "                                  flow_threshold=0.5,\n",
    "                                  do_3D=True,\n",
    "                                  anisotropy= 2.1, \n",
    "                                  )\n",
    "    \n",
    "    file_path = mask_path / f'Nuclei_{exp}.tif'\n",
    "    tiff.imwrite(file_path, masks)"
   ]
  },
  {
   "cell_type": "markdown",
   "id": "da77f33a-660f-470e-9c50-238395b9ebbb",
   "metadata": {
    "jp-MarkdownHeadingCollapsed": true,
    "tags": []
   },
   "source": [
    "# Extract cell info"
   ]
  },
  {
   "cell_type": "code",
   "execution_count": null,
   "id": "ae8791d3-fc09-4628-b23a-d21a03e8d1ca",
   "metadata": {},
   "outputs": [],
   "source": [
    "from skimage import morphology, measure\n",
    "from skimage.segmentation import clear_border\n",
    "    \n",
    "def count_pixel_label_mask(regionmask, intensity_image):\n",
    "    v,c = np.unique(intensity_image[regionmask], return_counts=True)\n",
    "    return dict(zip(v,c))\n",
    "    \n",
    "# Quality control of mask\n",
    "def qc_nuclei(mask_cyto, mask_nuclei, small_size=100000):\n",
    "    '''\n",
    "    Function to check if cell masks contain nuclei\n",
    "    '''\n",
    "    # Dictionnary storing nuclei and cyto label to cell id \n",
    "    nuclei2cell = {}\n",
    "    cyto2cell = {}\n",
    "    \n",
    "    # Filter out small objects\n",
    "    mask_cyto = morphology.remove_small_objects(mask_cyto,  min_size=small_size)    \n",
    "    \n",
    "    # Filter out mask touching border\n",
    "    segmented_padded = np.pad(\n",
    "        mask_cyto,\n",
    "        ((1, 1), (0, 0), (0, 0)),\n",
    "        mode='constant',\n",
    "        constant_values=0,\n",
    "    )\n",
    "    mask_cyto = clear_border(segmented_padded)[1:-1]\n",
    "    \n",
    "    # Filtered only cell mask region\n",
    "    cell_mask = np.where(mask_cyto > 0, 1, 0)\n",
    "    mask_nuclei_filtered = mask_nuclei * cell_mask\n",
    "    mask_nuclei_filtered =  morphology.remove_small_objects(mask_nuclei_filtered,  min_size=small_size//4)\n",
    "    \n",
    "    nuclei_mask = np.where(mask_nuclei>0, 1, 0)\n",
    "    cyto = (mask_cyto - mask_cyto*nuclei_mask).astype(np.uint16)\n",
    "    \n",
    "    # Count pixel cell label in each nuclei region to assign each nuclei to cell\n",
    "    props = measure.regionprops(mask_nuclei_filtered, intensity_image=mask_cyto, \n",
    "                    extra_properties=(count_pixel_label_mask,))\n",
    "    nuclei_labels = []\n",
    "    cell_labels = []\n",
    "    for prop in props:\n",
    "        df = pd.DataFrame.from_dict(prop['count_pixel_label_mask'], orient='index').reset_index()\n",
    "        df.columns = ['Label', 'Count']\n",
    "        corresponding_label = df.iloc[df['Count'].argmax(axis=0)]['Label']\n",
    "        nuclei_labels.append(prop['Label'])\n",
    "        cell_labels.append(corresponding_label)\n",
    "    \n",
    "    df = pd.DataFrame({'Nuclei': nuclei_labels, 'Cyto': cell_labels})\n",
    "    return mask_cyto, mask_nuclei_filtered, cyto, df"
   ]
  },
  {
   "cell_type": "code",
   "execution_count": null,
   "id": "8503d785-bdf9-4b2d-b822-ac743c335924",
   "metadata": {},
   "outputs": [],
   "source": [
    "from collections import defaultdict\n",
    "\n",
    "data_dir = (Path().cwd().parents[0] / 'data').absolute()\n",
    "\n",
    "# Get image dataframe \n",
    "df_imgs_path = data_dir / 'OCT Cell Culture' / '3D_Whole' / 'metadata' / 'imgs_sti.csv'\n",
    "df_imgs = pd.read_csv(df_imgs_path)\n"
   ]
  },
  {
   "cell_type": "code",
   "execution_count": null,
   "id": "963604ab-c39e-4cff-85f6-9e8d67d9a213",
   "metadata": {},
   "outputs": [],
   "source": [
    "# Read masks paths \n",
    "mask_dir = data_dir / 'OCT Cell Culture' / '3D_Whole' / 'imgs' / 'masks_3D'\n",
    "mask_filt_dir = data_dir / 'OCT Cell Culture' / '3D_Whole' / 'imgs' / 'masks_3D_filtered'\n",
    "mask_filt_dir .mkdir(parents=True, exist_ok=True)\n",
    "\n",
    "masks_path = defaultdict(dict) \n",
    "for path in os.listdir(mask_dir):\n",
    "    name = path.split('.')[0]\n",
    "    if 'Nuclei' in name:\n",
    "        masks_path[name[7:]]['nuclei'] = mask_dir / path\n",
    "    else:\n",
    "        masks_path[name]['cyto'] = mask_dir / path"
   ]
  },
  {
   "cell_type": "code",
   "execution_count": null,
   "id": "bf71a837-d54e-4703-9269-5e7ba524c4d3",
   "metadata": {},
   "outputs": [],
   "source": [
    "group = df_imgs.groupby(['Timepoint', 'FOV'])\n",
    "\n",
    "for name, df_group in group:\n",
    "    name = '_'.join(name)\n",
    "    \n",
    "    # Read masks\n",
    "    mask_cyto_path = masks_path[name]['cyto']\n",
    "    mask_nuclei_path = masks_path[name]['nuclei']\n",
    "    \n",
    "    mask_cyto = skimage.io.imread(mask_cyto_path)\n",
    "    mask_nuclei = skimage.io.imread(mask_nuclei_path)\n",
    "    \n",
    "    cell, nuclei, cyto, df = qc_nuclei(mask_cyto, mask_nuclei)\n",
    "    \n",
    "    file_path =  mask_filt_dir / f'Nuclei_{name}.tif'\n",
    "    tiff.imwrite(file_path, nuclei)\n",
    "    file_path =  mask_filt_dir / f'Cell_{name}.tif'\n",
    "    tiff.imwrite(file_path, cell)\n",
    "    file_path =  mask_filt_dir / f'Cyto_{name}.tif'\n",
    "    tiff.imwrite(file_path, cyto)\n",
    "    file_path =  mask_filt_dir / f'df_{name}.csv'\n",
    "    df.to_csv(file_path, index=False)\n"
   ]
  },
  {
   "cell_type": "code",
   "execution_count": 83,
   "id": "5f324335-1e09-4d74-b78a-35cd18978dc1",
   "metadata": {},
   "outputs": [],
   "source": [
    "# import napari \n",
    "\n",
    "# viewer = napari.view_labels(cell)\n",
    "# viewer.add_labels(nuclei)"
   ]
  },
  {
   "cell_type": "markdown",
   "id": "47b7d605-95fd-4fa7-ad1e-05dd7836367b",
   "metadata": {
    "jp-MarkdownHeadingCollapsed": true,
    "tags": []
   },
   "source": [
    "# Extract cell contours"
   ]
  },
  {
   "cell_type": "code",
   "execution_count": 4,
   "id": "2ccb47ed-2303-498a-90f0-8cdebdb35c77",
   "metadata": {},
   "outputs": [],
   "source": [
    "from skimage import measure\n",
    "import cv2 \n",
    "\n",
    "def get_contours_mask(mask):\n",
    "    contours = []\n",
    "    labels = []\n",
    "    for l in tqdm(np.unique(mask)):\n",
    "        if l == 0:\n",
    "            continue\n",
    "        contours.append(measure.find_contours((mask==l).astype(np.uint8), 0.8))\n",
    "        labels.append(l)\n",
    "    return contours, labels\n",
    "\n",
    "def replace_with_dict2(ar, dic):\n",
    "    # Extract out keys and values\n",
    "    k = np.array(list(dic.keys()))\n",
    "    v = np.array(list(dic.values()))\n",
    "\n",
    "    # Get argsort indices\n",
    "    sidx = k.argsort()\n",
    "    \n",
    "    ks = k[sidx]\n",
    "    vs = v[sidx]\n",
    "    return vs[np.searchsorted(ks,ar)]"
   ]
  },
  {
   "cell_type": "code",
   "execution_count": 5,
   "id": "8732b3e3-ddd5-446d-bd14-fa23c7aeff40",
   "metadata": {},
   "outputs": [],
   "source": [
    "mask_filt_dir = data_dir / 'OCT Cell Culture' / '3D_Whole' / 'imgs' / 'masks_3D_filtered'\n",
    "\n",
    "masks_path = defaultdict(dict) \n",
    "for path in os.listdir(mask_filt_dir):\n",
    "    name = path.split('.')[0]\n",
    "    if 'Nuclei' in name:\n",
    "        masks_path[name[7:]]['nuclei'] = mask_filt_dir / path\n",
    "    elif 'Cyto' in name:\n",
    "        masks_path[name[5:]]['cyto'] =mask_filt_dir / path\n",
    "    elif 'Cell' in name:\n",
    "        masks_path[name[5:]]['cell'] =mask_filt_dir / path    \n",
    "    elif 'df' in name:\n",
    "        masks_path[name[3:]]['df'] =mask_filt_dir / path\n",
    "    else:\n",
    "        pass"
   ]
  },
  {
   "cell_type": "code",
   "execution_count": 6,
   "id": "2dec8515-3d03-4d60-9f31-6f17d2729ea4",
   "metadata": {},
   "outputs": [],
   "source": [
    "from collections import defaultdict\n",
    "\n",
    "data_dir = (Path().cwd().parents[0] / 'data').absolute()\n",
    "\n",
    "# Get image dataframe \n",
    "df_imgs_path = data_dir / 'OCT Cell Culture' / '3D_Whole' / 'metadata' / 'imgs_sti.csv'\n",
    "df_imgs = pd.read_csv(df_imgs_path)\n"
   ]
  },
  {
   "cell_type": "code",
   "execution_count": 7,
   "id": "892e03dc-b21c-45b4-a4d5-2b19669b0eed",
   "metadata": {
    "collapsed": true,
    "jupyter": {
     "outputs_hidden": true
    },
    "tags": []
   },
   "outputs": [
    {
     "data": {
      "application/vnd.jupyter.widget-view+json": {
       "model_id": "d5e751a67b0c474eb01dddb4ca103726",
       "version_major": 2,
       "version_minor": 0
      },
      "text/plain": [
       "  0%|          | 0/730 [00:00<?, ?it/s]"
      ]
     },
     "metadata": {},
     "output_type": "display_data"
    },
    {
     "data": {
      "application/vnd.jupyter.widget-view+json": {
       "model_id": "17196bcc7a3f431998001c8d20412198",
       "version_major": 2,
       "version_minor": 0
      },
      "text/plain": [
       "  0%|          | 0/675 [00:00<?, ?it/s]"
      ]
     },
     "metadata": {},
     "output_type": "display_data"
    },
    {
     "data": {
      "application/vnd.jupyter.widget-view+json": {
       "model_id": "d6c607382c2e42cdb6f73cb5c5031c43",
       "version_major": 2,
       "version_minor": 0
      },
      "text/plain": [
       "  0%|          | 0/727 [00:00<?, ?it/s]"
      ]
     },
     "metadata": {},
     "output_type": "display_data"
    },
    {
     "data": {
      "application/vnd.jupyter.widget-view+json": {
       "model_id": "657ce229ac1c40988123fc415ff106cd",
       "version_major": 2,
       "version_minor": 0
      },
      "text/plain": [
       "  0%|          | 0/675 [00:00<?, ?it/s]"
      ]
     },
     "metadata": {},
     "output_type": "display_data"
    },
    {
     "data": {
      "application/vnd.jupyter.widget-view+json": {
       "model_id": "12dee0382a72488184f0901af68ca276",
       "version_major": 2,
       "version_minor": 0
      },
      "text/plain": [
       "  0%|          | 0/727 [00:00<?, ?it/s]"
      ]
     },
     "metadata": {},
     "output_type": "display_data"
    },
    {
     "data": {
      "application/vnd.jupyter.widget-view+json": {
       "model_id": "e4746c97720843a780471a7d436c24a9",
       "version_major": 2,
       "version_minor": 0
      },
      "text/plain": [
       "  0%|          | 0/675 [00:00<?, ?it/s]"
      ]
     },
     "metadata": {},
     "output_type": "display_data"
    },
    {
     "data": {
      "application/vnd.jupyter.widget-view+json": {
       "model_id": "34d5c9da57df49bf9073e6f62e5fcde9",
       "version_major": 2,
       "version_minor": 0
      },
      "text/plain": [
       "  0%|          | 0/731 [00:00<?, ?it/s]"
      ]
     },
     "metadata": {},
     "output_type": "display_data"
    },
    {
     "data": {
      "application/vnd.jupyter.widget-view+json": {
       "model_id": "c2f735fc73904caa8873e4c7f55bc60a",
       "version_major": 2,
       "version_minor": 0
      },
      "text/plain": [
       "  0%|          | 0/675 [00:00<?, ?it/s]"
      ]
     },
     "metadata": {},
     "output_type": "display_data"
    },
    {
     "data": {
      "application/vnd.jupyter.widget-view+json": {
       "model_id": "79564598d9ff4263a3604b37fd90d52b",
       "version_major": 2,
       "version_minor": 0
      },
      "text/plain": [
       "  0%|          | 0/732 [00:00<?, ?it/s]"
      ]
     },
     "metadata": {},
     "output_type": "display_data"
    },
    {
     "data": {
      "application/vnd.jupyter.widget-view+json": {
       "model_id": "65ae64d58ee0456e836c98d8fcce544c",
       "version_major": 2,
       "version_minor": 0
      },
      "text/plain": [
       "  0%|          | 0/675 [00:00<?, ?it/s]"
      ]
     },
     "metadata": {},
     "output_type": "display_data"
    },
    {
     "data": {
      "application/vnd.jupyter.widget-view+json": {
       "model_id": "95d9aff286394310b75e077444148d6c",
       "version_major": 2,
       "version_minor": 0
      },
      "text/plain": [
       "  0%|          | 0/730 [00:00<?, ?it/s]"
      ]
     },
     "metadata": {},
     "output_type": "display_data"
    },
    {
     "data": {
      "application/vnd.jupyter.widget-view+json": {
       "model_id": "4d827e0afdca423792b82b5fd30cfffa",
       "version_major": 2,
       "version_minor": 0
      },
      "text/plain": [
       "  0%|          | 0/675 [00:00<?, ?it/s]"
      ]
     },
     "metadata": {},
     "output_type": "display_data"
    },
    {
     "data": {
      "application/vnd.jupyter.widget-view+json": {
       "model_id": "b6398cb00fbf4a84984760dc4c03345f",
       "version_major": 2,
       "version_minor": 0
      },
      "text/plain": [
       "  0%|          | 0/726 [00:00<?, ?it/s]"
      ]
     },
     "metadata": {},
     "output_type": "display_data"
    },
    {
     "data": {
      "application/vnd.jupyter.widget-view+json": {
       "model_id": "a3e9ce249909429ab7d2325dabaebdad",
       "version_major": 2,
       "version_minor": 0
      },
      "text/plain": [
       "  0%|          | 0/675 [00:00<?, ?it/s]"
      ]
     },
     "metadata": {},
     "output_type": "display_data"
    },
    {
     "data": {
      "application/vnd.jupyter.widget-view+json": {
       "model_id": "aed796dd0c484d22b1fee29a536600dd",
       "version_major": 2,
       "version_minor": 0
      },
      "text/plain": [
       "  0%|          | 0/727 [00:00<?, ?it/s]"
      ]
     },
     "metadata": {},
     "output_type": "display_data"
    },
    {
     "data": {
      "application/vnd.jupyter.widget-view+json": {
       "model_id": "eb9ea0dcfab544b589b404920a77535e",
       "version_major": 2,
       "version_minor": 0
      },
      "text/plain": [
       "  0%|          | 0/675 [00:00<?, ?it/s]"
      ]
     },
     "metadata": {},
     "output_type": "display_data"
    },
    {
     "data": {
      "application/vnd.jupyter.widget-view+json": {
       "model_id": "dee3dd7d6b2e4858b8f6b57a1d7c6114",
       "version_major": 2,
       "version_minor": 0
      },
      "text/plain": [
       "  0%|          | 0/730 [00:00<?, ?it/s]"
      ]
     },
     "metadata": {},
     "output_type": "display_data"
    },
    {
     "data": {
      "application/vnd.jupyter.widget-view+json": {
       "model_id": "07b200fb94264494b796b1739a16508e",
       "version_major": 2,
       "version_minor": 0
      },
      "text/plain": [
       "  0%|          | 0/675 [00:00<?, ?it/s]"
      ]
     },
     "metadata": {},
     "output_type": "display_data"
    },
    {
     "data": {
      "application/vnd.jupyter.widget-view+json": {
       "model_id": "af46ca2f2d954dce8a3311c3ad08c3c7",
       "version_major": 2,
       "version_minor": 0
      },
      "text/plain": [
       "  0%|          | 0/724 [00:00<?, ?it/s]"
      ]
     },
     "metadata": {},
     "output_type": "display_data"
    },
    {
     "data": {
      "application/vnd.jupyter.widget-view+json": {
       "model_id": "df3d1680734644de96d7b544806b9d0b",
       "version_major": 2,
       "version_minor": 0
      },
      "text/plain": [
       "  0%|          | 0/675 [00:00<?, ?it/s]"
      ]
     },
     "metadata": {},
     "output_type": "display_data"
    },
    {
     "data": {
      "application/vnd.jupyter.widget-view+json": {
       "model_id": "319e4ac61286427896e27c6283817e90",
       "version_major": 2,
       "version_minor": 0
      },
      "text/plain": [
       "  0%|          | 0/728 [00:00<?, ?it/s]"
      ]
     },
     "metadata": {},
     "output_type": "display_data"
    },
    {
     "data": {
      "application/vnd.jupyter.widget-view+json": {
       "model_id": "8491294edacd44008abc6e33baf72aad",
       "version_major": 2,
       "version_minor": 0
      },
      "text/plain": [
       "  0%|          | 0/675 [00:00<?, ?it/s]"
      ]
     },
     "metadata": {},
     "output_type": "display_data"
    },
    {
     "data": {
      "application/vnd.jupyter.widget-view+json": {
       "model_id": "b8f476710dde48369afb9d691688a932",
       "version_major": 2,
       "version_minor": 0
      },
      "text/plain": [
       "  0%|          | 0/730 [00:00<?, ?it/s]"
      ]
     },
     "metadata": {},
     "output_type": "display_data"
    },
    {
     "data": {
      "application/vnd.jupyter.widget-view+json": {
       "model_id": "18e2545da6564bb790216c9f939e9df5",
       "version_major": 2,
       "version_minor": 0
      },
      "text/plain": [
       "  0%|          | 0/675 [00:00<?, ?it/s]"
      ]
     },
     "metadata": {},
     "output_type": "display_data"
    },
    {
     "data": {
      "application/vnd.jupyter.widget-view+json": {
       "model_id": "02333f47c4174188a05655aeefce52bf",
       "version_major": 2,
       "version_minor": 0
      },
      "text/plain": [
       "  0%|          | 0/728 [00:00<?, ?it/s]"
      ]
     },
     "metadata": {},
     "output_type": "display_data"
    },
    {
     "data": {
      "application/vnd.jupyter.widget-view+json": {
       "model_id": "62f4f0c664b64d0da3359ac660c78e6e",
       "version_major": 2,
       "version_minor": 0
      },
      "text/plain": [
       "  0%|          | 0/675 [00:00<?, ?it/s]"
      ]
     },
     "metadata": {},
     "output_type": "display_data"
    },
    {
     "data": {
      "application/vnd.jupyter.widget-view+json": {
       "model_id": "78c9a1d3bbba42a2a3b6a74dcd7a7e36",
       "version_major": 2,
       "version_minor": 0
      },
      "text/plain": [
       "  0%|          | 0/727 [00:00<?, ?it/s]"
      ]
     },
     "metadata": {},
     "output_type": "display_data"
    },
    {
     "data": {
      "application/vnd.jupyter.widget-view+json": {
       "model_id": "8c2707a4fb0b40078bf336590c622fd5",
       "version_major": 2,
       "version_minor": 0
      },
      "text/plain": [
       "  0%|          | 0/675 [00:00<?, ?it/s]"
      ]
     },
     "metadata": {},
     "output_type": "display_data"
    },
    {
     "data": {
      "application/vnd.jupyter.widget-view+json": {
       "model_id": "9727a8e2f514434184a49efe30f189ed",
       "version_major": 2,
       "version_minor": 0
      },
      "text/plain": [
       "  0%|          | 0/727 [00:00<?, ?it/s]"
      ]
     },
     "metadata": {},
     "output_type": "display_data"
    },
    {
     "data": {
      "application/vnd.jupyter.widget-view+json": {
       "model_id": "717bd6e01e784781897a256a2222e3eb",
       "version_major": 2,
       "version_minor": 0
      },
      "text/plain": [
       "  0%|          | 0/675 [00:00<?, ?it/s]"
      ]
     },
     "metadata": {},
     "output_type": "display_data"
    },
    {
     "data": {
      "application/vnd.jupyter.widget-view+json": {
       "model_id": "57c9106c633746f2b51897f77e6eaa95",
       "version_major": 2,
       "version_minor": 0
      },
      "text/plain": [
       "  0%|          | 0/730 [00:00<?, ?it/s]"
      ]
     },
     "metadata": {},
     "output_type": "display_data"
    },
    {
     "data": {
      "application/vnd.jupyter.widget-view+json": {
       "model_id": "e7372da6ca764ea9be181c15153cfff7",
       "version_major": 2,
       "version_minor": 0
      },
      "text/plain": [
       "  0%|          | 0/675 [00:00<?, ?it/s]"
      ]
     },
     "metadata": {},
     "output_type": "display_data"
    },
    {
     "data": {
      "application/vnd.jupyter.widget-view+json": {
       "model_id": "17d3cf735c4c47419a731478ddb68793",
       "version_major": 2,
       "version_minor": 0
      },
      "text/plain": [
       "  0%|          | 0/725 [00:00<?, ?it/s]"
      ]
     },
     "metadata": {},
     "output_type": "display_data"
    },
    {
     "data": {
      "application/vnd.jupyter.widget-view+json": {
       "model_id": "26a050f0659a4e35a208797ffb169ca5",
       "version_major": 2,
       "version_minor": 0
      },
      "text/plain": [
       "  0%|          | 0/675 [00:00<?, ?it/s]"
      ]
     },
     "metadata": {},
     "output_type": "display_data"
    },
    {
     "data": {
      "application/vnd.jupyter.widget-view+json": {
       "model_id": "ee0b3fb12e2f4d9981cf5c344dfde03b",
       "version_major": 2,
       "version_minor": 0
      },
      "text/plain": [
       "  0%|          | 0/732 [00:00<?, ?it/s]"
      ]
     },
     "metadata": {},
     "output_type": "display_data"
    },
    {
     "data": {
      "application/vnd.jupyter.widget-view+json": {
       "model_id": "3c7a0de3cc6e422f834e9b29e4f8d07d",
       "version_major": 2,
       "version_minor": 0
      },
      "text/plain": [
       "  0%|          | 0/675 [00:00<?, ?it/s]"
      ]
     },
     "metadata": {},
     "output_type": "display_data"
    },
    {
     "ename": "NameError",
     "evalue": "name 'pickle' is not defined",
     "output_type": "error",
     "traceback": [
      "\u001b[1;31m---------------------------------------------------------------------------\u001b[0m",
      "\u001b[1;31mNameError\u001b[0m                                 Traceback (most recent call last)",
      "Cell \u001b[1;32mIn[7], line 30\u001b[0m\n\u001b[0;32m     28\u001b[0m save_path \u001b[38;5;241m=\u001b[39m contour_save_path \u001b[38;5;241m/\u001b[39m (name\u001b[38;5;241m+\u001b[39m\u001b[38;5;124m'\u001b[39m\u001b[38;5;124m.pkl\u001b[39m\u001b[38;5;124m'\u001b[39m)\n\u001b[0;32m     29\u001b[0m \u001b[38;5;28;01mwith\u001b[39;00m \u001b[38;5;28mopen\u001b[39m(save_path, \u001b[38;5;124m'\u001b[39m\u001b[38;5;124mwb\u001b[39m\u001b[38;5;124m'\u001b[39m) \u001b[38;5;28;01mas\u001b[39;00m f:\n\u001b[1;32m---> 30\u001b[0m     \u001b[43mpickle\u001b[49m\u001b[38;5;241m.\u001b[39mdump([contours_cyto, labels_cyto, contours_nuclei, labels_nuclei], \n\u001b[0;32m     31\u001b[0m                 f, protocol\u001b[38;5;241m=\u001b[39mpickle\u001b[38;5;241m.\u001b[39mHIGHEST_PROTOCOL)    \n",
      "\u001b[1;31mNameError\u001b[0m: name 'pickle' is not defined"
     ]
    }
   ],
   "source": [
    "contour_save_path =  data_dir / 'OCT Cell Culture' / '3D_Whole' / 'contours'\n",
    "contour_save_path.mkdir(parents=True, exist_ok=True)\n",
    "\n",
    "group = df_imgs.groupby(['Timepoint', 'FOV'])\n",
    "\n",
    "for name, df_group in group:\n",
    "    name = '_'.join(name)\n",
    "    # Read masks\n",
    "    mask_cyto_path = masks_path[name]['cell']\n",
    "    mask_nuclei_path = masks_path[name]['nuclei']\n",
    "    df_path =  masks_path[name]['df']\n",
    "    \n",
    "    mask_cyto = skimage.io.imread(mask_cyto_path)\n",
    "    mask_nuclei = skimage.io.imread(mask_nuclei_path)\n",
    "    df_cell_info = pd.read_csv(df_path)\n",
    "    nuclei2cell = dict(zip(df_cell_info.iloc[:,0], df_cell_info.iloc[:,1])) \n",
    "    nuclei2cell[0] = 0\n",
    "    replaced = replace_with_dict2(mask_nuclei, nuclei2cell)\n",
    "    \n",
    "    contours_dict = {}\n",
    "    for z in range(len(mask_cyto)):\n",
    "        # Extract contours\n",
    "        contours_cyto, labels_cyto = get_contours_mask(mask_cyto[z])\n",
    "        contours_nuclei, labels_nuclei = get_contours_mask(replaced[z])\n",
    "        contours_dict[z] = [contours_cyto, labels_cyto, contours_nuclei, labels_nuclei]\n",
    "    \n",
    "    # Save data\n",
    "    save_path = contour_save_path / (name+'.pkl')\n",
    "    with open(save_path, 'wb') as f:\n",
    "        pickle.dump([contours_cyto, labels_cyto, contours_nuclei, labels_nuclei], \n",
    "                    f, protocol=pickle.HIGHEST_PROTOCOL)    \n"
   ]
  },
  {
   "cell_type": "markdown",
   "id": "ff0fdfe9-dd1b-4fcc-b5a3-b9d3e5371ae0",
   "metadata": {
    "tags": []
   },
   "source": [
    "# 3D PPI"
   ]
  },
  {
   "cell_type": "code",
   "execution_count": 26,
   "id": "0530b463-7474-4606-acb1-8b83a81cffa3",
   "metadata": {},
   "outputs": [],
   "source": [
    "data_dir = (Path().cwd().parents[0] / 'data').absolute()\n",
    "\n",
    "df_meta_path = data_dir / 'OCT Cell Culture' / '3D_Whole' / 'metadata' / 'imgs_sti.csv'\n",
    "df_imgs = pd.read_csv(df_meta_path)"
   ]
  },
  {
   "cell_type": "code",
   "execution_count": 27,
   "id": "9a7634ba-024d-4b97-8795-a873e2d2598c",
   "metadata": {},
   "outputs": [],
   "source": [
    "import PLA\n",
    "\n",
    "PPI_save_path =  data_dir / 'OCT Cell Culture' / '3D_Whole'  / 'PPI'\n",
    "PPI_save_path.mkdir(parents=True, exist_ok=True)\n",
    "\n",
    "PPI_img_path = data_dir / 'OCT Cell Culture' / '3D_Whole'  / 'imgs' / 'imgs_PPI'"
   ]
  },
  {
   "cell_type": "code",
   "execution_count": null,
   "id": "984cda63-7ad0-4671-bb81-3ad66e0e2a69",
   "metadata": {
    "tags": []
   },
   "outputs": [],
   "source": [
    "PPI_names = ['TEAD1 & YAP1', 'CylinE & CDK2', 'P-ERK & c-MYC', 'p-AKT & mTOR', 'Mcl-1 & BAK']\n",
    "\n",
    "group = df_imgs.groupby(['Timepoint', 'FOV'])\n",
    "n_limit = 5\n",
    "\n",
    "for name, df_group in group:\n",
    "    df_group = df_group.sort_values(['Z'])\n",
    "    df_group = df_group.iloc[n_limit:-n_limit]\n",
    "    paths = df_group.Path.tolist()\n",
    "    \n",
    "    pla_detect = PLA.PLA_detection_3D(paths)\n",
    "    for PPI_pair in PPI_names: \n",
    "        img_spot, img_wth, spots_filtered, imgs = pla_detect.detect_spot(PPI_pair)\n",
    "        fname = '_'.join(name)+f'{PPI_pair}.tiff'\n",
    "        tiff.imwrite(PPI_img_path / fname, img_wth)\n",
    "        \n",
    "    # Save PPI dict\n",
    "    fname = '_'.join(name)+'.pkl'\n",
    "    pla_detect.save_pickle(PPI_save_path / fname)"
   ]
  },
  {
   "cell_type": "markdown",
   "id": "a7e60f1f-55e3-49ec-9220-0b304a283569",
   "metadata": {
    "tags": []
   },
   "source": [
    "# Extract count "
   ]
  },
  {
   "cell_type": "code",
   "execution_count": 4,
   "id": "de251554-dfd8-4fa7-96dd-146f9715415f",
   "metadata": {},
   "outputs": [],
   "source": [
    "import pickle \n",
    "from sklearn.neighbors import NearestNeighbors\n",
    "import networkx as nx\n",
    "import scipy \n",
    "\n",
    "def read_PPI(path):\n",
    "    with open(path, 'rb') as file:\n",
    "        PPI_dict = pickle.load(file)\n",
    "\n",
    "    return PPI_dict\n",
    "\n",
    "def get_NN_radius(data, r):\n",
    "    fit = NearestNeighbors(radius=r).fit(data)\n",
    "    m = fit.radius_neighbors(data, return_distance=True, sort_results=True)\n",
    "\n",
    "    # Put in dataframe format\n",
    "    neighbours = pd.DataFrame(m[1].tolist(), index = data.index)\n",
    "    \n",
    "    A = fit.radius_neighbors_graph(data)\n",
    "    return neighbours, A\n",
    "\n",
    "def plot_spot_on_image(spots, spacing, radius):\n",
    "    spot_img = np.zeros(spots.max(0))\n",
    "    coords = (spots[:, :3] / spacing).astype(int)\n",
    "    r = radius  # shorthand\n",
    "    for coord in coords:\n",
    "        slc = tuple(slice(x-r, x+r) if i != 0 else slice(x, x+1) for i, x in enumerate(coord) )\n",
    "        spot_img[slc] = 1\n",
    "    return spot_img\n",
    "\n",
    "def plot_label_on_image(spots, spacing, radius, labels):\n",
    "    spot_img = np.zeros(spots.max(0))\n",
    "    coords = (spots[:, :3] / spacing).astype(int)\n",
    "    r = radius  # shorthand\n",
    "    for i, coord in enumerate(coords):\n",
    "        slc = tuple(slice(x-r, x+r) if i != 0 else slice(x, x+1) for i, x in enumerate(coord) )\n",
    "        spot_img[slc] = labels[i]\n",
    "    return spot_img\n",
    "\n",
    "def create_PPI_df(df_loc_filtered, mask_cyto, mask_nuclei, name):\n",
    "    _, y_max, x_max = mask_cyto.shape\n",
    "    z, y, x = df_loc_filtered['z'].to_numpy(), df_loc_filtered['y'].to_numpy(), df_loc_filtered['x'].to_numpy()\n",
    "    y = np.clip(y, a_min=0, a_max=y_max-1)\n",
    "    x = np.clip(x, a_min=0, a_max=x_max-1)\n",
    "\n",
    "    labels = mask_cyto[z, y, x]\n",
    "    labels_nuclei = mask_nuclei[z, y, x].astype(np.uint8)\n",
    "    \n",
    "    df_per_cell = pd.DataFrame({'Cell': labels, 'Nuclei': labels_nuclei, 'z': z, 'y':y, 'x':x})\n",
    "    df_per_cell['PPI'] = name\n",
    "    return df_per_cell"
   ]
  },
  {
   "cell_type": "code",
   "execution_count": 5,
   "id": "cb250482-2c3e-48e9-bcbb-f7b155015fe1",
   "metadata": {},
   "outputs": [],
   "source": [
    "data_dir = (Path().cwd().parents[0] / 'data').absolute()\n",
    "\n",
    "df_meta_path = data_dir / 'OCT Cell Culture' / '3D_Whole' / 'metadata' / 'imgs_sti.csv'\n",
    "df_imgs = pd.read_csv(df_meta_path)\n",
    "\n",
    "PPI_save_path =  data_dir / 'OCT Cell Culture' / '3D_Whole'  / 'PPI'"
   ]
  },
  {
   "cell_type": "code",
   "execution_count": 6,
   "id": "dd4b92eb-c900-4911-bd4f-29d97f4c963a",
   "metadata": {},
   "outputs": [],
   "source": [
    "mask_filt_dir = data_dir / 'OCT Cell Culture' / '3D_Whole' / 'imgs' / 'masks_3D_filtered'\n",
    "\n",
    "masks_path = defaultdict(dict) \n",
    "for path in os.listdir(mask_filt_dir):\n",
    "    name = path.split('.')[0]\n",
    "    if 'Nuclei' in name:\n",
    "        masks_path[name[7:]]['nuclei'] = mask_filt_dir / path\n",
    "    elif 'Cyto' in name:\n",
    "        masks_path[name[5:]]['cyto'] =mask_filt_dir / path\n",
    "    elif 'Cell' in name:\n",
    "        masks_path[name[5:]]['cell'] =mask_filt_dir / path    \n",
    "    elif 'df' in name:\n",
    "        masks_path[name[3:]]['df'] =mask_filt_dir / path\n",
    "    else:\n",
    "        pass"
   ]
  },
  {
   "cell_type": "code",
   "execution_count": 10,
   "id": "7263985c-524c-4c85-a239-f3313f4b5c86",
   "metadata": {},
   "outputs": [],
   "source": [
    "PPI_save_path =  data_dir / 'OCT Cell Culture' / '3D_Whole' / 'PPI'\n",
    "group = df_imgs.groupby(['Timepoint', 'FOV'])\n",
    "\n",
    "for names, df_group in group:\n",
    "    name = '_'.join(names)\n",
    "    # Read PPi\n",
    "    PPI_dict = read_PPI(PPI_save_path / f'{name}.pkl')\n",
    "    \n",
    "    # Read mask\n",
    "    mask_cyto_path = masks_path[name]['cell']\n",
    "    mask_nuclei_path = masks_path[name]['nuclei']\n",
    "    df_path =  masks_path[name]['df']\n",
    "    \n",
    "    mask_cyto = skimage.io.imread(mask_cyto_path)\n",
    "    mask_nuclei = skimage.io.imread(mask_nuclei_path)\n",
    "    _, y_max, x_max = mask_cyto.shape\n",
    "\n",
    "    df_PPIs = []\n",
    "    for k in PPI_dict.keys():\n",
    "        PPI_loc = PPI_dict[k][:, :3].astype(np.uint32)\n",
    "        \n",
    "        # Get PPI loc in panda dataframe format\n",
    "        df_loc = pd.DataFrame(PPI_loc, columns=['z', 'y', 'x'])\n",
    "\n",
    "        # Get dot neighboring graph with user defined radius\n",
    "        nei, A = get_NN_radius(df_loc[['y', 'x']], r=2.5)\n",
    "\n",
    "        # Assign new labels based on connected components label\n",
    "        labels = scipy.sparse.csgraph.connected_components(A, directed=False)[1]\n",
    "        df_loc['CC_label'] = labels\n",
    "\n",
    "        # Group by CC and extract mean position\n",
    "        df_loc_filtered = df_loc.groupby(['CC_label']).mean().astype(np.uint32)\n",
    "        \n",
    "        # Extract Cell info per PPI\n",
    "        df_PPI = create_PPI_df(df_loc_filtered, mask_cyto, mask_nuclei, k)\n",
    "        df_PPIs.append(df_PPI)\n",
    "    df_PPI = pd.concat(df_PPIs)\n",
    "    df_PPI['Condition'] = names[0]\n",
    "    df_PPI['FOV'] = names[1]\n",
    "    \n",
    "    # Save dataframe\n",
    "    path = PPI_save_path / f'{name}.csv'\n",
    "    df_PPI.to_csv(path, index=False)"
   ]
  },
  {
   "cell_type": "code",
   "execution_count": 8,
   "id": "318309cb-5532-42e8-9440-b52e77dd31e3",
   "metadata": {},
   "outputs": [],
   "source": [
    "# img_spot = plot_label_on_image(df_loc_filtered.values, 1, 1, labels)\n",
    "# img_spot = img_spot.astype(np.uint16)"
   ]
  },
  {
   "cell_type": "code",
   "execution_count": 9,
   "id": "ba1fbba2-27e3-409b-8f5f-360cd75185a9",
   "metadata": {},
   "outputs": [],
   "source": [
    "# import napari\n",
    "\n",
    "# viewer = napari.view_labels(img_spot)\n",
    "# viewer.add_labels(mask_cyto)"
   ]
  },
  {
   "cell_type": "markdown",
   "id": "a2d315a7-1927-4e5d-b7bf-46baa126bd7f",
   "metadata": {},
   "source": [
    "# Generate PPI network"
   ]
  },
  {
   "cell_type": "code",
   "execution_count": 27,
   "id": "e0b48fb8-935e-44ab-a31a-01aab4c2817c",
   "metadata": {},
   "outputs": [],
   "source": [
    "from sklearn.preprocessing import OneHotEncoder\n",
    "import networkx as nx\n",
    "from sklearn import preprocessing\n",
    "import scipy \n",
    "from scipy.spatial import Delaunay\n",
    "import itertools\n",
    "import pickle\n",
    "\n",
    "def plot_tri_simple(ax, points, tri):\n",
    "    for tr in tri.simplices:\n",
    "        pts = points[tr, :]\n",
    "        ax.plot3D(pts[[0,1],0], pts[[0,1],1], pts[[0,1],2], color='g', lw='0.1')\n",
    "        ax.plot3D(pts[[0,2],0], pts[[0,2],1], pts[[0,2],2], color='g', lw='0.1')\n",
    "        ax.plot3D(pts[[0,3],0], pts[[0,3],1], pts[[0,3],2], color='g', lw='0.1')\n",
    "        ax.plot3D(pts[[1,2],0], pts[[1,2],1], pts[[1,2],2], color='g', lw='0.1')\n",
    "        ax.plot3D(pts[[1,3],0], pts[[1,3],1], pts[[1,3],2], color='g', lw='0.1')\n",
    "        ax.plot3D(pts[[2,3],0], pts[[2,3],1], pts[[2,3],2], color='g', lw='0.1')\n",
    "\n",
    "    ax.scatter(points[:,0], points[:,1], points[:,2], color='b')\n",
    "    \n",
    "def create_network(df, t=50, scale=0.2):   \n",
    "    z,y,x = df['z'].to_numpy()*scale, df['y'].to_numpy(), df['x'].to_numpy()\n",
    "\n",
    "    # Get coordinates\n",
    "    coordinates = np.vstack([x, y, z]).T\n",
    "    points = coordinates - np.mean(coordinates, axis=0)\n",
    "    \n",
    "    # Delaunay\n",
    "    tri = Delaunay(points)\n",
    "    G = nx.Graph()\n",
    "    for path in tri.simplices:\n",
    "        G.add_nodes_from(path)\n",
    "        edges = list(itertools.combinations(path, 2))\n",
    "        G.add_edges_from(edges)\n",
    "    \n",
    "    # Euclidian distance\n",
    "    distance = scipy.spatial.distance_matrix(points, points)\n",
    "    l = t**2/np.log(t)\n",
    "    distance_norm = np.exp(-distance**2/t)\n",
    "\n",
    "    # distance_norm = np.where(distance>t, 0, np.exp(-distance*2/l))\n",
    "    \n",
    "    g_dist = nx.from_numpy_array(distance_norm)\n",
    "    g = g_dist.edge_subgraph(G.edges()).copy() # Only keep delaunay edges\n",
    "    nx.set_node_attributes(g, dict(zip(g.nodes(), df.Labels)), \"labels\")\n",
    "    nuclei = (df.Nuclei > 0).astype(int).tolist()\n",
    "    nx.set_node_attributes(g, dict(zip(g.nodes(), nuclei)), \"nuclei\")\n",
    "    nx.set_node_attributes(g, dict(zip(g.nodes(), coordinates)), \"pos\")\n",
    "    return g"
   ]
  },
  {
   "cell_type": "code",
   "execution_count": 28,
   "id": "18afe12d-ffbe-4ede-b27b-e98f6e79b4eb",
   "metadata": {},
   "outputs": [],
   "source": [
    "PPI_save_path =  data_dir / 'OCT Cell Culture' / '3D_Whole' / 'PPI'\n",
    "\n",
    "# Read PPi info \n",
    "dfs = []\n",
    "for path in os.listdir(PPI_save_path):\n",
    "    if 'csv' in path:\n",
    "        df = pd.read_csv(PPI_save_path / path)\n",
    "        dfs.append(df)\n",
    "df = pd.concat(dfs)\n",
    "\n",
    "# Create label \n",
    "enc = OneHotEncoder(handle_unknown='ignore')\n",
    "labels = enc.fit_transform(df['PPI'].to_numpy().reshape(-1, 1)).toarray().astype(np.uint8)\n",
    "df['Labels'] = labels.tolist()"
   ]
  },
  {
   "cell_type": "code",
   "execution_count": 29,
   "id": "162b0188-39f9-4efe-9681-2cb39d8ff696",
   "metadata": {},
   "outputs": [
    {
     "data": {
      "text/html": [
       "<div>\n",
       "<style scoped>\n",
       "    .dataframe tbody tr th:only-of-type {\n",
       "        vertical-align: middle;\n",
       "    }\n",
       "\n",
       "    .dataframe tbody tr th {\n",
       "        vertical-align: top;\n",
       "    }\n",
       "\n",
       "    .dataframe thead th {\n",
       "        text-align: right;\n",
       "    }\n",
       "</style>\n",
       "<table border=\"1\" class=\"dataframe\">\n",
       "  <thead>\n",
       "    <tr style=\"text-align: right;\">\n",
       "      <th></th>\n",
       "      <th>Cell</th>\n",
       "      <th>Nuclei</th>\n",
       "      <th>z</th>\n",
       "      <th>y</th>\n",
       "      <th>x</th>\n",
       "      <th>PPI</th>\n",
       "      <th>Condition</th>\n",
       "      <th>FOV</th>\n",
       "      <th>Labels</th>\n",
       "    </tr>\n",
       "  </thead>\n",
       "  <tbody>\n",
       "    <tr>\n",
       "      <th>0</th>\n",
       "      <td>254</td>\n",
       "      <td>216</td>\n",
       "      <td>2</td>\n",
       "      <td>701</td>\n",
       "      <td>6431</td>\n",
       "      <td>TEAD1 &amp; YAP1</td>\n",
       "      <td>HCC827Ctrl</td>\n",
       "      <td>FW1</td>\n",
       "      <td>[0, 0, 0, 1, 0]</td>\n",
       "    </tr>\n",
       "    <tr>\n",
       "      <th>1</th>\n",
       "      <td>697</td>\n",
       "      <td>0</td>\n",
       "      <td>3</td>\n",
       "      <td>1813</td>\n",
       "      <td>479</td>\n",
       "      <td>TEAD1 &amp; YAP1</td>\n",
       "      <td>HCC827Ctrl</td>\n",
       "      <td>FW1</td>\n",
       "      <td>[0, 0, 0, 1, 0]</td>\n",
       "    </tr>\n",
       "    <tr>\n",
       "      <th>2</th>\n",
       "      <td>0</td>\n",
       "      <td>0</td>\n",
       "      <td>3</td>\n",
       "      <td>3387</td>\n",
       "      <td>7570</td>\n",
       "      <td>TEAD1 &amp; YAP1</td>\n",
       "      <td>HCC827Ctrl</td>\n",
       "      <td>FW1</td>\n",
       "      <td>[0, 0, 0, 1, 0]</td>\n",
       "    </tr>\n",
       "    <tr>\n",
       "      <th>3</th>\n",
       "      <td>242</td>\n",
       "      <td>182</td>\n",
       "      <td>0</td>\n",
       "      <td>617</td>\n",
       "      <td>3815</td>\n",
       "      <td>TEAD1 &amp; YAP1</td>\n",
       "      <td>HCC827Ctrl</td>\n",
       "      <td>FW1</td>\n",
       "      <td>[0, 0, 0, 1, 0]</td>\n",
       "    </tr>\n",
       "    <tr>\n",
       "      <th>4</th>\n",
       "      <td>117</td>\n",
       "      <td>72</td>\n",
       "      <td>1</td>\n",
       "      <td>264</td>\n",
       "      <td>2572</td>\n",
       "      <td>TEAD1 &amp; YAP1</td>\n",
       "      <td>HCC827Ctrl</td>\n",
       "      <td>FW1</td>\n",
       "      <td>[0, 0, 0, 1, 0]</td>\n",
       "    </tr>\n",
       "    <tr>\n",
       "      <th>...</th>\n",
       "      <td>...</td>\n",
       "      <td>...</td>\n",
       "      <td>...</td>\n",
       "      <td>...</td>\n",
       "      <td>...</td>\n",
       "      <td>...</td>\n",
       "      <td>...</td>\n",
       "      <td>...</td>\n",
       "      <td>...</td>\n",
       "    </tr>\n",
       "    <tr>\n",
       "      <th>95739</th>\n",
       "      <td>0</td>\n",
       "      <td>0</td>\n",
       "      <td>15</td>\n",
       "      <td>1675</td>\n",
       "      <td>7804</td>\n",
       "      <td>Mcl-1 &amp; BAK</td>\n",
       "      <td>HCC827Osim</td>\n",
       "      <td>FW2</td>\n",
       "      <td>[0, 1, 0, 0, 0]</td>\n",
       "    </tr>\n",
       "    <tr>\n",
       "      <th>95740</th>\n",
       "      <td>813</td>\n",
       "      <td>0</td>\n",
       "      <td>15</td>\n",
       "      <td>3427</td>\n",
       "      <td>6970</td>\n",
       "      <td>Mcl-1 &amp; BAK</td>\n",
       "      <td>HCC827Osim</td>\n",
       "      <td>FW2</td>\n",
       "      <td>[0, 1, 0, 0, 0]</td>\n",
       "    </tr>\n",
       "    <tr>\n",
       "      <th>95741</th>\n",
       "      <td>0</td>\n",
       "      <td>0</td>\n",
       "      <td>15</td>\n",
       "      <td>2078</td>\n",
       "      <td>527</td>\n",
       "      <td>Mcl-1 &amp; BAK</td>\n",
       "      <td>HCC827Osim</td>\n",
       "      <td>FW2</td>\n",
       "      <td>[0, 1, 0, 0, 0]</td>\n",
       "    </tr>\n",
       "    <tr>\n",
       "      <th>95742</th>\n",
       "      <td>684</td>\n",
       "      <td>0</td>\n",
       "      <td>15</td>\n",
       "      <td>2856</td>\n",
       "      <td>6507</td>\n",
       "      <td>Mcl-1 &amp; BAK</td>\n",
       "      <td>HCC827Osim</td>\n",
       "      <td>FW2</td>\n",
       "      <td>[0, 1, 0, 0, 0]</td>\n",
       "    </tr>\n",
       "    <tr>\n",
       "      <th>95743</th>\n",
       "      <td>678</td>\n",
       "      <td>0</td>\n",
       "      <td>15</td>\n",
       "      <td>2676</td>\n",
       "      <td>8378</td>\n",
       "      <td>Mcl-1 &amp; BAK</td>\n",
       "      <td>HCC827Osim</td>\n",
       "      <td>FW2</td>\n",
       "      <td>[0, 1, 0, 0, 0]</td>\n",
       "    </tr>\n",
       "  </tbody>\n",
       "</table>\n",
       "<p>337580 rows × 9 columns</p>\n",
       "</div>"
      ],
      "text/plain": [
       "       Cell  Nuclei   z     y     x           PPI   Condition  FOV  \\\n",
       "0       254     216   2   701  6431  TEAD1 & YAP1  HCC827Ctrl  FW1   \n",
       "1       697       0   3  1813   479  TEAD1 & YAP1  HCC827Ctrl  FW1   \n",
       "2         0       0   3  3387  7570  TEAD1 & YAP1  HCC827Ctrl  FW1   \n",
       "3       242     182   0   617  3815  TEAD1 & YAP1  HCC827Ctrl  FW1   \n",
       "4       117      72   1   264  2572  TEAD1 & YAP1  HCC827Ctrl  FW1   \n",
       "...     ...     ...  ..   ...   ...           ...         ...  ...   \n",
       "95739     0       0  15  1675  7804   Mcl-1 & BAK  HCC827Osim  FW2   \n",
       "95740   813       0  15  3427  6970   Mcl-1 & BAK  HCC827Osim  FW2   \n",
       "95741     0       0  15  2078   527   Mcl-1 & BAK  HCC827Osim  FW2   \n",
       "95742   684       0  15  2856  6507   Mcl-1 & BAK  HCC827Osim  FW2   \n",
       "95743   678       0  15  2676  8378   Mcl-1 & BAK  HCC827Osim  FW2   \n",
       "\n",
       "                Labels  \n",
       "0      [0, 0, 0, 1, 0]  \n",
       "1      [0, 0, 0, 1, 0]  \n",
       "2      [0, 0, 0, 1, 0]  \n",
       "3      [0, 0, 0, 1, 0]  \n",
       "4      [0, 0, 0, 1, 0]  \n",
       "...                ...  \n",
       "95739  [0, 1, 0, 0, 0]  \n",
       "95740  [0, 1, 0, 0, 0]  \n",
       "95741  [0, 1, 0, 0, 0]  \n",
       "95742  [0, 1, 0, 0, 0]  \n",
       "95743  [0, 1, 0, 0, 0]  \n",
       "\n",
       "[337580 rows x 9 columns]"
      ]
     },
     "execution_count": 29,
     "metadata": {},
     "output_type": "execute_result"
    }
   ],
   "source": [
    "df"
   ]
  },
  {
   "cell_type": "code",
   "execution_count": 30,
   "id": "ca2def47-afbd-4b93-94d5-f5b308d1bca8",
   "metadata": {},
   "outputs": [],
   "source": [
    "graph_save_path =  data_dir / 'OCT Cell Culture' / '3D_Whole' / 'graphs' / 'raw'\n",
    "graph_save_path .mkdir(parents=True, exist_ok=True)\n",
    "\n",
    "scale = 0.4/0.18872\n",
    "\n",
    "group = df.groupby(['Condition', 'FOV', 'Cell'])\n",
    "for name, df_group in group:\n",
    "    if name[2] == 0:\n",
    "        continue\n",
    "    if len(df_group) < 5:\n",
    "        continue\n",
    "    \n",
    "    g = create_network(df_group, t=70, scale=scale)\n",
    "    if nx.number_of_isolates(g)>0:\n",
    "        print('Isolated nodes')\n",
    "    \n",
    "    # Save pgrahs\n",
    "    save_path = graph_save_path / ('_'.join([str(n) for n in name])+'.pkl')\n",
    "    with open(save_path, 'wb') as f:\n",
    "        pickle.dump(g, f, protocol=pickle.HIGHEST_PROTOCOL)\n"
   ]
  },
  {
   "cell_type": "code",
   "execution_count": 12,
   "id": "549ed537-c7d0-4b57-9665-4606f4bac24b",
   "metadata": {},
   "outputs": [],
   "source": [
    "# scale = 0.4/0.18872\n",
    "# z,y,x = df_group['z'].to_numpy()*scale, df_group['y'].to_numpy(), df_group['x'].to_numpy()\n",
    "\n",
    "# points = np.vstack([x, y, z]).T\n",
    "# tri = Delaunay(points)\n",
    "\n",
    "# G = nx.Graph()\n",
    "# for path in tri.simplices:\n",
    "#     G.add_nodes_from(path)\n",
    "#     edges = list(itertools.combinations(path, 2))\n",
    "#     G.add_edges_from(edges)\n",
    "    \n",
    "# pos = points\n",
    "# node_xyz = np.array([pos[v] for v in sorted(G)])\n",
    "# edge_xyz = np.array([(pos[u], pos[v]) for u, v in G.edges()])\n",
    "\n",
    "# # Create the 3D figure\n",
    "# fig = plt.figure()\n",
    "# ax = fig.add_subplot(111, projection=\"3d\")\n",
    "\n",
    "# # Plot the nodes - alpha is scaled by \"depth\" automatically\n",
    "# ax.scatter(*node_xyz.T, color='b')\n",
    "# for vizedge in edge_xyz:\n",
    "#     ax.plot(*vizedge.T, color='g', lw=0.5)"
   ]
  },
  {
   "cell_type": "code",
   "execution_count": 13,
   "id": "dafbe17d-4773-4bc9-9fe9-819e25e55bb4",
   "metadata": {},
   "outputs": [],
   "source": [
    "# fig = plt.figure()\n",
    "# ax = plt.axes(projection='3d')\n",
    "# plot_tri_simple(ax, points, tri)"
   ]
  }
 ],
 "metadata": {
  "kernelspec": {
   "display_name": "Python 3 (ipykernel)",
   "language": "python",
   "name": "python3"
  },
  "language_info": {
   "codemirror_mode": {
    "name": "ipython",
    "version": 3
   },
   "file_extension": ".py",
   "mimetype": "text/x-python",
   "name": "python",
   "nbconvert_exporter": "python",
   "pygments_lexer": "ipython3",
   "version": "3.9.7"
  }
 },
 "nbformat": 4,
 "nbformat_minor": 5
}
