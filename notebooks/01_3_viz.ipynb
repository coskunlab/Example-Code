{
 "cells": [
  {
   "cell_type": "code",
   "execution_count": 1,
   "id": "4272f6ee-d28e-47dc-8d4d-6bac3907ebb5",
   "metadata": {},
   "outputs": [],
   "source": [
    "# import itertools\n",
    "import os\n",
    "import sys\n",
    "from pathlib import Path\n",
    "\n",
    "import cv2\n",
    "import matplotlib.pyplot as plt\n",
    "import numpy as np\n",
    "import pandas as pd\n",
    "import skimage.io\n",
    "\n",
    "from collections import defaultdict\n",
    "from tqdm.auto import tqdm\n",
    "from joblib import Parallel, delayed\n",
    "import re\n",
    "import h5py\n",
    "import napari\n",
    "import tifffile as tiff\n",
    "import seaborn as sns\n",
    "import pickle"
   ]
  },
  {
   "cell_type": "code",
   "execution_count": 2,
   "id": "d4c3a138-79a8-43e6-b6ae-021d701defa6",
   "metadata": {},
   "outputs": [],
   "source": [
    "%load_ext autoreload\n",
    "%autoreload 2"
   ]
  },
  {
   "cell_type": "code",
   "execution_count": 3,
   "id": "34fee2ba-2e7e-42d2-ac24-44a590e70c65",
   "metadata": {},
   "outputs": [],
   "source": [
    "p_dir = (Path().cwd().parents[0]).absolute()\n",
    "\n",
    "module_path = str(p_dir / \"src\")\n",
    " \n",
    "if module_path not in sys.path:\n",
    "    sys.path.append(module_path)"
   ]
  },
  {
   "cell_type": "code",
   "execution_count": 4,
   "id": "b5445688-526d-4959-b112-c04a3736dc75",
   "metadata": {},
   "outputs": [],
   "source": [
    "data_dir = (Path().cwd().parents[0] / 'data').absolute()\n",
    "\n",
    "df_meta_path = data_dir / 'basline' / 'metadata' / 'imgs_reg.csv'\n",
    "df_imgs = pd.read_csv(df_meta_path)\n"
   ]
  },
  {
   "cell_type": "markdown",
   "id": "6e7b758b-9926-4460-b9dc-0535ea46dd54",
   "metadata": {},
   "source": [
    "# Get one cycle"
   ]
  },
  {
   "cell_type": "code",
   "execution_count": 40,
   "id": "1d84257b-3bf6-4cb3-ac85-e5b8501104a3",
   "metadata": {},
   "outputs": [
    {
     "name": "stdout",
     "output_type": "stream",
     "text": [
      "['DNA' 'CycD1/CDK4' 'DNA' 'Concanavalin A' 'Phalloidin' 'WGA']\n"
     ]
    }
   ],
   "source": [
    "for row in df_imgs.iloc[4:].itertuples():\n",
    "    path = row.Path\n",
    "    with h5py.File(path, 'r') as f:\n",
    "        markers = f['imgs'].attrs['Marker']\n",
    "        imgs = f['imgs'][:]\n",
    "    print(markers)\n",
    "    break"
   ]
  },
  {
   "cell_type": "code",
   "execution_count": 42,
   "id": "f897344d-bdb0-4043-b442-8631b76f39ef",
   "metadata": {},
   "outputs": [
    {
     "data": {
      "text/plain": [
       "Viewer(axes=Axes(visible=False, labels=True, colored=True, dashed=False, arrows=True), camera=Camera(center=(0.0, 1737.5, 2327.0), zoom=0.242692750287687, angles=(0.0, 0.0, 90.0), perspective=0.0, interactive=True), cursor=Cursor(position=(1.0, 1.0), scaled=True, size=1, style=<CursorStyle.STANDARD: 'standard'>), dims=Dims(ndim=2, ndisplay=2, last_used=0, range=((0.0, 3476.0, 1.0), (0.0, 4655.0, 1.0)), current_step=(1738, 2327), order=(0, 1), axis_labels=('0', '1')), grid=GridCanvas(stride=1, shape=(-1, -1), enabled=False), layers=[<Image layer 'DNA' at 0x277e199d870>, <Image layer 'CycD1/CDK4' at 0x277e180a890>, <Image layer 'DNA [1]' at 0x2781b2d6920>, <Image layer 'Concanavalin A' at 0x2781b384af0>, <Image layer 'Phalloidin' at 0x278d29a2c80>, <Image layer 'WGA' at 0x278d2a4ce50>], scale_bar=ScaleBar(visible=False, colored=False, color=array([1., 0., 1., 1.], dtype=float32), ticks=True, position=<Position.BOTTOM_RIGHT: 'bottom_right'>, font_size=10.0, box=False, box_color=array([0. , 0. , 0. , 0.6], dtype=float32), unit=None), text_overlay=TextOverlay(visible=False, color=array([0.5, 0.5, 0.5, 1. ], dtype=float32), font_size=10.0, position=<TextOverlayPosition.TOP_LEFT: 'top_left'>, text=''), overlays=Overlays(interaction_box=InteractionBox(points=None, show=False, show_handle=False, show_vertices=False, selection_box_drag=None, selection_box_final=None, transform_start=<napari.utils.transforms.transforms.Affine object at 0x00000277C522CEB0>, transform_drag=<napari.utils.transforms.transforms.Affine object at 0x00000277C522CF10>, transform_final=<napari.utils.transforms.transforms.Affine object at 0x00000277C522CF70>, transform=<napari.utils.transforms.transforms.Affine object at 0x00000277C522CFD0>, allow_new_selection=True, selected_vertex=None)), help='', status='Ready', tooltip=Tooltip(visible=False, text=''), theme='dark', title='napari', mouse_over_canvas=False, mouse_move_callbacks=[<function InteractionBoxMouseBindings.initialize_mouse_events.<locals>.mouse_move at 0x00000277FE726E60>], mouse_drag_callbacks=[<function InteractionBoxMouseBindings.initialize_mouse_events.<locals>.mouse_drag at 0x00000277FE726710>], mouse_double_click_callbacks=[], mouse_wheel_callbacks=[<function dims_scroll at 0x0000027702E50670>], _persisted_mouse_event={}, _mouse_drag_gen={}, _mouse_wheel_gen={}, keymap={'Shift': <function InteractionBoxMouseBindings.initialize_key_events.<locals>.hold_to_lock_aspect_ratio at 0x00000277E1968C10>, 'Control-Shift-R': <function InteractionBoxMouseBindings._reset_active_layer_affine at 0x00000277E196BC70>, 'Control-Shift-A': <function InteractionBoxMouseBindings._transform_active_layer at 0x00000277E1968A60>})"
      ]
     },
     "execution_count": 42,
     "metadata": {},
     "output_type": "execute_result"
    }
   ],
   "source": [
    "napari.view_image(imgs, channel_axis=0, name=markers)"
   ]
  },
  {
   "cell_type": "markdown",
   "id": "48a58ddf-f61a-44a9-b96e-e93b22990720",
   "metadata": {},
   "source": [
    "# Plot images"
   ]
  },
  {
   "cell_type": "code",
   "execution_count": 43,
   "id": "d0aeb690-4be6-4193-8a10-fe5490a78be3",
   "metadata": {},
   "outputs": [],
   "source": [
    "import napari\n",
    "from napari_animation import Animation\n",
    "from moviepy.editor import VideoFileClip"
   ]
  },
  {
   "cell_type": "code",
   "execution_count": 44,
   "id": "17ec8c2e-983a-4429-afe0-d02e32f3282a",
   "metadata": {},
   "outputs": [],
   "source": [
    "mask_filt_dir = data_dir /  'basline'  / 'imgs' / 'masks'\n",
    "\n",
    "masks_path = defaultdict(dict) \n",
    "for path in os.listdir(mask_filt_dir):\n",
    "    name = path.split('.')[0]\n",
    "    if 'Nuclei' in name:\n",
    "        masks_path[name[7:]]['nuclei'] = mask_filt_dir / path\n",
    "    elif 'Cyto' in name:\n",
    "        masks_path[name[5:]]['cyto'] =mask_filt_dir / path\n",
    "    elif 'Cell' in name:\n",
    "        masks_path[name[5:]]['cell'] =mask_filt_dir / path    \n",
    "    elif 'df' in name:\n",
    "        masks_path[name[3:]]['df'] =mask_filt_dir / path\n",
    "    else:\n",
    "        pass"
   ]
  },
  {
   "cell_type": "code",
   "execution_count": 45,
   "id": "8fc40300-a6c5-4b12-bc8c-e4f7a4827cb0",
   "metadata": {},
   "outputs": [],
   "source": [
    "whole_seg_path = data_dir / 'basline'/ 'imgs' / 'segmentation'"
   ]
  },
  {
   "cell_type": "code",
   "execution_count": 47,
   "id": "5ba0afae-6387-4695-989f-6928d4927176",
   "metadata": {},
   "outputs": [],
   "source": [
    "viewer = napari.Viewer(ndisplay=2)\n",
    "\n",
    "for p in os.listdir(whole_seg_path):\n",
    "    img = skimage.io.imread(whole_seg_path / p)\n",
    "    \n",
    "    name = p.split('.')[0]\n",
    "    # mask_cyto_path = masks_path[name]['cell']\n",
    "    mask_nuclei_path = masks_path[name]['nuclei']\n",
    "    mask_cyto = skimage.io.imread(mask_cyto_path)\n",
    "    mask_nuclei = skimage.io.imread(mask_nuclei_path)\n",
    "    \n",
    "    # Define animation layer\n",
    "    viewer.add_image(img, \n",
    "                     name=name, \n",
    "                    blending='translucent',\n",
    "                    rgb=True)\n",
    "    # viewer.add_labels(mask_cyto, name=name+'_cyto')\n",
    "    viewer.add_labels(mask_nuclei, name=name+'_nuclei')\n"
   ]
  },
  {
   "cell_type": "code",
   "execution_count": null,
   "id": "87c1c769-12e6-4cce-85c1-e15ae32aa640",
   "metadata": {},
   "outputs": [],
   "source": []
  }
 ],
 "metadata": {
  "kernelspec": {
   "display_name": "Python [conda env:PLA2]",
   "language": "python",
   "name": "conda-env-PLA2-py"
  },
  "language_info": {
   "codemirror_mode": {
    "name": "ipython",
    "version": 3
   },
   "file_extension": ".py",
   "mimetype": "text/x-python",
   "name": "python",
   "nbconvert_exporter": "python",
   "pygments_lexer": "ipython3",
   "version": "3.10.10"
  }
 },
 "nbformat": 4,
 "nbformat_minor": 5
}
