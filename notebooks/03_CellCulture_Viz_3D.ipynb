{
 "cells": [
  {
   "cell_type": "code",
   "execution_count": 1,
   "id": "446cc842-f065-4a17-9284-8caf2209c810",
   "metadata": {},
   "outputs": [],
   "source": [
    "# import itertools\n",
    "import os\n",
    "import sys\n",
    "from pathlib import Path\n",
    "\n",
    "import cv2\n",
    "import matplotlib.pyplot as plt\n",
    "import numpy as np\n",
    "import pandas as pd\n",
    "import skimage.io\n",
    "\n",
    "from collections import defaultdict\n",
    "from tqdm.auto import tqdm\n",
    "from joblib import Parallel, delayed\n",
    "import re\n",
    "import h5py\n",
    "import napari\n",
    "import tifffile as tiff\n",
    "import seaborn as sns\n",
    "import pickle"
   ]
  },
  {
   "cell_type": "code",
   "execution_count": 2,
   "id": "d21d5a7e-d37c-49c5-87a9-b6ed399b2f38",
   "metadata": {},
   "outputs": [],
   "source": [
    "%load_ext autoreload\n",
    "%autoreload 2"
   ]
  },
  {
   "cell_type": "code",
   "execution_count": 3,
   "id": "266386a8-b606-4a9c-aa33-a9250aec10c5",
   "metadata": {},
   "outputs": [],
   "source": [
    "p_dir = (Path().cwd().parents[0]).absolute()\n",
    "\n",
    "module_path = str(p_dir / \"src\")\n",
    "\n",
    "if module_path not in sys.path:\n",
    "    sys.path.append(module_path)"
   ]
  },
  {
   "cell_type": "code",
   "execution_count": 4,
   "id": "958f7ce1-ed6e-44ee-a5da-0b4e11c6cad8",
   "metadata": {},
   "outputs": [],
   "source": [
    "data_dir = (Path().cwd().parents[0] / 'data').absolute()\n",
    "fig_dir = (Path().cwd().parents[0] / 'figure').absolute()\n",
    "\n",
    "df_meta_path = data_dir / 'OCT Cell Culture' / '3D_Whole' / 'metadata' / 'imgs_sti.csv'\n",
    "df_imgs = pd.read_csv(df_meta_path)"
   ]
  },
  {
   "cell_type": "markdown",
   "id": "0a9dadda-e858-4b85-86ba-dcc540a0ea8d",
   "metadata": {},
   "source": [
    "# Viz PPI 3D"
   ]
  },
  {
   "cell_type": "code",
   "execution_count": 5,
   "id": "52bb4e59-b3f0-46ac-badf-17b8b2896b1b",
   "metadata": {},
   "outputs": [],
   "source": [
    "import networkx as nx\n",
    "\n",
    "def read_pkl(path):\n",
    "    with open(path, 'rb') as f:\n",
    "        item = pickle.load(f)\n",
    "    return item\n",
    "\n",
    "plt.style.use('dark_background')\n",
    "\n",
    "def plot_PPI_3D(network, node_colors):\n",
    "    # Get position dict\n",
    "    pos_dict = nx.get_node_attributes(network, 'pos')\n",
    "    pos_T = {k: v[[1,0,2]] for k,v in pos_dict.items()}\n",
    "    # Get position array\n",
    "    pos = np.array(list(pos_T.values()))\n",
    "    # Get node and edge location\n",
    "    node_xyz = np.array([pos_T[v] for v in sorted(network)])\n",
    "    edge_xyz = np.array([(pos_T[u], pos_T[v]) for u, v in network.edges()])\n",
    "\n",
    "\n",
    "    # Create the 3D figure\n",
    "    fig = plt.figure(figsize=(7,7))\n",
    "    ax = fig.add_subplot(111, projection=\"3d\")\n",
    "\n",
    "    for vizedge in edge_xyz:\n",
    "        ax.plot(*vizedge.T, color='w', lw=1)\n",
    "    ax.scatter(*node_xyz.T, s=70, c=node_colors)\n",
    "\n",
    "    ax.xaxis.pane.fill = False\n",
    "    ax.yaxis.pane.fill = False\n",
    "    ax.zaxis.pane.fill = False\n",
    "\n",
    "    # make the panes transparent\n",
    "    ax.xaxis.set_pane_color((1.0, 1.0, 1.0, 0.0))\n",
    "    ax.yaxis.set_pane_color((1.0, 1.0, 1.0, 0.0))\n",
    "    ax.zaxis.set_pane_color((1.0, 1.0, 1.0, 0.0))\n",
    "\n",
    "    # make the grid lines transparent\n",
    "    ax.xaxis._axinfo[\"grid\"]['color'] =  (1,1,1,0)\n",
    "    ax.yaxis._axinfo[\"grid\"]['color'] =  (1,1,1,0)\n",
    "    ax.zaxis._axinfo[\"grid\"]['color'] =  (1,1,1,0)\n",
    "\n",
    "    return fig, ax"
   ]
  },
  {
   "cell_type": "code",
   "execution_count": 6,
   "id": "741648e8-6052-4c8b-8a5e-7f8b5e8b8dba",
   "metadata": {},
   "outputs": [
    {
     "name": "stdout",
     "output_type": "stream",
     "text": [
      "[array(['CylinE & CDK2', 'Mcl-1 & BAK', 'P-ERK & c-MYC', 'TEAD1 & YAP1',\n",
      "       'p-AKT & mTOR'], dtype=object)]\n"
     ]
    }
   ],
   "source": [
    "from sklearn.preprocessing import OneHotEncoder\n",
    "import matplotlib \n",
    "import scanpy\n",
    "\n",
    "# Get encoder \n",
    "PPI_save_path =  data_dir / 'OCT Cell Culture' / '3D_Whole' / 'PPI'\n",
    "\n",
    "# Read PPi info \n",
    "dfs = []\n",
    "for path in os.listdir(PPI_save_path):\n",
    "    if 'csv' in path:\n",
    "        df = pd.read_csv(PPI_save_path / path)\n",
    "        dfs.append(df)\n",
    "df = pd.concat(dfs)\n",
    "\n",
    "# Create label \n",
    "enc = OneHotEncoder(handle_unknown='ignore')\n",
    "labels = enc.fit_transform(df['PPI'].to_numpy().reshape(-1, 1)).toarray().astype(np.uint8)\n",
    "df['Labels'] = labels.tolist()\n",
    "print(enc.categories_)\n",
    "PPIs_name = enc.categories_[0]\n",
    "\n",
    "# Define colormap\n",
    "colors = [ '#ff00ff', '#00FF00', '#FF0000',  '#00FFFF', '#FFFF00']\n",
    "\n",
    "colors_rgb = []\n",
    "for color in colors:\n",
    "    colors_rgb.append(matplotlib.colors.hex2color(color))\n",
    "colors_rgb = np.array(colors_rgb) * 255\n",
    "colors_rgb = colors_rgb.astype(np.uint8)\n",
    "\n",
    "colors_rgb_dict = {k:v for k,v in zip(PPIs_name, colors_rgb)}"
   ]
  },
  {
   "cell_type": "code",
   "execution_count": 7,
   "id": "7383a384-3028-4a9a-8244-dc2233d4bc9b",
   "metadata": {},
   "outputs": [
    {
     "data": {
      "image/png": "[encoded data removed]",
      "text/plain": [
       "<Figure size 100x500 with 1 Axes>"
      ]
     },
     "metadata": {},
     "output_type": "display_data"
    }
   ],
   "source": [
    "# legend\n",
    "fig, ax = plt.subplots(figsize=(1,len(PPIs_name)))\n",
    "ax.barh(y=range(len(colors_rgb_dict.values())), \n",
    "        color=np.array(list(colors_rgb_dict.values()))/255,\n",
    "        width=1, \n",
    "        height=1,\n",
    "        edgecolor='k',\n",
    "        linewidth=3,\n",
    "       )\n",
    "\n",
    "_ = plt.yticks(range(len(colors_rgb_dict.values())), colors_rgb_dict.keys(), rotation=0, size=20)\n",
    "_ = plt.xticks([])\n",
    "ax.spines['top'].set_visible(False)\n",
    "ax.spines['right'].set_visible(False)\n",
    "ax.spines['bottom'].set_visible(False)\n",
    "ax.spines['left'].set_visible(False)\n",
    "ax.tick_params(axis=u'both', which=u'both',length=0)\n",
    "# ax.yaxis.tick_right()\n",
    "ax.invert_yaxis()\n",
    "ax.grid(False)"
   ]
  },
  {
   "cell_type": "code",
   "execution_count": 8,
   "id": "a6a0b6a5-ffb1-424d-b47d-6df39e9f09e9",
   "metadata": {},
   "outputs": [
    {
     "name": "stdout",
     "output_type": "stream",
     "text": [
      "Loading graphs\n",
      "Loading contours\n"
     ]
    }
   ],
   "source": [
    "import PLA\n",
    "\n",
    "graph_save_path =  data_dir / 'OCT Cell Culture' / '3D_Whole' / 'graphs' / 'raw'\n",
    "contour_save_path =  data_dir / 'OCT Cell Culture' / '3D_Whole' / 'contours'\n",
    "\n",
    "cell_data = PLA.cell_data(contour_save_path, graph_save_path)"
   ]
  },
  {
   "cell_type": "code",
   "execution_count": 9,
   "id": "095d7cd0-50d3-46ff-9d3d-590aa46fa160",
   "metadata": {
    "tags": []
   },
   "outputs": [
    {
     "name": "stdout",
     "output_type": "stream",
     "text": [
      "{'nuclei', 'pos', 'labels'}\n"
     ]
    }
   ],
   "source": [
    "# Check if graph connected\n",
    "df_subset = cell_data.df.sample(100)\n",
    "for i in range(len(df_subset)):\n",
    "    # Info\n",
    "    row = df_subset.iloc[i]\n",
    "    key = '_'.join(row.iloc[:2])\n",
    "    \n",
    "    cell = row.iloc[2]\n",
    "    \n",
    "    # Get graph\n",
    "    network = read_pkl(row.Path)\n",
    "    \n",
    "    if not nx.is_connected(network):\n",
    "        print(row)\n",
    "        \n",
    "# Print existing node attributes in graph\n",
    "node_attr = {k for attr_dict in network.nodes.data()._nodes.values() for k in attr_dict.keys()}\n",
    "print(node_attr)"
   ]
  },
  {
   "cell_type": "code",
   "execution_count": 10,
   "id": "10e38005-8bd4-4bcf-b80d-f9abf8f74037",
   "metadata": {},
   "outputs": [],
   "source": [
    "fig_path = fig_dir / 'PPI' / 'OCT Cell Culture' / '3D_Whole' / 'Cell'\n",
    "fig_path.mkdir(parents=True, exist_ok=True)    "
   ]
  },
  {
   "cell_type": "code",
   "execution_count": 11,
   "id": "22cd5617-5dfa-48e3-ba53-ad8b776f418f",
   "metadata": {
    "tags": []
   },
   "outputs": [],
   "source": [
    "df_subset = cell_data.df\n",
    "\n",
    "for i in range(len(df_subset)):\n",
    "    # Info\n",
    "    row = df_subset.iloc[i]\n",
    "    key = '_'.join(row.iloc[:2])\n",
    "    cell = row.iloc[2]\n",
    "    \n",
    "    # Get graph\n",
    "    network = read_pkl(row.Path)\n",
    "    network.remove_edges_from(list(nx.selfloop_edges(network)))\n",
    "    \n",
    "    nuclei = list(nx.get_node_attributes(network, 'nuclei').values())\n",
    "    labels = list(nx.get_node_attributes(network, 'labels').values())\n",
    "    labels = np.argmax(labels, axis=1)\n",
    "    node_colors = [colors_rgb_dict[PPIs_name[i]]/255 for i in labels]\n",
    "\n",
    "    # Plot\n",
    "    fig, ax = plot_PPI_3D(network, node_colors)\n",
    "    file_name = '_'.join([key, cell])\n",
    "    fig.savefig(fig_path / f'{file_name}.png', dpi=800, bbox_inches='tight', pad_inches=0)\n",
    "    plt.close()\n"
   ]
  },
  {
   "cell_type": "code",
   "execution_count": null,
   "id": "8babaeea-4097-4e0f-abe3-78842d7402e9",
   "metadata": {},
   "outputs": [],
   "source": []
  }
 ],
 "metadata": {
  "kernelspec": {
   "display_name": "Python [conda env:PLA]",
   "language": "python",
   "name": "conda-env-PLA-py"
  },
  "language_info": {
   "codemirror_mode": {
    "name": "ipython",
    "version": 3
   },
   "file_extension": ".py",
   "mimetype": "text/x-python",
   "name": "python",
   "nbconvert_exporter": "python",
   "pygments_lexer": "ipython3",
   "version": "3.9.16"
  }
 },
 "nbformat": 4,
 "nbformat_minor": 5
}
