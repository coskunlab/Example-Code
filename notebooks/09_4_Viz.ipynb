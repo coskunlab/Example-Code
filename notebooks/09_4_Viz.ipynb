{
 "cells": [
  {
   "cell_type": "code",
   "execution_count": 1,
   "metadata": {},
   "outputs": [],
   "source": [
    "import itertools\n",
    "import os\n",
    "import sys\n",
    "from pathlib import Path\n",
    "\n",
    "import cv2\n",
    "import matplotlib.pyplot as plt\n",
    "import numpy as np\n",
    "import pandas as pd\n",
    "import skimage.io\n",
    "\n",
    "from collections import defaultdict\n",
    "from tqdm.notebook import trange, tqdm, tqdm_notebook\n",
    "from joblib import Parallel, delayed\n",
    "import re\n",
    "import h5py\n",
    "import tifffile as tiff\n",
    "from natsort import natsort_keygen, natsorted"
   ]
  },
  {
   "cell_type": "code",
   "execution_count": 2,
   "metadata": {},
   "outputs": [],
   "source": [
    "%load_ext autoreload\n",
    "%autoreload 2"
   ]
  },
  {
   "cell_type": "code",
   "execution_count": 3,
   "metadata": {},
   "outputs": [],
   "source": [
    "p_dir = (Path().cwd().parents[0]).absolute()\n",
    "\n",
    "module_path = str(p_dir / \"src\")\n",
    " \n",
    "if module_path not in sys.path:\n",
    "    sys.path.append(module_path)"
   ]
  },
  {
   "cell_type": "code",
   "execution_count": 4,
   "metadata": {},
   "outputs": [],
   "source": [
    "data_dir = (Path().cwd().parents[0] / 'data').absolute()\n",
    "data_processed = data_dir / 'processed'\n"
   ]
  },
  {
   "cell_type": "code",
   "execution_count": 5,
   "metadata": {},
   "outputs": [],
   "source": [
    "data_dir = (Path().cwd().parents[0] / 'data').absolute()\n",
    "\n",
    "df_meta_path = data_dir /'13cyc_3D'  / 'metadata' / 'imgs_reg.csv'\n",
    "df_imgs = pd.read_csv(df_meta_path)"
   ]
  },
  {
   "cell_type": "code",
   "execution_count": 6,
   "metadata": {},
   "outputs": [
    {
     "data": {
      "text/html": [
       "<div>\n",
       "<style scoped>\n",
       "    .dataframe tbody tr th:only-of-type {\n",
       "        vertical-align: middle;\n",
       "    }\n",
       "\n",
       "    .dataframe tbody tr th {\n",
       "        vertical-align: top;\n",
       "    }\n",
       "\n",
       "    .dataframe thead th {\n",
       "        text-align: right;\n",
       "    }\n",
       "</style>\n",
       "<table border=\"1\" class=\"dataframe\">\n",
       "  <thead>\n",
       "    <tr style=\"text-align: right;\">\n",
       "      <th></th>\n",
       "      <th>Condition</th>\n",
       "      <th>FOV</th>\n",
       "      <th>Z</th>\n",
       "      <th>Path</th>\n",
       "    </tr>\n",
       "  </thead>\n",
       "  <tbody>\n",
       "    <tr>\n",
       "      <th>0</th>\n",
       "      <td>100nM</td>\n",
       "      <td>FW1</td>\n",
       "      <td>z1</td>\n",
       "      <td>y:\\coskun-lab\\Thomas\\23_PLA_revision\\data\\13cy...</td>\n",
       "    </tr>\n",
       "    <tr>\n",
       "      <th>1</th>\n",
       "      <td>100nM</td>\n",
       "      <td>FW1</td>\n",
       "      <td>z2</td>\n",
       "      <td>y:\\coskun-lab\\Thomas\\23_PLA_revision\\data\\13cy...</td>\n",
       "    </tr>\n",
       "    <tr>\n",
       "      <th>2</th>\n",
       "      <td>100nM</td>\n",
       "      <td>FW1</td>\n",
       "      <td>z3</td>\n",
       "      <td>y:\\coskun-lab\\Thomas\\23_PLA_revision\\data\\13cy...</td>\n",
       "    </tr>\n",
       "    <tr>\n",
       "      <th>3</th>\n",
       "      <td>100nM</td>\n",
       "      <td>FW1</td>\n",
       "      <td>z4</td>\n",
       "      <td>y:\\coskun-lab\\Thomas\\23_PLA_revision\\data\\13cy...</td>\n",
       "    </tr>\n",
       "    <tr>\n",
       "      <th>4</th>\n",
       "      <td>100nM</td>\n",
       "      <td>FW1</td>\n",
       "      <td>z5</td>\n",
       "      <td>y:\\coskun-lab\\Thomas\\23_PLA_revision\\data\\13cy...</td>\n",
       "    </tr>\n",
       "  </tbody>\n",
       "</table>\n",
       "</div>"
      ],
      "text/plain": [
       "  Condition  FOV   Z                                               Path\n",
       "0     100nM  FW1  z1  y:\\coskun-lab\\Thomas\\23_PLA_revision\\data\\13cy...\n",
       "1     100nM  FW1  z2  y:\\coskun-lab\\Thomas\\23_PLA_revision\\data\\13cy...\n",
       "2     100nM  FW1  z3  y:\\coskun-lab\\Thomas\\23_PLA_revision\\data\\13cy...\n",
       "3     100nM  FW1  z4  y:\\coskun-lab\\Thomas\\23_PLA_revision\\data\\13cy...\n",
       "4     100nM  FW1  z5  y:\\coskun-lab\\Thomas\\23_PLA_revision\\data\\13cy..."
      ]
     },
     "execution_count": 6,
     "metadata": {},
     "output_type": "execute_result"
    }
   ],
   "source": [
    "df_imgs.head()"
   ]
  },
  {
   "cell_type": "markdown",
   "metadata": {},
   "source": [
    "# Viz 3D PPI image"
   ]
  },
  {
   "cell_type": "code",
   "execution_count": 12,
   "metadata": {},
   "outputs": [],
   "source": [
    "import networkx as nx\n",
    "\n",
    "def read_pkl(path):\n",
    "    with open(path, 'rb') as f:\n",
    "        item = pickle.load(f)\n",
    "    return item\n",
    "\n",
    "plt.style.use('dark_background')\n",
    "\n",
    "def plot_PPI_3D(network, node_colors):\n",
    "    # Get position dict\n",
    "    pos_dict = nx.get_node_attributes(network, 'pos')\n",
    "    pos_T = {k: v[[1,0,2]] for k,v in pos_dict.items()}\n",
    "    # Get position array\n",
    "    pos = np.array(list(pos_T.values()))\n",
    "    # Get node and edge location\n",
    "    node_xyz = np.array([pos_T[v] for v in sorted(network)])\n",
    "    edge_xyz = np.array([(pos_T[u], pos_T[v]) for u, v in network.edges()])\n",
    "\n",
    "    # Create the 3D figure\n",
    "    fig = plt.figure(figsize=(7,7))\n",
    "    ax = fig.add_subplot(111, projection=\"3d\")\n",
    "\n",
    "    for vizedge in edge_xyz:\n",
    "        ax.plot(*vizedge.T, color='w', lw=1, alpha=0.5)\n",
    "    ax.scatter(*node_xyz.T, s=70, c=node_colors)\n",
    "\n",
    "    ax.xaxis.pane.fill = False\n",
    "    ax.yaxis.pane.fill = False\n",
    "    ax.zaxis.pane.fill = False\n",
    "\n",
    "    # make the panes transparent\n",
    "    ax.xaxis.set_pane_color((1.0, 1.0, 1.0, 0.0))\n",
    "    ax.yaxis.set_pane_color((1.0, 1.0, 1.0, 0.0))\n",
    "    ax.zaxis.set_pane_color((1.0, 1.0, 1.0, 0.0))\n",
    "\n",
    "    # make the grid lines transparent\n",
    "    ax.xaxis._axinfo[\"grid\"]['color'] =  (1,1,1,0)\n",
    "    ax.yaxis._axinfo[\"grid\"]['color'] =  (1,1,1,0)\n",
    "    ax.zaxis._axinfo[\"grid\"]['color'] =  (1,1,1,0)\n",
    "\n",
    "    return fig, ax"
   ]
  },
  {
   "cell_type": "code",
   "execution_count": 8,
   "metadata": {},
   "outputs": [
    {
     "name": "stdout",
     "output_type": "stream",
     "text": [
      "[array(['AKT/Mtor', 'Bim/Tom20', 'Cyclin D1/CDK4', 'Cyclin E/CDK2',\n",
      "       'EGFR/GRB2', 'FoxO1/AKT', 'Mcl-1/BAK', 'NF-Kb/p-P90rsk',\n",
      "       'SIRT1/P53', 'Sox2/Oct4', 'TEAD1/YAP', 'TRAIL/DR5', 'p-ERK/c-MYC'],\n",
      "      dtype=object)]\n"
     ]
    }
   ],
   "source": [
    "from sklearn.preprocessing import OneHotEncoder\n",
    "import matplotlib \n",
    "import scanpy\n",
    "import palettable\n",
    "\n",
    "# Get encoder \n",
    "PPI_save_path =  data_dir / '13cyc_3D' / 'PPI'\n",
    "\n",
    "# Read PPi info \n",
    "dfs = []\n",
    "for path in os.listdir(PPI_save_path):\n",
    "    if 'csv' in path:\n",
    "        df = pd.read_csv(PPI_save_path / path)\n",
    "        dfs.append(df)\n",
    "df = pd.concat(dfs)\n",
    "\n",
    "# Create label \n",
    "enc = OneHotEncoder(handle_unknown='ignore')\n",
    "labels = enc.fit_transform(df['PPI'].to_numpy().reshape(-1, 1)).toarray().astype(np.uint8)\n",
    "df['Labels'] = labels.tolist()\n",
    "print(enc.categories_)\n",
    "PPIs_name = enc.categories_[0]\n",
    "\n",
    "# Define colormap\n",
    "colors  = palettable.tableau.Tableau_20.mpl_colors\n",
    "\n",
    "colors_rgb = []\n",
    "for color in colors:\n",
    "    colors_rgb.append(np.array(color))\n",
    "colors_rgb = np.array(colors_rgb) * 255\n",
    "colors_rgb = colors_rgb.astype(np.uint8)\n",
    "\n",
    "colors_rgb_dict = {k:v for k,v in zip(PPIs_name, colors_rgb)}"
   ]
  },
  {
   "cell_type": "code",
   "execution_count": 9,
   "metadata": {},
   "outputs": [
    {
     "data": {
      "image/png": "[encoded data removed]",
      "text/plain": [
       "<Figure size 100x1300 with 1 Axes>"
      ]
     },
     "metadata": {},
     "output_type": "display_data"
    }
   ],
   "source": [
    "# legend\n",
    "fig, ax = plt.subplots(figsize=(1,len(PPIs_name)))\n",
    "ax.barh(y=range(len(colors_rgb_dict.values())), \n",
    "        color=np.array(list(colors_rgb_dict.values()))/255,\n",
    "        width=1, \n",
    "        height=1,\n",
    "        edgecolor='k',\n",
    "        linewidth=3,\n",
    "       )\n",
    "\n",
    "_ = plt.yticks(range(len(colors_rgb_dict.values())), colors_rgb_dict.keys(), rotation=0, size=20)\n",
    "_ = plt.xticks([])\n",
    "ax.spines['top'].set_visible(False)\n",
    "ax.spines['right'].set_visible(False)\n",
    "ax.spines['bottom'].set_visible(False)\n",
    "ax.spines['left'].set_visible(False)\n",
    "ax.tick_params(axis=u'both', which=u'both',length=0)\n",
    "# ax.yaxis.tick_right()\n",
    "ax.invert_yaxis()\n",
    "ax.grid(False)"
   ]
  },
  {
   "cell_type": "code",
   "execution_count": 10,
   "metadata": {},
   "outputs": [
    {
     "name": "stdout",
     "output_type": "stream",
     "text": [
      "Loading graphs\n",
      "Loading contours\n"
     ]
    }
   ],
   "source": [
    "import PLA\n",
    "\n",
    "graph_save_path =  data_dir / '13cyc_3D' / 'graphs' / 'raw'\n",
    "contour_save_path =  data_dir / '13cyc_3D' / 'contours'\n",
    "\n",
    "cell_data = PLA.cell_data(contour_save_path, graph_save_path)\n"
   ]
  },
  {
   "cell_type": "code",
   "execution_count": 11,
   "metadata": {},
   "outputs": [
    {
     "name": "stdout",
     "output_type": "stream",
     "text": [
      "{'nuclei', 'labels', 'pos'}\n"
     ]
    }
   ],
   "source": [
    "import pickle \n",
    "\n",
    "# Check if graph connected\n",
    "df_subset = cell_data.df.sample(100)\n",
    "for i in range(len(df_subset)):\n",
    "    # Info\n",
    "    row = df_subset.iloc[i]\n",
    "    key = '_'.join(row.iloc[:2])\n",
    "    \n",
    "    cell = row.iloc[2]\n",
    "    \n",
    "    # Get graph\n",
    "    network = read_pkl(row.Path)\n",
    "    \n",
    "    if not nx.is_connected(network):\n",
    "        print(row)\n",
    "        \n",
    "# Print existing node attributes in graph\n",
    "node_attr = {k for attr_dict in network.nodes.data()._nodes.values() for k in attr_dict.keys()}\n",
    "print(node_attr)"
   ]
  },
  {
   "cell_type": "code",
   "execution_count": 16,
   "metadata": {},
   "outputs": [],
   "source": [
    "fig_dir = (Path().cwd().parents[0] / 'figures').absolute()\n",
    "\n",
    "fig_path = fig_dir / 'PPI' / '13PPI_3D' / 'Cell'\n",
    "fig_path.mkdir(parents=True, exist_ok=True)    "
   ]
  },
  {
   "cell_type": "code",
   "execution_count": 17,
   "metadata": {},
   "outputs": [],
   "source": [
    "df_subset = cell_data.df\n",
    "\n",
    "for i in range(len(df_subset)):\n",
    "# for i in range(10):\n",
    "    # Info\n",
    "    row = df_subset.iloc[i]\n",
    "    key = '_'.join(row.iloc[:2])\n",
    "    cell = row.iloc[2]\n",
    "    \n",
    "    # Get graph\n",
    "    network = read_pkl(row.Path)\n",
    "    network.remove_edges_from(list(nx.selfloop_edges(network)))\n",
    "    \n",
    "    nuclei = list(nx.get_node_attributes(network, 'nuclei').values())\n",
    "    labels = list(nx.get_node_attributes(network, 'labels').values())\n",
    "    labels = np.argmax(labels, axis=1)\n",
    "    node_colors = [colors_rgb_dict[PPIs_name[i]]/255 for i in labels]\n",
    "\n",
    "    # Plot\n",
    "    fig, ax = plot_PPI_3D(network, node_colors)\n",
    "    ax.elev = 30\n",
    "    file_name = '_'.join([key, cell])\n",
    "    fig.savefig(fig_path / f'{file_name}.png', dpi=800, bbox_inches='tight', pad_inches=0)\n",
    "    plt.close()\n"
   ]
  },
  {
   "cell_type": "code",
   "execution_count": null,
   "metadata": {},
   "outputs": [],
   "source": []
  }
 ],
 "metadata": {
  "kernelspec": {
   "display_name": "Python 3",
   "language": "python",
   "name": "python3"
  },
  "language_info": {
   "codemirror_mode": {
    "name": "ipython",
    "version": 3
   },
   "file_extension": ".py",
   "mimetype": "text/x-python",
   "name": "python",
   "nbconvert_exporter": "python",
   "pygments_lexer": "ipython3",
   "version": "3.11.4"
  }
 },
 "nbformat": 4,
 "nbformat_minor": 2
}
