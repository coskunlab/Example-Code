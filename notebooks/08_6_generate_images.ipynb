{
 "cells": [
  {
   "cell_type": "code",
   "execution_count": 22,
   "metadata": {},
   "outputs": [],
   "source": [
    "# import itertools\n",
    "import os\n",
    "import sys\n",
    "from pathlib import Path\n",
    "\n",
    "import cv2\n",
    "import matplotlib.pyplot as plt\n",
    "import numpy as np\n",
    "import pandas as pd\n",
    "import skimage.io\n",
    "\n",
    "from collections import defaultdict\n",
    "from tqdm.auto import tqdm\n",
    "from joblib import Parallel, delayed\n",
    "import re\n",
    "import h5py\n",
    "import napari\n",
    "import tifffile as tiff\n",
    "import seaborn as sns\n",
    "import pickle"
   ]
  },
  {
   "cell_type": "code",
   "execution_count": 23,
   "metadata": {},
   "outputs": [
    {
     "name": "stdout",
     "output_type": "stream",
     "text": [
      "The autoreload extension is already loaded. To reload it, use:\n",
      "  %reload_ext autoreload\n"
     ]
    }
   ],
   "source": [
    "%load_ext autoreload\n",
    "%autoreload 2"
   ]
  },
  {
   "cell_type": "code",
   "execution_count": 24,
   "metadata": {},
   "outputs": [],
   "source": [
    "p_dir = (Path().cwd().parents[0]).absolute()\n",
    "\n",
    "module_path = str(p_dir / \"src\")\n",
    " \n",
    "if module_path not in sys.path:\n",
    "    sys.path.append(module_path)"
   ]
  },
  {
   "cell_type": "code",
   "execution_count": 25,
   "metadata": {},
   "outputs": [],
   "source": [
    "data_dir = (Path().cwd().parents[0] / 'data').absolute()\n",
    "fig_dir = (Path().cwd().parents[0] / 'figures').absolute()\n",
    "\n",
    "df_meta_path = data_dir /'tissue'  / 'metadata' / 'imgs_reg.csv'\n",
    "df_imgs = pd.read_csv(df_meta_path)\n"
   ]
  },
  {
   "cell_type": "code",
   "execution_count": 26,
   "metadata": {},
   "outputs": [],
   "source": [
    "df_imgs = df_imgs[df_imgs.FOV == '40X']"
   ]
  },
  {
   "cell_type": "markdown",
   "metadata": {},
   "source": [
    "# Read PPI data"
   ]
  },
  {
   "cell_type": "code",
   "execution_count": 27,
   "metadata": {},
   "outputs": [],
   "source": [
    "import pickle \n",
    "\n",
    "def read_PPI(path):\n",
    "    with open(path, 'rb') as file:\n",
    "        PPI_dict = pickle.load(file)\n",
    "\n",
    "    return PPI_dict"
   ]
  },
  {
   "cell_type": "code",
   "execution_count": 28,
   "metadata": {},
   "outputs": [],
   "source": [
    "PPI_save_path =  data_dir / 'tissue' / 'PPI'\n",
    "\n",
    "dfs = []\n",
    "for row in df_imgs.itertuples():\n",
    "    name = '_'.join(row[1:3])\n",
    "\n",
    "    # Read PPi\n",
    "\n",
    "    PPI_dict = read_PPI(PPI_save_path / f'{name}.pkl')\n",
    "    dfs_PPI_cyto = []\n",
    "    dfs_PPI_nuclei = []\n",
    "    for k in PPI_dict.keys():\n",
    "        PPI_loc = PPI_dict[k][:, 1:3].astype(np.uint32)\n",
    "\n",
    "        df = pd.DataFrame(PPI_loc, \n",
    "                      columns=['x', 'y'])\n",
    "        df['PPI'] = k\n",
    "        df['Condition'] = row[1]\n",
    "        dfs.append(df)\n",
    "\n",
    "# Concat dataframe\n",
    "df = pd.concat(dfs)\n"
   ]
  },
  {
   "cell_type": "code",
   "execution_count": 29,
   "metadata": {},
   "outputs": [],
   "source": [
    "df.to_csv(PPI_save_path / 'all.csv')"
   ]
  },
  {
   "cell_type": "markdown",
   "metadata": {},
   "source": [
    "# Read H&E images"
   ]
  },
  {
   "cell_type": "code",
   "execution_count": 30,
   "metadata": {},
   "outputs": [],
   "source": [
    "import networkx as nx \n",
    "\n",
    "# remove first and last consecutive zeros along dimension\n",
    "def removeFirstAndLast(zeroArray):\n",
    "    \n",
    "    # remove first\n",
    "    for ii, val in enumerate(zeroArray):\n",
    "        if np.sum(zeroArray[:ii + 1]) != ii + 1: # all consecutive trues\n",
    "            break # exit loop\n",
    "            \n",
    "        else:\n",
    "            lowest = ii # index of last of the first consecutive zeros\n",
    "            \n",
    "    # remove last\n",
    "    for ii, val in enumerate(np.flip(zeroArray)):\n",
    "        if np.sum(zeroArray[:ii + 1]) != ii + 1: # all consecutive trues\n",
    "            break # exit loop\n",
    "            \n",
    "        else:\n",
    "            highest = len(zeroArray) - ii # index of first of the last consecutive zeros            \n",
    "    \n",
    "    return (lowest, highest)\n",
    "\n",
    "# remove black borders from napari screenshot (2D image)\n",
    "def removeBorders(RGB):\n",
    "\n",
    "    rowMin = []\n",
    "    rowMax = []\n",
    "    colMin = []\n",
    "    colMax = []\n",
    "    for jj in range(3): # each RGB\n",
    "        \n",
    "        img = RGB[:, :, jj]\n",
    "        # find first and last rows and cols of all zeros\n",
    "        # remove any rows of zeros\n",
    "        zeroRows = np.all(img == 0, axis = 1)\n",
    "        zeroCols = np.all(img == 0, axis = 0)\n",
    "\n",
    "        posRows = removeFirstAndLast(zeroRows)\n",
    "        posCols = removeFirstAndLast(zeroCols)            \n",
    "        \n",
    "        rowMin.append(posRows[0])\n",
    "        rowMax.append(posRows[1])\n",
    "        colMin.append(posCols[0])\n",
    "        colMax.append(posCols[1])\n",
    "        \n",
    "    # make sure border signal is not cut out\n",
    "    rowMin = np.min(rowMin)\n",
    "    rowMax = np.max(rowMax)\n",
    "    colMin = np.min(colMin)\n",
    "    colMax = np.max(colMax)\n",
    "        \n",
    "    cropped = RGB[rowMin: rowMax, colMin: colMax, :] \n",
    "    \n",
    "    return cropped\n",
    "\n",
    "# Plot scatter\n",
    "def plot_PPI_scatter(points, colors, img):\n",
    "    # Napari viewer\n",
    "    viewer = napari.view_image(img)\n",
    "    for j, point in enumerate(points):\n",
    "        points_layer = viewer.add_points(point, size=5, face_color=colors[j])\n",
    "\n",
    "    # Get screenshot\n",
    "    screenshot = viewer.screenshot(size=np.array((img.shape[1], img.shape[2]))*4)\n",
    "    screenshot1 = removeBorders(screenshot)\n",
    "    viewer.close()\n",
    "    return screenshot1"
   ]
  },
  {
   "cell_type": "code",
   "execution_count": 31,
   "metadata": {},
   "outputs": [
    {
     "name": "stdout",
     "output_type": "stream",
     "text": [
      "[array(['Cyclin D1/CDK4', 'Cyclin E/CDK2', 'NF-Kb/p-P90rsk', 'Sox2/Oct4',\n",
      "       'TRAIL/DR5'], dtype=object)]\n"
     ]
    },
    {
     "data": {
      "image/png": "[encoded data removed]",
      "text/plain": [
       "<Figure size 100x500 with 1 Axes>"
      ]
     },
     "metadata": {},
     "output_type": "display_data"
    }
   ],
   "source": [
    "import palettable\n",
    "from sklearn.preprocessing import OneHotEncoder\n",
    "\n",
    "# Create label \n",
    "enc = OneHotEncoder(handle_unknown='ignore')\n",
    "labels = enc.fit_transform(df['PPI'].to_numpy().reshape(-1, 1)).toarray().astype(np.uint8)\n",
    "df['Labels'] = labels.tolist()\n",
    "print(enc.categories_)\n",
    "PPIs_name = enc.categories_[0]\n",
    "\n",
    "# Define colormap\n",
    "colors  = palettable.tableau.Tableau_10.mpl_colors\n",
    "\n",
    "colors_rgb = []\n",
    "for color in colors:\n",
    "    colors_rgb.append(np.array(color))\n",
    "colors_rgb = np.array(colors_rgb) * 255\n",
    "colors_rgb = colors_rgb.astype(np.uint8)\n",
    "\n",
    "colors_rgb_dict = {k:v for k,v in zip(PPIs_name, colors_rgb)}\n",
    "\n",
    "# legend\n",
    "fig, ax = plt.subplots(figsize=(1,len(PPIs_name)))\n",
    "ax.barh(y=range(len(colors_rgb_dict.values())), \n",
    "        color=np.array(list(colors_rgb_dict.values()))/255,\n",
    "        width=1, \n",
    "        height=1,\n",
    "        edgecolor='k',\n",
    "        linewidth=3,\n",
    "       )\n",
    "\n",
    "_ = plt.yticks(range(len(colors_rgb_dict.values())), colors_rgb_dict.keys(), rotation=0, size=40)\n",
    "_ = plt.xticks([])\n",
    "ax.spines['top'].set_visible(False)\n",
    "ax.spines['right'].set_visible(False)\n",
    "ax.spines['bottom'].set_visible(False)\n",
    "ax.spines['left'].set_visible(False)\n",
    "ax.tick_params(axis=u'both', which=u'both',length=0)\n",
    "# ax.yaxis.tick_right()\n",
    "ax.invert_yaxis()\n",
    "ax.grid(False)"
   ]
  },
  {
   "cell_type": "code",
   "execution_count": 32,
   "metadata": {},
   "outputs": [],
   "source": [
    "# df = pd.read_csv(PPI_save_path / 'all.csv')"
   ]
  },
  {
   "cell_type": "code",
   "execution_count": 33,
   "metadata": {},
   "outputs": [
    {
     "data": {
      "text/plain": [
       "Sox2/Oct4         26394\n",
       "NF-Kb/p-P90rsk     8187\n",
       "TRAIL/DR5          1821\n",
       "Cyclin D1/CDK4     1723\n",
       "Cyclin E/CDK2        93\n",
       "Name: PPI, dtype: int64"
      ]
     },
     "execution_count": 33,
     "metadata": {},
     "output_type": "execute_result"
    }
   ],
   "source": [
    "df.PPI.value_counts()"
   ]
  },
  {
   "cell_type": "code",
   "execution_count": 13,
   "metadata": {},
   "outputs": [],
   "source": [
    "from skimage import color\n",
    "\n",
    "# Define dir\n",
    "HE_dir = data_dir / 'tissue' / 'HE_registered'\n",
    "# Define figure file \n",
    "fig_path = fig_dir / 'tisse' / 'FOV_HE'\n",
    "fig_path.mkdir(parents=True, exist_ok=True)    \n",
    "\n",
    "for row in df_imgs.itertuples():\n",
    "    # Get info\n",
    "    path = row.Path\n",
    "    name = '_'.join(row[1:3])\n",
    "    \n",
    "    # Get HE path\n",
    "    HE_path = HE_dir / f'{name}.tif'\n",
    "    HE_img = tiff.imread(HE_path)\n",
    "\n",
    "    # Transform grayscale\n",
    "    img = color.rgb2gray(HE_img)\n",
    "\n",
    "    # Get PPI data\n",
    "    df_PPI = df[(df.Condition == row[1])]\n",
    "    \n",
    "    # Transform data to networkx\n",
    "    G = nx.Graph()\n",
    "    G.add_nodes_from([i for i in range(len(df_PPI))])\n",
    "    coordinates = df_PPI[['x', 'y']].values\n",
    "    nx.set_node_attributes(G, dict(zip(G.nodes(), coordinates)), \"pos\")\n",
    "    nx.set_node_attributes(G, dict(zip(G.nodes(), df.PPI)), \"labels\")\n",
    "\n",
    "    # Get info\n",
    "    labels = list(nx.get_node_attributes(G, 'labels').values())\n",
    "    node_colors = [colors_rgb_dict[i]/255 for i in labels]\n",
    "    pos = nx.get_node_attributes(G, 'pos')\n",
    "    pos_T = {k: v[[1,0]] for k,v in pos.items()}\n",
    "\n",
    "    # Plot and save image\n",
    "    fig, ax = plt.subplots(figsize=(20,10))\n",
    "    ax.imshow(img, cmap='gray')\n",
    "    ax.axis('off')\n",
    "    ax.set_facecolor('k')\n",
    "\n",
    "    nx.draw(G, pos_T, node_color=node_colors, with_labels=False, ax=ax, node_size=2, linewidths=0.1, edgecolors='k')\n",
    "\n",
    "    fig.savefig(fig_path / f'{name}_gray.png', dpi=600, transparent=True, bbox_inches='tight', pad_inches=0)\n",
    "    plt.close()"
   ]
  },
  {
   "cell_type": "markdown",
   "metadata": {},
   "source": [
    "# Show HE and IF images"
   ]
  },
  {
   "cell_type": "code",
   "execution_count": 55,
   "metadata": {},
   "outputs": [],
   "source": [
    "def get_loc_ppi(df, Condition, x_min, y_min, x_max, y_max, PPI_name, merge=False, r=5):\n",
    "    df_ppi = df[(df.Condition == Condition)]\n",
    "    df_ppi = df_ppi[df_ppi.PPI == PPI_name]\n",
    "    df_ppi = df_ppi[(df_ppi.column > x_min) & (df_ppi.column < x_max) \n",
    "                    & (df_ppi.row > y_min) & (df_ppi.row < y_max)] \n",
    "    if merge:\n",
    "         # Get dot neighboring graph with user defined radius\n",
    "        nei, A = get_NN_radius(df_ppi[['row', 'column']], r=r)\n",
    "\n",
    "        # Assign new labels based on connected components label\n",
    "        labels = scipy.sparse.csgraph.connected_components(A, directed=False)[1]\n",
    "        df_ppi['CC_label'] = labels\n",
    "\n",
    "        # Group by CC and extract mean position\n",
    "        df_ppi = df_ppi.groupby(['CC_label'])[['row', 'column']].mean().astype(np.uint32)\n",
    "        \n",
    "    points = df_ppi[['row', 'column']].to_numpy()\n",
    "    points = points - np.array([y_min, x_min])\n",
    "    return points"
   ]
  },
  {
   "cell_type": "code",
   "execution_count": 47,
   "metadata": {},
   "outputs": [],
   "source": [
    "from skimage import color \n",
    "\n",
    "# Define HE dir\n",
    "HE_dir = data_dir / 'tissue' / 'HE_registered'\n",
    "\n",
    "# Define cell mask dir\n",
    "mask_dir =  data_dir / 'tissue' / 'masks'\n",
    "\n",
    "for row in df_imgs.itertuples():\n",
    "    # Get info\n",
    "    path = row.Path\n",
    "    name = '_'.join(row[1:3])\n",
    "    \n",
    "    # Get HE path\n",
    "    HE_path = HE_dir / f'{name}.tif'\n",
    "    HE_img = tiff.imread(HE_path)\n",
    "    \n",
    "    # Transform grayscale\n",
    "    HE_img_gray = color.rgb2gray(HE_img)\n",
    "\n",
    "    # Get IF images \n",
    "    with h5py.File(path, 'r') as f:\n",
    "        markers = f['imgs'].attrs['Marker']\n",
    "        imgs = f['imgs'][:]\n",
    "\n",
    "    # Read cell mask\n",
    "    mask_path = mask_dir / f'{row[1]}_cell.png'\n",
    "    mask = skimage.io.imread(mask_path)\n",
    "    break"
   ]
  },
  {
   "cell_type": "code",
   "execution_count": 70,
   "metadata": {},
   "outputs": [],
   "source": [
    "from skimage import exposure\n",
    "\n",
    "def contrast_stretching(img):\n",
    "    # Contrast stretching\n",
    "    p2, p98 = np.percentile(img, (50, 99.9))\n",
    "    img_rescale = exposure.rescale_intensity(img, in_range=(p2, p98))\n",
    "    \n",
    "    return img_rescale\n",
    "\n",
    "IF_markers = ['CD8','Pan-cytokeratin','CD4']\n",
    "imgs_subset = []\n",
    "for i, m in enumerate(markers):\n",
    "    if m in IF_markers:\n",
    "        img = contrast_stretching(imgs[i])\n",
    "        imgs_subset.append(img)\n",
    "\n",
    "        "
   ]
  },
  {
   "cell_type": "code",
   "execution_count": 74,
   "metadata": {},
   "outputs": [],
   "source": [
    "viewer = napari.view_image(np.stack(imgs_subset), name=IF_markers, channel_axis=0, contrast_limits=[0, 2**16])\n"
   ]
  },
  {
   "cell_type": "code",
   "execution_count": 72,
   "metadata": {},
   "outputs": [
    {
     "data": {
      "text/plain": [
       "<Labels layer 'mask' at 0x1b1845bbac0>"
      ]
     },
     "execution_count": 72,
     "metadata": {},
     "output_type": "execute_result"
    }
   ],
   "source": [
    "viewer = napari.view_image(imgs, name=markers, channel_axis=0, visible=False)\n",
    "viewer.add_image(HE_img)\n",
    "viewer.add_labels(mask)"
   ]
  },
  {
   "cell_type": "code",
   "execution_count": 45,
   "metadata": {},
   "outputs": [
    {
     "data": {
      "text/plain": [
       "<Labels layer 'Labels' at 0x1af7b746a30>"
      ]
     },
     "execution_count": 45,
     "metadata": {},
     "output_type": "execute_result"
    }
   ],
   "source": [
    "import vispy.color\n",
    "\n",
    "# Get small region \n",
    "x_min, x_max = 2600, 6400 \n",
    "y_min, y_max = 1200, 3600\n",
    "\n",
    "viewer = napari.view_image(imgs[:, y_min:y_max, x_min:x_max], name=markers, channel_axis=0, visible=False)\n",
    "viewer.add_image(HE_img[y_min:y_max, x_min:x_max, :])\n",
    "viewer.add_labels(mask[y_min:y_max, x_min:x_max])\n"
   ]
  },
  {
   "cell_type": "code",
   "execution_count": 61,
   "metadata": {},
   "outputs": [],
   "source": [
    "\n",
    "# Get small region \n",
    "x_min, x_max = 2600, 6400 \n",
    "y_min, y_max = 1200, 3600\n",
    "\n",
    "df.columns=['row', 'column', 'PPI', 'Condition', 'Labels']\n",
    "\n",
    "# Get PPI \n",
    "PPIs = df.PPI.unique()\n",
    "points = [get_loc_ppi(df, row.Condition, x_min, y_min, x_max, y_max, PPI_name) \n",
    "          for PPI_name in PPIs]\n",
    "viewer = napari.view_image(HE_img_gray[y_min:y_max, x_min:x_max])\n",
    "\n",
    "for i, point in enumerate(points):\n",
    "    red = vispy.color.Colormap([[0.0, 0.0, 0.0], colors_rgb_dict[PPIs[i]]/255])\n",
    "    points_layer = viewer.add_points(point, size=20)\n",
    "    points_layer.face_color = colors_rgb_dict[PPIs[i]]/255"
   ]
  },
  {
   "cell_type": "code",
   "execution_count": null,
   "metadata": {},
   "outputs": [],
   "source": []
  }
 ],
 "metadata": {
  "kernelspec": {
   "display_name": "Python 3",
   "language": "python",
   "name": "python3"
  },
  "language_info": {
   "codemirror_mode": {
    "name": "ipython",
    "version": 3
   },
   "file_extension": ".py",
   "mimetype": "text/x-python",
   "name": "python",
   "nbconvert_exporter": "python",
   "pygments_lexer": "ipython3",
   "version": "3.9.18"
  }
 },
 "nbformat": 4,
 "nbformat_minor": 2
}
