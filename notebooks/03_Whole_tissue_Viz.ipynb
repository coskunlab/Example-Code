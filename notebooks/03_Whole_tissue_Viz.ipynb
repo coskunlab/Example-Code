{
 "cells": [
  {
   "cell_type": "code",
   "execution_count": 1,
   "id": "453c99cd-2be7-4bf9-beee-12354d99d5c5",
   "metadata": {},
   "outputs": [],
   "source": [
    "# import itertools\n",
    "import os\n",
    "import sys\n",
    "from pathlib import Path\n",
    "\n",
    "import cv2\n",
    "import matplotlib.pyplot as plt\n",
    "import numpy as np\n",
    "import pandas as pd\n",
    "import skimage.io\n",
    "\n",
    "from collections import defaultdict\n",
    "from tqdm.auto import tqdm\n",
    "from joblib import Parallel, delayed\n",
    "import re\n",
    "import h5py\n",
    "import napari\n",
    "import tifffile as tiff\n",
    "import seaborn as sns\n",
    "import pickle"
   ]
  },
  {
   "cell_type": "code",
   "execution_count": 2,
   "id": "07764059-738f-497b-9c98-855899b6cf7a",
   "metadata": {},
   "outputs": [],
   "source": [
    "%load_ext autoreload\n",
    "%autoreload 2"
   ]
  },
  {
   "cell_type": "code",
   "execution_count": 3,
   "id": "ea9785f7-10f5-4222-bd1c-adb1ff121f5d",
   "metadata": {},
   "outputs": [],
   "source": [
    "p_dir = (Path().cwd().parents[0]).absolute()\n",
    "\n",
    "module_path = str(p_dir / \"src\")\n",
    "\n",
    "if module_path not in sys.path:\n",
    "    sys.path.append(module_path)"
   ]
  },
  {
   "cell_type": "code",
   "execution_count": 4,
   "id": "7aa9f0c2-5bea-43e0-93df-1d7b10a45f87",
   "metadata": {},
   "outputs": [],
   "source": [
    "data_dir = (Path().cwd().parents[0] / 'data').absolute()\n",
    "fig_dir = (Path().cwd().parents[0] / 'figure').absolute()\n",
    "\n",
    "df_meta_path = data_dir / 'OCT mouse' / 'Whole' / 'metadata' /  'imgs_reg.csv'\n",
    "df_imgs = pd.read_csv(df_meta_path)"
   ]
  },
  {
   "cell_type": "code",
   "execution_count": 5,
   "id": "19414119-fb46-4b26-8b7a-82c65f4bfec1",
   "metadata": {},
   "outputs": [],
   "source": [
    "import palettable\n",
    "\n",
    "ppi_colors = palettable.colorbrewer.qualitative.Set1_5.mpl_colors"
   ]
  },
  {
   "cell_type": "code",
   "execution_count": 6,
   "id": "970ef283-7cf6-4430-ab32-da063627d287",
   "metadata": {},
   "outputs": [
    {
     "data": {
      "image/png": "[encoded data removed]",
      "text/html": [
       "<div style=\"vertical-align: middle;\"><strong>from_list</strong> </div><div class=\"cmap\"><img alt=\"from_list colormap\" title=\"from_list\" style=\"border: 1px solid #555;\" src=\"data:image/png;base64,iVBORw0KGgoAAAANSUhEUgAAAgAAAABACAYAAABsv8+/AAAAGHRFWHRUaXRsZQBmcm9tX2xpc3QgY29sb3JtYXBDL89FAAAAHnRFWHREZXNjcmlwdGlvbgBmcm9tX2xpc3QgY29sb3JtYXABtCnOAAAAMHRFWHRBdXRob3IATWF0cGxvdGxpYiB2My42LjMsIGh0dHBzOi8vbWF0cGxvdGxpYi5vcmfURcVRAAAAMnRFWHRTb2Z0d2FyZQBNYXRwbG90bGliIHYzLjYuMywgaHR0cHM6Ly9tYXRwbG90bGliLm9yZ/rjWnYAAAFQSURBVHic7daxDUFRAEBRDKEQS/w5lCqFTmIfteQvZw8WeFpPcs+Z4JZ3+zoc3xv+0vn2nJ3AwH55zE5g4LReZicwcF+usxP4Yjc7AAD4PQMAAEEGAACCDAAABBkAAAgyAAAQZAAAIMgAAECQAQCAIAMAAEEGAACCDAAABBkAAAgyAAAQZAAAIMgAAECQAQCAIAMAAEEGAACCDAAABBkAAAgyAAAQZAAAIMgAAECQAQCAIAMAAEEGAACCDAAABBkAAAgyAAAQZAAAIMgAAECQAQCAIAMAAEEGAACCDAAABBkAAAgyAAAQZAAAIMgAAECQAQCAIAMAAEEGAACCDAAABBkAAAgyAAAQZAAAIMgAAECQAQCAIAMAAEEGAACCDAAABBkAAAgyAAAQZAAAIMgAAECQAQCAIAMAAEEGAACCDAAABBkAAAgyAAAQZAAAIOgDZioG/Xtqk5oAAAAASUVORK5CYII=\"></div><div style=\"vertical-align: middle; max-width: 514px; display: flex; justify-content: space-between;\"><div style=\"float: left;\"><div title=\"#e41a1cff\" style=\"display: inline-block; width: 1em; height: 1em; margin: 0; vertical-align: middle; border: 1px solid #555; background-color: #e41a1cff;\"></div> under</div><div style=\"margin: 0 auto; display: inline-block;\">bad <div title=\"#00000000\" style=\"display: inline-block; width: 1em; height: 1em; margin: 0; vertical-align: middle; border: 1px solid #555; background-color: #00000000;\"></div></div><div style=\"float: right;\">over <div title=\"#ff7f00ff\" style=\"display: inline-block; width: 1em; height: 1em; margin: 0; vertical-align: middle; border: 1px solid #555; background-color: #ff7f00ff;\"></div></div>"
      ],
      "text/plain": [
       "<matplotlib.colors.ListedColormap at 0x1f69d0c7400>"
      ]
     },
     "execution_count": 6,
     "metadata": {},
     "output_type": "execute_result"
    }
   ],
   "source": [
    "from matplotlib import colors \n",
    "\n",
    "colors.ListedColormap(ppi_colors)"
   ]
  },
  {
   "cell_type": "markdown",
   "id": "fd10f5cf-97da-4c6b-8310-d0a822c277f0",
   "metadata": {
    "tags": []
   },
   "source": [
    "# Viz PPI network"
   ]
  },
  {
   "cell_type": "code",
   "execution_count": 7,
   "id": "cd62463e-891b-4fbe-b733-5d4cea5990bf",
   "metadata": {},
   "outputs": [],
   "source": [
    "import networkx as nx\n",
    "\n",
    "def read_pkl(path):\n",
    "    with open(path, 'rb') as f:\n",
    "        item = pickle.load(f)\n",
    "    return item\n",
    "\n",
    "def get_contours(contours, key, cell):\n",
    "    try:\n",
    "        contour_cell = contours[key]['Cell'][int(cell)]\n",
    "    except:\n",
    "        contour_cell = None\n",
    "    try:\n",
    "        contour_nuclei = contours[key]['Nuclei'][int(cell)]\n",
    "    except:\n",
    "        contour_nuclei = None\n",
    "    return contour_cell, contour_nuclei\n",
    "\n",
    "def plot_network(g, label, ax, **kwargs):\n",
    "    pos = nx.get_node_attributes(g, 'pos')\n",
    "    pos_T = {k: v[[1,0]] for k,v in pos.items()}\n",
    "    \n",
    "    nx.draw(g, pos_T, node_color=label, with_labels=False, ax=ax, **kwargs)\n",
    "    return ax\n",
    "    \n",
    "def plot_contour(contour_cell, contour_nuclei, ax, linewidth=2):\n",
    "    try:\n",
    "        contour = max(contour_cell, key = len)\n",
    "        ax.plot(contour[:, 1], contour[:, 0], linewidth=linewidth, color='red')\n",
    "    except:pass\n",
    "    try:\n",
    "        contour = max(contour_nuclei, key = len)\n",
    "        ax.plot(contour[:, 1], contour[:, 0], linewidth=linewidth, color='blue')\n",
    "    except:pass"
   ]
  },
  {
   "cell_type": "code",
   "execution_count": 8,
   "id": "5a82540c-f6ae-482a-9ec5-607575f4cd01",
   "metadata": {},
   "outputs": [
    {
     "name": "stdout",
     "output_type": "stream",
     "text": [
      "[array(['CylinE & CDK2', 'Mcl-1 & BAK', 'P-ERK & c-MYC', 'TEAD1 & YAP1',\n",
      "       'p-AKT & mTOR'], dtype=object)]\n"
     ]
    }
   ],
   "source": [
    "from sklearn.preprocessing import OneHotEncoder\n",
    "import matplotlib \n",
    "import scanpy\n",
    "\n",
    "# Get encoder \n",
    "PPI_save_path =  data_dir / 'OCT mouse' / 'Whole' / 'PPI'\n",
    "\n",
    "# Read PPi info \n",
    "dfs = []\n",
    "for path in os.listdir(PPI_save_path):\n",
    "    if 'csv' in path:\n",
    "        df = pd.read_csv(PPI_save_path / path)\n",
    "        dfs.append(df)\n",
    "df = pd.concat(dfs)\n",
    "\n",
    "# Create label \n",
    "enc = OneHotEncoder(handle_unknown='ignore')\n",
    "labels = enc.fit_transform(df['PPI'].to_numpy().reshape(-1, 1)).toarray().astype(np.uint8)\n",
    "df['Labels'] = labels.tolist()\n",
    "print(enc.categories_)\n",
    "PPIs_name = enc.categories_[0]\n",
    "\n",
    "# Define colormap\n",
    "# colors = [ '#ff00ff', '#00FF00', '#FF0000',  '#00FFFF', '#FFFF00']\n",
    "colors = ppi_colors\n",
    "\n",
    "colors_rgb = []\n",
    "for color in colors:\n",
    "    colors_rgb.append(np.array(color))\n",
    "colors_rgb = np.array(colors_rgb) * 255\n",
    "colors_rgb = colors_rgb.astype(np.uint8)\n",
    "\n",
    "colors_rgb_dict = {k:v for k,v in zip(PPIs_name, colors_rgb)}"
   ]
  },
  {
   "cell_type": "code",
   "execution_count": 9,
   "id": "0f0d3e57-f258-433b-9e82-93f7432fb271",
   "metadata": {},
   "outputs": [
    {
     "data": {
      "text/html": [
       "<div>\n",
       "<style scoped>\n",
       "    .dataframe tbody tr th:only-of-type {\n",
       "        vertical-align: middle;\n",
       "    }\n",
       "\n",
       "    .dataframe tbody tr th {\n",
       "        vertical-align: top;\n",
       "    }\n",
       "\n",
       "    .dataframe thead th {\n",
       "        text-align: right;\n",
       "    }\n",
       "</style>\n",
       "<table border=\"1\" class=\"dataframe\">\n",
       "  <thead>\n",
       "    <tr style=\"text-align: right;\">\n",
       "      <th></th>\n",
       "      <th>Cyto</th>\n",
       "      <th>x</th>\n",
       "      <th>y</th>\n",
       "      <th>PPI</th>\n",
       "      <th>Nuclei</th>\n",
       "      <th>Condition</th>\n",
       "      <th>FOV</th>\n",
       "      <th>Labels</th>\n",
       "    </tr>\n",
       "  </thead>\n",
       "  <tbody>\n",
       "    <tr>\n",
       "      <th>0</th>\n",
       "      <td>14586</td>\n",
       "      <td>5545</td>\n",
       "      <td>866</td>\n",
       "      <td>TEAD1 &amp; YAP1</td>\n",
       "      <td>14586</td>\n",
       "      <td>1M</td>\n",
       "      <td>FW1</td>\n",
       "      <td>[0, 0, 0, 1, 0]</td>\n",
       "    </tr>\n",
       "    <tr>\n",
       "      <th>1</th>\n",
       "      <td>14586</td>\n",
       "      <td>5545</td>\n",
       "      <td>866</td>\n",
       "      <td>TEAD1 &amp; YAP1</td>\n",
       "      <td>14586</td>\n",
       "      <td>1M</td>\n",
       "      <td>FW1</td>\n",
       "      <td>[0, 0, 0, 1, 0]</td>\n",
       "    </tr>\n",
       "    <tr>\n",
       "      <th>2</th>\n",
       "      <td>14586</td>\n",
       "      <td>5545</td>\n",
       "      <td>866</td>\n",
       "      <td>TEAD1 &amp; YAP1</td>\n",
       "      <td>14586</td>\n",
       "      <td>1M</td>\n",
       "      <td>FW1</td>\n",
       "      <td>[0, 0, 0, 1, 0]</td>\n",
       "    </tr>\n",
       "    <tr>\n",
       "      <th>3</th>\n",
       "      <td>14586</td>\n",
       "      <td>5545</td>\n",
       "      <td>866</td>\n",
       "      <td>TEAD1 &amp; YAP1</td>\n",
       "      <td>14586</td>\n",
       "      <td>1M</td>\n",
       "      <td>FW1</td>\n",
       "      <td>[0, 0, 0, 1, 0]</td>\n",
       "    </tr>\n",
       "    <tr>\n",
       "      <th>4</th>\n",
       "      <td>1252</td>\n",
       "      <td>521</td>\n",
       "      <td>13171</td>\n",
       "      <td>TEAD1 &amp; YAP1</td>\n",
       "      <td>0</td>\n",
       "      <td>1M</td>\n",
       "      <td>FW1</td>\n",
       "      <td>[0, 0, 0, 1, 0]</td>\n",
       "    </tr>\n",
       "  </tbody>\n",
       "</table>\n",
       "</div>"
      ],
      "text/plain": [
       "    Cyto     x      y           PPI  Nuclei Condition  FOV           Labels\n",
       "0  14586  5545    866  TEAD1 & YAP1   14586        1M  FW1  [0, 0, 0, 1, 0]\n",
       "1  14586  5545    866  TEAD1 & YAP1   14586        1M  FW1  [0, 0, 0, 1, 0]\n",
       "2  14586  5545    866  TEAD1 & YAP1   14586        1M  FW1  [0, 0, 0, 1, 0]\n",
       "3  14586  5545    866  TEAD1 & YAP1   14586        1M  FW1  [0, 0, 0, 1, 0]\n",
       "4   1252   521  13171  TEAD1 & YAP1       0        1M  FW1  [0, 0, 0, 1, 0]"
      ]
     },
     "execution_count": 9,
     "metadata": {},
     "output_type": "execute_result"
    }
   ],
   "source": [
    "df.head()"
   ]
  },
  {
   "cell_type": "code",
   "execution_count": 10,
   "id": "c6d4fa7d-6710-4a9c-b3fa-d4796653c595",
   "metadata": {},
   "outputs": [
    {
     "data": {
      "image/png": "[encoded data removed]",
      "text/plain": [
       "<Figure size 100x500 with 1 Axes>"
      ]
     },
     "metadata": {},
     "output_type": "display_data"
    }
   ],
   "source": [
    "# legend\n",
    "fig, ax = plt.subplots(figsize=(1,len(PPIs_name)))\n",
    "ax.barh(y=range(len(colors_rgb_dict.values())), \n",
    "        color=np.array(list(colors_rgb_dict.values()))/255,\n",
    "        width=1, \n",
    "        height=1,\n",
    "        edgecolor='k',\n",
    "        linewidth=3,\n",
    "       )\n",
    "\n",
    "_ = plt.yticks(range(len(colors_rgb_dict.values())), colors_rgb_dict.keys(), rotation=0, size=20)\n",
    "_ = plt.xticks([])\n",
    "ax.spines['top'].set_visible(False)\n",
    "ax.spines['right'].set_visible(False)\n",
    "ax.spines['bottom'].set_visible(False)\n",
    "ax.spines['left'].set_visible(False)\n",
    "ax.tick_params(axis=u'both', which=u'both',length=0)\n",
    "# ax.yaxis.tick_right()\n",
    "ax.invert_yaxis()\n",
    "ax.grid(False)"
   ]
  },
  {
   "cell_type": "code",
   "execution_count": 11,
   "id": "f82002c7-db49-42c9-b00f-e41d8ed00a0d",
   "metadata": {},
   "outputs": [
    {
     "name": "stdout",
     "output_type": "stream",
     "text": [
      "Loading graphs\n",
      "Loading contours\n"
     ]
    }
   ],
   "source": [
    "import PLA\n",
    "\n",
    "graph_save_path =  data_dir / 'OCT mouse' / 'Whole' / 'graphs' / 'raw'\n",
    "contour_save_path =  data_dir / 'OCT mouse' / 'Whole' / 'contours'\n",
    "\n",
    "cell_data = PLA.cell_data(contour_save_path, graph_save_path)"
   ]
  },
  {
   "cell_type": "code",
   "execution_count": 12,
   "id": "3e6e343b-6510-436c-9c40-35f487d8faf4",
   "metadata": {
    "tags": []
   },
   "outputs": [
    {
     "name": "stdout",
     "output_type": "stream",
     "text": [
      "{'nuclei', 'labels', 'pos'}\n"
     ]
    }
   ],
   "source": [
    "# Check if graph connected\n",
    "df_subset = cell_data.df.sample(100)\n",
    "for i in range(len(df_subset)):\n",
    "    # Info\n",
    "    row = df_subset.iloc[i]\n",
    "    key = '_'.join(row.iloc[:2])\n",
    "    \n",
    "    cell = row.iloc[2]\n",
    "    \n",
    "    # Get graph\n",
    "    network = read_pkl(row.Path)\n",
    "    \n",
    "    if not nx.is_connected(network):\n",
    "        print(row)\n",
    "        \n",
    "# Print existing node attributes in graph\n",
    "node_attr = {k for attr_dict in network.nodes.data()._nodes.values() for k in attr_dict.keys()}\n",
    "print(node_attr)"
   ]
  },
  {
   "cell_type": "markdown",
   "id": "e392a2ad-af08-4788-b692-0941fed0afac",
   "metadata": {
    "tags": []
   },
   "source": [
    "# Plot Whole FOV PPI network"
   ]
  },
  {
   "cell_type": "code",
   "execution_count": 23,
   "id": "7738d069-f55f-4750-b8c1-4a282d8646af",
   "metadata": {},
   "outputs": [],
   "source": [
    "group = cell_data.df.groupby(['Condition', 'FOV'])"
   ]
  },
  {
   "cell_type": "code",
   "execution_count": 24,
   "id": "1abd8400-db39-4f50-a27a-4598628f49d2",
   "metadata": {},
   "outputs": [],
   "source": [
    "fig_path = fig_dir / 'PPI' / 'OCT mouse' / 'Whole' / 'FOV'\n",
    "fig_path.mkdir(parents=True, exist_ok=True)"
   ]
  },
  {
   "cell_type": "code",
   "execution_count": 29,
   "id": "cf53e3f7-3e76-4953-ba0b-74c4c11cb2b9",
   "metadata": {
    "tags": []
   },
   "outputs": [
    {
     "data": {
      "application/vnd.jupyter.widget-view+json": {
       "model_id": "c79437e5237445ec86abfa913081f50b",
       "version_major": 2,
       "version_minor": 0
      },
      "text/plain": [
       "  0%|          | 0/15583 [00:00<?, ?it/s]"
      ]
     },
     "metadata": {},
     "output_type": "display_data"
    },
    {
     "data": {
      "application/vnd.jupyter.widget-view+json": {
       "model_id": "07c2e5fe891943c1b51ecf55303223bb",
       "version_major": 2,
       "version_minor": 0
      },
      "text/plain": [
       "  0%|          | 0/13909 [00:00<?, ?it/s]"
      ]
     },
     "metadata": {},
     "output_type": "display_data"
    },
    {
     "data": {
      "application/vnd.jupyter.widget-view+json": {
       "model_id": "5910050ecd90483bb188107e8906b03d",
       "version_major": 2,
       "version_minor": 0
      },
      "text/plain": [
       "  0%|          | 0/8435 [00:00<?, ?it/s]"
      ]
     },
     "metadata": {},
     "output_type": "display_data"
    },
    {
     "data": {
      "application/vnd.jupyter.widget-view+json": {
       "model_id": "1e1f3d7be26e49499ec0018e4d2e0249",
       "version_major": 2,
       "version_minor": 0
      },
      "text/plain": [
       "  0%|          | 0/7770 [00:00<?, ?it/s]"
      ]
     },
     "metadata": {},
     "output_type": "display_data"
    },
    {
     "data": {
      "application/vnd.jupyter.widget-view+json": {
       "model_id": "f2e2d32db50e4678b01b0d86d353bdb1",
       "version_major": 2,
       "version_minor": 0
      },
      "text/plain": [
       "  0%|          | 0/3932 [00:00<?, ?it/s]"
      ]
     },
     "metadata": {},
     "output_type": "display_data"
    }
   ],
   "source": [
    "# Loop through Condition FOV\n",
    "for name, df_group in group:\n",
    "    # Get imgs shape \n",
    "    path = df_imgs[(df_imgs.Timepoint == name[0]) & (df_imgs.FOV == name[1])].Path.item()\n",
    "    with h5py.File(path, \"r\") as f:\n",
    "        img_shape = f['imgs'].shape[1:]\n",
    "        \n",
    "    file_name = '_'.join(name)\n",
    "    file_path = fig_path / f'{file_name}.png'\n",
    "    if file_path.exists():\n",
    "        print(file_path)\n",
    "        continue\n",
    "\n",
    "    img_fov = np.zeros(img_shape)\n",
    "    \n",
    "    fig, ax = plt.subplots(figsize=(30,20))\n",
    "    ax.imshow(img_fov, cmap='gray', vmin=0, vmax=255)\n",
    "    ax.axis('off')\n",
    "    ax.set_facecolor('k')\n",
    "\n",
    "    # Get Individual cell\n",
    "    for row in tqdm(df_group.itertuples(), total=len(df_group)):\n",
    "        key = '_'.join(row[1:3])\n",
    "        cell = row[3]\n",
    "        \n",
    "        # Get contours\n",
    "        _, contour_nuclei = get_contours(cell_data.contours, key, cell)\n",
    "        \n",
    "        # Plot contours\n",
    "        plot_contour(None, contour_nuclei, ax, linewidth=0.5)\n",
    "        \n",
    "        # Get graph\n",
    "        network = read_pkl(row.Path)\n",
    "        network.remove_edges_from(list(nx.selfloop_edges(network)))\n",
    "\n",
    "        nuclei = list(nx.get_node_attributes(network, 'nuclei').values())\n",
    "        labels = list(nx.get_node_attributes(network, 'labels').values())\n",
    "        labels = np.argmax(labels, axis=1)\n",
    "        node_colors = [colors_rgb_dict[PPIs_name[i]]/255 for i in labels]\n",
    "        \n",
    "        # Plot network\n",
    "        plot_network(network,  node_colors, ax, node_size=0.3, linewidths=0, edgecolors='w', width=0.15, edge_color='w')\n",
    "    \n",
    "    file_name = '_'.join(name)\n",
    "    fig.savefig(fig_path / f'{file_name}.png', dpi=1500, transparent=True, bbox_inches='tight', pad_inches=0)\n",
    "    plt.close()\n"
   ]
  },
  {
   "cell_type": "code",
   "execution_count": null,
   "id": "0ecde136-e1b0-4830-8246-8f6a4f128fc9",
   "metadata": {},
   "outputs": [],
   "source": []
  }
 ],
 "metadata": {
  "kernelspec": {
   "display_name": "Python [conda env:PLA]",
   "language": "python",
   "name": "conda-env-PLA-py"
  },
  "language_info": {
   "codemirror_mode": {
    "name": "ipython",
    "version": 3
   },
   "file_extension": ".py",
   "mimetype": "text/x-python",
   "name": "python",
   "nbconvert_exporter": "python",
   "pygments_lexer": "ipython3",
   "version": "3.9.16"
  }
 },
 "nbformat": 4,
 "nbformat_minor": 5
}
